{
 "metadata": {
  "name": "2012Feb-IMACS"
 },
 "nbformat": 3,
 "nbformat_minor": 0,
 "worksheets": [
  {
   "cells": [
    {
     "cell_type": "code",
     "collapsed": false,
     "input": [
      "for module in ['hosts', 'targeting', 'magellan']:\n",
      "    if module in globals():\n",
      "        reload(globals()[module])\n",
      "    else:\n",
      "        globals()[module] = __import__(module)"
     ],
     "language": "python",
     "metadata": {},
     "outputs": [
      {
       "output_type": "stream",
       "stream": "stdout",
       "text": [
        "Using cached NSA for file nsa_v0_1_2.fits\n",
        "Using cached NSA for file nsa_v0_1_2.fits\n",
        "Using cached NSA for file nsa_v0_1_2.fits\n",
        "Using cached NSA for file nsa_v0_1_2.fits\n",
        "Using cached NSA for file nsa_v0_1_2.fits\n"
       ]
      }
     ],
     "prompt_number": 6
    },
    {
     "cell_type": "code",
     "collapsed": false,
     "input": [
      "candidates = [hosts.h5, hosts.NSAHost(140594), hosts.NSAHost(13927)]\n",
      "for c in candidates:\n",
      "    c.usnob_environs_query(dl=True)\n",
      "    c.sdss_environs_query(dl=True)"
     ],
     "language": "python",
     "metadata": {},
     "outputs": [
      {
       "output_type": "stream",
       "stream": "stdout",
       "text": [
        "Loading NSA from local file nsa_v0_1_2.fits\n",
        "Using cached NSA for file"
       ]
      },
      {
       "output_type": "stream",
       "stream": "stdout",
       "text": [
        " nsa_v0_1_2.fits\n",
        "File catalogs/DLG5_usnob.dat exists - not downloading anything.\n",
        "File catalogs/DLG5_sdss.dat exists - not downloading anything.\n",
        "File catalogs/NSA140594_usnob.dat exists - not downloading anything.\n",
        "File catalogs/NSA140594_sdss.dat exists - not downloading anything.\n",
        "File catalogs/NSA13927_usnob.dat exists - not downloading anything.\n",
        "File catalogs/NSA13927_sdss.dat exists - not downloading anything.\n"
       ]
      }
     ],
     "prompt_number": 7
    },
    {
     "cell_type": "code",
     "collapsed": false,
     "input": [
      "targeting.select_targets"
     ],
     "language": "python",
     "metadata": {},
     "outputs": [
      {
       "output_type": "pyout",
       "prompt_number": 9,
       "text": [
        "<module 'targeting' from 'targeting.pyc'>"
       ]
      }
     ],
     "prompt_number": 9
    },
    {
     "cell_type": "code",
     "collapsed": false,
     "input": [],
     "language": "python",
     "metadata": {},
     "outputs": []
    }
   ],
   "metadata": {}
  }
 ]
}