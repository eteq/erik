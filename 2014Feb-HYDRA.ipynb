{
 "metadata": {
  "name": ""
 },
 "nbformat": 3,
 "nbformat_minor": 0,
 "worksheets": [
  {
   "cells": [
    {
     "cell_type": "raw",
     "metadata": {},
     "source": [
      "    Target is SW?"
     ]
    },
    {
     "cell_type": "code",
     "collapsed": false,
     "input": [
      "import wiyn\n",
      "import mmthecto\n",
      "import magellan\n",
      "import targeting\n",
      "import hosts\n",
      "\n",
      "from astropy import coordinates as coords\n",
      "from astropy import units as u\n",
      "from astropy.io import ascii"
     ],
     "language": "python",
     "metadata": {},
     "outputs": [
      {
       "output_type": "stream",
       "stream": "stderr",
       "text": [
        "WARNING:astropy:AstropyBackwardsIncompatibleChangeWarning: Using the `ICRSCoordinates` name for this class is deprecated in v0.3, and will be removed in the next version. Use `ICRS` instead.\n"
       ]
      },
      {
       "output_type": "stream",
       "stream": "stdout",
       "text": [
        "WARNING: AstropyBackwardsIncompatibleChangeWarning: Using the `ICRSCoordinates` name for this class is deprecated in v0.3, and will be removed in the next version. Use `ICRS` instead. [astropy.coordinates.old_builtin_systems_names]\n"
       ]
      }
     ],
     "prompt_number": 2
    },
    {
     "cell_type": "code",
     "collapsed": false,
     "input": [
      "reload(targeting)\n",
      "reload(hosts)\n",
      "reload(wiyn)\n",
      "reload(mmthecto)\n",
      "reload(magellan);"
     ],
     "language": "python",
     "metadata": {},
     "outputs": [],
     "prompt_number": 38
    },
    {
     "cell_type": "code",
     "collapsed": false,
     "input": [
      "h = hosts.starwars"
     ],
     "language": "python",
     "metadata": {},
     "outputs": [],
     "prompt_number": 39
    },
    {
     "cell_type": "code",
     "collapsed": false,
     "input": [
      "print h.distmod,h.projected_to_physical(30*u.arcmin)"
     ],
     "language": "python",
     "metadata": {},
     "outputs": [
      {
       "output_type": "stream",
       "stream": "stdout",
       "text": [
        "32.4394873949 268.37672624 kpc\n"
       ]
      }
     ],
     "prompt_number": 40
    },
    {
     "cell_type": "code",
     "collapsed": false,
     "input": [
      "h.usnob_environs_query(dl=True)"
     ],
     "language": "python",
     "metadata": {},
     "outputs": [
      {
       "output_type": "stream",
       "stream": "stdout",
       "text": [
        "File catalogs/NGC5485_usnob.dat exists - not downloading anything.\n"
       ]
      }
     ],
     "prompt_number": 13
    },
    {
     "cell_type": "code",
     "collapsed": false,
     "input": [
      "h.sdss_environs_query(dl=True)"
     ],
     "language": "python",
     "metadata": {},
     "outputs": [
      {
       "output_type": "stream",
       "stream": "stdout",
       "text": [
        "File catalogs/NGC5485_sdss.dat exists - not downloading anything.\n"
       ]
      }
     ],
     "prompt_number": 14
    },
    {
     "cell_type": "code",
     "collapsed": false,
     "input": [
      "fullcat = h.get_sdss_catalog()"
     ],
     "language": "python",
     "metadata": {},
     "outputs": [
      {
       "output_type": "stream",
       "stream": "stdout",
       "text": [
        "Could not find file \"catalogs/StarWars_sdss.dat\" but did find \"catalogs/NGC5485_sdss.dat\" so using that.\n"
       ]
      }
     ],
     "prompt_number": 15
    },
    {
     "cell_type": "code",
     "collapsed": false,
     "input": [
      "# select faintlimit to get ~2 good pointings\n",
      "#fibermag/color cuts based on estimates from 2013Aug\n",
      "#!rm hydra_targets/NGC5485.cat\n",
      "targetcat=dict(faintlimit=19, outercutrad=30*u.arcmin, colorcuts=targeting.bossanova_color_cuts, removeallsdss=True)\n",
      "wiyn.construct_master_catalog(h,targetcat=targetcat, fibermaglimit=22.5) "
     ],
     "language": "python",
     "metadata": {},
     "outputs": [
      {
       "output_type": "stream",
       "stream": "stdout",
       "text": [
        "Removing ALL objects with SDSS spec: 229 of 27599 objects\n",
        "Fiber mag cut removes 19 of 265 objects\n",
        "246 objects\n",
        "72 FOPS\n",
        "USNO/SDSS offsets:"
       ]
      },
      {
       "ename": "ValueError",
       "evalue": "File for generating master catalog hydra_targets/StarWars.cat already exists!",
       "output_type": "pyerr",
       "traceback": [
        "\u001b[0;31m---------------------------------------------------------------------------\u001b[0m\n\u001b[0;31mValueError\u001b[0m                                Traceback (most recent call last)",
        "\u001b[0;32m<ipython-input-19-ecf81eb647bf>\u001b[0m in \u001b[0;36m<module>\u001b[0;34m()\u001b[0m\n\u001b[1;32m      3\u001b[0m \u001b[0;31m#!rm hydra_targets/NGC5485.cat\u001b[0m\u001b[0;34m\u001b[0m\u001b[0;34m\u001b[0m\u001b[0m\n\u001b[1;32m      4\u001b[0m \u001b[0mtargetcat\u001b[0m\u001b[0;34m=\u001b[0m\u001b[0mdict\u001b[0m\u001b[0;34m(\u001b[0m\u001b[0mfaintlimit\u001b[0m\u001b[0;34m=\u001b[0m\u001b[0;36m19\u001b[0m\u001b[0;34m,\u001b[0m \u001b[0moutercutrad\u001b[0m\u001b[0;34m=\u001b[0m\u001b[0;36m30\u001b[0m\u001b[0;34m*\u001b[0m\u001b[0mu\u001b[0m\u001b[0;34m.\u001b[0m\u001b[0marcmin\u001b[0m\u001b[0;34m,\u001b[0m \u001b[0mcolorcuts\u001b[0m\u001b[0;34m=\u001b[0m\u001b[0mtargeting\u001b[0m\u001b[0;34m.\u001b[0m\u001b[0mbossanova_color_cuts\u001b[0m\u001b[0;34m,\u001b[0m \u001b[0mremoveallsdss\u001b[0m\u001b[0;34m=\u001b[0m\u001b[0mTrue\u001b[0m\u001b[0;34m)\u001b[0m\u001b[0;34m\u001b[0m\u001b[0m\n\u001b[0;32m----> 5\u001b[0;31m \u001b[0mwiyn\u001b[0m\u001b[0;34m.\u001b[0m\u001b[0mconstruct_master_catalog\u001b[0m\u001b[0;34m(\u001b[0m\u001b[0mh\u001b[0m\u001b[0;34m,\u001b[0m\u001b[0mtargetcat\u001b[0m\u001b[0;34m=\u001b[0m\u001b[0mtargetcat\u001b[0m\u001b[0;34m,\u001b[0m \u001b[0mfibermaglimit\u001b[0m\u001b[0;34m=\u001b[0m\u001b[0;36m22.5\u001b[0m\u001b[0;34m)\u001b[0m\u001b[0;34m\u001b[0m\u001b[0m\n\u001b[0m",
        "\u001b[0;32m/Users/erik/projects/saga/wiyn.pyc\u001b[0m in \u001b[0;36mconstruct_master_catalog\u001b[0;34m(host, fnout, targetcat, fopcat, skyradec, faintlimit, fibermaglimit)\u001b[0m\n\u001b[1;32m    206\u001b[0m \u001b[0;34m\u001b[0m\u001b[0m\n\u001b[1;32m    207\u001b[0m     \u001b[0;32mif\u001b[0m \u001b[0mos\u001b[0m\u001b[0;34m.\u001b[0m\u001b[0mpath\u001b[0m\u001b[0;34m.\u001b[0m\u001b[0mexists\u001b[0m\u001b[0;34m(\u001b[0m\u001b[0mfnout\u001b[0m\u001b[0;34m)\u001b[0m\u001b[0;34m:\u001b[0m\u001b[0;34m\u001b[0m\u001b[0m\n\u001b[0;32m--> 208\u001b[0;31m         \u001b[0;32mraise\u001b[0m \u001b[0mValueError\u001b[0m\u001b[0;34m(\u001b[0m\u001b[0;34m'File for generating master catalog {0} already exists!'\u001b[0m\u001b[0;34m.\u001b[0m\u001b[0mformat\u001b[0m\u001b[0;34m(\u001b[0m\u001b[0mfnout\u001b[0m\u001b[0;34m)\u001b[0m\u001b[0;34m)\u001b[0m\u001b[0;34m\u001b[0m\u001b[0m\n\u001b[0m\u001b[1;32m    209\u001b[0m \u001b[0;34m\u001b[0m\u001b[0m\n\u001b[1;32m    210\u001b[0m     \u001b[0;32mprint\u001b[0m \u001b[0;34m'Constucting catalog in'\u001b[0m\u001b[0;34m,\u001b[0m \u001b[0mfnout\u001b[0m\u001b[0;34m\u001b[0m\u001b[0m\n",
        "\u001b[0;31mValueError\u001b[0m: File for generating master catalog hydra_targets/StarWars.cat already exists!"
       ]
      },
      {
       "output_type": "stream",
       "stream": "stdout",
       "text": [
        " -0.105703939784 0.288622525854\n"
       ]
      }
     ],
     "prompt_number": 19
    },
    {
     "cell_type": "code",
     "collapsed": false,
     "input": [
      "#need to manually remove some galaxies from FOP list by editing the master catalog\n",
      "wiyn.imagelist_from_master('hydra_targets/NGC5485.cat','fop', copytoclipboard=False, openurl=True);"
     ],
     "language": "python",
     "metadata": {},
     "outputs": [],
     "prompt_number": 188
    },
    {
     "cell_type": "code",
     "collapsed": false,
     "input": [
      "#repeat this to make 3 configs, running do_whydra on turtle each time\n",
      "wiyn.generate_ast_file('hydra_targets/{h.name}.cat'.format(**locals()), \n",
      "                       lst=11,texp=2, faintmagcut=19, scpname='turtle')"
     ],
     "language": "python",
     "metadata": {},
     "outputs": [
      {
       "output_type": "stream",
       "stream": "stdout",
       "text": [
        "Using existing catalogs ['hydra_targets/NGC5485_1.hydra', 'hydra_targets/NGC5485_2.hydra'] for removing from master\n",
        "Writing to hydra_targets/NGC5485_3.ast\n",
        "SCP commands:\n",
        "scp hydra_targets/NGC5485_3.ast terrapin:/home/ejt26/hydra_simulator/whydra\n",
        "scp \"terrapin:/home/ejt26/hydra_simulator/whydra/NGC5485_3.hydra\" hydra_targets\n"
       ]
      }
     ],
     "prompt_number": 201
    },
    {
     "cell_type": "code",
     "collapsed": false,
     "input": [
      "#repeat this to make 3 *more* configs, but with a fainter limit, running do_whydra on turtle each time\n",
      "wiyn.generate_ast_file('hydra_targets/{h.name}.cat'.format(**locals()), \n",
      "                       lst=11,texp=2, faintmagcut=19.5, scpname='turtle')"
     ],
     "language": "python",
     "metadata": {},
     "outputs": [
      {
       "output_type": "stream",
       "stream": "stdout",
       "text": [
        "Using existing catalogs ['hydra_targets/NGC5485_1.hydra', 'hydra_targets/NGC5485_2.hydra', 'hydra_targets/NGC5485_3.hydra', 'hydra_targets/NGC5485_4.hydra', 'hydra_targets/NGC5485_5.hydra'] for removing from master\n",
        "Writing to hydra_targets/NGC5485_6.ast\n",
        "SCP commands:\n",
        "scp hydra_targets/NGC5485_6.ast turtle:/home/ejt26/hydra_simulator/whydra\n",
        "scp \"turtle:/home/ejt26/hydra_simulator/whydra/NGC5485_6.hydra\" hydra_targets\n"
       ]
      }
     ],
     "prompt_number": 205
    },
    {
     "cell_type": "code",
     "collapsed": false,
     "input": [
      "wiyn.generate_wiyn_cache('hydra_targets/jan14.cachelist', 'hydra_targets/NGC5485*.hydra')"
     ],
     "language": "python",
     "metadata": {},
     "outputs": [],
     "prompt_number": 206
    },
    {
     "cell_type": "code",
     "collapsed": false,
     "input": [
      "wiyn.imagelist_fibers('hydra_targets/NGC5485_1.hydra','target');"
     ],
     "language": "python",
     "metadata": {},
     "outputs": [],
     "prompt_number": 217
    }
   ],
   "metadata": {}
  }
 ]
}