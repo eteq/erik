{
 "cells": [
  {
   "cell_type": "markdown",
   "metadata": {},
   "source": [
    "Note - the cells with cutouts are mostly cleared to make this load in a reasonable time.  But they are saved in git if you want to recover them."
   ]
  },
  {
   "cell_type": "code",
   "execution_count": 1,
   "metadata": {},
   "outputs": [],
   "source": [
    "import os\n",
    "import sys\n",
    "import urllib\n",
    "from collections import defaultdict\n",
    "\n",
    "import requests\n",
    "\n",
    "import numpy as np\n",
    "\n",
    "from astropy import units as u\n",
    "from astropy import table\n",
    "from astropy.coordinates import SkyCoord, EarthLocation, get_sun\n",
    "from astropy.time import Time\n",
    "from astropy.io import fits\n",
    "\n",
    "import astroquery\n",
    "\n",
    "from importlib import reload\n",
    "\n",
    "%matplotlib inline\n",
    "from matplotlib import style, pyplot as plt"
   ]
  },
  {
   "cell_type": "markdown",
   "metadata": {},
   "source": [
    "# Initial setup "
   ]
  },
  {
   "cell_type": "code",
   "execution_count": 2,
   "metadata": {},
   "outputs": [
    {
     "name": "stdout",
     "output_type": "stream",
     "text": [
      "/Users/erik/projects/saga/saga\n",
      "running build\n",
      "running build_py\n",
      "/Users/erik/projects/saga/erik\n"
     ]
    }
   ],
   "source": [
    "working_dir = os.path.abspath('..')\n",
    "\n",
    "%cd ../../saga\n",
    "sagadir = !pwd\n",
    "sagadir = sagadir[0]\n",
    "!python setup.py build\n",
    "%cd $working_dir"
   ]
  },
  {
   "cell_type": "code",
   "execution_count": 6,
   "metadata": {},
   "outputs": [
    {
     "name": "stdout",
     "output_type": "stream",
     "text": [
      "Adding /Users/erik/projects/saga/saga/build/lib to the python path\n"
     ]
    },
    {
     "data": {
      "text/plain": [
       "'0.6.22'"
      ]
     },
     "execution_count": 6,
     "metadata": {},
     "output_type": "execute_result"
    }
   ],
   "source": [
    "sagalibdir = os.path.join(sagadir, 'build/lib')\n",
    "print('Adding', sagalibdir, 'to the python path')\n",
    "sys.path.insert(0, sagalibdir)\n",
    "\n",
    "import SAGA as saga\n",
    "from SAGA.database import external \n",
    "saga.__version__"
   ]
  },
  {
   "cell_type": "code",
   "execution_count": 7,
   "metadata": {},
   "outputs": [
    {
     "name": "stdout",
     "output_type": "stream",
     "text": [
      "Downloading https://docs.google.com/spreadsheets/d/1b3k2eyFjHFDtmHce1xi6JKuj3ATOWYduTBFftx5oPp8/export?format=csv&gid=1471095077 [Done]\n"
     ]
    }
   ],
   "source": [
    "saga_database = saga.Database(os.path.join(os.environ['HOME'],'Dropbox/SAGA/'))\n",
    "\n",
    "saga_host_catalog = saga.HostCatalog(saga_database)\n",
    "saga_object_catalog = saga.ObjectCatalog(saga_database)"
   ]
  },
  {
   "cell_type": "code",
   "execution_count": 8,
   "metadata": {},
   "outputs": [],
   "source": [
    "hosts_to_load = 'aat_2018'\n",
    "host_id_label = 'ID_STR'\n",
    "targethosts = saga_host_catalog.load(hosts_to_load)\n",
    "targethosts[host_id_label] = saga_host_catalog.resolve_id(hosts_to_load, 'string')"
   ]
  },
  {
   "cell_type": "code",
   "execution_count": 9,
   "metadata": {},
   "outputs": [],
   "source": [
    "obs_start_date = Time('2018-6-10')"
   ]
  },
  {
   "cell_type": "markdown",
   "metadata": {},
   "source": [
    "# Downloading of catalogs"
   ]
  },
  {
   "cell_type": "code",
   "execution_count": 10,
   "metadata": {},
   "outputs": [
    {
     "name": "stdout",
     "output_type": "stream",
     "text": [
      "[06/12 15:14:48] Getting catalog for host nsa141465 ...\n",
      "[06/12 15:14:48] Getting catalog for host nsa165082 ...\n",
      "[06/12 15:14:48] Getting catalog for host nsa145398 ...\n",
      "[06/12 15:14:48] Getting catalog for host nsa145729 ...\n",
      "[06/12 15:14:48] Getting catalog for host nsa145879 ...\n",
      "# failed = 0\n"
     ]
    }
   ],
   "source": [
    "sdsshosts = saga_host_catalog.load('flag0')\n",
    "sdsshosts[host_id_label] = saga_host_catalog.resolve_id('flag0', 'string')\n",
    "hosts_todl = targethosts[np.in1d(targethosts[host_id_label], sdsshosts[host_id_label])]\n",
    "\n",
    "\n",
    "failed = external.download_catalogs_for_hosts(hosts_todl, external.SdssQuery, \n",
    "                                              saga_database.sdss_file_path_pattern, \n",
    "                                              overwrite=False, \n",
    "                                              host_id_label=host_id_label)\n",
    "print('# failed =', np.count_nonzero(failed))"
   ]
  },
  {
   "cell_type": "code",
   "execution_count": 11,
   "metadata": {},
   "outputs": [
    {
     "name": "stdout",
     "output_type": "stream",
     "text": [
      "[06/12 15:14:49] Getting catalog for host pgc2052 ...\n",
      "[06/12 15:14:49] Getting catalog for host pgc3089 ...\n",
      "[06/12 15:14:49] Getting catalog for host pgc64427 ...\n",
      "[06/12 15:14:49] Getting catalog for host pgc66318 ...\n",
      "[06/12 15:14:49] Getting catalog for host pgc66934 ...\n",
      "[06/12 15:14:49] Getting catalog for host pgc67146 ...\n",
      "[06/12 15:14:49] Getting catalog for host pgc67663 ...\n",
      "[06/12 15:14:49] Getting catalog for host pgc67817 ...\n",
      "[06/12 15:14:49] Getting catalog for host pgc68128 ...\n",
      "[06/12 15:14:49] Getting catalog for host pgc69521 ...\n",
      "[06/12 15:14:49] Getting catalog for host pgc70094 ...\n",
      "[06/12 15:14:49] Getting catalog for host pgc71548 ...\n",
      "[06/12 15:14:49] Getting catalog for host pgc71729 ...\n",
      "# failed = 0\n"
     ]
    }
   ],
   "source": [
    "deshosts = saga_host_catalog.load('has_des')\n",
    "deshosts[host_id_label] = saga_host_catalog.resolve_id('has_des', 'string')\n",
    "hosts_todl = targethosts[np.in1d(targethosts[host_id_label], deshosts[host_id_label])]\n",
    "\n",
    "failed = external.download_catalogs_for_hosts(hosts_todl, external.DesQuery, \n",
    "                                              saga_database.des_file_path_pattern, \n",
    "                                              overwrite=False, \n",
    "                                              host_id_label=host_id_label)\n",
    "print('# failed =', np.count_nonzero(failed))"
   ]
  },
  {
   "cell_type": "code",
   "execution_count": 12,
   "metadata": {},
   "outputs": [
    {
     "name": "stdout",
     "output_type": "stream",
     "text": [
      "[06/12 15:14:50] Getting catalog for host nsa3469 ...\n",
      "[06/12 15:14:50] Getting catalog for host nsa141465 ...\n",
      "[06/12 15:14:50] Getting catalog for host nsa165082 ...\n",
      "[06/12 15:14:50] Getting catalog for host nsa145398 ...\n",
      "[06/12 15:14:50] Getting catalog for host nsa145729 ...\n",
      "[06/12 15:14:50] Getting catalog for host nsa145879 ...\n",
      "# failed = 0\n"
     ]
    }
   ],
   "source": [
    "decalshosts = saga_host_catalog.load('has_decals')\n",
    "decalshosts[host_id_label] = saga_host_catalog.resolve_id('has_decals', 'string')\n",
    "hosts_todl = targethosts[np.in1d(targethosts[host_id_label], decalshosts[host_id_label])]\n",
    "\n",
    "failed = external.download_catalogs_for_hosts(hosts_todl, external.DecalsPrebuilt, \n",
    "                                              saga_database.decals_file_path_pattern, \n",
    "                                              overwrite=False, \n",
    "                                              host_id_label=host_id_label)\n",
    "print('# failed =', np.count_nonzero(failed))"
   ]
  },
  {
   "cell_type": "markdown",
   "metadata": {},
   "source": [
    "## Base catalogs if needed"
   ]
  },
  {
   "cell_type": "code",
   "execution_count": 394,
   "metadata": {},
   "outputs": [
    {
     "name": "stdout",
     "output_type": "stream",
     "text": [
      "[06/11 21:29:53] Base catalog v2 for pgc2052 already exists. (1/19)\n",
      "[06/11 21:29:53] Base catalog v2 for pgc3089 already exists. (2/19)\n",
      "[06/11 21:29:53] Base catalog v2 for nsa3469 already exists. (3/19)\n",
      "[06/11 21:29:53] Base catalog v2 for nsa141465 already exists. (4/19)\n",
      "[06/11 21:29:53] Base catalog v2 for nsa165082 already exists. (5/19)\n",
      "[06/11 21:29:53] Base catalog v2 for nsa145398 already exists. (6/19)\n",
      "[06/11 21:29:53] Base catalog v2 for nsa145729 already exists. (7/19)\n",
      "[06/11 21:29:53] Base catalog v2 for nsa145879 already exists. (8/19)\n",
      "[06/11 21:29:53] Base catalog v2 for pgc64427 already exists. (9/19)\n",
      "[06/11 21:29:53] Base catalog v2 for pgc66318 already exists. (10/19)\n",
      "[06/11 21:29:53] Base catalog v2 for pgc66934 already exists. (11/19)\n",
      "[06/11 21:29:53] Base catalog v2 for pgc67146 already exists. (12/19)\n",
      "[06/11 21:29:53] Base catalog v2 for pgc67663 already exists. (13/19)\n",
      "[06/11 21:29:53] Base catalog v2 for pgc67817 already exists. (14/19)\n",
      "[06/11 21:29:53] Base catalog v2 for pgc68128 already exists. (15/19)\n",
      "[06/11 21:29:53] Base catalog v2 for pgc69521 already exists. (16/19)\n",
      "[06/11 21:29:53] Base catalog v2 for pgc70094 already exists. (17/19)\n",
      "[06/11 21:29:53] Base catalog v2 for pgc71548 already exists. (18/19)\n",
      "[06/11 21:29:53] Base catalog v2 for pgc71729 already exists. (19/19)\n"
     ]
    }
   ],
   "source": [
    "saga_object_catalog.build_and_write_to_database('aat_2018', overwrite=False)"
   ]
  },
  {
   "cell_type": "markdown",
   "metadata": {},
   "source": [
    "# Generate AAT-appropriate target catalogs "
   ]
  },
  {
   "cell_type": "code",
   "execution_count": 13,
   "metadata": {},
   "outputs": [
    {
     "name": "stdout",
     "output_type": "stream",
     "text": [
      "Downloading https://docs.google.com/spreadsheets/d/1Z8HISgp6ScJ0YZiFK5_TrGDZXY9t2OL3hkCSFJUiC6w/export?format=csv&gid=0 [Done]\n"
     ]
    }
   ],
   "source": [
    "saga_database['manual_targets_aat2018a'].local.path = 'aat_targets_jun2018/manual_targets.csv'\n",
    "\n",
    "saga_targets = saga.TargetSelection(saga_database, \n",
    "                                    manual_selected_objids='manual_targets_aat2018a',\n",
    "                                    gmm_parameters={'sdss':'gmm_parameters_no_outlier', \n",
    "                                                    'des': 'gmm_parameters_no_outlier_no_u'}, \n",
    "                                    version=2)\n",
    "\n",
    "acats = {}\n",
    "tcats = {}"
   ]
  },
  {
   "cell_type": "code",
   "execution_count": 14,
   "metadata": {},
   "outputs": [],
   "source": [
    "def get_gaia_guidestars(hostname, magrng=(12.5, 13.5),\n",
    "                        matchmagrng=(16, 17), d_matchmag=1, matchtol0=1*u.arcsec,\n",
    "                        verbose=True, neighbor_cut=30*u.arcsec, nmagdown=4.5):\n",
    "    \"\"\"\n",
    "    `magrng` is the range of magnitudes to actually select on.  It's ~r-band, based on the\n",
    "    Evans et al. 2018 r-to-G conversion\n",
    "    \"\"\"\n",
    "    print = __builtin__.print\n",
    "    if not verbose:\n",
    "        print = lambda *args, **kwargs:None\n",
    "        \n",
    "    host = saga_host_catalog.load_single(hostname)\n",
    "    obj_cat = saga_object_catalog.load(hostname)[0]\n",
    "    omag = obj_cat['r_mag']\n",
    "    gaia_cat = table.Table.read('external_catalogs/astrometric/{}_gaia.ecsv'.format(hostname))\n",
    "    gaia_sc = SkyCoord(gaia_cat['ra'], gaia_cat['dec'])\n",
    "    gmag = gaia_cat['phot_g_mean_mag']\n",
    "    \n",
    "    omsk = (matchmagrng[0]<omag)&(omag<matchmagrng[1])\n",
    "    gmsk = ((matchmagrng[0]-d_matchmag)<gmag)&(gmag<(matchmagrng[1]+d_matchmag))\n",
    "    oscmsk = obj_cat['coord'][omsk]\n",
    "    gscmsk = gaia_sc[gmsk]\n",
    "    \n",
    "    idx, d2d, _ = oscmsk.match_to_catalog_sky(gscmsk)\n",
    "    sepmsk = d2d < matchtol0\n",
    "    \n",
    "    dra = (oscmsk[sepmsk].ra - gscmsk[idx][sepmsk].ra).to(u.arcsec)\n",
    "    ddec = (oscmsk[sepmsk].dec - gscmsk[idx][sepmsk].dec).to(u.arcsec)\n",
    "    offset = np.mean(dra), np.mean(ddec)\n",
    "    \n",
    "    print(\"Object catalog to Gaia offset:\", offset, 'from', np.sum(sepmsk), \n",
    "          'objects ({:.1%})'.format(np.sum(sepmsk)/len(sepmsk)))\n",
    "    \n",
    "    #this polynomial is from Evans et al. 2018 for the G to r conversion\n",
    "    Gmr_coeffs = (-0.1856, 0.1579, 0.02738, -0.0550)\n",
    "    Gmr = np.polyval(Gmr_coeffs[::-1], gaia_cat['bp_rp'])\n",
    "    gaia_cat['g_as_r_mag'] = gmag - Gmr\n",
    "    \n",
    "    gmsk = (magrng[0] < gaia_cat['g_as_r_mag'])&(gaia_cat['g_as_r_mag'] < magrng[1])\n",
    "    gstars = gaia_cat[gmsk]\n",
    "    print('Found', len(gstars), 'Gaia guide stars')\n",
    "    \n",
    "    if neighbor_cut is not None:\n",
    "        possible_neighbor_stars = gaia_cat[gaia_cat['g_as_r_mag'] < magrng[1]+nmagdown]\n",
    "        nsc = SkyCoord(possible_neighbor_stars['ra'], possible_neighbor_stars['dec'])\n",
    "        gsc = SkyCoord(gstars['ra'], gstars['dec'])\n",
    "        idx, d2d, _ = gsc.match_to_catalog_sky(nsc, 2)\n",
    "        neighbor_present = d2d < neighbor_cut\n",
    "        print(np.sum(neighbor_present), 'Have a brightish neighbor.  Removing them.')\n",
    "        gstars = gstars[~neighbor_present]\n",
    "\n",
    "    tab = table.Table({\n",
    "        'TargetName': gstars['source_id'],\n",
    "        'RA': (u.Quantity(gstars['ra']) + offset[0]),\n",
    "        'Dec': (u.Quantity(gstars['dec']) + offset[1]),\n",
    "        'TargetType': np.repeat('F', len(gstars)),\n",
    "        'Priority': np.repeat(9, len(gstars)),\n",
    "        'Magnitude':gstars['g_as_r_mag'],\n",
    "        '0': np.repeat(0, len(gstars)),\n",
    "        'Notes': np.repeat('guide_gaia', len(gstars)),\n",
    "    })\n",
    "    tab.meta['dra'] = dra\n",
    "    tab.meta['ddec'] = ddec\n",
    "    tab.meta['offset'] = offset\n",
    "    tab.meta['gstarcat'] = gstars\n",
    "    return tab"
   ]
  },
  {
   "cell_type": "code",
   "execution_count": 63,
   "metadata": {},
   "outputs": [],
   "source": [
    "def get_sdss_guidestars(hostname):\n",
    "    host = saga_host_catalog.load_single(hostname)\n",
    "    obj_cat = saga_object_catalog.load(hostname)[0]\n",
    "    r = obj_cat['r_mag']\n",
    "    msk = (12.5<r)&(r<14)&~obj_cat['is_galaxy']&(obj_cat['RHOST_ARCM']>15)\n",
    "    starcat = obj_cat[msk]\n",
    "    \n",
    "    print('Found', len(starcat), 'SDSS guide stars')\n",
    "    \n",
    "    return table.Table({\n",
    "        'TargetName': starcat['OBJID'],\n",
    "        'RA': starcat['RA'],\n",
    "        'Dec': starcat['DEC'],\n",
    "        'TargetType': np.repeat('F', len(starcat)),\n",
    "        'Priority': np.repeat(9, len(starcat)),\n",
    "        'Magnitude': starcat['r_mag'],\n",
    "        '0': np.repeat(0, len(starcat)),\n",
    "        'Notes': np.repeat('guide', len(starcat)),\n",
    "    })"
   ]
  },
  {
   "cell_type": "code",
   "execution_count": 269,
   "metadata": {},
   "outputs": [],
   "source": [
    "from astropy.coordinates import Angle\n",
    "\n",
    "def write_fld_file(target_catalog, host, obstime, fn):\n",
    "    hostname = host[host_id_label]\n",
    "    target_catalog.write(fn,\n",
    "                         delimiter=' ',\n",
    "                         quotechar='\"',\n",
    "                         format='ascii.fast_commented_header',\n",
    "                         overwrite=True,\n",
    "                         formats={\n",
    "                            'RA': lambda x: Angle(x, 'deg').wrap_at(360*u.deg).to_string('hr', sep=' ', precision=2), # pylint: disable=E1101\n",
    "                            'Dec': lambda x: Angle(x, 'deg').to_string('deg', sep=' ', precision=2),\n",
    "                            'Magnitude': '%.2f',\n",
    "                         })\n",
    "    with open(fn) as fh:\n",
    "        content = fh.read()\n",
    "    with open(fn, 'w') as fh:\n",
    "        fh.write('LABEL ' + hostname + ' master catalog\\n')\n",
    "        fh.write('UTDATE  {yr} {mo:02} {day:02}\\n'.format(yr=obstime.datetime.year,\n",
    "                                                        mo=obstime.datetime.month,\n",
    "                                                        day=obstime.datetime.day))\n",
    "        censtr = host['coord'].to_string('hmsdms', sep=' ', precision=2, alwayssign=True)\n",
    "        fh.write('CENTRE  ' + censtr + '\\n')\n",
    "        fh.write('EQUINOX J2000.0\\n')\n",
    "        fh.write('# End of Header\\n\\n')\n",
    "        fh.write(content.replace('\"', ''))\n",
    "        \n",
    "\n",
    "def subsample_catalog(catalog, prilimits=None, maxflux=np.inf, maxguides=np.inf, maxsky=np.inf, verbose=True):\n",
    "    \"\"\"\n",
    "    Subsamples the catalog, limiting the number in a given priority set\n",
    "    \n",
    "    ``prilimits`` should be a dictionary mapping priority number to the maximum number of\n",
    "    objects in that priority.  If it is None, no limits will be used.\n",
    "    \"\"\"\n",
    "    \n",
    "    \n",
    "    msks = [catalog['Notes']==notestr for notestr in ('Flux', 'Sky')]\n",
    "    msks.append(np.array([n.lower().startswith('guide') for n in catalog['Notes']]))\n",
    "    maxns = [maxflux, maxsky, maxguides]\n",
    "    \n",
    "    \n",
    "    \n",
    "    if prilimits is not None:\n",
    "        for pri, maxn in prilimits.items():\n",
    "            msks.append(catalog['Priority']==pri)\n",
    "            maxns.append(maxn)\n",
    "            \n",
    "    idxs_to_rem = []\n",
    "    for msk, maxn in zip(msks, maxns):\n",
    "        ntorem = np.sum(msk) - maxn\n",
    "        if ntorem >= 1:\n",
    "            idxs = np.where(msk)[0]\n",
    "            idxs_to_rem.append(np.random.permutation(idxs)[:ntorem])\n",
    "    subcat = catalog.copy()\n",
    "    if idxs_to_rem:\n",
    "        del subcat[np.concatenate(idxs_to_rem)]\n",
    "    \n",
    "    if verbose:\n",
    "        npris = dict(enumerate(np.bincount(subcat['Priority'][subcat['Notes']=='Targets'])))\n",
    "        npris = {k:v for k,v in npris.items() if v>0}\n",
    "        print('Nflux:', np.sum(subcat['Notes']=='Flux'), \n",
    "              'Nguide:', np.sum([n.lower().startswith('guide') for n in subcat['Notes']]), \n",
    "              'NSky', np.sum(subcat['Notes']=='Sky'))\n",
    "        print('Targets in each priority:', npris)\n",
    "        print('Total:', len(subcat))\n",
    "        \n",
    "    return subcat"
   ]
  },
  {
   "cell_type": "code",
   "execution_count": 17,
   "metadata": {},
   "outputs": [],
   "source": [
    "def infer_radec_cols(table):\n",
    "    raname = decname = None\n",
    "    for cnm in table.colnames:\n",
    "        if cnm.lower()=='ra':\n",
    "            raname = cnm\n",
    "        elif cnm.lower()=='dec':\n",
    "            decname = cnm\n",
    "    return raname, decname"
   ]
  },
  {
   "cell_type": "code",
   "execution_count": 18,
   "metadata": {},
   "outputs": [],
   "source": [
    "def make_decals_viewer_cutouts(table, survey='sdss', ncols=3, zoom=15, size=120, namecol=None, dhtml=True):\n",
    "    \"\"\"\n",
    "    Zoom of 15 is ~1\"/pixel, so ~2' across with defaults\n",
    "    \"\"\"\n",
    "    template_url = 'http://legacysurvey.org/viewer/jpeg-cutout/?ra={ra:.7}&dec={dec:.7}&zoom={zoom}&layer={layer}&size={size}'\n",
    "    \n",
    "    raname, decname = infer_radec_cols(table)\n",
    "    \n",
    "    entries = []\n",
    "    for row in table:\n",
    "        imgurl = template_url.format(ra=row[raname], dec=row[decname], layer=survey, size=size, zoom=zoom)\n",
    "        viewurl = 'http://legacysurvey.org/viewer?ra={}&dec={}'.format(row[raname], row[decname])\n",
    "        \n",
    "        namestr = '' if namecol is None else (str(row[namecol]) + '<br>')\n",
    "        entries.append('{}<a href=\"{}\"><img src=\"{}\"></a>'.format(namestr, viewurl, imgurl))\n",
    "        \n",
    "    entryrows = [[]]\n",
    "    while entries:\n",
    "        entry = entries.pop(0)\n",
    "        if len(entryrows[-1]) >= ncols:\n",
    "            entryrows.append([])\n",
    "        entryrows[-1].append(entry)\n",
    "    entryrows[-1].extend(['']*(ncols-len(entryrows[-1])))\n",
    "    \n",
    "    tabrows = ['<td>{}</td>'.format('</td><td>'.join(erow)) for erow in entryrows]\n",
    "\n",
    "    htmlstr = \"\"\"\n",
    "    <table>\n",
    "    <tr>{}</tr>\n",
    "    </table>\n",
    "    \"\"\".format('</tr>\\n<tr>'.join(tabrows))\n",
    "\n",
    "    if dhtml:\n",
    "        from IPython import display\n",
    "        return display.HTML(htmlstr)\n",
    "    else:\n",
    "        return htmlstr"
   ]
  },
  {
   "cell_type": "code",
   "execution_count": 143,
   "metadata": {},
   "outputs": [],
   "source": [
    "def make_des_cutouts_file(table, copytoclipboard=True, showtable=False):\n",
    "    raname, decname = infer_radec_cols(table)\n",
    "    \n",
    "    entries = []\n",
    "    for row in table:\n",
    "        entries.append('{:.5f},{:.5f}'.format(row[raname], row[decname]))\n",
    "        \n",
    "    htmlstr = \"\"\"\n",
    "    Paste the coords in \"Enter values\" at  \n",
    "    <a href=\"https://des.ncsa.illinois.edu/easyweb/cutouts\">the DES cutout service</a>,\n",
    "    and change the size to 0.3 arcmin\n",
    "    \"\"\"\n",
    "    tablestr = \"\"\"<br>\n",
    "    <table>\n",
    "    <tr><td>{}</td></tr>\n",
    "    </table>\n",
    "    \"\"\".format('</td></tr>\\n<tr><td>'.join(entries))\n",
    "    if showtable:\n",
    "        htmlstr += tablestr\n",
    "    \n",
    "    if copytoclipboard:\n",
    "        import platform\n",
    "        text = '\\n'.join(entries)\n",
    "        if platform.system() == 'Darwin':\n",
    "            clipproc = os.popen('pbcopy', 'w')\n",
    "            clipproc.write(text)\n",
    "            clipproc.close()\n",
    "            print('Copied to clipboard')\n",
    "        elif platform.system() == 'Linux':\n",
    "            clipproc = os.popen('xsel -i', 'w')\n",
    "            clipproc.write(text)\n",
    "            clipproc.close()\n",
    "            print('Copied to clipboard')\n",
    "        else:\n",
    "            raise OSError(\"Not on a mac or linux, so can't use clipboard. \")\n",
    "        \n",
    "    from IPython import display\n",
    "    return display.HTML(htmlstr)\n",
    "    \n",
    "def show_des_cutouts(table, jobname, username='eteq', ncols=3, namecol=None, force_size=(128, 128), dhtml=True):\n",
    "    base_url = 'https://des.ncsa.illinois.edu'\n",
    "    \n",
    "    list_url = base_url + '/easyweb/static/workdir/{}/{}/list.json'.format(username, jobname)\n",
    "    print(list_url)\n",
    "    list_json = requests.get(list_url).json()\n",
    "    img_urls = [base_url+img['name'] for img in list_json]\n",
    "    \n",
    "    if len(table) != len(img_urls):\n",
    "        raise ValueError('table and job length do not match!')\n",
    "    raname, decname = infer_radec_cols(table)\n",
    "    \n",
    "    sizestr = '' if force_size is None else ('height=\"{}\" width=\"{}\"'.format(force_size[1], force_size[0]))\n",
    "    entries = []\n",
    "    for row, imgurl in zip(table, img_urls):\n",
    "        viewurl = 'http://legacysurvey.org/viewer?ra={}&dec={}'.format(row[raname], row[decname])\n",
    "        \n",
    "        namestr = '' if namecol is None else (str(row[namecol]) + '<br>')\n",
    "        entries.append('{}<a href=\"{}\"><img src=\"{}\"{}></a>'.format(namestr, viewurl, imgurl, sizestr))\n",
    "        \n",
    "    entryrows = [[]]\n",
    "    while entries:\n",
    "        entry = entries.pop(0)\n",
    "        if len(entryrows[-1]) >= ncols:\n",
    "            entryrows.append([])\n",
    "        entryrows[-1].append(entry)\n",
    "    entryrows[-1].extend(['']*(ncols-len(entryrows[-1])))\n",
    "    \n",
    "    tabrows = ['<td>{}</td>'.format('</td><td>'.join(erow)) for erow in entryrows]\n",
    "\n",
    "    htmlstr = \"\"\"\n",
    "    <table>\n",
    "    <tr>{}</tr>\n",
    "    </table>\n",
    "    \"\"\".format('</tr>\\n<tr>'.join(tabrows))\n",
    "\n",
    "    if dhtml:\n",
    "        from IPython import display\n",
    "        return display.HTML(htmlstr)\n",
    "    else:\n",
    "        return htmlstr\n"
   ]
  },
  {
   "cell_type": "markdown",
   "metadata": {},
   "source": [
    "# Night 1"
   ]
  },
  {
   "cell_type": "code",
   "execution_count": 26,
   "metadata": {},
   "outputs": [],
   "source": [
    "import aat"
   ]
  },
  {
   "cell_type": "code",
   "execution_count": 190,
   "metadata": {},
   "outputs": [
    {
     "data": {
      "text/html": [
       "<i>Table masked=True length=1</i>\n",
       "<table id=\"table113587416872\" class=\"table-striped table-bordered table-condensed\">\n",
       "<thead><tr><th>SAGA_name</th><th>NSAID</th><th>RA</th><th>Dec</th><th>PGC</th><th>NSA1ID</th><th>NGC</th><th>UGC</th><th>vhelio</th><th>distance</th><th>r</th><th>i</th><th>z</th><th>I</th><th>K</th><th>K_err</th><th>flag</th><th>K_abs</th><th>r_abs</th><th>b</th><th>dist_to_group</th><th>brightest_K_nearby</th><th>SDSS_FRACGOOD</th><th>RA_sub</th><th>Dec_sub</th><th>othername</th><th>vhelio_sub</th><th>vhelio_err</th><th>distance_sub</th><th>dist_2MASS_NSA</th><th>u</th><th>u_err</th><th>A_u</th><th>M_u</th><th>g</th><th>g_err</th><th>A_g</th><th>M_g</th><th>r_sub</th><th>r_err</th><th>A_r</th><th>M_r</th><th>i_sub</th><th>i_err</th><th>A_i</th><th>M_i</th><th>z_sub</th><th>z_err</th><th>A_z</th><th>M_z</th><th>J</th><th>J_err</th><th>A_J</th><th>M_J</th><th>H</th><th>H_err</th><th>A_H</th><th>M_H</th><th>K_sub</th><th>K_err_sub</th><th>A_K</th><th>M_K</th><th>stellar_mass</th><th>sersic_n</th><th>MK_compiled</th><th>des_dr1</th><th>decals_dr5</th><th>decals_dr6</th><th>coord</th><th>ID_STR</th></tr></thead>\n",
       "<thead><tr><th></th><th></th><th></th><th></th><th></th><th></th><th></th><th></th><th></th><th></th><th></th><th></th><th></th><th></th><th></th><th></th><th></th><th></th><th></th><th></th><th></th><th></th><th></th><th></th><th></th><th></th><th></th><th></th><th></th><th></th><th></th><th></th><th></th><th></th><th></th><th></th><th></th><th></th><th></th><th></th><th></th><th></th><th></th><th></th><th></th><th></th><th></th><th></th><th></th><th></th><th></th><th></th><th></th><th></th><th></th><th></th><th></th><th></th><th></th><th></th><th></th><th></th><th></th><th></th><th></th><th></th><th></th><th></th><th>deg,deg</th><th></th></tr></thead>\n",
       "<thead><tr><th>str11</th><th>int64</th><th>float64</th><th>float64</th><th>int64</th><th>int64</th><th>int64</th><th>int64</th><th>float64</th><th>float64</th><th>float64</th><th>float64</th><th>float64</th><th>float64</th><th>float64</th><th>float64</th><th>int64</th><th>float64</th><th>float64</th><th>float64</th><th>float64</th><th>float64</th><th>float64</th><th>float64</th><th>float64</th><th>str16</th><th>float64</th><th>int64</th><th>float64</th><th>float64</th><th>float64</th><th>float64</th><th>float64</th><th>float64</th><th>float64</th><th>float64</th><th>float64</th><th>float64</th><th>float64</th><th>float64</th><th>float64</th><th>float64</th><th>float64</th><th>float64</th><th>float64</th><th>float64</th><th>float64</th><th>float64</th><th>float64</th><th>float64</th><th>float64</th><th>float64</th><th>float64</th><th>float64</th><th>float64</th><th>float64</th><th>float64</th><th>float64</th><th>float64</th><th>float64</th><th>float64</th><th>float64</th><th>int64</th><th>float64</th><th>float64</th><th>float64</th><th>float64</th><th>float64</th><th>object</th><th>str9</th></tr></thead>\n",
       "<tr><td>--</td><td>3469</td><td>185.975</td><td>-3.44293</td><td>40284</td><td>19609</td><td>4348</td><td>-1</td><td>2004.28</td><td>29.8369</td><td>12.7268</td><td>12.3164</td><td>11.9917</td><td>11.64</td><td>8.899</td><td>0.023</td><td>16416</td><td>-23.4748</td><td>-19.647</td><td>58.7146</td><td>3.91973</td><td>--</td><td>0.814071</td><td>185.975</td><td>-3.44293</td><td>12235398-0326345</td><td>2004.28</td><td>-1</td><td>29.8369</td><td>0.115617</td><td>14.4597</td><td>0.00366845</td><td>0.150456</td><td>-18.0852</td><td>12.8953</td><td>0.000715916</td><td>0.117234</td><td>-19.6124</td><td>12.0373</td><td>0.000568001</td><td>0.0811022</td><td>-20.4264</td><td>11.5849</td><td>0.000714507</td><td>0.0602676</td><td>-20.8572</td><td>11.225</td><td>0.00106884</td><td>0.044828</td><td>-21.2002</td><td>9.977</td><td>0.014</td><td>0.0251648</td><td>-22.4216</td><td>9.272</td><td>0.013</td><td>0.0159365</td><td>-23.1188</td><td>8.912</td><td>0.021</td><td>0.010719</td><td>-23.4597</td><td>10200000000</td><td>1.40497</td><td>-23.4748</td><td>0.0</td><td>1.0</td><td>0.0</td><td>185.975,-3.44293</td><td>nsa3469</td></tr>\n",
       "</table>"
      ],
      "text/plain": [
       "<Table masked=True length=1>\n",
       "SAGA_name NSAID    RA     Dec    ... decals_dr6      coord        ID_STR\n",
       "                                 ...                deg,deg             \n",
       "  str11   int64 float64 float64  ...  float64        object        str9 \n",
       "--------- ----- ------- -------- ... ---------- ---------------- -------\n",
       "       --  3469 185.975 -3.44293 ...        0.0 185.975,-3.44293 nsa3469"
      ]
     },
     "execution_count": 190,
     "metadata": {},
     "output_type": "execute_result"
    }
   ],
   "source": [
    "targethosts[targethosts['NSAID'] == 3469]"
   ]
  },
  {
   "cell_type": "markdown",
   "metadata": {},
   "source": [
    "## nsa3469"
   ]
  },
  {
   "cell_type": "code",
   "execution_count": 99,
   "metadata": {},
   "outputs": [
    {
     "name": "stdout",
     "output_type": "stream",
     "text": [
      "nsa3469\n",
      "# of flux stars = 143\n",
      "# of sky fibers = 100\n",
      "# of Priority=1 targets = 561\n",
      "# of Priority=2 targets = 9\n",
      "# of Priority=3 targets = 16\n",
      "# of Priority=4 targets = 50\n",
      "# of Priority=5 targets = 511\n",
      "# of Priority=6 targets = 144\n",
      "# of Priority=7 targets = 4\n",
      "# of Priority=8 targets = 0\n",
      "# of Priority=9 targets = 243\n"
     ]
    },
    {
     "name": "stderr",
     "output_type": "stream",
     "text": [
      "/Users/erik/projects/saga/saga/build/lib/SAGA/objects/object_catalog.py:54: RuntimeWarning: invalid value encountered in subtract\n",
      "  table[color] = table['{}_mag'.format(color[0])] - table['{}_mag'.format(color[1])]\n",
      "/Users/erik/miniconda3/envs/saga3/lib/python3.6/site-packages/astropy/table/column.py:965: RuntimeWarning: invalid value encountered in greater\n",
      "  return getattr(self.data, op)(other)\n",
      "/Users/erik/miniconda3/envs/saga3/lib/python3.6/site-packages/astropy/table/column.py:965: RuntimeWarning: invalid value encountered in less\n",
      "  return getattr(self.data, op)(other)\n"
     ]
    },
    {
     "name": "stdout",
     "output_type": "stream",
     "text": [
      "Writing aat_targets_jun2018/nsa3469_master.fld\n"
     ]
    }
   ],
   "source": [
    "for host in targethosts[targethosts['NSAID'] == 3469]:\n",
    "    hostname = host[host_id_label]\n",
    "    print(hostname)\n",
    "    tcat = saga_targets.build_target_catalogs(hostname, return_as='list').pop()\n",
    "    acat = saga.targets.prepare_aat_catalog(tcat)\n",
    "    \n",
    "    guidestars = get_sdss_guidestars(hostname)\n",
    "    writecat = table.vstack([acat, guidestars])\n",
    "    \n",
    "    fnout = 'aat_targets_jun2018/{}_master.fld'.format(hostname)\n",
    "    print('Writing', fnout)\n",
    "    writecat['Notes'] = [n.title() for n in writecat['Notes']]\n",
    "    write_fld_file(writecat, host, obs_start_date, fnout)"
   ]
  },
  {
   "cell_type": "code",
   "execution_count": 27,
   "metadata": {},
   "outputs": [
    {
     "name": "stdout",
     "output_type": "stream",
     "text": [
      "Total remaining in each priority (5 fluxes, 141 guides, and 100 skies not included):\n",
      "{1: 561, 2: 9, 3: 16, 4: 50, 5: 511, 6: 144, 7: 4, 8: 0, 9: 0}\n",
      "{1: 100.0, 2: 100.0, 3: 100.0, 4: 100.0, 5: 100.0, 6: 100.0, 7: 100.0, 8: None, 9: None}%\n"
     ]
    }
   ],
   "source": [
    "aat.subsample_from_master_fld('aat_targets_jun2018/nsa3469_master.fld', \n",
    "                              'aat_targets_jun2018/nsa3469_1.fld',\n",
    "                             {1:0,2:np.inf,3:np.inf,4:np.inf,\n",
    "                              5:np.inf,6:np.inf,7:np.inf,8:np.inf,9:np.inf},\n",
    "                              nflux=5)"
   ]
  },
  {
   "cell_type": "markdown",
   "metadata": {},
   "source": [
    "Note: was not able to inspect the skies *before* observing.  Below is to know which might be a problem"
   ]
  },
  {
   "cell_type": "code",
   "execution_count": null,
   "metadata": {},
   "outputs": [],
   "source": [
    "make_decals_viewer_cutouts(acat[acat['Notes']=='sky'], survey='decals-dr5', ncols=6, \n",
    "                           zoom=16, namecol='TargetName')"
   ]
  },
  {
   "cell_type": "markdown",
   "metadata": {},
   "source": [
    "7, 22, 81, and 76 remove for future.  None used in true config."
   ]
  },
  {
   "cell_type": "markdown",
   "metadata": {},
   "source": [
    "## nsa145729"
   ]
  },
  {
   "cell_type": "code",
   "execution_count": 102,
   "metadata": {},
   "outputs": [
    {
     "name": "stdout",
     "output_type": "stream",
     "text": [
      "nsa145729\n",
      "# of flux stars = 318\n",
      "# of sky fibers = 100\n",
      "# of Priority=1 targets = 536\n",
      "# of Priority=2 targets = 16\n",
      "# of Priority=3 targets = 14\n",
      "# of Priority=4 targets = 50\n",
      "# of Priority=5 targets = 259\n",
      "# of Priority=6 targets = 105\n",
      "# of Priority=7 targets = 3\n",
      "# of Priority=8 targets = 2\n",
      "# of Priority=9 targets = 418\n",
      "Writing aat_targets_jun2018/nsa145729_master.fld\n"
     ]
    },
    {
     "name": "stderr",
     "output_type": "stream",
     "text": [
      "/Users/erik/miniconda3/envs/saga3/lib/python3.6/site-packages/astropy/table/column.py:965: RuntimeWarning: invalid value encountered in greater\n",
      "  return getattr(self.data, op)(other)\n",
      "/Users/erik/miniconda3/envs/saga3/lib/python3.6/site-packages/astropy/table/column.py:965: RuntimeWarning: invalid value encountered in less\n",
      "  return getattr(self.data, op)(other)\n"
     ]
    }
   ],
   "source": [
    "for host in targethosts[targethosts['NSAID'] == 145729]:\n",
    "    hostname = host[host_id_label]\n",
    "    print(hostname)\n",
    "    tcat = saga_targets.build_target_catalogs(hostname, return_as='list').pop()\n",
    "    acat = saga.targets.prepare_aat_catalog(tcat)\n",
    "    #acat = saga.targets.prepare_aat_catalog(tcat, 'aat_targets_jun2018/{}.cat'.format(hostname))\n",
    "    \n",
    "    guidestars = get_sdss_guidestars(hostname)\n",
    "    writecat = table.vstack([acat, guidestars])\n",
    "    \n",
    "    fnout = 'aat_targets_jun2018/{}_master.fld'.format(hostname)\n",
    "    print('Writing', fnout)\n",
    "    writecat['Notes'] = [n.title() for n in writecat['Notes']]\n",
    "    write_fld_file(writecat, host, obs_start_date, fnout)"
   ]
  },
  {
   "cell_type": "code",
   "execution_count": 83,
   "metadata": {},
   "outputs": [
    {
     "name": "stdout",
     "output_type": "stream",
     "text": [
      "Total remaining in each priority (5 fluxes, 196 guides, and 100 skies not included):\n",
      "{1: 536, 2: 16, 3: 14, 4: 50, 5: 259, 6: 105, 7: 3, 8: 2, 9: 0}\n",
      "{1: 100.0, 2: 100.0, 3: 100.0, 4: 100.0, 5: 100.0, 6: 100.0, 7: 100.0, 8: 100.0, 9: None}%\n"
     ]
    }
   ],
   "source": [
    "aat.subsample_from_master_fld('aat_targets_jun2018/nsa145729_master.fld', \n",
    "                              'aat_targets_jun2018/nsa145729_1.fld',\n",
    "                             {1:np.inf,2:np.inf,3:np.inf,4:np.inf,\n",
    "                              5:np.inf,6:np.inf,7:np.inf,8:np.inf,9:np.inf},\n",
    "                              nflux=5)"
   ]
  },
  {
   "cell_type": "code",
   "execution_count": 251,
   "metadata": {},
   "outputs": [
    {
     "data": {
      "text/plain": [
       "'name ra dec\\n1237655693551797043 224.28362499999997 -1.0167166666666667\\n1237648702984356321 224.20654166666662 -1.0672416666666666\\n1237655499210425196 224.52899999999997 -1.6290027777777778\\n1237655499210424420 224.49804166666664 -1.5100833333333332\\n1237648703521489922 224.88395833333328 -0.6706027777777778\\n1237648703521489868 224.8677083333333 -0.6261666666666666\\n1237655692478251284 224.83333333333331 -1.8719555555555556\\n1237655693015253946 225.08166666666665 -1.3044916666666666\\n3255080000000003744 225.0220833333333 -0.9379694444444444\\n1237648702984880207 225.44270833333331 -1.098197222222222\\n1237648703521554976 225.01366666666664 -0.73385\\n1237648702984159385 223.8535833333333 -1.0734861111111111\\n3283850000000001411 224.38399999999996 -0.5618666666666667\\n3269470000000001139 224.9160833333333 -0.8147527777777778\\n3298240000000003919 224.08645833333333 -0.23843333333333333\\n1237648703521685692 225.35679166666665 -0.79815\\n1237648704058425599 224.98370833333328 -0.411225\\n41 225.60841666666664 -1.3943944444444445\\n1237655499747360993 224.61799999999997 -1.15065\\n3240680000000000710 225.05416666666665 -1.3373249999999999\\n1237648703521292700 224.42874999999995 -0.7972611111111111\\n1237648702984357019 224.30279166666662 -1.1576972222222222\\n1237648720176677740 225.03449999999998 -0.8429500000000001\\n1237655499210555857 224.7526666666666 -1.6377027777777777\\n3226260000000002817 224.74670833333332 -1.4950305555555556'"
      ]
     },
     "execution_count": 251,
     "metadata": {},
     "output_type": "execute_result"
    }
   ],
   "source": [
    "aat.imagelist_fld_targets('aat_targets_jun2018/{}_1.fld'.format(hostname))"
   ]
  },
  {
   "cell_type": "code",
   "execution_count": null,
   "metadata": {},
   "outputs": [],
   "source": [
    "make_decals_viewer_cutouts(acat[acat['Notes']=='sky'], survey='decals-dr5', ncols=6, \n",
    "                           zoom=16, namecol='TargetName')"
   ]
  },
  {
   "cell_type": "markdown",
   "metadata": {},
   "source": [
    "If future obs come up, removing 93, 76, 43, 15, 29.  None on actual observed config."
   ]
  },
  {
   "cell_type": "markdown",
   "metadata": {},
   "source": [
    "## pgc66318"
   ]
  },
  {
   "cell_type": "code",
   "execution_count": 248,
   "metadata": {},
   "outputs": [
    {
     "name": "stdout",
     "output_type": "stream",
     "text": [
      "pgc66318\n",
      "# of flux stars = 427\n",
      "# of sky fibers = 150\n",
      "# of Priority=1 targets = 203\n",
      "# of Priority=2 targets = 80\n",
      "# of Priority=3 targets = 105\n",
      "# of Priority=4 targets = 50\n",
      "# of Priority=5 targets = 181\n",
      "# of Priority=6 targets = 86\n",
      "# of Priority=7 targets = 16\n",
      "# of Priority=8 targets = 30\n",
      "# of Priority=9 targets = 577\n",
      "Object catalog to Gaia offset: (<Angle -0.08669275 arcsec>, <Angle 0.07036883 arcsec>)\n",
      "Found 421 Gaia guide stars\n",
      "7 Have a brightish neighbor.  Removing them.\n",
      "Writing aat_targets_jun2018/pgc66318_master.fld\n"
     ]
    }
   ],
   "source": [
    "for host in targethosts[targethosts['PGC'] == 66318]:\n",
    "    hostname = host[host_id_label]\n",
    "    print(hostname)\n",
    "    tcat = saga_targets.build_target_catalogs(hostname, return_as='list').pop()\n",
    "    acat = saga.targets.prepare_aat_catalog(tcat, sky_fiber_needed=150)\n",
    "    \n",
    "    guidestars = get_gaia_guidestars(hostname)\n",
    "    writecat = table.vstack([acat, guidestars])\n",
    "    \n",
    "    fnout = 'aat_targets_jun2018/{}_master.fld'.format(hostname)\n",
    "    print('Writing', fnout)\n",
    "    writecat['Notes'] = [n.title() for n in writecat['Notes']]\n",
    "    write_fld_file(writecat, host, obs_start_date, fnout)"
   ]
  },
  {
   "cell_type": "markdown",
   "metadata": {},
   "source": [
    "Visually check guide stars and sky fibers.  Remove any skies that are bad."
   ]
  },
  {
   "cell_type": "code",
   "execution_count": null,
   "metadata": {},
   "outputs": [],
   "source": [
    "make_decals_viewer_cutouts(guidestars[np.random.permutation(len(guidestars))[:24]], survey='unwise-w1w2',ncols=6,namecol='TargetName')"
   ]
  },
  {
   "cell_type": "code",
   "execution_count": null,
   "metadata": {},
   "outputs": [],
   "source": [
    "make_decals_viewer_cutouts(acat[acat['Notes']=='sky'], survey='unwise-w1w2', ncols=6, \n",
    "                           zoom=16, namecol='TargetName')"
   ]
  },
  {
   "cell_type": "markdown",
   "metadata": {},
   "source": [
    "Removing 0 18 23 37 50 56 59 68 69 73 86 87 91 94 99 110 114 115 120 122 126 132 134 138 143 147 148"
   ]
  },
  {
   "cell_type": "code",
   "execution_count": 252,
   "metadata": {},
   "outputs": [
    {
     "name": "stdout",
     "output_type": "stream",
     "text": [
      "Total remaining in each priority (5 fluxes, 100 guides, and 123 skies not included):\n",
      "{1: 203, 2: 80, 3: 105, 4: 50, 5: 181, 6: 86, 7: 16, 8: 30, 9: 0}\n",
      "{1: 100.0, 2: 100.0, 3: 100.0, 4: 100.0, 5: 100.0, 6: 100.0, 7: 100.0, 8: 100.0, 9: None}%\n"
     ]
    }
   ],
   "source": [
    "aat.subsample_from_master_fld('aat_targets_jun2018/{}_master.fld'.format(hostname), \n",
    "                              'aat_targets_jun2018/{}_1.fld'.format(hostname),\n",
    "                             {1:np.inf,2:np.inf,3:np.inf,4:np.inf,\n",
    "                              5:np.inf,6:np.inf,7:np.inf,8:np.inf,9:np.inf},\n",
    "                              nflux=5, nguides=100)"
   ]
  },
  {
   "cell_type": "markdown",
   "metadata": {},
   "source": [
    "Note that `aat_targets_jun2018/pgc66318_1.fld` ended up getting made *before* the sky-fiber cleanup due to time constraints.  But it appears that the fibers assigned to the actual observations are clear?"
   ]
  },
  {
   "cell_type": "markdown",
   "metadata": {},
   "source": [
    "## pgc66934"
   ]
  },
  {
   "cell_type": "code",
   "execution_count": 46,
   "metadata": {},
   "outputs": [
    {
     "name": "stdout",
     "output_type": "stream",
     "text": [
      "pgc66934\n",
      "# of flux stars = 268\n",
      "# of sky fibers = 100\n",
      "# of Priority=1 targets = 241\n",
      "# of Priority=2 targets = 135\n",
      "# of Priority=3 targets = 94\n",
      "# of Priority=4 targets = 50\n",
      "# of Priority=5 targets = 170\n",
      "# of Priority=6 targets = 65\n",
      "# of Priority=7 targets = 18\n",
      "# of Priority=8 targets = 20\n",
      "# of Priority=9 targets = 368\n",
      "Object catalog to Gaia offset: (<Angle -0.12299029 arcsec>, <Angle 0.1454588 arcsec>)\n",
      "Writing aat_targets_jun2018/pgc66934_master.fld\n"
     ]
    }
   ],
   "source": [
    "for host in targethosts[targethosts['PGC'] == 66934]:\n",
    "    hostname = host[host_id_label]\n",
    "    print(hostname)\n",
    "    tcat = saga_targets.build_target_catalogs(hostname, return_as='list').pop()\n",
    "    acat = saga.targets.prepare_aat_catalog(tcat)\n",
    "    \n",
    "    guidestars = get_gaia_guidestars(hostname)\n",
    "    writecat = table.vstack([acat, guidestars])\n",
    "    \n",
    "    fnout = 'aat_targets_jun2018/{}_master.fld'.format(hostname)\n",
    "    print('Writing', fnout)\n",
    "    writecat['Notes'] = [n.title() for n in writecat['Notes']]\n",
    "    write_fld_file(writecat, host, obs_start_date, fnout)"
   ]
  },
  {
   "cell_type": "code",
   "execution_count": null,
   "metadata": {},
   "outputs": [],
   "source": [
    "make_decals_viewer_cutouts(guidestars[np.random.permutation(len(guidestars))[:24]], \n",
    "                           survey='unwise-w1w2',ncols=6,namecol='TargetName')"
   ]
  },
  {
   "cell_type": "markdown",
   "metadata": {},
   "source": [
    "6576299790145393152 is problematic because it's right next to a much brighter star.  Will remove."
   ]
  },
  {
   "cell_type": "code",
   "execution_count": null,
   "metadata": {},
   "outputs": [],
   "source": [
    "make_decals_viewer_cutouts(acat[acat['Notes']=='sky'], survey='unwise-w1w2', ncols=6, \n",
    "                           zoom=16, namecol='TargetName')"
   ]
  },
  {
   "cell_type": "markdown",
   "metadata": {},
   "source": [
    "Removing 13, 16, 26, 28, 57, 59"
   ]
  },
  {
   "cell_type": "code",
   "execution_count": 62,
   "metadata": {},
   "outputs": [
    {
     "name": "stdout",
     "output_type": "stream",
     "text": [
      "Total remaining in each priority (5 fluxes, 100 guides, and 94 skies not included):\n",
      "{1: 241, 2: 135, 3: 94, 4: 50, 5: 170, 6: 65, 7: 18, 8: 20, 9: 0}\n",
      "{1: 100.0, 2: 100.0, 3: 100.0, 4: 100.0, 5: 100.0, 6: 100.0, 7: 100.0, 8: 100.0, 9: None}%\n"
     ]
    }
   ],
   "source": [
    "aat.subsample_from_master_fld('aat_targets_jun2018/{}_master.fld'.format(hostname), \n",
    "                              'aat_targets_jun2018/{}_1.fld'.format(hostname),\n",
    "                             {1:np.inf,2:np.inf,3:np.inf,4:np.inf,\n",
    "                              5:np.inf,6:np.inf,7:np.inf,8:np.inf,9:np.inf},\n",
    "                              nflux=5, nguides=100)"
   ]
  },
  {
   "cell_type": "markdown",
   "metadata": {},
   "source": [
    "## PGC 2052 "
   ]
  },
  {
   "cell_type": "code",
   "execution_count": 164,
   "metadata": {},
   "outputs": [
    {
     "name": "stdout",
     "output_type": "stream",
     "text": [
      "pgc2052\n",
      "# of flux stars = 70\n",
      "# of sky fibers = 100\n",
      "# of Priority=1 targets = 748\n",
      "# of Priority=2 targets = 12\n",
      "# of Priority=3 targets = 82\n",
      "# of Priority=4 targets = 50\n",
      "# of Priority=5 targets = 556\n",
      "# of Priority=6 targets = 243\n",
      "# of Priority=7 targets = 38\n",
      "# of Priority=8 targets = 23\n",
      "# of Priority=9 targets = 170\n",
      "Object catalog to Gaia offset: (<Angle -0.19705932 arcsec>, <Angle 0.12130509 arcsec>)\n",
      "Found 186 Gaia guide stars\n",
      "4 Have a brightish neighbor.  Removing them.\n",
      "Writing aat_targets_jun2018/pgc2052_master.fld\n"
     ]
    }
   ],
   "source": [
    "for host in targethosts[targethosts['PGC'] == 2052]:\n",
    "    hostname = host[host_id_label]\n",
    "    print(hostname)\n",
    "    tcat = saga_targets.build_target_catalogs(hostname, return_as='list').pop()\n",
    "    acat = saga.targets.prepare_aat_catalog(tcat)\n",
    "    \n",
    "    guidestars = get_gaia_guidestars(hostname)\n",
    "    writecat = table.vstack([acat, guidestars])\n",
    "    \n",
    "    fnout = 'aat_targets_jun2018/{}_master.fld'.format(hostname)\n",
    "    print('Writing', fnout)\n",
    "    writecat['Notes'] = [n.title() for n in writecat['Notes']]\n",
    "    write_fld_file(writecat, host, obs_start_date, fnout)"
   ]
  },
  {
   "cell_type": "code",
   "execution_count": null,
   "metadata": {},
   "outputs": [],
   "source": [
    "make_decals_viewer_cutouts(guidestars[np.random.permutation(len(guidestars))[:24]], \n",
    "                           survey='unwise-w1w2',ncols=6,namecol='TargetName')"
   ]
  },
  {
   "cell_type": "code",
   "execution_count": null,
   "metadata": {},
   "outputs": [],
   "source": [
    "make_decals_viewer_cutouts(acat[acat['Notes']=='sky'], survey='unwise-w1w2', ncols=6, \n",
    "                           zoom=16, namecol='TargetName')"
   ]
  },
  {
   "cell_type": "markdown",
   "metadata": {},
   "source": [
    "Removed 17, 28, 50, 81, 91"
   ]
  },
  {
   "cell_type": "code",
   "execution_count": 168,
   "metadata": {},
   "outputs": [
    {
     "name": "stdout",
     "output_type": "stream",
     "text": [
      "Total remaining in each priority (5 fluxes, 100 guides, and 95 skies not included):\n",
      "{1: 748, 2: 12, 3: 82, 4: 50, 5: 556, 6: 243, 7: 38, 8: 23, 9: 0}\n",
      "{1: 100.0, 2: 100.0, 3: 100.0, 4: 100.0, 5: 100.0, 6: 100.0, 7: 100.0, 8: 100.0, 9: None}%\n"
     ]
    }
   ],
   "source": [
    "aat.subsample_from_master_fld('aat_targets_jun2018/{}_master.fld'.format(hostname), \n",
    "                              'aat_targets_jun2018/{}_1.fld'.format(hostname),\n",
    "                             {1:0,2:np.inf,3:np.inf,4:np.inf,\n",
    "                              5:np.inf,6:np.inf,7:np.inf,8:np.inf,9:np.inf},\n",
    "                              nflux=5, nguides=100)"
   ]
  },
  {
   "cell_type": "markdown",
   "metadata": {},
   "source": [
    "# Night 2 "
   ]
  },
  {
   "cell_type": "code",
   "execution_count": 26,
   "metadata": {},
   "outputs": [],
   "source": [
    "import aat"
   ]
  },
  {
   "cell_type": "markdown",
   "metadata": {},
   "source": [
    "## nsa141465 "
   ]
  },
  {
   "cell_type": "code",
   "execution_count": 223,
   "metadata": {},
   "outputs": [
    {
     "name": "stdout",
     "output_type": "stream",
     "text": [
      "nsa141465\n",
      "# of flux stars = 128\n",
      "# of sky fibers = 100\n",
      "# of Priority=1 targets = 331\n",
      "# of Priority=2 targets = 7\n",
      "# of Priority=3 targets = 14\n",
      "# of Priority=4 targets = 50\n",
      "# of Priority=5 targets = 228\n",
      "# of Priority=6 targets = 95\n",
      "# of Priority=7 targets = 7\n",
      "# of Priority=8 targets = 2\n",
      "# of Priority=9 targets = 228\n"
     ]
    },
    {
     "name": "stderr",
     "output_type": "stream",
     "text": [
      "/Users/erik/miniconda3/envs/saga3/lib/python3.6/site-packages/astropy/table/column.py:965: RuntimeWarning: invalid value encountered in greater\n",
      "  return getattr(self.data, op)(other)\n",
      "/Users/erik/miniconda3/envs/saga3/lib/python3.6/site-packages/astropy/table/column.py:965: RuntimeWarning: invalid value encountered in less\n",
      "  return getattr(self.data, op)(other)\n"
     ]
    },
    {
     "name": "stdout",
     "output_type": "stream",
     "text": [
      "Writing aat_targets_jun2018/nsa141465_master.fld\n"
     ]
    }
   ],
   "source": [
    "for host in targethosts[targethosts['NSAID'] == 141465]:\n",
    "    hostname = host[host_id_label]\n",
    "    print(hostname)\n",
    "    tcats[hostname] = tcat = saga_targets.build_target_catalogs(hostname, return_as='list').pop()\n",
    "    acats[hostname] = acat = saga.targets.prepare_aat_catalog(tcat)\n",
    "    \n",
    "    guidestars = get_sdss_guidestars(hostname)\n",
    "    writecat = table.vstack([acat, guidestars])\n",
    "    \n",
    "    fnout = 'aat_targets_jun2018/{}_master.fld'.format(hostname)\n",
    "    print('Writing', fnout)\n",
    "    writecat['Notes'] = [n.title() for n in writecat['Notes']]\n",
    "    write_fld_file(writecat, host, obs_start_date, fnout)"
   ]
  },
  {
   "cell_type": "code",
   "execution_count": null,
   "metadata": {},
   "outputs": [],
   "source": [
    "make_decals_viewer_cutouts(guidestars[np.random.permutation(len(guidestars))], \n",
    "                           survey='sdss',ncols=6,namecol='TargetName')"
   ]
  },
  {
   "cell_type": "markdown",
   "metadata": {},
   "source": [
    "Remove 1237650762930913293, 1237648702968102985, 1237650762930913292"
   ]
  },
  {
   "cell_type": "code",
   "execution_count": null,
   "metadata": {},
   "outputs": [],
   "source": [
    "make_decals_viewer_cutouts(acat[acat['Notes']=='sky'], survey='sdss', ncols=6, \n",
    "                           zoom=16, namecol='TargetName')"
   ]
  },
  {
   "cell_type": "markdown",
   "metadata": {},
   "source": [
    "Remove 16"
   ]
  },
  {
   "cell_type": "code",
   "execution_count": 235,
   "metadata": {},
   "outputs": [
    {
     "name": "stdout",
     "output_type": "stream",
     "text": [
      "Total remaining in each priority (5 fluxes, 100 guides, and 99 skies not included):\n",
      "{1: 331, 2: 7, 3: 14, 4: 50, 5: 228, 6: 95, 7: 7, 8: 2, 9: 0}\n",
      "{1: 100.0, 2: 100.0, 3: 100.0, 4: 100.0, 5: 100.0, 6: 100.0, 7: 100.0, 8: 100.0, 9: None}%\n"
     ]
    }
   ],
   "source": [
    "aat.subsample_from_master_fld('aat_targets_jun2018/{}_master.fld'.format(hostname), \n",
    "                              'aat_targets_jun2018/{}_1.fld'.format(hostname),\n",
    "                             {1:np.inf,2:np.inf,3:np.inf,4:np.inf,\n",
    "                              5:np.inf,6:np.inf,7:np.inf,8:np.inf,9:np.inf},\n",
    "                              nflux=5, nguides=100)"
   ]
  },
  {
   "cell_type": "markdown",
   "metadata": {},
   "source": [
    "## nsa145879 "
   ]
  },
  {
   "cell_type": "code",
   "execution_count": 238,
   "metadata": {},
   "outputs": [
    {
     "name": "stdout",
     "output_type": "stream",
     "text": [
      "nsa145879\n"
     ]
    },
    {
     "name": "stderr",
     "output_type": "stream",
     "text": [
      "/Users/erik/projects/saga/saga/build/lib/SAGA/objects/object_catalog.py:54: RuntimeWarning: invalid value encountered in subtract\n",
      "  table[color] = table['{}_mag'.format(color[0])] - table['{}_mag'.format(color[1])]\n"
     ]
    },
    {
     "name": "stdout",
     "output_type": "stream",
     "text": [
      "# of flux stars = 283\n",
      "# of sky fibers = 100\n",
      "# of Priority=1 targets = 696\n",
      "# of Priority=2 targets = 32\n",
      "# of Priority=3 targets = 35\n",
      "# of Priority=4 targets = 50\n",
      "# of Priority=5 targets = 516\n",
      "# of Priority=6 targets = 205\n",
      "# of Priority=7 targets = 8\n",
      "# of Priority=8 targets = 0\n",
      "# of Priority=9 targets = 383\n"
     ]
    },
    {
     "name": "stderr",
     "output_type": "stream",
     "text": [
      "/Users/erik/miniconda3/envs/saga3/lib/python3.6/site-packages/astropy/table/column.py:965: RuntimeWarning: invalid value encountered in greater\n",
      "  return getattr(self.data, op)(other)\n",
      "/Users/erik/miniconda3/envs/saga3/lib/python3.6/site-packages/astropy/table/column.py:965: RuntimeWarning: invalid value encountered in less\n",
      "  return getattr(self.data, op)(other)\n"
     ]
    },
    {
     "name": "stdout",
     "output_type": "stream",
     "text": [
      "Writing aat_targets_jun2018/nsa145879_master.fld\n"
     ]
    }
   ],
   "source": [
    "for host in targethosts[targethosts['NSAID'] == 145879]:\n",
    "    hostname = host[host_id_label]\n",
    "    print(hostname)\n",
    "    tcats[hostname] = tcat = saga_targets.build_target_catalogs(hostname, return_as='list').pop()\n",
    "    acats[hostname] = acat = saga.targets.prepare_aat_catalog(tcat)\n",
    "    \n",
    "    guidestars = get_sdss_guidestars(hostname)\n",
    "    writecat = table.vstack([acat, guidestars])\n",
    "    \n",
    "    fnout = 'aat_targets_jun2018/{}_master.fld'.format(hostname)\n",
    "    print('Writing', fnout)\n",
    "    writecat['Notes'] = [n.title() for n in writecat['Notes']]\n",
    "    write_fld_file(writecat, host, obs_start_date, fnout)"
   ]
  },
  {
   "cell_type": "code",
   "execution_count": null,
   "metadata": {},
   "outputs": [],
   "source": [
    "make_decals_viewer_cutouts(guidestars[np.random.permutation(len(guidestars))], \n",
    "                           survey='sdss',ncols=6,namecol='TargetName')"
   ]
  },
  {
   "cell_type": "markdown",
   "metadata": {},
   "source": [
    "Remove 1237655467525144674  1237655467524620357 1237648704596082789 1237648704596279461 1237655468061556867 1237648704596082818 1237648705669824621 1237648705669824675"
   ]
  },
  {
   "cell_type": "code",
   "execution_count": null,
   "metadata": {},
   "outputs": [],
   "source": [
    "make_decals_viewer_cutouts(acat[acat['Notes']=='sky'], survey='sdss', ncols=6, \n",
    "                           zoom=16, namecol='TargetName')"
   ]
  },
  {
   "cell_type": "markdown",
   "metadata": {},
   "source": [
    "Remove 53 54 66 70"
   ]
  },
  {
   "cell_type": "code",
   "execution_count": 243,
   "metadata": {},
   "outputs": [
    {
     "name": "stdout",
     "output_type": "stream",
     "text": [
      "Total remaining in each priority (5 fluxes, 100 guides, and 96 skies not included):\n",
      "{1: 696, 2: 32, 3: 35, 4: 50, 5: 516, 6: 205, 7: 8, 8: 0, 9: 0}\n",
      "{1: 100.0, 2: 100.0, 3: 100.0, 4: 100.0, 5: 100.0, 6: 100.0, 7: 100.0, 8: None, 9: None}%\n"
     ]
    }
   ],
   "source": [
    "aat.subsample_from_master_fld('aat_targets_jun2018/{}_master.fld'.format(hostname), \n",
    "                              'aat_targets_jun2018/{}_1.fld'.format(hostname),\n",
    "                             {1:0,2:np.inf,3:np.inf,4:np.inf,\n",
    "                              5:np.inf,6:np.inf,7:np.inf,8:np.inf,9:np.inf},\n",
    "                              nflux=5, nguides=100)"
   ]
  },
  {
   "cell_type": "markdown",
   "metadata": {},
   "source": [
    "## pgc66318"
   ]
  },
  {
   "cell_type": "markdown",
   "metadata": {},
   "source": [
    "Didn't get it in night 1, so re-doing it.  But re-working files with improvements to the Gaia star-finding function."
   ]
  },
  {
   "cell_type": "code",
   "execution_count": 295,
   "metadata": {},
   "outputs": [
    {
     "name": "stdout",
     "output_type": "stream",
     "text": [
      "pgc66318\n",
      "# of flux stars = 427\n",
      "# of sky fibers = 125\n",
      "# of Priority=1 targets = 203\n",
      "# of Priority=2 targets = 80\n",
      "# of Priority=3 targets = 105\n",
      "# of Priority=4 targets = 50\n",
      "# of Priority=5 targets = 181\n",
      "# of Priority=6 targets = 86\n",
      "# of Priority=7 targets = 16\n",
      "# of Priority=8 targets = 30\n",
      "# of Priority=9 targets = 552\n",
      "Object catalog to Gaia offset: (<Angle -0.11968757 arcsec>, <Angle 0.14139283 arcsec>) from 1884 objects (73.3%)\n",
      "Found 234 Gaia guide stars\n",
      "83 Have a brightish neighbor.  Removing them.\n",
      "Writing aat_targets_jun2018/pgc66318_master.fld\n"
     ]
    }
   ],
   "source": [
    "for host in targethosts[targethosts['PGC'] == 66318]:\n",
    "    hostname = host[host_id_label]\n",
    "    print(hostname)\n",
    "    tcats[hostname] = tcat = saga_targets.build_target_catalogs(hostname, return_as='list').pop()\n",
    "    acats[hostname] = acat = saga.targets.prepare_aat_catalog(tcat, sky_fiber_needed=125)\n",
    "    \n",
    "    guidestars = get_gaia_guidestars(hostname)\n",
    "    writecat = table.vstack([acat, guidestars])\n",
    "    \n",
    "    fnout = 'aat_targets_jun2018/{}_master.fld'.format(hostname)\n",
    "    print('Writing', fnout)\n",
    "    writecat['Notes'] = [n.title() for n in writecat['Notes']]\n",
    "    write_fld_file(writecat, host, obs_start_date, fnout)"
   ]
  },
  {
   "cell_type": "code",
   "execution_count": null,
   "metadata": {},
   "outputs": [],
   "source": [
    "make_decals_viewer_cutouts(guidestars[np.random.permutation(len(guidestars))[:24]], \n",
    "                           survey='unwise-w1w2',ncols=6,namecol='TargetName')"
   ]
  },
  {
   "cell_type": "code",
   "execution_count": null,
   "metadata": {},
   "outputs": [],
   "source": [
    "make_decals_viewer_cutouts(acat[acat['Notes']=='sky'], survey='unwise-w1w2', ncols=6, \n",
    "                           zoom=16, namecol='TargetName')"
   ]
  },
  {
   "cell_type": "markdown",
   "metadata": {},
   "source": [
    "Removing 0 19 20 25 37 43 52 63 76 77 81 84 93 99 100 103 105 110  116 117 120 123"
   ]
  },
  {
   "cell_type": "code",
   "execution_count": 300,
   "metadata": {},
   "outputs": [
    {
     "name": "stdout",
     "output_type": "stream",
     "text": [
      "Total remaining in each priority (5 fluxes, 100 guides, and 103 skies not included):\n",
      "{1: 203, 2: 80, 3: 105, 4: 50, 5: 181, 6: 86, 7: 16, 8: 30, 9: 0}\n",
      "{1: 100.0, 2: 100.0, 3: 100.0, 4: 100.0, 5: 100.0, 6: 100.0, 7: 100.0, 8: 100.0, 9: None}%\n"
     ]
    }
   ],
   "source": [
    "aat.subsample_from_master_fld('aat_targets_jun2018/{}_master.fld'.format(hostname), \n",
    "                              'aat_targets_jun2018/{}_1.fld'.format(hostname),\n",
    "                             {1:np.inf,2:np.inf,3:np.inf,4:np.inf,\n",
    "                              5:np.inf,6:np.inf,7:np.inf,8:np.inf,9:np.inf},\n",
    "                              nflux=5, nguides=100)"
   ]
  },
  {
   "cell_type": "markdown",
   "metadata": {},
   "source": [
    "## pgc67817"
   ]
  },
  {
   "cell_type": "code",
   "execution_count": 307,
   "metadata": {},
   "outputs": [
    {
     "name": "stdout",
     "output_type": "stream",
     "text": [
      "pgc67817\n",
      "# of flux stars = 242\n",
      "# of sky fibers = 125\n",
      "# of Priority=1 targets = 301\n",
      "# of Priority=2 targets = 106\n",
      "# of Priority=3 targets = 71\n",
      "# of Priority=4 targets = 50\n",
      "# of Priority=5 targets = 230\n",
      "# of Priority=6 targets = 70\n",
      "# of Priority=7 targets = 45\n",
      "# of Priority=8 targets = 1\n",
      "# of Priority=9 targets = 367\n",
      "Object catalog to Gaia offset: (<Angle -0.12210635 arcsec>, <Angle 0.17147205 arcsec>) from 1391 objects (75.2%)\n",
      "Found 162 Gaia guide stars\n",
      "55 Have a brightish neighbor.  Removing them.\n",
      "Writing aat_targets_jun2018/pgc67817_master.fld\n"
     ]
    }
   ],
   "source": [
    "for host in targethosts[targethosts['PGC'] == 67817]:\n",
    "    hostname = host[host_id_label]\n",
    "    print(hostname)\n",
    "    tcats[hostname] = tcat = saga_targets.build_target_catalogs(hostname, return_as='list').pop()\n",
    "    acats[hostname] = acat = saga.targets.prepare_aat_catalog(tcat, sky_fiber_needed=125)\n",
    "    \n",
    "    guidestars = get_gaia_guidestars(hostname)\n",
    "    writecat = table.vstack([acat, guidestars])\n",
    "    \n",
    "    fnout = 'aat_targets_jun2018/{}_master.fld'.format(hostname)\n",
    "    print('Writing', fnout)\n",
    "    writecat['Notes'] = [n.title() for n in writecat['Notes']]\n",
    "    write_fld_file(writecat, host, obs_start_date, fnout)"
   ]
  },
  {
   "cell_type": "code",
   "execution_count": null,
   "metadata": {},
   "outputs": [],
   "source": [
    "make_decals_viewer_cutouts(guidestars[np.random.permutation(len(guidestars))[:24]], \n",
    "                           survey='unwise-w1w2',ncols=6,namecol='TargetName')"
   ]
  },
  {
   "cell_type": "code",
   "execution_count": null,
   "metadata": {},
   "outputs": [],
   "source": [
    "make_decals_viewer_cutouts(acat[acat['Notes']=='sky'], survey='unwise-w1w2', ncols=6, \n",
    "                           zoom=16, namecol='TargetName')"
   ]
  },
  {
   "cell_type": "markdown",
   "metadata": {},
   "source": [
    "Removing 1 3 7 10 13  22 25 29  35 36 38 41 42 50 54 56  63 69 71 72 76  80 81  85 92 97 98 107 117 120"
   ]
  },
  {
   "cell_type": "markdown",
   "metadata": {},
   "source": [
    "Testing alternative sky cutouts using DES service"
   ]
  },
  {
   "cell_type": "code",
   "execution_count": 377,
   "metadata": {},
   "outputs": [
    {
     "name": "stdout",
     "output_type": "stream",
     "text": [
      "Copied to clipboard\n"
     ]
    },
    {
     "data": {
      "text/html": [
       "\n",
       "    Paste the coords as value in  \n",
       "    <a href=\"https://des.ncsa.illinois.edu/easyweb/cutouts\">the DES cutout service</a>\n",
       "    "
      ],
      "text/plain": [
       "<IPython.core.display.HTML object>"
      ]
     },
     "execution_count": 377,
     "metadata": {},
     "output_type": "execute_result"
    }
   ],
   "source": [
    "make_des_cutouts_file(acat[acat['Notes']=='sky'])"
   ]
  },
  {
   "cell_type": "code",
   "execution_count": null,
   "metadata": {},
   "outputs": [],
   "source": [
    "show_des_cutouts(acat[acat['Notes']=='sky'], 'dc3ec44c-2dd2-4768-bde1-ce088eb5124f', \n",
    "                 ncols=6, namecol='TargetName',  dhtml=True)"
   ]
  },
  {
   "cell_type": "code",
   "execution_count": 318,
   "metadata": {},
   "outputs": [
    {
     "name": "stdout",
     "output_type": "stream",
     "text": [
      "Total remaining in each priority (5 fluxes, 100 guides, and 95 skies not included):\n",
      "{1: 301, 2: 106, 3: 71, 4: 50, 5: 230, 6: 70, 7: 45, 8: 1, 9: 0}\n",
      "{1: 100.0, 2: 100.0, 3: 100.0, 4: 100.0, 5: 100.0, 6: 100.0, 7: 100.0, 8: 100.0, 9: None}%\n"
     ]
    }
   ],
   "source": [
    "aat.subsample_from_master_fld('aat_targets_jun2018/{}_master.fld'.format(hostname), \n",
    "                              'aat_targets_jun2018/{}_1.fld'.format(hostname),\n",
    "                             {1:np.inf,2:np.inf,3:np.inf,4:np.inf,\n",
    "                              5:np.inf,6:np.inf,7:np.inf,8:np.inf,9:np.inf},\n",
    "                              nflux=5, nguides=100)"
   ]
  },
  {
   "cell_type": "markdown",
   "metadata": {},
   "source": [
    "# Night 3 "
   ]
  },
  {
   "cell_type": "code",
   "execution_count": 26,
   "metadata": {},
   "outputs": [],
   "source": [
    "import aat"
   ]
  },
  {
   "cell_type": "markdown",
   "metadata": {},
   "source": [
    "## nsa3469 (_2)"
   ]
  },
  {
   "cell_type": "code",
   "execution_count": 20,
   "metadata": {},
   "outputs": [
    {
     "name": "stdout",
     "output_type": "stream",
     "text": [
      "Downloading https://docs.google.com/spreadsheets/d/1Y3nO7VyU4jDiBPawCs8wJQt2s_PIAKRj-HSrmcWeQZo/export?format=csv&gid=1379081675 [Done]\n",
      "Downloading https://docs.google.com/spreadsheets/d/1Y3nO7VyU4jDiBPawCs8wJQt2s_PIAKRj-HSrmcWeQZo/export?format=csv&gid=286645731 [Done]\n",
      "[06/12 15:16:32] [WARNING] Not found: des catalog for nsa3469.\n",
      "[06/12 15:16:35] Use SDSS, DECALS to build base catalog v2 for nsa3469 (1/1)\n"
     ]
    },
    {
     "name": "stderr",
     "output_type": "stream",
     "text": [
      "/Users/erik/projects/saga/saga/build/lib/SAGA/objects/build2.py:149: RuntimeWarning: invalid value encountered in true_divide\n",
      "  catalog['radius_err'] = np.hypot(catalog['FRACDEV']**2.0 / catalog['SHAPEDEV_R_IVAR'], (1.0 - catalog['FRACDEV'])**2.0 / catalog['SHAPEEXP_R_IVAR'])\n",
      "/Users/erik/projects/saga/saga/build/lib/SAGA/objects/build2.py:149: RuntimeWarning: divide by zero encountered in true_divide\n",
      "  catalog['radius_err'] = np.hypot(catalog['FRACDEV']**2.0 / catalog['SHAPEDEV_R_IVAR'], (1.0 - catalog['FRACDEV'])**2.0 / catalog['SHAPEEXP_R_IVAR'])\n",
      "WARNING:root:No photo obj matched to 2dF spec obj TGN181Z153 (185.39954166666664, -2.650222222222222)\n",
      "WARNING:root:No photo obj matched to 2dF spec obj TGN124Z266 (186.17341666666664, -3.3531111111111107)\n",
      "WARNING:root:No photo obj matched to NSA spec obj 667260 (185.36766765020573, -2.860386609472335)\n",
      "WARNING:root:No photo obj matched to 2dF spec obj TGN123Z034 (185.8574583333333, -4.01875)\n",
      "/Users/erik/miniconda3/envs/saga3/lib/python3.6/site-packages/astropy/table/column.py:965: RuntimeWarning: invalid value encountered in less\n",
      "  return getattr(self.data, op)(other)\n",
      "WARNING:root:No kcorrect module. Stellar mass not calculated!\n"
     ]
    },
    {
     "name": "stdout",
     "output_type": "stream",
     "text": [
      "[06/12 15:17:15] Write base catalog to ./base_catalogs/base_v2_nsa3469.fits.gz\n"
     ]
    }
   ],
   "source": [
    "saga_object_catalog.build_and_write_to_database('NSA3469', overwrite=True)"
   ]
  },
  {
   "cell_type": "markdown",
   "metadata": {},
   "source": [
    "Previously:\n",
    "```\n",
    "# of flux stars = 283\n",
    "# of sky fibers = 100\n",
    "# of Priority=1 targets = 696\n",
    "# of Priority=2 targets = 32\n",
    "# of Priority=3 targets = 35\n",
    "# of Priority=4 targets = 50\n",
    "# of Priority=5 targets = 516\n",
    "# of Priority=6 targets = 205\n",
    "# of Priority=7 targets = 8\n",
    "# of Priority=8 targets = 0\n",
    "# of Priority=9 targets = 383\n",
    "```\n",
    "This is probably wrong because of an out-of-date base catalog, though..."
   ]
  },
  {
   "cell_type": "code",
   "execution_count": 65,
   "metadata": {},
   "outputs": [
    {
     "name": "stdout",
     "output_type": "stream",
     "text": [
      "nsa3469\n",
      "# of flux stars = 144\n",
      "# of sky fibers = 150\n",
      "# of Priority=1 targets = 561\n",
      "# of Priority=2 targets = 9\n",
      "# of Priority=3 targets = 14\n",
      "# of Priority=4 targets = 50\n",
      "# of Priority=5 targets = 350\n",
      "# of Priority=6 targets = 31\n",
      "# of Priority=7 targets = 0\n",
      "# of Priority=8 targets = 2\n",
      "# of Priority=9 targets = 294\n",
      "Found 141 SDSS guide stars\n"
     ]
    },
    {
     "name": "stderr",
     "output_type": "stream",
     "text": [
      "/Users/erik/projects/saga/saga/build/lib/SAGA/objects/object_catalog.py:54: RuntimeWarning: invalid value encountered in subtract\n",
      "  table[color] = table['{}_mag'.format(color[0])] - table['{}_mag'.format(color[1])]\n",
      "/Users/erik/miniconda3/envs/saga3/lib/python3.6/site-packages/astropy/table/column.py:965: RuntimeWarning: invalid value encountered in greater\n",
      "  return getattr(self.data, op)(other)\n",
      "/Users/erik/miniconda3/envs/saga3/lib/python3.6/site-packages/astropy/table/column.py:965: RuntimeWarning: invalid value encountered in less\n",
      "  return getattr(self.data, op)(other)\n"
     ]
    },
    {
     "data": {
      "text/plain": [
       "1452"
      ]
     },
     "execution_count": 65,
     "metadata": {},
     "output_type": "execute_result"
    }
   ],
   "source": [
    "for host in targethosts[targethosts['NSAID'] == 3469]:\n",
    "    hostname = host[host_id_label]\n",
    "    print(hostname)\n",
    "    tcats[hostname] = tcat = saga_targets.build_target_catalogs(hostname, return_as='list').pop()\n",
    "    acats[hostname] = acat = saga.targets.prepare_aat_catalog(tcat, sky_fiber_needed=150)\n",
    "    \n",
    "    guidestars = get_sdss_guidestars(hostname)\n",
    "    writecat = table.vstack([acat, guidestars])\n",
    "    writecat['Notes'] = [n.title() for n in writecat['Notes']]\n",
    "    \n",
    "    #fnout = 'aat_targets_jun2018/{}_master2.fld'.format(hostname)\n",
    "    #print('Writing', fnout)\n",
    "    #write_fld_file(writecat, host, obs_start_date, fnout)\n",
    "len(writecat)"
   ]
  },
  {
   "cell_type": "markdown",
   "metadata": {},
   "source": [
    "For other ones we could just re-use the old guide/sky, but in this case the method has improved so we check again"
   ]
  },
  {
   "cell_type": "code",
   "execution_count": 31,
   "metadata": {},
   "outputs": [
    {
     "data": {
      "text/html": [
       "\n",
       "    <table>\n",
       "    <tr><td>1237650370484371493<br><a href=\"http://legacysurvey.org/viewer?ra=185.56333660634596&dec=-2.6280624565362514\"><img src=\"http://legacysurvey.org/viewer/jpeg-cutout/?ra=185.5633&dec=-2.628062&zoom=15&layer=sdss&size=120\"></a></td><td>1237650369947893920<br><a href=\"http://legacysurvey.org/viewer?ra=186.4721297925169&dec=-2.9442214220299037\"><img src=\"http://legacysurvey.org/viewer/jpeg-cutout/?ra=186.4721&dec=-2.944221&zoom=15&layer=sdss&size=120\"></a></td><td>1237650369948024860<br><a href=\"http://legacysurvey.org/viewer?ra=186.71309540566347&dec=-2.9825658535370496\"><img src=\"http://legacysurvey.org/viewer/jpeg-cutout/?ra=186.7131&dec=-2.982566&zoom=15&layer=sdss&size=120\"></a></td><td>1237650370484764729<br><a href=\"http://legacysurvey.org/viewer?ra=186.50477266038826&dec=-2.6037385269037334\"><img src=\"http://legacysurvey.org/viewer/jpeg-cutout/?ra=186.5048&dec=-2.603739&zoom=15&layer=sdss&size=120\"></a></td><td>1237650369410498601<br><a href=\"http://legacysurvey.org/viewer?ra=185.25178286608872&dec=-3.3783261039662946\"><img src=\"http://legacysurvey.org/viewer/jpeg-cutout/?ra=185.2518&dec=-3.378326&zoom=15&layer=sdss&size=120\"></a></td><td>1237650369410629708<br><a href=\"http://legacysurvey.org/viewer?ra=185.6361376058997&dec=-3.3592479486292475\"><img src=\"http://legacysurvey.org/viewer/jpeg-cutout/?ra=185.6361&dec=-3.359248&zoom=15&layer=sdss&size=120\"></a></td></tr>\n",
       "<tr><td>19173<br><a href=\"http://legacysurvey.org/viewer?ra=185.52976668792866&dec=-3.25104513753916\"><img src=\"http://legacysurvey.org/viewer/jpeg-cutout/?ra=185.5298&dec=-3.251045&zoom=15&layer=sdss&size=120\"></a></td><td>1237650369410957399<br><a href=\"http://legacysurvey.org/viewer?ra=186.36741948925294&dec=-3.5189279378266702\"><img src=\"http://legacysurvey.org/viewer/jpeg-cutout/?ra=186.3674&dec=-3.518928&zoom=15&layer=sdss&size=120\"></a></td><td>1237650760245313576<br><a href=\"http://legacysurvey.org/viewer?ra=185.0986033396175&dec=-3.756637373075577\"><img src=\"http://legacysurvey.org/viewer/jpeg-cutout/?ra=185.0986&dec=-3.756637&zoom=15&layer=sdss&size=120\"></a></td><td>1237650369411022880<br><a href=\"http://legacysurvey.org/viewer?ra=186.40800143759608&dec=-3.5271829732616875\"><img src=\"http://legacysurvey.org/viewer/jpeg-cutout/?ra=186.408&dec=-3.527183&zoom=15&layer=sdss&size=120\"></a></td><td>1237650761319055451<br><a href=\"http://legacysurvey.org/viewer?ra=185.13315512642203&dec=-2.912469222831323\"><img src=\"http://legacysurvey.org/viewer/jpeg-cutout/?ra=185.1332&dec=-2.912469&zoom=15&layer=sdss&size=120\"></a></td><td>1237650760782184534<br><a href=\"http://legacysurvey.org/viewer?ra=185.17941768770424&dec=-3.1646252282484295\"><img src=\"http://legacysurvey.org/viewer/jpeg-cutout/?ra=185.1794&dec=-3.164625&zoom=15&layer=sdss&size=120\"></a></td></tr>\n",
       "<tr><td>1237650369947500623<br><a href=\"http://legacysurvey.org/viewer?ra=185.6338609964065&dec=-3.084212572121533\"><img src=\"http://legacysurvey.org/viewer/jpeg-cutout/?ra=185.6339&dec=-3.084213&zoom=15&layer=sdss&size=120\"></a></td><td>1237650370484699206<br><a href=\"http://legacysurvey.org/viewer?ra=186.37219280614607&dec=-2.587943654177385\"><img src=\"http://legacysurvey.org/viewer/jpeg-cutout/?ra=186.3722&dec=-2.587944&zoom=15&layer=sdss&size=120\"></a></td><td>1237650370484699161<br><a href=\"http://legacysurvey.org/viewer?ra=186.28872593034276&dec=-2.553786450548567\"><img src=\"http://legacysurvey.org/viewer/jpeg-cutout/?ra=186.2887&dec=-2.553786&zoom=15&layer=sdss&size=120\"></a></td><td>1237650761319055506<br><a href=\"http://legacysurvey.org/viewer?ra=185.19179120212954&dec=-2.9088555367636353\"><img src=\"http://legacysurvey.org/viewer/jpeg-cutout/?ra=185.1918&dec=-2.908856&zoom=15&layer=sdss&size=120\"></a></td><td>1237650369947697164<br><a href=\"http://legacysurvey.org/viewer?ra=185.96229357517353&dec=-3.0770555570005973\"><img src=\"http://legacysurvey.org/viewer/jpeg-cutout/?ra=185.9623&dec=-3.077056&zoom=15&layer=sdss&size=120\"></a></td><td>1237650369947304024<br><a href=\"http://legacysurvey.org/viewer?ra=185.13745721762058&dec=-2.9274503515183663\"><img src=\"http://legacysurvey.org/viewer/jpeg-cutout/?ra=185.1375&dec=-2.92745&zoom=15&layer=sdss&size=120\"></a></td></tr>\n",
       "<tr><td>3080780000000001873<br><a href=\"http://legacysurvey.org/viewer?ra=185.78891109378569&dec=-3.996585258389434\"><img src=\"http://legacysurvey.org/viewer/jpeg-cutout/?ra=185.7889&dec=-3.996585&zoom=15&layer=sdss&size=120\"></a></td><td>1237650369410564212<br><a href=\"http://legacysurvey.org/viewer?ra=185.47464746737023&dec=-3.4625209313036325\"><img src=\"http://legacysurvey.org/viewer/jpeg-cutout/?ra=185.4746&dec=-3.462521&zoom=15&layer=sdss&size=120\"></a></td><td>1237650761319186456<br><a href=\"http://legacysurvey.org/viewer?ra=185.3939754182351&dec=-2.853267015414586\"><img src=\"http://legacysurvey.org/viewer/jpeg-cutout/?ra=185.394&dec=-2.853267&zoom=15&layer=sdss&size=120\"></a></td><td>1237650369410564177<br><a href=\"http://legacysurvey.org/viewer?ra=185.41143509214965&dec=-3.4486196555119464\"><img src=\"http://legacysurvey.org/viewer/jpeg-cutout/?ra=185.4114&dec=-3.44862&zoom=15&layer=sdss&size=120\"></a></td><td>1237650760246100015<br><a href=\"http://legacysurvey.org/viewer?ra=186.95435548437783&dec=-3.5472034042712774\"><img src=\"http://legacysurvey.org/viewer/jpeg-cutout/?ra=186.9544&dec=-3.547203&zoom=15&layer=sdss&size=120\"></a></td><td>1237650760245968933<br><a href=\"http://legacysurvey.org/viewer?ra=186.63313263465963&dec=-3.7453757717292637\"><img src=\"http://legacysurvey.org/viewer/jpeg-cutout/?ra=186.6331&dec=-3.745376&zoom=15&layer=sdss&size=120\"></a></td></tr>\n",
       "<tr><td>1237650369947828268<br><a href=\"http://legacysurvey.org/viewer?ra=186.3642561995056&dec=-2.9266295486141267\"><img src=\"http://legacysurvey.org/viewer/jpeg-cutout/?ra=186.3643&dec=-2.92663&zoom=15&layer=sdss&size=120\"></a></td><td>1237650761319186471<br><a href=\"http://legacysurvey.org/viewer?ra=185.41372597204986&dec=-2.802384370271971\"><img src=\"http://legacysurvey.org/viewer/jpeg-cutout/?ra=185.4137&dec=-2.802384&zoom=15&layer=sdss&size=120\"></a></td><td>1237650761319710757<br><a href=\"http://legacysurvey.org/viewer?ra=186.6321495436842&dec=-2.8030355890041583\"><img src=\"http://legacysurvey.org/viewer/jpeg-cutout/?ra=186.6321&dec=-2.803036&zoom=15&layer=sdss&size=120\"></a></td><td>1237650370484633650<br><a href=\"http://legacysurvey.org/viewer?ra=186.18946156793396&dec=-2.5767398032997177\"><img src=\"http://legacysurvey.org/viewer/jpeg-cutout/?ra=186.1895&dec=-2.57674&zoom=15&layer=sdss&size=120\"></a></td><td>1237650369947631651<br><a href=\"http://legacysurvey.org/viewer?ra=185.8636223192075&dec=-3.080157789490772\"><img src=\"http://legacysurvey.org/viewer/jpeg-cutout/?ra=185.8636&dec=-3.080158&zoom=15&layer=sdss&size=120\"></a></td><td>1237650761856385065<br><a href=\"http://legacysurvey.org/viewer?ra=186.17438295721743&dec=-2.466774607837317\"><img src=\"http://legacysurvey.org/viewer/jpeg-cutout/?ra=186.1744&dec=-2.466775&zoom=15&layer=sdss&size=120\"></a></td></tr>\n",
       "<tr><td>1237650761319317561<br><a href=\"http://legacysurvey.org/viewer?ra=185.77617812443418&dec=-2.740356615288904\"><img src=\"http://legacysurvey.org/viewer/jpeg-cutout/?ra=185.7762&dec=-2.740357&zoom=15&layer=sdss&size=120\"></a></td><td>1237650760245313612<br><a href=\"http://legacysurvey.org/viewer?ra=185.1393702042854&dec=-3.660922618810273\"><img src=\"http://legacysurvey.org/viewer/jpeg-cutout/?ra=185.1394&dec=-3.660923&zoom=15&layer=sdss&size=120\"></a></td><td>1237650760245706802<br><a href=\"http://legacysurvey.org/viewer?ra=186.04217769200844&dec=-3.7117340151448945\"><img src=\"http://legacysurvey.org/viewer/jpeg-cutout/?ra=186.0422&dec=-3.711734&zoom=15&layer=sdss&size=120\"></a></td><td>1237650761319383082<br><a href=\"http://legacysurvey.org/viewer?ra=185.85952136175922&dec=-2.7617325937143096\"><img src=\"http://legacysurvey.org/viewer/jpeg-cutout/?ra=185.8595&dec=-2.761733&zoom=15&layer=sdss&size=120\"></a></td><td>1237650760782315579<br><a href=\"http://legacysurvey.org/viewer?ra=185.43146583230128&dec=-3.314235464312719\"><img src=\"http://legacysurvey.org/viewer/jpeg-cutout/?ra=185.4315&dec=-3.314235&zoom=15&layer=sdss&size=120\"></a></td><td>1237650369947500551<br><a href=\"http://legacysurvey.org/viewer?ra=185.51396005562367&dec=-2.9199218468390944\"><img src=\"http://legacysurvey.org/viewer/jpeg-cutout/?ra=185.514&dec=-2.919922&zoom=15&layer=sdss&size=120\"></a></td></tr>\n",
       "<tr><td>1237650761319514213<br><a href=\"http://legacysurvey.org/viewer?ra=186.2248629029304&dec=-2.911899261975259\"><img src=\"http://legacysurvey.org/viewer/jpeg-cutout/?ra=186.2249&dec=-2.911899&zoom=15&layer=sdss&size=120\"></a></td><td>1237650369947959344<br><a href=\"http://legacysurvey.org/viewer?ra=186.67069489189655&dec=-2.990626531775754\"><img src=\"http://legacysurvey.org/viewer/jpeg-cutout/?ra=186.6707&dec=-2.990627&zoom=15&layer=sdss&size=120\"></a></td><td>1237650760782774293<br><a href=\"http://legacysurvey.org/viewer?ra=186.45454937488984&dec=-3.1948548593445576\"><img src=\"http://legacysurvey.org/viewer/jpeg-cutout/?ra=186.4545&dec=-3.194855&zoom=15&layer=sdss&size=120\"></a></td><td>1237650760782315600<br><a href=\"http://legacysurvey.org/viewer?ra=185.4445003141385&dec=-3.308516648582025\"><img src=\"http://legacysurvey.org/viewer/jpeg-cutout/?ra=185.4445&dec=-3.308517&zoom=15&layer=sdss&size=120\"></a></td><td>1237650760245968901<br><a href=\"http://legacysurvey.org/viewer?ra=186.567570734105&dec=-3.63358626482997\"><img src=\"http://legacysurvey.org/viewer/jpeg-cutout/?ra=186.5676&dec=-3.633586&zoom=15&layer=sdss&size=120\"></a></td><td>1237650760782250059<br><a href=\"http://legacysurvey.org/viewer?ra=185.340771438968&dec=-3.291008234286572\"><img src=\"http://legacysurvey.org/viewer/jpeg-cutout/?ra=185.3408&dec=-3.291008&zoom=15&layer=sdss&size=120\"></a></td></tr>\n",
       "<tr><td>1237650761319579718<br><a href=\"http://legacysurvey.org/viewer?ra=186.3951112678704&dec=-2.815603408896039\"><img src=\"http://legacysurvey.org/viewer/jpeg-cutout/?ra=186.3951&dec=-2.815603&zoom=15&layer=sdss&size=120\"></a></td><td>1237650761319710750<br><a href=\"http://legacysurvey.org/viewer?ra=186.61356709527186&dec=-2.772859029944013\"><img src=\"http://legacysurvey.org/viewer/jpeg-cutout/?ra=186.6136&dec=-2.772859&zoom=15&layer=sdss&size=120\"></a></td><td>1237650369411022857<br><a href=\"http://legacysurvey.org/viewer?ra=186.38969640223394&dec=-3.494905852320168\"><img src=\"http://legacysurvey.org/viewer/jpeg-cutout/?ra=186.3897&dec=-3.494906&zoom=15&layer=sdss&size=120\"></a></td><td>1237650760782643282<br><a href=\"http://legacysurvey.org/viewer?ra=186.23746177351433&dec=-3.174250751251421\"><img src=\"http://legacysurvey.org/viewer/jpeg-cutout/?ra=186.2375&dec=-3.174251&zoom=15&layer=sdss&size=120\"></a></td><td>1237650760245379119<br><a href=\"http://legacysurvey.org/viewer?ra=185.26420692327036&dec=-3.622531948515093\"><img src=\"http://legacysurvey.org/viewer/jpeg-cutout/?ra=185.2642&dec=-3.622532&zoom=15&layer=sdss&size=120\"></a></td><td>1237650761319186509<br><a href=\"http://legacysurvey.org/viewer?ra=185.4565243148051&dec=-2.866249755852858\"><img src=\"http://legacysurvey.org/viewer/jpeg-cutout/?ra=185.4565&dec=-2.86625&zoom=15&layer=sdss&size=120\"></a></td></tr>\n",
       "<tr><td>1237650370484568132<br><a href=\"http://legacysurvey.org/viewer?ra=186.03408863627936&dec=-2.54166869607117\"><img src=\"http://legacysurvey.org/viewer/jpeg-cutout/?ra=186.0341&dec=-2.541669&zoom=15&layer=sdss&size=120\"></a></td><td>1237650760782184497<br><a href=\"http://legacysurvey.org/viewer?ra=185.1358629189811&dec=-3.316124325749183\"><img src=\"http://legacysurvey.org/viewer/jpeg-cutout/?ra=185.1359&dec=-3.316124&zoom=15&layer=sdss&size=120\"></a></td><td>3095190000000000040<br><a href=\"http://legacysurvey.org/viewer?ra=186.6506057304002&dec=-3.8704036268100297\"><img src=\"http://legacysurvey.org/viewer/jpeg-cutout/?ra=186.6506&dec=-3.870404&zoom=15&layer=sdss&size=120\"></a></td><td>1237650760245968965<br><a href=\"http://legacysurvey.org/viewer?ra=186.69010144154646&dec=-3.638601884089324\"><img src=\"http://legacysurvey.org/viewer/jpeg-cutout/?ra=186.6901&dec=-3.638602&zoom=15&layer=sdss&size=120\"></a></td><td>1237650760245248130<br><a href=\"http://legacysurvey.org/viewer?ra=185.04941674897395&dec=-3.6635005966120326\"><img src=\"http://legacysurvey.org/viewer/jpeg-cutout/?ra=185.0494&dec=-3.663501&zoom=15&layer=sdss&size=120\"></a></td><td>1237650369947566116<br><a href=\"http://legacysurvey.org/viewer?ra=185.70334790456002&dec=-3.030595411116282\"><img src=\"http://legacysurvey.org/viewer/jpeg-cutout/?ra=185.7033&dec=-3.030595&zoom=15&layer=sdss&size=120\"></a></td></tr>\n",
       "<tr><td>1237650369410957408<br><a href=\"http://legacysurvey.org/viewer?ra=186.3686839035042&dec=-3.4428225158728414\"><img src=\"http://legacysurvey.org/viewer/jpeg-cutout/?ra=186.3687&dec=-3.442823&zoom=15&layer=sdss&size=120\"></a></td><td>1237650760782315546<br><a href=\"http://legacysurvey.org/viewer?ra=185.40639248296193&dec=-3.1570812702235544\"><img src=\"http://legacysurvey.org/viewer/jpeg-cutout/?ra=185.4064&dec=-3.157081&zoom=15&layer=sdss&size=120\"></a></td><td>1237650760782774313<br><a href=\"http://legacysurvey.org/viewer?ra=186.46845785251207&dec=-3.223667158463809\"><img src=\"http://legacysurvey.org/viewer/jpeg-cutout/?ra=186.4685&dec=-3.223667&zoom=15&layer=sdss&size=120\"></a></td><td>1237650760245641417<br><a href=\"http://legacysurvey.org/viewer?ra=185.9510582128321&dec=-3.7295306499172654\"><img src=\"http://legacysurvey.org/viewer/jpeg-cutout/?ra=185.9511&dec=-3.729531&zoom=15&layer=sdss&size=120\"></a></td><td>1237650760782381082<br><a href=\"http://legacysurvey.org/viewer?ra=185.53519866179522&dec=-3.163179719846405\"><img src=\"http://legacysurvey.org/viewer/jpeg-cutout/?ra=185.5352&dec=-3.16318&zoom=15&layer=sdss&size=120\"></a></td><td>1237650369410433124<br><a href=\"http://legacysurvey.org/viewer?ra=185.16550058996717&dec=-3.5337820390568755\"><img src=\"http://legacysurvey.org/viewer/jpeg-cutout/?ra=185.1655&dec=-3.533782&zoom=15&layer=sdss&size=120\"></a></td></tr>\n",
       "<tr><td>1237650369410564167<br><a href=\"http://legacysurvey.org/viewer?ra=185.39878252980776&dec=-3.3725754926032985\"><img src=\"http://legacysurvey.org/viewer/jpeg-cutout/?ra=185.3988&dec=-3.372575&zoom=15&layer=sdss&size=120\"></a></td><td>1237650369947435021<br><a href=\"http://legacysurvey.org/viewer?ra=185.36287910526886&dec=-3.0356090980473027\"><img src=\"http://legacysurvey.org/viewer/jpeg-cutout/?ra=185.3629&dec=-3.035609&zoom=15&layer=sdss&size=120\"></a></td><td>1237650761319186495<br><a href=\"http://legacysurvey.org/viewer?ra=185.43319951774942&dec=-2.8950024909851977\"><img src=\"http://legacysurvey.org/viewer/jpeg-cutout/?ra=185.4332&dec=-2.895002&zoom=15&layer=sdss&size=120\"></a></td><td>1237650761319645280<br><a href=\"http://legacysurvey.org/viewer?ra=186.4944775382408&dec=-2.793866014090461\"><img src=\"http://legacysurvey.org/viewer/jpeg-cutout/?ra=186.4945&dec=-2.793866&zoom=15&layer=sdss&size=120\"></a></td><td>1237650369947959309<br><a href=\"http://legacysurvey.org/viewer?ra=186.57374198482262&dec=-3.1203960382934848\"><img src=\"http://legacysurvey.org/viewer/jpeg-cutout/?ra=186.5737&dec=-3.120396&zoom=15&layer=sdss&size=120\"></a></td><td>1237650369947762699<br><a href=\"http://legacysurvey.org/viewer?ra=186.0936743429695&dec=-2.9961759400486936\"><img src=\"http://legacysurvey.org/viewer/jpeg-cutout/?ra=186.0937&dec=-2.996176&zoom=15&layer=sdss&size=120\"></a></td></tr>\n",
       "<tr><td>1237650369410695235<br><a href=\"http://legacysurvey.org/viewer?ra=185.71356874569517&dec=-3.4439407128843738\"><img src=\"http://legacysurvey.org/viewer/jpeg-cutout/?ra=185.7136&dec=-3.443941&zoom=15&layer=sdss&size=120\"></a></td><td>1237650761856254023<br><a href=\"http://legacysurvey.org/viewer?ra=185.9135643223701&dec=-2.456842755833933\"><img src=\"http://legacysurvey.org/viewer/jpeg-cutout/?ra=185.9136&dec=-2.456843&zoom=15&layer=sdss&size=120\"></a></td><td>1237650369948090389<br><a href=\"http://legacysurvey.org/viewer?ra=186.8663238833691&dec=-3.06365066022796\"><img src=\"http://legacysurvey.org/viewer/jpeg-cutout/?ra=186.8663&dec=-3.063651&zoom=15&layer=sdss&size=120\"></a></td><td>1237650760245575730<br><a href=\"http://legacysurvey.org/viewer?ra=185.70937431428592&dec=-3.64366938535336\"><img src=\"http://legacysurvey.org/viewer/jpeg-cutout/?ra=185.7094&dec=-3.643669&zoom=15&layer=sdss&size=120\"></a></td><td>1237650760782839901<br><a href=\"http://legacysurvey.org/viewer?ra=186.69535802100535&dec=-3.209977101033123\"><img src=\"http://legacysurvey.org/viewer/jpeg-cutout/?ra=186.6954&dec=-3.209977&zoom=15&layer=sdss&size=120\"></a></td><td>1237650369410564201<br><a href=\"http://legacysurvey.org/viewer?ra=185.45426145307096&dec=-3.3767858698067044\"><img src=\"http://legacysurvey.org/viewer/jpeg-cutout/?ra=185.4543&dec=-3.376786&zoom=15&layer=sdss&size=120\"></a></td></tr>\n",
       "<tr><td>1237650369410695212<br><a href=\"http://legacysurvey.org/viewer?ra=185.67804470071945&dec=-3.4219622539796855\"><img src=\"http://legacysurvey.org/viewer/jpeg-cutout/?ra=185.678&dec=-3.421962&zoom=15&layer=sdss&size=120\"></a></td><td>1237650761319120907<br><a href=\"http://legacysurvey.org/viewer?ra=185.2293800345229&dec=-2.9073101171864195\"><img src=\"http://legacysurvey.org/viewer/jpeg-cutout/?ra=185.2294&dec=-2.90731&zoom=15&layer=sdss&size=120\"></a></td><td>1237650761319514127<br><a href=\"http://legacysurvey.org/viewer?ra=186.13057347188848&dec=-2.7598658374379568\"><img src=\"http://legacysurvey.org/viewer/jpeg-cutout/?ra=186.1306&dec=-2.759866&zoom=15&layer=sdss&size=120\"></a></td><td>1237650369947893947<br><a href=\"http://legacysurvey.org/viewer?ra=186.52389522829458&dec=-3.1074395958728602\"><img src=\"http://legacysurvey.org/viewer/jpeg-cutout/?ra=186.5239&dec=-3.10744&zoom=15&layer=sdss&size=120\"></a></td><td>1237650760246034586<br><a href=\"http://legacysurvey.org/viewer?ra=186.82446836316902&dec=-3.730827331465371\"><img src=\"http://legacysurvey.org/viewer/jpeg-cutout/?ra=186.8245&dec=-3.730827&zoom=15&layer=sdss&size=120\"></a></td><td>3095150000000001752<br><a href=\"http://legacysurvey.org/viewer?ra=185.62176182191828&dec=-3.7759226636926835\"><img src=\"http://legacysurvey.org/viewer/jpeg-cutout/?ra=185.6218&dec=-3.775923&zoom=15&layer=sdss&size=120\"></a></td></tr>\n",
       "<tr><td>1237650760245313591<br><a href=\"http://legacysurvey.org/viewer?ra=185.12051991730766&dec=-3.7004802480898324\"><img src=\"http://legacysurvey.org/viewer/jpeg-cutout/?ra=185.1205&dec=-3.70048&zoom=15&layer=sdss&size=120\"></a></td><td>1237650369410695202<br><a href=\"http://legacysurvey.org/viewer?ra=185.6591324393492&dec=-3.5436070180013193\"><img src=\"http://legacysurvey.org/viewer/jpeg-cutout/?ra=185.6591&dec=-3.543607&zoom=15&layer=sdss&size=120\"></a></td><td>1237650760245903407<br><a href=\"http://legacysurvey.org/viewer?ra=186.44835934789774&dec=-3.611319086610054\"><img src=\"http://legacysurvey.org/viewer/jpeg-cutout/?ra=186.4484&dec=-3.611319&zoom=15&layer=sdss&size=120\"></a></td><td>1237650369947762703<br><a href=\"http://legacysurvey.org/viewer?ra=186.09653129698123&dec=-3.1022627324595544\"><img src=\"http://legacysurvey.org/viewer/jpeg-cutout/?ra=186.0965&dec=-3.102263&zoom=15&layer=sdss&size=120\"></a></td><td>1237650760782970903<br><a href=\"http://legacysurvey.org/viewer?ra=186.90045182190246&dec=-3.255361419369052\"><img src=\"http://legacysurvey.org/viewer/jpeg-cutout/?ra=186.9005&dec=-3.255361&zoom=15&layer=sdss&size=120\"></a></td><td>1237650369410498594<br><a href=\"http://legacysurvey.org/viewer?ra=185.2472174318716&dec=-3.433917817112481\"><img src=\"http://legacysurvey.org/viewer/jpeg-cutout/?ra=185.2472&dec=-3.433918&zoom=15&layer=sdss&size=120\"></a></td></tr>\n",
       "<tr><td>1237650760245510211<br><a href=\"http://legacysurvey.org/viewer?ra=185.58546641916698&dec=-3.7413013074880475\"><img src=\"http://legacysurvey.org/viewer/jpeg-cutout/?ra=185.5855&dec=-3.741301&zoom=15&layer=sdss&size=120\"></a></td><td>1237650760245248082<br><a href=\"http://legacysurvey.org/viewer?ra=185.01209587630888&dec=-3.6208443759182893\"><img src=\"http://legacysurvey.org/viewer/jpeg-cutout/?ra=185.0121&dec=-3.620844&zoom=15&layer=sdss&size=120\"></a></td><td>1237650369947697240<br><a href=\"http://legacysurvey.org/viewer?ra=186.05322631350919&dec=-3.0853112274154277\"><img src=\"http://legacysurvey.org/viewer/jpeg-cutout/?ra=186.0532&dec=-3.085311&zoom=15&layer=sdss&size=120\"></a></td><td>1237650369410564101<br><a href=\"http://legacysurvey.org/viewer?ra=185.34985623822502&dec=-3.4164971330900986\"><img src=\"http://legacysurvey.org/viewer/jpeg-cutout/?ra=185.3499&dec=-3.416497&zoom=15&layer=sdss&size=120\"></a></td><td>1237650760782512159<br><a href=\"http://legacysurvey.org/viewer?ra=185.85336052338198&dec=-3.1312156219275793\"><img src=\"http://legacysurvey.org/viewer/jpeg-cutout/?ra=185.8534&dec=-3.131216&zoom=15&layer=sdss&size=120\"></a></td><td>1237650369948090378<br><a href=\"http://legacysurvey.org/viewer?ra=186.84606023504335&dec=-2.9570261859184215\"><img src=\"http://legacysurvey.org/viewer/jpeg-cutout/?ra=186.8461&dec=-2.957026&zoom=15&layer=sdss&size=120\"></a></td></tr>\n",
       "<tr><td>3095190000000001438<br><a href=\"http://legacysurvey.org/viewer?ra=186.55374760593372&dec=-3.7994554470224036\"><img src=\"http://legacysurvey.org/viewer/jpeg-cutout/?ra=186.5537&dec=-3.799455&zoom=15&layer=sdss&size=120\"></a></td><td>1237650369947762757<br><a href=\"http://legacysurvey.org/viewer?ra=186.18528098244326&dec=-2.947886497596311\"><img src=\"http://legacysurvey.org/viewer/jpeg-cutout/?ra=186.1853&dec=-2.947886&zoom=15&layer=sdss&size=120\"></a></td><td>1237650369947500601<br><a href=\"http://legacysurvey.org/viewer?ra=185.5754489469507&dec=-2.9852923666824416\"><img src=\"http://legacysurvey.org/viewer/jpeg-cutout/?ra=185.5754&dec=-2.985292&zoom=15&layer=sdss&size=120\"></a></td><td>1237650761319514167<br><a href=\"http://legacysurvey.org/viewer?ra=186.20277667959084&dec=-2.7666036548807242\"><img src=\"http://legacysurvey.org/viewer/jpeg-cutout/?ra=186.2028&dec=-2.766604&zoom=15&layer=sdss&size=120\"></a></td><td>1237650370484437070<br><a href=\"http://legacysurvey.org/viewer?ra=185.7500869830385&dec=-2.5911766080206005\"><img src=\"http://legacysurvey.org/viewer/jpeg-cutout/?ra=185.7501&dec=-2.591177&zoom=15&layer=sdss&size=120\"></a></td><td>1237650761319645215<br><a href=\"http://legacysurvey.org/viewer?ra=186.44281150691376&dec=-2.905086642193196\"><img src=\"http://legacysurvey.org/viewer/jpeg-cutout/?ra=186.4428&dec=-2.905087&zoom=15&layer=sdss&size=120\"></a></td></tr>\n",
       "<tr><td>1237650760245313548<br><a href=\"http://legacysurvey.org/viewer?ra=185.06402113805206&dec=-3.700861121525993\"><img src=\"http://legacysurvey.org/viewer/jpeg-cutout/?ra=185.064&dec=-3.700861&zoom=15&layer=sdss&size=120\"></a></td><td>1237650369947893898<br><a href=\"http://legacysurvey.org/viewer?ra=186.45151108774877&dec=-2.9472117668703364\"><img src=\"http://legacysurvey.org/viewer/jpeg-cutout/?ra=186.4515&dec=-2.947212&zoom=15&layer=sdss&size=120\"></a></td><td>1237650760245313558<br><a href=\"http://legacysurvey.org/viewer?ra=185.08003345390892&dec=-3.6400753840190845\"><img src=\"http://legacysurvey.org/viewer/jpeg-cutout/?ra=185.08&dec=-3.640075&zoom=15&layer=sdss&size=120\"></a></td><td>1237650369411088407<br><a href=\"http://legacysurvey.org/viewer?ra=186.5923622680513&dec=-3.350289450926846\"><img src=\"http://legacysurvey.org/viewer/jpeg-cutout/?ra=186.5924&dec=-3.350289&zoom=15&layer=sdss&size=120\"></a></td><td>1237650370484371524<br><a href=\"http://legacysurvey.org/viewer?ra=185.6189638178883&dec=-2.5299634962819435\"><img src=\"http://legacysurvey.org/viewer/jpeg-cutout/?ra=185.619&dec=-2.529963&zoom=15&layer=sdss&size=120\"></a></td><td>1237650761319383095<br><a href=\"http://legacysurvey.org/viewer?ra=185.89228168046014&dec=-2.730475222231068\"><img src=\"http://legacysurvey.org/viewer/jpeg-cutout/?ra=185.8923&dec=-2.730475&zoom=15&layer=sdss&size=120\"></a></td></tr>\n",
       "<tr><td>1237650760782249987<br><a href=\"http://legacysurvey.org/viewer?ra=185.24110153108796&dec=-3.251869584460487\"><img src=\"http://legacysurvey.org/viewer/jpeg-cutout/?ra=185.2411&dec=-3.25187&zoom=15&layer=sdss&size=120\"></a></td><td>1237650369410629683<br><a href=\"http://legacysurvey.org/viewer?ra=185.60924438840124&dec=-3.520652498862961\"><img src=\"http://legacysurvey.org/viewer/jpeg-cutout/?ra=185.6092&dec=-3.520652&zoom=15&layer=sdss&size=120\"></a></td><td>1237650760782970983<br><a href=\"http://legacysurvey.org/viewer?ra=186.93623052585045&dec=-3.2502376232643067\"><img src=\"http://legacysurvey.org/viewer/jpeg-cutout/?ra=186.9362&dec=-3.250238&zoom=15&layer=sdss&size=120\"></a></td><td>1237650369947304040<br><a href=\"http://legacysurvey.org/viewer?ra=185.1435968004987&dec=-2.937506239627498\"><img src=\"http://legacysurvey.org/viewer/jpeg-cutout/?ra=185.1436&dec=-2.937506&zoom=15&layer=sdss&size=120\"></a></td><td>1237650369410433108<br><a href=\"http://legacysurvey.org/viewer?ra=185.15484772153928&dec=-3.4489728485491518\"><img src=\"http://legacysurvey.org/viewer/jpeg-cutout/?ra=185.1548&dec=-3.448973&zoom=15&layer=sdss&size=120\"></a></td><td>667166<br><a href=\"http://legacysurvey.org/viewer?ra=185.17581251913575&dec=-3.4238894691630444\"><img src=\"http://legacysurvey.org/viewer/jpeg-cutout/?ra=185.1758&dec=-3.423889&zoom=15&layer=sdss&size=120\"></a></td></tr>\n",
       "<tr><td>1237650369947435086<br><a href=\"http://legacysurvey.org/viewer?ra=185.4796177353183&dec=-2.922180886468798\"><img src=\"http://legacysurvey.org/viewer/jpeg-cutout/?ra=185.4796&dec=-2.922181&zoom=15&layer=sdss&size=120\"></a></td><td>1237650761319383103<br><a href=\"http://legacysurvey.org/viewer?ra=185.89158201825884&dec=-2.709579827701913\"><img src=\"http://legacysurvey.org/viewer/jpeg-cutout/?ra=185.8916&dec=-2.70958&zoom=15&layer=sdss&size=120\"></a></td><td>1237650369947631683<br><a href=\"http://legacysurvey.org/viewer?ra=185.93251769425538&dec=-3.117559456032142\"><img src=\"http://legacysurvey.org/viewer/jpeg-cutout/?ra=185.9325&dec=-3.117559&zoom=15&layer=sdss&size=120\"></a></td><td>1237650760782315525<br><a href=\"http://legacysurvey.org/viewer?ra=185.3767804211421&dec=-3.1760806528367502\"><img src=\"http://legacysurvey.org/viewer/jpeg-cutout/?ra=185.3768&dec=-3.176081&zoom=15&layer=sdss&size=120\"></a></td><td>1237650369947303947<br><a href=\"http://legacysurvey.org/viewer?ra=185.06330811000535&dec=-3.062433635932693\"><img src=\"http://legacysurvey.org/viewer/jpeg-cutout/?ra=185.0633&dec=-3.062434&zoom=15&layer=sdss&size=120\"></a></td><td>1237650760245968939<br><a href=\"http://legacysurvey.org/viewer?ra=186.6533659398087&dec=-3.5490943357162226\"><img src=\"http://legacysurvey.org/viewer/jpeg-cutout/?ra=186.6534&dec=-3.549094&zoom=15&layer=sdss&size=120\"></a></td></tr>\n",
       "<tr><td>1237650369411219473<br><a href=\"http://legacysurvey.org/viewer?ra=186.89421474382794&dec=-3.437367475722201\"><img src=\"http://legacysurvey.org/viewer/jpeg-cutout/?ra=186.8942&dec=-3.437367&zoom=15&layer=sdss&size=120\"></a></td><td>1237650369947435013<br><a href=\"http://legacysurvey.org/viewer?ra=185.3537815304457&dec=-2.9661952082344687\"><img src=\"http://legacysurvey.org/viewer/jpeg-cutout/?ra=185.3538&dec=-2.966195&zoom=15&layer=sdss&size=120\"></a></td><td>1237650370484305987<br><a href=\"http://legacysurvey.org/viewer?ra=185.45972220583275&dec=-2.6102331716685185\"><img src=\"http://legacysurvey.org/viewer/jpeg-cutout/?ra=185.4597&dec=-2.610233&zoom=15&layer=sdss&size=120\"></a></td><td>1237650370484699175<br><a href=\"http://legacysurvey.org/viewer?ra=186.3567512339073&dec=-2.5901071948697374\"><img src=\"http://legacysurvey.org/viewer/jpeg-cutout/?ra=186.3568&dec=-2.590107&zoom=15&layer=sdss&size=120\"></a></td><td>1237650760782315587<br><a href=\"http://legacysurvey.org/viewer?ra=185.43101686877117&dec=-3.166203168979725\"><img src=\"http://legacysurvey.org/viewer/jpeg-cutout/?ra=185.431&dec=-3.166203&zoom=15&layer=sdss&size=120\"></a></td><td>1237650761319186441<br><a href=\"http://legacysurvey.org/viewer?ra=185.3718610292915&dec=-2.804622925338349\"><img src=\"http://legacysurvey.org/viewer/jpeg-cutout/?ra=185.3719&dec=-2.804623&zoom=15&layer=sdss&size=120\"></a></td></tr>\n",
       "<tr><td>1237650370484699198<br><a href=\"http://legacysurvey.org/viewer?ra=186.36688028719138&dec=-2.5607059740781137\"><img src=\"http://legacysurvey.org/viewer/jpeg-cutout/?ra=186.3669&dec=-2.560706&zoom=15&layer=sdss&size=120\"></a></td><td>1237650369411022871<br><a href=\"http://legacysurvey.org/viewer?ra=186.4061413723419&dec=-3.3928118539218803\"><img src=\"http://legacysurvey.org/viewer/jpeg-cutout/?ra=186.4061&dec=-3.392812&zoom=15&layer=sdss&size=120\"></a></td><td>1237650369947435032<br><a href=\"http://legacysurvey.org/viewer?ra=185.3786376549&dec=-2.9432368313859185\"><img src=\"http://legacysurvey.org/viewer/jpeg-cutout/?ra=185.3786&dec=-2.943237&zoom=15&layer=sdss&size=120\"></a></td><td>1237650760782970976<br><a href=\"http://legacysurvey.org/viewer?ra=186.9223062894951&dec=-3.1527959561558\"><img src=\"http://legacysurvey.org/viewer/jpeg-cutout/?ra=186.9223&dec=-3.152796&zoom=15&layer=sdss&size=120\"></a></td><td>1237650369410957433<br><a href=\"http://legacysurvey.org/viewer?ra=186.38505566473825&dec=-3.5073539146059813\"><img src=\"http://legacysurvey.org/viewer/jpeg-cutout/?ra=186.3851&dec=-3.507354&zoom=15&layer=sdss&size=120\"></a></td><td>1237650369947631634<br><a href=\"http://legacysurvey.org/viewer?ra=185.8190669353505&dec=-3.065239906529768\"><img src=\"http://legacysurvey.org/viewer/jpeg-cutout/?ra=185.8191&dec=-3.06524&zoom=15&layer=sdss&size=120\"></a></td></tr>\n",
       "<tr><td>1237650760782774364<br><a href=\"http://legacysurvey.org/viewer?ra=186.48685259115805&dec=-3.1889940787431192\"><img src=\"http://legacysurvey.org/viewer/jpeg-cutout/?ra=186.4869&dec=-3.188994&zoom=15&layer=sdss&size=120\"></a></td><td>1237650369947369489<br><a href=\"http://legacysurvey.org/viewer?ra=185.25689254837616&dec=-3.125796248054401\"><img src=\"http://legacysurvey.org/viewer/jpeg-cutout/?ra=185.2569&dec=-3.125796&zoom=15&layer=sdss&size=120\"></a></td><td>1237650369947304043<br><a href=\"http://legacysurvey.org/viewer?ra=185.1699495682749&dec=-3.0859837042168983\"><img src=\"http://legacysurvey.org/viewer/jpeg-cutout/?ra=185.1699&dec=-3.085984&zoom=15&layer=sdss&size=120\"></a></td><td>1237650761319710767<br><a href=\"http://legacysurvey.org/viewer?ra=186.6491228512005&dec=-2.7883573675021154\"><img src=\"http://legacysurvey.org/viewer/jpeg-cutout/?ra=186.6491&dec=-2.788357&zoom=15&layer=sdss&size=120\"></a></td><td>1237650761856319525<br><a href=\"http://legacysurvey.org/viewer?ra=185.99846412294795&dec=-2.4941533118872163\"><img src=\"http://legacysurvey.org/viewer/jpeg-cutout/?ra=185.9985&dec=-2.494153&zoom=15&layer=sdss&size=120\"></a></td><td>1237650760782184522<br><a href=\"http://legacysurvey.org/viewer?ra=185.14404841732528&dec=-3.1634837265989257\"><img src=\"http://legacysurvey.org/viewer/jpeg-cutout/?ra=185.144&dec=-3.163484&zoom=15&layer=sdss&size=120\"></a></td></tr>\n",
       "<tr><td>3080810000000003633<br><a href=\"http://legacysurvey.org/viewer?ra=186.5593894268869&dec=-3.9070770088223394\"><img src=\"http://legacysurvey.org/viewer/jpeg-cutout/?ra=186.5594&dec=-3.907077&zoom=15&layer=sdss&size=120\"></a></td><td>1237650760782577725<br><a href=\"http://legacysurvey.org/viewer?ra=186.04318238314534&dec=-3.15603514792616\"><img src=\"http://legacysurvey.org/viewer/jpeg-cutout/?ra=186.0432&dec=-3.156035&zoom=15&layer=sdss&size=120\"></a></td><td>1237650760782315576<br><a href=\"http://legacysurvey.org/viewer?ra=185.43074476449902&dec=-3.134551561475057\"><img src=\"http://legacysurvey.org/viewer/jpeg-cutout/?ra=185.4307&dec=-3.134552&zoom=15&layer=sdss&size=120\"></a></td><td>1237650369947566094<br><a href=\"http://legacysurvey.org/viewer?ra=185.64885841116677&dec=-2.922482472070071\"><img src=\"http://legacysurvey.org/viewer/jpeg-cutout/?ra=185.6489&dec=-2.922482&zoom=15&layer=sdss&size=120\"></a></td><td>1237650760782708815<br><a href=\"http://legacysurvey.org/viewer?ra=186.3664866913912&dec=-3.330527882886212\"><img src=\"http://legacysurvey.org/viewer/jpeg-cutout/?ra=186.3665&dec=-3.330528&zoom=15&layer=sdss&size=120\"></a></td><td>1237650760245444691<br><a href=\"http://legacysurvey.org/viewer?ra=185.480304290412&dec=-3.719369767004926\"><img src=\"http://legacysurvey.org/viewer/jpeg-cutout/?ra=185.4803&dec=-3.71937&zoom=15&layer=sdss&size=120\"></a></td></tr>\n",
       "<tr><td>1237650369947762749<br><a href=\"http://legacysurvey.org/viewer?ra=186.18327539247167&dec=-2.9726125113093707\"><img src=\"http://legacysurvey.org/viewer/jpeg-cutout/?ra=186.1833&dec=-2.972613&zoom=15&layer=sdss&size=120\"></a></td><td>1237650369947500562<br><a href=\"http://legacysurvey.org/viewer?ra=185.5470950763396&dec=-3.00429395365076\"><img src=\"http://legacysurvey.org/viewer/jpeg-cutout/?ra=185.5471&dec=-3.004294&zoom=15&layer=sdss&size=120\"></a></td><td>3080760000000003241<br><a href=\"http://legacysurvey.org/viewer?ra=185.45136938817453&dec=-3.9316450591829724\"><img src=\"http://legacysurvey.org/viewer/jpeg-cutout/?ra=185.4514&dec=-3.931645&zoom=15&layer=sdss&size=120\"></a></td><td></td><td></td><td></td></tr>\n",
       "    </table>\n",
       "    "
      ],
      "text/plain": [
       "<IPython.core.display.HTML object>"
      ]
     },
     "execution_count": 31,
     "metadata": {},
     "output_type": "execute_result"
    }
   ],
   "source": [
    "make_decals_viewer_cutouts(guidestars[np.random.permutation(len(guidestars))], \n",
    "                           survey='sdss',ncols=6,namecol='TargetName')"
   ]
  },
  {
   "cell_type": "code",
   "execution_count": 66,
   "metadata": {},
   "outputs": [
    {
     "data": {
      "text/plain": [
       "134"
      ]
     },
     "execution_count": 66,
     "metadata": {},
     "output_type": "execute_result"
    }
   ],
   "source": [
    "guides_to_rem = [int(i) for i in '1237650760245641417 3095190000000000040 3095150000000001752  3080810000000003633 3095190000000001438 3080760000000003241 3080780000000001873'.split()]\n",
    "writecat.remove_rows((writecat['Notes']=='Guide')&(np.in1d(writecat['TargetName'], guides_to_rem)))\n",
    "np.sum((writecat['Notes']=='Guide'))"
   ]
  },
  {
   "cell_type": "code",
   "execution_count": 32,
   "metadata": {},
   "outputs": [
    {
     "data": {
      "text/html": [
       "\n",
       "    <table>\n",
       "    <tr><td>0<br><a href=\"http://legacysurvey.org/viewer?ra=185.9532806890984&dec=-4.206264947417025\"><img src=\"http://legacysurvey.org/viewer/jpeg-cutout/?ra=185.9533&dec=-4.206265&zoom=16&layer=sdss&size=120\"></a></td><td>1<br><a href=\"http://legacysurvey.org/viewer?ra=185.43657789852978&dec=-4.393300400630303\"><img src=\"http://legacysurvey.org/viewer/jpeg-cutout/?ra=185.4366&dec=-4.3933&zoom=16&layer=sdss&size=120\"></a></td><td>2<br><a href=\"http://legacysurvey.org/viewer?ra=186.128686255179&dec=-4.250763572439148\"><img src=\"http://legacysurvey.org/viewer/jpeg-cutout/?ra=186.1287&dec=-4.250764&zoom=16&layer=sdss&size=120\"></a></td><td>3<br><a href=\"http://legacysurvey.org/viewer?ra=186.58728162143152&dec=-3.539950808669454\"><img src=\"http://legacysurvey.org/viewer/jpeg-cutout/?ra=186.5873&dec=-3.539951&zoom=16&layer=sdss&size=120\"></a></td><td>4<br><a href=\"http://legacysurvey.org/viewer?ra=185.90902697004924&dec=-2.4068646369664943\"><img src=\"http://legacysurvey.org/viewer/jpeg-cutout/?ra=185.909&dec=-2.406865&zoom=16&layer=sdss&size=120\"></a></td><td>5<br><a href=\"http://legacysurvey.org/viewer?ra=185.20429487717627&dec=-2.9190594784278985\"><img src=\"http://legacysurvey.org/viewer/jpeg-cutout/?ra=185.2043&dec=-2.919059&zoom=16&layer=sdss&size=120\"></a></td></tr>\n",
       "<tr><td>6<br><a href=\"http://legacysurvey.org/viewer?ra=184.92250921241353&dec=-3.5358510218559793\"><img src=\"http://legacysurvey.org/viewer/jpeg-cutout/?ra=184.9225&dec=-3.535851&zoom=16&layer=sdss&size=120\"></a></td><td>7<br><a href=\"http://legacysurvey.org/viewer?ra=185.40429699200988&dec=-4.356854213489804\"><img src=\"http://legacysurvey.org/viewer/jpeg-cutout/?ra=185.4043&dec=-4.356854&zoom=16&layer=sdss&size=120\"></a></td><td>8<br><a href=\"http://legacysurvey.org/viewer?ra=186.94583923529183&dec=-3.0555182523762383\"><img src=\"http://legacysurvey.org/viewer/jpeg-cutout/?ra=186.9458&dec=-3.055518&zoom=16&layer=sdss&size=120\"></a></td><td>9<br><a href=\"http://legacysurvey.org/viewer?ra=186.55139043297086&dec=-3.911543830633993\"><img src=\"http://legacysurvey.org/viewer/jpeg-cutout/?ra=186.5514&dec=-3.911544&zoom=16&layer=sdss&size=120\"></a></td><td>10<br><a href=\"http://legacysurvey.org/viewer?ra=185.44858233651735&dec=-4.402199460388708\"><img src=\"http://legacysurvey.org/viewer/jpeg-cutout/?ra=185.4486&dec=-4.402199&zoom=16&layer=sdss&size=120\"></a></td><td>11<br><a href=\"http://legacysurvey.org/viewer?ra=186.64530884880807&dec=-4.222803344290968\"><img src=\"http://legacysurvey.org/viewer/jpeg-cutout/?ra=186.6453&dec=-4.222803&zoom=16&layer=sdss&size=120\"></a></td></tr>\n",
       "<tr><td>12<br><a href=\"http://legacysurvey.org/viewer?ra=185.33224622996835&dec=-3.0118827820287697\"><img src=\"http://legacysurvey.org/viewer/jpeg-cutout/?ra=185.3322&dec=-3.011883&zoom=16&layer=sdss&size=120\"></a></td><td>13<br><a href=\"http://legacysurvey.org/viewer?ra=186.92171865869776&dec=-2.9908538571358103\"><img src=\"http://legacysurvey.org/viewer/jpeg-cutout/?ra=186.9217&dec=-2.990854&zoom=16&layer=sdss&size=120\"></a></td><td>14<br><a href=\"http://legacysurvey.org/viewer?ra=186.08412531505365&dec=-4.319394623036357\"><img src=\"http://legacysurvey.org/viewer/jpeg-cutout/?ra=186.0841&dec=-4.319395&zoom=16&layer=sdss&size=120\"></a></td><td>15<br><a href=\"http://legacysurvey.org/viewer?ra=186.07263886656546&dec=-4.357738624720083\"><img src=\"http://legacysurvey.org/viewer/jpeg-cutout/?ra=186.0726&dec=-4.357739&zoom=16&layer=sdss&size=120\"></a></td><td>16<br><a href=\"http://legacysurvey.org/viewer?ra=185.41345685184118&dec=-4.312540157415764\"><img src=\"http://legacysurvey.org/viewer/jpeg-cutout/?ra=185.4135&dec=-4.31254&zoom=16&layer=sdss&size=120\"></a></td><td>17<br><a href=\"http://legacysurvey.org/viewer?ra=186.00361565886843&dec=-2.4420957400297247\"><img src=\"http://legacysurvey.org/viewer/jpeg-cutout/?ra=186.0036&dec=-2.442096&zoom=16&layer=sdss&size=120\"></a></td></tr>\n",
       "<tr><td>18<br><a href=\"http://legacysurvey.org/viewer?ra=185.78848274675607&dec=-4.479517388559287\"><img src=\"http://legacysurvey.org/viewer/jpeg-cutout/?ra=185.7885&dec=-4.479517&zoom=16&layer=sdss&size=120\"></a></td><td>19<br><a href=\"http://legacysurvey.org/viewer?ra=186.23780082710505&dec=-4.390594610451563\"><img src=\"http://legacysurvey.org/viewer/jpeg-cutout/?ra=186.2378&dec=-4.390595&zoom=16&layer=sdss&size=120\"></a></td><td>20<br><a href=\"http://legacysurvey.org/viewer?ra=186.8852656882288&dec=-3.601971869775345\"><img src=\"http://legacysurvey.org/viewer/jpeg-cutout/?ra=186.8853&dec=-3.601972&zoom=16&layer=sdss&size=120\"></a></td><td>21<br><a href=\"http://legacysurvey.org/viewer?ra=185.44855254876236&dec=-4.021418592104112\"><img src=\"http://legacysurvey.org/viewer/jpeg-cutout/?ra=185.4486&dec=-4.021419&zoom=16&layer=sdss&size=120\"></a></td><td>22<br><a href=\"http://legacysurvey.org/viewer?ra=184.9677432667013&dec=-3.803040681692411\"><img src=\"http://legacysurvey.org/viewer/jpeg-cutout/?ra=184.9677&dec=-3.803041&zoom=16&layer=sdss&size=120\"></a></td><td>23<br><a href=\"http://legacysurvey.org/viewer?ra=185.27324644643616&dec=-2.6823365802807655\"><img src=\"http://legacysurvey.org/viewer/jpeg-cutout/?ra=185.2732&dec=-2.682337&zoom=16&layer=sdss&size=120\"></a></td></tr>\n",
       "<tr><td>24<br><a href=\"http://legacysurvey.org/viewer?ra=186.753720028911&dec=-3.6412464087645766\"><img src=\"http://legacysurvey.org/viewer/jpeg-cutout/?ra=186.7537&dec=-3.641246&zoom=16&layer=sdss&size=120\"></a></td><td>25<br><a href=\"http://legacysurvey.org/viewer?ra=185.26753587768644&dec=-4.2828169512183045\"><img src=\"http://legacysurvey.org/viewer/jpeg-cutout/?ra=185.2675&dec=-4.282817&zoom=16&layer=sdss&size=120\"></a></td><td>26<br><a href=\"http://legacysurvey.org/viewer?ra=185.94982418397976&dec=-4.41176760198376\"><img src=\"http://legacysurvey.org/viewer/jpeg-cutout/?ra=185.9498&dec=-4.411768&zoom=16&layer=sdss&size=120\"></a></td><td>27<br><a href=\"http://legacysurvey.org/viewer?ra=185.3210291967896&dec=-3.25080692973661\"><img src=\"http://legacysurvey.org/viewer/jpeg-cutout/?ra=185.321&dec=-3.250807&zoom=16&layer=sdss&size=120\"></a></td><td>28<br><a href=\"http://legacysurvey.org/viewer?ra=186.9959342118436&dec=-3.2614872212631933\"><img src=\"http://legacysurvey.org/viewer/jpeg-cutout/?ra=186.9959&dec=-3.261487&zoom=16&layer=sdss&size=120\"></a></td><td>29<br><a href=\"http://legacysurvey.org/viewer?ra=185.89993509503657&dec=-4.34408226343522\"><img src=\"http://legacysurvey.org/viewer/jpeg-cutout/?ra=185.8999&dec=-4.344082&zoom=16&layer=sdss&size=120\"></a></td></tr>\n",
       "<tr><td>30<br><a href=\"http://legacysurvey.org/viewer?ra=184.95026773225192&dec=-3.622107649187742\"><img src=\"http://legacysurvey.org/viewer/jpeg-cutout/?ra=184.9503&dec=-3.622108&zoom=16&layer=sdss&size=120\"></a></td><td>31<br><a href=\"http://legacysurvey.org/viewer?ra=186.1375543705631&dec=-4.45955196994797\"><img src=\"http://legacysurvey.org/viewer/jpeg-cutout/?ra=186.1376&dec=-4.459552&zoom=16&layer=sdss&size=120\"></a></td><td>32<br><a href=\"http://legacysurvey.org/viewer?ra=186.16296309026723&dec=-4.339921770397103\"><img src=\"http://legacysurvey.org/viewer/jpeg-cutout/?ra=186.163&dec=-4.339922&zoom=16&layer=sdss&size=120\"></a></td><td>33<br><a href=\"http://legacysurvey.org/viewer?ra=185.970598031943&dec=-4.538259418686489\"><img src=\"http://legacysurvey.org/viewer/jpeg-cutout/?ra=185.9706&dec=-4.538259&zoom=16&layer=sdss&size=120\"></a></td><td>34<br><a href=\"http://legacysurvey.org/viewer?ra=186.3486613696071&dec=-2.4493197513155156\"><img src=\"http://legacysurvey.org/viewer/jpeg-cutout/?ra=186.3487&dec=-2.44932&zoom=16&layer=sdss&size=120\"></a></td><td>35<br><a href=\"http://legacysurvey.org/viewer?ra=185.47987911003415&dec=-2.705796563497796\"><img src=\"http://legacysurvey.org/viewer/jpeg-cutout/?ra=185.4799&dec=-2.705797&zoom=16&layer=sdss&size=120\"></a></td></tr>\n",
       "<tr><td>36<br><a href=\"http://legacysurvey.org/viewer?ra=184.93479913077692&dec=-3.238389250929539\"><img src=\"http://legacysurvey.org/viewer/jpeg-cutout/?ra=184.9348&dec=-3.238389&zoom=16&layer=sdss&size=120\"></a></td><td>37<br><a href=\"http://legacysurvey.org/viewer?ra=185.01930907192212&dec=-2.9116397512791345\"><img src=\"http://legacysurvey.org/viewer/jpeg-cutout/?ra=185.0193&dec=-2.91164&zoom=16&layer=sdss&size=120\"></a></td><td>38<br><a href=\"http://legacysurvey.org/viewer?ra=184.973491191737&dec=-3.6364894684915203\"><img src=\"http://legacysurvey.org/viewer/jpeg-cutout/?ra=184.9735&dec=-3.636489&zoom=16&layer=sdss&size=120\"></a></td><td>39<br><a href=\"http://legacysurvey.org/viewer?ra=186.74636442448184&dec=-2.7377912275063636\"><img src=\"http://legacysurvey.org/viewer/jpeg-cutout/?ra=186.7464&dec=-2.737791&zoom=16&layer=sdss&size=120\"></a></td><td>40<br><a href=\"http://legacysurvey.org/viewer?ra=185.5381967046863&dec=-2.4405689106020363\"><img src=\"http://legacysurvey.org/viewer/jpeg-cutout/?ra=185.5382&dec=-2.440569&zoom=16&layer=sdss&size=120\"></a></td><td>41<br><a href=\"http://legacysurvey.org/viewer?ra=185.18586235078743&dec=-3.7349548505722283\"><img src=\"http://legacysurvey.org/viewer/jpeg-cutout/?ra=185.1859&dec=-3.734955&zoom=16&layer=sdss&size=120\"></a></td></tr>\n",
       "<tr><td>42<br><a href=\"http://legacysurvey.org/viewer?ra=186.46946996383346&dec=-3.8544481235768044\"><img src=\"http://legacysurvey.org/viewer/jpeg-cutout/?ra=186.4695&dec=-3.854448&zoom=16&layer=sdss&size=120\"></a></td><td>43<br><a href=\"http://legacysurvey.org/viewer?ra=186.41116581070375&dec=-2.4650875865406485\"><img src=\"http://legacysurvey.org/viewer/jpeg-cutout/?ra=186.4112&dec=-2.465088&zoom=16&layer=sdss&size=120\"></a></td><td>44<br><a href=\"http://legacysurvey.org/viewer?ra=186.35571231817724&dec=-4.271543835520062\"><img src=\"http://legacysurvey.org/viewer/jpeg-cutout/?ra=186.3557&dec=-4.271544&zoom=16&layer=sdss&size=120\"></a></td><td>45<br><a href=\"http://legacysurvey.org/viewer?ra=185.1540968512101&dec=-2.814482628990342\"><img src=\"http://legacysurvey.org/viewer/jpeg-cutout/?ra=185.1541&dec=-2.814483&zoom=16&layer=sdss&size=120\"></a></td><td>46<br><a href=\"http://legacysurvey.org/viewer?ra=185.79649979746617&dec=-4.435818565036736\"><img src=\"http://legacysurvey.org/viewer/jpeg-cutout/?ra=185.7965&dec=-4.435819&zoom=16&layer=sdss&size=120\"></a></td><td>47<br><a href=\"http://legacysurvey.org/viewer?ra=186.05666527167176&dec=-4.213862128302738\"><img src=\"http://legacysurvey.org/viewer/jpeg-cutout/?ra=186.0567&dec=-4.213862&zoom=16&layer=sdss&size=120\"></a></td></tr>\n",
       "<tr><td>48<br><a href=\"http://legacysurvey.org/viewer?ra=185.38600382697547&dec=-3.1552123123536053\"><img src=\"http://legacysurvey.org/viewer/jpeg-cutout/?ra=185.386&dec=-3.155212&zoom=16&layer=sdss&size=120\"></a></td><td>49<br><a href=\"http://legacysurvey.org/viewer?ra=186.69038348973098&dec=-2.668487477728604\"><img src=\"http://legacysurvey.org/viewer/jpeg-cutout/?ra=186.6904&dec=-2.668487&zoom=16&layer=sdss&size=120\"></a></td><td>50<br><a href=\"http://legacysurvey.org/viewer?ra=186.81021251506982&dec=-3.304651144457236\"><img src=\"http://legacysurvey.org/viewer/jpeg-cutout/?ra=186.8102&dec=-3.304651&zoom=16&layer=sdss&size=120\"></a></td><td>51<br><a href=\"http://legacysurvey.org/viewer?ra=185.67606325460778&dec=-2.4867072824439442\"><img src=\"http://legacysurvey.org/viewer/jpeg-cutout/?ra=185.6761&dec=-2.486707&zoom=16&layer=sdss&size=120\"></a></td><td>52<br><a href=\"http://legacysurvey.org/viewer?ra=186.0426450905796&dec=-4.350680576021064\"><img src=\"http://legacysurvey.org/viewer/jpeg-cutout/?ra=186.0426&dec=-4.350681&zoom=16&layer=sdss&size=120\"></a></td><td>53<br><a href=\"http://legacysurvey.org/viewer?ra=185.95935973736405&dec=-2.4063881851582947\"><img src=\"http://legacysurvey.org/viewer/jpeg-cutout/?ra=185.9594&dec=-2.406388&zoom=16&layer=sdss&size=120\"></a></td></tr>\n",
       "<tr><td>54<br><a href=\"http://legacysurvey.org/viewer?ra=185.51853149095035&dec=-3.822532046828444\"><img src=\"http://legacysurvey.org/viewer/jpeg-cutout/?ra=185.5185&dec=-3.822532&zoom=16&layer=sdss&size=120\"></a></td><td>55<br><a href=\"http://legacysurvey.org/viewer?ra=185.00692956143888&dec=-3.8505057452157114\"><img src=\"http://legacysurvey.org/viewer/jpeg-cutout/?ra=185.0069&dec=-3.850506&zoom=16&layer=sdss&size=120\"></a></td><td>56<br><a href=\"http://legacysurvey.org/viewer?ra=186.36885934985514&dec=-2.6117080682233853\"><img src=\"http://legacysurvey.org/viewer/jpeg-cutout/?ra=186.3689&dec=-2.611708&zoom=16&layer=sdss&size=120\"></a></td><td>57<br><a href=\"http://legacysurvey.org/viewer?ra=185.58681368084078&dec=-2.505636219539779\"><img src=\"http://legacysurvey.org/viewer/jpeg-cutout/?ra=185.5868&dec=-2.505636&zoom=16&layer=sdss&size=120\"></a></td><td>58<br><a href=\"http://legacysurvey.org/viewer?ra=186.25021629660213&dec=-2.451040717569861\"><img src=\"http://legacysurvey.org/viewer/jpeg-cutout/?ra=186.2502&dec=-2.451041&zoom=16&layer=sdss&size=120\"></a></td><td>59<br><a href=\"http://legacysurvey.org/viewer?ra=185.22833257071258&dec=-2.91601498348111\"><img src=\"http://legacysurvey.org/viewer/jpeg-cutout/?ra=185.2283&dec=-2.916015&zoom=16&layer=sdss&size=120\"></a></td></tr>\n",
       "<tr><td>60<br><a href=\"http://legacysurvey.org/viewer?ra=184.940416976319&dec=-3.691566733582615\"><img src=\"http://legacysurvey.org/viewer/jpeg-cutout/?ra=184.9404&dec=-3.691567&zoom=16&layer=sdss&size=120\"></a></td><td>61<br><a href=\"http://legacysurvey.org/viewer?ra=186.25687269147997&dec=-3.9640399100232515\"><img src=\"http://legacysurvey.org/viewer/jpeg-cutout/?ra=186.2569&dec=-3.96404&zoom=16&layer=sdss&size=120\"></a></td><td>62<br><a href=\"http://legacysurvey.org/viewer?ra=186.98781194388303&dec=-3.7458143733884746\"><img src=\"http://legacysurvey.org/viewer/jpeg-cutout/?ra=186.9878&dec=-3.745814&zoom=16&layer=sdss&size=120\"></a></td><td>63<br><a href=\"http://legacysurvey.org/viewer?ra=186.58755663992312&dec=-3.63704086395254\"><img src=\"http://legacysurvey.org/viewer/jpeg-cutout/?ra=186.5876&dec=-3.637041&zoom=16&layer=sdss&size=120\"></a></td><td>64<br><a href=\"http://legacysurvey.org/viewer?ra=186.35728644186406&dec=-4.089114773175753\"><img src=\"http://legacysurvey.org/viewer/jpeg-cutout/?ra=186.3573&dec=-4.089115&zoom=16&layer=sdss&size=120\"></a></td><td>65<br><a href=\"http://legacysurvey.org/viewer?ra=185.79871136791127&dec=-2.4017091414625105\"><img src=\"http://legacysurvey.org/viewer/jpeg-cutout/?ra=185.7987&dec=-2.401709&zoom=16&layer=sdss&size=120\"></a></td></tr>\n",
       "<tr><td>66<br><a href=\"http://legacysurvey.org/viewer?ra=185.42131042497851&dec=-2.7083205006823436\"><img src=\"http://legacysurvey.org/viewer/jpeg-cutout/?ra=185.4213&dec=-2.708321&zoom=16&layer=sdss&size=120\"></a></td><td>67<br><a href=\"http://legacysurvey.org/viewer?ra=185.25061722082503&dec=-4.265105548110999\"><img src=\"http://legacysurvey.org/viewer/jpeg-cutout/?ra=185.2506&dec=-4.265106&zoom=16&layer=sdss&size=120\"></a></td><td>68<br><a href=\"http://legacysurvey.org/viewer?ra=185.1368421467465&dec=-2.765861726043341\"><img src=\"http://legacysurvey.org/viewer/jpeg-cutout/?ra=185.1368&dec=-2.765862&zoom=16&layer=sdss&size=120\"></a></td><td>69<br><a href=\"http://legacysurvey.org/viewer?ra=185.820212538631&dec=-2.7162595829567784\"><img src=\"http://legacysurvey.org/viewer/jpeg-cutout/?ra=185.8202&dec=-2.71626&zoom=16&layer=sdss&size=120\"></a></td><td>70<br><a href=\"http://legacysurvey.org/viewer?ra=186.49047966468785&dec=-2.4935835535549273\"><img src=\"http://legacysurvey.org/viewer/jpeg-cutout/?ra=186.4905&dec=-2.493584&zoom=16&layer=sdss&size=120\"></a></td><td>71<br><a href=\"http://legacysurvey.org/viewer?ra=186.99865140312758&dec=-3.537547207396294\"><img src=\"http://legacysurvey.org/viewer/jpeg-cutout/?ra=186.9987&dec=-3.537547&zoom=16&layer=sdss&size=120\"></a></td></tr>\n",
       "<tr><td>72<br><a href=\"http://legacysurvey.org/viewer?ra=184.91162970876985&dec=-3.4698717463378936\"><img src=\"http://legacysurvey.org/viewer/jpeg-cutout/?ra=184.9116&dec=-3.469872&zoom=16&layer=sdss&size=120\"></a></td><td>73<br><a href=\"http://legacysurvey.org/viewer?ra=186.69063797996097&dec=-2.731842631893041\"><img src=\"http://legacysurvey.org/viewer/jpeg-cutout/?ra=186.6906&dec=-2.731843&zoom=16&layer=sdss&size=120\"></a></td><td>74<br><a href=\"http://legacysurvey.org/viewer?ra=186.03349075119453&dec=-4.41936715916812\"><img src=\"http://legacysurvey.org/viewer/jpeg-cutout/?ra=186.0335&dec=-4.419367&zoom=16&layer=sdss&size=120\"></a></td><td>75<br><a href=\"http://legacysurvey.org/viewer?ra=186.99665468661357&dec=-3.5749459609457745\"><img src=\"http://legacysurvey.org/viewer/jpeg-cutout/?ra=186.9967&dec=-3.574946&zoom=16&layer=sdss&size=120\"></a></td><td>76<br><a href=\"http://legacysurvey.org/viewer?ra=185.26804753611012&dec=-4.222963463086364\"><img src=\"http://legacysurvey.org/viewer/jpeg-cutout/?ra=185.268&dec=-4.222963&zoom=16&layer=sdss&size=120\"></a></td><td>77<br><a href=\"http://legacysurvey.org/viewer?ra=186.92462566343988&dec=-3.910999932142326\"><img src=\"http://legacysurvey.org/viewer/jpeg-cutout/?ra=186.9246&dec=-3.911&zoom=16&layer=sdss&size=120\"></a></td></tr>\n",
       "<tr><td>78<br><a href=\"http://legacysurvey.org/viewer?ra=186.50236579054507&dec=-3.1901652242582355\"><img src=\"http://legacysurvey.org/viewer/jpeg-cutout/?ra=186.5024&dec=-3.190165&zoom=16&layer=sdss&size=120\"></a></td><td>79<br><a href=\"http://legacysurvey.org/viewer?ra=186.95422313850142&dec=-3.2842797673197364\"><img src=\"http://legacysurvey.org/viewer/jpeg-cutout/?ra=186.9542&dec=-3.28428&zoom=16&layer=sdss&size=120\"></a></td><td>80<br><a href=\"http://legacysurvey.org/viewer?ra=185.66547783743508&dec=-4.432733132445968\"><img src=\"http://legacysurvey.org/viewer/jpeg-cutout/?ra=185.6655&dec=-4.432733&zoom=16&layer=sdss&size=120\"></a></td><td>81<br><a href=\"http://legacysurvey.org/viewer?ra=186.74104383731765&dec=-3.621899438237987\"><img src=\"http://legacysurvey.org/viewer/jpeg-cutout/?ra=186.741&dec=-3.621899&zoom=16&layer=sdss&size=120\"></a></td><td>82<br><a href=\"http://legacysurvey.org/viewer?ra=185.6609897362785&dec=-2.4028517545966133\"><img src=\"http://legacysurvey.org/viewer/jpeg-cutout/?ra=185.661&dec=-2.402852&zoom=16&layer=sdss&size=120\"></a></td><td>83<br><a href=\"http://legacysurvey.org/viewer?ra=185.7750819631963&dec=-4.252859031261778\"><img src=\"http://legacysurvey.org/viewer/jpeg-cutout/?ra=185.7751&dec=-4.252859&zoom=16&layer=sdss&size=120\"></a></td></tr>\n",
       "<tr><td>84<br><a href=\"http://legacysurvey.org/viewer?ra=185.2323608385309&dec=-3.9415517128277444\"><img src=\"http://legacysurvey.org/viewer/jpeg-cutout/?ra=185.2324&dec=-3.941552&zoom=16&layer=sdss&size=120\"></a></td><td>85<br><a href=\"http://legacysurvey.org/viewer?ra=186.75818285106757&dec=-3.286442140679716\"><img src=\"http://legacysurvey.org/viewer/jpeg-cutout/?ra=186.7582&dec=-3.286442&zoom=16&layer=sdss&size=120\"></a></td><td>86<br><a href=\"http://legacysurvey.org/viewer?ra=186.83089078026663&dec=-2.8807121827995266\"><img src=\"http://legacysurvey.org/viewer/jpeg-cutout/?ra=186.8309&dec=-2.880712&zoom=16&layer=sdss&size=120\"></a></td><td>87<br><a href=\"http://legacysurvey.org/viewer?ra=186.98865194781766&dec=-3.8218920932250446\"><img src=\"http://legacysurvey.org/viewer/jpeg-cutout/?ra=186.9887&dec=-3.821892&zoom=16&layer=sdss&size=120\"></a></td><td>88<br><a href=\"http://legacysurvey.org/viewer?ra=185.3726823289293&dec=-4.3475667214572224\"><img src=\"http://legacysurvey.org/viewer/jpeg-cutout/?ra=185.3727&dec=-4.347567&zoom=16&layer=sdss&size=120\"></a></td><td>89<br><a href=\"http://legacysurvey.org/viewer?ra=186.5029722934772&dec=-2.9792244820168126\"><img src=\"http://legacysurvey.org/viewer/jpeg-cutout/?ra=186.503&dec=-2.979224&zoom=16&layer=sdss&size=120\"></a></td></tr>\n",
       "<tr><td>90<br><a href=\"http://legacysurvey.org/viewer?ra=185.10493653369437&dec=-3.6194421316016077\"><img src=\"http://legacysurvey.org/viewer/jpeg-cutout/?ra=185.1049&dec=-3.619442&zoom=16&layer=sdss&size=120\"></a></td><td>91<br><a href=\"http://legacysurvey.org/viewer?ra=185.94022033313212&dec=-4.102877961003901\"><img src=\"http://legacysurvey.org/viewer/jpeg-cutout/?ra=185.9402&dec=-4.102878&zoom=16&layer=sdss&size=120\"></a></td><td>92<br><a href=\"http://legacysurvey.org/viewer?ra=185.6137633480263&dec=-4.447938224132471\"><img src=\"http://legacysurvey.org/viewer/jpeg-cutout/?ra=185.6138&dec=-4.447938&zoom=16&layer=sdss&size=120\"></a></td><td>93<br><a href=\"http://legacysurvey.org/viewer?ra=185.11546910850728&dec=-2.9014657872825245\"><img src=\"http://legacysurvey.org/viewer/jpeg-cutout/?ra=185.1155&dec=-2.901466&zoom=16&layer=sdss&size=120\"></a></td><td>94<br><a href=\"http://legacysurvey.org/viewer?ra=186.13261898495895&dec=-2.6482853549282335\"><img src=\"http://legacysurvey.org/viewer/jpeg-cutout/?ra=186.1326&dec=-2.648285&zoom=16&layer=sdss&size=120\"></a></td><td>95<br><a href=\"http://legacysurvey.org/viewer?ra=184.9402582590611&dec=-3.698268776474164\"><img src=\"http://legacysurvey.org/viewer/jpeg-cutout/?ra=184.9403&dec=-3.698269&zoom=16&layer=sdss&size=120\"></a></td></tr>\n",
       "<tr><td>96<br><a href=\"http://legacysurvey.org/viewer?ra=186.30565387008284&dec=-2.476444103056537\"><img src=\"http://legacysurvey.org/viewer/jpeg-cutout/?ra=186.3057&dec=-2.476444&zoom=16&layer=sdss&size=120\"></a></td><td>97<br><a href=\"http://legacysurvey.org/viewer?ra=185.80594928845164&dec=-4.2504211253086375\"><img src=\"http://legacysurvey.org/viewer/jpeg-cutout/?ra=185.8059&dec=-4.250421&zoom=16&layer=sdss&size=120\"></a></td><td>98<br><a href=\"http://legacysurvey.org/viewer?ra=186.6254247962947&dec=-3.328141955090314\"><img src=\"http://legacysurvey.org/viewer/jpeg-cutout/?ra=186.6254&dec=-3.328142&zoom=16&layer=sdss&size=120\"></a></td><td>99<br><a href=\"http://legacysurvey.org/viewer?ra=185.4182651619795&dec=-2.5523124811547815\"><img src=\"http://legacysurvey.org/viewer/jpeg-cutout/?ra=185.4183&dec=-2.552312&zoom=16&layer=sdss&size=120\"></a></td><td>100<br><a href=\"http://legacysurvey.org/viewer?ra=186.71882381329473&dec=-4.159638940313387\"><img src=\"http://legacysurvey.org/viewer/jpeg-cutout/?ra=186.7188&dec=-4.159639&zoom=16&layer=sdss&size=120\"></a></td><td>101<br><a href=\"http://legacysurvey.org/viewer?ra=186.20273005505322&dec=-4.378659494444011\"><img src=\"http://legacysurvey.org/viewer/jpeg-cutout/?ra=186.2027&dec=-4.378659&zoom=16&layer=sdss&size=120\"></a></td></tr>\n",
       "<tr><td>102<br><a href=\"http://legacysurvey.org/viewer?ra=186.1617681911005&dec=-2.418230798328743\"><img src=\"http://legacysurvey.org/viewer/jpeg-cutout/?ra=186.1618&dec=-2.418231&zoom=16&layer=sdss&size=120\"></a></td><td>103<br><a href=\"http://legacysurvey.org/viewer?ra=186.69170417307285&dec=-3.232917572308198\"><img src=\"http://legacysurvey.org/viewer/jpeg-cutout/?ra=186.6917&dec=-3.232918&zoom=16&layer=sdss&size=120\"></a></td><td>104<br><a href=\"http://legacysurvey.org/viewer?ra=186.06426073402503&dec=-4.291040079264189\"><img src=\"http://legacysurvey.org/viewer/jpeg-cutout/?ra=186.0643&dec=-4.29104&zoom=16&layer=sdss&size=120\"></a></td><td>105<br><a href=\"http://legacysurvey.org/viewer?ra=186.25022638539102&dec=-4.4798687588023824\"><img src=\"http://legacysurvey.org/viewer/jpeg-cutout/?ra=186.2502&dec=-4.479869&zoom=16&layer=sdss&size=120\"></a></td><td>106<br><a href=\"http://legacysurvey.org/viewer?ra=185.10027468676404&dec=-2.874134451891168\"><img src=\"http://legacysurvey.org/viewer/jpeg-cutout/?ra=185.1003&dec=-2.874134&zoom=16&layer=sdss&size=120\"></a></td><td>107<br><a href=\"http://legacysurvey.org/viewer?ra=185.51995088353954&dec=-3.847796414243868\"><img src=\"http://legacysurvey.org/viewer/jpeg-cutout/?ra=185.52&dec=-3.847796&zoom=16&layer=sdss&size=120\"></a></td></tr>\n",
       "<tr><td>108<br><a href=\"http://legacysurvey.org/viewer?ra=185.4101645805567&dec=-2.5078857161760806\"><img src=\"http://legacysurvey.org/viewer/jpeg-cutout/?ra=185.4102&dec=-2.507886&zoom=16&layer=sdss&size=120\"></a></td><td>109<br><a href=\"http://legacysurvey.org/viewer?ra=185.22270271517402&dec=-3.750938764140733\"><img src=\"http://legacysurvey.org/viewer/jpeg-cutout/?ra=185.2227&dec=-3.750939&zoom=16&layer=sdss&size=120\"></a></td><td>110<br><a href=\"http://legacysurvey.org/viewer?ra=185.36164261195782&dec=-2.61915166180093\"><img src=\"http://legacysurvey.org/viewer/jpeg-cutout/?ra=185.3616&dec=-2.619152&zoom=16&layer=sdss&size=120\"></a></td><td>111<br><a href=\"http://legacysurvey.org/viewer?ra=185.47562224299008&dec=-4.005980040455047\"><img src=\"http://legacysurvey.org/viewer/jpeg-cutout/?ra=185.4756&dec=-4.00598&zoom=16&layer=sdss&size=120\"></a></td><td>112<br><a href=\"http://legacysurvey.org/viewer?ra=184.97192063296157&dec=-3.7420731514846763\"><img src=\"http://legacysurvey.org/viewer/jpeg-cutout/?ra=184.9719&dec=-3.742073&zoom=16&layer=sdss&size=120\"></a></td><td>113<br><a href=\"http://legacysurvey.org/viewer?ra=185.3116250711426&dec=-3.9392803804702017\"><img src=\"http://legacysurvey.org/viewer/jpeg-cutout/?ra=185.3116&dec=-3.93928&zoom=16&layer=sdss&size=120\"></a></td></tr>\n",
       "<tr><td>114<br><a href=\"http://legacysurvey.org/viewer?ra=184.9189048000751&dec=-3.538565469916465\"><img src=\"http://legacysurvey.org/viewer/jpeg-cutout/?ra=184.9189&dec=-3.538565&zoom=16&layer=sdss&size=120\"></a></td><td>115<br><a href=\"http://legacysurvey.org/viewer?ra=185.8262774104409&dec=-2.383938453570984\"><img src=\"http://legacysurvey.org/viewer/jpeg-cutout/?ra=185.8263&dec=-2.383938&zoom=16&layer=sdss&size=120\"></a></td><td>116<br><a href=\"http://legacysurvey.org/viewer?ra=185.44520580252265&dec=-2.4990534295645643\"><img src=\"http://legacysurvey.org/viewer/jpeg-cutout/?ra=185.4452&dec=-2.499053&zoom=16&layer=sdss&size=120\"></a></td><td>117<br><a href=\"http://legacysurvey.org/viewer?ra=185.39373747086051&dec=-4.271874394781432\"><img src=\"http://legacysurvey.org/viewer/jpeg-cutout/?ra=185.3937&dec=-4.271874&zoom=16&layer=sdss&size=120\"></a></td><td>118<br><a href=\"http://legacysurvey.org/viewer?ra=184.9746043281429&dec=-3.8032654084713347\"><img src=\"http://legacysurvey.org/viewer/jpeg-cutout/?ra=184.9746&dec=-3.803265&zoom=16&layer=sdss&size=120\"></a></td><td>119<br><a href=\"http://legacysurvey.org/viewer?ra=186.79135621030264&dec=-2.8180498868871906\"><img src=\"http://legacysurvey.org/viewer/jpeg-cutout/?ra=186.7914&dec=-2.81805&zoom=16&layer=sdss&size=120\"></a></td></tr>\n",
       "<tr><td>120<br><a href=\"http://legacysurvey.org/viewer?ra=184.89367324286172&dec=-3.318135510501161\"><img src=\"http://legacysurvey.org/viewer/jpeg-cutout/?ra=184.8937&dec=-3.318136&zoom=16&layer=sdss&size=120\"></a></td><td>121<br><a href=\"http://legacysurvey.org/viewer?ra=186.01644522445028&dec=-2.427249864079192\"><img src=\"http://legacysurvey.org/viewer/jpeg-cutout/?ra=186.0164&dec=-2.42725&zoom=16&layer=sdss&size=120\"></a></td><td>122<br><a href=\"http://legacysurvey.org/viewer?ra=187.02927095603818&dec=-3.352301641124014\"><img src=\"http://legacysurvey.org/viewer/jpeg-cutout/?ra=187.0293&dec=-3.352302&zoom=16&layer=sdss&size=120\"></a></td><td>123<br><a href=\"http://legacysurvey.org/viewer?ra=186.21257937702939&dec=-2.910622285217278\"><img src=\"http://legacysurvey.org/viewer/jpeg-cutout/?ra=186.2126&dec=-2.910622&zoom=16&layer=sdss&size=120\"></a></td><td>124<br><a href=\"http://legacysurvey.org/viewer?ra=185.11968023524108&dec=-3.5880716196720646\"><img src=\"http://legacysurvey.org/viewer/jpeg-cutout/?ra=185.1197&dec=-3.588072&zoom=16&layer=sdss&size=120\"></a></td><td>125<br><a href=\"http://legacysurvey.org/viewer?ra=184.92523605740226&dec=-3.512205141716296\"><img src=\"http://legacysurvey.org/viewer/jpeg-cutout/?ra=184.9252&dec=-3.512205&zoom=16&layer=sdss&size=120\"></a></td></tr>\n",
       "<tr><td>126<br><a href=\"http://legacysurvey.org/viewer?ra=187.0593724606761&dec=-3.5643138448248335\"><img src=\"http://legacysurvey.org/viewer/jpeg-cutout/?ra=187.0594&dec=-3.564314&zoom=16&layer=sdss&size=120\"></a></td><td>127<br><a href=\"http://legacysurvey.org/viewer?ra=186.1404666557086&dec=-4.383989435430396\"><img src=\"http://legacysurvey.org/viewer/jpeg-cutout/?ra=186.1405&dec=-4.383989&zoom=16&layer=sdss&size=120\"></a></td><td>128<br><a href=\"http://legacysurvey.org/viewer?ra=186.3009217932717&dec=-4.194164860519221\"><img src=\"http://legacysurvey.org/viewer/jpeg-cutout/?ra=186.3009&dec=-4.194165&zoom=16&layer=sdss&size=120\"></a></td><td>129<br><a href=\"http://legacysurvey.org/viewer?ra=186.64126083173142&dec=-2.635175079117245\"><img src=\"http://legacysurvey.org/viewer/jpeg-cutout/?ra=186.6413&dec=-2.635175&zoom=16&layer=sdss&size=120\"></a></td><td>130<br><a href=\"http://legacysurvey.org/viewer?ra=186.79504523531992&dec=-4.055047404960624\"><img src=\"http://legacysurvey.org/viewer/jpeg-cutout/?ra=186.795&dec=-4.055047&zoom=16&layer=sdss&size=120\"></a></td><td>131<br><a href=\"http://legacysurvey.org/viewer?ra=186.57084630767568&dec=-3.97088707848712\"><img src=\"http://legacysurvey.org/viewer/jpeg-cutout/?ra=186.5708&dec=-3.970887&zoom=16&layer=sdss&size=120\"></a></td></tr>\n",
       "<tr><td>132<br><a href=\"http://legacysurvey.org/viewer?ra=186.23243256874758&dec=-4.322013407748533\"><img src=\"http://legacysurvey.org/viewer/jpeg-cutout/?ra=186.2324&dec=-4.322013&zoom=16&layer=sdss&size=120\"></a></td><td>133<br><a href=\"http://legacysurvey.org/viewer?ra=186.17656127032694&dec=-2.367384461355557\"><img src=\"http://legacysurvey.org/viewer/jpeg-cutout/?ra=186.1766&dec=-2.367384&zoom=16&layer=sdss&size=120\"></a></td><td>134<br><a href=\"http://legacysurvey.org/viewer?ra=186.03324807779114&dec=-4.3394651408271\"><img src=\"http://legacysurvey.org/viewer/jpeg-cutout/?ra=186.0332&dec=-4.339465&zoom=16&layer=sdss&size=120\"></a></td><td>135<br><a href=\"http://legacysurvey.org/viewer?ra=185.6871081611664&dec=-2.456304286286491\"><img src=\"http://legacysurvey.org/viewer/jpeg-cutout/?ra=185.6871&dec=-2.456304&zoom=16&layer=sdss&size=120\"></a></td><td>136<br><a href=\"http://legacysurvey.org/viewer?ra=186.7881510027153&dec=-4.170397832281599\"><img src=\"http://legacysurvey.org/viewer/jpeg-cutout/?ra=186.7882&dec=-4.170398&zoom=16&layer=sdss&size=120\"></a></td><td>137<br><a href=\"http://legacysurvey.org/viewer?ra=186.6725577164513&dec=-2.598734195131701\"><img src=\"http://legacysurvey.org/viewer/jpeg-cutout/?ra=186.6726&dec=-2.598734&zoom=16&layer=sdss&size=120\"></a></td></tr>\n",
       "<tr><td>138<br><a href=\"http://legacysurvey.org/viewer?ra=186.5727178535011&dec=-2.6724409983286783\"><img src=\"http://legacysurvey.org/viewer/jpeg-cutout/?ra=186.5727&dec=-2.672441&zoom=16&layer=sdss&size=120\"></a></td><td>139<br><a href=\"http://legacysurvey.org/viewer?ra=186.96705204054322&dec=-3.6581863458601367\"><img src=\"http://legacysurvey.org/viewer/jpeg-cutout/?ra=186.9671&dec=-3.658186&zoom=16&layer=sdss&size=120\"></a></td><td>140<br><a href=\"http://legacysurvey.org/viewer?ra=186.55412991842283&dec=-2.6470974446494484\"><img src=\"http://legacysurvey.org/viewer/jpeg-cutout/?ra=186.5541&dec=-2.647097&zoom=16&layer=sdss&size=120\"></a></td><td>141<br><a href=\"http://legacysurvey.org/viewer?ra=185.1898328412703&dec=-4.081543603970276\"><img src=\"http://legacysurvey.org/viewer/jpeg-cutout/?ra=185.1898&dec=-4.081544&zoom=16&layer=sdss&size=120\"></a></td><td>142<br><a href=\"http://legacysurvey.org/viewer?ra=186.75965969495215&dec=-3.076492902446533\"><img src=\"http://legacysurvey.org/viewer/jpeg-cutout/?ra=186.7597&dec=-3.076493&zoom=16&layer=sdss&size=120\"></a></td><td>143<br><a href=\"http://legacysurvey.org/viewer?ra=185.9911214537642&dec=-2.429752762565964\"><img src=\"http://legacysurvey.org/viewer/jpeg-cutout/?ra=185.9911&dec=-2.429753&zoom=16&layer=sdss&size=120\"></a></td></tr>\n",
       "<tr><td>144<br><a href=\"http://legacysurvey.org/viewer?ra=185.50608869163005&dec=-2.7739437003950425\"><img src=\"http://legacysurvey.org/viewer/jpeg-cutout/?ra=185.5061&dec=-2.773944&zoom=16&layer=sdss&size=120\"></a></td><td>145<br><a href=\"http://legacysurvey.org/viewer?ra=186.03251327735586&dec=-4.171963309478291\"><img src=\"http://legacysurvey.org/viewer/jpeg-cutout/?ra=186.0325&dec=-4.171963&zoom=16&layer=sdss&size=120\"></a></td><td>146<br><a href=\"http://legacysurvey.org/viewer?ra=186.20833933847342&dec=-2.7668619370061984\"><img src=\"http://legacysurvey.org/viewer/jpeg-cutout/?ra=186.2083&dec=-2.766862&zoom=16&layer=sdss&size=120\"></a></td><td>147<br><a href=\"http://legacysurvey.org/viewer?ra=186.84836056152463&dec=-4.025196390831628\"><img src=\"http://legacysurvey.org/viewer/jpeg-cutout/?ra=186.8484&dec=-4.025196&zoom=16&layer=sdss&size=120\"></a></td><td>148<br><a href=\"http://legacysurvey.org/viewer?ra=185.8986928742143&dec=-4.474644872543709\"><img src=\"http://legacysurvey.org/viewer/jpeg-cutout/?ra=185.8987&dec=-4.474645&zoom=16&layer=sdss&size=120\"></a></td><td>149<br><a href=\"http://legacysurvey.org/viewer?ra=186.8088691391509&dec=-2.796375830022916\"><img src=\"http://legacysurvey.org/viewer/jpeg-cutout/?ra=186.8089&dec=-2.796376&zoom=16&layer=sdss&size=120\"></a></td></tr>\n",
       "    </table>\n",
       "    "
      ],
      "text/plain": [
       "<IPython.core.display.HTML object>"
      ]
     },
     "execution_count": 32,
     "metadata": {},
     "output_type": "execute_result"
    }
   ],
   "source": [
    "make_decals_viewer_cutouts(acat[acat['Notes']=='sky'], survey='sdss', ncols=6, \n",
    "                           zoom=16, namecol='TargetName')"
   ]
  },
  {
   "cell_type": "code",
   "execution_count": 67,
   "metadata": {},
   "outputs": [
    {
     "data": {
      "text/plain": [
       "86"
      ]
     },
     "execution_count": 67,
     "metadata": {},
     "output_type": "execute_result"
    }
   ],
   "source": [
    "skys_to_rem = [int(i) for i in '0 1 2 7 9 10 11 14 15 16 18 19 21 22 25 26 29 31 32 33 42 44 46 47 52 54 55 61 64 67  74 76 77 80 83 84 87 88 91 92 97 100 101 104 105 107 108 111 113 115 117 118 120 127 128 130 131 132 134 136 141 145 147 148'.split()]\n",
    "writecat.remove_rows((writecat['Notes']=='Sky')&(np.in1d(writecat['TargetName'], skys_to_rem)))\n",
    "np.sum((writecat['Notes']=='Sky'))"
   ]
  },
  {
   "cell_type": "code",
   "execution_count": 69,
   "metadata": {},
   "outputs": [
    {
     "name": "stdout",
     "output_type": "stream",
     "text": [
      "Writing aat_targets_jun2018/nsa3469_master2.fld\n"
     ]
    }
   ],
   "source": [
    "fnout = 'aat_targets_jun2018/{}_master2.fld'.format(hostname)\n",
    "print('Writing', fnout)\n",
    "write_fld_file(writecat, host, obs_start_date, fnout)"
   ]
  },
  {
   "cell_type": "code",
   "execution_count": 73,
   "metadata": {},
   "outputs": [
    {
     "name": "stdout",
     "output_type": "stream",
     "text": [
      "Total remaining in each priority (5 fluxes, 100 guides, and 86 skies not included):\n",
      "{1: 561, 2: 9, 3: 14, 4: 50, 5: 350, 6: 31, 7: 0, 8: 2, 9: 0}\n",
      "{1: 100.0, 2: 100.0, 3: 100.0, 4: 100.0, 5: 100.0, 6: 100.0, 7: None, 8: 100.0, 9: None}%\n"
     ]
    }
   ],
   "source": [
    "aat.subsample_from_master_fld('aat_targets_jun2018/{}_master2.fld'.format(hostname), \n",
    "                              'aat_targets_jun2018/{}_2.fld'.format(hostname),\n",
    "                             {1:np.inf,2:np.inf,3:np.inf,4:np.inf,\n",
    "                              5:np.inf,6:np.inf,7:np.inf,8:np.inf,9:np.inf},\n",
    "                              nflux=5, nguides=100)"
   ]
  },
  {
   "cell_type": "markdown",
   "metadata": {},
   "source": [
    "## nsa145729 "
   ]
  },
  {
   "cell_type": "code",
   "execution_count": 107,
   "metadata": {},
   "outputs": [
    {
     "name": "stdout",
     "output_type": "stream",
     "text": [
      "[06/12 16:26:44] [WARNING] Not found: des catalog for nsa145729.\n",
      "[06/12 16:26:47] Use SDSS, DECALS to build base catalog v2 for nsa145729 (1/1)\n"
     ]
    },
    {
     "name": "stderr",
     "output_type": "stream",
     "text": [
      "/Users/erik/projects/saga/saga/build/lib/SAGA/objects/build2.py:149: RuntimeWarning: invalid value encountered in true_divide\n",
      "  catalog['radius_err'] = np.hypot(catalog['FRACDEV']**2.0 / catalog['SHAPEDEV_R_IVAR'], (1.0 - catalog['FRACDEV'])**2.0 / catalog['SHAPEEXP_R_IVAR'])\n",
      "/Users/erik/projects/saga/saga/build/lib/SAGA/objects/build2.py:149: RuntimeWarning: divide by zero encountered in true_divide\n",
      "  catalog['radius_err'] = np.hypot(catalog['FRACDEV']**2.0 / catalog['SHAPEDEV_R_IVAR'], (1.0 - catalog['FRACDEV'])**2.0 / catalog['SHAPEEXP_R_IVAR'])\n",
      "WARNING:root:More than one NSA obj near (224.00647544143186, -1.3881621757613183): 171363, 695124\n",
      "/Users/erik/miniconda3/envs/saga3/lib/python3.6/site-packages/astropy/table/column.py:965: RuntimeWarning: invalid value encountered in less\n",
      "  return getattr(self.data, op)(other)\n",
      "/Users/erik/projects/saga/saga/build/lib/SAGA/objects/build2.py:465: RuntimeWarning: divide by zero encountered in true_divide\n",
      "  mag_err = np.fabs((2.5/np.log(10.0))/nsa_sersic_flux/np.sqrt(nsa_obj['SERSIC_FLUX_IVAR']))\n",
      "WARNING:root:More than 25 photo obj within ~ 32.092\" of SDSS spec obj 3255090000000000028 (225.3636447316739, -1.1231123636193607)\n",
      "WARNING:root:No kcorrect module. Stellar mass not calculated!\n"
     ]
    },
    {
     "name": "stdout",
     "output_type": "stream",
     "text": [
      "[06/12 16:27:45] Write base catalog to ./base_catalogs/base_v2_nsa145729.fits.gz\n"
     ]
    }
   ],
   "source": [
    "fieldnum = 2\n",
    "idnum = 145729\n",
    "\n",
    "saga_object_catalog.build_and_write_to_database('NSA{}'.format(idnum), overwrite=fieldnum>1)"
   ]
  },
  {
   "cell_type": "code",
   "execution_count": 109,
   "metadata": {},
   "outputs": [
    {
     "name": "stdout",
     "output_type": "stream",
     "text": [
      "nsa145729\n",
      "# of flux stars = 318\n",
      "# of sky fibers = 100\n",
      "# of Priority=1 targets = 527\n",
      "# of Priority=2 targets = 16\n",
      "# of Priority=3 targets = 14\n",
      "# of Priority=4 targets = 49\n",
      "# of Priority=5 targets = 115\n",
      "# of Priority=6 targets = 45\n",
      "# of Priority=7 targets = 0\n",
      "# of Priority=8 targets = 13\n",
      "# of Priority=9 targets = 418\n",
      "Found 196 SDSS guide stars\n"
     ]
    },
    {
     "name": "stderr",
     "output_type": "stream",
     "text": [
      "/Users/erik/miniconda3/envs/saga3/lib/python3.6/site-packages/astropy/table/column.py:965: RuntimeWarning: invalid value encountered in greater\n",
      "  return getattr(self.data, op)(other)\n",
      "/Users/erik/miniconda3/envs/saga3/lib/python3.6/site-packages/astropy/table/column.py:965: RuntimeWarning: invalid value encountered in less\n",
      "  return getattr(self.data, op)(other)\n"
     ]
    },
    {
     "data": {
      "text/plain": [
       "1393"
      ]
     },
     "execution_count": 109,
     "metadata": {},
     "output_type": "execute_result"
    }
   ],
   "source": [
    "host = targethosts[targethosts['NSAID'] == idnum]\n",
    "assert len(host) == 1\n",
    "host = host[0]\n",
    "\n",
    "hostname = host[host_id_label]\n",
    "print(hostname)\n",
    "tcats[hostname] = tcat = saga_targets.build_target_catalogs(hostname, return_as='list').pop()\n",
    "acats[hostname] = acat = saga.targets.prepare_aat_catalog(tcat, sky_fiber_needed=100)\n",
    "\n",
    "guidestars = get_sdss_guidestars(hostname)\n",
    "writecat = table.vstack([acat, guidestars])\n",
    "writecat['Notes'] = [n.title() for n in writecat['Notes']]\n",
    "len(writecat)"
   ]
  },
  {
   "cell_type": "code",
   "execution_count": 172,
   "metadata": {},
   "outputs": [
    {
     "data": {
      "text/html": [
       "\n",
       "    <table>\n",
       "    <tr><td>2319057700166428416<br><a href=\"http://legacysurvey.org/viewer?ra=9.109202892354672&dec=-28.293844252065725\"><img src=\"http://legacysurvey.org/viewer/jpeg-cutout/?ra=9.109203&dec=-28.29384&zoom=15&layer=sdss&size=120\"></a></td><td>2319021519361884672<br><a href=\"http://legacysurvey.org/viewer?ra=8.60631186410794&dec=-28.67210870384251\"><img src=\"http://legacysurvey.org/viewer/jpeg-cutout/?ra=8.606312&dec=-28.67211&zoom=15&layer=sdss&size=120\"></a></td><td>2319025951768126848<br><a href=\"http://legacysurvey.org/viewer?ra=8.491702625928971&dec=-28.59389905618385\"><img src=\"http://legacysurvey.org/viewer/jpeg-cutout/?ra=8.491703&dec=-28.5939&zoom=15&layer=sdss&size=120\"></a></td><td>2319262999603043456<br><a href=\"http://legacysurvey.org/viewer?ra=8.848122005939876&dec=-27.938550398526335\"><img src=\"http://legacysurvey.org/viewer/jpeg-cutout/?ra=8.848122&dec=-27.93855&zoom=15&layer=sdss&size=120\"></a></td><td>2346383622133162368<br><a href=\"http://legacysurvey.org/viewer?ra=8.39247338850036&dec=-26.988958978220907\"><img src=\"http://legacysurvey.org/viewer/jpeg-cutout/?ra=8.392473&dec=-26.98896&zoom=15&layer=sdss&size=120\"></a></td><td>2319187270739891712<br><a href=\"http://legacysurvey.org/viewer?ra=7.964704314352772&dec=-28.40743388102047\"><img src=\"http://legacysurvey.org/viewer/jpeg-cutout/?ra=7.964704&dec=-28.40743&zoom=15&layer=sdss&size=120\"></a></td></tr>\n",
       "<tr><td>2319199537166461952<br><a href=\"http://legacysurvey.org/viewer?ra=7.665298247475432&dec=-28.251560726570688\"><img src=\"http://legacysurvey.org/viewer/jpeg-cutout/?ra=7.665298&dec=-28.25156&zoom=15&layer=sdss&size=120\"></a></td><td>2319183010132311040<br><a href=\"http://legacysurvey.org/viewer?ra=7.7255296842577605&dec=-28.469316943266822\"><img src=\"http://legacysurvey.org/viewer/jpeg-cutout/?ra=7.72553&dec=-28.46932&zoom=15&layer=sdss&size=120\"></a></td><td>2322331392958701312<br><a href=\"http://legacysurvey.org/viewer?ra=7.474975916764402&dec=-27.674770745447624\"><img src=\"http://legacysurvey.org/viewer/jpeg-cutout/?ra=7.474976&dec=-27.67477&zoom=15&layer=sdss&size=120\"></a></td><td>2319254581467120512<br><a href=\"http://legacysurvey.org/viewer?ra=8.682187940095883&dec=-28.09182055360061\"><img src=\"http://legacysurvey.org/viewer/jpeg-cutout/?ra=8.682188&dec=-28.09182&zoom=15&layer=sdss&size=120\"></a></td><td>2322376301136826496<br><a href=\"http://legacysurvey.org/viewer?ra=8.025478782833765&dec=-27.092097196848314\"><img src=\"http://legacysurvey.org/viewer/jpeg-cutout/?ra=8.025479&dec=-27.0921&zoom=15&layer=sdss&size=120\"></a></td><td>2319247572080461824<br><a href=\"http://legacysurvey.org/viewer?ra=8.397175917597451&dec=-28.022437251058708\"><img src=\"http://legacysurvey.org/viewer/jpeg-cutout/?ra=8.397176&dec=-28.02244&zoom=15&layer=sdss&size=120\"></a></td></tr>\n",
       "<tr><td>2319208913079108224<br><a href=\"http://legacysurvey.org/viewer?ra=7.66855441698101&dec=-28.147903633081828\"><img src=\"http://legacysurvey.org/viewer/jpeg-cutout/?ra=7.668554&dec=-28.1479&zoom=15&layer=sdss&size=120\"></a></td><td>2319000903518940544<br><a href=\"http://legacysurvey.org/viewer?ra=9.454624206523254&dec=-28.40082056975738\"><img src=\"http://legacysurvey.org/viewer/jpeg-cutout/?ra=9.454624&dec=-28.40082&zoom=15&layer=sdss&size=120\"></a></td><td>2343088282705554816<br><a href=\"http://legacysurvey.org/viewer?ra=9.406933871298826&dec=-27.98192477685907\"><img src=\"http://legacysurvey.org/viewer/jpeg-cutout/?ra=9.406934&dec=-27.98192&zoom=15&layer=sdss&size=120\"></a></td><td>2319312649424925568<br><a href=\"http://legacysurvey.org/viewer?ra=8.20771094392189&dec=-27.808773264291997\"><img src=\"http://legacysurvey.org/viewer/jpeg-cutout/?ra=8.207711&dec=-27.80877&zoom=15&layer=sdss&size=120\"></a></td><td>2343358109730975232<br><a href=\"http://legacysurvey.org/viewer?ra=8.782302444642093&dec=-27.31936269630375\"><img src=\"http://legacysurvey.org/viewer/jpeg-cutout/?ra=8.782302&dec=-27.31936&zoom=15&layer=sdss&size=120\"></a></td><td>2319215377005622144<br><a href=\"http://legacysurvey.org/viewer?ra=8.520162655971346&dec=-28.51076163013471\"><img src=\"http://legacysurvey.org/viewer/jpeg-cutout/?ra=8.520163&dec=-28.51076&zoom=15&layer=sdss&size=120\"></a></td></tr>\n",
       "<tr><td>2343355665893825408<br><a href=\"http://legacysurvey.org/viewer?ra=8.682897914994177&dec=-27.42328063126016\"><img src=\"http://legacysurvey.org/viewer/jpeg-cutout/?ra=8.682898&dec=-27.42328&zoom=15&layer=sdss&size=120\"></a></td><td>2319289319162546688<br><a href=\"http://legacysurvey.org/viewer?ra=7.930801158916395&dec=-28.10369619355727\"><img src=\"http://legacysurvey.org/viewer/jpeg-cutout/?ra=7.930801&dec=-28.1037&zoom=15&layer=sdss&size=120\"></a></td><td>2319273582402434048<br><a href=\"http://legacysurvey.org/viewer?ra=8.57747438906565&dec=-27.887410417196143\"><img src=\"http://legacysurvey.org/viewer/jpeg-cutout/?ra=8.577474&dec=-27.88741&zoom=15&layer=sdss&size=120\"></a></td><td>2319049621332373120<br><a href=\"http://legacysurvey.org/viewer?ra=9.339962322717593&dec=-28.289658699946013\"><img src=\"http://legacysurvey.org/viewer/jpeg-cutout/?ra=9.339962&dec=-28.28966&zoom=15&layer=sdss&size=120\"></a></td><td>2319140541495713536<br><a href=\"http://legacysurvey.org/viewer?ra=8.099146904997323&dec=-28.44329383011427\"><img src=\"http://legacysurvey.org/viewer/jpeg-cutout/?ra=8.099147&dec=-28.44329&zoom=15&layer=sdss&size=120\"></a></td><td>2343332339927256320<br><a href=\"http://legacysurvey.org/viewer?ra=9.298404448652645&dec=-27.393032420583147\"><img src=\"http://legacysurvey.org/viewer/jpeg-cutout/?ra=9.298404&dec=-27.39303&zoom=15&layer=sdss&size=120\"></a></td></tr>\n",
       "<tr><td>2343088248345827712<br><a href=\"http://legacysurvey.org/viewer?ra=9.385122539992262&dec=-27.989481257855587\"><img src=\"http://legacysurvey.org/viewer/jpeg-cutout/?ra=9.385123&dec=-27.98948&zoom=15&layer=sdss&size=120\"></a></td><td>2343296330921449344<br><a href=\"http://legacysurvey.org/viewer?ra=9.320050427628093&dec=-27.500031851801218\"><img src=\"http://legacysurvey.org/viewer/jpeg-cutout/?ra=9.32005&dec=-27.50003&zoom=15&layer=sdss&size=120\"></a></td><td>2319273307524538752<br><a href=\"http://legacysurvey.org/viewer?ra=8.63832355292222&dec=-27.867555613664898\"><img src=\"http://legacysurvey.org/viewer/jpeg-cutout/?ra=8.638324&dec=-27.86756&zoom=15&layer=sdss&size=120\"></a></td><td>2319348727150260608<br><a href=\"http://legacysurvey.org/viewer?ra=8.479672667461942&dec=-27.434955071172535\"><img src=\"http://legacysurvey.org/viewer/jpeg-cutout/?ra=8.479673&dec=-27.43496&zoom=15&layer=sdss&size=120\"></a></td><td>2343335775901103872<br><a href=\"http://legacysurvey.org/viewer?ra=9.366261379223133&dec=-27.24435672799069\"><img src=\"http://legacysurvey.org/viewer/jpeg-cutout/?ra=9.366261&dec=-27.24436&zoom=15&layer=sdss&size=120\"></a></td><td>2322375510862844288<br><a href=\"http://legacysurvey.org/viewer?ra=8.018925961781946&dec=-27.13787289642183\"><img src=\"http://legacysurvey.org/viewer/jpeg-cutout/?ra=8.018926&dec=-27.13787&zoom=15&layer=sdss&size=120\"></a></td></tr>\n",
       "<tr><td>2322316137234882688<br><a href=\"http://legacysurvey.org/viewer?ra=7.75566176678287&dec=-27.739256635755343\"><img src=\"http://legacysurvey.org/viewer/jpeg-cutout/?ra=7.755662&dec=-27.73926&zoom=15&layer=sdss&size=120\"></a></td><td>2346386851948630272<br><a href=\"http://legacysurvey.org/viewer?ra=8.70833291865949&dec=-26.968031729567535\"><img src=\"http://legacysurvey.org/viewer/jpeg-cutout/?ra=8.708333&dec=-26.96803&zoom=15&layer=sdss&size=120\"></a></td><td>2319319723235696384<br><a href=\"http://legacysurvey.org/viewer?ra=8.391460505269473&dec=-27.900376976232522\"><img src=\"http://legacysurvey.org/viewer/jpeg-cutout/?ra=8.391461&dec=-27.90038&zoom=15&layer=sdss&size=120\"></a></td><td>2343089652799878656<br><a href=\"http://legacysurvey.org/viewer?ra=9.428126636680068&dec=-27.91415656261782\"><img src=\"http://legacysurvey.org/viewer/jpeg-cutout/?ra=9.428127&dec=-27.91416&zoom=15&layer=sdss&size=120\"></a></td><td>2319247503360985728<br><a href=\"http://legacysurvey.org/viewer?ra=8.358852256142752&dec=-28.045013867897637\"><img src=\"http://legacysurvey.org/viewer/jpeg-cutout/?ra=8.358852&dec=-28.04501&zoom=15&layer=sdss&size=120\"></a></td><td>2319330104172069632<br><a href=\"http://legacysurvey.org/viewer?ra=8.69998062164048&dec=-27.637690620767685\"><img src=\"http://legacysurvey.org/viewer/jpeg-cutout/?ra=8.699981&dec=-27.63769&zoom=15&layer=sdss&size=120\"></a></td></tr>\n",
       "<tr><td>2322363725472567168<br><a href=\"http://legacysurvey.org/viewer?ra=7.9147739440990215&dec=-27.35514699238511\"><img src=\"http://legacysurvey.org/viewer/jpeg-cutout/?ra=7.914774&dec=-27.35515&zoom=15&layer=sdss&size=120\"></a></td><td>2343384635449010816<br><a href=\"http://legacysurvey.org/viewer?ra=8.800756158148031&dec=-26.957756909286474\"><img src=\"http://legacysurvey.org/viewer/jpeg-cutout/?ra=8.800756&dec=-26.95776&zoom=15&layer=sdss&size=120\"></a></td><td>2343281487514450688<br><a href=\"http://legacysurvey.org/viewer?ra=9.224060732016902&dec=-27.832134649873918\"><img src=\"http://legacysurvey.org/viewer/jpeg-cutout/?ra=9.224061&dec=-27.83213&zoom=15&layer=sdss&size=120\"></a></td><td>2322373414918805504<br><a href=\"http://legacysurvey.org/viewer?ra=8.147875505656787&dec=-27.153209980604935\"><img src=\"http://legacysurvey.org/viewer/jpeg-cutout/?ra=8.147876&dec=-27.15321&zoom=15&layer=sdss&size=120\"></a></td><td>2343290592845146240<br><a href=\"http://legacysurvey.org/viewer?ra=9.408892087631818&dec=-27.64883333000681\"><img src=\"http://legacysurvey.org/viewer/jpeg-cutout/?ra=9.408892&dec=-27.64883&zoom=15&layer=sdss&size=120\"></a></td><td>2319188881351849344<br><a href=\"http://legacysurvey.org/viewer?ra=7.994190664750559&dec=-28.370890621904888\"><img src=\"http://legacysurvey.org/viewer/jpeg-cutout/?ra=7.994191&dec=-28.37089&zoom=15&layer=sdss&size=120\"></a></td></tr>\n",
       "<tr><td>2343279906966486016<br><a href=\"http://legacysurvey.org/viewer?ra=9.224311384383855&dec=-27.864992529096433\"><img src=\"http://legacysurvey.org/viewer/jpeg-cutout/?ra=9.224311&dec=-27.86499&zoom=15&layer=sdss&size=120\"></a></td><td>2319212593867062400<br><a href=\"http://legacysurvey.org/viewer?ra=7.722938315442755&dec=-28.01346371946686\"><img src=\"http://legacysurvey.org/viewer/jpeg-cutout/?ra=7.722938&dec=-28.01346&zoom=15&layer=sdss&size=120\"></a></td><td>2319212250269653632<br><a href=\"http://legacysurvey.org/viewer?ra=7.664061826533692&dec=-28.044347970202647\"><img src=\"http://legacysurvey.org/viewer/jpeg-cutout/?ra=7.664062&dec=-28.04435&zoom=15&layer=sdss&size=120\"></a></td><td>2319327458472217600<br><a href=\"http://legacysurvey.org/viewer?ra=8.61952810572089&dec=-27.765025753205347\"><img src=\"http://legacysurvey.org/viewer/jpeg-cutout/?ra=8.619528&dec=-27.76503&zoom=15&layer=sdss&size=120\"></a></td><td>2319349444409246848<br><a href=\"http://legacysurvey.org/viewer?ra=8.354382842469134&dec=-27.5075062216186\"><img src=\"http://legacysurvey.org/viewer/jpeg-cutout/?ra=8.354383&dec=-27.50751&zoom=15&layer=sdss&size=120\"></a></td><td>2343370169999140864<br><a href=\"http://legacysurvey.org/viewer?ra=8.71544760357231&dec=-27.289725727545694\"><img src=\"http://legacysurvey.org/viewer/jpeg-cutout/?ra=8.715448&dec=-27.28973&zoom=15&layer=sdss&size=120\"></a></td></tr>\n",
       "<tr><td>2343297907174080384<br><a href=\"http://legacysurvey.org/viewer?ra=8.934417857040543&dec=-27.721128632285936\"><img src=\"http://legacysurvey.org/viewer/jpeg-cutout/?ra=8.934418&dec=-27.72113&zoom=15&layer=sdss&size=120\"></a></td><td>2322318916078011904<br><a href=\"http://legacysurvey.org/viewer?ra=7.926269968577413&dec=-27.71538126391953\"><img src=\"http://legacysurvey.org/viewer/jpeg-cutout/?ra=7.92627&dec=-27.71538&zoom=15&layer=sdss&size=120\"></a></td><td>2319287871758227328<br><a href=\"http://legacysurvey.org/viewer?ra=8.001263399555382&dec=-28.185860892658372\"><img src=\"http://legacysurvey.org/viewer/jpeg-cutout/?ra=8.001263&dec=-28.18586&zoom=15&layer=sdss&size=120\"></a></td><td>2319289697119676416<br><a href=\"http://legacysurvey.org/viewer?ra=8.014949550064179&dec=-28.07963161487362\"><img src=\"http://legacysurvey.org/viewer/jpeg-cutout/?ra=8.01495&dec=-28.07963&zoom=15&layer=sdss&size=120\"></a></td><td>2319250733176451072<br><a href=\"http://legacysurvey.org/viewer?ra=8.854973608238664&dec=-28.18097210962392\"><img src=\"http://legacysurvey.org/viewer/jpeg-cutout/?ra=8.854974&dec=-28.18097&zoom=15&layer=sdss&size=120\"></a></td><td>2319228158828289664<br><a href=\"http://legacysurvey.org/viewer?ra=8.548425529925296&dec=-28.245246926166683\"><img src=\"http://legacysurvey.org/viewer/jpeg-cutout/?ra=8.548426&dec=-28.24525&zoom=15&layer=sdss&size=120\"></a></td></tr>\n",
       "<tr><td>2319306258513560448<br><a href=\"http://legacysurvey.org/viewer?ra=7.845797565839002&dec=-27.957985720873193\"><img src=\"http://legacysurvey.org/viewer/jpeg-cutout/?ra=7.845798&dec=-27.95799&zoom=15&layer=sdss&size=120\"></a></td><td>2343322375603158656<br><a href=\"http://legacysurvey.org/viewer?ra=9.438510550240151&dec=-27.36097406003579\"><img src=\"http://legacysurvey.org/viewer/jpeg-cutout/?ra=9.438511&dec=-27.36097&zoom=15&layer=sdss&size=120\"></a></td><td>2322336546919492224<br><a href=\"http://legacysurvey.org/viewer?ra=7.769387063345569&dec=-27.530722267245217\"><img src=\"http://legacysurvey.org/viewer/jpeg-cutout/?ra=7.769387&dec=-27.53072&zoom=15&layer=sdss&size=120\"></a></td><td>2322323730737083136<br><a href=\"http://legacysurvey.org/viewer?ra=7.8047068547773435&dec=-27.629749744072893\"><img src=\"http://legacysurvey.org/viewer/jpeg-cutout/?ra=7.804707&dec=-27.62975&zoom=15&layer=sdss&size=120\"></a></td><td>2319251729608863232<br><a href=\"http://legacysurvey.org/viewer?ra=8.871052356961282&dec=-28.122706165950397\"><img src=\"http://legacysurvey.org/viewer/jpeg-cutout/?ra=8.871052&dec=-28.12271&zoom=15&layer=sdss&size=120\"></a></td><td>2319335219477521152<br><a href=\"http://legacysurvey.org/viewer?ra=8.573708034648392&dec=-27.538017471044654\"><img src=\"http://legacysurvey.org/viewer/jpeg-cutout/?ra=8.573708&dec=-27.53802&zoom=15&layer=sdss&size=120\"></a></td></tr>\n",
       "<tr><td>2319184831198444032<br><a href=\"http://legacysurvey.org/viewer?ra=7.7101089606457185&dec=-28.42077884336676\"><img src=\"http://legacysurvey.org/viewer/jpeg-cutout/?ra=7.710109&dec=-28.42078&zoom=15&layer=sdss&size=120\"></a></td><td>2322344518378826240<br><a href=\"http://legacysurvey.org/viewer?ra=8.102480460788977&dec=-27.59409367126629\"><img src=\"http://legacysurvey.org/viewer/jpeg-cutout/?ra=8.10248&dec=-27.59409&zoom=15&layer=sdss&size=120\"></a></td><td>2346386199113569536<br><a href=\"http://legacysurvey.org/viewer?ra=8.587596272846431&dec=-26.982988410425605\"><img src=\"http://legacysurvey.org/viewer/jpeg-cutout/?ra=8.587596&dec=-26.98299&zoom=15&layer=sdss&size=120\"></a></td><td>2319256299454038400<br><a href=\"http://legacysurvey.org/viewer?ra=8.71284261280104&dec=-28.035949249962048\"><img src=\"http://legacysurvey.org/viewer/jpeg-cutout/?ra=8.712843&dec=-28.03595&zoom=15&layer=sdss&size=120\"></a></td><td>2322316304737896064<br><a href=\"http://legacysurvey.org/viewer?ra=7.742501400989284&dec=-27.732205935287354\"><img src=\"http://legacysurvey.org/viewer/jpeg-cutout/?ra=7.742501&dec=-27.73221&zoom=15&layer=sdss&size=120\"></a></td><td>2346383450334471040<br><a href=\"http://legacysurvey.org/viewer?ra=8.356561914249683&dec=-27.02377054465644\"><img src=\"http://legacysurvey.org/viewer/jpeg-cutout/?ra=8.356562&dec=-27.02377&zoom=15&layer=sdss&size=120\"></a></td></tr>\n",
       "<tr><td>2343091134563836672<br><a href=\"http://legacysurvey.org/viewer?ra=9.276163912446128&dec=-27.921144781762642\"><img src=\"http://legacysurvey.org/viewer/jpeg-cutout/?ra=9.276164&dec=-27.92114&zoom=15&layer=sdss&size=120\"></a></td><td>2319032273960011264<br><a href=\"http://legacysurvey.org/viewer?ra=8.86821284204765&dec=-28.43655876196817\"><img src=\"http://legacysurvey.org/viewer/jpeg-cutout/?ra=8.868213&dec=-28.43656&zoom=15&layer=sdss&size=120\"></a></td><td>2322213573416129024<br><a href=\"http://legacysurvey.org/viewer?ra=7.590789017400766&dec=-28.021199646898452\"><img src=\"http://legacysurvey.org/viewer/jpeg-cutout/?ra=7.590789&dec=-28.0212&zoom=15&layer=sdss&size=120\"></a></td><td>2322346992279991552<br><a href=\"http://legacysurvey.org/viewer?ra=8.163797363027896&dec=-27.48225777926359\"><img src=\"http://legacysurvey.org/viewer/jpeg-cutout/?ra=8.163797&dec=-27.48226&zoom=15&layer=sdss&size=120\"></a></td><td>2322329125215984384<br><a href=\"http://legacysurvey.org/viewer?ra=7.659578510546996&dec=-27.68060580020559\"><img src=\"http://legacysurvey.org/viewer/jpeg-cutout/?ra=7.659579&dec=-27.68061&zoom=15&layer=sdss&size=120\"></a></td><td>2343356013786935168<br><a href=\"http://legacysurvey.org/viewer?ra=8.701607633878881&dec=-27.389238947650657\"><img src=\"http://legacysurvey.org/viewer/jpeg-cutout/?ra=8.701608&dec=-27.38924&zoom=15&layer=sdss&size=120\"></a></td></tr>\n",
       "<tr><td>2343350477573781120<br><a href=\"http://legacysurvey.org/viewer?ra=8.803315761728717&dec=-27.521500340026478\"><img src=\"http://legacysurvey.org/viewer/jpeg-cutout/?ra=8.803316&dec=-27.5215&zoom=15&layer=sdss&size=120\"></a></td><td>2319326938780618112<br><a href=\"http://legacysurvey.org/viewer?ra=8.428150108663145&dec=-27.676078754907813\"><img src=\"http://legacysurvey.org/viewer/jpeg-cutout/?ra=8.42815&dec=-27.67608&zoom=15&layer=sdss&size=120\"></a></td><td>2346379945641160576<br><a href=\"http://legacysurvey.org/viewer?ra=8.369978985205169&dec=-27.15615397445222\"><img src=\"http://legacysurvey.org/viewer/jpeg-cutout/?ra=8.369979&dec=-27.15615&zoom=15&layer=sdss&size=120\"></a></td><td>2319219500174199296<br><a href=\"http://legacysurvey.org/viewer?ra=8.332194876538221&dec=-28.40606006570875\"><img src=\"http://legacysurvey.org/viewer/jpeg-cutout/?ra=8.332195&dec=-28.40606&zoom=15&layer=sdss&size=120\"></a></td><td>2319259804147387136<br><a href=\"http://legacysurvey.org/viewer?ra=9.098510913180586&dec=-27.977654867427148\"><img src=\"http://legacysurvey.org/viewer/jpeg-cutout/?ra=9.098511&dec=-27.97765&zoom=15&layer=sdss&size=120\"></a></td><td>2343371986769549056<br><a href=\"http://legacysurvey.org/viewer?ra=8.527031973515195&dec=-27.301065416499796\"><img src=\"http://legacysurvey.org/viewer/jpeg-cutout/?ra=8.527032&dec=-27.30107&zoom=15&layer=sdss&size=120\"></a></td></tr>\n",
       "<tr><td>2343084739357291648<br><a href=\"http://legacysurvey.org/viewer?ra=9.65458055518031&dec=-27.863220748546972\"><img src=\"http://legacysurvey.org/viewer/jpeg-cutout/?ra=9.654581&dec=-27.86322&zoom=15&layer=sdss&size=120\"></a></td><td>2343305986007902208<br><a href=\"http://legacysurvey.org/viewer?ra=9.14676647241055&dec=-27.56521650573338\"><img src=\"http://legacysurvey.org/viewer/jpeg-cutout/?ra=9.146766&dec=-27.56522&zoom=15&layer=sdss&size=120\"></a></td><td>2319063610041426944<br><a href=\"http://legacysurvey.org/viewer?ra=9.129227864337512&dec=-28.26886830835654\"><img src=\"http://legacysurvey.org/viewer/jpeg-cutout/?ra=9.129228&dec=-28.26887&zoom=15&layer=sdss&size=120\"></a></td><td></td><td></td><td></td></tr>\n",
       "    </table>\n",
       "    "
      ],
      "text/plain": [
       "<IPython.core.display.HTML object>"
      ]
     },
     "execution_count": 172,
     "metadata": {},
     "output_type": "execute_result"
    }
   ],
   "source": [
    "make_decals_viewer_cutouts(guidestars[np.random.permutation(len(guidestars))], \n",
    "                           survey='sdss',ncols=6,namecol='TargetName')"
   ]
  },
  {
   "cell_type": "code",
   "execution_count": 111,
   "metadata": {},
   "outputs": [
    {
     "data": {
      "text/html": [
       "\n",
       "    <table>\n",
       "    <tr><td>0<br><a href=\"http://legacysurvey.org/viewer?ra=224.05541692070636&dec=-2.0416534292609816\"><img src=\"http://legacysurvey.org/viewer/jpeg-cutout/?ra=224.0554&dec=-2.041653&zoom=16&layer=sdss&size=120\"></a></td><td>1<br><a href=\"http://legacysurvey.org/viewer?ra=225.23147217541882&dec=-1.1920343898831018\"><img src=\"http://legacysurvey.org/viewer/jpeg-cutout/?ra=225.2315&dec=-1.192034&zoom=16&layer=sdss&size=120\"></a></td><td>2<br><a href=\"http://legacysurvey.org/viewer?ra=225.29019954674044&dec=-0.9025866813593285\"><img src=\"http://legacysurvey.org/viewer/jpeg-cutout/?ra=225.2902&dec=-0.9025867&zoom=16&layer=sdss&size=120\"></a></td><td>3<br><a href=\"http://legacysurvey.org/viewer?ra=224.52785694792578&dec=-0.05247264970050303\"><img src=\"http://legacysurvey.org/viewer/jpeg-cutout/?ra=224.5279&dec=-0.05247265&zoom=16&layer=sdss&size=120\"></a></td><td>4<br><a href=\"http://legacysurvey.org/viewer?ra=225.35160055304908&dec=-1.291239676923823\"><img src=\"http://legacysurvey.org/viewer/jpeg-cutout/?ra=225.3516&dec=-1.29124&zoom=16&layer=sdss&size=120\"></a></td><td>5<br><a href=\"http://legacysurvey.org/viewer?ra=225.53742238535764&dec=-1.1835995880572552\"><img src=\"http://legacysurvey.org/viewer/jpeg-cutout/?ra=225.5374&dec=-1.1836&zoom=16&layer=sdss&size=120\"></a></td></tr>\n",
       "<tr><td>6<br><a href=\"http://legacysurvey.org/viewer?ra=224.6735298503609&dec=-0.4294935187882305\"><img src=\"http://legacysurvey.org/viewer/jpeg-cutout/?ra=224.6735&dec=-0.4294935&zoom=16&layer=sdss&size=120\"></a></td><td>7<br><a href=\"http://legacysurvey.org/viewer?ra=223.53977306062964&dec=-1.1840932490060598\"><img src=\"http://legacysurvey.org/viewer/jpeg-cutout/?ra=223.5398&dec=-1.184093&zoom=16&layer=sdss&size=120\"></a></td><td>8<br><a href=\"http://legacysurvey.org/viewer?ra=224.02281395082858&dec=-2.0056985954752786\"><img src=\"http://legacysurvey.org/viewer/jpeg-cutout/?ra=224.0228&dec=-2.005699&zoom=16&layer=sdss&size=120\"></a></td><td>9<br><a href=\"http://legacysurvey.org/viewer?ra=225.56686459381763&dec=-0.702795262571104\"><img src=\"http://legacysurvey.org/viewer/jpeg-cutout/?ra=225.5669&dec=-0.7027953&zoom=16&layer=sdss&size=120\"></a></td><td>10<br><a href=\"http://legacysurvey.org/viewer?ra=224.06746138383218&dec=-2.0504880706725177\"><img src=\"http://legacysurvey.org/viewer/jpeg-cutout/?ra=224.0675&dec=-2.050488&zoom=16&layer=sdss&size=120\"></a></td><td>11<br><a href=\"http://legacysurvey.org/viewer?ra=225.2661840340112&dec=-1.8730889787795983\"><img src=\"http://legacysurvey.org/viewer/jpeg-cutout/?ra=225.2662&dec=-1.873089&zoom=16&layer=sdss&size=120\"></a></td></tr>\n",
       "<tr><td>12<br><a href=\"http://legacysurvey.org/viewer?ra=225.5425440984463&dec=-0.6380664617703904\"><img src=\"http://legacysurvey.org/viewer/jpeg-cutout/?ra=225.5425&dec=-0.6380665&zoom=16&layer=sdss&size=120\"></a></td><td>13<br><a href=\"http://legacysurvey.org/viewer?ra=224.03102821211124&dec=-1.9628240154839984\"><img src=\"http://legacysurvey.org/viewer/jpeg-cutout/?ra=224.031&dec=-1.962824&zoom=16&layer=sdss&size=120\"></a></td><td>14<br><a href=\"http://legacysurvey.org/viewer?ra=224.62271924945318&dec=-0.08614339358745005\"><img src=\"http://legacysurvey.org/viewer/jpeg-cutout/?ra=224.6227&dec=-0.08614339&zoom=16&layer=sdss&size=120\"></a></td><td>15<br><a href=\"http://legacysurvey.org/viewer?ra=224.40714004037565&dec=-2.1294454717880384\"><img src=\"http://legacysurvey.org/viewer/jpeg-cutout/?ra=224.4071&dec=-2.129445&zoom=16&layer=sdss&size=120\"></a></td><td>16<br><a href=\"http://legacysurvey.org/viewer?ra=223.8866375449733&dec=-1.0910146163178147\"><img src=\"http://legacysurvey.org/viewer/jpeg-cutout/?ra=223.8866&dec=-1.091015&zoom=16&layer=sdss&size=120\"></a></td><td>17<br><a href=\"http://legacysurvey.org/viewer?ra=224.0575708444842&dec=-1.6804637549396546\"><img src=\"http://legacysurvey.org/viewer/jpeg-cutout/?ra=224.0576&dec=-1.680464&zoom=16&layer=sdss&size=120\"></a></td></tr>\n",
       "<tr><td>18<br><a href=\"http://legacysurvey.org/viewer?ra=223.58560046595525&dec=-1.4515349771274055\"><img src=\"http://legacysurvey.org/viewer/jpeg-cutout/?ra=223.5856&dec=-1.451535&zoom=16&layer=sdss&size=120\"></a></td><td>19<br><a href=\"http://legacysurvey.org/viewer?ra=223.89045556320997&dec=-0.3284985247072356\"><img src=\"http://legacysurvey.org/viewer/jpeg-cutout/?ra=223.8905&dec=-0.3284985&zoom=16&layer=sdss&size=120\"></a></td><td>20<br><a href=\"http://legacysurvey.org/viewer?ra=224.10172454837738&dec=-0.6901714947177692\"><img src=\"http://legacysurvey.org/viewer/jpeg-cutout/?ra=224.1017&dec=-0.6901715&zoom=16&layer=sdss&size=120\"></a></td><td>21<br><a href=\"http://legacysurvey.org/viewer?ra=225.24673651393198&dec=-1.6165036486590325\"><img src=\"http://legacysurvey.org/viewer/jpeg-cutout/?ra=225.2467&dec=-1.616504&zoom=16&layer=sdss&size=120\"></a></td><td>22<br><a href=\"http://legacysurvey.org/viewer?ra=225.20030188010253&dec=-0.32066725919852446\"><img src=\"http://legacysurvey.org/viewer/jpeg-cutout/?ra=225.2003&dec=-0.3206673&zoom=16&layer=sdss&size=120\"></a></td><td>23<br><a href=\"http://legacysurvey.org/viewer?ra=223.88647716650956&dec=-1.9309624542718682\"><img src=\"http://legacysurvey.org/viewer/jpeg-cutout/?ra=223.8865&dec=-1.930962&zoom=16&layer=sdss&size=120\"></a></td></tr>\n",
       "<tr><td>24<br><a href=\"http://legacysurvey.org/viewer?ra=225.25437735125482&dec=-0.6109858744827985\"><img src=\"http://legacysurvey.org/viewer/jpeg-cutout/?ra=225.2544&dec=-0.6109859&zoom=16&layer=sdss&size=120\"></a></td><td>25<br><a href=\"http://legacysurvey.org/viewer?ra=225.37087739543912&dec=-1.7282772401685456\"><img src=\"http://legacysurvey.org/viewer/jpeg-cutout/?ra=225.3709&dec=-1.728277&zoom=16&layer=sdss&size=120\"></a></td><td>26<br><a href=\"http://legacysurvey.org/viewer?ra=224.5686707141047&dec=-2.0653018817006465\"><img src=\"http://legacysurvey.org/viewer/jpeg-cutout/?ra=224.5687&dec=-2.065302&zoom=16&layer=sdss&size=120\"></a></td><td>27<br><a href=\"http://legacysurvey.org/viewer?ra=224.11894751645906&dec=-1.8483321264752064\"><img src=\"http://legacysurvey.org/viewer/jpeg-cutout/?ra=224.1189&dec=-1.848332&zoom=16&layer=sdss&size=120\"></a></td><td>28<br><a href=\"http://legacysurvey.org/viewer?ra=225.28194293955727&dec=-1.0327139893861523\"><img src=\"http://legacysurvey.org/viewer/jpeg-cutout/?ra=225.2819&dec=-1.032714&zoom=16&layer=sdss&size=120\"></a></td><td>29<br><a href=\"http://legacysurvey.org/viewer?ra=225.61742139117436&dec=-0.9091330702604666\"><img src=\"http://legacysurvey.org/viewer/jpeg-cutout/?ra=225.6174&dec=-0.9091331&zoom=16&layer=sdss&size=120\"></a></td></tr>\n",
       "<tr><td>30<br><a href=\"http://legacysurvey.org/viewer?ra=223.56689233117652&dec=-1.2706109062613233\"><img src=\"http://legacysurvey.org/viewer/jpeg-cutout/?ra=223.5669&dec=-1.270611&zoom=16&layer=sdss&size=120\"></a></td><td>31<br><a href=\"http://legacysurvey.org/viewer?ra=224.57830929715857&dec=-0.051929141645746135\"><img src=\"http://legacysurvey.org/viewer/jpeg-cutout/?ra=224.5783&dec=-0.05192914&zoom=16&layer=sdss&size=120\"></a></td><td>32<br><a href=\"http://legacysurvey.org/viewer?ra=223.624088666896&dec=-1.499365759717067\"><img src=\"http://legacysurvey.org/viewer/jpeg-cutout/?ra=223.6241&dec=-1.499366&zoom=16&layer=sdss&size=120\"></a></td><td>33<br><a href=\"http://legacysurvey.org/viewer?ra=223.99743119853557&dec=-1.4393727994180774\"><img src=\"http://legacysurvey.org/viewer/jpeg-cutout/?ra=223.9974&dec=-1.439373&zoom=16&layer=sdss&size=120\"></a></td><td>34<br><a href=\"http://legacysurvey.org/viewer?ra=224.2044708084698&dec=-0.15051273268973553\"><img src=\"http://legacysurvey.org/viewer/jpeg-cutout/?ra=224.2045&dec=-0.1505127&zoom=16&layer=sdss&size=120\"></a></td><td>35<br><a href=\"http://legacysurvey.org/viewer?ra=224.55568697574228&dec=-0.18824572040510112\"><img src=\"http://legacysurvey.org/viewer/jpeg-cutout/?ra=224.5557&dec=-0.1882457&zoom=16&layer=sdss&size=120\"></a></td></tr>\n",
       "<tr><td>36<br><a href=\"http://legacysurvey.org/viewer?ra=224.5198657603697&dec=-0.3479320271026489\"><img src=\"http://legacysurvey.org/viewer/jpeg-cutout/?ra=224.5199&dec=-0.347932&zoom=16&layer=sdss&size=120\"></a></td><td>37<br><a href=\"http://legacysurvey.org/viewer?ra=224.862971620201&dec=-0.17107329509028735\"><img src=\"http://legacysurvey.org/viewer/jpeg-cutout/?ra=224.863&dec=-0.1710733&zoom=16&layer=sdss&size=120\"></a></td><td>38<br><a href=\"http://legacysurvey.org/viewer?ra=224.869967118091&dec=-0.09638155964375972\"><img src=\"http://legacysurvey.org/viewer/jpeg-cutout/?ra=224.87&dec=-0.09638156&zoom=16&layer=sdss&size=120\"></a></td><td>39<br><a href=\"http://legacysurvey.org/viewer?ra=223.55801587158183&dec=-1.3399905828341896\"><img src=\"http://legacysurvey.org/viewer/jpeg-cutout/?ra=223.558&dec=-1.339991&zoom=16&layer=sdss&size=120\"></a></td><td>40<br><a href=\"http://legacysurvey.org/viewer?ra=225.168875675278&dec=-0.3949989895487238\"><img src=\"http://legacysurvey.org/viewer/jpeg-cutout/?ra=225.1689&dec=-0.394999&zoom=16&layer=sdss&size=120\"></a></td><td>41<br><a href=\"http://legacysurvey.org/viewer?ra=225.60843746988579&dec=-1.394394077129527\"><img src=\"http://legacysurvey.org/viewer/jpeg-cutout/?ra=225.6084&dec=-1.394394&zoom=16&layer=sdss&size=120\"></a></td></tr>\n",
       "<tr><td>42<br><a href=\"http://legacysurvey.org/viewer?ra=225.23736568142297&dec=-0.6488798782664287\"><img src=\"http://legacysurvey.org/viewer/jpeg-cutout/?ra=225.2374&dec=-0.6488799&zoom=16&layer=sdss&size=120\"></a></td><td>43<br><a href=\"http://legacysurvey.org/viewer?ra=224.41740671020767&dec=-0.04807045075064442\"><img src=\"http://legacysurvey.org/viewer/jpeg-cutout/?ra=224.4174&dec=-0.04807045&zoom=16&layer=sdss&size=120\"></a></td><td>44<br><a href=\"http://legacysurvey.org/viewer?ra=223.7147095165763&dec=-1.0391823593984393\"><img src=\"http://legacysurvey.org/viewer/jpeg-cutout/?ra=223.7147&dec=-1.039182&zoom=16&layer=sdss&size=120\"></a></td><td>45<br><a href=\"http://legacysurvey.org/viewer?ra=223.86949570862419&dec=-1.913319890619356\"><img src=\"http://legacysurvey.org/viewer/jpeg-cutout/?ra=223.8695&dec=-1.91332&zoom=16&layer=sdss&size=120\"></a></td><td>46<br><a href=\"http://legacysurvey.org/viewer?ra=223.75513795697776&dec=-0.41339255057710644\"><img src=\"http://legacysurvey.org/viewer/jpeg-cutout/?ra=223.7551&dec=-0.4133926&zoom=16&layer=sdss&size=120\"></a></td><td>47<br><a href=\"http://legacysurvey.org/viewer?ra=225.10983917520363&dec=-0.1409894167882927\"><img src=\"http://legacysurvey.org/viewer/jpeg-cutout/?ra=225.1098&dec=-0.1409894&zoom=16&layer=sdss&size=120\"></a></td></tr>\n",
       "<tr><td>48<br><a href=\"http://legacysurvey.org/viewer?ra=225.62053663494518&dec=-1.1859050048050717\"><img src=\"http://legacysurvey.org/viewer/jpeg-cutout/?ra=225.6205&dec=-1.185905&zoom=16&layer=sdss&size=120\"></a></td><td>49<br><a href=\"http://legacysurvey.org/viewer?ra=223.52917623007784&dec=-1.1179982735829896\"><img src=\"http://legacysurvey.org/viewer/jpeg-cutout/?ra=223.5292&dec=-1.117998&zoom=16&layer=sdss&size=120\"></a></td><td>50<br><a href=\"http://legacysurvey.org/viewer?ra=225.3122637663522&dec=-0.37731163820867253\"><img src=\"http://legacysurvey.org/viewer/jpeg-cutout/?ra=225.3123&dec=-0.3773116&zoom=16&layer=sdss&size=120\"></a></td><td>51<br><a href=\"http://legacysurvey.org/viewer?ra=225.61843987644153&dec=-1.22339740996535\"><img src=\"http://legacysurvey.org/viewer/jpeg-cutout/?ra=225.6184&dec=-1.223397&zoom=16&layer=sdss&size=120\"></a></td><td>52<br><a href=\"http://legacysurvey.org/viewer?ra=225.10055721656101&dec=-1.7854205018362277\"><img src=\"http://legacysurvey.org/viewer/jpeg-cutout/?ra=225.1006&dec=-1.785421&zoom=16&layer=sdss&size=120\"></a></td><td>53<br><a href=\"http://legacysurvey.org/viewer?ra=223.63627559726643&dec=-1.0087607400877574\"><img src=\"http://legacysurvey.org/viewer/jpeg-cutout/?ra=223.6363&dec=-1.008761&zoom=16&layer=sdss&size=120\"></a></td></tr>\n",
       "<tr><td>54<br><a href=\"http://legacysurvey.org/viewer?ra=223.8857675743584&dec=-1.8724525338221845\"><img src=\"http://legacysurvey.org/viewer/jpeg-cutout/?ra=223.8858&dec=-1.872453&zoom=16&layer=sdss&size=120\"></a></td><td>55<br><a href=\"http://legacysurvey.org/viewer?ra=225.5403114808385&dec=-1.4307434395578893\"><img src=\"http://legacysurvey.org/viewer/jpeg-cutout/?ra=225.5403&dec=-1.430743&zoom=16&layer=sdss&size=120\"></a></td><td>56<br><a href=\"http://legacysurvey.org/viewer?ra=225.5450890036324&dec=-1.5598171177870455\"><img src=\"http://legacysurvey.org/viewer/jpeg-cutout/?ra=225.5451&dec=-1.559817&zoom=16&layer=sdss&size=120\"></a></td><td>57<br><a href=\"http://legacysurvey.org/viewer?ra=225.60829824483528&dec=-1.4702281955035874\"><img src=\"http://legacysurvey.org/viewer/jpeg-cutout/?ra=225.6083&dec=-1.470228&zoom=16&layer=sdss&size=120\"></a></td><td>58<br><a href=\"http://legacysurvey.org/viewer?ra=223.99138290953897&dec=-1.9960884604741413\"><img src=\"http://legacysurvey.org/viewer/jpeg-cutout/?ra=223.9914&dec=-1.996088&zoom=16&layer=sdss&size=120\"></a></td><td>59<br><a href=\"http://legacysurvey.org/viewer?ra=224.96203741975393&dec=-0.28101170217252225\"><img src=\"http://legacysurvey.org/viewer/jpeg-cutout/?ra=224.962&dec=-0.2810117&zoom=16&layer=sdss&size=120\"></a></td></tr>\n",
       "<tr><td>60<br><a href=\"http://legacysurvey.org/viewer?ra=224.2323214902318&dec=-2.0972242334427005\"><img src=\"http://legacysurvey.org/viewer/jpeg-cutout/?ra=224.2323&dec=-2.097224&zoom=16&layer=sdss&size=120\"></a></td><td>61<br><a href=\"http://legacysurvey.org/viewer?ra=223.73156317641707&dec=-0.5477327401247765\"><img src=\"http://legacysurvey.org/viewer/jpeg-cutout/?ra=223.7316&dec=-0.5477327&zoom=16&layer=sdss&size=120\"></a></td><td>62<br><a href=\"http://legacysurvey.org/viewer?ra=223.55792739287787&dec=-1.3466842395993268\"><img src=\"http://legacysurvey.org/viewer/jpeg-cutout/?ra=223.5579&dec=-1.346684&zoom=16&layer=sdss&size=120\"></a></td><td>63<br><a href=\"http://legacysurvey.org/viewer?ra=224.9256723587255&dec=-0.1215220904841754\"><img src=\"http://legacysurvey.org/viewer/jpeg-cutout/?ra=224.9257&dec=-0.1215221&zoom=16&layer=sdss&size=120\"></a></td><td>64<br><a href=\"http://legacysurvey.org/viewer?ra=224.0361999741354&dec=-0.1987176439757724\"><img src=\"http://legacysurvey.org/viewer/jpeg-cutout/?ra=224.0362&dec=-0.1987176&zoom=16&layer=sdss&size=120\"></a></td><td>65<br><a href=\"http://legacysurvey.org/viewer?ra=223.6521731278341&dec=-1.0118333039116707\"><img src=\"http://legacysurvey.org/viewer/jpeg-cutout/?ra=223.6522&dec=-1.011833&zoom=16&layer=sdss&size=120\"></a></td></tr>\n",
       "<tr><td>66<br><a href=\"http://legacysurvey.org/viewer?ra=225.33975932510364&dec=-1.8096054433906568\"><img src=\"http://legacysurvey.org/viewer/jpeg-cutout/?ra=225.3398&dec=-1.809605&zoom=16&layer=sdss&size=120\"></a></td><td>67<br><a href=\"http://legacysurvey.org/viewer?ra=224.7811768534486&dec=-0.06401297758318725\"><img src=\"http://legacysurvey.org/viewer/jpeg-cutout/?ra=224.7812&dec=-0.06401298&zoom=16&layer=sdss&size=120\"></a></td><td>68<br><a href=\"http://legacysurvey.org/viewer?ra=224.86949017150465&dec=-2.1289976945496023\"><img src=\"http://legacysurvey.org/viewer/jpeg-cutout/?ra=224.8695&dec=-2.128998&zoom=16&layer=sdss&size=120\"></a></td><td>69<br><a href=\"http://legacysurvey.org/viewer?ra=224.4450966596729&dec=-0.030826639739081507\"><img src=\"http://legacysurvey.org/viewer/jpeg-cutout/?ra=224.4451&dec=-0.03082664&zoom=16&layer=sdss&size=120\"></a></td><td>70<br><a href=\"http://legacysurvey.org/viewer?ra=224.6560379156424&dec=-1.7434344966404687\"><img src=\"http://legacysurvey.org/viewer/jpeg-cutout/?ra=224.656&dec=-1.743434&zoom=16&layer=sdss&size=120\"></a></td><td>71<br><a href=\"http://legacysurvey.org/viewer?ra=224.06385436312786&dec=-0.14653863318178229\"><img src=\"http://legacysurvey.org/viewer/jpeg-cutout/?ra=224.0639&dec=-0.1465386&zoom=16&layer=sdss&size=120\"></a></td></tr>\n",
       "<tr><td>72<br><a href=\"http://legacysurvey.org/viewer?ra=224.01067820217253&dec=-1.922884052689526\"><img src=\"http://legacysurvey.org/viewer/jpeg-cutout/?ra=224.0107&dec=-1.922884&zoom=16&layer=sdss&size=120\"></a></td><td>73<br><a href=\"http://legacysurvey.org/viewer?ra=223.59222051683244&dec=-1.4518495404480622\"><img src=\"http://legacysurvey.org/viewer/jpeg-cutout/?ra=223.5922&dec=-1.45185&zoom=16&layer=sdss&size=120\"></a></td><td>74<br><a href=\"http://legacysurvey.org/viewer?ra=225.41265300727196&dec=-0.46437263769558956\"><img src=\"http://legacysurvey.org/viewer/jpeg-cutout/?ra=225.4127&dec=-0.4643726&zoom=16&layer=sdss&size=120\"></a></td><td>75<br><a href=\"http://legacysurvey.org/viewer?ra=223.51221269025118&dec=-0.9661737445756349\"><img src=\"http://legacysurvey.org/viewer/jpeg-cutout/?ra=223.5122&dec=-0.9661737&zoom=16&layer=sdss&size=120\"></a></td><td>76<br><a href=\"http://legacysurvey.org/viewer?ra=224.6355715585525&dec=-0.07195018546046783\"><img src=\"http://legacysurvey.org/viewer/jpeg-cutout/?ra=224.6356&dec=-0.07195019&zoom=16&layer=sdss&size=120\"></a></td><td>77<br><a href=\"http://legacysurvey.org/viewer?ra=225.64992026239955&dec=-1.000248837454146\"><img src=\"http://legacysurvey.org/viewer/jpeg-cutout/?ra=225.6499&dec=-1.000249&zoom=16&layer=sdss&size=120\"></a></td></tr>\n",
       "<tr><td>78<br><a href=\"http://legacysurvey.org/viewer?ra=223.97638920147162&dec=-1.261825978475793\"><img src=\"http://legacysurvey.org/viewer/jpeg-cutout/?ra=223.9764&dec=-1.261826&zoom=16&layer=sdss&size=120\"></a></td><td>79<br><a href=\"http://legacysurvey.org/viewer?ra=223.86210507453492&dec=-1.66797545711385\"><img src=\"http://legacysurvey.org/viewer/jpeg-cutout/?ra=223.8621&dec=-1.667975&zoom=16&layer=sdss&size=120\"></a></td><td>80<br><a href=\"http://legacysurvey.org/viewer?ra=223.54231240131185&dec=-1.1604213007888784\"><img src=\"http://legacysurvey.org/viewer/jpeg-cutout/?ra=223.5423&dec=-1.160421&zoom=16&layer=sdss&size=120\"></a></td><td>81<br><a href=\"http://legacysurvey.org/viewer?ra=225.67870618222025&dec=-1.2124425456268852\"><img src=\"http://legacysurvey.org/viewer/jpeg-cutout/?ra=225.6787&dec=-1.212443&zoom=16&layer=sdss&size=120\"></a></td><td>82<br><a href=\"http://legacysurvey.org/viewer?ra=224.76050386466352&dec=-2.0380466214663677\"><img src=\"http://legacysurvey.org/viewer/jpeg-cutout/?ra=224.7605&dec=-2.038047&zoom=16&layer=sdss&size=120\"></a></td><td>83<br><a href=\"http://legacysurvey.org/viewer?ra=225.26159767051956&dec=-0.28162982184124585\"><img src=\"http://legacysurvey.org/viewer/jpeg-cutout/?ra=225.2616&dec=-0.2816298&zoom=16&layer=sdss&size=120\"></a></td></tr>\n",
       "<tr><td>84<br><a href=\"http://legacysurvey.org/viewer?ra=225.41652288656047&dec=-1.7049957799571098\"><img src=\"http://legacysurvey.org/viewer/jpeg-cutout/?ra=225.4165&dec=-1.704996&zoom=16&layer=sdss&size=120\"></a></td><td>85<br><a href=\"http://legacysurvey.org/viewer?ra=224.7955906954054&dec=-0.015253610391334771\"><img src=\"http://legacysurvey.org/viewer/jpeg-cutout/?ra=224.7956&dec=-0.01525361&zoom=16&layer=sdss&size=120\"></a></td><td>86<br><a href=\"http://legacysurvey.org/viewer?ra=224.49577310695065&dec=-0.18018932935823806\"><img src=\"http://legacysurvey.org/viewer/jpeg-cutout/?ra=224.4958&dec=-0.1801893&zoom=16&layer=sdss&size=120\"></a></td><td>87<br><a href=\"http://legacysurvey.org/viewer?ra=224.30527840811916&dec=-0.10159172590749965\"><img src=\"http://legacysurvey.org/viewer/jpeg-cutout/?ra=224.3053&dec=-0.1015917&zoom=16&layer=sdss&size=120\"></a></td><td>88<br><a href=\"http://legacysurvey.org/viewer?ra=225.40740057304492&dec=-1.8187218139629087\"><img src=\"http://legacysurvey.org/viewer/jpeg-cutout/?ra=225.4074&dec=-1.818722&zoom=16&layer=sdss&size=120\"></a></td><td>89<br><a href=\"http://legacysurvey.org/viewer?ra=223.6542715080849&dec=-1.360315037978333\"><img src=\"http://legacysurvey.org/viewer/jpeg-cutout/?ra=223.6543&dec=-1.360315&zoom=16&layer=sdss&size=120\"></a></td></tr>\n",
       "<tr><td>90<br><a href=\"http://legacysurvey.org/viewer?ra=223.8060430941627&dec=-1.7318928947354975\"><img src=\"http://legacysurvey.org/viewer/jpeg-cutout/?ra=223.806&dec=-1.731893&zoom=16&layer=sdss&size=120\"></a></td><td>91<br><a href=\"http://legacysurvey.org/viewer?ra=224.61016561390997&dec=-0.07431429425253211\"><img src=\"http://legacysurvey.org/viewer/jpeg-cutout/?ra=224.6102&dec=-0.07431429&zoom=16&layer=sdss&size=120\"></a></td><td>92<br><a href=\"http://legacysurvey.org/viewer?ra=225.52867182780784&dec=-1.2056078528628378\"><img src=\"http://legacysurvey.org/viewer/jpeg-cutout/?ra=225.5287&dec=-1.205608&zoom=16&layer=sdss&size=120\"></a></td><td>93<br><a href=\"http://legacysurvey.org/viewer?ra=225.46902416036315&dec=-1.6744034946577868\"><img src=\"http://legacysurvey.org/viewer/jpeg-cutout/?ra=225.469&dec=-1.674403&zoom=16&layer=sdss&size=120\"></a></td><td>94<br><a href=\"http://legacysurvey.org/viewer?ra=225.4315948323541&dec=-0.49838616497437804\"><img src=\"http://legacysurvey.org/viewer/jpeg-cutout/?ra=225.4316&dec=-0.4983862&zoom=16&layer=sdss&size=120\"></a></td><td>95<br><a href=\"http://legacysurvey.org/viewer?ra=225.60334128881036&dec=-1.4931657421389064\"><img src=\"http://legacysurvey.org/viewer/jpeg-cutout/?ra=225.6033&dec=-1.493166&zoom=16&layer=sdss&size=120\"></a></td></tr>\n",
       "<tr><td>96<br><a href=\"http://legacysurvey.org/viewer?ra=224.24238479738523&dec=-1.9066948770262035\"><img src=\"http://legacysurvey.org/viewer/jpeg-cutout/?ra=224.2424&dec=-1.906695&zoom=16&layer=sdss&size=120\"></a></td><td>97<br><a href=\"http://legacysurvey.org/viewer?ra=224.52708360626116&dec=-0.16013482692533187\"><img src=\"http://legacysurvey.org/viewer/jpeg-cutout/?ra=224.5271&dec=-0.1601348&zoom=16&layer=sdss&size=120\"></a></td><td>98<br><a href=\"http://legacysurvey.org/viewer?ra=224.51748634680825&dec=-2.12536528780576\"><img src=\"http://legacysurvey.org/viewer/jpeg-cutout/?ra=224.5175&dec=-2.125365&zoom=16&layer=sdss&size=120\"></a></td><td>99<br><a href=\"http://legacysurvey.org/viewer?ra=225.4292711197018&dec=-0.4433695026143064\"><img src=\"http://legacysurvey.org/viewer/jpeg-cutout/?ra=225.4293&dec=-0.4433695&zoom=16&layer=sdss&size=120\"></a></td><td></td><td></td></tr>\n",
       "    </table>\n",
       "    "
      ],
      "text/plain": [
       "<IPython.core.display.HTML object>"
      ]
     },
     "execution_count": 111,
     "metadata": {},
     "output_type": "execute_result"
    }
   ],
   "source": [
    "make_decals_viewer_cutouts(acat[acat['Notes']=='sky'], survey='sdss', ncols=6, \n",
    "                           zoom=16, namecol='TargetName')"
   ]
  },
  {
   "cell_type": "code",
   "execution_count": 112,
   "metadata": {},
   "outputs": [
    {
     "data": {
      "text/plain": [
       "93"
      ]
     },
     "execution_count": 112,
     "metadata": {},
     "output_type": "execute_result"
    }
   ],
   "source": [
    "skys_to_rem = [int(i) for i in '15 43 61 76 80 93 97'.split()]\n",
    "writecat.remove_rows((writecat['Notes']=='Sky')&(np.in1d(writecat['TargetName'], skys_to_rem)))\n",
    "np.sum((writecat['Notes']=='Sky'))"
   ]
  },
  {
   "cell_type": "code",
   "execution_count": 127,
   "metadata": {},
   "outputs": [
    {
     "name": "stdout",
     "output_type": "stream",
     "text": [
      "Writing aat_targets_jun2018/nsa145729_master2.fld\n",
      "Total remaining in each priority (5 fluxes, 100 guides, and 93 skies not included):\n",
      "{1: 527, 2: 16, 3: 14, 4: 49, 5: 115, 6: 45, 7: 0, 8: 13, 9: 0}\n",
      "{1: 100.0, 2: 100.0, 3: 100.0, 4: 100.0, 5: 100.0, 6: 100.0, 7: None, 8: 100.0, 9: None}%\n",
      "Total targets: 779\n"
     ]
    }
   ],
   "source": [
    "fieldnumornone = '' if fieldnum==1 else fieldnum\n",
    "fnout = 'aat_targets_jun2018/{}_master{}.fld'.format(hostname, fieldnumornone)\n",
    "print('Writing', fnout)\n",
    "write_fld_file(writecat, host, obs_start_date, fnout)\n",
    "\n",
    "fldfn = 'aat_targets_jun2018/{}_{}.fld'.format(hostname, fieldnum)\n",
    "tots = aat.subsample_from_master_fld('aat_targets_jun2018/{}_master{}.fld'.format(hostname, fieldnumornone), fldfn,\n",
    "                                   {1:np.inf,2:np.inf,3:np.inf,4:np.inf,\n",
    "                                    5:np.inf,6:np.inf,7:np.inf,8:np.inf,9:np.inf},\n",
    "                                    nflux=5, nguides=100)\n",
    "print('Total targets:', np.sum(list(tots.values())))"
   ]
  },
  {
   "cell_type": "code",
   "execution_count": 122,
   "metadata": {},
   "outputs": [
    {
     "name": "stdout",
     "output_type": "stream",
     "text": [
      "nsa145729_2.fld                               100%   59KB  59.1KB/s   00:00    \n"
     ]
    }
   ],
   "source": [
    "!scp $fldfn visitor6@aatlxh:~/jun12/"
   ]
  },
  {
   "cell_type": "markdown",
   "metadata": {},
   "source": [
    "## pgc64427 "
   ]
  },
  {
   "cell_type": "code",
   "execution_count": 131,
   "metadata": {},
   "outputs": [
    {
     "name": "stdout",
     "output_type": "stream",
     "text": [
      "[06/12 16:49:03] [WARNING] Not found: sdss catalog for pgc64427.\n",
      "[06/12 16:49:03] [WARNING] Not found: decals catalog for pgc64427.\n",
      "[06/12 16:49:03] Use DES to build base catalog v2 for pgc64427 (1/1)\n"
     ]
    },
    {
     "name": "stderr",
     "output_type": "stream",
     "text": [
      "WARNING:root:No photo obj matched to 6dF spec obj g2016175-524213 (304.0727083333333, -52.70372222222222)\n",
      "WARNING:root:No photo obj matched to 6dF spec obj g2019421-525709 (304.9255833333333, -52.95258333333333)\n",
      "WARNING:root:No photo obj matched to 6dF spec obj g2019408-523631 (304.9200833333333, -52.60869444444444)\n",
      "WARNING:root:No photo obj matched to 6dF spec obj g2019063-523745 (304.77616666666665, -52.629055555555546)\n",
      "WARNING:root:No photo obj matched to 6dF spec obj g2019590-523719 (304.9957083333333, -52.62197222222222)\n",
      "WARNING:root:No photo obj matched to 6dF spec obj g2016291-525540 (304.12133333333327, -52.92788888888888)\n",
      "WARNING:root:No photo obj matched to 6dF spec obj g2019247-524446 (304.85274999999996, -52.746222222222215)\n",
      "WARNING:root:No kcorrect module. Stellar mass not calculated!\n"
     ]
    },
    {
     "name": "stdout",
     "output_type": "stream",
     "text": [
      "[06/12 16:49:23] Write base catalog to ./base_catalogs/base_v2_pgc64427.fits.gz\n"
     ]
    }
   ],
   "source": [
    "fieldnum = 1\n",
    "idnum = 64427\n",
    "\n",
    "saga_object_catalog.build_and_write_to_database('pgc{}'.format(idnum), overwrite=fieldnum>1)"
   ]
  },
  {
   "cell_type": "code",
   "execution_count": 132,
   "metadata": {},
   "outputs": [
    {
     "name": "stdout",
     "output_type": "stream",
     "text": [
      "pgc64427\n",
      "# of flux stars = 622\n",
      "# of sky fibers = 100\n",
      "# of Priority=1 targets = 158\n",
      "# of Priority=2 targets = 230\n",
      "# of Priority=3 targets = 190\n",
      "# of Priority=4 targets = 50\n",
      "# of Priority=5 targets = 125\n",
      "# of Priority=6 targets = 51\n",
      "# of Priority=7 targets = 36\n",
      "# of Priority=8 targets = 9\n",
      "# of Priority=9 targets = 722\n",
      "Object catalog to Gaia offset: (<Angle -0.05738712 arcsec>, <Angle 0.13878442 arcsec>) from 2493 objects (73.6%)\n",
      "Found 348 Gaia guide stars\n",
      "205 Have a brightish neighbor.  Removing them.\n"
     ]
    },
    {
     "data": {
      "text/plain": [
       "1714"
      ]
     },
     "execution_count": 132,
     "metadata": {},
     "output_type": "execute_result"
    }
   ],
   "source": [
    "host = targethosts[targethosts['PGC'] == idnum]\n",
    "assert len(host) == 1\n",
    "host = host[0]\n",
    "\n",
    "hostname = host[host_id_label]\n",
    "print(hostname)\n",
    "tcats[hostname] = tcat = saga_targets.build_target_catalogs(hostname, return_as='list').pop()\n",
    "acats[hostname] = acat = saga.targets.prepare_aat_catalog(tcat, sky_fiber_needed=100)\n",
    "\n",
    "guidestars = get_gaia_guidestars(hostname)\n",
    "writecat = table.vstack([acat, guidestars])\n",
    "writecat['Notes'] = [n.title() for n in writecat['Notes']]\n",
    "len(writecat)"
   ]
  },
  {
   "cell_type": "code",
   "execution_count": 133,
   "metadata": {},
   "outputs": [
    {
     "data": {
      "text/html": [
       "\n",
       "    <table>\n",
       "    <tr><td>6473566611967095424<br><a href=\"http://legacysurvey.org/viewer?ra=305.76678561778186&dec=-52.63620704303253\"><img src=\"http://legacysurvey.org/viewer/jpeg-cutout/?ra=305.7668&dec=-52.63621&zoom=15&layer=unwise-w1w2&size=120\"></a></td><td>6473616433587973888<br><a href=\"http://legacysurvey.org/viewer?ra=305.15546667868296&dec=-52.45674726484672\"><img src=\"http://legacysurvey.org/viewer/jpeg-cutout/?ra=305.1555&dec=-52.45675&zoom=15&layer=unwise-w1w2&size=120\"></a></td><td>6473424912405613952<br><a href=\"http://legacysurvey.org/viewer?ra=304.52149477594895&dec=-53.435198912524655\"><img src=\"http://legacysurvey.org/viewer/jpeg-cutout/?ra=304.5215&dec=-53.4352&zoom=15&layer=unwise-w1w2&size=120\"></a></td><td>6473846055422157312<br><a href=\"http://legacysurvey.org/viewer?ra=304.9554913870832&dec=-51.93550118453635\"><img src=\"http://legacysurvey.org/viewer/jpeg-cutout/?ra=304.9555&dec=-51.9355&zoom=15&layer=unwise-w1w2&size=120\"></a></td><td>6473582688028666880<br><a href=\"http://legacysurvey.org/viewer?ra=304.8335689385853&dec=-52.90027564989313\"><img src=\"http://legacysurvey.org/viewer/jpeg-cutout/?ra=304.8336&dec=-52.90028&zoom=15&layer=unwise-w1w2&size=120\"></a></td><td>6473582383087121664<br><a href=\"http://legacysurvey.org/viewer?ra=304.91210184068393&dec=-52.88196392689711\"><img src=\"http://legacysurvey.org/viewer/jpeg-cutout/?ra=304.9121&dec=-52.88196&zoom=15&layer=unwise-w1w2&size=120\"></a></td></tr>\n",
       "<tr><td>6473870622636215808<br><a href=\"http://legacysurvey.org/viewer?ra=304.17100869296763&dec=-51.95955475851401\"><img src=\"http://legacysurvey.org/viewer/jpeg-cutout/?ra=304.171&dec=-51.95955&zoom=15&layer=unwise-w1w2&size=120\"></a></td><td>6473796062002851328<br><a href=\"http://legacysurvey.org/viewer?ra=304.6190090277304&dec=-52.39231115491203\"><img src=\"http://legacysurvey.org/viewer/jpeg-cutout/?ra=304.619&dec=-52.39231&zoom=15&layer=unwise-w1w2&size=120\"></a></td><td>6473821660007930112<br><a href=\"http://legacysurvey.org/viewer?ra=304.9678816026785&dec=-52.25557375252795\"><img src=\"http://legacysurvey.org/viewer/jpeg-cutout/?ra=304.9679&dec=-52.25557&zoom=15&layer=unwise-w1w2&size=120\"></a></td><td>6473859460017121536<br><a href=\"http://legacysurvey.org/viewer?ra=303.86900948422084&dec=-52.21313798456674\"><img src=\"http://legacysurvey.org/viewer/jpeg-cutout/?ra=303.869&dec=-52.21314&zoom=15&layer=unwise-w1w2&size=120\"></a></td><td>6473578633579544064<br><a href=\"http://legacysurvey.org/viewer?ra=304.44439415290174&dec=-52.96285224770217\"><img src=\"http://legacysurvey.org/viewer/jpeg-cutout/?ra=304.4444&dec=-52.96285&zoom=15&layer=unwise-w1w2&size=120\"></a></td><td>6473583413879288832<br><a href=\"http://legacysurvey.org/viewer?ra=304.82858194810717&dec=-52.85016106902695\"><img src=\"http://legacysurvey.org/viewer/jpeg-cutout/?ra=304.8286&dec=-52.85016&zoom=15&layer=unwise-w1w2&size=120\"></a></td></tr>\n",
       "<tr><td>6473471435491417088<br><a href=\"http://legacysurvey.org/viewer?ra=304.1745993691006&dec=-53.28857934642597\"><img src=\"http://legacysurvey.org/viewer/jpeg-cutout/?ra=304.1746&dec=-53.28858&zoom=15&layer=unwise-w1w2&size=120\"></a></td><td>6473636224797330944<br><a href=\"http://legacysurvey.org/viewer?ra=305.211690304641&dec=-52.260586357545726\"><img src=\"http://legacysurvey.org/viewer/jpeg-cutout/?ra=305.2117&dec=-52.26059&zoom=15&layer=unwise-w1w2&size=120\"></a></td><td>6473740506602838272<br><a href=\"http://legacysurvey.org/viewer?ra=302.94956987423154&dec=-52.700081643618404\"><img src=\"http://legacysurvey.org/viewer/jpeg-cutout/?ra=302.9496&dec=-52.70008&zoom=15&layer=unwise-w1w2&size=120\"></a></td><td>6473773629390610048<br><a href=\"http://legacysurvey.org/viewer?ra=303.23582892261715&dec=-52.31096512277208\"><img src=\"http://legacysurvey.org/viewer/jpeg-cutout/?ra=303.2358&dec=-52.31097&zoom=15&layer=unwise-w1w2&size=120\"></a></td><td>6665937544319872000<br><a href=\"http://legacysurvey.org/viewer?ra=303.4803644535707&dec=-52.02079880707289\"><img src=\"http://legacysurvey.org/viewer/jpeg-cutout/?ra=303.4804&dec=-52.0208&zoom=15&layer=unwise-w1w2&size=120\"></a></td><td>6473795168649655552<br><a href=\"http://legacysurvey.org/viewer?ra=304.6499311922013&dec=-52.43595771301876\"><img src=\"http://legacysurvey.org/viewer/jpeg-cutout/?ra=304.6499&dec=-52.43596&zoom=15&layer=unwise-w1w2&size=120\"></a></td></tr>\n",
       "<tr><td>6472653295761369216<br><a href=\"http://legacysurvey.org/viewer?ra=304.9821704170785&dec=-53.698204196471586\"><img src=\"http://legacysurvey.org/viewer/jpeg-cutout/?ra=304.9822&dec=-53.6982&zoom=15&layer=unwise-w1w2&size=120\"></a></td><td>6473527854182187520<br><a href=\"http://legacysurvey.org/viewer?ra=304.7314107670536&dec=-53.092362682062664\"><img src=\"http://legacysurvey.org/viewer/jpeg-cutout/?ra=304.7314&dec=-53.09236&zoom=15&layer=unwise-w1w2&size=120\"></a></td><td>6473594473418912000<br><a href=\"http://legacysurvey.org/viewer?ra=304.5536787993658&dec=-52.74927485664032\"><img src=\"http://legacysurvey.org/viewer/jpeg-cutout/?ra=304.5537&dec=-52.74927&zoom=15&layer=unwise-w1w2&size=120\"></a></td><td>6472786813408986368<br><a href=\"http://legacysurvey.org/viewer?ra=305.46949375100917&dec=-53.18008493291038\"><img src=\"http://legacysurvey.org/viewer/jpeg-cutout/?ra=305.4695&dec=-53.18008&zoom=15&layer=unwise-w1w2&size=120\"></a></td><td>6473805961904436480<br><a href=\"http://legacysurvey.org/viewer?ra=303.9990405795435&dec=-52.44627645801001\"><img src=\"http://legacysurvey.org/viewer/jpeg-cutout/?ra=303.999&dec=-52.44628&zoom=15&layer=unwise-w1w2&size=120\"></a></td><td>6473841111916990976<br><a href=\"http://legacysurvey.org/viewer?ra=304.52044802917715&dec=-52.079778825367285\"><img src=\"http://legacysurvey.org/viewer/jpeg-cutout/?ra=304.5204&dec=-52.07978&zoom=15&layer=unwise-w1w2&size=120\"></a></td></tr>\n",
       "    </table>\n",
       "    "
      ],
      "text/plain": [
       "<IPython.core.display.HTML object>"
      ]
     },
     "execution_count": 133,
     "metadata": {},
     "output_type": "execute_result"
    }
   ],
   "source": [
    "# only need to remove if something really fishy is going on\n",
    "make_decals_viewer_cutouts(guidestars[np.random.permutation(len(guidestars))[:24]], \n",
    "                           survey='unwise-w1w2',ncols=6,namecol='TargetName')"
   ]
  },
  {
   "cell_type": "code",
   "execution_count": 144,
   "metadata": {},
   "outputs": [
    {
     "name": "stdout",
     "output_type": "stream",
     "text": [
      "Copied to clipboard\n"
     ]
    },
    {
     "data": {
      "text/html": [
       "\n",
       "    Paste the coords in \"Enter values\" at  \n",
       "    <a href=\"https://des.ncsa.illinois.edu/easyweb/cutouts\">the DES cutout service</a>,\n",
       "    and change the size to 0.3 arcmin\n",
       "    "
      ],
      "text/plain": [
       "<IPython.core.display.HTML object>"
      ]
     },
     "execution_count": 144,
     "metadata": {},
     "output_type": "execute_result"
    }
   ],
   "source": [
    "make_des_cutouts_file(acat[acat['Notes']=='sky'])"
   ]
  },
  {
   "cell_type": "code",
   "execution_count": 147,
   "metadata": {},
   "outputs": [
    {
     "name": "stdout",
     "output_type": "stream",
     "text": [
      "https://des.ncsa.illinois.edu/easyweb/static/workdir/eteq/c28593d9-3126-46b9-adbf-5ac8deae001c/list.json\n"
     ]
    },
    {
     "data": {
      "text/html": [
       "\n",
       "    <table>\n",
       "    <tr><td>0<br><a href=\"http://legacysurvey.org/viewer?ra=304.30214011647263&dec=-53.494269779893095\"><img src=\"https://des.ncsa.illinois.edu/easyweb/static/workdir/eteq/c28593d9-3126-46b9-adbf-5ac8deae001c/DESJ201518.7-523117.7.tif.png\"height=\"128\" width=\"128\"></a></td><td>1<br><a href=\"http://legacysurvey.org/viewer?ra=303.4825532275838&dec=-52.57135103713673\"><img src=\"https://des.ncsa.illinois.edu/easyweb/static/workdir/eteq/c28593d9-3126-46b9-adbf-5ac8deae001c/DESJ202011.2-525852.8.tif.png\"height=\"128\" width=\"128\"></a></td><td>2<br><a href=\"http://legacysurvey.org/viewer?ra=303.7841485525113&dec=-53.74613515439795\"><img src=\"https://des.ncsa.illinois.edu/easyweb/static/workdir/eteq/c28593d9-3126-46b9-adbf-5ac8deae001c/DESJ201306.3-525320.8.tif.png\"height=\"128\" width=\"128\"></a></td><td>3<br><a href=\"http://legacysurvey.org/viewer?ra=304.91848126325164&dec=-52.63535405482312\"><img src=\"https://des.ncsa.illinois.edu/easyweb/static/workdir/eteq/c28593d9-3126-46b9-adbf-5ac8deae001c/DESJ201731.0-534511.5.tif.png\"height=\"128\" width=\"128\"></a></td><td>4<br><a href=\"http://legacysurvey.org/viewer?ra=304.2566364544049&dec=-51.770541737404685\"><img src=\"https://des.ncsa.illinois.edu/easyweb/static/workdir/eteq/c28593d9-3126-46b9-adbf-5ac8deae001c/DESJ201357.2-525757.2.tif.png\"height=\"128\" width=\"128\"></a></td><td>5<br><a href=\"http://legacysurvey.org/viewer?ra=303.5817276636977&dec=-52.92130924101246\"><img src=\"https://des.ncsa.illinois.edu/easyweb/static/workdir/eteq/c28593d9-3126-46b9-adbf-5ac8deae001c/DESJ201910.8-532643.0.tif.png\"height=\"128\" width=\"128\"></a></td><td>6<br><a href=\"http://legacysurvey.org/viewer?ra=305.00187925460943&dec=-52.97647910370658\"><img src=\"https://des.ncsa.illinois.edu/easyweb/static/workdir/eteq/c28593d9-3126-46b9-adbf-5ac8deae001c/DESJ201622.8-520432.6.tif.png\"height=\"128\" width=\"128\"></a></td><td>7<br><a href=\"http://legacysurvey.org/viewer?ra=303.27629490845493&dec=-52.88911932452378\"><img src=\"https://des.ncsa.illinois.edu/easyweb/static/workdir/eteq/c28593d9-3126-46b9-adbf-5ac8deae001c/DESJ202044.6-525510.7.tif.png\"height=\"128\" width=\"128\"></a></td></tr>\n",
       "<tr><td>8<br><a href=\"http://legacysurvey.org/viewer?ra=305.15325604186074&dec=-52.42523021815362\"><img src=\"https://des.ncsa.illinois.edu/easyweb/static/workdir/eteq/c28593d9-3126-46b9-adbf-5ac8deae001c/DESJ201846.5-534810.0.tif.png\"height=\"128\" width=\"128\"></a></td><td>9<br><a href=\"http://legacysurvey.org/viewer?ra=304.8429024416196&dec=-53.22031183426838\"><img src=\"https://des.ncsa.illinois.edu/easyweb/static/workdir/eteq/c28593d9-3126-46b9-adbf-5ac8deae001c/DESJ201438.6-532251.3.tif.png\"height=\"128\" width=\"128\"></a></td><td>10<br><a href=\"http://legacysurvey.org/viewer?ra=303.7959955744887&dec=-53.755287582596715\"><img src=\"https://des.ncsa.illinois.edu/easyweb/static/workdir/eteq/c28593d9-3126-46b9-adbf-5ac8deae001c/DESJ202014.1-524245.4.tif.png\"height=\"128\" width=\"128\"></a></td><td>11<br><a href=\"http://legacysurvey.org/viewer?ra=304.9848282204726&dec=-53.56798623370719\"><img src=\"https://des.ncsa.illinois.edu/easyweb/static/workdir/eteq/c28593d9-3126-46b9-adbf-5ac8deae001c/DESJ201545.9-522912.2.tif.png\"height=\"128\" width=\"128\"></a></td><td>12<br><a href=\"http://legacysurvey.org/viewer?ra=303.8120525565407&dec=-53.49616786731948\"><img src=\"https://des.ncsa.illinois.edu/easyweb/static/workdir/eteq/c28593d9-3126-46b9-adbf-5ac8deae001c/DESJ201930.4-524156.0.tif.png\"height=\"128\" width=\"128\"></a></td><td>13<br><a href=\"http://legacysurvey.org/viewer?ra=304.71973201592704&dec=-52.17549156293581\"><img src=\"https://des.ncsa.illinois.edu/easyweb/static/workdir/eteq/c28593d9-3126-46b9-adbf-5ac8deae001c/DESJ201952.1-525410.7.tif.png\"height=\"128\" width=\"128\"></a></td><td>14<br><a href=\"http://legacysurvey.org/viewer?ra=304.55979466324254&dec=-53.54706103499791\"><img src=\"https://des.ncsa.illinois.edu/easyweb/static/workdir/eteq/c28593d9-3126-46b9-adbf-5ac8deae001c/DESJ201427.5-523544.2.tif.png\"height=\"128\" width=\"128\"></a></td><td>15<br><a href=\"http://legacysurvey.org/viewer?ra=304.8329029199564&dec=-52.978256083952296\"><img src=\"https://des.ncsa.illinois.edu/easyweb/static/workdir/eteq/c28593d9-3126-46b9-adbf-5ac8deae001c/DESJ201732.9-514610.1.tif.png\"height=\"128\" width=\"128\"></a></td></tr>\n",
       "<tr><td>16<br><a href=\"http://legacysurvey.org/viewer?ra=304.13677262169296&dec=-53.8261336221908\"><img src=\"https://des.ncsa.illinois.edu/easyweb/static/workdir/eteq/c28593d9-3126-46b9-adbf-5ac8deae001c/DESJ201641.7-514433.1.tif.png\"height=\"128\" width=\"128\"></a></td><td>17<br><a href=\"http://legacysurvey.org/viewer?ra=304.20418495601797&dec=-53.2434101086405\"><img src=\"https://des.ncsa.illinois.edu/easyweb/static/workdir/eteq/c28593d9-3126-46b9-adbf-5ac8deae001c/DESJ201632.8-534934.1.tif.png\"height=\"128\" width=\"128\"></a></td><td>18<br><a href=\"http://legacysurvey.org/viewer?ra=305.20260792550437&dec=-52.95066138969882\"><img src=\"https://des.ncsa.illinois.edu/easyweb/static/workdir/eteq/c28593d9-3126-46b9-adbf-5ac8deae001c/DESJ201434.5-532113.2.tif.png\"height=\"128\" width=\"128\"></a></td><td>19<br><a href=\"http://legacysurvey.org/viewer?ra=305.18566687230594&dec=-52.91963124366296\"><img src=\"https://des.ncsa.illinois.edu/easyweb/static/workdir/eteq/c28593d9-3126-46b9-adbf-5ac8deae001c/DESJ201712.5-532939.4.tif.png\"height=\"128\" width=\"128\"></a></td><td>20<br><a href=\"http://legacysurvey.org/viewer?ra=303.72363733190684&dec=-52.79679416209273\"><img src=\"https://des.ncsa.illinois.edu/easyweb/static/workdir/eteq/c28593d9-3126-46b9-adbf-5ac8deae001c/DESJ202016.5-522653.0.tif.png\"height=\"128\" width=\"128\"></a></td><td>21<br><a href=\"http://legacysurvey.org/viewer?ra=304.8886338815949&dec=-53.55632623384858\"><img src=\"https://des.ncsa.illinois.edu/easyweb/static/workdir/eteq/c28593d9-3126-46b9-adbf-5ac8deae001c/DESJ201552.7-521844.1.tif.png\"height=\"128\" width=\"128\"></a></td><td>22<br><a href=\"http://legacysurvey.org/viewer?ra=305.0824766392474&dec=-52.68424131671218\"><img src=\"https://des.ncsa.illinois.edu/easyweb/static/workdir/eteq/c28593d9-3126-46b9-adbf-5ac8deae001c/DESJ202007.1-532200.9.tif.png\"height=\"128\" width=\"128\"></a></td><td>23<br><a href=\"http://legacysurvey.org/viewer?ra=305.0465560291436&dec=-52.9813249468366\"><img src=\"https://des.ncsa.illinois.edu/easyweb/static/workdir/eteq/c28593d9-3126-46b9-adbf-5ac8deae001c/DESJ201323.7-522516.2.tif.png\"height=\"128\" width=\"128\"></a></td></tr>\n",
       "<tr><td>24<br><a href=\"http://legacysurvey.org/viewer?ra=303.94119033543916&dec=-52.48671788500179\"><img src=\"https://des.ncsa.illinois.edu/easyweb/static/workdir/eteq/c28593d9-3126-46b9-adbf-5ac8deae001c/DESJ202006.1-525256.6.tif.png\"height=\"128\" width=\"128\"></a></td><td>25<br><a href=\"http://legacysurvey.org/viewer?ra=303.61470441708855&dec=-53.636467619472924\"><img src=\"https://des.ncsa.illinois.edu/easyweb/static/workdir/eteq/c28593d9-3126-46b9-adbf-5ac8deae001c/DESJ201553.9-520442.6.tif.png\"height=\"128\" width=\"128\"></a></td><td>26<br><a href=\"http://legacysurvey.org/viewer?ra=304.9259706243592&dec=-52.35776446825193\"><img src=\"https://des.ncsa.illinois.edu/easyweb/static/workdir/eteq/c28593d9-3126-46b9-adbf-5ac8deae001c/DESJ201936.0-530550.6.tif.png\"height=\"128\" width=\"128\"></a></td><td>27<br><a href=\"http://legacysurvey.org/viewer?ra=304.8940459552504&dec=-52.74831510167903\"><img src=\"https://des.ncsa.illinois.edu/easyweb/static/workdir/eteq/c28593d9-3126-46b9-adbf-5ac8deae001c/DESJ201727.1-514740.4.tif.png\"height=\"128\" width=\"128\"></a></td><td>28<br><a href=\"http://legacysurvey.org/viewer?ra=303.8756453991366&dec=-52.2276390124977\"><img src=\"https://des.ncsa.illinois.edu/easyweb/static/workdir/eteq/c28593d9-3126-46b9-adbf-5ac8deae001c/DESJ201508.9-520512.7.tif.png\"height=\"128\" width=\"128\"></a></td><td>29<br><a href=\"http://legacysurvey.org/viewer?ra=304.30649668007715&dec=-51.77033187923354\"><img src=\"https://des.ncsa.illinois.edu/easyweb/static/workdir/eteq/c28593d9-3126-46b9-adbf-5ac8deae001c/DESJ202059.9-530747.1.tif.png\"height=\"128\" width=\"128\"></a></td><td>30<br><a href=\"http://legacysurvey.org/viewer?ra=304.0949913544799&dec=-52.07570522719795\"><img src=\"https://des.ncsa.illinois.edu/easyweb/static/workdir/eteq/c28593d9-3126-46b9-adbf-5ac8deae001c/DESJ202000.5-525835.3.tif.png\"height=\"128\" width=\"128\"></a></td><td>31<br><a href=\"http://legacysurvey.org/viewer?ra=303.61442683939055&dec=-52.59561196169654\"><img src=\"https://des.ncsa.illinois.edu/easyweb/static/workdir/eteq/c28593d9-3126-46b9-adbf-5ac8deae001c/DESJ201801.7-514652.4.tif.png\"height=\"128\" width=\"128\"></a></td></tr>\n",
       "<tr><td>32<br><a href=\"http://legacysurvey.org/viewer?ra=303.6438281358682&dec=-52.24457057363937\"><img src=\"https://des.ncsa.illinois.edu/easyweb/static/workdir/eteq/c28593d9-3126-46b9-adbf-5ac8deae001c/DESJ201506.4-525901.4.tif.png\"height=\"128\" width=\"128\"></a></td><td>33<br><a href=\"http://legacysurvey.org/viewer?ra=304.8357479022243&dec=-52.959602924372305\"><img src=\"https://des.ncsa.illinois.edu/easyweb/static/workdir/eteq/c28593d9-3126-46b9-adbf-5ac8deae001c/DESJ201825.6-522550.5.tif.png\"height=\"128\" width=\"128\"></a></td><td>34<br><a href=\"http://legacysurvey.org/viewer?ra=304.146850790134&dec=-51.76239684753564\"><img src=\"https://des.ncsa.illinois.edu/easyweb/static/workdir/eteq/c28593d9-3126-46b9-adbf-5ac8deae001c/DESJ201701.6-514613.9.tif.png\"height=\"128\" width=\"128\"></a></td><td>35<br><a href=\"http://legacysurvey.org/viewer?ra=304.60657589800496&dec=-52.43069314552602\"><img src=\"https://des.ncsa.illinois.edu/easyweb/static/workdir/eteq/c28593d9-3126-46b9-adbf-5ac8deae001c/DESJ201350.6-531504.9.tif.png\"height=\"128\" width=\"128\"></a></td><td>36<br><a href=\"http://legacysurvey.org/viewer?ra=303.78688886910993&dec=-52.08685804680689\"><img src=\"https://des.ncsa.illinois.edu/easyweb/static/workdir/eteq/c28593d9-3126-46b9-adbf-5ac8deae001c/DESJ201823.1-534946.7.tif.png\"height=\"128\" width=\"128\"></a></td><td>37<br><a href=\"http://legacysurvey.org/viewer?ra=304.59925813548864&dec=-53.4722583124881\"><img src=\"https://des.ncsa.illinois.edu/easyweb/static/workdir/eteq/c28593d9-3126-46b9-adbf-5ac8deae001c/DESJ201713.6-514613.2.tif.png\"height=\"128\" width=\"128\"></a></td><td>38<br><a href=\"http://legacysurvey.org/viewer?ra=303.94249766946643&dec=-52.52476547009684\"><img src=\"https://des.ncsa.illinois.edu/easyweb/static/workdir/eteq/c28593d9-3126-46b9-adbf-5ac8deae001c/DESJ201920.6-525734.6.tif.png\"height=\"128\" width=\"128\"></a></td><td>39<br><a href=\"http://legacysurvey.org/viewer?ra=304.7622671382898&dec=-52.710860811400615\"><img src=\"https://des.ncsa.illinois.edu/easyweb/static/workdir/eteq/c28593d9-3126-46b9-adbf-5ac8deae001c/DESJ202004.6-515711.4.tif.png\"height=\"128\" width=\"128\"></a></td></tr>\n",
       "<tr><td>40<br><a href=\"http://legacysurvey.org/viewer?ra=304.25680098193584&dec=-52.11847409972386\"><img src=\"https://des.ncsa.illinois.edu/easyweb/static/workdir/eteq/c28593d9-3126-46b9-adbf-5ac8deae001c/DESJ201940.4-523807.3.tif.png\"height=\"128\" width=\"128\"></a></td><td>41<br><a href=\"http://legacysurvey.org/viewer?ra=305.02716518858284&dec=-52.096102599520876\"><img src=\"https://des.ncsa.illinois.edu/easyweb/static/workdir/eteq/c28593d9-3126-46b9-adbf-5ac8deae001c/DESJ201823.8-532820.1.tif.png\"height=\"128\" width=\"128\"></a></td><td>42<br><a href=\"http://legacysurvey.org/viewer?ra=304.37927485287605&dec=-53.753188428400414\"><img src=\"https://des.ncsa.illinois.edu/easyweb/static/workdir/eteq/c28593d9-3126-46b9-adbf-5ac8deae001c/DESJ201915.8-530733.0.tif.png\"height=\"128\" width=\"128\"></a></td><td>43<br><a href=\"http://legacysurvey.org/viewer?ra=304.7406481353573&dec=-52.96958803570793\"><img src=\"https://des.ncsa.illinois.edu/easyweb/static/workdir/eteq/c28593d9-3126-46b9-adbf-5ac8deae001c/DESJ201635.2-514544.6.tif.png\"height=\"128\" width=\"128\"></a></td><td>44<br><a href=\"http://legacysurvey.org/viewer?ra=304.7950471808403&dec=-53.44526775893585\"><img src=\"https://des.ncsa.illinois.edu/easyweb/static/workdir/eteq/c28593d9-3126-46b9-adbf-5ac8deae001c/DESJ201514.9-532946.2.tif.png\"height=\"128\" width=\"128\"></a></td><td>45<br><a href=\"http://legacysurvey.org/viewer?ra=303.58536351050395&dec=-52.60112487503152\"><img src=\"https://des.ncsa.illinois.edu/easyweb/static/workdir/eteq/c28593d9-3126-46b9-adbf-5ac8deae001c/DESJ201819.8-522539.8.tif.png\"height=\"128\" width=\"128\"></a></td><td>46<br><a href=\"http://legacysurvey.org/viewer?ra=305.2494331200554&dec=-53.12974605466667\"><img src=\"https://des.ncsa.illinois.edu/easyweb/static/workdir/eteq/c28593d9-3126-46b9-adbf-5ac8deae001c/DESJ201423.9-523733.2.tif.png\"height=\"128\" width=\"128\"></a></td><td>47<br><a href=\"http://legacysurvey.org/viewer?ra=304.73391399612444&dec=-52.599363013213015\"><img src=\"https://des.ncsa.illinois.edu/easyweb/static/workdir/eteq/c28593d9-3126-46b9-adbf-5ac8deae001c/DESJ201355.8-523416.9.tif.png\"height=\"128\" width=\"128\"></a></td></tr>\n",
       "<tr><td>48<br><a href=\"http://legacysurvey.org/viewer?ra=303.5994944932742&dec=-52.62590143254639\"><img src=\"https://des.ncsa.illinois.edu/easyweb/static/workdir/eteq/c28593d9-3126-46b9-adbf-5ac8deae001c/DESJ201857.8-525810.5.tif.png\"height=\"128\" width=\"128\"></a></td><td>49<br><a href=\"http://legacysurvey.org/viewer?ra=304.8999855740615&dec=-53.097385194274096\"><img src=\"https://des.ncsa.illinois.edu/easyweb/static/workdir/eteq/c28593d9-3126-46b9-adbf-5ac8deae001c/DESJ201943.9-530809.5.tif.png\"height=\"128\" width=\"128\"></a></td><td>50<br><a href=\"http://legacysurvey.org/viewer?ra=303.4884534091904&dec=-52.965899557550486\"><img src=\"https://des.ncsa.illinois.edu/easyweb/static/workdir/eteq/c28593d9-3126-46b9-adbf-5ac8deae001c/DESJ201420.5-523604.0.tif.png\"height=\"128\" width=\"128\"></a></td><td>51<br><a href=\"http://legacysurvey.org/viewer?ra=303.46067278037907&dec=-53.2513468322427\"><img src=\"https://des.ncsa.illinois.edu/easyweb/static/workdir/eteq/c28593d9-3126-46b9-adbf-5ac8deae001c/DESJ201508.2-534446.1.tif.png\"height=\"128\" width=\"128\"></a></td><td>52<br><a href=\"http://legacysurvey.org/viewer?ra=303.9624419883995&dec=-53.79709471431837\"><img src=\"https://des.ncsa.illinois.edu/easyweb/static/workdir/eteq/c28593d9-3126-46b9-adbf-5ac8deae001c/DESJ201828.1-533016.9.tif.png\"height=\"128\" width=\"128\"></a></td><td>53<br><a href=\"http://legacysurvey.org/viewer?ra=303.8928456891444&dec=-53.35376742415845\"><img src=\"https://des.ncsa.illinois.edu/easyweb/static/workdir/eteq/c28593d9-3126-46b9-adbf-5ac8deae001c/DESJ201511.0-534519.0.tif.png\"height=\"128\" width=\"128\"></a></td><td>54<br><a href=\"http://legacysurvey.org/viewer?ra=304.76495352834377&dec=-53.62104879075003\"><img src=\"https://des.ncsa.illinois.edu/easyweb/static/workdir/eteq/c28593d9-3126-46b9-adbf-5ac8deae001c/DESJ201546.2-523129.2.tif.png\"height=\"128\" width=\"128\"></a></td><td>55<br><a href=\"http://legacysurvey.org/viewer?ra=303.6899255069812&dec=-52.44778438335233\"><img src=\"https://des.ncsa.illinois.edu/easyweb/static/workdir/eteq/c28593d9-3126-46b9-adbf-5ac8deae001c/DESJ201849.1-530857.1.tif.png\"height=\"128\" width=\"128\"></a></td></tr>\n",
       "<tr><td>56<br><a href=\"http://legacysurvey.org/viewer?ra=303.83157218293775&dec=-53.440644158969704\"><img src=\"https://des.ncsa.illinois.edu/easyweb/static/workdir/eteq/c28593d9-3126-46b9-adbf-5ac8deae001c/DESJ201931.3-524413.3.tif.png\"height=\"128\" width=\"128\"></a></td><td>57<br><a href=\"http://legacysurvey.org/viewer?ra=303.29244066451446&dec=-53.05085493170567\"><img src=\"https://des.ncsa.illinois.edu/easyweb/static/workdir/eteq/c28593d9-3126-46b9-adbf-5ac8deae001c/DESJ201514.3-515105.8.tif.png\"height=\"128\" width=\"128\"></a></td><td>58<br><a href=\"http://legacysurvey.org/viewer?ra=304.8767628331842&dec=-52.698890744204114\"><img src=\"https://des.ncsa.illinois.edu/easyweb/static/workdir/eteq/c28593d9-3126-46b9-adbf-5ac8deae001c/DESJ202006.5-520546.0.tif.png\"height=\"128\" width=\"128\"></a></td><td>59<br><a href=\"http://legacysurvey.org/viewer?ra=304.80165726457443&dec=-52.28249304959143\"><img src=\"https://des.ncsa.illinois.edu/easyweb/static/workdir/eteq/c28593d9-3126-46b9-adbf-5ac8deae001c/DESJ201649.0-531436.3.tif.png\"height=\"128\" width=\"128\"></a></td><td>60<br><a href=\"http://legacysurvey.org/viewer?ra=304.5070914153874&dec=-51.781216361524905\"><img src=\"https://des.ncsa.illinois.edu/easyweb/static/workdir/eteq/c28593d9-3126-46b9-adbf-5ac8deae001c/DESJ201654.8-515538.1.tif.png\"height=\"128\" width=\"128\"></a></td><td>61<br><a href=\"http://legacysurvey.org/viewer?ra=304.59612530978836&dec=-53.82964602403524\"><img src=\"https://des.ncsa.illinois.edu/easyweb/static/workdir/eteq/c28593d9-3126-46b9-adbf-5ac8deae001c/DESJ201659.1-534905.2.tif.png\"height=\"128\" width=\"128\"></a></td><td>62<br><a href=\"http://legacysurvey.org/viewer?ra=304.96703140743114&dec=-52.902978765827946\"><img src=\"https://des.ncsa.illinois.edu/easyweb/static/workdir/eteq/c28593d9-3126-46b9-adbf-5ac8deae001c/DESJ202118.9-531152.6.tif.png\"height=\"128\" width=\"128\"></a></td><td>63<br><a href=\"http://legacysurvey.org/viewer?ra=304.173927203512&dec=-51.742541669882776\"><img src=\"https://des.ncsa.illinois.edu/easyweb/static/workdir/eteq/c28593d9-3126-46b9-adbf-5ac8deae001c/DESJ201434.5-521440.5.tif.png\"height=\"128\" width=\"128\"></a></td></tr>\n",
       "<tr><td>64<br><a href=\"http://legacysurvey.org/viewer?ra=304.3628822735594&dec=-51.7945456083938\"><img src=\"https://des.ncsa.illinois.edu/easyweb/static/workdir/eteq/c28593d9-3126-46b9-adbf-5ac8deae001c/DESJ201910.9-520559.2.tif.png\"height=\"128\" width=\"128\"></a></td><td>65<br><a href=\"http://legacysurvey.org/viewer?ra=304.8461180321469&dec=-53.19306017055098\"><img src=\"https://des.ncsa.illinois.edu/easyweb/static/workdir/eteq/c28593d9-3126-46b9-adbf-5ac8deae001c/DESJ201545.7-520326.1.tif.png\"height=\"128\" width=\"128\"></a></td><td>66<br><a href=\"http://legacysurvey.org/viewer?ra=303.6609877954331&dec=-53.38091309887406\"><img src=\"https://des.ncsa.illinois.edu/easyweb/static/workdir/eteq/c28593d9-3126-46b9-adbf-5ac8deae001c/DESJ201933.3-533322.8.tif.png\"height=\"128\" width=\"128\"></a></td><td>67<br><a href=\"http://legacysurvey.org/viewer?ra=305.0297879835721&dec=-53.36691281247145\"><img src=\"https://des.ncsa.illinois.edu/easyweb/static/workdir/eteq/c28593d9-3126-46b9-adbf-5ac8deae001c/DESJ201427.5-533811.3.tif.png\"height=\"128\" width=\"128\"></a></td><td>68<br><a href=\"http://legacysurvey.org/viewer?ra=303.7768352478103&dec=-52.983730802334904\"><img src=\"https://des.ncsa.illinois.edu/easyweb/static/workdir/eteq/c28593d9-3126-46b9-adbf-5ac8deae001c/DESJ201923.1-531135.0.tif.png\"height=\"128\" width=\"128\"></a></td><td>69<br><a href=\"http://legacysurvey.org/viewer?ra=303.6437047353316&dec=-53.353678450887024\"><img src=\"https://des.ncsa.illinois.edu/easyweb/static/workdir/eteq/c28593d9-3126-46b9-adbf-5ac8deae001c/DESJ202048.6-525702.4.tif.png\"height=\"128\" width=\"128\"></a></td><td>70<br><a href=\"http://legacysurvey.org/viewer?ra=303.6867587808496&dec=-53.169825010362395\"><img src=\"https://des.ncsa.illinois.edu/easyweb/static/workdir/eteq/c28593d9-3126-46b9-adbf-5ac8deae001c/DESJ201411.5-532535.3.tif.png\"height=\"128\" width=\"128\"></a></td><td>71<br><a href=\"http://legacysurvey.org/viewer?ra=305.05869264369625&dec=-52.712607456513034\"><img src=\"https://des.ncsa.illinois.edu/easyweb/static/workdir/eteq/c28593d9-3126-46b9-adbf-5ac8deae001c/DESJ201902.9-524239.1.tif.png\"height=\"128\" width=\"128\"></a></td></tr>\n",
       "<tr><td>72<br><a href=\"http://legacysurvey.org/viewer?ra=304.5233834625585&dec=-51.72212123504737\"><img src=\"https://des.ncsa.illinois.edu/easyweb/static/workdir/eteq/c28593d9-3126-46b9-adbf-5ac8deae001c/DESJ201852.7-521031.8.tif.png\"height=\"128\" width=\"128\"></a></td><td>73<br><a href=\"http://legacysurvey.org/viewer?ra=304.9307072009913&dec=-53.332548633973595\"><img src=\"https://des.ncsa.illinois.edu/easyweb/static/workdir/eteq/c28593d9-3126-46b9-adbf-5ac8deae001c/DESJ201856.1-523557.7.tif.png\"height=\"128\" width=\"128\"></a></td><td>74<br><a href=\"http://legacysurvey.org/viewer?ra=304.228221840641&dec=-51.92725181016675\"><img src=\"https://des.ncsa.illinois.edu/easyweb/static/workdir/eteq/c28593d9-3126-46b9-adbf-5ac8deae001c/DESJ201551.0-534749.5.tif.png\"height=\"128\" width=\"128\"></a></td><td>75<br><a href=\"http://legacysurvey.org/viewer?ra=304.81572344110805&dec=-53.12583853337566\"><img src=\"https://des.ncsa.illinois.edu/easyweb/static/workdir/eteq/c28593d9-3126-46b9-adbf-5ac8deae001c/DESJ201701.6-520706.5.tif.png\"height=\"128\" width=\"128\"></a></td><td>76<br><a href=\"http://legacysurvey.org/viewer?ra=303.8280642994126&dec=-52.521590613237606\"><img src=\"https://des.ncsa.illinois.edu/easyweb/static/workdir/eteq/c28593d9-3126-46b9-adbf-5ac8deae001c/DESJ201943.4-531957.2.tif.png\"height=\"128\" width=\"128\"></a></td><td>77<br><a href=\"http://legacysurvey.org/viewer?ra=304.8413348137665&dec=-52.80622441491046\"><img src=\"https://des.ncsa.illinois.edu/easyweb/static/workdir/eteq/c28593d9-3126-46b9-adbf-5ac8deae001c/DESJ201419.6-525516.7.tif.png\"height=\"128\" width=\"128\"></a></td><td>78<br><a href=\"http://legacysurvey.org/viewer?ra=305.0190619208819&dec=-51.95318462436078\"><img src=\"https://des.ncsa.illinois.edu/easyweb/static/workdir/eteq/c28593d9-3126-46b9-adbf-5ac8deae001c/DESJ201519.6-532626.3.tif.png\"height=\"128\" width=\"128\"></a></td><td>79<br><a href=\"http://legacysurvey.org/viewer?ra=304.38717750034414&dec=-51.76946870064362\"><img src=\"https://des.ncsa.illinois.edu/easyweb/static/workdir/eteq/c28593d9-3126-46b9-adbf-5ac8deae001c/DESJ201922.2-523712.7.tif.png\"height=\"128\" width=\"128\"></a></td></tr>\n",
       "<tr><td>80<br><a href=\"http://legacysurvey.org/viewer?ra=304.8426137887938&dec=-52.62018594430926\"><img src=\"https://des.ncsa.illinois.edu/easyweb/static/workdir/eteq/c28593d9-3126-46b9-adbf-5ac8deae001c/DESJ201956.4-533404.8.tif.png\"height=\"128\" width=\"128\"></a></td><td>81<br><a href=\"http://legacysurvey.org/viewer?ra=303.8096485185797&dec=-51.85161981724454\"><img src=\"https://des.ncsa.illinois.edu/easyweb/static/workdir/eteq/c28593d9-3126-46b9-adbf-5ac8deae001c/DESJ201903.6-533715.8.tif.png\"height=\"128\" width=\"128\"></a></td><td>82<br><a href=\"http://legacysurvey.org/viewer?ra=303.3488324647714&dec=-52.42115633561722\"><img src=\"https://des.ncsa.illinois.edu/easyweb/static/workdir/eteq/c28593d9-3126-46b9-adbf-5ac8deae001c/DESJ202019.8-524103.3.tif.png\"height=\"128\" width=\"128\"></a></td><td>83<br><a href=\"http://legacysurvey.org/viewer?ra=303.54782644470777&dec=-53.426458466954614\"><img src=\"https://des.ncsa.illinois.edu/easyweb/static/workdir/eteq/c28593d9-3126-46b9-adbf-5ac8deae001c/DESJ201934.6-524454.0.tif.png\"height=\"128\" width=\"128\"></a></td><td>84<br><a href=\"http://legacysurvey.org/viewer?ra=305.06876092682154&dec=-52.44805346728084\"><img src=\"https://des.ncsa.illinois.edu/easyweb/static/workdir/eteq/c28593d9-3126-46b9-adbf-5ac8deae001c/DESJ201310.2-530303.1.tif.png\"height=\"128\" width=\"128\"></a></td><td>85<br><a href=\"http://legacysurvey.org/viewer?ra=304.2272236469964&dec=-53.45584635520284\"><img src=\"https://des.ncsa.illinois.edu/easyweb/static/workdir/eteq/c28593d9-3126-46b9-adbf-5ac8deae001c/DESJ201805.6-514319.6.tif.png\"height=\"128\" width=\"128\"></a></td><td>86<br><a href=\"http://legacysurvey.org/viewer?ra=303.9745819963244&dec=-52.07851454523673\"><img src=\"https://des.ncsa.illinois.edu/easyweb/static/workdir/eteq/c28593d9-3126-46b9-adbf-5ac8deae001c/DESJ201942.2-522127.9.tif.png\"height=\"128\" width=\"128\"></a></td><td>87<br><a href=\"http://legacysurvey.org/viewer?ra=304.93298462602786&dec=-53.13596754954492\"><img src=\"https://des.ncsa.illinois.edu/easyweb/static/workdir/eteq/c28593d9-3126-46b9-adbf-5ac8deae001c/DESJ201814.3-533249.4.tif.png\"height=\"128\" width=\"128\"></a></td></tr>\n",
       "<tr><td>88<br><a href=\"http://legacysurvey.org/viewer?ra=304.8802973123191&dec=-52.737036709244926\"><img src=\"https://des.ncsa.illinois.edu/easyweb/static/workdir/eteq/c28593d9-3126-46b9-adbf-5ac8deae001c/DESJ201912.4-521657.0.tif.png\"height=\"128\" width=\"128\"></a></td><td>89<br><a href=\"http://legacysurvey.org/viewer?ra=304.6171950648398&dec=-53.50470027267606\"><img src=\"https://des.ncsa.illinois.edu/easyweb/static/workdir/eteq/c28593d9-3126-46b9-adbf-5ac8deae001c/DESJ201453.7-524748.4.tif.png\"height=\"128\" width=\"128\"></a></td><td>90<br><a href=\"http://legacysurvey.org/viewer?ra=305.3288058374209&dec=-53.197935545934676\"><img src=\"https://des.ncsa.illinois.edu/easyweb/static/workdir/eteq/c28593d9-3126-46b9-adbf-5ac8deae001c/DESJ201720.4-514242.9.tif.png\"height=\"128\" width=\"128\"></a></td><td>91<br><a href=\"http://legacysurvey.org/viewer?ra=303.94054020322443&dec=-52.05723534683804\"><img src=\"https://des.ncsa.illinois.edu/easyweb/static/workdir/eteq/c28593d9-3126-46b9-adbf-5ac8deae001c/DESJ201654.5-532721.1.tif.png\"height=\"128\" width=\"128\"></a></td><td>92<br><a href=\"http://legacysurvey.org/viewer?ra=304.3349778897329&dec=-51.71191510585584\"><img src=\"https://des.ncsa.illinois.edu/easyweb/static/workdir/eteq/c28593d9-3126-46b9-adbf-5ac8deae001c/DESJ201530.2-521339.5.tif.png\"height=\"128\" width=\"128\"></a></td><td>93<br><a href=\"http://legacysurvey.org/viewer?ra=305.025557957715&dec=-52.88239786298478\"><img src=\"https://des.ncsa.illinois.edu/easyweb/static/workdir/eteq/c28593d9-3126-46b9-adbf-5ac8deae001c/DESJ201919.9-525841.7.tif.png\"height=\"128\" width=\"128\"></a></td><td>94<br><a href=\"http://legacysurvey.org/viewer?ra=304.24644691646137&dec=-53.81811469871612\"><img src=\"https://des.ncsa.illinois.edu/easyweb/static/workdir/eteq/c28593d9-3126-46b9-adbf-5ac8deae001c/DESJ201445.6-522652.0.tif.png\"height=\"128\" width=\"128\"></a></td><td>95<br><a href=\"http://legacysurvey.org/viewer?ra=304.7046073747812&dec=-53.14918732229522\"><img src=\"https://des.ncsa.illinois.edu/easyweb/static/workdir/eteq/c28593d9-3126-46b9-adbf-5ac8deae001c/DESJ201921.9-524822.4.tif.png\"height=\"128\" width=\"128\"></a></td></tr>\n",
       "<tr><td>96<br><a href=\"http://legacysurvey.org/viewer?ra=304.79556390293664&dec=-52.09977603404527\"><img src=\"https://des.ncsa.illinois.edu/easyweb/static/workdir/eteq/c28593d9-3126-46b9-adbf-5ac8deae001c/DESJ201922.3-531313.1.tif.png\"height=\"128\" width=\"128\"></a></td><td>97<br><a href=\"http://legacysurvey.org/viewer?ra=304.58262529366345&dec=-52.42773247379364\"><img src=\"https://des.ncsa.illinois.edu/easyweb/static/workdir/eteq/c28593d9-3126-46b9-adbf-5ac8deae001c/DESJ201444.8-531011.4.tif.png\"height=\"128\" width=\"128\"></a></td><td>98<br><a href=\"http://legacysurvey.org/viewer?ra=304.69384241609214&dec=-53.80278412162769\"><img src=\"https://des.ncsa.illinois.edu/easyweb/static/workdir/eteq/c28593d9-3126-46b9-adbf-5ac8deae001c/DESJ201534.3-532113.6.tif.png\"height=\"128\" width=\"128\"></a></td><td>99<br><a href=\"http://legacysurvey.org/viewer?ra=303.9697031503093&dec=-52.312261383042056\"><img src=\"https://des.ncsa.illinois.edu/easyweb/static/workdir/eteq/c28593d9-3126-46b9-adbf-5ac8deae001c/DESJ202036.8-522530.8.tif.png\"height=\"128\" width=\"128\"></a></td><td></td><td></td><td></td><td></td></tr>\n",
       "    </table>\n",
       "    "
      ],
      "text/plain": [
       "<IPython.core.display.HTML object>"
      ]
     },
     "execution_count": 147,
     "metadata": {},
     "output_type": "execute_result"
    }
   ],
   "source": [
    "show_des_cutouts(acat[acat['Notes']=='sky'], 'c28593d9-3126-46b9-adbf-5ac8deae001c', ncols=8, namecol='TargetName')"
   ]
  },
  {
   "cell_type": "code",
   "execution_count": 148,
   "metadata": {},
   "outputs": [
    {
     "data": {
      "text/plain": [
       "85"
      ]
     },
     "execution_count": 148,
     "metadata": {},
     "output_type": "execute_result"
    }
   ],
   "source": [
    "skys_to_rem = [int(i) for i in '11 12 13 15 28 30 42 48 56 61 73 75 83 88 93'.split()]\n",
    "writecat.remove_rows((writecat['Notes']=='Sky')&(np.in1d(writecat['TargetName'], skys_to_rem)))\n",
    "np.sum((writecat['Notes']=='Sky'))"
   ]
  },
  {
   "cell_type": "code",
   "execution_count": 149,
   "metadata": {},
   "outputs": [
    {
     "name": "stdout",
     "output_type": "stream",
     "text": [
      "Writing aat_targets_jun2018/pgc64427_master.fld\n",
      "Total remaining in each priority (5 fluxes, 100 guides, and 85 skies not included):\n",
      "{1: 158, 2: 230, 3: 190, 4: 50, 5: 125, 6: 51, 7: 36, 8: 9, 9: 0}\n",
      "{1: 100.0, 2: 100.0, 3: 100.0, 4: 100.0, 5: 100.0, 6: 100.0, 7: 100.0, 8: 100.0, 9: None}%\n",
      "Total targets: 849\n"
     ]
    }
   ],
   "source": [
    "fieldnumornone = '' if fieldnum==1 else fieldnum\n",
    "fnout = 'aat_targets_jun2018/{}_master{}.fld'.format(hostname, fieldnumornone)\n",
    "print('Writing', fnout)\n",
    "write_fld_file(writecat, host, obs_start_date, fnout)\n",
    "\n",
    "fldfn = 'aat_targets_jun2018/{}_{}.fld'.format(hostname, fieldnum)\n",
    "tots = aat.subsample_from_master_fld('aat_targets_jun2018/{}_master{}.fld'.format(hostname, fieldnumornone), fldfn,\n",
    "                                   {1:np.inf,2:np.inf,3:np.inf,4:np.inf,\n",
    "                                    5:np.inf,6:np.inf,7:np.inf,8:np.inf,9:np.inf},\n",
    "                                    nflux=5, nguides=100)\n",
    "print('Total targets:', np.sum(list(tots.values())))"
   ]
  },
  {
   "cell_type": "code",
   "execution_count": 150,
   "metadata": {},
   "outputs": [
    {
     "name": "stdout",
     "output_type": "stream",
     "text": [
      "pgc64427_1.fld                                100%   56KB  56.3KB/s   00:00    \n"
     ]
    }
   ],
   "source": [
    "!scp $fldfn visitor6@aatlxh:~/jun12/"
   ]
  },
  {
   "cell_type": "markdown",
   "metadata": {},
   "source": [
    "## pgc67817"
   ]
  },
  {
   "cell_type": "code",
   "execution_count": 151,
   "metadata": {},
   "outputs": [
    {
     "name": "stdout",
     "output_type": "stream",
     "text": [
      "[06/12 17:13:49] [WARNING] Not found: sdss catalog for pgc67817.\n",
      "[06/12 17:13:49] [WARNING] Not found: decals catalog for pgc67817.\n",
      "[06/12 17:13:49] Use DES to build base catalog v2 for pgc67817 (1/1)\n"
     ]
    },
    {
     "name": "stderr",
     "output_type": "stream",
     "text": [
      "WARNING:root:No kcorrect module. Stellar mass not calculated!\n"
     ]
    },
    {
     "name": "stdout",
     "output_type": "stream",
     "text": [
      "[06/12 17:14:15] Write base catalog to ./base_catalogs/base_v2_pgc67817.fits.gz\n"
     ]
    }
   ],
   "source": [
    "fieldnum = 2\n",
    "idnum = 67817\n",
    "\n",
    "saga_object_catalog.build_and_write_to_database('pgc{}'.format(idnum), overwrite=fieldnum>1)"
   ]
  },
  {
   "cell_type": "code",
   "execution_count": 152,
   "metadata": {},
   "outputs": [
    {
     "name": "stdout",
     "output_type": "stream",
     "text": [
      "pgc67817\n",
      "# of flux stars = 242\n",
      "# of sky fibers = 100\n",
      "# of Priority=1 targets = 289\n",
      "# of Priority=2 targets = 104\n",
      "# of Priority=3 targets = 63\n",
      "# of Priority=4 targets = 50\n",
      "# of Priority=5 targets = 115\n",
      "# of Priority=6 targets = 54\n",
      "# of Priority=7 targets = 14\n",
      "# of Priority=8 targets = 16\n",
      "# of Priority=9 targets = 342\n",
      "Object catalog to Gaia offset: (<Angle -0.12210635 arcsec>, <Angle 0.17147205 arcsec>) from 1391 objects (75.2%)\n",
      "Found 162 Gaia guide stars\n",
      "55 Have a brightish neighbor.  Removing them.\n"
     ]
    },
    {
     "data": {
      "text/plain": [
       "1154"
      ]
     },
     "execution_count": 152,
     "metadata": {},
     "output_type": "execute_result"
    }
   ],
   "source": [
    "host = targethosts[targethosts['PGC'] == idnum]\n",
    "assert len(host) == 1\n",
    "host = host[0]\n",
    "\n",
    "hostname = host[host_id_label]\n",
    "print(hostname)\n",
    "tcats[hostname] = tcat = saga_targets.build_target_catalogs(hostname, return_as='list').pop()\n",
    "acats[hostname] = acat = saga.targets.prepare_aat_catalog(tcat, sky_fiber_needed=100)\n",
    "\n",
    "guidestars = get_gaia_guidestars(hostname)\n",
    "writecat = table.vstack([acat, guidestars])\n",
    "writecat['Notes'] = [n.title() for n in writecat['Notes']]\n",
    "len(writecat)"
   ]
  },
  {
   "cell_type": "code",
   "execution_count": 153,
   "metadata": {},
   "outputs": [
    {
     "data": {
      "text/html": [
       "\n",
       "    <table>\n",
       "    <tr><td>6570997670198647296<br><a href=\"http://legacysurvey.org/viewer?ra=329.7710901421689&dec=-43.09244376644202\"><img src=\"http://legacysurvey.org/viewer/jpeg-cutout/?ra=329.7711&dec=-43.09244&zoom=15&layer=unwise-w1w2&size=120\"></a></td><td>6570870642245804160<br><a href=\"http://legacysurvey.org/viewer?ra=329.7593422751507&dec=-43.88540937632534\"><img src=\"http://legacysurvey.org/viewer/jpeg-cutout/?ra=329.7593&dec=-43.88541&zoom=15&layer=unwise-w1w2&size=120\"></a></td><td>6568302492321056128<br><a href=\"http://legacysurvey.org/viewer?ra=331.40393037260475&dec=-43.453943221823536\"><img src=\"http://legacysurvey.org/viewer/jpeg-cutout/?ra=331.4039&dec=-43.45394&zoom=15&layer=unwise-w1w2&size=120\"></a></td><td>6570798108837998208<br><a href=\"http://legacysurvey.org/viewer?ra=330.413269399195&dec=-44.27577126658941\"><img src=\"http://legacysurvey.org/viewer/jpeg-cutout/?ra=330.4133&dec=-44.27577&zoom=15&layer=unwise-w1w2&size=120\"></a></td><td>6570857104508911744<br><a href=\"http://legacysurvey.org/viewer?ra=329.29197927926515&dec=-43.840295228739734\"><img src=\"http://legacysurvey.org/viewer/jpeg-cutout/?ra=329.292&dec=-43.8403&zoom=15&layer=unwise-w1w2&size=120\"></a></td><td>6570802541244333568<br><a href=\"http://legacysurvey.org/viewer?ra=330.30068478162815&dec=-44.16635083983752\"><img src=\"http://legacysurvey.org/viewer/jpeg-cutout/?ra=330.3007&dec=-44.16635&zoom=15&layer=unwise-w1w2&size=120\"></a></td></tr>\n",
       "<tr><td>6570793813870709248<br><a href=\"http://legacysurvey.org/viewer?ra=330.2059067664871&dec=-44.35707618143467\"><img src=\"http://legacysurvey.org/viewer/jpeg-cutout/?ra=330.2059&dec=-44.35708&zoom=15&layer=unwise-w1w2&size=120\"></a></td><td>6570851538231213312<br><a href=\"http://legacysurvey.org/viewer?ra=329.50584269059226&dec=-44.00927158532415\"><img src=\"http://legacysurvey.org/viewer/jpeg-cutout/?ra=329.5058&dec=-44.00927&zoom=15&layer=unwise-w1w2&size=120\"></a></td><td>6570886649587172864<br><a href=\"http://legacysurvey.org/viewer?ra=329.7173315081002&dec=-43.62196251392942\"><img src=\"http://legacysurvey.org/viewer/jpeg-cutout/?ra=329.7173&dec=-43.62196&zoom=15&layer=unwise-w1w2&size=120\"></a></td><td>6567893229180790912<br><a href=\"http://legacysurvey.org/viewer?ra=330.8548287726413&dec=-44.16675980522595\"><img src=\"http://legacysurvey.org/viewer/jpeg-cutout/?ra=330.8548&dec=-44.16676&zoom=15&layer=unwise-w1w2&size=120\"></a></td><td>6571233859040265088<br><a href=\"http://legacysurvey.org/viewer?ra=329.44944160638886&dec=-42.557396404312684\"><img src=\"http://legacysurvey.org/viewer/jpeg-cutout/?ra=329.4494&dec=-42.5574&zoom=15&layer=unwise-w1w2&size=120\"></a></td><td>6570871020202928256<br><a href=\"http://legacysurvey.org/viewer?ra=329.74106942191895&dec=-43.842785277446424\"><img src=\"http://legacysurvey.org/viewer/jpeg-cutout/?ra=329.7411&dec=-43.84279&zoom=15&layer=unwise-w1w2&size=120\"></a></td></tr>\n",
       "<tr><td>6568322764566710400<br><a href=\"http://legacysurvey.org/viewer?ra=331.25844672337286&dec=-43.11980279102918\"><img src=\"http://legacysurvey.org/viewer/jpeg-cutout/?ra=331.2584&dec=-43.1198&zoom=15&layer=unwise-w1w2&size=120\"></a></td><td>6570911736492817664<br><a href=\"http://legacysurvey.org/viewer?ra=330.17571840873734&dec=-43.88514765576346\"><img src=\"http://legacysurvey.org/viewer/jpeg-cutout/?ra=330.1757&dec=-43.88515&zoom=15&layer=unwise-w1w2&size=120\"></a></td><td>6570820408308297472<br><a href=\"http://legacysurvey.org/viewer?ra=330.0140462626084&dec=-43.94429163855455\"><img src=\"http://legacysurvey.org/viewer/jpeg-cutout/?ra=330.014&dec=-43.94429&zoom=15&layer=unwise-w1w2&size=120\"></a></td><td>6571217366365830528<br><a href=\"http://legacysurvey.org/viewer?ra=329.61788757316975&dec=-42.690800480558224\"><img src=\"http://legacysurvey.org/viewer/jpeg-cutout/?ra=329.6179&dec=-42.6908&zoom=15&layer=unwise-w1w2&size=120\"></a></td><td>6571211147253175168<br><a href=\"http://legacysurvey.org/viewer?ra=329.7359550894398&dec=-42.8473600461747\"><img src=\"http://legacysurvey.org/viewer/jpeg-cutout/?ra=329.736&dec=-42.84736&zoom=15&layer=unwise-w1w2&size=120\"></a></td><td>6571323572317084800<br><a href=\"http://legacysurvey.org/viewer?ra=330.8443070052845&dec=-43.02021573669607\"><img src=\"http://legacysurvey.org/viewer/jpeg-cutout/?ra=330.8443&dec=-43.02022&zoom=15&layer=unwise-w1w2&size=120\"></a></td></tr>\n",
       "<tr><td>6570977913349066752<br><a href=\"http://legacysurvey.org/viewer?ra=329.96144627306046&dec=-43.37673815581997\"><img src=\"http://legacysurvey.org/viewer/jpeg-cutout/?ra=329.9614&dec=-43.37674&zoom=15&layer=unwise-w1w2&size=120\"></a></td><td>6571102604839576192<br><a href=\"http://legacysurvey.org/viewer?ra=329.02591902254477&dec=-43.1424501561637\"><img src=\"http://legacysurvey.org/viewer/jpeg-cutout/?ra=329.0259&dec=-43.14245&zoom=15&layer=unwise-w1w2&size=120\"></a></td><td>6570813360265241728<br><a href=\"http://legacysurvey.org/viewer?ra=329.8683922958156&dec=-44.031224200017036\"><img src=\"http://legacysurvey.org/viewer/jpeg-cutout/?ra=329.8684&dec=-44.03122&zoom=15&layer=unwise-w1w2&size=120\"></a></td><td>6571334704872317312<br><a href=\"http://legacysurvey.org/viewer?ra=330.7726776497366&dec=-43.08109668802089\"><img src=\"http://legacysurvey.org/viewer/jpeg-cutout/?ra=330.7727&dec=-43.0811&zoom=15&layer=unwise-w1w2&size=120\"></a></td><td>6570811234258081920<br><a href=\"http://legacysurvey.org/viewer?ra=329.9415631180835&dec=-44.186070470236\"><img src=\"http://legacysurvey.org/viewer/jpeg-cutout/?ra=329.9416&dec=-44.18607&zoom=15&layer=unwise-w1w2&size=120\"></a></td><td>6570930703068492160<br><a href=\"http://legacysurvey.org/viewer?ra=330.83258118935004&dec=-43.60310509515734\"><img src=\"http://legacysurvey.org/viewer/jpeg-cutout/?ra=330.8326&dec=-43.60311&zoom=15&layer=unwise-w1w2&size=120\"></a></td></tr>\n",
       "    </table>\n",
       "    "
      ],
      "text/plain": [
       "<IPython.core.display.HTML object>"
      ]
     },
     "execution_count": 153,
     "metadata": {},
     "output_type": "execute_result"
    }
   ],
   "source": [
    "# only need to remove if something really fishy is going on\n",
    "make_decals_viewer_cutouts(guidestars[np.random.permutation(len(guidestars))[:24]], \n",
    "                           survey='unwise-w1w2',ncols=6,namecol='TargetName')"
   ]
  },
  {
   "cell_type": "code",
   "execution_count": 155,
   "metadata": {},
   "outputs": [
    {
     "name": "stdout",
     "output_type": "stream",
     "text": [
      "Copied to clipboard\n"
     ]
    },
    {
     "data": {
      "text/html": [
       "\n",
       "    Paste the coords in \"Enter values\" at  \n",
       "    <a href=\"https://des.ncsa.illinois.edu/easyweb/cutouts\">the DES cutout service</a>,\n",
       "    and change the size to 0.3 arcmin\n",
       "    "
      ],
      "text/plain": [
       "<IPython.core.display.HTML object>"
      ]
     },
     "execution_count": 155,
     "metadata": {},
     "output_type": "execute_result"
    }
   ],
   "source": [
    "make_des_cutouts_file(acat[acat['Notes']=='sky'])"
   ]
  },
  {
   "cell_type": "code",
   "execution_count": 156,
   "metadata": {},
   "outputs": [
    {
     "name": "stdout",
     "output_type": "stream",
     "text": [
      "https://des.ncsa.illinois.edu/easyweb/static/workdir/eteq/47e828f4-fd77-470c-9947-2ec849b20dae/list.json\n"
     ]
    },
    {
     "data": {
      "text/html": [
       "\n",
       "    <table>\n",
       "    <tr><td>0<br><a href=\"http://legacysurvey.org/viewer?ra=329.59900549578845&dec=-44.33939428999358\"><img src=\"https://des.ncsa.illinois.edu/easyweb/static/workdir/eteq/47e828f4-fd77-470c-9947-2ec849b20dae/DESJ220135.5-423742.9.tif.png\"height=\"128\" width=\"128\"></a></td><td>1<br><a href=\"http://legacysurvey.org/viewer?ra=329.9719200723632&dec=-42.56863173856866\"><img src=\"https://des.ncsa.illinois.edu/easyweb/static/workdir/eteq/47e828f4-fd77-470c-9947-2ec849b20dae/DESJ215917.6-422104.4.tif.png\"height=\"128\" width=\"128\"></a></td><td>2<br><a href=\"http://legacysurvey.org/viewer?ra=330.83304522384975&dec=-42.711484240660866\"><img src=\"https://des.ncsa.illinois.edu/easyweb/static/workdir/eteq/47e828f4-fd77-470c-9947-2ec849b20dae/DESJ220006.9-424345.4.tif.png\"height=\"128\" width=\"128\"></a></td><td>3<br><a href=\"http://legacysurvey.org/viewer?ra=330.7585659370788&dec=-42.63679918438478\"><img src=\"https://des.ncsa.illinois.edu/easyweb/static/workdir/eteq/47e828f4-fd77-470c-9947-2ec849b20dae/DESJ220048.6-422136.2.tif.png\"height=\"128\" width=\"128\"></a></td><td>4<br><a href=\"http://legacysurvey.org/viewer?ra=329.489065406571&dec=-43.965422193934025\"><img src=\"https://des.ncsa.illinois.edu/easyweb/static/workdir/eteq/47e828f4-fd77-470c-9947-2ec849b20dae/DESJ220138.7-442525.2.tif.png\"height=\"128\" width=\"128\"></a></td><td>5<br><a href=\"http://legacysurvey.org/viewer?ra=330.07148326073343&dec=-42.3611001308783\"><img src=\"https://des.ncsa.illinois.edu/easyweb/static/workdir/eteq/47e828f4-fd77-470c-9947-2ec849b20dae/DESJ215829.8-422638.0.tif.png\"height=\"128\" width=\"128\"></a></td><td>6<br><a href=\"http://legacysurvey.org/viewer?ra=330.2045945240514&dec=-42.82753877068205\"><img src=\"https://des.ncsa.illinois.edu/easyweb/static/workdir/eteq/47e828f4-fd77-470c-9947-2ec849b20dae/DESJ215817.4-422719.8.tif.png\"height=\"128\" width=\"128\"></a></td><td>7<br><a href=\"http://legacysurvey.org/viewer?ra=330.3979862825263&dec=-42.62856623403059\"><img src=\"https://des.ncsa.illinois.edu/easyweb/static/workdir/eteq/47e828f4-fd77-470c-9947-2ec849b20dae/DESJ215915.1-422257.0.tif.png\"height=\"128\" width=\"128\"></a></td></tr>\n",
       "<tr><td>8<br><a href=\"http://legacysurvey.org/viewer?ra=329.6797833449801&dec=-42.72718123505213\"><img src=\"https://des.ncsa.illinois.edu/easyweb/static/workdir/eteq/47e828f4-fd77-470c-9947-2ec849b20dae/DESJ220047.7-442914.7.tif.png\"height=\"128\" width=\"128\"></a></td><td>9<br><a href=\"http://legacysurvey.org/viewer?ra=329.6108916275802&dec=-44.34848376677969\"><img src=\"https://des.ncsa.illinois.edu/easyweb/static/workdir/eteq/47e828f4-fd77-470c-9947-2ec849b20dae/DESJ215638.4-433117.9.tif.png\"height=\"128\" width=\"128\"></a></td><td>10<br><a href=\"http://legacysurvey.org/viewer?ra=330.8016919994717&dec=-44.16315415301267\"><img src=\"https://des.ncsa.illinois.edu/easyweb/static/workdir/eteq/47e828f4-fd77-470c-9947-2ec849b20dae/DESJ220036.0-421815.9.tif.png\"height=\"128\" width=\"128\"></a></td><td>11<br><a href=\"http://legacysurvey.org/viewer?ra=329.533281640643&dec=-42.98494023928091\"><img src=\"https://des.ncsa.illinois.edu/easyweb/static/workdir/eteq/47e828f4-fd77-470c-9947-2ec849b20dae/DESJ215821.6-440154.0.tif.png\"height=\"128\" width=\"128\"></a></td><td>12<br><a href=\"http://legacysurvey.org/viewer?ra=330.37851563644244&dec=-44.151795191834445\"><img src=\"https://des.ncsa.illinois.edu/easyweb/static/workdir/eteq/47e828f4-fd77-470c-9947-2ec849b20dae/DESJ220320.2-423245.7.tif.png\"height=\"128\" width=\"128\"></a></td><td>13<br><a href=\"http://legacysurvey.org/viewer?ra=330.15338419018906&dec=-42.831488639943714\"><img src=\"https://des.ncsa.illinois.edu/easyweb/static/workdir/eteq/47e828f4-fd77-470c-9947-2ec849b20dae/DESJ220200.2-424447.7.tif.png\"height=\"128\" width=\"128\"></a></td><td>14<br><a href=\"http://legacysurvey.org/viewer?ra=329.95145020162084&dec=-44.420941331065066\"><img src=\"https://des.ncsa.illinois.edu/easyweb/static/workdir/eteq/47e828f4-fd77-470c-9947-2ec849b20dae/DESJ220036.8-424953.4.tif.png\"height=\"128\" width=\"128\"></a></td><td>15<br><a href=\"http://legacysurvey.org/viewer?ra=330.70537765398063&dec=-42.66742548698798\"><img src=\"https://des.ncsa.illinois.edu/easyweb/static/workdir/eteq/47e828f4-fd77-470c-9947-2ec849b20dae/DESJ220130.8-440906.5.tif.png\"height=\"128\" width=\"128\"></a></td></tr>\n",
       "<tr><td>16<br><a href=\"http://legacysurvey.org/viewer?ra=330.84361506597975&dec=-43.217464122890235\"><img src=\"https://des.ncsa.illinois.edu/easyweb/static/workdir/eteq/47e828f4-fd77-470c-9947-2ec849b20dae/DESJ220322.5-431302.9.tif.png\"height=\"128\" width=\"128\"></a></td><td>17<br><a href=\"http://legacysurvey.org/viewer?ra=330.90137585168367&dec=-44.01680418509831\"><img src=\"https://des.ncsa.illinois.edu/easyweb/static/workdir/eteq/47e828f4-fd77-470c-9947-2ec849b20dae/DESJ215813.5-441153.2.tif.png\"height=\"128\" width=\"128\"></a></td><td>18<br><a href=\"http://legacysurvey.org/viewer?ra=330.1214612246382&dec=-42.360823605139586\"><img src=\"https://des.ncsa.illinois.edu/easyweb/static/workdir/eteq/47e828f4-fd77-470c-9947-2ec849b20dae/DESJ220434.8-434128.4.tif.png\"height=\"128\" width=\"128\"></a></td><td>19<br><a href=\"http://legacysurvey.org/viewer?ra=329.75275816239275&dec=-42.46206189753356\"><img src=\"https://des.ncsa.illinois.edu/easyweb/static/workdir/eteq/47e828f4-fd77-470c-9947-2ec849b20dae/DESJ215744.1-440956.5.tif.png\"height=\"128\" width=\"128\"></a></td><td>20<br><a href=\"http://legacysurvey.org/viewer?ra=329.90583963093115&dec=-42.655511306996054\"><img src=\"https://des.ncsa.illinois.edu/easyweb/static/workdir/eteq/47e828f4-fd77-470c-9947-2ec849b20dae/DESJ220053.1-422449.6.tif.png\"height=\"128\" width=\"128\"></a></td><td>21<br><a href=\"http://legacysurvey.org/viewer?ra=330.40993860278223&dec=-42.40607507557962\"><img src=\"https://des.ncsa.illinois.edu/easyweb/static/workdir/eteq/47e828f4-fd77-470c-9947-2ec849b20dae/DESJ220249.3-424002.7.tif.png\"height=\"128\" width=\"128\"></a></td><td>22<br><a href=\"http://legacysurvey.org/viewer?ra=329.4523375112256&dec=-42.83228558795905\"><img src=\"https://des.ncsa.illinois.edu/easyweb/static/workdir/eteq/47e828f4-fd77-470c-9947-2ec849b20dae/DESJ220117.4-422219.0.tif.png\"height=\"128\" width=\"128\"></a></td><td>23<br><a href=\"http://legacysurvey.org/viewer?ra=331.1449481007237&dec=-43.69123465686772\"><img src=\"https://des.ncsa.illinois.edu/easyweb/static/workdir/eteq/47e828f4-fd77-470c-9947-2ec849b20dae/DESJ215945.8-422036.6.tif.png\"height=\"128\" width=\"128\"></a></td></tr>\n",
       "<tr><td>24<br><a href=\"http://legacysurvey.org/viewer?ra=330.4285829187364&dec=-44.169270294376574\"><img src=\"https://des.ncsa.illinois.edu/easyweb/static/workdir/eteq/47e828f4-fd77-470c-9947-2ec849b20dae/DESJ215942.2-423423.4.tif.png\"height=\"128\" width=\"128\"></a></td><td>25<br><a href=\"http://legacysurvey.org/viewer?ra=329.96156587153024&dec=-42.353701979315225\"><img src=\"https://des.ncsa.illinois.edu/easyweb/static/workdir/eteq/47e828f4-fd77-470c-9947-2ec849b20dae/DESJ220014.7-442449.4.tif.png\"height=\"128\" width=\"128\"></a></td><td>26<br><a href=\"http://legacysurvey.org/viewer?ra=329.3008769915437&dec=-42.71438676976113\"><img src=\"https://des.ncsa.illinois.edu/easyweb/static/workdir/eteq/47e828f4-fd77-470c-9947-2ec849b20dae/DESJ220236.6-424205.1.tif.png\"height=\"128\" width=\"128\"></a></td><td>27<br><a href=\"http://legacysurvey.org/viewer?ra=330.65136841622314&dec=-42.44247779852983\"><img src=\"https://des.ncsa.illinois.edu/easyweb/static/workdir/eteq/47e828f4-fd77-470c-9947-2ec849b20dae/DESJ215826.6-442054.5.tif.png\"height=\"128\" width=\"128\"></a></td><td>28<br><a href=\"http://legacysurvey.org/viewer?ra=330.41823859142465&dec=-42.857304392108205\"><img src=\"https://des.ncsa.illinois.edu/easyweb/static/workdir/eteq/47e828f4-fd77-470c-9947-2ec849b20dae/DESJ215953.3-423407.1.tif.png\"height=\"128\" width=\"128\"></a></td><td>29<br><a href=\"http://legacysurvey.org/viewer?ra=329.0778853635841&dec=-43.4166346454344\"><img src=\"https://des.ncsa.illinois.edu/easyweb/static/workdir/eteq/47e828f4-fd77-470c-9947-2ec849b20dae/DESJ220351.5-424815.6.tif.png\"height=\"128\" width=\"128\"></a></td><td>30<br><a href=\"http://legacysurvey.org/viewer?ra=329.6723057246945&dec=-44.03497221880638\"><img src=\"https://des.ncsa.illinois.edu/easyweb/static/workdir/eteq/47e828f4-fd77-470c-9947-2ec849b20dae/DESJ220252.1-431714.8.tif.png\"height=\"128\" width=\"128\"></a></td><td>31<br><a href=\"http://legacysurvey.org/viewer?ra=329.5900915597268&dec=-44.03166097801532\"><img src=\"https://des.ncsa.illinois.edu/easyweb/static/workdir/eteq/47e828f4-fd77-470c-9947-2ec849b20dae/DESJ220257.6-430323.8.tif.png\"height=\"128\" width=\"128\"></a></td></tr>\n",
       "<tr><td>32<br><a href=\"http://legacysurvey.org/viewer?ra=329.43379267671656&dec=-44.16568823996392\"><img src=\"https://des.ncsa.illinois.edu/easyweb/static/workdir/eteq/47e828f4-fd77-470c-9947-2ec849b20dae/DESJ220202.2-442347.9.tif.png\"height=\"128\" width=\"128\"></a></td><td>33<br><a href=\"http://legacysurvey.org/viewer?ra=331.08224285382965&dec=-43.8557169336993\"><img src=\"https://des.ncsa.illinois.edu/easyweb/static/workdir/eteq/47e828f4-fd77-470c-9947-2ec849b20dae/DESJ220036.7-422313.6.tif.png\"height=\"128\" width=\"128\"></a></td><td>34<br><a href=\"http://legacysurvey.org/viewer?ra=329.8297078880225&dec=-44.372432367796286\"><img src=\"https://des.ncsa.illinois.edu/easyweb/static/workdir/eteq/47e828f4-fd77-470c-9947-2ec849b20dae/DESJ215826.0-422651.8.tif.png\"height=\"128\" width=\"128\"></a></td><td>35<br><a href=\"http://legacysurvey.org/viewer?ra=330.57773902827375&dec=-44.069594545710615\"><img src=\"https://des.ncsa.illinois.edu/easyweb/static/workdir/eteq/47e828f4-fd77-470c-9947-2ec849b20dae/DESJ215946.5-421942.1.tif.png\"height=\"128\" width=\"128\"></a></td><td>36<br><a href=\"http://legacysurvey.org/viewer?ra=329.8234325038461&dec=-42.35123137116129\"><img src=\"https://des.ncsa.illinois.edu/easyweb/static/workdir/eteq/47e828f4-fd77-470c-9947-2ec849b20dae/DESJ220303.1-434413.8.tif.png\"height=\"128\" width=\"128\"></a></td><td>37<br><a href=\"http://legacysurvey.org/viewer?ra=329.5355193149015&dec=-44.293161617990435\"><img src=\"https://des.ncsa.illinois.edu/easyweb/static/workdir/eteq/47e828f4-fd77-470c-9947-2ec849b20dae/DESJ220017.1-441907.4.tif.png\"height=\"128\" width=\"128\"></a></td><td>38<br><a href=\"http://legacysurvey.org/viewer?ra=329.5477811846547&dec=-42.98137469514296\"><img src=\"https://des.ncsa.illinois.edu/easyweb/static/workdir/eteq/47e828f4-fd77-470c-9947-2ec849b20dae/DESJ215811.5-425852.9.tif.png\"height=\"128\" width=\"128\"></a></td><td>39<br><a href=\"http://legacysurvey.org/viewer?ra=329.2942379854528&dec=-43.560771917211035\"><img src=\"https://des.ncsa.illinois.edu/easyweb/static/workdir/eteq/47e828f4-fd77-470c-9947-2ec849b20dae/DESJ220036.1-424459.2.tif.png\"height=\"128\" width=\"128\"></a></td></tr>\n",
       "<tr><td>40<br><a href=\"http://legacysurvey.org/viewer?ra=329.77702315946647&dec=-44.39126904376734\"><img src=\"https://des.ncsa.illinois.edu/easyweb/static/workdir/eteq/47e828f4-fd77-470c-9947-2ec849b20dae/DESJ215924.4-422441.4.tif.png\"height=\"128\" width=\"128\"></a></td><td>41<br><a href=\"http://legacysurvey.org/viewer?ra=330.15026883304785&dec=-42.749770757069584\"><img src=\"https://des.ncsa.illinois.edu/easyweb/static/workdir/eteq/47e828f4-fd77-470c-9947-2ec849b20dae/DESJ220213.7-423430.1.tif.png\"height=\"128\" width=\"128\"></a></td><td>42<br><a href=\"http://legacysurvey.org/viewer?ra=329.6397541131327&dec=-44.0426007746631\"><img src=\"https://des.ncsa.illinois.edu/easyweb/static/workdir/eteq/47e828f4-fd77-470c-9947-2ec849b20dae/DESJ220151.5-422556.2.tif.png\"height=\"128\" width=\"128\"></a></td><td>43<br><a href=\"http://legacysurvey.org/viewer?ra=330.46457925947584&dec=-42.432265146479665\"><img src=\"https://des.ncsa.illinois.edu/easyweb/static/workdir/eteq/47e828f4-fd77-470c-9947-2ec849b20dae/DESJ220049.1-424939.1.tif.png\"height=\"128\" width=\"128\"></a></td><td>44<br><a href=\"http://legacysurvey.org/viewer?ra=329.1599060997904&dec=-43.52164522775094\"><img src=\"https://des.ncsa.illinois.edu/easyweb/static/workdir/eteq/47e828f4-fd77-470c-9947-2ec849b20dae/DESJ215618.7-432459.9.tif.png\"height=\"128\" width=\"128\"></a></td><td>45<br><a href=\"http://legacysurvey.org/viewer?ra=329.97570705509185&dec=-44.16017695753466\"><img src=\"https://des.ncsa.illinois.edu/easyweb/static/workdir/eteq/47e828f4-fd77-470c-9947-2ec849b20dae/DESJ215710.6-433338.8.tif.png\"height=\"128\" width=\"128\"></a></td><td>46<br><a href=\"http://legacysurvey.org/viewer?ra=330.7169860125443&dec=-43.28744202483561\"><img src=\"https://des.ncsa.illinois.edu/easyweb/static/workdir/eteq/47e828f4-fd77-470c-9947-2ec849b20dae/DESJ215948.3-442515.4.tif.png\"height=\"128\" width=\"128\"></a></td><td>47<br><a href=\"http://legacysurvey.org/viewer?ra=330.62799476642095&dec=-42.86334174102442\"><img src=\"https://des.ncsa.illinois.edu/easyweb/static/workdir/eteq/47e828f4-fd77-470c-9947-2ec849b20dae/DESJ220218.7-440410.5.tif.png\"height=\"128\" width=\"128\"></a></td></tr>\n",
       "<tr><td>48<br><a href=\"http://legacysurvey.org/viewer?ra=330.74009859192785&dec=-43.05661743120793\"><img src=\"https://des.ncsa.illinois.edu/easyweb/static/workdir/eteq/47e828f4-fd77-470c-9947-2ec849b20dae/DESJ215919.1-442220.7.tif.png\"height=\"128\" width=\"128\"></a></td><td>49<br><a href=\"http://legacysurvey.org/viewer?ra=330.2938837631393&dec=-44.103417358460675\"><img src=\"https://des.ncsa.illinois.edu/easyweb/static/workdir/eteq/47e828f4-fd77-470c-9947-2ec849b20dae/DESJ220312.4-440947.3.tif.png\"height=\"128\" width=\"128\"></a></td><td>50<br><a href=\"http://legacysurvey.org/viewer?ra=330.32250779311784&dec=-42.37194755496232\"><img src=\"https://des.ncsa.illinois.edu/easyweb/static/workdir/eteq/47e828f4-fd77-470c-9947-2ec849b20dae/DESJ220305.6-423242.3.tif.png\"height=\"128\" width=\"128\"></a></td><td>51<br><a href=\"http://legacysurvey.org/viewer?ra=330.41139776634276&dec=-44.42366567092876\"><img src=\"https://des.ncsa.illinois.edu/easyweb/static/workdir/eteq/47e828f4-fd77-470c-9947-2ec849b20dae/DESJ220324.1-435751.4.tif.png\"height=\"128\" width=\"128\"></a></td><td>52<br><a href=\"http://legacysurvey.org/viewer?ra=329.57260698493747&dec=-42.45551013497984\"><img src=\"https://des.ncsa.illinois.edu/easyweb/static/workdir/eteq/47e828f4-fd77-470c-9947-2ec849b20dae/DESJ220138.4-422421.9.tif.png\"height=\"128\" width=\"128\"></a></td><td>53<br><a href=\"http://legacysurvey.org/viewer?ra=330.50090051109873&dec=-42.74658745006566\"><img src=\"https://des.ncsa.illinois.edu/easyweb/static/workdir/eteq/47e828f4-fd77-470c-9947-2ec849b20dae/DESJ215723.3-425810.8.tif.png\"height=\"128\" width=\"128\"></a></td><td>54<br><a href=\"http://legacysurvey.org/viewer?ra=329.9887642795167&dec=-42.334366539489\"><img src=\"https://des.ncsa.illinois.edu/easyweb/static/workdir/eteq/47e828f4-fd77-470c-9947-2ec849b20dae/DESJ215906.5-442328.6.tif.png\"height=\"128\" width=\"128\"></a></td><td>55<br><a href=\"http://legacysurvey.org/viewer?ra=329.60819687744464&dec=-42.447712759191084\"><img src=\"https://des.ncsa.illinois.edu/easyweb/static/workdir/eteq/47e828f4-fd77-470c-9947-2ec849b20dae/DESJ215950.8-422113.3.tif.png\"height=\"128\" width=\"128\"></a></td></tr>\n",
       "<tr><td>56<br><a href=\"http://legacysurvey.org/viewer?ra=329.3469444095835&dec=-42.9696707878027\"><img src=\"https://des.ncsa.illinois.edu/easyweb/static/workdir/eteq/47e828f4-fd77-470c-9947-2ec849b20dae/DESJ215718.0-435315.5.tif.png\"height=\"128\" width=\"128\"></a></td><td>57<br><a href=\"http://legacysurvey.org/viewer?ra=330.17802140743987&dec=-42.38419757122308\"><img src=\"https://des.ncsa.illinois.edu/easyweb/static/workdir/eteq/47e828f4-fd77-470c-9947-2ec849b20dae/DESJ215745.6-424809.4.tif.png\"height=\"128\" width=\"128\"></a></td><td>58<br><a href=\"http://legacysurvey.org/viewer?ra=330.6765125358957&dec=-43.79769951756343\"><img src=\"https://des.ncsa.illinois.edu/easyweb/static/workdir/eteq/47e828f4-fd77-470c-9947-2ec849b20dae/DESJ220121.2-421853.7.tif.png\"height=\"128\" width=\"128\"></a></td><td>59<br><a href=\"http://legacysurvey.org/viewer?ra=330.8502087626297&dec=-43.96427947731199\"><img src=\"https://des.ncsa.illinois.edu/easyweb/static/workdir/eteq/47e828f4-fd77-470c-9947-2ec849b20dae/DESJ220303.7-424223.6.tif.png\"height=\"128\" width=\"128\"></a></td><td>60<br><a href=\"http://legacysurvey.org/viewer?ra=329.4648924714765&dec=-42.75285443226497\"><img src=\"https://des.ncsa.illinois.edu/easyweb/static/workdir/eteq/47e828f4-fd77-470c-9947-2ec849b20dae/DESJ215751.6-424510.3.tif.png\"height=\"128\" width=\"128\"></a></td><td>61<br><a href=\"http://legacysurvey.org/viewer?ra=329.43993370310847&dec=-42.802618480898126\"><img src=\"https://des.ncsa.illinois.edu/easyweb/static/workdir/eteq/47e828f4-fd77-470c-9947-2ec849b20dae/DESJ215833.5-440233.4.tif.png\"height=\"128\" width=\"128\"></a></td><td>62<br><a href=\"http://legacysurvey.org/viewer?ra=330.3910259777764&dec=-42.52998608251007\"><img src=\"https://des.ncsa.illinois.edu/easyweb/static/workdir/eteq/47e828f4-fd77-470c-9947-2ec849b20dae/DESJ220253.3-440146.1.tif.png\"height=\"128\" width=\"128\"></a></td><td>63<br><a href=\"http://legacysurvey.org/viewer?ra=331.0329547000667&dec=-43.517792749344025\"><img src=\"https://des.ncsa.illinois.edu/easyweb/static/workdir/eteq/47e828f4-fd77-470c-9947-2ec849b20dae/DESJ215900.7-422743.4.tif.png\"height=\"128\" width=\"128\"></a></td></tr>\n",
       "<tr><td>64<br><a href=\"http://legacysurvey.org/viewer?ra=330.76541896537094&dec=-42.70655873363477\"><img src=\"https://des.ncsa.illinois.edu/easyweb/static/workdir/eteq/47e828f4-fd77-470c-9947-2ec849b20dae/DESJ215843.1-424337.8.tif.png\"height=\"128\" width=\"128\"></a></td><td>65<br><a href=\"http://legacysurvey.org/viewer?ra=330.33842630377325&dec=-42.3149079715542\"><img src=\"https://des.ncsa.illinois.edu/easyweb/static/workdir/eteq/47e828f4-fd77-470c-9947-2ec849b20dae/DESJ215728.4-430436.9.tif.png\"height=\"128\" width=\"128\"></a></td><td>66<br><a href=\"http://legacysurvey.org/viewer?ra=330.6805479968424&dec=-42.6379472318032\"><img src=\"https://des.ncsa.illinois.edu/easyweb/static/workdir/eteq/47e828f4-fd77-470c-9947-2ec849b20dae/DESJ220140.4-425126.3.tif.png\"height=\"128\" width=\"128\"></a></td><td>67<br><a href=\"http://legacysurvey.org/viewer?ra=330.0710634540343&dec=-44.31871511651565\"><img src=\"https://des.ncsa.illinois.edu/easyweb/static/workdir/eteq/47e828f4-fd77-470c-9947-2ec849b20dae/DESJ220046.4-441536.4.tif.png\"height=\"128\" width=\"128\"></a></td><td>68<br><a href=\"http://legacysurvey.org/viewer?ra=330.19353223995404&dec=-44.260119229226255\"><img src=\"https://des.ncsa.illinois.edu/easyweb/static/workdir/eteq/47e828f4-fd77-470c-9947-2ec849b20dae/DESJ220017.2-422140.0.tif.png\"height=\"128\" width=\"128\"></a></td><td>69<br><a href=\"http://legacysurvey.org/viewer?ra=329.85152413203406&dec=-42.41149836288441\"><img src=\"https://des.ncsa.illinois.edu/easyweb/static/workdir/eteq/47e828f4-fd77-470c-9947-2ec849b20dae/DESJ220050.7-422106.2.tif.png\"height=\"128\" width=\"128\"></a></td><td>70<br><a href=\"http://legacysurvey.org/viewer?ra=330.83418372995374&dec=-42.54604248172627\"><img src=\"https://des.ncsa.illinois.edu/easyweb/static/workdir/eteq/47e828f4-fd77-470c-9947-2ec849b20dae/DESJ215808.0-425905.8.tif.png\"height=\"128\" width=\"128\"></a></td><td>71<br><a href=\"http://legacysurvey.org/viewer?ra=330.20233264433267&dec=-42.36006445015357\"><img src=\"https://des.ncsa.illinois.edu/easyweb/static/workdir/eteq/47e828f4-fd77-470c-9947-2ec849b20dae/DESJ220133.8-423148.0.tif.png\"height=\"128\" width=\"128\"></a></td></tr>\n",
       "<tr><td>72<br><a href=\"http://legacysurvey.org/viewer?ra=329.37692925179886&dec=-43.902308973110955\"><img src=\"https://des.ncsa.illinois.edu/easyweb/static/workdir/eteq/47e828f4-fd77-470c-9947-2ec849b20dae/DESJ215808.5-441735.4.tif.png\"height=\"128\" width=\"128\"></a></td><td>73<br><a href=\"http://legacysurvey.org/viewer?ra=329.62425440882004&dec=-42.44389057160538\"><img src=\"https://des.ncsa.illinois.edu/easyweb/static/workdir/eteq/47e828f4-fd77-470c-9947-2ec849b20dae/DESJ220110.5-440612.3.tif.png\"height=\"128\" width=\"128\"></a></td><td>74<br><a href=\"http://legacysurvey.org/viewer?ra=330.15294187042207&dec=-42.387116108578894\"><img src=\"https://des.ncsa.illinois.edu/easyweb/static/workdir/eteq/47e828f4-fd77-470c-9947-2ec849b20dae/DESJ215823.8-442021.8.tif.png\"height=\"128\" width=\"128\"></a></td><td>75<br><a href=\"http://legacysurvey.org/viewer?ra=330.7627339668716&dec=-43.737156023928\"><img src=\"https://des.ncsa.illinois.edu/easyweb/static/workdir/eteq/47e828f4-fd77-470c-9947-2ec849b20dae/DESJ220103.4-425021.3.tif.png\"height=\"128\" width=\"128\"></a></td><td>76<br><a href=\"http://legacysurvey.org/viewer?ra=330.1985761569973&dec=-44.48742225308733\"><img src=\"https://des.ncsa.illinois.edu/easyweb/static/workdir/eteq/47e828f4-fd77-470c-9947-2ec849b20dae/DESJ220042.7-422303.1.tif.png\"height=\"128\" width=\"128\"></a></td><td>77<br><a href=\"http://legacysurvey.org/viewer?ra=330.55713273563504&dec=-42.57503160188934\"><img src=\"https://des.ncsa.illinois.edu/easyweb/static/workdir/eteq/47e828f4-fd77-470c-9947-2ec849b20dae/DESJ215811.1-433740.8.tif.png\"height=\"128\" width=\"128\"></a></td><td>78<br><a href=\"http://legacysurvey.org/viewer?ra=329.9439036431574&dec=-42.32836746245194\"><img src=\"https://des.ncsa.illinois.edu/easyweb/static/workdir/eteq/47e828f4-fd77-470c-9947-2ec849b20dae/DESJ220242.4-434751.7.tif.png\"height=\"128\" width=\"128\"></a></td><td>79<br><a href=\"http://legacysurvey.org/viewer?ra=329.3248788484082&dec=-43.887628864762235\"><img src=\"https://des.ncsa.illinois.edu/easyweb/static/workdir/eteq/47e828f4-fd77-470c-9947-2ec849b20dae/DESJ220120.8-442618.5.tif.png\"height=\"128\" width=\"128\"></a></td></tr>\n",
       "<tr><td>80<br><a href=\"http://legacysurvey.org/viewer?ra=330.22140218817975&dec=-42.41377558359778\"><img src=\"https://des.ncsa.illinois.edu/easyweb/static/workdir/eteq/47e828f4-fd77-470c-9947-2ec849b20dae/DESJ215748.6-424956.2.tif.png\"height=\"128\" width=\"128\"></a></td><td>81<br><a href=\"http://legacysurvey.org/viewer?ra=330.02879112601795&dec=-42.72927900824594\"><img src=\"https://des.ncsa.illinois.edu/easyweb/static/workdir/eteq/47e828f4-fd77-470c-9947-2ec849b20dae/DESJ220142.9-441009.4.tif.png\"height=\"128\" width=\"128\"></a></td><td>82<br><a href=\"http://legacysurvey.org/viewer?ra=330.96447249682245&dec=-42.80432861514283\"><img src=\"https://des.ncsa.illinois.edu/easyweb/static/workdir/eteq/47e828f4-fd77-470c-9947-2ec849b20dae/DESJ215957.3-422003.7.tif.png\"height=\"128\" width=\"128\"></a></td><td>83<br><a href=\"http://legacysurvey.org/viewer?ra=330.773445297068&dec=-42.54508691273075\"><img src=\"https://des.ncsa.illinois.edu/easyweb/static/workdir/eteq/47e828f4-fd77-470c-9947-2ec849b20dae/DESJ220302.1-423812.5.tif.png\"height=\"128\" width=\"128\"></a></td><td>84<br><a href=\"http://legacysurvey.org/viewer?ra=330.64411620182375&dec=-43.06270638068523\"><img src=\"https://des.ncsa.illinois.edu/easyweb/static/workdir/eteq/47e828f4-fd77-470c-9947-2ec849b20dae/DESJ215841.4-440205.9.tif.png\"height=\"128\" width=\"128\"></a></td><td>85<br><a href=\"http://legacysurvey.org/viewer?ra=330.14998632224786&dec=-42.30441694824006\"><img src=\"https://des.ncsa.illinois.edu/easyweb/static/workdir/eteq/47e828f4-fd77-470c-9947-2ec849b20dae/DESJ220234.6-430345.8.tif.png\"height=\"128\" width=\"128\"></a></td><td>86<br><a href=\"http://legacysurvey.org/viewer?ra=329.5562321690515&dec=-44.1980970357033\"><img src=\"https://des.ncsa.illinois.edu/easyweb/static/workdir/eteq/47e828f4-fd77-470c-9947-2ec849b20dae/DESJ215937.4-423919.8.tif.png\"height=\"128\" width=\"128\"></a></td><td>87<br><a href=\"http://legacysurvey.org/viewer?ra=330.6526728875966&dec=-42.701417873775995\"><img src=\"https://des.ncsa.illinois.edu/easyweb/static/workdir/eteq/47e828f4-fd77-470c-9947-2ec849b20dae/DESJ220243.3-423816.6.tif.png\"height=\"128\" width=\"128\"></a></td></tr>\n",
       "<tr><td>88<br><a href=\"http://legacysurvey.org/viewer?ra=330.2640189275228&dec=-42.839264162579134\"><img src=\"https://des.ncsa.illinois.edu/easyweb/static/workdir/eteq/47e828f4-fd77-470c-9947-2ec849b20dae/DESJ220208.5-423004.0.tif.png\"height=\"128\" width=\"128\"></a></td><td>89<br><a href=\"http://legacysurvey.org/viewer?ra=330.06125765910525&dec=-44.41370868491259\"><img src=\"https://des.ncsa.illinois.edu/easyweb/static/workdir/eteq/47e828f4-fd77-470c-9947-2ec849b20dae/DESJ220419.7-435120.6.tif.png\"height=\"128\" width=\"128\"></a></td><td>90<br><a href=\"http://legacysurvey.org/viewer?ra=330.72209014492466&dec=-44.02946244864104\"><img src=\"https://des.ncsa.illinois.edu/easyweb/static/workdir/eteq/47e828f4-fd77-470c-9947-2ec849b20dae/DESJ220230.7-425148.0.tif.png\"height=\"128\" width=\"128\"></a></td><td>91<br><a href=\"http://legacysurvey.org/viewer?ra=330.2111892233125&dec=-42.35172016021402\"><img src=\"https://des.ncsa.illinois.edu/easyweb/static/workdir/eteq/47e828f4-fd77-470c-9947-2ec849b20dae/DESJ215757.4-435755.5.tif.png\"height=\"128\" width=\"128\"></a></td><td>92<br><a href=\"http://legacysurvey.org/viewer?ra=330.50916384574964&dec=-44.39664941333898\"><img src=\"https://des.ncsa.illinois.edu/easyweb/static/workdir/eteq/47e828f4-fd77-470c-9947-2ec849b20dae/DESJ215712.2-424251.8.tif.png\"height=\"128\" width=\"128\"></a></td><td>93<br><a href=\"http://legacysurvey.org/viewer?ra=329.3682138255778&dec=-43.0769340940924\"><img src=\"https://des.ncsa.illinois.edu/easyweb/static/workdir/eteq/47e828f4-fd77-470c-9947-2ec849b20dae/DESJ215730.5-435408.3.tif.png\"height=\"128\" width=\"128\"></a></td><td>94<br><a href=\"http://legacysurvey.org/viewer?ra=329.9409674517553&dec=-42.343494568326165\"><img src=\"https://des.ncsa.illinois.edu/easyweb/static/workdir/eteq/47e828f4-fd77-470c-9947-2ec849b20dae/DESJ220029.2-422139.0.tif.png\"height=\"128\" width=\"128\"></a></td><td>95<br><a href=\"http://legacysurvey.org/viewer?ra=330.33680597175095&dec=-44.4384786014048\"><img src=\"https://des.ncsa.illinois.edu/easyweb/static/workdir/eteq/47e828f4-fd77-470c-9947-2ec849b20dae/DESJ220407.9-433104.0.tif.png\"height=\"128\" width=\"128\"></a></td></tr>\n",
       "<tr><td>96<br><a href=\"http://legacysurvey.org/viewer?ra=330.53539371088425&dec=-42.50110806665731\"><img src=\"https://des.ncsa.illinois.edu/easyweb/static/workdir/eteq/47e828f4-fd77-470c-9947-2ec849b20dae/DESJ220319.9-424241.3.tif.png\"height=\"128\" width=\"128\"></a></td><td>97<br><a href=\"http://legacysurvey.org/viewer?ra=329.54628970368526&dec=-43.62798720089578\"><img src=\"https://des.ncsa.illinois.edu/easyweb/static/workdir/eteq/47e828f4-fd77-470c-9947-2ec849b20dae/DESJ215954.2-440936.6.tif.png\"height=\"128\" width=\"128\"></a></td><td>98<br><a href=\"http://legacysurvey.org/viewer?ra=329.81280656520744&dec=-42.382506370976664\"><img src=\"https://des.ncsa.illinois.edu/easyweb/static/workdir/eteq/47e828f4-fd77-470c-9947-2ec849b20dae/DESJ220336.3-440100.5.tif.png\"height=\"128\" width=\"128\"></a></td><td>99<br><a href=\"http://legacysurvey.org/viewer?ra=329.9257472440129&dec=-42.57316423119806\"><img src=\"https://des.ncsa.illinois.edu/easyweb/static/workdir/eteq/47e828f4-fd77-470c-9947-2ec849b20dae/DESJ220236.3-422632.9.tif.png\"height=\"128\" width=\"128\"></a></td><td></td><td></td><td></td><td></td></tr>\n",
       "    </table>\n",
       "    "
      ],
      "text/plain": [
       "<IPython.core.display.HTML object>"
      ]
     },
     "execution_count": 156,
     "metadata": {},
     "output_type": "execute_result"
    }
   ],
   "source": [
    "show_des_cutouts(acat[acat['Notes']=='sky'], '47e828f4-fd77-470c-9947-2ec849b20dae', ncols=8, namecol='TargetName')"
   ]
  },
  {
   "cell_type": "code",
   "execution_count": 157,
   "metadata": {},
   "outputs": [
    {
     "data": {
      "text/plain": [
       "89"
      ]
     },
     "execution_count": 157,
     "metadata": {},
     "output_type": "execute_result"
    }
   ],
   "source": [
    "skys_to_rem = [int(i) for i in '4 8  32 34 56 58 61 68 76 78  82'.split()]\n",
    "writecat.remove_rows((writecat['Notes']=='Sky')&(np.in1d(writecat['TargetName'], skys_to_rem)))\n",
    "np.sum((writecat['Notes']=='Sky'))"
   ]
  },
  {
   "cell_type": "code",
   "execution_count": 158,
   "metadata": {},
   "outputs": [
    {
     "name": "stdout",
     "output_type": "stream",
     "text": [
      "Writing aat_targets_jun2018/pgc67817_master2.fld\n",
      "Total remaining in each priority (5 fluxes, 100 guides, and 89 skies not included):\n",
      "{1: 289, 2: 104, 3: 63, 4: 50, 5: 115, 6: 54, 7: 14, 8: 16, 9: 0}\n",
      "{1: 100.0, 2: 100.0, 3: 100.0, 4: 100.0, 5: 100.0, 6: 100.0, 7: 100.0, 8: 100.0, 9: None}%\n",
      "Total targets: 705\n"
     ]
    }
   ],
   "source": [
    "fieldnumornone = '' if fieldnum==1 else fieldnum\n",
    "fnout = 'aat_targets_jun2018/{}_master{}.fld'.format(hostname, fieldnumornone)\n",
    "print('Writing', fnout)\n",
    "write_fld_file(writecat, host, obs_start_date, fnout)\n",
    "\n",
    "fldfn = 'aat_targets_jun2018/{}_{}.fld'.format(hostname, fieldnum)\n",
    "tots = aat.subsample_from_master_fld('aat_targets_jun2018/{}_master{}.fld'.format(hostname, fieldnumornone), fldfn,\n",
    "                                   {1:np.inf,2:np.inf,3:np.inf,4:np.inf,\n",
    "                                    5:np.inf,6:np.inf,7:np.inf,8:np.inf,9:np.inf},\n",
    "                                    nflux=5, nguides=100)\n",
    "print('Total targets:', np.sum(list(tots.values())))"
   ]
  },
  {
   "cell_type": "code",
   "execution_count": 159,
   "metadata": {},
   "outputs": [
    {
     "name": "stdout",
     "output_type": "stream",
     "text": [
      "pgc67817_2.fld                                100%   49KB  48.7KB/s   00:00    \n"
     ]
    }
   ],
   "source": [
    "!scp $fldfn visitor6@aatlxh:~/jun12/"
   ]
  },
  {
   "cell_type": "markdown",
   "metadata": {},
   "source": [
    "## pgc2052"
   ]
  },
  {
   "cell_type": "code",
   "execution_count": 160,
   "metadata": {},
   "outputs": [
    {
     "name": "stdout",
     "output_type": "stream",
     "text": [
      "[06/12 19:39:01] [WARNING] Not found: sdss catalog for pgc2052.\n",
      "[06/12 19:39:02] [WARNING] Not found: decals catalog for pgc2052.\n",
      "[06/12 19:39:02] Use DES to build base catalog v2 for pgc2052 (1/1)\n"
     ]
    },
    {
     "name": "stderr",
     "output_type": "stream",
     "text": [
      "WARNING:root:No photo obj matched to 2dF spec obj TGS283Z018 (8.168624999999999, -28.741861111111106)\n",
      "WARNING:root:No photo obj matched to 2dF spec obj TGS205Z051 (7.494333333333333, -28.131388888888885)\n",
      "WARNING:root:No photo obj matched to 2dF spec obj TGS206Z079 (8.541916666666665, -27.79447222222222)\n",
      "WARNING:root:No kcorrect module. Stellar mass not calculated!\n"
     ]
    },
    {
     "name": "stdout",
     "output_type": "stream",
     "text": [
      "[06/12 19:39:37] Write base catalog to ./base_catalogs/base_v2_pgc2052.fits.gz\n"
     ]
    }
   ],
   "source": [
    "fieldnum = 2\n",
    "idnum = 2052\n",
    "\n",
    "saga_object_catalog.build_and_write_to_database('pgc{}'.format(idnum), overwrite=fieldnum>1)"
   ]
  },
  {
   "cell_type": "code",
   "execution_count": 161,
   "metadata": {},
   "outputs": [
    {
     "name": "stdout",
     "output_type": "stream",
     "text": [
      "pgc2052\n",
      "# of flux stars = 70\n",
      "# of sky fibers = 100\n",
      "# of Priority=1 targets = 748\n",
      "# of Priority=2 targets = 12\n",
      "# of Priority=3 targets = 82\n",
      "# of Priority=4 targets = 50\n",
      "# of Priority=5 targets = 502\n",
      "# of Priority=6 targets = 34\n",
      "# of Priority=7 targets = 12\n",
      "# of Priority=8 targets = 4\n",
      "# of Priority=9 targets = 170\n",
      "Object catalog to Gaia offset: (<Angle -0.14253103 arcsec>, <Angle 0.13881317 arcsec>) from 550 objects (61.2%)\n",
      "Found 111 Gaia guide stars\n",
      "30 Have a brightish neighbor.  Removing them.\n"
     ]
    },
    {
     "data": {
      "text/plain": [
       "1695"
      ]
     },
     "execution_count": 161,
     "metadata": {},
     "output_type": "execute_result"
    }
   ],
   "source": [
    "host = targethosts[targethosts['PGC'] == idnum]\n",
    "assert len(host) == 1\n",
    "host = host[0]\n",
    "\n",
    "hostname = host[host_id_label]\n",
    "print(hostname)\n",
    "tcats[hostname] = tcat = saga_targets.build_target_catalogs(hostname, return_as='list').pop()\n",
    "acats[hostname] = acat = saga.targets.prepare_aat_catalog(tcat, sky_fiber_needed=100)\n",
    "\n",
    "guidestars = get_gaia_guidestars(hostname)\n",
    "writecat = table.vstack([acat, guidestars])\n",
    "writecat['Notes'] = [n.title() for n in writecat['Notes']]\n",
    "len(writecat)"
   ]
  },
  {
   "cell_type": "code",
   "execution_count": 162,
   "metadata": {},
   "outputs": [
    {
     "data": {
      "text/html": [
       "\n",
       "    <table>\n",
       "    <tr><td>2319262999603043456<br><a href=\"http://legacysurvey.org/viewer?ra=8.848122005939876&dec=-27.938550398526335\"><img src=\"http://legacysurvey.org/viewer/jpeg-cutout/?ra=8.848122&dec=-27.93855&zoom=15&layer=unwise-w1w2&size=120\"></a></td><td>2319140541495713536<br><a href=\"http://legacysurvey.org/viewer?ra=8.099146904997323&dec=-28.44329383011427\"><img src=\"http://legacysurvey.org/viewer/jpeg-cutout/?ra=8.099147&dec=-28.44329&zoom=15&layer=unwise-w1w2&size=120\"></a></td><td>2346383450334471040<br><a href=\"http://legacysurvey.org/viewer?ra=8.356561914249683&dec=-27.02377054465644\"><img src=\"http://legacysurvey.org/viewer/jpeg-cutout/?ra=8.356562&dec=-27.02377&zoom=15&layer=unwise-w1w2&size=120\"></a></td><td>2343370169999140864<br><a href=\"http://legacysurvey.org/viewer?ra=8.71544760357231&dec=-27.289725727545694\"><img src=\"http://legacysurvey.org/viewer/jpeg-cutout/?ra=8.715448&dec=-27.28973&zoom=15&layer=unwise-w1w2&size=120\"></a></td><td>2322376301136826496<br><a href=\"http://legacysurvey.org/viewer?ra=8.025478782833765&dec=-27.092097196848314\"><img src=\"http://legacysurvey.org/viewer/jpeg-cutout/?ra=8.025479&dec=-27.0921&zoom=15&layer=unwise-w1w2&size=120\"></a></td><td>2343356013786935168<br><a href=\"http://legacysurvey.org/viewer?ra=8.701607633878881&dec=-27.389238947650657\"><img src=\"http://legacysurvey.org/viewer/jpeg-cutout/?ra=8.701608&dec=-27.38924&zoom=15&layer=unwise-w1w2&size=120\"></a></td></tr>\n",
       "<tr><td>2343084739357291648<br><a href=\"http://legacysurvey.org/viewer?ra=9.65458055518031&dec=-27.863220748546972\"><img src=\"http://legacysurvey.org/viewer/jpeg-cutout/?ra=9.654581&dec=-27.86322&zoom=15&layer=unwise-w1w2&size=120\"></a></td><td>2319215377005622144<br><a href=\"http://legacysurvey.org/viewer?ra=8.520162655971346&dec=-28.51076163013471\"><img src=\"http://legacysurvey.org/viewer/jpeg-cutout/?ra=8.520163&dec=-28.51076&zoom=15&layer=unwise-w1w2&size=120\"></a></td><td>2319025951768126848<br><a href=\"http://legacysurvey.org/viewer?ra=8.491702625928971&dec=-28.59389905618385\"><img src=\"http://legacysurvey.org/viewer/jpeg-cutout/?ra=8.491703&dec=-28.5939&zoom=15&layer=unwise-w1w2&size=120\"></a></td><td>2343350477573781120<br><a href=\"http://legacysurvey.org/viewer?ra=8.803315761728717&dec=-27.521500340026478\"><img src=\"http://legacysurvey.org/viewer/jpeg-cutout/?ra=8.803316&dec=-27.5215&zoom=15&layer=unwise-w1w2&size=120\"></a></td><td>2322331392958701312<br><a href=\"http://legacysurvey.org/viewer?ra=7.474975916764402&dec=-27.674770745447624\"><img src=\"http://legacysurvey.org/viewer/jpeg-cutout/?ra=7.474976&dec=-27.67477&zoom=15&layer=unwise-w1w2&size=120\"></a></td><td>2343335775901103872<br><a href=\"http://legacysurvey.org/viewer?ra=9.366261379223133&dec=-27.24435672799069\"><img src=\"http://legacysurvey.org/viewer/jpeg-cutout/?ra=9.366261&dec=-27.24436&zoom=15&layer=unwise-w1w2&size=120\"></a></td></tr>\n",
       "<tr><td>2319247572080461824<br><a href=\"http://legacysurvey.org/viewer?ra=8.397175917597451&dec=-28.022437251058708\"><img src=\"http://legacysurvey.org/viewer/jpeg-cutout/?ra=8.397176&dec=-28.02244&zoom=15&layer=unwise-w1w2&size=120\"></a></td><td>2343305986007902208<br><a href=\"http://legacysurvey.org/viewer?ra=9.14676647241055&dec=-27.56521650573338\"><img src=\"http://legacysurvey.org/viewer/jpeg-cutout/?ra=9.146766&dec=-27.56522&zoom=15&layer=unwise-w1w2&size=120\"></a></td><td>2322336546919492224<br><a href=\"http://legacysurvey.org/viewer?ra=7.769387063345569&dec=-27.530722267245217\"><img src=\"http://legacysurvey.org/viewer/jpeg-cutout/?ra=7.769387&dec=-27.53072&zoom=15&layer=unwise-w1w2&size=120\"></a></td><td>2319289319162546688<br><a href=\"http://legacysurvey.org/viewer?ra=7.930801158916395&dec=-28.10369619355727\"><img src=\"http://legacysurvey.org/viewer/jpeg-cutout/?ra=7.930801&dec=-28.1037&zoom=15&layer=unwise-w1w2&size=120\"></a></td><td>2319287871758227328<br><a href=\"http://legacysurvey.org/viewer?ra=8.001263399555382&dec=-28.185860892658372\"><img src=\"http://legacysurvey.org/viewer/jpeg-cutout/?ra=8.001263&dec=-28.18586&zoom=15&layer=unwise-w1w2&size=120\"></a></td><td>2319335219477521152<br><a href=\"http://legacysurvey.org/viewer?ra=8.573708034648392&dec=-27.538017471044654\"><img src=\"http://legacysurvey.org/viewer/jpeg-cutout/?ra=8.573708&dec=-27.53802&zoom=15&layer=unwise-w1w2&size=120\"></a></td></tr>\n",
       "<tr><td>2322213573416129024<br><a href=\"http://legacysurvey.org/viewer?ra=7.590789017400766&dec=-28.021199646898452\"><img src=\"http://legacysurvey.org/viewer/jpeg-cutout/?ra=7.590789&dec=-28.0212&zoom=15&layer=unwise-w1w2&size=120\"></a></td><td>2343279906966486016<br><a href=\"http://legacysurvey.org/viewer?ra=9.224311384383855&dec=-27.864992529096433\"><img src=\"http://legacysurvey.org/viewer/jpeg-cutout/?ra=9.224311&dec=-27.86499&zoom=15&layer=unwise-w1w2&size=120\"></a></td><td>2322363725472567168<br><a href=\"http://legacysurvey.org/viewer?ra=7.9147739440990215&dec=-27.35514699238511\"><img src=\"http://legacysurvey.org/viewer/jpeg-cutout/?ra=7.914774&dec=-27.35515&zoom=15&layer=unwise-w1w2&size=120\"></a></td><td>2322316304737896064<br><a href=\"http://legacysurvey.org/viewer?ra=7.742501400989284&dec=-27.732205935287354\"><img src=\"http://legacysurvey.org/viewer/jpeg-cutout/?ra=7.742501&dec=-27.73221&zoom=15&layer=unwise-w1w2&size=120\"></a></td><td>2319219500174199296<br><a href=\"http://legacysurvey.org/viewer?ra=8.332194876538221&dec=-28.40606006570875\"><img src=\"http://legacysurvey.org/viewer/jpeg-cutout/?ra=8.332195&dec=-28.40606&zoom=15&layer=unwise-w1w2&size=120\"></a></td><td>2319256299454038400<br><a href=\"http://legacysurvey.org/viewer?ra=8.71284261280104&dec=-28.035949249962048\"><img src=\"http://legacysurvey.org/viewer/jpeg-cutout/?ra=8.712843&dec=-28.03595&zoom=15&layer=unwise-w1w2&size=120\"></a></td></tr>\n",
       "    </table>\n",
       "    "
      ],
      "text/plain": [
       "<IPython.core.display.HTML object>"
      ]
     },
     "execution_count": 162,
     "metadata": {},
     "output_type": "execute_result"
    }
   ],
   "source": [
    "# only need to remove if something really fishy is going on\n",
    "make_decals_viewer_cutouts(guidestars[np.random.permutation(len(guidestars))[:24]], \n",
    "                           survey='unwise-w1w2',ncols=6,namecol='TargetName')"
   ]
  },
  {
   "cell_type": "code",
   "execution_count": 164,
   "metadata": {},
   "outputs": [
    {
     "name": "stdout",
     "output_type": "stream",
     "text": [
      "Copied to clipboard\n"
     ]
    },
    {
     "data": {
      "text/html": [
       "\n",
       "    Paste the coords in \"Enter values\" at  \n",
       "    <a href=\"https://des.ncsa.illinois.edu/easyweb/cutouts\">the DES cutout service</a>,\n",
       "    and change the size to 0.3 arcmin\n",
       "    "
      ],
      "text/plain": [
       "<IPython.core.display.HTML object>"
      ]
     },
     "execution_count": 164,
     "metadata": {},
     "output_type": "execute_result"
    }
   ],
   "source": [
    "make_des_cutouts_file(acat[acat['Notes']=='sky'])"
   ]
  },
  {
   "cell_type": "code",
   "execution_count": 165,
   "metadata": {},
   "outputs": [
    {
     "name": "stdout",
     "output_type": "stream",
     "text": [
      "https://des.ncsa.illinois.edu/easyweb/static/workdir/eteq/72daf723-2244-4d85-83aa-470a24079c40/list.json\n"
     ]
    },
    {
     "data": {
      "text/html": [
       "\n",
       "    <table>\n",
       "    <tr><td>0<br><a href=\"http://legacysurvey.org/viewer?ra=8.025124662593143&dec=-28.755830637930153\"><img src=\"https://des.ncsa.illinois.edu/easyweb/static/workdir/eteq/72daf723-2244-4d85-83aa-470a24079c40/DESJ003158.5-284116.4.tif.png\"height=\"128\" width=\"128\"></a></td><td>1<br><a href=\"http://legacysurvey.org/viewer?ra=8.497519471513561&dec=-26.75111789297993\"><img src=\"https://des.ncsa.illinois.edu/easyweb/static/workdir/eteq/72daf723-2244-4d85-83aa-470a24079c40/DESJ003749.7-274017.8.tif.png\"height=\"128\" width=\"128\"></a></td><td>2<br><a href=\"http://legacysurvey.org/viewer?ra=7.755107137875607&dec=-27.253501915304795\"><img src=\"https://des.ncsa.illinois.edu/easyweb/static/workdir/eteq/72daf723-2244-4d85-83aa-470a24079c40/DESJ003207.8-265120.8.tif.png\"height=\"128\" width=\"128\"></a></td><td>3<br><a href=\"http://legacysurvey.org/viewer?ra=7.99069270557857&dec=-28.72266581255532\"><img src=\"https://des.ncsa.illinois.edu/easyweb/static/workdir/eteq/72daf723-2244-4d85-83aa-470a24079c40/DESJ003339.5-264412.0.tif.png\"height=\"128\" width=\"128\"></a></td><td>4<br><a href=\"http://legacysurvey.org/viewer?ra=9.548951969294782&dec=-27.41087326681096\"><img src=\"https://des.ncsa.illinois.edu/easyweb/static/workdir/eteq/72daf723-2244-4d85-83aa-470a24079c40/DESJ003419.6-265844.1.tif.png\"height=\"128\" width=\"128\"></a></td><td>5<br><a href=\"http://legacysurvey.org/viewer?ra=8.72753596411565&dec=-28.724788743146288\"><img src=\"https://des.ncsa.illinois.edu/easyweb/static/workdir/eteq/72daf723-2244-4d85-83aa-470a24079c40/DESJ003150.5-284240.4.tif.png\"height=\"128\" width=\"128\"></a></td><td>6<br><a href=\"http://legacysurvey.org/viewer?ra=8.037396891298483&dec=-28.764298733437048\"><img src=\"https://des.ncsa.illinois.edu/easyweb/static/workdir/eteq/72daf723-2244-4d85-83aa-470a24079c40/DESJ003411.7-264500.7.tif.png\"height=\"128\" width=\"128\"></a></td><td>7<br><a href=\"http://legacysurvey.org/viewer?ra=8.05914887901257&dec=-28.64256636120522\"><img src=\"https://des.ncsa.illinois.edu/easyweb/static/workdir/eteq/72daf723-2244-4d85-83aa-470a24079c40/DESJ003644.3-271532.3.tif.png\"height=\"128\" width=\"128\"></a></td></tr>\n",
       "<tr><td>8<br><a href=\"http://legacysurvey.org/viewer?ra=8.897147203003605&dec=-27.076042534792613\"><img src=\"https://des.ncsa.illinois.edu/easyweb/static/workdir/eteq/72daf723-2244-4d85-83aa-470a24079c40/DESJ003013.2-281002.4.tif.png\"height=\"128\" width=\"128\"></a></td><td>9<br><a href=\"http://legacysurvey.org/viewer?ra=7.8409757767542105&dec=-27.318456358474307\"><img src=\"https://des.ncsa.illinois.edu/easyweb/static/workdir/eteq/72daf723-2244-4d85-83aa-470a24079c40/DESJ003522.8-264736.7.tif.png\"height=\"128\" width=\"128\"></a></td><td>10<br><a href=\"http://legacysurvey.org/viewer?ra=7.993577295412005&dec=-28.687903362109775\"><img src=\"https://des.ncsa.illinois.edu/easyweb/static/workdir/eteq/72daf723-2244-4d85-83aa-470a24079c40/DESJ003337.2-264845.7.tif.png\"height=\"128\" width=\"128\"></a></td><td>11<br><a href=\"http://legacysurvey.org/viewer?ra=8.593925422950958&dec=-26.776087259705015\"><img src=\"https://des.ncsa.illinois.edu/easyweb/static/workdir/eteq/72daf723-2244-4d85-83aa-470a24079c40/DESJ003050.1-272055.2.tif.png\"height=\"128\" width=\"128\"></a></td><td>12<br><a href=\"http://legacysurvey.org/viewer?ra=9.308907260991349&dec=-28.06806802779106\"><img src=\"https://des.ncsa.illinois.edu/easyweb/static/workdir/eteq/72daf723-2244-4d85-83aa-470a24079c40/DESJ003714.1-280405.1.tif.png\"height=\"128\" width=\"128\"></a></td><td>13<br><a href=\"http://legacysurvey.org/viewer?ra=8.375822309128711&dec=-28.852539516540602\"><img src=\"https://des.ncsa.illinois.edu/easyweb/static/workdir/eteq/72daf723-2244-4d85-83aa-470a24079c40/DESJ003542.1-274442.8.tif.png\"height=\"128\" width=\"128\"></a></td><td>14<br><a href=\"http://legacysurvey.org/viewer?ra=8.835851740106223&dec=-28.782039849933284\"><img src=\"https://des.ncsa.illinois.edu/easyweb/static/workdir/eteq/72daf723-2244-4d85-83aa-470a24079c40/DESJ003425.7-264555.9.tif.png\"height=\"128\" width=\"128\"></a></td><td>15<br><a href=\"http://legacysurvey.org/viewer?ra=8.446154385039453&dec=-26.804367706861633\"><img src=\"https://des.ncsa.illinois.edu/easyweb/static/workdir/eteq/72daf723-2244-4d85-83aa-470a24079c40/DESJ003214.2-283833.3.tif.png\"height=\"128\" width=\"128\"></a></td></tr>\n",
       "<tr><td>16<br><a href=\"http://legacysurvey.org/viewer?ra=7.693455015426583&dec=-28.20669045120594\"><img src=\"https://des.ncsa.illinois.edu/easyweb/static/workdir/eteq/72daf723-2244-4d85-83aa-470a24079c40/DESJ003409.2-284830.4.tif.png\"height=\"128\" width=\"128\"></a></td><td>17<br><a href=\"http://legacysurvey.org/viewer?ra=9.457045520259218&dec=-27.67160374933148\"><img src=\"https://des.ncsa.illinois.edu/easyweb/static/workdir/eteq/72daf723-2244-4d85-83aa-470a24079c40/DESJ003356.9-285110.5.tif.png\"height=\"128\" width=\"128\"></a></td><td>18<br><a href=\"http://legacysurvey.org/viewer?ra=7.856767045088831&dec=-28.643958198475307\"><img src=\"https://des.ncsa.illinois.edu/easyweb/static/workdir/eteq/72daf723-2244-4d85-83aa-470a24079c40/DESJ003123.8-283535.0.tif.png\"height=\"128\" width=\"128\"></a></td><td>19<br><a href=\"http://legacysurvey.org/viewer?ra=9.284673754912923&dec=-27.280240127871544\"><img src=\"https://des.ncsa.illinois.edu/easyweb/static/workdir/eteq/72daf723-2244-4d85-83aa-470a24079c40/DESJ003539.7-264907.6.tif.png\"height=\"128\" width=\"128\"></a></td><td>20<br><a href=\"http://legacysurvey.org/viewer?ra=8.538435095872838&dec=-28.808447714331184\"><img src=\"https://des.ncsa.illinois.edu/easyweb/static/workdir/eteq/72daf723-2244-4d85-83aa-470a24079c40/DESJ003613.7-265744.5.tif.png\"height=\"128\" width=\"128\"></a></td><td>21<br><a href=\"http://legacysurvey.org/viewer?ra=7.92909692938119&dec=-27.980161466943965\"><img src=\"https://des.ncsa.illinois.edu/easyweb/static/workdir/eteq/72daf723-2244-4d85-83aa-470a24079c40/DESJ003559.7-271120.0.tif.png\"height=\"128\" width=\"128\"></a></td><td>22<br><a href=\"http://legacysurvey.org/viewer?ra=8.548648034097972&dec=-26.750198216703268\"><img src=\"https://des.ncsa.illinois.edu/easyweb/static/workdir/eteq/72daf723-2244-4d85-83aa-470a24079c40/DESJ003456.9-284702.5.tif.png\"height=\"128\" width=\"128\"></a></td><td>23<br><a href=\"http://legacysurvey.org/viewer?ra=7.980448281224584&dec=-28.28943596922895\"><img src=\"https://des.ncsa.illinois.edu/easyweb/static/workdir/eteq/72daf723-2244-4d85-83aa-470a24079c40/DESJ003657.9-281516.6.tif.png\"height=\"128\" width=\"128\"></a></td></tr>\n",
       "<tr><td>24<br><a href=\"http://legacysurvey.org/viewer?ra=8.167526783418516&dec=-26.845082740785013\"><img src=\"https://des.ncsa.illinois.edu/easyweb/static/workdir/eteq/72daf723-2244-4d85-83aa-470a24079c40/DESJ003405.4-283607.8.tif.png\"height=\"128\" width=\"128\"></a></td><td>25<br><a href=\"http://legacysurvey.org/viewer?ra=8.480969152635936&dec=-26.965852796895383\"><img src=\"https://des.ncsa.illinois.edu/easyweb/static/workdir/eteq/72daf723-2244-4d85-83aa-470a24079c40/DESJ003825.1-275617.2.tif.png\"height=\"128\" width=\"128\"></a></td><td>26<br><a href=\"http://legacysurvey.org/viewer?ra=8.84483119897175&dec=-26.793535178833643\"><img src=\"https://des.ncsa.illinois.edu/easyweb/static/workdir/eteq/72daf723-2244-4d85-83aa-470a24079c40/DESJ003121.8-271906.5.tif.png\"height=\"128\" width=\"128\"></a></td><td>27<br><a href=\"http://legacysurvey.org/viewer?ra=8.405127689552197&dec=-26.812692274636056\"><img src=\"https://des.ncsa.illinois.edu/easyweb/static/workdir/eteq/72daf723-2244-4d85-83aa-470a24079c40/DESJ003816.0-274428.2.tif.png\"height=\"128\" width=\"128\"></a></td><td>28<br><a href=\"http://legacysurvey.org/viewer?ra=8.925637624404649&dec=-28.47127112217692\"><img src=\"https://des.ncsa.illinois.edu/easyweb/static/workdir/eteq/72daf723-2244-4d85-83aa-470a24079c40/DESJ003359.4-264504.0.tif.png\"height=\"128\" width=\"128\"></a></td><td>29<br><a href=\"http://legacysurvey.org/viewer?ra=7.818676622723677&dec=-27.196334323663528\"><img src=\"https://des.ncsa.illinois.edu/easyweb/static/workdir/eteq/72daf723-2244-4d85-83aa-470a24079c40/DESJ003559.5-270900.7.tif.png\"height=\"128\" width=\"128\"></a></td><td>30<br><a href=\"http://legacysurvey.org/viewer?ra=8.386303945601925&dec=-26.750951534660594\"><img src=\"https://des.ncsa.illinois.edu/easyweb/static/workdir/eteq/72daf723-2244-4d85-83aa-470a24079c40/DESJ003247.3-284635.8.tif.png\"height=\"128\" width=\"128\"></a></td><td>31<br><a href=\"http://legacysurvey.org/viewer?ra=8.147665009885468&dec=-28.609442986143595\"><img src=\"https://des.ncsa.illinois.edu/easyweb/static/workdir/eteq/72daf723-2244-4d85-83aa-470a24079c40/DESJ003819.0-280125.7.tif.png\"height=\"128\" width=\"128\"></a></td></tr>\n",
       "<tr><td>32<br><a href=\"http://legacysurvey.org/viewer?ra=7.980509424213837&dec=-27.02882973114471\"><img src=\"https://des.ncsa.illinois.edu/easyweb/static/workdir/eteq/72daf723-2244-4d85-83aa-470a24079c40/DESJ003116.5-271146.8.tif.png\"height=\"128\" width=\"128\"></a></td><td>33<br><a href=\"http://legacysurvey.org/viewer?ra=7.946707876572664&dec=-27.30390429743258\"><img src=\"https://des.ncsa.illinois.edu/easyweb/static/workdir/eteq/72daf723-2244-4d85-83aa-470a24079c40/DESJ003235.4-283634.0.tif.png\"height=\"128\" width=\"128\"></a></td><td>34<br><a href=\"http://legacysurvey.org/viewer?ra=7.839427912925966&dec=-28.62670769321509\"><img src=\"https://des.ncsa.illinois.edu/easyweb/static/workdir/eteq/72daf723-2244-4d85-83aa-470a24079c40/DESJ003232.4-265813.8.tif.png\"height=\"128\" width=\"128\"></a></td><td>35<br><a href=\"http://legacysurvey.org/viewer?ra=7.721759758254383&dec=-27.12289380360726\"><img src=\"https://des.ncsa.illinois.edu/easyweb/static/workdir/eteq/72daf723-2244-4d85-83aa-470a24079c40/DESJ003124.7-271837.8.tif.png\"height=\"128\" width=\"128\"></a></td><td>36<br><a href=\"http://legacysurvey.org/viewer?ra=8.237907208841794&dec=-26.906430067444933\"><img src=\"https://des.ncsa.illinois.edu/easyweb/static/workdir/eteq/72daf723-2244-4d85-83aa-470a24079c40/DESJ003209.0-284551.5.tif.png\"height=\"128\" width=\"128\"></a></td><td>37<br><a href=\"http://legacysurvey.org/viewer?ra=9.082507542204548&dec=-26.849779058148922\"><img src=\"https://des.ncsa.illinois.edu/easyweb/static/workdir/eteq/72daf723-2244-4d85-83aa-470a24079c40/DESJ003143.0-275848.6.tif.png\"height=\"128\" width=\"128\"></a></td><td>38<br><a href=\"http://legacysurvey.org/viewer?ra=9.490111492778455&dec=-27.601084544805758\"><img src=\"https://des.ncsa.illinois.edu/easyweb/static/workdir/eteq/72daf723-2244-4d85-83aa-470a24079c40/DESJ003355.4-265757.1.tif.png\"height=\"128\" width=\"128\"></a></td><td>39<br><a href=\"http://legacysurvey.org/viewer?ra=9.607451664388076&dec=-27.900096578286117\"><img src=\"https://des.ncsa.illinois.edu/easyweb/static/workdir/eteq/72daf723-2244-4d85-83aa-470a24079c40/DESJ003333.3-270801.5.tif.png\"height=\"128\" width=\"128\"></a></td></tr>\n",
       "<tr><td>40<br><a href=\"http://legacysurvey.org/viewer?ra=8.625027837913976&dec=-28.81340753215639\"><img src=\"https://des.ncsa.illinois.edu/easyweb/static/workdir/eteq/72daf723-2244-4d85-83aa-470a24079c40/DESJ003247.7-281452.9.tif.png\"height=\"128\" width=\"128\"></a></td><td>41<br><a href=\"http://legacysurvey.org/viewer?ra=9.604794782908595&dec=-27.93811839406407\"><img src=\"https://des.ncsa.illinois.edu/easyweb/static/workdir/eteq/72daf723-2244-4d85-83aa-470a24079c40/DESJ003542.2-282816.6.tif.png\"height=\"128\" width=\"128\"></a></td><td>42<br><a href=\"http://legacysurvey.org/viewer?ra=9.566487690825573&dec=-27.741157887830802\"><img src=\"https://des.ncsa.illinois.edu/easyweb/static/workdir/eteq/72daf723-2244-4d85-83aa-470a24079c40/DESJ003240.2-265042.3.tif.png\"height=\"128\" width=\"128\"></a></td><td>43<br><a href=\"http://legacysurvey.org/viewer?ra=7.849139842636857&dec=-28.593058604689105\"><img src=\"https://des.ncsa.illinois.edu/easyweb/static/workdir/eteq/72daf723-2244-4d85-83aa-470a24079c40/DESJ003419.4-264601.6.tif.png\"height=\"128\" width=\"128\"></a></td><td>44<br><a href=\"http://legacysurvey.org/viewer?ra=9.245005635868342&dec=-27.47755567182069\"><img src=\"https://des.ncsa.illinois.edu/easyweb/static/workdir/eteq/72daf723-2244-4d85-83aa-470a24079c40/DESJ003731.1-283157.8.tif.png\"height=\"128\" width=\"128\"></a></td><td>45<br><a href=\"http://legacysurvey.org/viewer?ra=8.925419384260975&dec=-27.745232432251342\"><img src=\"https://des.ncsa.illinois.edu/easyweb/static/workdir/eteq/72daf723-2244-4d85-83aa-470a24079c40/DESJ003347.1-264815.7.tif.png\"height=\"128\" width=\"128\"></a></td><td>46<br><a href=\"http://legacysurvey.org/viewer?ra=8.366790911332872&dec=-28.43609073492288\"><img src=\"https://des.ncsa.illinois.edu/easyweb/static/workdir/eteq/72daf723-2244-4d85-83aa-470a24079c40/DESJ003501.0-264549.1.tif.png\"height=\"128\" width=\"128\"></a></td><td>47<br><a href=\"http://legacysurvey.org/viewer?ra=8.917864508474455&dec=-28.348641135005117\"><img src=\"https://des.ncsa.illinois.edu/easyweb/static/workdir/eteq/72daf723-2244-4d85-83aa-470a24079c40/DESJ003300.0-271525.8.tif.png\"height=\"128\" width=\"128\"></a></td></tr>\n",
       "<tr><td>48<br><a href=\"http://legacysurvey.org/viewer?ra=8.388622216499638&dec=-27.1337622026851\"><img src=\"https://des.ncsa.illinois.edu/easyweb/static/workdir/eteq/72daf723-2244-4d85-83aa-470a24079c40/DESJ003549.1-265643.7.tif.png\"height=\"128\" width=\"128\"></a></td><td>49<br><a href=\"http://legacysurvey.org/viewer?ra=8.250099663392517&dec=-27.257173996060022\"><img src=\"https://des.ncsa.illinois.edu/easyweb/static/workdir/eteq/72daf723-2244-4d85-83aa-470a24079c40/DESJ003332.7-264503.4.tif.png\"height=\"128\" width=\"128\"></a></td><td>50<br><a href=\"http://legacysurvey.org/viewer?ra=7.9603034355038265&dec=-28.711224691591056\"><img src=\"https://des.ncsa.illinois.edu/easyweb/static/workdir/eteq/72daf723-2244-4d85-83aa-470a24079c40/DESJ003101.2-271512.6.tif.png\"height=\"128\" width=\"128\"></a></td><td>51<br><a href=\"http://legacysurvey.org/viewer?ra=8.954503301392515&dec=-26.945471400887794\"><img src=\"https://des.ncsa.illinois.edu/easyweb/static/workdir/eteq/72daf723-2244-4d85-83aa-470a24079c40/DESJ003422.5-264633.9.tif.png\"height=\"128\" width=\"128\"></a></td><td>52<br><a href=\"http://legacysurvey.org/viewer?ra=9.310761805081082&dec=-28.19176724173921\"><img src=\"https://des.ncsa.illinois.edu/easyweb/static/workdir/eteq/72daf723-2244-4d85-83aa-470a24079c40/DESJ003649.7-283022.6.tif.png\"height=\"128\" width=\"128\"></a></td><td>53<br><a href=\"http://legacysurvey.org/viewer?ra=9.184769257071784&dec=-27.258969733256812\"><img src=\"https://des.ncsa.illinois.edu/easyweb/static/workdir/eteq/72daf723-2244-4d85-83aa-470a24079c40/DESJ003556.9-273152.0.tif.png\"height=\"128\" width=\"128\"></a></td><td>54<br><a href=\"http://legacysurvey.org/viewer?ra=8.997862194796916&dec=-27.150195988384166\"><img src=\"https://des.ncsa.illinois.edu/easyweb/static/workdir/eteq/72daf723-2244-4d85-83aa-470a24079c40/DESJ003619.7-274956.5.tif.png\"height=\"128\" width=\"128\"></a></td><td>55<br><a href=\"http://legacysurvey.org/viewer?ra=7.853038970641&dec=-27.31049858833783\"><img src=\"https://des.ncsa.illinois.edu/easyweb/static/workdir/eteq/72daf723-2244-4d85-83aa-470a24079c40/DESJ003520.6-284655.3.tif.png\"height=\"128\" width=\"128\"></a></td></tr>\n",
       "<tr><td>56<br><a href=\"http://legacysurvey.org/viewer?ra=8.522463591067849&dec=-28.602161163175236\"><img src=\"https://des.ncsa.illinois.edu/easyweb/static/workdir/eteq/72daf723-2244-4d85-83aa-470a24079c40/DESJ003155.3-281722.0.tif.png\"height=\"128\" width=\"128\"></a></td><td>57<br><a href=\"http://legacysurvey.org/viewer?ra=8.200437274854583&dec=-28.816693347661477\"><img src=\"https://des.ncsa.illinois.edu/easyweb/static/workdir/eteq/72daf723-2244-4d85-83aa-470a24079c40/DESJ003714.6-281130.4.tif.png\"height=\"128\" width=\"128\"></a></td><td>58<br><a href=\"http://legacysurvey.org/viewer?ra=7.685807340393668&dec=-27.25013646263879\"><img src=\"https://des.ncsa.illinois.edu/easyweb/static/workdir/eteq/72daf723-2244-4d85-83aa-470a24079c40/DESJ003125.6-283838.3.tif.png\"height=\"128\" width=\"128\"></a></td><td>59<br><a href=\"http://legacysurvey.org/viewer?ra=8.738711921309116&dec=-26.9256207713104\"><img src=\"https://des.ncsa.illinois.edu/easyweb/static/workdir/eteq/72daf723-2244-4d85-83aa-470a24079c40/DESJ003457.3-265532.2.tif.png\"height=\"128\" width=\"128\"></a></td><td>60<br><a href=\"http://legacysurvey.org/viewer?ra=7.677509134981641&dec=-27.368648946008612\"><img src=\"https://des.ncsa.illinois.edu/easyweb/static/workdir/eteq/72daf723-2244-4d85-83aa-470a24079c40/DESJ003157.8-284321.6.tif.png\"height=\"128\" width=\"128\"></a></td><td>61<br><a href=\"http://legacysurvey.org/viewer?ra=8.581658135590741&dec=-26.978907151980966\"><img src=\"https://des.ncsa.illinois.edu/easyweb/static/workdir/eteq/72daf723-2244-4d85-83aa-470a24079c40/DESJ003454.6-284329.2.tif.png\"height=\"128\" width=\"128\"></a></td><td>62<br><a href=\"http://legacysurvey.org/viewer?ra=8.902041563465739&dec=-26.81721031266755\"><img src=\"https://des.ncsa.illinois.edu/easyweb/static/workdir/eteq/72daf723-2244-4d85-83aa-470a24079c40/DESJ003522.0-285051.3.tif.png\"height=\"128\" width=\"128\"></a></td><td>63<br><a href=\"http://legacysurvey.org/viewer?ra=8.000790994601008&dec=-26.90185456751587\"><img src=\"https://des.ncsa.illinois.edu/easyweb/static/workdir/eteq/72daf723-2244-4d85-83aa-470a24079c40/DESJ003757.6-273603.9.tif.png\"height=\"128\" width=\"128\"></a></td></tr>\n",
       "<tr><td>64<br><a href=\"http://legacysurvey.org/viewer?ra=8.752068694350287&dec=-28.65662711798418\"><img src=\"https://des.ncsa.illinois.edu/easyweb/static/workdir/eteq/72daf723-2244-4d85-83aa-470a24079c40/DESJ003044.6-271500.5.tif.png\"height=\"128\" width=\"128\"></a></td><td>65<br><a href=\"http://legacysurvey.org/viewer?ra=8.754112627095088&dec=-26.763636907300832\"><img src=\"https://des.ncsa.illinois.edu/easyweb/static/workdir/eteq/72daf723-2244-4d85-83aa-470a24079c40/DESJ003438.7-284321.4.tif.png\"height=\"128\" width=\"128\"></a></td><td>66<br><a href=\"http://legacysurvey.org/viewer?ra=8.661254497951116&dec=-28.72259548263918\"><img src=\"https://des.ncsa.illinois.edu/easyweb/static/workdir/eteq/72daf723-2244-4d85-83aa-470a24079c40/DESJ003330.2-285109.1.tif.png\"height=\"128\" width=\"128\"></a></td><td>67<br><a href=\"http://legacysurvey.org/viewer?ra=8.841612808866918&dec=-28.847578793665278\"><img src=\"https://des.ncsa.illinois.edu/easyweb/static/workdir/eteq/72daf723-2244-4d85-83aa-470a24079c40/DESJ003155.3-270143.8.tif.png\"height=\"128\" width=\"128\"></a></td><td>68<br><a href=\"http://legacysurvey.org/viewer?ra=9.181896897657229&dec=-28.51043694516787\"><img src=\"https://des.ncsa.illinois.edu/easyweb/static/workdir/eteq/72daf723-2244-4d85-83aa-470a24079c40/DESJ003042.6-272207.1.tif.png\"height=\"128\" width=\"128\"></a></td><td>69<br><a href=\"http://legacysurvey.org/viewer?ra=9.081877397092637&dec=-27.83235169011745\"><img src=\"https://des.ncsa.illinois.edu/easyweb/static/workdir/eteq/72daf723-2244-4d85-83aa-470a24079c40/DESJ003311.9-271522.4.tif.png\"height=\"128\" width=\"128\"></a></td><td>70<br><a href=\"http://legacysurvey.org/viewer?ra=8.414694550234934&dec=-26.736682282109154\"><img src=\"https://des.ncsa.illinois.edu/easyweb/static/workdir/eteq/72daf723-2244-4d85-83aa-470a24079c40/DESJ003328.0-282609.9.tif.png\"height=\"128\" width=\"128\"></a></td><td>71<br><a href=\"http://legacysurvey.org/viewer?ra=8.032479928033952&dec=-26.855778470733423\"><img src=\"https://des.ncsa.illinois.edu/easyweb/static/workdir/eteq/72daf723-2244-4d85-83aa-470a24079c40/DESJ003825.8-275400.4.tif.png\"height=\"128\" width=\"128\"></a></td></tr>\n",
       "<tr><td>72<br><a href=\"http://legacysurvey.org/viewer?ra=7.7088953950011785&dec=-27.348681461514953\"><img src=\"https://des.ncsa.illinois.edu/easyweb/static/workdir/eteq/72daf723-2244-4d85-83aa-470a24079c40/DESJ003811.7-272439.1.tif.png\"height=\"128\" width=\"128\"></a></td><td>73<br><a href=\"http://legacysurvey.org/viewer?ra=7.554993583394363&dec=-28.16733247945923\"><img src=\"https://des.ncsa.illinois.edu/easyweb/static/workdir/eteq/72daf723-2244-4d85-83aa-470a24079c40/DESJ003119.9-270816.2.tif.png\"height=\"128\" width=\"128\"></a></td><td>74<br><a href=\"http://legacysurvey.org/viewer?ra=8.60690741469944&dec=-26.765521631866548\"><img src=\"https://des.ncsa.illinois.edu/easyweb/static/workdir/eteq/72daf723-2244-4d85-83aa-470a24079c40/DESJ003248.1-284900.1.tif.png\"height=\"128\" width=\"128\"></a></td><td>75<br><a href=\"http://legacysurvey.org/viewer?ra=9.237681588414382&dec=-28.31261415979384\"><img src=\"https://des.ncsa.illinois.edu/easyweb/static/workdir/eteq/72daf723-2244-4d85-83aa-470a24079c40/DESJ003624.6-270336.6.tif.png\"height=\"128\" width=\"128\"></a></td><td>76<br><a href=\"http://legacysurvey.org/viewer?ra=8.73691794810348&dec=-28.784042593125726\"><img src=\"https://des.ncsa.illinois.edu/easyweb/static/workdir/eteq/72daf723-2244-4d85-83aa-470a24079c40/DESJ003305.1-264754.4.tif.png\"height=\"128\" width=\"128\"></a></td><td>77<br><a href=\"http://legacysurvey.org/viewer?ra=8.766382681193322&dec=-26.726675223281905\"><img src=\"https://des.ncsa.illinois.edu/easyweb/static/workdir/eteq/72daf723-2244-4d85-83aa-470a24079c40/DESJ003643.7-283037.6.tif.png\"height=\"128\" width=\"128\"></a></td><td>78<br><a href=\"http://legacysurvey.org/viewer?ra=9.259301205960517&dec=-28.415171101069916\"><img src=\"https://des.ncsa.illinois.edu/easyweb/static/workdir/eteq/72daf723-2244-4d85-83aa-470a24079c40/DESJ003540.3-282055.1.tif.png\"height=\"128\" width=\"128\"></a></td><td>79<br><a href=\"http://legacysurvey.org/viewer?ra=9.241155099331495&dec=-28.254611485404475\"><img src=\"https://des.ncsa.illinois.edu/easyweb/static/workdir/eteq/72daf723-2244-4d85-83aa-470a24079c40/DESJ003039.4-274757.8.tif.png\"height=\"128\" width=\"128\"></a></td></tr>\n",
       "<tr><td>80<br><a href=\"http://legacysurvey.org/viewer?ra=8.271217237458188&dec=-26.798447308121872\"><img src=\"https://des.ncsa.illinois.edu/easyweb/static/workdir/eteq/72daf723-2244-4d85-83aa-470a24079c40/DESJ003708.3-271648.9.tif.png\"height=\"128\" width=\"128\"></a></td><td>81<br><a href=\"http://legacysurvey.org/viewer?ra=9.379445825253821&dec=-28.532733424542517\"><img src=\"https://des.ncsa.illinois.edu/easyweb/static/workdir/eteq/72daf723-2244-4d85-83aa-470a24079c40/DESJ003619.8-265059.2.tif.png\"height=\"128\" width=\"128\"></a></td><td>82<br><a href=\"http://legacysurvey.org/viewer?ra=9.2629209587945&dec=-26.958512594754296\"><img src=\"https://des.ncsa.illinois.edu/easyweb/static/workdir/eteq/72daf723-2244-4d85-83aa-470a24079c40/DESJ003702.2-282454.6.tif.png\"height=\"128\" width=\"128\"></a></td><td>83<br><a href=\"http://legacysurvey.org/viewer?ra=9.578979722045267&dec=-28.023812653492964\"><img src=\"https://des.ncsa.illinois.edu/easyweb/static/workdir/eteq/72daf723-2244-4d85-83aa-470a24079c40/DESJ003147.2-271814.0.tif.png\"height=\"128\" width=\"128\"></a></td><td>84<br><a href=\"http://legacysurvey.org/viewer?ra=7.664170550323917&dec=-27.79940203457948\"><img src=\"https://des.ncsa.illinois.edu/easyweb/static/workdir/eteq/72daf723-2244-4d85-83aa-470a24079c40/DESJ003200.2-265406.7.tif.png\"height=\"128\" width=\"128\"></a></td><td>85<br><a href=\"http://legacysurvey.org/viewer?ra=8.581038096672808&dec=-26.767112720328832\"><img src=\"https://des.ncsa.illinois.edu/easyweb/static/workdir/eteq/72daf723-2244-4d85-83aa-470a24079c40/DESJ003241.6-283648.2.tif.png\"height=\"128\" width=\"128\"></a></td><td>86<br><a href=\"http://legacysurvey.org/viewer?ra=8.29975373643647&dec=-27.25622010950333\"><img src=\"https://des.ncsa.illinois.edu/easyweb/static/workdir/eteq/72daf723-2244-4d85-83aa-470a24079c40/DESJ003535.3-270433.7.tif.png\"height=\"128\" width=\"128\"></a></td><td>87<br><a href=\"http://legacysurvey.org/viewer?ra=9.056914109571412&dec=-26.962358524315125\"><img src=\"https://des.ncsa.illinois.edu/easyweb/static/workdir/eteq/72daf723-2244-4d85-83aa-470a24079c40/DESJ003046.4-281224.1.tif.png\"height=\"128\" width=\"128\"></a></td></tr>\n",
       "<tr><td>88<br><a href=\"http://legacysurvey.org/viewer?ra=8.196915901216625&dec=-28.77661452669902\"><img src=\"https://des.ncsa.illinois.edu/easyweb/static/workdir/eteq/72daf723-2244-4d85-83aa-470a24079c40/DESJ003430.0-284848.3.tif.png\"height=\"128\" width=\"128\"></a></td><td>89<br><a href=\"http://legacysurvey.org/viewer?ra=8.915580868049295&dec=-26.818785239272945\"><img src=\"https://des.ncsa.illinois.edu/easyweb/static/workdir/eteq/72daf723-2244-4d85-83aa-470a24079c40/DESJ003658.8-272839.2.tif.png\"height=\"128\" width=\"128\"></a></td><td>90<br><a href=\"http://legacysurvey.org/viewer?ra=7.832796631628611&dec=-27.137821962317524\"><img src=\"https://des.ncsa.illinois.edu/easyweb/static/workdir/eteq/72daf723-2244-4d85-83aa-470a24079c40/DESJ003257.1-265423.1.tif.png\"height=\"128\" width=\"128\"></a></td><td>91<br><a href=\"http://legacysurvey.org/viewer?ra=8.198866475664612&dec=-28.248033241131804\"><img src=\"https://des.ncsa.illinois.edu/easyweb/static/workdir/eteq/72daf723-2244-4d85-83aa-470a24079c40/DESJ003703.1-265730.6.tif.png\"height=\"128\" width=\"128\"></a></td><td>92<br><a href=\"http://legacysurvey.org/viewer?ra=9.102423041706226&dec=-27.060162635384756\"><img src=\"https://des.ncsa.illinois.edu/easyweb/static/workdir/eteq/72daf723-2244-4d85-83aa-470a24079c40/DESJ003512.4-270154.1.tif.png\"height=\"128\" width=\"128\"></a></td><td>93<br><a href=\"http://legacysurvey.org/viewer?ra=8.173259460713389&dec=-28.613401830051156\"><img src=\"https://des.ncsa.illinois.edu/easyweb/static/workdir/eteq/72daf723-2244-4d85-83aa-470a24079c40/DESJ003121.5-283736.2.tif.png\"height=\"128\" width=\"128\"></a></td><td>94<br><a href=\"http://legacysurvey.org/viewer?ra=8.801870624170204&dec=-27.031698925507317\"><img src=\"https://des.ncsa.illinois.edu/easyweb/static/workdir/eteq/72daf723-2244-4d85-83aa-470a24079c40/DESJ003500.5-283923.9.tif.png\"height=\"128\" width=\"128\"></a></td><td>95<br><a href=\"http://legacysurvey.org/viewer?ra=8.134804796735846&dec=-26.970501261427803\"><img src=\"https://des.ncsa.illinois.edu/easyweb/static/workdir/eteq/72daf723-2244-4d85-83aa-470a24079c40/DESJ003053.2-270722.4.tif.png\"height=\"128\" width=\"128\"></a></td></tr>\n",
       "<tr><td>96<br><a href=\"http://legacysurvey.org/viewer?ra=8.987150394535535&dec=-27.53112212777634\"><img src=\"https://des.ncsa.illinois.edu/easyweb/static/workdir/eteq/72daf723-2244-4d85-83aa-470a24079c40/DESJ003503.9-264336.0.tif.png\"height=\"128\" width=\"128\"></a></td><td>97<br><a href=\"http://legacysurvey.org/viewer?ra=8.486943007159136&dec=-28.852910793049944\"><img src=\"https://des.ncsa.illinois.edu/easyweb/static/workdir/eteq/72daf723-2244-4d85-83aa-470a24079c40/DESJ003536.5-264902.0.tif.png\"height=\"128\" width=\"128\"></a></td><td>98<br><a href=\"http://legacysurvey.org/viewer?ra=9.20720972989303&dec=-28.506291656318776\"><img src=\"https://des.ncsa.illinois.edu/easyweb/static/workdir/eteq/72daf723-2244-4d85-83aa-470a24079c40/DESJ003657.0-281845.4.tif.png\"height=\"128\" width=\"128\"></a></td><td>99<br><a href=\"http://legacysurvey.org/viewer?ra=8.998726653959134&dec=-27.18889254839268\"><img src=\"https://des.ncsa.illinois.edu/easyweb/static/workdir/eteq/72daf723-2244-4d85-83aa-470a24079c40/DESJ003206.0-284521.0.tif.png\"height=\"128\" width=\"128\"></a></td><td></td><td></td><td></td><td></td></tr>\n",
       "    </table>\n",
       "    "
      ],
      "text/plain": [
       "<IPython.core.display.HTML object>"
      ]
     },
     "execution_count": 165,
     "metadata": {},
     "output_type": "execute_result"
    }
   ],
   "source": [
    "show_des_cutouts(acat[acat['Notes']=='sky'], '72daf723-2244-4d85-83aa-470a24079c40', ncols=8, namecol='TargetName')"
   ]
  },
  {
   "cell_type": "code",
   "execution_count": 166,
   "metadata": {},
   "outputs": [
    {
     "data": {
      "text/plain": [
       "92"
      ]
     },
     "execution_count": 166,
     "metadata": {},
     "output_type": "execute_result"
    }
   ],
   "source": [
    "skys_to_rem = [int(i) for i in '0 1 5 28 36 44 51 88'.split()]\n",
    "writecat.remove_rows((writecat['Notes']=='Sky')&(np.in1d(writecat['TargetName'], skys_to_rem)))\n",
    "np.sum((writecat['Notes']=='Sky'))"
   ]
  },
  {
   "cell_type": "code",
   "execution_count": 170,
   "metadata": {},
   "outputs": [
    {
     "name": "stdout",
     "output_type": "stream",
     "text": [
      "Writing aat_targets_jun2018/pgc2052_master2.fld\n",
      "Total remaining in each priority (5 fluxes, 81 guides, and 92 skies not included):\n",
      "{1: 748, 2: 12, 3: 82, 4: 50, 5: 502, 6: 34, 7: 12, 8: 4, 9: 0}\n",
      "{1: 100.0, 2: 100.0, 3: 100.0, 4: 100.0, 5: 100.0, 6: 100.0, 7: 100.0, 8: 100.0, 9: None}%\n",
      "Total targets: 1444\n"
     ]
    }
   ],
   "source": [
    "fieldnumornone = '' if fieldnum==1 else fieldnum\n",
    "fnout = 'aat_targets_jun2018/{}_master{}.fld'.format(hostname, fieldnumornone)\n",
    "print('Writing', fnout)\n",
    "write_fld_file(writecat, host, obs_start_date, fnout)\n",
    "\n",
    "fldfn = 'aat_targets_jun2018/{}_{}.fld'.format(hostname, fieldnum)\n",
    "tots = aat.subsample_from_master_fld('aat_targets_jun2018/{}_master{}.fld'.format(hostname, fieldnumornone), fldfn,\n",
    "                                   {1:0,2:np.inf,3:np.inf,4:np.inf,\n",
    "                                    5:np.inf,6:np.inf,7:np.inf,8:np.inf,9:np.inf},\n",
    "                                    nflux=5, nguides=100)\n",
    "print('Total targets:', np.sum(list(tots.values())))"
   ]
  },
  {
   "cell_type": "code",
   "execution_count": 171,
   "metadata": {},
   "outputs": [
    {
     "name": "stdout",
     "output_type": "stream",
     "text": [
      "pgc2052_2.fld                                 100%   46KB  46.3KB/s   00:00    \n"
     ]
    }
   ],
   "source": [
    "!scp $fldfn visitor6@aatlxh:~/jun12/"
   ]
  },
  {
   "cell_type": "markdown",
   "metadata": {},
   "source": [
    "# Night 4 "
   ]
  },
  {
   "cell_type": "markdown",
   "metadata": {},
   "source": [
    "## nsa141465_2 "
   ]
  },
  {
   "cell_type": "code",
   "execution_count": 173,
   "metadata": {},
   "outputs": [
    {
     "name": "stdout",
     "output_type": "stream",
     "text": [
      "[06/12 23:54:14] [WARNING] Not found: des catalog for nsa141465.\n",
      "[06/12 23:54:17] Use SDSS, DECALS to build base catalog v2 for nsa141465 (1/1)\n"
     ]
    },
    {
     "name": "stderr",
     "output_type": "stream",
     "text": [
      "/Users/erik/projects/saga/saga/build/lib/SAGA/objects/build2.py:149: RuntimeWarning: invalid value encountered in true_divide\n",
      "  catalog['radius_err'] = np.hypot(catalog['FRACDEV']**2.0 / catalog['SHAPEDEV_R_IVAR'], (1.0 - catalog['FRACDEV'])**2.0 / catalog['SHAPEEXP_R_IVAR'])\n",
      "/Users/erik/projects/saga/saga/build/lib/SAGA/objects/build2.py:149: RuntimeWarning: divide by zero encountered in true_divide\n",
      "  catalog['radius_err'] = np.hypot(catalog['FRACDEV']**2.0 / catalog['SHAPEDEV_R_IVAR'], (1.0 - catalog['FRACDEV'])**2.0 / catalog['SHAPEEXP_R_IVAR'])\n",
      "WARNING:root:No photo obj matched to 2dF spec obj TGN183Z204 (187.11629166666665, -2.531083333333333)\n",
      "WARNING:root:No photo obj matched to 2dF spec obj TGN183Z162 (187.61149999999998, -1.8851944444444442)\n",
      "WARNING:root:No photo obj matched to 6dF spec obj g1226240-011236 (186.59999999999997, -1.2098888888888888)\n",
      "WARNING:root:No photo obj matched to 2dF spec obj TGN183Z195 (187.25766666666664, -2.275333333333333)\n",
      "WARNING:root:No photo obj matched to NSA spec obj 668184 (187.57796500067806, -1.868657280400001)\n",
      "WARNING:root:No photo obj matched to 2dF spec obj TGN183Z247 (186.67587499999996, -2.518944444444444)\n",
      "WARNING:root:No photo obj matched to AAT spec obj 305 (187.24151882894228, -1.6030213192170173)\n",
      "WARNING:root:No photo obj matched to NSA spec obj 668041 (187.29088089953234, -2.4325436585828393)\n",
      "WARNING:root:No photo obj matched to 2dF spec obj TGN183Z264 (186.3480833333333, -2.024944444444444)\n",
      "/Users/erik/miniconda3/envs/saga3/lib/python3.6/site-packages/astropy/table/column.py:965: RuntimeWarning: invalid value encountered in less\n",
      "  return getattr(self.data, op)(other)\n",
      "WARNING:root:No kcorrect module. Stellar mass not calculated!\n"
     ]
    },
    {
     "name": "stdout",
     "output_type": "stream",
     "text": [
      "[06/12 23:55:05] Write base catalog to ./base_catalogs/base_v2_nsa141465.fits.gz\n"
     ]
    }
   ],
   "source": [
    "fieldnum = 2\n",
    "idnum = 141465\n",
    "\n",
    "saga_object_catalog.build_and_write_to_database('NSA{}'.format(idnum), overwrite=fieldnum>1)"
   ]
  },
  {
   "cell_type": "code",
   "execution_count": 174,
   "metadata": {},
   "outputs": [
    {
     "name": "stdout",
     "output_type": "stream",
     "text": [
      "nsa141465\n",
      "# of flux stars = 129\n",
      "# of sky fibers = 100\n",
      "# of Priority=1 targets = 286\n",
      "# of Priority=2 targets = 4\n",
      "# of Priority=3 targets = 6\n",
      "# of Priority=4 targets = 49\n",
      "# of Priority=5 targets = 60\n",
      "# of Priority=6 targets = 15\n",
      "# of Priority=7 targets = 1\n",
      "# of Priority=8 targets = 10\n",
      "# of Priority=9 targets = 229\n",
      "Found 190 SDSS guide stars\n"
     ]
    },
    {
     "name": "stderr",
     "output_type": "stream",
     "text": [
      "/Users/erik/miniconda3/envs/saga3/lib/python3.6/site-packages/astropy/table/column.py:965: RuntimeWarning: invalid value encountered in greater\n",
      "  return getattr(self.data, op)(other)\n",
      "/Users/erik/miniconda3/envs/saga3/lib/python3.6/site-packages/astropy/table/column.py:965: RuntimeWarning: invalid value encountered in less\n",
      "  return getattr(self.data, op)(other)\n"
     ]
    },
    {
     "data": {
      "text/plain": [
       "850"
      ]
     },
     "execution_count": 174,
     "metadata": {},
     "output_type": "execute_result"
    }
   ],
   "source": [
    "host = targethosts[targethosts['NSAID'] == idnum]\n",
    "assert len(host) == 1\n",
    "host = host[0]\n",
    "\n",
    "hostname = host[host_id_label]\n",
    "print(hostname)\n",
    "tcats[hostname] = tcat = saga_targets.build_target_catalogs(hostname, return_as='list').pop()\n",
    "acats[hostname] = acat = saga.targets.prepare_aat_catalog(tcat, sky_fiber_needed=100)\n",
    "\n",
    "guidestars = get_sdss_guidestars(hostname)\n",
    "writecat = table.vstack([acat, guidestars])\n",
    "writecat['Notes'] = [n.title() for n in writecat['Notes']]\n",
    "len(writecat)"
   ]
  },
  {
   "cell_type": "code",
   "execution_count": 175,
   "metadata": {},
   "outputs": [
    {
     "data": {
      "text/html": [
       "\n",
       "    <table>\n",
       "    <tr><td>1237650762930585602<br><a href=\"http://legacysurvey.org/viewer?ra=187.15388151321895&dec=-1.6468334389989563\"><img src=\"http://legacysurvey.org/viewer/jpeg-cutout/?ra=187.1539&dec=-1.646833&zoom=15&layer=sdss&size=120\"></a></td><td>1237648702967971878<br><a href=\"http://legacysurvey.org/viewer?ra=186.8044922401201&dec=-1.0645217057830232\"><img src=\"http://legacysurvey.org/viewer/jpeg-cutout/?ra=186.8045&dec=-1.064522&zoom=15&layer=sdss&size=120\"></a></td><td>1237650372095705118<br><a href=\"http://legacysurvey.org/viewer?ra=187.2125011720542&dec=-1.354991678545816\"><img src=\"http://legacysurvey.org/viewer/jpeg-cutout/?ra=187.2125&dec=-1.354992&zoom=15&layer=sdss&size=120\"></a></td><td>1237650761856647253<br><a href=\"http://legacysurvey.org/viewer?ra=186.84588195140537&dec=-2.2869230711116506\"><img src=\"http://legacysurvey.org/viewer/jpeg-cutout/?ra=186.8459&dec=-2.286923&zoom=15&layer=sdss&size=120\"></a></td><td>1237650372095574065<br><a href=\"http://legacysurvey.org/viewer?ra=186.92219564435754&dec=-1.2597167590704699\"><img src=\"http://legacysurvey.org/viewer/jpeg-cutout/?ra=186.9222&dec=-1.259717&zoom=15&layer=sdss&size=120\"></a></td><td>1237650372095770743<br><a href=\"http://legacysurvey.org/viewer?ra=187.38684255006933&dec=-1.277904722170186\"><img src=\"http://legacysurvey.org/viewer/jpeg-cutout/?ra=187.3868&dec=-1.277905&zoom=15&layer=sdss&size=120\"></a></td></tr>\n",
       "<tr><td>1237650372095770641<br><a href=\"http://legacysurvey.org/viewer?ra=187.3200748902367&dec=-1.2796828234972897\"><img src=\"http://legacysurvey.org/viewer/jpeg-cutout/?ra=187.3201&dec=-1.279683&zoom=15&layer=sdss&size=120\"></a></td><td>1237650372095574046<br><a href=\"http://legacysurvey.org/viewer?ra=186.89738504138623&dec=-1.328220922012683\"><img src=\"http://legacysurvey.org/viewer/jpeg-cutout/?ra=186.8974&dec=-1.328221&zoom=15&layer=sdss&size=120\"></a></td><td>1237650762930716709<br><a href=\"http://legacysurvey.org/viewer?ra=187.5466863767503&dec=-1.5709258348359658\"><img src=\"http://legacysurvey.org/viewer/jpeg-cutout/?ra=187.5467&dec=-1.570926&zoom=15&layer=sdss&size=120\"></a></td><td>1237650370484961314<br><a href=\"http://legacysurvey.org/viewer?ra=186.96374606991452&dec=-2.648150223092235\"><img src=\"http://legacysurvey.org/viewer/jpeg-cutout/?ra=186.9637&dec=-2.64815&zoom=15&layer=sdss&size=120\"></a></td><td>1237650371021635646<br><a href=\"http://legacysurvey.org/viewer?ra=186.47346540581972&dec=-2.1305113617575224\"><img src=\"http://legacysurvey.org/viewer/jpeg-cutout/?ra=186.4735&dec=-2.130511&zoom=15&layer=sdss&size=120\"></a></td><td>1237650762930454563<br><a href=\"http://legacysurvey.org/viewer?ra=186.8740009664831&dec=-1.6077313055813607\"><img src=\"http://legacysurvey.org/viewer/jpeg-cutout/?ra=186.874&dec=-1.607731&zoom=15&layer=sdss&size=120\"></a></td></tr>\n",
       "<tr><td>1237650762930716746<br><a href=\"http://legacysurvey.org/viewer?ra=187.58615687836812&dec=-1.6423837458520139\"><img src=\"http://legacysurvey.org/viewer/jpeg-cutout/?ra=187.5862&dec=-1.642384&zoom=15&layer=sdss&size=120\"></a></td><td>1237650761856647224<br><a href=\"http://legacysurvey.org/viewer?ra=186.82182372525313&dec=-2.3069078582184686\"><img src=\"http://legacysurvey.org/viewer/jpeg-cutout/?ra=186.8218&dec=-2.306908&zoom=15&layer=sdss&size=120\"></a></td><td>1237650372095377524<br><a href=\"http://legacysurvey.org/viewer?ra=186.52053446506432&dec=-1.415250285426673\"><img src=\"http://legacysurvey.org/viewer/jpeg-cutout/?ra=186.5205&dec=-1.41525&zoom=15&layer=sdss&size=120\"></a></td><td>1237650371559096381<br><a href=\"http://legacysurvey.org/viewer?ra=187.81633219525952&dec=-1.8653030179145302\"><img src=\"http://legacysurvey.org/viewer/jpeg-cutout/?ra=187.8163&dec=-1.865303&zoom=15&layer=sdss&size=120\"></a></td><td>1237650761320235030<br><a href=\"http://legacysurvey.org/viewer?ra=187.78376125885816&dec=-2.7150670677546724\"><img src=\"http://legacysurvey.org/viewer/jpeg-cutout/?ra=187.7838&dec=-2.715067&zoom=15&layer=sdss&size=120\"></a></td><td>1237650372095574021<br><a href=\"http://legacysurvey.org/viewer?ra=186.84329714708718&dec=-1.4143047400049296\"><img src=\"http://legacysurvey.org/viewer/jpeg-cutout/?ra=186.8433&dec=-1.414305&zoom=15&layer=sdss&size=120\"></a></td></tr>\n",
       "<tr><td>1237650761857040440<br><a href=\"http://legacysurvey.org/viewer?ra=187.66624138763177&dec=-2.4429755444388426\"><img src=\"http://legacysurvey.org/viewer/jpeg-cutout/?ra=187.6662&dec=-2.442976&zoom=15&layer=sdss&size=120\"></a></td><td>1237650371021570106<br><a href=\"http://legacysurvey.org/viewer?ra=186.2932867164841&dec=-2.1144609766597324\"><img src=\"http://legacysurvey.org/viewer/jpeg-cutout/?ra=186.2933&dec=-2.114461&zoom=15&layer=sdss&size=120\"></a></td><td>1237650371022159971<br><a href=\"http://legacysurvey.org/viewer?ra=187.72097504381546&dec=-2.0848770192491903\"><img src=\"http://legacysurvey.org/viewer/jpeg-cutout/?ra=187.721&dec=-2.084877&zoom=15&layer=sdss&size=120\"></a></td><td>1237650372095443061<br><a href=\"http://legacysurvey.org/viewer?ra=186.6742837975881&dec=-1.2850455270824404\"><img src=\"http://legacysurvey.org/viewer/jpeg-cutout/?ra=186.6743&dec=-1.285046&zoom=15&layer=sdss&size=120\"></a></td><td>1237650762393976927<br><a href=\"http://legacysurvey.org/viewer?ra=187.8087367578982&dec=-1.9823218027372933\"><img src=\"http://legacysurvey.org/viewer/jpeg-cutout/?ra=187.8087&dec=-1.982322&zoom=15&layer=sdss&size=120\"></a></td><td>1237648702967971870<br><a href=\"http://legacysurvey.org/viewer?ra=186.7938936190033&dec=-1.0658000015310982\"><img src=\"http://legacysurvey.org/viewer/jpeg-cutout/?ra=186.7939&dec=-1.0658&zoom=15&layer=sdss&size=120\"></a></td></tr>\n",
       "<tr><td>1237650372095836214<br><a href=\"http://legacysurvey.org/viewer?ra=187.50876361960258&dec=-1.2913493226854644\"><img src=\"http://legacysurvey.org/viewer/jpeg-cutout/?ra=187.5088&dec=-1.291349&zoom=15&layer=sdss&size=120\"></a></td><td>1237650372095443062<br><a href=\"http://legacysurvey.org/viewer?ra=186.67297475344014&dec=-1.2780792830811003\"><img src=\"http://legacysurvey.org/viewer/jpeg-cutout/?ra=186.673&dec=-1.278079&zoom=15&layer=sdss&size=120\"></a></td><td>1237650371021766741<br><a href=\"http://legacysurvey.org/viewer?ra=186.8318821876985&dec=-2.1500987441548185\"><img src=\"http://legacysurvey.org/viewer/jpeg-cutout/?ra=186.8319&dec=-2.150099&zoom=15&layer=sdss&size=120\"></a></td><td>1237648702968299587<br><a href=\"http://legacysurvey.org/viewer?ra=187.63134015977988&dec=-1.1609019463067844\"><img src=\"http://legacysurvey.org/viewer/jpeg-cutout/?ra=187.6313&dec=-1.160902&zoom=15&layer=sdss&size=120\"></a></td><td>1237650372095901734<br><a href=\"http://legacysurvey.org/viewer?ra=187.67049848040938&dec=-1.436387023806355\"><img src=\"http://legacysurvey.org/viewer/jpeg-cutout/?ra=187.6705&dec=-1.436387&zoom=15&layer=sdss&size=120\"></a></td><td>1237650370485223461<br><a href=\"http://legacysurvey.org/viewer?ra=187.4936623868664&dec=-2.6672166705023206\"><img src=\"http://legacysurvey.org/viewer/jpeg-cutout/?ra=187.4937&dec=-2.667217&zoom=15&layer=sdss&size=120\"></a></td></tr>\n",
       "<tr><td>1237650371022290959<br><a href=\"http://legacysurvey.org/viewer?ra=187.91581798474877&dec=-2.193810520677437\"><img src=\"http://legacysurvey.org/viewer/jpeg-cutout/?ra=187.9158&dec=-2.193811&zoom=15&layer=sdss&size=120\"></a></td><td>1237650371021570160<br><a href=\"http://legacysurvey.org/viewer?ra=186.36153768434295&dec=-2.169830574050274\"><img src=\"http://legacysurvey.org/viewer/jpeg-cutout/?ra=186.3615&dec=-2.169831&zoom=15&layer=sdss&size=120\"></a></td><td>1237648720160096345<br><a href=\"http://legacysurvey.org/viewer?ra=187.13908065938557&dec=-0.9420693618934978\"><img src=\"http://legacysurvey.org/viewer/jpeg-cutout/?ra=187.1391&dec=-0.9420694&zoom=15&layer=sdss&size=120\"></a></td><td>1237650762930847781<br><a href=\"http://legacysurvey.org/viewer?ra=187.79714388767718&dec=-1.5300537416013504\"><img src=\"http://legacysurvey.org/viewer/jpeg-cutout/?ra=187.7971&dec=-1.530054&zoom=15&layer=sdss&size=120\"></a></td><td>1237650372096032771<br><a href=\"http://legacysurvey.org/viewer?ra=187.88569861785226&dec=-1.443100943667287\"><img src=\"http://legacysurvey.org/viewer/jpeg-cutout/?ra=187.8857&dec=-1.443101&zoom=15&layer=sdss&size=120\"></a></td><td>1237650372096032824<br><a href=\"http://legacysurvey.org/viewer?ra=187.99030435191105&dec=-1.3432953878071334\"><img src=\"http://legacysurvey.org/viewer/jpeg-cutout/?ra=187.9903&dec=-1.343295&zoom=15&layer=sdss&size=120\"></a></td></tr>\n",
       "<tr><td>1237650762930454573<br><a href=\"http://legacysurvey.org/viewer?ra=186.8797128449053&dec=-1.5747049519539535\"><img src=\"http://legacysurvey.org/viewer/jpeg-cutout/?ra=186.8797&dec=-1.574705&zoom=15&layer=sdss&size=120\"></a></td><td>1237650762930257991<br><a href=\"http://legacysurvey.org/viewer?ra=186.46398920075336&dec=-1.4815567834660515\"><img src=\"http://legacysurvey.org/viewer/jpeg-cutout/?ra=186.464&dec=-1.481557&zoom=15&layer=sdss&size=120\"></a></td><td>1237648702968037446<br><a href=\"http://legacysurvey.org/viewer?ra=187.0077180336283&dec=-1.0917436077168918\"><img src=\"http://legacysurvey.org/viewer/jpeg-cutout/?ra=187.0077&dec=-1.091744&zoom=15&layer=sdss&size=120\"></a></td><td>1237650371559096352<br><a href=\"http://legacysurvey.org/viewer?ra=187.792592903555&dec=-1.656478240910243\"><img src=\"http://legacysurvey.org/viewer/jpeg-cutout/?ra=187.7926&dec=-1.656478&zoom=15&layer=sdss&size=120\"></a></td><td>1237650372095770667<br><a href=\"http://legacysurvey.org/viewer?ra=187.3378882048084&dec=-1.3676286043610317\"><img src=\"http://legacysurvey.org/viewer/jpeg-cutout/?ra=187.3379&dec=-1.367629&zoom=15&layer=sdss&size=120\"></a></td><td>1237650372095836246<br><a href=\"http://legacysurvey.org/viewer?ra=187.53376371130383&dec=-1.2944784776824574\"><img src=\"http://legacysurvey.org/viewer/jpeg-cutout/?ra=187.5338&dec=-1.294478&zoom=15&layer=sdss&size=120\"></a></td></tr>\n",
       "<tr><td>1237650371021635610<br><a href=\"http://legacysurvey.org/viewer?ra=186.40668411009125&dec=-2.188955727281948\"><img src=\"http://legacysurvey.org/viewer/jpeg-cutout/?ra=186.4067&dec=-2.188956&zoom=15&layer=sdss&size=120\"></a></td><td>1237650762930389010<br><a href=\"http://legacysurvey.org/viewer?ra=186.76359029749477&dec=-1.6285383035154872\"><img src=\"http://legacysurvey.org/viewer/jpeg-cutout/?ra=186.7636&dec=-1.628538&zoom=15&layer=sdss&size=120\"></a></td><td>1237650762394042397<br><a href=\"http://legacysurvey.org/viewer?ra=187.93088780747973&dec=-1.9630695728573895\"><img src=\"http://legacysurvey.org/viewer/jpeg-cutout/?ra=187.9309&dec=-1.96307&zoom=15&layer=sdss&size=120\"></a></td><td>1237650369948287024<br><a href=\"http://legacysurvey.org/viewer?ra=187.35533430909848&dec=-2.9174865614808585\"><img src=\"http://legacysurvey.org/viewer/jpeg-cutout/?ra=187.3553&dec=-2.917487&zoom=15&layer=sdss&size=120\"></a></td><td>1237650371021766758<br><a href=\"http://legacysurvey.org/viewer?ra=186.83590163007&dec=-2.2802932238256193\"><img src=\"http://legacysurvey.org/viewer/jpeg-cutout/?ra=186.8359&dec=-2.280293&zoom=15&layer=sdss&size=120\"></a></td><td>1237650370485092394<br><a href=\"http://legacysurvey.org/viewer?ra=187.22016261043677&dec=-2.537690957924235\"><img src=\"http://legacysurvey.org/viewer/jpeg-cutout/?ra=187.2202&dec=-2.537691&zoom=15&layer=sdss&size=120\"></a></td></tr>\n",
       "<tr><td>1237650762393321549<br><a href=\"http://legacysurvey.org/viewer?ra=186.37797624287873&dec=-1.9843876532807134\"><img src=\"http://legacysurvey.org/viewer/jpeg-cutout/?ra=186.378&dec=-1.984388&zoom=15&layer=sdss&size=120\"></a></td><td>1237650372095574090<br><a href=\"http://legacysurvey.org/viewer?ra=186.95382823254647&dec=-1.2696232971810417\"><img src=\"http://legacysurvey.org/viewer/jpeg-cutout/?ra=186.9538&dec=-1.269623&zoom=15&layer=sdss&size=120\"></a></td><td>1237650761319907335<br><a href=\"http://legacysurvey.org/viewer?ra=187.0346785421991&dec=-2.7630673019927205\"><img src=\"http://legacysurvey.org/viewer/jpeg-cutout/?ra=187.0347&dec=-2.763067&zoom=15&layer=sdss&size=120\"></a></td><td>1237650762930257957<br><a href=\"http://legacysurvey.org/viewer?ra=186.4190339488373&dec=-1.5266662084512466\"><img src=\"http://legacysurvey.org/viewer/jpeg-cutout/?ra=186.419&dec=-1.526666&zoom=15&layer=sdss&size=120\"></a></td><td>1237650370485092378<br><a href=\"http://legacysurvey.org/viewer?ra=187.16504042098308&dec=-2.6389800173426945\"><img src=\"http://legacysurvey.org/viewer/jpeg-cutout/?ra=187.165&dec=-2.63898&zoom=15&layer=sdss&size=120\"></a></td><td>1237650370485354586<br><a href=\"http://legacysurvey.org/viewer?ra=187.87263570412847&dec=-2.6327465349841352\"><img src=\"http://legacysurvey.org/viewer/jpeg-cutout/?ra=187.8726&dec=-2.632747&zoom=15&layer=sdss&size=120\"></a></td></tr>\n",
       "<tr><td>1237650762393583651<br><a href=\"http://legacysurvey.org/viewer?ra=186.9156618172214&dec=-1.9207065866081825\"><img src=\"http://legacysurvey.org/viewer/jpeg-cutout/?ra=186.9157&dec=-1.920707&zoom=15&layer=sdss&size=120\"></a></td><td>1237648720160161888<br><a href=\"http://legacysurvey.org/viewer?ra=187.26146954420318&dec=-1.0185153783663095\"><img src=\"http://legacysurvey.org/viewer/jpeg-cutout/?ra=187.2615&dec=-1.018515&zoom=15&layer=sdss&size=120\"></a></td><td>1237650370485223429<br><a href=\"http://legacysurvey.org/viewer?ra=187.4407105619915&dec=-2.549219890533227\"><img src=\"http://legacysurvey.org/viewer/jpeg-cutout/?ra=187.4407&dec=-2.54922&zoom=15&layer=sdss&size=120\"></a></td><td>1237650370485092401<br><a href=\"http://legacysurvey.org/viewer?ra=187.22481364273614&dec=-2.565909322250153\"><img src=\"http://legacysurvey.org/viewer/jpeg-cutout/?ra=187.2248&dec=-2.565909&zoom=15&layer=sdss&size=120\"></a></td><td>1237650371021897731<br><a href=\"http://legacysurvey.org/viewer?ra=186.98792313831996&dec=-2.1242806023695717\"><img src=\"http://legacysurvey.org/viewer/jpeg-cutout/?ra=186.9879&dec=-2.124281&zoom=15&layer=sdss&size=120\"></a></td><td>1237650370485092425<br><a href=\"http://legacysurvey.org/viewer?ra=187.24089941601198&dec=-2.538027572045508\"><img src=\"http://legacysurvey.org/viewer/jpeg-cutout/?ra=187.2409&dec=-2.538028&zoom=15&layer=sdss&size=120\"></a></td></tr>\n",
       "<tr><td>1237650370484830244<br><a href=\"http://legacysurvey.org/viewer?ra=186.58911072278525&dec=-2.549480747722656\"><img src=\"http://legacysurvey.org/viewer/jpeg-cutout/?ra=186.5891&dec=-2.549481&zoom=15&layer=sdss&size=120\"></a></td><td>1237650371021701211<br><a href=\"http://legacysurvey.org/viewer?ra=186.63711345681216&dec=-2.1650407562165563\"><img src=\"http://legacysurvey.org/viewer/jpeg-cutout/?ra=186.6371&dec=-2.165041&zoom=15&layer=sdss&size=120\"></a></td><td>1237650762930716679<br><a href=\"http://legacysurvey.org/viewer?ra=187.4721112749699&dec=-1.6371160490464856\"><img src=\"http://legacysurvey.org/viewer/jpeg-cutout/?ra=187.4721&dec=-1.637116&zoom=15&layer=sdss&size=120\"></a></td><td>1237648702968299571<br><a href=\"http://legacysurvey.org/viewer?ra=187.6238217149251&dec=-1.197007296679628\"><img src=\"http://legacysurvey.org/viewer/jpeg-cutout/?ra=187.6238&dec=-1.197007&zoom=15&layer=sdss&size=120\"></a></td><td>1237650762930454613<br><a href=\"http://legacysurvey.org/viewer?ra=186.94763166335687&dec=-1.6358457171178344\"><img src=\"http://legacysurvey.org/viewer/jpeg-cutout/?ra=186.9476&dec=-1.635846&zoom=15&layer=sdss&size=120\"></a></td><td>1237650372095639583<br><a href=\"http://legacysurvey.org/viewer?ra=187.0459787166306&dec=-1.425592068870429\"><img src=\"http://legacysurvey.org/viewer/jpeg-cutout/?ra=187.046&dec=-1.425592&zoom=15&layer=sdss&size=120\"></a></td></tr>\n",
       "<tr><td>1237650371558506551<br><a href=\"http://legacysurvey.org/viewer?ra=186.46465550741306&dec=-1.726786193733749\"><img src=\"http://legacysurvey.org/viewer/jpeg-cutout/?ra=186.4647&dec=-1.726786&zoom=15&layer=sdss&size=120\"></a></td><td>1237650372095967250<br><a href=\"http://legacysurvey.org/viewer?ra=187.7687939077284&dec=-1.2668170112211707\"><img src=\"http://legacysurvey.org/viewer/jpeg-cutout/?ra=187.7688&dec=-1.266817&zoom=15&layer=sdss&size=120\"></a></td><td>1237650370485092432<br><a href=\"http://legacysurvey.org/viewer?ra=187.2562018603556&dec=-2.583363941637472\"><img src=\"http://legacysurvey.org/viewer/jpeg-cutout/?ra=187.2562&dec=-2.583364&zoom=15&layer=sdss&size=120\"></a></td><td>1237650762393976978<br><a href=\"http://legacysurvey.org/viewer?ra=187.86752394549853&dec=-1.8947862414562877\"><img src=\"http://legacysurvey.org/viewer/jpeg-cutout/?ra=187.8675&dec=-1.894786&zoom=15&layer=sdss&size=120\"></a></td><td>1237650371022028929<br><a href=\"http://legacysurvey.org/viewer?ra=187.4055591146266&dec=-2.1207775148618757\"><img src=\"http://legacysurvey.org/viewer/jpeg-cutout/?ra=187.4056&dec=-2.120778&zoom=15&layer=sdss&size=120\"></a></td><td>1237650762930913304<br><a href=\"http://legacysurvey.org/viewer?ra=187.92200658570158&dec=-1.644209657481972\"><img src=\"http://legacysurvey.org/viewer/jpeg-cutout/?ra=187.922&dec=-1.64421&zoom=15&layer=sdss&size=120\"></a></td></tr>\n",
       "<tr><td>1237650372095836190<br><a href=\"http://legacysurvey.org/viewer?ra=187.4723119348271&dec=-1.2932455094841226\"><img src=\"http://legacysurvey.org/viewer/jpeg-cutout/?ra=187.4723&dec=-1.293246&zoom=15&layer=sdss&size=120\"></a></td><td>1237650761320169543<br><a href=\"http://legacysurvey.org/viewer?ra=187.66995820943652&dec=-2.7471559446385325\"><img src=\"http://legacysurvey.org/viewer/jpeg-cutout/?ra=187.67&dec=-2.747156&zoom=15&layer=sdss&size=120\"></a></td><td>1237648702968299545<br><a href=\"http://legacysurvey.org/viewer?ra=187.5539765258295&dec=-1.2256063413981881\"><img src=\"http://legacysurvey.org/viewer/jpeg-cutout/?ra=187.554&dec=-1.225606&zoom=15&layer=sdss&size=120\"></a></td><td>1237650371558637575<br><a href=\"http://legacysurvey.org/viewer?ra=186.69246201762166&dec=-1.8601066872222938\"><img src=\"http://legacysurvey.org/viewer/jpeg-cutout/?ra=186.6925&dec=-1.860107&zoom=15&layer=sdss&size=120\"></a></td><td>1237650371022159910<br><a href=\"http://legacysurvey.org/viewer?ra=187.58631991637424&dec=-2.201733274579174\"><img src=\"http://legacysurvey.org/viewer/jpeg-cutout/?ra=187.5863&dec=-2.201733&zoom=15&layer=sdss&size=120\"></a></td><td>1237650762930651179<br><a href=\"http://legacysurvey.org/viewer?ra=187.34330041003693&dec=-1.6390261582865964\"><img src=\"http://legacysurvey.org/viewer/jpeg-cutout/?ra=187.3433&dec=-1.639026&zoom=15&layer=sdss&size=120\"></a></td></tr>\n",
       "<tr><td>1237650370484895791<br><a href=\"http://legacysurvey.org/viewer?ra=186.76561081591004&dec=-2.5587316149863653\"><img src=\"http://legacysurvey.org/viewer/jpeg-cutout/?ra=186.7656&dec=-2.558732&zoom=15&layer=sdss&size=120\"></a></td><td>1237650762930716684<br><a href=\"http://legacysurvey.org/viewer?ra=187.47856511626708&dec=-1.654657262729081\"><img src=\"http://legacysurvey.org/viewer/jpeg-cutout/?ra=187.4786&dec=-1.654657&zoom=15&layer=sdss&size=120\"></a></td><td>1237648720160096371<br><a href=\"http://legacysurvey.org/viewer?ra=187.16358683007968&dec=-0.9642590811802686\"><img src=\"http://legacysurvey.org/viewer/jpeg-cutout/?ra=187.1636&dec=-0.9642591&zoom=15&layer=sdss&size=120\"></a></td><td>1237650371022094367<br><a href=\"http://legacysurvey.org/viewer?ra=187.51558794012024&dec=-2.1131470075132004\"><img src=\"http://legacysurvey.org/viewer/jpeg-cutout/?ra=187.5156&dec=-2.113147&zoom=15&layer=sdss&size=120\"></a></td><td>1237650762930782258<br><a href=\"http://legacysurvey.org/viewer?ra=187.72395634522036&dec=-1.5169026333318052\"><img src=\"http://legacysurvey.org/viewer/jpeg-cutout/?ra=187.724&dec=-1.516903&zoom=15&layer=sdss&size=120\"></a></td><td>1237650370485157948<br><a href=\"http://legacysurvey.org/viewer?ra=187.42528464915495&dec=-2.5034061418955345\"><img src=\"http://legacysurvey.org/viewer/jpeg-cutout/?ra=187.4253&dec=-2.503406&zoom=15&layer=sdss&size=120\"></a></td></tr>\n",
       "<tr><td>1237650371558637669<br><a href=\"http://legacysurvey.org/viewer?ra=186.80899650156562&dec=-1.785555227343806\"><img src=\"http://legacysurvey.org/viewer/jpeg-cutout/?ra=186.809&dec=-1.785555&zoom=15&layer=sdss&size=120\"></a></td><td>1237650372095574056<br><a href=\"http://legacysurvey.org/viewer?ra=186.91002807737254&dec=-1.4470723915940802\"><img src=\"http://legacysurvey.org/viewer/jpeg-cutout/?ra=186.91&dec=-1.447072&zoom=15&layer=sdss&size=120\"></a></td><td>1237650762930913381<br><a href=\"http://legacysurvey.org/viewer?ra=188.02297271979882&dec=-1.505227288568493\"><img src=\"http://legacysurvey.org/viewer/jpeg-cutout/?ra=188.023&dec=-1.505227&zoom=15&layer=sdss&size=120\"></a></td><td>1237650371021832260<br><a href=\"http://legacysurvey.org/viewer?ra=186.92136126401908&dec=-2.1365684909639553\"><img src=\"http://legacysurvey.org/viewer/jpeg-cutout/?ra=186.9214&dec=-2.136568&zoom=15&layer=sdss&size=120\"></a></td><td>1237648702968102917<br><a href=\"http://legacysurvey.org/viewer?ra=187.09087278169665&dec=-1.172238712391717\"><img src=\"http://legacysurvey.org/viewer/jpeg-cutout/?ra=187.0909&dec=-1.172239&zoom=15&layer=sdss&size=120\"></a></td><td>1237650762930782226<br><a href=\"http://legacysurvey.org/viewer?ra=187.62022706965075&dec=-1.628047353884717\"><img src=\"http://legacysurvey.org/viewer/jpeg-cutout/?ra=187.6202&dec=-1.628047&zoom=15&layer=sdss&size=120\"></a></td></tr>\n",
       "<tr><td>1237650372095311946<br><a href=\"http://legacysurvey.org/viewer?ra=186.3693633834958&dec=-1.4388937517040707\"><img src=\"http://legacysurvey.org/viewer/jpeg-cutout/?ra=186.3694&dec=-1.438894&zoom=15&layer=sdss&size=120\"></a></td><td>1237648702967840810<br><a href=\"http://legacysurvey.org/viewer?ra=186.52320816877887&dec=-1.2170197293793632\"><img src=\"http://legacysurvey.org/viewer/jpeg-cutout/?ra=186.5232&dec=-1.21702&zoom=15&layer=sdss&size=120\"></a></td><td>1237650370485354514<br><a href=\"http://legacysurvey.org/viewer?ra=187.7632242795525&dec=-2.527444761657598\"><img src=\"http://legacysurvey.org/viewer/jpeg-cutout/?ra=187.7632&dec=-2.527445&zoom=15&layer=sdss&size=120\"></a></td><td>1237650369948286983<br><a href=\"http://legacysurvey.org/viewer?ra=187.3173502025318&dec=-2.9224409246403233\"><img src=\"http://legacysurvey.org/viewer/jpeg-cutout/?ra=187.3174&dec=-2.922441&zoom=15&layer=sdss&size=120\"></a></td><td>1237650370485092367<br><a href=\"http://legacysurvey.org/viewer?ra=187.1607867712829&dec=-2.6743227808877665\"><img src=\"http://legacysurvey.org/viewer/jpeg-cutout/?ra=187.1608&dec=-2.674323&zoom=15&layer=sdss&size=120\"></a></td><td>1237650761856516147<br><a href=\"http://legacysurvey.org/viewer?ra=186.4972971895922&dec=-2.4564026165354838\"><img src=\"http://legacysurvey.org/viewer/jpeg-cutout/?ra=186.4973&dec=-2.456403&zoom=15&layer=sdss&size=120\"></a></td></tr>\n",
       "<tr><td>1237650762930913292<br><a href=\"http://legacysurvey.org/viewer?ra=187.90703329030896&dec=-1.6174147697516148\"><img src=\"http://legacysurvey.org/viewer/jpeg-cutout/?ra=187.907&dec=-1.617415&zoom=15&layer=sdss&size=120\"></a></td><td>1237650762930585611<br><a href=\"http://legacysurvey.org/viewer?ra=187.19231164256385&dec=-1.6215284690073581\"><img src=\"http://legacysurvey.org/viewer/jpeg-cutout/?ra=187.1923&dec=-1.621528&zoom=15&layer=sdss&size=120\"></a></td><td>1237650370485026857<br><a href=\"http://legacysurvey.org/viewer?ra=187.099994320235&dec=-2.6402598582876085\"><img src=\"http://legacysurvey.org/viewer/jpeg-cutout/?ra=187.1&dec=-2.64026&zoom=15&layer=sdss&size=120\"></a></td><td>1237650370485288993<br><a href=\"http://legacysurvey.org/viewer?ra=187.68449249956208&dec=-2.6189192382132576\"><img src=\"http://legacysurvey.org/viewer/jpeg-cutout/?ra=187.6845&dec=-2.618919&zoom=15&layer=sdss&size=120\"></a></td><td>1237650372095836201<br><a href=\"http://legacysurvey.org/viewer?ra=187.48701157710906&dec=-1.2731164856269983\"><img src=\"http://legacysurvey.org/viewer/jpeg-cutout/?ra=187.487&dec=-1.273116&zoom=15&layer=sdss&size=120\"></a></td><td>1237650371022159963<br><a href=\"http://legacysurvey.org/viewer?ra=187.71967813120054&dec=-2.176965348590455\"><img src=\"http://legacysurvey.org/viewer/jpeg-cutout/?ra=187.7197&dec=-2.176965&zoom=15&layer=sdss&size=120\"></a></td></tr>\n",
       "<tr><td>1237650370485092411<br><a href=\"http://legacysurvey.org/viewer?ra=187.2264336299936&dec=-2.5950347282718984\"><img src=\"http://legacysurvey.org/viewer/jpeg-cutout/?ra=187.2264&dec=-2.595035&zoom=15&layer=sdss&size=120\"></a></td><td>1237650372095836177<br><a href=\"http://legacysurvey.org/viewer?ra=187.45971264842393&dec=-1.2858399248218622\"><img src=\"http://legacysurvey.org/viewer/jpeg-cutout/?ra=187.4597&dec=-1.28584&zoom=15&layer=sdss&size=120\"></a></td><td>1237650761856974913<br><a href=\"http://legacysurvey.org/viewer?ra=187.56754204570296&dec=-2.4462525181836843\"><img src=\"http://legacysurvey.org/viewer/jpeg-cutout/?ra=187.5675&dec=-2.446253&zoom=15&layer=sdss&size=120\"></a></td><td>1237650761857171463<br><a href=\"http://legacysurvey.org/viewer?ra=187.929414425493&dec=-2.374277605543761\"><img src=\"http://legacysurvey.org/viewer/jpeg-cutout/?ra=187.9294&dec=-2.374278&zoom=15&layer=sdss&size=120\"></a></td><td>1237650761856778296<br><a href=\"http://legacysurvey.org/viewer?ra=187.14659777654657&dec=-2.291281853056105\"><img src=\"http://legacysurvey.org/viewer/jpeg-cutout/?ra=187.1466&dec=-2.291282&zoom=15&layer=sdss&size=120\"></a></td><td>1237650762930585619<br><a href=\"http://legacysurvey.org/viewer?ra=187.21426504673082&dec=-1.614693927905487\"><img src=\"http://legacysurvey.org/viewer/jpeg-cutout/?ra=187.2143&dec=-1.614694&zoom=15&layer=sdss&size=120\"></a></td></tr>\n",
       "<tr><td>1237650761319972869<br><a href=\"http://legacysurvey.org/viewer?ra=187.17273879230157&dec=-2.7747867823756978\"><img src=\"http://legacysurvey.org/viewer/jpeg-cutout/?ra=187.1727&dec=-2.774787&zoom=15&layer=sdss&size=120\"></a></td><td>1237650371021766659<br><a href=\"http://legacysurvey.org/viewer?ra=186.70249650902878&dec=-2.170719693194455\"><img src=\"http://legacysurvey.org/viewer/jpeg-cutout/?ra=186.7025&dec=-2.17072&zoom=15&layer=sdss&size=120\"></a></td><td>1237650762393321543<br><a href=\"http://legacysurvey.org/viewer?ra=186.3695886675137&dec=-1.9379465174042452\"><img src=\"http://legacysurvey.org/viewer/jpeg-cutout/?ra=186.3696&dec=-1.937947&zoom=15&layer=sdss&size=120\"></a></td><td>1237650372095901758<br><a href=\"http://legacysurvey.org/viewer?ra=187.72576029982966&dec=-1.3525143905770058\"><img src=\"http://legacysurvey.org/viewer/jpeg-cutout/?ra=187.7258&dec=-1.352514&zoom=15&layer=sdss&size=120\"></a></td><td>1237648702968299525<br><a href=\"http://legacysurvey.org/viewer?ra=187.5124661333827&dec=-1.2256597572674575\"><img src=\"http://legacysurvey.org/viewer/jpeg-cutout/?ra=187.5125&dec=-1.22566&zoom=15&layer=sdss&size=120\"></a></td><td>1237648720160292929<br><a href=\"http://legacysurvey.org/viewer?ra=187.50054655376354&dec=-1.0177202010001931\"><img src=\"http://legacysurvey.org/viewer/jpeg-cutout/?ra=187.5005&dec=-1.01772&zoom=15&layer=sdss&size=120\"></a></td></tr>\n",
       "<tr><td>1237650761856778288<br><a href=\"http://legacysurvey.org/viewer?ra=187.13620603789366&dec=-2.3247909951606096\"><img src=\"http://legacysurvey.org/viewer/jpeg-cutout/?ra=187.1362&dec=-2.324791&zoom=15&layer=sdss&size=120\"></a></td><td>1237648702968037418<br><a href=\"http://legacysurvey.org/viewer?ra=186.98885782241462&dec=-1.2088779804946372\"><img src=\"http://legacysurvey.org/viewer/jpeg-cutout/?ra=186.9889&dec=-1.208878&zoom=15&layer=sdss&size=120\"></a></td><td>1237648702968365077<br><a href=\"http://legacysurvey.org/viewer?ra=187.7299336541687&dec=-1.0913320096354444\"><img src=\"http://legacysurvey.org/viewer/jpeg-cutout/?ra=187.7299&dec=-1.091332&zoom=15&layer=sdss&size=120\"></a></td><td>1237650762393583623<br><a href=\"http://legacysurvey.org/viewer?ra=186.8818893724129&dec=-2.002376379193468\"><img src=\"http://legacysurvey.org/viewer/jpeg-cutout/?ra=186.8819&dec=-2.002376&zoom=15&layer=sdss&size=120\"></a></td><td>1237650762930716732<br><a href=\"http://legacysurvey.org/viewer?ra=187.5658279384706&dec=-1.4582603328757775\"><img src=\"http://legacysurvey.org/viewer/jpeg-cutout/?ra=187.5658&dec=-1.45826&zoom=15&layer=sdss&size=120\"></a></td><td>1237650371021570066<br><a href=\"http://legacysurvey.org/viewer?ra=186.28181560513292&dec=-2.1604402538868315\"><img src=\"http://legacysurvey.org/viewer/jpeg-cutout/?ra=186.2818&dec=-2.16044&zoom=15&layer=sdss&size=120\"></a></td></tr>\n",
       "<tr><td>1237650371558899731<br><a href=\"http://legacysurvey.org/viewer?ra=187.3026191728554&dec=-1.669095185065865\"><img src=\"http://legacysurvey.org/viewer/jpeg-cutout/?ra=187.3026&dec=-1.669095&zoom=15&layer=sdss&size=120\"></a></td><td>1237650371021701210<br><a href=\"http://legacysurvey.org/viewer?ra=186.6385403741735&dec=-2.1682783966459813\"><img src=\"http://legacysurvey.org/viewer/jpeg-cutout/?ra=186.6385&dec=-2.168278&zoom=15&layer=sdss&size=120\"></a></td><td>1237648702968037441<br><a href=\"http://legacysurvey.org/viewer?ra=187.00457283011158&dec=-1.0634873217826175\"><img src=\"http://legacysurvey.org/viewer/jpeg-cutout/?ra=187.0046&dec=-1.063487&zoom=15&layer=sdss&size=120\"></a></td><td>1237650371021897737<br><a href=\"http://legacysurvey.org/viewer?ra=187.0040332427027&dec=-2.2284104070753297\"><img src=\"http://legacysurvey.org/viewer/jpeg-cutout/?ra=187.004&dec=-2.22841&zoom=15&layer=sdss&size=120\"></a></td><td>1237650371021766685<br><a href=\"http://legacysurvey.org/viewer?ra=186.7528849085814&dec=-2.1621843671792975\"><img src=\"http://legacysurvey.org/viewer/jpeg-cutout/?ra=186.7529&dec=-2.162184&zoom=15&layer=sdss&size=120\"></a></td><td>1237650762394107933<br><a href=\"http://legacysurvey.org/viewer?ra=188.08805592739728&dec=-1.8925781369363486\"><img src=\"http://legacysurvey.org/viewer/jpeg-cutout/?ra=188.0881&dec=-1.892578&zoom=15&layer=sdss&size=120\"></a></td></tr>\n",
       "<tr><td>1237650762930585679<br><a href=\"http://legacysurvey.org/viewer?ra=187.29925952550323&dec=-1.6561162534621052\"><img src=\"http://legacysurvey.org/viewer/jpeg-cutout/?ra=187.2993&dec=-1.656116&zoom=15&layer=sdss&size=120\"></a></td><td>1237650762930913293<br><a href=\"http://legacysurvey.org/viewer?ra=187.90683556073276&dec=-1.6185167117859722\"><img src=\"http://legacysurvey.org/viewer/jpeg-cutout/?ra=187.9068&dec=-1.618517&zoom=15&layer=sdss&size=120\"></a></td><td>1237650371558637676<br><a href=\"http://legacysurvey.org/viewer?ra=186.81326312623452&dec=-1.7048708186046582\"><img src=\"http://legacysurvey.org/viewer/jpeg-cutout/?ra=186.8133&dec=-1.704871&zoom=15&layer=sdss&size=120\"></a></td><td>1237650762393518146<br><a href=\"http://legacysurvey.org/viewer?ra=186.79425015750581&dec=-2.0412954714935085\"><img src=\"http://legacysurvey.org/viewer/jpeg-cutout/?ra=186.7943&dec=-2.041295&zoom=15&layer=sdss&size=120\"></a></td><td>1237650371021635597<br><a href=\"http://legacysurvey.org/viewer?ra=186.3990222230638&dec=-2.2033845841817383\"><img src=\"http://legacysurvey.org/viewer/jpeg-cutout/?ra=186.399&dec=-2.203385&zoom=15&layer=sdss&size=120\"></a></td><td>1237650762930454603<br><a href=\"http://legacysurvey.org/viewer?ra=186.92965837390113&dec=-1.567810328579545\"><img src=\"http://legacysurvey.org/viewer/jpeg-cutout/?ra=186.9297&dec=-1.56781&zoom=15&layer=sdss&size=120\"></a></td></tr>\n",
       "<tr><td>1237650372095574079<br><a href=\"http://legacysurvey.org/viewer?ra=186.9473940961485&dec=-1.3528007967332423\"><img src=\"http://legacysurvey.org/viewer/jpeg-cutout/?ra=186.9474&dec=-1.352801&zoom=15&layer=sdss&size=120\"></a></td><td>1237650370485092389<br><a href=\"http://legacysurvey.org/viewer?ra=187.2091328659662&dec=-2.5984834617804164\"><img src=\"http://legacysurvey.org/viewer/jpeg-cutout/?ra=187.2091&dec=-2.598483&zoom=15&layer=sdss&size=120\"></a></td><td>1237650371021570181<br><a href=\"http://legacysurvey.org/viewer?ra=186.3720536057583&dec=-2.1421564363695422\"><img src=\"http://legacysurvey.org/viewer/jpeg-cutout/?ra=186.3721&dec=-2.142156&zoom=15&layer=sdss&size=120\"></a></td><td>1237648702968037425<br><a href=\"http://legacysurvey.org/viewer?ra=186.9899754600761&dec=-1.1042227044172954\"><img src=\"http://legacysurvey.org/viewer/jpeg-cutout/?ra=186.99&dec=-1.104223&zoom=15&layer=sdss&size=120\"></a></td><td>1237650762930257978<br><a href=\"http://legacysurvey.org/viewer?ra=186.45504185554876&dec=-1.6233328656260904\"><img src=\"http://legacysurvey.org/viewer/jpeg-cutout/?ra=186.455&dec=-1.623333&zoom=15&layer=sdss&size=120\"></a></td><td>1237650370484764729<br><a href=\"http://legacysurvey.org/viewer?ra=186.50477266038826&dec=-2.6037385269037334\"><img src=\"http://legacysurvey.org/viewer/jpeg-cutout/?ra=186.5048&dec=-2.603739&zoom=15&layer=sdss&size=120\"></a></td></tr>\n",
       "<tr><td>1237648702967840852<br><a href=\"http://legacysurvey.org/viewer?ra=186.5560259898906&dec=-1.2531694188632634\"><img src=\"http://legacysurvey.org/viewer/jpeg-cutout/?ra=186.556&dec=-1.253169&zoom=15&layer=sdss&size=120\"></a></td><td>1237648720160161897<br><a href=\"http://legacysurvey.org/viewer?ra=187.27761614289457&dec=-0.9653988628015151\"><img src=\"http://legacysurvey.org/viewer/jpeg-cutout/?ra=187.2776&dec=-0.9653989&zoom=15&layer=sdss&size=120\"></a></td><td>1237650371022291003<br><a href=\"http://legacysurvey.org/viewer?ra=187.993113021984&dec=-2.202343026904638\"><img src=\"http://legacysurvey.org/viewer/jpeg-cutout/?ra=187.9931&dec=-2.202343&zoom=15&layer=sdss&size=120\"></a></td><td>1237650762930454609<br><a href=\"http://legacysurvey.org/viewer?ra=186.93776017959016&dec=-1.5413738675907345\"><img src=\"http://legacysurvey.org/viewer/jpeg-cutout/?ra=186.9378&dec=-1.541374&zoom=15&layer=sdss&size=120\"></a></td><td>1237648702968102985<br><a href=\"http://legacysurvey.org/viewer?ra=187.15889310314068&dec=-1.1095044334761262\"><img src=\"http://legacysurvey.org/viewer/jpeg-cutout/?ra=187.1589&dec=-1.109504&zoom=15&layer=sdss&size=120\"></a></td><td>1237650370485026840<br><a href=\"http://legacysurvey.org/viewer?ra=187.07835268969959&dec=-2.5981577692871696\"><img src=\"http://legacysurvey.org/viewer/jpeg-cutout/?ra=187.0784&dec=-2.598158&zoom=15&layer=sdss&size=120\"></a></td></tr>\n",
       "<tr><td>1237650371021635631<br><a href=\"http://legacysurvey.org/viewer?ra=186.45649830580038&dec=-2.2495678367720657\"><img src=\"http://legacysurvey.org/viewer/jpeg-cutout/?ra=186.4565&dec=-2.249568&zoom=15&layer=sdss&size=120\"></a></td><td>1237650372095705169<br><a href=\"http://legacysurvey.org/viewer?ra=187.27394913486376&dec=-1.4135639802349023\"><img src=\"http://legacysurvey.org/viewer/jpeg-cutout/?ra=187.2739&dec=-1.413564&zoom=15&layer=sdss&size=120\"></a></td><td>1237650761856974928<br><a href=\"http://legacysurvey.org/viewer?ra=187.58065472823827&dec=-2.3527673514998844\"><img src=\"http://legacysurvey.org/viewer/jpeg-cutout/?ra=187.5807&dec=-2.352767&zoom=15&layer=sdss&size=120\"></a></td><td>1237650762393976988<br><a href=\"http://legacysurvey.org/viewer?ra=187.8747218693689&dec=-1.8698912085937354\"><img src=\"http://legacysurvey.org/viewer/jpeg-cutout/?ra=187.8747&dec=-1.869891&zoom=15&layer=sdss&size=120\"></a></td><td>1237650762393518108<br><a href=\"http://legacysurvey.org/viewer?ra=186.7301157905253&dec=-1.988378411670245\"><img src=\"http://legacysurvey.org/viewer/jpeg-cutout/?ra=186.7301&dec=-1.988378&zoom=15&layer=sdss&size=120\"></a></td><td>1237650761856516175<br><a href=\"http://legacysurvey.org/viewer?ra=186.5292178494633&dec=-2.4796584621647533\"><img src=\"http://legacysurvey.org/viewer/jpeg-cutout/?ra=186.5292&dec=-2.479658&zoom=15&layer=sdss&size=120\"></a></td></tr>\n",
       "<tr><td>1237650372095705164<br><a href=\"http://legacysurvey.org/viewer?ra=187.27136357220337&dec=-1.2827354426653388\"><img src=\"http://legacysurvey.org/viewer/jpeg-cutout/?ra=187.2714&dec=-1.282735&zoom=15&layer=sdss&size=120\"></a></td><td>1237650372095508558<br><a href=\"http://legacysurvey.org/viewer?ra=186.7958940143928&dec=-1.260130595233716\"><img src=\"http://legacysurvey.org/viewer/jpeg-cutout/?ra=186.7959&dec=-1.260131&zoom=15&layer=sdss&size=120\"></a></td><td>1237650761320038472<br><a href=\"http://legacysurvey.org/viewer?ra=187.4228248842793&dec=-2.727421233799436\"><img src=\"http://legacysurvey.org/viewer/jpeg-cutout/?ra=187.4228&dec=-2.727421&zoom=15&layer=sdss&size=120\"></a></td><td>1237650762393452646<br><a href=\"http://legacysurvey.org/viewer?ra=186.6545709360505&dec=-1.8765840143241723\"><img src=\"http://legacysurvey.org/viewer/jpeg-cutout/?ra=186.6546&dec=-1.876584&zoom=15&layer=sdss&size=120\"></a></td><td>1237648702968365111<br><a href=\"http://legacysurvey.org/viewer?ra=187.78215809890406&dec=-1.2525603137345762\"><img src=\"http://legacysurvey.org/viewer/jpeg-cutout/?ra=187.7822&dec=-1.25256&zoom=15&layer=sdss&size=120\"></a></td><td>1237650761857040421<br><a href=\"http://legacysurvey.org/viewer?ra=187.63229331464467&dec=-2.4729930115794585\"><img src=\"http://legacysurvey.org/viewer/jpeg-cutout/?ra=187.6323&dec=-2.472993&zoom=15&layer=sdss&size=120\"></a></td></tr>\n",
       "<tr><td>1237650762393321500<br><a href=\"http://legacysurvey.org/viewer?ra=186.28293614257342&dec=-2.0136121991858973\"><img src=\"http://legacysurvey.org/viewer/jpeg-cutout/?ra=186.2829&dec=-2.013612&zoom=15&layer=sdss&size=120\"></a></td><td>1237650761856974909<br><a href=\"http://legacysurvey.org/viewer?ra=187.56484405054664&dec=-2.37244393809022\"><img src=\"http://legacysurvey.org/viewer/jpeg-cutout/?ra=187.5648&dec=-2.372444&zoom=15&layer=sdss&size=120\"></a></td><td>1237650371022094362<br><a href=\"http://legacysurvey.org/viewer?ra=187.51248238226123&dec=-2.272382511500632\"><img src=\"http://legacysurvey.org/viewer/jpeg-cutout/?ra=187.5125&dec=-2.272383&zoom=15&layer=sdss&size=120\"></a></td><td>1237650762930192398<br><a href=\"http://legacysurvey.org/viewer?ra=186.28476548339654&dec=-1.6368903974165803\"><img src=\"http://legacysurvey.org/viewer/jpeg-cutout/?ra=186.2848&dec=-1.63689&zoom=15&layer=sdss&size=120\"></a></td><td>1237650761856647207<br><a href=\"http://legacysurvey.org/viewer?ra=186.8012674383789&dec=-2.466629608723315\"><img src=\"http://legacysurvey.org/viewer/jpeg-cutout/?ra=186.8013&dec=-2.46663&zoom=15&layer=sdss&size=120\"></a></td><td>1237650372095574027<br><a href=\"http://legacysurvey.org/viewer?ra=186.84363234335743&dec=-1.3571504830935894\"><img src=\"http://legacysurvey.org/viewer/jpeg-cutout/?ra=186.8436&dec=-1.35715&zoom=15&layer=sdss&size=120\"></a></td></tr>\n",
       "<tr><td>1237650371022356496<br><a href=\"http://legacysurvey.org/viewer?ra=188.05581067000855&dec=-2.2634766659797276\"><img src=\"http://legacysurvey.org/viewer/jpeg-cutout/?ra=188.0558&dec=-2.263477&zoom=15&layer=sdss&size=120\"></a></td><td>1237650371021701231<br><a href=\"http://legacysurvey.org/viewer?ra=186.67587451527288&dec=-2.147784865442811\"><img src=\"http://legacysurvey.org/viewer/jpeg-cutout/?ra=186.6759&dec=-2.147785&zoom=15&layer=sdss&size=120\"></a></td><td>1237650370485223468<br><a href=\"http://legacysurvey.org/viewer?ra=187.51308305082603&dec=-2.6965142199506524\"><img src=\"http://legacysurvey.org/viewer/jpeg-cutout/?ra=187.5131&dec=-2.696514&zoom=15&layer=sdss&size=120\"></a></td><td>1237650371558441031<br><a href=\"http://legacysurvey.org/viewer?ra=186.34194034181183&dec=-1.8139591870245948\"><img src=\"http://legacysurvey.org/viewer/jpeg-cutout/?ra=186.3419&dec=-1.813959&zoom=15&layer=sdss&size=120\"></a></td><td>1237650372095836209<br><a href=\"http://legacysurvey.org/viewer?ra=187.50654125583367&dec=-1.3819918903058828\"><img src=\"http://legacysurvey.org/viewer/jpeg-cutout/?ra=187.5065&dec=-1.381992&zoom=15&layer=sdss&size=120\"></a></td><td>1237648702967971902<br><a href=\"http://legacysurvey.org/viewer?ra=186.86923058790887&dec=-1.1513910320487553\"><img src=\"http://legacysurvey.org/viewer/jpeg-cutout/?ra=186.8692&dec=-1.151391&zoom=15&layer=sdss&size=120\"></a></td></tr>\n",
       "<tr><td>1237650371559161883<br><a href=\"http://legacysurvey.org/viewer?ra=187.95147791002972&dec=-1.6620531792595976\"><img src=\"http://legacysurvey.org/viewer/jpeg-cutout/?ra=187.9515&dec=-1.662053&zoom=15&layer=sdss&size=120\"></a></td><td>1237650762930454558<br><a href=\"http://legacysurvey.org/viewer?ra=186.87140030846416&dec=-1.464078236448702\"><img src=\"http://legacysurvey.org/viewer/jpeg-cutout/?ra=186.8714&dec=-1.464078&zoom=15&layer=sdss&size=120\"></a></td><td>1237650372096032800<br><a href=\"http://legacysurvey.org/viewer?ra=187.92901572790427&dec=-1.3286514472005426\"><img src=\"http://legacysurvey.org/viewer/jpeg-cutout/?ra=187.929&dec=-1.328651&zoom=15&layer=sdss&size=120\"></a></td><td>1237650761320038423<br><a href=\"http://legacysurvey.org/viewer?ra=187.32253475765378&dec=-2.774629617832096\"><img src=\"http://legacysurvey.org/viewer/jpeg-cutout/?ra=187.3225&dec=-2.77463&zoom=15&layer=sdss&size=120\"></a></td><td>1237650762393321487<br><a href=\"http://legacysurvey.org/viewer?ra=186.2628181894192&dec=-1.978254295806953\"><img src=\"http://legacysurvey.org/viewer/jpeg-cutout/?ra=186.2628&dec=-1.978254&zoom=15&layer=sdss&size=120\"></a></td><td>1237650762930782213<br><a href=\"http://legacysurvey.org/viewer?ra=187.60604170089013&dec=-1.6176183163162685\"><img src=\"http://legacysurvey.org/viewer/jpeg-cutout/?ra=187.606&dec=-1.617618&zoom=15&layer=sdss&size=120\"></a></td></tr>\n",
       "<tr><td>1237650761856974900<br><a href=\"http://legacysurvey.org/viewer?ra=187.55781213329527&dec=-2.3407939672605327\"><img src=\"http://legacysurvey.org/viewer/jpeg-cutout/?ra=187.5578&dec=-2.340794&zoom=15&layer=sdss&size=120\"></a></td><td>1237650761856450643<br><a href=\"http://legacysurvey.org/viewer?ra=186.32388809568928&dec=-2.3366187658761266\"><img src=\"http://legacysurvey.org/viewer/jpeg-cutout/?ra=186.3239&dec=-2.336619&zoom=15&layer=sdss&size=120\"></a></td><td>1237650762930716700<br><a href=\"http://legacysurvey.org/viewer?ra=187.50224519652528&dec=-1.4723141080391633\"><img src=\"http://legacysurvey.org/viewer/jpeg-cutout/?ra=187.5022&dec=-1.472314&zoom=15&layer=sdss&size=120\"></a></td><td>1237648702968168459<br><a href=\"http://legacysurvey.org/viewer?ra=187.27413135566155&dec=-1.0797026513852488\"><img src=\"http://legacysurvey.org/viewer/jpeg-cutout/?ra=187.2741&dec=-1.079703&zoom=15&layer=sdss&size=120\"></a></td><td>1237650371021766718<br><a href=\"http://legacysurvey.org/viewer?ra=186.79281772083144&dec=-2.1429986396780283\"><img src=\"http://legacysurvey.org/viewer/jpeg-cutout/?ra=186.7928&dec=-2.142999&zoom=15&layer=sdss&size=120\"></a></td><td>1237648702967971891<br><a href=\"http://legacysurvey.org/viewer?ra=186.84701660322116&dec=-1.1954524874597392\"><img src=\"http://legacysurvey.org/viewer/jpeg-cutout/?ra=186.847&dec=-1.195452&zoom=15&layer=sdss&size=120\"></a></td></tr>\n",
       "<tr><td>1237650371021766721<br><a href=\"http://legacysurvey.org/viewer?ra=186.79363924902688&dec=-2.1538675583191793\"><img src=\"http://legacysurvey.org/viewer/jpeg-cutout/?ra=186.7936&dec=-2.153868&zoom=15&layer=sdss&size=120\"></a></td><td>1237650372095836233<br><a href=\"http://legacysurvey.org/viewer?ra=187.52873336115613&dec=-1.3310577943161332\"><img src=\"http://legacysurvey.org/viewer/jpeg-cutout/?ra=187.5287&dec=-1.331058&zoom=15&layer=sdss&size=120\"></a></td><td>1237650371022291006<br><a href=\"http://legacysurvey.org/viewer?ra=188.00361899422117&dec=-2.2619643948654216\"><img src=\"http://legacysurvey.org/viewer/jpeg-cutout/?ra=188.0036&dec=-2.261964&zoom=15&layer=sdss&size=120\"></a></td><td>1237650372095836257<br><a href=\"http://legacysurvey.org/viewer?ra=187.54863793383095&dec=-1.2787566480294872\"><img src=\"http://legacysurvey.org/viewer/jpeg-cutout/?ra=187.5486&dec=-1.278757&zoom=15&layer=sdss&size=120\"></a></td><td>1237650372095377516<br><a href=\"http://legacysurvey.org/viewer?ra=186.51500175561864&dec=-1.3294050387318117\"><img src=\"http://legacysurvey.org/viewer/jpeg-cutout/?ra=186.515&dec=-1.329405&zoom=15&layer=sdss&size=120\"></a></td><td>1237650370485354549<br><a href=\"http://legacysurvey.org/viewer?ra=187.80412619478062&dec=-2.5929064477716093\"><img src=\"http://legacysurvey.org/viewer/jpeg-cutout/?ra=187.8041&dec=-2.592906&zoom=15&layer=sdss&size=120\"></a></td></tr>\n",
       "<tr><td>1237650762930978838<br><a href=\"http://legacysurvey.org/viewer?ra=188.1092037572033&dec=-1.6311667624034343\"><img src=\"http://legacysurvey.org/viewer/jpeg-cutout/?ra=188.1092&dec=-1.631167&zoom=15&layer=sdss&size=120\"></a></td><td>1237650762394042391<br><a href=\"http://legacysurvey.org/viewer?ra=187.9176709315567&dec=-2.036463480606103\"><img src=\"http://legacysurvey.org/viewer/jpeg-cutout/?ra=187.9177&dec=-2.036463&zoom=15&layer=sdss&size=120\"></a></td><td>1237650371559227435<br><a href=\"http://legacysurvey.org/viewer?ra=188.1735946809427&dec=-1.761837634144794\"><img src=\"http://legacysurvey.org/viewer/jpeg-cutout/?ra=188.1736&dec=-1.761838&zoom=15&layer=sdss&size=120\"></a></td><td>1237650761319776361<br><a href=\"http://legacysurvey.org/viewer?ra=186.81711354551274&dec=-2.75427070767944\"><img src=\"http://legacysurvey.org/viewer/jpeg-cutout/?ra=186.8171&dec=-2.754271&zoom=15&layer=sdss&size=120\"></a></td><td></td><td></td></tr>\n",
       "    </table>\n",
       "    "
      ],
      "text/plain": [
       "<IPython.core.display.HTML object>"
      ]
     },
     "execution_count": 175,
     "metadata": {},
     "output_type": "execute_result"
    }
   ],
   "source": [
    "make_decals_viewer_cutouts(guidestars[np.random.permutation(len(guidestars))], \n",
    "                           survey='sdss',ncols=6,namecol='TargetName')"
   ]
  },
  {
   "cell_type": "code",
   "execution_count": 177,
   "metadata": {},
   "outputs": [
    {
     "data": {
      "text/plain": [
       "184"
      ]
     },
     "execution_count": 177,
     "metadata": {},
     "output_type": "execute_result"
    }
   ],
   "source": [
    "guides_to_rem = [int(i) for i in '1237650372095836214  1237650762930913292 1237650762930913293 1237648702968102985 1237650762930782213 1237650762930978838'.split()]\n",
    "writecat.remove_rows((writecat['Notes']=='Guide')&(np.in1d(writecat['TargetName'], guides_to_rem)))\n",
    "np.sum((writecat['Notes']=='Guide'))"
   ]
  },
  {
   "cell_type": "code",
   "execution_count": 178,
   "metadata": {},
   "outputs": [
    {
     "data": {
      "text/html": [
       "\n",
       "    <table>\n",
       "    <tr><td>0<br><a href=\"http://legacysurvey.org/viewer?ra=187.09015600914532&dec=-1.1435416199944706\"><img src=\"http://legacysurvey.org/viewer/jpeg-cutout/?ra=187.0902&dec=-1.143542&zoom=16&layer=sdss&size=120\"></a></td><td>1<br><a href=\"http://legacysurvey.org/viewer?ra=186.67299017424105&dec=-2.8888093744191625\"><img src=\"http://legacysurvey.org/viewer/jpeg-cutout/?ra=186.673&dec=-2.888809&zoom=16&layer=sdss&size=120\"></a></td><td>2<br><a href=\"http://legacysurvey.org/viewer?ra=187.35784782519417&dec=-2.7111065650895463\"><img src=\"http://legacysurvey.org/viewer/jpeg-cutout/?ra=187.3578&dec=-2.711107&zoom=16&layer=sdss&size=120\"></a></td><td>3<br><a href=\"http://legacysurvey.org/viewer?ra=187.90752012841423&dec=-1.2604054238607703\"><img src=\"http://legacysurvey.org/viewer/jpeg-cutout/?ra=187.9075&dec=-1.260405&zoom=16&layer=sdss&size=120\"></a></td><td>4<br><a href=\"http://legacysurvey.org/viewer?ra=187.1454665407812&dec=-0.9101360617019887\"><img src=\"http://legacysurvey.org/viewer/jpeg-cutout/?ra=187.1455&dec=-0.9101361&zoom=16&layer=sdss&size=120\"></a></td><td>5<br><a href=\"http://legacysurvey.org/viewer?ra=186.16337216305024&dec=-2.031671055214597\"><img src=\"http://legacysurvey.org/viewer/jpeg-cutout/?ra=186.1634&dec=-2.031671&zoom=16&layer=sdss&size=120\"></a></td></tr>\n",
       "<tr><td>6<br><a href=\"http://legacysurvey.org/viewer?ra=186.64161806235742&dec=-2.8509765865890295\"><img src=\"http://legacysurvey.org/viewer/jpeg-cutout/?ra=186.6416&dec=-2.850977&zoom=16&layer=sdss&size=120\"></a></td><td>7<br><a href=\"http://legacysurvey.org/viewer?ra=188.17607151312887&dec=-1.5540668796959278\"><img src=\"http://legacysurvey.org/viewer/jpeg-cutout/?ra=188.1761&dec=-1.554067&zoom=16&layer=sdss&size=120\"></a></td><td>8<br><a href=\"http://legacysurvey.org/viewer?ra=186.6848818019963&dec=-2.897890004990268\"><img src=\"http://legacysurvey.org/viewer/jpeg-cutout/?ra=186.6849&dec=-2.89789&zoom=16&layer=sdss&size=120\"></a></td><td>9<br><a href=\"http://legacysurvey.org/viewer?ra=187.87595834398317&dec=-2.712837061461627\"><img src=\"http://legacysurvey.org/viewer/jpeg-cutout/?ra=187.876&dec=-2.712837&zoom=16&layer=sdss&size=120\"></a></td><td>10<br><a href=\"http://legacysurvey.org/viewer?ra=188.15251774511177&dec=-1.4895838274056974\"><img src=\"http://legacysurvey.org/viewer/jpeg-cutout/?ra=188.1525&dec=-1.489584&zoom=16&layer=sdss&size=120\"></a></td><td>11<br><a href=\"http://legacysurvey.org/viewer?ra=186.26899270789528&dec=-1.9226986142643188\"><img src=\"http://legacysurvey.org/viewer/jpeg-cutout/?ra=186.269&dec=-1.922699&zoom=16&layer=sdss&size=120\"></a></td></tr>\n",
       "<tr><td>12<br><a href=\"http://legacysurvey.org/viewer?ra=186.65345795018575&dec=-2.8025824052071715\"><img src=\"http://legacysurvey.org/viewer/jpeg-cutout/?ra=186.6535&dec=-2.802582&zoom=16&layer=sdss&size=120\"></a></td><td>13<br><a href=\"http://legacysurvey.org/viewer?ra=187.02540971065062&dec=-2.970573839851392\"><img src=\"http://legacysurvey.org/viewer/jpeg-cutout/?ra=187.0254&dec=-2.970574&zoom=16&layer=sdss&size=120\"></a></td><td>14<br><a href=\"http://legacysurvey.org/viewer?ra=187.09856807531466&dec=-0.9902010112554578\"><img src=\"http://legacysurvey.org/viewer/jpeg-cutout/?ra=187.0986&dec=-0.990201&zoom=16&layer=sdss&size=120\"></a></td><td>15<br><a href=\"http://legacysurvey.org/viewer?ra=186.20692695227106&dec=-2.2981497966933184\"><img src=\"http://legacysurvey.org/viewer/jpeg-cutout/?ra=186.2069&dec=-2.29815&zoom=16&layer=sdss&size=120\"></a></td><td>16<br><a href=\"http://legacysurvey.org/viewer?ra=186.51427267639966&dec=-1.1840424328377261\"><img src=\"http://legacysurvey.org/viewer/jpeg-cutout/?ra=186.5143&dec=-1.184042&zoom=16&layer=sdss&size=120\"></a></td><td>17<br><a href=\"http://legacysurvey.org/viewer?ra=187.82599952497495&dec=-2.434280357199778\"><img src=\"http://legacysurvey.org/viewer/jpeg-cutout/?ra=187.826&dec=-2.43428&zoom=16&layer=sdss&size=120\"></a></td></tr>\n",
       "<tr><td>18<br><a href=\"http://legacysurvey.org/viewer?ra=186.5036599679292&dec=-2.778910683539807\"><img src=\"http://legacysurvey.org/viewer/jpeg-cutout/?ra=186.5037&dec=-2.778911&zoom=16&layer=sdss&size=120\"></a></td><td>19<br><a href=\"http://legacysurvey.org/viewer?ra=187.3610121147954&dec=-2.6791096985181535\"><img src=\"http://legacysurvey.org/viewer/jpeg-cutout/?ra=187.361&dec=-2.67911&zoom=16&layer=sdss&size=120\"></a></td><td>20<br><a href=\"http://legacysurvey.org/viewer?ra=188.2248560236048&dec=-1.7589938688819478\"><img src=\"http://legacysurvey.org/viewer/jpeg-cutout/?ra=188.2249&dec=-1.758994&zoom=16&layer=sdss&size=120\"></a></td><td>21<br><a href=\"http://legacysurvey.org/viewer?ra=186.1929450257838&dec=-2.117188820361977\"><img src=\"http://legacysurvey.org/viewer/jpeg-cutout/?ra=186.1929&dec=-2.117189&zoom=16&layer=sdss&size=120\"></a></td><td>22<br><a href=\"http://legacysurvey.org/viewer?ra=186.50032504890802&dec=-2.136530179455834\"><img src=\"http://legacysurvey.org/viewer/jpeg-cutout/?ra=186.5003&dec=-2.13653&zoom=16&layer=sdss&size=120\"></a></td><td>23<br><a href=\"http://legacysurvey.org/viewer?ra=187.1954610321062&dec=-0.9098501905632355\"><img src=\"http://legacysurvey.org/viewer/jpeg-cutout/?ra=187.1955&dec=-0.9098502&zoom=16&layer=sdss&size=120\"></a></td></tr>\n",
       "<tr><td>24<br><a href=\"http://legacysurvey.org/viewer?ra=186.24809088300512&dec=-2.344579592973701\"><img src=\"http://legacysurvey.org/viewer/jpeg-cutout/?ra=186.2481&dec=-2.34458&zoom=16&layer=sdss&size=120\"></a></td><td>25<br><a href=\"http://legacysurvey.org/viewer?ra=187.13503144768&dec=-2.510151640382572\"><img src=\"http://legacysurvey.org/viewer/jpeg-cutout/?ra=187.135&dec=-2.510152&zoom=16&layer=sdss&size=120\"></a></td><td>26<br><a href=\"http://legacysurvey.org/viewer?ra=186.8265786762729&dec=-1.0109951388934957\"><img src=\"http://legacysurvey.org/viewer/jpeg-cutout/?ra=186.8266&dec=-1.010995&zoom=16&layer=sdss&size=120\"></a></td><td>27<br><a href=\"http://legacysurvey.org/viewer?ra=187.1741528615779&dec=-1.070848306698672\"><img src=\"http://legacysurvey.org/viewer/jpeg-cutout/?ra=187.1742&dec=-1.070848&zoom=16&layer=sdss&size=120\"></a></td><td>28<br><a href=\"http://legacysurvey.org/viewer?ra=187.14393982789662&dec=-1.266960849305594\"><img src=\"http://legacysurvey.org/viewer/jpeg-cutout/?ra=187.1439&dec=-1.266961&zoom=16&layer=sdss&size=120\"></a></td><td>29<br><a href=\"http://legacysurvey.org/viewer?ra=186.63659140815363&dec=-2.2516565053420434\"><img src=\"http://legacysurvey.org/viewer/jpeg-cutout/?ra=186.6366&dec=-2.251657&zoom=16&layer=sdss&size=120\"></a></td></tr>\n",
       "<tr><td>30<br><a href=\"http://legacysurvey.org/viewer?ra=187.48404929787395&dec=-0.95507358696392\"><img src=\"http://legacysurvey.org/viewer/jpeg-cutout/?ra=187.484&dec=-0.9550736&zoom=16&layer=sdss&size=120\"></a></td><td>31<br><a href=\"http://legacysurvey.org/viewer?ra=186.180331256085&dec=-2.186874252152201\"><img src=\"http://legacysurvey.org/viewer/jpeg-cutout/?ra=186.1803&dec=-2.186874&zoom=16&layer=sdss&size=120\"></a></td><td>32<br><a href=\"http://legacysurvey.org/viewer?ra=187.45191182641233&dec=-2.3845762179566385\"><img src=\"http://legacysurvey.org/viewer/jpeg-cutout/?ra=187.4519&dec=-2.384576&zoom=16&layer=sdss&size=120\"></a></td><td>33<br><a href=\"http://legacysurvey.org/viewer?ra=188.2191789582643&dec=-2.240681153797545\"><img src=\"http://legacysurvey.org/viewer/jpeg-cutout/?ra=188.2192&dec=-2.240681&zoom=16&layer=sdss&size=120\"></a></td><td>34<br><a href=\"http://legacysurvey.org/viewer?ra=187.56833313039124&dec=-2.5431979510845792\"><img src=\"http://legacysurvey.org/viewer/jpeg-cutout/?ra=187.5683&dec=-2.543198&zoom=16&layer=sdss&size=120\"></a></td><td>35<br><a href=\"http://legacysurvey.org/viewer?ra=187.03553064401976&dec=-0.9028426314560944\"><img src=\"http://legacysurvey.org/viewer/jpeg-cutout/?ra=187.0355&dec=-0.9028426&zoom=16&layer=sdss&size=120\"></a></td></tr>\n",
       "<tr><td>36<br><a href=\"http://legacysurvey.org/viewer?ra=186.48691822962738&dec=-2.7610053488889204\"><img src=\"http://legacysurvey.org/viewer/jpeg-cutout/?ra=186.4869&dec=-2.761005&zoom=16&layer=sdss&size=120\"></a></td><td>37<br><a href=\"http://legacysurvey.org/viewer?ra=186.37478695074134&dec=-1.2636888844419307\"><img src=\"http://legacysurvey.org/viewer/jpeg-cutout/?ra=186.3748&dec=-1.263689&zoom=16&layer=sdss&size=120\"></a></td><td>38<br><a href=\"http://legacysurvey.org/viewer?ra=188.01321160984668&dec=-1.683321313316877\"><img src=\"http://legacysurvey.org/viewer/jpeg-cutout/?ra=188.0132&dec=-1.683321&zoom=16&layer=sdss&size=120\"></a></td><td>39<br><a href=\"http://legacysurvey.org/viewer?ra=187.7254245952893&dec=-0.9917627671019216\"><img src=\"http://legacysurvey.org/viewer/jpeg-cutout/?ra=187.7254&dec=-0.9917628&zoom=16&layer=sdss&size=120\"></a></td><td>40<br><a href=\"http://legacysurvey.org/viewer?ra=188.22644099566278&dec=-2.0330390388200996\"><img src=\"http://legacysurvey.org/viewer/jpeg-cutout/?ra=188.2264&dec=-2.033039&zoom=16&layer=sdss&size=120\"></a></td><td>41<br><a href=\"http://legacysurvey.org/viewer?ra=186.15169195225081&dec=-1.9660186667384296\"><img src=\"http://legacysurvey.org/viewer/jpeg-cutout/?ra=186.1517&dec=-1.966019&zoom=16&layer=sdss&size=120\"></a></td></tr>\n",
       "<tr><td>42<br><a href=\"http://legacysurvey.org/viewer?ra=188.22472893906664&dec=-2.0701728184641155\"><img src=\"http://legacysurvey.org/viewer/jpeg-cutout/?ra=188.2247&dec=-2.070173&zoom=16&layer=sdss&size=120\"></a></td><td>43<br><a href=\"http://legacysurvey.org/viewer?ra=187.6666846649713&dec=-2.1272520401587935\"><img src=\"http://legacysurvey.org/viewer/jpeg-cutout/?ra=187.6667&dec=-2.127252&zoom=16&layer=sdss&size=120\"></a></td><td>44<br><a href=\"http://legacysurvey.org/viewer?ra=186.50762290224085&dec=-2.715260211240631\"><img src=\"http://legacysurvey.org/viewer/jpeg-cutout/?ra=186.5076&dec=-2.71526&zoom=16&layer=sdss&size=120\"></a></td><td>45<br><a href=\"http://legacysurvey.org/viewer?ra=188.15645130988244&dec=-2.405196146267957\"><img src=\"http://legacysurvey.org/viewer/jpeg-cutout/?ra=188.1565&dec=-2.405196&zoom=16&layer=sdss&size=120\"></a></td><td>46<br><a href=\"http://legacysurvey.org/viewer?ra=187.65864202899058&dec=-1.7246234196322257\"><img src=\"http://legacysurvey.org/viewer/jpeg-cutout/?ra=187.6586&dec=-1.724623&zoom=16&layer=sdss&size=120\"></a></td><td>47<br><a href=\"http://legacysurvey.org/viewer?ra=186.90360853359354&dec=-2.9221454673468097\"><img src=\"http://legacysurvey.org/viewer/jpeg-cutout/?ra=186.9036&dec=-2.922145&zoom=16&layer=sdss&size=120\"></a></td></tr>\n",
       "<tr><td>48<br><a href=\"http://legacysurvey.org/viewer?ra=187.65263655392067&dec=-2.6203499472248617\"><img src=\"http://legacysurvey.org/viewer/jpeg-cutout/?ra=187.6526&dec=-2.62035&zoom=16&layer=sdss&size=120\"></a></td><td>49<br><a href=\"http://legacysurvey.org/viewer?ra=186.89741647135182&dec=-0.9005402784236638\"><img src=\"http://legacysurvey.org/viewer/jpeg-cutout/?ra=186.8974&dec=-0.9005403&zoom=16&layer=sdss&size=120\"></a></td><td>50<br><a href=\"http://legacysurvey.org/viewer?ra=188.22278843510347&dec=-2.317448262377932\"><img src=\"http://legacysurvey.org/viewer/jpeg-cutout/?ra=188.2228&dec=-2.317448&zoom=16&layer=sdss&size=120\"></a></td><td>51<br><a href=\"http://legacysurvey.org/viewer?ra=186.60948496894557&dec=-2.8425998939160904\"><img src=\"http://legacysurvey.org/viewer/jpeg-cutout/?ra=186.6095&dec=-2.8426&zoom=16&layer=sdss&size=120\"></a></td><td>52<br><a href=\"http://legacysurvey.org/viewer?ra=187.17978731649728&dec=-2.5313123859780116\"><img src=\"http://legacysurvey.org/viewer/jpeg-cutout/?ra=187.1798&dec=-2.531312&zoom=16&layer=sdss&size=120\"></a></td><td>53<br><a href=\"http://legacysurvey.org/viewer?ra=186.85096911090687&dec=-2.940812666231624\"><img src=\"http://legacysurvey.org/viewer/jpeg-cutout/?ra=186.851&dec=-2.940813&zoom=16&layer=sdss&size=120\"></a></td></tr>\n",
       "<tr><td>54<br><a href=\"http://legacysurvey.org/viewer?ra=186.35966373890892&dec=-1.4028827849479217\"><img src=\"http://legacysurvey.org/viewer/jpeg-cutout/?ra=186.3597&dec=-1.402883&zoom=16&layer=sdss&size=120\"></a></td><td>55<br><a href=\"http://legacysurvey.org/viewer?ra=186.56338186868365&dec=-1.5815786182612008\"><img src=\"http://legacysurvey.org/viewer/jpeg-cutout/?ra=186.5634&dec=-1.581579&zoom=16&layer=sdss&size=120\"></a></td><td>56<br><a href=\"http://legacysurvey.org/viewer?ra=186.17997375412898&dec=-2.193600090835255\"><img src=\"http://legacysurvey.org/viewer/jpeg-cutout/?ra=186.18&dec=-2.1936&zoom=16&layer=sdss&size=120\"></a></td><td>57<br><a href=\"http://legacysurvey.org/viewer?ra=187.86354031059062&dec=-2.514780884860354\"><img src=\"http://legacysurvey.org/viewer/jpeg-cutout/?ra=187.8635&dec=-2.514781&zoom=16&layer=sdss&size=120\"></a></td><td>58<br><a href=\"http://legacysurvey.org/viewer?ra=187.53872716865473&dec=-0.9812267840991586\"><img src=\"http://legacysurvey.org/viewer/jpeg-cutout/?ra=187.5387&dec=-0.9812268&zoom=16&layer=sdss&size=120\"></a></td><td>59<br><a href=\"http://legacysurvey.org/viewer?ra=186.66720176391502&dec=-1.8734986509058125\"><img src=\"http://legacysurvey.org/viewer/jpeg-cutout/?ra=186.6672&dec=-1.873499&zoom=16&layer=sdss&size=120\"></a></td></tr>\n",
       "<tr><td>60<br><a href=\"http://legacysurvey.org/viewer?ra=186.6572342112894&dec=-1.0533242045676317\"><img src=\"http://legacysurvey.org/viewer/jpeg-cutout/?ra=186.6572&dec=-1.053324&zoom=16&layer=sdss&size=120\"></a></td><td>61<br><a href=\"http://legacysurvey.org/viewer?ra=186.29547057094834&dec=-1.8622040064837804\"><img src=\"http://legacysurvey.org/viewer/jpeg-cutout/?ra=186.2955&dec=-1.862204&zoom=16&layer=sdss&size=120\"></a></td><td>62<br><a href=\"http://legacysurvey.org/viewer?ra=187.94930460536614&dec=-2.6505782081696814\"><img src=\"http://legacysurvey.org/viewer/jpeg-cutout/?ra=187.9493&dec=-2.650578&zoom=16&layer=sdss&size=120\"></a></td><td>63<br><a href=\"http://legacysurvey.org/viewer?ra=187.3965710301918&dec=-0.9210077158907244\"><img src=\"http://legacysurvey.org/viewer/jpeg-cutout/?ra=187.3966&dec=-0.9210077&zoom=16&layer=sdss&size=120\"></a></td><td>64<br><a href=\"http://legacysurvey.org/viewer?ra=187.87996403239922&dec=-1.7431545731598224\"><img src=\"http://legacysurvey.org/viewer/jpeg-cutout/?ra=187.88&dec=-1.743155&zoom=16&layer=sdss&size=120\"></a></td><td>65<br><a href=\"http://legacysurvey.org/viewer?ra=187.48544082614194&dec=-2.9731875804433914\"><img src=\"http://legacysurvey.org/viewer/jpeg-cutout/?ra=187.4854&dec=-2.973188&zoom=16&layer=sdss&size=120\"></a></td></tr>\n",
       "<tr><td>66<br><a href=\"http://legacysurvey.org/viewer?ra=188.00606934814624&dec=-2.357763505301354\"><img src=\"http://legacysurvey.org/viewer/jpeg-cutout/?ra=188.0061&dec=-2.357764&zoom=16&layer=sdss&size=120\"></a></td><td>67<br><a href=\"http://legacysurvey.org/viewer?ra=186.34165035888276&dec=-1.3738849461757552\"><img src=\"http://legacysurvey.org/viewer/jpeg-cutout/?ra=186.3417&dec=-1.373885&zoom=16&layer=sdss&size=120\"></a></td><td>68<br><a href=\"http://legacysurvey.org/viewer?ra=186.6465909758245&dec=-1.0048541372530935\"><img src=\"http://legacysurvey.org/viewer/jpeg-cutout/?ra=186.6466&dec=-1.004854&zoom=16&layer=sdss&size=120\"></a></td><td>69<br><a href=\"http://legacysurvey.org/viewer?ra=187.06274617699754&dec=-0.8835801300202422\"><img src=\"http://legacysurvey.org/viewer/jpeg-cutout/?ra=187.0627&dec=-0.8835801&zoom=16&layer=sdss&size=120\"></a></td><td>70<br><a href=\"http://legacysurvey.org/viewer?ra=186.68215536232512&dec=-0.9970086541803579\"><img src=\"http://legacysurvey.org/viewer/jpeg-cutout/?ra=186.6822&dec=-0.9970087&zoom=16&layer=sdss&size=120\"></a></td><td>71<br><a href=\"http://legacysurvey.org/viewer?ra=186.63553419670677&dec=-2.7598469520070568\"><img src=\"http://legacysurvey.org/viewer/jpeg-cutout/?ra=186.6355&dec=-2.759847&zoom=16&layer=sdss&size=120\"></a></td></tr>\n",
       "<tr><td>72<br><a href=\"http://legacysurvey.org/viewer?ra=186.2144699972365&dec=-2.2981203377033896\"><img src=\"http://legacysurvey.org/viewer/jpeg-cutout/?ra=186.2145&dec=-2.29812&zoom=16&layer=sdss&size=120\"></a></td><td>73<br><a href=\"http://legacysurvey.org/viewer?ra=188.02081186756632&dec=-1.3193035335046086\"><img src=\"http://legacysurvey.org/viewer/jpeg-cutout/?ra=188.0208&dec=-1.319304&zoom=16&layer=sdss&size=120\"></a></td><td>74<br><a href=\"http://legacysurvey.org/viewer?ra=186.1309298929474&dec=-1.8145314448135907\"><img src=\"http://legacysurvey.org/viewer/jpeg-cutout/?ra=186.1309&dec=-1.814531&zoom=16&layer=sdss&size=120\"></a></td><td>75<br><a href=\"http://legacysurvey.org/viewer?ra=187.252045711809&dec=-0.9331065205219966\"><img src=\"http://legacysurvey.org/viewer/jpeg-cutout/?ra=187.252&dec=-0.9331065&zoom=16&layer=sdss&size=120\"></a></td><td>76<br><a href=\"http://legacysurvey.org/viewer?ra=188.2605711674955&dec=-1.8489550343742491\"><img src=\"http://legacysurvey.org/viewer/jpeg-cutout/?ra=188.2606&dec=-1.848955&zoom=16&layer=sdss&size=120\"></a></td><td>77<br><a href=\"http://legacysurvey.org/viewer?ra=186.5018025974379&dec=-2.498246265564511\"><img src=\"http://legacysurvey.org/viewer/jpeg-cutout/?ra=186.5018&dec=-2.498246&zoom=16&layer=sdss&size=120\"></a></td></tr>\n",
       "<tr><td>78<br><a href=\"http://legacysurvey.org/viewer?ra=186.1666305702666&dec=-2.008098687467149\"><img src=\"http://legacysurvey.org/viewer/jpeg-cutout/?ra=186.1666&dec=-2.008099&zoom=16&layer=sdss&size=120\"></a></td><td>79<br><a href=\"http://legacysurvey.org/viewer?ra=188.29439086099228&dec=-2.060454845234288\"><img src=\"http://legacysurvey.org/viewer/jpeg-cutout/?ra=188.2944&dec=-2.060455&zoom=16&layer=sdss&size=120\"></a></td><td>80<br><a href=\"http://legacysurvey.org/viewer?ra=186.53823380781193&dec=-1.3016043524453709\"><img src=\"http://legacysurvey.org/viewer/jpeg-cutout/?ra=186.5382&dec=-1.301604&zoom=16&layer=sdss&size=120\"></a></td><td>81<br><a href=\"http://legacysurvey.org/viewer?ra=187.87344031636238&dec=-1.136047858895056\"><img src=\"http://legacysurvey.org/viewer/jpeg-cutout/?ra=187.8734&dec=-1.136048&zoom=16&layer=sdss&size=120\"></a></td><td>82<br><a href=\"http://legacysurvey.org/viewer?ra=188.02398601469562&dec=-2.546033739283202\"><img src=\"http://legacysurvey.org/viewer/jpeg-cutout/?ra=188.024&dec=-2.546034&zoom=16&layer=sdss&size=120\"></a></td><td>83<br><a href=\"http://legacysurvey.org/viewer?ra=186.65039123264512&dec=-1.9788865661832624\"><img src=\"http://legacysurvey.org/viewer/jpeg-cutout/?ra=186.6504&dec=-1.978887&zoom=16&layer=sdss&size=120\"></a></td></tr>\n",
       "<tr><td>84<br><a href=\"http://legacysurvey.org/viewer?ra=187.41243710879547&dec=-0.8642566631761532\"><img src=\"http://legacysurvey.org/viewer/jpeg-cutout/?ra=187.4124&dec=-0.8642567&zoom=16&layer=sdss&size=120\"></a></td><td>85<br><a href=\"http://legacysurvey.org/viewer?ra=187.14500599220275&dec=-2.8689759466301172\"><img src=\"http://legacysurvey.org/viewer/jpeg-cutout/?ra=187.145&dec=-2.868976&zoom=16&layer=sdss&size=120\"></a></td><td>86<br><a href=\"http://legacysurvey.org/viewer?ra=187.7269187911927&dec=-2.28300652336118\"><img src=\"http://legacysurvey.org/viewer/jpeg-cutout/?ra=187.7269&dec=-2.283007&zoom=16&layer=sdss&size=120\"></a></td><td>87<br><a href=\"http://legacysurvey.org/viewer?ra=186.92541605130626&dec=-0.9604893915058327\"><img src=\"http://legacysurvey.org/viewer/jpeg-cutout/?ra=186.9254&dec=-0.9604894&zoom=16&layer=sdss&size=120\"></a></td><td>88<br><a href=\"http://legacysurvey.org/viewer?ra=188.02340651100485&dec=-2.6659885882722163\"><img src=\"http://legacysurvey.org/viewer/jpeg-cutout/?ra=188.0234&dec=-2.665989&zoom=16&layer=sdss&size=120\"></a></td><td>89<br><a href=\"http://legacysurvey.org/viewer?ra=187.90820563394675&dec=-1.0954011688267968\"><img src=\"http://legacysurvey.org/viewer/jpeg-cutout/?ra=187.9082&dec=-1.095401&zoom=16&layer=sdss&size=120\"></a></td></tr>\n",
       "<tr><td>90<br><a href=\"http://legacysurvey.org/viewer?ra=186.4337007769935&dec=-2.5713881668369662\"><img src=\"http://legacysurvey.org/viewer/jpeg-cutout/?ra=186.4337&dec=-2.571388&zoom=16&layer=sdss&size=120\"></a></td><td>91<br><a href=\"http://legacysurvey.org/viewer?ra=187.22695478376636&dec=-0.9360055668041107\"><img src=\"http://legacysurvey.org/viewer/jpeg-cutout/?ra=187.227&dec=-0.9360056&zoom=16&layer=sdss&size=120\"></a></td><td>92<br><a href=\"http://legacysurvey.org/viewer?ra=186.76356073800437&dec=-1.3008378669434588\"><img src=\"http://legacysurvey.org/viewer/jpeg-cutout/?ra=186.7636&dec=-1.300838&zoom=16&layer=sdss&size=120\"></a></td><td>93<br><a href=\"http://legacysurvey.org/viewer?ra=188.07961728766912&dec=-2.5182891239848306\"><img src=\"http://legacysurvey.org/viewer/jpeg-cutout/?ra=188.0796&dec=-2.518289&zoom=16&layer=sdss&size=120\"></a></td><td>94<br><a href=\"http://legacysurvey.org/viewer?ra=188.03883072126547&dec=-1.3534577765867695\"><img src=\"http://legacysurvey.org/viewer/jpeg-cutout/?ra=188.0388&dec=-1.353458&zoom=16&layer=sdss&size=120\"></a></td><td>95<br><a href=\"http://legacysurvey.org/viewer?ra=188.2183855428993&dec=-2.3405448082114266\"><img src=\"http://legacysurvey.org/viewer/jpeg-cutout/?ra=188.2184&dec=-2.340545&zoom=16&layer=sdss&size=120\"></a></td></tr>\n",
       "<tr><td>96<br><a href=\"http://legacysurvey.org/viewer?ra=187.39000861164675&dec=-1.3568618383434372\"><img src=\"http://legacysurvey.org/viewer/jpeg-cutout/?ra=187.39&dec=-1.356862&zoom=16&layer=sdss&size=120\"></a></td><td>97<br><a href=\"http://legacysurvey.org/viewer?ra=186.64294795124522&dec=-1.9155129478394595\"><img src=\"http://legacysurvey.org/viewer/jpeg-cutout/?ra=186.6429&dec=-1.915513&zoom=16&layer=sdss&size=120\"></a></td><td>98<br><a href=\"http://legacysurvey.org/viewer?ra=187.13523587918527&dec=-2.963451442870868\"><img src=\"http://legacysurvey.org/viewer/jpeg-cutout/?ra=187.1352&dec=-2.963451&zoom=16&layer=sdss&size=120\"></a></td><td>99<br><a href=\"http://legacysurvey.org/viewer?ra=187.79695242925487&dec=-2.5797785335396872\"><img src=\"http://legacysurvey.org/viewer/jpeg-cutout/?ra=187.797&dec=-2.579779&zoom=16&layer=sdss&size=120\"></a></td><td></td><td></td></tr>\n",
       "    </table>\n",
       "    "
      ],
      "text/plain": [
       "<IPython.core.display.HTML object>"
      ]
     },
     "execution_count": 178,
     "metadata": {},
     "output_type": "execute_result"
    }
   ],
   "source": [
    "make_decals_viewer_cutouts(acat[acat['Notes']=='sky'], survey='sdss', ncols=6, \n",
    "                           zoom=16, namecol='TargetName')"
   ]
  },
  {
   "cell_type": "code",
   "execution_count": 179,
   "metadata": {},
   "outputs": [
    {
     "data": {
      "text/plain": [
       "99"
      ]
     },
     "execution_count": 179,
     "metadata": {},
     "output_type": "execute_result"
    }
   ],
   "source": [
    "skys_to_rem = [int(i) for i in '16'.split()]\n",
    "writecat.remove_rows((writecat['Notes']=='Sky')&(np.in1d(writecat['TargetName'], skys_to_rem)))\n",
    "np.sum((writecat['Notes']=='Sky'))"
   ]
  },
  {
   "cell_type": "code",
   "execution_count": 251,
   "metadata": {},
   "outputs": [
    {
     "name": "stdout",
     "output_type": "stream",
     "text": [
      "Nflux: 5 Nguide: 100 NSky 99\n",
      "Targets in each priority: {1: 286, 2: 4, 3: 6, 4: 49, 5: 60, 6: 15, 7: 1, 8: 10}\n",
      "Total: 635\n",
      "Writing aat_targets_jun2018/nsa141465_2.fld\n"
     ]
    },
    {
     "data": {
      "text/plain": [
       "431"
      ]
     },
     "execution_count": 251,
     "metadata": {},
     "output_type": "execute_result"
    }
   ],
   "source": [
    "subsampledcat = subsample_catalog(writecat, {1:np.inf}, maxflux=5, maxguides=100)\n",
    "\n",
    "fldfn = 'aat_targets_jun2018/{}_{}.fld'.format(hostname, fieldnum)\n",
    "print('Writing', fldfn)\n",
    "write_fld_file(subsampledcat, host, obs_start_date, fldfn)\n",
    "np.sum(subsampledcat['Notes'] == 'Targets')"
   ]
  },
  {
   "cell_type": "code",
   "execution_count": 252,
   "metadata": {},
   "outputs": [
    {
     "name": "stdout",
     "output_type": "stream",
     "text": [
      "nsa141465_2.fld                               100%   38KB  37.6KB/s   00:00    \n"
     ]
    }
   ],
   "source": [
    "!scp $fldfn visitor6@aatlxh:~/jun13/"
   ]
  },
  {
   "cell_type": "markdown",
   "metadata": {},
   "source": [
    "## NSA145879_2"
   ]
  },
  {
   "cell_type": "code",
   "execution_count": 253,
   "metadata": {},
   "outputs": [
    {
     "name": "stdout",
     "output_type": "stream",
     "text": [
      "[06/13 03:16:38] [WARNING] Not found: des catalog for nsa145879.\n",
      "[06/13 03:16:42] Use SDSS, DECALS to build base catalog v2 for nsa145879 (1/1)\n"
     ]
    },
    {
     "name": "stderr",
     "output_type": "stream",
     "text": [
      "/Users/erik/projects/saga/saga/build/lib/SAGA/objects/build2.py:149: RuntimeWarning: invalid value encountered in true_divide\n",
      "  catalog['radius_err'] = np.hypot(catalog['FRACDEV']**2.0 / catalog['SHAPEDEV_R_IVAR'], (1.0 - catalog['FRACDEV'])**2.0 / catalog['SHAPEEXP_R_IVAR'])\n",
      "/Users/erik/projects/saga/saga/build/lib/SAGA/objects/build2.py:149: RuntimeWarning: divide by zero encountered in true_divide\n",
      "  catalog['radius_err'] = np.hypot(catalog['FRACDEV']**2.0 / catalog['SHAPEDEV_R_IVAR'], (1.0 - catalog['FRACDEV'])**2.0 / catalog['SHAPEEXP_R_IVAR'])\n",
      "WARNING:root:More than one NSA obj near (226.56582256253586, 0.22022054071609057): 632385, 15439\n",
      "/Users/erik/miniconda3/envs/saga3/lib/python3.6/site-packages/astropy/table/column.py:965: RuntimeWarning: invalid value encountered in less\n",
      "  return getattr(self.data, op)(other)\n",
      "WARNING:root:More than 25 photo obj within ~ 24.889\" of SDSS spec obj 3312750000000003298 (226.90639711463885, 0.040103571412928606)\n",
      "WARNING:root:More than 25 photo obj within ~ 36.841\" of SDSS spec obj 3312780000000006256 (227.70834840276265, 0.07390348878523115)\n",
      "WARNING:root:No kcorrect module. Stellar mass not calculated!\n"
     ]
    },
    {
     "name": "stdout",
     "output_type": "stream",
     "text": [
      "[06/13 03:17:43] Write base catalog to ./base_catalogs/base_v2_nsa145879.fits.gz\n"
     ]
    }
   ],
   "source": [
    "idnum = 145879\n",
    "fieldnum = 2\n",
    "\n",
    "saga_object_catalog.build_and_write_to_database('NSA{}'.format(idnum), overwrite=fieldnum>1)"
   ]
  },
  {
   "cell_type": "code",
   "execution_count": 254,
   "metadata": {},
   "outputs": [
    {
     "name": "stdout",
     "output_type": "stream",
     "text": [
      "nsa145879\n"
     ]
    },
    {
     "name": "stderr",
     "output_type": "stream",
     "text": [
      "/Users/erik/projects/saga/saga/build/lib/SAGA/objects/object_catalog.py:54: RuntimeWarning: invalid value encountered in subtract\n",
      "  table[color] = table['{}_mag'.format(color[0])] - table['{}_mag'.format(color[1])]\n"
     ]
    },
    {
     "name": "stdout",
     "output_type": "stream",
     "text": [
      "# of flux stars = 285\n",
      "# of sky fibers = 100\n",
      "# of Priority=1 targets = 696\n",
      "# of Priority=2 targets = 32\n",
      "# of Priority=3 targets = 35\n",
      "# of Priority=4 targets = 50\n",
      "# of Priority=5 targets = 372\n",
      "# of Priority=6 targets = 25\n",
      "# of Priority=7 targets = 0\n",
      "# of Priority=8 targets = 5\n",
      "# of Priority=9 targets = 385\n",
      "Found 278 SDSS guide stars\n"
     ]
    },
    {
     "name": "stderr",
     "output_type": "stream",
     "text": [
      "/Users/erik/miniconda3/envs/saga3/lib/python3.6/site-packages/astropy/table/column.py:965: RuntimeWarning: invalid value encountered in greater\n",
      "  return getattr(self.data, op)(other)\n",
      "/Users/erik/miniconda3/envs/saga3/lib/python3.6/site-packages/astropy/table/column.py:965: RuntimeWarning: invalid value encountered in less\n",
      "  return getattr(self.data, op)(other)\n"
     ]
    },
    {
     "data": {
      "text/plain": [
       "1878"
      ]
     },
     "execution_count": 254,
     "metadata": {},
     "output_type": "execute_result"
    }
   ],
   "source": [
    "host = targethosts[targethosts['NSAID'] == idnum]\n",
    "assert len(host) == 1\n",
    "host = host[0]\n",
    "\n",
    "hostname = host[host_id_label]\n",
    "print(hostname)\n",
    "tcats[hostname] = tcat = saga_targets.build_target_catalogs(hostname, return_as='list').pop()\n",
    "acats[hostname] = acat = saga.targets.prepare_aat_catalog(tcat, sky_fiber_needed=100)\n",
    "\n",
    "guidestars = get_sdss_guidestars(hostname)\n",
    "writecat = table.vstack([acat, guidestars])\n",
    "writecat['Notes'] = [n.title() for n in writecat['Notes']]\n",
    "len(writecat)"
   ]
  },
  {
   "cell_type": "code",
   "execution_count": 255,
   "metadata": {},
   "outputs": [
    {
     "data": {
      "text/html": [
       "\n",
       "    <table>\n",
       "    <tr><td>1237655467525013694<br><a href=\"http://legacysurvey.org/viewer?ra=228.08761878959035&dec=0.6892307867925007\"><img src=\"http://legacysurvey.org/viewer/jpeg-cutout/?ra=228.0876&dec=0.6892308&zoom=15&layer=sdss&size=120\"></a></td><td>1237648721251663977<br><a href=\"http://legacysurvey.org/viewer?ra=227.8032993825372&dec=-0.12725710754851385\"><img src=\"http://legacysurvey.org/viewer/jpeg-cutout/?ra=227.8033&dec=-0.1272571&zoom=15&layer=sdss&size=120\"></a></td><td>1237655468061360163<br><a href=\"http://legacysurvey.org/viewer?ra=226.80124478877605&dec=1.1678268785346353\"><img src=\"http://legacysurvey.org/viewer/jpeg-cutout/?ra=226.8012&dec=1.167827&zoom=15&layer=sdss&size=120\"></a></td><td>1237651735777837122<br><a href=\"http://legacysurvey.org/viewer?ra=227.70430667320295&dec=1.404562914703829\"><img src=\"http://legacysurvey.org/viewer/jpeg-cutout/?ra=227.7043&dec=1.404563&zoom=15&layer=sdss&size=120\"></a></td><td>1237648721251860567<br><a href=\"http://legacysurvey.org/viewer?ra=228.2719965063164&dec=-0.06278091729449771\"><img src=\"http://legacysurvey.org/viewer/jpeg-cutout/?ra=228.272&dec=-0.06278092&zoom=15&layer=sdss&size=120\"></a></td><td>1237651735777640504<br><a href=\"http://legacysurvey.org/viewer?ra=227.2376834873483&dec=1.3625694823487475\"><img src=\"http://legacysurvey.org/viewer/jpeg-cutout/?ra=227.2377&dec=1.362569&zoom=15&layer=sdss&size=120\"></a></td></tr>\n",
       "<tr><td>1237648704596344957<br><a href=\"http://legacysurvey.org/viewer?ra=227.44582497640516&dec=0.133980106355473\"><img src=\"http://legacysurvey.org/viewer/jpeg-cutout/?ra=227.4458&dec=0.1339801&zoom=15&layer=sdss&size=120\"></a></td><td>1237655468598493200<br><a href=\"http://legacysurvey.org/viewer?ra=227.39914057824768&dec=1.4465359768447716\"><img src=\"http://legacysurvey.org/viewer/jpeg-cutout/?ra=227.3991&dec=1.446536&zoom=15&layer=sdss&size=120\"></a></td><td>1237648704059473989<br><a href=\"http://legacysurvey.org/viewer?ra=227.38175094714543&dec=-0.22549561778905822\"><img src=\"http://legacysurvey.org/viewer/jpeg-cutout/?ra=227.3818&dec=-0.2254956&zoom=15&layer=sdss&size=120\"></a></td><td>1237648721251401947<br><a href=\"http://legacysurvey.org/viewer?ra=227.2688860032584&dec=-0.006140237687534528\"><img src=\"http://legacysurvey.org/viewer/jpeg-cutout/?ra=227.2689&dec=-0.006140238&zoom=15&layer=sdss&size=120\"></a></td><td>1237648705670479932<br><a href=\"http://legacysurvey.org/viewer?ra=228.27598272277712&dec=0.9794651476148385\"><img src=\"http://legacysurvey.org/viewer/jpeg-cutout/?ra=228.276&dec=0.9794651&zoom=15&layer=sdss&size=120\"></a></td><td>1237651735777706099<br><a href=\"http://legacysurvey.org/viewer?ra=227.40800236272588&dec=1.307953816935291\"><img src=\"http://legacysurvey.org/viewer/jpeg-cutout/?ra=227.408&dec=1.307954&zoom=15&layer=sdss&size=120\"></a></td></tr>\n",
       "<tr><td>1237655467524882444<br><a href=\"http://legacysurvey.org/viewer?ra=227.66433811906967&dec=0.7277181194402139\"><img src=\"http://legacysurvey.org/viewer/jpeg-cutout/?ra=227.6643&dec=0.7277181&zoom=15&layer=sdss&size=120\"></a></td><td>1237651735777640477<br><a href=\"http://legacysurvey.org/viewer?ra=227.1998598257947&dec=1.4289898522230131\"><img src=\"http://legacysurvey.org/viewer/jpeg-cutout/?ra=227.1999&dec=1.42899&zoom=15&layer=sdss&size=120\"></a></td><td>1237648722325340361<br><a href=\"http://legacysurvey.org/viewer?ra=227.7290315632191&dec=0.7961828719417946\"><img src=\"http://legacysurvey.org/viewer/jpeg-cutout/?ra=227.729&dec=0.7961829&zoom=15&layer=sdss&size=120\"></a></td><td>1237648705670348945<br><a href=\"http://legacysurvey.org/viewer?ra=228.03847902244235&dec=0.8598603573658266\"><img src=\"http://legacysurvey.org/viewer/jpeg-cutout/?ra=228.0385&dec=0.8598604&zoom=15&layer=sdss&size=120\"></a></td><td>1237648722325340296<br><a href=\"http://legacysurvey.org/viewer?ra=227.65859961421444&dec=0.8216729304158003\"><img src=\"http://legacysurvey.org/viewer/jpeg-cutout/?ra=227.6586&dec=0.8216729&zoom=15&layer=sdss&size=120\"></a></td><td>1237648721251598401<br><a href=\"http://legacysurvey.org/viewer?ra=227.63093368863665&dec=-0.18321160589991062\"><img src=\"http://legacysurvey.org/viewer/jpeg-cutout/?ra=227.6309&dec=-0.1832116&zoom=15&layer=sdss&size=120\"></a></td></tr>\n",
       "<tr><td>1237648705132953738<br><a href=\"http://legacysurvey.org/viewer?ra=226.85523515846023&dec=0.5746267757829725\"><img src=\"http://legacysurvey.org/viewer/jpeg-cutout/?ra=226.8552&dec=0.5746268&zoom=15&layer=sdss&size=120\"></a></td><td>1237648721251532994<br><a href=\"http://legacysurvey.org/viewer?ra=227.57959629976648&dec=-0.052004622223897234\"><img src=\"http://legacysurvey.org/viewer/jpeg-cutout/?ra=227.5796&dec=-0.05200462&zoom=15&layer=sdss&size=120\"></a></td><td>1237648705670086769<br><a href=\"http://legacysurvey.org/viewer?ra=227.43376468457853&dec=0.8728474050283146\"><img src=\"http://legacysurvey.org/viewer/jpeg-cutout/?ra=227.4338&dec=0.8728474&zoom=15&layer=sdss&size=120\"></a></td><td>1237648720714530892<br><a href=\"http://legacysurvey.org/viewer?ra=227.1848455039671&dec=-0.45596474631503175\"><img src=\"http://legacysurvey.org/viewer/jpeg-cutout/?ra=227.1848&dec=-0.4559647&zoom=15&layer=sdss&size=120\"></a></td><td>1237648722325209122<br><a href=\"http://legacysurvey.org/viewer?ra=227.29889634527558&dec=0.8248301555306112\"><img src=\"http://legacysurvey.org/viewer/jpeg-cutout/?ra=227.2989&dec=0.8248302&zoom=15&layer=sdss&size=120\"></a></td><td>1237648705133019175<br><a href=\"http://legacysurvey.org/viewer?ra=226.9283585979175&dec=0.5134989869107787\"><img src=\"http://legacysurvey.org/viewer/jpeg-cutout/?ra=226.9284&dec=0.513499&zoom=15&layer=sdss&size=120\"></a></td></tr>\n",
       "<tr><td>1237648704596017198<br><a href=\"http://legacysurvey.org/viewer?ra=226.65284071814236&dec=0.2047165841324857\"><img src=\"http://legacysurvey.org/viewer/jpeg-cutout/?ra=226.6528&dec=0.2047166&zoom=15&layer=sdss&size=120\"></a></td><td>1237655467524423701<br><a href=\"http://legacysurvey.org/viewer?ra=226.6276595327816&dec=0.6266564924961016\"><img src=\"http://legacysurvey.org/viewer/jpeg-cutout/?ra=226.6277&dec=0.6266565&zoom=15&layer=sdss&size=120\"></a></td><td>1237648705132888276<br><a href=\"http://legacysurvey.org/viewer?ra=226.7060917460023&dec=0.5710638551634195\"><img src=\"http://legacysurvey.org/viewer/jpeg-cutout/?ra=226.7061&dec=0.5710639&zoom=15&layer=sdss&size=120\"></a></td><td>1237655467524620437<br><a href=\"http://legacysurvey.org/viewer?ra=227.20262600888418&dec=0.684247235430315\"><img src=\"http://legacysurvey.org/viewer/jpeg-cutout/?ra=227.2026&dec=0.6842472&zoom=15&layer=sdss&size=120\"></a></td><td>1237648705670152303<br><a href=\"http://legacysurvey.org/viewer?ra=227.5989712383253&dec=0.9344333722275574\"><img src=\"http://legacysurvey.org/viewer/jpeg-cutout/?ra=227.599&dec=0.9344334&zoom=15&layer=sdss&size=120\"></a></td><td>1237648704596672591<br><a href=\"http://legacysurvey.org/viewer?ra=228.13894363447986&dec=0.1538143158086128\"><img src=\"http://legacysurvey.org/viewer/jpeg-cutout/?ra=228.1389&dec=0.1538143&zoom=15&layer=sdss&size=120\"></a></td></tr>\n",
       "<tr><td>1237655467524882532<br><a href=\"http://legacysurvey.org/viewer?ra=227.74569958933205&dec=0.7174850496778387\"><img src=\"http://legacysurvey.org/viewer/jpeg-cutout/?ra=227.7457&dec=0.717485&zoom=15&layer=sdss&size=120\"></a></td><td>1237651735777902676<br><a href=\"http://legacysurvey.org/viewer?ra=227.90256932495174&dec=1.2857648724367885\"><img src=\"http://legacysurvey.org/viewer/jpeg-cutout/?ra=227.9026&dec=1.285765&zoom=15&layer=sdss&size=120\"></a></td><td>1237648704059670761<br><a href=\"http://legacysurvey.org/viewer?ra=227.86606454009024&dec=-0.2734906356396716\"><img src=\"http://legacysurvey.org/viewer/jpeg-cutout/?ra=227.8661&dec=-0.2734906&zoom=15&layer=sdss&size=120\"></a></td><td>1237648704596607062<br><a href=\"http://legacysurvey.org/viewer?ra=227.99481043958528&dec=0.1747016640512155\"><img src=\"http://legacysurvey.org/viewer/jpeg-cutout/?ra=227.9948&dec=0.1747017&zoom=15&layer=sdss&size=120\"></a></td><td>1237651735777640601<br><a href=\"http://legacysurvey.org/viewer?ra=227.28943283771503&dec=1.3378184258966503\"><img src=\"http://legacysurvey.org/viewer/jpeg-cutout/?ra=227.2894&dec=1.337818&zoom=15&layer=sdss&size=120\"></a></td><td>1237648704059736244<br><a href=\"http://legacysurvey.org/viewer?ra=227.99927388333538&dec=-0.20740843648271245\"><img src=\"http://legacysurvey.org/viewer/jpeg-cutout/?ra=227.9993&dec=-0.2074084&zoom=15&layer=sdss&size=120\"></a></td></tr>\n",
       "<tr><td>1237648722325471438<br><a href=\"http://legacysurvey.org/viewer?ra=227.96136071802414&dec=0.797872440756976\"><img src=\"http://legacysurvey.org/viewer/jpeg-cutout/?ra=227.9614&dec=0.7978724&zoom=15&layer=sdss&size=120\"></a></td><td>1237651735777902692<br><a href=\"http://legacysurvey.org/viewer?ra=227.91385266467597&dec=1.2420324443706727\"><img src=\"http://legacysurvey.org/viewer/jpeg-cutout/?ra=227.9139&dec=1.242032&zoom=15&layer=sdss&size=120\"></a></td><td>1237655467524685920<br><a href=\"http://legacysurvey.org/viewer?ra=227.2960700116642&dec=0.6943168340829088\"><img src=\"http://legacysurvey.org/viewer/jpeg-cutout/?ra=227.2961&dec=0.6943168&zoom=15&layer=sdss&size=120\"></a></td><td>1237655468061556835<br><a href=\"http://legacysurvey.org/viewer?ra=227.28022629275767&dec=1.1076294806100395\"><img src=\"http://legacysurvey.org/viewer/jpeg-cutout/?ra=227.2802&dec=1.107629&zoom=15&layer=sdss&size=120\"></a></td><td>1237648705670545425<br><a href=\"http://legacysurvey.org/viewer?ra=228.37349839808763&dec=0.8494084039591028\"><img src=\"http://legacysurvey.org/viewer/jpeg-cutout/?ra=228.3735&dec=0.8494084&zoom=15&layer=sdss&size=120\"></a></td><td>1237648705669824675<br><a href=\"http://legacysurvey.org/viewer?ra=226.80230911496756&dec=0.949861059368784\"><img src=\"http://legacysurvey.org/viewer/jpeg-cutout/?ra=226.8023&dec=0.9498611&zoom=15&layer=sdss&size=120\"></a></td></tr>\n",
       "<tr><td>1237648721788600430<br><a href=\"http://legacysurvey.org/viewer?ra=227.95152416184877&dec=0.29953146605993763\"><img src=\"http://legacysurvey.org/viewer/jpeg-cutout/?ra=227.9515&dec=0.2995315&zoom=15&layer=sdss&size=120\"></a></td><td>1237648705133609002<br><a href=\"http://legacysurvey.org/viewer?ra=228.2320781863323&dec=0.5529167940875747\"><img src=\"http://legacysurvey.org/viewer/jpeg-cutout/?ra=228.2321&dec=0.5529168&zoom=15&layer=sdss&size=120\"></a></td><td>1237651735777574918<br><a href=\"http://legacysurvey.org/viewer?ra=227.06192098559342&dec=1.3151361413339007\"><img src=\"http://legacysurvey.org/viewer/jpeg-cutout/?ra=227.0619&dec=1.315136&zoom=15&layer=sdss&size=120\"></a></td><td>1237648704059473995<br><a href=\"http://legacysurvey.org/viewer?ra=227.39104492505896&dec=-0.32219283527055637\"><img src=\"http://legacysurvey.org/viewer/jpeg-cutout/?ra=227.391&dec=-0.3221928&zoom=15&layer=sdss&size=120\"></a></td><td>1237651735777968283<br><a href=\"http://legacysurvey.org/viewer?ra=228.03098104616316&dec=1.21019616290806\"><img src=\"http://legacysurvey.org/viewer/jpeg-cutout/?ra=228.031&dec=1.210196&zoom=15&layer=sdss&size=120\"></a></td><td>1237655468061622318<br><a href=\"http://legacysurvey.org/viewer?ra=227.42933024523256&dec=1.1876026829065212\"><img src=\"http://legacysurvey.org/viewer/jpeg-cutout/?ra=227.4293&dec=1.187603&zoom=15&layer=sdss&size=120\"></a></td></tr>\n",
       "<tr><td>1237655467524358266<br><a href=\"http://legacysurvey.org/viewer?ra=226.61291830756466&dec=0.7188661840507298\"><img src=\"http://legacysurvey.org/viewer/jpeg-cutout/?ra=226.6129&dec=0.7188662&zoom=15&layer=sdss&size=120\"></a></td><td>1237648704596344876<br><a href=\"http://legacysurvey.org/viewer?ra=227.3527943305916&dec=0.01753357195442024\"><img src=\"http://legacysurvey.org/viewer/jpeg-cutout/?ra=227.3528&dec=0.01753357&zoom=15&layer=sdss&size=120\"></a></td><td>1237655467525079072<br><a href=\"http://legacysurvey.org/viewer?ra=228.16744375260714&dec=0.6821466549375718\"><img src=\"http://legacysurvey.org/viewer/jpeg-cutout/?ra=228.1674&dec=0.6821467&zoom=15&layer=sdss&size=120\"></a></td><td>3370370000000000939<br><a href=\"http://legacysurvey.org/viewer?ra=227.4191851812783&dec=0.9216904346389677\"><img src=\"http://legacysurvey.org/viewer/jpeg-cutout/?ra=227.4192&dec=0.9216904&zoom=15&layer=sdss&size=120\"></a></td><td>1237655467524489255<br><a href=\"http://legacysurvey.org/viewer?ra=226.808825403095&dec=0.6145688519520836\"><img src=\"http://legacysurvey.org/viewer/jpeg-cutout/?ra=226.8088&dec=0.6145689&zoom=15&layer=sdss&size=120\"></a></td><td>1237648705670414516<br><a href=\"http://legacysurvey.org/viewer?ra=228.215679430193&dec=0.9513986706286904\"><img src=\"http://legacysurvey.org/viewer/jpeg-cutout/?ra=228.2157&dec=0.9513987&zoom=15&layer=sdss&size=120\"></a></td></tr>\n",
       "<tr><td>1237651735777575197<br><a href=\"http://legacysurvey.org/viewer?ra=227.16597178996955&dec=1.3632140942465536\"><img src=\"http://legacysurvey.org/viewer/jpeg-cutout/?ra=227.166&dec=1.363214&zoom=15&layer=sdss&size=120\"></a></td><td>1237648721788272701<br><a href=\"http://legacysurvey.org/viewer?ra=227.1908587367157&dec=0.28869081008537434\"><img src=\"http://legacysurvey.org/viewer/jpeg-cutout/?ra=227.1909&dec=0.2886908&zoom=15&layer=sdss&size=120\"></a></td><td>1237648705133084848<br><a href=\"http://legacysurvey.org/viewer?ra=227.16054338883845&dec=0.44361062749292696\"><img src=\"http://legacysurvey.org/viewer/jpeg-cutout/?ra=227.1605&dec=0.4436106&zoom=15&layer=sdss&size=120\"></a></td><td>1237648705670217791<br><a href=\"http://legacysurvey.org/viewer?ra=227.69407247880613&dec=0.9081123940102681\"><img src=\"http://legacysurvey.org/viewer/jpeg-cutout/?ra=227.6941&dec=0.9081124&zoom=15&layer=sdss&size=120\"></a></td><td>1237648705669824694<br><a href=\"http://legacysurvey.org/viewer?ra=226.85869082891415&dec=0.8957949216345021\"><img src=\"http://legacysurvey.org/viewer/jpeg-cutout/?ra=226.8587&dec=0.8957949&zoom=15&layer=sdss&size=120\"></a></td><td>1237648704059801779<br><a href=\"http://legacysurvey.org/viewer?ra=228.13766754924336&dec=-0.21517260811762123\"><img src=\"http://legacysurvey.org/viewer/jpeg-cutout/?ra=228.1377&dec=-0.2151726&zoom=15&layer=sdss&size=120\"></a></td></tr>\n",
       "<tr><td>1237648721788665928<br><a href=\"http://legacysurvey.org/viewer?ra=228.08529536035132&dec=0.4196355787655621\"><img src=\"http://legacysurvey.org/viewer/jpeg-cutout/?ra=228.0853&dec=0.4196356&zoom=15&layer=sdss&size=120\"></a></td><td>1237655467524554865<br><a href=\"http://legacysurvey.org/viewer?ra=227.03282580160334&dec=0.7554793508827867\"><img src=\"http://legacysurvey.org/viewer/jpeg-cutout/?ra=227.0328&dec=0.7554794&zoom=15&layer=sdss&size=120\"></a></td><td>1237648705670414376<br><a href=\"http://legacysurvey.org/viewer?ra=228.10608446918565&dec=0.9339262635803814\"><img src=\"http://legacysurvey.org/viewer/jpeg-cutout/?ra=228.1061&dec=0.9339263&zoom=15&layer=sdss&size=120\"></a></td><td>1237648705670283351<br><a href=\"http://legacysurvey.org/viewer?ra=227.8713361160453&dec=0.9333209059259145\"><img src=\"http://legacysurvey.org/viewer/jpeg-cutout/?ra=227.8713&dec=0.9333209&zoom=15&layer=sdss&size=120\"></a></td><td>1237648704596541546<br><a href=\"http://legacysurvey.org/viewer?ra=227.86766579481082&dec=0.0951128601837213\"><img src=\"http://legacysurvey.org/viewer/jpeg-cutout/?ra=227.8677&dec=0.09511286&zoom=15&layer=sdss&size=120\"></a></td><td>1237655467524358185<br><a href=\"http://legacysurvey.org/viewer?ra=226.52483746272424&dec=0.7098350495218633\"><img src=\"http://legacysurvey.org/viewer/jpeg-cutout/?ra=226.5248&dec=0.709835&zoom=15&layer=sdss&size=120\"></a></td></tr>\n",
       "<tr><td>1237648704596541628<br><a href=\"http://legacysurvey.org/viewer?ra=227.91004315314683&dec=0.15366841566542247\"><img src=\"http://legacysurvey.org/viewer/jpeg-cutout/?ra=227.91&dec=0.1536684&zoom=15&layer=sdss&size=120\"></a></td><td>1237648704596607019<br><a href=\"http://legacysurvey.org/viewer?ra=227.94469827575324&dec=0.07570552931283701\"><img src=\"http://legacysurvey.org/viewer/jpeg-cutout/?ra=227.9447&dec=0.07570553&zoom=15&layer=sdss&size=120\"></a></td><td>1237655467525144661<br><a href=\"http://legacysurvey.org/viewer?ra=228.32465731677905&dec=0.6149349190644885\"><img src=\"http://legacysurvey.org/viewer/jpeg-cutout/?ra=228.3247&dec=0.6149349&zoom=15&layer=sdss&size=120\"></a></td><td>1237648704059474072<br><a href=\"http://legacysurvey.org/viewer?ra=227.44182755182618&dec=-0.33818000113454455\"><img src=\"http://legacysurvey.org/viewer/jpeg-cutout/?ra=227.4418&dec=-0.33818&zoom=15&layer=sdss&size=120\"></a></td><td>1237655468061556819<br><a href=\"http://legacysurvey.org/viewer?ra=227.28174999393548&dec=1.2009857002126676\"><img src=\"http://legacysurvey.org/viewer/jpeg-cutout/?ra=227.2817&dec=1.200986&zoom=15&layer=sdss&size=120\"></a></td><td>1237648721251401748<br><a href=\"http://legacysurvey.org/viewer?ra=227.1352690673682&dec=-0.014146145594314026\"><img src=\"http://legacysurvey.org/viewer/jpeg-cutout/?ra=227.1353&dec=-0.01414615&zoom=15&layer=sdss&size=120\"></a></td></tr>\n",
       "<tr><td>1237648704596541474<br><a href=\"http://legacysurvey.org/viewer?ra=227.81756894001427&dec=0.05334307633247277\"><img src=\"http://legacysurvey.org/viewer/jpeg-cutout/?ra=227.8176&dec=0.05334308&zoom=15&layer=sdss&size=120\"></a></td><td>1237651735777837140<br><a href=\"http://legacysurvey.org/viewer?ra=227.7354930217357&dec=1.2925675673429347\"><img src=\"http://legacysurvey.org/viewer/jpeg-cutout/?ra=227.7355&dec=1.292568&zoom=15&layer=sdss&size=120\"></a></td><td>1237655467524948056<br><a href=\"http://legacysurvey.org/viewer?ra=227.91512004254838&dec=0.6846636060987064\"><img src=\"http://legacysurvey.org/viewer/jpeg-cutout/?ra=227.9151&dec=0.6846636&zoom=15&layer=sdss&size=120\"></a></td><td>1237648705669824621<br><a href=\"http://legacysurvey.org/viewer?ra=226.76749387755663&dec=0.8672729168411741\"><img src=\"http://legacysurvey.org/viewer/jpeg-cutout/?ra=226.7675&dec=0.8672729&zoom=15&layer=sdss&size=120\"></a></td><td>1237648704596082732<br><a href=\"http://legacysurvey.org/viewer?ra=226.78584572556517&dec=0.10197182808512524\"><img src=\"http://legacysurvey.org/viewer/jpeg-cutout/?ra=226.7858&dec=0.1019718&zoom=15&layer=sdss&size=120\"></a></td><td>1237648705670086889<br><a href=\"http://legacysurvey.org/viewer?ra=227.45227846884444&dec=0.9201846855652658\"><img src=\"http://legacysurvey.org/viewer/jpeg-cutout/?ra=227.4523&dec=0.9201847&zoom=15&layer=sdss&size=120\"></a></td></tr>\n",
       "<tr><td>1237648704059474026<br><a href=\"http://legacysurvey.org/viewer?ra=227.4205117911961&dec=-0.272435977231708\"><img src=\"http://legacysurvey.org/viewer/jpeg-cutout/?ra=227.4205&dec=-0.272436&zoom=15&layer=sdss&size=120\"></a></td><td>1237648704596607140<br><a href=\"http://legacysurvey.org/viewer?ra=228.0504432744624&dec=0.17125560948710497\"><img src=\"http://legacysurvey.org/viewer/jpeg-cutout/?ra=228.0504&dec=0.1712556&zoom=15&layer=sdss&size=120\"></a></td><td>1237651735777574919<br><a href=\"http://legacysurvey.org/viewer?ra=227.05855878024624&dec=1.310489399394622\"><img src=\"http://legacysurvey.org/viewer/jpeg-cutout/?ra=227.0586&dec=1.310489&zoom=15&layer=sdss&size=120\"></a></td><td>1237648704059277459<br><a href=\"http://legacysurvey.org/viewer?ra=227.0216499118478&dec=-0.3711985549283355\"><img src=\"http://legacysurvey.org/viewer/jpeg-cutout/?ra=227.0216&dec=-0.3711986&zoom=15&layer=sdss&size=120\"></a></td><td>1237655467524882486<br><a href=\"http://legacysurvey.org/viewer?ra=227.68203982759616&dec=0.599278862499331\"><img src=\"http://legacysurvey.org/viewer/jpeg-cutout/?ra=227.682&dec=0.5992789&zoom=15&layer=sdss&size=120\"></a></td><td>1237648704595951761<br><a href=\"http://legacysurvey.org/viewer?ra=226.53328672282578&dec=0.16028275713576864\"><img src=\"http://legacysurvey.org/viewer/jpeg-cutout/?ra=226.5333&dec=0.1602828&zoom=15&layer=sdss&size=120\"></a></td></tr>\n",
       "<tr><td>1237648704596082778<br><a href=\"http://legacysurvey.org/viewer?ra=226.80839166744778&dec=0.19467144027056593\"><img src=\"http://legacysurvey.org/viewer/jpeg-cutout/?ra=226.8084&dec=0.1946714&zoom=15&layer=sdss&size=120\"></a></td><td>1237648704059277336<br><a href=\"http://legacysurvey.org/viewer?ra=226.8865321852759&dec=-0.34120828383032986\"><img src=\"http://legacysurvey.org/viewer/jpeg-cutout/?ra=226.8865&dec=-0.3412083&zoom=15&layer=sdss&size=120\"></a></td><td>1237648721788534910<br><a href=\"http://legacysurvey.org/viewer?ra=227.86265575998232&dec=0.2739292266715238\"><img src=\"http://legacysurvey.org/viewer/jpeg-cutout/?ra=227.8627&dec=0.2739292&zoom=15&layer=sdss&size=120\"></a></td><td>1237648721251729525<br><a href=\"http://legacysurvey.org/viewer?ra=227.98648201480515&dec=-0.038600419847413275\"><img src=\"http://legacysurvey.org/viewer/jpeg-cutout/?ra=227.9865&dec=-0.03860042&zoom=15&layer=sdss&size=120\"></a></td><td>1237648704059539538<br><a href=\"http://legacysurvey.org/viewer?ra=227.51299935230503&dec=-0.2898121300797341\"><img src=\"http://legacysurvey.org/viewer/jpeg-cutout/?ra=227.513&dec=-0.2898121&zoom=15&layer=sdss&size=120\"></a></td><td>1237648721251729453<br><a href=\"http://legacysurvey.org/viewer?ra=227.89879968276102&dec=-0.1492565685010546\"><img src=\"http://legacysurvey.org/viewer/jpeg-cutout/?ra=227.8988&dec=-0.1492566&zoom=15&layer=sdss&size=120\"></a></td></tr>\n",
       "<tr><td>1237648705132888178<br><a href=\"http://legacysurvey.org/viewer?ra=226.63290242158592&dec=0.570487249669453\"><img src=\"http://legacysurvey.org/viewer/jpeg-cutout/?ra=226.6329&dec=0.5704872&zoom=15&layer=sdss&size=120\"></a></td><td>1237655468061622373<br><a href=\"http://legacysurvey.org/viewer?ra=227.46392499491577&dec=1.1723460425521819\"><img src=\"http://legacysurvey.org/viewer/jpeg-cutout/?ra=227.4639&dec=1.172346&zoom=15&layer=sdss&size=120\"></a></td><td>1237648722325340339<br><a href=\"http://legacysurvey.org/viewer?ra=227.70813345516194&dec=0.8098381108261484\"><img src=\"http://legacysurvey.org/viewer/jpeg-cutout/?ra=227.7081&dec=0.8098381&zoom=15&layer=sdss&size=120\"></a></td><td>1237651735777443986<br><a href=\"http://legacysurvey.org/viewer?ra=226.86251286269788&dec=1.2407158128695774\"><img src=\"http://legacysurvey.org/viewer/jpeg-cutout/?ra=226.8625&dec=1.240716&zoom=15&layer=sdss&size=120\"></a></td><td>1237655467524423728<br><a href=\"http://legacysurvey.org/viewer?ra=226.6631475751796&dec=0.6862916222427804\"><img src=\"http://legacysurvey.org/viewer/jpeg-cutout/?ra=226.6631&dec=0.6862916&zoom=15&layer=sdss&size=120\"></a></td><td>1237648705670348831<br><a href=\"http://legacysurvey.org/viewer?ra=227.9327256349029&dec=0.854417633880246\"><img src=\"http://legacysurvey.org/viewer/jpeg-cutout/?ra=227.9327&dec=0.8544176&zoom=15&layer=sdss&size=120\"></a></td></tr>\n",
       "<tr><td>1237648721788600385<br><a href=\"http://legacysurvey.org/viewer?ra=227.92143292267102&dec=0.4015105371434139\"><img src=\"http://legacysurvey.org/viewer/jpeg-cutout/?ra=227.9214&dec=0.4015105&zoom=15&layer=sdss&size=120\"></a></td><td>1237648704059605106<br><a href=\"http://legacysurvey.org/viewer?ra=227.71766500209907&dec=-0.3499235853366205\"><img src=\"http://legacysurvey.org/viewer/jpeg-cutout/?ra=227.7177&dec=-0.3499236&zoom=15&layer=sdss&size=120\"></a></td><td>1237648704596082699<br><a href=\"http://legacysurvey.org/viewer?ra=226.73676717343818&dec=0.11062147003662226\"><img src=\"http://legacysurvey.org/viewer/jpeg-cutout/?ra=226.7368&dec=0.1106215&zoom=15&layer=sdss&size=120\"></a></td><td>1237648704596082789<br><a href=\"http://legacysurvey.org/viewer?ra=226.81234511384415&dec=0.10969932152571837\"><img src=\"http://legacysurvey.org/viewer/jpeg-cutout/?ra=226.8123&dec=0.1096993&zoom=15&layer=sdss&size=120\"></a></td><td>1237648721788534860<br><a href=\"http://legacysurvey.org/viewer?ra=227.81599579367546&dec=0.4066044522692487\"><img src=\"http://legacysurvey.org/viewer/jpeg-cutout/?ra=227.816&dec=0.4066045&zoom=15&layer=sdss&size=120\"></a></td><td>1237648721788797033<br><a href=\"http://legacysurvey.org/viewer?ra=228.4281540870037&dec=0.3724884510949007\"><img src=\"http://legacysurvey.org/viewer/jpeg-cutout/?ra=228.4282&dec=0.3724885&zoom=15&layer=sdss&size=120\"></a></td></tr>\n",
       "<tr><td>1237648704596475927<br><a href=\"http://legacysurvey.org/viewer?ra=227.63729988351815&dec=0.016135892271597\"><img src=\"http://legacysurvey.org/viewer/jpeg-cutout/?ra=227.6373&dec=0.01613589&zoom=15&layer=sdss&size=120\"></a></td><td>1237648721251401923<br><a href=\"http://legacysurvey.org/viewer?ra=227.25383641607803&dec=-0.03226884276013253\"><img src=\"http://legacysurvey.org/viewer/jpeg-cutout/?ra=227.2538&dec=-0.03226884&zoom=15&layer=sdss&size=120\"></a></td><td>1237648705132953713<br><a href=\"http://legacysurvey.org/viewer?ra=226.8294585200939&dec=0.5877687152210351\"><img src=\"http://legacysurvey.org/viewer/jpeg-cutout/?ra=226.8295&dec=0.5877687&zoom=15&layer=sdss&size=120\"></a></td><td>1237648721788796994<br><a href=\"http://legacysurvey.org/viewer?ra=228.40349185637308&dec=0.31149175196175277\"><img src=\"http://legacysurvey.org/viewer/jpeg-cutout/?ra=228.4035&dec=0.3114918&zoom=15&layer=sdss&size=120\"></a></td><td>1237655468061687916<br><a href=\"http://legacysurvey.org/viewer?ra=227.6330094780643&dec=1.0972672752529347\"><img src=\"http://legacysurvey.org/viewer/jpeg-cutout/?ra=227.633&dec=1.097267&zoom=15&layer=sdss&size=120\"></a></td><td>1237648721788600344<br><a href=\"http://legacysurvey.org/viewer?ra=227.89219756257017&dec=0.2896135465440907\"><img src=\"http://legacysurvey.org/viewer/jpeg-cutout/?ra=227.8922&dec=0.2896135&zoom=15&layer=sdss&size=120\"></a></td></tr>\n",
       "<tr><td>1237648704059605130<br><a href=\"http://legacysurvey.org/viewer?ra=227.74747321958876&dec=-0.2602039805829396\"><img src=\"http://legacysurvey.org/viewer/jpeg-cutout/?ra=227.7475&dec=-0.260204&zoom=15&layer=sdss&size=120\"></a></td><td>1237648704596082818<br><a href=\"http://legacysurvey.org/viewer?ra=226.83002282214255&dec=0.029339055781046706\"><img src=\"http://legacysurvey.org/viewer/jpeg-cutout/?ra=226.83&dec=0.02933906&zoom=15&layer=sdss&size=120\"></a></td><td>1237655467524423797<br><a href=\"http://legacysurvey.org/viewer?ra=226.7039462605855&dec=0.7383768696016894\"><img src=\"http://legacysurvey.org/viewer/jpeg-cutout/?ra=226.7039&dec=0.7383769&zoom=15&layer=sdss&size=120\"></a></td><td>1237648704596672545<br><a href=\"http://legacysurvey.org/viewer?ra=228.0992401453508&dec=0.05678113476376792\"><img src=\"http://legacysurvey.org/viewer/jpeg-cutout/?ra=228.0992&dec=0.05678113&zoom=15&layer=sdss&size=120\"></a></td><td>1237648705133609049<br><a href=\"http://legacysurvey.org/viewer?ra=228.26201294618383&dec=0.48748223972616855\"><img src=\"http://legacysurvey.org/viewer/jpeg-cutout/?ra=228.262&dec=0.4874822&zoom=15&layer=sdss&size=120\"></a></td><td>1237648705670021186<br><a href=\"http://legacysurvey.org/viewer?ra=227.22259413545896&dec=1.0076141307981419\"><img src=\"http://legacysurvey.org/viewer/jpeg-cutout/?ra=227.2226&dec=1.007614&zoom=15&layer=sdss&size=120\"></a></td></tr>\n",
       "<tr><td>1237648705669955692<br><a href=\"http://legacysurvey.org/viewer?ra=227.10402659774502&dec=0.9050142348357367\"><img src=\"http://legacysurvey.org/viewer/jpeg-cutout/?ra=227.104&dec=0.9050142&zoom=15&layer=sdss&size=120\"></a></td><td>1237655467524554761<br><a href=\"http://legacysurvey.org/viewer?ra=226.92119424010463&dec=0.6839721475834106\"><img src=\"http://legacysurvey.org/viewer/jpeg-cutout/?ra=226.9212&dec=0.6839721&zoom=15&layer=sdss&size=120\"></a></td><td>1237648720714661940<br><a href=\"http://legacysurvey.org/viewer?ra=227.4885909028043&dec=-0.4802791325410835\"><img src=\"http://legacysurvey.org/viewer/jpeg-cutout/?ra=227.4886&dec=-0.4802791&zoom=15&layer=sdss&size=120\"></a></td><td>1237648720714661903<br><a href=\"http://legacysurvey.org/viewer?ra=227.44839525390228&dec=-0.5238624321103832\"><img src=\"http://legacysurvey.org/viewer/jpeg-cutout/?ra=227.4484&dec=-0.5238624&zoom=15&layer=sdss&size=120\"></a></td><td>1237648705669890071<br><a href=\"http://legacysurvey.org/viewer?ra=226.88571189749698&dec=1.004575858847686\"><img src=\"http://legacysurvey.org/viewer/jpeg-cutout/?ra=226.8857&dec=1.004576&zoom=15&layer=sdss&size=120\"></a></td><td>1237648721251336362<br><a href=\"http://legacysurvey.org/viewer?ra=227.04863001269575&dec=-0.15628456342524502\"><img src=\"http://legacysurvey.org/viewer/jpeg-cutout/?ra=227.0486&dec=-0.1562846&zoom=15&layer=sdss&size=120\"></a></td></tr>\n",
       "<tr><td>1237651735777837078<br><a href=\"http://legacysurvey.org/viewer?ra=227.63357702468193&dec=1.29433094839703\"><img src=\"http://legacysurvey.org/viewer/jpeg-cutout/?ra=227.6336&dec=1.294331&zoom=15&layer=sdss&size=120\"></a></td><td>1237648721251795121<br><a href=\"http://legacysurvey.org/viewer?ra=228.1579865043651&dec=-0.161115100983966\"><img src=\"http://legacysurvey.org/viewer/jpeg-cutout/?ra=228.158&dec=-0.1611151&zoom=15&layer=sdss&size=120\"></a></td><td>1237655468061753422<br><a href=\"http://legacysurvey.org/viewer?ra=227.72856720908578&dec=1.1856864663650688\"><img src=\"http://legacysurvey.org/viewer/jpeg-cutout/?ra=227.7286&dec=1.185686&zoom=15&layer=sdss&size=120\"></a></td><td>1237651735777968227<br><a href=\"http://legacysurvey.org/viewer?ra=227.98525691930098&dec=1.2419708854960465\"><img src=\"http://legacysurvey.org/viewer/jpeg-cutout/?ra=227.9853&dec=1.241971&zoom=15&layer=sdss&size=120\"></a></td><td>1237655467525079174<br><a href=\"http://legacysurvey.org/viewer?ra=228.25243937954116&dec=0.6283293476877717\"><img src=\"http://legacysurvey.org/viewer/jpeg-cutout/?ra=228.2524&dec=0.6283293&zoom=15&layer=sdss&size=120\"></a></td><td>1237655468061425793<br><a href=\"http://legacysurvey.org/viewer?ra=227.03915844885069&dec=1.0378500341328736\"><img src=\"http://legacysurvey.org/viewer/jpeg-cutout/?ra=227.0392&dec=1.03785&zoom=15&layer=sdss&size=120\"></a></td></tr>\n",
       "<tr><td>1237648705669890051<br><a href=\"http://legacysurvey.org/viewer?ra=226.88062865727298&dec=0.948633404432601\"><img src=\"http://legacysurvey.org/viewer/jpeg-cutout/?ra=226.8806&dec=0.9486334&zoom=15&layer=sdss&size=120\"></a></td><td>1237648705670414458<br><a href=\"http://legacysurvey.org/viewer?ra=228.16150835135477&dec=0.8762812327895003\"><img src=\"http://legacysurvey.org/viewer/jpeg-cutout/?ra=228.1615&dec=0.8762812&zoom=15&layer=sdss&size=120\"></a></td><td>1237648705669759056<br><a href=\"http://legacysurvey.org/viewer?ra=226.6504394397855&dec=0.9915414853343097\"><img src=\"http://legacysurvey.org/viewer/jpeg-cutout/?ra=226.6504&dec=0.9915415&zoom=15&layer=sdss&size=120\"></a></td><td>1237648705132888196<br><a href=\"http://legacysurvey.org/viewer?ra=226.65028425933497&dec=0.4549241209834883\"><img src=\"http://legacysurvey.org/viewer/jpeg-cutout/?ra=226.6503&dec=0.4549241&zoom=15&layer=sdss&size=120\"></a></td><td>1237648704059277376<br><a href=\"http://legacysurvey.org/viewer?ra=226.95253470940014&dec=-0.20914626714296966\"><img src=\"http://legacysurvey.org/viewer/jpeg-cutout/?ra=226.9525&dec=-0.2091463&zoom=15&layer=sdss&size=120\"></a></td><td>1237648721788665915<br><a href=\"http://legacysurvey.org/viewer?ra=228.0850970313504&dec=0.2299680065320174\"><img src=\"http://legacysurvey.org/viewer/jpeg-cutout/?ra=228.0851&dec=0.229968&zoom=15&layer=sdss&size=120\"></a></td></tr>\n",
       "<tr><td>1237648704596344920<br><a href=\"http://legacysurvey.org/viewer?ra=227.372343914459&dec=0.19460034995087544\"><img src=\"http://legacysurvey.org/viewer/jpeg-cutout/?ra=227.3723&dec=0.1946003&zoom=15&layer=sdss&size=120\"></a></td><td>1237648704596607072<br><a href=\"http://legacysurvey.org/viewer?ra=228.006503334996&dec=0.13647390220494943\"><img src=\"http://legacysurvey.org/viewer/jpeg-cutout/?ra=228.0065&dec=0.1364739&zoom=15&layer=sdss&size=120\"></a></td><td>1237648705132822727<br><a href=\"http://legacysurvey.org/viewer?ra=226.543627229633&dec=0.5696222996881677\"><img src=\"http://legacysurvey.org/viewer/jpeg-cutout/?ra=226.5436&dec=0.5696223&zoom=15&layer=sdss&size=120\"></a></td><td>1237648704596672719<br><a href=\"http://legacysurvey.org/viewer?ra=228.1696417540756&dec=0.012426619032566966\"><img src=\"http://legacysurvey.org/viewer/jpeg-cutout/?ra=228.1696&dec=0.01242662&zoom=15&layer=sdss&size=120\"></a></td><td>1237648705670217781<br><a href=\"http://legacysurvey.org/viewer?ra=227.67491259758333&dec=0.9574985670860261\"><img src=\"http://legacysurvey.org/viewer/jpeg-cutout/?ra=227.6749&dec=0.9574986&zoom=15&layer=sdss&size=120\"></a></td><td>1237655468061491293<br><a href=\"http://legacysurvey.org/viewer?ra=227.18150797341195&dec=1.0890577923256164\"><img src=\"http://legacysurvey.org/viewer/jpeg-cutout/?ra=227.1815&dec=1.089058&zoom=15&layer=sdss&size=120\"></a></td></tr>\n",
       "<tr><td>1237648704596672608<br><a href=\"http://legacysurvey.org/viewer?ra=228.1420646133426&dec=0.022861426518849325\"><img src=\"http://legacysurvey.org/viewer/jpeg-cutout/?ra=228.1421&dec=0.02286143&zoom=15&layer=sdss&size=120\"></a></td><td>1237648721251467366<br><a href=\"http://legacysurvey.org/viewer?ra=227.37124569285055&dec=-0.10670504974693047\"><img src=\"http://legacysurvey.org/viewer/jpeg-cutout/?ra=227.3712&dec=-0.106705&zoom=15&layer=sdss&size=120\"></a></td><td>1237655468061556785<br><a href=\"http://legacysurvey.org/viewer?ra=227.23654055837454&dec=1.1697431731962495\"><img src=\"http://legacysurvey.org/viewer/jpeg-cutout/?ra=227.2365&dec=1.169743&zoom=15&layer=sdss&size=120\"></a></td><td>1237655467525013561<br><a href=\"http://legacysurvey.org/viewer?ra=227.9758150141297&dec=0.7188760293588563\"><img src=\"http://legacysurvey.org/viewer/jpeg-cutout/?ra=227.9758&dec=0.718876&zoom=15&layer=sdss&size=120\"></a></td><td>1237648721251205143<br><a href=\"http://legacysurvey.org/viewer?ra=226.70406474765278&dec=-0.17341582320416551\"><img src=\"http://legacysurvey.org/viewer/jpeg-cutout/?ra=226.7041&dec=-0.1734158&zoom=15&layer=sdss&size=120\"></a></td><td>1237648721251729548<br><a href=\"http://legacysurvey.org/viewer?ra=228.00056371211974&dec=-0.0876019428727284\"><img src=\"http://legacysurvey.org/viewer/jpeg-cutout/?ra=228.0006&dec=-0.08760194&zoom=15&layer=sdss&size=120\"></a></td></tr>\n",
       "<tr><td>1237648705670348929<br><a href=\"http://legacysurvey.org/viewer?ra=228.03646699183196&dec=0.8863175474767667\"><img src=\"http://legacysurvey.org/viewer/jpeg-cutout/?ra=228.0365&dec=0.8863175&zoom=15&layer=sdss&size=120\"></a></td><td>1237648704596475950<br><a href=\"http://legacysurvey.org/viewer?ra=227.67345231485768&dec=0.12939711072966625\"><img src=\"http://legacysurvey.org/viewer/jpeg-cutout/?ra=227.6735&dec=0.1293971&zoom=15&layer=sdss&size=120\"></a></td><td>1237648704596607104<br><a href=\"http://legacysurvey.org/viewer?ra=228.01443403850908&dec=0.04757618781524293\"><img src=\"http://legacysurvey.org/viewer/jpeg-cutout/?ra=228.0144&dec=0.04757619&zoom=15&layer=sdss&size=120\"></a></td><td>1237648721251467301<br><a href=\"http://legacysurvey.org/viewer?ra=227.33026175179424&dec=-0.19297887126119298\"><img src=\"http://legacysurvey.org/viewer/jpeg-cutout/?ra=227.3303&dec=-0.1929789&zoom=15&layer=sdss&size=120\"></a></td><td>1237648705670152227<br><a href=\"http://legacysurvey.org/viewer?ra=227.516911480825&dec=0.9681502770285056\"><img src=\"http://legacysurvey.org/viewer/jpeg-cutout/?ra=227.5169&dec=0.9681503&zoom=15&layer=sdss&size=120\"></a></td><td>1237651735777771629<br><a href=\"http://legacysurvey.org/viewer?ra=227.61249513727563&dec=1.3227634122668543\"><img src=\"http://legacysurvey.org/viewer/jpeg-cutout/?ra=227.6125&dec=1.322763&zoom=15&layer=sdss&size=120\"></a></td></tr>\n",
       "<tr><td>1237648705133609070<br><a href=\"http://legacysurvey.org/viewer?ra=228.27747425559673&dec=0.44917983599492123\"><img src=\"http://legacysurvey.org/viewer/jpeg-cutout/?ra=228.2775&dec=0.4491798&zoom=15&layer=sdss&size=120\"></a></td><td>1237648721788010614<br><a href=\"http://legacysurvey.org/viewer?ra=226.57892689917617&dec=0.29453336500836585\"><img src=\"http://legacysurvey.org/viewer/jpeg-cutout/?ra=226.5789&dec=0.2945334&zoom=15&layer=sdss&size=120\"></a></td><td>1237651735777706178<br><a href=\"http://legacysurvey.org/viewer?ra=227.47188566877338&dec=1.3476924029145316\"><img src=\"http://legacysurvey.org/viewer/jpeg-cutout/?ra=227.4719&dec=1.347692&zoom=15&layer=sdss&size=120\"></a></td><td>1237648722325405779<br><a href=\"http://legacysurvey.org/viewer?ra=227.81413851062993&dec=0.8433744111824671\"><img src=\"http://legacysurvey.org/viewer/jpeg-cutout/?ra=227.8141&dec=0.8433744&zoom=15&layer=sdss&size=120\"></a></td><td>1237648720714727450<br><a href=\"http://legacysurvey.org/viewer?ra=227.5962057827273&dec=-0.42643488956525877\"><img src=\"http://legacysurvey.org/viewer/jpeg-cutout/?ra=227.5962&dec=-0.4264349&zoom=15&layer=sdss&size=120\"></a></td><td>1237655468061884508<br><a href=\"http://legacysurvey.org/viewer?ra=228.03650843231452&dec=1.123238716781383\"><img src=\"http://legacysurvey.org/viewer/jpeg-cutout/?ra=228.0365&dec=1.123239&zoom=15&layer=sdss&size=120\"></a></td></tr>\n",
       "<tr><td>1237648705670414445<br><a href=\"http://legacysurvey.org/viewer?ra=228.15603629088463&dec=0.8956929306084417\"><img src=\"http://legacysurvey.org/viewer/jpeg-cutout/?ra=228.156&dec=0.8956929&zoom=15&layer=sdss&size=120\"></a></td><td>1237648704059539562<br><a href=\"http://legacysurvey.org/viewer?ra=227.52090594968328&dec=-0.3630364912318767\"><img src=\"http://legacysurvey.org/viewer/jpeg-cutout/?ra=227.5209&dec=-0.3630365&zoom=15&layer=sdss&size=120\"></a></td><td>1237651735777837091<br><a href=\"http://legacysurvey.org/viewer?ra=227.651743174787&dec=1.3149916881275276\"><img src=\"http://legacysurvey.org/viewer/jpeg-cutout/?ra=227.6517&dec=1.314992&zoom=15&layer=sdss&size=120\"></a></td><td>1237648721788207203<br><a href=\"http://legacysurvey.org/viewer?ra=227.0640975345281&dec=0.3978558936515346\"><img src=\"http://legacysurvey.org/viewer/jpeg-cutout/?ra=227.0641&dec=0.3978559&zoom=15&layer=sdss&size=120\"></a></td><td>1237655467524423775<br><a href=\"http://legacysurvey.org/viewer?ra=226.68515766063706&dec=0.7075285147604683\"><img src=\"http://legacysurvey.org/viewer/jpeg-cutout/?ra=226.6852&dec=0.7075285&zoom=15&layer=sdss&size=120\"></a></td><td>1237655468061622279<br><a href=\"http://legacysurvey.org/viewer?ra=227.38761687552005&dec=1.1846725540383036\"><img src=\"http://legacysurvey.org/viewer/jpeg-cutout/?ra=227.3876&dec=1.184673&zoom=15&layer=sdss&size=120\"></a></td></tr>\n",
       "<tr><td>1237655467525013593<br><a href=\"http://legacysurvey.org/viewer?ra=227.982673173433&dec=0.6137173317889759\"><img src=\"http://legacysurvey.org/viewer/jpeg-cutout/?ra=227.9827&dec=0.6137173&zoom=15&layer=sdss&size=120\"></a></td><td>1237648704059539579<br><a href=\"http://legacysurvey.org/viewer?ra=227.54365746755278&dec=-0.3950455095280242\"><img src=\"http://legacysurvey.org/viewer/jpeg-cutout/?ra=227.5437&dec=-0.3950455&zoom=15&layer=sdss&size=120\"></a></td><td>1237648705670348896<br><a href=\"http://legacysurvey.org/viewer?ra=227.99228120964966&dec=0.8499754123847074\"><img src=\"http://legacysurvey.org/viewer/jpeg-cutout/?ra=227.9923&dec=0.8499754&zoom=15&layer=sdss&size=120\"></a></td><td>1237648705670348971<br><a href=\"http://legacysurvey.org/viewer?ra=228.0605719653898&dec=0.9729562304034747\"><img src=\"http://legacysurvey.org/viewer/jpeg-cutout/?ra=228.0606&dec=0.9729562&zoom=15&layer=sdss&size=120\"></a></td><td>1237648721251664029<br><a href=\"http://legacysurvey.org/viewer?ra=227.8344665406746&dec=-0.032284581298340324\"><img src=\"http://legacysurvey.org/viewer/jpeg-cutout/?ra=227.8345&dec=-0.03228458&zoom=15&layer=sdss&size=120\"></a></td><td>1237648722324881611<br><a href=\"http://legacysurvey.org/viewer?ra=226.68307332423916&dec=0.8380638642112672\"><img src=\"http://legacysurvey.org/viewer/jpeg-cutout/?ra=226.6831&dec=0.8380639&zoom=15&layer=sdss&size=120\"></a></td></tr>\n",
       "<tr><td>1237648721788207137<br><a href=\"http://legacysurvey.org/viewer?ra=227.0064598936384&dec=0.26987104887619345\"><img src=\"http://legacysurvey.org/viewer/jpeg-cutout/?ra=227.0065&dec=0.269871&zoom=15&layer=sdss&size=120\"></a></td><td>1237648705670086770<br><a href=\"http://legacysurvey.org/viewer?ra=227.41903164175534&dec=0.921961047503408\"><img src=\"http://legacysurvey.org/viewer/jpeg-cutout/?ra=227.419&dec=0.921961&zoom=15&layer=sdss&size=120\"></a></td><td>1237651735777968298<br><a href=\"http://legacysurvey.org/viewer?ra=228.0591050761235&dec=1.2198171930620763\"><img src=\"http://legacysurvey.org/viewer/jpeg-cutout/?ra=228.0591&dec=1.219817&zoom=15&layer=sdss&size=120\"></a></td><td>1237655467524554834<br><a href=\"http://legacysurvey.org/viewer?ra=227.01761924529927&dec=0.7995484099301252\"><img src=\"http://legacysurvey.org/viewer/jpeg-cutout/?ra=227.0176&dec=0.7995484&zoom=15&layer=sdss&size=120\"></a></td><td>1237655468061360135<br><a href=\"http://legacysurvey.org/viewer?ra=226.78333483774657&dec=1.1203093905855135\"><img src=\"http://legacysurvey.org/viewer/jpeg-cutout/?ra=226.7833&dec=1.120309&zoom=15&layer=sdss&size=120\"></a></td><td>1237648721251336341<br><a href=\"http://legacysurvey.org/viewer?ra=227.03555182947974&dec=-0.18453888550142353\"><img src=\"http://legacysurvey.org/viewer/jpeg-cutout/?ra=227.0356&dec=-0.1845389&zoom=15&layer=sdss&size=120\"></a></td></tr>\n",
       "<tr><td>1237648705669693580<br><a href=\"http://legacysurvey.org/viewer?ra=226.5633261751411&dec=0.8787844940963623\"><img src=\"http://legacysurvey.org/viewer/jpeg-cutout/?ra=226.5633&dec=0.8787845&zoom=15&layer=sdss&size=120\"></a></td><td>1237648705132822707<br><a href=\"http://legacysurvey.org/viewer?ra=226.50801909845865&dec=0.4432193068135088\"><img src=\"http://legacysurvey.org/viewer/jpeg-cutout/?ra=226.508&dec=0.4432193&zoom=15&layer=sdss&size=120\"></a></td><td>1237648721788534920<br><a href=\"http://legacysurvey.org/viewer?ra=227.86695692680655&dec=0.30683440932708583\"><img src=\"http://legacysurvey.org/viewer/jpeg-cutout/?ra=227.867&dec=0.3068344&zoom=15&layer=sdss&size=120\"></a></td><td>1237655468061556798<br><a href=\"http://legacysurvey.org/viewer?ra=227.25026766162966&dec=1.0832109531553544\"><img src=\"http://legacysurvey.org/viewer/jpeg-cutout/?ra=227.2503&dec=1.083211&zoom=15&layer=sdss&size=120\"></a></td><td>1237648721251205279<br><a href=\"http://legacysurvey.org/viewer?ra=226.81685710551906&dec=-0.08898087633729262\"><img src=\"http://legacysurvey.org/viewer/jpeg-cutout/?ra=226.8169&dec=-0.08898088&zoom=15&layer=sdss&size=120\"></a></td><td>1237648705132822734<br><a href=\"http://legacysurvey.org/viewer?ra=226.55057460223486&dec=0.4537163626125003\"><img src=\"http://legacysurvey.org/viewer/jpeg-cutout/?ra=226.5506&dec=0.4537164&zoom=15&layer=sdss&size=120\"></a></td></tr>\n",
       "<tr><td>1237655467524685872<br><a href=\"http://legacysurvey.org/viewer?ra=227.2789970161972&dec=0.7029118672798342\"><img src=\"http://legacysurvey.org/viewer/jpeg-cutout/?ra=227.279&dec=0.7029119&zoom=15&layer=sdss&size=120\"></a></td><td>1237648721788010656<br><a href=\"http://legacysurvey.org/viewer?ra=226.62855550841456&dec=0.23406737877446412\"><img src=\"http://legacysurvey.org/viewer/jpeg-cutout/?ra=226.6286&dec=0.2340674&zoom=15&layer=sdss&size=120\"></a></td><td>1237651735777575141<br><a href=\"http://legacysurvey.org/viewer?ra=227.12680045043857&dec=1.2683588180122085\"><img src=\"http://legacysurvey.org/viewer/jpeg-cutout/?ra=227.1268&dec=1.268359&zoom=15&layer=sdss&size=120\"></a></td><td>1237648705132888078<br><a href=\"http://legacysurvey.org/viewer?ra=226.57966433492794&dec=0.45275308428333116\"><img src=\"http://legacysurvey.org/viewer/jpeg-cutout/?ra=226.5797&dec=0.4527531&zoom=15&layer=sdss&size=120\"></a></td><td>1237648705670348882<br><a href=\"http://legacysurvey.org/viewer?ra=227.981956294624&dec=0.889065628898433\"><img src=\"http://legacysurvey.org/viewer/jpeg-cutout/?ra=227.982&dec=0.8890656&zoom=15&layer=sdss&size=120\"></a></td><td>1237651735777509528<br><a href=\"http://legacysurvey.org/viewer?ra=227.02056311461808&dec=1.2620677489070768\"><img src=\"http://legacysurvey.org/viewer/jpeg-cutout/?ra=227.0206&dec=1.262068&zoom=15&layer=sdss&size=120\"></a></td></tr>\n",
       "<tr><td>1237655468061818983<br><a href=\"http://legacysurvey.org/viewer?ra=227.8867920997472&dec=1.1035924183972972\"><img src=\"http://legacysurvey.org/viewer/jpeg-cutout/?ra=227.8868&dec=1.103592&zoom=15&layer=sdss&size=120\"></a></td><td>1237648704596017184<br><a href=\"http://legacysurvey.org/viewer?ra=226.64415078728362&dec=0.1554700365041618\"><img src=\"http://legacysurvey.org/viewer/jpeg-cutout/?ra=226.6442&dec=0.15547&zoom=15&layer=sdss&size=120\"></a></td><td>1237655468061884603<br><a href=\"http://legacysurvey.org/viewer?ra=228.09625499749666&dec=1.1416656306678985\"><img src=\"http://legacysurvey.org/viewer/jpeg-cutout/?ra=228.0963&dec=1.141666&zoom=15&layer=sdss&size=120\"></a></td><td>1237648705669759076<br><a href=\"http://legacysurvey.org/viewer?ra=226.66504070853867&dec=0.8709891418682747\"><img src=\"http://legacysurvey.org/viewer/jpeg-cutout/?ra=226.665&dec=0.8709891&zoom=15&layer=sdss&size=120\"></a></td><td>1237648705133674572<br><a href=\"http://legacysurvey.org/viewer?ra=228.4426050812983&dec=0.44983364084554767\"><img src=\"http://legacysurvey.org/viewer/jpeg-cutout/?ra=228.4426&dec=0.4498336&zoom=15&layer=sdss&size=120\"></a></td><td>1237648705669955662<br><a href=\"http://legacysurvey.org/viewer?ra=227.08036125630343&dec=0.8931447102286556\"><img src=\"http://legacysurvey.org/viewer/jpeg-cutout/?ra=227.0804&dec=0.8931447&zoom=15&layer=sdss&size=120\"></a></td></tr>\n",
       "<tr><td>1237655468061622299<br><a href=\"http://legacysurvey.org/viewer?ra=227.39499217052128&dec=1.2021024016357735\"><img src=\"http://legacysurvey.org/viewer/jpeg-cutout/?ra=227.395&dec=1.202102&zoom=15&layer=sdss&size=120\"></a></td><td>1237648722324881538<br><a href=\"http://legacysurvey.org/viewer?ra=226.62222147539885&dec=0.823980268431828\"><img src=\"http://legacysurvey.org/viewer/jpeg-cutout/?ra=226.6222&dec=0.8239803&zoom=15&layer=sdss&size=120\"></a></td><td>1237651735777837101<br><a href=\"http://legacysurvey.org/viewer?ra=227.6583304446823&dec=1.332275606054454\"><img src=\"http://legacysurvey.org/viewer/jpeg-cutout/?ra=227.6583&dec=1.332276&zoom=15&layer=sdss&size=120\"></a></td><td>1237648721251467331<br><a href=\"http://legacysurvey.org/viewer?ra=227.35154450221103&dec=-0.1011814557544615\"><img src=\"http://legacysurvey.org/viewer/jpeg-cutout/?ra=227.3515&dec=-0.1011815&zoom=15&layer=sdss&size=120\"></a></td><td>1237648704596279343<br><a href=\"http://legacysurvey.org/viewer?ra=227.19958579199903&dec=0.08554724349603432\"><img src=\"http://legacysurvey.org/viewer/jpeg-cutout/?ra=227.1996&dec=0.08554724&zoom=15&layer=sdss&size=120\"></a></td><td>1237648720714727431<br><a href=\"http://legacysurvey.org/viewer?ra=227.58844994579144&dec=-0.46270856418912226\"><img src=\"http://legacysurvey.org/viewer/jpeg-cutout/?ra=227.5884&dec=-0.4627086&zoom=15&layer=sdss&size=120\"></a></td></tr>\n",
       "<tr><td>1237655467525144674<br><a href=\"http://legacysurvey.org/viewer?ra=228.3370170573055&dec=0.7698185862038314\"><img src=\"http://legacysurvey.org/viewer/jpeg-cutout/?ra=228.337&dec=0.7698186&zoom=15&layer=sdss&size=120\"></a></td><td>1237651735777706133<br><a href=\"http://legacysurvey.org/viewer?ra=227.42849237890346&dec=1.219914502655926\"><img src=\"http://legacysurvey.org/viewer/jpeg-cutout/?ra=227.4285&dec=1.219915&zoom=15&layer=sdss&size=120\"></a></td><td>1237648704596279421<br><a href=\"http://legacysurvey.org/viewer?ra=227.25674823941853&dec=0.11022765551849158\"><img src=\"http://legacysurvey.org/viewer/jpeg-cutout/?ra=227.2567&dec=0.1102277&zoom=15&layer=sdss&size=120\"></a></td><td>1237648721251795114<br><a href=\"http://legacysurvey.org/viewer?ra=228.1561312792036&dec=-0.046201656272958525\"><img src=\"http://legacysurvey.org/viewer/jpeg-cutout/?ra=228.1561&dec=-0.04620166&zoom=15&layer=sdss&size=120\"></a></td><td>1237648704596148351<br><a href=\"http://legacysurvey.org/viewer?ra=226.9314900254871&dec=0.1781483487470171\"><img src=\"http://legacysurvey.org/viewer/jpeg-cutout/?ra=226.9315&dec=0.1781483&zoom=15&layer=sdss&size=120\"></a></td><td>1237648705670021225<br><a href=\"http://legacysurvey.org/viewer?ra=227.31198972704573&dec=0.846588097385342\"><img src=\"http://legacysurvey.org/viewer/jpeg-cutout/?ra=227.312&dec=0.8465881&zoom=15&layer=sdss&size=120\"></a></td></tr>\n",
       "<tr><td>1237655468061884630<br><a href=\"http://legacysurvey.org/viewer?ra=228.11745999864678&dec=1.1728381074948548\"><img src=\"http://legacysurvey.org/viewer/jpeg-cutout/?ra=228.1175&dec=1.172838&zoom=15&layer=sdss&size=120\"></a></td><td>1237655468061687952<br><a href=\"http://legacysurvey.org/viewer?ra=227.6612557955262&dec=1.0674403182263743\"><img src=\"http://legacysurvey.org/viewer/jpeg-cutout/?ra=227.6613&dec=1.06744&zoom=15&layer=sdss&size=120\"></a></td><td>1237648721788207206<br><a href=\"http://legacysurvey.org/viewer?ra=227.06614646032583&dec=0.3783584328050336\"><img src=\"http://legacysurvey.org/viewer/jpeg-cutout/?ra=227.0661&dec=0.3783584&zoom=15&layer=sdss&size=120\"></a></td><td>1237655467524358245<br><a href=\"http://legacysurvey.org/viewer?ra=226.57912292797135&dec=0.6455053715214976\"><img src=\"http://legacysurvey.org/viewer/jpeg-cutout/?ra=226.5791&dec=0.6455054&zoom=15&layer=sdss&size=120\"></a></td><td>1237648721788666032<br><a href=\"http://legacysurvey.org/viewer?ra=228.12891186368557&dec=0.22240033906477363\"><img src=\"http://legacysurvey.org/viewer/jpeg-cutout/?ra=228.1289&dec=0.2224003&zoom=15&layer=sdss&size=120\"></a></td><td>1237655468061884470<br><a href=\"http://legacysurvey.org/viewer?ra=228.01021027820923&dec=1.109381403248893\"><img src=\"http://legacysurvey.org/viewer/jpeg-cutout/?ra=228.0102&dec=1.109381&zoom=15&layer=sdss&size=120\"></a></td></tr>\n",
       "<tr><td>1237655468061687900<br><a href=\"http://legacysurvey.org/viewer?ra=227.60442774585056&dec=1.0172999860403742\"><img src=\"http://legacysurvey.org/viewer/jpeg-cutout/?ra=227.6044&dec=1.0173&zoom=15&layer=sdss&size=120\"></a></td><td>1237648705669890122<br><a href=\"http://legacysurvey.org/viewer?ra=226.94049293125246&dec=0.881154845659613\"><img src=\"http://legacysurvey.org/viewer/jpeg-cutout/?ra=226.9405&dec=0.8811548&zoom=15&layer=sdss&size=120\"></a></td><td>1237648704596279317<br><a href=\"http://legacysurvey.org/viewer?ra=227.19050463462523&dec=0.04043461737357302\"><img src=\"http://legacysurvey.org/viewer/jpeg-cutout/?ra=227.1905&dec=0.04043462&zoom=15&layer=sdss&size=120\"></a></td><td>1237648721251598396<br><a href=\"http://legacysurvey.org/viewer?ra=227.62433215943733&dec=-0.004144415029127318\"><img src=\"http://legacysurvey.org/viewer/jpeg-cutout/?ra=227.6243&dec=-0.004144415&zoom=15&layer=sdss&size=120\"></a></td><td>1237651735777575152<br><a href=\"http://legacysurvey.org/viewer?ra=227.13037839234704&dec=1.2907372230052088\"><img src=\"http://legacysurvey.org/viewer/jpeg-cutout/?ra=227.1304&dec=1.290737&zoom=15&layer=sdss&size=120\"></a></td><td>1237651735777837108<br><a href=\"http://legacysurvey.org/viewer?ra=227.6668400096001&dec=1.3278233004340363\"><img src=\"http://legacysurvey.org/viewer/jpeg-cutout/?ra=227.6668&dec=1.327823&zoom=15&layer=sdss&size=120\"></a></td></tr>\n",
       "<tr><td>1237648705670348845<br><a href=\"http://legacysurvey.org/viewer?ra=227.94305594068837&dec=0.8650473325133671\"><img src=\"http://legacysurvey.org/viewer/jpeg-cutout/?ra=227.9431&dec=0.8650473&zoom=15&layer=sdss&size=120\"></a></td><td>1237655467524620357<br><a href=\"http://legacysurvey.org/viewer?ra=227.12465007780804&dec=0.5998476549631301\"><img src=\"http://legacysurvey.org/viewer/jpeg-cutout/?ra=227.1247&dec=0.5998477&zoom=15&layer=sdss&size=120\"></a></td><td>1237655468061491340<br><a href=\"http://legacysurvey.org/viewer?ra=227.2076432543243&dec=1.1627532686696889\"><img src=\"http://legacysurvey.org/viewer/jpeg-cutout/?ra=227.2076&dec=1.162753&zoom=15&layer=sdss&size=120\"></a></td><td>1237651735777771571<br><a href=\"http://legacysurvey.org/viewer?ra=227.53074063473264&dec=1.3240317494916698\"><img src=\"http://legacysurvey.org/viewer/jpeg-cutout/?ra=227.5307&dec=1.324032&zoom=15&layer=sdss&size=120\"></a></td><td>1237648721788207239<br><a href=\"http://legacysurvey.org/viewer?ra=227.1065081549105&dec=0.3793792644523241\"><img src=\"http://legacysurvey.org/viewer/jpeg-cutout/?ra=227.1065&dec=0.3793793&zoom=15&layer=sdss&size=120\"></a></td><td>1237648705670021175<br><a href=\"http://legacysurvey.org/viewer?ra=227.221438130612&dec=0.8570570552576573\"><img src=\"http://legacysurvey.org/viewer/jpeg-cutout/?ra=227.2214&dec=0.8570571&zoom=15&layer=sdss&size=120\"></a></td></tr>\n",
       "<tr><td>1237648720714792981<br><a href=\"http://legacysurvey.org/viewer?ra=227.75527074563632&dec=-0.44566704611981695\"><img src=\"http://legacysurvey.org/viewer/jpeg-cutout/?ra=227.7553&dec=-0.445667&zoom=15&layer=sdss&size=120\"></a></td><td>1237648721251401780<br><a href=\"http://legacysurvey.org/viewer?ra=227.17163189773206&dec=-0.009696295974826212\"><img src=\"http://legacysurvey.org/viewer/jpeg-cutout/?ra=227.1716&dec=-0.009696296&zoom=15&layer=sdss&size=120\"></a></td><td>1237648705670152293<br><a href=\"http://legacysurvey.org/viewer?ra=227.5767523951994&dec=0.9294209546907137\"><img src=\"http://legacysurvey.org/viewer/jpeg-cutout/?ra=227.5768&dec=0.929421&zoom=15&layer=sdss&size=120\"></a></td><td>1237648704059277360<br><a href=\"http://legacysurvey.org/viewer?ra=226.93805767156107&dec=-0.28440031769853685\"><img src=\"http://legacysurvey.org/viewer/jpeg-cutout/?ra=226.9381&dec=-0.2844003&zoom=15&layer=sdss&size=120\"></a></td><td>1237648705670086699<br><a href=\"http://legacysurvey.org/viewer?ra=227.35390012833795&dec=1.0008494133286174\"><img src=\"http://legacysurvey.org/viewer/jpeg-cutout/?ra=227.3539&dec=1.000849&zoom=15&layer=sdss&size=120\"></a></td><td>1237648704059539511<br><a href=\"http://legacysurvey.org/viewer?ra=227.50932809780792&dec=-0.2344061982244028\"><img src=\"http://legacysurvey.org/viewer/jpeg-cutout/?ra=227.5093&dec=-0.2344062&zoom=15&layer=sdss&size=120\"></a></td></tr>\n",
       "<tr><td>1237648704596148347<br><a href=\"http://legacysurvey.org/viewer?ra=226.918628250392&dec=0.18368694857955137\"><img src=\"http://legacysurvey.org/viewer/jpeg-cutout/?ra=226.9186&dec=0.1836869&zoom=15&layer=sdss&size=120\"></a></td><td>1237651735777575169<br><a href=\"http://legacysurvey.org/viewer?ra=227.13948512044618&dec=1.3602070013875731\"><img src=\"http://legacysurvey.org/viewer/jpeg-cutout/?ra=227.1395&dec=1.360207&zoom=15&layer=sdss&size=120\"></a></td><td>1237648704596279460<br><a href=\"http://legacysurvey.org/viewer?ra=227.27245529876149&dec=0.1418530465216638\"><img src=\"http://legacysurvey.org/viewer/jpeg-cutout/?ra=227.2725&dec=0.141853&zoom=15&layer=sdss&size=120\"></a></td><td>1237648705133609165<br><a href=\"http://legacysurvey.org/viewer?ra=228.3448395013298&dec=0.5194281377080844\"><img src=\"http://legacysurvey.org/viewer/jpeg-cutout/?ra=228.3448&dec=0.5194281&zoom=15&layer=sdss&size=120\"></a></td><td>1237655467524554882<br><a href=\"http://legacysurvey.org/viewer?ra=227.03260769906376&dec=0.7735976864026866\"><img src=\"http://legacysurvey.org/viewer/jpeg-cutout/?ra=227.0326&dec=0.7735977&zoom=15&layer=sdss&size=120\"></a></td><td>1237655467524358212<br><a href=\"http://legacysurvey.org/viewer?ra=226.54571269004703&dec=0.64244961140379\"><img src=\"http://legacysurvey.org/viewer/jpeg-cutout/?ra=226.5457&dec=0.6424496&zoom=15&layer=sdss&size=120\"></a></td></tr>\n",
       "<tr><td>1237648704596082762<br><a href=\"http://legacysurvey.org/viewer?ra=226.80098079760504&dec=0.1559147662623295\"><img src=\"http://legacysurvey.org/viewer/jpeg-cutout/?ra=226.801&dec=0.1559148&zoom=15&layer=sdss&size=120\"></a></td><td>1237648704596148376<br><a href=\"http://legacysurvey.org/viewer?ra=226.9635244148764&dec=0.14659088239253956\"><img src=\"http://legacysurvey.org/viewer/jpeg-cutout/?ra=226.9635&dec=0.1465909&zoom=15&layer=sdss&size=120\"></a></td><td>1237655467525144696<br><a href=\"http://legacysurvey.org/viewer?ra=228.34633120109618&dec=0.5983463552965539\"><img src=\"http://legacysurvey.org/viewer/jpeg-cutout/?ra=228.3463&dec=0.5983464&zoom=15&layer=sdss&size=120\"></a></td><td>1237648721788665953<br><a href=\"http://legacysurvey.org/viewer?ra=228.1018951334788&dec=0.3489636448026081\"><img src=\"http://legacysurvey.org/viewer/jpeg-cutout/?ra=228.1019&dec=0.3489636&zoom=15&layer=sdss&size=120\"></a></td><td>1237655467524489305<br><a href=\"http://legacysurvey.org/viewer?ra=226.84619450624297&dec=0.7207619425484227\"><img src=\"http://legacysurvey.org/viewer/jpeg-cutout/?ra=226.8462&dec=0.7207619&zoom=15&layer=sdss&size=120\"></a></td><td>1237655467524554806<br><a href=\"http://legacysurvey.org/viewer?ra=226.98067082743705&dec=0.7852382615473896\"><img src=\"http://legacysurvey.org/viewer/jpeg-cutout/?ra=226.9807&dec=0.7852383&zoom=15&layer=sdss&size=120\"></a></td></tr>\n",
       "<tr><td>1237655467525144631<br><a href=\"http://legacysurvey.org/viewer?ra=228.32087826985548&dec=0.764753329759193\"><img src=\"http://legacysurvey.org/viewer/jpeg-cutout/?ra=228.3209&dec=0.7647533&zoom=15&layer=sdss&size=120\"></a></td><td>1237655468061687864<br><a href=\"http://legacysurvey.org/viewer?ra=227.59002558989943&dec=1.0803746827610452\"><img src=\"http://legacysurvey.org/viewer/jpeg-cutout/?ra=227.59&dec=1.080375&zoom=15&layer=sdss&size=120\"></a></td><td>1237655468061753410<br><a href=\"http://legacysurvey.org/viewer?ra=227.72578353778414&dec=1.1107680803586428\"><img src=\"http://legacysurvey.org/viewer/jpeg-cutout/?ra=227.7258&dec=1.110768&zoom=15&layer=sdss&size=120\"></a></td><td>1237655468061491317<br><a href=\"http://legacysurvey.org/viewer?ra=227.20582502265535&dec=1.103601906944004\"><img src=\"http://legacysurvey.org/viewer/jpeg-cutout/?ra=227.2058&dec=1.103602&zoom=15&layer=sdss&size=120\"></a></td><td>1237648705133019222<br><a href=\"http://legacysurvey.org/viewer?ra=226.98145723618958&dec=0.5565692605568509\"><img src=\"http://legacysurvey.org/viewer/jpeg-cutout/?ra=226.9815&dec=0.5565693&zoom=15&layer=sdss&size=120\"></a></td><td>1237648721788534829<br><a href=\"http://legacysurvey.org/viewer?ra=227.794741232949&dec=0.34406233737384817\"><img src=\"http://legacysurvey.org/viewer/jpeg-cutout/?ra=227.7947&dec=0.3440623&zoom=15&layer=sdss&size=120\"></a></td></tr>\n",
       "<tr><td>1237651735777575192<br><a href=\"http://legacysurvey.org/viewer?ra=227.15082829798502&dec=1.2293373187697758\"><img src=\"http://legacysurvey.org/viewer/jpeg-cutout/?ra=227.1508&dec=1.229337&zoom=15&layer=sdss&size=120\"></a></td><td>1237648721788469326<br><a href=\"http://legacysurvey.org/viewer?ra=227.70369377924072&dec=0.3982160473815725\"><img src=\"http://legacysurvey.org/viewer/jpeg-cutout/?ra=227.7037&dec=0.398216&zoom=15&layer=sdss&size=120\"></a></td><td>1237648704596279461<br><a href=\"http://legacysurvey.org/viewer?ra=227.27281509640096&dec=0.14365367466341594\"><img src=\"http://legacysurvey.org/viewer/jpeg-cutout/?ra=227.2728&dec=0.1436537&zoom=15&layer=sdss&size=120\"></a></td><td>1237648721251532818<br><a href=\"http://legacysurvey.org/viewer?ra=227.4464837910368&dec=-0.0009415989144034586\"><img src=\"http://legacysurvey.org/viewer/jpeg-cutout/?ra=227.4465&dec=-0.0009415989&zoom=15&layer=sdss&size=120\"></a></td><td>1237648721788076145<br><a href=\"http://legacysurvey.org/viewer?ra=226.78780098707455&dec=0.4144059801609724\"><img src=\"http://legacysurvey.org/viewer/jpeg-cutout/?ra=226.7878&dec=0.414406&zoom=15&layer=sdss&size=120\"></a></td><td>1237655467525144701<br><a href=\"http://legacysurvey.org/viewer?ra=228.3489241123346&dec=0.679523322599937\"><img src=\"http://legacysurvey.org/viewer/jpeg-cutout/?ra=228.3489&dec=0.6795233&zoom=15&layer=sdss&size=120\"></a></td></tr>\n",
       "<tr><td>1237655468061687941<br><a href=\"http://legacysurvey.org/viewer?ra=227.65719078448143&dec=1.0026034641968764\"><img src=\"http://legacysurvey.org/viewer/jpeg-cutout/?ra=227.6572&dec=1.002603&zoom=15&layer=sdss&size=120\"></a></td><td>1237648704596672800<br><a href=\"http://legacysurvey.org/viewer?ra=228.2209061379426&dec=0.18580808352977157\"><img src=\"http://legacysurvey.org/viewer/jpeg-cutout/?ra=228.2209&dec=0.1858081&zoom=15&layer=sdss&size=120\"></a></td><td>1237655467524751566<br><a href=\"http://legacysurvey.org/viewer?ra=227.50263078231006&dec=0.7393113807406235\"><img src=\"http://legacysurvey.org/viewer/jpeg-cutout/?ra=227.5026&dec=0.7393114&zoom=15&layer=sdss&size=120\"></a></td><td>1237655467525079055<br><a href=\"http://legacysurvey.org/viewer?ra=228.14093243664564&dec=0.6349918168459278\"><img src=\"http://legacysurvey.org/viewer/jpeg-cutout/?ra=228.1409&dec=0.6349918&zoom=15&layer=sdss&size=120\"></a></td><td>1237648705133543524<br><a href=\"http://legacysurvey.org/viewer?ra=228.14411254853476&dec=0.5282031379119091\"><img src=\"http://legacysurvey.org/viewer/jpeg-cutout/?ra=228.1441&dec=0.5282031&zoom=15&layer=sdss&size=120\"></a></td><td>1237648721788797003<br><a href=\"http://legacysurvey.org/viewer?ra=228.40721727112046&dec=0.3821065253168127\"><img src=\"http://legacysurvey.org/viewer/jpeg-cutout/?ra=228.4072&dec=0.3821065&zoom=15&layer=sdss&size=120\"></a></td></tr>\n",
       "<tr><td>1237648705133674590<br><a href=\"http://legacysurvey.org/viewer?ra=228.44683843292597&dec=0.4687186476340985\"><img src=\"http://legacysurvey.org/viewer/jpeg-cutout/?ra=228.4468&dec=0.4687186&zoom=15&layer=sdss&size=120\"></a></td><td>1237651735777640523<br><a href=\"http://legacysurvey.org/viewer?ra=227.25218859446255&dec=1.3356775840309232\"><img src=\"http://legacysurvey.org/viewer/jpeg-cutout/?ra=227.2522&dec=1.335678&zoom=15&layer=sdss&size=120\"></a></td><td>1237648721788731543<br><a href=\"http://legacysurvey.org/viewer?ra=228.31387740922986&dec=0.3664837650591899\"><img src=\"http://legacysurvey.org/viewer/jpeg-cutout/?ra=228.3139&dec=0.3664838&zoom=15&layer=sdss&size=120\"></a></td><td>1237655468061360204<br><a href=\"http://legacysurvey.org/viewer?ra=226.86290941642466&dec=1.0440845650128971\"><img src=\"http://legacysurvey.org/viewer/jpeg-cutout/?ra=226.8629&dec=1.044085&zoom=15&layer=sdss&size=120\"></a></td><td>1237648705669955630<br><a href=\"http://legacysurvey.org/viewer?ra=227.05954252681045&dec=0.9377683133194362\"><img src=\"http://legacysurvey.org/viewer/jpeg-cutout/?ra=227.0595&dec=0.9377683&zoom=15&layer=sdss&size=120\"></a></td><td>1237655468061556867<br><a href=\"http://legacysurvey.org/viewer?ra=227.33246646731538&dec=1.0666181050151775\"><img src=\"http://legacysurvey.org/viewer/jpeg-cutout/?ra=227.3325&dec=1.066618&zoom=15&layer=sdss&size=120\"></a></td></tr>\n",
       "<tr><td>1237648705670348957<br><a href=\"http://legacysurvey.org/viewer?ra=228.05445272239916&dec=0.984520371876276\"><img src=\"http://legacysurvey.org/viewer/jpeg-cutout/?ra=228.0545&dec=0.9845204&zoom=15&layer=sdss&size=120\"></a></td><td>1237655468598493220<br><a href=\"http://legacysurvey.org/viewer?ra=227.41157589785473&dec=1.4326812803316387\"><img src=\"http://legacysurvey.org/viewer/jpeg-cutout/?ra=227.4116&dec=1.432681&zoom=15&layer=sdss&size=120\"></a></td><td>1237648705133609080<br><a href=\"http://legacysurvey.org/viewer?ra=228.2859215381001&dec=0.5096761359388476\"><img src=\"http://legacysurvey.org/viewer/jpeg-cutout/?ra=228.2859&dec=0.5096761&zoom=15&layer=sdss&size=120\"></a></td><td>1237648721788731482<br><a href=\"http://legacysurvey.org/viewer?ra=228.27260443634006&dec=0.3830343856598067\"><img src=\"http://legacysurvey.org/viewer/jpeg-cutout/?ra=228.2726&dec=0.3830344&zoom=15&layer=sdss&size=120\"></a></td><td>1237655468061491276<br><a href=\"http://legacysurvey.org/viewer?ra=227.14911594279386&dec=1.1705840561979075\"><img src=\"http://legacysurvey.org/viewer/jpeg-cutout/?ra=227.1491&dec=1.170584&zoom=15&layer=sdss&size=120\"></a></td><td>1237651735777509434<br><a href=\"http://legacysurvey.org/viewer?ra=226.9586378752154&dec=1.2353880779411712\"><img src=\"http://legacysurvey.org/viewer/jpeg-cutout/?ra=226.9586&dec=1.235388&zoom=15&layer=sdss&size=120\"></a></td></tr>\n",
       "<tr><td>1237651735777509383<br><a href=\"http://legacysurvey.org/viewer?ra=226.8873981630755&dec=1.286536004968848\"><img src=\"http://legacysurvey.org/viewer/jpeg-cutout/?ra=226.8874&dec=1.286536&zoom=15&layer=sdss&size=120\"></a></td><td>1237648705132888214<br><a href=\"http://legacysurvey.org/viewer?ra=226.66822995770607&dec=0.5292974469218791\"><img src=\"http://legacysurvey.org/viewer/jpeg-cutout/?ra=226.6682&dec=0.5292974&zoom=15&layer=sdss&size=120\"></a></td><td>1237655468061818942<br><a href=\"http://legacysurvey.org/viewer?ra=227.86355371129474&dec=1.1598861589569274\"><img src=\"http://legacysurvey.org/viewer/jpeg-cutout/?ra=227.8636&dec=1.159886&zoom=15&layer=sdss&size=120\"></a></td><td>1237655468061425808<br><a href=\"http://legacysurvey.org/viewer?ra=227.04768031580426&dec=1.0737126620285307\"><img src=\"http://legacysurvey.org/viewer/jpeg-cutout/?ra=227.0477&dec=1.073713&zoom=15&layer=sdss&size=120\"></a></td><td>1237655468061753456<br><a href=\"http://legacysurvey.org/viewer?ra=227.79136442899676&dec=1.1754459407895606\"><img src=\"http://legacysurvey.org/viewer/jpeg-cutout/?ra=227.7914&dec=1.175446&zoom=15&layer=sdss&size=120\"></a></td><td>1237648704596410386<br><a href=\"http://legacysurvey.org/viewer?ra=227.4946139496818&dec=0.14404201459816518\"><img src=\"http://legacysurvey.org/viewer/jpeg-cutout/?ra=227.4946&dec=0.144042&zoom=15&layer=sdss&size=120\"></a></td></tr>\n",
       "<tr><td>1237651735777837162<br><a href=\"http://legacysurvey.org/viewer?ra=227.74942612823497&dec=1.312400681309151\"><img src=\"http://legacysurvey.org/viewer/jpeg-cutout/?ra=227.7494&dec=1.312401&zoom=15&layer=sdss&size=120\"></a></td><td>1237651735777837176<br><a href=\"http://legacysurvey.org/viewer?ra=227.75431481034923&dec=1.3305811101993732\"><img src=\"http://legacysurvey.org/viewer/jpeg-cutout/?ra=227.7543&dec=1.330581&zoom=15&layer=sdss&size=120\"></a></td><td></td><td></td><td></td><td></td></tr>\n",
       "    </table>\n",
       "    "
      ],
      "text/plain": [
       "<IPython.core.display.HTML object>"
      ]
     },
     "execution_count": 255,
     "metadata": {},
     "output_type": "execute_result"
    }
   ],
   "source": [
    "make_decals_viewer_cutouts(guidestars[np.random.permutation(len(guidestars))], \n",
    "                           survey='sdss',ncols=6,namecol='TargetName')"
   ]
  },
  {
   "cell_type": "code",
   "execution_count": 256,
   "metadata": {},
   "outputs": [
    {
     "data": {
      "text/plain": [
       "267"
      ]
     },
     "execution_count": 256,
     "metadata": {},
     "output_type": "execute_result"
    }
   ],
   "source": [
    "guides_to_rem = [int(i) for i in '1237651735777640504 1237651735777706099 1237648722325471438 1237648705669824675 1237648705669824694 1237648705669824621 1237648704596082789 1237648704596082818 1237648721251664029 1237655467525144674 1237655467524620357 '.split()]\n",
    "writecat.remove_rows((writecat['Notes']=='Guide')&(np.in1d(writecat['TargetName'], guides_to_rem)))\n",
    "np.sum((writecat['Notes']=='Guide'))"
   ]
  },
  {
   "cell_type": "code",
   "execution_count": 257,
   "metadata": {},
   "outputs": [
    {
     "data": {
      "text/html": [
       "\n",
       "    <table>\n",
       "    <tr><td>0<br><a href=\"http://legacysurvey.org/viewer?ra=227.3304494561955&dec=1.2966796237065465\"><img src=\"http://legacysurvey.org/viewer/jpeg-cutout/?ra=227.3304&dec=1.29668&zoom=16&layer=sdss&size=120\"></a></td><td>1<br><a href=\"http://legacysurvey.org/viewer?ra=226.91759858546737&dec=-0.4802269309495347\"><img src=\"http://legacysurvey.org/viewer/jpeg-cutout/?ra=226.9176&dec=-0.4802269&zoom=16&layer=sdss&size=120\"></a></td><td>2<br><a href=\"http://legacysurvey.org/viewer?ra=228.08552376022044&dec=1.2327270169643674\"><img src=\"http://legacysurvey.org/viewer/jpeg-cutout/?ra=228.0855&dec=1.232727&zoom=16&layer=sdss&size=120\"></a></td><td>3<br><a href=\"http://legacysurvey.org/viewer?ra=226.78052225658456&dec=-0.1855911802778043\"><img src=\"http://legacysurvey.org/viewer/jpeg-cutout/?ra=226.7805&dec=-0.1855912&zoom=16&layer=sdss&size=120\"></a></td><td>4<br><a href=\"http://legacysurvey.org/viewer?ra=227.39004971380538&dec=1.5055976779092648\"><img src=\"http://legacysurvey.org/viewer/jpeg-cutout/?ra=227.39&dec=1.505598&zoom=16&layer=sdss&size=120\"></a></td><td>5<br><a href=\"http://legacysurvey.org/viewer?ra=228.07350461263593&dec=1.2335220346837237\"><img src=\"http://legacysurvey.org/viewer/jpeg-cutout/?ra=228.0735&dec=1.233522&zoom=16&layer=sdss&size=120\"></a></td></tr>\n",
       "<tr><td>6<br><a href=\"http://legacysurvey.org/viewer?ra=226.40388050743914&dec=0.3771978358399274\"><img src=\"http://legacysurvey.org/viewer/jpeg-cutout/?ra=226.4039&dec=0.3771978&zoom=16&layer=sdss&size=120\"></a></td><td>7<br><a href=\"http://legacysurvey.org/viewer?ra=226.88538933489312&dec=-0.44367141983471314\"><img src=\"http://legacysurvey.org/viewer/jpeg-cutout/?ra=226.8854&dec=-0.4436714&zoom=16&layer=sdss&size=120\"></a></td><td>8<br><a href=\"http://legacysurvey.org/viewer?ra=228.42637321764977&dec=0.857315729734712\"><img src=\"http://legacysurvey.org/viewer/jpeg-cutout/?ra=228.4264&dec=0.8573157&zoom=16&layer=sdss&size=120\"></a></td><td>9<br><a href=\"http://legacysurvey.org/viewer?ra=226.9295941215867&dec=-0.4891403180147208\"><img src=\"http://legacysurvey.org/viewer/jpeg-cutout/?ra=226.9296&dec=-0.4891403&zoom=16&layer=sdss&size=120\"></a></td><td>10<br><a href=\"http://legacysurvey.org/viewer?ra=228.12587608004566&dec=-0.30929934157996175\"><img src=\"http://legacysurvey.org/viewer/jpeg-cutout/?ra=228.1259&dec=-0.3092993&zoom=16&layer=sdss&size=120\"></a></td><td>11<br><a href=\"http://legacysurvey.org/viewer?ra=228.40229718814976&dec=0.9219658052610706\"><img src=\"http://legacysurvey.org/viewer/jpeg-cutout/?ra=228.4023&dec=0.9219658&zoom=16&layer=sdss&size=120\"></a></td></tr>\n",
       "<tr><td>12<br><a href=\"http://legacysurvey.org/viewer?ra=226.89475987552905&dec=-0.39903663768476616\"><img src=\"http://legacysurvey.org/viewer/jpeg-cutout/?ra=226.8948&dec=-0.3990366&zoom=16&layer=sdss&size=120\"></a></td><td>13<br><a href=\"http://legacysurvey.org/viewer?ra=228.01130624040047&dec=0.9035775268934735\"><img src=\"http://legacysurvey.org/viewer/jpeg-cutout/?ra=228.0113&dec=0.9035775&zoom=16&layer=sdss&size=120\"></a></td><td>14<br><a href=\"http://legacysurvey.org/viewer?ra=227.26954391398388&dec=-0.5660932825068381\"><img src=\"http://legacysurvey.org/viewer/jpeg-cutout/?ra=227.2695&dec=-0.5660933&zoom=16&layer=sdss&size=120\"></a></td><td>15<br><a href=\"http://legacysurvey.org/viewer?ra=227.30759231217928&dec=-0.09251559078127447\"><img src=\"http://legacysurvey.org/viewer/jpeg-cutout/?ra=227.3076&dec=-0.09251559&zoom=16&layer=sdss&size=120\"></a></td><td>16<br><a href=\"http://legacysurvey.org/viewer?ra=226.44898242256554&dec=0.1100642495490437\"><img src=\"http://legacysurvey.org/viewer/jpeg-cutout/?ra=226.449&dec=0.1100642&zoom=16&layer=sdss&size=120\"></a></td><td>17<br><a href=\"http://legacysurvey.org/viewer?ra=226.75463013981226&dec=1.2302490415897276\"><img src=\"http://legacysurvey.org/viewer/jpeg-cutout/?ra=226.7546&dec=1.230249&zoom=16&layer=sdss&size=120\"></a></td></tr>\n",
       "<tr><td>18<br><a href=\"http://legacysurvey.org/viewer?ra=226.74853382111291&dec=-0.36978963289934697\"><img src=\"http://legacysurvey.org/viewer/jpeg-cutout/?ra=226.7485&dec=-0.3697896&zoom=16&layer=sdss&size=120\"></a></td><td>19<br><a href=\"http://legacysurvey.org/viewer?ra=228.2290330755204&dec=-0.1640192613449709\"><img src=\"http://legacysurvey.org/viewer/jpeg-cutout/?ra=228.229&dec=-0.1640193&zoom=16&layer=sdss&size=120\"></a></td><td>20<br><a href=\"http://legacysurvey.org/viewer?ra=228.47636526080532&dec=0.6514288538875692\"><img src=\"http://legacysurvey.org/viewer/jpeg-cutout/?ra=228.4764&dec=0.6514289&zoom=16&layer=sdss&size=120\"></a></td><td>21<br><a href=\"http://legacysurvey.org/viewer?ra=226.43178151736396&dec=0.29099934250706366\"><img src=\"http://legacysurvey.org/viewer/jpeg-cutout/?ra=226.4318&dec=0.2909993&zoom=16&layer=sdss&size=120\"></a></td><td>22<br><a href=\"http://legacysurvey.org/viewer?ra=227.4403558542392&dec=1.5060591763033495\"><img src=\"http://legacysurvey.org/viewer/jpeg-cutout/?ra=227.4404&dec=1.506059&zoom=16&layer=sdss&size=120\"></a></td><td>23<br><a href=\"http://legacysurvey.org/viewer?ra=226.48832423110832&dec=0.06268063736326118\"><img src=\"http://legacysurvey.org/viewer/jpeg-cutout/?ra=226.4883&dec=0.06268064&zoom=16&layer=sdss&size=120\"></a></td></tr>\n",
       "<tr><td>24<br><a href=\"http://legacysurvey.org/viewer?ra=227.84910968383525&dec=1.299751028045867\"><img src=\"http://legacysurvey.org/viewer/jpeg-cutout/?ra=227.8491&dec=1.299751&zoom=16&layer=sdss&size=120\"></a></td><td>25<br><a href=\"http://legacysurvey.org/viewer?ra=227.3713379296835&dec=-0.16619075335635303\"><img src=\"http://legacysurvey.org/viewer/jpeg-cutout/?ra=227.3713&dec=-0.1661908&zoom=16&layer=sdss&size=120\"></a></td><td>26<br><a href=\"http://legacysurvey.org/viewer?ra=227.0680977693083&dec=1.406662761258069\"><img src=\"http://legacysurvey.org/viewer/jpeg-cutout/?ra=227.0681&dec=1.406663&zoom=16&layer=sdss&size=120\"></a></td><td>27<br><a href=\"http://legacysurvey.org/viewer?ra=228.05731794470515&dec=0.8527119971705\"><img src=\"http://legacysurvey.org/viewer/jpeg-cutout/?ra=228.0573&dec=0.852712&zoom=16&layer=sdss&size=120\"></a></td><td>28<br><a href=\"http://legacysurvey.org/viewer?ra=227.731033957794&dec=1.4613619659726576\"><img src=\"http://legacysurvey.org/viewer/jpeg-cutout/?ra=227.731&dec=1.461362&zoom=16&layer=sdss&size=120\"></a></td><td>29<br><a href=\"http://legacysurvey.org/viewer?ra=226.71077838880436&dec=0.9959709185069928\"><img src=\"http://legacysurvey.org/viewer/jpeg-cutout/?ra=226.7108&dec=0.9959709&zoom=16&layer=sdss&size=120\"></a></td></tr>\n",
       "<tr><td>30<br><a href=\"http://legacysurvey.org/viewer?ra=226.69547574644247&dec=0.6863284641218854\"><img src=\"http://legacysurvey.org/viewer/jpeg-cutout/?ra=226.6955&dec=0.6863285&zoom=16&layer=sdss&size=120\"></a></td><td>31<br><a href=\"http://legacysurvey.org/viewer?ra=226.4217136453744&dec=0.2215225336430114\"><img src=\"http://legacysurvey.org/viewer/jpeg-cutout/?ra=226.4217&dec=0.2215225&zoom=16&layer=sdss&size=120\"></a></td><td>32<br><a href=\"http://legacysurvey.org/viewer?ra=228.46843504777092&dec=0.16730959376984478\"><img src=\"http://legacysurvey.org/viewer/jpeg-cutout/?ra=228.4684&dec=0.1673096&zoom=16&layer=sdss&size=120\"></a></td><td>33<br><a href=\"http://legacysurvey.org/viewer?ra=227.27976406159476&dec=1.5109210822742685\"><img src=\"http://legacysurvey.org/viewer/jpeg-cutout/?ra=227.2798&dec=1.510921&zoom=16&layer=sdss&size=120\"></a></td><td>34<br><a href=\"http://legacysurvey.org/viewer?ra=226.58903380820388&dec=0.5211960246523146\"><img src=\"http://legacysurvey.org/viewer/jpeg-cutout/?ra=226.589&dec=0.521196&zoom=16&layer=sdss&size=120\"></a></td><td>35<br><a href=\"http://legacysurvey.org/viewer?ra=227.07675210381734&dec=-0.26290161785321875\"><img src=\"http://legacysurvey.org/viewer/jpeg-cutout/?ra=227.0768&dec=-0.2629016&zoom=16&layer=sdss&size=120\"></a></td></tr>\n",
       "<tr><td>36<br><a href=\"http://legacysurvey.org/viewer?ra=226.7316291294839&dec=-0.35206292172831277\"><img src=\"http://legacysurvey.org/viewer/jpeg-cutout/?ra=226.7316&dec=-0.3520629&zoom=16&layer=sdss&size=120\"></a></td><td>37<br><a href=\"http://legacysurvey.org/viewer?ra=226.61798368543867&dec=1.1470288592227387\"><img src=\"http://legacysurvey.org/viewer/jpeg-cutout/?ra=226.618&dec=1.147029&zoom=16&layer=sdss&size=120\"></a></td><td>38<br><a href=\"http://legacysurvey.org/viewer?ra=226.98025035012623&dec=0.8111133897300346\"><img src=\"http://legacysurvey.org/viewer/jpeg-cutout/?ra=226.9803&dec=0.8111134&zoom=16&layer=sdss&size=120\"></a></td><td>39<br><a href=\"http://legacysurvey.org/viewer?ra=227.97138458242716&dec=1.4192792431360073\"><img src=\"http://legacysurvey.org/viewer/jpeg-cutout/?ra=227.9714&dec=1.419279&zoom=16&layer=sdss&size=120\"></a></td><td>40<br><a href=\"http://legacysurvey.org/viewer?ra=228.4789936645025&dec=0.3755274157582499\"><img src=\"http://legacysurvey.org/viewer/jpeg-cutout/?ra=228.479&dec=0.3755274&zoom=16&layer=sdss&size=120\"></a></td><td>41<br><a href=\"http://legacysurvey.org/viewer?ra=226.39293803492293&dec=0.4431513590645631\"><img src=\"http://legacysurvey.org/viewer/jpeg-cutout/?ra=226.3929&dec=0.4431514&zoom=16&layer=sdss&size=120\"></a></td></tr>\n",
       "<tr><td>42<br><a href=\"http://legacysurvey.org/viewer?ra=228.1710377200516&dec=1.1805882703412074\"><img src=\"http://legacysurvey.org/viewer/jpeg-cutout/?ra=228.171&dec=1.180588&zoom=16&layer=sdss&size=120\"></a></td><td>43<br><a href=\"http://legacysurvey.org/viewer?ra=228.47701926533946&dec=0.33814951653578396\"><img src=\"http://legacysurvey.org/viewer/jpeg-cutout/?ra=228.477&dec=0.3381495&zoom=16&layer=sdss&size=120\"></a></td><td>44<br><a href=\"http://legacysurvey.org/viewer?ra=226.89102422662808&dec=-0.1929795929463931\"><img src=\"http://legacysurvey.org/viewer/jpeg-cutout/?ra=226.891&dec=-0.1929796&zoom=16&layer=sdss&size=120\"></a></td><td>45<br><a href=\"http://legacysurvey.org/viewer?ra=226.6708573932348&dec=0.6786444485008035\"><img src=\"http://legacysurvey.org/viewer/jpeg-cutout/?ra=226.6709&dec=0.6786444&zoom=16&layer=sdss&size=120\"></a></td><td>46<br><a href=\"http://legacysurvey.org/viewer?ra=226.7493173254451&dec=-0.3096370705631265\"><img src=\"http://legacysurvey.org/viewer/jpeg-cutout/?ra=226.7493&dec=-0.3096371&zoom=16&layer=sdss&size=120\"></a></td><td>47<br><a href=\"http://legacysurvey.org/viewer?ra=228.40528487661933&dec=0.0021768835225938754\"><img src=\"http://legacysurvey.org/viewer/jpeg-cutout/?ra=228.4053&dec=0.002176884&zoom=16&layer=sdss&size=120\"></a></td></tr>\n",
       "<tr><td>48<br><a href=\"http://legacysurvey.org/viewer?ra=227.1466336817721&dec=-0.5191799823443246\"><img src=\"http://legacysurvey.org/viewer/jpeg-cutout/?ra=227.1466&dec=-0.51918&zoom=16&layer=sdss&size=120\"></a></td><td>49<br><a href=\"http://legacysurvey.org/viewer?ra=227.14201155495826&dec=1.5100497157114616\"><img src=\"http://legacysurvey.org/viewer/jpeg-cutout/?ra=227.142&dec=1.51005&zoom=16&layer=sdss&size=120\"></a></td><td>50<br><a href=\"http://legacysurvey.org/viewer?ra=228.46949307872228&dec=0.09117762481880853\"><img src=\"http://legacysurvey.org/viewer/jpeg-cutout/?ra=228.4695&dec=0.09117762&zoom=16&layer=sdss&size=120\"></a></td><td>51<br><a href=\"http://legacysurvey.org/viewer?ra=226.85373381049212&dec=-0.43445572200554006\"><img src=\"http://legacysurvey.org/viewer/jpeg-cutout/?ra=226.8537&dec=-0.4344557&zoom=16&layer=sdss&size=120\"></a></td><td>52<br><a href=\"http://legacysurvey.org/viewer?ra=227.80398978231005&dec=0.9949188289662008\"><img src=\"http://legacysurvey.org/viewer/jpeg-cutout/?ra=227.804&dec=0.9949188&zoom=16&layer=sdss&size=120\"></a></td><td>53<br><a href=\"http://legacysurvey.org/viewer?ra=227.09484655074002&dec=-0.5346571286715835\"><img src=\"http://legacysurvey.org/viewer/jpeg-cutout/?ra=227.0948&dec=-0.5346571&zoom=16&layer=sdss&size=120\"></a></td></tr>\n",
       "<tr><td>54<br><a href=\"http://legacysurvey.org/viewer?ra=226.5971014377003&dec=1.011143012347771\"><img src=\"http://legacysurvey.org/viewer/jpeg-cutout/?ra=226.5971&dec=1.011143&zoom=16&layer=sdss&size=120\"></a></td><td>55<br><a href=\"http://legacysurvey.org/viewer?ra=226.42153928599976&dec=0.21481862160704734\"><img src=\"http://legacysurvey.org/viewer/jpeg-cutout/?ra=226.4215&dec=0.2148186&zoom=16&layer=sdss&size=120\"></a></td><td>56<br><a href=\"http://legacysurvey.org/viewer?ra=227.7864118679933&dec=1.43589989607483\"><img src=\"http://legacysurvey.org/viewer/jpeg-cutout/?ra=227.7864&dec=1.4359&zoom=16&layer=sdss&size=120\"></a></td><td>57<br><a href=\"http://legacysurvey.org/viewer?ra=226.8994871594215&dec=1.360327449981549\"><img src=\"http://legacysurvey.org/viewer/jpeg-cutout/?ra=226.8995&dec=1.360327&zoom=16&layer=sdss&size=120\"></a></td><td>58<br><a href=\"http://legacysurvey.org/viewer?ra=228.19937766044603&dec=-0.24620606690812497\"><img src=\"http://legacysurvey.org/viewer/jpeg-cutout/?ra=228.1994&dec=-0.2462061&zoom=16&layer=sdss&size=120\"></a></td><td>59<br><a href=\"http://legacysurvey.org/viewer?ra=227.64266208783448&dec=1.4942703430894795\"><img src=\"http://legacysurvey.org/viewer/jpeg-cutout/?ra=227.6427&dec=1.49427&zoom=16&layer=sdss&size=120\"></a></td></tr>\n",
       "<tr><td>60<br><a href=\"http://legacysurvey.org/viewer?ra=227.7311525856627&dec=-0.5666226396107505\"><img src=\"http://legacysurvey.org/viewer/jpeg-cutout/?ra=227.7312&dec=-0.5666226&zoom=16&layer=sdss&size=120\"></a></td><td>61<br><a href=\"http://legacysurvey.org/viewer?ra=228.02943278195104&dec=-0.1863873597834348\"><img src=\"http://legacysurvey.org/viewer/jpeg-cutout/?ra=228.0294&dec=-0.1863874&zoom=16&layer=sdss&size=120\"></a></td><td>62<br><a href=\"http://legacysurvey.org/viewer?ra=226.58168607983225&dec=1.0386049208704295\"><img src=\"http://legacysurvey.org/viewer/jpeg-cutout/?ra=226.5817&dec=1.038605&zoom=16&layer=sdss&size=120\"></a></td><td>63<br><a href=\"http://legacysurvey.org/viewer?ra=226.8911863821257&dec=1.405072559666891\"><img src=\"http://legacysurvey.org/viewer/jpeg-cutout/?ra=226.8912&dec=1.405073&zoom=16&layer=sdss&size=120\"></a></td><td>64<br><a href=\"http://legacysurvey.org/viewer?ra=227.30730251419666&dec=1.5288091225976403\"><img src=\"http://legacysurvey.org/viewer/jpeg-cutout/?ra=227.3073&dec=1.528809&zoom=16&layer=sdss&size=120\"></a></td><td>65<br><a href=\"http://legacysurvey.org/viewer?ra=227.51516676530068&dec=-0.15214338162938645\"><img src=\"http://legacysurvey.org/viewer/jpeg-cutout/?ra=227.5152&dec=-0.1521434&zoom=16&layer=sdss&size=120\"></a></td></tr>\n",
       "<tr><td>66<br><a href=\"http://legacysurvey.org/viewer?ra=226.9262688613156&dec=1.4138270222848042\"><img src=\"http://legacysurvey.org/viewer/jpeg-cutout/?ra=226.9263&dec=1.413827&zoom=16&layer=sdss&size=120\"></a></td><td>67<br><a href=\"http://legacysurvey.org/viewer?ra=226.8751812055249&dec=-0.35820885217594667\"><img src=\"http://legacysurvey.org/viewer/jpeg-cutout/?ra=226.8752&dec=-0.3582089&zoom=16&layer=sdss&size=120\"></a></td><td>68<br><a href=\"http://legacysurvey.org/viewer?ra=226.4558971542952&dec=0.10985952775507124\"><img src=\"http://legacysurvey.org/viewer/jpeg-cutout/?ra=226.4559&dec=0.1098595&zoom=16&layer=sdss&size=120\"></a></td><td>69<br><a href=\"http://legacysurvey.org/viewer?ra=228.2718295334787&dec=1.0945714741668704\"><img src=\"http://legacysurvey.org/viewer/jpeg-cutout/?ra=228.2718&dec=1.094571&zoom=16&layer=sdss&size=120\"></a></td><td>70<br><a href=\"http://legacysurvey.org/viewer?ra=226.37476055799877&dec=0.5948679538381445\"><img src=\"http://legacysurvey.org/viewer/jpeg-cutout/?ra=226.3748&dec=0.594868&zoom=16&layer=sdss&size=120\"></a></td><td>71<br><a href=\"http://legacysurvey.org/viewer?ra=227.49740196107194&dec=1.4850099015085063\"><img src=\"http://legacysurvey.org/viewer/jpeg-cutout/?ra=227.4974&dec=1.48501&zoom=16&layer=sdss&size=120\"></a></td></tr>\n",
       "<tr><td>72<br><a href=\"http://legacysurvey.org/viewer?ra=228.50988877655854&dec=0.5606815538910879\"><img src=\"http://legacysurvey.org/viewer/jpeg-cutout/?ra=228.5099&dec=0.5606816&zoom=16&layer=sdss&size=120\"></a></td><td>73<br><a href=\"http://legacysurvey.org/viewer?ra=226.4066491320944&dec=0.4008379172436184\"><img src=\"http://legacysurvey.org/viewer/jpeg-cutout/?ra=226.4066&dec=0.4008379&zoom=16&layer=sdss&size=120\"></a></td><td>74<br><a href=\"http://legacysurvey.org/viewer?ra=228.54028313383358&dec=0.34870973880045236\"><img src=\"http://legacysurvey.org/viewer/jpeg-cutout/?ra=228.5403&dec=0.3487097&zoom=16&layer=sdss&size=120\"></a></td><td>75<br><a href=\"http://legacysurvey.org/viewer?ra=226.62677597353436&dec=0.9406869353131924\"><img src=\"http://legacysurvey.org/viewer/jpeg-cutout/?ra=226.6268&dec=0.9406869&zoom=16&layer=sdss&size=120\"></a></td><td>76<br><a href=\"http://legacysurvey.org/viewer?ra=226.82681064887817&dec=0.25434022030836423\"><img src=\"http://legacysurvey.org/viewer/jpeg-cutout/?ra=226.8268&dec=0.2543402&zoom=16&layer=sdss&size=120\"></a></td><td>77<br><a href=\"http://legacysurvey.org/viewer?ra=228.1219481120182&dec=1.277475859029868\"><img src=\"http://legacysurvey.org/viewer/jpeg-cutout/?ra=228.1219&dec=1.277476&zoom=16&layer=sdss&size=120\"></a></td></tr>\n",
       "<tr><td>78<br><a href=\"http://legacysurvey.org/viewer?ra=228.27547820677077&dec=-0.1416184630399483\"><img src=\"http://legacysurvey.org/viewer/jpeg-cutout/?ra=228.2755&dec=-0.1416185&zoom=16&layer=sdss&size=120\"></a></td><td>79<br><a href=\"http://legacysurvey.org/viewer?ra=227.0956352767021&dec=1.1290645412707843\"><img src=\"http://legacysurvey.org/viewer/jpeg-cutout/?ra=227.0956&dec=1.129065&zoom=16&layer=sdss&size=120\"></a></td><td>80<br><a href=\"http://legacysurvey.org/viewer?ra=227.65753961565335&dec=1.5455814047766054\"><img src=\"http://legacysurvey.org/viewer/jpeg-cutout/?ra=227.6575&dec=1.545581&zoom=16&layer=sdss&size=120\"></a></td><td>81<br><a href=\"http://legacysurvey.org/viewer?ra=226.8821394418491&dec=0.7898274451842124\"><img src=\"http://legacysurvey.org/viewer/jpeg-cutout/?ra=226.8821&dec=0.7898274&zoom=16&layer=sdss&size=120\"></a></td><td>82<br><a href=\"http://legacysurvey.org/viewer?ra=227.16827785620688&dec=1.4560864771631215\"><img src=\"http://legacysurvey.org/viewer/jpeg-cutout/?ra=227.1683&dec=1.456086&zoom=16&layer=sdss&size=120\"></a></td><td>83<br><a href=\"http://legacysurvey.org/viewer?ra=228.2690803898948&dec=-0.25733082066739865\"><img src=\"http://legacysurvey.org/viewer/jpeg-cutout/?ra=228.2691&dec=-0.2573308&zoom=16&layer=sdss&size=120\"></a></td></tr>\n",
       "<tr><td>84<br><a href=\"http://legacysurvey.org/viewer?ra=228.15351806934666&dec=1.3142478697868718\"><img src=\"http://legacysurvey.org/viewer/jpeg-cutout/?ra=228.1535&dec=1.314248&zoom=16&layer=sdss&size=120\"></a></td><td>85<br><a href=\"http://legacysurvey.org/viewer?ra=228.44728805706336&dec=0.25499170148381456\"><img src=\"http://legacysurvey.org/viewer/jpeg-cutout/?ra=228.4473&dec=0.2549917&zoom=16&layer=sdss&size=120\"></a></td><td>86<br><a href=\"http://legacysurvey.org/viewer?ra=227.15152449818305&dec=1.278481420052484\"><img src=\"http://legacysurvey.org/viewer/jpeg-cutout/?ra=227.1515&dec=1.278481&zoom=16&layer=sdss&size=120\"></a></td><td>87<br><a href=\"http://legacysurvey.org/viewer?ra=226.6714393488988&dec=-0.16802520121876907\"><img src=\"http://legacysurvey.org/viewer/jpeg-cutout/?ra=226.6714&dec=-0.1680252&zoom=16&layer=sdss&size=120\"></a></td><td>88<br><a href=\"http://legacysurvey.org/viewer?ra=227.47209649741808&dec=1.4824760113016162\"><img src=\"http://legacysurvey.org/viewer/jpeg-cutout/?ra=227.4721&dec=1.482476&zoom=16&layer=sdss&size=120\"></a></td><td>89<br><a href=\"http://legacysurvey.org/viewer?ra=226.91792667347553&dec=-0.08607361126456814\"><img src=\"http://legacysurvey.org/viewer/jpeg-cutout/?ra=226.9179&dec=-0.08607361&zoom=16&layer=sdss&size=120\"></a></td></tr>\n",
       "<tr><td>90<br><a href=\"http://legacysurvey.org/viewer?ra=228.3289751230359&dec=-0.1119327415940401\"><img src=\"http://legacysurvey.org/viewer/jpeg-cutout/?ra=228.329&dec=-0.1119327&zoom=16&layer=sdss&size=120\"></a></td><td>91<br><a href=\"http://legacysurvey.org/viewer?ra=228.24078880679974&dec=1.0986848183291507\"><img src=\"http://legacysurvey.org/viewer/jpeg-cutout/?ra=228.2408&dec=1.098685&zoom=16&layer=sdss&size=120\"></a></td><td>92<br><a href=\"http://legacysurvey.org/viewer?ra=227.0964425546356&dec=-0.4814379702050966\"><img src=\"http://legacysurvey.org/viewer/jpeg-cutout/?ra=227.0964&dec=-0.481438&zoom=16&layer=sdss&size=120\"></a></td><td>93<br><a href=\"http://legacysurvey.org/viewer?ra=228.29047771771738&dec=1.0605136883810298\"><img src=\"http://legacysurvey.org/viewer/jpeg-cutout/?ra=228.2905&dec=1.060514&zoom=16&layer=sdss&size=120\"></a></td><td>94<br><a href=\"http://legacysurvey.org/viewer?ra=228.4647133376179&dec=0.06818923575952568\"><img src=\"http://legacysurvey.org/viewer/jpeg-cutout/?ra=228.4647&dec=0.06818924&zoom=16&layer=sdss&size=120\"></a></td><td>95<br><a href=\"http://legacysurvey.org/viewer?ra=227.05703746598147&dec=1.2435881717010284\"><img src=\"http://legacysurvey.org/viewer/jpeg-cutout/?ra=227.057&dec=1.243588&zoom=16&layer=sdss&size=120\"></a></td></tr>\n",
       "<tr><td>96<br><a href=\"http://legacysurvey.org/viewer?ra=227.3797237506487&dec=-0.5610441278300811\"><img src=\"http://legacysurvey.org/viewer/jpeg-cutout/?ra=227.3797&dec=-0.5610441&zoom=16&layer=sdss&size=120\"></a></td><td>97<br><a href=\"http://legacysurvey.org/viewer?ra=228.28954198088812&dec=1.1163951330419488\"><img src=\"http://legacysurvey.org/viewer/jpeg-cutout/?ra=228.2895&dec=1.116395&zoom=16&layer=sdss&size=120\"></a></td><td>98<br><a href=\"http://legacysurvey.org/viewer?ra=227.82905573786522&dec=-0.5391756058055448\"><img src=\"http://legacysurvey.org/viewer/jpeg-cutout/?ra=227.8291&dec=-0.5391756&zoom=16&layer=sdss&size=120\"></a></td><td>99<br><a href=\"http://legacysurvey.org/viewer?ra=226.79951861138423&dec=1.3061897653688286\"><img src=\"http://legacysurvey.org/viewer/jpeg-cutout/?ra=226.7995&dec=1.30619&zoom=16&layer=sdss&size=120\"></a></td><td></td><td></td></tr>\n",
       "    </table>\n",
       "    "
      ],
      "text/plain": [
       "<IPython.core.display.HTML object>"
      ]
     },
     "execution_count": 257,
     "metadata": {},
     "output_type": "execute_result"
    }
   ],
   "source": [
    "make_decals_viewer_cutouts(acat[acat['Notes']=='sky'], survey='sdss', ncols=6, \n",
    "                           zoom=16, namecol='TargetName')"
   ]
  },
  {
   "cell_type": "code",
   "execution_count": 258,
   "metadata": {},
   "outputs": [
    {
     "data": {
      "text/plain": [
       "94"
      ]
     },
     "execution_count": 258,
     "metadata": {},
     "output_type": "execute_result"
    }
   ],
   "source": [
    "skys_to_rem = [int(i) for i in '41 53 54 66 70 88'.split()]\n",
    "writecat.remove_rows((writecat['Notes']=='Sky')&(np.in1d(writecat['TargetName'], skys_to_rem)))\n",
    "np.sum((writecat['Notes']=='Sky'))"
   ]
  },
  {
   "cell_type": "code",
   "execution_count": 259,
   "metadata": {},
   "outputs": [
    {
     "name": "stdout",
     "output_type": "stream",
     "text": [
      "Nflux: 5 Nguide: 100 NSky 94\n",
      "Targets in each priority: {1: 696, 2: 32, 3: 35, 4: 50, 5: 372, 6: 25, 8: 5}\n",
      "Total: 1414\n",
      "Writing aat_targets_jun2018/nsa145879_2.fld\n"
     ]
    },
    {
     "data": {
      "text/plain": [
       "1215"
      ]
     },
     "execution_count": 259,
     "metadata": {},
     "output_type": "execute_result"
    }
   ],
   "source": [
    "subsampledcat = subsample_catalog(writecat, {1:np.inf}, maxflux=5, maxguides=100)\n",
    "\n",
    "fldfn = 'aat_targets_jun2018/{}_{}.fld'.format(hostname, fieldnum)\n",
    "print('Writing', fldfn)\n",
    "write_fld_file(subsampledcat, host, obs_start_date, fldfn)\n",
    "np.sum(subsampledcat['Notes'] == 'Targets')"
   ]
  },
  {
   "cell_type": "code",
   "execution_count": 260,
   "metadata": {},
   "outputs": [
    {
     "name": "stdout",
     "output_type": "stream",
     "text": [
      "nsa145879_2.fld                               100%   85KB  85.1KB/s   00:00    \n"
     ]
    }
   ],
   "source": [
    "!scp $fldfn visitor6@aatlxh:~/jun13/"
   ]
  },
  {
   "cell_type": "markdown",
   "metadata": {},
   "source": [
    "# Planning "
   ]
  },
  {
   "cell_type": "code",
   "execution_count": 74,
   "metadata": {},
   "outputs": [],
   "source": [
    "import astroplan\n",
    "import astroplan.plots"
   ]
  },
  {
   "cell_type": "code",
   "execution_count": 94,
   "metadata": {},
   "outputs": [],
   "source": [
    "targs = [astroplan.FixedTarget(host['coord'], host['ID_STR']) for host in targethosts]"
   ]
  },
  {
   "cell_type": "code",
   "execution_count": 95,
   "metadata": {},
   "outputs": [],
   "source": [
    "destargs = [t for t, h in zip(targs, targethosts) if h['des_dr1']]\n",
    "nsatargs = [t for t, h in zip(targs, targethosts) if not h['des_dr1']]"
   ]
  },
  {
   "cell_type": "code",
   "execution_count": 96,
   "metadata": {},
   "outputs": [],
   "source": [
    "addedtargs = [astroplan.FixedTarget.from_name('pgc36304')]\n",
    "targs.extend(addedtargs)"
   ]
  },
  {
   "cell_type": "code",
   "execution_count": 97,
   "metadata": {},
   "outputs": [],
   "source": [
    "aatobs = astroplan.Observer.at_site('aao')"
   ]
  },
  {
   "cell_type": "code",
   "execution_count": 98,
   "metadata": {},
   "outputs": [],
   "source": [
    "run_start = aatobs.midnight(obs_start_date, 'next')\n",
    "run_end = aatobs.midnight(Time('2018-6-15'), 'next')\n",
    "run_mid = aatobs.midnight(Time((run_start.jd + run_end.jd)/2, format='jd'))"
   ]
  },
  {
   "cell_type": "code",
   "execution_count": 99,
   "metadata": {},
   "outputs": [
    {
     "data": {
      "text/plain": [
       "<matplotlib.legend.Legend at 0x1a4a652a90>"
      ]
     },
     "execution_count": 99,
     "metadata": {},
     "output_type": "execute_result"
    },
    {
     "data": {
      "image/png": "[encoded data removed]",
      "text/plain": [
       "<Figure size 1008x432 with 1 Axes>"
      ]
     },
     "metadata": {},
     "output_type": "display_data"
    }
   ],
   "source": [
    "plt.figure(figsize=(14, 6))\n",
    "astroplan.plots.plot_airmass(nsatargs, aatobs, run_start,\n",
    "                             style_kwargs=dict(linestyle=':'))\n",
    "astroplan.plots.plot_airmass(destargs, aatobs, run_start, \n",
    "                             style_kwargs=dict(linestyle='-'),\n",
    "                             brightness_shading=True)\n",
    "astroplan.plots.plot_airmass(addedtargs, aatobs, run_start, \n",
    "                             style_kwargs=dict(linestyle='--'),\n",
    "                             brightness_shading=True)\n",
    "plt.legend(loc=0)"
   ]
  },
  {
   "cell_type": "code",
   "execution_count": 100,
   "metadata": {},
   "outputs": [
    {
     "data": {
      "text/plain": [
       "{'nsa141465': '12h28m50.64s -01d56m21.048s',\n",
       " 'nsa145398': '14h39m11.04s +05d21m48.492s',\n",
       " 'nsa145729': '14h58m22.56s -01d05m27.672s',\n",
       " 'nsa145879': '15h09m49.44s +00d28m12.306s',\n",
       " 'nsa165082': '14h29m40.32s +03d13m59.916s',\n",
       " 'nsa3469': '12h23m54s -03d26m34.548s',\n",
       " 'pgc2052': '00h34m15.492s -27d48m13.32s',\n",
       " 'pgc3089': '00h52m42.36s -31d12m20.88s',\n",
       " 'pgc64427': '20h17m17.28s -52d47m48.48s',\n",
       " 'pgc66318': '21h11m52.08s -49d17m01.68s',\n",
       " 'pgc66934': '21h32m35.28s -44d04m03.36s',\n",
       " 'pgc67146': '21h40m12.96s -42d32m21.84s',\n",
       " 'pgc67663': '21h56m09.6s -49d31m19.2s',\n",
       " 'pgc67817': '22h00m32.88s -43d23m23.28s',\n",
       " 'pgc68128': '22h08m34.32s -57d26m33.36s',\n",
       " 'pgc69521': '22h41m52.32s -44d46m02.28s',\n",
       " 'pgc70094': '22h57m13.44s -43d23m45.96s',\n",
       " 'pgc71548': '23h28m43.44s -41d20m00.24s',\n",
       " 'pgc71729': '23h33m16.8s -54d05m40.2s'}"
      ]
     },
     "execution_count": 100,
     "metadata": {},
     "output_type": "execute_result"
    }
   ],
   "source": [
    "{host['ID_STR']:host['coord'].to_string('hmsdms') for host in targethosts}"
   ]
  },
  {
   "cell_type": "markdown",
   "metadata": {},
   "source": [
    "# Tests/Experiments "
   ]
  },
  {
   "cell_type": "markdown",
   "metadata": {},
   "source": [
    "## Compare Gaia to SDSS guide stars "
   ]
  },
  {
   "cell_type": "markdown",
   "metadata": {},
   "source": [
    "First need to get the Gaia catalog for an NSA object"
   ]
  },
  {
   "cell_type": "code",
   "execution_count": 240,
   "metadata": {},
   "outputs": [
    {
     "name": "stdout",
     "output_type": "stream",
     "text": [
      "File external_catalogs/astrometric/nsa145729_gaia.ecsv exists, skipping.\n"
     ]
    }
   ],
   "source": [
    "from astroquery.gaia import Gaia\n",
    "\n",
    "host = targethosts[targethosts['NSAID']==145729][0]\n",
    "hostname = host['ID_STR']\n",
    "\n",
    "fn = 'external_catalogs/astrometric/{}_gaia.ecsv'.format(hostname)\n",
    "if os.path.exists(fn):\n",
    "    print('File', fn, 'exists, skipping.')\n",
    "else:\n",
    "    gaiajob = Gaia.cone_search_async(host['coord'], radius=1*u.deg)\n",
    "    gaia_tab = gaiajob.get_data()\n",
    "    gaia_tab.write(fn, format='ascii.ecsv')"
   ]
  },
  {
   "cell_type": "code",
   "execution_count": 186,
   "metadata": {},
   "outputs": [
    {
     "name": "stdout",
     "output_type": "stream",
     "text": [
      "Object catalog to Gaia offset: (<Angle 0.08164132 arcsec>, <Angle 0.07912354 arcsec>)\n"
     ]
    },
    {
     "name": "stderr",
     "output_type": "stream",
     "text": [
      "/Users/erik/miniconda3/envs/saga3/lib/python3.6/site-packages/astropy/table/column.py:965: RuntimeWarning: invalid value encountered in greater\n",
      "  return getattr(self.data, op)(other)\n",
      "/Users/erik/miniconda3/envs/saga3/lib/python3.6/site-packages/astropy/table/column.py:965: RuntimeWarning: invalid value encountered in less\n",
      "  return getattr(self.data, op)(other)\n"
     ]
    }
   ],
   "source": [
    "sg = get_sdss_guidestars(hostname)\n",
    "gg = get_gaia_guidestars(hostname)"
   ]
  },
  {
   "cell_type": "code",
   "execution_count": 244,
   "metadata": {},
   "outputs": [
    {
     "data": {
      "text/plain": [
       "'name ra dec\\n0 224.5906678370427 -1.2950137489728544\\n1 225.474151384421 -1.0878728139581342\\n2 223.72076787853638 -1.064198175815504\\n3 224.69971909393655 -0.11598412583400089\\n4 224.49166343911241 -0.24257767434462332\\n5 224.62463741931958 -0.4230975491424615\\n6 224.37369153842926 -0.4800222383547373\\n7 224.19404148678638 -0.8220071323707093\\n8 224.65252782545224 -1.0847146863650194\\n9 224.1410110620503 -0.2071167177698061\\n10 224.9363866472278 -1.4903310568051382\\n11 224.67017945756132 -1.7733027482083552\\n12 225.40836029262869 -1.400029760022471\\n13 225.30634144468124 -0.7161621971578055\\n14 224.83571123330182 -1.322937187697389\\n15 224.0925068883515 -0.9660130396193417\\n16 224.23739191824615 -0.8706479440961696\\n17 224.8091204040939 -1.3722094648864824\\n18 223.82874853027943 -1.6120410701977648\\n19 224.77117744444803 -1.5807623766054963\\n20 225.35423764341257 -0.5469297014793553\\n21 224.60782395831689 -0.47159126202074086\\n22 224.3219072547881 -0.5827964838166261\\n23 225.3120934837805 -1.6115271245837464\\n24 224.80859294906264 -1.9180425126046237'"
      ]
     },
     "execution_count": 244,
     "metadata": {},
     "output_type": "execute_result"
    }
   ],
   "source": [
    "targeting.sampled_imagelist(gg['RA'], gg['Dec'])"
   ]
  },
  {
   "cell_type": "markdown",
   "metadata": {},
   "source": [
    "They all look like reasonable guide stars..."
   ]
  },
  {
   "cell_type": "code",
   "execution_count": 190,
   "metadata": {},
   "outputs": [
    {
     "name": "stdout",
     "output_type": "stream",
     "text": [
      "Object catalog to Gaia offset: (<Angle 0.08164132 arcsec>, <Angle 0.07912354 arcsec>)\n"
     ]
    },
    {
     "name": "stderr",
     "output_type": "stream",
     "text": [
      "/Users/erik/miniconda3/envs/saga3/lib/python3.6/site-packages/astropy/table/column.py:965: RuntimeWarning: invalid value encountered in greater\n",
      "  return getattr(self.data, op)(other)\n",
      "/Users/erik/miniconda3/envs/saga3/lib/python3.6/site-packages/astropy/table/column.py:965: RuntimeWarning: invalid value encountered in less\n",
      "  return getattr(self.data, op)(other)\n"
     ]
    }
   ],
   "source": [
    "gg = get_gaia_guidestars(hostname)"
   ]
  },
  {
   "cell_type": "code",
   "execution_count": 191,
   "metadata": {},
   "outputs": [],
   "source": [
    "gstarcat = gg.meta['gstarcat']\n",
    "gsc = SkyCoord(gstarcat['ra'], gstarcat['dec'])\n",
    "obj_cat = saga_object_catalog.load(hostname)[0]\n",
    "sstarcat = obj_cat[np.in1d(obj_cat['OBJID'], sg['TargetName'])]"
   ]
  },
  {
   "cell_type": "code",
   "execution_count": 192,
   "metadata": {},
   "outputs": [
    {
     "data": {
      "text/plain": [
       "(-0.3, 0.3)"
      ]
     },
     "execution_count": 192,
     "metadata": {},
     "output_type": "execute_result"
    },
    {
     "data": {
      "image/png": "[encoded data removed]",
      "text/plain": [
       "<Figure size 432x288 with 1 Axes>"
      ]
     },
     "metadata": {},
     "output_type": "display_data"
    }
   ],
   "source": [
    "idx, d2d, _ = gsc.match_to_catalog_sky(sstarcat['coord'])\n",
    "gcatmsk = gstarcat[d2d < 1*u.arcsec]\n",
    "scatmsk = sstarcat[idx[d2d < 1*u.arcsec]]\n",
    "ggmsk = gg[d2d<1*u.arcsec]\n",
    "\n",
    "plt.scatter(gcatmsk['bp_rp'], gcatmsk['phot_g_mean_mag'] - scatmsk['r_mag'])\n",
    "plt.scatter(gcatmsk['bp_rp'], ggmsk['Magnitude'] - scatmsk['r_mag'])\n",
    "plt.ylim(-.3, .3)"
   ]
  },
  {
   "cell_type": "markdown",
   "metadata": {},
   "source": [
    "That is strange.  Evans et al. 2018 would imply this should be ~ -0.1, not 0.2 to 0.3 ... unless this is a magnitude/SED effect?"
   ]
  },
  {
   "cell_type": "code",
   "execution_count": 194,
   "metadata": {},
   "outputs": [],
   "source": [
    "gall = table.Table.read('external_catalogs/astrometric/nsa145729_gaia.ecsv')"
   ]
  },
  {
   "cell_type": "code",
   "execution_count": 229,
   "metadata": {},
   "outputs": [
    {
     "name": "stderr",
     "output_type": "stream",
     "text": [
      "/Users/erik/miniconda3/envs/saga3/lib/python3.6/site-packages/astropy/table/column.py:965: RuntimeWarning: invalid value encountered in greater\n",
      "  return getattr(self.data, op)(other)\n",
      "/Users/erik/miniconda3/envs/saga3/lib/python3.6/site-packages/astropy/table/column.py:965: RuntimeWarning: invalid value encountered in less\n",
      "  return getattr(self.data, op)(other)\n"
     ]
    },
    {
     "data": {
      "text/plain": [
       "Text(0,0.5,'$G_-r$')"
      ]
     },
     "execution_count": 229,
     "metadata": {},
     "output_type": "execute_result"
    },
    {
     "data": {
      "image/png": "[encoded data removed]",
      "text/plain": [
       "<Figure size 432x288 with 2 Axes>"
      ]
     },
     "metadata": {},
     "output_type": "display_data"
    }
   ],
   "source": [
    "gmag = gall['phot_g_mean_mag']\n",
    "gcut = gall[(gmag < 19)]\n",
    "star_obj_cat = obj_cat[~obj_cat['is_galaxy']&(obj_cat['r_mag']>-9998)&(obj_cat['r_mag']<21)]\n",
    "gsc = SkyCoord(gcut['ra'], gcut['dec'])\n",
    "idx, d2d, _ = gsc.match_to_catalog_sky(star_obj_cat['coord'])\n",
    "\n",
    "g_matches = gcut[d2d< 1*u.arcsec]\n",
    "star_matches = star_obj_cat[idx[d2d< 1*u.arcsec]]\n",
    "\n",
    "plt.scatter(g_matches['bp_rp'], g_matches['phot_g_mean_mag'] - star_matches['r_mag'], c=star_matches['r_mag'])\n",
    "plt.ylim(-1, 1)\n",
    "plt.colorbar()\n",
    "plt.xlabel('$G_{BP}-G_{RP}$')\n",
    "plt.ylabel('$G_-r$')"
   ]
  },
  {
   "cell_type": "markdown",
   "metadata": {},
   "source": [
    "... is extinction included in these r-mags?"
   ]
  },
  {
   "cell_type": "code",
   "execution_count": 241,
   "metadata": {},
   "outputs": [
    {
     "data": {
      "text/plain": [
       "0.132215"
      ]
     },
     "execution_count": 241,
     "metadata": {},
     "output_type": "execute_result"
    }
   ],
   "source": [
    "host['A_r']"
   ]
  },
  {
   "cell_type": "markdown",
   "metadata": {},
   "source": [
    "Nope that's still not it...?"
   ]
  },
  {
   "cell_type": "markdown",
   "metadata": {},
   "source": [
    "### Compare updated nsa3469 to the previous base catalog "
   ]
  },
  {
   "cell_type": "code",
   "execution_count": 512,
   "metadata": {},
   "outputs": [
    {
     "name": "stderr",
     "output_type": "stream",
     "text": [
      "/Users/erik/projects/saga/saga/build/lib/SAGA/objects/object_catalog.py:54: RuntimeWarning: invalid value encountered in subtract\n",
      "  table[color] = table['{}_mag'.format(color[0])] - table['{}_mag'.format(color[1])]\n"
     ]
    }
   ],
   "source": [
    "ocat = saga_object_catalog.load('nsa3469')[0]\n",
    "ocat_old = table.Table.read('base_catalogs/backups/base_v2_nsa3469.fits.gz')"
   ]
  },
  {
   "cell_type": "code",
   "execution_count": 514,
   "metadata": {},
   "outputs": [],
   "source": [
    "del ocat['coord'] # joins don't work with mixins\n",
    "\n",
    "j = table.join(ocat, ocat_old, 'OBJID', 'outer')"
   ]
  },
  {
   "cell_type": "code",
   "execution_count": 536,
   "metadata": {},
   "outputs": [
    {
     "data": {
      "text/html": [
       "<i>Table masked=True length=44</i>\n",
       "<table id=\"table118489828096\" class=\"table-striped table-bordered table-condensed\">\n",
       "<thead><tr><th>OBJID</th><th>SATS_1</th><th>SATS_2</th></tr></thead>\n",
       "<thead><tr><th>int64</th><th>int16</th><th>int16</th></tr></thead>\n",
       "<tr><td>667634</td><td>0</td><td>--</td></tr>\n",
       "<tr><td>3066390000000001475</td><td>-1</td><td>--</td></tr>\n",
       "<tr><td>3066390000000001476</td><td>--</td><td>-1</td></tr>\n",
       "<tr><td>3095180000000004064</td><td>--</td><td>-1</td></tr>\n",
       "<tr><td>3109520000000002200</td><td>--</td><td>-1</td></tr>\n",
       "<tr><td>3109520000000002201</td><td>-1</td><td>--</td></tr>\n",
       "<tr><td>3109530000000000033</td><td>--</td><td>-1</td></tr>\n",
       "<tr><td>3109530000000000035</td><td>-1</td><td>--</td></tr>\n",
       "<tr><td>3109530000000003600</td><td>--</td><td>-1</td></tr>\n",
       "<tr><td>3109530000000003602</td><td>-1</td><td>--</td></tr>\n",
       "<tr><td>...</td><td>...</td><td>...</td></tr>\n",
       "<tr><td>3152740000000003869</td><td>-1</td><td>--</td></tr>\n",
       "<tr><td>3152740000000003870</td><td>--</td><td>-1</td></tr>\n",
       "<tr><td>3167110000000000418</td><td>-1</td><td>--</td></tr>\n",
       "<tr><td>3167110000000000419</td><td>--</td><td>-1</td></tr>\n",
       "<tr><td>3167110000000001479</td><td>-1</td><td>--</td></tr>\n",
       "<tr><td>3167110000000001480</td><td>--</td><td>-1</td></tr>\n",
       "<tr><td>3167130000000000314</td><td>-1</td><td>--</td></tr>\n",
       "<tr><td>3167130000000000319</td><td>--</td><td>-1</td></tr>\n",
       "<tr><td>3167130000000000954</td><td>--</td><td>-1</td></tr>\n",
       "<tr><td>3167130000000000955</td><td>-1</td><td>--</td></tr>\n",
       "</table>"
      ],
      "text/plain": [
       "<Table masked=True length=44>\n",
       "       OBJID        SATS_1 SATS_2\n",
       "       int64        int16  int16 \n",
       "------------------- ------ ------\n",
       "             667634      0     --\n",
       "3066390000000001475     -1     --\n",
       "3066390000000001476     --     -1\n",
       "3095180000000004064     --     -1\n",
       "3109520000000002200     --     -1\n",
       "3109520000000002201     -1     --\n",
       "3109530000000000033     --     -1\n",
       "3109530000000000035     -1     --\n",
       "3109530000000003600     --     -1\n",
       "3109530000000003602     -1     --\n",
       "                ...    ...    ...\n",
       "3152740000000003869     -1     --\n",
       "3152740000000003870     --     -1\n",
       "3167110000000000418     -1     --\n",
       "3167110000000000419     --     -1\n",
       "3167110000000001479     -1     --\n",
       "3167110000000001480     --     -1\n",
       "3167130000000000314     -1     --\n",
       "3167130000000000319     --     -1\n",
       "3167130000000000954     --     -1\n",
       "3167130000000000955     -1     --"
      ]
     },
     "execution_count": 536,
     "metadata": {},
     "output_type": "execute_result"
    }
   ],
   "source": [
    "notmatch = j[j['RA_1']!=j['RA_2']]\n",
    "notmatch['OBJID', 'SATS_1', 'SATS_2']"
   ]
  },
  {
   "cell_type": "code",
   "execution_count": 549,
   "metadata": {},
   "outputs": [
    {
     "data": {
      "text/html": [
       "<i>Row index=0 masked=True</i>\n",
       "<table id=\"table113643473104\">\n",
       "<thead><tr><th>OBJID</th><th>RA_1</th><th>DEC_1</th><th>REMOVE_1</th><th>is_galaxy_1</th><th>morphology_info_1</th><th>radius_1</th><th>radius_err_1</th><th>u_mag_1</th><th>g_mag_1</th><th>r_mag_1</th><th>i_mag_1</th><th>z_mag_1</th><th>y_mag_1</th><th>u_err_1</th><th>g_err_1</th><th>r_err_1</th><th>i_err_1</th><th>z_err_1</th><th>y_err_1</th><th>survey_1</th><th>OBJID_sdss_1</th><th>RA_sdss_1</th><th>DEC_sdss_1</th><th>REMOVE_sdss_1</th><th>is_galaxy_sdss_1</th><th>morphology_info_sdss_1</th><th>radius_sdss_1</th><th>radius_err_sdss_1</th><th>u_mag_sdss_1</th><th>g_mag_sdss_1</th><th>r_mag_sdss_1</th><th>i_mag_sdss_1</th><th>z_mag_sdss_1</th><th>y_mag_sdss_1</th><th>u_err_sdss_1</th><th>g_err_sdss_1</th><th>r_err_sdss_1</th><th>i_err_sdss_1</th><th>z_err_sdss_1</th><th>y_err_sdss_1</th><th>OBJID_decals_1</th><th>RA_decals_1</th><th>DEC_decals_1</th><th>REMOVE_decals_1</th><th>is_galaxy_decals_1</th><th>morphology_info_decals_1</th><th>radius_decals_1</th><th>radius_err_decals_1</th><th>u_mag_decals_1</th><th>g_mag_decals_1</th><th>r_mag_decals_1</th><th>i_mag_decals_1</th><th>z_mag_decals_1</th><th>y_mag_decals_1</th><th>u_err_decals_1</th><th>g_err_decals_1</th><th>r_err_decals_1</th><th>i_err_decals_1</th><th>z_err_decals_1</th><th>y_err_decals_1</th><th>HOST_NSAID_1</th><th>HOST_NSA1ID_1</th><th>HOST_RA_1</th><th>HOST_DEC_1</th><th>HOST_DIST_1</th><th>HOST_VHOST_1</th><th>HOST_MK_1</th><th>HOST_MR_1</th><th>HOST_MG_1</th><th>HOST_SAGA_NAME_1</th><th>HOST_NGC_1</th><th>HOST_PGC_1</th><th>RHOST_ARCM_1</th><th>RHOST_KPC_1</th><th>OBJ_NSAID_1</th><th>SPEC_REPEAT_1</th><th>SPEC_Z_1</th><th>SPEC_Z_ERR_1</th><th>ZQUALITY_1</th><th>SPECOBJID_1</th><th>MASKNAME_1</th><th>TELNAME_1</th><th>EM_ABS_1</th><th>HELIO_CORR_1</th><th>RA_spec_1</th><th>DEC_spec_1</th><th>sb_r_1</th><th>SATS_1</th><th>log_sm_1</th><th>ug</th><th>ug_err</th><th>gr</th><th>gr_err</th><th>ri</th><th>ri_err</th><th>iz</th><th>iz_err</th><th>zy</th><th>zy_err</th><th>rz</th><th>rz_err</th><th>RA_2</th><th>DEC_2</th><th>REMOVE_2</th><th>is_galaxy_2</th><th>morphology_info_2</th><th>radius_2</th><th>radius_err_2</th><th>u_mag_2</th><th>g_mag_2</th><th>r_mag_2</th><th>i_mag_2</th><th>z_mag_2</th><th>y_mag_2</th><th>u_err_2</th><th>g_err_2</th><th>r_err_2</th><th>i_err_2</th><th>z_err_2</th><th>y_err_2</th><th>survey_2</th><th>OBJID_sdss_2</th><th>RA_sdss_2</th><th>DEC_sdss_2</th><th>REMOVE_sdss_2</th><th>is_galaxy_sdss_2</th><th>morphology_info_sdss_2</th><th>radius_sdss_2</th><th>radius_err_sdss_2</th><th>u_mag_sdss_2</th><th>g_mag_sdss_2</th><th>r_mag_sdss_2</th><th>i_mag_sdss_2</th><th>z_mag_sdss_2</th><th>y_mag_sdss_2</th><th>u_err_sdss_2</th><th>g_err_sdss_2</th><th>r_err_sdss_2</th><th>i_err_sdss_2</th><th>z_err_sdss_2</th><th>y_err_sdss_2</th><th>OBJID_decals_2</th><th>RA_decals_2</th><th>DEC_decals_2</th><th>REMOVE_decals_2</th><th>is_galaxy_decals_2</th><th>morphology_info_decals_2</th><th>radius_decals_2</th><th>radius_err_decals_2</th><th>u_mag_decals_2</th><th>g_mag_decals_2</th><th>r_mag_decals_2</th><th>i_mag_decals_2</th><th>z_mag_decals_2</th><th>y_mag_decals_2</th><th>u_err_decals_2</th><th>g_err_decals_2</th><th>r_err_decals_2</th><th>i_err_decals_2</th><th>z_err_decals_2</th><th>y_err_decals_2</th><th>HOST_NSAID_2</th><th>HOST_NSA1ID_2</th><th>HOST_RA_2</th><th>HOST_DEC_2</th><th>HOST_DIST_2</th><th>HOST_VHOST_2</th><th>HOST_MK_2</th><th>HOST_MR_2</th><th>HOST_MG_2</th><th>HOST_SAGA_NAME_2</th><th>HOST_NGC_2</th><th>HOST_PGC_2</th><th>RHOST_ARCM_2</th><th>RHOST_KPC_2</th><th>OBJ_NSAID_2</th><th>SPEC_REPEAT_2</th><th>SPEC_Z_2</th><th>SPEC_Z_ERR_2</th><th>ZQUALITY_2</th><th>SPECOBJID_2</th><th>MASKNAME_2</th><th>TELNAME_2</th><th>EM_ABS_2</th><th>HELIO_CORR_2</th><th>RA_spec_2</th><th>DEC_spec_2</th><th>sb_r_2</th><th>SATS_2</th><th>log_sm_2</th></tr></thead>\n",
       "<thead><tr><th>int64</th><th>float64</th><th>float64</th><th>int64</th><th>bool</th><th>int32</th><th>float32</th><th>float32</th><th>float64</th><th>float32</th><th>float32</th><th>float64</th><th>float32</th><th>float64</th><th>float64</th><th>float32</th><th>float32</th><th>float64</th><th>float32</th><th>float64</th><th>str6</th><th>int64</th><th>float64</th><th>float64</th><th>int64</th><th>bool</th><th>int32</th><th>float32</th><th>float32</th><th>float64</th><th>float32</th><th>float32</th><th>float64</th><th>float32</th><th>float64</th><th>float64</th><th>float32</th><th>float32</th><th>float64</th><th>float32</th><th>float64</th><th>int64</th><th>float64</th><th>float64</th><th>int64</th><th>bool</th><th>int32</th><th>float32</th><th>float32</th><th>float64</th><th>float32</th><th>float32</th><th>float64</th><th>float32</th><th>float64</th><th>float64</th><th>float32</th><th>float32</th><th>float64</th><th>float32</th><th>float64</th><th>int32</th><th>int32</th><th>float32</th><th>float32</th><th>float32</th><th>float32</th><th>float32</th><th>float32</th><th>float32</th><th>str48</th><th>int32</th><th>int32</th><th>float32</th><th>float32</th><th>int32</th><th>str48</th><th>float32</th><th>float32</th><th>int16</th><th>str48</th><th>str48</th><th>str6</th><th>int16</th><th>bool</th><th>float64</th><th>float64</th><th>float32</th><th>int16</th><th>float64</th><th>float64</th><th>float64</th><th>float32</th><th>float32</th><th>float64</th><th>float64</th><th>float64</th><th>float64</th><th>float64</th><th>float64</th><th>float32</th><th>float32</th><th>float64</th><th>float64</th><th>int64</th><th>bool</th><th>int32</th><th>float32</th><th>float32</th><th>float64</th><th>float32</th><th>float32</th><th>float64</th><th>float32</th><th>float64</th><th>float64</th><th>float32</th><th>float32</th><th>float64</th><th>float32</th><th>float64</th><th>bytes6</th><th>int64</th><th>float64</th><th>float64</th><th>int64</th><th>bool</th><th>int32</th><th>float32</th><th>float32</th><th>float64</th><th>float32</th><th>float32</th><th>float64</th><th>float32</th><th>float64</th><th>float64</th><th>float32</th><th>float32</th><th>float64</th><th>float32</th><th>float64</th><th>int64</th><th>float64</th><th>float64</th><th>int64</th><th>bool</th><th>int32</th><th>float32</th><th>float32</th><th>float64</th><th>float32</th><th>float32</th><th>float64</th><th>float32</th><th>float64</th><th>float64</th><th>float32</th><th>float32</th><th>float64</th><th>float32</th><th>float64</th><th>int32</th><th>int32</th><th>float32</th><th>float32</th><th>float32</th><th>float32</th><th>float32</th><th>float32</th><th>float32</th><th>bytes48</th><th>int32</th><th>int32</th><th>float32</th><th>float32</th><th>int32</th><th>bytes48</th><th>float32</th><th>float32</th><th>int16</th><th>bytes48</th><th>bytes48</th><th>bytes6</th><th>int16</th><th>bool</th><th>float64</th><th>float64</th><th>float32</th><th>int16</th><th>float64</th></tr></thead>\n",
       "<tr><td>667634</td><td>186.28988312104642</td><td>-3.650951666385364</td><td>0</td><td>True</td><td>69</td><td>3.2260087</td><td>0.0</td><td>20.403911590576172</td><td>20.104137</td><td>19.667616</td><td>19.071447372436523</td><td>19.019974</td><td>99.0</td><td>0.2365889996290207</td><td>0.089075685</td><td>0.08529498</td><td>0.08152511715888977</td><td>0.28358462</td><td>99.0</td><td>NSA</td><td>1237650760245838115</td><td>186.28914357117526</td><td>-3.6518246779813537</td><td>0</td><td>True</td><td>3</td><td>2.2175121</td><td>0.07880783</td><td>20.13367462158203</td><td>19.20518</td><td>18.841427</td><td>18.57540512084961</td><td>18.406008</td><td>99.0</td><td>0.10479016602039337</td><td>0.022609735</td><td>0.02977314</td><td>0.029728418216109276</td><td>0.09791481</td><td>99.0</td><td>3095180000000004064</td><td>186.2892062262206</td><td>-3.6518580967675636</td><td>0</td><td>True</td><td>69</td><td>2.5225127</td><td>9999.0</td><td>99.0</td><td>19.241293</td><td>18.812649</td><td>99.0</td><td>18.501104</td><td>99.0</td><td>99.0</td><td>0.005536317</td><td>0.0049096895</td><td>99.0</td><td>0.008456782</td><td>99.0</td><td>3469</td><td>19609</td><td>185.975</td><td>-3.44293</td><td>29.8369</td><td>2004.28</td><td>-23.4597</td><td>-20.4264</td><td>-19.6124</td><td></td><td>4348</td><td>40284</td><td>22.609608</td><td>196.23195</td><td>667634</td><td>NSA+AAT</td><td>0.11369844</td><td>10.0</td><td>4</td><td>36</td><td>nsa3469_1_MG.mz</td><td>AAT</td><td>-1</td><td>True</td><td>186.28920567765533</td><td>-3.651861098825328</td><td>24.206394</td><td>0</td><td>nan</td><td>0.299774169921875</td><td>0.2528019626566475</td><td>0.43652153</td><td>0.12332766</td><td>0.5961685180664062</td><td>0.11798973599548075</td><td>0.05147361755371094</td><td>0.29507047293309324</td><td>-79.98002624511719</td><td>99.00040616199142</td><td>0.64764214</td><td>0.2961342</td><td>--</td><td>--</td><td>--</td><td>--</td><td>--</td><td>--</td><td>--</td><td>--</td><td>--</td><td>--</td><td>--</td><td>--</td><td>--</td><td>--</td><td>--</td><td>--</td><td>--</td><td>--</td><td>--</td><td>--</td><td>--</td><td>--</td><td>--</td><td>--</td><td>--</td><td>--</td><td>--</td><td>--</td><td>--</td><td>--</td><td>--</td><td>--</td><td>--</td><td>--</td><td>--</td><td>--</td><td>--</td><td>--</td><td>--</td><td>--</td><td>--</td><td>--</td><td>--</td><td>--</td><td>--</td><td>--</td><td>--</td><td>--</td><td>--</td><td>--</td><td>--</td><td>--</td><td>--</td><td>--</td><td>--</td><td>--</td><td>--</td><td>--</td><td>--</td><td>--</td><td>--</td><td>--</td><td>--</td><td>--</td><td>--</td><td>--</td><td>--</td><td>--</td><td>--</td><td>--</td><td>--</td><td>--</td><td>--</td><td>--</td><td>--</td><td>--</td><td>--</td><td>--</td><td>--</td><td>--</td><td>--</td><td>--</td><td>--</td><td>--</td><td>--</td><td>--</td><td>--</td><td>--</td><td>--</td></tr>\n",
       "</table>"
      ],
      "text/plain": [
       "<Row index=0 masked=True>\n",
       "OBJID         RA_1              DEC_1        REMOVE_1 is_galaxy_1 morphology_info_1  radius_1 radius_err_1      u_mag_1        g_mag_1   r_mag_1       i_mag_1        z_mag_1  y_mag_1      u_err_1         g_err_1    r_err_1         i_err_1        z_err_1   y_err_1 survey_1     OBJID_sdss_1        RA_sdss_1           DEC_sdss_1     REMOVE_sdss_1 is_galaxy_sdss_1 morphology_info_sdss_1 radius_sdss_1 radius_err_sdss_1    u_mag_sdss_1   g_mag_sdss_1 r_mag_sdss_1    i_mag_sdss_1   z_mag_sdss_1 y_mag_sdss_1     u_err_sdss_1    g_err_sdss_1 r_err_sdss_1     i_err_sdss_1     z_err_sdss_1 y_err_sdss_1    OBJID_decals_1      RA_decals_1        DEC_decals_1    REMOVE_decals_1 is_galaxy_decals_1 morphology_info_decals_1 radius_decals_1 radius_err_decals_1 u_mag_decals_1 g_mag_decals_1 r_mag_decals_1 i_mag_decals_1 z_mag_decals_1 y_mag_decals_1 u_err_decals_1 g_err_decals_1 r_err_decals_1 i_err_decals_1 z_err_decals_1 y_err_decals_1 HOST_NSAID_1 HOST_NSA1ID_1 HOST_RA_1 HOST_DEC_1 HOST_DIST_1 HOST_VHOST_1 HOST_MK_1 HOST_MR_1 HOST_MG_1 HOST_SAGA_NAME_1 HOST_NGC_1 HOST_PGC_1 RHOST_ARCM_1 RHOST_KPC_1 OBJ_NSAID_1 SPEC_REPEAT_1  SPEC_Z_1  SPEC_Z_ERR_1 ZQUALITY_1 SPECOBJID_1    MASKNAME_1   TELNAME_1 EM_ABS_1 HELIO_CORR_1     RA_spec_1          DEC_spec_1       sb_r_1  SATS_1 log_sm_1         ug              ug_err           gr       gr_err           ri                ri_err                iz                iz_err               zy               zy_err          rz       rz_err    RA_2   DEC_2  REMOVE_2 is_galaxy_2 morphology_info_2 radius_2 radius_err_2 u_mag_2 g_mag_2 r_mag_2 i_mag_2 z_mag_2 y_mag_2 u_err_2 g_err_2 r_err_2 i_err_2 z_err_2 y_err_2 survey_2 OBJID_sdss_2 RA_sdss_2 DEC_sdss_2 REMOVE_sdss_2 is_galaxy_sdss_2 morphology_info_sdss_2 radius_sdss_2 radius_err_sdss_2 u_mag_sdss_2 g_mag_sdss_2 r_mag_sdss_2 i_mag_sdss_2 z_mag_sdss_2 y_mag_sdss_2 u_err_sdss_2 g_err_sdss_2 r_err_sdss_2 i_err_sdss_2 z_err_sdss_2 y_err_sdss_2 OBJID_decals_2 RA_decals_2 DEC_decals_2 REMOVE_decals_2 is_galaxy_decals_2 morphology_info_decals_2 radius_decals_2 radius_err_decals_2 u_mag_decals_2 g_mag_decals_2 r_mag_decals_2 i_mag_decals_2 z_mag_decals_2 y_mag_decals_2 u_err_decals_2 g_err_decals_2 r_err_decals_2 i_err_decals_2 z_err_decals_2 y_err_decals_2 HOST_NSAID_2 HOST_NSA1ID_2 HOST_RA_2 HOST_DEC_2 HOST_DIST_2 HOST_VHOST_2 HOST_MK_2 HOST_MR_2 HOST_MG_2 HOST_SAGA_NAME_2 HOST_NGC_2 HOST_PGC_2 RHOST_ARCM_2 RHOST_KPC_2 OBJ_NSAID_2 SPEC_REPEAT_2 SPEC_Z_2 SPEC_Z_ERR_2 ZQUALITY_2 SPECOBJID_2 MASKNAME_2 TELNAME_2 EM_ABS_2 HELIO_CORR_2 RA_spec_2 DEC_spec_2  sb_r_2 SATS_2 log_sm_2\n",
       "int64       float64            float64        int64       bool          int32        float32    float32         float64        float32   float32       float64        float32  float64      float64         float32    float32         float64        float32   float64   str6          int64             float64             float64           int64           bool               int32             float32         float32           float64        float32      float32         float64        float32      float64          float64         float32      float32          float64          float32      float64           int64             float64            float64            int64             bool                 int32               float32           float32          float64        float32        float32        float64        float32        float64        float64        float32        float32        float64        float32        float64        int32         int32      float32   float32     float32     float32     float32   float32   float32       str48         int32      int32      float32      float32      int32        str48      float32     float32      int16       str48         str48         str6    int16       bool          float64            float64        float32  int16  float64       float64           float64        float32    float32        float64             float64             float64             float64            float64            float64       float32    float32  float64 float64  int64       bool          int32       float32    float32    float64 float32 float32 float64 float32 float64 float64 float32 float32 float64 float32 float64  bytes6     int64      float64   float64       int64           bool               int32             float32         float32        float64      float32      float32      float64      float32      float64      float64      float32      float32      float64      float32      float64        int64        float64     float64         int64             bool                 int32               float32           float32          float64        float32        float32        float64        float32        float64        float64        float32        float32        float64        float32        float64        int32         int32      float32   float32     float32     float32     float32   float32   float32      bytes48        int32      int32      float32      float32      int32       bytes48    float32    float32      int16      bytes48    bytes48     bytes6   int16       bool      float64   float64   float32 int16  float64 \n",
       "------ ------------------ ------------------ -------- ----------- ----------------- --------- ------------ ------------------ --------- --------- ------------------ --------- ------- ------------------ ----------- ---------- ------------------- ---------- ------- -------- ------------------- ------------------ ------------------- ------------- ---------------- ---------------------- ------------- ----------------- ----------------- ------------ ------------ ----------------- ------------ ------------ ------------------- ------------ ------------ -------------------- ------------ ------------ ------------------- ----------------- ------------------- --------------- ------------------ ------------------------ --------------- ------------------- -------------- -------------- -------------- -------------- -------------- -------------- -------------- -------------- -------------- -------------- -------------- -------------- ------------ ------------- --------- ---------- ----------- ------------ --------- --------- --------- ---------------- ---------- ---------- ------------ ----------- ----------- ------------- ---------- ------------ ---------- ----------- --------------- --------- -------- ------------ ------------------ ------------------ --------- ------ -------- ----------------- ------------------ ---------- ---------- ------------------ ------------------- ------------------- ------------------- ------------------ ----------------- ---------- --------- ------- ------- -------- ----------- ----------------- -------- ------------ ------- ------- ------- ------- ------- ------- ------- ------- ------- ------- ------- ------- -------- ------------ --------- ---------- ------------- ---------------- ---------------------- ------------- ----------------- ------------ ------------ ------------ ------------ ------------ ------------ ------------ ------------ ------------ ------------ ------------ ------------ -------------- ----------- ------------ --------------- ------------------ ------------------------ --------------- ------------------- -------------- -------------- -------------- -------------- -------------- -------------- -------------- -------------- -------------- -------------- -------------- -------------- ------------ ------------- --------- ---------- ----------- ------------ --------- --------- --------- ---------------- ---------- ---------- ------------ ----------- ----------- ------------- -------- ------------ ---------- ----------- ---------- --------- -------- ------------ --------- ---------- ------- ------ --------\n",
       "667634 186.28988312104642 -3.650951666385364        0        True                69 3.2260087          0.0 20.403911590576172 20.104137 19.667616 19.071447372436523 19.019974    99.0 0.2365889996290207 0.089075685 0.08529498 0.08152511715888977 0.28358462    99.0      NSA 1237650760245838115 186.28914357117526 -3.6518246779813537             0             True                      3     2.2175121        0.07880783 20.13367462158203     19.20518    18.841427 18.57540512084961    18.406008         99.0 0.10479016602039337  0.022609735   0.02977314 0.029728418216109276   0.09791481         99.0 3095180000000004064 186.2892062262206 -3.6518580967675636               0               True                       69       2.5225127              9999.0           99.0      19.241293      18.812649           99.0      18.501104           99.0           99.0    0.005536317   0.0049096895           99.0    0.008456782           99.0         3469         19609   185.975   -3.44293     29.8369      2004.28  -23.4597  -20.4264  -19.6124                        4348      40284    22.609608   196.23195      667634       NSA+AAT 0.11369844         10.0          4          36 nsa3469_1_MG.mz       AAT       -1         True 186.28920567765533 -3.651861098825328 24.206394      0      nan 0.299774169921875 0.2528019626566475 0.43652153 0.12332766 0.5961685180664062 0.11798973599548075 0.05147361755371094 0.29507047293309324 -79.98002624511719 99.00040616199142 0.64764214 0.2961342      --      --       --          --                --       --           --      --      --      --      --      --      --      --      --      --      --      --      --       --           --        --         --            --               --                     --            --                --           --           --           --           --           --           --           --           --           --           --           --           --             --          --           --              --                 --                       --              --                  --             --             --             --             --             --             --             --             --             --             --             --             --           --            --        --         --          --           --        --        --        --               --         --         --           --          --          --            --       --           --         --          --         --        --       --           --        --         --      --     --       --"
      ]
     },
     "execution_count": 549,
     "metadata": {},
     "output_type": "execute_result"
    }
   ],
   "source": [
    "nsat = notmatch[0]\n",
    "nsat"
   ]
  },
  {
   "cell_type": "code",
   "execution_count": 550,
   "metadata": {},
   "outputs": [
    {
     "name": "stdout",
     "output_type": "stream",
     "text": [
      "min 4.0696631248491855\n"
     ]
    },
    {
     "data": {
      "text/html": [
       "<i>Row index=47169</i>\n",
       "<table id=\"table115985882864\">\n",
       "<thead><tr><th>OBJID</th><th>RA</th><th>DEC</th><th>REMOVE</th><th>is_galaxy</th><th>morphology_info</th><th>radius</th><th>radius_err</th><th>u_mag</th><th>g_mag</th><th>r_mag</th><th>i_mag</th><th>z_mag</th><th>y_mag</th><th>u_err</th><th>g_err</th><th>r_err</th><th>i_err</th><th>z_err</th><th>y_err</th><th>survey</th><th>OBJID_sdss</th><th>RA_sdss</th><th>DEC_sdss</th><th>REMOVE_sdss</th><th>is_galaxy_sdss</th><th>morphology_info_sdss</th><th>radius_sdss</th><th>radius_err_sdss</th><th>u_mag_sdss</th><th>g_mag_sdss</th><th>r_mag_sdss</th><th>i_mag_sdss</th><th>z_mag_sdss</th><th>y_mag_sdss</th><th>u_err_sdss</th><th>g_err_sdss</th><th>r_err_sdss</th><th>i_err_sdss</th><th>z_err_sdss</th><th>y_err_sdss</th><th>OBJID_decals</th><th>RA_decals</th><th>DEC_decals</th><th>REMOVE_decals</th><th>is_galaxy_decals</th><th>morphology_info_decals</th><th>radius_decals</th><th>radius_err_decals</th><th>u_mag_decals</th><th>g_mag_decals</th><th>r_mag_decals</th><th>i_mag_decals</th><th>z_mag_decals</th><th>y_mag_decals</th><th>u_err_decals</th><th>g_err_decals</th><th>r_err_decals</th><th>i_err_decals</th><th>z_err_decals</th><th>y_err_decals</th><th>HOST_NSAID</th><th>HOST_NSA1ID</th><th>HOST_RA</th><th>HOST_DEC</th><th>HOST_DIST</th><th>HOST_VHOST</th><th>HOST_MK</th><th>HOST_MR</th><th>HOST_MG</th><th>HOST_SAGA_NAME</th><th>HOST_NGC</th><th>HOST_PGC</th><th>RHOST_ARCM</th><th>RHOST_KPC</th><th>OBJ_NSAID</th><th>SPEC_REPEAT</th><th>SPEC_Z</th><th>SPEC_Z_ERR</th><th>ZQUALITY</th><th>SPECOBJID</th><th>MASKNAME</th><th>TELNAME</th><th>EM_ABS</th><th>HELIO_CORR</th><th>RA_spec</th><th>DEC_spec</th><th>sb_r</th><th>SATS</th><th>log_sm</th></tr></thead>\n",
       "<thead><tr><th>int64</th><th>float64</th><th>float64</th><th>int64</th><th>bool</th><th>int32</th><th>float32</th><th>float32</th><th>float64</th><th>float32</th><th>float32</th><th>float64</th><th>float32</th><th>float64</th><th>float64</th><th>float32</th><th>float32</th><th>float64</th><th>float32</th><th>float64</th><th>bytes6</th><th>int64</th><th>float64</th><th>float64</th><th>int64</th><th>bool</th><th>int32</th><th>float32</th><th>float32</th><th>float64</th><th>float32</th><th>float32</th><th>float64</th><th>float32</th><th>float64</th><th>float64</th><th>float32</th><th>float32</th><th>float64</th><th>float32</th><th>float64</th><th>int64</th><th>float64</th><th>float64</th><th>int64</th><th>bool</th><th>int32</th><th>float32</th><th>float32</th><th>float64</th><th>float32</th><th>float32</th><th>float64</th><th>float32</th><th>float64</th><th>float64</th><th>float32</th><th>float32</th><th>float64</th><th>float32</th><th>float64</th><th>int32</th><th>int32</th><th>float32</th><th>float32</th><th>float32</th><th>float32</th><th>float32</th><th>float32</th><th>float32</th><th>bytes48</th><th>int32</th><th>int32</th><th>float32</th><th>float32</th><th>int32</th><th>bytes48</th><th>float32</th><th>float32</th><th>int16</th><th>bytes48</th><th>bytes48</th><th>bytes6</th><th>int16</th><th>bool</th><th>float64</th><th>float64</th><th>float32</th><th>int16</th><th>float64</th></tr></thead>\n",
       "<tr><td>3095180000000004064</td><td>186.2892062262206</td><td>-3.6518580967675636</td><td>0</td><td>True</td><td>69</td><td>2.5225127</td><td>9999.0</td><td>99.0</td><td>19.241293</td><td>18.812649</td><td>99.0</td><td>18.501104</td><td>99.0</td><td>99.0</td><td>0.005536317</td><td>0.0049096895</td><td>99.0</td><td>0.008456782</td><td>99.0</td><td>decals</td><td>1237650760245838115</td><td>186.28914357117526</td><td>-3.6518246779813537</td><td>0</td><td>True</td><td>3</td><td>2.2175121</td><td>0.07880783</td><td>20.13367462158203</td><td>19.20518</td><td>18.841427</td><td>18.57540512084961</td><td>18.406008</td><td>99.0</td><td>0.10479016602039337</td><td>0.022609735</td><td>0.02977314</td><td>0.029728418216109276</td><td>0.09791481</td><td>99.0</td><td>3095180000000004064</td><td>186.2892062262206</td><td>-3.6518580967675636</td><td>0</td><td>True</td><td>69</td><td>2.5225127</td><td>9999.0</td><td>99.0</td><td>19.241293</td><td>18.812649</td><td>99.0</td><td>18.501104</td><td>99.0</td><td>99.0</td><td>0.005536317</td><td>0.0049096895</td><td>99.0</td><td>0.008456782</td><td>99.0</td><td>3469</td><td>19609</td><td>185.975</td><td>-3.44293</td><td>29.8369</td><td>2004.28</td><td>-23.4597</td><td>-20.4264</td><td>-19.6124</td><td></td><td>4348</td><td>40284</td><td>22.609608</td><td>196.23195</td><td>-1</td><td></td><td>nan</td><td>nan</td><td>-1</td><td></td><td></td><td></td><td>-1</td><td>False</td><td>nan</td><td>nan</td><td>22.817265</td><td>-1</td><td>nan</td></tr>\n",
       "</table>"
      ],
      "text/plain": [
       "<Row index=47169>\n",
       "       OBJID                RA                DEC         REMOVE is_galaxy morphology_info   radius  radius_err  u_mag    g_mag     r_mag    i_mag    z_mag    y_mag   u_err     g_err       r_err      i_err     z_err     y_err  survey      OBJID_sdss          RA_sdss             DEC_sdss      REMOVE_sdss is_galaxy_sdss morphology_info_sdss radius_sdss radius_err_sdss     u_mag_sdss    g_mag_sdss r_mag_sdss     i_mag_sdss    z_mag_sdss y_mag_sdss      u_err_sdss      g_err_sdss r_err_sdss      i_err_sdss      z_err_sdss y_err_sdss     OBJID_decals        RA_decals          DEC_decals     REMOVE_decals is_galaxy_decals morphology_info_decals radius_decals radius_err_decals u_mag_decals g_mag_decals r_mag_decals i_mag_decals z_mag_decals y_mag_decals u_err_decals g_err_decals r_err_decals i_err_decals z_err_decals y_err_decals HOST_NSAID HOST_NSA1ID HOST_RA HOST_DEC HOST_DIST HOST_VHOST HOST_MK  HOST_MR  HOST_MG  HOST_SAGA_NAME HOST_NGC HOST_PGC RHOST_ARCM RHOST_KPC OBJ_NSAID SPEC_REPEAT  SPEC_Z SPEC_Z_ERR ZQUALITY SPECOBJID MASKNAME TELNAME EM_ABS HELIO_CORR RA_spec DEC_spec    sb_r    SATS  log_sm\n",
       "       int64             float64            float64       int64     bool        int32       float32   float32   float64  float32   float32  float64  float32  float64 float64   float32     float32    float64   float32   float64 bytes6        int64             float64             float64          int64         bool             int32           float32       float32          float64       float32    float32        float64       float32    float64         float64         float32    float32         float64         float32    float64          int64             float64            float64           int64           bool               int32             float32         float32        float64      float32      float32      float64      float32      float64      float64      float32      float32      float64      float32      float64      int32       int32    float32 float32   float32   float32   float32  float32  float32     bytes48      int32    int32    float32    float32    int32     bytes48   float32  float32    int16    bytes48  bytes48   bytes6 int16     bool    float64 float64   float32  int16 float64\n",
       "------------------- ----------------- ------------------- ------ --------- --------------- --------- ---------- ------- --------- --------- ------- --------- ------- ------- ----------- ------------ ------- ----------- ------- ------ ------------------- ------------------ ------------------- ----------- -------------- -------------------- ----------- --------------- ----------------- ---------- ---------- ----------------- ---------- ---------- ------------------- ----------- ---------- -------------------- ---------- ---------- ------------------- ----------------- ------------------- ------------- ---------------- ---------------------- ------------- ----------------- ------------ ------------ ------------ ------------ ------------ ------------ ------------ ------------ ------------ ------------ ------------ ------------ ---------- ----------- ------- -------- --------- ---------- -------- -------- -------- -------------- -------- -------- ---------- --------- --------- ----------- ------- ---------- -------- --------- -------- ------- ------ ---------- ------- -------- --------- ----- -------\n",
       "3095180000000004064 186.2892062262206 -3.6518580967675636      0      True              69 2.5225127     9999.0    99.0 19.241293 18.812649    99.0 18.501104    99.0    99.0 0.005536317 0.0049096895    99.0 0.008456782    99.0 decals 1237650760245838115 186.28914357117526 -3.6518246779813537           0           True                    3   2.2175121      0.07880783 20.13367462158203   19.20518  18.841427 18.57540512084961  18.406008       99.0 0.10479016602039337 0.022609735 0.02977314 0.029728418216109276 0.09791481       99.0 3095180000000004064 186.2892062262206 -3.6518580967675636             0             True                     69     2.5225127            9999.0         99.0    19.241293    18.812649         99.0    18.501104         99.0         99.0  0.005536317 0.0049096895         99.0  0.008456782         99.0       3469       19609 185.975 -3.44293   29.8369    2004.28 -23.4597 -20.4264 -19.6124                    4348    40284  22.609608 196.23195        -1                 nan        nan       -1                                -1      False     nan      nan 22.817265    -1     nan"
      ]
     },
     "execution_count": 550,
     "metadata": {},
     "output_type": "execute_result"
    }
   ],
   "source": [
    "nsatsc = SkyCoord(nsat['RA_1'], nsat['DEC_1'], unit=u.deg)\n",
    "oldsc = SkyCoord(ocat_old['RA'], ocat_old['DEC'], unit=u.deg)\n",
    "\n",
    "seps = nsatsc.separation(oldsc)\n",
    "print('min', np.min(seps.arcsec))\n",
    "ocat_old[np.argmin(seps)]"
   ]
  },
  {
   "cell_type": "code",
   "execution_count": 544,
   "metadata": {},
   "outputs": [
    {
     "data": {
      "text/plain": [
       "False"
      ]
     },
     "execution_count": 544,
     "metadata": {},
     "output_type": "execute_result"
    }
   ],
   "source": [
    "ocat_old['OBJID'][np.argmin(seps)] in ocat['OBJID']"
   ]
  },
  {
   "cell_type": "markdown",
   "metadata": {},
   "source": [
    "Curious.  The added object 667634 has the wrong coordinates...? But it's been removed\n",
    "\n",
    "Now check the zquality's to ensure they are different for the observed objects"
   ]
  },
  {
   "cell_type": "code",
   "execution_count": 537,
   "metadata": {},
   "outputs": [
    {
     "data": {
      "text/html": [
       "<i>Table masked=True length=385</i>\n",
       "<table id=\"table113643472432\" class=\"table-striped table-bordered table-condensed\">\n",
       "<thead><tr><th>OBJID</th><th>ZQUALITY_1</th><th>ZQUALITY_2</th></tr></thead>\n",
       "<thead><tr><th>int64</th><th>int16</th><th>int16</th></tr></thead>\n",
       "<tr><td>667634</td><td>4</td><td>--</td></tr>\n",
       "<tr><td>1237650369410564480</td><td>2</td><td>-1</td></tr>\n",
       "<tr><td>1237650369410564688</td><td>2</td><td>-1</td></tr>\n",
       "<tr><td>1237650369410629877</td><td>4</td><td>-1</td></tr>\n",
       "<tr><td>1237650369410629880</td><td>4</td><td>-1</td></tr>\n",
       "<tr><td>1237650369410629892</td><td>4</td><td>-1</td></tr>\n",
       "<tr><td>1237650369410629906</td><td>4</td><td>-1</td></tr>\n",
       "<tr><td>1237650369410629925</td><td>4</td><td>-1</td></tr>\n",
       "<tr><td>1237650369410630114</td><td>3</td><td>-1</td></tr>\n",
       "<tr><td>1237650369410630115</td><td>1</td><td>-1</td></tr>\n",
       "<tr><td>...</td><td>...</td><td>...</td></tr>\n",
       "<tr><td>3152740000000003869</td><td>-1</td><td>--</td></tr>\n",
       "<tr><td>3152740000000003870</td><td>--</td><td>-1</td></tr>\n",
       "<tr><td>3167110000000000418</td><td>-1</td><td>--</td></tr>\n",
       "<tr><td>3167110000000000419</td><td>--</td><td>-1</td></tr>\n",
       "<tr><td>3167110000000001479</td><td>-1</td><td>--</td></tr>\n",
       "<tr><td>3167110000000001480</td><td>--</td><td>-1</td></tr>\n",
       "<tr><td>3167130000000000314</td><td>-1</td><td>--</td></tr>\n",
       "<tr><td>3167130000000000319</td><td>--</td><td>-1</td></tr>\n",
       "<tr><td>3167130000000000954</td><td>--</td><td>-1</td></tr>\n",
       "<tr><td>3167130000000000955</td><td>-1</td><td>--</td></tr>\n",
       "</table>"
      ],
      "text/plain": [
       "<Table masked=True length=385>\n",
       "       OBJID        ZQUALITY_1 ZQUALITY_2\n",
       "       int64          int16      int16   \n",
       "------------------- ---------- ----------\n",
       "             667634          4         --\n",
       "1237650369410564480          2         -1\n",
       "1237650369410564688          2         -1\n",
       "1237650369410629877          4         -1\n",
       "1237650369410629880          4         -1\n",
       "1237650369410629892          4         -1\n",
       "1237650369410629906          4         -1\n",
       "1237650369410629925          4         -1\n",
       "1237650369410630114          3         -1\n",
       "1237650369410630115          1         -1\n",
       "                ...        ...        ...\n",
       "3152740000000003869         -1         --\n",
       "3152740000000003870         --         -1\n",
       "3167110000000000418         -1         --\n",
       "3167110000000000419         --         -1\n",
       "3167110000000001479         -1         --\n",
       "3167110000000001480         --         -1\n",
       "3167130000000000314         -1         --\n",
       "3167130000000000319         --         -1\n",
       "3167130000000000954         --         -1\n",
       "3167130000000000955         -1         --"
      ]
     },
     "execution_count": 537,
     "metadata": {},
     "output_type": "execute_result"
    }
   ],
   "source": [
    "notmatch = j[j['ZQUALITY_1']!=j['ZQUALITY_2']]\n",
    "notmatch['OBJID', 'ZQUALITY_1', 'ZQUALITY_2']\n"
   ]
  },
  {
   "cell_type": "markdown",
   "metadata": {},
   "source": [
    "## Cumulatizing target tables "
   ]
  },
  {
   "cell_type": "code",
   "execution_count": 305,
   "metadata": {},
   "outputs": [
    {
     "name": "stdout",
     "output_type": "stream",
     "text": [
      "  host_id <=100 <=150 <=180 <=200 <=300 <=400 <=500 <=600 <=700 <=800 <=900\n",
      "--------- ----- ----- ----- ----- ----- ----- ----- ----- ----- ----- -----\n",
      "  pgc2052     3     3    12    23    49   337   387   469   481  1229  2387\n",
      "  pgc3089    10    12    12    45   228   721   771   840   856  1608  3022\n",
      "  nsa3469     0     0     4     5    13   103   153   166   171   711  2753\n",
      "nsa141465     0     1    10    11    26    86   135   141   145   431  2936\n",
      "nsa165082     2     8    12    24   234   847   897   905   914  1852  3775\n",
      "nsa145398     0     1     1    21   321   994  1044  1064  1080  2040  3911\n",
      "nsa145729     0     0    13    13    25    54   103   104   107   483  2525\n",
      "nsa145879     0     0     5     5    30   402   452   487   519  1215  4335\n",
      " pgc64427     9     9     9    45    96   221   271   461   691   849  3791\n",
      " pgc66318     3     4     5     9    20    70   120   173   250   427  2758\n",
      " pgc66934     2     2     4     4     9    39    89   128   251   455  2963\n",
      " pgc67146     1     2     2    66   186   452   502   642   747  1179  3825\n",
      " pgc67663     0     1     1    65   201   636   686   739   822  1337  2965\n",
      " pgc67817     0     0    16    30    84   199   249   312   416   705  2826\n",
      " pgc68128     0     0     0   104   294   872   922  1001  1094  1933  3594\n",
      " pgc69521     0     0     0    99   254   776   826   908  1037  1820  3766\n",
      " pgc70094    35    36    36   125   280   766   816   901   975  1818  3582\n",
      " pgc71548     0     0     0    62   303  1001  1051  1110  1163  2348  3507\n",
      " pgc71729     0     0     0    44   159   518   568   657   756  1348  3471\n",
      "\n"
     ]
    }
   ],
   "source": [
    "s=\"\"\"host_id   100 150 180 200 300 400 500 600 700 800  900 \n",
    "--------- --- --- --- --- --- --- --- --- --- ---- ----\n",
    "  pgc2052   3   0   9  11  26 288  50  82  12  748 1158\n",
    "  pgc3089  10   2   0  33 183 493  50  69  16  752 1414\n",
    "  nsa3469   0   0   4   1   8  90  50  13   5  540 2042\n",
    "nsa141465   0   1   9   1  15  60  49   6   4  286 2505\n",
    "nsa165082   2   6   4  12 210 613  50   8   9  938 1923\n",
    "nsa145398   0   1   0  20 300 673  50  20  16  960 1871\n",
    "nsa145729   0   0  13   0  12  29  49   1   3  376 2042\n",
    "nsa145879   0   0   5   0  25 372  50  35  32  696 3120\n",
    " pgc64427   9   0   0  36  51 125  50 190 230  158 2942\n",
    " pgc66318   3   1   1   4  11  50  50  53  77  177 2331\n",
    " pgc66934   2   0   2   0   5  30  50  39 123  204 2508\n",
    " pgc67146   1   1   0  64 120 266  50 140 105  432 2646\n",
    " pgc67663   0   1   0  64 136 435  50  53  83  515 1628\n",
    " pgc67817   0   0  16  14  54 115  50  63 104  289 2121\n",
    " pgc68128   0   0   0 104 190 578  50  79  93  839 1661\n",
    " pgc69521   0   0   0  99 155 522  50  82 129  783 1946\n",
    " pgc70094  35   1   0  89 155 486  50  85  74  843 1764\n",
    " pgc71548   0   0   0  62 241 698  50  59  53 1185 1159\n",
    " pgc71729   0   0   0  44 115 359  50  89  99  592 2123\"\"\"\n",
    "tab = table.Table.read(s.split('\\n'), format='ascii.fixed_width_two_line', delimiter=' ')\n",
    "\n",
    "pricols = tab.colnames[1:]\n",
    "cumtab = tab.copy()\n",
    "for row in cumtab:\n",
    "    cum = np.cumsum([row[c] for c in pricols])\n",
    "    for c, n in zip(pricols, cum):\n",
    "        row[c] = n\n",
    "for c in pricols:\n",
    "    cumtab[c].name = '<='+c\n",
    "    \n",
    "import io \n",
    "sio = io.StringIO()\n",
    "cumtab.write(sio, format='ascii.fixed_width_two_line')\n",
    "sio.seek(0)\n",
    "print(sio.read())"
   ]
  },
  {
   "cell_type": "markdown",
   "metadata": {},
   "source": [
    "# At-night Templates "
   ]
  },
  {
   "cell_type": "markdown",
   "metadata": {},
   "source": [
    "## nsaxxxx"
   ]
  },
  {
   "cell_type": "code",
   "execution_count": null,
   "metadata": {},
   "outputs": [],
   "source": [
    "idnum = xxxx\n",
    "fieldnum = NN\n",
    "\n",
    "saga_object_catalog.build_and_write_to_database('NSA{}'.format(idnum), overwrite=fieldnum>1)"
   ]
  },
  {
   "cell_type": "code",
   "execution_count": null,
   "metadata": {},
   "outputs": [],
   "source": [
    "host = targethosts[targethosts['NSAID'] == idnum]\n",
    "assert len(host) == 1\n",
    "host = host[0]\n",
    "\n",
    "hostname = host[host_id_label]\n",
    "print(hostname)\n",
    "tcats[hostname] = tcat = saga_targets.build_target_catalogs(hostname, return_as='list').pop()\n",
    "acats[hostname] = acat = saga.targets.prepare_aat_catalog(tcat, sky_fiber_needed=100)\n",
    "\n",
    "guidestars = get_sdss_guidestars(hostname)\n",
    "writecat = table.vstack([acat, guidestars])\n",
    "writecat['Notes'] = [n.title() for n in writecat['Notes']]\n",
    "len(writecat)"
   ]
  },
  {
   "cell_type": "code",
   "execution_count": null,
   "metadata": {},
   "outputs": [],
   "source": [
    "make_decals_viewer_cutouts(guidestars[np.random.permutation(len(guidestars))], \n",
    "                           survey='sdss',ncols=6,namecol='TargetName')"
   ]
  },
  {
   "cell_type": "code",
   "execution_count": null,
   "metadata": {},
   "outputs": [],
   "source": [
    "guides_to_rem = [int(i) for i in 'nnnn nnn nnnn'.split()]\n",
    "writecat.remove_rows((writecat['Notes']=='Guide')&(np.in1d(writecat['TargetName'], guides_to_rem)))\n",
    "np.sum((writecat['Notes']=='Guide'))"
   ]
  },
  {
   "cell_type": "code",
   "execution_count": null,
   "metadata": {},
   "outputs": [],
   "source": [
    "make_decals_viewer_cutouts(acat[acat['Notes']=='sky'], survey='sdss', ncols=6, \n",
    "                           zoom=16, namecol='TargetName')"
   ]
  },
  {
   "cell_type": "code",
   "execution_count": null,
   "metadata": {},
   "outputs": [],
   "source": [
    "skys_to_rem = [int(i) for i in 'n n nn nn'.split()]\n",
    "writecat.remove_rows((writecat['Notes']=='Sky')&(np.in1d(writecat['TargetName'], skys_to_rem)))\n",
    "np.sum((writecat['Notes']=='Sky'))"
   ]
  },
  {
   "cell_type": "code",
   "execution_count": null,
   "metadata": {},
   "outputs": [],
   "source": [
    "subsampledcat = subsample_catalog(writecat, {1:np.inf}, maxflux=5, maxguides=100)\n",
    "\n",
    "fldfn = 'aat_targets_jun2018/{}_{}.fld'.format(hostname, fieldnum)\n",
    "print('Writing', fldfn)\n",
    "write_fld_file(subsampledcat, host, obs_start_date, fldfn)\n",
    "np.sum(subsampledcat['Notes'] == 'Targets')"
   ]
  },
  {
   "cell_type": "code",
   "execution_count": null,
   "metadata": {},
   "outputs": [],
   "source": [
    "!scp $fldfn visitor6@aatlxh:~/junDD/"
   ]
  },
  {
   "cell_type": "markdown",
   "metadata": {},
   "source": [
    "## pgcxxxx"
   ]
  },
  {
   "cell_type": "code",
   "execution_count": null,
   "metadata": {},
   "outputs": [],
   "source": [
    "idnum = xxxx\n",
    "fieldnum = NN\n",
    "\n",
    "saga_object_catalog.build_and_write_to_database('pgc{}'.format(idnum), overwrite=fieldnum>1)"
   ]
  },
  {
   "cell_type": "code",
   "execution_count": null,
   "metadata": {},
   "outputs": [],
   "source": [
    "host = targethosts[targethosts['PGC'] == idnum]\n",
    "assert len(host) == 1\n",
    "host = host[0]\n",
    "\n",
    "hostname = host[host_id_label]\n",
    "print(hostname)\n",
    "tcats[hostname] = tcat = saga_targets.build_target_catalogs(hostname, return_as='list').pop()\n",
    "acats[hostname] = acat = saga.targets.prepare_aat_catalog(tcat, sky_fiber_needed=100)\n",
    "\n",
    "guidestars = get_gaia_guidestars(hostname)\n",
    "writecat = table.vstack([acat, guidestars])\n",
    "writecat['Notes'] = [n.title() for n in writecat['Notes']]\n",
    "len(writecat)"
   ]
  },
  {
   "cell_type": "code",
   "execution_count": null,
   "metadata": {},
   "outputs": [],
   "source": [
    "# only need to remove if something really fishy is going on\n",
    "make_decals_viewer_cutouts(guidestars[np.random.permutation(len(guidestars))[:24]], \n",
    "                           survey='unwise-w1w2',ncols=6,namecol='TargetName')"
   ]
  },
  {
   "cell_type": "code",
   "execution_count": null,
   "metadata": {},
   "outputs": [],
   "source": [
    "make_des_cutouts_file(acat[acat['Notes']=='sky'])"
   ]
  },
  {
   "cell_type": "code",
   "execution_count": null,
   "metadata": {},
   "outputs": [],
   "source": [
    "show_des_cutouts(acat[acat['Notes']=='sky'], 'JOBNAME', ncols=8, namecol='TargetName')"
   ]
  },
  {
   "cell_type": "code",
   "execution_count": null,
   "metadata": {},
   "outputs": [],
   "source": [
    "skys_to_rem = [int(i) for i in 'n n nn nn'.split()]\n",
    "writecat.remove_rows((writecat['Notes']=='Sky')&(np.in1d(writecat['TargetName'], skys_to_rem)))\n",
    "np.sum((writecat['Notes']=='Sky'))"
   ]
  },
  {
   "cell_type": "code",
   "execution_count": null,
   "metadata": {},
   "outputs": [],
   "source": [
    "subsampledcat = subsample_catalog(writecat, {1:np.inf}, maxflux=5, maxguides=100)\n",
    "\n",
    "fldfn = 'aat_targets_jun2018/{}_{}.fld'.format(hostname, fieldnum)\n",
    "print('Writing', fldfn)\n",
    "write_fld_file(subsampledcat, host, obs_start_date, fldfn)\n",
    "np.sum(subsampledcat['Notes'] == 'Targets')"
   ]
  },
  {
   "cell_type": "code",
   "execution_count": null,
   "metadata": {},
   "outputs": [],
   "source": [
    "!scp $fldfn visitor6@aatlxh:~/junDD/"
   ]
  }
 ],
 "metadata": {
  "kernelspec": {
   "display_name": "Python (saga3)",
   "language": "python",
   "name": "saga3"
  },
  "language_info": {
   "codemirror_mode": {
    "name": "ipython",
    "version": 3
   },
   "file_extension": ".py",
   "mimetype": "text/x-python",
   "name": "python",
   "nbconvert_exporter": "python",
   "pygments_lexer": "ipython3",
   "version": "3.6.1"
  }
 },
 "nbformat": 4,
 "nbformat_minor": 2
}
