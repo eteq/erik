{
 "cells": [
  {
   "cell_type": "markdown",
   "metadata": {},
   "source": [
    "Note - the cells with cutouts are mostly cleared to make this load in a reasonable time.  But they are saved in git if you want to recover them."
   ]
  },
  {
   "cell_type": "code",
   "execution_count": 1,
   "metadata": {},
   "outputs": [],
   "source": [
    "import os\n",
    "import sys\n",
    "import urllib\n",
    "from collections import defaultdict\n",
    "\n",
    "import requests\n",
    "\n",
    "import numpy as np\n",
    "\n",
    "from astropy import units as u\n",
    "from astropy import table\n",
    "from astropy.coordinates import SkyCoord, EarthLocation, get_sun\n",
    "from astropy.time import Time\n",
    "from astropy.io import fits\n",
    "\n",
    "import astroquery\n",
    "\n",
    "from importlib import reload\n",
    "\n",
    "%matplotlib inline\n",
    "from matplotlib import style, pyplot as plt"
   ]
  },
  {
   "cell_type": "markdown",
   "metadata": {},
   "source": [
    "# Initial setup "
   ]
  },
  {
   "cell_type": "code",
   "execution_count": 2,
   "metadata": {},
   "outputs": [
    {
     "name": "stdout",
     "output_type": "stream",
     "text": [
      "/Users/erik/projects/saga/saga\n",
      "running build\n",
      "running build_py\n",
      "/Users/erik/projects/saga/erik\n"
     ]
    }
   ],
   "source": [
    "working_dir = os.path.abspath('..')\n",
    "\n",
    "%cd ../../saga\n",
    "sagadir = !pwd\n",
    "sagadir = sagadir[0]\n",
    "!python setup.py build\n",
    "%cd $working_dir"
   ]
  },
  {
   "cell_type": "code",
   "execution_count": 3,
   "metadata": {},
   "outputs": [
    {
     "name": "stdout",
     "output_type": "stream",
     "text": [
      "Adding /Users/erik/projects/saga/saga/build/lib to the python path\n"
     ]
    },
    {
     "data": {
      "text/plain": [
       "'0.6.22'"
      ]
     },
     "execution_count": 3,
     "metadata": {},
     "output_type": "execute_result"
    }
   ],
   "source": [
    "sagalibdir = os.path.join(sagadir, 'build/lib')\n",
    "print('Adding', sagalibdir, 'to the python path')\n",
    "sys.path.insert(0, sagalibdir)\n",
    "\n",
    "import SAGA as saga\n",
    "from SAGA.database import external \n",
    "saga.__version__"
   ]
  },
  {
   "cell_type": "code",
   "execution_count": 4,
   "metadata": {},
   "outputs": [
    {
     "name": "stdout",
     "output_type": "stream",
     "text": [
      "Downloading https://docs.google.com/spreadsheets/d/1b3k2eyFjHFDtmHce1xi6JKuj3ATOWYduTBFftx5oPp8/export?format=csv&gid=1471095077 [Done]\n"
     ]
    }
   ],
   "source": [
    "saga_database = saga.Database(os.path.join(os.environ['HOME'],'Dropbox/SAGA/'))\n",
    "\n",
    "saga_host_catalog = saga.HostCatalog(saga_database)\n",
    "saga_object_catalog = saga.ObjectCatalog(saga_database)"
   ]
  },
  {
   "cell_type": "code",
   "execution_count": 5,
   "metadata": {},
   "outputs": [],
   "source": [
    "hosts_to_load = 'aat_2018'\n",
    "host_id_label = 'ID_STR'\n",
    "targethosts = saga_host_catalog.load(hosts_to_load)\n",
    "targethosts[host_id_label] = saga_host_catalog.resolve_id(hosts_to_load, 'string')"
   ]
  },
  {
   "cell_type": "code",
   "execution_count": 6,
   "metadata": {},
   "outputs": [],
   "source": [
    "obs_start_date = Time('2018-6-10')"
   ]
  },
  {
   "cell_type": "markdown",
   "metadata": {},
   "source": [
    "# Downloading of catalogs"
   ]
  },
  {
   "cell_type": "code",
   "execution_count": 7,
   "metadata": {},
   "outputs": [
    {
     "name": "stdout",
     "output_type": "stream",
     "text": [
      "[06/13 17:22:55] Getting catalog for host nsa141465 ...\n",
      "[06/13 17:22:55] Getting catalog for host nsa165082 ...\n",
      "[06/13 17:22:55] Getting catalog for host nsa145398 ...\n",
      "[06/13 17:22:55] Getting catalog for host nsa145729 ...\n",
      "[06/13 17:22:55] Getting catalog for host nsa145879 ...\n",
      "# failed = 0\n"
     ]
    }
   ],
   "source": [
    "sdsshosts = saga_host_catalog.load('flag0')\n",
    "sdsshosts[host_id_label] = saga_host_catalog.resolve_id('flag0', 'string')\n",
    "hosts_todl = targethosts[np.in1d(targethosts[host_id_label], sdsshosts[host_id_label])]\n",
    "\n",
    "\n",
    "failed = external.download_catalogs_for_hosts(hosts_todl, external.SdssQuery, \n",
    "                                              saga_database.sdss_file_path_pattern, \n",
    "                                              overwrite=False, \n",
    "                                              host_id_label=host_id_label)\n",
    "print('# failed =', np.count_nonzero(failed))"
   ]
  },
  {
   "cell_type": "code",
   "execution_count": 8,
   "metadata": {},
   "outputs": [
    {
     "name": "stdout",
     "output_type": "stream",
     "text": [
      "[06/13 17:22:56] Getting catalog for host pgc2052 ...\n",
      "[06/13 17:22:56] Getting catalog for host pgc3089 ...\n",
      "[06/13 17:22:56] Getting catalog for host pgc64427 ...\n",
      "[06/13 17:22:56] Getting catalog for host pgc66318 ...\n",
      "[06/13 17:22:56] Getting catalog for host pgc66934 ...\n",
      "[06/13 17:22:56] Getting catalog for host pgc67146 ...\n",
      "[06/13 17:22:56] Getting catalog for host pgc67663 ...\n",
      "[06/13 17:22:56] Getting catalog for host pgc67817 ...\n",
      "[06/13 17:22:56] Getting catalog for host pgc68128 ...\n",
      "[06/13 17:22:56] Getting catalog for host pgc69521 ...\n",
      "[06/13 17:22:56] Getting catalog for host pgc70094 ...\n",
      "[06/13 17:22:56] Getting catalog for host pgc71548 ...\n",
      "[06/13 17:22:56] Getting catalog for host pgc71729 ...\n",
      "# failed = 0\n"
     ]
    }
   ],
   "source": [
    "deshosts = saga_host_catalog.load('has_des')\n",
    "deshosts[host_id_label] = saga_host_catalog.resolve_id('has_des', 'string')\n",
    "hosts_todl = targethosts[np.in1d(targethosts[host_id_label], deshosts[host_id_label])]\n",
    "\n",
    "failed = external.download_catalogs_for_hosts(hosts_todl, external.DesQuery, \n",
    "                                              saga_database.des_file_path_pattern, \n",
    "                                              overwrite=False, \n",
    "                                              host_id_label=host_id_label)\n",
    "print('# failed =', np.count_nonzero(failed))"
   ]
  },
  {
   "cell_type": "code",
   "execution_count": 9,
   "metadata": {},
   "outputs": [
    {
     "name": "stdout",
     "output_type": "stream",
     "text": [
      "[06/13 17:22:56] Getting catalog for host nsa3469 ...\n",
      "[06/13 17:22:56] Getting catalog for host nsa141465 ...\n",
      "[06/13 17:22:56] Getting catalog for host nsa165082 ...\n",
      "[06/13 17:22:56] Getting catalog for host nsa145398 ...\n",
      "[06/13 17:22:56] Getting catalog for host nsa145729 ...\n",
      "[06/13 17:22:56] Getting catalog for host nsa145879 ...\n",
      "# failed = 0\n"
     ]
    }
   ],
   "source": [
    "decalshosts = saga_host_catalog.load('has_decals')\n",
    "decalshosts[host_id_label] = saga_host_catalog.resolve_id('has_decals', 'string')\n",
    "hosts_todl = targethosts[np.in1d(targethosts[host_id_label], decalshosts[host_id_label])]\n",
    "\n",
    "failed = external.download_catalogs_for_hosts(hosts_todl, external.DecalsPrebuilt, \n",
    "                                              saga_database.decals_file_path_pattern, \n",
    "                                              overwrite=False, \n",
    "                                              host_id_label=host_id_label)\n",
    "print('# failed =', np.count_nonzero(failed))"
   ]
  },
  {
   "cell_type": "markdown",
   "metadata": {},
   "source": [
    "## Base catalogs if needed"
   ]
  },
  {
   "cell_type": "code",
   "execution_count": 394,
   "metadata": {},
   "outputs": [
    {
     "name": "stdout",
     "output_type": "stream",
     "text": [
      "[06/11 21:29:53] Base catalog v2 for pgc2052 already exists. (1/19)\n",
      "[06/11 21:29:53] Base catalog v2 for pgc3089 already exists. (2/19)\n",
      "[06/11 21:29:53] Base catalog v2 for nsa3469 already exists. (3/19)\n",
      "[06/11 21:29:53] Base catalog v2 for nsa141465 already exists. (4/19)\n",
      "[06/11 21:29:53] Base catalog v2 for nsa165082 already exists. (5/19)\n",
      "[06/11 21:29:53] Base catalog v2 for nsa145398 already exists. (6/19)\n",
      "[06/11 21:29:53] Base catalog v2 for nsa145729 already exists. (7/19)\n",
      "[06/11 21:29:53] Base catalog v2 for nsa145879 already exists. (8/19)\n",
      "[06/11 21:29:53] Base catalog v2 for pgc64427 already exists. (9/19)\n",
      "[06/11 21:29:53] Base catalog v2 for pgc66318 already exists. (10/19)\n",
      "[06/11 21:29:53] Base catalog v2 for pgc66934 already exists. (11/19)\n",
      "[06/11 21:29:53] Base catalog v2 for pgc67146 already exists. (12/19)\n",
      "[06/11 21:29:53] Base catalog v2 for pgc67663 already exists. (13/19)\n",
      "[06/11 21:29:53] Base catalog v2 for pgc67817 already exists. (14/19)\n",
      "[06/11 21:29:53] Base catalog v2 for pgc68128 already exists. (15/19)\n",
      "[06/11 21:29:53] Base catalog v2 for pgc69521 already exists. (16/19)\n",
      "[06/11 21:29:53] Base catalog v2 for pgc70094 already exists. (17/19)\n",
      "[06/11 21:29:53] Base catalog v2 for pgc71548 already exists. (18/19)\n",
      "[06/11 21:29:53] Base catalog v2 for pgc71729 already exists. (19/19)\n"
     ]
    }
   ],
   "source": [
    "saga_object_catalog.build_and_write_to_database('aat_2018', overwrite=False)"
   ]
  },
  {
   "cell_type": "markdown",
   "metadata": {},
   "source": [
    "# Generate AAT-appropriate target catalogs "
   ]
  },
  {
   "cell_type": "code",
   "execution_count": 10,
   "metadata": {},
   "outputs": [
    {
     "name": "stdout",
     "output_type": "stream",
     "text": [
      "Downloading https://docs.google.com/spreadsheets/d/1Z8HISgp6ScJ0YZiFK5_TrGDZXY9t2OL3hkCSFJUiC6w/export?format=csv&gid=0 [Done]\n"
     ]
    }
   ],
   "source": [
    "saga_database['manual_targets_aat2018a'].local.path = 'aat_targets_jun2018/manual_targets.csv'\n",
    "\n",
    "saga_targets = saga.TargetSelection(saga_database, \n",
    "                                    manual_selected_objids='manual_targets_aat2018a',\n",
    "                                    gmm_parameters={'sdss':'gmm_parameters_no_outlier', \n",
    "                                                    'des': 'gmm_parameters_no_outlier_no_u'}, \n",
    "                                    version=2)\n",
    "\n",
    "acats = {}\n",
    "tcats = {}"
   ]
  },
  {
   "cell_type": "code",
   "execution_count": 11,
   "metadata": {},
   "outputs": [],
   "source": [
    "def get_gaia_guidestars(hostname, magrng=(12.5, 13.5),\n",
    "                        matchmagrng=(16, 17), d_matchmag=1, matchtol0=1*u.arcsec,\n",
    "                        verbose=True, neighbor_cut=30*u.arcsec, nmagdown=4.5):\n",
    "    \"\"\"\n",
    "    `magrng` is the range of magnitudes to actually select on.  It's ~r-band, based on the\n",
    "    Evans et al. 2018 r-to-G conversion\n",
    "    \"\"\"\n",
    "    print = __builtin__.print\n",
    "    if not verbose:\n",
    "        print = lambda *args, **kwargs:None\n",
    "        \n",
    "    host = saga_host_catalog.load_single(hostname)\n",
    "    obj_cat = saga_object_catalog.load(hostname)[0]\n",
    "    omag = obj_cat['r_mag']\n",
    "    gaia_cat = table.Table.read('external_catalogs/astrometric/{}_gaia.ecsv'.format(hostname))\n",
    "    gaia_sc = SkyCoord(gaia_cat['ra'], gaia_cat['dec'])\n",
    "    gmag = gaia_cat['phot_g_mean_mag']\n",
    "    \n",
    "    omsk = (matchmagrng[0]<omag)&(omag<matchmagrng[1])\n",
    "    gmsk = ((matchmagrng[0]-d_matchmag)<gmag)&(gmag<(matchmagrng[1]+d_matchmag))\n",
    "    oscmsk = obj_cat['coord'][omsk]\n",
    "    gscmsk = gaia_sc[gmsk]\n",
    "    \n",
    "    idx, d2d, _ = oscmsk.match_to_catalog_sky(gscmsk)\n",
    "    sepmsk = d2d < matchtol0\n",
    "    \n",
    "    dra = (oscmsk[sepmsk].ra - gscmsk[idx][sepmsk].ra).to(u.arcsec)\n",
    "    ddec = (oscmsk[sepmsk].dec - gscmsk[idx][sepmsk].dec).to(u.arcsec)\n",
    "    offset = np.mean(dra), np.mean(ddec)\n",
    "    \n",
    "    print(\"Object catalog to Gaia offset:\", offset, 'from', np.sum(sepmsk), \n",
    "          'objects ({:.1%})'.format(np.sum(sepmsk)/len(sepmsk)))\n",
    "    \n",
    "    #this polynomial is from Evans et al. 2018 for the G to r conversion\n",
    "    Gmr_coeffs = (-0.1856, 0.1579, 0.02738, -0.0550)\n",
    "    Gmr = np.polyval(Gmr_coeffs[::-1], gaia_cat['bp_rp'])\n",
    "    gaia_cat['g_as_r_mag'] = gmag - Gmr\n",
    "    \n",
    "    gmsk = (magrng[0] < gaia_cat['g_as_r_mag'])&(gaia_cat['g_as_r_mag'] < magrng[1])\n",
    "    gstars = gaia_cat[gmsk]\n",
    "    print('Found', len(gstars), 'Gaia guide stars')\n",
    "    \n",
    "    if neighbor_cut is not None:\n",
    "        possible_neighbor_stars = gaia_cat[gaia_cat['g_as_r_mag'] < magrng[1]+nmagdown]\n",
    "        nsc = SkyCoord(possible_neighbor_stars['ra'], possible_neighbor_stars['dec'])\n",
    "        gsc = SkyCoord(gstars['ra'], gstars['dec'])\n",
    "        idx, d2d, _ = gsc.match_to_catalog_sky(nsc, 2)\n",
    "        neighbor_present = d2d < neighbor_cut\n",
    "        print(np.sum(neighbor_present), 'Have a brightish neighbor.  Removing them.')\n",
    "        gstars = gstars[~neighbor_present]\n",
    "\n",
    "    tab = table.Table({\n",
    "        'TargetName': gstars['source_id'],\n",
    "        'RA': (u.Quantity(gstars['ra']) + offset[0]),\n",
    "        'Dec': (u.Quantity(gstars['dec']) + offset[1]),\n",
    "        'TargetType': np.repeat('F', len(gstars)),\n",
    "        'Priority': np.repeat(9, len(gstars)),\n",
    "        'Magnitude':gstars['g_as_r_mag'],\n",
    "        '0': np.repeat(0, len(gstars)),\n",
    "        'Notes': np.repeat('guide_gaia', len(gstars)),\n",
    "    })\n",
    "    tab.meta['dra'] = dra\n",
    "    tab.meta['ddec'] = ddec\n",
    "    tab.meta['offset'] = offset\n",
    "    tab.meta['gstarcat'] = gstars\n",
    "    return tab"
   ]
  },
  {
   "cell_type": "code",
   "execution_count": 12,
   "metadata": {},
   "outputs": [],
   "source": [
    "def get_sdss_guidestars(hostname):\n",
    "    host = saga_host_catalog.load_single(hostname)\n",
    "    obj_cat = saga_object_catalog.load(hostname)[0]\n",
    "    r = obj_cat['r_mag']\n",
    "    msk = (12.5<r)&(r<14)&~obj_cat['is_galaxy']&(obj_cat['RHOST_ARCM']>15)\n",
    "    starcat = obj_cat[msk]\n",
    "    \n",
    "    print('Found', len(starcat), 'SDSS guide stars')\n",
    "    \n",
    "    return table.Table({\n",
    "        'TargetName': starcat['OBJID'],\n",
    "        'RA': starcat['RA'],\n",
    "        'Dec': starcat['DEC'],\n",
    "        'TargetType': np.repeat('F', len(starcat)),\n",
    "        'Priority': np.repeat(9, len(starcat)),\n",
    "        'Magnitude': starcat['r_mag'],\n",
    "        '0': np.repeat(0, len(starcat)),\n",
    "        'Notes': np.repeat('guide', len(starcat)),\n",
    "    })"
   ]
  },
  {
   "cell_type": "code",
   "execution_count": 54,
   "metadata": {},
   "outputs": [],
   "source": [
    "from astropy.coordinates import Angle\n",
    "\n",
    "def write_fld_file(target_catalog, host, obstime, fn, suffix=' master catalog'):\n",
    "    hostname = host[host_id_label]\n",
    "    target_catalog.write(fn,\n",
    "                         delimiter=' ',\n",
    "                         quotechar='\"',\n",
    "                         format='ascii.fast_commented_header',\n",
    "                         overwrite=True,\n",
    "                         formats={\n",
    "                            'RA': lambda x: Angle(x, 'deg').wrap_at(360*u.deg).to_string('hr', sep=' ', precision=2), # pylint: disable=E1101\n",
    "                            'Dec': lambda x: Angle(x, 'deg').to_string('deg', sep=' ', precision=2),\n",
    "                            'Magnitude': '%.2f',\n",
    "                         })\n",
    "    with open(fn) as fh:\n",
    "        content = fh.read()\n",
    "    with open(fn, 'w') as fh:\n",
    "        fh.write('LABEL ' + hostname + suffix + '\\n')\n",
    "        fh.write('UTDATE  {yr} {mo:02} {day:02}\\n'.format(yr=obstime.datetime.year,\n",
    "                                                        mo=obstime.datetime.month,\n",
    "                                                        day=obstime.datetime.day))\n",
    "        censtr = host['coord'].to_string('hmsdms', sep=' ', precision=2, alwayssign=True)\n",
    "        fh.write('CENTRE  ' + censtr + '\\n')\n",
    "        fh.write('EQUINOX J2000.0\\n')\n",
    "        fh.write('# End of Header\\n\\n')\n",
    "        fh.write(content.replace('\"', ''))\n",
    "        \n",
    "\n",
    "def subsample_catalog(catalog, prilimits=None, maxflux=np.inf, maxguides=np.inf, maxsky=np.inf, verbose=True):\n",
    "    \"\"\"\n",
    "    Subsamples the catalog, limiting the number in a given priority set\n",
    "    \n",
    "    ``prilimits`` should be a dictionary mapping priority number to the maximum number of\n",
    "    objects in that priority.  If it is None, no limits will be used.\n",
    "    \"\"\"\n",
    "    \n",
    "    \n",
    "    msks = [catalog['Notes']==notestr for notestr in ('Flux', 'Sky')]\n",
    "    msks.append(np.array([n.lower().startswith('guide') for n in catalog['Notes']]))\n",
    "    maxns = [maxflux, maxsky, maxguides]\n",
    "    \n",
    "    \n",
    "    \n",
    "    if prilimits is not None:\n",
    "        for pri, maxn in prilimits.items():\n",
    "            msks.append(catalog['Priority']==pri)\n",
    "            maxns.append(maxn)\n",
    "            \n",
    "    idxs_to_rem = []\n",
    "    for msk, maxn in zip(msks, maxns):\n",
    "        ntorem = np.sum(msk) - maxn\n",
    "        if ntorem >= 1:\n",
    "            idxs = np.where(msk)[0]\n",
    "            idxs_to_rem.append(np.random.permutation(idxs)[:ntorem])\n",
    "    subcat = catalog.copy()\n",
    "    if idxs_to_rem:\n",
    "        del subcat[np.concatenate(idxs_to_rem)]\n",
    "    \n",
    "    if verbose:\n",
    "        npris = dict(enumerate(np.bincount(subcat['Priority'][subcat['Notes']=='Targets'])))\n",
    "        npris = {k:v for k,v in npris.items() if v>0}\n",
    "        print('Nflux:', np.sum(subcat['Notes']=='Flux'), \n",
    "              'Nguide:', np.sum([n.lower().startswith('guide') for n in subcat['Notes']]), \n",
    "              'NSky', np.sum(subcat['Notes']=='Sky'))\n",
    "        print('Targets in each priority:', npris)\n",
    "        print('Total:', len(subcat))\n",
    "        \n",
    "    return subcat"
   ]
  },
  {
   "cell_type": "code",
   "execution_count": 14,
   "metadata": {},
   "outputs": [],
   "source": [
    "def infer_radec_cols(table):\n",
    "    raname = decname = None\n",
    "    for cnm in table.colnames:\n",
    "        if cnm.lower()=='ra':\n",
    "            raname = cnm\n",
    "        elif cnm.lower()=='dec':\n",
    "            decname = cnm\n",
    "    return raname, decname"
   ]
  },
  {
   "cell_type": "code",
   "execution_count": 15,
   "metadata": {},
   "outputs": [],
   "source": [
    "def make_decals_viewer_cutouts(table, survey='sdss', ncols=3, zoom=15, size=120, namecol=None, dhtml=True):\n",
    "    \"\"\"\n",
    "    Zoom of 15 is ~1\"/pixel, so ~2' across with defaults\n",
    "    \"\"\"\n",
    "    template_url = 'http://legacysurvey.org/viewer/jpeg-cutout/?ra={ra:.7}&dec={dec:.7}&zoom={zoom}&layer={layer}&size={size}'\n",
    "    \n",
    "    raname, decname = infer_radec_cols(table)\n",
    "    \n",
    "    entries = []\n",
    "    for row in table:\n",
    "        imgurl = template_url.format(ra=row[raname], dec=row[decname], layer=survey, size=size, zoom=zoom)\n",
    "        viewurl = 'http://legacysurvey.org/viewer?ra={}&dec={}'.format(row[raname], row[decname])\n",
    "        \n",
    "        namestr = '' if namecol is None else (str(row[namecol]) + '<br>')\n",
    "        entries.append('{}<a href=\"{}\"><img src=\"{}\"></a>'.format(namestr, viewurl, imgurl))\n",
    "        \n",
    "    entryrows = [[]]\n",
    "    while entries:\n",
    "        entry = entries.pop(0)\n",
    "        if len(entryrows[-1]) >= ncols:\n",
    "            entryrows.append([])\n",
    "        entryrows[-1].append(entry)\n",
    "    entryrows[-1].extend(['']*(ncols-len(entryrows[-1])))\n",
    "    \n",
    "    tabrows = ['<td>{}</td>'.format('</td><td>'.join(erow)) for erow in entryrows]\n",
    "\n",
    "    htmlstr = \"\"\"\n",
    "    <table>\n",
    "    <tr>{}</tr>\n",
    "    </table>\n",
    "    \"\"\".format('</tr>\\n<tr>'.join(tabrows))\n",
    "\n",
    "    if dhtml:\n",
    "        from IPython import display\n",
    "        return display.HTML(htmlstr)\n",
    "    else:\n",
    "        return htmlstr"
   ]
  },
  {
   "cell_type": "code",
   "execution_count": 16,
   "metadata": {},
   "outputs": [],
   "source": [
    "def make_des_cutouts_file(table, copytoclipboard=True, showtable=False):\n",
    "    raname, decname = infer_radec_cols(table)\n",
    "    \n",
    "    entries = []\n",
    "    for row in table:\n",
    "        entries.append('{:.5f},{:.5f}'.format(row[raname], row[decname]))\n",
    "        \n",
    "    htmlstr = \"\"\"\n",
    "    Paste the coords in \"Enter values\" at  \n",
    "    <a href=\"https://des.ncsa.illinois.edu/easyweb/cutouts\">the DES cutout service</a>,\n",
    "    and change the size to 0.3 arcmin\n",
    "    \"\"\"\n",
    "    tablestr = \"\"\"<br>\n",
    "    <table>\n",
    "    <tr><td>{}</td></tr>\n",
    "    </table>\n",
    "    \"\"\".format('</td></tr>\\n<tr><td>'.join(entries))\n",
    "    if showtable:\n",
    "        htmlstr += tablestr\n",
    "    \n",
    "    if copytoclipboard:\n",
    "        import platform\n",
    "        text = '\\n'.join(entries)\n",
    "        if platform.system() == 'Darwin':\n",
    "            clipproc = os.popen('pbcopy', 'w')\n",
    "            clipproc.write(text)\n",
    "            clipproc.close()\n",
    "            print('Copied to clipboard')\n",
    "        elif platform.system() == 'Linux':\n",
    "            clipproc = os.popen('xsel -i', 'w')\n",
    "            clipproc.write(text)\n",
    "            clipproc.close()\n",
    "            print('Copied to clipboard')\n",
    "        else:\n",
    "            raise OSError(\"Not on a mac or linux, so can't use clipboard. \")\n",
    "        \n",
    "    from IPython import display\n",
    "    return display.HTML(htmlstr)\n",
    "    \n",
    "def show_des_cutouts(table, jobname, username='eteq', ncols=3, namecol=None, force_size=(128, 128), dhtml=True):\n",
    "    base_url = 'https://des.ncsa.illinois.edu'\n",
    "    \n",
    "    list_url = base_url + '/easyweb/static/workdir/{}/{}/list.json'.format(username, jobname)\n",
    "    print(list_url)\n",
    "    list_json = requests.get(list_url).json()\n",
    "    img_urls = [base_url+img['name'] for img in list_json]\n",
    "    \n",
    "    if len(table) != len(img_urls):\n",
    "        raise ValueError('table and job length do not match!')\n",
    "    raname, decname = infer_radec_cols(table)\n",
    "    \n",
    "    sizestr = '' if force_size is None else ('height=\"{}\" width=\"{}\"'.format(force_size[1], force_size[0]))\n",
    "    entries = []\n",
    "    for row, imgurl in zip(table, img_urls):\n",
    "        viewurl = 'http://legacysurvey.org/viewer?ra={}&dec={}'.format(row[raname], row[decname])\n",
    "        \n",
    "        namestr = '' if namecol is None else (str(row[namecol]) + '<br>')\n",
    "        entries.append('{}<a href=\"{}\"><img src=\"{}\"{}></a>'.format(namestr, viewurl, imgurl, sizestr))\n",
    "        \n",
    "    entryrows = [[]]\n",
    "    while entries:\n",
    "        entry = entries.pop(0)\n",
    "        if len(entryrows[-1]) >= ncols:\n",
    "            entryrows.append([])\n",
    "        entryrows[-1].append(entry)\n",
    "    entryrows[-1].extend(['']*(ncols-len(entryrows[-1])))\n",
    "    \n",
    "    tabrows = ['<td>{}</td>'.format('</td><td>'.join(erow)) for erow in entryrows]\n",
    "\n",
    "    htmlstr = \"\"\"\n",
    "    <table>\n",
    "    <tr>{}</tr>\n",
    "    </table>\n",
    "    \"\"\".format('</tr>\\n<tr>'.join(tabrows))\n",
    "\n",
    "    if dhtml:\n",
    "        from IPython import display\n",
    "        return display.HTML(htmlstr)\n",
    "    else:\n",
    "        return htmlstr\n"
   ]
  },
  {
   "cell_type": "markdown",
   "metadata": {},
   "source": [
    "# Night 1"
   ]
  },
  {
   "cell_type": "code",
   "execution_count": 26,
   "metadata": {},
   "outputs": [],
   "source": [
    "import aat"
   ]
  },
  {
   "cell_type": "code",
   "execution_count": 190,
   "metadata": {},
   "outputs": [
    {
     "data": {
      "text/html": [
       "<i>Table masked=True length=1</i>\n",
       "<table id=\"table113587416872\" class=\"table-striped table-bordered table-condensed\">\n",
       "<thead><tr><th>SAGA_name</th><th>NSAID</th><th>RA</th><th>Dec</th><th>PGC</th><th>NSA1ID</th><th>NGC</th><th>UGC</th><th>vhelio</th><th>distance</th><th>r</th><th>i</th><th>z</th><th>I</th><th>K</th><th>K_err</th><th>flag</th><th>K_abs</th><th>r_abs</th><th>b</th><th>dist_to_group</th><th>brightest_K_nearby</th><th>SDSS_FRACGOOD</th><th>RA_sub</th><th>Dec_sub</th><th>othername</th><th>vhelio_sub</th><th>vhelio_err</th><th>distance_sub</th><th>dist_2MASS_NSA</th><th>u</th><th>u_err</th><th>A_u</th><th>M_u</th><th>g</th><th>g_err</th><th>A_g</th><th>M_g</th><th>r_sub</th><th>r_err</th><th>A_r</th><th>M_r</th><th>i_sub</th><th>i_err</th><th>A_i</th><th>M_i</th><th>z_sub</th><th>z_err</th><th>A_z</th><th>M_z</th><th>J</th><th>J_err</th><th>A_J</th><th>M_J</th><th>H</th><th>H_err</th><th>A_H</th><th>M_H</th><th>K_sub</th><th>K_err_sub</th><th>A_K</th><th>M_K</th><th>stellar_mass</th><th>sersic_n</th><th>MK_compiled</th><th>des_dr1</th><th>decals_dr5</th><th>decals_dr6</th><th>coord</th><th>ID_STR</th></tr></thead>\n",
       "<thead><tr><th></th><th></th><th></th><th></th><th></th><th></th><th></th><th></th><th></th><th></th><th></th><th></th><th></th><th></th><th></th><th></th><th></th><th></th><th></th><th></th><th></th><th></th><th></th><th></th><th></th><th></th><th></th><th></th><th></th><th></th><th></th><th></th><th></th><th></th><th></th><th></th><th></th><th></th><th></th><th></th><th></th><th></th><th></th><th></th><th></th><th></th><th></th><th></th><th></th><th></th><th></th><th></th><th></th><th></th><th></th><th></th><th></th><th></th><th></th><th></th><th></th><th></th><th></th><th></th><th></th><th></th><th></th><th></th><th>deg,deg</th><th></th></tr></thead>\n",
       "<thead><tr><th>str11</th><th>int64</th><th>float64</th><th>float64</th><th>int64</th><th>int64</th><th>int64</th><th>int64</th><th>float64</th><th>float64</th><th>float64</th><th>float64</th><th>float64</th><th>float64</th><th>float64</th><th>float64</th><th>int64</th><th>float64</th><th>float64</th><th>float64</th><th>float64</th><th>float64</th><th>float64</th><th>float64</th><th>float64</th><th>str16</th><th>float64</th><th>int64</th><th>float64</th><th>float64</th><th>float64</th><th>float64</th><th>float64</th><th>float64</th><th>float64</th><th>float64</th><th>float64</th><th>float64</th><th>float64</th><th>float64</th><th>float64</th><th>float64</th><th>float64</th><th>float64</th><th>float64</th><th>float64</th><th>float64</th><th>float64</th><th>float64</th><th>float64</th><th>float64</th><th>float64</th><th>float64</th><th>float64</th><th>float64</th><th>float64</th><th>float64</th><th>float64</th><th>float64</th><th>float64</th><th>float64</th><th>float64</th><th>int64</th><th>float64</th><th>float64</th><th>float64</th><th>float64</th><th>float64</th><th>object</th><th>str9</th></tr></thead>\n",
       "<tr><td>--</td><td>3469</td><td>185.975</td><td>-3.44293</td><td>40284</td><td>19609</td><td>4348</td><td>-1</td><td>2004.28</td><td>29.8369</td><td>12.7268</td><td>12.3164</td><td>11.9917</td><td>11.64</td><td>8.899</td><td>0.023</td><td>16416</td><td>-23.4748</td><td>-19.647</td><td>58.7146</td><td>3.91973</td><td>--</td><td>0.814071</td><td>185.975</td><td>-3.44293</td><td>12235398-0326345</td><td>2004.28</td><td>-1</td><td>29.8369</td><td>0.115617</td><td>14.4597</td><td>0.00366845</td><td>0.150456</td><td>-18.0852</td><td>12.8953</td><td>0.000715916</td><td>0.117234</td><td>-19.6124</td><td>12.0373</td><td>0.000568001</td><td>0.0811022</td><td>-20.4264</td><td>11.5849</td><td>0.000714507</td><td>0.0602676</td><td>-20.8572</td><td>11.225</td><td>0.00106884</td><td>0.044828</td><td>-21.2002</td><td>9.977</td><td>0.014</td><td>0.0251648</td><td>-22.4216</td><td>9.272</td><td>0.013</td><td>0.0159365</td><td>-23.1188</td><td>8.912</td><td>0.021</td><td>0.010719</td><td>-23.4597</td><td>10200000000</td><td>1.40497</td><td>-23.4748</td><td>0.0</td><td>1.0</td><td>0.0</td><td>185.975,-3.44293</td><td>nsa3469</td></tr>\n",
       "</table>"
      ],
      "text/plain": [
       "<Table masked=True length=1>\n",
       "SAGA_name NSAID    RA     Dec    ... decals_dr6      coord        ID_STR\n",
       "                                 ...                deg,deg             \n",
       "  str11   int64 float64 float64  ...  float64        object        str9 \n",
       "--------- ----- ------- -------- ... ---------- ---------------- -------\n",
       "       --  3469 185.975 -3.44293 ...        0.0 185.975,-3.44293 nsa3469"
      ]
     },
     "execution_count": 190,
     "metadata": {},
     "output_type": "execute_result"
    }
   ],
   "source": [
    "targethosts[targethosts['NSAID'] == 3469]"
   ]
  },
  {
   "cell_type": "markdown",
   "metadata": {},
   "source": [
    "## nsa3469"
   ]
  },
  {
   "cell_type": "code",
   "execution_count": 99,
   "metadata": {},
   "outputs": [
    {
     "name": "stdout",
     "output_type": "stream",
     "text": [
      "nsa3469\n",
      "# of flux stars = 143\n",
      "# of sky fibers = 100\n",
      "# of Priority=1 targets = 561\n",
      "# of Priority=2 targets = 9\n",
      "# of Priority=3 targets = 16\n",
      "# of Priority=4 targets = 50\n",
      "# of Priority=5 targets = 511\n",
      "# of Priority=6 targets = 144\n",
      "# of Priority=7 targets = 4\n",
      "# of Priority=8 targets = 0\n",
      "# of Priority=9 targets = 243\n"
     ]
    },
    {
     "name": "stderr",
     "output_type": "stream",
     "text": [
      "/Users/erik/projects/saga/saga/build/lib/SAGA/objects/object_catalog.py:54: RuntimeWarning: invalid value encountered in subtract\n",
      "  table[color] = table['{}_mag'.format(color[0])] - table['{}_mag'.format(color[1])]\n",
      "/Users/erik/miniconda3/envs/saga3/lib/python3.6/site-packages/astropy/table/column.py:965: RuntimeWarning: invalid value encountered in greater\n",
      "  return getattr(self.data, op)(other)\n",
      "/Users/erik/miniconda3/envs/saga3/lib/python3.6/site-packages/astropy/table/column.py:965: RuntimeWarning: invalid value encountered in less\n",
      "  return getattr(self.data, op)(other)\n"
     ]
    },
    {
     "name": "stdout",
     "output_type": "stream",
     "text": [
      "Writing aat_targets_jun2018/nsa3469_master.fld\n"
     ]
    }
   ],
   "source": [
    "for host in targethosts[targethosts['NSAID'] == 3469]:\n",
    "    hostname = host[host_id_label]\n",
    "    print(hostname)\n",
    "    tcat = saga_targets.build_target_catalogs(hostname, return_as='list').pop()\n",
    "    acat = saga.targets.prepare_aat_catalog(tcat)\n",
    "    \n",
    "    guidestars = get_sdss_guidestars(hostname)\n",
    "    writecat = table.vstack([acat, guidestars])\n",
    "    \n",
    "    fnout = 'aat_targets_jun2018/{}_master.fld'.format(hostname)\n",
    "    print('Writing', fnout)\n",
    "    writecat['Notes'] = [n.title() for n in writecat['Notes']]\n",
    "    write_fld_file(writecat, host, obs_start_date, fnout)"
   ]
  },
  {
   "cell_type": "code",
   "execution_count": 27,
   "metadata": {},
   "outputs": [
    {
     "name": "stdout",
     "output_type": "stream",
     "text": [
      "Total remaining in each priority (5 fluxes, 141 guides, and 100 skies not included):\n",
      "{1: 561, 2: 9, 3: 16, 4: 50, 5: 511, 6: 144, 7: 4, 8: 0, 9: 0}\n",
      "{1: 100.0, 2: 100.0, 3: 100.0, 4: 100.0, 5: 100.0, 6: 100.0, 7: 100.0, 8: None, 9: None}%\n"
     ]
    }
   ],
   "source": [
    "aat.subsample_from_master_fld('aat_targets_jun2018/nsa3469_master.fld', \n",
    "                              'aat_targets_jun2018/nsa3469_1.fld',\n",
    "                             {1:0,2:np.inf,3:np.inf,4:np.inf,\n",
    "                              5:np.inf,6:np.inf,7:np.inf,8:np.inf,9:np.inf},\n",
    "                              nflux=5)"
   ]
  },
  {
   "cell_type": "markdown",
   "metadata": {},
   "source": [
    "Note: was not able to inspect the skies *before* observing.  Below is to know which might be a problem"
   ]
  },
  {
   "cell_type": "code",
   "execution_count": null,
   "metadata": {},
   "outputs": [],
   "source": [
    "make_decals_viewer_cutouts(acat[acat['Notes']=='sky'], survey='decals-dr5', ncols=6, \n",
    "                           zoom=16, namecol='TargetName')"
   ]
  },
  {
   "cell_type": "markdown",
   "metadata": {},
   "source": [
    "7, 22, 81, and 76 remove for future.  None used in true config."
   ]
  },
  {
   "cell_type": "markdown",
   "metadata": {},
   "source": [
    "## nsa145729"
   ]
  },
  {
   "cell_type": "code",
   "execution_count": 102,
   "metadata": {},
   "outputs": [
    {
     "name": "stdout",
     "output_type": "stream",
     "text": [
      "nsa145729\n",
      "# of flux stars = 318\n",
      "# of sky fibers = 100\n",
      "# of Priority=1 targets = 536\n",
      "# of Priority=2 targets = 16\n",
      "# of Priority=3 targets = 14\n",
      "# of Priority=4 targets = 50\n",
      "# of Priority=5 targets = 259\n",
      "# of Priority=6 targets = 105\n",
      "# of Priority=7 targets = 3\n",
      "# of Priority=8 targets = 2\n",
      "# of Priority=9 targets = 418\n",
      "Writing aat_targets_jun2018/nsa145729_master.fld\n"
     ]
    },
    {
     "name": "stderr",
     "output_type": "stream",
     "text": [
      "/Users/erik/miniconda3/envs/saga3/lib/python3.6/site-packages/astropy/table/column.py:965: RuntimeWarning: invalid value encountered in greater\n",
      "  return getattr(self.data, op)(other)\n",
      "/Users/erik/miniconda3/envs/saga3/lib/python3.6/site-packages/astropy/table/column.py:965: RuntimeWarning: invalid value encountered in less\n",
      "  return getattr(self.data, op)(other)\n"
     ]
    }
   ],
   "source": [
    "for host in targethosts[targethosts['NSAID'] == 145729]:\n",
    "    hostname = host[host_id_label]\n",
    "    print(hostname)\n",
    "    tcat = saga_targets.build_target_catalogs(hostname, return_as='list').pop()\n",
    "    acat = saga.targets.prepare_aat_catalog(tcat)\n",
    "    #acat = saga.targets.prepare_aat_catalog(tcat, 'aat_targets_jun2018/{}.cat'.format(hostname))\n",
    "    \n",
    "    guidestars = get_sdss_guidestars(hostname)\n",
    "    writecat = table.vstack([acat, guidestars])\n",
    "    \n",
    "    fnout = 'aat_targets_jun2018/{}_master.fld'.format(hostname)\n",
    "    print('Writing', fnout)\n",
    "    writecat['Notes'] = [n.title() for n in writecat['Notes']]\n",
    "    write_fld_file(writecat, host, obs_start_date, fnout)"
   ]
  },
  {
   "cell_type": "code",
   "execution_count": 83,
   "metadata": {},
   "outputs": [
    {
     "name": "stdout",
     "output_type": "stream",
     "text": [
      "Total remaining in each priority (5 fluxes, 196 guides, and 100 skies not included):\n",
      "{1: 536, 2: 16, 3: 14, 4: 50, 5: 259, 6: 105, 7: 3, 8: 2, 9: 0}\n",
      "{1: 100.0, 2: 100.0, 3: 100.0, 4: 100.0, 5: 100.0, 6: 100.0, 7: 100.0, 8: 100.0, 9: None}%\n"
     ]
    }
   ],
   "source": [
    "aat.subsample_from_master_fld('aat_targets_jun2018/nsa145729_master.fld', \n",
    "                              'aat_targets_jun2018/nsa145729_1.fld',\n",
    "                             {1:np.inf,2:np.inf,3:np.inf,4:np.inf,\n",
    "                              5:np.inf,6:np.inf,7:np.inf,8:np.inf,9:np.inf},\n",
    "                              nflux=5)"
   ]
  },
  {
   "cell_type": "code",
   "execution_count": 251,
   "metadata": {},
   "outputs": [
    {
     "data": {
      "text/plain": [
       "'name ra dec\\n1237655693551797043 224.28362499999997 -1.0167166666666667\\n1237648702984356321 224.20654166666662 -1.0672416666666666\\n1237655499210425196 224.52899999999997 -1.6290027777777778\\n1237655499210424420 224.49804166666664 -1.5100833333333332\\n1237648703521489922 224.88395833333328 -0.6706027777777778\\n1237648703521489868 224.8677083333333 -0.6261666666666666\\n1237655692478251284 224.83333333333331 -1.8719555555555556\\n1237655693015253946 225.08166666666665 -1.3044916666666666\\n3255080000000003744 225.0220833333333 -0.9379694444444444\\n1237648702984880207 225.44270833333331 -1.098197222222222\\n1237648703521554976 225.01366666666664 -0.73385\\n1237648702984159385 223.8535833333333 -1.0734861111111111\\n3283850000000001411 224.38399999999996 -0.5618666666666667\\n3269470000000001139 224.9160833333333 -0.8147527777777778\\n3298240000000003919 224.08645833333333 -0.23843333333333333\\n1237648703521685692 225.35679166666665 -0.79815\\n1237648704058425599 224.98370833333328 -0.411225\\n41 225.60841666666664 -1.3943944444444445\\n1237655499747360993 224.61799999999997 -1.15065\\n3240680000000000710 225.05416666666665 -1.3373249999999999\\n1237648703521292700 224.42874999999995 -0.7972611111111111\\n1237648702984357019 224.30279166666662 -1.1576972222222222\\n1237648720176677740 225.03449999999998 -0.8429500000000001\\n1237655499210555857 224.7526666666666 -1.6377027777777777\\n3226260000000002817 224.74670833333332 -1.4950305555555556'"
      ]
     },
     "execution_count": 251,
     "metadata": {},
     "output_type": "execute_result"
    }
   ],
   "source": [
    "aat.imagelist_fld_targets('aat_targets_jun2018/{}_1.fld'.format(hostname))"
   ]
  },
  {
   "cell_type": "code",
   "execution_count": null,
   "metadata": {},
   "outputs": [],
   "source": [
    "make_decals_viewer_cutouts(acat[acat['Notes']=='sky'], survey='decals-dr5', ncols=6, \n",
    "                           zoom=16, namecol='TargetName')"
   ]
  },
  {
   "cell_type": "markdown",
   "metadata": {},
   "source": [
    "If future obs come up, removing 93, 76, 43, 15, 29.  None on actual observed config."
   ]
  },
  {
   "cell_type": "markdown",
   "metadata": {},
   "source": [
    "## pgc66318"
   ]
  },
  {
   "cell_type": "code",
   "execution_count": 248,
   "metadata": {},
   "outputs": [
    {
     "name": "stdout",
     "output_type": "stream",
     "text": [
      "pgc66318\n",
      "# of flux stars = 427\n",
      "# of sky fibers = 150\n",
      "# of Priority=1 targets = 203\n",
      "# of Priority=2 targets = 80\n",
      "# of Priority=3 targets = 105\n",
      "# of Priority=4 targets = 50\n",
      "# of Priority=5 targets = 181\n",
      "# of Priority=6 targets = 86\n",
      "# of Priority=7 targets = 16\n",
      "# of Priority=8 targets = 30\n",
      "# of Priority=9 targets = 577\n",
      "Object catalog to Gaia offset: (<Angle -0.08669275 arcsec>, <Angle 0.07036883 arcsec>)\n",
      "Found 421 Gaia guide stars\n",
      "7 Have a brightish neighbor.  Removing them.\n",
      "Writing aat_targets_jun2018/pgc66318_master.fld\n"
     ]
    }
   ],
   "source": [
    "for host in targethosts[targethosts['PGC'] == 66318]:\n",
    "    hostname = host[host_id_label]\n",
    "    print(hostname)\n",
    "    tcat = saga_targets.build_target_catalogs(hostname, return_as='list').pop()\n",
    "    acat = saga.targets.prepare_aat_catalog(tcat, sky_fiber_needed=150)\n",
    "    \n",
    "    guidestars = get_gaia_guidestars(hostname)\n",
    "    writecat = table.vstack([acat, guidestars])\n",
    "    \n",
    "    fnout = 'aat_targets_jun2018/{}_master.fld'.format(hostname)\n",
    "    print('Writing', fnout)\n",
    "    writecat['Notes'] = [n.title() for n in writecat['Notes']]\n",
    "    write_fld_file(writecat, host, obs_start_date, fnout)"
   ]
  },
  {
   "cell_type": "markdown",
   "metadata": {},
   "source": [
    "Visually check guide stars and sky fibers.  Remove any skies that are bad."
   ]
  },
  {
   "cell_type": "code",
   "execution_count": null,
   "metadata": {},
   "outputs": [],
   "source": [
    "make_decals_viewer_cutouts(guidestars[np.random.permutation(len(guidestars))[:24]], survey='unwise-w1w2',ncols=6,namecol='TargetName')"
   ]
  },
  {
   "cell_type": "code",
   "execution_count": null,
   "metadata": {},
   "outputs": [],
   "source": [
    "make_decals_viewer_cutouts(acat[acat['Notes']=='sky'], survey='unwise-w1w2', ncols=6, \n",
    "                           zoom=16, namecol='TargetName')"
   ]
  },
  {
   "cell_type": "markdown",
   "metadata": {},
   "source": [
    "Removing 0 18 23 37 50 56 59 68 69 73 86 87 91 94 99 110 114 115 120 122 126 132 134 138 143 147 148"
   ]
  },
  {
   "cell_type": "code",
   "execution_count": 252,
   "metadata": {},
   "outputs": [
    {
     "name": "stdout",
     "output_type": "stream",
     "text": [
      "Total remaining in each priority (5 fluxes, 100 guides, and 123 skies not included):\n",
      "{1: 203, 2: 80, 3: 105, 4: 50, 5: 181, 6: 86, 7: 16, 8: 30, 9: 0}\n",
      "{1: 100.0, 2: 100.0, 3: 100.0, 4: 100.0, 5: 100.0, 6: 100.0, 7: 100.0, 8: 100.0, 9: None}%\n"
     ]
    }
   ],
   "source": [
    "aat.subsample_from_master_fld('aat_targets_jun2018/{}_master.fld'.format(hostname), \n",
    "                              'aat_targets_jun2018/{}_1.fld'.format(hostname),\n",
    "                             {1:np.inf,2:np.inf,3:np.inf,4:np.inf,\n",
    "                              5:np.inf,6:np.inf,7:np.inf,8:np.inf,9:np.inf},\n",
    "                              nflux=5, nguides=100)"
   ]
  },
  {
   "cell_type": "markdown",
   "metadata": {},
   "source": [
    "Note that `aat_targets_jun2018/pgc66318_1.fld` ended up getting made *before* the sky-fiber cleanup due to time constraints.  But it appears that the fibers assigned to the actual observations are clear?"
   ]
  },
  {
   "cell_type": "markdown",
   "metadata": {},
   "source": [
    "## pgc66934"
   ]
  },
  {
   "cell_type": "code",
   "execution_count": 46,
   "metadata": {},
   "outputs": [
    {
     "name": "stdout",
     "output_type": "stream",
     "text": [
      "pgc66934\n",
      "# of flux stars = 268\n",
      "# of sky fibers = 100\n",
      "# of Priority=1 targets = 241\n",
      "# of Priority=2 targets = 135\n",
      "# of Priority=3 targets = 94\n",
      "# of Priority=4 targets = 50\n",
      "# of Priority=5 targets = 170\n",
      "# of Priority=6 targets = 65\n",
      "# of Priority=7 targets = 18\n",
      "# of Priority=8 targets = 20\n",
      "# of Priority=9 targets = 368\n",
      "Object catalog to Gaia offset: (<Angle -0.12299029 arcsec>, <Angle 0.1454588 arcsec>)\n",
      "Writing aat_targets_jun2018/pgc66934_master.fld\n"
     ]
    }
   ],
   "source": [
    "for host in targethosts[targethosts['PGC'] == 66934]:\n",
    "    hostname = host[host_id_label]\n",
    "    print(hostname)\n",
    "    tcat = saga_targets.build_target_catalogs(hostname, return_as='list').pop()\n",
    "    acat = saga.targets.prepare_aat_catalog(tcat)\n",
    "    \n",
    "    guidestars = get_gaia_guidestars(hostname)\n",
    "    writecat = table.vstack([acat, guidestars])\n",
    "    \n",
    "    fnout = 'aat_targets_jun2018/{}_master.fld'.format(hostname)\n",
    "    print('Writing', fnout)\n",
    "    writecat['Notes'] = [n.title() for n in writecat['Notes']]\n",
    "    write_fld_file(writecat, host, obs_start_date, fnout)"
   ]
  },
  {
   "cell_type": "code",
   "execution_count": null,
   "metadata": {},
   "outputs": [],
   "source": [
    "make_decals_viewer_cutouts(guidestars[np.random.permutation(len(guidestars))[:24]], \n",
    "                           survey='unwise-w1w2',ncols=6,namecol='TargetName')"
   ]
  },
  {
   "cell_type": "markdown",
   "metadata": {},
   "source": [
    "6576299790145393152 is problematic because it's right next to a much brighter star.  Will remove."
   ]
  },
  {
   "cell_type": "code",
   "execution_count": null,
   "metadata": {},
   "outputs": [],
   "source": [
    "make_decals_viewer_cutouts(acat[acat['Notes']=='sky'], survey='unwise-w1w2', ncols=6, \n",
    "                           zoom=16, namecol='TargetName')"
   ]
  },
  {
   "cell_type": "markdown",
   "metadata": {},
   "source": [
    "Removing 13, 16, 26, 28, 57, 59"
   ]
  },
  {
   "cell_type": "code",
   "execution_count": 62,
   "metadata": {},
   "outputs": [
    {
     "name": "stdout",
     "output_type": "stream",
     "text": [
      "Total remaining in each priority (5 fluxes, 100 guides, and 94 skies not included):\n",
      "{1: 241, 2: 135, 3: 94, 4: 50, 5: 170, 6: 65, 7: 18, 8: 20, 9: 0}\n",
      "{1: 100.0, 2: 100.0, 3: 100.0, 4: 100.0, 5: 100.0, 6: 100.0, 7: 100.0, 8: 100.0, 9: None}%\n"
     ]
    }
   ],
   "source": [
    "aat.subsample_from_master_fld('aat_targets_jun2018/{}_master.fld'.format(hostname), \n",
    "                              'aat_targets_jun2018/{}_1.fld'.format(hostname),\n",
    "                             {1:np.inf,2:np.inf,3:np.inf,4:np.inf,\n",
    "                              5:np.inf,6:np.inf,7:np.inf,8:np.inf,9:np.inf},\n",
    "                              nflux=5, nguides=100)"
   ]
  },
  {
   "cell_type": "markdown",
   "metadata": {},
   "source": [
    "## PGC 2052 "
   ]
  },
  {
   "cell_type": "code",
   "execution_count": 164,
   "metadata": {},
   "outputs": [
    {
     "name": "stdout",
     "output_type": "stream",
     "text": [
      "pgc2052\n",
      "# of flux stars = 70\n",
      "# of sky fibers = 100\n",
      "# of Priority=1 targets = 748\n",
      "# of Priority=2 targets = 12\n",
      "# of Priority=3 targets = 82\n",
      "# of Priority=4 targets = 50\n",
      "# of Priority=5 targets = 556\n",
      "# of Priority=6 targets = 243\n",
      "# of Priority=7 targets = 38\n",
      "# of Priority=8 targets = 23\n",
      "# of Priority=9 targets = 170\n",
      "Object catalog to Gaia offset: (<Angle -0.19705932 arcsec>, <Angle 0.12130509 arcsec>)\n",
      "Found 186 Gaia guide stars\n",
      "4 Have a brightish neighbor.  Removing them.\n",
      "Writing aat_targets_jun2018/pgc2052_master.fld\n"
     ]
    }
   ],
   "source": [
    "for host in targethosts[targethosts['PGC'] == 2052]:\n",
    "    hostname = host[host_id_label]\n",
    "    print(hostname)\n",
    "    tcat = saga_targets.build_target_catalogs(hostname, return_as='list').pop()\n",
    "    acat = saga.targets.prepare_aat_catalog(tcat)\n",
    "    \n",
    "    guidestars = get_gaia_guidestars(hostname)\n",
    "    writecat = table.vstack([acat, guidestars])\n",
    "    \n",
    "    fnout = 'aat_targets_jun2018/{}_master.fld'.format(hostname)\n",
    "    print('Writing', fnout)\n",
    "    writecat['Notes'] = [n.title() for n in writecat['Notes']]\n",
    "    write_fld_file(writecat, host, obs_start_date, fnout)"
   ]
  },
  {
   "cell_type": "code",
   "execution_count": null,
   "metadata": {},
   "outputs": [],
   "source": [
    "make_decals_viewer_cutouts(guidestars[np.random.permutation(len(guidestars))[:24]], \n",
    "                           survey='unwise-w1w2',ncols=6,namecol='TargetName')"
   ]
  },
  {
   "cell_type": "code",
   "execution_count": null,
   "metadata": {},
   "outputs": [],
   "source": [
    "make_decals_viewer_cutouts(acat[acat['Notes']=='sky'], survey='unwise-w1w2', ncols=6, \n",
    "                           zoom=16, namecol='TargetName')"
   ]
  },
  {
   "cell_type": "markdown",
   "metadata": {},
   "source": [
    "Removed 17, 28, 50, 81, 91"
   ]
  },
  {
   "cell_type": "code",
   "execution_count": 168,
   "metadata": {},
   "outputs": [
    {
     "name": "stdout",
     "output_type": "stream",
     "text": [
      "Total remaining in each priority (5 fluxes, 100 guides, and 95 skies not included):\n",
      "{1: 748, 2: 12, 3: 82, 4: 50, 5: 556, 6: 243, 7: 38, 8: 23, 9: 0}\n",
      "{1: 100.0, 2: 100.0, 3: 100.0, 4: 100.0, 5: 100.0, 6: 100.0, 7: 100.0, 8: 100.0, 9: None}%\n"
     ]
    }
   ],
   "source": [
    "aat.subsample_from_master_fld('aat_targets_jun2018/{}_master.fld'.format(hostname), \n",
    "                              'aat_targets_jun2018/{}_1.fld'.format(hostname),\n",
    "                             {1:0,2:np.inf,3:np.inf,4:np.inf,\n",
    "                              5:np.inf,6:np.inf,7:np.inf,8:np.inf,9:np.inf},\n",
    "                              nflux=5, nguides=100)"
   ]
  },
  {
   "cell_type": "markdown",
   "metadata": {},
   "source": [
    "# Night 2 "
   ]
  },
  {
   "cell_type": "code",
   "execution_count": 26,
   "metadata": {},
   "outputs": [],
   "source": [
    "import aat"
   ]
  },
  {
   "cell_type": "markdown",
   "metadata": {},
   "source": [
    "## nsa141465 "
   ]
  },
  {
   "cell_type": "code",
   "execution_count": 223,
   "metadata": {},
   "outputs": [
    {
     "name": "stdout",
     "output_type": "stream",
     "text": [
      "nsa141465\n",
      "# of flux stars = 128\n",
      "# of sky fibers = 100\n",
      "# of Priority=1 targets = 331\n",
      "# of Priority=2 targets = 7\n",
      "# of Priority=3 targets = 14\n",
      "# of Priority=4 targets = 50\n",
      "# of Priority=5 targets = 228\n",
      "# of Priority=6 targets = 95\n",
      "# of Priority=7 targets = 7\n",
      "# of Priority=8 targets = 2\n",
      "# of Priority=9 targets = 228\n"
     ]
    },
    {
     "name": "stderr",
     "output_type": "stream",
     "text": [
      "/Users/erik/miniconda3/envs/saga3/lib/python3.6/site-packages/astropy/table/column.py:965: RuntimeWarning: invalid value encountered in greater\n",
      "  return getattr(self.data, op)(other)\n",
      "/Users/erik/miniconda3/envs/saga3/lib/python3.6/site-packages/astropy/table/column.py:965: RuntimeWarning: invalid value encountered in less\n",
      "  return getattr(self.data, op)(other)\n"
     ]
    },
    {
     "name": "stdout",
     "output_type": "stream",
     "text": [
      "Writing aat_targets_jun2018/nsa141465_master.fld\n"
     ]
    }
   ],
   "source": [
    "for host in targethosts[targethosts['NSAID'] == 141465]:\n",
    "    hostname = host[host_id_label]\n",
    "    print(hostname)\n",
    "    tcats[hostname] = tcat = saga_targets.build_target_catalogs(hostname, return_as='list').pop()\n",
    "    acats[hostname] = acat = saga.targets.prepare_aat_catalog(tcat)\n",
    "    \n",
    "    guidestars = get_sdss_guidestars(hostname)\n",
    "    writecat = table.vstack([acat, guidestars])\n",
    "    \n",
    "    fnout = 'aat_targets_jun2018/{}_master.fld'.format(hostname)\n",
    "    print('Writing', fnout)\n",
    "    writecat['Notes'] = [n.title() for n in writecat['Notes']]\n",
    "    write_fld_file(writecat, host, obs_start_date, fnout)"
   ]
  },
  {
   "cell_type": "code",
   "execution_count": null,
   "metadata": {},
   "outputs": [],
   "source": [
    "make_decals_viewer_cutouts(guidestars[np.random.permutation(len(guidestars))], \n",
    "                           survey='sdss',ncols=6,namecol='TargetName')"
   ]
  },
  {
   "cell_type": "markdown",
   "metadata": {},
   "source": [
    "Remove 1237650762930913293, 1237648702968102985, 1237650762930913292"
   ]
  },
  {
   "cell_type": "code",
   "execution_count": null,
   "metadata": {},
   "outputs": [],
   "source": [
    "make_decals_viewer_cutouts(acat[acat['Notes']=='sky'], survey='sdss', ncols=6, \n",
    "                           zoom=16, namecol='TargetName')"
   ]
  },
  {
   "cell_type": "markdown",
   "metadata": {},
   "source": [
    "Remove 16"
   ]
  },
  {
   "cell_type": "code",
   "execution_count": 235,
   "metadata": {},
   "outputs": [
    {
     "name": "stdout",
     "output_type": "stream",
     "text": [
      "Total remaining in each priority (5 fluxes, 100 guides, and 99 skies not included):\n",
      "{1: 331, 2: 7, 3: 14, 4: 50, 5: 228, 6: 95, 7: 7, 8: 2, 9: 0}\n",
      "{1: 100.0, 2: 100.0, 3: 100.0, 4: 100.0, 5: 100.0, 6: 100.0, 7: 100.0, 8: 100.0, 9: None}%\n"
     ]
    }
   ],
   "source": [
    "aat.subsample_from_master_fld('aat_targets_jun2018/{}_master.fld'.format(hostname), \n",
    "                              'aat_targets_jun2018/{}_1.fld'.format(hostname),\n",
    "                             {1:np.inf,2:np.inf,3:np.inf,4:np.inf,\n",
    "                              5:np.inf,6:np.inf,7:np.inf,8:np.inf,9:np.inf},\n",
    "                              nflux=5, nguides=100)"
   ]
  },
  {
   "cell_type": "markdown",
   "metadata": {},
   "source": [
    "## nsa145879 "
   ]
  },
  {
   "cell_type": "code",
   "execution_count": 238,
   "metadata": {},
   "outputs": [
    {
     "name": "stdout",
     "output_type": "stream",
     "text": [
      "nsa145879\n"
     ]
    },
    {
     "name": "stderr",
     "output_type": "stream",
     "text": [
      "/Users/erik/projects/saga/saga/build/lib/SAGA/objects/object_catalog.py:54: RuntimeWarning: invalid value encountered in subtract\n",
      "  table[color] = table['{}_mag'.format(color[0])] - table['{}_mag'.format(color[1])]\n"
     ]
    },
    {
     "name": "stdout",
     "output_type": "stream",
     "text": [
      "# of flux stars = 283\n",
      "# of sky fibers = 100\n",
      "# of Priority=1 targets = 696\n",
      "# of Priority=2 targets = 32\n",
      "# of Priority=3 targets = 35\n",
      "# of Priority=4 targets = 50\n",
      "# of Priority=5 targets = 516\n",
      "# of Priority=6 targets = 205\n",
      "# of Priority=7 targets = 8\n",
      "# of Priority=8 targets = 0\n",
      "# of Priority=9 targets = 383\n"
     ]
    },
    {
     "name": "stderr",
     "output_type": "stream",
     "text": [
      "/Users/erik/miniconda3/envs/saga3/lib/python3.6/site-packages/astropy/table/column.py:965: RuntimeWarning: invalid value encountered in greater\n",
      "  return getattr(self.data, op)(other)\n",
      "/Users/erik/miniconda3/envs/saga3/lib/python3.6/site-packages/astropy/table/column.py:965: RuntimeWarning: invalid value encountered in less\n",
      "  return getattr(self.data, op)(other)\n"
     ]
    },
    {
     "name": "stdout",
     "output_type": "stream",
     "text": [
      "Writing aat_targets_jun2018/nsa145879_master.fld\n"
     ]
    }
   ],
   "source": [
    "for host in targethosts[targethosts['NSAID'] == 145879]:\n",
    "    hostname = host[host_id_label]\n",
    "    print(hostname)\n",
    "    tcats[hostname] = tcat = saga_targets.build_target_catalogs(hostname, return_as='list').pop()\n",
    "    acats[hostname] = acat = saga.targets.prepare_aat_catalog(tcat)\n",
    "    \n",
    "    guidestars = get_sdss_guidestars(hostname)\n",
    "    writecat = table.vstack([acat, guidestars])\n",
    "    \n",
    "    fnout = 'aat_targets_jun2018/{}_master.fld'.format(hostname)\n",
    "    print('Writing', fnout)\n",
    "    writecat['Notes'] = [n.title() for n in writecat['Notes']]\n",
    "    write_fld_file(writecat, host, obs_start_date, fnout)"
   ]
  },
  {
   "cell_type": "code",
   "execution_count": null,
   "metadata": {},
   "outputs": [],
   "source": [
    "make_decals_viewer_cutouts(guidestars[np.random.permutation(len(guidestars))], \n",
    "                           survey='sdss',ncols=6,namecol='TargetName')"
   ]
  },
  {
   "cell_type": "markdown",
   "metadata": {},
   "source": [
    "Remove 1237655467525144674  1237655467524620357 1237648704596082789 1237648704596279461 1237655468061556867 1237648704596082818 1237648705669824621 1237648705669824675"
   ]
  },
  {
   "cell_type": "code",
   "execution_count": null,
   "metadata": {},
   "outputs": [],
   "source": [
    "make_decals_viewer_cutouts(acat[acat['Notes']=='sky'], survey='sdss', ncols=6, \n",
    "                           zoom=16, namecol='TargetName')"
   ]
  },
  {
   "cell_type": "markdown",
   "metadata": {},
   "source": [
    "Remove 53 54 66 70"
   ]
  },
  {
   "cell_type": "code",
   "execution_count": 243,
   "metadata": {},
   "outputs": [
    {
     "name": "stdout",
     "output_type": "stream",
     "text": [
      "Total remaining in each priority (5 fluxes, 100 guides, and 96 skies not included):\n",
      "{1: 696, 2: 32, 3: 35, 4: 50, 5: 516, 6: 205, 7: 8, 8: 0, 9: 0}\n",
      "{1: 100.0, 2: 100.0, 3: 100.0, 4: 100.0, 5: 100.0, 6: 100.0, 7: 100.0, 8: None, 9: None}%\n"
     ]
    }
   ],
   "source": [
    "aat.subsample_from_master_fld('aat_targets_jun2018/{}_master.fld'.format(hostname), \n",
    "                              'aat_targets_jun2018/{}_1.fld'.format(hostname),\n",
    "                             {1:0,2:np.inf,3:np.inf,4:np.inf,\n",
    "                              5:np.inf,6:np.inf,7:np.inf,8:np.inf,9:np.inf},\n",
    "                              nflux=5, nguides=100)"
   ]
  },
  {
   "cell_type": "markdown",
   "metadata": {},
   "source": [
    "## pgc66318"
   ]
  },
  {
   "cell_type": "markdown",
   "metadata": {},
   "source": [
    "Didn't get it in night 1, so re-doing it.  But re-working files with improvements to the Gaia star-finding function."
   ]
  },
  {
   "cell_type": "code",
   "execution_count": 295,
   "metadata": {},
   "outputs": [
    {
     "name": "stdout",
     "output_type": "stream",
     "text": [
      "pgc66318\n",
      "# of flux stars = 427\n",
      "# of sky fibers = 125\n",
      "# of Priority=1 targets = 203\n",
      "# of Priority=2 targets = 80\n",
      "# of Priority=3 targets = 105\n",
      "# of Priority=4 targets = 50\n",
      "# of Priority=5 targets = 181\n",
      "# of Priority=6 targets = 86\n",
      "# of Priority=7 targets = 16\n",
      "# of Priority=8 targets = 30\n",
      "# of Priority=9 targets = 552\n",
      "Object catalog to Gaia offset: (<Angle -0.11968757 arcsec>, <Angle 0.14139283 arcsec>) from 1884 objects (73.3%)\n",
      "Found 234 Gaia guide stars\n",
      "83 Have a brightish neighbor.  Removing them.\n",
      "Writing aat_targets_jun2018/pgc66318_master.fld\n"
     ]
    }
   ],
   "source": [
    "for host in targethosts[targethosts['PGC'] == 66318]:\n",
    "    hostname = host[host_id_label]\n",
    "    print(hostname)\n",
    "    tcats[hostname] = tcat = saga_targets.build_target_catalogs(hostname, return_as='list').pop()\n",
    "    acats[hostname] = acat = saga.targets.prepare_aat_catalog(tcat, sky_fiber_needed=125)\n",
    "    \n",
    "    guidestars = get_gaia_guidestars(hostname)\n",
    "    writecat = table.vstack([acat, guidestars])\n",
    "    \n",
    "    fnout = 'aat_targets_jun2018/{}_master.fld'.format(hostname)\n",
    "    print('Writing', fnout)\n",
    "    writecat['Notes'] = [n.title() for n in writecat['Notes']]\n",
    "    write_fld_file(writecat, host, obs_start_date, fnout)"
   ]
  },
  {
   "cell_type": "code",
   "execution_count": null,
   "metadata": {},
   "outputs": [],
   "source": [
    "make_decals_viewer_cutouts(guidestars[np.random.permutation(len(guidestars))[:24]], \n",
    "                           survey='unwise-w1w2',ncols=6,namecol='TargetName')"
   ]
  },
  {
   "cell_type": "code",
   "execution_count": null,
   "metadata": {},
   "outputs": [],
   "source": [
    "make_decals_viewer_cutouts(acat[acat['Notes']=='sky'], survey='unwise-w1w2', ncols=6, \n",
    "                           zoom=16, namecol='TargetName')"
   ]
  },
  {
   "cell_type": "markdown",
   "metadata": {},
   "source": [
    "Removing 0 19 20 25 37 43 52 63 76 77 81 84 93 99 100 103 105 110  116 117 120 123"
   ]
  },
  {
   "cell_type": "code",
   "execution_count": 300,
   "metadata": {},
   "outputs": [
    {
     "name": "stdout",
     "output_type": "stream",
     "text": [
      "Total remaining in each priority (5 fluxes, 100 guides, and 103 skies not included):\n",
      "{1: 203, 2: 80, 3: 105, 4: 50, 5: 181, 6: 86, 7: 16, 8: 30, 9: 0}\n",
      "{1: 100.0, 2: 100.0, 3: 100.0, 4: 100.0, 5: 100.0, 6: 100.0, 7: 100.0, 8: 100.0, 9: None}%\n"
     ]
    }
   ],
   "source": [
    "aat.subsample_from_master_fld('aat_targets_jun2018/{}_master.fld'.format(hostname), \n",
    "                              'aat_targets_jun2018/{}_1.fld'.format(hostname),\n",
    "                             {1:np.inf,2:np.inf,3:np.inf,4:np.inf,\n",
    "                              5:np.inf,6:np.inf,7:np.inf,8:np.inf,9:np.inf},\n",
    "                              nflux=5, nguides=100)"
   ]
  },
  {
   "cell_type": "markdown",
   "metadata": {},
   "source": [
    "## pgc67817"
   ]
  },
  {
   "cell_type": "code",
   "execution_count": 307,
   "metadata": {},
   "outputs": [
    {
     "name": "stdout",
     "output_type": "stream",
     "text": [
      "pgc67817\n",
      "# of flux stars = 242\n",
      "# of sky fibers = 125\n",
      "# of Priority=1 targets = 301\n",
      "# of Priority=2 targets = 106\n",
      "# of Priority=3 targets = 71\n",
      "# of Priority=4 targets = 50\n",
      "# of Priority=5 targets = 230\n",
      "# of Priority=6 targets = 70\n",
      "# of Priority=7 targets = 45\n",
      "# of Priority=8 targets = 1\n",
      "# of Priority=9 targets = 367\n",
      "Object catalog to Gaia offset: (<Angle -0.12210635 arcsec>, <Angle 0.17147205 arcsec>) from 1391 objects (75.2%)\n",
      "Found 162 Gaia guide stars\n",
      "55 Have a brightish neighbor.  Removing them.\n",
      "Writing aat_targets_jun2018/pgc67817_master.fld\n"
     ]
    }
   ],
   "source": [
    "for host in targethosts[targethosts['PGC'] == 67817]:\n",
    "    hostname = host[host_id_label]\n",
    "    print(hostname)\n",
    "    tcats[hostname] = tcat = saga_targets.build_target_catalogs(hostname, return_as='list').pop()\n",
    "    acats[hostname] = acat = saga.targets.prepare_aat_catalog(tcat, sky_fiber_needed=125)\n",
    "    \n",
    "    guidestars = get_gaia_guidestars(hostname)\n",
    "    writecat = table.vstack([acat, guidestars])\n",
    "    \n",
    "    fnout = 'aat_targets_jun2018/{}_master.fld'.format(hostname)\n",
    "    print('Writing', fnout)\n",
    "    writecat['Notes'] = [n.title() for n in writecat['Notes']]\n",
    "    write_fld_file(writecat, host, obs_start_date, fnout)"
   ]
  },
  {
   "cell_type": "code",
   "execution_count": null,
   "metadata": {},
   "outputs": [],
   "source": [
    "make_decals_viewer_cutouts(guidestars[np.random.permutation(len(guidestars))[:24]], \n",
    "                           survey='unwise-w1w2',ncols=6,namecol='TargetName')"
   ]
  },
  {
   "cell_type": "code",
   "execution_count": null,
   "metadata": {},
   "outputs": [],
   "source": [
    "make_decals_viewer_cutouts(acat[acat['Notes']=='sky'], survey='unwise-w1w2', ncols=6, \n",
    "                           zoom=16, namecol='TargetName')"
   ]
  },
  {
   "cell_type": "markdown",
   "metadata": {},
   "source": [
    "Removing 1 3 7 10 13  22 25 29  35 36 38 41 42 50 54 56  63 69 71 72 76  80 81  85 92 97 98 107 117 120"
   ]
  },
  {
   "cell_type": "markdown",
   "metadata": {},
   "source": [
    "Testing alternative sky cutouts using DES service"
   ]
  },
  {
   "cell_type": "code",
   "execution_count": 377,
   "metadata": {},
   "outputs": [
    {
     "name": "stdout",
     "output_type": "stream",
     "text": [
      "Copied to clipboard\n"
     ]
    },
    {
     "data": {
      "text/html": [
       "\n",
       "    Paste the coords as value in  \n",
       "    <a href=\"https://des.ncsa.illinois.edu/easyweb/cutouts\">the DES cutout service</a>\n",
       "    "
      ],
      "text/plain": [
       "<IPython.core.display.HTML object>"
      ]
     },
     "execution_count": 377,
     "metadata": {},
     "output_type": "execute_result"
    }
   ],
   "source": [
    "make_des_cutouts_file(acat[acat['Notes']=='sky'])"
   ]
  },
  {
   "cell_type": "code",
   "execution_count": null,
   "metadata": {},
   "outputs": [],
   "source": [
    "show_des_cutouts(acat[acat['Notes']=='sky'], 'dc3ec44c-2dd2-4768-bde1-ce088eb5124f', \n",
    "                 ncols=6, namecol='TargetName',  dhtml=True)"
   ]
  },
  {
   "cell_type": "code",
   "execution_count": 318,
   "metadata": {},
   "outputs": [
    {
     "name": "stdout",
     "output_type": "stream",
     "text": [
      "Total remaining in each priority (5 fluxes, 100 guides, and 95 skies not included):\n",
      "{1: 301, 2: 106, 3: 71, 4: 50, 5: 230, 6: 70, 7: 45, 8: 1, 9: 0}\n",
      "{1: 100.0, 2: 100.0, 3: 100.0, 4: 100.0, 5: 100.0, 6: 100.0, 7: 100.0, 8: 100.0, 9: None}%\n"
     ]
    }
   ],
   "source": [
    "aat.subsample_from_master_fld('aat_targets_jun2018/{}_master.fld'.format(hostname), \n",
    "                              'aat_targets_jun2018/{}_1.fld'.format(hostname),\n",
    "                             {1:np.inf,2:np.inf,3:np.inf,4:np.inf,\n",
    "                              5:np.inf,6:np.inf,7:np.inf,8:np.inf,9:np.inf},\n",
    "                              nflux=5, nguides=100)"
   ]
  },
  {
   "cell_type": "markdown",
   "metadata": {},
   "source": [
    "# Night 3 "
   ]
  },
  {
   "cell_type": "code",
   "execution_count": 26,
   "metadata": {},
   "outputs": [],
   "source": [
    "import aat"
   ]
  },
  {
   "cell_type": "markdown",
   "metadata": {},
   "source": [
    "## nsa3469 (_2)"
   ]
  },
  {
   "cell_type": "code",
   "execution_count": 20,
   "metadata": {},
   "outputs": [
    {
     "name": "stdout",
     "output_type": "stream",
     "text": [
      "Downloading https://docs.google.com/spreadsheets/d/1Y3nO7VyU4jDiBPawCs8wJQt2s_PIAKRj-HSrmcWeQZo/export?format=csv&gid=1379081675 [Done]\n",
      "Downloading https://docs.google.com/spreadsheets/d/1Y3nO7VyU4jDiBPawCs8wJQt2s_PIAKRj-HSrmcWeQZo/export?format=csv&gid=286645731 [Done]\n",
      "[06/12 15:16:32] [WARNING] Not found: des catalog for nsa3469.\n",
      "[06/12 15:16:35] Use SDSS, DECALS to build base catalog v2 for nsa3469 (1/1)\n"
     ]
    },
    {
     "name": "stderr",
     "output_type": "stream",
     "text": [
      "/Users/erik/projects/saga/saga/build/lib/SAGA/objects/build2.py:149: RuntimeWarning: invalid value encountered in true_divide\n",
      "  catalog['radius_err'] = np.hypot(catalog['FRACDEV']**2.0 / catalog['SHAPEDEV_R_IVAR'], (1.0 - catalog['FRACDEV'])**2.0 / catalog['SHAPEEXP_R_IVAR'])\n",
      "/Users/erik/projects/saga/saga/build/lib/SAGA/objects/build2.py:149: RuntimeWarning: divide by zero encountered in true_divide\n",
      "  catalog['radius_err'] = np.hypot(catalog['FRACDEV']**2.0 / catalog['SHAPEDEV_R_IVAR'], (1.0 - catalog['FRACDEV'])**2.0 / catalog['SHAPEEXP_R_IVAR'])\n",
      "WARNING:root:No photo obj matched to 2dF spec obj TGN181Z153 (185.39954166666664, -2.650222222222222)\n",
      "WARNING:root:No photo obj matched to 2dF spec obj TGN124Z266 (186.17341666666664, -3.3531111111111107)\n",
      "WARNING:root:No photo obj matched to NSA spec obj 667260 (185.36766765020573, -2.860386609472335)\n",
      "WARNING:root:No photo obj matched to 2dF spec obj TGN123Z034 (185.8574583333333, -4.01875)\n",
      "/Users/erik/miniconda3/envs/saga3/lib/python3.6/site-packages/astropy/table/column.py:965: RuntimeWarning: invalid value encountered in less\n",
      "  return getattr(self.data, op)(other)\n",
      "WARNING:root:No kcorrect module. Stellar mass not calculated!\n"
     ]
    },
    {
     "name": "stdout",
     "output_type": "stream",
     "text": [
      "[06/12 15:17:15] Write base catalog to ./base_catalogs/base_v2_nsa3469.fits.gz\n"
     ]
    }
   ],
   "source": [
    "saga_object_catalog.build_and_write_to_database('NSA3469', overwrite=True)"
   ]
  },
  {
   "cell_type": "markdown",
   "metadata": {},
   "source": [
    "Previously:\n",
    "```\n",
    "# of flux stars = 283\n",
    "# of sky fibers = 100\n",
    "# of Priority=1 targets = 696\n",
    "# of Priority=2 targets = 32\n",
    "# of Priority=3 targets = 35\n",
    "# of Priority=4 targets = 50\n",
    "# of Priority=5 targets = 516\n",
    "# of Priority=6 targets = 205\n",
    "# of Priority=7 targets = 8\n",
    "# of Priority=8 targets = 0\n",
    "# of Priority=9 targets = 383\n",
    "```\n",
    "This is probably wrong because of an out-of-date base catalog, though..."
   ]
  },
  {
   "cell_type": "code",
   "execution_count": 65,
   "metadata": {},
   "outputs": [
    {
     "name": "stdout",
     "output_type": "stream",
     "text": [
      "nsa3469\n",
      "# of flux stars = 144\n",
      "# of sky fibers = 150\n",
      "# of Priority=1 targets = 561\n",
      "# of Priority=2 targets = 9\n",
      "# of Priority=3 targets = 14\n",
      "# of Priority=4 targets = 50\n",
      "# of Priority=5 targets = 350\n",
      "# of Priority=6 targets = 31\n",
      "# of Priority=7 targets = 0\n",
      "# of Priority=8 targets = 2\n",
      "# of Priority=9 targets = 294\n",
      "Found 141 SDSS guide stars\n"
     ]
    },
    {
     "name": "stderr",
     "output_type": "stream",
     "text": [
      "/Users/erik/projects/saga/saga/build/lib/SAGA/objects/object_catalog.py:54: RuntimeWarning: invalid value encountered in subtract\n",
      "  table[color] = table['{}_mag'.format(color[0])] - table['{}_mag'.format(color[1])]\n",
      "/Users/erik/miniconda3/envs/saga3/lib/python3.6/site-packages/astropy/table/column.py:965: RuntimeWarning: invalid value encountered in greater\n",
      "  return getattr(self.data, op)(other)\n",
      "/Users/erik/miniconda3/envs/saga3/lib/python3.6/site-packages/astropy/table/column.py:965: RuntimeWarning: invalid value encountered in less\n",
      "  return getattr(self.data, op)(other)\n"
     ]
    },
    {
     "data": {
      "text/plain": [
       "1452"
      ]
     },
     "execution_count": 65,
     "metadata": {},
     "output_type": "execute_result"
    }
   ],
   "source": [
    "for host in targethosts[targethosts['NSAID'] == 3469]:\n",
    "    hostname = host[host_id_label]\n",
    "    print(hostname)\n",
    "    tcats[hostname] = tcat = saga_targets.build_target_catalogs(hostname, return_as='list').pop()\n",
    "    acats[hostname] = acat = saga.targets.prepare_aat_catalog(tcat, sky_fiber_needed=150)\n",
    "    \n",
    "    guidestars = get_sdss_guidestars(hostname)\n",
    "    writecat = table.vstack([acat, guidestars])\n",
    "    writecat['Notes'] = [n.title() for n in writecat['Notes']]\n",
    "    \n",
    "    #fnout = 'aat_targets_jun2018/{}_master2.fld'.format(hostname)\n",
    "    #print('Writing', fnout)\n",
    "    #write_fld_file(writecat, host, obs_start_date, fnout)\n",
    "len(writecat)"
   ]
  },
  {
   "cell_type": "markdown",
   "metadata": {},
   "source": [
    "For other ones we could just re-use the old guide/sky, but in this case the method has improved so we check again"
   ]
  },
  {
   "cell_type": "code",
   "execution_count": null,
   "metadata": {},
   "outputs": [],
   "source": [
    "make_decals_viewer_cutouts(guidestars[np.random.permutation(len(guidestars))], \n",
    "                           survey='sdss',ncols=6,namecol='TargetName')"
   ]
  },
  {
   "cell_type": "code",
   "execution_count": 66,
   "metadata": {},
   "outputs": [
    {
     "data": {
      "text/plain": [
       "134"
      ]
     },
     "execution_count": 66,
     "metadata": {},
     "output_type": "execute_result"
    }
   ],
   "source": [
    "guides_to_rem = [int(i) for i in '1237650760245641417 3095190000000000040 3095150000000001752  3080810000000003633 3095190000000001438 3080760000000003241 3080780000000001873'.split()]\n",
    "writecat.remove_rows((writecat['Notes']=='Guide')&(np.in1d(writecat['TargetName'], guides_to_rem)))\n",
    "np.sum((writecat['Notes']=='Guide'))"
   ]
  },
  {
   "cell_type": "code",
   "execution_count": null,
   "metadata": {},
   "outputs": [],
   "source": [
    "make_decals_viewer_cutouts(acat[acat['Notes']=='sky'], survey='sdss', ncols=6, \n",
    "                           zoom=16, namecol='TargetName')"
   ]
  },
  {
   "cell_type": "code",
   "execution_count": 67,
   "metadata": {},
   "outputs": [
    {
     "data": {
      "text/plain": [
       "86"
      ]
     },
     "execution_count": 67,
     "metadata": {},
     "output_type": "execute_result"
    }
   ],
   "source": [
    "skys_to_rem = [int(i) for i in '0 1 2 7 9 10 11 14 15 16 18 19 21 22 25 26 29 31 32 33 42 44 46 47 52 54 55 61 64 67  74 76 77 80 83 84 87 88 91 92 97 100 101 104 105 107 108 111 113 115 117 118 120 127 128 130 131 132 134 136 141 145 147 148'.split()]\n",
    "writecat.remove_rows((writecat['Notes']=='Sky')&(np.in1d(writecat['TargetName'], skys_to_rem)))\n",
    "np.sum((writecat['Notes']=='Sky'))"
   ]
  },
  {
   "cell_type": "code",
   "execution_count": 69,
   "metadata": {},
   "outputs": [
    {
     "name": "stdout",
     "output_type": "stream",
     "text": [
      "Writing aat_targets_jun2018/nsa3469_master2.fld\n"
     ]
    }
   ],
   "source": [
    "fnout = 'aat_targets_jun2018/{}_master2.fld'.format(hostname)\n",
    "print('Writing', fnout)\n",
    "write_fld_file(writecat, host, obs_start_date, fnout)"
   ]
  },
  {
   "cell_type": "code",
   "execution_count": 73,
   "metadata": {},
   "outputs": [
    {
     "name": "stdout",
     "output_type": "stream",
     "text": [
      "Total remaining in each priority (5 fluxes, 100 guides, and 86 skies not included):\n",
      "{1: 561, 2: 9, 3: 14, 4: 50, 5: 350, 6: 31, 7: 0, 8: 2, 9: 0}\n",
      "{1: 100.0, 2: 100.0, 3: 100.0, 4: 100.0, 5: 100.0, 6: 100.0, 7: None, 8: 100.0, 9: None}%\n"
     ]
    }
   ],
   "source": [
    "aat.subsample_from_master_fld('aat_targets_jun2018/{}_master2.fld'.format(hostname), \n",
    "                              'aat_targets_jun2018/{}_2.fld'.format(hostname),\n",
    "                             {1:np.inf,2:np.inf,3:np.inf,4:np.inf,\n",
    "                              5:np.inf,6:np.inf,7:np.inf,8:np.inf,9:np.inf},\n",
    "                              nflux=5, nguides=100)"
   ]
  },
  {
   "cell_type": "markdown",
   "metadata": {},
   "source": [
    "## nsa145729 "
   ]
  },
  {
   "cell_type": "code",
   "execution_count": 107,
   "metadata": {},
   "outputs": [
    {
     "name": "stdout",
     "output_type": "stream",
     "text": [
      "[06/12 16:26:44] [WARNING] Not found: des catalog for nsa145729.\n",
      "[06/12 16:26:47] Use SDSS, DECALS to build base catalog v2 for nsa145729 (1/1)\n"
     ]
    },
    {
     "name": "stderr",
     "output_type": "stream",
     "text": [
      "/Users/erik/projects/saga/saga/build/lib/SAGA/objects/build2.py:149: RuntimeWarning: invalid value encountered in true_divide\n",
      "  catalog['radius_err'] = np.hypot(catalog['FRACDEV']**2.0 / catalog['SHAPEDEV_R_IVAR'], (1.0 - catalog['FRACDEV'])**2.0 / catalog['SHAPEEXP_R_IVAR'])\n",
      "/Users/erik/projects/saga/saga/build/lib/SAGA/objects/build2.py:149: RuntimeWarning: divide by zero encountered in true_divide\n",
      "  catalog['radius_err'] = np.hypot(catalog['FRACDEV']**2.0 / catalog['SHAPEDEV_R_IVAR'], (1.0 - catalog['FRACDEV'])**2.0 / catalog['SHAPEEXP_R_IVAR'])\n",
      "WARNING:root:More than one NSA obj near (224.00647544143186, -1.3881621757613183): 171363, 695124\n",
      "/Users/erik/miniconda3/envs/saga3/lib/python3.6/site-packages/astropy/table/column.py:965: RuntimeWarning: invalid value encountered in less\n",
      "  return getattr(self.data, op)(other)\n",
      "/Users/erik/projects/saga/saga/build/lib/SAGA/objects/build2.py:465: RuntimeWarning: divide by zero encountered in true_divide\n",
      "  mag_err = np.fabs((2.5/np.log(10.0))/nsa_sersic_flux/np.sqrt(nsa_obj['SERSIC_FLUX_IVAR']))\n",
      "WARNING:root:More than 25 photo obj within ~ 32.092\" of SDSS spec obj 3255090000000000028 (225.3636447316739, -1.1231123636193607)\n",
      "WARNING:root:No kcorrect module. Stellar mass not calculated!\n"
     ]
    },
    {
     "name": "stdout",
     "output_type": "stream",
     "text": [
      "[06/12 16:27:45] Write base catalog to ./base_catalogs/base_v2_nsa145729.fits.gz\n"
     ]
    }
   ],
   "source": [
    "fieldnum = 2\n",
    "idnum = 145729\n",
    "\n",
    "saga_object_catalog.build_and_write_to_database('NSA{}'.format(idnum), overwrite=fieldnum>1)"
   ]
  },
  {
   "cell_type": "code",
   "execution_count": 109,
   "metadata": {},
   "outputs": [
    {
     "name": "stdout",
     "output_type": "stream",
     "text": [
      "nsa145729\n",
      "# of flux stars = 318\n",
      "# of sky fibers = 100\n",
      "# of Priority=1 targets = 527\n",
      "# of Priority=2 targets = 16\n",
      "# of Priority=3 targets = 14\n",
      "# of Priority=4 targets = 49\n",
      "# of Priority=5 targets = 115\n",
      "# of Priority=6 targets = 45\n",
      "# of Priority=7 targets = 0\n",
      "# of Priority=8 targets = 13\n",
      "# of Priority=9 targets = 418\n",
      "Found 196 SDSS guide stars\n"
     ]
    },
    {
     "name": "stderr",
     "output_type": "stream",
     "text": [
      "/Users/erik/miniconda3/envs/saga3/lib/python3.6/site-packages/astropy/table/column.py:965: RuntimeWarning: invalid value encountered in greater\n",
      "  return getattr(self.data, op)(other)\n",
      "/Users/erik/miniconda3/envs/saga3/lib/python3.6/site-packages/astropy/table/column.py:965: RuntimeWarning: invalid value encountered in less\n",
      "  return getattr(self.data, op)(other)\n"
     ]
    },
    {
     "data": {
      "text/plain": [
       "1393"
      ]
     },
     "execution_count": 109,
     "metadata": {},
     "output_type": "execute_result"
    }
   ],
   "source": [
    "host = targethosts[targethosts['NSAID'] == idnum]\n",
    "assert len(host) == 1\n",
    "host = host[0]\n",
    "\n",
    "hostname = host[host_id_label]\n",
    "print(hostname)\n",
    "tcats[hostname] = tcat = saga_targets.build_target_catalogs(hostname, return_as='list').pop()\n",
    "acats[hostname] = acat = saga.targets.prepare_aat_catalog(tcat, sky_fiber_needed=100)\n",
    "\n",
    "guidestars = get_sdss_guidestars(hostname)\n",
    "writecat = table.vstack([acat, guidestars])\n",
    "writecat['Notes'] = [n.title() for n in writecat['Notes']]\n",
    "len(writecat)"
   ]
  },
  {
   "cell_type": "code",
   "execution_count": null,
   "metadata": {},
   "outputs": [],
   "source": [
    "make_decals_viewer_cutouts(guidestars[np.random.permutation(len(guidestars))], \n",
    "                           survey='sdss',ncols=6,namecol='TargetName')"
   ]
  },
  {
   "cell_type": "code",
   "execution_count": null,
   "metadata": {},
   "outputs": [],
   "source": [
    "make_decals_viewer_cutouts(acat[acat['Notes']=='sky'], survey='sdss', ncols=6, \n",
    "                           zoom=16, namecol='TargetName')"
   ]
  },
  {
   "cell_type": "code",
   "execution_count": 112,
   "metadata": {},
   "outputs": [
    {
     "data": {
      "text/plain": [
       "93"
      ]
     },
     "execution_count": 112,
     "metadata": {},
     "output_type": "execute_result"
    }
   ],
   "source": [
    "skys_to_rem = [int(i) for i in '15 43 61 76 80 93 97'.split()]\n",
    "writecat.remove_rows((writecat['Notes']=='Sky')&(np.in1d(writecat['TargetName'], skys_to_rem)))\n",
    "np.sum((writecat['Notes']=='Sky'))"
   ]
  },
  {
   "cell_type": "code",
   "execution_count": 127,
   "metadata": {},
   "outputs": [
    {
     "name": "stdout",
     "output_type": "stream",
     "text": [
      "Writing aat_targets_jun2018/nsa145729_master2.fld\n",
      "Total remaining in each priority (5 fluxes, 100 guides, and 93 skies not included):\n",
      "{1: 527, 2: 16, 3: 14, 4: 49, 5: 115, 6: 45, 7: 0, 8: 13, 9: 0}\n",
      "{1: 100.0, 2: 100.0, 3: 100.0, 4: 100.0, 5: 100.0, 6: 100.0, 7: None, 8: 100.0, 9: None}%\n",
      "Total targets: 779\n"
     ]
    }
   ],
   "source": [
    "fieldnumornone = '' if fieldnum==1 else fieldnum\n",
    "fnout = 'aat_targets_jun2018/{}_master{}.fld'.format(hostname, fieldnumornone)\n",
    "print('Writing', fnout)\n",
    "write_fld_file(writecat, host, obs_start_date, fnout)\n",
    "\n",
    "fldfn = 'aat_targets_jun2018/{}_{}.fld'.format(hostname, fieldnum)\n",
    "tots = aat.subsample_from_master_fld('aat_targets_jun2018/{}_master{}.fld'.format(hostname, fieldnumornone), fldfn,\n",
    "                                   {1:np.inf,2:np.inf,3:np.inf,4:np.inf,\n",
    "                                    5:np.inf,6:np.inf,7:np.inf,8:np.inf,9:np.inf},\n",
    "                                    nflux=5, nguides=100)\n",
    "print('Total targets:', np.sum(list(tots.values())))"
   ]
  },
  {
   "cell_type": "code",
   "execution_count": 122,
   "metadata": {},
   "outputs": [
    {
     "name": "stdout",
     "output_type": "stream",
     "text": [
      "nsa145729_2.fld                               100%   59KB  59.1KB/s   00:00    \n"
     ]
    }
   ],
   "source": [
    "!scp $fldfn visitor6@aatlxh:~/jun12/"
   ]
  },
  {
   "cell_type": "markdown",
   "metadata": {},
   "source": [
    "## pgc64427 "
   ]
  },
  {
   "cell_type": "code",
   "execution_count": 131,
   "metadata": {},
   "outputs": [
    {
     "name": "stdout",
     "output_type": "stream",
     "text": [
      "[06/12 16:49:03] [WARNING] Not found: sdss catalog for pgc64427.\n",
      "[06/12 16:49:03] [WARNING] Not found: decals catalog for pgc64427.\n",
      "[06/12 16:49:03] Use DES to build base catalog v2 for pgc64427 (1/1)\n"
     ]
    },
    {
     "name": "stderr",
     "output_type": "stream",
     "text": [
      "WARNING:root:No photo obj matched to 6dF spec obj g2016175-524213 (304.0727083333333, -52.70372222222222)\n",
      "WARNING:root:No photo obj matched to 6dF spec obj g2019421-525709 (304.9255833333333, -52.95258333333333)\n",
      "WARNING:root:No photo obj matched to 6dF spec obj g2019408-523631 (304.9200833333333, -52.60869444444444)\n",
      "WARNING:root:No photo obj matched to 6dF spec obj g2019063-523745 (304.77616666666665, -52.629055555555546)\n",
      "WARNING:root:No photo obj matched to 6dF spec obj g2019590-523719 (304.9957083333333, -52.62197222222222)\n",
      "WARNING:root:No photo obj matched to 6dF spec obj g2016291-525540 (304.12133333333327, -52.92788888888888)\n",
      "WARNING:root:No photo obj matched to 6dF spec obj g2019247-524446 (304.85274999999996, -52.746222222222215)\n",
      "WARNING:root:No kcorrect module. Stellar mass not calculated!\n"
     ]
    },
    {
     "name": "stdout",
     "output_type": "stream",
     "text": [
      "[06/12 16:49:23] Write base catalog to ./base_catalogs/base_v2_pgc64427.fits.gz\n"
     ]
    }
   ],
   "source": [
    "fieldnum = 1\n",
    "idnum = 64427\n",
    "\n",
    "saga_object_catalog.build_and_write_to_database('pgc{}'.format(idnum), overwrite=fieldnum>1)"
   ]
  },
  {
   "cell_type": "code",
   "execution_count": 132,
   "metadata": {},
   "outputs": [
    {
     "name": "stdout",
     "output_type": "stream",
     "text": [
      "pgc64427\n",
      "# of flux stars = 622\n",
      "# of sky fibers = 100\n",
      "# of Priority=1 targets = 158\n",
      "# of Priority=2 targets = 230\n",
      "# of Priority=3 targets = 190\n",
      "# of Priority=4 targets = 50\n",
      "# of Priority=5 targets = 125\n",
      "# of Priority=6 targets = 51\n",
      "# of Priority=7 targets = 36\n",
      "# of Priority=8 targets = 9\n",
      "# of Priority=9 targets = 722\n",
      "Object catalog to Gaia offset: (<Angle -0.05738712 arcsec>, <Angle 0.13878442 arcsec>) from 2493 objects (73.6%)\n",
      "Found 348 Gaia guide stars\n",
      "205 Have a brightish neighbor.  Removing them.\n"
     ]
    },
    {
     "data": {
      "text/plain": [
       "1714"
      ]
     },
     "execution_count": 132,
     "metadata": {},
     "output_type": "execute_result"
    }
   ],
   "source": [
    "host = targethosts[targethosts['PGC'] == idnum]\n",
    "assert len(host) == 1\n",
    "host = host[0]\n",
    "\n",
    "hostname = host[host_id_label]\n",
    "print(hostname)\n",
    "tcats[hostname] = tcat = saga_targets.build_target_catalogs(hostname, return_as='list').pop()\n",
    "acats[hostname] = acat = saga.targets.prepare_aat_catalog(tcat, sky_fiber_needed=100)\n",
    "\n",
    "guidestars = get_gaia_guidestars(hostname)\n",
    "writecat = table.vstack([acat, guidestars])\n",
    "writecat['Notes'] = [n.title() for n in writecat['Notes']]\n",
    "len(writecat)"
   ]
  },
  {
   "cell_type": "code",
   "execution_count": null,
   "metadata": {},
   "outputs": [],
   "source": [
    "# only need to remove if something really fishy is going on\n",
    "make_decals_viewer_cutouts(guidestars[np.random.permutation(len(guidestars))[:24]], \n",
    "                           survey='unwise-w1w2',ncols=6,namecol='TargetName')"
   ]
  },
  {
   "cell_type": "code",
   "execution_count": 144,
   "metadata": {},
   "outputs": [
    {
     "name": "stdout",
     "output_type": "stream",
     "text": [
      "Copied to clipboard\n"
     ]
    },
    {
     "data": {
      "text/html": [
       "\n",
       "    Paste the coords in \"Enter values\" at  \n",
       "    <a href=\"https://des.ncsa.illinois.edu/easyweb/cutouts\">the DES cutout service</a>,\n",
       "    and change the size to 0.3 arcmin\n",
       "    "
      ],
      "text/plain": [
       "<IPython.core.display.HTML object>"
      ]
     },
     "execution_count": 144,
     "metadata": {},
     "output_type": "execute_result"
    }
   ],
   "source": [
    "make_des_cutouts_file(acat[acat['Notes']=='sky'])"
   ]
  },
  {
   "cell_type": "code",
   "execution_count": null,
   "metadata": {},
   "outputs": [],
   "source": [
    "show_des_cutouts(acat[acat['Notes']=='sky'], 'c28593d9-3126-46b9-adbf-5ac8deae001c', ncols=8, namecol='TargetName')"
   ]
  },
  {
   "cell_type": "code",
   "execution_count": 148,
   "metadata": {},
   "outputs": [
    {
     "data": {
      "text/plain": [
       "85"
      ]
     },
     "execution_count": 148,
     "metadata": {},
     "output_type": "execute_result"
    }
   ],
   "source": [
    "skys_to_rem = [int(i) for i in '11 12 13 15 28 30 42 48 56 61 73 75 83 88 93'.split()]\n",
    "writecat.remove_rows((writecat['Notes']=='Sky')&(np.in1d(writecat['TargetName'], skys_to_rem)))\n",
    "np.sum((writecat['Notes']=='Sky'))"
   ]
  },
  {
   "cell_type": "code",
   "execution_count": 149,
   "metadata": {},
   "outputs": [
    {
     "name": "stdout",
     "output_type": "stream",
     "text": [
      "Writing aat_targets_jun2018/pgc64427_master.fld\n",
      "Total remaining in each priority (5 fluxes, 100 guides, and 85 skies not included):\n",
      "{1: 158, 2: 230, 3: 190, 4: 50, 5: 125, 6: 51, 7: 36, 8: 9, 9: 0}\n",
      "{1: 100.0, 2: 100.0, 3: 100.0, 4: 100.0, 5: 100.0, 6: 100.0, 7: 100.0, 8: 100.0, 9: None}%\n",
      "Total targets: 849\n"
     ]
    }
   ],
   "source": [
    "fieldnumornone = '' if fieldnum==1 else fieldnum\n",
    "fnout = 'aat_targets_jun2018/{}_master{}.fld'.format(hostname, fieldnumornone)\n",
    "print('Writing', fnout)\n",
    "write_fld_file(writecat, host, obs_start_date, fnout)\n",
    "\n",
    "fldfn = 'aat_targets_jun2018/{}_{}.fld'.format(hostname, fieldnum)\n",
    "tots = aat.subsample_from_master_fld('aat_targets_jun2018/{}_master{}.fld'.format(hostname, fieldnumornone), fldfn,\n",
    "                                   {1:np.inf,2:np.inf,3:np.inf,4:np.inf,\n",
    "                                    5:np.inf,6:np.inf,7:np.inf,8:np.inf,9:np.inf},\n",
    "                                    nflux=5, nguides=100)\n",
    "print('Total targets:', np.sum(list(tots.values())))"
   ]
  },
  {
   "cell_type": "code",
   "execution_count": 150,
   "metadata": {},
   "outputs": [
    {
     "name": "stdout",
     "output_type": "stream",
     "text": [
      "pgc64427_1.fld                                100%   56KB  56.3KB/s   00:00    \n"
     ]
    }
   ],
   "source": [
    "!scp $fldfn visitor6@aatlxh:~/jun12/"
   ]
  },
  {
   "cell_type": "markdown",
   "metadata": {},
   "source": [
    "## pgc67817"
   ]
  },
  {
   "cell_type": "code",
   "execution_count": 151,
   "metadata": {},
   "outputs": [
    {
     "name": "stdout",
     "output_type": "stream",
     "text": [
      "[06/12 17:13:49] [WARNING] Not found: sdss catalog for pgc67817.\n",
      "[06/12 17:13:49] [WARNING] Not found: decals catalog for pgc67817.\n",
      "[06/12 17:13:49] Use DES to build base catalog v2 for pgc67817 (1/1)\n"
     ]
    },
    {
     "name": "stderr",
     "output_type": "stream",
     "text": [
      "WARNING:root:No kcorrect module. Stellar mass not calculated!\n"
     ]
    },
    {
     "name": "stdout",
     "output_type": "stream",
     "text": [
      "[06/12 17:14:15] Write base catalog to ./base_catalogs/base_v2_pgc67817.fits.gz\n"
     ]
    }
   ],
   "source": [
    "fieldnum = 2\n",
    "idnum = 67817\n",
    "\n",
    "saga_object_catalog.build_and_write_to_database('pgc{}'.format(idnum), overwrite=fieldnum>1)"
   ]
  },
  {
   "cell_type": "code",
   "execution_count": 152,
   "metadata": {},
   "outputs": [
    {
     "name": "stdout",
     "output_type": "stream",
     "text": [
      "pgc67817\n",
      "# of flux stars = 242\n",
      "# of sky fibers = 100\n",
      "# of Priority=1 targets = 289\n",
      "# of Priority=2 targets = 104\n",
      "# of Priority=3 targets = 63\n",
      "# of Priority=4 targets = 50\n",
      "# of Priority=5 targets = 115\n",
      "# of Priority=6 targets = 54\n",
      "# of Priority=7 targets = 14\n",
      "# of Priority=8 targets = 16\n",
      "# of Priority=9 targets = 342\n",
      "Object catalog to Gaia offset: (<Angle -0.12210635 arcsec>, <Angle 0.17147205 arcsec>) from 1391 objects (75.2%)\n",
      "Found 162 Gaia guide stars\n",
      "55 Have a brightish neighbor.  Removing them.\n"
     ]
    },
    {
     "data": {
      "text/plain": [
       "1154"
      ]
     },
     "execution_count": 152,
     "metadata": {},
     "output_type": "execute_result"
    }
   ],
   "source": [
    "host = targethosts[targethosts['PGC'] == idnum]\n",
    "assert len(host) == 1\n",
    "host = host[0]\n",
    "\n",
    "hostname = host[host_id_label]\n",
    "print(hostname)\n",
    "tcats[hostname] = tcat = saga_targets.build_target_catalogs(hostname, return_as='list').pop()\n",
    "acats[hostname] = acat = saga.targets.prepare_aat_catalog(tcat, sky_fiber_needed=100)\n",
    "\n",
    "guidestars = get_gaia_guidestars(hostname)\n",
    "writecat = table.vstack([acat, guidestars])\n",
    "writecat['Notes'] = [n.title() for n in writecat['Notes']]\n",
    "len(writecat)"
   ]
  },
  {
   "cell_type": "code",
   "execution_count": null,
   "metadata": {},
   "outputs": [],
   "source": [
    "# only need to remove if something really fishy is going on\n",
    "make_decals_viewer_cutouts(guidestars[np.random.permutation(len(guidestars))[:24]], \n",
    "                           survey='unwise-w1w2',ncols=6,namecol='TargetName')"
   ]
  },
  {
   "cell_type": "code",
   "execution_count": 155,
   "metadata": {},
   "outputs": [
    {
     "name": "stdout",
     "output_type": "stream",
     "text": [
      "Copied to clipboard\n"
     ]
    },
    {
     "data": {
      "text/html": [
       "\n",
       "    Paste the coords in \"Enter values\" at  \n",
       "    <a href=\"https://des.ncsa.illinois.edu/easyweb/cutouts\">the DES cutout service</a>,\n",
       "    and change the size to 0.3 arcmin\n",
       "    "
      ],
      "text/plain": [
       "<IPython.core.display.HTML object>"
      ]
     },
     "execution_count": 155,
     "metadata": {},
     "output_type": "execute_result"
    }
   ],
   "source": [
    "make_des_cutouts_file(acat[acat['Notes']=='sky'])"
   ]
  },
  {
   "cell_type": "code",
   "execution_count": null,
   "metadata": {},
   "outputs": [],
   "source": [
    "show_des_cutouts(acat[acat['Notes']=='sky'], '47e828f4-fd77-470c-9947-2ec849b20dae', ncols=8, namecol='TargetName')"
   ]
  },
  {
   "cell_type": "code",
   "execution_count": 157,
   "metadata": {},
   "outputs": [
    {
     "data": {
      "text/plain": [
       "89"
      ]
     },
     "execution_count": 157,
     "metadata": {},
     "output_type": "execute_result"
    }
   ],
   "source": [
    "skys_to_rem = [int(i) for i in '4 8  32 34 56 58 61 68 76 78  82'.split()]\n",
    "writecat.remove_rows((writecat['Notes']=='Sky')&(np.in1d(writecat['TargetName'], skys_to_rem)))\n",
    "np.sum((writecat['Notes']=='Sky'))"
   ]
  },
  {
   "cell_type": "code",
   "execution_count": 158,
   "metadata": {},
   "outputs": [
    {
     "name": "stdout",
     "output_type": "stream",
     "text": [
      "Writing aat_targets_jun2018/pgc67817_master2.fld\n",
      "Total remaining in each priority (5 fluxes, 100 guides, and 89 skies not included):\n",
      "{1: 289, 2: 104, 3: 63, 4: 50, 5: 115, 6: 54, 7: 14, 8: 16, 9: 0}\n",
      "{1: 100.0, 2: 100.0, 3: 100.0, 4: 100.0, 5: 100.0, 6: 100.0, 7: 100.0, 8: 100.0, 9: None}%\n",
      "Total targets: 705\n"
     ]
    }
   ],
   "source": [
    "fieldnumornone = '' if fieldnum==1 else fieldnum\n",
    "fnout = 'aat_targets_jun2018/{}_master{}.fld'.format(hostname, fieldnumornone)\n",
    "print('Writing', fnout)\n",
    "write_fld_file(writecat, host, obs_start_date, fnout)\n",
    "\n",
    "fldfn = 'aat_targets_jun2018/{}_{}.fld'.format(hostname, fieldnum)\n",
    "tots = aat.subsample_from_master_fld('aat_targets_jun2018/{}_master{}.fld'.format(hostname, fieldnumornone), fldfn,\n",
    "                                   {1:np.inf,2:np.inf,3:np.inf,4:np.inf,\n",
    "                                    5:np.inf,6:np.inf,7:np.inf,8:np.inf,9:np.inf},\n",
    "                                    nflux=5, nguides=100)\n",
    "print('Total targets:', np.sum(list(tots.values())))"
   ]
  },
  {
   "cell_type": "code",
   "execution_count": 159,
   "metadata": {},
   "outputs": [
    {
     "name": "stdout",
     "output_type": "stream",
     "text": [
      "pgc67817_2.fld                                100%   49KB  48.7KB/s   00:00    \n"
     ]
    }
   ],
   "source": [
    "!scp $fldfn visitor6@aatlxh:~/jun12/"
   ]
  },
  {
   "cell_type": "markdown",
   "metadata": {},
   "source": [
    "## pgc2052"
   ]
  },
  {
   "cell_type": "code",
   "execution_count": 160,
   "metadata": {},
   "outputs": [
    {
     "name": "stdout",
     "output_type": "stream",
     "text": [
      "[06/12 19:39:01] [WARNING] Not found: sdss catalog for pgc2052.\n",
      "[06/12 19:39:02] [WARNING] Not found: decals catalog for pgc2052.\n",
      "[06/12 19:39:02] Use DES to build base catalog v2 for pgc2052 (1/1)\n"
     ]
    },
    {
     "name": "stderr",
     "output_type": "stream",
     "text": [
      "WARNING:root:No photo obj matched to 2dF spec obj TGS283Z018 (8.168624999999999, -28.741861111111106)\n",
      "WARNING:root:No photo obj matched to 2dF spec obj TGS205Z051 (7.494333333333333, -28.131388888888885)\n",
      "WARNING:root:No photo obj matched to 2dF spec obj TGS206Z079 (8.541916666666665, -27.79447222222222)\n",
      "WARNING:root:No kcorrect module. Stellar mass not calculated!\n"
     ]
    },
    {
     "name": "stdout",
     "output_type": "stream",
     "text": [
      "[06/12 19:39:37] Write base catalog to ./base_catalogs/base_v2_pgc2052.fits.gz\n"
     ]
    }
   ],
   "source": [
    "fieldnum = 2\n",
    "idnum = 2052\n",
    "\n",
    "saga_object_catalog.build_and_write_to_database('pgc{}'.format(idnum), overwrite=fieldnum>1)"
   ]
  },
  {
   "cell_type": "code",
   "execution_count": 161,
   "metadata": {},
   "outputs": [
    {
     "name": "stdout",
     "output_type": "stream",
     "text": [
      "pgc2052\n",
      "# of flux stars = 70\n",
      "# of sky fibers = 100\n",
      "# of Priority=1 targets = 748\n",
      "# of Priority=2 targets = 12\n",
      "# of Priority=3 targets = 82\n",
      "# of Priority=4 targets = 50\n",
      "# of Priority=5 targets = 502\n",
      "# of Priority=6 targets = 34\n",
      "# of Priority=7 targets = 12\n",
      "# of Priority=8 targets = 4\n",
      "# of Priority=9 targets = 170\n",
      "Object catalog to Gaia offset: (<Angle -0.14253103 arcsec>, <Angle 0.13881317 arcsec>) from 550 objects (61.2%)\n",
      "Found 111 Gaia guide stars\n",
      "30 Have a brightish neighbor.  Removing them.\n"
     ]
    },
    {
     "data": {
      "text/plain": [
       "1695"
      ]
     },
     "execution_count": 161,
     "metadata": {},
     "output_type": "execute_result"
    }
   ],
   "source": [
    "host = targethosts[targethosts['PGC'] == idnum]\n",
    "assert len(host) == 1\n",
    "host = host[0]\n",
    "\n",
    "hostname = host[host_id_label]\n",
    "print(hostname)\n",
    "tcats[hostname] = tcat = saga_targets.build_target_catalogs(hostname, return_as='list').pop()\n",
    "acats[hostname] = acat = saga.targets.prepare_aat_catalog(tcat, sky_fiber_needed=100)\n",
    "\n",
    "guidestars = get_gaia_guidestars(hostname)\n",
    "writecat = table.vstack([acat, guidestars])\n",
    "writecat['Notes'] = [n.title() for n in writecat['Notes']]\n",
    "len(writecat)"
   ]
  },
  {
   "cell_type": "code",
   "execution_count": null,
   "metadata": {},
   "outputs": [],
   "source": [
    "# only need to remove if something really fishy is going on\n",
    "make_decals_viewer_cutouts(guidestars[np.random.permutation(len(guidestars))[:24]], \n",
    "                           survey='unwise-w1w2',ncols=6,namecol='TargetName')"
   ]
  },
  {
   "cell_type": "code",
   "execution_count": 164,
   "metadata": {},
   "outputs": [
    {
     "name": "stdout",
     "output_type": "stream",
     "text": [
      "Copied to clipboard\n"
     ]
    },
    {
     "data": {
      "text/html": [
       "\n",
       "    Paste the coords in \"Enter values\" at  \n",
       "    <a href=\"https://des.ncsa.illinois.edu/easyweb/cutouts\">the DES cutout service</a>,\n",
       "    and change the size to 0.3 arcmin\n",
       "    "
      ],
      "text/plain": [
       "<IPython.core.display.HTML object>"
      ]
     },
     "execution_count": 164,
     "metadata": {},
     "output_type": "execute_result"
    }
   ],
   "source": [
    "make_des_cutouts_file(acat[acat['Notes']=='sky'])"
   ]
  },
  {
   "cell_type": "code",
   "execution_count": null,
   "metadata": {},
   "outputs": [],
   "source": [
    "show_des_cutouts(acat[acat['Notes']=='sky'], '72daf723-2244-4d85-83aa-470a24079c40', ncols=8, namecol='TargetName')"
   ]
  },
  {
   "cell_type": "code",
   "execution_count": 166,
   "metadata": {},
   "outputs": [
    {
     "data": {
      "text/plain": [
       "92"
      ]
     },
     "execution_count": 166,
     "metadata": {},
     "output_type": "execute_result"
    }
   ],
   "source": [
    "skys_to_rem = [int(i) for i in '0 1 5 28 36 44 51 88'.split()]\n",
    "writecat.remove_rows((writecat['Notes']=='Sky')&(np.in1d(writecat['TargetName'], skys_to_rem)))\n",
    "np.sum((writecat['Notes']=='Sky'))"
   ]
  },
  {
   "cell_type": "code",
   "execution_count": 170,
   "metadata": {},
   "outputs": [
    {
     "name": "stdout",
     "output_type": "stream",
     "text": [
      "Writing aat_targets_jun2018/pgc2052_master2.fld\n",
      "Total remaining in each priority (5 fluxes, 81 guides, and 92 skies not included):\n",
      "{1: 748, 2: 12, 3: 82, 4: 50, 5: 502, 6: 34, 7: 12, 8: 4, 9: 0}\n",
      "{1: 100.0, 2: 100.0, 3: 100.0, 4: 100.0, 5: 100.0, 6: 100.0, 7: 100.0, 8: 100.0, 9: None}%\n",
      "Total targets: 1444\n"
     ]
    }
   ],
   "source": [
    "fieldnumornone = '' if fieldnum==1 else fieldnum\n",
    "fnout = 'aat_targets_jun2018/{}_master{}.fld'.format(hostname, fieldnumornone)\n",
    "print('Writing', fnout)\n",
    "write_fld_file(writecat, host, obs_start_date, fnout)\n",
    "\n",
    "fldfn = 'aat_targets_jun2018/{}_{}.fld'.format(hostname, fieldnum)\n",
    "tots = aat.subsample_from_master_fld('aat_targets_jun2018/{}_master{}.fld'.format(hostname, fieldnumornone), fldfn,\n",
    "                                   {1:0,2:np.inf,3:np.inf,4:np.inf,\n",
    "                                    5:np.inf,6:np.inf,7:np.inf,8:np.inf,9:np.inf},\n",
    "                                    nflux=5, nguides=100)\n",
    "print('Total targets:', np.sum(list(tots.values())))"
   ]
  },
  {
   "cell_type": "code",
   "execution_count": 171,
   "metadata": {},
   "outputs": [
    {
     "name": "stdout",
     "output_type": "stream",
     "text": [
      "pgc2052_2.fld                                 100%   46KB  46.3KB/s   00:00    \n"
     ]
    }
   ],
   "source": [
    "!scp $fldfn visitor6@aatlxh:~/jun12/"
   ]
  },
  {
   "cell_type": "markdown",
   "metadata": {},
   "source": [
    "# Night 4 "
   ]
  },
  {
   "cell_type": "markdown",
   "metadata": {},
   "source": [
    "## nsa141465_2 "
   ]
  },
  {
   "cell_type": "code",
   "execution_count": 173,
   "metadata": {},
   "outputs": [
    {
     "name": "stdout",
     "output_type": "stream",
     "text": [
      "[06/12 23:54:14] [WARNING] Not found: des catalog for nsa141465.\n",
      "[06/12 23:54:17] Use SDSS, DECALS to build base catalog v2 for nsa141465 (1/1)\n"
     ]
    },
    {
     "name": "stderr",
     "output_type": "stream",
     "text": [
      "/Users/erik/projects/saga/saga/build/lib/SAGA/objects/build2.py:149: RuntimeWarning: invalid value encountered in true_divide\n",
      "  catalog['radius_err'] = np.hypot(catalog['FRACDEV']**2.0 / catalog['SHAPEDEV_R_IVAR'], (1.0 - catalog['FRACDEV'])**2.0 / catalog['SHAPEEXP_R_IVAR'])\n",
      "/Users/erik/projects/saga/saga/build/lib/SAGA/objects/build2.py:149: RuntimeWarning: divide by zero encountered in true_divide\n",
      "  catalog['radius_err'] = np.hypot(catalog['FRACDEV']**2.0 / catalog['SHAPEDEV_R_IVAR'], (1.0 - catalog['FRACDEV'])**2.0 / catalog['SHAPEEXP_R_IVAR'])\n",
      "WARNING:root:No photo obj matched to 2dF spec obj TGN183Z204 (187.11629166666665, -2.531083333333333)\n",
      "WARNING:root:No photo obj matched to 2dF spec obj TGN183Z162 (187.61149999999998, -1.8851944444444442)\n",
      "WARNING:root:No photo obj matched to 6dF spec obj g1226240-011236 (186.59999999999997, -1.2098888888888888)\n",
      "WARNING:root:No photo obj matched to 2dF spec obj TGN183Z195 (187.25766666666664, -2.275333333333333)\n",
      "WARNING:root:No photo obj matched to NSA spec obj 668184 (187.57796500067806, -1.868657280400001)\n",
      "WARNING:root:No photo obj matched to 2dF spec obj TGN183Z247 (186.67587499999996, -2.518944444444444)\n",
      "WARNING:root:No photo obj matched to AAT spec obj 305 (187.24151882894228, -1.6030213192170173)\n",
      "WARNING:root:No photo obj matched to NSA spec obj 668041 (187.29088089953234, -2.4325436585828393)\n",
      "WARNING:root:No photo obj matched to 2dF spec obj TGN183Z264 (186.3480833333333, -2.024944444444444)\n",
      "/Users/erik/miniconda3/envs/saga3/lib/python3.6/site-packages/astropy/table/column.py:965: RuntimeWarning: invalid value encountered in less\n",
      "  return getattr(self.data, op)(other)\n",
      "WARNING:root:No kcorrect module. Stellar mass not calculated!\n"
     ]
    },
    {
     "name": "stdout",
     "output_type": "stream",
     "text": [
      "[06/12 23:55:05] Write base catalog to ./base_catalogs/base_v2_nsa141465.fits.gz\n"
     ]
    }
   ],
   "source": [
    "fieldnum = 2\n",
    "idnum = 141465\n",
    "\n",
    "saga_object_catalog.build_and_write_to_database('NSA{}'.format(idnum), overwrite=fieldnum>1)"
   ]
  },
  {
   "cell_type": "code",
   "execution_count": 174,
   "metadata": {},
   "outputs": [
    {
     "name": "stdout",
     "output_type": "stream",
     "text": [
      "nsa141465\n",
      "# of flux stars = 129\n",
      "# of sky fibers = 100\n",
      "# of Priority=1 targets = 286\n",
      "# of Priority=2 targets = 4\n",
      "# of Priority=3 targets = 6\n",
      "# of Priority=4 targets = 49\n",
      "# of Priority=5 targets = 60\n",
      "# of Priority=6 targets = 15\n",
      "# of Priority=7 targets = 1\n",
      "# of Priority=8 targets = 10\n",
      "# of Priority=9 targets = 229\n",
      "Found 190 SDSS guide stars\n"
     ]
    },
    {
     "name": "stderr",
     "output_type": "stream",
     "text": [
      "/Users/erik/miniconda3/envs/saga3/lib/python3.6/site-packages/astropy/table/column.py:965: RuntimeWarning: invalid value encountered in greater\n",
      "  return getattr(self.data, op)(other)\n",
      "/Users/erik/miniconda3/envs/saga3/lib/python3.6/site-packages/astropy/table/column.py:965: RuntimeWarning: invalid value encountered in less\n",
      "  return getattr(self.data, op)(other)\n"
     ]
    },
    {
     "data": {
      "text/plain": [
       "850"
      ]
     },
     "execution_count": 174,
     "metadata": {},
     "output_type": "execute_result"
    }
   ],
   "source": [
    "host = targethosts[targethosts['NSAID'] == idnum]\n",
    "assert len(host) == 1\n",
    "host = host[0]\n",
    "\n",
    "hostname = host[host_id_label]\n",
    "print(hostname)\n",
    "tcats[hostname] = tcat = saga_targets.build_target_catalogs(hostname, return_as='list').pop()\n",
    "acats[hostname] = acat = saga.targets.prepare_aat_catalog(tcat, sky_fiber_needed=100)\n",
    "\n",
    "guidestars = get_sdss_guidestars(hostname)\n",
    "writecat = table.vstack([acat, guidestars])\n",
    "writecat['Notes'] = [n.title() for n in writecat['Notes']]\n",
    "len(writecat)"
   ]
  },
  {
   "cell_type": "code",
   "execution_count": null,
   "metadata": {},
   "outputs": [],
   "source": [
    "make_decals_viewer_cutouts(guidestars[np.random.permutation(len(guidestars))], \n",
    "                           survey='sdss',ncols=6,namecol='TargetName')"
   ]
  },
  {
   "cell_type": "code",
   "execution_count": 177,
   "metadata": {},
   "outputs": [
    {
     "data": {
      "text/plain": [
       "184"
      ]
     },
     "execution_count": 177,
     "metadata": {},
     "output_type": "execute_result"
    }
   ],
   "source": [
    "guides_to_rem = [int(i) for i in '1237650372095836214  1237650762930913292 1237650762930913293 1237648702968102985 1237650762930782213 1237650762930978838'.split()]\n",
    "writecat.remove_rows((writecat['Notes']=='Guide')&(np.in1d(writecat['TargetName'], guides_to_rem)))\n",
    "np.sum((writecat['Notes']=='Guide'))"
   ]
  },
  {
   "cell_type": "code",
   "execution_count": null,
   "metadata": {},
   "outputs": [],
   "source": [
    "make_decals_viewer_cutouts(acat[acat['Notes']=='sky'], survey='sdss', ncols=6, \n",
    "                           zoom=16, namecol='TargetName')"
   ]
  },
  {
   "cell_type": "code",
   "execution_count": 179,
   "metadata": {},
   "outputs": [
    {
     "data": {
      "text/plain": [
       "99"
      ]
     },
     "execution_count": 179,
     "metadata": {},
     "output_type": "execute_result"
    }
   ],
   "source": [
    "skys_to_rem = [int(i) for i in '16'.split()]\n",
    "writecat.remove_rows((writecat['Notes']=='Sky')&(np.in1d(writecat['TargetName'], skys_to_rem)))\n",
    "np.sum((writecat['Notes']=='Sky'))"
   ]
  },
  {
   "cell_type": "code",
   "execution_count": 251,
   "metadata": {},
   "outputs": [
    {
     "name": "stdout",
     "output_type": "stream",
     "text": [
      "Nflux: 5 Nguide: 100 NSky 99\n",
      "Targets in each priority: {1: 286, 2: 4, 3: 6, 4: 49, 5: 60, 6: 15, 7: 1, 8: 10}\n",
      "Total: 635\n",
      "Writing aat_targets_jun2018/nsa141465_2.fld\n"
     ]
    },
    {
     "data": {
      "text/plain": [
       "431"
      ]
     },
     "execution_count": 251,
     "metadata": {},
     "output_type": "execute_result"
    }
   ],
   "source": [
    "subsampledcat = subsample_catalog(writecat, {1:np.inf}, maxflux=5, maxguides=100)\n",
    "\n",
    "fldfn = 'aat_targets_jun2018/{}_{}.fld'.format(hostname, fieldnum)\n",
    "print('Writing', fldfn)\n",
    "write_fld_file(subsampledcat, host, obs_start_date, fldfn)\n",
    "np.sum(subsampledcat['Notes'] == 'Targets')"
   ]
  },
  {
   "cell_type": "code",
   "execution_count": 252,
   "metadata": {},
   "outputs": [
    {
     "name": "stdout",
     "output_type": "stream",
     "text": [
      "nsa141465_2.fld                               100%   38KB  37.6KB/s   00:00    \n"
     ]
    }
   ],
   "source": [
    "!scp $fldfn visitor6@aatlxh:~/jun13/"
   ]
  },
  {
   "cell_type": "markdown",
   "metadata": {},
   "source": [
    "## NSA145879_2"
   ]
  },
  {
   "cell_type": "code",
   "execution_count": 253,
   "metadata": {},
   "outputs": [
    {
     "name": "stdout",
     "output_type": "stream",
     "text": [
      "[06/13 03:16:38] [WARNING] Not found: des catalog for nsa145879.\n",
      "[06/13 03:16:42] Use SDSS, DECALS to build base catalog v2 for nsa145879 (1/1)\n"
     ]
    },
    {
     "name": "stderr",
     "output_type": "stream",
     "text": [
      "/Users/erik/projects/saga/saga/build/lib/SAGA/objects/build2.py:149: RuntimeWarning: invalid value encountered in true_divide\n",
      "  catalog['radius_err'] = np.hypot(catalog['FRACDEV']**2.0 / catalog['SHAPEDEV_R_IVAR'], (1.0 - catalog['FRACDEV'])**2.0 / catalog['SHAPEEXP_R_IVAR'])\n",
      "/Users/erik/projects/saga/saga/build/lib/SAGA/objects/build2.py:149: RuntimeWarning: divide by zero encountered in true_divide\n",
      "  catalog['radius_err'] = np.hypot(catalog['FRACDEV']**2.0 / catalog['SHAPEDEV_R_IVAR'], (1.0 - catalog['FRACDEV'])**2.0 / catalog['SHAPEEXP_R_IVAR'])\n",
      "WARNING:root:More than one NSA obj near (226.56582256253586, 0.22022054071609057): 632385, 15439\n",
      "/Users/erik/miniconda3/envs/saga3/lib/python3.6/site-packages/astropy/table/column.py:965: RuntimeWarning: invalid value encountered in less\n",
      "  return getattr(self.data, op)(other)\n",
      "WARNING:root:More than 25 photo obj within ~ 24.889\" of SDSS spec obj 3312750000000003298 (226.90639711463885, 0.040103571412928606)\n",
      "WARNING:root:More than 25 photo obj within ~ 36.841\" of SDSS spec obj 3312780000000006256 (227.70834840276265, 0.07390348878523115)\n",
      "WARNING:root:No kcorrect module. Stellar mass not calculated!\n"
     ]
    },
    {
     "name": "stdout",
     "output_type": "stream",
     "text": [
      "[06/13 03:17:43] Write base catalog to ./base_catalogs/base_v2_nsa145879.fits.gz\n"
     ]
    }
   ],
   "source": [
    "idnum = 145879\n",
    "fieldnum = 2\n",
    "\n",
    "saga_object_catalog.build_and_write_to_database('NSA{}'.format(idnum), overwrite=fieldnum>1)"
   ]
  },
  {
   "cell_type": "code",
   "execution_count": 254,
   "metadata": {},
   "outputs": [
    {
     "name": "stdout",
     "output_type": "stream",
     "text": [
      "nsa145879\n"
     ]
    },
    {
     "name": "stderr",
     "output_type": "stream",
     "text": [
      "/Users/erik/projects/saga/saga/build/lib/SAGA/objects/object_catalog.py:54: RuntimeWarning: invalid value encountered in subtract\n",
      "  table[color] = table['{}_mag'.format(color[0])] - table['{}_mag'.format(color[1])]\n"
     ]
    },
    {
     "name": "stdout",
     "output_type": "stream",
     "text": [
      "# of flux stars = 285\n",
      "# of sky fibers = 100\n",
      "# of Priority=1 targets = 696\n",
      "# of Priority=2 targets = 32\n",
      "# of Priority=3 targets = 35\n",
      "# of Priority=4 targets = 50\n",
      "# of Priority=5 targets = 372\n",
      "# of Priority=6 targets = 25\n",
      "# of Priority=7 targets = 0\n",
      "# of Priority=8 targets = 5\n",
      "# of Priority=9 targets = 385\n",
      "Found 278 SDSS guide stars\n"
     ]
    },
    {
     "name": "stderr",
     "output_type": "stream",
     "text": [
      "/Users/erik/miniconda3/envs/saga3/lib/python3.6/site-packages/astropy/table/column.py:965: RuntimeWarning: invalid value encountered in greater\n",
      "  return getattr(self.data, op)(other)\n",
      "/Users/erik/miniconda3/envs/saga3/lib/python3.6/site-packages/astropy/table/column.py:965: RuntimeWarning: invalid value encountered in less\n",
      "  return getattr(self.data, op)(other)\n"
     ]
    },
    {
     "data": {
      "text/plain": [
       "1878"
      ]
     },
     "execution_count": 254,
     "metadata": {},
     "output_type": "execute_result"
    }
   ],
   "source": [
    "host = targethosts[targethosts['NSAID'] == idnum]\n",
    "assert len(host) == 1\n",
    "host = host[0]\n",
    "\n",
    "hostname = host[host_id_label]\n",
    "print(hostname)\n",
    "tcats[hostname] = tcat = saga_targets.build_target_catalogs(hostname, return_as='list').pop()\n",
    "acats[hostname] = acat = saga.targets.prepare_aat_catalog(tcat, sky_fiber_needed=100)\n",
    "\n",
    "guidestars = get_sdss_guidestars(hostname)\n",
    "writecat = table.vstack([acat, guidestars])\n",
    "writecat['Notes'] = [n.title() for n in writecat['Notes']]\n",
    "len(writecat)"
   ]
  },
  {
   "cell_type": "code",
   "execution_count": null,
   "metadata": {},
   "outputs": [],
   "source": [
    "make_decals_viewer_cutouts(guidestars[np.random.permutation(len(guidestars))], \n",
    "                           survey='sdss',ncols=6,namecol='TargetName')"
   ]
  },
  {
   "cell_type": "code",
   "execution_count": 256,
   "metadata": {},
   "outputs": [
    {
     "data": {
      "text/plain": [
       "267"
      ]
     },
     "execution_count": 256,
     "metadata": {},
     "output_type": "execute_result"
    }
   ],
   "source": [
    "guides_to_rem = [int(i) for i in '1237651735777640504 1237651735777706099 1237648722325471438 1237648705669824675 1237648705669824694 1237648705669824621 1237648704596082789 1237648704596082818 1237648721251664029 1237655467525144674 1237655467524620357 '.split()]\n",
    "writecat.remove_rows((writecat['Notes']=='Guide')&(np.in1d(writecat['TargetName'], guides_to_rem)))\n",
    "np.sum((writecat['Notes']=='Guide'))"
   ]
  },
  {
   "cell_type": "code",
   "execution_count": null,
   "metadata": {},
   "outputs": [],
   "source": [
    "make_decals_viewer_cutouts(acat[acat['Notes']=='sky'], survey='sdss', ncols=6, \n",
    "                           zoom=16, namecol='TargetName')"
   ]
  },
  {
   "cell_type": "code",
   "execution_count": 258,
   "metadata": {},
   "outputs": [
    {
     "data": {
      "text/plain": [
       "94"
      ]
     },
     "execution_count": 258,
     "metadata": {},
     "output_type": "execute_result"
    }
   ],
   "source": [
    "skys_to_rem = [int(i) for i in '41 53 54 66 70 88'.split()]\n",
    "writecat.remove_rows((writecat['Notes']=='Sky')&(np.in1d(writecat['TargetName'], skys_to_rem)))\n",
    "np.sum((writecat['Notes']=='Sky'))"
   ]
  },
  {
   "cell_type": "code",
   "execution_count": 259,
   "metadata": {},
   "outputs": [
    {
     "name": "stdout",
     "output_type": "stream",
     "text": [
      "Nflux: 5 Nguide: 100 NSky 94\n",
      "Targets in each priority: {1: 696, 2: 32, 3: 35, 4: 50, 5: 372, 6: 25, 8: 5}\n",
      "Total: 1414\n",
      "Writing aat_targets_jun2018/nsa145879_2.fld\n"
     ]
    },
    {
     "data": {
      "text/plain": [
       "1215"
      ]
     },
     "execution_count": 259,
     "metadata": {},
     "output_type": "execute_result"
    }
   ],
   "source": [
    "subsampledcat = subsample_catalog(writecat, {1:np.inf}, maxflux=5, maxguides=100)\n",
    "\n",
    "fldfn = 'aat_targets_jun2018/{}_{}.fld'.format(hostname, fieldnum)\n",
    "print('Writing', fldfn)\n",
    "write_fld_file(subsampledcat, host, obs_start_date, fldfn)\n",
    "np.sum(subsampledcat['Notes'] == 'Targets')"
   ]
  },
  {
   "cell_type": "code",
   "execution_count": 260,
   "metadata": {},
   "outputs": [
    {
     "name": "stdout",
     "output_type": "stream",
     "text": [
      "nsa145879_2.fld                               100%   85KB  85.1KB/s   00:00    \n"
     ]
    }
   ],
   "source": [
    "!scp $fldfn visitor6@aatlxh:~/jun13/"
   ]
  },
  {
   "cell_type": "markdown",
   "metadata": {},
   "source": [
    "Some quirks in the guide field need looking at..."
   ]
  },
  {
   "cell_type": "code",
   "execution_count": 63,
   "metadata": {},
   "outputs": [],
   "source": [
    "import aat"
   ]
  },
  {
   "cell_type": "code",
   "execution_count": 87,
   "metadata": {},
   "outputs": [
    {
     "data": {
      "text/html": [
       "<i>Table length=8</i>\n",
       "<table id=\"table90499922856\" class=\"table-striped table-bordered table-condensed\">\n",
       "<thead><tr><th>fibnums</th><th>ids</th><th>ras</th><th>decs</th><th>codes</th><th>pris</th><th>mags</th><th>comments</th><th>ra</th><th>dec</th></tr></thead>\n",
       "<thead><tr><th></th><th></th><th></th><th></th><th></th><th></th><th></th><th></th><th>deg</th><th>deg</th></tr></thead>\n",
       "<thead><tr><th>int64</th><th>str19</th><th>str12</th><th>str12</th><th>str1</th><th>int64</th><th>float64</th><th>str7</th><th>float64</th><th>float64</th></tr></thead>\n",
       "<tr><td>50</td><td>1237648721251729548</td><td>15:12:00.140</td><td>-00:05:15.37</td><td>F</td><td>9</td><td>13.87</td><td>Guide</td><td>228.0005833333333</td><td>-0.08760277777777778</td></tr>\n",
       "<tr><td>100</td><td>1237648704059473995</td><td>15:09:33.850</td><td>-00:19:19.89</td><td>F</td><td>9</td><td>13.67</td><td>Guide</td><td>227.39104166666664</td><td>-0.32219166666666665</td></tr>\n",
       "<tr><td>150</td><td>1237648721251401748</td><td>15:08:32.460</td><td>-00:00:50.93</td><td>F</td><td>9</td><td>12.51</td><td>Guide</td><td>227.13524999999996</td><td>-0.014147222222222222</td></tr>\n",
       "<tr><td>200</td><td>1237648705132888078</td><td>15:06:19.120</td><td>+00:27:09.91</td><td>F</td><td>9</td><td>13.55</td><td>Guide</td><td>226.5796666666666</td><td>0.4527527777777778</td></tr>\n",
       "<tr><td>250</td><td>1237655468061360135</td><td>15:07:08.000</td><td>+01:07:13.11</td><td>F</td><td>9</td><td>12.64</td><td>Guide</td><td>226.78333333333333</td><td>1.1203083333333335</td></tr>\n",
       "<tr><td>300</td><td>1237651735777771571</td><td>15:10:07.380</td><td>+01:19:26.51</td><td>F</td><td>9</td><td>13.79</td><td>Guide</td><td>227.53074999999998</td><td>1.3240305555555556</td></tr>\n",
       "<tr><td>350</td><td>1237655468061884603</td><td>15:12:23.100</td><td>+01:08:30.00</td><td>F</td><td>9</td><td>13.35</td><td>Guide</td><td>228.09624999999997</td><td>1.1416666666666666</td></tr>\n",
       "<tr><td>400</td><td>1237648705133674572</td><td>15:13:46.230</td><td>+00:26:59.40</td><td>F</td><td>9</td><td>13.7</td><td>Guide</td><td>228.44262499999996</td><td>0.44983333333333336</td></tr>\n",
       "</table>"
      ],
      "text/plain": [
       "<Table length=8>\n",
       "fibnums         ids         ...         ra                  dec         \n",
       "                            ...        deg                  deg         \n",
       " int64         str19        ...      float64              float64       \n",
       "------- ------------------- ... ------------------ ---------------------\n",
       "     50 1237648721251729548 ...  228.0005833333333  -0.08760277777777778\n",
       "    100 1237648704059473995 ... 227.39104166666664  -0.32219166666666665\n",
       "    150 1237648721251401748 ... 227.13524999999996 -0.014147222222222222\n",
       "    200 1237648705132888078 ...  226.5796666666666    0.4527527777777778\n",
       "    250 1237655468061360135 ... 226.78333333333333    1.1203083333333335\n",
       "    300 1237651735777771571 ... 227.53074999999998    1.3240305555555556\n",
       "    350 1237655468061884603 ... 228.09624999999997    1.1416666666666666\n",
       "    400 1237648705133674572 ... 228.44262499999996   0.44983333333333336"
      ]
     },
     "execution_count": 87,
     "metadata": {},
     "output_type": "execute_result"
    }
   ],
   "source": [
    "listab = aat.load_lis_file('aat_targets_jun2018/nsa145879_2_p1.lis')[0]\n",
    "listab['ra'] = Angle(listab['ras'], u.hourangle).to(u.deg)\n",
    "listab['dec'] = Angle(listab['decs'], u.deg)\n",
    "listab[listab['comments']=='Guide']"
   ]
  },
  {
   "cell_type": "code",
   "execution_count": 98,
   "metadata": {},
   "outputs": [
    {
     "data": {
      "text/html": [
       "\n",
       "    <table>\n",
       "    <tr><td>50<br><a href=\"http://legacysurvey.org/viewer?ra=228.0005833333333&dec=-0.08760277777777778\"><img src=\"http://legacysurvey.org/viewer/jpeg-cutout/?ra=228.0006&dec=-0.08760278&zoom=15&layer=unwise-w1w2&size=120\"></a></td><td>100<br><a href=\"http://legacysurvey.org/viewer?ra=227.39104166666664&dec=-0.32219166666666665\"><img src=\"http://legacysurvey.org/viewer/jpeg-cutout/?ra=227.391&dec=-0.3221917&zoom=15&layer=unwise-w1w2&size=120\"></a></td><td>150<br><a href=\"http://legacysurvey.org/viewer?ra=227.13524999999996&dec=-0.014147222222222222\"><img src=\"http://legacysurvey.org/viewer/jpeg-cutout/?ra=227.1352&dec=-0.01414722&zoom=15&layer=unwise-w1w2&size=120\"></a></td><td>200<br><a href=\"http://legacysurvey.org/viewer?ra=226.5796666666666&dec=0.4527527777777778\"><img src=\"http://legacysurvey.org/viewer/jpeg-cutout/?ra=226.5797&dec=0.4527528&zoom=15&layer=unwise-w1w2&size=120\"></a></td></tr>\n",
       "<tr><td>250<br><a href=\"http://legacysurvey.org/viewer?ra=226.78333333333333&dec=1.1203083333333335\"><img src=\"http://legacysurvey.org/viewer/jpeg-cutout/?ra=226.7833&dec=1.120308&zoom=15&layer=unwise-w1w2&size=120\"></a></td><td>300<br><a href=\"http://legacysurvey.org/viewer?ra=227.53074999999998&dec=1.3240305555555556\"><img src=\"http://legacysurvey.org/viewer/jpeg-cutout/?ra=227.5307&dec=1.324031&zoom=15&layer=unwise-w1w2&size=120\"></a></td><td>350<br><a href=\"http://legacysurvey.org/viewer?ra=228.09624999999997&dec=1.1416666666666666\"><img src=\"http://legacysurvey.org/viewer/jpeg-cutout/?ra=228.0962&dec=1.141667&zoom=15&layer=unwise-w1w2&size=120\"></a></td><td>400<br><a href=\"http://legacysurvey.org/viewer?ra=228.44262499999996&dec=0.44983333333333336\"><img src=\"http://legacysurvey.org/viewer/jpeg-cutout/?ra=228.4426&dec=0.4498333&zoom=15&layer=unwise-w1w2&size=120\"></a></td></tr>\n",
       "    </table>\n",
       "    "
      ],
      "text/plain": [
       "<IPython.core.display.HTML object>"
      ]
     },
     "execution_count": 98,
     "metadata": {},
     "output_type": "execute_result"
    }
   ],
   "source": [
    "make_decals_viewer_cutouts(listab[listab['comments']=='Guide'], \n",
    "                           survey='unwise-w1w2',ncols=4,namecol='fibnums')"
   ]
  },
  {
   "cell_type": "markdown",
   "metadata": {},
   "source": [
    "## PGC66318_2"
   ]
  },
  {
   "cell_type": "code",
   "execution_count": 17,
   "metadata": {},
   "outputs": [
    {
     "name": "stdout",
     "output_type": "stream",
     "text": [
      "Downloading https://docs.google.com/spreadsheets/d/1Y3nO7VyU4jDiBPawCs8wJQt2s_PIAKRj-HSrmcWeQZo/export?format=csv&gid=1379081675 [Done]\n",
      "Downloading https://docs.google.com/spreadsheets/d/1Y3nO7VyU4jDiBPawCs8wJQt2s_PIAKRj-HSrmcWeQZo/export?format=csv&gid=286645731 [Done]\n",
      "[06/13 17:24:30] [WARNING] Not found: sdss catalog for pgc66318.\n",
      "[06/13 17:24:30] [WARNING] Not found: decals catalog for pgc66318.\n",
      "[06/13 17:24:30] Use DES to build base catalog v2 for pgc66318 (1/1)\n"
     ]
    },
    {
     "name": "stderr",
     "output_type": "stream",
     "text": [
      "WARNING:root:More than 25 photo obj within ~ 47.653\" of 2dF spec obj 188059282 (318.005664492259, -49.2750086588343)\n",
      "WARNING:root:No kcorrect module. Stellar mass not calculated!\n"
     ]
    },
    {
     "name": "stdout",
     "output_type": "stream",
     "text": [
      "[06/13 17:25:11] Write base catalog to ./base_catalogs/base_v2_pgc66318.fits.gz\n"
     ]
    }
   ],
   "source": [
    "idnum = 66318\n",
    "fieldnum = 2\n",
    "\n",
    "saga_object_catalog.build_and_write_to_database('pgc{}'.format(idnum), overwrite=fieldnum>1)"
   ]
  },
  {
   "cell_type": "code",
   "execution_count": 18,
   "metadata": {},
   "outputs": [
    {
     "name": "stdout",
     "output_type": "stream",
     "text": [
      "pgc66318\n",
      "# of flux stars = 431\n",
      "# of sky fibers = 100\n",
      "# of Priority=1 targets = 177\n",
      "# of Priority=2 targets = 77\n",
      "# of Priority=3 targets = 53\n",
      "# of Priority=4 targets = 50\n",
      "# of Priority=5 targets = 50\n",
      "# of Priority=6 targets = 11\n",
      "# of Priority=7 targets = 4\n",
      "# of Priority=8 targets = 5\n",
      "# of Priority=9 targets = 531\n",
      "Object catalog to Gaia offset: (<Angle -0.11968757 arcsec>, <Angle 0.14139283 arcsec>) from 1884 objects (73.3%)\n",
      "Found 234 Gaia guide stars\n",
      "83 Have a brightish neighbor.  Removing them.\n"
     ]
    },
    {
     "data": {
      "text/plain": [
       "1109"
      ]
     },
     "execution_count": 18,
     "metadata": {},
     "output_type": "execute_result"
    }
   ],
   "source": [
    "host = targethosts[targethosts['PGC'] == idnum]\n",
    "assert len(host) == 1\n",
    "host = host[0]\n",
    "\n",
    "hostname = host[host_id_label]\n",
    "print(hostname)\n",
    "tcats[hostname] = tcat = saga_targets.build_target_catalogs(hostname, return_as='list').pop()\n",
    "acats[hostname] = acat = saga.targets.prepare_aat_catalog(tcat, sky_fiber_needed=100)\n",
    "\n",
    "guidestars = get_gaia_guidestars(hostname)\n",
    "writecat = table.vstack([acat, guidestars])\n",
    "writecat['Notes'] = [n.title() for n in writecat['Notes']]\n",
    "len(writecat)"
   ]
  },
  {
   "cell_type": "code",
   "execution_count": 19,
   "metadata": {},
   "outputs": [
    {
     "data": {
      "text/html": [
       "\n",
       "    <table>\n",
       "    <tr><td>6479712465353284864<br><a href=\"http://legacysurvey.org/viewer?ra=317.2711247774964&dec=-48.67705458552401\"><img src=\"http://legacysurvey.org/viewer/jpeg-cutout/?ra=317.2711&dec=-48.67705&zoom=15&layer=unwise-w1w2&size=120\"></a></td><td>6478805200757100928<br><a href=\"http://legacysurvey.org/viewer?ra=316.82586846602914&dec=-49.646004391809804\"><img src=\"http://legacysurvey.org/viewer/jpeg-cutout/?ra=316.8259&dec=-49.646&zoom=15&layer=unwise-w1w2&size=120\"></a></td><td>6478974113231217024<br><a href=\"http://legacysurvey.org/viewer?ra=318.12071482766316&dec=-48.638328603702895\"><img src=\"http://legacysurvey.org/viewer/jpeg-cutout/?ra=318.1207&dec=-48.63833&zoom=15&layer=unwise-w1w2&size=120\"></a></td><td>6478728200583285504<br><a href=\"http://legacysurvey.org/viewer?ra=317.367055006976&dec=-50.14837017511378\"><img src=\"http://legacysurvey.org/viewer/jpeg-cutout/?ra=317.3671&dec=-50.14837&zoom=15&layer=unwise-w1w2&size=120\"></a></td><td>6478799325241829504<br><a href=\"http://legacysurvey.org/viewer?ra=316.9219543190395&dec=-49.753846650529866\"><img src=\"http://legacysurvey.org/viewer/jpeg-cutout/?ra=316.922&dec=-49.75385&zoom=15&layer=unwise-w1w2&size=120\"></a></td><td>6478791010185102336<br><a href=\"http://legacysurvey.org/viewer?ra=317.3990566638345&dec=-49.7596463434603\"><img src=\"http://legacysurvey.org/viewer/jpeg-cutout/?ra=317.3991&dec=-49.75965&zoom=15&layer=unwise-w1w2&size=120\"></a></td></tr>\n",
       "<tr><td>6479621308966512768<br><a href=\"http://legacysurvey.org/viewer?ra=316.8601962299491&dec=-48.7310033648392\"><img src=\"http://legacysurvey.org/viewer/jpeg-cutout/?ra=316.8602&dec=-48.731&zoom=15&layer=unwise-w1w2&size=120\"></a></td><td>6478961228329316352<br><a href=\"http://legacysurvey.org/viewer?ra=318.2252138946692&dec=-48.69906577576742\"><img src=\"http://legacysurvey.org/viewer/jpeg-cutout/?ra=318.2252&dec=-48.69907&zoom=15&layer=unwise-w1w2&size=120\"></a></td><td>6478683670362727680<br><a href=\"http://legacysurvey.org/viewer?ra=319.34913111675144&dec=-49.43150720870483\"><img src=\"http://legacysurvey.org/viewer/jpeg-cutout/?ra=319.3491&dec=-49.43151&zoom=15&layer=unwise-w1w2&size=120\"></a></td><td>6479080937657908608<br><a href=\"http://legacysurvey.org/viewer?ra=319.2902181877579&dec=-48.96917695440773\"><img src=\"http://legacysurvey.org/viewer/jpeg-cutout/?ra=319.2902&dec=-48.96918&zoom=15&layer=unwise-w1w2&size=120\"></a></td><td>6479620419909929472<br><a href=\"http://legacysurvey.org/viewer?ra=316.9255592697896&dec=-48.74461105027432\"><img src=\"http://legacysurvey.org/viewer/jpeg-cutout/?ra=316.9256&dec=-48.74461&zoom=15&layer=unwise-w1w2&size=120\"></a></td><td>6478851036648204928<br><a href=\"http://legacysurvey.org/viewer?ra=318.38241200701225&dec=-49.60915823179523\"><img src=\"http://legacysurvey.org/viewer/jpeg-cutout/?ra=318.3824&dec=-49.60916&zoom=15&layer=unwise-w1w2&size=120\"></a></td></tr>\n",
       "<tr><td>6478916320151239808<br><a href=\"http://legacysurvey.org/viewer?ra=318.5534848523446&dec=-48.8031190145078\"><img src=\"http://legacysurvey.org/viewer/jpeg-cutout/?ra=318.5535&dec=-48.80312&zoom=15&layer=unwise-w1w2&size=120\"></a></td><td>6478980091825705600<br><a href=\"http://legacysurvey.org/viewer?ra=318.024584456094&dec=-48.512689203193624\"><img src=\"http://legacysurvey.org/viewer/jpeg-cutout/?ra=318.0246&dec=-48.51269&zoom=15&layer=unwise-w1w2&size=120\"></a></td><td>6478543272175381760<br><a href=\"http://legacysurvey.org/viewer?ra=318.63150995404766&dec=-50.1854510219262\"><img src=\"http://legacysurvey.org/viewer/jpeg-cutout/?ra=318.6315&dec=-50.18545&zoom=15&layer=unwise-w1w2&size=120\"></a></td><td>6479582589837868160<br><a href=\"http://legacysurvey.org/viewer?ra=316.7658660959037&dec=-49.198034375336135\"><img src=\"http://legacysurvey.org/viewer/jpeg-cutout/?ra=316.7659&dec=-49.19803&zoom=15&layer=unwise-w1w2&size=120\"></a></td><td>6478934359013926784<br><a href=\"http://legacysurvey.org/viewer?ra=317.97021230663745&dec=-48.93279414445345\"><img src=\"http://legacysurvey.org/viewer/jpeg-cutout/?ra=317.9702&dec=-48.93279&zoom=15&layer=unwise-w1w2&size=120\"></a></td><td>6479707934163581696<br><a href=\"http://legacysurvey.org/viewer?ra=317.55859246886934&dec=-48.603684179163054\"><img src=\"http://legacysurvey.org/viewer/jpeg-cutout/?ra=317.5586&dec=-48.60368&zoom=15&layer=unwise-w1w2&size=120\"></a></td></tr>\n",
       "<tr><td>6478723046622519424<br><a href=\"http://legacysurvey.org/viewer?ra=317.6082064166907&dec=-50.14258394349587\"><img src=\"http://legacysurvey.org/viewer/jpeg-cutout/?ra=317.6082&dec=-50.14258&zoom=15&layer=unwise-w1w2&size=120\"></a></td><td>6479701440173035648<br><a href=\"http://legacysurvey.org/viewer?ra=317.47565362353083&dec=-48.691572269325434\"><img src=\"http://legacysurvey.org/viewer/jpeg-cutout/?ra=317.4757&dec=-48.69157&zoom=15&layer=unwise-w1w2&size=120\"></a></td><td>6478929548650436992<br><a href=\"http://legacysurvey.org/viewer?ra=318.0836938270591&dec=-49.08674963603567\"><img src=\"http://legacysurvey.org/viewer/jpeg-cutout/?ra=318.0837&dec=-49.08675&zoom=15&layer=unwise-w1w2&size=120\"></a></td><td>6478971398811926016<br><a href=\"http://legacysurvey.org/viewer?ra=318.4756591203707&dec=-48.48237254553051\"><img src=\"http://legacysurvey.org/viewer/jpeg-cutout/?ra=318.4757&dec=-48.48237&zoom=15&layer=unwise-w1w2&size=120\"></a></td><td>6478768813794106112<br><a href=\"http://legacysurvey.org/viewer?ra=317.6143334027487&dec=-49.62115635616221\"><img src=\"http://legacysurvey.org/viewer/jpeg-cutout/?ra=317.6143&dec=-49.62116&zoom=15&layer=unwise-w1w2&size=120\"></a></td><td>6478552794119232640<br><a href=\"http://legacysurvey.org/viewer?ra=318.0921637113603&dec=-50.17159816457735\"><img src=\"http://legacysurvey.org/viewer/jpeg-cutout/?ra=318.0922&dec=-50.1716&zoom=15&layer=unwise-w1w2&size=120\"></a></td></tr>\n",
       "    </table>\n",
       "    "
      ],
      "text/plain": [
       "<IPython.core.display.HTML object>"
      ]
     },
     "execution_count": 19,
     "metadata": {},
     "output_type": "execute_result"
    }
   ],
   "source": [
    "# only need to remove if something really fishy is going on\n",
    "make_decals_viewer_cutouts(guidestars[np.random.permutation(len(guidestars))[:24]], \n",
    "                           survey='unwise-w1w2',ncols=6,namecol='TargetName')"
   ]
  },
  {
   "cell_type": "code",
   "execution_count": 20,
   "metadata": {},
   "outputs": [
    {
     "name": "stdout",
     "output_type": "stream",
     "text": [
      "Copied to clipboard\n"
     ]
    },
    {
     "data": {
      "text/html": [
       "\n",
       "    Paste the coords in \"Enter values\" at  \n",
       "    <a href=\"https://des.ncsa.illinois.edu/easyweb/cutouts\">the DES cutout service</a>,\n",
       "    and change the size to 0.3 arcmin\n",
       "    "
      ],
      "text/plain": [
       "<IPython.core.display.HTML object>"
      ]
     },
     "execution_count": 20,
     "metadata": {},
     "output_type": "execute_result"
    }
   ],
   "source": [
    "make_des_cutouts_file(acat[acat['Notes']=='sky'])"
   ]
  },
  {
   "cell_type": "code",
   "execution_count": 22,
   "metadata": {},
   "outputs": [
    {
     "name": "stdout",
     "output_type": "stream",
     "text": [
      "https://des.ncsa.illinois.edu/easyweb/static/workdir/eteq/aa2264b3-ad16-4937-ab6b-910b02175b91/list.json\n"
     ]
    },
    {
     "data": {
      "text/html": [
       "\n",
       "    <table>\n",
       "    <tr><td>0<br><a href=\"http://legacysurvey.org/viewer?ra=317.4292128160774&dec=-50.23305570987049\"><img src=\"https://des.ncsa.illinois.edu/easyweb/static/workdir/eteq/aa2264b3-ad16-4937-ab6b-910b02175b91/DESJ211201.9-481657.3.tif.png\"height=\"128\" width=\"128\"></a></td><td>1<br><a href=\"http://legacysurvey.org/viewer?ra=317.90170390056755&dec=-48.25829365337605\"><img src=\"https://des.ncsa.illinois.edu/easyweb/static/workdir/eteq/aa2264b3-ad16-4937-ab6b-910b02175b91/DESJ210914.7-495114.0.tif.png\"height=\"128\" width=\"128\"></a></td><td>2<br><a href=\"http://legacysurvey.org/viewer?ra=318.5676103866906&dec=-49.52786113269757\"><img src=\"https://des.ncsa.illinois.edu/easyweb/static/workdir/eteq/aa2264b3-ad16-4937-ab6b-910b02175b91/DESJ210746.0-490258.7.tif.png\"height=\"128\" width=\"128\"></a></td><td>3<br><a href=\"http://legacysurvey.org/viewer?ra=317.6644896718479&dec=-50.05863529810962\"><img src=\"https://des.ncsa.illinois.edu/easyweb/static/workdir/eteq/aa2264b3-ad16-4937-ab6b-910b02175b91/DESJ210912.3-483909.8.tif.png\"height=\"128\" width=\"128\"></a></td><td>4<br><a href=\"http://legacysurvey.org/viewer?ra=317.4410478125742&dec=-50.24222749467168\"><img src=\"https://des.ncsa.illinois.edu/easyweb/static/workdir/eteq/aa2264b3-ad16-4937-ab6b-910b02175b91/DESJ210943.0-492805.5.tif.png\"height=\"128\" width=\"128\"></a></td><td>5<br><a href=\"http://legacysurvey.org/viewer?ra=317.8442240872647&dec=-50.21589301197336\"><img src=\"https://des.ncsa.illinois.edu/easyweb/static/workdir/eteq/aa2264b3-ad16-4937-ab6b-910b02175b91/DESJ210804.3-492755.9.tif.png\"height=\"128\" width=\"128\"></a></td><td>6<br><a href=\"http://legacysurvey.org/viewer?ra=318.9059143836027&dec=-48.83545090374655\"><img src=\"https://des.ncsa.illinois.edu/easyweb/static/workdir/eteq/aa2264b3-ad16-4937-ab6b-910b02175b91/DESJ211345.9-500012.6.tif.png\"height=\"128\" width=\"128\"></a></td><td>7<br><a href=\"http://legacysurvey.org/viewer?ra=318.0710397824999&dec=-50.11937967086241\"><img src=\"https://des.ncsa.illinois.edu/easyweb/static/workdir/eteq/aa2264b3-ad16-4937-ab6b-910b02175b91/DESJ210753.4-493831.3.tif.png\"height=\"128\" width=\"128\"></a></td></tr>\n",
       "<tr><td>8<br><a href=\"http://legacysurvey.org/viewer?ra=317.03355226150126&dec=-49.26746636478701\"><img src=\"https://des.ncsa.illinois.edu/easyweb/static/workdir/eteq/aa2264b3-ad16-4937-ab6b-910b02175b91/DESJ210809.9-491215.4.tif.png\"height=\"128\" width=\"128\"></a></td><td>9<br><a href=\"http://legacysurvey.org/viewer?ra=318.31364825956695&dec=-49.845840145670955\"><img src=\"https://des.ncsa.illinois.edu/easyweb/static/workdir/eteq/aa2264b3-ad16-4937-ab6b-910b02175b91/DESJ211421.5-483624.3.tif.png\"height=\"128\" width=\"128\"></a></td><td>10<br><a href=\"http://legacysurvey.org/viewer?ra=317.78189212607805&dec=-50.312577541867284\"><img src=\"https://des.ncsa.illinois.edu/easyweb/static/workdir/eteq/aa2264b3-ad16-4937-ab6b-910b02175b91/DESJ210808.1-491602.9.tif.png\"height=\"128\" width=\"128\"></a></td><td>11<br><a href=\"http://legacysurvey.org/viewer?ra=317.59406424617055&dec=-48.98011311205791\"><img src=\"https://des.ncsa.illinois.edu/easyweb/static/workdir/eteq/aa2264b3-ad16-4937-ab6b-910b02175b91/DESJ211204.2-484852.4.tif.png\"height=\"128\" width=\"128\"></a></td><td>12<br><a href=\"http://legacysurvey.org/viewer?ra=318.65300088079823&dec=-49.1164930461765\"><img src=\"https://des.ncsa.illinois.edu/easyweb/static/workdir/eteq/aa2264b3-ad16-4937-ab6b-910b02175b91/DESJ211048.8-494741.9.tif.png\"height=\"128\" width=\"128\"></a></td><td>13<br><a href=\"http://legacysurvey.org/viewer?ra=317.51869260786265&dec=-49.99849981301434\"><img src=\"https://des.ncsa.illinois.edu/easyweb/static/workdir/eteq/aa2264b3-ad16-4937-ab6b-910b02175b91/DESJ211146.7-494538.6.tif.png\"height=\"128\" width=\"128\"></a></td><td>14<br><a href=\"http://legacysurvey.org/viewer?ra=317.9810500371747&dec=-48.74076504009188\"><img src=\"https://des.ncsa.illinois.edu/easyweb/static/workdir/eteq/aa2264b3-ad16-4937-ab6b-910b02175b91/DESJ211004.5-482555.2.tif.png\"height=\"128\" width=\"128\"></a></td><td>15<br><a href=\"http://legacysurvey.org/viewer?ra=317.9515278790088&dec=-48.25810435252002\"><img src=\"https://des.ncsa.illinois.edu/easyweb/static/workdir/eteq/aa2264b3-ad16-4937-ab6b-910b02175b91/DESJ210909.8-484359.6.tif.png\"height=\"128\" width=\"128\"></a></td></tr>\n",
       "<tr><td>16<br><a href=\"http://legacysurvey.org/viewer?ra=317.81715009774854&dec=-48.35223245596141\"><img src=\"https://des.ncsa.illinois.edu/easyweb/static/workdir/eteq/aa2264b3-ad16-4937-ab6b-910b02175b91/DESJ211209.8-481454.4.tif.png\"height=\"128\" width=\"128\"></a></td><td>17<br><a href=\"http://legacysurvey.org/viewer?ra=316.9383156902448&dec=-49.53101842093094\"><img src=\"https://des.ncsa.illinois.edu/easyweb/static/workdir/eteq/aa2264b3-ad16-4937-ab6b-910b02175b91/DESJ210955.6-482307.3.tif.png\"height=\"128\" width=\"128\"></a></td><td>18<br><a href=\"http://legacysurvey.org/viewer?ra=317.2908560877905&dec=-48.73320554272377\"><img src=\"https://des.ncsa.illinois.edu/easyweb/static/workdir/eteq/aa2264b3-ad16-4937-ab6b-910b02175b91/DESJ211155.9-481708.4.tif.png\"height=\"128\" width=\"128\"></a></td><td>19<br><a href=\"http://legacysurvey.org/viewer?ra=317.0177657967143&dec=-49.46554023710122\"><img src=\"https://des.ncsa.illinois.edu/easyweb/static/workdir/eteq/aa2264b3-ad16-4937-ab6b-910b02175b91/DESJ211105.8-481323.9.tif.png\"height=\"128\" width=\"128\"></a></td><td>20<br><a href=\"http://legacysurvey.org/viewer?ra=317.79195874724394&dec=-48.24991861448774\"><img src=\"https://des.ncsa.illinois.edu/easyweb/static/workdir/eteq/aa2264b3-ad16-4937-ab6b-910b02175b91/DESJ211450.6-485611.2.tif.png\"height=\"128\" width=\"128\"></a></td><td>21<br><a href=\"http://legacysurvey.org/viewer?ra=318.4809104231715&dec=-48.33734994994932\"><img src=\"https://des.ncsa.illinois.edu/easyweb/static/workdir/eteq/aa2264b3-ad16-4937-ab6b-910b02175b91/DESJ210957.2-485804.3.tif.png\"height=\"128\" width=\"128\"></a></td><td>22<br><a href=\"http://legacysurvey.org/viewer?ra=317.34924465200595&dec=-49.72641927409062\"><img src=\"https://des.ncsa.illinois.edu/easyweb/static/workdir/eteq/aa2264b3-ad16-4937-ab6b-910b02175b91/DESJ211355.4-482014.5.tif.png\"height=\"128\" width=\"128\"></a></td><td>23<br><a href=\"http://legacysurvey.org/viewer?ra=318.90895327845504&dec=-49.22500151025963\"><img src=\"https://des.ncsa.illinois.edu/easyweb/static/workdir/eteq/aa2264b3-ad16-4937-ab6b-910b02175b91/DESJ211257.9-501858.8.tif.png\"height=\"128\" width=\"128\"></a></td></tr>\n",
       "<tr><td>24<br><a href=\"http://legacysurvey.org/viewer?ra=317.0413651639961&dec=-49.204293764616445\"><img src=\"https://des.ncsa.illinois.edu/easyweb/static/workdir/eteq/aa2264b3-ad16-4937-ab6b-910b02175b91/DESJ211240.0-501951.7.tif.png\"height=\"128\" width=\"128\"></a></td><td>25<br><a href=\"http://legacysurvey.org/viewer?ra=318.3293224782882&dec=-49.904689954577144\"><img src=\"https://des.ncsa.illinois.edu/easyweb/static/workdir/eteq/aa2264b3-ad16-4937-ab6b-910b02175b91/DESJ211227.2-483248.0.tif.png\"height=\"128\" width=\"128\"></a></td><td>26<br><a href=\"http://legacysurvey.org/viewer?ra=317.07729023878363&dec=-49.06032638838465\"><img src=\"https://des.ncsa.illinois.edu/easyweb/static/workdir/eteq/aa2264b3-ad16-4937-ab6b-910b02175b91/DESJ210848.3-494510.5.tif.png\"height=\"128\" width=\"128\"></a></td><td>27<br><a href=\"http://legacysurvey.org/viewer?ra=317.66069847511915&dec=-50.263316530603554\"><img src=\"https://des.ncsa.illinois.edu/easyweb/static/workdir/eteq/aa2264b3-ad16-4937-ab6b-910b02175b91/DESJ210953.6-494738.3.tif.png\"height=\"128\" width=\"128\"></a></td><td>28<br><a href=\"http://legacysurvey.org/viewer?ra=317.2012574134546&dec=-49.75291498787752\"><img src=\"https://des.ncsa.illinois.edu/easyweb/static/workdir/eteq/aa2264b3-ad16-4937-ab6b-910b02175b91/DESJ211537.4-485007.6.tif.png\"height=\"128\" width=\"128\"></a></td><td>29<br><a href=\"http://legacysurvey.org/viewer?ra=318.6699562068238&dec=-49.44802747817756\"><img src=\"https://des.ncsa.illinois.edu/easyweb/static/workdir/eteq/aa2264b3-ad16-4937-ab6b-910b02175b91/DESJ211440.8-492652.9.tif.png\"height=\"128\" width=\"128\"></a></td><td>30<br><a href=\"http://legacysurvey.org/viewer?ra=317.6536464679099&dec=-48.245880646083\"><img src=\"https://des.ncsa.illinois.edu/easyweb/static/workdir/eteq/aa2264b3-ad16-4937-ab6b-910b02175b91/DESJ210909.8-495020.6.tif.png\"height=\"128\" width=\"128\"></a></td><td>31<br><a href=\"http://legacysurvey.org/viewer?ra=317.1241884609781&dec=-49.70228033547551\"><img src=\"https://des.ncsa.illinois.edu/easyweb/static/workdir/eteq/aa2264b3-ad16-4937-ab6b-910b02175b91/DESJ211553.7-494105.5.tif.png\"height=\"128\" width=\"128\"></a></td></tr>\n",
       "<tr><td>32<br><a href=\"http://legacysurvey.org/viewer?ra=318.0611213934338&dec=-48.60032975416117\"><img src=\"https://des.ncsa.illinois.edu/easyweb/static/workdir/eteq/aa2264b3-ad16-4937-ab6b-910b02175b91/DESJ211038.6-501548.0.tif.png\"height=\"128\" width=\"128\"></a></td><td>33<br><a href=\"http://legacysurvey.org/viewer?ra=317.39590962320983&dec=-48.8879261954549\"><img src=\"https://des.ncsa.illinois.edu/easyweb/static/workdir/eteq/aa2264b3-ad16-4937-ab6b-910b02175b91/DESJ211148.4-481529.2.tif.png\"height=\"128\" width=\"128\"></a></td><td>34<br><a href=\"http://legacysurvey.org/viewer?ra=317.6075911123923&dec=-50.28373368794327\"><img src=\"https://des.ncsa.illinois.edu/easyweb/static/workdir/eteq/aa2264b3-ad16-4937-ab6b-910b02175b91/DESJ210945.9-501432.0.tif.png\"height=\"128\" width=\"128\"></a></td><td>35<br><a href=\"http://legacysurvey.org/viewer?ra=318.11321810697297&dec=-48.54665611382406\"><img src=\"https://des.ncsa.illinois.edu/easyweb/static/workdir/eteq/aa2264b3-ad16-4937-ab6b-910b02175b91/DESJ211136.4-481529.8.tif.png\"height=\"128\" width=\"128\"></a></td><td>36<br><a href=\"http://legacysurvey.org/viewer?ra=317.4787074012316&dec=-49.92486609460905\"><img src=\"https://des.ncsa.illinois.edu/easyweb/static/workdir/eteq/aa2264b3-ad16-4937-ab6b-910b02175b91/DESJ210913.9-495158.5.tif.png\"height=\"128\" width=\"128\"></a></td><td>37<br><a href=\"http://legacysurvey.org/viewer?ra=318.2932653265258&dec=-48.330152928385\"><img src=\"https://des.ncsa.illinois.edu/easyweb/static/workdir/eteq/aa2264b3-ad16-4937-ab6b-910b02175b91/DESJ211134.0-501815.6.tif.png\"height=\"128\" width=\"128\"></a></td><td>38<br><a href=\"http://legacysurvey.org/viewer?ra=318.5137961027675&dec=-49.187299697623075\"><img src=\"https://des.ncsa.illinois.edu/easyweb/static/workdir/eteq/aa2264b3-ad16-4937-ab6b-910b02175b91/DESJ211319.0-495416.9.tif.png\"height=\"128\" width=\"128\"></a></td><td>39<br><a href=\"http://legacysurvey.org/viewer?ra=317.0614067225084&dec=-49.20765661638296\"><img src=\"https://des.ncsa.illinois.edu/easyweb/static/workdir/eteq/aa2264b3-ad16-4937-ab6b-910b02175b91/DESJ211107.7-501845.3.tif.png\"height=\"128\" width=\"128\"></a></td></tr>\n",
       "<tr><td>40<br><a href=\"http://legacysurvey.org/viewer?ra=318.1519835213686&dec=-48.26891501176105\"><img src=\"https://des.ncsa.illinois.edu/easyweb/static/workdir/eteq/aa2264b3-ad16-4937-ab6b-910b02175b91/DESJ211416.2-493140.3.tif.png\"height=\"128\" width=\"128\"></a></td><td>41<br><a href=\"http://legacysurvey.org/viewer?ra=318.2410617881137&dec=-50.31633261986934\"><img src=\"https://des.ncsa.illinois.edu/easyweb/static/workdir/eteq/aa2264b3-ad16-4937-ab6b-910b02175b91/DESJ210923.8-494335.1.tif.png\"height=\"128\" width=\"128\"></a></td><td>42<br><a href=\"http://legacysurvey.org/viewer?ra=318.4414145611604&dec=-50.00350056183642\"><img src=\"https://des.ncsa.illinois.edu/easyweb/static/workdir/eteq/aa2264b3-ad16-4937-ab6b-910b02175b91/DESJ210846.5-495446.0.tif.png\"height=\"128\" width=\"128\"></a></td><td>43<br><a href=\"http://legacysurvey.org/viewer?ra=317.40282070101654&dec=-48.34983282438544\"><img src=\"https://des.ncsa.illinois.edu/easyweb/static/workdir/eteq/aa2264b3-ad16-4937-ab6b-910b02175b91/DESJ211436.7-490659.4.tif.png\"height=\"128\" width=\"128\"></a></td><td>44<br><a href=\"http://legacysurvey.org/viewer?ra=317.50986560593327&dec=-49.48149174675665\"><img src=\"https://des.ncsa.illinois.edu/easyweb/static/workdir/eteq/aa2264b3-ad16-4937-ab6b-910b02175b91/DESJ211313.7-481947.3.tif.png\"height=\"128\" width=\"128\"></a></td><td>45<br><a href=\"http://legacysurvey.org/viewer?ra=316.9175687447794&dec=-49.37883064751416\"><img src=\"https://des.ncsa.illinois.edu/easyweb/static/workdir/eteq/aa2264b3-ad16-4937-ab6b-910b02175b91/DESJ211321.3-501722.3.tif.png\"height=\"128\" width=\"128\"></a></td><td>46<br><a href=\"http://legacysurvey.org/viewer?ra=317.32807098242176&dec=-49.220426309696066\"><img src=\"https://des.ncsa.illinois.edu/easyweb/static/workdir/eteq/aa2264b3-ad16-4937-ab6b-910b02175b91/DESJ210745.2-493151.7.tif.png\"height=\"128\" width=\"128\"></a></td><td>47<br><a href=\"http://legacysurvey.org/viewer?ra=317.818997603257&dec=-48.229903380073395\"><img src=\"https://des.ncsa.illinois.edu/easyweb/static/workdir/eteq/aa2264b3-ad16-4937-ab6b-910b02175b91/DESJ211252.4-482601.5.tif.png\"height=\"128\" width=\"128\"></a></td></tr>\n",
       "<tr><td>48<br><a href=\"http://legacysurvey.org/viewer?ra=317.4386479863194&dec=-48.342483187048494\"><img src=\"https://des.ncsa.illinois.edu/easyweb/static/workdir/eteq/aa2264b3-ad16-4937-ab6b-910b02175b91/DESJ211315.3-495045.0.tif.png\"height=\"128\" width=\"128\"></a></td><td>49<br><a href=\"http://legacysurvey.org/viewer?ra=316.97243010235843&dec=-49.64203683622654\"><img src=\"https://des.ncsa.illinois.edu/easyweb/static/workdir/eteq/aa2264b3-ad16-4937-ab6b-910b02175b91/DESJ210954.9-495529.5.tif.png\"height=\"128\" width=\"128\"></a></td><td>50<br><a href=\"http://legacysurvey.org/viewer?ra=318.00785969524645&dec=-48.28257723288394\"><img src=\"https://des.ncsa.illinois.edu/easyweb/static/workdir/eteq/aa2264b3-ad16-4937-ab6b-910b02175b91/DESJ211002.4-492853.4.tif.png\"height=\"128\" width=\"128\"></a></td><td>51<br><a href=\"http://legacysurvey.org/viewer?ra=317.3078741596617&dec=-49.86626293013885\"><img src=\"https://des.ncsa.illinois.edu/easyweb/static/workdir/eteq/aa2264b3-ad16-4937-ab6b-910b02175b91/DESJ211402.6-492702.2.tif.png\"height=\"128\" width=\"128\"></a></td><td>52<br><a href=\"http://legacysurvey.org/viewer?ra=317.28983975468253&dec=-49.767317885121074\"><img src=\"https://des.ncsa.illinois.edu/easyweb/static/workdir/eteq/aa2264b3-ad16-4937-ab6b-910b02175b91/DESJ211206.9-502253.0.tif.png\"height=\"128\" width=\"128\"></a></td><td>53<br><a href=\"http://legacysurvey.org/viewer?ra=317.301115230917&dec=-48.65273270573507\"><img src=\"https://des.ncsa.illinois.edu/easyweb/static/workdir/eteq/aa2264b3-ad16-4937-ab6b-910b02175b91/DESJ210814.7-491227.6.tif.png\"height=\"128\" width=\"128\"></a></td><td>54<br><a href=\"http://legacysurvey.org/viewer?ra=317.4292259631562&dec=-49.46820275936217\"><img src=\"https://des.ncsa.illinois.edu/easyweb/static/workdir/eteq/aa2264b3-ad16-4937-ab6b-910b02175b91/DESJ211207.7-481526.0.tif.png\"height=\"128\" width=\"128\"></a></td><td>55<br><a href=\"http://legacysurvey.org/viewer?ra=317.290695234298&dec=-49.839059778499895\"><img src=\"https://des.ncsa.illinois.edu/easyweb/static/workdir/eteq/aa2264b3-ad16-4937-ab6b-910b02175b91/DESJ211452.4-484103.1.tif.png\"height=\"128\" width=\"128\"></a></td></tr>\n",
       "<tr><td>56<br><a href=\"http://legacysurvey.org/viewer?ra=318.2181576185493&dec=-48.43374955105266\"><img src=\"https://des.ncsa.illinois.edu/easyweb/static/workdir/eteq/aa2264b3-ad16-4937-ab6b-910b02175b91/DESJ210909.6-494602.4.tif.png\"height=\"128\" width=\"128\"></a></td><td>57<br><a href=\"http://legacysurvey.org/viewer?ra=318.90183443511575&dec=-49.45128020495334\"><img src=\"https://des.ncsa.illinois.edu/easyweb/static/workdir/eteq/aa2264b3-ad16-4937-ab6b-910b02175b91/DESJ210742.3-493003.8.tif.png\"height=\"128\" width=\"128\"></a></td><td>58<br><a href=\"http://legacysurvey.org/viewer?ra=318.71827805553954&dec=-48.68419105642723\"><img src=\"https://des.ncsa.illinois.edu/easyweb/static/workdir/eteq/aa2264b3-ad16-4937-ab6b-910b02175b91/DESJ211410.6-494639.7.tif.png\"height=\"128\" width=\"128\"></a></td><td>59<br><a href=\"http://legacysurvey.org/viewer?ra=318.8533647987635&dec=-49.41041754386762\"><img src=\"https://des.ncsa.illinois.edu/easyweb/static/workdir/eteq/aa2264b3-ad16-4937-ab6b-910b02175b91/DESJ211039.5-500331.1.tif.png\"height=\"128\" width=\"128\"></a></td><td>60<br><a href=\"http://legacysurvey.org/viewer?ra=318.58973388959424&dec=-48.60675548404329\"><img src=\"https://des.ncsa.illinois.edu/easyweb/static/workdir/eteq/aa2264b3-ad16-4937-ab6b-910b02175b91/DESJ211417.6-493713.5.tif.png\"height=\"128\" width=\"128\"></a></td><td>61<br><a href=\"http://legacysurvey.org/viewer?ra=317.94452430566804&dec=-49.760729760306425\"><img src=\"https://des.ncsa.illinois.edu/easyweb/static/workdir/eteq/aa2264b3-ad16-4937-ab6b-910b02175b91/DESJ211122.6-501257.2.tif.png\"height=\"128\" width=\"128\"></a></td><td>62<br><a href=\"http://legacysurvey.org/viewer?ra=318.6992036798396&dec=-49.200122205061675\"><img src=\"https://des.ncsa.illinois.edu/easyweb/static/workdir/eteq/aa2264b3-ad16-4937-ab6b-910b02175b91/DESJ211149.3-481500.5.tif.png\"height=\"128\" width=\"128\"></a></td><td>63<br><a href=\"http://legacysurvey.org/viewer?ra=318.168390573756&dec=-48.20918702307194\"><img src=\"https://des.ncsa.illinois.edu/easyweb/static/workdir/eteq/aa2264b3-ad16-4937-ab6b-910b02175b91/DESJ210758.2-492925.3.tif.png\"height=\"128\" width=\"128\"></a></td></tr>\n",
       "<tr><td>64<br><a href=\"http://legacysurvey.org/viewer?ra=317.87351903168116&dec=-48.41682613748342\"><img src=\"https://des.ncsa.illinois.edu/easyweb/static/workdir/eteq/aa2264b3-ad16-4937-ab6b-910b02175b91/DESJ211155.2-481156.7.tif.png\"height=\"128\" width=\"128\"></a></td><td>65<br><a href=\"http://legacysurvey.org/viewer?ra=317.48012297559376&dec=-49.012512224692\"><img src=\"https://des.ncsa.illinois.edu/easyweb/static/workdir/eteq/aa2264b3-ad16-4937-ab6b-910b02175b91/DESJ211510.8-483830.8.tif.png\"height=\"128\" width=\"128\"></a></td><td>66<br><a href=\"http://legacysurvey.org/viewer?ra=318.54424468625587&dec=-49.77769525505997\"><img src=\"https://des.ncsa.illinois.edu/easyweb/static/workdir/eteq/aa2264b3-ad16-4937-ab6b-910b02175b91/DESJ210936.7-482059.4.tif.png\"height=\"128\" width=\"128\"></a></td><td>67<br><a href=\"http://legacysurvey.org/viewer?ra=318.03215002069396&dec=-48.25720909710829\"><img src=\"https://des.ncsa.illinois.edu/easyweb/static/workdir/eteq/aa2264b3-ad16-4937-ab6b-910b02175b91/DESJ211129.6-482500.6.tif.png\"height=\"128\" width=\"128\"></a></td><td>68<br><a href=\"http://legacysurvey.org/viewer?ra=317.45479000666285&dec=-48.33884431720006\"><img src=\"https://des.ncsa.illinois.edu/easyweb/static/workdir/eteq/aa2264b3-ad16-4937-ab6b-910b02175b91/DESJ211447.8-491200.4.tif.png\"height=\"128\" width=\"128\"></a></td><td>69<br><a href=\"http://legacysurvey.org/viewer?ra=316.9260712632663&dec=-49.50105258478283\"><img src=\"https://des.ncsa.illinois.edu/easyweb/static/workdir/eteq/aa2264b3-ad16-4937-ab6b-910b02175b91/DESJ210935.0-485316.5.tif.png\"height=\"128\" width=\"128\"></a></td><td>70<br><a href=\"http://legacysurvey.org/viewer?ra=317.7033429125372&dec=-49.79495654415083\"><img src=\"https://des.ncsa.illinois.edu/easyweb/static/workdir/eteq/aa2264b3-ad16-4937-ab6b-910b02175b91/DESJ211240.4-481233.1.tif.png\"height=\"128\" width=\"128\"></a></td><td>71<br><a href=\"http://legacysurvey.org/viewer?ra=317.95532958861446&dec=-48.250146947897925\"><img src=\"https://des.ncsa.illinois.edu/easyweb/static/workdir/eteq/aa2264b3-ad16-4937-ab6b-910b02175b91/DESJ211524.8-492437.5.tif.png\"height=\"128\" width=\"128\"></a></td></tr>\n",
       "<tr><td>72<br><a href=\"http://legacysurvey.org/viewer?ra=317.19369257252305&dec=-49.9127694069607\"><img src=\"https://des.ncsa.illinois.edu/easyweb/static/workdir/eteq/aa2264b3-ad16-4937-ab6b-910b02175b91/DESJ211403.3-491114.3.tif.png\"height=\"128\" width=\"128\"></a></td><td>73<br><a href=\"http://legacysurvey.org/viewer?ra=318.710810029547&dec=-48.93644018370853\"><img src=\"https://des.ncsa.illinois.edu/easyweb/static/workdir/eteq/aa2264b3-ad16-4937-ab6b-910b02175b91/DESJ210829.8-494208.2.tif.png\"height=\"128\" width=\"128\"></a></td><td>74<br><a href=\"http://legacysurvey.org/viewer?ra=317.9828863554516&dec=-48.285677988835225\"><img src=\"https://des.ncsa.illinois.edu/easyweb/static/workdir/eteq/aa2264b3-ad16-4937-ab6b-910b02175b91/DESJ211310.4-481948.5.tif.png\"height=\"128\" width=\"128\"></a></td><td>75<br><a href=\"http://legacysurvey.org/viewer?ra=317.4734218935172&dec=-49.79398293670229\"><img src=\"https://des.ncsa.illinois.edu/easyweb/static/workdir/eteq/aa2264b3-ad16-4937-ab6b-910b02175b91/DESJ210955.2-490045.0.tif.png\"height=\"128\" width=\"128\"></a></td><td>76<br><a href=\"http://legacysurvey.org/viewer?ra=317.62119504444854&dec=-48.56880872700714\"><img src=\"https://des.ncsa.illinois.edu/easyweb/static/workdir/eteq/aa2264b3-ad16-4937-ab6b-910b02175b91/DESJ211029.1-483407.7.tif.png\"height=\"128\" width=\"128\"></a></td><td>77<br><a href=\"http://legacysurvey.org/viewer?ra=318.5733990758747&dec=-49.62041073337043\"><img src=\"https://des.ncsa.illinois.edu/easyweb/static/workdir/eteq/aa2264b3-ad16-4937-ab6b-910b02175b91/DESJ211004.5-495954.6.tif.png\"height=\"128\" width=\"128\"></a></td><td>78<br><a href=\"http://legacysurvey.org/viewer?ra=318.517207284836&dec=-49.22490428099385\"><img src=\"https://des.ncsa.illinois.edu/easyweb/static/workdir/eteq/aa2264b3-ad16-4937-ab6b-910b02175b91/DESJ211105.1-481420.7.tif.png\"height=\"128\" width=\"128\"></a></td><td>79<br><a href=\"http://legacysurvey.org/viewer?ra=318.0285916123198&dec=-50.38139031255138\"><img src=\"https://des.ncsa.illinois.edu/easyweb/static/workdir/eteq/aa2264b3-ad16-4937-ab6b-910b02175b91/DESJ211538.1-491330.0.tif.png\"height=\"128\" width=\"128\"></a></td></tr>\n",
       "<tr><td>80<br><a href=\"http://legacysurvey.org/viewer?ra=317.77409164585765&dec=-48.223304179734996\"><img src=\"https://des.ncsa.illinois.edu/easyweb/static/workdir/eteq/aa2264b3-ad16-4937-ab6b-910b02175b91/DESJ211116.6-481347.6.tif.png\"height=\"128\" width=\"128\"></a></td><td>81<br><a href=\"http://legacysurvey.org/viewer?ra=318.01730633332966&dec=-48.81454704601834\"><img src=\"https://des.ncsa.illinois.edu/easyweb/static/workdir/eteq/aa2264b3-ad16-4937-ab6b-910b02175b91/DESJ210943.0-501359.0.tif.png\"height=\"128\" width=\"128\"></a></td><td>82<br><a href=\"http://legacysurvey.org/viewer?ra=317.5186388518285&dec=-48.432006739097986\"><img src=\"https://des.ncsa.illinois.edu/easyweb/static/workdir/eteq/aa2264b3-ad16-4937-ab6b-910b02175b91/DESJ211005.1-485410.2.tif.png\"height=\"128\" width=\"128\"></a></td><td>83<br><a href=\"http://legacysurvey.org/viewer?ra=318.73972118285786&dec=-48.66487772982878\"><img src=\"https://des.ncsa.illinois.edu/easyweb/static/workdir/eteq/aa2264b3-ad16-4937-ab6b-910b02175b91/DESJ211236.5-481608.1.tif.png\"height=\"128\" width=\"128\"></a></td><td>84<br><a href=\"http://legacysurvey.org/viewer?ra=318.30701861517167&dec=-48.32981025561955\"><img src=\"https://des.ncsa.illinois.edu/easyweb/static/workdir/eteq/aa2264b3-ad16-4937-ab6b-910b02175b91/DESJ211022.6-485848.4.tif.png\"height=\"128\" width=\"128\"></a></td><td>85<br><a href=\"http://legacysurvey.org/viewer?ra=318.97367111885&dec=-49.68487360118561\"><img src=\"https://des.ncsa.illinois.edu/easyweb/static/workdir/eteq/aa2264b3-ad16-4937-ab6b-910b02175b91/DESJ211214.7-483601.2.tif.png\"height=\"128\" width=\"128\"></a></td><td>86<br><a href=\"http://legacysurvey.org/viewer?ra=317.3112750838646&dec=-49.853882661615444\"><img src=\"https://des.ncsa.illinois.edu/easyweb/static/workdir/eteq/aa2264b3-ad16-4937-ab6b-910b02175b91/DESJ211536.4-492704.6.tif.png\"height=\"128\" width=\"128\"></a></td><td>87<br><a href=\"http://legacysurvey.org/viewer?ra=317.9799955788314&dec=-48.199068504677456\"><img src=\"https://des.ncsa.illinois.edu/easyweb/static/workdir/eteq/aa2264b3-ad16-4937-ab6b-910b02175b91/DESJ210818.5-490337.2.tif.png\"height=\"128\" width=\"128\"></a></td></tr>\n",
       "<tr><td>88<br><a href=\"http://legacysurvey.org/viewer?ra=316.99244454205717&dec=-49.49037335901651\"><img src=\"https://des.ncsa.illinois.edu/easyweb/static/workdir/eteq/aa2264b3-ad16-4937-ab6b-910b02175b91/DESJ210949.1-482019.8.tif.png\"height=\"128\" width=\"128\"></a></td><td>89<br><a href=\"http://legacysurvey.org/viewer?ra=317.52109534076425&dec=-48.90284050334578\"><img src=\"https://des.ncsa.illinois.edu/easyweb/static/workdir/eteq/aa2264b3-ad16-4937-ab6b-910b02175b91/DESJ210740.2-492243.8.tif.png\"height=\"128\" width=\"128\"></a></td><td>90<br><a href=\"http://legacysurvey.org/viewer?ra=318.5110252912281&dec=-49.450598053433815\"><img src=\"https://des.ncsa.illinois.edu/easyweb/static/workdir/eteq/aa2264b3-ad16-4937-ab6b-910b02175b91/DESJ211025.8-501701.4.tif.png\"height=\"128\" width=\"128\"></a></td><td>91<br><a href=\"http://legacysurvey.org/viewer?ra=317.8915254714694&dec=-50.30431624014125\"><img src=\"https://des.ncsa.illinois.edu/easyweb/static/workdir/eteq/aa2264b3-ad16-4937-ab6b-910b02175b91/DESJ210945.3-482032.9.tif.png\"height=\"128\" width=\"128\"></a></td><td>92<br><a href=\"http://legacysurvey.org/viewer?ra=318.7948683898524&dec=-48.641900285783876\"><img src=\"https://des.ncsa.illinois.edu/easyweb/static/workdir/eteq/aa2264b3-ad16-4937-ab6b-910b02175b91/DESJ211110.1-481459.7.tif.png\"height=\"128\" width=\"128\"></a></td><td>93<br><a href=\"http://legacysurvey.org/viewer?ra=318.04101179547496&dec=-48.248438868394004\"><img src=\"https://des.ncsa.illinois.edu/easyweb/static/workdir/eteq/aa2264b3-ad16-4937-ab6b-910b02175b91/DESJ211116.1-482108.0.tif.png\"height=\"128\" width=\"128\"></a></td><td>94<br><a href=\"http://legacysurvey.org/viewer?ra=318.33876383912207&dec=-50.2895182170391\"><img src=\"https://des.ncsa.illinois.edu/easyweb/static/workdir/eteq/aa2264b3-ad16-4937-ab6b-910b02175b91/DESJ211155.5-484426.8.tif.png\"height=\"128\" width=\"128\"></a></td><td>95<br><a href=\"http://legacysurvey.org/viewer?ra=316.9416871970173&dec=-49.04964447183641\"><img src=\"https://des.ncsa.illinois.edu/easyweb/static/workdir/eteq/aa2264b3-ad16-4937-ab6b-910b02175b91/DESJ211404.1-491329.6.tif.png\"height=\"128\" width=\"128\"></a></td></tr>\n",
       "<tr><td>96<br><a href=\"http://legacysurvey.org/viewer?ra=317.77128176262653&dec=-48.23907820510574\"><img src=\"https://des.ncsa.illinois.edu/easyweb/static/workdir/eteq/aa2264b3-ad16-4937-ab6b-910b02175b91/DESJ211036.9-481445.2.tif.png\"height=\"128\" width=\"128\"></a></td><td>97<br><a href=\"http://legacysurvey.org/viewer?ra=318.16654719525627&dec=-50.331027962690634\"><img src=\"https://des.ncsa.illinois.edu/easyweb/static/workdir/eteq/aa2264b3-ad16-4937-ab6b-910b02175b91/DESJ211457.5-483953.6.tif.png\"height=\"128\" width=\"128\"></a></td><td>98<br><a href=\"http://legacysurvey.org/viewer?ra=317.4818050531116&dec=-48.38536415685914\"><img src=\"https://des.ncsa.illinois.edu/easyweb/static/workdir/eteq/aa2264b3-ad16-4937-ab6b-910b02175b91/DESJ210918.7-491313.5.tif.png\"height=\"128\" width=\"128\"></a></td><td>99<br><a href=\"http://legacysurvey.org/viewer?ra=317.4882045359759&dec=-48.96785798543133\"><img src=\"https://des.ncsa.illinois.edu/easyweb/static/workdir/eteq/aa2264b3-ad16-4937-ab6b-910b02175b91/DESJ211217.0-500709.8.tif.png\"height=\"128\" width=\"128\"></a></td><td></td><td></td><td></td><td></td></tr>\n",
       "    </table>\n",
       "    "
      ],
      "text/plain": [
       "<IPython.core.display.HTML object>"
      ]
     },
     "execution_count": 22,
     "metadata": {},
     "output_type": "execute_result"
    }
   ],
   "source": [
    "show_des_cutouts(acat[acat['Notes']=='sky'], 'aa2264b3-ad16-4937-ab6b-910b02175b91', ncols=8, namecol='TargetName')"
   ]
  },
  {
   "cell_type": "code",
   "execution_count": 23,
   "metadata": {},
   "outputs": [
    {
     "data": {
      "text/plain": [
       "81"
      ]
     },
     "execution_count": 23,
     "metadata": {},
     "output_type": "execute_result"
    }
   ],
   "source": [
    "skys_to_rem = [int(i) for i in '8 12 21 23 33 37 45 54 64 66 68 70 74  81 82 84 91 97 98'.split()]\n",
    "writecat.remove_rows((writecat['Notes']=='Sky')&(np.in1d(writecat['TargetName'], skys_to_rem)))\n",
    "np.sum((writecat['Notes']=='Sky'))"
   ]
  },
  {
   "cell_type": "code",
   "execution_count": 24,
   "metadata": {},
   "outputs": [
    {
     "name": "stdout",
     "output_type": "stream",
     "text": [
      "Nflux: 5 Nguide: 100 NSky 81\n",
      "Targets in each priority: {1: 177, 2: 77, 3: 53, 4: 50, 5: 50, 6: 11, 7: 4, 8: 5}\n",
      "Total: 613\n",
      "Writing aat_targets_jun2018/pgc66318_2.fld\n"
     ]
    },
    {
     "data": {
      "text/plain": [
       "427"
      ]
     },
     "execution_count": 24,
     "metadata": {},
     "output_type": "execute_result"
    }
   ],
   "source": [
    "subsampledcat = subsample_catalog(writecat, {1:np.inf}, maxflux=5, maxguides=100)\n",
    "\n",
    "fldfn = 'aat_targets_jun2018/{}_{}.fld'.format(hostname, fieldnum)\n",
    "print('Writing', fldfn)\n",
    "write_fld_file(subsampledcat, host, obs_start_date, fldfn)\n",
    "np.sum(subsampledcat['Notes'] == 'Targets')"
   ]
  },
  {
   "cell_type": "code",
   "execution_count": 25,
   "metadata": {},
   "outputs": [
    {
     "name": "stdout",
     "output_type": "stream",
     "text": [
      "pgc66318_2.fld                                100%   33KB  33.5KB/s   00:00    \n"
     ]
    }
   ],
   "source": [
    "!scp $fldfn visitor6@aatlxh:~/jun13/"
   ]
  },
  {
   "cell_type": "markdown",
   "metadata": {},
   "source": [
    "## PGC 67146"
   ]
  },
  {
   "cell_type": "code",
   "execution_count": 26,
   "metadata": {},
   "outputs": [
    {
     "name": "stdout",
     "output_type": "stream",
     "text": [
      "[06/13 17:29:11] Base catalog v2 for pgc67146 already exists (./base_catalogs/base_v2_pgc67146.fits.gz). (1/1)\n"
     ]
    }
   ],
   "source": [
    "idnum = 67146\n",
    "fieldnum = 1\n",
    "\n",
    "saga_object_catalog.build_and_write_to_database('pgc{}'.format(idnum), overwrite=fieldnum>1)"
   ]
  },
  {
   "cell_type": "code",
   "execution_count": 32,
   "metadata": {},
   "outputs": [
    {
     "name": "stdout",
     "output_type": "stream",
     "text": [
      "pgc67146\n",
      "# of flux stars = 287\n",
      "# of sky fibers = 125\n",
      "# of Priority=1 targets = 432\n",
      "# of Priority=2 targets = 105\n",
      "# of Priority=3 targets = 140\n",
      "# of Priority=4 targets = 50\n",
      "# of Priority=5 targets = 266\n",
      "# of Priority=6 targets = 120\n",
      "# of Priority=7 targets = 64\n",
      "# of Priority=8 targets = 2\n",
      "# of Priority=9 targets = 412\n",
      "Object catalog to Gaia offset: (<Angle -0.1273621 arcsec>, <Angle 0.13871054 arcsec>) from 1704 objects (77.6%)\n",
      "Found 218 Gaia guide stars\n",
      "73 Have a brightish neighbor.  Removing them.\n"
     ]
    },
    {
     "data": {
      "text/plain": [
       "1736"
      ]
     },
     "execution_count": 32,
     "metadata": {},
     "output_type": "execute_result"
    }
   ],
   "source": [
    "host = targethosts[targethosts['PGC'] == idnum]\n",
    "assert len(host) == 1\n",
    "host = host[0]\n",
    "\n",
    "hostname = host[host_id_label]\n",
    "print(hostname)\n",
    "tcats[hostname] = tcat = saga_targets.build_target_catalogs(hostname, return_as='list').pop()\n",
    "acats[hostname] = acat = saga.targets.prepare_aat_catalog(tcat, sky_fiber_needed=125)\n",
    "\n",
    "guidestars = get_gaia_guidestars(hostname)\n",
    "writecat = table.vstack([acat, guidestars])\n",
    "writecat['Notes'] = [n.title() for n in writecat['Notes']]\n",
    "len(writecat)"
   ]
  },
  {
   "cell_type": "code",
   "execution_count": 33,
   "metadata": {},
   "outputs": [
    {
     "data": {
      "text/html": [
       "\n",
       "    <table>\n",
       "    <tr><td>6577710978960701056<br><a href=\"http://legacysurvey.org/viewer?ra=324.71999461550297&dec=-43.309502714687994\"><img src=\"http://legacysurvey.org/viewer/jpeg-cutout/?ra=324.72&dec=-43.3095&zoom=15&layer=unwise-w1w2&size=120\"></a></td><td>6578138963861561856<br><a href=\"http://legacysurvey.org/viewer?ra=325.36213091609693&dec=-42.339327012553255\"><img src=\"http://legacysurvey.org/viewer/jpeg-cutout/?ra=325.3621&dec=-42.33933&zoom=15&layer=unwise-w1w2&size=120\"></a></td><td>6566104358121899264<br><a href=\"http://legacysurvey.org/viewer?ra=325.643132435855&dec=-42.815222705124015\"><img src=\"http://legacysurvey.org/viewer/jpeg-cutout/?ra=325.6431&dec=-42.81522&zoom=15&layer=unwise-w1w2&size=120\"></a></td><td>6578112094546024448<br><a href=\"http://legacysurvey.org/viewer?ra=325.3903926516214&dec=-42.778150240801594\"><img src=\"http://legacysurvey.org/viewer/jpeg-cutout/?ra=325.3904&dec=-42.77815&zoom=15&layer=unwise-w1w2&size=120\"></a></td><td>6578250048895149184<br><a href=\"http://legacysurvey.org/viewer?ra=326.0119095852997&dec=-41.98166798684841\"><img src=\"http://legacysurvey.org/viewer/jpeg-cutout/?ra=326.0119&dec=-41.98167&zoom=15&layer=unwise-w1w2&size=120\"></a></td><td>6577942082560854912<br><a href=\"http://legacysurvey.org/viewer?ra=323.8669244229992&dec=-42.96914635076377\"><img src=\"http://legacysurvey.org/viewer/jpeg-cutout/?ra=323.8669&dec=-42.96915&zoom=15&layer=unwise-w1w2&size=120\"></a></td></tr>\n",
       "<tr><td>6566068250333405952<br><a href=\"http://legacysurvey.org/viewer?ra=325.3886105124958&dec=-43.25983313261362\"><img src=\"http://legacysurvey.org/viewer/jpeg-cutout/?ra=325.3886&dec=-43.25983&zoom=15&layer=unwise-w1w2&size=120\"></a></td><td>6578120890639149312<br><a href=\"http://legacysurvey.org/viewer?ra=325.5201324069614&dec=-42.57541893142729\"><img src=\"http://legacysurvey.org/viewer/jpeg-cutout/?ra=325.5201&dec=-42.57542&zoom=15&layer=unwise-w1w2&size=120\"></a></td><td>6578273963273082112<br><a href=\"http://legacysurvey.org/viewer?ra=325.8165241009146&dec=-41.71493801803187\"><img src=\"http://legacysurvey.org/viewer/jpeg-cutout/?ra=325.8165&dec=-41.71494&zoom=15&layer=unwise-w1w2&size=120\"></a></td><td>6577982523972933888<br><a href=\"http://legacysurvey.org/viewer?ra=323.7515743998043&dec=-42.77723443654127\"><img src=\"http://legacysurvey.org/viewer/jpeg-cutout/?ra=323.7516&dec=-42.77723&zoom=15&layer=unwise-w1w2&size=120\"></a></td><td>6578080685448256128<br><a href=\"http://legacysurvey.org/viewer?ra=325.28971296181703&dec=-43.0875425069394\"><img src=\"http://legacysurvey.org/viewer/jpeg-cutout/?ra=325.2897&dec=-43.08754&zoom=15&layer=unwise-w1w2&size=120\"></a></td><td>6578100893271336448<br><a href=\"http://legacysurvey.org/viewer?ra=325.11957980689743&dec=-42.733387236662566\"><img src=\"http://legacysurvey.org/viewer/jpeg-cutout/?ra=325.1196&dec=-42.73339&zoom=15&layer=unwise-w1w2&size=120\"></a></td></tr>\n",
       "<tr><td>6578290108053816448<br><a href=\"http://legacysurvey.org/viewer?ra=325.41561213069303&dec=-42.00086447813798\"><img src=\"http://legacysurvey.org/viewer/jpeg-cutout/?ra=325.4156&dec=-42.00086&zoom=15&layer=unwise-w1w2&size=120\"></a></td><td>6578361958563103232<br><a href=\"http://legacysurvey.org/viewer?ra=324.33588293049894&dec=-42.291203799669034\"><img src=\"http://legacysurvey.org/viewer/jpeg-cutout/?ra=324.3359&dec=-42.2912&zoom=15&layer=unwise-w1w2&size=120\"></a></td><td>6578198681086921600<br><a href=\"http://legacysurvey.org/viewer?ra=324.67611044470834&dec=-42.20612837843881\"><img src=\"http://legacysurvey.org/viewer/jpeg-cutout/?ra=324.6761&dec=-42.20613&zoom=15&layer=unwise-w1w2&size=120\"></a></td><td>6578074917309081088<br><a href=\"http://legacysurvey.org/viewer?ra=325.0248983306592&dec=-43.25249088935317\"><img src=\"http://legacysurvey.org/viewer/jpeg-cutout/?ra=325.0249&dec=-43.25249&zoom=15&layer=unwise-w1w2&size=120\"></a></td><td>6566063470033249280<br><a href=\"http://legacysurvey.org/viewer?ra=325.3021138711811&dec=-43.23763661705983\"><img src=\"http://legacysurvey.org/viewer/jpeg-cutout/?ra=325.3021&dec=-43.23764&zoom=15&layer=unwise-w1w2&size=120\"></a></td><td>6578352269116852736<br><a href=\"http://legacysurvey.org/viewer?ra=324.32209057266226&dec=-42.53484276106474\"><img src=\"http://legacysurvey.org/viewer/jpeg-cutout/?ra=324.3221&dec=-42.53484&zoom=15&layer=unwise-w1w2&size=120\"></a></td></tr>\n",
       "<tr><td>6578417758778364672<br><a href=\"http://legacysurvey.org/viewer?ra=324.4080491329264&dec=-41.66846306099243\"><img src=\"http://legacysurvey.org/viewer/jpeg-cutout/?ra=324.408&dec=-41.66846&zoom=15&layer=unwise-w1w2&size=120\"></a></td><td>6566106939398929152<br><a href=\"http://legacysurvey.org/viewer?ra=325.6894381483558&dec=-42.67016079404932\"><img src=\"http://legacysurvey.org/viewer/jpeg-cutout/?ra=325.6894&dec=-42.67016&zoom=15&layer=unwise-w1w2&size=120\"></a></td><td>6577992763175096448<br><a href=\"http://legacysurvey.org/viewer?ra=323.89121838661214&dec=-42.480916796560734\"><img src=\"http://legacysurvey.org/viewer/jpeg-cutout/?ra=323.8912&dec=-42.48092&zoom=15&layer=unwise-w1w2&size=120\"></a></td><td>6578302722374042752<br><a href=\"http://legacysurvey.org/viewer?ra=325.07272912164206&dec=-41.772226680743884\"><img src=\"http://legacysurvey.org/viewer/jpeg-cutout/?ra=325.0727&dec=-41.77223&zoom=15&layer=unwise-w1w2&size=120\"></a></td><td>6578105458819618176<br><a href=\"http://legacysurvey.org/viewer?ra=325.42757391994684&dec=-42.98661841621762\"><img src=\"http://legacysurvey.org/viewer/jpeg-cutout/?ra=325.4276&dec=-42.98662&zoom=15&layer=unwise-w1w2&size=120\"></a></td><td>6578164080830253568<br><a href=\"http://legacysurvey.org/viewer?ra=324.33103261427755&dec=-42.5917508564265\"><img src=\"http://legacysurvey.org/viewer/jpeg-cutout/?ra=324.331&dec=-42.59175&zoom=15&layer=unwise-w1w2&size=120\"></a></td></tr>\n",
       "    </table>\n",
       "    "
      ],
      "text/plain": [
       "<IPython.core.display.HTML object>"
      ]
     },
     "execution_count": 33,
     "metadata": {},
     "output_type": "execute_result"
    }
   ],
   "source": [
    "# only need to remove if something really fishy is going on\n",
    "make_decals_viewer_cutouts(guidestars[np.random.permutation(len(guidestars))[:24]], \n",
    "                           survey='unwise-w1w2',ncols=6,namecol='TargetName')"
   ]
  },
  {
   "cell_type": "code",
   "execution_count": 34,
   "metadata": {},
   "outputs": [
    {
     "name": "stdout",
     "output_type": "stream",
     "text": [
      "Copied to clipboard\n"
     ]
    },
    {
     "data": {
      "text/html": [
       "\n",
       "    Paste the coords in \"Enter values\" at  \n",
       "    <a href=\"https://des.ncsa.illinois.edu/easyweb/cutouts\">the DES cutout service</a>,\n",
       "    and change the size to 0.3 arcmin\n",
       "    "
      ],
      "text/plain": [
       "<IPython.core.display.HTML object>"
      ]
     },
     "execution_count": 34,
     "metadata": {},
     "output_type": "execute_result"
    }
   ],
   "source": [
    "make_des_cutouts_file(acat[acat['Notes']=='sky'])"
   ]
  },
  {
   "cell_type": "code",
   "execution_count": 39,
   "metadata": {},
   "outputs": [
    {
     "name": "stdout",
     "output_type": "stream",
     "text": [
      "https://des.ncsa.illinois.edu/easyweb/static/workdir/eteq/bebbc0f3-4589-4eb0-b861-ece5a61e3b39/list.json\n"
     ]
    },
    {
     "data": {
      "text/html": [
       "\n",
       "    <table>\n",
       "    <tr><td>0<br><a href=\"http://legacysurvey.org/viewer?ra=324.51594503953976&dec=-43.48908437854284\"><img src=\"https://des.ncsa.illinois.edu/easyweb/static/workdir/eteq/bebbc0f3-4589-4eb0-b861-ece5a61e3b39/DESJ213729.0-425345.7.tif.png\"height=\"128\" width=\"128\"></a></td><td>1<br><a href=\"http://legacysurvey.org/viewer?ra=325.67659239823826&dec=-41.78514338518802\"><img src=\"https://des.ncsa.illinois.edu/easyweb/static/workdir/eteq/bebbc0f3-4589-4eb0-b861-ece5a61e3b39/DESJ213954.8-433351.3.tif.png\"height=\"128\" width=\"128\"></a></td><td>2<br><a href=\"http://legacysurvey.org/viewer?ra=324.9884192174256&dec=-41.509814310721424\"><img src=\"https://des.ncsa.illinois.edu/easyweb/static/workdir/eteq/bebbc0f3-4589-4eb0-b861-ece5a61e3b39/DESJ214118.8-433425.1.tif.png\"height=\"128\" width=\"128\"></a></td><td>3<br><a href=\"http://legacysurvey.org/viewer?ra=324.0059850670167&dec=-42.6319222649502\"><img src=\"https://des.ncsa.illinois.edu/easyweb/static/workdir/eteq/bebbc0f3-4589-4eb0-b861-ece5a61e3b39/DESJ213930.8-413009.7.tif.png\"height=\"128\" width=\"128\"></a></td><td>4<br><a href=\"http://legacysurvey.org/viewer?ra=324.48450316479887&dec=-43.451358037472055\"><img src=\"https://des.ncsa.illinois.edu/easyweb/static/workdir/eteq/bebbc0f3-4589-4eb0-b861-ece5a61e3b39/DESJ214027.7-433813.3.tif.png\"height=\"128\" width=\"128\"></a></td><td>5<br><a href=\"http://legacysurvey.org/viewer?ra=325.83412677766756&dec=-42.885030718701955\"><img src=\"https://des.ncsa.illinois.edu/easyweb/static/workdir/eteq/bebbc0f3-4589-4eb0-b861-ece5a61e3b39/DESJ214057.2-413133.7.tif.png\"height=\"128\" width=\"128\"></a></td><td>6<br><a href=\"http://legacysurvey.org/viewer?ra=324.5278453201529&dec=-43.49815108167406\"><img src=\"https://des.ncsa.illinois.edu/easyweb/static/workdir/eteq/bebbc0f3-4589-4eb0-b861-ece5a61e3b39/DESJ214146.8-425628.5.tif.png\"height=\"128\" width=\"128\"></a></td><td>7<br><a href=\"http://legacysurvey.org/viewer?ra=324.9730336283243&dec=-43.398817649440296\"><img src=\"https://des.ncsa.illinois.edu/easyweb/static/workdir/eteq/bebbc0f3-4589-4eb0-b861-ece5a61e3b39/DESJ213904.5-430214.2.tif.png\"height=\"128\" width=\"128\"></a></td></tr>\n",
       "<tr><td>8<br><a href=\"http://legacysurvey.org/viewer?ra=325.7193564921423&dec=-43.31353352409307\"><img src=\"https://des.ncsa.illinois.edu/easyweb/static/workdir/eteq/bebbc0f3-4589-4eb0-b861-ece5a61e3b39/DESJ214142.3-413258.3.tif.png\"height=\"128\" width=\"128\"></a></td><td>9<br><a href=\"http://legacysurvey.org/viewer?ra=325.4625338149266&dec=-41.9012092825915\"><img src=\"https://des.ncsa.illinois.edu/easyweb/static/workdir/eteq/bebbc0f3-4589-4eb0-b861-ece5a61e3b39/DESJ214035.6-412925.2.tif.png\"height=\"128\" width=\"128\"></a></td><td>10<br><a href=\"http://legacysurvey.org/viewer?ra=324.49613670210215&dec=-43.40327802605068\"><img src=\"https://des.ncsa.illinois.edu/easyweb/static/workdir/eteq/bebbc0f3-4589-4eb0-b861-ece5a61e3b39/DESJ213806.0-413549.6.tif.png\"height=\"128\" width=\"128\"></a></td><td>11<br><a href=\"http://legacysurvey.org/viewer?ra=324.8683249670245&dec=-43.571191062167564\"><img src=\"https://des.ncsa.illinois.edu/easyweb/static/workdir/eteq/bebbc0f3-4589-4eb0-b861-ece5a61e3b39/DESJ213847.3-432900.5.tif.png\"height=\"128\" width=\"128\"></a></td><td>12<br><a href=\"http://legacysurvey.org/viewer?ra=324.9243807945018&dec=-43.03073969336986\"><img src=\"https://des.ncsa.illinois.edu/easyweb/static/workdir/eteq/bebbc0f3-4589-4eb0-b861-ece5a61e3b39/DESJ214057.5-413114.6.tif.png\"height=\"128\" width=\"128\"></a></td><td>13<br><a href=\"http://legacysurvey.org/viewer?ra=324.4243932530294&dec=-42.53939341216731\"><img src=\"https://des.ncsa.illinois.edu/easyweb/static/workdir/eteq/bebbc0f3-4589-4eb0-b861-ece5a61e3b39/DESJ213957.2-413035.3.tif.png\"height=\"128\" width=\"128\"></a></td><td>14<br><a href=\"http://legacysurvey.org/viewer?ra=324.70490701490576&dec=-43.05788983429307\"><img src=\"https://des.ncsa.illinois.edu/easyweb/static/workdir/eteq/bebbc0f3-4589-4eb0-b861-ece5a61e3b39/DESJ213925.9-412933.5.tif.png\"height=\"128\" width=\"128\"></a></td><td>15<br><a href=\"http://legacysurvey.org/viewer?ra=324.2529870700162&dec=-42.90996055525346\"><img src=\"https://des.ncsa.illinois.edu/easyweb/static/workdir/eteq/bebbc0f3-4589-4eb0-b861-ece5a61e3b39/DESJ213601.4-423754.9.tif.png\"height=\"128\" width=\"128\"></a></td></tr>\n",
       "<tr><td>16<br><a href=\"http://legacysurvey.org/viewer?ra=324.3466369351598&dec=-43.379140842857275\"><img src=\"https://des.ncsa.illinois.edu/easyweb/static/workdir/eteq/bebbc0f3-4589-4eb0-b861-ece5a61e3b39/DESJ214127.9-431533.3.tif.png\"height=\"128\" width=\"128\"></a></td><td>17<br><a href=\"http://legacysurvey.org/viewer?ra=325.8791077908298&dec=-42.17113599680073\"><img src=\"https://des.ncsa.illinois.edu/easyweb/static/workdir/eteq/bebbc0f3-4589-4eb0-b861-ece5a61e3b39/DESJ214004.1-414008.7.tif.png\"height=\"128\" width=\"128\"></a></td><td>18<br><a href=\"http://legacysurvey.org/viewer?ra=325.21535976160834&dec=-43.54867702568462\"><img src=\"https://des.ncsa.illinois.edu/easyweb/static/workdir/eteq/bebbc0f3-4589-4eb0-b861-ece5a61e3b39/DESJ213956.8-415013.1.tif.png\"height=\"128\" width=\"128\"></a></td><td>19<br><a href=\"http://legacysurvey.org/viewer?ra=325.04957943603864&dec=-43.634252552855855\"><img src=\"https://des.ncsa.illinois.edu/easyweb/static/workdir/eteq/bebbc0f3-4589-4eb0-b861-ece5a61e3b39/DESJ214030.8-413002.1.tif.png\"height=\"128\" width=\"128\"></a></td><td>20<br><a href=\"http://legacysurvey.org/viewer?ra=325.4262370996786&dec=-41.549520793715956\"><img src=\"https://des.ncsa.illinois.edu/easyweb/static/workdir/eteq/bebbc0f3-4589-4eb0-b861-ece5a61e3b39/DESJ213822.8-431057.2.tif.png\"height=\"128\" width=\"128\"></a></td><td>21<br><a href=\"http://legacysurvey.org/viewer?ra=324.59520321768747&dec=-43.1825457429962\"><img src=\"https://des.ncsa.illinois.edu/easyweb/static/workdir/eteq/bebbc0f3-4589-4eb0-b861-ece5a61e3b39/DESJ213800.9-422822.7.tif.png\"height=\"128\" width=\"128\"></a></td><td>22<br><a href=\"http://legacysurvey.org/viewer?ra=324.6174450431251&dec=-41.53765405126731\"><img src=\"https://des.ncsa.illinois.edu/easyweb/static/workdir/eteq/bebbc0f3-4589-4eb0-b861-ece5a61e3b39/DESJ213640.1-424712.0.tif.png\"height=\"128\" width=\"128\"></a></td><td>23<br><a href=\"http://legacysurvey.org/viewer?ra=325.0384397206416&dec=-41.50951373767241\"><img src=\"https://des.ncsa.illinois.edu/easyweb/static/workdir/eteq/bebbc0f3-4589-4eb0-b861-ece5a61e3b39/DESJ213806.2-423045.4.tif.png\"height=\"128\" width=\"128\"></a></td></tr>\n",
       "<tr><td>24<br><a href=\"http://legacysurvey.org/viewer?ra=324.97725782782055&dec=-43.1160871211421\"><img src=\"https://des.ncsa.illinois.edu/easyweb/static/workdir/eteq/bebbc0f3-4589-4eb0-b861-ece5a61e3b39/DESJ213733.4-420246.1.tif.png\"height=\"128\" width=\"128\"></a></td><td>25<br><a href=\"http://legacysurvey.org/viewer?ra=325.0170557051414&dec=-41.66908176538773\"><img src=\"https://des.ncsa.illinois.edu/easyweb/static/workdir/eteq/bebbc0f3-4589-4eb0-b861-ece5a61e3b39/DESJ214032.8-433214.2.tif.png\"height=\"128\" width=\"128\"></a></td><td>26<br><a href=\"http://legacysurvey.org/viewer?ra=325.32720249618285&dec=-41.55469298415685\"><img src=\"https://des.ncsa.illinois.edu/easyweb/static/workdir/eteq/bebbc0f3-4589-4eb0-b861-ece5a61e3b39/DESJ213828.2-413215.5.tif.png\"height=\"128\" width=\"128\"></a></td><td>27<br><a href=\"http://legacysurvey.org/viewer?ra=325.60807622715004&dec=-41.86854917261597\"><img src=\"https://des.ncsa.illinois.edu/easyweb/static/workdir/eteq/bebbc0f3-4589-4eb0-b861-ece5a61e3b39/DESJ214009.2-413034.2.tif.png\"height=\"128\" width=\"128\"></a></td><td>28<br><a href=\"http://legacysurvey.org/viewer?ra=324.8784541839666&dec=-41.50268564693853\"><img src=\"https://des.ncsa.illinois.edu/easyweb/static/workdir/eteq/bebbc0f3-4589-4eb0-b861-ece5a61e3b39/DESJ213651.5-431125.9.tif.png\"height=\"128\" width=\"128\"></a></td><td>29<br><a href=\"http://legacysurvey.org/viewer?ra=325.56849202876674&dec=-41.59183292130891\"><img src=\"https://des.ncsa.illinois.edu/easyweb/static/workdir/eteq/bebbc0f3-4589-4eb0-b861-ece5a61e3b39/DESJ214303.1-415006.6.tif.png\"height=\"128\" width=\"128\"></a></td><td>30<br><a href=\"http://legacysurvey.org/viewer?ra=324.98648031758734&dec=-41.836982150454126\"><img src=\"https://des.ncsa.illinois.edu/easyweb/static/workdir/eteq/bebbc0f3-4589-4eb0-b861-ece5a61e3b39/DESJ213749.2-414515.6.tif.png\"height=\"128\" width=\"128\"></a></td><td>31<br><a href=\"http://legacysurvey.org/viewer?ra=325.76271307956324&dec=-41.835171389270364\"><img src=\"https://des.ncsa.illinois.edu/easyweb/static/workdir/eteq/bebbc0f3-4589-4eb0-b861-ece5a61e3b39/DESJ214101.3-412751.9.tif.png\"height=\"128\" width=\"128\"></a></td></tr>\n",
       "<tr><td>32<br><a href=\"http://legacysurvey.org/viewer?ra=324.4131151037307&dec=-42.74924827430885\"><img src=\"https://des.ncsa.illinois.edu/easyweb/static/workdir/eteq/bebbc0f3-4589-4eb0-b861-ece5a61e3b39/DESJ213759.1-432411.8.tif.png\"height=\"128\" width=\"128\"></a></td><td>33<br><a href=\"http://legacysurvey.org/viewer?ra=324.74643115677674&dec=-43.52288947862204\"><img src=\"https://des.ncsa.illinois.edu/easyweb/static/workdir/eteq/bebbc0f3-4589-4eb0-b861-ece5a61e3b39/DESJ213706.3-431019.6.tif.png\"height=\"128\" width=\"128\"></a></td><td>34<br><a href=\"http://legacysurvey.org/viewer?ra=324.74037021856014&dec=-41.50064811554496\"><img src=\"https://des.ncsa.illinois.edu/easyweb/static/workdir/eteq/bebbc0f3-4589-4eb0-b861-ece5a61e3b39/DESJ213707.6-421330.3.tif.png\"height=\"128\" width=\"128\"></a></td><td>35<br><a href=\"http://legacysurvey.org/viewer?ra=324.53729536623473&dec=-42.87251643022556\"><img src=\"https://des.ncsa.illinois.edu/easyweb/static/workdir/eteq/bebbc0f3-4589-4eb0-b861-ece5a61e3b39/DESJ214118.5-413316.9.tif.png\"height=\"128\" width=\"128\"></a></td><td>36<br><a href=\"http://legacysurvey.org/viewer?ra=324.4524098833742&dec=-43.442911408700176\"><img src=\"https://des.ncsa.illinois.edu/easyweb/static/workdir/eteq/bebbc0f3-4589-4eb0-b861-ece5a61e3b39/DESJ213934.0-432754.0.tif.png\"height=\"128\" width=\"128\"></a></td><td>37<br><a href=\"http://legacysurvey.org/viewer?ra=325.1519806023359&dec=-41.827721863539864\"><img src=\"https://des.ncsa.illinois.edu/easyweb/static/workdir/eteq/bebbc0f3-4589-4eb0-b861-ece5a61e3b39/DESJ214249.8-414744.3.tif.png\"height=\"128\" width=\"128\"></a></td><td>38<br><a href=\"http://legacysurvey.org/viewer?ra=324.45985771907414&dec=-42.12756446240238\"><img src=\"https://des.ncsa.illinois.edu/easyweb/static/workdir/eteq/bebbc0f3-4589-4eb0-b861-ece5a61e3b39/DESJ213920.2-413422.4.tif.png\"height=\"128\" width=\"128\"></a></td><td>39<br><a href=\"http://legacysurvey.org/viewer?ra=324.6938630174097&dec=-43.5412900055909\"><img src=\"https://des.ncsa.illinois.edu/easyweb/static/workdir/eteq/bebbc0f3-4589-4eb0-b861-ece5a61e3b39/DESJ214142.3-433247.6.tif.png\"height=\"128\" width=\"128\"></a></td></tr>\n",
       "<tr><td>40<br><a href=\"http://legacysurvey.org/viewer?ra=324.5039541992659&dec=-42.472963791468906\"><img src=\"https://des.ncsa.illinois.edu/easyweb/static/workdir/eteq/bebbc0f3-4589-4eb0-b861-ece5a61e3b39/DESJ213906.1-413340.1.tif.png\"height=\"128\" width=\"128\"></a></td><td>41<br><a href=\"http://legacysurvey.org/viewer?ra=324.52587069311204&dec=-42.512602579711476\"><img src=\"https://des.ncsa.illinois.edu/easyweb/static/workdir/eteq/bebbc0f3-4589-4eb0-b861-ece5a61e3b39/DESJ214315.3-421104.5.tif.png\"height=\"128\" width=\"128\"></a></td><td>42<br><a href=\"http://legacysurvey.org/viewer?ra=325.239649550134&dec=-41.52072408656258\"><img src=\"https://des.ncsa.illinois.edu/easyweb/static/workdir/eteq/bebbc0f3-4589-4eb0-b861-ece5a61e3b39/DESJ213928.7-413050.9.tif.png\"height=\"128\" width=\"128\"></a></td><td>43<br><a href=\"http://legacysurvey.org/viewer?ra=325.3284876025534&dec=-43.57363074686485\"><img src=\"https://des.ncsa.illinois.edu/easyweb/static/workdir/eteq/bebbc0f3-4589-4eb0-b861-ece5a61e3b39/DESJ214022.8-413157.3.tif.png\"height=\"128\" width=\"128\"></a></td><td>44<br><a href=\"http://legacysurvey.org/viewer?ra=324.489544758558&dec=-41.6050172256721\"><img src=\"https://des.ncsa.illinois.edu/easyweb/static/workdir/eteq/bebbc0f3-4589-4eb0-b861-ece5a61e3b39/DESJ214200.2-420307.4.tif.png\"height=\"128\" width=\"128\"></a></td><td>45<br><a href=\"http://legacysurvey.org/viewer?ra=325.7250934126274&dec=-42.649869202037934\"><img src=\"https://des.ncsa.illinois.edu/easyweb/static/workdir/eteq/bebbc0f3-4589-4eb0-b861-ece5a61e3b39/DESJ214116.1-433238.0.tif.png\"height=\"128\" width=\"128\"></a></td><td>46<br><a href=\"http://legacysurvey.org/viewer?ra=324.44522643227947&dec=-41.72180371855506\"><img src=\"https://des.ncsa.illinois.edu/easyweb/static/workdir/eteq/bebbc0f3-4589-4eb0-b861-ece5a61e3b39/DESJ214132.3-413126.8.tif.png\"height=\"128\" width=\"128\"></a></td><td>47<br><a href=\"http://legacysurvey.org/viewer?ra=324.7918072826519&dec=-43.35227894676875\"><img src=\"https://des.ncsa.illinois.edu/easyweb/static/workdir/eteq/bebbc0f3-4589-4eb0-b861-ece5a61e3b39/DESJ213935.0-413210.2.tif.png\"height=\"128\" width=\"128\"></a></td></tr>\n",
       "<tr><td>48<br><a href=\"http://legacysurvey.org/viewer?ra=325.31691024595426&dec=-43.543875026484784\"><img src=\"https://des.ncsa.illinois.edu/easyweb/static/workdir/eteq/bebbc0f3-4589-4eb0-b861-ece5a61e3b39/DESJ214011.9-433803.3.tif.png\"height=\"128\" width=\"128\"></a></td><td>49<br><a href=\"http://legacysurvey.org/viewer?ra=324.0510639159916&dec=-42.57688000308675\"><img src=\"https://des.ncsa.illinois.edu/easyweb/static/workdir/eteq/bebbc0f3-4589-4eb0-b861-ece5a61e3b39/DESJ213917.9-412911.7.tif.png\"height=\"128\" width=\"128\"></a></td><td>50<br><a href=\"http://legacysurvey.org/viewer?ra=324.90569666936676&dec=-41.483537930806904\"><img src=\"https://des.ncsa.illinois.edu/easyweb/static/workdir/eteq/bebbc0f3-4589-4eb0-b861-ece5a61e3b39/DESJ214213.4-424558.9.tif.png\"height=\"128\" width=\"128\"></a></td><td>51<br><a href=\"http://legacysurvey.org/viewer?ra=324.52506899176143&dec=-41.5970960083264\"><img src=\"https://des.ncsa.illinois.edu/easyweb/static/workdir/eteq/bebbc0f3-4589-4eb0-b861-ece5a61e3b39/DESJ214017.4-433500.8.tif.png\"height=\"128\" width=\"128\"></a></td><td>52<br><a href=\"http://legacysurvey.org/viewer?ra=325.09506294966894&dec=-41.53258504612982\"><img src=\"https://des.ncsa.illinois.edu/easyweb/static/workdir/eteq/bebbc0f3-4589-4eb0-b861-ece5a61e3b39/DESJ214030.6-413327.1.tif.png\"height=\"128\" width=\"128\"></a></td><td>53<br><a href=\"http://legacysurvey.org/viewer?ra=325.5989677499437&dec=-42.95142695668893\"><img src=\"https://des.ncsa.illinois.edu/easyweb/static/workdir/eteq/bebbc0f3-4589-4eb0-b861-ece5a61e3b39/DESJ214028.7-413031.6.tif.png\"height=\"128\" width=\"128\"></a></td><td>54<br><a href=\"http://legacysurvey.org/viewer?ra=324.00920253925705&dec=-42.60834425653017\"><img src=\"https://des.ncsa.illinois.edu/easyweb/static/workdir/eteq/bebbc0f3-4589-4eb0-b861-ece5a61e3b39/DESJ214016.1-412713.8.tif.png\"height=\"128\" width=\"128\"></a></td><td>55<br><a href=\"http://legacysurvey.org/viewer?ra=325.76915164397593&dec=-43.11544788400132\"><img src=\"https://des.ncsa.illinois.edu/easyweb/static/workdir/eteq/bebbc0f3-4589-4eb0-b861-ece5a61e3b39/DESJ213906.1-433431.5.tif.png\"height=\"128\" width=\"128\"></a></td></tr>\n",
       "<tr><td>56<br><a href=\"http://legacysurvey.org/viewer?ra=325.3662890303549&dec=-43.25925685561533\"><img src=\"https://des.ncsa.illinois.edu/easyweb/static/workdir/eteq/bebbc0f3-4589-4eb0-b861-ece5a61e3b39/DESJ214252.6-431848.7.tif.png\"height=\"128\" width=\"128\"></a></td><td>57<br><a href=\"http://legacysurvey.org/viewer?ra=325.8675157913209&dec=-43.14665702602005\"><img src=\"https://des.ncsa.illinois.edu/easyweb/static/workdir/eteq/bebbc0f3-4589-4eb0-b861-ece5a61e3b39/DESJ214025.8-431312.1.tif.png\"height=\"128\" width=\"128\"></a></td><td>58<br><a href=\"http://legacysurvey.org/viewer?ra=324.38905546028514&dec=-42.046126481033085\"><img src=\"https://des.ncsa.illinois.edu/easyweb/static/workdir/eteq/bebbc0f3-4589-4eb0-b861-ece5a61e3b39/DESJ214151.0-415404.4.tif.png\"height=\"128\" width=\"128\"></a></td><td>59<br><a href=\"http://legacysurvey.org/viewer?ra=324.01269692523755&dec=-42.65560815223425\"><img src=\"https://des.ncsa.illinois.edu/easyweb/static/workdir/eteq/bebbc0f3-4589-4eb0-b861-ece5a61e3b39/DESJ214025.6-414757.7.tif.png\"height=\"128\" width=\"128\"></a></td><td>60<br><a href=\"http://legacysurvey.org/viewer?ra=324.76858581339195&dec=-43.03728187618847\"><img src=\"https://des.ncsa.illinois.edu/easyweb/static/workdir/eteq/bebbc0f3-4589-4eb0-b861-ece5a61e3b39/DESJ213720.6-415643.7.tif.png\"height=\"128\" width=\"128\"></a></td><td>61<br><a href=\"http://legacysurvey.org/viewer?ra=324.48829707878616&dec=-43.45637830140787\"><img src=\"https://des.ncsa.illinois.edu/easyweb/static/workdir/eteq/bebbc0f3-4589-4eb0-b861-ece5a61e3b39/DESJ213730.9-421224.2.tif.png\"height=\"128\" width=\"128\"></a></td><td>62<br><a href=\"http://legacysurvey.org/viewer?ra=324.8959576186823&dec=-41.53617337422877\"><img src=\"https://des.ncsa.illinois.edu/easyweb/static/workdir/eteq/bebbc0f3-4589-4eb0-b861-ece5a61e3b39/DESJ213723.2-432244.9.tif.png\"height=\"128\" width=\"128\"></a></td><td>63<br><a href=\"http://legacysurvey.org/viewer?ra=324.5755136837887&dec=-43.15824568048147\"><img src=\"https://des.ncsa.illinois.edu/easyweb/static/workdir/eteq/bebbc0f3-4589-4eb0-b861-ece5a61e3b39/DESJ214331.0-421016.1.tif.png\"height=\"128\" width=\"128\"></a></td></tr>\n",
       "<tr><td>64<br><a href=\"http://legacysurvey.org/viewer?ra=325.1482860502993&dec=-41.490336922742024\"><img src=\"https://des.ncsa.illinois.edu/easyweb/static/workdir/eteq/bebbc0f3-4589-4eb0-b861-ece5a61e3b39/DESJ213910.0-432108.2.tif.png\"height=\"128\" width=\"128\"></a></td><td>65<br><a href=\"http://legacysurvey.org/viewer?ra=324.371007316256&dec=-42.89602121830261\"><img src=\"https://des.ncsa.illinois.edu/easyweb/static/workdir/eteq/bebbc0f3-4589-4eb0-b861-ece5a61e3b39/DESJ214304.6-430655.6.tif.png\"height=\"128\" width=\"128\"></a></td><td>66<br><a href=\"http://legacysurvey.org/viewer?ra=324.2192930640084&dec=-43.09763377747989\"><img src=\"https://des.ncsa.illinois.edu/easyweb/static/workdir/eteq/bebbc0f3-4589-4eb0-b861-ece5a61e3b39/DESJ213928.9-413641.2.tif.png\"height=\"128\" width=\"128\"></a></td><td>67<br><a href=\"http://legacysurvey.org/viewer?ra=325.25543310932085&dec=-41.464427134201294\"><img src=\"https://des.ncsa.illinois.edu/easyweb/static/workdir/eteq/bebbc0f3-4589-4eb0-b861-ece5a61e3b39/DESJ214225.9-415206.8.tif.png\"height=\"128\" width=\"128\"></a></td><td>68<br><a href=\"http://legacysurvey.org/viewer?ra=325.44487077380313&dec=-42.94125174156656\"><img src=\"https://des.ncsa.illinois.edu/easyweb/static/workdir/eteq/bebbc0f3-4589-4eb0-b861-ece5a61e3b39/DESJ213806.7-432953.3.tif.png\"height=\"128\" width=\"128\"></a></td><td>69<br><a href=\"http://legacysurvey.org/viewer?ra=325.7512191096656&dec=-41.69558737731446\"><img src=\"https://des.ncsa.illinois.edu/easyweb/static/workdir/eteq/bebbc0f3-4589-4eb0-b861-ece5a61e3b39/DESJ213752.1-424740.2.tif.png\"height=\"128\" width=\"128\"></a></td><td>70<br><a href=\"http://legacysurvey.org/viewer?ra=325.1193800045852&dec=-41.50879210380606\"><img src=\"https://des.ncsa.illinois.edu/easyweb/static/workdir/eteq/bebbc0f3-4589-4eb0-b861-ece5a61e3b39/DESJ213914.2-433409.9.tif.png\"height=\"128\" width=\"128\"></a></td><td>71<br><a href=\"http://legacysurvey.org/viewer?ra=324.54110316635405&dec=-41.59322313730205\"><img src=\"https://des.ncsa.illinois.edu/easyweb/static/workdir/eteq/bebbc0f3-4589-4eb0-b861-ece5a61e3b39/DESJ214051.7-433255.2.tif.png\"height=\"128\" width=\"128\"></a></td></tr>\n",
       "<tr><td>72<br><a href=\"http://legacysurvey.org/viewer?ra=325.04226253216825&dec=-41.50201667955237\"><img src=\"https://des.ncsa.illinois.edu/easyweb/static/workdir/eteq/bebbc0f3-4589-4eb0-b861-ece5a61e3b39/DESJ214036.5-414939.8.tif.png\"height=\"128\" width=\"128\"></a></td><td>73<br><a href=\"http://legacysurvey.org/viewer?ra=324.4602708169023&dec=-42.16279936052488\"><img src=\"https://des.ncsa.illinois.edu/easyweb/static/workdir/eteq/bebbc0f3-4589-4eb0-b861-ece5a61e3b39/DESJ214254.0-423859.5.tif.png\"height=\"128\" width=\"128\"></a></td><td>74<br><a href=\"http://legacysurvey.org/viewer?ra=325.5056018997065&dec=-42.18912455848992\"><img src=\"https://des.ncsa.illinois.edu/easyweb/static/workdir/eteq/bebbc0f3-4589-4eb0-b861-ece5a61e3b39/DESJ213818.1-430929.7.tif.png\"height=\"128\" width=\"128\"></a></td><td>75<br><a href=\"http://legacysurvey.org/viewer?ra=324.77551348356883&dec=-41.5611394000794\"><img src=\"https://des.ncsa.illinois.edu/easyweb/static/workdir/eteq/bebbc0f3-4589-4eb0-b861-ece5a61e3b39/DESJ213746.9-414318.5.tif.png\"height=\"128\" width=\"128\"></a></td><td>76<br><a href=\"http://legacysurvey.org/viewer?ra=324.80926106058297&dec=-43.5694233384341\"><img src=\"https://des.ncsa.illinois.edu/easyweb/static/workdir/eteq/bebbc0f3-4589-4eb0-b861-ece5a61e3b39/DESJ213849.2-430328.4.tif.png\"height=\"128\" width=\"128\"></a></td><td>77<br><a href=\"http://legacysurvey.org/viewer?ra=325.23851504873556&dec=-41.52603924109008\"><img src=\"https://des.ncsa.illinois.edu/easyweb/static/workdir/eteq/bebbc0f3-4589-4eb0-b861-ece5a61e3b39/DESJ213956.5-433735.0.tif.png\"height=\"128\" width=\"128\"></a></td><td>78<br><a href=\"http://legacysurvey.org/viewer?ra=325.06901217481646&dec=-43.12572700751752\"><img src=\"https://des.ncsa.illinois.edu/easyweb/static/workdir/eteq/bebbc0f3-4589-4eb0-b861-ece5a61e3b39/DESJ213846.5-433228.6.tif.png\"height=\"128\" width=\"128\"></a></td><td>79<br><a href=\"http://legacysurvey.org/viewer?ra=324.2760813095624&dec=-43.172099657762075\"><img src=\"https://des.ncsa.illinois.edu/easyweb/static/workdir/eteq/bebbc0f3-4589-4eb0-b861-ece5a61e3b39/DESJ213937.4-412900.7.tif.png\"height=\"128\" width=\"128\"></a></td></tr>\n",
       "<tr><td>80<br><a href=\"http://legacysurvey.org/viewer?ra=325.8137763547248&dec=-42.18457217750781\"><img src=\"https://des.ncsa.illinois.edu/easyweb/static/workdir/eteq/bebbc0f3-4589-4eb0-b861-ece5a61e3b39/DESJ214016.8-413207.6.tif.png\"height=\"128\" width=\"128\"></a></td><td>81<br><a href=\"http://legacysurvey.org/viewer?ra=325.06995409654184&dec=-41.535453442118126\"><img src=\"https://des.ncsa.illinois.edu/easyweb/static/workdir/eteq/bebbc0f3-4589-4eb0-b861-ece5a61e3b39/DESJ213857.7-413002.3.tif.png\"height=\"128\" width=\"128\"></a></td><td>82<br><a href=\"http://legacysurvey.org/viewer?ra=324.33599783327094&dec=-41.945472848510626\"><img src=\"https://des.ncsa.illinois.edu/easyweb/static/workdir/eteq/bebbc0f3-4589-4eb0-b861-ece5a61e3b39/DESJ213954.5-430657.9.tif.png\"height=\"128\" width=\"128\"></a></td><td>83<br><a href=\"http://legacysurvey.org/viewer?ra=325.1155687969238&dec=-43.637027484887845\"><img src=\"https://des.ncsa.illinois.edu/easyweb/static/workdir/eteq/bebbc0f3-4589-4eb0-b861-ece5a61e3b39/DESJ214010.1-433311.1.tif.png\"height=\"128\" width=\"128\"></a></td><td>84<br><a href=\"http://legacysurvey.org/viewer?ra=324.8608485488431&dec=-41.47770471760439\"><img src=\"https://des.ncsa.illinois.edu/easyweb/static/workdir/eteq/bebbc0f3-4589-4eb0-b861-ece5a61e3b39/DESJ213809.9-413535.6.tif.png\"height=\"128\" width=\"128\"></a></td><td>85<br><a href=\"http://legacysurvey.org/viewer?ra=324.214477284514&dec=-43.19052467824538\"><img src=\"https://des.ncsa.illinois.edu/easyweb/static/workdir/eteq/bebbc0f3-4589-4eb0-b861-ece5a61e3b39/DESJ213809.0-425221.1.tif.png\"height=\"128\" width=\"128\"></a></td><td>86<br><a href=\"http://legacysurvey.org/viewer?ra=325.10767505213784&dec=-43.220033328076255\"><img src=\"https://des.ncsa.illinois.edu/easyweb/static/workdir/eteq/bebbc0f3-4589-4eb0-b861-ece5a61e3b39/DESJ214100.9-433518.5.tif.png\"height=\"128\" width=\"128\"></a></td><td>87<br><a href=\"http://legacysurvey.org/viewer?ra=324.69725356735245&dec=-43.48346071903287\"><img src=\"https://des.ncsa.illinois.edu/easyweb/static/workdir/eteq/bebbc0f3-4589-4eb0-b861-ece5a61e3b39/DESJ213757.2-432723.0.tif.png\"height=\"128\" width=\"128\"></a></td></tr>\n",
       "<tr><td>88<br><a href=\"http://legacysurvey.org/viewer?ra=324.1669896804835&dec=-42.786679771878376\"><img src=\"https://des.ncsa.illinois.edu/easyweb/static/workdir/eteq/bebbc0f3-4589-4eb0-b861-ece5a61e3b39/DESJ213822.6-413419.7.tif.png\"height=\"128\" width=\"128\"></a></td><td>89<br><a href=\"http://legacysurvey.org/viewer?ra=324.86959719546195&dec=-41.51413382025963\"><img src=\"https://des.ncsa.illinois.edu/easyweb/static/workdir/eteq/bebbc0f3-4589-4eb0-b861-ece5a61e3b39/DESJ214356.4-421940.5.tif.png\"height=\"128\" width=\"128\"></a></td><td>90<br><a href=\"http://legacysurvey.org/viewer?ra=326.11227417777116&dec=-42.488486087956176\"><img src=\"https://des.ncsa.illinois.edu/easyweb/static/workdir/eteq/bebbc0f3-4589-4eb0-b861-ece5a61e3b39/DESJ213941.9-430150.7.tif.png\"height=\"128\" width=\"128\"></a></td><td>91<br><a href=\"http://legacysurvey.org/viewer?ra=325.10681981631393&dec=-41.799357348381434\"><img src=\"https://des.ncsa.illinois.edu/easyweb/static/workdir/eteq/bebbc0f3-4589-4eb0-b861-ece5a61e3b39/DESJ213612.3-423436.8.tif.png\"height=\"128\" width=\"128\"></a></td><td>92<br><a href=\"http://legacysurvey.org/viewer?ra=324.8703248839734&dec=-41.61143699646326\"><img src=\"https://des.ncsa.illinois.edu/easyweb/static/workdir/eteq/bebbc0f3-4589-4eb0-b861-ece5a61e3b39/DESJ213928.4-433416.3.tif.png\"height=\"128\" width=\"128\"></a></td><td>93<br><a href=\"http://legacysurvey.org/viewer?ra=324.37866486283855&dec=-42.206731215008446\"><img src=\"https://des.ncsa.illinois.edu/easyweb/static/workdir/eteq/bebbc0f3-4589-4eb0-b861-ece5a61e3b39/DESJ214223.8-425705.1.tif.png\"height=\"128\" width=\"128\"></a></td><td>94<br><a href=\"http://legacysurvey.org/viewer?ra=325.5556952687521&dec=-42.766371483679116\"><img src=\"https://des.ncsa.illinois.edu/easyweb/static/workdir/eteq/bebbc0f3-4589-4eb0-b861-ece5a61e3b39/DESJ214216.4-413530.6.tif.png\"height=\"128\" width=\"128\"></a></td><td>95<br><a href=\"http://legacysurvey.org/viewer?ra=324.82438787073505&dec=-41.486577057410685\"><img src=\"https://des.ncsa.illinois.edu/easyweb/static/workdir/eteq/bebbc0f3-4589-4eb0-b861-ece5a61e3b39/DESJ213823.2-432923.8.tif.png\"height=\"128\" width=\"128\"></a></td></tr>\n",
       "<tr><td>96<br><a href=\"http://legacysurvey.org/viewer?ra=324.59427853984096&dec=-41.57213669584959\"><img src=\"https://des.ncsa.illinois.edu/easyweb/static/workdir/eteq/bebbc0f3-4589-4eb0-b861-ece5a61e3b39/DESJ213953.5-432355.8.tif.png\"height=\"128\" width=\"128\"></a></td><td>97<br><a href=\"http://legacysurvey.org/viewer?ra=324.9852062317261&dec=-43.626397868122716\"><img src=\"https://des.ncsa.illinois.edu/easyweb/static/workdir/eteq/bebbc0f3-4589-4eb0-b861-ece5a61e3b39/DESJ214016.6-430732.6.tif.png\"height=\"128\" width=\"128\"></a></td><td>98<br><a href=\"http://legacysurvey.org/viewer?ra=325.0669806771536&dec=-41.45383305846776\"><img src=\"https://des.ncsa.illinois.edu/easyweb/static/workdir/eteq/bebbc0f3-4589-4eb0-b861-ece5a61e3b39/DESJ214006.7-420221.6.tif.png\"height=\"128\" width=\"128\"></a></td><td>99<br><a href=\"http://legacysurvey.org/viewer?ra=325.5010040380413&dec=-42.05206084429945\"><img src=\"https://des.ncsa.illinois.edu/easyweb/static/workdir/eteq/bebbc0f3-4589-4eb0-b861-ece5a61e3b39/DESJ214010.1-413007.3.tif.png\"height=\"128\" width=\"128\"></a></td><td>100<br><a href=\"http://legacysurvey.org/viewer?ra=325.9390921536006&dec=-42.76502646704165\"><img src=\"https://des.ncsa.illinois.edu/easyweb/static/workdir/eteq/bebbc0f3-4589-4eb0-b861-ece5a61e3b39/DESJ213756.3-432704.9.tif.png\"height=\"128\" width=\"128\"></a></td><td>101<br><a href=\"http://legacysurvey.org/viewer?ra=325.0277591343123&dec=-42.03931993126403\"><img src=\"https://des.ncsa.illinois.edu/easyweb/static/workdir/eteq/bebbc0f3-4589-4eb0-b861-ece5a61e3b39/DESJ214235.4-422230.2.tif.png\"height=\"128\" width=\"128\"></a></td><td>102<br><a href=\"http://legacysurvey.org/viewer?ra=324.89165294324&dec=-43.465009425824036\"><img src=\"https://des.ncsa.illinois.edu/easyweb/static/workdir/eteq/bebbc0f3-4589-4eb0-b861-ece5a61e3b39/DESJ213859.1-433122.4.tif.png\"height=\"128\" width=\"128\"></a></td><td>103<br><a href=\"http://legacysurvey.org/viewer?ra=325.7074568523046&dec=-41.795644125368284\"><img src=\"https://des.ncsa.illinois.edu/easyweb/static/workdir/eteq/bebbc0f3-4589-4eb0-b861-ece5a61e3b39/DESJ214328.2-430848.0.tif.png\"height=\"128\" width=\"128\"></a></td></tr>\n",
       "<tr><td>104<br><a href=\"http://legacysurvey.org/viewer?ra=325.38439094689835&dec=-41.52411907511811\"><img src=\"https://des.ncsa.illinois.edu/easyweb/static/workdir/eteq/bebbc0f3-4589-4eb0-b861-ece5a61e3b39/DESJ213602.2-423630.0.tif.png\"height=\"128\" width=\"128\"></a></td><td>105<br><a href=\"http://legacysurvey.org/viewer?ra=324.97818059335043&dec=-43.56424212061358\"><img src=\"https://des.ncsa.illinois.edu/easyweb/static/workdir/eteq/bebbc0f3-4589-4eb0-b861-ece5a61e3b39/DESJ213750.5-420946.1.tif.png\"height=\"128\" width=\"128\"></a></td><td>106<br><a href=\"http://legacysurvey.org/viewer?ra=325.13668780563773&dec=-43.537267204414896\"><img src=\"https://des.ncsa.illinois.edu/easyweb/static/workdir/eteq/bebbc0f3-4589-4eb0-b861-ece5a61e3b39/DESJ213750.4-420739.2.tif.png\"height=\"128\" width=\"128\"></a></td><td>107<br><a href=\"http://legacysurvey.org/viewer?ra=325.1282351631002&dec=-41.500565274697806\"><img src=\"https://des.ncsa.illinois.edu/easyweb/static/workdir/eteq/bebbc0f3-4589-4eb0-b861-ece5a61e3b39/DESJ213700.7-425435.9.tif.png\"height=\"128\" width=\"128\"></a></td><td>108<br><a href=\"http://legacysurvey.org/viewer?ra=325.64747356023304&dec=-42.3750538913509\"><img src=\"https://des.ncsa.illinois.edu/easyweb/static/workdir/eteq/bebbc0f3-4589-4eb0-b861-ece5a61e3b39/DESJ214252.4-424225.7.tif.png\"height=\"128\" width=\"128\"></a></td><td>109<br><a href=\"http://legacysurvey.org/viewer?ra=325.4262714026403&dec=-43.54655869498817\"><img src=\"https://des.ncsa.illinois.edu/easyweb/static/workdir/eteq/bebbc0f3-4589-4eb0-b861-ece5a61e3b39/DESJ213803.8-432920.7.tif.png\"height=\"128\" width=\"128\"></a></td><td>110<br><a href=\"http://legacysurvey.org/viewer?ra=325.04228751390195&dec=-43.553088247278524\"><img src=\"https://des.ncsa.illinois.edu/easyweb/static/workdir/eteq/bebbc0f3-4589-4eb0-b861-ece5a61e3b39/DESJ214300.3-414144.1.tif.png\"height=\"128\" width=\"128\"></a></td><td>111<br><a href=\"http://legacysurvey.org/viewer?ra=324.454977151694&dec=-41.75432965302598\"><img src=\"https://des.ncsa.illinois.edu/easyweb/static/workdir/eteq/bebbc0f3-4589-4eb0-b861-ece5a61e3b39/DESJ213757.5-413618.1.tif.png\"height=\"128\" width=\"128\"></a></td></tr>\n",
       "<tr><td>112<br><a href=\"http://legacysurvey.org/viewer?ra=324.281616883332&dec=-42.225070609313605\"><img src=\"https://des.ncsa.illinois.edu/easyweb/static/workdir/eteq/bebbc0f3-4589-4eb0-b861-ece5a61e3b39/DESJ213926.6-412839.7.tif.png\"height=\"128\" width=\"128\"></a></td><td>113<br><a href=\"http://legacysurvey.org/viewer?ra=324.8578774483161&dec=-41.49265303464586\"><img src=\"https://des.ncsa.illinois.edu/easyweb/static/workdir/eteq/bebbc0f3-4589-4eb0-b861-ece5a61e3b39/DESJ214345.4-424554.1.tif.png\"height=\"128\" width=\"128\"></a></td><td>114<br><a href=\"http://legacysurvey.org/viewer?ra=325.2538744515539&dec=-43.58847617476291\"><img src=\"https://des.ncsa.illinois.edu/easyweb/static/workdir/eteq/bebbc0f3-4589-4eb0-b861-ece5a61e3b39/DESJ214320.2-425306.1.tif.png\"height=\"128\" width=\"128\"></a></td><td>115<br><a href=\"http://legacysurvey.org/viewer?ra=324.4671342781424&dec=-42.794488107113736\"><img src=\"https://des.ncsa.illinois.edu/easyweb/static/workdir/eteq/bebbc0f3-4589-4eb0-b861-ece5a61e3b39/DESJ214242.4-414706.5.tif.png\"height=\"128\" width=\"128\"></a></td><td>116<br><a href=\"http://legacysurvey.org/viewer?ra=325.9848226045647&dec=-42.32792452298267\"><img src=\"https://des.ncsa.illinois.edu/easyweb/static/workdir/eteq/bebbc0f3-4589-4eb0-b861-ece5a61e3b39/DESJ213652.6-430551.5.tif.png\"height=\"128\" width=\"128\"></a></td><td>117<br><a href=\"http://legacysurvey.org/viewer?ra=324.59648325175823&dec=-43.489936670117046\"><img src=\"https://des.ncsa.illinois.edu/easyweb/static/workdir/eteq/bebbc0f3-4589-4eb0-b861-ece5a61e3b39/DESJ213739.1-424457.3.tif.png\"height=\"128\" width=\"128\"></a></td><td>118<br><a href=\"http://legacysurvey.org/viewer?ra=324.8342133230936&dec=-41.57290365856787\"><img src=\"https://des.ncsa.illinois.edu/easyweb/static/workdir/eteq/bebbc0f3-4589-4eb0-b861-ece5a61e3b39/DESJ213855.1-413153.8.tif.png\"height=\"128\" width=\"128\"></a></td><td>119<br><a href=\"http://legacysurvey.org/viewer?ra=324.7296371258291&dec=-41.53160134123411\"><img src=\"https://des.ncsa.illinois.edu/easyweb/static/workdir/eteq/bebbc0f3-4589-4eb0-b861-ece5a61e3b39/DESJ213748.6-432634.5.tif.png\"height=\"128\" width=\"128\"></a></td></tr>\n",
       "<tr><td>120<br><a href=\"http://legacysurvey.org/viewer?ra=325.12738694101137&dec=-41.55753556211003\"><img src=\"https://des.ncsa.illinois.edu/easyweb/static/workdir/eteq/bebbc0f3-4589-4eb0-b861-ece5a61e3b39/DESJ214201.3-421120.8.tif.png\"height=\"128\" width=\"128\"></a></td><td>121<br><a href=\"http://legacysurvey.org/viewer?ra=325.7182424049956&dec=-42.707134198104775\"><img src=\"https://des.ncsa.illinois.edu/easyweb/static/workdir/eteq/bebbc0f3-4589-4eb0-b861-ece5a61e3b39/DESJ214426.9-422918.6.tif.png\"height=\"128\" width=\"128\"></a></td><td>122<br><a href=\"http://legacysurvey.org/viewer?ra=324.7754726516518&dec=-43.57542155670865\"><img src=\"https://des.ncsa.illinois.edu/easyweb/static/workdir/eteq/bebbc0f3-4589-4eb0-b861-ece5a61e3b39/DESJ213603.0-423920.2.tif.png\"height=\"128\" width=\"128\"></a></td><td>123<br><a href=\"http://legacysurvey.org/viewer?ra=325.0723569218574&dec=-43.583553733737205\"><img src=\"https://des.ncsa.illinois.edu/easyweb/static/workdir/eteq/bebbc0f3-4589-4eb0-b861-ece5a61e3b39/DESJ213741.9-423221.8.tif.png\"height=\"128\" width=\"128\"></a></td><td>124<br><a href=\"http://legacysurvey.org/viewer?ra=325.3366592678599&dec=-41.506009824014264\"><img src=\"https://des.ncsa.illinois.edu/easyweb/static/workdir/eteq/bebbc0f3-4589-4eb0-b861-ece5a61e3b39/DESJ214120.8-413021.6.tif.png\"height=\"128\" width=\"128\"></a></td><td></td><td></td><td></td></tr>\n",
       "    </table>\n",
       "    "
      ],
      "text/plain": [
       "<IPython.core.display.HTML object>"
      ]
     },
     "execution_count": 39,
     "metadata": {},
     "output_type": "execute_result"
    }
   ],
   "source": [
    "show_des_cutouts(acat[acat['Notes']=='sky'], 'bebbc0f3-4589-4eb0-b861-ece5a61e3b39', ncols=8, namecol='TargetName')"
   ]
  },
  {
   "cell_type": "code",
   "execution_count": 40,
   "metadata": {},
   "outputs": [
    {
     "data": {
      "text/plain": [
       "82"
      ]
     },
     "execution_count": 40,
     "metadata": {},
     "output_type": "execute_result"
    }
   ],
   "source": [
    "skys_to_rem = [int(i) for i in '1 4 8 9 10 12 13 14 25 26 27 28 31 32 36 39 42 43 46 51 53 54 56 61 68 73 77 78 79 80 81 82 83 84 87 90 95 99 101 109 112 118 119'.split()]\n",
    "writecat.remove_rows((writecat['Notes']=='Sky')&(np.in1d(writecat['TargetName'], skys_to_rem)))\n",
    "np.sum((writecat['Notes']=='Sky'))"
   ]
  },
  {
   "cell_type": "code",
   "execution_count": 41,
   "metadata": {},
   "outputs": [
    {
     "name": "stdout",
     "output_type": "stream",
     "text": [
      "Nflux: 5 Nguide: 100 NSky 82\n",
      "Targets in each priority: {1: 432, 2: 105, 3: 140, 4: 50, 5: 266, 6: 120, 7: 64, 8: 2}\n",
      "Total: 1366\n",
      "Writing aat_targets_jun2018/pgc67146_1.fld\n"
     ]
    },
    {
     "data": {
      "text/plain": [
       "1179"
      ]
     },
     "execution_count": 41,
     "metadata": {},
     "output_type": "execute_result"
    }
   ],
   "source": [
    "subsampledcat = subsample_catalog(writecat, {1:np.inf}, maxflux=5, maxguides=100)\n",
    "\n",
    "fldfn = 'aat_targets_jun2018/{}_{}.fld'.format(hostname, fieldnum)\n",
    "print('Writing', fldfn)\n",
    "write_fld_file(subsampledcat, host, obs_start_date, fldfn, suffix='_{}'.format(fieldnum))\n",
    "np.sum(subsampledcat['Notes'] == 'Targets')"
   ]
  },
  {
   "cell_type": "code",
   "execution_count": 59,
   "metadata": {},
   "outputs": [
    {
     "name": "stdout",
     "output_type": "stream",
     "text": [
      "pgc67146_1.fld                                100%   74KB  73.9KB/s   00:00    \n"
     ]
    }
   ],
   "source": [
    "!scp $fldfn visitor6@aatlxh:~/jun13/"
   ]
  },
  {
   "cell_type": "markdown",
   "metadata": {},
   "source": [
    "## PGC2052_3"
   ]
  },
  {
   "cell_type": "code",
   "execution_count": 43,
   "metadata": {},
   "outputs": [
    {
     "name": "stdout",
     "output_type": "stream",
     "text": [
      "[06/13 17:38:26] [WARNING] Not found: sdss catalog for pgc2052.\n",
      "[06/13 17:38:26] [WARNING] Not found: decals catalog for pgc2052.\n",
      "[06/13 17:38:26] Use DES to build base catalog v2 for pgc2052 (1/1)\n"
     ]
    },
    {
     "name": "stderr",
     "output_type": "stream",
     "text": [
      "WARNING:root:No photo obj matched to 2dF spec obj TGS283Z018 (8.168624999999999, -28.741861111111106)\n",
      "WARNING:root:No photo obj matched to 2dF spec obj TGS206Z079 (8.541916666666665, -27.79447222222222)\n",
      "WARNING:root:No photo obj matched to 2dF spec obj TGS205Z051 (7.494333333333333, -28.131388888888885)\n",
      "WARNING:root:No kcorrect module. Stellar mass not calculated!\n"
     ]
    },
    {
     "name": "stdout",
     "output_type": "stream",
     "text": [
      "[06/13 17:39:01] Write base catalog to ./base_catalogs/base_v2_pgc2052.fits.gz\n"
     ]
    }
   ],
   "source": [
    "idnum = 2052\n",
    "fieldnum = 3\n",
    "\n",
    "saga_object_catalog.build_and_write_to_database('pgc{}'.format(idnum), overwrite=fieldnum>1)"
   ]
  },
  {
   "cell_type": "code",
   "execution_count": 44,
   "metadata": {},
   "outputs": [
    {
     "name": "stdout",
     "output_type": "stream",
     "text": [
      "pgc2052\n",
      "# of flux stars = 70\n",
      "# of sky fibers = 100\n",
      "# of Priority=1 targets = 748\n",
      "# of Priority=2 targets = 12\n",
      "# of Priority=3 targets = 82\n",
      "# of Priority=4 targets = 50\n",
      "# of Priority=5 targets = 288\n",
      "# of Priority=6 targets = 26\n",
      "# of Priority=7 targets = 11\n",
      "# of Priority=8 targets = 12\n",
      "# of Priority=9 targets = 170\n",
      "Object catalog to Gaia offset: (<Angle -0.14253103 arcsec>, <Angle 0.13881317 arcsec>) from 550 objects (61.2%)\n",
      "Found 111 Gaia guide stars\n",
      "30 Have a brightish neighbor.  Removing them.\n"
     ]
    },
    {
     "data": {
      "text/plain": [
       "1480"
      ]
     },
     "execution_count": 44,
     "metadata": {},
     "output_type": "execute_result"
    }
   ],
   "source": [
    "host = targethosts[targethosts['PGC'] == idnum]\n",
    "assert len(host) == 1\n",
    "host = host[0]\n",
    "\n",
    "hostname = host[host_id_label]\n",
    "print(hostname)\n",
    "tcats[hostname] = tcat = saga_targets.build_target_catalogs(hostname, return_as='list').pop()\n",
    "acats[hostname] = acat = saga.targets.prepare_aat_catalog(tcat, sky_fiber_needed=100)\n",
    "\n",
    "guidestars = get_gaia_guidestars(hostname)\n",
    "writecat = table.vstack([acat, guidestars])\n",
    "writecat['Notes'] = [n.title() for n in writecat['Notes']]\n",
    "len(writecat)"
   ]
  },
  {
   "cell_type": "code",
   "execution_count": 45,
   "metadata": {},
   "outputs": [
    {
     "data": {
      "text/html": [
       "\n",
       "    <table>\n",
       "    <tr><td>2322336546919492224<br><a href=\"http://legacysurvey.org/viewer?ra=7.769387063345569&dec=-27.530722267245217\"><img src=\"http://legacysurvey.org/viewer/jpeg-cutout/?ra=7.769387&dec=-27.53072&zoom=15&layer=unwise-w1w2&size=120\"></a></td><td>2319273307524538752<br><a href=\"http://legacysurvey.org/viewer?ra=8.63832355292222&dec=-27.867555613664898\"><img src=\"http://legacysurvey.org/viewer/jpeg-cutout/?ra=8.638324&dec=-27.86756&zoom=15&layer=unwise-w1w2&size=120\"></a></td><td>2322329125215984384<br><a href=\"http://legacysurvey.org/viewer?ra=7.659578510546996&dec=-27.68060580020559\"><img src=\"http://legacysurvey.org/viewer/jpeg-cutout/?ra=7.659579&dec=-27.68061&zoom=15&layer=unwise-w1w2&size=120\"></a></td><td>2319199537166461952<br><a href=\"http://legacysurvey.org/viewer?ra=7.665298247475432&dec=-28.251560726570688\"><img src=\"http://legacysurvey.org/viewer/jpeg-cutout/?ra=7.665298&dec=-28.25156&zoom=15&layer=unwise-w1w2&size=120\"></a></td><td>2322316304737896064<br><a href=\"http://legacysurvey.org/viewer?ra=7.742501400989284&dec=-27.732205935287354\"><img src=\"http://legacysurvey.org/viewer/jpeg-cutout/?ra=7.742501&dec=-27.73221&zoom=15&layer=unwise-w1w2&size=120\"></a></td><td>2343332339927256320<br><a href=\"http://legacysurvey.org/viewer?ra=9.298404448652645&dec=-27.393032420583147\"><img src=\"http://legacysurvey.org/viewer/jpeg-cutout/?ra=9.298404&dec=-27.39303&zoom=15&layer=unwise-w1w2&size=120\"></a></td></tr>\n",
       "<tr><td>2319312649424925568<br><a href=\"http://legacysurvey.org/viewer?ra=8.20771094392189&dec=-27.808773264291997\"><img src=\"http://legacysurvey.org/viewer/jpeg-cutout/?ra=8.207711&dec=-27.80877&zoom=15&layer=unwise-w1w2&size=120\"></a></td><td>2319208913079108224<br><a href=\"http://legacysurvey.org/viewer?ra=7.66855441698101&dec=-28.147903633081828\"><img src=\"http://legacysurvey.org/viewer/jpeg-cutout/?ra=7.668554&dec=-28.1479&zoom=15&layer=unwise-w1w2&size=120\"></a></td><td>2319187270739891712<br><a href=\"http://legacysurvey.org/viewer?ra=7.964704314352772&dec=-28.40743388102047\"><img src=\"http://legacysurvey.org/viewer/jpeg-cutout/?ra=7.964704&dec=-28.40743&zoom=15&layer=unwise-w1w2&size=120\"></a></td><td>2343084739357291648<br><a href=\"http://legacysurvey.org/viewer?ra=9.65458055518031&dec=-27.863220748546972\"><img src=\"http://legacysurvey.org/viewer/jpeg-cutout/?ra=9.654581&dec=-27.86322&zoom=15&layer=unwise-w1w2&size=120\"></a></td><td>2319184831198444032<br><a href=\"http://legacysurvey.org/viewer?ra=7.7101089606457185&dec=-28.42077884336676\"><img src=\"http://legacysurvey.org/viewer/jpeg-cutout/?ra=7.710109&dec=-28.42078&zoom=15&layer=unwise-w1w2&size=120\"></a></td><td>2319247503360985728<br><a href=\"http://legacysurvey.org/viewer?ra=8.358852256142752&dec=-28.045013867897637\"><img src=\"http://legacysurvey.org/viewer/jpeg-cutout/?ra=8.358852&dec=-28.04501&zoom=15&layer=unwise-w1w2&size=120\"></a></td></tr>\n",
       "<tr><td>2319259804147387136<br><a href=\"http://legacysurvey.org/viewer?ra=9.098510913180586&dec=-27.977654867427148\"><img src=\"http://legacysurvey.org/viewer/jpeg-cutout/?ra=9.098511&dec=-27.97765&zoom=15&layer=unwise-w1w2&size=120\"></a></td><td>2322346992279991552<br><a href=\"http://legacysurvey.org/viewer?ra=8.163797363027896&dec=-27.48225777926359\"><img src=\"http://legacysurvey.org/viewer/jpeg-cutout/?ra=8.163797&dec=-27.48226&zoom=15&layer=unwise-w1w2&size=120\"></a></td><td>2343279906966486016<br><a href=\"http://legacysurvey.org/viewer?ra=9.224311384383855&dec=-27.864992529096433\"><img src=\"http://legacysurvey.org/viewer/jpeg-cutout/?ra=9.224311&dec=-27.86499&zoom=15&layer=unwise-w1w2&size=120\"></a></td><td>2343358109730975232<br><a href=\"http://legacysurvey.org/viewer?ra=8.782302444642093&dec=-27.31936269630375\"><img src=\"http://legacysurvey.org/viewer/jpeg-cutout/?ra=8.782302&dec=-27.31936&zoom=15&layer=unwise-w1w2&size=120\"></a></td><td>2322318916078011904<br><a href=\"http://legacysurvey.org/viewer?ra=7.926269968577413&dec=-27.71538126391953\"><img src=\"http://legacysurvey.org/viewer/jpeg-cutout/?ra=7.92627&dec=-27.71538&zoom=15&layer=unwise-w1w2&size=120\"></a></td><td>2322331392958701312<br><a href=\"http://legacysurvey.org/viewer?ra=7.474975916764402&dec=-27.674770745447624\"><img src=\"http://legacysurvey.org/viewer/jpeg-cutout/?ra=7.474976&dec=-27.67477&zoom=15&layer=unwise-w1w2&size=120\"></a></td></tr>\n",
       "<tr><td>2319000903518940544<br><a href=\"http://legacysurvey.org/viewer?ra=9.454624206523254&dec=-28.40082056975738\"><img src=\"http://legacysurvey.org/viewer/jpeg-cutout/?ra=9.454624&dec=-28.40082&zoom=15&layer=unwise-w1w2&size=120\"></a></td><td>2343370169999140864<br><a href=\"http://legacysurvey.org/viewer?ra=8.71544760357231&dec=-27.289725727545694\"><img src=\"http://legacysurvey.org/viewer/jpeg-cutout/?ra=8.715448&dec=-27.28973&zoom=15&layer=unwise-w1w2&size=120\"></a></td><td>2319049621332373120<br><a href=\"http://legacysurvey.org/viewer?ra=9.339962322717593&dec=-28.289658699946013\"><img src=\"http://legacysurvey.org/viewer/jpeg-cutout/?ra=9.339962&dec=-28.28966&zoom=15&layer=unwise-w1w2&size=120\"></a></td><td>2319326938780618112<br><a href=\"http://legacysurvey.org/viewer?ra=8.428150108663145&dec=-27.676078754907813\"><img src=\"http://legacysurvey.org/viewer/jpeg-cutout/?ra=8.42815&dec=-27.67608&zoom=15&layer=unwise-w1w2&size=120\"></a></td><td>2343335775901103872<br><a href=\"http://legacysurvey.org/viewer?ra=9.366261379223133&dec=-27.24435672799069\"><img src=\"http://legacysurvey.org/viewer/jpeg-cutout/?ra=9.366261&dec=-27.24436&zoom=15&layer=unwise-w1w2&size=120\"></a></td><td>2346386851948630272<br><a href=\"http://legacysurvey.org/viewer?ra=8.70833291865949&dec=-26.968031729567535\"><img src=\"http://legacysurvey.org/viewer/jpeg-cutout/?ra=8.708333&dec=-26.96803&zoom=15&layer=unwise-w1w2&size=120\"></a></td></tr>\n",
       "    </table>\n",
       "    "
      ],
      "text/plain": [
       "<IPython.core.display.HTML object>"
      ]
     },
     "execution_count": 45,
     "metadata": {},
     "output_type": "execute_result"
    }
   ],
   "source": [
    "# only need to remove if something really fishy is going on\n",
    "make_decals_viewer_cutouts(guidestars[np.random.permutation(len(guidestars))[:24]], \n",
    "                           survey='unwise-w1w2',ncols=6,namecol='TargetName')"
   ]
  },
  {
   "cell_type": "code",
   "execution_count": 47,
   "metadata": {},
   "outputs": [
    {
     "name": "stdout",
     "output_type": "stream",
     "text": [
      "Copied to clipboard\n"
     ]
    },
    {
     "data": {
      "text/html": [
       "\n",
       "    Paste the coords in \"Enter values\" at  \n",
       "    <a href=\"https://des.ncsa.illinois.edu/easyweb/cutouts\">the DES cutout service</a>,\n",
       "    and change the size to 0.3 arcmin\n",
       "    "
      ],
      "text/plain": [
       "<IPython.core.display.HTML object>"
      ]
     },
     "execution_count": 47,
     "metadata": {},
     "output_type": "execute_result"
    }
   ],
   "source": [
    "make_des_cutouts_file(acat[acat['Notes']=='sky'])"
   ]
  },
  {
   "cell_type": "code",
   "execution_count": 49,
   "metadata": {},
   "outputs": [
    {
     "name": "stdout",
     "output_type": "stream",
     "text": [
      "https://des.ncsa.illinois.edu/easyweb/static/workdir/eteq/c41e92da-3b20-4c6a-bc0d-1166e8309566/list.json\n"
     ]
    },
    {
     "data": {
      "text/html": [
       "\n",
       "    <table>\n",
       "    <tr><td>0<br><a href=\"http://legacysurvey.org/viewer?ra=8.025124662593143&dec=-28.755830637930153\"><img src=\"https://des.ncsa.illinois.edu/easyweb/static/workdir/eteq/c41e92da-3b20-4c6a-bc0d-1166e8309566/DESJ003158.5-284116.4.tif.png\"height=\"128\" width=\"128\"></a></td><td>1<br><a href=\"http://legacysurvey.org/viewer?ra=8.497519471513561&dec=-26.75111789297993\"><img src=\"https://des.ncsa.illinois.edu/easyweb/static/workdir/eteq/c41e92da-3b20-4c6a-bc0d-1166e8309566/DESJ003749.7-274017.8.tif.png\"height=\"128\" width=\"128\"></a></td><td>2<br><a href=\"http://legacysurvey.org/viewer?ra=7.755107137875607&dec=-27.253501915304795\"><img src=\"https://des.ncsa.illinois.edu/easyweb/static/workdir/eteq/c41e92da-3b20-4c6a-bc0d-1166e8309566/DESJ003207.8-265120.8.tif.png\"height=\"128\" width=\"128\"></a></td><td>3<br><a href=\"http://legacysurvey.org/viewer?ra=7.99069270557857&dec=-28.72266581255532\"><img src=\"https://des.ncsa.illinois.edu/easyweb/static/workdir/eteq/c41e92da-3b20-4c6a-bc0d-1166e8309566/DESJ003339.5-264412.0.tif.png\"height=\"128\" width=\"128\"></a></td><td>4<br><a href=\"http://legacysurvey.org/viewer?ra=9.548951969294782&dec=-27.41087326681096\"><img src=\"https://des.ncsa.illinois.edu/easyweb/static/workdir/eteq/c41e92da-3b20-4c6a-bc0d-1166e8309566/DESJ003419.6-265844.1.tif.png\"height=\"128\" width=\"128\"></a></td><td>5<br><a href=\"http://legacysurvey.org/viewer?ra=8.72753596411565&dec=-28.724788743146288\"><img src=\"https://des.ncsa.illinois.edu/easyweb/static/workdir/eteq/c41e92da-3b20-4c6a-bc0d-1166e8309566/DESJ003150.5-284240.4.tif.png\"height=\"128\" width=\"128\"></a></td><td>6<br><a href=\"http://legacysurvey.org/viewer?ra=8.037396891298483&dec=-28.764298733437048\"><img src=\"https://des.ncsa.illinois.edu/easyweb/static/workdir/eteq/c41e92da-3b20-4c6a-bc0d-1166e8309566/DESJ003411.7-264500.7.tif.png\"height=\"128\" width=\"128\"></a></td><td>7<br><a href=\"http://legacysurvey.org/viewer?ra=8.05914887901257&dec=-28.64256636120522\"><img src=\"https://des.ncsa.illinois.edu/easyweb/static/workdir/eteq/c41e92da-3b20-4c6a-bc0d-1166e8309566/DESJ003644.3-271532.3.tif.png\"height=\"128\" width=\"128\"></a></td></tr>\n",
       "<tr><td>8<br><a href=\"http://legacysurvey.org/viewer?ra=8.897147203003605&dec=-27.076042534792613\"><img src=\"https://des.ncsa.illinois.edu/easyweb/static/workdir/eteq/c41e92da-3b20-4c6a-bc0d-1166e8309566/DESJ003013.2-281002.4.tif.png\"height=\"128\" width=\"128\"></a></td><td>9<br><a href=\"http://legacysurvey.org/viewer?ra=7.8409757767542105&dec=-27.318456358474307\"><img src=\"https://des.ncsa.illinois.edu/easyweb/static/workdir/eteq/c41e92da-3b20-4c6a-bc0d-1166e8309566/DESJ003522.8-264736.7.tif.png\"height=\"128\" width=\"128\"></a></td><td>10<br><a href=\"http://legacysurvey.org/viewer?ra=7.993577295412005&dec=-28.687903362109775\"><img src=\"https://des.ncsa.illinois.edu/easyweb/static/workdir/eteq/c41e92da-3b20-4c6a-bc0d-1166e8309566/DESJ003337.2-264845.7.tif.png\"height=\"128\" width=\"128\"></a></td><td>11<br><a href=\"http://legacysurvey.org/viewer?ra=8.593925422950958&dec=-26.776087259705015\"><img src=\"https://des.ncsa.illinois.edu/easyweb/static/workdir/eteq/c41e92da-3b20-4c6a-bc0d-1166e8309566/DESJ003050.1-272055.2.tif.png\"height=\"128\" width=\"128\"></a></td><td>12<br><a href=\"http://legacysurvey.org/viewer?ra=9.308907260991349&dec=-28.06806802779106\"><img src=\"https://des.ncsa.illinois.edu/easyweb/static/workdir/eteq/c41e92da-3b20-4c6a-bc0d-1166e8309566/DESJ003714.1-280405.1.tif.png\"height=\"128\" width=\"128\"></a></td><td>13<br><a href=\"http://legacysurvey.org/viewer?ra=8.375822309128711&dec=-28.852539516540602\"><img src=\"https://des.ncsa.illinois.edu/easyweb/static/workdir/eteq/c41e92da-3b20-4c6a-bc0d-1166e8309566/DESJ003542.1-274442.8.tif.png\"height=\"128\" width=\"128\"></a></td><td>14<br><a href=\"http://legacysurvey.org/viewer?ra=8.835851740106223&dec=-28.782039849933284\"><img src=\"https://des.ncsa.illinois.edu/easyweb/static/workdir/eteq/c41e92da-3b20-4c6a-bc0d-1166e8309566/DESJ003425.7-264555.9.tif.png\"height=\"128\" width=\"128\"></a></td><td>15<br><a href=\"http://legacysurvey.org/viewer?ra=8.446154385039453&dec=-26.804367706861633\"><img src=\"https://des.ncsa.illinois.edu/easyweb/static/workdir/eteq/c41e92da-3b20-4c6a-bc0d-1166e8309566/DESJ003214.2-283833.3.tif.png\"height=\"128\" width=\"128\"></a></td></tr>\n",
       "<tr><td>16<br><a href=\"http://legacysurvey.org/viewer?ra=7.693455015426583&dec=-28.20669045120594\"><img src=\"https://des.ncsa.illinois.edu/easyweb/static/workdir/eteq/c41e92da-3b20-4c6a-bc0d-1166e8309566/DESJ003409.2-284830.4.tif.png\"height=\"128\" width=\"128\"></a></td><td>17<br><a href=\"http://legacysurvey.org/viewer?ra=9.457045520259218&dec=-27.67160374933148\"><img src=\"https://des.ncsa.illinois.edu/easyweb/static/workdir/eteq/c41e92da-3b20-4c6a-bc0d-1166e8309566/DESJ003356.9-285110.5.tif.png\"height=\"128\" width=\"128\"></a></td><td>18<br><a href=\"http://legacysurvey.org/viewer?ra=7.856767045088831&dec=-28.643958198475307\"><img src=\"https://des.ncsa.illinois.edu/easyweb/static/workdir/eteq/c41e92da-3b20-4c6a-bc0d-1166e8309566/DESJ003123.8-283535.0.tif.png\"height=\"128\" width=\"128\"></a></td><td>19<br><a href=\"http://legacysurvey.org/viewer?ra=9.284673754912923&dec=-27.280240127871544\"><img src=\"https://des.ncsa.illinois.edu/easyweb/static/workdir/eteq/c41e92da-3b20-4c6a-bc0d-1166e8309566/DESJ003539.7-264907.6.tif.png\"height=\"128\" width=\"128\"></a></td><td>20<br><a href=\"http://legacysurvey.org/viewer?ra=8.538435095872838&dec=-28.808447714331184\"><img src=\"https://des.ncsa.illinois.edu/easyweb/static/workdir/eteq/c41e92da-3b20-4c6a-bc0d-1166e8309566/DESJ003613.7-265744.5.tif.png\"height=\"128\" width=\"128\"></a></td><td>21<br><a href=\"http://legacysurvey.org/viewer?ra=7.92909692938119&dec=-27.980161466943965\"><img src=\"https://des.ncsa.illinois.edu/easyweb/static/workdir/eteq/c41e92da-3b20-4c6a-bc0d-1166e8309566/DESJ003559.7-271120.0.tif.png\"height=\"128\" width=\"128\"></a></td><td>22<br><a href=\"http://legacysurvey.org/viewer?ra=8.548648034097972&dec=-26.750198216703268\"><img src=\"https://des.ncsa.illinois.edu/easyweb/static/workdir/eteq/c41e92da-3b20-4c6a-bc0d-1166e8309566/DESJ003456.9-284702.5.tif.png\"height=\"128\" width=\"128\"></a></td><td>23<br><a href=\"http://legacysurvey.org/viewer?ra=7.980448281224584&dec=-28.28943596922895\"><img src=\"https://des.ncsa.illinois.edu/easyweb/static/workdir/eteq/c41e92da-3b20-4c6a-bc0d-1166e8309566/DESJ003657.9-281516.6.tif.png\"height=\"128\" width=\"128\"></a></td></tr>\n",
       "<tr><td>24<br><a href=\"http://legacysurvey.org/viewer?ra=8.167526783418516&dec=-26.845082740785013\"><img src=\"https://des.ncsa.illinois.edu/easyweb/static/workdir/eteq/c41e92da-3b20-4c6a-bc0d-1166e8309566/DESJ003405.4-283607.8.tif.png\"height=\"128\" width=\"128\"></a></td><td>25<br><a href=\"http://legacysurvey.org/viewer?ra=8.480969152635936&dec=-26.965852796895383\"><img src=\"https://des.ncsa.illinois.edu/easyweb/static/workdir/eteq/c41e92da-3b20-4c6a-bc0d-1166e8309566/DESJ003825.1-275617.2.tif.png\"height=\"128\" width=\"128\"></a></td><td>26<br><a href=\"http://legacysurvey.org/viewer?ra=8.84483119897175&dec=-26.793535178833643\"><img src=\"https://des.ncsa.illinois.edu/easyweb/static/workdir/eteq/c41e92da-3b20-4c6a-bc0d-1166e8309566/DESJ003121.8-271906.5.tif.png\"height=\"128\" width=\"128\"></a></td><td>27<br><a href=\"http://legacysurvey.org/viewer?ra=8.405127689552197&dec=-26.812692274636056\"><img src=\"https://des.ncsa.illinois.edu/easyweb/static/workdir/eteq/c41e92da-3b20-4c6a-bc0d-1166e8309566/DESJ003816.0-274428.2.tif.png\"height=\"128\" width=\"128\"></a></td><td>28<br><a href=\"http://legacysurvey.org/viewer?ra=8.925637624404649&dec=-28.47127112217692\"><img src=\"https://des.ncsa.illinois.edu/easyweb/static/workdir/eteq/c41e92da-3b20-4c6a-bc0d-1166e8309566/DESJ003359.4-264504.0.tif.png\"height=\"128\" width=\"128\"></a></td><td>29<br><a href=\"http://legacysurvey.org/viewer?ra=7.818676622723677&dec=-27.196334323663528\"><img src=\"https://des.ncsa.illinois.edu/easyweb/static/workdir/eteq/c41e92da-3b20-4c6a-bc0d-1166e8309566/DESJ003559.5-270900.7.tif.png\"height=\"128\" width=\"128\"></a></td><td>30<br><a href=\"http://legacysurvey.org/viewer?ra=8.386303945601925&dec=-26.750951534660594\"><img src=\"https://des.ncsa.illinois.edu/easyweb/static/workdir/eteq/c41e92da-3b20-4c6a-bc0d-1166e8309566/DESJ003247.3-284635.8.tif.png\"height=\"128\" width=\"128\"></a></td><td>31<br><a href=\"http://legacysurvey.org/viewer?ra=8.147665009885468&dec=-28.609442986143595\"><img src=\"https://des.ncsa.illinois.edu/easyweb/static/workdir/eteq/c41e92da-3b20-4c6a-bc0d-1166e8309566/DESJ003819.0-280125.7.tif.png\"height=\"128\" width=\"128\"></a></td></tr>\n",
       "<tr><td>32<br><a href=\"http://legacysurvey.org/viewer?ra=7.980509424213837&dec=-27.02882973114471\"><img src=\"https://des.ncsa.illinois.edu/easyweb/static/workdir/eteq/c41e92da-3b20-4c6a-bc0d-1166e8309566/DESJ003116.5-271146.8.tif.png\"height=\"128\" width=\"128\"></a></td><td>33<br><a href=\"http://legacysurvey.org/viewer?ra=7.946707876572664&dec=-27.30390429743258\"><img src=\"https://des.ncsa.illinois.edu/easyweb/static/workdir/eteq/c41e92da-3b20-4c6a-bc0d-1166e8309566/DESJ003235.4-283634.0.tif.png\"height=\"128\" width=\"128\"></a></td><td>34<br><a href=\"http://legacysurvey.org/viewer?ra=7.839427912925966&dec=-28.62670769321509\"><img src=\"https://des.ncsa.illinois.edu/easyweb/static/workdir/eteq/c41e92da-3b20-4c6a-bc0d-1166e8309566/DESJ003232.4-265813.8.tif.png\"height=\"128\" width=\"128\"></a></td><td>35<br><a href=\"http://legacysurvey.org/viewer?ra=7.721759758254383&dec=-27.12289380360726\"><img src=\"https://des.ncsa.illinois.edu/easyweb/static/workdir/eteq/c41e92da-3b20-4c6a-bc0d-1166e8309566/DESJ003124.7-271837.8.tif.png\"height=\"128\" width=\"128\"></a></td><td>36<br><a href=\"http://legacysurvey.org/viewer?ra=8.237907208841794&dec=-26.906430067444933\"><img src=\"https://des.ncsa.illinois.edu/easyweb/static/workdir/eteq/c41e92da-3b20-4c6a-bc0d-1166e8309566/DESJ003209.0-284551.5.tif.png\"height=\"128\" width=\"128\"></a></td><td>37<br><a href=\"http://legacysurvey.org/viewer?ra=9.082507542204548&dec=-26.849779058148922\"><img src=\"https://des.ncsa.illinois.edu/easyweb/static/workdir/eteq/c41e92da-3b20-4c6a-bc0d-1166e8309566/DESJ003143.0-275848.6.tif.png\"height=\"128\" width=\"128\"></a></td><td>38<br><a href=\"http://legacysurvey.org/viewer?ra=9.490111492778455&dec=-27.601084544805758\"><img src=\"https://des.ncsa.illinois.edu/easyweb/static/workdir/eteq/c41e92da-3b20-4c6a-bc0d-1166e8309566/DESJ003355.4-265757.1.tif.png\"height=\"128\" width=\"128\"></a></td><td>39<br><a href=\"http://legacysurvey.org/viewer?ra=9.607451664388076&dec=-27.900096578286117\"><img src=\"https://des.ncsa.illinois.edu/easyweb/static/workdir/eteq/c41e92da-3b20-4c6a-bc0d-1166e8309566/DESJ003333.3-270801.5.tif.png\"height=\"128\" width=\"128\"></a></td></tr>\n",
       "<tr><td>40<br><a href=\"http://legacysurvey.org/viewer?ra=8.625027837913976&dec=-28.81340753215639\"><img src=\"https://des.ncsa.illinois.edu/easyweb/static/workdir/eteq/c41e92da-3b20-4c6a-bc0d-1166e8309566/DESJ003247.7-281452.9.tif.png\"height=\"128\" width=\"128\"></a></td><td>41<br><a href=\"http://legacysurvey.org/viewer?ra=9.604794782908595&dec=-27.93811839406407\"><img src=\"https://des.ncsa.illinois.edu/easyweb/static/workdir/eteq/c41e92da-3b20-4c6a-bc0d-1166e8309566/DESJ003542.2-282816.6.tif.png\"height=\"128\" width=\"128\"></a></td><td>42<br><a href=\"http://legacysurvey.org/viewer?ra=9.566487690825573&dec=-27.741157887830802\"><img src=\"https://des.ncsa.illinois.edu/easyweb/static/workdir/eteq/c41e92da-3b20-4c6a-bc0d-1166e8309566/DESJ003240.2-265042.3.tif.png\"height=\"128\" width=\"128\"></a></td><td>43<br><a href=\"http://legacysurvey.org/viewer?ra=7.849139842636857&dec=-28.593058604689105\"><img src=\"https://des.ncsa.illinois.edu/easyweb/static/workdir/eteq/c41e92da-3b20-4c6a-bc0d-1166e8309566/DESJ003419.4-264601.6.tif.png\"height=\"128\" width=\"128\"></a></td><td>44<br><a href=\"http://legacysurvey.org/viewer?ra=9.245005635868342&dec=-27.47755567182069\"><img src=\"https://des.ncsa.illinois.edu/easyweb/static/workdir/eteq/c41e92da-3b20-4c6a-bc0d-1166e8309566/DESJ003731.1-283157.8.tif.png\"height=\"128\" width=\"128\"></a></td><td>45<br><a href=\"http://legacysurvey.org/viewer?ra=8.925419384260975&dec=-27.745232432251342\"><img src=\"https://des.ncsa.illinois.edu/easyweb/static/workdir/eteq/c41e92da-3b20-4c6a-bc0d-1166e8309566/DESJ003347.1-264815.7.tif.png\"height=\"128\" width=\"128\"></a></td><td>46<br><a href=\"http://legacysurvey.org/viewer?ra=8.366790911332872&dec=-28.43609073492288\"><img src=\"https://des.ncsa.illinois.edu/easyweb/static/workdir/eteq/c41e92da-3b20-4c6a-bc0d-1166e8309566/DESJ003501.0-264549.1.tif.png\"height=\"128\" width=\"128\"></a></td><td>47<br><a href=\"http://legacysurvey.org/viewer?ra=8.917864508474455&dec=-28.348641135005117\"><img src=\"https://des.ncsa.illinois.edu/easyweb/static/workdir/eteq/c41e92da-3b20-4c6a-bc0d-1166e8309566/DESJ003300.0-271525.8.tif.png\"height=\"128\" width=\"128\"></a></td></tr>\n",
       "<tr><td>48<br><a href=\"http://legacysurvey.org/viewer?ra=8.388622216499638&dec=-27.1337622026851\"><img src=\"https://des.ncsa.illinois.edu/easyweb/static/workdir/eteq/c41e92da-3b20-4c6a-bc0d-1166e8309566/DESJ003549.1-265643.7.tif.png\"height=\"128\" width=\"128\"></a></td><td>49<br><a href=\"http://legacysurvey.org/viewer?ra=8.250099663392517&dec=-27.257173996060022\"><img src=\"https://des.ncsa.illinois.edu/easyweb/static/workdir/eteq/c41e92da-3b20-4c6a-bc0d-1166e8309566/DESJ003332.7-264503.4.tif.png\"height=\"128\" width=\"128\"></a></td><td>50<br><a href=\"http://legacysurvey.org/viewer?ra=7.9603034355038265&dec=-28.711224691591056\"><img src=\"https://des.ncsa.illinois.edu/easyweb/static/workdir/eteq/c41e92da-3b20-4c6a-bc0d-1166e8309566/DESJ003101.2-271512.6.tif.png\"height=\"128\" width=\"128\"></a></td><td>51<br><a href=\"http://legacysurvey.org/viewer?ra=8.954503301392515&dec=-26.945471400887794\"><img src=\"https://des.ncsa.illinois.edu/easyweb/static/workdir/eteq/c41e92da-3b20-4c6a-bc0d-1166e8309566/DESJ003422.5-264633.9.tif.png\"height=\"128\" width=\"128\"></a></td><td>52<br><a href=\"http://legacysurvey.org/viewer?ra=9.310761805081082&dec=-28.19176724173921\"><img src=\"https://des.ncsa.illinois.edu/easyweb/static/workdir/eteq/c41e92da-3b20-4c6a-bc0d-1166e8309566/DESJ003649.7-283022.6.tif.png\"height=\"128\" width=\"128\"></a></td><td>53<br><a href=\"http://legacysurvey.org/viewer?ra=9.184769257071784&dec=-27.258969733256812\"><img src=\"https://des.ncsa.illinois.edu/easyweb/static/workdir/eteq/c41e92da-3b20-4c6a-bc0d-1166e8309566/DESJ003556.9-273152.0.tif.png\"height=\"128\" width=\"128\"></a></td><td>54<br><a href=\"http://legacysurvey.org/viewer?ra=8.997862194796916&dec=-27.150195988384166\"><img src=\"https://des.ncsa.illinois.edu/easyweb/static/workdir/eteq/c41e92da-3b20-4c6a-bc0d-1166e8309566/DESJ003619.7-274956.5.tif.png\"height=\"128\" width=\"128\"></a></td><td>55<br><a href=\"http://legacysurvey.org/viewer?ra=7.853038970641&dec=-27.31049858833783\"><img src=\"https://des.ncsa.illinois.edu/easyweb/static/workdir/eteq/c41e92da-3b20-4c6a-bc0d-1166e8309566/DESJ003520.6-284655.3.tif.png\"height=\"128\" width=\"128\"></a></td></tr>\n",
       "<tr><td>56<br><a href=\"http://legacysurvey.org/viewer?ra=8.522463591067849&dec=-28.602161163175236\"><img src=\"https://des.ncsa.illinois.edu/easyweb/static/workdir/eteq/c41e92da-3b20-4c6a-bc0d-1166e8309566/DESJ003155.3-281722.0.tif.png\"height=\"128\" width=\"128\"></a></td><td>57<br><a href=\"http://legacysurvey.org/viewer?ra=8.200437274854583&dec=-28.816693347661477\"><img src=\"https://des.ncsa.illinois.edu/easyweb/static/workdir/eteq/c41e92da-3b20-4c6a-bc0d-1166e8309566/DESJ003714.6-281130.4.tif.png\"height=\"128\" width=\"128\"></a></td><td>58<br><a href=\"http://legacysurvey.org/viewer?ra=7.685807340393668&dec=-27.25013646263879\"><img src=\"https://des.ncsa.illinois.edu/easyweb/static/workdir/eteq/c41e92da-3b20-4c6a-bc0d-1166e8309566/DESJ003125.6-283838.3.tif.png\"height=\"128\" width=\"128\"></a></td><td>59<br><a href=\"http://legacysurvey.org/viewer?ra=8.738711921309116&dec=-26.9256207713104\"><img src=\"https://des.ncsa.illinois.edu/easyweb/static/workdir/eteq/c41e92da-3b20-4c6a-bc0d-1166e8309566/DESJ003457.3-265532.2.tif.png\"height=\"128\" width=\"128\"></a></td><td>60<br><a href=\"http://legacysurvey.org/viewer?ra=7.677509134981641&dec=-27.368648946008612\"><img src=\"https://des.ncsa.illinois.edu/easyweb/static/workdir/eteq/c41e92da-3b20-4c6a-bc0d-1166e8309566/DESJ003157.8-284321.6.tif.png\"height=\"128\" width=\"128\"></a></td><td>61<br><a href=\"http://legacysurvey.org/viewer?ra=8.581658135590741&dec=-26.978907151980966\"><img src=\"https://des.ncsa.illinois.edu/easyweb/static/workdir/eteq/c41e92da-3b20-4c6a-bc0d-1166e8309566/DESJ003454.6-284329.2.tif.png\"height=\"128\" width=\"128\"></a></td><td>62<br><a href=\"http://legacysurvey.org/viewer?ra=8.902041563465739&dec=-26.81721031266755\"><img src=\"https://des.ncsa.illinois.edu/easyweb/static/workdir/eteq/c41e92da-3b20-4c6a-bc0d-1166e8309566/DESJ003522.0-285051.3.tif.png\"height=\"128\" width=\"128\"></a></td><td>63<br><a href=\"http://legacysurvey.org/viewer?ra=8.000790994601008&dec=-26.90185456751587\"><img src=\"https://des.ncsa.illinois.edu/easyweb/static/workdir/eteq/c41e92da-3b20-4c6a-bc0d-1166e8309566/DESJ003757.6-273603.9.tif.png\"height=\"128\" width=\"128\"></a></td></tr>\n",
       "<tr><td>64<br><a href=\"http://legacysurvey.org/viewer?ra=8.752068694350287&dec=-28.65662711798418\"><img src=\"https://des.ncsa.illinois.edu/easyweb/static/workdir/eteq/c41e92da-3b20-4c6a-bc0d-1166e8309566/DESJ003044.6-271500.5.tif.png\"height=\"128\" width=\"128\"></a></td><td>65<br><a href=\"http://legacysurvey.org/viewer?ra=8.754112627095088&dec=-26.763636907300832\"><img src=\"https://des.ncsa.illinois.edu/easyweb/static/workdir/eteq/c41e92da-3b20-4c6a-bc0d-1166e8309566/DESJ003438.7-284321.4.tif.png\"height=\"128\" width=\"128\"></a></td><td>66<br><a href=\"http://legacysurvey.org/viewer?ra=8.661254497951116&dec=-28.72259548263918\"><img src=\"https://des.ncsa.illinois.edu/easyweb/static/workdir/eteq/c41e92da-3b20-4c6a-bc0d-1166e8309566/DESJ003330.2-285109.1.tif.png\"height=\"128\" width=\"128\"></a></td><td>67<br><a href=\"http://legacysurvey.org/viewer?ra=8.841612808866918&dec=-28.847578793665278\"><img src=\"https://des.ncsa.illinois.edu/easyweb/static/workdir/eteq/c41e92da-3b20-4c6a-bc0d-1166e8309566/DESJ003155.3-270143.8.tif.png\"height=\"128\" width=\"128\"></a></td><td>68<br><a href=\"http://legacysurvey.org/viewer?ra=9.181896897657229&dec=-28.51043694516787\"><img src=\"https://des.ncsa.illinois.edu/easyweb/static/workdir/eteq/c41e92da-3b20-4c6a-bc0d-1166e8309566/DESJ003042.6-272207.1.tif.png\"height=\"128\" width=\"128\"></a></td><td>69<br><a href=\"http://legacysurvey.org/viewer?ra=9.081877397092637&dec=-27.83235169011745\"><img src=\"https://des.ncsa.illinois.edu/easyweb/static/workdir/eteq/c41e92da-3b20-4c6a-bc0d-1166e8309566/DESJ003311.9-271522.4.tif.png\"height=\"128\" width=\"128\"></a></td><td>70<br><a href=\"http://legacysurvey.org/viewer?ra=8.414694550234934&dec=-26.736682282109154\"><img src=\"https://des.ncsa.illinois.edu/easyweb/static/workdir/eteq/c41e92da-3b20-4c6a-bc0d-1166e8309566/DESJ003328.0-282609.9.tif.png\"height=\"128\" width=\"128\"></a></td><td>71<br><a href=\"http://legacysurvey.org/viewer?ra=8.032479928033952&dec=-26.855778470733423\"><img src=\"https://des.ncsa.illinois.edu/easyweb/static/workdir/eteq/c41e92da-3b20-4c6a-bc0d-1166e8309566/DESJ003825.8-275400.4.tif.png\"height=\"128\" width=\"128\"></a></td></tr>\n",
       "<tr><td>72<br><a href=\"http://legacysurvey.org/viewer?ra=7.7088953950011785&dec=-27.348681461514953\"><img src=\"https://des.ncsa.illinois.edu/easyweb/static/workdir/eteq/c41e92da-3b20-4c6a-bc0d-1166e8309566/DESJ003811.7-272439.1.tif.png\"height=\"128\" width=\"128\"></a></td><td>73<br><a href=\"http://legacysurvey.org/viewer?ra=7.554993583394363&dec=-28.16733247945923\"><img src=\"https://des.ncsa.illinois.edu/easyweb/static/workdir/eteq/c41e92da-3b20-4c6a-bc0d-1166e8309566/DESJ003119.9-270816.2.tif.png\"height=\"128\" width=\"128\"></a></td><td>74<br><a href=\"http://legacysurvey.org/viewer?ra=8.60690741469944&dec=-26.765521631866548\"><img src=\"https://des.ncsa.illinois.edu/easyweb/static/workdir/eteq/c41e92da-3b20-4c6a-bc0d-1166e8309566/DESJ003248.1-284900.1.tif.png\"height=\"128\" width=\"128\"></a></td><td>75<br><a href=\"http://legacysurvey.org/viewer?ra=9.237681588414382&dec=-28.31261415979384\"><img src=\"https://des.ncsa.illinois.edu/easyweb/static/workdir/eteq/c41e92da-3b20-4c6a-bc0d-1166e8309566/DESJ003624.6-270336.6.tif.png\"height=\"128\" width=\"128\"></a></td><td>76<br><a href=\"http://legacysurvey.org/viewer?ra=8.73691794810348&dec=-28.784042593125726\"><img src=\"https://des.ncsa.illinois.edu/easyweb/static/workdir/eteq/c41e92da-3b20-4c6a-bc0d-1166e8309566/DESJ003305.1-264754.4.tif.png\"height=\"128\" width=\"128\"></a></td><td>77<br><a href=\"http://legacysurvey.org/viewer?ra=8.766382681193322&dec=-26.726675223281905\"><img src=\"https://des.ncsa.illinois.edu/easyweb/static/workdir/eteq/c41e92da-3b20-4c6a-bc0d-1166e8309566/DESJ003643.7-283037.6.tif.png\"height=\"128\" width=\"128\"></a></td><td>78<br><a href=\"http://legacysurvey.org/viewer?ra=9.259301205960517&dec=-28.415171101069916\"><img src=\"https://des.ncsa.illinois.edu/easyweb/static/workdir/eteq/c41e92da-3b20-4c6a-bc0d-1166e8309566/DESJ003540.3-282055.1.tif.png\"height=\"128\" width=\"128\"></a></td><td>79<br><a href=\"http://legacysurvey.org/viewer?ra=9.241155099331495&dec=-28.254611485404475\"><img src=\"https://des.ncsa.illinois.edu/easyweb/static/workdir/eteq/c41e92da-3b20-4c6a-bc0d-1166e8309566/DESJ003039.4-274757.8.tif.png\"height=\"128\" width=\"128\"></a></td></tr>\n",
       "<tr><td>80<br><a href=\"http://legacysurvey.org/viewer?ra=8.271217237458188&dec=-26.798447308121872\"><img src=\"https://des.ncsa.illinois.edu/easyweb/static/workdir/eteq/c41e92da-3b20-4c6a-bc0d-1166e8309566/DESJ003708.3-271648.9.tif.png\"height=\"128\" width=\"128\"></a></td><td>81<br><a href=\"http://legacysurvey.org/viewer?ra=9.379445825253821&dec=-28.532733424542517\"><img src=\"https://des.ncsa.illinois.edu/easyweb/static/workdir/eteq/c41e92da-3b20-4c6a-bc0d-1166e8309566/DESJ003619.8-265059.2.tif.png\"height=\"128\" width=\"128\"></a></td><td>82<br><a href=\"http://legacysurvey.org/viewer?ra=9.2629209587945&dec=-26.958512594754296\"><img src=\"https://des.ncsa.illinois.edu/easyweb/static/workdir/eteq/c41e92da-3b20-4c6a-bc0d-1166e8309566/DESJ003702.2-282454.6.tif.png\"height=\"128\" width=\"128\"></a></td><td>83<br><a href=\"http://legacysurvey.org/viewer?ra=9.578979722045267&dec=-28.023812653492964\"><img src=\"https://des.ncsa.illinois.edu/easyweb/static/workdir/eteq/c41e92da-3b20-4c6a-bc0d-1166e8309566/DESJ003147.2-271814.0.tif.png\"height=\"128\" width=\"128\"></a></td><td>84<br><a href=\"http://legacysurvey.org/viewer?ra=7.664170550323917&dec=-27.79940203457948\"><img src=\"https://des.ncsa.illinois.edu/easyweb/static/workdir/eteq/c41e92da-3b20-4c6a-bc0d-1166e8309566/DESJ003200.2-265406.7.tif.png\"height=\"128\" width=\"128\"></a></td><td>85<br><a href=\"http://legacysurvey.org/viewer?ra=8.581038096672808&dec=-26.767112720328832\"><img src=\"https://des.ncsa.illinois.edu/easyweb/static/workdir/eteq/c41e92da-3b20-4c6a-bc0d-1166e8309566/DESJ003241.6-283648.2.tif.png\"height=\"128\" width=\"128\"></a></td><td>86<br><a href=\"http://legacysurvey.org/viewer?ra=8.29975373643647&dec=-27.25622010950333\"><img src=\"https://des.ncsa.illinois.edu/easyweb/static/workdir/eteq/c41e92da-3b20-4c6a-bc0d-1166e8309566/DESJ003535.3-270433.7.tif.png\"height=\"128\" width=\"128\"></a></td><td>87<br><a href=\"http://legacysurvey.org/viewer?ra=9.056914109571412&dec=-26.962358524315125\"><img src=\"https://des.ncsa.illinois.edu/easyweb/static/workdir/eteq/c41e92da-3b20-4c6a-bc0d-1166e8309566/DESJ003046.4-281224.1.tif.png\"height=\"128\" width=\"128\"></a></td></tr>\n",
       "<tr><td>88<br><a href=\"http://legacysurvey.org/viewer?ra=8.196915901216625&dec=-28.77661452669902\"><img src=\"https://des.ncsa.illinois.edu/easyweb/static/workdir/eteq/c41e92da-3b20-4c6a-bc0d-1166e8309566/DESJ003430.0-284848.3.tif.png\"height=\"128\" width=\"128\"></a></td><td>89<br><a href=\"http://legacysurvey.org/viewer?ra=8.915580868049295&dec=-26.818785239272945\"><img src=\"https://des.ncsa.illinois.edu/easyweb/static/workdir/eteq/c41e92da-3b20-4c6a-bc0d-1166e8309566/DESJ003658.8-272839.2.tif.png\"height=\"128\" width=\"128\"></a></td><td>90<br><a href=\"http://legacysurvey.org/viewer?ra=7.832796631628611&dec=-27.137821962317524\"><img src=\"https://des.ncsa.illinois.edu/easyweb/static/workdir/eteq/c41e92da-3b20-4c6a-bc0d-1166e8309566/DESJ003257.1-265423.1.tif.png\"height=\"128\" width=\"128\"></a></td><td>91<br><a href=\"http://legacysurvey.org/viewer?ra=8.198866475664612&dec=-28.248033241131804\"><img src=\"https://des.ncsa.illinois.edu/easyweb/static/workdir/eteq/c41e92da-3b20-4c6a-bc0d-1166e8309566/DESJ003703.1-265730.6.tif.png\"height=\"128\" width=\"128\"></a></td><td>92<br><a href=\"http://legacysurvey.org/viewer?ra=9.102423041706226&dec=-27.060162635384756\"><img src=\"https://des.ncsa.illinois.edu/easyweb/static/workdir/eteq/c41e92da-3b20-4c6a-bc0d-1166e8309566/DESJ003512.4-270154.1.tif.png\"height=\"128\" width=\"128\"></a></td><td>93<br><a href=\"http://legacysurvey.org/viewer?ra=8.173259460713389&dec=-28.613401830051156\"><img src=\"https://des.ncsa.illinois.edu/easyweb/static/workdir/eteq/c41e92da-3b20-4c6a-bc0d-1166e8309566/DESJ003121.5-283736.2.tif.png\"height=\"128\" width=\"128\"></a></td><td>94<br><a href=\"http://legacysurvey.org/viewer?ra=8.801870624170204&dec=-27.031698925507317\"><img src=\"https://des.ncsa.illinois.edu/easyweb/static/workdir/eteq/c41e92da-3b20-4c6a-bc0d-1166e8309566/DESJ003500.5-283923.9.tif.png\"height=\"128\" width=\"128\"></a></td><td>95<br><a href=\"http://legacysurvey.org/viewer?ra=8.134804796735846&dec=-26.970501261427803\"><img src=\"https://des.ncsa.illinois.edu/easyweb/static/workdir/eteq/c41e92da-3b20-4c6a-bc0d-1166e8309566/DESJ003053.2-270722.4.tif.png\"height=\"128\" width=\"128\"></a></td></tr>\n",
       "<tr><td>96<br><a href=\"http://legacysurvey.org/viewer?ra=8.987150394535535&dec=-27.53112212777634\"><img src=\"https://des.ncsa.illinois.edu/easyweb/static/workdir/eteq/c41e92da-3b20-4c6a-bc0d-1166e8309566/DESJ003503.9-264336.0.tif.png\"height=\"128\" width=\"128\"></a></td><td>97<br><a href=\"http://legacysurvey.org/viewer?ra=8.486943007159136&dec=-28.852910793049944\"><img src=\"https://des.ncsa.illinois.edu/easyweb/static/workdir/eteq/c41e92da-3b20-4c6a-bc0d-1166e8309566/DESJ003536.5-264902.0.tif.png\"height=\"128\" width=\"128\"></a></td><td>98<br><a href=\"http://legacysurvey.org/viewer?ra=9.20720972989303&dec=-28.506291656318776\"><img src=\"https://des.ncsa.illinois.edu/easyweb/static/workdir/eteq/c41e92da-3b20-4c6a-bc0d-1166e8309566/DESJ003657.0-281845.4.tif.png\"height=\"128\" width=\"128\"></a></td><td>99<br><a href=\"http://legacysurvey.org/viewer?ra=8.998726653959134&dec=-27.18889254839268\"><img src=\"https://des.ncsa.illinois.edu/easyweb/static/workdir/eteq/c41e92da-3b20-4c6a-bc0d-1166e8309566/DESJ003206.0-284521.0.tif.png\"height=\"128\" width=\"128\"></a></td><td></td><td></td><td></td><td></td></tr>\n",
       "    </table>\n",
       "    "
      ],
      "text/plain": [
       "<IPython.core.display.HTML object>"
      ]
     },
     "execution_count": 49,
     "metadata": {},
     "output_type": "execute_result"
    }
   ],
   "source": [
    "show_des_cutouts(acat[acat['Notes']=='sky'], 'c41e92da-3b20-4c6a-bc0d-1166e8309566', ncols=8, namecol='TargetName')"
   ]
  },
  {
   "cell_type": "code",
   "execution_count": 50,
   "metadata": {},
   "outputs": [
    {
     "data": {
      "text/plain": [
       "80"
      ]
     },
     "execution_count": 50,
     "metadata": {},
     "output_type": "execute_result"
    }
   ],
   "source": [
    "skys_to_rem = [int(i) for i in '0 1 3 5 14 28 35 36 42 44 46 51 65 71 76 81 84 88 91 99'.split()]\n",
    "writecat.remove_rows((writecat['Notes']=='Sky')&(np.in1d(writecat['TargetName'], skys_to_rem)))\n",
    "np.sum((writecat['Notes']=='Sky'))"
   ]
  },
  {
   "cell_type": "code",
   "execution_count": 55,
   "metadata": {},
   "outputs": [
    {
     "name": "stdout",
     "output_type": "stream",
     "text": [
      "Nflux: 5 Nguide: 81 NSky 80\n",
      "Targets in each priority: {1: 748, 2: 12, 3: 82, 4: 50, 5: 288, 6: 26, 7: 11, 8: 12}\n",
      "Total: 1395\n",
      "Writing aat_targets_jun2018/pgc2052_3.fld\n"
     ]
    },
    {
     "data": {
      "text/plain": [
       "1229"
      ]
     },
     "execution_count": 55,
     "metadata": {},
     "output_type": "execute_result"
    }
   ],
   "source": [
    "subsampledcat = subsample_catalog(writecat, {1:np.inf}, maxflux=5, maxguides=100)\n",
    "\n",
    "fldfn = 'aat_targets_jun2018/{}_{}.fld'.format(hostname, fieldnum)\n",
    "print('Writing', fldfn)\n",
    "write_fld_file(subsampledcat, host, obs_start_date, fldfn, suffix='_{}'.format(fieldnum))\n",
    "np.sum(subsampledcat['Notes'] == 'Targets')"
   ]
  },
  {
   "cell_type": "code",
   "execution_count": 56,
   "metadata": {},
   "outputs": [
    {
     "name": "stdout",
     "output_type": "stream",
     "text": [
      "pgc2052_3.fld                                 100%   74KB  73.9KB/s   00:00    \n"
     ]
    }
   ],
   "source": [
    "!scp $fldfn visitor6@aatlxh:~/jun13/"
   ]
  },
  {
   "cell_type": "markdown",
   "metadata": {},
   "source": [
    "# Night 5 "
   ]
  },
  {
   "cell_type": "markdown",
   "metadata": {},
   "source": [
    "## PGC 36304?"
   ]
  },
  {
   "cell_type": "code",
   "execution_count": null,
   "metadata": {},
   "outputs": [],
   "source": []
  },
  {
   "cell_type": "markdown",
   "metadata": {},
   "source": [
    "## NSA 145879 / 145729_3 ?"
   ]
  },
  {
   "cell_type": "code",
   "execution_count": null,
   "metadata": {},
   "outputs": [],
   "source": []
  },
  {
   "cell_type": "markdown",
   "metadata": {},
   "source": [
    "## PGC 64427_2"
   ]
  },
  {
   "cell_type": "code",
   "execution_count": null,
   "metadata": {},
   "outputs": [],
   "source": []
  },
  {
   "cell_type": "markdown",
   "metadata": {},
   "source": [
    "## PGC ?"
   ]
  },
  {
   "cell_type": "code",
   "execution_count": null,
   "metadata": {},
   "outputs": [],
   "source": []
  },
  {
   "cell_type": "markdown",
   "metadata": {},
   "source": [
    "## PGC ?"
   ]
  },
  {
   "cell_type": "code",
   "execution_count": null,
   "metadata": {},
   "outputs": [],
   "source": []
  },
  {
   "cell_type": "markdown",
   "metadata": {},
   "source": [
    "# Night 6 "
   ]
  },
  {
   "cell_type": "markdown",
   "metadata": {},
   "source": [
    "## PGC ?"
   ]
  },
  {
   "cell_type": "code",
   "execution_count": null,
   "metadata": {},
   "outputs": [],
   "source": []
  },
  {
   "cell_type": "markdown",
   "metadata": {},
   "source": [
    "# Planning "
   ]
  },
  {
   "cell_type": "code",
   "execution_count": 106,
   "metadata": {},
   "outputs": [],
   "source": [
    "import astroplan\n",
    "import astroplan.plots"
   ]
  },
  {
   "cell_type": "code",
   "execution_count": 107,
   "metadata": {},
   "outputs": [],
   "source": [
    "targs = [astroplan.FixedTarget(host['coord'], host['ID_STR']) for host in targethosts]"
   ]
  },
  {
   "cell_type": "code",
   "execution_count": 108,
   "metadata": {},
   "outputs": [],
   "source": [
    "destargs = [t for t, h in zip(targs, targethosts) if h['des_dr1']]\n",
    "nsatargs = [t for t, h in zip(targs, targethosts) if not h['des_dr1']]"
   ]
  },
  {
   "cell_type": "code",
   "execution_count": 177,
   "metadata": {},
   "outputs": [],
   "source": [
    "addedtargs = [astroplan.FixedTarget.from_name('pgc36304'), astroplan.FixedTarget.from_name('NGC4045')] #NGC4045=NSA13927=Sopranos\n",
    "targs.extend(addedtargs)"
   ]
  },
  {
   "cell_type": "code",
   "execution_count": 178,
   "metadata": {},
   "outputs": [],
   "source": [
    "aatobs = astroplan.Observer.at_site('aao')"
   ]
  },
  {
   "cell_type": "code",
   "execution_count": 179,
   "metadata": {},
   "outputs": [],
   "source": [
    "run_start = aatobs.midnight(obs_start_date, 'next')\n",
    "run_end = aatobs.midnight(Time('2018-6-15'), 'next')\n",
    "run_mid = aatobs.midnight(Time((run_start.jd + run_end.jd)/2, format='jd'))"
   ]
  },
  {
   "cell_type": "code",
   "execution_count": 180,
   "metadata": {},
   "outputs": [
    {
     "data": {
      "text/plain": [
       "<matplotlib.legend.Legend at 0x1a34f38ac8>"
      ]
     },
     "execution_count": 180,
     "metadata": {},
     "output_type": "execute_result"
    },
    {
     "data": {
      "image/png": "[encoded data removed]",
      "text/plain": [
       "<Figure size 1008x432 with 1 Axes>"
      ]
     },
     "metadata": {},
     "output_type": "display_data"
    }
   ],
   "source": [
    "plt.figure(figsize=(14, 6))\n",
    "astroplan.plots.plot_airmass(nsatargs, aatobs, run_start,\n",
    "                             style_kwargs=dict(linestyle=':'))\n",
    "astroplan.plots.plot_airmass(destargs, aatobs, run_start, \n",
    "                             style_kwargs=dict(linestyle='-'),\n",
    "                             brightness_shading=True)\n",
    "astroplan.plots.plot_airmass(addedtargs, aatobs, run_start, \n",
    "                             style_kwargs=dict(linestyle='--'),\n",
    "                             brightness_shading=True)\n",
    "plt.legend(loc=0) "
   ]
  },
  {
   "cell_type": "code",
   "execution_count": 181,
   "metadata": {},
   "outputs": [
    {
     "data": {
      "text/plain": [
       "{'nsa141465': '12h28m50.64s -01d56m21.048s',\n",
       " 'nsa145398': '14h39m11.04s +05d21m48.492s',\n",
       " 'nsa145729': '14h58m22.56s -01d05m27.672s',\n",
       " 'nsa145879': '15h09m49.44s +00d28m12.306s',\n",
       " 'nsa165082': '14h29m40.32s +03d13m59.916s',\n",
       " 'nsa3469': '12h23m54s -03d26m34.548s',\n",
       " 'pgc2052': '00h34m15.492s -27d48m13.32s',\n",
       " 'pgc3089': '00h52m42.36s -31d12m20.88s',\n",
       " 'pgc64427': '20h17m17.28s -52d47m48.48s',\n",
       " 'pgc66318': '21h11m52.08s -49d17m01.68s',\n",
       " 'pgc66934': '21h32m35.28s -44d04m03.36s',\n",
       " 'pgc67146': '21h40m12.96s -42d32m21.84s',\n",
       " 'pgc67663': '21h56m09.6s -49d31m19.2s',\n",
       " 'pgc67817': '22h00m32.88s -43d23m23.28s',\n",
       " 'pgc68128': '22h08m34.32s -57d26m33.36s',\n",
       " 'pgc69521': '22h41m52.32s -44d46m02.28s',\n",
       " 'pgc70094': '22h57m13.44s -43d23m45.96s',\n",
       " 'pgc71548': '23h28m43.44s -41d20m00.24s',\n",
       " 'pgc71729': '23h33m16.8s -54d05m40.2s'}"
      ]
     },
     "execution_count": 181,
     "metadata": {},
     "output_type": "execute_result"
    }
   ],
   "source": [
    "{host['ID_STR']:host['coord'].to_string('hmsdms') for host in targethosts}"
   ]
  },
  {
   "cell_type": "markdown",
   "metadata": {},
   "source": [
    "## Fall "
   ]
  },
  {
   "cell_type": "code",
   "execution_count": 116,
   "metadata": {},
   "outputs": [],
   "source": [
    "run2_start = aatobs.midnight(Time('2018-10-1'), 'next')"
   ]
  },
  {
   "cell_type": "code",
   "execution_count": 117,
   "metadata": {},
   "outputs": [
    {
     "data": {
      "text/plain": [
       "<matplotlib.legend.Legend at 0x1ab0520f28>"
      ]
     },
     "execution_count": 117,
     "metadata": {},
     "output_type": "execute_result"
    },
    {
     "data": {
      "image/png": "[encoded data removed]",
      "text/plain": [
       "<Figure size 1008x432 with 1 Axes>"
      ]
     },
     "metadata": {},
     "output_type": "display_data"
    }
   ],
   "source": [
    "plt.figure(figsize=(14, 6))\n",
    "astroplan.plots.plot_airmass(nsatargs, aatobs, run2_start,\n",
    "                             style_kwargs=dict(linestyle=':'))\n",
    "astroplan.plots.plot_airmass(destargs, aatobs, run2_start, \n",
    "                             style_kwargs=dict(linestyle='-'),\n",
    "                             brightness_shading=True)\n",
    "astroplan.plots.plot_airmass(addedtargs, aatobs, run2_start, \n",
    "                             style_kwargs=dict(linestyle='--'),\n",
    "                             brightness_shading=True)\n",
    "plt.legend(loc=0)"
   ]
  },
  {
   "cell_type": "markdown",
   "metadata": {},
   "source": [
    "# Tests/Experiments "
   ]
  },
  {
   "cell_type": "markdown",
   "metadata": {},
   "source": [
    "## Compare Gaia to SDSS guide stars "
   ]
  },
  {
   "cell_type": "markdown",
   "metadata": {},
   "source": [
    "First need to get the Gaia catalog for an NSA object"
   ]
  },
  {
   "cell_type": "code",
   "execution_count": 240,
   "metadata": {},
   "outputs": [
    {
     "name": "stdout",
     "output_type": "stream",
     "text": [
      "File external_catalogs/astrometric/nsa145729_gaia.ecsv exists, skipping.\n"
     ]
    }
   ],
   "source": [
    "from astroquery.gaia import Gaia\n",
    "\n",
    "host = targethosts[targethosts['NSAID']==145729][0]\n",
    "hostname = host['ID_STR']\n",
    "\n",
    "fn = 'external_catalogs/astrometric/{}_gaia.ecsv'.format(hostname)\n",
    "if os.path.exists(fn):\n",
    "    print('File', fn, 'exists, skipping.')\n",
    "else:\n",
    "    gaiajob = Gaia.cone_search_async(host['coord'], radius=1*u.deg)\n",
    "    gaia_tab = gaiajob.get_data()\n",
    "    gaia_tab.write(fn, format='ascii.ecsv')"
   ]
  },
  {
   "cell_type": "code",
   "execution_count": 186,
   "metadata": {},
   "outputs": [
    {
     "name": "stdout",
     "output_type": "stream",
     "text": [
      "Object catalog to Gaia offset: (<Angle 0.08164132 arcsec>, <Angle 0.07912354 arcsec>)\n"
     ]
    },
    {
     "name": "stderr",
     "output_type": "stream",
     "text": [
      "/Users/erik/miniconda3/envs/saga3/lib/python3.6/site-packages/astropy/table/column.py:965: RuntimeWarning: invalid value encountered in greater\n",
      "  return getattr(self.data, op)(other)\n",
      "/Users/erik/miniconda3/envs/saga3/lib/python3.6/site-packages/astropy/table/column.py:965: RuntimeWarning: invalid value encountered in less\n",
      "  return getattr(self.data, op)(other)\n"
     ]
    }
   ],
   "source": [
    "sg = get_sdss_guidestars(hostname)\n",
    "gg = get_gaia_guidestars(hostname)"
   ]
  },
  {
   "cell_type": "code",
   "execution_count": 244,
   "metadata": {},
   "outputs": [
    {
     "data": {
      "text/plain": [
       "'name ra dec\\n0 224.5906678370427 -1.2950137489728544\\n1 225.474151384421 -1.0878728139581342\\n2 223.72076787853638 -1.064198175815504\\n3 224.69971909393655 -0.11598412583400089\\n4 224.49166343911241 -0.24257767434462332\\n5 224.62463741931958 -0.4230975491424615\\n6 224.37369153842926 -0.4800222383547373\\n7 224.19404148678638 -0.8220071323707093\\n8 224.65252782545224 -1.0847146863650194\\n9 224.1410110620503 -0.2071167177698061\\n10 224.9363866472278 -1.4903310568051382\\n11 224.67017945756132 -1.7733027482083552\\n12 225.40836029262869 -1.400029760022471\\n13 225.30634144468124 -0.7161621971578055\\n14 224.83571123330182 -1.322937187697389\\n15 224.0925068883515 -0.9660130396193417\\n16 224.23739191824615 -0.8706479440961696\\n17 224.8091204040939 -1.3722094648864824\\n18 223.82874853027943 -1.6120410701977648\\n19 224.77117744444803 -1.5807623766054963\\n20 225.35423764341257 -0.5469297014793553\\n21 224.60782395831689 -0.47159126202074086\\n22 224.3219072547881 -0.5827964838166261\\n23 225.3120934837805 -1.6115271245837464\\n24 224.80859294906264 -1.9180425126046237'"
      ]
     },
     "execution_count": 244,
     "metadata": {},
     "output_type": "execute_result"
    }
   ],
   "source": [
    "targeting.sampled_imagelist(gg['RA'], gg['Dec'])"
   ]
  },
  {
   "cell_type": "markdown",
   "metadata": {},
   "source": [
    "They all look like reasonable guide stars..."
   ]
  },
  {
   "cell_type": "code",
   "execution_count": 190,
   "metadata": {},
   "outputs": [
    {
     "name": "stdout",
     "output_type": "stream",
     "text": [
      "Object catalog to Gaia offset: (<Angle 0.08164132 arcsec>, <Angle 0.07912354 arcsec>)\n"
     ]
    },
    {
     "name": "stderr",
     "output_type": "stream",
     "text": [
      "/Users/erik/miniconda3/envs/saga3/lib/python3.6/site-packages/astropy/table/column.py:965: RuntimeWarning: invalid value encountered in greater\n",
      "  return getattr(self.data, op)(other)\n",
      "/Users/erik/miniconda3/envs/saga3/lib/python3.6/site-packages/astropy/table/column.py:965: RuntimeWarning: invalid value encountered in less\n",
      "  return getattr(self.data, op)(other)\n"
     ]
    }
   ],
   "source": [
    "gg = get_gaia_guidestars(hostname)"
   ]
  },
  {
   "cell_type": "code",
   "execution_count": 191,
   "metadata": {},
   "outputs": [],
   "source": [
    "gstarcat = gg.meta['gstarcat']\n",
    "gsc = SkyCoord(gstarcat['ra'], gstarcat['dec'])\n",
    "obj_cat = saga_object_catalog.load(hostname)[0]\n",
    "sstarcat = obj_cat[np.in1d(obj_cat['OBJID'], sg['TargetName'])]"
   ]
  },
  {
   "cell_type": "code",
   "execution_count": 192,
   "metadata": {},
   "outputs": [
    {
     "data": {
      "text/plain": [
       "(-0.3, 0.3)"
      ]
     },
     "execution_count": 192,
     "metadata": {},
     "output_type": "execute_result"
    },
    {
     "data": {
      "image/png": "[encoded data removed]",
      "text/plain": [
       "<Figure size 432x288 with 1 Axes>"
      ]
     },
     "metadata": {},
     "output_type": "display_data"
    }
   ],
   "source": [
    "idx, d2d, _ = gsc.match_to_catalog_sky(sstarcat['coord'])\n",
    "gcatmsk = gstarcat[d2d < 1*u.arcsec]\n",
    "scatmsk = sstarcat[idx[d2d < 1*u.arcsec]]\n",
    "ggmsk = gg[d2d<1*u.arcsec]\n",
    "\n",
    "plt.scatter(gcatmsk['bp_rp'], gcatmsk['phot_g_mean_mag'] - scatmsk['r_mag'])\n",
    "plt.scatter(gcatmsk['bp_rp'], ggmsk['Magnitude'] - scatmsk['r_mag'])\n",
    "plt.ylim(-.3, .3)"
   ]
  },
  {
   "cell_type": "markdown",
   "metadata": {},
   "source": [
    "That is strange.  Evans et al. 2018 would imply this should be ~ -0.1, not 0.2 to 0.3 ... unless this is a magnitude/SED effect?"
   ]
  },
  {
   "cell_type": "code",
   "execution_count": 194,
   "metadata": {},
   "outputs": [],
   "source": [
    "gall = table.Table.read('external_catalogs/astrometric/nsa145729_gaia.ecsv')"
   ]
  },
  {
   "cell_type": "code",
   "execution_count": 229,
   "metadata": {},
   "outputs": [
    {
     "name": "stderr",
     "output_type": "stream",
     "text": [
      "/Users/erik/miniconda3/envs/saga3/lib/python3.6/site-packages/astropy/table/column.py:965: RuntimeWarning: invalid value encountered in greater\n",
      "  return getattr(self.data, op)(other)\n",
      "/Users/erik/miniconda3/envs/saga3/lib/python3.6/site-packages/astropy/table/column.py:965: RuntimeWarning: invalid value encountered in less\n",
      "  return getattr(self.data, op)(other)\n"
     ]
    },
    {
     "data": {
      "text/plain": [
       "Text(0,0.5,'$G_-r$')"
      ]
     },
     "execution_count": 229,
     "metadata": {},
     "output_type": "execute_result"
    },
    {
     "data": {
      "image/png": "[encoded data removed]",
      "text/plain": [
       "<Figure size 432x288 with 2 Axes>"
      ]
     },
     "metadata": {},
     "output_type": "display_data"
    }
   ],
   "source": [
    "gmag = gall['phot_g_mean_mag']\n",
    "gcut = gall[(gmag < 19)]\n",
    "star_obj_cat = obj_cat[~obj_cat['is_galaxy']&(obj_cat['r_mag']>-9998)&(obj_cat['r_mag']<21)]\n",
    "gsc = SkyCoord(gcut['ra'], gcut['dec'])\n",
    "idx, d2d, _ = gsc.match_to_catalog_sky(star_obj_cat['coord'])\n",
    "\n",
    "g_matches = gcut[d2d< 1*u.arcsec]\n",
    "star_matches = star_obj_cat[idx[d2d< 1*u.arcsec]]\n",
    "\n",
    "plt.scatter(g_matches['bp_rp'], g_matches['phot_g_mean_mag'] - star_matches['r_mag'], c=star_matches['r_mag'])\n",
    "plt.ylim(-1, 1)\n",
    "plt.colorbar()\n",
    "plt.xlabel('$G_{BP}-G_{RP}$')\n",
    "plt.ylabel('$G_-r$')"
   ]
  },
  {
   "cell_type": "markdown",
   "metadata": {},
   "source": [
    "... is extinction included in these r-mags?"
   ]
  },
  {
   "cell_type": "code",
   "execution_count": 241,
   "metadata": {},
   "outputs": [
    {
     "data": {
      "text/plain": [
       "0.132215"
      ]
     },
     "execution_count": 241,
     "metadata": {},
     "output_type": "execute_result"
    }
   ],
   "source": [
    "host['A_r']"
   ]
  },
  {
   "cell_type": "markdown",
   "metadata": {},
   "source": [
    "Nope that's still not it...?"
   ]
  },
  {
   "cell_type": "markdown",
   "metadata": {},
   "source": [
    "### Compare updated nsa3469 to the previous base catalog "
   ]
  },
  {
   "cell_type": "code",
   "execution_count": 512,
   "metadata": {},
   "outputs": [
    {
     "name": "stderr",
     "output_type": "stream",
     "text": [
      "/Users/erik/projects/saga/saga/build/lib/SAGA/objects/object_catalog.py:54: RuntimeWarning: invalid value encountered in subtract\n",
      "  table[color] = table['{}_mag'.format(color[0])] - table['{}_mag'.format(color[1])]\n"
     ]
    }
   ],
   "source": [
    "ocat = saga_object_catalog.load('nsa3469')[0]\n",
    "ocat_old = table.Table.read('base_catalogs/backups/base_v2_nsa3469.fits.gz')"
   ]
  },
  {
   "cell_type": "code",
   "execution_count": 514,
   "metadata": {},
   "outputs": [],
   "source": [
    "del ocat['coord'] # joins don't work with mixins\n",
    "\n",
    "j = table.join(ocat, ocat_old, 'OBJID', 'outer')"
   ]
  },
  {
   "cell_type": "code",
   "execution_count": 536,
   "metadata": {},
   "outputs": [
    {
     "data": {
      "text/html": [
       "<i>Table masked=True length=44</i>\n",
       "<table id=\"table118489828096\" class=\"table-striped table-bordered table-condensed\">\n",
       "<thead><tr><th>OBJID</th><th>SATS_1</th><th>SATS_2</th></tr></thead>\n",
       "<thead><tr><th>int64</th><th>int16</th><th>int16</th></tr></thead>\n",
       "<tr><td>667634</td><td>0</td><td>--</td></tr>\n",
       "<tr><td>3066390000000001475</td><td>-1</td><td>--</td></tr>\n",
       "<tr><td>3066390000000001476</td><td>--</td><td>-1</td></tr>\n",
       "<tr><td>3095180000000004064</td><td>--</td><td>-1</td></tr>\n",
       "<tr><td>3109520000000002200</td><td>--</td><td>-1</td></tr>\n",
       "<tr><td>3109520000000002201</td><td>-1</td><td>--</td></tr>\n",
       "<tr><td>3109530000000000033</td><td>--</td><td>-1</td></tr>\n",
       "<tr><td>3109530000000000035</td><td>-1</td><td>--</td></tr>\n",
       "<tr><td>3109530000000003600</td><td>--</td><td>-1</td></tr>\n",
       "<tr><td>3109530000000003602</td><td>-1</td><td>--</td></tr>\n",
       "<tr><td>...</td><td>...</td><td>...</td></tr>\n",
       "<tr><td>3152740000000003869</td><td>-1</td><td>--</td></tr>\n",
       "<tr><td>3152740000000003870</td><td>--</td><td>-1</td></tr>\n",
       "<tr><td>3167110000000000418</td><td>-1</td><td>--</td></tr>\n",
       "<tr><td>3167110000000000419</td><td>--</td><td>-1</td></tr>\n",
       "<tr><td>3167110000000001479</td><td>-1</td><td>--</td></tr>\n",
       "<tr><td>3167110000000001480</td><td>--</td><td>-1</td></tr>\n",
       "<tr><td>3167130000000000314</td><td>-1</td><td>--</td></tr>\n",
       "<tr><td>3167130000000000319</td><td>--</td><td>-1</td></tr>\n",
       "<tr><td>3167130000000000954</td><td>--</td><td>-1</td></tr>\n",
       "<tr><td>3167130000000000955</td><td>-1</td><td>--</td></tr>\n",
       "</table>"
      ],
      "text/plain": [
       "<Table masked=True length=44>\n",
       "       OBJID        SATS_1 SATS_2\n",
       "       int64        int16  int16 \n",
       "------------------- ------ ------\n",
       "             667634      0     --\n",
       "3066390000000001475     -1     --\n",
       "3066390000000001476     --     -1\n",
       "3095180000000004064     --     -1\n",
       "3109520000000002200     --     -1\n",
       "3109520000000002201     -1     --\n",
       "3109530000000000033     --     -1\n",
       "3109530000000000035     -1     --\n",
       "3109530000000003600     --     -1\n",
       "3109530000000003602     -1     --\n",
       "                ...    ...    ...\n",
       "3152740000000003869     -1     --\n",
       "3152740000000003870     --     -1\n",
       "3167110000000000418     -1     --\n",
       "3167110000000000419     --     -1\n",
       "3167110000000001479     -1     --\n",
       "3167110000000001480     --     -1\n",
       "3167130000000000314     -1     --\n",
       "3167130000000000319     --     -1\n",
       "3167130000000000954     --     -1\n",
       "3167130000000000955     -1     --"
      ]
     },
     "execution_count": 536,
     "metadata": {},
     "output_type": "execute_result"
    }
   ],
   "source": [
    "notmatch = j[j['RA_1']!=j['RA_2']]\n",
    "notmatch['OBJID', 'SATS_1', 'SATS_2']"
   ]
  },
  {
   "cell_type": "code",
   "execution_count": 549,
   "metadata": {},
   "outputs": [
    {
     "data": {
      "text/html": [
       "<i>Row index=0 masked=True</i>\n",
       "<table id=\"table113643473104\">\n",
       "<thead><tr><th>OBJID</th><th>RA_1</th><th>DEC_1</th><th>REMOVE_1</th><th>is_galaxy_1</th><th>morphology_info_1</th><th>radius_1</th><th>radius_err_1</th><th>u_mag_1</th><th>g_mag_1</th><th>r_mag_1</th><th>i_mag_1</th><th>z_mag_1</th><th>y_mag_1</th><th>u_err_1</th><th>g_err_1</th><th>r_err_1</th><th>i_err_1</th><th>z_err_1</th><th>y_err_1</th><th>survey_1</th><th>OBJID_sdss_1</th><th>RA_sdss_1</th><th>DEC_sdss_1</th><th>REMOVE_sdss_1</th><th>is_galaxy_sdss_1</th><th>morphology_info_sdss_1</th><th>radius_sdss_1</th><th>radius_err_sdss_1</th><th>u_mag_sdss_1</th><th>g_mag_sdss_1</th><th>r_mag_sdss_1</th><th>i_mag_sdss_1</th><th>z_mag_sdss_1</th><th>y_mag_sdss_1</th><th>u_err_sdss_1</th><th>g_err_sdss_1</th><th>r_err_sdss_1</th><th>i_err_sdss_1</th><th>z_err_sdss_1</th><th>y_err_sdss_1</th><th>OBJID_decals_1</th><th>RA_decals_1</th><th>DEC_decals_1</th><th>REMOVE_decals_1</th><th>is_galaxy_decals_1</th><th>morphology_info_decals_1</th><th>radius_decals_1</th><th>radius_err_decals_1</th><th>u_mag_decals_1</th><th>g_mag_decals_1</th><th>r_mag_decals_1</th><th>i_mag_decals_1</th><th>z_mag_decals_1</th><th>y_mag_decals_1</th><th>u_err_decals_1</th><th>g_err_decals_1</th><th>r_err_decals_1</th><th>i_err_decals_1</th><th>z_err_decals_1</th><th>y_err_decals_1</th><th>HOST_NSAID_1</th><th>HOST_NSA1ID_1</th><th>HOST_RA_1</th><th>HOST_DEC_1</th><th>HOST_DIST_1</th><th>HOST_VHOST_1</th><th>HOST_MK_1</th><th>HOST_MR_1</th><th>HOST_MG_1</th><th>HOST_SAGA_NAME_1</th><th>HOST_NGC_1</th><th>HOST_PGC_1</th><th>RHOST_ARCM_1</th><th>RHOST_KPC_1</th><th>OBJ_NSAID_1</th><th>SPEC_REPEAT_1</th><th>SPEC_Z_1</th><th>SPEC_Z_ERR_1</th><th>ZQUALITY_1</th><th>SPECOBJID_1</th><th>MASKNAME_1</th><th>TELNAME_1</th><th>EM_ABS_1</th><th>HELIO_CORR_1</th><th>RA_spec_1</th><th>DEC_spec_1</th><th>sb_r_1</th><th>SATS_1</th><th>log_sm_1</th><th>ug</th><th>ug_err</th><th>gr</th><th>gr_err</th><th>ri</th><th>ri_err</th><th>iz</th><th>iz_err</th><th>zy</th><th>zy_err</th><th>rz</th><th>rz_err</th><th>RA_2</th><th>DEC_2</th><th>REMOVE_2</th><th>is_galaxy_2</th><th>morphology_info_2</th><th>radius_2</th><th>radius_err_2</th><th>u_mag_2</th><th>g_mag_2</th><th>r_mag_2</th><th>i_mag_2</th><th>z_mag_2</th><th>y_mag_2</th><th>u_err_2</th><th>g_err_2</th><th>r_err_2</th><th>i_err_2</th><th>z_err_2</th><th>y_err_2</th><th>survey_2</th><th>OBJID_sdss_2</th><th>RA_sdss_2</th><th>DEC_sdss_2</th><th>REMOVE_sdss_2</th><th>is_galaxy_sdss_2</th><th>morphology_info_sdss_2</th><th>radius_sdss_2</th><th>radius_err_sdss_2</th><th>u_mag_sdss_2</th><th>g_mag_sdss_2</th><th>r_mag_sdss_2</th><th>i_mag_sdss_2</th><th>z_mag_sdss_2</th><th>y_mag_sdss_2</th><th>u_err_sdss_2</th><th>g_err_sdss_2</th><th>r_err_sdss_2</th><th>i_err_sdss_2</th><th>z_err_sdss_2</th><th>y_err_sdss_2</th><th>OBJID_decals_2</th><th>RA_decals_2</th><th>DEC_decals_2</th><th>REMOVE_decals_2</th><th>is_galaxy_decals_2</th><th>morphology_info_decals_2</th><th>radius_decals_2</th><th>radius_err_decals_2</th><th>u_mag_decals_2</th><th>g_mag_decals_2</th><th>r_mag_decals_2</th><th>i_mag_decals_2</th><th>z_mag_decals_2</th><th>y_mag_decals_2</th><th>u_err_decals_2</th><th>g_err_decals_2</th><th>r_err_decals_2</th><th>i_err_decals_2</th><th>z_err_decals_2</th><th>y_err_decals_2</th><th>HOST_NSAID_2</th><th>HOST_NSA1ID_2</th><th>HOST_RA_2</th><th>HOST_DEC_2</th><th>HOST_DIST_2</th><th>HOST_VHOST_2</th><th>HOST_MK_2</th><th>HOST_MR_2</th><th>HOST_MG_2</th><th>HOST_SAGA_NAME_2</th><th>HOST_NGC_2</th><th>HOST_PGC_2</th><th>RHOST_ARCM_2</th><th>RHOST_KPC_2</th><th>OBJ_NSAID_2</th><th>SPEC_REPEAT_2</th><th>SPEC_Z_2</th><th>SPEC_Z_ERR_2</th><th>ZQUALITY_2</th><th>SPECOBJID_2</th><th>MASKNAME_2</th><th>TELNAME_2</th><th>EM_ABS_2</th><th>HELIO_CORR_2</th><th>RA_spec_2</th><th>DEC_spec_2</th><th>sb_r_2</th><th>SATS_2</th><th>log_sm_2</th></tr></thead>\n",
       "<thead><tr><th>int64</th><th>float64</th><th>float64</th><th>int64</th><th>bool</th><th>int32</th><th>float32</th><th>float32</th><th>float64</th><th>float32</th><th>float32</th><th>float64</th><th>float32</th><th>float64</th><th>float64</th><th>float32</th><th>float32</th><th>float64</th><th>float32</th><th>float64</th><th>str6</th><th>int64</th><th>float64</th><th>float64</th><th>int64</th><th>bool</th><th>int32</th><th>float32</th><th>float32</th><th>float64</th><th>float32</th><th>float32</th><th>float64</th><th>float32</th><th>float64</th><th>float64</th><th>float32</th><th>float32</th><th>float64</th><th>float32</th><th>float64</th><th>int64</th><th>float64</th><th>float64</th><th>int64</th><th>bool</th><th>int32</th><th>float32</th><th>float32</th><th>float64</th><th>float32</th><th>float32</th><th>float64</th><th>float32</th><th>float64</th><th>float64</th><th>float32</th><th>float32</th><th>float64</th><th>float32</th><th>float64</th><th>int32</th><th>int32</th><th>float32</th><th>float32</th><th>float32</th><th>float32</th><th>float32</th><th>float32</th><th>float32</th><th>str48</th><th>int32</th><th>int32</th><th>float32</th><th>float32</th><th>int32</th><th>str48</th><th>float32</th><th>float32</th><th>int16</th><th>str48</th><th>str48</th><th>str6</th><th>int16</th><th>bool</th><th>float64</th><th>float64</th><th>float32</th><th>int16</th><th>float64</th><th>float64</th><th>float64</th><th>float32</th><th>float32</th><th>float64</th><th>float64</th><th>float64</th><th>float64</th><th>float64</th><th>float64</th><th>float32</th><th>float32</th><th>float64</th><th>float64</th><th>int64</th><th>bool</th><th>int32</th><th>float32</th><th>float32</th><th>float64</th><th>float32</th><th>float32</th><th>float64</th><th>float32</th><th>float64</th><th>float64</th><th>float32</th><th>float32</th><th>float64</th><th>float32</th><th>float64</th><th>bytes6</th><th>int64</th><th>float64</th><th>float64</th><th>int64</th><th>bool</th><th>int32</th><th>float32</th><th>float32</th><th>float64</th><th>float32</th><th>float32</th><th>float64</th><th>float32</th><th>float64</th><th>float64</th><th>float32</th><th>float32</th><th>float64</th><th>float32</th><th>float64</th><th>int64</th><th>float64</th><th>float64</th><th>int64</th><th>bool</th><th>int32</th><th>float32</th><th>float32</th><th>float64</th><th>float32</th><th>float32</th><th>float64</th><th>float32</th><th>float64</th><th>float64</th><th>float32</th><th>float32</th><th>float64</th><th>float32</th><th>float64</th><th>int32</th><th>int32</th><th>float32</th><th>float32</th><th>float32</th><th>float32</th><th>float32</th><th>float32</th><th>float32</th><th>bytes48</th><th>int32</th><th>int32</th><th>float32</th><th>float32</th><th>int32</th><th>bytes48</th><th>float32</th><th>float32</th><th>int16</th><th>bytes48</th><th>bytes48</th><th>bytes6</th><th>int16</th><th>bool</th><th>float64</th><th>float64</th><th>float32</th><th>int16</th><th>float64</th></tr></thead>\n",
       "<tr><td>667634</td><td>186.28988312104642</td><td>-3.650951666385364</td><td>0</td><td>True</td><td>69</td><td>3.2260087</td><td>0.0</td><td>20.403911590576172</td><td>20.104137</td><td>19.667616</td><td>19.071447372436523</td><td>19.019974</td><td>99.0</td><td>0.2365889996290207</td><td>0.089075685</td><td>0.08529498</td><td>0.08152511715888977</td><td>0.28358462</td><td>99.0</td><td>NSA</td><td>1237650760245838115</td><td>186.28914357117526</td><td>-3.6518246779813537</td><td>0</td><td>True</td><td>3</td><td>2.2175121</td><td>0.07880783</td><td>20.13367462158203</td><td>19.20518</td><td>18.841427</td><td>18.57540512084961</td><td>18.406008</td><td>99.0</td><td>0.10479016602039337</td><td>0.022609735</td><td>0.02977314</td><td>0.029728418216109276</td><td>0.09791481</td><td>99.0</td><td>3095180000000004064</td><td>186.2892062262206</td><td>-3.6518580967675636</td><td>0</td><td>True</td><td>69</td><td>2.5225127</td><td>9999.0</td><td>99.0</td><td>19.241293</td><td>18.812649</td><td>99.0</td><td>18.501104</td><td>99.0</td><td>99.0</td><td>0.005536317</td><td>0.0049096895</td><td>99.0</td><td>0.008456782</td><td>99.0</td><td>3469</td><td>19609</td><td>185.975</td><td>-3.44293</td><td>29.8369</td><td>2004.28</td><td>-23.4597</td><td>-20.4264</td><td>-19.6124</td><td></td><td>4348</td><td>40284</td><td>22.609608</td><td>196.23195</td><td>667634</td><td>NSA+AAT</td><td>0.11369844</td><td>10.0</td><td>4</td><td>36</td><td>nsa3469_1_MG.mz</td><td>AAT</td><td>-1</td><td>True</td><td>186.28920567765533</td><td>-3.651861098825328</td><td>24.206394</td><td>0</td><td>nan</td><td>0.299774169921875</td><td>0.2528019626566475</td><td>0.43652153</td><td>0.12332766</td><td>0.5961685180664062</td><td>0.11798973599548075</td><td>0.05147361755371094</td><td>0.29507047293309324</td><td>-79.98002624511719</td><td>99.00040616199142</td><td>0.64764214</td><td>0.2961342</td><td>--</td><td>--</td><td>--</td><td>--</td><td>--</td><td>--</td><td>--</td><td>--</td><td>--</td><td>--</td><td>--</td><td>--</td><td>--</td><td>--</td><td>--</td><td>--</td><td>--</td><td>--</td><td>--</td><td>--</td><td>--</td><td>--</td><td>--</td><td>--</td><td>--</td><td>--</td><td>--</td><td>--</td><td>--</td><td>--</td><td>--</td><td>--</td><td>--</td><td>--</td><td>--</td><td>--</td><td>--</td><td>--</td><td>--</td><td>--</td><td>--</td><td>--</td><td>--</td><td>--</td><td>--</td><td>--</td><td>--</td><td>--</td><td>--</td><td>--</td><td>--</td><td>--</td><td>--</td><td>--</td><td>--</td><td>--</td><td>--</td><td>--</td><td>--</td><td>--</td><td>--</td><td>--</td><td>--</td><td>--</td><td>--</td><td>--</td><td>--</td><td>--</td><td>--</td><td>--</td><td>--</td><td>--</td><td>--</td><td>--</td><td>--</td><td>--</td><td>--</td><td>--</td><td>--</td><td>--</td><td>--</td><td>--</td><td>--</td><td>--</td><td>--</td><td>--</td><td>--</td><td>--</td><td>--</td></tr>\n",
       "</table>"
      ],
      "text/plain": [
       "<Row index=0 masked=True>\n",
       "OBJID         RA_1              DEC_1        REMOVE_1 is_galaxy_1 morphology_info_1  radius_1 radius_err_1      u_mag_1        g_mag_1   r_mag_1       i_mag_1        z_mag_1  y_mag_1      u_err_1         g_err_1    r_err_1         i_err_1        z_err_1   y_err_1 survey_1     OBJID_sdss_1        RA_sdss_1           DEC_sdss_1     REMOVE_sdss_1 is_galaxy_sdss_1 morphology_info_sdss_1 radius_sdss_1 radius_err_sdss_1    u_mag_sdss_1   g_mag_sdss_1 r_mag_sdss_1    i_mag_sdss_1   z_mag_sdss_1 y_mag_sdss_1     u_err_sdss_1    g_err_sdss_1 r_err_sdss_1     i_err_sdss_1     z_err_sdss_1 y_err_sdss_1    OBJID_decals_1      RA_decals_1        DEC_decals_1    REMOVE_decals_1 is_galaxy_decals_1 morphology_info_decals_1 radius_decals_1 radius_err_decals_1 u_mag_decals_1 g_mag_decals_1 r_mag_decals_1 i_mag_decals_1 z_mag_decals_1 y_mag_decals_1 u_err_decals_1 g_err_decals_1 r_err_decals_1 i_err_decals_1 z_err_decals_1 y_err_decals_1 HOST_NSAID_1 HOST_NSA1ID_1 HOST_RA_1 HOST_DEC_1 HOST_DIST_1 HOST_VHOST_1 HOST_MK_1 HOST_MR_1 HOST_MG_1 HOST_SAGA_NAME_1 HOST_NGC_1 HOST_PGC_1 RHOST_ARCM_1 RHOST_KPC_1 OBJ_NSAID_1 SPEC_REPEAT_1  SPEC_Z_1  SPEC_Z_ERR_1 ZQUALITY_1 SPECOBJID_1    MASKNAME_1   TELNAME_1 EM_ABS_1 HELIO_CORR_1     RA_spec_1          DEC_spec_1       sb_r_1  SATS_1 log_sm_1         ug              ug_err           gr       gr_err           ri                ri_err                iz                iz_err               zy               zy_err          rz       rz_err    RA_2   DEC_2  REMOVE_2 is_galaxy_2 morphology_info_2 radius_2 radius_err_2 u_mag_2 g_mag_2 r_mag_2 i_mag_2 z_mag_2 y_mag_2 u_err_2 g_err_2 r_err_2 i_err_2 z_err_2 y_err_2 survey_2 OBJID_sdss_2 RA_sdss_2 DEC_sdss_2 REMOVE_sdss_2 is_galaxy_sdss_2 morphology_info_sdss_2 radius_sdss_2 radius_err_sdss_2 u_mag_sdss_2 g_mag_sdss_2 r_mag_sdss_2 i_mag_sdss_2 z_mag_sdss_2 y_mag_sdss_2 u_err_sdss_2 g_err_sdss_2 r_err_sdss_2 i_err_sdss_2 z_err_sdss_2 y_err_sdss_2 OBJID_decals_2 RA_decals_2 DEC_decals_2 REMOVE_decals_2 is_galaxy_decals_2 morphology_info_decals_2 radius_decals_2 radius_err_decals_2 u_mag_decals_2 g_mag_decals_2 r_mag_decals_2 i_mag_decals_2 z_mag_decals_2 y_mag_decals_2 u_err_decals_2 g_err_decals_2 r_err_decals_2 i_err_decals_2 z_err_decals_2 y_err_decals_2 HOST_NSAID_2 HOST_NSA1ID_2 HOST_RA_2 HOST_DEC_2 HOST_DIST_2 HOST_VHOST_2 HOST_MK_2 HOST_MR_2 HOST_MG_2 HOST_SAGA_NAME_2 HOST_NGC_2 HOST_PGC_2 RHOST_ARCM_2 RHOST_KPC_2 OBJ_NSAID_2 SPEC_REPEAT_2 SPEC_Z_2 SPEC_Z_ERR_2 ZQUALITY_2 SPECOBJID_2 MASKNAME_2 TELNAME_2 EM_ABS_2 HELIO_CORR_2 RA_spec_2 DEC_spec_2  sb_r_2 SATS_2 log_sm_2\n",
       "int64       float64            float64        int64       bool          int32        float32    float32         float64        float32   float32       float64        float32  float64      float64         float32    float32         float64        float32   float64   str6          int64             float64             float64           int64           bool               int32             float32         float32           float64        float32      float32         float64        float32      float64          float64         float32      float32          float64          float32      float64           int64             float64            float64            int64             bool                 int32               float32           float32          float64        float32        float32        float64        float32        float64        float64        float32        float32        float64        float32        float64        int32         int32      float32   float32     float32     float32     float32   float32   float32       str48         int32      int32      float32      float32      int32        str48      float32     float32      int16       str48         str48         str6    int16       bool          float64            float64        float32  int16  float64       float64           float64        float32    float32        float64             float64             float64             float64            float64            float64       float32    float32  float64 float64  int64       bool          int32       float32    float32    float64 float32 float32 float64 float32 float64 float64 float32 float32 float64 float32 float64  bytes6     int64      float64   float64       int64           bool               int32             float32         float32        float64      float32      float32      float64      float32      float64      float64      float32      float32      float64      float32      float64        int64        float64     float64         int64             bool                 int32               float32           float32          float64        float32        float32        float64        float32        float64        float64        float32        float32        float64        float32        float64        int32         int32      float32   float32     float32     float32     float32   float32   float32      bytes48        int32      int32      float32      float32      int32       bytes48    float32    float32      int16      bytes48    bytes48     bytes6   int16       bool      float64   float64   float32 int16  float64 \n",
       "------ ------------------ ------------------ -------- ----------- ----------------- --------- ------------ ------------------ --------- --------- ------------------ --------- ------- ------------------ ----------- ---------- ------------------- ---------- ------- -------- ------------------- ------------------ ------------------- ------------- ---------------- ---------------------- ------------- ----------------- ----------------- ------------ ------------ ----------------- ------------ ------------ ------------------- ------------ ------------ -------------------- ------------ ------------ ------------------- ----------------- ------------------- --------------- ------------------ ------------------------ --------------- ------------------- -------------- -------------- -------------- -------------- -------------- -------------- -------------- -------------- -------------- -------------- -------------- -------------- ------------ ------------- --------- ---------- ----------- ------------ --------- --------- --------- ---------------- ---------- ---------- ------------ ----------- ----------- ------------- ---------- ------------ ---------- ----------- --------------- --------- -------- ------------ ------------------ ------------------ --------- ------ -------- ----------------- ------------------ ---------- ---------- ------------------ ------------------- ------------------- ------------------- ------------------ ----------------- ---------- --------- ------- ------- -------- ----------- ----------------- -------- ------------ ------- ------- ------- ------- ------- ------- ------- ------- ------- ------- ------- ------- -------- ------------ --------- ---------- ------------- ---------------- ---------------------- ------------- ----------------- ------------ ------------ ------------ ------------ ------------ ------------ ------------ ------------ ------------ ------------ ------------ ------------ -------------- ----------- ------------ --------------- ------------------ ------------------------ --------------- ------------------- -------------- -------------- -------------- -------------- -------------- -------------- -------------- -------------- -------------- -------------- -------------- -------------- ------------ ------------- --------- ---------- ----------- ------------ --------- --------- --------- ---------------- ---------- ---------- ------------ ----------- ----------- ------------- -------- ------------ ---------- ----------- ---------- --------- -------- ------------ --------- ---------- ------- ------ --------\n",
       "667634 186.28988312104642 -3.650951666385364        0        True                69 3.2260087          0.0 20.403911590576172 20.104137 19.667616 19.071447372436523 19.019974    99.0 0.2365889996290207 0.089075685 0.08529498 0.08152511715888977 0.28358462    99.0      NSA 1237650760245838115 186.28914357117526 -3.6518246779813537             0             True                      3     2.2175121        0.07880783 20.13367462158203     19.20518    18.841427 18.57540512084961    18.406008         99.0 0.10479016602039337  0.022609735   0.02977314 0.029728418216109276   0.09791481         99.0 3095180000000004064 186.2892062262206 -3.6518580967675636               0               True                       69       2.5225127              9999.0           99.0      19.241293      18.812649           99.0      18.501104           99.0           99.0    0.005536317   0.0049096895           99.0    0.008456782           99.0         3469         19609   185.975   -3.44293     29.8369      2004.28  -23.4597  -20.4264  -19.6124                        4348      40284    22.609608   196.23195      667634       NSA+AAT 0.11369844         10.0          4          36 nsa3469_1_MG.mz       AAT       -1         True 186.28920567765533 -3.651861098825328 24.206394      0      nan 0.299774169921875 0.2528019626566475 0.43652153 0.12332766 0.5961685180664062 0.11798973599548075 0.05147361755371094 0.29507047293309324 -79.98002624511719 99.00040616199142 0.64764214 0.2961342      --      --       --          --                --       --           --      --      --      --      --      --      --      --      --      --      --      --      --       --           --        --         --            --               --                     --            --                --           --           --           --           --           --           --           --           --           --           --           --           --             --          --           --              --                 --                       --              --                  --             --             --             --             --             --             --             --             --             --             --             --             --           --            --        --         --          --           --        --        --        --               --         --         --           --          --          --            --       --           --         --          --         --        --       --           --        --         --      --     --       --"
      ]
     },
     "execution_count": 549,
     "metadata": {},
     "output_type": "execute_result"
    }
   ],
   "source": [
    "nsat = notmatch[0]\n",
    "nsat"
   ]
  },
  {
   "cell_type": "code",
   "execution_count": 550,
   "metadata": {},
   "outputs": [
    {
     "name": "stdout",
     "output_type": "stream",
     "text": [
      "min 4.0696631248491855\n"
     ]
    },
    {
     "data": {
      "text/html": [
       "<i>Row index=47169</i>\n",
       "<table id=\"table115985882864\">\n",
       "<thead><tr><th>OBJID</th><th>RA</th><th>DEC</th><th>REMOVE</th><th>is_galaxy</th><th>morphology_info</th><th>radius</th><th>radius_err</th><th>u_mag</th><th>g_mag</th><th>r_mag</th><th>i_mag</th><th>z_mag</th><th>y_mag</th><th>u_err</th><th>g_err</th><th>r_err</th><th>i_err</th><th>z_err</th><th>y_err</th><th>survey</th><th>OBJID_sdss</th><th>RA_sdss</th><th>DEC_sdss</th><th>REMOVE_sdss</th><th>is_galaxy_sdss</th><th>morphology_info_sdss</th><th>radius_sdss</th><th>radius_err_sdss</th><th>u_mag_sdss</th><th>g_mag_sdss</th><th>r_mag_sdss</th><th>i_mag_sdss</th><th>z_mag_sdss</th><th>y_mag_sdss</th><th>u_err_sdss</th><th>g_err_sdss</th><th>r_err_sdss</th><th>i_err_sdss</th><th>z_err_sdss</th><th>y_err_sdss</th><th>OBJID_decals</th><th>RA_decals</th><th>DEC_decals</th><th>REMOVE_decals</th><th>is_galaxy_decals</th><th>morphology_info_decals</th><th>radius_decals</th><th>radius_err_decals</th><th>u_mag_decals</th><th>g_mag_decals</th><th>r_mag_decals</th><th>i_mag_decals</th><th>z_mag_decals</th><th>y_mag_decals</th><th>u_err_decals</th><th>g_err_decals</th><th>r_err_decals</th><th>i_err_decals</th><th>z_err_decals</th><th>y_err_decals</th><th>HOST_NSAID</th><th>HOST_NSA1ID</th><th>HOST_RA</th><th>HOST_DEC</th><th>HOST_DIST</th><th>HOST_VHOST</th><th>HOST_MK</th><th>HOST_MR</th><th>HOST_MG</th><th>HOST_SAGA_NAME</th><th>HOST_NGC</th><th>HOST_PGC</th><th>RHOST_ARCM</th><th>RHOST_KPC</th><th>OBJ_NSAID</th><th>SPEC_REPEAT</th><th>SPEC_Z</th><th>SPEC_Z_ERR</th><th>ZQUALITY</th><th>SPECOBJID</th><th>MASKNAME</th><th>TELNAME</th><th>EM_ABS</th><th>HELIO_CORR</th><th>RA_spec</th><th>DEC_spec</th><th>sb_r</th><th>SATS</th><th>log_sm</th></tr></thead>\n",
       "<thead><tr><th>int64</th><th>float64</th><th>float64</th><th>int64</th><th>bool</th><th>int32</th><th>float32</th><th>float32</th><th>float64</th><th>float32</th><th>float32</th><th>float64</th><th>float32</th><th>float64</th><th>float64</th><th>float32</th><th>float32</th><th>float64</th><th>float32</th><th>float64</th><th>bytes6</th><th>int64</th><th>float64</th><th>float64</th><th>int64</th><th>bool</th><th>int32</th><th>float32</th><th>float32</th><th>float64</th><th>float32</th><th>float32</th><th>float64</th><th>float32</th><th>float64</th><th>float64</th><th>float32</th><th>float32</th><th>float64</th><th>float32</th><th>float64</th><th>int64</th><th>float64</th><th>float64</th><th>int64</th><th>bool</th><th>int32</th><th>float32</th><th>float32</th><th>float64</th><th>float32</th><th>float32</th><th>float64</th><th>float32</th><th>float64</th><th>float64</th><th>float32</th><th>float32</th><th>float64</th><th>float32</th><th>float64</th><th>int32</th><th>int32</th><th>float32</th><th>float32</th><th>float32</th><th>float32</th><th>float32</th><th>float32</th><th>float32</th><th>bytes48</th><th>int32</th><th>int32</th><th>float32</th><th>float32</th><th>int32</th><th>bytes48</th><th>float32</th><th>float32</th><th>int16</th><th>bytes48</th><th>bytes48</th><th>bytes6</th><th>int16</th><th>bool</th><th>float64</th><th>float64</th><th>float32</th><th>int16</th><th>float64</th></tr></thead>\n",
       "<tr><td>3095180000000004064</td><td>186.2892062262206</td><td>-3.6518580967675636</td><td>0</td><td>True</td><td>69</td><td>2.5225127</td><td>9999.0</td><td>99.0</td><td>19.241293</td><td>18.812649</td><td>99.0</td><td>18.501104</td><td>99.0</td><td>99.0</td><td>0.005536317</td><td>0.0049096895</td><td>99.0</td><td>0.008456782</td><td>99.0</td><td>decals</td><td>1237650760245838115</td><td>186.28914357117526</td><td>-3.6518246779813537</td><td>0</td><td>True</td><td>3</td><td>2.2175121</td><td>0.07880783</td><td>20.13367462158203</td><td>19.20518</td><td>18.841427</td><td>18.57540512084961</td><td>18.406008</td><td>99.0</td><td>0.10479016602039337</td><td>0.022609735</td><td>0.02977314</td><td>0.029728418216109276</td><td>0.09791481</td><td>99.0</td><td>3095180000000004064</td><td>186.2892062262206</td><td>-3.6518580967675636</td><td>0</td><td>True</td><td>69</td><td>2.5225127</td><td>9999.0</td><td>99.0</td><td>19.241293</td><td>18.812649</td><td>99.0</td><td>18.501104</td><td>99.0</td><td>99.0</td><td>0.005536317</td><td>0.0049096895</td><td>99.0</td><td>0.008456782</td><td>99.0</td><td>3469</td><td>19609</td><td>185.975</td><td>-3.44293</td><td>29.8369</td><td>2004.28</td><td>-23.4597</td><td>-20.4264</td><td>-19.6124</td><td></td><td>4348</td><td>40284</td><td>22.609608</td><td>196.23195</td><td>-1</td><td></td><td>nan</td><td>nan</td><td>-1</td><td></td><td></td><td></td><td>-1</td><td>False</td><td>nan</td><td>nan</td><td>22.817265</td><td>-1</td><td>nan</td></tr>\n",
       "</table>"
      ],
      "text/plain": [
       "<Row index=47169>\n",
       "       OBJID                RA                DEC         REMOVE is_galaxy morphology_info   radius  radius_err  u_mag    g_mag     r_mag    i_mag    z_mag    y_mag   u_err     g_err       r_err      i_err     z_err     y_err  survey      OBJID_sdss          RA_sdss             DEC_sdss      REMOVE_sdss is_galaxy_sdss morphology_info_sdss radius_sdss radius_err_sdss     u_mag_sdss    g_mag_sdss r_mag_sdss     i_mag_sdss    z_mag_sdss y_mag_sdss      u_err_sdss      g_err_sdss r_err_sdss      i_err_sdss      z_err_sdss y_err_sdss     OBJID_decals        RA_decals          DEC_decals     REMOVE_decals is_galaxy_decals morphology_info_decals radius_decals radius_err_decals u_mag_decals g_mag_decals r_mag_decals i_mag_decals z_mag_decals y_mag_decals u_err_decals g_err_decals r_err_decals i_err_decals z_err_decals y_err_decals HOST_NSAID HOST_NSA1ID HOST_RA HOST_DEC HOST_DIST HOST_VHOST HOST_MK  HOST_MR  HOST_MG  HOST_SAGA_NAME HOST_NGC HOST_PGC RHOST_ARCM RHOST_KPC OBJ_NSAID SPEC_REPEAT  SPEC_Z SPEC_Z_ERR ZQUALITY SPECOBJID MASKNAME TELNAME EM_ABS HELIO_CORR RA_spec DEC_spec    sb_r    SATS  log_sm\n",
       "       int64             float64            float64       int64     bool        int32       float32   float32   float64  float32   float32  float64  float32  float64 float64   float32     float32    float64   float32   float64 bytes6        int64             float64             float64          int64         bool             int32           float32       float32          float64       float32    float32        float64       float32    float64         float64         float32    float32         float64         float32    float64          int64             float64            float64           int64           bool               int32             float32         float32        float64      float32      float32      float64      float32      float64      float64      float32      float32      float64      float32      float64      int32       int32    float32 float32   float32   float32   float32  float32  float32     bytes48      int32    int32    float32    float32    int32     bytes48   float32  float32    int16    bytes48  bytes48   bytes6 int16     bool    float64 float64   float32  int16 float64\n",
       "------------------- ----------------- ------------------- ------ --------- --------------- --------- ---------- ------- --------- --------- ------- --------- ------- ------- ----------- ------------ ------- ----------- ------- ------ ------------------- ------------------ ------------------- ----------- -------------- -------------------- ----------- --------------- ----------------- ---------- ---------- ----------------- ---------- ---------- ------------------- ----------- ---------- -------------------- ---------- ---------- ------------------- ----------------- ------------------- ------------- ---------------- ---------------------- ------------- ----------------- ------------ ------------ ------------ ------------ ------------ ------------ ------------ ------------ ------------ ------------ ------------ ------------ ---------- ----------- ------- -------- --------- ---------- -------- -------- -------- -------------- -------- -------- ---------- --------- --------- ----------- ------- ---------- -------- --------- -------- ------- ------ ---------- ------- -------- --------- ----- -------\n",
       "3095180000000004064 186.2892062262206 -3.6518580967675636      0      True              69 2.5225127     9999.0    99.0 19.241293 18.812649    99.0 18.501104    99.0    99.0 0.005536317 0.0049096895    99.0 0.008456782    99.0 decals 1237650760245838115 186.28914357117526 -3.6518246779813537           0           True                    3   2.2175121      0.07880783 20.13367462158203   19.20518  18.841427 18.57540512084961  18.406008       99.0 0.10479016602039337 0.022609735 0.02977314 0.029728418216109276 0.09791481       99.0 3095180000000004064 186.2892062262206 -3.6518580967675636             0             True                     69     2.5225127            9999.0         99.0    19.241293    18.812649         99.0    18.501104         99.0         99.0  0.005536317 0.0049096895         99.0  0.008456782         99.0       3469       19609 185.975 -3.44293   29.8369    2004.28 -23.4597 -20.4264 -19.6124                    4348    40284  22.609608 196.23195        -1                 nan        nan       -1                                -1      False     nan      nan 22.817265    -1     nan"
      ]
     },
     "execution_count": 550,
     "metadata": {},
     "output_type": "execute_result"
    }
   ],
   "source": [
    "nsatsc = SkyCoord(nsat['RA_1'], nsat['DEC_1'], unit=u.deg)\n",
    "oldsc = SkyCoord(ocat_old['RA'], ocat_old['DEC'], unit=u.deg)\n",
    "\n",
    "seps = nsatsc.separation(oldsc)\n",
    "print('min', np.min(seps.arcsec))\n",
    "ocat_old[np.argmin(seps)]"
   ]
  },
  {
   "cell_type": "code",
   "execution_count": 544,
   "metadata": {},
   "outputs": [
    {
     "data": {
      "text/plain": [
       "False"
      ]
     },
     "execution_count": 544,
     "metadata": {},
     "output_type": "execute_result"
    }
   ],
   "source": [
    "ocat_old['OBJID'][np.argmin(seps)] in ocat['OBJID']"
   ]
  },
  {
   "cell_type": "markdown",
   "metadata": {},
   "source": [
    "Curious.  The added object 667634 has the wrong coordinates...? But it's been removed\n",
    "\n",
    "Now check the zquality's to ensure they are different for the observed objects"
   ]
  },
  {
   "cell_type": "code",
   "execution_count": 537,
   "metadata": {},
   "outputs": [
    {
     "data": {
      "text/html": [
       "<i>Table masked=True length=385</i>\n",
       "<table id=\"table113643472432\" class=\"table-striped table-bordered table-condensed\">\n",
       "<thead><tr><th>OBJID</th><th>ZQUALITY_1</th><th>ZQUALITY_2</th></tr></thead>\n",
       "<thead><tr><th>int64</th><th>int16</th><th>int16</th></tr></thead>\n",
       "<tr><td>667634</td><td>4</td><td>--</td></tr>\n",
       "<tr><td>1237650369410564480</td><td>2</td><td>-1</td></tr>\n",
       "<tr><td>1237650369410564688</td><td>2</td><td>-1</td></tr>\n",
       "<tr><td>1237650369410629877</td><td>4</td><td>-1</td></tr>\n",
       "<tr><td>1237650369410629880</td><td>4</td><td>-1</td></tr>\n",
       "<tr><td>1237650369410629892</td><td>4</td><td>-1</td></tr>\n",
       "<tr><td>1237650369410629906</td><td>4</td><td>-1</td></tr>\n",
       "<tr><td>1237650369410629925</td><td>4</td><td>-1</td></tr>\n",
       "<tr><td>1237650369410630114</td><td>3</td><td>-1</td></tr>\n",
       "<tr><td>1237650369410630115</td><td>1</td><td>-1</td></tr>\n",
       "<tr><td>...</td><td>...</td><td>...</td></tr>\n",
       "<tr><td>3152740000000003869</td><td>-1</td><td>--</td></tr>\n",
       "<tr><td>3152740000000003870</td><td>--</td><td>-1</td></tr>\n",
       "<tr><td>3167110000000000418</td><td>-1</td><td>--</td></tr>\n",
       "<tr><td>3167110000000000419</td><td>--</td><td>-1</td></tr>\n",
       "<tr><td>3167110000000001479</td><td>-1</td><td>--</td></tr>\n",
       "<tr><td>3167110000000001480</td><td>--</td><td>-1</td></tr>\n",
       "<tr><td>3167130000000000314</td><td>-1</td><td>--</td></tr>\n",
       "<tr><td>3167130000000000319</td><td>--</td><td>-1</td></tr>\n",
       "<tr><td>3167130000000000954</td><td>--</td><td>-1</td></tr>\n",
       "<tr><td>3167130000000000955</td><td>-1</td><td>--</td></tr>\n",
       "</table>"
      ],
      "text/plain": [
       "<Table masked=True length=385>\n",
       "       OBJID        ZQUALITY_1 ZQUALITY_2\n",
       "       int64          int16      int16   \n",
       "------------------- ---------- ----------\n",
       "             667634          4         --\n",
       "1237650369410564480          2         -1\n",
       "1237650369410564688          2         -1\n",
       "1237650369410629877          4         -1\n",
       "1237650369410629880          4         -1\n",
       "1237650369410629892          4         -1\n",
       "1237650369410629906          4         -1\n",
       "1237650369410629925          4         -1\n",
       "1237650369410630114          3         -1\n",
       "1237650369410630115          1         -1\n",
       "                ...        ...        ...\n",
       "3152740000000003869         -1         --\n",
       "3152740000000003870         --         -1\n",
       "3167110000000000418         -1         --\n",
       "3167110000000000419         --         -1\n",
       "3167110000000001479         -1         --\n",
       "3167110000000001480         --         -1\n",
       "3167130000000000314         -1         --\n",
       "3167130000000000319         --         -1\n",
       "3167130000000000954         --         -1\n",
       "3167130000000000955         -1         --"
      ]
     },
     "execution_count": 537,
     "metadata": {},
     "output_type": "execute_result"
    }
   ],
   "source": [
    "notmatch = j[j['ZQUALITY_1']!=j['ZQUALITY_2']]\n",
    "notmatch['OBJID', 'ZQUALITY_1', 'ZQUALITY_2']\n"
   ]
  },
  {
   "cell_type": "markdown",
   "metadata": {},
   "source": [
    "## Cumulatizing target tables "
   ]
  },
  {
   "cell_type": "code",
   "execution_count": 305,
   "metadata": {},
   "outputs": [
    {
     "name": "stdout",
     "output_type": "stream",
     "text": [
      "  host_id <=100 <=150 <=180 <=200 <=300 <=400 <=500 <=600 <=700 <=800 <=900\n",
      "--------- ----- ----- ----- ----- ----- ----- ----- ----- ----- ----- -----\n",
      "  pgc2052     3     3    12    23    49   337   387   469   481  1229  2387\n",
      "  pgc3089    10    12    12    45   228   721   771   840   856  1608  3022\n",
      "  nsa3469     0     0     4     5    13   103   153   166   171   711  2753\n",
      "nsa141465     0     1    10    11    26    86   135   141   145   431  2936\n",
      "nsa165082     2     8    12    24   234   847   897   905   914  1852  3775\n",
      "nsa145398     0     1     1    21   321   994  1044  1064  1080  2040  3911\n",
      "nsa145729     0     0    13    13    25    54   103   104   107   483  2525\n",
      "nsa145879     0     0     5     5    30   402   452   487   519  1215  4335\n",
      " pgc64427     9     9     9    45    96   221   271   461   691   849  3791\n",
      " pgc66318     3     4     5     9    20    70   120   173   250   427  2758\n",
      " pgc66934     2     2     4     4     9    39    89   128   251   455  2963\n",
      " pgc67146     1     2     2    66   186   452   502   642   747  1179  3825\n",
      " pgc67663     0     1     1    65   201   636   686   739   822  1337  2965\n",
      " pgc67817     0     0    16    30    84   199   249   312   416   705  2826\n",
      " pgc68128     0     0     0   104   294   872   922  1001  1094  1933  3594\n",
      " pgc69521     0     0     0    99   254   776   826   908  1037  1820  3766\n",
      " pgc70094    35    36    36   125   280   766   816   901   975  1818  3582\n",
      " pgc71548     0     0     0    62   303  1001  1051  1110  1163  2348  3507\n",
      " pgc71729     0     0     0    44   159   518   568   657   756  1348  3471\n",
      "\n"
     ]
    }
   ],
   "source": [
    "s=\"\"\"host_id   100 150 180 200 300 400 500 600 700 800  900 \n",
    "--------- --- --- --- --- --- --- --- --- --- ---- ----\n",
    "  pgc2052   3   0   9  11  26 288  50  82  12  748 1158\n",
    "  pgc3089  10   2   0  33 183 493  50  69  16  752 1414\n",
    "  nsa3469   0   0   4   1   8  90  50  13   5  540 2042\n",
    "nsa141465   0   1   9   1  15  60  49   6   4  286 2505\n",
    "nsa165082   2   6   4  12 210 613  50   8   9  938 1923\n",
    "nsa145398   0   1   0  20 300 673  50  20  16  960 1871\n",
    "nsa145729   0   0  13   0  12  29  49   1   3  376 2042\n",
    "nsa145879   0   0   5   0  25 372  50  35  32  696 3120\n",
    " pgc64427   9   0   0  36  51 125  50 190 230  158 2942\n",
    " pgc66318   3   1   1   4  11  50  50  53  77  177 2331\n",
    " pgc66934   2   0   2   0   5  30  50  39 123  204 2508\n",
    " pgc67146   1   1   0  64 120 266  50 140 105  432 2646\n",
    " pgc67663   0   1   0  64 136 435  50  53  83  515 1628\n",
    " pgc67817   0   0  16  14  54 115  50  63 104  289 2121\n",
    " pgc68128   0   0   0 104 190 578  50  79  93  839 1661\n",
    " pgc69521   0   0   0  99 155 522  50  82 129  783 1946\n",
    " pgc70094  35   1   0  89 155 486  50  85  74  843 1764\n",
    " pgc71548   0   0   0  62 241 698  50  59  53 1185 1159\n",
    " pgc71729   0   0   0  44 115 359  50  89  99  592 2123\"\"\"\n",
    "tab = table.Table.read(s.split('\\n'), format='ascii.fixed_width_two_line', delimiter=' ')\n",
    "\n",
    "pricols = tab.colnames[1:]\n",
    "cumtab = tab.copy()\n",
    "for row in cumtab:\n",
    "    cum = np.cumsum([row[c] for c in pricols])\n",
    "    for c, n in zip(pricols, cum):\n",
    "        row[c] = n\n",
    "for c in pricols:\n",
    "    cumtab[c].name = '<='+c\n",
    "    \n",
    "import io \n",
    "sio = io.StringIO()\n",
    "cumtab.write(sio, format='ascii.fixed_width_two_line')\n",
    "sio.seek(0)\n",
    "print(sio.read())"
   ]
  },
  {
   "cell_type": "markdown",
   "metadata": {},
   "source": [
    "## Fractional completenesses"
   ]
  },
  {
   "cell_type": "code",
   "execution_count": 211,
   "metadata": {},
   "outputs": [],
   "source": [
    "s=\"\"\"\n",
    "host_id   <150 <200 <300 <400 <500 <600 <700 <800 <900\n",
    "--------- ---- ---- ---- ---- ---- ---- ---- ---- ----\n",
    "  pgc2052   23   23   61  304  860  910  992 1004 1752\n",
    "  pgc3089   10   12   45  228  721  771  840  856 1608\n",
    "  nsa3469    0    0    4  148  659  709  725  734 1295\n",
    "nsa141465    0    2    9  104  332  382  396  403  734\n",
    "nsa165082    2    8   20  231  845  895  903  912 1850\n",
    "nsa145398    0    1   21  321  994 1044 1064 1080 2040\n",
    "nsa145729    0    2    5  110  369  419  433  449  985\n",
    "nsa145879    0    0    8  213  729  779  814  846 1542\n",
    " pgc64427    9    9   45   96  221  271  461  691  849\n",
    " pgc66318   29   30   46  132  313  363  468  548  751\n",
    " pgc66934   20   20   38  103  273  323  417  552  793\n",
    " pgc67146    1    2   66  186  452  502  642  747 1179\n",
    " pgc67663    0    1   65  201  636  686  739  822 1337\n",
    " pgc67817    0    1   46  116  346  396  467  573  874\n",
    " pgc68128    0    0  104  294  872  922 1001 1094 1933\n",
    " pgc69521    0    0   99  254  776  826  908 1037 1820\n",
    " pgc70094   35   36  125  280  766  816  901  975 1818\n",
    " pgc71548    0    0   62  303 1001 1051 1110 1163 2348\n",
    " pgc71729    0    0   44  159  518  568  657  756 1348\n",
    " \"\"\"\n",
    "tstart = table.Table.read(s.split('\\n'), format='ascii.fixed_width_two_line')\n",
    "s=\"\"\"\n",
    " host_id  <150 <180 <200 <300 <400 <500 <600 <700 <800 <900\n",
    "--------- ---- ---- ---- ---- ---- ---- ---- ---- ---- ----\n",
    "  pgc2052    3    3   12   23   49  337  387  469  481 1229\n",
    "  pgc3089   10   12   12   45  228  721  771  840  856 1608\n",
    "  nsa3469    0    0    4    5   13  103  153  166  171  711\n",
    "nsa141465    0    1   10   11   26   86  135  141  145  431\n",
    "nsa165082    2    8   12   24  234  847  897  905  914 1852\n",
    "nsa145398    0    1    1   21  321  994 1044 1064 1080 2040\n",
    "nsa145729    0    0   13   13   25   53  103  104  107  479\n",
    "nsa145879    0    0    5    5   30  402  452  487  519 1215\n",
    " pgc64427    4    4   10   14   23   53  103  195  422  553\n",
    " pgc66318    3    4    5    9   20   70  120  173  250  427\n",
    " pgc66934    2    2    4    4    9   39   89  128  251  455\n",
    " pgc67146    1    2    2   66  186  452  502  642  747 1179\n",
    " pgc67663    0    1    1   65  201  636  686  739  822 1337\n",
    " pgc67817    0    0    6   15   21   49   99  106  131  376\n",
    " pgc68128    0    0    0  104  294  872  922 1001 1094 1933\n",
    " pgc69521    0    0    0   99  254  776  826  908 1037 1820\n",
    " pgc70094   35   36   36  125  280  766  816  901  975 1818\n",
    " pgc71548    0    0    0   62  303 1001 1051 1110 1163 2348\n",
    " pgc71729    0    0    0   44  159  518  568  657  756 1348\n",
    " \"\"\"\n",
    "tnow = table.Table.read(s.split('\\n'), format='ascii.fixed_width_two_line')"
   ]
  },
  {
   "cell_type": "code",
   "execution_count": 226,
   "metadata": {},
   "outputs": [
    {
     "name": "stderr",
     "output_type": "stream",
     "text": [
      "/Users/erik/miniconda3/envs/saga3/lib/python3.6/site-packages/ipykernel_launcher.py:4: RuntimeWarning: invalid value encountered in true_divide\n",
      "  after removing the cwd from sys.path.\n",
      "/Users/erik/miniconda3/envs/saga3/lib/python3.6/site-packages/ipykernel_launcher.py:4: RuntimeWarning: divide by zero encountered in true_divide\n",
      "  after removing the cwd from sys.path.\n"
     ]
    },
    {
     "data": {
      "text/html": [
       "<i>Table length=19</i>\n",
       "<table id=\"table112364056528\" class=\"table-striped table-bordered table-condensed\">\n",
       "<thead><tr><th>host_id</th><th>&lt;150</th><th>&lt;200</th><th>&lt;300</th><th>&lt;400</th><th>&lt;500</th><th>&lt;600</th><th>&lt;700</th><th>&lt;800</th><th>&lt;900</th></tr></thead>\n",
       "<thead><tr><th>str9</th><th>float64</th><th>float64</th><th>float64</th><th>float64</th><th>float64</th><th>float64</th><th>float64</th><th>float64</th><th>float64</th></tr></thead>\n",
       "<tr><td>pgc2052</td><td>0.13</td><td>0.52</td><td>0.38</td><td>0.16</td><td>0.39</td><td>0.43</td><td>0.47</td><td>0.48</td><td>0.70</td></tr>\n",
       "<tr><td>pgc3089</td><td>1.00</td><td>1.00</td><td>1.00</td><td>1.00</td><td>1.00</td><td>1.00</td><td>1.00</td><td>1.00</td><td>1.00</td></tr>\n",
       "<tr><td>nsa3469</td><td>-1.00</td><td>-1.00</td><td>1.25</td><td>0.09</td><td>0.16</td><td>0.22</td><td>0.23</td><td>0.23</td><td>0.55</td></tr>\n",
       "<tr><td>nsa141465</td><td>-1.00</td><td>5.00</td><td>1.22</td><td>0.25</td><td>0.26</td><td>0.35</td><td>0.36</td><td>0.36</td><td>0.59</td></tr>\n",
       "<tr><td>nsa165082</td><td>1.00</td><td>1.50</td><td>1.20</td><td>1.01</td><td>1.00</td><td>1.00</td><td>1.00</td><td>1.00</td><td>1.00</td></tr>\n",
       "<tr><td>nsa145398</td><td>-1.00</td><td>1.00</td><td>1.00</td><td>1.00</td><td>1.00</td><td>1.00</td><td>1.00</td><td>1.00</td><td>1.00</td></tr>\n",
       "<tr><td>nsa145729</td><td>-1.00</td><td>6.50</td><td>2.60</td><td>0.23</td><td>0.14</td><td>0.25</td><td>0.24</td><td>0.24</td><td>0.49</td></tr>\n",
       "<tr><td>nsa145879</td><td>-1.00</td><td>-1.00</td><td>0.62</td><td>0.14</td><td>0.55</td><td>0.58</td><td>0.60</td><td>0.61</td><td>0.79</td></tr>\n",
       "<tr><td>pgc64427</td><td>0.44</td><td>1.11</td><td>0.31</td><td>0.24</td><td>0.24</td><td>0.38</td><td>0.42</td><td>0.61</td><td>0.65</td></tr>\n",
       "<tr><td>pgc66318</td><td>0.10</td><td>0.17</td><td>0.20</td><td>0.15</td><td>0.22</td><td>0.33</td><td>0.37</td><td>0.46</td><td>0.57</td></tr>\n",
       "<tr><td>pgc66934</td><td>0.10</td><td>0.20</td><td>0.11</td><td>0.09</td><td>0.14</td><td>0.28</td><td>0.31</td><td>0.45</td><td>0.57</td></tr>\n",
       "<tr><td>pgc67146</td><td>1.00</td><td>1.00</td><td>1.00</td><td>1.00</td><td>1.00</td><td>1.00</td><td>1.00</td><td>1.00</td><td>1.00</td></tr>\n",
       "<tr><td>pgc67663</td><td>-1.00</td><td>1.00</td><td>1.00</td><td>1.00</td><td>1.00</td><td>1.00</td><td>1.00</td><td>1.00</td><td>1.00</td></tr>\n",
       "<tr><td>pgc67817</td><td>-1.00</td><td>6.00</td><td>0.33</td><td>0.18</td><td>0.14</td><td>0.25</td><td>0.23</td><td>0.23</td><td>0.43</td></tr>\n",
       "<tr><td>pgc68128</td><td>-1.00</td><td>-1.00</td><td>1.00</td><td>1.00</td><td>1.00</td><td>1.00</td><td>1.00</td><td>1.00</td><td>1.00</td></tr>\n",
       "<tr><td>pgc69521</td><td>-1.00</td><td>-1.00</td><td>1.00</td><td>1.00</td><td>1.00</td><td>1.00</td><td>1.00</td><td>1.00</td><td>1.00</td></tr>\n",
       "<tr><td>pgc70094</td><td>1.00</td><td>1.00</td><td>1.00</td><td>1.00</td><td>1.00</td><td>1.00</td><td>1.00</td><td>1.00</td><td>1.00</td></tr>\n",
       "<tr><td>pgc71548</td><td>-1.00</td><td>-1.00</td><td>1.00</td><td>1.00</td><td>1.00</td><td>1.00</td><td>1.00</td><td>1.00</td><td>1.00</td></tr>\n",
       "<tr><td>pgc71729</td><td>-1.00</td><td>-1.00</td><td>1.00</td><td>1.00</td><td>1.00</td><td>1.00</td><td>1.00</td><td>1.00</td><td>1.00</td></tr>\n",
       "</table>"
      ],
      "text/plain": [
       "<Table length=19>\n",
       " host_id    <150    <200    <300    <400  ...   <600    <700    <800    <900 \n",
       "   str9   float64 float64 float64 float64 ... float64 float64 float64 float64\n",
       "--------- ------- ------- ------- ------- ... ------- ------- ------- -------\n",
       "  pgc2052    0.13    0.52    0.38    0.16 ...    0.43    0.47    0.48    0.70\n",
       "  pgc3089    1.00    1.00    1.00    1.00 ...    1.00    1.00    1.00    1.00\n",
       "  nsa3469   -1.00   -1.00    1.25    0.09 ...    0.22    0.23    0.23    0.55\n",
       "nsa141465   -1.00    5.00    1.22    0.25 ...    0.35    0.36    0.36    0.59\n",
       "nsa165082    1.00    1.50    1.20    1.01 ...    1.00    1.00    1.00    1.00\n",
       "nsa145398   -1.00    1.00    1.00    1.00 ...    1.00    1.00    1.00    1.00\n",
       "nsa145729   -1.00    6.50    2.60    0.23 ...    0.25    0.24    0.24    0.49\n",
       "nsa145879   -1.00   -1.00    0.62    0.14 ...    0.58    0.60    0.61    0.79\n",
       " pgc64427    0.44    1.11    0.31    0.24 ...    0.38    0.42    0.61    0.65\n",
       " pgc66318    0.10    0.17    0.20    0.15 ...    0.33    0.37    0.46    0.57\n",
       " pgc66934    0.10    0.20    0.11    0.09 ...    0.28    0.31    0.45    0.57\n",
       " pgc67146    1.00    1.00    1.00    1.00 ...    1.00    1.00    1.00    1.00\n",
       " pgc67663   -1.00    1.00    1.00    1.00 ...    1.00    1.00    1.00    1.00\n",
       " pgc67817   -1.00    6.00    0.33    0.18 ...    0.25    0.23    0.23    0.43\n",
       " pgc68128   -1.00   -1.00    1.00    1.00 ...    1.00    1.00    1.00    1.00\n",
       " pgc69521   -1.00   -1.00    1.00    1.00 ...    1.00    1.00    1.00    1.00\n",
       " pgc70094    1.00    1.00    1.00    1.00 ...    1.00    1.00    1.00    1.00\n",
       " pgc71548   -1.00   -1.00    1.00    1.00 ...    1.00    1.00    1.00    1.00\n",
       " pgc71729   -1.00   -1.00    1.00    1.00 ...    1.00    1.00    1.00    1.00"
      ]
     },
     "execution_count": 226,
     "metadata": {},
     "output_type": "execute_result"
    }
   ],
   "source": [
    "tcompl = table.Table()\n",
    "tcompl['host_id'] = tnow['host_id']\n",
    "for cnm in tstart.colnames[1:]:\n",
    "    tcompl[cnm] = tnow[cnm]/tstart[cnm]\n",
    "    tcompl[cnm][~np.isfinite(tcompl[cnm])] = -1\n",
    "    tcompl[cnm].format = '.2f'\n",
    "tcompl"
   ]
  },
  {
   "cell_type": "code",
   "execution_count": 227,
   "metadata": {},
   "outputs": [
    {
     "name": "stdout",
     "output_type": "stream",
     "text": [
      "  host_id  <150  <200 <300 <400 <500 <600 <700 <800 <900\n",
      "--------- ----- ----- ---- ---- ---- ---- ---- ---- ----\n",
      "  pgc2052  0.13  0.52 0.38 0.16 0.39 0.43 0.47 0.48 0.70\n",
      "  pgc3089  1.00  1.00 1.00 1.00 1.00 1.00 1.00 1.00 1.00\n",
      "  nsa3469 -1.00 -1.00 1.25 0.09 0.16 0.22 0.23 0.23 0.55\n",
      "nsa141465 -1.00  5.00 1.22 0.25 0.26 0.35 0.36 0.36 0.59\n",
      "nsa165082  1.00  1.50 1.20 1.01 1.00 1.00 1.00 1.00 1.00\n",
      "nsa145398 -1.00  1.00 1.00 1.00 1.00 1.00 1.00 1.00 1.00\n",
      "nsa145729 -1.00  6.50 2.60 0.23 0.14 0.25 0.24 0.24 0.49\n",
      "nsa145879 -1.00 -1.00 0.62 0.14 0.55 0.58 0.60 0.61 0.79\n",
      " pgc64427  0.44  1.11 0.31 0.24 0.24 0.38 0.42 0.61 0.65\n",
      " pgc66318  0.10  0.17 0.20 0.15 0.22 0.33 0.37 0.46 0.57\n",
      " pgc66934  0.10  0.20 0.11 0.09 0.14 0.28 0.31 0.45 0.57\n",
      " pgc67146  1.00  1.00 1.00 1.00 1.00 1.00 1.00 1.00 1.00\n",
      " pgc67663 -1.00  1.00 1.00 1.00 1.00 1.00 1.00 1.00 1.00\n",
      " pgc67817 -1.00  6.00 0.33 0.18 0.14 0.25 0.23 0.23 0.43\n",
      " pgc68128 -1.00 -1.00 1.00 1.00 1.00 1.00 1.00 1.00 1.00\n",
      " pgc69521 -1.00 -1.00 1.00 1.00 1.00 1.00 1.00 1.00 1.00\n",
      " pgc70094  1.00  1.00 1.00 1.00 1.00 1.00 1.00 1.00 1.00\n",
      " pgc71548 -1.00 -1.00 1.00 1.00 1.00 1.00 1.00 1.00 1.00\n",
      " pgc71729 -1.00 -1.00 1.00 1.00 1.00 1.00 1.00 1.00 1.00\n",
      "\n"
     ]
    }
   ],
   "source": [
    "import io\n",
    "\n",
    "sio = io.StringIO()\n",
    "tcompl.write(sio, format='ascii.fixed_width_two_line')\n",
    "\n",
    "sio.seek(0)\n",
    "print(sio.read())"
   ]
  },
  {
   "cell_type": "markdown",
   "metadata": {},
   "source": [
    "## pgc67817 maybe sats"
   ]
  },
  {
   "cell_type": "code",
   "execution_count": 239,
   "metadata": {},
   "outputs": [],
   "source": [
    "cat = saga_object_catalog.load('pgc67817')[0]\n",
    "psats = cat[np.in1d(cat['OBJID'], [int(i) for i in '219809642 247105220 247126789 219810724 219810478 219809584 247092888'.split()])]"
   ]
  },
  {
   "cell_type": "code",
   "execution_count": 240,
   "metadata": {},
   "outputs": [
    {
     "data": {
      "text/html": [
       "<i>Table length=7</i>\n",
       "<table id=\"table112324301208\" class=\"table-striped table-bordered table-condensed\">\n",
       "<thead><tr><th>OBJID</th><th>RA</th><th>DEC</th><th>REMOVE</th><th>is_galaxy</th><th>morphology_info</th><th>radius</th><th>radius_err</th><th>u_mag</th><th>g_mag</th><th>r_mag</th><th>i_mag</th><th>z_mag</th><th>y_mag</th><th>u_err</th><th>g_err</th><th>r_err</th><th>i_err</th><th>z_err</th><th>y_err</th><th>survey</th><th>OBJID_des</th><th>RA_des</th><th>DEC_des</th><th>REMOVE_des</th><th>is_galaxy_des</th><th>morphology_info_des</th><th>radius_des</th><th>radius_err_des</th><th>u_mag_des</th><th>g_mag_des</th><th>r_mag_des</th><th>i_mag_des</th><th>z_mag_des</th><th>y_mag_des</th><th>u_err_des</th><th>g_err_des</th><th>r_err_des</th><th>i_err_des</th><th>z_err_des</th><th>y_err_des</th><th>HOST_NSAID</th><th>HOST_NSA1ID</th><th>HOST_RA</th><th>HOST_DEC</th><th>HOST_DIST</th><th>HOST_VHOST</th><th>HOST_MK</th><th>HOST_MR</th><th>HOST_MG</th><th>HOST_SAGA_NAME</th><th>HOST_NGC</th><th>HOST_PGC</th><th>RHOST_ARCM</th><th>RHOST_KPC</th><th>OBJ_NSAID</th><th>SPEC_REPEAT</th><th>SPEC_Z</th><th>SPEC_Z_ERR</th><th>ZQUALITY</th><th>SPECOBJID</th><th>MASKNAME</th><th>TELNAME</th><th>EM_ABS</th><th>HELIO_CORR</th><th>RA_spec</th><th>DEC_spec</th><th>sb_r</th><th>SATS</th><th>log_sm</th><th>ug</th><th>ug_err</th><th>gr</th><th>gr_err</th><th>ri</th><th>ri_err</th><th>iz</th><th>iz_err</th><th>zy</th><th>zy_err</th><th>rz</th><th>rz_err</th><th>coord</th></tr></thead>\n",
       "<thead><tr><th></th><th></th><th></th><th></th><th></th><th></th><th></th><th></th><th></th><th></th><th></th><th></th><th></th><th></th><th></th><th></th><th></th><th></th><th></th><th></th><th></th><th></th><th></th><th></th><th></th><th></th><th></th><th></th><th></th><th></th><th></th><th></th><th></th><th></th><th></th><th></th><th></th><th></th><th></th><th></th><th></th><th></th><th></th><th></th><th></th><th></th><th></th><th></th><th></th><th></th><th></th><th></th><th></th><th></th><th></th><th></th><th></th><th></th><th></th><th></th><th></th><th></th><th></th><th></th><th></th><th></th><th></th><th></th><th></th><th></th><th></th><th></th><th></th><th></th><th></th><th></th><th></th><th></th><th></th><th></th><th></th><th></th><th>deg,deg</th></tr></thead>\n",
       "<thead><tr><th>int64</th><th>float64</th><th>float64</th><th>int64</th><th>bool</th><th>int32</th><th>float64</th><th>float32</th><th>float64</th><th>float32</th><th>float32</th><th>float32</th><th>float32</th><th>float32</th><th>float64</th><th>float32</th><th>float32</th><th>float32</th><th>float32</th><th>float32</th><th>str6</th><th>int64</th><th>float64</th><th>float64</th><th>int64</th><th>bool</th><th>int32</th><th>float64</th><th>float32</th><th>float64</th><th>float32</th><th>float32</th><th>float32</th><th>float32</th><th>float32</th><th>float64</th><th>float32</th><th>float32</th><th>float32</th><th>float32</th><th>float32</th><th>int32</th><th>int32</th><th>float32</th><th>float32</th><th>float32</th><th>float32</th><th>float32</th><th>float32</th><th>float32</th><th>str48</th><th>int32</th><th>int32</th><th>float32</th><th>float32</th><th>int32</th><th>str48</th><th>float32</th><th>float32</th><th>int16</th><th>str48</th><th>str48</th><th>str6</th><th>int16</th><th>bool</th><th>float64</th><th>float64</th><th>float64</th><th>int16</th><th>float64</th><th>float64</th><th>float64</th><th>float32</th><th>float32</th><th>float32</th><th>float32</th><th>float32</th><th>float32</th><th>float32</th><th>float32</th><th>float32</th><th>float32</th><th>object</th></tr></thead>\n",
       "<tr><td>247126789</td><td>329.757864387139</td><td>-43.7531101177325</td><td>0</td><td>True</td><td>3</td><td>2.85092029094696</td><td>0.0</td><td>99.0</td><td>18.691399</td><td>18.378174</td><td>18.29684</td><td>18.182585</td><td>18.1599</td><td>99.0</td><td>0.00510312</td><td>0.00493872</td><td>0.00702568</td><td>0.0149544</td><td>0.0408227</td><td>des</td><td>247126789</td><td>329.757864387139</td><td>-43.7531101177325</td><td>0</td><td>True</td><td>3</td><td>2.85092029094696</td><td>0.0</td><td>99.0</td><td>18.691399</td><td>18.378174</td><td>18.29684</td><td>18.182585</td><td>18.1599</td><td>99.0</td><td>0.00510312</td><td>0.00493872</td><td>0.00702568</td><td>0.0149544</td><td>0.0408227</td><td>-1</td><td>-1</td><td>330.137</td><td>-43.3898</td><td>35.8032</td><td>2466.0</td><td>0.0</td><td>0.0</td><td>0.0</td><td></td><td>7166</td><td>67817</td><td>27.327845</td><td>284.6091</td><td>-1</td><td>AAT</td><td>0.008598246</td><td>10.0</td><td>4</td><td>139</td><td>pgc67817_1_MG.mz</td><td>AAT</td><td>-1</td><td>True</td><td>329.75789487419297</td><td>-43.75311988425213</td><td>22.64854887408772</td><td>1</td><td>nan</td><td>80.30860137939453</td><td>99.00000013152442</td><td>0.3132248</td><td>0.0071016047</td><td>0.08133316</td><td>0.008587848</td><td>0.114255905</td><td>0.016522538</td><td>0.022684097</td><td>0.04347559</td><td>0.19558907</td><td>0.01574881</td><td>329.757864387139,-43.7531101177325</td></tr>\n",
       "<tr><td>219809642</td><td>330.126951306606</td><td>-43.1300400912041</td><td>0</td><td>True</td><td>3</td><td>10.8290067405701</td><td>0.0</td><td>99.0</td><td>17.818153</td><td>17.469044</td><td>17.606619</td><td>17.53608</td><td>17.5466</td><td>99.0</td><td>0.00832159</td><td>0.00612319</td><td>0.0109914</td><td>0.0180992</td><td>0.0547932</td><td>des</td><td>219809642</td><td>330.126951306606</td><td>-43.1300400912041</td><td>0</td><td>True</td><td>3</td><td>10.8290067405701</td><td>0.0</td><td>99.0</td><td>17.818153</td><td>17.469044</td><td>17.606619</td><td>17.53608</td><td>17.5466</td><td>99.0</td><td>0.00832159</td><td>0.00612319</td><td>0.0109914</td><td>0.0180992</td><td>0.0547932</td><td>-1</td><td>-1</td><td>330.137</td><td>-43.3898</td><td>35.8032</td><td>2466.0</td><td>0.0</td><td>0.0</td><td>0.0</td><td></td><td>7166</td><td>67817</td><td>15.591778</td><td>162.38358</td><td>-1</td><td>AAT</td><td>0.0075082458</td><td>10.0</td><td>4</td><td>294</td><td>pgc67817_1_MG.mz</td><td>AAT</td><td>-1</td><td>True</td><td>330.12693699003677</td><td>-43.13002828204736</td><td>24.637436522797284</td><td>1</td><td>nan</td><td>81.18184661865234</td><td>99.0000003497417</td><td>0.34910965</td><td>0.010331617</td><td>-0.13757515</td><td>0.012581904</td><td>0.070539474</td><td>0.021175267</td><td>-0.010520935</td><td>0.05770508</td><td>-0.067035675</td><td>0.019106923</td><td>330.126951306606,-43.1300400912041</td></tr>\n",
       "<tr><td>219809584</td><td>330.162240323829</td><td>-43.1184142070258</td><td>0</td><td>True</td><td>3</td><td>1.39074427890778</td><td>0.0</td><td>99.0</td><td>20.323376</td><td>20.161736</td><td>20.860159</td><td>20.132061</td><td>20.3527</td><td>99.0</td><td>0.0254918</td><td>0.0142276</td><td>0.0541156</td><td>0.0499507</td><td>0.146591</td><td>des</td><td>219809584</td><td>330.162240323829</td><td>-43.1184142070258</td><td>0</td><td>True</td><td>3</td><td>1.39074427890778</td><td>0.0</td><td>99.0</td><td>20.323376</td><td>20.161736</td><td>20.860159</td><td>20.132061</td><td>20.3527</td><td>99.0</td><td>0.0254918</td><td>0.0142276</td><td>0.0541156</td><td>0.0499507</td><td>0.146591</td><td>-1</td><td>-1</td><td>330.137</td><td>-43.3898</td><td>35.8032</td><td>2466.0</td><td>0.0</td><td>0.0</td><td>0.0</td><td></td><td>7166</td><td>67817</td><td>16.320461</td><td>169.97253</td><td>-1</td><td></td><td>nan</td><td>nan</td><td>-1</td><td></td><td></td><td></td><td>-1</td><td>False</td><td>nan</td><td>nan</td><td>22.873421615879455</td><td>-1</td><td>nan</td><td>78.6766242980957</td><td>99.00000328197912</td><td>0.16164017</td><td>0.029193431</td><td>-0.6984234</td><td>0.05595465</td><td>0.7280979</td><td>0.0736449</td><td>-0.22063828</td><td>0.15486766</td><td>0.02967453</td><td>0.051937435</td><td>330.162240323829,-43.1184142070258</td></tr>\n",
       "<tr><td>247105220</td><td>330.433067173899</td><td>-43.4127167406354</td><td>0</td><td>True</td><td>3</td><td>1.47061310720444</td><td>0.0</td><td>99.0</td><td>21.056229</td><td>20.55273</td><td>20.28322</td><td>20.13178</td><td>20.2183</td><td>99.0</td><td>0.0251481</td><td>0.01674</td><td>0.0237253</td><td>0.0346409</td><td>0.122227</td><td>des</td><td>247105220</td><td>330.433067173899</td><td>-43.4127167406354</td><td>0</td><td>True</td><td>3</td><td>1.47061310720444</td><td>0.0</td><td>99.0</td><td>21.056229</td><td>20.55273</td><td>20.28322</td><td>20.13178</td><td>20.2183</td><td>99.0</td><td>0.0251481</td><td>0.01674</td><td>0.0237253</td><td>0.0346409</td><td>0.122227</td><td>-1</td><td>-1</td><td>330.137</td><td>-43.3898</td><td>35.8032</td><td>2466.0</td><td>0.0</td><td>0.0</td><td>0.0</td><td></td><td>7166</td><td>67817</td><td>12.979655</td><td>135.17928</td><td>-1</td><td>AAT</td><td>0.007958245</td><td>10.0</td><td>3</td><td>33</td><td>pgc67817_1_MG.mz</td><td>AAT</td><td>-1</td><td>True</td><td>330.43306833997514</td><td>-43.41272565816491</td><td>23.38567239324986</td><td>1</td><td>nan</td><td>77.94377136230469</td><td>99.00000319407519</td><td>0.5034981</td><td>0.030210173</td><td>0.26951027</td><td>0.029036485</td><td>0.15143967</td><td>0.041986685</td><td>-0.08651924</td><td>0.12704106</td><td>0.42094994</td><td>0.03847362</td><td>330.433067173899,-43.4127167406354</td></tr>\n",
       "<tr><td>219810478</td><td>330.166618092583</td><td>-43.1433649294476</td><td>0</td><td>True</td><td>3</td><td>3.81677942371368</td><td>0.0</td><td>99.0</td><td>18.297361</td><td>18.109226</td><td>18.377365</td><td>18.462097</td><td>18.2576</td><td>99.0</td><td>0.0104453</td><td>0.00682</td><td>0.0199276</td><td>0.0285946</td><td>0.0649458</td><td>des</td><td>219810478</td><td>330.166618092583</td><td>-43.1433649294476</td><td>0</td><td>True</td><td>3</td><td>3.81677942371368</td><td>0.0</td><td>99.0</td><td>18.297361</td><td>18.109226</td><td>18.377365</td><td>18.462097</td><td>18.2576</td><td>99.0</td><td>0.0104453</td><td>0.00682</td><td>0.0199276</td><td>0.0285946</td><td>0.0649458</td><td>-1</td><td>-1</td><td>330.137</td><td>-43.3898</td><td>35.8032</td><td>2466.0</td><td>0.0</td><td>0.0</td><td>0.0</td><td></td><td>7166</td><td>67817</td><td>14.84262</td><td>154.58138</td><td>-1</td><td></td><td>nan</td><td>nan</td><td>-1</td><td></td><td></td><td></td><td>-1</td><td>False</td><td>nan</td><td>nan</td><td>23.013161209063888</td><td>-1</td><td>nan</td><td>80.70263862609863</td><td>99.00000055103173</td><td>0.18813515</td><td>0.012474641</td><td>-0.2681389</td><td>0.021062328</td><td>-0.084732056</td><td>0.034853414</td><td>0.20449638</td><td>0.07096202</td><td>-0.35287094</td><td>0.029396659</td><td>330.166618092583,-43.1433649294476</td></tr>\n",
       "<tr><td>219810724</td><td>330.17709095885</td><td>-43.1400516040434</td><td>0</td><td>True</td><td>3</td><td>1.93144537734985</td><td>0.0</td><td>99.0</td><td>20.106283</td><td>20.153519</td><td>20.538553</td><td>21.263615</td><td>20.9668</td><td>99.0</td><td>0.0152411</td><td>0.018902</td><td>0.0469469</td><td>0.154456</td><td>0.34406</td><td>des</td><td>219810724</td><td>330.17709095885</td><td>-43.1400516040434</td><td>0</td><td>True</td><td>3</td><td>1.93144537734985</td><td>0.0</td><td>99.0</td><td>20.106283</td><td>20.153519</td><td>20.538553</td><td>21.263615</td><td>20.9668</td><td>99.0</td><td>0.0152411</td><td>0.018902</td><td>0.0469469</td><td>0.154456</td><td>0.34406</td><td>-1</td><td>-1</td><td>330.137</td><td>-43.3898</td><td>35.8032</td><td>2466.0</td><td>0.0</td><td>0.0</td><td>0.0</td><td></td><td>7166</td><td>67817</td><td>15.086933</td><td>157.12581</td><td>-1</td><td></td><td>nan</td><td>nan</td><td>-1</td><td></td><td></td><td></td><td>-1</td><td>False</td><td>nan</td><td>nan</td><td>23.57838050014017</td><td>-1</td><td>nan</td><td>78.89371681213379</td><td>99.00000117318758</td><td>-0.04723549</td><td>0.024281202</td><td>-0.38503456</td><td>0.05060926</td><td>-0.7250614</td><td>0.16143318</td><td>0.29681396</td><td>0.37713915</td><td>-1.110096</td><td>0.1556083</td><td>330.17709095885,-43.1400516040434</td></tr>\n",
       "<tr><td>247092888</td><td>330.571680514057</td><td>-43.2322264530427</td><td>0</td><td>True</td><td>3</td><td>4.60565777778625</td><td>0.0</td><td>99.0</td><td>18.661083</td><td>18.207785</td><td>18.0284</td><td>17.907969</td><td>17.8978</td><td>99.0</td><td>0.00765482</td><td>0.00643803</td><td>0.00914355</td><td>0.0154922</td><td>0.0495021</td><td>des</td><td>247092888</td><td>330.571680514057</td><td>-43.2322264530427</td><td>0</td><td>True</td><td>3</td><td>4.60565777778625</td><td>0.0</td><td>99.0</td><td>18.661083</td><td>18.207785</td><td>18.0284</td><td>17.907969</td><td>17.8978</td><td>99.0</td><td>0.00765482</td><td>0.00643803</td><td>0.00914355</td><td>0.0154922</td><td>0.0495021</td><td>-1</td><td>-1</td><td>330.137</td><td>-43.3898</td><td>35.8032</td><td>2466.0</td><td>0.0</td><td>0.0</td><td>0.0</td><td></td><td>7166</td><td>67817</td><td>21.202099</td><td>220.81271</td><td>-1</td><td>AAT</td><td>0.007538246</td><td>10.0</td><td>2</td><td>395</td><td>pgc67817_1_MG.mz</td><td>AAT</td><td>-1</td><td>True</td><td>330.5716668306173</td><td>-43.2322439526987</td><td>23.519692647043033</td><td>-1</td><td>nan</td><td>80.33891677856445</td><td>99.00000029594077</td><td>0.45329857</td><td>0.010002225</td><td>0.17938423</td><td>0.011182698</td><td>0.1204319</td><td>0.01798924</td><td>0.010168076</td><td>0.051869705</td><td>0.29981613</td><td>0.016776664</td><td>330.571680514057,-43.2322264530427</td></tr>\n",
       "</table>"
      ],
      "text/plain": [
       "<Table length=7>\n",
       "  OBJID          RA        ...    rz_err                 coord               \n",
       "                           ...                          deg,deg              \n",
       "  int64       float64      ...   float32                 object              \n",
       "--------- ---------------- ... ----------- ----------------------------------\n",
       "247126789 329.757864387139 ...  0.01574881 329.757864387139,-43.7531101177325\n",
       "219809642 330.126951306606 ... 0.019106923 330.126951306606,-43.1300400912041\n",
       "219809584 330.162240323829 ... 0.051937435 330.162240323829,-43.1184142070258\n",
       "247105220 330.433067173899 ...  0.03847362 330.433067173899,-43.4127167406354\n",
       "219810478 330.166618092583 ... 0.029396659 330.166618092583,-43.1433649294476\n",
       "219810724  330.17709095885 ...   0.1556083  330.17709095885,-43.1400516040434\n",
       "247092888 330.571680514057 ... 0.016776664 330.571680514057,-43.2322264530427"
      ]
     },
     "execution_count": 240,
     "metadata": {},
     "output_type": "execute_result"
    }
   ],
   "source": [
    "psats"
   ]
  },
  {
   "cell_type": "markdown",
   "metadata": {},
   "source": [
    "# At-night Templates "
   ]
  },
  {
   "cell_type": "markdown",
   "metadata": {},
   "source": [
    "## nsaxxxx"
   ]
  },
  {
   "cell_type": "code",
   "execution_count": null,
   "metadata": {},
   "outputs": [],
   "source": [
    "idnum = xxxx\n",
    "fieldnum = NN\n",
    "\n",
    "saga_object_catalog.build_and_write_to_database('NSA{}'.format(idnum), overwrite=fieldnum>1)"
   ]
  },
  {
   "cell_type": "code",
   "execution_count": null,
   "metadata": {},
   "outputs": [],
   "source": [
    "host = targethosts[targethosts['NSAID'] == idnum]\n",
    "assert len(host) == 1\n",
    "host = host[0]\n",
    "\n",
    "hostname = host[host_id_label]\n",
    "print(hostname)\n",
    "tcats[hostname] = tcat = saga_targets.build_target_catalogs(hostname, return_as='list').pop()\n",
    "acats[hostname] = acat = saga.targets.prepare_aat_catalog(tcat, sky_fiber_needed=100)\n",
    "\n",
    "guidestars = get_sdss_guidestars(hostname)\n",
    "writecat = table.vstack([acat, guidestars])\n",
    "writecat['Notes'] = [n.title() for n in writecat['Notes']]\n",
    "len(writecat)"
   ]
  },
  {
   "cell_type": "code",
   "execution_count": null,
   "metadata": {},
   "outputs": [],
   "source": [
    "make_decals_viewer_cutouts(guidestars[np.random.permutation(len(guidestars))], \n",
    "                           survey='sdss',ncols=6,namecol='TargetName')"
   ]
  },
  {
   "cell_type": "code",
   "execution_count": null,
   "metadata": {},
   "outputs": [],
   "source": [
    "guides_to_rem = [int(i) for i in 'nnnn nnn nnnn'.split()]\n",
    "writecat.remove_rows((writecat['Notes']=='Guide')&(np.in1d(writecat['TargetName'], guides_to_rem)))\n",
    "np.sum((writecat['Notes']=='Guide'))"
   ]
  },
  {
   "cell_type": "code",
   "execution_count": null,
   "metadata": {},
   "outputs": [],
   "source": [
    "make_decals_viewer_cutouts(acat[acat['Notes']=='sky'], survey='sdss', ncols=6, \n",
    "                           zoom=16, namecol='TargetName')"
   ]
  },
  {
   "cell_type": "code",
   "execution_count": null,
   "metadata": {},
   "outputs": [],
   "source": [
    "skys_to_rem = [int(i) for i in 'n n nn nn'.split()]\n",
    "writecat.remove_rows((writecat['Notes']=='Sky')&(np.in1d(writecat['TargetName'], skys_to_rem)))\n",
    "np.sum((writecat['Notes']=='Sky'))"
   ]
  },
  {
   "cell_type": "code",
   "execution_count": null,
   "metadata": {},
   "outputs": [],
   "source": [
    "subsampledcat = subsample_catalog(writecat, {1:np.inf}, maxflux=5, maxguides=100)\n",
    "\n",
    "fldfn = 'aat_targets_jun2018/{}_{}.fld'.format(hostname, fieldnum)\n",
    "print('Writing', fldfn)\n",
    "write_fld_file(subsampledcat, host, obs_start_date, fldfn, suffix='_{}'.format(fieldnum))\n",
    "np.sum(subsampledcat['Notes'] == 'Targets')"
   ]
  },
  {
   "cell_type": "code",
   "execution_count": null,
   "metadata": {},
   "outputs": [],
   "source": [
    "!scp $fldfn visitor6@aatlxh:~/junDD/"
   ]
  },
  {
   "cell_type": "markdown",
   "metadata": {},
   "source": [
    "## pgcxxxx"
   ]
  },
  {
   "cell_type": "code",
   "execution_count": null,
   "metadata": {},
   "outputs": [],
   "source": [
    "idnum = xxxx\n",
    "fieldnum = NN\n",
    "\n",
    "saga_object_catalog.build_and_write_to_database('pgc{}'.format(idnum), overwrite=fieldnum>1)"
   ]
  },
  {
   "cell_type": "code",
   "execution_count": null,
   "metadata": {},
   "outputs": [],
   "source": [
    "host = targethosts[targethosts['PGC'] == idnum]\n",
    "assert len(host) == 1\n",
    "host = host[0]\n",
    "\n",
    "hostname = host[host_id_label]\n",
    "print(hostname)\n",
    "tcats[hostname] = tcat = saga_targets.build_target_catalogs(hostname, return_as='list').pop()\n",
    "acats[hostname] = acat = saga.targets.prepare_aat_catalog(tcat, sky_fiber_needed=100)\n",
    "\n",
    "guidestars = get_gaia_guidestars(hostname)\n",
    "writecat = table.vstack([acat, guidestars])\n",
    "writecat['Notes'] = [n.title() for n in writecat['Notes']]\n",
    "len(writecat)"
   ]
  },
  {
   "cell_type": "code",
   "execution_count": null,
   "metadata": {},
   "outputs": [],
   "source": [
    "# only need to remove if something really fishy is going on\n",
    "make_decals_viewer_cutouts(guidestars[np.random.permutation(len(guidestars))[:24]], \n",
    "                           survey='unwise-w1w2',ncols=6,namecol='TargetName')"
   ]
  },
  {
   "cell_type": "code",
   "execution_count": null,
   "metadata": {},
   "outputs": [],
   "source": [
    "make_des_cutouts_file(acat[acat['Notes']=='sky'])"
   ]
  },
  {
   "cell_type": "code",
   "execution_count": null,
   "metadata": {},
   "outputs": [],
   "source": [
    "show_des_cutouts(acat[acat['Notes']=='sky'], 'JOBNAME', ncols=8, namecol='TargetName')"
   ]
  },
  {
   "cell_type": "code",
   "execution_count": null,
   "metadata": {},
   "outputs": [],
   "source": [
    "skys_to_rem = [int(i) for i in 'n n nn nn'.split()]\n",
    "writecat.remove_rows((writecat['Notes']=='Sky')&(np.in1d(writecat['TargetName'], skys_to_rem)))\n",
    "np.sum((writecat['Notes']=='Sky'))"
   ]
  },
  {
   "cell_type": "code",
   "execution_count": null,
   "metadata": {},
   "outputs": [],
   "source": [
    "subsampledcat = subsample_catalog(writecat, {1:np.inf}, maxflux=5, maxguides=100)\n",
    "\n",
    "fldfn = 'aat_targets_jun2018/{}_{}.fld'.format(hostname, fieldnum)\n",
    "print('Writing', fldfn)\n",
    "write_fld_file(subsampledcat, host, obs_start_date, fldfn, suffix='_{}'.format(fieldnum))\n",
    "np.sum(subsampledcat['Notes'] == 'Targets')"
   ]
  },
  {
   "cell_type": "code",
   "execution_count": null,
   "metadata": {},
   "outputs": [],
   "source": [
    "!scp $fldfn visitor6@aatlxh:~/junDD/"
   ]
  }
 ],
 "metadata": {
  "kernelspec": {
   "display_name": "Python (saga3)",
   "language": "python",
   "name": "saga3"
  },
  "language_info": {
   "codemirror_mode": {
    "name": "ipython",
    "version": 3
   },
   "file_extension": ".py",
   "mimetype": "text/x-python",
   "name": "python",
   "nbconvert_exporter": "python",
   "pygments_lexer": "ipython3",
   "version": "3.6.1"
  }
 },
 "nbformat": 4,
 "nbformat_minor": 2
}
