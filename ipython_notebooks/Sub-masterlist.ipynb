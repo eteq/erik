{
 "cells": [
  {
   "cell_type": "markdown",
   "metadata": {},
   "source": [
    "This notebook is for re-computing a subset of the master list that is in the NSA footprint, including K-corrections"
   ]
  },
  {
   "cell_type": "code",
   "execution_count": 1,
   "metadata": {
    "collapsed": true
   },
   "outputs": [],
   "source": [
    "# This changes the current directory to the base saga directory - make sure to run this first!\n",
    "# This is necessary to be able to import the py files and use the right directories,\n",
    "# while keeping all the notebooks in their own directory.\n",
    "import os\n",
    "import sys\n",
    "import tempfile\n",
    "\n",
    "if 'saga_base_dir' not in locals():\n",
    "    saga_base_dir = os.path.abspath('..')\n",
    "\n",
    "if saga_base_dir not in sys.path:\n",
    "    os.chdir(saga_base_dir)"
   ]
  },
  {
   "cell_type": "code",
   "execution_count": 2,
   "metadata": {
    "collapsed": true
   },
   "outputs": [],
   "source": [
    "from __future__ import print_function, division\n",
    "\n",
    "from collections import Counter, OrderedDict\n",
    "\n",
    "import numpy as np\n",
    "\n",
    "from astropy import units as u\n",
    "from astropy.coordinates import *\n",
    "from astropy import table, cosmology, constants as cnst\n",
    "from astropy.visualization import hist as ahist\n",
    "\n",
    "#SAGA imports\n",
    "import hosts\n",
    "import targeting\n",
    "import kcorrect\n",
    "from masterlist import masterlist as masterlist_module"
   ]
  },
  {
   "cell_type": "code",
   "execution_count": 3,
   "metadata": {
    "collapsed": true
   },
   "outputs": [],
   "source": [
    "%matplotlib inline\n",
    "from matplotlib import style, pyplot as plt\n",
    "from mpl_toolkits.mplot3d import Axes3D\n",
    "\n",
    "plt.rcParams['image.cmap'] = 'viridis'\n",
    "plt.rcParams['image.origin'] = 'lower'\n",
    "plt.rcParams['axes.prop_cycle'] = style.library['seaborn-deep']['axes.prop_cycle']\n",
    "plt.rcParams['figure.figsize'] = (14, 8)\n",
    "plt.rcParams['axes.titlesize'] =  plt.rcParams['axes.labelsize'] = 16\n",
    "plt.rcParams['xtick.labelsize'] =  plt.rcParams['ytick.labelsize'] = 14"
   ]
  },
  {
   "cell_type": "markdown",
   "metadata": {},
   "source": [
    "# Load masterlist and associated bits "
   ]
  },
  {
   "cell_type": "code",
   "execution_count": 4,
   "metadata": {
    "collapsed": false
   },
   "outputs": [
    {
     "data": {
      "text/html": [
       "&lt;Table masked=True length=17792&gt;\n",
       "<table id=\"table5189674448\" class=\"table-striped table-bordered table-condensed\">\n",
       "<thead><tr><th>RA</th><th>Dec</th><th>PGC#</th><th>NSAID</th><th>othername</th><th>vhelio</th><th>vhelio_err</th><th>distance</th><th>r</th><th>i</th><th>z</th><th>I</th><th>K</th></tr></thead>\n",
       "<thead><tr><th>deg</th><th>deg</th><th></th><th></th><th>string</th><th>km / s</th><th>km / s</th><th>Mpc</th><th>mag</th><th>mag</th><th>mag</th><th>mag</th><th>mag</th></tr></thead>\n",
       "<thead><tr><th>float64</th><th>float64</th><th>int64</th><th>int64</th><th>str28</th><th>float64</th><th>float64</th><th>float64</th><th>float64</th><th>float64</th><th>float64</th><th>float64</th><th>float64</th></tr></thead>\n",
       "<tr><td>155.411800699</td><td>0.900255164384</td><td>--</td><td>464</td><td>--</td><td>897.302368164</td><td>190.000305176</td><td>12.9778122978</td><td>17.8465192987</td><td>17.8648594095</td><td>17.9443786814</td><td>--</td><td>--</td></tr>\n",
       "<tr><td>175.827885017</td><td>0.212515965092</td><td>--</td><td>1212</td><td>--</td><td>149.585525513</td><td>95.0001525879</td><td>2.16116345011</td><td>13.2585573178</td><td>13.1388387662</td><td>12.8246870023</td><td>--</td><td>--</td></tr>\n",
       "<tr><td>185.86139022</td><td>-0.411951305215</td><td>--</td><td>1398</td><td>--</td><td>108.256233215</td><td>70.0001144409</td><td>1.56371211242</td><td>16.7036302611</td><td>16.6973388716</td><td>16.7491024061</td><td>--</td><td>--</td></tr>\n",
       "<tr><td>170.835578635</td><td>-3.13086875479</td><td>--</td><td>2996</td><td>--</td><td>2707.15625</td><td>160.000244141</td><td>39.3325045658</td><td>17.4986403253</td><td>17.3694737222</td><td>17.1953413751</td><td>--</td><td>--</td></tr>\n",
       "<tr><td>179.301669033</td><td>-2.68650062571</td><td>--</td><td>3272</td><td>--</td><td>1536.73803711</td><td>142.500213623</td><td>22.2595972489</td><td>17.4616379866</td><td>17.5221982131</td><td>17.5233359465</td><td>--</td><td>--</td></tr>\n",
       "<tr><td>178.369363427</td><td>-3.22968533309</td><td>--</td><td>3276</td><td>--</td><td>1586.27331543</td><td>142.500213623</td><td>22.9809618134</td><td>17.0503131048</td><td>16.9707919256</td><td>16.9346038</td><td>--</td><td>--</td></tr>\n",
       "<tr><td>190.414321924</td><td>-1.44519645427</td><td>--</td><td>3526</td><td>--</td><td>146.170669556</td><td>87.5001296997</td><td>2.11179869823</td><td>7.73738497991</td><td>6.79136294621</td><td>7.93538874883</td><td>--</td><td>--</td></tr>\n",
       "<tr><td>191.530258224</td><td>-3.26911585606</td><td>--</td><td>3537</td><td>--</td><td>1156.52880859</td><td>172.500274658</td><td>16.7390133251</td><td>17.396934302</td><td>17.1693904711</td><td>17.0419090105</td><td>--</td><td>13.254</td></tr>\n",
       "<tr><td>190.497254971</td><td>-3.66736412411</td><td>--</td><td>3549</td><td>--</td><td>2826.93212891</td><td>147.500244141</td><td>41.0831285087</td><td>18.8093615845</td><td>19.398808606</td><td>19.3847695664</td><td>--</td><td>--</td></tr>\n",
       "<tr><td>...</td><td>...</td><td>...</td><td>...</td><td>...</td><td>...</td><td>...</td><td>...</td><td>...</td><td>...</td><td>...</td><td>...</td><td>...</td></tr>\n",
       "<tr><td>338.8252917</td><td>-45.5136667</td><td>--</td><td>--</td><td>g2235181-453048</td><td>3020.10922189</td><td>95.93358656</td><td>43.9110241265</td><td>--</td><td>--</td><td>--</td><td>--</td><td>12.596</td></tr>\n",
       "<tr><td>338.7727917</td><td>-46.4604722</td><td>--</td><td>--</td><td>g2235056-462738</td><td>936.551638792</td><td>95.93358656</td><td>13.5436535358</td><td>--</td><td>--</td><td>--</td><td>--</td><td>13.413</td></tr>\n",
       "<tr><td>336.2564167</td><td>-51.79575</td><td>--</td><td>--</td><td>g2225015-514745</td><td>1905.78065551</td><td>0.0</td><td>27.6294136391</td><td>--</td><td>--</td><td>--</td><td>--</td><td>12.343</td></tr>\n",
       "<tr><td>345.6082917</td><td>-50.0628889</td><td>--</td><td>--</td><td>g2302259-500346</td><td>3674.25636525</td><td>0.0</td><td>53.5121354687</td><td>--</td><td>--</td><td>--</td><td>--</td><td>--</td></tr>\n",
       "<tr><td>343.6907083</td><td>-49.8007222</td><td>--</td><td>--</td><td>g2254457-494802</td><td>3757.59866857</td><td>0.0</td><td>54.7376695699</td><td>--</td><td>--</td><td>--</td><td>--</td><td>12.217</td></tr>\n",
       "<tr><td>347.8368333</td><td>-43.4229444</td><td>--</td><td>--</td><td>g2311207-432523</td><td>1558.9207816</td><td>0.0</td><td>22.580401005</td><td>--</td><td>--</td><td>--</td><td>--</td><td>12.992</td></tr>\n",
       "<tr><td>336.8646667</td><td>-42.9764444</td><td>--</td><td>--</td><td>g2227276-425834</td><td>3137.92765789</td><td>0.0</td><td>45.6379196917</td><td>--</td><td>--</td><td>--</td><td>--</td><td>--</td></tr>\n",
       "<tr><td>339.1618333</td><td>-43.03375</td><td>--</td><td>--</td><td>g2236389-430201</td><td>2737.10514154</td><td>0.0</td><td>39.7672014637</td><td>--</td><td>--</td><td>--</td><td>--</td><td>--</td></tr>\n",
       "<tr><td>255.6157083</td><td>-24.36075</td><td>--</td><td>--</td><td>g1702281-242135</td><td>25.6241787502</td><td>0.0</td><td>0.369675390547</td><td>--</td><td>--</td><td>--</td><td>--</td><td>12.397</td></tr>\n",
       "<tr><td>256.3733333</td><td>-21.7145</td><td>--</td><td>--</td><td>g1705296-214252</td><td>27.7952577435</td><td>0.0</td><td>0.400999433819</td><td>--</td><td>--</td><td>--</td><td>--</td><td>12.647</td></tr>\n",
       "</table>"
      ],
      "text/plain": [
       "<Table masked=True length=17792>\n",
       "      RA            Dec        PGC# NSAID ...       z          I       K   \n",
       "     deg            deg                   ...      mag        mag     mag  \n",
       "   float64        float64     int64 int64 ...    float64    float64 float64\n",
       "------------- --------------- ----- ----- ... ------------- ------- -------\n",
       "155.411800699  0.900255164384    --   464 ... 17.9443786814      --      --\n",
       "175.827885017  0.212515965092    --  1212 ... 12.8246870023      --      --\n",
       " 185.86139022 -0.411951305215    --  1398 ... 16.7491024061      --      --\n",
       "170.835578635  -3.13086875479    --  2996 ... 17.1953413751      --      --\n",
       "179.301669033  -2.68650062571    --  3272 ... 17.5233359465      --      --\n",
       "178.369363427  -3.22968533309    --  3276 ...    16.9346038      --      --\n",
       "190.414321924  -1.44519645427    --  3526 ... 7.93538874883      --      --\n",
       "191.530258224  -3.26911585606    --  3537 ... 17.0419090105      --  13.254\n",
       "190.497254971  -3.66736412411    --  3549 ... 19.3847695664      --      --\n",
       "          ...             ...   ...   ... ...           ...     ...     ...\n",
       "  338.8252917     -45.5136667    --    -- ...            --      --  12.596\n",
       "  338.7727917     -46.4604722    --    -- ...            --      --  13.413\n",
       "  336.2564167       -51.79575    --    -- ...            --      --  12.343\n",
       "  345.6082917     -50.0628889    --    -- ...            --      --      --\n",
       "  343.6907083     -49.8007222    --    -- ...            --      --  12.217\n",
       "  347.8368333     -43.4229444    --    -- ...            --      --  12.992\n",
       "  336.8646667     -42.9764444    --    -- ...            --      --      --\n",
       "  339.1618333       -43.03375    --    -- ...            --      --      --\n",
       "  255.6157083       -24.36075    --    -- ...            --      --  12.397\n",
       "  256.3733333        -21.7145    --    -- ...            --      --  12.647"
      ]
     },
     "execution_count": 4,
     "metadata": {},
     "output_type": "execute_result"
    }
   ],
   "source": [
    "masterlist = table.Table.read('SAGADropbox/hosts/masterlist.csv', data_start=2)\n",
    "\n",
    "units = table.Table.read('SAGADropbox/hosts/masterlist.csv', data_end=2)\n",
    "for c in masterlist.colnames:\n",
    "    masterlist[c].unit = units[c][0].replace('#', '').replace('degrees', 'degree')\n",
    "\n",
    "masterlist"
   ]
  },
  {
   "cell_type": "code",
   "execution_count": 5,
   "metadata": {
    "collapsed": false
   },
   "outputs": [],
   "source": [
    "nsa = table.Table(hosts.get_nsa())"
   ]
  },
  {
   "cell_type": "code",
   "execution_count": 6,
   "metadata": {
    "collapsed": false
   },
   "outputs": [],
   "source": [
    "#for NSA we have this round-about but simple way to get E(B-V) so we can get the S&F extinction\n",
    "# See end of the notebook for proof that it works\n",
    "\n",
    "# bands here are ugrizJHK\n",
    "# these are Rx = Ax/E(B-V) for R_V~=3.1\n",
    "sfd_Rx = np.array([5.155,3.793,2.751,2.086,1.479,0.902,0.576,0.367])\n",
    "sandf_Rx = np.array([4.239, 3.303, 2.285, 1.698, 1.263, 0.709, 0.449,0.302])\n",
    "\n",
    "nsa['E(B-V)'] = np.mean(np.array(nsa['EXTINCTION'])[:,-5:]/sfd_Rx[:5], axis=1)\n",
    "nsa['A_ugrizJHK'] = (nsa['E(B-V)']*sandf_Rx[:, np.newaxis]).T"
   ]
  },
  {
   "cell_type": "code",
   "execution_count": 7,
   "metadata": {
    "collapsed": false
   },
   "outputs": [
    {
     "data": {
      "text/html": [
       "&lt;Table masked=True length=1646844&gt;\n",
       "<table id=\"table5259032912\" class=\"table-striped table-bordered table-condensed\">\n",
       "<thead><tr><th>ra</th><th>dec</th><th>r_k20fe</th><th>j_m_k20fe</th><th>j_msig_k20fe</th><th>j_flg_k20fe</th><th>h_m_k20fe</th><th>h_msig_k20fe</th><th>h_flg_k20fe</th><th>k_m_k20fe</th><th>k_msig_k20fe</th><th>k_flg_k20fe</th><th>k_ba</th><th>k_phi</th><th>j_m_ext</th><th>j_msig_ext</th><th>h_m_ext</th><th>h_msig_ext</th><th>k_m_ext</th><th>k_msig_ext</th><th>cc_flg</th></tr></thead>\n",
       "<thead><tr><th>float64</th><th>float64</th><th>float64</th><th>float64</th><th>float64</th><th>int64</th><th>float64</th><th>float64</th><th>int64</th><th>float64</th><th>float64</th><th>int64</th><th>float64</th><th>int64</th><th>float64</th><th>float64</th><th>float64</th><th>float64</th><th>float64</th><th>float64</th><th>str1</th></tr></thead>\n",
       "<tr><td>161.902771</td><td>-1.185182</td><td>5.0</td><td>15.124</td><td>0.109</td><td>0</td><td>14.316</td><td>0.135</td><td>0</td><td>13.875</td><td>0.156</td><td>0</td><td>1.0</td><td>90</td><td>14.97</td><td>0.184</td><td>13.99</td><td>0.191</td><td>13.612</td><td>0.232</td><td>0</td></tr>\n",
       "<tr><td>176.174164</td><td>24.901585</td><td>5.0</td><td>15.508</td><td>0.102</td><td>0</td><td>14.799</td><td>0.129</td><td>0</td><td>14.446</td><td>0.16</td><td>0</td><td>1.0</td><td>90</td><td>15.294</td><td>0.148</td><td>14.514</td><td>0.175</td><td>14.169</td><td>0.221</td><td>0</td></tr>\n",
       "<tr><td>122.197197</td><td>-10.182686</td><td>5.0</td><td>15.573</td><td>0.138</td><td>0</td><td>--</td><td>--</td><td>--</td><td>14.198</td><td>0.19</td><td>0</td><td>1.0</td><td>90</td><td>15.298</td><td>0.197</td><td>14.979</td><td>0.0</td><td>13.986</td><td>0.291</td><td>0</td></tr>\n",
       "<tr><td>67.092613</td><td>-39.653427</td><td>11.4</td><td>12.963</td><td>0.036</td><td>0</td><td>12.239</td><td>0.041</td><td>0</td><td>11.907</td><td>0.073</td><td>0</td><td>0.6</td><td>-40</td><td>12.775</td><td>0.041</td><td>12.136</td><td>0.047</td><td>11.844</td><td>0.079</td><td>0</td></tr>\n",
       "<tr><td>58.178047</td><td>-48.642609</td><td>6.3</td><td>14.377</td><td>0.067</td><td>3</td><td>13.58</td><td>0.072</td><td>3</td><td>12.98</td><td>0.079</td><td>3</td><td>0.9</td><td>25</td><td>14.0</td><td>0.082</td><td>13.274</td><td>0.099</td><td>12.856</td><td>0.117</td><td>0</td></tr>\n",
       "<tr><td>321.14444</td><td>-47.238235</td><td>6.4</td><td>14.754</td><td>0.095</td><td>0</td><td>13.984</td><td>0.112</td><td>0</td><td>13.49</td><td>0.105</td><td>0</td><td>1.0</td><td>90</td><td>14.476</td><td>0.132</td><td>13.606</td><td>0.149</td><td>13.304</td><td>0.168</td><td>0</td></tr>\n",
       "<tr><td>73.605751</td><td>-22.839722</td><td>8.4</td><td>15.203</td><td>0.126</td><td>0</td><td>14.523</td><td>0.145</td><td>0</td><td>13.616</td><td>0.127</td><td>0</td><td>0.5</td><td>-55</td><td>15.014</td><td>0.189</td><td>14.385</td><td>0.23</td><td>13.241</td><td>0.167</td><td>0</td></tr>\n",
       "<tr><td>163.984375</td><td>51.758099</td><td>5.0</td><td>15.346</td><td>0.096</td><td>0</td><td>14.75</td><td>0.153</td><td>0</td><td>14.043</td><td>0.118</td><td>0</td><td>1.0</td><td>90</td><td>15.114</td><td>0.14</td><td>14.727</td><td>0.278</td><td>13.788</td><td>0.172</td><td>0</td></tr>\n",
       "<tr><td>312.112518</td><td>-65.092072</td><td>8.5</td><td>15.003</td><td>0.091</td><td>1</td><td>14.277</td><td>0.108</td><td>3</td><td>13.707</td><td>0.111</td><td>3</td><td>0.4</td><td>-35</td><td>14.922</td><td>0.164</td><td>14.077</td><td>0.162</td><td>13.261</td><td>0.133</td><td>0</td></tr>\n",
       "<tr><td>266.161621</td><td>-58.279842</td><td>6.6</td><td>14.861</td><td>0.103</td><td>2</td><td>14.198</td><td>0.116</td><td>2</td><td>13.883</td><td>0.143</td><td>2</td><td>0.6</td><td>75</td><td>14.704</td><td>0.159</td><td>14.031</td><td>0.181</td><td>13.66</td><td>0.211</td><td>0</td></tr>\n",
       "<tr><td>...</td><td>...</td><td>...</td><td>...</td><td>...</td><td>...</td><td>...</td><td>...</td><td>...</td><td>...</td><td>...</td><td>...</td><td>...</td><td>...</td><td>...</td><td>...</td><td>...</td><td>...</td><td>...</td><td>...</td><td>...</td></tr>\n",
       "<tr><td>205.393341</td><td>30.413105</td><td>5.0</td><td>15.671</td><td>0.121</td><td>3</td><td>14.719</td><td>0.119</td><td>3</td><td>14.225</td><td>0.132</td><td>3</td><td>1.0</td><td>90</td><td>15.51</td><td>0.196</td><td>14.698</td><td>0.215</td><td>14.118</td><td>0.223</td><td>0</td></tr>\n",
       "<tr><td>254.751343</td><td>-9.525323</td><td>5.2</td><td>15.058</td><td>0.081</td><td>0</td><td>14.235</td><td>0.075</td><td>0</td><td>13.947</td><td>0.12</td><td>0</td><td>0.7</td><td>80</td><td>14.871</td><td>0.132</td><td>14.21</td><td>0.132</td><td>13.892</td><td>0.214</td><td>0</td></tr>\n",
       "<tr><td>171.491257</td><td>10.386036</td><td>6.0</td><td>14.394</td><td>0.064</td><td>0</td><td>13.597</td><td>0.061</td><td>0</td><td>13.348</td><td>0.1</td><td>0</td><td>0.8</td><td>-20</td><td>14.179</td><td>0.086</td><td>13.454</td><td>0.092</td><td>13.214</td><td>0.154</td><td>0</td></tr>\n",
       "<tr><td>73.760513</td><td>-9.518617</td><td>5.4</td><td>15.968</td><td>0.135</td><td>0</td><td>--</td><td>--</td><td>--</td><td>14.554</td><td>0.171</td><td>0</td><td>0.5</td><td>-30</td><td>15.436</td><td>0.155</td><td>15.089</td><td>0.0</td><td>14.394</td><td>0.31</td><td>0</td></tr>\n",
       "<tr><td>227.051727</td><td>17.991745</td><td>9.5</td><td>13.99</td><td>0.052</td><td>0</td><td>13.254</td><td>0.053</td><td>0</td><td>12.82</td><td>0.084</td><td>0</td><td>0.7</td><td>-20</td><td>13.923</td><td>0.079</td><td>12.994</td><td>0.067</td><td>12.626</td><td>0.105</td><td>0</td></tr>\n",
       "<tr><td>249.715668</td><td>57.095776</td><td>5.3</td><td>14.719</td><td>0.059</td><td>0</td><td>14.118</td><td>0.075</td><td>0</td><td>13.732</td><td>0.094</td><td>0</td><td>0.8</td><td>-80</td><td>14.442</td><td>0.076</td><td>13.786</td><td>0.098</td><td>13.595</td><td>0.145</td><td>0</td></tr>\n",
       "<tr><td>106.574936</td><td>20.80121</td><td>5.8</td><td>14.821</td><td>0.062</td><td>0</td><td>14.055</td><td>0.075</td><td>0</td><td>13.906</td><td>0.101</td><td>0</td><td>0.7</td><td>0</td><td>14.619</td><td>0.091</td><td>13.786</td><td>0.106</td><td>13.662</td><td>0.149</td><td>0</td></tr>\n",
       "<tr><td>115.484016</td><td>57.354275</td><td>5.0</td><td>15.587</td><td>0.124</td><td>0</td><td>--</td><td>--</td><td>--</td><td>14.153</td><td>0.123</td><td>0</td><td>1.0</td><td>90</td><td>15.573</td><td>0.228</td><td>14.958</td><td>0.0</td><td>14.083</td><td>0.213</td><td>0</td></tr>\n",
       "<tr><td>19.176586</td><td>40.493477</td><td>5.0</td><td>15.318</td><td>0.095</td><td>0</td><td>14.678</td><td>0.128</td><td>0</td><td>14.113</td><td>0.13</td><td>0</td><td>1.0</td><td>90</td><td>15.1</td><td>0.184</td><td>14.372</td><td>0.181</td><td>14.07</td><td>0.23</td><td>0</td></tr>\n",
       "<tr><td>300.324829</td><td>-55.983601</td><td>5.0</td><td>14.86</td><td>0.102</td><td>3</td><td>14.063</td><td>0.105</td><td>3</td><td>13.904</td><td>0.152</td><td>3</td><td>1.0</td><td>90</td><td>14.765</td><td>0.171</td><td>14.018</td><td>0.185</td><td>13.904</td><td>0.152</td><td>0</td></tr>\n",
       "</table>"
      ],
      "text/plain": [
       "<Table masked=True length=1646844>\n",
       "    ra        dec     r_k20fe j_m_k20fe ... h_msig_ext k_m_ext k_msig_ext cc_flg\n",
       " float64    float64   float64  float64  ...  float64   float64  float64    str1 \n",
       "---------- ---------- ------- --------- ... ---------- ------- ---------- ------\n",
       "161.902771  -1.185182     5.0    15.124 ...      0.191  13.612      0.232      0\n",
       "176.174164  24.901585     5.0    15.508 ...      0.175  14.169      0.221      0\n",
       "122.197197 -10.182686     5.0    15.573 ...        0.0  13.986      0.291      0\n",
       " 67.092613 -39.653427    11.4    12.963 ...      0.047  11.844      0.079      0\n",
       " 58.178047 -48.642609     6.3    14.377 ...      0.099  12.856      0.117      0\n",
       " 321.14444 -47.238235     6.4    14.754 ...      0.149  13.304      0.168      0\n",
       " 73.605751 -22.839722     8.4    15.203 ...       0.23  13.241      0.167      0\n",
       "163.984375  51.758099     5.0    15.346 ...      0.278  13.788      0.172      0\n",
       "312.112518 -65.092072     8.5    15.003 ...      0.162  13.261      0.133      0\n",
       "266.161621 -58.279842     6.6    14.861 ...      0.181   13.66      0.211      0\n",
       "       ...        ...     ...       ... ...        ...     ...        ...    ...\n",
       "205.393341  30.413105     5.0    15.671 ...      0.215  14.118      0.223      0\n",
       "254.751343  -9.525323     5.2    15.058 ...      0.132  13.892      0.214      0\n",
       "171.491257  10.386036     6.0    14.394 ...      0.092  13.214      0.154      0\n",
       " 73.760513  -9.518617     5.4    15.968 ...        0.0  14.394       0.31      0\n",
       "227.051727  17.991745     9.5     13.99 ...      0.067  12.626      0.105      0\n",
       "249.715668  57.095776     5.3    14.719 ...      0.098  13.595      0.145      0\n",
       "106.574936   20.80121     5.8    14.821 ...      0.106  13.662      0.149      0\n",
       "115.484016  57.354275     5.0    15.587 ...        0.0  14.083      0.213      0\n",
       " 19.176586  40.493477     5.0    15.318 ...      0.181   14.07       0.23      0\n",
       "300.324829 -55.983601     5.0     14.86 ...      0.185  13.904      0.152      0"
      ]
     },
     "execution_count": 7,
     "metadata": {},
     "output_type": "execute_result"
    }
   ],
   "source": [
    "twomassxsc = masterlist_module.load_2mass_xsc('masterlist/2mass_xsc_irsa.tab')\n",
    "twomassxsc"
   ]
  },
  {
   "cell_type": "markdown",
   "metadata": {},
   "source": [
    "## Build the sub-master list and add in the relevant photometry "
   ]
  },
  {
   "cell_type": "code",
   "execution_count": 8,
   "metadata": {
    "collapsed": false
   },
   "outputs": [
    {
     "data": {
      "text/html": [
       "&lt;Table masked=True length=9138&gt;\n",
       "<table id=\"table5259053008\" class=\"table-striped table-bordered table-condensed\">\n",
       "<thead><tr><th>RA</th><th>Dec</th><th>NSAID</th><th>vhelio</th><th>vhelio_err</th><th>distance</th></tr></thead>\n",
       "<thead><tr><th>deg</th><th>deg</th><th></th><th>km / s</th><th>km / s</th><th>Mpc</th></tr></thead>\n",
       "<thead><tr><th>float64</th><th>float64</th><th>int64</th><th>float64</th><th>float64</th><th>float64</th></tr></thead>\n",
       "<tr><td>155.411800699</td><td>0.900255164384</td><td>464</td><td>897.302368164</td><td>190.000305176</td><td>12.9778122978</td></tr>\n",
       "<tr><td>175.827885017</td><td>0.212515965092</td><td>1212</td><td>149.585525513</td><td>95.0001525879</td><td>2.16116345011</td></tr>\n",
       "<tr><td>185.86139022</td><td>-0.411951305215</td><td>1398</td><td>108.256233215</td><td>70.0001144409</td><td>1.56371211242</td></tr>\n",
       "<tr><td>170.835578635</td><td>-3.13086875479</td><td>2996</td><td>2707.15625</td><td>160.000244141</td><td>39.3325045658</td></tr>\n",
       "<tr><td>179.301669033</td><td>-2.68650062571</td><td>3272</td><td>1536.73803711</td><td>142.500213623</td><td>22.2595972489</td></tr>\n",
       "<tr><td>178.369363427</td><td>-3.22968533309</td><td>3276</td><td>1586.27331543</td><td>142.500213623</td><td>22.9809618134</td></tr>\n",
       "<tr><td>190.414321924</td><td>-1.44519645427</td><td>3526</td><td>146.170669556</td><td>87.5001296997</td><td>2.11179869823</td></tr>\n",
       "<tr><td>191.530258224</td><td>-3.26911585606</td><td>3537</td><td>1156.52880859</td><td>172.500274658</td><td>16.7390133251</td></tr>\n",
       "<tr><td>190.497254971</td><td>-3.66736412411</td><td>3549</td><td>2826.93212891</td><td>147.500244141</td><td>41.0831285087</td></tr>\n",
       "<tr><td>...</td><td>...</td><td>...</td><td>...</td><td>...</td><td>...</td></tr>\n",
       "<tr><td>137.444937432</td><td>33.1429985898</td><td>135710</td><td>2164.21899414</td><td>140.000228882</td><td>31.3973782943</td></tr>\n",
       "<tr><td>163.187269394</td><td>32.8791419483</td><td>138256</td><td>1623.10498047</td><td>132.500213623</td><td>23.5173281953</td></tr>\n",
       "<tr><td>170.59958942</td><td>53.8647827749</td><td>139275</td><td>3117.08325195</td><td>120.000190735</td><td>45.336504287</td></tr>\n",
       "<tr><td>209.375005785</td><td>29.0581355972</td><td>144164</td><td>2276.48803711</td><td>142.500213623</td><td>33.0379309689</td></tr>\n",
       "<tr><td>258.23137297</td><td>72.0666627063</td><td>147813</td><td>1621.76477051</td><td>132.500213623</td><td>23.4978111964</td></tr>\n",
       "<tr><td>349.704723874</td><td>7.0984132704</td><td>151085</td><td>3174.61279297</td><td>155.000244141</td><td>46.1803987635</td></tr>\n",
       "<tr><td>349.894190195</td><td>8.76056491927</td><td>169039</td><td>3029.10693359</td><td>155.000244141</td><td>44.0459894001</td></tr>\n",
       "<tr><td>349.895159503</td><td>8.76137739156</td><td>151136</td><td>3029.11889648</td><td>155.000244141</td><td>44.0461648824</td></tr>\n",
       "<tr><td>350.171206428</td><td>8.75078330124</td><td>151187</td><td>2936.74829102</td><td>155.000244141</td><td>42.6911906837</td></tr>\n",
       "<tr><td>351.47521849</td><td>18.545669686</td><td>151492</td><td>1380.29602051</td><td>117.500183105</td><td>19.9857248331</td></tr>\n",
       "</table>"
      ],
      "text/plain": [
       "<Table masked=True length=9138>\n",
       "      RA            Dec       NSAID      vhelio      vhelio_err     distance  \n",
       "     deg            deg                  km / s        km / s         Mpc     \n",
       "   float64        float64     int64     float64       float64       float64   \n",
       "------------- --------------- ------ ------------- ------------- -------------\n",
       "155.411800699  0.900255164384    464 897.302368164 190.000305176 12.9778122978\n",
       "175.827885017  0.212515965092   1212 149.585525513 95.0001525879 2.16116345011\n",
       " 185.86139022 -0.411951305215   1398 108.256233215 70.0001144409 1.56371211242\n",
       "170.835578635  -3.13086875479   2996    2707.15625 160.000244141 39.3325045658\n",
       "179.301669033  -2.68650062571   3272 1536.73803711 142.500213623 22.2595972489\n",
       "178.369363427  -3.22968533309   3276 1586.27331543 142.500213623 22.9809618134\n",
       "190.414321924  -1.44519645427   3526 146.170669556 87.5001296997 2.11179869823\n",
       "191.530258224  -3.26911585606   3537 1156.52880859 172.500274658 16.7390133251\n",
       "190.497254971  -3.66736412411   3549 2826.93212891 147.500244141 41.0831285087\n",
       "          ...             ...    ...           ...           ...           ...\n",
       "137.444937432   33.1429985898 135710 2164.21899414 140.000228882 31.3973782943\n",
       "163.187269394   32.8791419483 138256 1623.10498047 132.500213623 23.5173281953\n",
       " 170.59958942   53.8647827749 139275 3117.08325195 120.000190735  45.336504287\n",
       "209.375005785   29.0581355972 144164 2276.48803711 142.500213623 33.0379309689\n",
       " 258.23137297   72.0666627063 147813 1621.76477051 132.500213623 23.4978111964\n",
       "349.704723874    7.0984132704 151085 3174.61279297 155.000244141 46.1803987635\n",
       "349.894190195   8.76056491927 169039 3029.10693359 155.000244141 44.0459894001\n",
       "349.895159503   8.76137739156 151136 3029.11889648 155.000244141 44.0461648824\n",
       "350.171206428   8.75078330124 151187 2936.74829102 155.000244141 42.6911906837\n",
       " 351.47521849    18.545669686 151492 1380.29602051 117.500183105 19.9857248331"
      ]
     },
     "execution_count": 8,
     "metadata": {},
     "output_type": "execute_result"
    }
   ],
   "source": [
    "colstokeep = ['RA', 'Dec', 'NSAID', 'vhelio', 'vhelio_err', 'distance']\n",
    "submaster0 = masterlist[~masterlist['NSAID'].mask][colstokeep]\n",
    "submaster0"
   ]
  },
  {
   "cell_type": "code",
   "execution_count": 9,
   "metadata": {
    "collapsed": false
   },
   "outputs": [
    {
     "name": "stderr",
     "output_type": "stream",
     "text": [
      "/Users/erik/miniconda3/envs/saga/lib/python2.7/site-packages/ipykernel/__main__.py:7: RuntimeWarning: divide by zero encountered in log10\n",
      "/Users/erik/miniconda3/envs/saga/lib/python2.7/site-packages/ipykernel/__main__.py:7: RuntimeWarning: invalid value encountered in log10\n"
     ]
    },
    {
     "data": {
      "text/html": [
       "&lt;Table masked=True length=9138&gt;\n",
       "<table id=\"table5189724560\" class=\"table-striped table-bordered table-condensed\">\n",
       "<thead><tr><th>RA</th><th>Dec</th><th>NSAID</th><th>vhelio</th><th>vhelio_err</th><th>distance</th><th>E(B-V)</th><th>u</th><th>g</th><th>r</th><th>i</th><th>z</th></tr></thead>\n",
       "<thead><tr><th>deg</th><th>deg</th><th></th><th>km / s</th><th>km / s</th><th>Mpc</th><th></th><th>mag</th><th>mag</th><th>mag</th><th>mag</th><th>mag</th></tr></thead>\n",
       "<thead><tr><th>float64</th><th>float64</th><th>int64</th><th>float64</th><th>float64</th><th>float64</th><th>float64</th><th>float32</th><th>float32</th><th>float32</th><th>float32</th><th>float32</th></tr></thead>\n",
       "<tr><td>147.176446949</td><td>-0.354030416643</td><td>2</td><td>2051.19165039</td><td>132.500213623</td><td>29.7514014598</td><td>0.0877028543881</td><td>17.9815</td><td>16.8183</td><td>16.2982</td><td>16.0466</td><td>15.9215</td></tr>\n",
       "<tr><td>146.193241319</td><td>-0.689391394961</td><td>6</td><td>1445.77697754</td><td>145.000228882</td><td>20.9358094095</td><td>0.0636514724703</td><td>17.024</td><td>15.9931</td><td>15.7017</td><td>15.5106</td><td>15.4168</td></tr>\n",
       "<tr><td>146.007801384</td><td>-0.64225922322</td><td>7</td><td>1640.21911621</td><td>140.000228882</td><td>23.7665552411</td><td>0.0630527284911</td><td>15.6014</td><td>14.9153</td><td>15.0068</td><td>15.6666</td><td>15.5019</td></tr>\n",
       "<tr><td>146.619063376</td><td>-0.434345458168</td><td>9</td><td>1986.12316895</td><td>132.500213623</td><td>28.8038324065</td><td>0.106928527026</td><td>17.0736</td><td>15.9022</td><td>15.4277</td><td>15.1936</td><td>14.9987</td></tr>\n",
       "<tr><td>145.320962664</td><td>0.771102651396</td><td>30</td><td>2140.62915039</td><td>135.000213623</td><td>31.0538478259</td><td>0.114671165201</td><td>18.7395</td><td>17.6063</td><td>17.1605</td><td>16.9516</td><td>16.7769</td></tr>\n",
       "<tr><td>145.513690377</td><td>0.336451585096</td><td>32</td><td>2082.18920898</td><td>132.500213623</td><td>30.0</td><td>0.0995307787189</td><td>13.2757</td><td>11.9934</td><td>11.3445</td><td>11.0006</td><td>10.7516</td></tr>\n",
       "<tr><td>146.265781145</td><td>1.23041252815</td><td>43</td><td>2077.90454102</td><td>135.000213623</td><td>30.1404117443</td><td>0.160540565768</td><td>19.4772</td><td>18.2563</td><td>17.7993</td><td>17.5686</td><td>17.3586</td></tr>\n",
       "<tr><td>146.045441016</td><td>0.179766406149</td><td>48</td><td>3532.24023438</td><td>182.500274658</td><td>51.4263961604</td><td>0.140434637517</td><td>18.0851</td><td>16.9846</td><td>16.4694</td><td>16.3201</td><td>16.0847</td></tr>\n",
       "<tr><td>146.725322796</td><td>0.508279085733</td><td>59</td><td>1958.51794434</td><td>135.000213623</td><td>36.5</td><td>0.178253860217</td><td>15.7977</td><td>14.6012</td><td>13.9139</td><td>13.5689</td><td>13.3996</td></tr>\n",
       "<tr><td>...</td><td>...</td><td>...</td><td>...</td><td>...</td><td>...</td><td>...</td><td>...</td><td>...</td><td>...</td><td>...</td><td>...</td></tr>\n",
       "<tr><td>199.97668137</td><td>-1.5675409892</td><td>173005</td><td>86.9670333862</td><td>55.000087738</td><td>1.2559579698</td><td>0.026273873797</td><td>18.7122</td><td>17.1331</td><td>16.4001</td><td>15.9902</td><td>18.6054</td></tr>\n",
       "<tr><td>198.863202147</td><td>-2.64376833326</td><td>173014</td><td>124.374694824</td><td>75.0001144409</td><td>1.79671867785</td><td>0.0284640699485</td><td>15.9631</td><td>16.6003</td><td>15.6024</td><td>14.5603</td><td>nan</td></tr>\n",
       "<tr><td>207.783203623</td><td>-1.96230151557</td><td>173074</td><td>137.279647827</td><td>82.5001296997</td><td>1.98327114477</td><td>0.0493216617969</td><td>15.0728</td><td>16.3245</td><td>15.952</td><td>15.4505</td><td>14.4901</td></tr>\n",
       "<tr><td>212.500903514</td><td>0.481619866014</td><td>173100</td><td>150.989974976</td><td>87.5001296997</td><td>2.18146600463</td><td>0.0351821439221</td><td>17.3676</td><td>16.9793</td><td>16.0627</td><td>15.0592</td><td>14.8472</td></tr>\n",
       "<tr><td>212.295995247</td><td>-0.105540374984</td><td>173104</td><td>149.351013184</td><td>87.5001296997</td><td>2.15777336775</td><td>0.0385355912198</td><td>18.0335</td><td>16.721</td><td>15.4511</td><td>14.621</td><td>14.8307</td></tr>\n",
       "<tr><td>214.838729164</td><td>-0.205569176155</td><td>173199</td><td>740.891418457</td><td>187.500289917</td><td>10.7090111649</td><td>0.050434923263</td><td>18.0716</td><td>16.7159</td><td>15.9336</td><td>15.5009</td><td>15.2292</td></tr>\n",
       "<tr><td>218.464069397</td><td>0.773551666667</td><td>173235</td><td>2426.02954102</td><td>112.500175476</td><td>35.2236042412</td><td>0.0376972816495</td><td>19.2297</td><td>18.0088</td><td>17.1623</td><td>16.7552</td><td>16.3962</td></tr>\n",
       "<tr><td>222.918676148</td><td>-0.307385552943</td><td>173237</td><td>652.154602051</td><td>175.000259399</td><td>9.42624229288</td><td>0.0512061334506</td><td>19.9116</td><td>18.3006</td><td>17.4049</td><td>16.8525</td><td>16.4221</td></tr>\n",
       "<tr><td>219.748796246</td><td>-2.65469736351</td><td>173289</td><td>203.631942749</td><td>110.000175476</td><td>2.94245203454</td><td>0.0644125858595</td><td>17.6525</td><td>17.4152</td><td>16.4216</td><td>15.1627</td><td>nan</td></tr>\n",
       "<tr><td>5.72621015706</td><td>-12.2946394622</td><td>173318</td><td>211.647628784</td><td>87.5001296997</td><td>3.05832583925</td><td>0.0328903347742</td><td>13.2717</td><td>15.2326</td><td>14.7083</td><td>14.5051</td><td>nan</td></tr>\n",
       "</table>"
      ],
      "text/plain": [
       "<Table masked=True length=9138>\n",
       "      RA            Dec       NSAID      vhelio    ...    r       i       z   \n",
       "     deg            deg                  km / s    ...   mag     mag     mag  \n",
       "   float64        float64     int64     float64    ... float32 float32 float32\n",
       "------------- --------------- ------ ------------- ... ------- ------- -------\n",
       "147.176446949 -0.354030416643      2 2051.19165039 ... 16.2982 16.0466 15.9215\n",
       "146.193241319 -0.689391394961      6 1445.77697754 ... 15.7017 15.5106 15.4168\n",
       "146.007801384  -0.64225922322      7 1640.21911621 ... 15.0068 15.6666 15.5019\n",
       "146.619063376 -0.434345458168      9 1986.12316895 ... 15.4277 15.1936 14.9987\n",
       "145.320962664  0.771102651396     30 2140.62915039 ... 17.1605 16.9516 16.7769\n",
       "145.513690377  0.336451585096     32 2082.18920898 ... 11.3445 11.0006 10.7516\n",
       "146.265781145   1.23041252815     43 2077.90454102 ... 17.7993 17.5686 17.3586\n",
       "146.045441016  0.179766406149     48 3532.24023438 ... 16.4694 16.3201 16.0847\n",
       "146.725322796  0.508279085733     59 1958.51794434 ... 13.9139 13.5689 13.3996\n",
       "          ...             ...    ...           ... ...     ...     ...     ...\n",
       " 199.97668137   -1.5675409892 173005 86.9670333862 ... 16.4001 15.9902 18.6054\n",
       "198.863202147  -2.64376833326 173014 124.374694824 ... 15.6024 14.5603     nan\n",
       "207.783203623  -1.96230151557 173074 137.279647827 ...  15.952 15.4505 14.4901\n",
       "212.500903514  0.481619866014 173100 150.989974976 ... 16.0627 15.0592 14.8472\n",
       "212.295995247 -0.105540374984 173104 149.351013184 ... 15.4511  14.621 14.8307\n",
       "214.838729164 -0.205569176155 173199 740.891418457 ... 15.9336 15.5009 15.2292\n",
       "218.464069397  0.773551666667 173235 2426.02954102 ... 17.1623 16.7552 16.3962\n",
       "222.918676148 -0.307385552943 173237 652.154602051 ... 17.4049 16.8525 16.4221\n",
       "219.748796246  -2.65469736351 173289 203.631942749 ... 16.4216 15.1627     nan\n",
       "5.72621015706  -12.2946394622 173318 211.647628784 ... 14.7083 14.5051     nan"
      ]
     },
     "execution_count": 9,
     "metadata": {},
     "output_type": "execute_result"
    }
   ],
   "source": [
    "#integrate NSA SDSS mags\n",
    "\n",
    "nsainfo = nsa[('NSAID', 'E(B-V)')]\n",
    "for i, band in enumerate('FNugriz'):\n",
    "    if band in ('F', 'N'):\n",
    "        continue\n",
    "    mag = 22.5-2.5*np.log10(nsa['SERSICFLUX'])[:, i]\n",
    "    nsainfo[band] = mag\n",
    "    nsainfo[band].unit = 'mag'\n",
    "    \n",
    "submaster = table.join(submaster0, nsainfo, 'NSAID')\n",
    "submaster"
   ]
  },
  {
   "cell_type": "code",
   "execution_count": 10,
   "metadata": {
    "collapsed": false
   },
   "outputs": [
    {
     "data": {
      "image/png": "[encoded data removed]",
      "text/plain": [
       "<matplotlib.figure.Figure at 0x13976f7d0>"
      ]
     },
     "metadata": {},
     "output_type": "display_data"
    }
   ],
   "source": [
    "#integrate 2MASS JHK\n",
    "scsubm = SkyCoord(submaster['RA'], submaster['Dec'])\n",
    "sc2mass = SkyCoord(twomassxsc['ra'], twomassxsc['dec'], unit=u.deg)\n",
    "\n",
    "idx, d2d, _ = scsubm.match_to_catalog_sky(sc2mass)\n",
    "\n",
    "fig, (ax1, ax2) = plt.subplots(2, 1)\n",
    "\n",
    "ax1.hist(d2d.arcsec, histtype='step',bins=100, log=True)\n",
    "ax2.hist(d2d.arcsec, histtype='step',bins=100, range=(0,60), log=True)\n",
    "\n",
    "fig.tight_layout()"
   ]
  },
  {
   "cell_type": "markdown",
   "metadata": {},
   "source": [
    "Why are there so many NSA objects not in 2MASS? For now we'll just accept these but mask them"
   ]
  },
  {
   "cell_type": "code",
   "execution_count": 11,
   "metadata": {
    "collapsed": true
   },
   "outputs": [],
   "source": [
    "submaster['dist_2MASS_NSA'] = d2d"
   ]
  },
  {
   "cell_type": "code",
   "execution_count": 12,
   "metadata": {
    "collapsed": false
   },
   "outputs": [],
   "source": [
    "idx2mass = twomassxsc[idx]\n",
    "\n",
    "for band in 'jhk':\n",
    "    twomass_col = '{}_m_ext'.format(band)\n",
    "    twomass_err_col = '{}_msig_ext'.format(band)\n",
    "    \n",
    "    submaster[band.upper()] = idx2mass[twomass_col]\n",
    "    submaster[band.upper()+\"_err\"] = idx2mass[twomass_err_col]"
   ]
  },
  {
   "cell_type": "code",
   "execution_count": 13,
   "metadata": {
    "collapsed": false
   },
   "outputs": [],
   "source": [
    "#add extinction for each, and also the z for use with kcorrect\n",
    "for i, bandnm in enumerate('ugrizJHK'):\n",
    "    submaster['A_'+bandnm] = submaster['E(B-V)']*sandf_Rx[i]\n",
    "    # not that this is *not* the real absolute magnitude yet\n",
    "    submaster[bandnm+'_extcorr'] = submaster[bandnm] + submaster['A_'+bandnm]\n",
    "    \n",
    "submaster['z_kcorr'] = (u.Quantity(submaster['vhelio'])/cnst.c).decompose()"
   ]
  },
  {
   "cell_type": "code",
   "execution_count": 27,
   "metadata": {
    "collapsed": true
   },
   "outputs": [],
   "source": [
    "#tosend = submaster['NSAID', 'u_extcorr', 'g_extcorr', 'r_extcorr', 'i_extcorr', 'z_extcorr', \n",
    "#                   'J_extcorr', 'H_extcorr', 'K_extcorr', 'z_kcorr']\n",
    "#tosend = submaster['NSAID', 'J_extcorr', 'H_extcorr', 'K_extcorr',\n",
    "#                   'J_err', 'H_err', 'K_err', 'z_kcorr']"
   ]
  },
  {
   "cell_type": "code",
   "execution_count": 28,
   "metadata": {
    "collapsed": false
   },
   "outputs": [],
   "source": [
    "#tosend.write('submaster_to_be_kcorred', format='ascii', delimiter=' ')\n",
    "#!mv submaster_to_be_kcorred /Users/erik/Dropbox/"
   ]
  },
  {
   "cell_type": "markdown",
   "metadata": {},
   "source": [
    "Now in IDL run:\n",
    "\n",
    "```\n",
    "IDL> readcol, u,g,r,i,z,J,H,K, ue,ge,re,ie,ze ,Je,He,Ke, z_kcorr\n",
    "IDL> kcorrect, [u,g,r,i,z,J,H,K], [ue,ge,re,ie,ze,Je,He,Ke], z_kcorr, out, filterlist=['sdss_u0.par','sdss_g0.par','sdss_r0.par','sdss_i0.par','sdss_z0.par','twomass_J.par', 'twomass_H.par','twomass_Ks.par'],/magnitude\n",
    "IDL> forprint, out, textout = 'kcorr_out'\n",
    "```"
   ]
  },
  {
   "cell_type": "code",
   "execution_count": 18,
   "metadata": {
    "collapsed": false
   },
   "outputs": [
    {
     "name": "stdout",
     "output_type": "stream",
     "text": [
      "KCORRECT_DIR\r\n",
      "data/filters/sdss_u0.par\r\n",
      "data/filters/sdss_g0.par\r\n",
      "data/filters/sdss_r0.par\r\n",
      "data/filters/sdss_i0.par\r\n",
      "data/filters/sdss_z0.par\r\n",
      "data/filters/twomass_J.par\r\n",
      "data/filters/twomass_H.par\r\n",
      "data/filters/twomass_Ks.par\r\n"
     ]
    }
   ],
   "source": [
    "kcorrect.load_templates()\n",
    "\n",
    "def load_filters_by_name(bandnms, band_shift=0.0, verbose=False):\n",
    "    with tempfile.NamedTemporaryFile() as ntf:\n",
    "        ntf.write('KCORRECT_DIR\\n')\n",
    "        for bandnm in bandnms:\n",
    "            ntf.write('data/filters/{}\\n'.format(bandnm))\n",
    "\n",
    "        ntf.seek(0)\n",
    "        if verbose:\n",
    "            !cat $ntf.name\n",
    "        kcorrect.load_filters(ntf.name, band_shift)\n",
    "    \n",
    "ugrizJHK_filters = ['sdss_{}0.par'.format(bandnm) for bandnm in 'ugriz']\n",
    "ugrizJHK_filters.extend(['twomass_{}.par'.format(bandnm) for bandnm in ('J','H','Ks')])\n",
    "load_filters_by_name(ugrizJHK_filters)"
   ]
  },
  {
   "cell_type": "code",
   "execution_count": null,
   "metadata": {
    "collapsed": true
   },
   "outputs": [],
   "source": []
  },
  {
   "cell_type": "code",
   "execution_count": null,
   "metadata": {
    "collapsed": true
   },
   "outputs": [],
   "source": []
  },
  {
   "cell_type": "code",
   "execution_count": 21,
   "metadata": {
    "collapsed": true
   },
   "outputs": [],
   "source": [
    "redshift = 0.03077382\n",
    "maggies = [1.144068e-08, 5.262234e-08, 8.210213e-08, 8.744532e-08, 1.017738e-07,1,2,3]\n",
    "maggies_ivar = [6.216309e+16, 3.454767e+17, 1.827409e+17, 1.080889e+16, 3163927000000000.0,1,2,3]"
   ]
  },
  {
   "cell_type": "code",
   "execution_count": 22,
   "metadata": {
    "collapsed": false
   },
   "outputs": [],
   "source": [
    "coeffs = kcorrect.fit_nonneg(redshift, maggies, maggies_ivar)"
   ]
  },
  {
   "cell_type": "code",
   "execution_count": 23,
   "metadata": {
    "collapsed": false
   },
   "outputs": [],
   "source": [
    "rm = kcorrect.reconstruct_maggies(coeffs)"
   ]
  },
  {
   "cell_type": "code",
   "execution_count": 27,
   "metadata": {
    "collapsed": false
   },
   "outputs": [
    {
     "data": {
      "text/plain": [
       "array([  3.07738204e-02,   1.44426542e-08,   5.28384945e-08,\n",
       "         8.09117253e-08,   9.51680335e-08,   1.10408642e-07,\n",
       "         1.34550049e-07,   1.54223102e-07,   1.33128964e-07], dtype=float32)"
      ]
     },
     "execution_count": 27,
     "metadata": {},
     "output_type": "execute_result"
    }
   ],
   "source": [
    "rm"
   ]
  },
  {
   "cell_type": "code",
   "execution_count": 26,
   "metadata": {
    "collapsed": false
   },
   "outputs": [],
   "source": [
    "kcorrect.reconstruct_maggies??"
   ]
  },
  {
   "cell_type": "code",
   "execution_count": 30,
   "metadata": {
    "collapsed": false
   },
   "outputs": [
    {
     "name": "stdout",
     "output_type": "stream",
     "text": [
      "KCORRECT_DIR\r\n",
      "data/filters/sdss_u0.par\r\n",
      "data/filters/sdss_g0.par\r\n",
      "data/filters/sdss_r0.par\r\n",
      "data/filters/sdss_i0.par\r\n",
      "data/filters/sdss_z0.par\r\n",
      "data/filters/twomass_J.par\r\n",
      "data/filters/twomass_H.par\r\n",
      "data/filters/twomass_Ks.par\r\n"
     ]
    }
   ],
   "source": [
    "load_filters_by_name(ugrizJHK_filters, band_shift=0.1)\n",
    "rm0 = kcorrect.reconstruct_maggies(coeffs, redshift=0.)"
   ]
  },
  {
   "cell_type": "code",
   "execution_count": 29,
   "metadata": {
    "collapsed": false
   },
   "outputs": [
    {
     "data": {
      "text/plain": [
       "array([ -3.17973830e-01,  -2.27918401e-01,  -1.61477383e-01,\n",
       "         1.88272024e-04,  -9.79175512e-02])"
      ]
     },
     "execution_count": 29,
     "metadata": {},
     "output_type": "execute_result"
    }
   ],
   "source": [
    "-2.5*np.log10(rm[1:]/rm0[1:]).astype(float)"
   ]
  },
  {
   "cell_type": "code",
   "execution_count": 41,
   "metadata": {
    "collapsed": true
   },
   "outputs": [],
   "source": [
    "kcorrect.load_filters??"
   ]
  },
  {
   "cell_type": "code",
   "execution_count": null,
   "metadata": {
    "collapsed": true
   },
   "outputs": [],
   "source": []
  },
  {
   "cell_type": "markdown",
   "metadata": {},
   "source": [
    "# Appendix/consistency checks"
   ]
  },
  {
   "cell_type": "markdown",
   "metadata": {},
   "source": [
    "## Is the difference between vdist and z significant enough to worry about? "
   ]
  },
  {
   "cell_type": "code",
   "execution_count": 113,
   "metadata": {
    "collapsed": false
   },
   "outputs": [
    {
     "data": {
      "image/png": "[encoded data removed]",
      "text/plain": [
       "<matplotlib.figure.Figure at 0x17b124850>"
      ]
     },
     "metadata": {},
     "output_type": "display_data"
    }
   ],
   "source": [
    "z = (u.Quantity(submaster['vhelio'])/cnst.c).decompose()\n",
    "dmz = Distance(cosmology.WMAP9.luminosity_distance(z), allow_negative=True).distmod\n",
    "dmd = Distance(submaster['distance']).distmod\n",
    "dd = dmd - dmz\n",
    "\n",
    "ahist(dd[np.isfinite(dd)], bins='knuth', histtype='step', range=(-.0003, .001))\n",
    "plt.xlabel('$DM_{dist} - DM_{vhelio}$')\n",
    "plt.tight_layout()"
   ]
  },
  {
   "cell_type": "markdown",
   "metadata": {},
   "source": [
    "Looks like totally-ignorable"
   ]
  },
  {
   "cell_type": "markdown",
   "metadata": {},
   "source": [
    "##  Checking assumptions about extintion"
   ]
  },
  {
   "cell_type": "code",
   "execution_count": 120,
   "metadata": {
    "collapsed": true
   },
   "outputs": [],
   "source": [
    "# bands here are ugrizJHK\n",
    "\n",
    "# these are Rx = Ax/E(B-V) for R_V~=3.1\n",
    "sfd_Rx = np.array([5.155,3.793,2.751,2.086,1.479,0.902,0.576,0.367])\n",
    "sandf_Rx = np.array([4.239, 3.303, 2.285, 1.698, 1.263, 0.709, 0.449,0.302])"
   ]
  },
  {
   "cell_type": "code",
   "execution_count": 131,
   "metadata": {
    "collapsed": false
   },
   "outputs": [
    {
     "data": {
      "text/plain": [
       "array([[ 0.05472223,  0.05472223,  0.05472223,  0.05472223,  0.05472223],\n",
       "       [ 0.0521579 ,  0.05215789,  0.05215789,  0.05215789,  0.05215789],\n",
       "       [ 0.08770286,  0.08770285,  0.08770285,  0.08770286,  0.08770285],\n",
       "       ..., \n",
       "       [ 0.05120614,  0.05120613,  0.05120613,  0.05120613,  0.05120613],\n",
       "       [ 0.06441259,  0.06441259,  0.06441258,  0.06441258,  0.06441259],\n",
       "       [ 0.03289034,  0.03289033,  0.03289033,  0.03289033,  0.03289033]])"
      ]
     },
     "execution_count": 131,
     "metadata": {},
     "output_type": "execute_result"
    }
   ],
   "source": [
    "np.array(nsa['EXTINCTION'])[:,-5:]/sfd_Rx[:5]"
   ]
  },
  {
   "cell_type": "markdown",
   "metadata": {
    "collapsed": true
   },
   "source": [
    "Looks like that's a consistent way to get E(B-V)"
   ]
  }
 ],
 "metadata": {
  "anaconda-cloud": {},
  "kernelspec": {
   "display_name": "Python [default]",
   "language": "python",
   "name": "python2"
  },
  "language_info": {
   "codemirror_mode": {
    "name": "ipython",
    "version": 2
   },
   "file_extension": ".py",
   "mimetype": "text/x-python",
   "name": "python",
   "nbconvert_exporter": "python",
   "pygments_lexer": "ipython2",
   "version": "2.7.12"
  }
 },
 "nbformat": 4,
 "nbformat_minor": 0
}
