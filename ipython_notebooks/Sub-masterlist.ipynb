{
 "cells": [
  {
   "cell_type": "markdown",
   "metadata": {},
   "source": [
    "This notebook is for re-computing a subset of the master list that is in the NSA footprint, including K-corrections"
   ]
  },
  {
   "cell_type": "code",
   "execution_count": 1,
   "metadata": {
    "collapsed": true
   },
   "outputs": [],
   "source": [
    "# This changes the current directory to the base saga directory - make sure to run this first!\n",
    "# This is necessary to be able to import the py files and use the right directories,\n",
    "# while keeping all the notebooks in their own directory.\n",
    "import os\n",
    "import sys\n",
    "import tempfile\n",
    "\n",
    "if 'saga_base_dir' not in locals():\n",
    "    saga_base_dir = os.path.abspath('..')\n",
    "\n",
    "if saga_base_dir not in sys.path:\n",
    "    os.chdir(saga_base_dir)"
   ]
  },
  {
   "cell_type": "code",
   "execution_count": 2,
   "metadata": {
    "collapsed": true
   },
   "outputs": [],
   "source": [
    "from __future__ import print_function, division\n",
    "\n",
    "from collections import Counter, OrderedDict\n",
    "\n",
    "import numpy as np\n",
    "\n",
    "from astropy import units as u\n",
    "from astropy.coordinates import *\n",
    "from astropy import table, cosmology, constants as cnst\n",
    "from astropy.visualization import hist as ahist\n",
    "\n",
    "#SAGA imports\n",
    "import hosts\n",
    "import targeting\n",
    "import kcorrect\n",
    "from masterlist import masterlist as masterlist_module"
   ]
  },
  {
   "cell_type": "code",
   "execution_count": 3,
   "metadata": {
    "collapsed": true
   },
   "outputs": [],
   "source": [
    "%matplotlib inline\n",
    "from matplotlib import style, pyplot as plt\n",
    "from mpl_toolkits.mplot3d import Axes3D\n",
    "\n",
    "plt.rcParams['image.cmap'] = 'viridis'\n",
    "plt.rcParams['image.origin'] = 'lower'\n",
    "plt.rcParams['axes.prop_cycle'] = style.library['seaborn-deep']['axes.prop_cycle']\n",
    "plt.rcParams['figure.figsize'] = (14, 8)\n",
    "plt.rcParams['axes.titlesize'] =  plt.rcParams['axes.labelsize'] = 16\n",
    "plt.rcParams['xtick.labelsize'] =  plt.rcParams['ytick.labelsize'] = 14"
   ]
  },
  {
   "cell_type": "markdown",
   "metadata": {},
   "source": [
    "# Preliminaries/definitions "
   ]
  },
  {
   "cell_type": "code",
   "execution_count": 4,
   "metadata": {
    "collapsed": true
   },
   "outputs": [],
   "source": [
    "# bands used here ugrizJHK\n",
    "# these are Rx = Ax/E(B-V) for R_V~=3.1\n",
    "\n",
    "# SFD 98 values \n",
    "sfd_Rx = np.array([5.155,3.793,2.751,2.086,1.479,0.902,0.576,0.367])\n",
    "\n",
    "# Schlafly & FInkbeiner 2011\n",
    "sandf_Rx = np.array([4.239, 3.303, 2.285, 1.698, 1.263, 0.709, 0.449,0.302])\n",
    "\n",
    "#from Yuan+ 13 : https://arxiv.org/abs/1301.1427v1\n",
    "yuan_FN_Rx = np.array([4.89, 7.24])"
   ]
  },
  {
   "cell_type": "code",
   "execution_count": 5,
   "metadata": {
    "collapsed": true
   },
   "outputs": [],
   "source": [
    "A_MAG = 2.5/np.log(10)\n",
    "def flux_ivar_to_mag(flux, ivar):\n",
    "    mag = -2.5 * np.log10(flux)\n",
    "    \n",
    "    sd = ivar**-0.5\n",
    "    mag_err = A_MAG * sd/flux\n",
    "    \n",
    "    return mag, mag_err\n",
    "\n",
    "def mag_err_to_maggies(mag, mag_err):\n",
    "    flux = 10**(mag/-2.5)\n",
    "    flux_err_sd = mag_err * flux/A_MAG\n",
    "    \n",
    "    return flux, flux_err_sd**-2"
   ]
  },
  {
   "cell_type": "markdown",
   "metadata": {},
   "source": [
    "##  Set up the K-correction machinery"
   ]
  },
  {
   "cell_type": "code",
   "execution_count": 6,
   "metadata": {
    "collapsed": false
   },
   "outputs": [],
   "source": [
    "kcorrect.load_templates()\n",
    "\n",
    "def load_filters_by_name(bandnmfns, band_shift=0.0, verbose=False):\n",
    "    with tempfile.NamedTemporaryFile() as ntf:\n",
    "        ntf.write('KCORRECT_DIR\\n')\n",
    "        for bandnm in bandnmfns:\n",
    "            fn = 'data/filters/{}'.format(bandnm)\n",
    "            truefn = os.path.join(os.environ['KCORRECT_DIR'], fn)\n",
    "            if not os.path.isfile(truefn):\n",
    "                raise IOError('Filter file {} does not exist'.format(truefn))\n",
    "            ntf.write(fn)\n",
    "            ntf.write('\\n')\n",
    "\n",
    "        ntf.seek(0)\n",
    "        if verbose:\n",
    "            !cat $ntf.name\n",
    "        kcorrect.load_filters(ntf.name, band_shift)"
   ]
  },
  {
   "cell_type": "code",
   "execution_count": 7,
   "metadata": {
    "collapsed": false
   },
   "outputs": [],
   "source": [
    "# used way below when actually computing k-corrections\n",
    "FNugrizJHK_filters = ['galex_{}UV.par'.format(bandnm) for bandnm in 'FN']\n",
    "FNugrizJHK_filters.extend(['sdss_{}0.par'.format(bandnm) for bandnm in 'ugriz'])\n",
    "FNugrizJHK_filters.extend(['twomass_{}.par'.format(bandnm) for bandnm in ('J','H','Ks')])"
   ]
  },
  {
   "cell_type": "code",
   "execution_count": 8,
   "metadata": {
    "collapsed": true
   },
   "outputs": [],
   "source": [
    "def do_kcorrs(maggies, maggie_ivars, redshifts, filternames, band_shift_to=None):\n",
    "    \n",
    "    if filternames is not None:\n",
    "        load_filters_by_name(filternames)\n",
    "    \n",
    "    if np.isscalar(redshifts):\n",
    "        maggies = [maggies]\n",
    "        maggie_ivars = [maggie_ivars]\n",
    "        redshifts = [redshifts]\n",
    "    if len(maggies) != len(maggie_ivars) or len(maggies) != len(redshifts):\n",
    "        raise ValueError('maggies, maggie_ivars, and redshifts must all be matching length')\n",
    "        \n",
    "    coeffs = []\n",
    "    rms = []\n",
    "    rm0s = []\n",
    "    \n",
    "    for m, mi, z in zip(maggies, maggie_ivars, redshifts):\n",
    "        coeffs.append(kcorrect.fit_nonneg(z, m, mi))\n",
    "        rms.append(kcorrect.reconstruct_maggies(coeffs[-1]))\n",
    "        \n",
    "    if band_shift_to:\n",
    "        load_filters_by_name(filternames, band_shift=band_shift_to)\n",
    "        \n",
    "    for coeff in coeffs:\n",
    "        rm0s.append(kcorrect.reconstruct_maggies(coeff, redshift=0.))\n",
    "        \n",
    "    flux_kcorr = np.array(rms)[:, 1:]/np.array(rm0s)[:, 1:]\n",
    "    mag_kcorr = -2.5*np.log10(flux_kcorr)\n",
    "    return mag_kcorr, flux_kcorr"
   ]
  },
  {
   "cell_type": "markdown",
   "metadata": {},
   "source": [
    "# Load masterlist and associated bits "
   ]
  },
  {
   "cell_type": "code",
   "execution_count": 9,
   "metadata": {
    "collapsed": false
   },
   "outputs": [],
   "source": [
    "# this is for the masterlist from dropbox\n",
    "\n",
    "# masterlist = table.Table.read('SAGADropbox/hosts/masterlist.csv', data_start=2)\n",
    "\n",
    "# units = table.Table.read('SAGADropbox/hosts/masterlist.csv', data_end=2)\n",
    "# for c in masterlist.colnames:\n",
    "#     masterlist[c].unit = units[c][0].replace('#', '').replace('degrees', 'degree')\n",
    "\n",
    "    \n",
    "# masterlist"
   ]
  },
  {
   "cell_type": "code",
   "execution_count": 10,
   "metadata": {
    "collapsed": false
   },
   "outputs": [
    {
     "data": {
      "text/html": [
       "&lt;Table masked=True length=18161&gt;\n",
       "<table id=\"table5201455504\" class=\"table-striped table-bordered table-condensed\">\n",
       "<thead><tr><th>RA</th><th>Dec</th><th>PGC#</th><th>NSAID</th><th>othername</th><th>vhelio</th><th>vhelio_err</th><th>distance</th><th>r</th><th>i</th><th>z</th><th>I</th><th>K</th></tr></thead>\n",
       "<thead><tr><th>deg</th><th>deg</th><th></th><th></th><th>string</th><th>km / s</th><th>km / s</th><th>Mpc</th><th>mag</th><th>mag</th><th>mag</th><th>mag</th><th>mag</th></tr></thead>\n",
       "<thead><tr><th>float64</th><th>float64</th><th>int64</th><th>int64</th><th>str28</th><th>float64</th><th>float64</th><th>float64</th><th>float64</th><th>float64</th><th>float64</th><th>float64</th><th>float64</th></tr></thead>\n",
       "<tr><td>155.411800699</td><td>0.900255164384</td><td>--</td><td>464</td><td>--</td><td>700.781494141</td><td>--</td><td>12.9443502426</td><td>17.840913133</td><td>17.8592532438</td><td>17.9387725156</td><td>--</td><td>--</td></tr>\n",
       "<tr><td>168.044331058</td><td>-0.979240347779</td><td>--</td><td>858</td><td>--</td><td>3976.91381836</td><td>--</td><td>62.2746047974</td><td>16.1102515712</td><td>16.0128928676</td><td>15.9054061427</td><td>--</td><td>13.32</td></tr>\n",
       "<tr><td>167.573676285</td><td>-0.263963231217</td><td>--</td><td>878</td><td>--</td><td>3859.34301758</td><td>--</td><td>59.6892051697</td><td>18.3784213542</td><td>18.2978530406</td><td>18.1733050822</td><td>--</td><td>13.476</td></tr>\n",
       "<tr><td>176.53220815</td><td>-0.457941560233</td><td>--</td><td>1189</td><td>--</td><td>3915.22314453</td><td>--</td><td>61.1299934387</td><td>17.6042816183</td><td>17.49819298</td><td>17.3905078909</td><td>--</td><td>13.562</td></tr>\n",
       "<tr><td>175.827885017</td><td>0.212515965092</td><td>--</td><td>1212</td><td>--</td><td>63.835975647</td><td>--</td><td>2.15789842606</td><td>13.2552742387</td><td>13.1355556871</td><td>12.8214039231</td><td>--</td><td>--</td></tr>\n",
       "<tr><td>185.86139022</td><td>-0.411951305215</td><td>--</td><td>1398</td><td>--</td><td>-35.2995071411</td><td>--</td><td>1.56168830395</td><td>16.7008180487</td><td>16.6945266592</td><td>16.7462901938</td><td>--</td><td>--</td></tr>\n",
       "<tr><td>188.117462781</td><td>0.388846619893</td><td>--</td><td>1498</td><td>--</td><td>1514.17663574</td><td>--</td><td>23.8685760498</td><td>13.1889792025</td><td>12.9452524721</td><td>12.936596924</td><td>--</td><td>--</td></tr>\n",
       "<tr><td>189.18629219</td><td>0.563405647876</td><td>--</td><td>1539</td><td>--</td><td>3739.31225586</td><td>--</td><td>60.0032844543</td><td>18.3082506816</td><td>18.2208168666</td><td>18.1446879069</td><td>--</td><td>--</td></tr>\n",
       "<tr><td>189.127827282</td><td>0.22202937172</td><td>--</td><td>1540</td><td>--</td><td>3724.88232422</td><td>--</td><td>59.7492828369</td><td>16.2397681902</td><td>16.1614391039</td><td>16.0785190294</td><td>--</td><td>--</td></tr>\n",
       "<tr><td>...</td><td>...</td><td>...</td><td>...</td><td>...</td><td>...</td><td>...</td><td>...</td><td>...</td><td>...</td><td>...</td><td>...</td><td>...</td></tr>\n",
       "<tr><td>338.8252917</td><td>-45.5136667</td><td>--</td><td>--</td><td>g2235181-453048</td><td>3020.10922189</td><td>--</td><td>43.9110241265</td><td>--</td><td>--</td><td>--</td><td>--</td><td>12.596</td></tr>\n",
       "<tr><td>338.7727917</td><td>-46.4604722</td><td>--</td><td>--</td><td>g2235056-462738</td><td>936.551638792</td><td>--</td><td>13.5436535358</td><td>--</td><td>--</td><td>--</td><td>--</td><td>13.413</td></tr>\n",
       "<tr><td>336.2564167</td><td>-51.79575</td><td>--</td><td>--</td><td>g2225015-514745</td><td>1905.78065551</td><td>--</td><td>27.6294136391</td><td>--</td><td>--</td><td>--</td><td>--</td><td>12.343</td></tr>\n",
       "<tr><td>345.6082917</td><td>-50.0628889</td><td>--</td><td>--</td><td>g2302259-500346</td><td>3674.25636525</td><td>--</td><td>53.5121354687</td><td>--</td><td>--</td><td>--</td><td>--</td><td>--</td></tr>\n",
       "<tr><td>343.6907083</td><td>-49.8007222</td><td>--</td><td>--</td><td>g2254457-494802</td><td>3757.59866857</td><td>--</td><td>54.7376695699</td><td>--</td><td>--</td><td>--</td><td>--</td><td>12.217</td></tr>\n",
       "<tr><td>347.8368333</td><td>-43.4229444</td><td>--</td><td>--</td><td>g2311207-432523</td><td>1558.9207816</td><td>--</td><td>22.580401005</td><td>--</td><td>--</td><td>--</td><td>--</td><td>12.992</td></tr>\n",
       "<tr><td>336.8646667</td><td>-42.9764444</td><td>--</td><td>--</td><td>g2227276-425834</td><td>3137.92765789</td><td>--</td><td>45.6379196917</td><td>--</td><td>--</td><td>--</td><td>--</td><td>--</td></tr>\n",
       "<tr><td>339.1618333</td><td>-43.03375</td><td>--</td><td>--</td><td>g2236389-430201</td><td>2737.10514154</td><td>--</td><td>39.7672014637</td><td>--</td><td>--</td><td>--</td><td>--</td><td>--</td></tr>\n",
       "<tr><td>255.6157083</td><td>-24.36075</td><td>--</td><td>--</td><td>g1702281-242135</td><td>25.6241787502</td><td>--</td><td>0.369675390547</td><td>--</td><td>--</td><td>--</td><td>--</td><td>12.397</td></tr>\n",
       "<tr><td>256.3733333</td><td>-21.7145</td><td>--</td><td>--</td><td>g1705296-214252</td><td>27.7952577435</td><td>--</td><td>0.400999433819</td><td>--</td><td>--</td><td>--</td><td>--</td><td>12.647</td></tr>\n",
       "</table>"
      ],
      "text/plain": [
       "<Table masked=True length=18161>\n",
       "      RA            Dec        PGC# NSAID ...       z          I       K   \n",
       "     deg            deg                   ...      mag        mag     mag  \n",
       "   float64        float64     int64 int64 ...    float64    float64 float64\n",
       "------------- --------------- ----- ----- ... ------------- ------- -------\n",
       "155.411800699  0.900255164384    --   464 ... 17.9387725156      --      --\n",
       "168.044331058 -0.979240347779    --   858 ... 15.9054061427      --   13.32\n",
       "167.573676285 -0.263963231217    --   878 ... 18.1733050822      --  13.476\n",
       " 176.53220815 -0.457941560233    --  1189 ... 17.3905078909      --  13.562\n",
       "175.827885017  0.212515965092    --  1212 ... 12.8214039231      --      --\n",
       " 185.86139022 -0.411951305215    --  1398 ... 16.7462901938      --      --\n",
       "188.117462781  0.388846619893    --  1498 ...  12.936596924      --      --\n",
       " 189.18629219  0.563405647876    --  1539 ... 18.1446879069      --      --\n",
       "189.127827282   0.22202937172    --  1540 ... 16.0785190294      --      --\n",
       "          ...             ...   ...   ... ...           ...     ...     ...\n",
       "  338.8252917     -45.5136667    --    -- ...            --      --  12.596\n",
       "  338.7727917     -46.4604722    --    -- ...            --      --  13.413\n",
       "  336.2564167       -51.79575    --    -- ...            --      --  12.343\n",
       "  345.6082917     -50.0628889    --    -- ...            --      --      --\n",
       "  343.6907083     -49.8007222    --    -- ...            --      --  12.217\n",
       "  347.8368333     -43.4229444    --    -- ...            --      --  12.992\n",
       "  336.8646667     -42.9764444    --    -- ...            --      --      --\n",
       "  339.1618333       -43.03375    --    -- ...            --      --      --\n",
       "  255.6157083       -24.36075    --    -- ...            --      --  12.397\n",
       "  256.3733333        -21.7145    --    -- ...            --      --  12.647"
      ]
     },
     "execution_count": 10,
     "metadata": {},
     "output_type": "execute_result"
    }
   ],
   "source": [
    "# uncomment this to load the \"old\" masterlist but make it look like the new one\n",
    "masterlist = table.Table.read('masterlist/masterlist.csv', data_start=2)\n",
    "\n",
    "units = table.Table.read('SAGADropbox/hosts/masterlist.csv', data_end=2)\n",
    "for c in masterlist.colnames:\n",
    "    if c in units.colnames:\n",
    "        masterlist[c].unit = units[c][0].replace('#', '').replace('degrees', 'degree')\n",
    "    else:\n",
    "        del masterlist[c]\n",
    "        \n",
    "vhe_col = np.zeros_like(masterlist['vhelio'])\n",
    "vhe_col.name = 'vhelio_err'\n",
    "vhe_col.mask[:] = True\n",
    "masterlist.add_column(vhe_col, masterlist.colnames.index('vhelio')+1)\n",
    "masterlist"
   ]
  },
  {
   "cell_type": "code",
   "execution_count": 11,
   "metadata": {
    "collapsed": false
   },
   "outputs": [],
   "source": [
    "nsa = table.Table(hosts.get_nsa())"
   ]
  },
  {
   "cell_type": "code",
   "execution_count": 12,
   "metadata": {
    "collapsed": false
   },
   "outputs": [],
   "source": [
    "#for NSA we have this round-about but simple way to get E(B-V) so we can get the S&F extinction\n",
    "# See end of the notebook for proof that it works\n",
    "\n",
    "nsa['E(B-V)'] = np.mean(np.array(nsa['EXTINCTION'])[:,-5:]/sfd_Rx[:5], axis=1)"
   ]
  },
  {
   "cell_type": "code",
   "execution_count": 13,
   "metadata": {
    "collapsed": false
   },
   "outputs": [
    {
     "data": {
      "text/html": [
       "&lt;Table masked=True length=1646844&gt;\n",
       "<table id=\"table4332839696\" class=\"table-striped table-bordered table-condensed\">\n",
       "<thead><tr><th>ra</th><th>dec</th><th>r_k20fe</th><th>j_m_k20fe</th><th>j_msig_k20fe</th><th>j_flg_k20fe</th><th>h_m_k20fe</th><th>h_msig_k20fe</th><th>h_flg_k20fe</th><th>k_m_k20fe</th><th>k_msig_k20fe</th><th>k_flg_k20fe</th><th>k_ba</th><th>k_phi</th><th>j_m_ext</th><th>j_msig_ext</th><th>h_m_ext</th><th>h_msig_ext</th><th>k_m_ext</th><th>k_msig_ext</th><th>cc_flg</th></tr></thead>\n",
       "<thead><tr><th>float64</th><th>float64</th><th>float64</th><th>float64</th><th>float64</th><th>int64</th><th>float64</th><th>float64</th><th>int64</th><th>float64</th><th>float64</th><th>int64</th><th>float64</th><th>int64</th><th>float64</th><th>float64</th><th>float64</th><th>float64</th><th>float64</th><th>float64</th><th>str1</th></tr></thead>\n",
       "<tr><td>161.902771</td><td>-1.185182</td><td>5.0</td><td>15.124</td><td>0.109</td><td>0</td><td>14.316</td><td>0.135</td><td>0</td><td>13.875</td><td>0.156</td><td>0</td><td>1.0</td><td>90</td><td>14.97</td><td>0.184</td><td>13.99</td><td>0.191</td><td>13.612</td><td>0.232</td><td>0</td></tr>\n",
       "<tr><td>176.174164</td><td>24.901585</td><td>5.0</td><td>15.508</td><td>0.102</td><td>0</td><td>14.799</td><td>0.129</td><td>0</td><td>14.446</td><td>0.16</td><td>0</td><td>1.0</td><td>90</td><td>15.294</td><td>0.148</td><td>14.514</td><td>0.175</td><td>14.169</td><td>0.221</td><td>0</td></tr>\n",
       "<tr><td>122.197197</td><td>-10.182686</td><td>5.0</td><td>15.573</td><td>0.138</td><td>0</td><td>--</td><td>--</td><td>--</td><td>14.198</td><td>0.19</td><td>0</td><td>1.0</td><td>90</td><td>15.298</td><td>0.197</td><td>14.979</td><td>0.0</td><td>13.986</td><td>0.291</td><td>0</td></tr>\n",
       "<tr><td>67.092613</td><td>-39.653427</td><td>11.4</td><td>12.963</td><td>0.036</td><td>0</td><td>12.239</td><td>0.041</td><td>0</td><td>11.907</td><td>0.073</td><td>0</td><td>0.6</td><td>-40</td><td>12.775</td><td>0.041</td><td>12.136</td><td>0.047</td><td>11.844</td><td>0.079</td><td>0</td></tr>\n",
       "<tr><td>58.178047</td><td>-48.642609</td><td>6.3</td><td>14.377</td><td>0.067</td><td>3</td><td>13.58</td><td>0.072</td><td>3</td><td>12.98</td><td>0.079</td><td>3</td><td>0.9</td><td>25</td><td>14.0</td><td>0.082</td><td>13.274</td><td>0.099</td><td>12.856</td><td>0.117</td><td>0</td></tr>\n",
       "<tr><td>321.14444</td><td>-47.238235</td><td>6.4</td><td>14.754</td><td>0.095</td><td>0</td><td>13.984</td><td>0.112</td><td>0</td><td>13.49</td><td>0.105</td><td>0</td><td>1.0</td><td>90</td><td>14.476</td><td>0.132</td><td>13.606</td><td>0.149</td><td>13.304</td><td>0.168</td><td>0</td></tr>\n",
       "<tr><td>73.605751</td><td>-22.839722</td><td>8.4</td><td>15.203</td><td>0.126</td><td>0</td><td>14.523</td><td>0.145</td><td>0</td><td>13.616</td><td>0.127</td><td>0</td><td>0.5</td><td>-55</td><td>15.014</td><td>0.189</td><td>14.385</td><td>0.23</td><td>13.241</td><td>0.167</td><td>0</td></tr>\n",
       "<tr><td>163.984375</td><td>51.758099</td><td>5.0</td><td>15.346</td><td>0.096</td><td>0</td><td>14.75</td><td>0.153</td><td>0</td><td>14.043</td><td>0.118</td><td>0</td><td>1.0</td><td>90</td><td>15.114</td><td>0.14</td><td>14.727</td><td>0.278</td><td>13.788</td><td>0.172</td><td>0</td></tr>\n",
       "<tr><td>312.112518</td><td>-65.092072</td><td>8.5</td><td>15.003</td><td>0.091</td><td>1</td><td>14.277</td><td>0.108</td><td>3</td><td>13.707</td><td>0.111</td><td>3</td><td>0.4</td><td>-35</td><td>14.922</td><td>0.164</td><td>14.077</td><td>0.162</td><td>13.261</td><td>0.133</td><td>0</td></tr>\n",
       "<tr><td>266.161621</td><td>-58.279842</td><td>6.6</td><td>14.861</td><td>0.103</td><td>2</td><td>14.198</td><td>0.116</td><td>2</td><td>13.883</td><td>0.143</td><td>2</td><td>0.6</td><td>75</td><td>14.704</td><td>0.159</td><td>14.031</td><td>0.181</td><td>13.66</td><td>0.211</td><td>0</td></tr>\n",
       "<tr><td>...</td><td>...</td><td>...</td><td>...</td><td>...</td><td>...</td><td>...</td><td>...</td><td>...</td><td>...</td><td>...</td><td>...</td><td>...</td><td>...</td><td>...</td><td>...</td><td>...</td><td>...</td><td>...</td><td>...</td><td>...</td></tr>\n",
       "<tr><td>205.393341</td><td>30.413105</td><td>5.0</td><td>15.671</td><td>0.121</td><td>3</td><td>14.719</td><td>0.119</td><td>3</td><td>14.225</td><td>0.132</td><td>3</td><td>1.0</td><td>90</td><td>15.51</td><td>0.196</td><td>14.698</td><td>0.215</td><td>14.118</td><td>0.223</td><td>0</td></tr>\n",
       "<tr><td>254.751343</td><td>-9.525323</td><td>5.2</td><td>15.058</td><td>0.081</td><td>0</td><td>14.235</td><td>0.075</td><td>0</td><td>13.947</td><td>0.12</td><td>0</td><td>0.7</td><td>80</td><td>14.871</td><td>0.132</td><td>14.21</td><td>0.132</td><td>13.892</td><td>0.214</td><td>0</td></tr>\n",
       "<tr><td>171.491257</td><td>10.386036</td><td>6.0</td><td>14.394</td><td>0.064</td><td>0</td><td>13.597</td><td>0.061</td><td>0</td><td>13.348</td><td>0.1</td><td>0</td><td>0.8</td><td>-20</td><td>14.179</td><td>0.086</td><td>13.454</td><td>0.092</td><td>13.214</td><td>0.154</td><td>0</td></tr>\n",
       "<tr><td>73.760513</td><td>-9.518617</td><td>5.4</td><td>15.968</td><td>0.135</td><td>0</td><td>--</td><td>--</td><td>--</td><td>14.554</td><td>0.171</td><td>0</td><td>0.5</td><td>-30</td><td>15.436</td><td>0.155</td><td>15.089</td><td>0.0</td><td>14.394</td><td>0.31</td><td>0</td></tr>\n",
       "<tr><td>227.051727</td><td>17.991745</td><td>9.5</td><td>13.99</td><td>0.052</td><td>0</td><td>13.254</td><td>0.053</td><td>0</td><td>12.82</td><td>0.084</td><td>0</td><td>0.7</td><td>-20</td><td>13.923</td><td>0.079</td><td>12.994</td><td>0.067</td><td>12.626</td><td>0.105</td><td>0</td></tr>\n",
       "<tr><td>249.715668</td><td>57.095776</td><td>5.3</td><td>14.719</td><td>0.059</td><td>0</td><td>14.118</td><td>0.075</td><td>0</td><td>13.732</td><td>0.094</td><td>0</td><td>0.8</td><td>-80</td><td>14.442</td><td>0.076</td><td>13.786</td><td>0.098</td><td>13.595</td><td>0.145</td><td>0</td></tr>\n",
       "<tr><td>106.574936</td><td>20.80121</td><td>5.8</td><td>14.821</td><td>0.062</td><td>0</td><td>14.055</td><td>0.075</td><td>0</td><td>13.906</td><td>0.101</td><td>0</td><td>0.7</td><td>0</td><td>14.619</td><td>0.091</td><td>13.786</td><td>0.106</td><td>13.662</td><td>0.149</td><td>0</td></tr>\n",
       "<tr><td>115.484016</td><td>57.354275</td><td>5.0</td><td>15.587</td><td>0.124</td><td>0</td><td>--</td><td>--</td><td>--</td><td>14.153</td><td>0.123</td><td>0</td><td>1.0</td><td>90</td><td>15.573</td><td>0.228</td><td>14.958</td><td>0.0</td><td>14.083</td><td>0.213</td><td>0</td></tr>\n",
       "<tr><td>19.176586</td><td>40.493477</td><td>5.0</td><td>15.318</td><td>0.095</td><td>0</td><td>14.678</td><td>0.128</td><td>0</td><td>14.113</td><td>0.13</td><td>0</td><td>1.0</td><td>90</td><td>15.1</td><td>0.184</td><td>14.372</td><td>0.181</td><td>14.07</td><td>0.23</td><td>0</td></tr>\n",
       "<tr><td>300.324829</td><td>-55.983601</td><td>5.0</td><td>14.86</td><td>0.102</td><td>3</td><td>14.063</td><td>0.105</td><td>3</td><td>13.904</td><td>0.152</td><td>3</td><td>1.0</td><td>90</td><td>14.765</td><td>0.171</td><td>14.018</td><td>0.185</td><td>13.904</td><td>0.152</td><td>0</td></tr>\n",
       "</table>"
      ],
      "text/plain": [
       "<Table masked=True length=1646844>\n",
       "    ra        dec     r_k20fe j_m_k20fe ... h_msig_ext k_m_ext k_msig_ext cc_flg\n",
       " float64    float64   float64  float64  ...  float64   float64  float64    str1 \n",
       "---------- ---------- ------- --------- ... ---------- ------- ---------- ------\n",
       "161.902771  -1.185182     5.0    15.124 ...      0.191  13.612      0.232      0\n",
       "176.174164  24.901585     5.0    15.508 ...      0.175  14.169      0.221      0\n",
       "122.197197 -10.182686     5.0    15.573 ...        0.0  13.986      0.291      0\n",
       " 67.092613 -39.653427    11.4    12.963 ...      0.047  11.844      0.079      0\n",
       " 58.178047 -48.642609     6.3    14.377 ...      0.099  12.856      0.117      0\n",
       " 321.14444 -47.238235     6.4    14.754 ...      0.149  13.304      0.168      0\n",
       " 73.605751 -22.839722     8.4    15.203 ...       0.23  13.241      0.167      0\n",
       "163.984375  51.758099     5.0    15.346 ...      0.278  13.788      0.172      0\n",
       "312.112518 -65.092072     8.5    15.003 ...      0.162  13.261      0.133      0\n",
       "266.161621 -58.279842     6.6    14.861 ...      0.181   13.66      0.211      0\n",
       "       ...        ...     ...       ... ...        ...     ...        ...    ...\n",
       "205.393341  30.413105     5.0    15.671 ...      0.215  14.118      0.223      0\n",
       "254.751343  -9.525323     5.2    15.058 ...      0.132  13.892      0.214      0\n",
       "171.491257  10.386036     6.0    14.394 ...      0.092  13.214      0.154      0\n",
       " 73.760513  -9.518617     5.4    15.968 ...        0.0  14.394       0.31      0\n",
       "227.051727  17.991745     9.5     13.99 ...      0.067  12.626      0.105      0\n",
       "249.715668  57.095776     5.3    14.719 ...      0.098  13.595      0.145      0\n",
       "106.574936   20.80121     5.8    14.821 ...      0.106  13.662      0.149      0\n",
       "115.484016  57.354275     5.0    15.587 ...        0.0  14.083      0.213      0\n",
       " 19.176586  40.493477     5.0    15.318 ...      0.181   14.07       0.23      0\n",
       "300.324829 -55.983601     5.0     14.86 ...      0.185  13.904      0.152      0"
      ]
     },
     "execution_count": 13,
     "metadata": {},
     "output_type": "execute_result"
    }
   ],
   "source": [
    "twomassxsc = masterlist_module.load_2mass_xsc('masterlist/2mass_xsc_irsa.tab')\n",
    "twomassxsc"
   ]
  },
  {
   "cell_type": "markdown",
   "metadata": {},
   "source": [
    "# Build the sub-master list and add in the relevant photometry "
   ]
  },
  {
   "cell_type": "code",
   "execution_count": 14,
   "metadata": {
    "collapsed": false
   },
   "outputs": [
    {
     "data": {
      "text/html": [
       "&lt;Table masked=True length=9325&gt;\n",
       "<table id=\"table6523270032\" class=\"table-striped table-bordered table-condensed\">\n",
       "<thead><tr><th>RA</th><th>Dec</th><th>NSAID</th><th>othername</th><th>vhelio</th><th>vhelio_err</th><th>distance</th></tr></thead>\n",
       "<thead><tr><th>deg</th><th>deg</th><th></th><th>string</th><th>km / s</th><th>km / s</th><th>Mpc</th></tr></thead>\n",
       "<thead><tr><th>float64</th><th>float64</th><th>int64</th><th>str28</th><th>float64</th><th>float64</th><th>float64</th></tr></thead>\n",
       "<tr><td>155.411800699</td><td>0.900255164384</td><td>464</td><td>--</td><td>700.781494141</td><td>--</td><td>12.9443502426</td></tr>\n",
       "<tr><td>168.044331058</td><td>-0.979240347779</td><td>858</td><td>--</td><td>3976.91381836</td><td>--</td><td>62.2746047974</td></tr>\n",
       "<tr><td>167.573676285</td><td>-0.263963231217</td><td>878</td><td>--</td><td>3859.34301758</td><td>--</td><td>59.6892051697</td></tr>\n",
       "<tr><td>176.53220815</td><td>-0.457941560233</td><td>1189</td><td>--</td><td>3915.22314453</td><td>--</td><td>61.1299934387</td></tr>\n",
       "<tr><td>175.827885017</td><td>0.212515965092</td><td>1212</td><td>--</td><td>63.835975647</td><td>--</td><td>2.15789842606</td></tr>\n",
       "<tr><td>185.86139022</td><td>-0.411951305215</td><td>1398</td><td>--</td><td>-35.2995071411</td><td>--</td><td>1.56168830395</td></tr>\n",
       "<tr><td>188.117462781</td><td>0.388846619893</td><td>1498</td><td>--</td><td>1514.17663574</td><td>--</td><td>23.8685760498</td></tr>\n",
       "<tr><td>189.18629219</td><td>0.563405647876</td><td>1539</td><td>--</td><td>3739.31225586</td><td>--</td><td>60.0032844543</td></tr>\n",
       "<tr><td>189.127827282</td><td>0.22202937172</td><td>1540</td><td>--</td><td>3724.88232422</td><td>--</td><td>59.7492828369</td></tr>\n",
       "<tr><td>...</td><td>...</td><td>...</td><td>...</td><td>...</td><td>...</td><td>...</td></tr>\n",
       "<tr><td>197.621344604</td><td>34.2365738574</td><td>143073</td><td>[MU2012]J1310+34B</td><td>850.001342773</td><td>--</td><td>16.2950172424</td></tr>\n",
       "<tr><td>21.1700705741</td><td>3.85743178299</td><td>129446</td><td>UM102</td><td>2188.00341797</td><td>--</td><td>29.1069145203</td></tr>\n",
       "<tr><td>137.444937432</td><td>33.1429985898</td><td>135710</td><td>PGC5065934</td><td>1970.00305176</td><td>--</td><td>31.2207012177</td></tr>\n",
       "<tr><td>170.59958942</td><td>53.8647827749</td><td>139275</td><td>PGC5065938</td><td>3059.00488281</td><td>--</td><td>44.9665794373</td></tr>\n",
       "<tr><td>209.375005785</td><td>29.0581355972</td><td>144164</td><td>PGC5065939</td><td>2250.00341797</td><td>--</td><td>32.8402786255</td></tr>\n",
       "<tr><td>258.23137297</td><td>72.0666627063</td><td>147813</td><td>PGC5065940</td><td>1307.0020752</td><td>--</td><td>23.3953380585</td></tr>\n",
       "<tr><td>349.704723874</td><td>7.0984132704</td><td>151085</td><td>PGC5065951</td><td>3252.00512695</td><td>--</td><td>45.7964935303</td></tr>\n",
       "<tr><td>349.895159503</td><td>8.76137739156</td><td>151136</td><td>PGC5065952</td><td>3117.00488281</td><td>--</td><td>43.6976165771</td></tr>\n",
       "<tr><td>350.171206428</td><td>8.75078330124</td><td>151187</td><td>PGC5065953</td><td>3029.00463867</td><td>--</td><td>42.3650932312</td></tr>\n",
       "<tr><td>351.47521849</td><td>18.545669686</td><td>151492</td><td>PGC5065954</td><td>1506.00231934</td><td>--</td><td>19.911945343</td></tr>\n",
       "</table>"
      ],
      "text/plain": [
       "<Table masked=True length=9325>\n",
       "      RA            Dec       NSAID  ...     vhelio     vhelio_err    distance  \n",
       "     deg            deg              ...     km / s       km / s        Mpc     \n",
       "   float64        float64     int64  ...    float64      float64      float64   \n",
       "------------- --------------- ------ ... -------------- ---------- -------------\n",
       "155.411800699  0.900255164384    464 ...  700.781494141         -- 12.9443502426\n",
       "168.044331058 -0.979240347779    858 ...  3976.91381836         -- 62.2746047974\n",
       "167.573676285 -0.263963231217    878 ...  3859.34301758         -- 59.6892051697\n",
       " 176.53220815 -0.457941560233   1189 ...  3915.22314453         -- 61.1299934387\n",
       "175.827885017  0.212515965092   1212 ...   63.835975647         -- 2.15789842606\n",
       " 185.86139022 -0.411951305215   1398 ... -35.2995071411         -- 1.56168830395\n",
       "188.117462781  0.388846619893   1498 ...  1514.17663574         -- 23.8685760498\n",
       " 189.18629219  0.563405647876   1539 ...  3739.31225586         -- 60.0032844543\n",
       "189.127827282   0.22202937172   1540 ...  3724.88232422         -- 59.7492828369\n",
       "          ...             ...    ... ...            ...        ...           ...\n",
       "197.621344604   34.2365738574 143073 ...  850.001342773         -- 16.2950172424\n",
       "21.1700705741   3.85743178299 129446 ...  2188.00341797         -- 29.1069145203\n",
       "137.444937432   33.1429985898 135710 ...  1970.00305176         -- 31.2207012177\n",
       " 170.59958942   53.8647827749 139275 ...  3059.00488281         -- 44.9665794373\n",
       "209.375005785   29.0581355972 144164 ...  2250.00341797         -- 32.8402786255\n",
       " 258.23137297   72.0666627063 147813 ...   1307.0020752         -- 23.3953380585\n",
       "349.704723874    7.0984132704 151085 ...  3252.00512695         -- 45.7964935303\n",
       "349.895159503   8.76137739156 151136 ...  3117.00488281         -- 43.6976165771\n",
       "350.171206428   8.75078330124 151187 ...  3029.00463867         -- 42.3650932312\n",
       " 351.47521849    18.545669686 151492 ...  1506.00231934         --  19.911945343"
      ]
     },
     "execution_count": 14,
     "metadata": {},
     "output_type": "execute_result"
    }
   ],
   "source": [
    "colstokeep = ['RA', 'Dec', 'NSAID', 'othername', 'vhelio', 'vhelio_err', 'distance']\n",
    "submaster0 = masterlist[~masterlist['NSAID'].mask][colstokeep]\n",
    "submaster0"
   ]
  },
  {
   "cell_type": "code",
   "execution_count": 15,
   "metadata": {
    "collapsed": false
   },
   "outputs": [
    {
     "name": "stderr",
     "output_type": "stream",
     "text": [
      "/Users/erik/miniconda3/envs/saga/lib/python2.7/site-packages/ipykernel/__main__.py:3: RuntimeWarning: divide by zero encountered in log10\n",
      "  app.launch_new_instance()\n",
      "/Users/erik/miniconda3/envs/saga/lib/python2.7/site-packages/ipykernel/__main__.py:3: RuntimeWarning: invalid value encountered in log10\n",
      "  app.launch_new_instance()\n",
      "/Users/erik/miniconda3/envs/saga/lib/python2.7/site-packages/ipykernel/__main__.py:6: RuntimeWarning: divide by zero encountered in true_divide\n"
     ]
    },
    {
     "data": {
      "text/html": [
       "&lt;Table masked=True length=9325&gt;\n",
       "<table id=\"table5200130704\" class=\"table-striped table-bordered table-condensed\">\n",
       "<thead><tr><th>RA</th><th>Dec</th><th>NSAID</th><th>othername</th><th>vhelio</th><th>vhelio_err</th><th>distance</th><th>E(B-V)</th><th>F_flux</th><th>F_flux_ivar</th><th>NSA_kcorrect_F</th><th>F</th><th>F_err</th><th>N_flux</th><th>N_flux_ivar</th><th>NSA_kcorrect_N</th><th>N</th><th>N_err</th><th>u_flux</th><th>u_flux_ivar</th><th>NSA_kcorrect_u</th><th>u</th><th>u_err</th><th>g_flux</th><th>g_flux_ivar</th><th>NSA_kcorrect_g</th><th>g</th><th>g_err</th><th>r_flux</th><th>r_flux_ivar</th><th>NSA_kcorrect_r</th><th>r</th><th>r_err</th><th>i_flux</th><th>i_flux_ivar</th><th>NSA_kcorrect_i</th><th>i</th><th>i_err</th><th>z_flux</th><th>z_flux_ivar</th><th>NSA_kcorrect_z</th><th>z</th><th>z_err</th></tr></thead>\n",
       "<thead><tr><th>deg</th><th>deg</th><th></th><th>string</th><th>km / s</th><th>km / s</th><th>Mpc</th><th></th><th>maggie</th><th>maggie</th><th></th><th></th><th></th><th>maggie</th><th>maggie</th><th></th><th></th><th></th><th>maggie</th><th>maggie</th><th></th><th></th><th></th><th>maggie</th><th>maggie</th><th></th><th></th><th></th><th>maggie</th><th>maggie</th><th></th><th></th><th></th><th>maggie</th><th>maggie</th><th></th><th></th><th></th><th>maggie</th><th>maggie</th><th></th><th></th><th></th></tr></thead>\n",
       "<thead><tr><th>float64</th><th>float64</th><th>int64</th><th>str28</th><th>float64</th><th>float64</th><th>float64</th><th>float64</th><th>float32</th><th>float32</th><th>float32</th><th>float32</th><th>float32</th><th>float32</th><th>float32</th><th>float32</th><th>float32</th><th>float32</th><th>float32</th><th>float32</th><th>float32</th><th>float32</th><th>float32</th><th>float32</th><th>float32</th><th>float32</th><th>float32</th><th>float32</th><th>float32</th><th>float32</th><th>float32</th><th>float32</th><th>float32</th><th>float32</th><th>float32</th><th>float32</th><th>float32</th><th>float32</th><th>float32</th><th>float32</th><th>float32</th><th>float32</th><th>float32</th></tr></thead>\n",
       "<tr><td>147.176446949</td><td>-0.354030416643</td><td>2</td><td>PGC1145436</td><td>1883.54833984</td><td>--</td><td>29.5901851654</td><td>0.0877028543881</td><td>9.7141e-09</td><td>3.07981e+18</td><td>0.000293507</td><td>20.0315</td><td>0.0636883</td><td>1.46447e-08</td><td>5.0814e+18</td><td>0.00322668</td><td>19.5858</td><td>0.032889</td><td>6.418e-08</td><td>3.19377e+17</td><td>0.0204647</td><td>17.9815</td><td>0.0299346</td><td>1.8737e-07</td><td>1.05967e+18</td><td>0.0043341</td><td>16.8183</td><td>0.00562909</td><td>3.02488e-07</td><td>4.82708e+17</td><td>0.00354034</td><td>16.2982</td><td>0.00516624</td><td>3.81385e-07</td><td>2.2234e+17</td><td>-0.000801596</td><td>16.0466</td><td>0.00603743</td><td>4.27964e-07</td><td>2.09357e+16</td><td>-0.00130408</td><td>15.9215</td><td>0.0175337</td></tr>\n",
       "<tr><td>146.193241319</td><td>-0.689391394961</td><td>6</td><td>PGC1137164</td><td>1223.25012207</td><td>--</td><td>20.8565635681</td><td>0.0636514724703</td><td>3.93608e-08</td><td>8.62594e+17</td><td>-0.00221279</td><td>18.5123</td><td>0.0297</td><td>5.12427e-08</td><td>1.63739e+18</td><td>0.000898001</td><td>18.2259</td><td>0.0165583</td><td>1.55028e-07</td><td>1.08292e+17</td><td>0.0107687</td><td>17.024</td><td>0.0212822</td><td>4.00652e-07</td><td>1.09318e+16</td><td>0.00074526</td><td>15.9931</td><td>0.0259186</td><td>5.23994e-07</td><td>1.52134e+17</td><td>0.00131525</td><td>15.7017</td><td>0.00531233</td><td>6.24827e-07</td><td>7.01852e+16</td><td>-0.00178339</td><td>15.5106</td><td>0.00655906</td><td>6.81238e-07</td><td>6.39879e+15</td><td>-0.00187499</td><td>15.4168</td><td>0.019924</td></tr>\n",
       "<tr><td>146.007801384</td><td>-0.64225922322</td><td>7</td><td>PGC027864</td><td>1431.89880371</td><td>--</td><td>23.6615562439</td><td>0.0630527284911</td><td>2.73263e-07</td><td>1.05155e+17</td><td>-0.00686175</td><td>16.4085</td><td>0.0122526</td><td>3.24842e-07</td><td>2.15838e+17</td><td>-0.00560074</td><td>16.2208</td><td>0.00719428</td><td>5.74697e-07</td><td>1.29828e+17</td><td>0.00241028</td><td>15.6014</td><td>0.00524326</td><td>1.08117e-06</td><td>2.38812e+17</td><td>-0.00601297</td><td>14.9153</td><td>0.00205496</td><td>9.93737e-07</td><td>2.26204e+17</td><td>0.00194088</td><td>15.0068</td><td>0.00229722</td><td>5.41217e-07</td><td>4.53568e+17</td><td>-0.0066505</td><td>15.6666</td><td>0.00297873</td><td>6.29883e-07</td><td>2.47482e+16</td><td>-0.00400293</td><td>15.5019</td><td>0.010957</td></tr>\n",
       "<tr><td>146.619063376</td><td>-0.434345458168</td><td>9</td><td>PGC1143397</td><td>1809.7376709</td><td>--</td><td>28.651517868</td><td>0.106928527026</td><td>2.45369e-08</td><td>1.25217e+18</td><td>-0.000843304</td><td>19.0254</td><td>0.0395432</td><td>4.06546e-08</td><td>2.79773e+18</td><td>0.00329662</td><td>18.4772</td><td>0.0159666</td><td>1.48096e-07</td><td>1.96303e+17</td><td>0.01706</td><td>17.0736</td><td>0.0165469</td><td>4.35641e-07</td><td>5.22774e+17</td><td>0.00292183</td><td>15.9022</td><td>0.00344698</td><td>6.74417e-07</td><td>2.94652e+17</td><td>0.00251721</td><td>15.4277</td><td>0.0029658</td><td>8.3668e-07</td><td>2.40224e+17</td><td>-0.00142272</td><td>15.1936</td><td>0.00264763</td><td>1.00119e-06</td><td>1.07042e+16</td><td>-0.00189742</td><td>14.9987</td><td>0.0104817</td></tr>\n",
       "<tr><td>145.320962664</td><td>0.771102651396</td><td>30</td><td>PGC1175027</td><td>1975.47937012</td><td>--</td><td>30.8803977966</td><td>0.114671165201</td><td>5.43166e-09</td><td>9.08762e+18</td><td>-0.000314172</td><td>20.6627</td><td>0.0663081</td><td>7.6787e-09</td><td>2.25418e+19</td><td>0.00289188</td><td>20.2868</td><td>0.0297812</td><td>3.19299e-08</td><td>1.44307e+18</td><td>0.0207045</td><td>18.7395</td><td>0.0283063</td><td>9.06743e-08</td><td>3.4354e+18</td><td>0.00224096</td><td>17.6063</td><td>0.00646028</td><td>1.36714e-07</td><td>1.78682e+18</td><td>0.0032321</td><td>17.1605</td><td>0.00594115</td><td>1.65712e-07</td><td>8.25998e+17</td><td>-0.00267745</td><td>16.9516</td><td>0.00720908</td><td>1.94639e-07</td><td>1.05222e+17</td><td>-0.00265435</td><td>16.7769</td><td>0.0171965</td></tr>\n",
       "<tr><td>145.513690377</td><td>0.336451585096</td><td>32</td><td>NGC_2967</td><td>1912.34655762</td><td>--</td><td>30.0373516083</td><td>0.0995307787189</td><td>5.82052e-07</td><td>6.12737e+16</td><td>-9.65589e-05</td><td>15.5876</td><td>0.00753573</td><td>1.19249e-06</td><td>5.91133e+16</td><td>0.0085996</td><td>14.8089</td><td>0.00374479</td><td>4.89467e-06</td><td>8.50241e+15</td><td>0.0127802</td><td>13.2757</td><td>0.00240563</td><td>1.59454e-05</td><td>2.10607e+16</td><td>0.00835508</td><td>11.9934</td><td>0.000469193</td><td>2.89876e-05</td><td>7.44139e+15</td><td>0.00219524</td><td>11.3445</td><td>0.000434196</td><td>3.97876e-05</td><td>3.8533e+15</td><td>0.00214499</td><td>11.0006</td><td>0.000439603</td><td>5.0046e-05</td><td>3.33341e+14</td><td>2.48502e-05</td><td>10.7516</td><td>0.00118826</td></tr>\n",
       "<tr><td>146.265781145</td><td>1.23041252815</td><td>43</td><td>SDSSJ094503.80+011349.5</td><td>1905.23034668</td><td>--</td><td>29.9755420685</td><td>0.160540565768</td><td>9.76453e-10</td><td>1.2036e+19</td><td>0.0230798</td><td>22.5259</td><td>0.320503</td><td>1.36736e-09</td><td>1.52237e+19</td><td>0.00880183</td><td>22.1603</td><td>0.203508</td><td>1.61847e-08</td><td>1.63852e+18</td><td>0.0262728</td><td>19.4772</td><td>0.0524074</td><td>4.98293e-08</td><td>4.79183e+18</td><td>0.00219162</td><td>18.2563</td><td>0.0099538</td><td>7.59066e-08</td><td>2.31665e+18</td><td>0.00370597</td><td>17.7993</td><td>0.00939755</td><td>9.3876e-08</td><td>1.81206e+18</td><td>-0.00342604</td><td>17.5686</td><td>0.00859179</td><td>1.13913e-07</td><td>1.40325e+14</td><td>-0.00297838</td><td>17.3586</td><td>0.804604</td></tr>\n",
       "<tr><td>146.045441016</td><td>0.179766406149</td><td>48</td><td>PGC1159096</td><td>3334.94750977</td><td>--</td><td>50.9555702209</td><td>0.140434637517</td><td>5.8921e-09</td><td>5.64901e+18</td><td>0.00876151</td><td>20.5743</td><td>0.0775297</td><td>1.10258e-08</td><td>1.11396e+19</td><td>0.00940917</td><td>19.894</td><td>0.0295039</td><td>5.83417e-08</td><td>1.01087e+18</td><td>0.0393201</td><td>18.0851</td><td>0.0185096</td><td>1.60756e-07</td><td>3.72037e+18</td><td>0.00330616</td><td>16.9846</td><td>0.00350159</td><td>2.58361e-07</td><td>1.5772e+18</td><td>0.0085074</td><td>16.4694</td><td>0.00334621</td><td>2.96465e-07</td><td>8.0071e+17</td><td>-0.00685816</td><td>16.3201</td><td>0.00409274</td><td>3.68226e-07</td><td>4.96904e+16</td><td>-0.00601922</td><td>16.0847</td><td>0.0132274</td></tr>\n",
       "<tr><td>146.725322796</td><td>0.508279085733</td><td>59</td><td>UGC05238</td><td>1775.37475586</td><td>--</td><td>28.253288269</td><td>0.178253860217</td><td>2.93045e-08</td><td>5.48221e+17</td><td>0.00642719</td><td>18.8327</td><td>0.0500393</td><td>6.54208e-08</td><td>7.29351e+17</td><td>0.00836972</td><td>17.9607</td><td>0.019433</td><td>4.79624e-07</td><td>2.52176e+16</td><td>0.0176942</td><td>15.7977</td><td>0.0142551</td><td>1.4439e-06</td><td>1.00223e+17</td><td>0.00539609</td><td>14.6012</td><td>0.00237522</td><td>2.71907e-06</td><td>4.17478e+16</td><td>0.00266712</td><td>13.914</td><td>0.00195428</td><td>3.73612e-06</td><td>1.68088e+16</td><td>0.000231914</td><td>13.5689</td><td>0.00224148</td><td>4.36663e-06</td><td>1.34426e+15</td><td>-0.000862798</td><td>13.3996</td><td>0.00678166</td></tr>\n",
       "<tr><td>...</td><td>...</td><td>...</td><td>...</td><td>...</td><td>...</td><td>...</td><td>...</td><td>...</td><td>...</td><td>...</td><td>...</td><td>...</td><td>...</td><td>...</td><td>...</td><td>...</td><td>...</td><td>...</td><td>...</td><td>...</td><td>...</td><td>...</td><td>...</td><td>...</td><td>...</td><td>...</td><td>...</td><td>...</td><td>...</td><td>...</td><td>...</td><td>...</td><td>...</td><td>...</td><td>...</td><td>...</td><td>...</td><td>...</td><td>...</td><td>...</td><td>...</td><td>...</td></tr>\n",
       "<tr><td>199.97668137</td><td>-1.5675409892</td><td>173005</td><td>--</td><td>-149.896240234</td><td>--</td><td>1.25457346439</td><td>0.026273873797</td><td>4.58115e-09</td><td>4.30784e+14</td><td>0.0</td><td>20.8476</td><td>11.4188</td><td>6.60626e-09</td><td>5.53695e+15</td><td>0.0</td><td>20.4501</td><td>2.20868</td><td>3.27438e-08</td><td>6.69435e+15</td><td>0.0</td><td>18.7122</td><td>0.405267</td><td>1.40208e-07</td><td>7.30037e+15</td><td>0.0</td><td>17.1331</td><td>0.0906312</td><td>2.75409e-07</td><td>7.40557e+15</td><td>0.0</td><td>16.4001</td><td>0.0458107</td><td>4.01733e-07</td><td>4.86562e+15</td><td>0.0</td><td>15.9902</td><td>0.0387452</td><td>3.61288e-08</td><td>1.31386e+14</td><td>0.0</td><td>18.6054</td><td>2.62178</td></tr>\n",
       "<tr><td>198.863202147</td><td>-2.64376833326</td><td>173014</td><td>--</td><td>0.0</td><td>--</td><td>1.79421079159</td><td>0.0284640699485</td><td>-9.13889e-09</td><td>3.59184e+16</td><td>0.0</td><td>nan</td><td>-0.626862</td><td>-1.04482e-08</td><td>1.15257e+17</td><td>0.0</td><td>nan</td><td>-0.306089</td><td>4.11879e-07</td><td>1.24952e+15</td><td>0.0</td><td>15.9631</td><td>0.0745732</td><td>2.29029e-07</td><td>3.81908e+14</td><td>0.0</td><td>16.6003</td><td>0.24258</td><td>5.74159e-07</td><td>1.19055e+15</td><td>0.0</td><td>15.6024</td><td>0.0548047</td><td>1.49931e-06</td><td>3.12073e+14</td><td>0.0</td><td>14.5603</td><td>0.0409926</td><td>-9.67229e-07</td><td>5.5207e+13</td><td>0.0</td><td>nan</td><td>-0.151077</td></tr>\n",
       "<tr><td>207.783203623</td><td>-1.96230151557</td><td>173074</td><td>--</td><td>0.0</td><td>--</td><td>1.98037576675</td><td>0.0493216617969</td><td>2.40552e-10</td><td>2.44973e+14</td><td>0.0</td><td>24.047</td><td>288.374</td><td>-2.91951e-09</td><td>1.51058e+15</td><td>0.0</td><td>nan</td><td>-9.56849</td><td>9.35182e-07</td><td>2.11803e+14</td><td>0.0</td><td>15.0728</td><td>0.079774</td><td>2.9526e-07</td><td>1.65275e+15</td><td>0.0</td><td>16.3245</td><td>0.0904517</td><td>4.16118e-07</td><td>5.97632e+13</td><td>0.0</td><td>15.952</td><td>0.337514</td><td>6.60402e-07</td><td>2.96859e+14</td><td>0.0</td><td>15.4505</td><td>0.0954203</td><td>1.59941e-06</td><td>9.14575e+12</td><td>0.0</td><td>14.4901</td><td>0.224468</td></tr>\n",
       "<tr><td>212.500903514</td><td>0.481619866014</td><td>173100</td><td>--</td><td>0.0</td><td>--</td><td>2.17815899849</td><td>0.0351821439221</td><td>5.58096e-09</td><td>1.50709e+17</td><td>0.0</td><td>20.6332</td><td>0.501124</td><td>1.14081e-08</td><td>1.94335e+17</td><td>0.0</td><td>19.857</td><td>0.215892</td><td>1.12971e-07</td><td>3.95047e+15</td><td>0.0</td><td>17.3676</td><td>0.152909</td><td>1.61545e-07</td><td>2.38111e+16</td><td>0.0</td><td>16.9793</td><td>0.0435554</td><td>3.75778e-07</td><td>1.50038e+16</td><td>0.0</td><td>16.0627</td><td>0.023588</td><td>9.46937e-07</td><td>4.17298e+15</td><td>0.0</td><td>15.0592</td><td>0.0177492</td><td>1.15111e-06</td><td>4.33252e+14</td><td>0.0</td><td>14.8472</td><td>0.0453144</td></tr>\n",
       "<tr><td>212.295995247</td><td>-0.105540374984</td><td>173104</td><td>--</td><td>0.0</td><td>--</td><td>2.15451550484</td><td>0.0385355912198</td><td>-2.23474e-09</td><td>1.32381e+17</td><td>0.0</td><td>nan</td><td>-1.33532</td><td>-3.51414e-09</td><td>1.89736e+17</td><td>0.0</td><td>nan</td><td>-0.7093</td><td>6.11788e-08</td><td>1.37176e+14</td><td>0.0</td><td>18.0335</td><td>1.51525</td><td>2.04925e-07</td><td>8.68272e+15</td><td>0.0</td><td>16.721</td><td>0.0568593</td><td>6.59995e-07</td><td>3.02109e+15</td><td>0.0</td><td>15.4511</td><td>0.0299297</td><td>1.41776e-06</td><td>1.12646e+15</td><td>0.0</td><td>14.621</td><td>0.0228173</td><td>1.16876e-06</td><td>1.33948e+14</td><td>0.0</td><td>14.8307</td><td>0.0802658</td></tr>\n",
       "<tr><td>214.838729164</td><td>-0.205569176155</td><td>173199</td><td>--</td><td>659.543457031</td><td>--</td><td>10.6879892349</td><td>0.050434923263</td><td>1.17163e-08</td><td>1.571e+18</td><td>-0.00143399</td><td>19.828</td><td>0.0739345</td><td>2.0813e-08</td><td>1.75584e+18</td><td>0.000870584</td><td>19.2042</td><td>0.0393684</td><td>5.90669e-08</td><td>3.45498e+17</td><td>0.0034539</td><td>18.0716</td><td>0.0312721</td><td>2.05897e-07</td><td>9.8524e+17</td><td>0.00284179</td><td>16.7159</td><td>0.00531256</td><td>4.23226e-07</td><td>3.93025e+17</td><td>0.00144852</td><td>15.9336</td><td>0.00409206</td><td>6.30463e-07</td><td>1.54194e+17</td><td>0.00140638</td><td>15.5009</td><td>0.00438562</td><td>8.09673e-07</td><td>1.50258e+16</td><td>0.00109766</td><td>15.2292</td><td>0.0109395</td></tr>\n",
       "<tr><td>218.464069397</td><td>0.773551666667</td><td>173235</td><td>--</td><td>2488.27734375</td><td>--</td><td>34.9975395203</td><td>0.0376972816495</td><td>2.486e-09</td><td>9.37275e+18</td><td>-0.0015649</td><td>21.5112</td><td>0.142656</td><td>4.81409e-09</td><td>1.27578e+19</td><td>0.00934835</td><td>20.7937</td><td>0.0631426</td><td>2.03295e-08</td><td>6.41162e+17</td><td>0.0186474</td><td>19.2297</td><td>0.0666981</td><td>6.25886e-08</td><td>2.70357e+18</td><td>0.0147191</td><td>18.0088</td><td>0.0105502</td><td>1.36481e-07</td><td>9.69691e+17</td><td>0.00828932</td><td>17.1623</td><td>0.00807859</td><td>1.98578e-07</td><td>3.46497e+17</td><td>0.00776205</td><td>16.7552</td><td>0.00928845</td><td>2.76392e-07</td><td>3.60368e+16</td><td>0.0063222</td><td>16.3962</td><td>0.0206931</td></tr>\n",
       "<tr><td>222.918676148</td><td>-0.307385552943</td><td>173237</td><td>--</td><td>569.605712891</td><td>--</td><td>9.40788555145</td><td>0.0512061334506</td><td>1.75863e-09</td><td>1.97429e+19</td><td>-0.00121052</td><td>21.8871</td><td>0.138946</td><td>2.58238e-09</td><td>2.93939e+19</td><td>0.000862954</td><td>21.4699</td><td>0.0775488</td><td>1.08485e-08</td><td>1.49535e+18</td><td>0.00371939</td><td>19.9116</td><td>0.0818429</td><td>4.78349e-08</td><td>5.2367e+18</td><td>0.00312821</td><td>18.3006</td><td>0.00991861</td><td>1.09152e-07</td><td>1.73565e+18</td><td>0.00182705</td><td>17.4049</td><td>0.00755022</td><td>1.81547e-07</td><td>7.71179e+17</td><td>0.00166371</td><td>16.8525</td><td>0.00681016</td><td>2.69863e-07</td><td>6.83752e+16</td><td>0.00143029</td><td>16.4221</td><td>0.0153862</td></tr>\n",
       "<tr><td>219.748796246</td><td>-2.65469736351</td><td>173289</td><td>--</td><td>89.9377441406</td><td>--</td><td>2.9375641346</td><td>0.0644125858595</td><td>-1.07207e-09</td><td>3.56567e+17</td><td>0.0</td><td>nan</td><td>-1.69602</td><td>7.50633e-09</td><td>2.87937e+17</td><td>0.0</td><td>20.3114</td><td>0.269555</td><td>8.68983e-08</td><td>8.93523e+14</td><td>0.0</td><td>17.6525</td><td>0.417984</td><td>1.08122e-07</td><td>9.76101e+15</td><td>0.0</td><td>17.4152</td><td>0.10164</td><td>2.7001e-07</td><td>3.91782e+15</td><td>0.0</td><td>16.4216</td><td>0.0642425</td><td>8.60875e-07</td><td>9.55031e+14</td><td>0.0</td><td>15.1627</td><td>0.0408108</td><td>-4.83772e-07</td><td>3.22089e+13</td><td>0.0</td><td>nan</td><td>-0.395454</td></tr>\n",
       "<tr><td>5.72621015706</td><td>-12.2946394622</td><td>173318</td><td>--</td><td>0.0</td><td>--</td><td>3.05319714546</td><td>0.0328903347742</td><td>-7.41976e-09</td><td>1.17242e+15</td><td>0.0</td><td>nan</td><td>-4.27359</td><td>-5.10691e-09</td><td>7.3407e+15</td><td>0.0</td><td>nan</td><td>-2.4814</td><td>4.91263e-06</td><td>4.0926e+13</td><td>0.0</td><td>13.2717</td><td>0.034547</td><td>8.07127e-07</td><td>9.29059e+14</td><td>0.0</td><td>15.2326</td><td>0.0441327</td><td>1.30818e-06</td><td>3.72879e+14</td><td>0.0</td><td>14.7083</td><td>0.0429807</td><td>1.57745e-06</td><td>1.13383e+14</td><td>0.0</td><td>14.5051</td><td>0.0646389</td><td>-3.75588e-06</td><td>1.13345e+12</td><td>0.0</td><td>nan</td><td>-0.271526</td></tr>\n",
       "</table>"
      ],
      "text/plain": [
       "<Table masked=True length=9325>\n",
       "      RA            Dec       NSAID  ... NSA_kcorrect_z    z      z_err   \n",
       "     deg            deg              ...                                  \n",
       "   float64        float64     int64  ...    float32     float32  float32  \n",
       "------------- --------------- ------ ... -------------- ------- ----------\n",
       "147.176446949 -0.354030416643      2 ...    -0.00130408 15.9215  0.0175337\n",
       "146.193241319 -0.689391394961      6 ...    -0.00187499 15.4168   0.019924\n",
       "146.007801384  -0.64225922322      7 ...    -0.00400293 15.5019   0.010957\n",
       "146.619063376 -0.434345458168      9 ...    -0.00189742 14.9987  0.0104817\n",
       "145.320962664  0.771102651396     30 ...    -0.00265435 16.7769  0.0171965\n",
       "145.513690377  0.336451585096     32 ...    2.48502e-05 10.7516 0.00118826\n",
       "146.265781145   1.23041252815     43 ...    -0.00297838 17.3586   0.804604\n",
       "146.045441016  0.179766406149     48 ...    -0.00601922 16.0847  0.0132274\n",
       "146.725322796  0.508279085733     59 ...   -0.000862798 13.3996 0.00678166\n",
       "          ...             ...    ... ...            ...     ...        ...\n",
       " 199.97668137   -1.5675409892 173005 ...            0.0 18.6054    2.62178\n",
       "198.863202147  -2.64376833326 173014 ...            0.0     nan  -0.151077\n",
       "207.783203623  -1.96230151557 173074 ...            0.0 14.4901   0.224468\n",
       "212.500903514  0.481619866014 173100 ...            0.0 14.8472  0.0453144\n",
       "212.295995247 -0.105540374984 173104 ...            0.0 14.8307  0.0802658\n",
       "214.838729164 -0.205569176155 173199 ...     0.00109766 15.2292  0.0109395\n",
       "218.464069397  0.773551666667 173235 ...      0.0063222 16.3962  0.0206931\n",
       "222.918676148 -0.307385552943 173237 ...     0.00143029 16.4221  0.0153862\n",
       "219.748796246  -2.65469736351 173289 ...            0.0     nan  -0.395454\n",
       "5.72621015706  -12.2946394622 173318 ...            0.0     nan  -0.271526"
      ]
     },
     "execution_count": 15,
     "metadata": {},
     "output_type": "execute_result"
    }
   ],
   "source": [
    "#integrate NSA photometry\n",
    "\n",
    "nsatoadd = nsa[('NSAID', 'E(B-V)')]\n",
    "for i, band in enumerate('FNugriz'):\n",
    "    nsatoadd[band+'_flux'] = maggies = nsa['SERSICFLUX'][:, i]/1e9\n",
    "    nsatoadd[band+'_flux_ivar'] = ivar = nsa['SERSICFLUX_IVAR'][:, i]*1e18\n",
    "    nsatoadd[band+'_flux'].unit = nsatoadd[band+'_flux_ivar'].unit = 'maggie'\n",
    "    nsatoadd['NSA_kcorrect_' + band] = nsa['KCORRECT'][:, i]\n",
    "    \n",
    "    mag, mag_err = flux_ivar_to_mag(maggies, ivar)\n",
    "    nsatoadd[band] = mag\n",
    "    nsatoadd[band+'_err'] = mag_err\n",
    "    \n",
    "    \n",
    "submaster1 = table.join(submaster0, nsatoadd, 'NSAID')\n",
    "submaster1"
   ]
  },
  {
   "cell_type": "markdown",
   "metadata": {},
   "source": [
    "# Now add in the 2MASS JHK "
   ]
  },
  {
   "cell_type": "markdown",
   "metadata": {},
   "source": [
    "Requires X-matching NSA to 2MASS XSC"
   ]
  },
  {
   "cell_type": "code",
   "execution_count": 16,
   "metadata": {
    "collapsed": false
   },
   "outputs": [
    {
     "data": {
      "image/png": "[encoded data removed]",
      "text/plain": [
       "<matplotlib.figure.Figure at 0x135cbb550>"
      ]
     },
     "metadata": {},
     "output_type": "display_data"
    }
   ],
   "source": [
    "scsubm = SkyCoord(submaster1['RA'], submaster1['Dec'])\n",
    "sc2mass = SkyCoord(twomassxsc['ra'], twomassxsc['dec'], unit=u.deg)\n",
    "\n",
    "idx, d2d, _ = scsubm.match_to_catalog_sky(sc2mass)\n",
    "\n",
    "fig, (ax1, ax2) = plt.subplots(2, 1)\n",
    "\n",
    "ax1.hist(d2d.arcsec, histtype='step',bins=100, log=True)\n",
    "ax2.hist(d2d.arcsec, histtype='step',bins=100, range=(0,60), log=True)\n",
    "\n",
    "fig.tight_layout()"
   ]
  },
  {
   "cell_type": "markdown",
   "metadata": {},
   "source": [
    "Why are there so many NSA objects not in 2MASS? For now we'll just accept these but keep around the distance to possibly mask later"
   ]
  },
  {
   "cell_type": "code",
   "execution_count": 17,
   "metadata": {
    "collapsed": true
   },
   "outputs": [],
   "source": [
    "submaster2 = submaster1.copy()\n",
    "submaster2['dist_2MASS_NSA'] = d2d.to(u.arcsec)"
   ]
  },
  {
   "cell_type": "code",
   "execution_count": 18,
   "metadata": {
    "collapsed": false
   },
   "outputs": [],
   "source": [
    "idx2mass = twomassxsc[idx]\n",
    "\n",
    "for band in 'jhk':\n",
    "    twomass_col = '{}_m_ext'.format(band)\n",
    "    twomass_err_col = '{}_msig_ext'.format(band)\n",
    "    \n",
    "    submaster2[band.upper()] = mag = idx2mass[twomass_col]\n",
    "    submaster2[band.upper()+\"_err\"] = mag_err = idx2mass[twomass_err_col]\n",
    "    \n",
    "    flux, flux_ivar = mag_err_to_maggies(mag, mag_err)\n",
    "    \n",
    "    submaster2[band.upper() + '_flux'] = flux\n",
    "    submaster2[band.upper() + '_flux_ivar'] = flux_ivar"
   ]
  },
  {
   "cell_type": "code",
   "execution_count": 19,
   "metadata": {
    "collapsed": true
   },
   "outputs": [],
   "source": [
    "# this is the \"correction\" one for use with extinction and kcorrecting\n",
    "submaster3 = submaster2.copy()"
   ]
  },
  {
   "cell_type": "code",
   "execution_count": 20,
   "metadata": {
    "collapsed": false
   },
   "outputs": [
    {
     "name": "stderr",
     "output_type": "stream",
     "text": [
      "/Users/erik/miniconda3/envs/saga/lib/python2.7/site-packages/astropy/table/column.py:1095: MaskedArrayFutureWarning: setting an item on a masked array which has a shared mask will not copy the mask and also change the original mask array in the future.\n",
      "Check the NumPy 1.11 release notes for more information.\n",
      "  ma.MaskedArray.__setitem__(self, index, value)\n"
     ]
    }
   ],
   "source": [
    "submaster3['othername'].fill_value = ''\n",
    "submaster3['othername'] = submaster3['othername'].filled()"
   ]
  },
  {
   "cell_type": "markdown",
   "metadata": {},
   "source": [
    "# And compute extinction for all the bands "
   ]
  },
  {
   "cell_type": "code",
   "execution_count": 21,
   "metadata": {
    "collapsed": false
   },
   "outputs": [],
   "source": [
    "for i, bandnm in enumerate('FNugrizJHK'):\n",
    "    if bandnm in 'FN':\n",
    "        submaster3['A_'+bandnm] = Ax = submaster3['E(B-V)']*yuan_FN_Rx[i]\n",
    "    else:\n",
    "        submaster3['A_'+bandnm] = Ax = submaster3['E(B-V)']*sandf_Rx[i-2]\n",
    "    \n",
    "    # this is X in $F_intrinsic = F X$ , that's why the - is missing from 2.5\n",
    "    submaster3['A_'+bandnm+'_flux'] = 10**(Ax/2.5) "
   ]
  },
  {
   "cell_type": "markdown",
   "metadata": {},
   "source": [
    "# Now compute the kcorrection"
   ]
  },
  {
   "cell_type": "code",
   "execution_count": 22,
   "metadata": {
    "collapsed": false
   },
   "outputs": [],
   "source": [
    "maggies = np.array([submaster3[bandnm+'_flux'] for bandnm in 'FNugrizJHK']).T\n",
    "ivars = np.array([submaster3[bandnm+'_flux_ivar'] for bandnm in 'FNugrizJHK']).T\n",
    "zs = (u.Quantity(submaster3['vhelio'])/cnst.c).decompose()\n",
    "\n",
    "mag_kcorrs, flux_kcorrs = do_kcorrs(maggies, ivars, zs, FNugrizJHK_filters)\n",
    "\n",
    "for i, bandnm in enumerate('FNugrizJHK'):\n",
    "    submaster3['kcorr_' + bandnm] = mag_kcorrs[:, i]"
   ]
  },
  {
   "cell_type": "markdown",
   "metadata": {},
   "source": [
    "# Now choose the columns for the final submaster"
   ]
  },
  {
   "cell_type": "code",
   "execution_count": 23,
   "metadata": {
    "collapsed": false
   },
   "outputs": [],
   "source": [
    "for bandnm in 'ugrizJHK':\n",
    "    extinction = submaster3['A_'+bandnm]\n",
    "    kcorr = submaster3['kcorr_'+bandnm]\n",
    "    distmod = Distance(submaster3['distance']).distmod.value\n",
    "    submaster3['M_' + bandnm] = submaster3[bandnm] - extinction - kcorr - distmod "
   ]
  },
  {
   "cell_type": "code",
   "execution_count": 24,
   "metadata": {
    "collapsed": false
   },
   "outputs": [
    {
     "data": {
      "text/html": [
       "&lt;Table masked=True length=9325&gt;\n",
       "<table id=\"table5772085776\" class=\"table-striped table-bordered table-condensed\">\n",
       "<thead><tr><th>RA</th><th>Dec</th><th>NSAID</th><th>othername</th><th>vhelio</th><th>vhelio_err</th><th>distance</th><th>dist_2MASS_NSA</th><th>u</th><th>u_err</th><th>A_u</th><th>M_u</th><th>g</th><th>g_err</th><th>A_g</th><th>M_g</th><th>r</th><th>r_err</th><th>A_r</th><th>M_r</th><th>i</th><th>i_err</th><th>A_i</th><th>M_i</th><th>z</th><th>z_err</th><th>A_z</th><th>M_z</th><th>J</th><th>J_err</th><th>A_J</th><th>M_J</th><th>H</th><th>H_err</th><th>A_H</th><th>M_H</th><th>K</th><th>K_err</th><th>A_K</th><th>M_K</th></tr></thead>\n",
       "<thead><tr><th>deg</th><th>deg</th><th></th><th>string</th><th>km / s</th><th>km / s</th><th>Mpc</th><th>arcsec</th><th>mag</th><th>mag</th><th>mag</th><th>mag</th><th>mag</th><th>mag</th><th>mag</th><th>mag</th><th>mag</th><th>mag</th><th>mag</th><th>mag</th><th>mag</th><th>mag</th><th>mag</th><th>mag</th><th>mag</th><th>mag</th><th>mag</th><th>mag</th><th>mag</th><th>mag</th><th>mag</th><th>mag</th><th>mag</th><th>mag</th><th>mag</th><th>mag</th><th>mag</th><th>mag</th><th>mag</th><th>mag</th></tr></thead>\n",
       "<thead><tr><th>float64</th><th>float64</th><th>int64</th><th>str28</th><th>float64</th><th>float64</th><th>float64</th><th>float64</th><th>float32</th><th>float32</th><th>float64</th><th>float64</th><th>float32</th><th>float32</th><th>float64</th><th>float64</th><th>float32</th><th>float32</th><th>float64</th><th>float64</th><th>float32</th><th>float32</th><th>float64</th><th>float64</th><th>float32</th><th>float32</th><th>float64</th><th>float64</th><th>float64</th><th>float64</th><th>float64</th><th>float64</th><th>float64</th><th>float64</th><th>float64</th><th>float64</th><th>float64</th><th>float64</th><th>float64</th><th>float64</th></tr></thead>\n",
       "<tr><td>147.176446949</td><td>-0.354030416643</td><td>2</td><td>PGC1145436</td><td>1883.54833984</td><td>--</td><td>29.5901851654</td><td>271.12659476</td><td>17.9815</td><td>0.0299346</td><td>0.371772399751</td><td>-14.7638945881</td><td>16.8183</td><td>0.00562909</td><td>0.289682528044</td><td>-15.8350120874</td><td>16.2982</td><td>0.00516624</td><td>0.200401022277</td><td>-16.2611153965</td><td>16.0466</td><td>0.00603743</td><td>0.148919446751</td><td>-16.4595905795</td><td>15.9215</td><td>0.0175337</td><td>0.110768705092</td><td>-16.5450393011</td><td>13.136</td><td>0.068</td><td>0.0621813237612</td><td>-19.2775345916</td><td>12.24</td><td>0.08</td><td>0.0393785816203</td><td>-20.1516117463</td><td>12.07</td><td>0.107</td><td>0.0264862620252</td><td>-20.2975449006</td></tr>\n",
       "<tr><td>146.193241319</td><td>-0.689391394961</td><td>6</td><td>PGC1137164</td><td>1223.25012207</td><td>--</td><td>20.8565635681</td><td>259.723835062</td><td>17.024</td><td>0.0212822</td><td>0.269818591802</td><td>-14.8515948307</td><td>15.9931</td><td>0.0259186</td><td>0.21024081357</td><td>-15.8162365785</td><td>15.7017</td><td>0.00531233</td><td>0.145443614595</td><td>-16.041370377</td><td>15.5106</td><td>0.00655906</td><td>0.108080200255</td><td>-16.1936503422</td><td>15.4168</td><td>0.019924</td><td>0.08039180973</td><td>-16.2592447894</td><td>14.38</td><td>0.172</td><td>0.0451288939815</td><td>-17.258133278</td><td>13.483</td><td>0.195</td><td>0.0285795111392</td><td>-18.1393908729</td><td>12.679</td><td>0.152</td><td>0.019222744686</td><td>-18.9268949287</td></tr>\n",
       "<tr><td>146.007801384</td><td>-0.64225922322</td><td>7</td><td>PGC027864</td><td>1431.89880371</td><td>--</td><td>23.6615562439</td><td>495.116208982</td><td>15.6014</td><td>0.00524326</td><td>0.267280516074</td><td>-16.540037589</td><td>14.9153</td><td>0.00205496</td><td>0.208263162206</td><td>-17.1585876025</td><td>15.0068</td><td>0.00229722</td><td>0.144075484602</td><td>-17.0093854463</td><td>15.6666</td><td>0.00297873</td><td>0.107063532978</td><td>-16.3051633557</td><td>15.5019</td><td>0.010957</td><td>0.0796355960842</td><td>-16.4448059026</td><td>14.154</td><td>0.104</td><td>0.0447043845002</td><td>-17.7555273975</td><td>13.642</td><td>0.161</td><td>0.0283106750925</td><td>-18.2535292188</td><td>13.33</td><td>0.215</td><td>0.0190419240043</td><td>-18.5477950063</td></tr>\n",
       "<tr><td>146.619063376</td><td>-0.434345458168</td><td>9</td><td>PGC1143397</td><td>1809.7376709</td><td>--</td><td>28.651517868</td><td>380.956537656</td><td>17.0736</td><td>0.0165469</td><td>0.453270026063</td><td>-15.6815395625</td><td>15.9022</td><td>0.00344698</td><td>0.353184924767</td><td>-16.7432785712</td><td>15.4277</td><td>0.0029658</td><td>0.244331684254</td><td>-17.1049758007</td><td>15.1936</td><td>0.00264763</td><td>0.18156463889</td><td>-17.2747037584</td><td>14.9987</td><td>0.0104817</td><td>0.135050729634</td><td>-17.4217302217</td><td>14.513</td><td>0.127</td><td>0.0758123256614</td><td>-17.8441785006</td><td>13.578</td><td>0.123</td><td>0.0480109086346</td><td>-18.7522167393</td><td>13.343</td><td>0.184</td><td>0.0322924151618</td><td>-18.9608643805</td></tr>\n",
       "<tr><td>145.320962664</td><td>0.771102651396</td><td>30</td><td>PGC1175027</td><td>1975.47937012</td><td>--</td><td>30.8803977966</td><td>297.466447178</td><td>18.7395</td><td>0.0283063</td><td>0.486091069287</td><td>-14.2157632918</td><td>17.6063</td><td>0.00646028</td><td>0.378758858659</td><td>-15.2271029441</td><td>17.1605</td><td>0.00594115</td><td>0.262023612484</td><td>-15.5532955974</td><td>16.9516</td><td>0.00720908</td><td>0.194711638511</td><td>-15.6918434344</td><td>16.7769</td><td>0.0171965</td><td>0.144829681649</td><td>-15.8155746228</td><td>14.788</td><td>0.207</td><td>0.0813018561274</td><td>-17.7367197733</td><td>14.125</td><td>0.214</td><td>0.0514873531752</td><td>-18.3711443445</td><td>13.37</td><td>0.245</td><td>0.0346306918907</td><td>-19.0976487226</td></tr>\n",
       "<tr><td>145.513690377</td><td>0.336451585096</td><td>32</td><td>NGC_2967</td><td>1912.34655762</td><td>--</td><td>30.0373516083</td><td>0.71028220674</td><td>13.2757</td><td>0.00240563</td><td>0.421910970989</td><td>-19.549132869</td><td>11.9934</td><td>0.000469193</td><td>0.328750162108</td><td>-20.7350530517</td><td>11.3445</td><td>0.000434196</td><td>0.227427829373</td><td>-21.2755714191</td><td>11.0006</td><td>0.000439603</td><td>0.169003262265</td><td>-21.5609463662</td><td>10.7516</td><td>0.00118826</td><td>0.125707373522</td><td>-21.7649364673</td><td>9.765</td><td>0.019</td><td>0.0705673221117</td><td>-22.69126327</td><td>9.104</td><td>0.018</td><td>0.0446893196448</td><td>-23.3274371912</td><td>8.883</td><td>0.034</td><td>0.0300582951731</td><td>-23.5218249121</td></tr>\n",
       "<tr><td>146.265781145</td><td>1.23041252815</td><td>43</td><td>SDSSJ094503.80+011349.5</td><td>1905.23034668</td><td>--</td><td>29.9755420685</td><td>364.541201352</td><td>19.4772</td><td>0.0524074</td><td>0.680531458291</td><td>-13.6131102411</td><td>18.2563</td><td>0.0099538</td><td>0.530265488732</td><td>-14.6650543961</td><td>17.7993</td><td>0.00939755</td><td>0.36683519278</td><td>-14.955686629</td><td>17.5686</td><td>0.00859179</td><td>0.272597880674</td><td>-15.0884816437</td><td>17.3586</td><td>0.804604</td><td>0.202762734565</td><td>-15.2278201763</td><td>14.553</td><td>0.132</td><td>0.11382326113</td><td>-17.9400700732</td><td>14.17</td><td>0.182</td><td>0.0720827140299</td><td>-18.2826204221</td><td>13.265</td><td>0.161</td><td>0.048483250862</td><td>-19.15247361</td></tr>\n",
       "<tr><td>146.045441016</td><td>0.179766406149</td><td>48</td><td>PGC1159096</td><td>3334.94750977</td><td>--</td><td>50.9555702209</td><td>70.7798744736</td><td>18.0851</td><td>0.0185096</td><td>0.595302428436</td><td>-16.0941658522</td><td>16.9846</td><td>0.00350159</td><td>0.46385560772</td><td>-17.0248669962</td><td>16.4694</td><td>0.00334621</td><td>0.320893146727</td><td>-17.3988800796</td><td>16.3201</td><td>0.00409274</td><td>0.238458014504</td><td>-17.4546358103</td><td>16.0847</td><td>0.0132274</td><td>0.177368947184</td><td>-17.6297246946</td><td>14.713</td><td>0.148</td><td>0.0995681579998</td><td>-18.9150308647</td><td>13.76</td><td>0.122</td><td>0.0630551522453</td><td>-19.8376586795</td><td>13.304</td><td>0.164</td><td>0.0424112605302</td><td>-20.2503596212</td></tr>\n",
       "<tr><td>146.725322796</td><td>0.508279085733</td><td>59</td><td>UGC05238</td><td>1775.37475586</td><td>--</td><td>28.253288269</td><td>13.1039969259</td><td>15.7977</td><td>0.0142551</td><td>0.755618113462</td><td>-17.2273419553</td><td>14.6012</td><td>0.00237522</td><td>0.588772500298</td><td>-18.2551333939</td><td>13.914</td><td>0.00195428</td><td>0.407310070597</td><td>-18.7523167843</td><td>13.5689</td><td>0.00224148</td><td>0.302675054649</td><td>-18.9927180562</td><td>13.3996</td><td>0.00678166</td><td>0.225134625455</td><td>-19.0823030247</td><td>13.927</td><td>0.146</td><td>0.126381986894</td><td>-18.4513326968</td><td>13.08</td><td>0.152</td><td>0.0800359832376</td><td>-19.2525796001</td><td>12.678</td><td>0.185</td><td>0.0538326657857</td><td>-19.617544576</td></tr>\n",
       "<tr><td>...</td><td>...</td><td>...</td><td>...</td><td>...</td><td>...</td><td>...</td><td>...</td><td>...</td><td>...</td><td>...</td><td>...</td><td>...</td><td>...</td><td>...</td><td>...</td><td>...</td><td>...</td><td>...</td><td>...</td><td>...</td><td>...</td><td>...</td><td>...</td><td>...</td><td>...</td><td>...</td><td>...</td><td>...</td><td>...</td><td>...</td><td>...</td><td>...</td><td>...</td><td>...</td><td>...</td><td>...</td><td>...</td><td>...</td><td>...</td></tr>\n",
       "<tr><td>199.97668137</td><td>-1.5675409892</td><td>173005</td><td></td><td>-149.896240234</td><td>--</td><td>1.25457346439</td><td>24.1397579025</td><td>18.7122</td><td>0.405267</td><td>0.111374951026</td><td>-6.89167816187</td><td>17.1331</td><td>0.0906312</td><td>0.0867826051516</td><td>-8.44619882259</td><td>16.4001</td><td>0.0458107</td><td>0.0600358016262</td><td>-9.15246326479</td><td>15.9902</td><td>0.0387452</td><td>0.0446130377074</td><td>-9.54693735146</td><td>18.6054</td><td>2.62178</td><td>0.0331839026057</td><td>-6.92029672954</td><td>15.162</td><td>0.191</td><td>0.0186281765221</td><td>-10.349108664</td><td>14.62</td><td>0.242</td><td>0.0117969693349</td><td>-10.8842774568</td><td>13.662</td><td>0.222</td><td>0.00793470988671</td><td>-11.8384151973</td></tr>\n",
       "<tr><td>198.863202147</td><td>-2.64376833326</td><td>173014</td><td></td><td>0.0</td><td>--</td><td>1.79421079159</td><td>115.807590275</td><td>15.9631</td><td>0.0745732</td><td>0.120659192511</td><td>-10.4269489698</td><td>16.6003</td><td>0.24258</td><td>0.0940168230397</td><td>-9.76311101315</td><td>15.6024</td><td>0.0548047</td><td>0.0650403998322</td><td>-10.7319888227</td><td>14.5603</td><td>0.0409926</td><td>0.0483319907725</td><td>-11.7574251891</td><td>nan</td><td>-0.151077</td><td>0.0359501203449</td><td>nan</td><td>12.894</td><td>0.056</td><td>0.0201810255935</td><td>-13.395548348</td><td>11.981</td><td>0.047</td><td>0.0127803674069</td><td>-14.3011476898</td><td>11.543</td><td>0.064</td><td>0.00859614912443</td><td>-14.7349634716</td></tr>\n",
       "<tr><td>207.783203623</td><td>-1.96230151557</td><td>173074</td><td></td><td>0.0</td><td>--</td><td>1.98037576675</td><td>584.923128921</td><td>15.0728</td><td>0.079774</td><td>0.209074524357</td><td>-11.6200529129</td><td>16.3245</td><td>0.0904517</td><td>0.162909448915</td><td>-10.3221578722</td><td>15.952</td><td>0.337514</td><td>0.112699997206</td><td>-10.644478404</td><td>15.4505</td><td>0.0954203</td><td>0.0837481817311</td><td>-11.1170076448</td><td>14.4901</td><td>0.224468</td><td>0.0622932588494</td><td>-12.0559332761</td><td>14.564</td><td>0.106</td><td>0.034969058214</td><td>-11.954707075</td><td>13.966</td><td>0.129</td><td>0.0221454261468</td><td>-12.539883443</td><td>13.493</td><td>0.171</td><td>0.0148951418627</td><td>-13.0056331587</td></tr>\n",
       "<tr><td>212.500903514</td><td>0.481619866014</td><td>173100</td><td></td><td>0.0</td><td>--</td><td>2.17815899849</td><td>250.36284734</td><td>17.3676</td><td>0.152909</td><td>0.149137108086</td><td>-9.47200077285</td><td>16.9793</td><td>0.0435554</td><td>0.116206621375</td><td>-9.82738739429</td><td>16.0627</td><td>0.023588</td><td>0.080391198862</td><td>-10.7081674308</td><td>15.0592</td><td>0.0177492</td><td>0.0597392803797</td><td>-11.6909907015</td><td>14.8472</td><td>0.0453144</td><td>0.0444350477736</td><td>-11.8876787327</td><td>14.725</td><td>0.15</td><td>0.0249441400408</td><td>-11.9903920333</td><td>14.884</td><td>0.0</td><td>0.015796782621</td><td>-11.8222446759</td><td>13.703</td><td>0.256</td><td>0.0106250074645</td><td>-12.9980729007</td></tr>\n",
       "<tr><td>212.295995247</td><td>-0.105540374984</td><td>173104</td><td></td><td>0.0</td><td>--</td><td>2.15451550484</td><td>339.191262545</td><td>18.0335</td><td>1.51525</td><td>0.163352371181</td><td>-8.79660172619</td><td>16.721</td><td>0.0568593</td><td>0.127283057799</td><td>-10.073017154</td><td>15.4511</td><td>0.0299297</td><td>0.0880538259372</td><td>-11.3036529582</td><td>14.621</td><td>0.0228173</td><td>0.0654334338912</td><td>-12.1111898461</td><td>14.8307</td><td>0.0802658</td><td>0.0486704517106</td><td>-11.8847329552</td><td>14.545</td><td>0.111</td><td>0.0273217341748</td><td>-12.1490698532</td><td>13.845</td><td>0.124</td><td>0.0173024804577</td><td>-12.8390505995</td><td>13.028</td><td>0.125</td><td>0.0116377485484</td><td>-13.6503858676</td></tr>\n",
       "<tr><td>214.838729164</td><td>-0.205569176155</td><td>173199</td><td></td><td>659.543457031</td><td>--</td><td>10.6879892349</td><td>617.978008445</td><td>18.0716</td><td>0.0312721</td><td>0.213793639712</td><td>-12.2911835827</td><td>16.7159</td><td>0.00531256</td><td>0.166586551538</td><td>-13.5990461794</td><td>15.9336</td><td>0.00409206</td><td>0.115243799656</td><td>-14.3282763229</td><td>15.5009</td><td>0.00438562</td><td>0.0856384997005</td><td>-14.7312701086</td><td>15.2292</td><td>0.0109395</td><td>0.0636993080811</td><td>-14.9806368494</td><td>13.784</td><td>0.072</td><td>0.0357583605935</td><td>-16.3957857479</td><td>13.143</td><td>0.076</td><td>0.0226452805451</td><td>-17.0242715199</td><td>12.938</td><td>0.14</td><td>0.0152313468254</td><td>-17.2179015796</td></tr>\n",
       "<tr><td>218.464069397</td><td>0.773551666667</td><td>173235</td><td></td><td>2488.27734375</td><td>--</td><td>34.9975395203</td><td>125.125214118</td><td>19.2297</td><td>0.0666981</td><td>0.159798776912</td><td>-13.6860345545</td><td>18.0088</td><td>0.0105502</td><td>0.124514121288</td><td>-14.8512515643</td><td>17.1623</td><td>0.00807859</td><td>0.0861382885691</td><td>-15.6580403808</td><td>16.7552</td><td>0.00928845</td><td>0.0640099842409</td><td>-16.0393388764</td><td>16.3962</td><td>0.0206931</td><td>0.0476116667233</td><td>-16.3816377935</td><td>13.225</td><td>0.069</td><td>0.0267273726895</td><td>-19.5219234135</td><td>12.458</td><td>0.069</td><td>0.0169260794606</td><td>-20.2823871937</td><td>12.274</td><td>0.117</td><td>0.0113845790582</td><td>-20.4421462645</td></tr>\n",
       "<tr><td>222.918676148</td><td>-0.307385552943</td><td>173237</td><td></td><td>569.605712891</td><td>--</td><td>9.40788555145</td><td>0.444718524901</td><td>19.9116</td><td>0.0818429</td><td>0.217062799697</td><td>-10.1782040121</td><td>18.3006</td><td>0.00991861</td><td>0.169133858787</td><td>-11.7398479805</td><td>17.4049</td><td>0.00755022</td><td>0.117006014935</td><td>-12.5821253035</td><td>16.8525</td><td>0.00681016</td><td>0.0869480145991</td><td>-13.1041482362</td><td>16.4221</td><td>0.0153862</td><td>0.0646733465481</td><td>-13.5120268242</td><td>14.933</td><td>0.179</td><td>0.0363051486165</td><td>-14.9707371902</td><td>14.053</td><td>0.183</td><td>0.0229915539193</td><td>-15.8378702735</td><td>13.554</td><td>0.202</td><td>0.0154642523021</td><td>-16.3259701543</td></tr>\n",
       "<tr><td>219.748796246</td><td>-2.65469736351</td><td>173289</td><td></td><td>89.9377441406</td><td>--</td><td>2.9375641346</td><td>453.236786441</td><td>17.6525</td><td>0.417984</td><td>0.273044951459</td><td>-9.96051019486</td><td>17.4152</td><td>0.10164</td><td>0.212754771094</td><td>-10.1374770183</td><td>16.4216</td><td>0.0642425</td><td>0.147182758689</td><td>-11.0655687937</td><td>15.1627</td><td>0.0408108</td><td>0.10937257079</td><td>-12.2866592482</td><td>nan</td><td>-0.395454</td><td>0.0813530959406</td><td>nan</td><td>14.646</td><td>0.103</td><td>0.0456685233744</td><td>-12.7396053091</td><td>14.005</td><td>0.148</td><td>0.0289212510509</td><td>-13.3638580368</td><td>13.671</td><td>0.201</td><td>0.0194526009296</td><td>-13.6883893867</td></tr>\n",
       "<tr><td>5.72621015706</td><td>-12.2946394622</td><td>173318</td><td></td><td>0.0</td><td>--</td><td>3.05319714546</td><td>413.346716966</td><td>13.2717</td><td>0.034547</td><td>0.139422129108</td><td>-14.291482157</td><td>15.2326</td><td>0.0441327</td><td>0.108636775759</td><td>-12.2997659793</td><td>14.7083</td><td>0.0429807</td><td>0.075154414959</td><td>-12.7905956379</td><td>14.5051</td><td>0.0646389</td><td>0.0558477884466</td><td>-12.9745131935</td><td>nan</td><td>-0.271526</td><td>0.0415404928198</td><td>nan</td><td>15.127</td><td>0.25</td><td>0.0233192473549</td><td>-12.3200934857</td><td>14.342</td><td>0.302</td><td>0.0147677603136</td><td>-13.0965419987</td><td>13.14</td><td>0.166</td><td>0.0099328811018</td><td>-14.2937071195</td></tr>\n",
       "</table>"
      ],
      "text/plain": [
       "<Table masked=True length=9325>\n",
       "      RA            Dec       NSAID  ...  K_err        A_K             M_K      \n",
       "     deg            deg              ...   mag         mag             mag      \n",
       "   float64        float64     int64  ... float64     float64         float64    \n",
       "------------- --------------- ------ ... ------- ---------------- --------------\n",
       "147.176446949 -0.354030416643      2 ...   0.107  0.0264862620252 -20.2975449006\n",
       "146.193241319 -0.689391394961      6 ...   0.152   0.019222744686 -18.9268949287\n",
       "146.007801384  -0.64225922322      7 ...   0.215  0.0190419240043 -18.5477950063\n",
       "146.619063376 -0.434345458168      9 ...   0.184  0.0322924151618 -18.9608643805\n",
       "145.320962664  0.771102651396     30 ...   0.245  0.0346306918907 -19.0976487226\n",
       "145.513690377  0.336451585096     32 ...   0.034  0.0300582951731 -23.5218249121\n",
       "146.265781145   1.23041252815     43 ...   0.161   0.048483250862   -19.15247361\n",
       "146.045441016  0.179766406149     48 ...   0.164  0.0424112605302 -20.2503596212\n",
       "146.725322796  0.508279085733     59 ...   0.185  0.0538326657857  -19.617544576\n",
       "          ...             ...    ... ...     ...              ...            ...\n",
       " 199.97668137   -1.5675409892 173005 ...   0.222 0.00793470988671 -11.8384151973\n",
       "198.863202147  -2.64376833326 173014 ...   0.064 0.00859614912443 -14.7349634716\n",
       "207.783203623  -1.96230151557 173074 ...   0.171  0.0148951418627 -13.0056331587\n",
       "212.500903514  0.481619866014 173100 ...   0.256  0.0106250074645 -12.9980729007\n",
       "212.295995247 -0.105540374984 173104 ...   0.125  0.0116377485484 -13.6503858676\n",
       "214.838729164 -0.205569176155 173199 ...    0.14  0.0152313468254 -17.2179015796\n",
       "218.464069397  0.773551666667 173235 ...   0.117  0.0113845790582 -20.4421462645\n",
       "222.918676148 -0.307385552943 173237 ...   0.202  0.0154642523021 -16.3259701543\n",
       "219.748796246  -2.65469736351 173289 ...   0.201  0.0194526009296 -13.6883893867\n",
       "5.72621015706  -12.2946394622 173318 ...   0.166  0.0099328811018 -14.2937071195"
      ]
     },
     "execution_count": 24,
     "metadata": {},
     "output_type": "execute_result"
    }
   ],
   "source": [
    "infocols = ['RA', 'Dec', 'NSAID', 'othername', \n",
    "            'vhelio', 'vhelio_err',  'distance', 'dist_2MASS_NSA']\n",
    "magcols = []\n",
    "for bandnm in 'ugrizJHK':\n",
    "    magcols.append(bandnm)\n",
    "    magcols.append(bandnm+'_err')\n",
    "    magcols.append('A_'+bandnm)\n",
    "    magcols.append('M_'+bandnm)\n",
    "    \n",
    "# reset the units\n",
    "for colnm in magcols:\n",
    "    submaster3[colnm].unit = 'mag'\n",
    "    \n",
    "submaster = submaster3[infocols + magcols]\n",
    "submaster"
   ]
  },
  {
   "cell_type": "markdown",
   "metadata": {},
   "source": [
    "# And write it all out "
   ]
  },
  {
   "cell_type": "code",
   "execution_count": 62,
   "metadata": {
    "collapsed": false
   },
   "outputs": [],
   "source": [
    "fill_values = [('--', '-1')]\n",
    "submaster.write('masterlist/submaster.ecsv', format='ascii.ecsv', fill_values=fill_values)\n",
    "submaster3.write('masterlist/submaster_all.ecsv', format='ascii.ecsv', fill_values=fill_values)"
   ]
  },
  {
   "cell_type": "code",
   "execution_count": 63,
   "metadata": {
    "collapsed": false
   },
   "outputs": [],
   "source": [
    "!gzip -f masterlist/submaster.ecsv\n",
    "!gzip -f masterlist/submaster_all.ecsv"
   ]
  },
  {
   "cell_type": "code",
   "execution_count": 64,
   "metadata": {
    "collapsed": false
   },
   "outputs": [],
   "source": [
    "!cp masterlist/submaster.ecsv.gz SAGADropbox/hosts/\n",
    "!cp masterlist/submaster_all.ecsv.gz SAGADropbox/hosts/"
   ]
  },
  {
   "cell_type": "code",
   "execution_count": 67,
   "metadata": {
    "collapsed": false
   },
   "outputs": [],
   "source": [
    "table = table.Table.read('masterlist/submaster.ecsv.gz', format='ascii.ecsv')"
   ]
  },
  {
   "cell_type": "markdown",
   "metadata": {},
   "source": [
    "# Appendix/consistency checks"
   ]
  },
  {
   "cell_type": "markdown",
   "metadata": {},
   "source": [
    "## Is the difference between vdist and z significant enough to worry about? "
   ]
  },
  {
   "cell_type": "code",
   "execution_count": 113,
   "metadata": {
    "collapsed": false
   },
   "outputs": [
    {
     "data": {
      "image/png": "[encoded data removed]",
      "text/plain": [
       "<matplotlib.figure.Figure at 0x17b124850>"
      ]
     },
     "metadata": {},
     "output_type": "display_data"
    }
   ],
   "source": [
    "z = (u.Quantity(submaster['vhelio'])/cnst.c).decompose()\n",
    "dmz = Distance(cosmology.WMAP9.luminosity_distance(z), allow_negative=True).distmod\n",
    "dmd = Distance(submaster['distance']).distmod\n",
    "dd = dmd - dmz\n",
    "\n",
    "ahist(dd[np.isfinite(dd)], bins='knuth', histtype='step', range=(-.0003, .001))\n",
    "plt.xlabel('$DM_{dist} - DM_{vhelio}$')\n",
    "plt.tight_layout()"
   ]
  },
  {
   "cell_type": "markdown",
   "metadata": {},
   "source": [
    "Looks like totally-ignorable"
   ]
  },
  {
   "cell_type": "markdown",
   "metadata": {},
   "source": [
    "##  Checking assumptions about extintion in NSA"
   ]
  },
  {
   "cell_type": "markdown",
   "metadata": {},
   "source": [
    "Is it true that the sfd_Rx values above give the same E(B-V) values for all 5 bands?  If yes, it means Blanton got them straight from the SFD paper"
   ]
  },
  {
   "cell_type": "code",
   "execution_count": 131,
   "metadata": {
    "collapsed": false
   },
   "outputs": [
    {
     "data": {
      "text/plain": [
       "array([[ 0.05472223,  0.05472223,  0.05472223,  0.05472223,  0.05472223],\n",
       "       [ 0.0521579 ,  0.05215789,  0.05215789,  0.05215789,  0.05215789],\n",
       "       [ 0.08770286,  0.08770285,  0.08770285,  0.08770286,  0.08770285],\n",
       "       ..., \n",
       "       [ 0.05120614,  0.05120613,  0.05120613,  0.05120613,  0.05120613],\n",
       "       [ 0.06441259,  0.06441259,  0.06441258,  0.06441258,  0.06441259],\n",
       "       [ 0.03289034,  0.03289033,  0.03289033,  0.03289033,  0.03289033]])"
      ]
     },
     "execution_count": 131,
     "metadata": {},
     "output_type": "execute_result"
    }
   ],
   "source": [
    "np.array(nsa['EXTINCTION'])[:,-5:]/sfd_Rx[:5]"
   ]
  },
  {
   "cell_type": "markdown",
   "metadata": {},
   "source": [
    "## Some consistency checks of kcorrections w/ what's already in NSA"
   ]
  },
  {
   "cell_type": "code",
   "execution_count": 21,
   "metadata": {
    "collapsed": false
   },
   "outputs": [],
   "source": [
    "maggies = np.array([submaster3[bandnm+'_flux'] for bandnm in 'FNugriz']).T\n",
    "ivars = np.array([submaster3[bandnm+'_flux_ivar'] for bandnm in 'FNugriz']).T\n",
    "zs = (u.Quantity(submaster3['vhelio'])/cnst.c).decompose()\n",
    "\n",
    "mag_kcorrs_sdss, flux_kcorrs_sdss = do_kcorrs(maggies, ivars, zs, FNugrizJHK_filters[:7])"
   ]
  },
  {
   "cell_type": "code",
   "execution_count": 22,
   "metadata": {
    "collapsed": false
   },
   "outputs": [],
   "source": [
    "maggies = np.array([submaster3[bandnm+'_flux'] for bandnm in 'JHK']).T\n",
    "ivars = np.array([submaster3[bandnm+'_flux_ivar'] for bandnm in 'JHK']).T\n",
    "zs = (u.Quantity(submaster3['vhelio'])/cnst.c).decompose()\n",
    "\n",
    "mag_kcorrs_2mass, flux_kcorrs_2mass = do_kcorrs(maggies, ivars, zs, FNugrizJHK_filters[-3:])"
   ]
  },
  {
   "cell_type": "code",
   "execution_count": 28,
   "metadata": {
    "collapsed": false
   },
   "outputs": [
    {
     "data": {
      "image/png": "[encoded data removed]",
      "text/plain": [
       "<matplotlib.figure.Figure at 0x159c54810>"
      ]
     },
     "metadata": {},
     "output_type": "display_data"
    }
   ],
   "source": [
    "plt.hist((submaster3['NSA_kcorrect_r'] - mag_kcorrs[:, 4])/submaster3['NSA_kcorrect_r'], \n",
    "         bins=100, range=(-3,3), histtype='step')\n",
    "plt.hist((submaster3['NSA_kcorrect_r'] - mag_kcorrs_sdss[:, 4])/submaster3['NSA_kcorrect_r'], \n",
    "         bins=100, range=(-3,3), histtype='step')\n",
    "plt.tight_layout()"
   ]
  },
  {
   "cell_type": "markdown",
   "metadata": {
    "collapsed": true
   },
   "source": [
    "Looks like yes, so that's a consistent way to get E(B-V)"
   ]
  },
  {
   "cell_type": "markdown",
   "metadata": {},
   "source": [
    "# Compare \"old\" and \"new\" masterlists "
   ]
  },
  {
   "cell_type": "code",
   "execution_count": 33,
   "metadata": {
    "collapsed": false
   },
   "outputs": [],
   "source": [
    "omaster = table.Table.read('masterlist/masterlist.csv')\n",
    "nmaster = table.Table.read('SAGADropbox/hosts/masterlist.csv', data_start=2)"
   ]
  },
  {
   "cell_type": "code",
   "execution_count": 34,
   "metadata": {
    "collapsed": false
   },
   "outputs": [
    {
     "data": {
      "text/html": [
       "&lt;Table masked=True length=18162&gt;\n",
       "<table id=\"table7252208144\" class=\"table-striped table-bordered table-condensed\">\n",
       "<thead><tr><th>RA</th><th>Dec</th><th>PGC#</th><th>NSAID</th><th>othername</th><th>vhelio</th><th>distance</th><th>r</th><th>i</th><th>z</th><th>I</th><th>K</th><th>K_err</th></tr></thead>\n",
       "<thead><tr><th>float64</th><th>float64</th><th>int64</th><th>int64</th><th>str28</th><th>float64</th><th>float64</th><th>float64</th><th>float64</th><th>float64</th><th>float64</th><th>float64</th><th>float64</th></tr></thead>\n",
       "<tr><td>148.335342599</td><td>0.62856766514</td><td>--</td><td>112</td><td>--</td><td>3934.57617188</td><td>61.5896568298</td><td>17.6233010978</td><td>17.3994298667</td><td>17.3146577568</td><td>--</td><td>13.702</td><td>0.213</td></tr>\n",
       "<tr><td>155.411800699</td><td>0.900255164384</td><td>--</td><td>464</td><td>--</td><td>700.781494141</td><td>12.9443502426</td><td>17.840913133</td><td>17.8592532438</td><td>17.9387725156</td><td>--</td><td>--</td><td>--</td></tr>\n",
       "<tr><td>168.044331058</td><td>-0.979240347779</td><td>--</td><td>858</td><td>--</td><td>3976.91381836</td><td>62.2746047974</td><td>16.1102515712</td><td>16.0128928676</td><td>15.9054061427</td><td>--</td><td>13.32</td><td>0.184</td></tr>\n",
       "<tr><td>167.573676285</td><td>-0.263963231217</td><td>--</td><td>878</td><td>--</td><td>3859.34301758</td><td>59.6892051697</td><td>18.3784213542</td><td>18.2978530406</td><td>18.1733050822</td><td>--</td><td>13.476</td><td>0.21</td></tr>\n",
       "<tr><td>176.53220815</td><td>-0.457941560233</td><td>--</td><td>1189</td><td>--</td><td>3915.22314453</td><td>61.1299934387</td><td>17.6042816183</td><td>17.49819298</td><td>17.3905078909</td><td>--</td><td>13.562</td><td>0.198</td></tr>\n",
       "<tr><td>175.827885017</td><td>0.212515965092</td><td>--</td><td>1212</td><td>--</td><td>63.835975647</td><td>2.15789842606</td><td>13.2552742387</td><td>13.1355556871</td><td>12.8214039231</td><td>--</td><td>--</td><td>--</td></tr>\n",
       "<tr><td>185.86139022</td><td>-0.411951305215</td><td>--</td><td>1398</td><td>--</td><td>-35.2995071411</td><td>1.56168830395</td><td>16.7008180487</td><td>16.6945266592</td><td>16.7462901938</td><td>--</td><td>--</td><td>--</td></tr>\n",
       "<tr><td>188.117462781</td><td>0.388846619893</td><td>--</td><td>1498</td><td>--</td><td>1514.17663574</td><td>23.8685760498</td><td>13.1889792025</td><td>12.9452524721</td><td>12.936596924</td><td>--</td><td>--</td><td>--</td></tr>\n",
       "<tr><td>189.18629219</td><td>0.563405647876</td><td>--</td><td>1539</td><td>--</td><td>3739.31225586</td><td>60.0032844543</td><td>18.3082506816</td><td>18.2208168666</td><td>18.1446879069</td><td>--</td><td>--</td><td>--</td></tr>\n",
       "<tr><td>189.127827282</td><td>0.22202937172</td><td>--</td><td>1540</td><td>--</td><td>3724.88232422</td><td>59.7492828369</td><td>16.2397681902</td><td>16.1614391039</td><td>16.0785190294</td><td>--</td><td>--</td><td>--</td></tr>\n",
       "<tr><td>...</td><td>...</td><td>...</td><td>...</td><td>...</td><td>...</td><td>...</td><td>...</td><td>...</td><td>...</td><td>...</td><td>...</td><td>...</td></tr>\n",
       "<tr><td>338.8252917</td><td>-45.5136667</td><td>--</td><td>--</td><td>g2235181-453048</td><td>3020.10922189</td><td>43.9110241265</td><td>--</td><td>--</td><td>--</td><td>--</td><td>12.596</td><td>0.146</td></tr>\n",
       "<tr><td>338.7727917</td><td>-46.4604722</td><td>--</td><td>--</td><td>g2235056-462738</td><td>936.551638792</td><td>13.5436535358</td><td>--</td><td>--</td><td>--</td><td>--</td><td>13.413</td><td>0.276</td></tr>\n",
       "<tr><td>336.2564167</td><td>-51.79575</td><td>--</td><td>--</td><td>g2225015-514745</td><td>1905.78065551</td><td>27.6294136391</td><td>--</td><td>--</td><td>--</td><td>--</td><td>12.343</td><td>0.115</td></tr>\n",
       "<tr><td>345.6082917</td><td>-50.0628889</td><td>--</td><td>--</td><td>g2302259-500346</td><td>3674.25636525</td><td>53.5121354687</td><td>--</td><td>--</td><td>--</td><td>--</td><td>--</td><td>--</td></tr>\n",
       "<tr><td>343.6907083</td><td>-49.8007222</td><td>--</td><td>--</td><td>g2254457-494802</td><td>3757.59866857</td><td>54.7376695699</td><td>--</td><td>--</td><td>--</td><td>--</td><td>12.217</td><td>0.119</td></tr>\n",
       "<tr><td>347.8368333</td><td>-43.4229444</td><td>--</td><td>--</td><td>g2311207-432523</td><td>1558.9207816</td><td>22.580401005</td><td>--</td><td>--</td><td>--</td><td>--</td><td>12.992</td><td>0.152</td></tr>\n",
       "<tr><td>336.8646667</td><td>-42.9764444</td><td>--</td><td>--</td><td>g2227276-425834</td><td>3137.92765789</td><td>45.6379196917</td><td>--</td><td>--</td><td>--</td><td>--</td><td>--</td><td>--</td></tr>\n",
       "<tr><td>339.1618333</td><td>-43.03375</td><td>--</td><td>--</td><td>g2236389-430201</td><td>2737.10514154</td><td>39.7672014637</td><td>--</td><td>--</td><td>--</td><td>--</td><td>--</td><td>--</td></tr>\n",
       "<tr><td>255.6157083</td><td>-24.36075</td><td>--</td><td>--</td><td>g1702281-242135</td><td>25.6241787502</td><td>0.369675390547</td><td>--</td><td>--</td><td>--</td><td>--</td><td>12.397</td><td>0.135</td></tr>\n",
       "<tr><td>256.3733333</td><td>-21.7145</td><td>--</td><td>--</td><td>g1705296-214252</td><td>27.7952577435</td><td>0.400999433819</td><td>--</td><td>--</td><td>--</td><td>--</td><td>12.647</td><td>0.134</td></tr>\n",
       "</table>"
      ],
      "text/plain": [
       "<Table masked=True length=18162>\n",
       "      RA            Dec        PGC# NSAID ...    I       K     K_err \n",
       "   float64        float64     int64 int64 ... float64 float64 float64\n",
       "------------- --------------- ----- ----- ... ------- ------- -------\n",
       "148.335342599   0.62856766514    --   112 ...      --  13.702   0.213\n",
       "155.411800699  0.900255164384    --   464 ...      --      --      --\n",
       "168.044331058 -0.979240347779    --   858 ...      --   13.32   0.184\n",
       "167.573676285 -0.263963231217    --   878 ...      --  13.476    0.21\n",
       " 176.53220815 -0.457941560233    --  1189 ...      --  13.562   0.198\n",
       "175.827885017  0.212515965092    --  1212 ...      --      --      --\n",
       " 185.86139022 -0.411951305215    --  1398 ...      --      --      --\n",
       "188.117462781  0.388846619893    --  1498 ...      --      --      --\n",
       " 189.18629219  0.563405647876    --  1539 ...      --      --      --\n",
       "189.127827282   0.22202937172    --  1540 ...      --      --      --\n",
       "          ...             ...   ...   ... ...     ...     ...     ...\n",
       "  338.8252917     -45.5136667    --    -- ...      --  12.596   0.146\n",
       "  338.7727917     -46.4604722    --    -- ...      --  13.413   0.276\n",
       "  336.2564167       -51.79575    --    -- ...      --  12.343   0.115\n",
       "  345.6082917     -50.0628889    --    -- ...      --      --      --\n",
       "  343.6907083     -49.8007222    --    -- ...      --  12.217   0.119\n",
       "  347.8368333     -43.4229444    --    -- ...      --  12.992   0.152\n",
       "  336.8646667     -42.9764444    --    -- ...      --      --      --\n",
       "  339.1618333       -43.03375    --    -- ...      --      --      --\n",
       "  255.6157083       -24.36075    --    -- ...      --  12.397   0.135\n",
       "  256.3733333        -21.7145    --    -- ...      --  12.647   0.134"
      ]
     },
     "execution_count": 34,
     "metadata": {},
     "output_type": "execute_result"
    }
   ],
   "source": [
    "omaster"
   ]
  },
  {
   "cell_type": "code",
   "execution_count": 35,
   "metadata": {
    "collapsed": false
   },
   "outputs": [
    {
     "data": {
      "text/html": [
       "&lt;Table masked=True length=17792&gt;\n",
       "<table id=\"table6643496080\" class=\"table-striped table-bordered table-condensed\">\n",
       "<thead><tr><th>RA</th><th>Dec</th><th>PGC#</th><th>NSAID</th><th>othername</th><th>vhelio</th><th>vhelio_err</th><th>distance</th><th>r</th><th>i</th><th>z</th><th>I</th><th>K</th></tr></thead>\n",
       "<thead><tr><th>float64</th><th>float64</th><th>int64</th><th>int64</th><th>str28</th><th>float64</th><th>float64</th><th>float64</th><th>float64</th><th>float64</th><th>float64</th><th>float64</th><th>float64</th></tr></thead>\n",
       "<tr><td>155.411800699</td><td>0.900255164384</td><td>--</td><td>464</td><td>--</td><td>897.302368164</td><td>190.000305176</td><td>12.9778122978</td><td>17.8465192987</td><td>17.8648594095</td><td>17.9443786814</td><td>--</td><td>--</td></tr>\n",
       "<tr><td>175.827885017</td><td>0.212515965092</td><td>--</td><td>1212</td><td>--</td><td>149.585525513</td><td>95.0001525879</td><td>2.16116345011</td><td>13.2585573178</td><td>13.1388387662</td><td>12.8246870023</td><td>--</td><td>--</td></tr>\n",
       "<tr><td>185.86139022</td><td>-0.411951305215</td><td>--</td><td>1398</td><td>--</td><td>108.256233215</td><td>70.0001144409</td><td>1.56371211242</td><td>16.7036302611</td><td>16.6973388716</td><td>16.7491024061</td><td>--</td><td>--</td></tr>\n",
       "<tr><td>170.835578635</td><td>-3.13086875479</td><td>--</td><td>2996</td><td>--</td><td>2707.15625</td><td>160.000244141</td><td>39.3325045658</td><td>17.4986403253</td><td>17.3694737222</td><td>17.1953413751</td><td>--</td><td>--</td></tr>\n",
       "<tr><td>179.301669033</td><td>-2.68650062571</td><td>--</td><td>3272</td><td>--</td><td>1536.73803711</td><td>142.500213623</td><td>22.2595972489</td><td>17.4616379866</td><td>17.5221982131</td><td>17.5233359465</td><td>--</td><td>--</td></tr>\n",
       "<tr><td>178.369363427</td><td>-3.22968533309</td><td>--</td><td>3276</td><td>--</td><td>1586.27331543</td><td>142.500213623</td><td>22.9809618134</td><td>17.0503131048</td><td>16.9707919256</td><td>16.9346038</td><td>--</td><td>--</td></tr>\n",
       "<tr><td>190.414321924</td><td>-1.44519645427</td><td>--</td><td>3526</td><td>--</td><td>146.170669556</td><td>87.5001296997</td><td>2.11179869823</td><td>7.73738497991</td><td>6.79136294621</td><td>7.93538874883</td><td>--</td><td>--</td></tr>\n",
       "<tr><td>191.530258224</td><td>-3.26911585606</td><td>--</td><td>3537</td><td>--</td><td>1156.52880859</td><td>172.500274658</td><td>16.7390133251</td><td>17.396934302</td><td>17.1693904711</td><td>17.0419090105</td><td>--</td><td>13.254</td></tr>\n",
       "<tr><td>190.497254971</td><td>-3.66736412411</td><td>--</td><td>3549</td><td>--</td><td>2826.93212891</td><td>147.500244141</td><td>41.0831285087</td><td>18.8093615845</td><td>19.398808606</td><td>19.3847695664</td><td>--</td><td>--</td></tr>\n",
       "<tr><td>236.309975571</td><td>0.772172002704</td><td>--</td><td>3818</td><td>--</td><td>3652.25463867</td><td>190.000305176</td><td>53.1902078059</td><td>14.8102440218</td><td>14.5454010347</td><td>14.4503769258</td><td>--</td><td>13.746</td></tr>\n",
       "<tr><td>...</td><td>...</td><td>...</td><td>...</td><td>...</td><td>...</td><td>...</td><td>...</td><td>...</td><td>...</td><td>...</td><td>...</td><td>...</td></tr>\n",
       "<tr><td>338.8252917</td><td>-45.5136667</td><td>--</td><td>--</td><td>g2235181-453048</td><td>3020.10922189</td><td>95.93358656</td><td>43.9110241265</td><td>--</td><td>--</td><td>--</td><td>--</td><td>12.596</td></tr>\n",
       "<tr><td>338.7727917</td><td>-46.4604722</td><td>--</td><td>--</td><td>g2235056-462738</td><td>936.551638792</td><td>95.93358656</td><td>13.5436535358</td><td>--</td><td>--</td><td>--</td><td>--</td><td>13.413</td></tr>\n",
       "<tr><td>336.2564167</td><td>-51.79575</td><td>--</td><td>--</td><td>g2225015-514745</td><td>1905.78065551</td><td>0.0</td><td>27.6294136391</td><td>--</td><td>--</td><td>--</td><td>--</td><td>12.343</td></tr>\n",
       "<tr><td>345.6082917</td><td>-50.0628889</td><td>--</td><td>--</td><td>g2302259-500346</td><td>3674.25636525</td><td>0.0</td><td>53.5121354687</td><td>--</td><td>--</td><td>--</td><td>--</td><td>--</td></tr>\n",
       "<tr><td>343.6907083</td><td>-49.8007222</td><td>--</td><td>--</td><td>g2254457-494802</td><td>3757.59866857</td><td>0.0</td><td>54.7376695699</td><td>--</td><td>--</td><td>--</td><td>--</td><td>12.217</td></tr>\n",
       "<tr><td>347.8368333</td><td>-43.4229444</td><td>--</td><td>--</td><td>g2311207-432523</td><td>1558.9207816</td><td>0.0</td><td>22.580401005</td><td>--</td><td>--</td><td>--</td><td>--</td><td>12.992</td></tr>\n",
       "<tr><td>336.8646667</td><td>-42.9764444</td><td>--</td><td>--</td><td>g2227276-425834</td><td>3137.92765789</td><td>0.0</td><td>45.6379196917</td><td>--</td><td>--</td><td>--</td><td>--</td><td>--</td></tr>\n",
       "<tr><td>339.1618333</td><td>-43.03375</td><td>--</td><td>--</td><td>g2236389-430201</td><td>2737.10514154</td><td>0.0</td><td>39.7672014637</td><td>--</td><td>--</td><td>--</td><td>--</td><td>--</td></tr>\n",
       "<tr><td>255.6157083</td><td>-24.36075</td><td>--</td><td>--</td><td>g1702281-242135</td><td>25.6241787502</td><td>0.0</td><td>0.369675390547</td><td>--</td><td>--</td><td>--</td><td>--</td><td>12.397</td></tr>\n",
       "<tr><td>256.3733333</td><td>-21.7145</td><td>--</td><td>--</td><td>g1705296-214252</td><td>27.7952577435</td><td>0.0</td><td>0.400999433819</td><td>--</td><td>--</td><td>--</td><td>--</td><td>12.647</td></tr>\n",
       "</table>"
      ],
      "text/plain": [
       "<Table masked=True length=17792>\n",
       "      RA            Dec        PGC# NSAID ...       z          I       K   \n",
       "   float64        float64     int64 int64 ...    float64    float64 float64\n",
       "------------- --------------- ----- ----- ... ------------- ------- -------\n",
       "155.411800699  0.900255164384    --   464 ... 17.9443786814      --      --\n",
       "175.827885017  0.212515965092    --  1212 ... 12.8246870023      --      --\n",
       " 185.86139022 -0.411951305215    --  1398 ... 16.7491024061      --      --\n",
       "170.835578635  -3.13086875479    --  2996 ... 17.1953413751      --      --\n",
       "179.301669033  -2.68650062571    --  3272 ... 17.5233359465      --      --\n",
       "178.369363427  -3.22968533309    --  3276 ...    16.9346038      --      --\n",
       "190.414321924  -1.44519645427    --  3526 ... 7.93538874883      --      --\n",
       "191.530258224  -3.26911585606    --  3537 ... 17.0419090105      --  13.254\n",
       "190.497254971  -3.66736412411    --  3549 ... 19.3847695664      --      --\n",
       "236.309975571  0.772172002704    --  3818 ... 14.4503769258      --  13.746\n",
       "          ...             ...   ...   ... ...           ...     ...     ...\n",
       "  338.8252917     -45.5136667    --    -- ...            --      --  12.596\n",
       "  338.7727917     -46.4604722    --    -- ...            --      --  13.413\n",
       "  336.2564167       -51.79575    --    -- ...            --      --  12.343\n",
       "  345.6082917     -50.0628889    --    -- ...            --      --      --\n",
       "  343.6907083     -49.8007222    --    -- ...            --      --  12.217\n",
       "  347.8368333     -43.4229444    --    -- ...            --      --  12.992\n",
       "  336.8646667     -42.9764444    --    -- ...            --      --      --\n",
       "  339.1618333       -43.03375    --    -- ...            --      --      --\n",
       "  255.6157083       -24.36075    --    -- ...            --      --  12.397\n",
       "  256.3733333        -21.7145    --    -- ...            --      --  12.647"
      ]
     },
     "execution_count": 35,
     "metadata": {},
     "output_type": "execute_result"
    }
   ],
   "source": [
    "nmaster"
   ]
  },
  {
   "cell_type": "code",
   "execution_count": 110,
   "metadata": {
    "collapsed": false
   },
   "outputs": [
    {
     "data": {
      "text/html": [
       "&lt;Table masked=True length=9326&gt;\n",
       "<table id=\"table6611032848\" class=\"table-striped table-bordered table-condensed\">\n",
       "<thead><tr><th>NSAID</th><th>vhelio_1</th><th>vhelio_2</th><th>distance_1</th><th>distance_2</th></tr></thead>\n",
       "<thead><tr><th>int64</th><th>float64</th><th>float64</th><th>float64</th><th>float64</th></tr></thead>\n",
       "<tr><td>2</td><td>1883.54833984</td><td>2051.19165039</td><td>29.5901851654</td><td>29.7514014598</td></tr>\n",
       "<tr><td>6</td><td>1223.25012207</td><td>1445.77697754</td><td>20.8565635681</td><td>20.9358094095</td></tr>\n",
       "<tr><td>7</td><td>1431.89880371</td><td>1640.21911621</td><td>23.6615562439</td><td>23.7665552411</td></tr>\n",
       "<tr><td>9</td><td>1809.7376709</td><td>1986.12316895</td><td>28.651517868</td><td>28.8038324065</td></tr>\n",
       "<tr><td>30</td><td>1975.47937012</td><td>2140.62915039</td><td>30.8803977966</td><td>31.0538478259</td></tr>\n",
       "<tr><td>32</td><td>1912.34655762</td><td>2082.18920898</td><td>30.0373516083</td><td>30.0</td></tr>\n",
       "<tr><td>43</td><td>1905.23034668</td><td>2077.90454102</td><td>29.9755420685</td><td>30.1404117443</td></tr>\n",
       "<tr><td>48</td><td>3334.94750977</td><td>3532.24023438</td><td>50.9555702209</td><td>51.4263961604</td></tr>\n",
       "<tr><td>59</td><td>1775.37475586</td><td>1958.51794434</td><td>28.253288269</td><td>36.5</td></tr>\n",
       "<tr><td>100</td><td>1896.79870605</td><td>2065.14794922</td><td>29.7915172577</td><td>29.9546420546</td></tr>\n",
       "<tr><td>...</td><td>...</td><td>...</td><td>...</td><td>...</td></tr>\n",
       "<tr><td>173005</td><td>-149.896240234</td><td>86.9670333862</td><td>1.25457346439</td><td>1.2559579698</td></tr>\n",
       "<tr><td>173014</td><td>0.0</td><td>124.374694824</td><td>1.79421079159</td><td>1.79671867785</td></tr>\n",
       "<tr><td>173074</td><td>0.0</td><td>137.279647827</td><td>1.98037576675</td><td>1.98327114477</td></tr>\n",
       "<tr><td>173100</td><td>0.0</td><td>150.989974976</td><td>2.17815899849</td><td>2.18146600463</td></tr>\n",
       "<tr><td>173104</td><td>0.0</td><td>149.351013184</td><td>2.15451550484</td><td>2.15777336775</td></tr>\n",
       "<tr><td>173199</td><td>659.543457031</td><td>740.891418457</td><td>10.6879892349</td><td>10.7090111649</td></tr>\n",
       "<tr><td>173235</td><td>2488.27734375</td><td>2426.02954102</td><td>34.9975395203</td><td>35.2236042412</td></tr>\n",
       "<tr><td>173237</td><td>569.605712891</td><td>652.154602051</td><td>9.40788555145</td><td>9.42624229288</td></tr>\n",
       "<tr><td>173289</td><td>89.9377441406</td><td>203.631942749</td><td>2.9375641346</td><td>2.94245203454</td></tr>\n",
       "<tr><td>173318</td><td>0.0</td><td>211.647628784</td><td>3.05319714546</td><td>3.05832583925</td></tr>\n",
       "</table>"
      ],
      "text/plain": [
       "<Table masked=True length=9326>\n",
       "NSAID     vhelio_1       vhelio_2     distance_1    distance_2 \n",
       "int64     float64        float64       float64       float64   \n",
       "------ -------------- ------------- ------------- -------------\n",
       "     2  1883.54833984 2051.19165039 29.5901851654 29.7514014598\n",
       "     6  1223.25012207 1445.77697754 20.8565635681 20.9358094095\n",
       "     7  1431.89880371 1640.21911621 23.6615562439 23.7665552411\n",
       "     9   1809.7376709 1986.12316895  28.651517868 28.8038324065\n",
       "    30  1975.47937012 2140.62915039 30.8803977966 31.0538478259\n",
       "    32  1912.34655762 2082.18920898 30.0373516083          30.0\n",
       "    43  1905.23034668 2077.90454102 29.9755420685 30.1404117443\n",
       "    48  3334.94750977 3532.24023438 50.9555702209 51.4263961604\n",
       "    59  1775.37475586 1958.51794434  28.253288269          36.5\n",
       "   100  1896.79870605 2065.14794922 29.7915172577 29.9546420546\n",
       "   ...            ...           ...           ...           ...\n",
       "173005 -149.896240234 86.9670333862 1.25457346439  1.2559579698\n",
       "173014            0.0 124.374694824 1.79421079159 1.79671867785\n",
       "173074            0.0 137.279647827 1.98037576675 1.98327114477\n",
       "173100            0.0 150.989974976 2.17815899849 2.18146600463\n",
       "173104            0.0 149.351013184 2.15451550484 2.15777336775\n",
       "173199  659.543457031 740.891418457 10.6879892349 10.7090111649\n",
       "173235  2488.27734375 2426.02954102 34.9975395203 35.2236042412\n",
       "173237  569.605712891 652.154602051 9.40788555145 9.42624229288\n",
       "173289  89.9377441406 203.631942749  2.9375641346 2.94245203454\n",
       "173318            0.0 211.647628784 3.05319714546 3.05832583925"
      ]
     },
     "execution_count": 110,
     "metadata": {},
     "output_type": "execute_result"
    }
   ],
   "source": [
    "omaster_nsa = omaster[~omaster['NSAID'].mask]\n",
    "nmaster_nsa = nmaster[~nmaster['NSAID'].mask]\n",
    "\n",
    "merged = table.join(omaster_nsa, nmaster_nsa, ['NSAID'], 'left')\n",
    "sub_merged = merged['NSAID', 'vhelio_1', 'vhelio_2', 'distance_1', 'distance_2']\n",
    "sub_merged"
   ]
  },
  {
   "cell_type": "code",
   "execution_count": 111,
   "metadata": {
    "collapsed": false
   },
   "outputs": [
    {
     "data": {
      "text/html": [
       "&lt;Table masked=True length=1&gt;\n",
       "<table id=\"table6611032144\" class=\"table-striped table-bordered table-condensed\">\n",
       "<thead><tr><th>NSAID</th><th>vhelio_1</th><th>vhelio_2</th><th>distance_1</th><th>distance_2</th></tr></thead>\n",
       "<thead><tr><th>int64</th><th>float64</th><th>float64</th><th>float64</th><th>float64</th></tr></thead>\n",
       "<tr><td>129461</td><td>2379.00366211</td><td>2379.42602539</td><td>34.3252449036</td><td>24.0</td></tr>\n",
       "</table>"
      ],
      "text/plain": [
       "<Table masked=True length=1>\n",
       "NSAID     vhelio_1      vhelio_2     distance_1  distance_2\n",
       "int64     float64       float64       float64     float64  \n",
       "------ ------------- ------------- ------------- ----------\n",
       "129461 2379.00366211 2379.42602539 34.3252449036       24.0"
      ]
     },
     "execution_count": 111,
     "metadata": {},
     "output_type": "execute_result"
    }
   ],
   "source": [
    "sub_merged[sub_merged['NSAID']==129461]"
   ]
  },
  {
   "cell_type": "code",
   "execution_count": 112,
   "metadata": {
    "collapsed": false
   },
   "outputs": [
    {
     "data": {
      "text/html": [
       "&lt;Table masked=True length=1&gt;\n",
       "<table id=\"table6611033744\" class=\"table-striped table-bordered table-condensed\">\n",
       "<thead><tr><th>NSAID</th><th>vhelio_1</th><th>vhelio_2</th><th>distance_1</th><th>distance_2</th></tr></thead>\n",
       "<thead><tr><th>int64</th><th>float64</th><th>float64</th><th>float64</th><th>float64</th></tr></thead>\n",
       "<tr><td>2</td><td>1883.54833984</td><td>2051.19165039</td><td>29.5901851654</td><td>29.7514014598</td></tr>\n",
       "</table>"
      ],
      "text/plain": [
       "<Table masked=True length=1>\n",
       "NSAID    vhelio_1      vhelio_2     distance_1    distance_2 \n",
       "int64    float64       float64       float64       float64   \n",
       "----- ------------- ------------- ------------- -------------\n",
       "    2 1883.54833984 2051.19165039 29.5901851654 29.7514014598"
      ]
     },
     "execution_count": 112,
     "metadata": {},
     "output_type": "execute_result"
    }
   ],
   "source": [
    "sub_merged[sub_merged['NSAID']==2]"
   ]
  },
  {
   "cell_type": "markdown",
   "metadata": {},
   "source": [
    "Wha? Why are only *some* of them different??"
   ]
  },
  {
   "cell_type": "markdown",
   "metadata": {},
   "source": [
    "# Understanding the Submaster/masterlist missing-K problem"
   ]
  },
  {
   "cell_type": "markdown",
   "metadata": {},
   "source": [
    "This section is getting at why the submaster list seems to have more objects with K-band (2MASS) detections than the masterlist.  Or more broadly, why there aren't K-band detections for *all* the targets, given that 2MASS is supposed to be complete for $M_K<-19.6$ and $cz < 3000$ km/s"
   ]
  },
  {
   "cell_type": "markdown",
   "metadata": {},
   "source": [
    "First we take a look at two sets of objects in the 2MASS and SDSS image browser: those from the sub-master that *have* a 2MASS match, and those that do not."
   ]
  },
  {
   "cell_type": "code",
   "execution_count": 25,
   "metadata": {
    "collapsed": true
   },
   "outputs": [],
   "source": [
    "def get_2mass_url(row, show_in_browser=True):\n",
    "    twomass_url_templ = 'http://irsa.ipac.caltech.edu/cgi-bin/2MASS/IM/nph-im_pos?type=at&ds=asky&POS={0[RA]:.6f}d+{0[Dec]:.6f}d&subsz=&date=&scan=&coadd=&key=&band=K'\n",
    "    url = twomass_url_templ.format(row)\n",
    "    \n",
    "    if show_in_browser:\n",
    "        import webbrowser\n",
    "        webbrowser.open(url)\n",
    "        \n",
    "    return url\n",
    "\n",
    "def get_sdss_url(row, show_in_browser=True):\n",
    "    sdss_url_templ = 'http://skyserver.sdss.org/dr13/en/tools/chart/navi.aspx?ra={0[RA]:.6f}&dec={0[Dec]:.6f}'\n",
    "    url = sdss_url_templ.format(row)\n",
    "    \n",
    "    if show_in_browser:\n",
    "        import webbrowser\n",
    "        webbrowser.open(url)\n",
    "        \n",
    "    return url"
   ]
  },
  {
   "cell_type": "code",
   "execution_count": 38,
   "metadata": {
    "collapsed": false
   },
   "outputs": [
    {
     "name": "stderr",
     "output_type": "stream",
     "text": [
      "/Users/erik/miniconda3/envs/saga/lib/python2.7/site-packages/ipykernel/__main__.py:1: RuntimeWarning: invalid value encountered in less\n",
      "  if __name__ == '__main__':\n"
     ]
    }
   ],
   "source": [
    "kvmsk = (submaster['M_K']<-19.6)&(submaster['vhelio']<3000)\n",
    "\n",
    "goodmatches = submaster[kvmsk&(submaster['dist_2MASS_NSA']<10*u.arcsec)]\n",
    "badmatches = submaster[kvmsk&(submaster['dist_2MASS_NSA']>60*u.arcsec)]"
   ]
  },
  {
   "cell_type": "code",
   "execution_count": 36,
   "metadata": {
    "collapsed": false
   },
   "outputs": [
    {
     "name": "stdout",
     "output_type": "stream",
     "text": [
      "NSAID 158036 othername NGC_3169\n",
      "2MASS: http://irsa.ipac.caltech.edu/cgi-bin/2MASS/IM/nph-im_pos?type=at&ds=asky&POS=153.562643d+3.466152d&subsz=&date=&scan=&coadd=&key=&band=K\n",
      "SDSS: http://skyserver.sdss.org/dr13/en/tools/chart/navi.aspx?ra=153.562643&dec=3.466152\n",
      "\n",
      "NSAID 133324 othername PGC012468\n",
      "2MASS: http://irsa.ipac.caltech.edu/cgi-bin/2MASS/IM/nph-im_pos?type=at&ds=asky&POS=50.042228d+41.351128d&subsz=&date=&scan=&coadd=&key=&band=K\n",
      "SDSS: http://skyserver.sdss.org/dr13/en/tools/chart/navi.aspx?ra=50.042228&dec=41.351128\n",
      "\n",
      "NSAID 76834 othername 09202038+6406106\n",
      "2MASS: http://irsa.ipac.caltech.edu/cgi-bin/2MASS/IM/nph-im_pos?type=at&ds=asky&POS=140.084882d+64.103066d&subsz=&date=&scan=&coadd=&key=&band=K\n",
      "SDSS: http://skyserver.sdss.org/dr13/en/tools/chart/navi.aspx?ra=140.084882&dec=64.103066\n",
      "\n"
     ]
    }
   ],
   "source": [
    "goodsubset = goodmatches[np.random.permutation(len(goodmatches))[:3]]\n",
    "for row in goodsubset:\n",
    "    print('NSAID', row['NSAID'], 'othername', row['othername'])\n",
    "    print('2MASS:', get_2mass_url(row))\n",
    "    print('SDSS:', get_sdss_url(row))\n",
    "    print('')"
   ]
  },
  {
   "cell_type": "markdown",
   "metadata": {},
   "source": [
    "As an aside... This last one (NSAID 76834/NGC 2805) is a fascinating-looking galaxy (apparently in the group Holmberg Holmberg 124)!  Is it ram-pressure stripping?  If so what's with the funky corner-like morphology? But I digress..."
   ]
  },
  {
   "cell_type": "code",
   "execution_count": 37,
   "metadata": {
    "collapsed": false
   },
   "outputs": [
    {
     "name": "stdout",
     "output_type": "stream",
     "text": [
      "NSAID 142657 othername PGC044474\n",
      "2MASS: http://irsa.ipac.caltech.edu/cgi-bin/2MASS/IM/nph-im_pos?type=at&ds=asky&POS=194.650140d+1.707247d&subsz=&date=&scan=&coadd=&key=&band=K\n",
      "SDSS: http://skyserver.sdss.org/dr13/en/tools/chart/navi.aspx?ra=194.650140&dec=1.707247\n",
      "\n",
      "NSAID 138996 othername PGC166109\n",
      "2MASS: http://irsa.ipac.caltech.edu/cgi-bin/2MASS/IM/nph-im_pos?type=at&ds=asky&POS=168.498318d+11.329474d&subsz=&date=&scan=&coadd=&key=&band=K\n",
      "SDSS: http://skyserver.sdss.org/dr13/en/tools/chart/navi.aspx?ra=168.498318&dec=11.329474\n",
      "\n",
      "NSAID 37364 othername PGC2592225\n",
      "2MASS: http://irsa.ipac.caltech.edu/cgi-bin/2MASS/IM/nph-im_pos?type=at&ds=asky&POS=170.024503d+59.595984d&subsz=&date=&scan=&coadd=&key=&band=K\n",
      "SDSS: http://skyserver.sdss.org/dr13/en/tools/chart/navi.aspx?ra=170.024503&dec=59.595984\n",
      "\n"
     ]
    }
   ],
   "source": [
    "badsubset = badmatches[np.random.permutation(len(badmatches))[:3]]\n",
    "for row in badsubset:\n",
    "    print('NSAID', row['NSAID'], 'othername', row['othername'])\n",
    "    print('2MASS:', get_2mass_url(row))\n",
    "    print('SDSS:', get_sdss_url(row))\n",
    "    print('')"
   ]
  },
  {
   "cell_type": "markdown",
   "metadata": {
    "collapsed": true
   },
   "source": [
    "Examination of these two subsets makes it clear that they are *not* the same subsets of objects: the \"no-match\" objects are all notably fainter/lower SB than the matched ones.\n",
    "\n",
    "So now lets check the subset that are bright in *r* in addition to being bright in K."
   ]
  },
  {
   "cell_type": "code",
   "execution_count": 40,
   "metadata": {
    "collapsed": false
   },
   "outputs": [
    {
     "name": "stderr",
     "output_type": "stream",
     "text": [
      "/Users/erik/miniconda3/envs/saga/lib/python2.7/site-packages/ipykernel/__main__.py:3: RuntimeWarning: invalid value encountered in less\n",
      "  app.launch_new_instance()\n"
     ]
    }
   ],
   "source": [
    "# 3.28 and 4.67 are K and r-band solar magnitudes, so here implicitly assuming the average galaxy has sun-like r-K color\n",
    "solar_rmK = 4.67 - 3.28\n",
    "rbrightmsk = (submaster['M_r'] - solar_rmK)<-19.6"
   ]
  },
  {
   "cell_type": "code",
   "execution_count": 70,
   "metadata": {
    "collapsed": false
   },
   "outputs": [
    {
     "name": "stdout",
     "output_type": "stream",
     "text": [
      "Fraction > 30 arcsec 0.0746835443038\n",
      "Fraction > 30 arcsec 0.291091593476\n"
     ]
    },
    {
     "data": {
      "image/png": "[encoded data removed]",
      "text/plain": [
       "<matplotlib.figure.Figure at 0x15d8ddc10>"
      ]
     },
     "metadata": {},
     "output_type": "display_data"
    },
    {
     "data": {
      "image/png": "[encoded data removed]",
      "text/plain": [
       "<matplotlib.figure.Figure at 0x15d963dd0>"
      ]
     },
     "metadata": {},
     "output_type": "display_data"
    }
   ],
   "source": [
    "plt.figure()\n",
    "_, b, _ = plt.hist(submaster[rbrightmsk&kvmsk]['dist_2MASS_NSA'], \n",
    "                   bins=100, range=(0,1400), log=True, \n",
    "                   histtype='step', label='with $r$ cut')\n",
    "plt.hist(submaster[kvmsk]['dist_2MASS_NSA'],  bins=b, log=True, \n",
    "                   histtype='step', label='without $r$ cut', \n",
    "                   color=list(plt.rcParams['axes.prop_cycle'])[2]['color'])\n",
    "plt.legend()\n",
    "plt.xlabel('distance of closest NSA/2MASS match [arcsec]')\n",
    "\n",
    "plt.figure()\n",
    "_, b, _ = plt.hist(submaster[rbrightmsk&kvmsk]['dist_2MASS_NSA'], \n",
    "                   bins=100, range=(0,60), log=True, \n",
    "                   histtype='step', label='with $r$ cut')\n",
    "plt.hist(submaster[kvmsk]['dist_2MASS_NSA'],  bins=b, log=True, \n",
    "                   histtype='step', label='without $r$ cut', \n",
    "                   color=list(plt.rcParams['axes.prop_cycle'])[2]['color'])\n",
    "plt.legend()\n",
    "plt.xlabel('distance of closest NSA/2MASS match [arcsec]')\n",
    "\n",
    "print('Fraction > 30 arcsec', np.sum(submaster[rbrightmsk&kvmsk]['dist_2MASS_NSA']>30*u.arcsec)/np.sum(rbrightmsk&kvmsk))\n",
    "print('Fraction > 30 arcsec', np.sum(submaster[kvmsk]['dist_2MASS_NSA']>30*u.arcsec)/np.sum(kvmsk))"
   ]
  },
  {
   "cell_type": "markdown",
   "metadata": {},
   "source": [
    "So what are those remaining 7%?"
   ]
  },
  {
   "cell_type": "code",
   "execution_count": 76,
   "metadata": {
    "collapsed": false
   },
   "outputs": [
    {
     "name": "stdout",
     "output_type": "stream",
     "text": [
      "NSAID 169804 othername UGC06717\n",
      "2MASS: http://irsa.ipac.caltech.edu/cgi-bin/2MASS/IM/nph-im_pos?type=at&ds=asky&POS=176.191046d+9.212555d&subsz=&date=&scan=&coadd=&key=&band=K\n",
      "SDSS: http://skyserver.sdss.org/dr13/en/tools/chart/navi.aspx?ra=176.191046&dec=9.212555\n",
      "\n",
      "NSAID 124893 othername \n",
      "2MASS: http://irsa.ipac.caltech.edu/cgi-bin/2MASS/IM/nph-im_pos?type=at&ds=asky&POS=114.278675d+65.610897d&subsz=&date=&scan=&coadd=&key=&band=K\n",
      "SDSS: http://skyserver.sdss.org/dr13/en/tools/chart/navi.aspx?ra=114.278675&dec=65.610897\n",
      "\n",
      "NSAID 149474 othername PGC1077281\n",
      "2MASS: http://irsa.ipac.caltech.edu/cgi-bin/2MASS/IM/nph-im_pos?type=at&ds=asky&POS=329.567842d+-3.058465d&subsz=&date=&scan=&coadd=&key=&band=K\n",
      "SDSS: http://skyserver.sdss.org/dr13/en/tools/chart/navi.aspx?ra=329.567842&dec=-3.058465\n",
      "\n",
      "NSAID 134208 othername PGC017304\n",
      "2MASS: http://irsa.ipac.caltech.edu/cgi-bin/2MASS/IM/nph-im_pos?type=at&ds=asky&POS=81.788625d+-6.119133d&subsz=&date=&scan=&coadd=&key=&band=K\n",
      "SDSS: http://skyserver.sdss.org/dr13/en/tools/chart/navi.aspx?ra=81.788625&dec=-6.119133\n",
      "\n",
      "NSAID 23964 othername \n",
      "2MASS: http://irsa.ipac.caltech.edu/cgi-bin/2MASS/IM/nph-im_pos?type=at&ds=asky&POS=40.691597d+-0.023605d&subsz=&date=&scan=&coadd=&key=&band=K\n",
      "SDSS: http://skyserver.sdss.org/dr13/en/tools/chart/navi.aspx?ra=40.691597&dec=-0.023605\n",
      "\n"
     ]
    }
   ],
   "source": [
    "boundaryobjs = submaster[(submaster['dist_2MASS_NSA']>30*u.arcsec)&rbrightmsk&kvmsk]\n",
    "boundarysubset = boundaryobjs[np.random.permutation(len(boundaryobjs))[:5]]\n",
    "for row in boundarysubset:\n",
    "    print('NSAID', row['NSAID'], 'othername', row['othername'])\n",
    "    print('2MASS:', get_2mass_url(row))\n",
    "    print('SDSS:', get_sdss_url(row))\n",
    "    print('')"
   ]
  },
  {
   "cell_type": "markdown",
   "metadata": {},
   "source": [
    "All either artifacts due to nearby bright stars/shredding, or faint things close to the edge of detectability."
   ]
  },
  {
   "cell_type": "markdown",
   "metadata": {},
   "source": [
    "Conclusion: the reason why there are a large number of \"missing\" NSA/2MASS matches is that if there's not a K-band magnitude, our K-band magnitude cut did not remove them!  If we instead cut on r-band ~= to the expected K-band cut, \"missing\" objects go away.  So the alternative aproach we've taken of saying \"if it has K *and* meets the cut, it's in the sample\" is OK, because those that don't have a K-band magnitude are almost invariably faint (or a small fraction of artifacts)."
   ]
  }
 ],
 "metadata": {
  "anaconda-cloud": {},
  "kernelspec": {
   "display_name": "Python [default]",
   "language": "python",
   "name": "python2"
  },
  "language_info": {
   "codemirror_mode": {
    "name": "ipython",
    "version": 2
   },
   "file_extension": ".py",
   "mimetype": "text/x-python",
   "name": "python",
   "nbconvert_exporter": "python",
   "pygments_lexer": "ipython2",
   "version": "2.7.12"
  }
 },
 "nbformat": 4,
 "nbformat_minor": 0
}
