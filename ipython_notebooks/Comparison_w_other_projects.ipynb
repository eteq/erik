{
 "cells": [
  {
   "cell_type": "code",
   "execution_count": 1,
   "metadata": {
    "collapsed": true
   },
   "outputs": [],
   "source": [
    "# This changes the current directory to the base saga directory - make sure to run this first!\n",
    "# This is necessary to be able to import the py files and use the right directories,\n",
    "# while keeping all the notebooks in their own directory.\n",
    "import os\n",
    "import sys\n",
    "import numpy as np\n",
    "\n",
    "if 'saga_base_dir' not in locals():\n",
    "    saga_base_dir = os.path.abspath('..')\n",
    "if saga_base_dir not in sys.path:\n",
    "    os.chdir(saga_base_dir)"
   ]
  },
  {
   "cell_type": "code",
   "execution_count": 18,
   "metadata": {
    "collapsed": true
   },
   "outputs": [],
   "source": [
    "%matplotlib inline\n",
    "from matplotlib import pyplot as plt\n",
    "from matplotlib import rcParams\n",
    "\n",
    "rcParams['image.interpolation'] = 'none'\n",
    "rcParams['figure.figsize'] = (16, 10)"
   ]
  },
  {
   "cell_type": "code",
   "execution_count": 3,
   "metadata": {
    "collapsed": true
   },
   "outputs": [],
   "source": [
    "import targeting"
   ]
  },
  {
   "cell_type": "code",
   "execution_count": 4,
   "metadata": {
    "collapsed": true
   },
   "outputs": [],
   "source": [
    "from astropy import units as u\n",
    "from astropy.table import Table\n",
    "from astropy.coordinates import SkyCoord, Latitude, Longitude"
   ]
  },
  {
   "cell_type": "markdown",
   "metadata": {},
   "source": [
    "# [Karachentsev+ 15](http://arxiv.org/abs/1511.00955)"
   ]
  },
  {
   "cell_type": "code",
   "execution_count": 5,
   "metadata": {
    "collapsed": false
   },
   "outputs": [
    {
     "data": {
      "text/html": [
       "&lt;Table masked=True length=26&gt;\n",
       "<table id=\"table4499684240\">\n",
       "<thead><tr><th>Name</th><th>RA(2000.0)Dec</th><th>T</th><th>B</th><th>a</th><th>SB</th><th>rp</th><th>Rp</th><th>M_B</th><th>A</th><th>comments</th></tr></thead>\n",
       "<thead><tr><th>string80</th><th>string120</th><th>string48</th><th>float64</th><th>float64</th><th>float64</th><th>float64</th><th>int64</th><th>float64</th><th>float64</th><th>string64</th></tr></thead>\n",
       "<tr><td>NGC672dwA</td><td>014719.1+271516</td><td>Ir-L</td><td>19.8</td><td>0.26</td><td>25.2</td><td>13.1</td><td>27</td><td>-9.8</td><td>0.54</td><td>GALEX</td></tr>\n",
       "<tr><td>NGC672dwC</td><td>014720.4+274324</td><td>Sph-L</td><td>18.7</td><td>0.4</td><td>25.0</td><td>18.9</td><td>39</td><td>-10.9</td><td>0.83</td><td>--</td></tr>\n",
       "<tr><td>NGC891dwA</td><td>022112.4+422150</td><td>Tr-L</td><td>17.9</td><td>0.76</td><td>25.7</td><td>14.9</td><td>43</td><td>-12.3</td><td>2.2</td><td>[TT09]25</td></tr>\n",
       "<tr><td>NGC891dwB</td><td>022254.7+424245</td><td>Ir-VL</td><td>18.9</td><td>1.16</td><td>27.6</td><td>22.4</td><td>65</td><td>-11.3</td><td>3.36</td><td>[TT09]30</td></tr>\n",
       "<tr><td>NGC1156dw1</td><td>030018.2+251456</td><td>Ir-L</td><td>19.6</td><td>0.38</td><td>25.2</td><td>8.1</td><td>18</td><td>-10.8</td><td>0.86</td><td>--</td></tr>\n",
       "<tr><td>NGC1156dw2</td><td>030028.0+251817</td><td>Ir-VL</td><td>20.0</td><td>0.38</td><td>25.6</td><td>11.1</td><td>25</td><td>-10.4</td><td>0.86</td><td>GALEX</td></tr>\n",
       "<tr><td>NGC2683dw1</td><td>085326.8+331820</td><td>Ir-L</td><td>19.0</td><td>0.4</td><td>25.5</td><td>11.7</td><td>32</td><td>-11.0</td><td>1.09</td><td>GALEX</td></tr>\n",
       "<tr><td>NGC2683dw2</td><td>085420.5+331458</td><td>Sph-VL</td><td>19.6</td><td>0.4</td><td>26.1</td><td>23.1</td><td>63</td><td>-10.4</td><td>1.09</td><td>--</td></tr>\n",
       "<tr><td>NGC3344dw1</td><td>104244.0+250130</td><td>Ir-VL</td><td>20.0</td><td>0.3</td><td>26.0</td><td>11.9</td><td>34</td><td>-10.1</td><td>0.86</td><td>--</td></tr>\n",
       "<tr><td>NGC4258dwC</td><td>121026.8+464449</td><td>Sph-L</td><td>19.0</td><td>0.27</td><td>24.7</td><td>93.3</td><td>212</td><td>-10.5</td><td>0.61</td><td>--</td></tr>\n",
       "<tr><td>...</td><td>...</td><td>...</td><td>...</td><td>...</td><td>...</td><td>...</td><td>...</td><td>...</td><td>...</td><td>...</td></tr>\n",
       "<tr><td>M101DF3</td><td>140305.7+533656</td><td>Sph-VL</td><td>17.9</td><td>1.0</td><td>26.5</td><td>44.1</td><td>95</td><td>-11.5</td><td>2.15</td><td>--</td></tr>\n",
       "<tr><td>M101DF1</td><td>140345.0+535640</td><td>Ir-L</td><td>18.9</td><td>0.47</td><td>25.8</td><td>23.9</td><td>51</td><td>-10.5</td><td>1.01</td><td>--</td></tr>\n",
       "<tr><td>M101dwD</td><td>140424.6+531619</td><td>Sph-VL</td><td>19.2</td><td>0.38</td><td>25.7</td><td>65.6</td><td>141</td><td>-10.2</td><td>0.81</td><td>--</td></tr>\n",
       "<tr><td>M101dwC</td><td>140518.0+545356</td><td>Tr-VL</td><td>20.2</td><td>0.3</td><td>26.2</td><td>37.6</td><td>81</td><td>-9.2</td><td>0.64</td><td>--</td></tr>\n",
       "<tr><td>M101DF7</td><td>140548.3+550758</td><td>Sph-XL</td><td>20.4</td><td>0.67</td><td>28.1</td><td>52.0</td><td>117</td><td>-9.0</td><td>1.44</td><td>--</td></tr>\n",
       "<tr><td>M101dwA</td><td>140650.2+534432</td><td>Sph-L</td><td>19.2</td><td>0.36</td><td>25.6</td><td>45.3</td><td>97</td><td>-10.2</td><td>0.77</td><td>--</td></tr>\n",
       "<tr><td>M101DF4</td><td>140733.4+544236</td><td>Ir-XL</td><td>18.8</td><td>0.93</td><td>27.2</td><td>43.5</td><td>93</td><td>-10.6</td><td>1.99</td><td>--</td></tr>\n",
       "<tr><td>M101DF6</td><td>140819.0+551124</td><td>Ir-XL</td><td>20.1</td><td>0.73</td><td>28.0</td><td>67.2</td><td>144</td><td>-9.3</td><td>1.57</td><td>--</td></tr>\n",
       "<tr><td>M101DF2</td><td>140837.5+541931</td><td>Sph-L</td><td>19.8</td><td>0.33</td><td>26.0</td><td>47.1</td><td>101</td><td>-9.6</td><td>0.71</td><td>--</td></tr>\n",
       "<tr><td>M101dwB</td><td>140843.1+550957</td><td>Sph-VL</td><td>20.1</td><td>0.3</td><td>26.1</td><td>68.0</td><td>146</td><td>-9.3</td><td>0.64</td><td>--</td></tr>\n",
       "</table>"
      ],
      "text/plain": [
       "<Table masked=True length=26>\n",
       "   Name     RA(2000.0)Dec     T        B    ...   Rp    M_B      A    comments\n",
       " string80     string120    string48 float64 ... int64 float64 float64 string64\n",
       "---------- --------------- -------- ------- ... ----- ------- ------- --------\n",
       " NGC672dwA 014719.1+271516     Ir-L    19.8 ...    27    -9.8    0.54    GALEX\n",
       " NGC672dwC 014720.4+274324    Sph-L    18.7 ...    39   -10.9    0.83       --\n",
       " NGC891dwA 022112.4+422150     Tr-L    17.9 ...    43   -12.3     2.2 [TT09]25\n",
       " NGC891dwB 022254.7+424245    Ir-VL    18.9 ...    65   -11.3    3.36 [TT09]30\n",
       "NGC1156dw1 030018.2+251456     Ir-L    19.6 ...    18   -10.8    0.86       --\n",
       "NGC1156dw2 030028.0+251817    Ir-VL    20.0 ...    25   -10.4    0.86    GALEX\n",
       "NGC2683dw1 085326.8+331820     Ir-L    19.0 ...    32   -11.0    1.09    GALEX\n",
       "NGC2683dw2 085420.5+331458   Sph-VL    19.6 ...    63   -10.4    1.09       --\n",
       "NGC3344dw1 104244.0+250130    Ir-VL    20.0 ...    34   -10.1    0.86       --\n",
       "NGC4258dwC 121026.8+464449    Sph-L    19.0 ...   212   -10.5    0.61       --\n",
       "       ...             ...      ...     ... ...   ...     ...     ...      ...\n",
       "   M101DF3 140305.7+533656   Sph-VL    17.9 ...    95   -11.5    2.15       --\n",
       "   M101DF1 140345.0+535640     Ir-L    18.9 ...    51   -10.5    1.01       --\n",
       "   M101dwD 140424.6+531619   Sph-VL    19.2 ...   141   -10.2    0.81       --\n",
       "   M101dwC 140518.0+545356    Tr-VL    20.2 ...    81    -9.2    0.64       --\n",
       "   M101DF7 140548.3+550758   Sph-XL    20.4 ...   117    -9.0    1.44       --\n",
       "   M101dwA 140650.2+534432    Sph-L    19.2 ...    97   -10.2    0.77       --\n",
       "   M101DF4 140733.4+544236    Ir-XL    18.8 ...    93   -10.6    1.99       --\n",
       "   M101DF6 140819.0+551124    Ir-XL    20.1 ...   144    -9.3    1.57       --\n",
       "   M101DF2 140837.5+541931    Sph-L    19.8 ...   101    -9.6    0.71       --\n",
       "   M101dwB 140843.1+550957   Sph-VL    20.1 ...   146    -9.3    0.64       --"
      ]
     },
     "execution_count": 5,
     "metadata": {},
     "output_type": "execute_result"
    }
   ],
   "source": [
    "k15_tab2_colnames = 'Name,RA(2000.0)Dec,T,B,a,SB,rp,Rp,M_B,A,comments'.split(',')\n",
    "k15_tab2_colunits = [None, None, None, u.mag, u.arcmin, None, u.arcmin, u.kpc, u.mag, u.kpc,None]\n",
    "k15_tab2_data = r\"\"\"\n",
    "\\begin{table}\n",
    "\\begin{tabular}{ccccccccccc}\n",
    "NGC\\,672\\,dwB   & 014711.1+274100 & Ir-VL  &  21.0 &  0.20 & 25.8 & 17.7~~ & 37  & $-8.6$  & 0.42 & \\\\\n",
    "NGC\\,672\\,dwA   & 014719.1+271516 & Ir-L   &  19.8 &  0.26 & 25.2 & 13.1~~ & 27  & $-9.8$  & 0.54 & GALEX\\\\\n",
    "NGC\\,672\\,dwC   & 014720.4+274324 & Sph-L  &  18.7 &  0.40 & 25.0 & 18.9~~ & 39  & $-10.9$ & 0.83 & \\\\\n",
    "NGC\\,891\\,dwA   & 022112.4+422150 & Tr-L   &  17.9 &  0.76 & 25.7 & 14.9~~ & 43  & $-12.3$ & 2.20 & [TT09]25\\\\\n",
    "NGC\\,891\\,dwB   & 022254.7+424245 & Ir-VL  &  18.9 &  1.16 & 27.6 & 22.4~~ & 65  & $-11.3$ & 3.36 & [TT09]30\\\\\n",
    "NGC\\,1156\\,dw1  & 030018.2+251456 & Ir-L   &  19.6 &  0.38 & 25.2 & 8.1~~  & 18  & $-10.8$ & 0.86 & \\\\\n",
    "NGC\\,1156\\,dw2  & 030028.0+251817 & Ir-VL  &  20.0 &  0.38 & 25.6 & 11.1~~ & 25  & $-10.4$ & 0.86 & GALEX\\\\\n",
    "NGC\\,2683\\,dw1  & 085326.8+331820 & Ir-L   &  19.0 &  0.40 & 25.5 & 11.7~~ & 32  & $-11.0$ & 1.09 & GALEX\\\\\n",
    "NGC\\,2683\\,dw2  & 085420.5+331458 & Sph-VL &  19.6 &  0.40 & 26.1 & 23.1~~ & 63  & $-10.4$ & 1.09 & \\\\\n",
    "NGC\\,3344\\,dw1  & 104244.0+250130 & Ir-VL  &  20.0 &  0.30 & 26.0 & 11.9~~ & 34  & $-10.1$ & 0.86 & \\\\\n",
    "NGC\\,4258\\,dwC  & 121026.8+464449 & Sph-L  &  19.0 &  0.27 & 24.7 & 93.3~~ & 212 & $-10.5$ & 0.61 & \\\\\n",
    "NGC\\,4258\\,dwA  & 121551.0+473256 & Ir-L   &  19.0 &  0.43 & 25.7 & 34.8~~ & 79  & $-10.5$ & 0.98 & \\\\\n",
    "NGC\\,4258\\,dwB  & 122410.9+470723 & Sph-L  &  18.3 &  0.45 & 25.1 & 54.6~~ & 124 & $-11.2$ & 1.02 & BTS134\\\\\n",
    "NGC\\,4631\\,dw1  & 124057.0+324733 & Ir-VL  &  16.1 &  2.20 & 26.4 & 21.3~~ & 46  & $-13.3$ & 4.72 & GALEX\\\\\n",
    "NGC\\,4631\\,dw2  & 124206.8+323715 & Ir-VL  &  18.5 &  0.90 & 26.8 & 4.8~~  & 10  & $-10.9$ & 1.93 & GALEX\\\\\n",
    "NGC\\,4625\\,A    & 124211.0+411510 & Tr-L   &  18.6 &  0.45 & 25.4 & 9.4~~  & 22  & $-11.0$ & 1.03 & \\\\\n",
    "NGC\\,4631\\,dw3  & 124252.5+322735 & Sph-VL &  19.7 &  0.60 & 27.1 & 10.6~~ & 23  & $-9.7$  & 1.29 & \\\\\n",
    "M\\,101\\,DF3     & 140305.7+533656 & Sph-VL &  17.9 &  1.00 & 26.5 & 44.1~~ & 95  & $-11.5$ & 2.15 & \\\\\n",
    "M\\,101\\,DF1     & 140345.0+535640 & Ir-L   &  18.9 &  0.47 & 25.8 & 23.9~~ & 51  & $-10.5$ & 1.01 & \\\\\n",
    "M\\,101\\,dwD     & 140424.6+531619 & Sph-VL &  19.2 &  0.38 & 25.7 & 65.6~~ & 141 & $-10.2$ & 0.81 & \\\\\n",
    "M\\,101\\,dwC     & 140518.0+545356 & Tr-VL  &  20.2 &  0.30 & 26.2 & 37.6~~ & 81  & $-9.2$  & 0.64 & \\\\\n",
    "M\\,101\\,DF7     & 140548.3+550758 & Sph-XL &  20.4 &  0.67 & 28.1 & 52.0~~ & 117 & $-9.0$  & 1.44 & \\\\\n",
    "M\\,101\\,dwA     & 140650.2+534432 & Sph-L  &  19.2 &  0.36 & 25.6 & 45.3~~ & 97  & $-10.2$ & 0.77 & \\\\\n",
    "M\\,101\\,DF4     & 140733.4+544236 & Ir-XL  &  18.8 &  0.93 & 27.2 & 43.5~~ & 93  & $-10.6$ & 1.99 & \\\\\n",
    "M\\,101\\,DF6     & 140819.0+551124 & Ir-XL  &  20.1 &  0.73 & 28.0 & 67.2~~ & 144 & $-9.3$  & 1.57 & \\\\\n",
    "M\\,101\\,DF2     & 140837.5+541931 & Sph-L  &  19.8 &  0.33 & 26.0 & 47.1~~ & 101 & $-9.6$  & 0.71 & \\\\\n",
    "M\\,101\\,dwB     & 140843.1+550957 & Sph-VL &  20.1 &  0.30 & 26.1 & 68.0~~ & 146 & $-9.3$  & 0.64 & \\\\\n",
    "\\end{tabular}\n",
    "\\end{table}\n",
    "\"\"\".replace('~','').replace('\\,', '').replace('$', '')\n",
    "\n",
    "k15_tab2 = Table.read(k15_tab2_data.split('\\n'), format='latex', names=k15_tab2_colnames, guess=False)\n",
    "k15_tab2"
   ]
  },
  {
   "cell_type": "code",
   "execution_count": 6,
   "metadata": {
    "collapsed": true
   },
   "outputs": [],
   "source": [
    "k15_dw_radecs = [radec.split('+') for radec in k15_tab2['RA(2000.0)Dec']]\n",
    "k15_dw_ras = [Longitude((int(s[:2]), int(s[2:4]), float(s[4:8])), unit=u.hourangle) for s in k15_tab2['RA(2000.0)Dec']]\n",
    "k15_dw_decs = [Latitude((int(s[8:11]), int(s[11:13]), float(s[13:])), unit=u.deg) for s in k15_tab2['RA(2000.0)Dec']]\n",
    "k15_dw_scs = SkyCoord(k15_dw_ras, k15_dw_decs)"
   ]
  },
  {
   "cell_type": "code",
   "execution_count": 7,
   "metadata": {
    "collapsed": false
   },
   "outputs": [
    {
     "data": {
      "text/plain": [
       "'name ra dec\\nNGC672dwA_B=19.8_SB=25.2 26.8295833333 27.2544444444\\nNGC672dwC_B=18.7_SB=25.0 26.835 27.7233333333\\nNGC891dwA_B=17.9_SB=25.7 35.3016666667 42.3638888889\\nNGC891dwB_B=18.9_SB=27.6 35.7279166667 42.7125\\nNGC1156dw1_B=19.6_SB=25.2 45.0758333333 25.2488888889\\nNGC1156dw2_B=20.0_SB=25.6 45.1166666667 25.3047222222\\nNGC2683dw1_B=19.0_SB=25.5 133.361666667 33.3055555556\\nNGC2683dw2_B=19.6_SB=26.1 133.585416667 33.2494444444\\nNGC3344dw1_B=20.0_SB=26.0 160.683333333 25.025\\nNGC4258dwC_B=19.0_SB=24.7 182.611666667 46.7469444444\\nNGC4258dwA_B=19.0_SB=25.7 183.9625 47.5488888889\\nNGC4258dwB_B=18.3_SB=25.1 186.045416667 47.1230555556\\nNGC4631dw1_B=16.1_SB=26.4 190.2375 32.7925\\nNGC4631dw2_B=18.5_SB=26.8 190.528333333 32.6208333333\\nNGC4625A_B=18.6_SB=25.4 190.545833333 41.2527777778\\nNGC4631dw3_B=19.7_SB=27.1 190.71875 32.4597222222\\nM101DF3_B=17.9_SB=26.5 210.77375 53.6155555556\\nM101DF1_B=18.9_SB=25.8 210.9375 53.9444444444\\nM101dwD_B=19.2_SB=25.7 211.1025 53.2719444444\\nM101dwC_B=20.2_SB=26.2 211.325 54.8988888889\\nM101DF7_B=20.4_SB=28.1 211.45125 55.1327777778\\nM101dwA_B=19.2_SB=25.6 211.709166667 53.7422222222\\nM101DF4_B=18.8_SB=27.2 211.889166667 54.71\\nM101DF6_B=20.1_SB=28.0 212.079166667 55.19\\nM101DF2_B=19.8_SB=26.0 212.15625 54.3252777778\\nM101dwB_B=20.1_SB=26.1 212.179583333 55.1658333333'"
      ]
     },
     "execution_count": 7,
     "metadata": {},
     "output_type": "execute_result"
    }
   ],
   "source": [
    "targeting.sampled_imagelist(k15_dw_scs, None, 100, names=['{}_B={}_SB={}'.format(e['Name'], e['B'], e['SB']) for e in k15_tab2])"
   ]
  },
  {
   "cell_type": "markdown",
   "metadata": {
    "collapsed": true
   },
   "source": [
    "### See if they are in ML "
   ]
  },
  {
   "cell_type": "code",
   "execution_count": 8,
   "metadata": {
    "collapsed": false
   },
   "outputs": [
    {
     "data": {
      "text/html": [
       "&lt;Table masked=False length=4950412&gt;\n",
       "<table id=\"table4489340112\">\n",
       "<thead><tr><th>OBJID</th><th>RA</th><th>DEC</th><th>DERED_R</th><th>PROBABILITY_CLASS_1</th><th>RESCALED_PROBABILITY_CLASS_1</th><th>BEST_GUESS_CLASS</th></tr></thead>\n",
       "<thead><tr><th>int64</th><th>float64</th><th>float64</th><th>float64</th><th>float64</th><th>float64</th><th>int64</th></tr></thead>\n",
       "<tr><td>1237645941824356440</td><td>40.2877964113</td><td>-0.735647060949</td><td>16.7594</td><td>0.00157168316197</td><td>0.000345859198981</td><td>0</td></tr>\n",
       "<tr><td>1237645941824356442</td><td>40.2745834514</td><td>-0.733014063478</td><td>17.4514</td><td>0.000372493836691</td><td>8.19307625291e-05</td><td>0</td></tr>\n",
       "<tr><td>1237645941824356481</td><td>40.2721052363</td><td>-0.642510253204</td><td>16.7911</td><td>0.00178514575454</td><td>0.000358794024809</td><td>0</td></tr>\n",
       "<tr><td>1237645941824356483</td><td>40.2712777717</td><td>-0.640725293001</td><td>20.9894</td><td>0.000240454811286</td><td>5.13915737065e-05</td><td>0</td></tr>\n",
       "<tr><td>1237645941824356484</td><td>40.2783697699</td><td>-0.641212507445</td><td>21.2884</td><td>0.000270864809902</td><td>5.63874521068e-05</td><td>0</td></tr>\n",
       "<tr><td>1237645941824356485</td><td>40.2826647047</td><td>-0.642892947061</td><td>22.4926</td><td>3.61806080935e-05</td><td>0.0</td><td>0</td></tr>\n",
       "<tr><td>1237645941824356497</td><td>40.2846730128</td><td>-0.817180215799</td><td>14.8628</td><td>0.000363130559728</td><td>8.19307625291e-05</td><td>0</td></tr>\n",
       "<tr><td>1237645941824356500</td><td>40.2881452154</td><td>-0.805045508948</td><td>14.3826</td><td>0.000488674982738</td><td>8.85746681048e-05</td><td>0</td></tr>\n",
       "<tr><td>1237645941824356501</td><td>40.2854134086</td><td>-0.804100473432</td><td>20.2454</td><td>0.000763301466982</td><td>0.000162326503484</td><td>0</td></tr>\n",
       "<tr><td>1237645941824356502</td><td>40.2864321267</td><td>-0.805524974161</td><td>21.6114</td><td>0.00112622517556</td><td>0.000245193599203</td><td>0</td></tr>\n",
       "<tr><td>...</td><td>...</td><td>...</td><td>...</td><td>...</td><td>...</td><td>...</td></tr>\n",
       "<tr><td>1237680297281717338</td><td>1.44329895651</td><td>21.639464378</td><td>22.7104</td><td>7.69491488335e-05</td><td>9.35409943407e-06</td><td>0</td></tr>\n",
       "<tr><td>1237680297281717341</td><td>1.44473602957</td><td>21.6251122949</td><td>22.8814</td><td>0.000102578487033</td><td>1.57161308307e-05</td><td>0</td></tr>\n",
       "<tr><td>1237680297281717352</td><td>1.46325993193</td><td>21.6345533376</td><td>22.5971</td><td>0.000201346396488</td><td>5.13915737065e-05</td><td>0</td></tr>\n",
       "<tr><td>1237680297281717353</td><td>1.46328344943</td><td>21.6459562987</td><td>22.9092</td><td>0.000126362198611</td><td>2.22024770719e-05</td><td>0</td></tr>\n",
       "<tr><td>1237680297281717359</td><td>1.48027999691</td><td>21.6351392954</td><td>22.5478</td><td>0.000118350728652</td><td>1.57161308307e-05</td><td>0</td></tr>\n",
       "<tr><td>1237680297281781900</td><td>1.49852208005</td><td>21.6317283243</td><td>18.1139</td><td>0.000565032531386</td><td>0.000113162017511</td><td>0</td></tr>\n",
       "<tr><td>1237680297281782214</td><td>1.49733088907</td><td>21.6239545317</td><td>21.4033</td><td>0.00030164923924</td><td>5.77062812064e-05</td><td>0</td></tr>\n",
       "<tr><td>1237680297281782227</td><td>1.50438437016</td><td>21.6262871241</td><td>20.4481</td><td>0.000228708137754</td><td>5.13915737065e-05</td><td>0</td></tr>\n",
       "<tr><td>1237680297281782271</td><td>1.5148542967</td><td>21.6269989748</td><td>22.1251</td><td>0.000109343616726</td><td>1.57161308307e-05</td><td>0</td></tr>\n",
       "<tr><td>1237680297281782683</td><td>1.50898644093</td><td>21.6253266286</td><td>22.5263</td><td>0.000104181047584</td><td>1.57161308307e-05</td><td>0</td></tr>\n",
       "</table>"
      ],
      "text/plain": [
       "<Table masked=False length=4950412>\n",
       "       OBJID              RA      ... BEST_GUESS_CLASS\n",
       "       int64           float64    ...      int64      \n",
       "------------------- ------------- ... ----------------\n",
       "1237645941824356440 40.2877964113 ...                0\n",
       "1237645941824356442 40.2745834514 ...                0\n",
       "1237645941824356481 40.2721052363 ...                0\n",
       "1237645941824356483 40.2712777717 ...                0\n",
       "1237645941824356484 40.2783697699 ...                0\n",
       "1237645941824356485 40.2826647047 ...                0\n",
       "1237645941824356497 40.2846730128 ...                0\n",
       "1237645941824356500 40.2881452154 ...                0\n",
       "1237645941824356501 40.2854134086 ...                0\n",
       "1237645941824356502 40.2864321267 ...                0\n",
       "                ...           ... ...              ...\n",
       "1237680297281717338 1.44329895651 ...                0\n",
       "1237680297281717341 1.44473602957 ...                0\n",
       "1237680297281717352 1.46325993193 ...                0\n",
       "1237680297281717353 1.46328344943 ...                0\n",
       "1237680297281717359 1.48027999691 ...                0\n",
       "1237680297281781900 1.49852208005 ...                0\n",
       "1237680297281782214 1.49733088907 ...                0\n",
       "1237680297281782227 1.50438437016 ...                0\n",
       "1237680297281782271  1.5148542967 ...                0\n",
       "1237680297281782683 1.50898644093 ...                0"
      ]
     },
     "execution_count": 8,
     "metadata": {},
     "output_type": "execute_result"
    }
   ],
   "source": [
    "mlpred = Table.read('catalogs/SAGA.ALL.objid_rescaledrobs_pred.Oct28_SDSS_nopreclean.csv.fits.gz')\n",
    "mlpred"
   ]
  },
  {
   "cell_type": "code",
   "execution_count": 24,
   "metadata": {
    "collapsed": false
   },
   "outputs": [
    {
     "data": {
      "text/plain": [
       "(array([ 2.,  2.,  3.,  0.,  3.,  3.,  0.,  0.,  0.,  0.,  0.,  0.,  0.,\n",
       "         0.,  0.,  0.,  0.,  0.,  0.,  0.,  0.,  0.,  0.,  0.,  1.,  0.,\n",
       "         0.,  0.,  1.,  0.,  0.,  0.,  0.,  3.,  2.,  2.,  0.,  0.,  0.,\n",
       "         0.,  0.,  0.,  0.,  0.,  0.,  0.,  0.,  0.,  0.,  0.,  0.,  0.,\n",
       "         0.,  0.,  0.,  0.,  0.,  0.,  0.,  0.,  0.,  0.,  0.,  0.,  0.,\n",
       "         0.,  0.,  0.,  0.,  0.,  0.,  0.,  0.,  0.,  0.,  2.,  0.,  0.,\n",
       "         0.,  0.,  0.,  0.,  0.,  0.,  0.,  0.,  0.,  0.,  0.,  0.,  0.,\n",
       "         0.,  0.,  0.,  0.,  0.,  0.,  0.,  1.,  1.]),\n",
       " array([  1.87624035,   2.13026146,   2.38428258,   2.6383037 ,\n",
       "          2.89232482,   3.14634594,   3.40036706,   3.65438818,\n",
       "          3.9084093 ,   4.16243042,   4.41645154,   4.67047266,\n",
       "          4.92449378,   5.1785149 ,   5.43253602,   5.68655713,\n",
       "          5.94057825,   6.19459937,   6.44862049,   6.70264161,\n",
       "          6.95666273,   7.21068385,   7.46470497,   7.71872609,\n",
       "          7.97274721,   8.22676833,   8.48078945,   8.73481057,\n",
       "          8.98883169,   9.2428528 ,   9.49687392,   9.75089504,\n",
       "         10.00491616,  10.25893728,  10.5129584 ,  10.76697952,\n",
       "         11.02100064,  11.27502176,  11.52904288,  11.783064  ,\n",
       "         12.03708512,  12.29110624,  12.54512736,  12.79914847,\n",
       "         13.05316959,  13.30719071,  13.56121183,  13.81523295,\n",
       "         14.06925407,  14.32327519,  14.57729631,  14.83131743,\n",
       "         15.08533855,  15.33935967,  15.59338079,  15.84740191,\n",
       "         16.10142303,  16.35544414,  16.60946526,  16.86348638,\n",
       "         17.1175075 ,  17.37152862,  17.62554974,  17.87957086,\n",
       "         18.13359198,  18.3876131 ,  18.64163422,  18.89565534,\n",
       "         19.14967646,  19.40369758,  19.6577187 ,  19.91173981,\n",
       "         20.16576093,  20.41978205,  20.67380317,  20.92782429,\n",
       "         21.18184541,  21.43586653,  21.68988765,  21.94390877,\n",
       "         22.19792989,  22.45195101,  22.70597213,  22.95999325,\n",
       "         23.21401437,  23.46803548,  23.7220566 ,  23.97607772,\n",
       "         24.23009884,  24.48411996,  24.73814108,  24.9921622 ,\n",
       "         25.24618332,  25.50020444,  25.75422556,  26.00824668,\n",
       "         26.2622678 ,  26.51628892,  26.77031004,  27.02433115,  27.27835227]),\n",
       " <a list of 100 Patch objects>)"
      ]
     },
     "execution_count": 24,
     "metadata": {},
     "output_type": "execute_result"
    },
    {
     "data": {
      "image/png": "[encoded data removed]",
      "text/plain": [
       "<matplotlib.figure.Figure at 0x112ff8d50>"
      ]
     },
     "metadata": {},
     "output_type": "display_data"
    }
   ],
   "source": [
    "mlsc = SkyCoord(mlpred['RA'], mlpred['DEC'], unit=u.deg)\n",
    "idx, d2d, _ = k15_dw_scs.match_to_catalog_sky(mlsc)\n",
    "plt.hist(d2d.deg,bins=100)"
   ]
  },
  {
   "cell_type": "markdown",
   "metadata": {},
   "source": [
    "Looks like the mlpred file only has saga hosts"
   ]
  },
  {
   "cell_type": "code",
   "execution_count": null,
   "metadata": {
    "collapsed": true
   },
   "outputs": [],
   "source": []
  }
 ],
 "metadata": {
  "kernelspec": {
   "display_name": "Python 2",
   "language": "python",
   "name": "python2"
  },
  "language_info": {
   "codemirror_mode": {
    "name": "ipython",
    "version": 2
   },
   "file_extension": ".py",
   "mimetype": "text/x-python",
   "name": "python",
   "nbconvert_exporter": "python",
   "pygments_lexer": "ipython2",
   "version": "2.7.10"
  }
 },
 "nbformat": 4,
 "nbformat_minor": 0
}
