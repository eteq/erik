{
 "metadata": {
  "name": "",
  "signature": "sha256:b0c7b187a042f86813909d4e7e8c39991563d3f3265bb080a73a199d6872f323"
 },
 "nbformat": 3,
 "nbformat_minor": 0,
 "worksheets": [
  {
   "cells": [
    {
     "cell_type": "code",
     "collapsed": false,
     "input": [
      "# This changes the current directory to the base saga directory - make sure to run this first!\n",
      "# This is necessary to be able to import the py files and use the right directories,\n",
      "# while keeping all the notebooks in their own directory.\n",
      "import os\n",
      "import sys\n",
      "\n",
      "import numpy as np\n",
      "\n",
      "if 'saga_base_dir' not in locals():\n",
      "    saga_base_dir = os.path.abspath('..')\n",
      "if saga_base_dir not in sys.path:\n",
      "    os.chdir(saga_base_dir)"
     ],
     "language": "python",
     "metadata": {},
     "outputs": [],
     "prompt_number": 8
    },
    {
     "cell_type": "code",
     "collapsed": false,
     "input": [
      "%matplotlib inline\n",
      "from matplotlib import pyplot as plt\n",
      "from matplotlib import rcParams\n",
      "\n",
      "rcParams['figure.figsize'] = (16, 10)\n",
      "rcParams['image.interpolation'] = 'none'\n",
      "rcParams['image.origin'] = 'lower'"
     ],
     "language": "python",
     "metadata": {},
     "outputs": [],
     "prompt_number": 9
    },
    {
     "cell_type": "code",
     "collapsed": false,
     "input": [
      "from __future__ import print_function, division\n",
      "\n",
      "from astropy import units as u\n",
      "from astropy import table\n",
      "from astropy.coordinates import *\n",
      "\n",
      "import targeting"
     ],
     "language": "python",
     "metadata": {},
     "outputs": [],
     "prompt_number": 53
    },
    {
     "cell_type": "code",
     "collapsed": false,
     "input": [
      "t = table.Table.read('allgoodspec_apr26_15.fits.gz')\n",
      "smsk = (t['SATS']==1)&(t['REMOVE']==-1)\n",
      "tsats = t[smsk]\n",
      "tsats.colnames"
     ],
     "language": "python",
     "metadata": {},
     "outputs": [
      {
       "metadata": {},
       "output_type": "pyout",
       "prompt_number": 15,
       "text": [
        "['objID',\n",
        " 'ra',\n",
        " 'dec',\n",
        " 'phot_sg',\n",
        " 'flags',\n",
        " 'specObjID',\n",
        " 'u',\n",
        " 'g',\n",
        " 'r',\n",
        " 'i',\n",
        " 'z',\n",
        " 'u_err',\n",
        " 'g_err',\n",
        " 'r_err',\n",
        " 'i_err',\n",
        " 'z_err',\n",
        " 'Au',\n",
        " 'Ag',\n",
        " 'Ar',\n",
        " 'Ai',\n",
        " 'Az',\n",
        " 'fibermag_r',\n",
        " 'fiber2mag_r',\n",
        " 'expRad_r',\n",
        " 'sb_exp_r',\n",
        " 'petroR50_r',\n",
        " 'petroR90_r',\n",
        " 'petroMag_r',\n",
        " 'sb_petro_r',\n",
        " 'J',\n",
        " 'Jerr',\n",
        " 'H',\n",
        " 'Herr',\n",
        " 'K',\n",
        " 'Kerr',\n",
        " 'w1',\n",
        " 'w1err',\n",
        " 'w2',\n",
        " 'w2err',\n",
        " 'spec_z',\n",
        " 'spec_z_err',\n",
        " 'spec_z_warn',\n",
        " 'photoz',\n",
        " 'photoz_err',\n",
        " 'HOST_RA',\n",
        " 'HOST_DEC',\n",
        " 'HOST_DIST',\n",
        " 'HOST_VHOST',\n",
        " 'HOST_MK',\n",
        " 'HOST_NSAID',\n",
        " 'RHOST_ARCM',\n",
        " 'RHOST_KPC',\n",
        " 'OBJ_NSAID',\n",
        " 'SATS',\n",
        " 'TELNAME',\n",
        " 'MASKNAME',\n",
        " 'ZQUALITY',\n",
        " 'SPEC_REPEAT',\n",
        " 'REMOVE']"
       ]
      }
     ],
     "prompt_number": 15
    },
    {
     "cell_type": "code",
     "collapsed": false,
     "input": [
      "def get_sats_and_names(hostdct, tsats):\n",
      "    msk = np.array([hn in (hostdct.keys()) for hn in tsats['HOST_NSAID']])\n",
      "    nms = []\n",
      "    cntd = dict([(hn, 0) for hn in hostdct])\n",
      "    for hn in tsats['HOST_NSAID'][msk]:\n",
      "        cntd[hn] += 1\n",
      "        nms.append(hostdct[hn] + str(cntd[hn]))\n",
      "    return msk, np.array(nms)"
     ],
     "language": "python",
     "metadata": {},
     "outputs": [],
     "prompt_number": 30
    },
    {
     "cell_type": "code",
     "collapsed": false,
     "input": [
      "evehost = {33446:'StarTrek',85746:'MobyDick',140594:'Alice', 165536:'Dune'}\n",
      "evesats, evenms = get_sats_and_names(evehost, tsats)\n",
      "evesc = SkyCoord(tsats['ra'][evesats], tsats['dec'][evesats], unit=u.deg)"
     ],
     "language": "python",
     "metadata": {},
     "outputs": [],
     "prompt_number": 31
    },
    {
     "cell_type": "code",
     "collapsed": false,
     "input": [
      "mornhost = {61945:'AnaK',147100:'odyssey'}\n",
      "mornsats, mornnms = get_sats_and_names(mornhost, tsats)\n",
      "mornsc = SkyCoord(tsats['ra'][mornsats], tsats['dec'][mornsats], unit=u.deg)"
     ],
     "language": "python",
     "metadata": {},
     "outputs": [],
     "prompt_number": 32
    },
    {
     "cell_type": "code",
     "collapsed": false,
     "input": [
      "targeting.sampled_imagelist(mornsc, None, names=mornnms)"
     ],
     "language": "python",
     "metadata": {},
     "outputs": [
      {
       "metadata": {},
       "output_type": "pyout",
       "prompt_number": 33,
       "text": [
        "'name ra dec\\nodyssey1 248.393225697 19.9461400824\\nodyssey2 247.877387573 20.0936248407\\nodyssey3 247.84002995 20.1840758135\\nodyssey4 248.152079686 19.8102591366\\nodyssey5 248.051339587 19.6957396993\\nodyssey6 248.195368592 19.8670126788\\nodyssey7 248.16342684 19.792207594\\nodyssey8 248.58079685 19.7200349023\\nAnaK1 354.350599991 0.390802769345\\nAnaK2 354.195229736 0.62342377148'"
       ]
      }
     ],
     "prompt_number": 33
    },
    {
     "cell_type": "code",
     "collapsed": false,
     "input": [
      "targeting.sampled_imagelist(evesc, None, names=evenms)"
     ],
     "language": "python",
     "metadata": {},
     "outputs": [
      {
       "metadata": {},
       "output_type": "pyout",
       "prompt_number": 34,
       "text": [
        "'name ra dec\\nAlice1 180.29544216 -1.2976838319\\nDune1 221.316115836 -0.159937082521\\nStarTrek1 123.649897556 36.4343553979\\nStarTrek2 123.243173206 36.198359966\\nMobyDick1 149.687168865 32.7202654623'"
       ]
      }
     ],
     "prompt_number": 34
    },
    {
     "cell_type": "code",
     "collapsed": false,
     "input": [
      "#197+17.1        07 29 09.40 +20 54 45.90 2000.0\n",
      "def make_starlist(fnout, tab, names):\n",
      "    with open(fnout, 'w') as f:\n",
      "        for e, nm in zip(tab, names):\n",
      "            spaces = 16 - len(nm)\n",
      "            if spaces >= 0:\n",
      "                f.write(nm)\n",
      "                f.write(' '*(spaces+1))\n",
      "            else:\n",
      "                f.write(nm[:16])\n",
      "            f.write(SkyCoord(e['ra'], e['dec'], unit=u.deg).to_string('hmsdms', sep=' '))\n",
      "            f.write(' 2000.0')\n",
      "            f.write('\\n')\n",
      "            \n",
      "            "
     ],
     "language": "python",
     "metadata": {},
     "outputs": [],
     "prompt_number": 85
    },
    {
     "cell_type": "code",
     "collapsed": false,
     "input": [
      "make_starlist('/Users/erik/Desktop/evestarlist', tsats[evesats], evenms)\n",
      "make_starlist('/Users/erik/Desktop/mornstarlist', tsats[mornsats], mornnms)"
     ],
     "language": "python",
     "metadata": {},
     "outputs": [],
     "prompt_number": 86
    },
    {
     "cell_type": "code",
     "collapsed": false,
     "input": [
      "!cat /Users/erik/Desktop/evestarlist"
     ],
     "language": "python",
     "metadata": {},
     "outputs": [
      {
       "output_type": "stream",
       "stream": "stdout",
       "text": [
        "Alice1           12 01 10.9061 -01 17 51.6618\r\n",
        "Dune1            14 45 15.8678 -00 09 35.7735\r\n",
        "StarTrek1        08 14 35.9754 +36 26 03.6794\r\n",
        "StarTrek2        08 12 58.3616 +36 11 54.0959\r\n",
        "MobyDick1        09 58 44.9205 +32 43 12.9557\r\n"
       ]
      }
     ],
     "prompt_number": 46
    },
    {
     "cell_type": "code",
     "collapsed": false,
     "input": [
      "!cat /Users/erik/Desktop/mornstarlist"
     ],
     "language": "python",
     "metadata": {},
     "outputs": [
      {
       "output_type": "stream",
       "stream": "stdout",
       "text": [
        "odyssey1         16 33 34.3742 +19 56 46.1043\r\n",
        "odyssey2         16 31 30.573 +20 05 37.0494\r\n",
        "odyssey3         16 31 21.6072 +20 11 02.6729\r\n",
        "odyssey4         16 32 36.4991 +19 48 36.9329\r\n",
        "odyssey5         16 32 12.3215 +19 41 44.6629\r\n",
        "odyssey6         16 32 46.8885 +19 52 01.2456\r\n",
        "odyssey7         16 32 39.2224 +19 47 31.9473\r\n",
        "odyssey8         16 34 19.3912 +19 43 12.1256\r\n",
        "AnaK1            23 37 24.144 +00 23 26.89\r\n",
        "AnaK2            23 36 46.8551 +00 37 24.3256\r\n"
       ]
      }
     ],
     "prompt_number": 47
    },
    {
     "cell_type": "heading",
     "level": 2,
     "metadata": {},
     "source": [
      "Offsets"
     ]
    },
    {
     "cell_type": "code",
     "collapsed": false,
     "input": [
      "def offset_info(fromsc, tosc, starlistname=False):\n",
      "    dra = (tosc.ra-fromsc.ra)*np.cos((tosc.dec + fromsc.dec)/2)\n",
      "    ddec = tosc.dec-fromsc.dec\n",
      "    eorw = 'E' if dra>0 else 'W'\n",
      "    nors = 'N' if ddec>0 else 'S'\n",
      "    if starlistname:\n",
      "        return '{0:16} {1} 2000.0 raoffset={2} decoffset={3}'.format(starlistname[:16], fromsc.to_string('hmsdms', sep=' '), dra.arcsec, ddec.arcsec)\n",
      "    else:\n",
      "        return '{0} {1} {2} {3}'.format(dra.arcsec, eorw, ddec.arcsec, nors)"
     ],
     "language": "python",
     "metadata": {},
     "outputs": [],
     "prompt_number": 76
    },
    {
     "cell_type": "code",
     "collapsed": false,
     "input": [
      "#Target: #Alice1\n",
      "star = SkyCoord(180.25811*u.deg, -1.33095*u.deg)\n",
      "targ = SkyCoord(180.29501*u.deg, -1.29751*u.deg)\n",
      "\n",
      "print('Target:', targ)\n",
      "#print('PA12:', t1.position_angle(t2).deg, 'or', t1.position_angle(t2).deg-360)\n",
      "#print('PA21:', t2.position_angle(t1).deg, 'or', t2.position_angle(t1).deg-360)\n",
      "print('PA =',30.98)\n",
      "print('Offsets:', offset_info(star, targ))\n",
      "print('SLentry:', offset_info(star, targ, 'Alice1_star'))"
     ],
     "language": "python",
     "metadata": {},
     "outputs": [
      {
       "output_type": "stream",
       "stream": "stdout",
       "text": [
        "Target: <SkyCoord (ICRS): (ra, dec) in deg\n",
        "    (180.29501, -1.29751)>\n",
        "PA = 30.98\n",
        "Offsets: 132.805055622 E 120.384 N\n",
        "SLentry: Alice1_star      12 01 01.9464 -01 19 51.42 2000.0 raoffset=132.805055622 decoffset=120.384\n"
       ]
      }
     ],
     "prompt_number": 77
    },
    {
     "cell_type": "code",
     "collapsed": false,
     "input": [
      "#Target: #Dune1\n",
      "star = SkyCoord(221.41462*u.deg, -0.16425*u.deg)\n",
      "targ = SkyCoord(221.31587*u.deg, -0.15953*u.deg)\n",
      "\n",
      "print('Target:', targ)\n",
      "#print('PA12:', t1.position_angle(t2).deg, 'or', t1.position_angle(t2).deg-360)\n",
      "#print('PA21:', t2.position_angle(t1).deg, 'or', t2.position_angle(t1).deg-360)\n",
      "print('PA =',140.2)\n",
      "print('Offsets:', offset_info(star, targ))\n",
      "print('SLentry:', offset_info(star, targ, 'Dune1_star'))"
     ],
     "language": "python",
     "metadata": {},
     "outputs": [
      {
       "output_type": "stream",
       "stream": "stdout",
       "text": [
        "Target: <SkyCoord (ICRS): (ra, dec) in deg\n",
        "    (221.31587, -0.15953)>\n",
        "PA = 140.2\n",
        "Offsets: -355.498580929 W 16.992 N\n",
        "SLentry: Dune1_star       14 45 39.5088 -00 09 51.3 2000.0 raoffset=-355.498580929 decoffset=16.992\n"
       ]
      }
     ],
     "prompt_number": 81
    },
    {
     "cell_type": "code",
     "collapsed": false,
     "input": [
      "#Target: #ST1\n",
      "star = SkyCoord(123.63623*u.deg, 36.44702*u.deg)\n",
      "targ = SkyCoord(123.64988*u.deg, 36.43433*u.deg)\n",
      "\n",
      "print('Target:', targ)\n",
      "#print('PA12:', t1.position_angle(t2).deg, 'or', t1.position_angle(t2).deg-360)\n",
      "#print('PA21:', t2.position_angle(t1).deg, 'or', t2.position_angle(t1).deg-360)\n",
      "print('PA =',122.7)\n",
      "print('Offsets:', offset_info(star, targ))\n",
      "print('SLentry:', offset_info(star, targ, 'StarTrek1_star'))"
     ],
     "language": "python",
     "metadata": {},
     "outputs": [
      {
       "output_type": "stream",
       "stream": "stdout",
       "text": [
        "Target: <SkyCoord (ICRS): (ra, dec) in deg\n",
        "    (123.64988, 36.43433)>\n",
        "PA = 122.7\n",
        "Offsets: 39.5317697547 E -45.684 S\n",
        "SLentry: StarTrek1_star   08 14 32.6952 +36 26 49.272 2000.0 raoffset=39.5317697547 decoffset=-45.684\n"
       ]
      }
     ],
     "prompt_number": 80
    },
    {
     "cell_type": "code",
     "collapsed": false,
     "input": [
      "#Target: #ST2\n",
      "star = SkyCoord(123.19385*u.deg, 36.19421*u.deg)\n",
      "targ = SkyCoord(123.24365*u.deg, 36.19831*u.deg)\n",
      "\n",
      "print('Target:', targ)\n",
      "#print('PA12:', t1.position_angle(t2).deg, 'or', t1.position_angle(t2).deg-360)\n",
      "#print('PA21:', t2.position_angle(t1).deg, 'or', t2.position_angle(t1).deg-360)\n",
      "print('PA =',79.8)\n",
      "print('Offsets:', offset_info(star, targ))\n",
      "print('SLentry:', offset_info(star, targ, 'StarTrek2_star'))"
     ],
     "language": "python",
     "metadata": {},
     "outputs": [
      {
       "output_type": "stream",
       "stream": "stdout",
       "text": [
        "Target: <SkyCoord (ICRS): (ra, dec) in deg\n",
        "    (123.19385, 36.19421)>\n",
        "PA = 79.8\n",
        "Offsets: -144.67875605 W -14.76 S\n",
        "SLentry: StarTrek2_star   08 12 58.476 +36 11 53.916 2000.0 raoffset=-144.67875605 decoffset=-14.76\n"
       ]
      }
     ],
     "prompt_number": 82
    },
    {
     "cell_type": "code",
     "collapsed": false,
     "input": [
      "#Target: MobyDick1\n",
      "star = SkyCoord(149.71499*u.deg, 32.73056*u.deg)\n",
      "targ = SkyCoord(149.68717*u.deg, 32.72027*u.deg)\n",
      "\n",
      "print('Target:', targ)\n",
      "#print('PA12:', t1.position_angle(t2).deg, 'or', t1.position_angle(t2).deg-360)\n",
      "#print('PA21:', t2.position_angle(t1).deg, 'or', t2.position_angle(t1).deg-360)\n",
      "print('PA =',134.8)\n",
      "print('Offsets:', offset_info(star, targ))\n",
      "print('SLentry:', offset_info(star, targ, 'MobyDick1_star'))"
     ],
     "language": "python",
     "metadata": {},
     "outputs": [
      {
       "output_type": "stream",
       "stream": "stdout",
       "text": [
        "Target: <SkyCoord (ICRS): (ra, dec) in deg\n",
        "    (149.68717, 32.72027)>\n",
        "PA = 134.8\n",
        "Offsets: -84.2549793847 W -37.044 S\n",
        "SLentry: MobyDick1_star   09 58 51.5976 +32 43 50.016 2000.0 raoffset=-84.2549793847 decoffset=-37.044\n"
       ]
      }
     ],
     "prompt_number": 83
    },
    {
     "cell_type": "code",
     "collapsed": false,
     "input": [
      "#Target: odyssey4\n",
      "star = SkyCoord(248.17742*u.deg, 19.81614*u.deg)\n",
      "targ = SkyCoord(248.15208*u.deg, 19.81026*u.deg)\n",
      "pa = 154.0\n",
      "\n",
      "print('Target:', targ)\n",
      "#print('PA12:', t1.position_angle(t2).deg, 'or', t1.position_angle(t2).deg-360)\n",
      "#print('PA21:', t2.position_angle(t1).deg, 'or', t2.position_angle(t1).deg-360)\n",
      "print('PA =',pa)\n",
      "print('Offsets:', offset_info(star, targ))\n",
      "print('SLentry:', offset_info(star, targ, 'odyssey4_star'))"
     ],
     "language": "python",
     "metadata": {},
     "outputs": [
      {
       "output_type": "stream",
       "stream": "stdout",
       "text": [
        "Target: <SkyCoord (ICRS): (ra, dec) in deg\n",
        "    (248.15208, 19.81026)>\n",
        "PA = 154.0\n",
        "Offsets: -85.8237859035 W -21.168 S\n",
        "SLentry: odyssey4_star    16 32 42.5808 +19 48 58.104 2000.0 raoffset=-85.8237859035 decoffset=-21.168\n"
       ]
      }
     ],
     "prompt_number": 93
    },
    {
     "cell_type": "code",
     "collapsed": false,
     "input": [
      "#Target: AnaK1\n",
      "star = SkyCoord(354.31458*u.deg, 0.37003*u.deg)\n",
      "targ = SkyCoord(354.35063*u.deg, 0.39077*u.deg)\n",
      "pa = 140.7\n",
      "\n",
      "print('Target:', targ)\n",
      "#print('PA12:', t1.position_angle(t2).deg, 'or', t1.position_angle(t2).deg-360)\n",
      "#print('PA21:', t2.position_angle(t1).deg, 'or', t2.position_angle(t1).deg-360)\n",
      "print('PA =',pa)\n",
      "print('Offsets:', offset_info(star, targ))\n",
      "print('SLentry:', offset_info(star, targ, 'AnaK1_star'))"
     ],
     "language": "python",
     "metadata": {},
     "outputs": [
      {
       "output_type": "stream",
       "stream": "stdout",
       "text": [
        "Target: <SkyCoord (ICRS): (ra, dec) in deg\n",
        "    (354.35063, 0.39077)>\n",
        "PA = 140.7\n",
        "Offsets: 129.777139698 E 74.664 N\n",
        "SLentry: AnaK1_star       23 37 15.4992 +00 22 12.108 2000.0 raoffset=129.777139698 decoffset=74.664\n"
       ]
      }
     ],
     "prompt_number": 94
    },
    {
     "cell_type": "code",
     "collapsed": false,
     "input": [
      "#Target: AnaK2\n",
      "star = SkyCoord(354.15222*u.deg, 0.65171*u.deg)\n",
      "targ = SkyCoord(354.19530*u.deg, 0.62340*u.deg)\n",
      "pa = 129.3\n",
      "\n",
      "print('Target:', targ)\n",
      "#print('PA12:', t1.position_angle(t2).deg, 'or', t1.position_angle(t2).deg-360)\n",
      "#print('PA21:', t2.position_angle(t1).deg, 'or', t2.position_angle(t1).deg-360)\n",
      "print('PA =',pa)\n",
      "print('Offsets:', offset_info(star, targ))\n",
      "print('SLentry:', offset_info(star, targ, 'AnaK2_star'))"
     ],
     "language": "python",
     "metadata": {},
     "outputs": [
      {
       "output_type": "stream",
       "stream": "stdout",
       "text": [
        "Target: <SkyCoord (ICRS): (ra, dec) in deg\n",
        "    (354.1953, 0.6234)>\n",
        "PA = 129.3\n",
        "Offsets: 155.078398618 E -101.916 S\n",
        "SLentry: AnaK2_star       23 36 36.5328 +00 39 06.156 2000.0 raoffset=155.078398618 decoffset=-101.916\n"
       ]
      }
     ],
     "prompt_number": 95
    },
    {
     "cell_type": "code",
     "collapsed": false,
     "input": [
      "#Target: Odyssey8\n",
      "star = SkyCoord(248.56304*u.deg, 19.73387*u.deg)\n",
      "targ = SkyCoord(248.58080*u.deg, 19.72003*u.deg) \n",
      "pa = 122.1\n",
      "\n",
      "print('Target:', targ)\n",
      "#print('PA12:', t1.position_angle(t2).deg, 'or', t1.position_angle(t2).deg-360)\n",
      "#print('PA21:', t2.position_angle(t1).deg, 'or', t2.position_angle(t1).deg-360)\n",
      "print('PA =',pa)\n",
      "print('Offsets:', offset_info(star, targ))\n",
      "print('SLentry:', offset_info(star, targ, 'odyssey8_star'))"
     ],
     "language": "python",
     "metadata": {},
     "outputs": [
      {
       "output_type": "stream",
       "stream": "stdout",
       "text": [
        "Target: <SkyCoord (ICRS): (ra, dec) in deg\n",
        "    (248.5808, 19.72003)>\n",
        "PA = 122.1\n",
        "Offsets: 60.1837165159 E -49.824 S\n",
        "SLentry: odyssey8_star    16 34 15.1296 +19 44 01.932 2000.0 raoffset=60.1837165159 decoffset=-49.824\n"
       ]
      }
     ],
     "prompt_number": 96
    }
   ],
   "metadata": {}
  }
 ]
}