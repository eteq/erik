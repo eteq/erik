{
 "cells": [
  {
   "cell_type": "code",
   "execution_count": 2,
   "metadata": {},
   "outputs": [],
   "source": [
    "import os\n",
    "import sys\n",
    "\n",
    "import requests\n",
    "\n",
    "import numpy as np\n",
    "\n",
    "from astropy import units as u\n",
    "from astropy import table\n",
    "from astropy.coordinates import SkyCoord, EarthLocation, get_sun\n",
    "from astropy.time import Time\n",
    "from astropy.io import fits\n",
    "\n",
    "from importlib import reload\n",
    "\n",
    "%matplotlib inline\n",
    "from matplotlib import style, pyplot as plt"
   ]
  },
  {
   "cell_type": "markdown",
   "metadata": {},
   "source": [
    "Most of the initial steps are in 2018Oct-AAT"
   ]
  },
  {
   "cell_type": "markdown",
   "metadata": {},
   "source": [
    "# Initial imports/initialization of SAGA objects "
   ]
  },
  {
   "cell_type": "code",
   "execution_count": 3,
   "metadata": {},
   "outputs": [
    {
     "name": "stdout",
     "output_type": "stream",
     "text": [
      "/Users/erik/projects/saga/saga\n",
      "running build\n",
      "running build_py\n",
      "/Users/erik/projects/saga/erik\n"
     ]
    }
   ],
   "source": [
    "working_dir = os.path.abspath('..')\n",
    "\n",
    "%cd ../../saga\n",
    "sagadir = !pwd\n",
    "sagadir = sagadir[0]\n",
    "!python setup.py build\n",
    "%cd $working_dir"
   ]
  },
  {
   "cell_type": "code",
   "execution_count": 4,
   "metadata": {},
   "outputs": [
    {
     "name": "stdout",
     "output_type": "stream",
     "text": [
      "Adding /Users/erik/projects/saga/saga/build/lib to the python path\n"
     ]
    },
    {
     "data": {
      "text/plain": [
       "'0.10.10'"
      ]
     },
     "execution_count": 4,
     "metadata": {},
     "output_type": "execute_result"
    }
   ],
   "source": [
    "sagalibdir = os.path.join(sagadir, 'build/lib')\n",
    "print('Adding', sagalibdir, 'to the python path')\n",
    "sys.path.insert(0, sagalibdir)\n",
    "\n",
    "import SAGA as saga\n",
    "saga.__version__"
   ]
  },
  {
   "cell_type": "code",
   "execution_count": 17,
   "metadata": {},
   "outputs": [
    {
     "name": "stdout",
     "output_type": "stream",
     "text": [
      "Downloading https://docs.google.com/spreadsheets/d/1b3k2eyFjHFDtmHce1xi6JKuj3ATOWYduTBFftx5oPp8/export?format=csv&gid=1471095077 [Done]\n",
      "Downloading https://docs.google.com/spreadsheets/d/1Z8HISgp6ScJ0YZiFK5_TrGDZXY9t2OL3hkCSFJUiC6w/export?format=csv&gid=478933689 [Done]\n",
      "Downloading https://docs.google.com/spreadsheets/d/1Y3nO7VyU4jDiBPawCs8wJQt2s_PIAKRj-HSrmcWeQZo/export?format=csv&gid=1379081675 [Done]\n",
      "Downloading https://docs.google.com/spreadsheets/d/1Y3nO7VyU4jDiBPawCs8wJQt2s_PIAKRj-HSrmcWeQZo/export?format=csv&gid=124397139 [Done]\n",
      "Downloading https://docs.google.com/spreadsheets/d/1Y3nO7VyU4jDiBPawCs8wJQt2s_PIAKRj-HSrmcWeQZo/export?format=csv&gid=1574060112 [Done]\n"
     ]
    }
   ],
   "source": [
    "saga_database = saga.Database(os.path.join(os.environ['HOME'],'Dropbox/SAGA/'))\n",
    "\n",
    "saga_host_catalog = saga.HostCatalog(saga_database)\n",
    "saga_object_catalog = saga.ObjectCatalog(saga_database)\n",
    "saga_targets = saga.TargetSelection(saga_database, manual_selected_objids='manual_targets_aat2018b')#,\n",
    "                                    #assign_targeting_score_kwargs=dict(ignore_specs=True))"
   ]
  },
  {
   "cell_type": "code",
   "execution_count": 18,
   "metadata": {},
   "outputs": [],
   "source": [
    "hosts_to_load = 'aat_2018b'\n",
    "host_id_label = 'ID_STR'\n",
    "targethosts = saga_host_catalog.load(hosts_to_load)\n",
    "targethosts[host_id_label] = saga_host_catalog.resolve_id(hosts_to_load, 'string')\n",
    "\n",
    "\n",
    "# used below to save generated catalogs\n",
    "acats = {}\n",
    "tcats = {}"
   ]
  },
  {
   "cell_type": "markdown",
   "metadata": {},
   "source": [
    "# Helper functions (to eventually be moved to saga repo)"
   ]
  },
  {
   "cell_type": "code",
   "execution_count": 7,
   "metadata": {},
   "outputs": [],
   "source": [
    "def get_gaia_guidestars(hostname, magrng=(12.5, 13.5),\n",
    "                        matchmagrng=(16, 17), d_matchmag=1, matchtol0=1*u.arcsec,\n",
    "                        verbose=True, neighbor_cut=30*u.arcsec, nmagdown=4.5):\n",
    "    \"\"\"\n",
    "    `magrng` is the range of magnitudes to actually select on.  It's ~r-band, based on the\n",
    "    Evans et al. 2018 r-to-G conversion\n",
    "    \"\"\"\n",
    "    print = __builtin__.print\n",
    "    if not verbose:\n",
    "        print = lambda *args, **kwargs:None\n",
    "        \n",
    "    host = saga_host_catalog.load_single(hostname)\n",
    "    obj_cat = saga_object_catalog.load(hostname)[0]\n",
    "    omag = obj_cat['r_mag']\n",
    "    gaia_cat = table.Table.read('external_catalogs/astrometric/{}_gaia.ecsv'.format(hostname))\n",
    "    gaia_sc = SkyCoord(gaia_cat['ra'], gaia_cat['dec'])\n",
    "    gmag = gaia_cat['phot_g_mean_mag']\n",
    "    \n",
    "    omsk = (matchmagrng[0]<omag)&(omag<matchmagrng[1])\n",
    "    gmsk = ((matchmagrng[0]-d_matchmag)<gmag)&(gmag<(matchmagrng[1]+d_matchmag))\n",
    "    oscmsk = obj_cat['coord'][omsk]\n",
    "    gscmsk = gaia_sc[gmsk]\n",
    "    \n",
    "    idx, d2d, _ = oscmsk.match_to_catalog_sky(gscmsk)\n",
    "    sepmsk = d2d < matchtol0\n",
    "    \n",
    "    dra = (oscmsk[sepmsk].ra - gscmsk[idx][sepmsk].ra).to(u.arcsec)\n",
    "    ddec = (oscmsk[sepmsk].dec - gscmsk[idx][sepmsk].dec).to(u.arcsec)\n",
    "    offset = np.mean(dra), np.mean(ddec)\n",
    "    \n",
    "    print(\"Object catalog to Gaia offset:\", offset, 'from', np.sum(sepmsk), \n",
    "          'objects ({:.1%})'.format(np.sum(sepmsk)/len(sepmsk)))\n",
    "    \n",
    "    #this polynomial is from Evans et al. 2018 for the G to r conversion\n",
    "    Gmr_coeffs = (-0.1856, 0.1579, 0.02738, -0.0550)\n",
    "    Gmr = np.polyval(Gmr_coeffs[::-1], gaia_cat['bp_rp'])\n",
    "    gaia_cat['g_as_r_mag'] = gmag - Gmr\n",
    "    \n",
    "    gmsk = (magrng[0] < gaia_cat['g_as_r_mag'])&(gaia_cat['g_as_r_mag'] < magrng[1])\n",
    "    gstars = gaia_cat[gmsk]\n",
    "    print('Found', len(gstars), 'Gaia guide stars')\n",
    "    \n",
    "    if neighbor_cut is not None:\n",
    "        possible_neighbor_stars = gaia_cat[gaia_cat['g_as_r_mag'] < magrng[1]+nmagdown]\n",
    "        nsc = SkyCoord(possible_neighbor_stars['ra'], possible_neighbor_stars['dec'])\n",
    "        gsc = SkyCoord(gstars['ra'], gstars['dec'])\n",
    "        idx, d2d, _ = gsc.match_to_catalog_sky(nsc, 2)\n",
    "        neighbor_present = d2d < neighbor_cut\n",
    "        print(np.sum(neighbor_present), 'Have a brightish neighbor.  Removing them.')\n",
    "        gstars = gstars[~neighbor_present]\n",
    "\n",
    "    tab = table.Table({\n",
    "        'TargetName': gstars['source_id'],\n",
    "        'RA': (u.Quantity(gstars['ra']) + offset[0]),\n",
    "        'Dec': (u.Quantity(gstars['dec']) + offset[1]),\n",
    "        'TargetType': np.repeat('F', len(gstars)),\n",
    "        'Priority': np.repeat(9, len(gstars)),\n",
    "        'Magnitude':gstars['g_as_r_mag'],\n",
    "        '0': np.repeat(0, len(gstars)),\n",
    "        'Notes': np.repeat('guide_gaia', len(gstars)),\n",
    "    })\n",
    "    tab.meta['dra'] = dra\n",
    "    tab.meta['ddec'] = ddec\n",
    "    tab.meta['offset'] = offset\n",
    "    tab.meta['gstarcat'] = gstars\n",
    "    return tab"
   ]
  },
  {
   "cell_type": "code",
   "execution_count": 8,
   "metadata": {},
   "outputs": [],
   "source": [
    "def get_sdss_guidestars(hostname):\n",
    "    host = saga_host_catalog.load_single(hostname)\n",
    "    obj_cat = saga_object_catalog.load(hostname)[0]\n",
    "    r = obj_cat['r_mag']\n",
    "    msk = (12.5<r)&(r<14)&~obj_cat['is_galaxy']&(obj_cat['RHOST_ARCM']>15)\n",
    "    starcat = obj_cat[msk]\n",
    "    \n",
    "    print('Found', len(starcat), 'SDSS guide stars')\n",
    "    \n",
    "    return table.Table({\n",
    "        'TargetName': starcat['OBJID'],\n",
    "        'RA': starcat['RA'],\n",
    "        'Dec': starcat['DEC'],\n",
    "        'TargetType': np.repeat('F', len(starcat)),\n",
    "        'Priority': np.repeat(9, len(starcat)),\n",
    "        'Magnitude': starcat['r_mag'],\n",
    "        '0': np.repeat(0, len(starcat)),\n",
    "        'Notes': np.repeat('guide', len(starcat)),\n",
    "    })"
   ]
  },
  {
   "cell_type": "code",
   "execution_count": 204,
   "metadata": {},
   "outputs": [],
   "source": [
    "from astropy.coordinates import Angle\n",
    "\n",
    "def write_fld_file(target_catalog, host, obstime, fn, suffix=' master catalog'):\n",
    "    hostname = host[host_id_label]\n",
    "    target_catalog.write(fn,\n",
    "                         delimiter=' ',\n",
    "                         quotechar='\"',\n",
    "                         format='ascii.fast_commented_header',\n",
    "                         overwrite=True,\n",
    "                         formats={\n",
    "                            'RA': lambda x: Angle(x, 'deg').wrap_at(360*u.deg).to_string('hr', sep=' ', precision=2), # pylint: disable=E1101\n",
    "                            'Dec': lambda x: Angle(x, 'deg').to_string('deg', sep=' ', precision=2),\n",
    "                            'Magnitude': '%.2f',\n",
    "                         })\n",
    "    with open(fn) as fh:\n",
    "        content = fh.read()\n",
    "    with open(fn, 'w') as fh:\n",
    "        fh.write('LABEL ' + hostname + suffix + '\\n')\n",
    "        fh.write('UTDATE  {yr} {mo:02} {day:02}\\n'.format(yr=obstime.datetime.year,\n",
    "                                                        mo=obstime.datetime.month,\n",
    "                                                        day=obstime.datetime.day))\n",
    "        censtr = host['coord'].to_string('hmsdms', sep=' ', precision=2, alwayssign=True)\n",
    "        fh.write('CENTRE  ' + censtr + '\\n')\n",
    "        fh.write('EQUINOX J2000.0\\n')\n",
    "        fh.write('# End of Header\\n\\n')\n",
    "        fh.write(content.replace('\"', ''))\n",
    "        \n",
    "\n",
    "def subsample_catalog(catalog, prilimits=None, maxflux=np.inf, maxguides=np.inf, maxsky=np.inf, verbose=True, favor_highpri=False):\n",
    "    \"\"\"\n",
    "    Subsamples the catalog, limiting the number in a given priority set\n",
    "    \n",
    "    ``prilimits`` should be a dictionary mapping priority number to the maximum number of\n",
    "    objects in that priority.  If it is None, no limits will be used.\n",
    "    \n",
    "    ``favor_highpri`` determines if the prilimits cuts pick favored (it must be an array \n",
    "    which matches ``catalog``, where  *lower* numbers are favored), ora random sampling (False)\n",
    "    \"\"\"\n",
    "    \n",
    "    \n",
    "    msks = [catalog['Notes']==notestr for notestr in ('Flux', 'Sky')]\n",
    "    msks.append(np.array([n.lower().startswith('guide') for n in catalog['Notes']]))\n",
    "    maxns = [maxflux, maxsky, maxguides]\n",
    "    \n",
    "    \n",
    "    \n",
    "    if prilimits is not None:\n",
    "        for pri, maxn in prilimits.items():\n",
    "            msks.append(catalog['Priority']==pri)\n",
    "            maxns.append(maxn)\n",
    "            \n",
    "    idxs_to_rem = []\n",
    "    for i, (msk, maxn) in enumerate(zip(msks, maxns)):\n",
    "        ntorem = np.sum(msk) - maxn\n",
    "        if ntorem >= 1:\n",
    "            idxs = np.where(msk)[0]\n",
    "            if favor_highpri is False or i < 3:\n",
    "                idxs_to_rem.append(np.random.permutation(idxs)[:ntorem])\n",
    "            else:\n",
    "                assert len(favor_highpri) == len(catalog), 'catalog and favor_highpri do not match in length!'\n",
    "                idxs_to_rem.append(idxs[np.argsort(favor_highpri[idxs])][-ntorem:])\n",
    "    subcat = catalog.copy()\n",
    "    if idxs_to_rem:\n",
    "        del subcat[np.concatenate(idxs_to_rem)]\n",
    "    \n",
    "    if verbose:\n",
    "        npris = dict(enumerate(np.bincount(subcat['Priority'][subcat['Notes']=='Targets'])))\n",
    "        npris = {k:v for k,v in npris.items() if v>0}\n",
    "        print('Nflux:', np.sum(subcat['Notes']=='Flux'), \n",
    "              'Nguide:', np.sum([n.lower().startswith('guide') for n in subcat['Notes']]), \n",
    "              'NSky', np.sum(subcat['Notes']=='Sky'))\n",
    "        print('Targets in each priority:', npris)\n",
    "        print('Total:', len(subcat))\n",
    "        \n",
    "    return subcat"
   ]
  },
  {
   "cell_type": "code",
   "execution_count": 10,
   "metadata": {},
   "outputs": [],
   "source": [
    "def infer_radec_cols(table):\n",
    "    raname = decname = None\n",
    "    for cnm in table.colnames:\n",
    "        if cnm.lower()=='ra':\n",
    "            raname = cnm\n",
    "        elif cnm.lower()=='dec':\n",
    "            decname = cnm\n",
    "    return raname, decname"
   ]
  },
  {
   "cell_type": "code",
   "execution_count": 11,
   "metadata": {},
   "outputs": [],
   "source": [
    "def make_decals_viewer_cutouts(table, survey='sdss', ncols=3, zoom=15, size=120, namecol=None, dhtml=True):\n",
    "    \"\"\"\n",
    "    Zoom of 15 is ~1\"/pixel, so ~2' across with defaults\n",
    "    \"\"\"\n",
    "    template_url = 'http://legacysurvey.org/viewer/jpeg-cutout/?ra={ra:.7}&dec={dec:.7}&zoom={zoom}&layer={layer}&size={size}'\n",
    "    \n",
    "    raname, decname = infer_radec_cols(table)\n",
    "    \n",
    "    entries = []\n",
    "    for row in table:\n",
    "        imgurl = template_url.format(ra=row[raname], dec=row[decname], layer=survey, size=size, zoom=zoom)\n",
    "        viewurl = 'http://legacysurvey.org/viewer?ra={}&dec={}'.format(row[raname], row[decname])\n",
    "        \n",
    "        namestr = '' if namecol is None else (str(row[namecol]) + '<br>')\n",
    "        entries.append('{}<a href=\"{}\"><img src=\"{}\"></a>'.format(namestr, viewurl, imgurl))\n",
    "        \n",
    "    entryrows = [[]]\n",
    "    while entries:\n",
    "        entry = entries.pop(0)\n",
    "        if len(entryrows[-1]) >= ncols:\n",
    "            entryrows.append([])\n",
    "        entryrows[-1].append(entry)\n",
    "    entryrows[-1].extend(['']*(ncols-len(entryrows[-1])))\n",
    "    \n",
    "    tabrows = ['<td>{}</td>'.format('</td><td>'.join(erow)) for erow in entryrows]\n",
    "\n",
    "    htmlstr = \"\"\"\n",
    "    <table>\n",
    "    <tr>{}</tr>\n",
    "    </table>\n",
    "    \"\"\".format('</tr>\\n<tr>'.join(tabrows))\n",
    "\n",
    "    if dhtml:\n",
    "        from IPython import display\n",
    "        return display.HTML(htmlstr)\n",
    "    else:\n",
    "        return htmlstr"
   ]
  },
  {
   "cell_type": "code",
   "execution_count": 12,
   "metadata": {},
   "outputs": [],
   "source": [
    "def make_des_cutouts_file(table, copytoclipboard=True, showtable=False):\n",
    "    raname, decname = infer_radec_cols(table)\n",
    "    \n",
    "    entries = []\n",
    "    for row in table:\n",
    "        entries.append('{:.5f},{:.5f}'.format(row[raname], row[decname]))\n",
    "        \n",
    "    htmlstr = \"\"\"\n",
    "    Paste the coords in \"Enter values\" at  \n",
    "    <a href=\"https://des.ncsa.illinois.edu/easyweb/cutouts\">the DES cutout service</a>,\n",
    "    and change the size to 0.3 arcmin\n",
    "    \"\"\"\n",
    "    tablestr = \"\"\"<br>\n",
    "    <table>\n",
    "    <tr><td>{}</td></tr>\n",
    "    </table>\n",
    "    \"\"\".format('</td></tr>\\n<tr><td>'.join(entries))\n",
    "    if showtable:\n",
    "        htmlstr += tablestr\n",
    "    \n",
    "    if copytoclipboard:\n",
    "        import platform\n",
    "        text = '\\n'.join(entries)\n",
    "        if platform.system() == 'Darwin':\n",
    "            clipproc = os.popen('pbcopy', 'w')\n",
    "            clipproc.write(text)\n",
    "            clipproc.close()\n",
    "            print('Copied to clipboard')\n",
    "        elif platform.system() == 'Linux':\n",
    "            clipproc = os.popen('xsel -i', 'w')\n",
    "            clipproc.write(text)\n",
    "            clipproc.close()\n",
    "            print('Copied to clipboard')\n",
    "        else:\n",
    "            raise OSError(\"Not on a mac or linux, so can't use clipboard. \")\n",
    "        \n",
    "    from IPython import display\n",
    "    return display.HTML(htmlstr)\n",
    "    \n",
    "def show_des_cutouts(table, jobname, username='eteq', ncols=3, namecol=None, force_size=(128, 128), dhtml=True):\n",
    "    base_url = 'https://des.ncsa.illinois.edu'\n",
    "    \n",
    "    list_url = base_url + '/easyweb/static/workdir/{}/{}/list.json'.format(username, jobname)\n",
    "    print(list_url)\n",
    "    list_json = requests.get(list_url).json()\n",
    "    img_urls = [base_url+img['name'] for img in list_json]\n",
    "    \n",
    "    if len(table) != len(img_urls):\n",
    "        raise ValueError('table and job length do not match!')\n",
    "    raname, decname = infer_radec_cols(table)\n",
    "    \n",
    "    sizestr = '' if force_size is None else ('height=\"{}\" width=\"{}\"'.format(force_size[1], force_size[0]))\n",
    "    entries = []\n",
    "    for row, imgurl in zip(table, img_urls):\n",
    "        viewurl = 'http://legacysurvey.org/viewer?ra={}&dec={}'.format(row[raname], row[decname])\n",
    "        \n",
    "        namestr = '' if namecol is None else (str(row[namecol]) + '<br>')\n",
    "        entries.append('{}<a href=\"{}\"><img src=\"{}\"{}></a>'.format(namestr, viewurl, imgurl, sizestr))\n",
    "        \n",
    "    entryrows = [[]]\n",
    "    while entries:\n",
    "        entry = entries.pop(0)\n",
    "        if len(entryrows[-1]) >= ncols:\n",
    "            entryrows.append([])\n",
    "        entryrows[-1].append(entry)\n",
    "    entryrows[-1].extend(['']*(ncols-len(entryrows[-1])))\n",
    "    \n",
    "    tabrows = ['<td>{}</td>'.format('</td><td>'.join(erow)) for erow in entryrows]\n",
    "\n",
    "    htmlstr = \"\"\"\n",
    "    <table>\n",
    "    <tr>{}</tr>\n",
    "    </table>\n",
    "    \"\"\".format('</tr>\\n<tr>'.join(tabrows))\n",
    "\n",
    "    if dhtml:\n",
    "        from IPython import display\n",
    "        return display.HTML(htmlstr)\n",
    "    else:\n",
    "        return htmlstr\n"
   ]
  },
  {
   "cell_type": "markdown",
   "metadata": {},
   "source": [
    "# Configuration File-Generation Templates "
   ]
  },
  {
   "cell_type": "markdown",
   "metadata": {},
   "source": [
    "## nsaxxxx"
   ]
  },
  {
   "cell_type": "code",
   "execution_count": null,
   "metadata": {},
   "outputs": [],
   "source": [
    "idnum = xxxx\n",
    "fieldnum = NN\n",
    "\n",
    "saga_object_catalog.build_and_write_to_database('NSA{}'.format(idnum), overwrite=fieldnum>1)"
   ]
  },
  {
   "cell_type": "code",
   "execution_count": null,
   "metadata": {},
   "outputs": [],
   "source": [
    "host = targethosts[targethosts['NSAID'] == idnum]\n",
    "assert len(host) == 1\n",
    "host = host[0]\n",
    "\n",
    "hostname = host[host_id_label]\n",
    "print(hostname)\n",
    "print(SkyCoord(host['RA'], host['Dec'], unit=u.deg).to_string('hmsdms'))\n",
    "\n",
    "tcats[hostname] = tcat = saga_targets.build_target_catalogs(hostname, return_as='list', reload_base=True).pop()\n",
    "acats[hostname] = acat = saga.targets.prepare_aat_catalog(tcat, sky_fiber_needed=100)\n",
    "\n",
    "guidestars = get_sdss_guidestars(hostname)\n",
    "writecat = table.vstack([acat, guidestars])\n",
    "writecat['Notes'] = [n.title() for n in writecat['Notes']]\n",
    "len(writecat)"
   ]
  },
  {
   "cell_type": "code",
   "execution_count": null,
   "metadata": {},
   "outputs": [],
   "source": [
    "make_decals_viewer_cutouts(guidestars[np.random.permutation(len(guidestars))], \n",
    "                           survey='sdss',ncols=6,namecol='TargetName')"
   ]
  },
  {
   "cell_type": "code",
   "execution_count": null,
   "metadata": {},
   "outputs": [],
   "source": [
    "guides_to_rem = [int(i) for i in 'nnnn nnn nnnn'.split()]\n",
    "writecat.remove_rows((writecat['Notes']=='Guide')&(np.in1d(writecat['TargetName'], guides_to_rem)))\n",
    "np.sum((writecat['Notes']=='Guide'))"
   ]
  },
  {
   "cell_type": "code",
   "execution_count": null,
   "metadata": {},
   "outputs": [],
   "source": [
    "make_decals_viewer_cutouts(acat[acat['Notes']=='sky'], survey='sdss', ncols=6, \n",
    "                           zoom=16, namecol='TargetName')"
   ]
  },
  {
   "cell_type": "code",
   "execution_count": null,
   "metadata": {},
   "outputs": [],
   "source": [
    "skys_to_rem = [int(i) for i in 'n n nn nn'.split()]\n",
    "writecat.remove_rows((writecat['Notes']=='Sky')&(np.in1d(writecat['TargetName'], skys_to_rem)))\n",
    "np.sum((writecat['Notes']=='Sky'))"
   ]
  },
  {
   "cell_type": "code",
   "execution_count": null,
   "metadata": {},
   "outputs": [],
   "source": [
    "subsampledcat = subsample_catalog(writecat, {1:np.inf}, maxflux=5, maxguides=100)\n",
    "\n",
    "fldfn = 'aat_targets_oct2018/{}_{}.fld'.format(hostname, fieldnum)\n",
    "print('Writing', fldfn)\n",
    "write_fld_file(subsampledcat, host, obs_start_date, fldfn, suffix='_{}'.format(fieldnum))\n",
    "np.sum(subsampledcat['Notes'] == 'Targets')"
   ]
  },
  {
   "cell_type": "code",
   "execution_count": null,
   "metadata": {},
   "outputs": [],
   "source": [
    "!scp $fldfn visitor8@aatlxh:~/octDD/"
   ]
  },
  {
   "cell_type": "markdown",
   "metadata": {},
   "source": [
    "## pgcxxxx"
   ]
  },
  {
   "cell_type": "code",
   "execution_count": null,
   "metadata": {},
   "outputs": [],
   "source": [
    "idnum = xxxx\n",
    "fieldnum = NN\n",
    "\n",
    "saga_object_catalog.build_and_write_to_database('pgc{}'.format(idnum), overwrite=fieldnum>1)"
   ]
  },
  {
   "cell_type": "code",
   "execution_count": null,
   "metadata": {},
   "outputs": [],
   "source": [
    "host = targethosts[targethosts['PGC'] == idnum]\n",
    "assert len(host) == 1\n",
    "host = host[0]\n",
    "\n",
    "hostname = host[host_id_label]\n",
    "print(hostname)\n",
    "print(SkyCoord(host['RA'], host['Dec'], unit=u.deg).to_string('hmsdms'))\n",
    "\n",
    "tcats[hostname] = tcat = saga_targets.build_target_catalogs(hostname, return_as='list', reload_base=True).pop()\n",
    "acats[hostname] = acat = saga.targets.prepare_aat_catalog(tcat, sky_fiber_needed=100)\n",
    "\n",
    "guidestars = get_gaia_guidestars(hostname)\n",
    "writecat = table.vstack([acat, guidestars])\n",
    "writecat['Notes'] = [n.title() for n in writecat['Notes']]\n",
    "len(writecat)"
   ]
  },
  {
   "cell_type": "code",
   "execution_count": null,
   "metadata": {},
   "outputs": [],
   "source": [
    "# only need to remove if something really fishy is going on\n",
    "make_decals_viewer_cutouts(guidestars[np.random.permutation(len(guidestars))[:24]], \n",
    "                           survey='unwise-w1w2',ncols=6,namecol='TargetName', zoom=17)"
   ]
  },
  {
   "cell_type": "code",
   "execution_count": null,
   "metadata": {},
   "outputs": [],
   "source": [
    "#The below is only necessary if the decals viewer is broken but the targets are in DES\n",
    "# make_des_cutouts_file(acat[acat['Notes']=='sky'])\n",
    "# show_des_cutouts(acat[acat['Notes']=='sky'], <'JOBNAME'>, ncols=8, namecol='TargetName')\n",
    "\n",
    "make_decals_viewer_cutouts(acat[acat['Notes']=='sky'], survey='des-dr1', namecol='TargetName',\n",
    "                           ncols=8, zoom=15, size=120)"
   ]
  },
  {
   "cell_type": "code",
   "execution_count": null,
   "metadata": {},
   "outputs": [],
   "source": [
    "skys_to_rem = [int(i) for i in <'n n nn'>.split()]\n",
    "writecat.remove_rows((writecat['Notes']=='Sky')&(np.in1d(writecat['TargetName'], skys_to_rem)))\n",
    "np.sum((writecat['Notes']=='Sky'))"
   ]
  },
  {
   "cell_type": "code",
   "execution_count": null,
   "metadata": {},
   "outputs": [],
   "source": [
    "subsampledcat = subsample_catalog(writecat, {1:np.inf}, maxflux=5, maxguides=100)\n",
    "\n",
    "fldfn = 'aat_targets_oct2018/{}_{}.fld'.format(hostname, fieldnum)\n",
    "print('Writing', fldfn)\n",
    "write_fld_file(subsampledcat, host, obs_start_date, fldfn, suffix='_{}'.format(fieldnum))\n",
    "np.sum(subsampledcat['Notes'] == 'Targets')"
   ]
  },
  {
   "cell_type": "code",
   "execution_count": null,
   "metadata": {},
   "outputs": [],
   "source": [
    "!scp $fldfn visitor8@aatlxh:~/octDD/"
   ]
  },
  {
   "cell_type": "markdown",
   "metadata": {},
   "source": [
    "# Night 2"
   ]
  },
  {
   "cell_type": "code",
   "execution_count": 39,
   "metadata": {},
   "outputs": [],
   "source": [
    "import aat\n",
    "\n",
    "obs_start_date = Time('2018-8-4') "
   ]
  },
  {
   "cell_type": "markdown",
   "metadata": {},
   "source": [
    "## pgc67663"
   ]
  },
  {
   "cell_type": "code",
   "execution_count": 31,
   "metadata": {},
   "outputs": [
    {
     "name": "stdout",
     "output_type": "stream",
     "text": [
      "Downloading https://docs.google.com/spreadsheets/d/1Y3nO7VyU4jDiBPawCs8wJQt2s_PIAKRj-HSrmcWeQZo/export?format=csv&gid=286645731 [Done]\n",
      "Downloading https://docs.google.com/spreadsheets/d/1Y3nO7VyU4jDiBPawCs8wJQt2s_PIAKRj-HSrmcWeQZo/export?format=csv&gid=797095192 [Done]\n",
      "Downloading https://docs.google.com/spreadsheets/d/1Y3nO7VyU4jDiBPawCs8wJQt2s_PIAKRj-HSrmcWeQZo/export?format=csv&gid=1549289503 [Done]\n",
      "[10/04 19:43:48] [WARNING] Not found: SDSS catalog for pgc67663.\n",
      "[10/04 19:43:48] [WARNING] Not found: DECALS catalog for pgc67663.\n",
      "[10/04 19:43:48] Use DES to build base catalog v2 for pgc67663 (1/1)\n"
     ]
    },
    {
     "name": "stderr",
     "output_type": "stream",
     "text": [
      "WARNING:root:No kcorrect module. Stellar mass not calculated!\n"
     ]
    },
    {
     "name": "stdout",
     "output_type": "stream",
     "text": [
      "[10/04 19:44:12] Write base catalog to ./base_catalogs/base_v2_pgc67663.fits.gz\n"
     ]
    }
   ],
   "source": [
    "idnum = 67663\n",
    "fieldnum = 2  # 1 was done in a previous run\n",
    "\n",
    "saga_object_catalog.build_and_write_to_database('pgc{}'.format(idnum), overwrite=fieldnum>1)"
   ]
  },
  {
   "cell_type": "code",
   "execution_count": 32,
   "metadata": {},
   "outputs": [
    {
     "name": "stdout",
     "output_type": "stream",
     "text": [
      "pgc67663\n",
      "21h56m09.6s -49d31m19.2s\n",
      "# of flux stars = 207\n",
      "# of sky fibers = 100\n",
      "# of Priority=1 targets = 785\n",
      "# of Priority=2 targets = 130\n",
      "# of Priority=3 targets = 29\n",
      "# of Priority=4 targets = 50\n",
      "# of Priority=5 targets = 158\n",
      "# of Priority=6 targets = 102\n",
      "# of Priority=7 targets = 109\n",
      "# of Priority=8 targets = 11\n",
      "# of Priority=9 targets = 307\n",
      "Object catalog to Gaia offset: (<Angle -0.12399641 arcsec>, <Angle 0.14305041 arcsec>) from 1117 objects (22.2%)\n",
      "Found 187 Gaia guide stars\n",
      "63 Have a brightish neighbor.  Removing them.\n"
     ]
    },
    {
     "data": {
      "text/plain": [
       "1805"
      ]
     },
     "execution_count": 32,
     "metadata": {},
     "output_type": "execute_result"
    }
   ],
   "source": [
    "host = targethosts[targethosts['PGC'] == idnum]\n",
    "assert len(host) == 1\n",
    "host = host[0]\n",
    "\n",
    "hostname = host[host_id_label]\n",
    "print(hostname)\n",
    "print(SkyCoord(host['RA'], host['Dec'], unit=u.deg).to_string('hmsdms'))\n",
    "\n",
    "tcats[hostname] = tcat = saga_targets.build_target_catalogs(hostname, return_as='list', reload_base=True).pop()\n",
    "acats[hostname] = acat = saga.targets.prepare_aat_catalog(tcat, sky_fiber_needed=100)\n",
    "\n",
    "guidestars = get_gaia_guidestars(hostname)\n",
    "writecat = table.vstack([acat, guidestars])\n",
    "writecat['Notes'] = [n.title() for n in writecat['Notes']]\n",
    "len(writecat)"
   ]
  },
  {
   "cell_type": "code",
   "execution_count": 35,
   "metadata": {},
   "outputs": [
    {
     "data": {
      "text/html": [
       "\n",
       "    <table>\n",
       "    <tr><td>6559423764127892480<br><a href=\"http://legacysurvey.org/viewer?ra=327.7591595487684&dec=-49.21029491698559\"><img src=\"http://legacysurvey.org/viewer/jpeg-cutout/?ra=327.7592&dec=-49.21029&zoom=17&layer=unwise-w1w2&size=120\"></a></td><td>6559190117907060992<br><a href=\"http://legacysurvey.org/viewer?ra=329.23082335887057&dec=-49.314918384455616\"><img src=\"http://legacysurvey.org/viewer/jpeg-cutout/?ra=329.2308&dec=-49.31492&zoom=17&layer=unwise-w1w2&size=120\"></a></td><td>6559332916979834112<br><a href=\"http://legacysurvey.org/viewer?ra=327.6340185226349&dec=-49.2377194916776\"><img src=\"http://legacysurvey.org/viewer/jpeg-cutout/?ra=327.634&dec=-49.23772&zoom=17&layer=unwise-w1w2&size=120\"></a></td><td>6559259833816232448<br><a href=\"http://legacysurvey.org/viewer?ra=328.0381821152599&dec=-49.77578715287608\"><img src=\"http://legacysurvey.org/viewer/jpeg-cutout/?ra=328.0382&dec=-49.77579&zoom=17&layer=unwise-w1w2&size=120\"></a></td><td>6559406137582078592<br><a href=\"http://legacysurvey.org/viewer?ra=328.3059853279583&dec=-49.0425500185135\"><img src=\"http://legacysurvey.org/viewer/jpeg-cutout/?ra=328.306&dec=-49.04255&zoom=17&layer=unwise-w1w2&size=120\"></a></td><td>6559178813553069440<br><a href=\"http://legacysurvey.org/viewer?ra=329.2157868439643&dec=-49.54512116227099\"><img src=\"http://legacysurvey.org/viewer/jpeg-cutout/?ra=329.2158&dec=-49.54512&zoom=17&layer=unwise-w1w2&size=120\"></a></td></tr>\n",
       "<tr><td>6560902121934858752<br><a href=\"http://legacysurvey.org/viewer?ra=328.88178351835177&dec=-48.77124323495152\"><img src=\"http://legacysurvey.org/viewer/jpeg-cutout/?ra=328.8818&dec=-48.77124&zoom=17&layer=unwise-w1w2&size=120\"></a></td><td>6559081506773933312<br><a href=\"http://legacysurvey.org/viewer?ra=329.5228439783625&dec=-50.13315835625953\"><img src=\"http://legacysurvey.org/viewer/jpeg-cutout/?ra=329.5228&dec=-50.13316&zoom=17&layer=unwise-w1w2&size=120\"></a></td><td>6559066251050018944<br><a href=\"http://legacysurvey.org/viewer?ra=328.3155375395042&dec=-49.97714958389393\"><img src=\"http://legacysurvey.org/viewer/jpeg-cutout/?ra=328.3155&dec=-49.97715&zoom=17&layer=unwise-w1w2&size=120\"></a></td><td>6559195615465216256<br><a href=\"http://legacysurvey.org/viewer?ra=328.89128995835705&dec=-49.35817585027153\"><img src=\"http://legacysurvey.org/viewer/jpeg-cutout/?ra=328.8913&dec=-49.35818&zoom=17&layer=unwise-w1w2&size=120\"></a></td><td>6559276807526995200<br><a href=\"http://legacysurvey.org/viewer?ra=327.95396699431126&dec=-49.49192336602486\"><img src=\"http://legacysurvey.org/viewer/jpeg-cutout/?ra=327.954&dec=-49.49192&zoom=17&layer=unwise-w1w2&size=120\"></a></td><td>6560619925403096960<br><a href=\"http://legacysurvey.org/viewer?ra=329.9096820576473&dec=-49.63565131153332\"><img src=\"http://legacysurvey.org/viewer/jpeg-cutout/?ra=329.9097&dec=-49.63565&zoom=17&layer=unwise-w1w2&size=120\"></a></td></tr>\n",
       "<tr><td>6559354460535531264<br><a href=\"http://legacysurvey.org/viewer?ra=328.40841178824076&dec=-49.56781301209764\"><img src=\"http://legacysurvey.org/viewer/jpeg-cutout/?ra=328.4084&dec=-49.56781&zoom=17&layer=unwise-w1w2&size=120\"></a></td><td>6559402151852497152<br><a href=\"http://legacysurvey.org/viewer?ra=328.6034975482093&dec=-48.91398852288909\"><img src=\"http://legacysurvey.org/viewer/jpeg-cutout/?ra=328.6035&dec=-48.91399&zoom=17&layer=unwise-w1w2&size=120\"></a></td><td>6559166409687563520<br><a href=\"http://legacysurvey.org/viewer?ra=328.4582503195162&dec=-49.60557749279771\"><img src=\"http://legacysurvey.org/viewer/jpeg-cutout/?ra=328.4583&dec=-49.60558&zoom=17&layer=unwise-w1w2&size=120\"></a></td><td>6559427440619902976<br><a href=\"http://legacysurvey.org/viewer?ra=327.6970793222548&dec=-49.15080017712962\"><img src=\"http://legacysurvey.org/viewer/jpeg-cutout/?ra=327.6971&dec=-49.1508&zoom=17&layer=unwise-w1w2&size=120\"></a></td><td>6560690362866747776<br><a href=\"http://legacysurvey.org/viewer?ra=329.38819795773094&dec=-49.21958351000936\"><img src=\"http://legacysurvey.org/viewer/jpeg-cutout/?ra=329.3882&dec=-49.21958&zoom=17&layer=unwise-w1w2&size=120\"></a></td><td>6559099232102507648<br><a href=\"http://legacysurvey.org/viewer?ra=329.3634693082186&dec=-49.97907295679887\"><img src=\"http://legacysurvey.org/viewer/jpeg-cutout/?ra=329.3635&dec=-49.97907&zoom=17&layer=unwise-w1w2&size=120\"></a></td></tr>\n",
       "<tr><td>6559220972952048000<br><a href=\"http://legacysurvey.org/viewer?ra=327.924151320549&dec=-50.173588186139824\"><img src=\"http://legacysurvey.org/viewer/jpeg-cutout/?ra=327.9242&dec=-50.17359&zoom=17&layer=unwise-w1w2&size=120\"></a></td><td>6559071336291363584<br><a href=\"http://legacysurvey.org/viewer?ra=329.4933028024463&dec=-50.395696665616825\"><img src=\"http://legacysurvey.org/viewer/jpeg-cutout/?ra=329.4933&dec=-50.3957&zoom=17&layer=unwise-w1w2&size=120\"></a></td><td>6558997802155435264<br><a href=\"http://legacysurvey.org/viewer?ra=328.80700891562594&dec=-50.24599796824587\"><img src=\"http://legacysurvey.org/viewer/jpeg-cutout/?ra=328.807&dec=-50.246&zoom=17&layer=unwise-w1w2&size=120\"></a></td><td>6558981519935088000<br><a href=\"http://legacysurvey.org/viewer?ra=329.22007817268616&dec=-50.35464660199473\"><img src=\"http://legacysurvey.org/viewer/jpeg-cutout/?ra=329.2201&dec=-50.35465&zoom=17&layer=unwise-w1w2&size=120\"></a></td><td>6559165275816192640<br><a href=\"http://legacysurvey.org/viewer?ra=328.5226710371307&dec=-49.67687558871385\"><img src=\"http://legacysurvey.org/viewer/jpeg-cutout/?ra=328.5227&dec=-49.67688&zoom=17&layer=unwise-w1w2&size=120\"></a></td><td>6560713594346909568<br><a href=\"http://legacysurvey.org/viewer?ra=329.068677448462&dec=-48.888974716469974\"><img src=\"http://legacysurvey.org/viewer/jpeg-cutout/?ra=329.0687&dec=-48.88897&zoom=17&layer=unwise-w1w2&size=120\"></a></td></tr>\n",
       "    </table>\n",
       "    "
      ],
      "text/plain": [
       "<IPython.core.display.HTML object>"
      ]
     },
     "execution_count": 35,
     "metadata": {},
     "output_type": "execute_result"
    }
   ],
   "source": [
    "# only need to remove if something really fishy is going on\n",
    "make_decals_viewer_cutouts(guidestars[np.random.permutation(len(guidestars))[:24]], \n",
    "                           survey='unwise-w1w2',ncols=6,namecol='TargetName', zoom=17)"
   ]
  },
  {
   "cell_type": "code",
   "execution_count": 36,
   "metadata": {},
   "outputs": [
    {
     "data": {
      "text/html": [
       "\n",
       "    <table>\n",
       "    <tr><td>0<br><a href=\"http://legacysurvey.org/viewer?ra=328.501243493813&dec=-50.47296433795388\"><img src=\"http://legacysurvey.org/viewer/jpeg-cutout/?ra=328.5012&dec=-50.47296&zoom=15&layer=des-dr1&size=120\"></a></td><td>1<br><a href=\"http://legacysurvey.org/viewer?ra=328.204314856219&dec=-49.34947702738768\"><img src=\"http://legacysurvey.org/viewer/jpeg-cutout/?ra=328.2043&dec=-49.34948&zoom=15&layer=des-dr1&size=120\"></a></td><td>2<br><a href=\"http://legacysurvey.org/viewer?ra=328.9736725953069&dec=-48.48033095594502\"><img src=\"http://legacysurvey.org/viewer/jpeg-cutout/?ra=328.9737&dec=-48.48033&zoom=15&layer=des-dr1&size=120\"></a></td><td>3<br><a href=\"http://legacysurvey.org/viewer?ra=328.10521319366745&dec=-49.86198510097345\"><img src=\"http://legacysurvey.org/viewer/jpeg-cutout/?ra=328.1052&dec=-49.86199&zoom=15&layer=des-dr1&size=120\"></a></td><td>4<br><a href=\"http://legacysurvey.org/viewer?ra=328.21545311119723&dec=-49.6606876308925\"><img src=\"http://legacysurvey.org/viewer/jpeg-cutout/?ra=328.2155&dec=-49.66069&zoom=15&layer=des-dr1&size=120\"></a></td><td>5<br><a href=\"http://legacysurvey.org/viewer?ra=329.75296318489336&dec=-49.81171933898812\"><img src=\"http://legacysurvey.org/viewer/jpeg-cutout/?ra=329.753&dec=-49.81172&zoom=15&layer=des-dr1&size=120\"></a></td><td>6<br><a href=\"http://legacysurvey.org/viewer?ra=328.5133383972335&dec=-50.48171780067626\"><img src=\"http://legacysurvey.org/viewer/jpeg-cutout/?ra=328.5133&dec=-50.48172&zoom=15&layer=des-dr1&size=120\"></a></td><td>7<br><a href=\"http://legacysurvey.org/viewer?ra=328.9548113238651&dec=-50.42648817825416\"><img src=\"http://legacysurvey.org/viewer/jpeg-cutout/?ra=328.9548&dec=-50.42649&zoom=15&layer=des-dr1&size=120\"></a></td></tr>\n",
       "<tr><td>8<br><a href=\"http://legacysurvey.org/viewer?ra=329.1394779593931&dec=-50.454017229861854\"><img src=\"http://legacysurvey.org/viewer/jpeg-cutout/?ra=329.1395&dec=-50.45402&zoom=15&layer=des-dr1&size=120\"></a></td><td>9<br><a href=\"http://legacysurvey.org/viewer?ra=328.47526142234636&dec=-50.39656172782918\"><img src=\"http://legacysurvey.org/viewer/jpeg-cutout/?ra=328.4753&dec=-50.39656&zoom=15&layer=des-dr1&size=120\"></a></td><td>10<br><a href=\"http://legacysurvey.org/viewer?ra=329.0688786935826&dec=-48.512048906319365\"><img src=\"http://legacysurvey.org/viewer/jpeg-cutout/?ra=329.0689&dec=-48.51205&zoom=15&layer=des-dr1&size=120\"></a></td><td>11<br><a href=\"http://legacysurvey.org/viewer?ra=329.4481702486225&dec=-50.18379682123036\"><img src=\"http://legacysurvey.org/viewer/jpeg-cutout/?ra=329.4482&dec=-50.1838&zoom=15&layer=des-dr1&size=120\"></a></td><td>12<br><a href=\"http://legacysurvey.org/viewer?ra=329.6970358190267&dec=-49.75535159453855\"><img src=\"http://legacysurvey.org/viewer/jpeg-cutout/?ra=329.697&dec=-49.75535&zoom=15&layer=des-dr1&size=120\"></a></td><td>13<br><a href=\"http://legacysurvey.org/viewer?ra=328.85273824944255&dec=-50.562737811813875\"><img src=\"http://legacysurvey.org/viewer/jpeg-cutout/?ra=328.8527&dec=-50.56274&zoom=15&layer=des-dr1&size=120\"></a></td><td>14<br><a href=\"http://legacysurvey.org/viewer?ra=329.6304133653811&dec=-48.771637252469475\"><img src=\"http://legacysurvey.org/viewer/jpeg-cutout/?ra=329.6304&dec=-48.77164&zoom=15&layer=des-dr1&size=120\"></a></td><td>15<br><a href=\"http://legacysurvey.org/viewer?ra=329.30570446591645&dec=-50.480126000749244\"><img src=\"http://legacysurvey.org/viewer/jpeg-cutout/?ra=329.3057&dec=-50.48013&zoom=15&layer=des-dr1&size=120\"></a></td></tr>\n",
       "<tr><td>16<br><a href=\"http://legacysurvey.org/viewer?ra=329.95557459847237&dec=-49.652211746657535\"><img src=\"http://legacysurvey.org/viewer/jpeg-cutout/?ra=329.9556&dec=-49.65221&zoom=15&layer=des-dr1&size=120\"></a></td><td>17<br><a href=\"http://legacysurvey.org/viewer?ra=329.8482432138561&dec=-49.72783388370071\"><img src=\"http://legacysurvey.org/viewer/jpeg-cutout/?ra=329.8482&dec=-49.72783&zoom=15&layer=des-dr1&size=120\"></a></td><td>18<br><a href=\"http://legacysurvey.org/viewer?ra=328.33243263123325&dec=-50.36201179659751\"><img src=\"http://legacysurvey.org/viewer/jpeg-cutout/?ra=328.3324&dec=-50.36201&zoom=15&layer=des-dr1&size=120\"></a></td><td>19<br><a href=\"http://legacysurvey.org/viewer?ra=328.5824450810196&dec=-50.148862829044056\"><img src=\"http://legacysurvey.org/viewer/jpeg-cutout/?ra=328.5824&dec=-50.14886&zoom=15&layer=des-dr1&size=120\"></a></td><td>20<br><a href=\"http://legacysurvey.org/viewer?ra=329.36185555207385&dec=-50.436058617945825\"><img src=\"http://legacysurvey.org/viewer/jpeg-cutout/?ra=329.3619&dec=-50.43606&zoom=15&layer=des-dr1&size=120\"></a></td><td>21<br><a href=\"http://legacysurvey.org/viewer?ra=328.96336208219213&dec=-50.44206339003897\"><img src=\"http://legacysurvey.org/viewer/jpeg-cutout/?ra=328.9634&dec=-50.44206&zoom=15&layer=des-dr1&size=120\"></a></td><td>22<br><a href=\"http://legacysurvey.org/viewer?ra=328.2553875335106&dec=-49.73988434772696\"><img src=\"http://legacysurvey.org/viewer/jpeg-cutout/?ra=328.2554&dec=-49.73988&zoom=15&layer=des-dr1&size=120\"></a></td><td>23<br><a href=\"http://legacysurvey.org/viewer?ra=329.02427532030714&dec=-48.47970335428254\"><img src=\"http://legacysurvey.org/viewer/jpeg-cutout/?ra=329.0243&dec=-48.4797&zoom=15&layer=des-dr1&size=120\"></a></td></tr>\n",
       "<tr><td>24<br><a href=\"http://legacysurvey.org/viewer?ra=329.6978974878286&dec=-49.27781521624814\"><img src=\"http://legacysurvey.org/viewer/jpeg-cutout/?ra=329.6979&dec=-49.27782&zoom=15&layer=des-dr1&size=120\"></a></td><td>25<br><a href=\"http://legacysurvey.org/viewer?ra=328.4203911810412&dec=-49.883814409053535\"><img src=\"http://legacysurvey.org/viewer/jpeg-cutout/?ra=328.4204&dec=-49.88381&zoom=15&layer=des-dr1&size=120\"></a></td><td>26<br><a href=\"http://legacysurvey.org/viewer?ra=328.8276391252249&dec=-50.126007948993276\"><img src=\"http://legacysurvey.org/viewer/jpeg-cutout/?ra=328.8276&dec=-50.12601&zoom=15&layer=des-dr1&size=120\"></a></td><td>27<br><a href=\"http://legacysurvey.org/viewer?ra=329.31694030722105&dec=-48.52390535963511\"><img src=\"http://legacysurvey.org/viewer/jpeg-cutout/?ra=329.3169&dec=-48.52391&zoom=15&layer=des-dr1&size=120\"></a></td><td>28<br><a href=\"http://legacysurvey.org/viewer?ra=328.8843989486366&dec=-48.5546953093607\"><img src=\"http://legacysurvey.org/viewer/jpeg-cutout/?ra=328.8844&dec=-48.5547&zoom=15&layer=des-dr1&size=120\"></a></td><td>29<br><a href=\"http://legacysurvey.org/viewer?ra=328.0022813853345&dec=-49.77139025453489\"><img src=\"http://legacysurvey.org/viewer/jpeg-cutout/?ra=328.0023&dec=-49.77139&zoom=15&layer=des-dr1&size=120\"></a></td><td>30<br><a href=\"http://legacysurvey.org/viewer?ra=329.3508750826583&dec=-50.09672387657202\"><img src=\"http://legacysurvey.org/viewer/jpeg-cutout/?ra=329.3509&dec=-50.09672&zoom=15&layer=des-dr1&size=120\"></a></td><td>31<br><a href=\"http://legacysurvey.org/viewer?ra=330.0565127912214&dec=-49.82598977521564\"><img src=\"http://legacysurvey.org/viewer/jpeg-cutout/?ra=330.0565&dec=-49.82599&zoom=15&layer=des-dr1&size=120\"></a></td></tr>\n",
       "<tr><td>32<br><a href=\"http://legacysurvey.org/viewer?ra=328.86305275154996&dec=-48.47687421978609\"><img src=\"http://legacysurvey.org/viewer/jpeg-cutout/?ra=328.8631&dec=-48.47687&zoom=15&layer=des-dr1&size=120\"></a></td><td>33<br><a href=\"http://legacysurvey.org/viewer?ra=328.14818902958734&dec=-49.469422744454974\"><img src=\"http://legacysurvey.org/viewer/jpeg-cutout/?ra=328.1482&dec=-49.46942&zoom=15&layer=des-dr1&size=120\"></a></td><td>34<br><a href=\"http://legacysurvey.org/viewer?ra=328.64684730602346&dec=-50.28188952922801\"><img src=\"http://legacysurvey.org/viewer/jpeg-cutout/?ra=328.6468&dec=-50.28189&zoom=15&layer=des-dr1&size=120\"></a></td><td>35<br><a href=\"http://legacysurvey.org/viewer?ra=328.47588965090284&dec=-48.773560993358814\"><img src=\"http://legacysurvey.org/viewer/jpeg-cutout/?ra=328.4759&dec=-48.77356&zoom=15&layer=des-dr1&size=120\"></a></td><td>36<br><a href=\"http://legacysurvey.org/viewer?ra=328.49274361186605&dec=-49.079296932228935\"><img src=\"http://legacysurvey.org/viewer/jpeg-cutout/?ra=328.4927&dec=-49.0793&zoom=15&layer=des-dr1&size=120\"></a></td><td>37<br><a href=\"http://legacysurvey.org/viewer?ra=328.31537200800136&dec=-50.3444560096651\"><img src=\"http://legacysurvey.org/viewer/jpeg-cutout/?ra=328.3154&dec=-50.34446&zoom=15&layer=des-dr1&size=120\"></a></td><td>38<br><a href=\"http://legacysurvey.org/viewer?ra=329.6706512778182&dec=-49.39890364727295\"><img src=\"http://legacysurvey.org/viewer/jpeg-cutout/?ra=329.6707&dec=-49.3989&zoom=15&layer=des-dr1&size=120\"></a></td><td>39<br><a href=\"http://legacysurvey.org/viewer?ra=329.89139906638115&dec=-49.25045594802147\"><img src=\"http://legacysurvey.org/viewer/jpeg-cutout/?ra=329.8914&dec=-49.25046&zoom=15&layer=des-dr1&size=120\"></a></td></tr>\n",
       "<tr><td>40<br><a href=\"http://legacysurvey.org/viewer?ra=329.55632158191383&dec=-48.57110686892952\"><img src=\"http://legacysurvey.org/viewer/jpeg-cutout/?ra=329.5563&dec=-48.57111&zoom=15&layer=des-dr1&size=120\"></a></td><td>41<br><a href=\"http://legacysurvey.org/viewer?ra=329.9269030447641&dec=-49.327848929882336\"><img src=\"http://legacysurvey.org/viewer/jpeg-cutout/?ra=329.9269&dec=-49.32785&zoom=15&layer=des-dr1&size=120\"></a></td><td>42<br><a href=\"http://legacysurvey.org/viewer?ra=329.37598343532244&dec=-48.885880027391664\"><img src=\"http://legacysurvey.org/viewer/jpeg-cutout/?ra=329.376&dec=-48.88588&zoom=15&layer=des-dr1&size=120\"></a></td><td>43<br><a href=\"http://legacysurvey.org/viewer?ra=330.0679703058213&dec=-49.65483111679998\"><img src=\"http://legacysurvey.org/viewer/jpeg-cutout/?ra=330.068&dec=-49.65483&zoom=15&layer=des-dr1&size=120\"></a></td><td>44<br><a href=\"http://legacysurvey.org/viewer?ra=328.5380039593684&dec=-50.21898124407409\"><img src=\"http://legacysurvey.org/viewer/jpeg-cutout/?ra=328.538&dec=-50.21898&zoom=15&layer=des-dr1&size=120\"></a></td><td>45<br><a href=\"http://legacysurvey.org/viewer?ra=328.5111741508039&dec=-48.67483636444492\"><img src=\"http://legacysurvey.org/viewer/jpeg-cutout/?ra=328.5112&dec=-48.67484&zoom=15&layer=des-dr1&size=120\"></a></td><td>46<br><a href=\"http://legacysurvey.org/viewer?ra=329.9929603325064&dec=-49.99171177180786\"><img src=\"http://legacysurvey.org/viewer/jpeg-cutout/?ra=329.993&dec=-49.99171&zoom=15&layer=des-dr1&size=120\"></a></td><td>47<br><a href=\"http://legacysurvey.org/viewer?ra=328.7287741485824&dec=-50.51725833683371\"><img src=\"http://legacysurvey.org/viewer/jpeg-cutout/?ra=328.7288&dec=-50.51726&zoom=15&layer=des-dr1&size=120\"></a></td></tr>\n",
       "<tr><td>48<br><a href=\"http://legacysurvey.org/viewer?ra=329.51351047282657&dec=-50.25231527786204\"><img src=\"http://legacysurvey.org/viewer/jpeg-cutout/?ra=329.5135&dec=-50.25232&zoom=15&layer=des-dr1&size=120\"></a></td><td>49<br><a href=\"http://legacysurvey.org/viewer?ra=329.8377375883008&dec=-49.70837285734163\"><img src=\"http://legacysurvey.org/viewer/jpeg-cutout/?ra=329.8377&dec=-49.70837&zoom=15&layer=des-dr1&size=120\"></a></td><td>50<br><a href=\"http://legacysurvey.org/viewer?ra=328.80780846261916&dec=-48.63777779131407\"><img src=\"http://legacysurvey.org/viewer/jpeg-cutout/?ra=328.8078&dec=-48.63778&zoom=15&layer=des-dr1&size=120\"></a></td><td>51<br><a href=\"http://legacysurvey.org/viewer?ra=328.72564391993916&dec=-48.48076763880613\"><img src=\"http://legacysurvey.org/viewer/jpeg-cutout/?ra=328.7256&dec=-48.48077&zoom=15&layer=des-dr1&size=120\"></a></td><td>52<br><a href=\"http://legacysurvey.org/viewer?ra=330.05514202742825&dec=-49.90151763833266\"><img src=\"http://legacysurvey.org/viewer/jpeg-cutout/?ra=330.0551&dec=-49.90152&zoom=15&layer=des-dr1&size=120\"></a></td><td>53<br><a href=\"http://legacysurvey.org/viewer?ra=328.43703506103645&dec=-50.427611903030694\"><img src=\"http://legacysurvey.org/viewer/jpeg-cutout/?ra=328.437&dec=-50.42761&zoom=15&layer=des-dr1&size=120\"></a></td><td>54<br><a href=\"http://legacysurvey.org/viewer?ra=328.381905913965&dec=-49.06582002043805\"><img src=\"http://legacysurvey.org/viewer/jpeg-cutout/?ra=328.3819&dec=-49.06582&zoom=15&layer=des-dr1&size=120\"></a></td><td>55<br><a href=\"http://legacysurvey.org/viewer?ra=329.00259923964325&dec=-50.23172046347237\"><img src=\"http://legacysurvey.org/viewer/jpeg-cutout/?ra=329.0026&dec=-50.23172&zoom=15&layer=des-dr1&size=120\"></a></td></tr>\n",
       "<tr><td>56<br><a href=\"http://legacysurvey.org/viewer?ra=328.6777945759203&dec=-50.5297095991782\"><img src=\"http://legacysurvey.org/viewer/jpeg-cutout/?ra=328.6778&dec=-50.52971&zoom=15&layer=des-dr1&size=120\"></a></td><td>57<br><a href=\"http://legacysurvey.org/viewer?ra=329.5003745412786&dec=-50.37863317974707\"><img src=\"http://legacysurvey.org/viewer/jpeg-cutout/?ra=329.5004&dec=-50.37863&zoom=15&layer=des-dr1&size=120\"></a></td><td>58<br><a href=\"http://legacysurvey.org/viewer?ra=328.0022812077552&dec=-49.77807338480105\"><img src=\"http://legacysurvey.org/viewer/jpeg-cutout/?ra=328.0023&dec=-49.77807&zoom=15&layer=des-dr1&size=120\"></a></td><td>59<br><a href=\"http://legacysurvey.org/viewer?ra=329.27077887055464&dec=-50.47024657937272\"><img src=\"http://legacysurvey.org/viewer/jpeg-cutout/?ra=329.2708&dec=-50.47025&zoom=15&layer=des-dr1&size=120\"></a></td><td>60<br><a href=\"http://legacysurvey.org/viewer?ra=329.2141134708597&dec=-50.313916229149406\"><img src=\"http://legacysurvey.org/viewer/jpeg-cutout/?ra=329.2141&dec=-50.31392&zoom=15&layer=des-dr1&size=120\"></a></td><td>61<br><a href=\"http://legacysurvey.org/viewer?ra=329.2277202722213&dec=-48.49208982861314\"><img src=\"http://legacysurvey.org/viewer/jpeg-cutout/?ra=329.2277&dec=-48.49209&zoom=15&layer=des-dr1&size=120\"></a></td><td>62<br><a href=\"http://legacysurvey.org/viewer?ra=329.31585186928027&dec=-50.561285552306934\"><img src=\"http://legacysurvey.org/viewer/jpeg-cutout/?ra=329.3159&dec=-50.56129&zoom=15&layer=des-dr1&size=120\"></a></td><td>63<br><a href=\"http://legacysurvey.org/viewer?ra=328.8908985150549&dec=-48.460292600748986\"><img src=\"http://legacysurvey.org/viewer/jpeg-cutout/?ra=328.8909&dec=-48.46029&zoom=15&layer=des-dr1&size=120\"></a></td></tr>\n",
       "<tr><td>64<br><a href=\"http://legacysurvey.org/viewer?ra=328.50944103791625&dec=-48.57675597400543\"><img src=\"http://legacysurvey.org/viewer/jpeg-cutout/?ra=328.5094&dec=-48.57676&zoom=15&layer=des-dr1&size=120\"></a></td><td>65<br><a href=\"http://legacysurvey.org/viewer?ra=329.32334091599955&dec=-50.126249362499536\"><img src=\"http://legacysurvey.org/viewer/jpeg-cutout/?ra=329.3233&dec=-50.12625&zoom=15&layer=des-dr1&size=120\"></a></td><td>66<br><a href=\"http://legacysurvey.org/viewer?ra=329.0817596858082&dec=-48.49867157635359\"><img src=\"http://legacysurvey.org/viewer/jpeg-cutout/?ra=329.0818&dec=-48.49867&zoom=15&layer=des-dr1&size=120\"></a></td><td>67<br><a href=\"http://legacysurvey.org/viewer?ra=329.6553140883494&dec=-49.98719547639005\"><img src=\"http://legacysurvey.org/viewer/jpeg-cutout/?ra=329.6553&dec=-49.9872&zoom=15&layer=des-dr1&size=120\"></a></td><td>68<br><a href=\"http://legacysurvey.org/viewer?ra=328.3431077951179&dec=-48.86155011099226\"><img src=\"http://legacysurvey.org/viewer/jpeg-cutout/?ra=328.3431&dec=-48.86155&zoom=15&layer=des-dr1&size=120\"></a></td><td>69<br><a href=\"http://legacysurvey.org/viewer?ra=328.33254109136436&dec=-48.99717176651157\"><img src=\"http://legacysurvey.org/viewer/jpeg-cutout/?ra=328.3325&dec=-48.99717&zoom=15&layer=des-dr1&size=120\"></a></td><td>70<br><a href=\"http://legacysurvey.org/viewer?ra=329.61608711210704&dec=-50.0273214903538\"><img src=\"http://legacysurvey.org/viewer/jpeg-cutout/?ra=329.6161&dec=-50.02732&zoom=15&layer=des-dr1&size=120\"></a></td><td>71<br><a href=\"http://legacysurvey.org/viewer?ra=328.35198092782457&dec=-49.57073080202721\"><img src=\"http://legacysurvey.org/viewer/jpeg-cutout/?ra=328.352&dec=-49.57073&zoom=15&layer=des-dr1&size=120\"></a></td></tr>\n",
       "<tr><td>72<br><a href=\"http://legacysurvey.org/viewer?ra=329.30241752451866&dec=-50.41809752924072\"><img src=\"http://legacysurvey.org/viewer/jpeg-cutout/?ra=329.3024&dec=-50.4181&zoom=15&layer=des-dr1&size=120\"></a></td><td>73<br><a href=\"http://legacysurvey.org/viewer?ra=329.2416572728534&dec=-48.44595457332249\"><img src=\"http://legacysurvey.org/viewer/jpeg-cutout/?ra=329.2417&dec=-48.44595&zoom=15&layer=des-dr1&size=120\"></a></td><td>74<br><a href=\"http://legacysurvey.org/viewer?ra=329.64697695908967&dec=-49.92650340247073\"><img src=\"http://legacysurvey.org/viewer/jpeg-cutout/?ra=329.647&dec=-49.9265&zoom=15&layer=des-dr1&size=120\"></a></td><td>75<br><a href=\"http://legacysurvey.org/viewer?ra=328.4183224449342&dec=-49.175605739983794\"><img src=\"http://legacysurvey.org/viewer/jpeg-cutout/?ra=328.4183&dec=-49.17561&zoom=15&layer=des-dr1&size=120\"></a></td><td>76<br><a href=\"http://legacysurvey.org/viewer?ra=328.75026496717345&dec=-48.529048673301304\"><img src=\"http://legacysurvey.org/viewer/jpeg-cutout/?ra=328.7503&dec=-48.52905&zoom=15&layer=des-dr1&size=120\"></a></td><td>77<br><a href=\"http://legacysurvey.org/viewer?ra=329.517425076186&dec=-50.01281235949528\"><img src=\"http://legacysurvey.org/viewer/jpeg-cutout/?ra=329.5174&dec=-50.01281&zoom=15&layer=des-dr1&size=120\"></a></td><td>78<br><a href=\"http://legacysurvey.org/viewer?ra=329.1061581210184&dec=-48.47949194738368\"><img src=\"http://legacysurvey.org/viewer/jpeg-cutout/?ra=329.1062&dec=-48.47949&zoom=15&layer=des-dr1&size=120\"></a></td><td>79<br><a href=\"http://legacysurvey.org/viewer?ra=328.24998215366503&dec=-50.05471071121388\"><img src=\"http://legacysurvey.org/viewer/jpeg-cutout/?ra=328.25&dec=-50.05471&zoom=15&layer=des-dr1&size=120\"></a></td></tr>\n",
       "<tr><td>80<br><a href=\"http://legacysurvey.org/viewer?ra=328.52515483947917&dec=-48.57218765622888\"><img src=\"http://legacysurvey.org/viewer/jpeg-cutout/?ra=328.5252&dec=-48.57219&zoom=15&layer=des-dr1&size=120\"></a></td><td>81<br><a href=\"http://legacysurvey.org/viewer?ra=328.6086588784905&dec=-48.638444668227116\"><img src=\"http://legacysurvey.org/viewer/jpeg-cutout/?ra=328.6087&dec=-48.63844&zoom=15&layer=des-dr1&size=120\"></a></td><td>82<br><a href=\"http://legacysurvey.org/viewer?ra=328.2485689423346&dec=-50.16570965159822\"><img src=\"http://legacysurvey.org/viewer/jpeg-cutout/?ra=328.2486&dec=-50.16571&zoom=15&layer=des-dr1&size=120\"></a></td><td>83<br><a href=\"http://legacysurvey.org/viewer?ra=329.05625050620165&dec=-48.50086206256079\"><img src=\"http://legacysurvey.org/viewer/jpeg-cutout/?ra=329.0563&dec=-48.50086&zoom=15&layer=des-dr1&size=120\"></a></td><td>84<br><a href=\"http://legacysurvey.org/viewer?ra=328.2171628085955&dec=-49.10141977065156\"><img src=\"http://legacysurvey.org/viewer/jpeg-cutout/?ra=328.2172&dec=-49.10142&zoom=15&layer=des-dr1&size=120\"></a></td><td>85<br><a href=\"http://legacysurvey.org/viewer?ra=329.56576862445235&dec=-48.939917075270344\"><img src=\"http://legacysurvey.org/viewer/jpeg-cutout/?ra=329.5658&dec=-48.93992&zoom=15&layer=des-dr1&size=120\"></a></td><td>86<br><a href=\"http://legacysurvey.org/viewer?ra=329.73932827206977&dec=-49.910198908345784\"><img src=\"http://legacysurvey.org/viewer/jpeg-cutout/?ra=329.7393&dec=-49.9102&zoom=15&layer=des-dr1&size=120\"></a></td><td>87<br><a href=\"http://legacysurvey.org/viewer?ra=329.74900390592563&dec=-50.28586666113147\"><img src=\"http://legacysurvey.org/viewer/jpeg-cutout/?ra=329.749&dec=-50.28587&zoom=15&layer=des-dr1&size=120\"></a></td></tr>\n",
       "<tr><td>88<br><a href=\"http://legacysurvey.org/viewer?ra=328.5545329827647&dec=-48.82939020566698\"><img src=\"http://legacysurvey.org/viewer/jpeg-cutout/?ra=328.5545&dec=-48.82939&zoom=15&layer=des-dr1&size=120\"></a></td><td>89<br><a href=\"http://legacysurvey.org/viewer?ra=329.2870250200492&dec=-48.80628500437049\"><img src=\"http://legacysurvey.org/viewer/jpeg-cutout/?ra=329.287&dec=-48.80629&zoom=15&layer=des-dr1&size=120\"></a></td><td>90<br><a href=\"http://legacysurvey.org/viewer?ra=328.6775367564742&dec=-50.481251696717145\"><img src=\"http://legacysurvey.org/viewer/jpeg-cutout/?ra=328.6775&dec=-50.48125&zoom=15&layer=des-dr1&size=120\"></a></td><td>91<br><a href=\"http://legacysurvey.org/viewer?ra=328.32886293853596&dec=-48.8748747371117\"><img src=\"http://legacysurvey.org/viewer/jpeg-cutout/?ra=328.3289&dec=-48.87487&zoom=15&layer=des-dr1&size=120\"></a></td><td>92<br><a href=\"http://legacysurvey.org/viewer?ra=328.20350594542475&dec=-50.03477711531536\"><img src=\"http://legacysurvey.org/viewer/jpeg-cutout/?ra=328.2035&dec=-50.03478&zoom=15&layer=des-dr1&size=120\"></a></td><td>93<br><a href=\"http://legacysurvey.org/viewer?ra=329.88081201535994&dec=-48.92709945029636\"><img src=\"http://legacysurvey.org/viewer/jpeg-cutout/?ra=329.8808&dec=-48.9271&zoom=15&layer=des-dr1&size=120\"></a></td><td>94<br><a href=\"http://legacysurvey.org/viewer?ra=328.6297406529369&dec=-48.726564851323026\"><img src=\"http://legacysurvey.org/viewer/jpeg-cutout/?ra=328.6297&dec=-48.72656&zoom=15&layer=des-dr1&size=120\"></a></td><td>95<br><a href=\"http://legacysurvey.org/viewer?ra=328.58852629608134&dec=-48.906517902546376\"><img src=\"http://legacysurvey.org/viewer/jpeg-cutout/?ra=328.5885&dec=-48.90652&zoom=15&layer=des-dr1&size=120\"></a></td></tr>\n",
       "<tr><td>96<br><a href=\"http://legacysurvey.org/viewer?ra=329.18369283023185&dec=-48.83507742548195\"><img src=\"http://legacysurvey.org/viewer/jpeg-cutout/?ra=329.1837&dec=-48.83508&zoom=15&layer=des-dr1&size=120\"></a></td><td>97<br><a href=\"http://legacysurvey.org/viewer?ra=328.97606331289603&dec=-50.26459691663012\"><img src=\"http://legacysurvey.org/viewer/jpeg-cutout/?ra=328.9761&dec=-50.2646&zoom=15&layer=des-dr1&size=120\"></a></td><td>98<br><a href=\"http://legacysurvey.org/viewer?ra=328.68361758817434&dec=-50.34876679197284\"><img src=\"http://legacysurvey.org/viewer/jpeg-cutout/?ra=328.6836&dec=-50.34877&zoom=15&layer=des-dr1&size=120\"></a></td><td>99<br><a href=\"http://legacysurvey.org/viewer?ra=328.9724332561455&dec=-48.58186587821626\"><img src=\"http://legacysurvey.org/viewer/jpeg-cutout/?ra=328.9724&dec=-48.58187&zoom=15&layer=des-dr1&size=120\"></a></td><td></td><td></td><td></td><td></td></tr>\n",
       "    </table>\n",
       "    "
      ],
      "text/plain": [
       "<IPython.core.display.HTML object>"
      ]
     },
     "execution_count": 36,
     "metadata": {},
     "output_type": "execute_result"
    }
   ],
   "source": [
    "#The below is only necessary if the decals viewer is broken but the targets are in DES\n",
    "# make_des_cutouts_file(acat[acat['Notes']=='sky'])\n",
    "# show_des_cutouts(acat[acat['Notes']=='sky'], <'JOBNAME'>, ncols=8, namecol='TargetName')\n",
    "\n",
    "make_decals_viewer_cutouts(acat[acat['Notes']=='sky'], survey='des-dr1', namecol='TargetName',\n",
    "                           ncols=8, zoom=15, size=120)"
   ]
  },
  {
   "cell_type": "code",
   "execution_count": 37,
   "metadata": {},
   "outputs": [
    {
     "data": {
      "text/plain": [
       "88"
      ]
     },
     "execution_count": 37,
     "metadata": {},
     "output_type": "execute_result"
    }
   ],
   "source": [
    "skys_to_rem = [int(i) for i in '2 23 27 47 50 51 61 62 66 73 75 83'.split()]\n",
    "writecat.remove_rows((writecat['Notes']=='Sky')&(np.in1d(writecat['TargetName'], skys_to_rem)))\n",
    "np.sum((writecat['Notes']=='Sky'))"
   ]
  },
  {
   "cell_type": "code",
   "execution_count": 44,
   "metadata": {},
   "outputs": [
    {
     "name": "stdout",
     "output_type": "stream",
     "text": [
      "Nflux: 5 Nguide: 100 NSky 88\n",
      "Targets in each priority: {1: 200, 2: 130, 3: 29, 4: 50, 5: 158, 6: 102, 7: 109, 8: 11}\n",
      "Total: 982\n",
      "Writing aat_targets_oct2018/pgc67663_2.fld\n"
     ]
    },
    {
     "data": {
      "text/plain": [
       "789"
      ]
     },
     "execution_count": 44,
     "metadata": {},
     "output_type": "execute_result"
    }
   ],
   "source": [
    "subsampledcat = subsample_catalog(writecat, {1:200}, maxflux=5, maxguides=100)\n",
    "\n",
    "fldfn = 'aat_targets_oct2018/{}_{}.fld'.format(hostname, fieldnum)\n",
    "print('Writing', fldfn)\n",
    "write_fld_file(subsampledcat, host, obs_start_date, fldfn, suffix='_{}'.format(fieldnum))\n",
    "np.sum(subsampledcat['Notes'] == 'Targets')"
   ]
  },
  {
   "cell_type": "code",
   "execution_count": 45,
   "metadata": {},
   "outputs": [
    {
     "name": "stdout",
     "output_type": "stream",
     "text": [
      "pgc67663_2.fld                                100%   53KB  53.2KB/s   00:00    \n"
     ]
    }
   ],
   "source": [
    "!scp $fldfn visitor8@aatlxh:~/oct04/"
   ]
  },
  {
   "cell_type": "markdown",
   "metadata": {},
   "source": [
    "## pgc1952"
   ]
  },
  {
   "cell_type": "code",
   "execution_count": 82,
   "metadata": {},
   "outputs": [
    {
     "name": "stdout",
     "output_type": "stream",
     "text": [
      "[10/04 20:11:47] Base catalog v2 for pgc1952 already exists (./base_catalogs/base_v2_pgc1952.fits.gz). (1/1)\n"
     ]
    }
   ],
   "source": [
    "idnum = 1952\n",
    "fieldnum = 1\n",
    "\n",
    "saga_object_catalog.build_and_write_to_database('pgc{}'.format(idnum), overwrite=fieldnum>1)"
   ]
  },
  {
   "cell_type": "code",
   "execution_count": 83,
   "metadata": {},
   "outputs": [
    {
     "name": "stdout",
     "output_type": "stream",
     "text": [
      "pgc1952\n",
      "00h32m02.112s -64d15m12.24s\n",
      "# of flux stars = 141\n",
      "# of sky fibers = 100\n",
      "# of Priority=1 targets = 490\n",
      "# of Priority=2 targets = 109\n",
      "# of Priority=3 targets = 10\n",
      "# of Priority=4 targets = 50\n",
      "# of Priority=5 targets = 115\n",
      "# of Priority=6 targets = 62\n",
      "# of Priority=7 targets = 42\n",
      "# of Priority=8 targets = 5\n",
      "# of Priority=9 targets = 241\n",
      "Object catalog to Gaia offset: (<Angle -0.36644631 arcsec>, <Angle 0.07111843 arcsec>) from 921 objects (72.6%)\n",
      "Found 171 Gaia guide stars\n",
      "46 Have a brightish neighbor.  Removing them.\n"
     ]
    },
    {
     "data": {
      "text/plain": [
       "1249"
      ]
     },
     "execution_count": 83,
     "metadata": {},
     "output_type": "execute_result"
    }
   ],
   "source": [
    "host = targethosts[targethosts['PGC'] == idnum]\n",
    "assert len(host) == 1\n",
    "host = host[0]\n",
    "\n",
    "hostname = host[host_id_label]\n",
    "print(hostname)\n",
    "print(SkyCoord(host['RA'], host['Dec'], unit=u.deg).to_string('hmsdms'))\n",
    "\n",
    "tcats[hostname] = tcat = saga_targets.build_target_catalogs(hostname, return_as='list', reload_base=True).pop()\n",
    "acats[hostname] = acat = saga.targets.prepare_aat_catalog(tcat, sky_fiber_needed=100)\n",
    "\n",
    "guidestars = get_gaia_guidestars(hostname)\n",
    "writecat = table.vstack([acat, guidestars])\n",
    "writecat['Notes'] = [n.title() for n in writecat['Notes']]\n",
    "len(writecat)"
   ]
  },
  {
   "cell_type": "code",
   "execution_count": 84,
   "metadata": {},
   "outputs": [
    {
     "data": {
      "text/html": [
       "\n",
       "    <table>\n",
       "    <tr><td>4708349892420964224<br><a href=\"http://legacysurvey.org/viewer?ra=7.565678875540853&dec=-64.57311794425158\"><img src=\"http://legacysurvey.org/viewer/jpeg-cutout/?ra=7.565679&dec=-64.57312&zoom=17&layer=unwise-w1w2&size=120\"></a></td><td>4708457030381329792<br><a href=\"http://legacysurvey.org/viewer?ra=8.639001259588673&dec=-64.19772610088302\"><img src=\"http://legacysurvey.org/viewer/jpeg-cutout/?ra=8.639001&dec=-64.19773&zoom=17&layer=unwise-w1w2&size=120\"></a></td><td>4708380064567371776<br><a href=\"http://legacysurvey.org/viewer?ra=8.470637360540357&dec=-64.65368859817954\"><img src=\"http://legacysurvey.org/viewer/jpeg-cutout/?ra=8.470637&dec=-64.65369&zoom=17&layer=unwise-w1w2&size=120\"></a></td><td>4708184866893917824<br><a href=\"http://legacysurvey.org/viewer?ra=8.054957031760942&dec=-64.93863649496538\"><img src=\"http://legacysurvey.org/viewer/jpeg-cutout/?ra=8.054957&dec=-64.93864&zoom=17&layer=unwise-w1w2&size=120\"></a></td><td>4900805560184448384<br><a href=\"http://legacysurvey.org/viewer?ra=7.149451646094014&dec=-63.54478138616201\"><img src=\"http://legacysurvey.org/viewer/jpeg-cutout/?ra=7.149452&dec=-63.54478&zoom=17&layer=unwise-w1w2&size=120\"></a></td><td>4900604074678797568<br><a href=\"http://legacysurvey.org/viewer?ra=6.448201997685635&dec=-63.890370170068664\"><img src=\"http://legacysurvey.org/viewer/jpeg-cutout/?ra=6.448202&dec=-63.89037&zoom=17&layer=unwise-w1w2&size=120\"></a></td></tr>\n",
       "<tr><td>4900541471235457664<br><a href=\"http://legacysurvey.org/viewer?ra=7.23871424827434&dec=-64.14510494547099\"><img src=\"http://legacysurvey.org/viewer/jpeg-cutout/?ra=7.238714&dec=-64.1451&zoom=17&layer=unwise-w1w2&size=120\"></a></td><td>4708274064774704000<br><a href=\"http://legacysurvey.org/viewer?ra=6.999038433878068&dec=-65.09729207603714\"><img src=\"http://legacysurvey.org/viewer/jpeg-cutout/?ra=6.999038&dec=-65.09729&zoom=17&layer=unwise-w1w2&size=120\"></a></td><td>4900660355930222464<br><a href=\"http://legacysurvey.org/viewer?ra=9.078597100417193&dec=-63.63864705016112\"><img src=\"http://legacysurvey.org/viewer/jpeg-cutout/?ra=9.078597&dec=-63.63865&zoom=17&layer=unwise-w1w2&size=120\"></a></td><td>4708480257564404480<br><a href=\"http://legacysurvey.org/viewer?ra=9.163099858796695&dec=-64.05163248048012\"><img src=\"http://legacysurvey.org/viewer/jpeg-cutout/?ra=9.1631&dec=-64.05163&zoom=17&layer=unwise-w1w2&size=120\"></a></td><td>4900613454887348864<br><a href=\"http://legacysurvey.org/viewer?ra=7.212939007871102&dec=-63.65450295225366\"><img src=\"http://legacysurvey.org/viewer/jpeg-cutout/?ra=7.212939&dec=-63.6545&zoom=17&layer=unwise-w1w2&size=120\"></a></td><td>4708503278589078400<br><a href=\"http://legacysurvey.org/viewer?ra=9.38408062310622&dec=-63.72149850347422\"><img src=\"http://legacysurvey.org/viewer/jpeg-cutout/?ra=9.384081&dec=-63.7215&zoom=17&layer=unwise-w1w2&size=120\"></a></td></tr>\n",
       "<tr><td>4708286399920774400<br><a href=\"http://legacysurvey.org/viewer?ra=6.869682038976964&dec=-65.0183927418978\"><img src=\"http://legacysurvey.org/viewer/jpeg-cutout/?ra=6.869682&dec=-65.01839&zoom=17&layer=unwise-w1w2&size=120\"></a></td><td>4900642660665060736<br><a href=\"http://legacysurvey.org/viewer?ra=7.82185262702361&dec=-63.84580091423649\"><img src=\"http://legacysurvey.org/viewer/jpeg-cutout/?ra=7.821853&dec=-63.8458&zoom=17&layer=unwise-w1w2&size=120\"></a></td><td>4708219295351729408<br><a href=\"http://legacysurvey.org/viewer?ra=9.329107909716152&dec=-64.61270846044584\"><img src=\"http://legacysurvey.org/viewer/jpeg-cutout/?ra=9.329108&dec=-64.61271&zoom=17&layer=unwise-w1w2&size=120\"></a></td><td>4900615275953476608<br><a href=\"http://legacysurvey.org/viewer?ra=7.477207064905362&dec=-63.598312105539854\"><img src=\"http://legacysurvey.org/viewer/jpeg-cutout/?ra=7.477207&dec=-63.59831&zoom=17&layer=unwise-w1w2&size=120\"></a></td><td>4708226648335664512<br><a href=\"http://legacysurvey.org/viewer?ra=10.1251110578973&dec=-64.38841122844883\"><img src=\"http://legacysurvey.org/viewer/jpeg-cutout/?ra=10.12511&dec=-64.38841&zoom=17&layer=unwise-w1w2&size=120\"></a></td><td>4708436586336930432<br><a href=\"http://legacysurvey.org/viewer?ra=10.018712272072092&dec=-64.07068155470522\"><img src=\"http://legacysurvey.org/viewer/jpeg-cutout/?ra=10.01871&dec=-64.07068&zoom=17&layer=unwise-w1w2&size=120\"></a></td></tr>\n",
       "<tr><td>4900636304113437312<br><a href=\"http://legacysurvey.org/viewer?ra=8.701763208270178&dec=-63.74448626180818\"><img src=\"http://legacysurvey.org/viewer/jpeg-cutout/?ra=8.701763&dec=-63.74449&zoom=17&layer=unwise-w1w2&size=120\"></a></td><td>4708478677016445184<br><a href=\"http://legacysurvey.org/viewer?ra=9.130571857844709&dec=-64.11857691587446\"><img src=\"http://legacysurvey.org/viewer/jpeg-cutout/?ra=9.130572&dec=-64.11858&zoom=17&layer=unwise-w1w2&size=120\"></a></td><td>4709732841826766976<br><a href=\"http://legacysurvey.org/viewer?ra=10.302601856231977&dec=-64.23202557101493\"><img src=\"http://legacysurvey.org/viewer/jpeg-cutout/?ra=10.3026&dec=-64.23203&zoom=17&layer=unwise-w1w2&size=120\"></a></td><td>4708367385824049024<br><a href=\"http://legacysurvey.org/viewer?ra=7.534879986690312&dec=-64.38496667831623\"><img src=\"http://legacysurvey.org/viewer/jpeg-cutout/?ra=7.53488&dec=-64.38497&zoom=17&layer=unwise-w1w2&size=120\"></a></td><td>4900803532959886464<br><a href=\"http://legacysurvey.org/viewer?ra=6.802772983616187&dec=-63.53242928210387\"><img src=\"http://legacysurvey.org/viewer/jpeg-cutout/?ra=6.802773&dec=-63.53243&zoom=17&layer=unwise-w1w2&size=120\"></a></td><td>4900633417895436800<br><a href=\"http://legacysurvey.org/viewer?ra=8.355459497991061&dec=-63.88906794591524\"><img src=\"http://legacysurvey.org/viewer/jpeg-cutout/?ra=8.355459&dec=-63.88907&zoom=17&layer=unwise-w1w2&size=120\"></a></td></tr>\n",
       "    </table>\n",
       "    "
      ],
      "text/plain": [
       "<IPython.core.display.HTML object>"
      ]
     },
     "execution_count": 84,
     "metadata": {},
     "output_type": "execute_result"
    }
   ],
   "source": [
    "# only need to remove if something really fishy is going on\n",
    "make_decals_viewer_cutouts(guidestars[np.random.permutation(len(guidestars))[:24]], \n",
    "                           survey='unwise-w1w2',ncols=6,namecol='TargetName', zoom=17)"
   ]
  },
  {
   "cell_type": "code",
   "execution_count": 85,
   "metadata": {},
   "outputs": [
    {
     "data": {
      "text/html": [
       "\n",
       "    <table>\n",
       "    <tr><td>0<br><a href=\"http://legacysurvey.org/viewer?ra=7.989029437151122&dec=-64.94803712854879\"><img src=\"http://legacysurvey.org/viewer/jpeg-cutout/?ra=7.989029&dec=-64.94804&zoom=15&layer=des-dr1&size=120\"></a></td><td>1<br><a href=\"http://legacysurvey.org/viewer?ra=7.470981194852402&dec=-65.20269669708075\"><img src=\"http://legacysurvey.org/viewer/jpeg-cutout/?ra=7.470981&dec=-65.2027&zoom=15&layer=des-dr1&size=120\"></a></td><td>2<br><a href=\"http://legacysurvey.org/viewer?ra=8.152452606895395&dec=-65.00852795517221\"><img src=\"http://legacysurvey.org/viewer/jpeg-cutout/?ra=8.152453&dec=-65.00853&zoom=15&layer=des-dr1&size=120\"></a></td><td>3<br><a href=\"http://legacysurvey.org/viewer?ra=7.394637804606587&dec=-63.74254905794438\"><img src=\"http://legacysurvey.org/viewer/jpeg-cutout/?ra=7.394638&dec=-63.74255&zoom=15&layer=des-dr1&size=120\"></a></td><td>4<br><a href=\"http://legacysurvey.org/viewer?ra=7.368804889141954&dec=-64.82197587749809\"><img src=\"http://legacysurvey.org/viewer/jpeg-cutout/?ra=7.368805&dec=-64.82198&zoom=15&layer=des-dr1&size=120\"></a></td><td>5<br><a href=\"http://legacysurvey.org/viewer?ra=7.943470804415694&dec=-63.22755030973191\"><img src=\"http://legacysurvey.org/viewer/jpeg-cutout/?ra=7.943471&dec=-63.22755&zoom=15&layer=des-dr1&size=120\"></a></td><td>6<br><a href=\"http://legacysurvey.org/viewer?ra=7.262719772138817&dec=-63.746274776756046\"><img src=\"http://legacysurvey.org/viewer/jpeg-cutout/?ra=7.26272&dec=-63.74627&zoom=15&layer=des-dr1&size=120\"></a></td><td>7<br><a href=\"http://legacysurvey.org/viewer?ra=8.612017461922589&dec=-64.49852949734462\"><img src=\"http://legacysurvey.org/viewer/jpeg-cutout/?ra=8.612017&dec=-64.49853&zoom=15&layer=des-dr1&size=120\"></a></td></tr>\n",
       "<tr><td>8<br><a href=\"http://legacysurvey.org/viewer?ra=8.030004237553365&dec=-63.45976293612874\"><img src=\"http://legacysurvey.org/viewer/jpeg-cutout/?ra=8.030004&dec=-63.45976&zoom=15&layer=des-dr1&size=120\"></a></td><td>9<br><a href=\"http://legacysurvey.org/viewer?ra=7.705752502884177&dec=-65.02958759085847\"><img src=\"http://legacysurvey.org/viewer/jpeg-cutout/?ra=7.705753&dec=-65.02959&zoom=15&layer=des-dr1&size=120\"></a></td><td>10<br><a href=\"http://legacysurvey.org/viewer?ra=8.77516880556937&dec=-64.5929337413468\"><img src=\"http://legacysurvey.org/viewer/jpeg-cutout/?ra=8.775169&dec=-64.59293&zoom=15&layer=des-dr1&size=120\"></a></td><td>11<br><a href=\"http://legacysurvey.org/viewer?ra=8.152847382147714&dec=-65.06746809969728\"><img src=\"http://legacysurvey.org/viewer/jpeg-cutout/?ra=8.152847&dec=-65.06747&zoom=15&layer=des-dr1&size=120\"></a></td><td>12<br><a href=\"http://legacysurvey.org/viewer?ra=8.6713286034842&dec=-65.02423165427747\"><img src=\"http://legacysurvey.org/viewer/jpeg-cutout/?ra=8.671329&dec=-65.02423&zoom=15&layer=des-dr1&size=120\"></a></td><td>13<br><a href=\"http://legacysurvey.org/viewer?ra=7.420807164115408&dec=-63.85908364323309\"><img src=\"http://legacysurvey.org/viewer/jpeg-cutout/?ra=7.420807&dec=-63.85908&zoom=15&layer=des-dr1&size=120\"></a></td><td>14<br><a href=\"http://legacysurvey.org/viewer?ra=8.245982920239442&dec=-65.00170792225703\"><img src=\"http://legacysurvey.org/viewer/jpeg-cutout/?ra=8.245983&dec=-65.00171&zoom=15&layer=des-dr1&size=120\"></a></td><td>15<br><a href=\"http://legacysurvey.org/viewer?ra=8.112999592346045&dec=-65.09035569695354\"><img src=\"http://legacysurvey.org/viewer/jpeg-cutout/?ra=8.113&dec=-65.09036&zoom=15&layer=des-dr1&size=120\"></a></td></tr>\n",
       "<tr><td>16<br><a href=\"http://legacysurvey.org/viewer?ra=8.10301914165783&dec=-65.13623027002797\"><img src=\"http://legacysurvey.org/viewer/jpeg-cutout/?ra=8.103019&dec=-65.13623&zoom=15&layer=des-dr1&size=120\"></a></td><td>17<br><a href=\"http://legacysurvey.org/viewer?ra=7.453081582503874&dec=-65.11398261396596\"><img src=\"http://legacysurvey.org/viewer/jpeg-cutout/?ra=7.453082&dec=-65.11398&zoom=15&layer=des-dr1&size=120\"></a></td><td>18<br><a href=\"http://legacysurvey.org/viewer?ra=7.823634965859862&dec=-65.2824388704092\"><img src=\"http://legacysurvey.org/viewer/jpeg-cutout/?ra=7.823635&dec=-65.28244&zoom=15&layer=des-dr1&size=120\"></a></td><td>19<br><a href=\"http://legacysurvey.org/viewer?ra=8.572269393152158&dec=-63.5372730279069\"><img src=\"http://legacysurvey.org/viewer/jpeg-cutout/?ra=8.572269&dec=-63.53727&zoom=15&layer=des-dr1&size=120\"></a></td><td>20<br><a href=\"http://legacysurvey.org/viewer?ra=8.266263348499525&dec=-65.18184346613049\"><img src=\"http://legacysurvey.org/viewer/jpeg-cutout/?ra=8.266263&dec=-65.18184&zoom=15&layer=des-dr1&size=120\"></a></td><td>21<br><a href=\"http://legacysurvey.org/viewer?ra=7.679641015077776&dec=-64.74230681293402\"><img src=\"http://legacysurvey.org/viewer/jpeg-cutout/?ra=7.679641&dec=-64.74231&zoom=15&layer=des-dr1&size=120\"></a></td><td>22<br><a href=\"http://legacysurvey.org/viewer?ra=8.574904154188172&dec=-65.01220868290622\"><img src=\"http://legacysurvey.org/viewer/jpeg-cutout/?ra=8.574904&dec=-65.01221&zoom=15&layer=des-dr1&size=120\"></a></td><td>23<br><a href=\"http://legacysurvey.org/viewer?ra=8.610676996238436&dec=-64.73793807196898\"><img src=\"http://legacysurvey.org/viewer/jpeg-cutout/?ra=8.610677&dec=-64.73794&zoom=15&layer=des-dr1&size=120\"></a></td></tr>\n",
       "<tr><td>24<br><a href=\"http://legacysurvey.org/viewer?ra=7.984204817704078&dec=-65.19964926858141\"><img src=\"http://legacysurvey.org/viewer/jpeg-cutout/?ra=7.984205&dec=-65.19965&zoom=15&layer=des-dr1&size=120\"></a></td><td>25<br><a href=\"http://legacysurvey.org/viewer?ra=7.6191530201485&dec=-64.7872197579571\"><img src=\"http://legacysurvey.org/viewer/jpeg-cutout/?ra=7.619153&dec=-64.78722&zoom=15&layer=des-dr1&size=120\"></a></td><td>26<br><a href=\"http://legacysurvey.org/viewer?ra=7.5597526962824295&dec=-64.96926641248487\"><img src=\"http://legacysurvey.org/viewer/jpeg-cutout/?ra=7.559753&dec=-64.96927&zoom=15&layer=des-dr1&size=120\"></a></td><td>27<br><a href=\"http://legacysurvey.org/viewer?ra=8.16697150738302&dec=-65.1728737670706\"><img src=\"http://legacysurvey.org/viewer/jpeg-cutout/?ra=8.166972&dec=-65.17287&zoom=15&layer=des-dr1&size=120\"></a></td><td>28<br><a href=\"http://legacysurvey.org/viewer?ra=8.576663647067624&dec=-64.20527429812007\"><img src=\"http://legacysurvey.org/viewer/jpeg-cutout/?ra=8.576664&dec=-64.20527&zoom=15&layer=des-dr1&size=120\"></a></td><td>29<br><a href=\"http://legacysurvey.org/viewer?ra=8.317741655510064&dec=-65.1308114881608\"><img src=\"http://legacysurvey.org/viewer/jpeg-cutout/?ra=8.317742&dec=-65.13081&zoom=15&layer=des-dr1&size=120\"></a></td><td>30<br><a href=\"http://legacysurvey.org/viewer?ra=7.936665698095854&dec=-65.11929740188063\"><img src=\"http://legacysurvey.org/viewer/jpeg-cutout/?ra=7.936666&dec=-65.1193&zoom=15&layer=des-dr1&size=120\"></a></td><td>31<br><a href=\"http://legacysurvey.org/viewer?ra=7.993311539891478&dec=-63.227351503335875\"><img src=\"http://legacysurvey.org/viewer/jpeg-cutout/?ra=7.993312&dec=-63.22735&zoom=15&layer=des-dr1&size=120\"></a></td></tr>\n",
       "<tr><td>32<br><a href=\"http://legacysurvey.org/viewer?ra=7.6260982362459595&dec=-63.32936726649252\"><img src=\"http://legacysurvey.org/viewer/jpeg-cutout/?ra=7.626098&dec=-63.32937&zoom=15&layer=des-dr1&size=120\"></a></td><td>33<br><a href=\"http://legacysurvey.org/viewer?ra=7.508644371126523&dec=-64.25518512760877\"><img src=\"http://legacysurvey.org/viewer/jpeg-cutout/?ra=7.508644&dec=-64.25519&zoom=15&layer=des-dr1&size=120\"></a></td><td>34<br><a href=\"http://legacysurvey.org/viewer?ra=7.29988187647435&dec=-64.66990193223775\"><img src=\"http://legacysurvey.org/viewer/jpeg-cutout/?ra=7.299882&dec=-64.6699&zoom=15&layer=des-dr1&size=120\"></a></td><td>35<br><a href=\"http://legacysurvey.org/viewer?ra=8.296016786279386&dec=-65.02118412472899\"><img src=\"http://legacysurvey.org/viewer/jpeg-cutout/?ra=8.296017&dec=-65.02118&zoom=15&layer=des-dr1&size=120\"></a></td><td>36<br><a href=\"http://legacysurvey.org/viewer?ra=7.833706925426755&dec=-63.21928168336154\"><img src=\"http://legacysurvey.org/viewer/jpeg-cutout/?ra=7.833707&dec=-63.21928&zoom=15&layer=des-dr1&size=120\"></a></td><td>37<br><a href=\"http://legacysurvey.org/viewer?ra=8.289762947017017&dec=-63.8919560920807\"><img src=\"http://legacysurvey.org/viewer/jpeg-cutout/?ra=8.289763&dec=-63.89196&zoom=15&layer=des-dr1&size=120\"></a></td><td>38<br><a href=\"http://legacysurvey.org/viewer?ra=8.28510308247126&dec=-64.92651476361354\"><img src=\"http://legacysurvey.org/viewer/jpeg-cutout/?ra=8.285103&dec=-64.92651&zoom=15&layer=des-dr1&size=120\"></a></td><td>39<br><a href=\"http://legacysurvey.org/viewer?ra=7.284858859841419&dec=-65.07506958331938\"><img src=\"http://legacysurvey.org/viewer/jpeg-cutout/?ra=7.284859&dec=-65.07507&zoom=15&layer=des-dr1&size=120\"></a></td></tr>\n",
       "<tr><td>40<br><a href=\"http://legacysurvey.org/viewer?ra=7.869538700244537&dec=-63.599649825485436\"><img src=\"http://legacysurvey.org/viewer/jpeg-cutout/?ra=7.869539&dec=-63.59965&zoom=15&layer=des-dr1&size=120\"></a></td><td>41<br><a href=\"http://legacysurvey.org/viewer?ra=8.066033617987125&dec=-65.20896063990001\"><img src=\"http://legacysurvey.org/viewer/jpeg-cutout/?ra=8.066034&dec=-65.20896&zoom=15&layer=des-dr1&size=120\"></a></td><td>42<br><a href=\"http://legacysurvey.org/viewer?ra=7.495552607760154&dec=-63.43120993296104\"><img src=\"http://legacysurvey.org/viewer/jpeg-cutout/?ra=7.495553&dec=-63.43121&zoom=15&layer=des-dr1&size=120\"></a></td><td>43<br><a href=\"http://legacysurvey.org/viewer?ra=7.307050487212107&dec=-65.02768820703162\"><img src=\"http://legacysurvey.org/viewer/jpeg-cutout/?ra=7.30705&dec=-65.02769&zoom=15&layer=des-dr1&size=120\"></a></td><td>44<br><a href=\"http://legacysurvey.org/viewer?ra=7.2886665969168565&dec=-64.08306449620616\"><img src=\"http://legacysurvey.org/viewer/jpeg-cutout/?ra=7.288667&dec=-64.08306&zoom=15&layer=des-dr1&size=120\"></a></td><td>45<br><a href=\"http://legacysurvey.org/viewer?ra=8.356111158840996&dec=-63.489021740285956\"><img src=\"http://legacysurvey.org/viewer/jpeg-cutout/?ra=8.356111&dec=-63.48902&zoom=15&layer=des-dr1&size=120\"></a></td><td>46<br><a href=\"http://legacysurvey.org/viewer?ra=7.6493202626574135&dec=-65.25350483986657\"><img src=\"http://legacysurvey.org/viewer/jpeg-cutout/?ra=7.64932&dec=-65.2535&zoom=15&layer=des-dr1&size=120\"></a></td><td>47<br><a href=\"http://legacysurvey.org/viewer?ra=7.581355123682787&dec=-64.80816397196\"><img src=\"http://legacysurvey.org/viewer/jpeg-cutout/?ra=7.581355&dec=-64.80816&zoom=15&layer=des-dr1&size=120\"></a></td></tr>\n",
       "<tr><td>48<br><a href=\"http://legacysurvey.org/viewer?ra=8.82955097815402&dec=-64.39731572658941\"><img src=\"http://legacysurvey.org/viewer/jpeg-cutout/?ra=8.829551&dec=-64.39732&zoom=15&layer=des-dr1&size=120\"></a></td><td>49<br><a href=\"http://legacysurvey.org/viewer?ra=8.574748353678714&dec=-63.8496363141699\"><img src=\"http://legacysurvey.org/viewer/jpeg-cutout/?ra=8.574748&dec=-63.84964&zoom=15&layer=des-dr1&size=120\"></a></td><td>50<br><a href=\"http://legacysurvey.org/viewer?ra=8.451299600296771&dec=-65.07679216358967\"><img src=\"http://legacysurvey.org/viewer/jpeg-cutout/?ra=8.4513&dec=-65.07679&zoom=15&layer=des-dr1&size=120\"></a></td><td>51<br><a href=\"http://legacysurvey.org/viewer?ra=8.155395016063343&dec=-63.51430514228645\"><img src=\"http://legacysurvey.org/viewer/jpeg-cutout/?ra=8.155395&dec=-63.51431&zoom=15&layer=des-dr1&size=120\"></a></td><td>52<br><a href=\"http://legacysurvey.org/viewer?ra=8.652526178815112&dec=-64.82122781908188\"><img src=\"http://legacysurvey.org/viewer/jpeg-cutout/?ra=8.652526&dec=-64.82123&zoom=15&layer=des-dr1&size=120\"></a></td><td>53<br><a href=\"http://legacysurvey.org/viewer?ra=7.850605555717452&dec=-65.00900816387346\"><img src=\"http://legacysurvey.org/viewer/jpeg-cutout/?ra=7.850606&dec=-65.00901&zoom=15&layer=des-dr1&size=120\"></a></td><td>54<br><a href=\"http://legacysurvey.org/viewer?ra=8.74459915236079&dec=-64.9623857802389\"><img src=\"http://legacysurvey.org/viewer/jpeg-cutout/?ra=8.744599&dec=-64.96239&zoom=15&layer=des-dr1&size=120\"></a></td><td>55<br><a href=\"http://legacysurvey.org/viewer?ra=8.230906885895358&dec=-65.16605324470422\"><img src=\"http://legacysurvey.org/viewer/jpeg-cutout/?ra=8.230907&dec=-65.16605&zoom=15&layer=des-dr1&size=120\"></a></td></tr>\n",
       "<tr><td>56<br><a href=\"http://legacysurvey.org/viewer?ra=8.256991735709084&dec=-63.43702437167097\"><img src=\"http://legacysurvey.org/viewer/jpeg-cutout/?ra=8.256992&dec=-63.43702&zoom=15&layer=des-dr1&size=120\"></a></td><td>57<br><a href=\"http://legacysurvey.org/viewer?ra=8.193831484121015&dec=-63.238196296710754\"><img src=\"http://legacysurvey.org/viewer/jpeg-cutout/?ra=8.193831&dec=-63.2382&zoom=15&layer=des-dr1&size=120\"></a></td><td>58<br><a href=\"http://legacysurvey.org/viewer?ra=8.093184060070653&dec=-65.0552362066065\"><img src=\"http://legacysurvey.org/viewer/jpeg-cutout/?ra=8.093184&dec=-65.05524&zoom=15&layer=des-dr1&size=120\"></a></td><td>59<br><a href=\"http://legacysurvey.org/viewer?ra=8.282889233836132&dec=-65.28608175605835\"><img src=\"http://legacysurvey.org/viewer/jpeg-cutout/?ra=8.282889&dec=-65.28608&zoom=15&layer=des-dr1&size=120\"></a></td><td>60<br><a href=\"http://legacysurvey.org/viewer?ra=8.483896280515836&dec=-64.97415587186495\"><img src=\"http://legacysurvey.org/viewer/jpeg-cutout/?ra=8.483896&dec=-64.97416&zoom=15&layer=des-dr1&size=120\"></a></td><td>61<br><a href=\"http://legacysurvey.org/viewer?ra=7.860763144131141&dec=-63.19934044577061\"><img src=\"http://legacysurvey.org/viewer/jpeg-cutout/?ra=7.860763&dec=-63.19934&zoom=15&layer=des-dr1&size=120\"></a></td><td>62<br><a href=\"http://legacysurvey.org/viewer?ra=8.21798251709664&dec=-65.02640331144362\"><img src=\"http://legacysurvey.org/viewer/jpeg-cutout/?ra=8.217983&dec=-65.0264&zoom=15&layer=des-dr1&size=120\"></a></td><td>63<br><a href=\"http://legacysurvey.org/viewer?ra=7.22683768297141&dec=-63.83757302499312\"><img src=\"http://legacysurvey.org/viewer/jpeg-cutout/?ra=7.226838&dec=-63.83757&zoom=15&layer=des-dr1&size=120\"></a></td></tr>\n",
       "<tr><td>64<br><a href=\"http://legacysurvey.org/viewer?ra=8.049668218885373&dec=-63.25170454214679\"><img src=\"http://legacysurvey.org/viewer/jpeg-cutout/?ra=8.049668&dec=-63.2517&zoom=15&layer=des-dr1&size=120\"></a></td><td>65<br><a href=\"http://legacysurvey.org/viewer?ra=8.449041710081726&dec=-64.98968682189165\"><img src=\"http://legacysurvey.org/viewer/jpeg-cutout/?ra=8.449042&dec=-64.98969&zoom=15&layer=des-dr1&size=120\"></a></td><td>66<br><a href=\"http://legacysurvey.org/viewer?ra=8.191352595316118&dec=-63.84437357839828\"><img src=\"http://legacysurvey.org/viewer/jpeg-cutout/?ra=8.191353&dec=-63.84437&zoom=15&layer=des-dr1&size=120\"></a></td><td>67<br><a href=\"http://legacysurvey.org/viewer?ra=8.169898275101813&dec=-65.16965418654736\"><img src=\"http://legacysurvey.org/viewer/jpeg-cutout/?ra=8.169898&dec=-65.16965&zoom=15&layer=des-dr1&size=120\"></a></td><td>68<br><a href=\"http://legacysurvey.org/viewer?ra=8.313030670113038&dec=-64.95465469998543\"><img src=\"http://legacysurvey.org/viewer/jpeg-cutout/?ra=8.313031&dec=-64.95465&zoom=15&layer=des-dr1&size=120\"></a></td><td>69<br><a href=\"http://legacysurvey.org/viewer?ra=7.357459686717122&dec=-63.77021280173839\"><img src=\"http://legacysurvey.org/viewer/jpeg-cutout/?ra=7.35746&dec=-63.77021&zoom=15&layer=des-dr1&size=120\"></a></td><td>70<br><a href=\"http://legacysurvey.org/viewer?ra=8.260261846219432&dec=-63.402287289149946\"><img src=\"http://legacysurvey.org/viewer/jpeg-cutout/?ra=8.260262&dec=-63.40229&zoom=15&layer=des-dr1&size=120\"></a></td><td>71<br><a href=\"http://legacysurvey.org/viewer?ra=8.256959284657933&dec=-65.10084124597934\"><img src=\"http://legacysurvey.org/viewer/jpeg-cutout/?ra=8.256959&dec=-65.10084&zoom=15&layer=des-dr1&size=120\"></a></td></tr>\n",
       "<tr><td>72<br><a href=\"http://legacysurvey.org/viewer?ra=8.210185369369125&dec=-63.17876088131441\"><img src=\"http://legacysurvey.org/viewer/jpeg-cutout/?ra=8.210185&dec=-63.17876&zoom=15&layer=des-dr1&size=120\"></a></td><td>73<br><a href=\"http://legacysurvey.org/viewer?ra=8.61611672510398&dec=-64.78792128026555\"><img src=\"http://legacysurvey.org/viewer/jpeg-cutout/?ra=8.616117&dec=-64.78792&zoom=15&layer=des-dr1&size=120\"></a></td><td>74<br><a href=\"http://legacysurvey.org/viewer?ra=7.518645917345922&dec=-63.980296890533594\"><img src=\"http://legacysurvey.org/viewer/jpeg-cutout/?ra=7.518646&dec=-63.9803&zoom=15&layer=des-dr1&size=120\"></a></td><td>75<br><a href=\"http://legacysurvey.org/viewer?ra=8.064669050141958&dec=-65.11341765840938\"><img src=\"http://legacysurvey.org/viewer/jpeg-cutout/?ra=8.064669&dec=-65.11342&zoom=15&layer=des-dr1&size=120\"></a></td><td>76<br><a href=\"http://legacysurvey.org/viewer?ra=7.724270538105061&dec=-63.27832232132253\"><img src=\"http://legacysurvey.org/viewer/jpeg-cutout/?ra=7.724271&dec=-63.27832&zoom=15&layer=des-dr1&size=120\"></a></td><td>77<br><a href=\"http://legacysurvey.org/viewer?ra=8.58750349644535&dec=-64.7485573092775\"><img src=\"http://legacysurvey.org/viewer/jpeg-cutout/?ra=8.587503&dec=-64.74856&zoom=15&layer=des-dr1&size=120\"></a></td><td>78<br><a href=\"http://legacysurvey.org/viewer?ra=8.986929943787773&dec=-64.46563964612194\"><img src=\"http://legacysurvey.org/viewer/jpeg-cutout/?ra=8.98693&dec=-64.46564&zoom=15&layer=des-dr1&size=120\"></a></td><td>79<br><a href=\"http://legacysurvey.org/viewer?ra=8.07396080859279&dec=-63.226471080025966\"><img src=\"http://legacysurvey.org/viewer/jpeg-cutout/?ra=8.073961&dec=-63.22647&zoom=15&layer=des-dr1&size=120\"></a></td></tr>\n",
       "<tr><td>80<br><a href=\"http://legacysurvey.org/viewer?ra=8.789733132709738&dec=-64.63517812407503\"><img src=\"http://legacysurvey.org/viewer/jpeg-cutout/?ra=8.789733&dec=-64.63518&zoom=15&layer=des-dr1&size=120\"></a></td><td>81<br><a href=\"http://legacysurvey.org/viewer?ra=7.029885361602532&dec=-64.6701512064761\"><img src=\"http://legacysurvey.org/viewer/jpeg-cutout/?ra=7.029885&dec=-64.67015&zoom=15&layer=des-dr1&size=120\"></a></td><td>82<br><a href=\"http://legacysurvey.org/viewer?ra=8.57627347500712&dec=-63.47357946609104\"><img src=\"http://legacysurvey.org/viewer/jpeg-cutout/?ra=8.576273&dec=-63.47358&zoom=15&layer=des-dr1&size=120\"></a></td><td>83<br><a href=\"http://legacysurvey.org/viewer?ra=7.795193020081838&dec=-63.698155528293924\"><img src=\"http://legacysurvey.org/viewer/jpeg-cutout/?ra=7.795193&dec=-63.69816&zoom=15&layer=des-dr1&size=120\"></a></td><td>84<br><a href=\"http://legacysurvey.org/viewer?ra=8.171916883135491&dec=-63.60045582495927\"><img src=\"http://legacysurvey.org/viewer/jpeg-cutout/?ra=8.171917&dec=-63.60046&zoom=15&layer=des-dr1&size=120\"></a></td><td>85<br><a href=\"http://legacysurvey.org/viewer?ra=7.914481139729416&dec=-64.90932849338348\"><img src=\"http://legacysurvey.org/viewer/jpeg-cutout/?ra=7.914481&dec=-64.90933&zoom=15&layer=des-dr1&size=120\"></a></td><td>86<br><a href=\"http://legacysurvey.org/viewer?ra=7.234088679194514&dec=-63.85742620297249\"><img src=\"http://legacysurvey.org/viewer/jpeg-cutout/?ra=7.234089&dec=-63.85743&zoom=15&layer=des-dr1&size=120\"></a></td><td>87<br><a href=\"http://legacysurvey.org/viewer?ra=8.706698457176667&dec=-65.00531475676323\"><img src=\"http://legacysurvey.org/viewer/jpeg-cutout/?ra=8.706698&dec=-65.00531&zoom=15&layer=des-dr1&size=120\"></a></td></tr>\n",
       "<tr><td>88<br><a href=\"http://legacysurvey.org/viewer?ra=8.060174300405977&dec=-64.90469368029159\"><img src=\"http://legacysurvey.org/viewer/jpeg-cutout/?ra=8.060174&dec=-64.90469&zoom=15&layer=des-dr1&size=120\"></a></td><td>89<br><a href=\"http://legacysurvey.org/viewer?ra=8.49775119692366&dec=-64.51165764340169\"><img src=\"http://legacysurvey.org/viewer/jpeg-cutout/?ra=8.497751&dec=-64.51166&zoom=15&layer=des-dr1&size=120\"></a></td><td>90<br><a href=\"http://legacysurvey.org/viewer?ra=8.421434241387905&dec=-65.09634905773791\"><img src=\"http://legacysurvey.org/viewer/jpeg-cutout/?ra=8.421434&dec=-65.09635&zoom=15&layer=des-dr1&size=120\"></a></td><td>91<br><a href=\"http://legacysurvey.org/viewer?ra=7.875088795764798&dec=-65.03617315113166\"><img src=\"http://legacysurvey.org/viewer/jpeg-cutout/?ra=7.875089&dec=-65.03617&zoom=15&layer=des-dr1&size=120\"></a></td><td>92<br><a href=\"http://legacysurvey.org/viewer?ra=8.833345530908465&dec=-63.67000558520701\"><img src=\"http://legacysurvey.org/viewer/jpeg-cutout/?ra=8.833346&dec=-63.67001&zoom=15&layer=des-dr1&size=120\"></a></td><td>93<br><a href=\"http://legacysurvey.org/viewer?ra=7.677617867187211&dec=-64.93872035475137\"><img src=\"http://legacysurvey.org/viewer/jpeg-cutout/?ra=7.677618&dec=-64.93872&zoom=15&layer=des-dr1&size=120\"></a></td><td>94<br><a href=\"http://legacysurvey.org/viewer?ra=7.6281286406847695&dec=-63.51535134005344\"><img src=\"http://legacysurvey.org/viewer/jpeg-cutout/?ra=7.628129&dec=-63.51535&zoom=15&layer=des-dr1&size=120\"></a></td><td>95<br><a href=\"http://legacysurvey.org/viewer?ra=8.491887811350612&dec=-63.94181036143844\"><img src=\"http://legacysurvey.org/viewer/jpeg-cutout/?ra=8.491888&dec=-63.94181&zoom=15&layer=des-dr1&size=120\"></a></td></tr>\n",
       "<tr><td>96<br><a href=\"http://legacysurvey.org/viewer?ra=7.67719169917078&dec=-65.02267748745372\"><img src=\"http://legacysurvey.org/viewer/jpeg-cutout/?ra=7.677192&dec=-65.02268&zoom=15&layer=des-dr1&size=120\"></a></td><td>97<br><a href=\"http://legacysurvey.org/viewer?ra=7.9332872393544&dec=-65.27428963808194\"><img src=\"http://legacysurvey.org/viewer/jpeg-cutout/?ra=7.933287&dec=-65.27429&zoom=15&layer=des-dr1&size=120\"></a></td><td>98<br><a href=\"http://legacysurvey.org/viewer?ra=8.38059824361184&dec=-65.25924539546477\"><img src=\"http://legacysurvey.org/viewer/jpeg-cutout/?ra=8.380598&dec=-65.25925&zoom=15&layer=des-dr1&size=120\"></a></td><td>99<br><a href=\"http://legacysurvey.org/viewer?ra=8.065815956467837&dec=-64.82103636775733\"><img src=\"http://legacysurvey.org/viewer/jpeg-cutout/?ra=8.065816&dec=-64.82104&zoom=15&layer=des-dr1&size=120\"></a></td><td></td><td></td><td></td><td></td></tr>\n",
       "    </table>\n",
       "    "
      ],
      "text/plain": [
       "<IPython.core.display.HTML object>"
      ]
     },
     "execution_count": 85,
     "metadata": {},
     "output_type": "execute_result"
    }
   ],
   "source": [
    "#The below is only necessary if the decals viewer is broken but the targets are in DES\n",
    "# make_des_cutouts_file(acat[acat['Notes']=='sky'])\n",
    "# show_des_cutouts(acat[acat['Notes']=='sky'], <'JOBNAME'>, ncols=8, namecol='TargetName')\n",
    "\n",
    "make_decals_viewer_cutouts(acat[acat['Notes']=='sky'], survey='des-dr1', namecol='TargetName',\n",
    "                           ncols=8, zoom=15, size=120)"
   ]
  },
  {
   "cell_type": "code",
   "execution_count": 86,
   "metadata": {},
   "outputs": [
    {
     "data": {
      "text/plain": [
       "64"
      ]
     },
     "execution_count": 86,
     "metadata": {},
     "output_type": "execute_result"
    }
   ],
   "source": [
    "skys_to_rem = [int(i) for i in '1 5 9 11 15 16 18 20 22 24 27 29 35 41 43 50 54 55 58 59 60 62 65 67 69 71 75 78 77 79 90 91 93 96 97 98'.split()]\n",
    "writecat.remove_rows((writecat['Notes']=='Sky')&(np.in1d(writecat['TargetName'], skys_to_rem)))\n",
    "np.sum((writecat['Notes']=='Sky'))"
   ]
  },
  {
   "cell_type": "code",
   "execution_count": 90,
   "metadata": {},
   "outputs": [
    {
     "name": "stdout",
     "output_type": "stream",
     "text": [
      "Nflux: 5 Nguide: 100 NSky 64\n",
      "Targets in each priority: {1: 490, 2: 109, 3: 10, 4: 50, 5: 115, 6: 62, 7: 42, 8: 5}\n",
      "Total: 1052\n",
      "Writing aat_targets_oct2018/pgc1952_1.fld\n"
     ]
    },
    {
     "data": {
      "text/plain": [
       "883"
      ]
     },
     "execution_count": 90,
     "metadata": {},
     "output_type": "execute_result"
    }
   ],
   "source": [
    "subsampledcat = subsample_catalog(writecat, {1:np.inf}, maxflux=5, maxguides=100)\n",
    "\n",
    "fldfn = 'aat_targets_oct2018/{}_{}.fld'.format(hostname, fieldnum)\n",
    "print('Writing', fldfn)\n",
    "write_fld_file(subsampledcat, host, obs_start_date, fldfn, suffix='_{}'.format(fieldnum))\n",
    "np.sum(subsampledcat['Notes'] == 'Targets')"
   ]
  },
  {
   "cell_type": "code",
   "execution_count": 91,
   "metadata": {},
   "outputs": [
    {
     "name": "stdout",
     "output_type": "stream",
     "text": [
      "pgc1952_1.fld                                 100%   56KB  56.2KB/s   00:00    \n"
     ]
    }
   ],
   "source": [
    "!scp $fldfn visitor8@aatlxh:~/oct04/"
   ]
  },
  {
   "cell_type": "markdown",
   "metadata": {},
   "source": [
    "## pgc10965"
   ]
  },
  {
   "cell_type": "code",
   "execution_count": 103,
   "metadata": {},
   "outputs": [
    {
     "name": "stdout",
     "output_type": "stream",
     "text": [
      "[10/05 00:01:27] Base catalog v2 for pgc10965 already exists (./base_catalogs/base_v2_pgc10965.fits.gz). (1/1)\n"
     ]
    }
   ],
   "source": [
    "idnum = 10965\n",
    "fieldnum = 1\n",
    "\n",
    "saga_object_catalog.build_and_write_to_database('pgc{}'.format(idnum), overwrite=fieldnum>1)"
   ]
  },
  {
   "cell_type": "code",
   "execution_count": 104,
   "metadata": {},
   "outputs": [
    {
     "name": "stdout",
     "output_type": "stream",
     "text": [
      "pgc10965\n",
      "02h54m33.48s -18d38m06s\n"
     ]
    },
    {
     "name": "stderr",
     "output_type": "stream",
     "text": [
      "/Users/erik/miniconda3/envs/saga3/lib/python3.6/site-packages/numpy/core/_methods.py:26: RuntimeWarning: invalid value encountered in reduce\n",
      "  return umr_maximum(a, axis, None, out, keepdims)\n"
     ]
    },
    {
     "name": "stdout",
     "output_type": "stream",
     "text": [
      "# of flux stars = 53\n",
      "# of sky fibers = 100\n",
      "# of Priority=1 targets = 667\n",
      "# of Priority=2 targets = 76\n",
      "# of Priority=3 targets = 22\n",
      "# of Priority=4 targets = 50\n",
      "# of Priority=5 targets = 126\n",
      "# of Priority=6 targets = 92\n",
      "# of Priority=7 targets = 39\n",
      "# of Priority=8 targets = 4\n",
      "# of Priority=9 targets = 153\n"
     ]
    },
    {
     "name": "stderr",
     "output_type": "stream",
     "text": [
      "/Users/erik/miniconda3/envs/saga3/lib/python3.6/site-packages/astropy/table/column.py:965: RuntimeWarning: invalid value encountered in greater\n",
      "  return getattr(self.data, op)(other)\n",
      "/Users/erik/miniconda3/envs/saga3/lib/python3.6/site-packages/astropy/table/column.py:965: RuntimeWarning: invalid value encountered in less\n",
      "  return getattr(self.data, op)(other)\n"
     ]
    },
    {
     "name": "stdout",
     "output_type": "stream",
     "text": [
      "Object catalog to Gaia offset: (<Angle -0.1295607 arcsec>, <Angle 0.0761455 arcsec>) from 592 objects (70.5%)\n",
      "Found 118 Gaia guide stars\n",
      "26 Have a brightish neighbor.  Removing them.\n"
     ]
    },
    {
     "data": {
      "text/plain": [
       "1321"
      ]
     },
     "execution_count": 104,
     "metadata": {},
     "output_type": "execute_result"
    }
   ],
   "source": [
    "host = targethosts[targethosts['PGC'] == idnum]\n",
    "assert len(host) == 1\n",
    "host = host[0]\n",
    "\n",
    "hostname = host[host_id_label]\n",
    "print(hostname)\n",
    "print(SkyCoord(host['RA'], host['Dec'], unit=u.deg).to_string('hmsdms'))\n",
    "\n",
    "tcats[hostname] = tcat = saga_targets.build_target_catalogs(hostname, return_as='list', reload_base=True).pop()\n",
    "acats[hostname] = acat = saga.targets.prepare_aat_catalog(tcat, sky_fiber_needed=100)\n",
    "\n",
    "guidestars = get_gaia_guidestars(hostname)\n",
    "writecat = table.vstack([acat, guidestars])\n",
    "writecat['Notes'] = [n.title() for n in writecat['Notes']]\n",
    "len(writecat)"
   ]
  },
  {
   "cell_type": "code",
   "execution_count": 105,
   "metadata": {},
   "outputs": [
    {
     "data": {
      "text/html": [
       "\n",
       "    <table>\n",
       "    <tr><td>5153246862915935488<br><a href=\"http://legacysurvey.org/viewer?ra=43.748447194922115&dec=-18.03889759262935\"><img src=\"http://legacysurvey.org/viewer/jpeg-cutout/?ra=43.74845&dec=-18.0389&zoom=17&layer=unwise-w1w2&size=120\"></a></td><td>5128257647971759616<br><a href=\"http://legacysurvey.org/viewer?ra=43.31264226202195&dec=-19.31422207809811\"><img src=\"http://legacysurvey.org/viewer/jpeg-cutout/?ra=43.31264&dec=-19.31422&zoom=17&layer=unwise-w1w2&size=120\"></a></td><td>5128410132195052288<br><a href=\"http://legacysurvey.org/viewer?ra=43.128578934389026&dec=-18.95447470069588\"><img src=\"http://legacysurvey.org/viewer/jpeg-cutout/?ra=43.12858&dec=-18.95447&zoom=17&layer=unwise-w1w2&size=120\"></a></td><td>5152452951096870784<br><a href=\"http://legacysurvey.org/viewer?ra=44.5469434186095&dec=-18.283468527336645\"><img src=\"http://legacysurvey.org/viewer/jpeg-cutout/?ra=44.54694&dec=-18.28347&zoom=17&layer=unwise-w1w2&size=120\"></a></td><td>5128460507867291136<br><a href=\"http://legacysurvey.org/viewer?ra=43.53690236321083&dec=-18.490916684128173\"><img src=\"http://legacysurvey.org/viewer/jpeg-cutout/?ra=43.5369&dec=-18.49092&zoom=17&layer=unwise-w1w2&size=120\"></a></td><td>5128237302711063936<br><a href=\"http://legacysurvey.org/viewer?ra=43.49876286691146&dec=-19.552354490391988\"><img src=\"http://legacysurvey.org/viewer/jpeg-cutout/?ra=43.49876&dec=-19.55235&zoom=17&layer=unwise-w1w2&size=120\"></a></td></tr>\n",
       "<tr><td>5152411508956735616<br><a href=\"http://legacysurvey.org/viewer?ra=44.60352026657299&dec=-18.49459813882184\"><img src=\"http://legacysurvey.org/viewer/jpeg-cutout/?ra=44.60352&dec=-18.4946&zoom=17&layer=unwise-w1w2&size=120\"></a></td><td>5153285762435428096<br><a href=\"http://legacysurvey.org/viewer?ra=43.943880960282044&dec=-17.712400402419682\"><img src=\"http://legacysurvey.org/viewer/jpeg-cutout/?ra=43.94388&dec=-17.7124&zoom=17&layer=unwise-w1w2&size=120\"></a></td><td>5152504314610058880<br><a href=\"http://legacysurvey.org/viewer?ra=43.903574009408764&dec=-17.97161862382411\"><img src=\"http://legacysurvey.org/viewer/jpeg-cutout/?ra=43.90357&dec=-17.97162&zoom=17&layer=unwise-w1w2&size=120\"></a></td><td>5152501879364274304<br><a href=\"http://legacysurvey.org/viewer?ra=43.8434689485517&dec=-18.05378865985459\"><img src=\"http://legacysurvey.org/viewer/jpeg-cutout/?ra=43.84347&dec=-18.05379&zoom=17&layer=unwise-w1w2&size=120\"></a></td><td>5129197863557045248<br><a href=\"http://legacysurvey.org/viewer?ra=42.797794022081874&dec=-18.56550987059087\"><img src=\"http://legacysurvey.org/viewer/jpeg-cutout/?ra=42.79779&dec=-18.56551&zoom=17&layer=unwise-w1w2&size=120\"></a></td><td>5128361586180577920<br><a href=\"http://legacysurvey.org/viewer?ra=43.597683383589754&dec=-19.037384368218117\"><img src=\"http://legacysurvey.org/viewer/jpeg-cutout/?ra=43.59768&dec=-19.03738&zoom=17&layer=unwise-w1w2&size=120\"></a></td></tr>\n",
       "<tr><td>5128372718735802112<br><a href=\"http://legacysurvey.org/viewer?ra=44.0086166828149&dec=-18.9569523574332\"><img src=\"http://legacysurvey.org/viewer/jpeg-cutout/?ra=44.00862&dec=-18.95695&zoom=17&layer=unwise-w1w2&size=120\"></a></td><td>5152524281913703168<br><a href=\"http://legacysurvey.org/viewer?ra=44.13840891406821&dec=-17.95402980365393\"><img src=\"http://legacysurvey.org/viewer/jpeg-cutout/?ra=44.13841&dec=-17.95403&zoom=17&layer=unwise-w1w2&size=120\"></a></td><td>5128402298175011584<br><a href=\"http://legacysurvey.org/viewer?ra=44.00701842217649&dec=-18.592182990962073\"><img src=\"http://legacysurvey.org/viewer/jpeg-cutout/?ra=44.00702&dec=-18.59218&zoom=17&layer=unwise-w1w2&size=120\"></a></td><td>5129222362050343552<br><a href=\"http://legacysurvey.org/viewer?ra=43.44902401493525&dec=-18.300462603585064\"><img src=\"http://legacysurvey.org/viewer/jpeg-cutout/?ra=43.44902&dec=-18.30046&zoom=17&layer=unwise-w1w2&size=120\"></a></td><td>5128332346042971264<br><a href=\"http://legacysurvey.org/viewer?ra=42.84686377501599&dec=-18.937108694692572\"><img src=\"http://legacysurvey.org/viewer/jpeg-cutout/?ra=42.84686&dec=-18.93711&zoom=17&layer=unwise-w1w2&size=120\"></a></td><td>5152475078768369152<br><a href=\"http://legacysurvey.org/viewer?ra=43.88789720187749&dec=-18.35962333646331\"><img src=\"http://legacysurvey.org/viewer/jpeg-cutout/?ra=43.8879&dec=-18.35962&zoom=17&layer=unwise-w1w2&size=120\"></a></td></tr>\n",
       "<tr><td>5128176799507528960<br><a href=\"http://legacysurvey.org/viewer?ra=44.141730250960705&dec=-19.212589629535103\"><img src=\"http://legacysurvey.org/viewer/jpeg-cutout/?ra=44.14173&dec=-19.21259&zoom=17&layer=unwise-w1w2&size=120\"></a></td><td>5128130276421787264<br><a href=\"http://legacysurvey.org/viewer?ra=43.86698826976046&dec=-19.553174633187616\"><img src=\"http://legacysurvey.org/viewer/jpeg-cutout/?ra=43.86699&dec=-19.55317&zoom=17&layer=unwise-w1w2&size=120\"></a></td><td>5152408210421852672<br><a href=\"http://legacysurvey.org/viewer?ra=44.30312302383896&dec=-18.535979052375293\"><img src=\"http://legacysurvey.org/viewer/jpeg-cutout/?ra=44.30312&dec=-18.53598&zoom=17&layer=unwise-w1w2&size=120\"></a></td><td>5129209275285512448<br><a href=\"http://legacysurvey.org/viewer?ra=42.88555829155908&dec=-18.366635202886265\"><img src=\"http://legacysurvey.org/viewer/jpeg-cutout/?ra=42.88556&dec=-18.36664&zoom=17&layer=unwise-w1w2&size=120\"></a></td><td>5128188481818570880<br><a href=\"http://legacysurvey.org/viewer?ra=44.19378909117091&dec=-19.04541139218906\"><img src=\"http://legacysurvey.org/viewer/jpeg-cutout/?ra=44.19379&dec=-19.04541&zoom=17&layer=unwise-w1w2&size=120\"></a></td><td>5129245181212092160<br><a href=\"http://legacysurvey.org/viewer?ra=43.07310887543683&dec=-18.050325878497816\"><img src=\"http://legacysurvey.org/viewer/jpeg-cutout/?ra=43.07311&dec=-18.05033&zoom=17&layer=unwise-w1w2&size=120\"></a></td></tr>\n",
       "    </table>\n",
       "    "
      ],
      "text/plain": [
       "<IPython.core.display.HTML object>"
      ]
     },
     "execution_count": 105,
     "metadata": {},
     "output_type": "execute_result"
    }
   ],
   "source": [
    "# only need to remove if something really fishy is going on\n",
    "make_decals_viewer_cutouts(guidestars[np.random.permutation(len(guidestars))[:24]], \n",
    "                           survey='unwise-w1w2',ncols=6,namecol='TargetName', zoom=17)"
   ]
  },
  {
   "cell_type": "code",
   "execution_count": 106,
   "metadata": {},
   "outputs": [
    {
     "data": {
      "text/html": [
       "\n",
       "    <table>\n",
       "    <tr><td>0<br><a href=\"http://legacysurvey.org/viewer?ra=43.61736653383671&dec=-19.412660531795677\"><img src=\"http://legacysurvey.org/viewer/jpeg-cutout/?ra=43.61737&dec=-19.41266&zoom=15&layer=des-dr1&size=120\"></a></td><td>1<br><a href=\"http://legacysurvey.org/viewer?ra=43.51197231163372&dec=-17.795348313757557\"><img src=\"http://legacysurvey.org/viewer/jpeg-cutout/?ra=43.51197&dec=-17.79535&zoom=15&layer=des-dr1&size=120\"></a></td><td>2<br><a href=\"http://legacysurvey.org/viewer?ra=43.10093714625518&dec=-19.585607720068474\"><img src=\"http://legacysurvey.org/viewer/jpeg-cutout/?ra=43.10094&dec=-19.58561&zoom=15&layer=des-dr1&size=120\"></a></td><td>3<br><a href=\"http://legacysurvey.org/viewer?ra=44.37812585779303&dec=-19.152507869270575\"><img src=\"http://legacysurvey.org/viewer/jpeg-cutout/?ra=44.37813&dec=-19.15251&zoom=15&layer=des-dr1&size=120\"></a></td><td>4<br><a href=\"http://legacysurvey.org/viewer?ra=42.958673428462035&dec=-19.295874316476628\"><img src=\"http://legacysurvey.org/viewer/jpeg-cutout/?ra=42.95867&dec=-19.29587&zoom=15&layer=des-dr1&size=120\"></a></td><td>5<br><a href=\"http://legacysurvey.org/viewer?ra=43.57337805093186&dec=-17.59669753147623\"><img src=\"http://legacysurvey.org/viewer/jpeg-cutout/?ra=43.57338&dec=-17.5967&zoom=15&layer=des-dr1&size=120\"></a></td><td>6<br><a href=\"http://legacysurvey.org/viewer?ra=43.31807344093379&dec=-19.45825910857917\"><img src=\"http://legacysurvey.org/viewer/jpeg-cutout/?ra=43.31807&dec=-19.45826&zoom=15&layer=des-dr1&size=120\"></a></td><td>7<br><a href=\"http://legacysurvey.org/viewer?ra=42.58544858920814&dec=-18.72805848072741\"><img src=\"http://legacysurvey.org/viewer/jpeg-cutout/?ra=42.58545&dec=-18.72806&zoom=15&layer=des-dr1&size=120\"></a></td></tr>\n",
       "<tr><td>8<br><a href=\"http://legacysurvey.org/viewer?ra=43.06836593978272&dec=-19.549604427570248\"><img src=\"http://legacysurvey.org/viewer/jpeg-cutout/?ra=43.06837&dec=-19.5496&zoom=15&layer=des-dr1&size=120\"></a></td><td>9<br><a href=\"http://legacysurvey.org/viewer?ra=44.227874413770614&dec=-19.113362566344737\"><img src=\"http://legacysurvey.org/viewer/jpeg-cutout/?ra=44.22787&dec=-19.11336&zoom=15&layer=des-dr1&size=120\"></a></td><td>10<br><a href=\"http://legacysurvey.org/viewer?ra=43.11297766082413&dec=-19.594448716401935\"><img src=\"http://legacysurvey.org/viewer/jpeg-cutout/?ra=43.11298&dec=-19.59445&zoom=15&layer=des-dr1&size=120\"></a></td><td>11<br><a href=\"http://legacysurvey.org/viewer?ra=44.31150358342202&dec=-19.416852845163636\"><img src=\"http://legacysurvey.org/viewer/jpeg-cutout/?ra=44.3115&dec=-19.41685&zoom=15&layer=des-dr1&size=120\"></a></td><td>12<br><a href=\"http://legacysurvey.org/viewer?ra=44.587868479011675&dec=-18.182133202425586\"><img src=\"http://legacysurvey.org/viewer/jpeg-cutout/?ra=44.58787&dec=-18.18213&zoom=15&layer=des-dr1&size=120\"></a></td><td>13<br><a href=\"http://legacysurvey.org/viewer?ra=42.67535696924999&dec=-18.61813151838454\"><img src=\"http://legacysurvey.org/viewer/jpeg-cutout/?ra=42.67536&dec=-18.61813&zoom=15&layer=des-dr1&size=120\"></a></td><td>14<br><a href=\"http://legacysurvey.org/viewer?ra=43.23602038947818&dec=-19.489071377925242\"><img src=\"http://legacysurvey.org/viewer/jpeg-cutout/?ra=43.23602&dec=-19.48907&zoom=15&layer=des-dr1&size=120\"></a></td><td>15<br><a href=\"http://legacysurvey.org/viewer?ra=43.07667336450455&dec=-19.506588028525407\"><img src=\"http://legacysurvey.org/viewer/jpeg-cutout/?ra=43.07667&dec=-19.50659&zoom=15&layer=des-dr1&size=120\"></a></td></tr>\n",
       "<tr><td>16<br><a href=\"http://legacysurvey.org/viewer?ra=43.668213391844226&dec=-17.63052178059615\"><img src=\"http://legacysurvey.org/viewer/jpeg-cutout/?ra=43.66821&dec=-17.63052&zoom=15&layer=des-dr1&size=120\"></a></td><td>17<br><a href=\"http://legacysurvey.org/viewer?ra=44.211941672329125&dec=-18.188135992884085\"><img src=\"http://legacysurvey.org/viewer/jpeg-cutout/?ra=44.21194&dec=-18.18814&zoom=15&layer=des-dr1&size=120\"></a></td><td>18<br><a href=\"http://legacysurvey.org/viewer?ra=43.452678173361214&dec=-19.67324448922672\"><img src=\"http://legacysurvey.org/viewer/jpeg-cutout/?ra=43.45268&dec=-19.67324&zoom=15&layer=des-dr1&size=120\"></a></td><td>19<br><a href=\"http://legacysurvey.org/viewer?ra=42.63121751602393&dec=-18.995475345689815\"><img src=\"http://legacysurvey.org/viewer/jpeg-cutout/?ra=42.63122&dec=-18.99548&zoom=15&layer=des-dr1&size=120\"></a></td><td>20<br><a href=\"http://legacysurvey.org/viewer?ra=42.93613641763269&dec=-17.872668795553803\"><img src=\"http://legacysurvey.org/viewer/jpeg-cutout/?ra=42.93614&dec=-17.87267&zoom=15&layer=des-dr1&size=120\"></a></td><td>21<br><a href=\"http://legacysurvey.org/viewer?ra=44.43011452937523&dec=-18.836347487449494\"><img src=\"http://legacysurvey.org/viewer/jpeg-cutout/?ra=44.43011&dec=-18.83635&zoom=15&layer=des-dr1&size=120\"></a></td><td>22<br><a href=\"http://legacysurvey.org/viewer?ra=43.14921313371952&dec=-18.235766515918755\"><img src=\"http://legacysurvey.org/viewer/jpeg-cutout/?ra=43.14921&dec=-18.23577&zoom=15&layer=des-dr1&size=120\"></a></td><td>23<br><a href=\"http://legacysurvey.org/viewer?ra=42.93198730283186&dec=-19.47493721910809\"><img src=\"http://legacysurvey.org/viewer/jpeg-cutout/?ra=42.93199&dec=-19.47494&zoom=15&layer=des-dr1&size=120\"></a></td></tr>\n",
       "<tr><td>24<br><a href=\"http://legacysurvey.org/viewer?ra=42.96728675814206&dec=-18.437519867204536\"><img src=\"http://legacysurvey.org/viewer/jpeg-cutout/?ra=42.96729&dec=-18.43752&zoom=15&layer=des-dr1&size=120\"></a></td><td>25<br><a href=\"http://legacysurvey.org/viewer?ra=43.623818613301026&dec=-17.5961606257354\"><img src=\"http://legacysurvey.org/viewer/jpeg-cutout/?ra=43.62382&dec=-17.59616&zoom=15&layer=des-dr1&size=120\"></a></td><td>26<br><a href=\"http://legacysurvey.org/viewer?ra=42.66977450274951&dec=-19.043270086220495\"><img src=\"http://legacysurvey.org/viewer/jpeg-cutout/?ra=42.66977&dec=-19.04327&zoom=15&layer=des-dr1&size=120\"></a></td><td>27<br><a href=\"http://legacysurvey.org/viewer?ra=43.25010745425464&dec=-17.694809568896773\"><img src=\"http://legacysurvey.org/viewer/jpeg-cutout/?ra=43.25011&dec=-17.69481&zoom=15&layer=des-dr1&size=120\"></a></td><td>28<br><a href=\"http://legacysurvey.org/viewer?ra=43.91539746958345&dec=-17.640632729702272\"><img src=\"http://legacysurvey.org/viewer/jpeg-cutout/?ra=43.9154&dec=-17.64063&zoom=15&layer=des-dr1&size=120\"></a></td><td>29<br><a href=\"http://legacysurvey.org/viewer?ra=42.88694360231084&dec=-18.10393402694953\"><img src=\"http://legacysurvey.org/viewer/jpeg-cutout/?ra=42.88694&dec=-18.10393&zoom=15&layer=des-dr1&size=120\"></a></td><td>30<br><a href=\"http://legacysurvey.org/viewer?ra=42.60365838275064&dec=-18.883937902254896\"><img src=\"http://legacysurvey.org/viewer/jpeg-cutout/?ra=42.60366&dec=-18.88394&zoom=15&layer=des-dr1&size=120\"></a></td><td>31<br><a href=\"http://legacysurvey.org/viewer?ra=42.9297649794358&dec=-18.05706312932142\"><img src=\"http://legacysurvey.org/viewer/jpeg-cutout/?ra=42.92976&dec=-18.05706&zoom=15&layer=des-dr1&size=120\"></a></td></tr>\n",
       "<tr><td>32<br><a href=\"http://legacysurvey.org/viewer?ra=44.6537815357301&dec=-18.938326033219326\"><img src=\"http://legacysurvey.org/viewer/jpeg-cutout/?ra=44.65378&dec=-18.93833&zoom=15&layer=des-dr1&size=120\"></a></td><td>33<br><a href=\"http://legacysurvey.org/viewer?ra=43.462941093289736&dec=-17.592221139142048\"><img src=\"http://legacysurvey.org/viewer/jpeg-cutout/?ra=43.46294&dec=-17.59222&zoom=15&layer=des-dr1&size=120\"></a></td><td>34<br><a href=\"http://legacysurvey.org/viewer?ra=42.91501204109168&dec=-19.457287863556054\"><img src=\"http://legacysurvey.org/viewer/jpeg-cutout/?ra=42.91501&dec=-19.45729&zoom=15&layer=des-dr1&size=120\"></a></td><td>35<br><a href=\"http://legacysurvey.org/viewer?ra=42.80071175912715&dec=-17.957427946697365\"><img src=\"http://legacysurvey.org/viewer/jpeg-cutout/?ra=42.80071&dec=-17.95743&zoom=15&layer=des-dr1&size=120\"></a></td><td>36<br><a href=\"http://legacysurvey.org/viewer?ra=44.15530805651048&dec=-17.685037141784502\"><img src=\"http://legacysurvey.org/viewer/jpeg-cutout/?ra=44.15531&dec=-17.68504&zoom=15&layer=des-dr1&size=120\"></a></td><td>37<br><a href=\"http://legacysurvey.org/viewer?ra=42.574823905175926&dec=-18.661974912848674\"><img src=\"http://legacysurvey.org/viewer/jpeg-cutout/?ra=42.57482&dec=-18.66197&zoom=15&layer=des-dr1&size=120\"></a></td><td>38<br><a href=\"http://legacysurvey.org/viewer?ra=43.14695300111197&dec=-19.318850758568566\"><img src=\"http://legacysurvey.org/viewer/jpeg-cutout/?ra=43.14695&dec=-19.31885&zoom=15&layer=des-dr1&size=120\"></a></td><td>39<br><a href=\"http://legacysurvey.org/viewer?ra=43.06726122710223&dec=-19.3065959406486\"><img src=\"http://legacysurvey.org/viewer/jpeg-cutout/?ra=43.06726&dec=-19.3066&zoom=15&layer=des-dr1&size=120\"></a></td></tr>\n",
       "<tr><td>40<br><a href=\"http://legacysurvey.org/viewer?ra=42.93139811389786&dec=-19.41629483649726\"><img src=\"http://legacysurvey.org/viewer/jpeg-cutout/?ra=42.9314&dec=-19.41629&zoom=15&layer=des-dr1&size=120\"></a></td><td>41<br><a href=\"http://legacysurvey.org/viewer?ra=44.590449057004335&dec=-19.10372565591518\"><img src=\"http://legacysurvey.org/viewer/jpeg-cutout/?ra=44.59045&dec=-19.10373&zoom=15&layer=des-dr1&size=120\"></a></td><td>42<br><a href=\"http://legacysurvey.org/viewer?ra=42.71686274597223&dec=-18.403260692937625\"><img src=\"http://legacysurvey.org/viewer/jpeg-cutout/?ra=42.71686&dec=-18.40326&zoom=15&layer=des-dr1&size=120\"></a></td><td>43<br><a href=\"http://legacysurvey.org/viewer?ra=43.278801737773634&dec=-18.068028500206868\"><img src=\"http://legacysurvey.org/viewer/jpeg-cutout/?ra=43.2788&dec=-18.06803&zoom=15&layer=des-dr1&size=120\"></a></td><td>44<br><a href=\"http://legacysurvey.org/viewer?ra=43.32929010383584&dec=-19.626982007435185\"><img src=\"http://legacysurvey.org/viewer/jpeg-cutout/?ra=43.32929&dec=-19.62698&zoom=15&layer=des-dr1&size=120\"></a></td><td>45<br><a href=\"http://legacysurvey.org/viewer?ra=44.653738835254906&dec=-19.014184160345682\"><img src=\"http://legacysurvey.org/viewer/jpeg-cutout/?ra=44.65374&dec=-19.01418&zoom=15&layer=des-dr1&size=120\"></a></td><td>46<br><a href=\"http://legacysurvey.org/viewer?ra=43.036916791221834&dec=-19.540026110100317\"><img src=\"http://legacysurvey.org/viewer/jpeg-cutout/?ra=43.03692&dec=-19.54003&zoom=15&layer=des-dr1&size=120\"></a></td><td>47<br><a href=\"http://legacysurvey.org/viewer?ra=43.277869410064284&dec=-19.64108652454701\"><img src=\"http://legacysurvey.org/viewer/jpeg-cutout/?ra=43.27787&dec=-19.64109&zoom=15&layer=des-dr1&size=120\"></a></td></tr>\n",
       "<tr><td>48<br><a href=\"http://legacysurvey.org/viewer?ra=42.777353823780935&dec=-18.091892594234007\"><img src=\"http://legacysurvey.org/viewer/jpeg-cutout/?ra=42.77735&dec=-18.09189&zoom=15&layer=des-dr1&size=120\"></a></td><td>49<br><a href=\"http://legacysurvey.org/viewer?ra=42.6035629815938&dec=-18.890632385018318\"><img src=\"http://legacysurvey.org/viewer/jpeg-cutout/?ra=42.60356&dec=-18.89063&zoom=15&layer=des-dr1&size=120\"></a></td><td>50<br><a href=\"http://legacysurvey.org/viewer?ra=43.971076347411035&dec=-17.665799118854544\"><img src=\"http://legacysurvey.org/viewer/jpeg-cutout/?ra=43.97108&dec=-17.6658&zoom=15&layer=des-dr1&size=120\"></a></td><td>51<br><a href=\"http://legacysurvey.org/viewer?ra=44.456071151595744&dec=-18.447907401213143\"><img src=\"http://legacysurvey.org/viewer/jpeg-cutout/?ra=44.45607&dec=-18.44791&zoom=15&layer=des-dr1&size=120\"></a></td><td>52<br><a href=\"http://legacysurvey.org/viewer?ra=43.081809333880564&dec=-17.742863991165233\"><img src=\"http://legacysurvey.org/viewer/jpeg-cutout/?ra=43.08181&dec=-17.74286&zoom=15&layer=des-dr1&size=120\"></a></td><td>53<br><a href=\"http://legacysurvey.org/viewer?ra=44.38507291247075&dec=-19.35340074309851\"><img src=\"http://legacysurvey.org/viewer/jpeg-cutout/?ra=44.38507&dec=-19.3534&zoom=15&layer=des-dr1&size=120\"></a></td><td>54<br><a href=\"http://legacysurvey.org/viewer?ra=43.826640914957466&dec=-17.608220707052197\"><img src=\"http://legacysurvey.org/viewer/jpeg-cutout/?ra=43.82664&dec=-17.60822&zoom=15&layer=des-dr1&size=120\"></a></td><td>55<br><a href=\"http://legacysurvey.org/viewer?ra=43.91496849857151&dec=-19.672875467543758\"><img src=\"http://legacysurvey.org/viewer/jpeg-cutout/?ra=43.91497&dec=-19.67288&zoom=15&layer=des-dr1&size=120\"></a></td></tr>\n",
       "<tr><td>56<br><a href=\"http://legacysurvey.org/viewer?ra=42.76305218417248&dec=-18.06508882461894\"><img src=\"http://legacysurvey.org/viewer/jpeg-cutout/?ra=42.76305&dec=-18.06509&zoom=15&layer=des-dr1&size=120\"></a></td><td>57<br><a href=\"http://legacysurvey.org/viewer?ra=43.074519310218896&dec=-17.699726139489393\"><img src=\"http://legacysurvey.org/viewer/jpeg-cutout/?ra=43.07452&dec=-17.69973&zoom=15&layer=des-dr1&size=120\"></a></td><td>58<br><a href=\"http://legacysurvey.org/viewer?ra=43.49061882959506&dec=-17.57492540663229\"><img src=\"http://legacysurvey.org/viewer/jpeg-cutout/?ra=43.49062&dec=-17.57493&zoom=15&layer=des-dr1&size=120\"></a></td><td>59<br><a href=\"http://legacysurvey.org/viewer?ra=43.109393374193786&dec=-17.690578534137437\"><img src=\"http://legacysurvey.org/viewer/jpeg-cutout/?ra=43.10939&dec=-17.69058&zoom=15&layer=des-dr1&size=120\"></a></td><td>60<br><a href=\"http://legacysurvey.org/viewer?ra=43.86374676112073&dec=-19.463667808950994\"><img src=\"http://legacysurvey.org/viewer/jpeg-cutout/?ra=43.86375&dec=-19.46367&zoom=15&layer=des-dr1&size=120\"></a></td><td>61<br><a href=\"http://legacysurvey.org/viewer?ra=42.63786132090369&dec=-18.995781054530376\"><img src=\"http://legacysurvey.org/viewer/jpeg-cutout/?ra=42.63786&dec=-18.99578&zoom=15&layer=des-dr1&size=120\"></a></td><td>62<br><a href=\"http://legacysurvey.org/viewer?ra=42.55776246920396&dec=-18.51015909281021\"><img src=\"http://legacysurvey.org/viewer/jpeg-cutout/?ra=42.55776&dec=-18.51016&zoom=15&layer=des-dr1&size=120\"></a></td><td>63<br><a href=\"http://legacysurvey.org/viewer?ra=43.68106345656375&dec=-17.61626439385207\"><img src=\"http://legacysurvey.org/viewer/jpeg-cutout/?ra=43.68106&dec=-17.61626&zoom=15&layer=des-dr1&size=120\"></a></td></tr>\n",
       "<tr><td>64<br><a href=\"http://legacysurvey.org/viewer?ra=44.69526198045781&dec=-18.544243159587737\"><img src=\"http://legacysurvey.org/viewer/jpeg-cutout/?ra=44.69526&dec=-18.54424&zoom=15&layer=des-dr1&size=120\"></a></td><td>65<br><a href=\"http://legacysurvey.org/viewer?ra=44.102986591548095&dec=-19.410160115462517\"><img src=\"http://legacysurvey.org/viewer/jpeg-cutout/?ra=44.10299&dec=-19.41016&zoom=15&layer=des-dr1&size=120\"></a></td><td>66<br><a href=\"http://legacysurvey.org/viewer?ra=43.938405539678996&dec=-19.396522087802893\"><img src=\"http://legacysurvey.org/viewer/jpeg-cutout/?ra=43.93841&dec=-19.39652&zoom=15&layer=des-dr1&size=120\"></a></td><td>67<br><a href=\"http://legacysurvey.org/viewer?ra=44.724177601196246&dec=-18.75641896877138\"><img src=\"http://legacysurvey.org/viewer/jpeg-cutout/?ra=44.72418&dec=-18.75642&zoom=15&layer=des-dr1&size=120\"></a></td><td>68<br><a href=\"http://legacysurvey.org/viewer?ra=44.30697022554719&dec=-17.825771271398747\"><img src=\"http://legacysurvey.org/viewer/jpeg-cutout/?ra=44.30697&dec=-17.82577&zoom=15&layer=des-dr1&size=120\"></a></td><td>69<br><a href=\"http://legacysurvey.org/viewer?ra=43.89892394030653&dec=-19.52090596031983\"><img src=\"http://legacysurvey.org/viewer/jpeg-cutout/?ra=43.89892&dec=-19.52091&zoom=15&layer=des-dr1&size=120\"></a></td><td>70<br><a href=\"http://legacysurvey.org/viewer?ra=43.841092135603645&dec=-17.559255641635772\"><img src=\"http://legacysurvey.org/viewer/jpeg-cutout/?ra=43.84109&dec=-17.55926&zoom=15&layer=des-dr1&size=120\"></a></td><td>71<br><a href=\"http://legacysurvey.org/viewer?ra=43.35086452230066&dec=-17.64584815021796\"><img src=\"http://legacysurvey.org/viewer/jpeg-cutout/?ra=43.35086&dec=-17.64585&zoom=15&layer=des-dr1&size=120\"></a></td></tr>\n",
       "<tr><td>72<br><a href=\"http://legacysurvey.org/viewer?ra=44.452880294286025&dec=-19.362678971019562\"><img src=\"http://legacysurvey.org/viewer/jpeg-cutout/?ra=44.45288&dec=-19.36268&zoom=15&layer=des-dr1&size=120\"></a></td><td>73<br><a href=\"http://legacysurvey.org/viewer?ra=44.337161512174966&dec=-17.79067103158391\"><img src=\"http://legacysurvey.org/viewer/jpeg-cutout/?ra=44.33716&dec=-17.79067&zoom=15&layer=des-dr1&size=120\"></a></td><td>74<br><a href=\"http://legacysurvey.org/viewer?ra=43.46263053430548&dec=-17.765466389979515\"><img src=\"http://legacysurvey.org/viewer/jpeg-cutout/?ra=43.46263&dec=-17.76547&zoom=15&layer=des-dr1&size=120\"></a></td><td>75<br><a href=\"http://legacysurvey.org/viewer?ra=43.70543890174158&dec=-17.595807722937064\"><img src=\"http://legacysurvey.org/viewer/jpeg-cutout/?ra=43.70544&dec=-17.59581&zoom=15&layer=des-dr1&size=120\"></a></td><td>76<br><a href=\"http://legacysurvey.org/viewer?ra=43.12519653647084&dec=-17.68620424180137\"><img src=\"http://legacysurvey.org/viewer/jpeg-cutout/?ra=43.1252&dec=-17.6862&zoom=15&layer=des-dr1&size=120\"></a></td><td>77<br><a href=\"http://legacysurvey.org/viewer?ra=42.657461211492866&dec=-18.255930168343994\"><img src=\"http://legacysurvey.org/viewer/jpeg-cutout/?ra=42.65746&dec=-18.25593&zoom=15&layer=des-dr1&size=120\"></a></td><td>78<br><a href=\"http://legacysurvey.org/viewer?ra=43.12167017751774&dec=-19.452198378708868\"><img src=\"http://legacysurvey.org/viewer/jpeg-cutout/?ra=43.12167&dec=-19.4522&zoom=15&layer=des-dr1&size=120\"></a></td><td>79<br><a href=\"http://legacysurvey.org/viewer?ra=42.65492356371534&dec=-19.05415914318362\"><img src=\"http://legacysurvey.org/viewer/jpeg-cutout/?ra=42.65492&dec=-19.05416&zoom=15&layer=des-dr1&size=120\"></a></td></tr>\n",
       "<tr><td>80<br><a href=\"http://legacysurvey.org/viewer?ra=43.3861282300623&dec=-17.976388467754894\"><img src=\"http://legacysurvey.org/viewer/jpeg-cutout/?ra=43.38613&dec=-17.97639&zoom=15&layer=des-dr1&size=120\"></a></td><td>81<br><a href=\"http://legacysurvey.org/viewer?ra=42.851822273607276&dec=-19.275650560100384\"><img src=\"http://legacysurvey.org/viewer/jpeg-cutout/?ra=42.85182&dec=-19.27565&zoom=15&layer=des-dr1&size=120\"></a></td><td>82<br><a href=\"http://legacysurvey.org/viewer?ra=43.655665608446256&dec=-17.618642154210132\"><img src=\"http://legacysurvey.org/viewer/jpeg-cutout/?ra=43.65567&dec=-17.61864&zoom=15&layer=des-dr1&size=120\"></a></td><td>83<br><a href=\"http://legacysurvey.org/viewer?ra=42.90416047688407&dec=-18.0267216434763\"><img src=\"http://legacysurvey.org/viewer/jpeg-cutout/?ra=42.90416&dec=-18.02672&zoom=15&layer=des-dr1&size=120\"></a></td><td>84<br><a href=\"http://legacysurvey.org/viewer?ra=44.150224406262005&dec=-18.0695639475899\"><img src=\"http://legacysurvey.org/viewer/jpeg-cutout/?ra=44.15022&dec=-18.06956&zoom=15&layer=des-dr1&size=120\"></a></td><td>85<br><a href=\"http://legacysurvey.org/viewer?ra=44.34613409638184&dec=-19.3963238803735\"><img src=\"http://legacysurvey.org/viewer/jpeg-cutout/?ra=44.34613&dec=-19.39632&zoom=15&layer=des-dr1&size=120\"></a></td><td>86<br><a href=\"http://legacysurvey.org/viewer?ra=43.70108735354391&dec=-19.732709512654125\"><img src=\"http://legacysurvey.org/viewer/jpeg-cutout/?ra=43.70109&dec=-19.73271&zoom=15&layer=des-dr1&size=120\"></a></td><td>87<br><a href=\"http://legacysurvey.org/viewer?ra=43.16391203762692&dec=-17.956497809421375\"><img src=\"http://legacysurvey.org/viewer/jpeg-cutout/?ra=43.16391&dec=-17.9565&zoom=15&layer=des-dr1&size=120\"></a></td></tr>\n",
       "<tr><td>88<br><a href=\"http://legacysurvey.org/viewer?ra=44.5143644946043&dec=-19.218273603492296\"><img src=\"http://legacysurvey.org/viewer/jpeg-cutout/?ra=44.51436&dec=-19.21827&zoom=15&layer=des-dr1&size=120\"></a></td><td>89<br><a href=\"http://legacysurvey.org/viewer?ra=43.2786240115133&dec=-19.590028522262983\"><img src=\"http://legacysurvey.org/viewer/jpeg-cutout/?ra=43.27862&dec=-19.59003&zoom=15&layer=des-dr1&size=120\"></a></td><td>90<br><a href=\"http://legacysurvey.org/viewer?ra=43.98472559655129&dec=-17.666372225616\"><img src=\"http://legacysurvey.org/viewer/jpeg-cutout/?ra=43.98473&dec=-17.66637&zoom=15&layer=des-dr1&size=120\"></a></td><td>91<br><a href=\"http://legacysurvey.org/viewer?ra=44.64879617554317&dec=-19.03712580810415\"><img src=\"http://legacysurvey.org/viewer/jpeg-cutout/?ra=44.6488&dec=-19.03713&zoom=15&layer=des-dr1&size=120\"></a></td><td>92<br><a href=\"http://legacysurvey.org/viewer?ra=44.27945468885915&dec=-17.785636671062548\"><img src=\"http://legacysurvey.org/viewer/jpeg-cutout/?ra=44.27945&dec=-17.78564&zoom=15&layer=des-dr1&size=120\"></a></td><td>93<br><a href=\"http://legacysurvey.org/viewer?ra=43.77694478669476&dec=-17.977906316086987\"><img src=\"http://legacysurvey.org/viewer/jpeg-cutout/?ra=43.77694&dec=-17.97791&zoom=15&layer=des-dr1&size=120\"></a></td><td>94<br><a href=\"http://legacysurvey.org/viewer?ra=43.577790132894684&dec=-19.351634539981692\"><img src=\"http://legacysurvey.org/viewer/jpeg-cutout/?ra=43.57779&dec=-19.35163&zoom=15&layer=des-dr1&size=120\"></a></td><td>95<br><a href=\"http://legacysurvey.org/viewer?ra=43.5630110466813&dec=-19.66908627656371\"><img src=\"http://legacysurvey.org/viewer/jpeg-cutout/?ra=43.56301&dec=-19.66909&zoom=15&layer=des-dr1&size=120\"></a></td></tr>\n",
       "<tr><td>96<br><a href=\"http://legacysurvey.org/viewer?ra=44.474637232267426&dec=-17.9874578389293\"><img src=\"http://legacysurvey.org/viewer/jpeg-cutout/?ra=44.47464&dec=-17.98746&zoom=15&layer=des-dr1&size=120\"></a></td><td>97<br><a href=\"http://legacysurvey.org/viewer?ra=44.13961711634988&dec=-17.898908328058226\"><img src=\"http://legacysurvey.org/viewer/jpeg-cutout/?ra=44.13962&dec=-17.89891&zoom=15&layer=des-dr1&size=120\"></a></td><td>98<br><a href=\"http://legacysurvey.org/viewer?ra=44.01292803703075&dec=-19.645251761943094\"><img src=\"http://legacysurvey.org/viewer/jpeg-cutout/?ra=44.01293&dec=-19.64525&zoom=15&layer=des-dr1&size=120\"></a></td><td>99<br><a href=\"http://legacysurvey.org/viewer?ra=42.982013556351234&dec=-17.797607735652186\"><img src=\"http://legacysurvey.org/viewer/jpeg-cutout/?ra=42.98201&dec=-17.79761&zoom=15&layer=des-dr1&size=120\"></a></td><td></td><td></td><td></td><td></td></tr>\n",
       "    </table>\n",
       "    "
      ],
      "text/plain": [
       "<IPython.core.display.HTML object>"
      ]
     },
     "execution_count": 106,
     "metadata": {},
     "output_type": "execute_result"
    }
   ],
   "source": [
    "#The below is only necessary if the decals viewer is broken but the targets are in DES\n",
    "# make_des_cutouts_file(acat[acat['Notes']=='sky'])\n",
    "# show_des_cutouts(acat[acat['Notes']=='sky'], <'JOBNAME'>, ncols=8, namecol='TargetName')\n",
    "\n",
    "make_decals_viewer_cutouts(acat[acat['Notes']=='sky'], survey='des-dr1', namecol='TargetName',\n",
    "                           ncols=8, zoom=15, size=120)"
   ]
  },
  {
   "cell_type": "code",
   "execution_count": 107,
   "metadata": {},
   "outputs": [
    {
     "data": {
      "text/plain": [
       "78"
      ]
     },
     "execution_count": 107,
     "metadata": {},
     "output_type": "execute_result"
    }
   ],
   "source": [
    "skys_to_rem = [int(i) for i in '10 12 19 23 25 27 28 35 36 45 50 53 55 62 67 75 77 80 89 90 91 96'.split()]\n",
    "writecat.remove_rows((writecat['Notes']=='Sky')&(np.in1d(writecat['TargetName'], skys_to_rem)))\n",
    "np.sum((writecat['Notes']=='Sky'))"
   ]
  },
  {
   "cell_type": "code",
   "execution_count": 108,
   "metadata": {},
   "outputs": [
    {
     "name": "stdout",
     "output_type": "stream",
     "text": [
      "Nflux: 5 Nguide: 92 NSky 78\n",
      "Targets in each priority: {1: 667, 2: 76, 3: 22, 4: 50, 5: 126, 6: 92, 7: 39, 8: 4}\n",
      "Total: 1251\n",
      "Writing aat_targets_oct2018/pgc10965_1.fld\n"
     ]
    },
    {
     "data": {
      "text/plain": [
       "1076"
      ]
     },
     "execution_count": 108,
     "metadata": {},
     "output_type": "execute_result"
    }
   ],
   "source": [
    "subsampledcat = subsample_catalog(writecat, {1:np.inf}, maxflux=5, maxguides=100)\n",
    "\n",
    "fldfn = 'aat_targets_oct2018/{}_{}.fld'.format(hostname, fieldnum)\n",
    "print('Writing', fldfn)\n",
    "write_fld_file(subsampledcat, host, obs_start_date, fldfn, suffix='_{}'.format(fieldnum))\n",
    "np.sum(subsampledcat['Notes'] == 'Targets')"
   ]
  },
  {
   "cell_type": "code",
   "execution_count": 109,
   "metadata": {},
   "outputs": [
    {
     "name": "stdout",
     "output_type": "stream",
     "text": [
      "pgc10965_1.fld                                100%   66KB  66.5KB/s   00:00    \n"
     ]
    }
   ],
   "source": [
    "!scp $fldfn visitor8@aatlxh:~/oct04/"
   ]
  },
  {
   "cell_type": "code",
   "execution_count": null,
   "metadata": {},
   "outputs": [],
   "source": []
  },
  {
   "cell_type": "code",
   "execution_count": 195,
   "metadata": {},
   "outputs": [],
   "source": []
  },
  {
   "cell_type": "markdown",
   "metadata": {},
   "source": [
    "# Scratch/working space "
   ]
  },
  {
   "cell_type": "markdown",
   "metadata": {},
   "source": [
    "## Check fibers from list file (mostly for guidestar when on sky) "
   ]
  },
  {
   "cell_type": "code",
   "execution_count": null,
   "metadata": {},
   "outputs": [],
   "source": [
    "lt, sc, _ = aat.load_lis_file('aat_targets_oct2018/nsa13927_1_p0.lis')\n",
    "lt['ra'] = sc.ra.deg\n",
    "lt['dec'] = sc.dec.deg"
   ]
  },
  {
   "cell_type": "code",
   "execution_count": null,
   "metadata": {},
   "outputs": [],
   "source": [
    "make_decals_viewer_cutouts(lt[lt['codes']=='F'], 'sdss', namecol='fibnums', ncols=4)"
   ]
  },
  {
   "cell_type": "code",
   "execution_count": null,
   "metadata": {},
   "outputs": [],
   "source": [
    "make_decals_viewer_cutouts(lt[lt['codes']=='F'], 'unwise-w1w2', namecol='mags', ncols=4, zoom=17)"
   ]
  },
  {
   "cell_type": "code",
   "execution_count": null,
   "metadata": {},
   "outputs": [],
   "source": []
  },
  {
   "cell_type": "code",
   "execution_count": 101,
   "metadata": {},
   "outputs": [
    {
     "name": "stderr",
     "output_type": "stream",
     "text": [
      "/Users/erik/miniconda3/envs/saga3/lib/python3.6/site-packages/numpy/core/_methods.py:26: RuntimeWarning: invalid value encountered in reduce\n",
      "  return umr_maximum(a, axis, None, out, keepdims)\n"
     ]
    }
   ],
   "source": [
    "import tqdm\n",
    "\n",
    "testcats = {}\n",
    "for hostname, cat in saga_targets.build_target_catalogs(hosts_to_load, return_as='items', reload_base=True):\n",
    "    testcats[hostname] = cat\n",
    "    \n",
    "\n",
    "# MAKE build_target_catalogs EASIER TO USE: accept lists of hosts. "
   ]
  },
  {
   "cell_type": "code",
   "execution_count": 102,
   "metadata": {},
   "outputs": [
    {
     "data": {
      "text/html": [
       "<i>Table length=12</i>\n",
       "<table id=\"table115074958728\" class=\"table-striped table-bordered table-condensed\">\n",
       "<thead><tr><th>name</th><th>bin_2to101</th><th>bin_101to151</th><th>bin_151to181</th><th>bin_181to201</th><th>bin_201to301</th><th>bin_301to401</th><th>bin_401to501</th><th>bin_501to601</th><th>bin_601to701</th><th>bin_701to801</th><th>bin_801to901</th><th>bin_901to1001</th></tr></thead>\n",
       "<thead><tr><th>str10</th><th>int64</th><th>int64</th><th>int64</th><th>int64</th><th>int64</th><th>int64</th><th>int64</th><th>int64</th><th>int64</th><th>int64</th><th>int64</th><th>int64</th></tr></thead>\n",
       "<tr><td>pgc1952</td><td>5</td><td>1</td><td>0</td><td>0</td><td>48</td><td>63</td><td>118</td><td>50</td><td>10</td><td>128</td><td>503</td><td>3400</td></tr>\n",
       "<tr><td>pgc2052</td><td>8</td><td>0</td><td>22</td><td>0</td><td>29</td><td>50</td><td>67</td><td>48</td><td>9</td><td>23</td><td>756</td><td>2185</td></tr>\n",
       "<tr><td>pgc9747</td><td>8</td><td>1</td><td>0</td><td>0</td><td>34</td><td>62</td><td>182</td><td>50</td><td>6</td><td>44</td><td>783</td><td>2962</td></tr>\n",
       "<tr><td>pgc10965</td><td>4</td><td>0</td><td>0</td><td>0</td><td>39</td><td>92</td><td>126</td><td>50</td><td>22</td><td>76</td><td>667</td><td>2611</td></tr>\n",
       "<tr><td>nsa133355</td><td>6</td><td>1</td><td>0</td><td>0</td><td>61</td><td>90</td><td>124</td><td>50</td><td>30</td><td>96</td><td>620</td><td>2888</td></tr>\n",
       "<tr><td>pgc64427</td><td>2</td><td>0</td><td>7</td><td>0</td><td>28</td><td>5</td><td>7</td><td>48</td><td>36</td><td>182</td><td>128</td><td>4136</td></tr>\n",
       "<tr><td>pgc66934</td><td>2</td><td>1</td><td>1</td><td>0</td><td>12</td><td>11</td><td>22</td><td>50</td><td>28</td><td>159</td><td>224</td><td>3516</td></tr>\n",
       "<tr><td>pgc67146</td><td>2</td><td>0</td><td>0</td><td>0</td><td>29</td><td>27</td><td>52</td><td>50</td><td>17</td><td>102</td><td>459</td><td>3805</td></tr>\n",
       "<tr><td>pgc67663</td><td>11</td><td>0</td><td>0</td><td>0</td><td>109</td><td>102</td><td>158</td><td>50</td><td>29</td><td>130</td><td>785</td><td>2614</td></tr>\n",
       "<tr><td>pgc67817</td><td>2</td><td>2</td><td>5</td><td>0</td><td>24</td><td>8</td><td>12</td><td>50</td><td>21</td><td>61</td><td>263</td><td>3030</td></tr>\n",
       "<tr><td>pgc70094</td><td>17</td><td>2</td><td>1</td><td>0</td><td>27</td><td>75</td><td>227</td><td>50</td><td>18</td><td>81</td><td>948</td><td>2826</td></tr>\n",
       "<tr><td>pgc71729</td><td>6</td><td>0</td><td>0</td><td>0</td><td>45</td><td>68</td><td>179</td><td>50</td><td>24</td><td>117</td><td>817</td><td>3182</td></tr>\n",
       "</table>"
      ],
      "text/plain": [
       "<Table length=12>\n",
       "   name   bin_2to101 bin_101to151 ... bin_701to801 bin_801to901 bin_901to1001\n",
       "  str10     int64       int64     ...    int64        int64         int64    \n",
       "--------- ---------- ------------ ... ------------ ------------ -------------\n",
       "  pgc1952          5            1 ...          128          503          3400\n",
       "  pgc2052          8            0 ...           23          756          2185\n",
       "  pgc9747          8            1 ...           44          783          2962\n",
       " pgc10965          4            0 ...           76          667          2611\n",
       "nsa133355          6            1 ...           96          620          2888\n",
       " pgc64427          2            0 ...          182          128          4136\n",
       " pgc66934          2            1 ...          159          224          3516\n",
       " pgc67146          2            0 ...          102          459          3805\n",
       " pgc67663         11            0 ...          130          785          2614\n",
       " pgc67817          2            2 ...           61          263          3030\n",
       " pgc70094         17            2 ...           81          948          2826\n",
       " pgc71729          6            0 ...          117          817          3182"
      ]
     },
     "execution_count": 102,
     "metadata": {},
     "output_type": "execute_result"
    }
   ],
   "source": [
    "base_bins = np.array([1, 100, 150, 180, 200, 300, 400, 500, 600, 700, 800, 900, 1000])\n",
    "score_bins  = base_bins+1\n",
    "cum_bins = base_bins-.1\n",
    "\n",
    "count_tab = table.Table()\n",
    "count_tab.add_column(table.Column(name='name', dtype='U10'))\n",
    "cum_tab = table.Table()\n",
    "cum_tab.add_column(table.Column(name='name', dtype='U10'))\n",
    "for b1, b2 in zip(score_bins[:-1], score_bins[1:]):\n",
    "    count_tab.add_column(table.Column(name='bin_{}to{}'.format(b1, b2), dtype=int))\n",
    "for b in base_bins[2:]:\n",
    "    cum_tab.add_column(table.Column(name='lt_{}'.format(b), dtype=int))\n",
    "\n",
    "#for nm, cat in testcats.items():\n",
    "for nm, cat in testcats.items():\n",
    "    nbins = np.histogram(cat['TARGETING_SCORE'], score_bins)[0]\n",
    "    count_tab.add_row([nm] + list(nbins))\n",
    "    nbins = np.histogram(cat['TARGETING_SCORE'], cum_bins)[0][1:]\n",
    "    cum_tab.add_row([nm] + list(np.cumsum(nbins)))\n",
    "    \n",
    "count_tab#.pprint(max_width=1000)"
   ]
  },
  {
   "cell_type": "raw",
   "metadata": {},
   "source": [
    "# in each bin\n",
    " host_id  100 150 180 200 300 400 500 600 700 800\n",
    "--------- --- --- --- --- --- --- --- --- --- ---\n",
    "  pgc1952   5   1   0  48  63 118  50  10 128 503\n",
    "  pgc2052   8   0  22  29  50  67  48   9  23 756\n",
    "  pgc9747   8   1   0  34  62 182  50   6  44 783\n",
    " pgc10965   4   0   0  39  92 126  50  22  76 667\n",
    "nsa133355   6   1   0  61  90 124  50  30  96 620\n",
    " pgc64427   2   0   7  28   5   7  48  36 182 128\n",
    " pgc66934   2   1   1  12  11  22  50  28 159 224\n",
    " pgc67146   2   0   0  29  27  52  50  17 102 459\n",
    " pgc67663  11   0   0 109 102 158  50  29 130 785\n",
    " pgc67817   2   2   5  24   8  12  50  21  61 263\n",
    " pgc70094  17   2   1  27  75 227  50  18  81 948\n",
    " pgc71729   6   0   0  45  68 179  50  24 117 817"
   ]
  },
  {
   "cell_type": "code",
   "execution_count": 30,
   "metadata": {},
   "outputs": [
    {
     "data": {
      "text/html": [
       "<i>Table length=12</i>\n",
       "<table id=\"table112118934048\" class=\"table-striped table-bordered table-condensed\">\n",
       "<thead><tr><th>name</th><th>lt_150</th><th>lt_180</th><th>lt_200</th><th>lt_300</th><th>lt_400</th><th>lt_500</th><th>lt_600</th><th>lt_700</th><th>lt_800</th><th>lt_900</th><th>lt_1000</th></tr></thead>\n",
       "<thead><tr><th>str10</th><th>int64</th><th>int64</th><th>int64</th><th>int64</th><th>int64</th><th>int64</th><th>int64</th><th>int64</th><th>int64</th><th>int64</th><th>int64</th></tr></thead>\n",
       "<tr><td>pgc1952</td><td>5</td><td>5</td><td>5</td><td>47</td><td>109</td><td>224</td><td>274</td><td>284</td><td>393</td><td>883</td><td>3262</td></tr>\n",
       "<tr><td>pgc2052</td><td>8</td><td>8</td><td>29</td><td>32</td><td>79</td><td>136</td><td>185</td><td>194</td><td>204</td><td>934</td><td>2104</td></tr>\n",
       "<tr><td>pgc9747</td><td>8</td><td>9</td><td>9</td><td>35</td><td>96</td><td>275</td><td>325</td><td>330</td><td>366</td><td>1135</td><td>3101</td></tr>\n",
       "<tr><td>pgc10965</td><td>4</td><td>4</td><td>4</td><td>32</td><td>123</td><td>246</td><td>296</td><td>315</td><td>379</td><td>1022</td><td>2732</td></tr>\n",
       "<tr><td>nsa133355</td><td>6</td><td>6</td><td>6</td><td>57</td><td>145</td><td>267</td><td>317</td><td>345</td><td>429</td><td>1046</td><td>2995</td></tr>\n",
       "<tr><td>pgc64427</td><td>2</td><td>2</td><td>8</td><td>9</td><td>12</td><td>15</td><td>64</td><td>95</td><td>170</td><td>262</td><td>3194</td></tr>\n",
       "<tr><td>pgc66934</td><td>2</td><td>2</td><td>3</td><td>3</td><td>13</td><td>29</td><td>79</td><td>105</td><td>220</td><td>432</td><td>2944</td></tr>\n",
       "<tr><td>pgc67146</td><td>2</td><td>2</td><td>2</td><td>8</td><td>34</td><td>83</td><td>133</td><td>150</td><td>225</td><td>673</td><td>3385</td></tr>\n",
       "<tr><td>pgc67663</td><td>11</td><td>11</td><td>11</td><td>120</td><td>222</td><td>380</td><td>430</td><td>459</td><td>589</td><td>1374</td><td>3173</td></tr>\n",
       "<tr><td>pgc67817</td><td>2</td><td>2</td><td>6</td><td>9</td><td>17</td><td>26</td><td>76</td><td>96</td><td>120</td><td>366</td><td>2471</td></tr>\n",
       "<tr><td>pgc70094</td><td>17</td><td>18</td><td>19</td><td>24</td><td>96</td><td>315</td><td>365</td><td>381</td><td>445</td><td>1370</td><td>3170</td></tr>\n",
       "<tr><td>pgc71729</td><td>6</td><td>6</td><td>6</td><td>43</td><td>111</td><td>286</td><td>336</td><td>356</td><td>455</td><td>1261</td><td>3407</td></tr>\n",
       "</table>"
      ],
      "text/plain": [
       "<Table length=12>\n",
       "   name   lt_150 lt_180 lt_200 lt_300 ... lt_600 lt_700 lt_800 lt_900 lt_1000\n",
       "  str10   int64  int64  int64  int64  ... int64  int64  int64  int64   int64 \n",
       "--------- ------ ------ ------ ------ ... ------ ------ ------ ------ -------\n",
       "  pgc1952      5      5      5     47 ...    274    284    393    883    3262\n",
       "  pgc2052      8      8     29     32 ...    185    194    204    934    2104\n",
       "  pgc9747      8      9      9     35 ...    325    330    366   1135    3101\n",
       " pgc10965      4      4      4     32 ...    296    315    379   1022    2732\n",
       "nsa133355      6      6      6     57 ...    317    345    429   1046    2995\n",
       " pgc64427      2      2      8      9 ...     64     95    170    262    3194\n",
       " pgc66934      2      2      3      3 ...     79    105    220    432    2944\n",
       " pgc67146      2      2      2      8 ...    133    150    225    673    3385\n",
       " pgc67663     11     11     11    120 ...    430    459    589   1374    3173\n",
       " pgc67817      2      2      6      9 ...     76     96    120    366    2471\n",
       " pgc70094     17     18     19     24 ...    365    381    445   1370    3170\n",
       " pgc71729      6      6      6     43 ...    336    356    455   1261    3407"
      ]
     },
     "execution_count": 30,
     "metadata": {},
     "output_type": "execute_result"
    }
   ],
   "source": [
    "cum_tab"
   ]
  },
  {
   "cell_type": "raw",
   "metadata": {},
   "source": [
    "# cumulative\n",
    " host_id  <150 <180 <200 <300 <400 <500 <600 <700 <800\n",
    "--------- ---- ---- ---- ---- ---- ---- ---- ---- ----\n",
    "  pgc1952    5    6    6   54  117  235  285  295  423\n",
    "  pgc2052    8    8   30   59  109  176  224  233  256\n",
    "  pgc9747    8    9    9   43  105  287  337  343  387\n",
    " pgc10965    4    4    4   43  135  261  311  333  409\n",
    "nsa133355    6    7    7   68  158  282  332  362  458\n",
    " pgc64427    2    2    9   37   42   49   97  133  315\n",
    " pgc66934    2    3    4   16   27   49   99  127  286\n",
    " pgc67146    2    2    2   31   58  110  160  177  279\n",
    " pgc67663   11   11   11  120  222  380  430  459  589\n",
    " pgc67817    2    4    9   33   41   53  103  124  185\n",
    " pgc70094   17   19   20   47  122  349  399  417  498\n",
    " pgc71729    6    6    6   51  119  298  348  372  489"
   ]
  },
  {
   "cell_type": "code",
   "execution_count": 48,
   "metadata": {},
   "outputs": [
    {
     "name": "stderr",
     "output_type": "stream",
     "text": [
      "WARNING: hdu= was not specified but multiple tables are present, reading in first available table (hdu=2) [astropy.io.fits.connect]\n",
      "WARNING:astropy:hdu= was not specified but multiple tables are present, reading in first available table (hdu=2)\n"
     ]
    },
    {
     "data": {
      "text/html": [
       "<i>Table length=400</i>\n",
       "<table id=\"table112381613504\" class=\"table-striped table-bordered table-condensed\">\n",
       "<thead><tr><th>NAME</th><th>RA</th><th>DEC</th><th>X</th><th>Y</th><th>XERR</th><th>YERR</th><th>THETA</th><th>TYPE</th><th>PIVOT</th><th>MAGNITUDE</th><th>PID</th><th>COMMENT</th><th>RETRACTOR</th><th>WLEN</th><th>PMRA</th><th>PMDEC</th></tr></thead>\n",
       "<thead><tr><th>bytes80</th><th>float64</th><th>float64</th><th>int32</th><th>int32</th><th>int16</th><th>int16</th><th>float64</th><th>bytes1</th><th>int16</th><th>float64</th><th>int32</th><th>bytes80</th><th>bytes10</th><th>float64</th><th>float64</th><th>float64</th></tr></thead>\n",
       "<tr><td>244138713</td><td>5.753572417867123</td><td>-0.8645098174740619</td><td>-137</td><td>93473</td><td>12</td><td>-2</td><td>0.014868</td><td>P</td><td>1</td><td>20.54</td><td>0</td><td>Targets</td><td>68</td><td>600.0</td><td>0.0</td><td>0.0</td></tr>\n",
       "<tr><td>244139545</td><td>5.758745137437722</td><td>-0.864807008260582</td><td>-3263</td><td>139284</td><td>14</td><td>-1</td><td>0.027267</td><td>P</td><td>2</td><td>20.61</td><td>0</td><td>Targets</td><td>68</td><td>600.0</td><td>0.0</td><td>0.0</td></tr>\n",
       "<tr><td>244136898</td><td>5.747928459398487</td><td>-0.8640170528485821</td><td>5291</td><td>44049</td><td>16</td><td>-5</td><td>0.070104</td><td>P</td><td>3</td><td>16.77</td><td>0</td><td>Targets</td><td>68</td><td>600.0</td><td>0.0</td><td>0.0</td></tr>\n",
       "<tr><td>244660511</td><td>5.761096968604784</td><td>-0.8652263720947417</td><td>-8583</td><td>160465</td><td>17</td><td>-7</td><td>0.057833</td><td>P</td><td>4</td><td>17.42</td><td>0</td><td>Flux</td><td>68</td><td>600.0</td><td>0.0</td><td>0.0</td></tr>\n",
       "<tr><td>244139768</td><td>5.752873558945804</td><td>-0.864898783490416</td><td>-5469</td><td>87450</td><td>2</td><td>14</td><td>0.074141</td><td>P</td><td>5</td><td>20.55</td><td>0</td><td>Targets</td><td>68</td><td>600.0</td><td>0.0</td><td>0.0</td></tr>\n",
       "<tr><td>244138851</td><td>5.751611831340717</td><td>-0.8645481662362376</td><td>-1014</td><td>76318</td><td>-4</td><td>8</td><td>0.112673</td><td>P</td><td>6</td><td>20.17</td><td>0</td><td>Targets</td><td>68</td><td>600.0</td><td>0.0</td><td>0.0</td></tr>\n",
       "<tr><td>FIBRE NOT IN USE</td><td>5.744975163833825</td><td>-0.8432789911712496</td><td>-27715</td><td>269846</td><td>0</td><td>0</td><td>0.0785</td><td>N</td><td>7</td><td>0.0</td><td>0</td><td>Parked</td><td>68</td><td>0.0</td><td>0.0</td><td>0.0</td></tr>\n",
       "<tr><td>244660347</td><td>5.75471997185031</td><td>-0.8651456021354689</td><td>-8458</td><td>103745</td><td>18</td><td>-5</td><td>0.135644</td><td>P</td><td>8</td><td>20.23</td><td>0</td><td>Targets</td><td>68</td><td>600.0</td><td>0.0</td><td>0.0</td></tr>\n",
       "<tr><td>244139800</td><td>5.750455550711271</td><td>-0.8649180790749241</td><td>-6200</td><td>66352</td><td>-1</td><td>1</td><td>0.142084</td><td>P</td><td>9</td><td>19.91</td><td>0</td><td>Targets</td><td>68</td><td>600.0</td><td>0.0</td><td>0.0</td></tr>\n",
       "<tr><td>245628597</td><td>5.757406324457338</td><td>-0.8658280258729987</td><td>-17184</td><td>127632</td><td>5</td><td>6</td><td>0.155273</td><td>P</td><td>10</td><td>17.03</td><td>0</td><td>Targets</td><td>68</td><td>600.0</td><td>0.0</td><td>0.0</td></tr>\n",
       "<tr><td>...</td><td>...</td><td>...</td><td>...</td><td>...</td><td>...</td><td>...</td><td>...</td><td>...</td><td>...</td><td>...</td><td>...</td><td>...</td><td>...</td><td>...</td><td>...</td><td>...</td></tr>\n",
       "<tr><td>244136743</td><td>5.74829643298245</td><td>-0.8638637062812472</td><td>7452</td><td>47183</td><td>-14</td><td>6</td><td>6.137682</td><td>P</td><td>391</td><td>17.31</td><td>0</td><td>Targets</td><td>69</td><td>600.0</td><td>0.0</td><td>0.0</td></tr>\n",
       "<tr><td>244134511</td><td>5.755408649684326</td><td>-0.8630651696670917</td><td>19617</td><td>109224</td><td>-11</td><td>14</td><td>6.17988</td><td>P</td><td>392</td><td>19.96</td><td>0</td><td>Targets</td><td>69</td><td>600.0</td><td>0.0</td><td>0.0</td></tr>\n",
       "<tr><td>244959522</td><td>5.742993540938473</td><td>-0.8618966232515133</td><td>32414</td><td>457</td><td>-11</td><td>11</td><td>6.28126</td><td>P</td><td>393</td><td>20.26</td><td>0</td><td>Targets</td><td>69</td><td>600.0</td><td>0.0</td><td>0.0</td></tr>\n",
       "<tr><td>244135838</td><td>5.758065913470487</td><td>-0.8634494329907391</td><td>14947</td><td>132896</td><td>-12</td><td>3</td><td>6.189505</td><td>P</td><td>394</td><td>20.66</td><td>0</td><td>Targets</td><td>69</td><td>600.0</td><td>0.0</td><td>0.0</td></tr>\n",
       "<tr><td>244136438</td><td>5.758729865806767</td><td>-0.8636570302089902</td><td>12235</td><td>138883</td><td>2</td><td>3</td><td>6.196629</td><td>P</td><td>395</td><td>20.42</td><td>0</td><td>Targets</td><td>69</td><td>600.0</td><td>0.0</td><td>0.0</td></tr>\n",
       "<tr><td>244136981</td><td>5.75582534704324</td><td>-0.8639249867305394</td><td>8135</td><td>113136</td><td>0</td><td>7</td><td>6.21094</td><td>P</td><td>396</td><td>19.69</td><td>0</td><td>Targets</td><td>69</td><td>600.0</td><td>0.0</td><td>0.0</td></tr>\n",
       "<tr><td>244136952</td><td>5.7594854479287765</td><td>-0.863918732634053</td><td>8852</td><td>145686</td><td>-13</td><td>2</td><td>6.229556</td><td>P</td><td>397</td><td>19.41</td><td>0</td><td>Targets</td><td>69</td><td>600.0</td><td>0.0</td><td>0.0</td></tr>\n",
       "<tr><td>244135916</td><td>5.759433815271738</td><td>-0.8642094753986145</td><td>4927</td><td>145291</td><td>-17</td><td>0</td><td>6.232765</td><td>P</td><td>398</td><td>14.98</td><td>0</td><td>Targets</td><td>69</td><td>600.0</td><td>0.0</td><td>0.0</td></tr>\n",
       "<tr><td>244138400</td><td>5.750601722036125</td><td>-0.864396710442259</td><td>791</td><td>67451</td><td>9</td><td>8</td><td>6.25113</td><td>P</td><td>399</td><td>20.74</td><td>0</td><td>Targets</td><td>69</td><td>600.0</td><td>0.0</td><td>0.0</td></tr>\n",
       "<tr><td>6559862228749567104</td><td>5.7692847444582025</td><td>-0.8646140039341322</td><td>634</td><td>235976</td><td>6</td><td>2</td><td>6.219693</td><td>F</td><td>400</td><td>13.47</td><td>0</td><td>Guide_Gaia</td><td>69</td><td>500.0</td><td>0.0</td><td>0.0</td></tr>\n",
       "</table>"
      ],
      "text/plain": [
       "<Table length=400>\n",
       "                                      NAME                                       ...\n",
       "                                    bytes80                                      ...\n",
       "-------------------------------------------------------------------------------- ...\n",
       "244138713                                                                        ...\n",
       "244139545                                                                        ...\n",
       "244136898                                                                        ...\n",
       "244660511                                                                        ...\n",
       "244139768                                                                        ...\n",
       "244138851                                                                        ...\n",
       "FIBRE NOT IN USE                                                                 ...\n",
       "244660347                                                                        ...\n",
       "244139800                                                                        ...\n",
       "245628597                                                                        ...\n",
       "                                                                             ... ...\n",
       "244136743                                                                        ...\n",
       "244134511                                                                        ...\n",
       "244959522                                                                        ...\n",
       "244135838                                                                        ...\n",
       "244136438                                                                        ...\n",
       "244136981                                                                        ...\n",
       "244136952                                                                        ...\n",
       "244135916                                                                        ...\n",
       "244138400                                                                        ...\n",
       "6559862228749567104                                                              ..."
      ]
     },
     "execution_count": 48,
     "metadata": {},
     "output_type": "execute_result"
    }
   ],
   "source": [
    "specft = table.Table.read('SAGADropbox/Spectra/Final/AAT/pgc67663_1_MG.fits.gz')\n",
    "specft"
   ]
  },
  {
   "cell_type": "code",
   "execution_count": 67,
   "metadata": {},
   "outputs": [
    {
     "data": {
      "text/html": [
       "<i>Table masked=True length=360</i>\n",
       "<table id=\"table114015229544\" class=\"table-striped table-bordered table-condensed\">\n",
       "<thead><tr><th>ID</th><th>Name</th><th>RA</th><th>DEC</th><th>Mag</th><th>Type</th><th>AutoTID</th><th>AutoTN</th><th>AutoZ</th><th>AutoXCor</th><th>FinTID</th><th>FinTN</th><th>FinZ</th><th>QOP</th><th>Comment</th></tr></thead>\n",
       "<thead><tr><th>int64</th><th>int64</th><th>float64</th><th>float64</th><th>float64</th><th>str7</th><th>int64</th><th>str33</th><th>float64</th><th>float64</th><th>int64</th><th>str33</th><th>float64</th><th>int64</th><th>int64</th></tr></thead>\n",
       "<tr><td>1</td><td>244138713</td><td>5.753572</td><td>-0.86451</td><td>20.54</td><td>Targets</td><td>11</td><td>Transitional Galaxy</td><td>0.03654</td><td>4.97842</td><td>11</td><td>Transitional Galaxy</td><td>0.03654</td><td>1</td><td>--</td></tr>\n",
       "<tr><td>2</td><td>244139545</td><td>5.758745</td><td>-0.864807</td><td>20.61</td><td>Targets</td><td>8</td><td>Late Type Emission Galaxy</td><td>0.27813</td><td>10.5824</td><td>8</td><td>Late Type Emission Galaxy</td><td>0.27813</td><td>4</td><td>--</td></tr>\n",
       "<tr><td>3</td><td>244136898</td><td>5.747928</td><td>-0.864017</td><td>16.77</td><td>Targets</td><td>8</td><td>Late Type Emission Galaxy</td><td>0.0655</td><td>14.07315</td><td>8</td><td>Late Type Emission Galaxy</td><td>0.0655</td><td>4</td><td>--</td></tr>\n",
       "<tr><td>4</td><td>244660511</td><td>5.761097</td><td>-0.865226</td><td>17.42</td><td>Flux</td><td>5</td><td>G Star</td><td>-6e-05</td><td>9.78605</td><td>5</td><td>G Star</td><td>-6e-05</td><td>4</td><td>--</td></tr>\n",
       "<tr><td>5</td><td>244139768</td><td>5.752874</td><td>-0.864899</td><td>20.55</td><td>Targets</td><td>8</td><td>Late Type Emission Galaxy</td><td>0.21662</td><td>14.78831</td><td>8</td><td>Late Type Emission Galaxy</td><td>0.21662</td><td>4</td><td>--</td></tr>\n",
       "<tr><td>6</td><td>244138851</td><td>5.751612</td><td>-0.864548</td><td>20.17</td><td>Targets</td><td>8</td><td>Late Type Emission Galaxy</td><td>0.26013</td><td>17.03793</td><td>8</td><td>Late Type Emission Galaxy</td><td>0.26013</td><td>4</td><td>--</td></tr>\n",
       "<tr><td>8</td><td>244660347</td><td>5.75472</td><td>-0.865146</td><td>20.23</td><td>Targets</td><td>8</td><td>Late Type Emission Galaxy</td><td>0.28082</td><td>10.36827</td><td>8</td><td>Late Type Emission Galaxy</td><td>0.28082</td><td>4</td><td>--</td></tr>\n",
       "<tr><td>9</td><td>244139800</td><td>5.750456</td><td>-0.864918</td><td>19.91</td><td>Targets</td><td>8</td><td>Late Type Emission Galaxy</td><td>0.22056</td><td>16.91211</td><td>8</td><td>Late Type Emission Galaxy</td><td>0.22056</td><td>4</td><td>--</td></tr>\n",
       "<tr><td>10</td><td>245628597</td><td>5.757406</td><td>-0.865828</td><td>17.03</td><td>Targets</td><td>8</td><td>Late Type Emission Galaxy</td><td>0.09006</td><td>14.69302</td><td>8</td><td>Late Type Emission Galaxy</td><td>0.09006</td><td>4</td><td>--</td></tr>\n",
       "<tr><td>11</td><td>244660548</td><td>5.751421</td><td>-0.865245</td><td>17.53</td><td>Flux</td><td>5</td><td>G Star</td><td>-8e-05</td><td>9.50522</td><td>5</td><td>G Star</td><td>-8e-05</td><td>4</td><td>--</td></tr>\n",
       "<tr><td>...</td><td>...</td><td>...</td><td>...</td><td>...</td><td>...</td><td>...</td><td>...</td><td>...</td><td>...</td><td>...</td><td>...</td><td>...</td><td>...</td><td>...</td></tr>\n",
       "<tr><td>390</td><td>244134035</td><td>5.758702</td><td>-0.862755</td><td>20.34</td><td>Targets</td><td>8</td><td>Late Type Emission Galaxy</td><td>0.2058</td><td>16.52739</td><td>8</td><td>Late Type Emission Galaxy</td><td>0.2058</td><td>4</td><td>--</td></tr>\n",
       "<tr><td>391</td><td>244136743</td><td>5.748296</td><td>-0.863864</td><td>17.31</td><td>Targets</td><td>9</td><td>Composite Galaxy</td><td>0.15823</td><td>13.76752</td><td>9</td><td>Composite Galaxy</td><td>0.15823</td><td>4</td><td>--</td></tr>\n",
       "<tr><td>392</td><td>244134511</td><td>5.755409</td><td>-0.863065</td><td>19.96</td><td>Targets</td><td>8</td><td>Late Type Emission Galaxy</td><td>0.20546</td><td>14.79963</td><td>8</td><td>Late Type Emission Galaxy</td><td>0.20546</td><td>4</td><td>--</td></tr>\n",
       "<tr><td>393</td><td>244959522</td><td>5.742994</td><td>-0.861897</td><td>20.26</td><td>Targets</td><td>8</td><td>Late Type Emission Galaxy</td><td>0.34566</td><td>10.68162</td><td>8</td><td>Late Type Emission Galaxy</td><td>0.34566</td><td>4</td><td>--</td></tr>\n",
       "<tr><td>394</td><td>244135838</td><td>5.758066</td><td>-0.863449</td><td>20.66</td><td>Targets</td><td>11</td><td>Transitional Galaxy</td><td>0.0884</td><td>13.36687</td><td>11</td><td>Transitional Galaxy</td><td>0.0884</td><td>4</td><td>--</td></tr>\n",
       "<tr><td>395</td><td>244136438</td><td>5.75873</td><td>-0.863657</td><td>20.42</td><td>Targets</td><td>8</td><td>Late Type Emission Galaxy</td><td>0.2804</td><td>15.49382</td><td>8</td><td>Late Type Emission Galaxy</td><td>0.2804</td><td>4</td><td>--</td></tr>\n",
       "<tr><td>396</td><td>244136981</td><td>5.755825</td><td>-0.863925</td><td>19.69</td><td>Targets</td><td>8</td><td>Late Type Emission Galaxy</td><td>0.1285</td><td>15.94922</td><td>8</td><td>Late Type Emission Galaxy</td><td>0.1285</td><td>4</td><td>--</td></tr>\n",
       "<tr><td>397</td><td>244136952</td><td>5.759485</td><td>-0.863919</td><td>19.41</td><td>Targets</td><td>8</td><td>Late Type Emission Galaxy</td><td>0.10967</td><td>11.1775</td><td>8</td><td>Late Type Emission Galaxy</td><td>0.10967</td><td>4</td><td>--</td></tr>\n",
       "<tr><td>398</td><td>244135916</td><td>5.759434</td><td>-0.864209</td><td>14.98</td><td>Targets</td><td>8</td><td>Late Type Emission Galaxy</td><td>0.00681</td><td>14.50885</td><td>8</td><td>Late Type Emission Galaxy</td><td>0.00681</td><td>4</td><td>--</td></tr>\n",
       "<tr><td>399</td><td>244138400</td><td>5.750602</td><td>-0.864397</td><td>20.74</td><td>Targets</td><td>11</td><td>Transitional Galaxy</td><td>0.34112</td><td>10.53484</td><td>11</td><td>Transitional Galaxy</td><td>0.34112</td><td>4</td><td>--</td></tr>\n",
       "</table>"
      ],
      "text/plain": [
       "<Table masked=True length=360>\n",
       "  ID     Name      RA       DEC    ...   FinZ   QOP  Comment\n",
       "int64   int64   float64   float64  ... float64 int64  int64 \n",
       "----- --------- -------- --------- ... ------- ----- -------\n",
       "    1 244138713 5.753572  -0.86451 ... 0.03654     1      --\n",
       "    2 244139545 5.758745 -0.864807 ... 0.27813     4      --\n",
       "    3 244136898 5.747928 -0.864017 ...  0.0655     4      --\n",
       "    4 244660511 5.761097 -0.865226 ...  -6e-05     4      --\n",
       "    5 244139768 5.752874 -0.864899 ... 0.21662     4      --\n",
       "    6 244138851 5.751612 -0.864548 ... 0.26013     4      --\n",
       "    8 244660347  5.75472 -0.865146 ... 0.28082     4      --\n",
       "    9 244139800 5.750456 -0.864918 ... 0.22056     4      --\n",
       "   10 245628597 5.757406 -0.865828 ... 0.09006     4      --\n",
       "   11 244660548 5.751421 -0.865245 ...  -8e-05     4      --\n",
       "  ...       ...      ...       ... ...     ...   ...     ...\n",
       "  390 244134035 5.758702 -0.862755 ...  0.2058     4      --\n",
       "  391 244136743 5.748296 -0.863864 ... 0.15823     4      --\n",
       "  392 244134511 5.755409 -0.863065 ... 0.20546     4      --\n",
       "  393 244959522 5.742994 -0.861897 ... 0.34566     4      --\n",
       "  394 244135838 5.758066 -0.863449 ...  0.0884     4      --\n",
       "  395 244136438  5.75873 -0.863657 ...  0.2804     4      --\n",
       "  396 244136981 5.755825 -0.863925 ...  0.1285     4      --\n",
       "  397 244136952 5.759485 -0.863919 ... 0.10967     4      --\n",
       "  398 244135916 5.759434 -0.864209 ... 0.00681     4      --\n",
       "  399 244138400 5.750602 -0.864397 ... 0.34112     4      --"
      ]
     },
     "execution_count": 67,
     "metadata": {},
     "output_type": "execute_result"
    }
   ],
   "source": [
    "mzt = table.Table.read('SAGADropbox/Spectra/Final/AAT/pgc67663_1_MG.mz', format='ascii.commented_header', header_start=2)\n",
    "mzt"
   ]
  },
  {
   "cell_type": "code",
   "execution_count": 72,
   "metadata": {},
   "outputs": [
    {
     "data": {
      "text/plain": [
       "True"
      ]
     },
     "execution_count": 72,
     "metadata": {},
     "output_type": "execute_result"
    }
   ],
   "source": [
    "specftsub = specft[specft['TYPE']=='P']\n",
    "np.all(np.in1d(specftsub['NAME'].astype(int), tcat['OBJID']))"
   ]
  },
  {
   "cell_type": "markdown",
   "metadata": {},
   "source": [
    "Objects in the mz file that are being re-observed:"
   ]
  },
  {
   "cell_type": "code",
   "execution_count": 76,
   "metadata": {},
   "outputs": [
    {
     "data": {
      "text/html": [
       "<i>Table masked=True length=9</i>\n",
       "<table id=\"table113138470248\" class=\"table-striped table-bordered table-condensed\">\n",
       "<thead><tr><th>ID</th><th>Name</th><th>RA</th><th>DEC</th><th>Mag</th><th>Type</th><th>AutoTID</th><th>AutoTN</th><th>AutoZ</th><th>AutoXCor</th><th>FinTID</th><th>FinTN</th><th>FinZ</th><th>QOP</th><th>Comment</th></tr></thead>\n",
       "<thead><tr><th>int64</th><th>int64</th><th>float64</th><th>float64</th><th>float64</th><th>str7</th><th>int64</th><th>str33</th><th>float64</th><th>float64</th><th>int64</th><th>str33</th><th>float64</th><th>int64</th><th>int64</th></tr></thead>\n",
       "<tr><td>1</td><td>244138713</td><td>5.753572</td><td>-0.86451</td><td>20.54</td><td>Targets</td><td>11</td><td>Transitional Galaxy</td><td>0.03654</td><td>4.97842</td><td>11</td><td>Transitional Galaxy</td><td>0.03654</td><td>1</td><td>--</td></tr>\n",
       "<tr><td>4</td><td>244660511</td><td>5.761097</td><td>-0.865226</td><td>17.42</td><td>Flux</td><td>5</td><td>G Star</td><td>-6e-05</td><td>9.78605</td><td>5</td><td>G Star</td><td>-6e-05</td><td>4</td><td>--</td></tr>\n",
       "<tr><td>11</td><td>244660548</td><td>5.751421</td><td>-0.865245</td><td>17.53</td><td>Flux</td><td>5</td><td>G Star</td><td>-8e-05</td><td>9.50522</td><td>5</td><td>G Star</td><td>-8e-05</td><td>4</td><td>--</td></tr>\n",
       "<tr><td>15</td><td>245632064</td><td>5.757417</td><td>-0.867141</td><td>17.21</td><td>Flux</td><td>5</td><td>G Star</td><td>-0.00026</td><td>9.89037</td><td>5</td><td>G Star</td><td>-0.00026</td><td>4</td><td>--</td></tr>\n",
       "<tr><td>44</td><td>245642511</td><td>5.755732</td><td>-0.871561</td><td>19.36</td><td>Targets</td><td>10</td><td>High Redshift Star Forming Galaxy</td><td>0.16389</td><td>3.64028</td><td>10</td><td>High Redshift Star Forming Galaxy</td><td>0.16389</td><td>2</td><td>--</td></tr>\n",
       "<tr><td>45</td><td>245647243</td><td>5.75783</td><td>-0.873531</td><td>17.56</td><td>Flux</td><td>5</td><td>G Star</td><td>0.00015</td><td>9.99133</td><td>5</td><td>G Star</td><td>0.00015</td><td>4</td><td>--</td></tr>\n",
       "<tr><td>288</td><td>244955394</td><td>5.741429</td><td>-0.860352</td><td>20.65</td><td>Targets</td><td>10</td><td>High Redshift Star Forming Galaxy</td><td>0.6421</td><td>4.91543</td><td>10</td><td>High Redshift Star Forming Galaxy</td><td>0.6421</td><td>1</td><td>--</td></tr>\n",
       "<tr><td>298</td><td>244942706</td><td>5.742607</td><td>-0.855669</td><td>17.36</td><td>Flux</td><td>6</td><td>Early Type Absorption Galaxy</td><td>-0.00014</td><td>10.79983</td><td>6</td><td>Early Type Absorption Galaxy</td><td>-0.00014</td><td>4</td><td>--</td></tr>\n",
       "<tr><td>384</td><td>244135825</td><td>5.748336</td><td>-0.863468</td><td>19.52</td><td>Targets</td><td>7</td><td>Intermediate Type Galaxy</td><td>0.94948</td><td>5.16513</td><td>7</td><td>Intermediate Type Galaxy</td><td>0.94948</td><td>1</td><td>--</td></tr>\n",
       "</table>"
      ],
      "text/plain": [
       "<Table masked=True length=9>\n",
       "  ID     Name      RA       DEC    ...   FinZ    QOP  Comment\n",
       "int64   int64   float64   float64  ... float64  int64  int64 \n",
       "----- --------- -------- --------- ... -------- ----- -------\n",
       "    1 244138713 5.753572  -0.86451 ...  0.03654     1      --\n",
       "    4 244660511 5.761097 -0.865226 ...   -6e-05     4      --\n",
       "   11 244660548 5.751421 -0.865245 ...   -8e-05     4      --\n",
       "   15 245632064 5.757417 -0.867141 ... -0.00026     4      --\n",
       "   44 245642511 5.755732 -0.871561 ...  0.16389     2      --\n",
       "   45 245647243  5.75783 -0.873531 ...  0.00015     4      --\n",
       "  288 244955394 5.741429 -0.860352 ...   0.6421     1      --\n",
       "  298 244942706 5.742607 -0.855669 ... -0.00014     4      --\n",
       "  384 244135825 5.748336 -0.863468 ...  0.94948     1      --"
      ]
     },
     "execution_count": 76,
     "metadata": {},
     "output_type": "execute_result"
    }
   ],
   "source": [
    "reobserved = mzt[np.in1d(mzt['Name'].astype(int), acat['TargetName'])]\n",
    "reobserved"
   ]
  },
  {
   "cell_type": "markdown",
   "metadata": {},
   "source": [
    "Why are thes QOP=4 things getting re-observed?"
   ]
  },
  {
   "cell_type": "code",
   "execution_count": 79,
   "metadata": {},
   "outputs": [
    {
     "data": {
      "text/html": [
       "<i>Table length=9</i>\n",
       "<table id=\"table112118883776\" class=\"table-striped table-bordered table-condensed\">\n",
       "<thead><tr><th>OBJID</th><th>RA</th><th>DEC</th><th>REMOVE</th><th>is_galaxy</th><th>morphology_info</th><th>radius</th><th>radius_err</th><th>u_mag</th><th>g_mag</th><th>r_mag</th><th>i_mag</th><th>z_mag</th><th>y_mag</th><th>u_err</th><th>g_err</th><th>r_err</th><th>i_err</th><th>z_err</th><th>y_err</th><th>survey</th><th>OBJID_des</th><th>RA_des</th><th>DEC_des</th><th>REMOVE_des</th><th>is_galaxy_des</th><th>morphology_info_des</th><th>radius_des</th><th>radius_err_des</th><th>u_mag_des</th><th>g_mag_des</th><th>r_mag_des</th><th>i_mag_des</th><th>z_mag_des</th><th>y_mag_des</th><th>u_err_des</th><th>g_err_des</th><th>r_err_des</th><th>i_err_des</th><th>z_err_des</th><th>y_err_des</th><th>HOST_NSAID</th><th>HOST_NSA1ID</th><th>HOST_RA</th><th>HOST_DEC</th><th>HOST_DIST</th><th>HOST_VHOST</th><th>HOST_MK</th><th>HOST_MR</th><th>HOST_MG</th><th>HOST_SAGA_NAME</th><th>HOST_NGC</th><th>HOST_PGC</th><th>RHOST_ARCM</th><th>RHOST_KPC</th><th>OBJ_NSAID</th><th>SPEC_REPEAT</th><th>SPEC_REPEAT_ALL</th><th>SPEC_Z</th><th>SPEC_Z_ERR</th><th>ZQUALITY</th><th>SPECOBJID</th><th>MASKNAME</th><th>TELNAME</th><th>EM_ABS</th><th>HELIO_CORR</th><th>RA_spec</th><th>DEC_spec</th><th>SATS</th><th>sb_r</th><th>log_sm</th><th>ug</th><th>ug_err</th><th>gr</th><th>gr_err</th><th>ri</th><th>ri_err</th><th>iz</th><th>iz_err</th><th>zy</th><th>zy_err</th><th>rz</th><th>rz_err</th><th>TARGETING_SCORE</th></tr></thead>\n",
       "<thead><tr><th>int64</th><th>float64</th><th>float64</th><th>int64</th><th>bool</th><th>int32</th><th>float64</th><th>float32</th><th>float64</th><th>float64</th><th>float64</th><th>float64</th><th>float64</th><th>float64</th><th>float64</th><th>float64</th><th>float64</th><th>float64</th><th>float64</th><th>float64</th><th>str6</th><th>int64</th><th>float64</th><th>float64</th><th>int64</th><th>bool</th><th>int32</th><th>float64</th><th>float32</th><th>float64</th><th>float64</th><th>float64</th><th>float64</th><th>float64</th><th>float64</th><th>float64</th><th>float64</th><th>float64</th><th>float64</th><th>float64</th><th>float64</th><th>int32</th><th>int32</th><th>float32</th><th>float32</th><th>float32</th><th>float32</th><th>float32</th><th>float32</th><th>float32</th><th>str48</th><th>int32</th><th>int32</th><th>float32</th><th>float32</th><th>int32</th><th>str48</th><th>str48</th><th>float32</th><th>float32</th><th>int16</th><th>str48</th><th>str48</th><th>str6</th><th>int16</th><th>bool</th><th>float64</th><th>float64</th><th>int16</th><th>float64</th><th>float64</th><th>float64</th><th>float64</th><th>float64</th><th>float64</th><th>float64</th><th>float64</th><th>float64</th><th>float64</th><th>float64</th><th>float64</th><th>float64</th><th>float64</th><th>int64</th></tr></thead>\n",
       "<tr><td>245642511</td><td>329.779120116802</td><td>-49.9367876966731</td><td>0</td><td>True</td><td>3</td><td>4.11304343986511</td><td>0.0</td><td>99.0</td><td>20.1798435</td><td>19.36431651</td><td>19.1507081687408</td><td>18.686703118</td><td>18.4463</td><td>99.0</td><td>0.0415101</td><td>0.0217748</td><td>0.0512396</td><td>0.029584</td><td>0.0652006</td><td>des</td><td>245642511</td><td>329.779120116802</td><td>-49.9367876966731</td><td>0</td><td>True</td><td>3</td><td>4.11304343986511</td><td>0.0</td><td>99.0</td><td>20.1798435</td><td>19.36431651</td><td>19.1507081687408</td><td>18.686703118</td><td>18.4463</td><td>99.0</td><td>0.0415101</td><td>0.0217748</td><td>0.0512396</td><td>0.029584</td><td>0.0652006</td><td>-1</td><td>-1</td><td>329.04</td><td>-49.522</td><td>26.8605</td><td>1853.0</td><td>0.0</td><td>0.0</td><td>0.0</td><td></td><td>7155</td><td>67663</td><td>37.961666</td><td>296.60376</td><td>-1</td><td>AAT</td><td>AAT</td><td>0.16388465</td><td>3.335641e-05</td><td>2</td><td>44</td><td>pgc67663_1_MG.mz</td><td>AAT</td><td>-1</td><td>True</td><td>329.77915160839234</td><td>-49.93676688820155</td><td>-1</td><td>24.430582662545326</td><td>nan</td><td>78.8201565</td><td>99.00000870246629</td><td>0.8155269900000022</td><td>0.04687462338035368</td><td>0.21360834125919936</td><td>0.05567439737617283</td><td>0.46400505074079845</td><td>0.05916679528384143</td><td>0.2404031179999997</td><td>0.07159840288972932</td><td>0.6776133919999978</td><td>0.03673356736065802</td><td>291</td></tr>\n",
       "<tr><td>244138713</td><td>329.655421048233</td><td>-49.5327632514873</td><td>0</td><td>True</td><td>3</td><td>1.57120225000381</td><td>0.0</td><td>99.0</td><td>21.041607</td><td>20.544988219999997</td><td>20.443959670547198</td><td>20.252493596</td><td>20.33</td><td>99.0</td><td>0.0266532</td><td>0.0224325</td><td>0.05367</td><td>0.0522095</td><td>0.158489</td><td>des</td><td>244138713</td><td>329.655421048233</td><td>-49.5327632514873</td><td>0</td><td>True</td><td>3</td><td>1.57120225000381</td><td>0.0</td><td>99.0</td><td>21.041607</td><td>20.544988219999997</td><td>20.443959670547198</td><td>20.252493596</td><td>20.33</td><td>99.0</td><td>0.0266532</td><td>0.0224325</td><td>0.05367</td><td>0.0522095</td><td>0.158489</td><td>-1</td><td>-1</td><td>329.04</td><td>-49.522</td><td>26.8605</td><td>1853.0</td><td>0.0</td><td>0.0</td><td>0.0</td><td></td><td>7155</td><td>67663</td><td>23.97625</td><td>187.33458</td><td>-1</td><td>AAT</td><td>AAT</td><td>0.036534652</td><td>3.335641e-05</td><td>1</td><td>1</td><td>pgc67663_1_MG.mz</td><td>AAT</td><td>-1</td><td>True</td><td>329.6553927246441</td><td>-49.5327743468548</td><td>-1</td><td>23.52159835271868</td><td>nan</td><td>77.958393</td><td>99.00000358784372</td><td>0.49661878000000215</td><td>0.034836907533390506</td><td>0.10102854945279915</td><td>0.0581694589647351</td><td>0.191466074547197</td><td>0.07487523482600907</td><td>-0.07750640399999753</td><td>0.16686699796919102</td><td>0.29249462399999615</td><td>0.05682472126196485</td><td>329</td></tr>\n",
       "<tr><td>244135825</td><td>329.355366165065</td><td>-49.4730649303556</td><td>0</td><td>True</td><td>3</td><td>1.82474120664597</td><td>0.0</td><td>99.0</td><td>20.0495645</td><td>19.52340517</td><td>19.240717134731202</td><td>19.066587106</td><td>18.9917</td><td>99.0</td><td>0.0132087</td><td>0.0130668</td><td>0.0289324</td><td>0.020966</td><td>0.0554367</td><td>des</td><td>244135825</td><td>329.355366165065</td><td>-49.4730649303556</td><td>0</td><td>True</td><td>3</td><td>1.82474120664597</td><td>0.0</td><td>99.0</td><td>20.0495645</td><td>19.52340517</td><td>19.240717134731202</td><td>19.066587106</td><td>18.9917</td><td>99.0</td><td>0.0132087</td><td>0.0130668</td><td>0.0289324</td><td>0.020966</td><td>0.0554367</td><td>-1</td><td>-1</td><td>329.04</td><td>-49.522</td><td>26.8605</td><td>1853.0</td><td>0.0</td><td>0.0</td><td>0.0</td><td></td><td>7155</td><td>67663</td><td>12.635314</td><td>98.72458</td><td>-1</td><td>AAT</td><td>AAT</td><td>0.94947463</td><td>3.335641e-05</td><td>1</td><td>384</td><td>pgc67663_1_MG.mz</td><td>AAT</td><td>-1</td><td>True</td><td>329.3553920231136</td><td>-49.47307214460217</td><td>-1</td><td>22.82486123829543</td><td>nan</td><td>78.9504355</td><td>99.00000088116037</td><td>0.5261593299999987</td><td>0.01857985516439781</td><td>0.28268803526879793</td><td>0.031746260126194394</td><td>0.1741300287312022</td><td>0.03573033621112457</td><td>0.07488710599999848</td><td>0.05926888612830512</td><td>0.45681806400000013</td><td>0.024704542461660768</td><td>469</td></tr>\n",
       "<tr><td>244955394</td><td>328.959637044431</td><td>-49.2945522201577</td><td>0</td><td>True</td><td>3</td><td>1.48953531932831</td><td>0.0</td><td>99.0</td><td>21.194961</td><td>20.64775706</td><td>20.3492229303488</td><td>20.124623107999998</td><td>20.3743</td><td>99.0</td><td>0.0301481</td><td>0.0315303</td><td>0.069128</td><td>0.0481023</td><td>0.181381</td><td>des</td><td>244955394</td><td>328.959637044431</td><td>-49.2945522201577</td><td>0</td><td>True</td><td>3</td><td>1.48953531932831</td><td>0.0</td><td>99.0</td><td>21.194961</td><td>20.64775706</td><td>20.3492229303488</td><td>20.124623107999998</td><td>20.3743</td><td>99.0</td><td>0.0301481</td><td>0.0315303</td><td>0.069128</td><td>0.0481023</td><td>0.181381</td><td>-1</td><td>-1</td><td>329.04</td><td>-49.522</td><td>26.8605</td><td>1853.0</td><td>0.0</td><td>0.0</td><td>0.0</td><td></td><td>7155</td><td>67663</td><td>14.002854</td><td>109.40964</td><td>-1</td><td>AAT</td><td>AAT</td><td>0.6420947</td><td>3.335641e-05</td><td>1</td><td>288</td><td>pgc67663_1_MG.mz</td><td>AAT</td><td>-1</td><td>True</td><td>328.95965007401674</td><td>-49.2945384956394</td><td>-1</td><td>23.508460758437547</td><td>nan</td><td>77.805039</td><td>99.00000459044401</td><td>0.5472039399999993</td><td>0.04362416476793567</td><td>0.2985341296511983</td><td>0.07597920901200537</td><td>0.2245998223488037</td><td>0.08421705082279954</td><td>-0.24967689200000365</td><td>0.18765100166609822</td><td>0.523133952000002</td><td>0.05751513786282703</td><td>477</td></tr>\n",
       "<tr><td>244660511</td><td>330.086527833626</td><td>-49.5738190907304</td><td>0</td><td>False</td><td>0</td><td>0.702313168287277</td><td>0.0</td><td>99.0</td><td>17.808486</td><td>17.421909560000003</td><td>17.2955436767488</td><td>17.227247608000003</td><td>17.2995</td><td>99.0</td><td>0.00140636</td><td>0.00123906</td><td>0.00179255</td><td>0.00260877</td><td>0.00790805</td><td>des</td><td>244660511</td><td>330.086527833626</td><td>-49.5738190907304</td><td>0</td><td>False</td><td>0</td><td>0.702313168287277</td><td>0.0</td><td>99.0</td><td>17.808486</td><td>17.421909560000003</td><td>17.2955436767488</td><td>17.227247608000003</td><td>17.2995</td><td>99.0</td><td>0.00140636</td><td>0.00123906</td><td>0.00179255</td><td>0.00260877</td><td>0.00790805</td><td>-1</td><td>-1</td><td>329.04</td><td>-49.522</td><td>26.8605</td><td>1853.0</td><td>0.0</td><td>0.0</td><td>0.0</td><td></td><td>7155</td><td>67663</td><td>40.85812</td><td>319.23346</td><td>-1</td><td>AAT</td><td>AAT</td><td>-6.534698e-05</td><td>3.335641e-05</td><td>4</td><td>4</td><td>pgc67663_1_MG.mz</td><td>AAT</td><td>-1</td><td>True</td><td>330.0865434654801</td><td>-49.57379812498617</td><td>-1</td><td>18.650013288204445</td><td>nan</td><td>81.191514</td><td>99.00000000998914</td><td>0.38657643999999536</td><td>0.0018743313829736724</td><td>0.12636588325120357</td><td>0.0021791065109581036</td><td>0.06829606874879701</td><td>0.0031652671949457915</td><td>-0.07225239199999578</td><td>0.008327240582293753</td><td>0.19466195200000058</td><td>0.0028880703932729892</td><td>1400</td></tr>\n",
       "<tr><td>244942706</td><td>329.027166016407</td><td>-49.0262085772772</td><td>0</td><td>False</td><td>0</td><td>0.715591385602951</td><td>0.0</td><td>99.0</td><td>17.686735499999998</td><td>17.35574883</td><td>17.2556446278512</td><td>17.219690094</td><td>17.2868</td><td>99.0</td><td>0.0015147</td><td>0.00101594</td><td>0.00206613</td><td>0.0023222</td><td>0.00691548</td><td>des</td><td>244942706</td><td>329.027166016407</td><td>-49.0262085772772</td><td>0</td><td>False</td><td>0</td><td>0.715591385602951</td><td>0.0</td><td>99.0</td><td>17.686735499999998</td><td>17.35574883</td><td>17.2556446278512</td><td>17.219690094</td><td>17.2868</td><td>99.0</td><td>0.0015147</td><td>0.00101594</td><td>0.00206613</td><td>0.0023222</td><td>0.00691548</td><td>-1</td><td>-1</td><td>329.04</td><td>-49.522</td><td>26.8605</td><td>1853.0</td><td>0.0</td><td>0.0</td><td>0.0</td><td></td><td>7155</td><td>67663</td><td>29.751728</td><td>232.45932</td><td>-1</td><td>AAT</td><td>AAT</td><td>-0.00014534699</td><td>3.335641e-05</td><td>4</td><td>298</td><td>pgc67663_1_MG.mz</td><td>AAT</td><td>-1</td><td>True</td><td>329.02714450228314</td><td>-49.02622236017964</td><td>-1</td><td>18.624524020016867</td><td>nan</td><td>81.3132645</td><td>99.00000001158746</td><td>0.33098666999999793</td><td>0.0018238558532954296</td><td>0.100104202148799</td><td>0.0023023959825581694</td><td>0.035954533851199955</td><td>0.00310829632063933</td><td>-0.06710990599999889</td><td>0.0072949624036317</td><td>0.13605873599999896</td><td>0.0025347084494276653</td><td>1400</td></tr>\n",
       "<tr><td>244660548</td><td>329.532149794846</td><td>-49.5748917278406</td><td>0</td><td>False</td><td>0</td><td>0.705334000349045</td><td>0.0</td><td>99.0</td><td>17.890412</td><td>17.52791352</td><td>17.446571324723198</td><td>17.390641136</td><td>17.4506</td><td>99.0</td><td>0.00132633</td><td>0.00121995</td><td>0.00237274</td><td>0.00252802</td><td>0.00737661</td><td>des</td><td>244660548</td><td>329.532149794846</td><td>-49.5748917278406</td><td>0</td><td>False</td><td>0</td><td>0.705334000349045</td><td>0.0</td><td>99.0</td><td>17.890412</td><td>17.52791352</td><td>17.446571324723198</td><td>17.390641136</td><td>17.4506</td><td>99.0</td><td>0.00132633</td><td>0.00121995</td><td>0.00237274</td><td>0.00252802</td><td>0.00737661</td><td>-1</td><td>-1</td><td>329.04</td><td>-49.522</td><td>26.8605</td><td>1853.0</td><td>0.0</td><td>0.0</td><td>0.0</td><td></td><td>7155</td><td>67663</td><td>19.41957</td><td>151.73213</td><td>-1</td><td>AAT</td><td>AAT</td><td>-8.534698e-05</td><td>3.335641e-05</td><td>4</td><td>11</td><td>pgc67663_1_MG.mz</td><td>AAT</td><td>-1</td><td>True</td><td>329.5321495029114</td><td>-49.57488674479692</td><td>-1</td><td>18.76533728761772</td><td>nan</td><td>81.109588</td><td>99.0000000088846</td><td>0.36249848000000284</td><td>0.0018020625048538134</td><td>0.08134219527680031</td><td>0.002667990462895248</td><td>0.05593018872319888</td><td>0.0034670996853277815</td><td>-0.059958864000002166</td><td>0.007797772772561406</td><td>0.1372723839999992</td><td>0.0028069847030042757</td><td>1400</td></tr>\n",
       "<tr><td>245632064</td><td>329.875701314049</td><td>-49.6835304012813</td><td>0</td><td>False</td><td>0</td><td>0.703920211315155</td><td>0.0</td><td>99.0</td><td>17.498329000000002</td><td>17.21155034</td><td>17.127780100524802</td><td>17.074626212</td><td>17.1362</td><td>99.0</td><td>0.00120751</td><td>0.00111943</td><td>0.0025099</td><td>0.00208658</td><td>0.00566284</td><td>des</td><td>245632064</td><td>329.875701314049</td><td>-49.6835304012813</td><td>0</td><td>False</td><td>0</td><td>0.703920211315155</td><td>0.0</td><td>99.0</td><td>17.498329000000002</td><td>17.21155034</td><td>17.127780100524802</td><td>17.074626212</td><td>17.1362</td><td>99.0</td><td>0.00120751</td><td>0.00111943</td><td>0.0025099</td><td>0.00208658</td><td>0.00566284</td><td>-1</td><td>-1</td><td>329.04</td><td>-49.522</td><td>26.8605</td><td>1853.0</td><td>0.0</td><td>0.0</td><td>0.0</td><td></td><td>7155</td><td>67663</td><td>33.910507</td><td>264.95215</td><td>-1</td><td>AAT</td><td>AAT</td><td>-0.000265347</td><td>3.335641e-05</td><td>4</td><td>15</td><td>pgc67663_1_MG.mz</td><td>AAT</td><td>-1</td><td>True</td><td>329.8756949968719</td><td>-49.68351954275372</td><td>-1</td><td>18.44461718622697</td><td>nan</td><td>81.501671</td><td>99.00000000736404</td><td>0.28677866000000307</td><td>0.0016465733888897877</td><td>0.08377023947519646</td><td>0.0027482215221666536</td><td>0.05315388852480396</td><td>0.003263956817483957</td><td>-0.06157378800000046</td><td>0.006035028828597258</td><td>0.13692412800000042</td><td>0.0023678977218832744</td><td>1400</td></tr>\n",
       "<tr><td>245647243</td><td>329.899362648609</td><td>-50.0496561240102</td><td>0</td><td>False</td><td>0</td><td>0.701546485424042</td><td>0.0</td><td>99.0</td><td>17.9277665</td><td>17.56486209</td><td>17.4302169054448</td><td>17.369022362</td><td>17.4074</td><td>99.0</td><td>0.00173843</td><td>0.00148164</td><td>0.00322202</td><td>0.00238523</td><td>0.00655472</td><td>des</td><td>245647243</td><td>329.899362648609</td><td>-50.0496561240102</td><td>0</td><td>False</td><td>0</td><td>0.701546485424042</td><td>0.0</td><td>99.0</td><td>17.9277665</td><td>17.56486209</td><td>17.4302169054448</td><td>17.369022362</td><td>17.4074</td><td>99.0</td><td>0.00173843</td><td>0.00148164</td><td>0.00322202</td><td>0.00238523</td><td>0.00655472</td><td>-1</td><td>-1</td><td>329.04</td><td>-49.522</td><td>26.8605</td><td>1853.0</td><td>0.0</td><td>0.0</td><td>0.0</td><td></td><td>7155</td><td>67663</td><td>45.940525</td><td>358.94113</td><td>-1</td><td>AAT</td><td>AAT</td><td>0.00014465302</td><td>3.335641e-05</td><td>4</td><td>45</td><td>pgc67663_1_MG.mz</td><td>AAT</td><td>-1</td><td>True</td><td>329.8993581538108</td><td>-50.04963957384231</td><td>-1</td><td>18.79059402719887</td><td>nan</td><td>81.0722335</td><td>99.00000001526332</td><td>0.3629044100000023</td><td>0.002284161980792956</td><td>0.1346451845551968</td><td>0.003546360101568931</td><td>0.06119454344480246</td><td>0.004008832128351098</td><td>-0.03837763800000005</td><td>0.006975218737165165</td><td>0.19583972799999927</td><td>0.0028079492948591502</td><td>1400</td></tr>\n",
       "</table>"
      ],
      "text/plain": [
       "<Table length=9>\n",
       "  OBJID          RA        ...         rz_err        TARGETING_SCORE\n",
       "  int64       float64      ...        float64             int64     \n",
       "--------- ---------------- ... --------------------- ---------------\n",
       "245642511 329.779120116802 ...   0.03673356736065802             291\n",
       "244138713 329.655421048233 ...   0.05682472126196485             329\n",
       "244135825 329.355366165065 ...  0.024704542461660768             469\n",
       "244955394 328.959637044431 ...   0.05751513786282703             477\n",
       "244660511 330.086527833626 ... 0.0028880703932729892            1400\n",
       "244942706 329.027166016407 ... 0.0025347084494276653            1400\n",
       "244660548 329.532149794846 ... 0.0028069847030042757            1400\n",
       "245632064 329.875701314049 ... 0.0023678977218832744            1400\n",
       "245647243 329.899362648609 ... 0.0028079492948591502            1400"
      ]
     },
     "execution_count": 79,
     "metadata": {},
     "output_type": "execute_result"
    }
   ],
   "source": [
    "tcat[np.in1d(tcat['OBJID'], reobserved['Name'])]"
   ]
  },
  {
   "cell_type": "markdown",
   "metadata": {},
   "source": [
    "Maybe because the err and the result are similar?"
   ]
  },
  {
   "cell_type": "markdown",
   "metadata": {},
   "source": [
    "### Computing a target catalog with favor_highpri"
   ]
  },
  {
   "cell_type": "code",
   "execution_count": 211,
   "metadata": {},
   "outputs": [
    {
     "name": "stdout",
     "output_type": "stream",
     "text": [
      "Nflux: 5 Nguide: 92 NSky 78\n",
      "Targets in each priority: {1: 100, 2: 76, 3: 22, 4: 50, 5: 126, 6: 92, 7: 39, 8: 4}\n",
      "Total: 684\n"
     ]
    },
    {
     "data": {
      "text/html": [
       "&lt;Column name=&apos;TARGETING_SCORE&apos; dtype=&apos;int64&apos; length=100&gt;\n",
       "<table>\n",
       "<tr><td>810</td></tr>\n",
       "<tr><td>810</td></tr>\n",
       "<tr><td>811</td></tr>\n",
       "<tr><td>811</td></tr>\n",
       "<tr><td>814</td></tr>\n",
       "<tr><td>814</td></tr>\n",
       "<tr><td>814</td></tr>\n",
       "<tr><td>814</td></tr>\n",
       "<tr><td>814</td></tr>\n",
       "<tr><td>815</td></tr>\n",
       "<tr><td>815</td></tr>\n",
       "<tr><td>816</td></tr>\n",
       "<tr><td>...</td></tr>\n",
       "<tr><td>864</td></tr>\n",
       "<tr><td>864</td></tr>\n",
       "<tr><td>865</td></tr>\n",
       "<tr><td>865</td></tr>\n",
       "<tr><td>865</td></tr>\n",
       "<tr><td>866</td></tr>\n",
       "<tr><td>866</td></tr>\n",
       "<tr><td>866</td></tr>\n",
       "<tr><td>866</td></tr>\n",
       "<tr><td>867</td></tr>\n",
       "<tr><td>867</td></tr>\n",
       "<tr><td>867</td></tr>\n",
       "</table>"
      ],
      "text/plain": [
       "<Column name='TARGETING_SCORE' dtype='int64' length=100>\n",
       "810\n",
       "810\n",
       "811\n",
       "811\n",
       "814\n",
       "814\n",
       "814\n",
       "814\n",
       "814\n",
       "815\n",
       "815\n",
       "816\n",
       "...\n",
       "864\n",
       "864\n",
       "865\n",
       "865\n",
       "865\n",
       "866\n",
       "866\n",
       "866\n",
       "866\n",
       "867\n",
       "867\n",
       "867"
      ]
     },
     "execution_count": 211,
     "metadata": {},
     "output_type": "execute_result"
    }
   ],
   "source": [
    "tt = writecat['TargetName', 'TargetType']\n",
    "tt['TargetName'].name = 'OBJID'\n",
    "tt['idx'] = np.arange(len(tt))\n",
    "jt = table.join(tt, tcat, join_type='left')\n",
    "jt = jt[np.argsort(jt['idx'])]\n",
    "\n",
    "\n",
    "subsampledcat2 = subsample_catalog(writecat, {1:100}, maxflux=5, maxguides=100, favor_highpri=jt['TARGETING_SCORE'])\n",
    "cutpri = subsampledcat2[subsampledcat2['Priority']==1]\n",
    "tcat['TARGETING_SCORE'][np.in1d(tcat['OBJID'], cutpri['TargetName'])]"
   ]
  }
 ],
 "metadata": {
  "kernelspec": {
   "display_name": "Python (saga3)",
   "language": "python",
   "name": "saga3"
  },
  "language_info": {
   "codemirror_mode": {
    "name": "ipython",
    "version": 3
   },
   "file_extension": ".py",
   "mimetype": "text/x-python",
   "name": "python",
   "nbconvert_exporter": "python",
   "pygments_lexer": "ipython3",
   "version": "3.6.1"
  }
 },
 "nbformat": 4,
 "nbformat_minor": 2
}
