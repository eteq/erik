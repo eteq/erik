{
 "cells": [
  {
   "cell_type": "code",
   "execution_count": 4,
   "metadata": {
    "collapsed": true
   },
   "outputs": [],
   "source": [
    "# This changes the current directory to the base saga directory - make sure to run this first!\n",
    "# This is necessary to be able to import the py files and use the right directories,\n",
    "# while keeping all the notebooks in their own directory.\n",
    "import os\n",
    "import sys\n",
    "\n",
    "if 'saga_base_dir' not in locals():\n",
    "    saga_base_dir = os.path.abspath('..')\n",
    "\n",
    "if saga_base_dir not in sys.path:\n",
    "    os.chdir(saga_base_dir)"
   ]
  },
  {
   "cell_type": "code",
   "execution_count": 55,
   "metadata": {
    "collapsed": true
   },
   "outputs": [],
   "source": [
    "from __future__ import print_function, division\n",
    "\n",
    "import numpy as np\n",
    "\n",
    "from astropy import units as u\n",
    "from astropy import constants as cnst\n",
    "from astropy import table"
   ]
  },
  {
   "cell_type": "code",
   "execution_count": 6,
   "metadata": {
    "collapsed": true
   },
   "outputs": [],
   "source": [
    "%matplotlib inline\n",
    "from matplotlib import pyplot as plt\n",
    "from matplotlib import rcParams\n",
    "\n",
    "rcParams['image.interpolation'] = 'none'\n",
    "rcParams['figure.figsize'] = (16, 10)\n",
    "plt.rcParams['image.cmap'] = 'viridis'"
   ]
  },
  {
   "cell_type": "markdown",
   "metadata": {},
   "source": [
    "# Find all of the sats that are in SAGA hosts"
   ]
  },
  {
   "cell_type": "code",
   "execution_count": 46,
   "metadata": {
    "collapsed": false
   },
   "outputs": [],
   "source": [
    "t = table.Table.read('SAGADropbox/data/saga_spectra_clean.fits.gz')"
   ]
  },
  {
   "cell_type": "code",
   "execution_count": 45,
   "metadata": {
    "collapsed": false
   },
   "outputs": [
    {
     "data": {
      "text/html": [
       "&lt;Table masked=True length=49&gt;\n",
       "<table id=\"table5198268048\" class=\"table-striped table-bordered table-condensed\">\n",
       "<thead><tr><th>OBJID</th><th>RA</th><th>DEC</th><th>PHOTPTYPE</th><th>PHOT_SG</th><th>FLAGS</th><th>clean</th><th>SATURATED</th><th>BAD_COUNTS_ERROR</th><th>BINNED1</th><th>TOO_FEW_GOOD_DETECTIONS</th><th>u</th><th>g</th><th>r</th><th>i</th><th>z</th><th>u_err</th><th>g_err</th><th>r_err</th><th>i_err</th><th>z_err</th><th>MODELMAGERR_U</th><th>MODELMAGERR_G</th><th>MODELMAGERR_R</th><th>MODELMAGERR_I</th><th>MODELMAGERR_Z</th><th>EXTINCTION_U</th><th>EXTINCTION_G</th><th>EXTINCTION_R</th><th>EXTINCTION_I</th><th>EXTINCTION_Z</th><th>DERED_U</th><th>DERED_G</th><th>DERED_R</th><th>DERED_I</th><th>DERED_Z</th><th>PETRORAD_U</th><th>PETRORAD_G</th><th>PETRORAD_R</th><th>PETRORAD_I</th><th>PETRORAD_Z</th><th>PETRORADERR_U</th><th>PETRORADERR_G</th><th>PETRORADERR_R</th><th>PETRORADERR_I</th><th>PETRORADERR_Z</th><th>DEVRAD_U</th><th>DEVRADERR_U</th><th>DEVRAD_G</th><th>DEVRADERR_G</th><th>DEVRAD_R</th><th>DEVRADERR_R</th><th>DEVRAD_I</th><th>DEVRADERR_I</th><th>DEVRAD_Z</th><th>DEVRADERR_Z</th><th>DEVAB_U</th><th>DEVAB_G</th><th>DEVAB_R</th><th>DEVAB_I</th><th>DEVAB_Z</th><th>CMODELMAG_U</th><th>CMODELMAGERR_U</th><th>CMODELMAG_G</th><th>CMODELMAGERR_G</th><th>CMODELMAG_R</th><th>CMODELMAGERR_R</th><th>CMODELMAG_I</th><th>CMODELMAGERR_I</th><th>CMODELMAG_Z</th><th>CMODELMAGERR_Z</th><th>PSFMAG_U</th><th>PSFMAGERR_U</th><th>PSFMAG_G</th><th>PSFMAGERR_G</th><th>PSFMAG_R</th><th>PSFMAGERR_R</th><th>PSFMAG_I</th><th>PSFMAGERR_I</th><th>PSFMAG_Z</th><th>PSFMAGERR_Z</th><th>FIBERMAG_U</th><th>FIBERMAGERR_U</th><th>FIBERMAG_G</th><th>FIBERMAGERR_G</th><th>FIBERMAG_R</th><th>FIBERMAGERR_R</th><th>FIBERMAG_I</th><th>FIBERMAGERR_I</th><th>FIBERMAG_Z</th><th>FIBERMAGERR_Z</th><th>FRACDEV_U</th><th>FRACDEV_G</th><th>FRACDEV_R</th><th>FRACDEV_I</th><th>FRACDEV_Z</th><th>Q_U</th><th>U_U</th><th>Q_G</th><th>U_G</th><th>Q_R</th><th>U_R</th><th>Q_I</th><th>U_I</th><th>Q_Z</th><th>U_Z</th><th>EXPAB_U</th><th>EXPRAD_U</th><th>EXPPHI_U</th><th>EXPAB_G</th><th>EXPRAD_G</th><th>EXPPHI_G</th><th>EXPAB_R</th><th>EXPRAD_R</th><th>EXPPHI_R</th><th>EXPAB_I</th><th>EXPRAD_I</th><th>EXPPHI_I</th><th>EXPAB_Z</th><th>EXPRAD_Z</th><th>EXPPHI_Z</th><th>FIBER2MAG_R</th><th>FIBER2MAGERR_R</th><th>EXPMAG_R</th><th>EXPMAGERR_R</th><th>PETROR50_R</th><th>PETROR90_R</th><th>PETROMAG_R</th><th>SB_EXP_R</th><th>SB_PETRO_R</th><th>J</th><th>JERR</th><th>H</th><th>HERR</th><th>K</th><th>KERR</th><th>SPEC_Z</th><th>SPEC_Z_ERR</th><th>SPEC_Z_WARN</th><th>PHOTOZ</th><th>PHOTOZ_ERR</th><th>W1</th><th>W1ERR</th><th>W2</th><th>W2ERR</th><th>HOST_RA</th><th>HOST_DEC</th><th>HOST_DIST</th><th>HOST_VHOST</th><th>HOST_MK</th><th>HOST_NSAID</th><th>HOST_FLAG</th><th>HOST_SAGA_NAME</th><th>RHOST_ARCM</th><th>RHOST_KPC</th><th>OBJ_NSAID</th><th>SATS</th><th>PROBABILITY_CLASS1</th><th>RESCALED_PROBABILITY_CLASS1</th><th>REMOVE</th><th>TELNAME</th><th>MASKNAME</th><th>ZQUALITY</th><th>SPEC_CLASS</th><th>SPECOBJID</th><th>SPEC_REPEAT</th></tr></thead>\n",
       "<thead><tr><th>int64</th><th>float64</th><th>float64</th><th>int16</th><th>str40</th><th>int64</th><th>int32</th><th>int64</th><th>int64</th><th>int64</th><th>int64</th><th>float32</th><th>float32</th><th>float32</th><th>float32</th><th>float32</th><th>float32</th><th>float32</th><th>float32</th><th>float32</th><th>float32</th><th>float32</th><th>float32</th><th>float32</th><th>float32</th><th>float32</th><th>float32</th><th>float32</th><th>float32</th><th>float32</th><th>float32</th><th>float32</th><th>float32</th><th>float32</th><th>float32</th><th>float32</th><th>float32</th><th>float32</th><th>float32</th><th>float32</th><th>float32</th><th>float32</th><th>float32</th><th>float32</th><th>float32</th><th>float32</th><th>float32</th><th>float32</th><th>float32</th><th>float32</th><th>float32</th><th>float32</th><th>float32</th><th>float32</th><th>float32</th><th>float32</th><th>float32</th><th>float32</th><th>float32</th><th>float32</th><th>float32</th><th>float32</th><th>float32</th><th>float32</th><th>float32</th><th>float32</th><th>float32</th><th>float32</th><th>float32</th><th>float32</th><th>float32</th><th>float32</th><th>float32</th><th>float32</th><th>float32</th><th>float32</th><th>float32</th><th>float32</th><th>float32</th><th>float32</th><th>float32</th><th>float32</th><th>float32</th><th>float32</th><th>float32</th><th>float32</th><th>float32</th><th>float32</th><th>float32</th><th>float32</th><th>float32</th><th>float32</th><th>float32</th><th>float32</th><th>float32</th><th>float32</th><th>float32</th><th>float32</th><th>float32</th><th>float32</th><th>float32</th><th>float32</th><th>float32</th><th>float32</th><th>float32</th><th>float32</th><th>float32</th><th>float32</th><th>float32</th><th>float32</th><th>float32</th><th>float32</th><th>float32</th><th>float32</th><th>float32</th><th>float32</th><th>float32</th><th>float32</th><th>float32</th><th>float32</th><th>float32</th><th>float32</th><th>float32</th><th>float32</th><th>float32</th><th>float32</th><th>float32</th><th>float32</th><th>float64</th><th>float64</th><th>float32</th><th>float32</th><th>float32</th><th>float32</th><th>float32</th><th>float32</th><th>float32</th><th>float32</th><th>int32</th><th>float32</th><th>float32</th><th>float64</th><th>float64</th><th>float64</th><th>float64</th><th>float64</th><th>float64</th><th>float64</th><th>float64</th><th>float64</th><th>int64</th><th>int64</th><th>str48</th><th>float64</th><th>float64</th><th>int64</th><th>int64</th><th>float64</th><th>float64</th><th>int64</th><th>str6</th><th>str48</th><th>int64</th><th>str2</th><th>str48</th><th>str48</th></tr></thead>\n",
       "<tr><td>1237651735757259099</td><td>180.636494306</td><td>1.95802947978</td><td>3</td><td>GALAXY</td><td>281543964623104</td><td>0</td><td>0</td><td>0</td><td>268435456</td><td>281474976710656</td><td>26.9357</td><td>19.2637</td><td>18.6728</td><td>18.9803</td><td>26.7732</td><td>3.48973</td><td>0.0899796</td><td>0.0839212</td><td>0.173803</td><td>0.658678</td><td>3.48973</td><td>0.0899796</td><td>0.0839212</td><td>0.173803</td><td>0.658678</td><td>0.115032</td><td>0.0846394</td><td>0.0613876</td><td>0.0465483</td><td>0.0330033</td><td>26.8206</td><td>19.1791</td><td>18.6114</td><td>18.9337</td><td>26.7402</td><td>2.97098</td><td>2.97006</td><td>258.374</td><td>2.96948</td><td>2.97022</td><td>-1000.0</td><td>-1000.0</td><td>-1000.0</td><td>-1000.0</td><td>-1000.0</td><td>2.12566</td><td>3.65126</td><td>29.6753</td><td>2.31745</td><td>27.1824</td><td>8.31657</td><td>29.6695</td><td>2.53441</td><td>0.00358716</td><td>27.1103</td><td>0.05</td><td>0.623367</td><td>0.999923</td><td>0.952344</td><td>0.0501283</td><td>21.8828</td><td>0.386924</td><td>19.1192</td><td>0.0916567</td><td>17.2244</td><td>0.0721443</td><td>18.0551</td><td>0.166074</td><td>22.1379</td><td>0.697607</td><td>22.5648</td><td>0.410591</td><td>22.7915</td><td>0.178714</td><td>22.782</td><td>0.271717</td><td>23.0981</td><td>0.472571</td><td>22.0059</td><td>0.635566</td><td>23.3443</td><td>0.69363</td><td>22.7732</td><td>0.188145</td><td>22.6497</td><td>0.264579</td><td>22.8432</td><td>0.479258</td><td>22.1462</td><td>0.862093</td><td>1.0</td><td>0.337854</td><td>0.301263</td><td>0.0654641</td><td>1.0</td><td>-0.191439</td><td>0.930425</td><td>-0.0791527</td><td>0.00684313</td><td>-0.136734</td><td>0.142043</td><td>0.126804</td><td>0.243481</td><td>-0.424756</td><td>-3.02252</td><td>0.05</td><td>3.41202</td><td>63.378</td><td>0.344957</td><td>17.0706</td><td>153.516</td><td>0.374638</td><td>57.5764</td><td>150.554</td><td>0.679342</td><td>24.642</td><td>146.598</td><td>0.300015</td><td>0.000382415</td><td>90.4881</td><td>23.3621</td><td>0.323969</td><td>16.9897</td><td>0.0668231</td><td>3.80096</td><td>5.55442</td><td>20.4335</td><td>27.7863323159</td><td>25.3284160846</td><td>9999.0</td><td>9999.0</td><td>9999.0</td><td>9999.0</td><td>9999.0</td><td>9999.0</td><td>0.00696</td><td>-1.0</td><td>-1</td><td>-9999.0</td><td>-9999.0</td><td>-1.0</td><td>-1.0</td><td>-1.0</td><td>-1.0</td><td>180.676</td><td>1.9768</td><td>29.5168</td><td>1961.14</td><td>-23.607346363</td><td>13927</td><td>0</td><td>Sopranos</td><td>2.62303147771</td><td>22.5215797356</td><td>-1</td><td>1</td><td>0.224393357319</td><td>-1.0</td><td>-1</td><td>MMT</td><td>/Spectra/Final/MMT/spHect-2016.0316_1.zlog</td><td>4</td><td></td><td>88.0</td><td>MMT</td></tr>\n",
       "<tr><td>1237657607497515484</td><td>123.649897556</td><td>36.4343553979</td><td>3</td><td>GALAXY</td><td>35219000397912</td><td>0</td><td>0</td><td>0</td><td>268435456</td><td>0</td><td>17.6626</td><td>16.9239</td><td>16.5202</td><td>16.3665</td><td>16.3185</td><td>0.0455763</td><td>0.00937477</td><td>0.0104596</td><td>0.0156836</td><td>0.0379105</td><td>0.0445142</td><td>0.0108243</td><td>0.0107398</td><td>0.0126143</td><td>0.0407962</td><td>0.285853</td><td>0.210328</td><td>0.152547</td><td>0.115672</td><td>0.0820128</td><td>18.2104</td><td>17.504</td><td>17.1596</td><td>17.0493</td><td>16.9558</td><td>11.4262</td><td>12.2075</td><td>12.9355</td><td>12.6973</td><td>12.6384</td><td>2.739</td><td>1.25131</td><td>1.29702</td><td>0.645978</td><td>1.49627</td><td>21.6314</td><td>4.00815</td><td>21.3209</td><td>0.987101</td><td>23.818</td><td>1.0741</td><td>26.588</td><td>1.4568</td><td>26.4563</td><td>4.66992</td><td>0.349964</td><td>0.381352</td><td>0.423702</td><td>0.428574</td><td>0.459274</td><td>18.058</td><td>0.0447614</td><td>17.6139</td><td>0.0112459</td><td>17.1619</td><td>0.0112734</td><td>17.0445</td><td>0.013078</td><td>16.9674</td><td>0.0413383</td><td>21.0901</td><td>0.0906867</td><td>20.4688</td><td>0.031174</td><td>20.341</td><td>0.0556895</td><td>20.3394</td><td>0.16922</td><td>20.2464</td><td>0.242179</td><td>21.1363</td><td>0.0807739</td><td>20.3599</td><td>0.0263112</td><td>19.9941</td><td>0.0461221</td><td>19.9514</td><td>0.142904</td><td>19.8772</td><td>0.230886</td><td>0.69824</td><td>0.175011</td><td>0.159932</td><td>0.0717808</td><td>0.0241759</td><td>0.39012</td><td>0.0510213</td><td>0.274547</td><td>0.0114167</td><td>0.242638</td><td>0.00287352</td><td>0.244007</td><td>-0.00444624</td><td>0.139981</td><td>-0.0289948</td><td>0.362422</td><td>7.09198</td><td>128.95</td><td>0.415298</td><td>7.29842</td><td>123.724</td><td>0.456505</td><td>7.37626</td><td>122.734</td><td>0.464873</td><td>7.66787</td><td>122.621</td><td>0.530588</td><td>7.15116</td><td>125.609</td><td>20.7296</td><td>0.0569446</td><td>17.3121</td><td>0.0107398</td><td>5.53535</td><td>12.4334</td><td>17.3092</td><td>23.6467102942</td><td>23.020403753</td><td>9999.0</td><td>9999.0</td><td>9999.0</td><td>9999.0</td><td>9999.0</td><td>9999.0</td><td>0.00821139</td><td>8.11993e-06</td><td>0</td><td>0.015452</td><td>0.006704</td><td>-1.0</td><td>-1.0</td><td>-1.0</td><td>-1.0</td><td>123.241</td><td>36.2546</td><td>37.7379</td><td>2469.7</td><td>-23.4768886466</td><td>33446</td><td>0</td><td>StarTrek</td><td>22.5115852828</td><td>247.119389352</td><td>33448</td><td>1</td><td>0.673408280977</td><td>-1.0</td><td>-1</td><td>NSA</td><td>sdss</td><td>4</td><td></td><td>1.2376576075e+18</td><td>NSA</td></tr>\n",
       "<tr><td>1237657607497318756</td><td>123.243173206</td><td>36.198359966</td><td>3</td><td>GALAXY</td><td>35221147877464</td><td>0</td><td>0</td><td>0</td><td>268435456</td><td>0</td><td>17.0102</td><td>15.9737</td><td>15.5962</td><td>15.3805</td><td>15.2124</td><td>0.0149297</td><td>0.00303814</td><td>0.00303846</td><td>0.00452418</td><td>0.00876429</td><td>0.0168938</td><td>0.00411193</td><td>0.0041772</td><td>0.00657538</td><td>0.0201789</td><td>0.359776</td><td>0.26472</td><td>0.191997</td><td>0.145585</td><td>0.103222</td><td>16.7781</td><td>15.8109</td><td>15.4825</td><td>15.3434</td><td>15.283</td><td>11.9335</td><td>12.3445</td><td>12.5388</td><td>12.3528</td><td>11.26</td><td>0.747773</td><td>0.509558</td><td>0.506007</td><td>0.457721</td><td>0.504848</td><td>22.3252</td><td>1.59252</td><td>19.8711</td><td>0.266748</td><td>22.5553</td><td>0.383635</td><td>19.2597</td><td>0.362845</td><td>19.9295</td><td>1.21126</td><td>0.356391</td><td>0.449938</td><td>0.455954</td><td>0.499809</td><td>0.448981</td><td>17.2644</td><td>0.0167353</td><td>16.1089</td><td>0.00410651</td><td>15.6745</td><td>0.0041772</td><td>15.4842</td><td>0.00656445</td><td>15.403</td><td>0.0201486</td><td>20.2841</td><td>0.0501853</td><td>19.2806</td><td>0.0174014</td><td>19.0122</td><td>0.0335117</td><td>19.2813</td><td>0.0261314</td><td>18.9874</td><td>0.0393772</td><td>19.9874</td><td>0.0368224</td><td>18.988</td><td>0.00837371</td><td>18.669</td><td>0.00870647</td><td>18.4646</td><td>0.0103734</td><td>18.315</td><td>0.0273005</td><td>0.0</td><td>0.0</td><td>0.0</td><td>0.0</td><td>0.0</td><td>-0.099913</td><td>-0.127407</td><td>-0.090796</td><td>-0.116202</td><td>-0.0781184</td><td>-0.0959727</td><td>-0.0678528</td><td>-0.0927406</td><td>-0.0646098</td><td>-0.0855914</td><td>0.352588</td><td>7.3933</td><td>76.4076</td><td>0.426767</td><td>7.66431</td><td>80.3409</td><td>0.432268</td><td>8.11663</td><td>79.4671</td><td>0.482528</td><td>7.8065</td><td>80.363</td><td>0.449453</td><td>7.71702</td><td>81.7983</td><td>19.5017</td><td>0.0126292</td><td>15.6745</td><td>0.0041772</td><td>5.88205</td><td>13.523</td><td>15.6621</td><td>22.2168339858</td><td>21.5052126839</td><td>15.604</td><td>9999.0</td><td>15.026</td><td>9999.0</td><td>15.257</td><td>0.168</td><td>0.00830376</td><td>6.30124e-06</td><td>0</td><td>0.013712</td><td>0.007986</td><td>-1.0</td><td>-1.0</td><td>-1.0</td><td>-1.0</td><td>123.241</td><td>36.2546</td><td>37.7379</td><td>2469.7</td><td>-23.4768886466</td><td>33446</td><td>0</td><td>StarTrek</td><td>3.38005468389</td><td>37.1045785534</td><td>33445</td><td>1</td><td>0.638412701658</td><td>-1.0</td><td>-1</td><td>NSA</td><td>sdss</td><td>4</td><td></td><td>1.2376576075e+18</td><td>NSA</td></tr>\n",
       "<tr><td>1237666408439939282</td><td>354.350599991</td><td>0.390802769345</td><td>3</td><td>GALAXY</td><td>105622137868560</td><td>1</td><td>0</td><td>0</td><td>268435456</td><td>0</td><td>15.1358</td><td>14.2132</td><td>13.7674</td><td>13.5022</td><td>13.3059</td><td>0.0148853</td><td>0.00366039</td><td>0.00139232</td><td>0.00184906</td><td>0.00720118</td><td>0.637764</td><td>0.256827</td><td>0.23078</td><td>0.204547</td><td>0.663073</td><td>0.198159</td><td>0.145803</td><td>0.105749</td><td>0.080186</td><td>0.0568529</td><td>25.5859</td><td>23.2043</td><td>22.6819</td><td>22.2968</td><td>22.77</td><td>2.96947</td><td>1.10608</td><td>1.01528</td><td>1.09387</td><td>2.96944</td><td>-1000.0</td><td>0.920549</td><td>0.2037</td><td>0.263809</td><td>-1000.0</td><td>1.46939e-05</td><td>0.736064</td><td>0.00227931</td><td>5.28588</td><td>0.140282</td><td>2.08994</td><td>0.243399</td><td>1.589</td><td>9.69633e-05</td><td>0.0</td><td>0.05</td><td>0.678691</td><td>0.402311</td><td>0.445205</td><td>0.221564</td><td>25.7786</td><td>1.89505</td><td>23.4055</td><td>0.937787</td><td>22.7877</td><td>0.930622</td><td>22.2796</td><td>0.890513</td><td>22.8269</td><td>2.76739</td><td>25.8145</td><td>0.864015</td><td>23.4131</td><td>0.32647</td><td>22.8832</td><td>0.306443</td><td>22.5238</td><td>0.294845</td><td>22.827</td><td>0.978495</td><td>22.5494</td><td>1.0401</td><td>20.8082</td><td>0.0441761</td><td>20.2414</td><td>0.0427232</td><td>19.9283</td><td>0.0472968</td><td>19.8821</td><td>0.203089</td><td>0.0</td><td>1.0</td><td>0.0</td><td>0.0</td><td>1.0</td><td>0.272005</td><td>1.10971</td><td>0.0361724</td><td>0.0160089</td><td>0.0210821</td><td>-0.000634836</td><td>0.0354403</td><td>-0.00163676</td><td>-2.3935</td><td>0.0258882</td><td>0.0504574</td><td>4.94051e-07</td><td>130.675</td><td>0.704317</td><td>0.00453047</td><td>59.3902</td><td>0.533418</td><td>0.214349</td><td>140.678</td><td>0.545466</td><td>0.327764</td><td>165.426</td><td>0.0821784</td><td>4.84968e-05</td><td>63.8694</td><td>21.0891</td><td>0.0622125</td><td>22.7877</td><td>0.930622</td><td>0.553129</td><td>0.924279</td><td>22.961</td><td>21.4387517213</td><td>23.67053752</td><td>9999.0</td><td>9999.0</td><td>9999.0</td><td>9999.0</td><td>9999.0</td><td>9999.0</td><td>0.00887051</td><td>-1.0</td><td>0</td><td>-1.0</td><td>-1.0</td><td>-1.0</td><td>-1.0</td><td>-1.0</td><td>-1.0</td><td>354.131</td><td>0.297265</td><td>34.7674</td><td>2556.76</td><td>-23.4058610709</td><td>61945</td><td>0</td><td>AnaK</td><td>14.3221211837</td><td>144.845303859</td><td>5541</td><td>1</td><td>-1.0</td><td>-1.0</td><td>-1</td><td>NSA</td><td>sdss</td><td>4</td><td></td><td>1.23766640844e+18</td><td>NSA</td></tr>\n",
       "<tr><td>1237663277925204111</td><td>354.195229736</td><td>0.62342377148</td><td>3</td><td>GALAXY</td><td>193514315059288</td><td>0</td><td>0</td><td>0</td><td>268435456</td><td>0</td><td>17.2096</td><td>16.1591</td><td>15.7093</td><td>15.4802</td><td>15.3143</td><td>0.0141356</td><td>0.00253371</td><td>0.00258019</td><td>0.00344502</td><td>0.00955682</td><td>0.0332091</td><td>0.0065437</td><td>0.0117326</td><td>0.0288206</td><td>0.0260572</td><td>0.17593</td><td>0.129448</td><td>0.0938862</td><td>0.0711911</td><td>0.0504754</td><td>17.4327</td><td>16.3483</td><td>15.9147</td><td>15.7823</td><td>15.6964</td><td>19.6363</td><td>19.9971</td><td>20.4682</td><td>19.2061</td><td>17.2435</td><td>1.39175</td><td>0.348307</td><td>0.430858</td><td>9.68542</td><td>8.90673</td><td>26.8261</td><td>3.43616</td><td>29.6696</td><td>0.511033</td><td>28.0882</td><td>1.22865</td><td>23.8191</td><td>2.07604</td><td>29.6746</td><td>1.12772</td><td>0.552452</td><td>0.732989</td><td>0.736646</td><td>0.693684</td><td>0.783456</td><td>17.3208</td><td>0.0328345</td><td>16.4122</td><td>0.00662894</td><td>16.0086</td><td>0.0117326</td><td>15.8685</td><td>0.0286715</td><td>15.788</td><td>0.025914</td><td>21.1822</td><td>0.0792113</td><td>20.539</td><td>0.0914372</td><td>20.4745</td><td>0.221568</td><td>20.759</td><td>0.391027</td><td>20.0538</td><td>0.314924</td><td>20.715</td><td>0.0565932</td><td>20.1267</td><td>0.0730835</td><td>19.7495</td><td>0.172945</td><td>19.6649</td><td>0.239339</td><td>19.5539</td><td>0.220719</td><td>0.697009</td><td>0.0546467</td><td>0.0</td><td>0.0</td><td>0.0</td><td>-0.0606216</td><td>-0.0243309</td><td>-0.0678425</td><td>-0.0194522</td><td>-0.0648828</td><td>-0.0169603</td><td>-0.0680197</td><td>-0.0122782</td><td>-0.11418</td><td>-0.0100415</td><td>0.539726</td><td>9.53908</td><td>116.834</td><td>0.660911</td><td>11.3093</td><td>121.072</td><td>0.755666</td><td>10.4549</td><td>129.287</td><td>0.745519</td><td>10.1142</td><td>134.738</td><td>0.62908</td><td>10.8376</td><td>118.437</td><td>20.5387</td><td>0.238487</td><td>16.0086</td><td>0.0117326</td><td>9.4994</td><td>18.4506</td><td>16.0004</td><td>23.1006695397</td><td>22.8843792421</td><td>9999.0</td><td>9999.0</td><td>9999.0</td><td>9999.0</td><td>9999.0</td><td>9999.0</td><td>0.008825</td><td>5.42653e-06</td><td>0</td><td>0.016315</td><td>0.007464</td><td>-1.0</td><td>-1.0</td><td>-1.0</td><td>-1.0</td><td>354.131</td><td>0.297265</td><td>34.7674</td><td>2556.76</td><td>-23.4058610709</td><td>61945</td><td>0</td><td>AnaK</td><td>19.9450255233</td><td>201.711422154</td><td>5538</td><td>1</td><td>0.766548234467</td><td>-1.0</td><td>-1</td><td>MMT</td><td>/Spectra/Final/MMT/spHect-2014.1123_4.zlog</td><td>4</td><td></td><td>133.0</td><td>MMT</td></tr>\n",
       "<tr><td>1237666408439677694</td><td>353.778805283</td><td>0.301058523211</td><td>3</td><td>GALAXY</td><td>105624251793680</td><td>1</td><td>0</td><td>0</td><td>268435456</td><td>0</td><td>23.2978</td><td>22.7803</td><td>21.3615</td><td>20.7518</td><td>20.2966</td><td>0.789328</td><td>0.19007</td><td>0.088862</td><td>0.0698596</td><td>0.198622</td><td>0.789328</td><td>0.19007</td><td>0.088862</td><td>0.0698596</td><td>0.198622</td><td>0.155789</td><td>0.114628</td><td>0.0831378</td><td>0.0630409</td><td>0.0446968</td><td>23.142</td><td>22.6657</td><td>21.2784</td><td>20.6888</td><td>20.2519</td><td>2.97023</td><td>2.96945</td><td>1.60272</td><td>27.9179</td><td>2.96194</td><td>-1000.0</td><td>-1000.0</td><td>0.207728</td><td>-1000.0</td><td>2.79432</td><td>26.5587</td><td>95.5347</td><td>1.03802</td><td>1.54675</td><td>1.06593</td><td>0.826578</td><td>0.815049</td><td>0.391987</td><td>4.26067</td><td>4.68436</td><td>0.0999967</td><td>0.05</td><td>0.575213</td><td>0.471984</td><td>0.450205</td><td>21.1634</td><td>0.497052</td><td>22.7275</td><td>0.209454</td><td>21.3615</td><td>0.11098</td><td>20.6826</td><td>0.0679602</td><td>19.2072</td><td>0.211422</td><td>24.6238</td><td>0.932713</td><td>23.2563</td><td>0.187823</td><td>22.0784</td><td>0.0988037</td><td>21.382</td><td>0.0746557</td><td>21.0034</td><td>0.218604</td><td>23.1739</td><td>0.638409</td><td>23.3019</td><td>0.199021</td><td>21.9254</td><td>0.127747</td><td>21.4125</td><td>0.115932</td><td>20.7142</td><td>0.257394</td><td>0.0</td><td>0.0</td><td>0.0</td><td>1.0</td><td>1.0</td><td>0.200722</td><td>-0.300259</td><td>0.253568</td><td>-0.0448014</td><td>0.0316865</td><td>0.0346528</td><td>0.156639</td><td>0.0524408</td><td>-0.00289464</td><td>-0.00966111</td><td>0.192363</td><td>6.59778</td><td>127.85</td><td>0.05</td><td>1.08482</td><td>178.659</td><td>0.659945</td><td>0.765609</td><td>27.9016</td><td>0.449997</td><td>0.597335</td><td>176.337</td><td>0.6</td><td>1.70905</td><td>1.71239</td><td>22.5082</td><td>0.145289</td><td>21.3615</td><td>0.11098</td><td>0.865011</td><td>1.49212</td><td>21.4707</td><td>22.7769801426</td><td>23.1512713234</td><td>9999.0</td><td>9999.0</td><td>9999.0</td><td>9999.0</td><td>9999.0</td><td>9999.0</td><td>0.008</td><td>-1.0</td><td>-1</td><td>0.452667</td><td>0.091632</td><td>-1.0</td><td>-1.0</td><td>-1.0</td><td>-1.0</td><td>354.131</td><td>0.297265</td><td>34.7674</td><td>2556.76</td><td>-23.4058610709</td><td>61945</td><td>0</td><td>AnaK</td><td>21.1326207762</td><td>213.721865283</td><td>-1</td><td>1</td><td>-1.0</td><td>-1.0</td><td>-1</td><td>MMT</td><td>/Spectra/Final/MMT/spHect-2014.0925_1.zlog</td><td>3</td><td></td><td>100.0</td><td>MMT</td></tr>\n",
       "<tr><td>1237664338780029261</td><td>149.687168865</td><td>32.7202654623</td><td>3</td><td>GALAXY</td><td>140954719879496</td><td>1</td><td>0</td><td>0</td><td>268435456</td><td>0</td><td>23.2605</td><td>21.129</td><td>20.6923</td><td>20.5158</td><td>20.9515</td><td>1.28666</td><td>0.0963448</td><td>0.103341</td><td>0.163678</td><td>0.809637</td><td>1.28666</td><td>0.0963448</td><td>0.103341</td><td>0.163678</td><td>0.809637</td><td>0.0716136</td><td>0.0526926</td><td>0.0382171</td><td>0.0289788</td><td>0.0205464</td><td>23.1889</td><td>21.0763</td><td>20.6541</td><td>20.4868</td><td>20.931</td><td>2.97054</td><td>2.96966</td><td>2.97052</td><td>3.01507</td><td>2.97092</td><td>-1000.0</td><td>-1000.0</td><td>-1000.0</td><td>0.245671</td><td>-1000.0</td><td>0.0621855</td><td>10.5916</td><td>6.37373</td><td>2.60696</td><td>7.82645</td><td>4.80234</td><td>1.01286</td><td>1.20302</td><td>2.58529</td><td>10.6079</td><td>0.980254</td><td>0.57148</td><td>0.250008</td><td>0.271985</td><td>0.165852</td><td>23.77</td><td>0.722813</td><td>21.0994</td><td>0.0928087</td><td>20.6775</td><td>0.103741</td><td>21.0194</td><td>0.157523</td><td>20.987</td><td>0.692705</td><td>23.7512</td><td>1.57993</td><td>22.7244</td><td>0.137</td><td>22.4141</td><td>0.149041</td><td>21.4561</td><td>0.134165</td><td>22.4519</td><td>0.72529</td><td>24.1814</td><td>0.898936</td><td>22.6503</td><td>0.132222</td><td>22.283</td><td>0.154798</td><td>21.7122</td><td>0.161038</td><td>22.2792</td><td>0.701675</td><td>0.0</td><td>0.0</td><td>0.0367419</td><td>1.0</td><td>0.0</td><td>0.179925</td><td>0.222624</td><td>0.0454472</td><td>-0.0705241</td><td>0.130594</td><td>-0.0993337</td><td>0.0396096</td><td>-0.0226019</td><td>0.0878009</td><td>-0.441671</td><td>0.984256</td><td>0.0736848</td><td>24.8054</td><td>0.678882</td><td>2.65692</td><td>126.038</td><td>0.300197</td><td>3.75416</td><td>134.799</td><td>0.318421</td><td>1.01407</td><td>-12.9386</td><td>0.251038</td><td>3.06488</td><td>154.126</td><td>22.9894</td><td>0.193419</td><td>20.6923</td><td>0.103341</td><td>2.20775</td><td>4.60116</td><td>20.8596</td><td>25.56033787</td><td>24.574793298</td><td>9999.0</td><td>9999.0</td><td>9999.0</td><td>9999.0</td><td>9999.0</td><td>9999.0</td><td>0.004987</td><td>-1.0</td><td>-1</td><td>0.068964</td><td>0.0577</td><td>-1.0</td><td>-1.0</td><td>-1.0</td><td>-1.0</td><td>149.588</td><td>32.3699</td><td>25.1343</td><td>1451.33</td><td>-23.1023339723</td><td>85746</td><td>0</td><td>MobyDick</td><td>21.6120163628</td><td>158.010278529</td><td>-1</td><td>1</td><td>0.00183130239327</td><td>-1.0</td><td>-1</td><td>MMT</td><td>/Spectra/Final/MMT/spHect-2015.0218_2.zlog</td><td>3</td><td></td><td>234.0</td><td>MMT</td></tr>\n",
       "<tr><td>1237678602387521791</td><td>20.5363426909</td><td>17.5281428748</td><td>3</td><td>GALAXY</td><td>105658611401048</td><td>0</td><td>0</td><td>0</td><td>268435456</td><td>0</td><td>20.9781</td><td>19.6612</td><td>19.2133</td><td>19.2418</td><td>18.8889</td><td>0.205292</td><td>0.0290554</td><td>0.0314241</td><td>0.058891</td><td>0.133825</td><td>0.205292</td><td>0.0290554</td><td>0.0314241</td><td>0.058891</td><td>0.133825</td><td>0.552172</td><td>0.406283</td><td>0.29467</td><td>0.22344</td><td>0.158421</td><td>20.4259</td><td>19.2549</td><td>18.9186</td><td>19.0184</td><td>18.7305</td><td>2.97033</td><td>4.56925</td><td>5.10008</td><td>6.16897</td><td>18.0189</td><td>-1000.0</td><td>0.35361</td><td>0.347732</td><td>0.967759</td><td>-1000.0</td><td>2.91939</td><td>3.14891</td><td>6.68343</td><td>0.782368</td><td>9.02299</td><td>1.36221</td><td>11.4054</td><td>3.07672</td><td>9.89129</td><td>5.30089</td><td>0.100008</td><td>0.398488</td><td>0.372631</td><td>0.278086</td><td>0.199944</td><td>21.3856</td><td>0.213625</td><td>19.8</td><td>0.0288308</td><td>19.2133</td><td>0.0314241</td><td>19.0439</td><td>0.0603118</td><td>18.6338</td><td>0.153826</td><td>22.273</td><td>0.200717</td><td>21.5454</td><td>0.0551484</td><td>21.3352</td><td>0.058765</td><td>21.5498</td><td>0.0998875</td><td>20.7916</td><td>0.181315</td><td>22.1946</td><td>0.223801</td><td>21.2585</td><td>0.0504381</td><td>20.8936</td><td>0.052257</td><td>20.9118</td><td>0.0861796</td><td>20.6087</td><td>0.219344</td><td>0.448183</td><td>0.0</td><td>0.0</td><td>0.167467</td><td>0.536647</td><td>-0.109825</td><td>0.597835</td><td>-0.00640917</td><td>0.32018</td><td>0.040621</td><td>0.162352</td><td>0.0164351</td><td>0.191044</td><td>0.019472</td><td>0.646098</td><td>0.05</td><td>1.9387</td><td>51.8061</td><td>0.417173</td><td>2.87575</td><td>46.9578</td><td>0.468869</td><td>3.32237</td><td>46.8222</td><td>0.350004</td><td>4.03994</td><td>42.1969</td><td>0.180653</td><td>4.30451</td><td>50.8232</td><td>21.6502</td><td>0.0702134</td><td>19.2133</td><td>0.0314241</td><td>2.37822</td><td>4.5701</td><td>19.3164</td><td>23.8159870457</td><td>23.1931394021</td><td>9999.0</td><td>9999.0</td><td>9999.0</td><td>9999.0</td><td>9999.0</td><td>9999.0</td><td>0.008651</td><td>-1.0</td><td>-1</td><td>0.104474</td><td>0.067257</td><td>-1.0</td><td>-1.0</td><td>-1.0</td><td>-1.0</td><td>20.449</td><td>17.5922</td><td>38.6531</td><td>2518.0</td><td>-23.5559216515</td><td>129237</td><td>0</td><td>HarryPotter</td><td>6.30360930448</td><td>70.8760477473</td><td>-1</td><td>1</td><td>0.351658668013</td><td>-1.0</td><td>-1</td><td>MMT</td><td>/Spectra/Final/MMT/spHect-2015.1217_1.zlog</td><td>4</td><td></td><td>247.0</td><td>MMT</td></tr>\n",
       "<tr><td>1237678602387456130</td><td>20.2852690118</td><td>17.6022357532</td><td>3</td><td>GALAXY</td><td>35253360136208</td><td>1</td><td>0</td><td>0</td><td>268435456</td><td>0</td><td>19.1794</td><td>18.0412</td><td>17.5387</td><td>17.3254</td><td>17.1087</td><td>0.0739959</td><td>0.0122204</td><td>0.0122819</td><td>0.0168908</td><td>0.0483221</td><td>0.0739959</td><td>0.0122204</td><td>0.0122819</td><td>0.0168908</td><td>0.0483221</td><td>0.521506</td><td>0.383719</td><td>0.278305</td><td>0.21103</td><td>0.149623</td><td>18.6579</td><td>17.6575</td><td>17.2604</td><td>17.1144</td><td>16.9591</td><td>9.98158</td><td>9.89871</td><td>10.9136</td><td>10.8699</td><td>9.09193</td><td>1.52826</td><td>0.288358</td><td>0.580488</td><td>0.507249</td><td>1.13348</td><td>7.09102</td><td>2.00908</td><td>12.9984</td><td>0.592921</td><td>17.227</td><td>0.918761</td><td>16.9507</td><td>1.22249</td><td>15.2237</td><td>3.62855</td><td>0.380035</td><td>0.572724</td><td>0.537567</td><td>0.554433</td><td>0.611987</td><td>19.265</td><td>0.0656454</td><td>17.8655</td><td>0.0125208</td><td>17.3232</td><td>0.0128294</td><td>17.0865</td><td>0.0174902</td><td>16.9309</td><td>0.0503608</td><td>21.208</td><td>0.0820169</td><td>20.4372</td><td>0.0246184</td><td>20.1449</td><td>0.0280381</td><td>20.0515</td><td>0.0339695</td><td>19.8492</td><td>0.0780249</td><td>21.2591</td><td>0.0996155</td><td>20.3766</td><td>0.0182657</td><td>20.0318</td><td>0.0241954</td><td>19.8474</td><td>0.0336561</td><td>19.6325</td><td>0.0934219</td><td>1.0</td><td>0.459459</td><td>0.278458</td><td>0.279666</td><td>0.366924</td><td>-0.251941</td><td>-0.00568754</td><td>-0.156324</td><td>-0.0216558</td><td>-0.173142</td><td>-0.0257438</td><td>-0.140674</td><td>-0.0249612</td><td>-0.124482</td><td>-0.0393145</td><td>0.417213</td><td>3.61481</td><td>110.704</td><td>0.607075</td><td>5.07406</td><td>107.449</td><td>0.555864</td><td>6.12076</td><td>105.383</td><td>0.577281</td><td>6.33599</td><td>108.413</td><td>0.668517</td><td>4.98891</td><td>107.822</td><td>20.7201</td><td>0.0310453</td><td>17.5387</td><td>0.0122819</td><td>5.04294</td><td>11.1888</td><td>17.5217</td><td>23.4682172468</td><td>23.0305868938</td><td>9999.0</td><td>9999.0</td><td>9999.0</td><td>9999.0</td><td>9999.0</td><td>9999.0</td><td>0.00822</td><td>-1.0</td><td>-1</td><td>0.021761</td><td>0.007784</td><td>-1.0</td><td>-1.0</td><td>-1.0</td><td>-1.0</td><td>20.449</td><td>17.5922</td><td>38.6531</td><td>2518.0</td><td>-23.5559216515</td><td>129237</td><td>0</td><td>HarryPotter</td><td>9.38349488064</td><td>105.50536144</td><td>-1</td><td>1</td><td>0.579303160766</td><td>-1.0</td><td>-1</td><td>MMT</td><td>/Spectra/Final/MMT/spHect-2015.1217_1.zlog</td><td>4</td><td></td><td>84.0</td><td>MMT</td></tr>\n",
       "<tr><td>1237678602387456305</td><td>20.3284666123</td><td>17.7539390491</td><td>3</td><td>GALAXY</td><td>176027389263960</td><td>0</td><td>0</td><td>0</td><td>268435456</td><td>0</td><td>20.8783</td><td>20.3294</td><td>19.8126</td><td>21.6045</td><td>20.9719</td><td>0.196505</td><td>0.0522925</td><td>0.0545213</td><td>0.472273</td><td>0.917232</td><td>0.196505</td><td>0.0522925</td><td>0.0545213</td><td>0.472273</td><td>0.917232</td><td>0.441747</td><td>0.325033</td><td>0.235741</td><td>0.178755</td><td>0.12674</td><td>20.4366</td><td>20.0044</td><td>19.5768</td><td>21.4258</td><td>20.8451</td><td>4.11348</td><td>4.82534</td><td>4.25263</td><td>1.63333</td><td>1.08374</td><td>3.94425</td><td>0.258036</td><td>0.254638</td><td>1.52617</td><td>1.01367</td><td>29.0475</td><td>24.8957</td><td>12.3212</td><td>2.8459</td><td>9.87288</td><td>3.12201</td><td>1.22935</td><td>3.63071</td><td>1.36943</td><td>5.27649</td><td>0.208951</td><td>0.741644</td><td>0.649993</td><td>0.05</td><td>0.05</td><td>19.4038</td><td>0.169706</td><td>19.9417</td><td>0.0554374</td><td>19.6916</td><td>0.0570896</td><td>22.1809</td><td>0.49077</td><td>21.5792</td><td>0.654745</td><td>22.3368</td><td>0.195846</td><td>22.3307</td><td>0.0950491</td><td>21.8199</td><td>0.095881</td><td>22.878</td><td>0.414276</td><td>22.2292</td><td>0.762285</td><td>22.338</td><td>0.243113</td><td>21.8962</td><td>0.0772601</td><td>21.3842</td><td>0.0775077</td><td>21.4871</td><td>0.176949</td><td>21.248</td><td>0.665927</td><td>1.0</td><td>0.179362</td><td>0.116482</td><td>1.0</td><td>0.0378206</td><td>-0.249118</td><td>-0.110976</td><td>-0.210569</td><td>-0.02416</td><td>-0.0942411</td><td>0.142081</td><td>0.151148</td><td>0.052522</td><td>-0.385474</td><td>-0.407533</td><td>0.360154</td><td>2.09061</td><td>86.1088</td><td>0.730185</td><td>3.45458</td><td>111.085</td><td>0.724449</td><td>2.90221</td><td>77.4793</td><td>0.181603</td><td>0.876419</td><td>21.4964</td><td>0.05</td><td>0.957772</td><td>107.282</td><td>22.1631</td><td>0.105623</td><td>19.8126</td><td>0.0545213</td><td>2.50645</td><td>6.18583</td><td>19.8871</td><td>24.1216827031</td><td>23.8778056779</td><td>9999.0</td><td>9999.0</td><td>9999.0</td><td>9999.0</td><td>9999.0</td><td>9999.0</td><td>0.008245</td><td>-1.0</td><td>-1</td><td>-9999.0</td><td>-9999.0</td><td>-1.0</td><td>-1.0</td><td>-1.0</td><td>-1.0</td><td>20.449</td><td>17.5922</td><td>38.6531</td><td>2518.0</td><td>-23.5559216515</td><td>129237</td><td>0</td><td>HarryPotter</td><td>11.9019221346</td><td>133.821743744</td><td>-1</td><td>1</td><td>0.23330211787</td><td>-1.0</td><td>-1</td><td>MMT</td><td>/Spectra/Final/MMT/spHect-2015.1217_1.zlog</td><td>4</td><td></td><td>123.0</td><td>MMT</td></tr>\n",
       "<tr><td>...</td><td>...</td><td>...</td><td>...</td><td>...</td><td>...</td><td>...</td><td>...</td><td>...</td><td>...</td><td>...</td><td>...</td><td>...</td><td>...</td><td>...</td><td>...</td><td>...</td><td>...</td><td>...</td><td>...</td><td>...</td><td>...</td><td>...</td><td>...</td><td>...</td><td>...</td><td>...</td><td>...</td><td>...</td><td>...</td><td>...</td><td>...</td><td>...</td><td>...</td><td>...</td><td>...</td><td>...</td><td>...</td><td>...</td><td>...</td><td>...</td><td>...</td><td>...</td><td>...</td><td>...</td><td>...</td><td>...</td><td>...</td><td>...</td><td>...</td><td>...</td><td>...</td><td>...</td><td>...</td><td>...</td><td>...</td><td>...</td><td>...</td><td>...</td><td>...</td><td>...</td><td>...</td><td>...</td><td>...</td><td>...</td><td>...</td><td>...</td><td>...</td><td>...</td><td>...</td><td>...</td><td>...</td><td>...</td><td>...</td><td>...</td><td>...</td><td>...</td><td>...</td><td>...</td><td>...</td><td>...</td><td>...</td><td>...</td><td>...</td><td>...</td><td>...</td><td>...</td><td>...</td><td>...</td><td>...</td><td>...</td><td>...</td><td>...</td><td>...</td><td>...</td><td>...</td><td>...</td><td>...</td><td>...</td><td>...</td><td>...</td><td>...</td><td>...</td><td>...</td><td>...</td><td>...</td><td>...</td><td>...</td><td>...</td><td>...</td><td>...</td><td>...</td><td>...</td><td>...</td><td>...</td><td>...</td><td>...</td><td>...</td><td>...</td><td>...</td><td>...</td><td>...</td><td>...</td><td>...</td><td>...</td><td>...</td><td>...</td><td>...</td><td>...</td><td>...</td><td>...</td><td>...</td><td>...</td><td>...</td><td>...</td><td>...</td><td>...</td><td>...</td><td>...</td><td>...</td><td>...</td><td>...</td><td>...</td><td>...</td><td>...</td><td>...</td><td>...</td><td>...</td><td>...</td><td>...</td><td>...</td><td>...</td><td>...</td><td>...</td><td>...</td><td>...</td><td>...</td><td>...</td><td>...</td><td>...</td><td>...</td><td>...</td><td>...</td><td>...</td><td>...</td><td>...</td></tr>\n",
       "<tr><td>1237678776862572690</td><td>348.776907636</td><td>4.373197012</td><td>3</td><td>GALAXY</td><td>35287719870552</td><td>0</td><td>0</td><td>0</td><td>268435456</td><td>0</td><td>17.4923</td><td>16.41</td><td>15.7936</td><td>15.5333</td><td>15.3104</td><td>0.0165465</td><td>0.00372222</td><td>0.00344489</td><td>0.00377388</td><td>0.00878984</td><td>0.0165465</td><td>0.00372222</td><td>0.00344489</td><td>0.00377388</td><td>0.00878984</td><td>0.344205</td><td>0.253263</td><td>0.183687</td><td>0.139284</td><td>0.0987544</td><td>17.1481</td><td>16.1567</td><td>15.61</td><td>15.394</td><td>15.2116</td><td>7.62093</td><td>8.3958</td><td>8.64694</td><td>8.96763</td><td>8.06784</td><td>0.453697</td><td>0.299889</td><td>0.233456</td><td>0.224426</td><td>0.256739</td><td>8.64291</td><td>0.655824</td><td>9.17482</td><td>0.154656</td><td>9.47676</td><td>0.151941</td><td>10.3585</td><td>0.148844</td><td>12.3224</td><td>0.477552</td><td>0.641116</td><td>0.600725</td><td>0.635376</td><td>0.633174</td><td>0.575303</td><td>17.4534</td><td>0.0168635</td><td>16.3584</td><td>0.00378929</td><td>15.7422</td><td>0.00349726</td><td>15.4608</td><td>0.00384048</td><td>15.3094</td><td>0.00895384</td><td>19.1839</td><td>0.0395789</td><td>18.2793</td><td>0.0184401</td><td>17.7089</td><td>0.0185088</td><td>17.5538</td><td>0.0242889</td><td>17.4182</td><td>0.0234522</td><td>19.6395</td><td>0.0302976</td><td>18.5769</td><td>0.00647879</td><td>18.007</td><td>0.00562229</td><td>17.778</td><td>0.00627079</td><td>17.5437</td><td>0.0156731</td><td>0.209068</td><td>0.150357</td><td>0.107163</td><td>0.10302</td><td>0.0534356</td><td>0.0462194</td><td>0.0952906</td><td>0.120548</td><td>0.0926142</td><td>0.111436</td><td>0.0719139</td><td>0.118829</td><td>0.0712098</td><td>0.134764</td><td>0.0651188</td><td>0.673148</td><td>3.68838</td><td>37.9826</td><td>0.589448</td><td>4.36894</td><td>18.3407</td><td>0.629836</td><td>4.40322</td><td>16.1759</td><td>0.630388</td><td>4.46986</td><td>16.9562</td><td>0.624288</td><td>4.23508</td><td>15.9658</td><td>18.8015</td><td>0.00799872</td><td>15.7936</td><td>0.00344489</td><td>3.95892</td><td>9.4873</td><td>15.7704</td><td>21.0079422762</td><td>20.7537062149</td><td>15.851</td><td>0.147</td><td>15.35</td><td>0.193</td><td>14.787</td><td>0.126</td><td>0.008904</td><td>-1.0</td><td>-1</td><td>0.014681</td><td>0.005572</td><td>-1.0</td><td>-1.0</td><td>-1.0</td><td>-1.0</td><td>348.683</td><td>4.53406</td><td>37.019</td><td>2689.0</td><td>-24.5151234146</td><td>150887</td><td>0</td><td>Catch22</td><td>11.1674755393</td><td>120.255527082</td><td>-1</td><td>1</td><td>0.0725685128346</td><td>-1.0</td><td>-1</td><td>MMT</td><td>/Spectra/Final/MMT/spHect-2015.0918_1.zlog</td><td>4</td><td></td><td>216.0</td><td>MMT</td></tr>\n",
       "<tr><td>1237678777399509170</td><td>348.874199097</td><td>4.61326147472</td><td>3</td><td>GALAXY</td><td>1231558551928920</td><td>0</td><td>0</td><td>0</td><td>268435456</td><td>0</td><td>22.3159</td><td>20.6245</td><td>20.0919</td><td>19.8157</td><td>19.8534</td><td>0.392078</td><td>0.0384179</td><td>0.0380788</td><td>0.0441104</td><td>0.174327</td><td>0.392078</td><td>0.0384179</td><td>0.0380788</td><td>0.0441104</td><td>0.174327</td><td>0.36957</td><td>0.271926</td><td>0.197224</td><td>0.149549</td><td>0.106032</td><td>21.9463</td><td>20.3526</td><td>19.8947</td><td>19.6662</td><td>19.7474</td><td>1.95797</td><td>1.99565</td><td>2.01321</td><td>2.02483</td><td>1.8149</td><td>1.93142</td><td>0.0813015</td><td>0.0957039</td><td>0.105237</td><td>0.358533</td><td>0.265189</td><td>3.5427</td><td>0.642317</td><td>0.204892</td><td>0.724754</td><td>0.169696</td><td>0.811098</td><td>0.297318</td><td>0.760209</td><td>2.14911</td><td>0.05</td><td>0.321801</td><td>0.349964</td><td>0.468359</td><td>0.908478</td><td>22.444</td><td>0.88795</td><td>20.6447</td><td>0.0383888</td><td>20.0919</td><td>0.0380788</td><td>19.7884</td><td>0.0452603</td><td>19.8116</td><td>0.384388</td><td>22.4742</td><td>0.436096</td><td>20.9267</td><td>0.0832394</td><td>20.4237</td><td>0.0811642</td><td>20.2096</td><td>0.0797042</td><td>20.2421</td><td>0.224996</td><td>21.8964</td><td>0.212424</td><td>20.8685</td><td>0.064047</td><td>20.33</td><td>0.0632852</td><td>20.0446</td><td>0.0613541</td><td>19.8139</td><td>0.142679</td><td>1.0</td><td>0.0</td><td>0.0</td><td>0.0</td><td>0.0</td><td>-0.120885</td><td>-0.0855743</td><td>0.0668041</td><td>0.0570649</td><td>0.0603744</td><td>0.0741286</td><td>0.035677</td><td>0.045153</td><td>0.138897</td><td>0.00216901</td><td>0.0852328</td><td>0.472005</td><td>37.6751</td><td>0.449965</td><td>0.837724</td><td>21.6701</td><td>0.457291</td><td>0.91242</td><td>27.6023</td><td>0.580493</td><td>0.900982</td><td>23.6142</td><td>0.999772</td><td>0.720122</td><td>80.1315</td><td>21.1625</td><td>0.0908233</td><td>20.0919</td><td>0.0380788</td><td>1.14993</td><td>1.76627</td><td>20.2737</td><td>21.8883004344</td><td>22.5725191946</td><td>9999.0</td><td>9999.0</td><td>9999.0</td><td>9999.0</td><td>9999.0</td><td>9999.0</td><td>0.009029</td><td>-1.0</td><td>-1</td><td>0.106661</td><td>0.049037</td><td>-1.0</td><td>-1.0</td><td>-1.0</td><td>-1.0</td><td>348.683</td><td>4.53406</td><td>37.019</td><td>2689.0</td><td>-24.5151234146</td><td>150887</td><td>0</td><td>Catch22</td><td>12.3834987085</td><td>133.350062655</td><td>-1</td><td>1</td><td>0.0891206695302</td><td>-1.0</td><td>-1</td><td>MMT</td><td>/Spectra/Final/MMT/spHect-2015.0918_1.zlog</td><td>3</td><td></td><td>170.0</td><td>MMT</td></tr>\n",
       "<tr><td>1237679005558702536</td><td>348.554591739</td><td>4.91500326962</td><td>3</td><td>GALAXY</td><td>281709320863744</td><td>1</td><td>0</td><td>0</td><td>268435456</td><td>281474976710656</td><td>21.8086</td><td>21.1719</td><td>20.8844</td><td>21.2739</td><td>21.8306</td><td>0.298188</td><td>0.0626813</td><td>0.0784184</td><td>0.171063</td><td>1.14879</td><td>0.298188</td><td>0.0626813</td><td>0.0784184</td><td>0.171063</td><td>1.14879</td><td>0.366988</td><td>0.270026</td><td>0.195845</td><td>0.148504</td><td>0.105291</td><td>21.4416</td><td>20.9019</td><td>20.6886</td><td>21.1254</td><td>21.7253</td><td>0.0919122</td><td>3.73425</td><td>2.50511</td><td>2.60216</td><td>0.296803</td><td>0.0355574</td><td>0.512303</td><td>0.200675</td><td>2.44569</td><td>0.573581</td><td>4.10667</td><td>7.80763</td><td>5.11608</td><td>1.79423</td><td>4.10601</td><td>1.98431</td><td>3.44767</td><td>3.13092</td><td>9.89341</td><td>22.9986</td><td>0.05</td><td>0.386332</td><td>0.286519</td><td>0.349938</td><td>0.05</td><td>21.7812</td><td>0.261212</td><td>20.8884</td><td>0.0862551</td><td>20.8844</td><td>0.0784184</td><td>21.229</td><td>0.169298</td><td>20.5753</td><td>0.538098</td><td>22.6219</td><td>0.314224</td><td>22.2987</td><td>0.0842459</td><td>22.1766</td><td>0.107121</td><td>22.5841</td><td>0.216634</td><td>22.3292</td><td>0.686211</td><td>22.4601</td><td>0.295083</td><td>22.1081</td><td>0.0816971</td><td>21.8215</td><td>0.106536</td><td>22.1516</td><td>0.224618</td><td>22.1408</td><td>0.794124</td><td>0.0</td><td>0.134992</td><td>0.0</td><td>0.0</td><td>0.0514384</td><td>0.221975</td><td>0.180526</td><td>0.144255</td><td>-0.208483</td><td>0.140232</td><td>-0.171469</td><td>0.27856</td><td>-0.126487</td><td>1.75578</td><td>52.5333</td><td>0.158749</td><td>1.76448</td><td>3.19697</td><td>0.431437</td><td>2.24219</td><td>156.353</td><td>0.400215</td><td>1.76425</td><td>156.326</td><td>0.449628</td><td>1.75905</td><td>173.702</td><td>0.05</td><td>3.41105</td><td>50.522</td><td>22.5329</td><td>0.135876</td><td>20.8844</td><td>0.0784184</td><td>1.29802</td><td>1.95693</td><td>21.1057</td><td>24.1126576875</td><td>23.6675736433</td><td>9999.0</td><td>9999.0</td><td>9999.0</td><td>9999.0</td><td>9999.0</td><td>9999.0</td><td>0.009368</td><td>-1.0</td><td>-1</td><td>0.13515</td><td>0.050588</td><td>-1.0</td><td>-1.0</td><td>-1.0</td><td>-1.0</td><td>348.683</td><td>4.53406</td><td>37.019</td><td>2689.0</td><td>-24.5151234146</td><td>150887</td><td>0</td><td>Catch22</td><td>24.1118295796</td><td>259.64347008</td><td>-1</td><td>1</td><td>0.193589248151</td><td>-1.0</td><td>-1</td><td>MMT</td><td>/Spectra/Final/MMT/spHect-2015.0918_1.zlog</td><td>4</td><td></td><td>109.0</td><td>MMT</td></tr>\n",
       "<tr><td>1237668298203202132</td><td>182.848206846</td><td>20.0632227672</td><td>3</td><td>GALAXY</td><td>35191083106832</td><td>1</td><td>0</td><td>0</td><td>268435456</td><td>0</td><td>21.1227</td><td>20.1145</td><td>20.008</td><td>19.8726</td><td>19.4657</td><td>0.200869</td><td>0.0343099</td><td>0.0587202</td><td>0.078248</td><td>0.186034</td><td>0.200869</td><td>0.0343099</td><td>0.0587202</td><td>0.078248</td><td>0.186034</td><td>0.174705</td><td>0.128547</td><td>0.0932327</td><td>0.0706955</td><td>0.050124</td><td>20.948</td><td>19.986</td><td>19.9148</td><td>19.8019</td><td>19.4155</td><td>2.65322</td><td>4.44146</td><td>4.52623</td><td>3.89658</td><td>3.8835</td><td>2.6068</td><td>0.484254</td><td>1.32849</td><td>0.282203</td><td>3.72444</td><td>7.3078</td><td>3.50662</td><td>4.67095</td><td>0.878666</td><td>4.96264</td><td>1.64587</td><td>3.47721</td><td>1.10666</td><td>4.30776</td><td>3.79971</td><td>0.472522</td><td>0.594722</td><td>0.491823</td><td>0.999906</td><td>0.755632</td><td>20.3615</td><td>0.201266</td><td>20.0545</td><td>0.0359994</td><td>20.008</td><td>0.0762655</td><td>19.7272</td><td>0.0821986</td><td>19.4046</td><td>0.179177</td><td>22.5209</td><td>0.247984</td><td>21.5618</td><td>0.056281</td><td>21.7679</td><td>0.0775694</td><td>21.8565</td><td>0.108736</td><td>21.2512</td><td>0.262478</td><td>22.1971</td><td>0.259816</td><td>21.3603</td><td>0.0435997</td><td>21.1737</td><td>0.065764</td><td>21.0293</td><td>0.0863021</td><td>20.5899</td><td>0.252217</td><td>0.88867</td><td>0.0253526</td><td>0.0</td><td>0.0</td><td>0.0</td><td>-1.18349</td><td>-0.800236</td><td>-0.159502</td><td>-0.0800225</td><td>-0.181125</td><td>-0.286501</td><td>0.0273503</td><td>0.0947882</td><td>0.182807</td><td>-0.120085</td><td>0.416509</td><td>1.38122</td><td>-0.703747</td><td>0.677198</td><td>1.98208</td><td>112.895</td><td>0.599783</td><td>1.98112</td><td>118.455</td><td>0.768695</td><td>2.06379</td><td>90.2972</td><td>0.700144</td><td>1.88798</td><td>52.5759</td><td>21.8941</td><td>0.0854396</td><td>20.008</td><td>0.0762655</td><td>1.64732</td><td>3.43852</td><td>20.0778</td><td>23.4880455291</td><td>23.1571251533</td><td>9999.0</td><td>9999.0</td><td>9999.0</td><td>9999.0</td><td>9999.0</td><td>9999.0</td><td>0.007782</td><td>-1.0</td><td>-1</td><td>0.009855</td><td>0.09731</td><td>-1.0</td><td>-1.0</td><td>-1.0</td><td>-1.0</td><td>182.792</td><td>20.1757</td><td>36.3129</td><td>2448.24</td><td>-23.0663046684</td><td>161174</td><td>0</td><td>ScoobyDoo</td><td>7.45463101585</td><td>78.7431642049</td><td>-1</td><td>1</td><td>0.0324325443425</td><td>-1.0</td><td>-1</td><td>MMT</td><td>/Spectra/Final/MMT/spHect-2016.0310_1.zlog</td><td>4</td><td></td><td>162.0</td><td>MMT</td></tr>\n",
       "<tr><td>1237668298203267092</td><td>182.990666509</td><td>20.0278486922</td><td>3</td><td>GALAXY</td><td>1161153266978832</td><td>1</td><td>0</td><td>0</td><td>268435456</td><td>0</td><td>15.8828</td><td>14.8758</td><td>14.4876</td><td>14.2848</td><td>14.1206</td><td>0.00954302</td><td>0.00206305</td><td>0.00191848</td><td>0.00217663</td><td>0.00591532</td><td>0.00868713</td><td>0.00244257</td><td>0.00242592</td><td>0.0028437</td><td>0.00635386</td><td>0.166119</td><td>0.122229</td><td>0.0886505</td><td>0.067221</td><td>0.0476605</td><td>15.9776</td><td>14.9743</td><td>14.5782</td><td>14.4174</td><td>14.2559</td><td>11.0348</td><td>12.2224</td><td>12.4214</td><td>13.1245</td><td>12.7824</td><td>0.46172</td><td>0.548525</td><td>0.491611</td><td>0.41526</td><td>0.445747</td><td>13.853</td><td>0.444026</td><td>10.9555</td><td>0.0841372</td><td>12.3227</td><td>0.0837728</td><td>12.4667</td><td>0.0978454</td><td>14.9637</td><td>0.406184</td><td>0.564896</td><td>0.648127</td><td>0.664197</td><td>0.679885</td><td>0.657577</td><td>15.8954</td><td>0.00889622</td><td>14.9582</td><td>0.00246198</td><td>14.5063</td><td>0.00246108</td><td>14.2816</td><td>0.00288835</td><td>14.0743</td><td>0.00661391</td><td>18.9156</td><td>0.0242769</td><td>17.8459</td><td>0.0131848</td><td>17.7523</td><td>0.0210637</td><td>17.792</td><td>0.0232707</td><td>17.5206</td><td>0.0224153</td><td>18.5083</td><td>0.0155606</td><td>17.4996</td><td>0.0033799</td><td>17.1539</td><td>0.00319241</td><td>16.9559</td><td>0.00333816</td><td>16.7993</td><td>0.010505</td><td>0.458708</td><td>0.428622</td><td>0.409873</td><td>0.439733</td><td>0.387692</td><td>-0.165666</td><td>0.0115026</td><td>-0.150692</td><td>0.0278864</td><td>-0.13657</td><td>0.0226562</td><td>-0.125194</td><td>0.0308981</td><td>-0.125737</td><td>0.0312213</td><td>0.611598</td><td>6.00453</td><td>79.4146</td><td>0.630992</td><td>6.03778</td><td>77.712</td><td>0.64346</td><td>6.009</td><td>77.6615</td><td>0.665945</td><td>5.99506</td><td>76.8733</td><td>0.660764</td><td>5.59107</td><td>76.3105</td><td>17.9043</td><td>0.00433811</td><td>14.6669</td><td>0.00242592</td><td>5.68529</td><td>14.9503</td><td>14.5817</td><td>20.5563529437</td><td>20.3508717254</td><td>15.248</td><td>0.142</td><td>14.771</td><td>0.172</td><td>14.442</td><td>0.133</td><td>0.00800182</td><td>1.16984e-05</td><td>0</td><td>0.01492</td><td>0.006863</td><td>-1.0</td><td>-1.0</td><td>-1.0</td><td>-1.0</td><td>182.792</td><td>20.1757</td><td>36.3129</td><td>2448.24</td><td>-23.0663046684</td><td>161174</td><td>0</td><td>ScoobyDoo</td><td>14.2804185494</td><td>150.843547809</td><td>118414</td><td>1</td><td>0.612725020773</td><td>-1.0</td><td>-1</td><td>NSA</td><td>sdss</td><td>4</td><td></td><td>1.2376682982e+18</td><td>NSA</td></tr>\n",
       "<tr><td>1237668298203070473</td><td>182.428044304</td><td>20.0469187602</td><td>3</td><td>GALAXY</td><td>246359594504540</td><td>0</td><td>262144</td><td>0</td><td>268435456</td><td>0</td><td>17.969</td><td>17.2377</td><td>16.8337</td><td>16.5412</td><td>18.0671</td><td>0.0537586</td><td>0.0124537</td><td>0.0129866</td><td>0.0223096</td><td>0.254136</td><td>0.0537586</td><td>0.0124537</td><td>0.0129866</td><td>0.0223096</td><td>0.254136</td><td>0.18599</td><td>0.136849</td><td>0.0992547</td><td>0.0752618</td><td>0.0533615</td><td>17.783</td><td>17.1009</td><td>16.7345</td><td>16.466</td><td>18.0137</td><td>2.97041</td><td>19.5046</td><td>17.8969</td><td>18.2615</td><td>43.7864</td><td>-1000.0</td><td>0.632189</td><td>0.525841</td><td>0.690824</td><td>-1000.0</td><td>29.6715</td><td>6.75804</td><td>29.6688</td><td>1.91326</td><td>29.6728</td><td>2.66976</td><td>29.6789</td><td>3.70482</td><td>0.0662469</td><td>0.499819</td><td>0.819387</td><td>0.662117</td><td>0.86335</td><td>0.984939</td><td>0.952798</td><td>17.2315</td><td>0.0503212</td><td>17.2605</td><td>0.0124383</td><td>16.8337</td><td>0.0129866</td><td>16.5601</td><td>0.0222924</td><td>22.0406</td><td>0.495234</td><td>21.548</td><td>0.121405</td><td>21.5207</td><td>0.0575958</td><td>21.3666</td><td>0.0654683</td><td>21.4862</td><td>0.147275</td><td>22.2603</td><td>0.340441</td><td>21.4563</td><td>0.140734</td><td>20.9553</td><td>0.0390609</td><td>20.5869</td><td>0.045303</td><td>20.4397</td><td>0.0708237</td><td>20.8775</td><td>0.273438</td><td>0.225479</td><td>0.0</td><td>0.0</td><td>0.0</td><td>0.773152</td><td>-0.0415744</td><td>-0.0107133</td><td>0.139899</td><td>-0.0183358</td><td>0.104515</td><td>-0.00503905</td><td>0.060371</td><td>-0.00465939</td><td>-0.184623</td><td>-0.220856</td><td>0.499826</td><td>22.5062</td><td>123.371</td><td>0.614624</td><td>10.8067</td><td>151.154</td><td>0.67295</td><td>10.6368</td><td>153.414</td><td>0.654293</td><td>10.5384</td><td>157.24</td><td>0.947399</td><td>0.0759167</td><td>14.6156</td><td>21.3835</td><td>0.0591498</td><td>16.8337</td><td>0.0129866</td><td>8.18865</td><td>16.1744</td><td>16.933</td><td>23.963234403</td><td>23.4944884206</td><td>9999.0</td><td>9999.0</td><td>9999.0</td><td>9999.0</td><td>9999.0</td><td>9999.0</td><td>0.008231</td><td>-1.0</td><td>-1</td><td>0.055147</td><td>0.050069</td><td>-1.0</td><td>-1.0</td><td>-1.0</td><td>-1.0</td><td>182.792</td><td>20.1757</td><td>36.3129</td><td>2448.24</td><td>-23.0663046684</td><td>161174</td><td>0</td><td>ScoobyDoo</td><td>21.9133215945</td><td>231.468726484</td><td>-1</td><td>1</td><td>-1.0</td><td>-1.0</td><td>-1</td><td>MMT</td><td>/Spectra/Final/MMT/spHect-2016.0310_1.zlog</td><td>4</td><td></td><td>243.0</td><td>MMT</td></tr>\n",
       "<tr><td>1237668298740007188</td><td>182.689815229</td><td>20.5929282759</td><td>3</td><td>GALAXY</td><td>105624251662608</td><td>1</td><td>0</td><td>0</td><td>268435456</td><td>0</td><td>19.403</td><td>18.6405</td><td>18.319</td><td>18.2342</td><td>18.339</td><td>0.0863532</td><td>0.0206977</td><td>0.0417838</td><td>0.0608542</td><td>0.126956</td><td>0.0863532</td><td>0.0206977</td><td>0.0417838</td><td>0.0608542</td><td>0.126956</td><td>0.133348</td><td>0.0981162</td><td>0.0711621</td><td>0.0539601</td><td>0.0382584</td><td>19.2696</td><td>18.5424</td><td>18.2478</td><td>18.1802</td><td>18.3008</td><td>6.95807</td><td>7.74496</td><td>7.90907</td><td>11.6778</td><td>18.0187</td><td>0.741644</td><td>0.2772</td><td>0.605597</td><td>8.08308</td><td>-1000.0</td><td>21.1617</td><td>6.70641</td><td>15.1931</td><td>1.68054</td><td>12.3246</td><td>1.79133</td><td>17.0547</td><td>3.57564</td><td>29.6637</td><td>20.6985</td><td>0.548912</td><td>0.749738</td><td>0.83182</td><td>0.749779</td><td>0.548246</td><td>18.3525</td><td>0.0803704</td><td>18.6354</td><td>0.0206721</td><td>18.319</td><td>0.0426848</td><td>17.917</td><td>0.0640602</td><td>18.1559</td><td>0.125157</td><td>21.7491</td><td>0.127241</td><td>21.4111</td><td>0.0482136</td><td>21.4156</td><td>0.0610886</td><td>21.4674</td><td>0.0954107</td><td>22.134</td><td>0.420858</td><td>21.6852</td><td>0.152615</td><td>21.0104</td><td>0.0388067</td><td>20.7578</td><td>0.045151</td><td>20.6655</td><td>0.067455</td><td>20.8974</td><td>0.278184</td><td>1.0</td><td>0.0</td><td>0.0</td><td>0.141921</td><td>0.0</td><td>0.0954469</td><td>-0.228143</td><td>0.065382</td><td>-0.0412044</td><td>0.0311266</td><td>-0.0125363</td><td>0.0679096</td><td>-0.0385851</td><td>-0.00851043</td><td>0.0573078</td><td>0.571801</td><td>4.65803</td><td>136.49</td><td>0.784572</td><td>4.49858</td><td>152.497</td><td>0.864558</td><td>4.31249</td><td>162.183</td><td>0.768407</td><td>5.83677</td><td>160.735</td><td>0.799616</td><td>5.29299</td><td>9.58301</td><td>21.5494</td><td>0.0626212</td><td>18.319</td><td>0.0426848</td><td>3.95675</td><td>8.16799</td><td>18.3488</td><td>23.4880558544</td><td>23.3309108387</td><td>9999.0</td><td>9999.0</td><td>9999.0</td><td>9999.0</td><td>9999.0</td><td>9999.0</td><td>0.008433</td><td>-1.0</td><td>-1</td><td>0.103337</td><td>0.04012</td><td>-1.0</td><td>-1.0</td><td>-1.0</td><td>-1.0</td><td>182.792</td><td>20.1757</td><td>36.3129</td><td>2448.24</td><td>-23.0663046684</td><td>161174</td><td>0</td><td>ScoobyDoo</td><td>25.684925387</td><td>271.307199673</td><td>-1</td><td>1</td><td>0.568075619287</td><td>-1.0</td><td>-1</td><td>MMT</td><td>/Spectra/Final/MMT/spHect-2016.0310_1.zlog</td><td>4</td><td></td><td>78.0</td><td>MMT</td></tr>\n",
       "<tr><td>1237648721248845970</td><td>221.316115836</td><td>-0.159937082521</td><td>3</td><td>GALAXY</td><td>105587744575576</td><td>0</td><td>0</td><td>0</td><td>268435456</td><td>0</td><td>16.5779</td><td>15.4534</td><td>14.9999</td><td>14.748</td><td>14.6104</td><td>0.0132031</td><td>0.00307767</td><td>0.00244978</td><td>0.00311895</td><td>0.00910513</td><td>0.0146661</td><td>0.00419994</td><td>0.00439184</td><td>0.00559093</td><td>0.17522</td><td>0.193776</td><td>0.142579</td><td>0.10341</td><td>0.0784126</td><td>0.0555955</td><td>16.603</td><td>15.4781</td><td>15.0073</td><td>14.8393</td><td>15.5281</td><td>14.8841</td><td>15.0175</td><td>17.0154</td><td>15.7295</td><td>13.1781</td><td>0.566606</td><td>0.415441</td><td>0.441515</td><td>0.367411</td><td>0.347179</td><td>23.8172</td><td>1.15182</td><td>25.356</td><td>0.350364</td><td>29.6632</td><td>0.529713</td><td>29.6622</td><td>0.69457</td><td>13.5356</td><td>9.47236</td><td>0.715968</td><td>0.629328</td><td>0.64502</td><td>0.59692</td><td>0.422398</td><td>16.8917</td><td>0.0149555</td><td>15.6725</td><td>0.00417691</td><td>15.1107</td><td>0.00439184</td><td>14.938</td><td>0.00558602</td><td>15.4109</td><td>0.253963</td><td>20.394</td><td>0.0570104</td><td>19.6403</td><td>0.0194839</td><td>19.4335</td><td>0.0209814</td><td>19.1559</td><td>0.0217439</td><td>19.2875</td><td>0.0562016</td><td>20.1335</td><td>0.0347685</td><td>19.1235</td><td>0.00861023</td><td>18.7472</td><td>0.00822442</td><td>18.5638</td><td>0.0100939</td><td>18.4445</td><td>0.0323903</td><td>0.08505</td><td>0.0</td><td>0.0</td><td>0.0</td><td>0.0</td><td>0.0433737</td><td>-0.0172328</td><td>0.0648738</td><td>-0.00681728</td><td>0.0495119</td><td>-0.00851707</td><td>0.0577374</td><td>-0.00952559</td><td>0.0486287</td><td>-0.0101198</td><td>0.752951</td><td>7.38484</td><td>146.237</td><td>0.650006</td><td>9.01963</td><td>143.582</td><td>0.653908</td><td>10.0704</td><td>140.209</td><td>0.649841</td><td>9.658</td><td>141.969</td><td>0.605148</td><td>8.21325</td><td>141.068</td><td>19.6061</td><td>0.012202</td><td>15.1107</td><td>0.00439184</td><td>7.96924</td><td>18.9362</td><td>15.1211</td><td>22.12139684</td><td>21.6236680132</td><td>9999.0</td><td>9999.0</td><td>9999.0</td><td>9999.0</td><td>9999.0</td><td>9999.0</td><td>0.00563</td><td>1.43632e-05</td><td>0</td><td>0.062095</td><td>0.033155</td><td>-1.0</td><td>-1.0</td><td>-1.0</td><td>-1.0</td><td>221.546</td><td>-0.222942</td><td>25.3928</td><td>1659.36</td><td>-23.5995529604</td><td>165536</td><td>0</td><td>Dune</td><td>14.3220507622</td><td>105.789036487</td><td>2579</td><td>1</td><td>0.728516178787</td><td>-1.0</td><td>-1</td><td>AAT</td><td>/Spectra/Final/AAT/Dune_1_MG.mz</td><td>4</td><td></td><td>201.0</td><td>AAT</td></tr>\n",
       "<tr><td>1237665565541728490</td><td>234.132926177</td><td>16.4404552908</td><td>3</td><td>GALAXY</td><td>105589892059224</td><td>0</td><td>0</td><td>0</td><td>268435456</td><td>0</td><td>16.1647</td><td>14.9855</td><td>14.4259</td><td>14.1387</td><td>13.9433</td><td>0.0158673</td><td>0.00259635</td><td>0.00209654</td><td>0.00186889</td><td>0.00660086</td><td>0.0225006</td><td>0.00533662</td><td>0.00365586</td><td>0.00515775</td><td>0.0165636</td><td>0.265727</td><td>0.19552</td><td>0.141807</td><td>0.107528</td><td>0.0762387</td><td>16.1973</td><td>14.9169</td><td>14.3988</td><td>14.165</td><td>14.0913</td><td>22.802</td><td>26.5905</td><td>26.6271</td><td>25.7355</td><td>24.102</td><td>0.922541</td><td>0.993555</td><td>1.08189</td><td>0.981544</td><td>0.73939</td><td>29.6735</td><td>1.06105</td><td>29.6712</td><td>0.344343</td><td>29.6666</td><td>0.649634</td><td>29.6739</td><td>0.269091</td><td>29.6667</td><td>2.45438</td><td>0.72939</td><td>0.628225</td><td>0.726929</td><td>0.617838</td><td>0.544187</td><td>16.5156</td><td>0.0224544</td><td>15.1144</td><td>0.00533579</td><td>14.5406</td><td>0.00365586</td><td>14.299</td><td>0.00515002</td><td>14.221</td><td>0.0163856</td><td>21.2198</td><td>0.0895723</td><td>20.184</td><td>0.0213354</td><td>19.6587</td><td>0.023881</td><td>19.3987</td><td>0.022902</td><td>19.0766</td><td>0.0414875</td><td>20.9411</td><td>0.0918039</td><td>19.6351</td><td>0.0120631</td><td>19.0204</td><td>0.0106331</td><td>18.7119</td><td>0.0116012</td><td>18.519</td><td>0.0291054</td><td>0.0</td><td>0.0</td><td>0.0</td><td>0.0</td><td>0.0</td><td>0.277716</td><td>-0.0105282</td><td>0.241218</td><td>-0.00404015</td><td>0.237909</td><td>-0.0061111</td><td>0.233472</td><td>-0.00943407</td><td>0.257519</td><td>-0.00772755</td><td>0.449939</td><td>17.3926</td><td>188.744</td><td>0.449997</td><td>18.5222</td><td>186.685</td><td>0.461628</td><td>18.3583</td><td>186.446</td><td>0.46783</td><td>17.2205</td><td>186.139</td><td>0.449999</td><td>16.2165</td><td>187.286</td><td>19.8695</td><td>0.0154952</td><td>14.5406</td><td>0.00365586</td><td>12.4745</td><td>25.4727</td><td>14.6318</td><td>22.8552192249</td><td>22.1073501623</td><td>9999.0</td><td>9999.0</td><td>9999.0</td><td>9999.0</td><td>9999.0</td><td>9999.0</td><td>0.0063225</td><td>2.50655e-05</td><td>0</td><td>0.017646</td><td>0.008486</td><td>-1.0</td><td>-1.0</td><td>-1.0</td><td>-1.0</td><td>234.132</td><td>16.6078</td><td>28.0204</td><td>1967.37</td><td>-23.7233716534</td><td>166313</td><td>0</td><td>Gilgamesh</td><td>10.0451514042</td><td>81.8759433532</td><td>166312</td><td>1</td><td>0.754674971471</td><td>-1.0</td><td>-1</td><td>NSA</td><td>sdss</td><td>4</td><td></td><td>1.23766556554e+18</td><td>NSA</td></tr>\n",
       "<tr><td>1237665566078402826</td><td>233.787037531</td><td>16.8704375988</td><td>3</td><td>GALAXY</td><td>35255507619856</td><td>1</td><td>0</td><td>0</td><td>268435456</td><td>0</td><td>17.0431</td><td>15.957</td><td>15.531</td><td>15.3251</td><td>15.2011</td><td>0.0523063</td><td>0.00369042</td><td>0.00387899</td><td>0.00559496</td><td>0.0152938</td><td>0.0245222</td><td>0.032043</td><td>0.0117344</td><td>0.0174938</td><td>0.0631772</td><td>0.2423</td><td>0.178282</td><td>0.129305</td><td>0.0980482</td><td>0.0695174</td><td>17.0067</td><td>16.0834</td><td>15.6201</td><td>15.5189</td><td>15.5281</td><td>17.97</td><td>19.171</td><td>18.8152</td><td>17.9914</td><td>16.3511</td><td>0.861229</td><td>0.657451</td><td>0.610941</td><td>0.464012</td><td>0.572605</td><td>29.6659</td><td>3.83181</td><td>19.1207</td><td>1.63408</td><td>29.6635</td><td>1.26729</td><td>29.5521</td><td>2.07357</td><td>29.5319</td><td>8.06556</td><td>0.814723</td><td>0.498891</td><td>0.522315</td><td>0.449782</td><td>0.38877</td><td>17.1638</td><td>0.0244375</td><td>16.2299</td><td>0.0313349</td><td>15.7494</td><td>0.0117344</td><td>15.6486</td><td>0.0173854</td><td>15.6222</td><td>0.0616617</td><td>21.0277</td><td>0.0762207</td><td>20.6851</td><td>0.0273775</td><td>20.5808</td><td>0.0329151</td><td>20.359</td><td>0.0406918</td><td>20.3094</td><td>0.0995726</td><td>20.8808</td><td>0.0687915</td><td>20.1612</td><td>0.0171456</td><td>19.792</td><td>0.018344</td><td>19.6193</td><td>0.0251379</td><td>19.5235</td><td>0.0716609</td><td>0.0</td><td>0.0</td><td>0.0</td><td>0.0</td><td>0.0</td><td>-0.000846283</td><td>0.00930696</td><td>-0.038169</td><td>-0.000383598</td><td>-0.0540185</td><td>-0.00157497</td><td>-0.0603573</td><td>-0.00171284</td><td>-0.0774855</td><td>-0.00411408</td><td>0.599599</td><td>12.5904</td><td>147.871</td><td>0.599976</td><td>10.2795</td><td>144.707</td><td>0.549999</td><td>12.0037</td><td>143.908</td><td>0.599964</td><td>10.4472</td><td>143.947</td><td>0.589558</td><td>10.233</td><td>141.954</td><td>20.6351</td><td>0.0264381</td><td>15.7494</td><td>0.0117344</td><td>8.92572</td><td>17.5942</td><td>15.7627</td><td>23.1414298816</td><td>22.5113834966</td><td>9999.0</td><td>9999.0</td><td>9999.0</td><td>9999.0</td><td>9999.0</td><td>9999.0</td><td>0.006671</td><td>7.46778e-06</td><td>0</td><td>0.007259</td><td>0.007794</td><td>-1.0</td><td>-1.0</td><td>-1.0</td><td>-1.0</td><td>234.132</td><td>16.6078</td><td>28.0204</td><td>1967.37</td><td>-23.7233716534</td><td>166313</td><td>0</td><td>Gilgamesh</td><td>25.3587294294</td><td>206.692157819</td><td>124222</td><td>1</td><td>0.770648809036</td><td>-1.0</td><td>-1</td><td>MMT</td><td>/Spectra/Final/MMT/spHect-2014.0530_1.zlog</td><td>4</td><td></td><td>135.0</td><td>MMT</td></tr>\n",
       "</table>"
      ],
      "text/plain": [
       "<Table masked=True length=49>\n",
       "       OBJID              RA      ...     SPECOBJID     SPEC_REPEAT\n",
       "       int64           float64    ...       str48          str48   \n",
       "------------------- ------------- ... ----------------- -----------\n",
       "1237651735757259099 180.636494306 ...              88.0         MMT\n",
       "1237657607497515484 123.649897556 ...  1.2376576075e+18         NSA\n",
       "1237657607497318756 123.243173206 ...  1.2376576075e+18         NSA\n",
       "1237666408439939282 354.350599991 ... 1.23766640844e+18         NSA\n",
       "1237663277925204111 354.195229736 ...             133.0         MMT\n",
       "1237666408439677694 353.778805283 ...             100.0         MMT\n",
       "1237664338780029261 149.687168865 ...             234.0         MMT\n",
       "1237678602387521791 20.5363426909 ...             247.0         MMT\n",
       "1237678602387456130 20.2852690118 ...              84.0         MMT\n",
       "1237678602387456305 20.3284666123 ...             123.0         MMT\n",
       "                ...           ... ...               ...         ...\n",
       "1237678776862572690 348.776907636 ...             216.0         MMT\n",
       "1237678777399509170 348.874199097 ...             170.0         MMT\n",
       "1237679005558702536 348.554591739 ...             109.0         MMT\n",
       "1237668298203202132 182.848206846 ...             162.0         MMT\n",
       "1237668298203267092 182.990666509 ...  1.2376682982e+18         NSA\n",
       "1237668298203070473 182.428044304 ...             243.0         MMT\n",
       "1237668298740007188 182.689815229 ...              78.0         MMT\n",
       "1237648721248845970 221.316115836 ...             201.0         AAT\n",
       "1237665565541728490 234.132926177 ... 1.23766556554e+18         NSA\n",
       "1237665566078402826 233.787037531 ...             135.0         MMT"
      ]
     },
     "execution_count": 45,
     "metadata": {},
     "output_type": "execute_result"
    }
   ],
   "source": [
    "sagamasks = ~((t['TELNAME']=='SDSS')|(t['TELNAME']=='NSA')|(t['TELNAME']=='GAMA'))\n",
    "sagaids = np.unique(t['HOST_NSAID'][sagamasks])\n",
    "sagaspectra = t[np.in1d(t['HOST_NSAID'], sagaids)]\n",
    "\n",
    "sats = sagaspectra[sagaspectra['SATS']==1]\n",
    "sats"
   ]
  },
  {
   "cell_type": "code",
   "execution_count": 110,
   "metadata": {
    "collapsed": true
   },
   "outputs": [],
   "source": [
    "palomar_A = 1.76e5 * u.cm**2"
   ]
  },
  {
   "cell_type": "markdown",
   "metadata": {},
   "source": [
    "# CWI"
   ]
  },
  {
   "cell_type": "markdown",
   "metadata": {},
   "source": [
    "From Jeremy:\n",
    "\n",
    "Since you have spectra already, this should be pretty straight-forward. I use 20 minute exposures. Sometimes I combine two 20 minute exposures. The staff recommends sticking to this observing strategy. For the 20 minute exposures, the typical noise per pixel in a given spaxel is about 7x10^-18 erg/s/cm^2 (+/- 1x10^-18 erg/s/cm^2). This is pretty consistent across the entire bandwidth and across the CCD. I have found you can measure line centers down to a S/N of 5. I have not done mosaics but I know others have. The spatial resolution is about 2.7\" by whatever your seeing is. You can rotate the FOV 90 degrees and co-add to get seeing limited data but rotation is not a simple task. The FOV is 60\" by 40\" but the edges of the field are a little wonky. The nod-and-shuffle mask limits the bandwidth range but is fine for H-alpha and both NII lines."
   ]
  },
  {
   "cell_type": "code",
   "execution_count": 116,
   "metadata": {
    "collapsed": false
   },
   "outputs": [
    {
     "data": {
      "text/latex": [
       "$[0.066420153,~0.75046402,~2.325243,~0.53888935,~0.8946681,~0.14583386,~0.093623929,~0.3214168,~0.75702339,~0.20041418,~0.51558721,~0.1318621,~2.4814374,~0.76061094,~0.77778667,~5.2428017,~1.1810504,~46.946854,~4.2834849,~0.086929277,~1.8186949,~2.1488645,~4.6659489,~0.39642385,~0.16374445,~1.1474186,~0.33538094,~0.31246436,~7.1703553,~2.3951433,~0.56655043,~0.1776437,~2.0448513,~2.3998132,~2.8055224,~0.19174385,~17.665543,~0.36412913,~3.5961518,~4.4313326,~0.5036605,~0.14256053,~0.25674385,~10.125674,~0.41092703,~0.35267577,~2.1121538,~1.657124,~0.81871659] \\; \\mathrm{\\frac{1}{s}}$"
      ],
      "text/plain": [
       "<Quantity [  0.06642015,  0.75046402,  2.325243  ,  0.53888935,\n",
       "             0.8946681 ,  0.14583386,  0.09362393,  0.3214168 ,\n",
       "             0.75702339,  0.20041418,  0.51558721,  0.1318621 ,\n",
       "             2.48143744,  0.76061094,  0.77778667,  5.24280167,\n",
       "             1.18105042, 46.94685364,  4.28348494,  0.08692928,\n",
       "             1.81869495,  2.14886451,  4.66594887,  0.39642385,\n",
       "             0.16374445,  1.14741862,  0.33538094,  0.31246436,\n",
       "             7.17035532,  2.39514327,  0.56655043,  0.1776437 ,\n",
       "             2.0448513 ,  2.39981318,  2.80552244,  0.19174385,\n",
       "            17.6655426 ,  0.36412913,  3.59615183,  4.43133259,\n",
       "             0.5036605 ,  0.14256053,  0.25674385, 10.12567425,\n",
       "             0.41092703,  0.35267577,  2.11215377,  1.65712404,\n",
       "             0.81871659] 1 / s>"
      ]
     },
     "execution_count": 116,
     "metadata": {},
     "output_type": "execute_result"
    }
   ],
   "source": [
    "noise = 7e-18 * u.erg/u.s*u.cm**-2\n",
    "\n",
    "def mag_to_snr(mag, dellamb, lamb):\n",
    "    num = palomar_A * dellamb * (mag*u.ABmag).physical\n",
    "    den = cnst.h * lamb\n",
    "    return (num/den/noise).decompose()\n",
    "mag_to_signal(sats['FIBER2MAG_R'], 1*u.angstrom, 6563*u.angstrom)"
   ]
  },
  {
   "cell_type": "markdown",
   "metadata": {},
   "source": [
    "# DBSpec "
   ]
  },
  {
   "cell_type": "markdown",
   "metadata": {},
   "source": [
    "Following http://www.astro.caltech.edu/~enk/dbsp_throughput/, but just assuming a straight ~20% throughput, which is good for ~Halpha for most gratings"
   ]
  },
  {
   "cell_type": "code",
   "execution_count": 94,
   "metadata": {
    "collapsed": false
   },
   "outputs": [
    {
     "data": {
      "text/latex": [
       "$2938.8963 \\; \\mathrm{}$"
      ],
      "text/plain": [
       "<Quantity 2938.896338544408>"
      ]
     },
     "execution_count": 94,
     "metadata": {},
     "output_type": "execute_result"
    }
   ],
   "source": [
    "m_to_nphot(10, 1*u.second, 1*u.angstrom, 6563*u.angstrom)"
   ]
  },
  {
   "cell_type": "code",
   "execution_count": 95,
   "metadata": {
    "collapsed": false
   },
   "outputs": [
    {
     "data": {
      "text/latex": [
       "$0.29388963 \\; \\mathrm{}$"
      ],
      "text/plain": [
       "<Quantity 0.2938896338544408>"
      ]
     },
     "execution_count": 95,
     "metadata": {},
     "output_type": "execute_result"
    }
   ],
   "source": [
    "def m_to_nphot(mag, texp, dellamb, lamb, throughput=.2):\n",
    "    num = texp * palomar_A * dellamb * (mag*u.ABmag).physical\n",
    "    den = cnst.h * lamb\n",
    "    return (throughput*num/den).decompose()\n",
    "m_to_nphot(20, 1*u.second, 1*u.angstrom, 6563*u.angstrom)"
   ]
  },
  {
   "cell_type": "code",
   "execution_count": 104,
   "metadata": {
    "collapsed": false
   },
   "outputs": [
    {
     "data": {
      "text/latex": [
       "$[7527.8354,~666.25446,~215.03125,~927.83423,~558.86646,~3428.5591,~5340.5151,~1555.6124,~660.48157,~2494.8333,~969.76794,~3791.8398,~201.49609,~657.36633,~642.84979,~95.368851,~423.35196,~10.650341,~116.72738,~5751.8027,~274.92242,~232.68102,~107.15934,~1261.2764,~3053.5386,~435.76074,~1490.8419,~1600.1823,~69.731544,~208.75578,~882.53387,~2814.6228,~244.51656,~208.34956,~178.21991,~2607.6455,~28.303686,~1373.1394,~139.03751,~112.83287,~992.73224,~3507.2825,~1947.4664,~49.379429,~1216.761,~1417.7328,~236.72516,~301.72754,~610.71198] \\; \\mathrm{s}$"
      ],
      "text/plain": [
       "<Quantity [ 7527.83544922,  666.25445557,  215.03125   ,  927.83422852,\n",
       "             558.86645508, 3428.55908203, 5340.51513672, 1555.61242676,\n",
       "             660.48156738, 2494.83325195,  969.76794434, 3791.83984375,\n",
       "             201.49609375,  657.36633301,  642.84979248,   95.36885071,\n",
       "             423.35195923,   10.65034103,  116.72737885, 5751.80273438,\n",
       "             274.92242432,  232.68101501,  107.1593399 , 1261.27636719,\n",
       "            3053.53857422,  435.76074219, 1490.84191895, 1600.18225098,\n",
       "              69.73154449,  208.75578308,  882.53387451, 2814.62280273,\n",
       "             244.51655579,  208.3495636 ,  178.21990967, 2607.64550781,\n",
       "              28.30368614, 1373.1394043 ,  139.0375061 ,  112.83287048,\n",
       "             992.73223877, 3507.2824707 , 1947.46643066,   49.37942886,\n",
       "            1216.76098633, 1417.73278809,  236.72515869,  301.72753906,\n",
       "             610.7119751 ] s>"
      ]
     },
     "execution_count": 104,
     "metadata": {},
     "output_type": "execute_result"
    }
   ],
   "source": [
    "# let's just say 2\" is typical seeing\n",
    "countrate = m_to_nphot(sats['FIBER2MAG_R'], 1*u.second, 1*u.angstrom, 6563*u.angstrom)/u.second\n",
    "\n",
    "# assume we need ~100 counts per/angstrom for a decent centroid\n",
    "time_needed = 100/ countrate\n",
    "time_needed"
   ]
  },
  {
   "cell_type": "code",
   "execution_count": 106,
   "metadata": {
    "collapsed": false
   },
   "outputs": [
    {
     "data": {
      "text/latex": [
       "$17.678227 \\; \\mathrm{h}$"
      ],
      "text/plain": [
       "<Quantity 17.678226996527776 h>"
      ]
     },
     "execution_count": 106,
     "metadata": {},
     "output_type": "execute_result"
    }
   ],
   "source": [
    "np.sum(time_needed).to(u.hour)"
   ]
  }
 ],
 "metadata": {
  "anaconda-cloud": {},
  "kernelspec": {
   "display_name": "Python [conda env:saga]",
   "language": "python",
   "name": "conda-env-saga-py"
  },
  "language_info": {
   "codemirror_mode": {
    "name": "ipython",
    "version": 2
   },
   "file_extension": ".py",
   "mimetype": "text/x-python",
   "name": "python",
   "nbconvert_exporter": "python",
   "pygments_lexer": "ipython2",
   "version": "2.7.12"
  }
 },
 "nbformat": 4,
 "nbformat_minor": 0
}
