{
 "cells": [
  {
   "cell_type": "code",
   "execution_count": 1,
   "metadata": {
    "collapsed": true
   },
   "outputs": [],
   "source": [
    "import numpy as np\n",
    "\n",
    "from astropy import units as u\n",
    "from astropy import cosmology\n",
    "from astropy import constants as cnst"
   ]
  },
  {
   "cell_type": "code",
   "execution_count": 2,
   "metadata": {
    "collapsed": true
   },
   "outputs": [],
   "source": [
    "%matplotlib inline\n",
    "from matplotlib import style, pyplot as plt"
   ]
  },
  {
   "cell_type": "code",
   "execution_count": 3,
   "metadata": {
    "collapsed": false
   },
   "outputs": [
    {
     "data": {
      "text/plain": [
       "FlatLambdaCDM(name=\"WMAP9\", H0=69.3 km / (Mpc s), Om0=0.286, Tcmb0=2.725 K, Neff=3.04, m_nu=[ 0.  0.  0.] eV, Ob0=0.0463)"
      ]
     },
     "execution_count": 3,
     "metadata": {},
     "output_type": "execute_result"
    }
   ],
   "source": [
    "cosmo = cosmology.default_cosmology.get()\n",
    "cosmo"
   ]
  },
  {
   "cell_type": "markdown",
   "metadata": {},
   "source": [
    "### Function to compute escape velocity given halo parameters "
   ]
  },
  {
   "cell_type": "code",
   "execution_count": 4,
   "metadata": {
    "collapsed": false
   },
   "outputs": [],
   "source": [
    "def NFW_escape_vel(r, Mvir, Rvir, CvirorRs, truncated=False):\n",
    "    \"\"\"\n",
    "    NFW profile escape velocity\n",
    "\n",
    "    Parameters\n",
    "    ----------\n",
    "    r : Quantity w/ length units\n",
    "        Radial distance at which to compute the escape velocity\n",
    "    Mvir : Quantity w/ mass units\n",
    "        Virial Mass\n",
    "    CvirorRs : Quantity w/ dimensionless or distance units\n",
    "        (Virial) Concentration parameter (if dimensionless), \n",
    "        or halo scale radius (if length units)\n",
    "    Rvir : Quantity w/ length units\n",
    "        Virial radius\n",
    "    truncated : bool or float\n",
    "        False for infinite-size NFW or a number to cut off the \n",
    "        halo  at this many times Rvir\n",
    "    \"\"\"\n",
    "    CvirorRs = u.Quantity(CvirorRs)\n",
    "    if CvirorRs.unit.is_equivalent(u.m):\n",
    "        Cvir = Rvir/CvirorRs\n",
    "    elif CvirorRs.unit.is_equivalent(u.one):\n",
    "        Cvir = CvirorRs\n",
    "    else:\n",
    "        raise TypeError('CvirorRs must be length or dimensionless')\n",
    "        \n",
    "    a = Rvir / Cvir\n",
    "    \n",
    "    #\"f-function\" from the NFW literature (e.g. klypin 02) evaluated at Cvir\n",
    "    fofC = np.log(1 + Cvir) - Cvir / (1 + Cvir)\n",
    "    \n",
    "    # value of the NFW potential at that point\n",
    "    potential = (-cnst.G * Mvir / fofC) * np.log(1 + (r / a)) / r\n",
    "\n",
    "    if truncated:\n",
    "        rtrunc = Rvir * float(truncated)\n",
    "        Ctrunc = rtrunc / a\n",
    "\n",
    "        mtrunc = Mvir * (np.log(1 + Ctrunc) - Ctrunc / (1 + Ctrunc)) / fofC\n",
    "\n",
    "        outer = r >= rtrunc\n",
    "        potential[outer] = - Gkpc * mtrunc / r[outer]\n",
    "        potential[~outer] = potential[~outer] + (Gkpc * Mvir / a) / (Ctrunc + 1) / fofC\n",
    "\n",
    "    vesc = (2 * np.abs(potential)) ** 0.5\n",
    "    return vesc.to(u.km/u.s)"
   ]
  },
  {
   "cell_type": "markdown",
   "metadata": {},
   "source": [
    "### Functions to compute halo parameters given cosmology and Mvir "
   ]
  },
  {
   "cell_type": "code",
   "execution_count": 5,
   "metadata": {
    "collapsed": false
   },
   "outputs": [],
   "source": [
    "def Deltavir(cosmo, z=0):\n",
    "    \"\"\"\n",
    "    Standard Delta-vir from Bryan&Norman 98 (*not* Delta-c)\n",
    "    \"\"\"\n",
    "    x = cosmo.Om(z) - 1\n",
    "    return (18*np.pi**2 + 82*x - 39*x**2)/(x+1)"
   ]
  },
  {
   "cell_type": "markdown",
   "metadata": {},
   "source": [
    "Use these basic relations to get rvir<->mir conversion:\n",
    "\n",
    "$\\bar{\\rho}_{\\rm halo} = \\Delta_{\\rm vir}\\Omega_m \\rho_c$\n",
    "\n",
    "$\\frac{3 M_{\\rm vir}}{4 \\pi r^3_{\\rm vir}} =\\Delta_{\\rm vir}(z) \\Omega_m(z) \\frac{3 H^2(z)}{8 \\pi G}$"
   ]
  },
  {
   "cell_type": "code",
   "execution_count": 6,
   "metadata": {
    "collapsed": false
   },
   "outputs": [],
   "source": [
    "def rvirmvir(rvirormvir, cosmo, z=0):\n",
    "    \"\"\"\n",
    "    Convert between Rvir and Mvir\n",
    "    \n",
    "    Parameters\n",
    "    ----------\n",
    "    rvirormvir : Quantity w/ mass or length units\n",
    "        Either Rvir or Mvir, depending on the input units\n",
    "    cosmo : astropy cosmology\n",
    "        The cosmology to assume\n",
    "    z : float\n",
    "        The redshift to assume for the conversion\n",
    "        \n",
    "    Returns\n",
    "    -------\n",
    "    mvirorrvir : Quantity w/ mass or length units\n",
    "         Whichever ``rvirormvir`` is *not*\n",
    "    \"\"\"\n",
    "    rhs = Deltavir(cosmo=cosmo, z=z) * cosmo.Om(z)*cosmo.H(z)**2 / (2*cnst.G)\n",
    "    \n",
    "    if rvirormvir.unit.is_equivalent(u.solMass):\n",
    "        mvir = rvirormvir\n",
    "        return ((mvir / rhs)**(1/3)).to(u.kpc)\n",
    "    elif rvirormvir.unit.is_equivalent(u.kpc):\n",
    "        rvir = rvirormvir\n",
    "        return (rhs * rvir**3).to(u.solMass)\n",
    "    else:\n",
    "        raise ValueError('invalid input unit {}'.format(rvirormvir))"
   ]
  },
  {
   "cell_type": "code",
   "execution_count": 7,
   "metadata": {
    "collapsed": true
   },
   "outputs": [],
   "source": [
    "def mvir_to_cvir(mvir, z=0):\n",
    "    \"\"\" Power-law fit to the c_vir-M_vir relation from\n",
    "    Equations 12 & 13 of Dutton & Maccio 2014, arXiv:1402.7073.\n",
    "    \"\"\"\n",
    "    a = 0.537 + (1.025 - 0.537) * np.exp(-0.718 * z**1.08)\n",
    "    b = -0.097 + 0.024 * z\n",
    "    m0 = 1e12 * u.solMass\n",
    "\n",
    "    logc = a + b * np.log10(mvir / m0)\n",
    "    return 10**logc"
   ]
  },
  {
   "cell_type": "markdown",
   "metadata": {},
   "source": [
    "###  A function to put all that together and use just Mvir"
   ]
  },
  {
   "cell_type": "code",
   "execution_count": 8,
   "metadata": {
    "collapsed": true
   },
   "outputs": [],
   "source": [
    "def NFW_escape_vel_from_Mvir(r, Mvir, z=0,\n",
    "                             cosmo=cosmology.Planck15,\n",
    "                             truncated=False):\n",
    "    cvir = mvir_to_cvir(Mvir, z)\n",
    "    rvir = rvirmvir(Mvir, cosmo, z)\n",
    "    return NFW_escape_vel(r, Mvir=Mvir, \n",
    "                          CvirorRs=cvir, \n",
    "                          Rvir=rvir, \n",
    "                          truncated=truncated)"
   ]
  },
  {
   "cell_type": "code",
   "execution_count": 9,
   "metadata": {
    "collapsed": false
   },
   "outputs": [
    {
     "data": {
      "text/plain": [
       "<matplotlib.text.Text at 0x10d6af750>"
      ]
     },
     "execution_count": 9,
     "metadata": {},
     "output_type": "execute_result"
    },
    {
     "data": {
      "image/png": "[encoded data removed]",
      "text/plain": [
       "<matplotlib.figure.Figure at 0x10d485e10>"
      ]
     },
     "metadata": {},
     "output_type": "display_data"
    }
   ],
   "source": [
    "r = np.linspace(0, 300,101)[1:]*u.kpc #0 has a singularity\n",
    "\n",
    "vesc = NFW_escape_vel_from_Mvir(r, 1e12*u.solMass)\n",
    "\n",
    "plt.plot(r, vesc, c='r', label=r'$V_{\\rm esc}$')\n",
    "plt.plot(r, -vesc, c='r')\n",
    "\n",
    "plt.plot(r, 3**-0.5*vesc, c='r', ls=':', label=r'$V_{\\rm esc}/\\sqrt{3}$')\n",
    "plt.plot(r, -3**-0.5*vesc, c='r', ls=':')\n",
    "\n",
    "plt.legend(loc=0)\n",
    "plt.xlabel('$r$ [kpc]', fontsize=18)\n",
    "plt.ylabel(r'$km/s', fontsize=18)"
   ]
  },
  {
   "cell_type": "code",
   "execution_count": 10,
   "metadata": {
    "collapsed": false
   },
   "outputs": [
    {
     "data": {
      "text/plain": [
       "<matplotlib.text.Text at 0x10d7cd590>"
      ]
     },
     "execution_count": 10,
     "metadata": {},
     "output_type": "execute_result"
    },
    {
     "data": {
      "image/png": "[encoded data removed]",
      "text/plain": [
       "<matplotlib.figure.Figure at 0x110830b50>"
      ]
     },
     "metadata": {},
     "output_type": "display_data"
    }
   ],
   "source": [
    "r = np.linspace(0, 300,101)[1:]*u.kpc #0 has a singularity\n",
    "\n",
    "vesc0p5 = NFW_escape_vel_from_Mvir(r, 5e11*u.solMass)\n",
    "vesc1 = NFW_escape_vel_from_Mvir(r, 1e12*u.solMass)\n",
    "vesc2 = NFW_escape_vel_from_Mvir(r, 2e12*u.solMass)\n",
    "\n",
    "plt.plot(r, vesc0p5, c='b', label=r'$M_{\\rm vir}=5 \\times 10^{11}$')\n",
    "plt.plot(r, -vesc0p5, c='b')\n",
    "\n",
    "plt.plot(r, vesc1, c='g', label=r'$M_{\\rm vir}=1 \\times 10^{12}$')\n",
    "plt.plot(r, -vesc1, c='g')\n",
    "\n",
    "plt.plot(r, vesc2, c='r', label=r'$M_{\\rm vir}=2 \\times 10^{12}$')\n",
    "plt.plot(r, -vesc2, c='r')\n",
    "\n",
    "plt.legend(loc=0)\n",
    "plt.xlabel('$r$ [kpc]', fontsize=18)\n",
    "plt.ylabel(r'$v_{\\rm esc}$ [km/s]', fontsize=18)"
   ]
  }
 ],
 "metadata": {
  "anaconda-cloud": {},
  "kernelspec": {
   "display_name": "Python [conda env:saga]",
   "language": "python",
   "name": "conda-env-saga-py"
  },
  "language_info": {
   "codemirror_mode": {
    "name": "ipython",
    "version": 2
   },
   "file_extension": ".py",
   "mimetype": "text/x-python",
   "name": "python",
   "nbconvert_exporter": "python",
   "pygments_lexer": "ipython2",
   "version": "2.7.12"
  }
 },
 "nbformat": 4,
 "nbformat_minor": 0
}
