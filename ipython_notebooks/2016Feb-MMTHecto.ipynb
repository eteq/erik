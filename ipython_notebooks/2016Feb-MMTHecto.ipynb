{
 "cells": [
  {
   "cell_type": "code",
   "execution_count": 15,
   "metadata": {
    "collapsed": false
   },
   "outputs": [],
   "source": [
    "# This changes the current directory to the base saga directory - make sure to run this first!\n",
    "# This is necessary to be able to import the py files and use the right directories,\n",
    "# while keeping all the notebooks in their own directory.\n",
    "import os\n",
    "import sys\n",
    "\n",
    "if 'saga_base_dir' not in locals():\n",
    "    saga_base_dir = os.path.abspath('..')\n",
    "\n",
    "if saga_base_dir not in sys.path:\n",
    "    os.chdir(saga_base_dir)"
   ]
  },
  {
   "cell_type": "code",
   "execution_count": 16,
   "metadata": {
    "collapsed": false
   },
   "outputs": [],
   "source": [
    "from __future__ import print_function\n",
    "\n",
    "from collections import Counter\n",
    "\n",
    "import hosts\n",
    "import targeting\n",
    "import mmthecto\n",
    "import numpy as np\n",
    "\n",
    "from astropy import units as u\n",
    "from astropy.coordinates import *\n",
    "from astropy import table\n",
    "from astropy.table import Table\n",
    "from astropy.io import fits"
   ]
  },
  {
   "cell_type": "code",
   "execution_count": 17,
   "metadata": {
    "collapsed": false
   },
   "outputs": [],
   "source": [
    "%matplotlib inline\n",
    "from matplotlib import pyplot as plt\n",
    "from matplotlib import rcParams\n",
    "\n",
    "rcParams['image.interpolation'] = 'none'\n",
    "rcParams['figure.figsize'] = (16, 10)"
   ]
  },
  {
   "cell_type": "code",
   "execution_count": 18,
   "metadata": {
    "collapsed": false,
    "scrolled": true
   },
   "outputs": [
    {
     "data": {
      "text/plain": [
       "<module 'hosts' from 'hosts.py'>"
      ]
     },
     "execution_count": 18,
     "metadata": {},
     "output_type": "execute_result"
    }
   ],
   "source": [
    "reload(hosts)"
   ]
  },
  {
   "cell_type": "code",
   "execution_count": 19,
   "metadata": {
    "collapsed": false
   },
   "outputs": [
    {
     "name": "stdout",
     "output_type": "stream",
     "text": [
      "Using cached version of google hosts list from file \"hosts_dl.pkl2\"\n"
     ]
    }
   ],
   "source": [
    "hostlst = hosts.get_saga_hosts_from_google() #'named' hosts"
   ]
  },
  {
   "cell_type": "code",
   "execution_count": 20,
   "metadata": {
    "collapsed": false
   },
   "outputs": [],
   "source": [
    "hosts_to_target = [h for h in hostlst if h.name=='Sopranos']\n",
    "assert len(hosts_to_target)==1"
   ]
  },
  {
   "cell_type": "code",
   "execution_count": 21,
   "metadata": {
    "collapsed": false
   },
   "outputs": [],
   "source": [
    "# now set to the latest base catalogs\n",
    "for h in hosts_to_target:\n",
    "    h.fnsdss = 'SAGADropbox/base_catalogs/base_sql_nsa{0}.fits.gz'.format(h.nsaid)\n",
    "    h._cached_sdss = None"
   ]
  },
  {
   "cell_type": "code",
   "execution_count": 22,
   "metadata": {
    "collapsed": false,
    "scrolled": true
   },
   "outputs": [
    {
     "data": {
      "text/plain": [
       "['OBJID',\n",
       " 'RA',\n",
       " 'DEC',\n",
       " 'PHOTPTYPE',\n",
       " 'PHOT_SG',\n",
       " 'FLAGS',\n",
       " 'SATURATED',\n",
       " 'BAD_COUNTS_ERROR',\n",
       " 'BINNED1',\n",
       " 'u',\n",
       " 'g',\n",
       " 'r',\n",
       " 'i',\n",
       " 'z',\n",
       " 'u_err',\n",
       " 'g_err',\n",
       " 'r_err',\n",
       " 'i_err',\n",
       " 'z_err',\n",
       " 'MODELMAGERR_U',\n",
       " 'MODELMAGERR_G',\n",
       " 'MODELMAGERR_R',\n",
       " 'MODELMAGERR_I',\n",
       " 'MODELMAGERR_Z',\n",
       " 'EXTINCTION_U',\n",
       " 'EXTINCTION_G',\n",
       " 'EXTINCTION_R',\n",
       " 'EXTINCTION_I',\n",
       " 'EXTINCTION_Z',\n",
       " 'DERED_U',\n",
       " 'DERED_G',\n",
       " 'DERED_R',\n",
       " 'DERED_I',\n",
       " 'DERED_Z',\n",
       " 'PETRORAD_U',\n",
       " 'PETRORAD_G',\n",
       " 'PETRORAD_R',\n",
       " 'PETRORAD_I',\n",
       " 'PETRORAD_Z',\n",
       " 'PETRORADERR_U',\n",
       " 'PETRORADERR_G',\n",
       " 'PETRORADERR_R',\n",
       " 'PETRORADERR_I',\n",
       " 'PETRORADERR_Z',\n",
       " 'DEVRAD_U',\n",
       " 'DEVRADERR_U',\n",
       " 'DEVRAD_G',\n",
       " 'DEVRADERR_G',\n",
       " 'DEVRAD_R',\n",
       " 'DEVRADERR_R',\n",
       " 'DEVRAD_I',\n",
       " 'DEVRADERR_I',\n",
       " 'DEVRAD_Z',\n",
       " 'DEVRADERR_Z',\n",
       " 'DEVAB_U',\n",
       " 'DEVAB_G',\n",
       " 'DEVAB_R',\n",
       " 'DEVAB_I',\n",
       " 'DEVAB_Z',\n",
       " 'CMODELMAG_U',\n",
       " 'CMODELMAGERR_U',\n",
       " 'CMODELMAG_G',\n",
       " 'CMODELMAGERR_G',\n",
       " 'CMODELMAG_R',\n",
       " 'CMODELMAGERR_R',\n",
       " 'CMODELMAG_I',\n",
       " 'CMODELMAGERR_I',\n",
       " 'CMODELMAG_Z',\n",
       " 'CMODELMAGERR_Z',\n",
       " 'PSFMAG_U',\n",
       " 'PSFMAGERR_U',\n",
       " 'PSFMAG_G',\n",
       " 'PSFMAGERR_G',\n",
       " 'PSFMAG_R',\n",
       " 'PSFMAGERR_R',\n",
       " 'PSFMAG_I',\n",
       " 'PSFMAGERR_I',\n",
       " 'PSFMAG_Z',\n",
       " 'PSFMAGERR_Z',\n",
       " 'FIBERMAG_U',\n",
       " 'FIBERMAGERR_U',\n",
       " 'FIBERMAG_G',\n",
       " 'FIBERMAGERR_G',\n",
       " 'FIBERMAG_R',\n",
       " 'FIBERMAGERR_R',\n",
       " 'FIBERMAG_I',\n",
       " 'FIBERMAGERR_I',\n",
       " 'FIBERMAG_Z',\n",
       " 'FIBERMAGERR_Z',\n",
       " 'FRACDEV_U',\n",
       " 'FRACDEV_G',\n",
       " 'FRACDEV_R',\n",
       " 'FRACDEV_I',\n",
       " 'FRACDEV_Z',\n",
       " 'Q_U',\n",
       " 'U_U',\n",
       " 'Q_G',\n",
       " 'U_G',\n",
       " 'Q_R',\n",
       " 'U_R',\n",
       " 'Q_I',\n",
       " 'U_I',\n",
       " 'Q_Z',\n",
       " 'U_Z',\n",
       " 'EXPAB_U',\n",
       " 'EXPRAD_U',\n",
       " 'EXPPHI_U',\n",
       " 'EXPAB_G',\n",
       " 'EXPRAD_G',\n",
       " 'EXPPHI_G',\n",
       " 'EXPAB_R',\n",
       " 'EXPRAD_R',\n",
       " 'EXPPHI_R',\n",
       " 'EXPAB_I',\n",
       " 'EXPRAD_I',\n",
       " 'EXPPHI_I',\n",
       " 'EXPAB_Z',\n",
       " 'EXPRAD_Z',\n",
       " 'EXPPHI_Z',\n",
       " 'FIBER2MAG_R',\n",
       " 'FIBER2MAGERR_R',\n",
       " 'EXPMAG_R',\n",
       " 'EXPMAGERR_R',\n",
       " 'PETROR50_R',\n",
       " 'PETROR90_R',\n",
       " 'PETROMAG_R',\n",
       " 'SB_EXP_R',\n",
       " 'SB_PETRO_R',\n",
       " 'J',\n",
       " 'JERR',\n",
       " 'H',\n",
       " 'HERR',\n",
       " 'K',\n",
       " 'KERR',\n",
       " 'SPEC_Z',\n",
       " 'SPEC_Z_ERR',\n",
       " 'SPEC_Z_WARN',\n",
       " 'PHOTOZ',\n",
       " 'PHOTOZ_ERR',\n",
       " 'W1',\n",
       " 'W1ERR',\n",
       " 'W2',\n",
       " 'W2ERR',\n",
       " 'HOST_RA',\n",
       " 'HOST_DEC',\n",
       " 'HOST_DIST',\n",
       " 'HOST_VHOST',\n",
       " 'HOST_MK',\n",
       " 'HOST_NSAID',\n",
       " 'HOST_FLAG',\n",
       " 'HOST_SAGA_NAME',\n",
       " 'RHOST_ARCM',\n",
       " 'RHOST_KPC',\n",
       " 'OBJ_NSAID',\n",
       " 'SATS',\n",
       " 'PROBABILITY_CLASS1',\n",
       " 'RESCALED_PROBABILITY_CLASS1',\n",
       " 'REMOVE',\n",
       " 'TELNAME',\n",
       " 'MASKNAME',\n",
       " 'ZQUALITY',\n",
       " 'SPECOBJID',\n",
       " 'SPEC_REPEAT',\n",
       " 'Ai',\n",
       " 'fibermag_z',\n",
       " 'rhost',\n",
       " 'fibermag_r',\n",
       " 'fibermag_u',\n",
       " 'Ag',\n",
       " 'fibermag_i',\n",
       " 'Az',\n",
       " 'Ar',\n",
       " 'dec',\n",
       " 'Au',\n",
       " 'fibermag_g',\n",
       " 'type',\n",
       " 'ra',\n",
       " 'objID',\n",
       " 'rhost_kpc',\n",
       " 'phot_sg',\n",
       " 'U',\n",
       " 'B',\n",
       " 'V',\n",
       " 'R',\n",
       " 'I']"
      ]
     },
     "execution_count": 22,
     "metadata": {},
     "output_type": "execute_result"
    }
   ],
   "source": [
    "# actually make sure they're loaded here\n",
    "for h in hosts_to_target:\n",
    "    h.get_sdss_catalog()\n",
    "h.get_sdss_catalog().colnames # just to see"
   ]
  },
  {
   "cell_type": "markdown",
   "metadata": {},
   "source": [
    "Important difference from previous runs: ML probablities are now in the catalogs!"
   ]
  },
  {
   "cell_type": "code",
   "execution_count": 23,
   "metadata": {
    "collapsed": true
   },
   "outputs": [],
   "source": [
    "p_column_for_ranking = 'PROBABILITY_CLASS1' #this is *just* SDSS"
   ]
  },
  {
   "cell_type": "code",
   "execution_count": 46,
   "metadata": {
    "collapsed": false,
    "scrolled": true
   },
   "outputs": [
    {
     "name": "stdout",
     "output_type": "stream",
     "text": [
      "Removed 15 objects for Sopranos\n",
      "Sopranos rank counts: {0: 48604, 2: 20, 3: 11, 4: 12, 5: 9, 6: 16, 7: 22, 8: 12075, 9: 6079, -5: 16, -3: 4090, -2: 763}\n"
     ]
    }
   ],
   "source": [
    "# compute ranks, which includes filtering on mag\n",
    "rankdct = {}\n",
    "for h in hosts_to_target:\n",
    "    cat = h.get_sdss_catalog()\n",
    "    \n",
    "    rankdct[h] = ranks = np.zeros(len(cat), dtype=int) #the 0s will be re-set at the end\n",
    "    \n",
    "    # now set the ml prob targets\n",
    "    highprob = cat[p_column_for_ranking] > 0.5\n",
    "    medprob = (cat[p_column_for_ranking] > 0.05) & ~highprob\n",
    "    lowprob = (cat[p_column_for_ranking] > 0.01) & ~highprob & ~medprob\n",
    "    inside = cat['RHOST_KPC']<300\n",
    "    \n",
    "    # rank 1 reserved for flux stars\n",
    "    ranks[inside&highprob] = 2\n",
    "    ranks[~inside&highprob] = 3\n",
    "    ranks[inside&medprob] = 4\n",
    "    ranks[~inside&medprob] = 5\n",
    "    ranks[inside&lowprob] = 6\n",
    "    ranks[~inside&lowprob] = 7\n",
    "    \n",
    "    validtarget = (cat['r'] < 21.5) & (cat['fibermag_r']<23) & (cat['phot_sg']=='GALAXY')\n",
    "    other = ranks == 0\n",
    "    colorcutmsk = targeting.colorcut_mask(cat,  targeting.bossanova_color_cuts)\n",
    "    \n",
    "    ranks[validtarget&other&colorcutmsk] = 8\n",
    "    ranks[validtarget&other&~colorcutmsk] = 9\n",
    "    \n",
    "    #set to-remove objects to ranks<0\n",
    "    tokeep = cat['REMOVE']==-1\n",
    "    ranks[~tokeep] = -cat['REMOVE'][~tokeep] # sets the REMOVE objects to -their remove value\n",
    "    # and the downloaded rem list\n",
    "    remmsk = targeting.remove_targets_with_remlist(cat, h, maskonly=True)\n",
    "    ranks[~remmsk] = -5\n",
    "    # should also remove already-observed\n",
    "    \n",
    "    #informational\n",
    "    print(h.name,'rank counts:', dict(Counter(ranks)))"
   ]
  },
  {
   "cell_type": "markdown",
   "metadata": {
    "collapsed": true
   },
   "source": [
    "### are the ML-selected objects meeting the fibermag and r cuts?"
   ]
  },
  {
   "cell_type": "code",
   "execution_count": 25,
   "metadata": {
    "collapsed": false
   },
   "outputs": [
    {
     "data": {
      "image/png": "[encoded data removed]",
      "text/plain": [
       "<matplotlib.figure.Figure at 0x10e79d0d0>"
      ]
     },
     "metadata": {},
     "output_type": "display_data"
    }
   ],
   "source": [
    "for h in hosts_to_target:\n",
    "    cat = h.get_sdss_catalog()\n",
    "    ranks = rankdct[h]\n",
    "\n",
    "    plt.figure()\n",
    "    \n",
    "    msk = (ranks>0)&(ranks<8)\n",
    "    plt.subplot(1,2,1)\n",
    "    plt.hist(cat[msk]['r'],bins=25, histtype='step')\n",
    "    plt.axvline(21,c='r')\n",
    "    plt.xlabel('r')\n",
    "    plt.title(h.name, fontsize=24)\n",
    "    \n",
    "    plt.subplot(1,2,2)\n",
    "    plt.hist(cat[msk]['fibermag_r'],bins=25, histtype='step')\n",
    "    plt.axvline(23,c='r')\n",
    "    plt.xlabel('fibermag_r')\n",
    "    plt.title(h.name, fontsize=24)\n",
    "    \n",
    "    plt.tight_layout()"
   ]
  },
  {
   "cell_type": "markdown",
   "metadata": {},
   "source": [
    "# Generate catalogs "
   ]
  },
  {
   "cell_type": "code",
   "execution_count": 26,
   "metadata": {
    "collapsed": false
   },
   "outputs": [
    {
     "name": "stdout",
     "output_type": "stream",
     "text": [
      "On host Sopranos\n",
      "Going to write mmthecto/Sopranos_feb2016.cat\n",
      "Including 5695 targets\n",
      "Found 88 Flux stars\n",
      "Removing 33 Flux stars too close to program stars\n",
      "Could not find psf mags so falling back on regular mags...\n",
      "Found 317 guide stars\n"
     ]
    }
   ],
   "source": [
    "generated_cats = {}\n",
    "for h in hosts_to_target:\n",
    "    print('On host', h.name)\n",
    "    sys.stdout.flush()\n",
    "\n",
    "    cat = h.get_sdss_catalog()\n",
    "    ranks = rankdct[h]\n",
    "    \n",
    "    fnout = 'mmthecto/{0}_feb2016.cat'.format(h.name)\n",
    "    fluxfnout = fnout.replace('.cat', '.fluxstars')\n",
    "    print('Going to write', fnout)\n",
    "    \n",
    "    msk = (cat['RHOST_ARCM']<40) & (ranks>0) & (ranks<9)\n",
    "    generated_cats[h] = mmthecto.generate_catalog(h, cat[msk], ranks[msk], \n",
    "                                         repeatflux=3, removefluxdistance=1*u.arcmin,\n",
    "                                         fnout=fnout, fluxfnout=fluxfnout)"
   ]
  },
  {
   "cell_type": "markdown",
   "metadata": {},
   "source": [
    "### Inspect an output "
   ]
  },
  {
   "cell_type": "code",
   "execution_count": 33,
   "metadata": {
    "collapsed": false
   },
   "outputs": [
    {
     "data": {
      "text/plain": [
       "{-1: 317, 1: 165, 2: 20, 3: 1, 4: 12, 5: 2, 6: 16, 7: 3, 8: 5641}"
      ]
     },
     "execution_count": 33,
     "metadata": {},
     "output_type": "execute_result"
    }
   ],
   "source": [
    "gcat = generated_cats[h]\n",
    "\n",
    "msk = (ranknum>1)&(ranknum<6)\n",
    "gcatm = gcat[msk]\n",
    "targeting.sampled_imagelist(gcatm[np.argsort(gcatm['ra'])], None, None, names=gcat['rank'][msk])\n",
    "\n",
    "ranknum = gcat['rank'].copy()\n",
    "ranknum[gcat['rank']==''] = '-1'\n",
    "ranknum = ranknum.astype(int)\n",
    "{r: np.sum(r==ranknum) for r in set(ranknum)}"
   ]
  },
  {
   "cell_type": "code",
   "execution_count": 34,
   "metadata": {
    "collapsed": false,
    "scrolled": true
   },
   "outputs": [
    {
     "data": {
      "text/plain": [
       "[]"
      ]
     },
     "execution_count": 34,
     "metadata": {},
     "output_type": "execute_result"
    }
   ],
   "source": [
    "#identify clumps of nearby objects\n",
    "gcatmsc = SkyCoord(gcatm['ra'], gcatm['dec'], unit=u.deg)\n",
    "seps = u.Quantity([c.separation(gcatmsc) for c in gcatmsc])\n",
    "\n",
    "pairs = zip(*np.where((seps>0.1*u.arcsec)&(seps<10*u.arcsec)))\n",
    "pairs = [pair for pair in pairs if pair[0]<pair[1]]\n",
    "\n",
    "clumps = []\n",
    "for p1, p2 in pairs:\n",
    "    for clump in clumps:\n",
    "        if p1 in clump:\n",
    "            clump.append(p2)\n",
    "            break\n",
    "        elif p2 in clump:\n",
    "            clump.append(p1)\n",
    "            break\n",
    "    else:\n",
    "        clumps.append([p1, p2])\n",
    "for cl in clumps:\n",
    "    targeting.sampled_imagelist(gcatm[np.array(cl)], None, None, names=cl)\n",
    "clumps"
   ]
  }
 ],
 "metadata": {
  "kernelspec": {
   "display_name": "Python 2",
   "language": "python",
   "name": "python2"
  },
  "language_info": {
   "codemirror_mode": {
    "name": "ipython",
    "version": 2
   },
   "file_extension": ".py",
   "mimetype": "text/x-python",
   "name": "python",
   "nbconvert_exporter": "python",
   "pygments_lexer": "ipython2",
   "version": "2.7.11"
  }
 },
 "nbformat": 4,
 "nbformat_minor": 0
}
