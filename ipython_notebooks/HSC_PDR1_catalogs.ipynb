{
 "cells": [
  {
   "cell_type": "code",
   "execution_count": 1,
   "metadata": {},
   "outputs": [],
   "source": [
    "# This changes the current directory to the base saga directory - make sure to run this first!\n",
    "# This is necessary to be able to import the py files and use the right directories,\n",
    "# while keeping all the notebooks in their own directory.\n",
    "import os\n",
    "import sys\n",
    "\n",
    "if 'saga_base_dir' not in locals():\n",
    "    saga_base_dir = os.path.abspath('..')\n",
    "if saga_base_dir not in sys.path:\n",
    "    os.chdir(saga_base_dir)"
   ]
  },
  {
   "cell_type": "code",
   "execution_count": 21,
   "metadata": {},
   "outputs": [],
   "source": [
    "from __future__ import division, print_function\n",
    "\n",
    "from astropy import units as u"
   ]
  },
  {
   "cell_type": "code",
   "execution_count": 2,
   "metadata": {
    "collapsed": true
   },
   "outputs": [],
   "source": [
    "%matplotlib inline\n",
    "\n",
    "from matplotlib import pyplot as plt"
   ]
  },
  {
   "cell_type": "markdown",
   "metadata": {},
   "source": [
    "# Hosts "
   ]
  },
  {
   "cell_type": "markdown",
   "metadata": {},
   "source": [
    "Hosts are identified in the [HSC overlap check](HSC%20overlap%20check.ipynb) notebook.  For DR1 they are (in \"300 kpc\" circles):\n",
    "\n",
    "* Alice: 75%\n",
    "* Othello: 66%\n",
    "* Dune: 100%"
   ]
  },
  {
   "cell_type": "code",
   "execution_count": 3,
   "metadata": {},
   "outputs": [],
   "source": [
    "import hosts"
   ]
  },
  {
   "cell_type": "code",
   "execution_count": 7,
   "metadata": {},
   "outputs": [
    {
     "name": "stdout",
     "output_type": "stream",
     "text": [
      "Using cached version of google hosts list from file \"hosts_dl.pkl2\"\n"
     ]
    },
    {
     "data": {
      "text/plain": [
       "(<hosts.NSAHost object w/ name 'Alice' AKA: ['NGC4030', 'NSA140594']>,\n",
       " <hosts.NSAHost object w/ name 'Dune' AKA: ['NGC5750', 'NSA165536']>,\n",
       " <hosts.NSAHost object w/ name 'Othello' AKA: ['NGC5792', 'NSA145729']>)"
      ]
     },
     "execution_count": 7,
     "metadata": {},
     "output_type": "execute_result"
    }
   ],
   "source": [
    "hostobjs = hosts.get_saga_hosts_from_google()\n",
    "hschosts = tuple([h for h in hostobjs if h.name in ('Alice', 'Othello', 'Dune')])\n",
    "assert len(hschosts) == 3\n",
    "hschosts"
   ]
  },
  {
   "cell_type": "code",
   "execution_count": 36,
   "metadata": {
    "collapsed": true
   },
   "outputs": [],
   "source": [
    "for h in hschosts:\n",
    "    h.hscfn = os.path.join('catalogs', 'hsc_pdr1_{}.csv.gz'.format(h.name))"
   ]
  },
  {
   "cell_type": "markdown",
   "metadata": {},
   "source": [
    "# Generate queries "
   ]
  },
  {
   "cell_type": "markdown",
   "metadata": {},
   "source": [
    "These queries are meant for the HSC casjobs at https://hsc-release.mtk.nao.ac.jp/datasearch/ (which requires login)"
   ]
  },
  {
   "cell_type": "code",
   "execution_count": 33,
   "metadata": {},
   "outputs": [],
   "source": [
    "hsc_qry_templ=\"\"\"\n",
    "SELECT {cols}\n",
    "FROM {table}\n",
    "WHERE coneSearch(coord, {hra}, {hdec}, {radius})\n",
    "\"\"\"[1:-1]\n",
    "\n",
    "bands = 'gri'\n",
    "cols = 'object_id,ra,dec'.split(',')\n",
    "for band in bands:\n",
    "    magcol_to_add = []\n",
    "    magcol_to_add.append('{}cmodel_mag'.format(band))\n",
    "    magcol_to_add.append('{}mag_psf'.format(band))\n",
    "    magcol_to_add.append('{}mag_kron'.format(band))\n",
    "    magcol_to_add.append('{}mag_aperture10'.format(band))\n",
    "    magcol_to_add.append('{}mag_aperture20'.format(band))\n",
    "    magcol_to_add.append('{}mag_aperture30'.format(band))\n",
    "    for magcol in magcol_to_add:\n",
    "        cols.append(magcol)\n",
    "        cols.append(magcol+'_err')\n",
    "    \n",
    "    cols.append('{}flux_kron_radius'.format(band))\n",
    "    cols.append('a_{}'.format(band))\n",
    "cols = ','.join(cols)"
   ]
  },
  {
   "cell_type": "code",
   "execution_count": 37,
   "metadata": {},
   "outputs": [
    {
     "name": "stdout",
     "output_type": "stream",
     "text": [
      "Query for host Alice which should be saved to catalogs/hsc_pdr1_Alice.csv.gz\n",
      "SELECT object_id,ra,dec,gcmodel_mag,gcmodel_mag_err,gmag_psf,gmag_psf_err,gmag_kron,gmag_kron_err,gmag_aperture10,gmag_aperture10_err,gmag_aperture20,gmag_aperture20_err,gmag_aperture30,gmag_aperture30_err,gflux_kron_radius,a_g,rcmodel_mag,rcmodel_mag_err,rmag_psf,rmag_psf_err,rmag_kron,rmag_kron_err,rmag_aperture10,rmag_aperture10_err,rmag_aperture20,rmag_aperture20_err,rmag_aperture30,rmag_aperture30_err,rflux_kron_radius,a_r,icmodel_mag,icmodel_mag_err,imag_psf,imag_psf_err,imag_kron,imag_kron_err,imag_aperture10,imag_aperture10_err,imag_aperture20,imag_aperture20_err,imag_aperture30,imag_aperture30_err,iflux_kron_radius,a_i\n",
      "FROM pdr1_wide.forced\n",
      "WHERE coneSearch(coord, 180.09842901, -1.10007802185, 2691.60292683) \n",
      "\n",
      "Query for host Dune which should be saved to catalogs/hsc_pdr1_Dune.csv.gz\n",
      "SELECT object_id,ra,dec,gcmodel_mag,gcmodel_mag_err,gmag_psf,gmag_psf_err,gmag_kron,gmag_kron_err,gmag_aperture10,gmag_aperture10_err,gmag_aperture20,gmag_aperture20_err,gmag_aperture30,gmag_aperture30_err,gflux_kron_radius,a_g,rcmodel_mag,rcmodel_mag_err,rmag_psf,rmag_psf_err,rmag_kron,rmag_kron_err,rmag_aperture10,rmag_aperture10_err,rmag_aperture20,rmag_aperture20_err,rmag_aperture30,rmag_aperture30_err,rflux_kron_radius,a_r,icmodel_mag,icmodel_mag_err,imag_psf,imag_psf_err,imag_kron,imag_kron_err,imag_aperture10,imag_aperture10_err,imag_aperture20,imag_aperture20_err,imag_aperture30,imag_aperture30_err,iflux_kron_radius,a_i\n",
      "FROM pdr1_wide.forced\n",
      "WHERE coneSearch(coord, 221.546363418, -0.222941918742, 2463.36543572) \n",
      "\n",
      "Query for host Othello which should be saved to catalogs/hsc_pdr1_Othello.csv.gz\n",
      "SELECT object_id,ra,dec,gcmodel_mag,gcmodel_mag_err,gmag_psf,gmag_psf_err,gmag_kron,gmag_kron_err,gmag_aperture10,gmag_aperture10_err,gmag_aperture20,gmag_aperture20_err,gmag_aperture30,gmag_aperture30_err,gflux_kron_radius,a_g,rcmodel_mag,rcmodel_mag_err,rmag_psf,rmag_psf_err,rmag_kron,rmag_kron_err,rmag_aperture10,rmag_aperture10_err,rmag_aperture20,rmag_aperture20_err,rmag_aperture30,rmag_aperture30_err,rflux_kron_radius,a_r,icmodel_mag,icmodel_mag_err,imag_psf,imag_psf_err,imag_kron,imag_kron_err,imag_aperture10,imag_aperture10_err,imag_aperture20,imag_aperture20_err,imag_aperture30,imag_aperture30_err,iflux_kron_radius,a_i\n",
      "FROM pdr1_wide.forced\n",
      "WHERE coneSearch(coord, 224.594490222, -1.09101619717, 2201.0200465) \n",
      "\n"
     ]
    }
   ],
   "source": [
    "table_to_query='pdr1_wide.forced'\n",
    "\n",
    "for h in hschosts:\n",
    "    print('Query for host', h.name, 'which should be saved to', h.hscfn)\n",
    "    qry = hsc_qry_templ.format(table=table_to_query, cols=cols,\n",
    "                               hra=h.ra, hdec=h.dec, \n",
    "                               radius=h.environsarcmin*u.arcmin.to(u.arcsec))\n",
    "    print(qry, '\\n')"
   ]
  }
 ],
 "metadata": {
  "anaconda-cloud": {},
  "kernelspec": {
   "display_name": "Python [conda env:saga]",
   "language": "python",
   "name": "conda-env-saga-py"
  },
  "language_info": {
   "codemirror_mode": {
    "name": "ipython",
    "version": 2
   },
   "file_extension": ".py",
   "mimetype": "text/x-python",
   "name": "python",
   "nbconvert_exporter": "python",
   "pygments_lexer": "ipython2",
   "version": "2.7.12"
  }
 },
 "nbformat": 4,
 "nbformat_minor": 1
}
