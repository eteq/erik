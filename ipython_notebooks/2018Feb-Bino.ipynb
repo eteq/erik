{
 "cells": [
  {
   "cell_type": "markdown",
   "metadata": {},
   "source": [
    "Requires py3 and new saga"
   ]
  },
  {
   "cell_type": "markdown",
   "metadata": {},
   "source": [
    "# Imports/Setup "
   ]
  },
  {
   "cell_type": "code",
   "execution_count": 1,
   "metadata": {},
   "outputs": [],
   "source": [
    "import os\n",
    "import sys\n",
    "import urllib\n",
    "\n",
    "import numpy as np\n",
    "\n",
    "from astropy import units as u\n",
    "from astropy import table\n",
    "from astropy.coordinates import SkyCoord\n",
    "\n",
    "import tqdm"
   ]
  },
  {
   "cell_type": "code",
   "execution_count": 2,
   "metadata": {
    "collapsed": true
   },
   "outputs": [],
   "source": [
    "%matplotlib inline\n",
    "from matplotlib import style, pyplot as plt"
   ]
  },
  {
   "cell_type": "markdown",
   "metadata": {},
   "source": [
    "The below cells build the saga repo and sets the path to look for it"
   ]
  },
  {
   "cell_type": "code",
   "execution_count": 3,
   "metadata": {
    "collapsed": true
   },
   "outputs": [],
   "source": [
    "working_dir = os.path.abspath('..')"
   ]
  },
  {
   "cell_type": "code",
   "execution_count": 4,
   "metadata": {},
   "outputs": [
    {
     "name": "stdout",
     "output_type": "stream",
     "text": [
      "/Users/erik/projects/saga/saga\n",
      "running build\n",
      "running build_py\n",
      "/Users/erik/projects/saga/erik\n"
     ]
    }
   ],
   "source": [
    "%cd ../../saga\n",
    "sagadir = !pwd\n",
    "sagadir = sagadir[0]\n",
    "!python setup.py build\n",
    "%cd $working_dir"
   ]
  },
  {
   "cell_type": "code",
   "execution_count": 5,
   "metadata": {},
   "outputs": [
    {
     "name": "stdout",
     "output_type": "stream",
     "text": [
      "Adding /Users/erik/projects/saga/saga/build/lib to the python path\n"
     ]
    }
   ],
   "source": [
    "sagalibdir = os.path.join(sagadir, 'build/lib')\n",
    "print('Adding', sagalibdir, 'to the python path')\n",
    "sys.path.insert(0, sagalibdir)\n",
    "\n",
    "import SAGA as saga"
   ]
  },
  {
   "cell_type": "code",
   "execution_count": 6,
   "metadata": {},
   "outputs": [],
   "source": [
    "import decals\n",
    "import mmtbino\n",
    "\n",
    "from importlib import reload"
   ]
  },
  {
   "cell_type": "markdown",
   "metadata": {},
   "source": [
    "# Get Scooby Doo Builtins"
   ]
  },
  {
   "cell_type": "code",
   "execution_count": 7,
   "metadata": {},
   "outputs": [
    {
     "name": "stdout",
     "output_type": "stream",
     "text": [
      "Downloading https://docs.google.com/spreadsheets/d/1GJYuhqfKeuJr-IyyGF_NDLb_ezL6zBiX2aeZFHHPr_s/export?format=csv&gid=0 [Done]\n",
      "Downloading https://docs.google.com/spreadsheets/d/1b3k2eyFjHFDtmHce1xi6JKuj3ATOWYduTBFftx5oPp8/export?format=csv&gid=1136984451 [Done]\n"
     ]
    }
   ],
   "source": [
    "db = saga.Database(os.path.join(os.environ['HOME'],'Dropbox/SAGA/'))\n",
    "hostcat = saga.HostCatalog(db)\n",
    "objcat = saga.ObjectCatalog(db)"
   ]
  },
  {
   "cell_type": "code",
   "execution_count": 8,
   "metadata": {},
   "outputs": [
    {
     "data": {
      "text/html": [
       "&lt;Row index=0 masked=True&gt;\n",
       "<table id=\"table4600531992\">\n",
       "<thead><tr><th>NSAID</th><th>RA</th><th>Dec</th><th>PGC#</th><th>vhelio</th><th>distance</th><th>r</th><th>i</th><th>z</th><th>I</th><th>K</th><th>K_err</th><th>flag</th><th>K_abs</th><th>r_abs</th><th>b</th><th>dist_to_group</th><th>brightest_K_nearby</th><th>SDSS_FRACGOOD</th><th>RA_sub</th><th>Dec_sub</th><th>othername</th><th>vhelio_sub</th><th>vhelio_err</th><th>distance_sub</th><th>dist_2MASS_NSA</th><th>u</th><th>u_err</th><th>A_u</th><th>M_u</th><th>g</th><th>g_err</th><th>A_g</th><th>M_g</th><th>r_sub</th><th>r_err</th><th>A_r</th><th>M_r</th><th>i_sub</th><th>i_err</th><th>A_i</th><th>M_i</th><th>z_sub</th><th>z_err</th><th>A_z</th><th>M_z</th><th>J</th><th>J_err</th><th>A_J</th><th>M_J</th><th>H</th><th>H_err</th><th>A_H</th><th>M_H</th><th>K_sub</th><th>K_err_sub</th><th>A_K</th><th>M_K</th><th>stellar_mass</th><th>sersic_n</th><th>MK_compiled</th><th>SAGA_name</th><th>coord</th></tr></thead>\n",
       "<thead><tr><th></th><th></th><th></th><th></th><th></th><th></th><th></th><th></th><th></th><th></th><th></th><th></th><th></th><th></th><th></th><th></th><th></th><th></th><th></th><th></th><th></th><th></th><th></th><th></th><th></th><th></th><th></th><th></th><th></th><th></th><th></th><th></th><th></th><th></th><th></th><th></th><th></th><th></th><th></th><th></th><th></th><th></th><th></th><th></th><th></th><th></th><th></th><th></th><th></th><th></th><th></th><th></th><th></th><th></th><th></th><th></th><th></th><th></th><th></th><th></th><th></th><th></th><th>deg,deg</th></tr></thead>\n",
       "<thead><tr><th>int64</th><th>float64</th><th>float64</th><th>int64</th><th>float64</th><th>float64</th><th>float64</th><th>float64</th><th>float64</th><th>float64</th><th>float64</th><th>float64</th><th>int64</th><th>float64</th><th>float64</th><th>float64</th><th>float64</th><th>float64</th><th>float64</th><th>float64</th><th>float64</th><th>str16</th><th>float64</th><th>int64</th><th>float64</th><th>float64</th><th>float64</th><th>float64</th><th>float64</th><th>float64</th><th>float64</th><th>float64</th><th>float64</th><th>float64</th><th>float64</th><th>float64</th><th>float64</th><th>float64</th><th>float64</th><th>float64</th><th>float64</th><th>float64</th><th>float64</th><th>float64</th><th>float64</th><th>float64</th><th>float64</th><th>float64</th><th>float64</th><th>float64</th><th>float64</th><th>float64</th><th>float64</th><th>float64</th><th>float64</th><th>float64</th><th>float64</th><th>float64</th><th>float64</th><th>float64</th><th>float64</th><th>str11</th><th>object</th></tr></thead>\n",
       "<tr><td>161174</td><td>182.792</td><td>20.1757</td><td>38802</td><td>2448.24</td><td>36.3129</td><td>12.9512</td><td>12.6154</td><td>12.3487</td><td>11.95</td><td>9.734</td><td>0.029</td><td>0</td><td>-23.0663</td><td>-19.8491</td><td>78.4598</td><td>6.0357</td><td>12.477</td><td>0.982772</td><td>182.792</td><td>20.1757</td><td>12111016+2010324</td><td>2448.24</td><td>-1</td><td>36.3129</td><td>0.378163</td><td>14.4094</td><td>0.00555798</td><td>0.137124</td><td>-18.5503</td><td>12.9839</td><td>0.000860291</td><td>0.106846</td><td>-19.939</td><td>12.2563</td><td>0.000770509</td><td>0.0739157</td><td>-20.6268</td><td>11.8795</td><td>0.00090899</td><td>0.0549273</td><td>-20.9834</td><td>11.5798</td><td>0.00181046</td><td>0.0408558</td><td>-21.2674</td><td>10.686</td><td>0.019</td><td>0.0229349</td><td>-22.1351</td><td>10.026</td><td>0.026</td><td>0.0145243</td><td>-22.7894</td><td>9.745</td><td>0.027</td><td>0.00976916</td><td>-23.0486</td><td>10100000000.0</td><td>1.73943</td><td>-23.0663</td><td>ScoobyDoo</td><td>182.792,20.1757</td></tr>\n",
       "</table>"
      ],
      "text/plain": [
       "<Row index=0 masked=True>\n",
       "NSAID     RA     Dec    PGC#  vhelio distance    r       i       z       I       K     K_err   flag  K_abs    r_abs      b    dist_to_group brightest_K_nearby SDSS_FRACGOOD  RA_sub Dec_sub    othername     vhelio_sub vhelio_err distance_sub dist_2MASS_NSA    u      u_err      A_u      M_u       g       g_err      A_g      M_g    r_sub     r_err       A_r      M_r     i_sub    i_err       A_i      M_i     z_sub    z_err       A_z      M_z       J     J_err     A_J      M_J       H     H_err     A_H      M_H     K_sub  K_err_sub    A_K       M_K     stellar_mass sersic_n MK_compiled SAGA_name      coord     \n",
       "                                                                                                                                                                                                                                                                                                                                                                                                                                                                                                                                                                                                                          deg,deg    \n",
       "int64  float64 float64 int64 float64 float64  float64 float64 float64 float64 float64 float64 int64 float64  float64  float64    float64         float64          float64    float64 float64      str16        float64     int64      float64       float64     float64  float64   float64  float64  float64   float64   float64  float64 float64   float64    float64  float64  float64  float64    float64  float64  float64  float64    float64  float64  float64 float64  float64  float64  float64 float64  float64  float64  float64  float64   float64   float64     float64    float64    float64     str11        object    \n",
       "------ ------- ------- ----- ------- -------- ------- ------- ------- ------- ------- ------- ----- -------- -------- ------- ------------- ------------------ ------------- ------- ------- ---------------- ---------- ---------- ------------ -------------- ------- ---------- -------- -------- ------- ----------- -------- ------- ------- ----------- --------- -------- ------- ---------- --------- -------- ------- ---------- --------- -------- ------- ------- --------- -------- ------- ------- --------- -------- ------- --------- ---------- -------- ------------- -------- ----------- --------- ---------------\n",
       "161174 182.792 20.1757 38802 2448.24  36.3129 12.9512 12.6154 12.3487   11.95   9.734   0.029     0 -23.0663 -19.8491 78.4598        6.0357             12.477      0.982772 182.792 20.1757 12111016+2010324    2448.24         -1      36.3129       0.378163 14.4094 0.00555798 0.137124 -18.5503 12.9839 0.000860291 0.106846 -19.939 12.2563 0.000770509 0.0739157 -20.6268 11.8795 0.00090899 0.0549273 -20.9834 11.5798 0.00181046 0.0408558 -21.2674  10.686   0.019 0.0229349 -22.1351  10.026   0.026 0.0145243 -22.7894   9.745     0.027 0.00976916 -23.0486 10100000000.0  1.73943    -23.0663 ScoobyDoo 182.792,20.1757"
      ]
     },
     "execution_count": 8,
     "metadata": {},
     "output_type": "execute_result"
    }
   ],
   "source": [
    "scoobydoo = hostcat.load_single('ScoobyDoo')\n",
    "scoobydoo"
   ]
  },
  {
   "cell_type": "code",
   "execution_count": 9,
   "metadata": {},
   "outputs": [
    {
     "data": {
      "text/html": [
       "&lt;Table length=83096&gt;\n",
       "<table id=\"table4618623520\" class=\"table-striped table-bordered table-condensed\">\n",
       "<thead><tr><th>OBJID</th><th>RA</th><th>DEC</th><th>PHOTPTYPE</th><th>PHOT_SG</th><th>FLAGS</th><th>clean</th><th>SATURATED</th><th>BAD_COUNTS_ERROR</th><th>BINNED1</th><th>TOO_FEW_GOOD_DETECTIONS</th><th>u</th><th>g</th><th>r</th><th>i</th><th>z</th><th>u_err</th><th>g_err</th><th>r_err</th><th>i_err</th><th>z_err</th><th>MODELMAGERR_U</th><th>MODELMAGERR_G</th><th>MODELMAGERR_R</th><th>MODELMAGERR_I</th><th>MODELMAGERR_Z</th><th>EXTINCTION_U</th><th>EXTINCTION_G</th><th>EXTINCTION_R</th><th>EXTINCTION_I</th><th>EXTINCTION_Z</th><th>DERED_U</th><th>DERED_G</th><th>DERED_R</th><th>DERED_I</th><th>DERED_Z</th><th>PETRORAD_U</th><th>PETRORAD_G</th><th>PETRORAD_R</th><th>PETRORAD_I</th><th>PETRORAD_Z</th><th>PETRORADERR_U</th><th>PETRORADERR_G</th><th>PETRORADERR_R</th><th>PETRORADERR_I</th><th>PETRORADERR_Z</th><th>DEVRAD_U</th><th>DEVRADERR_U</th><th>DEVRAD_G</th><th>DEVRADERR_G</th><th>DEVRAD_R</th><th>DEVRADERR_R</th><th>DEVRAD_I</th><th>DEVRADERR_I</th><th>DEVRAD_Z</th><th>DEVRADERR_Z</th><th>DEVAB_U</th><th>DEVAB_G</th><th>DEVAB_R</th><th>DEVAB_I</th><th>DEVAB_Z</th><th>CMODELMAG_U</th><th>CMODELMAGERR_U</th><th>CMODELMAG_G</th><th>CMODELMAGERR_G</th><th>CMODELMAG_R</th><th>CMODELMAGERR_R</th><th>CMODELMAG_I</th><th>CMODELMAGERR_I</th><th>CMODELMAG_Z</th><th>CMODELMAGERR_Z</th><th>PSFMAG_U</th><th>PSFMAGERR_U</th><th>PSFMAG_G</th><th>PSFMAGERR_G</th><th>PSFMAG_R</th><th>PSFMAGERR_R</th><th>PSFMAG_I</th><th>PSFMAGERR_I</th><th>PSFMAG_Z</th><th>PSFMAGERR_Z</th><th>FIBERMAG_U</th><th>FIBERMAGERR_U</th><th>FIBERMAG_G</th><th>FIBERMAGERR_G</th><th>FIBERMAG_R</th><th>FIBERMAGERR_R</th><th>FIBERMAG_I</th><th>FIBERMAGERR_I</th><th>FIBERMAG_Z</th><th>FIBERMAGERR_Z</th><th>FRACDEV_U</th><th>FRACDEV_G</th><th>FRACDEV_R</th><th>FRACDEV_I</th><th>FRACDEV_Z</th><th>Q_U</th><th>U_U</th><th>Q_G</th><th>U_G</th><th>Q_R</th><th>U_R</th><th>Q_I</th><th>U_I</th><th>Q_Z</th><th>U_Z</th><th>EXPAB_U</th><th>EXPRAD_U</th><th>EXPPHI_U</th><th>EXPAB_G</th><th>EXPRAD_G</th><th>EXPPHI_G</th><th>EXPAB_R</th><th>EXPRAD_R</th><th>EXPPHI_R</th><th>EXPAB_I</th><th>EXPRAD_I</th><th>EXPPHI_I</th><th>EXPAB_Z</th><th>EXPRAD_Z</th><th>EXPPHI_Z</th><th>FIBER2MAG_R</th><th>FIBER2MAGERR_R</th><th>EXPMAG_R</th><th>EXPMAGERR_R</th><th>PETROR50_R</th><th>PETROR90_R</th><th>PETROMAG_R</th><th>SB_EXP_R</th><th>SB_PETRO_R</th><th>J</th><th>JERR</th><th>H</th><th>HERR</th><th>K</th><th>KERR</th><th>survey</th><th>SPEC_Z</th><th>SPEC_Z_ERR</th><th>SPEC_Z_WARN</th><th>PHOTOZ</th><th>PHOTOZ_ERR</th><th>W1</th><th>W1ERR</th><th>W2</th><th>W2ERR</th><th>HOST_RA</th><th>HOST_DEC</th><th>HOST_DIST</th><th>HOST_VHOST</th><th>HOST_MK</th><th>HOST_MR</th><th>HOST_MG</th><th>HOST_NSAID</th><th>HOST_SAGA_NAME</th><th>HOST_NGC_NAME</th><th>RHOST_ARCM</th><th>RHOST_KPC</th><th>OBJ_NSAID</th><th>SATS</th><th>PROBABILITY_CLASS1</th><th>RESCALED_PROBABILITY_CLASS1</th><th>REMOVE</th><th>TELNAME</th><th>MASKNAME</th><th>ZQUALITY</th><th>SPEC_CLASS</th><th>SPECOBJID</th><th>SPEC_REPEAT</th><th>SPEC_SN</th><th>SPEC_HA_EW</th><th>SPEC_HA_EWERR</th><th>u_mag</th><th>g_mag</th><th>r_mag</th><th>i_mag</th><th>z_mag</th><th>ug</th><th>ug_err</th><th>gr</th><th>gr_err</th><th>ri</th><th>ri_err</th><th>iz</th><th>iz_err</th><th>coord</th></tr></thead>\n",
       "<thead><tr><th></th><th></th><th></th><th></th><th></th><th></th><th></th><th></th><th></th><th></th><th></th><th></th><th></th><th></th><th></th><th></th><th></th><th></th><th></th><th></th><th></th><th></th><th></th><th></th><th></th><th></th><th></th><th></th><th></th><th></th><th></th><th></th><th></th><th></th><th></th><th></th><th></th><th></th><th></th><th></th><th></th><th></th><th></th><th></th><th></th><th></th><th></th><th></th><th></th><th></th><th></th><th></th><th></th><th></th><th></th><th></th><th></th><th></th><th></th><th></th><th></th><th></th><th></th><th></th><th></th><th></th><th></th><th></th><th></th><th></th><th></th><th></th><th></th><th></th><th></th><th></th><th></th><th></th><th></th><th></th><th></th><th></th><th></th><th></th><th></th><th></th><th></th><th></th><th></th><th></th><th></th><th></th><th></th><th></th><th></th><th></th><th></th><th></th><th></th><th></th><th></th><th></th><th></th><th></th><th></th><th></th><th></th><th></th><th></th><th></th><th></th><th></th><th></th><th></th><th></th><th></th><th></th><th></th><th></th><th></th><th></th><th></th><th></th><th></th><th></th><th></th><th></th><th></th><th></th><th></th><th></th><th></th><th></th><th></th><th></th><th></th><th></th><th></th><th></th><th></th><th></th><th></th><th></th><th></th><th></th><th></th><th></th><th></th><th></th><th></th><th></th><th></th><th></th><th></th><th></th><th></th><th></th><th></th><th></th><th></th><th></th><th></th><th></th><th></th><th></th><th></th><th></th><th></th><th></th><th></th><th></th><th></th><th></th><th></th><th></th><th></th><th></th><th></th><th></th><th></th><th></th><th></th><th></th><th></th><th></th><th>deg,deg</th></tr></thead>\n",
       "<thead><tr><th>int64</th><th>float64</th><th>float64</th><th>int16</th><th>str40</th><th>int64</th><th>int32</th><th>int64</th><th>int64</th><th>int64</th><th>int64</th><th>float32</th><th>float32</th><th>float32</th><th>float32</th><th>float32</th><th>float32</th><th>float32</th><th>float32</th><th>float32</th><th>float32</th><th>float32</th><th>float32</th><th>float32</th><th>float32</th><th>float32</th><th>float32</th><th>float32</th><th>float32</th><th>float32</th><th>float32</th><th>float32</th><th>float32</th><th>float32</th><th>float32</th><th>float32</th><th>float32</th><th>float32</th><th>float32</th><th>float32</th><th>float32</th><th>float32</th><th>float32</th><th>float32</th><th>float32</th><th>float32</th><th>float32</th><th>float32</th><th>float32</th><th>float32</th><th>float32</th><th>float32</th><th>float32</th><th>float32</th><th>float32</th><th>float32</th><th>float32</th><th>float32</th><th>float32</th><th>float32</th><th>float32</th><th>float32</th><th>float32</th><th>float32</th><th>float32</th><th>float32</th><th>float32</th><th>float32</th><th>float32</th><th>float32</th><th>float32</th><th>float32</th><th>float32</th><th>float32</th><th>float32</th><th>float32</th><th>float32</th><th>float32</th><th>float32</th><th>float32</th><th>float32</th><th>float32</th><th>float32</th><th>float32</th><th>float32</th><th>float32</th><th>float32</th><th>float32</th><th>float32</th><th>float32</th><th>float32</th><th>float32</th><th>float32</th><th>float32</th><th>float32</th><th>float32</th><th>float32</th><th>float32</th><th>float32</th><th>float32</th><th>float32</th><th>float32</th><th>float32</th><th>float32</th><th>float32</th><th>float32</th><th>float32</th><th>float32</th><th>float32</th><th>float32</th><th>float32</th><th>float32</th><th>float32</th><th>float32</th><th>float32</th><th>float32</th><th>float32</th><th>float32</th><th>float32</th><th>float32</th><th>float32</th><th>float32</th><th>float32</th><th>float32</th><th>float32</th><th>float32</th><th>float32</th><th>float32</th><th>float64</th><th>float64</th><th>float32</th><th>float32</th><th>float32</th><th>float32</th><th>float32</th><th>float32</th><th>str32</th><th>float32</th><th>float32</th><th>int32</th><th>float32</th><th>float32</th><th>float64</th><th>float64</th><th>float64</th><th>float64</th><th>float64</th><th>float64</th><th>float64</th><th>float64</th><th>float64</th><th>float64</th><th>float64</th><th>int64</th><th>str48</th><th>str48</th><th>float64</th><th>float64</th><th>int64</th><th>int64</th><th>float64</th><th>float64</th><th>int64</th><th>str6</th><th>str48</th><th>int64</th><th>str2</th><th>str48</th><th>str48</th><th>float64</th><th>float64</th><th>float64</th><th>float32</th><th>float32</th><th>float32</th><th>float32</th><th>float32</th><th>float32</th><th>float32</th><th>float32</th><th>float32</th><th>float32</th><th>float32</th><th>float32</th><th>float32</th><th>object</th></tr></thead>\n",
       "<tr><td>1237668298203201559</td><td>182.792360066</td><td>20.1756649725</td><td>3</td><td>GALAXY</td><td>1161153266978832</td><td>1</td><td>0</td><td>0</td><td>268435456</td><td>0</td><td>14.4094</td><td>12.9839</td><td>12.2563</td><td>11.8795</td><td>11.5798</td><td>0.00555798</td><td>0.000860291</td><td>0.000770509</td><td>0.00090899</td><td>0.00181046</td><td>0.00647745</td><td>0.00178272</td><td>0.00162387</td><td>0.00161787</td><td>0.00225035</td><td>0.166261</td><td>0.122333</td><td>0.0887263</td><td>0.0672785</td><td>0.0477013</td><td>14.3979</td><td>12.9198</td><td>12.1148</td><td>11.7508</td><td>11.4743</td><td>24.1227</td><td>27.8057</td><td>31.0638</td><td>31.1726</td><td>27.8346</td><td>0.700152</td><td>0.582338</td><td>0.711667</td><td>0.848577</td><td>0.74567</td><td>29.6754</td><td>0.432711</td><td>29.6697</td><td>0.223488</td><td>29.6725</td><td>0.235934</td><td>27.5823</td><td>0.15488</td><td>27.573</td><td>0.233525</td><td>0.964339</td><td>0.669669</td><td>0.708101</td><td>0.714967</td><td>0.727419</td><td>14.7634</td><td>0.00605514</td><td>13.1691</td><td>0.00178303</td><td>12.3024</td><td>0.0016535</td><td>11.9436</td><td>0.00164623</td><td>11.6509</td><td>0.00228909</td><td>19.3388</td><td>0.0338932</td><td>17.2787</td><td>0.0165346</td><td>16.5606</td><td>0.0132178</td><td>16.2954</td><td>0.0140929</td><td>15.9488</td><td>0.0166154</td><td>18.8154</td><td>0.0198391</td><td>16.9428</td><td>0.0026417</td><td>16.0655</td><td>0.00180495</td><td>15.6395</td><td>0.00160289</td><td>15.3056</td><td>0.00408309</td><td>0.0421839</td><td>0.382185</td><td>0.608471</td><td>0.675748</td><td>0.769568</td><td>-0.0860725</td><td>0.000974817</td><td>-0.103881</td><td>0.00665827</td><td>-0.09179</td><td>0.0109193</td><td>-0.0906303</td><td>0.0140036</td><td>-0.0949934</td><td>0.0162553</td><td>0.692485</td><td>15.1376</td><td>65.9793</td><td>0.717915</td><td>14.4141</td><td>73.1981</td><td>0.761143</td><td>14.3315</td><td>75.3904</td><td>0.742038</td><td>14.2484</td><td>76.9489</td><td>0.687596</td><td>13.1329</td><td>75.5375</td><td>16.7931</td><td>0.00243947</td><td>12.4764</td><td>0.00168752</td><td>14.4359</td><td>37.94</td><td>12.4363</td><td>20.0489702355</td><td>20.1633005454</td><td>13.513</td><td>0.122</td><td>12.896</td><td>0.138</td><td>12.475</td><td>0.091</td><td>sdss</td><td>0.00816645</td><td>5.10439e-06</td><td>0</td><td>0.011775</td><td>0.007571</td><td>-1.0</td><td>-1.0</td><td>-1.0</td><td>-1.0</td><td>182.792360066</td><td>20.1756649725</td><td>36.3128814697</td><td>2448.24023438</td><td>-23.0486193526</td><td>-20.6267901318</td><td>-19.9389782782</td><td>161174</td><td>161174</td><td>4158</td><td>0.00059700352225</td><td>0.00630614166369</td><td>161174</td><td>3</td><td>0.658909920465</td><td>-1.0</td><td>-1</td><td>NSA</td><td>sdss</td><td>4</td><td></td><td>1.2376682982e+18</td><td>SDSS+NSA</td><td>-99.0</td><td>1.57077538967</td><td>0.138653293252</td><td>14.2432</td><td>12.8616</td><td>12.1676</td><td>11.8122</td><td>11.5321</td><td>1.38161</td><td>0.00562416</td><td>0.693999</td><td>0.0011549</td><td>0.355394</td><td>0.00119162</td><td>0.280086</td><td>0.00202584</td><td>182.79236006600306,20.175664972535163</td></tr>\n",
       "<tr><td>1237668298203201560</td><td>182.791888051</td><td>20.1769510469</td><td>6</td><td>STAR</td><td>105624285352208</td><td>1</td><td>0</td><td>0</td><td>268435456</td><td>0</td><td>21.815</td><td>22.0198</td><td>21.8706</td><td>24.3618</td><td>22.8269</td><td>0.201554</td><td>0.136312</td><td>0.16125</td><td>0.958556</td><td>0.801701</td><td>0.201554</td><td>0.136312</td><td>0.16125</td><td>0.958556</td><td>0.801701</td><td>0.16625</td><td>0.122325</td><td>0.0887206</td><td>0.0672741</td><td>0.0476982</td><td>21.6488</td><td>21.8974</td><td>21.7818</td><td>24.2945</td><td>22.7792</td><td>0.997248</td><td>1.00323</td><td>0.916708</td><td>2.96995</td><td>2.97006</td><td>0.169797</td><td>0.132032</td><td>0.771701</td><td>-1000.0</td><td>-1000.0</td><td>0.0782705</td><td>3.84974</td><td>0.0785297</td><td>2.84852</td><td>0.0025049</td><td>8.23107</td><td>0.000486137</td><td>0.0</td><td>0.000426959</td><td>0.0</td><td>0.292288</td><td>0.0840365</td><td>0.254043</td><td>0.0695954</td><td>0.0866715</td><td>21.7994</td><td>1.00941</td><td>22.0034</td><td>0.575159</td><td>21.8723</td><td>0.560445</td><td>24.3618</td><td>5.7935</td><td>22.8269</td><td>4.88284</td><td>21.8102</td><td>0.282324</td><td>22.0062</td><td>0.275651</td><td>21.8583</td><td>0.717169</td><td>24.3617</td><td>4.90251</td><td>22.8271</td><td>1.87972</td><td>19.6148</td><td>0.0572296</td><td>18.3188</td><td>0.0132727</td><td>17.6491</td><td>0.0224869</td><td>17.3232</td><td>0.0255423</td><td>17.0679</td><td>0.032733</td><td>1.0</td><td>1.0</td><td>1.0</td><td>1.0</td><td>1.0</td><td>0.0254384</td><td>-0.0275685</td><td>0.0211161</td><td>-0.0291461</td><td>0.0137201</td><td>0.0476809</td><td>-1.91484</td><td>0.0538578</td><td>-1.91484</td><td>0.0538578</td><td>0.301147</td><td>0.127185</td><td>131.126</td><td>0.0801386</td><td>0.127292</td><td>163.76</td><td>0.395002</td><td>0.015945</td><td>44.9384</td><td>0.150523</td><td>7.52516e-06</td><td>61.4698</td><td>0.178281</td><td>7.67015e-05</td><td>61.6487</td><td>18.5244</td><td>0.0335726</td><td>21.8706</td><td>0.560437</td><td>0.483866</td><td>0.857575</td><td>22.0857</td><td>14.8791291179</td><td>22.5047650428</td><td>9999.0</td><td>9999.0</td><td>9999.0</td><td>9999.0</td><td>9999.0</td><td>9999.0</td><td></td><td>-1.0</td><td>-1.0</td><td>-1</td><td>-1.0</td><td>-1.0</td><td>-1.0</td><td>-1.0</td><td>-1.0</td><td>-1.0</td><td>182.792360066</td><td>20.1756649725</td><td>36.3128814697</td><td>2448.24023438</td><td>-23.0486193526</td><td>-20.6267901318</td><td>-19.9389782782</td><td>161174</td><td>161174</td><td>4158</td><td>0.0816150233317</td><td>0.862098597052</td><td>-1</td><td>-1</td><td>-1.0</td><td>-1.0</td><td>2</td><td></td><td></td><td>-1</td><td></td><td></td><td></td><td>-99.0</td><td>-99.0</td><td>-99.0</td><td>21.6488</td><td>21.8974</td><td>21.7818</td><td>24.2945</td><td>22.7792</td><td>-0.248669</td><td>0.243321</td><td>0.115606</td><td>0.211146</td><td>-2.51269</td><td>0.972024</td><td>1.51533</td><td>1.24962</td><td>182.7918880506822,20.17695104692562</td></tr>\n",
       "<tr><td>1237668298203201564</td><td>182.790501575</td><td>20.1760286795</td><td>3</td><td>GALAXY</td><td>316728370401552</td><td>0</td><td>0</td><td>0</td><td>268435456</td><td>281474976710656</td><td>21.2982</td><td>20.7553</td><td>23.2557</td><td>24.3618</td><td>22.8269</td><td>0.180298</td><td>0.0486051</td><td>0.606202</td><td>1.0967</td><td>0.933159</td><td>0.180298</td><td>0.0486051</td><td>0.606202</td><td>1.0967</td><td>0.933159</td><td>0.166209</td><td>0.122295</td><td>0.0886986</td><td>0.0672575</td><td>0.0476864</td><td>21.132</td><td>20.633</td><td>23.167</td><td>24.2945</td><td>22.7792</td><td>1.30776</td><td>1.30831</td><td>0.968154</td><td>2.96995</td><td>2.97006</td><td>0.319621</td><td>0.108692</td><td>0.882054</td><td>-1000.0</td><td>-1000.0</td><td>0.733178</td><td>2.35799</td><td>0.237648</td><td>0.236728</td><td>0.287615</td><td>19.1364</td><td>0.00104796</td><td>2.12688</td><td>0.000556743</td><td>2.20126</td><td>0.349948</td><td>0.411136</td><td>0.05</td><td>0.05</td><td>0.05</td><td>20.9903</td><td>0.836019</td><td>20.7554</td><td>0.151631</td><td>23.2722</td><td>3.25507</td><td>24.3618</td><td>7.32106</td><td>22.8269</td><td>6.21222</td><td>21.4892</td><td>0.226958</td><td>20.9214</td><td>0.105708</td><td>23.4317</td><td>1.19513</td><td>24.3617</td><td>2.93736</td><td>22.8271</td><td>1.41084</td><td>19.6045</td><td>0.0599546</td><td>18.3949</td><td>0.0144083</td><td>17.79</td><td>0.0116463</td><td>17.474</td><td>0.0176063</td><td>17.1811</td><td>0.0262339</td><td>0.0</td><td>0.0</td><td>0.0</td><td>1.0</td><td>1.0</td><td>-0.136026</td><td>0.0300826</td><td>-0.126317</td><td>0.0200452</td><td>-0.135816</td><td>0.0135597</td><td>-1.43003</td><td>-0.475354</td><td>-1.43003</td><td>-0.475354</td><td>0.452552</td><td>0.732751</td><td>137.581</td><td>0.461882</td><td>0.354015</td><td>84.3308</td><td>0.081944</td><td>0.379314</td><td>71.3934</td><td>0.05</td><td>8.81963e-06</td><td>61.5154</td><td>0.05</td><td>0.0</td><td>61.6886</td><td>18.6535</td><td>0.0169819</td><td>23.2722</td><td>3.25507</td><td>0.534325</td><td>0.880596</td><td>23.4313</td><td>23.1626206043</td><td>24.0658069154</td><td>9999.0</td><td>9999.0</td><td>9999.0</td><td>9999.0</td><td>9999.0</td><td>9999.0</td><td></td><td>-1.0</td><td>-1.0</td><td>-1</td><td>-9999.0</td><td>-9999.0</td><td>-1.0</td><td>-1.0</td><td>-1.0</td><td>-1.0</td><td>182.792360066</td><td>20.1756649725</td><td>36.3128814697</td><td>2448.24023438</td><td>-23.0486193526</td><td>-20.6267901318</td><td>-19.9389782782</td><td>161174</td><td>161174</td><td>4158</td><td>0.10691779594</td><td>1.12937150675</td><td>-1</td><td>-1</td><td>-1.0</td><td>-1.0</td><td>3</td><td></td><td></td><td>-1</td><td></td><td></td><td></td><td>-99.0</td><td>-99.0</td><td>-99.0</td><td>21.132</td><td>20.633</td><td>23.167</td><td>24.2945</td><td>22.7792</td><td>0.49897</td><td>0.186735</td><td>-2.53393</td><td>0.608147</td><td>-1.12756</td><td>1.25309</td><td>1.51534</td><td>1.43998</td><td>182.790501574916,20.17602867951947</td></tr>\n",
       "<tr><td>1237668298203201565</td><td>182.791159095</td><td>20.1739423612</td><td>6</td><td>STAR</td><td>105622137868560</td><td>0</td><td>0</td><td>0</td><td>268435456</td><td>0</td><td>20.8963</td><td>20.9379</td><td>22.0066</td><td>24.3618</td><td>22.8269</td><td>0.0993107</td><td>0.0517539</td><td>0.181252</td><td>0.951514</td><td>0.829765</td><td>0.0993107</td><td>0.0517539</td><td>0.181252</td><td>0.951514</td><td>0.829765</td><td>0.166222</td><td>0.122304</td><td>0.0887054</td><td>0.0672626</td><td>0.04769</td><td>20.7301</td><td>20.8156</td><td>21.9179</td><td>24.2945</td><td>22.7792</td><td>1.27799</td><td>1.16331</td><td>1.03599</td><td>2.96995</td><td>2.97006</td><td>0.236661</td><td>0.124262</td><td>0.873735</td><td>-1000.0</td><td>-1000.0</td><td>0.189501</td><td>1.0968</td><td>0.0839246</td><td>0.195397</td><td>0.122135</td><td>1.18364</td><td>0.0395993</td><td>3.07536e-10</td><td>0.0396008</td><td>4.57833e-10</td><td>0.723012</td><td>0.999766</td><td>0.583282</td><td>0.05</td><td>0.05</td><td>20.8359</td><td>0.586491</td><td>20.9507</td><td>0.128642</td><td>22.0066</td><td>0.889728</td><td>24.3618</td><td>8.67586</td><td>22.8269</td><td>6.27659</td><td>20.9851</td><td>0.152531</td><td>20.9947</td><td>0.17996</td><td>22.0904</td><td>0.528667</td><td>24.3617</td><td>4.15935</td><td>22.8271</td><td>1.79676</td><td>19.5752</td><td>0.0606114</td><td>18.5057</td><td>0.0246801</td><td>17.9</td><td>0.0172073</td><td>17.5769</td><td>0.0268914</td><td>17.2881</td><td>0.0389746</td><td>0.0</td><td>0.912003</td><td>0.0</td><td>1.0</td><td>1.0</td><td>-0.0552282</td><td>-0.0270319</td><td>-0.0482639</td><td>0.00156457</td><td>-0.0345911</td><td>0.0108359</td><td>-2.42452</td><td>0.0130501</td><td>-2.42452</td><td>0.0130501</td><td>0.714145</td><td>0.274061</td><td>107.998</td><td>0.999893</td><td>0.143302</td><td>71.2247</td><td>0.626658</td><td>0.196076</td><td>92.0907</td><td>0.05</td><td>0.0395993</td><td>61.5155</td><td>0.05</td><td>0.0396008</td><td>61.6888</td><td>18.7561</td><td>0.0252557</td><td>22.0066</td><td>0.889728</td><td>0.545904</td><td>1.00028</td><td>22.1533</td><td>20.4641900968</td><td>22.8343417632</td><td>9999.0</td><td>9999.0</td><td>9999.0</td><td>9999.0</td><td>9999.0</td><td>9999.0</td><td></td><td>-1.0</td><td>-1.0</td><td>-1</td><td>-1.0</td><td>-1.0</td><td>-1.0</td><td>-1.0</td><td>-1.0</td><td>-1.0</td><td>182.792360066</td><td>20.1756649725</td><td>36.3128814697</td><td>2448.24023438</td><td>-23.0486193526</td><td>-20.6267901318</td><td>-19.9389782782</td><td>161174</td><td>161174</td><td>4158</td><td>0.123520785051</td><td>1.3047486987</td><td>-1</td><td>-1</td><td>-1.0</td><td>-1.0</td><td>2</td><td></td><td></td><td>-1</td><td></td><td></td><td></td><td>-99.0</td><td>-99.0</td><td>-99.0</td><td>20.7301</td><td>20.8156</td><td>21.9179</td><td>24.2945</td><td>22.7792</td><td>-0.0855503</td><td>0.111987</td><td>-1.10228</td><td>0.188496</td><td>-2.37662</td><td>0.968624</td><td>1.51534</td><td>1.26249</td><td>182.7911590945833,20.173942361225578</td></tr>\n",
       "<tr><td>1237668298203201590</td><td>182.79405295</td><td>20.1757338875</td><td>6</td><td>STAR</td><td>387097114579216</td><td>0</td><td>0</td><td>0</td><td>268435456</td><td>281474976710656</td><td>21.0585</td><td>22.4555</td><td>24.802</td><td>24.3618</td><td>22.8269</td><td>0.109414</td><td>0.200424</td><td>1.15969</td><td>0.937628</td><td>0.800881</td><td>0.109414</td><td>0.200424</td><td>1.15969</td><td>0.937628</td><td>0.800881</td><td>0.166313</td><td>0.122371</td><td>0.0887539</td><td>0.0672994</td><td>0.0477161</td><td>20.8922</td><td>22.3331</td><td>24.7133</td><td>24.2945</td><td>22.7792</td><td>0.949063</td><td>1.0589</td><td>2.97039</td><td>2.96995</td><td>2.97006</td><td>0.189522</td><td>0.254752</td><td>-1000.0</td><td>-1000.0</td><td>-1000.0</td><td>0.0350439</td><td>35.4844</td><td>5.65719e-05</td><td>0.416661</td><td>0.00380981</td><td>0.0</td><td>0.00162638</td><td>2.03952</td><td>0.00448968</td><td>2.14994e-10</td><td>0.388176</td><td>0.518961</td><td>0.139705</td><td>0.05</td><td>0.05</td><td>21.0584</td><td>0.36934</td><td>22.4602</td><td>0.878966</td><td>24.802</td><td>6.42558</td><td>24.3618</td><td>7.61075</td><td>22.8269</td><td>6.3136</td><td>21.0291</td><td>0.131329</td><td>22.4344</td><td>0.329872</td><td>24.802</td><td>3.9542</td><td>24.3617</td><td>3.50459</td><td>22.8271</td><td>1.61995</td><td>19.5429</td><td>0.0496117</td><td>18.375</td><td>0.0116817</td><td>17.7129</td><td>0.0176599</td><td>17.3752</td><td>0.0190535</td><td>17.0775</td><td>0.0284766</td><td>0.0</td><td>0.0</td><td>0.0</td><td>0.0</td><td>0.0</td><td>-0.0388282</td><td>0.0570656</td><td>-0.0834799</td><td>-0.00511729</td><td>-2.12717</td><td>0.045425</td><td>-2.12717</td><td>0.045425</td><td>-2.12717</td><td>0.045425</td><td>0.0876727</td><td>0.0924674</td><td>43.2744</td><td>0.442512</td><td>6.69724e-05</td><td>111.394</td><td>0.0686622</td><td>0.00629996</td><td>67.5203</td><td>0.05</td><td>6.40692e-05</td><td>61.5169</td><td>0.05</td><td>0.00417097</td><td>61.7157</td><td>18.5875</td><td>0.0259736</td><td>24.802</td><td>6.42558</td><td>-9999.0</td><td>-9999.0</td><td>24.8021</td><td>15.7941612493</td><td>46.7973126672</td><td>9999.0</td><td>9999.0</td><td>9999.0</td><td>9999.0</td><td>9999.0</td><td>9999.0</td><td></td><td>-1.0</td><td>-1.0</td><td>-1</td><td>-1.0</td><td>-1.0</td><td>-1.0</td><td>-1.0</td><td>-1.0</td><td>-1.0</td><td>182.792360066</td><td>20.1756649725</td><td>36.3128814697</td><td>2448.24023438</td><td>-23.0486193526</td><td>-20.6267901318</td><td>-19.9389782782</td><td>161174</td><td>161174</td><td>4158</td><td>0.0954300890308</td><td>1.0080269846</td><td>-1</td><td>-1</td><td>-1.0</td><td>-1.0</td><td>3</td><td></td><td></td><td>-1</td><td></td><td></td><td></td><td>-99.0</td><td>-99.0</td><td>-99.0</td><td>20.8922</td><td>22.3331</td><td>24.7133</td><td>24.2945</td><td>22.7792</td><td>-1.44089</td><td>0.228345</td><td>-2.38019</td><td>1.17688</td><td>0.418768</td><td>1.49132</td><td>1.51533</td><td>1.23311</td><td>182.7940529501813,20.17573388745714</td></tr>\n",
       "<tr><td>1237668298203201592</td><td>182.794354867</td><td>20.1763077566</td><td>6</td><td>STAR</td><td>105656497606928</td><td>0</td><td>0</td><td>0</td><td>268435456</td><td>0</td><td>21.2048</td><td>21.2355</td><td>22.0958</td><td>24.3618</td><td>22.8269</td><td>0.12399</td><td>0.0677477</td><td>0.194494</td><td>0.9155</td><td>0.782301</td><td>0.12399</td><td>0.0677477</td><td>0.194494</td><td>0.9155</td><td>0.782301</td><td>0.166322</td><td>0.122378</td><td>0.0887588</td><td>0.0673031</td><td>0.0477188</td><td>21.0385</td><td>21.1132</td><td>22.0071</td><td>24.2945</td><td>22.7792</td><td>1.15125</td><td>0.994614</td><td>0.89238</td><td>2.96995</td><td>2.97006</td><td>0.200409</td><td>0.121532</td><td>0.187621</td><td>-1000.0</td><td>-1000.0</td><td>0.053123</td><td>32.732</td><td>0.0439691</td><td>9.85611</td><td>8.07664e-05</td><td>0.656728</td><td>0.00413575</td><td>2.5787e-10</td><td>0.00397154</td><td>1.22002e-09</td><td>0.324866</td><td>0.3507</td><td>0.43662</td><td>0.05</td><td>0.05</td><td>21.1961</td><td>0.518806</td><td>21.2282</td><td>0.176468</td><td>22.0958</td><td>0.792797</td><td>24.3618</td><td>8.09977</td><td>22.8269</td><td>7.4421</td><td>21.1857</td><td>0.170683</td><td>21.2109</td><td>0.167306</td><td>22.0828</td><td>0.390907</td><td>24.3617</td><td>2.86948</td><td>22.8271</td><td>1.33196</td><td>19.4491</td><td>0.0516556</td><td>18.3396</td><td>0.0164955</td><td>17.7106</td><td>0.0111465</td><td>17.3968</td><td>0.0162038</td><td>17.1231</td><td>0.0243793</td><td>0.0</td><td>0.0</td><td>0.0</td><td>1.0</td><td>1.0</td><td>-0.110749</td><td>-0.0245769</td><td>0.0100572</td><td>-0.0247527</td><td>0.000336591</td><td>-0.00331389</td><td>-1.72552</td><td>0.0603158</td><td>-1.72552</td><td>0.0603158</td><td>0.276147</td><td>0.0838541</td><td>44.6962</td><td>0.250747</td><td>0.0753134</td><td>172.148</td><td>0.05</td><td>0.00062479</td><td>90.1843</td><td>0.05</td><td>0.0395993</td><td>61.5166</td><td>0.05</td><td>0.0396008</td><td>61.6899</td><td>18.5805</td><td>0.0165686</td><td>22.0958</td><td>0.792797</td><td>0.46499</td><td>0.868571</td><td>22.3204</td><td>8.06996350098</td><td>22.6530391373</td><td>9999.0</td><td>9999.0</td><td>9999.0</td><td>9999.0</td><td>9999.0</td><td>9999.0</td><td></td><td>-1.0</td><td>-1.0</td><td>-1</td><td>-1.0</td><td>-1.0</td><td>-1.0</td><td>-1.0</td><td>-1.0</td><td>-1.0</td><td>182.792360066</td><td>20.1756649725</td><td>36.3128814697</td><td>2448.24023438</td><td>-23.0486193526</td><td>-20.6267901318</td><td>-19.9389782782</td><td>161174</td><td>161174</td><td>4158</td><td>0.118779315452</td><td>1.25466460731</td><td>-1</td><td>-1</td><td>-1.0</td><td>-1.0</td><td>2</td><td></td><td></td><td>-1</td><td></td><td></td><td></td><td>-99.0</td><td>-99.0</td><td>-99.0</td><td>21.0385</td><td>21.1132</td><td>22.0071</td><td>24.2945</td><td>22.7792</td><td>-0.0746498</td><td>0.141291</td><td>-0.893919</td><td>0.205956</td><td>-2.28741</td><td>0.935932</td><td>1.51532</td><td>1.20422</td><td>182.79435486676562,20.17630775663002</td></tr>\n",
       "<tr><td>1237668298203201563</td><td>182.794144154</td><td>20.1744746815</td><td>6</td><td>STAR</td><td>35287753429264</td><td>1</td><td>0</td><td>0</td><td>268435456</td><td>0</td><td>20.6724</td><td>20.668</td><td>21.0162</td><td>24.3618</td><td>22.8269</td><td>0.0823544</td><td>0.0408848</td><td>0.0729597</td><td>0.917362</td><td>0.800504</td><td>0.0823544</td><td>0.0408848</td><td>0.0729597</td><td>0.917362</td><td>0.800504</td><td>0.166312</td><td>0.122371</td><td>0.0887536</td><td>0.0672991</td><td>0.0477159</td><td>20.5061</td><td>20.5456</td><td>20.9275</td><td>24.2945</td><td>22.7792</td><td>1.23194</td><td>1.13656</td><td>1.0459</td><td>2.96995</td><td>2.97006</td><td>0.169324</td><td>0.0854999</td><td>0.167244</td><td>-1000.0</td><td>-1000.0</td><td>0.167447</td><td>0.479235</td><td>0.164569</td><td>0.134005</td><td>0.1221</td><td>0.47278</td><td>1.30275e-06</td><td>0.0</td><td>0.0037135</td><td>0.0</td><td>0.999814</td><td>0.146442</td><td>0.526438</td><td>0.0946403</td><td>0.0976522</td><td>20.6086</td><td>0.300488</td><td>20.6792</td><td>0.0830619</td><td>21.0162</td><td>0.193157</td><td>24.3618</td><td>5.47284</td><td>22.8269</td><td>4.36262</td><td>20.7657</td><td>0.118824</td><td>20.7158</td><td>0.116982</td><td>21.0921</td><td>0.210426</td><td>24.3617</td><td>3.30993</td><td>22.8271</td><td>1.60681</td><td>19.5581</td><td>0.0561457</td><td>18.5449</td><td>0.0214969</td><td>17.9631</td><td>0.0179998</td><td>17.6928</td><td>0.0234313</td><td>17.4124</td><td>0.035481</td><td>0.0</td><td>0.0</td><td>0.0</td><td>1.0</td><td>1.0</td><td>-0.0327875</td><td>-0.0381413</td><td>0.00165752</td><td>-0.0231627</td><td>0.0202189</td><td>-0.026318</td><td>-2.43071</td><td>0.00472275</td><td>-2.43071</td><td>0.00472275</td><td>0.999821</td><td>0.243962</td><td>108.252</td><td>0.339661</td><td>0.192688</td><td>140.772</td><td>0.606694</td><td>0.183641</td><td>160.144</td><td>0.155604</td><td>0.000677232</td><td>61.4828</td><td>0.222633</td><td>0.000587362</td><td>61.6883</td><td>18.7986</td><td>0.0259398</td><td>21.0162</td><td>0.193157</td><td>0.551373</td><td>1.01554</td><td>21.1529</td><td>19.3315475495</td><td>21.8556172135</td><td>9999.0</td><td>9999.0</td><td>9999.0</td><td>9999.0</td><td>9999.0</td><td>9999.0</td><td></td><td>-1.0</td><td>-1.0</td><td>-1</td><td>-1.0</td><td>-1.0</td><td>-1.0</td><td>-1.0</td><td>-1.0</td><td>-1.0</td><td>182.792360066</td><td>20.1756649725</td><td>36.3128814697</td><td>2448.24023438</td><td>-23.0486193526</td><td>-20.6267901318</td><td>-19.9389782782</td><td>161174</td><td>161174</td><td>4158</td><td>0.123272655185</td><td>1.30212770564</td><td>-1</td><td>-1</td><td>-1.0</td><td>-1.0</td><td>2</td><td></td><td></td><td>-1</td><td></td><td></td><td></td><td>-99.0</td><td>-99.0</td><td>-99.0</td><td>20.5061</td><td>20.5456</td><td>20.9275</td><td>24.2945</td><td>22.7792</td><td>-0.0394993</td><td>0.0919447</td><td>-0.38188</td><td>0.0836342</td><td>-3.36701</td><td>0.920258</td><td>1.51533</td><td>1.21752</td><td>182.79414415417665,20.174474681531525</td></tr>\n",
       "<tr><td>1237668298203201568</td><td>182.789241314</td><td>20.1762299051</td><td>6</td><td>STAR</td><td>316728370401552</td><td>0</td><td>0</td><td>0</td><td>268435456</td><td>281474976710656</td><td>21.1578</td><td>21.3086</td><td>24.802</td><td>24.3618</td><td>22.8269</td><td>0.112628</td><td>0.063972</td><td>1.02045</td><td>0.841405</td><td>0.756168</td><td>0.112628</td><td>0.063972</td><td>1.02045</td><td>0.841405</td><td>0.756168</td><td>0.166174</td><td>0.122269</td><td>0.0886799</td><td>0.0672433</td><td>0.0476763</td><td>20.9916</td><td>21.1863</td><td>24.7133</td><td>24.2946</td><td>22.7792</td><td>1.25031</td><td>1.15298</td><td>2.97039</td><td>2.96995</td><td>2.97006</td><td>0.32266</td><td>0.16503</td><td>-1000.0</td><td>-1000.0</td><td>-1000.0</td><td>0.125132</td><td>0.00312758</td><td>0.0685449</td><td>0.304769</td><td>5.63089e-05</td><td>0.0</td><td>0.00196154</td><td>0.0</td><td>0.00597242</td><td>0.0</td><td>0.932472</td><td>0.991012</td><td>0.147932</td><td>0.103494</td><td>0.0724965</td><td>21.0947</td><td>0.366279</td><td>21.3086</td><td>0.164916</td><td>24.802</td><td>5.66251</td><td>24.3618</td><td>6.07679</td><td>22.8269</td><td>5.28599</td><td>21.212</td><td>0.153771</td><td>21.3373</td><td>0.16474</td><td>24.802</td><td>2.97133</td><td>24.3617</td><td>2.16102</td><td>22.8271</td><td>1.21866</td><td>19.9448</td><td>0.0693726</td><td>18.8238</td><td>0.0223828</td><td>18.2577</td><td>0.0212108</td><td>17.9649</td><td>0.0203846</td><td>17.7116</td><td>0.0365447</td><td>0.0</td><td>0.0</td><td>1.0</td><td>1.0</td><td>1.0</td><td>-0.0275379</td><td>-0.00316282</td><td>-0.0472264</td><td>0.016745</td><td>-2.2201</td><td>-0.15097</td><td>-2.2201</td><td>-0.15097</td><td>-2.2201</td><td>-0.15097</td><td>0.959517</td><td>0.208244</td><td>44.0817</td><td>0.998952</td><td>0.105624</td><td>74.3016</td><td>0.215559</td><td>8.27419e-05</td><td>67.3581</td><td>0.202779</td><td>0.000163254</td><td>61.4787</td><td>0.11191</td><td>0.00126499</td><td>61.6882</td><td>19.1128</td><td>0.0304756</td><td>24.802</td><td>5.64425</td><td>-9999.0</td><td>-9999.0</td><td>24.8022</td><td>6.38609792584</td><td>46.7973870538</td><td>9999.0</td><td>9999.0</td><td>9999.0</td><td>9999.0</td><td>9999.0</td><td>9999.0</td><td></td><td>-1.0</td><td>-1.0</td><td>-1</td><td>-1.0</td><td>-1.0</td><td>-1.0</td><td>-1.0</td><td>-1.0</td><td>-1.0</td><td>182.792360066</td><td>20.1756649725</td><td>36.3128814697</td><td>2448.24023438</td><td>-23.0486193526</td><td>-20.6267901318</td><td>-19.9389782782</td><td>161174</td><td>161174</td><td>4158</td><td>0.178883512379</td><td>1.88954458024</td><td>-1</td><td>-1</td><td>-1.0</td><td>-1.0</td><td>3</td><td></td><td></td><td>-1</td><td></td><td></td><td></td><td>-99.0</td><td>-99.0</td><td>-99.0</td><td>20.9916</td><td>21.1863</td><td>24.7133</td><td>24.2946</td><td>22.7792</td><td>-0.194702</td><td>0.129528</td><td>-3.52705</td><td>1.02246</td><td>0.418787</td><td>1.32261</td><td>1.51534</td><td>1.13126</td><td>182.78924131364178,20.176229905081318</td></tr>\n",
       "<tr><td>1237668298203201569</td><td>182.789249564</td><td>20.177504375</td><td>3</td><td>GALAXY</td><td>105622137868560</td><td>1</td><td>0</td><td>0</td><td>268435456</td><td>0</td><td>23.0796</td><td>21.3569</td><td>21.2737</td><td>21.5634</td><td>22.8269</td><td>0.57086</td><td>0.0677735</td><td>0.0873886</td><td>0.148483</td><td>0.857486</td><td>0.57086</td><td>0.0677735</td><td>0.0873886</td><td>0.148483</td><td>0.857486</td><td>0.166173</td><td>0.122268</td><td>0.0886792</td><td>0.0672428</td><td>0.047676</td><td>22.9134</td><td>21.2346</td><td>21.185</td><td>21.4962</td><td>22.7792</td><td>0.893281</td><td>1.21976</td><td>1.16794</td><td>1.14953</td><td>2.97006</td><td>0.76809</td><td>0.144271</td><td>0.198264</td><td>0.180353</td><td>-1000.0</td><td>0.0335707</td><td>19.3356</td><td>0.294118</td><td>0.398836</td><td>0.39735</td><td>0.608748</td><td>0.568508</td><td>1.72542</td><td>0.00138726</td><td>0.0</td><td>0.159497</td><td>0.0530206</td><td>0.05</td><td>0.100005</td><td>0.09166</td><td>23.2011</td><td>2.81188</td><td>21.3839</td><td>0.156167</td><td>21.2737</td><td>0.242041</td><td>21.4904</td><td>0.722685</td><td>22.8269</td><td>4.23462</td><td>23.1968</td><td>0.89066</td><td>21.5592</td><td>0.156928</td><td>21.5512</td><td>0.154831</td><td>21.9641</td><td>0.279335</td><td>22.8271</td><td>1.00845</td><td>20.5371</td><td>0.136338</td><td>19.1949</td><td>0.0245732</td><td>18.5935</td><td>0.0160747</td><td>18.2737</td><td>0.0166925</td><td>18.0516</td><td>0.0433175</td><td>1.0</td><td>0.0</td><td>0.0</td><td>0.0</td><td>1.0</td><td>-0.0529577</td><td>0.0957203</td><td>-0.134376</td><td>0.0936555</td><td>-0.132581</td><td>0.0972324</td><td>-0.154732</td><td>0.110608</td><td>-2.16059</td><td>-0.179436</td><td>0.118921</td><td>0.157232</td><td>67.9128</td><td>0.0933084</td><td>0.420007</td><td>65.0671</td><td>0.0530984</td><td>0.48901</td><td>65.0533</td><td>0.210022</td><td>0.588072</td><td>65.5987</td><td>0.0542374</td><td>0.00191396</td><td>61.7001</td><td>19.4473</td><td>0.0235688</td><td>21.2737</td><td>0.242041</td><td>0.624189</td><td>1.06821</td><td>21.4602</td><td>21.7157677243</td><td>22.4321824203</td><td>9999.0</td><td>9999.0</td><td>9999.0</td><td>9999.0</td><td>9999.0</td><td>9999.0</td><td></td><td>-1.0</td><td>-1.0</td><td>-1</td><td>0.09988</td><td>0.057885</td><td>-1.0</td><td>-1.0</td><td>-1.0</td><td>-1.0</td><td>182.792360066</td><td>20.1756649725</td><td>36.3128814697</td><td>2448.24023438</td><td>-23.0486193526</td><td>-20.6267901318</td><td>-19.9389782782</td><td>161174</td><td>161174</td><td>4158</td><td>0.207044365648</td><td>2.18700736427</td><td>-1</td><td>-1</td><td>-1.0</td><td>-1.0</td><td>2</td><td></td><td></td><td>-1</td><td></td><td></td><td></td><td>-99.0</td><td>-99.0</td><td>-99.0</td><td>22.9134</td><td>21.2346</td><td>21.185</td><td>21.4962</td><td>22.7792</td><td>1.67879</td><td>0.574869</td><td>0.0495434</td><td>0.110589</td><td>-0.311127</td><td>0.17229</td><td>-1.28304</td><td>0.870247</td><td>182.78924956364708,20.177504374988306</td></tr>\n",
       "<tr><td>...</td><td>...</td><td>...</td><td>...</td><td>...</td><td>...</td><td>...</td><td>...</td><td>...</td><td>...</td><td>...</td><td>...</td><td>...</td><td>...</td><td>...</td><td>...</td><td>...</td><td>...</td><td>...</td><td>...</td><td>...</td><td>...</td><td>...</td><td>...</td><td>...</td><td>...</td><td>...</td><td>...</td><td>...</td><td>...</td><td>...</td><td>...</td><td>...</td><td>...</td><td>...</td><td>...</td><td>...</td><td>...</td><td>...</td><td>...</td><td>...</td><td>...</td><td>...</td><td>...</td><td>...</td><td>...</td><td>...</td><td>...</td><td>...</td><td>...</td><td>...</td><td>...</td><td>...</td><td>...</td><td>...</td><td>...</td><td>...</td><td>...</td><td>...</td><td>...</td><td>...</td><td>...</td><td>...</td><td>...</td><td>...</td><td>...</td><td>...</td><td>...</td><td>...</td><td>...</td><td>...</td><td>...</td><td>...</td><td>...</td><td>...</td><td>...</td><td>...</td><td>...</td><td>...</td><td>...</td><td>...</td><td>...</td><td>...</td><td>...</td><td>...</td><td>...</td><td>...</td><td>...</td><td>...</td><td>...</td><td>...</td><td>...</td><td>...</td><td>...</td><td>...</td><td>...</td><td>...</td><td>...</td><td>...</td><td>...</td><td>...</td><td>...</td><td>...</td><td>...</td><td>...</td><td>...</td><td>...</td><td>...</td><td>...</td><td>...</td><td>...</td><td>...</td><td>...</td><td>...</td><td>...</td><td>...</td><td>...</td><td>...</td><td>...</td><td>...</td><td>...</td><td>...</td><td>...</td><td>...</td><td>...</td><td>...</td><td>...</td><td>...</td><td>...</td><td>...</td><td>...</td><td>...</td><td>...</td><td>...</td><td>...</td><td>...</td><td>...</td><td>...</td><td>...</td><td>...</td><td>...</td><td>...</td><td>...</td><td>...</td><td>...</td><td>...</td><td>...</td><td>...</td><td>...</td><td>...</td><td>...</td><td>...</td><td>...</td><td>...</td><td>...</td><td>...</td><td>...</td><td>...</td><td>...</td><td>...</td><td>...</td><td>...</td><td>...</td><td>...</td><td>...</td><td>...</td><td>...</td><td>...</td><td>...</td><td>...</td><td>...</td><td>...</td><td>...</td><td>...</td><td>...</td><td>...</td><td>...</td><td>...</td><td>...</td><td>...</td><td>...</td><td>...</td><td>...</td><td>...</td><td>...</td><td>...</td></tr>\n",
       "<tr><td>1237668299277009212</td><td>182.931356599</td><td>20.9638928012</td><td>3</td><td>GALAXY</td><td>2450614387016</td><td>1</td><td>0</td><td>0</td><td>268435456</td><td>0</td><td>27.1916</td><td>22.3933</td><td>21.4042</td><td>20.8654</td><td>20.6791</td><td>0.481061</td><td>0.256574</td><td>0.16501</td><td>0.161691</td><td>0.512286</td><td>0.481061</td><td>0.256574</td><td>0.16501</td><td>0.161691</td><td>0.512286</td><td>0.133721</td><td>0.0983907</td><td>0.0713611</td><td>0.054111</td><td>0.0383654</td><td>27.0579</td><td>22.2949</td><td>21.3329</td><td>20.8113</td><td>20.6408</td><td>0.725607</td><td>2.97048</td><td>2.9702</td><td>2.64621</td><td>2.97051</td><td>0.641383</td><td>-1000.0</td><td>-1000.0</td><td>2.55917</td><td>-1000.0</td><td>0.0731596</td><td>14.2382</td><td>7.95697</td><td>11.2579</td><td>4.0571</td><td>4.57312</td><td>0.882189</td><td>1.10912</td><td>11.1466</td><td>0.00579528</td><td>0.986208</td><td>0.550648</td><td>0.305506</td><td>0.3995</td><td>0.05</td><td>24.8416</td><td>0.944082</td><td>22.2636</td><td>0.331121</td><td>21.312</td><td>0.178052</td><td>21.2993</td><td>0.187839</td><td>20.1524</td><td>0.461357</td><td>24.7475</td><td>0.922112</td><td>23.9416</td><td>0.350738</td><td>22.5608</td><td>0.176684</td><td>21.7593</td><td>0.136074</td><td>23.0911</td><td>0.630631</td><td>25.5345</td><td>0.893692</td><td>23.4992</td><td>0.314918</td><td>22.5977</td><td>0.227145</td><td>21.959</td><td>0.205378</td><td>21.7829</td><td>0.58239</td><td>1.0</td><td>0.0</td><td>0.419078</td><td>1.0</td><td>0.0</td><td>0.174028</td><td>0.121624</td><td>-0.0857211</td><td>-0.0793816</td><td>0.204411</td><td>0.038426</td><td>0.0835119</td><td>0.199568</td><td>0.509186</td><td>0.0517522</td><td>0.999885</td><td>0.158857</td><td>115.353</td><td>0.650112</td><td>2.23644</td><td>154.708</td><td>0.364361</td><td>2.48605</td><td>157.696</td><td>0.999731</td><td>0.33878</td><td>103.063</td><td>0.528135</td><td>3.41144</td><td>163.877</td><td>23.1637</td><td>0.248297</td><td>21.4042</td><td>0.177257</td><td>1.96347</td><td>4.18218</td><td>21.441</td><td>25.3772484451</td><td>24.9015782902</td><td>9999.0</td><td>9999.0</td><td>9999.0</td><td>9999.0</td><td>9999.0</td><td>9999.0</td><td></td><td>-1.0</td><td>-1.0</td><td>-1</td><td>0.45692</td><td>0.127155</td><td>-1.0</td><td>-1.0</td><td>-1.0</td><td>-1.0</td><td>182.792360066</td><td>20.1756649725</td><td>36.3128814697</td><td>2448.24023438</td><td>-23.0486193526</td><td>-20.6267901318</td><td>-19.9389782782</td><td>161174</td><td>161174</td><td>4158</td><td>47.9338718328</td><td>506.308556602</td><td>-1</td><td>-1</td><td>-1.0</td><td>-1.0</td><td>-1</td><td></td><td></td><td>-1</td><td></td><td></td><td></td><td>-99.0</td><td>-99.0</td><td>-99.0</td><td>27.0579</td><td>22.2949</td><td>21.3329</td><td>20.8113</td><td>20.6408</td><td>4.76305</td><td>0.545206</td><td>0.961975</td><td>0.305055</td><td>0.521626</td><td>0.231024</td><td>0.170498</td><td>0.537198</td><td>182.93135659855807,20.963892801192547</td></tr>\n",
       "<tr><td>1237668299277009617</td><td>183.014676503</td><td>20.9509327098</td><td>3</td><td>GALAXY</td><td>281543964754176</td><td>1</td><td>0</td><td>0</td><td>268435456</td><td>281474976710656</td><td>23.5919</td><td>23.0659</td><td>21.8715</td><td>21.6444</td><td>20.4111</td><td>1.2423</td><td>0.335529</td><td>0.186923</td><td>0.235463</td><td>0.28983</td><td>1.2423</td><td>0.335529</td><td>0.186923</td><td>0.235463</td><td>0.28983</td><td>0.129551</td><td>0.0953227</td><td>0.069136</td><td>0.0524237</td><td>0.0371691</td><td>23.4623</td><td>22.9706</td><td>21.8024</td><td>21.592</td><td>20.374</td><td>11.3081</td><td>2.97048</td><td>2.9702</td><td>1.69258</td><td>106.748</td><td>-1000.0</td><td>-1000.0</td><td>-1000.0</td><td>0.449727</td><td>-1000.0</td><td>4.10789</td><td>27.5773</td><td>1.71893</td><td>2.97151</td><td>1.41899</td><td>1.51989</td><td>0.767522</td><td>1.28339</td><td>29.6729</td><td>13.1336</td><td>0.05</td><td>0.276838</td><td>0.399961</td><td>0.0919938</td><td>0.376561</td><td>23.0881</td><td>1.40667</td><td>23.1373</td><td>0.343957</td><td>21.881</td><td>0.195252</td><td>21.9598</td><td>0.263952</td><td>18.3378</td><td>0.323181</td><td>24.1168</td><td>0.850542</td><td>23.8692</td><td>0.326459</td><td>22.6579</td><td>0.191421</td><td>22.3953</td><td>0.232812</td><td>21.3975</td><td>0.312174</td><td>23.7962</td><td>0.943604</td><td>23.7665</td><td>0.389742</td><td>22.692</td><td>0.247346</td><td>22.414</td><td>0.30613</td><td>21.1334</td><td>0.238954</td><td>1.0</td><td>0.689886</td><td>0.81506</td><td>1.0</td><td>0.497363</td><td>0.963691</td><td>-0.952691</td><td>0.318905</td><td>-0.0187989</td><td>0.201599</td><td>-0.0513023</td><td>0.0890657</td><td>0.0927954</td><td>0.351562</td><td>0.00677409</td><td>0.05</td><td>1.41061</td><td>52.6075</td><td>0.05</td><td>0.792976</td><td>21.5713</td><td>0.449481</td><td>1.35102</td><td>152.363</td><td>0.338895</td><td>0.754127</td><td>179.291</td><td>0.408377</td><td>3.18718</td><td>179.291</td><td>23.2626</td><td>0.269759</td><td>21.9235</td><td>0.19514</td><td>1.30945</td><td>2.48714</td><td>21.9657</td><td>24.5722706334</td><td>24.5466333389</td><td>9999.0</td><td>9999.0</td><td>9999.0</td><td>9999.0</td><td>9999.0</td><td>9999.0</td><td></td><td>-1.0</td><td>-1.0</td><td>-1</td><td>0.157592</td><td>0.111799</td><td>-1.0</td><td>-1.0</td><td>-1.0</td><td>-1.0</td><td>182.792360066</td><td>20.1756649725</td><td>36.3128814697</td><td>2448.24023438</td><td>-23.0486193526</td><td>-20.6267901318</td><td>-19.9389782782</td><td>161174</td><td>161174</td><td>4158</td><td>48.1634525983</td><td>508.733378848</td><td>-1</td><td>-1</td><td>-1.0</td><td>-1.0</td><td>-1</td><td></td><td></td><td>-1</td><td></td><td></td><td></td><td>-99.0</td><td>-99.0</td><td>-99.0</td><td>23.4623</td><td>22.9706</td><td>21.8024</td><td>21.592</td><td>20.374</td><td>0.491678</td><td>1.28682</td><td>1.16823</td><td>0.384083</td><td>0.21043</td><td>0.300638</td><td>1.21801</td><td>0.373423</td><td>183.01467650297116,20.950932709783572</td></tr>\n",
       "<tr><td>1237668299277074657</td><td>183.180171464</td><td>20.887438363</td><td>3</td><td>GALAXY</td><td>316730517885200</td><td>1</td><td>0</td><td>0</td><td>268435456</td><td>281474976710656</td><td>24.7075</td><td>24.7952</td><td>22.3489</td><td>22.1824</td><td>21.4402</td><td>1.05011</td><td>0.556928</td><td>0.152211</td><td>0.197386</td><td>0.360329</td><td>1.05011</td><td>0.556928</td><td>0.152211</td><td>0.197386</td><td>0.360329</td><td>0.128656</td><td>0.094664</td><td>0.0686582</td><td>0.0520614</td><td>0.0369122</td><td>24.5788</td><td>24.7006</td><td>22.2802</td><td>22.1303</td><td>21.4033</td><td>2.96991</td><td>11.3063</td><td>2.97008</td><td>2.97055</td><td>1.82583</td><td>-1000.0</td><td>-1000.0</td><td>-1000.0</td><td>-1000.0</td><td>0.957931</td><td>0.00419471</td><td>164.277</td><td>17.0429</td><td>41.3626</td><td>0.168921</td><td>1.51982</td><td>4.72044</td><td>5.44413</td><td>0.7192</td><td>0.00114646</td><td>0.05</td><td>0.149958</td><td>0.0739755</td><td>0.325765</td><td>0.452317</td><td>24.7066</td><td>2.13654</td><td>22.3433</td><td>0.710761</td><td>22.3544</td><td>0.20278</td><td>20.7615</td><td>0.209017</td><td>21.0296</td><td>0.405817</td><td>24.6625</td><td>1.11627</td><td>24.8098</td><td>0.520792</td><td>22.3834</td><td>0.144396</td><td>22.2377</td><td>0.188972</td><td>21.5657</td><td>0.365544</td><td>22.6329</td><td>0.314766</td><td>24.4303</td><td>0.602278</td><td>22.6706</td><td>0.243544</td><td>22.3188</td><td>0.28053</td><td>21.3986</td><td>0.438347</td><td>1.0</td><td>1.0</td><td>0.90573</td><td>0.0</td><td>1.0</td><td>2.81101</td><td>0.257444</td><td>0.257477</td><td>0.080571</td><td>-0.267839</td><td>-0.0434009</td><td>-0.0511278</td><td>0.218086</td><td>-0.0227846</td><td>-0.52964</td><td>0.196137</td><td>0.000822335</td><td>49.9205</td><td>0.349952</td><td>4.36877</td><td>139.488</td><td>0.301449</td><td>0.000760979</td><td>101.317</td><td>0.349738</td><td>3.55102</td><td>85.9049</td><td>0.33585</td><td>0.588066</td><td>35.9008</td><td>23.1164</td><td>0.240246</td><td>22.4088</td><td>0.202258</td><td>1.82647</td><td>3.05837</td><td>21.8276</td><td>8.81107697157</td><td>25.1310903592</td><td>9999.0</td><td>9999.0</td><td>9999.0</td><td>9999.0</td><td>9999.0</td><td>9999.0</td><td></td><td>-1.0</td><td>-1.0</td><td>-1</td><td>0.44989</td><td>0.059404</td><td>-1.0</td><td>-1.0</td><td>-1.0</td><td>-1.0</td><td>182.792360066</td><td>20.1756649725</td><td>36.3128814697</td><td>2448.24023438</td><td>-23.0486193526</td><td>-20.6267901318</td><td>-19.9389782782</td><td>161174</td><td>161174</td><td>4158</td><td>47.94434183</td><td>506.419140316</td><td>-1</td><td>-1</td><td>-1.0</td><td>-1.0</td><td>-1</td><td></td><td></td><td>-1</td><td></td><td></td><td></td><td>-99.0</td><td>-99.0</td><td>-99.0</td><td>24.5788</td><td>24.7006</td><td>22.2802</td><td>22.1303</td><td>21.4033</td><td>-0.121737</td><td>1.18865</td><td>2.42037</td><td>0.577354</td><td>0.149923</td><td>0.249258</td><td>0.726995</td><td>0.41085</td><td>183.1801714636842,20.88743836299605</td></tr>\n",
       "<tr><td>1237668299277074658</td><td>183.180599969</td><td>20.8871075715</td><td>3</td><td>GALAXY</td><td>545428902908176</td><td>0</td><td>0</td><td>0</td><td>268435456</td><td>281474976710656</td><td>19.9504</td><td>22.2643</td><td>21.5561</td><td>21.2534</td><td>19.7319</td><td>0.39416</td><td>1.50853</td><td>1.2602</td><td>1.25346</td><td>1.46937</td><td>0.39416</td><td>1.50853</td><td>1.2602</td><td>1.25346</td><td>1.46937</td><td>0.128744</td><td>0.0947287</td><td>0.0687051</td><td>0.052097</td><td>0.0369374</td><td>19.8217</td><td>22.1696</td><td>21.4874</td><td>21.2014</td><td>19.6949</td><td>2.29972</td><td>4.58413</td><td>4.5843</td><td>2.97055</td><td>0.827215</td><td>0.989274</td><td>-1000.0</td><td>-1000.0</td><td>-1000.0</td><td>0.803676</td><td>0.882265</td><td>0.621572</td><td>29.6697</td><td>60.3012</td><td>29.6757</td><td>29.1705</td><td>29.6797</td><td>8.18605</td><td>29.6694</td><td>69.0783</td><td>0.05</td><td>0.05</td><td>0.05</td><td>0.05</td><td>0.402535</td><td>21.2883</td><td>0.145249</td><td>21.9255</td><td>2.70079</td><td>21.5561</td><td>3.26917</td><td>20.678</td><td>1.49652</td><td>16.2371</td><td>3.17134</td><td>21.6799</td><td>0.922447</td><td>24.9164</td><td>0.531882</td><td>24.528</td><td>0.635495</td><td>23.8179</td><td>0.592754</td><td>22.6525</td><td>0.635902</td><td>21.9615</td><td>0.622217</td><td>24.2787</td><td>0.55421</td><td>23.2863</td><td>0.410294</td><td>22.7174</td><td>0.394133</td><td>22.0414</td><td>0.695821</td><td>1.0</td><td>0.0</td><td>0.0</td><td>0.0</td><td>0.0</td><td>-0.0315051</td><td>0.216543</td><td>-0.646187</td><td>-2.96569</td><td>-1.42045</td><td>-0.156604</td><td>-0.0932124</td><td>-0.0331346</td><td>0.48676</td><td>-0.543781</td><td>0.05</td><td>1.19876</td><td>103.273</td><td>0.05</td><td>24.6446</td><td>149.041</td><td>0.05</td><td>27.4337</td><td>119.111</td><td>0.05</td><td>24.6497</td><td>95.0735</td><td>0.999749</td><td>48.5775</td><td>88.8182</td><td>24.0516</td><td>0.469226</td><td>21.5561</td><td>3.26917</td><td>3.17383</td><td>4.0263</td><td>23.8456</td><td>30.7430049516</td><td>28.34895564</td><td>9999.0</td><td>9999.0</td><td>9999.0</td><td>9999.0</td><td>9999.0</td><td>9999.0</td><td></td><td>-1.0</td><td>-1.0</td><td>-1</td><td>-9999.0</td><td>-9999.0</td><td>-1.0</td><td>-1.0</td><td>-1.0</td><td>-1.0</td><td>182.792360066</td><td>20.1756649725</td><td>36.3128814697</td><td>2448.24023438</td><td>-23.0486193526</td><td>-20.6267901318</td><td>-19.9389782782</td><td>161174</td><td>161174</td><td>4158</td><td>47.9376260086</td><td>506.348208065</td><td>-1</td><td>-1</td><td>-1.0</td><td>-1.0</td><td>3</td><td></td><td></td><td>-1</td><td></td><td></td><td></td><td>-99.0</td><td>-99.0</td><td>-99.0</td><td>19.8217</td><td>22.1696</td><td>21.4874</td><td>21.2014</td><td>19.6949</td><td>-2.34795</td><td>1.55917</td><td>0.682182</td><td>1.96564</td><td>0.286081</td><td>1.77743</td><td>1.50643</td><td>1.93137</td><td>183.18059996852787,20.887107571515266</td></tr>\n",
       "<tr><td>1237668299277139986</td><td>183.266732585</td><td>20.8843003802</td><td>6</td><td>STAR</td><td>68987912192</td><td>1</td><td>0</td><td>0</td><td>268435456</td><td>0</td><td>17.2562</td><td>15.8004</td><td>15.331</td><td>15.1739</td><td>15.1328</td><td>0.00990869</td><td>0.0040226</td><td>0.00369786</td><td>0.00408369</td><td>0.00533292</td><td>0.00990869</td><td>0.0040226</td><td>0.00369786</td><td>0.00408369</td><td>0.00533292</td><td>0.146094</td><td>0.107495</td><td>0.077964</td><td>0.0591178</td><td>0.0419152</td><td>17.1101</td><td>15.6929</td><td>15.2531</td><td>15.1147</td><td>15.0909</td><td>1.35535</td><td>1.22773</td><td>1.16347</td><td>1.08993</td><td>1.10527</td><td>0.0184896</td><td>0.0224784</td><td>0.0132793</td><td>0.0181915</td><td>0.0220136</td><td>0.0720602</td><td>0.0291871</td><td>0.0256887</td><td>0.0221798</td><td>0.0210123</td><td>0.128477</td><td>2.90673e-05</td><td>0.000579364</td><td>7.22008e-05</td><td>0.00204458</td><td>0.99971</td><td>0.499979</td><td>0.372357</td><td>0.651657</td><td>0.579893</td><td>17.2498</td><td>0.00990377</td><td>15.8004</td><td>0.00402223</td><td>15.3311</td><td>0.00369787</td><td>15.1746</td><td>0.00408357</td><td>15.1336</td><td>0.0053323</td><td>17.2619</td><td>0.0242969</td><td>15.7987</td><td>0.026833</td><td>15.3313</td><td>0.0127923</td><td>15.1599</td><td>0.0134567</td><td>15.1128</td><td>0.0168697</td><td>17.5812</td><td>0.0104534</td><td>16.1289</td><td>0.00189188</td><td>15.6205</td><td>0.00157345</td><td>15.4679</td><td>0.0017225</td><td>15.4578</td><td>0.00414308</td><td>1.0</td><td>0.0</td><td>0.951034</td><td>0.749473</td><td>0.0</td><td>-0.0198806</td><td>-0.0450573</td><td>-0.104561</td><td>-0.031243</td><td>-0.0335453</td><td>-0.0297577</td><td>-0.0853274</td><td>-0.0659805</td><td>-0.100312</td><td>-0.0126431</td><td>0.999848</td><td>0.101225</td><td>136.109</td><td>0.400007</td><td>0.0419332</td><td>104.17</td><td>0.75918</td><td>0.000199045</td><td>67.6943</td><td>0.630925</td><td>0.000334791</td><td>67.3379</td><td>0.543128</td><td>1.60767e-05</td><td>69.6255</td><td>16.0908</td><td>0.00193671</td><td>15.3313</td><td>0.00369791</td><td>0.61805</td><td>1.27653</td><td>15.3677</td><td>-1.17852108743</td><td>16.3182217078</td><td>14.259</td><td>0.03</td><td>13.959</td><td>0.037</td><td>13.914</td><td>0.04</td><td></td><td>-1.0</td><td>-1.0</td><td>-1</td><td>-1.0</td><td>-1.0</td><td>-1.0</td><td>-1.0</td><td>-1.0</td><td>-1.0</td><td>182.792360066</td><td>20.1756649725</td><td>36.3128814697</td><td>2448.24023438</td><td>-23.0486193526</td><td>-20.6267901318</td><td>-19.9389782782</td><td>161174</td><td>161174</td><td>4158</td><td>50.1821595235</td><td>530.054776325</td><td>-1</td><td>-1</td><td>0.000218506010485</td><td>-1.0</td><td>-1</td><td></td><td></td><td>-1</td><td></td><td></td><td></td><td>-99.0</td><td>-99.0</td><td>-99.0</td><td>17.1101</td><td>15.6929</td><td>15.2531</td><td>15.1147</td><td>15.0909</td><td>1.41727</td><td>0.0106941</td><td>0.439787</td><td>0.00546402</td><td>0.138335</td><td>0.00550915</td><td>0.0238295</td><td>0.00671688</td><td>183.2667325845503,20.884300380165296</td></tr>\n",
       "<tr><td>1237668299277140087</td><td>183.249544235</td><td>20.8497541896</td><td>3</td><td>GALAXY</td><td>158398662447104</td><td>1</td><td>0</td><td>0</td><td>268435456</td><td>0</td><td>19.7074</td><td>18.7641</td><td>18.1802</td><td>17.8288</td><td>17.7305</td><td>0.0632121</td><td>0.0125086</td><td>0.01039</td><td>0.0113316</td><td>0.0349117</td><td>0.0632121</td><td>0.0125086</td><td>0.01039</td><td>0.0113316</td><td>0.0349117</td><td>0.146776</td><td>0.107996</td><td>0.078328</td><td>0.0593938</td><td>0.0421109</td><td>19.5606</td><td>18.6561</td><td>18.1019</td><td>17.7694</td><td>17.6884</td><td>4.94821</td><td>3.38138</td><td>3.27337</td><td>3.10144</td><td>2.98894</td><td>0.750152</td><td>0.0737631</td><td>0.0632566</td><td>0.0637115</td><td>0.213292</td><td>6.07495</td><td>2.03155</td><td>4.1073</td><td>0.202139</td><td>3.61153</td><td>0.178069</td><td>3.34759</td><td>0.152697</td><td>3.18093</td><td>0.673332</td><td>0.622037</td><td>0.559279</td><td>0.592474</td><td>0.545392</td><td>0.486805</td><td>19.2209</td><td>0.0634292</td><td>18.7107</td><td>0.0124881</td><td>18.1802</td><td>0.01039</td><td>17.873</td><td>0.0113172</td><td>17.8403</td><td>0.0465689</td><td>21.0524</td><td>0.0875984</td><td>20.2879</td><td>0.0389422</td><td>19.6018</td><td>0.0191434</td><td>19.2896</td><td>0.0203819</td><td>19.1261</td><td>0.0477296</td><td>20.8169</td><td>0.0846654</td><td>19.8885</td><td>0.017481</td><td>19.2542</td><td>0.0117856</td><td>18.8937</td><td>0.0145076</td><td>18.8045</td><td>0.0460785</td><td>0.245227</td><td>0.0</td><td>0.0</td><td>0.0</td><td>0.0</td><td>0.0988092</td><td>-0.077218</td><td>0.151572</td><td>0.0220379</td><td>0.129421</td><td>0.0450286</td><td>0.140775</td><td>0.0487089</td><td>0.158198</td><td>0.0826913</td><td>0.759765</td><td>2.47175</td><td>179.371</td><td>0.617702</td><td>1.93641</td><td>3.94327</td><td>0.646048</td><td>1.78474</td><td>8.03624</td><td>0.596577</td><td>1.73005</td><td>8.85694</td><td>0.553727</td><td>1.61079</td><td>10.3321</td><td>19.9724</td><td>0.0151772</td><td>18.1802</td><td>0.01039</td><td>1.61661</td><td>3.23879</td><td>18.2175</td><td>21.4335374583</td><td>21.2559312735</td><td>9999.0</td><td>9999.0</td><td>9999.0</td><td>9999.0</td><td>9999.0</td><td>9999.0</td><td></td><td>-1.0</td><td>-1.0</td><td>-1</td><td>0.17231</td><td>0.031343</td><td>-1.0</td><td>-1.0</td><td>-1.0</td><td>-1.0</td><td>182.792360066</td><td>20.1756649725</td><td>36.3128814697</td><td>2448.24023438</td><td>-23.0486193526</td><td>-20.6267901318</td><td>-19.9389782782</td><td>161174</td><td>161174</td><td>4158</td><td>47.9153670199</td><td>506.11310946</td><td>-1</td><td>-1</td><td>0.000168062813484</td><td>-1.0</td><td>-1</td><td></td><td></td><td>-1</td><td></td><td></td><td></td><td>-99.0</td><td>-99.0</td><td>-99.0</td><td>19.5606</td><td>18.6561</td><td>18.1019</td><td>17.7694</td><td>17.6884</td><td>0.904533</td><td>0.0644379</td><td>0.554226</td><td>0.0162609</td><td>0.33251</td><td>0.0153739</td><td>0.0809841</td><td>0.0367047</td><td>183.24954423529948,20.8497541895891</td></tr>\n",
       "<tr><td>1237668299277140180</td><td>183.247450396</td><td>20.8564288235</td><td>6</td><td>STAR</td><td>68987912448</td><td>1</td><td>0</td><td>0</td><td>268435456</td><td>0</td><td>24.478</td><td>21.1508</td><td>19.6137</td><td>18.6229</td><td>18.058</td><td>0.937502</td><td>0.0371083</td><td>0.0162887</td><td>0.0113815</td><td>0.0217149</td><td>0.937502</td><td>0.0371083</td><td>0.0162887</td><td>0.0113815</td><td>0.0217149</td><td>0.14633</td><td>0.107668</td><td>0.0780899</td><td>0.0592132</td><td>0.0419829</td><td>24.3316</td><td>21.0431</td><td>19.5356</td><td>18.5637</td><td>18.016</td><td>11.3057</td><td>1.27442</td><td>1.11319</td><td>1.09277</td><td>1.13461</td><td>-1000.0</td><td>0.182983</td><td>0.0366615</td><td>0.0255133</td><td>0.0589315</td><td>2.15258</td><td>0.00134326</td><td>0.00144239</td><td>0.253595</td><td>2.15194e-05</td><td>0.00266147</td><td>0.00036561</td><td>0.0287372</td><td>0.000267934</td><td>0.0552878</td><td>0.05</td><td>0.376716</td><td>0.696242</td><td>0.438372</td><td>0.743008</td><td>22.1406</td><td>0.444325</td><td>21.15</td><td>0.0371051</td><td>19.6137</td><td>0.0183834</td><td>18.6229</td><td>0.0113816</td><td>18.0579</td><td>0.0217148</td><td>24.2142</td><td>0.884346</td><td>21.1284</td><td>0.0430094</td><td>19.6067</td><td>0.0192755</td><td>18.6149</td><td>0.0164466</td><td>18.0383</td><td>0.0252578</td><td>23.8622</td><td>0.977642</td><td>21.5004</td><td>0.0564071</td><td>19.9176</td><td>0.0223821</td><td>18.9291</td><td>0.0149123</td><td>18.3897</td><td>0.0324188</td><td>0.0</td><td>0.0</td><td>1.0</td><td>1.0</td><td>1.0</td><td>-0.318445</td><td>-0.585374</td><td>-0.017555</td><td>-0.0672699</td><td>-0.0177625</td><td>0.00105492</td><td>-0.0585028</td><td>-0.0732075</td><td>-0.0930199</td><td>-0.0296643</td><td>0.05</td><td>2.84866</td><td>26.4409</td><td>0.407399</td><td>0.00797735</td><td>132.836</td><td>0.726446</td><td>0.000149012</td><td>136.6</td><td>0.546466</td><td>0.00619673</td><td>136.678</td><td>0.638839</td><td>5.95309e-06</td><td>104.936</td><td>20.3812</td><td>0.0241353</td><td>19.6135</td><td>0.0183816</td><td>0.597538</td><td>1.2118</td><td>19.6748</td><td>2.47510572334</td><td>20.5520542399</td><td>16.582</td><td>0.15</td><td>16.065</td><td>0.155</td><td>17.174</td><td>9999.0</td><td></td><td>-1.0</td><td>-1.0</td><td>-1</td><td>-1.0</td><td>-1.0</td><td>-1.0</td><td>-1.0</td><td>-1.0</td><td>-1.0</td><td>182.792360066</td><td>20.1756649725</td><td>36.3128814697</td><td>2448.24023438</td><td>-23.0486193526</td><td>-20.6267901318</td><td>-19.9389782782</td><td>161174</td><td>161174</td><td>4158</td><td>48.191046176</td><td>509.024820885</td><td>-1</td><td>-1</td><td>4.27009570609e-05</td><td>-1.0</td><td>-1</td><td></td><td></td><td>-1</td><td></td><td></td><td></td><td>-99.0</td><td>-99.0</td><td>-99.0</td><td>24.3316</td><td>21.0431</td><td>19.5356</td><td>18.5637</td><td>18.016</td><td>3.28851</td><td>0.938236</td><td>1.50757</td><td>0.0405259</td><td>0.971851</td><td>0.0198711</td><td>0.547745</td><td>0.0245169</td><td>183.24745039613603,20.856428823510008</td></tr>\n",
       "<tr><td>1237668299277140372</td><td>183.248629136</td><td>20.9014733388</td><td>3</td><td>GALAXY</td><td>2381827801856</td><td>1</td><td>0</td><td>0</td><td>268435456</td><td>0</td><td>22.4329</td><td>20.5061</td><td>19.623</td><td>19.2084</td><td>18.9511</td><td>0.50763</td><td>0.0386746</td><td>0.0265116</td><td>0.0281864</td><td>0.0817387</td><td>0.50763</td><td>0.0386746</td><td>0.0265116</td><td>0.0281864</td><td>0.0817387</td><td>0.143055</td><td>0.105258</td><td>0.076342</td><td>0.0578878</td><td>0.0410432</td><td>22.2898</td><td>20.4008</td><td>19.5467</td><td>19.1505</td><td>18.91</td><td>18.0184</td><td>3.32098</td><td>2.90054</td><td>2.972</td><td>3.06612</td><td>-1000.0</td><td>0.597068</td><td>0.244862</td><td>0.43243</td><td>0.151061</td><td>29.6639</td><td>29.8379</td><td>3.44519</td><td>0.613627</td><td>3.27821</td><td>0.541426</td><td>2.26157</td><td>0.313618</td><td>2.12405</td><td>0.948409</td><td>0.378489</td><td>0.271529</td><td>0.225018</td><td>0.212964</td><td>0.260926</td><td>20.0743</td><td>0.265334</td><td>20.4397</td><td>0.0386195</td><td>19.623</td><td>0.0279197</td><td>19.3219</td><td>0.0280609</td><td>19.1326</td><td>0.0805744</td><td>24.2406</td><td>0.914963</td><td>21.6585</td><td>0.0581762</td><td>20.6619</td><td>0.035273</td><td>20.2224</td><td>0.0356163</td><td>19.9434</td><td>0.0939545</td><td>23.0519</td><td>0.549945</td><td>21.429</td><td>0.0530654</td><td>20.5055</td><td>0.0363913</td><td>20.0782</td><td>0.0385639</td><td>19.8099</td><td>0.111039</td><td>0.0</td><td>0.0</td><td>0.0</td><td>0.0146645</td><td>0.0</td><td>0.220221</td><td>0.131219</td><td>0.119385</td><td>-0.336343</td><td>0.0836106</td><td>-0.320358</td><td>0.106026</td><td>-0.296919</td><td>0.200433</td><td>-0.213471</td><td>0.357824</td><td>10.0836</td><td>179.371</td><td>0.300214</td><td>1.9205</td><td>145.268</td><td>0.258411</td><td>1.81866</td><td>145.665</td><td>0.243401</td><td>1.50992</td><td>146.095</td><td>0.231609</td><td>1.34048</td><td>148.515</td><td>21.1564</td><td>0.0449631</td><td>19.623</td><td>0.0279197</td><td>1.46291</td><td>3.90502</td><td>19.5863</td><td>22.9172035297</td><td>22.4077912875</td><td>9999.0</td><td>9999.0</td><td>9999.0</td><td>9999.0</td><td>9999.0</td><td>9999.0</td><td></td><td>-1.0</td><td>-1.0</td><td>-1</td><td>0.15219</td><td>0.045457</td><td>-1.0</td><td>-1.0</td><td>-1.0</td><td>-1.0</td><td>182.792360066</td><td>20.1756649725</td><td>36.3128814697</td><td>2448.24023438</td><td>-23.0486193526</td><td>-20.6267901318</td><td>-19.9389782782</td><td>161174</td><td>161174</td><td>4158</td><td>50.5337935065</td><td>533.768683732</td><td>-1</td><td>-1</td><td>0.000227851245626</td><td>-1.0</td><td>-1</td><td></td><td></td><td>-1</td><td></td><td></td><td></td><td>-99.0</td><td>-99.0</td><td>-99.0</td><td>22.2898</td><td>20.4008</td><td>19.5467</td><td>19.1505</td><td>18.91</td><td>1.88901</td><td>0.509101</td><td>0.854149</td><td>0.0468891</td><td>0.396143</td><td>0.0386954</td><td>0.240469</td><td>0.086462</td><td>183.2486291359024,20.901473338806984</td></tr>\n",
       "<tr><td>1237668299277140573</td><td>183.337611692</td><td>20.8450515255</td><td>3</td><td>GALAXY</td><td>68987912448</td><td>1</td><td>0</td><td>0</td><td>268435456</td><td>0</td><td>25.0512</td><td>22.3157</td><td>21.5273</td><td>20.9867</td><td>20.7638</td><td>1.32233</td><td>0.127224</td><td>0.0946188</td><td>0.0896549</td><td>0.267659</td><td>1.32233</td><td>0.127224</td><td>0.0946188</td><td>0.0896549</td><td>0.267659</td><td>0.148505</td><td>0.109269</td><td>0.0792508</td><td>0.0600935</td><td>0.0426071</td><td>24.9027</td><td>22.2065</td><td>21.4481</td><td>20.9266</td><td>20.7212</td><td>2.96982</td><td>1.95157</td><td>1.6983</td><td>1.53066</td><td>1.45385</td><td>-1000.0</td><td>0.451804</td><td>0.307527</td><td>0.227814</td><td>0.413249</td><td>0.00130466</td><td>20.3276</td><td>1.0872</td><td>1.28942</td><td>0.807218</td><td>0.663588</td><td>0.873815</td><td>0.871708</td><td>0.279849</td><td>1.17893</td><td>0.0705123</td><td>0.250001</td><td>0.103718</td><td>0.126148</td><td>0.163841</td><td>25.0128</td><td>0.992151</td><td>22.0676</td><td>0.137743</td><td>21.5276</td><td>0.129335</td><td>20.9341</td><td>0.119838</td><td>20.9657</td><td>0.396505</td><td>24.4261</td><td>1.03766</td><td>22.6798</td><td>0.124641</td><td>21.9765</td><td>0.0995427</td><td>21.4401</td><td>0.0917391</td><td>21.1325</td><td>0.245663</td><td>24.9909</td><td>1.15679</td><td>22.7418</td><td>0.165532</td><td>21.9944</td><td>0.134113</td><td>21.4798</td><td>0.132912</td><td>21.2008</td><td>0.375325</td><td>0.0</td><td>1.0</td><td>0.0</td><td>0.793322</td><td>1.0</td><td>-4.47405</td><td>-4.28938</td><td>-0.0248023</td><td>-0.138069</td><td>0.0970424</td><td>0.162603</td><td>0.156606</td><td>0.0348855</td><td>0.157792</td><td>-0.051252</td><td>0.400075</td><td>0.00207151</td><td>50.4144</td><td>0.364709</td><td>0.782496</td><td>130.104</td><td>0.206011</td><td>0.828376</td><td>29.675</td><td>0.279352</td><td>0.743201</td><td>12.9438</td><td>0.327724</td><td>0.472017</td><td>155.657</td><td>22.5355</td><td>0.146934</td><td>21.5276</td><td>0.129335</td><td>0.810405</td><td>1.42816</td><td>21.6736</td><td>23.1141690537</td><td>23.2125887651</td><td>9999.0</td><td>9999.0</td><td>9999.0</td><td>9999.0</td><td>9999.0</td><td>9999.0</td><td></td><td>-1.0</td><td>-1.0</td><td>-1</td><td>0.484149</td><td>0.18265</td><td>-1.0</td><td>-1.0</td><td>-1.0</td><td>-1.0</td><td>182.792360066</td><td>20.1756649725</td><td>36.3128814697</td><td>2448.24023438</td><td>-23.0486193526</td><td>-20.6267901318</td><td>-19.9389782782</td><td>161174</td><td>161174</td><td>4158</td><td>50.5168513849</td><td>533.589743614</td><td>-1</td><td>-1</td><td>-1.0</td><td>-1.0</td><td>-1</td><td></td><td></td><td>-1</td><td></td><td></td><td></td><td>-99.0</td><td>-99.0</td><td>-99.0</td><td>24.9027</td><td>22.2065</td><td>21.4481</td><td>20.9266</td><td>20.7212</td><td>2.6962</td><td>1.32844</td><td>0.75836</td><td>0.158552</td><td>0.521494</td><td>0.130348</td><td>0.205397</td><td>0.282275</td><td>183.33761169242,20.845051525494178</td></tr>\n",
       "<tr><td>1237668299277140359</td><td>183.244183226</td><td>20.9035723451</td><td>3</td><td>GALAXY</td><td>68987912192</td><td>1</td><td>0</td><td>0</td><td>268435456</td><td>0</td><td>22.2658</td><td>20.4736</td><td>19.8202</td><td>19.5443</td><td>19.1752</td><td>0.485831</td><td>0.0406462</td><td>0.0336547</td><td>0.0410086</td><td>0.113434</td><td>0.485831</td><td>0.0406462</td><td>0.0336547</td><td>0.0410086</td><td>0.113434</td><td>0.142523</td><td>0.104867</td><td>0.0760583</td><td>0.0576727</td><td>0.0408907</td><td>22.1233</td><td>20.3688</td><td>19.7441</td><td>19.4866</td><td>19.1343</td><td>0.0974404</td><td>3.32635</td><td>4.22228</td><td>4.36185</td><td>3.47094</td><td>0.0486054</td><td>0.524165</td><td>0.677901</td><td>1.11274</td><td>1.46612</td><td>18.0288</td><td>44.1812</td><td>3.60769</td><td>0.7282</td><td>4.44136</td><td>0.727459</td><td>3.74722</td><td>0.808998</td><td>2.12436</td><td>1.01679</td><td>0.0894137</td><td>0.211261</td><td>0.167368</td><td>0.106027</td><td>0.0997716</td><td>21.7331</td><td>0.423662</td><td>20.5199</td><td>0.0405757</td><td>19.6397</td><td>0.0355372</td><td>19.5807</td><td>0.0409568</td><td>19.3047</td><td>0.111589</td><td>23.495</td><td>0.616621</td><td>21.6607</td><td>0.0582539</td><td>20.9747</td><td>0.0444736</td><td>20.7799</td><td>0.0545264</td><td>20.2913</td><td>0.126413</td><td>22.9985</td><td>0.526955</td><td>21.4683</td><td>0.0548255</td><td>20.8066</td><td>0.0470822</td><td>20.5818</td><td>0.0598023</td><td>20.1891</td><td>0.155513</td><td>0.0</td><td>0.0</td><td>0.416871</td><td>0.0</td><td>0.0</td><td>3.16382</td><td>-0.443075</td><td>0.00143992</td><td>0.280961</td><td>-0.0833318</td><td>0.288699</td><td>0.0884501</td><td>0.34803</td><td>0.0418256</td><td>0.269265</td><td>0.478499</td><td>2.73801</td><td>157.089</td><td>0.232004</td><td>1.93787</td><td>38.9938</td><td>0.213664</td><td>2.16896</td><td>42.8857</td><td>0.199994</td><td>2.07352</td><td>37.4382</td><td>0.200006</td><td>1.75028</td><td>33.8979</td><td>21.4596</td><td>0.05801</td><td>19.8202</td><td>0.0360546</td><td>1.9135</td><td>5.62392</td><td>19.6225</td><td>23.496913168</td><td>23.0270461792</td><td>9999.0</td><td>9999.0</td><td>9999.0</td><td>9999.0</td><td>9999.0</td><td>9999.0</td><td></td><td>-1.0</td><td>-1.0</td><td>-1</td><td>0.141802</td><td>0.059825</td><td>-1.0</td><td>-1.0</td><td>-1.0</td><td>-1.0</td><td>182.792360066</td><td>20.1756649725</td><td>36.3128814697</td><td>2448.24023438</td><td>-23.0486193526</td><td>-20.6267901318</td><td>-19.9389782782</td><td>161174</td><td>161174</td><td>4158</td><td>50.5162868187</td><td>533.583780752</td><td>-1</td><td>-1</td><td>0.00158350100639</td><td>-1.0</td><td>-1</td><td></td><td></td><td>-1</td><td></td><td></td><td></td><td>-99.0</td><td>-99.0</td><td>-99.0</td><td>22.1233</td><td>20.3688</td><td>19.7441</td><td>19.4866</td><td>19.1343</td><td>1.75453</td><td>0.487528</td><td>0.624626</td><td>0.0527708</td><td>0.257547</td><td>0.0530504</td><td>0.352297</td><td>0.120619</td><td>183.24418322604103,20.903572345058286</td></tr>\n",
       "</table>"
      ],
      "text/plain": [
       "<Table length=83096>\n",
       "       OBJID              RA      ...                 coord                \n",
       "                                  ...                deg,deg               \n",
       "       int64           float64    ...                 object               \n",
       "------------------- ------------- ... -------------------------------------\n",
       "1237668298203201559 182.792360066 ... 182.79236006600306,20.175664972535163\n",
       "1237668298203201560 182.791888051 ...   182.7918880506822,20.17695104692562\n",
       "1237668298203201564 182.790501575 ...    182.790501574916,20.17602867951947\n",
       "1237668298203201565 182.791159095 ...  182.7911590945833,20.173942361225578\n",
       "1237668298203201590  182.79405295 ...   182.7940529501813,20.17573388745714\n",
       "1237668298203201592 182.794354867 ...  182.79435486676562,20.17630775663002\n",
       "1237668298203201563 182.794144154 ... 182.79414415417665,20.174474681531525\n",
       "1237668298203201568 182.789241314 ... 182.78924131364178,20.176229905081318\n",
       "1237668298203201569 182.789249564 ... 182.78924956364708,20.177504374988306\n",
       "                ...           ... ...                                   ...\n",
       "1237668299277009212 182.931356599 ... 182.93135659855807,20.963892801192547\n",
       "1237668299277009617 183.014676503 ... 183.01467650297116,20.950932709783572\n",
       "1237668299277074657 183.180171464 ...   183.1801714636842,20.88743836299605\n",
       "1237668299277074658 183.180599969 ... 183.18059996852787,20.887107571515266\n",
       "1237668299277139986 183.266732585 ...  183.2667325845503,20.884300380165296\n",
       "1237668299277140087 183.249544235 ...   183.24954423529948,20.8497541895891\n",
       "1237668299277140180 183.247450396 ... 183.24745039613603,20.856428823510008\n",
       "1237668299277140372 183.248629136 ...  183.2486291359024,20.901473338806984\n",
       "1237668299277140573 183.337611692 ...    183.33761169242,20.845051525494178\n",
       "1237668299277140359 183.244183226 ... 183.24418322604103,20.903572345058286"
      ]
     },
     "execution_count": 9,
     "metadata": {},
     "output_type": "execute_result"
    }
   ],
   "source": [
    "basecatalog = objcat.load('scoobydoo')[0]\n",
    "basecatalog"
   ]
  },
  {
   "cell_type": "markdown",
   "metadata": {},
   "source": [
    "# Get Scooby Doo from DECaLS "
   ]
  },
  {
   "cell_type": "code",
   "execution_count": 10,
   "metadata": {
    "collapsed": true
   },
   "outputs": [],
   "source": [
    "decals_path = os.path.join(os.environ['HOME'], 'astrodata', 'decals', 'dr5')\n",
    "\n",
    "bricks_fn = os.path.join(decals_path, 'survey-bricks.fits.gz')\n",
    "bricks_dr_fn = os.path.join(decals_path, 'survey-bricks-dr5.fits.gz')\n",
    "\n",
    "bricks = table.Table.read(bricks_fn)\n",
    "bricks_dr = table.Table.read(bricks_dr_fn)"
   ]
  },
  {
   "cell_type": "code",
   "execution_count": 11,
   "metadata": {},
   "outputs": [
    {
     "data": {
      "text/html": [
       "&lt;Table length=21&gt;\n",
       "<table id=\"table4482801736\" class=\"table-striped table-bordered table-condensed\">\n",
       "<thead><tr><th>brickname</th><th>RA1</th><th>RA2</th><th>DEC1</th><th>DEC2</th><th>ra</th><th>dec</th><th>nexp_g</th><th>nexp_r</th><th>nexp_z</th><th>nexphist_g [6]</th><th>nexphist_r [6]</th><th>nexphist_z [6]</th><th>nobjs</th><th>npsf</th><th>nsimp</th><th>nrex</th><th>nexp</th><th>ndev</th><th>ncomp</th><th>psfsize_g</th><th>psfsize_r</th><th>psfsize_z</th><th>psfdepth_g</th><th>psfdepth_r</th><th>psfdepth_z</th><th>galdepth_g</th><th>galdepth_r</th><th>galdepth_z</th><th>ebv</th><th>trans_g</th><th>trans_r</th><th>trans_z</th><th>ext_g</th><th>ext_r</th><th>ext_z</th><th>wise_nobs [4]</th><th>trans_wise [4]</th><th>ext_w1</th><th>ext_w2</th><th>ext_w3</th><th>ext_w4</th><th>closest_host_idx</th><th>closest_host_name</th></tr></thead>\n",
       "<thead><tr><th>str32</th><th>float64</th><th>float64</th><th>float64</th><th>float64</th><th>float64</th><th>float64</th><th>int16</th><th>int16</th><th>int16</th><th>int32</th><th>int32</th><th>int32</th><th>int16</th><th>int16</th><th>int16</th><th>int16</th><th>int16</th><th>int16</th><th>int16</th><th>float32</th><th>float32</th><th>float32</th><th>float32</th><th>float32</th><th>float32</th><th>float32</th><th>float32</th><th>float32</th><th>float32</th><th>float32</th><th>float32</th><th>float32</th><th>float32</th><th>float32</th><th>float32</th><th>int16</th><th>float32</th><th>float32</th><th>float32</th><th>float32</th><th>float32</th><th>int64</th><th>str21</th></tr></thead>\n",
       "<tr><td>1822p200</td><td>182.123893805</td><td>182.389380531</td><td>19.875</td><td>20.125</td><td>182.256637168</td><td>20.0</td><td>2</td><td>2</td><td>3</td><td>74055 .. 0</td><td>220277 .. 0</td><td>3432 .. 720132</td><td>3618</td><td>1625</td><td>0</td><td>1550</td><td>357</td><td>72</td><td>14</td><td>1.2735</td><td>1.12723</td><td>1.41585</td><td>24.3534</td><td>23.9419</td><td>23.1587</td><td>24.0621</td><td>23.5724</td><td>22.8713</td><td>0.038703</td><td>0.891751</td><td>0.925728</td><td>0.95775</td><td>0.124391</td><td>0.083792</td><td>0.0468694</td><td>78 .. 14</td><td>0.993462 .. 0.999676</td><td>0.00712137</td><td>0.00437343</td><td>0.000932684</td><td>0.000352236</td><td>0</td><td>ScoobyDoo</td></tr>\n",
       "<tr><td>1822p202</td><td>182.127031019</td><td>182.392909897</td><td>20.125</td><td>20.375</td><td>182.259970458</td><td>20.25</td><td>2</td><td>1</td><td>3</td><td>92738 .. 0</td><td>871495 .. 0</td><td>8256 .. 0</td><td>3851</td><td>1658</td><td>0</td><td>1678</td><td>391</td><td>104</td><td>20</td><td>1.10123</td><td>0.934669</td><td>1.47498</td><td>24.5655</td><td>23.7695</td><td>23.0954</td><td>24.214</td><td>23.3321</td><td>22.8191</td><td>0.0335449</td><td>0.905471</td><td>0.935298</td><td>0.963276</td><td>0.107813</td><td>0.0726248</td><td>0.0406229</td><td>78 .. 12</td><td>0.994331 .. 0.999719</td><td>0.00617229</td><td>0.00379056</td><td>0.000808461</td><td>0.000305239</td><td>0</td><td>ScoobyDoo</td></tr>\n",
       "<tr><td>1822p205</td><td>182.133333333</td><td>182.4</td><td>20.375</td><td>20.625</td><td>182.266666667</td><td>20.5</td><td>1</td><td>1</td><td>3</td><td>870598 .. 0</td><td>2052735 .. 0</td><td>2216 .. 0</td><td>3362</td><td>1354</td><td>0</td><td>1519</td><td>363</td><td>112</td><td>14</td><td>1.09793</td><td>0.937531</td><td>1.48331</td><td>24.3191</td><td>23.7768</td><td>23.0743</td><td>23.9466</td><td>23.3439</td><td>22.8034</td><td>0.029409</td><td>0.916625</td><td>0.943044</td><td>0.96773</td><td>0.0945206</td><td>0.0636706</td><td>0.0356143</td><td>78 .. 14</td><td>0.995028 .. 0.999754</td><td>0.00541127</td><td>0.00332321</td><td>0.00070873</td><td>0.000267629</td><td>0</td><td>ScoobyDoo</td></tr>\n",
       "<tr><td>1825p197</td><td>182.385861561</td><td>182.65095729</td><td>19.625</td><td>19.875</td><td>182.518409426</td><td>19.75</td><td>2</td><td>2</td><td>3</td><td>90464 .. 0</td><td>89310 .. 0</td><td>2091 .. 0</td><td>3625</td><td>1590</td><td>0</td><td>1544</td><td>390</td><td>89</td><td>12</td><td>1.29125</td><td>1.15001</td><td>1.25176</td><td>24.3496</td><td>23.9371</td><td>23.0481</td><td>24.0649</td><td>23.5884</td><td>22.7343</td><td>0.0494611</td><td>0.863799</td><td>0.90608</td><td>0.946327</td><td>0.158968</td><td>0.107083</td><td>0.0598974</td><td>78 .. 14</td><td>0.991653 .. 0.999586</td><td>0.00910084</td><td>0.0055891</td><td>0.00119199</td><td>0.000450121</td><td>0</td><td>ScoobyDoo</td></tr>\n",
       "<tr><td>1825p200</td><td>182.389380531</td><td>182.654867257</td><td>19.875</td><td>20.125</td><td>182.522123894</td><td>20.0</td><td>3</td><td>2</td><td>4</td><td>2069 .. 0</td><td>47944 .. 0</td><td>4300 .. 1209244</td><td>4252</td><td>2007</td><td>0</td><td>1685</td><td>447</td><td>94</td><td>19</td><td>1.21597</td><td>1.1067</td><td>1.46343</td><td>24.639</td><td>23.9595</td><td>23.2004</td><td>24.3385</td><td>23.5972</td><td>22.9258</td><td>0.036126</td><td>0.898579</td><td>0.930497</td><td>0.960507</td><td>0.116109</td><td>0.0782128</td><td>0.0437486</td><td>78 .. 13</td><td>0.993896 .. 0.999697</td><td>0.00664718</td><td>0.00408225</td><td>0.000870635</td><td>0.000328737</td><td>0</td><td>ScoobyDoo</td></tr>\n",
       "<tr><td>1825p202</td><td>182.392909897</td><td>182.658788774</td><td>20.125</td><td>20.375</td><td>182.525849335</td><td>20.25</td><td>3</td><td>2</td><td>3</td><td>14302 .. 0</td><td>145877 .. 0</td><td>6468 .. 318542</td><td>4007</td><td>1813</td><td>0</td><td>1697</td><td>386</td><td>99</td><td>12</td><td>1.20255</td><td>1.10638</td><td>1.43073</td><td>24.6309</td><td>23.9327</td><td>23.122</td><td>24.3279</td><td>23.5609</td><td>22.8449</td><td>0.03115</td><td>0.911913</td><td>0.939775</td><td>0.965853</td><td>0.100116</td><td>0.0674397</td><td>0.0377226</td><td>78 .. 14</td><td>0.994735 .. 0.999739</td><td>0.00573163</td><td>0.00351998</td><td>0.000750694</td><td>0.000283488</td><td>0</td><td>ScoobyDoo</td></tr>\n",
       "<tr><td>1825p205</td><td>182.4</td><td>182.666666667</td><td>20.375</td><td>20.625</td><td>182.533333333</td><td>20.5</td><td>2</td><td>1</td><td>3</td><td>83620 .. 0</td><td>1404436 .. 0</td><td>710 .. 0</td><td>3745</td><td>1672</td><td>0</td><td>1603</td><td>350</td><td>100</td><td>20</td><td>1.09945</td><td>0.943159</td><td>1.48052</td><td>24.5884</td><td>23.7864</td><td>23.0866</td><td>24.2319</td><td>23.3442</td><td>22.8155</td><td>0.0291895</td><td>0.917221</td><td>0.943457</td><td>0.967967</td><td>0.093815</td><td>0.0631953</td><td>0.0353485</td><td>79 .. 14</td><td>0.995065 .. 0.999755</td><td>0.00537088</td><td>0.00329841</td><td>0.000703485</td><td>0.000265623</td><td>0</td><td>ScoobyDoo</td></tr>\n",
       "<tr><td>1825p207</td><td>182.403560831</td><td>182.670623145</td><td>20.625</td><td>20.875</td><td>182.537091988</td><td>20.75</td><td>2</td><td>1</td><td>3</td><td>147222 .. 0</td><td>1451826 .. 0</td><td>1420 .. 0</td><td>3337</td><td>1386</td><td>0</td><td>1492</td><td>333</td><td>113</td><td>13</td><td>1.10418</td><td>0.948005</td><td>1.50742</td><td>24.4785</td><td>23.6658</td><td>23.0562</td><td>24.1234</td><td>23.256</td><td>22.8011</td><td>0.0271711</td><td>0.922718</td><td>0.947261</td><td>0.970149</td><td>0.0873279</td><td>0.0588254</td><td>0.0329042</td><td>77 .. 12</td><td>0.995406 .. 0.999772</td><td>0.00499946</td><td>0.00307034</td><td>0.000654854</td><td>0.000247239</td><td>0</td><td>ScoobyDoo</td></tr>\n",
       "<tr><td>1827p197</td><td>182.65095729</td><td>182.916053019</td><td>19.625</td><td>19.875</td><td>182.783505155</td><td>19.75</td><td>2</td><td>2</td><td>3</td><td>14851 .. 0</td><td>12832 .. 0</td><td>974 .. 219441</td><td>4071</td><td>1742</td><td>0</td><td>1689</td><td>488</td><td>131</td><td>21</td><td>1.28426</td><td>1.14498</td><td>1.24175</td><td>24.3547</td><td>23.9475</td><td>23.0997</td><td>24.0658</td><td>23.594</td><td>22.772</td><td>0.0412583</td><td>0.885031</td><td>0.921023</td><td>0.955024</td><td>0.132604</td><td>0.0893242</td><td>0.0499638</td><td>78 .. 14</td><td>0.993032 .. 0.999654</td><td>0.00759152</td><td>0.00466216</td><td>0.000994347</td><td>0.000375476</td><td>0</td><td>ScoobyDoo</td></tr>\n",
       "<tr><td>1827p200</td><td>182.654867257</td><td>182.920353982</td><td>19.875</td><td>20.125</td><td>182.787610619</td><td>20.0</td><td>3</td><td>3</td><td>4</td><td>4200 .. 0</td><td>1605 .. 0</td><td>1425 .. 1951302</td><td>4596</td><td>2143</td><td>0</td><td>1811</td><td>500</td><td>127</td><td>15</td><td>1.23608</td><td>1.07735</td><td>1.49091</td><td>24.5822</td><td>24.1983</td><td>23.2029</td><td>24.2759</td><td>23.8162</td><td>22.9406</td><td>0.035318</td><td>0.900731</td><td>0.931997</td><td>0.961373</td><td>0.113512</td><td>0.0764635</td><td>0.0427701</td><td>77 .. 12</td><td>0.994033 .. 0.999704</td><td>0.00649854</td><td>0.00399092</td><td>0.000851141</td><td>0.000321422</td><td>0</td><td>ScoobyDoo</td></tr>\n",
       "<tr><td>1827p202</td><td>182.658788774</td><td>182.924667651</td><td>20.125</td><td>20.375</td><td>182.791728213</td><td>20.25</td><td>3</td><td>2</td><td>4</td><td>1124 .. 0</td><td>2295 .. 0</td><td>1818 .. 1325372</td><td>4165</td><td>2001</td><td>0</td><td>1598</td><td>443</td><td>110</td><td>13</td><td>1.21277</td><td>1.09322</td><td>1.48556</td><td>24.6202</td><td>24.043</td><td>23.1815</td><td>24.3112</td><td>23.6413</td><td>22.931</td><td>0.0318402</td><td>0.910052</td><td>0.938483</td><td>0.96511</td><td>0.102334</td><td>0.068934</td><td>0.0385585</td><td>80 .. 14</td><td>0.994619 .. 0.999733</td><td>0.00585856</td><td>0.00359796</td><td>0.000767337</td><td>0.000289767</td><td>0</td><td>ScoobyDoo</td></tr>\n",
       "<tr><td>1828p205</td><td>182.666666667</td><td>182.933333333</td><td>20.375</td><td>20.625</td><td>182.8</td><td>20.5</td><td>2</td><td>1</td><td>3</td><td>7758 .. 0</td><td>1355718 .. 0</td><td>2593 .. 25166</td><td>3706</td><td>1649</td><td>0</td><td>1623</td><td>332</td><td>88</td><td>14</td><td>1.10944</td><td>0.960309</td><td>1.49479</td><td>24.5636</td><td>23.7186</td><td>23.0814</td><td>24.2096</td><td>23.2931</td><td>22.8147</td><td>0.0266211</td><td>0.924221</td><td>0.948301</td><td>0.970744</td><td>0.0855602</td><td>0.0576347</td><td>0.0322382</td><td>77 .. 14</td><td>0.995499 .. 0.999777</td><td>0.0048983</td><td>0.00300817</td><td>0.000641579</td><td>0.000242255</td><td>0</td><td>ScoobyDoo</td></tr>\n",
       "<tr><td>1828p207</td><td>182.670623145</td><td>182.93768546</td><td>20.625</td><td>20.875</td><td>182.804154303</td><td>20.75</td><td>2</td><td>1</td><td>3</td><td>443362 .. 0</td><td>1429649 .. 0</td><td>4559 .. 0</td><td>3185</td><td>1382</td><td>0</td><td>1410</td><td>307</td><td>74</td><td>12</td><td>1.11049</td><td>0.957359</td><td>1.50548</td><td>24.2429</td><td>23.6755</td><td>23.0667</td><td>23.9552</td><td>23.252</td><td>22.8026</td><td>0.0252309</td><td>0.928033</td><td>0.950933</td><td>0.972251</td><td>0.081092</td><td>0.0546248</td><td>0.0305545</td><td>79 .. 12</td><td>0.995733 .. 0.999789</td><td>0.00464246</td><td>0.00285107</td><td>0.000608038</td><td>0.000229633</td><td>0</td><td>ScoobyDoo</td></tr>\n",
       "<tr><td>1830p197</td><td>182.916053019</td><td>183.181148748</td><td>19.625</td><td>19.875</td><td>183.048600884</td><td>19.75</td><td>2</td><td>2</td><td>3</td><td>135693 .. 0</td><td>145963 .. 0</td><td>18508 .. 0</td><td>4107</td><td>1755</td><td>0</td><td>1699</td><td>452</td><td>170</td><td>31</td><td>1.28263</td><td>1.1551</td><td>1.25943</td><td>24.352</td><td>23.9391</td><td>23.0607</td><td>24.0661</td><td>23.5984</td><td>22.7581</td><td>0.0368454</td><td>0.896668</td><td>0.929163</td><td>0.959737</td><td>0.118421</td><td>0.0797703</td><td>0.0446198</td><td>77 .. 14</td><td>0.993775 .. 0.999691</td><td>0.00677956</td><td>0.00416351</td><td>0.000887993</td><td>0.000335275</td><td>0</td><td>ScoobyDoo</td></tr>\n",
       "<tr><td>1830p200</td><td>182.920353982</td><td>183.185840708</td><td>19.875</td><td>20.125</td><td>183.053097345</td><td>20.0</td><td>2</td><td>2</td><td>4</td><td>135657 .. 0</td><td>135119 .. 0</td><td>1511 .. 1313450</td><td>4031</td><td>1834</td><td>0</td><td>1676</td><td>400</td><td>105</td><td>16</td><td>1.27595</td><td>1.15292</td><td>1.46454</td><td>24.2906</td><td>23.8871</td><td>23.2231</td><td>24.0168</td><td>23.5431</td><td>22.9523</td><td>0.0326513</td><td>0.90787</td><td>0.936966</td><td>0.964237</td><td>0.104941</td><td>0.07069</td><td>0.0395407</td><td>76 .. 12</td><td>0.994482 .. 0.999726</td><td>0.00600783</td><td>0.00368958</td><td>0.000786895</td><td>0.000297147</td><td>0</td><td>ScoobyDoo</td></tr>\n",
       "<tr><td>1830p202</td><td>182.924667651</td><td>183.190546529</td><td>20.125</td><td>20.375</td><td>183.05760709</td><td>20.25</td><td>2</td><td>2</td><td>3</td><td>6597 .. 0</td><td>12181 .. 0</td><td>5190 .. 986277</td><td>3946</td><td>1850</td><td>0</td><td>1582</td><td>398</td><td>106</td><td>10</td><td>1.27561</td><td>1.11144</td><td>1.51098</td><td>24.3923</td><td>24.0325</td><td>23.1731</td><td>24.0717</td><td>23.6321</td><td>22.8853</td><td>0.0285594</td><td>0.918933</td><td>0.944643</td><td>0.968648</td><td>0.09179</td><td>0.0618311</td><td>0.0345855</td><td>79 .. 14</td><td>0.995172 .. 0.999761</td><td>0.00525499</td><td>0.00322721</td><td>0.000688267</td><td>0.000259926</td><td>0</td><td>ScoobyDoo</td></tr>\n",
       "<tr><td>1830p205</td><td>182.933333333</td><td>183.2</td><td>20.375</td><td>20.625</td><td>183.066666667</td><td>20.5</td><td>2</td><td>1</td><td>2</td><td>910337 .. 0</td><td>1497749 .. 0</td><td>46765 .. 0</td><td>3242</td><td>1422</td><td>0</td><td>1354</td><td>325</td><td>130</td><td>11</td><td>1.30823</td><td>1.12538</td><td>1.53159</td><td>24.2724</td><td>23.7219</td><td>23.0327</td><td>23.9831</td><td>23.299</td><td>22.7949</td><td>0.0265208</td><td>0.924496</td><td>0.948491</td><td>0.970853</td><td>0.0852378</td><td>0.0574175</td><td>0.0321167</td><td>79 .. 14</td><td>0.995516 .. 0.999778</td><td>0.00487984</td><td>0.00299681</td><td>0.000639183</td><td>0.000241349</td><td>0</td><td>ScoobyDoo</td></tr>\n",
       "<tr><td>1830p207</td><td>182.93768546</td><td>183.204747774</td><td>20.625</td><td>20.875</td><td>183.071216617</td><td>20.75</td><td>2</td><td>2</td><td>3</td><td>168188 .. 0</td><td>159367 .. 0</td><td>3214 .. 102704</td><td>3555</td><td>1533</td><td>0</td><td>1528</td><td>363</td><td>122</td><td>9</td><td>1.32633</td><td>1.13295</td><td>1.48932</td><td>24.1891</td><td>23.8889</td><td>23.0749</td><td>23.9023</td><td>23.5311</td><td>22.8061</td><td>0.02447</td><td>0.930125</td><td>0.952377</td><td>0.973076</td><td>0.0786466</td><td>0.0529776</td><td>0.0296332</td><td>77 .. 12</td><td>0.995862 .. 0.999795</td><td>0.00450248</td><td>0.0027651</td><td>0.000589713</td><td>0.000222707</td><td>0</td><td>ScoobyDoo</td></tr>\n",
       "<tr><td>1833p200</td><td>183.185840708</td><td>183.451327434</td><td>19.875</td><td>20.125</td><td>183.318584071</td><td>20.0</td><td>2</td><td>2</td><td>3</td><td>89630 .. 0</td><td>88273 .. 0</td><td>1162 .. 0</td><td>3522</td><td>1644</td><td>0</td><td>1481</td><td>320</td><td>65</td><td>12</td><td>1.28121</td><td>1.1537</td><td>1.25774</td><td>24.2943</td><td>23.8911</td><td>23.0689</td><td>23.9922</td><td>23.5427</td><td>22.7608</td><td>0.0318414</td><td>0.910049</td><td>0.938481</td><td>0.965108</td><td>0.102338</td><td>0.0689366</td><td>0.0385599</td><td>77 .. 12</td><td>0.994618 .. 0.999733</td><td>0.00585876</td><td>0.00359809</td><td>0.000767402</td><td>0.000289767</td><td>0</td><td>ScoobyDoo</td></tr>\n",
       "<tr><td>1833p202</td><td>183.190546529</td><td>183.456425406</td><td>20.125</td><td>20.375</td><td>183.323485968</td><td>20.25</td><td>2</td><td>2</td><td>3</td><td>258442 .. 0</td><td>258952 .. 0</td><td>1005 .. 763937</td><td>3414</td><td>1704</td><td>0</td><td>1368</td><td>254</td><td>80</td><td>8</td><td>1.40812</td><td>1.23721</td><td>1.44855</td><td>24.2652</td><td>23.8565</td><td>23.1342</td><td>24.0075</td><td>23.5414</td><td>22.8519</td><td>0.0250344</td><td>0.928572</td><td>0.951306</td><td>0.972464</td><td>0.0804606</td><td>0.0541996</td><td>0.0303167</td><td>79 .. 14</td><td>0.995766 .. 0.99979</td><td>0.00460633</td><td>0.00282888</td><td>0.000603311</td><td>0.00022782</td><td>0</td><td>ScoobyDoo</td></tr>\n",
       "<tr><td>1833p205</td><td>183.2</td><td>183.466666667</td><td>20.375</td><td>20.625</td><td>183.333333333</td><td>20.5</td><td>2</td><td>2</td><td>3</td><td>265595 .. 0</td><td>59486 .. 0</td><td>31138 .. 12906</td><td>3945</td><td>1809</td><td>0</td><td>1591</td><td>383</td><td>141</td><td>21</td><td>1.33304</td><td>1.15874</td><td>1.489</td><td>24.2732</td><td>23.9458</td><td>23.0914</td><td>23.9927</td><td>23.5943</td><td>22.8194</td><td>0.0283809</td><td>0.919419</td><td>0.944979</td><td>0.968841</td><td>0.0912162</td><td>0.0614446</td><td>0.0343692</td><td>78 .. 14</td><td>0.995202 .. 0.999762</td><td>0.00522209</td><td>0.00320702</td><td>0.000683993</td><td>0.000258243</td><td>0</td><td>ScoobyDoo</td></tr>\n",
       "</table>"
      ],
      "text/plain": [
       "<Table length=21>\n",
       "brickname      RA1           RA2      ... closest_host_idx closest_host_name\n",
       "  str32      float64       float64    ...      int64             str21      \n",
       "--------- ------------- ------------- ... ---------------- -----------------\n",
       " 1822p200 182.123893805 182.389380531 ...                0         ScoobyDoo\n",
       " 1822p202 182.127031019 182.392909897 ...                0         ScoobyDoo\n",
       " 1822p205 182.133333333         182.4 ...                0         ScoobyDoo\n",
       " 1825p197 182.385861561  182.65095729 ...                0         ScoobyDoo\n",
       " 1825p200 182.389380531 182.654867257 ...                0         ScoobyDoo\n",
       " 1825p202 182.392909897 182.658788774 ...                0         ScoobyDoo\n",
       " 1825p205         182.4 182.666666667 ...                0         ScoobyDoo\n",
       " 1825p207 182.403560831 182.670623145 ...                0         ScoobyDoo\n",
       " 1827p197  182.65095729 182.916053019 ...                0         ScoobyDoo\n",
       " 1827p200 182.654867257 182.920353982 ...                0         ScoobyDoo\n",
       " 1827p202 182.658788774 182.924667651 ...                0         ScoobyDoo\n",
       " 1828p205 182.666666667 182.933333333 ...                0         ScoobyDoo\n",
       " 1828p207 182.670623145  182.93768546 ...                0         ScoobyDoo\n",
       " 1830p197 182.916053019 183.181148748 ...                0         ScoobyDoo\n",
       " 1830p200 182.920353982 183.185840708 ...                0         ScoobyDoo\n",
       " 1830p202 182.924667651 183.190546529 ...                0         ScoobyDoo\n",
       " 1830p205 182.933333333         183.2 ...                0         ScoobyDoo\n",
       " 1830p207  182.93768546 183.204747774 ...                0         ScoobyDoo\n",
       " 1833p200 183.185840708 183.451327434 ...                0         ScoobyDoo\n",
       " 1833p202 183.190546529 183.456425406 ...                0         ScoobyDoo\n",
       " 1833p205         183.2 183.466666667 ...                0         ScoobyDoo"
      ]
     },
     "execution_count": 11,
     "metadata": {},
     "output_type": "execute_result"
    }
   ],
   "source": [
    "bricks_needed = decals.find_host_bricks(table.Table(scoobydoo), bricks_dr, bricks, environfactor=300*u.kpc)\n",
    "bricks_needed"
   ]
  },
  {
   "cell_type": "code",
   "execution_count": 12,
   "metadata": {},
   "outputs": [
    {
     "name": "stdout",
     "output_type": "stream",
     "text": [
      "decals_dr5/catalogs/tractor-1822p200.fits already exists, skipping...\n",
      "decals_dr5/catalogs/tractor-1822p202.fits already exists, skipping...\n",
      "decals_dr5/catalogs/tractor-1822p205.fits already exists, skipping...\n",
      "decals_dr5/catalogs/tractor-1825p197.fits already exists, skipping...\n",
      "decals_dr5/catalogs/tractor-1825p200.fits already exists, skipping...\n",
      "decals_dr5/catalogs/tractor-1825p202.fits already exists, skipping...\n",
      "decals_dr5/catalogs/tractor-1825p205.fits already exists, skipping...\n",
      "decals_dr5/catalogs/tractor-1825p207.fits already exists, skipping...\n",
      "decals_dr5/catalogs/tractor-1827p197.fits already exists, skipping...\n",
      "decals_dr5/catalogs/tractor-1827p200.fits already exists, skipping...\n",
      "decals_dr5/catalogs/tractor-1827p202.fits already exists, skipping...\n",
      "decals_dr5/catalogs/tractor-1828p205.fits already exists, skipping...\n",
      "decals_dr5/catalogs/tractor-1828p207.fits already exists, skipping...\n",
      "decals_dr5/catalogs/tractor-1830p197.fits already exists, skipping...\n",
      "decals_dr5/catalogs/tractor-1830p200.fits already exists, skipping...\n",
      "decals_dr5/catalogs/tractor-1830p202.fits already exists, skipping...\n",
      "decals_dr5/catalogs/tractor-1830p205.fits already exists, skipping...\n",
      "decals_dr5/catalogs/tractor-1830p207.fits already exists, skipping...\n",
      "decals_dr5/catalogs/tractor-1833p200.fits already exists, skipping...\n",
      "decals_dr5/catalogs/tractor-1833p202.fits already exists, skipping...\n",
      "decals_dr5/catalogs/tractor-1833p205.fits already exists, skipping...\n"
     ]
    }
   ],
   "source": [
    "decals.download_bricks(bricks_needed, 5);"
   ]
  },
  {
   "cell_type": "code",
   "execution_count": 13,
   "metadata": {},
   "outputs": [
    {
     "data": {
      "application/vnd.jupyter.widget-view+json": {
       "model_id": "1a3b699489cf4b0f8ac1abb841b150c4"
      }
     },
     "metadata": {},
     "output_type": "display_data"
    },
    {
     "name": "stdout",
     "output_type": "stream",
     "text": [
      "\n"
     ]
    }
   ],
   "source": [
    "brick_cats = []\n",
    "for row in tqdm.tqdm_notebook(bricks_needed):\n",
    "    cat = table.Table.read(row['local_fn'])\n",
    "    brick_cats.append(cat)"
   ]
  },
  {
   "cell_type": "code",
   "execution_count": 71,
   "metadata": {},
   "outputs": [
    {
     "name": "stderr",
     "output_type": "stream",
     "text": [
      "/Users/erik/projects/saga/erik/decals.py:116: RuntimeWarning: divide by zero encountered in log10\n",
      "  mag = np.array(22.5 - 2.5*np.log10(flux))\n",
      "/Users/erik/miniconda3/envs/saga3/lib/python3.6/site-packages/astropy-3.0.dev19816-py3.6-macosx-10.7-x86_64.egg/astropy/units/quantity.py:1105: RuntimeWarning: divide by zero encountered in power\n",
      "  return super(Quantity, self).__pow__(other)\n",
      "/Users/erik/projects/saga/erik/decals.py:116: RuntimeWarning: invalid value encountered in log10\n",
      "  mag = np.array(22.5 - 2.5*np.log10(flux))\n",
      "/Users/erik/miniconda3/envs/saga3/lib/python3.6/site-packages/astropy-3.0.dev19816-py3.6-macosx-10.7-x86_64.egg/astropy/units/quantity.py:1059: RuntimeWarning: divide by zero encountered in true_divide\n",
      "  return super(Quantity, self).__truediv__(other)\n"
     ]
    },
    {
     "data": {
      "text/html": [
       "&lt;Table length=80766&gt;\n",
       "<table id=\"table5222371056\" class=\"table-striped table-bordered table-condensed\">\n",
       "<thead><tr><th>release</th><th>brickid</th><th>brickname</th><th>objid</th><th>brick_primary</th><th>type</th><th>ra</th><th>dec</th><th>ra_ivar</th><th>dec_ivar</th><th>bx</th><th>by</th><th>dchisq [5]</th><th>ebv</th><th>mjd_min</th><th>mjd_max</th><th>flux_u</th><th>flux_g</th><th>flux_r</th><th>flux_i</th><th>flux_z</th><th>flux_Y</th><th>flux_w1</th><th>flux_w2</th><th>flux_w3</th><th>flux_w4</th><th>flux_ivar_u</th><th>flux_ivar_g</th><th>flux_ivar_r</th><th>flux_ivar_i</th><th>flux_ivar_z</th><th>flux_ivar_Y</th><th>flux_ivar_w1</th><th>flux_ivar_w2</th><th>flux_ivar_w3</th><th>flux_ivar_w4</th><th>apflux_u [8]</th><th>apflux_g [8]</th><th>apflux_r [8]</th><th>apflux_i [8]</th><th>apflux_z [8]</th><th>apflux_Y [8]</th><th>apflux_resid_u [8]</th><th>apflux_resid_g [8]</th><th>apflux_resid_r [8]</th><th>apflux_resid_i [8]</th><th>apflux_resid_z [8]</th><th>apflux_resid_Y [8]</th><th>apflux_ivar_u [8]</th><th>apflux_ivar_g [8]</th><th>apflux_ivar_r [8]</th><th>apflux_ivar_i [8]</th><th>apflux_ivar_z [8]</th><th>apflux_ivar_Y [8]</th><th>mw_transmission_u</th><th>mw_transmission_g</th><th>mw_transmission_r</th><th>mw_transmission_i</th><th>mw_transmission_z</th><th>mw_transmission_Y</th><th>mw_transmission_w1</th><th>mw_transmission_w2</th><th>mw_transmission_w3</th><th>mw_transmission_w4</th><th>nobs_u</th><th>nobs_g</th><th>nobs_r</th><th>nobs_i</th><th>nobs_z</th><th>nobs_Y</th><th>nobs_w1</th><th>nobs_w2</th><th>nobs_w3</th><th>nobs_w4</th><th>rchisq_u</th><th>rchisq_g</th><th>rchisq_r</th><th>rchisq_i</th><th>rchisq_z</th><th>rchisq_Y</th><th>rchisq_w1</th><th>rchisq_w2</th><th>rchisq_w3</th><th>rchisq_w4</th><th>fracflux_u</th><th>fracflux_g</th><th>fracflux_r</th><th>fracflux_i</th><th>fracflux_z</th><th>fracflux_Y</th><th>fracflux_w1</th><th>fracflux_w2</th><th>fracflux_w3</th><th>fracflux_w4</th><th>fracmasked_u</th><th>fracmasked_g</th><th>fracmasked_r</th><th>fracmasked_i</th><th>fracmasked_z</th><th>fracmasked_Y</th><th>fracin_u</th><th>fracin_g</th><th>fracin_r</th><th>fracin_i</th><th>fracin_z</th><th>fracin_Y</th><th>anymask_u</th><th>anymask_g</th><th>anymask_r</th><th>anymask_i</th><th>anymask_z</th><th>anymask_Y</th><th>allmask_u</th><th>allmask_g</th><th>allmask_r</th><th>allmask_i</th><th>allmask_z</th><th>allmask_Y</th><th>wisemask_w1</th><th>wisemask_w2</th><th>psfsize_u</th><th>psfsize_g</th><th>psfsize_r</th><th>psfsize_i</th><th>psfsize_z</th><th>psfsize_Y</th><th>psfdepth_u</th><th>psfdepth_g</th><th>psfdepth_r</th><th>psfdepth_i</th><th>psfdepth_z</th><th>psfdepth_Y</th><th>galdepth_u</th><th>galdepth_g</th><th>galdepth_r</th><th>galdepth_i</th><th>galdepth_z</th><th>galdepth_Y</th><th>wise_coadd_id</th><th>lc_flux_w1 [7]</th><th>lc_flux_w2 [7]</th><th>lc_flux_ivar_w1 [7]</th><th>lc_flux_ivar_w2 [7]</th><th>lc_nobs_w1 [7]</th><th>lc_nobs_w2 [7]</th><th>lc_fracflux_w1 [7]</th><th>lc_fracflux_w2 [7]</th><th>lc_rchisq_w1 [7]</th><th>lc_rchisq_w2 [7]</th><th>lc_mjd_w1 [7]</th><th>lc_mjd_w2 [7]</th><th>fracdev</th><th>fracdev_ivar</th><th>shapeexp_r</th><th>shapeexp_r_ivar</th><th>shapeexp_e1</th><th>shapeexp_e1_ivar</th><th>shapeexp_e2</th><th>shapeexp_e2_ivar</th><th>shapedev_r</th><th>shapedev_r_ivar</th><th>shapedev_e1</th><th>shapedev_e1_ivar</th><th>shapedev_e2</th><th>shapedev_e2_ivar</th><th>mag_u</th><th>mag_err_u</th><th>mag_g</th><th>mag_err_g</th><th>mag_r</th><th>mag_err_r</th><th>mag_i</th><th>mag_err_i</th><th>mag_z</th><th>mag_err_z</th><th>mag_Y</th><th>mag_err_Y</th><th>coord</th><th>hostsep</th><th>hostsep_phys</th></tr></thead>\n",
       "<thead><tr><th></th><th></th><th></th><th></th><th></th><th></th><th>deg</th><th>deg</th><th>1/deg^2</th><th>1/deg^2</th><th></th><th></th><th></th><th>mag</th><th></th><th></th><th>nanomaggy</th><th>nanomaggy</th><th>nanomaggy</th><th>nanomaggy</th><th>nanomaggy</th><th>nanomaggy</th><th>nanomaggy</th><th>nanomaggy</th><th>nanomaggy</th><th>nanomaggy</th><th>1/nanomaggy^2</th><th>1/nanomaggy^2</th><th>1/nanomaggy^2</th><th>1/nanomaggy^2</th><th>1/nanomaggy^2</th><th>1/nanomaggy^2</th><th>1/nanomaggy^2</th><th>1/nanomaggy^2</th><th>1/nanomaggy^2</th><th>1/nanomaggy^2</th><th>nanomaggy</th><th>nanomaggy</th><th>nanomaggy</th><th>nanomaggy</th><th>nanomaggy</th><th>nanomaggy</th><th>nanomaggy</th><th>nanomaggy</th><th>nanomaggy</th><th>nanomaggy</th><th>nanomaggy</th><th>nanomaggy</th><th>1/nanomaggy^2</th><th>1/nanomaggy^2</th><th>1/nanomaggy^2</th><th>1/nanomaggy^2</th><th>1/nanomaggy^2</th><th>1/nanomaggy^2</th><th></th><th></th><th></th><th></th><th></th><th></th><th></th><th></th><th></th><th></th><th></th><th></th><th></th><th></th><th></th><th></th><th></th><th></th><th></th><th></th><th></th><th></th><th></th><th></th><th></th><th></th><th></th><th></th><th></th><th></th><th></th><th></th><th></th><th></th><th></th><th></th><th></th><th></th><th></th><th></th><th></th><th></th><th></th><th></th><th></th><th></th><th></th><th></th><th></th><th></th><th></th><th></th><th></th><th></th><th></th><th></th><th></th><th></th><th></th><th></th><th></th><th></th><th></th><th></th><th></th><th></th><th>arcsec</th><th>arcsec</th><th>arcsec</th><th>arcsec</th><th>arcsec</th><th>arcsec</th><th>1/nanomaggy^2</th><th>1/nanomaggy^2</th><th>1/nanomaggy^2</th><th>1/nanomaggy^2</th><th>1/nanomaggy^2</th><th>1/nanomaggy^2</th><th>1/nanomaggy^2</th><th>1/nanomaggy^2</th><th>1/nanomaggy^2</th><th>1/nanomaggy^2</th><th>1/nanomaggy^2</th><th>1/nanomaggy^2</th><th></th><th>nanomaggy</th><th>nanomaggy</th><th>1/nanomaggy^2</th><th>1/nanomaggy^2</th><th></th><th></th><th></th><th></th><th></th><th></th><th></th><th></th><th></th><th></th><th>arcsec</th><th>1/arcsec^2</th><th></th><th></th><th></th><th></th><th>arcsec</th><th>1/arcsec^2</th><th></th><th></th><th></th><th></th><th>mag</th><th>mag</th><th>mag</th><th>mag</th><th>mag</th><th>mag</th><th>mag</th><th>mag</th><th>mag</th><th>mag</th><th>mag</th><th>mag</th><th>deg,deg</th><th>deg</th><th>kpc</th></tr></thead>\n",
       "<thead><tr><th>int16</th><th>int32</th><th>str32</th><th>int32</th><th>bool</th><th>str16</th><th>float64</th><th>float64</th><th>float32</th><th>float32</th><th>float32</th><th>float32</th><th>float32</th><th>float32</th><th>float64</th><th>float64</th><th>float32</th><th>float32</th><th>float32</th><th>float32</th><th>float32</th><th>float32</th><th>float32</th><th>float32</th><th>float32</th><th>float32</th><th>float32</th><th>float32</th><th>float32</th><th>float32</th><th>float32</th><th>float32</th><th>float32</th><th>float32</th><th>float32</th><th>float32</th><th>float32</th><th>float32</th><th>float32</th><th>float32</th><th>float32</th><th>float32</th><th>float32</th><th>float32</th><th>float32</th><th>float32</th><th>float32</th><th>float32</th><th>float32</th><th>float32</th><th>float32</th><th>float32</th><th>float32</th><th>float32</th><th>float32</th><th>float32</th><th>float32</th><th>float32</th><th>float32</th><th>float32</th><th>float32</th><th>float32</th><th>float32</th><th>float32</th><th>int16</th><th>int16</th><th>int16</th><th>int16</th><th>int16</th><th>int16</th><th>int16</th><th>int16</th><th>int16</th><th>int16</th><th>float32</th><th>float32</th><th>float32</th><th>float32</th><th>float32</th><th>float32</th><th>float32</th><th>float32</th><th>float32</th><th>float32</th><th>float32</th><th>float32</th><th>float32</th><th>float32</th><th>float32</th><th>float32</th><th>float32</th><th>float32</th><th>float32</th><th>float32</th><th>float32</th><th>float32</th><th>float32</th><th>float32</th><th>float32</th><th>float32</th><th>float32</th><th>float32</th><th>float32</th><th>float32</th><th>float32</th><th>float32</th><th>int16</th><th>int16</th><th>int16</th><th>int16</th><th>int16</th><th>int16</th><th>int16</th><th>int16</th><th>int16</th><th>int16</th><th>int16</th><th>int16</th><th>uint8</th><th>uint8</th><th>float32</th><th>float32</th><th>float32</th><th>float32</th><th>float32</th><th>float32</th><th>float32</th><th>float32</th><th>float32</th><th>float32</th><th>float32</th><th>float32</th><th>float32</th><th>float32</th><th>float32</th><th>float32</th><th>float32</th><th>float32</th><th>str32</th><th>float32</th><th>float32</th><th>float32</th><th>float32</th><th>int16</th><th>int16</th><th>float32</th><th>float32</th><th>float32</th><th>float32</th><th>float64</th><th>float64</th><th>float32</th><th>float32</th><th>float32</th><th>float32</th><th>float32</th><th>float32</th><th>float32</th><th>float32</th><th>float32</th><th>float32</th><th>float32</th><th>float32</th><th>float32</th><th>float32</th><th>float32</th><th>float32</th><th>float32</th><th>float32</th><th>float32</th><th>float32</th><th>float32</th><th>float32</th><th>float32</th><th>float32</th><th>float32</th><th>float32</th><th>object</th><th>float64</th><th>float64</th></tr></thead>\n",
       "<tr><td>5000</td><td>444090</td><td>1822p200</td><td>0</td><td>False</td><td>REX</td><td>182.388671366</td><td>19.8747958978</td><td>7.87913e+11</td><td>9.10066e+11</td><td>93.3415</td><td>79.8039</td><td>41814.5 .. 46047.1</td><td>0.052182</td><td>57110.1839088</td><td>57840.18614</td><td>0.0</td><td>3.31195</td><td>11.2152</td><td>0.0</td><td>24.1176</td><td>0.0</td><td>41.5638</td><td>37.8975</td><td>147.613</td><td>-142.375</td><td>0.0</td><td>568.985</td><td>124.122</td><td>0.0</td><td>40.932</td><td>0.0</td><td>1.87304</td><td>0.367904</td><td>0.0010942</td><td>2.39068e-05</td><td>0.0 .. 0.0</td><td>0.88721 .. 6.56602</td><td>3.13964 .. 17.3678</td><td>0.0 .. 0.0</td><td>7.14869 .. 34.4205</td><td>0.0 .. 0.0</td><td>0.0 .. 0.0</td><td>0.0298217 .. 0.184546</td><td>0.050147 .. 0.211451</td><td>0.0 .. 0.0</td><td>0.2465 .. 2.04633</td><td>0.0 .. 0.0</td><td>0.0 .. 0.0</td><td>5705.28 .. 29.1086</td><td>1294.81 .. 6.60618</td><td>0.0 .. 0.0</td><td>324.669 .. 1.65647</td><td>0.0 .. 0.0</td><td>0.825302</td><td>0.85687</td><td>0.901178</td><td>0.92634</td><td>0.943459</td><td>0.950148</td><td>0.991196</td><td>0.994584</td><td>0.998842</td><td>0.999563</td><td>0</td><td>3</td><td>2</td><td>0</td><td>3</td><td>0</td><td>76</td><td>78</td><td>14</td><td>14</td><td>0.0</td><td>1.22086</td><td>2.22979</td><td>0.0</td><td>1.70824</td><td>0.0</td><td>1.99687</td><td>0.553182</td><td>0.500527</td><td>0.104415</td><td>0.0</td><td>0.00129713</td><td>0.000770626</td><td>0.0</td><td>0.000666767</td><td>0.0</td><td>0.072868</td><td>0.119353</td><td>0.137322</td><td>3.60218</td><td>0.0</td><td>0.00578391</td><td>0.00571565</td><td>0.0</td><td>0.0102814</td><td>0.0</td><td>0.0</td><td>1.00853</td><td>1.01166</td><td>0.0</td><td>1.01212</td><td>0.0</td><td>0</td><td>0</td><td>0</td><td>0</td><td>0</td><td>0</td><td>0</td><td>0</td><td>0</td><td>0</td><td>0</td><td>0</td><td>0</td><td>0</td><td>0.0</td><td>1.27104</td><td>1.22315</td><td>0.0</td><td>1.16582</td><td>0.0</td><td>0.0</td><td>1255.3</td><td>313.266</td><td>0.0</td><td>82.9983</td><td>0.0</td><td>0.0</td><td>720.938</td><td>173.029</td><td>0.0</td><td>44.2648</td><td>0.0</td><td>1824p196</td><td>40.8028 .. 0.0</td><td>44.2268 .. 0.0</td><td>0.324093 .. 0.0</td><td>0.0848021 .. 0.0</td><td>13 .. 0</td><td>14 .. 0</td><td>0.0713224 .. 0.0</td><td>0.0424863 .. 0.0</td><td>1.06539 .. 0.0</td><td>0.46486 .. 0.0</td><td>55356.7810862 .. 0.0</td><td>55356.7810862 .. 0.0</td><td>0.0</td><td>0.0</td><td>0.405366</td><td>69490.3</td><td>0.0</td><td>0.0</td><td>0.0</td><td>0.0</td><td>0.0</td><td>0.0</td><td>0.0</td><td>0.0</td><td>0.0</td><td>0.0</td><td>inf</td><td>inf</td><td>21.1998</td><td>0.0137433</td><td>19.8755</td><td>0.00868949</td><td>inf</td><td>inf</td><td>19.0442</td><td>0.00703653</td><td>inf</td><td>inf</td><td>182.38867136564335,19.874795897811186</td><td>0.483881588343</td><td>306.674311418</td></tr>\n",
       "<tr><td>5000</td><td>444090</td><td>1822p200</td><td>1</td><td>False</td><td>REX</td><td>182.387724577</td><td>19.8738406228</td><td>1.13437e+11</td><td>1.258e+11</td><td>105.566</td><td>66.6683</td><td>6912.76 .. 8121.98</td><td>0.0522202</td><td>57110.1839088</td><td>57840.18614</td><td>0.0</td><td>2.55579</td><td>4.83264</td><td>0.0</td><td>7.4046</td><td>0.0</td><td>4.35516</td><td>3.73909</td><td>-39.0573</td><td>644.735</td><td>0.0</td><td>518.437</td><td>128.327</td><td>0.0</td><td>37.9304</td><td>0.0</td><td>1.84371</td><td>0.362878</td><td>0.00108312</td><td>2.30946e-05</td><td>0.0 .. 0.0</td><td>0.547302 .. 8.73889</td><td>1.12859 .. 22.6611</td><td>0.0 .. 0.0</td><td>1.80723 .. 41.564</td><td>0.0 .. 0.0</td><td>0.0 .. 0.0</td><td>-0.0155282 .. -0.111733</td><td>0.00686405 .. 0.790948</td><td>0.0 .. 0.0</td><td>0.0145968 .. 1.54641</td><td>0.0 .. 0.0</td><td>0.0 .. 0.0</td><td>5705.28 .. 29.1086</td><td>1294.81 .. 6.60618</td><td>0.0 .. 0.0</td><td>324.669 .. 1.65647</td><td>0.0 .. 0.0</td><td>0.825187</td><td>0.856773</td><td>0.901109</td><td>0.926288</td><td>0.943419</td><td>0.950113</td><td>0.991189</td><td>0.99458</td><td>0.998842</td><td>0.999562</td><td>0</td><td>3</td><td>2</td><td>0</td><td>3</td><td>0</td><td>76</td><td>78</td><td>14</td><td>14</td><td>0.0</td><td>0.958889</td><td>0.903616</td><td>0.0</td><td>0.979344</td><td>0.0</td><td>2.63251</td><td>0.739233</td><td>0.485889</td><td>0.101916</td><td>0.0</td><td>0.00326358</td><td>0.0056347</td><td>0.0</td><td>0.0104581</td><td>0.0</td><td>5.10606</td><td>6.68826</td><td>3.43951</td><td>0.722473</td><td>0.0</td><td>0.00474532</td><td>0.00469186</td><td>0.0</td><td>0.00786446</td><td>0.0</td><td>0.0</td><td>1.00882</td><td>1.01233</td><td>0.0</td><td>1.01194</td><td>0.0</td><td>0</td><td>0</td><td>0</td><td>0</td><td>0</td><td>0</td><td>0</td><td>0</td><td>0</td><td>0</td><td>0</td><td>0</td><td>0</td><td>0</td><td>0.0</td><td>1.26856</td><td>1.21348</td><td>0.0</td><td>1.16277</td><td>0.0</td><td>0.0</td><td>1255.3</td><td>313.266</td><td>0.0</td><td>82.9983</td><td>0.0</td><td>0.0</td><td>720.938</td><td>173.029</td><td>0.0</td><td>44.2648</td><td>0.0</td><td>1824p196</td><td>4.69612 .. 0.0</td><td>-1.28142 .. 0.0</td><td>0.321913 .. 0.0</td><td>0.0863327 .. 0.0</td><td>13 .. 0</td><td>14 .. 0</td><td>4.56946 .. 0.0</td><td>24.2723 .. 0.0</td><td>0.747498 .. 0.0</td><td>0.497704 .. 0.0</td><td>55356.7810862 .. 0.0</td><td>55356.7810862 .. 0.0</td><td>0.0</td><td>0.0</td><td>0.521937</td><td>11286.8</td><td>0.0</td><td>0.0</td><td>0.0</td><td>0.0</td><td>0.0</td><td>0.0</td><td>0.0</td><td>0.0</td><td>0.0</td><td>0.0</td><td>inf</td><td>inf</td><td>21.4812</td><td>0.0186574</td><td>20.7895</td><td>0.0198326</td><td>inf</td><td>inf</td><td>20.3262</td><td>0.0238083</td><td>inf</td><td>inf</td><td>182.38772457684917,19.87384062281346</td><td>0.485173202424</td><td>307.492910159</td></tr>\n",
       "<tr><td>5000</td><td>444090</td><td>1822p200</td><td>2</td><td>False</td><td>EXP</td><td>182.38597201</td><td>19.8742437498</td><td>8.18207e+10</td><td>7.36801e+10</td><td>128.217</td><td>72.19</td><td>4477.91 .. 5753.79</td><td>0.0522225</td><td>57110.1839088</td><td>57840.18614</td><td>0.0</td><td>2.23669</td><td>4.14712</td><td>0.0</td><td>5.87555</td><td>0.0</td><td>3.99049</td><td>4.91171</td><td>-7.64495</td><td>-541.948</td><td>0.0</td><td>488.092</td><td>121.351</td><td>0.0</td><td>35.0308</td><td>0.0</td><td>1.80061</td><td>0.35823</td><td>0.00106952</td><td>2.28452e-05</td><td>0.0 .. 0.0</td><td>0.462331 .. 4.30642</td><td>0.836303 .. 8.71552</td><td>0.0 .. 0.0</td><td>1.16946 .. 13.1454</td><td>0.0 .. 0.0</td><td>0.0 .. 0.0</td><td>0.0117692 .. -0.682592</td><td>-0.0374728 .. -0.347725</td><td>0.0 .. 0.0</td><td>-0.124843 .. -0.252113</td><td>0.0 .. 0.0</td><td>0.0 .. 0.0</td><td>5705.28 .. 29.1086</td><td>1294.81 .. 6.60618</td><td>0.0 .. 0.0</td><td>324.669 .. 1.65647</td><td>0.0 .. 0.0</td><td>0.82518</td><td>0.856767</td><td>0.901105</td><td>0.926285</td><td>0.943416</td><td>0.95011</td><td>0.991189</td><td>0.99458</td><td>0.998841</td><td>0.999562</td><td>0</td><td>3</td><td>2</td><td>0</td><td>3</td><td>0</td><td>76</td><td>78</td><td>14</td><td>14</td><td>0.0</td><td>1.26783</td><td>1.18329</td><td>0.0</td><td>0.948663</td><td>0.0</td><td>2.16055</td><td>0.452964</td><td>0.539442</td><td>0.11497</td><td>0.0</td><td>0.000999167</td><td>0.00136113</td><td>0.0</td><td>0.00240431</td><td>0.0</td><td>1.28969</td><td>1.60864</td><td>11.0812</td><td>1.76906</td><td>0.0</td><td>0.00806289</td><td>0.00813281</td><td>0.0</td><td>0.0123637</td><td>0.0</td><td>0.0</td><td>1.0091</td><td>1.01183</td><td>0.0</td><td>1.01103</td><td>0.0</td><td>0</td><td>0</td><td>0</td><td>0</td><td>0</td><td>0</td><td>0</td><td>0</td><td>0</td><td>0</td><td>0</td><td>0</td><td>0</td><td>0</td><td>0.0</td><td>1.2579</td><td>1.20461</td><td>0.0</td><td>1.16398</td><td>0.0</td><td>0.0</td><td>1255.3</td><td>313.266</td><td>0.0</td><td>82.9983</td><td>0.0</td><td>0.0</td><td>720.938</td><td>173.029</td><td>0.0</td><td>44.2648</td><td>0.0</td><td>1824p196</td><td>1.51956 .. 0.0</td><td>9.43375 .. 0.0</td><td>0.309902 .. 0.0</td><td>0.084771 .. 0.0</td><td>13 .. 0</td><td>14 .. 0</td><td>3.22521 .. 0.0</td><td>1.07577 .. 0.0</td><td>0.824231 .. 0.0</td><td>0.624029 .. 0.0</td><td>55356.7810862 .. 0.0</td><td>55356.7810862 .. 0.0</td><td>0.0</td><td>0.0</td><td>0.815169</td><td>3394.19</td><td>0.135536</td><td>1476.52</td><td>0.385035</td><td>1795.82</td><td>0.0</td><td>0.0</td><td>0.0</td><td>0.0</td><td>0.0</td><td>0.0</td><td>inf</td><td>inf</td><td>21.626</td><td>0.0219719</td><td>20.9556</td><td>0.023766</td><td>inf</td><td>inf</td><td>20.5774</td><td>0.0312213</td><td>inf</td><td>inf</td><td>182.38597201018695,19.874243749823123</td><td>0.486212958308</td><td>308.151886296</td></tr>\n",
       "<tr><td>5000</td><td>444090</td><td>1822p200</td><td>3</td><td>False</td><td>EXP</td><td>182.387872278</td><td>19.8721361854</td><td>2.0872e+10</td><td>2.10475e+10</td><td>103.639</td><td>43.2499</td><td>1047.68 .. 1263.13</td><td>0.0522726</td><td>57110.1839088</td><td>57840.18614</td><td>0.0</td><td>0.759756</td><td>1.96532</td><td>0.0</td><td>3.14348</td><td>0.0</td><td>5.2374</td><td>3.40614</td><td>41.2155</td><td>-650.518</td><td>0.0</td><td>606.476</td><td>140.409</td><td>0.0</td><td>38.4909</td><td>0.0</td><td>1.81423</td><td>0.36024</td><td>0.0010812</td><td>2.2496e-05</td><td>0.0 .. 0.0</td><td>0.159127 .. 4.44318</td><td>0.449749 .. 8.80767</td><td>0.0 .. 0.0</td><td>0.863409 .. 12.7054</td><td>0.0 .. 0.0</td><td>0.0 .. 0.0</td><td>-0.00817154 .. -0.307458</td><td>0.00453033 .. -0.451604</td><td>0.0 .. 0.0</td><td>0.134434 .. -1.35235</td><td>0.0 .. 0.0</td><td>0.0 .. 0.0</td><td>5705.28 .. 29.1086</td><td>1294.81 .. 6.60618</td><td>0.0 .. 0.0</td><td>324.669 .. 1.65606</td><td>0.0 .. 0.0</td><td>0.825028</td><td>0.85664</td><td>0.901015</td><td>0.926217</td><td>0.943364</td><td>0.950064</td><td>0.99118</td><td>0.994574</td><td>0.99884</td><td>0.999562</td><td>0</td><td>3</td><td>2</td><td>0</td><td>3</td><td>0</td><td>77</td><td>78</td><td>14</td><td>14</td><td>0.0</td><td>0.917089</td><td>1.07098</td><td>0.0</td><td>1.22623</td><td>0.0</td><td>7.98363</td><td>1.39346</td><td>0.62947</td><td>0.101661</td><td>0.0</td><td>0.0112877</td><td>0.00731608</td><td>0.0</td><td>0.0083834</td><td>0.0</td><td>1.66484</td><td>3.3625</td><td>0.91604</td><td>1.46694</td><td>0.0</td><td>0.00849649</td><td>0.0089569</td><td>0.0</td><td>0.0137753</td><td>0.0</td><td>0.0</td><td>1.0088</td><td>1.01232</td><td>0.0</td><td>1.01197</td><td>0.0</td><td>0</td><td>0</td><td>0</td><td>0</td><td>0</td><td>0</td><td>0</td><td>0</td><td>0</td><td>0</td><td>0</td><td>0</td><td>0</td><td>0</td><td>0.0</td><td>1.26474</td><td>1.21267</td><td>0.0</td><td>1.1642</td><td>0.0</td><td>0.0</td><td>1255.3</td><td>313.266</td><td>0.0</td><td>82.9983</td><td>0.0</td><td>0.0</td><td>720.938</td><td>173.029</td><td>0.0</td><td>44.2648</td><td>0.0</td><td>1824p196</td><td>7.06102 .. 0.0</td><td>4.89576 .. 0.0</td><td>0.31528 .. 0.0</td><td>0.085447 .. 0.0</td><td>13 .. 0</td><td>14 .. 0</td><td>1.14029 .. 0.0</td><td>2.43644 .. 0.0</td><td>1.87523 .. 0.0</td><td>0.491357 .. 0.0</td><td>55356.7810862 .. 0.0</td><td>55356.7810862 .. 0.0</td><td>0.0</td><td>0.0</td><td>0.855857</td><td>593.314</td><td>0.0863158</td><td>310.392</td><td>-0.575627</td><td>298.568</td><td>0.0</td><td>0.0</td><td>0.0</td><td>0.0</td><td>0.0</td><td>0.0</td><td>inf</td><td>inf</td><td>22.7983</td><td>0.0580288</td><td>21.7664</td><td>0.0466223</td><td>inf</td><td>inf</td><td>21.2565</td><td>0.0556717</td><td>inf</td><td>inf</td><td>182.3878722781041,19.872136185419993</td><td>0.486128685575</td><td>308.098475952</td></tr>\n",
       "<tr><td>5000</td><td>444090</td><td>1822p200</td><td>4</td><td>False</td><td>DEV</td><td>182.388259034</td><td>19.8709627424</td><td>3.32174e+10</td><td>3.9184e+10</td><td>98.6283</td><td>27.13</td><td>1765.38 .. 1875.21</td><td>0.0523066</td><td>57110.1839088</td><td>57840.18614</td><td>0.0</td><td>1.20965</td><td>2.01091</td><td>0.0</td><td>2.62046</td><td>0.0</td><td>7.80911</td><td>7.01425</td><td>15.79</td><td>792.795</td><td>0.0</td><td>630.908</td><td>157.931</td><td>0.0</td><td>45.4906</td><td>0.0</td><td>1.82686</td><td>0.363897</td><td>0.00107316</td><td>2.20967e-05</td><td>0.0 .. 0.0</td><td>0.303349 .. 2.31977</td><td>0.547573 .. 4.60345</td><td>0.0 .. 0.0</td><td>0.783386 .. 8.17177</td><td>0.0 .. 0.0</td><td>0.0 .. 0.0</td><td>-0.00479839 .. -0.273477</td><td>-0.000392328 .. -0.479699</td><td>0.0 .. 0.0</td><td>0.0271134 .. 0.482915</td><td>0.0 .. 0.0</td><td>0.0 .. 0.0</td><td>5705.28 .. 29.1086</td><td>1294.81 .. 6.60618</td><td>0.0 .. 0.0</td><td>324.669 .. 1.6487</td><td>0.0 .. 0.0</td><td>0.824924</td><td>0.856554</td><td>0.900954</td><td>0.926171</td><td>0.943328</td><td>0.950032</td><td>0.991175</td><td>0.994571</td><td>0.99884</td><td>0.999562</td><td>0</td><td>3</td><td>2</td><td>0</td><td>3</td><td>0</td><td>77</td><td>79</td><td>14</td><td>14</td><td>0.0</td><td>1.00388</td><td>1.12135</td><td>0.0</td><td>0.885338</td><td>0.0</td><td>34.6757</td><td>5.03466</td><td>0.643772</td><td>0.0924042</td><td>0.0</td><td>0.00325033</td><td>0.00469465</td><td>0.0</td><td>0.00692172</td><td>0.0</td><td>0.613628</td><td>0.81215</td><td>2.34112</td><td>0.749585</td><td>0.0</td><td>0.012469</td><td>0.0126412</td><td>0.0</td><td>0.0190284</td><td>0.0</td><td>0.0</td><td>1.00718</td><td>1.01002</td><td>0.0</td><td>1.0101</td><td>0.0</td><td>0</td><td>0</td><td>0</td><td>0</td><td>0</td><td>0</td><td>0</td><td>0</td><td>0</td><td>0</td><td>0</td><td>0</td><td>0</td><td>0</td><td>0.0</td><td>1.25605</td><td>1.2029</td><td>0.0</td><td>1.16222</td><td>0.0</td><td>0.0</td><td>1255.3</td><td>313.266</td><td>0.0</td><td>82.9983</td><td>0.0</td><td>0.0</td><td>720.938</td><td>173.029</td><td>0.0</td><td>44.2648</td><td>0.0</td><td>1824p196</td><td>6.47826 .. 0.0</td><td>9.279 .. 0.0</td><td>0.313752 .. 0.0</td><td>0.0821965 .. 0.0</td><td>13 .. 0</td><td>14 .. 0</td><td>0.913456 .. 0.0</td><td>0.649187 .. 0.0</td><td>5.93049 .. 0.0</td><td>1.3316 .. 0.0</td><td>55356.7810862 .. 0.0</td><td>55356.7810862 .. 0.0</td><td>1.0</td><td>1.0</td><td>0.0</td><td>0.0</td><td>0.0</td><td>0.0</td><td>0.0</td><td>0.0</td><td>0.456451</td><td>1081.26</td><td>-0.0287493</td><td>131.485</td><td>0.327226</td><td>210.089</td><td>inf</td><td>inf</td><td>22.2933</td><td>0.0357339</td><td>21.7415</td><td>0.0429634</td><td>inf</td><td>inf</td><td>21.4541</td><td>0.0614309</td><td>inf</td><td>inf</td><td>182.38825903401275,19.87096274241721</td><td>0.486580067907</td><td>308.384552895</td></tr>\n",
       "<tr><td>5000</td><td>444090</td><td>1822p200</td><td>5</td><td>False</td><td>PSF</td><td>182.386595339</td><td>19.8707852635</td><td>1.24807e+10</td><td>1.47062e+10</td><td>120.125</td><td>24.6747</td><td>421.177 .. 0.0</td><td>0.0523259</td><td>57110.1839088</td><td>57840.18614</td><td>0.0</td><td>0.230438</td><td>0.773507</td><td>0.0</td><td>1.39198</td><td>0.0</td><td>2.95632</td><td>4.85104</td><td>-23.7773</td><td>-377.922</td><td>0.0</td><td>1259.12</td><td>305.216</td><td>0.0</td><td>88.0319</td><td>0.0</td><td>1.90638</td><td>0.370711</td><td>0.00110274</td><td>2.20502e-05</td><td>0.0 .. 0.0</td><td>0.10181 .. 2.30433</td><td>0.319224 .. 4.21288</td><td>0.0 .. 0.0</td><td>0.621594 .. 7.26504</td><td>0.0 .. 0.0</td><td>0.0 .. 0.0</td><td>0.0119427 .. 0.00555607</td><td>0.00210395 .. -0.261482</td><td>0.0 .. 0.0</td><td>0.00505852 .. 0.46873</td><td>0.0 .. 0.0</td><td>0.0 .. 0.0</td><td>5705.28 .. 29.3509</td><td>1294.81 .. 6.66118</td><td>0.0 .. 0.0</td><td>324.669 .. 1.65817</td><td>0.0 .. 0.0</td><td>0.824866</td><td>0.856505</td><td>0.900919</td><td>0.926145</td><td>0.943308</td><td>0.950014</td><td>0.991172</td><td>0.994569</td><td>0.998839</td><td>0.999562</td><td>0</td><td>3</td><td>2</td><td>0</td><td>3</td><td>0</td><td>77</td><td>78</td><td>14</td><td>14</td><td>0.0</td><td>1.09183</td><td>0.990714</td><td>0.0</td><td>1.04017</td><td>0.0</td><td>10.7648</td><td>1.71283</td><td>0.567874</td><td>0.13439</td><td>0.0</td><td>0.00650351</td><td>0.00368285</td><td>0.0</td><td>0.00553617</td><td>0.0</td><td>1.48866</td><td>1.05285</td><td>1.89129</td><td>1.4394</td><td>0.0</td><td>0.023119</td><td>0.0237796</td><td>0.0</td><td>0.0396015</td><td>0.0</td><td>0.0</td><td>1.0067</td><td>1.00935</td><td>0.0</td><td>1.00889</td><td>0.0</td><td>0</td><td>0</td><td>0</td><td>0</td><td>0</td><td>0</td><td>0</td><td>0</td><td>0</td><td>0</td><td>0</td><td>0</td><td>0</td><td>0</td><td>0.0</td><td>1.25752</td><td>1.20014</td><td>0.0</td><td>1.16265</td><td>0.0</td><td>0.0</td><td>1255.3</td><td>313.266</td><td>0.0</td><td>82.9983</td><td>0.0</td><td>0.0</td><td>720.938</td><td>173.029</td><td>0.0</td><td>44.2648</td><td>0.0</td><td>1824p196</td><td>3.80862 .. 0.0</td><td>3.51037 .. 0.0</td><td>0.331603 .. 0.0</td><td>0.0878313 .. 0.0</td><td>13 .. 0</td><td>14 .. 0</td><td>1.12106 .. 0.0</td><td>1.9531 .. 0.0</td><td>2.33089 .. 0.0</td><td>0.778613 .. 0.0</td><td>55356.7810862 .. 0.0</td><td>55356.7810862 .. 0.0</td><td>0.0</td><td>0.0</td><td>0.0</td><td>0.0</td><td>0.0</td><td>0.0</td><td>0.0</td><td>0.0</td><td>0.0</td><td>0.0</td><td>0.0</td><td>0.0</td><td>0.0</td><td>0.0</td><td>inf</td><td>inf</td><td>24.0936</td><td>0.132781</td><td>22.7788</td><td>0.0803445</td><td>inf</td><td>inf</td><td>22.1409</td><td>0.0831328</td><td>inf</td><td>inf</td><td>182.38659533913278,19.870785263502523</td><td>0.487910717006</td><td>309.227891236</td></tr>\n",
       "<tr><td>5000</td><td>444090</td><td>1822p200</td><td>6</td><td>True</td><td>PSF</td><td>182.389021718</td><td>19.8766188871</td><td>4.18509e+09</td><td>5.09486e+09</td><td>88.834</td><td>104.856</td><td>146.588 .. 0.0</td><td>0.0521222</td><td>57110.1839088</td><td>57840.18614</td><td>0.0</td><td>0.139792</td><td>0.633605</td><td>0.0</td><td>-0.100085</td><td>0.0</td><td>0.770755</td><td>3.72955</td><td>0.812993</td><td>165.703</td><td>0.0</td><td>1279.25</td><td>305.584</td><td>0.0</td><td>90.4586</td><td>0.0</td><td>1.85704</td><td>0.371378</td><td>0.00114763</td><td>2.48225e-05</td><td>0.0 .. 0.0</td><td>0.0642891 .. 2.7422</td><td>0.288141 .. 8.12655</td><td>0.0 .. 0.0</td><td>-0.0199453 .. 17.5293</td><td>0.0 .. 0.0</td><td>0.0 .. 0.0</td><td>-0.00162241 .. 0.013343</td><td>0.0101557 .. -0.546682</td><td>0.0 .. 0.0</td><td>0.0206728 .. 0.638794</td><td>0.0 .. 0.0</td><td>0.0 .. 0.0</td><td>5705.28 .. 29.1086</td><td>1294.81 .. 6.60618</td><td>0.0 .. 0.0</td><td>324.669 .. 1.65647</td><td>0.0 .. 0.0</td><td>0.825484</td><td>0.857022</td><td>0.901285</td><td>0.926421</td><td>0.943522</td><td>0.950204</td><td>0.991206</td><td>0.99459</td><td>0.998844</td><td>0.999563</td><td>0</td><td>3</td><td>2</td><td>0</td><td>3</td><td>0</td><td>75</td><td>77</td><td>15</td><td>15</td><td>0.0</td><td>1.55552</td><td>1.85221</td><td>0.0</td><td>1.02202</td><td>0.0</td><td>1.95482</td><td>0.693964</td><td>0.584696</td><td>0.128026</td><td>0.0</td><td>0.0155389</td><td>0.00825213</td><td>0.0</td><td>0.256001</td><td>0.0</td><td>12.1792</td><td>3.24826</td><td>84.4685</td><td>1.06642</td><td>0.0</td><td>0.0206788</td><td>0.0207439</td><td>0.0</td><td>0.0336302</td><td>0.0</td><td>0.0</td><td>1.0043</td><td>1.00781</td><td>0.0</td><td>1.00692</td><td>0.0</td><td>0</td><td>0</td><td>0</td><td>0</td><td>0</td><td>0</td><td>0</td><td>0</td><td>0</td><td>0</td><td>0</td><td>0</td><td>0</td><td>0</td><td>0.0</td><td>1.25057</td><td>1.20317</td><td>0.0</td><td>1.1642</td><td>0.0</td><td>0.0</td><td>1255.3</td><td>313.266</td><td>0.0</td><td>82.9983</td><td>0.0</td><td>0.0</td><td>720.938</td><td>173.029</td><td>0.0</td><td>44.2648</td><td>0.0</td><td>1824p196</td><td>-2.29389 .. 0.0</td><td>-2.15492 .. 0.0</td><td>0.322672 .. 0.0</td><td>0.0888285 .. 0.0</td><td>13 .. 0</td><td>14 .. 0</td><td>3.99512 .. 0.0</td><td>6.49369 .. 0.0</td><td>0.628274 .. 0.0</td><td>0.649496 .. 0.0</td><td>55356.7810862 .. 0.0</td><td>55356.7810862 .. 0.0</td><td>0.0</td><td>0.0</td><td>0.0</td><td>0.0</td><td>0.0</td><td>0.0</td><td>0.0</td><td>0.0</td><td>0.0</td><td>0.0</td><td>0.0</td><td>0.0</td><td>0.0</td><td>0.0</td><td>inf</td><td>inf</td><td>24.6363</td><td>0.217152</td><td>22.9955</td><td>0.0980259</td><td>inf</td><td>inf</td><td>nan</td><td>-1.1406</td><td>inf</td><td>inf</td><td>182.38902171839823,19.876618887069515</td><td>0.482490002637</td><td>305.792352694</td></tr>\n",
       "<tr><td>5000</td><td>444090</td><td>1822p200</td><td>7</td><td>False</td><td>PSF</td><td>182.3851125</td><td>19.8734395171</td><td>1.265e+09</td><td>1.44906e+09</td><td>139.315</td><td>61.1309</td><td>42.9854 .. 0.0</td><td>0.0522546</td><td>57110.1839088</td><td>57840.18614</td><td>0.0</td><td>0.128612</td><td>0.206251</td><td>0.0</td><td>0.322874</td><td>0.0</td><td>-0.0144281</td><td>1.28699</td><td>53.348</td><td>796.013</td><td>0.0</td><td>1287.14</td><td>324.393</td><td>0.0</td><td>89.5635</td><td>0.0</td><td>1.85703</td><td>0.370987</td><td>0.00107691</td><td>2.26221e-05</td><td>0.0 .. 0.0</td><td>0.0515987 .. 2.28056</td><td>0.075608 .. 4.8183</td><td>0.0 .. 0.0</td><td>0.168977 .. 5.90078</td><td>0.0 .. 0.0</td><td>0.0 .. 0.0</td><td>0.001065 .. -0.516064</td><td>-0.0107992 .. 0.00108027</td><td>0.0 .. 0.0</td><td>0.024473 .. -0.903369</td><td>0.0 .. 0.0</td><td>0.0 .. 0.0</td><td>5705.28 .. 29.1086</td><td>1294.81 .. 6.60618</td><td>0.0 .. 0.0</td><td>324.669 .. 1.65647</td><td>0.0 .. 0.0</td><td>0.825082</td><td>0.856686</td><td>0.901047</td><td>0.926242</td><td>0.943383</td><td>0.950081</td><td>0.991184</td><td>0.994576</td><td>0.998841</td><td>0.999562</td><td>0</td><td>3</td><td>2</td><td>0</td><td>3</td><td>0</td><td>76</td><td>78</td><td>14</td><td>14</td><td>0.0</td><td>0.784252</td><td>0.792143</td><td>0.0</td><td>0.727145</td><td>0.0</td><td>2.11511</td><td>0.452229</td><td>0.800606</td><td>0.121349</td><td>0.0</td><td>0.0607884</td><td>0.0744088</td><td>0.0</td><td>0.072599</td><td>0.0</td><td>51.2596</td><td>4.54368</td><td>0.485233</td><td>0.565359</td><td>0.0</td><td>0.037406</td><td>0.0371044</td><td>0.0</td><td>0.0523527</td><td>0.0</td><td>0.0</td><td>1.00401</td><td>1.00621</td><td>0.0</td><td>1.00361</td><td>0.0</td><td>0</td><td>0</td><td>0</td><td>0</td><td>0</td><td>0</td><td>0</td><td>0</td><td>0</td><td>0</td><td>0</td><td>0</td><td>0</td><td>0</td><td>0.0</td><td>1.25835</td><td>1.20615</td><td>0.0</td><td>1.1636</td><td>0.0</td><td>0.0</td><td>1255.3</td><td>313.266</td><td>0.0</td><td>82.9983</td><td>0.0</td><td>0.0</td><td>720.938</td><td>173.029</td><td>0.0</td><td>44.2648</td><td>0.0</td><td>1824p196</td><td>-0.981678 .. 0.0</td><td>6.04904 .. 0.0</td><td>0.3262 .. 0.0</td><td>0.0891332 .. 0.0</td><td>13 .. 0</td><td>14 .. 0</td><td>2.92674 .. 0.0</td><td>1.4072 .. 0.0</td><td>0.949072 .. 0.0</td><td>0.46015 .. 0.0</td><td>55356.7810862 .. 0.0</td><td>55356.7810862 .. 0.0</td><td>0.0</td><td>0.0</td><td>0.0</td><td>0.0</td><td>0.0</td><td>0.0</td><td>0.0</td><td>0.0</td><td>0.0</td><td>0.0</td><td>0.0</td><td>0.0</td><td>0.0</td><td>0.0</td><td>inf</td><td>inf</td><td>24.7268</td><td>0.235305</td><td>24.214</td><td>0.292275</td><td>inf</td><td>inf</td><td>23.7274</td><td>0.355325</td><td>inf</td><td>inf</td><td>182.3851125003094,19.873439517066906</td><td>0.487345967215</td><td>308.869964302</td></tr>\n",
       "<tr><td>5000</td><td>444090</td><td>1822p200</td><td>8</td><td>False</td><td>EXP</td><td>182.171131511</td><td>19.8742891502</td><td>2.74721e+11</td><td>4.80045e+11</td><td>2904.41</td><td>72.4529</td><td>33287.9 .. 70695.1</td><td>0.0338781</td><td>57121.1528264</td><td>57840.18614</td><td>0.0</td><td>17.8142</td><td>33.7686</td><td>0.0</td><td>54.7627</td><td>0.0</td><td>41.3512</td><td>36.1179</td><td>150.891</td><td>634.035</td><td>0.0</td><td>91.9717</td><td>16.5179</td><td>0.0</td><td>7.56126</td><td>0.0</td><td>1.5351</td><td>0.329087</td><td>0.000967195</td><td>2.14106e-05</td><td>0.0 .. 0.0</td><td>1.27138 .. 17.1262</td><td>2.43543 .. 32.495</td><td>0.0 .. 0.0</td><td>4.87812 .. 49.5183</td><td>0.0 .. 0.0</td><td>0.0 .. 0.0</td><td>-0.209633 .. -1.20083</td><td>-0.259704 .. -1.60988</td><td>0.0 .. 0.0</td><td>-0.141216 .. -5.9715</td><td>0.0 .. 0.0</td><td>0.0 .. 0.0</td><td>4016.87 .. 20.4942</td><td>647.511 .. 3.30363</td><td>0.0 .. 0.0</td><td>221.923 .. 1.13171</td><td>0.0 .. 0.0</td><td>0.882801</td><td>0.904579</td><td>0.934677</td><td>0.951539</td><td>0.962918</td><td>0.967345</td><td>0.994275</td><td>0.99648</td><td>0.999248</td><td>0.999716</td><td>0</td><td>2</td><td>1</td><td>0</td><td>2</td><td>0</td><td>80</td><td>83</td><td>14</td><td>14</td><td>0.0</td><td>1.84344</td><td>1.52412</td><td>0.0</td><td>1.3852</td><td>0.0</td><td>3.03802</td><td>1.04463</td><td>0.61841</td><td>0.221651</td><td>0.0</td><td>-2.15501e-09</td><td>-2.52763e-10</td><td>0.0</td><td>-1.38184e-09</td><td>0.0</td><td>0.00265138</td><td>0.0021129</td><td>0.0117236</td><td>0.190862</td><td>0.0</td><td>0.00818006</td><td>0.00785128</td><td>0.0</td><td>0.00669824</td><td>0.0</td><td>0.0</td><td>1.00861</td><td>1.00632</td><td>0.0</td><td>1.00377</td><td>0.0</td><td>0</td><td>0</td><td>0</td><td>0</td><td>0</td><td>0</td><td>0</td><td>0</td><td>0</td><td>0</td><td>0</td><td>0</td><td>0</td><td>0</td><td>0.0</td><td>1.28475</td><td>1.41874</td><td>0.0</td><td>1.11674</td><td>0.0</td><td>0.0</td><td>868.536</td><td>111.231</td><td>0.0</td><td>61.5819</td><td>0.0</td><td>0.0</td><td>497.902</td><td>70.6173</td><td>0.0</td><td>32.3157</td><td>0.0</td><td>1824p196</td><td>41.5436 .. 0.0</td><td>37.6361 .. 0.0</td><td>0.283193 .. 0.0</td><td>0.0714505 .. 0.0</td><td>14 .. 0</td><td>14 .. 0</td><td>0.00287705 .. 0.0</td><td>0.00146545 .. 0.0</td><td>1.45601 .. 0.0</td><td>0.598311 .. 0.0</td><td>55356.7810862 .. 0.0</td><td>55356.7810862 .. 0.0</td><td>0.0</td><td>0.0</td><td>1.75885</td><td>19309.6</td><td>-0.160334</td><td>57077.8</td><td>-0.233134</td><td>76181.9</td><td>0.0</td><td>0.0</td><td>0.0</td><td>0.0</td><td>0.0</td><td>0.0</td><td>inf</td><td>inf</td><td>19.3731</td><td>0.00635523</td><td>18.6787</td><td>0.00791104</td><td>inf</td><td>inf</td><td>18.1538</td><td>0.00721012</td><td>inf</td><td>inf</td><td>182.17113151077646,19.87428915024729</td><td>0.656600505136</td><td>416.140048806</td></tr>\n",
       "<tr><td>...</td><td>...</td><td>...</td><td>...</td><td>...</td><td>...</td><td>...</td><td>...</td><td>...</td><td>...</td><td>...</td><td>...</td><td>...</td><td>...</td><td>...</td><td>...</td><td>...</td><td>...</td><td>...</td><td>...</td><td>...</td><td>...</td><td>...</td><td>...</td><td>...</td><td>...</td><td>...</td><td>...</td><td>...</td><td>...</td><td>...</td><td>...</td><td>...</td><td>...</td><td>...</td><td>...</td><td>...</td><td>...</td><td>...</td><td>...</td><td>...</td><td>...</td><td>...</td><td>...</td><td>...</td><td>...</td><td>...</td><td>...</td><td>...</td><td>...</td><td>...</td><td>...</td><td>...</td><td>...</td><td>...</td><td>...</td><td>...</td><td>...</td><td>...</td><td>...</td><td>...</td><td>...</td><td>...</td><td>...</td><td>...</td><td>...</td><td>...</td><td>...</td><td>...</td><td>...</td><td>...</td><td>...</td><td>...</td><td>...</td><td>...</td><td>...</td><td>...</td><td>...</td><td>...</td><td>...</td><td>...</td><td>...</td><td>...</td><td>...</td><td>...</td><td>...</td><td>...</td><td>...</td><td>...</td><td>...</td><td>...</td><td>...</td><td>...</td><td>...</td><td>...</td><td>...</td><td>...</td><td>...</td><td>...</td><td>...</td><td>...</td><td>...</td><td>...</td><td>...</td><td>...</td><td>...</td><td>...</td><td>...</td><td>...</td><td>...</td><td>...</td><td>...</td><td>...</td><td>...</td><td>...</td><td>...</td><td>...</td><td>...</td><td>...</td><td>...</td><td>...</td><td>...</td><td>...</td><td>...</td><td>...</td><td>...</td><td>...</td><td>...</td><td>...</td><td>...</td><td>...</td><td>...</td><td>...</td><td>...</td><td>...</td><td>...</td><td>...</td><td>...</td><td>...</td><td>...</td><td>...</td><td>...</td><td>...</td><td>...</td><td>...</td><td>...</td><td>...</td><td>...</td><td>...</td><td>...</td><td>...</td><td>...</td><td>...</td><td>...</td><td>...</td><td>...</td><td>...</td><td>...</td><td>...</td><td>...</td><td>...</td><td>...</td><td>...</td><td>...</td><td>...</td><td>...</td><td>...</td><td>...</td><td>...</td><td>...</td><td>...</td><td>...</td><td>...</td><td>...</td><td>...</td><td>...</td><td>...</td><td>...</td><td>...</td><td>...</td></tr>\n",
       "<tr><td>5000</td><td>446801</td><td>1833p205</td><td>3997</td><td>False</td><td>EXP</td><td>183.331482156</td><td>20.6255543709</td><td>7.72492e+09</td><td>5.55756e+09</td><td>1823.31</td><td>3524.68</td><td>390.363 .. 501.528</td><td>0.0297394</td><td>57110.18279</td><td>57887.0821904</td><td>0.0</td><td>0.629753</td><td>1.36157</td><td>0.0</td><td>2.01248</td><td>0.0</td><td>1.45331</td><td>-0.264421</td><td>-23.7493</td><td>-228.879</td><td>0.0</td><td>157.159</td><td>136.815</td><td>0.0</td><td>45.8664</td><td>0.0</td><td>1.78899</td><td>0.348087</td><td>0.000928123</td><td>2.05429e-05</td><td>0.0 .. 0.0</td><td>0.16933 .. 1.1025</td><td>0.312818 .. 0.748233</td><td>0.0 .. 0.0</td><td>0.335683 .. 0.992145</td><td>0.0 .. 0.0</td><td>0.0 .. 0.0</td><td>0.0291839 .. 0.307448</td><td>-0.0229915 .. -1.01008</td><td>0.0 .. 0.0</td><td>-0.0293055 .. -1.91948</td><td>0.0 .. 0.0</td><td>0.0 .. 0.0</td><td>1448.56 .. 8.82012</td><td>1128.92 .. 6.32251</td><td>0.0 .. 0.0</td><td>572.276 .. 2.79373</td><td>0.0 .. 0.0</td><td>0.896347</td><td>0.915729</td><td>0.942423</td><td>0.957331</td><td>0.967374</td><td>0.971277</td><td>0.994973</td><td>0.99691</td><td>0.99934</td><td>0.999751</td><td>0</td><td>2</td><td>3</td><td>0</td><td>4</td><td>0</td><td>74</td><td>77</td><td>13</td><td>12</td><td>0.0</td><td>0.665683</td><td>0.727502</td><td>0.0</td><td>0.945553</td><td>0.0</td><td>1.16887</td><td>0.58021</td><td>0.514106</td><td>0.203115</td><td>0.0</td><td>-2.6521e-09</td><td>-1.13026e-09</td><td>0.0</td><td>3.06433e-09</td><td>0.0</td><td>0.14032</td><td>0.507865</td><td>0.33019</td><td>0.400859</td><td>0.0</td><td>0.475219</td><td>0.307864</td><td>0.0</td><td>0.0322805</td><td>0.0</td><td>0.0</td><td>0.978163</td><td>0.959351</td><td>0.0</td><td>1.00848</td><td>0.0</td><td>0</td><td>1</td><td>1</td><td>0</td><td>0</td><td>0</td><td>0</td><td>0</td><td>0</td><td>0</td><td>0</td><td>0</td><td>0</td><td>0</td><td>0.0</td><td>1.09151</td><td>0.977123</td><td>0.0</td><td>1.48434</td><td>0.0</td><td>0.0</td><td>420.386</td><td>408.329</td><td>0.0</td><td>89.9328</td><td>0.0</td><td>0.0</td><td>221.172</td><td>192.497</td><td>0.0</td><td>54.9395</td><td>0.0</td><td>1840p212</td><td>-0.427729 .. 0.0</td><td>-0.154784 .. 0.0</td><td>0.288592 .. 0.0</td><td>0.0775304 .. 0.0</td><td>12 .. 0</td><td>13 .. 0</td><td>0.417632 .. 0.0</td><td>1.61231 .. 0.0</td><td>0.621051 .. 0.0</td><td>0.672018 .. 0.0</td><td>55357.5090754 .. 0.0</td><td>55357.5090754 .. 0.0</td><td>0.0</td><td>0.0</td><td>0.813869</td><td>335.295</td><td>0.247418</td><td>175.182</td><td>-0.262568</td><td>176.656</td><td>0.0</td><td>0.0</td><td>0.0</td><td>0.0</td><td>0.0</td><td>0.0</td><td>inf</td><td>inf</td><td>23.0021</td><td>0.137526</td><td>22.1649</td><td>0.0681738</td><td>inf</td><td>inf</td><td>21.7407</td><td>0.0796609</td><td>inf</td><td>inf</td><td>183.33148215559874,20.62555437091139</td><td>0.676789170259</td><td>428.935214243</td></tr>\n",
       "<tr><td>5000</td><td>446801</td><td>1833p205</td><td>3998</td><td>False</td><td>PSF</td><td>183.292264813</td><td>20.6252969457</td><td>4.73033e+09</td><td>5.7815e+09</td><td>2327.63</td><td>3521.21</td><td>154.899 .. 0.0</td><td>0.0292793</td><td>57110.18279</td><td>57887.0821904</td><td>0.0</td><td>0.0737731</td><td>0.516036</td><td>0.0</td><td>0.724822</td><td>0.0</td><td>2.20027</td><td>3.14955</td><td>41.9084</td><td>323.554</td><td>0.0</td><td>382.775</td><td>385.495</td><td>0.0</td><td>94.6135</td><td>0.0</td><td>1.89396</td><td>0.371826</td><td>0.000958616</td><td>1.99086e-05</td><td>0.0 .. 0.0</td><td>0.0667455 .. 0.59625</td><td>0.278039 .. 1.53811</td><td>0.0 .. 0.0</td><td>0.274304 .. 1.38001</td><td>0.0 .. 0.0</td><td>0.0 .. 0.0</td><td>0.0345127 .. 0.0158145</td><td>0.010077 .. -0.227093</td><td>0.0 .. 0.0</td><td>0.0192547 .. -0.777016</td><td>0.0 .. 0.0</td><td>0.0 .. 0.0</td><td>1448.56 .. 8.55892</td><td>1128.92 .. 6.20218</td><td>0.0 .. 0.0</td><td>573.531 .. 2.79136</td><td>0.0 .. 0.0</td><td>0.897866</td><td>0.916977</td><td>0.943288</td><td>0.957977</td><td>0.96787</td><td>0.971715</td><td>0.99505</td><td>0.996957</td><td>0.99935</td><td>0.999755</td><td>0</td><td>2</td><td>3</td><td>0</td><td>4</td><td>0</td><td>76</td><td>76</td><td>12</td><td>12</td><td>0.0</td><td>0.53775</td><td>1.02008</td><td>0.0</td><td>0.858954</td><td>0.0</td><td>0.84434</td><td>0.947398</td><td>0.574382</td><td>0.175035</td><td>0.0</td><td>0.0</td><td>0.0</td><td>0.0</td><td>0.0</td><td>0.0</td><td>0.487306</td><td>0.456384</td><td>0.342283</td><td>0.772129</td><td>0.0</td><td>0.489765</td><td>0.257694</td><td>0.0</td><td>0.0342075</td><td>0.0</td><td>0.0</td><td>0.946325</td><td>0.8843</td><td>0.0</td><td>0.992523</td><td>0.0</td><td>0</td><td>1</td><td>1</td><td>0</td><td>0</td><td>0</td><td>0</td><td>0</td><td>0</td><td>0</td><td>0</td><td>0</td><td>0</td><td>0</td><td>0.0</td><td>1.09151</td><td>0.978178</td><td>0.0</td><td>1.50315</td><td>0.0</td><td>0.0</td><td>420.386</td><td>408.329</td><td>0.0</td><td>88.0021</td><td>0.0</td><td>0.0</td><td>221.172</td><td>192.497</td><td>0.0</td><td>54.9745</td><td>0.0</td><td>1840p212</td><td>4.38174 .. 0.0</td><td>1.76498 .. 0.0</td><td>0.303532 .. 0.0</td><td>0.0740772 .. 0.0</td><td>12 .. 0</td><td>12 .. 0</td><td>0.50783 .. 0.0</td><td>2.60458 .. 0.0</td><td>0.485625 .. 0.0</td><td>0.53707 .. 0.0</td><td>55357.5090754 .. 0.0</td><td>55357.5090754 .. 0.0</td><td>0.0</td><td>0.0</td><td>0.0</td><td>0.0</td><td>0.0</td><td>0.0</td><td>0.0</td><td>0.0</td><td>0.0</td><td>0.0</td><td>0.0</td><td>0.0</td><td>0.0</td><td>0.0</td><td>inf</td><td>inf</td><td>25.3303</td><td>0.752236</td><td>23.2183</td><td>0.107161</td><td>inf</td><td>inf</td><td>22.8494</td><td>0.153998</td><td>inf</td><td>inf</td><td>183.29226481273275,20.625296945719626</td><td>0.649608578937</td><td>411.708708155</td></tr>\n",
       "<tr><td>5000</td><td>446801</td><td>1833p205</td><td>3999</td><td>False</td><td>PSF</td><td>183.272659332</td><td>20.625621254</td><td>1.17869e+11</td><td>1.32526e+11</td><td>2579.75</td><td>3525.74</td><td>4121.64 .. 0.0</td><td>0.0290142</td><td>57110.18279</td><td>57887.0821904</td><td>0.0</td><td>0.134498</td><td>2.88787</td><td>0.0</td><td>6.42382</td><td>0.0</td><td>2.87877</td><td>-2.32791</td><td>-26.4961</td><td>-59.5262</td><td>0.0</td><td>0.293749</td><td>144.563</td><td>0.0</td><td>70.6647</td><td>0.0</td><td>1.81013</td><td>0.356874</td><td>0.000958928</td><td>1.93547e-05</td><td>0.0 .. 0.0</td><td>0.0 .. 0.0848592</td><td>1.55954 .. 2.38649</td><td>0.0 .. 0.0</td><td>2.21138 .. 5.95812</td><td>0.0 .. 0.0</td><td>0.0 .. 0.0</td><td>0.0 .. 0.0583111</td><td>0.0366968 .. -0.638738</td><td>0.0 .. 0.0</td><td>-0.00847313 .. -0.606939</td><td>0.0 .. 0.0</td><td>0.0 .. 0.0</td><td>0.0 .. 16.4263</td><td>512.785 .. 3.26739</td><td>0.0 .. 0.0</td><td>474.073 .. 2.33652</td><td>0.0 .. 0.0</td><td>0.898743</td><td>0.917697</td><td>0.943786</td><td>0.958349</td><td>0.968156</td><td>0.971967</td><td>0.995095</td><td>0.996985</td><td>0.999356</td><td>0.999757</td><td>0</td><td>2</td><td>2</td><td>0</td><td>3</td><td>0</td><td>75</td><td>75</td><td>12</td><td>12</td><td>0.0</td><td>0.0118183</td><td>0.61724</td><td>0.0</td><td>1.12225</td><td>0.0</td><td>0.512001</td><td>1.31614</td><td>0.622962</td><td>0.150638</td><td>0.0</td><td>0.0</td><td>0.0</td><td>0.0</td><td>0.0</td><td>0.0</td><td>0.0251789</td><td>0.0202835</td><td>0.0531938</td><td>1.80223</td><td>0.0</td><td>0.9975</td><td>0.505728</td><td>0.0</td><td>0.0239995</td><td>0.0</td><td>0.0</td><td>0.870834</td><td>0.663793</td><td>0.0</td><td>1.0072</td><td>0.0</td><td>0</td><td>1</td><td>1</td><td>0</td><td>0</td><td>0</td><td>0</td><td>1</td><td>0</td><td>0</td><td>0</td><td>0</td><td>0</td><td>0</td><td>0.0</td><td>0.0</td><td>1.00318</td><td>0.0</td><td>1.55571</td><td>0.0</td><td>0.0</td><td>0.0</td><td>176.181</td><td>0.0</td><td>69.1649</td><td>0.0</td><td>0.0</td><td>0.0</td><td>85.4282</td><td>0.0</td><td>43.8412</td><td>0.0</td><td>1840p212</td><td>1.81521 .. 0.0</td><td>-2.482 .. 0.0</td><td>0.276164 .. 0.0</td><td>0.0747737 .. 0.0</td><td>12 .. 0</td><td>12 .. 0</td><td>0.0354169 .. 0.0</td><td>0.0168526 .. 0.0</td><td>0.359613 .. 0.0</td><td>0.8299 .. 0.0</td><td>55357.5090754 .. 0.0</td><td>55357.5090754 .. 0.0</td><td>0.0</td><td>0.0</td><td>0.0</td><td>0.0</td><td>0.0</td><td>0.0</td><td>0.0</td><td>0.0</td><td>0.0</td><td>0.0</td><td>0.0</td><td>0.0</td><td>0.0</td><td>0.0</td><td>inf</td><td>inf</td><td>24.6782</td><td>14.8944</td><td>21.3486</td><td>0.0312692</td><td>inf</td><td>inf</td><td>20.4805</td><td>0.0201062</td><td>inf</td><td>inf</td><td>183.27265933193127,20.625621254021013</td><td>0.636700902124</td><td>403.528085056</td></tr>\n",
       "<tr><td>5000</td><td>446801</td><td>1833p205</td><td>4000</td><td>False</td><td>REX</td><td>183.205440162</td><td>20.625186904</td><td>9.29021e+08</td><td>1.0714e+09</td><td>3444.18</td><td>3520.27</td><td>42.1908 .. 0.0</td><td>0.0280877</td><td>57110.18279</td><td>57887.0821904</td><td>0.0</td><td>0.0</td><td>0.638357</td><td>0.0</td><td>0.150079</td><td>0.0</td><td>0.41079</td><td>2.0382</td><td>-3.44741</td><td>352.781</td><td>0.0</td><td>0.0</td><td>103.154</td><td>0.0</td><td>52.9325</td><td>0.0</td><td>1.81589</td><td>0.368134</td><td>0.000948709</td><td>1.95015e-05</td><td>0.0 .. 0.0</td><td>0.0 .. 0.141333</td><td>0.241282 .. 0.185732</td><td>0.0 .. 0.0</td><td>0.0741714 .. -0.279437</td><td>0.0 .. 0.0</td><td>0.0 .. 0.0</td><td>0.0 .. 0.141333</td><td>0.0132331 .. -0.53345</td><td>0.0 .. 0.0</td><td>0.0364651 .. -0.778188</td><td>0.0 .. 0.0</td><td>0.0 .. 0.0</td><td>0.0 .. 28.4807</td><td>512.785 .. 2.97919</td><td>0.0 .. 0.0</td><td>474.073 .. 2.26153</td><td>0.0 .. 0.0</td><td>0.901812</td><td>0.920217</td><td>0.945532</td><td>0.959652</td><td>0.969157</td><td>0.97285</td><td>0.995251</td><td>0.997081</td><td>0.999377</td><td>0.999765</td><td>0</td><td>1</td><td>2</td><td>0</td><td>3</td><td>0</td><td>75</td><td>78</td><td>12</td><td>12</td><td>0.0</td><td>0.0</td><td>0.415941</td><td>0.0</td><td>0.898736</td><td>0.0</td><td>1.20008</td><td>0.601104</td><td>0.62916</td><td>0.157867</td><td>0.0</td><td>0.0</td><td>-9.24395e-11</td><td>0.0</td><td>-9.72627e-10</td><td>0.0</td><td>0.292614</td><td>0.0393648</td><td>0.357801</td><td>0.223622</td><td>0.0</td><td>0.0</td><td>0.432077</td><td>0.0</td><td>0.0739357</td><td>0.0</td><td>0.0</td><td>0.0</td><td>0.849666</td><td>0.0</td><td>0.972564</td><td>0.0</td><td>0</td><td>1</td><td>1</td><td>0</td><td>0</td><td>0</td><td>0</td><td>1</td><td>0</td><td>0</td><td>0</td><td>0</td><td>0</td><td>0</td><td>0.0</td><td>0.0</td><td>1.00318</td><td>0.0</td><td>1.53255</td><td>0.0</td><td>0.0</td><td>0.0</td><td>176.181</td><td>0.0</td><td>69.1649</td><td>0.0</td><td>0.0</td><td>0.0</td><td>85.4282</td><td>0.0</td><td>43.8412</td><td>0.0</td><td>1824p212</td><td>-2.07459 .. 0.0</td><td>2.83039 .. 0.0</td><td>0.292797 .. 0.0</td><td>0.0767098 .. 0.0</td><td>12 .. 0</td><td>12 .. 0</td><td>0.0527026 .. 0.0</td><td>0.0362508 .. 0.0</td><td>0.969387 .. 0.0</td><td>0.77342 .. 0.0</td><td>55356.1859738 .. 0.0</td><td>55356.1859738 .. 0.0</td><td>0.0</td><td>0.0</td><td>0.358358</td><td>92.3412</td><td>0.0</td><td>0.0</td><td>0.0</td><td>0.0</td><td>0.0</td><td>0.0</td><td>0.0</td><td>0.0</td><td>0.0</td><td>0.0</td><td>inf</td><td>inf</td><td>inf</td><td>inf</td><td>22.9873</td><td>0.167463</td><td>inf</td><td>inf</td><td>24.5592</td><td>0.994361</td><td>inf</td><td>inf</td><td>183.2054401624705,20.625186904041424</td><td>0.593464790552</td><td>376.125916707</td></tr>\n",
       "<tr><td>5000</td><td>446801</td><td>1833p205</td><td>4001</td><td>False</td><td>REX</td><td>183.378152982</td><td>20.625464317</td><td>2.69609e+09</td><td>3.11842e+09</td><td>1223.13</td><td>3523.52</td><td>191.516 .. 218.549</td><td>0.0305249</td><td>57110.18279</td><td>57887.0821904</td><td>0.0</td><td>0.34338</td><td>0.613877</td><td>0.0</td><td>1.67143</td><td>0.0</td><td>5.80116</td><td>1.41161</td><td>8.6997</td><td>-38.3659</td><td>0.0</td><td>191.832</td><td>163.899</td><td>0.0</td><td>48.0499</td><td>0.0</td><td>1.81179</td><td>0.352834</td><td>0.000939219</td><td>1.97387e-05</td><td>0.0 .. 0.0</td><td>0.0803936 .. 0.265384</td><td>0.16528 .. -0.0671791</td><td>0.0 .. 0.0</td><td>0.328139 .. -1.79039</td><td>0.0 .. 0.0</td><td>0.0 .. 0.0</td><td>-0.00727695 .. -0.161612</td><td>-0.00339694 .. -0.996497</td><td>0.0 .. 0.0</td><td>-0.009653 .. -3.61504</td><td>0.0 .. 0.0</td><td>0.0 .. 0.0</td><td>1448.56 .. 8.51165</td><td>1128.92 .. 6.20905</td><td>0.0 .. 0.0</td><td>533.474 .. 2.76871</td><td>0.0 .. 0.0</td><td>0.893761</td><td>0.913602</td><td>0.940948</td><td>0.956229</td><td>0.966527</td><td>0.970529</td><td>0.99484</td><td>0.996828</td><td>0.999323</td><td>0.999744</td><td>0</td><td>2</td><td>3</td><td>0</td><td>4</td><td>0</td><td>76</td><td>76</td><td>12</td><td>12</td><td>0.0</td><td>0.634144</td><td>0.63346</td><td>0.0</td><td>0.896498</td><td>0.0</td><td>0.370282</td><td>0.542153</td><td>0.678069</td><td>0.169125</td><td>0.0</td><td>7.14673e-10</td><td>-2.19251e-10</td><td>0.0</td><td>-1.78139e-09</td><td>0.0</td><td>0.050489</td><td>0.211479</td><td>0.568045</td><td>2.53481</td><td>0.0</td><td>0.487272</td><td>0.288551</td><td>0.0</td><td>0.082153</td><td>0.0</td><td>0.0</td><td>0.968191</td><td>0.931079</td><td>0.0</td><td>1.00496</td><td>0.0</td><td>0</td><td>1</td><td>1</td><td>0</td><td>1</td><td>0</td><td>0</td><td>0</td><td>0</td><td>0</td><td>0</td><td>0</td><td>0</td><td>0</td><td>0.0</td><td>1.09151</td><td>0.976967</td><td>0.0</td><td>1.63994</td><td>0.0</td><td>0.0</td><td>420.386</td><td>408.329</td><td>0.0</td><td>60.1762</td><td>0.0</td><td>0.0</td><td>221.172</td><td>192.497</td><td>0.0</td><td>39.6723</td><td>0.0</td><td>1840p212</td><td>5.17096 .. 0.0</td><td>5.0103 .. 0.0</td><td>0.299073 .. 0.0</td><td>0.0691636 .. 0.0</td><td>12 .. 0</td><td>12 .. 0</td><td>0.056661 .. 0.0</td><td>0.0709594 .. 0.0</td><td>0.426335 .. 0.0</td><td>0.496523 .. 0.0</td><td>55357.5090754 .. 0.0</td><td>55357.5090754 .. 0.0</td><td>0.0</td><td>0.0</td><td>0.517465</td><td>276.893</td><td>0.0</td><td>0.0</td><td>0.0</td><td>0.0</td><td>0.0</td><td>0.0</td><td>0.0</td><td>0.0</td><td>0.0</td><td>0.0</td><td>inf</td><td>inf</td><td>23.6606</td><td>0.228291</td><td>23.0298</td><td>0.138151</td><td>inf</td><td>inf</td><td>21.9423</td><td>0.093711</td><td>inf</td><td>inf</td><td>183.37815298167402,20.625464317033764</td><td>0.710009305805</td><td>449.989460653</td></tr>\n",
       "<tr><td>5000</td><td>446801</td><td>1833p205</td><td>4002</td><td>False</td><td>PSF</td><td>183.315786069</td><td>20.6254411067</td><td>3.49421e+09</td><td>4.16607e+09</td><td>2025.15</td><td>3523.13</td><td>114.608 .. 0.0</td><td>0.0294742</td><td>57110.18279</td><td>57887.0821904</td><td>0.0</td><td>0.181642</td><td>0.432635</td><td>0.0</td><td>0.666035</td><td>0.0</td><td>-1.24063</td><td>-3.2098</td><td>31.6883</td><td>34.629</td><td>0.0</td><td>390.968</td><td>388.78</td><td>0.0</td><td>63.633</td><td>0.0</td><td>1.83447</td><td>0.348726</td><td>0.000958477</td><td>2.00991e-05</td><td>0.0 .. 0.0</td><td>0.0836989 .. -0.658848</td><td>0.245134 .. -0.921246</td><td>0.0 .. 0.0</td><td>0.210434 .. -0.695783</td><td>0.0 .. 0.0</td><td>0.0 .. 0.0</td><td>0.00346788 .. -0.841118</td><td>0.0193943 .. -1.68062</td><td>0.0 .. 0.0</td><td>-0.0131196 .. -1.61772</td><td>0.0 .. 0.0</td><td>0.0 .. 0.0</td><td>1448.56 .. 7.54196</td><td>1128.92 .. 5.75979</td><td>0.0 .. 0.0</td><td>465.9 .. 2.37255</td><td>0.0 .. 0.0</td><td>0.897223</td><td>0.916448</td><td>0.942921</td><td>0.957703</td><td>0.96766</td><td>0.971529</td><td>0.995017</td><td>0.996937</td><td>0.999346</td><td>0.999753</td><td>0</td><td>1</td><td>2</td><td>0</td><td>3</td><td>0</td><td>73</td><td>74</td><td>12</td><td>12</td><td>0.0</td><td>1.0824</td><td>0.932431</td><td>0.0</td><td>0.783868</td><td>0.0</td><td>0.484594</td><td>0.94915</td><td>0.455072</td><td>0.135904</td><td>0.0</td><td>0.0</td><td>0.0</td><td>0.0</td><td>0.0</td><td>0.0</td><td>0.414773</td><td>0.115675</td><td>0.200062</td><td>7.5828</td><td>0.0</td><td>0.0239089</td><td>0.0125403</td><td>0.0</td><td>0.0425655</td><td>0.0</td><td>0.0</td><td>0.99126</td><td>0.99761</td><td>0.0</td><td>0.996167</td><td>0.0</td><td>0</td><td>0</td><td>0</td><td>0</td><td>0</td><td>0</td><td>0</td><td>0</td><td>0</td><td>0</td><td>0</td><td>0</td><td>0</td><td>0</td><td>0.0</td><td>1.09151</td><td>0.979195</td><td>0.0</td><td>1.63645</td><td>0.0</td><td>0.0</td><td>420.386</td><td>408.329</td><td>0.0</td><td>60.1762</td><td>0.0</td><td>0.0</td><td>221.172</td><td>192.497</td><td>0.0</td><td>39.6723</td><td>0.0</td><td>1840p212</td><td>-0.585374 .. 0.0</td><td>-3.26805 .. 0.0</td><td>0.305539 .. 0.0</td><td>0.0757359 .. 0.0</td><td>12 .. 0</td><td>12 .. 0</td><td>1.04553 .. 0.0</td><td>0.176837 .. 0.0</td><td>0.471678 .. 0.0</td><td>0.596617 .. 0.0</td><td>55357.5090754 .. 0.0</td><td>55357.5090754 .. 0.0</td><td>0.0</td><td>0.0</td><td>0.0</td><td>0.0</td><td>0.0</td><td>0.0</td><td>0.0</td><td>0.0</td><td>0.0</td><td>0.0</td><td>0.0</td><td>0.0</td><td>0.0</td><td>0.0</td><td>inf</td><td>inf</td><td>24.352</td><td>0.302299</td><td>23.4097</td><td>0.127277</td><td>inf</td><td>inf</td><td>22.9413</td><td>0.204355</td><td>inf</td><td>inf</td><td>183.31578606893558,20.625441106680004</td><td>0.665793317321</td><td>421.966266242</td></tr>\n",
       "<tr><td>5000</td><td>446801</td><td>1833p205</td><td>4003</td><td>False</td><td>PSF</td><td>183.310694597</td><td>20.6263397717</td><td>2.68771e+13</td><td>3.58547e+13</td><td>2090.63</td><td>3535.49</td><td>718771.0 .. 718829.0</td><td>0.0294389</td><td>57110.18279</td><td>57887.0821904</td><td>0.0</td><td>42.7544</td><td>77.6688</td><td>0.0</td><td>102.727</td><td>0.0</td><td>33.3188</td><td>15.7673</td><td>-43.6316</td><td>-437.885</td><td>0.0</td><td>44.1307</td><td>46.9279</td><td>0.0</td><td>33.7031</td><td>0.0</td><td>1.85216</td><td>0.352291</td><td>0.00094866</td><td>2.00647e-05</td><td>0.0 .. 0.0</td><td>18.6412 .. 42.6118</td><td>40.4855 .. 79.3382</td><td>0.0 .. 0.0</td><td>30.7711 .. 104.672</td><td>0.0 .. 0.0</td><td>0.0 .. 0.0</td><td>-0.251868 .. -0.278255</td><td>-0.215188 .. 0.489479</td><td>0.0 .. 0.0</td><td>-0.0333442 .. -1.90499</td><td>0.0 .. 0.0</td><td>0.0 .. 0.0</td><td>1448.56 .. 7.39062</td><td>1128.92 .. 5.75979</td><td>0.0 .. 0.0</td><td>465.9 .. 2.37704</td><td>0.0 .. 0.0</td><td>0.897339</td><td>0.916544</td><td>0.942987</td><td>0.957753</td><td>0.967698</td><td>0.971563</td><td>0.995023</td><td>0.996941</td><td>0.999347</td><td>0.999753</td><td>0</td><td>1</td><td>2</td><td>0</td><td>3</td><td>0</td><td>74</td><td>74</td><td>12</td><td>12</td><td>0.0</td><td>8.3005</td><td>13.0955</td><td>0.0</td><td>4.38976</td><td>0.0</td><td>0.685488</td><td>0.832812</td><td>0.634845</td><td>0.140034</td><td>0.0</td><td>0.0</td><td>0.0</td><td>0.0</td><td>0.0</td><td>0.0</td><td>0.00176579</td><td>0.00319035</td><td>0.0455726</td><td>0.0990966</td><td>0.0</td><td>0.0362058</td><td>0.0174551</td><td>0.0</td><td>0.0109001</td><td>0.0</td><td>0.0</td><td>0.997906</td><td>1.00685</td><td>0.0</td><td>1.0269</td><td>0.0</td><td>0</td><td>0</td><td>0</td><td>0</td><td>0</td><td>0</td><td>0</td><td>0</td><td>0</td><td>0</td><td>0</td><td>0</td><td>0</td><td>0</td><td>0.0</td><td>1.09151</td><td>0.97799</td><td>0.0</td><td>1.72733</td><td>0.0</td><td>0.0</td><td>420.386</td><td>408.329</td><td>0.0</td><td>60.1762</td><td>0.0</td><td>0.0</td><td>221.172</td><td>192.497</td><td>0.0</td><td>39.6723</td><td>0.0</td><td>1840p212</td><td>33.0642 .. 0.0</td><td>19.7161 .. 0.0</td><td>0.306225 .. 0.0</td><td>0.0733945 .. 0.0</td><td>12 .. 0</td><td>12 .. 0</td><td>0.00252557 .. 0.0</td><td>0.00311656 .. 0.0</td><td>1.16978 .. 0.0</td><td>0.792756 .. 0.0</td><td>55357.5090754 .. 0.0</td><td>55357.5090754 .. 0.0</td><td>0.0</td><td>0.0</td><td>0.0</td><td>0.0</td><td>0.0</td><td>0.0</td><td>0.0</td><td>0.0</td><td>0.0</td><td>0.0</td><td>0.0</td><td>0.0</td><td>0.0</td><td>0.0</td><td>inf</td><td>inf</td><td>18.4225</td><td>0.00382272</td><td>17.7744</td><td>0.00204062</td><td>inf</td><td>inf</td><td>17.4708</td><td>0.00182056</td><td>inf</td><td>inf</td><td>183.3106945974837,20.62633977171669</td><td>0.662891935613</td><td>420.127429512</td></tr>\n",
       "<tr><td>5000</td><td>446801</td><td>1833p205</td><td>4004</td><td>False</td><td>PSF</td><td>183.24699287</td><td>20.6255182719</td><td>1.89512e+09</td><td>2.18177e+09</td><td>2909.82</td><td>3524.48</td><td>50.4272 .. 0.0</td><td>0.0286913</td><td>57110.18279</td><td>57887.0821904</td><td>0.0</td><td>0.83635</td><td>0.469651</td><td>0.0</td><td>0.455602</td><td>0.0</td><td>3.24664</td><td>1.77927</td><td>-27.5645</td><td>-49.1348</td><td>0.0</td><td>0.0931307</td><td>182.347</td><td>0.0</td><td>76.5564</td><td>0.0</td><td>1.88867</td><td>0.358819</td><td>0.000948763</td><td>1.99742e-05</td><td>0.0 .. 0.0</td><td>0.0 .. -0.676148</td><td>0.2385 .. -0.124863</td><td>0.0 .. 0.0</td><td>0.175636 .. -0.885558</td><td>0.0 .. 0.0</td><td>0.0 .. 0.0</td><td>0.0 .. -0.694765</td><td>-0.00887782 .. -0.674717</td><td>0.0 .. 0.0</td><td>0.0234164 .. -1.08763</td><td>0.0 .. 0.0</td><td>0.0 .. 0.0</td><td>0.0 .. 22.6637</td><td>512.785 .. 3.11714</td><td>0.0 .. 0.0</td><td>474.073 .. 2.3333</td><td>0.0 .. 0.0</td><td>0.899811</td><td>0.918575</td><td>0.944394</td><td>0.958803</td><td>0.968505</td><td>0.972275</td><td>0.995149</td><td>0.997018</td><td>0.999363</td><td>0.99976</td><td>0</td><td>1</td><td>2</td><td>0</td><td>3</td><td>0</td><td>77</td><td>77</td><td>12</td><td>12</td><td>0.0</td><td>0.00596071</td><td>0.365691</td><td>0.0</td><td>0.830246</td><td>0.0</td><td>1.02728</td><td>0.614644</td><td>0.797903</td><td>0.124939</td><td>0.0</td><td>0.0</td><td>0.0</td><td>0.0</td><td>0.0</td><td>0.0</td><td>0.0308948</td><td>0.0239245</td><td>0.0833227</td><td>1.9088</td><td>0.0</td><td>0.991286</td><td>0.499208</td><td>0.0</td><td>0.0474912</td><td>0.0</td><td>0.0</td><td>0.977903</td><td>0.980071</td><td>0.0</td><td>0.986055</td><td>0.0</td><td>0</td><td>1</td><td>1</td><td>0</td><td>0</td><td>0</td><td>0</td><td>1</td><td>0</td><td>0</td><td>0</td><td>0</td><td>0</td><td>0</td><td>0.0</td><td>0.0</td><td>1.00318</td><td>0.0</td><td>1.5407</td><td>0.0</td><td>0.0</td><td>0.0</td><td>176.181</td><td>0.0</td><td>69.1649</td><td>0.0</td><td>0.0</td><td>0.0</td><td>85.4282</td><td>0.0</td><td>43.8412</td><td>0.0</td><td>1840p212</td><td>0.00945941 .. 0.0</td><td>1.08716 .. 0.0</td><td>0.296505 .. 0.0</td><td>0.0734763 .. 0.0</td><td>12 .. 0</td><td>12 .. 0</td><td>0.494234 .. 0.0</td><td>0.0772751 .. 0.0</td><td>0.516061 .. 0.0</td><td>0.619983 .. 0.0</td><td>55357.5090754 .. 0.0</td><td>55357.5090754 .. 0.0</td><td>0.0</td><td>0.0</td><td>0.0</td><td>0.0</td><td>0.0</td><td>0.0</td><td>0.0</td><td>0.0</td><td>0.0</td><td>0.0</td><td>0.0</td><td>0.0</td><td>0.0</td><td>0.0</td><td>inf</td><td>inf</td><td>22.694</td><td>4.25393</td><td>23.3206</td><td>0.171198</td><td>inf</td><td>inf</td><td>23.3535</td><td>0.272363</td><td>inf</td><td>inf</td><td>183.24699286971813,20.625518271897924</td><td>0.619837762905</td><td>392.840570316</td></tr>\n",
       "<tr><td>5000</td><td>446801</td><td>1833p205</td><td>4005</td><td>False</td><td>REX</td><td>183.213534747</td><td>20.626175483</td><td>4.81156e+11</td><td>5.32085e+11</td><td>3340.08</td><td>3533.78</td><td>30172.3 .. 32296.3</td><td>0.028225</td><td>57110.18279</td><td>57887.0821904</td><td>0.0</td><td>1.79355</td><td>9.51378</td><td>0.0</td><td>22.5696</td><td>0.0</td><td>37.6614</td><td>26.5541</td><td>47.1406</td><td>138.792</td><td>0.0</td><td>140.308</td><td>107.95</td><td>0.0</td><td>43.2668</td><td>0.0</td><td>1.825</td><td>0.359963</td><td>0.000944963</td><td>1.99365e-05</td><td>0.0 .. 0.0</td><td>0.376195 .. 1.76125</td><td>2.7771 .. 10.3889</td><td>0.0 .. 0.0</td><td>5.32366 .. 25.9462</td><td>0.0 .. 0.0</td><td>0.0 .. 0.0</td><td>0.0243188 .. 0.133837</td><td>0.0295375 .. 0.903962</td><td>0.0 .. 0.0</td><td>0.0109718 .. 2.89522</td><td>0.0 .. 0.0</td><td>0.0 .. 0.0</td><td>1588.88 .. 13.4766</td><td>1017.04 .. 3.70997</td><td>0.0 .. 0.0</td><td>474.073 .. 2.41784</td><td>0.0 .. 0.0</td><td>0.901356</td><td>0.919844</td><td>0.945273</td><td>0.959459</td><td>0.969009</td><td>0.972719</td><td>0.995228</td><td>0.997067</td><td>0.999374</td><td>0.999763</td><td>0</td><td>1</td><td>2</td><td>0</td><td>3</td><td>0</td><td>76</td><td>77</td><td>12</td><td>12</td><td>0.0</td><td>0.936974</td><td>1.2775</td><td>0.0</td><td>1.12629</td><td>0.0</td><td>2.22248</td><td>0.708494</td><td>0.67029</td><td>0.121666</td><td>0.0</td><td>-1.52526e-09</td><td>7.48378e-09</td><td>0.0</td><td>-2.00718e-10</td><td>0.0</td><td>0.000936822</td><td>0.000673017</td><td>0.115514</td><td>0.524376</td><td>0.0</td><td>0.124803</td><td>0.19435</td><td>0.0</td><td>0.00934961</td><td>0.0</td><td>0.0</td><td>1.00565</td><td>1.00509</td><td>0.0</td><td>1.01334</td><td>0.0</td><td>0</td><td>0</td><td>0</td><td>0</td><td>0</td><td>0</td><td>0</td><td>0</td><td>0</td><td>0</td><td>0</td><td>0</td><td>0</td><td>0</td><td>0.0</td><td>1.59516</td><td>1.21504</td><td>0.0</td><td>1.56669</td><td>0.0</td><td>0.0</td><td>215.902</td><td>286.594</td><td>0.0</td><td>69.1649</td><td>0.0</td><td>0.0</td><td>148.84</td><td>156.854</td><td>0.0</td><td>43.8412</td><td>0.0</td><td>1824p212</td><td>38.5414 .. 0.0</td><td>29.9868 .. 0.0</td><td>0.294582 .. 0.0</td><td>0.075569 .. 0.0</td><td>12 .. 0</td><td>12 .. 0</td><td>0.000305688 .. 0.0</td><td>0.000822681 .. 0.0</td><td>0.614267 .. 0.0</td><td>0.887486 .. 0.0</td><td>55356.1859738 .. 0.0</td><td>55356.1859738 .. 0.0</td><td>0.0</td><td>0.0</td><td>0.399941</td><td>40630.0</td><td>0.0</td><td>0.0</td><td>0.0</td><td>0.0</td><td>0.0</td><td>0.0</td><td>0.0</td><td>0.0</td><td>0.0</td><td>0.0</td><td>inf</td><td>inf</td><td>21.8657</td><td>0.0511059</td><td>20.0541</td><td>0.010984</td><td>inf</td><td>inf</td><td>19.1162</td><td>0.00731347</td><td>inf</td><td>inf</td><td>183.21353474674703,20.62617548297628</td><td>0.599188299344</td><td>379.753360198</td></tr>\n",
       "<tr><td>5000</td><td>446801</td><td>1833p205</td><td>4006</td><td>False</td><td>PSF</td><td>183.258357614</td><td>20.6264488927</td><td>5.75275e+12</td><td>6.45713e+12</td><td>2763.66</td><td>3537.19</td><td>202110.0 .. 202705.0</td><td>0.0288444</td><td>57110.18279</td><td>57887.0821904</td><td>0.0</td><td>5.86963</td><td>21.5576</td><td>0.0</td><td>54.2046</td><td>0.0</td><td>29.5274</td><td>18.4642</td><td>-19.9999</td><td>-132.46</td><td>0.0</td><td>137.987</td><td>119.889</td><td>0.0</td><td>48.4168</td><td>0.0</td><td>1.81401</td><td>0.357942</td><td>0.000952076</td><td>1.96531e-05</td><td>0.0 .. 0.0</td><td>1.55101 .. 5.78123</td><td>9.06449 .. 21.0074</td><td>0.0 .. 0.0</td><td>18.0656 .. 54.195</td><td>0.0 .. 0.0</td><td>0.0 .. 0.0</td><td>0.00336798 .. -0.00626672</td><td>-0.0947573 .. -0.596649</td><td>0.0 .. 0.0</td><td>-0.119722 .. -1.37526</td><td>0.0 .. 0.0</td><td>0.0 .. 0.0</td><td>1588.88 .. 12.3247</td><td>1154.26 .. 3.88508</td><td>0.0 .. 0.0</td><td>474.073 .. 2.41874</td><td>0.0 .. 0.0</td><td>0.899304</td><td>0.918159</td><td>0.944106</td><td>0.958588</td><td>0.96834</td><td>0.972129</td><td>0.995124</td><td>0.997002</td><td>0.99936</td><td>0.999758</td><td>0</td><td>1</td><td>2</td><td>0</td><td>3</td><td>0</td><td>75</td><td>74</td><td>12</td><td>12</td><td>0.0</td><td>1.22659</td><td>7.99131</td><td>0.0</td><td>10.1915</td><td>0.0</td><td>0.859499</td><td>0.66</td><td>0.397219</td><td>0.160158</td><td>0.0</td><td>0.0</td><td>0.0</td><td>0.0</td><td>0.0</td><td>0.0</td><td>0.00199313</td><td>0.000823108</td><td>0.181653</td><td>1.31295</td><td>0.0</td><td>0.0339151</td><td>0.0532317</td><td>0.0</td><td>0.023593</td><td>0.0</td><td>0.0</td><td>1.00659</td><td>1.00649</td><td>0.0</td><td>1.01363</td><td>0.0</td><td>0</td><td>0</td><td>0</td><td>0</td><td>0</td><td>0</td><td>0</td><td>0</td><td>0</td><td>0</td><td>0</td><td>0</td><td>0</td><td>0</td><td>0.0</td><td>1.59516</td><td>1.23746</td><td>0.0</td><td>1.62217</td><td>0.0</td><td>0.0</td><td>215.902</td><td>286.594</td><td>0.0</td><td>69.1649</td><td>0.0</td><td>0.0</td><td>148.84</td><td>156.854</td><td>0.0</td><td>43.8412</td><td>0.0</td><td>1840p212</td><td>28.5491 .. 0.0</td><td>15.6754 .. 0.0</td><td>0.309938 .. 0.0</td><td>0.0749762 .. 0.0</td><td>12 .. 0</td><td>12 .. 0</td><td>0.00129243 .. 0.0</td><td>0.00379766 .. 0.0</td><td>0.48399 .. 0.0</td><td>0.786084 .. 0.0</td><td>55357.5090754 .. 0.0</td><td>55357.5090754 .. 0.0</td><td>0.0</td><td>0.0</td><td>0.0</td><td>0.0</td><td>0.0</td><td>0.0</td><td>0.0</td><td>0.0</td><td>0.0</td><td>0.0</td><td>0.0</td><td>0.0</td><td>0.0</td><td>0.0</td><td>inf</td><td>inf</td><td>20.5785</td><td>0.0157469</td><td>19.166</td><td>0.00459974</td><td>inf</td><td>inf</td><td>18.1649</td><td>0.00287866</td><td>inf</td><td>inf</td><td>183.258357613877,20.626448892651005</td><td>0.627880799213</td><td>397.93808318</td></tr>\n",
       "</table>"
      ],
      "text/plain": [
       "<Table length=80766>\n",
       "release brickid brickname ...    hostsep      hostsep_phys\n",
       "                          ...      deg            kpc     \n",
       " int16   int32    str32   ...    float64        float64   \n",
       "------- ------- --------- ... -------------- -------------\n",
       "   5000  444090  1822p200 ... 0.483881588343 306.674311418\n",
       "   5000  444090  1822p200 ... 0.485173202424 307.492910159\n",
       "   5000  444090  1822p200 ... 0.486212958308 308.151886296\n",
       "   5000  444090  1822p200 ... 0.486128685575 308.098475952\n",
       "   5000  444090  1822p200 ... 0.486580067907 308.384552895\n",
       "   5000  444090  1822p200 ... 0.487910717006 309.227891236\n",
       "   5000  444090  1822p200 ... 0.482490002637 305.792352694\n",
       "   5000  444090  1822p200 ... 0.487345967215 308.869964302\n",
       "   5000  444090  1822p200 ... 0.656600505136 416.140048806\n",
       "    ...     ...       ... ...            ...           ...\n",
       "   5000  446801  1833p205 ... 0.676789170259 428.935214243\n",
       "   5000  446801  1833p205 ... 0.649608578937 411.708708155\n",
       "   5000  446801  1833p205 ... 0.636700902124 403.528085056\n",
       "   5000  446801  1833p205 ... 0.593464790552 376.125916707\n",
       "   5000  446801  1833p205 ... 0.710009305805 449.989460653\n",
       "   5000  446801  1833p205 ... 0.665793317321 421.966266242\n",
       "   5000  446801  1833p205 ... 0.662891935613 420.127429512\n",
       "   5000  446801  1833p205 ... 0.619837762905 392.840570316\n",
       "   5000  446801  1833p205 ... 0.599188299344 379.753360198\n",
       "   5000  446801  1833p205 ... 0.627880799213  397.93808318"
      ]
     },
     "execution_count": 71,
     "metadata": {},
     "output_type": "execute_result"
    }
   ],
   "source": [
    "bricks_cat = table.vstack(brick_cats)\n",
    "decals.mags_catalog(bricks_cat, extcorr=True)\n",
    "\n",
    "bricks_cat['coord'] = SkyCoord(bricks_cat['ra'], bricks_cat['dec'])\n",
    "bricks_cat['hostsep'] = bricks_cat['coord'].separation(scoobydoo['coord'])\n",
    "bricks_cat['hostsep_phys'] = (bricks_cat['hostsep']*scoobydoo['distance']*u.Mpc).to(u.kpc, u.dimensionless_angles())\n",
    "#decals.mags_catalog(bricks_cat)\n",
    "\n",
    "bricks_cat"
   ]
  },
  {
   "cell_type": "markdown",
   "metadata": {},
   "source": [
    "## Select targets"
   ]
  },
  {
   "cell_type": "markdown",
   "metadata": {},
   "source": [
    "want to use gri cuts and r<23"
   ]
  },
  {
   "cell_type": "code",
   "execution_count": 72,
   "metadata": {
    "collapsed": true
   },
   "outputs": [],
   "source": [
    "from SAGA.objects import cuts"
   ]
  },
  {
   "cell_type": "code",
   "execution_count": 73,
   "metadata": {},
   "outputs": [
    {
     "name": "stderr",
     "output_type": "stream",
     "text": [
      "-c:4: RuntimeWarning: invalid value encountered in subtract\n"
     ]
    },
    {
     "data": {
      "text/plain": [
       "80766"
      ]
     },
     "execution_count": 73,
     "metadata": {},
     "output_type": "execute_result"
    }
   ],
   "source": [
    "target_cat = bricks_cat.copy()\n",
    "for color in ['u-g', 'g-r', 'r-i', 'r-z']:\n",
    "    c1, c2 = color.split('-')\n",
    "    target_cat[c1+c2] = target_cat['mag_'+c1] - target_cat['mag_'+c2]\n",
    "    target_cat[c1+c2+'_err'] = np.hypot(target_cat['mag_err_'+c1], target_cat['mag_err_'+c2])\n",
    "    \n",
    "# add columns that `write_bino_input` understands\n",
    "target_cat['name'] = np.char.add(target_cat['brickname'],np.char.add('-', target_cat['objid'].astype(str)))\n",
    "target_cat['magnitude'] = target_cat['mag_r']\n",
    "target_cat['mmtbino_type'] = ['target']*len(target_cat)\n",
    "    \n",
    "len(target_cat)"
   ]
  },
  {
   "cell_type": "markdown",
   "metadata": {},
   "source": [
    "### star cut "
   ]
  },
  {
   "cell_type": "code",
   "execution_count": 74,
   "metadata": {},
   "outputs": [
    {
     "data": {
      "text/plain": [
       "44566"
      ]
     },
     "execution_count": 74,
     "metadata": {},
     "output_type": "execute_result"
    }
   ],
   "source": [
    "starmsk = target_cat['type'] == 'PSF '\n",
    "target_cat = target_cat[~starmsk]\n",
    "len(target_cat)"
   ]
  },
  {
   "cell_type": "markdown",
   "metadata": {},
   "source": [
    "### gri cuts "
   ]
  },
  {
   "cell_type": "code",
   "execution_count": 75,
   "metadata": {},
   "outputs": [
    {
     "name": "stdout",
     "output_type": "stream",
     "text": [
      "u\n",
      "frac with any data: 0.0\n",
      "frac deeper than 23: 0.0\n",
      "\n",
      "g\n",
      "frac with any data: 0.987479244267\n",
      "frac deeper than 23: 0.987479244267\n",
      "\n",
      "r\n",
      "frac with any data: 0.963133330342\n",
      "frac deeper than 23: 0.963133330342\n",
      "\n",
      "i\n",
      "frac with any data: 0.0\n",
      "frac deeper than 23: 0.0\n",
      "\n",
      "z\n",
      "frac with any data: 0.995175694476\n",
      "frac deeper than 23: 0.981757393529\n",
      "\n",
      "Y\n",
      "frac with any data: 0.0\n",
      "frac deeper than 23: 0.0\n",
      "\n"
     ]
    }
   ],
   "source": [
    "for band in 'ugrizY':\n",
    "    print(band)\n",
    "    print('frac with any data:', np.sum(target_cat['galdepth_'+band]>0)/len(target_cat))\n",
    "    print('frac deeper than 23:', np.sum(target_cat['galdepth_'+band]>23)/len(target_cat))\n",
    "    print('')"
   ]
  },
  {
   "cell_type": "markdown",
   "metadata": {},
   "source": [
    "So... we cannot use gri cuts.  For now lets just go with gr cuts"
   ]
  },
  {
   "cell_type": "code",
   "execution_count": 76,
   "metadata": {},
   "outputs": [
    {
     "data": {
      "text/plain": [
       "33676"
      ]
     },
     "execution_count": 76,
     "metadata": {},
     "output_type": "execute_result"
    }
   ],
   "source": [
    "target_cat = cuts.gr_cut.filter(target_cat)\n",
    "len(target_cat)"
   ]
  },
  {
   "cell_type": "markdown",
   "metadata": {},
   "source": [
    "### r-z cut "
   ]
  },
  {
   "cell_type": "markdown",
   "metadata": {},
   "source": [
    "Based on discussion in Slack, we will also do an r-z cut of 0.8 to make up for the lack of i-band"
   ]
  },
  {
   "cell_type": "code",
   "execution_count": 77,
   "metadata": {},
   "outputs": [
    {
     "data": {
      "text/plain": [
       "22491"
      ]
     },
     "execution_count": 77,
     "metadata": {},
     "output_type": "execute_result"
    }
   ],
   "source": [
    "rz_cut = cuts.Query('rz-rz_err*2.0 < 0.55')\n",
    "\n",
    "target_cat = rz_cut.filter(target_cat)\n",
    "len(target_cat)"
   ]
  },
  {
   "cell_type": "markdown",
   "metadata": {},
   "source": [
    "### mag cut"
   ]
  },
  {
   "cell_type": "markdown",
   "metadata": {},
   "source": [
    " We do r<23 in *apparent* rather than extcorr mag, as this is a spectrograph experiment"
   ]
  },
  {
   "cell_type": "code",
   "execution_count": 78,
   "metadata": {},
   "outputs": [
    {
     "data": {
      "text/plain": [
       "<matplotlib.lines.Line2D at 0x1492f54e0>"
      ]
     },
     "execution_count": 78,
     "metadata": {},
     "output_type": "execute_result"
    },
    {
     "data": {
      "image/png": "[encoded data removed]",
      "text/plain": [
       "<matplotlib.figure.Figure at 0x13749e198>"
      ]
     },
     "metadata": {},
     "output_type": "display_data"
    }
   ],
   "source": [
    "r, rerr = decals.fluxivar_to_mag_magerr(target_cat['flux_r'], target_cat['flux_ivar_r'])\n",
    "plt.scatter(r, rerr, alpha=.05, s=2)\n",
    "plt.ylim(0, .5)\n",
    "plt.xlim(18,25)\n",
    "plt.axvline(23, c='k')"
   ]
  },
  {
   "cell_type": "markdown",
   "metadata": {},
   "source": [
    "Looks like the uncertainty around 23 is ~0.1, so not too unreasonable"
   ]
  },
  {
   "cell_type": "code",
   "execution_count": 79,
   "metadata": {},
   "outputs": [
    {
     "data": {
      "text/plain": [
       "9533"
      ]
     },
     "execution_count": 79,
     "metadata": {},
     "output_type": "execute_result"
    }
   ],
   "source": [
    "target_cat = target_cat[r<23*u.mag]\n",
    "len(target_cat)"
   ]
  },
  {
   "cell_type": "markdown",
   "metadata": {},
   "source": [
    "Now take only those inside 300 kpc"
   ]
  },
  {
   "cell_type": "code",
   "execution_count": 80,
   "metadata": {},
   "outputs": [
    {
     "data": {
      "text/plain": [
       "5073"
      ]
     },
     "execution_count": 80,
     "metadata": {},
     "output_type": "execute_result"
    }
   ],
   "source": [
    "target_cat = target_cat[u.Quantity(target_cat['hostsep_phys']) < 300*u.kpc]\n",
    "len(target_cat)"
   ]
  },
  {
   "cell_type": "markdown",
   "metadata": {},
   "source": [
    "### X-match w/ base catalogs"
   ]
  },
  {
   "cell_type": "code",
   "execution_count": 81,
   "metadata": {},
   "outputs": [
    {
     "data": {
      "image/png": "[encoded data removed]",
      "text/plain": [
       "<matplotlib.figure.Figure at 0x132fd00b8>"
      ]
     },
     "metadata": {},
     "output_type": "display_data"
    }
   ],
   "source": [
    "idx, d2d, _ = target_cat['coord'].match_to_catalog_sky(basecatalog['coord'])\n",
    "\n",
    "plt.figure(figsize=(10, 4))\n",
    "plt.hist(d2d.arcsec, bins=500, range=(0, 40), log=True)\n",
    "plt.axvline(1.75, color='k')\n",
    "\n",
    "matched = d2d<1.75*u.arcsec\n",
    "\n",
    "target_no_match = target_cat[~matched]\n",
    "target_matched = target_cat[matched]\n",
    "base_matched_to_target = basecatalog[idx[matched]]\n",
    "\n",
    "\n",
    "for cat in [target_no_match, target_matched]:\n",
    "    cat['name'] = np.char.add(np.char.add(cat['brickname'], '_'), cat['objid'].astype(str))\n"
   ]
  },
  {
   "cell_type": "markdown",
   "metadata": {},
   "source": [
    "#### Inspect the objects from the target catalog that have *no* sdss equivalent "
   ]
  },
  {
   "cell_type": "code",
   "execution_count": 25,
   "metadata": {
    "scrolled": false
   },
   "outputs": [
    {
     "name": "stdout",
     "output_type": "stream",
     "text": [
      "put this into http://skyserver.sdss.org/dr13/en/tools/chart/listinfo.aspx\n",
      "name ra dec\n",
      "1825p197_1865 182.609393726 19.7531883848\n",
      "1827p197_1570 182.663633823 19.7215775892\n",
      "1828p205_621 182.823871388 20.4139068113\n",
      "1825p202_3770 182.566888264 20.3546198319\n",
      "1827p197_2276 182.767712013 19.7672715735\n",
      "1830p205_1856 183.071942796 20.5059904947\n"
     ]
    },
    {
     "data": {
      "text/html": [
       "\n",
       "    <table>\n",
       "\n",
       "    <tr>\n",
       "    <th>obj</th><th>DECALS</th><th>SDSS</th>\n",
       "    </tr>\n",
       "\n",
       "    <tr><td>442734_1865<br>ra=182.60939372594197<br>dec=19.753188384815775</td><td><a href=\"http://legacysurvey.org/viewer?ra=182.60939372594197&dec=19.753188384815775\"><img src=\"http://legacysurvey.org/viewer/jpeg-cutout/?ra=182.60939372594197&dec=19.753188384815775&layer=decals-dr3&pixscale=0.1&bands=grz\"></a></td><td><a href=\"http://skyserver.sdss.org/dr12/en/tools/chart/navi.aspx?ra=182.60939372594197&dec=19.753188384815775\"><img src=\"http://legacysurvey.org/viewer/jpeg-cutout/?ra=182.60939372594197&dec=19.753188384815775&layer=sdssco&pixscale=0.1&bands=gri\"></a></td></tr>\n",
       "<tr><td>442735_1570<br>ra=182.66363382258328<br>dec=19.721577589186968</td><td><a href=\"http://legacysurvey.org/viewer?ra=182.66363382258328&dec=19.721577589186968\"><img src=\"http://legacysurvey.org/viewer/jpeg-cutout/?ra=182.66363382258328&dec=19.721577589186968&layer=decals-dr3&pixscale=0.1&bands=grz\"></a></td><td><a href=\"http://skyserver.sdss.org/dr12/en/tools/chart/navi.aspx?ra=182.66363382258328&dec=19.721577589186968\"><img src=\"http://legacysurvey.org/viewer/jpeg-cutout/?ra=182.66363382258328&dec=19.721577589186968&layer=sdssco&pixscale=0.1&bands=gri\"></a></td></tr>\n",
       "<tr><td>446799_621<br>ra=182.8238713877552<br>dec=20.413906811280878</td><td><a href=\"http://legacysurvey.org/viewer?ra=182.8238713877552&dec=20.413906811280878\"><img src=\"http://legacysurvey.org/viewer/jpeg-cutout/?ra=182.8238713877552&dec=20.413906811280878&layer=decals-dr3&pixscale=0.1&bands=grz\"></a></td><td><a href=\"http://skyserver.sdss.org/dr12/en/tools/chart/navi.aspx?ra=182.8238713877552&dec=20.413906811280878\"><img src=\"http://legacysurvey.org/viewer/jpeg-cutout/?ra=182.8238713877552&dec=20.413906811280878&layer=sdssco&pixscale=0.1&bands=gri\"></a></td></tr>\n",
       "<tr><td>445446_3770<br>ra=182.56688826436235<br>dec=20.35461983193176</td><td><a href=\"http://legacysurvey.org/viewer?ra=182.56688826436235&dec=20.35461983193176\"><img src=\"http://legacysurvey.org/viewer/jpeg-cutout/?ra=182.56688826436235&dec=20.35461983193176&layer=decals-dr3&pixscale=0.1&bands=grz\"></a></td><td><a href=\"http://skyserver.sdss.org/dr12/en/tools/chart/navi.aspx?ra=182.56688826436235&dec=20.35461983193176\"><img src=\"http://legacysurvey.org/viewer/jpeg-cutout/?ra=182.56688826436235&dec=20.35461983193176&layer=sdssco&pixscale=0.1&bands=gri\"></a></td></tr>\n",
       "<tr><td>442735_2276<br>ra=182.7677120134152<br>dec=19.767271573453176</td><td><a href=\"http://legacysurvey.org/viewer?ra=182.7677120134152&dec=19.767271573453176\"><img src=\"http://legacysurvey.org/viewer/jpeg-cutout/?ra=182.7677120134152&dec=19.767271573453176&layer=decals-dr3&pixscale=0.1&bands=grz\"></a></td><td><a href=\"http://skyserver.sdss.org/dr12/en/tools/chart/navi.aspx?ra=182.7677120134152&dec=19.767271573453176\"><img src=\"http://legacysurvey.org/viewer/jpeg-cutout/?ra=182.7677120134152&dec=19.767271573453176&layer=sdssco&pixscale=0.1&bands=gri\"></a></td></tr>\n",
       "<tr><td>446800_1856<br>ra=183.0719427958253<br>dec=20.50599049472835</td><td><a href=\"http://legacysurvey.org/viewer?ra=183.0719427958253&dec=20.50599049472835\"><img src=\"http://legacysurvey.org/viewer/jpeg-cutout/?ra=183.0719427958253&dec=20.50599049472835&layer=decals-dr3&pixscale=0.1&bands=grz\"></a></td><td><a href=\"http://skyserver.sdss.org/dr12/en/tools/chart/navi.aspx?ra=183.0719427958253&dec=20.50599049472835\"><img src=\"http://legacysurvey.org/viewer/jpeg-cutout/?ra=183.0719427958253&dec=20.50599049472835&layer=sdssco&pixscale=0.1&bands=gri\"></a></td></tr>\n",
       "    </table>\n",
       "    "
      ],
      "text/plain": [
       "<IPython.core.display.HTML object>"
      ]
     },
     "execution_count": 25,
     "metadata": {},
     "output_type": "execute_result"
    }
   ],
   "source": [
    "decals.make_cutout_comparison_table(target_no_match, subsample=6)"
   ]
  },
  {
   "cell_type": "markdown",
   "metadata": {},
   "source": [
    "Most look to be legit things that are missed by SDSS due to glitches/faintness in SDSS"
   ]
  },
  {
   "cell_type": "code",
   "execution_count": 26,
   "metadata": {},
   "outputs": [
    {
     "name": "stdout",
     "output_type": "stream",
     "text": [
      "put this into http://skyserver.sdss.org/dr13/en/tools/chart/listinfo.aspx\n",
      "name ra dec\n",
      "1825p202_1318 182.419970537 20.2009133947\n",
      "1822p205_94 182.345487068 20.381192638\n",
      "1825p200_588 182.497053036 19.9215701264\n",
      "1822p202_3659 182.376587468 20.3581508163\n",
      "1825p205_287 182.539590812 20.3921323152\n",
      "1825p200_1494 182.500717454 19.9673102109\n"
     ]
    },
    {
     "data": {
      "text/html": [
       "\n",
       "    <table>\n",
       "\n",
       "    <tr>\n",
       "    <th>obj</th><th>DECALS</th><th>SDSS</th>\n",
       "    </tr>\n",
       "\n",
       "    <tr><td>445446_1318<br>ra=182.41997053746042<br>dec=20.200913394740937</td><td><a href=\"http://legacysurvey.org/viewer?ra=182.41997053746042&dec=20.200913394740937\"><img src=\"http://legacysurvey.org/viewer/jpeg-cutout/?ra=182.41997053746042&dec=20.200913394740937&layer=decals-dr3&pixscale=0.1&bands=grz\"></a></td><td><a href=\"http://skyserver.sdss.org/dr12/en/tools/chart/navi.aspx?ra=182.41997053746042&dec=20.200913394740937\"><img src=\"http://legacysurvey.org/viewer/jpeg-cutout/?ra=182.41997053746042&dec=20.200913394740937&layer=sdssco&pixscale=0.1&bands=gri\"></a></td></tr>\n",
       "<tr><td>446797_94<br>ra=182.34548706797443<br>dec=20.38119263797659</td><td><a href=\"http://legacysurvey.org/viewer?ra=182.34548706797443&dec=20.38119263797659\"><img src=\"http://legacysurvey.org/viewer/jpeg-cutout/?ra=182.34548706797443&dec=20.38119263797659&layer=decals-dr3&pixscale=0.1&bands=grz\"></a></td><td><a href=\"http://skyserver.sdss.org/dr12/en/tools/chart/navi.aspx?ra=182.34548706797443&dec=20.38119263797659\"><img src=\"http://legacysurvey.org/viewer/jpeg-cutout/?ra=182.34548706797443&dec=20.38119263797659&layer=sdssco&pixscale=0.1&bands=gri\"></a></td></tr>\n",
       "<tr><td>444091_588<br>ra=182.4970530357865<br>dec=19.921570126421226</td><td><a href=\"http://legacysurvey.org/viewer?ra=182.4970530357865&dec=19.921570126421226\"><img src=\"http://legacysurvey.org/viewer/jpeg-cutout/?ra=182.4970530357865&dec=19.921570126421226&layer=decals-dr3&pixscale=0.1&bands=grz\"></a></td><td><a href=\"http://skyserver.sdss.org/dr12/en/tools/chart/navi.aspx?ra=182.4970530357865&dec=19.921570126421226\"><img src=\"http://legacysurvey.org/viewer/jpeg-cutout/?ra=182.4970530357865&dec=19.921570126421226&layer=sdssco&pixscale=0.1&bands=gri\"></a></td></tr>\n",
       "<tr><td>445445_3659<br>ra=182.37658746794588<br>dec=20.358150816281313</td><td><a href=\"http://legacysurvey.org/viewer?ra=182.37658746794588&dec=20.358150816281313\"><img src=\"http://legacysurvey.org/viewer/jpeg-cutout/?ra=182.37658746794588&dec=20.358150816281313&layer=decals-dr3&pixscale=0.1&bands=grz\"></a></td><td><a href=\"http://skyserver.sdss.org/dr12/en/tools/chart/navi.aspx?ra=182.37658746794588&dec=20.358150816281313\"><img src=\"http://legacysurvey.org/viewer/jpeg-cutout/?ra=182.37658746794588&dec=20.358150816281313&layer=sdssco&pixscale=0.1&bands=gri\"></a></td></tr>\n",
       "<tr><td>446798_287<br>ra=182.53959081173429<br>dec=20.392132315173445</td><td><a href=\"http://legacysurvey.org/viewer?ra=182.53959081173429&dec=20.392132315173445\"><img src=\"http://legacysurvey.org/viewer/jpeg-cutout/?ra=182.53959081173429&dec=20.392132315173445&layer=decals-dr3&pixscale=0.1&bands=grz\"></a></td><td><a href=\"http://skyserver.sdss.org/dr12/en/tools/chart/navi.aspx?ra=182.53959081173429&dec=20.392132315173445\"><img src=\"http://legacysurvey.org/viewer/jpeg-cutout/?ra=182.53959081173429&dec=20.392132315173445&layer=sdssco&pixscale=0.1&bands=gri\"></a></td></tr>\n",
       "<tr><td>444091_1494<br>ra=182.50071745394285<br>dec=19.96731021093862</td><td><a href=\"http://legacysurvey.org/viewer?ra=182.50071745394285&dec=19.96731021093862\"><img src=\"http://legacysurvey.org/viewer/jpeg-cutout/?ra=182.50071745394285&dec=19.96731021093862&layer=decals-dr3&pixscale=0.1&bands=grz\"></a></td><td><a href=\"http://skyserver.sdss.org/dr12/en/tools/chart/navi.aspx?ra=182.50071745394285&dec=19.96731021093862\"><img src=\"http://legacysurvey.org/viewer/jpeg-cutout/?ra=182.50071745394285&dec=19.96731021093862&layer=sdssco&pixscale=0.1&bands=gri\"></a></td></tr>\n",
       "    </table>\n",
       "    "
      ],
      "text/plain": [
       "<IPython.core.display.HTML object>"
      ]
     },
     "execution_count": 26,
     "metadata": {},
     "output_type": "execute_result"
    }
   ],
   "source": [
    "decals.make_cutout_comparison_table(target_matched, subsample=6)"
   ]
  },
  {
   "cell_type": "markdown",
   "metadata": {},
   "source": [
    "All the above look reasaonable"
   ]
  },
  {
   "cell_type": "code",
   "execution_count": 82,
   "metadata": {},
   "outputs": [],
   "source": [
    "# annotate the target catalog with relevant columns from the base catalog\n",
    "\n",
    "target_cat['ZQUALITY'] = -1  # no spec\n",
    "target_cat['REMOVE'] = -1  # do not remove\n",
    "\n",
    "for colnm in ['ZQUALITY', 'REMOVE']:\n",
    "    target_cat[colnm][matched] = basecatalog[colnm][idx[matched]]"
   ]
  },
  {
   "cell_type": "markdown",
   "metadata": {},
   "source": [
    "Out of curiosity... what do the \"remove\" objects look like in DECaLS? "
   ]
  },
  {
   "cell_type": "code",
   "execution_count": 28,
   "metadata": {},
   "outputs": [
    {
     "data": {
      "text/html": [
       "\n",
       "    <table>\n",
       "    <tr><td style=\"text-align:center\">1825p205-2131<br>REMOVE = 3<a href=\"http://legacysurvey.org/viewer?ra=182.65787898870553&dec=20.508476839764498&zoom=16\"><canvas id=\"cnv1825p205-2131\" width=\"256\" height=\"256\" src=\"http://legacysurvey.org/viewer/jpeg-cutout/?ra=182.65787898870553&dec=20.508476839764498&layer=decals-dr5&pixscale=0.1&bands=grz\"></a></td><td style=\"text-align:center\">1825p202-3735<br>REMOVE = 5<a href=\"http://legacysurvey.org/viewer?ra=182.50396633195254&dec=20.352899630679968&zoom=16\"><canvas id=\"cnv1825p202-3735\" width=\"256\" height=\"256\" src=\"http://legacysurvey.org/viewer/jpeg-cutout/?ra=182.50396633195254&dec=20.352899630679968&layer=decals-dr5&pixscale=0.1&bands=grz\"></a></td><td style=\"text-align:center\">1827p197-3123<br>REMOVE = 5<a href=\"http://legacysurvey.org/viewer?ra=182.7869344386207&dec=19.8137692625384&zoom=16\"><canvas id=\"cnv1827p197-3123\" width=\"256\" height=\"256\" src=\"http://legacysurvey.org/viewer/jpeg-cutout/?ra=182.7869344386207&dec=19.8137692625384&layer=decals-dr5&pixscale=0.1&bands=grz\"></a></td></tr>\n",
       "<tr><td style=\"text-align:center\">1833p200-1379<br>REMOVE = 3<a href=\"http://legacysurvey.org/viewer?ra=183.20349741831996&dec=19.98041044475408&zoom=16\"><canvas id=\"cnv1833p200-1379\" width=\"256\" height=\"256\" src=\"http://legacysurvey.org/viewer/jpeg-cutout/?ra=183.20349741831996&dec=19.98041044475408&layer=decals-dr5&pixscale=0.1&bands=grz\"></a></td><td style=\"text-align:center\">1830p205-23<br>REMOVE = 3<a href=\"http://legacysurvey.org/viewer?ra=182.96554413529125&dec=20.37457694436538&zoom=16\"><canvas id=\"cnv1830p205-23\" width=\"256\" height=\"256\" src=\"http://legacysurvey.org/viewer/jpeg-cutout/?ra=182.96554413529125&dec=20.37457694436538&layer=decals-dr5&pixscale=0.1&bands=grz\"></a></td><td style=\"text-align:center\">1827p200-2587<br>REMOVE = 3<a href=\"http://legacysurvey.org/viewer?ra=182.67352993865444&dec=20.012930696869862&zoom=16\"><canvas id=\"cnv1827p200-2587\" width=\"256\" height=\"256\" src=\"http://legacysurvey.org/viewer/jpeg-cutout/?ra=182.67352993865444&dec=20.012930696869862&layer=decals-dr5&pixscale=0.1&bands=grz\"></a></td></tr>\n",
       "<tr><td style=\"text-align:center\">1825p205-2469<br>REMOVE = 3<a href=\"http://legacysurvey.org/viewer?ra=182.6343695529497&dec=20.53463905100705&zoom=16\"><canvas id=\"cnv1825p205-2469\" width=\"256\" height=\"256\" src=\"http://legacysurvey.org/viewer/jpeg-cutout/?ra=182.6343695529497&dec=20.53463905100705&layer=decals-dr5&pixscale=0.1&bands=grz\"></a></td><td style=\"text-align:center\">1825p205-1456<br>REMOVE = 5<a href=\"http://legacysurvey.org/viewer?ra=182.64808251401382&dec=20.460494182677014&zoom=16\"><canvas id=\"cnv1825p205-1456\" width=\"256\" height=\"256\" src=\"http://legacysurvey.org/viewer/jpeg-cutout/?ra=182.64808251401382&dec=20.460494182677014&layer=decals-dr5&pixscale=0.1&bands=grz\"></a></td><td style=\"text-align:center\">1830p197-3254<br>REMOVE = 3<a href=\"http://legacysurvey.org/viewer?ra=183.10284999275848&dec=19.81604560837938&zoom=16\"><canvas id=\"cnv1830p197-3254\" width=\"256\" height=\"256\" src=\"http://legacysurvey.org/viewer/jpeg-cutout/?ra=183.10284999275848&dec=19.81604560837938&layer=decals-dr5&pixscale=0.1&bands=grz\"></a></td></tr>\n",
       "<tr></tr>\n",
       "    </table>\n",
       "\n",
       "    <script type=\"text/javascript\">\n",
       "    \n",
       "        function draw(nm, imgurl){\n",
       "          var img = new Image(256, 256);\n",
       "          img.src = imgurl;\n",
       "          img.onload = function(){\n",
       "            var cnvs = document.getElementById(\"cnv\"+nm);\n",
       "            cnvs.style.z_index = 2;\n",
       "            console.log(\"aha\" + nm);\n",
       "\n",
       "            var ctx = cnvs.getContext(\"2d\");\n",
       "            ctx.drawImage(img, 0, 0);\n",
       "            ctx.beginPath();\n",
       "            ctx.arc(128, 128, 15, 0, 2 * Math.PI, false);\n",
       "            ctx.lineWidth = 1.5;\n",
       "            ctx.strokeStyle = '#ddaa00';\n",
       "            ctx.stroke();\n",
       "          }\n",
       "\n",
       "\n",
       "        }\n",
       "\n",
       "        draw(\"1825p205-2131\",\"http://legacysurvey.org/viewer/jpeg-cutout/?ra=182.65787898870553&dec=20.508476839764498&layer=decals-dr5&pixscale=0.1&bands=grz\");\n",
       "draw(\"1825p202-3735\",\"http://legacysurvey.org/viewer/jpeg-cutout/?ra=182.50396633195254&dec=20.352899630679968&layer=decals-dr5&pixscale=0.1&bands=grz\");\n",
       "draw(\"1827p197-3123\",\"http://legacysurvey.org/viewer/jpeg-cutout/?ra=182.7869344386207&dec=19.8137692625384&layer=decals-dr5&pixscale=0.1&bands=grz\");\n",
       "draw(\"1833p200-1379\",\"http://legacysurvey.org/viewer/jpeg-cutout/?ra=183.20349741831996&dec=19.98041044475408&layer=decals-dr5&pixscale=0.1&bands=grz\");\n",
       "draw(\"1830p205-23\",\"http://legacysurvey.org/viewer/jpeg-cutout/?ra=182.96554413529125&dec=20.37457694436538&layer=decals-dr5&pixscale=0.1&bands=grz\");\n",
       "draw(\"1827p200-2587\",\"http://legacysurvey.org/viewer/jpeg-cutout/?ra=182.67352993865444&dec=20.012930696869862&layer=decals-dr5&pixscale=0.1&bands=grz\");\n",
       "draw(\"1825p205-2469\",\"http://legacysurvey.org/viewer/jpeg-cutout/?ra=182.6343695529497&dec=20.53463905100705&layer=decals-dr5&pixscale=0.1&bands=grz\");\n",
       "draw(\"1825p205-1456\",\"http://legacysurvey.org/viewer/jpeg-cutout/?ra=182.64808251401382&dec=20.460494182677014&layer=decals-dr5&pixscale=0.1&bands=grz\");\n",
       "draw(\"1830p197-3254\",\"http://legacysurvey.org/viewer/jpeg-cutout/?ra=183.10284999275848&dec=19.81604560837938&layer=decals-dr5&pixscale=0.1&bands=grz\");\n",
       "\n",
       "    </script>\n",
       "    "
      ],
      "text/plain": [
       "<IPython.core.display.HTML object>"
      ]
     },
     "execution_count": 28,
     "metadata": {},
     "output_type": "execute_result"
    }
   ],
   "source": [
    "decals.show_decals_objects_in_nb(target_cat[target_cat['REMOVE'] > -1], \n",
    "                                 dr=5, subsample=9, show_reticle=True, info_cols=['REMOVE'])"
   ]
  },
  {
   "cell_type": "code",
   "execution_count": 29,
   "metadata": {},
   "outputs": [
    {
     "name": "stdout",
     "output_type": "stream",
     "text": [
      "put this into http://skyserver.sdss.org/dr13/en/tools/chart/listinfo.aspx\n",
      "name ra dec\n",
      "1827p202_2902 182.891886719 20.2909774965\n",
      "1827p202_3068 182.805104769 20.3014533691\n",
      "1825p200_2141 182.550120601 20.0112631968\n",
      "1827p202_3575 182.855243547 20.3375932923\n",
      "1828p205_3592 182.736404622 20.6122551913\n",
      "1828p205_1569 182.66624633 20.4746181922\n",
      "1822p202_2792 182.379144758 20.2962267484\n",
      "1825p200_2813 182.425177063 20.0500263932\n",
      "1827p202_1092 182.749117716 20.1839539893\n"
     ]
    },
    {
     "data": {
      "text/html": [
       "\n",
       "    <table>\n",
       "\n",
       "    <tr>\n",
       "    <th>obj</th><th>DECALS</th><th>SDSS</th>\n",
       "    </tr>\n",
       "\n",
       "    <tr><td>445447_2902<br>ra=182.89188671884023<br>dec=20.29097749645055<br>mag_r=21.438526153564453<br>REMOVE=5</td><td><a href=\"http://legacysurvey.org/viewer?ra=182.89188671884023&dec=20.29097749645055\"><img src=\"http://legacysurvey.org/viewer/jpeg-cutout/?ra=182.89188671884023&dec=20.29097749645055&layer=decals-dr3&pixscale=0.1&bands=grz\"></a></td><td><a href=\"http://skyserver.sdss.org/dr12/en/tools/chart/navi.aspx?ra=182.89188671884023&dec=20.29097749645055\"><img src=\"http://legacysurvey.org/viewer/jpeg-cutout/?ra=182.89188671884023&dec=20.29097749645055&layer=sdssco&pixscale=0.1&bands=gri\"></a></td></tr>\n",
       "<tr><td>445447_3068<br>ra=182.80510476850316<br>dec=20.301453369137644<br>mag_r=22.806615829467773<br>REMOVE=3</td><td><a href=\"http://legacysurvey.org/viewer?ra=182.80510476850316&dec=20.301453369137644\"><img src=\"http://legacysurvey.org/viewer/jpeg-cutout/?ra=182.80510476850316&dec=20.301453369137644&layer=decals-dr3&pixscale=0.1&bands=grz\"></a></td><td><a href=\"http://skyserver.sdss.org/dr12/en/tools/chart/navi.aspx?ra=182.80510476850316&dec=20.301453369137644\"><img src=\"http://legacysurvey.org/viewer/jpeg-cutout/?ra=182.80510476850316&dec=20.301453369137644&layer=sdssco&pixscale=0.1&bands=gri\"></a></td></tr>\n",
       "<tr><td>444091_2141<br>ra=182.55012060145057<br>dec=20.011263196796847<br>mag_r=14.09716796875<br>REMOVE=3</td><td><a href=\"http://legacysurvey.org/viewer?ra=182.55012060145057&dec=20.011263196796847\"><img src=\"http://legacysurvey.org/viewer/jpeg-cutout/?ra=182.55012060145057&dec=20.011263196796847&layer=decals-dr3&pixscale=0.1&bands=grz\"></a></td><td><a href=\"http://skyserver.sdss.org/dr12/en/tools/chart/navi.aspx?ra=182.55012060145057&dec=20.011263196796847\"><img src=\"http://legacysurvey.org/viewer/jpeg-cutout/?ra=182.55012060145057&dec=20.011263196796847&layer=sdssco&pixscale=0.1&bands=gri\"></a></td></tr>\n",
       "<tr><td>445447_3575<br>ra=182.85524354719155<br>dec=20.337593292286925<br>mag_r=22.05023956298828<br>REMOVE=2</td><td><a href=\"http://legacysurvey.org/viewer?ra=182.85524354719155&dec=20.337593292286925\"><img src=\"http://legacysurvey.org/viewer/jpeg-cutout/?ra=182.85524354719155&dec=20.337593292286925&layer=decals-dr3&pixscale=0.1&bands=grz\"></a></td><td><a href=\"http://skyserver.sdss.org/dr12/en/tools/chart/navi.aspx?ra=182.85524354719155&dec=20.337593292286925\"><img src=\"http://legacysurvey.org/viewer/jpeg-cutout/?ra=182.85524354719155&dec=20.337593292286925&layer=sdssco&pixscale=0.1&bands=gri\"></a></td></tr>\n",
       "<tr><td>446799_3592<br>ra=182.73640462248275<br>dec=20.6122551913206<br>mag_r=22.00649642944336<br>REMOVE=3</td><td><a href=\"http://legacysurvey.org/viewer?ra=182.73640462248275&dec=20.6122551913206\"><img src=\"http://legacysurvey.org/viewer/jpeg-cutout/?ra=182.73640462248275&dec=20.6122551913206&layer=decals-dr3&pixscale=0.1&bands=grz\"></a></td><td><a href=\"http://skyserver.sdss.org/dr12/en/tools/chart/navi.aspx?ra=182.73640462248275&dec=20.6122551913206\"><img src=\"http://legacysurvey.org/viewer/jpeg-cutout/?ra=182.73640462248275&dec=20.6122551913206&layer=sdssco&pixscale=0.1&bands=gri\"></a></td></tr>\n",
       "<tr><td>446799_1569<br>ra=182.6662463298178<br>dec=20.474618192221698<br>mag_r=21.582874298095703<br>REMOVE=5</td><td><a href=\"http://legacysurvey.org/viewer?ra=182.6662463298178&dec=20.474618192221698\"><img src=\"http://legacysurvey.org/viewer/jpeg-cutout/?ra=182.6662463298178&dec=20.474618192221698&layer=decals-dr3&pixscale=0.1&bands=grz\"></a></td><td><a href=\"http://skyserver.sdss.org/dr12/en/tools/chart/navi.aspx?ra=182.6662463298178&dec=20.474618192221698\"><img src=\"http://legacysurvey.org/viewer/jpeg-cutout/?ra=182.6662463298178&dec=20.474618192221698&layer=sdssco&pixscale=0.1&bands=gri\"></a></td></tr>\n",
       "<tr><td>445445_2792<br>ra=182.37914475800147<br>dec=20.29622674844916<br>mag_r=14.41567611694336<br>REMOVE=3</td><td><a href=\"http://legacysurvey.org/viewer?ra=182.37914475800147&dec=20.29622674844916\"><img src=\"http://legacysurvey.org/viewer/jpeg-cutout/?ra=182.37914475800147&dec=20.29622674844916&layer=decals-dr3&pixscale=0.1&bands=grz\"></a></td><td><a href=\"http://skyserver.sdss.org/dr12/en/tools/chart/navi.aspx?ra=182.37914475800147&dec=20.29622674844916\"><img src=\"http://legacysurvey.org/viewer/jpeg-cutout/?ra=182.37914475800147&dec=20.29622674844916&layer=sdssco&pixscale=0.1&bands=gri\"></a></td></tr>\n",
       "<tr><td>444091_2813<br>ra=182.4251770626146<br>dec=20.050026393212622<br>mag_r=19.1954345703125<br>REMOVE=3</td><td><a href=\"http://legacysurvey.org/viewer?ra=182.4251770626146&dec=20.050026393212622\"><img src=\"http://legacysurvey.org/viewer/jpeg-cutout/?ra=182.4251770626146&dec=20.050026393212622&layer=decals-dr3&pixscale=0.1&bands=grz\"></a></td><td><a href=\"http://skyserver.sdss.org/dr12/en/tools/chart/navi.aspx?ra=182.4251770626146&dec=20.050026393212622\"><img src=\"http://legacysurvey.org/viewer/jpeg-cutout/?ra=182.4251770626146&dec=20.050026393212622&layer=sdssco&pixscale=0.1&bands=gri\"></a></td></tr>\n",
       "<tr><td>445447_1092<br>ra=182.74911771635556<br>dec=20.183953989250817<br>mag_r=22.851350784301758<br>REMOVE=3</td><td><a href=\"http://legacysurvey.org/viewer?ra=182.74911771635556&dec=20.183953989250817\"><img src=\"http://legacysurvey.org/viewer/jpeg-cutout/?ra=182.74911771635556&dec=20.183953989250817&layer=decals-dr3&pixscale=0.1&bands=grz\"></a></td><td><a href=\"http://skyserver.sdss.org/dr12/en/tools/chart/navi.aspx?ra=182.74911771635556&dec=20.183953989250817\"><img src=\"http://legacysurvey.org/viewer/jpeg-cutout/?ra=182.74911771635556&dec=20.183953989250817&layer=sdssco&pixscale=0.1&bands=gri\"></a></td></tr>\n",
       "    </table>\n",
       "    "
      ],
      "text/plain": [
       "<IPython.core.display.HTML object>"
      ]
     },
     "execution_count": 29,
     "metadata": {},
     "output_type": "execute_result"
    }
   ],
   "source": [
    "decals.make_cutout_comparison_table(target_cat[target_cat['REMOVE'] > -1], subsample=9, add_annotation=['mag_r', 'REMOVE'])"
   ]
  },
  {
   "cell_type": "markdown",
   "metadata": {},
   "source": [
    "Turns out many of them look good so we are *not* going to remove them - hence the next cell is commented out"
   ]
  },
  {
   "cell_type": "code",
   "execution_count": 83,
   "metadata": {},
   "outputs": [],
   "source": [
    "# Now filter the remove list and the already-observed objects\n",
    "#target_cat = (cuts.is_clean & ~cuts.has_spec).filter(target_cat)\n",
    "#len(target_cat)"
   ]
  },
  {
   "cell_type": "markdown",
   "metadata": {},
   "source": [
    "#### Filter out those marked from marla's visual inspection "
   ]
  },
  {
   "cell_type": "code",
   "execution_count": 84,
   "metadata": {},
   "outputs": [
    {
     "data": {
      "text/html": [
       "&lt;Table length=7123&gt;\n",
       "<table id=\"table4803772992\" class=\"table-striped table-bordered table-condensed\">\n",
       "<thead><tr><th>name</th><th>ra</th><th>dec</th><th>marked</th><th>markedbool</th></tr></thead>\n",
       "<thead><tr><th>float64</th><th>float64</th><th>float64</th><th>str5</th><th>bool</th></tr></thead>\n",
       "<tr><td>21.7440681458</td><td>182.385249055</td><td>19.9009359453</td><td>false</td><td>False</td></tr>\n",
       "<tr><td>22.7112236023</td><td>182.385985604</td><td>19.9069395892</td><td>false</td><td>False</td></tr>\n",
       "<tr><td>22.8691616058</td><td>182.377574928</td><td>19.9151072748</td><td>false</td><td>False</td></tr>\n",
       "<tr><td>22.5298194885</td><td>182.376671954</td><td>19.9177409335</td><td>false</td><td>False</td></tr>\n",
       "<tr><td>21.7355003357</td><td>182.389410393</td><td>19.9220603166</td><td>false</td><td>False</td></tr>\n",
       "<tr><td>22.962436676</td><td>182.389249026</td><td>19.9206694338</td><td>false</td><td>False</td></tr>\n",
       "<tr><td>22.8725624084</td><td>182.367971343</td><td>19.9220032668</td><td>false</td><td>False</td></tr>\n",
       "<tr><td>22.5152130127</td><td>182.379013339</td><td>19.9237897121</td><td>false</td><td>False</td></tr>\n",
       "<tr><td>22.8218173981</td><td>182.375115809</td><td>19.9252894869</td><td>false</td><td>False</td></tr>\n",
       "<tr><td>22.0391941071</td><td>182.367363395</td><td>19.9262923839</td><td>false</td><td>False</td></tr>\n",
       "<tr><td>...</td><td>...</td><td>...</td><td>...</td><td>...</td></tr>\n",
       "<tr><td>22.6288909912</td><td>183.21120686</td><td>20.4060072418</td><td>false</td><td>False</td></tr>\n",
       "<tr><td>20.0775413513</td><td>183.227926422</td><td>20.4059606464</td><td>false</td><td>False</td></tr>\n",
       "<tr><td>20.9184856415</td><td>183.225296356</td><td>20.4053133122</td><td>false</td><td>False</td></tr>\n",
       "<tr><td>22.2920074463</td><td>183.223127717</td><td>20.4110510794</td><td>false</td><td>False</td></tr>\n",
       "<tr><td>22.6689147949</td><td>183.227728646</td><td>20.4143113628</td><td>false</td><td>False</td></tr>\n",
       "<tr><td>22.7452259064</td><td>183.202690435</td><td>20.4154731318</td><td>false</td><td>False</td></tr>\n",
       "<tr><td>22.8561115265</td><td>183.199543226</td><td>20.4218038978</td><td>false</td><td>False</td></tr>\n",
       "<tr><td>22.1664962769</td><td>183.199416948</td><td>20.4306150893</td><td>false</td><td>False</td></tr>\n",
       "<tr><td>22.8867492676</td><td>183.215129175</td><td>20.4314705619</td><td>false</td><td>False</td></tr>\n",
       "<tr><td>20.4561901093</td><td>183.203494095</td><td>20.4489272055</td><td>false</td><td>False</td></tr>\n",
       "</table>"
      ],
      "text/plain": [
       "<Table length=7123>\n",
       "     name           ra           dec      marked markedbool\n",
       "   float64       float64       float64     str5     bool   \n",
       "------------- ------------- ------------- ------ ----------\n",
       "21.7440681458 182.385249055 19.9009359453  false      False\n",
       "22.7112236023 182.385985604 19.9069395892  false      False\n",
       "22.8691616058 182.377574928 19.9151072748  false      False\n",
       "22.5298194885 182.376671954 19.9177409335  false      False\n",
       "21.7355003357 182.389410393 19.9220603166  false      False\n",
       " 22.962436676 182.389249026 19.9206694338  false      False\n",
       "22.8725624084 182.367971343 19.9220032668  false      False\n",
       "22.5152130127 182.379013339 19.9237897121  false      False\n",
       "22.8218173981 182.375115809 19.9252894869  false      False\n",
       "22.0391941071 182.367363395 19.9262923839  false      False\n",
       "          ...           ...           ...    ...        ...\n",
       "22.6288909912  183.21120686 20.4060072418  false      False\n",
       "20.0775413513 183.227926422 20.4059606464  false      False\n",
       "20.9184856415 183.225296356 20.4053133122  false      False\n",
       "22.2920074463 183.223127717 20.4110510794  false      False\n",
       "22.6689147949 183.227728646 20.4143113628  false      False\n",
       "22.7452259064 183.202690435 20.4154731318  false      False\n",
       "22.8561115265 183.199543226 20.4218038978  false      False\n",
       "22.1664962769 183.199416948 20.4306150893  false      False\n",
       "22.8867492676 183.215129175 20.4314705619  false      False\n",
       "20.4561901093 183.203494095 20.4489272055  false      False"
      ]
     },
     "execution_count": 84,
     "metadata": {},
     "output_type": "execute_result"
    }
   ],
   "source": [
    "mg_tab = table.Table.read(os.path.join(db._root_dir, 'mmt/binospec_inputs/mg_scoobydoo_clean.txt'), format='ascii')\n",
    "mg_tab['markedbool'] = mg_tab['marked']=='true'\n",
    "mg_tab"
   ]
  },
  {
   "cell_type": "code",
   "execution_count": 85,
   "metadata": {},
   "outputs": [],
   "source": [
    "# need to match these to the target catalog\n",
    "\n",
    "mgcoord = SkyCoord.guess_from_table(mg_tab, unit=u.deg)\n",
    "idx, d2d, _ = target_cat['coord'].match_to_catalog_sky(mgcoord)\n",
    "assert np.max(d2d) < 1*u.marcsec  # if this passes, all are matching to w/i a milliarcsec"
   ]
  },
  {
   "cell_type": "code",
   "execution_count": 86,
   "metadata": {},
   "outputs": [
    {
     "data": {
      "text/html": [
       "\n",
       "    <table>\n",
       "    <tr><td style=\"text-align:center\">1825p202-304<br><a href=\"http://legacysurvey.org/viewer?ra=182.57053248292075&dec=20.13954048364141&zoom=16\"><img id=\"cnv1825p202-304\" width=\"256\" height=\"256\" src=\"http://skyserver.sdss.org/dr13/SkyserverWS/ImgCutout/getjpeg?ra=182.57053248292075&dec=20.13954048364141&width=256&height=256&scale=0.15\"></a></td><td style=\"text-align:center\">1822p202-1124<br><a href=\"http://legacysurvey.org/viewer?ra=182.32676193378833&dec=20.194984582373827&zoom=16\"><img id=\"cnv1822p202-1124\" width=\"256\" height=\"256\" src=\"http://skyserver.sdss.org/dr13/SkyserverWS/ImgCutout/getjpeg?ra=182.32676193378833&dec=20.194984582373827&width=256&height=256&scale=0.15\"></a></td><td style=\"text-align:center\">1827p202-3388<br><a href=\"http://legacysurvey.org/viewer?ra=182.85723890779954&dec=20.33266540586357&zoom=16\"><img id=\"cnv1827p202-3388\" width=\"256\" height=\"256\" src=\"http://skyserver.sdss.org/dr13/SkyserverWS/ImgCutout/getjpeg?ra=182.85723890779954&dec=20.33266540586357&width=256&height=256&scale=0.15\"></a></td></tr>\n",
       "<tr><td style=\"text-align:center\">1830p205-2365<br><a href=\"http://legacysurvey.org/viewer?ra=183.06173102184889&dec=20.546847589539674&zoom=16\"><img id=\"cnv1830p205-2365\" width=\"256\" height=\"256\" src=\"http://skyserver.sdss.org/dr13/SkyserverWS/ImgCutout/getjpeg?ra=183.06173102184889&dec=20.546847589539674&width=256&height=256&scale=0.15\"></a></td><td style=\"text-align:center\">1825p202-3435<br><a href=\"http://legacysurvey.org/viewer?ra=182.44650630257473&dec=20.33657112331862&zoom=16\"><img id=\"cnv1825p202-3435\" width=\"256\" height=\"256\" src=\"http://skyserver.sdss.org/dr13/SkyserverWS/ImgCutout/getjpeg?ra=182.44650630257473&dec=20.33657112331862&width=256&height=256&scale=0.15\"></a></td><td style=\"text-align:center\">1827p202-726<br><a href=\"http://legacysurvey.org/viewer?ra=182.77659186251898&dec=20.17203321720908&zoom=16\"><img id=\"cnv1827p202-726\" width=\"256\" height=\"256\" src=\"http://skyserver.sdss.org/dr13/SkyserverWS/ImgCutout/getjpeg?ra=182.77659186251898&dec=20.17203321720908&width=256&height=256&scale=0.15\"></a></td></tr>\n",
       "<tr><td style=\"text-align:center\">1830p205-2330<br><a href=\"http://legacysurvey.org/viewer?ra=183.01130709257416&dec=20.56729686086704&zoom=16\"><img id=\"cnv1830p205-2330\" width=\"256\" height=\"256\" src=\"http://skyserver.sdss.org/dr13/SkyserverWS/ImgCutout/getjpeg?ra=183.01130709257416&dec=20.56729686086704&width=256&height=256&scale=0.15\"></a></td><td style=\"text-align:center\">1827p202-701<br><a href=\"http://legacysurvey.org/viewer?ra=182.80964123101236&dec=20.171070879228285&zoom=16\"><img id=\"cnv1827p202-701\" width=\"256\" height=\"256\" src=\"http://skyserver.sdss.org/dr13/SkyserverWS/ImgCutout/getjpeg?ra=182.80964123101236&dec=20.171070879228285&width=256&height=256&scale=0.15\"></a></td><td style=\"text-align:center\">1827p202-703<br><a href=\"http://legacysurvey.org/viewer?ra=182.80414913269672&dec=20.183797825856374&zoom=16\"><img id=\"cnv1827p202-703\" width=\"256\" height=\"256\" src=\"http://skyserver.sdss.org/dr13/SkyserverWS/ImgCutout/getjpeg?ra=182.80414913269672&dec=20.183797825856374&width=256&height=256&scale=0.15\"></a></td></tr>\n",
       "<tr><td style=\"text-align:center\">1830p205-2518<br><a href=\"http://legacysurvey.org/viewer?ra=183.04874131360404&dec=20.56260576388314&zoom=16\"><img id=\"cnv1830p205-2518\" width=\"256\" height=\"256\" src=\"http://skyserver.sdss.org/dr13/SkyserverWS/ImgCutout/getjpeg?ra=183.04874131360404&dec=20.56260576388314&width=256&height=256&scale=0.15\"></a></td><td style=\"text-align:center\">1830p200-3333<br><a href=\"http://legacysurvey.org/viewer?ra=183.13042031501166&dec=20.08458600825862&zoom=16\"><img id=\"cnv1830p200-3333\" width=\"256\" height=\"256\" src=\"http://skyserver.sdss.org/dr13/SkyserverWS/ImgCutout/getjpeg?ra=183.13042031501166&dec=20.08458600825862&width=256&height=256&scale=0.15\"></a></td><td style=\"text-align:center\">1830p205-1579<br><a href=\"http://legacysurvey.org/viewer?ra=182.97270701607943&dec=20.487482162562554&zoom=16\"><img id=\"cnv1830p205-1579\" width=\"256\" height=\"256\" src=\"http://skyserver.sdss.org/dr13/SkyserverWS/ImgCutout/getjpeg?ra=182.97270701607943&dec=20.487482162562554&width=256&height=256&scale=0.15\"></a></td></tr>\n",
       "<tr></tr>\n",
       "    </table>\n",
       "\n",
       "    <script type=\"text/javascript\">\n",
       "    \n",
       "    </script>\n",
       "    "
      ],
      "text/plain": [
       "<IPython.core.display.HTML object>"
      ]
     },
     "execution_count": 86,
     "metadata": {},
     "output_type": "execute_result"
    }
   ],
   "source": [
    "# ensure these marked objects are indeed junk\n",
    "decals.show_decals_objects_in_nb(target_cat[mg_tab['markedbool'][idx]], dr='sdss13', subsample=12, show_reticle=False)"
   ]
  },
  {
   "cell_type": "code",
   "execution_count": 87,
   "metadata": {},
   "outputs": [
    {
     "data": {
      "text/plain": [
       "4979"
      ]
     },
     "execution_count": 87,
     "metadata": {},
     "output_type": "execute_result"
    }
   ],
   "source": [
    "target_cat = target_cat[~mg_tab['markedbool'][idx]]\n",
    "len(target_cat)"
   ]
  },
  {
   "cell_type": "markdown",
   "metadata": {},
   "source": [
    "### Now some random eye-ball checks"
   ]
  },
  {
   "cell_type": "code",
   "execution_count": 35,
   "metadata": {
    "scrolled": false
   },
   "outputs": [
    {
     "data": {
      "text/html": [
       "\n",
       "    <table>\n",
       "    <tr><td style=\"text-align:center\">1830p200-3941<br>mag_r = 21.784948348999023<a href=\"http://legacysurvey.org/viewer?ra=182.95652896414327&dec=20.118063075017446&zoom=16\"><img id=\"cnv1830p200-3941\" width=\"256\" height=\"256\" src=\"http://legacysurvey.org/viewer/jpeg-cutout/?ra=182.95652896414327&dec=20.118063075017446&layer=decals-dr5&pixscale=0.1&bands=grz\"></a></td><td style=\"text-align:center\">1825p202-537<br>mag_r = 22.243120193481445<a href=\"http://legacysurvey.org/viewer?ra=182.5879499175982&dec=20.153880847530154&zoom=16\"><img id=\"cnv1825p202-537\" width=\"256\" height=\"256\" src=\"http://legacysurvey.org/viewer/jpeg-cutout/?ra=182.5879499175982&dec=20.153880847530154&layer=decals-dr5&pixscale=0.1&bands=grz\"></a></td><td style=\"text-align:center\">1833p200-781<br>mag_r = 22.83122444152832<a href=\"http://legacysurvey.org/viewer?ra=183.18940762045148&dec=19.936987236119577&zoom=16\"><img id=\"cnv1833p200-781\" width=\"256\" height=\"256\" src=\"http://legacysurvey.org/viewer/jpeg-cutout/?ra=183.18940762045148&dec=19.936987236119577&layer=decals-dr5&pixscale=0.1&bands=grz\"></a></td></tr>\n",
       "<tr><td style=\"text-align:center\">1827p197-2751<br>mag_r = 22.882959365844727<a href=\"http://legacysurvey.org/viewer?ra=182.67080657487813&dec=19.793905625409135&zoom=16\"><img id=\"cnv1827p197-2751\" width=\"256\" height=\"256\" src=\"http://legacysurvey.org/viewer/jpeg-cutout/?ra=182.67080657487813&dec=19.793905625409135&layer=decals-dr5&pixscale=0.1&bands=grz\"></a></td><td style=\"text-align:center\">1825p200-829<br>mag_r = 22.58167266845703<a href=\"http://legacysurvey.org/viewer?ra=182.4195503138385&dec=19.927119537811162&zoom=16\"><img id=\"cnv1825p200-829\" width=\"256\" height=\"256\" src=\"http://legacysurvey.org/viewer/jpeg-cutout/?ra=182.4195503138385&dec=19.927119537811162&layer=decals-dr5&pixscale=0.1&bands=grz\"></a></td><td style=\"text-align:center\">1827p200-4036<br>mag_r = 22.991567611694336<a href=\"http://legacysurvey.org/viewer?ra=182.8216403302911&dec=20.092145584274846&zoom=16\"><img id=\"cnv1827p200-4036\" width=\"256\" height=\"256\" src=\"http://legacysurvey.org/viewer/jpeg-cutout/?ra=182.8216403302911&dec=20.092145584274846&layer=decals-dr5&pixscale=0.1&bands=grz\"></a></td></tr>\n",
       "<tr></tr>\n",
       "    </table>\n",
       "\n",
       "    <script type=\"text/javascript\">\n",
       "    \n",
       "    </script>\n",
       "    "
      ],
      "text/plain": [
       "<IPython.core.display.HTML object>"
      ]
     },
     "execution_count": 35,
     "metadata": {},
     "output_type": "execute_result"
    }
   ],
   "source": [
    "decals.show_decals_objects_in_nb(target_cat, dr=5, subsample=6, info_cols=['mag_r'], show_reticle=False)"
   ]
  },
  {
   "cell_type": "markdown",
   "metadata": {},
   "source": [
    "## Now make specphot stars"
   ]
  },
  {
   "cell_type": "code",
   "execution_count": 88,
   "metadata": {},
   "outputs": [],
   "source": [
    "flux = mmtbino.select_flux_stars(basecatalog, cattype='base')"
   ]
  },
  {
   "cell_type": "code",
   "execution_count": 89,
   "metadata": {
    "scrolled": true
   },
   "outputs": [
    {
     "data": {
      "text/html": [
       "\n",
       "    <table>\n",
       "    <tr><td style=\"text-align:center\">flux1<br><a href=\"http://legacysurvey.org/viewer?ra=183.05034031557278&dec=19.934325832821575&zoom=16\"><img id=\"cnvflux1\" width=\"256\" height=\"256\" src=\"http://legacysurvey.org/viewer/jpeg-cutout/?ra=183.05034031557278&dec=19.934325832821575&layer=decals-dr5&pixscale=0.1&bands=grz\"></a></td><td style=\"text-align:center\">flux2<br><a href=\"http://legacysurvey.org/viewer?ra=182.343660184613&dec=19.83928855271982&zoom=16\"><img id=\"cnvflux2\" width=\"256\" height=\"256\" src=\"http://legacysurvey.org/viewer/jpeg-cutout/?ra=182.343660184613&dec=19.83928855271982&layer=decals-dr5&pixscale=0.1&bands=grz\"></a></td><td style=\"text-align:center\">flux3<br><a href=\"http://legacysurvey.org/viewer?ra=182.97869608483325&dec=20.090035417875892&zoom=16\"><img id=\"cnvflux3\" width=\"256\" height=\"256\" src=\"http://legacysurvey.org/viewer/jpeg-cutout/?ra=182.97869608483325&dec=20.090035417875892&layer=decals-dr5&pixscale=0.1&bands=grz\"></a></td></tr>\n",
       "<tr><td style=\"text-align:center\">flux4<br><a href=\"http://legacysurvey.org/viewer?ra=182.89658870399626&dec=20.8946569350499&zoom=16\"><img id=\"cnvflux4\" width=\"256\" height=\"256\" src=\"http://legacysurvey.org/viewer/jpeg-cutout/?ra=182.89658870399626&dec=20.8946569350499&layer=decals-dr5&pixscale=0.1&bands=grz\"></a></td><td style=\"text-align:center\">flux5<br><a href=\"http://legacysurvey.org/viewer?ra=182.73551590724708&dec=20.706993925854967&zoom=16\"><img id=\"cnvflux5\" width=\"256\" height=\"256\" src=\"http://legacysurvey.org/viewer/jpeg-cutout/?ra=182.73551590724708&dec=20.706993925854967&layer=decals-dr5&pixscale=0.1&bands=grz\"></a></td><td style=\"text-align:center\">flux6<br><a href=\"http://legacysurvey.org/viewer?ra=183.4967613389345&dec=20.04914252130653&zoom=16\"><img id=\"cnvflux6\" width=\"256\" height=\"256\" src=\"http://legacysurvey.org/viewer/jpeg-cutout/?ra=183.4967613389345&dec=20.04914252130653&layer=decals-dr5&pixscale=0.1&bands=grz\"></a></td></tr>\n",
       "<tr><td style=\"text-align:center\">flux7<br><a href=\"http://legacysurvey.org/viewer?ra=182.75980916103697&dec=19.8079689723803&zoom=16\"><img id=\"cnvflux7\" width=\"256\" height=\"256\" src=\"http://legacysurvey.org/viewer/jpeg-cutout/?ra=182.75980916103697&dec=19.8079689723803&layer=decals-dr5&pixscale=0.1&bands=grz\"></a></td><td style=\"text-align:center\">flux8<br><a href=\"http://legacysurvey.org/viewer?ra=182.58476135859567&dec=20.22760938754873&zoom=16\"><img id=\"cnvflux8\" width=\"256\" height=\"256\" src=\"http://legacysurvey.org/viewer/jpeg-cutout/?ra=182.58476135859567&dec=20.22760938754873&layer=decals-dr5&pixscale=0.1&bands=grz\"></a></td><td style=\"text-align:center\">flux9<br><a href=\"http://legacysurvey.org/viewer?ra=183.1274136960174&dec=20.3260325827413&zoom=16\"><img id=\"cnvflux9\" width=\"256\" height=\"256\" src=\"http://legacysurvey.org/viewer/jpeg-cutout/?ra=183.1274136960174&dec=20.3260325827413&layer=decals-dr5&pixscale=0.1&bands=grz\"></a></td></tr>\n",
       "<tr><td style=\"text-align:center\">flux10<br><a href=\"http://legacysurvey.org/viewer?ra=182.59197882866962&dec=19.59078791306377&zoom=16\"><img id=\"cnvflux10\" width=\"256\" height=\"256\" src=\"http://legacysurvey.org/viewer/jpeg-cutout/?ra=182.59197882866962&dec=19.59078791306377&layer=decals-dr5&pixscale=0.1&bands=grz\"></a></td><td style=\"text-align:center\">flux11<br><a href=\"http://legacysurvey.org/viewer?ra=182.571456995062&dec=20.120290422694417&zoom=16\"><img id=\"cnvflux11\" width=\"256\" height=\"256\" src=\"http://legacysurvey.org/viewer/jpeg-cutout/?ra=182.571456995062&dec=20.120290422694417&layer=decals-dr5&pixscale=0.1&bands=grz\"></a></td><td style=\"text-align:center\">flux12<br><a href=\"http://legacysurvey.org/viewer?ra=182.2336730870482&dec=20.386205093646744&zoom=16\"><img id=\"cnvflux12\" width=\"256\" height=\"256\" src=\"http://legacysurvey.org/viewer/jpeg-cutout/?ra=182.2336730870482&dec=20.386205093646744&layer=decals-dr5&pixscale=0.1&bands=grz\"></a></td></tr>\n",
       "<tr><td style=\"text-align:center\">flux13<br><a href=\"http://legacysurvey.org/viewer?ra=183.40659148159023&dec=19.81316546604454&zoom=16\"><img id=\"cnvflux13\" width=\"256\" height=\"256\" src=\"http://legacysurvey.org/viewer/jpeg-cutout/?ra=183.40659148159023&dec=19.81316546604454&layer=decals-dr5&pixscale=0.1&bands=grz\"></a></td><td style=\"text-align:center\">flux14<br><a href=\"http://legacysurvey.org/viewer?ra=182.4345367896472&dec=20.3489150371001&zoom=16\"><img id=\"cnvflux14\" width=\"256\" height=\"256\" src=\"http://legacysurvey.org/viewer/jpeg-cutout/?ra=182.4345367896472&dec=20.3489150371001&layer=decals-dr5&pixscale=0.1&bands=grz\"></a></td><td style=\"text-align:center\">flux15<br><a href=\"http://legacysurvey.org/viewer?ra=182.57919369444417&dec=19.578866363521808&zoom=16\"><img id=\"cnvflux15\" width=\"256\" height=\"256\" src=\"http://legacysurvey.org/viewer/jpeg-cutout/?ra=182.57919369444417&dec=19.578866363521808&layer=decals-dr5&pixscale=0.1&bands=grz\"></a></td></tr>\n",
       "<tr><td style=\"text-align:center\">flux16<br><a href=\"http://legacysurvey.org/viewer?ra=182.66008168152104&dec=19.63726961929721&zoom=16\"><img id=\"cnvflux16\" width=\"256\" height=\"256\" src=\"http://legacysurvey.org/viewer/jpeg-cutout/?ra=182.66008168152104&dec=19.63726961929721&layer=decals-dr5&pixscale=0.1&bands=grz\"></a></td><td style=\"text-align:center\">flux17<br><a href=\"http://legacysurvey.org/viewer?ra=182.24297544538018&dec=20.53988521991604&zoom=16\"><img id=\"cnvflux17\" width=\"256\" height=\"256\" src=\"http://legacysurvey.org/viewer/jpeg-cutout/?ra=182.24297544538018&dec=20.53988521991604&layer=decals-dr5&pixscale=0.1&bands=grz\"></a></td><td style=\"text-align:center\">flux18<br><a href=\"http://legacysurvey.org/viewer?ra=182.9831261871521&dec=19.82882209047994&zoom=16\"><img id=\"cnvflux18\" width=\"256\" height=\"256\" src=\"http://legacysurvey.org/viewer/jpeg-cutout/?ra=182.9831261871521&dec=19.82882209047994&layer=decals-dr5&pixscale=0.1&bands=grz\"></a></td></tr>\n",
       "<tr><td style=\"text-align:center\">flux19<br><a href=\"http://legacysurvey.org/viewer?ra=182.88085265546852&dec=19.900443089373454&zoom=16\"><img id=\"cnvflux19\" width=\"256\" height=\"256\" src=\"http://legacysurvey.org/viewer/jpeg-cutout/?ra=182.88085265546852&dec=19.900443089373454&layer=decals-dr5&pixscale=0.1&bands=grz\"></a></td><td style=\"text-align:center\">flux20<br><a href=\"http://legacysurvey.org/viewer?ra=183.06787318430477&dec=19.878449513260442&zoom=16\"><img id=\"cnvflux20\" width=\"256\" height=\"256\" src=\"http://legacysurvey.org/viewer/jpeg-cutout/?ra=183.06787318430477&dec=19.878449513260442&layer=decals-dr5&pixscale=0.1&bands=grz\"></a></td><td style=\"text-align:center\">flux21<br><a href=\"http://legacysurvey.org/viewer?ra=182.53470291342848&dec=20.316533555094995&zoom=16\"><img id=\"cnvflux21\" width=\"256\" height=\"256\" src=\"http://legacysurvey.org/viewer/jpeg-cutout/?ra=182.53470291342848&dec=20.316533555094995&layer=decals-dr5&pixscale=0.1&bands=grz\"></a></td></tr>\n",
       "<tr><td style=\"text-align:center\">flux22<br><a href=\"http://legacysurvey.org/viewer?ra=183.52044195628218&dec=20.30757234511641&zoom=16\"><img id=\"cnvflux22\" width=\"256\" height=\"256\" src=\"http://legacysurvey.org/viewer/jpeg-cutout/?ra=183.52044195628218&dec=20.30757234511641&layer=decals-dr5&pixscale=0.1&bands=grz\"></a></td><td style=\"text-align:center\">flux23<br><a href=\"http://legacysurvey.org/viewer?ra=182.21423889412614&dec=19.751518766765205&zoom=16\"><img id=\"cnvflux23\" width=\"256\" height=\"256\" src=\"http://legacysurvey.org/viewer/jpeg-cutout/?ra=182.21423889412614&dec=19.751518766765205&layer=decals-dr5&pixscale=0.1&bands=grz\"></a></td><td style=\"text-align:center\">flux24<br><a href=\"http://legacysurvey.org/viewer?ra=183.02183350054537&dec=20.624743157295867&zoom=16\"><img id=\"cnvflux24\" width=\"256\" height=\"256\" src=\"http://legacysurvey.org/viewer/jpeg-cutout/?ra=183.02183350054537&dec=20.624743157295867&layer=decals-dr5&pixscale=0.1&bands=grz\"></a></td></tr>\n",
       "<tr><td style=\"text-align:center\">flux25<br><a href=\"http://legacysurvey.org/viewer?ra=182.56459018493976&dec=20.52603425317077&zoom=16\"><img id=\"cnvflux25\" width=\"256\" height=\"256\" src=\"http://legacysurvey.org/viewer/jpeg-cutout/?ra=182.56459018493976&dec=20.52603425317077&layer=decals-dr5&pixscale=0.1&bands=grz\"></a></td><td style=\"text-align:center\">flux26<br><a href=\"http://legacysurvey.org/viewer?ra=183.00178805577025&dec=19.489991305427186&zoom=16\"><img id=\"cnvflux26\" width=\"256\" height=\"256\" src=\"http://legacysurvey.org/viewer/jpeg-cutout/?ra=183.00178805577025&dec=19.489991305427186&layer=decals-dr5&pixscale=0.1&bands=grz\"></a></td><td style=\"text-align:center\">flux27<br><a href=\"http://legacysurvey.org/viewer?ra=182.71472936875608&dec=20.28711030859111&zoom=16\"><img id=\"cnvflux27\" width=\"256\" height=\"256\" src=\"http://legacysurvey.org/viewer/jpeg-cutout/?ra=182.71472936875608&dec=20.28711030859111&layer=decals-dr5&pixscale=0.1&bands=grz\"></a></td></tr>\n",
       "<tr><td style=\"text-align:center\">flux28<br><a href=\"http://legacysurvey.org/viewer?ra=182.67285784594475&dec=19.76781846714945&zoom=16\"><img id=\"cnvflux28\" width=\"256\" height=\"256\" src=\"http://legacysurvey.org/viewer/jpeg-cutout/?ra=182.67285784594475&dec=19.76781846714945&layer=decals-dr5&pixscale=0.1&bands=grz\"></a></td><td style=\"text-align:center\">flux29<br><a href=\"http://legacysurvey.org/viewer?ra=182.86133323320092&dec=19.760498181633412&zoom=16\"><img id=\"cnvflux29\" width=\"256\" height=\"256\" src=\"http://legacysurvey.org/viewer/jpeg-cutout/?ra=182.86133323320092&dec=19.760498181633412&layer=decals-dr5&pixscale=0.1&bands=grz\"></a></td><td style=\"text-align:center\">flux30<br><a href=\"http://legacysurvey.org/viewer?ra=183.11536172051132&dec=19.694417302488095&zoom=16\"><img id=\"cnvflux30\" width=\"256\" height=\"256\" src=\"http://legacysurvey.org/viewer/jpeg-cutout/?ra=183.11536172051132&dec=19.694417302488095&layer=decals-dr5&pixscale=0.1&bands=grz\"></a></td></tr>\n",
       "<tr><td style=\"text-align:center\">flux31<br><a href=\"http://legacysurvey.org/viewer?ra=182.36187348574597&dec=20.058379263920255&zoom=16\"><img id=\"cnvflux31\" width=\"256\" height=\"256\" src=\"http://legacysurvey.org/viewer/jpeg-cutout/?ra=182.36187348574597&dec=20.058379263920255&layer=decals-dr5&pixscale=0.1&bands=grz\"></a></td><td style=\"text-align:center\">flux32<br><a href=\"http://legacysurvey.org/viewer?ra=182.8708002216842&dec=20.073118970330967&zoom=16\"><img id=\"cnvflux32\" width=\"256\" height=\"256\" src=\"http://legacysurvey.org/viewer/jpeg-cutout/?ra=182.8708002216842&dec=20.073118970330967&layer=decals-dr5&pixscale=0.1&bands=grz\"></a></td><td style=\"text-align:center\">flux33<br><a href=\"http://legacysurvey.org/viewer?ra=183.40650501393026&dec=20.095161220976937&zoom=16\"><img id=\"cnvflux33\" width=\"256\" height=\"256\" src=\"http://legacysurvey.org/viewer/jpeg-cutout/?ra=183.40650501393026&dec=20.095161220976937&layer=decals-dr5&pixscale=0.1&bands=grz\"></a></td></tr>\n",
       "<tr><td style=\"text-align:center\">flux34<br><a href=\"http://legacysurvey.org/viewer?ra=183.23660696149764&dec=20.13637097401848&zoom=16\"><img id=\"cnvflux34\" width=\"256\" height=\"256\" src=\"http://legacysurvey.org/viewer/jpeg-cutout/?ra=183.23660696149764&dec=20.13637097401848&layer=decals-dr5&pixscale=0.1&bands=grz\"></a></td><td style=\"text-align:center\">flux35<br><a href=\"http://legacysurvey.org/viewer?ra=182.24556973206307&dec=19.422551234834703&zoom=16\"><img id=\"cnvflux35\" width=\"256\" height=\"256\" src=\"http://legacysurvey.org/viewer/jpeg-cutout/?ra=182.24556973206307&dec=19.422551234834703&layer=decals-dr5&pixscale=0.1&bands=grz\"></a></td><td style=\"text-align:center\">flux36<br><a href=\"http://legacysurvey.org/viewer?ra=182.74914489685986&dec=20.47628477853504&zoom=16\"><img id=\"cnvflux36\" width=\"256\" height=\"256\" src=\"http://legacysurvey.org/viewer/jpeg-cutout/?ra=182.74914489685986&dec=20.47628477853504&layer=decals-dr5&pixscale=0.1&bands=grz\"></a></td></tr>\n",
       "<tr><td style=\"text-align:center\">flux37<br><a href=\"http://legacysurvey.org/viewer?ra=183.12897997332698&dec=20.224154208199508&zoom=16\"><img id=\"cnvflux37\" width=\"256\" height=\"256\" src=\"http://legacysurvey.org/viewer/jpeg-cutout/?ra=183.12897997332698&dec=20.224154208199508&layer=decals-dr5&pixscale=0.1&bands=grz\"></a></td><td style=\"text-align:center\">flux38<br><a href=\"http://legacysurvey.org/viewer?ra=183.4656762462456&dec=20.38037049557958&zoom=16\"><img id=\"cnvflux38\" width=\"256\" height=\"256\" src=\"http://legacysurvey.org/viewer/jpeg-cutout/?ra=183.4656762462456&dec=20.38037049557958&layer=decals-dr5&pixscale=0.1&bands=grz\"></a></td><td style=\"text-align:center\">flux39<br><a href=\"http://legacysurvey.org/viewer?ra=182.27880374848132&dec=20.629932159331474&zoom=16\"><img id=\"cnvflux39\" width=\"256\" height=\"256\" src=\"http://legacysurvey.org/viewer/jpeg-cutout/?ra=182.27880374848132&dec=20.629932159331474&layer=decals-dr5&pixscale=0.1&bands=grz\"></a></td></tr>\n",
       "<tr><td style=\"text-align:center\">flux40<br><a href=\"http://legacysurvey.org/viewer?ra=182.60688176803268&dec=19.248057449969778&zoom=16\"><img id=\"cnvflux40\" width=\"256\" height=\"256\" src=\"http://legacysurvey.org/viewer/jpeg-cutout/?ra=182.60688176803268&dec=19.248057449969778&layer=decals-dr5&pixscale=0.1&bands=grz\"></a></td><td style=\"text-align:center\">flux41<br><a href=\"http://legacysurvey.org/viewer?ra=183.00813706813472&dec=21.130626305482707&zoom=16\"><img id=\"cnvflux41\" width=\"256\" height=\"256\" src=\"http://legacysurvey.org/viewer/jpeg-cutout/?ra=183.00813706813472&dec=21.130626305482707&layer=decals-dr5&pixscale=0.1&bands=grz\"></a></td><td style=\"text-align:center\">flux42<br><a href=\"http://legacysurvey.org/viewer?ra=182.47985250144154&dec=19.58278677159789&zoom=16\"><img id=\"cnvflux42\" width=\"256\" height=\"256\" src=\"http://legacysurvey.org/viewer/jpeg-cutout/?ra=182.47985250144154&dec=19.58278677159789&layer=decals-dr5&pixscale=0.1&bands=grz\"></a></td></tr>\n",
       "<tr><td style=\"text-align:center\">flux43<br><a href=\"http://legacysurvey.org/viewer?ra=182.6233709419108&dec=20.180895117067394&zoom=16\"><img id=\"cnvflux43\" width=\"256\" height=\"256\" src=\"http://legacysurvey.org/viewer/jpeg-cutout/?ra=182.6233709419108&dec=20.180895117067394&layer=decals-dr5&pixscale=0.1&bands=grz\"></a></td><td style=\"text-align:center\">flux44<br><a href=\"http://legacysurvey.org/viewer?ra=182.92756129210287&dec=20.105231470637246&zoom=16\"><img id=\"cnvflux44\" width=\"256\" height=\"256\" src=\"http://legacysurvey.org/viewer/jpeg-cutout/?ra=182.92756129210287&dec=20.105231470637246&layer=decals-dr5&pixscale=0.1&bands=grz\"></a></td><td style=\"text-align:center\">flux45<br><a href=\"http://legacysurvey.org/viewer?ra=183.23572118004375&dec=20.94756579536826&zoom=16\"><img id=\"cnvflux45\" width=\"256\" height=\"256\" src=\"http://legacysurvey.org/viewer/jpeg-cutout/?ra=183.23572118004375&dec=20.94756579536826&layer=decals-dr5&pixscale=0.1&bands=grz\"></a></td></tr>\n",
       "<tr><td style=\"text-align:center\">flux46<br><a href=\"http://legacysurvey.org/viewer?ra=182.28123775503383&dec=20.98919808808268&zoom=16\"><img id=\"cnvflux46\" width=\"256\" height=\"256\" src=\"http://legacysurvey.org/viewer/jpeg-cutout/?ra=182.28123775503383&dec=20.98919808808268&layer=decals-dr5&pixscale=0.1&bands=grz\"></a></td><td style=\"text-align:center\">flux47<br><a href=\"http://legacysurvey.org/viewer?ra=181.75465792663158&dec=19.960902657203718&zoom=16\"><img id=\"cnvflux47\" width=\"256\" height=\"256\" src=\"http://legacysurvey.org/viewer/jpeg-cutout/?ra=181.75465792663158&dec=19.960902657203718&layer=decals-dr5&pixscale=0.1&bands=grz\"></a></td><td style=\"text-align:center\">flux48<br><a href=\"http://legacysurvey.org/viewer?ra=182.78187221254288&dec=19.181360572314187&zoom=16\"><img id=\"cnvflux48\" width=\"256\" height=\"256\" src=\"http://legacysurvey.org/viewer/jpeg-cutout/?ra=182.78187221254288&dec=19.181360572314187&layer=decals-dr5&pixscale=0.1&bands=grz\"></a></td></tr>\n",
       "<tr><td style=\"text-align:center\">flux49<br><a href=\"http://legacysurvey.org/viewer?ra=183.15884822575202&dec=19.424490007139163&zoom=16\"><img id=\"cnvflux49\" width=\"256\" height=\"256\" src=\"http://legacysurvey.org/viewer/jpeg-cutout/?ra=183.15884822575202&dec=19.424490007139163&layer=decals-dr5&pixscale=0.1&bands=grz\"></a></td><td style=\"text-align:center\">flux50<br><a href=\"http://legacysurvey.org/viewer?ra=182.55212577292406&dec=20.903033330892544&zoom=16\"><img id=\"cnvflux50\" width=\"256\" height=\"256\" src=\"http://legacysurvey.org/viewer/jpeg-cutout/?ra=182.55212577292406&dec=20.903033330892544&layer=decals-dr5&pixscale=0.1&bands=grz\"></a></td><td style=\"text-align:center\">flux51<br><a href=\"http://legacysurvey.org/viewer?ra=183.6186284100973&dec=19.892623577839764&zoom=16\"><img id=\"cnvflux51\" width=\"256\" height=\"256\" src=\"http://legacysurvey.org/viewer/jpeg-cutout/?ra=183.6186284100973&dec=19.892623577839764&layer=decals-dr5&pixscale=0.1&bands=grz\"></a></td></tr>\n",
       "<tr><td style=\"text-align:center\">flux52<br><a href=\"http://legacysurvey.org/viewer?ra=182.10425245672934&dec=20.633336844507856&zoom=16\"><img id=\"cnvflux52\" width=\"256\" height=\"256\" src=\"http://legacysurvey.org/viewer/jpeg-cutout/?ra=182.10425245672934&dec=20.633336844507856&layer=decals-dr5&pixscale=0.1&bands=grz\"></a></td><td style=\"text-align:center\">flux53<br><a href=\"http://legacysurvey.org/viewer?ra=183.4817286622931&dec=20.751003152853404&zoom=16\"><img id=\"cnvflux53\" width=\"256\" height=\"256\" src=\"http://legacysurvey.org/viewer/jpeg-cutout/?ra=183.4817286622931&dec=20.751003152853404&layer=decals-dr5&pixscale=0.1&bands=grz\"></a></td><td style=\"text-align:center\">flux54<br><a href=\"http://legacysurvey.org/viewer?ra=182.86528203324445&dec=19.223854649837303&zoom=16\"><img id=\"cnvflux54\" width=\"256\" height=\"256\" src=\"http://legacysurvey.org/viewer/jpeg-cutout/?ra=182.86528203324445&dec=19.223854649837303&layer=decals-dr5&pixscale=0.1&bands=grz\"></a></td></tr>\n",
       "<tr><td style=\"text-align:center\">flux55<br><a href=\"http://legacysurvey.org/viewer?ra=182.59678458903483&dec=19.233322078922434&zoom=16\"><img id=\"cnvflux55\" width=\"256\" height=\"256\" src=\"http://legacysurvey.org/viewer/jpeg-cutout/?ra=182.59678458903483&dec=19.233322078922434&layer=decals-dr5&pixscale=0.1&bands=grz\"></a></td><td style=\"text-align:center\">flux56<br><a href=\"http://legacysurvey.org/viewer?ra=183.67577270448993&dec=20.086243716100554&zoom=16\"><img id=\"cnvflux56\" width=\"256\" height=\"256\" src=\"http://legacysurvey.org/viewer/jpeg-cutout/?ra=183.67577270448993&dec=20.086243716100554&layer=decals-dr5&pixscale=0.1&bands=grz\"></a></td><td style=\"text-align:center\">flux57<br><a href=\"http://legacysurvey.org/viewer?ra=183.67305888217618&dec=20.074356197066688&zoom=16\"><img id=\"cnvflux57\" width=\"256\" height=\"256\" src=\"http://legacysurvey.org/viewer/jpeg-cutout/?ra=183.67305888217618&dec=20.074356197066688&layer=decals-dr5&pixscale=0.1&bands=grz\"></a></td></tr>\n",
       "<tr><td style=\"text-align:center\">flux58<br><a href=\"http://legacysurvey.org/viewer?ra=181.76901407441594&dec=20.07031301958984&zoom=16\"><img id=\"cnvflux58\" width=\"256\" height=\"256\" src=\"http://legacysurvey.org/viewer/jpeg-cutout/?ra=181.76901407441594&dec=20.07031301958984&layer=decals-dr5&pixscale=0.1&bands=grz\"></a></td><td style=\"text-align:center\">flux59<br><a href=\"http://legacysurvey.org/viewer?ra=182.16276449100855&dec=19.514305261102077&zoom=16\"><img id=\"cnvflux59\" width=\"256\" height=\"256\" src=\"http://legacysurvey.org/viewer/jpeg-cutout/?ra=182.16276449100855&dec=19.514305261102077&layer=decals-dr5&pixscale=0.1&bands=grz\"></a></td><td style=\"text-align:center\">flux60<br><a href=\"http://legacysurvey.org/viewer?ra=182.7605012750402&dec=19.35622414493995&zoom=16\"><img id=\"cnvflux60\" width=\"256\" height=\"256\" src=\"http://legacysurvey.org/viewer/jpeg-cutout/?ra=182.7605012750402&dec=19.35622414493995&layer=decals-dr5&pixscale=0.1&bands=grz\"></a></td></tr>\n",
       "<tr><td style=\"text-align:center\">flux61<br><a href=\"http://legacysurvey.org/viewer?ra=182.80747764755682&dec=21.16233937588434&zoom=16\"><img id=\"cnvflux61\" width=\"256\" height=\"256\" src=\"http://legacysurvey.org/viewer/jpeg-cutout/?ra=182.80747764755682&dec=21.16233937588434&layer=decals-dr5&pixscale=0.1&bands=grz\"></a></td><td style=\"text-align:center\">flux62<br><a href=\"http://legacysurvey.org/viewer?ra=181.860692592017&dec=20.01217793544475&zoom=16\"><img id=\"cnvflux62\" width=\"256\" height=\"256\" src=\"http://legacysurvey.org/viewer/jpeg-cutout/?ra=181.860692592017&dec=20.01217793544475&layer=decals-dr5&pixscale=0.1&bands=grz\"></a></td><td style=\"text-align:center\">flux63<br><a href=\"http://legacysurvey.org/viewer?ra=183.33905514792264&dec=19.55344235668871&zoom=16\"><img id=\"cnvflux63\" width=\"256\" height=\"256\" src=\"http://legacysurvey.org/viewer/jpeg-cutout/?ra=183.33905514792264&dec=19.55344235668871&layer=decals-dr5&pixscale=0.1&bands=grz\"></a></td></tr>\n",
       "<tr><td style=\"text-align:center\">flux64<br><a href=\"http://legacysurvey.org/viewer?ra=183.1595104424634&dec=19.404199971998448&zoom=16\"><img id=\"cnvflux64\" width=\"256\" height=\"256\" src=\"http://legacysurvey.org/viewer/jpeg-cutout/?ra=183.1595104424634&dec=19.404199971998448&layer=decals-dr5&pixscale=0.1&bands=grz\"></a></td><td style=\"text-align:center\">flux65<br><a href=\"http://legacysurvey.org/viewer?ra=183.4285113648561&dec=20.78380205230021&zoom=16\"><img id=\"cnvflux65\" width=\"256\" height=\"256\" src=\"http://legacysurvey.org/viewer/jpeg-cutout/?ra=183.4285113648561&dec=20.78380205230021&layer=decals-dr5&pixscale=0.1&bands=grz\"></a></td><td style=\"text-align:center\">flux66<br><a href=\"http://legacysurvey.org/viewer?ra=183.54912358852613&dec=20.70050561324612&zoom=16\"><img id=\"cnvflux66\" width=\"256\" height=\"256\" src=\"http://legacysurvey.org/viewer/jpeg-cutout/?ra=183.54912358852613&dec=20.70050561324612&layer=decals-dr5&pixscale=0.1&bands=grz\"></a></td></tr>\n",
       "<tr><td style=\"text-align:center\">flux67<br><a href=\"http://legacysurvey.org/viewer?ra=183.38091507204217&dec=19.628437736025163&zoom=16\"><img id=\"cnvflux67\" width=\"256\" height=\"256\" src=\"http://legacysurvey.org/viewer/jpeg-cutout/?ra=183.38091507204217&dec=19.628437736025163&layer=decals-dr5&pixscale=0.1&bands=grz\"></a></td><td style=\"text-align:center\">flux68<br><a href=\"http://legacysurvey.org/viewer?ra=181.9583153521155&dec=20.503736990614975&zoom=16\"><img id=\"cnvflux68\" width=\"256\" height=\"256\" src=\"http://legacysurvey.org/viewer/jpeg-cutout/?ra=181.9583153521155&dec=20.503736990614975&layer=decals-dr5&pixscale=0.1&bands=grz\"></a></td><td style=\"text-align:center\">flux69<br><a href=\"http://legacysurvey.org/viewer?ra=183.1853815920965&dec=20.856780391105023&zoom=16\"><img id=\"cnvflux69\" width=\"256\" height=\"256\" src=\"http://legacysurvey.org/viewer/jpeg-cutout/?ra=183.1853815920965&dec=20.856780391105023&layer=decals-dr5&pixscale=0.1&bands=grz\"></a></td></tr>\n",
       "<tr><td style=\"text-align:center\">flux70<br><a href=\"http://legacysurvey.org/viewer?ra=183.51657127371305&dec=19.76537110087351&zoom=16\"><img id=\"cnvflux70\" width=\"256\" height=\"256\" src=\"http://legacysurvey.org/viewer/jpeg-cutout/?ra=183.51657127371305&dec=19.76537110087351&layer=decals-dr5&pixscale=0.1&bands=grz\"></a></td></tr>\n",
       "    </table>\n",
       "\n",
       "    <script type=\"text/javascript\">\n",
       "    \n",
       "    </script>\n",
       "    "
      ],
      "text/plain": [
       "<IPython.core.display.HTML object>"
      ]
     },
     "execution_count": 89,
     "metadata": {},
     "output_type": "execute_result"
    }
   ],
   "source": [
    "decals.show_decals_objects_in_nb(flux, dr=5, show_reticle=False)"
   ]
  },
  {
   "cell_type": "markdown",
   "metadata": {},
   "source": [
    "They look like perfectly reasonable flux stars to me..."
   ]
  },
  {
   "cell_type": "markdown",
   "metadata": {},
   "source": [
    "## Remove eye-identified star contaminants "
   ]
  },
  {
   "cell_type": "markdown",
   "metadata": {},
   "source": [
    "These were found by visually inspecting everything in the target_catalog and noting when there was an overlapping bright star"
   ]
  },
  {
   "cell_type": "code",
   "execution_count": 90,
   "metadata": {},
   "outputs": [],
   "source": [
    "bright_star_radecs=\"\"\"\n",
    "ra dec\n",
    "182.37914475800147 20.29622674844916\n",
    "182.4888964491956 19.88118131996779\n",
    "182.43289141971493 19.90175356394351\n",
    "182.62446720131237 19.94801147293996\n",
    "182.56661200773237 20.005344502032752\n",
    "182.55012060145057 20.011263196796847\n",
    "182.48898039106234 20.11570080198275\n",
    "182.6147618932198 20.319161359822935\n",
    "182.61044724977666 20.334968706255445\n",
    "182.62806071786397 20.43126041497607\n",
    "182.69421965906298 19.77364145878149\n",
    "182.87017154387462 19.788970378108797\n",
    "182.79576735651685 19.84510627142115\n",
    "182.85171928484343 19.96487696798792\n",
    "182.85619589546744 19.959911942300938\n",
    "182.7665524800516 19.971688664349983\n",
    "182.7665524800516 19.971688664349983\n",
    "182.67352993865444 20.012930696869862\n",
    "182.67239694009834 20.013499588635348\n",
    "182.7136465240127 20.06191699834425\n",
    "182.73899170376268 20.105788936560437\n",
    "182.67150395492212 20.193786531611497\n",
    "182.84950942970798 20.201801874493626\n",
    "182.68080532642585 20.2739532746671\n",
    "182.70568091163213 20.294463390680956\n",
    "182.7529655549942 20.380147481387837\n",
    "182.74453280598325 20.433815905410448\n",
    "182.69302981534304 20.465944891634834\n",
    "182.80731714328505 20.50943498550376\n",
    "182.7872831319199 20.586025159847257\n",
    "182.730378495134 20.59792655868912\n",
    "183.10003371730525 19.887201273321455\n",
    "182.9299792995257 19.954531765752805\n",
    "183.10768701087238 20.02191922275904\n",
    "183.02489494432913 20.107445394577745\n",
    "183.03902143202393 20.285623348580103\n",
    "183.06622132245337 20.30632424599727\n",
    "183.18204721752286 20.35230898971959\n",
    "183.08414614907144 20.491106153060088\n",
    "183.01170263050383 20.50289955802621\n",
    "182.95677959576565 20.541137820553086\n",
    "183.26720765362472 20.17431758481972\n",
    "\"\"\"[1:-1]\n",
    "\n",
    "ras = []\n",
    "decs = []\n",
    "for s in bright_star_radecs.split('\\n')[1:]:\n",
    "    ra, dec = s.split(' ')\n",
    "    ras.append(ra)\n",
    "    decs.append(dec)\n",
    "brightstar_scs = SkyCoord(ras, decs, unit=u.deg)"
   ]
  },
  {
   "cell_type": "code",
   "execution_count": 91,
   "metadata": {
    "scrolled": true
   },
   "outputs": [
    {
     "data": {
      "text/html": [
       "\n",
       "    <table>\n",
       "    <tr><td style=\"text-align:center\">star0<br><a href=\"http://legacysurvey.org/viewer?ra=182.37914475800147&dec=20.29622674844916&zoom=16\"><img id=\"cnvstar0\" width=\"256\" height=\"256\" src=\"http://legacysurvey.org/viewer/jpeg-cutout/?ra=182.37914475800147&dec=20.29622674844916&layer=decals-dr5&pixscale=0.1&bands=grz\"></a></td><td style=\"text-align:center\">star1<br><a href=\"http://legacysurvey.org/viewer?ra=182.4888964491956&dec=19.88118131996779&zoom=16\"><img id=\"cnvstar1\" width=\"256\" height=\"256\" src=\"http://legacysurvey.org/viewer/jpeg-cutout/?ra=182.4888964491956&dec=19.88118131996779&layer=decals-dr5&pixscale=0.1&bands=grz\"></a></td><td style=\"text-align:center\">star2<br><a href=\"http://legacysurvey.org/viewer?ra=182.43289141971493&dec=19.90175356394351&zoom=16\"><img id=\"cnvstar2\" width=\"256\" height=\"256\" src=\"http://legacysurvey.org/viewer/jpeg-cutout/?ra=182.43289141971493&dec=19.90175356394351&layer=decals-dr5&pixscale=0.1&bands=grz\"></a></td></tr>\n",
       "<tr><td style=\"text-align:center\">star3<br><a href=\"http://legacysurvey.org/viewer?ra=182.62446720131237&dec=19.94801147293996&zoom=16\"><img id=\"cnvstar3\" width=\"256\" height=\"256\" src=\"http://legacysurvey.org/viewer/jpeg-cutout/?ra=182.62446720131237&dec=19.94801147293996&layer=decals-dr5&pixscale=0.1&bands=grz\"></a></td><td style=\"text-align:center\">star4<br><a href=\"http://legacysurvey.org/viewer?ra=182.56661200773237&dec=20.005344502032752&zoom=16\"><img id=\"cnvstar4\" width=\"256\" height=\"256\" src=\"http://legacysurvey.org/viewer/jpeg-cutout/?ra=182.56661200773237&dec=20.005344502032752&layer=decals-dr5&pixscale=0.1&bands=grz\"></a></td><td style=\"text-align:center\">star5<br><a href=\"http://legacysurvey.org/viewer?ra=182.55012060145057&dec=20.011263196796847&zoom=16\"><img id=\"cnvstar5\" width=\"256\" height=\"256\" src=\"http://legacysurvey.org/viewer/jpeg-cutout/?ra=182.55012060145057&dec=20.011263196796847&layer=decals-dr5&pixscale=0.1&bands=grz\"></a></td></tr>\n",
       "<tr><td style=\"text-align:center\">star6<br><a href=\"http://legacysurvey.org/viewer?ra=182.48898039106234&dec=20.11570080198275&zoom=16\"><img id=\"cnvstar6\" width=\"256\" height=\"256\" src=\"http://legacysurvey.org/viewer/jpeg-cutout/?ra=182.48898039106234&dec=20.11570080198275&layer=decals-dr5&pixscale=0.1&bands=grz\"></a></td><td style=\"text-align:center\">star7<br><a href=\"http://legacysurvey.org/viewer?ra=182.6147618932198&dec=20.319161359822935&zoom=16\"><img id=\"cnvstar7\" width=\"256\" height=\"256\" src=\"http://legacysurvey.org/viewer/jpeg-cutout/?ra=182.6147618932198&dec=20.319161359822935&layer=decals-dr5&pixscale=0.1&bands=grz\"></a></td><td style=\"text-align:center\">star8<br><a href=\"http://legacysurvey.org/viewer?ra=182.61044724977666&dec=20.334968706255445&zoom=16\"><img id=\"cnvstar8\" width=\"256\" height=\"256\" src=\"http://legacysurvey.org/viewer/jpeg-cutout/?ra=182.61044724977666&dec=20.334968706255445&layer=decals-dr5&pixscale=0.1&bands=grz\"></a></td></tr>\n",
       "<tr><td style=\"text-align:center\">star9<br><a href=\"http://legacysurvey.org/viewer?ra=182.62806071786397&dec=20.43126041497607&zoom=16\"><img id=\"cnvstar9\" width=\"256\" height=\"256\" src=\"http://legacysurvey.org/viewer/jpeg-cutout/?ra=182.62806071786397&dec=20.43126041497607&layer=decals-dr5&pixscale=0.1&bands=grz\"></a></td><td style=\"text-align:center\">star10<br><a href=\"http://legacysurvey.org/viewer?ra=182.69421965906298&dec=19.77364145878149&zoom=16\"><img id=\"cnvstar10\" width=\"256\" height=\"256\" src=\"http://legacysurvey.org/viewer/jpeg-cutout/?ra=182.69421965906298&dec=19.77364145878149&layer=decals-dr5&pixscale=0.1&bands=grz\"></a></td><td style=\"text-align:center\">star11<br><a href=\"http://legacysurvey.org/viewer?ra=182.87017154387462&dec=19.788970378108797&zoom=16\"><img id=\"cnvstar11\" width=\"256\" height=\"256\" src=\"http://legacysurvey.org/viewer/jpeg-cutout/?ra=182.87017154387462&dec=19.788970378108797&layer=decals-dr5&pixscale=0.1&bands=grz\"></a></td></tr>\n",
       "<tr><td style=\"text-align:center\">star12<br><a href=\"http://legacysurvey.org/viewer?ra=182.79576735651685&dec=19.84510627142115&zoom=16\"><img id=\"cnvstar12\" width=\"256\" height=\"256\" src=\"http://legacysurvey.org/viewer/jpeg-cutout/?ra=182.79576735651685&dec=19.84510627142115&layer=decals-dr5&pixscale=0.1&bands=grz\"></a></td><td style=\"text-align:center\">star13<br><a href=\"http://legacysurvey.org/viewer?ra=182.85171928484343&dec=19.96487696798792&zoom=16\"><img id=\"cnvstar13\" width=\"256\" height=\"256\" src=\"http://legacysurvey.org/viewer/jpeg-cutout/?ra=182.85171928484343&dec=19.96487696798792&layer=decals-dr5&pixscale=0.1&bands=grz\"></a></td><td style=\"text-align:center\">star14<br><a href=\"http://legacysurvey.org/viewer?ra=182.85619589546744&dec=19.959911942300938&zoom=16\"><img id=\"cnvstar14\" width=\"256\" height=\"256\" src=\"http://legacysurvey.org/viewer/jpeg-cutout/?ra=182.85619589546744&dec=19.959911942300938&layer=decals-dr5&pixscale=0.1&bands=grz\"></a></td></tr>\n",
       "<tr><td style=\"text-align:center\">star15<br><a href=\"http://legacysurvey.org/viewer?ra=182.7665524800516&dec=19.971688664349983&zoom=16\"><img id=\"cnvstar15\" width=\"256\" height=\"256\" src=\"http://legacysurvey.org/viewer/jpeg-cutout/?ra=182.7665524800516&dec=19.971688664349983&layer=decals-dr5&pixscale=0.1&bands=grz\"></a></td><td style=\"text-align:center\">star16<br><a href=\"http://legacysurvey.org/viewer?ra=182.7665524800516&dec=19.971688664349983&zoom=16\"><img id=\"cnvstar16\" width=\"256\" height=\"256\" src=\"http://legacysurvey.org/viewer/jpeg-cutout/?ra=182.7665524800516&dec=19.971688664349983&layer=decals-dr5&pixscale=0.1&bands=grz\"></a></td><td style=\"text-align:center\">star17<br><a href=\"http://legacysurvey.org/viewer?ra=182.67352993865444&dec=20.012930696869862&zoom=16\"><img id=\"cnvstar17\" width=\"256\" height=\"256\" src=\"http://legacysurvey.org/viewer/jpeg-cutout/?ra=182.67352993865444&dec=20.012930696869862&layer=decals-dr5&pixscale=0.1&bands=grz\"></a></td></tr>\n",
       "<tr><td style=\"text-align:center\">star18<br><a href=\"http://legacysurvey.org/viewer?ra=182.67239694009834&dec=20.013499588635348&zoom=16\"><img id=\"cnvstar18\" width=\"256\" height=\"256\" src=\"http://legacysurvey.org/viewer/jpeg-cutout/?ra=182.67239694009834&dec=20.013499588635348&layer=decals-dr5&pixscale=0.1&bands=grz\"></a></td><td style=\"text-align:center\">star19<br><a href=\"http://legacysurvey.org/viewer?ra=182.7136465240127&dec=20.06191699834425&zoom=16\"><img id=\"cnvstar19\" width=\"256\" height=\"256\" src=\"http://legacysurvey.org/viewer/jpeg-cutout/?ra=182.7136465240127&dec=20.06191699834425&layer=decals-dr5&pixscale=0.1&bands=grz\"></a></td><td style=\"text-align:center\">star20<br><a href=\"http://legacysurvey.org/viewer?ra=182.73899170376268&dec=20.105788936560437&zoom=16\"><img id=\"cnvstar20\" width=\"256\" height=\"256\" src=\"http://legacysurvey.org/viewer/jpeg-cutout/?ra=182.73899170376268&dec=20.105788936560437&layer=decals-dr5&pixscale=0.1&bands=grz\"></a></td></tr>\n",
       "<tr><td style=\"text-align:center\">star21<br><a href=\"http://legacysurvey.org/viewer?ra=182.67150395492212&dec=20.193786531611497&zoom=16\"><img id=\"cnvstar21\" width=\"256\" height=\"256\" src=\"http://legacysurvey.org/viewer/jpeg-cutout/?ra=182.67150395492212&dec=20.193786531611497&layer=decals-dr5&pixscale=0.1&bands=grz\"></a></td><td style=\"text-align:center\">star22<br><a href=\"http://legacysurvey.org/viewer?ra=182.84950942970798&dec=20.201801874493626&zoom=16\"><img id=\"cnvstar22\" width=\"256\" height=\"256\" src=\"http://legacysurvey.org/viewer/jpeg-cutout/?ra=182.84950942970798&dec=20.201801874493626&layer=decals-dr5&pixscale=0.1&bands=grz\"></a></td><td style=\"text-align:center\">star23<br><a href=\"http://legacysurvey.org/viewer?ra=182.68080532642585&dec=20.2739532746671&zoom=16\"><img id=\"cnvstar23\" width=\"256\" height=\"256\" src=\"http://legacysurvey.org/viewer/jpeg-cutout/?ra=182.68080532642585&dec=20.2739532746671&layer=decals-dr5&pixscale=0.1&bands=grz\"></a></td></tr>\n",
       "<tr><td style=\"text-align:center\">star24<br><a href=\"http://legacysurvey.org/viewer?ra=182.70568091163213&dec=20.294463390680956&zoom=16\"><img id=\"cnvstar24\" width=\"256\" height=\"256\" src=\"http://legacysurvey.org/viewer/jpeg-cutout/?ra=182.70568091163213&dec=20.294463390680956&layer=decals-dr5&pixscale=0.1&bands=grz\"></a></td><td style=\"text-align:center\">star25<br><a href=\"http://legacysurvey.org/viewer?ra=182.7529655549942&dec=20.380147481387837&zoom=16\"><img id=\"cnvstar25\" width=\"256\" height=\"256\" src=\"http://legacysurvey.org/viewer/jpeg-cutout/?ra=182.7529655549942&dec=20.380147481387837&layer=decals-dr5&pixscale=0.1&bands=grz\"></a></td><td style=\"text-align:center\">star26<br><a href=\"http://legacysurvey.org/viewer?ra=182.74453280598325&dec=20.433815905410448&zoom=16\"><img id=\"cnvstar26\" width=\"256\" height=\"256\" src=\"http://legacysurvey.org/viewer/jpeg-cutout/?ra=182.74453280598325&dec=20.433815905410448&layer=decals-dr5&pixscale=0.1&bands=grz\"></a></td></tr>\n",
       "<tr><td style=\"text-align:center\">star27<br><a href=\"http://legacysurvey.org/viewer?ra=182.69302981534304&dec=20.465944891634834&zoom=16\"><img id=\"cnvstar27\" width=\"256\" height=\"256\" src=\"http://legacysurvey.org/viewer/jpeg-cutout/?ra=182.69302981534304&dec=20.465944891634834&layer=decals-dr5&pixscale=0.1&bands=grz\"></a></td><td style=\"text-align:center\">star28<br><a href=\"http://legacysurvey.org/viewer?ra=182.80731714328505&dec=20.50943498550376&zoom=16\"><img id=\"cnvstar28\" width=\"256\" height=\"256\" src=\"http://legacysurvey.org/viewer/jpeg-cutout/?ra=182.80731714328505&dec=20.50943498550376&layer=decals-dr5&pixscale=0.1&bands=grz\"></a></td><td style=\"text-align:center\">star29<br><a href=\"http://legacysurvey.org/viewer?ra=182.7872831319199&dec=20.586025159847257&zoom=16\"><img id=\"cnvstar29\" width=\"256\" height=\"256\" src=\"http://legacysurvey.org/viewer/jpeg-cutout/?ra=182.7872831319199&dec=20.586025159847257&layer=decals-dr5&pixscale=0.1&bands=grz\"></a></td></tr>\n",
       "<tr><td style=\"text-align:center\">star30<br><a href=\"http://legacysurvey.org/viewer?ra=182.730378495134&dec=20.59792655868912&zoom=16\"><img id=\"cnvstar30\" width=\"256\" height=\"256\" src=\"http://legacysurvey.org/viewer/jpeg-cutout/?ra=182.730378495134&dec=20.59792655868912&layer=decals-dr5&pixscale=0.1&bands=grz\"></a></td><td style=\"text-align:center\">star31<br><a href=\"http://legacysurvey.org/viewer?ra=183.10003371730525&dec=19.887201273321455&zoom=16\"><img id=\"cnvstar31\" width=\"256\" height=\"256\" src=\"http://legacysurvey.org/viewer/jpeg-cutout/?ra=183.10003371730525&dec=19.887201273321455&layer=decals-dr5&pixscale=0.1&bands=grz\"></a></td><td style=\"text-align:center\">star32<br><a href=\"http://legacysurvey.org/viewer?ra=182.9299792995257&dec=19.954531765752805&zoom=16\"><img id=\"cnvstar32\" width=\"256\" height=\"256\" src=\"http://legacysurvey.org/viewer/jpeg-cutout/?ra=182.9299792995257&dec=19.954531765752805&layer=decals-dr5&pixscale=0.1&bands=grz\"></a></td></tr>\n",
       "<tr><td style=\"text-align:center\">star33<br><a href=\"http://legacysurvey.org/viewer?ra=183.10768701087238&dec=20.02191922275904&zoom=16\"><img id=\"cnvstar33\" width=\"256\" height=\"256\" src=\"http://legacysurvey.org/viewer/jpeg-cutout/?ra=183.10768701087238&dec=20.02191922275904&layer=decals-dr5&pixscale=0.1&bands=grz\"></a></td><td style=\"text-align:center\">star34<br><a href=\"http://legacysurvey.org/viewer?ra=183.02489494432913&dec=20.107445394577745&zoom=16\"><img id=\"cnvstar34\" width=\"256\" height=\"256\" src=\"http://legacysurvey.org/viewer/jpeg-cutout/?ra=183.02489494432913&dec=20.107445394577745&layer=decals-dr5&pixscale=0.1&bands=grz\"></a></td><td style=\"text-align:center\">star35<br><a href=\"http://legacysurvey.org/viewer?ra=183.03902143202393&dec=20.285623348580103&zoom=16\"><img id=\"cnvstar35\" width=\"256\" height=\"256\" src=\"http://legacysurvey.org/viewer/jpeg-cutout/?ra=183.03902143202393&dec=20.285623348580103&layer=decals-dr5&pixscale=0.1&bands=grz\"></a></td></tr>\n",
       "<tr><td style=\"text-align:center\">star36<br><a href=\"http://legacysurvey.org/viewer?ra=183.06622132245337&dec=20.30632424599727&zoom=16\"><img id=\"cnvstar36\" width=\"256\" height=\"256\" src=\"http://legacysurvey.org/viewer/jpeg-cutout/?ra=183.06622132245337&dec=20.30632424599727&layer=decals-dr5&pixscale=0.1&bands=grz\"></a></td><td style=\"text-align:center\">star37<br><a href=\"http://legacysurvey.org/viewer?ra=183.18204721752286&dec=20.35230898971959&zoom=16\"><img id=\"cnvstar37\" width=\"256\" height=\"256\" src=\"http://legacysurvey.org/viewer/jpeg-cutout/?ra=183.18204721752286&dec=20.35230898971959&layer=decals-dr5&pixscale=0.1&bands=grz\"></a></td><td style=\"text-align:center\">star38<br><a href=\"http://legacysurvey.org/viewer?ra=183.08414614907144&dec=20.491106153060088&zoom=16\"><img id=\"cnvstar38\" width=\"256\" height=\"256\" src=\"http://legacysurvey.org/viewer/jpeg-cutout/?ra=183.08414614907144&dec=20.491106153060088&layer=decals-dr5&pixscale=0.1&bands=grz\"></a></td></tr>\n",
       "<tr><td style=\"text-align:center\">star39<br><a href=\"http://legacysurvey.org/viewer?ra=183.01170263050383&dec=20.50289955802621&zoom=16\"><img id=\"cnvstar39\" width=\"256\" height=\"256\" src=\"http://legacysurvey.org/viewer/jpeg-cutout/?ra=183.01170263050383&dec=20.50289955802621&layer=decals-dr5&pixscale=0.1&bands=grz\"></a></td><td style=\"text-align:center\">star40<br><a href=\"http://legacysurvey.org/viewer?ra=182.95677959576565&dec=20.541137820553086&zoom=16\"><img id=\"cnvstar40\" width=\"256\" height=\"256\" src=\"http://legacysurvey.org/viewer/jpeg-cutout/?ra=182.95677959576565&dec=20.541137820553086&layer=decals-dr5&pixscale=0.1&bands=grz\"></a></td><td style=\"text-align:center\">star41<br><a href=\"http://legacysurvey.org/viewer?ra=183.26720765362472&dec=20.17431758481972&zoom=16\"><img id=\"cnvstar41\" width=\"256\" height=\"256\" src=\"http://legacysurvey.org/viewer/jpeg-cutout/?ra=183.26720765362472&dec=20.17431758481972&layer=decals-dr5&pixscale=0.1&bands=grz\"></a></td></tr>\n",
       "<tr></tr>\n",
       "    </table>\n",
       "\n",
       "    <script type=\"text/javascript\">\n",
       "    \n",
       "    </script>\n",
       "    "
      ],
      "text/plain": [
       "<IPython.core.display.HTML object>"
      ]
     },
     "execution_count": 91,
     "metadata": {},
     "output_type": "execute_result"
    }
   ],
   "source": [
    "t = table.Table()\n",
    "t['ra'] = brightstar_scs.ra.deg\n",
    "t['dec'] = brightstar_scs.dec.deg\n",
    "t['name'] = ['star' + str(i) for i in range(len(t))]\n",
    "decals.show_decals_objects_in_nb(t, dr=5, show_reticle=False)"
   ]
  },
  {
   "cell_type": "markdown",
   "metadata": {},
   "source": [
    "Yep all are bright stars alright - now need to remove them."
   ]
  },
  {
   "cell_type": "code",
   "execution_count": 92,
   "metadata": {},
   "outputs": [],
   "source": [
    "idxb, idxt, d2d, _ = target_cat['coord'].search_around_sky(brightstar_scs, 0.25*u.arcsec)\n",
    "\n",
    "# these asserts make sure there's exactly one match per bright star and that it's an exact match\n",
    "assert np.all(idxb == np.arange(len(brightstar_scs)))\n",
    "assert np.all(d2d==0)"
   ]
  },
  {
   "cell_type": "code",
   "execution_count": 93,
   "metadata": {},
   "outputs": [
    {
     "data": {
      "text/plain": [
       "4938"
      ]
     },
     "execution_count": 93,
     "metadata": {},
     "output_type": "execute_result"
    }
   ],
   "source": [
    "bright_star = np.zeros(len(target_cat), dtype=bool)\n",
    "bright_star[idxt] = True\n",
    "target_cat = target_cat[~bright_star]\n",
    "len(target_cat)"
   ]
  },
  {
   "cell_type": "markdown",
   "metadata": {},
   "source": [
    "## Write catalog "
   ]
  },
  {
   "cell_type": "code",
   "execution_count": 42,
   "metadata": {
    "scrolled": true
   },
   "outputs": [
    {
     "name": "stderr",
     "output_type": "stream",
     "text": [
      "/Users/erik/projects/saga/erik/mmtbino.py:58: UserWarning: Found column name type, which is a duplicate for type.  Only taking first matching column (\"mmtbino_type\")\n",
      "  warn(f'Found column name {colnm}, which is a duplicate for '\n"
     ]
    },
    {
     "data": {
      "text/html": [
       "&lt;Table length=5008&gt;\n",
       "<table id=\"table5122840840\" class=\"table-striped table-bordered table-condensed\">\n",
       "<thead><tr><th>name</th><th>ra</th><th>dec</th><th>magnitude</th><th>type</th></tr></thead>\n",
       "<thead><tr><th></th><th></th><th></th><th>mag</th><th></th></tr></thead>\n",
       "<thead><tr><th>str176</th><th>float64</th><th>float64</th><th>float32</th><th>int64</th></tr></thead>\n",
       "<tr><td>1822p200-383</td><td>182.385985604</td><td>19.9069395892</td><td>22.7112</td><td>1</td></tr>\n",
       "<tr><td>1822p200-507</td><td>182.376671954</td><td>19.9177409335</td><td>22.5298</td><td>1</td></tr>\n",
       "<tr><td>1822p200-538</td><td>182.389410393</td><td>19.9220603166</td><td>21.7355</td><td>1</td></tr>\n",
       "<tr><td>1822p200-541</td><td>182.389249026</td><td>19.9206694338</td><td>22.9624</td><td>1</td></tr>\n",
       "<tr><td>1822p200-567</td><td>182.367971343</td><td>19.9220032668</td><td>22.8726</td><td>1</td></tr>\n",
       "<tr><td>1822p200-632</td><td>182.367363395</td><td>19.9262923839</td><td>22.0392</td><td>1</td></tr>\n",
       "<tr><td>1822p200-661</td><td>182.376890307</td><td>19.9299125281</td><td>19.6472</td><td>1</td></tr>\n",
       "<tr><td>1822p200-843</td><td>182.388685389</td><td>19.9387629895</td><td>22.8902</td><td>1</td></tr>\n",
       "<tr><td>1822p200-907</td><td>182.374902382</td><td>19.9426332362</td><td>22.5234</td><td>1</td></tr>\n",
       "<tr><td>...</td><td>...</td><td>...</td><td>...</td><td>...</td></tr>\n",
       "<tr><td>flux61</td><td>182.807477648</td><td>21.1623393759</td><td>17.3657</td><td>3</td></tr>\n",
       "<tr><td>flux62</td><td>181.860692592</td><td>20.0121779354</td><td>17.6114</td><td>3</td></tr>\n",
       "<tr><td>flux63</td><td>183.339055148</td><td>19.5534423567</td><td>17.3012</td><td>3</td></tr>\n",
       "<tr><td>flux64</td><td>183.159510442</td><td>19.404199972</td><td>17.4599</td><td>3</td></tr>\n",
       "<tr><td>flux65</td><td>183.428511365</td><td>20.7838020523</td><td>17.3019</td><td>3</td></tr>\n",
       "<tr><td>flux66</td><td>183.549123589</td><td>20.7005056132</td><td>17.5142</td><td>3</td></tr>\n",
       "<tr><td>flux67</td><td>183.380915072</td><td>19.628437736</td><td>17.4958</td><td>3</td></tr>\n",
       "<tr><td>flux68</td><td>181.958315352</td><td>20.5037369906</td><td>17.5347</td><td>3</td></tr>\n",
       "<tr><td>flux69</td><td>183.185381592</td><td>20.8567803911</td><td>17.1716</td><td>3</td></tr>\n",
       "<tr><td>flux70</td><td>183.516571274</td><td>19.7653711009</td><td>17.0528</td><td>3</td></tr>\n",
       "</table>"
      ],
      "text/plain": [
       "<Table length=5008>\n",
       "    name           ra           dec      magnitude  type\n",
       "                                            mag         \n",
       "   str176       float64       float64     float32  int64\n",
       "------------ ------------- ------------- --------- -----\n",
       "1822p200-383 182.385985604 19.9069395892   22.7112     1\n",
       "1822p200-507 182.376671954 19.9177409335   22.5298     1\n",
       "1822p200-538 182.389410393 19.9220603166   21.7355     1\n",
       "1822p200-541 182.389249026 19.9206694338   22.9624     1\n",
       "1822p200-567 182.367971343 19.9220032668   22.8726     1\n",
       "1822p200-632 182.367363395 19.9262923839   22.0392     1\n",
       "1822p200-661 182.376890307 19.9299125281   19.6472     1\n",
       "1822p200-843 182.388685389 19.9387629895   22.8902     1\n",
       "1822p200-907 182.374902382 19.9426332362   22.5234     1\n",
       "         ...           ...           ...       ...   ...\n",
       "      flux61 182.807477648 21.1623393759   17.3657     3\n",
       "      flux62 181.860692592 20.0121779354   17.6114     3\n",
       "      flux63 183.339055148 19.5534423567   17.3012     3\n",
       "      flux64 183.159510442  19.404199972   17.4599     3\n",
       "      flux65 183.428511365 20.7838020523   17.3019     3\n",
       "      flux66 183.549123589 20.7005056132   17.5142     3\n",
       "      flux67 183.380915072  19.628437736   17.4958     3\n",
       "      flux68 181.958315352 20.5037369906   17.5347     3\n",
       "      flux69 183.185381592 20.8567803911   17.1716     3\n",
       "      flux70 183.516571274 19.7653711009   17.0528     3"
      ]
     },
     "execution_count": 42,
     "metadata": {},
     "output_type": "execute_result"
    }
   ],
   "source": [
    "mmtbino.write_bino_input([target_cat, flux], 'mmtbino/Feb2018_binocat.csv', overwrite=True)"
   ]
  },
  {
   "cell_type": "code",
   "execution_count": 43,
   "metadata": {
    "collapsed": true
   },
   "outputs": [],
   "source": [
    "!cp mmtbino/Feb2018_binocat.csv /Users/erik/Dropbox/SAGA/mmt/binospec_inputs/"
   ]
  },
  {
   "cell_type": "markdown",
   "metadata": {},
   "source": [
    "## Try some alternate versions to see if they work better: "
   ]
  },
  {
   "cell_type": "markdown",
   "metadata": {},
   "source": [
    "### Add a simple priority that is 1-9 based on linear equal-number magnitude bins"
   ]
  },
  {
   "cell_type": "code",
   "execution_count": 100,
   "metadata": {
    "collapsed": true
   },
   "outputs": [],
   "source": [
    "target_cat2 = target_cat.copy()"
   ]
  },
  {
   "cell_type": "code",
   "execution_count": 137,
   "metadata": {},
   "outputs": [],
   "source": [
    "bins = np.percentile(r, np.arange(10)*10)\n",
    "bins[0] -= 1\n",
    "bins[-1] += 1\n",
    "\n",
    "target_cat2['priority'] = np.digitize(r, bins, right=True)"
   ]
  },
  {
   "cell_type": "code",
   "execution_count": 149,
   "metadata": {
    "scrolled": true
   },
   "outputs": [
    {
     "name": "stderr",
     "output_type": "stream",
     "text": [
      "/Users/erik/projects/saga/erik/mmtbino.py:58: UserWarning: Found column name type, which is a duplicate for type.  Only taking first matching column (\"mmtbino_type\")\n",
      "  warn(f'Found column name {colnm}, which is a duplicate for '\n"
     ]
    },
    {
     "data": {
      "text/html": [
       "&lt;Table masked=True length=5008&gt;\n",
       "<table id=\"table5576531192\" class=\"table-striped table-bordered table-condensed\">\n",
       "<thead><tr><th>name</th><th>ra</th><th>dec</th><th>magnitude</th><th>priority</th><th>type</th></tr></thead>\n",
       "<thead><tr><th></th><th></th><th></th><th>mag</th><th></th><th></th></tr></thead>\n",
       "<thead><tr><th>str176</th><th>float64</th><th>float64</th><th>float32</th><th>int64</th><th>int64</th></tr></thead>\n",
       "<tr><td>1822p200-383</td><td>182.385985604</td><td>19.9069395892</td><td>22.7112</td><td>8</td><td>1</td></tr>\n",
       "<tr><td>1822p200-507</td><td>182.376671954</td><td>19.9177409335</td><td>22.5298</td><td>7</td><td>1</td></tr>\n",
       "<tr><td>1822p200-538</td><td>182.389410393</td><td>19.9220603166</td><td>21.7355</td><td>3</td><td>1</td></tr>\n",
       "<tr><td>1822p200-541</td><td>182.389249026</td><td>19.9206694338</td><td>22.9624</td><td>9</td><td>1</td></tr>\n",
       "<tr><td>1822p200-567</td><td>182.367971343</td><td>19.9220032668</td><td>22.8726</td><td>9</td><td>1</td></tr>\n",
       "<tr><td>1822p200-632</td><td>182.367363395</td><td>19.9262923839</td><td>22.0392</td><td>4</td><td>1</td></tr>\n",
       "<tr><td>1822p200-661</td><td>182.376890307</td><td>19.9299125281</td><td>19.6472</td><td>1</td><td>1</td></tr>\n",
       "<tr><td>1822p200-843</td><td>182.388685389</td><td>19.9387629895</td><td>22.8902</td><td>9</td><td>1</td></tr>\n",
       "<tr><td>1822p200-907</td><td>182.374902382</td><td>19.9426332362</td><td>22.5234</td><td>7</td><td>1</td></tr>\n",
       "<tr><td>...</td><td>...</td><td>...</td><td>...</td><td>...</td><td>...</td></tr>\n",
       "<tr><td>flux61</td><td>182.807477648</td><td>21.1623393759</td><td>17.3657</td><td>--</td><td>3</td></tr>\n",
       "<tr><td>flux62</td><td>181.860692592</td><td>20.0121779354</td><td>17.6114</td><td>--</td><td>3</td></tr>\n",
       "<tr><td>flux63</td><td>183.339055148</td><td>19.5534423567</td><td>17.3012</td><td>--</td><td>3</td></tr>\n",
       "<tr><td>flux64</td><td>183.159510442</td><td>19.404199972</td><td>17.4599</td><td>--</td><td>3</td></tr>\n",
       "<tr><td>flux65</td><td>183.428511365</td><td>20.7838020523</td><td>17.3019</td><td>--</td><td>3</td></tr>\n",
       "<tr><td>flux66</td><td>183.549123589</td><td>20.7005056132</td><td>17.5142</td><td>--</td><td>3</td></tr>\n",
       "<tr><td>flux67</td><td>183.380915072</td><td>19.628437736</td><td>17.4958</td><td>--</td><td>3</td></tr>\n",
       "<tr><td>flux68</td><td>181.958315352</td><td>20.5037369906</td><td>17.5347</td><td>--</td><td>3</td></tr>\n",
       "<tr><td>flux69</td><td>183.185381592</td><td>20.8567803911</td><td>17.1716</td><td>--</td><td>3</td></tr>\n",
       "<tr><td>flux70</td><td>183.516571274</td><td>19.7653711009</td><td>17.0528</td><td>--</td><td>3</td></tr>\n",
       "</table>"
      ],
      "text/plain": [
       "<Table masked=True length=5008>\n",
       "    name           ra           dec      magnitude priority  type\n",
       "                                            mag                  \n",
       "   str176       float64       float64     float32   int64   int64\n",
       "------------ ------------- ------------- --------- -------- -----\n",
       "1822p200-383 182.385985604 19.9069395892   22.7112        8     1\n",
       "1822p200-507 182.376671954 19.9177409335   22.5298        7     1\n",
       "1822p200-538 182.389410393 19.9220603166   21.7355        3     1\n",
       "1822p200-541 182.389249026 19.9206694338   22.9624        9     1\n",
       "1822p200-567 182.367971343 19.9220032668   22.8726        9     1\n",
       "1822p200-632 182.367363395 19.9262923839   22.0392        4     1\n",
       "1822p200-661 182.376890307 19.9299125281   19.6472        1     1\n",
       "1822p200-843 182.388685389 19.9387629895   22.8902        9     1\n",
       "1822p200-907 182.374902382 19.9426332362   22.5234        7     1\n",
       "         ...           ...           ...       ...      ...   ...\n",
       "      flux61 182.807477648 21.1623393759   17.3657       --     3\n",
       "      flux62 181.860692592 20.0121779354   17.6114       --     3\n",
       "      flux63 183.339055148 19.5534423567   17.3012       --     3\n",
       "      flux64 183.159510442  19.404199972   17.4599       --     3\n",
       "      flux65 183.428511365 20.7838020523   17.3019       --     3\n",
       "      flux66 183.549123589 20.7005056132   17.5142       --     3\n",
       "      flux67 183.380915072  19.628437736   17.4958       --     3\n",
       "      flux68 181.958315352 20.5037369906   17.5347       --     3\n",
       "      flux69 183.185381592 20.8567803911   17.1716       --     3\n",
       "      flux70 183.516571274 19.7653711009   17.0528       --     3"
      ]
     },
     "execution_count": 149,
     "metadata": {},
     "output_type": "execute_result"
    }
   ],
   "source": [
    "mmtbino.write_bino_input([target_cat2, flux], 'mmtbino/Feb2018_binocat_wpri.csv', overwrite=True)"
   ]
  },
  {
   "cell_type": "code",
   "execution_count": 150,
   "metadata": {
    "collapsed": true
   },
   "outputs": [],
   "source": [
    "!cp mmtbino/Feb2018_binocat_wpri.csv /Users/erik/Dropbox/SAGA/mmt/binospec_inputs/"
   ]
  },
  {
   "cell_type": "markdown",
   "metadata": {},
   "source": [
    "### *only* targets fainter than 20.75"
   ]
  },
  {
   "cell_type": "code",
   "execution_count": 146,
   "metadata": {},
   "outputs": [
    {
     "data": {
      "text/plain": [
       "4430"
      ]
     },
     "execution_count": 146,
     "metadata": {},
     "output_type": "execute_result"
    }
   ],
   "source": [
    "target_cat3 = target_cat2.copy()\n",
    "\n",
    "target_cat3 = target_cat3[r>20.75*u.mag]  # same r as above\n",
    "len(target_cat3)"
   ]
  },
  {
   "cell_type": "code",
   "execution_count": 151,
   "metadata": {
    "scrolled": true
   },
   "outputs": [
    {
     "name": "stderr",
     "output_type": "stream",
     "text": [
      "/Users/erik/projects/saga/erik/mmtbino.py:58: UserWarning: Found column name type, which is a duplicate for type.  Only taking first matching column (\"mmtbino_type\")\n",
      "  warn(f'Found column name {colnm}, which is a duplicate for '\n"
     ]
    },
    {
     "data": {
      "text/html": [
       "&lt;Table masked=True length=4500&gt;\n",
       "<table id=\"table5576529736\" class=\"table-striped table-bordered table-condensed\">\n",
       "<thead><tr><th>name</th><th>ra</th><th>dec</th><th>magnitude</th><th>priority</th><th>type</th></tr></thead>\n",
       "<thead><tr><th></th><th></th><th></th><th>mag</th><th></th><th></th></tr></thead>\n",
       "<thead><tr><th>str176</th><th>float64</th><th>float64</th><th>float32</th><th>int64</th><th>int64</th></tr></thead>\n",
       "<tr><td>1822p200-383</td><td>182.385985604</td><td>19.9069395892</td><td>22.7112</td><td>8</td><td>1</td></tr>\n",
       "<tr><td>1822p200-507</td><td>182.376671954</td><td>19.9177409335</td><td>22.5298</td><td>7</td><td>1</td></tr>\n",
       "<tr><td>1822p200-538</td><td>182.389410393</td><td>19.9220603166</td><td>21.7355</td><td>3</td><td>1</td></tr>\n",
       "<tr><td>1822p200-541</td><td>182.389249026</td><td>19.9206694338</td><td>22.9624</td><td>9</td><td>1</td></tr>\n",
       "<tr><td>1822p200-567</td><td>182.367971343</td><td>19.9220032668</td><td>22.8726</td><td>9</td><td>1</td></tr>\n",
       "<tr><td>1822p200-632</td><td>182.367363395</td><td>19.9262923839</td><td>22.0392</td><td>4</td><td>1</td></tr>\n",
       "<tr><td>1822p200-843</td><td>182.388685389</td><td>19.9387629895</td><td>22.8902</td><td>9</td><td>1</td></tr>\n",
       "<tr><td>1822p200-907</td><td>182.374902382</td><td>19.9426332362</td><td>22.5234</td><td>7</td><td>1</td></tr>\n",
       "<tr><td>1822p200-931</td><td>182.386445865</td><td>19.9445170317</td><td>22.2017</td><td>5</td><td>1</td></tr>\n",
       "<tr><td>...</td><td>...</td><td>...</td><td>...</td><td>...</td><td>...</td></tr>\n",
       "<tr><td>flux61</td><td>182.807477648</td><td>21.1623393759</td><td>17.3657</td><td>--</td><td>3</td></tr>\n",
       "<tr><td>flux62</td><td>181.860692592</td><td>20.0121779354</td><td>17.6114</td><td>--</td><td>3</td></tr>\n",
       "<tr><td>flux63</td><td>183.339055148</td><td>19.5534423567</td><td>17.3012</td><td>--</td><td>3</td></tr>\n",
       "<tr><td>flux64</td><td>183.159510442</td><td>19.404199972</td><td>17.4599</td><td>--</td><td>3</td></tr>\n",
       "<tr><td>flux65</td><td>183.428511365</td><td>20.7838020523</td><td>17.3019</td><td>--</td><td>3</td></tr>\n",
       "<tr><td>flux66</td><td>183.549123589</td><td>20.7005056132</td><td>17.5142</td><td>--</td><td>3</td></tr>\n",
       "<tr><td>flux67</td><td>183.380915072</td><td>19.628437736</td><td>17.4958</td><td>--</td><td>3</td></tr>\n",
       "<tr><td>flux68</td><td>181.958315352</td><td>20.5037369906</td><td>17.5347</td><td>--</td><td>3</td></tr>\n",
       "<tr><td>flux69</td><td>183.185381592</td><td>20.8567803911</td><td>17.1716</td><td>--</td><td>3</td></tr>\n",
       "<tr><td>flux70</td><td>183.516571274</td><td>19.7653711009</td><td>17.0528</td><td>--</td><td>3</td></tr>\n",
       "</table>"
      ],
      "text/plain": [
       "<Table masked=True length=4500>\n",
       "    name           ra           dec      magnitude priority  type\n",
       "                                            mag                  \n",
       "   str176       float64       float64     float32   int64   int64\n",
       "------------ ------------- ------------- --------- -------- -----\n",
       "1822p200-383 182.385985604 19.9069395892   22.7112        8     1\n",
       "1822p200-507 182.376671954 19.9177409335   22.5298        7     1\n",
       "1822p200-538 182.389410393 19.9220603166   21.7355        3     1\n",
       "1822p200-541 182.389249026 19.9206694338   22.9624        9     1\n",
       "1822p200-567 182.367971343 19.9220032668   22.8726        9     1\n",
       "1822p200-632 182.367363395 19.9262923839   22.0392        4     1\n",
       "1822p200-843 182.388685389 19.9387629895   22.8902        9     1\n",
       "1822p200-907 182.374902382 19.9426332362   22.5234        7     1\n",
       "1822p200-931 182.386445865 19.9445170317   22.2017        5     1\n",
       "         ...           ...           ...       ...      ...   ...\n",
       "      flux61 182.807477648 21.1623393759   17.3657       --     3\n",
       "      flux62 181.860692592 20.0121779354   17.6114       --     3\n",
       "      flux63 183.339055148 19.5534423567   17.3012       --     3\n",
       "      flux64 183.159510442  19.404199972   17.4599       --     3\n",
       "      flux65 183.428511365 20.7838020523   17.3019       --     3\n",
       "      flux66 183.549123589 20.7005056132   17.5142       --     3\n",
       "      flux67 183.380915072  19.628437736   17.4958       --     3\n",
       "      flux68 181.958315352 20.5037369906   17.5347       --     3\n",
       "      flux69 183.185381592 20.8567803911   17.1716       --     3\n",
       "      flux70 183.516571274 19.7653711009   17.0528       --     3"
      ]
     },
     "execution_count": 151,
     "metadata": {},
     "output_type": "execute_result"
    }
   ],
   "source": [
    "mmtbino.write_bino_input([target_cat3, flux], 'mmtbino/Feb2018_binocat_wpri_only20p75.csv', overwrite=True)"
   ]
  },
  {
   "cell_type": "code",
   "execution_count": 152,
   "metadata": {
    "collapsed": true
   },
   "outputs": [],
   "source": [
    "!cp mmtbino/Feb2018_binocat_wpri_only20p75.csv /Users/erik/Dropbox/SAGA/mmt/binospec_inputs/"
   ]
  }
 ],
 "metadata": {
  "anaconda-cloud": {},
  "kernelspec": {
   "display_name": "Python 3",
   "language": "python3",
   "name": "python3"
  },
  "language_info": {
   "codemirror_mode": {
    "name": "ipython",
    "version": 3
   },
   "file_extension": ".py",
   "mimetype": "text/x-python",
   "name": "python",
   "nbconvert_exporter": "python",
   "pygments_lexer": "ipython3",
   "version": "3.6.1"
  }
 },
 "nbformat": 4,
 "nbformat_minor": 1
}
