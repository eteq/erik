{
 "cells": [
  {
   "cell_type": "code",
   "execution_count": 1,
   "metadata": {
    "collapsed": true
   },
   "outputs": [],
   "source": [
    "from __future__ import print_function, division"
   ]
  },
  {
   "cell_type": "code",
   "execution_count": 2,
   "metadata": {
    "collapsed": false
   },
   "outputs": [],
   "source": [
    "# This changes the current directory to the base saga directory - make sure to run this first!\n",
    "# This is necessary to be able to import the py files and use the right directories,\n",
    "# while keeping all the notebooks in their own directory.\n",
    "import os\n",
    "import sys\n",
    "\n",
    "if 'saga_base_dir' not in locals():\n",
    "    saga_base_dir = os.path.abspath('..')\n",
    "if saga_base_dir not in sys.path:\n",
    "    os.chdir(saga_base_dir)"
   ]
  },
  {
   "cell_type": "code",
   "execution_count": 3,
   "metadata": {
    "collapsed": false
   },
   "outputs": [],
   "source": [
    "%matplotlib inline\n",
    "from matplotlib import pyplot as plt\n",
    "from matplotlib import rcParams\n",
    "\n",
    "rcParams['figure.figsize'] = (16, 8)\n",
    "rcParams['image.interpolation'] = 'none'\n",
    "rcParams['image.origin'] = 'lower'"
   ]
  },
  {
   "cell_type": "code",
   "execution_count": 4,
   "metadata": {
    "collapsed": false
   },
   "outputs": [],
   "source": [
    "import re\n",
    "import urllib2\n",
    "import datetime\n",
    "from glob import glob\n",
    "\n",
    "import numpy  as np\n",
    "\n",
    "from collections import Counter, OrderedDict\n",
    "\n",
    "from astropy import units as u\n",
    "from astropy.coordinates import SkyCoord, AltAz, EarthLocation, get_sun\n",
    "from astropy.time import Time\n",
    "from astropy.utils.data import get_readable_fileobj\n",
    "from astropy.io import fits\n",
    "from astropy.table import Table, QTable, Column, MaskedColumn\n",
    "from astropy import table\n",
    "\n",
    "from IPython import display"
   ]
  },
  {
   "cell_type": "code",
   "execution_count": 5,
   "metadata": {
    "collapsed": false
   },
   "outputs": [],
   "source": [
    "for module in ['hosts', 'targeting', 'aat']:\n",
    "    if module in globals():\n",
    "        reload(globals()[module])\n",
    "    else:\n",
    "        globals()[module] = __import__(module)\n",
    "#g = targeting.get_gama() #re-caches the gama catalog"
   ]
  },
  {
   "cell_type": "code",
   "execution_count": 6,
   "metadata": {
    "collapsed": false
   },
   "outputs": [
    {
     "name": "stdout",
     "output_type": "stream",
     "text": [
      "Using cached version of google hosts list from file \"hosts_dl.pkl2\"\n"
     ]
    }
   ],
   "source": [
    "hsd = hosts.get_saga_hosts_from_google(clientsecretjsonorfn='client_secrets.json', useobservingsummary=False)\n",
    "hsd = dict([(h.name, h) for h in hsd])"
   ]
  },
  {
   "cell_type": "code",
   "execution_count": 7,
   "metadata": {
    "collapsed": true
   },
   "outputs": [],
   "source": [
    "def catalog_to_sc(cat, hostordist = None):\n",
    "    if hasattr(hostordist, 'dist'):\n",
    "        distance = hostordist.dist\n",
    "    else:\n",
    "        distance = hostordist\n",
    "        \n",
    "    return SkyCoord(cat['ra']*u.deg, cat['dec']*u.deg, distance=distance)"
   ]
  },
  {
   "cell_type": "markdown",
   "metadata": {},
   "source": [
    "# Prepare catalogs"
   ]
  },
  {
   "cell_type": "code",
   "execution_count": 8,
   "metadata": {
    "collapsed": false
   },
   "outputs": [],
   "source": [
    "nmstoget = ('Dune', 'AnaK', 'Odyssey', 'Gilgamesh', 'OBrother', 'Narnia', 'Catch22')\n",
    "hosts_to_target = [h for h in hsd.values() if h.name in nmstoget]\n",
    "assert len(hosts_to_target)==len(nmstoget)\n",
    "new_targets = [hosts.NSAHost(145729), hosts.NSAHost(21709)]\n",
    "hosts_to_target.extend(new_targets)"
   ]
  },
  {
   "cell_type": "code",
   "execution_count": 9,
   "metadata": {
    "collapsed": false
   },
   "outputs": [],
   "source": [
    "# now set to the latest base catalogs\n",
    "for h in hsd.values() + hosts_to_target:\n",
    "    h.fnsdss = 'SAGADropbox/base_catalogs/base_sql_nsa{0}.fits.gz'.format(h.nsaid)\n",
    "    h._cached_sdss = None"
   ]
  },
  {
   "cell_type": "code",
   "execution_count": 10,
   "metadata": {
    "collapsed": false
   },
   "outputs": [
    {
     "data": {
      "text/plain": [
       "[<hosts.NSAHost object w/ name 'Narnia' AKA: ['NGC1015', 'NSA132339']>,\n",
       " <hosts.NSAHost object w/ name 'Catch22' AKA: ['NGC7541', 'NSA150887']>,\n",
       " <hosts.NSAHost object w/ name 'Dune' AKA: ['NGC5750', 'NSA165536']>,\n",
       " <hosts.NSAHost object w/ name 'OBrother' AKA: ['NSA149781']>,\n",
       " <hosts.NSAHost object w/ name 'Gilgamesh' AKA: ['NGC5962', 'NSA166313']>,\n",
       " <hosts.NSAHost object w/ name 'AnaK' AKA: ['NGC7716', 'NSA61945']>,\n",
       " <hosts.NSAHost object w/ name 'Odyssey' AKA: ['NGC6181', 'NSA147100']>,\n",
       " <hosts.NSAHost object w/ name 'NSA145729'>,\n",
       " <hosts.NSAHost object w/ name 'NSA21709'>]"
      ]
     },
     "execution_count": 10,
     "metadata": {},
     "output_type": "execute_result"
    }
   ],
   "source": [
    "# make sure the catalogs are loaded\n",
    "for h in hosts_to_target:\n",
    "    h.get_sdss_catalog()\n",
    "\n",
    "hosts_to_target"
   ]
  },
  {
   "cell_type": "code",
   "execution_count": 11,
   "metadata": {
    "collapsed": true
   },
   "outputs": [],
   "source": [
    "# these are the already-observed objects\n",
    "\n",
    "# we use \"h\" for this only as a convenience because the method adds some useful bits that aren't in the raw catalogs\n",
    "spectra = h.load_and_reprocess_sdss_catalog('SAGADropbox/data/saga_spectra_clean.fits.gz')"
   ]
  },
  {
   "cell_type": "markdown",
   "metadata": {},
   "source": [
    "# Prioritize"
   ]
  },
  {
   "cell_type": "markdown",
   "metadata": {},
   "source": [
    "```\n",
    "x = base catalog on Dropbox\n",
    "; CORRECT FOR EXTINCTION\n",
    "      r = x.r - x.extinction_r\n",
    "      i = x.i - x.extinction_i\n",
    "      g = x.g - x.extinction_g\n",
    "; DEFINE GRI CRITERIA, ERRORS ARE SUBTRACTED IN QUADRATURE\n",
    "     cgr = (g - r) - 2.*sqrt(x.g_err^2 + x.r_err^2)\n",
    "     cri = (r - i) - 2.*sqrt(x.r_err^2 + x.i_err^2)\n",
    "     \n",
    "; SELECT TARGETS\n",
    "   qtarget = where(x.rhost_kpc le 300 and $   ; INSIDE RVIR\n",
    "                   x.fibermag_r le 23 and $   ; FIBERMAG CUT\n",
    "                   x.remove eq -1 and $       ; SHRED LIST\n",
    "                   x.phot_sg eq 'GALAXY'and $ ; GALAXIES ONLY\n",
    "                   cgr le 0.85 and cri le 0.55 and $ ; GRI CUT\n",
    "                   x.zquality lt 3)           ; NO SPECTRA\n",
    "```"
   ]
  },
  {
   "cell_type": "markdown",
   "metadata": {},
   "source": [
    "The scheme below is:\n",
    "```\n",
    "7: r<300 kpc , M_r<20, \"good\" colorcuts\n",
    "6: r<300 kpc , 20<M_r<20.75, \"good\" colorcuts\n",
    "5: r<300 kpc , M_r<20, \"ok\" colorcuts\n",
    "4: r<300 kpc , 20<M_r<20.75, \"ok\" colorcuts\n",
    "3: 450>r>300 kpc , M_r<20, \"good\" colorcuts\n",
    "2: 450>r>300 kpc , 20<M_r<20.75, \" good\" colorcuts\n",
    "1: everything else with r<21 (*not* M_r)\n",
    "```"
   ]
  },
  {
   "cell_type": "code",
   "execution_count": 681,
   "metadata": {
    "collapsed": false,
    "scrolled": true
   },
   "outputs": [
    {
     "name": "stdout",
     "output_type": "stream",
     "text": [
      "On host Narnia\n",
      "WARNING: some duplicate objid found.  Setting 12 dupes to pri=-1000\n",
      "Rank counts:\n",
      "7 : 191\n",
      "6 : 313\n",
      "5 : 145\n",
      "4 : 97\n",
      "3 : 405\n",
      "2 : 655\n",
      "1 : 2728\n",
      "0 : 74279\n",
      "-1 : 6\n",
      "-2 : 16\n",
      "-3 : 187\n",
      "-4 : 20\n",
      "-103 : 154\n",
      "-104 : 2280\n",
      "-1000 : 12\n",
      "On host Catch22\n",
      "WARNING:  6 objects have rmags in selection but are extincted too much for r>21\n",
      "WARNING: some duplicate objid found.  Setting 16 dupes to pri=-1000\n",
      "Rank counts:\n",
      "7 : 285\n",
      "6 : 525\n",
      "5 : 119\n",
      "4 : 64\n",
      "3 : 429\n",
      "2 : 752\n",
      "1 : 2976\n",
      "0 : 69077\n",
      "-1 : 14\n",
      "-2 : 26\n",
      "-3 : 130\n",
      "-4 : 9\n",
      "-103 : 18\n",
      "-104 : 980\n",
      "-1000 : 16\n",
      "On host Dune\n",
      "WARNING: some duplicate objid found.  Setting 13 dupes to pri=-1000\n",
      "Rank counts:\n",
      "7 : 81\n",
      "6 : 156\n",
      "5 : 125\n",
      "4 : 182\n",
      "3 : 407\n",
      "2 : 1136\n",
      "1 : 3812\n",
      "0 : 92519\n",
      "-1 : 13\n",
      "-2 : 39\n",
      "-3 : 290\n",
      "-4 : 34\n",
      "-103 : 193\n",
      "-104 : 4155\n",
      "-1000 : 13\n",
      "On host OBrother\n",
      "WARNING:  2 objects have rmags in selection but are extincted too much for r>21\n",
      "Removed 1 due to online remove list. Remmsk val: -5.0\n",
      "WARNING: some duplicate objid found.  Setting 22 dupes to pri=-1000\n",
      "Rank counts:\n",
      "7 : 221\n",
      "6 : 255\n",
      "5 : 106\n",
      "4 : 35\n",
      "3 : 464\n",
      "2 : 625\n",
      "1 : 2080\n",
      "0 : 80709\n",
      "-1 : 2\n",
      "-2 : 11\n",
      "-3 : 150\n",
      "-4 : 3\n",
      "-5 : 1\n",
      "-103 : 61\n",
      "-104 : 861\n",
      "-1000 : 22\n",
      "On host Gilgamesh\n",
      "WARNING: some duplicate objid found.  Setting 11 dupes to pri=-1000\n",
      "Rank counts:\n",
      "7 : 31\n",
      "6 : 53\n",
      "5 : 68\n",
      "4 : 44\n",
      "3 : 444\n",
      "2 : 941\n",
      "1 : 3785\n",
      "0 : 90692\n",
      "-1 : 12\n",
      "-2 : 30\n",
      "-3 : 347\n",
      "-4 : 16\n",
      "-103 : 440\n",
      "-104 : 3010\n",
      "-1000 : 11\n",
      "On host AnaK\n",
      "WARNING: some duplicate objid found.  Setting 9 dupes to pri=-1000\n",
      "Rank counts:\n",
      "7 : 39\n",
      "6 : 109\n",
      "5 : 107\n",
      "4 : 50\n",
      "3 : 410\n",
      "2 : 720\n",
      "1 : 2710\n",
      "0 : 76941\n",
      "-1 : 4\n",
      "-2 : 31\n",
      "-3 : 189\n",
      "-4 : 22\n",
      "-103 : 515\n",
      "-104 : 3511\n",
      "-1000 : 9\n",
      "On host Odyssey\n",
      "WARNING: some duplicate objid found.  Setting 21 dupes to pri=-1000\n",
      "Rank counts:\n",
      "7 : 14\n",
      "6 : 24\n",
      "5 : 1\n",
      "4 : 3\n",
      "3 : 550\n",
      "2 : 676\n",
      "1 : 1847\n",
      "0 : 117208\n",
      "-1 : 1\n",
      "-2 : 11\n",
      "-3 : 300\n",
      "-4 : 13\n",
      "-103 : 412\n",
      "-104 : 3564\n",
      "-1000 : 21\n",
      "On host NSA145729\n",
      "WARNING: some duplicate objid found.  Setting 20 dupes to pri=-1000\n",
      "Rank counts:\n",
      "7 : 554\n",
      "6 : 859\n",
      "5 : 199\n",
      "4 : 85\n",
      "3 : 649\n",
      "2 : 988\n",
      "1 : 3470\n",
      "0 : 92134\n",
      "-1 : 8\n",
      "-2 : 15\n",
      "-3 : 279\n",
      "-4 : 8\n",
      "-104 : 1035\n",
      "-1000 : 20\n",
      "On host NSA21709\n",
      "No matches found for host \"NSA21709\" in remove list. Maybe you mis-typed something?\n",
      "WARNING: some duplicate objid found.  Setting 10 dupes to pri=-1000\n",
      "Rank counts:\n",
      "7 : 512\n",
      "6 : 853\n",
      "5 : 242\n",
      "4 : 114\n",
      "3 : 808\n",
      "2 : 1170\n",
      "1 : 4513\n",
      "0 : 57561\n",
      "-2 : 23\n",
      "-3 : 292\n",
      "-4 : 3\n",
      "-104 : 172\n",
      "-1000 : 10\n"
     ]
    }
   ],
   "source": [
    "for h in hosts_to_target:\n",
    "    print('On host', h.name)\n",
    "    cat = h.get_sdss_catalog()\n",
    "\n",
    "    r0 = cat['r'] - cat['Ar']\n",
    "    \n",
    "    cutbyrawmagcut = (r0<20.75)&(cat['r']>21)\n",
    "    if np.sum(cutbyrawmagcut)>0:\n",
    "        print('WARNING: ', np.sum(cutbyrawmagcut), 'objects have rmags in selection but are extincted too much for r>21')\n",
    "    pris = np.ones(len(cat))\n",
    "    \n",
    "    # remove list\n",
    "    tokeep = cat['REMOVE']==-1\n",
    "    pris[~tokeep] = -cat['REMOVE'][~tokeep] # sets the REMOVE objects to -their remove value\n",
    "    remmskval =  np.min(pris)-1\n",
    "    # remove anything in the remove list online but not in the catalog as remove\n",
    "    pris[~targeting.remove_targets_with_remlist(cat, h, maskonly=True, verbose='warning')&(pris>-1)] = remmskval\n",
    "    if np.sum(pris==remmskval) > 0:\n",
    "        print('Removed', np.sum(pris==remmskval), 'due to online remove list. Remmsk val:', remmskval)\n",
    "        \n",
    "        \n",
    "    photgood = ((cat['r'] < 21.) & # this is to cut the numbers a bit - more stringent mag cuts below\n",
    "                (cat['fibermag_r']<23) & \n",
    "                (cat['phot_sg']=='GALAXY'))\n",
    "    nearish = (cat['RHOST_KPC']<450) # again, to limit the numbers\n",
    "    pris[~photgood|~nearish] = 0 \n",
    "    \n",
    "    # pris ~-100 are removed due to already-observed\n",
    "    nospec = cat['ZQUALITY']<3\n",
    "    pris[~nospec] = -100-cat['ZQUALITY'][~nospec]\n",
    "    \n",
    "    brighter = r0 < 20\n",
    "    fainter = (r0 < 20.75)&~brighter\n",
    "    goodcolors = targeting.colorcut_mask(cat, {'g-r': (None, 0.85, 2), 'r-i': (None, 0.55, 2)},deredden=True)\n",
    "    okcolors = targeting.colorcut_mask(cat, {'g-r': (None, 1.2), 'r-i': (None, 0.7)}, deredden=False)\n",
    "    inside = cat['RHOST_KPC']<300\n",
    "    \n",
    "    pris[(pris>0)&~inside&fainter&goodcolors] = np.max(pris) + 1\n",
    "    pris[(pris>0)&~inside&brighter&goodcolors] = np.max(pris) + 1\n",
    "    pris[(pris>0)&inside&fainter&okcolors] = np.max(pris) + 1\n",
    "    pris[(pris>0)&inside&brighter&okcolors] = np.max(pris) + 1\n",
    "    pris[(pris>0)&inside&fainter&goodcolors] = np.max(pris) + 1\n",
    "    pris[(pris>0)&inside&brighter&goodcolors] = np.max(pris) + 1\n",
    "    #everything left is in pri 1\n",
    "\n",
    "    # this *shouldn't* be necessary, as ZQUALITY should be in the base catalog.  \n",
    "    # But as a sanity check we look to see if anything in the spectral catalog is still being included\n",
    "    spec_this_host = spectra[spectra['HOST_NSAID']==h.nsaid]\n",
    "    spec_this_host = spec_this_host[np.in1d(spec_this_host['OBJID'], cat['OBJID'])]\n",
    "\n",
    "    zq = cat['ZQUALITY'].copy()\n",
    "    for i, zqi in zip(spec_this_host['OBJID'], spec_this_host['ZQUALITY']):\n",
    "        zq[cat['OBJID']==i] = zqi\n",
    "    if np.any(pris[zq>2]>=0):\n",
    "        print('POSSIBLE PROBLEM: Found some objects in spectrum list that are *not* claimed ' \n",
    "              'as having spectra in the base catalogs.  Setting them to -11x:', dict(Counter(pris[pris<-110])))\n",
    "        pris[zq>2] = -110 - zq[zq>2]\n",
    "        \n",
    "    #de-duplicate\n",
    "    if len(np.unique(cat['OBJID'])) != len(cat):\n",
    "        _, idxs = np.unique(cat['OBJID'], return_index=True)\n",
    "        msk = np.ones_like(cat, dtype=bool)\n",
    "        msk[idxs] = 0\n",
    "        pris[msk] = -1000\n",
    "        \n",
    "        print('WARNING: some duplicate objid found.  Setting', np.sum(pris==-1000), 'dupes to pri=-1000')\n",
    "    \n",
    "    cat['aat_pris'] = pris\n",
    "    if 'aat_pris_unjiggered' in cat.colnames:\n",
    "        cat.remove_column('aat_pris_unjiggered')\n",
    "\n",
    "    #informational\n",
    "    counter = Counter(pris)\n",
    "    print('Rank counts:')\n",
    "    for k in reversed(sorted(counter)):\n",
    "        print(int(k), ':', counter[k])"
   ]
  },
  {
   "cell_type": "markdown",
   "metadata": {},
   "source": [
    "Note: the 2 objects in OBrother with the warning have r~21, and are definitely not interesting targets"
   ]
  },
  {
   "cell_type": "markdown",
   "metadata": {},
   "source": [
    "## Re-jigger priorities for new targets to account for ML prob "
   ]
  },
  {
   "cell_type": "markdown",
   "metadata": {},
   "source": [
    "The re-jiggered scheme is:\n",
    "```\n",
    "7: r<300 kpc , M_r<20, \"good\" colorcuts, ML>.001\n",
    "6: r<300 kpc , 20<M_r<20.75, \"good\" colorcuts, ML>.001\n",
    "5: r<300 kpc , M_r<20, \"good\" colorcuts, ML<.001\n",
    "4: r<300 kpc , 20<M_r<20.75, \"good\" colorcuts, ML<.001\n",
    "\n",
    "<3 : same as above\n",
    "```"
   ]
  },
  {
   "cell_type": "code",
   "execution_count": 682,
   "metadata": {
    "collapsed": false
   },
   "outputs": [
    {
     "name": "stdout",
     "output_type": "stream",
     "text": [
      "NSA145729\n",
      "{1.0: 3470, 2.0: 988, 3.0: 649, 4.0: 630, 5.0: 255, 6.0: 229, 7.0: 299}\n",
      "{0.0: 92134, -0.75: 284, -104.0: 1035, -1.0: 8, -1000.0: 20, -4.0: 8, -3.0: 279, -2.0: 15}\n",
      "NSA21709\n",
      "WARNING: host <hosts.NSAHost object w/ name 'NSA21709'> does not have probs, so not re-jiggering based on ML probs\n"
     ]
    }
   ],
   "source": [
    "for h in new_targets:\n",
    "    print(h.name)\n",
    "        \n",
    "    cat = h.get_sdss_catalog()\n",
    "    if 'aat_pris_unjiggered' in cat.colnames:\n",
    "        print('Already rejiggered', h, 'skipping (but still reporting stats)...')\n",
    "        \n",
    "        pris = cat['aat_pris']\n",
    "        print(dict(Counter(pris[pris>0])))\n",
    "        print(dict(Counter(pris[pris<=0])))\n",
    "        continue\n",
    "    \n",
    "    p = cat['PROBABILITY_CLASS1']\n",
    "    if np.all(p<0):\n",
    "        print('WARNING: host', h, 'does not have probs, so not re-jiggering based on ML probs')\n",
    "        continue\n",
    "    \n",
    "    pris = np.array(cat['aat_pris_unjiggered' if 'aat_pris_unjiggered' in cat.colnames else 'aat_pris'])\n",
    "    \n",
    "    goodcolorbright = pris == 7\n",
    "    goodcolorfaint = pris == 6\n",
    "    okcolor = (pris==5) | (pris==4)\n",
    "    \n",
    "    \n",
    "    pris[okcolor] = -0.75\n",
    "    \n",
    "    pris[goodcolorfaint] = 4\n",
    "    pris[goodcolorbright] = 5\n",
    "    pris[goodcolorfaint&(p>.001)] = 6\n",
    "    pris[goodcolorbright&(p>.001)] = 7\n",
    "    \n",
    "    print(dict(Counter(pris[pris>0])))\n",
    "    print(dict(Counter(pris[pris<=0])))\n",
    "    \n",
    "    cat['aat_pris_unjiggered'] = cat['aat_pris']\n",
    "    cat['aat_pris'] = pris"
   ]
  },
  {
   "cell_type": "markdown",
   "metadata": {},
   "source": [
    "# Some special objects "
   ]
  },
  {
   "cell_type": "code",
   "execution_count": 499,
   "metadata": {
    "collapsed": true
   },
   "outputs": [],
   "source": [
    "special_objids = []"
   ]
  },
  {
   "cell_type": "markdown",
   "metadata": {},
   "source": [
    "http://legacysurvey.org/viewer?ra=353.722358394&dec=1.20743944443"
   ]
  },
  {
   "cell_type": "code",
   "execution_count": 500,
   "metadata": {
    "collapsed": false
   },
   "outputs": [
    {
     "data": {
      "text/html": [
       "&lt;Row index=50268&gt;\n",
       "<table id=\"table5213000912\">\n",
       "<thead><tr><th>OBJID</th><th>RA</th><th>DEC</th><th>PHOTPTYPE</th><th>PHOT_SG</th><th>FLAGS</th><th>clean</th><th>SATURATED</th><th>BAD_COUNTS_ERROR</th><th>BINNED1</th><th>TOO_FEW_GOOD_DETECTIONS</th><th>u</th><th>g</th><th>r</th><th>i</th><th>z</th><th>u_err</th><th>g_err</th><th>r_err</th><th>i_err</th><th>z_err</th><th>MODELMAGERR_U</th><th>MODELMAGERR_G</th><th>MODELMAGERR_R</th><th>MODELMAGERR_I</th><th>MODELMAGERR_Z</th><th>EXTINCTION_U</th><th>EXTINCTION_G</th><th>EXTINCTION_R</th><th>EXTINCTION_I</th><th>EXTINCTION_Z</th><th>DERED_U</th><th>DERED_G</th><th>DERED_R</th><th>DERED_I</th><th>DERED_Z</th><th>PETRORAD_U</th><th>PETRORAD_G</th><th>PETRORAD_R</th><th>PETRORAD_I</th><th>PETRORAD_Z</th><th>PETRORADERR_U</th><th>PETRORADERR_G</th><th>PETRORADERR_R</th><th>PETRORADERR_I</th><th>PETRORADERR_Z</th><th>DEVRAD_U</th><th>DEVRADERR_U</th><th>DEVRAD_G</th><th>DEVRADERR_G</th><th>DEVRAD_R</th><th>DEVRADERR_R</th><th>DEVRAD_I</th><th>DEVRADERR_I</th><th>DEVRAD_Z</th><th>DEVRADERR_Z</th><th>DEVAB_U</th><th>DEVAB_G</th><th>DEVAB_R</th><th>DEVAB_I</th><th>DEVAB_Z</th><th>CMODELMAG_U</th><th>CMODELMAGERR_U</th><th>CMODELMAG_G</th><th>CMODELMAGERR_G</th><th>CMODELMAG_R</th><th>CMODELMAGERR_R</th><th>CMODELMAG_I</th><th>CMODELMAGERR_I</th><th>CMODELMAG_Z</th><th>CMODELMAGERR_Z</th><th>PSFMAG_U</th><th>PSFMAGERR_U</th><th>PSFMAG_G</th><th>PSFMAGERR_G</th><th>PSFMAG_R</th><th>PSFMAGERR_R</th><th>PSFMAG_I</th><th>PSFMAGERR_I</th><th>PSFMAG_Z</th><th>PSFMAGERR_Z</th><th>FIBERMAG_U</th><th>FIBERMAGERR_U</th><th>FIBERMAG_G</th><th>FIBERMAGERR_G</th><th>FIBERMAG_R</th><th>FIBERMAGERR_R</th><th>FIBERMAG_I</th><th>FIBERMAGERR_I</th><th>FIBERMAG_Z</th><th>FIBERMAGERR_Z</th><th>FRACDEV_U</th><th>FRACDEV_G</th><th>FRACDEV_R</th><th>FRACDEV_I</th><th>FRACDEV_Z</th><th>Q_U</th><th>U_U</th><th>Q_G</th><th>U_G</th><th>Q_R</th><th>U_R</th><th>Q_I</th><th>U_I</th><th>Q_Z</th><th>U_Z</th><th>EXPAB_U</th><th>EXPRAD_U</th><th>EXPPHI_U</th><th>EXPAB_G</th><th>EXPRAD_G</th><th>EXPPHI_G</th><th>EXPAB_R</th><th>EXPRAD_R</th><th>EXPPHI_R</th><th>EXPAB_I</th><th>EXPRAD_I</th><th>EXPPHI_I</th><th>EXPAB_Z</th><th>EXPRAD_Z</th><th>EXPPHI_Z</th><th>FIBER2MAG_R</th><th>FIBER2MAGERR_R</th><th>EXPMAG_R</th><th>EXPMAGERR_R</th><th>PETROR50_R</th><th>PETROR90_R</th><th>PETROMAG_R</th><th>SB_EXP_R</th><th>SB_PETRO_R</th><th>J</th><th>JERR</th><th>H</th><th>HERR</th><th>K</th><th>KERR</th><th>SPEC_Z</th><th>SPEC_Z_ERR</th><th>SPEC_Z_WARN</th><th>PHOTOZ</th><th>PHOTOZ_ERR</th><th>W1</th><th>W1ERR</th><th>W2</th><th>W2ERR</th><th>HOST_RA</th><th>HOST_DEC</th><th>HOST_DIST</th><th>HOST_VHOST</th><th>HOST_MK</th><th>HOST_NSAID</th><th>HOST_FLAG</th><th>HOST_SAGA_NAME</th><th>RHOST_ARCM</th><th>RHOST_KPC</th><th>OBJ_NSAID</th><th>SATS</th><th>PROBABILITY_CLASS1</th><th>RESCALED_PROBABILITY_CLASS1</th><th>REMOVE</th><th>TELNAME</th><th>MASKNAME</th><th>ZQUALITY</th><th>SPEC_CLASS</th><th>SPECOBJID</th><th>SPEC_REPEAT</th><th>Ai</th><th>fibermag_z</th><th>rhost</th><th>fibermag_r</th><th>fibermag_u</th><th>Ag</th><th>fibermag_i</th><th>Az</th><th>Ar</th><th>dec</th><th>Au</th><th>fibermag_g</th><th>type</th><th>ra</th><th>objID</th><th>psf_r</th><th>psf_u</th><th>psf_z</th><th>rhost_kpc</th><th>phot_sg</th><th>psf_g</th><th>psf_i</th><th>U</th><th>B</th><th>V</th><th>R</th><th>I</th><th>psf_U</th><th>psf_B</th><th>psf_V</th><th>psf_R</th><th>psf_I</th></tr></thead>\n",
       "<thead><tr><th>int64</th><th>float64</th><th>float64</th><th>int16</th><th>str40</th><th>int64</th><th>int32</th><th>int64</th><th>int64</th><th>int64</th><th>int64</th><th>float32</th><th>float32</th><th>float32</th><th>float32</th><th>float32</th><th>float32</th><th>float32</th><th>float32</th><th>float32</th><th>float32</th><th>float32</th><th>float32</th><th>float32</th><th>float32</th><th>float32</th><th>float32</th><th>float32</th><th>float32</th><th>float32</th><th>float32</th><th>float32</th><th>float32</th><th>float32</th><th>float32</th><th>float32</th><th>float32</th><th>float32</th><th>float32</th><th>float32</th><th>float32</th><th>float32</th><th>float32</th><th>float32</th><th>float32</th><th>float32</th><th>float32</th><th>float32</th><th>float32</th><th>float32</th><th>float32</th><th>float32</th><th>float32</th><th>float32</th><th>float32</th><th>float32</th><th>float32</th><th>float32</th><th>float32</th><th>float32</th><th>float32</th><th>float32</th><th>float32</th><th>float32</th><th>float32</th><th>float32</th><th>float32</th><th>float32</th><th>float32</th><th>float32</th><th>float32</th><th>float32</th><th>float32</th><th>float32</th><th>float32</th><th>float32</th><th>float32</th><th>float32</th><th>float32</th><th>float32</th><th>float32</th><th>float32</th><th>float32</th><th>float32</th><th>float32</th><th>float32</th><th>float32</th><th>float32</th><th>float32</th><th>float32</th><th>float32</th><th>float32</th><th>float32</th><th>float32</th><th>float32</th><th>float32</th><th>float32</th><th>float32</th><th>float32</th><th>float32</th><th>float32</th><th>float32</th><th>float32</th><th>float32</th><th>float32</th><th>float32</th><th>float32</th><th>float32</th><th>float32</th><th>float32</th><th>float32</th><th>float32</th><th>float32</th><th>float32</th><th>float32</th><th>float32</th><th>float32</th><th>float32</th><th>float32</th><th>float32</th><th>float32</th><th>float32</th><th>float32</th><th>float32</th><th>float32</th><th>float32</th><th>float32</th><th>float32</th><th>float64</th><th>float64</th><th>float32</th><th>float32</th><th>float32</th><th>float32</th><th>float32</th><th>float32</th><th>float32</th><th>float32</th><th>int32</th><th>float32</th><th>float32</th><th>float64</th><th>float64</th><th>float64</th><th>float64</th><th>float64</th><th>float64</th><th>float64</th><th>float64</th><th>float64</th><th>int64</th><th>int64</th><th>str48</th><th>float64</th><th>float64</th><th>int64</th><th>int64</th><th>float64</th><th>float64</th><th>int64</th><th>str6</th><th>str48</th><th>int64</th><th>str2</th><th>str48</th><th>str48</th><th>float32</th><th>float32</th><th>float64</th><th>float32</th><th>float32</th><th>float32</th><th>float32</th><th>float32</th><th>float32</th><th>float64</th><th>float32</th><th>float32</th><th>int16</th><th>float64</th><th>int64</th><th>float32</th><th>float32</th><th>float32</th><th>float64</th><th>str40</th><th>float32</th><th>float32</th><th>float32</th><th>float32</th><th>float32</th><th>float32</th><th>float32</th><th>float32</th><th>float32</th><th>float32</th><th>float32</th><th>float32</th></tr></thead>\n",
       "<tr><td>1237678617415057818</td><td>353.722358394</td><td>1.20743944443</td><td>3</td><td>GALAXY</td><td>527836716863832</td><td>0</td><td>0</td><td>0</td><td>268435456</td><td>281474976710656</td><td>18.5441</td><td>17.7262</td><td>17.3942</td><td>17.1693</td><td>17.0818</td><td>0.0873779</td><td>0.015557</td><td>0.0148281</td><td>0.173015</td><td>0.07175</td><td>1.69419</td><td>0.0427615</td><td>0.0450421</td><td>0.0537679</td><td>3.29137</td><td>0.214393</td><td>0.157748</td><td>0.114412</td><td>0.0867554</td><td>0.0615107</td><td>21.8159</td><td>18.6013</td><td>17.8014</td><td>18.1071</td><td>21.2929</td><td>2.96903</td><td>2.96955</td><td>2.96966</td><td>43.7679</td><td>2.96952</td><td>-1000.0</td><td>-1000.0</td><td>-1000.0</td><td>-1000.0</td><td>-1000.0</td><td>0.00313231</td><td>87.5777</td><td>29.6674</td><td>1.46031</td><td>29.6659</td><td>3.04372</td><td>29.6662</td><td>5.41823</td><td>0.58994</td><td>24.4675</td><td>0.06871</td><td>0.367598</td><td>0.33842</td><td>0.604001</td><td>0.05</td><td>24.3175</td><td>0.916247</td><td>19.0165</td><td>0.0409203</td><td>17.9158</td><td>0.0450421</td><td>18.3409</td><td>0.0528574</td><td>22.6847</td><td>0.925501</td><td>24.2804</td><td>1.5314</td><td>22.7574</td><td>0.127223</td><td>22.2327</td><td>0.110528</td><td>22.7351</td><td>0.224937</td><td>22.7222</td><td>1.92997</td><td>23.1643</td><td>0.404084</td><td>21.9362</td><td>0.0896608</td><td>21.4981</td><td>0.0734436</td><td>21.4531</td><td>0.141447</td><td>21.467</td><td>0.517093</td><td>1.0</td><td>0.0</td><td>0.0</td><td>0.0</td><td>1.0</td><td>-0.0532507</td><td>-1.25103</td><td>-0.113049</td><td>-0.0758591</td><td>-0.130883</td><td>-0.0579136</td><td>-0.20846</td><td>-0.0301847</td><td>0.540536</td><td>1.69621</td><td>0.0706215</td><td>0.0297191</td><td>134.353</td><td>0.399931</td><td>9.78309</td><td>176.6</td><td>0.349994</td><td>14.0846</td><td>177.376</td><td>0.501224</td><td>10.2318</td><td>179.48</td><td>0.0925673</td><td>0.401306</td><td>63.7331</td><td>22.3106</td><td>0.106028</td><td>17.9158</td><td>0.0450421</td><td>3.94331</td><td>5.56299</td><td>19.1287</td><td>25.6549765153</td><td>24.1034603934</td><td>9999.0</td><td>9999.0</td><td>9999.0</td><td>9999.0</td><td>9999.0</td><td>9999.0</td><td>0.00867935</td><td>-1.0</td><td>0</td><td>-9999.0</td><td>-9999.0</td><td>-1.0</td><td>-1.0</td><td>-1.0</td><td>-1.0</td><td>354.131</td><td>0.297265</td><td>34.7674</td><td>2556.76</td><td>-23.4058610709</td><td>61945</td><td>0</td><td>AnaK</td><td>59.8429010124</td><td>605.186227821</td><td>151978</td><td>2</td><td>0.30896555248</td><td>-1.0</td><td>-1</td><td>NSA</td><td>ned</td><td>4</td><td></td><td>1.23767861742e+18</td><td>NSA</td><td>0.0867554</td><td>21.467</td><td>59.8429010124</td><td>21.4981</td><td>23.1643</td><td>0.157748</td><td>21.4531</td><td>0.0615107</td><td>0.114412</td><td>1.20743944443</td><td>0.214393</td><td>21.9362</td><td>3</td><td>353.722358394</td><td>1237678617415057818</td><td>22.2327</td><td>24.2804</td><td>22.7222</td><td>605.186227821</td><td>GALAXY</td><td>22.7574</td><td>22.7351</td><td>17.8304</td><td>18.0491</td><td>17.5226</td><td>17.2428</td><td>16.7385</td><td>23.3907</td><td>23.1406</td><td>22.445</td><td>22.1926</td><td>22.3332</td></tr>\n",
       "</table>"
      ],
      "text/plain": [
       "<Row index=50268>\n",
       "       OBJID              RA           DEC      PHOTPTYPE PHOT_SG      FLAGS      clean SATURATED BAD_COUNTS_ERROR  BINNED1  TOO_FEW_GOOD_DETECTIONS    u       g       r       i       z      u_err    g_err     r_err    i_err    z_err  MODELMAGERR_U MODELMAGERR_G MODELMAGERR_R MODELMAGERR_I MODELMAGERR_Z EXTINCTION_U EXTINCTION_G EXTINCTION_R EXTINCTION_I EXTINCTION_Z DERED_U DERED_G DERED_R DERED_I DERED_Z PETRORAD_U PETRORAD_G PETRORAD_R PETRORAD_I PETRORAD_Z PETRORADERR_U PETRORADERR_G PETRORADERR_R PETRORADERR_I PETRORADERR_Z  DEVRAD_U  DEVRADERR_U DEVRAD_G DEVRADERR_G DEVRAD_R DEVRADERR_R DEVRAD_I DEVRADERR_I DEVRAD_Z DEVRADERR_Z DEVAB_U DEVAB_G  DEVAB_R DEVAB_I  DEVAB_Z CMODELMAG_U CMODELMAGERR_U CMODELMAG_G CMODELMAGERR_G CMODELMAG_R CMODELMAGERR_R CMODELMAG_I CMODELMAGERR_I CMODELMAG_Z CMODELMAGERR_Z PSFMAG_U PSFMAGERR_U PSFMAG_G PSFMAGERR_G PSFMAG_R PSFMAGERR_R PSFMAG_I PSFMAGERR_I PSFMAG_Z PSFMAGERR_Z FIBERMAG_U FIBERMAGERR_U FIBERMAG_G FIBERMAGERR_G FIBERMAG_R FIBERMAGERR_R FIBERMAG_I FIBERMAGERR_I FIBERMAG_Z FIBERMAGERR_Z FRACDEV_U FRACDEV_G FRACDEV_R FRACDEV_I FRACDEV_Z    Q_U       U_U       Q_G       U_G        Q_R       U_R       Q_I       U_I       Q_Z      U_Z    EXPAB_U   EXPRAD_U EXPPHI_U EXPAB_G  EXPRAD_G EXPPHI_G EXPAB_R  EXPRAD_R EXPPHI_R EXPAB_I  EXPRAD_I EXPPHI_I  EXPAB_Z  EXPRAD_Z EXPPHI_Z FIBER2MAG_R FIBER2MAGERR_R EXPMAG_R EXPMAGERR_R PETROR50_R PETROR90_R PETROMAG_R    SB_EXP_R     SB_PETRO_R     J      JERR     H      HERR     K      KERR    SPEC_Z   SPEC_Z_ERR SPEC_Z_WARN  PHOTOZ PHOTOZ_ERR    W1    W1ERR     W2    W2ERR  HOST_RA HOST_DEC HOST_DIST HOST_VHOST    HOST_MK     HOST_NSAID HOST_FLAG HOST_SAGA_NAME   RHOST_ARCM    RHOST_KPC   OBJ_NSAID  SATS PROBABILITY_CLASS1 RESCALED_PROBABILITY_CLASS1 REMOVE TELNAME MASKNAME ZQUALITY SPEC_CLASS     SPECOBJID     SPEC_REPEAT     Ai    fibermag_z     rhost     fibermag_r fibermag_u    Ag    fibermag_i     Az       Ar         dec         Au    fibermag_g  type       ra             objID         psf_r   psf_u   psf_z    rhost_kpc   phot_sg  psf_g   psf_i     U       B       V       R       I     psf_U   psf_B   psf_V   psf_R   psf_I \n",
       "       int64           float64       float64      int16    str40       int64      int32   int64        int64         int64            int64          float32 float32 float32 float32 float32  float32  float32   float32  float32  float32    float32       float32       float32       float32       float32      float32      float32      float32      float32      float32    float32 float32 float32 float32 float32  float32    float32    float32    float32    float32      float32       float32       float32       float32       float32     float32     float32   float32    float32   float32    float32   float32    float32   float32    float32   float32 float32  float32 float32  float32   float32      float32       float32      float32       float32      float32       float32      float32       float32      float32     float32    float32   float32    float32   float32    float32   float32    float32   float32    float32    float32      float32     float32      float32     float32      float32     float32      float32     float32      float32     float32   float32   float32   float32   float32   float32   float32   float32   float32    float32   float32   float32   float32   float32  float32  float32   float32  float32  float32  float32  float32  float32  float32  float32  float32  float32  float32   float32  float32  float32    float32      float32     float32    float32    float32    float32    float32      float64       float64    float32 float32 float32 float32 float32 float32  float32    float32      int32    float32  float32   float64 float64 float64 float64 float64 float64   float64   float64      float64       int64      int64       str48         float64       float64      int64   int64      float64                 float64           int64    str6   str48    int64      str2          str48          str48     float32   float32      float64     float32    float32   float32   float32    float32  float32     float64    float32   float32   int16    float64           int64        float32 float32 float32    float64     str40  float32 float32 float32 float32 float32 float32 float32 float32 float32 float32 float32 float32\n",
       "------------------- ------------- ------------- --------- ------- --------------- ----- --------- ---------------- --------- ----------------------- ------- ------- ------- ------- ------- --------- -------- --------- -------- ------- ------------- ------------- ------------- ------------- ------------- ------------ ------------ ------------ ------------ ------------ ------- ------- ------- ------- ------- ---------- ---------- ---------- ---------- ---------- ------------- ------------- ------------- ------------- ------------- ---------- ----------- -------- ----------- -------- ----------- -------- ----------- -------- ----------- ------- -------- ------- -------- ------- ----------- -------------- ----------- -------------- ----------- -------------- ----------- -------------- ----------- -------------- -------- ----------- -------- ----------- -------- ----------- -------- ----------- -------- ----------- ---------- ------------- ---------- ------------- ---------- ------------- ---------- ------------- ---------- ------------- --------- --------- --------- --------- --------- ---------- -------- --------- ---------- --------- ---------- -------- ---------- -------- ------- --------- --------- -------- -------- -------- -------- -------- -------- -------- -------- -------- -------- --------- -------- -------- ----------- -------------- -------- ----------- ---------- ---------- ---------- ------------- ------------- ------- ------- ------- ------- ------- ------- ---------- ---------- ----------- ------- ---------- ------- ------- ------- ------- ------- -------- --------- ---------- -------------- ---------- --------- -------------- ------------- ------------- --------- ----- ------------------ --------------------------- ------ ------- -------- -------- ---------- ----------------- ----------- --------- ---------- ------------- ---------- ---------- -------- ---------- --------- -------- ------------- -------- ---------- ----- ------------- ------------------- ------- ------- ------- ------------- ------- ------- ------- ------- ------- ------- ------- ------- ------- ------- ------- ------- -------\n",
       "1237678617415057818 353.722358394 1.20743944443         3  GALAXY 527836716863832     0         0                0 268435456         281474976710656 18.5441 17.7262 17.3942 17.1693 17.0818 0.0873779 0.015557 0.0148281 0.173015 0.07175       1.69419     0.0427615     0.0450421     0.0537679       3.29137     0.214393     0.157748     0.114412    0.0867554    0.0615107 21.8159 18.6013 17.8014 18.1071 21.2929    2.96903    2.96955    2.96966    43.7679    2.96952       -1000.0       -1000.0       -1000.0       -1000.0       -1000.0 0.00313231     87.5777  29.6674     1.46031  29.6659     3.04372  29.6662     5.41823  0.58994     24.4675 0.06871 0.367598 0.33842 0.604001    0.05     24.3175       0.916247     19.0165      0.0409203     17.9158      0.0450421     18.3409      0.0528574     22.6847       0.925501  24.2804      1.5314  22.7574    0.127223  22.2327    0.110528  22.7351    0.224937  22.7222     1.92997    23.1643      0.404084    21.9362     0.0896608    21.4981     0.0734436    21.4531      0.141447     21.467      0.517093       1.0       0.0       0.0       0.0       1.0 -0.0532507 -1.25103 -0.113049 -0.0758591 -0.130883 -0.0579136 -0.20846 -0.0301847 0.540536 1.69621 0.0706215 0.0297191  134.353 0.399931  9.78309    176.6 0.349994  14.0846  177.376 0.501224  10.2318   179.48 0.0925673 0.401306  63.7331     22.3106       0.106028  17.9158   0.0450421    3.94331    5.56299    19.1287 25.6549765153 24.1034603934  9999.0  9999.0  9999.0  9999.0  9999.0  9999.0 0.00867935       -1.0           0 -9999.0    -9999.0    -1.0    -1.0    -1.0    -1.0 354.131 0.297265   34.7674    2556.76 -23.4058610709      61945         0           AnaK 59.8429010124 605.186227821    151978     2      0.30896555248                        -1.0     -1     NSA      ned        4            1.23767861742e+18         NSA 0.0867554     21.467 59.8429010124    21.4981    23.1643 0.157748    21.4531 0.0615107 0.114412 1.20743944443 0.214393    21.9362     3 353.722358394 1237678617415057818 22.2327 24.2804 22.7222 605.186227821  GALAXY 22.7574 22.7351 17.8304 18.0491 17.5226 17.2428 16.7385 23.3907 23.1406  22.445 22.1926 22.3332"
      ]
     },
     "execution_count": 500,
     "metadata": {},
     "output_type": "execute_result"
    }
   ],
   "source": [
    "possible_anak_sat = SkyCoord(353.7229, 1.2064, unit=u.deg)\n",
    "\n",
    "spectrascs = SkyCoord(spectra['ra'], spectra['dec'], unit=u.deg)\n",
    "row = spectra[np.argsort(possible_anak_sat.separation(spectrascs))[0]]\n",
    "special_objids.append(row['OBJID'])\n",
    "row"
   ]
  },
  {
   "cell_type": "markdown",
   "metadata": {},
   "source": [
    "The above object was put as SAT==2, but is at very close z to AnaK...? r~=17.6 in DECALS.  Marla says this is because it's too far from the host, so not worth special-izing"
   ]
  },
  {
   "cell_type": "code",
   "execution_count": 501,
   "metadata": {
    "collapsed": false
   },
   "outputs": [],
   "source": [
    "del special_objids[special_objids.index(row['OBJID'])]"
   ]
  },
  {
   "cell_type": "markdown",
   "metadata": {},
   "source": [
    "Risa suggests: http://legacysurvey.org/viewer?ra=354.2826&dec=0.2110&zoom=15&layer=decals-dr2"
   ]
  },
  {
   "cell_type": "code",
   "execution_count": 502,
   "metadata": {
    "collapsed": false
   },
   "outputs": [
    {
     "name": "stdout",
     "output_type": "stream",
     "text": [
      "6.36556073878\n"
     ]
    },
    {
     "data": {
      "text/html": [
       "&lt;Row index=4083&gt;\n",
       "<table id=\"table5252066640\">\n",
       "<thead><tr><th>OBJID</th><th>RA</th><th>DEC</th><th>PHOTPTYPE</th><th>PHOT_SG</th><th>FLAGS</th><th>clean</th><th>SATURATED</th><th>BAD_COUNTS_ERROR</th><th>BINNED1</th><th>TOO_FEW_GOOD_DETECTIONS</th><th>u</th><th>g</th><th>r</th><th>i</th><th>z</th><th>u_err</th><th>g_err</th><th>r_err</th><th>i_err</th><th>z_err</th><th>MODELMAGERR_U</th><th>MODELMAGERR_G</th><th>MODELMAGERR_R</th><th>MODELMAGERR_I</th><th>MODELMAGERR_Z</th><th>EXTINCTION_U</th><th>EXTINCTION_G</th><th>EXTINCTION_R</th><th>EXTINCTION_I</th><th>EXTINCTION_Z</th><th>DERED_U</th><th>DERED_G</th><th>DERED_R</th><th>DERED_I</th><th>DERED_Z</th><th>PETRORAD_U</th><th>PETRORAD_G</th><th>PETRORAD_R</th><th>PETRORAD_I</th><th>PETRORAD_Z</th><th>PETRORADERR_U</th><th>PETRORADERR_G</th><th>PETRORADERR_R</th><th>PETRORADERR_I</th><th>PETRORADERR_Z</th><th>DEVRAD_U</th><th>DEVRADERR_U</th><th>DEVRAD_G</th><th>DEVRADERR_G</th><th>DEVRAD_R</th><th>DEVRADERR_R</th><th>DEVRAD_I</th><th>DEVRADERR_I</th><th>DEVRAD_Z</th><th>DEVRADERR_Z</th><th>DEVAB_U</th><th>DEVAB_G</th><th>DEVAB_R</th><th>DEVAB_I</th><th>DEVAB_Z</th><th>CMODELMAG_U</th><th>CMODELMAGERR_U</th><th>CMODELMAG_G</th><th>CMODELMAGERR_G</th><th>CMODELMAG_R</th><th>CMODELMAGERR_R</th><th>CMODELMAG_I</th><th>CMODELMAGERR_I</th><th>CMODELMAG_Z</th><th>CMODELMAGERR_Z</th><th>PSFMAG_U</th><th>PSFMAGERR_U</th><th>PSFMAG_G</th><th>PSFMAGERR_G</th><th>PSFMAG_R</th><th>PSFMAGERR_R</th><th>PSFMAG_I</th><th>PSFMAGERR_I</th><th>PSFMAG_Z</th><th>PSFMAGERR_Z</th><th>FIBERMAG_U</th><th>FIBERMAGERR_U</th><th>FIBERMAG_G</th><th>FIBERMAGERR_G</th><th>FIBERMAG_R</th><th>FIBERMAGERR_R</th><th>FIBERMAG_I</th><th>FIBERMAGERR_I</th><th>FIBERMAG_Z</th><th>FIBERMAGERR_Z</th><th>FRACDEV_U</th><th>FRACDEV_G</th><th>FRACDEV_R</th><th>FRACDEV_I</th><th>FRACDEV_Z</th><th>Q_U</th><th>U_U</th><th>Q_G</th><th>U_G</th><th>Q_R</th><th>U_R</th><th>Q_I</th><th>U_I</th><th>Q_Z</th><th>U_Z</th><th>EXPAB_U</th><th>EXPRAD_U</th><th>EXPPHI_U</th><th>EXPAB_G</th><th>EXPRAD_G</th><th>EXPPHI_G</th><th>EXPAB_R</th><th>EXPRAD_R</th><th>EXPPHI_R</th><th>EXPAB_I</th><th>EXPRAD_I</th><th>EXPPHI_I</th><th>EXPAB_Z</th><th>EXPRAD_Z</th><th>EXPPHI_Z</th><th>FIBER2MAG_R</th><th>FIBER2MAGERR_R</th><th>EXPMAG_R</th><th>EXPMAGERR_R</th><th>PETROR50_R</th><th>PETROR90_R</th><th>PETROMAG_R</th><th>SB_EXP_R</th><th>SB_PETRO_R</th><th>J</th><th>JERR</th><th>H</th><th>HERR</th><th>K</th><th>KERR</th><th>SPEC_Z</th><th>SPEC_Z_ERR</th><th>SPEC_Z_WARN</th><th>PHOTOZ</th><th>PHOTOZ_ERR</th><th>W1</th><th>W1ERR</th><th>W2</th><th>W2ERR</th><th>HOST_RA</th><th>HOST_DEC</th><th>HOST_DIST</th><th>HOST_VHOST</th><th>HOST_MK</th><th>HOST_NSAID</th><th>HOST_FLAG</th><th>HOST_SAGA_NAME</th><th>RHOST_ARCM</th><th>RHOST_KPC</th><th>OBJ_NSAID</th><th>SATS</th><th>PROBABILITY_CLASS1</th><th>RESCALED_PROBABILITY_CLASS1</th><th>REMOVE</th><th>TELNAME</th><th>MASKNAME</th><th>ZQUALITY</th><th>SPEC_CLASS</th><th>SPECOBJID</th><th>SPEC_REPEAT</th><th>Ai</th><th>fibermag_z</th><th>rhost</th><th>fibermag_r</th><th>fibermag_u</th><th>Ag</th><th>fibermag_i</th><th>Az</th><th>Ar</th><th>dec</th><th>Au</th><th>fibermag_g</th><th>type</th><th>ra</th><th>objID</th><th>psf_r</th><th>psf_u</th><th>psf_z</th><th>rhost_kpc</th><th>phot_sg</th><th>psf_g</th><th>psf_i</th><th>U</th><th>B</th><th>V</th><th>R</th><th>I</th><th>psf_U</th><th>psf_B</th><th>psf_V</th><th>psf_R</th><th>psf_I</th><th>aat_pris</th></tr></thead>\n",
       "<thead><tr><th>int64</th><th>float64</th><th>float64</th><th>int16</th><th>str40</th><th>int64</th><th>int32</th><th>int64</th><th>int64</th><th>int64</th><th>int64</th><th>float32</th><th>float32</th><th>float32</th><th>float32</th><th>float32</th><th>float32</th><th>float32</th><th>float32</th><th>float32</th><th>float32</th><th>float32</th><th>float32</th><th>float32</th><th>float32</th><th>float32</th><th>float32</th><th>float32</th><th>float32</th><th>float32</th><th>float32</th><th>float32</th><th>float32</th><th>float32</th><th>float32</th><th>float32</th><th>float32</th><th>float32</th><th>float32</th><th>float32</th><th>float32</th><th>float32</th><th>float32</th><th>float32</th><th>float32</th><th>float32</th><th>float32</th><th>float32</th><th>float32</th><th>float32</th><th>float32</th><th>float32</th><th>float32</th><th>float32</th><th>float32</th><th>float32</th><th>float32</th><th>float32</th><th>float32</th><th>float32</th><th>float32</th><th>float32</th><th>float32</th><th>float32</th><th>float32</th><th>float32</th><th>float32</th><th>float32</th><th>float32</th><th>float32</th><th>float32</th><th>float32</th><th>float32</th><th>float32</th><th>float32</th><th>float32</th><th>float32</th><th>float32</th><th>float32</th><th>float32</th><th>float32</th><th>float32</th><th>float32</th><th>float32</th><th>float32</th><th>float32</th><th>float32</th><th>float32</th><th>float32</th><th>float32</th><th>float32</th><th>float32</th><th>float32</th><th>float32</th><th>float32</th><th>float32</th><th>float32</th><th>float32</th><th>float32</th><th>float32</th><th>float32</th><th>float32</th><th>float32</th><th>float32</th><th>float32</th><th>float32</th><th>float32</th><th>float32</th><th>float32</th><th>float32</th><th>float32</th><th>float32</th><th>float32</th><th>float32</th><th>float32</th><th>float32</th><th>float32</th><th>float32</th><th>float32</th><th>float32</th><th>float32</th><th>float32</th><th>float32</th><th>float32</th><th>float32</th><th>float32</th><th>float32</th><th>float32</th><th>float64</th><th>float64</th><th>float32</th><th>float32</th><th>float32</th><th>float32</th><th>float32</th><th>float32</th><th>float32</th><th>float32</th><th>int32</th><th>float32</th><th>float32</th><th>float64</th><th>float64</th><th>float64</th><th>float64</th><th>float64</th><th>float64</th><th>float64</th><th>float64</th><th>float64</th><th>int64</th><th>int64</th><th>str48</th><th>float64</th><th>float64</th><th>int64</th><th>int64</th><th>float64</th><th>float64</th><th>int64</th><th>str6</th><th>str48</th><th>int64</th><th>str2</th><th>str48</th><th>str48</th><th>float32</th><th>float32</th><th>float64</th><th>float32</th><th>float32</th><th>float32</th><th>float32</th><th>float32</th><th>float32</th><th>float64</th><th>float32</th><th>float32</th><th>int16</th><th>float64</th><th>int64</th><th>float32</th><th>float32</th><th>float32</th><th>float64</th><th>str40</th><th>float32</th><th>float32</th><th>float32</th><th>float32</th><th>float32</th><th>float32</th><th>float32</th><th>float32</th><th>float32</th><th>float32</th><th>float32</th><th>float32</th><th>float64</th></tr></thead>\n",
       "<tr><td>1237666408439939193</td><td>354.284252577</td><td>0.211270415962</td><td>6</td><td>STAR</td><td>316728370401552</td><td>0</td><td>0</td><td>0</td><td>268435456</td><td>281474976710656</td><td>24.2868</td><td>24.4282</td><td>23.8889</td><td>22.5864</td><td>22.3397</td><td>0.966218</td><td>0.447169</td><td>0.443899</td><td>0.205475</td><td>0.545119</td><td>0.966218</td><td>0.447169</td><td>0.443899</td><td>0.205475</td><td>0.545119</td><td>0.201461</td><td>0.148233</td><td>0.107511</td><td>0.0815222</td><td>0.0578003</td><td>24.0853</td><td>24.28</td><td>23.7814</td><td>22.5049</td><td>22.2819</td><td>2.96947</td><td>2.96927</td><td>2.97001</td><td>1.0737</td><td>0.440398</td><td>-1000.0</td><td>-1000.0</td><td>-1000.0</td><td>0.472712</td><td>0.342805</td><td>0.195885</td><td>41.9064</td><td>0.761802</td><td>6.5532</td><td>1.14253</td><td>17.5726</td><td>0.0121072</td><td>17.451</td><td>0.29386</td><td>17.0796</td><td>0.0985066</td><td>0.05</td><td>0.05</td><td>0.05</td><td>0.05</td><td>24.2734</td><td>6.48105</td><td>24.1375</td><td>1.02054</td><td>23.4518</td><td>2.60718</td><td>22.586</td><td>0.675201</td><td>22.2495</td><td>2.42571</td><td>24.1514</td><td>0.826602</td><td>24.4045</td><td>0.459931</td><td>23.9344</td><td>0.522566</td><td>22.5727</td><td>0.210969</td><td>22.2839</td><td>0.522833</td><td>23.0176</td><td>0.980651</td><td>23.0083</td><td>0.216172</td><td>22.2162</td><td>0.156042</td><td>21.8351</td><td>0.182981</td><td>21.5898</td><td>0.533617</td><td>0.0</td><td>1.0</td><td>0.0</td><td>1.0</td><td>1.0</td><td>0.460437</td><td>-0.413676</td><td>-0.302921</td><td>0.0341488</td><td>0.431855</td><td>-0.0528869</td><td>0.163143</td><td>0.00108056</td><td>1.21332</td><td>0.84126</td><td>0.23535</td><td>0.203513</td><td>167.011</td><td>0.05</td><td>0.733851</td><td>67.5986</td><td>0.05</td><td>0.900059</td><td>20.3572</td><td>0.200277</td><td>0.0175057</td><td>165.593</td><td>0.0687622</td><td>0.379095</td><td>36.1123</td><td>23.0991</td><td>0.296287</td><td>23.4518</td><td>2.60718</td><td>0.678246</td><td>1.20568</td><td>23.764</td><td>25.2186323879</td><td>24.9164308968</td><td>9999.0</td><td>9999.0</td><td>9999.0</td><td>9999.0</td><td>9999.0</td><td>9999.0</td><td>-1.0</td><td>-1.0</td><td>-1</td><td>-1.0</td><td>-1.0</td><td>-1.0</td><td>-1.0</td><td>-1.0</td><td>-1.0</td><td>354.131</td><td>0.297265</td><td>34.7674</td><td>2556.76</td><td>-23.4058610709</td><td>61945</td><td>0</td><td>AnaK</td><td>10.5437865</td><td>106.63364479</td><td>-1</td><td>-1</td><td>-1.0</td><td>-1.0</td><td>-1</td><td></td><td></td><td>-1</td><td></td><td></td><td></td><td>0.0815222</td><td>21.5898</td><td>10.5437865</td><td>22.2162</td><td>23.0176</td><td>0.148233</td><td>21.8351</td><td>0.0578003</td><td>0.107511</td><td>0.211270415962</td><td>0.201461</td><td>23.0083</td><td>6</td><td>354.284252577</td><td>1237666408439939193</td><td>23.9344</td><td>24.1514</td><td>22.2839</td><td>106.63364479</td><td>STAR</td><td>24.4045</td><td>22.5727</td><td>24.2084</td><td>24.8161</td><td>24.1075</td><td>23.5726</td><td>22.0942</td><td>24.0681</td><td>24.7706</td><td>24.1229</td><td>23.6091</td><td>22.0642</td><td>0.0</td></tr>\n",
       "</table>"
      ],
      "text/plain": [
       "<Row index=4083>\n",
       "       OBJID              RA           DEC       PHOTPTYPE PHOT_SG      FLAGS      clean SATURATED BAD_COUNTS_ERROR  BINNED1  TOO_FEW_GOOD_DETECTIONS    u       g       r       i       z     u_err    g_err    r_err    i_err    z_err   MODELMAGERR_U MODELMAGERR_G MODELMAGERR_R MODELMAGERR_I MODELMAGERR_Z EXTINCTION_U EXTINCTION_G EXTINCTION_R EXTINCTION_I EXTINCTION_Z DERED_U DERED_G DERED_R DERED_I DERED_Z PETRORAD_U PETRORAD_G PETRORAD_R PETRORAD_I PETRORAD_Z PETRORADERR_U PETRORADERR_G PETRORADERR_R PETRORADERR_I PETRORADERR_Z DEVRAD_U DEVRADERR_U DEVRAD_G DEVRADERR_G DEVRAD_R DEVRADERR_R  DEVRAD_I DEVRADERR_I DEVRAD_Z DEVRADERR_Z  DEVAB_U  DEVAB_G DEVAB_R DEVAB_I DEVAB_Z CMODELMAG_U CMODELMAGERR_U CMODELMAG_G CMODELMAGERR_G CMODELMAG_R CMODELMAGERR_R CMODELMAG_I CMODELMAGERR_I CMODELMAG_Z CMODELMAGERR_Z PSFMAG_U PSFMAGERR_U PSFMAG_G PSFMAGERR_G PSFMAG_R PSFMAGERR_R PSFMAG_I PSFMAGERR_I PSFMAG_Z PSFMAGERR_Z FIBERMAG_U FIBERMAGERR_U FIBERMAG_G FIBERMAGERR_G FIBERMAG_R FIBERMAGERR_R FIBERMAG_I FIBERMAGERR_I FIBERMAG_Z FIBERMAGERR_Z FRACDEV_U FRACDEV_G FRACDEV_R FRACDEV_I FRACDEV_Z   Q_U       U_U       Q_G       U_G      Q_R       U_R       Q_I       U_I       Q_Z     U_Z   EXPAB_U EXPRAD_U EXPPHI_U EXPAB_G EXPRAD_G EXPPHI_G EXPAB_R EXPRAD_R EXPPHI_R EXPAB_I   EXPRAD_I EXPPHI_I  EXPAB_Z  EXPRAD_Z EXPPHI_Z FIBER2MAG_R FIBER2MAGERR_R EXPMAG_R EXPMAGERR_R PETROR50_R PETROR90_R PETROMAG_R    SB_EXP_R     SB_PETRO_R     J      JERR     H      HERR     K      KERR   SPEC_Z SPEC_Z_ERR SPEC_Z_WARN  PHOTOZ PHOTOZ_ERR    W1    W1ERR     W2    W2ERR  HOST_RA HOST_DEC HOST_DIST HOST_VHOST    HOST_MK     HOST_NSAID HOST_FLAG HOST_SAGA_NAME RHOST_ARCM  RHOST_KPC   OBJ_NSAID  SATS PROBABILITY_CLASS1 RESCALED_PROBABILITY_CLASS1 REMOVE TELNAME MASKNAME ZQUALITY SPEC_CLASS SPECOBJID SPEC_REPEAT     Ai    fibermag_z   rhost    fibermag_r fibermag_u    Ag    fibermag_i     Az       Ar         dec          Au    fibermag_g  type       ra             objID         psf_r   psf_u   psf_z   rhost_kpc   phot_sg  psf_g   psf_i     U       B       V       R       I     psf_U   psf_B   psf_V   psf_R   psf_I  aat_pris\n",
       "       int64           float64       float64       int16    str40       int64      int32   int64        int64         int64            int64          float32 float32 float32 float32 float32 float32  float32  float32  float32  float32     float32       float32       float32       float32       float32      float32      float32      float32      float32      float32    float32 float32 float32 float32 float32  float32    float32    float32    float32    float32      float32       float32       float32       float32       float32    float32    float32   float32    float32   float32    float32    float32    float32   float32    float32    float32  float32 float32 float32 float32   float32      float32       float32      float32       float32      float32       float32      float32       float32      float32     float32    float32   float32    float32   float32    float32   float32    float32   float32    float32    float32      float32     float32      float32     float32      float32     float32      float32     float32      float32     float32   float32   float32   float32   float32  float32   float32   float32   float32  float32   float32   float32   float32   float32 float32 float32 float32  float32  float32 float32  float32  float32 float32  float32  float32   float32  float32   float32  float32  float32    float32      float32     float32    float32    float32    float32    float32      float64       float64    float32 float32 float32 float32 float32 float32 float32  float32      int32    float32  float32   float64 float64 float64 float64 float64 float64   float64   float64      float64       int64      int64       str48       float64     float64      int64   int64      float64                 float64           int64    str6   str48    int64      str2      str48      str48     float32   float32    float64    float32    float32   float32   float32    float32  float32     float64     float32   float32   int16    float64           int64        float32 float32 float32   float64     str40  float32 float32 float32 float32 float32 float32 float32 float32 float32 float32 float32 float32 float64 \n",
       "------------------- ------------- -------------- --------- ------- --------------- ----- --------- ---------------- --------- ----------------------- ------- ------- ------- ------- ------- -------- -------- -------- -------- -------- ------------- ------------- ------------- ------------- ------------- ------------ ------------ ------------ ------------ ------------ ------- ------- ------- ------- ------- ---------- ---------- ---------- ---------- ---------- ------------- ------------- ------------- ------------- ------------- -------- ----------- -------- ----------- -------- ----------- --------- ----------- -------- ----------- --------- ------- ------- ------- ------- ----------- -------------- ----------- -------------- ----------- -------------- ----------- -------------- ----------- -------------- -------- ----------- -------- ----------- -------- ----------- -------- ----------- -------- ----------- ---------- ------------- ---------- ------------- ---------- ------------- ---------- ------------- ---------- ------------- --------- --------- --------- --------- --------- -------- --------- --------- --------- -------- ---------- -------- ---------- ------- ------- ------- -------- -------- ------- -------- -------- ------- -------- -------- -------- --------- -------- --------- -------- -------- ----------- -------------- -------- ----------- ---------- ---------- ---------- ------------- ------------- ------- ------- ------- ------- ------- ------- ------- ---------- ----------- ------- ---------- ------- ------- ------- ------- ------- -------- --------- ---------- -------------- ---------- --------- -------------- ---------- ------------ --------- ----- ------------------ --------------------------- ------ ------- -------- -------- ---------- --------- ----------- --------- ---------- ---------- ---------- ---------- -------- ---------- --------- -------- -------------- -------- ---------- ----- ------------- ------------------- ------- ------- ------- ------------ ------- ------- ------- ------- ------- ------- ------- ------- ------- ------- ------- ------- ------- --------\n",
       "1237666408439939193 354.284252577 0.211270415962         6    STAR 316728370401552     0         0                0 268435456         281474976710656 24.2868 24.4282 23.8889 22.5864 22.3397 0.966218 0.447169 0.443899 0.205475 0.545119      0.966218      0.447169      0.443899      0.205475      0.545119     0.201461     0.148233     0.107511    0.0815222    0.0578003 24.0853   24.28 23.7814 22.5049 22.2819    2.96947    2.96927    2.97001     1.0737   0.440398       -1000.0       -1000.0       -1000.0      0.472712      0.342805 0.195885     41.9064 0.761802      6.5532  1.14253     17.5726 0.0121072      17.451  0.29386     17.0796 0.0985066    0.05    0.05    0.05    0.05     24.2734        6.48105     24.1375        1.02054     23.4518        2.60718      22.586       0.675201     22.2495        2.42571  24.1514    0.826602  24.4045    0.459931  23.9344    0.522566  22.5727    0.210969  22.2839    0.522833    23.0176      0.980651    23.0083      0.216172    22.2162      0.156042    21.8351      0.182981    21.5898      0.533617       0.0       1.0       0.0       1.0       1.0 0.460437 -0.413676 -0.302921 0.0341488 0.431855 -0.0528869 0.163143 0.00108056 1.21332 0.84126 0.23535 0.203513  167.011    0.05 0.733851  67.5986    0.05 0.900059  20.3572 0.200277 0.0175057  165.593 0.0687622 0.379095  36.1123     23.0991       0.296287  23.4518     2.60718   0.678246    1.20568     23.764 25.2186323879 24.9164308968  9999.0  9999.0  9999.0  9999.0  9999.0  9999.0    -1.0       -1.0          -1    -1.0       -1.0    -1.0    -1.0    -1.0    -1.0 354.131 0.297265   34.7674    2556.76 -23.4058610709      61945         0           AnaK 10.5437865 106.63364479        -1    -1               -1.0                        -1.0     -1                        -1                                  0.0815222    21.5898 10.5437865    22.2162    23.0176 0.148233    21.8351 0.0578003 0.107511 0.211270415962 0.201461    23.0083     6 354.284252577 1237666408439939193 23.9344 24.1514 22.2839 106.63364479    STAR 24.4045 22.5727 24.2084 24.8161 24.1075 23.5726 22.0942 24.0681 24.7706 24.1229 23.6091 22.0642      0.0"
      ]
     },
     "execution_count": 502,
     "metadata": {},
     "output_type": "execute_result"
    }
   ],
   "source": [
    "possible_anak_sat = SkyCoord(354.286, 0.211, unit=u.deg)\n",
    "\n",
    "anakcat = hsd['AnaK'].get_sdss_catalog()\n",
    "anakscs = SkyCoord(anakcat['ra'], anakcat['dec'], unit=u.deg)\n",
    "seps = possible_anak_sat.separation(anakscs)\n",
    "closest = np.argsort(seps)[0]\n",
    "print(seps[closest].arcsec)\n",
    "row = anakcat[closest]\n",
    "special_objids.append(row['OBJID'])\n",
    "row"
   ]
  },
  {
   "cell_type": "markdown",
   "metadata": {},
   "source": [
    "This is not actually quite on the center-of-light in DECALS... but it might be an HII region?"
   ]
  },
  {
   "cell_type": "markdown",
   "metadata": {},
   "source": [
    "Marla wants:RA = 354.527/DEC = 0.533964"
   ]
  },
  {
   "cell_type": "code",
   "execution_count": 503,
   "metadata": {
    "collapsed": false
   },
   "outputs": [
    {
     "name": "stdout",
     "output_type": "stream",
     "text": [
      "0.911188006658\n"
     ]
    },
    {
     "data": {
      "text/html": [
       "&lt;Row index=19477&gt;\n",
       "<table id=\"table5252066640\">\n",
       "<thead><tr><th>OBJID</th><th>RA</th><th>DEC</th><th>PHOTPTYPE</th><th>PHOT_SG</th><th>FLAGS</th><th>clean</th><th>SATURATED</th><th>BAD_COUNTS_ERROR</th><th>BINNED1</th><th>TOO_FEW_GOOD_DETECTIONS</th><th>u</th><th>g</th><th>r</th><th>i</th><th>z</th><th>u_err</th><th>g_err</th><th>r_err</th><th>i_err</th><th>z_err</th><th>MODELMAGERR_U</th><th>MODELMAGERR_G</th><th>MODELMAGERR_R</th><th>MODELMAGERR_I</th><th>MODELMAGERR_Z</th><th>EXTINCTION_U</th><th>EXTINCTION_G</th><th>EXTINCTION_R</th><th>EXTINCTION_I</th><th>EXTINCTION_Z</th><th>DERED_U</th><th>DERED_G</th><th>DERED_R</th><th>DERED_I</th><th>DERED_Z</th><th>PETRORAD_U</th><th>PETRORAD_G</th><th>PETRORAD_R</th><th>PETRORAD_I</th><th>PETRORAD_Z</th><th>PETRORADERR_U</th><th>PETRORADERR_G</th><th>PETRORADERR_R</th><th>PETRORADERR_I</th><th>PETRORADERR_Z</th><th>DEVRAD_U</th><th>DEVRADERR_U</th><th>DEVRAD_G</th><th>DEVRADERR_G</th><th>DEVRAD_R</th><th>DEVRADERR_R</th><th>DEVRAD_I</th><th>DEVRADERR_I</th><th>DEVRAD_Z</th><th>DEVRADERR_Z</th><th>DEVAB_U</th><th>DEVAB_G</th><th>DEVAB_R</th><th>DEVAB_I</th><th>DEVAB_Z</th><th>CMODELMAG_U</th><th>CMODELMAGERR_U</th><th>CMODELMAG_G</th><th>CMODELMAGERR_G</th><th>CMODELMAG_R</th><th>CMODELMAGERR_R</th><th>CMODELMAG_I</th><th>CMODELMAGERR_I</th><th>CMODELMAG_Z</th><th>CMODELMAGERR_Z</th><th>PSFMAG_U</th><th>PSFMAGERR_U</th><th>PSFMAG_G</th><th>PSFMAGERR_G</th><th>PSFMAG_R</th><th>PSFMAGERR_R</th><th>PSFMAG_I</th><th>PSFMAGERR_I</th><th>PSFMAG_Z</th><th>PSFMAGERR_Z</th><th>FIBERMAG_U</th><th>FIBERMAGERR_U</th><th>FIBERMAG_G</th><th>FIBERMAGERR_G</th><th>FIBERMAG_R</th><th>FIBERMAGERR_R</th><th>FIBERMAG_I</th><th>FIBERMAGERR_I</th><th>FIBERMAG_Z</th><th>FIBERMAGERR_Z</th><th>FRACDEV_U</th><th>FRACDEV_G</th><th>FRACDEV_R</th><th>FRACDEV_I</th><th>FRACDEV_Z</th><th>Q_U</th><th>U_U</th><th>Q_G</th><th>U_G</th><th>Q_R</th><th>U_R</th><th>Q_I</th><th>U_I</th><th>Q_Z</th><th>U_Z</th><th>EXPAB_U</th><th>EXPRAD_U</th><th>EXPPHI_U</th><th>EXPAB_G</th><th>EXPRAD_G</th><th>EXPPHI_G</th><th>EXPAB_R</th><th>EXPRAD_R</th><th>EXPPHI_R</th><th>EXPAB_I</th><th>EXPRAD_I</th><th>EXPPHI_I</th><th>EXPAB_Z</th><th>EXPRAD_Z</th><th>EXPPHI_Z</th><th>FIBER2MAG_R</th><th>FIBER2MAGERR_R</th><th>EXPMAG_R</th><th>EXPMAGERR_R</th><th>PETROR50_R</th><th>PETROR90_R</th><th>PETROMAG_R</th><th>SB_EXP_R</th><th>SB_PETRO_R</th><th>J</th><th>JERR</th><th>H</th><th>HERR</th><th>K</th><th>KERR</th><th>SPEC_Z</th><th>SPEC_Z_ERR</th><th>SPEC_Z_WARN</th><th>PHOTOZ</th><th>PHOTOZ_ERR</th><th>W1</th><th>W1ERR</th><th>W2</th><th>W2ERR</th><th>HOST_RA</th><th>HOST_DEC</th><th>HOST_DIST</th><th>HOST_VHOST</th><th>HOST_MK</th><th>HOST_NSAID</th><th>HOST_FLAG</th><th>HOST_SAGA_NAME</th><th>RHOST_ARCM</th><th>RHOST_KPC</th><th>OBJ_NSAID</th><th>SATS</th><th>PROBABILITY_CLASS1</th><th>RESCALED_PROBABILITY_CLASS1</th><th>REMOVE</th><th>TELNAME</th><th>MASKNAME</th><th>ZQUALITY</th><th>SPEC_CLASS</th><th>SPECOBJID</th><th>SPEC_REPEAT</th><th>Ai</th><th>fibermag_z</th><th>rhost</th><th>fibermag_r</th><th>fibermag_u</th><th>Ag</th><th>fibermag_i</th><th>Az</th><th>Ar</th><th>dec</th><th>Au</th><th>fibermag_g</th><th>type</th><th>ra</th><th>objID</th><th>psf_r</th><th>psf_u</th><th>psf_z</th><th>rhost_kpc</th><th>phot_sg</th><th>psf_g</th><th>psf_i</th><th>U</th><th>B</th><th>V</th><th>R</th><th>I</th><th>psf_U</th><th>psf_B</th><th>psf_V</th><th>psf_R</th><th>psf_I</th><th>aat_pris</th></tr></thead>\n",
       "<thead><tr><th>int64</th><th>float64</th><th>float64</th><th>int16</th><th>str40</th><th>int64</th><th>int32</th><th>int64</th><th>int64</th><th>int64</th><th>int64</th><th>float32</th><th>float32</th><th>float32</th><th>float32</th><th>float32</th><th>float32</th><th>float32</th><th>float32</th><th>float32</th><th>float32</th><th>float32</th><th>float32</th><th>float32</th><th>float32</th><th>float32</th><th>float32</th><th>float32</th><th>float32</th><th>float32</th><th>float32</th><th>float32</th><th>float32</th><th>float32</th><th>float32</th><th>float32</th><th>float32</th><th>float32</th><th>float32</th><th>float32</th><th>float32</th><th>float32</th><th>float32</th><th>float32</th><th>float32</th><th>float32</th><th>float32</th><th>float32</th><th>float32</th><th>float32</th><th>float32</th><th>float32</th><th>float32</th><th>float32</th><th>float32</th><th>float32</th><th>float32</th><th>float32</th><th>float32</th><th>float32</th><th>float32</th><th>float32</th><th>float32</th><th>float32</th><th>float32</th><th>float32</th><th>float32</th><th>float32</th><th>float32</th><th>float32</th><th>float32</th><th>float32</th><th>float32</th><th>float32</th><th>float32</th><th>float32</th><th>float32</th><th>float32</th><th>float32</th><th>float32</th><th>float32</th><th>float32</th><th>float32</th><th>float32</th><th>float32</th><th>float32</th><th>float32</th><th>float32</th><th>float32</th><th>float32</th><th>float32</th><th>float32</th><th>float32</th><th>float32</th><th>float32</th><th>float32</th><th>float32</th><th>float32</th><th>float32</th><th>float32</th><th>float32</th><th>float32</th><th>float32</th><th>float32</th><th>float32</th><th>float32</th><th>float32</th><th>float32</th><th>float32</th><th>float32</th><th>float32</th><th>float32</th><th>float32</th><th>float32</th><th>float32</th><th>float32</th><th>float32</th><th>float32</th><th>float32</th><th>float32</th><th>float32</th><th>float32</th><th>float32</th><th>float32</th><th>float32</th><th>float32</th><th>float32</th><th>float32</th><th>float64</th><th>float64</th><th>float32</th><th>float32</th><th>float32</th><th>float32</th><th>float32</th><th>float32</th><th>float32</th><th>float32</th><th>int32</th><th>float32</th><th>float32</th><th>float64</th><th>float64</th><th>float64</th><th>float64</th><th>float64</th><th>float64</th><th>float64</th><th>float64</th><th>float64</th><th>int64</th><th>int64</th><th>str48</th><th>float64</th><th>float64</th><th>int64</th><th>int64</th><th>float64</th><th>float64</th><th>int64</th><th>str6</th><th>str48</th><th>int64</th><th>str2</th><th>str48</th><th>str48</th><th>float32</th><th>float32</th><th>float64</th><th>float32</th><th>float32</th><th>float32</th><th>float32</th><th>float32</th><th>float32</th><th>float64</th><th>float32</th><th>float32</th><th>int16</th><th>float64</th><th>int64</th><th>float32</th><th>float32</th><th>float32</th><th>float64</th><th>str40</th><th>float32</th><th>float32</th><th>float32</th><th>float32</th><th>float32</th><th>float32</th><th>float32</th><th>float32</th><th>float32</th><th>float32</th><th>float32</th><th>float32</th><th>float64</th></tr></thead>\n",
       "<tr><td>1237663277925335850</td><td>354.527253118</td><td>0.533963323664</td><td>3</td><td>GALAXY</td><td>387097114444120</td><td>0</td><td>0</td><td>0</td><td>268435456</td><td>281474976710656</td><td>23.157</td><td>21.151</td><td>20.5111</td><td>20.5445</td><td>20.5217</td><td>1.30625</td><td>0.116114</td><td>0.090698</td><td>0.16032</td><td>0.553635</td><td>1.30625</td><td>0.116114</td><td>0.090698</td><td>0.16032</td><td>0.553635</td><td>0.183577</td><td>0.135074</td><td>0.0979671</td><td>0.0742855</td><td>0.0526693</td><td>22.9734</td><td>21.0159</td><td>20.4131</td><td>20.4702</td><td>20.469</td><td>0.0988804</td><td>2.96978</td><td>3.97246</td><td>4.00475</td><td>2.96994</td><td>0.569557</td><td>-1000.0</td><td>0.285613</td><td>3.85316</td><td>-1000.0</td><td>4.10786</td><td>24.3574</td><td>7.0083</td><td>3.61276</td><td>12.8909</td><td>6.00983</td><td>14.9494</td><td>17.9853</td><td>25.13</td><td>180.234</td><td>0.05</td><td>0.249979</td><td>0.412317</td><td>0.270179</td><td>0.227746</td><td>23.071</td><td>1.12867</td><td>21.2517</td><td>0.113745</td><td>20.511</td><td>0.104085</td><td>20.6298</td><td>0.222215</td><td>20.4522</td><td>1.15681</td><td>24.2744</td><td>0.649078</td><td>23.0241</td><td>0.151885</td><td>22.7582</td><td>0.14878</td><td>23.2335</td><td>0.345046</td><td>22.5088</td><td>0.543053</td><td>22.8908</td><td>0.370602</td><td>22.3044</td><td>0.109834</td><td>22.072</td><td>0.132287</td><td>21.6666</td><td>0.156535</td><td>21.3686</td><td>0.400143</td><td>1.0</td><td>0.14519</td><td>0.0</td><td>0.0</td><td>0.0</td><td>-6.06435</td><td>3.35698</td><td>-0.289822</td><td>-0.0848221</td><td>-0.254005</td><td>-0.0180751</td><td>-0.349996</td><td>-0.0821505</td><td>-0.386814</td><td>-0.104254</td><td>0.151087</td><td>1.76419</td><td>0.0320211</td><td>0.277151</td><td>3.06727</td><td>101.898</td><td>0.487325</td><td>3.26084</td><td>92.9347</td><td>0.349464</td><td>3.41147</td><td>103.423</td><td>0.306249</td><td>4.24854</td><td>97.2539</td><td>22.89</td><td>0.183307</td><td>20.511</td><td>0.104085</td><td>2.13682</td><td>3.18142</td><td>20.7182</td><td>25.0731231419</td><td>24.3624615229</td><td>9999.0</td><td>9999.0</td><td>9999.0</td><td>9999.0</td><td>9999.0</td><td>9999.0</td><td>0.583004</td><td>-1.0</td><td>-1</td><td>0.209251</td><td>0.08979</td><td>-1.0</td><td>-1.0</td><td>-1.0</td><td>-1.0</td><td>354.131</td><td>0.297265</td><td>34.7674</td><td>2556.76</td><td>-23.4058610709</td><td>61945</td><td>0</td><td>AnaK</td><td>27.6933732316</td><td>280.071871236</td><td>-1</td><td>-1</td><td>0.0338816442867</td><td>-1.0</td><td>-1</td><td>MMT</td><td>/Spectra/Final/MMT/spHect-2014.0925_1.zlog</td><td>1</td><td></td><td>197.0</td><td>MMT</td><td>0.0742855</td><td>21.3686</td><td>27.6933732316</td><td>22.072</td><td>22.8908</td><td>0.135074</td><td>21.6666</td><td>0.0526693</td><td>0.0979671</td><td>0.533963323664</td><td>0.183577</td><td>22.3044</td><td>3</td><td>354.527253118</td><td>1237663277925335850</td><td>22.7582</td><td>24.2744</td><td>22.5088</td><td>280.071871236</td><td>GALAXY</td><td>23.0241</td><td>23.2335</td><td>22.1326</td><td>21.5703</td><td>20.7734</td><td>20.3992</td><td>20.1387</td><td>23.2973</td><td>23.3263</td><td>22.8579</td><td>22.7139</td><td>22.5568</td><td>6.0</td></tr>\n",
       "</table>"
      ],
      "text/plain": [
       "<Row index=19477>\n",
       "       OBJID              RA           DEC       PHOTPTYPE PHOT_SG      FLAGS      clean SATURATED BAD_COUNTS_ERROR  BINNED1  TOO_FEW_GOOD_DETECTIONS    u       g       r       i       z     u_err   g_err    r_err    i_err   z_err   MODELMAGERR_U MODELMAGERR_G MODELMAGERR_R MODELMAGERR_I MODELMAGERR_Z EXTINCTION_U EXTINCTION_G EXTINCTION_R EXTINCTION_I EXTINCTION_Z DERED_U DERED_G DERED_R DERED_I DERED_Z PETRORAD_U PETRORAD_G PETRORAD_R PETRORAD_I PETRORAD_Z PETRORADERR_U PETRORADERR_G PETRORADERR_R PETRORADERR_I PETRORADERR_Z DEVRAD_U DEVRADERR_U DEVRAD_G DEVRADERR_G DEVRAD_R DEVRADERR_R DEVRAD_I DEVRADERR_I DEVRAD_Z DEVRADERR_Z DEVAB_U DEVAB_G  DEVAB_R  DEVAB_I  DEVAB_Z  CMODELMAG_U CMODELMAGERR_U CMODELMAG_G CMODELMAGERR_G CMODELMAG_R CMODELMAGERR_R CMODELMAG_I CMODELMAGERR_I CMODELMAG_Z CMODELMAGERR_Z PSFMAG_U PSFMAGERR_U PSFMAG_G PSFMAGERR_G PSFMAG_R PSFMAGERR_R PSFMAG_I PSFMAGERR_I PSFMAG_Z PSFMAGERR_Z FIBERMAG_U FIBERMAGERR_U FIBERMAG_G FIBERMAGERR_G FIBERMAG_R FIBERMAGERR_R FIBERMAG_I FIBERMAGERR_I FIBERMAG_Z FIBERMAGERR_Z FRACDEV_U FRACDEV_G FRACDEV_R FRACDEV_I FRACDEV_Z   Q_U      U_U      Q_G       U_G        Q_R       U_R        Q_I       U_I        Q_Z       U_Z    EXPAB_U  EXPRAD_U  EXPPHI_U EXPAB_G  EXPRAD_G EXPPHI_G EXPAB_R  EXPRAD_R EXPPHI_R EXPAB_I  EXPRAD_I EXPPHI_I EXPAB_Z  EXPRAD_Z EXPPHI_Z FIBER2MAG_R FIBER2MAGERR_R EXPMAG_R EXPMAGERR_R PETROR50_R PETROR90_R PETROMAG_R    SB_EXP_R     SB_PETRO_R     J      JERR     H      HERR     K      KERR   SPEC_Z  SPEC_Z_ERR SPEC_Z_WARN  PHOTOZ  PHOTOZ_ERR    W1    W1ERR     W2    W2ERR  HOST_RA HOST_DEC HOST_DIST HOST_VHOST    HOST_MK     HOST_NSAID HOST_FLAG HOST_SAGA_NAME   RHOST_ARCM    RHOST_KPC   OBJ_NSAID  SATS PROBABILITY_CLASS1 RESCALED_PROBABILITY_CLASS1 REMOVE TELNAME                  MASKNAME                  ZQUALITY SPEC_CLASS SPECOBJID SPEC_REPEAT     Ai    fibermag_z     rhost     fibermag_r fibermag_u    Ag    fibermag_i     Az        Ar         dec          Au    fibermag_g  type       ra             objID         psf_r   psf_u   psf_z    rhost_kpc   phot_sg  psf_g   psf_i     U       B       V       R       I     psf_U   psf_B   psf_V   psf_R   psf_I  aat_pris\n",
       "       int64           float64       float64       int16    str40       int64      int32   int64        int64         int64            int64          float32 float32 float32 float32 float32 float32 float32  float32  float32 float32     float32       float32       float32       float32       float32      float32      float32      float32      float32      float32    float32 float32 float32 float32 float32  float32    float32    float32    float32    float32      float32       float32       float32       float32       float32    float32    float32   float32    float32   float32    float32   float32    float32   float32    float32   float32 float32  float32  float32  float32    float32      float32       float32      float32       float32      float32       float32      float32       float32      float32     float32    float32   float32    float32   float32    float32   float32    float32   float32    float32    float32      float32     float32      float32     float32      float32     float32      float32     float32      float32     float32   float32   float32   float32   float32  float32  float32  float32   float32    float32   float32    float32   float32    float32   float32  float32  float32   float32  float32  float32  float32  float32  float32  float32  float32  float32  float32  float32  float32  float32    float32      float32     float32    float32    float32    float32    float32      float64       float64    float32 float32 float32 float32 float32 float32 float32   float32      int32    float32   float32   float64 float64 float64 float64 float64 float64   float64   float64      float64       int64      int64       str48         float64       float64      int64   int64      float64                 float64           int64    str6                    str48                     int64      str2      str48      str48     float32   float32      float64     float32    float32   float32   float32    float32   float32     float64     float32   float32   int16    float64           int64        float32 float32 float32    float64     str40  float32 float32 float32 float32 float32 float32 float32 float32 float32 float32 float32 float32 float64 \n",
       "------------------- ------------- -------------- --------- ------- --------------- ----- --------- ---------------- --------- ----------------------- ------- ------- ------- ------- ------- ------- -------- -------- ------- -------- ------------- ------------- ------------- ------------- ------------- ------------ ------------ ------------ ------------ ------------ ------- ------- ------- ------- ------- ---------- ---------- ---------- ---------- ---------- ------------- ------------- ------------- ------------- ------------- -------- ----------- -------- ----------- -------- ----------- -------- ----------- -------- ----------- ------- -------- -------- -------- -------- ----------- -------------- ----------- -------------- ----------- -------------- ----------- -------------- ----------- -------------- -------- ----------- -------- ----------- -------- ----------- -------- ----------- -------- ----------- ---------- ------------- ---------- ------------- ---------- ------------- ---------- ------------- ---------- ------------- --------- --------- --------- --------- --------- -------- ------- --------- ---------- --------- ---------- --------- ---------- --------- --------- -------- -------- --------- -------- -------- -------- -------- -------- -------- -------- -------- -------- -------- -------- -------- ----------- -------------- -------- ----------- ---------- ---------- ---------- ------------- ------------- ------- ------- ------- ------- ------- ------- -------- ---------- ----------- -------- ---------- ------- ------- ------- ------- ------- -------- --------- ---------- -------------- ---------- --------- -------------- ------------- ------------- --------- ----- ------------------ --------------------------- ------ ------- ------------------------------------------ -------- ---------- --------- ----------- --------- ---------- ------------- ---------- ---------- -------- ---------- --------- --------- -------------- -------- ---------- ----- ------------- ------------------- ------- ------- ------- ------------- ------- ------- ------- ------- ------- ------- ------- ------- ------- ------- ------- ------- ------- --------\n",
       "1237663277925335850 354.527253118 0.533963323664         3  GALAXY 387097114444120     0         0                0 268435456         281474976710656  23.157  21.151 20.5111 20.5445 20.5217 1.30625 0.116114 0.090698 0.16032 0.553635       1.30625      0.116114      0.090698       0.16032      0.553635     0.183577     0.135074    0.0979671    0.0742855    0.0526693 22.9734 21.0159 20.4131 20.4702  20.469  0.0988804    2.96978    3.97246    4.00475    2.96994      0.569557       -1000.0      0.285613       3.85316       -1000.0  4.10786     24.3574   7.0083     3.61276  12.8909     6.00983  14.9494     17.9853    25.13     180.234    0.05 0.249979 0.412317 0.270179 0.227746      23.071        1.12867     21.2517       0.113745      20.511       0.104085     20.6298       0.222215     20.4522        1.15681  24.2744    0.649078  23.0241    0.151885  22.7582     0.14878  23.2335    0.345046  22.5088    0.543053    22.8908      0.370602    22.3044      0.109834     22.072      0.132287    21.6666      0.156535    21.3686      0.400143       1.0   0.14519       0.0       0.0       0.0 -6.06435 3.35698 -0.289822 -0.0848221 -0.254005 -0.0180751 -0.349996 -0.0821505 -0.386814 -0.104254 0.151087  1.76419 0.0320211 0.277151  3.06727  101.898 0.487325  3.26084  92.9347 0.349464  3.41147  103.423 0.306249  4.24854  97.2539       22.89       0.183307   20.511    0.104085    2.13682    3.18142    20.7182 25.0731231419 24.3624615229  9999.0  9999.0  9999.0  9999.0  9999.0  9999.0 0.583004       -1.0          -1 0.209251    0.08979    -1.0    -1.0    -1.0    -1.0 354.131 0.297265   34.7674    2556.76 -23.4058610709      61945         0           AnaK 27.6933732316 280.071871236        -1    -1    0.0338816442867                        -1.0     -1     MMT /Spectra/Final/MMT/spHect-2014.0925_1.zlog        1                197.0         MMT 0.0742855    21.3686 27.6933732316     22.072    22.8908 0.135074    21.6666 0.0526693 0.0979671 0.533963323664 0.183577    22.3044     3 354.527253118 1237663277925335850 22.7582 24.2744 22.5088 280.071871236  GALAXY 23.0241 23.2335 22.1326 21.5703 20.7734 20.3992 20.1387 23.2973 23.3263 22.8579 22.7139 22.5568      6.0"
      ]
     },
     "execution_count": 503,
     "metadata": {},
     "output_type": "execute_result"
    }
   ],
   "source": [
    "possible_anak_sat = SkyCoord(354.527, 0.533964, unit=u.deg)\n",
    "\n",
    "seps = possible_anak_sat.separation(anakscs)\n",
    "closest = np.argsort(seps)[0]\n",
    "print(seps[closest].arcsec)\n",
    "row = anakcat[closest]\n",
    "special_objids.append(row['OBJID'])\n",
    "row"
   ]
  },
  {
   "cell_type": "markdown",
   "metadata": {},
   "source": [
    "That one seems good"
   ]
  },
  {
   "cell_type": "markdown",
   "metadata": {},
   "source": [
    "### Risa's eye-balled selections "
   ]
  },
  {
   "cell_type": "code",
   "execution_count": 750,
   "metadata": {
    "collapsed": false
   },
   "outputs": [],
   "source": [
    "def find_risa_objs(stringfromrisa, h):\n",
    "    risa_tab = Table.read(stringfromrisa, delimiter='\\t', format='ascii', names=['unk', 'ra', 'dec', 'mag', 'cand'])\n",
    "    risa_sc = SkyCoord(risa_tab['ra'], risa_tab['dec'], unit=u.deg)\n",
    "\n",
    "    cat = h.get_sdss_catalog()\n",
    "\n",
    "    catsc = SkyCoord(cat['ra'], cat['dec'], unit=u.deg)\n",
    "    idx, d2d, _ = risa_sc.match_to_catalog_sky(catsc)\n",
    "    assertmsg = '{} matched of {}: {}'.format(np.sum(d2d < .1*u.arcsec),len(d2d), d2d[d2d > .1*u.arcsec])\n",
    "    assert np.all(d2d < .1*u.arcsec), assertmsg\n",
    "    return cat['OBJID'][idx]"
   ]
  },
  {
   "cell_type": "code",
   "execution_count": 698,
   "metadata": {
    "collapsed": true
   },
   "outputs": [],
   "source": [
    "risa_145729=\"\"\"\n",
    "-1\t224.56410\t-1.0730193\t19.7973\ttrue\n",
    "-1\t224.59164\t-1.1261357\t17.9597\ttrue\n",
    "-1\t224.58605\t-1.1340797\t19.9805\ttrue\n",
    "-1\t224.65696\t-1.1021396\t17.4972\ttrue\n",
    "-1\t224.54478\t-1.1645862\t19.4057\ttrue\n",
    "-1\t224.50349\t-1.1783027\t17.7666\ttrue\n",
    "-1\t224.61258\t-1.2283750\t20.1190\ttrue\n",
    "-1\t224.66071\t-1.2407656\t20.3448\ttrue\n",
    "-1\t224.58210\t-1.2891033\t20.1278\ttrue\n",
    "-1\t224.68795\t-0.82928863\t18.7276\ttrue\n",
    "-1\t224.46354\t-0.85993860\t20.6228\ttrue\n",
    "-1\t224.43907\t-1.3290346\t20.2419\ttrue\n",
    "-1\t224.27041\t-1.0663297\t19.6382\ttrue\n",
    "-1\t224.92796\t-1.0868430\t19.9441\ttrue\n",
    "-1\t224.95218\t-1.2046019\t20.2506\ttrue\n",
    "-1\t224.98659\t-1.0996963\t19.2848\ttrue\n",
    "-1\t224.95028\t-1.2134533\t19.1667\ttrue\n",
    "-1\t224.56810\t-0.71035594\t19.5400\ttrue\n",
    "-1\t224.56710\t-0.71155324\t18.3361\ttrue\n",
    "-1\t224.63475\t-0.76637428\t20.5220\ttrue\n",
    "-1\t224.79342\t-0.82424335\t19.5245\ttrue\n",
    "-1\t224.26293\t-1.3190454\t19.7427\ttrue\n",
    "-1\t224.34037\t-1.3851494\t19.5061\ttrue\n",
    "-1\t224.67776\t-1.3717603\t18.9769\ttrue\n",
    "-1\t224.30819\t-0.89372642\t19.5476\ttrue\n",
    "-1\t224.95888\t-1.0081097\t19.6524\ttrue\n",
    "-1\t225.01145\t-1.2106150\t19.6745\ttrue\n",
    "-1\t224.27946\t-0.80572367\t19.0886\ttrue\n",
    "-1\t224.44473\t-0.64135326\t18.2103\ttrue\n",
    "-1\t224.59702\t-0.60626247\t19.4427\ttrue\n",
    "-1\t224.98059\t-1.2775413\t20.7447\ttrue\n",
    "-1\t224.25056\t-1.3830278\t20.6792\ttrue\n",
    "-1\t224.03729\t-1.0589027\t20.7401\ttrue\n",
    "-1\t224.94320\t-0.87332390\t19.9586\ttrue\n",
    "-1\t224.12169\t-1.2418469\t18.6920\ttrue\n",
    "-1\t225.09967\t-1.2117895\t19.8792\ttrue\n",
    "-1\t224.28313\t-0.67401930\t20.1558\ttrue\n",
    "-1\t224.18769\t-0.79627184\t19.9399\ttrue\n",
    "-1\t224.23305\t-0.67032897\t20.2131\ttrue\n",
    "-1\t225.00922\t-0.80628957\t20.5866\ttrue\n",
    "-1\t224.32848\t-1.5812675\t18.2125\ttrue\n",
    "-1\t224.27623\t-1.5292467\t18.4006\ttrue\n",
    "-1\t224.70055\t-1.6463751\t18.5479\ttrue\n",
    "-1\t225.06682\t-1.2727903\t20.5982\ttrue\n",
    "-1\t224.89664\t-1.5217602\t19.0338\ttrue\n",
    "-1\t225.02588\t-1.4044669\t20.2629\ttrue\n",
    "-1\t224.98083\t-1.4368200\t20.4261\ttrue\n",
    "-1\t225.07035\t-0.95870445\t19.6174\ttrue\n",
    "-1\t224.14144\t-0.71374995\t20.3682\ttrue\n",
    "-1\t224.18156\t-0.65458846\t19.8804\ttrue\n",
    "-1\t224.03748\t-0.86010033\t20.2428\ttrue\n",
    "-1\t224.29784\t-1.5985485\t19.0072\ttrue\n",
    "-1\t224.30080\t-1.5957333\t20.6291\ttrue\n",
    "-1\t224.65269\t-1.6814901\t20.2405\ttrue\n",
    "-1\t224.18598\t-1.4982058\t19.6720\ttrue\n",
    "-1\t225.18215\t-0.98714751\t20.2422\ttrue\n",
    "\"\"\"[1:-1]\n",
    "special_objids.extend(find_risa_objs(risa_145729, [h for h in hosts_to_target if h.nsaid==145729][0])"
   ]
  },
  {
   "cell_type": "code",
   "execution_count": 752,
   "metadata": {
    "collapsed": false
   },
   "outputs": [],
   "source": [
    "risa_obrother=\"\"\"\n",
    "1\t335.97281\t-3.4295662\t17.7332\ttrue\n",
    "1\t335.91314\t-3.5404510\t19.7043\ttrue\n",
    "-1\t335.77781\t-3.4459616\t20.1615\ttrue\n",
    "-1\t335.81490\t-3.6025596\t20.5123\ttrue\n",
    "1\t336.04145\t-3.2204987\t20.5081\ttrue\n",
    "-1\t336.09493\t-3.4649021\t19.7341\ttrue\n",
    "1\t335.99401\t-3.7007769\t20.5931\ttrue\n",
    "1\t336.12273\t-3.5101925\t20.4868\ttrue\n",
    "1\t335.72556\t-3.1674595\t20.6372\ttrue\n",
    "1\t335.84376\t-3.0261104\t20.7444\ttrue\n",
    "-1\t336.23396\t-3.1875586\t20.7117\ttrue\n",
    "1\t335.55249\t-3.6052065\t20.0624\ttrue\n",
    "1\t335.65592\t-3.6558837\t20.5213\ttrue\n",
    "-1\t335.57983\t-3.6963397\t19.3788\ttrue\n",
    "-1\t336.30042\t-3.4636766\t19.8654\ttrue\n",
    "\"\"\"[1:-1]\n",
    "special_objids.extend(find_risa_objs(risa_obrother, hsd['OBrother']))"
   ]
  },
  {
   "cell_type": "code",
   "execution_count": 773,
   "metadata": {
    "collapsed": true
   },
   "outputs": [],
   "source": [
    "risa_catch22=\"\"\"\n",
    "-1\t348.62149\t4.5071708\t17.7932\ttrue\n",
    "-1\t348.73347\t4.5865011\t19.4766\ttrue\n",
    "-1\t348.67493\t4.6123235\t20.3472\ttrue\n",
    "-1\t348.72361\t4.4495699\t20.6729\ttrue\n",
    "-1\t348.72881\t4.4323062\t19.4804\ttrue\n",
    "-1\t348.55899\t4.5900220\t20.2576\ttrue\n",
    "-1\t348.64485\t4.4040044\t17.6392\ttrue\n",
    "-1\t348.59640\t4.3492465\t20.6181\ttrue\n",
    "-1\t348.68132\t4.3095517\t20.6868\ttrue\n",
    "-1\t348.68817\t4.3020869\t20.7035\ttrue\n",
    "-1\t348.89822\t4.4892740\t18.9281\ttrue\n",
    "-1\t348.43132\t4.7245873\t19.3515\ttrue\n",
    "-1\t348.51966\t4.7464873\t19.3880\ttrue\n",
    "-1\t348.39920\t4.5666321\t18.2252\ttrue\n",
    "-1\t348.99115\t4.5918658\t20.7471\ttrue\n",
    "-1\t348.31622\t4.3290159\t19.6409\ttrue\n",
    "-1\t348.87290\t4.8064919\t18.9324\ttrue\n",
    "-1\t348.63961\t4.2011104\t20.5785\ttrue\n",
    "-1\t348.98746\t4.3261837\t18.3678\ttrue\n",
    "-1\t348.40085\t4.8681252\t17.4557\ttrue\n",
    "-1\t348.64976\t4.8775596\t18.4048\ttrue\n",
    "-1\t348.82739\t4.9078081\t19.3681\ttrue\n",
    "-1\t348.68761\t4.9226928\t17.8673\ttrue\n",
    "-1\t348.85846\t4.8346772\t19.6157\ttrue\n",
    "\"\"\"[1:-1]\n",
    "special_objids.extend(find_risa_objs(risa_catch22, hsd['Catch22']))"
   ]
  },
  {
   "cell_type": "code",
   "execution_count": null,
   "metadata": {
    "collapsed": true
   },
   "outputs": [],
   "source": [
    "risa_narnia=\"\"\"\n",
    "\"\"\"[1:-1]\n",
    "special_objids.extend(find_risa_objs(risa_narnia, hsd['Narnia']))"
   ]
  },
  {
   "cell_type": "code",
   "execution_count": 774,
   "metadata": {
    "collapsed": false,
    "scrolled": true
   },
   "outputs": [
    {
     "name": "stdout",
     "output_type": "stream",
     "text": [
      "Found oid 1237666408439939193 in AnaK so setting to pri=9\n",
      "Found oid 1237663277925335850 in AnaK so setting to pri=9\n",
      "Found oid 1237655499747361174 in NSA145729 so setting to pri=9\n",
      "Found oid 1237655499747361349 in NSA145729 so setting to pri=9\n",
      "Found oid 1237648702984552958 in NSA145729 so setting to pri=9\n",
      "Found oid 1237655499747361262 in NSA145729 so setting to pri=9\n",
      "Found oid 1237655499747295495 in NSA145729 so setting to pri=9\n",
      "Found oid 1237655499747361401 in NSA145729 so setting to pri=9\n",
      "Found oid 1237648702984553164 in NSA145729 so setting to pri=9\n",
      "Found oid 1237655499747361165 in NSA145729 so setting to pri=9\n",
      "Found oid 1237648703521424188 in NSA145729 so setting to pri=9\n",
      "Found oid 1237648720176480877 in NSA145729 so setting to pri=9\n",
      "Found oid 1237655693014991669 in NSA145729 so setting to pri=9\n",
      "Found oid 1237648702984356667 in NSA145729 so setting to pri=9\n",
      "Found oid 1237648702984619001 in NSA145729 so setting to pri=9\n",
      "Found oid 1237648702984683743 in NSA145729 so setting to pri=9\n",
      "Found oid 1237648702984684322 in NSA145729 so setting to pri=9\n",
      "Found oid 1237648702984684203 in NSA145729 so setting to pri=9\n",
      "Found oid 1237648703521358280 in NSA145729 so setting to pri=9\n",
      "Found oid 1237648703521358281 in NSA145729 so setting to pri=9\n",
      "Found oid 1237648703521424032 in NSA145729 so setting to pri=9\n",
      "Found oid 1237648703521489387 in NSA145729 so setting to pri=9\n",
      "Found oid 1237655693014926027 in NSA145729 so setting to pri=9\n",
      "Found oid 1237655693014926250 in NSA145729 so setting to pri=9\n",
      "Found oid 1237655693015057234 in NSA145729 so setting to pri=9\n",
      "Found oid 1237655693551797124 in NSA145729 so setting to pri=9\n",
      "Found oid 1237655693552059263 in NSA145729 so setting to pri=9\n",
      "Found oid 1237648702984684397 in NSA145729 so setting to pri=9\n",
      "Found oid 1237648703521227745 in NSA145729 so setting to pri=9\n",
      "Found oid 1237648703521292752 in NSA145729 so setting to pri=9\n",
      "Found oid 1237648720713417217 in NSA145729 so setting to pri=9\n",
      "Found oid 1237655499747492755 in NSA145729 so setting to pri=9\n",
      "Found oid 1237655693014925997 in NSA145729 so setting to pri=9\n",
      "Found oid 1237648702984290856 in NSA145729 so setting to pri=9\n",
      "Found oid 1237655693552059233 in NSA145729 so setting to pri=9\n",
      "Found oid 1237648702984290789 in NSA145729 so setting to pri=9\n",
      "Found oid 1237648702984749535 in NSA145729 so setting to pri=9\n",
      "Found oid 1237648703521227755 in NSA145729 so setting to pri=9\n",
      "Found oid 1237648703521227224 in NSA145729 so setting to pri=9\n",
      "Found oid 1237648703521227541 in NSA145729 so setting to pri=9\n",
      "Found oid 1237648703521555340 in NSA145729 so setting to pri=9\n",
      "Found oid 1237655499210359418 in NSA145729 so setting to pri=9\n",
      "Found oid 1237655499210359197 in NSA145729 so setting to pri=9\n",
      "Found oid 1237655499210555913 in NSA145729 so setting to pri=9\n",
      "Found oid 1237655499747558099 in NSA145729 so setting to pri=9\n",
      "Found oid 1237655499210621327 in NSA145729 so setting to pri=9\n",
      "Found oid 1237655693015253757 in NSA145729 so setting to pri=9\n",
      "Found oid 1237655693015253613 in NSA145729 so setting to pri=9\n",
      "Found oid 1237655693552124432 in NSA145729 so setting to pri=9\n",
      "Found oid 1237648703521161521 in NSA145729 so setting to pri=9\n",
      "Found oid 1237648703521227143 in NSA145729 so setting to pri=9\n",
      "Found oid 1237648720176284037 in NSA145729 so setting to pri=9\n",
      "Found oid 1237655499210359339 in NSA145729 so setting to pri=9\n",
      "Found oid 1237655499210359352 in NSA145729 so setting to pri=9\n",
      "Found oid 1237655499210490684 in NSA145729 so setting to pri=9\n",
      "Found oid 1237655693014860602 in NSA145729 so setting to pri=9\n",
      "Found oid 1237655693552190170 in NSA145729 so setting to pri=9\n",
      "Found oid 1237680066954330600 in OBrother so setting to pri=9\n",
      "Found oid 1237680192048726615 in OBrother so setting to pri=9\n",
      "Found oid 1237680066954264909 in OBrother so setting to pri=9\n",
      "Found oid 1237678879399543161 in OBrother so setting to pri=9\n",
      "Found oid 1237680192048857645 in OBrother so setting to pri=9\n",
      "Found oid 1237680066954330780 in OBrother so setting to pri=9\n",
      "Found oid 1237680192048857688 in OBrother so setting to pri=9\n",
      "Found oid 1237678879399412290 in OBrother so setting to pri=9\n",
      "Found oid 1237678879399477775 in OBrother so setting to pri=9\n",
      "Found oid 1237678879399609008 in OBrother so setting to pri=9\n",
      "Found oid 1237680066954134281 in OBrother so setting to pri=9\n",
      "Found oid 1237680066954199709 in OBrother so setting to pri=9\n",
      "Found oid 1237680066954199545 in OBrother so setting to pri=9\n",
      "Found oid 1237680192048923349 in OBrother so setting to pri=9\n",
      "Found oid 1237679005021897147 in Catch22 so setting to pri=9\n",
      "Found oid 1237678777399443705 in Catch22 so setting to pri=9\n",
      "Found oid 1237679005021897099 in Catch22 so setting to pri=9\n",
      "Found oid 1237679005021897127 in Catch22 so setting to pri=9\n",
      "Found oid 1237678777399378429 in Catch22 so setting to pri=9\n",
      "Found oid 1237679005021831509 in Catch22 so setting to pri=9\n",
      "Found oid 1237678776862507522 in Catch22 so setting to pri=9\n",
      "Found oid 1237678776862572922 in Catch22 so setting to pri=9\n",
      "Found oid 1237678776862572936 in Catch22 so setting to pri=9\n",
      "Found oid 1237679005021962709 in Catch22 so setting to pri=9\n",
      "Found oid 1237678777399312955 in Catch22 so setting to pri=9\n",
      "Found oid 1237678777399378047 in Catch22 so setting to pri=9\n",
      "Found oid 1237679005021765924 in Catch22 so setting to pri=9\n",
      "Found oid 1237679005021962980 in Catch22 so setting to pri=9\n",
      "Found oid 1237678776862376599 in Catch22 so setting to pri=9\n",
      "Found oid 1237679005558833475 in Catch22 so setting to pri=9\n",
      "Found oid 1237678776862572822 in Catch22 so setting to pri=9\n",
      "Found oid 1237678776862704012 in Catch22 so setting to pri=9\n",
      "Found oid 1237679005558637016 in Catch22 so setting to pri=9\n",
      "Found oid 1237679005558702452 in Catch22 so setting to pri=9\n",
      "Found oid 1237679005558768408 in Catch22 so setting to pri=9\n",
      "Found oid 1237679005558767959 in Catch22 so setting to pri=9\n",
      "Found oid 1237679005558833574 in Catch22 so setting to pri=9\n"
     ]
    }
   ],
   "source": [
    "for soid in special_objids:\n",
    "    for h in hosts_to_target:\n",
    "        cat = h.get_sdss_catalog()\n",
    "        if soid in cat['OBJID']:\n",
    "            print('Found oid', soid, 'in', h.name, 'so setting to pri=9')\n",
    "            pris = cat['aat_pris']\n",
    "            if np.any(pris[np.in1d(cat['OBJID'], soid)]<1):\n",
    "                print('WARNING: ', np.sum(pris[np.in1d(cat['OBJID'], soid)]<1), 'special objects in', \n",
    "                      h.name, 'are pri<0... skipping')\n",
    "            cat['aat_pris'][np.in1d(cat['OBJID'], soid)&(pris>0)] = 9\n",
    "            break\n",
    "    else:\n",
    "        print('Could not find oid', soid, 'anywhere')"
   ]
  },
  {
   "cell_type": "markdown",
   "metadata": {},
   "source": [
    "# Make the master catalogs "
   ]
  },
  {
   "cell_type": "markdown",
   "metadata": {},
   "source": [
    "## Sky positions"
   ]
  },
  {
   "cell_type": "markdown",
   "metadata": {},
   "source": [
    "For some hosts we already have sky positions from the last run, so copy those over"
   ]
  },
  {
   "cell_type": "code",
   "execution_count": 597,
   "metadata": {
    "collapsed": false
   },
   "outputs": [
    {
     "name": "stdout",
     "output_type": "stream",
     "text": [
      "aat_targets_jun2015/Aeneid_sky.dat    aat_targets_jun2015/Gilgamesh_sky.dat\r\n",
      "aat_targets_jun2015/AnaK_sky.dat      aat_targets_jun2015/OBrother_sky.dat\r\n",
      "aat_targets_jun2015/Dune_sky.dat      aat_targets_jun2015/Odyssey_sky.dat\r\n"
     ]
    }
   ],
   "source": [
    "# commented because it should only be run once\n",
    "!ls aat_targets_jun2015/*_sky.dat\n",
    "#!cp aat_targets_jun2015/*_sky.dat aat_targets_jul2016/"
   ]
  },
  {
   "cell_type": "markdown",
   "metadata": {},
   "source": [
    "For the remainder, generate and visually inspect them one at a time. Edit the file to remove any that are not good sky positions"
   ]
  },
  {
   "cell_type": "code",
   "execution_count": 599,
   "metadata": {
    "collapsed": false
   },
   "outputs": [
    {
     "name": "stdout",
     "output_type": "stream",
     "text": [
      "aat_targets_jul2016/Narnia_sky.dat exists, not overwriting\n",
      "aat_targets_jul2016/Catch22_sky.dat exists, not overwriting\n",
      "aat_targets_jul2016/Dune_sky.dat exists, not overwriting\n",
      "aat_targets_jul2016/OBrother_sky.dat exists, not overwriting\n",
      "aat_targets_jul2016/Gilgamesh_sky.dat exists, not overwriting\n",
      "aat_targets_jul2016/AnaK_sky.dat exists, not overwriting\n",
      "aat_targets_jul2016/Odyssey_sky.dat exists, not overwriting\n",
      "Wrote aat_targets_jul2016/NSA145729_sky.dat. Press enter to continue onto the next one once you remove bad entries from this file.\n",
      "Wrote aat_targets_jul2016/NSA21709_sky.dat. Press enter to continue onto the next one once you remove bad entries from this file.\n"
     ]
    }
   ],
   "source": [
    "#Identify sky regions for each host and write out to separate files - \n",
    "from os.path import exists\n",
    "\n",
    "for h in hosts_to_target:\n",
    "    outfn = 'aat_targets_jul2016/' + h.name.replace(' ','_') + '_sky.dat'\n",
    "    if exists(outfn):\n",
    "        print(outfn, 'exists, not overwriting')\n",
    "    else:\n",
    "        try:\n",
    "            h.get_usnob_catalog()\n",
    "            usnocat = None\n",
    "        except IOError:\n",
    "            # this is currently hanging as the usno server is down...\n",
    "            #print('Downloading USNO B1 catalog for', h.name)  \n",
    "            #h.usnob_environs_query(dl=True) \n",
    "            #usnocat = None\n",
    "            usnocat = False\n",
    "        aat.select_sky_positions(h, nsky=100, outfn=outfn, rad=1*u.deg, usnocat=usnocat)\n",
    "        aat.imagelist_fld_targets(outfn, ttype='sky', n=np.inf)\n",
    "        !subl $outfn\n",
    "        raw_input('Wrote ' + outfn + '. Press enter to continue onto the next one once '\n",
    "                  'you remove bad entries from this file.')"
   ]
  },
  {
   "cell_type": "markdown",
   "metadata": {},
   "source": [
    "## Actually generate the master catalogs "
   ]
  },
  {
   "cell_type": "code",
   "execution_count": 776,
   "metadata": {
    "collapsed": true
   },
   "outputs": [],
   "source": [
    "for h in hosts_to_target:\n",
    "    cat = h.get_sdss_catalog()\n",
    "    pris = cat['aat_pris']\n",
    "    \n",
    "    guides = aat.select_guide_stars_sdss(cat)\n",
    "    calibs = aat.select_flux_stars(cat, onlyoutside=300*u.kpc)\n",
    "    skyradec = 'aat_targets_jul2016/{0}_sky.dat'.format(h.name)\n",
    "    aat.produce_master_fld(h, datetime.date(2016, 7, 28), cat[pris>0], pris=pris[pris>0].astype(int),\n",
    "                           guidestars=guides, fluxstars=calibs,skyradec=skyradec,\n",
    "                           outfn='aat_targets_jul2016/{}_master.fld'.format(h.name), \n",
    "                           randomizeorder=True, inclhost=False)"
   ]
  },
  {
   "cell_type": "markdown",
   "metadata": {},
   "source": [
    "# Observations"
   ]
  },
  {
   "cell_type": "markdown",
   "metadata": {},
   "source": [
    "We sub-sample from the master lists generated above for individual configurations. "
   ]
  },
  {
   "cell_type": "code",
   "execution_count": 12,
   "metadata": {
    "collapsed": false
   },
   "outputs": [],
   "source": [
    "def do_subsampling(h, finum, n_in_pri, **kwargs):\n",
    "    assert h in hosts_to_target\n",
    "    \n",
    "    n_in_pri = dict(n_in_pri)  #copy just in case\n",
    "    for i in range(9):\n",
    "        if i+1 not in n_in_pri:\n",
    "            n_in_pri[i+1] = np.inf\n",
    "\n",
    "    fnbase = 'aat_targets_jul2016/' + h.name\n",
    "    \n",
    "    fnmaster = fnbase + '_master.fld'\n",
    "    fnconfig = kwargs.pop('fnconfig', fnbase + '_{0}.fld'.format(finum))\n",
    "    print('Writing', fnconfig, 'from master', fnmaster)\n",
    "            \n",
    "    kwargs.setdefault('nflux', 5)\n",
    "    kwargs.setdefault('nguides', 30)\n",
    "    kwargs.setdefault('fieldname', str(finum))\n",
    "    \n",
    "    if 'listorem' not in kwargs:\n",
    "        listorem = []\n",
    "        for i in range(1, finum):\n",
    "            globpat = fnbase + '_' + str(i) + '*.lis'\n",
    "            listorem.extend(glob(globpat))\n",
    "        assertmsg = 'Only got ' + str(len(listorem)) +' .lis file(s):'+str(listorem)+', expected ' + str(finum-1)\n",
    "        assert len(listorem) == (finum-1), assertmsg\n",
    "        kwargs['listorem'] = listorem\n",
    "    \n",
    "    aat.subsample_from_master_fld(fnmaster, fnconfig, n_in_pri, **kwargs)\n",
    "    \n",
    "    return fnconfig"
   ]
  },
  {
   "cell_type": "markdown",
   "metadata": {},
   "source": [
    "This function parses a dump of all the image headers from 'fitsheader ccd_?/*.fits*'"
   ]
  },
  {
   "cell_type": "code",
   "execution_count": 90,
   "metadata": {
    "collapsed": false
   },
   "outputs": [
    {
     "data": {
      "text/plain": [
       "246"
      ]
     },
     "execution_count": 90,
     "metadata": {},
     "output_type": "execute_result"
    }
   ],
   "source": [
    "def make_logtab(logs, skip_res=[]):\n",
    "    \"\"\"\n",
    "    Generates a table with the AAT observing logs.  \n",
    "    \n",
    "    ``logs`` can be a filename or list of lines from fitsheader\n",
    "    \"\"\"\n",
    "    \n",
    "    logtab = Table()\n",
    "    logtab['num'] = [1]\n",
    "    logtab['ccd'] = [2]\n",
    "    logtab['UTDATE'] = ['2015:06:19']\n",
    "    logtab['UTSTART'] = ['08:56:19']\n",
    "    logtab['OBJECT'] = ['a'*100]\n",
    "    logtab['TOTALEXP'] = ['a'*20]\n",
    "    logtab['RUNCMD'] = ['a'*20]\n",
    "    logtab['GRATID'] = ['a'*20]\n",
    "    logtab['SOURCE'] = ['plate 0 ']\n",
    "    logtab['MEANRA'] = [1.1]\n",
    "    logtab['MEANDEC'] = [1.1]\n",
    "    logtab['CFG_FILE'] = ['Odyssey_1p0xxxxxxxxxx.sds']\n",
    "    logtab = logtab[1:]\n",
    "\n",
    "    def add_logcol(accumulated_lines):\n",
    "        l = accumulated_lines[0]\n",
    "        hdunum = int(l.split()[2])\n",
    "        hdupath = l.split()[4][:-1]\n",
    "        if hdunum != 0:\n",
    "            return\n",
    "        for rex in skip_res:\n",
    "            if re.match(rex, hdupath):\n",
    "                print('Skipping', hdupath, 'because it has', rex)\n",
    "                return \n",
    "\n",
    "        items = {'num': int(hdupath.split('/')[-1].split('.')[0][5:]),\n",
    "                 'ccd': int(hdupath.split('/')[-2][4:])}\n",
    "\n",
    "        for l in accumulated_lines[1:]:\n",
    "            if '=' in l:\n",
    "                nm, data = l.split('=')\n",
    "                nm = nm.strip()\n",
    "                data = data.split('/')[:2]\n",
    "                if len(data)> 1:\n",
    "                    comment = data[1]\n",
    "                data = data[0].replace(\"'\", '').strip()\n",
    "\n",
    "                if nm in logtab.colnames:\n",
    "                    items[nm] = data\n",
    "        logtab.add_row(items)\n",
    "\n",
    "    accumulated_lines = None\n",
    "    if isinstance(logs, basestring):\n",
    "        with open(logs) as f:\n",
    "            loglines = list(f)\n",
    "    else:\n",
    "        loglines = logs\n",
    "\n",
    "    for l in loglines:\n",
    "        if l.startswith('# HDU'):\n",
    "            if accumulated_lines is not None:\n",
    "                add_logcol(accumulated_lines)\n",
    "            accumulated_lines = [l]\n",
    "\n",
    "        elif l.strip() == '':\n",
    "            continue\n",
    "        elif accumulated_lines is not None:\n",
    "            accumulated_lines.append(l)\n",
    "    return logtab"
   ]
  },
  {
   "cell_type": "code",
   "execution_count": 14,
   "metadata": {
    "collapsed": true
   },
   "outputs": [],
   "source": [
    "sshtarget = 'visitor3@aatlxa'"
   ]
  },
  {
   "cell_type": "markdown",
   "metadata": {},
   "source": [
    "## Night 1 "
   ]
  },
  {
   "cell_type": "markdown",
   "metadata": {},
   "source": [
    "## Generate configuration field files "
   ]
  },
  {
   "cell_type": "code",
   "execution_count": 267,
   "metadata": {
    "collapsed": false
   },
   "outputs": [
    {
     "name": "stdout",
     "output_type": "stream",
     "text": [
      "Writing aat_targets_jul2016/Dune_1.fld from master aat_targets_jul2016/Dune_master.fld\n",
      "Total remaining in each priority (5 fluxes, 30 guides, and 94 skies not included):\n",
      "{1: 3812, 2: 1136, 3: 407, 4: 182, 5: 125, 6: 156, 7: 81, 8: 0, 9: 0}\n",
      "{1: 100.0, 2: 100.0, 3: 100.0, 4: 100.0, 5: 100.0, 6: 100.0, 7: 100.0, 8: None, 9: None}%\n",
      "Dune_1.fld                                    100%   99KB  98.5KB/s   00:00    \n"
     ]
    }
   ],
   "source": [
    "fnconfig = do_subsampling(hsd['Dune'], 1, {1:100, 2:100, 3:300})\n",
    "!scp $fnconfig \"$sshtarget:configure/\""
   ]
  },
  {
   "cell_type": "code",
   "execution_count": 268,
   "metadata": {
    "collapsed": false
   },
   "outputs": [
    {
     "name": "stdout",
     "output_type": "stream",
     "text": [
      "Writing aat_targets_jul2016/Odyssey_1.fld from master aat_targets_jul2016/Odyssey_master.fld\n",
      "Total remaining in each priority (5 fluxes, 30 guides, and 92 skies not included):\n",
      "{1: 1847, 2: 676, 3: 550, 4: 3, 5: 1, 6: 24, 7: 14, 8: 0, 9: 0}\n",
      "{1: 100.0, 2: 100.0, 3: 100.0, 4: 100.0, 5: 100.0, 6: 100.0, 7: 100.0, 8: None, 9: None}%\n",
      "Odyssey_1.fld                                 100%   73KB  72.7KB/s   00:00    \n"
     ]
    }
   ],
   "source": [
    "fnconfig = do_subsampling(hsd['Odyssey'], 1, {1:200, 2:200, 3:300})\n",
    "!scp $fnconfig \"$sshtarget:configure/\""
   ]
  },
  {
   "cell_type": "code",
   "execution_count": 269,
   "metadata": {
    "collapsed": false
   },
   "outputs": [
    {
     "name": "stdout",
     "output_type": "stream",
     "text": [
      "Writing aat_targets_jul2016/OBrother_1.fld from master aat_targets_jul2016/OBrother_master.fld\n",
      "Total remaining in each priority (5 fluxes, 30 guides, and 95 skies not included):\n",
      "{1: 2080, 2: 625, 3: 464, 4: 35, 5: 106, 6: 255, 7: 221, 8: 0, 9: 0}\n",
      "{1: 100.0, 2: 100.0, 3: 100.0, 4: 100.0, 5: 100.0, 6: 100.0, 7: 100.0, 8: None, 9: None}%\n",
      "OBrother_1.fld                                100%  105KB 105.0KB/s   00:00    \n"
     ]
    }
   ],
   "source": [
    "fnconfig = do_subsampling(hsd['OBrother'], 1, {1:100, 2:100, 3:300})\n",
    "!scp $fnconfig \"$sshtarget:configure/\""
   ]
  },
  {
   "cell_type": "code",
   "execution_count": 270,
   "metadata": {
    "collapsed": false
   },
   "outputs": [
    {
     "name": "stdout",
     "output_type": "stream",
     "text": [
      "Writing aat_targets_jul2016/Catch22_1.fld from master aat_targets_jul2016/Catch22_master.fld\n",
      "Total remaining in each priority (5 fluxes, 30 guides, and 89 skies not included):\n",
      "{1: 2976, 2: 752, 3: 429, 4: 64, 5: 119, 6: 525, 7: 285, 8: 0, 9: 0}\n",
      "{1: 100.0, 2: 100.0, 3: 100.0, 4: 100.0, 5: 100.0, 6: 100.0, 7: 100.0, 8: None, 9: None}%\n",
      "Catch22_1.fld                                 100%  116KB 115.8KB/s   00:00    \n"
     ]
    }
   ],
   "source": [
    "fnconfig = do_subsampling(hsd['Catch22'], 1, {1:100, 2:50, 3:100})\n",
    "!scp $fnconfig \"$sshtarget:configure/\""
   ]
  },
  {
   "cell_type": "code",
   "execution_count": 509,
   "metadata": {
    "collapsed": false
   },
   "outputs": [
    {
     "name": "stdout",
     "output_type": "stream",
     "text": [
      "Writing aat_targets_jul2016/AnaK_1.fld from master aat_targets_jul2016/AnaK_master.fld\n",
      "Total remaining in each priority (5 fluxes, 30 guides, and 96 skies not included):\n",
      "{1: 2710, 2: 720, 3: 410, 4: 50, 5: 107, 6: 108, 7: 39, 8: 0, 9: 2}\n",
      "{1: 100.0, 2: 100.0, 3: 100.0, 4: 100.0, 5: 100.0, 6: 100.0, 7: 100.0, 8: None, 9: 100.0}%\n",
      "AnaK_1.fld                                    100%   78KB  77.7KB/s   00:00    \n"
     ]
    }
   ],
   "source": [
    "fnconfig = do_subsampling(hsd['AnaK'], 1, {1:100, 2:100, 3:300})\n",
    "!scp $fnconfig \"$sshtarget:configure/\""
   ]
  },
  {
   "cell_type": "markdown",
   "metadata": {},
   "source": [
    "## Make observing log "
   ]
  },
  {
   "cell_type": "code",
   "execution_count": 547,
   "metadata": {
    "collapsed": false
   },
   "outputs": [],
   "source": [
    "# use this to get the log data from the remote machine\n",
    "rem_fitsheader_loc = '/home/visitor3/miniconda2/bin/fitsheader'\n",
    "datadir = '/data_lxy/aatobs/OptDet_data/160728'\n",
    "fitsheader_output = !ssh $sshtarget \"$rem_fitsheader_loc $datadir/ccd_?/*.fits\""
   ]
  },
  {
   "cell_type": "code",
   "execution_count": 783,
   "metadata": {
    "collapsed": true
   },
   "outputs": [],
   "source": [
    "# use this to use the local file to make the log\n",
    "fitsheader_output = !fitsheader aat_data/28jul2016/ccd_?/*.fits"
   ]
  },
  {
   "cell_type": "code",
   "execution_count": 784,
   "metadata": {
    "collapsed": false,
    "scrolled": false
   },
   "outputs": [
    {
     "data": {
      "text/html": [
       "&lt;Table length=53&gt;\n",
       "<table id=\"table5476983504-467260\" class=\"table-striped table-bordered table-condensed\">\n",
       "<thead><tr><th>idx</th><th>num</th><th>ccd</th><th>UTDATE</th><th>UTSTART</th><th>OBJECT</th><th>TOTALEXP</th><th>RUNCMD</th><th>GRATID</th><th>SOURCE</th><th>MEANRA</th><th>MEANDEC</th><th>CFG_FILE</th></tr></thead>\n",
       "<tr><td>0</td><td>10001</td><td>1</td><td>2016:07:28</td><td>04:24:40</td><td>Bias Frame</td><td>0.</td><td>BIAS</td><td>580V</td><td>plate 1</td><td>161.315178574</td><td>-31.188541979</td><td>Tuc3_Field2_250716_p1.sds</td></tr>\n",
       "<tr><td>1</td><td>10002</td><td>1</td><td>2016:07:28</td><td>04:26:47</td><td>Bias Frame</td><td>0.</td><td>BIAS</td><td>580V</td><td>plate 1</td><td>161.844691627</td><td>-31.1880858615</td><td>Tuc3_Field2_250716_p1.sds</td></tr>\n",
       "<tr><td>2</td><td>10003</td><td>1</td><td>2016:07:28</td><td>04:28:54</td><td>Bias Frame</td><td>0.</td><td>BIAS</td><td>580V</td><td>plate 1</td><td>162.372855483</td><td>-31.1877663493</td><td>Tuc3_Field2_250716_p1.sds</td></tr>\n",
       "<tr><td>3</td><td>10004</td><td>1</td><td>2016:07:28</td><td>04:31:01</td><td>Bias Frame</td><td>0.</td><td>BIAS</td><td>580V</td><td>plate 1</td><td>162.905072975</td><td>-31.1874874032</td><td>Tuc3_Field2_250716_p1.sds</td></tr>\n",
       "<tr><td>4</td><td>10005</td><td>1</td><td>2016:07:28</td><td>04:33:08</td><td>Bias Frame</td><td>0.</td><td>BIAS</td><td>580V</td><td>plate 1</td><td>163.433348547</td><td>-31.187233356</td><td>Tuc3_Field2_250716_p1.sds</td></tr>\n",
       "<tr><td>5</td><td>10006</td><td>1</td><td>2016:07:28</td><td>04:35:15</td><td>Bias Frame</td><td>0.</td><td>BIAS</td><td>580V</td><td>plate 1</td><td>163.965092743</td><td>-31.1869906114</td><td>Tuc3_Field2_250716_p1.sds</td></tr>\n",
       "<tr><td>6</td><td>10007</td><td>1</td><td>2016:07:28</td><td>04:37:22</td><td>Bias Frame</td><td>0.</td><td>BIAS</td><td>580V</td><td>plate 1</td><td>164.495413023</td><td>-31.186757729</td><td>Tuc3_Field2_250716_p1.sds</td></tr>\n",
       "<tr><td>7</td><td>10008</td><td>1</td><td>2016:07:28</td><td>04:39:29</td><td>Bias Frame</td><td>0.</td><td>BIAS</td><td>580V</td><td>plate 1</td><td>165.024224867</td><td>-31.1865336466</td><td>Tuc3_Field2_250716_p1.sds</td></tr>\n",
       "<tr><td>8</td><td>10009</td><td>1</td><td>2016:07:28</td><td>04:41:36</td><td>Bias Frame</td><td>0.</td><td>BIAS</td><td>580V</td><td>plate 1</td><td>165.553667785</td><td>-31.186318408</td><td>Tuc3_Field2_250716_p1.sds</td></tr>\n",
       "<tr><td>9</td><td>10010</td><td>1</td><td>2016:07:28</td><td>04:43:43</td><td>Bias Frame</td><td>0.</td><td>BIAS</td><td>580V</td><td>plate 1</td><td>166.084767639</td><td>-31.1861112497</td><td>Tuc3_Field2_250716_p1.sds</td></tr>\n",
       "<tr><td>10</td><td>10011</td><td>1</td><td>2016:07:28</td><td>06:53:41</td><td>Dome Flat</td><td>200.</td><td>SKY</td><td>580V</td><td>plate 0</td><td>198.629293892</td><td>-31.1891470177</td><td>Dune_1_p0.sds</td></tr>\n",
       "<tr><td>11</td><td>10012</td><td>1</td><td>2016:07:28</td><td>07:03:39</td><td>Dome Flat</td><td>40.</td><td>SKY</td><td>580V</td><td>plate 0</td><td>201.128039399</td><td>-31.1904086269</td><td>Dune_1_p0.sds</td></tr>\n",
       "<tr><td>12</td><td>10013</td><td>1</td><td>2016:07:28</td><td>08:16:49</td><td>Fibre Flat Field - Quartz_75_A</td><td>4.</td><td>FLAT</td><td>580V</td><td>plate 0</td><td>221.546584806</td><td>-0.225285497888</td><td>Dune_1_p0.sds</td></tr>\n",
       "<tr><td>13</td><td>10014</td><td>1</td><td>2016:07:28</td><td>08:19:20</td><td>Fibre Flat Field - Quartz_75_A</td><td>25.</td><td>FLAT</td><td>580V</td><td>plate 0</td><td>221.546577361</td><td>-0.225258731989</td><td>Dune_1_p0.sds</td></tr>\n",
       "<tr><td>14</td><td>10015</td><td>1</td><td>2016:07:28</td><td>08:22:10</td><td>ARC - FeAr_1 FeAr_2 CuAr_1 CuAr_2 CuHe_1 CuNe_1</td><td>60.</td><td>ARC</td><td>580V</td><td>plate 0</td><td>221.546585334</td><td>-0.225279952029</td><td>Dune_1_p0.sds</td></tr>\n",
       "<tr><td>15</td><td>10016</td><td>1</td><td>2016:07:28</td><td>08:35:23</td><td>Dune 1</td><td>1920.</td><td>RUN</td><td>580V</td><td>plate 0</td><td>221.546967468</td><td>-0.224803834175</td><td>Dune_1_p0.sds</td></tr>\n",
       "<tr><td>16</td><td>10017</td><td>1</td><td>2016:07:28</td><td>09:09:29</td><td>Dune 1</td><td>1920.</td><td>RUN</td><td>580V</td><td>plate 0</td><td>221.547061727</td><td>-0.22473431261</td><td>Dune_1_p0.sds</td></tr>\n",
       "<tr><td>17</td><td>10018</td><td>1</td><td>2016:07:28</td><td>09:43:36</td><td>Dune 1</td><td>1920.</td><td>RUN</td><td>580V</td><td>plate 0</td><td>221.547286663</td><td>-0.224662429939</td><td>Dune_1_p0.sds</td></tr>\n",
       "<tr><td>18</td><td>10019</td><td>1</td><td>2016:07:28</td><td>10:17:42</td><td>Dune 1</td><td>1920.</td><td>RUN</td><td>580V</td><td>plate 0</td><td>221.547402929</td><td>-0.224821801039</td><td>Dune_1_p0.sds</td></tr>\n",
       "<tr><td>19</td><td>10020</td><td>1</td><td>2016:07:28</td><td>10:51:48</td><td>Dune 1</td><td>1920.</td><td>RUN</td><td>580V</td><td>plate 0</td><td>221.547189013</td><td>-0.224377422186</td><td>Dune_1_p0.sds</td></tr>\n",
       "<tr><td>20</td><td>10021</td><td>1</td><td>2016:07:28</td><td>11:27:27</td><td>Odyssey 1</td><td>1200.</td><td>RUN</td><td>580V</td><td>plate 1</td><td>248.088712834</td><td>19.8263534352</td><td>Odyssey_1_p1.sds</td></tr>\n",
       "<tr><td>21</td><td>10022</td><td>1</td><td>2016:07:28</td><td>11:49:34</td><td>Odyssey 1</td><td>1200.</td><td>RUN</td><td>580V</td><td>plate 1</td><td>248.08885707</td><td>19.826127344</td><td>Odyssey_1_p1.sds</td></tr>\n",
       "<tr><td>22</td><td>10023</td><td>1</td><td>2016:07:28</td><td>12:11:40</td><td>Odyssey 1</td><td>1200.</td><td>RUN</td><td>580V</td><td>plate 1</td><td>248.089191709</td><td>19.826023821</td><td>Odyssey_1_p1.sds</td></tr>\n",
       "<tr><td>23</td><td>10024</td><td>1</td><td>2016:07:28</td><td>12:33:46</td><td>Odyssey 1</td><td>1200.</td><td>RUN</td><td>580V</td><td>plate 1</td><td>248.088374719</td><td>19.8263966741</td><td>Odyssey_1_p1.sds</td></tr>\n",
       "<tr><td>24</td><td>10025</td><td>1</td><td>2016:07:28</td><td>12:56:21</td><td>Fibre Flat Field - Quartz_75_A</td><td>4.</td><td>FLAT</td><td>580V</td><td>plate 1</td><td>248.088574224</td><td>19.8263688217</td><td>Odyssey_1_p1.sds</td></tr>\n",
       "<tr><td>25</td><td>10026</td><td>1</td><td>2016:07:28</td><td>12:58:45</td><td>Fibre Flat Field - Quartz_75_A</td><td>25.</td><td>FLAT</td><td>580V</td><td>plate 1</td><td>248.088573013</td><td>19.8263640276</td><td>Odyssey_1_p1.sds</td></tr>\n",
       "<tr><td>26</td><td>10027</td><td>1</td><td>2016:07:28</td><td>13:01:31</td><td>ARC - FeAr_1 FeAr_2 CuAr_1 CuAr_2 CuHe_1 CuNe_1</td><td>60.</td><td>ARC</td><td>580V</td><td>plate 1</td><td>248.088542207</td><td>19.8263591926</td><td>Odyssey_1_p1.sds</td></tr>\n",
       "<tr><td>27</td><td>10028</td><td>1</td><td>2016:07:28</td><td>13:07:26</td><td>Fibre Flat Field - Quartz_75_A</td><td>4.</td><td>FLAT</td><td>580V</td><td>plate 0</td><td>335.912779267</td><td>-3.43312646888</td><td>OBrother_1_p0.sds</td></tr>\n",
       "<tr><td>28</td><td>10029</td><td>1</td><td>2016:07:28</td><td>13:09:47</td><td>Fibre Flat Field - Quartz_75_A</td><td>25.</td><td>FLAT</td><td>580V</td><td>plate 0</td><td>335.912756284</td><td>-3.43314999649</td><td>OBrother_1_p0.sds</td></tr>\n",
       "<tr><td>29</td><td>10030</td><td>1</td><td>2016:07:28</td><td>13:12:29</td><td>ARC - FeAr_1 FeAr_2 CuAr_1 CuAr_2 CuHe_1 CuNe_1</td><td>60.</td><td>ARC</td><td>580V</td><td>plate 0</td><td>335.912783743</td><td>-3.43313708535</td><td>OBrother_1_p0.sds</td></tr>\n",
       "<tr><td>30</td><td>10031</td><td>1</td><td>2016:07:28</td><td>13:16:17</td><td>OBrother 1</td><td>1950.</td><td>RUN</td><td>580V</td><td>plate 0</td><td>335.912776903</td><td>-3.43298517483</td><td>OBrother_1_p0.sds</td></tr>\n",
       "<tr><td>31</td><td>10032</td><td>1</td><td>2016:07:28</td><td>13:51:02</td><td>OBrother 1</td><td>1950.</td><td>RUN</td><td>580V</td><td>plate 0</td><td>335.912888327</td><td>-3.43326163603</td><td>OBrother_1_p0.sds</td></tr>\n",
       "<tr><td>32</td><td>10033</td><td>1</td><td>2016:07:28</td><td>14:25:38</td><td>OBrother 1</td><td>1950.</td><td>RUN</td><td>580V</td><td>plate 0</td><td>335.91349634</td><td>-3.43334896213</td><td>OBrother_1_p0.sds</td></tr>\n",
       "<tr><td>33</td><td>10034</td><td>1</td><td>2016:07:28</td><td>15:00:14</td><td>OBrother 1</td><td>1950.</td><td>RUN</td><td>580V</td><td>plate 0</td><td>335.913464151</td><td>-3.43340742605</td><td>OBrother_1_p0.sds</td></tr>\n",
       "<tr><td>34</td><td>10035</td><td>1</td><td>2016:07:28</td><td>15:34:56</td><td>OBrother 1</td><td>1950.</td><td>RUN</td><td>580V</td><td>plate 0</td><td>335.913355755</td><td>-3.433695392</td><td>OBrother_1_p0.sds</td></tr>\n",
       "<tr><td>35</td><td>10036</td><td>1</td><td>2016:07:28</td><td>16:11:59</td><td>Catch22 1</td><td>1800.</td><td>RUN</td><td>580V</td><td>plate 1</td><td>348.683744385</td><td>4.53400159438</td><td>Catch22_1_p1.sds</td></tr>\n",
       "<tr><td>36</td><td>10037</td><td>1</td><td>2016:07:28</td><td>16:44:12</td><td>Catch22 1</td><td>1800.</td><td>RUN</td><td>580V</td><td>plate 1</td><td>348.684351104</td><td>4.53395262442</td><td>Catch22_1_p1.sds</td></tr>\n",
       "<tr><td>37</td><td>10038</td><td>1</td><td>2016:07:28</td><td>17:16:18</td><td>Catch22 1</td><td>1800.</td><td>RUN</td><td>580V</td><td>plate 1</td><td>348.684639902</td><td>4.53400871049</td><td>Catch22_1_p1.sds</td></tr>\n",
       "<tr><td>38</td><td>10039</td><td>1</td><td>2016:07:28</td><td>17:48:24</td><td>Catch22 1</td><td>1800.</td><td>RUN</td><td>580V</td><td>plate 1</td><td>348.684837143</td><td>4.53405837773</td><td>Catch22_1_p1.sds</td></tr>\n",
       "<tr><td>39</td><td>10040</td><td>1</td><td>2016:07:28</td><td>18:20:31</td><td>Catch22 1</td><td>1800.</td><td>RUN</td><td>580V</td><td>plate 1</td><td>348.684773649</td><td>4.53408317222</td><td>Catch22_1_p1.sds</td></tr>\n",
       "<tr><td>40</td><td>10041</td><td>1</td><td>2016:07:28</td><td>18:53:03</td><td>Fibre Flat Field - Quartz_75_A</td><td>4.</td><td>FLAT</td><td>580V</td><td>plate 1</td><td>348.684818352</td><td>4.53409986369</td><td>Catch22_1_p1.sds</td></tr>\n",
       "<tr><td>41</td><td>10042</td><td>1</td><td>2016:07:28</td><td>18:55:22</td><td>Fibre Flat Field - Quartz_75_A</td><td>25.</td><td>FLAT</td><td>580V</td><td>plate 1</td><td>348.684822557</td><td>4.53409757865</td><td>Catch22_1_p1.sds</td></tr>\n",
       "<tr><td>42</td><td>10043</td><td>1</td><td>2016:07:28</td><td>18:58:06</td><td>ARC - FeAr_1 FeAr_2 CuAr_1 CuAr_2 CuHe_1 CuNe_1</td><td>45.</td><td>ARC</td><td>580V</td><td>plate 1</td><td>348.68483881</td><td>4.53409485667</td><td>Catch22_1_p1.sds</td></tr>\n",
       "<tr><td>43</td><td>10044</td><td>1</td><td>2016:07:28</td><td>19:02:31</td><td>AnaK 1</td><td>1200.</td><td>RUN</td><td>580V</td><td>plate 0</td><td>354.131207149</td><td>0.295832286362</td><td>AnaK_1_p0.sds</td></tr>\n",
       "<tr><td>44</td><td>10045</td><td>1</td><td>2016:07:28</td><td>19:24:38</td><td>AnaK 1</td><td>1200.</td><td>RUN</td><td>580V</td><td>plate 0</td><td>354.131608885</td><td>0.295798803758</td><td>AnaK_1_p0.sds</td></tr>\n",
       "<tr><td>45</td><td>10046</td><td>1</td><td>2016:07:28</td><td>19:47:18</td><td>Fibre Flat Field - Quartz_75_A</td><td>4.</td><td>FLAT</td><td>580V</td><td>plate 0</td><td>354.131680951</td><td>0.295909530757</td><td>AnaK_1_p0.sds</td></tr>\n",
       "<tr><td>46</td><td>10047</td><td>1</td><td>2016:07:28</td><td>19:49:40</td><td>Fibre Flat Field - Quartz_75_A</td><td>25.</td><td>FLAT</td><td>580V</td><td>plate 0</td><td>354.131708839</td><td>0.295929731474</td><td>AnaK_1_p0.sds</td></tr>\n",
       "<tr><td>47</td><td>10048</td><td>1</td><td>2016:07:28</td><td>19:52:25</td><td>ARC - FeAr_1 FeAr_2 CuAr_1 CuAr_2 CuHe_1 CuNe_1</td><td>60.</td><td>ARC</td><td>580V</td><td>plate 0</td><td>354.131693132</td><td>0.295961048871</td><td>AnaK_1_p0.sds</td></tr>\n",
       "<tr><td>48</td><td>10049</td><td>1</td><td>2016:07:28</td><td>19:58:15</td><td>Dark Frame</td><td>0.</td><td>DARK</td><td>580V</td><td>plate 0</td><td>11.0305379368</td><td>-18.0415742377</td><td>AnaK_1_p0.sds</td></tr>\n",
       "<tr><td>49</td><td>10050</td><td>1</td><td>2016:07:28</td><td>20:30:21</td><td>Dark Frame</td><td>0.</td><td>DARK</td><td>580V</td><td>plate 0</td><td>43.4135358227</td><td>-31.3454989091</td><td>AnaK_1_p0.sds</td></tr>\n",
       "<tr><td>50</td><td>10051</td><td>1</td><td>2016:07:28</td><td>21:02:27</td><td>Dark Frame</td><td>0.</td><td>DARK</td><td>580V</td><td>plate 0</td><td>51.4668394867</td><td>-31.3355563821</td><td>AnaK_1_p0.sds</td></tr>\n",
       "<tr><td>51</td><td>10052</td><td>1</td><td>2016:07:28</td><td>21:34:33</td><td>Dark Frame</td><td>0.</td><td>DARK</td><td>580V</td><td>plate 0</td><td>59.5195771237</td><td>-31.3245619395</td><td>AnaK_1_p0.sds</td></tr>\n",
       "<tr><td>52</td><td>10053</td><td>1</td><td>2016:07:28</td><td>22:06:39</td><td>Dark Frame</td><td>0.</td><td>DARK</td><td>580V</td><td>plate 0</td><td>67.5718793838</td><td>-31.3126540109</td><td>AnaK_1_p0.sds</td></tr>\n",
       "</table><style>table.dataTable {clear: both; width: auto !important; margin: 0 !important;}\n",
       ".dataTables_info, .dataTables_length, .dataTables_filter, .dataTables_paginate{\n",
       "display: inline-block; margin-right: 1em; }\n",
       ".paginate_button { margin-right: 5px; }\n",
       "</style>\n",
       "<script>\n",
       "require.config({paths: {\n",
       "    datatables: 'https://cdn.datatables.net/1.10.9/js/jquery.dataTables.min'\n",
       "}});\n",
       "require([\"datatables\"], function(){\n",
       "    console.log(\"$('#table5476983504-467260').dataTable()\");\n",
       "    $('#table5476983504-467260').dataTable({\n",
       "        \"order\": [],\n",
       "        \"iDisplayLength\": 20,\n",
       "        \"aLengthMenu\": [[20, 10, 25, 50, 100, 500, 1000, -1], [20, 10, 25, 50, 100, 500, 1000, 'All']],\n",
       "        \"pagingType\": \"full_numbers\"\n",
       "    });\n",
       "});\n",
       "</script>\n"
      ],
      "text/plain": [
       "<IPython.core.display.HTML object>"
      ]
     },
     "execution_count": 784,
     "metadata": {},
     "output_type": "execute_result"
    }
   ],
   "source": [
    "logtab = make_logtab(fitsheader_output, skip_res=['.*temp.*'])\n",
    "logtab[logtab['ccd']==1].show_in_notebook(display_length=20)"
   ]
  },
  {
   "cell_type": "code",
   "execution_count": 785,
   "metadata": {
    "collapsed": false
   },
   "outputs": [
    {
     "data": {
      "text/markdown": [
       "* At start of night weather clear, but high humidity and possible fog\n",
       "* The Dune_1 observations have the blue side centered 20 angstroms further to the red than the remaining observations.  The initial setup provides a bit more overlap but after inspecting a bit we concluded that it would be better to try to make sure 3727 falls into the image at the blue side\n",
       "* start of Dune_1 : seeing ~1.5-2\"\n",
       "* start of Odyssey_1 : seeing ~2-3\"\n",
       "* start of OBrother_1: seeing ~4-5\"\n",
       "* near end of OBrother_1: seeing ~2.5\". Sudden improvement in weather, humidity fell/fog disappeared, \n",
       "* start of Catch22_1: seeing ~3\"\n",
       "* start of AnaK_1: seeing ~1.9\""
      ],
      "text/plain": [
       "<IPython.core.display.Markdown object>"
      ]
     },
     "execution_count": 785,
     "metadata": {},
     "output_type": "execute_result"
    }
   ],
   "source": [
    "comments_jul28 = \"\"\"\n",
    "* At start of night weather clear, but high humidity and possible fog\n",
    "* The Dune_1 observations have the blue side centered 20 angstroms further to the red than the remaining \n",
    "  observations.  The initial setup provides a bit more overlap but after inspecting a bit we concluded that it \n",
    "  would be better to tryto make sure 3727 falls into the image at the blue side\n",
    "* start of Dune_1 : seeing ~1.5-2\"\n",
    "* start of Odyssey_1 : seeing ~2-3\"\n",
    "* start of OBrother_1: seeing ~4-5\"\n",
    "* near end of OBrother_1: seeing ~2.5\". Sudden improvement in weather, humidity fell/fog disappeared, \n",
    "* start of Catch22_1: seeing ~3\"\n",
    "* start of AnaK_1: seeing ~1.9\"\n",
    "\"\"\"[1:-1]\n",
    "display.Markdown(comments_jul28)"
   ]
  },
  {
   "cell_type": "code",
   "execution_count": 787,
   "metadata": {
    "collapsed": true
   },
   "outputs": [],
   "source": [
    "logfn = 'aat_data/28jul2016/log_jul28'\n",
    "\n",
    "logtab.write(logfn,format='ascii')\n",
    "with open(logfn, 'a') as f:\n",
    "    f.write('\\nComments:\\n')\n",
    "    f.write(comments_jul28)"
   ]
  },
  {
   "cell_type": "markdown",
   "metadata": {},
   "source": [
    "# Night 2 "
   ]
  },
  {
   "cell_type": "markdown",
   "metadata": {},
   "source": [
    "Note: master catalogs changed due to Risa's custom targets, so some added pri=9 objects appear even in repeats"
   ]
  },
  {
   "cell_type": "code",
   "execution_count": 587,
   "metadata": {
    "collapsed": false
   },
   "outputs": [
    {
     "name": "stdout",
     "output_type": "stream",
     "text": [
      "Writing aat_targets_jul2016/Dune_2.fld from master aat_targets_jul2016/Dune_master.fld\n",
      "Kept the following fibers in due to zltabkeepfunc: []\n",
      "Found 353 objects to remove in aat_targets_jul2016/Dune_1_p0.lis\n",
      "Total remaining in each priority (5 fluxes, 30 guides, and 94 skies not included):\n",
      "{1: 3812, 2: 1136, 3: 407, 4: 155, 5: 17, 6: 11, 7: 8, 8: 0, 9: 0}\n",
      "{1: 100.0, 2: 100.0, 3: 100.0, 4: 85.16483516483517, 5: 13.6, 6: 7.051282051282051, 7: 9.876543209876543, 8: None, 9: None}%\n",
      "Dune_2.fld                                    100%   67KB  67.5KB/s   00:00    \n"
     ]
    }
   ],
   "source": [
    "fnconfig = do_subsampling(hsd['Dune'], 2, {1:100, 2:100, 3:300})\n",
    "!scp $fnconfig \"$sshtarget:configure/\""
   ]
  },
  {
   "cell_type": "code",
   "execution_count": 588,
   "metadata": {
    "collapsed": false
   },
   "outputs": [
    {
     "name": "stdout",
     "output_type": "stream",
     "text": [
      "Writing aat_targets_jul2016/Gilgamesh_1.fld from master aat_targets_jul2016/Gilgamesh_master.fld\n",
      "Total remaining in each priority (5 fluxes, 30 guides, and 98 skies not included):\n",
      "{1: 3785, 2: 941, 3: 444, 4: 44, 5: 68, 6: 53, 7: 31, 8: 0, 9: 0}\n",
      "{1: 100.0, 2: 100.0, 3: 100.0, 4: 100.0, 5: 100.0, 6: 100.0, 7: 100.0, 8: None, 9: None}%\n",
      "Gilgamesh_1.fld                               100%   69KB  68.9KB/s   00:00    \n"
     ]
    }
   ],
   "source": [
    "fnconfig = do_subsampling(hsd['Gilgamesh'], 1, {1:100, 2:100, 3:300})\n",
    "!scp $fnconfig \"$sshtarget:configure/\""
   ]
  },
  {
   "cell_type": "code",
   "execution_count": 770,
   "metadata": {
    "collapsed": false
   },
   "outputs": [
    {
     "name": "stdout",
     "output_type": "stream",
     "text": [
      "Writing aat_targets_jul2016/OBrother_2.fld from master aat_targets_jul2016/OBrother_master.fld\n",
      "Kept the following fibers in due to zltabkeepfunc: []\n",
      "Found 353 objects to remove in aat_targets_jul2016/OBrother_1_p0.lis\n",
      "Total remaining in each priority (5 fluxes, 30 guides, and 95 skies not included):\n",
      "{1: 2080, 2: 625, 3: 463, 4: 35, 5: 95, 6: 109, 7: 24, 8: 0, 9: 2}\n",
      "{1: 100.0, 2: 100.0, 3: 99.78448275862068, 4: 100.0, 5: 89.62264150943396, 6: 44.48979591836735, 7: 11.059907834101383, 8: None, 9: 14.285714285714286}%\n",
      "OBrother_2.fld                                100%   74KB  74.0KB/s   00:00    \n"
     ]
    }
   ],
   "source": [
    "fnconfig = do_subsampling(hsd['OBrother'], 2, {1:100, 2:100, 3:300})\n",
    "!scp $fnconfig \"$sshtarget:configure/\""
   ]
  },
  {
   "cell_type": "code",
   "execution_count": 778,
   "metadata": {
    "collapsed": false
   },
   "outputs": [
    {
     "name": "stdout",
     "output_type": "stream",
     "text": [
      "Writing aat_targets_jul2016/Catch22_2.fld from master aat_targets_jul2016/Catch22_master.fld\n",
      "Kept the following fibers in due to zltabkeepfunc: []\n",
      "Found 351 objects to remove in aat_targets_jul2016/Catch22_1_p1.lis\n",
      "Total remaining in each priority (5 fluxes, 30 guides, and 89 skies not included):\n",
      "{1: 2976, 2: 752, 3: 429, 4: 64, 5: 119, 6: 413, 7: 39, 8: 0, 9: 7}\n",
      "{1: 100.0, 2: 100.0, 3: 100.0, 4: 100.0, 5: 100.0, 6: 79.88394584139265, 7: 14.444444444444445, 8: None, 9: 30.434782608695652}%\n",
      "Catch22_2.fld                                 100%   89KB  89.3KB/s   00:00    \n"
     ]
    }
   ],
   "source": [
    "fnconfig = do_subsampling(hsd['Catch22'], 2, {1:50, 2:50, 3:200})\n",
    "!scp $fnconfig \"$sshtarget:configure/\""
   ]
  },
  {
   "cell_type": "code",
   "execution_count": 24,
   "metadata": {
    "collapsed": false
   },
   "outputs": [
    {
     "name": "stdout",
     "output_type": "stream",
     "text": [
      "Writing aat_targets_jul2016/Narnia_1.fld from master aat_targets_jul2016/Narnia_master.fld\n",
      "Total remaining in each priority (5 fluxes, 30 guides, and 98 skies not included):\n",
      "{1: 2728, 2: 655, 3: 405, 4: 97, 5: 145, 6: 313, 7: 191, 8: 0, 9: 0}\n",
      "{1: 100.0, 2: 100.0, 3: 100.0, 4: 100.0, 5: 100.0, 6: 100.0, 7: 100.0, 8: None, 9: None}%\n",
      "Narnia_1.fld                                  100%  115KB 115.1KB/s   00:00    \n"
     ]
    }
   ],
   "source": [
    "fnconfig = do_subsampling(hsd['Narnia'], 1, {1:100, 2:100, 3:300})\n",
    "!scp $fnconfig \"$sshtarget:configure/\""
   ]
  },
  {
   "cell_type": "markdown",
   "metadata": {},
   "source": [
    "## Make observing log "
   ]
  },
  {
   "cell_type": "code",
   "execution_count": 145,
   "metadata": {
    "collapsed": true
   },
   "outputs": [],
   "source": [
    "# use this to use the local file to make the log\n",
    "fitsheader_output = !fitsheader aat_data/29jul2016/ccd_?/*.fits"
   ]
  },
  {
   "cell_type": "code",
   "execution_count": 146,
   "metadata": {
    "collapsed": false,
    "scrolled": true
   },
   "outputs": [
    {
     "data": {
      "text/html": [
       "&lt;Table length=59&gt;\n",
       "<table id=\"table6011671248-588094\" class=\"table-striped table-bordered table-condensed\">\n",
       "<thead><tr><th>idx</th><th>num</th><th>ccd</th><th>UTDATE</th><th>UTSTART</th><th>OBJECT</th><th>TOTALEXP</th><th>RUNCMD</th><th>GRATID</th><th>SOURCE</th><th>MEANRA</th><th>MEANDEC</th><th>CFG_FILE</th></tr></thead>\n",
       "<tr><td>0</td><td>10001</td><td>1</td><td>2016:07:29</td><td>02:23:29</td><td>Bias Frame</td><td>0.</td><td>BIAS</td><td>580V</td><td>plate 0</td><td>131.945030492</td><td>-31.2139446262</td><td>AnaK_1_p0.sds</td></tr>\n",
       "<tr><td>1</td><td>10002</td><td>1</td><td>2016:07:29</td><td>02:25:36</td><td>Bias Frame</td><td>0.</td><td>BIAS</td><td>580V</td><td>plate 0</td><td>132.475100885</td><td>-31.2133058505</td><td>AnaK_1_p0.sds</td></tr>\n",
       "<tr><td>2</td><td>10003</td><td>1</td><td>2016:07:29</td><td>02:27:42</td><td>Bias Frame</td><td>0.</td><td>BIAS</td><td>580V</td><td>plate 0</td><td>133.002201067</td><td>-31.2126755312</td><td>AnaK_1_p0.sds</td></tr>\n",
       "<tr><td>3</td><td>10004</td><td>1</td><td>2016:07:29</td><td>02:29:49</td><td>Bias Frame</td><td>0.</td><td>BIAS</td><td>580V</td><td>plate 0</td><td>133.529731937</td><td>-31.2120510106</td><td>AnaK_1_p0.sds</td></tr>\n",
       "<tr><td>4</td><td>10005</td><td>1</td><td>2016:07:29</td><td>02:31:56</td><td>Bias Frame</td><td>0.</td><td>BIAS</td><td>580V</td><td>plate 0</td><td>134.0616817</td><td>-31.211426516</td><td>AnaK_1_p0.sds</td></tr>\n",
       "<tr><td>5</td><td>10006</td><td>1</td><td>2016:07:29</td><td>02:34:02</td><td>Bias Frame</td><td>0.</td><td>BIAS</td><td>580V</td><td>plate 0</td><td>134.588797018</td><td>-31.2108140715</td><td>AnaK_1_p0.sds</td></tr>\n",
       "<tr><td>6</td><td>10007</td><td>1</td><td>2016:07:29</td><td>02:36:09</td><td>Bias Frame</td><td>0.</td><td>BIAS</td><td>580V</td><td>plate 0</td><td>135.116918414</td><td>-31.2102051034</td><td>AnaK_1_p0.sds</td></tr>\n",
       "<tr><td>7</td><td>10008</td><td>1</td><td>2016:07:29</td><td>02:38:16</td><td>Bias Frame</td><td>0.</td><td>BIAS</td><td>580V</td><td>plate 0</td><td>135.648107877</td><td>-31.2095992104</td><td>AnaK_1_p0.sds</td></tr>\n",
       "<tr><td>8</td><td>10009</td><td>1</td><td>2016:07:29</td><td>02:40:22</td><td>Bias Frame</td><td>0.</td><td>BIAS</td><td>580V</td><td>plate 0</td><td>136.175504116</td><td>-31.209002682</td><td>AnaK_1_p0.sds</td></tr>\n",
       "<tr><td>9</td><td>10010</td><td>1</td><td>2016:07:29</td><td>02:42:29</td><td>Bias Frame</td><td>0.</td><td>BIAS</td><td>580V</td><td>plate 0</td><td>136.703470933</td><td>-31.2084119317</td><td>AnaK_1_p0.sds</td></tr>\n",
       "<tr><td>10</td><td>10011</td><td>1</td><td>2016:07:29</td><td>06:33:01</td><td>Dome Flat</td><td>40.</td><td>SKY</td><td>580V</td><td>plate 1</td><td>194.440692084</td><td>-31.1871479295</td><td>Catch22_1_p1.sds</td></tr>\n",
       "<tr><td>11</td><td>10012</td><td>1</td><td>2016:07:29</td><td>06:37:19</td><td>Dome Flat</td><td>200.</td><td>SKY</td><td>580V</td><td>plate 1</td><td>195.517413485</td><td>-31.1876247207</td><td>Catch22_1_p1.sds</td></tr>\n",
       "<tr><td>12</td><td>10013</td><td>1</td><td>2016:07:29</td><td>07:06:19</td><td>Dome Flat</td><td>40.</td><td>SKY</td><td>580V</td><td>plate 0</td><td>202.776608026</td><td>-31.1913882339</td><td>Dune_2_p0.sds</td></tr>\n",
       "<tr><td>13</td><td>10014</td><td>1</td><td>2016:07:29</td><td>07:09:21</td><td>Dome Flat</td><td>200.</td><td>SKY</td><td>580V</td><td>plate 0</td><td>203.538003652</td><td>-31.1918935998</td><td>Dune_2_p0.sds</td></tr>\n",
       "<tr><td>14</td><td>10015</td><td>1</td><td>2016:07:29</td><td>08:16:56</td><td>Fibre Flat Field - Quartz_75_A</td><td>4.</td><td>FLAT</td><td>580V</td><td>plate 0</td><td>221.547171386</td><td>-0.224908487053</td><td>Dune_2_p0.sds</td></tr>\n",
       "<tr><td>15</td><td>10016</td><td>1</td><td>2016:07:29</td><td>08:19:17</td><td>Fibre Flat Field - Quartz_75_A</td><td>25.</td><td>FLAT</td><td>580V</td><td>plate 0</td><td>221.547187521</td><td>-0.224904074056</td><td>Dune_2_p0.sds</td></tr>\n",
       "<tr><td>16</td><td>10017</td><td>1</td><td>2016:07:29</td><td>08:24:40</td><td>ARC - FeAr_1 FeAr_2 CuAr_1 CuAr_2 CuHe_1 CuNe_1</td><td>45.</td><td>ARC</td><td>580V</td><td>plate 0</td><td>221.54720736</td><td>-0.224951441465</td><td>Dune_2_p0.sds</td></tr>\n",
       "<tr><td>17</td><td>10018</td><td>1</td><td>2016:07:29</td><td>08:28:03</td><td>ARC - FeAr_1 FeAr_2 CuAr_1 CuAr_2 CuHe_1 CuNe_1</td><td>60.</td><td>ARC</td><td>580V</td><td>plate 0</td><td>221.547172713</td><td>-0.224938701303</td><td>Dune_2_p0.sds</td></tr>\n",
       "<tr><td>18</td><td>10019</td><td>1</td><td>2016:07:29</td><td>08:33:25</td><td>Dune 2</td><td>1200.</td><td>RUN</td><td>580V</td><td>plate 0</td><td>221.547129051</td><td>-0.224496696506</td><td>Dune_2_p0.sds</td></tr>\n",
       "<tr><td>19</td><td>10020</td><td>1</td><td>2016:07:29</td><td>08:55:31</td><td>Dune 2</td><td>1200.</td><td>RUN</td><td>580V</td><td>plate 0</td><td>221.546740606</td><td>-0.224482810842</td><td>Dune_2_p0.sds</td></tr>\n",
       "<tr><td>20</td><td>10021</td><td>1</td><td>2016:07:29</td><td>09:17:37</td><td>Dune 2</td><td>1200.</td><td>RUN</td><td>580V</td><td>plate 0</td><td>221.547298589</td><td>-0.224387652715</td><td>Dune_2_p0.sds</td></tr>\n",
       "<tr><td>21</td><td>10022</td><td>1</td><td>2016:07:29</td><td>09:41:20</td><td>Fibre Flat Field - Quartz_75_A</td><td>4.</td><td>FLAT</td><td>580V</td><td>plate 1</td><td>234.132875671</td><td>16.6074982559</td><td>Gilgamesh_1_p1.sds</td></tr>\n",
       "<tr><td>22</td><td>10023</td><td>1</td><td>2016:07:29</td><td>09:43:49</td><td>Fibre Flat Field - Quartz_75_A</td><td>25.</td><td>FLAT</td><td>580V</td><td>plate 1</td><td>234.132843879</td><td>16.6074893188</td><td>Gilgamesh_1_p1.sds</td></tr>\n",
       "<tr><td>23</td><td>10024</td><td>1</td><td>2016:07:29</td><td>09:46:31</td><td>ARC - FeAr_1 FeAr_2 CuAr_1 CuAr_2 CuHe_1 CuNe_1</td><td>60.</td><td>ARC</td><td>580V</td><td>plate 1</td><td>234.132859658</td><td>16.6075068471</td><td>Gilgamesh_1_p1.sds</td></tr>\n",
       "<tr><td>24</td><td>10025</td><td>1</td><td>2016:07:29</td><td>09:49:46</td><td>Gilgamesh 1</td><td>2000.</td><td>RUN</td><td>580V</td><td>plate 1</td><td>234.133588863</td><td>16.607549852</td><td>Gilgamesh_1_p1.sds</td></tr>\n",
       "<tr><td>25</td><td>10026</td><td>1</td><td>2016:07:29</td><td>10:25:12</td><td>Gilgamesh 1</td><td>2000.</td><td>RUN</td><td>580V</td><td>plate 1</td><td>234.13351124</td><td>16.6076238627</td><td>Gilgamesh_1_p1.sds</td></tr>\n",
       "<tr><td>26</td><td>10027</td><td>1</td><td>2016:07:29</td><td>11:00:38</td><td>Gilgamesh 1</td><td>2000.</td><td>RUN</td><td>580V</td><td>plate 1</td><td>234.133269302</td><td>16.6074253061</td><td>Gilgamesh_1_p1.sds</td></tr>\n",
       "<tr><td>27</td><td>10028</td><td>1</td><td>2016:07:29</td><td>11:38:21</td><td>Odyssey 1</td><td>1000.</td><td>RUN</td><td>580V</td><td>plate 0</td><td>248.087378619</td><td>19.8243999402</td><td>Odyssey_1a_p0.sds</td></tr>\n",
       "<tr><td>28</td><td>10029</td><td>1</td><td>2016:07:29</td><td>11:57:07</td><td>Odyssey 1</td><td>1000.</td><td>RUN</td><td>580V</td><td>plate 0</td><td>248.08683478</td><td>19.8243717274</td><td>Odyssey_1a_p0.sds</td></tr>\n",
       "<tr><td>29</td><td>10030</td><td>1</td><td>2016:07:29</td><td>12:15:54</td><td>Odyssey 1</td><td>1000.</td><td>RUN</td><td>580V</td><td>plate 0</td><td>248.087233359</td><td>19.8243908934</td><td>Odyssey_1a_p0.sds</td></tr>\n",
       "<tr><td>30</td><td>10031</td><td>1</td><td>2016:07:29</td><td>12:35:06</td><td>Fibre Flat Field - Quartz_75_A</td><td>4.</td><td>FLAT</td><td>580V</td><td>plate 0</td><td>248.086730307</td><td>19.8244385278</td><td>Odyssey_1a_p0.sds</td></tr>\n",
       "<tr><td>31</td><td>10032</td><td>1</td><td>2016:07:29</td><td>12:37:27</td><td>Fibre Flat Field - Quartz_75_A</td><td>25.</td><td>FLAT</td><td>580V</td><td>plate 0</td><td>248.086775558</td><td>19.8244498192</td><td>Odyssey_1a_p0.sds</td></tr>\n",
       "<tr><td>32</td><td>10033</td><td>1</td><td>2016:07:29</td><td>12:40:13</td><td>ARC - FeAr_1 FeAr_2 CuAr_1 CuAr_2 CuHe_1 CuNe_1</td><td>60.</td><td>ARC</td><td>580V</td><td>plate 0</td><td>248.086762681</td><td>19.8244680662</td><td>Odyssey_1a_p0.sds</td></tr>\n",
       "<tr><td>33</td><td>10034</td><td>1</td><td>2016:07:29</td><td>12:45:20</td><td>Fibre Flat Field - Quartz_75_A</td><td>4.</td><td>FLAT</td><td>580V</td><td>plate 1</td><td>335.913602943</td><td>-3.43183615705</td><td>OBrother_2_p1.sds</td></tr>\n",
       "<tr><td>34</td><td>10035</td><td>1</td><td>2016:07:29</td><td>12:47:47</td><td>Fibre Flat Field - Quartz_75_A</td><td>25.</td><td>FLAT</td><td>580V</td><td>plate 1</td><td>335.913653874</td><td>-3.43182095885</td><td>OBrother_2_p1.sds</td></tr>\n",
       "<tr><td>35</td><td>10036</td><td>1</td><td>2016:07:29</td><td>12:50:39</td><td>ARC - FeAr_1 FeAr_2 CuAr_1 CuAr_2 CuHe_1 CuNe_1</td><td>60.</td><td>ARC</td><td>580V</td><td>plate 1</td><td>335.913637628</td><td>-3.43182797677</td><td>OBrother_2_p1.sds</td></tr>\n",
       "<tr><td>36</td><td>10037</td><td>1</td><td>2016:07:29</td><td>12:54:00</td><td>OBrother 2</td><td>1800.</td><td>RUN</td><td>580V</td><td>plate 1</td><td>335.913515729</td><td>-3.43202213952</td><td>OBrother_2_p1.sds</td></tr>\n",
       "<tr><td>37</td><td>10038</td><td>1</td><td>2016:07:29</td><td>13:26:06</td><td>OBrother 2</td><td>1800.</td><td>RUN</td><td>580V</td><td>plate 1</td><td>335.913867495</td><td>-3.43209526663</td><td>OBrother_2_p1.sds</td></tr>\n",
       "<tr><td>38</td><td>10039</td><td>1</td><td>2016:07:29</td><td>13:58:12</td><td>OBrother 2</td><td>1800.</td><td>RUN</td><td>580V</td><td>plate 1</td><td>335.914195491</td><td>-3.43235721019</td><td>OBrother_2_p1.sds</td></tr>\n",
       "<tr><td>39</td><td>10040</td><td>1</td><td>2016:07:29</td><td>14:30:19</td><td>OBrother 2</td><td>1800.</td><td>RUN</td><td>580V</td><td>plate 1</td><td>335.914612027</td><td>-3.43233436174</td><td>OBrother_2_p1.sds</td></tr>\n",
       "<tr><td>40</td><td>10041</td><td>1</td><td>2016:07:29</td><td>15:05:06</td><td>Fibre Flat Field - Quartz_75_A</td><td>4.</td><td>FLAT</td><td>580V</td><td>plate 0</td><td>348.682328591</td><td>4.53164267586</td><td>Catch22_2_p0.sds</td></tr>\n",
       "<tr><td>41</td><td>10042</td><td>1</td><td>2016:07:29</td><td>15:07:36</td><td>Fibre Flat Field - Quartz_75_A</td><td>25.</td><td>FLAT</td><td>580V</td><td>plate 0</td><td>348.68234561</td><td>4.53164967187</td><td>Catch22_2_p0.sds</td></tr>\n",
       "<tr><td>42</td><td>10043</td><td>1</td><td>2016:07:29</td><td>15:10:24</td><td>ARC - FeAr_1 FeAr_2 CuAr_1 CuAr_2 CuHe_1 CuNe_1</td><td>60.</td><td>ARC</td><td>580V</td><td>plate 0</td><td>348.682347172</td><td>4.53165496527</td><td>Catch22_2_p0.sds</td></tr>\n",
       "<tr><td>43</td><td>10044</td><td>1</td><td>2016:07:29</td><td>15:13:47</td><td>Catch22 2</td><td>1800.</td><td>RUN</td><td>580V</td><td>plate 0</td><td>348.682821838</td><td>4.53197001444</td><td>Catch22_2_p0.sds</td></tr>\n",
       "<tr><td>44</td><td>10045</td><td>1</td><td>2016:07:29</td><td>15:45:53</td><td>Catch22 2</td><td>1800.</td><td>RUN</td><td>580V</td><td>plate 0</td><td>348.68271631</td><td>4.53215342121</td><td>Catch22_2_p0.sds</td></tr>\n",
       "<tr><td>45</td><td>10046</td><td>1</td><td>2016:07:29</td><td>16:17:59</td><td>Catch22 2</td><td>1800.</td><td>RUN</td><td>580V</td><td>plate 0</td><td>348.682929954</td><td>4.53202934718</td><td>Catch22_2_p0.sds</td></tr>\n",
       "<tr><td>46</td><td>10047</td><td>1</td><td>2016:07:29</td><td>16:50:06</td><td>Catch22 2</td><td>1800.</td><td>RUN</td><td>580V</td><td>plate 0</td><td>348.682928147</td><td>4.53206005382</td><td>Catch22_2_p0.sds</td></tr>\n",
       "<tr><td>47</td><td>10048</td><td>1</td><td>2016:07:29</td><td>17:24:58</td><td>Narnia 1</td><td>2000.</td><td>RUN</td><td>580V</td><td>plate 1</td><td>39.5487663796</td><td>-1.31931907377</td><td>Narnia_1_p1.sds</td></tr>\n",
       "<tr><td>48</td><td>10049</td><td>1</td><td>2016:07:29</td><td>18:00:24</td><td>Narnia 1</td><td>2000.</td><td>RUN</td><td>580V</td><td>plate 1</td><td>39.5486900985</td><td>-1.31950294595</td><td>Narnia_1_p1.sds</td></tr>\n",
       "<tr><td>49</td><td>10050</td><td>1</td><td>2016:07:29</td><td>18:35:51</td><td>Narnia 1</td><td>2000.</td><td>RUN</td><td>580V</td><td>plate 1</td><td>39.5492458339</td><td>-1.31945240221</td><td>Narnia_1_p1.sds</td></tr>\n",
       "<tr><td>50</td><td>10051</td><td>1</td><td>2016:07:29</td><td>19:11:17</td><td>Narnia 1</td><td>2000.</td><td>RUN</td><td>580V</td><td>plate 1</td><td>39.5492316793</td><td>-1.31959493805</td><td>Narnia_1_p1.sds</td></tr>\n",
       "<tr><td>51</td><td>10052</td><td>1</td><td>2016:07:29</td><td>19:47:06</td><td>Fibre Flat Field - Quartz_75_A</td><td>4.</td><td>FLAT</td><td>580V</td><td>plate 1</td><td>39.5494080458</td><td>-1.31969537826</td><td>Narnia_1_p1.sds</td></tr>\n",
       "<tr><td>52</td><td>10053</td><td>1</td><td>2016:07:29</td><td>19:49:25</td><td>Fibre Flat Field - Quartz_75_A</td><td>25.</td><td>FLAT</td><td>580V</td><td>plate 1</td><td>39.5494556215</td><td>-1.31969299082</td><td>Narnia_1_p1.sds</td></tr>\n",
       "<tr><td>53</td><td>10054</td><td>1</td><td>2016:07:29</td><td>19:52:07</td><td>ARC - FeAr_1 FeAr_2 CuAr_1 CuAr_2 CuHe_1 CuNe_1</td><td>60.</td><td>ARC</td><td>580V</td><td>plate 1</td><td>39.549395829</td><td>-1.31970034028</td><td>Narnia_1_p1.sds</td></tr>\n",
       "<tr><td>54</td><td>10055</td><td>1</td><td>2016:07:29</td><td>19:56:53</td><td>Dark Frame</td><td>0.</td><td>DARK</td><td>580V</td><td>plate 1</td><td>36.0048491226</td><td>-31.3529533674</td><td>Narnia_1_p1.sds</td></tr>\n",
       "<tr><td>55</td><td>10056</td><td>1</td><td>2016:07:29</td><td>20:28:59</td><td>Dark Frame</td><td>0.</td><td>DARK</td><td>580V</td><td>plate 1</td><td>44.0595557188</td><td>-31.3442192381</td><td>Narnia_1_p1.sds</td></tr>\n",
       "<tr><td>56</td><td>10057</td><td>1</td><td>2016:07:29</td><td>21:01:06</td><td>Dark Frame</td><td>0.</td><td>DARK</td><td>580V</td><td>plate 1</td><td>52.1142616474</td><td>-31.3341647874</td><td>Narnia_1_p1.sds</td></tr>\n",
       "<tr><td>57</td><td>10058</td><td>1</td><td>2016:07:29</td><td>21:33:12</td><td>Dark Frame</td><td>0.</td><td>DARK</td><td>580V</td><td>plate 1</td><td>60.1668328875</td><td>-31.3230972007</td><td>Narnia_1_p1.sds</td></tr>\n",
       "<tr><td>58</td><td>10059</td><td>1</td><td>2016:07:29</td><td>22:05:18</td><td>Dark Frame</td><td>0.</td><td>DARK</td><td>580V</td><td>plate 1</td><td>68.2186992838</td><td>-31.3111148406</td><td>Narnia_1_p1.sds</td></tr>\n",
       "</table><style>table.dataTable {clear: both; width: auto !important; margin: 0 !important;}\n",
       ".dataTables_info, .dataTables_length, .dataTables_filter, .dataTables_paginate{\n",
       "display: inline-block; margin-right: 1em; }\n",
       ".paginate_button { margin-right: 5px; }\n",
       "</style>\n",
       "<script>\n",
       "require.config({paths: {\n",
       "    datatables: 'https://cdn.datatables.net/1.10.9/js/jquery.dataTables.min'\n",
       "}});\n",
       "require([\"datatables\"], function(){\n",
       "    console.log(\"$('#table6011671248-588094').dataTable()\");\n",
       "    $('#table6011671248-588094').dataTable({\n",
       "        \"order\": [],\n",
       "        \"iDisplayLength\": 20,\n",
       "        \"aLengthMenu\": [[20, 10, 25, 50, 100, 500, 1000, -1], [20, 10, 25, 50, 100, 500, 1000, 'All']],\n",
       "        \"pagingType\": \"full_numbers\"\n",
       "    });\n",
       "});\n",
       "</script>\n"
      ],
      "text/plain": [
       "<IPython.core.display.HTML object>"
      ]
     },
     "execution_count": 146,
     "metadata": {},
     "output_type": "execute_result"
    }
   ],
   "source": [
    "logtab = make_logtab(fitsheader_output, skip_res=['.*temp.*'])\n",
    "logtab[logtab['ccd']==1].show_in_notebook(display_length=20)"
   ]
  },
  {
   "cell_type": "code",
   "execution_count": 147,
   "metadata": {
    "collapsed": false
   },
   "outputs": [
    {
     "data": {
      "text/markdown": [
       "* start of Dune_2 : seeing ~1.3\"\n",
       "* start of Gilgamesh_1 : seeing ~1.6\"\n",
       "* start of Odyssey_1a : seeing ~1.4\"\n",
       "* start of OBrother_2 : seeing ~1.7\"\n",
       "* temperature rose dramatically near end of OBrother_2 - might lead to variable seeing\n",
       "* start of Catch22_2: seeing ~2.3\"\n",
       "* start of Narnia_1: seeing ~1.5\""
      ],
      "text/plain": [
       "<IPython.core.display.Markdown object>"
      ]
     },
     "execution_count": 147,
     "metadata": {},
     "output_type": "execute_result"
    }
   ],
   "source": [
    "comments_jul29 = \"\"\"\n",
    "* start of Dune_2 : seeing ~1.3\"\n",
    "* start of Gilgamesh_1 : seeing ~1.6\"\n",
    "* start of Odyssey_1a : seeing ~1.4\"\n",
    "* start of OBrother_2 : seeing ~1.7\"\n",
    "* temperature rose dramatically near end of OBrother_2 - might lead to variable seeing\n",
    "* start of Catch22_2: seeing ~2.3\"\n",
    "* start of Narnia_1: seeing ~1.5\"\n",
    "\"\"\"[1:-1]\n",
    "display.Markdown(comments_jul29)"
   ]
  },
  {
   "cell_type": "code",
   "execution_count": 148,
   "metadata": {
    "collapsed": true
   },
   "outputs": [],
   "source": [
    "logfn = 'aat_data/29jul2016/log_jul29'\n",
    "\n",
    "logtab.write(logfn,format='ascii')\n",
    "with open(logfn, 'a') as f:\n",
    "    f.write('\\nComments:\\n')\n",
    "    f.write(comments_jul29)"
   ]
  },
  {
   "cell_type": "markdown",
   "metadata": {},
   "source": [
    "# Nights 3+ "
   ]
  },
  {
   "cell_type": "markdown",
   "metadata": {},
   "source": [
    "These nights are by the team that's doing the time-trade.  They will be *primarily* second-half, but with a little time in the first half"
   ]
  },
  {
   "cell_type": "code",
   "execution_count": 56,
   "metadata": {
    "collapsed": false
   },
   "outputs": [
    {
     "name": "stdout",
     "output_type": "stream",
     "text": [
      "Writing aat_targets_jul2016/NSA145729_1.fld from master aat_targets_jul2016/NSA145729_master.fld\n",
      "Total remaining in each priority (5 fluxes, 30 guides, and 98 skies not included):\n",
      "{1: 3470, 2: 988, 3: 649, 4: 618, 5: 251, 6: 220, 7: 269, 8: 0, 9: 55}\n",
      "{1: 100.0, 2: 100.0, 3: 100.0, 4: 100.0, 5: 100.0, 6: 100.0, 7: 100.0, 8: None, 9: 100.0}%\n",
      "NSA145729_1.fld                               100%   94KB  94.4KB/s   00:00    \n"
     ]
    }
   ],
   "source": [
    "hs = [h for h in hosts_to_target if h.nsaid==145729]\n",
    "assert len(hs) == 1\n",
    "fnconfig = do_subsampling(hs[0], 1, {1:25, 2:25, 3:50, 4:100})\n",
    "!scp $fnconfig \"$sshtarget:configure/\""
   ]
  },
  {
   "cell_type": "markdown",
   "metadata": {},
   "source": [
    "NSA 145729 is being treated a bit oddly because there might be two back-to-back-ish observations.  So we're making one config in advance for both the p0 and p1 configurations, and making fld's for config 2 assuming either of those. "
   ]
  },
  {
   "cell_type": "code",
   "execution_count": 130,
   "metadata": {
    "collapsed": false
   },
   "outputs": [
    {
     "name": "stdout",
     "output_type": "stream",
     "text": [
      "Writing aat_targets_jul2016/NSA145729_2_after1p0.fld from master aat_targets_jul2016/NSA145729_master.fld\n",
      "Kept the following fibers in due to zltabkeepfunc: []\n",
      "Found 353 objects to remove in aat_targets_jul2016/NSA145729_1_p0.lis\n",
      "Total remaining in each priority (5 fluxes, 30 guides, and 98 skies not included):\n",
      "{1: 3470, 2: 988, 3: 649, 4: 618, 5: 251, 6: 164, 7: 23, 8: 0, 9: 4}\n",
      "{1: 100.0, 2: 100.0, 3: 100.0, 4: 100.0, 5: 100.0, 6: 74.54545454545455, 7: 8.550185873605948, 8: None, 9: 7.2727272727272725}%\n",
      "NSA145729_2_after1p0.fld                      100%   63KB  63.4KB/s   00:00    \n"
     ]
    }
   ],
   "source": [
    "hs = [h for h in hosts_to_target if h.nsaid==145729]\n",
    "assert len(hs) == 1\n",
    "fnconfig = do_subsampling(hs[0], 2, {1:25, 2:25, 3:50, 4:100}, \n",
    "                          listorem=['aat_targets_jul2016/NSA145729_1_p0.lis'], \n",
    "                          fnconfig='aat_targets_jul2016/NSA145729_2_after1p0.fld')\n",
    "!scp $fnconfig \"$sshtarget:configure/\""
   ]
  },
  {
   "cell_type": "code",
   "execution_count": 134,
   "metadata": {
    "collapsed": false
   },
   "outputs": [
    {
     "name": "stdout",
     "output_type": "stream",
     "text": [
      "Writing aat_targets_jul2016/NSA145729_2_after1p1.fld from master aat_targets_jul2016/NSA145729_master.fld\n",
      "Kept the following fibers in due to zltabkeepfunc: []\n",
      "Found 351 objects to remove in aat_targets_jul2016/NSA145729_1_p1.lis\n",
      "Total remaining in each priority (5 fluxes, 30 guides, and 98 skies not included):\n",
      "{1: 3470, 2: 988, 3: 649, 4: 618, 5: 251, 6: 165, 7: 25, 8: 0, 9: 3}\n",
      "{1: 100.0, 2: 100.0, 3: 100.0, 4: 100.0, 5: 100.0, 6: 75.0, 7: 9.293680297397769, 8: None, 9: 5.454545454545454}%\n",
      "NSA145729_2_after1p1.fld                      100%   64KB  63.5KB/s   00:00    \n"
     ]
    }
   ],
   "source": [
    "hs = [h for h in hosts_to_target if h.nsaid==145729]\n",
    "assert len(hs) == 1\n",
    "fnconfig = do_subsampling(hs[0], 2, {1:25, 2:25, 3:50, 4:100}, \n",
    "                          listorem=['aat_targets_jul2016/NSA145729_1_p1.lis'], \n",
    "                          fnconfig='aat_targets_jul2016/NSA145729_2_after1p1.fld')\n",
    "!scp $fnconfig \"$sshtarget:configure/\""
   ]
  },
  {
   "cell_type": "code",
   "execution_count": 57,
   "metadata": {
    "collapsed": false
   },
   "outputs": [
    {
     "name": "stdout",
     "output_type": "stream",
     "text": [
      "Writing aat_targets_jul2016/Catch22_3.fld from master aat_targets_jul2016/Catch22_master.fld\n",
      "Kept the following fibers in due to zltabkeepfunc: []\n",
      "Found 351 objects to remove in aat_targets_jul2016/Catch22_1_p1.lis\n",
      "Kept the following fibers in due to zltabkeepfunc: []\n",
      "Found 353 objects to remove in aat_targets_jul2016/Catch22_2_p0.lis\n",
      "Total remaining in each priority (5 fluxes, 30 guides, and 89 skies not included):\n",
      "{1: 2976, 2: 752, 3: 428, 4: 64, 5: 105, 6: 119, 7: 2, 8: 0, 9: 0}\n",
      "{1: 100.0, 2: 100.0, 3: 99.76689976689977, 4: 100.0, 5: 88.23529411764706, 6: 23.017408123791103, 7: 0.7407407407407407, 8: None, 9: 0.0}%\n",
      "Catch22_3.fld                                 100%   76KB  76.0KB/s   00:00    \n"
     ]
    }
   ],
   "source": [
    "fnconfig = do_subsampling(hsd['Catch22'], 3, {1:100, 2:100, 3:300)\n",
    "!scp $fnconfig \"$sshtarget:configure/\""
   ]
  },
  {
   "cell_type": "code",
   "execution_count": 58,
   "metadata": {
    "collapsed": false
   },
   "outputs": [
    {
     "name": "stdout",
     "output_type": "stream",
     "text": [
      "Writing aat_targets_jul2016/Narnia_2.fld from master aat_targets_jul2016/Narnia_master.fld\n",
      "Kept the following fibers in due to zltabkeepfunc: []\n",
      "Found 351 objects to remove in aat_targets_jul2016/Narnia_1_p1.lis\n",
      "Total remaining in each priority (5 fluxes, 30 guides, and 98 skies not included):\n",
      "{1: 2728, 2: 655, 3: 405, 4: 97, 5: 144, 6: 136, 7: 18, 8: 0, 9: 0}\n",
      "{1: 100.0, 2: 100.0, 3: 100.0, 4: 100.0, 5: 99.3103448275862, 6: 43.45047923322684, 7: 9.424083769633508, 8: None, 9: None}%\n",
      "Narnia_2.fld                                  100%   85KB  84.6KB/s   00:00    \n"
     ]
    }
   ],
   "source": [
    "fnconfig = do_subsampling(hsd['Narnia'], 2, {1:100, 2:100, 3:300})\n",
    "!scp $fnconfig \"$sshtarget:configure/\""
   ]
  },
  {
   "cell_type": "code",
   "execution_count": 55,
   "metadata": {
    "collapsed": false
   },
   "outputs": [
    {
     "name": "stdout",
     "output_type": "stream",
     "text": [
      "Writing aat_targets_jul2016/NSA21709_1.fld from master aat_targets_jul2016/NSA21709_master.fld\n",
      "Total remaining in each priority (5 fluxes, 30 guides, and 90 skies not included):\n",
      "{1: 4513, 2: 1170, 3: 808, 4: 114, 5: 242, 6: 853, 7: 512, 8: 0, 9: 0}\n",
      "{1: 100.0, 2: 100.0, 3: 100.0, 4: 100.0, 5: 100.0, 6: 100.0, 7: 100.0, 8: None, 9: None}%\n",
      "NSA21709_1.fld                                100%  165KB 165.4KB/s   00:00    \n"
     ]
    }
   ],
   "source": [
    "hs = [h for h in hosts_to_target if h.nsaid==21709]\n",
    "assert len(hs) == 1\n",
    "fnconfig = do_subsampling(hs[0], 1, {1:25, 2:25, 3:50, 4:100})\n",
    "!scp $fnconfig \"$sshtarget:configure/\""
   ]
  },
  {
   "cell_type": "markdown",
   "metadata": {},
   "source": [
    "## Logs for observations "
   ]
  },
  {
   "cell_type": "code",
   "execution_count": 155,
   "metadata": {
    "collapsed": false
   },
   "outputs": [],
   "source": [
    "# fitsheader run on the output downloaded to another computer\n",
    "with open('/Users/erik/tmp/fitsheader_jul30') as f:\n",
    "    fitsheader_output = list(f)"
   ]
  },
  {
   "cell_type": "code",
   "execution_count": 158,
   "metadata": {
    "collapsed": false
   },
   "outputs": [],
   "source": [
    "logtab = make_logtab(fitsheader_output, skip_res=['.*temp.*'])\n",
    "logtab[logtab['ccd']==1].show_in_notebook(display_length=20)\n",
    "\n",
    "logfn = 'aat_data/30jul2016/log_jul30'\n",
    "logtab.write(logfn,format='ascii')"
   ]
  },
  {
   "cell_type": "markdown",
   "metadata": {},
   "source": [
    "# Utilities for during the night "
   ]
  },
  {
   "cell_type": "markdown",
   "metadata": {},
   "source": [
    "## Pull in as-generated files from remote "
   ]
  },
  {
   "cell_type": "markdown",
   "metadata": {},
   "source": [
    "Note that this assumes the .lis files were generated after the configuration was made.  If need be these can be re-created from the .sds files by starting up configure and exporting the allocated fibers list."
   ]
  },
  {
   "cell_type": "code",
   "execution_count": 132,
   "metadata": {
    "collapsed": false
   },
   "outputs": [
    {
     "name": "stdout",
     "output_type": "stream",
     "text": [
      "AnaK_1_p0.sds                                 100%  220KB 220.4KB/s   00:00    \n",
      "Catch22_1_p1.sds                              100%  312KB 311.7KB/s   00:00    \n",
      "Catch22_2_p0.sds                              100%  248KB 247.8KB/s   00:00    \n",
      "Dune_1_p0.sds                                 100%  270KB 270.1KB/s   00:00    \n",
      "Dune_2_p0.sds                                 100%  196KB 195.7KB/s   00:00    \n",
      "Gilgamesh_1_p1.sds                            100%  198KB 197.8KB/s   00:00    \n",
      "Narnia_1_p1.sds                               100%  314KB 313.8KB/s   00:00    \n",
      "NSA145729_1_p0.sds                            100%  261KB 260.7KB/s   00:00    \n",
      "NSA145729_1_p1.sds                            100%  261KB 260.8KB/s   00:00    \n",
      "OBrother_1_p0.sds                             100%  286KB 286.2KB/s   00:00    \n",
      "OBrother_2_p1.sds                             100%  212KB 211.7KB/s   00:00    \n",
      "Odyssey_1a_p0.sds                             100%  206KB 206.3KB/s   00:00    \n",
      "Odyssey_1_p1.sds                              100%  206KB 206.5KB/s   00:00    \n"
     ]
    }
   ],
   "source": [
    "!scp \"$sshtarget:configure/*.sds\" aat_targets_jul2016/"
   ]
  },
  {
   "cell_type": "code",
   "execution_count": 133,
   "metadata": {
    "collapsed": false
   },
   "outputs": [
    {
     "name": "stdout",
     "output_type": "stream",
     "text": [
      "AnaK_1_p0.lis                                 100%   45KB  44.8KB/s   00:00    \n",
      "Catch22_1_p1.lis                              100%   45KB  44.7KB/s   00:00    \n",
      "Catch22_2_p0.lis                              100%   45KB  44.8KB/s   00:00    \n",
      "Dune_1_p0.lis                                 100%   45KB  44.8KB/s   00:00    \n",
      "Dune_2_p0.lis                                 100%   45KB  44.8KB/s   00:00    \n",
      "Gilgamesh_1_p1.lis                            100%   45KB  44.8KB/s   00:00    \n",
      "Narnia_1_p1.lis                               100%   45KB  44.8KB/s   00:00    \n",
      "NSA145729_1_p0.lis                            100%   45KB  44.8KB/s   00:00    \n",
      "NSA145729_1_p1.lis                            100%   45KB  44.8KB/s   00:00    \n",
      "OBrother_1_p0.lis                             100%   45KB  44.8KB/s   00:00    \n",
      "OBrother_2_p1.lis                             100%   45KB  44.8KB/s   00:00    \n",
      "Odyssey_1a_p0.lis                             100%   45KB  44.8KB/s   00:00    \n",
      "Odyssey_1_p1.lis                              100%   45KB  44.7KB/s   00:00    \n"
     ]
    }
   ],
   "source": [
    "# *_* because otherwise the collision matrix list comes through too\n",
    "!scp \"$sshtarget:configure/*_*.lis\" aat_targets_jul2016/"
   ]
  },
  {
   "cell_type": "markdown",
   "metadata": {},
   "source": [
    "## Inspect guider fields as needed "
   ]
  },
  {
   "cell_type": "code",
   "execution_count": 54,
   "metadata": {
    "collapsed": false
   },
   "outputs": [
    {
     "name": "stdout",
     "output_type": "stream",
     "text": [
      "name ra dec\n",
      "Guide25_f#=50 39.8618333333 -1.74961111111\n",
      "Guide1_f#=100 39.6368333333 -1.98125555556\n",
      "Guide8_f#=150 39.1610833333 -1.84921388889\n",
      "Guide12_f#=200 38.6333333333 -1.28503888889\n",
      "Guide9_f#=250 39.41225 -1.34490833333\n",
      "Guide6_f#=300 39.4490416667 -0.646416666667\n",
      "Guide17_f#=350 39.9677083333 -0.844094444444\n",
      "Guide19_f#=400 40.2536666667 -1.26711388889\n"
     ]
    }
   ],
   "source": [
    "listab, lisscs, lisheader = aat.load_lis_file('aat_targets_jul2016/Narnia_1_p1.lis')\n",
    "guidemsk = listab['codes']=='F'\n",
    "names = ['{0[ids]}_f#={0[fibnums]}'.format(row) for row in listab[guidemsk]]\n",
    "print(targeting.sampled_imagelist(lisscs[guidemsk], None, names=names))"
   ]
  },
  {
   "cell_type": "markdown",
   "metadata": {},
   "source": [
    "# Planning"
   ]
  },
  {
   "cell_type": "code",
   "execution_count": 61,
   "metadata": {
    "collapsed": true
   },
   "outputs": [],
   "source": [
    "import astroplan"
   ]
  },
  {
   "cell_type": "markdown",
   "metadata": {},
   "source": [
    "## Find possible targets "
   ]
  },
  {
   "cell_type": "code",
   "execution_count": 8,
   "metadata": {
    "collapsed": false
   },
   "outputs": [],
   "source": [
    "#if online\n",
    "ufo = urllib2.urlopen('https://docs.google.com/spreadsheet/ccc?key=1b3k2eyFjHFDtmHce1xi6JKuj3ATOWYduTBFftx5oPp8&output=csv')\n",
    "hosttab = QTable.read(ufo.read(), format='csv')\n",
    "ufo.close()"
   ]
  },
  {
   "cell_type": "code",
   "execution_count": 9,
   "metadata": {
    "collapsed": false
   },
   "outputs": [],
   "source": [
    "#if offline\n",
    "#hosttab = Table.read('SAGADropbox/hosts/host_catalog_flag0.csv')"
   ]
  },
  {
   "cell_type": "code",
   "execution_count": 10,
   "metadata": {
    "collapsed": false
   },
   "outputs": [],
   "source": [
    "hostscs = SkyCoord(u.Quantity(hosttab['RA'], u.deg), \n",
    "                   u.Quantity(hosttab['Dec'], u.deg), \n",
    "                   distance=u.Quantity(hosttab['distance'], u.Mpc))"
   ]
  },
  {
   "cell_type": "code",
   "execution_count": 11,
   "metadata": {
    "collapsed": false
   },
   "outputs": [],
   "source": [
    "allspec = Table.read('/Users/erik/Dropbox/SAGA/data/allspectaken_v5.fits.gz')"
   ]
  },
  {
   "cell_type": "code",
   "execution_count": 12,
   "metadata": {
    "collapsed": true
   },
   "outputs": [],
   "source": [
    "sagaobsed = allspec[~((allspec['TELNAME']=='NSA')|\n",
    "                      (allspec['TELNAME']=='SDSS')|\n",
    "                      (allspec['TELNAME']=='GAMA'))]\n",
    "sagaobsed_nsaids = np.unique(sagaobsed['HOST_NSAID'])"
   ]
  },
  {
   "cell_type": "code",
   "execution_count": 13,
   "metadata": {
    "collapsed": false
   },
   "outputs": [],
   "source": [
    "#UTC time from 8:35-19:35 is AAT 18 deg window\n",
    "nighttimes = Time('2016-7-28 8:45:00') + np.arange(12)*u.hour\n",
    "aao = EarthLocation(lon='149:3:57.9', lat='-31:16:37.3')\n",
    "aao_frame = AltAz(obstime=nighttimes, location=aao)"
   ]
  },
  {
   "cell_type": "code",
   "execution_count": 14,
   "metadata": {
    "collapsed": false
   },
   "outputs": [
    {
     "data": {
      "text/plain": [
       "-14.806986509372573"
      ]
     },
     "execution_count": 14,
     "metadata": {},
     "output_type": "execute_result"
    }
   ],
   "source": [
    "sunaao = get_sun(nighttimes).transform_to(aao_frame)\n",
    "np.max(sunaao.alt.value)"
   ]
  },
  {
   "cell_type": "code",
   "execution_count": 15,
   "metadata": {
    "collapsed": false
   },
   "outputs": [],
   "source": [
    "seczs = []\n",
    "for sc in hostscs:\n",
    "    az = sc.transform_to(aao_frame)\n",
    "    seczs.append(az.secz)\n",
    "seczs = np.array(seczs)\n",
    "\n",
    "hrsvis = np.sum((1<=seczs)&(seczs<1.75),axis=1)\n",
    "visenough = hrsvis>2"
   ]
  },
  {
   "cell_type": "code",
   "execution_count": 16,
   "metadata": {
    "collapsed": false
   },
   "outputs": [],
   "source": [
    "aaoobs = astroplan.Observer(aao, 'Australia/NSW')\n",
    "midnight = aaoobs.midnight(Time('2016-7-28'))"
   ]
  },
  {
   "cell_type": "markdown",
   "metadata": {},
   "source": [
    "## Airmass chart "
   ]
  },
  {
   "cell_type": "code",
   "execution_count": 121,
   "metadata": {
    "collapsed": false
   },
   "outputs": [
    {
     "name": "stdout",
     "output_type": "stream",
     "text": [
      "adding <hosts.NSAHost object w/ name 'NSA21709'>\n"
     ]
    },
    {
     "data": {
      "image/png": "[encoded data removed]",
      "text/plain": [
       "<matplotlib.figure.Figure at 0x1736321d0>"
      ]
     },
     "metadata": {},
     "output_type": "display_data"
    }
   ],
   "source": [
    "up_times = {}\n",
    "\n",
    "hoststoshow = hosttab[visenough]\n",
    "\n",
    "hosts_to_target_nsaids = []\n",
    "for h in hosts_to_target:\n",
    "    hosts_to_target_nsaids.append(h.nsaid)\n",
    "    if h.nsaid not in hoststoshow['NSAID']:\n",
    "        print('adding', h)\n",
    "        hoststoshow.add_row(None)\n",
    "        hoststoshow['NSAID'][-1] = h.nsaid\n",
    "        hoststoshow['RA'][-1] = h.ra\n",
    "        hoststoshow['Dec'][-1] = h.dec\n",
    "        \n",
    "\n",
    "with open('aat_targets_jul2016/aattargs_iobserve.dat', 'w') as f:\n",
    "    for host in hoststoshow:\n",
    "        already_obs = host['NSAID'] in sagaobsed_nsaids\n",
    "        \n",
    "        name = 'NSA'+str(host['NSAID'])\n",
    "        for nm, val in hsd.items():\n",
    "            if val.nsaid == host['NSAID']:\n",
    "                name = nm\n",
    "                if nm.startswith('NSA'):\n",
    "                    name = name+'_obsed'\n",
    "                break\n",
    "        \n",
    "        f.write(name.replace(' ','_'))\n",
    "        if already_obs:\n",
    "            f.write('-observed')\n",
    "        f.write(' ')\n",
    "        f.write(str(host['RA']) + ' ')\n",
    "        f.write(str(host['Dec']) + '\\n')\n",
    "        \n",
    "        targ = astroplan.FixedTarget(SkyCoord(host['RA'], host['Dec'], unit=u.deg), name)\n",
    "        \n",
    "        tpl = (name, host['NSAID'], host['RA'], host['Dec'])\n",
    "        transit = aaoobs.target_meridian_transit_time(midnight, targ)\n",
    "        up_times[transit.jd] = tpl\n",
    "        \n",
    "        \n",
    "        timestoplot = transit + np.linspace(-6, 6, 100)*u.hour\n",
    "        taa = aaoobs.altaz(timestoplot, targ)\n",
    "        msk = taa.secz >=1\n",
    "        \n",
    "        color = 'g' if already_obs else 'k'\n",
    "        color = 'r' if host['NSAID'] in hosts_to_target_nsaids else color\n",
    "        \n",
    "        plt.plot(timestoplot.plot_date[msk], taa.secz[msk], c=color)\n",
    "        plt.text(transit.plot_date, aaoobs.altaz(transit, targ).secz, name, ha='center', color=color)\n",
    "\n",
    "t0 = aaoobs.sun_rise_time(midnight, 'previous')\n",
    "t1 = aaoobs.sun_set_time(midnight, 'previous')\n",
    "t2 = aaoobs.twilight_evening_civil(midnight, 'previous')\n",
    "t3 = aaoobs.twilight_evening_nautical(midnight, 'previous')\n",
    "t4 = aaoobs.twilight_evening_astronomical(midnight, 'previous')\n",
    "t5 = aaoobs.twilight_morning_astronomical(midnight, 'next')\n",
    "t6 = aaoobs.twilight_morning_nautical(midnight, 'next')\n",
    "t7 = aaoobs.twilight_morning_civil(midnight, 'next')\n",
    "t8 = aaoobs.sun_rise_time(midnight, 'next')\n",
    "t9 = aaoobs.sun_set_time(midnight, 'next')\n",
    "\n",
    "plt.fill_between([t0.plot_date,t1.plot_date],1,3, lw=0, facecolor='y', alpha=.9)\n",
    "plt.fill_between([t1.plot_date,t2.plot_date],1,3, lw=0, facecolor='y', alpha=.75)\n",
    "plt.fill_between([t2.plot_date,t3.plot_date],1,3, lw=0, facecolor='y', alpha=.5)\n",
    "plt.fill_between([t3.plot_date,t4.plot_date],1,3, lw=0, facecolor='y', alpha=.25)\n",
    "plt.fill_between([t5.plot_date,t6.plot_date],1,3, lw=0, facecolor='y', alpha=.25)\n",
    "plt.fill_between([t6.plot_date,t7.plot_date],1,3, lw=0, facecolor='y', alpha=.5)\n",
    "plt.fill_between([t7.plot_date,t8.plot_date],1,3, lw=0, facecolor='y', alpha=.75)\n",
    "plt.fill_between([t8.plot_date,t9.plot_date],1,3, lw=0, facecolor='y', alpha=.9)\n",
    "\n",
    "plt.axvline(midnight.plot_date, ls=':', c='k')\n",
    "\n",
    "plt.gca().xaxis_date(aaoobs.timezone)\n",
    "plt.xlim(t1.plot_date-.05, t8.plot_date+.05)\n",
    "plt.axhline(1/np.cos(65*u.deg), c='k', ls='--')  #~AAT limit\n",
    "plt.ylim(2.5,1)\n",
    "plt.tight_layout()"
   ]
  },
  {
   "cell_type": "code",
   "execution_count": 18,
   "metadata": {
    "collapsed": false
   },
   "outputs": [
    {
     "name": "stdout",
     "output_type": "stream",
     "text": [
      "NSA165082 http://www.nsatlas.org/getAtlas.html?search=nsaid&nsaID=165082&submit_form=Submit\n",
      "NSA145398 http://www.nsatlas.org/getAtlas.html?search=nsaid&nsaID=145398&submit_form=Submit\n",
      "Dune http://www.nsatlas.org/getAtlas.html?search=nsaid&nsaID=165536&submit_form=Submit\n",
      "NSA145729 http://www.nsatlas.org/getAtlas.html?search=nsaid&nsaID=145729&submit_form=Submit\n",
      "NSA145879 http://www.nsatlas.org/getAtlas.html?search=nsaid&nsaID=145879&submit_form=Submit\n",
      "NSA166141 http://www.nsatlas.org/getAtlas.html?search=nsaid&nsaID=166141&submit_form=Submit\n",
      "Gilgamesh http://www.nsatlas.org/getAtlas.html?search=nsaid&nsaID=166313&submit_form=Submit\n",
      "Odyssey http://www.nsatlas.org/getAtlas.html?search=nsaid&nsaID=147100&submit_form=Submit\n",
      "OBrother http://www.nsatlas.org/getAtlas.html?search=nsaid&nsaID=149781&submit_form=Submit\n",
      "NSA149977 http://www.nsatlas.org/getAtlas.html?search=nsaid&nsaID=149977&submit_form=Submit\n",
      "NSA150307 http://www.nsatlas.org/getAtlas.html?search=nsaid&nsaID=150307&submit_form=Submit\n",
      "NSA150578 http://www.nsatlas.org/getAtlas.html?search=nsaid&nsaID=150578&submit_form=Submit\n",
      "Catch22 http://www.nsatlas.org/getAtlas.html?search=nsaid&nsaID=150887&submit_form=Submit\n",
      "AnaK http://www.nsatlas.org/getAtlas.html?search=nsaid&nsaID=61945&submit_form=Submit\n",
      "NSA153017 http://www.nsatlas.org/getAtlas.html?search=nsaid&nsaID=153017&submit_form=Submit\n",
      "Bandamanna http://www.nsatlas.org/getAtlas.html?search=nsaid&nsaID=126115&submit_form=Submit\n",
      "NSA127226 http://www.nsatlas.org/getAtlas.html?search=nsaid&nsaID=127226&submit_form=Submit\n",
      "NSA129237 http://www.nsatlas.org/getAtlas.html?search=nsaid&nsaID=129237&submit_form=Submit\n",
      "NSA129387 http://www.nsatlas.org/getAtlas.html?search=nsaid&nsaID=129387&submit_form=Submit\n",
      "NSA130133 http://www.nsatlas.org/getAtlas.html?search=nsaid&nsaID=130133&submit_form=Submit\n",
      "NSA130625 http://www.nsatlas.org/getAtlas.html?search=nsaid&nsaID=130625&submit_form=Submit\n",
      "NSA131531 http://www.nsatlas.org/getAtlas.html?search=nsaid&nsaID=131531&submit_form=Submit\n",
      "Narnia http://www.nsatlas.org/getAtlas.html?search=nsaid&nsaID=132339&submit_form=Submit\n"
     ]
    }
   ],
   "source": [
    "#NSA urls\n",
    "for jd in sorted(up_times):\n",
    "    name, nsaid, ra, dec = up_times[jd]\n",
    "    print(name, 'http://www.nsatlas.org/getAtlas.html?search=nsaid&nsaID={}&submit_form=Submit'.format(nsaid))"
   ]
  },
  {
   "cell_type": "code",
   "execution_count": 19,
   "metadata": {
    "collapsed": false
   },
   "outputs": [
    {
     "name": "stdout",
     "output_type": "stream",
     "text": [
      "NSA165082 http://legacysurvey.org/viewer?ra=217.418&dec=3.23331&zoom=8\n",
      "NSA145398 http://legacysurvey.org/viewer?ra=219.796&dec=5.36347&zoom=8\n",
      "Dune http://legacysurvey.org/viewer?ra=221.546&dec=-0.222942&zoom=8\n",
      "NSA145729 http://legacysurvey.org/viewer?ra=224.594&dec=-1.09102&zoom=8\n",
      "NSA145879 http://legacysurvey.org/viewer?ra=227.456&dec=0.470085&zoom=8\n",
      "NSA166141 http://legacysurvey.org/viewer?ra=230.485&dec=5.07063&zoom=8\n",
      "Gilgamesh http://legacysurvey.org/viewer?ra=234.132&dec=16.6078&zoom=8\n",
      "Odyssey http://legacysurvey.org/viewer?ra=248.087&dec=19.8264&zoom=8\n",
      "OBrother http://legacysurvey.org/viewer?ra=335.913&dec=-3.43167&zoom=8\n",
      "NSA149977 http://legacysurvey.org/viewer?ra=339.372&dec=10.5315&zoom=8\n",
      "NSA150307 http://legacysurvey.org/viewer?ra=343.924&dec=-5.49535&zoom=8\n",
      "NSA150578 http://legacysurvey.org/viewer?ra=346.236&dec=12.3229&zoom=8\n",
      "Catch22 http://legacysurvey.org/viewer?ra=348.683&dec=4.53406&zoom=8\n",
      "AnaK http://legacysurvey.org/viewer?ra=354.131&dec=0.297265&zoom=8\n",
      "NSA153017 http://legacysurvey.org/viewer?ra=359.856&dec=20.7498&zoom=8\n",
      "Bandamanna http://legacysurvey.org/viewer?ra=0.995575&dec=20.7524&zoom=8\n",
      "NSA127226 http://legacysurvey.org/viewer?ra=8.69484&dec=-8.39644&zoom=8\n",
      "NSA129237 http://legacysurvey.org/viewer?ra=20.449&dec=17.5922&zoom=8\n",
      "NSA129387 http://legacysurvey.org/viewer?ra=21.0163&dec=12.9175&zoom=8\n",
      "NSA130133 http://legacysurvey.org/viewer?ra=24.7772&dec=-7.51266&zoom=8\n",
      "NSA130625 http://legacysurvey.org/viewer?ra=28.3054&dec=4.19576&zoom=8\n",
      "NSA131531 http://legacysurvey.org/viewer?ra=33.8651&dec=6.00248&zoom=8\n",
      "Narnia http://legacysurvey.org/viewer?ra=39.5482&dec=-1.31876&zoom=8\n"
     ]
    }
   ],
   "source": [
    "# DECALS URLs\n",
    "for jd in sorted(up_times):\n",
    "    name, nsaid, ra, dec = up_times[jd]\n",
    "    print(name, 'http://legacysurvey.org/viewer?ra={}&dec={}&zoom=8'.format(ra, dec))"
   ]
  },
  {
   "cell_type": "markdown",
   "metadata": {},
   "source": [
    "Notes:\n",
    "* NSA165082: in DECALS DR2, only z-band, looks like a group, elliptical\n",
    "* NSA145398: in DECALS DR2, z-band and a bit of g and r, elliptical, otherwise good\n",
    "* NSA145729: in DECALS DR2, z-band and some r, OK but somewhat near SDSS edge?\n",
    "* NSA145879: in DECALS DR2, z-band and some g and r, elliptical, otherwise good\n",
    "* NSA166141: in DECALS DR2, z-band and some g and r, otherwise good\n",
    "* NSA149977: in DECALS DR2, z-band and some g and r, otherwise good\n",
    "* NSA150578: in DECALS DR2, only z-band, otherwise good\n",
    "* NSA153017: in DECALS DR2, only z-band, otherwise good\n",
    "* Bandamanna: in DECALS DR2, only z-band, otherwise good\n",
    "* NSA127226: otherwise good\n",
    "* NSA129237: in DECALS DR2, only z-band, otherwise good\n",
    "* NSA129387: otherwise good\n",
    "* NSA130133: elliptical? otherwise good\n",
    "* NSA130625: S0? otherwise good\n",
    "* NSA131531: near SDSS edge, otherwise good"
   ]
  },
  {
   "cell_type": "code",
   "execution_count": 440,
   "metadata": {
    "collapsed": false,
    "scrolled": true
   },
   "outputs": [
    {
     "data": {
      "text/html": [
       "&lt;Table masked=True length=43&gt;\n",
       "<table id=\"table6059657616-655751\" class=\"table-striped table-bordered table-condensed\">\n",
       "<thead><tr><th>idx</th><th>objID</th><th>ra</th><th>dec</th><th>phot_sg</th><th>flags</th><th>specObjID</th><th>u</th><th>g</th><th>r</th><th>i</th><th>z</th><th>u_err</th><th>g_err</th><th>r_err</th><th>i_err</th><th>z_err</th><th>Au</th><th>Ag</th><th>Ar</th><th>Ai</th><th>Az</th><th>fibermag_r</th><th>fiber2mag_r</th><th>expRad_r</th><th>sb_exp_r</th><th>petroR50_r</th><th>petroR90_r</th><th>petroMag_r</th><th>sb_petro_r</th><th>J</th><th>Jerr</th><th>H</th><th>Herr</th><th>K</th><th>Kerr</th><th>w1</th><th>w1err</th><th>w2</th><th>w2err</th><th>spec_z</th><th>spec_z_err</th><th>spec_z_warn</th><th>photoz</th><th>photoz_err</th><th>HOST_RA</th><th>HOST_DEC</th><th>HOST_DIST</th><th>HOST_VHOST</th><th>HOST_MK</th><th>HOST_NSAID</th><th>HOST_FLAG</th><th>HOST_SAGA_NAME</th><th>RHOST_ARCM</th><th>RHOST_KPC</th><th>OBJ_NSAID</th><th>SATS</th><th>PCLASS_1</th><th>PCLASS_1_WISE</th><th>REMOVE</th><th>TELNAME</th><th>MASKNAME</th><th>ZQUALITY</th><th>SPEC_REPEAT</th></tr></thead>\n",
       "<tr><td>0</td><td>1237680064810057894</td><td>343.294258523</td><td>-5.58921577634</td><td>3</td><td>105622104310288</td><td>50</td><td>21.2786</td><td>20.0779</td><td>18.963</td><td>18.5593</td><td>18.1466</td><td>0.270392</td><td>0.0371932</td><td>0.0206606</td><td>0.0215363</td><td>0.05477</td><td>0.189258</td><td>0.139254</td><td>0.100999</td><td>0.0765843</td><td>0.0542992</td><td>20.0711</td><td>20.6936</td><td>0.962713</td><td>21.1962808426</td><td>1.66848</td><td>5.27627</td><td>19.0445</td><td>22.1515399943</td><td>9999.0</td><td>9999.0</td><td>9999.0</td><td>9999.0</td><td>9999.0</td><td>9999.0</td><td>15.196</td><td>0.027356</td><td>14.782</td><td>0.103</td><td>0.321661</td><td>-1.0</td><td>-1</td><td>0.306445</td><td>0.066518</td><td>343.924</td><td>-5.49535</td><td>39.406</td><td>2859.0</td><td>9.229</td><td>150307</td><td>0</td><td></td><td>38.0301638926</td><td>435.921017981</td><td>-1</td><td>0</td><td>6.89668104769e-05</td><td>0.000141353059347</td><td>-1</td><td>WIYN</td><td>/Spectra/Final/WIYN/zspec.Iliad_1-bright.fits</td><td>4.0</td><td></td></tr>\n",
       "<tr><td>1</td><td>1237680064810123417</td><td>343.444169465</td><td>-5.54131590337</td><td>3</td><td>35255507615760</td><td>56</td><td>18.9342</td><td>17.7578</td><td>17.0971</td><td>16.6959</td><td>16.4372</td><td>0.0381764</td><td>0.00654818</td><td>0.00535618</td><td>0.00539426</td><td>0.013033</td><td>0.192689</td><td>0.141779</td><td>0.10283</td><td>0.0779727</td><td>0.0552836</td><td>18.2142</td><td>18.8859</td><td>1.59287</td><td>20.103459924</td><td>1.86204</td><td>4.3</td><td>17.0562</td><td>20.4016001454</td><td>15.864</td><td>0.094</td><td>15.086</td><td>0.114</td><td>14.702</td><td>0.127</td><td>13.6805</td><td>0.00660505</td><td>13.686</td><td>0.053</td><td>0.0897762</td><td>-1.0</td><td>-1</td><td>0.115424</td><td>0.022878</td><td>343.924</td><td>-5.49535</td><td>39.406</td><td>2859.0</td><td>9.229</td><td>150307</td><td>0</td><td></td><td>28.7899180127</td><td>330.007508884</td><td>-1</td><td>0</td><td>0.00252629972319</td><td>0.00556550653963</td><td>-1</td><td>WIYN</td><td>/Spectra/Final/WIYN/zspec.Iliad_3-bright.fits</td><td>4.0</td><td></td></tr>\n",
       "<tr><td>2</td><td>1237680065346994239</td><td>343.326444569</td><td>-5.2758046794</td><td>3</td><td>35253360132112</td><td>69</td><td>20.2127</td><td>18.9821</td><td>18.306</td><td>17.8976</td><td>17.6584</td><td>0.101598</td><td>0.0129432</td><td>0.0111533</td><td>0.0113838</td><td>0.0293664</td><td>0.18861</td><td>0.138778</td><td>0.100653</td><td>0.0763222</td><td>0.0541134</td><td>19.1818</td><td>19.8479</td><td>1.34581</td><td>20.9463948466</td><td>1.47876</td><td>3.40242</td><td>18.2951</td><td>21.1400208873</td><td>16.662</td><td>0.15</td><td>15.523</td><td>9999.0</td><td>15.076</td><td>9999.0</td><td>15.1883</td><td>0.0233187</td><td>15.133</td><td>0.157</td><td>0.0735444</td><td>-1.0</td><td>-1</td><td>0.107555</td><td>0.023803</td><td>343.924</td><td>-5.49535</td><td>39.406</td><td>2859.0</td><td>9.229</td><td>150307</td><td>0</td><td></td><td>38.0419851507</td><td>436.056513705</td><td>-1</td><td>0</td><td>0.00350788986243</td><td>0.00289022683502</td><td>-1</td><td>WIYN</td><td>/Spectra/Final/WIYN/zspec.Iliad_3-bright.fits</td><td>4.0</td><td></td></tr>\n",
       "<tr><td>3</td><td>1237680064810123422</td><td>343.302816457</td><td>-5.49094372909</td><td>3</td><td>35253360001368</td><td>83</td><td>20.0244</td><td>18.6582</td><td>17.7721</td><td>17.2416</td><td>16.9345</td><td>0.103341</td><td>0.0132388</td><td>0.0092604</td><td>0.00862031</td><td>0.0214026</td><td>0.188044</td><td>0.138361</td><td>0.100351</td><td>0.076093</td><td>0.0539509</td><td>18.9995</td><td>19.6448</td><td>1.27988</td><td>20.6224121084</td><td>1.72586</td><td>4.90918</td><td>17.9297</td><td>21.1102191001</td><td>16.267</td><td>0.116</td><td>15.282</td><td>0.121</td><td>14.861</td><td>0.13</td><td>14.0669</td><td>0.00935812</td><td>13.831</td><td>0.052</td><td>0.167784</td><td>-1.0</td><td>-1</td><td>0.156491</td><td>0.024198</td><td>343.924</td><td>-5.49535</td><td>39.406</td><td>2859.0</td><td>9.229</td><td>150307</td><td>0</td><td></td><td>37.1006559893</td><td>425.266946008</td><td>-1</td><td>0</td><td>-1.0</td><td>-1.0</td><td>-1</td><td>WIYN</td><td>/Spectra/Final/WIYN/zspec.Iliad_2-bright.fits</td><td>4.0</td><td></td></tr>\n",
       "<tr><td>4</td><td>1237680189904519388</td><td>343.283100026</td><td>-5.30773665895</td><td>3</td><td>35221147881488</td><td>78</td><td>19.5718</td><td>18.9171</td><td>18.2944</td><td>18.0194</td><td>17.7969</td><td>0.0678622</td><td>0.0132323</td><td>0.0122917</td><td>0.0139708</td><td>0.0377175</td><td>0.187603</td><td>0.138037</td><td>0.100116</td><td>0.0759148</td><td>0.0538245</td><td>19.474</td><td>20.1938</td><td>1.83255</td><td>21.6051758386</td><td>1.77031</td><td>3.56664</td><td>18.3302</td><td>21.5658893491</td><td>9999.0</td><td>9999.0</td><td>9999.0</td><td>9999.0</td><td>9999.0</td><td>9999.0</td><td>15.2708</td><td>0.0266607</td><td>15.173</td><td>0.168</td><td>0.232963</td><td>-1.0</td><td>-1</td><td>0.244854</td><td>0.046643</td><td>343.924</td><td>-5.49535</td><td>39.406</td><td>2859.0</td><td>9.229</td><td>150307</td><td>0</td><td></td><td>39.8981754873</td><td>457.332174987</td><td>-1</td><td>0</td><td>0.0012627662232</td><td>0.00110375076419</td><td>-1</td><td>WIYN</td><td>/Spectra/Final/WIYN/zspec.Iliad_1-bright.fits</td><td>4.0</td><td></td></tr>\n",
       "<tr><td>5</td><td>1237680064809992382</td><td>343.13867092</td><td>-5.61561546823</td><td>3</td><td>105622104179216</td><td>7</td><td>22.6003</td><td>19.9505</td><td>18.6474</td><td>18.1128</td><td>17.8022</td><td>1.13625</td><td>0.0439179</td><td>0.0207497</td><td>0.0198917</td><td>0.0542759</td><td>0.188922</td><td>0.139007</td><td>0.10082</td><td>0.0764484</td><td>0.0542029</td><td>20.1344</td><td>20.8094</td><td>1.89454</td><td>22.4062551834</td><td>1.91264</td><td>5.06024</td><td>18.9467</td><td>22.3503180692</td><td>9999.0</td><td>9999.0</td><td>9999.0</td><td>9999.0</td><td>9999.0</td><td>9999.0</td><td>14.7826</td><td>0.0188548</td><td>9999.0</td><td>9999.0</td><td>0.204143</td><td>-1.0</td><td>-1</td><td>0.211551</td><td>0.029907</td><td>343.924</td><td>-5.49535</td><td>39.406</td><td>2859.0</td><td>9.229</td><td>150307</td><td>0</td><td></td><td>47.4550105436</td><td>543.947207645</td><td>-1</td><td>0</td><td>5.09129220406e-05</td><td>nan</td><td>-1</td><td>WIYN</td><td>/Spectra/Final/WIYN/zspec.Iliad_1-bright.fits</td><td>4.0</td><td></td></tr>\n",
       "<tr><td>6</td><td>1237680189904585058</td><td>343.424951295</td><td>-5.48902686711</td><td>3</td><td>69055152456</td><td>87</td><td>23.2376</td><td>19.8928</td><td>18.4575</td><td>17.9489</td><td>17.5412</td><td>1.08794</td><td>0.0205951</td><td>0.0113408</td><td>0.0111655</td><td>0.0210086</td><td>0.190969</td><td>0.140513</td><td>0.101912</td><td>0.0772768</td><td>0.0547902</td><td>19.1858</td><td>19.7511</td><td>0.832398</td><td>20.1917944638</td><td>1.24128</td><td>3.23735</td><td>18.4845</td><td>20.9493386732</td><td>16.395</td><td>0.119</td><td>15.84</td><td>0.17</td><td>14.839</td><td>0.129</td><td>14.6751</td><td>0.013761</td><td>14.407</td><td>0.086</td><td>0.243971</td><td>-1.0</td><td>-1</td><td>0.24575</td><td>0.029337</td><td>343.924</td><td>-5.49535</td><td>39.406</td><td>2859.0</td><td>9.229</td><td>150307</td><td>0</td><td></td><td>29.8077183133</td><td>341.673866111</td><td>-1</td><td>0</td><td>-1.0</td><td>-1.0</td><td>-1</td><td>WIYN</td><td>/Spectra/Final/WIYN/zspec.Iliad_3-bright.fits</td><td>4.0</td><td></td></tr>\n",
       "<tr><td>7</td><td>1237680064810057752</td><td>343.194216946</td><td>-5.51338878489</td><td>3</td><td>175922129014800</td><td>56</td><td>19.0157</td><td>17.6681</td><td>17.1853</td><td>16.8558</td><td>16.7152</td><td>0.0644432</td><td>0.00868633</td><td>0.00817487</td><td>0.00906455</td><td>0.027869</td><td>0.187101</td><td>0.137667</td><td>0.0998476</td><td>0.0757114</td><td>0.0536803</td><td>19.315</td><td>20.0481</td><td>5.00899</td><td>22.6794880476</td><td>3.73919</td><td>9.0355</td><td>17.1741</td><td>22.0334232918</td><td>9999.0</td><td>9999.0</td><td>9999.0</td><td>9999.0</td><td>9999.0</td><td>9999.0</td><td>14.302</td><td>0.0143517</td><td>14.742</td><td>0.105</td><td>0.0654179</td><td>-1.0</td><td>-1</td><td>0.064428</td><td>0.014781</td><td>343.924</td><td>-5.49535</td><td>39.406</td><td>2859.0</td><td>9.229</td><td>150307</td><td>0</td><td></td><td>43.599173265</td><td>499.752622675</td><td>-1</td><td>0</td><td>0.00145014681117</td><td>0.00384500164673</td><td>-1</td><td>WIYN</td><td>/Spectra/Final/WIYN/zspec.Iliad_1-bright.fits</td><td>4.0</td><td></td></tr>\n",
       "<tr><td>8</td><td>1237680065346928826</td><td>343.257886426</td><td>-5.2668067374</td><td>3</td><td>68987912192</td><td>69</td><td>20.5836</td><td>19.4169</td><td>18.5257</td><td>18.0343</td><td>17.768</td><td>0.11574</td><td>0.01586</td><td>0.0115109</td><td>0.0108612</td><td>0.0273223</td><td>0.186521</td><td>0.13724</td><td>0.0995382</td><td>0.0754768</td><td>0.053514</td><td>19.1707</td><td>19.7685</td><td>0.930236</td><td>20.3640963013</td><td>1.22547</td><td>2.67354</td><td>18.5101</td><td>20.9470206824</td><td>16.684</td><td>0.135</td><td>15.57</td><td>0.131</td><td>15.149</td><td>0.167</td><td>14.6377</td><td>0.013586</td><td>14.044</td><td>0.059</td><td>0.216952</td><td>-1.0</td><td>-1</td><td>0.192169</td><td>0.02489</td><td>343.924</td><td>-5.49535</td><td>39.406</td><td>2859.0</td><td>9.229</td><td>150307</td><td>0</td><td></td><td>42.0800711853</td><td>482.340901523</td><td>-1</td><td>0</td><td>0.00131043246989</td><td>0.000793392297173</td><td>-1</td><td>WIYN</td><td>/Spectra/Final/WIYN/zspec.Iliad_1-bright.fits</td><td>4.0</td><td></td></tr>\n",
       "<tr><td>9</td><td>1237680189367714013</td><td>343.307045753</td><td>-5.73466072968</td><td>3</td><td>35255507619856</td><td>34</td><td>19.469</td><td>18.2511</td><td>17.6993</td><td>17.3114</td><td>17.0959</td><td>0.073058</td><td>0.0116705</td><td>0.0101319</td><td>0.0107289</td><td>0.0308785</td><td>0.196076</td><td>0.144271</td><td>0.104637</td><td>0.0793433</td><td>0.0562554</td><td>19.5097</td><td>20.2379</td><td>4.60449</td><td>23.010688199</td><td>2.99422</td><td>7.01059</td><td>17.7544</td><td>22.1312944726</td><td>9999.0</td><td>9999.0</td><td>9999.0</td><td>9999.0</td><td>9999.0</td><td>9999.0</td><td>14.7091</td><td>0.0201568</td><td>15.252</td><td>0.186</td><td>0.0597085</td><td>-1.0</td><td>-1</td><td>0.067445</td><td>0.014687</td><td>343.924</td><td>-5.49535</td><td>39.406</td><td>2859.0</td><td>9.229</td><td>150307</td><td>0</td><td></td><td>39.545936461</td><td>453.294819877</td><td>-1</td><td>0</td><td>0.000930011565746</td><td>0.00177635213848</td><td>-1</td><td>WIYN</td><td>/Spectra/Final/WIYN/zspec.Iliad_1-bright.fits</td><td>4.0</td><td></td></tr>\n",
       "<tr><td>10</td><td>1237680189367714002</td><td>343.279903407</td><td>-5.88112968485</td><td>3</td><td>68987912448</td><td>53</td><td>22.4616</td><td>20.1316</td><td>18.7902</td><td>18.2834</td><td>17.9917</td><td>0.665664</td><td>0.0290042</td><td>0.0151345</td><td>0.0151779</td><td>0.0357318</td><td>0.201105</td><td>0.147971</td><td>0.107321</td><td>0.0813782</td><td>0.0576981</td><td>19.6918</td><td>20.305</td><td>0.93998</td><td>20.8324573723</td><td>1.2792</td><td>3.01725</td><td>18.9307</td><td>21.4608976147</td><td>17.377</td><td>0.252</td><td>16.283</td><td>0.261</td><td>15.266</td><td>0.193</td><td>15.3847</td><td>0.0292078</td><td>15.052</td><td>0.146</td><td>0.205144</td><td>-1.0</td><td>-1</td><td>0.209435</td><td>0.013974</td><td>343.924</td><td>-5.49535</td><td>39.406</td><td>2859.0</td><td>9.229</td><td>150307</td><td>0</td><td></td><td>44.895147071</td><td>514.606803872</td><td>-1</td><td>0</td><td>-1.0</td><td>-1.0</td><td>-1</td><td>WIYN</td><td>/Spectra/Final/WIYN/zspec.Iliad_1-bright.fits</td><td>4.0</td><td></td></tr>\n",
       "<tr><td>11</td><td>1237680189367648673</td><td>343.194588017</td><td>-5.78145700519</td><td>3</td><td>158398662447360</td><td>53</td><td>20.8751</td><td>19.8596</td><td>18.8247</td><td>18.4039</td><td>18.0882</td><td>0.171589</td><td>0.0267419</td><td>0.0172142</td><td>0.0179534</td><td>0.0470907</td><td>0.196314</td><td>0.144446</td><td>0.104764</td><td>0.0794394</td><td>0.0563235</td><td>19.9339</td><td>20.6457</td><td>1.50151</td><td>21.7028095309</td><td>1.68208</td><td>3.38613</td><td>18.8692</td><td>21.9938774054</td><td>9999.0</td><td>9999.0</td><td>9999.0</td><td>9999.0</td><td>9999.0</td><td>9999.0</td><td>15.2273</td><td>0.0274539</td><td>14.735</td><td>0.114</td><td>0.310551</td><td>-1.0</td><td>-1</td><td>0.276854</td><td>0.04809</td><td>343.924</td><td>-5.49535</td><td>39.406</td><td>2859.0</td><td>9.229</td><td>150307</td><td>0</td><td></td><td>46.8238301272</td><td>536.712830359</td><td>-1</td><td>0</td><td>-1.0</td><td>-1.0</td><td>-1</td><td>WIYN</td><td>/Spectra/Final/WIYN/zspec.Iliad_2-bright.fits</td><td>4.0</td><td></td></tr>\n",
       "<tr><td>12</td><td>1237680064809992507</td><td>343.137176061</td><td>-5.57517720289</td><td>3</td><td>68987912192</td><td>50</td><td>20.228</td><td>19.6543</td><td>18.8064</td><td>18.3003</td><td>18.0953</td><td>0.112301</td><td>0.0279872</td><td>0.019211</td><td>0.0187042</td><td>0.0555633</td><td>0.188151</td><td>0.138439</td><td>0.100408</td><td>0.0761362</td><td>0.0539815</td><td>19.9755</td><td>20.6204</td><td>1.07034</td><td>21.2458451648</td><td>1.62428</td><td>4.11191</td><td>18.9785</td><td>22.0272131597</td><td>9999.0</td><td>9999.0</td><td>9999.0</td><td>9999.0</td><td>9999.0</td><td>9999.0</td><td>15.4615</td><td>0.0313601</td><td>15.171</td><td>0.158</td><td>0.233497</td><td>-1.0</td><td>-1</td><td>0.331401</td><td>0.104254</td><td>343.924</td><td>-5.49535</td><td>39.406</td><td>2859.0</td><td>9.229</td><td>150307</td><td>0</td><td></td><td>47.2359177046</td><td>541.436041404</td><td>-1</td><td>0</td><td>0.000160444692193</td><td>0.000247556661682</td><td>-1</td><td>WIYN</td><td>/Spectra/Final/WIYN/zspec.Iliad_3-bright.fits</td><td>4.0</td><td></td></tr>\n",
       "<tr><td>13</td><td>1237680064809992370</td><td>343.131492299</td><td>-5.48588343889</td><td>3</td><td>105622104178704</td><td>87</td><td>21.4912</td><td>18.6215</td><td>17.4185</td><td>16.8986</td><td>16.5731</td><td>0.39037</td><td>0.0139721</td><td>0.00776551</td><td>0.00729161</td><td>0.0173337</td><td>0.187076</td><td>0.137649</td><td>0.0998345</td><td>0.0757015</td><td>0.0536733</td><td>18.7395</td><td>19.379</td><td>1.53197</td><td>20.6676921716</td><td>1.98802</td><td>5.45355</td><td>17.5527</td><td>21.0402579864</td><td>16.141</td><td>0.106</td><td>15.538</td><td>0.148</td><td>14.799</td><td>0.132</td><td>13.8846</td><td>0.00886992</td><td>13.835</td><td>0.052</td><td>0.166783</td><td>-1.0</td><td>-1</td><td>0.176949</td><td>0.020902</td><td>343.924</td><td>-5.49535</td><td>39.406</td><td>2859.0</td><td>9.229</td><td>150307</td><td>0</td><td></td><td>47.3353268178</td><td>542.575434503</td><td>-1</td><td>0</td><td>7.62729818351e-05</td><td>7.1170591068e-05</td><td>-1</td><td>WIYN</td><td>/Spectra/Final/WIYN/zspec.Iliad_2-bright.fits</td><td>4.0</td><td></td></tr>\n",
       "<tr><td>14</td><td>1237680064809992492</td><td>343.092097618</td><td>-5.51906283806</td><td>3</td><td>35253360136720</td><td>50</td><td>20.3754</td><td>19.4812</td><td>18.6158</td><td>18.1657</td><td>17.9387</td><td>0.120207</td><td>0.0224347</td><td>0.0151637</td><td>0.0152698</td><td>0.0438744</td><td>0.187735</td><td>0.138134</td><td>0.100186</td><td>0.075968</td><td>0.0538623</td><td>19.6642</td><td>20.2838</td><td>1.05693</td><td>21.0000312802</td><td>1.68355</td><td>5.66198</td><td>18.6383</td><td>21.7649241304</td><td>9999.0</td><td>9999.0</td><td>9999.0</td><td>9999.0</td><td>9999.0</td><td>9999.0</td><td>14.9414</td><td>0.020218</td><td>14.319</td><td>0.084</td><td>0.238568</td><td>-1.0</td><td>-1</td><td>0.213664</td><td>0.035774</td><td>343.924</td><td>-5.49535</td><td>39.406</td><td>2859.0</td><td>9.229</td><td>150307</td><td>0</td><td></td><td>49.7051032405</td><td>569.736861182</td><td>-1</td><td>0</td><td>0.000303007298069</td><td>0.000377608872966</td><td>-1</td><td>WIYN</td><td>/Spectra/Final/WIYN/zspec.Iliad_2-bright.fits</td><td>4.0</td><td></td></tr>\n",
       "<tr><td>15</td><td>1237680064809992423</td><td>343.074860719</td><td>-5.50965084555</td><td>3</td><td>35253360001040</td><td>78</td><td>20.4456</td><td>19.4386</td><td>18.9454</td><td>18.6401</td><td>18.5101</td><td>0.0916046</td><td>0.0162752</td><td>0.0144944</td><td>0.0161606</td><td>0.0504635</td><td>0.187711</td><td>0.138116</td><td>0.100173</td><td>0.0759583</td><td>0.0538553</td><td>19.5589</td><td>20.1601</td><td>0.74655</td><td>20.3061281772</td><td>1.17659</td><td>3.3032</td><td>18.8728</td><td>21.2214009951</td><td>9999.0</td><td>9999.0</td><td>9999.0</td><td>9999.0</td><td>9999.0</td><td>9999.0</td><td>15.9375</td><td>0.0457561</td><td>15.49</td><td>0.194</td><td>0.0981153</td><td>-1.0</td><td>-1</td><td>0.115215</td><td>0.027068</td><td>343.924</td><td>-5.49535</td><td>39.406</td><td>2859.0</td><td>9.229</td><td>150307</td><td>0</td><td></td><td>50.7214551949</td><td>581.385797353</td><td>-1</td><td>0</td><td>0.00106977339941</td><td>0.000953794507447</td><td>-1</td><td>WIYN</td><td>/Spectra/Final/WIYN/zspec.Iliad_3-bright.fits</td><td>4.0</td><td></td></tr>\n",
       "<tr><td>16</td><td>1237680265066774628</td><td>343.304747221</td><td>-5.92456856152</td><td>3</td><td>105622104309776</td><td>80</td><td>21.8557</td><td>19.9057</td><td>18.934</td><td>18.4454</td><td>18.0653</td><td>0.355003</td><td>0.0243146</td><td>0.0163503</td><td>0.0161084</td><td>0.0360608</td><td>0.202265</td><td>0.148825</td><td>0.10794</td><td>0.0818476</td><td>0.058031</td><td>19.5164</td><td>20.0948</td><td>0.673624</td><td>20.1736234384</td><td>1.27785</td><td>3.47591</td><td>18.9059</td><td>21.4337440237</td><td>16.238</td><td>0.109</td><td>15.75</td><td>9999.0</td><td>15.19</td><td>9999.0</td><td>15.4897</td><td>0.0293744</td><td>14.991</td><td>0.134</td><td>0.124801</td><td>-1.0</td><td>-1</td><td>0.079787</td><td>0.01777</td><td>343.924</td><td>-5.49535</td><td>39.406</td><td>2859.0</td><td>9.229</td><td>150307</td><td>0</td><td></td><td>45.0673801666</td><td>516.580898197</td><td>-1</td><td>0</td><td>0.00190877691228</td><td>0.000275162970286</td><td>-1</td><td>WIYN</td><td>/Spectra/Final/WIYN/zspec.Iliad_3-bright.fits</td><td>4.0</td><td></td></tr>\n",
       "<tr><td>17</td><td>1237680189367648312</td><td>343.187517816</td><td>-5.71934401071</td><td>3</td><td>35253360136464</td><td>24</td><td>22.5264</td><td>20.7184</td><td>19.0048</td><td>18.4042</td><td>18.1266</td><td>0.96388</td><td>0.076687</td><td>0.0273242</td><td>0.0226305</td><td>0.0519555</td><td>0.192602</td><td>0.141715</td><td>0.102783</td><td>0.0779374</td><td>0.0552586</td><td>20.0729</td><td>20.7092</td><td>0.992914</td><td>21.3621614883</td><td>1.86606</td><td>5.82299</td><td>19.0407</td><td>22.3908261681</td><td>9999.0</td><td>9999.0</td><td>9999.0</td><td>9999.0</td><td>9999.0</td><td>9999.0</td><td>14.811</td><td>0.0200931</td><td>9999.0</td><td>9999.0</td><td>0.318925</td><td>-1.0</td><td>-1</td><td>0.317791</td><td>0.01575</td><td>343.924</td><td>-5.49535</td><td>39.406</td><td>2859.0</td><td>9.229</td><td>150307</td><td>0</td><td></td><td>45.993236929</td><td>527.192823419</td><td>-1</td><td>0</td><td>-1.0</td><td>-1.0</td><td>-1</td><td>WIYN</td><td>/Spectra/Final/WIYN/zspec.Iliad_1-bright.fits</td><td>4.0</td><td></td></tr>\n",
       "<tr><td>18</td><td>1237680189367582881</td><td>343.125927455</td><td>-5.71731408349</td><td>3</td><td>140806476398848</td><td>96</td><td>21.0179</td><td>18.8085</td><td>17.6354</td><td>17.1511</td><td>16.7354</td><td>0.275112</td><td>0.0152484</td><td>0.00913098</td><td>0.00878867</td><td>0.0205398</td><td>0.192666</td><td>0.141762</td><td>0.102818</td><td>0.0779636</td><td>0.0552771</td><td>19.0888</td><td>19.6994</td><td>1.5571</td><td>21.0505288333</td><td>2.60207</td><td>5.56436</td><td>17.7326</td><td>21.8046328734</td><td>16.346</td><td>0.139</td><td>15.557</td><td>0.139</td><td>15.404</td><td>0.207</td><td>14.1136</td><td>0.011964</td><td>14.313</td><td>0.088</td><td>0.15691</td><td>-1.0</td><td>-1</td><td>0.147535</td><td>0.009675</td><td>343.924</td><td>-5.49535</td><td>39.406</td><td>2859.0</td><td>9.229</td><td>150307</td><td>0</td><td></td><td>49.4898788034</td><td>567.270056009</td><td>-1</td><td>0</td><td>-1.0</td><td>-1.0</td><td>-1</td><td>WIYN</td><td>/Spectra/Final/WIYN/zspec.Iliad_1-bright.fits</td><td>4.0</td><td></td></tr>\n",
       "<tr><td>19</td><td>1237680189367648414</td><td>343.194673452</td><td>-5.77251287635</td><td>3</td><td>68988043520</td><td>53</td><td>19.766</td><td>18.0265</td><td>17.0864</td><td>16.598</td><td>16.2161</td><td>0.0933449</td><td>0.00913226</td><td>0.00643884</td><td>0.00619481</td><td>0.0140447</td><td>0.195789</td><td>0.144059</td><td>0.104484</td><td>0.079227</td><td>0.0561729</td><td>18.8247</td><td>19.5488</td><td>4.3614</td><td>22.2799407287</td><td>2.8477</td><td>7.16404</td><td>17.1294</td><td>21.3972799535</td><td>16.039</td><td>0.122</td><td>15.215</td><td>0.123</td><td>14.632</td><td>0.118</td><td>13.3877</td><td>0.00653515</td><td>13.599</td><td>0.064</td><td>0.0897762</td><td>-1.0</td><td>-1</td><td>0.08883</td><td>0.021427</td><td>343.924</td><td>-5.49535</td><td>39.406</td><td>2859.0</td><td>9.229</td><td>150307</td><td>0</td><td></td><td>46.6249919686</td><td>534.433810615</td><td>-1</td><td>0</td><td>-1.0</td><td>-1.0</td><td>-1</td><td>WIYN</td><td>/Spectra/Final/WIYN/zspec.Iliad_3-bright.fits</td><td>4.0</td><td></td></tr>\n",
       "<tr><td>20</td><td>1237680065346863596</td><td>343.044599238</td><td>-5.24284486953</td><td>3</td><td>68987912192</td><td>94</td><td>22.2179</td><td>20.1513</td><td>18.6983</td><td>18.1267</td><td>17.687</td><td>0.69997</td><td>0.040125</td><td>0.0176385</td><td>0.0160173</td><td>0.0382604</td><td>0.180802</td><td>0.133033</td><td>0.0964864</td><td>0.0731627</td><td>0.0518733</td><td>19.8425</td><td>20.4564</td><td>1.01025</td><td>21.0762269426</td><td>2.03598</td><td>6.54762</td><td>18.6613</td><td>22.2006085699</td><td>17.452</td><td>0.246</td><td>16.093</td><td>0.19</td><td>15.22</td><td>0.149</td><td>14.7932</td><td>0.0187619</td><td>14.936</td><td>0.126</td><td>0.269755</td><td>-1.0</td><td>-1</td><td>0.237277</td><td>0.01969</td><td>343.924</td><td>-5.49535</td><td>39.406</td><td>2859.0</td><td>9.229</td><td>150307</td><td>0</td><td></td><td>54.6630046385</td><td>626.561447144</td><td>-1</td><td>0</td><td>6.4905844254e-05</td><td>4.97824022554e-05</td><td>-1</td><td>WIYN</td><td>/Spectra/Final/WIYN/zspec.Iliad_3-bright.fits</td><td>4.0</td><td></td></tr>\n",
       "<tr><td>21</td><td>1237680065346863389</td><td>343.112790905</td><td>-5.25586602848</td><td>3</td><td>35253360132112</td><td>84</td><td>21.2366</td><td>19.3507</td><td>18.8563</td><td>18.5018</td><td>18.3032</td><td>0.233706</td><td>0.0171503</td><td>0.0164634</td><td>0.0177931</td><td>0.0526176</td><td>0.182843</td><td>0.134534</td><td>0.0975753</td><td>0.0739884</td><td>0.0524587</td><td>19.6861</td><td>20.3651</td><td>1.24857</td><td>21.3338552024</td><td>1.39243</td><td>2.71827</td><td>18.9116</td><td>21.6259640584</td><td>9999.0</td><td>9999.0</td><td>9999.0</td><td>9999.0</td><td>9999.0</td><td>9999.0</td><td>15.8431</td><td>0.0408901</td><td>15.304</td><td>0.155</td><td>0.116657</td><td>-1.0</td><td>-1</td><td>0.076197</td><td>0.02626</td><td>343.924</td><td>-5.49535</td><td>39.406</td><td>2859.0</td><td>9.229</td><td>150307</td><td>0</td><td></td><td>50.5347393715</td><td>579.245754371</td><td>-1</td><td>0</td><td>0.004396019857</td><td>0.00356706470496</td><td>-1</td><td>WIYN</td><td>/Spectra/Final/WIYN/zspec.Iliad_3-bright.fits</td><td>4.0</td><td></td></tr>\n",
       "<tr><td>22</td><td>1237680065346863393</td><td>343.112692307</td><td>-5.25609628235</td><td>3</td><td>316730484326672</td><td>84</td><td>21.3841</td><td>25.6629</td><td>24.8059</td><td>24.7919</td><td>22.8603</td><td>0.390094</td><td>2.05145</td><td>2.68555</td><td>2.42194</td><td>2.32194</td><td>0.182851</td><td>0.13454</td><td>0.0975798</td><td>0.0739918</td><td>0.0524611</td><td>19.8664</td><td>20.5933</td><td>0.0512676</td><td>20.3467762913</td><td>-9999.0</td><td>-9999.0</td><td>24.8247</td><td>46.8199738763</td><td>9999.0</td><td>9999.0</td><td>9999.0</td><td>9999.0</td><td>9999.0</td><td>9999.0</td><td>9999.0</td><td>9999.0</td><td>15.304</td><td>0.155</td><td>0.116657</td><td>-1.0</td><td>-1</td><td>0.310172</td><td>0.191135</td><td>343.924</td><td>-5.49535</td><td>39.406</td><td>2859.0</td><td>9.229</td><td>150307</td><td>0</td><td></td><td>50.5364589486</td><td>579.265463308</td><td>-1</td><td>0</td><td>0.004396019857</td><td>0.00356706470496</td><td>-1</td><td>WIYN</td><td>/Spectra/Final/WIYN/zspec.Iliad_3-bright.fits</td><td>4.0</td><td></td></tr>\n",
       "<tr><td>23</td><td>1237680064809992310</td><td>343.011342004</td><td>-5.63836380307</td><td>3</td><td>35255507619928</td><td>4</td><td>21.2579</td><td>19.0943</td><td>18.0294</td><td>17.6244</td><td>17.3565</td><td>0.160337</td><td>0.0121195</td><td>0.00743687</td><td>0.00742214</td><td>0.0172367</td><td>0.191506</td><td>0.140908</td><td>0.102198</td><td>0.0774939</td><td>0.0549441</td><td>18.501</td><td>19.0414</td><td>0.614928</td><td>18.9689571383</td><td>0.89136</td><td>1.85761</td><td>18.0879</td><td>19.8336457285</td><td>16.458</td><td>0.116</td><td>15.738</td><td>0.14</td><td>15.543</td><td>0.214</td><td>15.5523</td><td>0.0292767</td><td>15.278</td><td>0.178</td><td>0.000667134</td><td>-1.0</td><td>-1</td><td>0.204914</td><td>0.033154</td><td>343.924</td><td>-5.49535</td><td>39.406</td><td>2859.0</td><td>9.229</td><td>150307</td><td>0</td><td></td><td>55.179083758</td><td>632.476373382</td><td>-1</td><td>2</td><td>0.000401854187987</td><td>0.000399833947269</td><td>-1</td><td>WIYN</td><td>/Spectra/Final/WIYN/zspec.Iliad_2-bright.fits</td><td>4.0</td><td></td></tr>\n",
       "<tr><td>24</td><td>1237680064809992362</td><td>343.117832673</td><td>-5.49984571177</td><td>3</td><td>175990848487768</td><td>25</td><td>19.5576</td><td>17.4552</td><td>16.4978</td><td>16.0398</td><td>15.6816</td><td>0.0849338</td><td>0.00696309</td><td>0.00484263</td><td>0.00475201</td><td>0.0103034</td><td>0.187284</td><td>0.137802</td><td>0.0999454</td><td>0.0757856</td><td>0.0537329</td><td>18.0513</td><td>18.6767</td><td>2.27402</td><td>20.6782436418</td><td>3.09398</td><td>8.07563</td><td>16.521</td><td>20.9689962504</td><td>15.48</td><td>0.086</td><td>14.777</td><td>0.099</td><td>14.341</td><td>0.09</td><td>13.1277</td><td>0.00495711</td><td>13.736</td><td>0.066</td><td>0.0907302</td><td>-1.0</td><td>-1</td><td>0.079852</td><td>0.016613</td><td>343.924</td><td>-5.49535</td><td>39.406</td><td>2859.0</td><td>9.229</td><td>150307</td><td>0</td><td></td><td>48.1484852603</td><td>551.895560066</td><td>-1</td><td>0</td><td>-1.0</td><td>-1.0</td><td>-1</td><td>WIYN</td><td>/Spectra/Final/WIYN/zspec.Iliad_1-bright.fits</td><td>4.0</td><td></td></tr>\n",
       "<tr><td>25</td><td>1237680189904519279</td><td>343.148168788</td><td>-5.27628059357</td><td>3</td><td>35253360132112</td><td>79</td><td>19.7364</td><td>18.5472</td><td>17.872</td><td>17.4607</td><td>17.1927</td><td>0.0717532</td><td>0.00964279</td><td>0.00870423</td><td>0.00866348</td><td>0.0211355</td><td>0.184299</td><td>0.135606</td><td>0.0983525</td><td>0.0745777</td><td>0.0528766</td><td>18.9342</td><td>19.6357</td><td>1.41662</td><td>20.6236907543</td><td>1.63349</td><td>3.3342</td><td>17.8971</td><td>20.9581498001</td><td>16.656</td><td>0.158</td><td>15.838</td><td>0.178</td><td>15.353</td><td>0.183</td><td>14.6562</td><td>0.0146357</td><td>14.575</td><td>0.098</td><td>0.125221</td><td>-1.0</td><td>-1</td><td>0.113049</td><td>0.024841</td><td>343.924</td><td>-5.49535</td><td>39.406</td><td>2859.0</td><td>9.229</td><td>150307</td><td>0</td><td></td><td>48.1641703411</td><td>552.075336441</td><td>-1</td><td>0</td><td>0.000968736643591</td><td>0.0015550639963</td><td>-1</td><td>WIYN</td><td>/Spectra/Final/WIYN/zspec.Iliad_1-bright.fits</td><td>4.0</td><td></td></tr>\n",
       "<tr><td>26</td><td>1237680189367582834</td><td>343.08798306</td><td>-5.74450602276</td><td>3</td><td>68988043264</td><td>36</td><td>18.4094</td><td>17.2706</td><td>16.7564</td><td>16.5509</td><td>16.3664</td><td>0.0391533</td><td>0.00659924</td><td>0.00617052</td><td>0.00714629</td><td>0.0202136</td><td>0.194284</td><td>0.142952</td><td>0.103681</td><td>0.0786182</td><td>0.0557413</td><td>18.65</td><td>19.3412</td><td>2.87208</td><td>21.4500102248</td><td>2.75881</td><td>6.93598</td><td>17.0633</td><td>21.2623786349</td><td>9999.0</td><td>9999.0</td><td>9999.0</td><td>9999.0</td><td>9999.0</td><td>9999.0</td><td>14.5164</td><td>0.018529</td><td>14.859</td><td>0.12</td><td>0.0130246</td><td>-1.0</td><td>-1</td><td>0.023935</td><td>0.014136</td><td>343.924</td><td>-5.49535</td><td>39.406</td><td>2859.0</td><td>9.229</td><td>150307</td><td>0</td><td></td><td>52.1203966403</td><td>597.419706524</td><td>-1</td><td>2</td><td>0.18434408965</td><td>0.183182390961</td><td>-1</td><td>WIYN</td><td>/Spectra/Final/WIYN/zspec.Iliad_2-bright.fits</td><td>4.0</td><td></td></tr>\n",
       "<tr><td>27</td><td>1237680189367648383</td><td>343.146969722</td><td>-5.79954168822</td><td>3</td><td>35253360136464</td><td>77</td><td>20.2466</td><td>18.2856</td><td>17.295</td><td>16.8538</td><td>16.4593</td><td>0.0991275</td><td>0.00842902</td><td>0.00589479</td><td>0.00577611</td><td>0.0121243</td><td>0.197141</td><td>0.145055</td><td>0.105206</td><td>0.0797743</td><td>0.056561</td><td>18.2804</td><td>18.8782</td><td>0.932253</td><td>19.4053109877</td><td>1.5332</td><td>4.81506</td><td>17.3361</td><td>20.2595310964</td><td>15.8</td><td>0.07</td><td>15.119</td><td>0.1</td><td>14.534</td><td>0.107</td><td>13.9528</td><td>0.00839936</td><td>14.007</td><td>0.063</td><td>0.0901965</td><td>-1.0</td><td>-1</td><td>0.099846</td><td>0.010596</td><td>343.924</td><td>-5.49535</td><td>39.406</td><td>2859.0</td><td>9.229</td><td>150307</td><td>0</td><td></td><td>49.8675968496</td><td>571.59928797</td><td>-1</td><td>0</td><td>-1.0</td><td>-1.0</td><td>-1</td><td>WIYN</td><td>/Spectra/Final/WIYN/zspec.Iliad_1-bright.fits</td><td>4.0</td><td></td></tr>\n",
       "<tr><td>28</td><td>1237680065346797796</td><td>342.968372467</td><td>-5.18975604445</td><td>3</td><td>35253360132112</td><td>62</td><td>18.5379</td><td>16.628</td><td>15.7848</td><td>15.3626</td><td>15.0716</td><td>0.0383309</td><td>0.00426466</td><td>0.00334013</td><td>0.00331328</td><td>0.00636107</td><td>0.176842</td><td>0.130119</td><td>0.0943728</td><td>0.0715601</td><td>0.050737</td><td>17.253</td><td>17.908</td><td>1.93263</td><td>19.5308749449</td><td>2.31253</td><td>7.10786</td><td>15.9051</td><td>19.7209816957</td><td>14.857</td><td>0.068</td><td>14.247</td><td>0.087</td><td>13.854</td><td>0.071</td><td>12.7328</td><td>0.00341572</td><td>13.087</td><td>0.04</td><td>0.0485006</td><td>-1.0</td><td>-1</td><td>0.046154</td><td>0.01827</td><td>343.924</td><td>-5.49535</td><td>39.406</td><td>2859.0</td><td>9.229</td><td>150307</td><td>0</td><td></td><td>59.9470727325</td><td>687.122928843</td><td>-1</td><td>2</td><td>0.00243352186299</td><td>0.000218915720773</td><td>-1</td><td>WIYN</td><td>/Spectra/Final/WIYN/zspec.Iliad_1-bright.fits</td><td>4.0</td><td></td></tr>\n",
       "<tr><td>29</td><td>1237680064809992410</td><td>343.00807705</td><td>-5.63003350997</td><td>3</td><td>19871001870664</td><td>54</td><td>20.6709</td><td>19.2345</td><td>18.3892</td><td>17.934</td><td>17.6004</td><td>0.152412</td><td>0.0183781</td><td>0.0128432</td><td>0.0130367</td><td>0.0339253</td><td>0.191316</td><td>0.140768</td><td>0.102097</td><td>0.0774171</td><td>0.0548897</td><td>19.5286</td><td>20.2272</td><td>1.6559</td><td>21.4798317648</td><td>1.81929</td><td>4.02605</td><td>18.375</td><td>21.6699861432</td><td>9999.0</td><td>9999.0</td><td>9999.0</td><td>9999.0</td><td>9999.0</td><td>9999.0</td><td>15.0798</td><td>0.0218319</td><td>14.864</td><td>0.12</td><td>0.143434</td><td>-1.0</td><td>-1</td><td>0.126214</td><td>0.022965</td><td>343.924</td><td>-5.49535</td><td>39.406</td><td>2859.0</td><td>9.229</td><td>150307</td><td>0</td><td></td><td>55.296465789</td><td>633.821719482</td><td>-1</td><td>0</td><td>-1.0</td><td>-1.0</td><td>-1</td><td>WIYN</td><td>/Spectra/Final/WIYN/zspec.Iliad_1-bright.fits</td><td>4.0</td><td></td></tr>\n",
       "<tr><td>30</td><td>1237680065346863210</td><td>343.015483699</td><td>-5.20543752239</td><td>3</td><td>35253360132112</td><td>62</td><td>20.6133</td><td>18.7846</td><td>17.6115</td><td>17.1267</td><td>16.7279</td><td>0.156567</td><td>0.0133478</td><td>0.00773427</td><td>0.00738103</td><td>0.0167151</td><td>0.178616</td><td>0.131424</td><td>0.0953195</td><td>0.0722779</td><td>0.0512459</td><td>18.6885</td><td>19.2968</td><td>0.971115</td><td>19.8389630391</td><td>1.74327</td><td>5.34853</td><td>17.6307</td><td>20.8330135278</td><td>15.961</td><td>0.087</td><td>15.326</td><td>0.104</td><td>14.902</td><td>0.12</td><td>14.1531</td><td>0.010721</td><td>14.0</td><td>0.066</td><td>0.15649</td><td>-1.0</td><td>-1</td><td>0.159929</td><td>0.013352</td><td>343.924</td><td>-5.49535</td><td>39.406</td><td>2859.0</td><td>9.229</td><td>150307</td><td>0</td><td></td><td>56.9804622924</td><td>653.122360901</td><td>-1</td><td>0</td><td>0.000145755845662</td><td>5.04721835735e-05</td><td>-1</td><td>WIYN</td><td>/Spectra/Final/WIYN/zspec.Iliad_3-bright.fits</td><td>4.0</td><td></td></tr>\n",
       "<tr><td>31</td><td>1237680065346863288</td><td>343.099423374</td><td>-5.06828629151</td><td>3</td><td>68988047360</td><td>84</td><td>19.4395</td><td>18.1159</td><td>17.464</td><td>17.091</td><td>16.7965</td><td>0.0598368</td><td>0.00830628</td><td>0.00720745</td><td>0.007333</td><td>0.0181896</td><td>0.174848</td><td>0.128651</td><td>0.0933086</td><td>0.0707531</td><td>0.0501648</td><td>18.6527</td><td>19.3451</td><td>1.57042</td><td>20.4395619226</td><td>1.91917</td><td>4.17568</td><td>17.4472</td><td>20.8582228846</td><td>16.314</td><td>0.138</td><td>15.623</td><td>0.189</td><td>15.396</td><td>0.2</td><td>14.2795</td><td>0.0114891</td><td>14.422</td><td>0.093</td><td>0.0877272</td><td>-1.0</td><td>-1</td><td>0.080897</td><td>0.02904</td><td>343.924</td><td>-5.49535</td><td>39.406</td><td>2859.0</td><td>9.229</td><td>150307</td><td>0</td><td></td><td>55.5145753109</td><td>636.321527686</td><td>-1</td><td>0</td><td>0.00173560121025</td><td>0.00111331854698</td><td>-1</td><td>WIYN</td><td>/Spectra/Final/WIYN/zspec.Iliad_2-bright.fits</td><td>4.0</td><td></td></tr>\n",
       "<tr><td>32</td><td>1237680189367582848</td><td>343.124739699</td><td>-5.69517919337</td><td>3</td><td>68987912704</td><td>8</td><td>19.8871</td><td>18.1069</td><td>17.07</td><td>16.6304</td><td>16.2102</td><td>0.0718397</td><td>0.00726204</td><td>0.00509777</td><td>0.00495621</td><td>0.00967185</td><td>0.191747</td><td>0.141085</td><td>0.102327</td><td>0.0775914</td><td>0.0550133</td><td>17.9919</td><td>18.6001</td><td>1.38424</td><td>19.9104682179</td><td>1.36565</td><td>3.54817</td><td>17.1581</td><td>19.8302519119</td><td>15.39</td><td>0.07</td><td>14.623</td><td>0.07</td><td>14.215</td><td>0.078</td><td>13.621</td><td>0.00610206</td><td>13.425</td><td>0.041</td><td>0.124087</td><td>-1.0</td><td>-1</td><td>0.117089</td><td>0.014818</td><td>343.924</td><td>-5.49535</td><td>39.406</td><td>2859.0</td><td>9.229</td><td>150307</td><td>0</td><td></td><td>49.2179304792</td><td>564.153104114</td><td>-1</td><td>0</td><td>0.000157469537561</td><td>0.000366032401855</td><td>-1</td><td>WIYN</td><td>/Spectra/Final/WIYN/zspec.Iliad_1-bright.fits</td><td>4.0</td><td></td></tr>\n",
       "<tr><td>33</td><td>1237680189367517356</td><td>342.967745574</td><td>-5.75165349792</td><td>3</td><td>35221147877392</td><td>37</td><td>18.5182</td><td>17.6113</td><td>17.271</td><td>16.9945</td><td>16.8708</td><td>0.0253477</td><td>0.00578936</td><td>0.00584851</td><td>0.00635452</td><td>0.018692</td><td>0.195892</td><td>0.144136</td><td>0.104539</td><td>0.079269</td><td>0.0562027</td><td>18.4271</td><td>19.1564</td><td>1.54466</td><td>20.2105898529</td><td>1.72736</td><td>3.17743</td><td>17.3326</td><td>20.5149542019</td><td>16.595</td><td>0.128</td><td>15.997</td><td>0.228</td><td>15.41</td><td>0.188</td><td>14.4482</td><td>0.012652</td><td>14.175</td><td>0.071</td><td>0.10007</td><td>-1.0</td><td>-1</td><td>0.070385</td><td>0.021712</td><td>343.924</td><td>-5.49535</td><td>39.406</td><td>2859.0</td><td>9.229</td><td>150307</td><td>0</td><td></td><td>59.1457560712</td><td>677.939021607</td><td>-1</td><td>0</td><td>0.00442905605126</td><td>0.00167851765444</td><td>-1</td><td>WIYN</td><td>/Spectra/Final/WIYN/zspec.Iliad_1-bright.fits</td><td>4.0</td><td></td></tr>\n",
       "<tr><td>34</td><td>1237680189367582776</td><td>342.985510025</td><td>-5.83211537255</td><td>3</td><td>35287719870480</td><td>49</td><td>20.5108</td><td>18.3591</td><td>17.3562</td><td>17.0057</td><td>16.8162</td><td>0.0872622</td><td>0.00721924</td><td>0.00521741</td><td>0.00522594</td><td>0.0121493</td><td>0.199332</td><td>0.146666</td><td>0.106375</td><td>0.0806608</td><td>0.0571895</td><td>17.8444</td><td>18.4015</td><td>0.69632</td><td>18.5656616409</td><td>0.936311</td><td>1.96034</td><td>17.399</td><td>19.251600626</td><td>15.954</td><td>0.067</td><td>15.264</td><td>0.096</td><td>15.069</td><td>0.135</td><td>15.0254</td><td>0.0182413</td><td>14.981</td><td>0.133</td><td>3.0021e-05</td><td>-1.0</td><td>-1</td><td>0.319907</td><td>0.096493</td><td>343.924</td><td>-5.49535</td><td>39.406</td><td>2859.0</td><td>9.229</td><td>150307</td><td>0</td><td></td><td>59.5814480036</td><td>682.932500678</td><td>-1</td><td>2</td><td>0.000960319002613</td><td>0.000288450908183</td><td>-1</td><td>WIYN</td><td>/Spectra/Final/WIYN/zspec.Iliad_3-bright.fits</td><td>4.0</td><td></td></tr>\n",
       "<tr><td>35</td><td>1237680189904453718</td><td>343.052535255</td><td>-5.33650350542</td><td>3</td><td>35253360136208</td><td>23</td><td>19.8813</td><td>18.7319</td><td>17.9435</td><td>17.489</td><td>17.1873</td><td>0.074348</td><td>0.010826</td><td>0.00860157</td><td>0.00841663</td><td>0.0207662</td><td>0.184577</td><td>0.13581</td><td>0.0985008</td><td>0.0746902</td><td>0.0529563</td><td>18.8893</td><td>19.489</td><td>1.07413</td><td>20.3234122144</td><td>1.5264</td><td>4.29898</td><td>17.9556</td><td>20.8693793528</td><td>16.433</td><td>0.109</td><td>15.784</td><td>0.152</td><td>15.145</td><td>0.152</td><td>14.4165</td><td>0.0116854</td><td>14.168</td><td>0.067</td><td>0.156776</td><td>-1.0</td><td>-1</td><td>0.159029</td><td>0.023949</td><td>343.924</td><td>-5.49535</td><td>39.406</td><td>2859.0</td><td>9.229</td><td>150307</td><td>0</td><td></td><td>52.9129975217</td><td>606.504024814</td><td>-1</td><td>0</td><td>0.00372844231843</td><td>0.000859869692103</td><td>-1</td><td>WIYN</td><td>/Spectra/Final/WIYN/zspec.Iliad_2-bright.fits</td><td>4.0</td><td></td></tr>\n",
       "<tr><td>36</td><td>1237680189904453854</td><td>343.009391296</td><td>-5.31501597774</td><td>3</td><td>35253360136464</td><td>15</td><td>20.0001</td><td>19.1089</td><td>18.6101</td><td>18.3012</td><td>18.2321</td><td>0.0988044</td><td>0.0163005</td><td>0.0168186</td><td>0.0189348</td><td>0.0650786</td><td>0.182798</td><td>0.134501</td><td>0.0975513</td><td>0.0739702</td><td>0.0524458</td><td>20.0039</td><td>20.716</td><td>2.85293</td><td>22.8820190837</td><td>2.12926</td><td>4.37548</td><td>18.6461</td><td>22.2827009435</td><td>9999.0</td><td>9999.0</td><td>9999.0</td><td>9999.0</td><td>9999.0</td><td>9999.0</td><td>15.8237</td><td>0.0458791</td><td>15.129</td><td>0.135</td><td>0.155899</td><td>-1.0</td><td>-1</td><td>0.151151</td><td>0.039093</td><td>343.924</td><td>-5.49535</td><td>39.406</td><td>2859.0</td><td>9.229</td><td>150307</td><td>0</td><td></td><td>55.6856206698</td><td>638.281919866</td><td>-1</td><td>0</td><td>-1.0</td><td>-1.0</td><td>-1</td><td>WIYN</td><td>/Spectra/Final/WIYN/zspec.Iliad_2-bright.fits</td><td>4.0</td><td></td></tr>\n",
       "<tr><td>37</td><td>1237680065346863232</td><td>343.038180259</td><td>-5.16371394716</td><td>3</td><td>35253360136280</td><td>94</td><td>20.6754</td><td>19.1501</td><td>18.3225</td><td>17.7906</td><td>17.5216</td><td>0.150139</td><td>0.0159133</td><td>0.0115571</td><td>0.0108886</td><td>0.0297554</td><td>0.177469</td><td>0.13058</td><td>0.0947074</td><td>0.0718138</td><td>0.0509169</td><td>19.314</td><td>20.0028</td><td>1.4264</td><td>21.0891076109</td><td>1.63455</td><td>3.91294</td><td>18.2918</td><td>21.3542009638</td><td>16.558</td><td>0.129</td><td>16.111</td><td>0.209</td><td>15.143</td><td>0.161</td><td>14.5718</td><td>0.0143428</td><td>14.062</td><td>0.063</td><td>0.14004</td><td>-1.0</td><td>-1</td><td>0.117826</td><td>0.032605</td><td>343.924</td><td>-5.49535</td><td>39.406</td><td>2859.0</td><td>9.229</td><td>150307</td><td>0</td><td></td><td>56.5231486808</td><td>647.881007822</td><td>-1</td><td>0</td><td>0.000164429130798</td><td>0.0011020820159</td><td>-1</td><td>WIYN</td><td>/Spectra/Final/WIYN/zspec.Iliad_1-bright.fits</td><td>4.0</td><td></td></tr>\n",
       "<tr><td>38</td><td>1237680243590561959</td><td>343.21692133</td><td>-5.97578709471</td><td>3</td><td>68988043776</td><td>31</td><td>18.5511</td><td>17.3349</td><td>16.7006</td><td>16.3073</td><td>16.0807</td><td>0.0364885</td><td>0.00583616</td><td>0.00496951</td><td>0.00522195</td><td>0.0127215</td><td>0.203261</td><td>0.149558</td><td>0.108472</td><td>0.0822508</td><td>0.0583169</td><td>18.163</td><td>18.831</td><td>1.55565</td><td>20.0330861151</td><td>2.24443</td><td>7.2133</td><td>16.8324</td><td>20.5833684446</td><td>15.846</td><td>0.098</td><td>15.257</td><td>0.133</td><td>14.613</td><td>0.11</td><td>13.5687</td><td>0.00689553</td><td>13.681</td><td>0.051</td><td>0.0917309</td><td>-1.0</td><td>-1</td><td>0.10218</td><td>0.020398</td><td>343.924</td><td>-5.49535</td><td>39.406</td><td>2859.0</td><td>9.229</td><td>150307</td><td>0</td><td></td><td>51.1302435828</td><td>586.071118526</td><td>-1</td><td>0</td><td>0.00201031230817</td><td>0.00127515119458</td><td>-1</td><td>WIYN</td><td>/Spectra/Final/WIYN/zspec.Iliad_3-bright.fits</td><td>4.0</td><td></td></tr>\n",
       "<tr><td>39</td><td>1237680064809926954</td><td>342.943186298</td><td>-5.65701818165</td><td>3</td><td>68988043776</td><td>71</td><td>20.2653</td><td>19.0392</td><td>18.3703</td><td>17.9271</td><td>17.7361</td><td>0.0923311</td><td>0.0133376</td><td>0.010525</td><td>0.0106042</td><td>0.0287829</td><td>0.192848</td><td>0.141895</td><td>0.102914</td><td>0.0780369</td><td>0.0553291</td><td>19.1463</td><td>19.7908</td><td>1.22386</td><td>20.8044254484</td><td>1.32403</td><td>2.99004</td><td>18.3678</td><td>20.9727664539</td><td>16.871</td><td>0.138</td><td>15.944</td><td>0.149</td><td>15.424</td><td>0.181</td><td>14.9257</td><td>0.0173998</td><td>14.652</td><td>0.092</td><td>0.0901965</td><td>-1.0</td><td>-1</td><td>0.116361</td><td>0.02474</td><td>343.924</td><td>-5.49535</td><td>39.406</td><td>2859.0</td><td>9.229</td><td>150307</td><td>0</td><td></td><td>59.3760475055</td><td>680.57840041</td><td>-1</td><td>0</td><td>0.000709148590391</td><td>0.000915808531066</td><td>-1</td><td>WIYN</td><td>/Spectra/Final/WIYN/zspec.Iliad_1-bright.fits</td><td>4.0</td><td></td></tr>\n",
       "<tr><td>40</td><td>1237680189367517465</td><td>342.969243995</td><td>-5.69607014741</td><td>3</td><td>193617394270808</td><td>35</td><td>20.5099</td><td>19.3682</td><td>18.8243</td><td>18.4349</td><td>18.2604</td><td>0.113669</td><td>0.0167037</td><td>0.0160304</td><td>0.016478</td><td>0.054347</td><td>0.193795</td><td>0.142592</td><td>0.10342</td><td>0.0784201</td><td>0.0556008</td><td>19.8315</td><td>20.4936</td><td>1.86563</td><td>22.1738572142</td><td>1.58204</td><td>3.43978</td><td>18.8557</td><td>21.8472487064</td><td>9999.0</td><td>9999.0</td><td>9999.0</td><td>9999.0</td><td>9999.0</td><td>9999.0</td><td>15.7737</td><td>0.0418761</td><td>9999.0</td><td>9999.0</td><td>0.0750525</td><td>-1.0</td><td>-1</td><td>0.090727</td><td>0.018766</td><td>343.924</td><td>-5.49535</td><td>39.406</td><td>2859.0</td><td>9.229</td><td>150307</td><td>0</td><td></td><td>58.2799789591</td><td>668.016290397</td><td>-1</td><td>0</td><td>0.000682756859976</td><td>nan</td><td>-1</td><td>WIYN</td><td>/Spectra/Final/WIYN/zspec.Iliad_1-bright.fits</td><td>4.0</td><td></td></tr>\n",
       "<tr><td>41</td><td>1237680189904388264</td><td>342.932498398</td><td>-5.46171619396</td><td>3</td><td>35253360136208</td><td>44</td><td>20.082</td><td>18.4105</td><td>17.3652</td><td>16.9117</td><td>16.5624</td><td>0.128438</td><td>0.0118535</td><td>0.00798241</td><td>0.00769954</td><td>0.0190214</td><td>0.185548</td><td>0.136524</td><td>0.0990187</td><td>0.0750828</td><td>0.0532347</td><td>18.7634</td><td>19.4341</td><td>1.5785</td><td>20.7371184566</td><td>2.07412</td><td>5.89508</td><td>17.5627</td><td>21.1423576031</td><td>16.252</td><td>0.107</td><td>15.565</td><td>0.161</td><td>15.015</td><td>0.134</td><td>14.2101</td><td>0.0122738</td><td>14.017</td><td>0.065</td><td>0.125088</td><td>-1.0</td><td>-1</td><td>0.147874</td><td>0.017647</td><td>343.924</td><td>-5.49535</td><td>39.406</td><td>2859.0</td><td>9.229</td><td>150307</td><td>0</td><td></td><td>59.251054002</td><td>679.145845536</td><td>-1</td><td>0</td><td>0.000700935825358</td><td>0.000244723014887</td><td>-1</td><td>WIYN</td><td>/Spectra/Final/WIYN/zspec.Iliad_1-bright.fits</td><td>4.0</td><td></td></tr>\n",
       "<tr><td>42</td><td>1237680243590496443</td><td>343.08030126</td><td>-6.03273066414</td><td>3</td><td>2381827801088</td><td>37</td><td>19.1535</td><td>17.9116</td><td>17.3945</td><td>17.1173</td><td>16.8968</td><td>0.0582403</td><td>0.00790611</td><td>0.00745517</td><td>0.00857686</td><td>0.0240494</td><td>0.204956</td><td>0.150804</td><td>0.109376</td><td>0.0829365</td><td>0.058803</td><td>19.033</td><td>19.7572</td><td>3.73482</td><td>22.2512882774</td><td>2.80597</td><td>6.7391</td><td>17.3679</td><td>21.6037470184</td><td>16.772</td><td>0.18</td><td>15.443</td><td>9999.0</td><td>14.998</td><td>9999.0</td><td>14.6905</td><td>0.0192146</td><td>14.606</td><td>0.088</td><td>0.0250175</td><td>-1.0</td><td>-1</td><td>0.032387</td><td>0.011592</td><td>343.924</td><td>-5.49535</td><td>39.406</td><td>2859.0</td><td>9.229</td><td>150307</td><td>0</td><td></td><td>59.8220588151</td><td>685.690144132</td><td>-1</td><td>2</td><td>0.00761233585817</td><td>0.00983660306319</td><td>-1</td><td>WIYN</td><td>/Spectra/Final/WIYN/zspec.Iliad_3-bright.fits</td><td>4.0</td><td></td></tr>\n",
       "</table><style>table.dataTable {clear: both; width: auto !important; margin: 0 !important;}\n",
       ".dataTables_info, .dataTables_length, .dataTables_filter, .dataTables_paginate{\n",
       "display: inline-block; margin-right: 1em; }\n",
       ".paginate_button { margin-right: 5px; }\n",
       "</style>\n",
       "<script>\n",
       "require.config({paths: {\n",
       "    datatables: 'https://cdn.datatables.net/1.10.9/js/jquery.dataTables.min'\n",
       "}});\n",
       "require([\"datatables\"], function(){\n",
       "    console.log(\"$('#table6059657616-655751').dataTable()\");\n",
       "    $('#table6059657616-655751').dataTable({\n",
       "        \"order\": [],\n",
       "        \"iDisplayLength\": 50,\n",
       "        \"aLengthMenu\": [[10, 25, 50, 100, 500, 1000, -1], [10, 25, 50, 100, 500, 1000, 'All']],\n",
       "        \"pagingType\": \"full_numbers\"\n",
       "    });\n",
       "});\n",
       "</script>\n"
      ],
      "text/plain": [
       "<IPython.core.display.HTML object>"
      ]
     },
     "execution_count": 440,
     "metadata": {},
     "output_type": "execute_result"
    }
   ],
   "source": [
    "sagaobsed[sagaobsed['HOST_NSAID']==150307].show_in_notebook()"
   ]
  },
  {
   "cell_type": "markdown",
   "metadata": {},
   "source": [
    "Note: NSA150307 was called \"Iliad\" when it was observed on WIYN"
   ]
  },
  {
   "cell_type": "markdown",
   "metadata": {},
   "source": [
    "## Mock sets of configurations  "
   ]
  },
  {
   "cell_type": "code",
   "execution_count": 227,
   "metadata": {
    "collapsed": false
   },
   "outputs": [
    {
     "name": "stdout",
     "output_type": "stream",
     "text": [
      "Writing aat_targets_jul2016/Narnia_test_1.fld from master aat_targets_jul2016/Narnia_master.fld\n",
      "Total remaining in each priority (5 fluxes, 30 guides, and 98 skies not included):\n",
      "{1: 2728, 2: 655, 3: 405, 4: 97, 5: 145, 6: 313, 7: 191, 8: 0, 9: 0}\n",
      "{1: 100.0, 2: 100.0, 3: 100.0, 4: 100.0, 5: 100.0, 6: 100.0, 7: 100.0, 8: None, 9: None}%\n",
      "\n",
      "Writing aat_targets_jul2016/Catch22_test_1.fld from master aat_targets_jul2016/Catch22_master.fld\n",
      "Total remaining in each priority (5 fluxes, 30 guides, and 89 skies not included):\n",
      "{1: 2976, 2: 752, 3: 429, 4: 64, 5: 119, 6: 525, 7: 285, 8: 0, 9: 0}\n",
      "{1: 100.0, 2: 100.0, 3: 100.0, 4: 100.0, 5: 100.0, 6: 100.0, 7: 100.0, 8: None, 9: None}%\n",
      "\n",
      "Writing aat_targets_jul2016/Dune_test_1.fld from master aat_targets_jul2016/Dune_master.fld\n",
      "Total remaining in each priority (5 fluxes, 30 guides, and 94 skies not included):\n",
      "{1: 3812, 2: 1136, 3: 407, 4: 182, 5: 125, 6: 156, 7: 81, 8: 0, 9: 0}\n",
      "{1: 100.0, 2: 100.0, 3: 100.0, 4: 100.0, 5: 100.0, 6: 100.0, 7: 100.0, 8: None, 9: None}%\n",
      "\n",
      "Writing aat_targets_jul2016/OBrother_test_1.fld from master aat_targets_jul2016/OBrother_master.fld\n",
      "Total remaining in each priority (5 fluxes, 30 guides, and 95 skies not included):\n",
      "{1: 2080, 2: 625, 3: 464, 4: 35, 5: 106, 6: 255, 7: 221, 8: 0, 9: 0}\n",
      "{1: 100.0, 2: 100.0, 3: 100.0, 4: 100.0, 5: 100.0, 6: 100.0, 7: 100.0, 8: None, 9: None}%\n",
      "\n",
      "Writing aat_targets_jul2016/Gilgamesh_test_1.fld from master aat_targets_jul2016/Gilgamesh_master.fld\n",
      "Total remaining in each priority (5 fluxes, 30 guides, and 98 skies not included):\n",
      "{1: 3785, 2: 941, 3: 444, 4: 44, 5: 68, 6: 53, 7: 31, 8: 0, 9: 0}\n",
      "{1: 100.0, 2: 100.0, 3: 100.0, 4: 100.0, 5: 100.0, 6: 100.0, 7: 100.0, 8: None, 9: None}%\n",
      "\n",
      "Writing aat_targets_jul2016/AnaK_test_1.fld from master aat_targets_jul2016/AnaK_master.fld\n",
      "Total remaining in each priority (5 fluxes, 30 guides, and 96 skies not included):\n",
      "{1: 2710, 2: 720, 3: 410, 4: 50, 5: 107, 6: 109, 7: 39, 8: 0, 9: 0}\n",
      "{1: 100.0, 2: 100.0, 3: 100.0, 4: 100.0, 5: 100.0, 6: 100.0, 7: 100.0, 8: None, 9: None}%\n",
      "\n",
      "Writing aat_targets_jul2016/Odyssey_test_1.fld from master aat_targets_jul2016/Odyssey_master.fld\n",
      "Total remaining in each priority (5 fluxes, 30 guides, and 92 skies not included):\n",
      "{1: 1847, 2: 676, 3: 550, 4: 3, 5: 1, 6: 24, 7: 14, 8: 0, 9: 0}\n",
      "{1: 100.0, 2: 100.0, 3: 100.0, 4: 100.0, 5: 100.0, 6: 100.0, 7: 100.0, 8: None, 9: None}%\n",
      "\n"
     ]
    }
   ],
   "source": [
    "for h in hosts_to_target:\n",
    "    fnbase = 'aat_targets_jul2016/test_runs/' + h.name\n",
    "\n",
    "    finum = 1\n",
    "    fnmaster = fnbase.replace('test_runs/', '') + '_master.fld'\n",
    "    fnconfig = fnbase + '_test_{0}.fld'.format(finum)\n",
    "    print('Writing', fnconfig, 'from master', fnmaster)\n",
    "\n",
    "    listorem = [fnbase + '_test_' + str(i) + '.lis' for i in range(1, finum)]\n",
    "    aat.subsample_from_master_fld(fnmaster, fnconfig,\n",
    "                                  {1:30, 2:30, 3:30, 4:np.inf, 5:np.inf, 6:np.inf, 7:np.inf, 8:np.inf, 9:np.inf}, #8 reserved for flux\n",
    "                                  nflux=5, nguides=30,\n",
    "                                  fieldname=str(finum), listorem=listorem)\n",
    "    print('')"
   ]
  },
  {
   "cell_type": "code",
   "execution_count": 175,
   "metadata": {
    "collapsed": false
   },
   "outputs": [
    {
     "name": "stdout",
     "output_type": "stream",
     "text": [
      "Writing aat_targets_jul2016/Narnia_test_2.fld from master aat_targets_jul2016/Narnia_master.fld\n",
      "Kept the following fibers in due to zltabkeepfunc: []\n",
      "Found 353 objects to remove in aat_targets_jul2016/Narnia_test_1.lis\n",
      "Total remaining in each priority (5 fluxes, 30 guides, and 98 skies not included):\n",
      "{1: 2728, 2: 655, 3: 404, 4: 93, 5: 130, 6: 149, 7: 23, 8: 0, 9: 0}\n",
      "{1: 100.0, 2: 100.0, 3: 99.75308641975309, 4: 95.87628865979381, 5: 89.65517241379311, 6: 47.6038338658147, 7: 12.041884816753926, 8: None, 9: 0.0}%\n",
      "\n",
      "Writing aat_targets_jul2016/Dune_test_2.fld from master aat_targets_jul2016/Dune_master.fld\n",
      "Kept the following fibers in due to zltabkeepfunc: []\n",
      "Found 353 objects to remove in aat_targets_jul2016/Dune_test_1.lis\n",
      "Total remaining in each priority (5 fluxes, 30 guides, and 94 skies not included):\n",
      "{1: 3812, 2: 1136, 3: 406, 4: 148, 5: 24, 6: 14, 7: 7, 8: 0, 9: 0}\n",
      "{1: 100.0, 2: 100.0, 3: 99.75429975429975, 4: 81.31868131868131, 5: 19.2, 6: 8.974358974358974, 7: 8.641975308641975, 8: None, 9: 0.0}%\n",
      "\n",
      "Writing aat_targets_jul2016/OBrother_test_2.fld from master aat_targets_jul2016/OBrother_master.fld\n",
      "Kept the following fibers in due to zltabkeepfunc: []\n",
      "Found 353 objects to remove in aat_targets_jul2016/OBrother_test_1.lis\n",
      "Total remaining in each priority (5 fluxes, 30 guides, and 95 skies not included):\n",
      "{1: 2080, 2: 625, 3: 446, 4: 32, 5: 84, 6: 127, 7: 40, 8: 0, 9: 0}\n",
      "{1: 100.0, 2: 100.0, 3: 96.12068965517241, 4: 91.42857142857143, 5: 79.24528301886792, 6: 49.80392156862745, 7: 18.099547511312217, 8: None, 9: 0.0}%\n",
      "\n",
      "Writing aat_targets_jul2016/Gilgamesh_test_2.fld from master aat_targets_jul2016/Gilgamesh_master.fld\n",
      "Kept the following fibers in due to zltabkeepfunc: []\n",
      "Found 353 objects to remove in aat_targets_jul2016/Gilgamesh_test_1.lis\n",
      "Total remaining in each priority (5 fluxes, 30 guides, and 98 skies not included):\n",
      "{1: 3785, 2: 926, 3: 279, 4: 6, 5: 13, 6: 1, 7: 4, 8: 0, 9: 0}\n",
      "{1: 100.0, 2: 98.40595111583421, 3: 62.83783783783784, 4: 13.636363636363637, 5: 19.11764705882353, 6: 1.8867924528301887, 7: 12.903225806451612, 8: None, 9: 0.0}%\n",
      "\n",
      "Writing aat_targets_jul2016/AnaK_test_2.fld from master aat_targets_jul2016/AnaK_master.fld\n",
      "Kept the following fibers in due to zltabkeepfunc: []\n",
      "Found 353 objects to remove in aat_targets_jul2016/AnaK_test_1.lis\n",
      "Total remaining in each priority (5 fluxes, 30 guides, and 96 skies not included):\n",
      "{1: 2710, 2: 720, 3: 315, 4: 10, 5: 23, 6: 10, 7: 5, 8: 0, 9: 1}\n",
      "{1: 100.0, 2: 100.0, 3: 76.82926829268293, 4: 20.0, 5: 21.49532710280374, 6: 9.174311926605505, 7: 12.820512820512821, 8: None, 9: 50.0}%\n",
      "\n",
      "Writing aat_targets_jul2016/Odyssey_test_2.fld from master aat_targets_jul2016/Odyssey_master.fld\n",
      "Kept the following fibers in due to zltabkeepfunc: []\n",
      "Found 353 objects to remove in aat_targets_jul2016/Odyssey_test_1.lis\n",
      "Total remaining in each priority (5 fluxes, 30 guides, and 92 skies not included):\n",
      "{1: 1847, 2: 611, 3: 303, 4: 1, 5: 0, 6: 1, 7: 0, 8: 0, 9: 0}\n",
      "{1: 100.0, 2: 90.38461538461539, 3: 55.09090909090909, 4: 33.333333333333336, 5: 0.0, 6: 4.166666666666667, 7: 0.0, 8: None, 9: 0.0}%\n",
      "\n"
     ]
    }
   ],
   "source": [
    "for h in hosts_to_target:\n",
    "    fnbase = 'aat_targets_jul2016/test_runs/' + h.name\n",
    "\n",
    "    finum = 2\n",
    "    fnmaster = fnbase.replace('test_runs/', '') + '_master.fld'\n",
    "    fnconfig = fnbase + '_test_{0}.fld'.format(finum)\n",
    "    print('Writing', fnconfig, 'from master', fnmaster)\n",
    "\n",
    "    listorem = [fnbase + '_test_' + str(i) + '.lis' for i in range(1, finum)]\n",
    "    aat.subsample_from_master_fld(fnmaster, fnconfig,\n",
    "                                  {1:30, 2:30, 3:30, 4:np.inf, 5:np.inf, 6:np.inf, 7:np.inf, 8:np.inf, 9:np.inf}, #8 reserved for flux\n",
    "                                  nflux=5, nguides=30,\n",
    "                                  fieldname=str(finum), listorem=listorem)\n",
    "    print('')"
   ]
  },
  {
   "cell_type": "code",
   "execution_count": 188,
   "metadata": {
    "collapsed": false
   },
   "outputs": [
    {
     "name": "stdout",
     "output_type": "stream",
     "text": [
      "Writing aat_targets_jul2016/Narnia_test_3.fld from master aat_targets_jul2016/Narnia_master.fld\n",
      "Kept the following fibers in due to zltabkeepfunc: []\n",
      "Found 353 objects to remove in aat_targets_jul2016/Narnia_test_1.lis\n",
      "Kept the following fibers in due to zltabkeepfunc: []\n",
      "Found 353 objects to remove in aat_targets_jul2016/Narnia_test_2.lis\n",
      "Total remaining in each priority (5 fluxes, 30 guides, and 98 skies not included):\n",
      "{1: 2717, 2: 638, 3: 377, 4: 43, 5: 35, 6: 17, 7: 2, 8: 0, 9: 0}\n",
      "{1: 99.59677419354838, 2: 97.40458015267176, 3: 93.08641975308642, 4: 44.329896907216494, 5: 24.137931034482758, 6: 5.431309904153355, 7: 1.0471204188481675, 8: None, 9: 0.0}%\n",
      "\n",
      "Writing aat_targets_jul2016/Dune_test_3.fld from master aat_targets_jul2016/Dune_master.fld\n",
      "Kept the following fibers in due to zltabkeepfunc: []\n",
      "Found 353 objects to remove in aat_targets_jul2016/Dune_test_1.lis\n",
      "Kept the following fibers in due to zltabkeepfunc: []\n",
      "Found 268 objects to remove in aat_targets_jul2016/Dune_test_2.lis\n",
      "Total remaining in each priority (5 fluxes, 30 guides, and 94 skies not included):\n",
      "{1: 3783, 2: 1107, 3: 376, 4: 11, 5: 0, 6: 0, 7: 2, 8: 0, 9: 0}\n",
      "{1: 99.2392444910808, 2: 97.44718309859155, 3: 92.38329238329239, 4: 6.043956043956044, 5: 0.0, 6: 0.0, 7: 2.4691358024691357, 8: None, 9: 0.0}%\n",
      "\n",
      "Writing aat_targets_jul2016/OBrother_test_3.fld from master aat_targets_jul2016/OBrother_master.fld\n",
      "Kept the following fibers in due to zltabkeepfunc: []\n",
      "Found 353 objects to remove in aat_targets_jul2016/OBrother_test_1.lis\n",
      "Kept the following fibers in due to zltabkeepfunc: []\n",
      "Found 316 objects to remove in aat_targets_jul2016/OBrother_test_2.lis\n",
      "Total remaining in each priority (5 fluxes, 30 guides, and 95 skies not included):\n",
      "{1: 2055, 2: 596, 3: 416, 4: 5, 5: 20, 6: 24, 7: 2, 8: 0, 9: 0}\n",
      "{1: 98.79807692307692, 2: 95.36, 3: 89.65517241379311, 4: 14.285714285714286, 5: 18.867924528301888, 6: 9.411764705882353, 7: 0.9049773755656109, 8: None, 9: 0.0}%\n",
      "\n",
      "Writing aat_targets_jul2016/Gilgamesh_test_3.fld from master aat_targets_jul2016/Gilgamesh_master.fld\n",
      "Kept the following fibers in due to zltabkeepfunc: []\n",
      "Found 353 objects to remove in aat_targets_jul2016/Gilgamesh_test_1.lis\n",
      "Kept the following fibers in due to zltabkeepfunc: []\n",
      "Found 109 objects to remove in aat_targets_jul2016/Gilgamesh_test_2.lis\n",
      "Total remaining in each priority (5 fluxes, 30 guides, and 98 skies not included):\n",
      "{1: 3755, 2: 896, 3: 249, 4: 2, 5: 1, 6: 0, 7: 2, 8: 0, 9: 0}\n",
      "{1: 99.20739762219287, 2: 95.21785334750265, 3: 56.08108108108108, 4: 4.545454545454546, 5: 1.4705882352941178, 6: 0.0, 7: 6.451612903225806, 8: None, 9: 0.0}%\n",
      "\n",
      "Writing aat_targets_jul2016/AnaK_test_3.fld from master aat_targets_jul2016/AnaK_master.fld\n",
      "Kept the following fibers in due to zltabkeepfunc: []\n",
      "Found 353 objects to remove in aat_targets_jul2016/AnaK_test_1.lis\n",
      "Kept the following fibers in due to zltabkeepfunc: []\n",
      "Found 136 objects to remove in aat_targets_jul2016/AnaK_test_2.lis\n",
      "Total remaining in each priority (5 fluxes, 30 guides, and 96 skies not included):\n",
      "{1: 2682, 2: 690, 3: 285, 4: 0, 5: 1, 6: 0, 7: 0, 8: 0, 9: 0}\n",
      "{1: 98.96678966789668, 2: 95.83333333333333, 3: 69.51219512195122, 4: 0.0, 5: 0.9345794392523364, 6: 0.0, 7: 0.0, 8: None, 9: 0.0}%\n",
      "\n",
      "Writing aat_targets_jul2016/Odyssey_test_3.fld from master aat_targets_jul2016/Odyssey_master.fld\n",
      "Kept the following fibers in due to zltabkeepfunc: []\n",
      "Found 353 objects to remove in aat_targets_jul2016/Odyssey_test_1.lis\n",
      "Kept the following fibers in due to zltabkeepfunc: []\n",
      "Found 89 objects to remove in aat_targets_jul2016/Odyssey_test_2.lis\n",
      "Total remaining in each priority (5 fluxes, 30 guides, and 92 skies not included):\n",
      "{1: 1820, 2: 581, 3: 273, 4: 0, 5: 0, 6: 0, 7: 0, 8: 0, 9: 0}\n",
      "{1: 98.53817000541419, 2: 85.94674556213018, 3: 49.63636363636363, 4: 0.0, 5: 0.0, 6: 0.0, 7: 0.0, 8: None, 9: 0.0}%\n",
      "\n"
     ]
    }
   ],
   "source": [
    "for h in hosts_to_target:\n",
    "    fnbase = 'aat_targets_jul2016/test_runs/' + h.name\n",
    "\n",
    "    finum = 3\n",
    "    fnmaster = fnbase.replace('test_runs/', '') + '_master.fld'\n",
    "    fnconfig = fnbase + '_test_{0}.fld'.format(finum)\n",
    "    print('Writing', fnconfig, 'from master', fnmaster)\n",
    "\n",
    "    listorem = [fnbase + '_test_' + str(i) + '.lis' for i in range(1, finum)]\n",
    "    aat.subsample_from_master_fld(fnmaster, fnconfig,\n",
    "                                  {1:30, 2:30, 3:30, 4:np.inf, 5:np.inf, 6:np.inf, 7:np.inf, 8:np.inf, 9:np.inf}, #8 reserved for flux\n",
    "                                  nflux=5, nguides=30,\n",
    "                                  fieldname=str(finum), listorem=listorem)\n",
    "    print('')"
   ]
  },
  {
   "cell_type": "markdown",
   "metadata": {},
   "source": [
    "Basically there after 2 observations of  Narnia and OBrother.  AnaK and Dune 1 or maybe 2, Gilg/Ody 1."
   ]
  },
  {
   "cell_type": "markdown",
   "metadata": {},
   "source": [
    "Guess: Catch 22 requires 2 or 3"
   ]
  },
  {
   "cell_type": "markdown",
   "metadata": {},
   "source": [
    "NSA 145729 and maybe 165082? "
   ]
  },
  {
   "cell_type": "markdown",
   "metadata": {},
   "source": [
    "### Catch22 added later "
   ]
  },
  {
   "cell_type": "code",
   "execution_count": 231,
   "metadata": {
    "collapsed": false
   },
   "outputs": [
    {
     "name": "stdout",
     "output_type": "stream",
     "text": [
      "Writing aat_targets_jul2016/Catch22_test_2.fld from master aat_targets_jul2016/Catch22_master.fld\n",
      "Kept the following fibers in due to zltabkeepfunc: []\n",
      "Found 353 objects to remove in aat_targets_jul2016/Catch22_test_1.lis\n",
      "Total remaining in each priority (5 fluxes, 30 guides, and 89 skies not included):\n",
      "{1: 2976, 2: 752, 3: 429, 4: 64, 5: 119, 6: 411, 7: 46, 8: 0, 9: 0}\n",
      "{1: 100.0, 2: 100.0, 3: 100.0, 4: 100.0, 5: 100.0, 6: 78.28571428571429, 7: 16.140350877192983, 8: None, 9: None}%\n"
     ]
    }
   ],
   "source": [
    "h = hsd['Catch22']\n",
    "fnbase = 'aat_targets_jul2016/test_runs/' + h.name\n",
    "\n",
    "finum = 2\n",
    "fnmaster = fnbase.replace('test_runs/', '') + '_master.fld'\n",
    "fnconfig = fnbase + '_test_{0}.fld'.format(finum)\n",
    "print('Writing', fnconfig, 'from master', fnmaster)\n",
    "\n",
    "listorem = [fnbase + '_test_' + str(i) + '.lis' for i in range(1, finum)]\n",
    "aat.subsample_from_master_fld(fnmaster, fnconfig,\n",
    "                              {1:30, 2:30, 3:30, 4:np.inf, 5:np.inf, 6:np.inf, 7:np.inf, 8:np.inf, 9:np.inf}, #8 reserved for flux\n",
    "                              nflux=5, nguides=30,\n",
    "                              fieldname=str(finum), listorem=listorem)"
   ]
  },
  {
   "cell_type": "code",
   "execution_count": 232,
   "metadata": {
    "collapsed": false
   },
   "outputs": [
    {
     "name": "stdout",
     "output_type": "stream",
     "text": [
      "Writing aat_targets_jul2016/Catch22_test_3.fld from master aat_targets_jul2016/Catch22_master.fld\n",
      "Kept the following fibers in due to zltabkeepfunc: []\n",
      "Found 353 objects to remove in aat_targets_jul2016/Catch22_test_1.lis\n",
      "Kept the following fibers in due to zltabkeepfunc: []\n",
      "Found 353 objects to remove in aat_targets_jul2016/Catch22_test_2.lis\n",
      "Total remaining in each priority (5 fluxes, 30 guides, and 89 skies not included):\n",
      "{1: 2976, 2: 752, 3: 426, 4: 63, 5: 88, 6: 137, 7: 2, 8: 0, 9: 0}\n",
      "{1: 100.0, 2: 100.0, 3: 99.3006993006993, 4: 98.4375, 5: 73.94957983193277, 6: 26.095238095238095, 7: 0.7017543859649122, 8: None, 9: None}%\n"
     ]
    }
   ],
   "source": [
    "h = hsd['Catch22']\n",
    "fnbase = 'aat_targets_jul2016/test_runs/' + h.name\n",
    "\n",
    "finum = 3\n",
    "fnmaster = fnbase.replace('test_runs/', '') + '_master.fld'\n",
    "fnconfig = fnbase + '_test_{0}.fld'.format(finum)\n",
    "print('Writing', fnconfig, 'from master', fnmaster)\n",
    "\n",
    "listorem = [fnbase + '_test_' + str(i) + '.lis' for i in range(1, finum)]\n",
    "aat.subsample_from_master_fld(fnmaster, fnconfig,\n",
    "                              {1:30, 2:30, 3:30, 4:np.inf, 5:np.inf, 6:np.inf, 7:np.inf, 8:np.inf, 9:np.inf}, #8 reserved for flux\n",
    "                              nflux=5, nguides=30,\n",
    "                              fieldname=str(finum), listorem=listorem)"
   ]
  },
  {
   "cell_type": "code",
   "execution_count": 235,
   "metadata": {
    "collapsed": false
   },
   "outputs": [
    {
     "name": "stdout",
     "output_type": "stream",
     "text": [
      "Writing aat_targets_jul2016/Catch22_test_4.fld from master aat_targets_jul2016/Catch22_master.fld\n",
      "Kept the following fibers in due to zltabkeepfunc: []\n",
      "Found 353 objects to remove in aat_targets_jul2016/Catch22_test_1.lis\n",
      "Kept the following fibers in due to zltabkeepfunc: []\n",
      "Found 353 objects to remove in aat_targets_jul2016/Catch22_test_2.lis\n",
      "Kept the following fibers in due to zltabkeepfunc: []\n",
      "Found 317 objects to remove in aat_targets_jul2016/Catch22_test_3.lis\n",
      "Total remaining in each priority (5 fluxes, 30 guides, and 89 skies not included):\n",
      "{1: 2957, 2: 724, 3: 397, 4: 13, 5: 18, 6: 18, 7: 0, 8: 0, 9: 0}\n",
      "{1: 99.36155913978494, 2: 96.27659574468085, 3: 92.54079254079254, 4: 20.3125, 5: 15.126050420168067, 6: 3.4285714285714284, 7: 0.0, 8: None, 9: None}%\n"
     ]
    }
   ],
   "source": [
    "h = hsd['Catch22']\n",
    "fnbase = 'aat_targets_jul2016/test_runs/' + h.name\n",
    "\n",
    "finum = 4\n",
    "fnmaster = fnbase.replace('test_runs/', '') + '_master.fld'\n",
    "fnconfig = fnbase + '_test_{0}.fld'.format(finum)\n",
    "print('Writing', fnconfig, 'from master', fnmaster)\n",
    "\n",
    "listorem = [fnbase + '_test_' + str(i) + '.lis' for i in range(1, finum)]\n",
    "aat.subsample_from_master_fld(fnmaster, fnconfig,\n",
    "                              {1:30, 2:30, 3:30, 4:np.inf, 5:np.inf, 6:np.inf, 7:np.inf, 8:np.inf, 9:np.inf}, #8 reserved for flux\n",
    "                              nflux=5, nguides=30,\n",
    "                              fieldname=str(finum), listorem=listorem)"
   ]
  },
  {
   "cell_type": "markdown",
   "metadata": {},
   "source": [
    "## Log from last run "
   ]
  },
  {
   "cell_type": "code",
   "execution_count": 91,
   "metadata": {
    "collapsed": false,
    "scrolled": false
   },
   "outputs": [],
   "source": [
    "logtab2015 = make_logtab('aat_targets_jul2016/alljun_2015_aaomega_headers')"
   ]
  },
  {
   "cell_type": "code",
   "execution_count": 92,
   "metadata": {
    "collapsed": false,
    "scrolled": false
   },
   "outputs": [
    {
     "data": {
      "text/html": [
       "&lt;Table length=123&gt;\n",
       "<table id=\"table6328117456-4600\" class=\"table-striped table-bordered table-condensed\">\n",
       "<thead><tr><th>idx</th><th>num</th><th>ccd</th><th>UTDATE</th><th>UTSTART</th><th>OBJECT</th><th>TOTALEXP</th><th>RUNCMD</th><th>GRATID</th><th>SOURCE</th><th>MEANRA</th><th>MEANDEC</th><th>CFG_FILE</th></tr></thead>\n",
       "<tr><td>0</td><td>10001</td><td>1</td><td>2015:06:19</td><td>08:56:19</td><td>Fibre Flat Field - Quartz_75_A</td><td>4.</td><td>FLAT</td><td>580V</td><td>plate 0</td><td>221.546377452</td><td>-0.222954220588</td><td>Dune_1p0.sds</td></tr>\n",
       "<tr><td>1</td><td>10002</td><td>1</td><td>2015:06:19</td><td>08:58:47</td><td>Fibre Flat Field - Quartz_75_A</td><td>25.</td><td>FLAT</td><td>580V</td><td>plate 0</td><td>221.546356619</td><td>-0.222936925056</td><td>Dune_1p0.sds</td></tr>\n",
       "<tr><td>2</td><td>10003</td><td>1</td><td>2015:06:19</td><td>09:01:45</td><td>ARC - FeAr_1 FeAr_2 CuAr_1 CuAr_2 CuHe_1 CuNe_1</td><td>45.</td><td>ARC</td><td>580V</td><td>plate 0</td><td>221.546364632</td><td>-0.222939560562</td><td>Dune_1p0.sds</td></tr>\n",
       "<tr><td>3</td><td>10004</td><td>1</td><td>2015:06:19</td><td>10:54:11</td><td>Fibre Flat Field - Quartz_75_A</td><td>4.</td><td>FLAT</td><td>580V</td><td>plate 1</td><td>221.546400952</td><td>-0.222954199967</td><td>Dune_1p1.sds</td></tr>\n",
       "<tr><td>4</td><td>10005</td><td>1</td><td>2015:06:19</td><td>10:56:42</td><td>Fibre Flat Field - Quartz_75_A</td><td>25.</td><td>FLAT</td><td>580V</td><td>plate 1</td><td>221.546391869</td><td>-0.22291846743</td><td>Dune_1p1.sds</td></tr>\n",
       "<tr><td>5</td><td>10006</td><td>1</td><td>2015:06:19</td><td>10:59:28</td><td>ARC - FeAr_1 FeAr_2 CuAr_1 CuAr_2 CuHe_1 CuNe_1</td><td>45.</td><td>ARC</td><td>580V</td><td>plate 1</td><td>221.546367689</td><td>-0.222955327287</td><td>Dune_1p1.sds</td></tr>\n",
       "<tr><td>6</td><td>10007</td><td>1</td><td>2015:06:19</td><td>13:31:31</td><td>Fibre Flat Field - Quartz_75_A</td><td>4.</td><td>FLAT</td><td>580V</td><td>plate 0</td><td>221.545561468</td><td>-0.220320318818</td><td>Odyssey_1p0.sds</td></tr>\n",
       "<tr><td>7</td><td>10008</td><td>1</td><td>2015:06:19</td><td>13:33:53</td><td>Fibre Flat Field - Quartz_75_A</td><td>25.</td><td>FLAT</td><td>580V</td><td>plate 0</td><td>221.545556258</td><td>-0.220305052591</td><td>Odyssey_1p0.sds</td></tr>\n",
       "<tr><td>8</td><td>10009</td><td>1</td><td>2015:06:19</td><td>13:36:40</td><td>ARC - FeAr_1 FeAr_2 CuAr_1 CuAr_2 CuHe_1 CuNe_1</td><td>45.</td><td>ARC</td><td>580V</td><td>plate 0</td><td>221.545525634</td><td>-0.220313397766</td><td>Odyssey_1p0.sds</td></tr>\n",
       "<tr><td>9</td><td>10010</td><td>1</td><td>2015:06:19</td><td>13:40:54</td><td>Fibre Flat Field - Quartz_75_A</td><td>4.</td><td>FLAT</td><td>580V</td><td>plate 0</td><td>248.087274345</td><td>19.8264618711</td><td>Odyssey_1p0.sds</td></tr>\n",
       "<tr><td>10</td><td>10011</td><td>1</td><td>2015:06:19</td><td>13:43:13</td><td>Fibre Flat Field - Quartz_75_A</td><td>25.</td><td>FLAT</td><td>580V</td><td>plate 0</td><td>248.0873196</td><td>19.826425418</td><td>Odyssey_1p0.sds</td></tr>\n",
       "<tr><td>11</td><td>10012</td><td>1</td><td>2015:06:19</td><td>13:45:54</td><td>ARC - FeAr_1 FeAr_2 CuAr_1 CuAr_2 CuHe_1 CuNe_1</td><td>45.</td><td>ARC</td><td>580V</td><td>plate 0</td><td>248.08729955</td><td>19.8264528153</td><td>Odyssey_1p0.sds</td></tr>\n",
       "<tr><td>12</td><td>10013</td><td>1</td><td>2015:06:19</td><td>14:47:34</td><td>Fibre Flat Field - Quartz_75_A</td><td>4.</td><td>FLAT</td><td>580V</td><td>plate 1</td><td>309.727044828</td><td>-5.64000044444</td><td>Aeneid_1p1.sds</td></tr>\n",
       "<tr><td>13</td><td>10014</td><td>1</td><td>2015:06:19</td><td>14:50:05</td><td>Fibre Flat Field - Quartz_75_A</td><td>25.</td><td>FLAT</td><td>580V</td><td>plate 1</td><td>309.727026911</td><td>-5.63999462457</td><td>Aeneid_1p1.sds</td></tr>\n",
       "<tr><td>14</td><td>10015</td><td>1</td><td>2015:06:19</td><td>14:53:02</td><td>ARC - FeAr_1 FeAr_2 CuAr_1 CuAr_2 CuHe_1 CuNe_1</td><td>45.</td><td>ARC</td><td>580V</td><td>plate 1</td><td>309.727029716</td><td>-5.63998161799</td><td>Aeneid_1p1.sds</td></tr>\n",
       "<tr><td>15</td><td>10016</td><td>1</td><td>2015:06:19</td><td>17:00:23</td><td>Fibre Flat Field - Quartz_75_A</td><td>4.</td><td>FLAT</td><td>580V</td><td>plate 0</td><td>335.913183365</td><td>-3.43168691952</td><td>OBrother_1p0.sds</td></tr>\n",
       "<tr><td>16</td><td>10017</td><td>1</td><td>2015:06:19</td><td>17:02:53</td><td>Fibre Flat Field - Quartz_75_A</td><td>25.</td><td>FLAT</td><td>580V</td><td>plate 0</td><td>335.91317467</td><td>-3.43168639018</td><td>OBrother_1p0.sds</td></tr>\n",
       "<tr><td>17</td><td>10018</td><td>1</td><td>2015:06:19</td><td>17:05:58</td><td>ARC - FeAr_1 FeAr_2 CuAr_1 CuAr_2 CuHe_1 CuNe_1</td><td>45.</td><td>ARC</td><td>580V</td><td>plate 0</td><td>335.913176561</td><td>-3.43165772554</td><td>OBrother_1p0.sds</td></tr>\n",
       "<tr><td>18</td><td>10019</td><td>1</td><td>2015:06:19</td><td>17:31:18</td><td>OBrother 1</td><td>1800.</td><td>RUN</td><td>580V</td><td>plate 0</td><td>335.912554436</td><td>-3.43059053055</td><td>OBrother_1p0.sds</td></tr>\n",
       "<tr><td>19</td><td>10020</td><td>1</td><td>2015:06:19</td><td>18:03:25</td><td>OBrother 1</td><td>0.</td><td>RUN</td><td>580V</td><td>plate 0</td><td>335.914178558</td><td>-3.43155471296</td><td>OBrother_1p0.sds</td></tr>\n",
       "<tr><td>20</td><td>10021</td><td>1</td><td>2015:06:19</td><td>18:53:06</td><td>Dark Frame</td><td>0.</td><td>DARK</td><td>580V</td><td>plate 0</td><td>335.914143822</td><td>-3.43152464918</td><td>OBrother_1p0.sds</td></tr>\n",
       "<tr><td>21</td><td>10022</td><td>1</td><td>2015:06:19</td><td>19:25:13</td><td>Dark Frame</td><td>0.</td><td>DARK</td><td>580V</td><td>plate 0</td><td>347.85947261</td><td>-31.3628295895</td><td>OBrother_1p0.sds</td></tr>\n",
       "<tr><td>22</td><td>10023</td><td>1</td><td>2015:06:19</td><td>19:57:19</td><td>Dark Frame</td><td>0.</td><td>DARK</td><td>580V</td><td>plate 0</td><td>355.914891531</td><td>-31.3641471712</td><td>OBrother_1p0.sds</td></tr>\n",
       "<tr><td>23</td><td>10024</td><td>1</td><td>2015:06:19</td><td>20:29:25</td><td>Dark Frame</td><td>0.</td><td>DARK</td><td>580V</td><td>plate 0</td><td>3.9709295543</td><td>-31.3637304629</td><td>OBrother_1p0.sds</td></tr>\n",
       "<tr><td>24</td><td>10025</td><td>1</td><td>2015:06:19</td><td>21:01:31</td><td>Dark Frame</td><td>0.</td><td>DARK</td><td>580V</td><td>plate 0</td><td>12.0269550806</td><td>-31.3615576694</td><td>OBrother_1p0.sds</td></tr>\n",
       "<tr><td>25</td><td>10001</td><td>1</td><td>2015:06:20</td><td>08:04:26</td><td>Fibre Flat Field - Quartz_75_A</td><td>4.</td><td>FLAT</td><td>580V</td><td>plate 0</td><td>221.546782098</td><td>-0.221174604921</td><td>Dune_1p0.sds</td></tr>\n",
       "<tr><td>26</td><td>10002</td><td>1</td><td>2015:06:20</td><td>08:06:58</td><td>Fibre Flat Field - Quartz_75_A</td><td>25.</td><td>FLAT</td><td>580V</td><td>plate 0</td><td>221.546765747</td><td>-0.221164684035</td><td>Dune_1p0.sds</td></tr>\n",
       "<tr><td>27</td><td>10003</td><td>1</td><td>2015:06:20</td><td>08:09:44</td><td>ARC - FeAr_1 FeAr_2 CuAr_1 CuAr_2 CuHe_1 CuNe_1</td><td>45.</td><td>ARC</td><td>580V</td><td>plate 0</td><td>221.546838563</td><td>-0.221158281366</td><td>Dune_1p0.sds</td></tr>\n",
       "<tr><td>28</td><td>10004</td><td>1</td><td>2015:06:20</td><td>08:19:11</td><td>Dune 1</td><td>1800.</td><td>RUN</td><td>580V</td><td>plate 0</td><td>221.547438846</td><td>-0.222192816246</td><td>Dune_1p0.sds</td></tr>\n",
       "<tr><td>29</td><td>10005</td><td>1</td><td>2015:06:20</td><td>08:51:18</td><td>Dune 1</td><td>1800.</td><td>RUN</td><td>580V</td><td>plate 0</td><td>221.547655326</td><td>-0.222506805267</td><td>Dune_1p0.sds</td></tr>\n",
       "<tr><td>30</td><td>10006</td><td>1</td><td>2015:06:20</td><td>09:23:24</td><td>Dune 1</td><td>1800.</td><td>RUN</td><td>580V</td><td>plate 0</td><td>221.547868579</td><td>-0.222798060194</td><td>Dune_1p0.sds</td></tr>\n",
       "<tr><td>31</td><td>10007</td><td>1</td><td>2015:06:20</td><td>09:55:30</td><td>Dune 1</td><td>1800.</td><td>RUN</td><td>580V</td><td>plate 0</td><td>221.547756159</td><td>-0.22300099215</td><td>Dune_1p0.sds</td></tr>\n",
       "<tr><td>32</td><td>10008</td><td>1</td><td>2015:06:20</td><td>10:31:35</td><td>Fibre Flat Field - Quartz_75_A</td><td>4.</td><td>FLAT</td><td>580V</td><td>plate 1</td><td>221.547548907</td><td>-0.223201174273</td><td>Dune_2p1.sds</td></tr>\n",
       "<tr><td>33</td><td>10009</td><td>1</td><td>2015:06:20</td><td>10:33:55</td><td>Fibre Flat Field - Quartz_75_A</td><td>25.</td><td>FLAT</td><td>580V</td><td>plate 1</td><td>221.547562701</td><td>-0.223227882924</td><td>Dune_2p1.sds</td></tr>\n",
       "<tr><td>34</td><td>10010</td><td>1</td><td>2015:06:20</td><td>10:36:38</td><td>ARC - FeAr_1 FeAr_2 CuAr_1 CuAr_2 CuHe_1 CuNe_1</td><td>45.</td><td>ARC</td><td>580V</td><td>plate 1</td><td>221.547558207</td><td>-0.223236982595</td><td>Dune_2p1.sds</td></tr>\n",
       "<tr><td>35</td><td>10011</td><td>1</td><td>2015:06:20</td><td>10:39:40</td><td>Dune 2</td><td>1800.</td><td>RUN</td><td>580V</td><td>plate 1</td><td>221.547549091</td><td>-0.223013180259</td><td>Dune_2p1.sds</td></tr>\n",
       "<tr><td>36</td><td>10012</td><td>1</td><td>2015:06:20</td><td>11:11:46</td><td>Dune 2</td><td>1800.</td><td>RUN</td><td>580V</td><td>plate 1</td><td>221.547629664</td><td>-0.222275145205</td><td>Dune_2p1.sds</td></tr>\n",
       "<tr><td>37</td><td>10013</td><td>1</td><td>2015:06:20</td><td>11:43:53</td><td>Dune 2</td><td>1800.</td><td>RUN</td><td>580V</td><td>plate 1</td><td>221.548187803</td><td>-0.222156134866</td><td>Dune_2p1.sds</td></tr>\n",
       "<tr><td>38</td><td>10014</td><td>1</td><td>2015:06:20</td><td>12:17:24</td><td>Fibre Flat Field - Quartz_75_A</td><td>4.</td><td>FLAT</td><td>580V</td><td>plate 0</td><td>248.086785591</td><td>19.8254036233</td><td>Odyssey_1p0.sds</td></tr>\n",
       "<tr><td>39</td><td>10015</td><td>1</td><td>2015:06:20</td><td>12:19:47</td><td>Fibre Flat Field - Quartz_75_A</td><td>25.</td><td>FLAT</td><td>580V</td><td>plate 0</td><td>248.08679779</td><td>19.8254155404</td><td>Odyssey_1p0.sds</td></tr>\n",
       "<tr><td>40</td><td>10016</td><td>1</td><td>2015:06:20</td><td>12:22:32</td><td>ARC - FeAr_1 FeAr_2 CuAr_1 CuAr_2 CuHe_1 CuNe_1</td><td>45.</td><td>ARC</td><td>580V</td><td>plate 0</td><td>248.08681839</td><td>19.8253751777</td><td>Odyssey_1p0.sds</td></tr>\n",
       "<tr><td>41</td><td>10017</td><td>1</td><td>2015:06:20</td><td>12:25:38</td><td>Odyssey 1</td><td>1800.</td><td>RUN</td><td>580V</td><td>plate 0</td><td>248.086751321</td><td>19.825687816</td><td>Odyssey_1p0.sds</td></tr>\n",
       "<tr><td>42</td><td>10018</td><td>1</td><td>2015:06:20</td><td>12:57:44</td><td>Odyssey 1</td><td>1800.</td><td>RUN</td><td>580V</td><td>plate 0</td><td>248.086692062</td><td>19.825776613</td><td>Odyssey_1p0.sds</td></tr>\n",
       "<tr><td>43</td><td>10019</td><td>1</td><td>2015:06:20</td><td>13:29:50</td><td>Odyssey 1</td><td>1800.</td><td>RUN</td><td>580V</td><td>plate 0</td><td>248.086630625</td><td>19.8258397083</td><td>Odyssey_1p0.sds</td></tr>\n",
       "<tr><td>44</td><td>10020</td><td>1</td><td>2015:06:20</td><td>14:01:56</td><td>Odyssey 1</td><td>1800.</td><td>RUN</td><td>580V</td><td>plate 0</td><td>248.086591414</td><td>19.8259942974</td><td>Odyssey_1p0.sds</td></tr>\n",
       "<tr><td>45</td><td>10021</td><td>1</td><td>2015:06:20</td><td>14:35:40</td><td>Fibre Flat Field - Quartz_75_A</td><td>4.</td><td>FLAT</td><td>580V</td><td>plate 1</td><td>309.727756359</td><td>-5.63832789861</td><td>Aeneid_1p1.sds</td></tr>\n",
       "<tr><td>46</td><td>10022</td><td>1</td><td>2015:06:20</td><td>14:38:52</td><td>Fibre Flat Field - Quartz_75_A</td><td>25.</td><td>FLAT</td><td>580V</td><td>plate 1</td><td>309.727719909</td><td>-5.63829854672</td><td>Aeneid_1p1.sds</td></tr>\n",
       "<tr><td>47</td><td>10023</td><td>1</td><td>2015:06:20</td><td>14:41:35</td><td>ARC - FeAr_1 FeAr_2 CuAr_1 CuAr_2 CuHe_1 CuNe_1</td><td>45.</td><td>ARC</td><td>580V</td><td>plate 1</td><td>309.727719317</td><td>-5.63833003766</td><td>Aeneid_1p1.sds</td></tr>\n",
       "<tr><td>48</td><td>10024</td><td>1</td><td>2015:06:20</td><td>14:44:40</td><td>Aeneid 1</td><td>1800.</td><td>RUN</td><td>580V</td><td>plate 1</td><td>309.728158052</td><td>-5.63889309593</td><td>Aeneid_1p1.sds</td></tr>\n",
       "<tr><td>49</td><td>10025</td><td>1</td><td>2015:06:20</td><td>15:16:46</td><td>Aeneid 1</td><td>1800.</td><td>RUN</td><td>580V</td><td>plate 1</td><td>309.728175906</td><td>-5.63907767781</td><td>Aeneid_1p1.sds</td></tr>\n",
       "<tr><td>50</td><td>10026</td><td>1</td><td>2015:06:20</td><td>15:48:53</td><td>Aeneid 1</td><td>1800.</td><td>RUN</td><td>580V</td><td>plate 1</td><td>309.728334269</td><td>-5.63925974012</td><td>Aeneid_1p1.sds</td></tr>\n",
       "<tr><td>51</td><td>10027</td><td>1</td><td>2015:06:20</td><td>16:20:59</td><td>Aeneid 1</td><td>1800.</td><td>RUN</td><td>580V</td><td>plate 1</td><td>309.728213957</td><td>-5.63934929025</td><td>Aeneid_1p1.sds</td></tr>\n",
       "<tr><td>52</td><td>10028</td><td>1</td><td>2015:06:20</td><td>16:54:03</td><td>Fibre Flat Field - Quartz_75_A</td><td>4.</td><td>FLAT</td><td>580V</td><td>plate 0</td><td>335.912978019</td><td>-3.430586418</td><td>OBrother_1p0.sds</td></tr>\n",
       "<tr><td>53</td><td>10029</td><td>1</td><td>2015:06:20</td><td>16:56:31</td><td>Fibre Flat Field - Quartz_75_A</td><td>25.</td><td>FLAT</td><td>580V</td><td>plate 0</td><td>335.912999444</td><td>-3.43059350837</td><td>OBrother_1p0.sds</td></tr>\n",
       "<tr><td>54</td><td>10030</td><td>1</td><td>2015:06:20</td><td>16:59:17</td><td>ARC - FeAr_1 FeAr_2 CuAr_1 CuAr_2 CuHe_1 CuNe_1</td><td>45.</td><td>ARC</td><td>580V</td><td>plate 0</td><td>335.912955815</td><td>-3.43056601269</td><td>OBrother_1p0.sds</td></tr>\n",
       "<tr><td>55</td><td>10031</td><td>1</td><td>2015:06:20</td><td>17:02:53</td><td>OBrother 1</td><td>1800.</td><td>RUN</td><td>580V</td><td>plate 0</td><td>335.914531586</td><td>-3.43123939977</td><td>OBrother_1p0.sds</td></tr>\n",
       "<tr><td>56</td><td>10032</td><td>1</td><td>2015:06:20</td><td>17:34:59</td><td>OBrother 1</td><td>1800.</td><td>RUN</td><td>580V</td><td>plate 0</td><td>335.914327585</td><td>-3.43155261075</td><td>OBrother_1p0.sds</td></tr>\n",
       "<tr><td>57</td><td>10033</td><td>1</td><td>2015:06:20</td><td>18:07:06</td><td>OBrother 1</td><td>1800.</td><td>RUN</td><td>580V</td><td>plate 0</td><td>335.914393236</td><td>-3.43181242848</td><td>OBrother_1p0.sds</td></tr>\n",
       "<tr><td>58</td><td>10034</td><td>1</td><td>2015:06:20</td><td>18:40:53</td><td>AnaK 1</td><td>1200.</td><td>RUN</td><td>580V</td><td>plate 1</td><td>354.132472777</td><td>0.298102525542</td><td>AnaK_1p1.sds</td></tr>\n",
       "<tr><td>59</td><td>10035</td><td>1</td><td>2015:06:20</td><td>19:02:59</td><td>AnaK 1</td><td>1800.</td><td>RUN</td><td>580V</td><td>plate 1</td><td>354.132170201</td><td>0.297935191393</td><td>AnaK_1p1.sds</td></tr>\n",
       "<tr><td>60</td><td>10036</td><td>1</td><td>2015:06:20</td><td>19:35:05</td><td>AnaK 1</td><td>1800.</td><td>RUN</td><td>580V</td><td>plate 1</td><td>354.132495709</td><td>0.297995729714</td><td>AnaK_1p1.sds</td></tr>\n",
       "<tr><td>61</td><td>10037</td><td>1</td><td>2015:06:20</td><td>20:07:38</td><td>Fibre Flat Field - Quartz_75_A</td><td>4.</td><td>FLAT</td><td>580V</td><td>plate 1</td><td>354.132847928</td><td>0.298002966085</td><td>AnaK_1p1.sds</td></tr>\n",
       "<tr><td>62</td><td>10038</td><td>1</td><td>2015:06:20</td><td>20:09:57</td><td>Fibre Flat Field - Quartz_75_A</td><td>25.</td><td>FLAT</td><td>580V</td><td>plate 1</td><td>354.132870778</td><td>0.297989172309</td><td>AnaK_1p1.sds</td></tr>\n",
       "<tr><td>63</td><td>10039</td><td>1</td><td>2015:06:20</td><td>20:12:43</td><td>ARC - FeAr_1 FeAr_2 CuAr_1 CuAr_2 CuHe_1 CuNe_1</td><td>45.</td><td>ARC</td><td>580V</td><td>plate 1</td><td>354.132791198</td><td>0.297985768454</td><td>AnaK_1p1.sds</td></tr>\n",
       "<tr><td>64</td><td>10040</td><td>1</td><td>2015:06:20</td><td>20:17:53</td><td>Bias Frame</td><td>0.</td><td>BIAS</td><td>580V</td><td>plate 0</td><td>2.06520339342</td><td>-31.3642641408</td><td>NONE</td></tr>\n",
       "<tr><td>65</td><td>10041</td><td>1</td><td>2015:06:20</td><td>20:20:00</td><td>Bias Frame</td><td>0.</td><td>BIAS</td><td>580V</td><td>plate 0</td><td>2.59329456673</td><td>-31.3641993574</td><td>NONE</td></tr>\n",
       "<tr><td>66</td><td>10042</td><td>1</td><td>2015:06:20</td><td>20:22:06</td><td>Bias Frame</td><td>0.</td><td>BIAS</td><td>580V</td><td>plate 0</td><td>3.12148714453</td><td>-31.3641076861</td><td>NONE</td></tr>\n",
       "<tr><td>67</td><td>10043</td><td>1</td><td>2015:06:20</td><td>20:24:13</td><td>Bias Frame</td><td>0.</td><td>BIAS</td><td>580V</td><td>plate 0</td><td>3.65367059264</td><td>-31.3640239736</td><td>NONE</td></tr>\n",
       "<tr><td>68</td><td>10044</td><td>1</td><td>2015:06:20</td><td>20:26:20</td><td>Bias Frame</td><td>0.</td><td>BIAS</td><td>580V</td><td>plate 0</td><td>4.18353683083</td><td>-31.3639356702</td><td>NONE</td></tr>\n",
       "<tr><td>69</td><td>10001</td><td>1</td><td>2015:06:21</td><td>05:53:19</td><td>Offset Sky Frame</td><td>25.</td><td>SKY</td><td>580V</td><td>plate 0</td><td>146.345526809</td><td>-31.2011362101</td><td>Dune_3p0.sds</td></tr>\n",
       "<tr><td>70</td><td>10002</td><td>1</td><td>2015:06:21</td><td>05:56:00</td><td>Offset Sky Frame</td><td>200.</td><td>SKY</td><td>580V</td><td>plate 0</td><td>147.016813605</td><td>-31.2005892806</td><td>Dune_3p0.sds</td></tr>\n",
       "<tr><td>71</td><td>10003</td><td>1</td><td>2015:06:21</td><td>06:39:25</td><td>Offset Sky Frame</td><td>25.</td><td>SKY</td><td>580V</td><td>plate 1</td><td>157.890369205</td><td>-31.1932552862</td><td>Dune_2p1.sds</td></tr>\n",
       "<tr><td>72</td><td>10004</td><td>1</td><td>2015:06:21</td><td>06:44:11</td><td>Offset Sky Frame</td><td>200.</td><td>SKY</td><td>580V</td><td>plate 1</td><td>159.083707895</td><td>-31.192604024</td><td>Dune_2p1.sds</td></tr>\n",
       "<tr><td>73</td><td>10005</td><td>1</td><td>2015:06:21</td><td>08:03:44</td><td>Fibre Flat Field - Quartz_75_A</td><td>4.</td><td>FLAT</td><td>580V</td><td>plate 0</td><td>221.547207369</td><td>-0.22204002376</td><td>Dune_3p0.sds</td></tr>\n",
       "<tr><td>74</td><td>10006</td><td>1</td><td>2015:06:21</td><td>08:06:04</td><td>Fibre Flat Field - Quartz_75_A</td><td>25.</td><td>FLAT</td><td>580V</td><td>plate 0</td><td>221.547200805</td><td>-0.22202324197</td><td>Dune_3p0.sds</td></tr>\n",
       "<tr><td>75</td><td>10007</td><td>1</td><td>2015:06:21</td><td>08:08:50</td><td>ARC - FeAr_1 FeAr_2 CuAr_1 CuAr_2 CuHe_1 CuNe_1</td><td>45.</td><td>ARC</td><td>580V</td><td>plate 0</td><td>221.547224316</td><td>-0.222017894389</td><td>Dune_3p0.sds</td></tr>\n",
       "<tr><td>76</td><td>10008</td><td>1</td><td>2015:06:21</td><td>08:18:20</td><td>Dune 3</td><td>1800.</td><td>RUN</td><td>580V</td><td>plate 0</td><td>221.547387571</td><td>-0.22210179567</td><td>Dune_3p0.sds</td></tr>\n",
       "<tr><td>77</td><td>10009</td><td>1</td><td>2015:06:21</td><td>08:50:26</td><td>Dune 3</td><td>1800.</td><td>RUN</td><td>580V</td><td>plate 0</td><td>221.547732113</td><td>-0.222495890391</td><td>Dune_3p0.sds</td></tr>\n",
       "<tr><td>78</td><td>10010</td><td>1</td><td>2015:06:21</td><td>09:22:33</td><td>Dune 3</td><td>1800.</td><td>RUN</td><td>580V</td><td>plate 0</td><td>221.547976029</td><td>-0.222612898961</td><td>Dune_3p0.sds</td></tr>\n",
       "<tr><td>79</td><td>10011</td><td>1</td><td>2015:06:21</td><td>09:54:39</td><td>Dune 3</td><td>1800.</td><td>RUN</td><td>580V</td><td>plate 0</td><td>221.547685166</td><td>-0.222945379953</td><td>Dune_3p0.sds</td></tr>\n",
       "<tr><td>80</td><td>10012</td><td>1</td><td>2015:06:21</td><td>10:29:02</td><td>Fibre Flat Field - Quartz_75_A</td><td>4.</td><td>FLAT</td><td>580V</td><td>plate 1</td><td>221.548251432</td><td>-0.221709822523</td><td>Dune_2p1.sds</td></tr>\n",
       "<tr><td>81</td><td>10013</td><td>1</td><td>2015:06:21</td><td>10:31:25</td><td>Fibre Flat Field - Quartz_75_A</td><td>25.</td><td>FLAT</td><td>580V</td><td>plate 1</td><td>221.548243349</td><td>-0.221705990167</td><td>Dune_2p1.sds</td></tr>\n",
       "<tr><td>82</td><td>10014</td><td>1</td><td>2015:06:21</td><td>10:34:11</td><td>ARC - FeAr_1 FeAr_2 CuAr_1 CuAr_2 CuHe_1 CuNe_1</td><td>45.</td><td>ARC</td><td>580V</td><td>plate 1</td><td>221.548258637</td><td>-0.221679456928</td><td>Dune_2p1.sds</td></tr>\n",
       "<tr><td>83</td><td>10015</td><td>1</td><td>2015:06:21</td><td>10:37:15</td><td>Dune 2</td><td>1800.</td><td>RUN</td><td>580V</td><td>plate 1</td><td>221.548010538</td><td>-0.222055722084</td><td>Dune_2p1.sds</td></tr>\n",
       "<tr><td>84</td><td>10016</td><td>1</td><td>2015:06:21</td><td>11:09:22</td><td>Dune 2</td><td>1800.</td><td>RUN</td><td>580V</td><td>plate 1</td><td>221.548144758</td><td>-0.222025281493</td><td>Dune_2p1.sds</td></tr>\n",
       "<tr><td>85</td><td>10017</td><td>1</td><td>2015:06:21</td><td>11:41:28</td><td>Dune 2</td><td>1800.</td><td>RUN</td><td>580V</td><td>plate 1</td><td>221.54806835</td><td>-0.222021729952</td><td>Dune_2p1.sds</td></tr>\n",
       "<tr><td>86</td><td>10018</td><td>1</td><td>2015:06:21</td><td>12:15:01</td><td>Fibre Flat Field - Quartz_75_A</td><td>4.</td><td>FLAT</td><td>580V</td><td>plate 0</td><td>234.131398422</td><td>16.6072206684</td><td>Gilgamesh_1p0.sds</td></tr>\n",
       "<tr><td>87</td><td>10019</td><td>1</td><td>2015:06:21</td><td>12:17:23</td><td>Fibre Flat Field - Quartz_75_A</td><td>25.</td><td>FLAT</td><td>580V</td><td>plate 0</td><td>234.131437371</td><td>16.607234847</td><td>Gilgamesh_1p0.sds</td></tr>\n",
       "<tr><td>88</td><td>10020</td><td>1</td><td>2015:06:21</td><td>12:20:08</td><td>ARC - FeAr_1 FeAr_2 CuAr_1 CuAr_2 CuHe_1 CuNe_1</td><td>45.</td><td>ARC</td><td>580V</td><td>plate 0</td><td>234.131413421</td><td>16.6072664106</td><td>Gilgamesh_1p0.sds</td></tr>\n",
       "<tr><td>89</td><td>10021</td><td>1</td><td>2015:06:21</td><td>12:23:09</td><td>Gilgamesh 1</td><td>1800.</td><td>RUN</td><td>580V</td><td>plate 0</td><td>234.131763732</td><td>16.6071782201</td><td>Gilgamesh_1p0.sds</td></tr>\n",
       "<tr><td>90</td><td>10022</td><td>1</td><td>2015:06:21</td><td>12:55:15</td><td>Gilgamesh 1</td><td>1800.</td><td>RUN</td><td>580V</td><td>plate 0</td><td>234.131975464</td><td>16.607480923</td><td>Gilgamesh_1p0.sds</td></tr>\n",
       "<tr><td>91</td><td>10023</td><td>1</td><td>2015:06:21</td><td>13:27:22</td><td>Gilgamesh 1</td><td>1800.</td><td>RUN</td><td>580V</td><td>plate 0</td><td>234.131889943</td><td>16.607610932</td><td>Gilgamesh_1p0.sds</td></tr>\n",
       "<tr><td>92</td><td>10024</td><td>1</td><td>2015:06:21</td><td>13:59:28</td><td>Gilgamesh 1</td><td>1800.</td><td>RUN</td><td>580V</td><td>plate 0</td><td>234.132126999</td><td>16.6079118663</td><td>Gilgamesh_1p0.sds</td></tr>\n",
       "<tr><td>93</td><td>10025</td><td>1</td><td>2015:06:21</td><td>14:34:01</td><td>Fibre Flat Field - Quartz_75_A</td><td>4.</td><td>FLAT</td><td>580V</td><td>plate 1</td><td>309.72727792</td><td>-5.63901941321</td><td>Aeneid_2p1.sds</td></tr>\n",
       "<tr><td>94</td><td>10026</td><td>1</td><td>2015:06:21</td><td>14:36:22</td><td>Fibre Flat Field - Quartz_75_A</td><td>25.</td><td>FLAT</td><td>580V</td><td>plate 1</td><td>309.72730257</td><td>-5.63900487905</td><td>Aeneid_2p1.sds</td></tr>\n",
       "<tr><td>95</td><td>10027</td><td>1</td><td>2015:06:21</td><td>14:39:04</td><td>ARC - FeAr_1 FeAr_2 CuAr_1 CuAr_2 CuHe_1 CuNe_1</td><td>45.</td><td>ARC</td><td>580V</td><td>plate 1</td><td>309.727305572</td><td>-5.63900983922</td><td>Aeneid_2p1.sds</td></tr>\n",
       "<tr><td>96</td><td>10028</td><td>1</td><td>2015:06:21</td><td>14:42:05</td><td>Aeneid 2</td><td>1800.</td><td>RUN</td><td>580V</td><td>plate 1</td><td>309.728486942</td><td>-5.63906792696</td><td>Aeneid_2p1.sds</td></tr>\n",
       "<tr><td>97</td><td>10029</td><td>1</td><td>2015:06:21</td><td>15:14:11</td><td>Aeneid 2</td><td>1800.</td><td>RUN</td><td>580V</td><td>plate 1</td><td>309.728627509</td><td>-5.63909477861</td><td>Aeneid_2p1.sds</td></tr>\n",
       "<tr><td>98</td><td>10030</td><td>1</td><td>2015:06:21</td><td>15:46:18</td><td>Aeneid 2</td><td>1800.</td><td>RUN</td><td>580V</td><td>plate 1</td><td>309.728330925</td><td>-5.63935923909</td><td>Aeneid_2p1.sds</td></tr>\n",
       "<tr><td>99</td><td>10031</td><td>1</td><td>2015:06:21</td><td>16:19:17</td><td>Fibre Flat Field - Quartz_75_A</td><td>4.</td><td>FLAT</td><td>580V</td><td>plate 0</td><td>335.913479382</td><td>-3.43117311487</td><td>OBrother_2p0.sds</td></tr>\n",
       "<tr><td>100</td><td>10032</td><td>1</td><td>2015:06:21</td><td>16:21:37</td><td>Fibre Flat Field - Quartz_75_A</td><td>25.</td><td>FLAT</td><td>580V</td><td>plate 0</td><td>335.913465335</td><td>-3.43116213914</td><td>OBrother_2p0.sds</td></tr>\n",
       "<tr><td>101</td><td>10033</td><td>1</td><td>2015:06:21</td><td>16:24:19</td><td>ARC - FeAr_1 FeAr_2 CuAr_1 CuAr_2 CuHe_1 CuNe_1</td><td>45.</td><td>ARC</td><td>580V</td><td>plate 0</td><td>335.91350215</td><td>-3.4311657484</td><td>OBrother_2p0.sds</td></tr>\n",
       "<tr><td>102</td><td>10034</td><td>1</td><td>2015:06:21</td><td>16:27:20</td><td>OBrother 2</td><td>1500.</td><td>RUN</td><td>580V</td><td>plate 0</td><td>335.914543387</td><td>-3.43150389118</td><td>OBrother_2p0.sds</td></tr>\n",
       "<tr><td>103</td><td>10035</td><td>1</td><td>2015:06:21</td><td>16:54:27</td><td>OBrother 2</td><td>1500.</td><td>RUN</td><td>580V</td><td>plate 0</td><td>335.914518412</td><td>-3.43168397511</td><td>OBrother_2p0.sds</td></tr>\n",
       "<tr><td>104</td><td>10036</td><td>1</td><td>2015:06:21</td><td>17:21:33</td><td>OBrother 2</td><td>1500.</td><td>RUN</td><td>580V</td><td>plate 0</td><td>335.914359754</td><td>-3.43171054732</td><td>OBrother_2p0.sds</td></tr>\n",
       "<tr><td>105</td><td>10037</td><td>1</td><td>2015:06:21</td><td>17:48:39</td><td>OBrother 2</td><td>1500.</td><td>RUN</td><td>580V</td><td>plate 0</td><td>335.914497687</td><td>-3.43192874359</td><td>OBrother_2p0.sds</td></tr>\n",
       "<tr><td>106</td><td>10038</td><td>1</td><td>2015:06:21</td><td>18:17:00</td><td>AnaK 2</td><td>1500.</td><td>RUN</td><td>580V</td><td>plate 1</td><td>354.132467066</td><td>0.298073104396</td><td>AnaK_2p1.sds</td></tr>\n",
       "<tr><td>107</td><td>10039</td><td>1</td><td>2015:06:21</td><td>18:44:06</td><td>AnaK 2</td><td>1500.</td><td>RUN</td><td>580V</td><td>plate 1</td><td>354.132516619</td><td>0.297872376962</td><td>AnaK_2p1.sds</td></tr>\n",
       "<tr><td>108</td><td>10040</td><td>1</td><td>2015:06:21</td><td>19:11:13</td><td>AnaK 2</td><td>1500.</td><td>RUN</td><td>580V</td><td>plate 1</td><td>354.13254112</td><td>0.297722913077</td><td>AnaK_2p1.sds</td></tr>\n",
       "<tr><td>109</td><td>10041</td><td>1</td><td>2015:06:21</td><td>19:38:19</td><td>AnaK 2</td><td>1200.</td><td>RUN</td><td>580V</td><td>plate 1</td><td>354.132440766</td><td>0.297828834271</td><td>AnaK_2p1.sds</td></tr>\n",
       "<tr><td>110</td><td>10042</td><td>1</td><td>2015:06:21</td><td>20:01:20</td><td>Fibre Flat Field - Quartz_75_A</td><td>4.</td><td>FLAT</td><td>580V</td><td>plate 1</td><td>354.133050036</td><td>0.297820663416</td><td>AnaK_2p1.sds</td></tr>\n",
       "<tr><td>111</td><td>10043</td><td>1</td><td>2015:06:21</td><td>20:03:39</td><td>Fibre Flat Field - Quartz_75_A</td><td>25.</td><td>FLAT</td><td>580V</td><td>plate 1</td><td>354.132977292</td><td>0.297821236181</td><td>AnaK_2p1.sds</td></tr>\n",
       "<tr><td>112</td><td>10044</td><td>1</td><td>2015:06:21</td><td>20:06:26</td><td>ARC - FeAr_1 FeAr_2 CuAr_1 CuAr_2 CuHe_1 CuNe_1</td><td>45.</td><td>ARC</td><td>580V</td><td>plate 1</td><td>354.133007942</td><td>0.297825474661</td><td>AnaK_2p1.sds</td></tr>\n",
       "<tr><td>113</td><td>10045</td><td>1</td><td>2015:06:21</td><td>20:10:16</td><td>Bias Frame</td><td>0.</td><td>BIAS</td><td>580V</td><td>plate 0</td><td>1.13921332451</td><td>-31.3644276362</td><td>NONE</td></tr>\n",
       "<tr><td>114</td><td>10046</td><td>1</td><td>2015:06:21</td><td>20:12:24</td><td>Bias Frame</td><td>0.</td><td>BIAS</td><td>580V</td><td>plate 0</td><td>1.67256545505</td><td>-31.3643351659</td><td>NONE</td></tr>\n",
       "<tr><td>115</td><td>10047</td><td>1</td><td>2015:06:21</td><td>20:14:30</td><td>Bias Frame</td><td>0.</td><td>BIAS</td><td>580V</td><td>plate 0</td><td>2.20079718235</td><td>-31.3642514643</td><td>NONE</td></tr>\n",
       "<tr><td>116</td><td>10048</td><td>1</td><td>2015:06:21</td><td>20:16:36</td><td>Bias Frame</td><td>0.</td><td>BIAS</td><td>580V</td><td>plate 0</td><td>2.72921229738</td><td>-31.3641929572</td><td>NONE</td></tr>\n",
       "<tr><td>117</td><td>10049</td><td>1</td><td>2015:06:21</td><td>20:18:43</td><td>Bias Frame</td><td>0.</td><td>BIAS</td><td>580V</td><td>plate 0</td><td>3.25846386503</td><td>-31.3641023457</td><td>NONE</td></tr>\n",
       "<tr><td>118</td><td>10050</td><td>1</td><td>2015:06:21</td><td>20:21:03</td><td>Dark Frame</td><td>0.</td><td>DARK</td><td>580V</td><td>plate 0</td><td>3.84628622222</td><td>-31.3640093402</td><td>NONE</td></tr>\n",
       "<tr><td>119</td><td>10051</td><td>1</td><td>2015:06:21</td><td>20:53:10</td><td>Dark Frame</td><td>0.</td><td>DARK</td><td>580V</td><td>plate 0</td><td>11.9019640941</td><td>-31.3618466022</td><td>NONE</td></tr>\n",
       "<tr><td>120</td><td>10052</td><td>1</td><td>2015:06:21</td><td>21:25:16</td><td>Dark Frame</td><td>0.</td><td>DARK</td><td>580V</td><td>plate 0</td><td>19.9573121464</td><td>-31.3579995087</td><td>NONE</td></tr>\n",
       "<tr><td>121</td><td>10053</td><td>1</td><td>2015:06:21</td><td>21:57:22</td><td>Dark Frame</td><td>0.</td><td>DARK</td><td>580V</td><td>plate 0</td><td>28.0130613221</td><td>-31.3525110111</td><td>NONE</td></tr>\n",
       "<tr><td>122</td><td>10054</td><td>1</td><td>2015:06:21</td><td>22:29:28</td><td>Dark Frame</td><td>0.</td><td>DARK</td><td>580V</td><td>plate 0</td><td>36.0684584775</td><td>-31.3455156205</td><td>NONE</td></tr>\n",
       "</table><style>table.dataTable {clear: both; width: auto !important; margin: 0 !important;}\n",
       ".dataTables_info, .dataTables_length, .dataTables_filter, .dataTables_paginate{\n",
       "display: inline-block; margin-right: 1em; }\n",
       ".paginate_button { margin-right: 5px; }\n",
       "</style>\n",
       "<script>\n",
       "require.config({paths: {\n",
       "    datatables: 'https://cdn.datatables.net/1.10.9/js/jquery.dataTables.min'\n",
       "}});\n",
       "require([\"datatables\"], function(){\n",
       "    console.log(\"$('#table6328117456-4600').dataTable()\");\n",
       "    $('#table6328117456-4600').dataTable({\n",
       "        \"order\": [],\n",
       "        \"iDisplayLength\": 20,\n",
       "        \"aLengthMenu\": [[20, 10, 25, 50, 100, 500, 1000, -1], [20, 10, 25, 50, 100, 500, 1000, 'All']],\n",
       "        \"pagingType\": \"full_numbers\"\n",
       "    });\n",
       "});\n",
       "</script>\n"
      ],
      "text/plain": [
       "<IPython.core.display.HTML object>"
      ]
     },
     "execution_count": 92,
     "metadata": {},
     "output_type": "execute_result"
    }
   ],
   "source": [
    "logtab2015[(logtab2015['ccd']==1)].show_in_notebook(display_length=20)"
   ]
  }
 ],
 "metadata": {
  "kernelspec": {
   "display_name": "Python 2",
   "language": "python",
   "name": "python2"
  },
  "language_info": {
   "codemirror_mode": {
    "name": "ipython",
    "version": 2
   },
   "file_extension": ".py",
   "mimetype": "text/x-python",
   "name": "python",
   "nbconvert_exporter": "python",
   "pygments_lexer": "ipython2",
   "version": "2.7.12"
  }
 },
 "nbformat": 4,
 "nbformat_minor": 0
}
