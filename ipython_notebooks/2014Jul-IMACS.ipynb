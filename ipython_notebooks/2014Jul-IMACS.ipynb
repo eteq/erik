{
 "metadata": {
  "name": "",
  "signature": "sha256:30f7c84a3cbf850eb572bd67688138ac3c1e31b3c9fae6ce38ed7e3637d3ad07"
 },
 "nbformat": 3,
 "nbformat_minor": 0,
 "worksheets": [
  {
   "cells": [
    {
     "cell_type": "code",
     "collapsed": false,
     "input": [
      "# This changes the current directory to the base saga directory - make sure to run this first!\n",
      "# This is necessary to be able to import the py files and use the right directories,\n",
      "# while keeping all the notebooks in their own directory.\n",
      "import os\n",
      "import sys\n",
      "\n",
      "if 'saga_base_dir' not in locals():\n",
      "    saga_base_dir = os.path.abspath('..')\n",
      "if saga_base_dir not in sys.path:\n",
      "    os.chdir(saga_base_dir)"
     ],
     "language": "python",
     "metadata": {},
     "outputs": [],
     "prompt_number": 1
    },
    {
     "cell_type": "code",
     "collapsed": false,
     "input": [
      "for module in ['hosts', 'targeting', 'magellan']:\n",
      "    if module in globals():\n",
      "        reload(globals()[module])\n",
      "    else:\n",
      "        globals()[module] = __import__(module)\n",
      "#g = targeting.get_gama() #re-caches the gama catalog"
     ],
     "language": "python",
     "metadata": {},
     "outputs": [],
     "prompt_number": 2
    },
    {
     "cell_type": "code",
     "collapsed": false,
     "input": [
      "hs = hosts.get_saga_hosts_from_google(googleun, googlepw)\n",
      "hs"
     ],
     "language": "python",
     "metadata": {},
     "outputs": [
      {
       "metadata": {},
       "output_type": "pyout",
       "prompt_number": 8,
       "text": [
        "[<hosts.NSAHost object w/ name 'Odyssey' AKA: ['NGC6181', 'NSA147100']>,\n",
        " <hosts.NSAHost object w/ name 'Iliad' AKA: ['NGC7393', 'NSA150238']>,\n",
        " <hosts.NSAHost object w/ name 'Alice' AKA: ['NGC4030', 'NSA140594']>,\n",
        " <hosts.NSAHost object w/ name 'Beowulf' AKA: ['NGC2750', 'NSA135667']>,\n",
        " <hosts.NSAHost object w/ name 'Gilgamesh' AKA: ['NGC5962', 'NSA166313']>,\n",
        " <hosts.NSAHost object w/ name 'Hamlet' AKA: ['NGC5899', 'NSA166035']>,\n",
        " <hosts.NSAHost object w/ name 'Aeneid' AKA: ['NGC-99', 'NSA148734']>,\n",
        " <hosts.NSAHost object w/ name 'AnaK' AKA: ['NGC7716', 'NSA61945']>,\n",
        " <hosts.NSAHost object w/ name 'Ulysses' AKA: ['NGC7428', 'NSA150340']>]"
       ]
      }
     ],
     "prompt_number": 8
    },
    {
     "cell_type": "code",
     "collapsed": false,
     "input": [
      "ane = [h for h in hs if h.name=='Aeneid'][0]"
     ],
     "language": "python",
     "metadata": {},
     "outputs": [],
     "prompt_number": 11
    },
    {
     "cell_type": "code",
     "collapsed": false,
     "input": [
      "ane.shortname = 'Aene'"
     ],
     "language": "python",
     "metadata": {},
     "outputs": [],
     "prompt_number": 27
    },
    {
     "cell_type": "code",
     "collapsed": false,
     "input": [
      "ane.sdss_environs_query(True)\n",
      "ane.usnob_environs_query(True)"
     ],
     "language": "python",
     "metadata": {},
     "outputs": [
      {
       "output_type": "stream",
       "stream": "stdout",
       "text": [
        "File catalogs/Aeneid_sdss.dat exists - not downloading anything.\n",
        "File catalogs/Aeneid_usnob.dat exists - not downloading anything.\n"
       ]
      }
     ],
     "prompt_number": 13
    },
    {
     "cell_type": "code",
     "collapsed": false,
     "input": [
      "ane.physical_to_projected(300*u.kpc)"
     ],
     "language": "python",
     "metadata": {},
     "outputs": [
      {
       "latex": [
        "$19.8766 \\; \\mathrm{{}^{\\prime}}$"
       ],
       "metadata": {},
       "output_type": "pyout",
       "prompt_number": 16,
       "text": [
        "<Quantity 19.8766428758897 arcmin>"
       ]
      }
     ],
     "prompt_number": 16
    },
    {
     "cell_type": "code",
     "collapsed": false,
     "input": [
      "magellan.build_imacs_targeting_files(ane, 'Marchi/Munoz', overwrite=True, refmagrange={'r':(17,17.5)}, selectkws=dict(faintlimit=22))"
     ],
     "language": "python",
     "metadata": {},
     "outputs": [
      {
       "output_type": "stream",
       "stream": "stdout",
       "text": [
        "Removing 12 objects at high z w/ good spectra, keeping 4 (total of 171846 objects)\n",
        "Wrote catalog to"
       ]
      },
      {
       "output_type": "stream",
       "stream": "stdout",
       "text": [
        " imacs_targets/Aene.cat\n",
        "Wrote obs file to imacs_targets/Aene_ini.obs\n"
       ]
      }
     ],
     "prompt_number": 31
    },
    {
     "cell_type": "heading",
     "level": 2,
     "metadata": {},
     "source": [
      "Try some test runs"
     ]
    },
    {
     "cell_type": "code",
     "collapsed": false,
     "input": [
      "magellan.plot_imacs_masks(ane, eastleft=True)"
     ],
     "language": "python",
     "metadata": {},
     "outputs": [
      {
       "output_type": "stream",
       "stream": "stdout",
       "text": [
        "[]\n",
        "Total targets= 0\n"
       ]
      },
      {
       "metadata": {},
       "output_type": "display_data",
       "png": "[encoded data removed]",
       "text": [
        "<matplotlib.figure.Figure at 0x129fd0910>"
       ]
      }
     ],
     "prompt_number": 24
    },
    {
     "cell_type": "code",
     "collapsed": false,
     "input": [
      "print ane.sdss_environs_query(xmatchwise=True)"
     ],
     "language": "python",
     "metadata": {},
     "outputs": [
      {
       "output_type": "stream",
       "stream": "stdout",
       "text": [
        "\n",
        "SELECT  p.objId  as objID,\n",
        "p.ra, p.dec, p.type, p.flags, p.specObjID, dbo.fPhotoTypeN(p.type) as phot_sg,\n",
        "p.modelMag_u as u, p.modelMag_g as g, p.modelMag_r as r,p.modelMag_i as i,p.modelMag_z as z,\n",
        "p.modelMagErr_u as u_err, p.modelMagErr_g as g_err, p.modelMagErr_r as r_err,p.modelMagErr_i as i_err,p.modelMagErr_z as z_err,\n",
        "p.psfMag_u as psf_u, p.psfMag_g as psf_g, p.psfMag_r as psf_r, p.psfMag_i as psf_i, p.psfMag_z as psf_z,\n",
        "p.fibermag_r, p.fiber2mag_r,\n",
        "p.petroMag_r + 2.5*log10(2*PI()*p.petroR50_r*p.petroR50_r) as sb_petro_r,\n",
        "p.expMag_r, p.expMag_r + 2.5*log10(2*PI()*p.expRad_r*p.expRad_r + 1e-20) as sb_exp_r,\n",
        "p.deVMag_r, p.deVMag_r + 2.5*log10(2*PI()*p.deVRad_r*p.deVRad_r + 1e-20) as sb_deV_r,\n",
        "p.lnLExp_r, p.lnLDeV_r, p.lnLStar_r,\n",
        "p.extinction_u as Au, p.extinction_g as Ag, p.extinction_r as Ar, p.extinction_i as Ai, p.extinction_z as Az,\n",
        "ISNULL(s.z, -1) as spec_z, ISNULL(s.zErr, -1) as spec_z_err, ISNULL(s.zWarning, -1) as spec_z_warn, s.class as spec_class,\n",
        "s.subclass as spec_subclass, ISNULL(pz.z,-1) as photz,ISNULL(pz.zerr,-1) as photz_err, ISNULL(W.w1mpro,-99) as w1, ISNULL(W.w1sigmpro, -99) as w1_err\n",
        "\n",
        "\n",
        "\n",
        "FROM dbo.fGetNearbyObjEq(309.727020806, -5.63998013366, 19.8766428759) n, PhotoPrimary p\n",
        "LEFT JOIN WISE_xmatch X ON p.objid = X.sdss_objid\n",
        "LEFT JOIN wise_allsky W ON x.wise_cntr = W.cntr\n",
        "LEFT JOIN SpecObj s ON p.specObjID = s.specObjID\n",
        "LEFT JOIN PhotoZ pz ON p.ObjID = pz.ObjID\n",
        "WHERE n.objID = p.objID\n",
        "\n",
        "\n"
       ]
      }
     ],
     "prompt_number": 35
    },
    {
     "cell_type": "code",
     "collapsed": false,
     "input": [],
     "language": "python",
     "metadata": {},
     "outputs": []
    }
   ],
   "metadata": {}
  }
 ]
}