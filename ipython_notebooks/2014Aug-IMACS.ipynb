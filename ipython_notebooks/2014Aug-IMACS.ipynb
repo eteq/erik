{
 "metadata": {
  "name": "",
  "signature": "sha256:706d0b2e7ef8ffa4db22ca7446895c292a8703607ab4a62589b3f277f129dd9f"
 },
 "nbformat": 3,
 "nbformat_minor": 0,
 "worksheets": [
  {
   "cells": [
    {
     "cell_type": "markdown",
     "metadata": {},
     "source": [
      "The following are targets for this run:\n",
      "\n",
      "* gilgamesh\n",
      "* aeneid\n",
      "* anak\n",
      "* illiad\n",
      "* ulysses\n",
      "* nsa 132339\n",
      "* nsa 131531\n",
      "\n",
      "This time, using a priority list with cuts from Risa.  Another difference is a change from slits with 6\" on each side to 3\""
     ]
    },
    {
     "cell_type": "code",
     "collapsed": false,
     "input": [
      "# This changes the current directory to the base saga directory - make sure to run this first!\n",
      "# This is necessary to be able to import the py files and use the right directories,\n",
      "# while keeping all the notebooks in their own directory.\n",
      "import os\n",
      "import sys\n",
      "\n",
      "if 'saga_base_dir' not in locals():\n",
      "    saga_base_dir = os.path.abspath('..')\n",
      "if saga_base_dir not in sys.path:\n",
      "    os.chdir(saga_base_dir)"
     ],
     "language": "python",
     "metadata": {},
     "outputs": [],
     "prompt_number": 18
    },
    {
     "cell_type": "code",
     "collapsed": false,
     "input": [
      "for module in ['hosts', 'targeting', 'magellan']:\n",
      "    if module in globals():\n",
      "        reload(globals()[module])\n",
      "    else:\n",
      "        globals()[module] = __import__(module)\n",
      "#g = targeting.get_gama() #re-caches the gama catalog\n",
      "\n",
      "from astropy import units as u\n",
      "from astropy.io import ascii"
     ],
     "language": "python",
     "metadata": {},
     "outputs": [],
     "prompt_number": 20
    },
    {
     "cell_type": "code",
     "collapsed": false,
     "input": [
      "goog_hosts = hosts.get_saga_hosts_from_google('etollerud@gmail.com')"
     ],
     "language": "python",
     "metadata": {},
     "outputs": [
      {
       "output_type": "stream",
       "stream": "stdout",
       "text": [
        "Password for \"etollerud@gmail.com\":\u00b7\u00b7\u00b7\u00b7\u00b7\u00b7\u00b7\u00b7\n"
       ]
      },
      {
       "metadata": {},
       "output_type": "pyout",
       "prompt_number": 6,
       "text": [
        "[<hosts.NSAHost object w/ name 'Odyssey' AKA: ['NGC6181', 'NSA147100']>,\n",
        " <hosts.NSAHost object w/ name 'Iliad' AKA: ['NGC7393', 'NSA150238']>,\n",
        " <hosts.NSAHost object w/ name 'Alice' AKA: ['NGC4030', 'NSA140594']>,\n",
        " <hosts.NSAHost object w/ name 'Beowulf' AKA: ['NGC2750', 'NSA135667']>,\n",
        " <hosts.NSAHost object w/ name 'Gilgamesh' AKA: ['NGC5962', 'NSA166313']>,\n",
        " <hosts.NSAHost object w/ name 'Hamlet' AKA: ['NGC5899', 'NSA166035']>,\n",
        " <hosts.NSAHost object w/ name 'Aeneid' AKA: ['NGC-99', 'NSA148734']>,\n",
        " <hosts.NSAHost object w/ name 'AnaK' AKA: ['NGC7716', 'NSA61945']>,\n",
        " <hosts.NSAHost object w/ name 'Ulysses' AKA: ['NGC7428', 'NSA150340']>,\n",
        " <hosts.NSAHost object w/ name 'Sopranos' AKA: ['NGC5750', 'NSA165536']>,\n",
        " <hosts.NSAHost object w/ name 'Dune' AKA: ['NGC4045', 'NSA13927']>]"
       ]
      }
     ],
     "prompt_number": 6
    },
    {
     "cell_type": "code",
     "collapsed": false,
     "input": [
      "targ_hosts = [h for h in goog_hosts if h.name.lower() in 'gilgamesh,aeneid,anak,illiad,ulysses'.split(',')]\n",
      "targ_hosts.append(hosts.NSAHost(132339))\n",
      "targ_hosts.append(hosts.NSAHost(131531))"
     ],
     "language": "python",
     "metadata": {},
     "outputs": [],
     "prompt_number": 12
    },
    {
     "cell_type": "heading",
     "level": 2,
     "metadata": {},
     "source": [
      "Gilgamesh"
     ]
    },
    {
     "cell_type": "code",
     "collapsed": false,
     "input": [
      "gilg = targ_hosts[0]\n",
      "gilg.shortname = 'Gilg'"
     ],
     "language": "python",
     "metadata": {},
     "outputs": [],
     "prompt_number": 35
    },
    {
     "cell_type": "code",
     "collapsed": false,
     "input": [
      "gilg.physical_to_projected(300*u.kpc)"
     ],
     "language": "python",
     "metadata": {},
     "outputs": [
      {
       "latex": [
        "$37.1883 \\; \\mathrm{{}^{\\prime}}$"
       ],
       "metadata": {},
       "output_type": "pyout",
       "prompt_number": 38,
       "text": [
        "<Quantity 37.18825214427636 arcmin>"
       ]
      }
     ],
     "prompt_number": 38
    },
    {
     "cell_type": "code",
     "collapsed": false,
     "input": [
      "target_catalog = ascii.read('catalogs/2014Jul_imacs_pris/imacs_61945.dat', names=['objID', 'ra', 'dec', 'r', 'imacs_pri'])"
     ],
     "language": "python",
     "metadata": {},
     "outputs": [],
     "prompt_number": 22
    },
    {
     "cell_type": "markdown",
     "metadata": {},
     "source": [
      "Need to re-arrange the priority order because the priorities are:\n",
      "\n",
      "1. Low-pri >r_vir \n",
      "2. Better targets >r_vir\n",
      "3. Ok targers <r_vir\n",
      "4. 100% to-get sample < r_vir\n",
      "5. Must-get Gilgamesh targets\n",
      "\n",
      "but for IMACS 1 is good, 5 is bad"
     ]
    },
    {
     "cell_type": "code",
     "collapsed": false,
     "input": [
      "ipri = target_catalog['imacs_pri']\n",
      "msks = [ipri==i for i in np.arange(6)]\n",
      "ipri[msks[5]] = -1\n",
      "ipri[msks[4]] = 1\n",
      "ipri[msks[3]] = 2\n",
      "ipri[msks[2]] = 5\n",
      "ipri[msks[1]] = 10"
     ],
     "language": "python",
     "metadata": {},
     "outputs": [],
     "prompt_number": 30
    },
    {
     "cell_type": "code",
     "collapsed": false,
     "input": [
      "magellan.build_imacs_targeting_files(gilg, 'Marchi/Munoz', targs=target_catalog, onlygals=False) \n",
      "#onlygals=False because this target catalog already has been cleaned of stars"
     ],
     "language": "python",
     "metadata": {},
     "outputs": [
      {
       "output_type": "stream",
       "stream": "stdout",
       "text": [
        "Wrote catalog to imacs_targets/Gilg.cat\n",
        "Wrote obs file to imacs_targets/Gilg_ini.obs\n"
       ]
      }
     ],
     "prompt_number": 36
    },
    {
     "cell_type": "markdown",
     "metadata": {},
     "source": [
      "Now actually do the selection w/ intgui"
     ]
    },
    {
     "cell_type": "code",
     "collapsed": false,
     "input": [
      "magellan.plot_imacs_masks(gilg, eastleft=True)"
     ],
     "language": "python",
     "metadata": {},
     "outputs": []
    },
    {
     "cell_type": "code",
     "collapsed": false,
     "input": [],
     "language": "python",
     "metadata": {},
     "outputs": []
    },
    {
     "cell_type": "code",
     "collapsed": false,
     "input": [],
     "language": "python",
     "metadata": {},
     "outputs": []
    }
   ],
   "metadata": {}
  }
 ]
}