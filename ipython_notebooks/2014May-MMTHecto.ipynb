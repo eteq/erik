{
 "metadata": {
  "name": "",
  "signature": "sha256:945ad78f0b860b096a7002a984232d9e3d52cefa18005bb99d6cb736342cce27"
 },
 "nbformat": 3,
 "nbformat_minor": 0,
 "worksheets": [
  {
   "cells": [
    {
     "cell_type": "code",
     "collapsed": false,
     "input": [
      "# This changes the current directory to the base saga directory - make sure to run this first!\n",
      "# This is necessary to be able to import the py files and use the right directories,\n",
      "# while keeping all the notebooks in their own directory.\n",
      "import os\n",
      "import sys\n",
      "\n",
      "if 'saga_base_dir' not in locals():\n",
      "    saga_base_dir = os.path.abspath('..')\n",
      "if saga_base_dir not in sys.path:\n",
      "    os.chdir(saga_base_dir)"
     ],
     "language": "python",
     "metadata": {},
     "outputs": [],
     "prompt_number": 1
    },
    {
     "cell_type": "code",
     "collapsed": false,
     "input": [
      "import hosts\n",
      "import targeting"
     ],
     "language": "python",
     "metadata": {},
     "outputs": [],
     "prompt_number": 2
    },
    {
     "cell_type": "heading",
     "level": 2,
     "metadata": {},
     "source": [
      "Odyssey"
     ]
    },
    {
     "cell_type": "code",
     "collapsed": false,
     "input": [
      "hosts.odyssey.sdss_environs_query(True)"
     ],
     "language": "python",
     "metadata": {},
     "outputs": [
      {
       "output_type": "stream",
       "stream": "stdout",
       "text": [
        "File catalogs/Odyssey_sdss.dat exists - not downloading anything.\n"
       ]
      }
     ],
     "prompt_number": 3
    },
    {
     "cell_type": "code",
     "collapsed": false,
     "input": [
      "targs = targeting.select_targets(hosts.odyssey, outercutrad=300*u.kpc, innercutrad=20,\n",
      "                                 colorcuts=targeting.bossanova_color_cuts,\n",
      "                                 galvsallcutoff=21, removegalsathighz=False)\n",
      "len(targs)"
     ],
     "language": "python",
     "metadata": {},
     "outputs": [
      {
       "metadata": {},
       "output_type": "pyout",
       "prompt_number": 4,
       "text": [
        "1384"
       ]
      }
     ],
     "prompt_number": 4
    },
    {
     "cell_type": "code",
     "collapsed": false,
     "input": [
      "targs = targeting.select_targets(hosts.odyssey, outercutrad=300*u.kpc, innercutrad=20,\n",
      "                                 colorcuts=targeting.bossanova_color_cuts,\n",
      "                                 galvsallcutoff=21, removegalsathighz=True)\n",
      "len(targs)"
     ],
     "language": "python",
     "metadata": {},
     "outputs": [
      {
       "output_type": "stream",
       "stream": "stdout",
       "text": [
        "Removing 179 objects at high z, keeping 4 (total of 43128 objects)\n"
       ]
      },
      {
       "metadata": {},
       "output_type": "pyout",
       "prompt_number": 13,
       "text": [
        "1343"
       ]
      }
     ],
     "prompt_number": 13
    },
    {
     "cell_type": "code",
     "collapsed": false,
     "input": [
      "targs_fibcut = targs[targs['fibermag_r']<23]\n",
      "len(targs_fibcut)"
     ],
     "language": "python",
     "metadata": {},
     "outputs": [
      {
       "metadata": {},
       "output_type": "pyout",
       "prompt_number": 14,
       "text": [
        "1334"
       ]
      }
     ],
     "prompt_number": 14
    },
    {
     "cell_type": "code",
     "collapsed": false,
     "input": [
      "odat = fits.getdata('catalogs/saga_Odyssey_data_May62014.fits')\n",
      "odat = odat[odat['ZQUALITY']>=3]\n",
      "odat.dtype.names"
     ],
     "language": "python",
     "metadata": {},
     "outputs": [
      {
       "metadata": {},
       "output_type": "pyout",
       "prompt_number": 7,
       "text": [
        "('SDSS_OBJID',\n",
        " 'TELNAME',\n",
        " 'MASKFILE',\n",
        " 'SPECID',\n",
        " 'RA',\n",
        " 'DEC',\n",
        " 'Z',\n",
        " 'ZQUALITY',\n",
        " 'SDSS_R',\n",
        " 'SDSS_G',\n",
        " 'SDSS_I',\n",
        " 'SDSS_SG',\n",
        " 'SDSS_PZ',\n",
        " 'SDSS_PZ_ERR',\n",
        " 'SATS')"
       ]
      }
     ],
     "prompt_number": 7
    },
    {
     "cell_type": "code",
     "collapsed": false,
     "input": [
      "c = coo.ICRS(np.array(targs_fibcut['ra'])*u.deg,np.array(targs_fibcut['dec'])*u.deg)\n",
      "coodat = coo.ICRS(odat['RA']*u.deg, odat['DEC']*u.deg)\n",
      "\n",
      "idx, d2d, d3d= coodat.match_to_catalog_sky(c)\n",
      "hist(d2d.to(u.arcsec).value, bins=100,histtype='step',range=(0,10), log=True);"
     ],
     "language": "python",
     "metadata": {},
     "outputs": [
      {
       "metadata": {},
       "output_type": "display_data",
       "png": "[encoded data removed]",
       "text": [
        "<matplotlib.figure.Figure at 0x13626bad0>"
       ]
      }
     ],
     "prompt_number": 8
    },
    {
     "cell_type": "code",
     "collapsed": false,
     "input": [
      "got_spectra = np.zeros(len(targs_fibcut), dtype=bool)\n",
      "got_spectra[idx[d2d < 1*u.arcsec]] = True\n",
      "print 'Already have spectrum:',sum(got_spectra),'Don\\'t yet:', sum(~got_spectra)"
     ],
     "language": "python",
     "metadata": {},
     "outputs": [
      {
       "output_type": "stream",
       "stream": "stdout",
       "text": [
        "Already have spectrum: 641 Don't yet: 693\n"
       ]
      }
     ],
     "prompt_number": 9
    },
    {
     "cell_type": "code",
     "collapsed": false,
     "input": [
      "midfib=targs[(targs_fibcut['fibermag_r']>22)]\n",
      "lowfib=targs[(targs['fibermag_r']>23)]"
     ],
     "language": "python",
     "metadata": {},
     "outputs": [],
     "prompt_number": 22
    },
    {
     "cell_type": "code",
     "collapsed": false,
     "input": [
      "targeting.sampled_imagelist(midfib['ra'],midfib['dec'],10000)"
     ],
     "language": "python",
     "metadata": {},
     "outputs": [
      {
       "metadata": {},
       "output_type": "pyout",
       "prompt_number": 25,
       "text": [
        "'name ra dec\\n0 248.496013256 19.90141787\\n1 248.345656954 20.1965399784\\n2 247.597593722 19.7474149015\\n3 248.028767964 20.2754527742\\n4 248.076609812 19.3809762261\\n5 248.247688583 20.3028159413\\n6 248.573985899 19.8771392023\\n7 248.003052497 20.2809148237\\n8 248.330340256 19.4281185004\\n9 248.388089924 19.6086427649\\n10 248.172647908 19.3690647837\\n11 248.253665575 20.0094027005\\n12 248.507979848 19.6120136689\\n13 247.929480317 19.6719562792\\n14 248.37882706 19.4210752068\\n15 247.673598708 20.0425200722\\n16 247.804010273 19.4576679592\\n17 248.08676008 19.5757299086\\n18 248.022377006 20.0598406705\\n19 248.255818876 20.0425051085\\n20 248.31862635 20.2684144896\\n21 247.958396432 20.2848784336\\n22 248.126761856 19.8984484844\\n23 248.116508107 20.2169060456\\n24 247.955563147 20.2643417534\\n25 247.812208023 19.905434318\\n26 247.808524861 20.0262917612\\n27 247.833047026 19.6130316032\\n28 248.155696018 20.2696521524\\n29 247.883929935 19.395224415\\n30 247.731344049 20.1751964218\\n31 247.924104203 20.2344307572\\n32 248.272039655 19.9606396998\\n33 247.944000081 20.2041990342\\n34 248.409881116 19.5459731162\\n35 247.931318738 19.9854670183\\n36 248.304504594 19.5304922491\\n37 247.997597616 19.8754995658'"
       ]
      }
     ],
     "prompt_number": 25
    },
    {
     "cell_type": "code",
     "collapsed": false,
     "input": [
      "targeting.sampled_imagelist(lowfib['ra'],lowfib['dec'],10000)"
     ],
     "language": "python",
     "metadata": {},
     "outputs": [
      {
       "metadata": {},
       "output_type": "pyout",
       "prompt_number": 24,
       "text": [
        "'name ra dec\\n0 248.21331629 19.6466085749\\n1 248.36901766 20.0947691805\\n2 248.435280907 19.4729136623\\n3 248.367245317 20.2258262213\\n4 248.384844607 19.5723579938\\n5 248.550444057 19.6382907907\\n6 248.36015449 20.139737498\\n7 248.129670872 19.6539752286\\n8 248.135975343 19.88599774'"
       ]
      }
     ],
     "prompt_number": 24
    },
    {
     "cell_type": "code",
     "collapsed": false,
     "input": [
      "targs.dtype.names"
     ],
     "language": "python",
     "metadata": {},
     "outputs": [
      {
       "metadata": {},
       "output_type": "pyout",
       "prompt_number": 41,
       "text": [
        "('objID',\n",
        " 'ra',\n",
        " 'dec',\n",
        " 'type',\n",
        " 'flags',\n",
        " 'specObjID',\n",
        " 'phot_sg',\n",
        " 'u',\n",
        " 'g',\n",
        " 'r',\n",
        " 'i',\n",
        " 'z',\n",
        " 'u_err',\n",
        " 'g_err',\n",
        " 'r_err',\n",
        " 'i_err',\n",
        " 'z_err',\n",
        " 'psf_u',\n",
        " 'psf_g',\n",
        " 'psf_r',\n",
        " 'psf_i',\n",
        " 'psf_z',\n",
        " 'fibermag_r',\n",
        " 'fiber2mag_r',\n",
        " 'sb_petro_r',\n",
        " 'expMag_r',\n",
        " 'sb_exp_r',\n",
        " 'deVMag_r',\n",
        " 'sb_deV_r',\n",
        " 'lnLExp_r',\n",
        " 'lnLDeV_r',\n",
        " 'lnLStar_r',\n",
        " 'Au',\n",
        " 'Ag',\n",
        " 'Ar',\n",
        " 'Ai',\n",
        " 'Az',\n",
        " 'spec_z',\n",
        " 'spec_z_err',\n",
        " 'spec_z_warn',\n",
        " 'spec_class',\n",
        " 'spec_subclass',\n",
        " 'photz',\n",
        " 'photz_err',\n",
        " 'U',\n",
        " 'B',\n",
        " 'V',\n",
        " 'R',\n",
        " 'I',\n",
        " 'psf_U',\n",
        " 'psf_B',\n",
        " 'psf_V',\n",
        " 'psf_R',\n",
        " 'psf_I',\n",
        " 'rhost')"
       ]
      }
     ],
     "prompt_number": 41
    },
    {
     "cell_type": "code",
     "collapsed": false,
     "input": [
      "figure(figsize=(12,8))\n",
      "plot(targs['fibermag_r'],targs['r'],'.r',alpha=.8,ms=1);\n",
      "plt.xlabel('fibermag_r')\n",
      "plt.ylabel('r')\n",
      "plt.xlim(18,23.5)\n",
      "plt.ylim(15,21.1);\n",
      "\n"
     ],
     "language": "python",
     "metadata": {},
     "outputs": [
      {
       "metadata": {},
       "output_type": "display_data",
       "png": "[encoded data removed]",
       "text": [
        "<matplotlib.figure.Figure at 0x1304bb150>"
       ]
      }
     ],
     "prompt_number": 53
    }
   ],
   "metadata": {}
  }
 ]
}