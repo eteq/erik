{
 "metadata": {
  "name": "",
  "signature": "sha256:45e10e597e8875b1171237b0d1c5e3d5cb2a5a9805b8b62ffb348a87cba5c214"
 },
 "nbformat": 3,
 "nbformat_minor": 0,
 "worksheets": [
  {
   "cells": [
    {
     "cell_type": "code",
     "collapsed": false,
     "input": [
      "# This changes the current directory to the base saga directory - make sure to run this first!\n",
      "# This is necessary to be able to import the py files and use the right directories,\n",
      "# while keeping all the notebooks in their own directory.\n",
      "import os\n",
      "import sys\n",
      "\n",
      "if 'saga_base_dir' not in locals():\n",
      "    saga_base_dir = os.path.abspath('..')\n",
      "if saga_base_dir not in sys.path:\n",
      "    os.chdir(saga_base_dir)"
     ],
     "language": "python",
     "metadata": {},
     "outputs": [],
     "prompt_number": 1
    },
    {
     "cell_type": "code",
     "collapsed": false,
     "input": [
      "import hosts\n",
      "import targeting"
     ],
     "language": "python",
     "metadata": {},
     "outputs": [],
     "prompt_number": 3
    },
    {
     "cell_type": "heading",
     "level": 2,
     "metadata": {},
     "source": [
      "Odyssey"
     ]
    },
    {
     "cell_type": "code",
     "collapsed": false,
     "input": [
      "hosts.odyssey.sdss_environs_query(True)"
     ],
     "language": "python",
     "metadata": {},
     "outputs": [
      {
       "output_type": "stream",
       "stream": "stdout",
       "text": [
        "File catalogs/Odyssey_sdss.dat exists - not downloading anything.\n"
       ]
      }
     ],
     "prompt_number": 6
    },
    {
     "cell_type": "code",
     "collapsed": false,
     "input": [
      "targs = targeting.select_targets(hosts.odyssey, outercutrad=300*u.kpc, innercutrad=20,\n",
      "                                 colorcuts=targeting.bossanova_color_cuts,\n",
      "                                 galvsallcutoff=21, removegalsathighz=False)\n",
      "len(targs)"
     ],
     "language": "python",
     "metadata": {},
     "outputs": [
      {
       "metadata": {},
       "output_type": "pyout",
       "prompt_number": 7,
       "text": [
        "1384"
       ]
      }
     ],
     "prompt_number": 7
    },
    {
     "cell_type": "code",
     "collapsed": false,
     "input": [
      "targs = targeting.select_targets(hosts.odyssey, outercutrad=300*u.kpc, innercutrad=20,\n",
      "                                 colorcuts=targeting.bossanova_color_cuts,\n",
      "                                 galvsallcutoff=21, removegalsathighz=True)\n",
      "len(targs)"
     ],
     "language": "python",
     "metadata": {},
     "outputs": [
      {
       "output_type": "stream",
       "stream": "stdout",
       "text": [
        "Removing 179 objects at high z, keeping 4 (total of 43128 objects)\n"
       ]
      },
      {
       "metadata": {},
       "output_type": "pyout",
       "prompt_number": 8,
       "text": [
        "1343"
       ]
      }
     ],
     "prompt_number": 8
    },
    {
     "cell_type": "code",
     "collapsed": false,
     "input": [
      "targs = targs[targs['fibermag_r']<23]\n",
      "len(targs)"
     ],
     "language": "python",
     "metadata": {},
     "outputs": [
      {
       "metadata": {},
       "output_type": "pyout",
       "prompt_number": 9,
       "text": [
        "1334"
       ]
      }
     ],
     "prompt_number": 9
    },
    {
     "cell_type": "code",
     "collapsed": false,
     "input": [
      "odat = fits.getdata('catalogs/saga_Odyssey_data_May62014.fits')\n",
      "odat = odat[odat['ZQUALITY']>=3]\n",
      "odat.dtype.names"
     ],
     "language": "python",
     "metadata": {},
     "outputs": [
      {
       "metadata": {},
       "output_type": "pyout",
       "prompt_number": 10,
       "text": [
        "('SDSS_OBJID',\n",
        " 'TELNAME',\n",
        " 'MASKFILE',\n",
        " 'SPECID',\n",
        " 'RA',\n",
        " 'DEC',\n",
        " 'Z',\n",
        " 'ZQUALITY',\n",
        " 'SDSS_R',\n",
        " 'SDSS_G',\n",
        " 'SDSS_I',\n",
        " 'SDSS_SG',\n",
        " 'SDSS_PZ',\n",
        " 'SDSS_PZ_ERR',\n",
        " 'SATS')"
       ]
      }
     ],
     "prompt_number": 10
    },
    {
     "cell_type": "code",
     "collapsed": false,
     "input": [
      "c = coo.ICRS(np.array(targs['ra'])*u.deg,np.array(targs['dec'])*u.deg)\n",
      "coodat = coo.ICRS(odat['RA']*u.deg, odat['DEC']*u.deg)\n",
      "\n",
      "idx, d2d, d3d= coodat.match_to_catalog_sky(c)\n",
      "hist(d2d.to(u.arcsec).value, bins=100,histtype='step',range=(0,10), log=True);"
     ],
     "language": "python",
     "metadata": {},
     "outputs": [
      {
       "metadata": {},
       "output_type": "display_data",
       "png": "[encoded data removed]",
       "text": [
        "<matplotlib.figure.Figure at 0x153819110>"
       ]
      }
     ],
     "prompt_number": 11
    },
    {
     "cell_type": "code",
     "collapsed": false,
     "input": [
      "got_spectra = np.zeros(len(targs), dtype=bool)\n",
      "got_spectra[idx[d2d < 1*u.arcsec]] = True\n",
      "print 'Already have spectrum:',sum(got_spectra),'Don\\'t yet:', sum(~got_spectra)"
     ],
     "language": "python",
     "metadata": {},
     "outputs": [
      {
       "output_type": "stream",
       "stream": "stdout",
       "text": [
        "Already have spectrum: 641 Don't yet: 693\n"
       ]
      }
     ],
     "prompt_number": 13
    },
    {
     "cell_type": "code",
     "collapsed": false,
     "input": [],
     "language": "python",
     "metadata": {},
     "outputs": []
    }
   ],
   "metadata": {}
  }
 ]
}