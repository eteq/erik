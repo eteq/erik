{
 "cells": [
  {
   "cell_type": "markdown",
   "metadata": {},
   "source": [
    "This notebook builds from \"DECALS low-SB_completeness AnaK overlap\""
   ]
  },
  {
   "cell_type": "code",
   "execution_count": 1,
   "metadata": {
    "collapsed": true
   },
   "outputs": [],
   "source": [
    "from __future__ import print_function, division"
   ]
  },
  {
   "cell_type": "code",
   "execution_count": 2,
   "metadata": {
    "collapsed": true
   },
   "outputs": [],
   "source": [
    "# This changes the current directory to the base saga directory - make sure to run this first!\n",
    "# This is necessary to be able to import the py files and use the right directories,\n",
    "# while keeping all the notebooks in their own directory.\n",
    "import os\n",
    "import sys\n",
    "from time import time\n",
    "\n",
    "if 'saga_base_dir' not in locals():\n",
    "    saga_base_dir = os.path.abspath('..')\n",
    "if saga_base_dir not in sys.path:\n",
    "    os.chdir(saga_base_dir)"
   ]
  },
  {
   "cell_type": "code",
   "execution_count": 3,
   "metadata": {
    "collapsed": true
   },
   "outputs": [],
   "source": [
    "import hosts\n",
    "import targeting\n",
    "\n",
    "import numpy as np\n",
    "\n",
    "from scipy import interpolate\n",
    "\n",
    "from astropy import units as u\n",
    "from astropy.coordinates import SkyCoord\n",
    "from astropy import table\n",
    "from astropy.table import Table\n",
    "from astropy.io import fits\n",
    "\n",
    "from astropy.utils.console import ProgressBar\n",
    "\n",
    "from collections import Counter"
   ]
  },
  {
   "cell_type": "code",
   "execution_count": 4,
   "metadata": {
    "collapsed": false
   },
   "outputs": [],
   "source": [
    "%matplotlib inline\n",
    "from matplotlib import style, pyplot as plt\n",
    "\n",
    "plt.style.use('seaborn-deep')\n",
    "plt.rcParams['image.cmap'] = 'viridis'\n",
    "plt.rcParams['image.origin'] = 'lower'\n",
    "plt.rcParams['figure.figsize'] = (14, 8)\n",
    "plt.rcParams['axes.titlesize'] =  plt.rcParams['axes.labelsize'] = 16\n",
    "plt.rcParams['xtick.labelsize'] =  plt.rcParams['ytick.labelsize'] = 14"
   ]
  },
  {
   "cell_type": "code",
   "execution_count": 5,
   "metadata": {
    "collapsed": true
   },
   "outputs": [],
   "source": [
    "from IPython import display"
   ]
  },
  {
   "cell_type": "code",
   "execution_count": 6,
   "metadata": {
    "collapsed": false
   },
   "outputs": [],
   "source": [
    "from decals import make_cutout_comparison_table, fluxivar_to_mag_magerr, compute_sb"
   ]
  },
  {
   "cell_type": "markdown",
   "metadata": {},
   "source": [
    "# Get AnaK/brick info"
   ]
  },
  {
   "cell_type": "code",
   "execution_count": 7,
   "metadata": {
    "collapsed": false
   },
   "outputs": [
    {
     "name": "stdout",
     "output_type": "stream",
     "text": [
      "Using cached version of google hosts list from file \"hosts_dl.pkl2\"\n"
     ]
    }
   ],
   "source": [
    "hsts = hosts.get_saga_hosts_from_google(clientsecretjsonorfn='client_secrets.json', useobservingsummary=False)\n",
    "anak  = [h for h in hsts if h.name=='AnaK']\n",
    "assert len(anak)==1\n",
    "anak = anak[0]"
   ]
  },
  {
   "cell_type": "code",
   "execution_count": 8,
   "metadata": {
    "collapsed": false,
    "scrolled": false
   },
   "outputs": [
    {
     "name": "stdout",
     "output_type": "stream",
     "text": [
      "['3538m007', '3541m007', '3543m007', '3546m007', '3533m005', '3536m005', '3538m005', '3541m005', '3543m005', '3546m005', '3548m005', '3531m002', '3533m002', '3536m002', '3538m002', '3541m002', '3543m002', '3546m002', '3548m002', '3551m002', '3531p000', '3533p000', '3536p000', '3538p000', '3541p000', '3543p000', '3546p000', '3548p000', '3551p000', '3531p002', '3533p002', '3536p002', '3538p002', '3541p002', '3543p002', '3546p002', '3548p002', '3551p002', '3531p005', '3533p005', '3536p005', '3538p005', '3541p005', '3543p005', '3546p005', '3548p005', '3551p005', '3531p007', '3533p007', '3536p007', '3538p007', '3541p007', '3543p007', '3546p007', '3548p007', '3551p007', '3533p010', '3536p010', '3538p010', '3541p010', '3543p010', '3546p010', '3548p010', '3536p012', '3538p012', '3541p012', '3543p012', '3546p012']\n"
     ]
    }
   ],
   "source": [
    "bricknames = []\n",
    "with open('decals_dr3/anakbricks') as f:\n",
    "    for l in f:\n",
    "        l = l.strip()\n",
    "        if l != '':\n",
    "            bricknames.append(l)\n",
    "print(bricknames)"
   ]
  },
  {
   "cell_type": "markdown",
   "metadata": {},
   "source": [
    "# Download the catalogs if needed "
   ]
  },
  {
   "cell_type": "code",
   "execution_count": 9,
   "metadata": {
    "collapsed": false,
    "scrolled": true
   },
   "outputs": [
    {
     "name": "stdout",
     "output_type": "stream",
     "text": [
      "decals_dr3/catalogs/tractor-3538m007.fits already exists, not downloading\n",
      "decals_dr3/catalogs/tractor-3541m007.fits already exists, not downloading\n",
      "decals_dr3/catalogs/tractor-3543m007.fits already exists, not downloading\n",
      "decals_dr3/catalogs/tractor-3546m007.fits already exists, not downloading\n",
      "decals_dr3/catalogs/tractor-3533m005.fits already exists, not downloading\n",
      "decals_dr3/catalogs/tractor-3536m005.fits already exists, not downloading\n",
      "decals_dr3/catalogs/tractor-3538m005.fits already exists, not downloading\n",
      "decals_dr3/catalogs/tractor-3541m005.fits already exists, not downloading\n",
      "decals_dr3/catalogs/tractor-3543m005.fits already exists, not downloading\n",
      "decals_dr3/catalogs/tractor-3546m005.fits already exists, not downloading\n",
      "decals_dr3/catalogs/tractor-3548m005.fits already exists, not downloading\n",
      "decals_dr3/catalogs/tractor-3531m002.fits already exists, not downloading\n",
      "decals_dr3/catalogs/tractor-3533m002.fits already exists, not downloading\n",
      "decals_dr3/catalogs/tractor-3536m002.fits already exists, not downloading\n",
      "decals_dr3/catalogs/tractor-3538m002.fits already exists, not downloading\n",
      "decals_dr3/catalogs/tractor-3541m002.fits already exists, not downloading\n",
      "decals_dr3/catalogs/tractor-3543m002.fits already exists, not downloading\n",
      "decals_dr3/catalogs/tractor-3546m002.fits already exists, not downloading\n",
      "decals_dr3/catalogs/tractor-3548m002.fits already exists, not downloading\n",
      "decals_dr3/catalogs/tractor-3551m002.fits already exists, not downloading\n",
      "decals_dr3/catalogs/tractor-3531p000.fits already exists, not downloading\n",
      "decals_dr3/catalogs/tractor-3533p000.fits already exists, not downloading\n",
      "decals_dr3/catalogs/tractor-3536p000.fits already exists, not downloading\n",
      "decals_dr3/catalogs/tractor-3538p000.fits already exists, not downloading\n",
      "decals_dr3/catalogs/tractor-3541p000.fits already exists, not downloading\n",
      "decals_dr3/catalogs/tractor-3543p000.fits already exists, not downloading\n",
      "decals_dr3/catalogs/tractor-3546p000.fits already exists, not downloading\n",
      "decals_dr3/catalogs/tractor-3548p000.fits already exists, not downloading\n",
      "decals_dr3/catalogs/tractor-3551p000.fits already exists, not downloading\n",
      "decals_dr3/catalogs/tractor-3531p002.fits already exists, not downloading\n",
      "decals_dr3/catalogs/tractor-3533p002.fits already exists, not downloading\n",
      "decals_dr3/catalogs/tractor-3536p002.fits already exists, not downloading\n",
      "decals_dr3/catalogs/tractor-3538p002.fits already exists, not downloading\n",
      "decals_dr3/catalogs/tractor-3541p002.fits already exists, not downloading\n",
      "decals_dr3/catalogs/tractor-3543p002.fits already exists, not downloading\n",
      "decals_dr3/catalogs/tractor-3546p002.fits already exists, not downloading\n",
      "decals_dr3/catalogs/tractor-3548p002.fits already exists, not downloading\n",
      "decals_dr3/catalogs/tractor-3551p002.fits already exists, not downloading\n",
      "decals_dr3/catalogs/tractor-3531p005.fits already exists, not downloading\n",
      "decals_dr3/catalogs/tractor-3533p005.fits already exists, not downloading\n",
      "decals_dr3/catalogs/tractor-3536p005.fits already exists, not downloading\n",
      "decals_dr3/catalogs/tractor-3538p005.fits already exists, not downloading\n",
      "decals_dr3/catalogs/tractor-3541p005.fits already exists, not downloading\n",
      "decals_dr3/catalogs/tractor-3543p005.fits already exists, not downloading\n",
      "decals_dr3/catalogs/tractor-3546p005.fits already exists, not downloading\n",
      "decals_dr3/catalogs/tractor-3548p005.fits already exists, not downloading\n",
      "decals_dr3/catalogs/tractor-3551p005.fits already exists, not downloading\n",
      "decals_dr3/catalogs/tractor-3531p007.fits already exists, not downloading\n",
      "decals_dr3/catalogs/tractor-3533p007.fits already exists, not downloading\n",
      "decals_dr3/catalogs/tractor-3536p007.fits already exists, not downloading\n",
      "decals_dr3/catalogs/tractor-3538p007.fits already exists, not downloading\n",
      "decals_dr3/catalogs/tractor-3541p007.fits already exists, not downloading\n",
      "decals_dr3/catalogs/tractor-3543p007.fits already exists, not downloading\n",
      "decals_dr3/catalogs/tractor-3546p007.fits already exists, not downloading\n",
      "decals_dr3/catalogs/tractor-3548p007.fits already exists, not downloading\n",
      "decals_dr3/catalogs/tractor-3551p007.fits already exists, not downloading\n",
      "decals_dr3/catalogs/tractor-3533p010.fits already exists, not downloading\n",
      "decals_dr3/catalogs/tractor-3536p010.fits already exists, not downloading\n",
      "decals_dr3/catalogs/tractor-3538p010.fits already exists, not downloading\n",
      "decals_dr3/catalogs/tractor-3541p010.fits already exists, not downloading\n",
      "decals_dr3/catalogs/tractor-3543p010.fits already exists, not downloading\n",
      "decals_dr3/catalogs/tractor-3546p010.fits already exists, not downloading\n",
      "decals_dr3/catalogs/tractor-3548p010.fits already exists, not downloading\n",
      "decals_dr3/catalogs/tractor-3536p012.fits already exists, not downloading\n",
      "decals_dr3/catalogs/tractor-3538p012.fits already exists, not downloading\n",
      "decals_dr3/catalogs/tractor-3541p012.fits already exists, not downloading\n",
      "decals_dr3/catalogs/tractor-3543p012.fits already exists, not downloading\n",
      "decals_dr3/catalogs/tractor-3546p012.fits already exists, not downloading\n",
      "\n"
     ]
    }
   ],
   "source": [
    "base_url = 'http://portal.nersc.gov/project/cosmo/data/legacysurvey/dr3/tractor/{first3}/tractor-{brickname}.fits'\n",
    "\n",
    "for brickname in ProgressBar(bricknames, ipython_widget=True):\n",
    "    url = base_url.format(brickname=brickname, first3=brickname[:3])\n",
    "    target = os.path.join('decals_dr3/catalogs/', url.split('/')[-1])\n",
    "    if not os.path.isfile(target):\n",
    "        !wget $url -O $target\n",
    "    else:\n",
    "        print(target, 'already exists, not downloading')"
   ]
  },
  {
   "cell_type": "markdown",
   "metadata": {
    "collapsed": false
   },
   "source": [
    "# Load the catalogs "
   ]
  },
  {
   "cell_type": "code",
   "execution_count": 10,
   "metadata": {
    "collapsed": true
   },
   "outputs": [],
   "source": [
    "bricks = Table.read('decals_dr3/survey-bricks.fits.gz')\n",
    "bricksdr3 = Table.read('decals_dr3/survey-bricks-dr3.fits.gz')"
   ]
  },
  {
   "cell_type": "code",
   "execution_count": 11,
   "metadata": {
    "collapsed": false
   },
   "outputs": [
    {
     "name": "stderr",
     "output_type": "stream",
     "text": [
      "WARNING: UnitsWarning: '1/deg^2' did not parse as fits unit: Numeric factor not supported by FITS [astropy.units.core]\n",
      "WARNING:astropy:UnitsWarning: '1/deg^2' did not parse as fits unit: Numeric factor not supported by FITS\n",
      "WARNING: UnitsWarning: 'nanomaggy' did not parse as fits unit: At col 0, Unit 'nanomaggy' not supported by the FITS standard.  [astropy.units.core]\n",
      "WARNING:astropy:UnitsWarning: 'nanomaggy' did not parse as fits unit: At col 0, Unit 'nanomaggy' not supported by the FITS standard. \n",
      "WARNING: UnitsWarning: '1/nanomaggy^2' did not parse as fits unit: Numeric factor not supported by FITS [astropy.units.core]\n",
      "WARNING:astropy:UnitsWarning: '1/nanomaggy^2' did not parse as fits unit: Numeric factor not supported by FITS\n",
      "WARNING: UnitsWarning: '1/arcsec^2' did not parse as fits unit: Numeric factor not supported by FITS [astropy.units.core]\n",
      "WARNING:astropy:UnitsWarning: '1/arcsec^2' did not parse as fits unit: Numeric factor not supported by FITS\n"
     ]
    }
   ],
   "source": [
    "catalog_fns = ['decals_dr3/catalogs/tractor-{}.fits'.format(bnm) for bnm in bricknames]\n",
    "decals_catalogs = [Table.read(fn) for fn in catalog_fns]\n",
    "dcatall = table.vstack(decals_catalogs, metadata_conflicts='silent')"
   ]
  },
  {
   "cell_type": "code",
   "execution_count": 12,
   "metadata": {
    "collapsed": false
   },
   "outputs": [],
   "source": [
    "sdss_catalog = Table.read('catalogs/base_sql_nsa{}.fits.gz'.format(anak.nsaid))"
   ]
  },
  {
   "cell_type": "code",
   "execution_count": 13,
   "metadata": {
    "collapsed": false
   },
   "outputs": [],
   "source": [
    "#cut out the non-overlap region\n",
    "dsc = SkyCoord(dcatall['ra'], dcatall['dec'], unit=u.deg)\n",
    "dcutall = dcatall[dsc.separation(anak.coords) < 1*u.deg]"
   ]
  },
  {
   "cell_type": "markdown",
   "metadata": {},
   "source": [
    "## Populate additional  info in the DECaLS tables"
   ]
  },
  {
   "cell_type": "code",
   "execution_count": 14,
   "metadata": {
    "collapsed": true
   },
   "outputs": [],
   "source": [
    "ap_sizes = [0.5,0.75,1.0,1.5,2.0,3.5,5.0,7.0] * u.arcsec "
   ]
  },
  {
   "cell_type": "code",
   "execution_count": 15,
   "metadata": {
    "collapsed": false
   },
   "outputs": [
    {
     "name": "stderr",
     "output_type": "stream",
     "text": [
      "/Users/erik/miniconda3/envs/saga/lib/python2.7/site-packages/ipykernel/__main__.py:11: RuntimeWarning: divide by zero encountered in log10\n",
      "/Users/erik/miniconda3/envs/saga/lib/python2.7/site-packages/ipykernel/__main__.py:11: RuntimeWarning: invalid value encountered in log10\n",
      "/Users/erik/miniconda3/envs/saga/lib/python2.7/site-packages/ipykernel/__main__.py:12: RuntimeWarning: divide by zero encountered in log10\n",
      "/Users/erik/miniconda3/envs/saga/lib/python2.7/site-packages/ipykernel/__main__.py:12: RuntimeWarning: invalid value encountered in log10\n",
      "/Users/erik/miniconda3/envs/saga/lib/python2.7/site-packages/ipykernel/__main__.py:13: RuntimeWarning: divide by zero encountered in log10\n",
      "/Users/erik/miniconda3/envs/saga/lib/python2.7/site-packages/ipykernel/__main__.py:13: RuntimeWarning: invalid value encountered in log10\n",
      "/Users/erik/miniconda3/envs/saga/lib/python2.7/site-packages/ipykernel/__main__.py:8: RuntimeWarning: divide by zero encountered in log10\n",
      "/Users/erik/miniconda3/envs/saga/lib/python2.7/site-packages/ipykernel/__main__.py:8: RuntimeWarning: invalid value encountered in log10\n"
     ]
    }
   ],
   "source": [
    "for dcat in [dcutall]:\n",
    "    for magnm, idx in zip('grz', [1, 2, 4]):\n",
    "        mag, mag_err = fluxivar_to_mag_magerr(dcat['decam_flux'][:, 1], dcat['decam_flux_ivar'][:, idx])\n",
    "        dcat[magnm] = mag\n",
    "        dcat[magnm + '_err'] = mag_err\n",
    "    \n",
    "    dcat['sb_r_0.5'] = compute_sb(0.5*u.arcsec, dcat['decam_apflux'][:, 2, :])\n",
    "    dcat['sb_r_0.75'] = compute_sb(0.75*u.arcsec, dcat['decam_apflux'][:, 2, :])\n",
    "    dcat['sb_r_1'] = compute_sb(1.0*u.arcsec, dcat['decam_apflux'][:, 2, :])\n",
    "    dcat['sb_r_2'] = compute_sb(2.0*u.arcsec, dcat['decam_apflux'][:, 2, :])"
   ]
  },
  {
   "cell_type": "markdown",
   "metadata": {},
   "source": [
    "# Experiment with Masks "
   ]
  },
  {
   "cell_type": "code",
   "execution_count": 16,
   "metadata": {
    "collapsed": true
   },
   "outputs": [],
   "source": [
    "MASK_BITS = {0: 'detector bad pixel/no data',\n",
    "             1: 'saturated',\n",
    "             2: 'interpolated',\n",
    "             4: 'single exposure cosmic ray',\n",
    "             6: 'bleed trail',\n",
    "             7: 'multi-exposure transient',\n",
    "             8: 'edge',\n",
    "             9: 'edge2',\n",
    "             10: 'longthin'}\n",
    "def maskarr_to_boolarrs(arr):\n",
    "    boolarrs = {}\n",
    "    for bnum, name in MASK_BITS.items():\n",
    "        boolarrs[name] = (arr & 10**bnum)!=0\n",
    "    return boolarrs"
   ]
  },
  {
   "cell_type": "code",
   "execution_count": 17,
   "metadata": {
    "collapsed": false
   },
   "outputs": [],
   "source": [
    "anymaskr = maskarr_to_boolarrs(dcutall['decam_anymask'][:, 2])\n",
    "allmaskr = maskarr_to_boolarrs(dcutall['decam_allmask'][:, 2])"
   ]
  },
  {
   "cell_type": "code",
   "execution_count": 18,
   "metadata": {
    "collapsed": true
   },
   "outputs": [],
   "source": [
    "nper = 10"
   ]
  },
  {
   "cell_type": "markdown",
   "metadata": {},
   "source": [
    "## Any pixels?"
   ]
  },
  {
   "cell_type": "code",
   "execution_count": 19,
   "metadata": {
    "collapsed": false,
    "scrolled": false
   },
   "outputs": [
    {
     "name": "stdout",
     "output_type": "stream",
     "text": [
      "longthin\n"
     ]
    },
    {
     "data": {
      "text/html": [
       "\n",
       "    <table>\n",
       "\n",
       "    <tr>\n",
       "    <th>obj</th>\n",
       "    <th>DECALS</th>\n",
       "    <th>SDSS</th>\n",
       "    </tr>\n",
       "\n",
       "    <tr><td>334664_2110<br>RA=354.1556<br>Dec=0.4542<br>r=25.04<br>sb=25.44<br>anymsk=[   0    0 1024    0    0    0]<br>allmsk=[0 0 0 0 0 0]</td><td><a href=\"http://legacysurvey.org/viewer?ra=354.15557068&dec=0.45421960131\"><img src=\"http://legacysurvey.org/viewer/jpeg-cutout/?ra=354.15557068&dec=0.45421960131&layer=decals-dr3&pixscale=0.1&bands=grz\"></a></td><td><a href=\"http://skyserver.sdss.org/dr12/en/tools/chart/navi.aspx?ra=354.15557068&dec=0.45421960131\"><img src=\"http://legacysurvey.org/viewer/jpeg-cutout/?ra=354.15557068&dec=0.45421960131&layer=sdssco&pixscale=0.1&bands=gri\"></a></td></tr>\n",
       "<tr><td>334663_2274<br>RA=353.9664<br>Dec=0.4609<br>r=24.29<br>sb=25.21<br>anymsk=[   0    0 1537    0    0    0]<br>allmsk=[0 0 0 0 0 0]</td><td><a href=\"http://legacysurvey.org/viewer?ra=353.966423164&dec=0.460906529196\"><img src=\"http://legacysurvey.org/viewer/jpeg-cutout/?ra=353.966423164&dec=0.460906529196&layer=decals-dr3&pixscale=0.1&bands=grz\"></a></td><td><a href=\"http://skyserver.sdss.org/dr12/en/tools/chart/navi.aspx?ra=353.966423164&dec=0.460906529196\"><img src=\"http://legacysurvey.org/viewer/jpeg-cutout/?ra=353.966423164&dec=0.460906529196&layer=sdssco&pixscale=0.1&bands=gri\"></a></td></tr>\n",
       "<tr><td>334665_1589<br>RA=354.3837<br>Dec=0.4417<br>r=24.24<br>sb=24.99<br>anymsk=[   0    1 1024    0    1    0]<br>allmsk=[0 0 0 0 0 0]</td><td><a href=\"http://legacysurvey.org/viewer?ra=354.38365441&dec=0.441734924702\"><img src=\"http://legacysurvey.org/viewer/jpeg-cutout/?ra=354.38365441&dec=0.441734924702&layer=decals-dr3&pixscale=0.1&bands=grz\"></a></td><td><a href=\"http://skyserver.sdss.org/dr12/en/tools/chart/navi.aspx?ra=354.38365441&dec=0.441734924702\"><img src=\"http://legacysurvey.org/viewer/jpeg-cutout/?ra=354.38365441&dec=0.441734924702&layer=sdssco&pixscale=0.1&bands=gri\"></a></td></tr>\n",
       "<tr><td>334665_1564<br>RA=354.4223<br>Dec=0.4401<br>r=24.75<br>sb=25.38<br>anymsk=[   0    0 1025    0    1    0]<br>allmsk=[0 0 0 0 0 0]</td><td><a href=\"http://legacysurvey.org/viewer?ra=354.422270524&dec=0.440067372094\"><img src=\"http://legacysurvey.org/viewer/jpeg-cutout/?ra=354.422270524&dec=0.440067372094&layer=decals-dr3&pixscale=0.1&bands=grz\"></a></td><td><a href=\"http://skyserver.sdss.org/dr12/en/tools/chart/navi.aspx?ra=354.422270524&dec=0.440067372094\"><img src=\"http://legacysurvey.org/viewer/jpeg-cutout/?ra=354.422270524&dec=0.440067372094&layer=sdssco&pixscale=0.1&bands=gri\"></a></td></tr>\n",
       "<tr><td>334665_1593<br>RA=354.3725<br>Dec=0.4417<br>r=24.28<br>sb=25.05<br>anymsk=[   0    0 1024    0    1    0]<br>allmsk=[0 0 0 0 0 0]</td><td><a href=\"http://legacysurvey.org/viewer?ra=354.372475994&dec=0.441747021566\"><img src=\"http://legacysurvey.org/viewer/jpeg-cutout/?ra=354.372475994&dec=0.441747021566&layer=decals-dr3&pixscale=0.1&bands=grz\"></a></td><td><a href=\"http://skyserver.sdss.org/dr12/en/tools/chart/navi.aspx?ra=354.372475994&dec=0.441747021566\"><img src=\"http://legacysurvey.org/viewer/jpeg-cutout/?ra=354.372475994&dec=0.441747021566&layer=sdssco&pixscale=0.1&bands=gri\"></a></td></tr>\n",
       "<tr><td>334664_2167<br>RA=354.1081<br>Dec=0.4549<br>r=24.60<br>sb=25.38<br>anymsk=[   0    0 1024    0    0    0]<br>allmsk=[0 0 0 0 0 0]</td><td><a href=\"http://legacysurvey.org/viewer?ra=354.108077588&dec=0.454885696565\"><img src=\"http://legacysurvey.org/viewer/jpeg-cutout/?ra=354.108077588&dec=0.454885696565&layer=decals-dr3&pixscale=0.1&bands=grz\"></a></td><td><a href=\"http://skyserver.sdss.org/dr12/en/tools/chart/navi.aspx?ra=354.108077588&dec=0.454885696565\"><img src=\"http://legacysurvey.org/viewer/jpeg-cutout/?ra=354.108077588&dec=0.454885696565&layer=sdssco&pixscale=0.1&bands=gri\"></a></td></tr>\n",
       "<tr><td>337543_4576<br>RA=353.7505<br>Dec=1.0493<br>r=23.84<br>sb=24.67<br>anymsk=[   0    0 1024    0    0    0]<br>allmsk=[0 0 0 0 0 0]</td><td><a href=\"http://legacysurvey.org/viewer?ra=353.750469623&dec=1.04930052632\"><img src=\"http://legacysurvey.org/viewer/jpeg-cutout/?ra=353.750469623&dec=1.04930052632&layer=decals-dr3&pixscale=0.1&bands=grz\"></a></td><td><a href=\"http://skyserver.sdss.org/dr12/en/tools/chart/navi.aspx?ra=353.750469623&dec=1.04930052632\"><img src=\"http://legacysurvey.org/viewer/jpeg-cutout/?ra=353.750469623&dec=1.04930052632&layer=sdssco&pixscale=0.1&bands=gri\"></a></td></tr>\n",
       "<tr><td>334664_2309<br>RA=354.0929<br>Dec=0.4608<br>r=24.93<br>sb=25.50<br>anymsk=[   0    0 1537    0    0    0]<br>allmsk=[0 0 0 0 0 0]</td><td><a href=\"http://legacysurvey.org/viewer?ra=354.092879515&dec=0.460846289083\"><img src=\"http://legacysurvey.org/viewer/jpeg-cutout/?ra=354.092879515&dec=0.460846289083&layer=decals-dr3&pixscale=0.1&bands=grz\"></a></td><td><a href=\"http://skyserver.sdss.org/dr12/en/tools/chart/navi.aspx?ra=354.092879515&dec=0.460846289083\"><img src=\"http://legacysurvey.org/viewer/jpeg-cutout/?ra=354.092879515&dec=0.460846289083&layer=sdssco&pixscale=0.1&bands=gri\"></a></td></tr>\n",
       "<tr><td>334665_1733<br>RA=354.4130<br>Dec=0.4490<br>r=18.90<br>sb=19.75<br>anymsk=[   0    0 1024    0    0    0]<br>allmsk=[0 0 0 0 0 0]</td><td><a href=\"http://legacysurvey.org/viewer?ra=354.413006889&dec=0.448998621451\"><img src=\"http://legacysurvey.org/viewer/jpeg-cutout/?ra=354.413006889&dec=0.448998621451&layer=decals-dr3&pixscale=0.1&bands=grz\"></a></td><td><a href=\"http://skyserver.sdss.org/dr12/en/tools/chart/navi.aspx?ra=354.413006889&dec=0.448998621451\"><img src=\"http://legacysurvey.org/viewer/jpeg-cutout/?ra=354.413006889&dec=0.448998621451&layer=sdssco&pixscale=0.1&bands=gri\"></a></td></tr>\n",
       "<tr><td>336108_1486<br>RA=355.0468<br>Dec=0.6854<br>r=23.90<br>sb=25.00<br>anymsk=[   0    0 1024    0    0    0]<br>allmsk=[0 0 0 0 0 0]</td><td><a href=\"http://legacysurvey.org/viewer?ra=355.046826873&dec=0.685407402603\"><img src=\"http://legacysurvey.org/viewer/jpeg-cutout/?ra=355.046826873&dec=0.685407402603&layer=decals-dr3&pixscale=0.1&bands=grz\"></a></td><td><a href=\"http://skyserver.sdss.org/dr12/en/tools/chart/navi.aspx?ra=355.046826873&dec=0.685407402603\"><img src=\"http://legacysurvey.org/viewer/jpeg-cutout/?ra=355.046826873&dec=0.685407402603&layer=sdssco&pixscale=0.1&bands=gri\"></a></td></tr>\n",
       "    </table>\n",
       "    "
      ],
      "text/plain": [
       "<IPython.core.display.HTML object>"
      ]
     },
     "metadata": {},
     "output_type": "display_data"
    },
    {
     "name": "stdout",
     "output_type": "stream",
     "text": [
      "saturated\n"
     ]
    },
    {
     "data": {
      "text/html": [
       "\n",
       "    <table>\n",
       "\n",
       "    <tr>\n",
       "    <th>obj</th>\n",
       "    <th>DECALS</th>\n",
       "    <th>SDSS</th>\n",
       "    </tr>\n",
       "\n",
       "    <tr><td>334664_444<br>RA=354.1322<br>Dec=0.3898<br>r=18.48<br>sb=17.82<br>anymsk=[  0 128  70   0  71   0]<br>allmsk=[0 0 0 0 0 0]</td><td><a href=\"http://legacysurvey.org/viewer?ra=354.132243021&dec=0.389776913238\"><img src=\"http://legacysurvey.org/viewer/jpeg-cutout/?ra=354.132243021&dec=0.389776913238&layer=decals-dr3&pixscale=0.1&bands=grz\"></a></td><td><a href=\"http://skyserver.sdss.org/dr12/en/tools/chart/navi.aspx?ra=354.132243021&dec=0.389776913238\"><img src=\"http://legacysurvey.org/viewer/jpeg-cutout/?ra=354.132243021&dec=0.389776913238&layer=sdssco&pixscale=0.1&bands=gri\"></a></td></tr>\n",
       "<tr><td>328906_5866<br>RA=354.5134<br>Dec=-0.3964<br>r=15.12<br>sb=17.04<br>anymsk=[   0    0   78    0 1094    0]<br>allmsk=[0 0 0 0 0 0]</td><td><a href=\"http://legacysurvey.org/viewer?ra=354.513367271&dec=-0.396397667768\"><img src=\"http://legacysurvey.org/viewer/jpeg-cutout/?ra=354.513367271&dec=-0.396397667768&layer=decals-dr3&pixscale=0.1&bands=grz\"></a></td><td><a href=\"http://skyserver.sdss.org/dr12/en/tools/chart/navi.aspx?ra=354.513367271&dec=-0.396397667768\"><img src=\"http://legacysurvey.org/viewer/jpeg-cutout/?ra=354.513367271&dec=-0.396397667768&layer=sdssco&pixscale=0.1&bands=gri\"></a></td></tr>\n",
       "<tr><td>336107_3823<br>RA=354.7990<br>Dec=0.7564<br>r=15.32<br>sb=17.23<br>anymsk=[0 0 3 0 3 0]<br>allmsk=[0 0 0 0 0 0]</td><td><a href=\"http://legacysurvey.org/viewer?ra=354.798951462&dec=0.756386159203\"><img src=\"http://legacysurvey.org/viewer/jpeg-cutout/?ra=354.798951462&dec=0.756386159203&layer=decals-dr3&pixscale=0.1&bands=grz\"></a></td><td><a href=\"http://skyserver.sdss.org/dr12/en/tools/chart/navi.aspx?ra=354.798951462&dec=0.756386159203\"><img src=\"http://legacysurvey.org/viewer/jpeg-cutout/?ra=354.798951462&dec=0.756386159203&layer=sdssco&pixscale=0.1&bands=gri\"></a></td></tr>\n",
       "<tr><td>330342_3605<br>RA=353.5575<br>Dec=-0.2291<br>r=14.16<br>sb=18.32<br>anymsk=[0 2 2 0 2 0]<br>allmsk=[0 0 2 0 2 0]</td><td><a href=\"http://legacysurvey.org/viewer?ra=353.557456888&dec=-0.229100415815\"><img src=\"http://legacysurvey.org/viewer/jpeg-cutout/?ra=353.557456888&dec=-0.229100415815&layer=decals-dr3&pixscale=0.1&bands=grz\"></a></td><td><a href=\"http://skyserver.sdss.org/dr12/en/tools/chart/navi.aspx?ra=353.557456888&dec=-0.229100415815\"><img src=\"http://legacysurvey.org/viewer/jpeg-cutout/?ra=353.557456888&dec=-0.229100415815&layer=sdssco&pixscale=0.1&bands=gri\"></a></td></tr>\n",
       "<tr><td>337541_592<br>RA=353.3381<br>Dec=0.8952<br>r=15.43<br>sb=16.91<br>anymsk=[0 0 3 0 2 0]<br>allmsk=[0 0 0 0 2 0]</td><td><a href=\"http://legacysurvey.org/viewer?ra=353.338089774&dec=0.895240824117\"><img src=\"http://legacysurvey.org/viewer/jpeg-cutout/?ra=353.338089774&dec=0.895240824117&layer=decals-dr3&pixscale=0.1&bands=grz\"></a></td><td><a href=\"http://skyserver.sdss.org/dr12/en/tools/chart/navi.aspx?ra=353.338089774&dec=0.895240824117\"><img src=\"http://legacysurvey.org/viewer/jpeg-cutout/?ra=353.338089774&dec=0.895240824117&layer=sdssco&pixscale=0.1&bands=gri\"></a></td></tr>\n",
       "<tr><td>331784_5791<br>RA=354.1804<br>Dec=0.0970<br>r=14.66<br>sb=18.69<br>anymsk=[  0  70 583   0  70   0]<br>allmsk=[0 0 0 0 2 0]</td><td><a href=\"http://legacysurvey.org/viewer?ra=354.180396928&dec=0.096953828282\"><img src=\"http://legacysurvey.org/viewer/jpeg-cutout/?ra=354.180396928&dec=0.096953828282&layer=decals-dr3&pixscale=0.1&bands=grz\"></a></td><td><a href=\"http://skyserver.sdss.org/dr12/en/tools/chart/navi.aspx?ra=354.180396928&dec=0.096953828282\"><img src=\"http://legacysurvey.org/viewer/jpeg-cutout/?ra=354.180396928&dec=0.096953828282&layer=sdssco&pixscale=0.1&bands=gri\"></a></td></tr>\n",
       "<tr><td>334663_792<br>RA=353.9962<br>Dec=0.4019<br>r=20.15<br>sb=18.23<br>anymsk=[ 0  0 70  0 70  0]<br>allmsk=[ 0  0  0  0 64  0]</td><td><a href=\"http://legacysurvey.org/viewer?ra=353.996244103&dec=0.401855869467\"><img src=\"http://legacysurvey.org/viewer/jpeg-cutout/?ra=353.996244103&dec=0.401855869467&layer=decals-dr3&pixscale=0.1&bands=grz\"></a></td><td><a href=\"http://skyserver.sdss.org/dr12/en/tools/chart/navi.aspx?ra=353.996244103&dec=0.401855869467\"><img src=\"http://legacysurvey.org/viewer/jpeg-cutout/?ra=353.996244103&dec=0.401855869467&layer=sdssco&pixscale=0.1&bands=gri\"></a></td></tr>\n",
       "<tr><td>337546_1684<br>RA=354.6930<br>Dec=0.9431<br>r=15.30<br>sb=16.63<br>anymsk=[  0   0 201   0  70   0]<br>allmsk=[0 0 0 0 0 0]</td><td><a href=\"http://legacysurvey.org/viewer?ra=354.692959062&dec=0.943082468828\"><img src=\"http://legacysurvey.org/viewer/jpeg-cutout/?ra=354.692959062&dec=0.943082468828&layer=decals-dr3&pixscale=0.1&bands=grz\"></a></td><td><a href=\"http://skyserver.sdss.org/dr12/en/tools/chart/navi.aspx?ra=354.692959062&dec=0.943082468828\"><img src=\"http://legacysurvey.org/viewer/jpeg-cutout/?ra=354.692959062&dec=0.943082468828&layer=sdssco&pixscale=0.1&bands=gri\"></a></td></tr>\n",
       "<tr><td>331787_846<br>RA=354.8216<br>Dec=-0.0952<br>r=15.50<br>sb=16.72<br>anymsk=[  0   0 131   0  70   0]<br>allmsk=[0 0 0 0 0 0]</td><td><a href=\"http://legacysurvey.org/viewer?ra=354.821564763&dec=-0.095240942432\"><img src=\"http://legacysurvey.org/viewer/jpeg-cutout/?ra=354.821564763&dec=-0.095240942432&layer=decals-dr3&pixscale=0.1&bands=grz\"></a></td><td><a href=\"http://skyserver.sdss.org/dr12/en/tools/chart/navi.aspx?ra=354.821564763&dec=-0.095240942432\"><img src=\"http://legacysurvey.org/viewer/jpeg-cutout/?ra=354.821564763&dec=-0.095240942432&layer=sdssco&pixscale=0.1&bands=gri\"></a></td></tr>\n",
       "<tr><td>328904_2039<br>RA=354.0585<br>Dec=-0.5565<br>r=15.30<br>sb=16.93<br>anymsk=[0 0 2 0 2 0]<br>allmsk=[0 0 0 0 0 0]</td><td><a href=\"http://legacysurvey.org/viewer?ra=354.058472836&dec=-0.556538739023\"><img src=\"http://legacysurvey.org/viewer/jpeg-cutout/?ra=354.058472836&dec=-0.556538739023&layer=decals-dr3&pixscale=0.1&bands=grz\"></a></td><td><a href=\"http://skyserver.sdss.org/dr12/en/tools/chart/navi.aspx?ra=354.058472836&dec=-0.556538739023\"><img src=\"http://legacysurvey.org/viewer/jpeg-cutout/?ra=354.058472836&dec=-0.556538739023&layer=sdssco&pixscale=0.1&bands=gri\"></a></td></tr>\n",
       "    </table>\n",
       "    "
      ],
      "text/plain": [
       "<IPython.core.display.HTML object>"
      ]
     },
     "metadata": {},
     "output_type": "display_data"
    },
    {
     "name": "stdout",
     "output_type": "stream",
     "text": [
      "bleed trail\n"
     ]
    },
    {
     "data": {
      "text/html": [
       "\n",
       "    <table>\n",
       "\n",
       "    <tr>\n",
       "    <th>obj</th>\n",
       "    <th>DECALS</th>\n",
       "    <th>SDSS</th>\n",
       "    </tr>\n",
       "\n",
       "    <tr><td>331787_2736<br>RA=354.7744<br>Dec=-0.0180<br>r=24.33<br>sb=25.45<br>anymsk=[  0   0 513   0   0   0]<br>allmsk=[0 0 0 0 0 0]</td><td><a href=\"http://legacysurvey.org/viewer?ra=354.774372454&dec=-0.0180447610788\"><img src=\"http://legacysurvey.org/viewer/jpeg-cutout/?ra=354.774372454&dec=-0.0180447610788&layer=decals-dr3&pixscale=0.1&bands=grz\"></a></td><td><a href=\"http://skyserver.sdss.org/dr12/en/tools/chart/navi.aspx?ra=354.774372454&dec=-0.0180447610788\"><img src=\"http://legacysurvey.org/viewer/jpeg-cutout/?ra=354.774372454&dec=-0.0180447610788&layer=sdssco&pixscale=0.1&bands=gri\"></a></td></tr>\n",
       "<tr><td>334661_3748<br>RA=353.4563<br>Dec=0.5265<br>r=24.61<br>sb=25.15<br>anymsk=[  0   0 513   0   0   0]<br>allmsk=[0 0 0 0 0 0]</td><td><a href=\"http://legacysurvey.org/viewer?ra=353.456331823&dec=0.526450898543\"><img src=\"http://legacysurvey.org/viewer/jpeg-cutout/?ra=353.456331823&dec=0.526450898543&layer=decals-dr3&pixscale=0.1&bands=grz\"></a></td><td><a href=\"http://skyserver.sdss.org/dr12/en/tools/chart/navi.aspx?ra=353.456331823&dec=0.526450898543\"><img src=\"http://legacysurvey.org/viewer/jpeg-cutout/?ra=353.456331823&dec=0.526450898543&layer=sdssco&pixscale=0.1&bands=gri\"></a></td></tr>\n",
       "<tr><td>331781_3326<br>RA=353.3595<br>Dec=0.0082<br>r=23.94<br>sb=24.83<br>anymsk=[  0   0 513   0 513   0]<br>allmsk=[0 0 0 0 0 0]</td><td><a href=\"http://legacysurvey.org/viewer?ra=353.359508342&dec=0.0082442210733\"><img src=\"http://legacysurvey.org/viewer/jpeg-cutout/?ra=353.359508342&dec=0.0082442210733&layer=decals-dr3&pixscale=0.1&bands=grz\"></a></td><td><a href=\"http://skyserver.sdss.org/dr12/en/tools/chart/navi.aspx?ra=353.359508342&dec=0.0082442210733\"><img src=\"http://legacysurvey.org/viewer/jpeg-cutout/?ra=353.359508342&dec=0.0082442210733&layer=sdssco&pixscale=0.1&bands=gri\"></a></td></tr>\n",
       "<tr><td>337544_3923<br>RA=354.0509<br>Dec=1.0197<br>r=23.88<br>sb=24.77<br>anymsk=[  0   0 513   0   0   0]<br>allmsk=[0 0 0 0 0 0]</td><td><a href=\"http://legacysurvey.org/viewer?ra=354.050946453&dec=1.01972131357\"><img src=\"http://legacysurvey.org/viewer/jpeg-cutout/?ra=354.050946453&dec=1.01972131357&layer=decals-dr3&pixscale=0.1&bands=grz\"></a></td><td><a href=\"http://skyserver.sdss.org/dr12/en/tools/chart/navi.aspx?ra=354.050946453&dec=1.01972131357\"><img src=\"http://legacysurvey.org/viewer/jpeg-cutout/?ra=354.050946453&dec=1.01972131357&layer=sdssco&pixscale=0.1&bands=gri\"></a></td></tr>\n",
       "<tr><td>331788_3627<br>RA=355.0838<br>Dec=0.0058<br>r=24.20<br>sb=25.41<br>anymsk=[  0   0 513   0 513   0]<br>allmsk=[0 0 0 0 0 0]</td><td><a href=\"http://legacysurvey.org/viewer?ra=355.083831346&dec=0.00580588767953\"><img src=\"http://legacysurvey.org/viewer/jpeg-cutout/?ra=355.083831346&dec=0.00580588767953&layer=decals-dr3&pixscale=0.1&bands=grz\"></a></td><td><a href=\"http://skyserver.sdss.org/dr12/en/tools/chart/navi.aspx?ra=355.083831346&dec=0.00580588767953\"><img src=\"http://legacysurvey.org/viewer/jpeg-cutout/?ra=355.083831346&dec=0.00580588767953&layer=sdssco&pixscale=0.1&bands=gri\"></a></td></tr>\n",
       "<tr><td>337546_1981<br>RA=354.5866<br>Dec=0.9533<br>r=24.59<br>sb=25.63<br>anymsk=[  0   0 513   0   0   0]<br>allmsk=[0 0 0 0 0 0]</td><td><a href=\"http://legacysurvey.org/viewer?ra=354.586568513&dec=0.95329964586\"><img src=\"http://legacysurvey.org/viewer/jpeg-cutout/?ra=354.586568513&dec=0.95329964586&layer=decals-dr3&pixscale=0.1&bands=grz\"></a></td><td><a href=\"http://skyserver.sdss.org/dr12/en/tools/chart/navi.aspx?ra=354.586568513&dec=0.95329964586\"><img src=\"http://legacysurvey.org/viewer/jpeg-cutout/?ra=354.586568513&dec=0.95329964586&layer=sdssco&pixscale=0.1&bands=gri\"></a></td></tr>\n",
       "<tr><td>337543_3496<br>RA=353.9299<br>Dec=1.0038<br>r=22.30<br>sb=23.11<br>anymsk=[  0   0 513   0   0   0]<br>allmsk=[0 0 0 0 0 0]</td><td><a href=\"http://legacysurvey.org/viewer?ra=353.929947538&dec=1.0037569283\"><img src=\"http://legacysurvey.org/viewer/jpeg-cutout/?ra=353.929947538&dec=1.0037569283&layer=decals-dr3&pixscale=0.1&bands=grz\"></a></td><td><a href=\"http://skyserver.sdss.org/dr12/en/tools/chart/navi.aspx?ra=353.929947538&dec=1.0037569283\"><img src=\"http://legacysurvey.org/viewer/jpeg-cutout/?ra=353.929947538&dec=1.0037569283&layer=sdssco&pixscale=0.1&bands=gri\"></a></td></tr>\n",
       "<tr><td>337545_2139<br>RA=354.4344<br>Dec=0.9544<br>r=24.76<br>sb=25.68<br>anymsk=[  0   0 641   0   0   0]<br>allmsk=[0 0 0 0 0 0]</td><td><a href=\"http://legacysurvey.org/viewer?ra=354.434385464&dec=0.95443357663\"><img src=\"http://legacysurvey.org/viewer/jpeg-cutout/?ra=354.434385464&dec=0.95443357663&layer=decals-dr3&pixscale=0.1&bands=grz\"></a></td><td><a href=\"http://skyserver.sdss.org/dr12/en/tools/chart/navi.aspx?ra=354.434385464&dec=0.95443357663\"><img src=\"http://legacysurvey.org/viewer/jpeg-cutout/?ra=354.434385464&dec=0.95443357663&layer=sdssco&pixscale=0.1&bands=gri\"></a></td></tr>\n",
       "<tr><td>331785_3812<br>RA=354.2975<br>Dec=0.0316<br>r=25.45<br>sb=25.69<br>anymsk=[  0   0 513   0   0   0]<br>allmsk=[0 0 0 0 0 0]</td><td><a href=\"http://legacysurvey.org/viewer?ra=354.297457464&dec=0.0315730397948\"><img src=\"http://legacysurvey.org/viewer/jpeg-cutout/?ra=354.297457464&dec=0.0315730397948&layer=decals-dr3&pixscale=0.1&bands=grz\"></a></td><td><a href=\"http://skyserver.sdss.org/dr12/en/tools/chart/navi.aspx?ra=354.297457464&dec=0.0315730397948\"><img src=\"http://legacysurvey.org/viewer/jpeg-cutout/?ra=354.297457464&dec=0.0315730397948&layer=sdssco&pixscale=0.1&bands=gri\"></a></td></tr>\n",
       "<tr><td>331785_3402<br>RA=354.3805<br>Dec=0.0154<br>r=25.12<br>sb=25.55<br>anymsk=[  0   0 513   0   0   0]<br>allmsk=[0 0 0 0 0 0]</td><td><a href=\"http://legacysurvey.org/viewer?ra=354.380545046&dec=0.01540633102\"><img src=\"http://legacysurvey.org/viewer/jpeg-cutout/?ra=354.380545046&dec=0.01540633102&layer=decals-dr3&pixscale=0.1&bands=grz\"></a></td><td><a href=\"http://skyserver.sdss.org/dr12/en/tools/chart/navi.aspx?ra=354.380545046&dec=0.01540633102\"><img src=\"http://legacysurvey.org/viewer/jpeg-cutout/?ra=354.380545046&dec=0.01540633102&layer=sdssco&pixscale=0.1&bands=gri\"></a></td></tr>\n",
       "    </table>\n",
       "    "
      ],
      "text/plain": [
       "<IPython.core.display.HTML object>"
      ]
     },
     "metadata": {},
     "output_type": "display_data"
    },
    {
     "name": "stdout",
     "output_type": "stream",
     "text": [
      "interpolated\n"
     ]
    },
    {
     "data": {
      "text/html": [
       "\n",
       "    <table>\n",
       "\n",
       "    <tr>\n",
       "    <th>obj</th>\n",
       "    <th>DECALS</th>\n",
       "    <th>SDSS</th>\n",
       "    </tr>\n",
       "\n",
       "    <tr><td>331783_3913<br>RA=353.8800<br>Dec=0.0220<br>r=23.74<br>sb=25.81<br>anymsk=[ 0  0 64  0  0  0]<br>allmsk=[0 0 0 0 0 0]</td><td><a href=\"http://legacysurvey.org/viewer?ra=353.880018062&dec=0.0220426081915\"><img src=\"http://legacysurvey.org/viewer/jpeg-cutout/?ra=353.880018062&dec=0.0220426081915&layer=decals-dr3&pixscale=0.1&bands=grz\"></a></td><td><a href=\"http://skyserver.sdss.org/dr12/en/tools/chart/navi.aspx?ra=353.880018062&dec=0.0220426081915\"><img src=\"http://legacysurvey.org/viewer/jpeg-cutout/?ra=353.880018062&dec=0.0220426081915&layer=sdssco&pixscale=0.1&bands=gri\"></a></td></tr>\n",
       "<tr><td>336100_2639<br>RA=353.2346<br>Dec=0.7274<br>r=17.36<br>sb=18.45<br>anymsk=[ 0  2 70  0 70  0]<br>allmsk=[0 2 2 0 2 0]</td><td><a href=\"http://legacysurvey.org/viewer?ra=353.234589293&dec=0.727426255254\"><img src=\"http://legacysurvey.org/viewer/jpeg-cutout/?ra=353.234589293&dec=0.727426255254&layer=decals-dr3&pixscale=0.1&bands=grz\"></a></td><td><a href=\"http://skyserver.sdss.org/dr12/en/tools/chart/navi.aspx?ra=353.234589293&dec=0.727426255254\"><img src=\"http://legacysurvey.org/viewer/jpeg-cutout/?ra=353.234589293&dec=0.727426255254&layer=sdssco&pixscale=0.1&bands=gri\"></a></td></tr>\n",
       "<tr><td>337542_5979<br>RA=353.7465<br>Dec=1.1010<br>r=13.87<br>sb=18.50<br>anymsk=[ 0 10 70  0 70  0]<br>allmsk=[0 0 2 0 2 0]</td><td><a href=\"http://legacysurvey.org/viewer?ra=353.746538222&dec=1.10095326607\"><img src=\"http://legacysurvey.org/viewer/jpeg-cutout/?ra=353.746538222&dec=1.10095326607&layer=decals-dr3&pixscale=0.1&bands=grz\"></a></td><td><a href=\"http://skyserver.sdss.org/dr12/en/tools/chart/navi.aspx?ra=353.746538222&dec=1.10095326607\"><img src=\"http://legacysurvey.org/viewer/jpeg-cutout/?ra=353.746538222&dec=1.10095326607&layer=sdssco&pixscale=0.1&bands=gri\"></a></td></tr>\n",
       "<tr><td>330342_2886<br>RA=353.6898<br>Dec=-0.2622<br>r=18.67<br>sb=17.70<br>anymsk=[ 0 64 66  0  2  0]<br>allmsk=[0 0 0 0 0 0]</td><td><a href=\"http://legacysurvey.org/viewer?ra=353.689815164&dec=-0.262151201276\"><img src=\"http://legacysurvey.org/viewer/jpeg-cutout/?ra=353.689815164&dec=-0.262151201276&layer=decals-dr3&pixscale=0.1&bands=grz\"></a></td><td><a href=\"http://skyserver.sdss.org/dr12/en/tools/chart/navi.aspx?ra=353.689815164&dec=-0.262151201276\"><img src=\"http://legacysurvey.org/viewer/jpeg-cutout/?ra=353.689815164&dec=-0.262151201276&layer=sdssco&pixscale=0.1&bands=gri\"></a></td></tr>\n",
       "<tr><td>336102_391<br>RA=353.5723<br>Dec=0.6438<br>r=13.03<br>sb=18.20<br>anymsk=[ 0 70 70  0 70  0]<br>allmsk=[0 2 2 0 2 0]</td><td><a href=\"http://legacysurvey.org/viewer?ra=353.572305225&dec=0.643797008964\"><img src=\"http://legacysurvey.org/viewer/jpeg-cutout/?ra=353.572305225&dec=0.643797008964&layer=decals-dr3&pixscale=0.1&bands=grz\"></a></td><td><a href=\"http://skyserver.sdss.org/dr12/en/tools/chart/navi.aspx?ra=353.572305225&dec=0.643797008964\"><img src=\"http://legacysurvey.org/viewer/jpeg-cutout/?ra=353.572305225&dec=0.643797008964&layer=sdssco&pixscale=0.1&bands=gri\"></a></td></tr>\n",
       "<tr><td>328903_720<br>RA=353.8344<br>Dec=-0.5956<br>r=24.88<br>sb=26.03<br>anymsk=[0 0 5 0 1 0]<br>allmsk=[0 0 0 0 0 0]</td><td><a href=\"http://legacysurvey.org/viewer?ra=353.83444773&dec=-0.595642050271\"><img src=\"http://legacysurvey.org/viewer/jpeg-cutout/?ra=353.83444773&dec=-0.595642050271&layer=decals-dr3&pixscale=0.1&bands=grz\"></a></td><td><a href=\"http://skyserver.sdss.org/dr12/en/tools/chart/navi.aspx?ra=353.83444773&dec=-0.595642050271\"><img src=\"http://legacysurvey.org/viewer/jpeg-cutout/?ra=353.83444773&dec=-0.595642050271&layer=sdssco&pixscale=0.1&bands=gri\"></a></td></tr>\n",
       "<tr><td>331781_1741<br>RA=353.4207<br>Dec=-0.0559<br>r=24.69<br>sb=25.37<br>anymsk=[0 0 5 0 1 0]<br>allmsk=[0 0 0 0 0 0]</td><td><a href=\"http://legacysurvey.org/viewer?ra=353.420687095&dec=-0.0558934359656\"><img src=\"http://legacysurvey.org/viewer/jpeg-cutout/?ra=353.420687095&dec=-0.0558934359656&layer=decals-dr3&pixscale=0.1&bands=grz\"></a></td><td><a href=\"http://skyserver.sdss.org/dr12/en/tools/chart/navi.aspx?ra=353.420687095&dec=-0.0558934359656\"><img src=\"http://legacysurvey.org/viewer/jpeg-cutout/?ra=353.420687095&dec=-0.0558934359656&layer=sdssco&pixscale=0.1&bands=gri\"></a></td></tr>\n",
       "<tr><td>338983_880<br>RA=353.8706<br>Dec=1.1660<br>r=26.44<br>sb=26.62<br>anymsk=[0 0 5 0 5 0]<br>allmsk=[0 0 0 0 0 0]</td><td><a href=\"http://legacysurvey.org/viewer?ra=353.87056717&dec=1.16603265108\"><img src=\"http://legacysurvey.org/viewer/jpeg-cutout/?ra=353.87056717&dec=1.16603265108&layer=decals-dr3&pixscale=0.1&bands=grz\"></a></td><td><a href=\"http://skyserver.sdss.org/dr12/en/tools/chart/navi.aspx?ra=353.87056717&dec=1.16603265108\"><img src=\"http://legacysurvey.org/viewer/jpeg-cutout/?ra=353.87056717&dec=1.16603265108&layer=sdssco&pixscale=0.1&bands=gri\"></a></td></tr>\n",
       "<tr><td>333221_1451<br>RA=353.3875<br>Dec=0.1760<br>r=24.59<br>sb=25.23<br>anymsk=[ 0  1 64  0 64  0]<br>allmsk=[0 0 0 0 0 0]</td><td><a href=\"http://legacysurvey.org/viewer?ra=353.387513121&dec=0.176049235322\"><img src=\"http://legacysurvey.org/viewer/jpeg-cutout/?ra=353.387513121&dec=0.176049235322&layer=decals-dr3&pixscale=0.1&bands=grz\"></a></td><td><a href=\"http://skyserver.sdss.org/dr12/en/tools/chart/navi.aspx?ra=353.387513121&dec=0.176049235322\"><img src=\"http://legacysurvey.org/viewer/jpeg-cutout/?ra=353.387513121&dec=0.176049235322&layer=sdssco&pixscale=0.1&bands=gri\"></a></td></tr>\n",
       "<tr><td>336102_2487<br>RA=353.6287<br>Dec=0.7304<br>r=13.48<br>sb=18.46<br>anymsk=[ 0 70 70  0 70  0]<br>allmsk=[0 0 2 0 2 0]</td><td><a href=\"http://legacysurvey.org/viewer?ra=353.628749663&dec=0.730425372937\"><img src=\"http://legacysurvey.org/viewer/jpeg-cutout/?ra=353.628749663&dec=0.730425372937&layer=decals-dr3&pixscale=0.1&bands=grz\"></a></td><td><a href=\"http://skyserver.sdss.org/dr12/en/tools/chart/navi.aspx?ra=353.628749663&dec=0.730425372937\"><img src=\"http://legacysurvey.org/viewer/jpeg-cutout/?ra=353.628749663&dec=0.730425372937&layer=sdssco&pixscale=0.1&bands=gri\"></a></td></tr>\n",
       "    </table>\n",
       "    "
      ],
      "text/plain": [
       "<IPython.core.display.HTML object>"
      ]
     },
     "metadata": {},
     "output_type": "display_data"
    },
    {
     "name": "stdout",
     "output_type": "stream",
     "text": [
      "edge2\n"
     ]
    },
    {
     "data": {
      "text/html": [
       "\n",
       "    <table>\n",
       "\n",
       "    <tr>\n",
       "    <th>obj</th>\n",
       "    <th>DECALS</th>\n",
       "    <th>SDSS</th>\n",
       "    </tr>\n",
       "\n",
       "    <tr><td>334661_3138<br>RA=353.3096<br>Dec=0.5014<br>r=22.68<br>sb=23.42<br>anymsk=[  0   0 513   0 641   0]<br>allmsk=[0 0 0 0 0 0]</td><td><a href=\"http://legacysurvey.org/viewer?ra=353.309573998&dec=0.501387087531\"><img src=\"http://legacysurvey.org/viewer/jpeg-cutout/?ra=353.309573998&dec=0.501387087531&layer=decals-dr3&pixscale=0.1&bands=grz\"></a></td><td><a href=\"http://skyserver.sdss.org/dr12/en/tools/chart/navi.aspx?ra=353.309573998&dec=0.501387087531\"><img src=\"http://legacysurvey.org/viewer/jpeg-cutout/?ra=353.309573998&dec=0.501387087531&layer=sdssco&pixscale=0.1&bands=gri\"></a></td></tr>\n",
       "<tr><td>338985_386<br>RA=354.4105<br>Dec=1.1425<br>r=24.11<br>sb=24.92<br>anymsk=[  0   1 641   0 641   0]<br>allmsk=[0 0 0 0 0 0]</td><td><a href=\"http://legacysurvey.org/viewer?ra=354.410518562&dec=1.14249776068\"><img src=\"http://legacysurvey.org/viewer/jpeg-cutout/?ra=354.410518562&dec=1.14249776068&layer=decals-dr3&pixscale=0.1&bands=grz\"></a></td><td><a href=\"http://skyserver.sdss.org/dr12/en/tools/chart/navi.aspx?ra=354.410518562&dec=1.14249776068\"><img src=\"http://legacysurvey.org/viewer/jpeg-cutout/?ra=354.410518562&dec=1.14249776068&layer=sdssco&pixscale=0.1&bands=gri\"></a></td></tr>\n",
       "<tr><td>337541_2708<br>RA=353.4618<br>Dec=0.9783<br>r=19.71<br>sb=21.25<br>anymsk=[  0   1 513   0 513   0]<br>allmsk=[0 0 0 0 0 0]</td><td><a href=\"http://legacysurvey.org/viewer?ra=353.461783847&dec=0.978303293774\"><img src=\"http://legacysurvey.org/viewer/jpeg-cutout/?ra=353.461783847&dec=0.978303293774&layer=decals-dr3&pixscale=0.1&bands=grz\"></a></td><td><a href=\"http://skyserver.sdss.org/dr12/en/tools/chart/navi.aspx?ra=353.461783847&dec=0.978303293774\"><img src=\"http://legacysurvey.org/viewer/jpeg-cutout/?ra=353.461783847&dec=0.978303293774&layer=sdssco&pixscale=0.1&bands=gri\"></a></td></tr>\n",
       "<tr><td>331784_42<br>RA=354.1795<br>Dec=-0.1297<br>r=23.13<br>sb=24.71<br>anymsk=[  0   0 513   0   0   0]<br>allmsk=[0 0 0 0 0 0]</td><td><a href=\"http://legacysurvey.org/viewer?ra=354.179506112&dec=-0.129733893832\"><img src=\"http://legacysurvey.org/viewer/jpeg-cutout/?ra=354.179506112&dec=-0.129733893832&layer=decals-dr3&pixscale=0.1&bands=grz\"></a></td><td><a href=\"http://skyserver.sdss.org/dr12/en/tools/chart/navi.aspx?ra=354.179506112&dec=-0.129733893832\"><img src=\"http://legacysurvey.org/viewer/jpeg-cutout/?ra=354.179506112&dec=-0.129733893832&layer=sdssco&pixscale=0.1&bands=gri\"></a></td></tr>\n",
       "<tr><td>331787_967<br>RA=354.7761<br>Dec=-0.0928<br>r=24.38<br>sb=25.21<br>anymsk=[  0   0 513   0   0   0]<br>allmsk=[0 0 0 0 0 0]</td><td><a href=\"http://legacysurvey.org/viewer?ra=354.776126263&dec=-0.0927939074623\"><img src=\"http://legacysurvey.org/viewer/jpeg-cutout/?ra=354.776126263&dec=-0.0927939074623&layer=decals-dr3&pixscale=0.1&bands=grz\"></a></td><td><a href=\"http://skyserver.sdss.org/dr12/en/tools/chart/navi.aspx?ra=354.776126263&dec=-0.0927939074623\"><img src=\"http://legacysurvey.org/viewer/jpeg-cutout/?ra=354.776126263&dec=-0.0927939074623&layer=sdssco&pixscale=0.1&bands=gri\"></a></td></tr>\n",
       "<tr><td>334661_996<br>RA=353.3906<br>Dec=0.4146<br>r=24.20<br>sb=25.61<br>anymsk=[  0   0 513   0   1   0]<br>allmsk=[0 0 0 0 0 0]</td><td><a href=\"http://legacysurvey.org/viewer?ra=353.390630759&dec=0.414632495457\"><img src=\"http://legacysurvey.org/viewer/jpeg-cutout/?ra=353.390630759&dec=0.414632495457&layer=decals-dr3&pixscale=0.1&bands=grz\"></a></td><td><a href=\"http://skyserver.sdss.org/dr12/en/tools/chart/navi.aspx?ra=353.390630759&dec=0.414632495457\"><img src=\"http://legacysurvey.org/viewer/jpeg-cutout/?ra=353.390630759&dec=0.414632495457&layer=sdssco&pixscale=0.1&bands=gri\"></a></td></tr>\n",
       "<tr><td>328904_3940<br>RA=354.0340<br>Dec=-0.4862<br>r=21.93<br>sb=22.63<br>anymsk=[  0   0 641   0 657   0]<br>allmsk=[0 0 0 0 0 0]</td><td><a href=\"http://legacysurvey.org/viewer?ra=354.034043531&dec=-0.486179819554\"><img src=\"http://legacysurvey.org/viewer/jpeg-cutout/?ra=354.034043531&dec=-0.486179819554&layer=decals-dr3&pixscale=0.1&bands=grz\"></a></td><td><a href=\"http://skyserver.sdss.org/dr12/en/tools/chart/navi.aspx?ra=354.034043531&dec=-0.486179819554\"><img src=\"http://legacysurvey.org/viewer/jpeg-cutout/?ra=354.034043531&dec=-0.486179819554&layer=sdssco&pixscale=0.1&bands=gri\"></a></td></tr>\n",
       "<tr><td>331783_2393<br>RA=353.9353<br>Dec=-0.0333<br>r=21.15<br>sb=22.42<br>anymsk=[  0   0 517   0   0   0]<br>allmsk=[0 0 0 0 0 0]</td><td><a href=\"http://legacysurvey.org/viewer?ra=353.935349197&dec=-0.0333313403487\"><img src=\"http://legacysurvey.org/viewer/jpeg-cutout/?ra=353.935349197&dec=-0.0333313403487&layer=decals-dr3&pixscale=0.1&bands=grz\"></a></td><td><a href=\"http://skyserver.sdss.org/dr12/en/tools/chart/navi.aspx?ra=353.935349197&dec=-0.0333313403487\"><img src=\"http://legacysurvey.org/viewer/jpeg-cutout/?ra=353.935349197&dec=-0.0333313403487&layer=sdssco&pixscale=0.1&bands=gri\"></a></td></tr>\n",
       "<tr><td>337546_2377<br>RA=354.7159<br>Dec=0.9695<br>r=23.95<br>sb=25.04<br>anymsk=[  0   1 513   0   0   0]<br>allmsk=[0 0 0 0 0 0]</td><td><a href=\"http://legacysurvey.org/viewer?ra=354.715867359&dec=0.969514681131\"><img src=\"http://legacysurvey.org/viewer/jpeg-cutout/?ra=354.715867359&dec=0.969514681131&layer=decals-dr3&pixscale=0.1&bands=grz\"></a></td><td><a href=\"http://skyserver.sdss.org/dr12/en/tools/chart/navi.aspx?ra=354.715867359&dec=0.969514681131\"><img src=\"http://legacysurvey.org/viewer/jpeg-cutout/?ra=354.715867359&dec=0.969514681131&layer=sdssco&pixscale=0.1&bands=gri\"></a></td></tr>\n",
       "<tr><td>337545_3108<br>RA=354.4540<br>Dec=0.9939<br>r=23.55<br>sb=24.69<br>anymsk=[  0   0 513   0 513   0]<br>allmsk=[0 0 0 0 0 0]</td><td><a href=\"http://legacysurvey.org/viewer?ra=354.454022336&dec=0.993873292622\"><img src=\"http://legacysurvey.org/viewer/jpeg-cutout/?ra=354.454022336&dec=0.993873292622&layer=decals-dr3&pixscale=0.1&bands=grz\"></a></td><td><a href=\"http://skyserver.sdss.org/dr12/en/tools/chart/navi.aspx?ra=354.454022336&dec=0.993873292622\"><img src=\"http://legacysurvey.org/viewer/jpeg-cutout/?ra=354.454022336&dec=0.993873292622&layer=sdssco&pixscale=0.1&bands=gri\"></a></td></tr>\n",
       "    </table>\n",
       "    "
      ],
      "text/plain": [
       "<IPython.core.display.HTML object>"
      ]
     },
     "metadata": {},
     "output_type": "display_data"
    },
    {
     "name": "stdout",
     "output_type": "stream",
     "text": [
      "edge\n"
     ]
    },
    {
     "data": {
      "text/html": [
       "\n",
       "    <table>\n",
       "\n",
       "    <tr>\n",
       "    <th>obj</th>\n",
       "    <th>DECALS</th>\n",
       "    <th>SDSS</th>\n",
       "    </tr>\n",
       "\n",
       "    <tr><td>334667_1859<br>RA=354.9880<br>Dec=0.4528<br>r=23.42<br>sb=24.77<br>anymsk=[  0   0 256   0   0   0]<br>allmsk=[0 0 0 0 0 0]</td><td><a href=\"http://legacysurvey.org/viewer?ra=354.987950265&dec=0.452843573787\"><img src=\"http://legacysurvey.org/viewer/jpeg-cutout/?ra=354.987950265&dec=0.452843573787&layer=decals-dr3&pixscale=0.1&bands=grz\"></a></td><td><a href=\"http://skyserver.sdss.org/dr12/en/tools/chart/navi.aspx?ra=354.987950265&dec=0.452843573787\"><img src=\"http://legacysurvey.org/viewer/jpeg-cutout/?ra=354.987950265&dec=0.452843573787&layer=sdssco&pixscale=0.1&bands=gri\"></a></td></tr>\n",
       "<tr><td>334667_1906<br>RA=354.9937<br>Dec=0.4530<br>r=24.44<br>sb=25.53<br>anymsk=[  0   0 256   0   0   0]<br>allmsk=[0 0 0 0 0 0]</td><td><a href=\"http://legacysurvey.org/viewer?ra=354.993700788&dec=0.4530478691\"><img src=\"http://legacysurvey.org/viewer/jpeg-cutout/?ra=354.993700788&dec=0.4530478691&layer=decals-dr3&pixscale=0.1&bands=grz\"></a></td><td><a href=\"http://skyserver.sdss.org/dr12/en/tools/chart/navi.aspx?ra=354.993700788&dec=0.4530478691\"><img src=\"http://legacysurvey.org/viewer/jpeg-cutout/?ra=354.993700788&dec=0.4530478691&layer=sdssco&pixscale=0.1&bands=gri\"></a></td></tr>\n",
       "<tr><td>334668_1512<br>RA=355.0193<br>Dec=0.4526<br>r=22.60<br>sb=24.08<br>anymsk=[  0   0 256   0   0   0]<br>allmsk=[0 0 0 0 0 0]</td><td><a href=\"http://legacysurvey.org/viewer?ra=355.019287072&dec=0.452633206165\"><img src=\"http://legacysurvey.org/viewer/jpeg-cutout/?ra=355.019287072&dec=0.452633206165&layer=decals-dr3&pixscale=0.1&bands=grz\"></a></td><td><a href=\"http://skyserver.sdss.org/dr12/en/tools/chart/navi.aspx?ra=355.019287072&dec=0.452633206165\"><img src=\"http://legacysurvey.org/viewer/jpeg-cutout/?ra=355.019287072&dec=0.452633206165&layer=sdssco&pixscale=0.1&bands=gri\"></a></td></tr>\n",
       "<tr><td>334668_1500<br>RA=355.0387<br>Dec=0.4523<br>r=24.56<br>sb=25.49<br>anymsk=[  0   0 256   0   0   0]<br>allmsk=[0 0 0 0 0 0]</td><td><a href=\"http://legacysurvey.org/viewer?ra=355.038726077&dec=0.452289903804\"><img src=\"http://legacysurvey.org/viewer/jpeg-cutout/?ra=355.038726077&dec=0.452289903804&layer=decals-dr3&pixscale=0.1&bands=grz\"></a></td><td><a href=\"http://skyserver.sdss.org/dr12/en/tools/chart/navi.aspx?ra=355.038726077&dec=0.452289903804\"><img src=\"http://legacysurvey.org/viewer/jpeg-cutout/?ra=355.038726077&dec=0.452289903804&layer=sdssco&pixscale=0.1&bands=gri\"></a></td></tr>\n",
       "<tr><td>338983_1748<br>RA=353.7859<br>Dec=1.2031<br>r=23.57<br>sb=24.58<br>anymsk=[  0   0 261   0   0   0]<br>allmsk=[0 0 0 0 0 0]</td><td><a href=\"http://legacysurvey.org/viewer?ra=353.785919255&dec=1.20312172782\"><img src=\"http://legacysurvey.org/viewer/jpeg-cutout/?ra=353.785919255&dec=1.20312172782&layer=decals-dr3&pixscale=0.1&bands=grz\"></a></td><td><a href=\"http://skyserver.sdss.org/dr12/en/tools/chart/navi.aspx?ra=353.785919255&dec=1.20312172782\"><img src=\"http://legacysurvey.org/viewer/jpeg-cutout/?ra=353.785919255&dec=1.20312172782&layer=sdssco&pixscale=0.1&bands=gri\"></a></td></tr>\n",
       "<tr><td>334668_1511<br>RA=355.0734<br>Dec=0.4525<br>r=24.05<br>sb=25.24<br>anymsk=[  0   0 256   0   0   0]<br>allmsk=[0 0 0 0 0 0]</td><td><a href=\"http://legacysurvey.org/viewer?ra=355.073439369&dec=0.452543266782\"><img src=\"http://legacysurvey.org/viewer/jpeg-cutout/?ra=355.073439369&dec=0.452543266782&layer=decals-dr3&pixscale=0.1&bands=grz\"></a></td><td><a href=\"http://skyserver.sdss.org/dr12/en/tools/chart/navi.aspx?ra=355.073439369&dec=0.452543266782\"><img src=\"http://legacysurvey.org/viewer/jpeg-cutout/?ra=355.073439369&dec=0.452543266782&layer=sdssco&pixscale=0.1&bands=gri\"></a></td></tr>\n",
       "<tr><td>334668_1523<br>RA=355.0990<br>Dec=0.4535<br>r=24.87<br>sb=26.26<br>anymsk=[  0   0 256   0   0   0]<br>allmsk=[0 0 0 0 0 0]</td><td><a href=\"http://legacysurvey.org/viewer?ra=355.098963407&dec=0.453461587345\"><img src=\"http://legacysurvey.org/viewer/jpeg-cutout/?ra=355.098963407&dec=0.453461587345&layer=decals-dr3&pixscale=0.1&bands=grz\"></a></td><td><a href=\"http://skyserver.sdss.org/dr12/en/tools/chart/navi.aspx?ra=355.098963407&dec=0.453461587345\"><img src=\"http://legacysurvey.org/viewer/jpeg-cutout/?ra=355.098963407&dec=0.453461587345&layer=sdssco&pixscale=0.1&bands=gri\"></a></td></tr>\n",
       "<tr><td>334667_1860<br>RA=354.9865<br>Dec=0.4533<br>r=24.62<br>sb=25.56<br>anymsk=[  0   0 256   0   0   0]<br>allmsk=[0 0 0 0 0 0]</td><td><a href=\"http://legacysurvey.org/viewer?ra=354.986537346&dec=0.453313846898\"><img src=\"http://legacysurvey.org/viewer/jpeg-cutout/?ra=354.986537346&dec=0.453313846898&layer=decals-dr3&pixscale=0.1&bands=grz\"></a></td><td><a href=\"http://skyserver.sdss.org/dr12/en/tools/chart/navi.aspx?ra=354.986537346&dec=0.453313846898\"><img src=\"http://legacysurvey.org/viewer/jpeg-cutout/?ra=354.986537346&dec=0.453313846898&layer=sdssco&pixscale=0.1&bands=gri\"></a></td></tr>\n",
       "<tr><td>334668_1520<br>RA=355.0400<br>Dec=0.4531<br>r=24.08<br>sb=25.80<br>anymsk=[  0   0 256   0  16   0]<br>allmsk=[0 0 0 0 0 0]</td><td><a href=\"http://legacysurvey.org/viewer?ra=355.039953891&dec=0.453134308417\"><img src=\"http://legacysurvey.org/viewer/jpeg-cutout/?ra=355.039953891&dec=0.453134308417&layer=decals-dr3&pixscale=0.1&bands=grz\"></a></td><td><a href=\"http://skyserver.sdss.org/dr12/en/tools/chart/navi.aspx?ra=355.039953891&dec=0.453134308417\"><img src=\"http://legacysurvey.org/viewer/jpeg-cutout/?ra=355.039953891&dec=0.453134308417&layer=sdssco&pixscale=0.1&bands=gri\"></a></td></tr>\n",
       "<tr><td>334668_1515<br>RA=355.0056<br>Dec=0.4526<br>r=24.39<br>sb=26.17<br>anymsk=[  0   0 256   0   0   0]<br>allmsk=[0 0 0 0 0 0]</td><td><a href=\"http://legacysurvey.org/viewer?ra=355.005578254&dec=0.452611316653\"><img src=\"http://legacysurvey.org/viewer/jpeg-cutout/?ra=355.005578254&dec=0.452611316653&layer=decals-dr3&pixscale=0.1&bands=grz\"></a></td><td><a href=\"http://skyserver.sdss.org/dr12/en/tools/chart/navi.aspx?ra=355.005578254&dec=0.452611316653\"><img src=\"http://legacysurvey.org/viewer/jpeg-cutout/?ra=355.005578254&dec=0.452611316653&layer=sdssco&pixscale=0.1&bands=gri\"></a></td></tr>\n",
       "    </table>\n",
       "    "
      ],
      "text/plain": [
       "<IPython.core.display.HTML object>"
      ]
     },
     "metadata": {},
     "output_type": "display_data"
    },
    {
     "name": "stdout",
     "output_type": "stream",
     "text": [
      "multi-exposure transient\n"
     ]
    },
    {
     "data": {
      "text/html": [
       "\n",
       "    <table>\n",
       "\n",
       "    <tr>\n",
       "    <th>obj</th>\n",
       "    <th>DECALS</th>\n",
       "    <th>SDSS</th>\n",
       "    </tr>\n",
       "\n",
       "    <tr><td>337543_2336<br>RA=353.9508<br>Dec=0.9547<br>r=21.67<br>sb=23.55<br>anymsk=[  0   0 513   0   0   0]<br>allmsk=[0 0 0 0 0 0]</td><td><a href=\"http://legacysurvey.org/viewer?ra=353.950754041&dec=0.954719012573\"><img src=\"http://legacysurvey.org/viewer/jpeg-cutout/?ra=353.950754041&dec=0.954719012573&layer=decals-dr3&pixscale=0.1&bands=grz\"></a></td><td><a href=\"http://skyserver.sdss.org/dr12/en/tools/chart/navi.aspx?ra=353.950754041&dec=0.954719012573\"><img src=\"http://legacysurvey.org/viewer/jpeg-cutout/?ra=353.950754041&dec=0.954719012573&layer=sdssco&pixscale=0.1&bands=gri\"></a></td></tr>\n",
       "<tr><td>331781_2124<br>RA=353.3101<br>Dec=-0.0393<br>r=20.27<br>sb=22.01<br>anymsk=[   0    0  128    0 1024    0]<br>allmsk=[0 0 0 0 0 0]</td><td><a href=\"http://legacysurvey.org/viewer?ra=353.310083986&dec=-0.0393326489253\"><img src=\"http://legacysurvey.org/viewer/jpeg-cutout/?ra=353.310083986&dec=-0.0393326489253&layer=decals-dr3&pixscale=0.1&bands=grz\"></a></td><td><a href=\"http://skyserver.sdss.org/dr12/en/tools/chart/navi.aspx?ra=353.310083986&dec=-0.0393326489253\"><img src=\"http://legacysurvey.org/viewer/jpeg-cutout/?ra=353.310083986&dec=-0.0393326489253&layer=sdssco&pixscale=0.1&bands=gri\"></a></td></tr>\n",
       "<tr><td>334661_5748<br>RA=353.2612<br>Dec=0.6106<br>r=24.36<br>sb=25.60<br>anymsk=[  0   0 513   0   0   0]<br>allmsk=[0 0 0 0 0 0]</td><td><a href=\"http://legacysurvey.org/viewer?ra=353.261226974&dec=0.610558310243\"><img src=\"http://legacysurvey.org/viewer/jpeg-cutout/?ra=353.261226974&dec=0.610558310243&layer=decals-dr3&pixscale=0.1&bands=grz\"></a></td><td><a href=\"http://skyserver.sdss.org/dr12/en/tools/chart/navi.aspx?ra=353.261226974&dec=0.610558310243\"><img src=\"http://legacysurvey.org/viewer/jpeg-cutout/?ra=353.261226974&dec=0.610558310243&layer=sdssco&pixscale=0.1&bands=gri\"></a></td></tr>\n",
       "<tr><td>334667_2980<br>RA=354.8740<br>Dec=0.4997<br>r=23.92<br>sb=24.68<br>anymsk=[  0   0 513   0 513   0]<br>allmsk=[0 0 0 0 0 0]</td><td><a href=\"http://legacysurvey.org/viewer?ra=354.87399895&dec=0.499652444\"><img src=\"http://legacysurvey.org/viewer/jpeg-cutout/?ra=354.87399895&dec=0.499652444&layer=decals-dr3&pixscale=0.1&bands=grz\"></a></td><td><a href=\"http://skyserver.sdss.org/dr12/en/tools/chart/navi.aspx?ra=354.87399895&dec=0.499652444\"><img src=\"http://legacysurvey.org/viewer/jpeg-cutout/?ra=354.87399895&dec=0.499652444&layer=sdssco&pixscale=0.1&bands=gri\"></a></td></tr>\n",
       "<tr><td>337544_3166<br>RA=354.2263<br>Dec=0.9942<br>r=24.30<br>sb=24.82<br>anymsk=[  0   0 513   0 641   0]<br>allmsk=[0 0 0 0 0 0]</td><td><a href=\"http://legacysurvey.org/viewer?ra=354.22632831&dec=0.994215297561\"><img src=\"http://legacysurvey.org/viewer/jpeg-cutout/?ra=354.22632831&dec=0.994215297561&layer=decals-dr3&pixscale=0.1&bands=grz\"></a></td><td><a href=\"http://skyserver.sdss.org/dr12/en/tools/chart/navi.aspx?ra=354.22632831&dec=0.994215297561\"><img src=\"http://legacysurvey.org/viewer/jpeg-cutout/?ra=354.22632831&dec=0.994215297561&layer=sdssco&pixscale=0.1&bands=gri\"></a></td></tr>\n",
       "<tr><td>334667_6025<br>RA=354.9932<br>Dec=0.6240<br>r=19.53<br>sb=20.48<br>anymsk=[  0   0 513   0   0   0]<br>allmsk=[0 0 0 0 0 0]</td><td><a href=\"http://legacysurvey.org/viewer?ra=354.993242791&dec=0.624027594446\"><img src=\"http://legacysurvey.org/viewer/jpeg-cutout/?ra=354.993242791&dec=0.624027594446&layer=decals-dr3&pixscale=0.1&bands=grz\"></a></td><td><a href=\"http://skyserver.sdss.org/dr12/en/tools/chart/navi.aspx?ra=354.993242791&dec=0.624027594446\"><img src=\"http://legacysurvey.org/viewer/jpeg-cutout/?ra=354.993242791&dec=0.624027594446&layer=sdssco&pixscale=0.1&bands=gri\"></a></td></tr>\n",
       "<tr><td>334666_2662<br>RA=354.5938<br>Dec=0.4765<br>r=24.18<br>sb=25.10<br>anymsk=[  0   0 513   0   0   0]<br>allmsk=[0 0 0 0 0 0]</td><td><a href=\"http://legacysurvey.org/viewer?ra=354.593826679&dec=0.476472989213\"><img src=\"http://legacysurvey.org/viewer/jpeg-cutout/?ra=354.593826679&dec=0.476472989213&layer=decals-dr3&pixscale=0.1&bands=grz\"></a></td><td><a href=\"http://skyserver.sdss.org/dr12/en/tools/chart/navi.aspx?ra=354.593826679&dec=0.476472989213\"><img src=\"http://legacysurvey.org/viewer/jpeg-cutout/?ra=354.593826679&dec=0.476472989213&layer=sdssco&pixscale=0.1&bands=gri\"></a></td></tr>\n",
       "<tr><td>334666_641<br>RA=354.5734<br>Dec=0.3991<br>r=24.68<br>sb=25.16<br>anymsk=[  0   0 144   0   0   0]<br>allmsk=[0 0 0 0 0 0]</td><td><a href=\"http://legacysurvey.org/viewer?ra=354.573376002&dec=0.399064592167\"><img src=\"http://legacysurvey.org/viewer/jpeg-cutout/?ra=354.573376002&dec=0.399064592167&layer=decals-dr3&pixscale=0.1&bands=grz\"></a></td><td><a href=\"http://skyserver.sdss.org/dr12/en/tools/chart/navi.aspx?ra=354.573376002&dec=0.399064592167\"><img src=\"http://legacysurvey.org/viewer/jpeg-cutout/?ra=354.573376002&dec=0.399064592167&layer=sdssco&pixscale=0.1&bands=gri\"></a></td></tr>\n",
       "<tr><td>331787_917<br>RA=354.7518<br>Dec=-0.0952<br>r=24.17<br>sb=25.15<br>anymsk=[  0   0 513   0   0   0]<br>allmsk=[0 0 0 0 0 0]</td><td><a href=\"http://legacysurvey.org/viewer?ra=354.751768218&dec=-0.0951824059822\"><img src=\"http://legacysurvey.org/viewer/jpeg-cutout/?ra=354.751768218&dec=-0.0951824059822&layer=decals-dr3&pixscale=0.1&bands=grz\"></a></td><td><a href=\"http://skyserver.sdss.org/dr12/en/tools/chart/navi.aspx?ra=354.751768218&dec=-0.0951824059822\"><img src=\"http://legacysurvey.org/viewer/jpeg-cutout/?ra=354.751768218&dec=-0.0951824059822&layer=sdssco&pixscale=0.1&bands=gri\"></a></td></tr>\n",
       "<tr><td>336102_4950<br>RA=353.6434<br>Dec=0.8139<br>r=24.22<br>sb=25.30<br>anymsk=[  0   1 513   0   0   0]<br>allmsk=[0 0 0 0 0 0]</td><td><a href=\"http://legacysurvey.org/viewer?ra=353.643378893&dec=0.813941854282\"><img src=\"http://legacysurvey.org/viewer/jpeg-cutout/?ra=353.643378893&dec=0.813941854282&layer=decals-dr3&pixscale=0.1&bands=grz\"></a></td><td><a href=\"http://skyserver.sdss.org/dr12/en/tools/chart/navi.aspx?ra=353.643378893&dec=0.813941854282\"><img src=\"http://legacysurvey.org/viewer/jpeg-cutout/?ra=353.643378893&dec=0.813941854282&layer=sdssco&pixscale=0.1&bands=gri\"></a></td></tr>\n",
       "    </table>\n",
       "    "
      ],
      "text/plain": [
       "<IPython.core.display.HTML object>"
      ]
     },
     "metadata": {},
     "output_type": "display_data"
    },
    {
     "name": "stdout",
     "output_type": "stream",
     "text": [
      "single exposure cosmic ray\n"
     ]
    },
    {
     "data": {
      "text/html": [
       "\n",
       "    <table>\n",
       "\n",
       "    <tr>\n",
       "    <th>obj</th>\n",
       "    <th>DECALS</th>\n",
       "    <th>SDSS</th>\n",
       "    </tr>\n",
       "\n",
       "    <tr><td>334663_4038<br>RA=353.8489<br>Dec=0.5261<br>r=25.18<br>sb=26.06<br>anymsk=[  0   0 513   0   0   0]<br>allmsk=[0 0 0 0 0 0]</td><td><a href=\"http://legacysurvey.org/viewer?ra=353.848863717&dec=0.526080209308\"><img src=\"http://legacysurvey.org/viewer/jpeg-cutout/?ra=353.848863717&dec=0.526080209308&layer=decals-dr3&pixscale=0.1&bands=grz\"></a></td><td><a href=\"http://skyserver.sdss.org/dr12/en/tools/chart/navi.aspx?ra=353.848863717&dec=0.526080209308\"><img src=\"http://legacysurvey.org/viewer/jpeg-cutout/?ra=353.848863717&dec=0.526080209308&layer=sdssco&pixscale=0.1&bands=gri\"></a></td></tr>\n",
       "<tr><td>337545_4432<br>RA=354.3576<br>Dec=1.0475<br>r=24.58<br>sb=25.27<br>anymsk=[  0   0 144   0   1   0]<br>allmsk=[0 0 0 0 0 0]</td><td><a href=\"http://legacysurvey.org/viewer?ra=354.357553799&dec=1.04746123571\"><img src=\"http://legacysurvey.org/viewer/jpeg-cutout/?ra=354.357553799&dec=1.04746123571&layer=decals-dr3&pixscale=0.1&bands=grz\"></a></td><td><a href=\"http://skyserver.sdss.org/dr12/en/tools/chart/navi.aspx?ra=354.357553799&dec=1.04746123571\"><img src=\"http://legacysurvey.org/viewer/jpeg-cutout/?ra=354.357553799&dec=1.04746123571&layer=sdssco&pixscale=0.1&bands=gri\"></a></td></tr>\n",
       "<tr><td>333225_1750<br>RA=354.3294<br>Dec=0.1830<br>r=26.17<br>sb=26.53<br>anymsk=[ 0  0 16  0  0  0]<br>allmsk=[0 0 0 0 0 0]</td><td><a href=\"http://legacysurvey.org/viewer?ra=354.329394588&dec=0.183009890919\"><img src=\"http://legacysurvey.org/viewer/jpeg-cutout/?ra=354.329394588&dec=0.183009890919&layer=decals-dr3&pixscale=0.1&bands=grz\"></a></td><td><a href=\"http://skyserver.sdss.org/dr12/en/tools/chart/navi.aspx?ra=354.329394588&dec=0.183009890919\"><img src=\"http://legacysurvey.org/viewer/jpeg-cutout/?ra=354.329394588&dec=0.183009890919&layer=sdssco&pixscale=0.1&bands=gri\"></a></td></tr>\n",
       "<tr><td>337544_3321<br>RA=354.1438<br>Dec=1.0009<br>r=24.99<br>sb=25.60<br>anymsk=[  0   1 513   0 513   0]<br>allmsk=[0 0 0 0 0 0]</td><td><a href=\"http://legacysurvey.org/viewer?ra=354.143768011&dec=1.00089511718\"><img src=\"http://legacysurvey.org/viewer/jpeg-cutout/?ra=354.143768011&dec=1.00089511718&layer=decals-dr3&pixscale=0.1&bands=grz\"></a></td><td><a href=\"http://skyserver.sdss.org/dr12/en/tools/chart/navi.aspx?ra=354.143768011&dec=1.00089511718\"><img src=\"http://legacysurvey.org/viewer/jpeg-cutout/?ra=354.143768011&dec=1.00089511718&layer=sdssco&pixscale=0.1&bands=gri\"></a></td></tr>\n",
       "<tr><td>337546_2540<br>RA=354.5036<br>Dec=0.9779<br>r=24.64<br>sb=25.81<br>anymsk=[  0   0 513   0 513   0]<br>allmsk=[0 0 0 0 0 0]</td><td><a href=\"http://legacysurvey.org/viewer?ra=354.503588061&dec=0.977878681661\"><img src=\"http://legacysurvey.org/viewer/jpeg-cutout/?ra=354.503588061&dec=0.977878681661&layer=decals-dr3&pixscale=0.1&bands=grz\"></a></td><td><a href=\"http://skyserver.sdss.org/dr12/en/tools/chart/navi.aspx?ra=354.503588061&dec=0.977878681661\"><img src=\"http://legacysurvey.org/viewer/jpeg-cutout/?ra=354.503588061&dec=0.977878681661&layer=sdssco&pixscale=0.1&bands=gri\"></a></td></tr>\n",
       "<tr><td>337544_2212<br>RA=354.0353<br>Dec=0.9547<br>r=22.49<br>sb=23.59<br>anymsk=[  0   0 513   0   0   0]<br>allmsk=[0 0 0 0 0 0]</td><td><a href=\"http://legacysurvey.org/viewer?ra=354.035318103&dec=0.954691172864\"><img src=\"http://legacysurvey.org/viewer/jpeg-cutout/?ra=354.035318103&dec=0.954691172864&layer=decals-dr3&pixscale=0.1&bands=grz\"></a></td><td><a href=\"http://skyserver.sdss.org/dr12/en/tools/chart/navi.aspx?ra=354.035318103&dec=0.954691172864\"><img src=\"http://legacysurvey.org/viewer/jpeg-cutout/?ra=354.035318103&dec=0.954691172864&layer=sdssco&pixscale=0.1&bands=gri\"></a></td></tr>\n",
       "<tr><td>337544_2023<br>RA=354.1209<br>Dec=0.9548<br>r=23.47<br>sb=24.75<br>anymsk=[  0   0 641   0   0   0]<br>allmsk=[0 0 0 0 0 0]</td><td><a href=\"http://legacysurvey.org/viewer?ra=354.120949183&dec=0.954757495617\"><img src=\"http://legacysurvey.org/viewer/jpeg-cutout/?ra=354.120949183&dec=0.954757495617&layer=decals-dr3&pixscale=0.1&bands=grz\"></a></td><td><a href=\"http://skyserver.sdss.org/dr12/en/tools/chart/navi.aspx?ra=354.120949183&dec=0.954757495617\"><img src=\"http://legacysurvey.org/viewer/jpeg-cutout/?ra=354.120949183&dec=0.954757495617&layer=sdssco&pixscale=0.1&bands=gri\"></a></td></tr>\n",
       "<tr><td>336102_111<br>RA=353.7059<br>Dec=0.6289<br>r=24.53<br>sb=25.20<br>anymsk=[ 0  0 16  0  0  0]<br>allmsk=[0 0 0 0 0 0]</td><td><a href=\"http://legacysurvey.org/viewer?ra=353.705852706&dec=0.628943022406\"><img src=\"http://legacysurvey.org/viewer/jpeg-cutout/?ra=353.705852706&dec=0.628943022406&layer=decals-dr3&pixscale=0.1&bands=grz\"></a></td><td><a href=\"http://skyserver.sdss.org/dr12/en/tools/chart/navi.aspx?ra=353.705852706&dec=0.628943022406\"><img src=\"http://legacysurvey.org/viewer/jpeg-cutout/?ra=353.705852706&dec=0.628943022406&layer=sdssco&pixscale=0.1&bands=gri\"></a></td></tr>\n",
       "<tr><td>334667_3147<br>RA=354.7651<br>Dec=0.5077<br>r=24.14<br>sb=24.86<br>anymsk=[  0   0 513   0 513   0]<br>allmsk=[0 0 0 0 0 0]</td><td><a href=\"http://legacysurvey.org/viewer?ra=354.765068306&dec=0.507677528492\"><img src=\"http://legacysurvey.org/viewer/jpeg-cutout/?ra=354.765068306&dec=0.507677528492&layer=decals-dr3&pixscale=0.1&bands=grz\"></a></td><td><a href=\"http://skyserver.sdss.org/dr12/en/tools/chart/navi.aspx?ra=354.765068306&dec=0.507677528492\"><img src=\"http://legacysurvey.org/viewer/jpeg-cutout/?ra=354.765068306&dec=0.507677528492&layer=sdssco&pixscale=0.1&bands=gri\"></a></td></tr>\n",
       "<tr><td>331787_2721<br>RA=354.9934<br>Dec=-0.0181<br>r=23.20<br>sb=24.29<br>anymsk=[  0   0 513   0   0   0]<br>allmsk=[0 0 0 0 0 0]</td><td><a href=\"http://legacysurvey.org/viewer?ra=354.993408477&dec=-0.0180715136674\"><img src=\"http://legacysurvey.org/viewer/jpeg-cutout/?ra=354.993408477&dec=-0.0180715136674&layer=decals-dr3&pixscale=0.1&bands=grz\"></a></td><td><a href=\"http://skyserver.sdss.org/dr12/en/tools/chart/navi.aspx?ra=354.993408477&dec=-0.0180715136674\"><img src=\"http://legacysurvey.org/viewer/jpeg-cutout/?ra=354.993408477&dec=-0.0180715136674&layer=sdssco&pixscale=0.1&bands=gri\"></a></td></tr>\n",
       "    </table>\n",
       "    "
      ],
      "text/plain": [
       "<IPython.core.display.HTML object>"
      ]
     },
     "metadata": {},
     "output_type": "display_data"
    },
    {
     "name": "stdout",
     "output_type": "stream",
     "text": [
      "detector bad pixel/no data\n"
     ]
    },
    {
     "data": {
      "text/html": [
       "\n",
       "    <table>\n",
       "\n",
       "    <tr>\n",
       "    <th>obj</th>\n",
       "    <th>DECALS</th>\n",
       "    <th>SDSS</th>\n",
       "    </tr>\n",
       "\n",
       "    <tr><td>333223_2743<br>RA=353.9207<br>Dec=0.2311<br>r=24.91<br>sb=25.51<br>anymsk=[0 0 1 0 0 0]<br>allmsk=[0 0 0 0 0 0]</td><td><a href=\"http://legacysurvey.org/viewer?ra=353.920698796&dec=0.231077631289\"><img src=\"http://legacysurvey.org/viewer/jpeg-cutout/?ra=353.920698796&dec=0.231077631289&layer=decals-dr3&pixscale=0.1&bands=grz\"></a></td><td><a href=\"http://skyserver.sdss.org/dr12/en/tools/chart/navi.aspx?ra=353.920698796&dec=0.231077631289\"><img src=\"http://legacysurvey.org/viewer/jpeg-cutout/?ra=353.920698796&dec=0.231077631289&layer=sdssco&pixscale=0.1&bands=gri\"></a></td></tr>\n",
       "<tr><td>334665_520<br>RA=354.2784<br>Dec=0.3874<br>r=23.82<br>sb=25.03<br>anymsk=[0 1 1 0 0 0]<br>allmsk=[0 0 0 0 0 0]</td><td><a href=\"http://legacysurvey.org/viewer?ra=354.278381926&dec=0.387442800957\"><img src=\"http://legacysurvey.org/viewer/jpeg-cutout/?ra=354.278381926&dec=0.387442800957&layer=decals-dr3&pixscale=0.1&bands=grz\"></a></td><td><a href=\"http://skyserver.sdss.org/dr12/en/tools/chart/navi.aspx?ra=354.278381926&dec=0.387442800957\"><img src=\"http://legacysurvey.org/viewer/jpeg-cutout/?ra=354.278381926&dec=0.387442800957&layer=sdssco&pixscale=0.1&bands=gri\"></a></td></tr>\n",
       "<tr><td>336102_77<br>RA=353.5544<br>Dec=0.6257<br>r=24.72<br>sb=25.39<br>anymsk=[  0   0 513   0   0   0]<br>allmsk=[0 0 0 0 0 0]</td><td><a href=\"http://legacysurvey.org/viewer?ra=353.554437701&dec=0.625718568042\"><img src=\"http://legacysurvey.org/viewer/jpeg-cutout/?ra=353.554437701&dec=0.625718568042&layer=decals-dr3&pixscale=0.1&bands=grz\"></a></td><td><a href=\"http://skyserver.sdss.org/dr12/en/tools/chart/navi.aspx?ra=353.554437701&dec=0.625718568042\"><img src=\"http://legacysurvey.org/viewer/jpeg-cutout/?ra=353.554437701&dec=0.625718568042&layer=sdssco&pixscale=0.1&bands=gri\"></a></td></tr>\n",
       "<tr><td>330341_3680<br>RA=353.3112<br>Dec=-0.2424<br>r=24.87<br>sb=25.73<br>anymsk=[0 1 1 0 0 0]<br>allmsk=[0 0 0 0 0 0]</td><td><a href=\"http://legacysurvey.org/viewer?ra=353.31119155&dec=-0.242417009683\"><img src=\"http://legacysurvey.org/viewer/jpeg-cutout/?ra=353.31119155&dec=-0.242417009683&layer=decals-dr3&pixscale=0.1&bands=grz\"></a></td><td><a href=\"http://skyserver.sdss.org/dr12/en/tools/chart/navi.aspx?ra=353.31119155&dec=-0.242417009683\"><img src=\"http://legacysurvey.org/viewer/jpeg-cutout/?ra=353.31119155&dec=-0.242417009683&layer=sdssco&pixscale=0.1&bands=gri\"></a></td></tr>\n",
       "<tr><td>333222_2028<br>RA=353.4965<br>Dec=0.2012<br>r=24.17<br>sb=25.23<br>anymsk=[0 1 1 0 0 0]<br>allmsk=[0 0 0 0 0 0]</td><td><a href=\"http://legacysurvey.org/viewer?ra=353.496539797&dec=0.201222092643\"><img src=\"http://legacysurvey.org/viewer/jpeg-cutout/?ra=353.496539797&dec=0.201222092643&layer=decals-dr3&pixscale=0.1&bands=grz\"></a></td><td><a href=\"http://skyserver.sdss.org/dr12/en/tools/chart/navi.aspx?ra=353.496539797&dec=0.201222092643\"><img src=\"http://legacysurvey.org/viewer/jpeg-cutout/?ra=353.496539797&dec=0.201222092643&layer=sdssco&pixscale=0.1&bands=gri\"></a></td></tr>\n",
       "<tr><td>331787_4057<br>RA=354.9309<br>Dec=0.0380<br>r=24.11<br>sb=24.97<br>anymsk=[0 0 1 0 0 0]<br>allmsk=[0 0 0 0 0 0]</td><td><a href=\"http://legacysurvey.org/viewer?ra=354.930904633&dec=0.0380367348178\"><img src=\"http://legacysurvey.org/viewer/jpeg-cutout/?ra=354.930904633&dec=0.0380367348178&layer=decals-dr3&pixscale=0.1&bands=grz\"></a></td><td><a href=\"http://skyserver.sdss.org/dr12/en/tools/chart/navi.aspx?ra=354.930904633&dec=0.0380367348178\"><img src=\"http://legacysurvey.org/viewer/jpeg-cutout/?ra=354.930904633&dec=0.0380367348178&layer=sdssco&pixscale=0.1&bands=gri\"></a></td></tr>\n",
       "<tr><td>337547_1039<br>RA=354.9154<br>Dec=0.9091<br>r=23.44<br>sb=24.18<br>anymsk=[0 0 1 0 0 0]<br>allmsk=[0 0 0 0 0 0]</td><td><a href=\"http://legacysurvey.org/viewer?ra=354.915411846&dec=0.909119248115\"><img src=\"http://legacysurvey.org/viewer/jpeg-cutout/?ra=354.915411846&dec=0.909119248115&layer=decals-dr3&pixscale=0.1&bands=grz\"></a></td><td><a href=\"http://skyserver.sdss.org/dr12/en/tools/chart/navi.aspx?ra=354.915411846&dec=0.909119248115\"><img src=\"http://legacysurvey.org/viewer/jpeg-cutout/?ra=354.915411846&dec=0.909119248115&layer=sdssco&pixscale=0.1&bands=gri\"></a></td></tr>\n",
       "<tr><td>336101_2513<br>RA=353.4076<br>Dec=0.7255<br>r=23.24<br>sb=24.10<br>anymsk=[0 0 1 0 0 0]<br>allmsk=[0 0 0 0 0 0]</td><td><a href=\"http://legacysurvey.org/viewer?ra=353.407555996&dec=0.725460621517\"><img src=\"http://legacysurvey.org/viewer/jpeg-cutout/?ra=353.407555996&dec=0.725460621517&layer=decals-dr3&pixscale=0.1&bands=grz\"></a></td><td><a href=\"http://skyserver.sdss.org/dr12/en/tools/chart/navi.aspx?ra=353.407555996&dec=0.725460621517\"><img src=\"http://legacysurvey.org/viewer/jpeg-cutout/?ra=353.407555996&dec=0.725460621517&layer=sdssco&pixscale=0.1&bands=gri\"></a></td></tr>\n",
       "<tr><td>333222_3018<br>RA=353.5203<br>Dec=0.2459<br>r=23.39<br>sb=24.72<br>anymsk=[0 0 1 0 0 0]<br>allmsk=[0 0 0 0 0 0]</td><td><a href=\"http://legacysurvey.org/viewer?ra=353.520304116&dec=0.245930798931\"><img src=\"http://legacysurvey.org/viewer/jpeg-cutout/?ra=353.520304116&dec=0.245930798931&layer=decals-dr3&pixscale=0.1&bands=grz\"></a></td><td><a href=\"http://skyserver.sdss.org/dr12/en/tools/chart/navi.aspx?ra=353.520304116&dec=0.245930798931\"><img src=\"http://legacysurvey.org/viewer/jpeg-cutout/?ra=353.520304116&dec=0.245930798931&layer=sdssco&pixscale=0.1&bands=gri\"></a></td></tr>\n",
       "<tr><td>336103_4724<br>RA=353.9329<br>Dec=0.7964<br>r=19.79<br>sb=22.15<br>anymsk=[0 1 1 0 1 0]<br>allmsk=[0 0 0 0 0 0]</td><td><a href=\"http://legacysurvey.org/viewer?ra=353.932912187&dec=0.796379032448\"><img src=\"http://legacysurvey.org/viewer/jpeg-cutout/?ra=353.932912187&dec=0.796379032448&layer=decals-dr3&pixscale=0.1&bands=grz\"></a></td><td><a href=\"http://skyserver.sdss.org/dr12/en/tools/chart/navi.aspx?ra=353.932912187&dec=0.796379032448\"><img src=\"http://legacysurvey.org/viewer/jpeg-cutout/?ra=353.932912187&dec=0.796379032448&layer=sdssco&pixscale=0.1&bands=gri\"></a></td></tr>\n",
       "    </table>\n",
       "    "
      ],
      "text/plain": [
       "<IPython.core.display.HTML object>"
      ]
     },
     "metadata": {},
     "output_type": "display_data"
    }
   ],
   "source": [
    "for name, barr in anymaskr.items():\n",
    "    print(name)\n",
    "    idxs = np.random.permutation(np.sum(barr))[:nper]\n",
    "    display.display(make_cutout_comparison_table(dcutall[barr][idxs], doprint=False))"
   ]
  },
  {
   "cell_type": "markdown",
   "metadata": {},
   "source": [
    "## All pixels?"
   ]
  },
  {
   "cell_type": "code",
   "execution_count": 20,
   "metadata": {
    "collapsed": false,
    "scrolled": false
   },
   "outputs": [
    {
     "name": "stdout",
     "output_type": "stream",
     "text": [
      "longthin\n"
     ]
    },
    {
     "data": {
      "text/html": [
       "\n",
       "    <table>\n",
       "\n",
       "    <tr>\n",
       "    <th>obj</th>\n",
       "    <th>DECALS</th>\n",
       "    <th>SDSS</th>\n",
       "    </tr>\n",
       "\n",
       "    \n",
       "    </table>\n",
       "    "
      ],
      "text/plain": [
       "<IPython.core.display.HTML object>"
      ]
     },
     "metadata": {},
     "output_type": "display_data"
    },
    {
     "name": "stdout",
     "output_type": "stream",
     "text": [
      "saturated\n"
     ]
    },
    {
     "data": {
      "text/html": [
       "\n",
       "    <table>\n",
       "\n",
       "    <tr>\n",
       "    <th>obj</th>\n",
       "    <th>DECALS</th>\n",
       "    <th>SDSS</th>\n",
       "    </tr>\n",
       "\n",
       "    <tr><td>331785_1880<br>RA=354.3395<br>Dec=-0.0399<br>r=13.58<br>sb=18.35<br>anymsk=[ 0 70 70  0 70  0]<br>allmsk=[0 0 2 0 2 0]</td><td><a href=\"http://legacysurvey.org/viewer?ra=354.339548837&dec=-0.0398837242335\"><img src=\"http://legacysurvey.org/viewer/jpeg-cutout/?ra=354.339548837&dec=-0.0398837242335&layer=decals-dr3&pixscale=0.1&bands=grz\"></a></td><td><a href=\"http://skyserver.sdss.org/dr12/en/tools/chart/navi.aspx?ra=354.339548837&dec=-0.0398837242335\"><img src=\"http://legacysurvey.org/viewer/jpeg-cutout/?ra=354.339548837&dec=-0.0398837242335&layer=sdssco&pixscale=0.1&bands=gri\"></a></td></tr>\n",
       "<tr><td>333227_520<br>RA=354.9626<br>Dec=0.1528<br>r=13.79<br>sb=18.69<br>anymsk=[0 2 2 0 2 0]<br>allmsk=[0 0 2 0 2 0]</td><td><a href=\"http://legacysurvey.org/viewer?ra=354.962567939&dec=0.152843028196\"><img src=\"http://legacysurvey.org/viewer/jpeg-cutout/?ra=354.962567939&dec=0.152843028196&layer=decals-dr3&pixscale=0.1&bands=grz\"></a></td><td><a href=\"http://skyserver.sdss.org/dr12/en/tools/chart/navi.aspx?ra=354.962567939&dec=0.152843028196\"><img src=\"http://legacysurvey.org/viewer/jpeg-cutout/?ra=354.962567939&dec=0.152843028196&layer=sdssco&pixscale=0.1&bands=gri\"></a></td></tr>\n",
       "<tr><td>331782_6085<br>RA=353.6824<br>Dec=0.1302<br>r=10.89<br>sb=17.34<br>anymsk=[0 2 2 0 2 0]<br>allmsk=[0 2 2 0 2 0]</td><td><a href=\"http://legacysurvey.org/viewer?ra=353.682387479&dec=0.130178475508\"><img src=\"http://legacysurvey.org/viewer/jpeg-cutout/?ra=353.682387479&dec=0.130178475508&layer=decals-dr3&pixscale=0.1&bands=grz\"></a></td><td><a href=\"http://skyserver.sdss.org/dr12/en/tools/chart/navi.aspx?ra=353.682387479&dec=0.130178475508\"><img src=\"http://legacysurvey.org/viewer/jpeg-cutout/?ra=353.682387479&dec=0.130178475508&layer=sdssco&pixscale=0.1&bands=gri\"></a></td></tr>\n",
       "<tr><td>333225_3155<br>RA=354.4155<br>Dec=0.2426<br>r=11.79<br>sb=17.69<br>anymsk=[0 2 2 0 2 0]<br>allmsk=[0 2 2 0 2 0]</td><td><a href=\"http://legacysurvey.org/viewer?ra=354.415509083&dec=0.242635599591\"><img src=\"http://legacysurvey.org/viewer/jpeg-cutout/?ra=354.415509083&dec=0.242635599591&layer=decals-dr3&pixscale=0.1&bands=grz\"></a></td><td><a href=\"http://skyserver.sdss.org/dr12/en/tools/chart/navi.aspx?ra=354.415509083&dec=0.242635599591\"><img src=\"http://legacysurvey.org/viewer/jpeg-cutout/?ra=354.415509083&dec=0.242635599591&layer=sdssco&pixscale=0.1&bands=gri\"></a></td></tr>\n",
       "<tr><td>334663_2052<br>RA=353.8050<br>Dec=0.4546<br>r=14.42<br>sb=18.70<br>anymsk=[ 0  0 70  0 70  0]<br>allmsk=[0 0 2 0 2 0]</td><td><a href=\"http://legacysurvey.org/viewer?ra=353.8050223&dec=0.454575955787\"><img src=\"http://legacysurvey.org/viewer/jpeg-cutout/?ra=353.8050223&dec=0.454575955787&layer=decals-dr3&pixscale=0.1&bands=grz\"></a></td><td><a href=\"http://skyserver.sdss.org/dr12/en/tools/chart/navi.aspx?ra=353.8050223&dec=0.454575955787\"><img src=\"http://legacysurvey.org/viewer/jpeg-cutout/?ra=353.8050223&dec=0.454575955787&layer=sdssco&pixscale=0.1&bands=gri\"></a></td></tr>\n",
       "<tr><td>331787_5814<br>RA=354.9261<br>Dec=0.1230<br>r=12.76<br>sb=18.12<br>anymsk=[ 0 70 70  0 70  0]<br>allmsk=[0 2 2 0 2 0]</td><td><a href=\"http://legacysurvey.org/viewer?ra=354.92606859&dec=0.123007721959\"><img src=\"http://legacysurvey.org/viewer/jpeg-cutout/?ra=354.92606859&dec=0.123007721959&layer=decals-dr3&pixscale=0.1&bands=grz\"></a></td><td><a href=\"http://skyserver.sdss.org/dr12/en/tools/chart/navi.aspx?ra=354.92606859&dec=0.123007721959\"><img src=\"http://legacysurvey.org/viewer/jpeg-cutout/?ra=354.92606859&dec=0.123007721959&layer=sdssco&pixscale=0.1&bands=gri\"></a></td></tr>\n",
       "<tr><td>336101_4959<br>RA=353.4648<br>Dec=0.8230<br>r=13.77<br>sb=19.28<br>anymsk=[0 2 2 0 2 0]<br>allmsk=[0 0 2 0 2 0]</td><td><a href=\"http://legacysurvey.org/viewer?ra=353.464789297&dec=0.822984575968\"><img src=\"http://legacysurvey.org/viewer/jpeg-cutout/?ra=353.464789297&dec=0.822984575968&layer=decals-dr3&pixscale=0.1&bands=grz\"></a></td><td><a href=\"http://skyserver.sdss.org/dr12/en/tools/chart/navi.aspx?ra=353.464789297&dec=0.822984575968\"><img src=\"http://legacysurvey.org/viewer/jpeg-cutout/?ra=353.464789297&dec=0.822984575968&layer=sdssco&pixscale=0.1&bands=gri\"></a></td></tr>\n",
       "<tr><td>337546_5564<br>RA=354.6109<br>Dec=1.1110<br>r=11.82<br>sb=17.57<br>anymsk=[ 0 70 70  0 70  0]<br>allmsk=[0 2 2 0 2 0]</td><td><a href=\"http://legacysurvey.org/viewer?ra=354.610911887&dec=1.11103022994\"><img src=\"http://legacysurvey.org/viewer/jpeg-cutout/?ra=354.610911887&dec=1.11103022994&layer=decals-dr3&pixscale=0.1&bands=grz\"></a></td><td><a href=\"http://skyserver.sdss.org/dr12/en/tools/chart/navi.aspx?ra=354.610911887&dec=1.11103022994\"><img src=\"http://legacysurvey.org/viewer/jpeg-cutout/?ra=354.610911887&dec=1.11103022994&layer=sdssco&pixscale=0.1&bands=gri\"></a></td></tr>\n",
       "<tr><td>334663_710<br>RA=353.8068<br>Dec=0.3990<br>r=17.98<br>sb=18.99<br>anymsk=[ 0 64 70  0 70  0]<br>allmsk=[0 0 2 0 2 0]</td><td><a href=\"http://legacysurvey.org/viewer?ra=353.806845126&dec=0.398953597645\"><img src=\"http://legacysurvey.org/viewer/jpeg-cutout/?ra=353.806845126&dec=0.398953597645&layer=decals-dr3&pixscale=0.1&bands=grz\"></a></td><td><a href=\"http://skyserver.sdss.org/dr12/en/tools/chart/navi.aspx?ra=353.806845126&dec=0.398953597645\"><img src=\"http://legacysurvey.org/viewer/jpeg-cutout/?ra=353.806845126&dec=0.398953597645&layer=sdssco&pixscale=0.1&bands=gri\"></a></td></tr>\n",
       "<tr><td>334668_21<br>RA=355.0673<br>Dec=0.3692<br>r=14.12<br>sb=17.38<br>anymsk=[0 2 2 0 3 0]<br>allmsk=[0 0 2 0 0 0]</td><td><a href=\"http://legacysurvey.org/viewer?ra=355.067253966&dec=0.369197097062\"><img src=\"http://legacysurvey.org/viewer/jpeg-cutout/?ra=355.067253966&dec=0.369197097062&layer=decals-dr3&pixscale=0.1&bands=grz\"></a></td><td><a href=\"http://skyserver.sdss.org/dr12/en/tools/chart/navi.aspx?ra=355.067253966&dec=0.369197097062\"><img src=\"http://legacysurvey.org/viewer/jpeg-cutout/?ra=355.067253966&dec=0.369197097062&layer=sdssco&pixscale=0.1&bands=gri\"></a></td></tr>\n",
       "    </table>\n",
       "    "
      ],
      "text/plain": [
       "<IPython.core.display.HTML object>"
      ]
     },
     "metadata": {},
     "output_type": "display_data"
    },
    {
     "name": "stdout",
     "output_type": "stream",
     "text": [
      "bleed trail\n"
     ]
    },
    {
     "data": {
      "text/html": [
       "\n",
       "    <table>\n",
       "\n",
       "    <tr>\n",
       "    <th>obj</th>\n",
       "    <th>DECALS</th>\n",
       "    <th>SDSS</th>\n",
       "    </tr>\n",
       "\n",
       "    <tr><td>331784_5792<br>RA=354.1808<br>Dec=0.0967<br>r=18.49<br>sb=19.04<br>anymsk=[  0 192  68   0  68   0]<br>allmsk=[ 0  0 64  0 64  0]</td><td><a href=\"http://legacysurvey.org/viewer?ra=354.180786118&dec=0.0966814822473\"><img src=\"http://legacysurvey.org/viewer/jpeg-cutout/?ra=354.180786118&dec=0.0966814822473&layer=decals-dr3&pixscale=0.1&bands=grz\"></a></td><td><a href=\"http://skyserver.sdss.org/dr12/en/tools/chart/navi.aspx?ra=354.180786118&dec=0.0966814822473\"><img src=\"http://legacysurvey.org/viewer/jpeg-cutout/?ra=354.180786118&dec=0.0966814822473&layer=sdssco&pixscale=0.1&bands=gri\"></a></td></tr>\n",
       "<tr><td>328904_4528<br>RA=354.1219<br>Dec=-0.4593<br>r=18.78<br>sb=18.79<br>anymsk=[  0 192  70   0  70   0]<br>allmsk=[ 0  0 64  0 64  0]</td><td><a href=\"http://legacysurvey.org/viewer?ra=354.121872497&dec=-0.459326097013\"><img src=\"http://legacysurvey.org/viewer/jpeg-cutout/?ra=354.121872497&dec=-0.459326097013&layer=decals-dr3&pixscale=0.1&bands=grz\"></a></td><td><a href=\"http://skyserver.sdss.org/dr12/en/tools/chart/navi.aspx?ra=354.121872497&dec=-0.459326097013\"><img src=\"http://legacysurvey.org/viewer/jpeg-cutout/?ra=354.121872497&dec=-0.459326097013&layer=sdssco&pixscale=0.1&bands=gri\"></a></td></tr>\n",
       "<tr><td>331785_1667<br>RA=354.5014<br>Dec=-0.0496<br>r=nan<br>sb=24.98<br>anymsk=[ 0 64 68  0 68  0]<br>allmsk=[ 0  0 64  0 64  0]</td><td><a href=\"http://legacysurvey.org/viewer?ra=354.50143739&dec=-0.0496233201969\"><img src=\"http://legacysurvey.org/viewer/jpeg-cutout/?ra=354.50143739&dec=-0.0496233201969&layer=decals-dr3&pixscale=0.1&bands=grz\"></a></td><td><a href=\"http://skyserver.sdss.org/dr12/en/tools/chart/navi.aspx?ra=354.50143739&dec=-0.0496233201969\"><img src=\"http://legacysurvey.org/viewer/jpeg-cutout/?ra=354.50143739&dec=-0.0496233201969&layer=sdssco&pixscale=0.1&bands=gri\"></a></td></tr>\n",
       "<tr><td>336100_1918<br>RA=353.2434<br>Dec=0.6970<br>r=19.41<br>sb=18.82<br>anymsk=[ 0  0 68  0 68  0]<br>allmsk=[ 0  0 64  0 64  0]</td><td><a href=\"http://legacysurvey.org/viewer?ra=353.243398947&dec=0.696965736498\"><img src=\"http://legacysurvey.org/viewer/jpeg-cutout/?ra=353.243398947&dec=0.696965736498&layer=decals-dr3&pixscale=0.1&bands=grz\"></a></td><td><a href=\"http://skyserver.sdss.org/dr12/en/tools/chart/navi.aspx?ra=353.243398947&dec=0.696965736498\"><img src=\"http://legacysurvey.org/viewer/jpeg-cutout/?ra=353.243398947&dec=0.696965736498&layer=sdssco&pixscale=0.1&bands=gri\"></a></td></tr>\n",
       "<tr><td>330345_2310<br>RA=354.3258<br>Dec=-0.2776<br>r=17.33<br>sb=19.31<br>anymsk=[ 0  0 64  0 64  0]<br>allmsk=[ 0  0 64  0  0  0]</td><td><a href=\"http://legacysurvey.org/viewer?ra=354.32581105&dec=-0.277648742422\"><img src=\"http://legacysurvey.org/viewer/jpeg-cutout/?ra=354.32581105&dec=-0.277648742422&layer=decals-dr3&pixscale=0.1&bands=grz\"></a></td><td><a href=\"http://skyserver.sdss.org/dr12/en/tools/chart/navi.aspx?ra=354.32581105&dec=-0.277648742422\"><img src=\"http://legacysurvey.org/viewer/jpeg-cutout/?ra=354.32581105&dec=-0.277648742422&layer=sdssco&pixscale=0.1&bands=gri\"></a></td></tr>\n",
       "<tr><td>330345_2312<br>RA=354.3262<br>Dec=-0.2778<br>r=18.70<br>sb=20.91<br>anymsk=[ 0  0 64  0 64  0]<br>allmsk=[ 0  0 64  0  0  0]</td><td><a href=\"http://legacysurvey.org/viewer?ra=354.326199742&dec=-0.277755571683\"><img src=\"http://legacysurvey.org/viewer/jpeg-cutout/?ra=354.326199742&dec=-0.277755571683&layer=decals-dr3&pixscale=0.1&bands=grz\"></a></td><td><a href=\"http://skyserver.sdss.org/dr12/en/tools/chart/navi.aspx?ra=354.326199742&dec=-0.277755571683\"><img src=\"http://legacysurvey.org/viewer/jpeg-cutout/?ra=354.326199742&dec=-0.277755571683&layer=sdssco&pixscale=0.1&bands=gri\"></a></td></tr>\n",
       "<tr><td>333225_2690<br>RA=354.3686<br>Dec=0.2182<br>r=19.28<br>sb=19.52<br>anymsk=[ 0  0 64  0 64  0]<br>allmsk=[ 0  0 64  0  0  0]</td><td><a href=\"http://legacysurvey.org/viewer?ra=354.368559617&dec=0.218161754819\"><img src=\"http://legacysurvey.org/viewer/jpeg-cutout/?ra=354.368559617&dec=0.218161754819&layer=decals-dr3&pixscale=0.1&bands=grz\"></a></td><td><a href=\"http://skyserver.sdss.org/dr12/en/tools/chart/navi.aspx?ra=354.368559617&dec=0.218161754819\"><img src=\"http://legacysurvey.org/viewer/jpeg-cutout/?ra=354.368559617&dec=0.218161754819&layer=sdssco&pixscale=0.1&bands=gri\"></a></td></tr>\n",
       "<tr><td>333221_187<br>RA=353.2572<br>Dec=0.1284<br>r=17.62<br>sb=19.98<br>anymsk=[ 0  1 64  0 64  0]<br>allmsk=[ 0  0 64  0 64  0]</td><td><a href=\"http://legacysurvey.org/viewer?ra=353.257180089&dec=0.128399157345\"><img src=\"http://legacysurvey.org/viewer/jpeg-cutout/?ra=353.257180089&dec=0.128399157345&layer=decals-dr3&pixscale=0.1&bands=grz\"></a></td><td><a href=\"http://skyserver.sdss.org/dr12/en/tools/chart/navi.aspx?ra=353.257180089&dec=0.128399157345\"><img src=\"http://legacysurvey.org/viewer/jpeg-cutout/?ra=353.257180089&dec=0.128399157345&layer=sdssco&pixscale=0.1&bands=gri\"></a></td></tr>\n",
       "<tr><td>333227_5496<br>RA=354.8156<br>Dec=0.3721<br>r=nan<br>sb=18.88<br>anymsk=[ 0  1 64  0 66  0]<br>allmsk=[ 0  0 64  0  0  0]</td><td><a href=\"http://legacysurvey.org/viewer?ra=354.815646696&dec=0.372050634989\"><img src=\"http://legacysurvey.org/viewer/jpeg-cutout/?ra=354.815646696&dec=0.372050634989&layer=decals-dr3&pixscale=0.1&bands=grz\"></a></td><td><a href=\"http://skyserver.sdss.org/dr12/en/tools/chart/navi.aspx?ra=354.815646696&dec=0.372050634989\"><img src=\"http://legacysurvey.org/viewer/jpeg-cutout/?ra=354.815646696&dec=0.372050634989&layer=sdssco&pixscale=0.1&bands=gri\"></a></td></tr>\n",
       "<tr><td>333222_769<br>RA=353.5311<br>Dec=0.1541<br>r=18.05<br>sb=18.75<br>anymsk=[ 0 64 64  0 64  0]<br>allmsk=[ 0  0 64  0 64  0]</td><td><a href=\"http://legacysurvey.org/viewer?ra=353.531092272&dec=0.154065650417\"><img src=\"http://legacysurvey.org/viewer/jpeg-cutout/?ra=353.531092272&dec=0.154065650417&layer=decals-dr3&pixscale=0.1&bands=grz\"></a></td><td><a href=\"http://skyserver.sdss.org/dr12/en/tools/chart/navi.aspx?ra=353.531092272&dec=0.154065650417\"><img src=\"http://legacysurvey.org/viewer/jpeg-cutout/?ra=353.531092272&dec=0.154065650417&layer=sdssco&pixscale=0.1&bands=gri\"></a></td></tr>\n",
       "    </table>\n",
       "    "
      ],
      "text/plain": [
       "<IPython.core.display.HTML object>"
      ]
     },
     "metadata": {},
     "output_type": "display_data"
    },
    {
     "name": "stdout",
     "output_type": "stream",
     "text": [
      "interpolated\n"
     ]
    },
    {
     "data": {
      "text/html": [
       "\n",
       "    <table>\n",
       "\n",
       "    <tr>\n",
       "    <th>obj</th>\n",
       "    <th>DECALS</th>\n",
       "    <th>SDSS</th>\n",
       "    </tr>\n",
       "\n",
       "    <tr><td>331784_5792<br>RA=354.1808<br>Dec=0.0967<br>r=18.49<br>sb=19.04<br>anymsk=[  0 192  68   0  68   0]<br>allmsk=[ 0  0 64  0 64  0]</td><td><a href=\"http://legacysurvey.org/viewer?ra=354.180786118&dec=0.0966814822473\"><img src=\"http://legacysurvey.org/viewer/jpeg-cutout/?ra=354.180786118&dec=0.0966814822473&layer=decals-dr3&pixscale=0.1&bands=grz\"></a></td><td><a href=\"http://skyserver.sdss.org/dr12/en/tools/chart/navi.aspx?ra=354.180786118&dec=0.0966814822473\"><img src=\"http://legacysurvey.org/viewer/jpeg-cutout/?ra=354.180786118&dec=0.0966814822473&layer=sdssco&pixscale=0.1&bands=gri\"></a></td></tr>\n",
       "<tr><td>334663_356<br>RA=353.8795<br>Dec=0.3846<br>r=21.41<br>sb=18.99<br>anymsk=[ 0  0 68  0 70  0]<br>allmsk=[ 0  0 64  0  0  0]</td><td><a href=\"http://legacysurvey.org/viewer?ra=353.879544606&dec=0.384579880645\"><img src=\"http://legacysurvey.org/viewer/jpeg-cutout/?ra=353.879544606&dec=0.384579880645&layer=decals-dr3&pixscale=0.1&bands=grz\"></a></td><td><a href=\"http://skyserver.sdss.org/dr12/en/tools/chart/navi.aspx?ra=353.879544606&dec=0.384579880645\"><img src=\"http://legacysurvey.org/viewer/jpeg-cutout/?ra=353.879544606&dec=0.384579880645&layer=sdssco&pixscale=0.1&bands=gri\"></a></td></tr>\n",
       "<tr><td>336106_2059<br>RA=354.5170<br>Dec=0.7027<br>r=19.75<br>sb=18.53<br>anymsk=[ 0  0 64  0  3  0]<br>allmsk=[ 0  0 64  0  0  0]</td><td><a href=\"http://legacysurvey.org/viewer?ra=354.5170327&dec=0.702663925201\"><img src=\"http://legacysurvey.org/viewer/jpeg-cutout/?ra=354.5170327&dec=0.702663925201&layer=decals-dr3&pixscale=0.1&bands=grz\"></a></td><td><a href=\"http://skyserver.sdss.org/dr12/en/tools/chart/navi.aspx?ra=354.5170327&dec=0.702663925201\"><img src=\"http://legacysurvey.org/viewer/jpeg-cutout/?ra=354.5170327&dec=0.702663925201&layer=sdssco&pixscale=0.1&bands=gri\"></a></td></tr>\n",
       "<tr><td>333221_2203<br>RA=353.3474<br>Dec=0.2132<br>r=18.73<br>sb=20.56<br>anymsk=[ 0 64 64  0  0  0]<br>allmsk=[ 0  0 64  0  0  0]</td><td><a href=\"http://legacysurvey.org/viewer?ra=353.347373554&dec=0.213186063213\"><img src=\"http://legacysurvey.org/viewer/jpeg-cutout/?ra=353.347373554&dec=0.213186063213&layer=decals-dr3&pixscale=0.1&bands=grz\"></a></td><td><a href=\"http://skyserver.sdss.org/dr12/en/tools/chart/navi.aspx?ra=353.347373554&dec=0.213186063213\"><img src=\"http://legacysurvey.org/viewer/jpeg-cutout/?ra=353.347373554&dec=0.213186063213&layer=sdssco&pixscale=0.1&bands=gri\"></a></td></tr>\n",
       "<tr><td>333222_769<br>RA=353.5311<br>Dec=0.1541<br>r=18.05<br>sb=18.75<br>anymsk=[ 0 64 64  0 64  0]<br>allmsk=[ 0  0 64  0 64  0]</td><td><a href=\"http://legacysurvey.org/viewer?ra=353.531092272&dec=0.154065650417\"><img src=\"http://legacysurvey.org/viewer/jpeg-cutout/?ra=353.531092272&dec=0.154065650417&layer=decals-dr3&pixscale=0.1&bands=grz\"></a></td><td><a href=\"http://skyserver.sdss.org/dr12/en/tools/chart/navi.aspx?ra=353.531092272&dec=0.154065650417\"><img src=\"http://legacysurvey.org/viewer/jpeg-cutout/?ra=353.531092272&dec=0.154065650417&layer=sdssco&pixscale=0.1&bands=gri\"></a></td></tr>\n",
       "<tr><td>328905_1719<br>RA=354.4686<br>Dec=-0.5567<br>r=17.83<br>sb=18.80<br>anymsk=[ 0 64 64  0 64  0]<br>allmsk=[ 0 64 64  0 64  0]</td><td><a href=\"http://legacysurvey.org/viewer?ra=354.468633349&dec=-0.556658644284\"><img src=\"http://legacysurvey.org/viewer/jpeg-cutout/?ra=354.468633349&dec=-0.556658644284&layer=decals-dr3&pixscale=0.1&bands=grz\"></a></td><td><a href=\"http://skyserver.sdss.org/dr12/en/tools/chart/navi.aspx?ra=354.468633349&dec=-0.556658644284\"><img src=\"http://legacysurvey.org/viewer/jpeg-cutout/?ra=354.468633349&dec=-0.556658644284&layer=sdssco&pixscale=0.1&bands=gri\"></a></td></tr>\n",
       "<tr><td>334665_4989<br>RA=354.5037<br>Dec=0.5801<br>r=15.76<br>sb=17.13<br>anymsk=[ 0 64 64  0 64  0]<br>allmsk=[ 0  0 64  0 64  0]</td><td><a href=\"http://legacysurvey.org/viewer?ra=354.503711164&dec=0.580144793762\"><img src=\"http://legacysurvey.org/viewer/jpeg-cutout/?ra=354.503711164&dec=0.580144793762&layer=decals-dr3&pixscale=0.1&bands=grz\"></a></td><td><a href=\"http://skyserver.sdss.org/dr12/en/tools/chart/navi.aspx?ra=354.503711164&dec=0.580144793762\"><img src=\"http://legacysurvey.org/viewer/jpeg-cutout/?ra=354.503711164&dec=0.580144793762&layer=sdssco&pixscale=0.1&bands=gri\"></a></td></tr>\n",
       "<tr><td>336106_5873<br>RA=354.7010<br>Dec=0.8778<br>r=16.89<br>sb=18.49<br>anymsk=[ 0  0 64  0 66  0]<br>allmsk=[ 0  0 64  0  0  0]</td><td><a href=\"http://legacysurvey.org/viewer?ra=354.700981143&dec=0.877834840068\"><img src=\"http://legacysurvey.org/viewer/jpeg-cutout/?ra=354.700981143&dec=0.877834840068&layer=decals-dr3&pixscale=0.1&bands=grz\"></a></td><td><a href=\"http://skyserver.sdss.org/dr12/en/tools/chart/navi.aspx?ra=354.700981143&dec=0.877834840068\"><img src=\"http://legacysurvey.org/viewer/jpeg-cutout/?ra=354.700981143&dec=0.877834840068&layer=sdssco&pixscale=0.1&bands=gri\"></a></td></tr>\n",
       "<tr><td>328903_4637<br>RA=353.8294<br>Dec=-0.4450<br>r=17.42<br>sb=18.60<br>anymsk=[  0 128  70   0  70   0]<br>allmsk=[ 0  0 64  0  0  0]</td><td><a href=\"http://legacysurvey.org/viewer?ra=353.829380816&dec=-0.444985729503\"><img src=\"http://legacysurvey.org/viewer/jpeg-cutout/?ra=353.829380816&dec=-0.444985729503&layer=decals-dr3&pixscale=0.1&bands=grz\"></a></td><td><a href=\"http://skyserver.sdss.org/dr12/en/tools/chart/navi.aspx?ra=353.829380816&dec=-0.444985729503\"><img src=\"http://legacysurvey.org/viewer/jpeg-cutout/?ra=353.829380816&dec=-0.444985729503&layer=sdssco&pixscale=0.1&bands=gri\"></a></td></tr>\n",
       "<tr><td>333221_187<br>RA=353.2572<br>Dec=0.1284<br>r=17.62<br>sb=19.98<br>anymsk=[ 0  1 64  0 64  0]<br>allmsk=[ 0  0 64  0 64  0]</td><td><a href=\"http://legacysurvey.org/viewer?ra=353.257180089&dec=0.128399157345\"><img src=\"http://legacysurvey.org/viewer/jpeg-cutout/?ra=353.257180089&dec=0.128399157345&layer=decals-dr3&pixscale=0.1&bands=grz\"></a></td><td><a href=\"http://skyserver.sdss.org/dr12/en/tools/chart/navi.aspx?ra=353.257180089&dec=0.128399157345\"><img src=\"http://legacysurvey.org/viewer/jpeg-cutout/?ra=353.257180089&dec=0.128399157345&layer=sdssco&pixscale=0.1&bands=gri\"></a></td></tr>\n",
       "    </table>\n",
       "    "
      ],
      "text/plain": [
       "<IPython.core.display.HTML object>"
      ]
     },
     "metadata": {},
     "output_type": "display_data"
    },
    {
     "name": "stdout",
     "output_type": "stream",
     "text": [
      "edge2\n"
     ]
    },
    {
     "data": {
      "text/html": [
       "\n",
       "    <table>\n",
       "\n",
       "    <tr>\n",
       "    <th>obj</th>\n",
       "    <th>DECALS</th>\n",
       "    <th>SDSS</th>\n",
       "    </tr>\n",
       "\n",
       "    \n",
       "    </table>\n",
       "    "
      ],
      "text/plain": [
       "<IPython.core.display.HTML object>"
      ]
     },
     "metadata": {},
     "output_type": "display_data"
    },
    {
     "name": "stdout",
     "output_type": "stream",
     "text": [
      "edge\n"
     ]
    },
    {
     "data": {
      "text/html": [
       "\n",
       "    <table>\n",
       "\n",
       "    <tr>\n",
       "    <th>obj</th>\n",
       "    <th>DECALS</th>\n",
       "    <th>SDSS</th>\n",
       "    </tr>\n",
       "\n",
       "    \n",
       "    </table>\n",
       "    "
      ],
      "text/plain": [
       "<IPython.core.display.HTML object>"
      ]
     },
     "metadata": {},
     "output_type": "display_data"
    },
    {
     "name": "stdout",
     "output_type": "stream",
     "text": [
      "multi-exposure transient\n"
     ]
    },
    {
     "data": {
      "text/html": [
       "\n",
       "    <table>\n",
       "\n",
       "    <tr>\n",
       "    <th>obj</th>\n",
       "    <th>DECALS</th>\n",
       "    <th>SDSS</th>\n",
       "    </tr>\n",
       "\n",
       "    \n",
       "    </table>\n",
       "    "
      ],
      "text/plain": [
       "<IPython.core.display.HTML object>"
      ]
     },
     "metadata": {},
     "output_type": "display_data"
    },
    {
     "name": "stdout",
     "output_type": "stream",
     "text": [
      "single exposure cosmic ray\n"
     ]
    },
    {
     "data": {
      "text/html": [
       "\n",
       "    <table>\n",
       "\n",
       "    <tr>\n",
       "    <th>obj</th>\n",
       "    <th>DECALS</th>\n",
       "    <th>SDSS</th>\n",
       "    </tr>\n",
       "\n",
       "    <tr><td>328904_465<br>RA=354.0317<br>Dec=-0.6150<br>r=23.19<br>sb=24.39<br>anymsk=[ 0  0 16  0  0  0]<br>allmsk=[ 0  0 16  0  0  0]</td><td><a href=\"http://legacysurvey.org/viewer?ra=354.031688743&dec=-0.615031352467\"><img src=\"http://legacysurvey.org/viewer/jpeg-cutout/?ra=354.031688743&dec=-0.615031352467&layer=decals-dr3&pixscale=0.1&bands=grz\"></a></td><td><a href=\"http://skyserver.sdss.org/dr12/en/tools/chart/navi.aspx?ra=354.031688743&dec=-0.615031352467\"><img src=\"http://legacysurvey.org/viewer/jpeg-cutout/?ra=354.031688743&dec=-0.615031352467&layer=sdssco&pixscale=0.1&bands=gri\"></a></td></tr>\n",
       "    </table>\n",
       "    "
      ],
      "text/plain": [
       "<IPython.core.display.HTML object>"
      ]
     },
     "metadata": {},
     "output_type": "display_data"
    },
    {
     "name": "stdout",
     "output_type": "stream",
     "text": [
      "detector bad pixel/no data\n"
     ]
    },
    {
     "data": {
      "text/html": [
       "\n",
       "    <table>\n",
       "\n",
       "    <tr>\n",
       "    <th>obj</th>\n",
       "    <th>DECALS</th>\n",
       "    <th>SDSS</th>\n",
       "    </tr>\n",
       "\n",
       "    <tr><td>328905_549<br>RA=354.3570<br>Dec=-0.6076<br>r=25.00<br>sb=26.29<br>anymsk=[0 0 1 0 0 0]<br>allmsk=[0 0 1 0 0 0]</td><td><a href=\"http://legacysurvey.org/viewer?ra=354.357007274&dec=-0.60758978841\"><img src=\"http://legacysurvey.org/viewer/jpeg-cutout/?ra=354.357007274&dec=-0.60758978841&layer=decals-dr3&pixscale=0.1&bands=grz\"></a></td><td><a href=\"http://skyserver.sdss.org/dr12/en/tools/chart/navi.aspx?ra=354.357007274&dec=-0.60758978841\"><img src=\"http://legacysurvey.org/viewer/jpeg-cutout/?ra=354.357007274&dec=-0.60758978841&layer=sdssco&pixscale=0.1&bands=gri\"></a></td></tr>\n",
       "    </table>\n",
       "    "
      ],
      "text/plain": [
       "<IPython.core.display.HTML object>"
      ]
     },
     "metadata": {},
     "output_type": "display_data"
    }
   ],
   "source": [
    "for name, barr in allmaskr.items():\n",
    "    print(name)\n",
    "    idxs = np.random.permutation(np.sum(barr))[:nper]\n",
    "    display.display(make_cutout_comparison_table(dcutall[barr][idxs], doprint=False))"
   ]
  }
 ],
 "metadata": {
  "anaconda-cloud": {},
  "kernelspec": {
   "display_name": "Python [conda env:saga]",
   "language": "python",
   "name": "conda-env-saga-py"
  },
  "language_info": {
   "codemirror_mode": {
    "name": "ipython",
    "version": 2
   },
   "file_extension": ".py",
   "mimetype": "text/x-python",
   "name": "python",
   "nbconvert_exporter": "python",
   "pygments_lexer": "ipython2",
   "version": "2.7.12"
  }
 },
 "nbformat": 4,
 "nbformat_minor": 0
}
