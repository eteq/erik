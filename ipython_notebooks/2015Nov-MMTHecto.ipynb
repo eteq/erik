{
 "cells": [
  {
   "cell_type": "code",
   "execution_count": 2,
   "metadata": {
    "collapsed": false
   },
   "outputs": [],
   "source": [
    "# This changes the current directory to the base saga directory - make sure to run this first!\n",
    "# This is necessary to be able to import the py files and use the right directories,\n",
    "# while keeping all the notebooks in their own directory.\n",
    "import os\n",
    "import sys\n",
    "\n",
    "if 'saga_base_dir' not in locals():\n",
    "    saga_base_dir = os.path.abspath('..')\n",
    "\n",
    "if saga_base_dir not in sys.path:\n",
    "    os.chdir(saga_base_dir)"
   ]
  },
  {
   "cell_type": "code",
   "execution_count": 3,
   "metadata": {
    "collapsed": false
   },
   "outputs": [],
   "source": [
    "from __future__ import print_function\n",
    "\n",
    "import hosts\n",
    "import targeting\n",
    "import mmthecto\n",
    "import numpy as np\n",
    "\n",
    "from astropy import units as u\n",
    "from astropy.coordinates import *\n",
    "from astropy import table\n",
    "from astropy.table import Table\n",
    "from astropy.io import fits"
   ]
  },
  {
   "cell_type": "code",
   "execution_count": 4,
   "metadata": {
    "collapsed": false
   },
   "outputs": [],
   "source": [
    "%matplotlib inline\n",
    "from matplotlib import pyplot as plt\n",
    "from matplotlib import rcParams\n",
    "\n",
    "rcParams['image.interpolation'] = 'none'\n",
    "rcParams['figure.figsize'] = (16, 10)"
   ]
  },
  {
   "cell_type": "code",
   "execution_count": 5,
   "metadata": {
    "collapsed": false
   },
   "outputs": [
    {
     "name": "stdout",
     "output_type": "stream",
     "text": [
      "Using cached version of google hosts list from file \"hosts_dl.pkl2\"\n"
     ]
    }
   ],
   "source": [
    "hostlst = hosts.get_saga_hosts_from_google(useobservingsummary=True) #'named' hosts"
   ]
  },
  {
   "cell_type": "code",
   "execution_count": 6,
   "metadata": {
    "collapsed": false
   },
   "outputs": [
    {
     "data": {
      "text/plain": [
       "[<hosts.NSAHost object w/ name 'NSA150887'>,\n",
       " <hosts.NSAHost object w/ name 'NSA150578'>,\n",
       " <hosts.NSAHost object w/ name 'NSA149781'>,\n",
       " <hosts.NSAHost object w/ name 'NSA150307'>,\n",
       " <hosts.NSAHost object w/ name 'NSA61945'>,\n",
       " <hosts.NSAHost object w/ name 'NSA149977'>,\n",
       " <hosts.NSAHost object w/ name 'NSA153017'>,\n",
       " <hosts.NSAHost object w/ name 'NSA126115'>,\n",
       " <hosts.NSAHost object w/ name 'NSA127226'>,\n",
       " <hosts.NSAHost object w/ name 'NSA129387'>,\n",
       " <hosts.NSAHost object w/ name 'NSA129237'>,\n",
       " <hosts.NSAHost object w/ name 'Narnia' AKA: ['NSA132339']>,\n",
       " <hosts.NSAHost object w/ name 'NSA130133'>,\n",
       " <hosts.NSAHost object w/ name 'NSA131531'>,\n",
       " <hosts.NSAHost object w/ name 'NSA130625'>]"
      ]
     },
     "execution_count": 6,
     "metadata": {},
     "output_type": "execute_result"
    }
   ],
   "source": [
    "candidates = \"\"\"\n",
    "NSAID    RA   DEC Name\n",
    "   150887      23.2455      4.53406  N/A\n",
    "    150578.      23.0824      12.3229  N/A\n",
    "    149781.      22.3942     -3.43167  OBrother\n",
    "    150307.      22.9283     -5.49535  N/A\n",
    "    61945.0      23.6087     0.297265  AnaK\n",
    "    149977.      22.6248      10.5315  N/A\n",
    "    153017.      23.9904      20.7498  N/A\n",
    "    126115.    0.0663717      20.7524  N/A\n",
    "    127226.     0.579656     -8.39644  N/A\n",
    "    129387.      1.40109      12.9175  N/A\n",
    "    129237.      1.36327      17.5922  N/A\n",
    "    132339.      2.63655     -1.31876 Narnia\n",
    "    130133.      1.65181     -7.51266  N/A\n",
    "    131531.      2.25767      6.00248  N/A\n",
    "    130625.      1.88703      4.19576  N/A\n",
    "\"\"\"\n",
    "candidates = Table.read(candidates,format='ascii')\n",
    "\n",
    "hostdct = dict([(h.name, h) for h in hostlst])\n",
    "candhosts = [hostdct[name] if name in hostdct else hosts.NSAHost(int(nsaid)) \n",
    "         for nsaid, name in zip(candidates['NSAID'], candidates['Name'])]\n",
    "candhosts"
   ]
  },
  {
   "cell_type": "code",
   "execution_count": 7,
   "metadata": {
    "collapsed": true
   },
   "outputs": [],
   "source": [
    "# now set to the latest base catalogs\n",
    "for h in candhosts:\n",
    "    h.fnsdss = 'catalogs/base_sql_nsa{0}.fits.gz'.format(h.nsaid)\n",
    "    h._cached_sdss = None"
   ]
  },
  {
   "cell_type": "code",
   "execution_count": 8,
   "metadata": {
    "collapsed": false
   },
   "outputs": [
    {
     "data": {
      "text/html": [
       "&lt;Table masked=False length=68227&gt;\n",
       "<table id=\"table5493319120\">\n",
       "<thead><tr><th>objID</th><th>ra</th><th>dec</th><th>flags</th><th>specObjID</th><th>u</th><th>g</th><th>r</th><th>i</th><th>z</th><th>u_err</th><th>g_err</th><th>r_err</th><th>i_err</th><th>z_err</th><th>Au</th><th>Ag</th><th>Ar</th><th>Ai</th><th>Az</th><th>fibermag_r</th><th>fiber2mag_r</th><th>expRad_r</th><th>sb_exp_r</th><th>petroR50_r</th><th>petroR90_r</th><th>petroMag_r</th><th>sb_petro_r</th><th>J</th><th>Jerr</th><th>H</th><th>Herr</th><th>K</th><th>Kerr</th><th>w1</th><th>w1err</th><th>w2</th><th>w2err</th><th>spec_z</th><th>spec_z_err</th><th>spec_z_warn</th><th>photoz</th><th>photoz_err</th><th>HOST_RA</th><th>HOST_DEC</th><th>HOST_DIST</th><th>HOST_VHOST</th><th>HOST_MK</th><th>HOST_NSAID</th><th>HOST_FLAG</th><th>HOST_SAGA_NAME</th><th>RHOST_ARCM</th><th>RHOST_KPC</th><th>OBJ_NSAID</th><th>PCLASS_1</th><th>SATS</th><th>REMOVE</th><th>TELNAME</th><th>MASKNAME</th><th>ZQUALITY</th><th>SPEC_REPEAT</th><th>U</th><th>B</th><th>V</th><th>R</th><th>I</th><th>rhost</th><th>rhost_kpc</th><th>type</th><th>phot_sg</th></tr></thead>\n",
       "<thead><tr><th>int64</th><th>float64</th><th>float64</th><th>int64</th><th>int64</th><th>float32</th><th>float32</th><th>float32</th><th>float32</th><th>float32</th><th>float32</th><th>float32</th><th>float32</th><th>float32</th><th>float32</th><th>float32</th><th>float32</th><th>float32</th><th>float32</th><th>float32</th><th>float32</th><th>float32</th><th>float32</th><th>float64</th><th>float32</th><th>float32</th><th>float32</th><th>float64</th><th>float32</th><th>float32</th><th>float32</th><th>float32</th><th>float32</th><th>float32</th><th>float32</th><th>float32</th><th>float32</th><th>float32</th><th>float32</th><th>float32</th><th>int32</th><th>float32</th><th>float32</th><th>float64</th><th>float64</th><th>float64</th><th>float64</th><th>float64</th><th>int64</th><th>int64</th><th>string384</th><th>float64</th><th>float64</th><th>int64</th><th>int64</th><th>int64</th><th>int64</th><th>string32</th><th>string384</th><th>float64</th><th>string384</th><th>float32</th><th>float32</th><th>float32</th><th>float32</th><th>float32</th><th>float64</th><th>float64</th><th>int16</th><th>string48</th></tr></thead>\n",
       "<tr><td>1237678622239687293</td><td>28.2921893761</td><td>4.1654677952</td><td>387097114444048</td><td>0</td><td>24.8861</td><td>24.5384</td><td>22.9648</td><td>21.9456</td><td>21.3148</td><td>0.966116</td><td>0.565863</td><td>0.238203</td><td>0.135154</td><td>0.280791</td><td>0.19371</td><td>0.14253</td><td>0.103375</td><td>0.0783858</td><td>0.0555765</td><td>22.261</td><td>22.9741</td><td>0.132225</td><td>20.5668021324</td><td>0.641864</td><td>1.37584</td><td>22.9859</td><td>24.0185837122</td><td>9999.0</td><td>9999.0</td><td>9999.0</td><td>9999.0</td><td>9999.0</td><td>9999.0</td><td>17.9499</td><td>0.207252</td><td>16.003</td><td>0.175</td><td>-1.0</td><td>-1.0</td><td>-1</td><td>0.595791</td><td>0.082322</td><td>28.3054</td><td>4.19576</td><td>22.7469</td><td>1733.0</td><td>8.726</td><td>130625</td><td>0</td><td></td><td>1.98200266096</td><td>13.114524378</td><td>-1</td><td>-1</td><td>-1</td><td>-1</td><td></td><td></td><td>-1.0</td><td></td><td>25.4448</td><td>25.2499</td><td>23.6333</td><td>22.6919</td><td>21.3051</td><td>0.0330198482762</td><td>12.9620185552</td><td>3</td><td>GALAXY</td></tr>\n",
       "<tr><td>1237678622239687535</td><td>28.2808531784</td><td>4.17348908215</td><td>281543964623616</td><td>0</td><td>24.2549</td><td>23.1379</td><td>21.9114</td><td>21.7858</td><td>21.6071</td><td>0.975535</td><td>0.212821</td><td>0.0979778</td><td>0.120167</td><td>0.359127</td><td>0.193723</td><td>0.142539</td><td>0.103381</td><td>0.078391</td><td>0.0555802</td><td>22.2951</td><td>22.7768</td><td>0.216964</td><td>20.5887781366</td><td>0.590522</td><td>1.3195</td><td>22.0478</td><td>22.8994797037</td><td>9999.0</td><td>9999.0</td><td>9999.0</td><td>9999.0</td><td>9999.0</td><td>9999.0</td><td>19.4984</td><td>0.848584</td><td>9999.0</td><td>9999.0</td><td>-1.0</td><td>-1.0</td><td>-1</td><td>-1.0</td><td>-1.0</td><td>28.3054</td><td>4.19576</td><td>22.7469</td><td>1733.0</td><td>8.726</td><td>130625</td><td>0</td><td></td><td>1.98573241428</td><td>13.1392034243</td><td>-1</td><td>-1</td><td>-1</td><td>-1</td><td></td><td></td><td>-1.0</td><td></td><td>24.1516</td><td>23.7408</td><td>22.4289</td><td>21.7752</td><td>21.3198</td><td>0.0330706320147</td><td>12.9819538303</td><td>6</td><td>STAR</td></tr>\n",
       "<tr><td>1237678622239687551</td><td>28.2892305507</td><td>4.1666156998</td><td>281543964623104</td><td>0</td><td>23.538</td><td>23.6733</td><td>22.7989</td><td>22.2601</td><td>21.7235</td><td>0.647714</td><td>0.320625</td><td>0.201627</td><td>0.175092</td><td>0.371933</td><td>0.193668</td><td>0.142499</td><td>0.103352</td><td>0.078369</td><td>0.0555646</td><td>22.9504</td><td>23.4056</td><td>0.00149116</td><td>10.6619883934</td><td>-9999.0</td><td>-9999.0</td><td>27.0005</td><td>48.9956979059</td><td>9999.0</td><td>9999.0</td><td>9999.0</td><td>9999.0</td><td>9999.0</td><td>9999.0</td><td>17.5289</td><td>0.137348</td><td>9999.0</td><td>9999.0</td><td>-1.0</td><td>-1.0</td><td>-1</td><td>0.637883</td><td>0.137668</td><td>28.3054</td><td>4.19576</td><td>22.7469</td><td>1733.0</td><td>8.726</td><td>130625</td><td>0</td><td></td><td>1.99849702866</td><td>13.2236643743</td><td>-1</td><td>-1</td><td>-1</td><td>-1</td><td></td><td></td><td>-1.0</td><td></td><td>23.739</td><td>24.1659</td><td>23.1633</td><td>22.5995</td><td>21.656</td><td>0.0332919091918</td><td>13.0688167029</td><td>3</td><td>GALAXY</td></tr>\n",
       "<tr><td>1237678661436375815</td><td>28.3178710528</td><td>4.22726178032</td><td>281543964623616</td><td>0</td><td>26.1572</td><td>22.1578</td><td>21.4868</td><td>20.0189</td><td>19.5865</td><td>1.65004</td><td>0.2729</td><td>0.266116</td><td>0.109058</td><td>0.29841</td><td>0.196014</td><td>0.144225</td><td>0.104604</td><td>0.079318</td><td>0.0562375</td><td>23.1452</td><td>23.5192</td><td>0.264709</td><td>21.7103790809</td><td>3.99238</td><td>6.47142</td><td>21.4839</td><td>26.4855161938</td><td>9999.0</td><td>9999.0</td><td>9999.0</td><td>9999.0</td><td>9999.0</td><td>9999.0</td><td>18.7934</td><td>0.469792</td><td>9999.0</td><td>9999.0</td><td>-1.0</td><td>-1.0</td><td>-1</td><td>0.9529</td><td>0.184473</td><td>28.3054</td><td>4.19576</td><td>22.7469</td><td>1733.0</td><td>8.726</td><td>130625</td><td>0</td><td></td><td>2.03209360161</td><td>13.4459663078</td><td>-1</td><td>-1</td><td>-1</td><td>-1</td><td></td><td></td><td>-1.0</td><td></td><td>24.2021</td><td>22.5868</td><td>21.7627</td><td>21.1452</td><td>19.455</td><td>0.0338807234169</td><td>13.2999571021</td><td>3</td><td>GALAXY</td></tr>\n",
       "<tr><td>1237678661436375822</td><td>28.3379290684</td><td>4.18852269949</td><td>281475245277440</td><td>0</td><td>23.64</td><td>23.186</td><td>23.3671</td><td>21.5564</td><td>21.3618</td><td>0.947116</td><td>0.258817</td><td>0.522418</td><td>0.157588</td><td>0.518212</td><td>0.195576</td><td>0.143903</td><td>0.10437</td><td>0.079141</td><td>0.0561119</td><td>23.8665</td><td>24.1587</td><td>4.25089</td><td>27.4210324564</td><td>0.841304</td><td>1.10107</td><td>23.5624</td><td>25.1826394487</td><td>9999.0</td><td>9999.0</td><td>9999.0</td><td>9999.0</td><td>9999.0</td><td>9999.0</td><td>17.6542</td><td>0.157534</td><td>9999.0</td><td>9999.0</td><td>-1.0</td><td>-1.0</td><td>-1</td><td>0.465791</td><td>0.248365</td><td>28.3054</td><td>4.19576</td><td>22.7469</td><td>1733.0</td><td>8.726</td><td>130625</td><td>0</td><td></td><td>1.99436115266</td><td>13.1962980939</td><td>-1</td><td>-1</td><td>-1</td><td>-1</td><td></td><td></td><td>-1.0</td><td></td><td>22.6684</td><td>23.3483</td><td>23.2723</td><td>22.973</td><td>21.0843</td><td>0.0332725715253</td><td>13.0612256568</td><td>3</td><td>GALAXY</td></tr>\n",
       "<tr><td>1237678622239687292</td><td>28.2917688682</td><td>4.16479395685</td><td>35253360001296</td><td>0</td><td>24.8854</td><td>22.4322</td><td>20.8396</td><td>20.1583</td><td>19.794</td><td>1.14023</td><td>0.136569</td><td>0.0478744</td><td>0.0372707</td><td>0.0961961</td><td>0.193663</td><td>0.142496</td><td>0.10335</td><td>0.0783669</td><td>0.0555631</td><td>21.3316</td><td>21.8734</td><td>0.49728</td><td>21.3671699956</td><td>0.739849</td><td>1.4289</td><td>20.9981</td><td>22.3392465997</td><td>9999.0</td><td>9999.0</td><td>9999.0</td><td>9999.0</td><td>9999.0</td><td>9999.0</td><td>16.5348</td><td>0.0570116</td><td>16.003</td><td>0.175</td><td>-1.0</td><td>-1.0</td><td>-1</td><td>0.345857</td><td>0.044286</td><td>28.3054</td><td>4.19576</td><td>22.7469</td><td>1733.0</td><td>8.726</td><td>130625</td><td>0</td><td></td><td>2.02912597199</td><td>13.4263300847</td><td>-1</td><td>-1</td><td>-1</td><td>-1</td><td></td><td></td><td>-1.0</td><td></td><td>24.4495</td><td>23.1497</td><td>21.5164</td><td>20.6184</td><td>19.6207</td><td>0.0338051365541</td><td>13.2702853026</td><td>3</td><td>GALAXY</td></tr>\n",
       "<tr><td>1237678622239687263</td><td>28.2785906624</td><td>4.17256153768</td><td>68987912192</td><td>0</td><td>22.437</td><td>22.2749</td><td>21.9031</td><td>21.5441</td><td>21.0537</td><td>0.301761</td><td>0.111471</td><td>0.107753</td><td>0.109759</td><td>0.258509</td><td>0.193598</td><td>0.142448</td><td>0.103315</td><td>0.0783407</td><td>0.0555445</td><td>22.4029</td><td>22.8865</td><td>0.284266</td><td>21.2644739993</td><td>0.715276</td><td>2.12805</td><td>21.9444</td><td>23.2122412593</td><td>9999.0</td><td>9999.0</td><td>9999.0</td><td>9999.0</td><td>9999.0</td><td>9999.0</td><td>17.9026</td><td>0.197643</td><td>9999.0</td><td>9999.0</td><td>-1.0</td><td>-1.0</td><td>-1</td><td>0.518033</td><td>0.230517</td><td>28.3054</td><td>4.19576</td><td>22.7469</td><td>1733.0</td><td>8.726</td><td>130625</td><td>0</td><td></td><td>2.12391677522</td><td>14.0535422304</td><td>-1</td><td>-1</td><td>-1</td><td>-1</td><td></td><td></td><td>-1.0</td><td></td><td>22.0717</td><td>22.6103</td><td>22.0488</td><td>21.7312</td><td>20.9578</td><td>0.0353732180623</td><td>13.8858393607</td><td>3</td><td>GALAXY</td></tr>\n",
       "<tr><td>1237678622239687355</td><td>28.317615598</td><td>4.16035999997</td><td>68987912448</td><td>0</td><td>24.6528</td><td>22.4202</td><td>21.0329</td><td>20.1181</td><td>19.6314</td><td>0.988633</td><td>0.1123</td><td>0.0464221</td><td>0.0298679</td><td>0.0680462</td><td>0.194532</td><td>0.143135</td><td>0.103813</td><td>0.0787184</td><td>0.0558123</td><td>21.4148</td><td>21.8894</td><td>0.134396</td><td>18.6702714928</td><td>0.602739</td><td>1.29098</td><td>21.1472</td><td>22.0433274638</td><td>9999.0</td><td>9999.0</td><td>9999.0</td><td>9999.0</td><td>9999.0</td><td>9999.0</td><td>17.5503</td><td>0.144116</td><td>9999.0</td><td>9999.0</td><td>-1.0</td><td>-1.0</td><td>-1</td><td>-1.0</td><td>-1.0</td><td>28.3054</td><td>4.19576</td><td>22.7469</td><td>1733.0</td><td>8.726</td><td>130625</td><td>0</td><td></td><td>2.24626253905</td><td>14.8630801279</td><td>-1</td><td>-1</td><td>-1</td><td>-1</td><td></td><td></td><td>-1.0</td><td></td><td>24.1496</td><td>23.0734</td><td>21.6204</td><td>20.7759</td><td>19.5332</td><td>0.0374487260172</td><td>14.7005848556</td><td>6</td><td>STAR</td></tr>\n",
       "<tr><td>1237678622239687540</td><td>28.2854441287</td><td>4.16744059371</td><td>281709320864000</td><td>0</td><td>23.6376</td><td>23.199</td><td>22.6041</td><td>21.9568</td><td>23.058</td><td>0.765882</td><td>0.246727</td><td>0.205209</td><td>0.158546</td><td>0.663069</td><td>0.193582</td><td>0.142436</td><td>0.103306</td><td>0.078334</td><td>0.0555398</td><td>23.077</td><td>23.4839</td><td>0.5127</td><td>23.1488414714</td><td>0.4697</td><td>0.626725</td><td>23.3414</td><td>23.695924302</td><td>9999.0</td><td>9999.0</td><td>9999.0</td><td>9999.0</td><td>9999.0</td><td>9999.0</td><td>18.7502</td><td>0.426666</td><td>9999.0</td><td>9999.0</td><td>-1.0</td><td>-1.0</td><td>-1</td><td>-1.0</td><td>-1.0</td><td>28.3054</td><td>4.19576</td><td>22.7469</td><td>1733.0</td><td>8.726</td><td>130625</td><td>0</td><td></td><td>2.07680949505</td><td>13.741842602</td><td>-1</td><td>-1</td><td>-1</td><td>-1</td><td></td><td></td><td>-1.0</td><td></td><td>23.3276</td><td>23.6042</td><td>22.8469</td><td>22.388</td><td>21.9849</td><td>0.0345941031141</td><td>13.5799959683</td><td>6</td><td>STAR</td></tr>\n",
       "<tr><td>1237678661436375790</td><td>28.2743655653</td><td>4.17756344018</td><td>281543964623616</td><td>0</td><td>23.0452</td><td>22.9204</td><td>22.2098</td><td>21.032</td><td>20.5333</td><td>0.869996</td><td>0.303503</td><td>0.284831</td><td>0.162063</td><td>0.393095</td><td>0.193699</td><td>0.142522</td><td>0.103369</td><td>0.0783816</td><td>0.0555735</td><td>23.1652</td><td>23.5771</td><td>0.459962</td><td>22.9237530989</td><td>0.450175</td><td>0.726173</td><td>23.3034</td><td>23.5657901291</td><td>9999.0</td><td>9999.0</td><td>9999.0</td><td>9999.0</td><td>9999.0</td><td>9999.0</td><td>17.7919</td><td>0.178107</td><td>9999.0</td><td>9999.0</td><td>-1.0</td><td>-1.0</td><td>-1</td><td>0.772022</td><td>0.099808</td><td>28.3054</td><td>4.19576</td><td>22.7469</td><td>1733.0</td><td>8.726</td><td>130625</td><td>0</td><td></td><td>2.15423834412</td><td>14.2541741001</td><td>-1</td><td>-1</td><td>-1</td><td>-1</td><td></td><td></td><td>-1.0</td><td></td><td>22.9834</td><td>23.3618</td><td>22.5029</td><td>21.9126</td><td>20.4425</td><td>0.0358749854863</td><td>14.0828093349</td><td>3</td><td>GALAXY</td></tr>\n",
       "<tr><td>...</td><td>...</td><td>...</td><td>...</td><td>...</td><td>...</td><td>...</td><td>...</td><td>...</td><td>...</td><td>...</td><td>...</td><td>...</td><td>...</td><td>...</td><td>...</td><td>...</td><td>...</td><td>...</td><td>...</td><td>...</td><td>...</td><td>...</td><td>...</td><td>...</td><td>...</td><td>...</td><td>...</td><td>...</td><td>...</td><td>...</td><td>...</td><td>...</td><td>...</td><td>...</td><td>...</td><td>...</td><td>...</td><td>...</td><td>...</td><td>...</td><td>...</td><td>...</td><td>...</td><td>...</td><td>...</td><td>...</td><td>...</td><td>...</td><td>...</td><td>...</td><td>...</td><td>...</td><td>...</td><td>...</td><td>...</td><td>...</td><td>...</td><td>...</td><td>...</td><td>...</td><td>...</td><td>...</td><td>...</td><td>...</td><td>...</td><td>...</td><td>...</td><td>...</td><td>...</td></tr>\n",
       "<tr><td>1237678662510051824</td><td>28.1978918711</td><td>5.14723189572</td><td>68987912960</td><td>0</td><td>22.835</td><td>22.8679</td><td>22.2923</td><td>21.348</td><td>21.0173</td><td>0.43458</td><td>0.18545</td><td>0.189791</td><td>0.136224</td><td>0.309703</td><td>0.232813</td><td>0.171301</td><td>0.124242</td><td>0.094209</td><td>0.0667953</td><td>22.8175</td><td>23.2701</td><td>0.384638</td><td>22.2634849533</td><td>0.695914</td><td>1.93372</td><td>22.4905</td><td>23.6986828876</td><td>9999.0</td><td>9999.0</td><td>9999.0</td><td>9999.0</td><td>9999.0</td><td>9999.0</td><td>17.5179</td><td>0.146592</td><td>17.001</td><td>0.42</td><td>-1.0</td><td>-1.0</td><td>-1</td><td>0.714825</td><td>0.153503</td><td>28.3054</td><td>4.19576</td><td>22.7469</td><td>1733.0</td><td>8.726</td><td>130625</td><td>0</td><td></td><td>57.4496442549</td><td>380.115399837</td><td>-1</td><td>-1</td><td>-1</td><td>-1</td><td></td><td></td><td>-1.0</td><td></td><td>22.7351</td><td>23.2671</td><td>22.5267</td><td>22.0308</td><td>20.8233</td><td>0.957482542474</td><td>375.862008147</td><td>3</td><td>GALAXY</td></tr>\n",
       "<tr><td>1237678662510117288</td><td>28.366052839</td><td>5.18434052911</td><td>475064453693712</td><td>0</td><td>24.0673</td><td>21.5714</td><td>20.4574</td><td>20.3186</td><td>20.0059</td><td>1.87345</td><td>0.10333</td><td>0.0668043</td><td>0.0973249</td><td>0.246676</td><td>0.219571</td><td>0.161559</td><td>0.117176</td><td>0.0888508</td><td>0.0629963</td><td>21.5941</td><td>22.2688</td><td>2.40543</td><td>24.3588035598</td><td>1.85362</td><td>5.29638</td><td>20.4103</td><td>23.7458234017</td><td>9999.0</td><td>9999.0</td><td>9999.0</td><td>9999.0</td><td>9999.0</td><td>9999.0</td><td>17.164</td><td>0.122086</td><td>17.0</td><td>0.412</td><td>-1.0</td><td>-1.0</td><td>-1</td><td>0.353705</td><td>0.071566</td><td>28.3054</td><td>4.19576</td><td>22.7469</td><td>1733.0</td><td>8.726</td><td>130625</td><td>0</td><td></td><td>59.4257682552</td><td>393.189137686</td><td>-1</td><td>-1</td><td>-1</td><td>-1</td><td></td><td></td><td>-1.0</td><td></td><td>23.2073</td><td>22.139</td><td>20.926</td><td>20.3192</td><td>19.8009</td><td>0.990429148022</td><td>388.795275098</td><td>3</td><td>GALAXY</td></tr>\n",
       "<tr><td>1237678662510051901</td><td>28.2366528561</td><td>5.17101673671</td><td>68987912192</td><td>0</td><td>23.4131</td><td>21.807</td><td>20.5451</td><td>20.1159</td><td>19.7268</td><td>0.667875</td><td>0.0723558</td><td>0.0406074</td><td>0.044898</td><td>0.0975306</td><td>0.230716</td><td>0.169758</td><td>0.123123</td><td>0.0933604</td><td>0.0661937</td><td>20.95</td><td>21.4589</td><td>0.376881</td><td>20.4339937586</td><td>0.851906</td><td>1.98692</td><td>20.549</td><td>22.1964234089</td><td>9999.0</td><td>9999.0</td><td>9999.0</td><td>9999.0</td><td>9999.0</td><td>9999.0</td><td>17.6285</td><td>0.160168</td><td>16.997</td><td>9999.0</td><td>-1.0</td><td>-1.0</td><td>-1</td><td>-1.0</td><td>-1.0</td><td>28.3054</td><td>4.19576</td><td>22.7469</td><td>1733.0</td><td>8.726</td><td>130625</td><td>0</td><td></td><td>58.6598300601</td><td>388.121821481</td><td>-1</td><td>-1</td><td>-1</td><td>-1</td><td></td><td></td><td>-1.0</td><td></td><td>23.105</td><td>22.421</td><td>21.078</td><td>20.3624</td><td>19.5687</td><td>0.977658355025</td><td>383.782070482</td><td>6</td><td>STAR</td></tr>\n",
       "<tr><td>1237678662510051760</td><td>28.1790396948</td><td>5.10886184428</td><td>158546838815488</td><td>0</td><td>24.2557</td><td>21.8127</td><td>20.9027</td><td>20.3831</td><td>19.8871</td><td>1.57221</td><td>0.103221</td><td>0.0775017</td><td>0.0818927</td><td>0.17112</td><td>0.235048</td><td>0.172946</td><td>0.125435</td><td>0.0951136</td><td>0.0674367</td><td>21.6603</td><td>22.2323</td><td>0.932007</td><td>22.8631645705</td><td>1.13129</td><td>2.34753</td><td>21.0519</td><td>23.3152236291</td><td>9999.0</td><td>9999.0</td><td>9999.0</td><td>9999.0</td><td>9999.0</td><td>9999.0</td><td>17.1174</td><td>0.103161</td><td>16.532</td><td>9999.0</td><td>-1.0</td><td>-1.0</td><td>-1</td><td>0.077721</td><td>0.034726</td><td>28.3054</td><td>4.19576</td><td>22.7469</td><td>1733.0</td><td>8.726</td><td>130625</td><td>0</td><td></td><td>55.3054351766</td><td>365.929494562</td><td>-1</td><td>-1</td><td>-1</td><td>-1</td><td></td><td></td><td>-1.0</td><td></td><td>23.2492</td><td>22.3166</td><td>21.2825</td><td>20.7062</td><td>19.7946</td><td>0.921741950142</td><td>361.831955158</td><td>3</td><td>GALAXY</td></tr>\n",
       "<tr><td>1237678662510052228</td><td>28.1964591132</td><td>5.17059183035</td><td>281543964623104</td><td>0</td><td>22.8561</td><td>23.8359</td><td>23.0913</td><td>21.2438</td><td>21.309</td><td>0.582493</td><td>0.542878</td><td>0.498974</td><td>0.164184</td><td>0.540072</td><td>0.234334</td><td>0.172421</td><td>0.125054</td><td>0.0948247</td><td>0.0672319</td><td>23.7238</td><td>24.1021</td><td>2.12049</td><td>26.2922673499</td><td>1.4782</td><td>2.46477</td><td>22.9259</td><td>25.7699724815</td><td>9999.0</td><td>9999.0</td><td>9999.0</td><td>9999.0</td><td>9999.0</td><td>9999.0</td><td>17.1515</td><td>0.1009</td><td>16.886</td><td>9999.0</td><td>-1.0</td><td>-1.0</td><td>-1</td><td>0.648154</td><td>0.136716</td><td>28.3054</td><td>4.19576</td><td>22.7469</td><td>1733.0</td><td>8.726</td><td>130625</td><td>0</td><td></td><td>58.8520693103</td><td>389.393645328</td><td>-1</td><td>-1</td><td>-1</td><td>-1</td><td></td><td></td><td>-1.0</td><td></td><td>23.3532</td><td>24.288</td><td>23.3992</td><td>22.6917</td><td>20.872</td><td>0.980856108509</td><td>385.03735608</td><td>3</td><td>GALAXY</td></tr>\n",
       "<tr><td>1237678662510051364</td><td>28.1972137678</td><td>5.18726645925</td><td>105622137864464</td><td>0</td><td>23.8923</td><td>24.8766</td><td>22.4492</td><td>20.7306</td><td>19.8729</td><td>0.821675</td><td>0.615349</td><td>0.19468</td><td>0.0701122</td><td>0.100044</td><td>0.23465</td><td>0.172653</td><td>0.125222</td><td>0.0949523</td><td>0.0673223</td><td>22.9415</td><td>23.2767</td><td>0.000197307</td><td>5.92028648453</td><td>0.561992</td><td>1.02767</td><td>22.795</td><td>23.5390627526</td><td>9999.0</td><td>9999.0</td><td>9999.0</td><td>9999.0</td><td>9999.0</td><td>9999.0</td><td>16.5881</td><td>0.0591522</td><td>16.217</td><td>0.202</td><td>-1.0</td><td>-1.0</td><td>-1</td><td>-1.0</td><td>-1.0</td><td>28.3054</td><td>4.19576</td><td>22.7469</td><td>1733.0</td><td>8.726</td><td>130625</td><td>0</td><td></td><td>59.8415908781</td><td>395.940140938</td><td>-1</td><td>-1</td><td>-1</td><td>-1</td><td></td><td></td><td>-1.0</td><td></td><td>25.8101</td><td>25.8554</td><td>23.4891</td><td>22.0693</td><td>20.0025</td><td>0.997348321978</td><td>391.511412993</td><td>6</td><td>STAR</td></tr>\n",
       "<tr><td>1237678662510116982</td><td>28.3337069795</td><td>5.10776644478</td><td>316730484326744</td><td>0</td><td>25.7161</td><td>24.8698</td><td>22.8344</td><td>21.5809</td><td>21.6903</td><td>0.651058</td><td>0.58195</td><td>0.26501</td><td>0.135785</td><td>0.44091</td><td>0.215469</td><td>0.15854</td><td>0.114986</td><td>0.0871907</td><td>0.0618193</td><td>22.6697</td><td>23.1127</td><td>0.0244326</td><td>16.7697111734</td><td>0.42014</td><td>0.821837</td><td>23.2889</td><td>23.4013678762</td><td>9999.0</td><td>9999.0</td><td>9999.0</td><td>9999.0</td><td>9999.0</td><td>9999.0</td><td>17.3609</td><td>0.12634</td><td>17.228</td><td>9999.0</td><td>-1.0</td><td>-1.0</td><td>-1</td><td>-1.0</td><td>-1.0</td><td>28.3054</td><td>4.19576</td><td>22.7469</td><td>1733.0</td><td>8.726</td><td>130625</td><td>0</td><td></td><td>54.7465971912</td><td>362.232246272</td><td>-1</td><td>-1</td><td>-1</td><td>-1</td><td></td><td></td><td>-1.0</td><td></td><td>26.4247</td><td>25.7258</td><td>23.7038</td><td>22.5256</td><td>21.2261</td><td>0.912443917985</td><td>358.181990921</td><td>6</td><td>STAR</td></tr>\n",
       "<tr><td>1237678662509985985</td><td>28.1009061015</td><td>5.10763501063</td><td>175990882046040</td><td>0</td><td>24.5062</td><td>22.5907</td><td>21.7351</td><td>21.4088</td><td>21.9126</td><td>1.19335</td><td>0.14864</td><td>0.120664</td><td>0.146045</td><td>0.654929</td><td>0.24698</td><td>0.181726</td><td>0.131803</td><td>0.0999419</td><td>0.0708601</td><td>21.8574</td><td>22.5122</td><td>0.528794</td><td>22.3470208491</td><td>0.819656</td><td>1.44438</td><td>21.8814</td><td>23.4450368489</td><td>9999.0</td><td>9999.0</td><td>9999.0</td><td>9999.0</td><td>9999.0</td><td>9999.0</td><td>9999.0</td><td>9999.0</td><td>16.984</td><td>0.506</td><td>-1.0</td><td>-1.0</td><td>-1</td><td>0.294265</td><td>0.18018</td><td>28.3054</td><td>4.19576</td><td>22.7469</td><td>1733.0</td><td>8.726</td><td>130625</td><td>0</td><td></td><td>56.0642111907</td><td>370.949508831</td><td>-1</td><td>-1</td><td>-1</td><td>-1</td><td></td><td></td><td>-1.0</td><td></td><td>23.707</td><td>23.0775</td><td>22.0913</td><td>21.5682</td><td>21.2062</td><td>0.93436838814</td><td>366.788492882</td><td>3</td><td>GALAXY</td></tr>\n",
       "<tr><td>1237678662509986579</td><td>28.1208007307</td><td>5.16413373448</td><td>281543964623104</td><td>0</td><td>25.0982</td><td>23.3477</td><td>21.843</td><td>21.0768</td><td>20.5302</td><td>1.20313</td><td>0.319962</td><td>0.148596</td><td>0.123131</td><td>0.250725</td><td>0.242153</td><td>0.178174</td><td>0.129227</td><td>0.0979886</td><td>0.0694751</td><td>22.3536</td><td>22.9275</td><td>0.588846</td><td>22.688425308</td><td>0.844619</td><td>1.27574</td><td>22.1939</td><td>23.822636445</td><td>9999.0</td><td>9999.0</td><td>9999.0</td><td>9999.0</td><td>9999.0</td><td>9999.0</td><td>17.0441</td><td>0.0927619</td><td>16.665</td><td>9999.0</td><td>-1.0</td><td>-1.0</td><td>-1</td><td>0.414299</td><td>0.06056</td><td>28.3054</td><td>4.19576</td><td>22.7469</td><td>1733.0</td><td>8.726</td><td>130625</td><td>0</td><td></td><td>59.1431466447</td><td>391.319363668</td><td>-1</td><td>-1</td><td>-1</td><td>-1</td><td></td><td></td><td>-1.0</td><td></td><td>24.9255</td><td>24.0377</td><td>22.4815</td><td>21.6087</td><td>20.4688</td><td>0.985689958387</td><td>386.934895139</td><td>3</td><td>GALAXY</td></tr>\n",
       "<tr><td>1237678662510052098</td><td>28.1652722636</td><td>5.15719765697</td><td>281543964758272</td><td>0</td><td>25.3852</td><td>23.2427</td><td>21.7037</td><td>21.4723</td><td>20.9145</td><td>1.02012</td><td>0.289176</td><td>0.12863</td><td>0.174122</td><td>0.333022</td><td>0.236477</td><td>0.173998</td><td>0.126198</td><td>0.0956919</td><td>0.0678467</td><td>22.279</td><td>22.7886</td><td>0.781781</td><td>23.2584532609</td><td>1.10817</td><td>3.26681</td><td>21.6195</td><td>23.8379656269</td><td>9999.0</td><td>9999.0</td><td>9999.0</td><td>9999.0</td><td>9999.0</td><td>9999.0</td><td>17.4795</td><td>0.139538</td><td>16.441</td><td>0.249</td><td>-1.0</td><td>-1.0</td><td>-1</td><td>0.38437</td><td>0.098365</td><td>28.3054</td><td>4.19576</td><td>22.7469</td><td>1733.0</td><td>8.726</td><td>130625</td><td>0</td><td></td><td>58.2924947433</td><td>385.691586949</td><td>-1</td><td>-1</td><td>-1</td><td>-1</td><td></td><td></td><td>-1.0</td><td></td><td>25.0531</td><td>23.9433</td><td>22.3571</td><td>21.5513</td><td>20.86</td><td>0.971523519244</td><td>381.373826369</td><td>3</td><td>GALAXY</td></tr>\n",
       "</table>"
      ],
      "text/plain": [
       "<Table masked=False length=68227>\n",
       "       objID              ra           dec      ...   rhost_kpc    type phot_sg \n",
       "       int64           float64       float64    ...    float64    int16 string48\n",
       "------------------- ------------- ------------- ... ------------- ----- --------\n",
       "1237678622239687293 28.2921893761  4.1654677952 ... 12.9620185552     3   GALAXY\n",
       "1237678622239687535 28.2808531784 4.17348908215 ... 12.9819538303     6     STAR\n",
       "1237678622239687551 28.2892305507  4.1666156998 ... 13.0688167029     3   GALAXY\n",
       "1237678661436375815 28.3178710528 4.22726178032 ... 13.2999571021     3   GALAXY\n",
       "1237678661436375822 28.3379290684 4.18852269949 ... 13.0612256568     3   GALAXY\n",
       "1237678622239687292 28.2917688682 4.16479395685 ... 13.2702853026     3   GALAXY\n",
       "1237678622239687263 28.2785906624 4.17256153768 ... 13.8858393607     3   GALAXY\n",
       "1237678622239687355  28.317615598 4.16035999997 ... 14.7005848556     6     STAR\n",
       "1237678622239687540 28.2854441287 4.16744059371 ... 13.5799959683     6     STAR\n",
       "1237678661436375790 28.2743655653 4.17756344018 ... 14.0828093349     3   GALAXY\n",
       "                ...           ...           ... ...           ...   ...      ...\n",
       "1237678662510051824 28.1978918711 5.14723189572 ... 375.862008147     3   GALAXY\n",
       "1237678662510117288  28.366052839 5.18434052911 ... 388.795275098     3   GALAXY\n",
       "1237678662510051901 28.2366528561 5.17101673671 ... 383.782070482     6     STAR\n",
       "1237678662510051760 28.1790396948 5.10886184428 ... 361.831955158     3   GALAXY\n",
       "1237678662510052228 28.1964591132 5.17059183035 ...  385.03735608     3   GALAXY\n",
       "1237678662510051364 28.1972137678 5.18726645925 ... 391.511412993     6     STAR\n",
       "1237678662510116982 28.3337069795 5.10776644478 ... 358.181990921     6     STAR\n",
       "1237678662509985985 28.1009061015 5.10763501063 ... 366.788492882     3   GALAXY\n",
       "1237678662509986579 28.1208007307 5.16413373448 ... 386.934895139     3   GALAXY\n",
       "1237678662510052098 28.1652722636 5.15719765697 ... 381.373826369     3   GALAXY"
      ]
     },
     "execution_count": 8,
     "metadata": {},
     "output_type": "execute_result"
    }
   ],
   "source": [
    "# actually make sure they're loaded here\n",
    "for h in candhosts:\n",
    "    h.get_sdss_catalog()\n",
    "h.get_sdss_catalog() # just to see"
   ]
  },
  {
   "cell_type": "markdown",
   "metadata": {},
   "source": [
    "# Testing w/ NSA 150887"
   ]
  },
  {
   "cell_type": "code",
   "execution_count": 9,
   "metadata": {
    "collapsed": false
   },
   "outputs": [],
   "source": [
    "n150887 = candhosts[0]\n",
    "hosts_to_target = [n150887]"
   ]
  },
  {
   "cell_type": "code",
   "execution_count": 10,
   "metadata": {
    "collapsed": true
   },
   "outputs": [],
   "source": [
    "p_column_for_ranking = 'PROBABILITY_CLASS_1' #this is *just* SDSS"
   ]
  },
  {
   "cell_type": "code",
   "execution_count": 11,
   "metadata": {
    "collapsed": false
   },
   "outputs": [
    {
     "data": {
      "text/html": [
       "&lt;Table masked=False length=4950412&gt;\n",
       "<table id=\"table5108022992\">\n",
       "<thead><tr><th>OBJID</th><th>RA</th><th>DEC</th><th>DERED_R</th><th>PROBABILITY_CLASS_1</th><th>RESCALED_PROBABILITY_CLASS_1</th><th>BEST_GUESS_CLASS</th><th>objID</th></tr></thead>\n",
       "<thead><tr><th>int64</th><th>float64</th><th>float64</th><th>float64</th><th>float64</th><th>float64</th><th>int64</th><th>int64</th></tr></thead>\n",
       "<tr><td>1237645941824356440</td><td>40.2877964113</td><td>-0.735647060949</td><td>16.7594</td><td>0.00157168316197</td><td>0.000345859198981</td><td>0</td><td>1237645941824356440</td></tr>\n",
       "<tr><td>1237645941824356442</td><td>40.2745834514</td><td>-0.733014063478</td><td>17.4514</td><td>0.000372493836691</td><td>8.19307625291e-05</td><td>0</td><td>1237645941824356442</td></tr>\n",
       "<tr><td>1237645941824356481</td><td>40.2721052363</td><td>-0.642510253204</td><td>16.7911</td><td>0.00178514575454</td><td>0.000358794024809</td><td>0</td><td>1237645941824356481</td></tr>\n",
       "<tr><td>1237645941824356483</td><td>40.2712777717</td><td>-0.640725293001</td><td>20.9894</td><td>0.000240454811286</td><td>5.13915737065e-05</td><td>0</td><td>1237645941824356483</td></tr>\n",
       "<tr><td>1237645941824356484</td><td>40.2783697699</td><td>-0.641212507445</td><td>21.2884</td><td>0.000270864809902</td><td>5.63874521068e-05</td><td>0</td><td>1237645941824356484</td></tr>\n",
       "<tr><td>1237645941824356485</td><td>40.2826647047</td><td>-0.642892947061</td><td>22.4926</td><td>3.61806080935e-05</td><td>0.0</td><td>0</td><td>1237645941824356485</td></tr>\n",
       "<tr><td>1237645941824356497</td><td>40.2846730128</td><td>-0.817180215799</td><td>14.8628</td><td>0.000363130559728</td><td>8.19307625291e-05</td><td>0</td><td>1237645941824356497</td></tr>\n",
       "<tr><td>1237645941824356500</td><td>40.2881452154</td><td>-0.805045508948</td><td>14.3826</td><td>0.000488674982738</td><td>8.85746681048e-05</td><td>0</td><td>1237645941824356500</td></tr>\n",
       "<tr><td>1237645941824356501</td><td>40.2854134086</td><td>-0.804100473432</td><td>20.2454</td><td>0.000763301466982</td><td>0.000162326503484</td><td>0</td><td>1237645941824356501</td></tr>\n",
       "<tr><td>1237645941824356502</td><td>40.2864321267</td><td>-0.805524974161</td><td>21.6114</td><td>0.00112622517556</td><td>0.000245193599203</td><td>0</td><td>1237645941824356502</td></tr>\n",
       "<tr><td>...</td><td>...</td><td>...</td><td>...</td><td>...</td><td>...</td><td>...</td><td>...</td></tr>\n",
       "<tr><td>1237680297281717338</td><td>1.44329895651</td><td>21.639464378</td><td>22.7104</td><td>7.69491488335e-05</td><td>9.35409943407e-06</td><td>0</td><td>1237680297281717338</td></tr>\n",
       "<tr><td>1237680297281717341</td><td>1.44473602957</td><td>21.6251122949</td><td>22.8814</td><td>0.000102578487033</td><td>1.57161308307e-05</td><td>0</td><td>1237680297281717341</td></tr>\n",
       "<tr><td>1237680297281717352</td><td>1.46325993193</td><td>21.6345533376</td><td>22.5971</td><td>0.000201346396488</td><td>5.13915737065e-05</td><td>0</td><td>1237680297281717352</td></tr>\n",
       "<tr><td>1237680297281717353</td><td>1.46328344943</td><td>21.6459562987</td><td>22.9092</td><td>0.000126362198611</td><td>2.22024770719e-05</td><td>0</td><td>1237680297281717353</td></tr>\n",
       "<tr><td>1237680297281717359</td><td>1.48027999691</td><td>21.6351392954</td><td>22.5478</td><td>0.000118350728652</td><td>1.57161308307e-05</td><td>0</td><td>1237680297281717359</td></tr>\n",
       "<tr><td>1237680297281781900</td><td>1.49852208005</td><td>21.6317283243</td><td>18.1139</td><td>0.000565032531386</td><td>0.000113162017511</td><td>0</td><td>1237680297281781900</td></tr>\n",
       "<tr><td>1237680297281782214</td><td>1.49733088907</td><td>21.6239545317</td><td>21.4033</td><td>0.00030164923924</td><td>5.77062812064e-05</td><td>0</td><td>1237680297281782214</td></tr>\n",
       "<tr><td>1237680297281782227</td><td>1.50438437016</td><td>21.6262871241</td><td>20.4481</td><td>0.000228708137754</td><td>5.13915737065e-05</td><td>0</td><td>1237680297281782227</td></tr>\n",
       "<tr><td>1237680297281782271</td><td>1.5148542967</td><td>21.6269989748</td><td>22.1251</td><td>0.000109343616726</td><td>1.57161308307e-05</td><td>0</td><td>1237680297281782271</td></tr>\n",
       "<tr><td>1237680297281782683</td><td>1.50898644093</td><td>21.6253266286</td><td>22.5263</td><td>0.000104181047584</td><td>1.57161308307e-05</td><td>0</td><td>1237680297281782683</td></tr>\n",
       "</table>"
      ],
      "text/plain": [
       "<Table masked=False length=4950412>\n",
       "       OBJID              RA      ... BEST_GUESS_CLASS        objID       \n",
       "       int64           float64    ...      int64              int64       \n",
       "------------------- ------------- ... ---------------- -------------------\n",
       "1237645941824356440 40.2877964113 ...                0 1237645941824356440\n",
       "1237645941824356442 40.2745834514 ...                0 1237645941824356442\n",
       "1237645941824356481 40.2721052363 ...                0 1237645941824356481\n",
       "1237645941824356483 40.2712777717 ...                0 1237645941824356483\n",
       "1237645941824356484 40.2783697699 ...                0 1237645941824356484\n",
       "1237645941824356485 40.2826647047 ...                0 1237645941824356485\n",
       "1237645941824356497 40.2846730128 ...                0 1237645941824356497\n",
       "1237645941824356500 40.2881452154 ...                0 1237645941824356500\n",
       "1237645941824356501 40.2854134086 ...                0 1237645941824356501\n",
       "1237645941824356502 40.2864321267 ...                0 1237645941824356502\n",
       "                ...           ... ...              ...                 ...\n",
       "1237680297281717338 1.44329895651 ...                0 1237680297281717338\n",
       "1237680297281717341 1.44473602957 ...                0 1237680297281717341\n",
       "1237680297281717352 1.46325993193 ...                0 1237680297281717352\n",
       "1237680297281717353 1.46328344943 ...                0 1237680297281717353\n",
       "1237680297281717359 1.48027999691 ...                0 1237680297281717359\n",
       "1237680297281781900 1.49852208005 ...                0 1237680297281781900\n",
       "1237680297281782214 1.49733088907 ...                0 1237680297281782214\n",
       "1237680297281782227 1.50438437016 ...                0 1237680297281782227\n",
       "1237680297281782271  1.5148542967 ...                0 1237680297281782271\n",
       "1237680297281782683 1.50898644093 ...                0 1237680297281782683"
      ]
     },
     "execution_count": 11,
     "metadata": {},
     "output_type": "execute_result"
    }
   ],
   "source": [
    "mlpred = Table.read('catalogs/SAGA.ALL.objid_rescaledrobs_pred.Oct28_SDSS_nopreclean.csv.fits.gz')\n",
    "mlpred['objID'] = mlpred['OBJID'] # used for matching\n",
    "mlpred"
   ]
  },
  {
   "cell_type": "code",
   "execution_count": 12,
   "metadata": {
    "collapsed": false
   },
   "outputs": [
    {
     "name": "stdout",
     "output_type": "stream",
     "text": [
      "Removed 4 objects for NSA150887\n",
      "removed 250 for remove list and 722 b/c observed\n",
      "n w/ ML pred>0.01 and observed: 7 not yet obs: 506\n"
     ]
    }
   ],
   "source": [
    "joined_catalogs = {}\n",
    "for h in hosts_to_target:\n",
    "    #filter on manual remove lists *and* REMOVE!=-1\n",
    "    cat = targeting.remove_targets_with_remlist(h.get_sdss_catalog(), h, 'catalogs/TargetRemoveAug28_2015.csv')\n",
    "    \n",
    "    pre_joined = table.join(cat, mlpred, join_type='left', keys='objID')\n",
    "    \n",
    "    tokeep = pre_joined['REMOVE']==-1\n",
    "    notobserved = pre_joined['ZQUALITY']<3\n",
    "    print('removed', np.sum(~tokeep),'for remove list and', np.sum(~notobserved),'b/c observed')\n",
    "    joined_catalogs[h] = pre_joined[tokeep&notobserved]\n",
    "    highp = pre_joined[p_column_for_ranking]>0.01\n",
    "    print('n w/ ML pred>0.01 and observed:', np.sum(highp&~notobserved), 'not yet obs:', np.sum(highp&notobserved))"
   ]
  },
  {
   "cell_type": "markdown",
   "metadata": {},
   "source": [
    "## No redmapper "
   ]
  },
  {
   "cell_type": "code",
   "execution_count": 13,
   "metadata": {
    "collapsed": false
   },
   "outputs": [
    {
     "name": "stdout",
     "output_type": "stream",
     "text": [
      "NSA150887 rank counts: {2: 3, 3: 3, 4: 52, 5: 84, 6: 80, 7: 251, 8: 9483, 9: 7581, -1: 51746}\n",
      "fraction not \"other\": 4.8%, nprob_obs=120\n",
      "\n"
     ]
    }
   ],
   "source": [
    "# compute ranks, which includes filtering on mag\n",
    "rankdct = {}\n",
    "for h in hosts_to_target:\n",
    "    cat = joined_catalogs[h]\n",
    "    \n",
    "    \n",
    "    highprob = cat[p_column_for_ranking].filled(0) > 0.5\n",
    "    medprob = (cat[p_column_for_ranking].filled(0) > 0.05) & ~highprob\n",
    "    lowprob = (cat[p_column_for_ranking].filled(0) > 0.01) & ~highprob & ~medprob\n",
    "    inside = cat['RHOST_KPC']<300\n",
    "    \n",
    "    rankdct[h] = ranks = np.ones(len(cat), dtype=int)*-1 #the -1 will be re-set at the end\n",
    "    \n",
    "    # rank 1 reserved for flux stars\n",
    "    ranks[inside&highprob] = 2\n",
    "    ranks[~inside&highprob] = 3\n",
    "    ranks[inside&medprob] = 4\n",
    "    ranks[~inside&medprob] = 5\n",
    "    ranks[inside&lowprob] = 6\n",
    "    ranks[~inside&lowprob] = 7\n",
    "    \n",
    "    validtarget = (cat['r'] < 21.5) & (cat['fibermag_r']<23) & (cat['phot_sg']=='GALAXY')\n",
    "    other = ranks < 0\n",
    "    colorcutmsk = targeting.colorcut_mask(cat,  targeting.bossanova_color_cuts)\n",
    "    \n",
    "    ranks[validtarget&other&colorcutmsk] = 8\n",
    "    ranks[validtarget&other&~colorcutmsk] = 9\n",
    "    \n",
    "#informational\n",
    "for h, ranks in rankdct.items():\n",
    "    cat = joined_catalogs[h]\n",
    "    \n",
    "    hranks = dict(enumerate(np.bincount(ranks[ranks>-1])))\n",
    "    del hranks[0]\n",
    "    del hranks[1]\n",
    "    hranks[-1] = np.sum(ranks==-1)\n",
    "    \n",
    "    print(h.name,'rank counts:', hranks)\n",
    "    \n",
    "    nother =  np.sum(ranks==8)\n",
    "    nprob = np.sum((ranks<8)&(ranks>0))\n",
    "    nother_obs = 270-np.sum((ranks<8)&(ranks>0)&(cat['RHOST_ARCM']<30))\n",
    "    print('fraction not \"other\": {0:.1%}, nprob_obs={1}\\n'.format(nprob/(nprob+nother), nother_obs))"
   ]
  },
  {
   "cell_type": "code",
   "execution_count": 33,
   "metadata": {
    "collapsed": true
   },
   "outputs": [],
   "source": [
    "a = 2"
   ]
  },
  {
   "cell_type": "markdown",
   "metadata": {},
   "source": [
    "## Sanity-checks"
   ]
  },
  {
   "cell_type": "markdown",
   "metadata": {},
   "source": [
    "### are the ML-selected objects meeting the fibermag and r cuts?"
   ]
  },
  {
   "cell_type": "code",
   "execution_count": 14,
   "metadata": {
    "collapsed": false
   },
   "outputs": [
    {
     "data": {
      "image/png": "[encoded data removed]",
      "text/plain": [
       "<matplotlib.figure.Figure at 0x14dcff450>"
      ]
     },
     "metadata": {},
     "output_type": "display_data"
    }
   ],
   "source": [
    "for h in hosts_to_target:\n",
    "    cat = joined_catalogs[h]\n",
    "    ranks = rankdct[h]\n",
    "\n",
    "    plt.figure()\n",
    "    \n",
    "    msk = (ranks>0)&(ranks<8)\n",
    "    plt.subplot(1,2,1)\n",
    "    plt.hist(cat[msk]['r'],bins=25, histtype='step')\n",
    "    plt.axvline(21,c='r')\n",
    "    plt.xlabel('r')\n",
    "    plt.title(h.name, fontsize=24)\n",
    "    \n",
    "    plt.subplot(1,2,2)\n",
    "    plt.hist(cat[msk]['fibermag_r'],bins=25, histtype='step')\n",
    "    plt.axvline(23,c='r')\n",
    "    plt.xlabel('fibermag_r')\n",
    "    plt.title(h.name, fontsize=24)\n",
    "    \n",
    "    plt.tight_layout()"
   ]
  },
  {
   "cell_type": "markdown",
   "metadata": {},
   "source": [
    "### Check that new ML predictions are fairly complete "
   ]
  },
  {
   "cell_type": "code",
   "execution_count": 17,
   "metadata": {
    "collapsed": false
   },
   "outputs": [
    {
     "data": {
      "image/png": "[encoded data removed]",
      "text/plain": [
       "<matplotlib.figure.Figure at 0x14c221fd0>"
      ]
     },
     "metadata": {},
     "output_type": "display_data"
    }
   ],
   "source": [
    "\n",
    "bins = np.linspace(15,25, 100)\n",
    "notinml = cat['OBJID'].mask\n",
    "plt.hist(cat['r'], color='b', bins=bins, histtype='step', label='all')\n",
    "plt.hist(cat['r'][notinml], color='r', bins=bins, histtype='step', label='insdssnotML')\n",
    "plt.legend(loc=0)\n",
    "None"
   ]
  },
  {
   "cell_type": "markdown",
   "metadata": {},
   "source": [
    "### check compared to the *old* mlpred file"
   ]
  },
  {
   "cell_type": "code",
   "execution_count": 18,
   "metadata": {
    "collapsed": true
   },
   "outputs": [],
   "source": [
    "mlpred_old = Table.read('catalogs/SAGAobjid_PredictionAug28_SDSS_SDSSwise_v4removed_combinedPs.fits.gz')\n",
    "mlpred_old['OBJID'].name = 'objID'"
   ]
  },
  {
   "cell_type": "code",
   "execution_count": 19,
   "metadata": {
    "collapsed": false
   },
   "outputs": [
    {
     "name": "stdout",
     "output_type": "stream",
     "text": [
      "Removed 4 objects for NSA150887\n",
      "removed 250 for remove list and 722 b/c observed\n",
      "n w/ ML pred>0.01 and observed: 0 not yet obs: 124\n"
     ]
    }
   ],
   "source": [
    "# \n",
    "joined_catalogs_old = {}\n",
    "for h in hosts_to_target:\n",
    "    #filter on manual remove lists *and* REMOVE!=-1\n",
    "    cat = targeting.remove_targets_with_remlist(h.get_sdss_catalog(), h, 'catalogs/TargetRemoveAug28_2015.csv')\n",
    "    \n",
    "    pre_joined = table.join(cat, mlpred_old, join_type='left', keys='objID')\n",
    "    \n",
    "    tokeep = pre_joined['REMOVE']==-1\n",
    "    notobserved = pre_joined['ZQUALITY']<3\n",
    "    print('removed', np.sum(~tokeep),'for remove list and', np.sum(~notobserved),'b/c observed')\n",
    "    joined_catalogs_old[h] = pre_joined[tokeep&notobserved]\n",
    "    highp = pre_joined[p_column_for_ranking]>0.01\n",
    "    print('n w/ ML pred>0.01 and observed:', np.sum(highp&~notobserved), 'not yet obs:', np.sum(highp&notobserved))"
   ]
  },
  {
   "cell_type": "code",
   "execution_count": 20,
   "metadata": {
    "collapsed": false
   },
   "outputs": [
    {
     "data": {
      "image/png": "[encoded data removed]",
      "text/plain": [
       "<matplotlib.figure.Figure at 0x150d26850>"
      ]
     },
     "metadata": {},
     "output_type": "display_data"
    }
   ],
   "source": [
    "cat = joined_catalogs_old[n150887]\n",
    "bins = np.linspace(15,25, 100)\n",
    "notinml = cat['PROBABILITY_CLASS_1'].mask\n",
    "plt.hist(cat['r'], color='b', bins=bins, histtype='step', label='all')\n",
    "plt.hist(cat['r'][notinml], color='r', bins=bins, histtype='step', label='insdssnotML')\n",
    "plt.legend(loc=0)\n",
    "None"
   ]
  },
  {
   "cell_type": "markdown",
   "metadata": {},
   "source": [
    "## Now actually generate a catalog "
   ]
  },
  {
   "cell_type": "code",
   "execution_count": 22,
   "metadata": {
    "collapsed": false
   },
   "outputs": [
    {
     "name": "stdout",
     "output_type": "stream",
     "text": [
      "On host NSA150887\n",
      "Going to write mmthecto/NSA150887_nov2015.cat\n",
      "Including 4503 targets\n",
      "Found 73 Flux stars\n",
      "Removing 34 Flux stars too close to program stars\n",
      "Could not find psf mags so falling back on regular mags...\n",
      "Found 255 guide stars\n"
     ]
    }
   ],
   "source": [
    "generated_cats = {}\n",
    "for h in hosts_to_target:\n",
    "    print('On host', h.name)\n",
    "    sys.stdout.flush()\n",
    "\n",
    "    cat = joined_catalogs[h]\n",
    "    ranks = rankdct[h]\n",
    "    \n",
    "    fnout = 'mmthecto/{0}_nov2015.cat'.format(h.name)\n",
    "    fluxfnout = fnout.replace('.cat', '.fluxstars')\n",
    "    print('Going to write', fnout)\n",
    "    \n",
    "    msk = (cat['RHOST_ARCM']<40) & (ranks>0) & (ranks<9)\n",
    "    generated_cats[h] = mmthecto.generate_catalog(h, cat[msk], ranks[msk], \n",
    "                                         repeatflux=3, removefluxdistance=1*u.arcmin,\n",
    "                                         fnout=fnout, fluxfnout=fluxfnout)"
   ]
  },
  {
   "cell_type": "markdown",
   "metadata": {},
   "source": [
    "### Have a look at the  input catalog"
   ]
  },
  {
   "cell_type": "code",
   "execution_count": 68,
   "metadata": {
    "collapsed": false
   },
   "outputs": [],
   "source": [
    "gcat = generated_cats[h]"
   ]
  },
  {
   "cell_type": "code",
   "execution_count": 77,
   "metadata": {
    "collapsed": false
   },
   "outputs": [
    {
     "data": {
      "text/plain": [
       "{-1: 255, 1: 117, 2: 3, 4: 52, 5: 14, 6: 80, 7: 79, 8: 4275}"
      ]
     },
     "execution_count": 77,
     "metadata": {},
     "output_type": "execute_result"
    }
   ],
   "source": [
    "ranknum = gcat['rank'].copy()\n",
    "ranknum[gcat['rank']==''] = '-1'\n",
    "ranknum = ranknum.astype(int)\n",
    "{r: np.sum(r==ranknum) for r in set(ranknum)}"
   ]
  },
  {
   "cell_type": "code",
   "execution_count": 83,
   "metadata": {
    "collapsed": false
   },
   "outputs": [],
   "source": [
    "msk = (ranknum>1)&(ranknum<6)\n",
    "targeting.sampled_imagelist(gcat[msk], None, None, names=gcat['rank'][msk])\n",
    "None"
   ]
  },
  {
   "cell_type": "markdown",
   "metadata": {},
   "source": [
    "### Have a looksee at the configuration output by xfitfibs "
   ]
  },
  {
   "cell_type": "code",
   "execution_count": 63,
   "metadata": {
    "collapsed": false
   },
   "outputs": [],
   "source": [
    "coords, targets, ranks, fields = mmthecto.parse_cfg_file('mmthecto/NSA150887_nov2015.cfg')"
   ]
  },
  {
   "cell_type": "code",
   "execution_count": 65,
   "metadata": {
    "collapsed": false
   },
   "outputs": [
    {
     "data": {
      "text/plain": [
       "'name ra dec\\n1277 348.696642083 4.639955\\n2945 348.394260417 4.55277194444\\n1278 348.727540833 4.71334444444'"
      ]
     },
     "execution_count": 65,
     "metadata": {},
     "output_type": "execute_result"
    }
   ],
   "source": [
    "msk = ranks == 2\n",
    "targeting.sampled_imagelist(coords[msk], None, None, names=targets[msk])"
   ]
  },
  {
   "cell_type": "code",
   "execution_count": null,
   "metadata": {
    "collapsed": true
   },
   "outputs": [],
   "source": []
  }
 ],
 "metadata": {
  "kernelspec": {
   "display_name": "Python 2",
   "language": "python",
   "name": "python2"
  },
  "language_info": {
   "codemirror_mode": {
    "name": "ipython",
    "version": 2
   },
   "file_extension": ".py",
   "mimetype": "text/x-python",
   "name": "python",
   "nbconvert_exporter": "python",
   "pygments_lexer": "ipython2",
   "version": "2.7.10"
  }
 },
 "nbformat": 4,
 "nbformat_minor": 0
}
