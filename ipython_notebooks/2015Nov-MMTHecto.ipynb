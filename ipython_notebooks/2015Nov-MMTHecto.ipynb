{
 "cells": [
  {
   "cell_type": "code",
   "execution_count": 1,
   "metadata": {
    "collapsed": false
   },
   "outputs": [],
   "source": [
    "# This changes the current directory to the base saga directory - make sure to run this first!\n",
    "# This is necessary to be able to import the py files and use the right directories,\n",
    "# while keeping all the notebooks in their own directory.\n",
    "import os\n",
    "import sys\n",
    "\n",
    "if 'saga_base_dir' not in locals():\n",
    "    saga_base_dir = os.path.abspath('..')\n",
    "\n",
    "if saga_base_dir not in sys.path:\n",
    "    os.chdir(saga_base_dir)"
   ]
  },
  {
   "cell_type": "code",
   "execution_count": 2,
   "metadata": {
    "collapsed": false
   },
   "outputs": [],
   "source": [
    "from __future__ import print_function\n",
    "\n",
    "import hosts\n",
    "import targeting\n",
    "import mmthecto\n",
    "import numpy as np\n",
    "\n",
    "from astropy import units as u\n",
    "from astropy.coordinates import *\n",
    "from astropy import table\n",
    "from astropy.table import Table\n",
    "from astropy.io import fits"
   ]
  },
  {
   "cell_type": "code",
   "execution_count": 3,
   "metadata": {
    "collapsed": false
   },
   "outputs": [],
   "source": [
    "%matplotlib inline\n",
    "from matplotlib import pyplot as plt\n",
    "from matplotlib import rcParams\n",
    "\n",
    "rcParams['image.interpolation'] = 'none'\n",
    "rcParams['figure.figsize'] = (16, 10)"
   ]
  },
  {
   "cell_type": "code",
   "execution_count": 4,
   "metadata": {
    "collapsed": false
   },
   "outputs": [
    {
     "name": "stdout",
     "output_type": "stream",
     "text": [
      "Using cached version of google hosts list from file \"hosts_dl.pkl2\"\n"
     ]
    }
   ],
   "source": [
    "hostlst = hosts.get_saga_hosts_from_google() #'named' hosts"
   ]
  },
  {
   "cell_type": "code",
   "execution_count": 5,
   "metadata": {
    "collapsed": false
   },
   "outputs": [
    {
     "data": {
      "text/plain": [
       "[<hosts.NSAHost object w/ name 'NSA150887'>,\n",
       " <hosts.NSAHost object w/ name 'NSA150578'>,\n",
       " <hosts.NSAHost object w/ name 'OBrother' AKA: ['NSA149781']>,\n",
       " <hosts.NSAHost object w/ name 'NSA150307'>,\n",
       " <hosts.NSAHost object w/ name 'AnaK' AKA: ['NGC7716', 'NSA61945']>,\n",
       " <hosts.NSAHost object w/ name 'NSA149977'>,\n",
       " <hosts.NSAHost object w/ name 'NSA153017'>,\n",
       " <hosts.NSAHost object w/ name 'NSA126115'>,\n",
       " <hosts.NSAHost object w/ name 'NSA127226'>,\n",
       " <hosts.NSAHost object w/ name 'NSA129387'>,\n",
       " <hosts.NSAHost object w/ name 'NSA129237'>,\n",
       " <hosts.NSAHost object w/ name 'Narnia' AKA: ['NGC1015', 'NSA132339']>,\n",
       " <hosts.NSAHost object w/ name 'NSA130133'>,\n",
       " <hosts.NSAHost object w/ name 'NSA131531'>,\n",
       " <hosts.NSAHost object w/ name 'NSA130625'>]"
      ]
     },
     "execution_count": 5,
     "metadata": {},
     "output_type": "execute_result"
    }
   ],
   "source": [
    "candidates = \"\"\"\n",
    "NSAID    RA   DEC Name\n",
    "   150887      23.2455      4.53406  N/A\n",
    "    150578.      23.0824      12.3229  N/A\n",
    "    149781.      22.3942     -3.43167  OBrother\n",
    "    150307.      22.9283     -5.49535  N/A\n",
    "    61945.0      23.6087     0.297265  AnaK\n",
    "    149977.      22.6248      10.5315  N/A\n",
    "    153017.      23.9904      20.7498  N/A\n",
    "    126115.    0.0663717      20.7524  N/A\n",
    "    127226.     0.579656     -8.39644  N/A\n",
    "    129387.      1.40109      12.9175  N/A\n",
    "    129237.      1.36327      17.5922  N/A\n",
    "    132339.      2.63655     -1.31876 Narnia\n",
    "    130133.      1.65181     -7.51266  N/A\n",
    "    131531.      2.25767      6.00248  N/A\n",
    "    130625.      1.88703      4.19576  N/A\n",
    "\"\"\"\n",
    "candidates = Table.read(candidates,format='ascii')\n",
    "\n",
    "hostdct = dict([(h.name, h) for h in hostlst])\n",
    "candhosts = [hostdct[name] if name in hostdct else hosts.NSAHost(int(nsaid)) \n",
    "         for nsaid, name in zip(candidates['NSAID'], candidates['Name'])]\n",
    "candhosts"
   ]
  },
  {
   "cell_type": "code",
   "execution_count": 6,
   "metadata": {
    "collapsed": true
   },
   "outputs": [],
   "source": [
    "# now set to the latest base catalogs\n",
    "for h in candhosts:\n",
    "    h.fnsdss = 'catalogs/base_sql_nsa{0}.fits.gz'.format(h.nsaid)\n",
    "    h._cached_sdss = None"
   ]
  },
  {
   "cell_type": "code",
   "execution_count": 7,
   "metadata": {
    "collapsed": false
   },
   "outputs": [
    {
     "data": {
      "text/html": [
       "&lt;Table masked=False length=68227&gt;\n",
       "<table id=\"table5472077008\">\n",
       "<thead><tr><th>objID</th><th>ra</th><th>dec</th><th>flags</th><th>specObjID</th><th>u</th><th>g</th><th>r</th><th>i</th><th>z</th><th>u_err</th><th>g_err</th><th>r_err</th><th>i_err</th><th>z_err</th><th>Au</th><th>Ag</th><th>Ar</th><th>Ai</th><th>Az</th><th>fibermag_r</th><th>fiber2mag_r</th><th>expRad_r</th><th>sb_exp_r</th><th>petroR50_r</th><th>petroR90_r</th><th>petroMag_r</th><th>sb_petro_r</th><th>J</th><th>Jerr</th><th>H</th><th>Herr</th><th>K</th><th>Kerr</th><th>w1</th><th>w1err</th><th>w2</th><th>w2err</th><th>spec_z</th><th>spec_z_err</th><th>spec_z_warn</th><th>photoz</th><th>photoz_err</th><th>HOST_RA</th><th>HOST_DEC</th><th>HOST_DIST</th><th>HOST_VHOST</th><th>HOST_MK</th><th>HOST_NSAID</th><th>HOST_FLAG</th><th>HOST_SAGA_NAME</th><th>RHOST_ARCM</th><th>RHOST_KPC</th><th>OBJ_NSAID</th><th>PCLASS_1</th><th>SATS</th><th>REMOVE</th><th>TELNAME</th><th>MASKNAME</th><th>ZQUALITY</th><th>SPEC_REPEAT</th><th>U</th><th>B</th><th>V</th><th>R</th><th>I</th><th>rhost</th><th>rhost_kpc</th><th>type</th><th>phot_sg</th></tr></thead>\n",
       "<thead><tr><th>int64</th><th>float64</th><th>float64</th><th>int64</th><th>int64</th><th>float32</th><th>float32</th><th>float32</th><th>float32</th><th>float32</th><th>float32</th><th>float32</th><th>float32</th><th>float32</th><th>float32</th><th>float32</th><th>float32</th><th>float32</th><th>float32</th><th>float32</th><th>float32</th><th>float32</th><th>float32</th><th>float64</th><th>float32</th><th>float32</th><th>float32</th><th>float64</th><th>float32</th><th>float32</th><th>float32</th><th>float32</th><th>float32</th><th>float32</th><th>float32</th><th>float32</th><th>float32</th><th>float32</th><th>float32</th><th>float32</th><th>int32</th><th>float32</th><th>float32</th><th>float64</th><th>float64</th><th>float64</th><th>float64</th><th>float64</th><th>int64</th><th>int64</th><th>string384</th><th>float64</th><th>float64</th><th>int64</th><th>int64</th><th>int64</th><th>int64</th><th>string32</th><th>string384</th><th>float64</th><th>string384</th><th>float32</th><th>float32</th><th>float32</th><th>float32</th><th>float32</th><th>float64</th><th>float64</th><th>int16</th><th>string48</th></tr></thead>\n",
       "<tr><td>1237678622239687293</td><td>28.2921893761</td><td>4.1654677952</td><td>387097114444048</td><td>0</td><td>24.8861</td><td>24.5384</td><td>22.9648</td><td>21.9456</td><td>21.3148</td><td>0.966116</td><td>0.565863</td><td>0.238203</td><td>0.135154</td><td>0.280791</td><td>0.19371</td><td>0.14253</td><td>0.103375</td><td>0.0783858</td><td>0.0555765</td><td>22.261</td><td>22.9741</td><td>0.132225</td><td>20.5668021324</td><td>0.641864</td><td>1.37584</td><td>22.9859</td><td>24.0185837122</td><td>9999.0</td><td>9999.0</td><td>9999.0</td><td>9999.0</td><td>9999.0</td><td>9999.0</td><td>17.9499</td><td>0.207252</td><td>16.003</td><td>0.175</td><td>-1.0</td><td>-1.0</td><td>-1</td><td>0.595791</td><td>0.082322</td><td>28.3054</td><td>4.19576</td><td>22.7469</td><td>1733.0</td><td>8.726</td><td>130625</td><td>0</td><td></td><td>1.98200266096</td><td>13.114524378</td><td>-1</td><td>-1</td><td>-1</td><td>-1</td><td></td><td></td><td>-1.0</td><td></td><td>25.4448</td><td>25.2499</td><td>23.6333</td><td>22.6919</td><td>21.3051</td><td>0.0330198482762</td><td>12.9620185552</td><td>3</td><td>GALAXY</td></tr>\n",
       "<tr><td>1237678622239687535</td><td>28.2808531784</td><td>4.17348908215</td><td>281543964623616</td><td>0</td><td>24.2549</td><td>23.1379</td><td>21.9114</td><td>21.7858</td><td>21.6071</td><td>0.975535</td><td>0.212821</td><td>0.0979778</td><td>0.120167</td><td>0.359127</td><td>0.193723</td><td>0.142539</td><td>0.103381</td><td>0.078391</td><td>0.0555802</td><td>22.2951</td><td>22.7768</td><td>0.216964</td><td>20.5887781366</td><td>0.590522</td><td>1.3195</td><td>22.0478</td><td>22.8994797037</td><td>9999.0</td><td>9999.0</td><td>9999.0</td><td>9999.0</td><td>9999.0</td><td>9999.0</td><td>19.4984</td><td>0.848584</td><td>9999.0</td><td>9999.0</td><td>-1.0</td><td>-1.0</td><td>-1</td><td>-1.0</td><td>-1.0</td><td>28.3054</td><td>4.19576</td><td>22.7469</td><td>1733.0</td><td>8.726</td><td>130625</td><td>0</td><td></td><td>1.98573241428</td><td>13.1392034243</td><td>-1</td><td>-1</td><td>-1</td><td>-1</td><td></td><td></td><td>-1.0</td><td></td><td>24.1516</td><td>23.7408</td><td>22.4289</td><td>21.7752</td><td>21.3198</td><td>0.0330706320147</td><td>12.9819538303</td><td>6</td><td>STAR</td></tr>\n",
       "<tr><td>1237678622239687551</td><td>28.2892305507</td><td>4.1666156998</td><td>281543964623104</td><td>0</td><td>23.538</td><td>23.6733</td><td>22.7989</td><td>22.2601</td><td>21.7235</td><td>0.647714</td><td>0.320625</td><td>0.201627</td><td>0.175092</td><td>0.371933</td><td>0.193668</td><td>0.142499</td><td>0.103352</td><td>0.078369</td><td>0.0555646</td><td>22.9504</td><td>23.4056</td><td>0.00149116</td><td>10.6619883934</td><td>-9999.0</td><td>-9999.0</td><td>27.0005</td><td>48.9956979059</td><td>9999.0</td><td>9999.0</td><td>9999.0</td><td>9999.0</td><td>9999.0</td><td>9999.0</td><td>17.5289</td><td>0.137348</td><td>9999.0</td><td>9999.0</td><td>-1.0</td><td>-1.0</td><td>-1</td><td>0.637883</td><td>0.137668</td><td>28.3054</td><td>4.19576</td><td>22.7469</td><td>1733.0</td><td>8.726</td><td>130625</td><td>0</td><td></td><td>1.99849702866</td><td>13.2236643743</td><td>-1</td><td>-1</td><td>-1</td><td>-1</td><td></td><td></td><td>-1.0</td><td></td><td>23.739</td><td>24.1659</td><td>23.1633</td><td>22.5995</td><td>21.656</td><td>0.0332919091918</td><td>13.0688167029</td><td>3</td><td>GALAXY</td></tr>\n",
       "<tr><td>1237678661436375815</td><td>28.3178710528</td><td>4.22726178032</td><td>281543964623616</td><td>0</td><td>26.1572</td><td>22.1578</td><td>21.4868</td><td>20.0189</td><td>19.5865</td><td>1.65004</td><td>0.2729</td><td>0.266116</td><td>0.109058</td><td>0.29841</td><td>0.196014</td><td>0.144225</td><td>0.104604</td><td>0.079318</td><td>0.0562375</td><td>23.1452</td><td>23.5192</td><td>0.264709</td><td>21.7103790809</td><td>3.99238</td><td>6.47142</td><td>21.4839</td><td>26.4855161938</td><td>9999.0</td><td>9999.0</td><td>9999.0</td><td>9999.0</td><td>9999.0</td><td>9999.0</td><td>18.7934</td><td>0.469792</td><td>9999.0</td><td>9999.0</td><td>-1.0</td><td>-1.0</td><td>-1</td><td>0.9529</td><td>0.184473</td><td>28.3054</td><td>4.19576</td><td>22.7469</td><td>1733.0</td><td>8.726</td><td>130625</td><td>0</td><td></td><td>2.03209360161</td><td>13.4459663078</td><td>-1</td><td>-1</td><td>-1</td><td>-1</td><td></td><td></td><td>-1.0</td><td></td><td>24.2021</td><td>22.5868</td><td>21.7627</td><td>21.1452</td><td>19.455</td><td>0.0338807234169</td><td>13.2999571021</td><td>3</td><td>GALAXY</td></tr>\n",
       "<tr><td>1237678661436375822</td><td>28.3379290684</td><td>4.18852269949</td><td>281475245277440</td><td>0</td><td>23.64</td><td>23.186</td><td>23.3671</td><td>21.5564</td><td>21.3618</td><td>0.947116</td><td>0.258817</td><td>0.522418</td><td>0.157588</td><td>0.518212</td><td>0.195576</td><td>0.143903</td><td>0.10437</td><td>0.079141</td><td>0.0561119</td><td>23.8665</td><td>24.1587</td><td>4.25089</td><td>27.4210324564</td><td>0.841304</td><td>1.10107</td><td>23.5624</td><td>25.1826394487</td><td>9999.0</td><td>9999.0</td><td>9999.0</td><td>9999.0</td><td>9999.0</td><td>9999.0</td><td>17.6542</td><td>0.157534</td><td>9999.0</td><td>9999.0</td><td>-1.0</td><td>-1.0</td><td>-1</td><td>0.465791</td><td>0.248365</td><td>28.3054</td><td>4.19576</td><td>22.7469</td><td>1733.0</td><td>8.726</td><td>130625</td><td>0</td><td></td><td>1.99436115266</td><td>13.1962980939</td><td>-1</td><td>-1</td><td>-1</td><td>-1</td><td></td><td></td><td>-1.0</td><td></td><td>22.6684</td><td>23.3483</td><td>23.2723</td><td>22.973</td><td>21.0843</td><td>0.0332725715253</td><td>13.0612256568</td><td>3</td><td>GALAXY</td></tr>\n",
       "<tr><td>1237678622239687292</td><td>28.2917688682</td><td>4.16479395685</td><td>35253360001296</td><td>0</td><td>24.8854</td><td>22.4322</td><td>20.8396</td><td>20.1583</td><td>19.794</td><td>1.14023</td><td>0.136569</td><td>0.0478744</td><td>0.0372707</td><td>0.0961961</td><td>0.193663</td><td>0.142496</td><td>0.10335</td><td>0.0783669</td><td>0.0555631</td><td>21.3316</td><td>21.8734</td><td>0.49728</td><td>21.3671699956</td><td>0.739849</td><td>1.4289</td><td>20.9981</td><td>22.3392465997</td><td>9999.0</td><td>9999.0</td><td>9999.0</td><td>9999.0</td><td>9999.0</td><td>9999.0</td><td>16.5348</td><td>0.0570116</td><td>16.003</td><td>0.175</td><td>-1.0</td><td>-1.0</td><td>-1</td><td>0.345857</td><td>0.044286</td><td>28.3054</td><td>4.19576</td><td>22.7469</td><td>1733.0</td><td>8.726</td><td>130625</td><td>0</td><td></td><td>2.02912597199</td><td>13.4263300847</td><td>-1</td><td>-1</td><td>-1</td><td>-1</td><td></td><td></td><td>-1.0</td><td></td><td>24.4495</td><td>23.1497</td><td>21.5164</td><td>20.6184</td><td>19.6207</td><td>0.0338051365541</td><td>13.2702853026</td><td>3</td><td>GALAXY</td></tr>\n",
       "<tr><td>1237678622239687263</td><td>28.2785906624</td><td>4.17256153768</td><td>68987912192</td><td>0</td><td>22.437</td><td>22.2749</td><td>21.9031</td><td>21.5441</td><td>21.0537</td><td>0.301761</td><td>0.111471</td><td>0.107753</td><td>0.109759</td><td>0.258509</td><td>0.193598</td><td>0.142448</td><td>0.103315</td><td>0.0783407</td><td>0.0555445</td><td>22.4029</td><td>22.8865</td><td>0.284266</td><td>21.2644739993</td><td>0.715276</td><td>2.12805</td><td>21.9444</td><td>23.2122412593</td><td>9999.0</td><td>9999.0</td><td>9999.0</td><td>9999.0</td><td>9999.0</td><td>9999.0</td><td>17.9026</td><td>0.197643</td><td>9999.0</td><td>9999.0</td><td>-1.0</td><td>-1.0</td><td>-1</td><td>0.518033</td><td>0.230517</td><td>28.3054</td><td>4.19576</td><td>22.7469</td><td>1733.0</td><td>8.726</td><td>130625</td><td>0</td><td></td><td>2.12391677522</td><td>14.0535422304</td><td>-1</td><td>-1</td><td>-1</td><td>-1</td><td></td><td></td><td>-1.0</td><td></td><td>22.0717</td><td>22.6103</td><td>22.0488</td><td>21.7312</td><td>20.9578</td><td>0.0353732180623</td><td>13.8858393607</td><td>3</td><td>GALAXY</td></tr>\n",
       "<tr><td>1237678622239687355</td><td>28.317615598</td><td>4.16035999997</td><td>68987912448</td><td>0</td><td>24.6528</td><td>22.4202</td><td>21.0329</td><td>20.1181</td><td>19.6314</td><td>0.988633</td><td>0.1123</td><td>0.0464221</td><td>0.0298679</td><td>0.0680462</td><td>0.194532</td><td>0.143135</td><td>0.103813</td><td>0.0787184</td><td>0.0558123</td><td>21.4148</td><td>21.8894</td><td>0.134396</td><td>18.6702714928</td><td>0.602739</td><td>1.29098</td><td>21.1472</td><td>22.0433274638</td><td>9999.0</td><td>9999.0</td><td>9999.0</td><td>9999.0</td><td>9999.0</td><td>9999.0</td><td>17.5503</td><td>0.144116</td><td>9999.0</td><td>9999.0</td><td>-1.0</td><td>-1.0</td><td>-1</td><td>-1.0</td><td>-1.0</td><td>28.3054</td><td>4.19576</td><td>22.7469</td><td>1733.0</td><td>8.726</td><td>130625</td><td>0</td><td></td><td>2.24626253905</td><td>14.8630801279</td><td>-1</td><td>-1</td><td>-1</td><td>-1</td><td></td><td></td><td>-1.0</td><td></td><td>24.1496</td><td>23.0734</td><td>21.6204</td><td>20.7759</td><td>19.5332</td><td>0.0374487260172</td><td>14.7005848556</td><td>6</td><td>STAR</td></tr>\n",
       "<tr><td>1237678622239687540</td><td>28.2854441287</td><td>4.16744059371</td><td>281709320864000</td><td>0</td><td>23.6376</td><td>23.199</td><td>22.6041</td><td>21.9568</td><td>23.058</td><td>0.765882</td><td>0.246727</td><td>0.205209</td><td>0.158546</td><td>0.663069</td><td>0.193582</td><td>0.142436</td><td>0.103306</td><td>0.078334</td><td>0.0555398</td><td>23.077</td><td>23.4839</td><td>0.5127</td><td>23.1488414714</td><td>0.4697</td><td>0.626725</td><td>23.3414</td><td>23.695924302</td><td>9999.0</td><td>9999.0</td><td>9999.0</td><td>9999.0</td><td>9999.0</td><td>9999.0</td><td>18.7502</td><td>0.426666</td><td>9999.0</td><td>9999.0</td><td>-1.0</td><td>-1.0</td><td>-1</td><td>-1.0</td><td>-1.0</td><td>28.3054</td><td>4.19576</td><td>22.7469</td><td>1733.0</td><td>8.726</td><td>130625</td><td>0</td><td></td><td>2.07680949505</td><td>13.741842602</td><td>-1</td><td>-1</td><td>-1</td><td>-1</td><td></td><td></td><td>-1.0</td><td></td><td>23.3276</td><td>23.6042</td><td>22.8469</td><td>22.388</td><td>21.9849</td><td>0.0345941031141</td><td>13.5799959683</td><td>6</td><td>STAR</td></tr>\n",
       "<tr><td>1237678661436375790</td><td>28.2743655653</td><td>4.17756344018</td><td>281543964623616</td><td>0</td><td>23.0452</td><td>22.9204</td><td>22.2098</td><td>21.032</td><td>20.5333</td><td>0.869996</td><td>0.303503</td><td>0.284831</td><td>0.162063</td><td>0.393095</td><td>0.193699</td><td>0.142522</td><td>0.103369</td><td>0.0783816</td><td>0.0555735</td><td>23.1652</td><td>23.5771</td><td>0.459962</td><td>22.9237530989</td><td>0.450175</td><td>0.726173</td><td>23.3034</td><td>23.5657901291</td><td>9999.0</td><td>9999.0</td><td>9999.0</td><td>9999.0</td><td>9999.0</td><td>9999.0</td><td>17.7919</td><td>0.178107</td><td>9999.0</td><td>9999.0</td><td>-1.0</td><td>-1.0</td><td>-1</td><td>0.772022</td><td>0.099808</td><td>28.3054</td><td>4.19576</td><td>22.7469</td><td>1733.0</td><td>8.726</td><td>130625</td><td>0</td><td></td><td>2.15423834412</td><td>14.2541741001</td><td>-1</td><td>-1</td><td>-1</td><td>-1</td><td></td><td></td><td>-1.0</td><td></td><td>22.9834</td><td>23.3618</td><td>22.5029</td><td>21.9126</td><td>20.4425</td><td>0.0358749854863</td><td>14.0828093349</td><td>3</td><td>GALAXY</td></tr>\n",
       "<tr><td>...</td><td>...</td><td>...</td><td>...</td><td>...</td><td>...</td><td>...</td><td>...</td><td>...</td><td>...</td><td>...</td><td>...</td><td>...</td><td>...</td><td>...</td><td>...</td><td>...</td><td>...</td><td>...</td><td>...</td><td>...</td><td>...</td><td>...</td><td>...</td><td>...</td><td>...</td><td>...</td><td>...</td><td>...</td><td>...</td><td>...</td><td>...</td><td>...</td><td>...</td><td>...</td><td>...</td><td>...</td><td>...</td><td>...</td><td>...</td><td>...</td><td>...</td><td>...</td><td>...</td><td>...</td><td>...</td><td>...</td><td>...</td><td>...</td><td>...</td><td>...</td><td>...</td><td>...</td><td>...</td><td>...</td><td>...</td><td>...</td><td>...</td><td>...</td><td>...</td><td>...</td><td>...</td><td>...</td><td>...</td><td>...</td><td>...</td><td>...</td><td>...</td><td>...</td><td>...</td></tr>\n",
       "<tr><td>1237678662510051824</td><td>28.1978918711</td><td>5.14723189572</td><td>68987912960</td><td>0</td><td>22.835</td><td>22.8679</td><td>22.2923</td><td>21.348</td><td>21.0173</td><td>0.43458</td><td>0.18545</td><td>0.189791</td><td>0.136224</td><td>0.309703</td><td>0.232813</td><td>0.171301</td><td>0.124242</td><td>0.094209</td><td>0.0667953</td><td>22.8175</td><td>23.2701</td><td>0.384638</td><td>22.2634849533</td><td>0.695914</td><td>1.93372</td><td>22.4905</td><td>23.6986828876</td><td>9999.0</td><td>9999.0</td><td>9999.0</td><td>9999.0</td><td>9999.0</td><td>9999.0</td><td>17.5179</td><td>0.146592</td><td>17.001</td><td>0.42</td><td>-1.0</td><td>-1.0</td><td>-1</td><td>0.714825</td><td>0.153503</td><td>28.3054</td><td>4.19576</td><td>22.7469</td><td>1733.0</td><td>8.726</td><td>130625</td><td>0</td><td></td><td>57.4496442549</td><td>380.115399837</td><td>-1</td><td>-1</td><td>-1</td><td>-1</td><td></td><td></td><td>-1.0</td><td></td><td>22.7351</td><td>23.2671</td><td>22.5267</td><td>22.0308</td><td>20.8233</td><td>0.957482542474</td><td>375.862008147</td><td>3</td><td>GALAXY</td></tr>\n",
       "<tr><td>1237678662510117288</td><td>28.366052839</td><td>5.18434052911</td><td>475064453693712</td><td>0</td><td>24.0673</td><td>21.5714</td><td>20.4574</td><td>20.3186</td><td>20.0059</td><td>1.87345</td><td>0.10333</td><td>0.0668043</td><td>0.0973249</td><td>0.246676</td><td>0.219571</td><td>0.161559</td><td>0.117176</td><td>0.0888508</td><td>0.0629963</td><td>21.5941</td><td>22.2688</td><td>2.40543</td><td>24.3588035598</td><td>1.85362</td><td>5.29638</td><td>20.4103</td><td>23.7458234017</td><td>9999.0</td><td>9999.0</td><td>9999.0</td><td>9999.0</td><td>9999.0</td><td>9999.0</td><td>17.164</td><td>0.122086</td><td>17.0</td><td>0.412</td><td>-1.0</td><td>-1.0</td><td>-1</td><td>0.353705</td><td>0.071566</td><td>28.3054</td><td>4.19576</td><td>22.7469</td><td>1733.0</td><td>8.726</td><td>130625</td><td>0</td><td></td><td>59.4257682552</td><td>393.189137686</td><td>-1</td><td>-1</td><td>-1</td><td>-1</td><td></td><td></td><td>-1.0</td><td></td><td>23.2073</td><td>22.139</td><td>20.926</td><td>20.3192</td><td>19.8009</td><td>0.990429148022</td><td>388.795275098</td><td>3</td><td>GALAXY</td></tr>\n",
       "<tr><td>1237678662510051901</td><td>28.2366528561</td><td>5.17101673671</td><td>68987912192</td><td>0</td><td>23.4131</td><td>21.807</td><td>20.5451</td><td>20.1159</td><td>19.7268</td><td>0.667875</td><td>0.0723558</td><td>0.0406074</td><td>0.044898</td><td>0.0975306</td><td>0.230716</td><td>0.169758</td><td>0.123123</td><td>0.0933604</td><td>0.0661937</td><td>20.95</td><td>21.4589</td><td>0.376881</td><td>20.4339937586</td><td>0.851906</td><td>1.98692</td><td>20.549</td><td>22.1964234089</td><td>9999.0</td><td>9999.0</td><td>9999.0</td><td>9999.0</td><td>9999.0</td><td>9999.0</td><td>17.6285</td><td>0.160168</td><td>16.997</td><td>9999.0</td><td>-1.0</td><td>-1.0</td><td>-1</td><td>-1.0</td><td>-1.0</td><td>28.3054</td><td>4.19576</td><td>22.7469</td><td>1733.0</td><td>8.726</td><td>130625</td><td>0</td><td></td><td>58.6598300601</td><td>388.121821481</td><td>-1</td><td>-1</td><td>-1</td><td>-1</td><td></td><td></td><td>-1.0</td><td></td><td>23.105</td><td>22.421</td><td>21.078</td><td>20.3624</td><td>19.5687</td><td>0.977658355025</td><td>383.782070482</td><td>6</td><td>STAR</td></tr>\n",
       "<tr><td>1237678662510051760</td><td>28.1790396948</td><td>5.10886184428</td><td>158546838815488</td><td>0</td><td>24.2557</td><td>21.8127</td><td>20.9027</td><td>20.3831</td><td>19.8871</td><td>1.57221</td><td>0.103221</td><td>0.0775017</td><td>0.0818927</td><td>0.17112</td><td>0.235048</td><td>0.172946</td><td>0.125435</td><td>0.0951136</td><td>0.0674367</td><td>21.6603</td><td>22.2323</td><td>0.932007</td><td>22.8631645705</td><td>1.13129</td><td>2.34753</td><td>21.0519</td><td>23.3152236291</td><td>9999.0</td><td>9999.0</td><td>9999.0</td><td>9999.0</td><td>9999.0</td><td>9999.0</td><td>17.1174</td><td>0.103161</td><td>16.532</td><td>9999.0</td><td>-1.0</td><td>-1.0</td><td>-1</td><td>0.077721</td><td>0.034726</td><td>28.3054</td><td>4.19576</td><td>22.7469</td><td>1733.0</td><td>8.726</td><td>130625</td><td>0</td><td></td><td>55.3054351766</td><td>365.929494562</td><td>-1</td><td>-1</td><td>-1</td><td>-1</td><td></td><td></td><td>-1.0</td><td></td><td>23.2492</td><td>22.3166</td><td>21.2825</td><td>20.7062</td><td>19.7946</td><td>0.921741950142</td><td>361.831955158</td><td>3</td><td>GALAXY</td></tr>\n",
       "<tr><td>1237678662510052228</td><td>28.1964591132</td><td>5.17059183035</td><td>281543964623104</td><td>0</td><td>22.8561</td><td>23.8359</td><td>23.0913</td><td>21.2438</td><td>21.309</td><td>0.582493</td><td>0.542878</td><td>0.498974</td><td>0.164184</td><td>0.540072</td><td>0.234334</td><td>0.172421</td><td>0.125054</td><td>0.0948247</td><td>0.0672319</td><td>23.7238</td><td>24.1021</td><td>2.12049</td><td>26.2922673499</td><td>1.4782</td><td>2.46477</td><td>22.9259</td><td>25.7699724815</td><td>9999.0</td><td>9999.0</td><td>9999.0</td><td>9999.0</td><td>9999.0</td><td>9999.0</td><td>17.1515</td><td>0.1009</td><td>16.886</td><td>9999.0</td><td>-1.0</td><td>-1.0</td><td>-1</td><td>0.648154</td><td>0.136716</td><td>28.3054</td><td>4.19576</td><td>22.7469</td><td>1733.0</td><td>8.726</td><td>130625</td><td>0</td><td></td><td>58.8520693103</td><td>389.393645328</td><td>-1</td><td>-1</td><td>-1</td><td>-1</td><td></td><td></td><td>-1.0</td><td></td><td>23.3532</td><td>24.288</td><td>23.3992</td><td>22.6917</td><td>20.872</td><td>0.980856108509</td><td>385.03735608</td><td>3</td><td>GALAXY</td></tr>\n",
       "<tr><td>1237678662510051364</td><td>28.1972137678</td><td>5.18726645925</td><td>105622137864464</td><td>0</td><td>23.8923</td><td>24.8766</td><td>22.4492</td><td>20.7306</td><td>19.8729</td><td>0.821675</td><td>0.615349</td><td>0.19468</td><td>0.0701122</td><td>0.100044</td><td>0.23465</td><td>0.172653</td><td>0.125222</td><td>0.0949523</td><td>0.0673223</td><td>22.9415</td><td>23.2767</td><td>0.000197307</td><td>5.92028648453</td><td>0.561992</td><td>1.02767</td><td>22.795</td><td>23.5390627526</td><td>9999.0</td><td>9999.0</td><td>9999.0</td><td>9999.0</td><td>9999.0</td><td>9999.0</td><td>16.5881</td><td>0.0591522</td><td>16.217</td><td>0.202</td><td>-1.0</td><td>-1.0</td><td>-1</td><td>-1.0</td><td>-1.0</td><td>28.3054</td><td>4.19576</td><td>22.7469</td><td>1733.0</td><td>8.726</td><td>130625</td><td>0</td><td></td><td>59.8415908781</td><td>395.940140938</td><td>-1</td><td>-1</td><td>-1</td><td>-1</td><td></td><td></td><td>-1.0</td><td></td><td>25.8101</td><td>25.8554</td><td>23.4891</td><td>22.0693</td><td>20.0025</td><td>0.997348321978</td><td>391.511412993</td><td>6</td><td>STAR</td></tr>\n",
       "<tr><td>1237678662510116982</td><td>28.3337069795</td><td>5.10776644478</td><td>316730484326744</td><td>0</td><td>25.7161</td><td>24.8698</td><td>22.8344</td><td>21.5809</td><td>21.6903</td><td>0.651058</td><td>0.58195</td><td>0.26501</td><td>0.135785</td><td>0.44091</td><td>0.215469</td><td>0.15854</td><td>0.114986</td><td>0.0871907</td><td>0.0618193</td><td>22.6697</td><td>23.1127</td><td>0.0244326</td><td>16.7697111734</td><td>0.42014</td><td>0.821837</td><td>23.2889</td><td>23.4013678762</td><td>9999.0</td><td>9999.0</td><td>9999.0</td><td>9999.0</td><td>9999.0</td><td>9999.0</td><td>17.3609</td><td>0.12634</td><td>17.228</td><td>9999.0</td><td>-1.0</td><td>-1.0</td><td>-1</td><td>-1.0</td><td>-1.0</td><td>28.3054</td><td>4.19576</td><td>22.7469</td><td>1733.0</td><td>8.726</td><td>130625</td><td>0</td><td></td><td>54.7465971912</td><td>362.232246272</td><td>-1</td><td>-1</td><td>-1</td><td>-1</td><td></td><td></td><td>-1.0</td><td></td><td>26.4247</td><td>25.7258</td><td>23.7038</td><td>22.5256</td><td>21.2261</td><td>0.912443917985</td><td>358.181990921</td><td>6</td><td>STAR</td></tr>\n",
       "<tr><td>1237678662509985985</td><td>28.1009061015</td><td>5.10763501063</td><td>175990882046040</td><td>0</td><td>24.5062</td><td>22.5907</td><td>21.7351</td><td>21.4088</td><td>21.9126</td><td>1.19335</td><td>0.14864</td><td>0.120664</td><td>0.146045</td><td>0.654929</td><td>0.24698</td><td>0.181726</td><td>0.131803</td><td>0.0999419</td><td>0.0708601</td><td>21.8574</td><td>22.5122</td><td>0.528794</td><td>22.3470208491</td><td>0.819656</td><td>1.44438</td><td>21.8814</td><td>23.4450368489</td><td>9999.0</td><td>9999.0</td><td>9999.0</td><td>9999.0</td><td>9999.0</td><td>9999.0</td><td>9999.0</td><td>9999.0</td><td>16.984</td><td>0.506</td><td>-1.0</td><td>-1.0</td><td>-1</td><td>0.294265</td><td>0.18018</td><td>28.3054</td><td>4.19576</td><td>22.7469</td><td>1733.0</td><td>8.726</td><td>130625</td><td>0</td><td></td><td>56.0642111907</td><td>370.949508831</td><td>-1</td><td>-1</td><td>-1</td><td>-1</td><td></td><td></td><td>-1.0</td><td></td><td>23.707</td><td>23.0775</td><td>22.0913</td><td>21.5682</td><td>21.2062</td><td>0.93436838814</td><td>366.788492882</td><td>3</td><td>GALAXY</td></tr>\n",
       "<tr><td>1237678662509986579</td><td>28.1208007307</td><td>5.16413373448</td><td>281543964623104</td><td>0</td><td>25.0982</td><td>23.3477</td><td>21.843</td><td>21.0768</td><td>20.5302</td><td>1.20313</td><td>0.319962</td><td>0.148596</td><td>0.123131</td><td>0.250725</td><td>0.242153</td><td>0.178174</td><td>0.129227</td><td>0.0979886</td><td>0.0694751</td><td>22.3536</td><td>22.9275</td><td>0.588846</td><td>22.688425308</td><td>0.844619</td><td>1.27574</td><td>22.1939</td><td>23.822636445</td><td>9999.0</td><td>9999.0</td><td>9999.0</td><td>9999.0</td><td>9999.0</td><td>9999.0</td><td>17.0441</td><td>0.0927619</td><td>16.665</td><td>9999.0</td><td>-1.0</td><td>-1.0</td><td>-1</td><td>0.414299</td><td>0.06056</td><td>28.3054</td><td>4.19576</td><td>22.7469</td><td>1733.0</td><td>8.726</td><td>130625</td><td>0</td><td></td><td>59.1431466447</td><td>391.319363668</td><td>-1</td><td>-1</td><td>-1</td><td>-1</td><td></td><td></td><td>-1.0</td><td></td><td>24.9255</td><td>24.0377</td><td>22.4815</td><td>21.6087</td><td>20.4688</td><td>0.985689958387</td><td>386.934895139</td><td>3</td><td>GALAXY</td></tr>\n",
       "<tr><td>1237678662510052098</td><td>28.1652722636</td><td>5.15719765697</td><td>281543964758272</td><td>0</td><td>25.3852</td><td>23.2427</td><td>21.7037</td><td>21.4723</td><td>20.9145</td><td>1.02012</td><td>0.289176</td><td>0.12863</td><td>0.174122</td><td>0.333022</td><td>0.236477</td><td>0.173998</td><td>0.126198</td><td>0.0956919</td><td>0.0678467</td><td>22.279</td><td>22.7886</td><td>0.781781</td><td>23.2584532609</td><td>1.10817</td><td>3.26681</td><td>21.6195</td><td>23.8379656269</td><td>9999.0</td><td>9999.0</td><td>9999.0</td><td>9999.0</td><td>9999.0</td><td>9999.0</td><td>17.4795</td><td>0.139538</td><td>16.441</td><td>0.249</td><td>-1.0</td><td>-1.0</td><td>-1</td><td>0.38437</td><td>0.098365</td><td>28.3054</td><td>4.19576</td><td>22.7469</td><td>1733.0</td><td>8.726</td><td>130625</td><td>0</td><td></td><td>58.2924947433</td><td>385.691586949</td><td>-1</td><td>-1</td><td>-1</td><td>-1</td><td></td><td></td><td>-1.0</td><td></td><td>25.0531</td><td>23.9433</td><td>22.3571</td><td>21.5513</td><td>20.86</td><td>0.971523519244</td><td>381.373826369</td><td>3</td><td>GALAXY</td></tr>\n",
       "</table>"
      ],
      "text/plain": [
       "<Table masked=False length=68227>\n",
       "       objID              ra           dec      ...   rhost_kpc    type phot_sg \n",
       "       int64           float64       float64    ...    float64    int16 string48\n",
       "------------------- ------------- ------------- ... ------------- ----- --------\n",
       "1237678622239687293 28.2921893761  4.1654677952 ... 12.9620185552     3   GALAXY\n",
       "1237678622239687535 28.2808531784 4.17348908215 ... 12.9819538303     6     STAR\n",
       "1237678622239687551 28.2892305507  4.1666156998 ... 13.0688167029     3   GALAXY\n",
       "1237678661436375815 28.3178710528 4.22726178032 ... 13.2999571021     3   GALAXY\n",
       "1237678661436375822 28.3379290684 4.18852269949 ... 13.0612256568     3   GALAXY\n",
       "1237678622239687292 28.2917688682 4.16479395685 ... 13.2702853026     3   GALAXY\n",
       "1237678622239687263 28.2785906624 4.17256153768 ... 13.8858393607     3   GALAXY\n",
       "1237678622239687355  28.317615598 4.16035999997 ... 14.7005848556     6     STAR\n",
       "1237678622239687540 28.2854441287 4.16744059371 ... 13.5799959683     6     STAR\n",
       "1237678661436375790 28.2743655653 4.17756344018 ... 14.0828093349     3   GALAXY\n",
       "                ...           ...           ... ...           ...   ...      ...\n",
       "1237678662510051824 28.1978918711 5.14723189572 ... 375.862008147     3   GALAXY\n",
       "1237678662510117288  28.366052839 5.18434052911 ... 388.795275098     3   GALAXY\n",
       "1237678662510051901 28.2366528561 5.17101673671 ... 383.782070482     6     STAR\n",
       "1237678662510051760 28.1790396948 5.10886184428 ... 361.831955158     3   GALAXY\n",
       "1237678662510052228 28.1964591132 5.17059183035 ...  385.03735608     3   GALAXY\n",
       "1237678662510051364 28.1972137678 5.18726645925 ... 391.511412993     6     STAR\n",
       "1237678662510116982 28.3337069795 5.10776644478 ... 358.181990921     6     STAR\n",
       "1237678662509985985 28.1009061015 5.10763501063 ... 366.788492882     3   GALAXY\n",
       "1237678662509986579 28.1208007307 5.16413373448 ... 386.934895139     3   GALAXY\n",
       "1237678662510052098 28.1652722636 5.15719765697 ... 381.373826369     3   GALAXY"
      ]
     },
     "execution_count": 7,
     "metadata": {},
     "output_type": "execute_result"
    }
   ],
   "source": [
    "# actually make sure they're loaded here\n",
    "for h in candhosts:\n",
    "    h.get_sdss_catalog()\n",
    "h.get_sdss_catalog() # just to see"
   ]
  },
  {
   "cell_type": "code",
   "execution_count": 8,
   "metadata": {
    "collapsed": false
   },
   "outputs": [
    {
     "data": {
      "text/html": [
       "&lt;Table masked=False length=4950412&gt;\n",
       "<table id=\"table5087693648\">\n",
       "<thead><tr><th>OBJID</th><th>RA</th><th>DEC</th><th>DERED_R</th><th>PROBABILITY_CLASS_1</th><th>RESCALED_PROBABILITY_CLASS_1</th><th>BEST_GUESS_CLASS</th><th>objID</th></tr></thead>\n",
       "<thead><tr><th>int64</th><th>float64</th><th>float64</th><th>float64</th><th>float64</th><th>float64</th><th>int64</th><th>int64</th></tr></thead>\n",
       "<tr><td>1237645941824356440</td><td>40.2877964113</td><td>-0.735647060949</td><td>16.7594</td><td>0.00157168316197</td><td>0.000345859198981</td><td>0</td><td>1237645941824356440</td></tr>\n",
       "<tr><td>1237645941824356442</td><td>40.2745834514</td><td>-0.733014063478</td><td>17.4514</td><td>0.000372493836691</td><td>8.19307625291e-05</td><td>0</td><td>1237645941824356442</td></tr>\n",
       "<tr><td>1237645941824356481</td><td>40.2721052363</td><td>-0.642510253204</td><td>16.7911</td><td>0.00178514575454</td><td>0.000358794024809</td><td>0</td><td>1237645941824356481</td></tr>\n",
       "<tr><td>1237645941824356483</td><td>40.2712777717</td><td>-0.640725293001</td><td>20.9894</td><td>0.000240454811286</td><td>5.13915737065e-05</td><td>0</td><td>1237645941824356483</td></tr>\n",
       "<tr><td>1237645941824356484</td><td>40.2783697699</td><td>-0.641212507445</td><td>21.2884</td><td>0.000270864809902</td><td>5.63874521068e-05</td><td>0</td><td>1237645941824356484</td></tr>\n",
       "<tr><td>1237645941824356485</td><td>40.2826647047</td><td>-0.642892947061</td><td>22.4926</td><td>3.61806080935e-05</td><td>0.0</td><td>0</td><td>1237645941824356485</td></tr>\n",
       "<tr><td>1237645941824356497</td><td>40.2846730128</td><td>-0.817180215799</td><td>14.8628</td><td>0.000363130559728</td><td>8.19307625291e-05</td><td>0</td><td>1237645941824356497</td></tr>\n",
       "<tr><td>1237645941824356500</td><td>40.2881452154</td><td>-0.805045508948</td><td>14.3826</td><td>0.000488674982738</td><td>8.85746681048e-05</td><td>0</td><td>1237645941824356500</td></tr>\n",
       "<tr><td>1237645941824356501</td><td>40.2854134086</td><td>-0.804100473432</td><td>20.2454</td><td>0.000763301466982</td><td>0.000162326503484</td><td>0</td><td>1237645941824356501</td></tr>\n",
       "<tr><td>1237645941824356502</td><td>40.2864321267</td><td>-0.805524974161</td><td>21.6114</td><td>0.00112622517556</td><td>0.000245193599203</td><td>0</td><td>1237645941824356502</td></tr>\n",
       "<tr><td>...</td><td>...</td><td>...</td><td>...</td><td>...</td><td>...</td><td>...</td><td>...</td></tr>\n",
       "<tr><td>1237680297281717338</td><td>1.44329895651</td><td>21.639464378</td><td>22.7104</td><td>7.69491488335e-05</td><td>9.35409943407e-06</td><td>0</td><td>1237680297281717338</td></tr>\n",
       "<tr><td>1237680297281717341</td><td>1.44473602957</td><td>21.6251122949</td><td>22.8814</td><td>0.000102578487033</td><td>1.57161308307e-05</td><td>0</td><td>1237680297281717341</td></tr>\n",
       "<tr><td>1237680297281717352</td><td>1.46325993193</td><td>21.6345533376</td><td>22.5971</td><td>0.000201346396488</td><td>5.13915737065e-05</td><td>0</td><td>1237680297281717352</td></tr>\n",
       "<tr><td>1237680297281717353</td><td>1.46328344943</td><td>21.6459562987</td><td>22.9092</td><td>0.000126362198611</td><td>2.22024770719e-05</td><td>0</td><td>1237680297281717353</td></tr>\n",
       "<tr><td>1237680297281717359</td><td>1.48027999691</td><td>21.6351392954</td><td>22.5478</td><td>0.000118350728652</td><td>1.57161308307e-05</td><td>0</td><td>1237680297281717359</td></tr>\n",
       "<tr><td>1237680297281781900</td><td>1.49852208005</td><td>21.6317283243</td><td>18.1139</td><td>0.000565032531386</td><td>0.000113162017511</td><td>0</td><td>1237680297281781900</td></tr>\n",
       "<tr><td>1237680297281782214</td><td>1.49733088907</td><td>21.6239545317</td><td>21.4033</td><td>0.00030164923924</td><td>5.77062812064e-05</td><td>0</td><td>1237680297281782214</td></tr>\n",
       "<tr><td>1237680297281782227</td><td>1.50438437016</td><td>21.6262871241</td><td>20.4481</td><td>0.000228708137754</td><td>5.13915737065e-05</td><td>0</td><td>1237680297281782227</td></tr>\n",
       "<tr><td>1237680297281782271</td><td>1.5148542967</td><td>21.6269989748</td><td>22.1251</td><td>0.000109343616726</td><td>1.57161308307e-05</td><td>0</td><td>1237680297281782271</td></tr>\n",
       "<tr><td>1237680297281782683</td><td>1.50898644093</td><td>21.6253266286</td><td>22.5263</td><td>0.000104181047584</td><td>1.57161308307e-05</td><td>0</td><td>1237680297281782683</td></tr>\n",
       "</table>"
      ],
      "text/plain": [
       "<Table masked=False length=4950412>\n",
       "       OBJID              RA      ... BEST_GUESS_CLASS        objID       \n",
       "       int64           float64    ...      int64              int64       \n",
       "------------------- ------------- ... ---------------- -------------------\n",
       "1237645941824356440 40.2877964113 ...                0 1237645941824356440\n",
       "1237645941824356442 40.2745834514 ...                0 1237645941824356442\n",
       "1237645941824356481 40.2721052363 ...                0 1237645941824356481\n",
       "1237645941824356483 40.2712777717 ...                0 1237645941824356483\n",
       "1237645941824356484 40.2783697699 ...                0 1237645941824356484\n",
       "1237645941824356485 40.2826647047 ...                0 1237645941824356485\n",
       "1237645941824356497 40.2846730128 ...                0 1237645941824356497\n",
       "1237645941824356500 40.2881452154 ...                0 1237645941824356500\n",
       "1237645941824356501 40.2854134086 ...                0 1237645941824356501\n",
       "1237645941824356502 40.2864321267 ...                0 1237645941824356502\n",
       "                ...           ... ...              ...                 ...\n",
       "1237680297281717338 1.44329895651 ...                0 1237680297281717338\n",
       "1237680297281717341 1.44473602957 ...                0 1237680297281717341\n",
       "1237680297281717352 1.46325993193 ...                0 1237680297281717352\n",
       "1237680297281717353 1.46328344943 ...                0 1237680297281717353\n",
       "1237680297281717359 1.48027999691 ...                0 1237680297281717359\n",
       "1237680297281781900 1.49852208005 ...                0 1237680297281781900\n",
       "1237680297281782214 1.49733088907 ...                0 1237680297281782214\n",
       "1237680297281782227 1.50438437016 ...                0 1237680297281782227\n",
       "1237680297281782271  1.5148542967 ...                0 1237680297281782271\n",
       "1237680297281782683 1.50898644093 ...                0 1237680297281782683"
      ]
     },
     "execution_count": 8,
     "metadata": {},
     "output_type": "execute_result"
    }
   ],
   "source": [
    "mlpred = Table.read('catalogs/SAGA.ALL.objid_rescaledrobs_pred.Oct28_SDSS_nopreclean.csv.fits.gz')\n",
    "mlpred['objID'] = mlpred['OBJID'] # used for matching\n",
    "mlpred"
   ]
  },
  {
   "cell_type": "code",
   "execution_count": 9,
   "metadata": {
    "collapsed": true
   },
   "outputs": [],
   "source": [
    "p_column_for_ranking = 'PROBABILITY_CLASS_1' #this is *just* SDSS"
   ]
  },
  {
   "cell_type": "markdown",
   "metadata": {},
   "source": [
    "# Testing w/ NSA 150887"
   ]
  },
  {
   "cell_type": "code",
   "execution_count": 9,
   "metadata": {
    "collapsed": false
   },
   "outputs": [],
   "source": [
    "n150887 = candhosts[0]\n",
    "hosts_to_target = [n150887]"
   ]
  },
  {
   "cell_type": "code",
   "execution_count": 12,
   "metadata": {
    "collapsed": false
   },
   "outputs": [
    {
     "name": "stdout",
     "output_type": "stream",
     "text": [
      "Removed 4 objects for NSA150887\n",
      "removed 250 for remove list and 722 b/c observed\n",
      "n w/ ML pred>0.01 and observed: 7 not yet obs: 506\n"
     ]
    }
   ],
   "source": [
    "joined_catalogs = {}\n",
    "for h in hosts_to_target:\n",
    "    #filter on manual remove lists *and* REMOVE!=-1\n",
    "    cat = targeting.remove_targets_with_remlist(h.get_sdss_catalog(), h, 'catalogs/TargetRemoveAug28_2015.csv')\n",
    "    \n",
    "    pre_joined = table.join(cat, mlpred, join_type='left', keys='objID')\n",
    "    \n",
    "    tokeep = pre_joined['REMOVE']==-1\n",
    "    notobserved = pre_joined['ZQUALITY']<3\n",
    "    print('removed', np.sum(~tokeep),'for remove list and', np.sum(~notobserved),'b/c observed')\n",
    "    joined_catalogs[h] = pre_joined[tokeep&notobserved]\n",
    "    highp = pre_joined[p_column_for_ranking]>0.01\n",
    "    print('n w/ ML pred>0.01 and observed:', np.sum(highp&~notobserved), 'not yet obs:', np.sum(highp&notobserved))"
   ]
  },
  {
   "cell_type": "markdown",
   "metadata": {},
   "source": [
    "## No redmapper "
   ]
  },
  {
   "cell_type": "code",
   "execution_count": 13,
   "metadata": {
    "collapsed": false
   },
   "outputs": [
    {
     "name": "stdout",
     "output_type": "stream",
     "text": [
      "NSA150887 rank counts: {2: 3, 3: 3, 4: 52, 5: 84, 6: 80, 7: 251, 8: 9483, 9: 7581, -1: 51746}\n",
      "fraction not \"other\": 4.8%, nprob_obs=120\n",
      "\n"
     ]
    }
   ],
   "source": [
    "# compute ranks, which includes filtering on mag\n",
    "rankdct = {}\n",
    "for h in hosts_to_target:\n",
    "    cat = joined_catalogs[h]\n",
    "    \n",
    "    highprob = cat[p_column_for_ranking].filled(0) > 0.5\n",
    "    medprob = (cat[p_column_for_ranking].filled(0) > 0.05) & ~highprob\n",
    "    lowprob = (cat[p_column_for_ranking].filled(0) > 0.01) & ~highprob & ~medprob\n",
    "    inside = cat['RHOST_KPC']<300\n",
    "    \n",
    "    rankdct[h] = ranks = np.ones(len(cat), dtype=int)*-1 #the -1 will be re-set at the end\n",
    "    \n",
    "    # rank 1 reserved for flux stars\n",
    "    ranks[inside&highprob] = 2\n",
    "    ranks[~inside&highprob] = 3\n",
    "    ranks[inside&medprob] = 4\n",
    "    ranks[~inside&medprob] = 5\n",
    "    ranks[inside&lowprob] = 6\n",
    "    ranks[~inside&lowprob] = 7\n",
    "    \n",
    "    validtarget = (cat['r'] < 21.5) & (cat['fibermag_r']<23) & (cat['phot_sg']=='GALAXY')\n",
    "    other = ranks < 0\n",
    "    colorcutmsk = targeting.colorcut_mask(cat,  targeting.bossanova_color_cuts)\n",
    "    \n",
    "    ranks[validtarget&other&colorcutmsk] = 8\n",
    "    ranks[validtarget&other&~colorcutmsk] = 9\n",
    "    \n",
    "#informational\n",
    "for h, ranks in rankdct.items():\n",
    "    cat = joined_catalogs[h]\n",
    "    \n",
    "    hranks = dict(enumerate(np.bincount(ranks[ranks>-1])))\n",
    "    del hranks[0]\n",
    "    del hranks[1]\n",
    "    hranks[-1] = np.sum(ranks==-1)\n",
    "    \n",
    "    print(h.name,'rank counts:', hranks)\n",
    "    \n",
    "    nother =  np.sum(ranks==8)\n",
    "    nprob = np.sum((ranks<8)&(ranks>0))\n",
    "    nother_obs = 270-np.sum((ranks<8)&(ranks>0)&(cat['RHOST_ARCM']<30))\n",
    "    print('fraction not \"other\": {0:.1%}, nprob_obs={1}\\n'.format(nprob/(nprob+nother), nother_obs))"
   ]
  },
  {
   "cell_type": "markdown",
   "metadata": {},
   "source": [
    "## Sanity-checks"
   ]
  },
  {
   "cell_type": "markdown",
   "metadata": {},
   "source": [
    "### are the ML-selected objects meeting the fibermag and r cuts?"
   ]
  },
  {
   "cell_type": "code",
   "execution_count": 14,
   "metadata": {
    "collapsed": false
   },
   "outputs": [
    {
     "data": {
      "image/png": "[encoded data removed]",
      "text/plain": [
       "<matplotlib.figure.Figure at 0x14dcff450>"
      ]
     },
     "metadata": {},
     "output_type": "display_data"
    }
   ],
   "source": [
    "for h in hosts_to_target:\n",
    "    cat = joined_catalogs[h]\n",
    "    ranks = rankdct[h]\n",
    "\n",
    "    plt.figure()\n",
    "    \n",
    "    msk = (ranks>0)&(ranks<8)\n",
    "    plt.subplot(1,2,1)\n",
    "    plt.hist(cat[msk]['r'],bins=25, histtype='step')\n",
    "    plt.axvline(21,c='r')\n",
    "    plt.xlabel('r')\n",
    "    plt.title(h.name, fontsize=24)\n",
    "    \n",
    "    plt.subplot(1,2,2)\n",
    "    plt.hist(cat[msk]['fibermag_r'],bins=25, histtype='step')\n",
    "    plt.axvline(23,c='r')\n",
    "    plt.xlabel('fibermag_r')\n",
    "    plt.title(h.name, fontsize=24)\n",
    "    \n",
    "    plt.tight_layout()"
   ]
  },
  {
   "cell_type": "markdown",
   "metadata": {},
   "source": [
    "### Check that new ML predictions are fairly complete "
   ]
  },
  {
   "cell_type": "code",
   "execution_count": 17,
   "metadata": {
    "collapsed": false
   },
   "outputs": [
    {
     "data": {
      "image/png": "[encoded data removed]",
      "text/plain": [
       "<matplotlib.figure.Figure at 0x14c221fd0>"
      ]
     },
     "metadata": {},
     "output_type": "display_data"
    }
   ],
   "source": [
    "\n",
    "bins = np.linspace(15,25, 100)\n",
    "notinml = cat['OBJID'].mask\n",
    "plt.hist(cat['r'], color='b', bins=bins, histtype='step', label='all')\n",
    "plt.hist(cat['r'][notinml], color='r', bins=bins, histtype='step', label='insdssnotML')\n",
    "plt.legend(loc=0)\n",
    "None"
   ]
  },
  {
   "cell_type": "markdown",
   "metadata": {},
   "source": [
    "### check compared to the *old* mlpred file"
   ]
  },
  {
   "cell_type": "code",
   "execution_count": 18,
   "metadata": {
    "collapsed": true
   },
   "outputs": [],
   "source": [
    "mlpred_old = Table.read('catalogs/SAGAobjid_PredictionAug28_SDSS_SDSSwise_v4removed_combinedPs.fits.gz')\n",
    "mlpred_old['OBJID'].name = 'objID'"
   ]
  },
  {
   "cell_type": "code",
   "execution_count": 19,
   "metadata": {
    "collapsed": false
   },
   "outputs": [
    {
     "name": "stdout",
     "output_type": "stream",
     "text": [
      "Removed 4 objects for NSA150887\n",
      "removed 250 for remove list and 722 b/c observed\n",
      "n w/ ML pred>0.01 and observed: 0 not yet obs: 124\n"
     ]
    }
   ],
   "source": [
    "# \n",
    "joined_catalogs_old = {}\n",
    "for h in hosts_to_target:\n",
    "    #filter on manual remove lists *and* REMOVE!=-1\n",
    "    cat = targeting.remove_targets_with_remlist(h.get_sdss_catalog(), h, 'catalogs/TargetRemoveAug28_2015.csv')\n",
    "    \n",
    "    pre_joined = table.join(cat, mlpred_old, join_type='left', keys='objID')\n",
    "    \n",
    "    tokeep = pre_joined['REMOVE']==-1\n",
    "    notobserved = pre_joined['ZQUALITY']<3\n",
    "    print('removed', np.sum(~tokeep),'for remove list and', np.sum(~notobserved),'b/c observed')\n",
    "    joined_catalogs_old[h] = pre_joined[tokeep&notobserved]\n",
    "    highp = pre_joined[p_column_for_ranking]>0.01\n",
    "    print('n w/ ML pred>0.01 and observed:', np.sum(highp&~notobserved), 'not yet obs:', np.sum(highp&notobserved))"
   ]
  },
  {
   "cell_type": "code",
   "execution_count": 20,
   "metadata": {
    "collapsed": false
   },
   "outputs": [
    {
     "data": {
      "image/png": "[encoded data removed]",
      "text/plain": [
       "<matplotlib.figure.Figure at 0x150d26850>"
      ]
     },
     "metadata": {},
     "output_type": "display_data"
    }
   ],
   "source": [
    "cat = joined_catalogs_old[n150887]\n",
    "bins = np.linspace(15,25, 100)\n",
    "notinml = cat['PROBABILITY_CLASS_1'].mask\n",
    "plt.hist(cat['r'], color='b', bins=bins, histtype='step', label='all')\n",
    "plt.hist(cat['r'][notinml], color='r', bins=bins, histtype='step', label='insdssnotML')\n",
    "plt.legend(loc=0)\n",
    "None"
   ]
  },
  {
   "cell_type": "markdown",
   "metadata": {},
   "source": [
    "## Now actually generate a catalog "
   ]
  },
  {
   "cell_type": "code",
   "execution_count": 22,
   "metadata": {
    "collapsed": false
   },
   "outputs": [
    {
     "name": "stdout",
     "output_type": "stream",
     "text": [
      "On host NSA150887\n",
      "Going to write mmthecto/NSA150887_nov2015.cat\n",
      "Including 4503 targets\n",
      "Found 73 Flux stars\n",
      "Removing 34 Flux stars too close to program stars\n",
      "Could not find psf mags so falling back on regular mags...\n",
      "Found 255 guide stars\n"
     ]
    }
   ],
   "source": [
    "generated_cats = {}\n",
    "for h in hosts_to_target:\n",
    "    print('On host', h.name)\n",
    "    sys.stdout.flush()\n",
    "\n",
    "    cat = joined_catalogs[h]\n",
    "    ranks = rankdct[h]\n",
    "    \n",
    "    fnout = 'mmthecto/{0}_nov2015.cat'.format(h.name)\n",
    "    fluxfnout = fnout.replace('.cat', '.fluxstars')\n",
    "    print('Going to write', fnout)\n",
    "    \n",
    "    msk = (cat['RHOST_ARCM']<40) & (ranks>0) & (ranks<9)\n",
    "    generated_cats[h] = mmthecto.generate_catalog(h, cat[msk], ranks[msk], \n",
    "                                         repeatflux=3, removefluxdistance=1*u.arcmin,\n",
    "                                         fnout=fnout, fluxfnout=fluxfnout)"
   ]
  },
  {
   "cell_type": "markdown",
   "metadata": {},
   "source": [
    "### Have a look at the  input catalog"
   ]
  },
  {
   "cell_type": "code",
   "execution_count": 68,
   "metadata": {
    "collapsed": false
   },
   "outputs": [],
   "source": [
    "gcat = generated_cats[h]"
   ]
  },
  {
   "cell_type": "code",
   "execution_count": 77,
   "metadata": {
    "collapsed": false
   },
   "outputs": [
    {
     "data": {
      "text/plain": [
       "{-1: 255, 1: 117, 2: 3, 4: 52, 5: 14, 6: 80, 7: 79, 8: 4275}"
      ]
     },
     "execution_count": 77,
     "metadata": {},
     "output_type": "execute_result"
    }
   ],
   "source": [
    "ranknum = gcat['rank'].copy()\n",
    "ranknum[gcat['rank']==''] = '-1'\n",
    "ranknum = ranknum.astype(int)\n",
    "{r: np.sum(r==ranknum) for r in set(ranknum)}"
   ]
  },
  {
   "cell_type": "code",
   "execution_count": 122,
   "metadata": {
    "collapsed": false
   },
   "outputs": [],
   "source": [
    "msk = (ranknum>1)&(ranknum<6)\n",
    "gcatm = gcat[msk]\n",
    "targeting.sampled_imagelist(gcatm[np.argsort(gcatm['ra'])], None, None, names=gcat['rank'][msk])\n",
    "None"
   ]
  },
  {
   "cell_type": "code",
   "execution_count": 155,
   "metadata": {
    "collapsed": false
   },
   "outputs": [
    {
     "data": {
      "text/plain": [
       "[[5, 6, 7],\n",
       " [18, 20],\n",
       " [24, 25, 28, 27],\n",
       " [33, 34, 35, 35],\n",
       " [46, 47, 48],\n",
       " [49, 50],\n",
       " [51, 52],\n",
       " [58, 59],\n",
       " [65, 66]]"
      ]
     },
     "execution_count": 155,
     "metadata": {},
     "output_type": "execute_result"
    }
   ],
   "source": [
    "#identify clumps of nearby objects\n",
    "gcatmsc = SkyCoord(gcatm['ra'], gcatm['dec'], unit=u.deg)\n",
    "seps = u.Quantity([c.separation(gcatmsc) for c in gcatmsc])\n",
    "\n",
    "pairs = zip(*np.where((seps>0.1*u.arcsec)&(seps<10*u.arcsec)))\n",
    "pairs = [pair for pair in pairs if pair[0]<pair[1]]\n",
    "\n",
    "clumps = []\n",
    "for p1, p2 in pairs:\n",
    "    for clump in clumps:\n",
    "        if p1 in clump:\n",
    "            clump.append(p2)\n",
    "            break\n",
    "        elif p2 in clump:\n",
    "            clump.append(p1)\n",
    "            break\n",
    "    else:\n",
    "        clumps.append([p1, p2])\n",
    "for cl in clumps:\n",
    "    targeting.sampled_imagelist(gcatm[np.array(cl)], None, None, names=cl)\n",
    "clumps"
   ]
  },
  {
   "cell_type": "code",
   "execution_count": 161,
   "metadata": {
    "collapsed": false
   },
   "outputs": [
    {
     "data": {
      "text/plain": [
       "1"
      ]
     },
     "execution_count": 161,
     "metadata": {},
     "output_type": "execute_result"
    }
   ],
   "source": [
    "np.sum(joined_catalogs[n150887]['objID']==long(1237678777399509169))"
   ]
  },
  {
   "cell_type": "code",
   "execution_count": 163,
   "metadata": {
    "collapsed": false
   },
   "outputs": [
    {
     "data": {
      "text/html": [
       "&lt;Table masked=True length=3&gt;\n",
       "<table id=\"table5652501584\">\n",
       "<thead><tr><th>objID</th><th>ra</th><th>dec</th><th>flags</th><th>specObjID</th><th>u</th><th>g</th><th>r</th><th>i</th><th>z</th><th>u_err</th><th>g_err</th><th>r_err</th><th>i_err</th><th>z_err</th><th>Au</th><th>Ag</th><th>Ar</th><th>Ai</th><th>Az</th><th>fibermag_r</th><th>fiber2mag_r</th><th>expRad_r</th><th>sb_exp_r</th><th>petroR50_r</th><th>petroR90_r</th><th>petroMag_r</th><th>sb_petro_r</th><th>J</th><th>Jerr</th><th>H</th><th>Herr</th><th>K</th><th>Kerr</th><th>w1</th><th>w1err</th><th>w2</th><th>w2err</th><th>spec_z</th><th>spec_z_err</th><th>spec_z_warn</th><th>photoz</th><th>photoz_err</th><th>HOST_RA</th><th>HOST_DEC</th><th>HOST_DIST</th><th>HOST_VHOST</th><th>HOST_MK</th><th>HOST_NSAID</th><th>HOST_FLAG</th><th>HOST_SAGA_NAME</th><th>RHOST_ARCM</th><th>RHOST_KPC</th><th>OBJ_NSAID</th><th>PCLASS_1</th><th>SATS</th><th>REMOVE</th><th>TELNAME</th><th>MASKNAME</th><th>ZQUALITY</th><th>SPEC_REPEAT</th><th>U</th><th>B</th><th>V</th><th>R</th><th>I</th><th>rhost</th><th>rhost_kpc</th><th>type</th><th>phot_sg</th><th>OBJID</th><th>RA</th><th>DEC</th><th>DERED_R</th><th>PROBABILITY_CLASS_1</th><th>RESCALED_PROBABILITY_CLASS_1</th><th>BEST_GUESS_CLASS</th></tr></thead>\n",
       "<thead><tr><th>int64</th><th>float64</th><th>float64</th><th>int64</th><th>int64</th><th>float32</th><th>float32</th><th>float32</th><th>float32</th><th>float32</th><th>float32</th><th>float32</th><th>float32</th><th>float32</th><th>float32</th><th>float32</th><th>float32</th><th>float32</th><th>float32</th><th>float32</th><th>float32</th><th>float32</th><th>float32</th><th>float64</th><th>float32</th><th>float32</th><th>float32</th><th>float64</th><th>float32</th><th>float32</th><th>float32</th><th>float32</th><th>float32</th><th>float32</th><th>float32</th><th>float32</th><th>float32</th><th>float32</th><th>float32</th><th>float32</th><th>int32</th><th>float32</th><th>float32</th><th>float64</th><th>float64</th><th>float64</th><th>float64</th><th>float64</th><th>int64</th><th>int64</th><th>string384</th><th>float64</th><th>float64</th><th>int64</th><th>int64</th><th>int64</th><th>int64</th><th>string32</th><th>string384</th><th>float64</th><th>string384</th><th>float32</th><th>float32</th><th>float32</th><th>float32</th><th>float32</th><th>float64</th><th>float64</th><th>int16</th><th>string48</th><th>int64</th><th>float64</th><th>float64</th><th>float64</th><th>float64</th><th>float64</th><th>int64</th></tr></thead>\n",
       "<tr><td>1237678777399509169</td><td>348.875470715</td><td>4.61463399851</td><td>35253360136976</td><td>0</td><td>17.9521</td><td>16.8473</td><td>16.4473</td><td>16.1783</td><td>16.0934</td><td>0.0625012</td><td>0.00996324</td><td>0.0118409</td><td>0.0145512</td><td>0.0544884</td><td>0.369924</td><td>0.272186</td><td>0.197412</td><td>0.149692</td><td>0.106133</td><td>19.9074</td><td>20.4247</td><td>14.4644</td><td>24.244265902</td><td>11.129</td><td>21.928</td><td>16.5673</td><td>23.7950578723</td><td>9999.0</td><td>9999.0</td><td>9999.0</td><td>9999.0</td><td>9999.0</td><td>9999.0</td><td>14.6228</td><td>0.0908054</td><td>9999.0</td><td>9999.0</td><td>-1.0</td><td>-1.0</td><td>-1</td><td>0.056739</td><td>0.019698</td><td>348.683</td><td>4.53406</td><td>37.019</td><td>2689.0</td><td>8.327</td><td>150887</td><td>0</td><td></td><td>12.486005011</td><td>134.453883338</td><td>-1</td><td>-1</td><td>-1</td><td>-1</td><td></td><td></td><td>-1.0</td><td></td><td>17.1581</td><td>17.1916</td><td>16.6053</td><td>16.2892</td><td>15.7485</td><td>0.208173896381</td><td>133.338436792</td><td>3</td><td>GALAXY</td><td>1237678777399509169</td><td>348.875470715</td><td>4.61463399851</td><td>16.2499</td><td>0.473888691928</td><td>0.505488139871</td><td>0</td></tr>\n",
       "<tr><td>1237678777399509170</td><td>348.874199097</td><td>4.61326147472</td><td>1231558551928920</td><td>0</td><td>22.3159</td><td>20.6245</td><td>20.0919</td><td>19.8157</td><td>19.8534</td><td>0.392078</td><td>0.0384179</td><td>0.0380788</td><td>0.0441104</td><td>0.174327</td><td>0.36957</td><td>0.271926</td><td>0.197224</td><td>0.149549</td><td>0.106032</td><td>20.33</td><td>21.1625</td><td>0.91242</td><td>21.8883004344</td><td>1.14993</td><td>1.76627</td><td>20.2737</td><td>22.5725191946</td><td>9999.0</td><td>9999.0</td><td>9999.0</td><td>9999.0</td><td>9999.0</td><td>9999.0</td><td>16.1166</td><td>0.0458888</td><td>15.574</td><td>0.149</td><td>-1.0</td><td>-1.0</td><td>-1</td><td>0.052225</td><td>0.046889</td><td>348.683</td><td>4.53406</td><td>37.019</td><td>2689.0</td><td>8.327</td><td>150887</td><td>0</td><td></td><td>12.3840809333</td><td>133.356332238</td><td>-1</td><td>-1</td><td>-1</td><td>-1</td><td></td><td></td><td>-1.0</td><td></td><td>21.352</td><td>21.0102</td><td>20.3076</td><td>19.9326</td><td>19.4333</td><td>0.206475522261</td><td>132.250603235</td><td>3</td><td>GALAXY</td><td>1237678777399509170</td><td>348.874199097</td><td>4.61326147472</td><td>19.8947</td><td>0.0891206695302</td><td>0.0631252166206</td><td>0</td></tr>\n",
       "<tr><td>1237678777399509175</td><td>348.873312422</td><td>4.61612028637</td><td>246290906743128</td><td>0</td><td>22.9129</td><td>21.6294</td><td>21.566</td><td>22.7656</td><td>22.9657</td><td>0.575839</td><td>0.078098</td><td>0.121213</td><td>0.515372</td><td>1.13875</td><td>0.369564</td><td>0.271922</td><td>0.19722</td><td>0.149546</td><td>0.10603</td><td>21.8345</td><td>22.4355</td><td>0.493071</td><td>22.0445243717</td><td>1.08031</td><td>2.03902</td><td>21.6577</td><td>23.8208900224</td><td>9999.0</td><td>9999.0</td><td>9999.0</td><td>9999.0</td><td>9999.0</td><td>9999.0</td><td>17.6124</td><td>0.181179</td><td>9999.0</td><td>9999.0</td><td>-1.0</td><td>-1.0</td><td>-1</td><td>0.060248</td><td>0.040626</td><td>348.683</td><td>4.53406</td><td>37.019</td><td>2689.0</td><td>8.327</td><td>150887</td><td>0</td><td></td><td>12.4022149121</td><td>133.551604736</td><td>-1</td><td>-1</td><td>-1</td><td>-1</td><td></td><td></td><td>-1.0</td><td></td><td>21.7492</td><td>21.8682</td><td>21.5776</td><td>21.6325</td><td>22.4458</td><td>0.206776961875</td><td>132.443679733</td><td>3</td><td>GALAXY</td><td>1237678777399509175</td><td>348.873312422</td><td>4.61612028637</td><td>21.3688</td><td>0.0984644726791</td><td>0.0739143669066</td><td>0</td></tr>\n",
       "</table>"
      ],
      "text/plain": [
       "<Table masked=True length=3>\n",
       "       objID              ra      ... BEST_GUESS_CLASS\n",
       "       int64           float64    ...      int64      \n",
       "------------------- ------------- ... ----------------\n",
       "1237678777399509169 348.875470715 ...                0\n",
       "1237678777399509170 348.874199097 ...                0\n",
       "1237678777399509175 348.873312422 ...                0"
      ]
     },
     "execution_count": 163,
     "metadata": {},
     "output_type": "execute_result"
    }
   ],
   "source": [
    "cat = joined_catalogs[n150887]\n",
    "clumpcats = []\n",
    "for clump in clumps:\n",
    "    msk = np.zeros(len(cat), dtype=bool)\n",
    "    for c in clump:\n",
    "        msk[cat['objID']==long(gcatm[c]['object'])] = True\n",
    "    clumpcats.append(cat[msk])\n",
    "clumpcats[0]"
   ]
  },
  {
   "cell_type": "code",
   "execution_count": 167,
   "metadata": {
    "collapsed": false
   },
   "outputs": [
    {
     "data": {
      "text/plain": [
       "(69, 24, 15, 0.34782608695652173, 0.21739130434782608)"
      ]
     },
     "execution_count": 167,
     "metadata": {},
     "output_type": "execute_result"
    }
   ],
   "source": [
    "clumped = []\n",
    "for clump in clumps:\n",
    "    for i in clump:\n",
    "        clumped.append(i)\n",
    "        \n",
    "nmult = len(clumped) - len(clumps)\n",
    "len(gcatm), len(clumped), nmult, len(clumped)/len(gcatm), nmult/len(gcatm)"
   ]
  },
  {
   "cell_type": "markdown",
   "metadata": {},
   "source": [
    "### Have a looksee at the configuration output by xfitfibs "
   ]
  },
  {
   "cell_type": "code",
   "execution_count": 63,
   "metadata": {
    "collapsed": false
   },
   "outputs": [],
   "source": [
    "coords, targets, ranks, fields = mmthecto.parse_cfg_file('mmthecto/NSA150887_nov2015.cfg')"
   ]
  },
  {
   "cell_type": "code",
   "execution_count": 65,
   "metadata": {
    "collapsed": false
   },
   "outputs": [
    {
     "data": {
      "text/plain": [
       "'name ra dec\\n1277 348.696642083 4.639955\\n2945 348.394260417 4.55277194444\\n1278 348.727540833 4.71334444444'"
      ]
     },
     "execution_count": 65,
     "metadata": {},
     "output_type": "execute_result"
    }
   ],
   "source": [
    "msk = ranks == 2\n",
    "targeting.sampled_imagelist(coords[msk], None, None, names=targets[msk])"
   ]
  },
  {
   "cell_type": "markdown",
   "metadata": {},
   "source": [
    "# Production run"
   ]
  },
  {
   "cell_type": "code",
   "execution_count": 10,
   "metadata": {
    "collapsed": false
   },
   "outputs": [
    {
     "data": {
      "text/plain": [
       "[<hosts.NSAHost object w/ name 'NSA150887'>,\n",
       " <hosts.NSAHost object w/ name 'NSA150578'>,\n",
       " <hosts.NSAHost object w/ name 'OBrother' AKA: ['NSA149781']>,\n",
       " <hosts.NSAHost object w/ name 'NSA150307'>,\n",
       " <hosts.NSAHost object w/ name 'AnaK' AKA: ['NGC7716', 'NSA61945']>,\n",
       " <hosts.NSAHost object w/ name 'NSA149977'>,\n",
       " <hosts.NSAHost object w/ name 'NSA153017'>,\n",
       " <hosts.NSAHost object w/ name 'NSA129387'>,\n",
       " <hosts.NSAHost object w/ name 'NSA129237'>,\n",
       " <hosts.NSAHost object w/ name 'Narnia' AKA: ['NGC1015', 'NSA132339']>,\n",
       " <hosts.NSAHost object w/ name 'NSA126115'>]"
      ]
     },
     "execution_count": 10,
     "metadata": {},
     "output_type": "execute_result"
    }
   ],
   "source": [
    "hostnames_to_target = [150887, 150578, 'OBrother', 150307, 'AnaK', 149977, 153017, 129387, 129237, 'Narnia', 126115]\n",
    "hosts_to_target = []\n",
    "for hostname in hostnames_to_target:\n",
    "    if isinstance(hostname, basestring):\n",
    "        for host in candhosts:\n",
    "            if host.name == hostname:\n",
    "                hosts_to_target.append(host)\n",
    "                break\n",
    "        else:\n",
    "            raise ValueError('could not find host named {0}'.format(hostname))\n",
    "    else:\n",
    "        for host in candhosts:\n",
    "            if host.nsaid == hostname:\n",
    "                hosts_to_target.append(host)\n",
    "                break                \n",
    "        else:\n",
    "            raise ValueError('could not find host with nsa number {0}'.format(hostname))\n",
    "hosts_to_target"
   ]
  },
  {
   "cell_type": "code",
   "execution_count": 11,
   "metadata": {
    "collapsed": false
   },
   "outputs": [
    {
     "name": "stdout",
     "output_type": "stream",
     "text": [
      "Removed 4 objects for NSA150887\n",
      "removed 250 for remove list and 722 b/c observed\n",
      "n w/ ML pred>0.01 and observed: 7 not yet obs: 506\n",
      "No matches found for host \"NSA150578\" in remove list. Maybe you mis-typed something?\n",
      "removed 58 for remove list and 47 b/c observed\n",
      "n w/ ML pred>0.01 and observed: 6 not yet obs: 711\n",
      "Removed 3 objects for OBrother\n",
      "removed 280 for remove list and 411 b/c observed\n",
      "n w/ ML pred>0.01 and observed: 14 not yet obs: 732\n",
      "No matches found for host \"NSA150307\" in remove list. Maybe you mis-typed something?\n",
      "removed 80 for remove list and 2 b/c observed\n",
      "n w/ ML pred>0.01 and observed: 1 not yet obs: 375\n",
      "Removed 18 objects for AnaK\n",
      "removed 479 for remove list and 2060 b/c observed\n",
      "n w/ ML pred>0.01 and observed: 72 not yet obs: 798\n",
      "No matches found for host \"NSA149977\" in remove list. Maybe you mis-typed something?\n",
      "removed 52 for remove list and 225 b/c observed\n",
      "n w/ ML pred>0.01 and observed: 5 not yet obs: 516\n",
      "No matches found for host \"NSA153017\" in remove list. Maybe you mis-typed something?\n",
      "removed 89 for remove list and 3 b/c observed\n",
      "n w/ ML pred>0.01 and observed: 2 not yet obs: 471\n",
      "Removed 7 objects for NSA129387\n",
      "removed 282 for remove list and 317 b/c observed\n",
      "n w/ ML pred>0.01 and observed: 12 not yet obs: 612\n",
      "Removed 2 objects for NSA129237\n",
      "removed 218 for remove list and 532 b/c observed\n",
      "n w/ ML pred>0.01 and observed: 9 not yet obs: 986\n",
      "Removed 5 objects for Narnia\n",
      "removed 469 for remove list and 1185 b/c observed\n",
      "n w/ ML pred>0.01 and observed: 70 not yet obs: 789\n",
      "Removed 2 objects for NSA126115\n",
      "removed 52 for remove list and 5 b/c observed\n",
      "n w/ ML pred>0.01 and observed: 4 not yet obs: 460\n"
     ]
    }
   ],
   "source": [
    "joined_catalogs = {}\n",
    "for h in hosts_to_target:\n",
    "    #filter on manual remove lists *and* REMOVE!=-1\n",
    "    cat = targeting.remove_targets_with_remlist(h.get_sdss_catalog(), h, 'catalogs/TargetRemoveAug28_2015.csv')\n",
    "    \n",
    "    pre_joined = table.join(cat, mlpred, join_type='left', keys='objID')\n",
    "    \n",
    "    tokeep = pre_joined['REMOVE']==-1\n",
    "    notobserved = pre_joined['ZQUALITY']<3\n",
    "    print('removed', np.sum(~tokeep),'for remove list and', np.sum(~notobserved),'b/c observed')\n",
    "    joined_catalogs[h] = pre_joined[tokeep&notobserved]\n",
    "    highp = pre_joined[p_column_for_ranking]>0.01\n",
    "    print('n w/ ML pred>0.01 and observed:', np.sum(highp&~notobserved), 'not yet obs:', np.sum(highp&notobserved))"
   ]
  },
  {
   "cell_type": "markdown",
   "metadata": {},
   "source": [
    "### Includes Redmapper "
   ]
  },
  {
   "cell_type": "code",
   "execution_count": 12,
   "metadata": {
    "collapsed": false
   },
   "outputs": [
    {
     "data": {
      "text/html": [
       "&lt;Table masked=False length=631&gt;\n",
       "<table id=\"table4518628048\">\n",
       "<thead><tr><th>OBJID</th><th>RA</th><th>DEC</th><th>RMAG</th></tr></thead>\n",
       "<thead><tr><th>int64</th><th>float64</th><th>float64</th><th>float32</th></tr></thead>\n",
       "<tr><td>1237678776862507491</td><td>348.579777605</td><td>4.32783514044</td><td>19.8827</td></tr>\n",
       "<tr><td>1237678776862507396</td><td>348.524872272</td><td>4.37104962664</td><td>20.2401</td></tr>\n",
       "<tr><td>1237679005021766016</td><td>348.408632143</td><td>4.48647461874</td><td>20.4682</td></tr>\n",
       "<tr><td>1237679005021766095</td><td>348.434188695</td><td>4.51415572616</td><td>20.0641</td></tr>\n",
       "<tr><td>1237679005021766194</td><td>348.467962826</td><td>4.51723020806</td><td>19.6637</td></tr>\n",
       "<tr><td>1237678776862441902</td><td>348.375664902</td><td>4.30292498984</td><td>20.5198</td></tr>\n",
       "<tr><td>1237679005021700367</td><td>348.345592087</td><td>4.4104833109</td><td>18.9509</td></tr>\n",
       "<tr><td>1237679005021701029</td><td>348.392077147</td><td>4.43849219143</td><td>19.3736</td></tr>\n",
       "<tr><td>1237679005021765999</td><td>348.407858965</td><td>4.41972791471</td><td>19.4642</td></tr>\n",
       "<tr><td>1237679005021766015</td><td>348.409209486</td><td>4.47036051646</td><td>20.134</td></tr>\n",
       "<tr><td>...</td><td>...</td><td>...</td><td>...</td></tr>\n",
       "<tr><td>1237679504319513253</td><td>1.58040174445</td><td>20.5233023981</td><td>19.6759</td></tr>\n",
       "<tr><td>1237680247351935147</td><td>1.59785784561</td><td>20.613360398</td><td>19.9404</td></tr>\n",
       "<tr><td>1237680247351935363</td><td>1.56722153431</td><td>20.6135199999</td><td>19.7791</td></tr>\n",
       "<tr><td>1237680247351935417</td><td>1.58931885045</td><td>20.601420206</td><td>19.9253</td></tr>\n",
       "<tr><td>1237680246814933760</td><td>1.3718791194</td><td>20.2917293159</td><td>20.0632</td></tr>\n",
       "<tr><td>1237680246814998893</td><td>1.39590754586</td><td>20.3190345081</td><td>19.0755</td></tr>\n",
       "<tr><td>1237680246814933557</td><td>1.30278781183</td><td>20.2578841373</td><td>19.3816</td></tr>\n",
       "<tr><td>1237680246814933442</td><td>1.25289691996</td><td>20.2380662109</td><td>20.7478</td></tr>\n",
       "<tr><td>1237680247351542209</td><td>0.628270094136</td><td>20.6373921075</td><td>20.5838</td></tr>\n",
       "<tr><td>1237679504855990717</td><td>0.601830536118</td><td>20.7929325456</td><td>20.4004</td></tr>\n",
       "</table>"
      ],
      "text/plain": [
       "<Table masked=False length=631>\n",
       "       OBJID              RA            DEC        RMAG \n",
       "       int64           float64        float64    float32\n",
       "------------------- -------------- ------------- -------\n",
       "1237678776862507491  348.579777605 4.32783514044 19.8827\n",
       "1237678776862507396  348.524872272 4.37104962664 20.2401\n",
       "1237679005021766016  348.408632143 4.48647461874 20.4682\n",
       "1237679005021766095  348.434188695 4.51415572616 20.0641\n",
       "1237679005021766194  348.467962826 4.51723020806 19.6637\n",
       "1237678776862441902  348.375664902 4.30292498984 20.5198\n",
       "1237679005021700367  348.345592087  4.4104833109 18.9509\n",
       "1237679005021701029  348.392077147 4.43849219143 19.3736\n",
       "1237679005021765999  348.407858965 4.41972791471 19.4642\n",
       "1237679005021766015  348.409209486 4.47036051646  20.134\n",
       "                ...            ...           ...     ...\n",
       "1237679504319513253  1.58040174445 20.5233023981 19.6759\n",
       "1237680247351935147  1.59785784561  20.613360398 19.9404\n",
       "1237680247351935363  1.56722153431 20.6135199999 19.7791\n",
       "1237680247351935417  1.58931885045  20.601420206 19.9253\n",
       "1237680246814933760   1.3718791194 20.2917293159 20.0632\n",
       "1237680246814998893  1.39590754586 20.3190345081 19.0755\n",
       "1237680246814933557  1.30278781183 20.2578841373 19.3816\n",
       "1237680246814933442  1.25289691996 20.2380662109 20.7478\n",
       "1237680247351542209 0.628270094136 20.6373921075 20.5838\n",
       "1237679504855990717 0.601830536118 20.7929325456 20.4004"
      ]
     },
     "execution_count": 12,
     "metadata": {},
     "output_type": "execute_result"
    }
   ],
   "source": [
    "redmappertargs = table.Table.read('catalogs/redmagic_targets_0828.fit')\n",
    "redmappertargs"
   ]
  },
  {
   "cell_type": "code",
   "execution_count": 13,
   "metadata": {
    "collapsed": false
   },
   "outputs": [
    {
     "name": "stdout",
     "output_type": "stream",
     "text": [
      "NSA153017 rank counts: {2: 1, 3: 0, 4: 55, 5: 38, 6: 203, 7: 165, 8: 66, 9: 9011, 10: 6426, -1: 46178}\n",
      "fraction not \"other\": 87.5%, nprob_obs=174\n",
      "\n",
      "NSA129387 rank counts: {2: 0, 3: 2, 4: 42, 5: 105, 6: 104, 7: 346, 8: 49, 9: 10017, 10: 6065, -1: 53318}\n",
      "fraction not \"other\": 92.4%, nprob_obs=94\n",
      "\n",
      "OBrother rank counts: {2: 0, 3: 2, 4: 24, 5: 163, 6: 88, 7: 440, 8: 66, 9: 9093, 10: 6090, -1: 63281}\n",
      "fraction not \"other\": 91.6%, nprob_obs=124\n",
      "\n",
      "NSA150307 rank counts: {2: 0, 3: 3, 4: 27, 5: 58, 6: 59, 7: 210, 8: 24, 9: 8229, 10: 5351, -1: 42612}\n",
      "fraction not \"other\": 93.7%, nprob_obs=164\n",
      "\n",
      "NSA150578 rank counts: {2: 1, 3: 3, 4: 34, 5: 125, 6: 132, 7: 416, 8: 46, 9: 7388, 10: 6605, -1: 45888}\n",
      "fraction not \"other\": 93.9%, nprob_obs=114\n",
      "\n",
      "NSA149977 rank counts: {2: 0, 3: 0, 4: 18, 5: 85, 6: 74, 7: 331, 8: 38, 9: 6470, 10: 4561, -1: 51761}\n",
      "fraction not \"other\": 93.0%, nprob_obs=150\n",
      "\n",
      "NSA126115 rank counts: {2: 0, 3: 0, 4: 38, 5: 94, 6: 81, 7: 240, 8: 62, 9: 8320, 10: 5905, -1: 42900}\n",
      "fraction not \"other\": 88.0%, nprob_obs=169\n",
      "\n",
      "NSA129237 rank counts: {2: 1, 3: 5, 4: 77, 5: 273, 6: 121, 7: 494, 8: 35, 9: 6879, 10: 4764, -1: 45505}\n",
      "fraction not \"other\": 96.5%, nprob_obs=28\n",
      "\n",
      "NSA150887 rank counts: {2: 3, 3: 3, 4: 52, 5: 84, 6: 80, 7: 251, 8: 94, 9: 9483, 10: 7487, -1: 51746}\n",
      "fraction not \"other\": 83.4%, nprob_obs=120\n",
      "\n",
      "AnaK rank counts: {2: 1, 3: 1, 4: 44, 5: 171, 6: 135, 7: 433, 8: 75, 9: 9868, 10: 5341, -1: 60359}\n",
      "fraction not \"other\": 91.3%, nprob_obs=86\n",
      "\n",
      "Narnia rank counts: {2: 0, 3: 2, 4: 44, 5: 180, 6: 71, 7: 443, 8: 63, 9: 10738, 10: 5803, -1: 56191}\n",
      "fraction not \"other\": 92.2%, nprob_obs=126\n",
      "\n"
     ]
    }
   ],
   "source": [
    "# compute ranks, which includes filtering on mag\n",
    "rankdct = {}\n",
    "for h in hosts_to_target:\n",
    "    cat = joined_catalogs[h]\n",
    "    \n",
    "    highprob = cat[p_column_for_ranking].filled(0) > 0.5\n",
    "    medprob = (cat[p_column_for_ranking].filled(0) > 0.05) & ~highprob\n",
    "    lowprob = (cat[p_column_for_ranking].filled(0) > 0.01) & ~highprob & ~medprob\n",
    "    inside = cat['RHOST_KPC']<300\n",
    "    \n",
    "    rankdct[h] = ranks = np.ones(len(cat), dtype=int)*-1 #the -1 will be re-set at the end\n",
    "    \n",
    "    # rank 1 reserved for flux stars\n",
    "    ranks[inside&highprob] = 2\n",
    "    ranks[~inside&highprob] = 3\n",
    "    ranks[inside&medprob] = 4\n",
    "    ranks[~inside&medprob] = 5\n",
    "    ranks[inside&lowprob] = 6\n",
    "    ranks[~inside&lowprob] = 7\n",
    "    \n",
    "    validtarget = (cat['r'] < 21.5) & (cat['fibermag_r']<23) & (cat['phot_sg']=='GALAXY')\n",
    "    other = ranks < 0\n",
    "    colorcutmsk = targeting.colorcut_mask(cat,  targeting.bossanova_color_cuts)\n",
    "    \n",
    "    ranks[validtarget&other&colorcutmsk] = 9 #other incl. color cuts\n",
    "    ranks[validtarget&other&~colorcutmsk] = 10 #other not incl. color cuts\n",
    "    redmappertarg = np.in1d(cat['objID'], redmappertargs['OBJID'])\n",
    "    rg7 = ranks>7\n",
    "    ranks[validtarget&redmappertarg&rg7] = 8 #redmapper\n",
    "    \n",
    "#informational\n",
    "for h, ranks in rankdct.items():\n",
    "    cat = joined_catalogs[h]\n",
    "    \n",
    "    hranks = dict(enumerate(np.bincount(ranks[ranks>-1])))\n",
    "    del hranks[0]\n",
    "    del hranks[1]\n",
    "    hranks[-1] = np.sum(ranks==-1)\n",
    "    \n",
    "    print(h.name,'rank counts:', hranks)\n",
    "    \n",
    "    nother =  np.sum(ranks==8)\n",
    "    nprob = np.sum((ranks<8)&(ranks>0))\n",
    "    nother_obs = 270-np.sum((ranks<8)&(ranks>0)&(cat['RHOST_ARCM']<30))\n",
    "    print('fraction not \"other\": {0:.1%}, nprob_obs={1}\\n'.format(nprob/(nprob+nother), nother_obs))"
   ]
  },
  {
   "cell_type": "code",
   "execution_count": 47,
   "metadata": {
    "collapsed": false
   },
   "outputs": [],
   "source": [
    "def clump_finder(sc, clumpsep=10*u.arcsec):\n",
    "    \"\"\"\n",
    "    Find clumps within a certain distance in a SkyCoord catalog\n",
    "    \"\"\"\n",
    "    sc1 = SkyCoord(sc.ra.reshape(1, len(sc)), sc.dec.reshape(1, len(sc)))\n",
    "    sc2 = SkyCoord(sc.ra.reshape(len(sc), 1), sc.dec.reshape(len(sc), 1))\n",
    "    seps = sc1.separation(sc2)\n",
    "    #seps = u.Quantity([c.separation(sc) for c in sc])\n",
    "\n",
    "    pairs = zip(*np.where((seps>0.1*u.arcsec)&(seps<clumpsep)))\n",
    "    pairs = [pair for pair in pairs if pair[0]<pair[1]]\n",
    "\n",
    "    clumps = []\n",
    "    for p1, p2 in pairs:\n",
    "        for clump in clumps:\n",
    "            if p1 in clump:\n",
    "                clump.append(p2)\n",
    "                break\n",
    "            elif p2 in clump:\n",
    "                clump.append(p1)\n",
    "                break\n",
    "        else:\n",
    "            clumps.append([p1, p2])\n",
    "    return clumps\n",
    "\n",
    "clumpdct = {}\n",
    "for h in hosts_to_target:\n",
    "    cat = joined_catalogs[h]\n",
    "    ranks = rankdct[h]\n",
    "    \n",
    "    #msk = (1<ranks)&(ranks<8)\n",
    "    msk = (ranks==2)|(ranks==4)|(ranks==6)\n",
    "    \n",
    "    catm = cat[msk]\n",
    "    highp_scs = SkyCoord(catm['ra'], catm['dec'], unit=u.deg)\n",
    "    clumpdct[h] = (clump_finder(highp_scs), msk)"
   ]
  },
  {
   "cell_type": "code",
   "execution_count": 61,
   "metadata": {
    "collapsed": false
   },
   "outputs": [
    {
     "name": "stdout",
     "output_type": "stream",
     "text": [
      "Clump# 0\n",
      "\t150887\t1237678777399509169\t348.875470715\t4.61463399851\tshred galaxy <semiauto-found>\n",
      "\t150887\t1237678777399509170\t348.874199097\t4.61326147472\tshred galaxy <semiauto-found>\n",
      "\t150887\t1237678777399509171\t348.874889667\t4.61299644629\tshred galaxy <semiauto-found>\n",
      "\t150887\t1237678777399509175\t348.873312422\t4.61612028637\tshred galaxy <semiauto-found>\n",
      "\t150887\t1237678777399509177\t348.875624665\t4.61270778777\tshred galaxy <semiauto-found>\n",
      "\t150887\t1237678777399509171\t348.874889667\t4.61299644629\tshred galaxy <semiauto-found>\n",
      "\t150887\t1237678777399509173\t348.871772577\t4.6142060337\tshred galaxy <semiauto-found>\n",
      "\t150887\t1237678777399509174\t348.87255077\t4.61281086443\tshred galaxy <semiauto-found>\n",
      "\t150887\t1237678777399509177\t348.875624665\t4.61270778777\tshred galaxy <semiauto-found>\n",
      "\t150887\t1237678777399509174\t348.87255077\t4.61281086443\tshred galaxy <semiauto-found>\n",
      "\t150887\t1237678777399509177\t348.875624665\t4.61270778777\tshred galaxy <semiauto-found>\n",
      "\t150887\t1237678777399509174\t348.87255077\t4.61281086443\tshred galaxy <semiauto-found>\n",
      "\t150887\t1237678777399509175\t348.873312422\t4.61612028637\tshred galaxy <semiauto-found>\n",
      "\t150887\t1237678777399509179\t348.869380157\t4.61392946807\tshred galaxy <semiauto-found>\n",
      "Clump# 1\n",
      "\t150887\t1237679005021700193\t348.262759776\t4.51102497818\tshred galaxy <semiauto-found>\n",
      "\t150887\t1237679005021700198\t348.262752946\t4.5115619791\tshred galaxy <semiauto-found>\n",
      "Clump# 2\n",
      "\t150887\t1237679005021700287\t348.392673002\t4.55467286999\tshred galaxy <semiauto-found>\n",
      "\t150887\t1237679005021700288\t348.394250267\t4.55277230941\tshred galaxy <semiauto-found>\n",
      "\t150887\t1237679005021700293\t348.395003897\t4.55037932019\tshred galaxy <semiauto-found>\n",
      "\t150887\t1237679005021700292\t348.393499392\t4.5500727096\tshred galaxy <semiauto-found>\n",
      "Clump# 3\n",
      "\t150887\t1237679005021765924\t348.399199156\t4.56663213131\tshred galaxy <semiauto-found>\n",
      "\t150887\t1237679005021765925\t348.399470202\t4.56707482085\tshred galaxy <semiauto-found>\n",
      "\t150887\t1237679005021765929\t348.399741866\t4.56784271094\tshred galaxy <semiauto-found>\n",
      "\t150887\t1237679005021765929\t348.399741866\t4.56784271094\tshred galaxy <semiauto-found>\n",
      "Clump# 4\n",
      "\t150887\t1237679005021831462\t348.620320878\t4.37953179828\tshred galaxy <semiauto-found>\n",
      "\t150887\t1237679005021831464\t348.620792614\t4.37808731721\tshred galaxy <semiauto-found>\n",
      "Clump# 5\n",
      "\t150887\t1237679005021962536\t348.947720513\t4.53281842475\tshred galaxy <semiauto-found>\n",
      "\t150887\t1237679005021962537\t348.947099236\t4.53092545954\tshred galaxy <semiauto-found>\n",
      "Clump# 6\n",
      "\t150887\t1237679005022028541\t349.065082463\t4.49788962084\tshred galaxy <semiauto-found>\n",
      "\t150887\t1237679005022028542\t349.06690645\t4.49676632321\tshred galaxy <semiauto-found>\n",
      "Clump# 7\n",
      "\t150887\t1237679005558636613\t348.463135606\t4.90493482583\tshred galaxy <semiauto-found>\n",
      "\t150887\t1237679005558636614\t348.463627263\t4.90502247936\tshred galaxy <semiauto-found>\n",
      "\t150887\t1237679005558636616\t348.463484582\t4.90748285897\tshred galaxy <semiauto-found>\n",
      "\t150887\t1237679005558636619\t348.46120453\t4.90438763983\tshred galaxy <semiauto-found>\n",
      "\t150887\t1237679005558636621\t348.460703009\t4.90446717938\tshred galaxy <semiauto-found>\n",
      "\t150887\t1237679005558636616\t348.463484582\t4.90748285897\tshred galaxy <semiauto-found>\n",
      "\t150887\t1237679005558636619\t348.46120453\t4.90438763983\tshred galaxy <semiauto-found>\n",
      "\t150887\t1237679005558636621\t348.460703009\t4.90446717938\tshred galaxy <semiauto-found>\n",
      "Clump# 8\n",
      "\t150887\t1237679005558636865\t348.479035772\t4.8840183344\tshred galaxy <semiauto-found>\n",
      "\t150887\t1237679005558636869\t348.477865827\t4.88497463099\tshred galaxy <semiauto-found>\n",
      "Clump# 9\n",
      "\t150887\t1237679005558637016\t348.400848079\t4.86812518008\tshred galaxy <semiauto-found>\n",
      "\t150887\t1237679005558637017\t348.399643671\t4.86673232256\tshred galaxy <semiauto-found>\n",
      "\t150887\t1237679005558637018\t348.399782196\t4.867484181\tshred galaxy <semiauto-found>\n",
      "\t150887\t1237679005558637018\t348.399782196\t4.867484181\tshred galaxy <semiauto-found>\n",
      "Clump# 10\n",
      "\t150887\t1237679005558702452\t348.649763333\t4.87755963456\tshred galaxy <semiauto-found>\n",
      "\t150887\t1237679005558702453\t348.650122048\t4.87793328256\tshred galaxy <semiauto-found>\n",
      "Clump# 11\n",
      "\t150887\t1237679005558767959\t348.687609814\t4.9226927841\tshred galaxy <semiauto-found>\n",
      "\t150887\t1237679005558767960\t348.689507321\t4.92204647702\tshred galaxy <semiauto-found>\n",
      "Clump# 12\n",
      "\t150887\t1237679005558833479\t348.895435695\t4.83443530347\tshred galaxy <semiauto-found>\n",
      "\t150887\t1237679005558833483\t348.895778528\t4.83427597138\tshred galaxy <semiauto-found>\n",
      "Clump# 13\n",
      "\t150887\t1237679005558833490\t348.936664639\t4.91567664312\tshred galaxy <semiauto-found>\n",
      "\t150887\t1237679005558833491\t348.937161573\t4.91584021414\tshred galaxy <semiauto-found>\n",
      "NSA150887 <enter to continue>\n",
      "Clump# 0\n",
      "\t150578\t1237678859539448025\t346.143610763\t12.2606082117\tshred galaxy <semiauto-found>\n",
      "\t150578\t1237678859539448026\t346.143275929\t12.2619884572\tshred galaxy <semiauto-found>\n",
      "Clump# 1\n",
      "\t150578\t1237678859539710417\t346.736889511\t12.1714348191\tshred galaxy <semiauto-found>\n",
      "\t150578\t1237678859539710418\t346.736475555\t12.1711551982\tshred galaxy <semiauto-found>\n",
      "Clump# 2\n",
      "\t150578\t1237678860076515632\t346.681876851\t12.5783212981\tshred galaxy <semiauto-found>\n",
      "\t150578\t1237678860076515633\t346.682141667\t12.5771753184\tshred galaxy <semiauto-found>\n",
      "Clump# 3\n",
      "\t150578\t1237678920198979824\t346.714555543\t12.3464284582\tshred galaxy <semiauto-found>\n",
      "\t150578\t1237678920198979827\t346.714002518\t12.3466737188\tshred galaxy <semiauto-found>\n",
      "NSA150578 <enter to continue>\n",
      "Clump# 0\n",
      "OBrother\t149781\t1237679996084617517\t335.97997618\t-3.27054858631\tshred galaxy <semiauto-found>\n",
      "OBrother\t149781\t1237679996084617518\t335.980436147\t-3.26967074834\tshred galaxy <semiauto-found>\n",
      "Clump# 1\n",
      "OBrother\t149781\t1237679996084617615\t336.042463379\t-3.30705542795\tshred galaxy <semiauto-found>\n",
      "OBrother\t149781\t1237679996084617622\t336.043087481\t-3.30861733053\tshred galaxy <semiauto-found>\n",
      "OBrother\t149781\t1237679996084617623\t336.042569546\t-3.30729495633\tshred galaxy <semiauto-found>\n",
      "OBrother\t149781\t1237679996084617623\t336.042569546\t-3.30729495633\tshred galaxy <semiauto-found>\n",
      "Clump# 2\n",
      "OBrother\t149781\t1237679996084682961\t336.130784555\t-3.24599422746\tshred galaxy <semiauto-found>\n",
      "OBrother\t149781\t1237679996084682967\t336.128210676\t-3.24648987621\tshred galaxy <semiauto-found>\n",
      "Clump# 3\n",
      "OBrother\t149781\t1237679996084748652\t336.24029495\t-3.34105229041\tshred galaxy <semiauto-found>\n",
      "OBrother\t149781\t1237679996084748653\t336.239812694\t-3.3414413667\tshred galaxy <semiauto-found>\n",
      "Clump# 4\n",
      "OBrother\t149781\t1237680066954461497\t336.233135666\t-3.66379266792\tshred galaxy <semiauto-found>\n",
      "OBrother\t149781\t1237680066954461498\t336.233927932\t-3.66358515533\tshred galaxy <semiauto-found>\n",
      "OBrother <enter to continue>\n",
      "Clump# 0\n",
      "\t150307\t1237680064810516513\t344.308630229\t-5.69407939809\tshred galaxy <semiauto-found>\n",
      "\t150307\t1237680064810516520\t344.306710996\t-5.69546900002\tshred galaxy <semiauto-found>\n",
      "\t150307\t1237680064810516514\t344.306853193\t-5.69634327139\tshred galaxy <semiauto-found>\n",
      "Clump# 1\n",
      "\t150307\t1237680064810516695\t344.235258628\t-5.53660088285\tshred galaxy <semiauto-found>\n",
      "\t150307\t1237680064810516699\t344.233397057\t-5.53556291763\tshred galaxy <semiauto-found>\n",
      "Clump# 2\n",
      "\t150307\t1237680116342128690\t343.828873761\t-5.73589619098\tshred galaxy <semiauto-found>\n",
      "\t150307\t1237680116342128732\t343.829435076\t-5.73341847089\tshred galaxy <semiauto-found>\n",
      "Clump# 3\n",
      "\t150307\t1237680116342128709\t343.835391803\t-5.72786056782\tshred galaxy <semiauto-found>\n",
      "\t150307\t1237680116342128739\t343.834614583\t-5.72772884505\tshred galaxy <semiauto-found>\n",
      "Clump# 4\n",
      "\t150307\t1237680116342128742\t343.834264962\t-5.7220055619\tshred galaxy <semiauto-found>\n",
      "\t150307\t1237680116342128746\t343.833677564\t-5.72266055058\tshred galaxy <semiauto-found>\n",
      "Clump# 5\n",
      "\t150307\t1237680116342128743\t343.841934415\t-5.72585195038\tshred galaxy <semiauto-found>\n",
      "\t150307\t1237680116342128750\t343.842696274\t-5.72754652012\tshred galaxy <semiauto-found>\n",
      "Clump# 6\n",
      "\t150307\t1237680116342128744\t343.836126308\t-5.71889324999\tshred galaxy <semiauto-found>\n",
      "\t150307\t1237680116342128763\t343.836246451\t-5.71690212366\tshred galaxy <semiauto-found>\n",
      "\t150307\t1237680116342128767\t343.834910393\t-5.71782160736\tshred galaxy <semiauto-found>\n",
      "\t150307\t1237680116342128767\t343.834910393\t-5.71782160736\tshred galaxy <semiauto-found>\n",
      "Clump# 7\n",
      "\t150307\t1237680116879130861\t344.131710232\t-5.31621882701\tshred galaxy <semiauto-found>\n",
      "\t150307\t1237680116879130863\t344.132099502\t-5.31560464722\tshred galaxy <semiauto-found>\n",
      "Clump# 8\n",
      "\t150307\t1237680116879196393\t344.260102892\t-5.50009053777\tshred galaxy <semiauto-found>\n",
      "\t150307\t1237680116879196394\t344.26112652\t-5.4997614966\tshred galaxy <semiauto-found>\n",
      "NSA150307 <enter to continue>\n",
      "Clump# 0\n",
      "AnaK\t61945\t1237663277925335177\t354.452155223\t0.571743074265\tshred galaxy <semiauto-found>\n",
      "AnaK\t61945\t1237663277925335179\t354.451710378\t0.571253510325\tshred galaxy <semiauto-found>\n",
      "Clump# 1\n",
      "AnaK\t61945\t1237663277925335666\t354.474453404\t0.598619137594\tshred galaxy <semiauto-found>\n",
      "AnaK\t61945\t1237663277925335668\t354.473556524\t0.596307668716\tshred galaxy <semiauto-found>\n",
      "Clump# 2\n",
      "AnaK\t61945\t1237663277925335849\t354.526252686\t0.536511405586\tshred galaxy <semiauto-found>\n",
      "AnaK\t61945\t1237663277925335850\t354.527253118\t0.533963323664\tshred galaxy <semiauto-found>\n",
      "AnaK\t61945\t1237663277925335851\t354.528240348\t0.534306627776\tshred galaxy <semiauto-found>\n",
      "Clump# 3\n",
      "AnaK\t61945\t1237663784194801801\t354.017523976\t0.0744706829001\tshred galaxy <semiauto-found>\n",
      "AnaK\t61945\t1237663784194801805\t354.017501763\t0.0755611531018\tshred galaxy <semiauto-found>\n",
      "Clump# 4\n",
      "AnaK\t61945\t1237663784194801968\t354.020622047\t0.0721790045169\tshred galaxy <semiauto-found>\n",
      "AnaK\t61945\t1237663784194802608\t354.022149447\t0.0698653270433\tshred galaxy <semiauto-found>\n",
      "Clump# 5\n",
      "AnaK\t61945\t1237663784195063812\t354.613366663\t0.201304756194\tshred galaxy <semiauto-found>\n",
      "AnaK\t61945\t1237663784195064879\t354.614767727\t0.199325294099\tshred galaxy <semiauto-found>\n",
      "Clump# 6\n",
      "AnaK\t61945\t1237666408439612142\t353.651205995\t0.388295129826\tshred galaxy <semiauto-found>\n",
      "AnaK\t61945\t1237666408439612143\t353.651621028\t0.387283517283\tshred galaxy <semiauto-found>\n",
      "AnaK <enter to continue>\n",
      "Clump# 0\n",
      "\t149977\t1237678857925886377\t339.383530295\t10.313398898\tshred galaxy <semiauto-found>\n",
      "\t149977\t1237678857925886378\t339.382812087\t10.3130795172\tshred galaxy <semiauto-found>\n",
      "Clump# 1\n",
      "\t149977\t1237678857926017517\t339.685495242\t10.4726036155\tshred galaxy <semiauto-found>\n",
      "\t149977\t1237678857926017519\t339.685749129\t10.4729804218\tshred galaxy <semiauto-found>\n",
      "Clump# 2\n",
      "\t149977\t1237678858462626158\t339.05887431\t10.6516080995\tshred galaxy <semiauto-found>\n",
      "\t149977\t1237678858462626161\t339.060107693\t10.649892701\tshred galaxy <semiauto-found>\n",
      "Clump# 3\n",
      "\t149977\t1237678858462757206\t339.469112453\t10.7553336146\tshred galaxy <semiauto-found>\n",
      "\t149977\t1237678858462757207\t339.467882212\t10.7531605977\tshred galaxy <semiauto-found>\n",
      "\t149977\t1237678858462757209\t339.467280968\t10.7522146571\tshred galaxy <semiauto-found>\n",
      "Clump# 4\n",
      "\t149977\t1237678858462757431\t339.351045429\t10.8351990284\tshred galaxy <semiauto-found>\n",
      "\t149977\t1237678858462757432\t339.349211541\t10.8356721305\tshred galaxy <semiauto-found>\n",
      "Clump# 5\n",
      "\t149977\t1237679010927476976\t339.677347878\t10.2111933345\tshred galaxy <semiauto-found>\n",
      "\t149977\t1237679010927476977\t339.677574886\t10.2094227729\tshred galaxy <semiauto-found>\n",
      "NSA149977 <enter to continue>\n",
      "Clump# 0\n",
      "\t153017\t1237679503782051902\t0.0352644888843\t19.9647649699\tshred galaxy <semiauto-found>\n",
      "\t153017\t1237679503782051904\t0.0356566893112\t19.9648745953\tshred galaxy <semiauto-found>\n",
      "Clump# 1\n",
      "\t153017\t1237679504318857641\t359.884255892\t20.4790811116\tshred galaxy <semiauto-found>\n",
      "\t153017\t1237679504318857642\t359.884309426\t20.4795137184\tshred galaxy <semiauto-found>\n",
      "Clump# 2\n",
      "\t153017\t1237679504318857846\t359.881179224\t20.4716167358\tshred galaxy <semiauto-found>\n",
      "\t153017\t1237679504318857848\t359.8815262\t20.4690042853\tshred galaxy <semiauto-found>\n",
      "Clump# 3\n",
      "\t153017\t1237679504319185119\t0.743337181228\t20.3857416247\tshred galaxy <semiauto-found>\n",
      "\t153017\t1237679504319185121\t0.744448670795\t20.3864990704\tshred galaxy <semiauto-found>\n",
      "Clump# 4\n",
      "\t153017\t1237679504855990416\t0.500673133985\t20.9872046114\tshred galaxy <semiauto-found>\n",
      "\t153017\t1237679504855990421\t0.498317579732\t20.9870444953\tshred galaxy <semiauto-found>\n",
      "\t153017\t1237679504855990422\t0.500528286965\t20.9875740247\tshred galaxy <semiauto-found>\n",
      "\t153017\t1237679504855990422\t0.500528286965\t20.9875740247\tshred galaxy <semiauto-found>\n",
      "Clump# 5\n",
      "\t153017\t1237680246814736851\t0.790376255819\t20.3585106636\tshred galaxy <semiauto-found>\n",
      "\t153017\t1237680246814736852\t0.789950039917\t20.3591052771\tshred galaxy <semiauto-found>\n",
      "Clump# 6\n",
      "\t153017\t1237680247351083137\t359.463925664\t20.697705675\tshred galaxy <semiauto-found>\n",
      "\t153017\t1237680247351083138\t359.464152517\t20.6973783299\tshred galaxy <semiauto-found>\n",
      "\t153017\t1237680247351083141\t359.464556318\t20.6969454017\tshred galaxy <semiauto-found>\n",
      "\t153017\t1237680247351083141\t359.464556318\t20.6969454017\tshred galaxy <semiauto-found>\n",
      "Clump# 7\n",
      "\t153017\t1237680247351542037\t0.599028432933\t20.6829569705\tshred galaxy <semiauto-found>\n",
      "\t153017\t1237680247351542039\t0.599304111176\t20.6816607634\tshred galaxy <semiauto-found>\n",
      "Clump# 8\n",
      "\t153017\t1237680247888019633\t359.679552621\t21.1476609229\tshred galaxy <semiauto-found>\n",
      "\t153017\t1237680247888019640\t359.677529313\t21.1477379847\tshred galaxy <semiauto-found>\n",
      "\t153017\t1237680247888019639\t359.67679888\t21.1494846944\tshred galaxy <semiauto-found>\n",
      "Clump# 9\n",
      "\t153017\t1237680247888019634\t359.672929531\t21.1408115913\tshred galaxy <semiauto-found>\n",
      "\t153017\t1237680247888019636\t359.674752501\t21.1417033995\tshred galaxy <semiauto-found>\n",
      "Clump# 10\n",
      "\t153017\t1237680247888085341\t359.799624554\t21.0120940079\tshred galaxy <semiauto-found>\n",
      "\t153017\t1237680247888085471\t359.7982216\t21.0110491474\tshred galaxy <semiauto-found>\n",
      "Clump# 11\n",
      "\t153017\t1237680296744255765\t359.953639542\t21.1611585849\tshred galaxy <semiauto-found>\n",
      "\t153017\t1237680296744255771\t359.953367762\t21.1627259113\tshred galaxy <semiauto-found>\n",
      "\t153017\t1237680296744255773\t359.952906628\t21.1639405317\tshred galaxy <semiauto-found>\n",
      "\t153017\t1237680296744255774\t359.952492231\t21.1665559895\tshred galaxy <semiauto-found>\n",
      "NSA153017 <enter to continue>\n",
      "Clump# 0\n",
      "\t129387\t1237678860091261057\t21.1199772173\t12.7913912476\tshred galaxy <semiauto-found>\n",
      "\t129387\t1237678860091261058\t21.1193197583\t12.7935316946\tshred galaxy <semiauto-found>\n",
      "Clump# 1\n",
      "\t129387\t1237678860091261161\t21.2372307042\t12.8553307298\tshred galaxy <semiauto-found>\n",
      "\t129387\t1237678860091261162\t21.2378709934\t12.8553464403\tshred galaxy <semiauto-found>\n",
      "Clump# 2\n",
      "\t129387\t1237678920213528875\t20.7039082382\t12.5792548791\tshred galaxy <semiauto-found>\n",
      "\t129387\t1237678920213528876\t20.7049319801\t12.5792560281\tshred galaxy <semiauto-found>\n",
      "Clump# 3\n",
      "\t129387\t1237678920213528916\t20.7993195216\t12.6301021648\tshred galaxy <semiauto-found>\n",
      "\t129387\t1237678920213528919\t20.7998983449\t12.6321441174\tshred galaxy <semiauto-found>\n",
      "Clump# 4\n",
      "\t129387\t1237678920213594379\t20.9856939115\t12.649446754\tshred galaxy <semiauto-found>\n",
      "\t129387\t1237678920213594383\t20.9841406978\t12.6517735541\tshred galaxy <semiauto-found>\n",
      "Clump# 5\n",
      "\t129387\t1237678920750465048\t20.9009006536\t12.9268280106\tshred galaxy <semiauto-found>\n",
      "\t129387\t1237678920750465049\t20.9010245884\t12.9272494364\tshred galaxy <semiauto-found>\n",
      "Clump# 6\n",
      "\t129387\t1237678920750596202\t21.2386400463\t12.9029975868\tshred galaxy <semiauto-found>\n",
      "\t129387\t1237678920750596205\t21.240782903\t12.9029257073\tshred galaxy <semiauto-found>\n",
      "NSA129387 <enter to continue>\n",
      "Clump# 0\n",
      "\t129237\t1237678601850519687\t20.139730757\t17.3434985062\tshred galaxy <semiauto-found>\n",
      "\t129237\t1237678601850519688\t20.1374937596\t17.344519813\tshred galaxy <semiauto-found>\n",
      "Clump# 1\n",
      "\t129237\t1237678601850650840\t20.4153651474\t17.2949101301\tshred galaxy <semiauto-found>\n",
      "\t129237\t1237678601850650843\t20.4176668365\t17.2948487244\tshred galaxy <semiauto-found>\n",
      "Clump# 2\n",
      "\t129237\t1237678601850650900\t20.3843676201\t17.2666429342\tshred galaxy <semiauto-found>\n",
      "\t129237\t1237678601850651144\t20.3864418251\t17.2672320778\tshred galaxy <semiauto-found>\n",
      "Clump# 3\n",
      "\t129237\t1237678601850716722\t20.6519778236\t17.3023550232\tshred galaxy <semiauto-found>\n",
      "\t129237\t1237678601850716724\t20.6526973809\t17.3014280585\tshred galaxy <semiauto-found>\n",
      "Clump# 4\n",
      "\t129237\t1237678601850781900\t20.7882226782\t17.2879247202\tshred galaxy <semiauto-found>\n",
      "\t129237\t1237678601850781967\t20.7883729416\t17.2897524704\tshred galaxy <semiauto-found>\n",
      "Clump# 5\n",
      "\t129237\t1237678601850781905\t20.778102048\t17.2922307107\tshred galaxy <semiauto-found>\n",
      "\t129237\t1237678601850781907\t20.7798775661\t17.290332519\tshred galaxy <semiauto-found>\n",
      "Clump# 6\n",
      "\t129237\t1237678602387325534\t20.0791687479\t17.7356497279\tshred galaxy <semiauto-found>\n",
      "\t129237\t1237678602387325535\t20.0791964396\t17.7351209401\tshred galaxy <semiauto-found>\n",
      "Clump# 7\n",
      "\t129237\t1237678602387456102\t20.2680762824\t17.579001312\tshred galaxy <semiauto-found>\n",
      "\t129237\t1237678602387456108\t20.2674686053\t17.5773930846\tshred galaxy <semiauto-found>\n",
      "Clump# 8\n",
      "\t129237\t1237678602387456304\t20.3279058719\t17.7533858543\tshred galaxy <semiauto-found>\n",
      "\t129237\t1237678602387456305\t20.3284666123\t17.7539390491\tshred galaxy <semiauto-found>\n",
      "Clump# 9\n",
      "\t129237\t1237678602387521791\t20.5363426909\t17.5281428748\tshred galaxy <semiauto-found>\n",
      "\t129237\t1237679169304789021\t20.535739652\t17.5275968037\tshred galaxy <semiauto-found>\n",
      "Clump# 10\n",
      "\t129237\t1237679169304658233\t20.2565174987\t17.366638985\tshred galaxy <semiauto-found>\n",
      "\t129237\t1237679169304658234\t20.2573862631\t17.3669641401\tshred galaxy <semiauto-found>\n",
      "Clump# 11\n",
      "\t129237\t1237679169304723553\t20.4180467989\t17.385759242\tshred galaxy <semiauto-found>\n",
      "\t129237\t1237679169304723554\t20.4190795227\t17.3835685487\tshred galaxy <semiauto-found>\n",
      "\t129237\t1237679169304723556\t20.4193567215\t17.3821970939\tshred galaxy <semiauto-found>\n",
      "Clump# 12\n",
      "\t129237\t1237679169304723898\t20.4486251215\t17.3472958808\tshred galaxy <semiauto-found>\n",
      "\t129237\t1237679169304723899\t20.4499280155\t17.348045835\tshred galaxy <semiauto-found>\n",
      "Clump# 13\n",
      "\t129237\t1237679169304855180\t20.7601614677\t17.3329583053\tshred galaxy <semiauto-found>\n",
      "\t129237\t1237679169304855184\t20.7617786996\t17.3325407316\tshred galaxy <semiauto-found>\n",
      "Clump# 14\n",
      "\t129237\t1237679169841463798\t20.1470869392\t17.8420499141\tshred galaxy <semiauto-found>\n",
      "\t129237\t1237679169841463964\t20.1470021461\t17.8446289253\tshred galaxy <semiauto-found>\n",
      "Clump# 15\n",
      "\t129237\t1237679169841725673\t20.7768903825\t17.8914501798\tshred galaxy <semiauto-found>\n",
      "\t129237\t1237679169841725674\t20.7745992357\t17.889759388\tshred galaxy <semiauto-found>\n",
      "NSA129237 <enter to continue>\n",
      "Clump# 0\n",
      "Narnia\t132339\t1237660024521097903\t39.6563496491\t-1.24509782837\tshred galaxy <semiauto-found>\n",
      "Narnia\t132339\t1237660024521097904\t39.6538379293\t-1.24549265738\tshred galaxy <semiauto-found>\n",
      "Clump# 1\n",
      "Narnia\t132339\t1237678881037877350\t39.4671357126\t-1.66560234188\tshred galaxy <semiauto-found>\n",
      "Narnia\t132339\t1237678881037877364\t39.4676879944\t-1.6675854594\tshred galaxy <semiauto-found>\n",
      "Clump# 2\n",
      "Narnia\t132339\t1237678881037877356\t39.4692995141\t-1.6622428003\tshred galaxy <semiauto-found>\n",
      "Narnia\t132339\t1237678881037877357\t39.4701004746\t-1.66242714076\tshred galaxy <semiauto-found>\n",
      "Clump# 3\n",
      "Narnia\t132339\t1237678881037877358\t39.4667640707\t-1.66003424542\tshred galaxy <semiauto-found>\n",
      "Narnia\t132339\t1237678881037877361\t39.4644531183\t-1.65926288403\tshred galaxy <semiauto-found>\n",
      "Narnia\t132339\t1237678881037877362\t39.4676998029\t-1.65993365261\tshred galaxy <semiauto-found>\n",
      "Clump# 4\n",
      "Narnia\t132339\t1237678881037943006\t39.6240114966\t-1.76010934055\tshred galaxy <semiauto-found>\n",
      "Narnia\t132339\t1237678881037943007\t39.6243085214\t-1.76035227571\tshred galaxy <semiauto-found>\n",
      "Clump# 5\n",
      "Narnia\t132339\t1237678890137616709\t39.7498490775\t-1.5948937078\tshred galaxy <semiauto-found>\n",
      "Narnia\t132339\t1237678890137616711\t39.7489538331\t-1.59642970008\tshred galaxy <semiauto-found>\n",
      "Narnia <enter to continue>\n",
      "Clump# 0\n",
      "\t126115\t1237679504319185119\t0.743337181228\t20.3857416247\tshred galaxy <semiauto-found>\n",
      "\t126115\t1237679504319185121\t0.744448670795\t20.3864990704\tshred galaxy <semiauto-found>\n",
      "Clump# 1\n",
      "\t126115\t1237679504319447189\t1.42147036558\t20.4790297383\tshred galaxy <semiauto-found>\n",
      "\t126115\t1237679504319447190\t1.42244761771\t20.4768027762\tshred galaxy <semiauto-found>\n",
      "\t126115\t1237679504319447191\t1.42050157128\t20.4809163743\tshred galaxy <semiauto-found>\n",
      "\t126115\t1237679504319447198\t1.42174266319\t20.478248075\tshred galaxy <semiauto-found>\n",
      "\t126115\t1237679504319447199\t1.4194771981\t20.4800145103\tshred galaxy <semiauto-found>\n",
      "\t126115\t1237679504319512686\t1.42328040502\t20.4784252344\tshred galaxy <semiauto-found>\n",
      "\t126115\t1237679504319447198\t1.42174266319\t20.478248075\tshred galaxy <semiauto-found>\n",
      "\t126115\t1237679504319512686\t1.42328040502\t20.4784252344\tshred galaxy <semiauto-found>\n",
      "\t126115\t1237679504319447194\t1.41833711196\t20.4793611138\tshred galaxy <semiauto-found>\n",
      "\t126115\t1237679504319447197\t1.41783293265\t20.4797089507\tshred galaxy <semiauto-found>\n",
      "\t126115\t1237679504319447199\t1.4194771981\t20.4800145103\tshred galaxy <semiauto-found>\n",
      "\t126115\t1237679504319512687\t1.42255351217\t20.4817143817\tshred galaxy <semiauto-found>\n",
      "\t126115\t1237679504319447196\t1.41691702687\t20.4784281918\tshred galaxy <semiauto-found>\n",
      "\t126115\t1237679504319447197\t1.41783293265\t20.4797089507\tshred galaxy <semiauto-found>\n",
      "\t126115\t1237679504319447199\t1.4194771981\t20.4800145103\tshred galaxy <semiauto-found>\n",
      "\t126115\t1237679504319447197\t1.41783293265\t20.4797089507\tshred galaxy <semiauto-found>\n",
      "\t126115\t1237679504319447199\t1.4194771981\t20.4800145103\tshred galaxy <semiauto-found>\n",
      "\t126115\t1237679504319447199\t1.4194771981\t20.4800145103\tshred galaxy <semiauto-found>\n",
      "\t126115\t1237679504319512686\t1.42328040502\t20.4784252344\tshred galaxy <semiauto-found>\n",
      "Clump# 2\n",
      "\t126115\t1237679504855990416\t0.500673133985\t20.9872046114\tshred galaxy <semiauto-found>\n",
      "\t126115\t1237679504855990421\t0.498317579732\t20.9870444953\tshred galaxy <semiauto-found>\n",
      "\t126115\t1237679504855990422\t0.500528286965\t20.9875740247\tshred galaxy <semiauto-found>\n",
      "\t126115\t1237679504855990422\t0.500528286965\t20.9875740247\tshred galaxy <semiauto-found>\n",
      "Clump# 3\n",
      "\t126115\t1237680246814736851\t0.790376255819\t20.3585106636\tshred galaxy <semiauto-found>\n",
      "\t126115\t1237680246814736852\t0.789950039917\t20.3591052771\tshred galaxy <semiauto-found>\n",
      "Clump# 4\n",
      "\t126115\t1237680247351542037\t0.599028432933\t20.6829569705\tshred galaxy <semiauto-found>\n",
      "\t126115\t1237680247351542039\t0.599304111176\t20.6816607634\tshred galaxy <semiauto-found>\n",
      "NSA126115 <enter to continue>\n"
     ]
    }
   ],
   "source": [
    "#now we go through each and show the clumps \n",
    "for h in hosts_to_target:\n",
    "    cat = joined_catalogs[h]\n",
    "    clumps, clumpmsk = clumpdct[h]\n",
    "    \n",
    "    clumpnum = []\n",
    "    clumpra = []\n",
    "    clumpdec = []\n",
    "    clumpobjid = []\n",
    "    for i, c in enumerate(clumps):\n",
    "        print('Clump#', i)\n",
    "        for idx in c:\n",
    "            clumpnum.append(i)\n",
    "            clumpra.append(cat[clumpmsk][idx]['ra'])\n",
    "            clumpdec.append(cat[clumpmsk][idx]['dec'])\n",
    "            clumpobjid.append(cat[clumpmsk][idx]['objID'])\n",
    "            if h.name.startswith('NSA'):\n",
    "                nmstr = ''\n",
    "            else:\n",
    "                nmstr = h.name\n",
    "            print('{0}\\t{1}\\t{2}\\t{3}\\t{4}\\t{5}'.format(nmstr, h.nsaid, clumpobjid[-1], clumpra[-1], clumpdec[-1],'shred galaxy <semiauto-found>'))\n",
    "            \n",
    "        \n",
    "    targeting.sampled_imagelist(clumpra, clumpdec, n=np.inf, names=clumpnum)\n",
    "        \n",
    "    res = raw_input('{} <enter to continue>'.format(h.name, h.nsaid))\n",
    "    if res == 'x':\n",
    "        break"
   ]
  },
  {
   "cell_type": "code",
   "execution_count": 96,
   "metadata": {
    "collapsed": false
   },
   "outputs": [],
   "source": [
    "clumpradectoid = {}\n",
    "clumpradec = []\n",
    "for h in hosts_to_target:\n",
    "    cat = joined_catalogs[h]\n",
    "    clumps, clumpmsk = clumpdct[h]\n",
    "    \n",
    "    for i, c in enumerate(clumps):\n",
    "        for idx in c:\n",
    "            clumpra = cat[clumpmsk][idx]['ra']\n",
    "            clumpdec = cat[clumpmsk][idx]['dec']\n",
    "            clumpobjid = cat[clumpmsk][idx]['objID']\n",
    "            \n",
    "            radecs = ('{:.10}'.format(clumpra)[:-1],'{:.10}'.format(clumpdec)[:-1])\n",
    "            clumpradec.append(radecs)\n",
    "            clumpradectoid[radecs] = clumpobjid"
   ]
  },
  {
   "cell_type": "code",
   "execution_count": 97,
   "metadata": {
    "collapsed": true
   },
   "outputs": [],
   "source": [
    "s=\"\"\"\n",
    "\t150887\t\t348.8754707\t4.614633999\tshred galaxy <semiauto-found>\n",
    "\t150887\t\t348.8748897\t4.612996446\tshred galaxy <semiauto-found>\n",
    "\t150887\t\t348.8733124\t4.616120286\tshred galaxy <semiauto-found>\n",
    "\t150887\t\t348.8756247\t4.612707788\tshred galaxy <semiauto-found>\n",
    "\t150887\t\t348.8748897\t4.612996446\tshred galaxy <semiauto-found>\n",
    "\t150887\t\t348.8717726\t4.614206034\tshred galaxy <semiauto-found>\n",
    "\t150887\t\t348.8725508\t4.612810864\tshred galaxy <semiauto-found>\n",
    "\t150887\t\t348.8756247\t4.612707788\tshred galaxy <semiauto-found>\n",
    "\t150887\t\t348.8725508\t4.612810864\tshred galaxy <semiauto-found>\n",
    "\t150887\t\t348.8756247\t4.612707788\tshred galaxy <semiauto-found>\n",
    "\t150887\t\t348.8725508\t4.612810864\tshred galaxy <semiauto-found>\n",
    "\t150887\t\t348.8733124\t4.616120286\tshred galaxy <semiauto-found>\n",
    "\t150887\t\t348.8693802\t4.613929468\tshred galaxy <semiauto-found>\n",
    "\t150887\t\t348.2627598\t4.511024978\tshred galaxy <semiauto-found>\n",
    "\t150887\t\t348.2627529\t4.511561979\tshred galaxy <semiauto-found>\n",
    "\t150887\t\t348.3942503\t4.552772309\tshred galaxy <semiauto-found>\n",
    "\t150887\t\t348.3950039\t4.55037932\tshred galaxy <semiauto-found>\n",
    "\t150887\t\t348.3934994\t4.55007271\tshred galaxy <semiauto-found>\n",
    "\t150887\t\t348.3994702\t4.567074821\tshred galaxy <semiauto-found>\n",
    "\t150887\t\t348.3997419\t4.567842711\tshred galaxy <semiauto-found>\n",
    "\t150887\t\t348.3997419\t4.567842711\tshred galaxy <semiauto-found>\n",
    "\t150887\t\t348.6207926\t4.378087317\tshred galaxy <semiauto-found>\n",
    "\t150887\t\t348.9470992\t4.53092546\tshred galaxy <semiauto-found>\n",
    "\t150887\t\t349.0650825\t4.497889621\tstar spike\n",
    "\t150887\t\t349.0669065\t4.496766323\tstar spike\n",
    "\t150887\t\t348.4631356\t4.904934826\tshred galaxy <semiauto-found>\n",
    "\t150887\t\t348.4636273\t4.905022479\tshred galaxy <semiauto-found>\n",
    "\t150887\t\t348.4634846\t4.907482859\tshred galaxy <semiauto-found>\n",
    "\t150887\t\t348.4612045\t4.90438764\tshred galaxy <semiauto-found>\n",
    "\t150887\t\t348.460703\t4.904467179\tshred galaxy <semiauto-found>\n",
    "\t150887\t\t348.4634846\t4.907482859\tshred galaxy <semiauto-found>\n",
    "\t150887\t\t348.4612045\t4.90438764\tshred galaxy <semiauto-found>\n",
    "\t150887\t\t348.460703\t4.904467179\tshred galaxy <semiauto-found>\n",
    "\t150887\t\t348.4790358\t4.884018334\tshred galaxy <semiauto-found>\n",
    "\t150887\t\t348.3996437\t4.866732323\tshred galaxy <semiauto-found>\n",
    "\t150887\t\t348.3997822\t4.867484181\tshred galaxy <semiauto-found>\n",
    "\t150887\t\t348.3997822\t4.867484181\tshred galaxy <semiauto-found>\n",
    "\t150887\t\t348.650122\t4.877933283\tshred galaxy <semiauto-found>\n",
    "\t150887\t\t348.6895073\t4.922046477\tshred galaxy <semiauto-found>\n",
    "\t150887\t\t348.8957785\t4.834275971\tshred galaxy <semiauto-found>\n",
    "\t150887\t\t348.9371616\t4.915840214\tshred galaxy <semiauto-found>\n",
    "\t\t\t\t\t\n",
    "\t150578\t\t346.1436108\t12.26060821\tnoise artifact\n",
    "\t150578\t\t346.1432759\t12.26198846\tnoise artifact\n",
    "\t150578\t\t346.7368895\t12.17143482\tshred galaxy <semiauto-found>\n",
    "\t150578\t\t346.6818769\t12.5783213\tshred galaxy <semiauto-found>\n",
    "\t150578\t\t346.7145555\t12.34642846\tshred galaxy <semiauto-found>\n",
    "\t\t\t\t\t\n",
    "OBrother\t149781\t\t336.0424634\t-3.307055428\tshred galaxy satellite/art\n",
    "OBrother\t149781\t\t336.0430875\t-3.308617331\tshred galaxy satellite/art\n",
    "OBrother\t149781\t\t336.0425695\t-3.307294956\tshred galaxy satellite/art\n",
    "OBrother\t149781\t\t336.0425695\t-3.307294956\tshred galaxy satellite/art\n",
    "OBrother\t149781\t\t336.1307846\t-3.245994227\tshred galaxy <semiauto-found>\n",
    "OBrother\t149781\t\t336.1282107\t-3.246489876\tshred galaxy <semiauto-found>\n",
    "OBrother\t149781\t\t335.9804361\t-3.269670748\tshred galaxy <semiauto-found>\n",
    "OBrother\t149781\t\t336.2398127\t-3.341441367\tshred galaxy <semiauto-found>\n",
    "OBrother\t149781\t\t336.2339279\t-3.663585155\tshred galaxy <semiauto-found>\n",
    "\t\t\t\t\t\n",
    "\t150307\t\t344.306711\t-5.695469\tshred galaxy <semiauto-found>\n",
    "\t150307\t\t344.3068532\t-5.696343271\tshred galaxy <semiauto-found>\n",
    "\t150307\t\t344.2352586\t-5.536600883\tnoise artifact\n",
    "\t150307\t\t344.2333971\t-5.535562918\tnoise artifact\n",
    "\t150307\t\t343.8288738\t-5.735896191\tscattered light artifact\n",
    "\t150307\t\t343.8294351\t-5.733418471\tscattered light artifact\n",
    "\t150307\t\t343.8353918\t-5.727860568\tscattered light artifact\n",
    "\t150307\t\t343.8346146\t-5.727728845\tscattered light artifact\n",
    "\t150307\t\t343.834265\t-5.722005562\tscattered light artifact\n",
    "\t150307\t\t343.8336776\t-5.722660551\tscattered light artifact\n",
    "\t150307\t\t343.8419344\t-5.72585195\tscattered light artifact\n",
    "\t150307\t\t343.8426963\t-5.72754652\tscattered light artifact\n",
    "\t150307\t\t343.8361263\t-5.71889325\tscattered light artifact\n",
    "\t150307\t\t343.8362465\t-5.716902124\tscattered light artifact\n",
    "\t150307\t\t343.8349104\t-5.717821607\tscattered light artifact\n",
    "\t150307\t\t343.8349104\t-5.717821607\tscattered light artifact\n",
    "\t150307\t\t344.1317102\t-5.316218827\tshred galaxy <semiauto-found>\n",
    "\t150307\t\t344.2601029\t-5.500090538\tshred galaxy <semiauto-found>\n",
    "\t150307\t\t344.2611265\t-5.499761497\tshred galaxy <semiauto-found>\n",
    "\t\t\t\t\t\n",
    "AnaK\t61945\t\t354.4521552\t0.5717430743\tshred galaxy <semiauto-found>\n",
    "AnaK\t61945\t\t354.4517104\t0.5712535103\tshred galaxy <semiauto-found>\n",
    "AnaK\t61945\t\t354.5282403\t0.5343066278\tshred galaxy <semiauto-found>\n",
    "AnaK\t61945\t\t354.017524\t0.0744706829\tshred galaxy <semiauto-found>\n",
    "AnaK\t61945\t\t354.0175018\t0.0755611531\tshred galaxy <semiauto-found>\n",
    "AnaK\t61945\t\t354.0221494\t0.06986532704\tshred galaxy <semiauto-found>\n",
    "AnaK\t61945\t\t354.6133667\t0.2013047562\tstar spike\n",
    "AnaK\t61945\t\t354.6147677\t0.1993252941\tstar spike\n",
    "AnaK\t61945\t\t353.651621\t0.3872835173\tshred galaxy <semiauto-found>\n",
    "\t\t\t\t\t\n",
    "\t149977\t\t339.3828121\t10.31307952\tshred galaxy <semiauto-found>\n",
    "\t149977\t\t339.6854952\t10.47260362\tshred galaxy <semiauto-found>\n",
    "\t149977\t\t339.0601077\t10.6498927\tshred galaxy <semiauto-found>\n",
    "\t149977\t\t339.4678822\t10.7531606\tshred galaxy <semiauto-found>\n",
    "\t149977\t\t339.467281\t10.75221466\tshred galaxy <semiauto-found>\n",
    "\t149977\t\t339.3492115\t10.83567213\tshred galaxy <semiauto-found>\n",
    "\t149977\t\t339.6775749\t10.20942277\tshred galaxy <semiauto-found>d\n",
    "\t\t\t\t\t\n",
    "\t153017\t\t0.03565668931\t19.9648746\tshred galaxy <semiauto-found>\n",
    "\t153017\t\t359.8843094\t20.47951372\tshred galaxy <semiauto-found>\n",
    "\t153017\t\t0.7433371812\t20.38574162\tshred galaxy <semiauto-found>\n",
    "\t153017\t\t0.500673134\t20.98720461\tshred galaxy <semiauto-found>\n",
    "\t153017\t\t0.4983175797\t20.9870445\tshred galaxy <semiauto-found>\n",
    "\t153017\t\t0.500528287\t20.98757402\tshred galaxy <semiauto-found>\n",
    "\t153017\t\t0.500528287\t20.98757402\tshred galaxy <semiauto-found>\n",
    "\t153017\t\t0.7899500399\t20.35910528\tshred galaxy <semiauto-found>\n",
    "\t153017\t\t359.4639257\t20.69770568\tshred galaxy <semiauto-found>\n",
    "\t153017\t\t359.4641525\t20.69737833\tshred galaxy <semiauto-found>\n",
    "\t153017\t\t359.4645563\t20.6969454\tshred galaxy <semiauto-found>\n",
    "\t153017\t\t359.4645563\t20.6969454\tshred galaxy <semiauto-found>\n",
    "\t153017\t\t0.5993041112\t20.68166076\tshred galaxy <semiauto-found>\n",
    "\t153017\t\t359.6795526\t21.14766092\tshred galaxy <semiauto-found>\n",
    "\t153017\t\t359.6775293\t21.14773798\tshred galaxy <semiauto-found>\n",
    "\t153017\t\t359.6767989\t21.14948469\tshred galaxy <semiauto-found>\n",
    "\t153017\t\t359.6747525\t21.1417034\tshred galaxy <semiauto-found>\n",
    "\t153017\t\t359.7996246\t21.01209401\tnoise artifact\n",
    "\t153017\t\t359.7982216\t21.01104915\tnoise artifact\n",
    "\t153017\t\t359.9536395\t21.16115858\tstar spike\n",
    "\t153017\t\t359.9533678\t21.16272591\tstar spike\n",
    "\t153017\t\t359.9529066\t21.16394053\tstar spike\n",
    "\t153017\t\t359.9524922\t21.16655599\tstar spike\n",
    "\t\t\t\t\t\n",
    "\t129237\t\t20.13973076\t17.34349851\tshred galaxy <semiauto-found>\n",
    "\t129237\t\t20.13749376\t17.34451981\tshred galaxy <semiauto-found>\n",
    "\t129237\t\t20.41536515\t17.29491013\tnoise artiface\n",
    "\t129237\t\t20.41766684\t17.29484872\tnoise artiface\n",
    "\t129237\t\t20.38644183\t17.26723208\tshred galaxy <semiauto-found>\n",
    "\t129237\t\t20.65197782\t17.30235502\tnoise artifact\n",
    "\t129237\t\t20.65269738\t17.30142806\tnoise artifact\n",
    "\t129237\t\t20.78822268\t17.28792472\tnoise artifact\n",
    "\t129237\t\t20.78837294\t17.28975247\tnoise artifact\n",
    "\t129237\t\t20.77810205\t17.29223071\tnoise artifact\n",
    "\t129237\t\t20.77987757\t17.29033252\tnoise artifact\n",
    "\t129237\t\t20.07919644\t17.73512094\tshred galaxy <semiauto-found>\n",
    "\t129237\t\t20.26807628\t17.57900131\tshred galaxy <semiauto-found>\n",
    "\t129237\t\t20.26746861\t17.57739308\tshred galaxy <semiauto-found>\n",
    "\t129237\t\t20.32790587\t17.75338585\tshred galaxy <semiauto-found>\n",
    "\t129237\t\t20.53573965\t17.5275968\tshred galaxy <semiauto-found>\n",
    "\t129237\t\t20.25738626\t17.36696414\tshred galaxy <semiauto-found>\n",
    "\t129237\t\t20.41935672\t17.38219709\tshred galaxy <semiauto-found>\n",
    "\t129237\t\t20.44862512\t17.34729588\tnoise artifact\n",
    "\t129237\t\t20.44992802\t17.34804584\tnoise artifact\n",
    "\t129237\t\t20.76016147\t17.33295831\tstar spike\n",
    "\t129237\t\t20.7617787\t17.33254073\tstar spike\n",
    "\t129237\t\t20.14700215\t17.84462893\tshred galaxy <semiauto-found>\n",
    "\t129237\t\t20.77459924\t17.88975939\tshred galaxy <semiauto-found>\n",
    "\t\t\t\t\t\n",
    "Narnia\t132339\t\t39.65634965\t-1.245097828\tshred galaxy <semiauto-found>\n",
    "Narnia\t132339\t\t39.65383793\t-1.245492657\tshred galaxy <semiauto-found>\n",
    "Narnia\t132339\t\t39.46768799\t-1.667585459\tshred galaxy <semiauto-found>\n",
    "Narnia\t132339\t\t39.46929951\t-1.6622428\tshred galaxy <semiauto-found>\n",
    "Narnia\t132339\t\t39.46676407\t-1.660034245\tshred galaxy <semiauto-found>\n",
    "Narnia\t132339\t\t39.46445312\t-1.659262884\tshred galaxy <semiauto-found>\n",
    "Narnia\t132339\t\t39.4676998\t-1.659933653\tshred galaxy <semiauto-found>\n",
    "Narnia\t132339\t\t39.62430852\t-1.760352276\tshred galaxy <semiauto-found>\n",
    "\t\t\t\t\t\n",
    "\t126115\t\t0.7433371812\t20.38574162\tshred galaxy <semiauto-found>\n",
    "\t126115\t\t1.422447618\t20.47680278\tshred galaxy <semiauto-found>\n",
    "\t126115\t\t1.420501571\t20.48091637\tshred galaxy <semiauto-found>\n",
    "\t126115\t\t1.421742663\t20.47824808\tshred galaxy <semiauto-found>\n",
    "\t126115\t\t1.419477198\t20.48001451\tshred galaxy <semiauto-found>\n",
    "\t126115\t\t1.423280405\t20.47842523\tshred galaxy <semiauto-found>\n",
    "\t126115\t\t1.421742663\t20.47824808\tshred galaxy <semiauto-found>\n",
    "\t126115\t\t1.423280405\t20.47842523\tshred galaxy <semiauto-found>\n",
    "\t126115\t\t1.418337112\t20.47936111\tshred galaxy <semiauto-found>\n",
    "\t126115\t\t1.417832933\t20.47970895\tshred galaxy <semiauto-found>\n",
    "\t126115\t\t1.419477198\t20.48001451\tshred galaxy <semiauto-found>\n",
    "\t126115\t\t1.422553512\t20.48171438\tshred galaxy <semiauto-found>\n",
    "\t126115\t\t1.416917027\t20.47842819\tshred galaxy <semiauto-found>\n",
    "\t126115\t\t1.417832933\t20.47970895\tshred galaxy <semiauto-found>\n",
    "\t126115\t\t1.419477198\t20.48001451\tshred galaxy <semiauto-found>\n",
    "\t126115\t\t1.417832933\t20.47970895\tshred galaxy <semiauto-found>\n",
    "\t126115\t\t1.419477198\t20.48001451\tshred galaxy <semiauto-found>\n",
    "\t126115\t\t1.419477198\t20.48001451\tshred galaxy <semiauto-found>\n",
    "\t126115\t\t1.423280405\t20.47842523\tshred galaxy <semiauto-found>\n",
    "\t126115\t\t0.500673134\t20.98720461\tshred galaxy <semiauto-found>\n",
    "\t126115\t\t0.4983175797\t20.9870445\tshred galaxy <semiauto-found>\n",
    "\t126115\t\t0.500528287\t20.98757402\tshred galaxy <semiauto-found>\n",
    "\t126115\t\t0.500528287\t20.98757402\tshred galaxy <semiauto-found>\n",
    "\t126115\t\t0.7899500399\t20.35910528\tshred galaxy <semiauto-found>\n",
    "\t126115\t\t0.5993041112\t20.68166076\tshred galaxy <semiauto-found>\n",
    "\"\"\"[1:-1]"
   ]
  },
  {
   "cell_type": "code",
   "execution_count": 100,
   "metadata": {
    "collapsed": false
   },
   "outputs": [],
   "source": [
    "newlines = []\n",
    "oids = []\n",
    "for line in s.split('\\n'):\n",
    "    if line.strip() == '':\n",
    "        newlines.append(line)\n",
    "    else:\n",
    "        cols = line.split('\\t')\n",
    "        oids.append(clumpradectoid[(cols[3][:-1], cols[4][:-1])])\n",
    "        cols[2] = str(oids[-1])\n",
    "        newlines.append('\\t'.join(cols))"
   ]
  },
  {
   "cell_type": "code",
   "execution_count": 102,
   "metadata": {
    "collapsed": false,
    "scrolled": false
   },
   "outputs": [
    {
     "name": "stdout",
     "output_type": "stream",
     "text": [
      "\t150887\t1237678777399509169\t348.8754707\t4.614633999\tshred galaxy <semiauto-found>\n",
      "\t150887\t1237678777399509171\t348.8748897\t4.612996446\tshred galaxy <semiauto-found>\n",
      "\t150887\t1237678777399509175\t348.8733124\t4.616120286\tshred galaxy <semiauto-found>\n",
      "\t150887\t1237678777399509177\t348.8756247\t4.612707788\tshred galaxy <semiauto-found>\n",
      "\t150887\t1237678777399509171\t348.8748897\t4.612996446\tshred galaxy <semiauto-found>\n",
      "\t150887\t1237678777399509173\t348.8717726\t4.614206034\tshred galaxy <semiauto-found>\n",
      "\t150887\t1237678777399509174\t348.8725508\t4.612810864\tshred galaxy <semiauto-found>\n",
      "\t150887\t1237678777399509177\t348.8756247\t4.612707788\tshred galaxy <semiauto-found>\n",
      "\t150887\t1237678777399509174\t348.8725508\t4.612810864\tshred galaxy <semiauto-found>\n",
      "\t150887\t1237678777399509177\t348.8756247\t4.612707788\tshred galaxy <semiauto-found>\n",
      "\t150887\t1237678777399509174\t348.8725508\t4.612810864\tshred galaxy <semiauto-found>\n",
      "\t150887\t1237678777399509175\t348.8733124\t4.616120286\tshred galaxy <semiauto-found>\n",
      "\t150887\t1237678777399509179\t348.8693802\t4.613929468\tshred galaxy <semiauto-found>\n",
      "\t150887\t1237679005021700193\t348.2627598\t4.511024978\tshred galaxy <semiauto-found>\n",
      "\t150887\t1237679005021700198\t348.2627529\t4.511561979\tshred galaxy <semiauto-found>\n",
      "\t150887\t1237679005021700288\t348.3942503\t4.552772309\tshred galaxy <semiauto-found>\n",
      "\t150887\t1237679005021700293\t348.3950039\t4.55037932\tshred galaxy <semiauto-found>\n",
      "\t150887\t1237679005021700292\t348.3934994\t4.55007271\tshred galaxy <semiauto-found>\n",
      "\t150887\t1237679005021765925\t348.3994702\t4.567074821\tshred galaxy <semiauto-found>\n",
      "\t150887\t1237679005021765929\t348.3997419\t4.567842711\tshred galaxy <semiauto-found>\n",
      "\t150887\t1237679005021765929\t348.3997419\t4.567842711\tshred galaxy <semiauto-found>\n",
      "\t150887\t1237679005021831464\t348.6207926\t4.378087317\tshred galaxy <semiauto-found>\n",
      "\t150887\t1237679005021962537\t348.9470992\t4.53092546\tshred galaxy <semiauto-found>\n",
      "\t150887\t1237679005022028541\t349.0650825\t4.497889621\tstar spike\n",
      "\t150887\t1237679005022028542\t349.0669065\t4.496766323\tstar spike\n",
      "\t150887\t1237679005558636613\t348.4631356\t4.904934826\tshred galaxy <semiauto-found>\n",
      "\t150887\t1237679005558636614\t348.4636273\t4.905022479\tshred galaxy <semiauto-found>\n",
      "\t150887\t1237679005558636616\t348.4634846\t4.907482859\tshred galaxy <semiauto-found>\n",
      "\t150887\t1237679005558636619\t348.4612045\t4.90438764\tshred galaxy <semiauto-found>\n",
      "\t150887\t1237679005558636621\t348.460703\t4.904467179\tshred galaxy <semiauto-found>\n",
      "\t150887\t1237679005558636616\t348.4634846\t4.907482859\tshred galaxy <semiauto-found>\n",
      "\t150887\t1237679005558636619\t348.4612045\t4.90438764\tshred galaxy <semiauto-found>\n",
      "\t150887\t1237679005558636621\t348.460703\t4.904467179\tshred galaxy <semiauto-found>\n",
      "\t150887\t1237679005558636865\t348.4790358\t4.884018334\tshred galaxy <semiauto-found>\n",
      "\t150887\t1237679005558637017\t348.3996437\t4.866732323\tshred galaxy <semiauto-found>\n",
      "\t150887\t1237679005558637018\t348.3997822\t4.867484181\tshred galaxy <semiauto-found>\n",
      "\t150887\t1237679005558637018\t348.3997822\t4.867484181\tshred galaxy <semiauto-found>\n",
      "\t150887\t1237679005558702453\t348.650122\t4.877933283\tshred galaxy <semiauto-found>\n",
      "\t150887\t1237679005558767960\t348.6895073\t4.922046477\tshred galaxy <semiauto-found>\n",
      "\t150887\t1237679005558833483\t348.8957785\t4.834275971\tshred galaxy <semiauto-found>\n",
      "\t150887\t1237679005558833491\t348.9371616\t4.915840214\tshred galaxy <semiauto-found>\n",
      "\t\t\t\t\t\n",
      "\t150578\t1237678859539448025\t346.1436108\t12.26060821\tnoise artifact\n",
      "\t150578\t1237678859539448026\t346.1432759\t12.26198846\tnoise artifact\n",
      "\t150578\t1237678859539710417\t346.7368895\t12.17143482\tshred galaxy <semiauto-found>\n",
      "\t150578\t1237678860076515632\t346.6818769\t12.5783213\tshred galaxy <semiauto-found>\n",
      "\t150578\t1237678920198979824\t346.7145555\t12.34642846\tshred galaxy <semiauto-found>\n",
      "\t\t\t\t\t\n",
      "OBrother\t149781\t1237679996084617615\t336.0424634\t-3.307055428\tshred galaxy satellite/art\n",
      "OBrother\t149781\t1237679996084617622\t336.0430875\t-3.308617331\tshred galaxy satellite/art\n",
      "OBrother\t149781\t1237679996084617623\t336.0425695\t-3.307294956\tshred galaxy satellite/art\n",
      "OBrother\t149781\t1237679996084617623\t336.0425695\t-3.307294956\tshred galaxy satellite/art\n",
      "OBrother\t149781\t1237679996084682961\t336.1307846\t-3.245994227\tshred galaxy <semiauto-found>\n",
      "OBrother\t149781\t1237679996084682967\t336.1282107\t-3.246489876\tshred galaxy <semiauto-found>\n",
      "OBrother\t149781\t1237679996084617518\t335.9804361\t-3.269670748\tshred galaxy <semiauto-found>\n",
      "OBrother\t149781\t1237679996084748653\t336.2398127\t-3.341441367\tshred galaxy <semiauto-found>\n",
      "OBrother\t149781\t1237680066954461498\t336.2339279\t-3.663585155\tshred galaxy <semiauto-found>\n",
      "\t\t\t\t\t\n",
      "\t150307\t1237680064810516520\t344.306711\t-5.695469\tshred galaxy <semiauto-found>\n",
      "\t150307\t1237680064810516514\t344.3068532\t-5.696343271\tshred galaxy <semiauto-found>\n",
      "\t150307\t1237680064810516695\t344.2352586\t-5.536600883\tnoise artifact\n",
      "\t150307\t1237680064810516699\t344.2333971\t-5.535562918\tnoise artifact\n",
      "\t150307\t1237680116342128690\t343.8288738\t-5.735896191\tscattered light artifact\n",
      "\t150307\t1237680116342128732\t343.8294351\t-5.733418471\tscattered light artifact\n",
      "\t150307\t1237680116342128709\t343.8353918\t-5.727860568\tscattered light artifact\n",
      "\t150307\t1237680116342128739\t343.8346146\t-5.727728845\tscattered light artifact\n",
      "\t150307\t1237680116342128742\t343.834265\t-5.722005562\tscattered light artifact\n",
      "\t150307\t1237680116342128746\t343.8336776\t-5.722660551\tscattered light artifact\n",
      "\t150307\t1237680116342128743\t343.8419344\t-5.72585195\tscattered light artifact\n",
      "\t150307\t1237680116342128750\t343.8426963\t-5.72754652\tscattered light artifact\n",
      "\t150307\t1237680116342128744\t343.8361263\t-5.71889325\tscattered light artifact\n",
      "\t150307\t1237680116342128763\t343.8362465\t-5.716902124\tscattered light artifact\n",
      "\t150307\t1237680116342128767\t343.8349104\t-5.717821607\tscattered light artifact\n",
      "\t150307\t1237680116342128767\t343.8349104\t-5.717821607\tscattered light artifact\n",
      "\t150307\t1237680116879130861\t344.1317102\t-5.316218827\tshred galaxy <semiauto-found>\n",
      "\t150307\t1237680116879196393\t344.2601029\t-5.500090538\tshred galaxy <semiauto-found>\n",
      "\t150307\t1237680116879196394\t344.2611265\t-5.499761497\tshred galaxy <semiauto-found>\n",
      "\t\t\t\t\t\n",
      "AnaK\t61945\t1237663277925335177\t354.4521552\t0.5717430743\tshred galaxy <semiauto-found>\n",
      "AnaK\t61945\t1237663277925335179\t354.4517104\t0.5712535103\tshred galaxy <semiauto-found>\n",
      "AnaK\t61945\t1237663277925335851\t354.5282403\t0.5343066278\tshred galaxy <semiauto-found>\n",
      "AnaK\t61945\t1237663784194801801\t354.017524\t0.0744706829\tshred galaxy <semiauto-found>\n",
      "AnaK\t61945\t1237663784194801805\t354.0175018\t0.0755611531\tshred galaxy <semiauto-found>\n",
      "AnaK\t61945\t1237663784194802608\t354.0221494\t0.06986532704\tshred galaxy <semiauto-found>\n",
      "AnaK\t61945\t1237663784195063812\t354.6133667\t0.2013047562\tstar spike\n",
      "AnaK\t61945\t1237663784195064879\t354.6147677\t0.1993252941\tstar spike\n",
      "AnaK\t61945\t1237666408439612143\t353.651621\t0.3872835173\tshred galaxy <semiauto-found>\n",
      "\t\t\t\t\t\n",
      "\t149977\t1237678857925886378\t339.3828121\t10.31307952\tshred galaxy <semiauto-found>\n",
      "\t149977\t1237678857926017517\t339.6854952\t10.47260362\tshred galaxy <semiauto-found>\n",
      "\t149977\t1237678858462626161\t339.0601077\t10.6498927\tshred galaxy <semiauto-found>\n",
      "\t149977\t1237678858462757207\t339.4678822\t10.7531606\tshred galaxy <semiauto-found>\n",
      "\t149977\t1237678858462757209\t339.467281\t10.75221466\tshred galaxy <semiauto-found>\n",
      "\t149977\t1237678858462757432\t339.3492115\t10.83567213\tshred galaxy <semiauto-found>\n",
      "\t149977\t1237679010927476977\t339.6775749\t10.20942277\tshred galaxy <semiauto-found>d\n",
      "\t\t\t\t\t\n",
      "\t153017\t1237679503782051904\t0.03565668931\t19.9648746\tshred galaxy <semiauto-found>\n",
      "\t153017\t1237679504318857642\t359.8843094\t20.47951372\tshred galaxy <semiauto-found>\n",
      "\t153017\t1237679504319185119\t0.7433371812\t20.38574162\tshred galaxy <semiauto-found>\n",
      "\t153017\t1237679504855990416\t0.500673134\t20.98720461\tshred galaxy <semiauto-found>\n",
      "\t153017\t1237679504855990421\t0.4983175797\t20.9870445\tshred galaxy <semiauto-found>\n",
      "\t153017\t1237679504855990422\t0.500528287\t20.98757402\tshred galaxy <semiauto-found>\n",
      "\t153017\t1237679504855990422\t0.500528287\t20.98757402\tshred galaxy <semiauto-found>\n",
      "\t153017\t1237680246814736852\t0.7899500399\t20.35910528\tshred galaxy <semiauto-found>\n",
      "\t153017\t1237680247351083137\t359.4639257\t20.69770568\tshred galaxy <semiauto-found>\n",
      "\t153017\t1237680247351083138\t359.4641525\t20.69737833\tshred galaxy <semiauto-found>\n",
      "\t153017\t1237680247351083141\t359.4645563\t20.6969454\tshred galaxy <semiauto-found>\n",
      "\t153017\t1237680247351083141\t359.4645563\t20.6969454\tshred galaxy <semiauto-found>\n",
      "\t153017\t1237680247351542039\t0.5993041112\t20.68166076\tshred galaxy <semiauto-found>\n",
      "\t153017\t1237680247888019633\t359.6795526\t21.14766092\tshred galaxy <semiauto-found>\n",
      "\t153017\t1237680247888019640\t359.6775293\t21.14773798\tshred galaxy <semiauto-found>\n",
      "\t153017\t1237680247888019639\t359.6767989\t21.14948469\tshred galaxy <semiauto-found>\n",
      "\t153017\t1237680247888019636\t359.6747525\t21.1417034\tshred galaxy <semiauto-found>\n",
      "\t153017\t1237680247888085341\t359.7996246\t21.01209401\tnoise artifact\n",
      "\t153017\t1237680247888085471\t359.7982216\t21.01104915\tnoise artifact\n",
      "\t153017\t1237680296744255765\t359.9536395\t21.16115858\tstar spike\n",
      "\t153017\t1237680296744255771\t359.9533678\t21.16272591\tstar spike\n",
      "\t153017\t1237680296744255773\t359.9529066\t21.16394053\tstar spike\n",
      "\t153017\t1237680296744255774\t359.9524922\t21.16655599\tstar spike\n",
      "\t\t\t\t\t\n",
      "\t129237\t1237678601850519687\t20.13973076\t17.34349851\tshred galaxy <semiauto-found>\n",
      "\t129237\t1237678601850519688\t20.13749376\t17.34451981\tshred galaxy <semiauto-found>\n",
      "\t129237\t1237678601850650840\t20.41536515\t17.29491013\tnoise artiface\n",
      "\t129237\t1237678601850650843\t20.41766684\t17.29484872\tnoise artiface\n",
      "\t129237\t1237678601850651144\t20.38644183\t17.26723208\tshred galaxy <semiauto-found>\n",
      "\t129237\t1237678601850716722\t20.65197782\t17.30235502\tnoise artifact\n",
      "\t129237\t1237678601850716724\t20.65269738\t17.30142806\tnoise artifact\n",
      "\t129237\t1237678601850781900\t20.78822268\t17.28792472\tnoise artifact\n",
      "\t129237\t1237678601850781967\t20.78837294\t17.28975247\tnoise artifact\n",
      "\t129237\t1237678601850781905\t20.77810205\t17.29223071\tnoise artifact\n",
      "\t129237\t1237678601850781907\t20.77987757\t17.29033252\tnoise artifact\n",
      "\t129237\t1237678602387325535\t20.07919644\t17.73512094\tshred galaxy <semiauto-found>\n",
      "\t129237\t1237678602387456102\t20.26807628\t17.57900131\tshred galaxy <semiauto-found>\n",
      "\t129237\t1237678602387456108\t20.26746861\t17.57739308\tshred galaxy <semiauto-found>\n",
      "\t129237\t1237678602387456304\t20.32790587\t17.75338585\tshred galaxy <semiauto-found>\n",
      "\t129237\t1237679169304789021\t20.53573965\t17.5275968\tshred galaxy <semiauto-found>\n",
      "\t129237\t1237679169304658234\t20.25738626\t17.36696414\tshred galaxy <semiauto-found>\n",
      "\t129237\t1237679169304723556\t20.41935672\t17.38219709\tshred galaxy <semiauto-found>\n",
      "\t129237\t1237679169304723898\t20.44862512\t17.34729588\tnoise artifact\n",
      "\t129237\t1237679169304723899\t20.44992802\t17.34804584\tnoise artifact\n",
      "\t129237\t1237679169304855180\t20.76016147\t17.33295831\tstar spike\n",
      "\t129237\t1237679169304855184\t20.7617787\t17.33254073\tstar spike\n",
      "\t129237\t1237679169841463964\t20.14700215\t17.84462893\tshred galaxy <semiauto-found>\n",
      "\t129237\t1237679169841725674\t20.77459924\t17.88975939\tshred galaxy <semiauto-found>\n",
      "\t\t\t\t\t\n",
      "Narnia\t132339\t1237660024521097903\t39.65634965\t-1.245097828\tshred galaxy <semiauto-found>\n",
      "Narnia\t132339\t1237660024521097904\t39.65383793\t-1.245492657\tshred galaxy <semiauto-found>\n",
      "Narnia\t132339\t1237678881037877364\t39.46768799\t-1.667585459\tshred galaxy <semiauto-found>\n",
      "Narnia\t132339\t1237678881037877356\t39.46929951\t-1.6622428\tshred galaxy <semiauto-found>\n",
      "Narnia\t132339\t1237678881037877358\t39.46676407\t-1.660034245\tshred galaxy <semiauto-found>\n",
      "Narnia\t132339\t1237678881037877361\t39.46445312\t-1.659262884\tshred galaxy <semiauto-found>\n",
      "Narnia\t132339\t1237678881037877362\t39.4676998\t-1.659933653\tshred galaxy <semiauto-found>\n",
      "Narnia\t132339\t1237678881037943007\t39.62430852\t-1.760352276\tshred galaxy <semiauto-found>\n",
      "\t\t\t\t\t\n",
      "\t126115\t1237679504319185119\t0.7433371812\t20.38574162\tshred galaxy <semiauto-found>\n",
      "\t126115\t1237679504319447190\t1.422447618\t20.47680278\tshred galaxy <semiauto-found>\n",
      "\t126115\t1237679504319447191\t1.420501571\t20.48091637\tshred galaxy <semiauto-found>\n",
      "\t126115\t1237679504319447198\t1.421742663\t20.47824808\tshred galaxy <semiauto-found>\n",
      "\t126115\t1237679504319447199\t1.419477198\t20.48001451\tshred galaxy <semiauto-found>\n",
      "\t126115\t1237679504319512686\t1.423280405\t20.47842523\tshred galaxy <semiauto-found>\n",
      "\t126115\t1237679504319447198\t1.421742663\t20.47824808\tshred galaxy <semiauto-found>\n",
      "\t126115\t1237679504319512686\t1.423280405\t20.47842523\tshred galaxy <semiauto-found>\n",
      "\t126115\t1237679504319447194\t1.418337112\t20.47936111\tshred galaxy <semiauto-found>\n",
      "\t126115\t1237679504319447197\t1.417832933\t20.47970895\tshred galaxy <semiauto-found>\n",
      "\t126115\t1237679504319447199\t1.419477198\t20.48001451\tshred galaxy <semiauto-found>\n",
      "\t126115\t1237679504319512687\t1.422553512\t20.48171438\tshred galaxy <semiauto-found>\n",
      "\t126115\t1237679504319447196\t1.416917027\t20.47842819\tshred galaxy <semiauto-found>\n",
      "\t126115\t1237679504319447197\t1.417832933\t20.47970895\tshred galaxy <semiauto-found>\n",
      "\t126115\t1237679504319447199\t1.419477198\t20.48001451\tshred galaxy <semiauto-found>\n",
      "\t126115\t1237679504319447197\t1.417832933\t20.47970895\tshred galaxy <semiauto-found>\n",
      "\t126115\t1237679504319447199\t1.419477198\t20.48001451\tshred galaxy <semiauto-found>\n",
      "\t126115\t1237679504319447199\t1.419477198\t20.48001451\tshred galaxy <semiauto-found>\n",
      "\t126115\t1237679504319512686\t1.423280405\t20.47842523\tshred galaxy <semiauto-found>\n",
      "\t126115\t1237679504855990416\t0.500673134\t20.98720461\tshred galaxy <semiauto-found>\n",
      "\t126115\t1237679504855990421\t0.4983175797\t20.9870445\tshred galaxy <semiauto-found>\n",
      "\t126115\t1237679504855990422\t0.500528287\t20.98757402\tshred galaxy <semiauto-found>\n",
      "\t126115\t1237679504855990422\t0.500528287\t20.98757402\tshred galaxy <semiauto-found>\n",
      "\t126115\t1237680246814736852\t0.7899500399\t20.35910528\tshred galaxy <semiauto-found>\n",
      "\t126115\t1237680247351542039\t0.5993041112\t20.68166076\tshred galaxy <semiauto-found>\n"
     ]
    }
   ],
   "source": [
    "print('\\n'.join(newlines))"
   ]
  },
  {
   "cell_type": "code",
   "execution_count": 19,
   "metadata": {
    "collapsed": false
   },
   "outputs": [
    {
     "name": "stdout",
     "output_type": "stream",
     "text": [
      "On host NSA150887\n",
      "Going to write mmthecto/NSA150887_nov2015.cat mmthecto/NSA150887_nov2015.fluxstars\n",
      "Including 4597 targets\n",
      "Found 73 Flux stars\n",
      "Removing 12 Flux stars too close to program stars\n",
      "Could not find psf mags so falling back on regular mags...\n",
      "Found 255 guide stars\n",
      "On host NSA150578\n",
      "Going to write mmthecto/NSA150578_nov2015.cat mmthecto/NSA150578_nov2015.fluxstars\n",
      "Including 3531 targets\n",
      "Found 57 Flux stars\n",
      "Removing 6 Flux stars too close to program stars\n",
      "Could not find psf mags so falling back on regular mags...\n",
      "Found 248 guide stars\n",
      "On host OBrother\n",
      "Going to write mmthecto/OBrother_nov2015.cat mmthecto/OBrother_nov2015.fluxstars\n",
      "Including 4508 targets\n",
      "Found 110 Flux stars\n",
      "Removing 13 Flux stars too close to program stars\n",
      "Could not find psf mags so falling back on regular mags...\n",
      "Found 282 guide stars\n",
      "On host NSA150307\n",
      "Going to write mmthecto/NSA150307_nov2015.cat mmthecto/NSA150307_nov2015.fluxstars\n",
      "Including 3716 targets\n",
      "Found 99 Flux stars\n",
      "Removing 8 Flux stars too close to program stars\n",
      "Could not find psf mags so falling back on regular mags...\n",
      "Found 295 guide stars\n",
      "On host AnaK\n",
      "Going to write mmthecto/AnaK_nov2015.cat mmthecto/AnaK_nov2015.fluxstars\n",
      "Including 4892 targets\n",
      "Found 79 Flux stars\n",
      "Removing 15 Flux stars too close to program stars\n",
      "Could not find psf mags so falling back on regular mags...\n",
      "Found 72 guide stars\n",
      "On host NSA149977\n",
      "Going to write mmthecto/NSA149977_nov2015.cat mmthecto/NSA149977_nov2015.fluxstars\n",
      "Including 3118 targets\n",
      "Found 128 Flux stars\n",
      "Removing 8 Flux stars too close to program stars\n",
      "Could not find psf mags so falling back on regular mags...\n",
      "Found 397 guide stars\n",
      "On host NSA153017\n",
      "Going to write mmthecto/NSA153017_nov2015.cat mmthecto/NSA153017_nov2015.fluxstars\n",
      "Including 2670 targets\n",
      "Found 64 Flux stars\n",
      "Removing 3 Flux stars too close to program stars\n",
      "Could not find psf mags so falling back on regular mags...\n",
      "Found 292 guide stars\n",
      "On host NSA129387\n",
      "Going to write mmthecto/NSA129387_nov2015.cat mmthecto/NSA129387_nov2015.fluxstars\n",
      "Including 5004 targets\n",
      "Found 60 Flux stars\n",
      "Removing 7 Flux stars too close to program stars\n",
      "Could not find psf mags so falling back on regular mags...\n",
      "Found 136 guide stars\n",
      "On host NSA129237\n",
      "Going to write mmthecto/NSA129237_nov2015.cat mmthecto/NSA129237_nov2015.fluxstars\n",
      "Including 3377 targets\n",
      "Found 49 Flux stars\n",
      "Removing 4 Flux stars too close to program stars\n",
      "Could not find psf mags so falling back on regular mags...\n",
      "Found 155 guide stars\n",
      "On host Narnia\n",
      "Going to write mmthecto/Narnia_nov2015.cat mmthecto/Narnia_nov2015.fluxstars\n",
      "Including 5109 targets\n",
      "Found 46 Flux stars\n",
      "Removing 11 Flux stars too close to program stars\n",
      "Could not find psf mags so falling back on regular mags...\n",
      "Found 107 guide stars\n",
      "On host NSA126115\n",
      "Going to write mmthecto/NSA126115_nov2015.cat mmthecto/NSA126115_nov2015.fluxstars\n",
      "Including 3681 targets\n",
      "Found 86 Flux stars\n",
      "Removing 8 Flux stars too close to program stars\n",
      "Could not find psf mags so falling back on regular mags...\n",
      "Found 303 guide stars\n"
     ]
    }
   ],
   "source": [
    "generated_cats = {}\n",
    "for h in hosts_to_target:\n",
    "    print('On host', h.name)\n",
    "    sys.stdout.flush()\n",
    "\n",
    "    cat = joined_catalogs[h]\n",
    "    ranks = rankdct[h]\n",
    "    \n",
    "    fnout = 'mmthecto/{0}_nov2015.cat'.format(h.name)\n",
    "    fluxfnout = fnout.replace('.cat', '.fluxstars')\n",
    "    print('Going to write', fnout, fluxfnout)\n",
    "    msk = (cat['RHOST_ARCM']<40) & (ranks>0) & (ranks<10)\n",
    "    generated_cats[h] = gcat = mmthecto.generate_catalog(h, cat[msk], ranks[msk], \n",
    "                                         repeatflux=3, removefluxdistance=20*u.arcsec,\n",
    "                                         fnout=fnout, fluxfnout=fluxfnout)"
   ]
  },
  {
   "cell_type": "code",
   "execution_count": null,
   "metadata": {
    "collapsed": true
   },
   "outputs": [],
   "source": []
  }
 ],
 "metadata": {
  "kernelspec": {
   "display_name": "Python 2",
   "language": "python",
   "name": "python2"
  },
  "language_info": {
   "codemirror_mode": {
    "name": "ipython",
    "version": 2
   },
   "file_extension": ".py",
   "mimetype": "text/x-python",
   "name": "python",
   "nbconvert_exporter": "python",
   "pygments_lexer": "ipython2",
   "version": "2.7.10"
  }
 },
 "nbformat": 4,
 "nbformat_minor": 0
}
