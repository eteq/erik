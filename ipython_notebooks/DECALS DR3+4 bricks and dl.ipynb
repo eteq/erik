{
 "cells": [
  {
   "cell_type": "code",
   "execution_count": 1,
   "metadata": {
    "collapsed": true
   },
   "outputs": [],
   "source": [
    "from __future__ import print_function, division"
   ]
  },
  {
   "cell_type": "code",
   "execution_count": 2,
   "metadata": {
    "collapsed": true
   },
   "outputs": [],
   "source": [
    "# This changes the current directory to the base saga directory - make sure to run this first!\n",
    "# This is necessary to be able to import the py files and use the right directories,\n",
    "# while keeping all the notebooks in their own directory.\n",
    "import os\n",
    "import sys\n",
    "import time\n",
    "\n",
    "if 'saga_base_dir' not in locals():\n",
    "    saga_base_dir = os.path.abspath('..')\n",
    "if saga_base_dir not in sys.path:\n",
    "    os.chdir(saga_base_dir)"
   ]
  },
  {
   "cell_type": "code",
   "execution_count": 3,
   "metadata": {
    "collapsed": true
   },
   "outputs": [],
   "source": [
    "import hosts\n",
    "\n",
    "import numpy as np\n",
    "\n",
    "from astropy import units as u\n",
    "from astropy.coordinates import SkyCoord, Angle\n",
    "from astropy import table\n",
    "from astropy.table import Table\n",
    "from astropy.io import fits\n",
    "\n",
    "from astropy.utils.console import ProgressBar\n",
    "from astropy.utils import data"
   ]
  },
  {
   "cell_type": "code",
   "execution_count": 4,
   "metadata": {},
   "outputs": [],
   "source": [
    "%matplotlib inline\n",
    "from matplotlib import style, pyplot as plt\n",
    "\n",
    "plt.style.use('seaborn-deep')\n",
    "plt.rcParams['image.cmap'] = 'viridis'\n",
    "plt.rcParams['image.origin'] = 'lower'\n",
    "plt.rcParams['figure.figsize'] = (14, 8)"
   ]
  },
  {
   "cell_type": "markdown",
   "metadata": {},
   "source": [
    "# Viewing functions "
   ]
  },
  {
   "cell_type": "code",
   "execution_count": 36,
   "metadata": {},
   "outputs": [],
   "source": [
    "def show_in_decals(ra, dec=None, urltempl='http://legacysurvey.org/viewer?ra={}&dec={}', show=True):\n",
    "    import webbrowser\n",
    "        \n",
    "    if dec is None:\n",
    "        obj = ra\n",
    "        if hasattr(obj, 'coords'):\n",
    "            coo = obj.coords\n",
    "        else:\n",
    "            coo = SkyCoord.guess_from_table(obj, unit=u.deg)\n",
    "            if coo.shape != tuple():\n",
    "                raise ValueError('cant use table in show_in_decals')\n",
    "    else:\n",
    "        coo = SkyCoord(ra, dec, unit=u.deg)\n",
    "    \n",
    "    url = urltempl.format(coo.ra.deg, coo.dec.deg)\n",
    "    if show:\n",
    "        webbrowser.open(url)\n",
    "    return url"
   ]
  },
  {
   "cell_type": "markdown",
   "metadata": {},
   "source": [
    "# Load the brick data "
   ]
  },
  {
   "cell_type": "code",
   "execution_count": 5,
   "metadata": {},
   "outputs": [
    {
     "name": "stdout",
     "output_type": "stream",
     "text": [
      "anakbricks                     survey-bricks.fits.gz\r\n",
      "\u001b[1m\u001b[36mcatalogs\u001b[m\u001b[m/                      survey-ccds-decals.fits.gz\r\n",
      "dr3-depth.fits.gz              survey-ccds-extra.fits.gz\r\n",
      "in_sdss.npy                    survey-ccds-nondecals.fits.gz\r\n",
      "survey-bricks-dr3.fits.gz\r\n"
     ]
    }
   ],
   "source": [
    "ls decals_dr3/"
   ]
  },
  {
   "cell_type": "code",
   "execution_count": 6,
   "metadata": {},
   "outputs": [
    {
     "name": "stdout",
     "output_type": "stream",
     "text": [
      "in_sdss.npy                survey-bricks.fits.gz\r\n",
      "survey-bricks-dr4.fits.gz\r\n"
     ]
    }
   ],
   "source": [
    "ls decals_dr4/"
   ]
  },
  {
   "cell_type": "code",
   "execution_count": 7,
   "metadata": {
    "scrolled": true
   },
   "outputs": [],
   "source": [
    "bricks = Table.read('decals_dr4/survey-bricks.fits.gz')\n",
    "bricksdr3 = Table.read('decals_dr3/survey-bricks-dr3.fits.gz')\n",
    "bricksdr4 = Table.read('decals_dr4/survey-bricks-dr4.fits.gz')"
   ]
  },
  {
   "cell_type": "markdown",
   "metadata": {},
   "source": [
    "# SAGA hosts"
   ]
  },
  {
   "cell_type": "code",
   "execution_count": 8,
   "metadata": {
    "collapsed": true
   },
   "outputs": [],
   "source": [
    "paper1nsas_comp = [166313,147100,165536,61945,132339,149781,33446,150887]\n",
    "paper1nsas_incomp = [161174,85746,145729,140594,126115,13927,137625,129237]\n",
    "paper1nsas = paper1nsas_comp + paper1nsas_incomp"
   ]
  },
  {
   "cell_type": "code",
   "execution_count": 9,
   "metadata": {},
   "outputs": [
    {
     "name": "stdout",
     "output_type": "stream",
     "text": [
      "Using cached version of google hosts list from file \"hosts_dl.pkl2\"\n"
     ]
    }
   ],
   "source": [
    "hostobjs = hosts.get_saga_hosts_from_google()\n",
    "paperhosts = [h for h in hostobjs if h.nsaid in paper1nsas]\n",
    "assert len(paperhosts) == len(paper1nsas)"
   ]
  },
  {
   "cell_type": "code",
   "execution_count": 92,
   "metadata": {},
   "outputs": [],
   "source": [
    "paperhostscs = SkyCoord([h.coords for h in paperhosts])"
   ]
  },
  {
   "cell_type": "code",
   "execution_count": 81,
   "metadata": {},
   "outputs": [],
   "source": [
    "def find_host_bricks(hostlst, bricksdr, environfactor=1.2, brick_check_func=np.any):\n",
    "    subbricks = bricks['BRICKNAME', 'RA1', 'RA2', 'DEC1', 'DEC2']\n",
    "    subbricks.rename_column('BRICKNAME', 'brickname')\n",
    "    joined = table.join(subbricks, bricksdr)\n",
    "    \n",
    "    schosts = SkyCoord([h.coords for h in hostlst])\n",
    "    hostnames = np.array([h.name for h in hostlst])\n",
    "    if hasattr(environfactor, 'unit'):\n",
    "        environrad = [environfactor.value for h in hostlst]*environfactor.unit\n",
    "    else:\n",
    "        environrad = [environfactor*h.environsarcmin for h in hostlst]*u.arcmin\n",
    "\n",
    "    # we do the ravel because match_to_catalog_sky works best with 1d\n",
    "    brickras = np.array([joined['RA1'], joined['RA1'], joined['RA2'], joined['RA2']]).ravel()\n",
    "    brickdecs = np.array([joined['DEC1'], joined['DEC2'], joined['DEC1'], joined['DEC2']]).ravel()\n",
    "    brickedge_scs = SkyCoord(brickras, brickdecs, unit=u.deg)\n",
    "    \n",
    "    idx, d2d, _ = brickedge_scs.match_to_catalog_sky(schosts)\n",
    "    # reshape so that each *brick* is represented\n",
    "    bricksidx = idx.reshape(4, idx.size//4)\n",
    "    bricksd2d = d2d.reshape(4, idx.size//4)\n",
    "    \n",
    "    bricksin = brick_check_func(bricksd2d < environrad[bricksidx], axis=0)\n",
    "    \n",
    "    res = joined[bricksin]\n",
    "    \n",
    "    # do this matching b/c it's *possible* multiple matches exist if a brick is near-equidistant\n",
    "    closest_host_idx = SkyCoord.guess_from_table(res, unit=u.deg).match_to_catalog_sky(schosts)[0]\n",
    "    res['closest_host_idx'] = closest_host_idx\n",
    "    res['closest_host_name'] = hostnames[closest_host_idx]\n",
    "    \n",
    "    return res"
   ]
  },
  {
   "cell_type": "code",
   "execution_count": 94,
   "metadata": {},
   "outputs": [
    {
     "name": "stdout",
     "output_type": "stream",
     "text": [
      "446\n"
     ]
    },
    {
     "data": {
      "text/plain": [
       "<matplotlib.collections.PathCollection at 0x13cc785d0>"
      ]
     },
     "execution_count": 94,
     "metadata": {},
     "output_type": "execute_result"
    },
    {
     "data": {
      "image/png": "[encoded data removed]",
      "text/plain": [
       "<matplotlib.figure.Figure at 0x13c422710>"
      ]
     },
     "metadata": {},
     "output_type": "display_data"
    }
   ],
   "source": [
    "host_bricks_3 = find_host_bricks(paperhosts, bricksdr3)\n",
    "\n",
    "for brick in host_bricks_3:\n",
    "    x = [brick['RA1'], brick['RA2'], brick['RA2'], brick['RA1'], brick['RA1']]\n",
    "    y = [brick['DEC1'], brick['DEC1'], brick['DEC2'], brick['DEC2'], brick['DEC1']]\n",
    "    plt.plot(x, y)\n",
    "    \n",
    "plt.scatter(paperhostscs.ra.deg, paperhostscs.dec.deg, c='r')\n",
    "\n",
    "len(host_bricks_3)"
   ]
  },
  {
   "cell_type": "code",
   "execution_count": 95,
   "metadata": {},
   "outputs": [
    {
     "data": {
      "text/plain": [
       "71"
      ]
     },
     "execution_count": 95,
     "metadata": {},
     "output_type": "execute_result"
    },
    {
     "data": {
      "image/png": "[encoded data removed]",
      "text/plain": [
       "<matplotlib.figure.Figure at 0x13cc7b910>"
      ]
     },
     "metadata": {},
     "output_type": "display_data"
    }
   ],
   "source": [
    "host_bricks_4 = find_host_bricks(paperhosts, bricksdr4)\n",
    "\n",
    "for brick in host_bricks_4:\n",
    "    x = [brick['RA1'], brick['RA2'], brick['RA2'], brick['RA1'], brick['RA1']]\n",
    "    y = [brick['DEC1'], brick['DEC1'], brick['DEC2'], brick['DEC2'], brick['DEC1']]\n",
    "    plt.plot(x, y)\n",
    "    \n",
    "plt.scatter(paperhostscs.ra.deg, paperhostscs.dec.deg, c='r')\n",
    "\n",
    "len(host_bricks_4)"
   ]
  },
  {
   "cell_type": "code",
   "execution_count": 98,
   "metadata": {},
   "outputs": [
    {
     "data": {
      "text/html": [
       "&lt;Table length=446&gt;\n",
       "<table id=\"table5298436944\" class=\"table-striped table-bordered table-condensed\">\n",
       "<thead><tr><th>brickname</th><th>RA1</th><th>RA2</th><th>DEC1</th><th>DEC2</th><th>ra</th><th>dec</th><th>nexp_g</th><th>nexp_r</th><th>nexp_z</th><th>nexphist_g [6]</th><th>nexphist_r [6]</th><th>nexphist_z [6]</th><th>nobjs</th><th>npsf</th><th>nsimp</th><th>nexp</th><th>ndev</th><th>ncomp</th><th>psfsize_g</th><th>psfsize_r</th><th>psfsize_z</th><th>ebv</th><th>trans_g</th><th>trans_r</th><th>trans_z</th><th>closest_host_idx</th><th>closest_host_name</th></tr></thead>\n",
       "<thead><tr><th>str8</th><th>float64</th><th>float64</th><th>float64</th><th>float64</th><th>float64</th><th>float64</th><th>int16</th><th>int16</th><th>int16</th><th>int32</th><th>int32</th><th>int32</th><th>int16</th><th>int16</th><th>int16</th><th>int16</th><th>int16</th><th>int16</th><th>float32</th><th>float32</th><th>float32</th><th>float32</th><th>float32</th><th>float32</th><th>float32</th><th>int64</th><th>str11</th></tr></thead>\n",
       "<tr><td>0003p202</td><td>0.2658788774</td><td>0.531757754801</td><td>20.125</td><td>20.375</td><td>0.3988183161</td><td>20.25</td><td>0</td><td>0</td><td>5</td><td>0 .. 0</td><td>0 .. 0</td><td>120817 .. 8188992</td><td>1984</td><td>1042</td><td>578</td><td>234</td><td>120</td><td>10</td><td>0.0</td><td>0.0</td><td>1.37468</td><td>0.0515558</td><td>0.85846</td><td>0.902304</td><td>0.944118</td><td>7</td><td>Bandamanna</td></tr>\n",
       "<tr><td>0004p205</td><td>0.266666666667</td><td>0.533333333333</td><td>20.375</td><td>20.625</td><td>0.4</td><td>20.5</td><td>0</td><td>0</td><td>5</td><td>0 .. 0</td><td>0 .. 0</td><td>165218 .. 8096400</td><td>1647</td><td>847</td><td>520</td><td>190</td><td>80</td><td>10</td><td>0.0</td><td>0.0</td><td>1.38472</td><td>0.0598364</td><td>0.837673</td><td>0.887527</td><td>0.935439</td><td>7</td><td>Bandamanna</td></tr>\n",
       "<tr><td>0004p207</td><td>0.26706231454</td><td>0.53412462908</td><td>20.625</td><td>20.875</td><td>0.40059347181</td><td>20.75</td><td>0</td><td>0</td><td>4</td><td>0 .. 0</td><td>0 .. 0</td><td>252263 .. 4797094</td><td>1661</td><td>883</td><td>483</td><td>192</td><td>93</td><td>10</td><td>0.0</td><td>0.0</td><td>1.39148</td><td>0.059243</td><td>0.839145</td><td>0.888578</td><td>0.936058</td><td>7</td><td>Bandamanna</td></tr>\n",
       "<tr><td>0004p210</td><td>0.267459138187</td><td>0.534918276374</td><td>20.875</td><td>21.125</td><td>0.401188707281</td><td>21.0</td><td>0</td><td>0</td><td>1</td><td>0 .. 0</td><td>0 .. 0</td><td>1354173 .. 0</td><td>1620</td><td>814</td><td>514</td><td>181</td><td>99</td><td>12</td><td>0.0</td><td>0.0</td><td>1.1991</td><td>0.0554702</td><td>0.84857</td><td>0.895288</td><td>0.940005</td><td>7</td><td>Bandamanna</td></tr>\n",
       "<tr><td>0004p212</td><td>0.267857142857</td><td>0.535714285714</td><td>21.125</td><td>21.375</td><td>0.401785714286</td><td>21.25</td><td>0</td><td>0</td><td>1</td><td>0 .. 0</td><td>0 .. 0</td><td>1271401 .. 0</td><td>1656</td><td>837</td><td>515</td><td>181</td><td>110</td><td>13</td><td>0.0</td><td>0.0</td><td>1.19413</td><td>0.0441307</td><td>0.877537</td><td>0.915762</td><td>0.95197</td><td>7</td><td>Bandamanna</td></tr>\n",
       "<tr><td>0006p202</td><td>0.531757754801</td><td>0.797636632201</td><td>20.125</td><td>20.375</td><td>0.664697193501</td><td>20.25</td><td>0</td><td>0</td><td>6</td><td>0 .. 0</td><td>0 .. 0</td><td>439 .. 9446212</td><td>2191</td><td>1185</td><td>636</td><td>254</td><td>105</td><td>11</td><td>0.0</td><td>0.0</td><td>1.3533</td><td>0.0388328</td><td>0.891408</td><td>0.925488</td><td>0.957612</td><td>7</td><td>Bandamanna</td></tr>\n",
       "<tr><td>0006p205</td><td>0.533333333333</td><td>0.8</td><td>20.375</td><td>20.625</td><td>0.666666666667</td><td>20.5</td><td>0</td><td>0</td><td>5</td><td>0 .. 0</td><td>0 .. 0</td><td>131929 .. 8421544</td><td>1649</td><td>864</td><td>509</td><td>194</td><td>74</td><td>8</td><td>0.0</td><td>0.0</td><td>1.38377</td><td>0.0535341</td><td>0.853447</td><td>0.898751</td><td>0.942037</td><td>7</td><td>Bandamanna</td></tr>\n",
       "<tr><td>0006p207</td><td>0.53412462908</td><td>0.80118694362</td><td>20.625</td><td>20.875</td><td>0.66765578635</td><td>20.75</td><td>0</td><td>0</td><td>3</td><td>0 .. 0</td><td>0 .. 0</td><td>39476 .. 3611242</td><td>1866</td><td>999</td><td>540</td><td>198</td><td>124</td><td>5</td><td>0.0</td><td>0.0</td><td>1.30452</td><td>0.0529583</td><td>0.854903</td><td>0.899784</td><td>0.942642</td><td>7</td><td>Bandamanna</td></tr>\n",
       "<tr><td>0006p210</td><td>0.534918276374</td><td>0.802377414562</td><td>20.875</td><td>21.125</td><td>0.668647845468</td><td>21.0</td><td>0</td><td>0</td><td>1</td><td>0 .. 0</td><td>0 .. 0</td><td>1185255 .. 0</td><td>1578</td><td>819</td><td>463</td><td>175</td><td>113</td><td>8</td><td>0.0</td><td>0.0</td><td>1.21821</td><td>0.0591779</td><td>0.839307</td><td>0.888693</td><td>0.936126</td><td>7</td><td>Bandamanna</td></tr>\n",
       "<tr><td>0006p212</td><td>0.535714285714</td><td>0.803571428571</td><td>21.125</td><td>21.375</td><td>0.669642857143</td><td>21.25</td><td>0</td><td>0</td><td>2</td><td>0 .. 0</td><td>0 .. 0</td><td>168924 .. 0</td><td>2071</td><td>1073</td><td>675</td><td>203</td><td>109</td><td>11</td><td>0.0</td><td>0.0</td><td>1.26494</td><td>0.0497566</td><td>0.863044</td><td>0.905547</td><td>0.946015</td><td>7</td><td>Bandamanna</td></tr>\n",
       "<tr><td>...</td><td>...</td><td>...</td><td>...</td><td>...</td><td>...</td><td>...</td><td>...</td><td>...</td><td>...</td><td>...</td><td>...</td><td>...</td><td>...</td><td>...</td><td>...</td><td>...</td><td>...</td><td>...</td><td>...</td><td>...</td><td>...</td><td>...</td><td>...</td><td>...</td><td>...</td><td>...</td><td>...</td></tr>\n",
       "<tr><td>3543p000</td><td>354.25</td><td>354.5</td><td>-0.125</td><td>0.125</td><td>354.375</td><td>0.0</td><td>7</td><td>7</td><td>6</td><td>270 .. 11332261</td><td>1943 .. 11089107</td><td>2448 .. 10052649</td><td>6022</td><td>3459</td><td>1365</td><td>986</td><td>199</td><td>13</td><td>1.8029</td><td>1.27368</td><td>1.1324</td><td>0.0370523</td><td>0.896119</td><td>0.92878</td><td>0.959515</td><td>3</td><td>AnaK</td></tr>\n",
       "<tr><td>3543p002</td><td>354.25</td><td>354.5</td><td>0.125</td><td>0.375</td><td>354.375</td><td>0.25</td><td>7</td><td>4</td><td>4</td><td>306 .. 11114145</td><td>1862 .. 5569370</td><td>2171 .. 5347499</td><td>6410</td><td>3363</td><td>1412</td><td>1243</td><td>351</td><td>41</td><td>1.78857</td><td>1.21771</td><td>1.03124</td><td>0.0385909</td><td>0.892047</td><td>0.925934</td><td>0.95787</td><td>3</td><td>AnaK</td></tr>\n",
       "<tr><td>3543p005</td><td>354.25</td><td>354.5</td><td>0.375</td><td>0.625</td><td>354.375</td><td>0.5</td><td>6</td><td>4</td><td>4</td><td>658 .. 10057470</td><td>2429 .. 4586932</td><td>3126 .. 1780178</td><td>5669</td><td>3120</td><td>1331</td><td>959</td><td>231</td><td>28</td><td>1.79196</td><td>1.27531</td><td>1.00309</td><td>0.0357948</td><td>0.899461</td><td>0.931112</td><td>0.960862</td><td>3</td><td>AnaK</td></tr>\n",
       "<tr><td>3543p007</td><td>354.25</td><td>354.5</td><td>0.625</td><td>0.875</td><td>354.375</td><td>0.75</td><td>5</td><td>4</td><td>3</td><td>2037 .. 5939146</td><td>5542 .. 4135313</td><td>6399 .. 0</td><td>5686</td><td>3137</td><td>1310</td><td>964</td><td>257</td><td>18</td><td>1.68075</td><td>1.22328</td><td>0.955826</td><td>0.0358949</td><td>0.899194</td><td>0.930926</td><td>0.960755</td><td>3</td><td>AnaK</td></tr>\n",
       "<tr><td>3543p010</td><td>354.25</td><td>354.5</td><td>0.875</td><td>1.125</td><td>354.375</td><td>1.0</td><td>6</td><td>7</td><td>5</td><td>1144 .. 9606617</td><td>2611 .. 11433357</td><td>3450 .. 8612085</td><td>5906</td><td>3524</td><td>1192</td><td>973</td><td>199</td><td>18</td><td>1.67807</td><td>1.27109</td><td>1.03193</td><td>0.038602</td><td>0.892017</td><td>0.925914</td><td>0.957858</td><td>3</td><td>AnaK</td></tr>\n",
       "<tr><td>3546m002</td><td>354.5</td><td>354.75</td><td>-0.375</td><td>-0.125</td><td>354.625</td><td>-0.25</td><td>8</td><td>5</td><td>5</td><td>2398 .. 11383742</td><td>8005 .. 6033869</td><td>7367 .. 6391430</td><td>5669</td><td>3316</td><td>1196</td><td>940</td><td>199</td><td>18</td><td>1.73862</td><td>1.2152</td><td>1.05571</td><td>0.0388514</td><td>0.891359</td><td>0.925454</td><td>0.957592</td><td>3</td><td>AnaK</td></tr>\n",
       "<tr><td>3546p000</td><td>354.5</td><td>354.75</td><td>-0.125</td><td>0.125</td><td>354.625</td><td>0.0</td><td>8</td><td>7</td><td>6</td><td>951 .. 11485335</td><td>3428 .. 11409423</td><td>3551 .. 11162394</td><td>5954</td><td>3566</td><td>1227</td><td>964</td><td>185</td><td>12</td><td>1.76963</td><td>1.28199</td><td>1.12877</td><td>0.0344073</td><td>0.903163</td><td>0.933691</td><td>0.96235</td><td>3</td><td>AnaK</td></tr>\n",
       "<tr><td>3546p002</td><td>354.5</td><td>354.75</td><td>0.125</td><td>0.375</td><td>354.625</td><td>0.25</td><td>7</td><td>5</td><td>5</td><td>2428 .. 10687632</td><td>6851 .. 6011531</td><td>5492 .. 6814609</td><td>6774</td><td>3696</td><td>1479</td><td>1242</td><td>328</td><td>29</td><td>1.75513</td><td>1.21964</td><td>1.02737</td><td>0.037327</td><td>0.89539</td><td>0.928271</td><td>0.959221</td><td>3</td><td>AnaK</td></tr>\n",
       "<tr><td>3546p005</td><td>354.5</td><td>354.75</td><td>0.375</td><td>0.625</td><td>354.625</td><td>0.5</td><td>6</td><td>7</td><td>6</td><td>232 .. 9658831</td><td>1275 .. 11456715</td><td>1495 .. 9932597</td><td>6087</td><td>3629</td><td>1266</td><td>989</td><td>187</td><td>16</td><td>1.77101</td><td>1.28551</td><td>1.18618</td><td>0.0358459</td><td>0.899325</td><td>0.931017</td><td>0.960807</td><td>3</td><td>AnaK</td></tr>\n",
       "<tr><td>3546p007</td><td>354.5</td><td>354.75</td><td>0.625</td><td>0.875</td><td>354.625</td><td>0.75</td><td>4</td><td>4</td><td>3</td><td>8734 .. 4612210</td><td>18920 .. 2346012</td><td>27519 .. 2103763</td><td>5416</td><td>3100</td><td>1243</td><td>830</td><td>228</td><td>15</td><td>1.73275</td><td>1.22412</td><td>1.03581</td><td>0.0342039</td><td>0.903707</td><td>0.93407</td><td>0.962568</td><td>3</td><td>AnaK</td></tr>\n",
       "</table>"
      ],
      "text/plain": [
       "<Table length=446>\n",
       "brickname      RA1            RA2       ... closest_host_idx closest_host_name\n",
       "   str8      float64        float64     ...      int64             str11      \n",
       "--------- -------------- -------------- ... ---------------- -----------------\n",
       " 0003p202   0.2658788774 0.531757754801 ...                7        Bandamanna\n",
       " 0004p205 0.266666666667 0.533333333333 ...                7        Bandamanna\n",
       " 0004p207  0.26706231454  0.53412462908 ...                7        Bandamanna\n",
       " 0004p210 0.267459138187 0.534918276374 ...                7        Bandamanna\n",
       " 0004p212 0.267857142857 0.535714285714 ...                7        Bandamanna\n",
       " 0006p202 0.531757754801 0.797636632201 ...                7        Bandamanna\n",
       " 0006p205 0.533333333333            0.8 ...                7        Bandamanna\n",
       " 0006p207  0.53412462908  0.80118694362 ...                7        Bandamanna\n",
       " 0006p210 0.534918276374 0.802377414562 ...                7        Bandamanna\n",
       " 0006p212 0.535714285714 0.803571428571 ...                7        Bandamanna\n",
       "      ...            ...            ... ...              ...               ...\n",
       " 3543p000         354.25          354.5 ...                3              AnaK\n",
       " 3543p002         354.25          354.5 ...                3              AnaK\n",
       " 3543p005         354.25          354.5 ...                3              AnaK\n",
       " 3543p007         354.25          354.5 ...                3              AnaK\n",
       " 3543p010         354.25          354.5 ...                3              AnaK\n",
       " 3546m002          354.5         354.75 ...                3              AnaK\n",
       " 3546p000          354.5         354.75 ...                3              AnaK\n",
       " 3546p002          354.5         354.75 ...                3              AnaK\n",
       " 3546p005          354.5         354.75 ...                3              AnaK\n",
       " 3546p007          354.5         354.75 ...                3              AnaK"
      ]
     },
     "execution_count": 98,
     "metadata": {},
     "output_type": "execute_result"
    }
   ],
   "source": [
    "host_bricks_3"
   ]
  },
  {
   "cell_type": "code",
   "execution_count": 99,
   "metadata": {},
   "outputs": [
    {
     "data": {
      "text/html": [
       "&lt;Table length=71&gt;\n",
       "<table id=\"table5296135568\" class=\"table-striped table-bordered table-condensed\">\n",
       "<thead><tr><th>brickname</th><th>RA1</th><th>RA2</th><th>DEC1</th><th>DEC2</th><th>ra</th><th>dec</th><th>nexp_g</th><th>nexp_r</th><th>nexp_z</th><th>nexphist_g [6]</th><th>nexphist_r [6]</th><th>nexphist_z [6]</th><th>nobjs</th><th>npsf</th><th>nsimp</th><th>nexp</th><th>ndev</th><th>ncomp</th><th>psfsize_g</th><th>psfsize_r</th><th>psfsize_z</th><th>psfdepth_g</th><th>psfdepth_r</th><th>psfdepth_z</th><th>galdepth_g</th><th>galdepth_r</th><th>galdepth_z</th><th>ebv</th><th>trans_g</th><th>trans_r</th><th>trans_z</th><th>ext_g</th><th>ext_r</th><th>ext_z</th><th>wise_nobs [4]</th><th>trans_wise [4]</th><th>ext_w1</th><th>ext_w2</th><th>ext_w3</th><th>ext_w4</th><th>closest_host_idx</th><th>closest_host_name</th></tr></thead>\n",
       "<thead><tr><th>str8</th><th>float64</th><th>float64</th><th>float64</th><th>float64</th><th>float64</th><th>float64</th><th>int16</th><th>int16</th><th>int16</th><th>int32</th><th>int32</th><th>int32</th><th>int16</th><th>int16</th><th>int16</th><th>int16</th><th>int16</th><th>int16</th><th>float32</th><th>float32</th><th>float32</th><th>float32</th><th>float32</th><th>float32</th><th>float32</th><th>float32</th><th>float32</th><th>float32</th><th>float32</th><th>float32</th><th>float32</th><th>float32</th><th>float32</th><th>float32</th><th>int16</th><th>float32</th><th>float32</th><th>float32</th><th>float32</th><th>float32</th><th>int64</th><th>str11</th></tr></thead>\n",
       "<tr><td>1224p365</td><td>122.275862069</td><td>122.586206897</td><td>36.375</td><td>36.625</td><td>122.431034483</td><td>36.5</td><td>2</td><td>3</td><td>3</td><td>42560 .. 0</td><td>45472 .. 283558</td><td>23305 .. 0</td><td>2900</td><td>1556</td><td>929</td><td>285</td><td>123</td><td>7</td><td>1.86026</td><td>1.75698</td><td>1.55165</td><td>23.9837</td><td>23.595</td><td>23.0664</td><td>23.6696</td><td>23.1943</td><td>22.8189</td><td>0.0702986</td><td>0.812127</td><td>0.869203</td><td>0.924586</td><td>0.22594</td><td>0.152196</td><td>0.0851316</td><td>63 .. 14</td><td>0.988157 .. 0.999411</td><td>0.012935</td><td>0.00794375</td><td>0.0016942</td><td>0.000639701</td><td>9</td><td>StarTrek</td></tr>\n",
       "<tr><td>1225p360</td><td>122.363013699</td><td>122.671232877</td><td>35.875</td><td>36.125</td><td>122.517123288</td><td>36.0</td><td>2</td><td>3</td><td>2</td><td>31869 .. 0</td><td>30404 .. 0</td><td>72872 .. 0</td><td>3206</td><td>1583</td><td>1107</td><td>378</td><td>125</td><td>13</td><td>1.7805</td><td>1.68196</td><td>1.55851</td><td>24.0147</td><td>23.6513</td><td>22.9206</td><td>23.6397</td><td>23.2453</td><td>22.6794</td><td>0.0546906</td><td>0.85053</td><td>0.896681</td><td>0.940823</td><td>0.175776</td><td>0.118405</td><td>0.0662304</td><td>61 .. 12</td><td>0.990774 .. 0.999542</td><td>0.0100631</td><td>0.00618003</td><td>0.00131801</td><td>0.000497707</td><td>9</td><td>StarTrek</td></tr>\n",
       "<tr><td>1226p362</td><td>122.474226804</td><td>122.783505155</td><td>36.125</td><td>36.375</td><td>122.628865979</td><td>36.25</td><td>2</td><td>3</td><td>3</td><td>129334 .. 0</td><td>31498 .. 14093</td><td>21479 .. 49656</td><td>3030</td><td>1556</td><td>1005</td><td>347</td><td>114</td><td>8</td><td>1.76505</td><td>1.78277</td><td>1.567</td><td>23.9437</td><td>23.5719</td><td>23.1271</td><td>23.6305</td><td>23.1278</td><td>22.9187</td><td>0.0555938</td><td>0.848259</td><td>0.895067</td><td>0.939876</td><td>0.178679</td><td>0.120361</td><td>0.0673241</td><td>64 .. 14</td><td>0.990623 .. 0.999534</td><td>0.0102292</td><td>0.00628209</td><td>0.00133978</td><td>0.00050593</td><td>9</td><td>StarTrek</td></tr>\n",
       "<tr><td>1227p357</td><td>122.559726962</td><td>122.866894198</td><td>35.625</td><td>35.875</td><td>122.71331058</td><td>35.75</td><td>2</td><td>3</td><td>2</td><td>50999 .. 0</td><td>34653 .. 1878601</td><td>21625 .. 0</td><td>3312</td><td>1663</td><td>1171</td><td>352</td><td>115</td><td>11</td><td>1.81249</td><td>1.66327</td><td>1.59469</td><td>23.9595</td><td>23.6553</td><td>22.9347</td><td>23.6307</td><td>23.2481</td><td>22.6935</td><td>0.0515692</td><td>0.858425</td><td>0.902279</td><td>0.944104</td><td>0.165743</td><td>0.111647</td><td>0.0624503</td><td>61 .. 12</td><td>0.991299 .. 0.999568</td><td>0.00948869</td><td>0.00582733</td><td>0.00124285</td><td>0.000469285</td><td>9</td><td>StarTrek</td></tr>\n",
       "<tr><td>1227p365</td><td>122.586206897</td><td>122.896551724</td><td>36.375</td><td>36.625</td><td>122.74137931</td><td>36.5</td><td>2</td><td>3</td><td>3</td><td>26935 .. 0</td><td>33751 .. 259216</td><td>29058 .. 1138042</td><td>3493</td><td>1731</td><td>1130</td><td>457</td><td>163</td><td>12</td><td>1.83566</td><td>1.7585</td><td>1.4388</td><td>23.9219</td><td>23.485</td><td>23.2551</td><td>23.6154</td><td>23.1345</td><td>22.9846</td><td>0.0705067</td><td>0.811627</td><td>0.868843</td><td>0.924371</td><td>0.226609</td><td>0.152647</td><td>0.0853837</td><td>62 .. 12</td><td>0.988122 .. 0.999409</td><td>0.0129733</td><td>0.00796729</td><td>0.00169919</td><td>0.000641579</td><td>9</td><td>StarTrek</td></tr>\n",
       "<tr><td>1228p360</td><td>122.671232877</td><td>122.979452055</td><td>35.875</td><td>36.125</td><td>122.825342466</td><td>36.0</td><td>2</td><td>3</td><td>3</td><td>53518 .. 0</td><td>38155 .. 0</td><td>19895 .. 228851</td><td>3396</td><td>1671</td><td>1060</td><td>469</td><td>182</td><td>14</td><td>1.79508</td><td>1.70336</td><td>1.67675</td><td>23.9946</td><td>23.6433</td><td>23.0832</td><td>23.6387</td><td>23.2451</td><td>22.879</td><td>0.0509428</td><td>0.860019</td><td>0.903407</td><td>0.944764</td><td>0.16373</td><td>0.110291</td><td>0.0616917</td><td>63 .. 13</td><td>0.991404 .. 0.999573</td><td>0.00937347</td><td>0.00575655</td><td>0.00122769</td><td>0.000463587</td><td>9</td><td>StarTrek</td></tr>\n",
       "<tr><td>1228p367</td><td>122.698961938</td><td>123.010380623</td><td>36.625</td><td>36.875</td><td>122.85467128</td><td>36.75</td><td>2</td><td>3</td><td>3</td><td>55781 .. 0</td><td>57465 .. 13937</td><td>33026 .. 47841</td><td>3426</td><td>1594</td><td>1119</td><td>493</td><td>207</td><td>13</td><td>1.86479</td><td>1.58467</td><td>1.29879</td><td>23.8714</td><td>23.7082</td><td>23.2853</td><td>23.5548</td><td>23.2112</td><td>22.9651</td><td>0.0551433</td><td>0.849391</td><td>0.895872</td><td>0.940348</td><td>0.17723</td><td>0.119385</td><td>0.0667785</td><td>63 .. 13</td><td>0.990698 .. 0.999538</td><td>0.0101464</td><td>0.00623119</td><td>0.00132896</td><td>0.000501786</td><td>9</td><td>StarTrek</td></tr>\n",
       "<tr><td>1229p362</td><td>122.783505155</td><td>123.092783505</td><td>36.125</td><td>36.375</td><td>122.93814433</td><td>36.25</td><td>2</td><td>3</td><td>3</td><td>95213 .. 0</td><td>20543 .. 53185</td><td>13167 .. 99227</td><td>3464</td><td>1734</td><td>1176</td><td>385</td><td>163</td><td>6</td><td>1.78123</td><td>1.7001</td><td>1.56154</td><td>23.9934</td><td>23.6635</td><td>23.1584</td><td>23.6872</td><td>23.2539</td><td>22.9293</td><td>0.0662298</td><td>0.821968</td><td>0.876284</td><td>0.928792</td><td>0.212863</td><td>0.143388</td><td>0.0802042</td><td>64 .. 14</td><td>0.988839 .. 0.999445</td><td>0.0121863</td><td>0.007484</td><td>0.00159614</td><td>0.000602663</td><td>9</td><td>StarTrek</td></tr>\n",
       "<tr><td>1230p357</td><td>122.866894198</td><td>123.174061433</td><td>35.625</td><td>35.875</td><td>123.020477816</td><td>35.75</td><td>2</td><td>4</td><td>3</td><td>18058 .. 0</td><td>12020 .. 1564477</td><td>6935 .. 137940</td><td>3524</td><td>1839</td><td>1149</td><td>384</td><td>145</td><td>7</td><td>1.64836</td><td>1.50507</td><td>1.68928</td><td>24.0128</td><td>23.7053</td><td>23.0867</td><td>23.5556</td><td>23.253</td><td>22.8764</td><td>0.0521589</td><td>0.856928</td><td>0.901219</td><td>0.943483</td><td>0.167639</td><td>0.112924</td><td>0.0631644</td><td>62 .. 12</td><td>0.9912 .. 0.999563</td><td>0.00959719</td><td>0.00589396</td><td>0.00125704</td><td>0.000474658</td><td>9</td><td>StarTrek</td></tr>\n",
       "<tr><td>1230p365</td><td>122.896551724</td><td>123.206896552</td><td>36.375</td><td>36.625</td><td>123.051724138</td><td>36.5</td><td>2</td><td>3</td><td>3</td><td>34921 .. 0</td><td>49891 .. 202058</td><td>40392 .. 18978</td><td>3391</td><td>1697</td><td>1108</td><td>389</td><td>180</td><td>17</td><td>1.81487</td><td>1.58006</td><td>1.45099</td><td>23.9803</td><td>23.6814</td><td>23.2415</td><td>23.6334</td><td>23.2463</td><td>22.9791</td><td>0.0602552</td><td>0.836635</td><td>0.886786</td><td>0.935002</td><td>0.19366</td><td>0.130453</td><td>0.072969</td><td>62 .. 12</td><td>0.989841 .. 0.999495</td><td>0.0110869</td><td>0.00680886</td><td>0.00145214</td><td>0.000548339</td><td>9</td><td>StarTrek</td></tr>\n",
       "<tr><td>...</td><td>...</td><td>...</td><td>...</td><td>...</td><td>...</td><td>...</td><td>...</td><td>...</td><td>...</td><td>...</td><td>...</td><td>...</td><td>...</td><td>...</td><td>...</td><td>...</td><td>...</td><td>...</td><td>...</td><td>...</td><td>...</td><td>...</td><td>...</td><td>...</td><td>...</td><td>...</td><td>...</td><td>...</td><td>...</td><td>...</td><td>...</td><td>...</td><td>...</td><td>...</td><td>...</td><td>...</td><td>...</td><td>...</td><td>...</td><td>...</td><td>...</td><td>...</td></tr>\n",
       "<tr><td>1500p330</td><td>149.950413223</td><td>150.247933884</td><td>32.875</td><td>33.125</td><td>150.099173554</td><td>33.0</td><td>2</td><td>2</td><td>0</td><td>8429 .. 0</td><td>11057 .. 0</td><td>0 .. 0</td><td>2135</td><td>806</td><td>937</td><td>281</td><td>107</td><td>4</td><td>1.61282</td><td>1.67103</td><td>0.0</td><td>23.972</td><td>23.3274</td><td>0.0</td><td>23.4867</td><td>22.8916</td><td>0.0</td><td>0.0135978</td><td>0.960547</td><td>0.97325</td><td>0.984948</td><td>0.0437035</td><td>0.0294393</td><td>0.016467</td><td>81 .. 12</td><td>0.997698 .. 0.999886</td><td>0.00250198</td><td>0.00153658</td><td>0.000327701</td><td>0.000123742</td><td>8</td><td>MobyDick</td></tr>\n",
       "<tr><td>1501p320</td><td>150.0</td><td>150.294117647</td><td>31.875</td><td>32.125</td><td>150.147058824</td><td>32.0</td><td>1</td><td>2</td><td>0</td><td>817138 .. 0</td><td>126678 .. 0</td><td>0 .. 0</td><td>1871</td><td>606</td><td>713</td><td>348</td><td>195</td><td>9</td><td>1.59715</td><td>1.82434</td><td>0.0</td><td>23.5698</td><td>23.0968</td><td>0.0</td><td>23.1027</td><td>22.7598</td><td>0.0</td><td>0.0158326</td><td>0.954214</td><td>0.968922</td><td>0.982496</td><td>0.0508859</td><td>0.0342775</td><td>0.0191733</td><td>79 .. 14</td><td>0.99732 .. 0.999867</td><td>0.00291316</td><td>0.00178909</td><td>0.000381562</td><td>0.000144065</td><td>8</td><td>MobyDick</td></tr>\n",
       "<tr><td>1501p327</td><td>150.049423394</td><td>150.345963756</td><td>32.625</td><td>32.875</td><td>150.197693575</td><td>32.75</td><td>1</td><td>2</td><td>0</td><td>14069 .. 0</td><td>17709 .. 0</td><td>0 .. 0</td><td>2369</td><td>654</td><td>1078</td><td>441</td><td>187</td><td>9</td><td>1.57905</td><td>1.6857</td><td>0.0</td><td>23.912</td><td>23.3087</td><td>0.0</td><td>23.4589</td><td>22.8865</td><td>0.0</td><td>0.0159396</td><td>0.953911</td><td>0.968716</td><td>0.982379</td><td>0.0512298</td><td>0.0345092</td><td>0.0193028</td><td>81 .. 14</td><td>0.997302 .. 0.999866</td><td>0.00293289</td><td>0.00180115</td><td>0.000384151</td><td>0.000145036</td><td>8</td><td>MobyDick</td></tr>\n",
       "<tr><td>1502p317</td><td>150.09771987</td><td>150.390879479</td><td>31.625</td><td>31.875</td><td>150.244299674</td><td>31.75</td><td>1</td><td>2</td><td>0</td><td>1008256 .. 0</td><td>30965 .. 0</td><td>0 .. 0</td><td>1957</td><td>651</td><td>786</td><td>346</td><td>166</td><td>8</td><td>1.67877</td><td>1.85302</td><td>0.0</td><td>23.5511</td><td>23.0737</td><td>0.0</td><td>23.0599</td><td>22.7133</td><td>0.0</td><td>0.0188324</td><td>0.945778</td><td>0.963144</td><td>0.979214</td><td>0.0605272</td><td>0.0407721</td><td>0.022806</td><td>76 .. 12</td><td>0.996814 .. 0.999842</td><td>0.00346518</td><td>0.00212803</td><td>0.000453876</td><td>0.000171379</td><td>8</td><td>MobyDick</td></tr>\n",
       "<tr><td>1502p325</td><td>150.147783251</td><td>150.443349754</td><td>32.375</td><td>32.625</td><td>150.295566502</td><td>32.5</td><td>1</td><td>2</td><td>0</td><td>956718 .. 0</td><td>15754 .. 0</td><td>0 .. 0</td><td>1880</td><td>674</td><td>806</td><td>267</td><td>127</td><td>6</td><td>1.52222</td><td>1.6833</td><td>0.0</td><td>23.6337</td><td>23.2817</td><td>0.0</td><td>23.1023</td><td>22.8599</td><td>0.0</td><td>0.0150941</td><td>0.956302</td><td>0.97035</td><td>0.983305</td><td>0.0485126</td><td>0.0326788</td><td>0.018279</td><td>76 .. 12</td><td>0.997445 .. 0.999874</td><td>0.00277736</td><td>0.00170567</td><td>0.000363759</td><td>0.000137334</td><td>8</td><td>MobyDick</td></tr>\n",
       "<tr><td>1503p330</td><td>150.247933884</td><td>150.545454545</td><td>32.875</td><td>33.125</td><td>150.396694215</td><td>33.0</td><td>2</td><td>2</td><td>0</td><td>186484 .. 0</td><td>217187 .. 0</td><td>0 .. 0</td><td>2038</td><td>713</td><td>871</td><td>318</td><td>127</td><td>9</td><td>1.5774</td><td>1.64048</td><td>0.0</td><td>24.0061</td><td>23.3489</td><td>0.0</td><td>23.5088</td><td>22.9022</td><td>0.0</td><td>0.0138374</td><td>0.959866</td><td>0.972785</td><td>0.984685</td><td>0.0444734</td><td>0.029958</td><td>0.0167571</td><td>76 .. 13</td><td>0.997658 .. 0.999884</td><td>0.00254602</td><td>0.0015636</td><td>0.000333462</td><td>0.000125943</td><td>8</td><td>MobyDick</td></tr>\n",
       "<tr><td>1504p320</td><td>150.294117647</td><td>150.588235294</td><td>31.875</td><td>32.125</td><td>150.441176471</td><td>32.0</td><td>1</td><td>2</td><td>0</td><td>2966726 .. 0</td><td>79380 .. 0</td><td>0 .. 0</td><td>1600</td><td>562</td><td>661</td><td>254</td><td>115</td><td>8</td><td>1.57003</td><td>1.83944</td><td>0.0</td><td>23.5684</td><td>23.0907</td><td>0.0</td><td>23.0827</td><td>22.7662</td><td>0.0</td><td>0.0172721</td><td>0.950156</td><td>0.966145</td><td>0.98092</td><td>0.0555125</td><td>0.037394</td><td>0.0209165</td><td>79 .. 12</td><td>0.997077 .. 0.999855</td><td>0.00317807</td><td>0.00195174</td><td>0.000416261</td><td>0.000157204</td><td>8</td><td>MobyDick</td></tr>\n",
       "<tr><td>1504p327</td><td>150.345963756</td><td>150.642504119</td><td>32.625</td><td>32.875</td><td>150.494233937</td><td>32.75</td><td>2</td><td>2</td><td>0</td><td>17588 .. 0</td><td>17979 .. 0</td><td>0 .. 0</td><td>2430</td><td>847</td><td>1023</td><td>370</td><td>175</td><td>15</td><td>1.56812</td><td>1.65453</td><td>0.0</td><td>23.9856</td><td>23.3287</td><td>0.0</td><td>23.4944</td><td>22.8976</td><td>0.0</td><td>0.0163715</td><td>0.952693</td><td>0.967882</td><td>0.981905</td><td>0.0526181</td><td>0.0354443</td><td>0.0198259</td><td>76 .. 12</td><td>0.997229 .. 0.999863</td><td>0.00301238</td><td>0.00184996</td><td>0.000394574</td><td>0.000148984</td><td>8</td><td>MobyDick</td></tr>\n",
       "<tr><td>1505p325</td><td>150.443349754</td><td>150.738916256</td><td>32.375</td><td>32.625</td><td>150.591133005</td><td>32.5</td><td>1</td><td>2</td><td>0</td><td>24165 .. 0</td><td>12079 .. 0</td><td>0 .. 0</td><td>2029</td><td>696</td><td>932</td><td>288</td><td>108</td><td>5</td><td>1.60821</td><td>1.69823</td><td>0.0</td><td>23.5883</td><td>23.2075</td><td>0.0</td><td>23.1414</td><td>22.8526</td><td>0.0</td><td>0.0135578</td><td>0.960661</td><td>0.973327</td><td>0.984992</td><td>0.0435747</td><td>0.0293526</td><td>0.0164185</td><td>77 .. 14</td><td>0.997705 .. 0.999886</td><td>0.00249465</td><td>0.00153204</td><td>0.00032673</td><td>0.000123354</td><td>8</td><td>MobyDick</td></tr>\n",
       "<tr><td>1506p322</td><td>150.491803279</td><td>150.786885246</td><td>32.125</td><td>32.375</td><td>150.639344262</td><td>32.25</td><td>1</td><td>2</td><td>0</td><td>18221 .. 0</td><td>16476 .. 0</td><td>0 .. 0</td><td>1886</td><td>641</td><td>855</td><td>304</td><td>79</td><td>7</td><td>1.60851</td><td>1.82376</td><td>0.0</td><td>23.6397</td><td>23.1345</td><td>0.0</td><td>23.191</td><td>22.8138</td><td>0.0</td><td>0.0145107</td><td>0.957955</td><td>0.97148</td><td>0.983945</td><td>0.0466375</td><td>0.0314157</td><td>0.0175725</td><td>78 .. 13</td><td>0.997544 .. 0.999878</td><td>0.00266999</td><td>0.00163969</td><td>0.000349711</td><td>0.000132026</td><td>8</td><td>MobyDick</td></tr>\n",
       "</table>"
      ],
      "text/plain": [
       "<Table length=71>\n",
       "brickname      RA1           RA2      ... closest_host_idx closest_host_name\n",
       "   str8      float64       float64    ...      int64             str11      \n",
       "--------- ------------- ------------- ... ---------------- -----------------\n",
       " 1224p365 122.275862069 122.586206897 ...                9          StarTrek\n",
       " 1225p360 122.363013699 122.671232877 ...                9          StarTrek\n",
       " 1226p362 122.474226804 122.783505155 ...                9          StarTrek\n",
       " 1227p357 122.559726962 122.866894198 ...                9          StarTrek\n",
       " 1227p365 122.586206897 122.896551724 ...                9          StarTrek\n",
       " 1228p360 122.671232877 122.979452055 ...                9          StarTrek\n",
       " 1228p367 122.698961938 123.010380623 ...                9          StarTrek\n",
       " 1229p362 122.783505155 123.092783505 ...                9          StarTrek\n",
       " 1230p357 122.866894198 123.174061433 ...                9          StarTrek\n",
       " 1230p365 122.896551724 123.206896552 ...                9          StarTrek\n",
       "      ...           ...           ... ...              ...               ...\n",
       " 1500p330 149.950413223 150.247933884 ...                8          MobyDick\n",
       " 1501p320         150.0 150.294117647 ...                8          MobyDick\n",
       " 1501p327 150.049423394 150.345963756 ...                8          MobyDick\n",
       " 1502p317  150.09771987 150.390879479 ...                8          MobyDick\n",
       " 1502p325 150.147783251 150.443349754 ...                8          MobyDick\n",
       " 1503p330 150.247933884 150.545454545 ...                8          MobyDick\n",
       " 1504p320 150.294117647 150.588235294 ...                8          MobyDick\n",
       " 1504p327 150.345963756 150.642504119 ...                8          MobyDick\n",
       " 1505p325 150.443349754 150.738916256 ...                8          MobyDick\n",
       " 1506p322 150.491803279 150.786885246 ...                8          MobyDick"
      ]
     },
     "execution_count": 99,
     "metadata": {},
     "output_type": "execute_result"
    }
   ],
   "source": [
    "host_bricks_4"
   ]
  },
  {
   "cell_type": "code",
   "execution_count": 106,
   "metadata": {},
   "outputs": [
    {
     "data": {
      "text/plain": [
       "'http://portal.nersc.gov/project/cosmo/data/legacysurvey//dr3/tractor/000/tractor-0001m002.fits'"
      ]
     },
     "execution_count": 106,
     "metadata": {},
     "output_type": "execute_result"
    }
   ],
   "source": [
    "\n",
    "\n",
    "_NERSC_BASE = 'http://portal.nersc.gov/project/cosmo/data/legacysurvey/'\n",
    "def brickname_to_catalog_url(brickname, drnum, baseurl=_NERSC_BASE):\n",
    "    catalogurl = baseurl + '/dr' + str(drnum) + '/tractor'\n",
    "\n",
    "    dirnm = brickname[:3]\n",
    "\n",
    "    return catalogurl + '/' + dirnm + '/tractor-' + brickname + '.fits'\n",
    "\n",
    "brickname_to_catalog_url(bricksdr3[0]['brickname'], 3)"
   ]
  },
  {
   "cell_type": "code",
   "execution_count": null,
   "metadata": {
    "collapsed": true
   },
   "outputs": [],
   "source": []
  },
  {
   "cell_type": "markdown",
   "metadata": {},
   "source": [
    "# OLD "
   ]
  },
  {
   "cell_type": "code",
   "execution_count": null,
   "metadata": {
    "collapsed": true
   },
   "outputs": [],
   "source": []
  },
  {
   "cell_type": "code",
   "execution_count": null,
   "metadata": {
    "collapsed": true
   },
   "outputs": [],
   "source": []
  },
  {
   "cell_type": "code",
   "execution_count": null,
   "metadata": {
    "collapsed": true
   },
   "outputs": [],
   "source": []
  },
  {
   "cell_type": "code",
   "execution_count": null,
   "metadata": {},
   "outputs": [],
   "source": [
    "1/0  # prevents the below from running"
   ]
  },
  {
   "cell_type": "code",
   "execution_count": null,
   "metadata": {
    "collapsed": true
   },
   "outputs": [],
   "source": [
    "SDSS_SQL_URL = 'http://skyserver.sdss.org/dr13/SkyServerWS/SearchTools/SqlSearch'\n",
    "\n",
    "def in_sdss(sc):\n",
    "    res = requests.get(SDSS_SQL_URL, dict(cmd=\"select dbo.fInFootprintEq({0.ra.deg},{0.dec.deg},0.1)\".format(sc), \n",
    "                                          format='csv'))\n",
    "    return 'True' in res.text.split('\\n')"
   ]
  }
 ],
 "metadata": {
  "anaconda-cloud": {},
  "kernelspec": {
   "display_name": "Python [conda env:saga]",
   "language": "python",
   "name": "conda-env-saga-py"
  },
  "language_info": {
   "codemirror_mode": {
    "name": "ipython",
    "version": 2
   },
   "file_extension": ".py",
   "mimetype": "text/x-python",
   "name": "python",
   "nbconvert_exporter": "python",
   "pygments_lexer": "ipython2",
   "version": "2.7.12"
  }
 },
 "nbformat": 4,
 "nbformat_minor": 1
}
