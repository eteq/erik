{
 "cells": [
  {
   "cell_type": "code",
   "execution_count": 1,
   "metadata": {
    "collapsed": true
   },
   "outputs": [],
   "source": [
    "# This changes the current directory to the base saga directory - make sure to run this first!\n",
    "# This is necessary to be able to import the py files and use the right directories,\n",
    "# while keeping all the notebooks in their own directory.\n",
    "import os\n",
    "import sys\n",
    "import collections\n",
    "\n",
    "if 'saga_base_dir' not in locals():\n",
    "    saga_base_dir = os.path.abspath('..')\n",
    "if saga_base_dir not in sys.path:\n",
    "    os.chdir(saga_base_dir)\n",
    "    \n",
    "import targeting"
   ]
  },
  {
   "cell_type": "code",
   "execution_count": 2,
   "metadata": {
    "collapsed": true
   },
   "outputs": [],
   "source": [
    "from __future__ import print_function, division\n",
    "\n",
    "import numpy as np\n",
    "\n",
    "from astropy import units as u\n",
    "from astropy import table\n",
    "from astropy.coordinates import SkyCoord\n",
    "from astropy.visualization import hist as ahist"
   ]
  },
  {
   "cell_type": "code",
   "execution_count": 3,
   "metadata": {
    "collapsed": true
   },
   "outputs": [],
   "source": [
    "%matplotlib inline\n",
    "from matplotlib import pyplot as plt\n",
    "from matplotlib import style\n",
    "from mpl_toolkits.mplot3d import Axes3D\n",
    "\n",
    "plt.rcParams['image.cmap'] = 'viridis'\n",
    "plt.rcParams['image.origin'] = 'lower'\n",
    "plt.rcParams['axes.prop_cycle'] = style.library['seaborn-deep']['axes.prop_cycle']\n",
    "plt.rcParams['figure.figsize'] = (14, 8)\n",
    "plt.rcParams['axes.titlesize'] =  plt.rcParams['axes.labelsize'] = 16\n",
    "plt.rcParams['xtick.labelsize'] =  plt.rcParams['ytick.labelsize'] = 14"
   ]
  },
  {
   "cell_type": "markdown",
   "metadata": {},
   "source": [
    "# Load the spectroscopic data"
   ]
  },
  {
   "cell_type": "code",
   "execution_count": 4,
   "metadata": {
    "collapsed": false
   },
   "outputs": [
    {
     "data": {
      "text/html": [
       "&lt;Table masked=True length=95475&gt;\n",
       "<table id=\"table4611460880\" class=\"table-striped table-bordered table-condensed\">\n",
       "<thead><tr><th>RA</th><th>DEC</th><th>MASKNAME</th><th>specobjid</th><th>SPEC_Z</th><th>ZQUALITY</th><th>TELNAME</th><th>SPEC_REPEAT</th></tr></thead>\n",
       "<thead><tr><th>float64</th><th>float64</th><th>str80</th><th>float64</th><th>float64</th><th>int64</th><th>str6</th><th>str6</th></tr></thead>\n",
       "<tr><td>136.045125</td><td>25.1698611111</td><td>/Spectra/Final/WIYN/zspec.Beowulf_1.fits.gz</td><td>98.0</td><td>0.0907368659973</td><td>4</td><td>WIYN</td><td>WIYN</td></tr>\n",
       "<tr><td>136.23275</td><td>25.6625555556</td><td>/Spectra/Final/WIYN/zspec.Beowulf_1.fits.gz</td><td>88.0</td><td>0.0832283496857</td><td>4</td><td>WIYN</td><td>WIYN</td></tr>\n",
       "<tr><td>136.503833333</td><td>25.4698055556</td><td>/Spectra/Final/WIYN/zspec.Beowulf_1.fits.gz</td><td>84.0</td><td>0.0095317363739</td><td>4</td><td>WIYN</td><td>WIYN</td></tr>\n",
       "<tr><td>136.879625</td><td>25.1723055556</td><td>/Spectra/Final/WIYN/zspec.Beowulf_1.fits.gz</td><td>83.0</td><td>0.084725856781</td><td>4</td><td>WIYN</td><td>WIYN</td></tr>\n",
       "<tr><td>136.182541667</td><td>25.3763611111</td><td>/Spectra/Final/WIYN/zspec.Beowulf_1.fits.gz</td><td>82.0</td><td>0.183461755514</td><td>3</td><td>WIYN</td><td>WIYN</td></tr>\n",
       "<tr><td>136.421875</td><td>25.5417777778</td><td>/Spectra/Final/WIYN/zspec.Beowulf_1.fits.gz</td><td>81.0</td><td>0.0095317363739</td><td>4</td><td>WIYN</td><td>WIYN</td></tr>\n",
       "<tr><td>136.466416667</td><td>25.3593055556</td><td>/Spectra/Final/WIYN/zspec.Beowulf_1.fits.gz</td><td>80.0</td><td>0.0862255096436</td><td>4</td><td>WIYN</td><td>WIYN</td></tr>\n",
       "<tr><td>136.541083333</td><td>25.4299722222</td><td>/Spectra/Final/WIYN/zspec.Beowulf_1.fits.gz</td><td>78.0</td><td>0.0088347196579</td><td>4</td><td>WIYN</td><td>WIYN</td></tr>\n",
       "<tr><td>136.252791667</td><td>25.2895</td><td>/Spectra/Final/WIYN/zspec.Beowulf_1.fits.gz</td><td>73.0</td><td>0.0533706918359</td><td>4</td><td>WIYN</td><td>WIYN</td></tr>\n",
       "<tr><td>136.34175</td><td>25.0140555556</td><td>/Spectra/Final/WIYN/zspec.Beowulf_1.fits.gz</td><td>71.0</td><td>0.0200465917587</td><td>4</td><td>WIYN</td><td>WIYN</td></tr>\n",
       "<tr><td>...</td><td>...</td><td>...</td><td>...</td><td>...</td><td>...</td><td>...</td><td>...</td></tr>\n",
       "<tr><td>248.496207523</td><td>19.8827241109</td><td>/Spectra/Final/AAT/Odyssey_1_MG.mz</td><td>390.0</td><td>0.67179</td><td>1</td><td>AAT</td><td>AAT</td></tr>\n",
       "<tr><td>248.449740646</td><td>19.8949854077</td><td>/Spectra/Final/AAT/Odyssey_1_MG.mz</td><td>391.0</td><td>-0.00951</td><td>1</td><td>AAT</td><td>AAT</td></tr>\n",
       "<tr><td>248.301344577</td><td>19.8489196009</td><td>/Spectra/Final/AAT/Odyssey_1_MG.mz</td><td>392.0</td><td>0.3248</td><td>4</td><td>AAT</td><td>AAT</td></tr>\n",
       "<tr><td>248.854764511</td><td>19.9548594973</td><td>/Spectra/Final/AAT/Odyssey_1_MG.mz</td><td>393.0</td><td>-2e-05</td><td>4</td><td>AAT</td><td>AAT</td></tr>\n",
       "<tr><td>248.606387307</td><td>19.859290137</td><td>/Spectra/Final/AAT/Odyssey_1_MG.mz</td><td>394.0</td><td>0.17732</td><td>4</td><td>AAT</td><td>AAT</td></tr>\n",
       "<tr><td>249.010952806</td><td>19.903465183</td><td>/Spectra/Final/AAT/Odyssey_1_MG.mz</td><td>395.0</td><td>0.17783</td><td>4</td><td>AAT</td><td>AAT</td></tr>\n",
       "<tr><td>248.61354928</td><td>19.8483466431</td><td>/Spectra/Final/AAT/Odyssey_1_MG.mz</td><td>396.0</td><td>0.17723</td><td>1</td><td>AAT</td><td>AAT</td></tr>\n",
       "<tr><td>248.493686509</td><td>19.8298401064</td><td>/Spectra/Final/AAT/Odyssey_1_MG.mz</td><td>397.0</td><td>0.19361</td><td>4</td><td>AAT</td><td>AAT</td></tr>\n",
       "<tr><td>248.663396608</td><td>19.8139118797</td><td>/Spectra/Final/AAT/Odyssey_1_MG.mz</td><td>398.0</td><td>0.06117</td><td>1</td><td>AAT</td><td>AAT</td></tr>\n",
       "<tr><td>248.444297547</td><td>19.8233083875</td><td>/Spectra/Final/AAT/Odyssey_1_MG.mz</td><td>399.0</td><td>0.17855</td><td>2</td><td>AAT</td><td>AAT</td></tr>\n",
       "</table>"
      ],
      "text/plain": [
       "<Table masked=True length=95475>\n",
       "      RA           DEC      ... TELNAME SPEC_REPEAT\n",
       "   float64       float64    ...   str6      str6   \n",
       "------------- ------------- ... ------- -----------\n",
       "   136.045125 25.1698611111 ...    WIYN        WIYN\n",
       "    136.23275 25.6625555556 ...    WIYN        WIYN\n",
       "136.503833333 25.4698055556 ...    WIYN        WIYN\n",
       "   136.879625 25.1723055556 ...    WIYN        WIYN\n",
       "136.182541667 25.3763611111 ...    WIYN        WIYN\n",
       "   136.421875 25.5417777778 ...    WIYN        WIYN\n",
       "136.466416667 25.3593055556 ...    WIYN        WIYN\n",
       "136.541083333 25.4299722222 ...    WIYN        WIYN\n",
       "136.252791667       25.2895 ...    WIYN        WIYN\n",
       "    136.34175 25.0140555556 ...    WIYN        WIYN\n",
       "          ...           ... ...     ...         ...\n",
       "248.496207523 19.8827241109 ...     AAT         AAT\n",
       "248.449740646 19.8949854077 ...     AAT         AAT\n",
       "248.301344577 19.8489196009 ...     AAT         AAT\n",
       "248.854764511 19.9548594973 ...     AAT         AAT\n",
       "248.606387307  19.859290137 ...     AAT         AAT\n",
       "249.010952806  19.903465183 ...     AAT         AAT\n",
       " 248.61354928 19.8483466431 ...     AAT         AAT\n",
       "248.493686509 19.8298401064 ...     AAT         AAT\n",
       "248.663396608 19.8139118797 ...     AAT         AAT\n",
       "248.444297547 19.8233083875 ...     AAT         AAT"
      ]
     },
     "execution_count": 4,
     "metadata": {},
     "output_type": "execute_result"
    }
   ],
   "source": [
    "spec_data_raw = table.Table.read('SAGADropbox/data/saga_spectra_raw.fits.gz')\n",
    "spec_data_raw"
   ]
  },
  {
   "cell_type": "markdown",
   "metadata": {},
   "source": [
    "Hmm, the specobjid's are floats, but they should be integers to avoid possible rounding errors during comparison.  Lets fix that:"
   ]
  },
  {
   "cell_type": "code",
   "execution_count": 5,
   "metadata": {
    "collapsed": false
   },
   "outputs": [
    {
     "name": "stderr",
     "output_type": "stream",
     "text": [
      "/Users/erik/miniconda3/envs/anaconda2/lib/python2.7/site-packages/astropy/table/column.py:1095: MaskedArrayFutureWarning: setting an item on a masked array which has a shared mask will not copy the mask and also change the original mask array in the future.\n",
      "Check the NumPy 1.11 release notes for more information.\n",
      "  ma.MaskedArray.__setitem__(self, index, value)\n"
     ]
    },
    {
     "data": {
      "text/html": [
       "&lt;Table masked=True length=95475&gt;\n",
       "<table id=\"table4611459216\" class=\"table-striped table-bordered table-condensed\">\n",
       "<thead><tr><th>RA</th><th>DEC</th><th>MASKNAME</th><th>specobjid</th><th>SPEC_Z</th><th>ZQUALITY</th><th>TELNAME</th><th>SPEC_REPEAT</th></tr></thead>\n",
       "<thead><tr><th>float64</th><th>float64</th><th>str80</th><th>int64</th><th>float64</th><th>int64</th><th>str6</th><th>str6</th></tr></thead>\n",
       "<tr><td>136.045125</td><td>25.1698611111</td><td>/Spectra/Final/WIYN/zspec.Beowulf_1.fits.gz</td><td>98</td><td>0.0907368659973</td><td>4</td><td>WIYN</td><td>WIYN</td></tr>\n",
       "<tr><td>136.23275</td><td>25.6625555556</td><td>/Spectra/Final/WIYN/zspec.Beowulf_1.fits.gz</td><td>88</td><td>0.0832283496857</td><td>4</td><td>WIYN</td><td>WIYN</td></tr>\n",
       "<tr><td>136.503833333</td><td>25.4698055556</td><td>/Spectra/Final/WIYN/zspec.Beowulf_1.fits.gz</td><td>84</td><td>0.0095317363739</td><td>4</td><td>WIYN</td><td>WIYN</td></tr>\n",
       "<tr><td>136.879625</td><td>25.1723055556</td><td>/Spectra/Final/WIYN/zspec.Beowulf_1.fits.gz</td><td>83</td><td>0.084725856781</td><td>4</td><td>WIYN</td><td>WIYN</td></tr>\n",
       "<tr><td>136.182541667</td><td>25.3763611111</td><td>/Spectra/Final/WIYN/zspec.Beowulf_1.fits.gz</td><td>82</td><td>0.183461755514</td><td>3</td><td>WIYN</td><td>WIYN</td></tr>\n",
       "<tr><td>136.421875</td><td>25.5417777778</td><td>/Spectra/Final/WIYN/zspec.Beowulf_1.fits.gz</td><td>81</td><td>0.0095317363739</td><td>4</td><td>WIYN</td><td>WIYN</td></tr>\n",
       "<tr><td>136.466416667</td><td>25.3593055556</td><td>/Spectra/Final/WIYN/zspec.Beowulf_1.fits.gz</td><td>80</td><td>0.0862255096436</td><td>4</td><td>WIYN</td><td>WIYN</td></tr>\n",
       "<tr><td>136.541083333</td><td>25.4299722222</td><td>/Spectra/Final/WIYN/zspec.Beowulf_1.fits.gz</td><td>78</td><td>0.0088347196579</td><td>4</td><td>WIYN</td><td>WIYN</td></tr>\n",
       "<tr><td>136.252791667</td><td>25.2895</td><td>/Spectra/Final/WIYN/zspec.Beowulf_1.fits.gz</td><td>73</td><td>0.0533706918359</td><td>4</td><td>WIYN</td><td>WIYN</td></tr>\n",
       "<tr><td>136.34175</td><td>25.0140555556</td><td>/Spectra/Final/WIYN/zspec.Beowulf_1.fits.gz</td><td>71</td><td>0.0200465917587</td><td>4</td><td>WIYN</td><td>WIYN</td></tr>\n",
       "<tr><td>...</td><td>...</td><td>...</td><td>...</td><td>...</td><td>...</td><td>...</td><td>...</td></tr>\n",
       "<tr><td>248.496207523</td><td>19.8827241109</td><td>/Spectra/Final/AAT/Odyssey_1_MG.mz</td><td>390</td><td>0.67179</td><td>1</td><td>AAT</td><td>AAT</td></tr>\n",
       "<tr><td>248.449740646</td><td>19.8949854077</td><td>/Spectra/Final/AAT/Odyssey_1_MG.mz</td><td>391</td><td>-0.00951</td><td>1</td><td>AAT</td><td>AAT</td></tr>\n",
       "<tr><td>248.301344577</td><td>19.8489196009</td><td>/Spectra/Final/AAT/Odyssey_1_MG.mz</td><td>392</td><td>0.3248</td><td>4</td><td>AAT</td><td>AAT</td></tr>\n",
       "<tr><td>248.854764511</td><td>19.9548594973</td><td>/Spectra/Final/AAT/Odyssey_1_MG.mz</td><td>393</td><td>-2e-05</td><td>4</td><td>AAT</td><td>AAT</td></tr>\n",
       "<tr><td>248.606387307</td><td>19.859290137</td><td>/Spectra/Final/AAT/Odyssey_1_MG.mz</td><td>394</td><td>0.17732</td><td>4</td><td>AAT</td><td>AAT</td></tr>\n",
       "<tr><td>249.010952806</td><td>19.903465183</td><td>/Spectra/Final/AAT/Odyssey_1_MG.mz</td><td>395</td><td>0.17783</td><td>4</td><td>AAT</td><td>AAT</td></tr>\n",
       "<tr><td>248.61354928</td><td>19.8483466431</td><td>/Spectra/Final/AAT/Odyssey_1_MG.mz</td><td>396</td><td>0.17723</td><td>1</td><td>AAT</td><td>AAT</td></tr>\n",
       "<tr><td>248.493686509</td><td>19.8298401064</td><td>/Spectra/Final/AAT/Odyssey_1_MG.mz</td><td>397</td><td>0.19361</td><td>4</td><td>AAT</td><td>AAT</td></tr>\n",
       "<tr><td>248.663396608</td><td>19.8139118797</td><td>/Spectra/Final/AAT/Odyssey_1_MG.mz</td><td>398</td><td>0.06117</td><td>1</td><td>AAT</td><td>AAT</td></tr>\n",
       "<tr><td>248.444297547</td><td>19.8233083875</td><td>/Spectra/Final/AAT/Odyssey_1_MG.mz</td><td>399</td><td>0.17855</td><td>2</td><td>AAT</td><td>AAT</td></tr>\n",
       "</table>"
      ],
      "text/plain": [
       "<Table masked=True length=95475>\n",
       "      RA           DEC      ... TELNAME SPEC_REPEAT\n",
       "   float64       float64    ...   str6      str6   \n",
       "------------- ------------- ... ------- -----------\n",
       "   136.045125 25.1698611111 ...    WIYN        WIYN\n",
       "    136.23275 25.6625555556 ...    WIYN        WIYN\n",
       "136.503833333 25.4698055556 ...    WIYN        WIYN\n",
       "   136.879625 25.1723055556 ...    WIYN        WIYN\n",
       "136.182541667 25.3763611111 ...    WIYN        WIYN\n",
       "   136.421875 25.5417777778 ...    WIYN        WIYN\n",
       "136.466416667 25.3593055556 ...    WIYN        WIYN\n",
       "136.541083333 25.4299722222 ...    WIYN        WIYN\n",
       "136.252791667       25.2895 ...    WIYN        WIYN\n",
       "    136.34175 25.0140555556 ...    WIYN        WIYN\n",
       "          ...           ... ...     ...         ...\n",
       "248.496207523 19.8827241109 ...     AAT         AAT\n",
       "248.449740646 19.8949854077 ...     AAT         AAT\n",
       "248.301344577 19.8489196009 ...     AAT         AAT\n",
       "248.854764511 19.9548594973 ...     AAT         AAT\n",
       "248.606387307  19.859290137 ...     AAT         AAT\n",
       "249.010952806  19.903465183 ...     AAT         AAT\n",
       " 248.61354928 19.8483466431 ...     AAT         AAT\n",
       "248.493686509 19.8298401064 ...     AAT         AAT\n",
       "248.663396608 19.8139118797 ...     AAT         AAT\n",
       "248.444297547 19.8233083875 ...     AAT         AAT"
      ]
     },
     "execution_count": 5,
     "metadata": {},
     "output_type": "execute_result"
    }
   ],
   "source": [
    "# Just setting the dtype does *not* do the conversion of the values. It instead tells numpy to \n",
    "# re-interpret the same set of bits  as thought they were ints.\n",
    "# So we do the first and third line below to update the values - `astype` *does* do the conversion\n",
    "\n",
    "spec_data = spec_data_raw.copy()\n",
    "spec_data['specobjid'].dtype = int\n",
    "spec_data['specobjid'] = spec_data_raw['specobjid'].astype(int)\n",
    "\n",
    "spec_data"
   ]
  },
  {
   "cell_type": "markdown",
   "metadata": {},
   "source": [
    "# Find matches"
   ]
  },
  {
   "cell_type": "markdown",
   "metadata": {},
   "source": [
    "First we see if we can match on spectroscopic ID's"
   ]
  },
  {
   "cell_type": "code",
   "execution_count": 6,
   "metadata": {
    "collapsed": false
   },
   "outputs": [
    {
     "data": {
      "text/plain": [
       "(428, 95475)"
      ]
     },
     "execution_count": 6,
     "metadata": {},
     "output_type": "execute_result"
    }
   ],
   "source": [
    "sid = spec_data['specobjid']\n",
    "len(np.unique(sid)), len(sid)"
   ]
  },
  {
   "cell_type": "markdown",
   "metadata": {},
   "source": [
    "Hmm... far too few specobjids.  Probably whatever converted to a float above also led to some mis-casting of the ID's.  So we'll fall back on doing matching based on sky coordinates."
   ]
  },
  {
   "cell_type": "code",
   "execution_count": 7,
   "metadata": {
    "collapsed": true
   },
   "outputs": [],
   "source": [
    "scs = SkyCoord(spec_data['RA'], spec_data['DEC'], unit=u.deg)"
   ]
  },
  {
   "cell_type": "markdown",
   "metadata": {},
   "source": [
    "This identifies all pairs if coordinates that are within 5\" of each other:"
   ]
  },
  {
   "cell_type": "code",
   "execution_count": 8,
   "metadata": {
    "collapsed": false
   },
   "outputs": [],
   "source": [
    "idx1, idx2, sep2d, _ = scs.search_around_sky(scs, 5*u.arcsec)"
   ]
  },
  {
   "cell_type": "markdown",
   "metadata": {},
   "source": [
    "Because we matched `scs` to itself, this list also inclues \"self-matches\" where the pairs are an object and itself. But we want these to make sure we get the single-object \"groups\""
   ]
  },
  {
   "cell_type": "markdown",
   "metadata": {},
   "source": [
    "## Are they really groups? "
   ]
  },
  {
   "cell_type": "code",
   "execution_count": 9,
   "metadata": {
    "collapsed": false
   },
   "outputs": [
    {
     "data": {
      "image/png": "[encoded data removed]",
      "text/plain": [
       "<matplotlib.figure.Figure at 0x117c0e9d0>"
      ]
     },
     "metadata": {},
     "output_type": "display_data"
    }
   ],
   "source": [
    "fig, (ax1, ax2) = plt.subplots(1, 2)\n",
    "ax1.hist(sep2d.to(u.arcsec).value, bins=100, range=(0, 5), histtype='step', log=True)\n",
    "plt.xlim(0, 5)\n",
    "ax2.hist(sep2d.to(u.arcsec).value, bins=100, range=(0, .4), histtype='step', log=True)\n",
    "plt.xlim(0, .4)\n",
    "plt.tight_layout()"
   ]
  },
  {
   "cell_type": "markdown",
   "metadata": {},
   "source": [
    "Lets have a quick look at the things that are between $.1\"$ and $.2\"$ to see if they are matches or shreds"
   ]
  },
  {
   "cell_type": "code",
   "execution_count": 10,
   "metadata": {
    "collapsed": false,
    "scrolled": true
   },
   "outputs": [
    {
     "name": "stdout",
     "output_type": "stream",
     "text": [
      "name ra dec\n",
      "0 248.20029258 19.552103043\n",
      "1 354.329650879 0.538355529\n",
      "2 335.708770752 -3.736660957\n",
      "3 354.114776611 0.458099961\n",
      "4 221.926 -0.160820007324\n",
      "5 247.73454666 20.10562706\n",
      "6 335.72052002 -3.257227659\n",
      "7 247.867271752 20.0116969105\n",
      "8 353.671569824 0.321311086\n",
      "9 353.780303955 0.016202778\n",
      "10 179.798904419 -1.069113851\n",
      "11 353.68601 0.4252313\n",
      "12 248.244736347 20.215039632\n",
      "13 335.911193848 -3.733205318\n",
      "14 247.867615526 20.1481754573\n",
      "15 354.31930542 0.336699992\n",
      "16 354.028501515 0.529156983\n",
      "17 222.122238159 -0.147338882\n",
      "18 335.600189209 -3.533974886\n",
      "19 335.676147827 -3.41305228981\n",
      "20 39.2811842933 -0.996488197292\n",
      "21 354.262695312 0.472708315\n",
      "22 248.428312025 19.4795910062\n",
      "23 335.900403508 -3.74021119083\n",
      "24 354.02309 0.38311279\n",
      "name ra dec\n",
      "0 248.200274822 19.5521274631\n",
      "1 354.32968 0.53835535\n",
      "2 335.708806422 -3.7366588525\n",
      "3 354.11481 0.45810078\n",
      "4 221.926034619 -0.160829253093\n",
      "5 247.734583333 20.1056388889\n",
      "6 335.720552057 -3.25720776954\n",
      "7 247.86729813 20.01171875\n",
      "8 353.671606257 0.321314731509\n",
      "9 353.780353646 0.0162147056022\n",
      "10 179.79887 -1.0691100359\n",
      "11 353.685974121 0.425230533\n",
      "12 248.24469567 20.215051651\n",
      "13 335.911232411 -3.73322110573\n",
      "14 247.86764145 20.148195267\n",
      "15 354.319335044 0.336727296198\n",
      "16 354.0284729 0.529155552\n",
      "17 222.122272664 -0.147364744908\n",
      "18 335.60023092 -3.53394638459\n",
      "19 335.676116943 -3.413074732\n",
      "20 39.28115844 -0.996474981\n",
      "21 354.262726814 0.472690180983\n",
      "22 248.42834472 19.479570389\n",
      "23 335.900360107 -3.74021101\n",
      "24 354.023058568 0.383136877604\n"
     ]
    }
   ],
   "source": [
    "msk = (.1*u.arcsec<sep2d)&(sep2d<.2*u.arcsec)\n",
    "random25 = np.random.permutation(np.sum(msk))[:25]\n",
    "\n",
    "scs1 = scs[idx1[msk][random25]]\n",
    "scs2 = scs[idx2[msk][random25]]\n",
    "\n",
    "print(targeting.sampled_imagelist(scs1, None, n=len(scs1)))\n",
    "print(targeting.sampled_imagelist(scs2, None, n=len(scs2)))"
   ]
  },
  {
   "cell_type": "markdown",
   "metadata": {},
   "source": [
    "Inspection of these reveals them to be the same objects. Most be difference between different DR's or similar.  So we define matches as simply anything within $.4\"$"
   ]
  },
  {
   "cell_type": "code",
   "execution_count": 11,
   "metadata": {
    "collapsed": false
   },
   "outputs": [
    {
     "data": {
      "text/plain": [
       "(111123, 111123, 95475, 91748)"
      ]
     },
     "execution_count": 11,
     "metadata": {},
     "output_type": "execute_result"
    }
   ],
   "source": [
    "grpdct = {}\n",
    "grpi = 0\n",
    "for i1, i2 in zip(idx1, idx2):\n",
    "    if i1 in grpdct:\n",
    "        if i2 in grpdct:\n",
    "            # combine the two groups by assigning grp2 items to grp1\n",
    "            \n",
    "            # this block is by far the slowest part so if the data size grows it should be optimized\n",
    "            grp1 = grpdct[i1]\n",
    "            grp2 = grpdct[i2]\n",
    "            if grp1 != grp2:\n",
    "                to_set_to_1 = [i for i, grp in grpdct.iteritems() if grp==grp2]\n",
    "                for i in to_set_to_1:\n",
    "                    grpdct[i] = grp1\n",
    "        else:\n",
    "            #add i2 to the group i1 is already in\n",
    "            grpdct[i2] = grpdct[i1]\n",
    "    else:\n",
    "        if i2 in grpdct:\n",
    "            #add i1 to the group i2 is already in\n",
    "            grpdct[i2] = grpdct[i1]\n",
    "        else:\n",
    "            # add them both to a new group\n",
    "            grpdct[i1] = grpdct[i2] = grpi\n",
    "            grpi += 1\n",
    "            \n",
    "len(idx1), len(idx2), len(np.unique(grpdct.keys())), len(np.unique(grpdct.values()))"
   ]
  },
  {
   "cell_type": "markdown",
   "metadata": {},
   "source": [
    "# Now convert the lists of pairs into groups "
   ]
  },
  {
   "cell_type": "code",
   "execution_count": 12,
   "metadata": {
    "collapsed": false
   },
   "outputs": [],
   "source": [
    "grpnum_to_group_members = collections.defaultdict(list)\n",
    "for k, v in grpdct.iteritems():\n",
    "    grpnum_to_group_members[v].append(k)\n",
    "    \n",
    "# convert the members into arrays\n",
    "grpnum_to_group_members = {k:np.array(v) for k, v in grpnum_to_group_members.iteritems()}"
   ]
  },
  {
   "cell_type": "code",
   "execution_count": 13,
   "metadata": {
    "collapsed": false
   },
   "outputs": [
    {
     "data": {
      "text/plain": [
       "{1: 88822,\n",
       " 2: 2460,\n",
       " 3: 293,\n",
       " 4: 79,\n",
       " 5: 19,\n",
       " 6: 6,\n",
       " 7: 5,\n",
       " 8: 1,\n",
       " 9: 2,\n",
       " 10: 3,\n",
       " 13: 1,\n",
       " 34: 1,\n",
       " 54: 1,\n",
       " 64: 1,\n",
       " 72: 1,\n",
       " 79: 1}"
      ]
     },
     "execution_count": 13,
     "metadata": {},
     "output_type": "execute_result"
    }
   ],
   "source": [
    "# this is the count *before* the IMACS fix:\n",
    "{1: 88822,\n",
    " 2: 2460,\n",
    " 3: 293,\n",
    " 4: 79,\n",
    " 5: 19,\n",
    " 6: 6,\n",
    " 7: 5,\n",
    " 8: 1,\n",
    " 9: 2,\n",
    " 10: 3,\n",
    " 13: 1,\n",
    " 34: 1,\n",
    " 54: 1,\n",
    " 64: 1,\n",
    " 72: 1,\n",
    " 79: 1}"
   ]
  },
  {
   "cell_type": "code",
   "execution_count": 14,
   "metadata": {
    "collapsed": false
   },
   "outputs": [
    {
     "data": {
      "text/plain": [
       "{1: 88774,\n",
       " 2: 2508,\n",
       " 3: 341,\n",
       " 4: 87,\n",
       " 5: 19,\n",
       " 6: 6,\n",
       " 7: 5,\n",
       " 8: 1,\n",
       " 9: 2,\n",
       " 10: 3,\n",
       " 13: 1,\n",
       " 79: 1}"
      ]
     },
     "execution_count": 14,
     "metadata": {},
     "output_type": "execute_result"
    }
   ],
   "source": [
    "# this counts how many have a certain number of elements in their group\n",
    "counts = np.bincount([len(arr) for arr in grpnum_to_group_members.values()])\n",
    "{i:c  for i, c in enumerate(counts) if c != 0}"
   ]
  },
  {
   "cell_type": "markdown",
   "metadata": {},
   "source": [
    "79 seems like a lot... What's the deal with the big ones?"
   ]
  },
  {
   "cell_type": "code",
   "execution_count": 29,
   "metadata": {
    "collapsed": false
   },
   "outputs": [
    {
     "data": {
      "text/plain": [
       "[Groupnum(nobjs=6, grpnum=704),\n",
       " Groupnum(nobjs=6, grpnum=705),\n",
       " Groupnum(nobjs=6, grpnum=75752),\n",
       " Groupnum(nobjs=6, grpnum=76358),\n",
       " Groupnum(nobjs=6, grpnum=78537),\n",
       " Groupnum(nobjs=6, grpnum=82401),\n",
       " Groupnum(nobjs=7, grpnum=76510),\n",
       " Groupnum(nobjs=7, grpnum=78507),\n",
       " Groupnum(nobjs=7, grpnum=78515),\n",
       " Groupnum(nobjs=7, grpnum=78570),\n",
       " Groupnum(nobjs=7, grpnum=78638),\n",
       " Groupnum(nobjs=8, grpnum=75614),\n",
       " Groupnum(nobjs=9, grpnum=75656),\n",
       " Groupnum(nobjs=9, grpnum=75658),\n",
       " Groupnum(nobjs=10, grpnum=75597),\n",
       " Groupnum(nobjs=10, grpnum=75619),\n",
       " Groupnum(nobjs=10, grpnum=75640),\n",
       " Groupnum(nobjs=13, grpnum=75578),\n",
       " Groupnum(nobjs=79, grpnum=1643)]"
      ]
     },
     "execution_count": 29,
     "metadata": {},
     "output_type": "execute_result"
    }
   ],
   "source": [
    "Groupnum = collections.namedtuple('Groupnum', ['nobjs', 'grpnum'])\n",
    "big_grps = sorted([Groupnum(len(arr), idx) for idx, arr in grpnum_to_group_members.iteritems() if len(arr)>5])\n",
    "big_grps"
   ]
  },
  {
   "cell_type": "code",
   "execution_count": 31,
   "metadata": {
    "collapsed": false
   },
   "outputs": [
    {
     "data": {
      "text/html": [
       "&lt;Table masked=True length=79&gt;\n",
       "<table id=\"table4645739408\" class=\"table-striped table-bordered table-condensed\">\n",
       "<thead><tr><th>RA</th><th>DEC</th><th>MASKNAME</th><th>specobjid</th><th>SPEC_Z</th><th>ZQUALITY</th><th>TELNAME</th><th>SPEC_REPEAT</th></tr></thead>\n",
       "<thead><tr><th>float64</th><th>float64</th><th>str80</th><th>int64</th><th>float64</th><th>int64</th><th>str6</th><th>str6</th></tr></thead>\n",
       "<tr><td>39.616664886</td><td>-1.44213891</td><td>NS39_1_02_</td><td>2</td><td>0.247728</td><td>3</td><td>IMACS</td><td>IMACS</td></tr>\n",
       "<tr><td>39.616664886</td><td>-1.44213891</td><td>NS39_1_100</td><td>10</td><td>0.363076</td><td>4</td><td>IMACS</td><td>IMACS</td></tr>\n",
       "<tr><td>39.616664886</td><td>-1.44213891</td><td>NS39_1_101</td><td>11</td><td>0.630122</td><td>4</td><td>IMACS</td><td>IMACS</td></tr>\n",
       "<tr><td>39.616664886</td><td>-1.44213891</td><td>NS39_1_102</td><td>12</td><td>0.425673</td><td>4</td><td>IMACS</td><td>IMACS</td></tr>\n",
       "<tr><td>39.616664886</td><td>-1.44213891</td><td>NS39_1_103</td><td>13</td><td>0.181463</td><td>4</td><td>IMACS</td><td>IMACS</td></tr>\n",
       "<tr><td>39.616664886</td><td>-1.44213891</td><td>NS39_1_104</td><td>14</td><td>0.260724</td><td>4</td><td>IMACS</td><td>IMACS</td></tr>\n",
       "<tr><td>39.616664886</td><td>-1.44213891</td><td>NS39_1_105</td><td>15</td><td>0.18555</td><td>4</td><td>IMACS</td><td>IMACS</td></tr>\n",
       "<tr><td>39.616664886</td><td>-1.44213891</td><td>NS39_1_106</td><td>16</td><td>0.135063</td><td>4</td><td>IMACS</td><td>IMACS</td></tr>\n",
       "<tr><td>39.616664886</td><td>-1.44213891</td><td>NS39_1_107</td><td>17</td><td>0.286234</td><td>4</td><td>IMACS</td><td>IMACS</td></tr>\n",
       "<tr><td>39.616664886</td><td>-1.44213891</td><td>NS39_1_108</td><td>18</td><td>0.200383</td><td>4</td><td>IMACS</td><td>IMACS</td></tr>\n",
       "<tr><td>...</td><td>...</td><td>...</td><td>...</td><td>...</td><td>...</td><td>...</td><td>...</td></tr>\n",
       "<tr><td>39.616664886</td><td>-1.44213891</td><td>NS39_1_82_</td><td>103</td><td>0.172</td><td>4</td><td>IMACS</td><td>IMACS</td></tr>\n",
       "<tr><td>39.616664886</td><td>-1.44213891</td><td>NS39_1_84_</td><td>105</td><td>0.388737</td><td>4</td><td>IMACS</td><td>IMACS</td></tr>\n",
       "<tr><td>39.616664886</td><td>-1.44213891</td><td>NS39_1_85_</td><td>106</td><td>0.244</td><td>4</td><td>IMACS</td><td>IMACS</td></tr>\n",
       "<tr><td>39.616664886</td><td>-1.44213891</td><td>NS39_1_86_</td><td>107</td><td>0.373473</td><td>4</td><td>IMACS</td><td>IMACS</td></tr>\n",
       "<tr><td>39.616664886</td><td>-1.44213891</td><td>NS39_1_87_</td><td>108</td><td>0.56178</td><td>4</td><td>IMACS</td><td>IMACS</td></tr>\n",
       "<tr><td>39.616664886</td><td>-1.44213891</td><td>NS39_1_90_</td><td>109</td><td>0.324</td><td>4</td><td>IMACS</td><td>IMACS</td></tr>\n",
       "<tr><td>39.616664886</td><td>-1.44213891</td><td>NS39_1_94_</td><td>112</td><td>0.139777</td><td>4</td><td>IMACS</td><td>IMACS</td></tr>\n",
       "<tr><td>39.616664886</td><td>-1.44213891</td><td>NS39_1_95_</td><td>113</td><td>0.254642</td><td>4</td><td>IMACS</td><td>IMACS</td></tr>\n",
       "<tr><td>39.616664886</td><td>-1.44213891</td><td>NS39_1_98_</td><td>116</td><td>0.182279</td><td>3</td><td>IMACS</td><td>IMACS</td></tr>\n",
       "<tr><td>39.616664886</td><td>-1.44213891</td><td>NS39_1_99_</td><td>117</td><td>0.231459</td><td>4</td><td>IMACS</td><td>IMACS</td></tr>\n",
       "</table>"
      ],
      "text/plain": [
       "<Table masked=True length=79>\n",
       "     RA          DEC      MASKNAME  specobjid ... ZQUALITY TELNAME SPEC_REPEAT\n",
       "  float64      float64     str80      int64   ...  int64     str6      str6   \n",
       "------------ ----------- ---------- --------- ... -------- ------- -----------\n",
       "39.616664886 -1.44213891 NS39_1_02_         2 ...        3   IMACS       IMACS\n",
       "39.616664886 -1.44213891 NS39_1_100        10 ...        4   IMACS       IMACS\n",
       "39.616664886 -1.44213891 NS39_1_101        11 ...        4   IMACS       IMACS\n",
       "39.616664886 -1.44213891 NS39_1_102        12 ...        4   IMACS       IMACS\n",
       "39.616664886 -1.44213891 NS39_1_103        13 ...        4   IMACS       IMACS\n",
       "39.616664886 -1.44213891 NS39_1_104        14 ...        4   IMACS       IMACS\n",
       "39.616664886 -1.44213891 NS39_1_105        15 ...        4   IMACS       IMACS\n",
       "39.616664886 -1.44213891 NS39_1_106        16 ...        4   IMACS       IMACS\n",
       "39.616664886 -1.44213891 NS39_1_107        17 ...        4   IMACS       IMACS\n",
       "39.616664886 -1.44213891 NS39_1_108        18 ...        4   IMACS       IMACS\n",
       "         ...         ...        ...       ... ...      ...     ...         ...\n",
       "39.616664886 -1.44213891 NS39_1_82_       103 ...        4   IMACS       IMACS\n",
       "39.616664886 -1.44213891 NS39_1_84_       105 ...        4   IMACS       IMACS\n",
       "39.616664886 -1.44213891 NS39_1_85_       106 ...        4   IMACS       IMACS\n",
       "39.616664886 -1.44213891 NS39_1_86_       107 ...        4   IMACS       IMACS\n",
       "39.616664886 -1.44213891 NS39_1_87_       108 ...        4   IMACS       IMACS\n",
       "39.616664886 -1.44213891 NS39_1_90_       109 ...        4   IMACS       IMACS\n",
       "39.616664886 -1.44213891 NS39_1_94_       112 ...        4   IMACS       IMACS\n",
       "39.616664886 -1.44213891 NS39_1_95_       113 ...        4   IMACS       IMACS\n",
       "39.616664886 -1.44213891 NS39_1_98_       116 ...        3   IMACS       IMACS\n",
       "39.616664886 -1.44213891 NS39_1_99_       117 ...        4   IMACS       IMACS"
      ]
     },
     "execution_count": 31,
     "metadata": {},
     "output_type": "execute_result"
    }
   ],
   "source": [
    "spec_data[grpnum_to_group_members[big_grps[-1].grpnum]]"
   ]
  },
  {
   "cell_type": "markdown",
   "metadata": {},
   "source": [
    "The above is just an example but the ones with the problem originally were IMACS targets...? So we have the option of ignoring all IMACS targets."
   ]
  },
  {
   "cell_type": "markdown",
   "metadata": {},
   "source": [
    "Marla fixed this after we realized it, though, so the remaining large groups are all MMT calibration stars:"
   ]
  },
  {
   "cell_type": "code",
   "execution_count": 37,
   "metadata": {
    "collapsed": false
   },
   "outputs": [
    {
     "data": {
      "text/html": [
       "&lt;Table masked=True length=13&gt;\n",
       "<table id=\"table4646229264\" class=\"table-striped table-bordered table-condensed\">\n",
       "<thead><tr><th>RA</th><th>DEC</th><th>MASKNAME</th><th>specobjid</th><th>SPEC_Z</th><th>ZQUALITY</th><th>TELNAME</th><th>SPEC_REPEAT</th></tr></thead>\n",
       "<thead><tr><th>float64</th><th>float64</th><th>str80</th><th>int64</th><th>float64</th><th>int64</th><th>str6</th><th>str6</th></tr></thead>\n",
       "<tr><td>247.952642445</td><td>19.536758423</td><td>/Spectra/Final/MMT/spHect-2013.0508.zlog</td><td>18</td><td>-0.000915</td><td>4</td><td>MMT</td><td>MMT</td></tr>\n",
       "<tr><td>247.952642445</td><td>19.536758423</td><td>/Spectra/Final/MMT/spHect-2013.0509_2.zlog</td><td>18</td><td>-0.000932</td><td>4</td><td>MMT</td><td>MMT</td></tr>\n",
       "<tr><td>247.952642445</td><td>19.536758423</td><td>/Spectra/Final/MMT/spHect-2013.0509_3.zlog</td><td>18</td><td>-0.000923</td><td>4</td><td>MMT</td><td>MMT</td></tr>\n",
       "<tr><td>247.952642445</td><td>19.536758423</td><td>/Spectra/Final/MMT/spHect-2013.0510_4.zlog</td><td>60</td><td>-0.000932</td><td>4</td><td>MMT</td><td>MMT</td></tr>\n",
       "<tr><td>247.952642445</td><td>19.536758423</td><td>/Spectra/Final/MMT/spHect-2013.0510_5.zlog</td><td>10</td><td>-0.000893</td><td>4</td><td>MMT</td><td>MMT</td></tr>\n",
       "<tr><td>247.952642445</td><td>19.536758423</td><td>/Spectra/Final/MMT/spHect-2013.0510_6.zlog</td><td>237</td><td>-0.000908</td><td>4</td><td>MMT</td><td>MMT</td></tr>\n",
       "<tr><td>247.952642445</td><td>19.536758423</td><td>/Spectra/Final/MMT/spHect-2013.0531.zlog</td><td>60</td><td>-0.000881</td><td>4</td><td>MMT</td><td>MMT</td></tr>\n",
       "<tr><td>247.952642445</td><td>19.536758423</td><td>/Spectra/Final/MMT/spHect-2013.0601.zlog</td><td>54</td><td>-0.000843</td><td>4</td><td>MMT</td><td>MMT</td></tr>\n",
       "<tr><td>247.952642445</td><td>19.536758423</td><td>/Spectra/Final/MMT/spHect-2013.0602.zlog</td><td>264</td><td>-0.000881</td><td>4</td><td>MMT</td><td>MMT</td></tr>\n",
       "<tr><td>247.952642445</td><td>19.536758423</td><td>/Spectra/Final/MMT/spHect-2013.0603.zlog</td><td>254</td><td>-0.000787</td><td>4</td><td>MMT</td><td>MMT</td></tr>\n",
       "<tr><td>247.952642445</td><td>19.536758423</td><td>/Spectra/Final/MMT/spHect-2014.0524_1.zlog</td><td>44</td><td>-0.000848</td><td>4</td><td>MMT</td><td>MMT</td></tr>\n",
       "<tr><td>247.952642445</td><td>19.536758423</td><td>/Spectra/Final/MMT/spHect-2014.0524_2.zlog</td><td>218</td><td>-0.000832</td><td>4</td><td>MMT</td><td>MMT</td></tr>\n",
       "<tr><td>247.952642445</td><td>19.536758423</td><td>/Spectra/Final/MMT/spHect-2015.0217_1.zlog</td><td>72</td><td>-0.00108</td><td>4</td><td>MMT</td><td>MMT</td></tr>\n",
       "</table>"
      ],
      "text/plain": [
       "<Table masked=True length=13>\n",
       "      RA          DEC      ... TELNAME SPEC_REPEAT\n",
       "   float64      float64    ...   str6      str6   \n",
       "------------- ------------ ... ------- -----------\n",
       "247.952642445 19.536758423 ...     MMT         MMT\n",
       "247.952642445 19.536758423 ...     MMT         MMT\n",
       "247.952642445 19.536758423 ...     MMT         MMT\n",
       "247.952642445 19.536758423 ...     MMT         MMT\n",
       "247.952642445 19.536758423 ...     MMT         MMT\n",
       "247.952642445 19.536758423 ...     MMT         MMT\n",
       "247.952642445 19.536758423 ...     MMT         MMT\n",
       "247.952642445 19.536758423 ...     MMT         MMT\n",
       "247.952642445 19.536758423 ...     MMT         MMT\n",
       "247.952642445 19.536758423 ...     MMT         MMT\n",
       "247.952642445 19.536758423 ...     MMT         MMT\n",
       "247.952642445 19.536758423 ...     MMT         MMT\n",
       "247.952642445 19.536758423 ...     MMT         MMT"
      ]
     },
     "execution_count": 37,
     "metadata": {},
     "output_type": "execute_result"
    }
   ],
   "source": [
    "spec_data[grpnum_to_group_members[big_grps[-2].grpnum]]"
   ]
  },
  {
   "cell_type": "code",
   "execution_count": 152,
   "metadata": {
    "collapsed": false
   },
   "outputs": [],
   "source": [
    "idxs_to_keep = []\n",
    "new_repeats = []\n",
    "for grpnum, members in grpnum_to_group_members.iteritems():\n",
    "    notimacs_members =  members[spec_data['TELNAME'][members]!='IMACS']\n",
    "    if len(notimacs_members)==0:\n",
    "        continue\n",
    "\n",
    "    idxs_to_keep.append(notimacs_members[np.argsort(spec_data['ZQUALITY'][notimacs_members])[0]])\n",
    "    new_repeats.append('+'.join(np.unique(spec_data['SPEC_REPEAT'][notimacs_members])))"
   ]
  },
  {
   "cell_type": "code",
   "execution_count": 153,
   "metadata": {
    "collapsed": false
   },
   "outputs": [
    {
     "data": {
      "text/html": [
       "&lt;Table masked=True length=91105&gt;\n",
       "<table id=\"table4626094352\" class=\"table-striped table-bordered table-condensed\">\n",
       "<thead><tr><th>RA</th><th>DEC</th><th>MASKNAME</th><th>specobjid</th><th>SPEC_Z</th><th>ZQUALITY</th><th>TELNAME</th><th>SPEC_REPEAT</th></tr></thead>\n",
       "<thead><tr><th>float64</th><th>float64</th><th>str80</th><th>int64</th><th>float64</th><th>int64</th><th>str6</th><th>str15</th></tr></thead>\n",
       "<tr><td>136.045125</td><td>25.1698611111</td><td>/Spectra/Final/WIYN/zspec.Beowulf_1.fits.gz</td><td>98</td><td>0.0907368659973</td><td>4</td><td>WIYN</td><td>WIYN</td></tr>\n",
       "<tr><td>136.23275</td><td>25.6625555556</td><td>/Spectra/Final/WIYN/zspec.Beowulf_1.fits.gz</td><td>88</td><td>0.0832283496857</td><td>4</td><td>WIYN</td><td>WIYN</td></tr>\n",
       "<tr><td>136.503833333</td><td>25.4698055556</td><td>/Spectra/Final/WIYN/zspec.Beowulf_1.fits.gz</td><td>84</td><td>0.0095317363739</td><td>4</td><td>WIYN</td><td>WIYN</td></tr>\n",
       "<tr><td>136.879625</td><td>25.1723055556</td><td>/Spectra/Final/WIYN/zspec.Beowulf_1.fits.gz</td><td>83</td><td>0.084725856781</td><td>4</td><td>WIYN</td><td>WIYN</td></tr>\n",
       "<tr><td>136.182541667</td><td>25.3763611111</td><td>/Spectra/Final/WIYN/zspec.Beowulf_1.fits.gz</td><td>82</td><td>0.183461755514</td><td>3</td><td>WIYN</td><td>WIYN</td></tr>\n",
       "<tr><td>136.421875</td><td>25.5417777778</td><td>/Spectra/Final/WIYN/zspec.Beowulf_1.fits.gz</td><td>81</td><td>0.0095317363739</td><td>4</td><td>WIYN</td><td>WIYN</td></tr>\n",
       "<tr><td>136.466416667</td><td>25.3593055556</td><td>/Spectra/Final/WIYN/zspec.Beowulf_1.fits.gz</td><td>80</td><td>0.0862255096436</td><td>4</td><td>WIYN</td><td>WIYN</td></tr>\n",
       "<tr><td>136.541083333</td><td>25.4299722222</td><td>/Spectra/Final/WIYN/zspec.Beowulf_1.fits.gz</td><td>78</td><td>0.0088347196579</td><td>4</td><td>WIYN</td><td>WIYN</td></tr>\n",
       "<tr><td>136.252791667</td><td>25.2895</td><td>/Spectra/Final/WIYN/zspec.Beowulf_1.fits.gz</td><td>73</td><td>0.0533706918359</td><td>4</td><td>WIYN</td><td>WIYN</td></tr>\n",
       "<tr><td>136.34175</td><td>25.0140555556</td><td>/Spectra/Final/WIYN/zspec.Beowulf_1.fits.gz</td><td>71</td><td>0.0200465917587</td><td>4</td><td>WIYN</td><td>WIYN</td></tr>\n",
       "<tr><td>...</td><td>...</td><td>...</td><td>...</td><td>...</td><td>...</td><td>...</td><td>...</td></tr>\n",
       "<tr><td>249.003275172</td><td>19.9837365701</td><td>/Spectra/Final/AAT/Odyssey_1_MG.mz</td><td>383</td><td>0.13199</td><td>3</td><td>AAT</td><td>AAT</td></tr>\n",
       "<tr><td>248.611085561</td><td>19.9338319462</td><td>/Spectra/Final/AAT/Odyssey_1_MG.mz</td><td>384</td><td>0.28428</td><td>3</td><td>AAT</td><td>AAT</td></tr>\n",
       "<tr><td>249.014963511</td><td>20.0107801781</td><td>/Spectra/Final/AAT/Odyssey_1_MG.mz</td><td>385</td><td>0.50081</td><td>3</td><td>AAT</td><td>AAT</td></tr>\n",
       "<tr><td>248.687861906</td><td>19.8934957174</td><td>/Spectra/Final/AAT/Odyssey_1_MG.mz</td><td>386</td><td>-0.00021</td><td>4</td><td>AAT</td><td>AAT</td></tr>\n",
       "<tr><td>249.097698617</td><td>19.9893515565</td><td>/Spectra/Final/AAT/Odyssey_1_MG.mz</td><td>387</td><td>0.39136</td><td>3</td><td>AAT</td><td>AAT</td></tr>\n",
       "<tr><td>249.052664134</td><td>19.9762881188</td><td>/Spectra/Final/AAT/Odyssey_1_MG.mz</td><td>389</td><td>0.28594</td><td>4</td><td>AAT</td><td>AAT</td></tr>\n",
       "<tr><td>248.854764511</td><td>19.9548594973</td><td>/Spectra/Final/AAT/Odyssey_1_MG.mz</td><td>393</td><td>-2e-05</td><td>4</td><td>AAT</td><td>AAT</td></tr>\n",
       "<tr><td>249.010952806</td><td>19.903465183</td><td>/Spectra/Final/AAT/Odyssey_1_MG.mz</td><td>395</td><td>0.17783</td><td>4</td><td>AAT</td><td>AAT</td></tr>\n",
       "<tr><td>248.663396608</td><td>19.8139118797</td><td>/Spectra/Final/AAT/Odyssey_1_MG.mz</td><td>398</td><td>0.06117</td><td>1</td><td>AAT</td><td>AAT</td></tr>\n",
       "<tr><td>248.444297547</td><td>19.8233083875</td><td>/Spectra/Final/AAT/Odyssey_1_MG.mz</td><td>399</td><td>0.17855</td><td>2</td><td>AAT</td><td>AAT</td></tr>\n",
       "</table>"
      ],
      "text/plain": [
       "<Table masked=True length=91105>\n",
       "      RA           DEC      ... TELNAME SPEC_REPEAT\n",
       "   float64       float64    ...   str6     str15   \n",
       "------------- ------------- ... ------- -----------\n",
       "   136.045125 25.1698611111 ...    WIYN        WIYN\n",
       "    136.23275 25.6625555556 ...    WIYN        WIYN\n",
       "136.503833333 25.4698055556 ...    WIYN        WIYN\n",
       "   136.879625 25.1723055556 ...    WIYN        WIYN\n",
       "136.182541667 25.3763611111 ...    WIYN        WIYN\n",
       "   136.421875 25.5417777778 ...    WIYN        WIYN\n",
       "136.466416667 25.3593055556 ...    WIYN        WIYN\n",
       "136.541083333 25.4299722222 ...    WIYN        WIYN\n",
       "136.252791667       25.2895 ...    WIYN        WIYN\n",
       "    136.34175 25.0140555556 ...    WIYN        WIYN\n",
       "          ...           ... ...     ...         ...\n",
       "249.003275172 19.9837365701 ...     AAT         AAT\n",
       "248.611085561 19.9338319462 ...     AAT         AAT\n",
       "249.014963511 20.0107801781 ...     AAT         AAT\n",
       "248.687861906 19.8934957174 ...     AAT         AAT\n",
       "249.097698617 19.9893515565 ...     AAT         AAT\n",
       "249.052664134 19.9762881188 ...     AAT         AAT\n",
       "248.854764511 19.9548594973 ...     AAT         AAT\n",
       "249.010952806  19.903465183 ...     AAT         AAT\n",
       "248.663396608 19.8139118797 ...     AAT         AAT\n",
       "248.444297547 19.8233083875 ...     AAT         AAT"
      ]
     },
     "execution_count": 153,
     "metadata": {},
     "output_type": "execute_result"
    }
   ],
   "source": [
    "unique_objs = spec_data[np.array(idxs_to_keep)]\n",
    "del unique_objs['SPEC_REPEAT']\n",
    "unique_objs['SPEC_REPEAT'] = new_repeats\n",
    "unique_objs"
   ]
  },
  {
   "cell_type": "code",
   "execution_count": 154,
   "metadata": {
    "collapsed": false
   },
   "outputs": [
    {
     "data": {
      "text/html": [
       "&lt;MaskedColumn name=&apos;SPEC_REPEAT&apos; dtype=&apos;str15&apos; length=13&gt;\n",
       "<table>\n",
       "<tr><td>AAT</td></tr>\n",
       "<tr><td>AAT+DEIMOS+WIYN</td></tr>\n",
       "<tr><td>AAT+GAMA</td></tr>\n",
       "<tr><td>AAT+MMT</td></tr>\n",
       "<tr><td>AAT+MMT+WIYN</td></tr>\n",
       "<tr><td>AAT+WIYN</td></tr>\n",
       "<tr><td>DEIMOS</td></tr>\n",
       "<tr><td>DEIMOS+MMT</td></tr>\n",
       "<tr><td>GAMA</td></tr>\n",
       "<tr><td>GAMA+MMT</td></tr>\n",
       "<tr><td>MMT</td></tr>\n",
       "<tr><td>MMT+WIYN</td></tr>\n",
       "<tr><td>WIYN</td></tr>\n",
       "</table>"
      ],
      "text/plain": [
       "<MaskedColumn name='SPEC_REPEAT' dtype='str15' length=13>\n",
       "            AAT\n",
       "AAT+DEIMOS+WIYN\n",
       "       AAT+GAMA\n",
       "        AAT+MMT\n",
       "   AAT+MMT+WIYN\n",
       "       AAT+WIYN\n",
       "         DEIMOS\n",
       "     DEIMOS+MMT\n",
       "           GAMA\n",
       "       GAMA+MMT\n",
       "            MMT\n",
       "       MMT+WIYN\n",
       "           WIYN"
      ]
     },
     "execution_count": 154,
     "metadata": {},
     "output_type": "execute_result"
    }
   ],
   "source": [
    "# double check that you sometimes get a combination of them together\n",
    "np.unique(unique_objs['SPEC_REPEAT'])"
   ]
  },
  {
   "cell_type": "markdown",
   "metadata": {},
   "source": [
    "# Final Function"
   ]
  },
  {
   "cell_type": "markdown",
   "metadata": {},
   "source": [
    "The function below just combines all the steps above into one function"
   ]
  },
  {
   "cell_type": "code",
   "execution_count": 1,
   "metadata": {
    "collapsed": true
   },
   "outputs": [],
   "source": [
    "from __future__ import print_function, division\n",
    "\n",
    "import collections\n",
    "\n",
    "import numpy as np\n",
    "\n",
    "from astropy import units as u\n",
    "from astropy import table\n",
    "from astropy.coordinates import SkyCoord"
   ]
  },
  {
   "cell_type": "code",
   "execution_count": 2,
   "metadata": {
    "collapsed": false,
    "scrolled": false
   },
   "outputs": [
    {
     "name": "stderr",
     "output_type": "stream",
     "text": [
      "/Users/erik/miniconda3/envs/anaconda2/lib/python2.7/site-packages/astropy/table/column.py:1095: MaskedArrayFutureWarning: setting an item on a masked array which has a shared mask will not copy the mask and also change the original mask array in the future.\n",
      "Check the NumPy 1.11 release notes for more information.\n",
      "  ma.MaskedArray.__setitem__(self, index, value)\n"
     ]
    }
   ],
   "source": [
    "def find_uniques(infn='saga_spectra_raw.fits.gz', remove_imacs=True, nearenough_sep=5*u.arcsec):\n",
    "    spec_data_raw = table.Table.read(infn)\n",
    "    \n",
    "    if spec_data_raw['specobjid'].dtype.kind == 'i':\n",
    "        spec_data = spec_data_raw\n",
    "    else:\n",
    "        #if the specobjid is not an int, convert the type of that column while retaining the value\n",
    "        spec_data = spec_data_raw.copy()\n",
    "        spec_data['specobjid'].dtype = int\n",
    "        spec_data['specobjid'] = spec_data_raw['specobjid'].astype(int)\n",
    "\n",
    "    scs = SkyCoord(spec_data['RA'], spec_data['DEC'], unit=u.deg)\n",
    "    idx1, idx2, sep2d, _ = scs.search_around_sky(scs, nearenough_sep)\n",
    "    \n",
    "    # now contruct the groups from the pairs\n",
    "    grpdct = {}\n",
    "    grpi = 0\n",
    "    for i1, i2 in zip(idx1, idx2):\n",
    "        if i1 in grpdct:\n",
    "            if i2 in grpdct:\n",
    "                # combine the two groups by assigning grp2 items to grp1\n",
    "\n",
    "                # this block is by far the slowest part so if the data size grows it should be optimized\n",
    "                grp1 = grpdct[i1]\n",
    "                grp2 = grpdct[i2]\n",
    "                if grp1 != grp2:\n",
    "                    to_set_to_1 = [i for i, grp in grpdct.iteritems() if grp==grp2]\n",
    "                    for i in to_set_to_1:\n",
    "                        grpdct[i] = grp1\n",
    "            else:\n",
    "                #add i2 to the group i1 is already in\n",
    "                grpdct[i2] = grpdct[i1]\n",
    "        else:\n",
    "            if i2 in grpdct:\n",
    "                #add i1 to the group i2 is already in\n",
    "                grpdct[i2] = grpdct[i1]\n",
    "            else:\n",
    "                # add them both to a new group\n",
    "                grpdct[i1] = grpdct[i2] = grpi\n",
    "                grpi += 1\n",
    "                \n",
    "    grpnum_to_group_members = collections.defaultdict(list)\n",
    "    for k, v in grpdct.iteritems():\n",
    "        grpnum_to_group_members[v].append(k)\n",
    "    # convert the members into arrays\n",
    "    grpnum_to_group_members = {k:np.array(v) for k, v in grpnum_to_group_members.iteritems()}\n",
    "    \n",
    "    # identify which is the \"best\" spectrum (meaning the first zq=4 spectrum)\n",
    "    idxs_to_keep = []\n",
    "    new_repeats = []\n",
    "    for grpnum, allmembers in grpnum_to_group_members.iteritems():\n",
    "        if remove_imacs:\n",
    "            members =  allmembers[spec_data['TELNAME'][allmembers]!='IMACS']\n",
    "            if len(members)==0:\n",
    "                continue\n",
    "        else:\n",
    "            members = allmembers\n",
    "            \n",
    "        idxs_to_keep.append(members[np.argsort(spec_data['ZQUALITY'][members])[0]])\n",
    "        new_repeats.append('+'.join(np.unique(spec_data['SPEC_REPEAT'][members])))\n",
    "    \n",
    "    # now build the output table from the input\n",
    "    unique_objs = spec_data[np.array(idxs_to_keep)]\n",
    "    del unique_objs['SPEC_REPEAT']\n",
    "    unique_objs['SPEC_REPEAT'] = new_repeats\n",
    "    \n",
    "    return unique_objs\n",
    "\n",
    "uniq_objs = find_uniques('../saga_spectra_raw.fits.gz')"
   ]
  },
  {
   "cell_type": "code",
   "execution_count": 3,
   "metadata": {
    "collapsed": false
   },
   "outputs": [
    {
     "data": {
      "text/html": [
       "&lt;Table masked=True length=91105&gt;\n",
       "<table id=\"table4494763472\" class=\"table-striped table-bordered table-condensed\">\n",
       "<thead><tr><th>RA</th><th>DEC</th><th>MASKNAME</th><th>specobjid</th><th>SPEC_Z</th><th>ZQUALITY</th><th>TELNAME</th><th>SPEC_REPEAT</th></tr></thead>\n",
       "<thead><tr><th>float64</th><th>float64</th><th>str80</th><th>int64</th><th>float64</th><th>int64</th><th>str6</th><th>str15</th></tr></thead>\n",
       "<tr><td>136.045125</td><td>25.1698611111</td><td>/Spectra/Final/WIYN/zspec.Beowulf_1.fits.gz</td><td>98</td><td>0.0907368659973</td><td>4</td><td>WIYN</td><td>WIYN</td></tr>\n",
       "<tr><td>136.23275</td><td>25.6625555556</td><td>/Spectra/Final/WIYN/zspec.Beowulf_1.fits.gz</td><td>88</td><td>0.0832283496857</td><td>4</td><td>WIYN</td><td>WIYN</td></tr>\n",
       "<tr><td>136.503833333</td><td>25.4698055556</td><td>/Spectra/Final/WIYN/zspec.Beowulf_1.fits.gz</td><td>84</td><td>0.0095317363739</td><td>4</td><td>WIYN</td><td>WIYN</td></tr>\n",
       "<tr><td>136.879625</td><td>25.1723055556</td><td>/Spectra/Final/WIYN/zspec.Beowulf_1.fits.gz</td><td>83</td><td>0.084725856781</td><td>4</td><td>WIYN</td><td>WIYN</td></tr>\n",
       "<tr><td>136.182541667</td><td>25.3763611111</td><td>/Spectra/Final/WIYN/zspec.Beowulf_1.fits.gz</td><td>82</td><td>0.183461755514</td><td>3</td><td>WIYN</td><td>WIYN</td></tr>\n",
       "<tr><td>136.421875</td><td>25.5417777778</td><td>/Spectra/Final/WIYN/zspec.Beowulf_1.fits.gz</td><td>81</td><td>0.0095317363739</td><td>4</td><td>WIYN</td><td>WIYN</td></tr>\n",
       "<tr><td>136.466416667</td><td>25.3593055556</td><td>/Spectra/Final/WIYN/zspec.Beowulf_1.fits.gz</td><td>80</td><td>0.0862255096436</td><td>4</td><td>WIYN</td><td>WIYN</td></tr>\n",
       "<tr><td>136.541083333</td><td>25.4299722222</td><td>/Spectra/Final/WIYN/zspec.Beowulf_1.fits.gz</td><td>78</td><td>0.0088347196579</td><td>4</td><td>WIYN</td><td>WIYN</td></tr>\n",
       "<tr><td>136.252791667</td><td>25.2895</td><td>/Spectra/Final/WIYN/zspec.Beowulf_1.fits.gz</td><td>73</td><td>0.0533706918359</td><td>4</td><td>WIYN</td><td>WIYN</td></tr>\n",
       "<tr><td>136.34175</td><td>25.0140555556</td><td>/Spectra/Final/WIYN/zspec.Beowulf_1.fits.gz</td><td>71</td><td>0.0200465917587</td><td>4</td><td>WIYN</td><td>WIYN</td></tr>\n",
       "<tr><td>...</td><td>...</td><td>...</td><td>...</td><td>...</td><td>...</td><td>...</td><td>...</td></tr>\n",
       "<tr><td>249.003275172</td><td>19.9837365701</td><td>/Spectra/Final/AAT/Odyssey_1_MG.mz</td><td>383</td><td>0.13199</td><td>3</td><td>AAT</td><td>AAT</td></tr>\n",
       "<tr><td>248.611085561</td><td>19.9338319462</td><td>/Spectra/Final/AAT/Odyssey_1_MG.mz</td><td>384</td><td>0.28428</td><td>3</td><td>AAT</td><td>AAT</td></tr>\n",
       "<tr><td>249.014963511</td><td>20.0107801781</td><td>/Spectra/Final/AAT/Odyssey_1_MG.mz</td><td>385</td><td>0.50081</td><td>3</td><td>AAT</td><td>AAT</td></tr>\n",
       "<tr><td>248.687861906</td><td>19.8934957174</td><td>/Spectra/Final/AAT/Odyssey_1_MG.mz</td><td>386</td><td>-0.00021</td><td>4</td><td>AAT</td><td>AAT</td></tr>\n",
       "<tr><td>249.097698617</td><td>19.9893515565</td><td>/Spectra/Final/AAT/Odyssey_1_MG.mz</td><td>387</td><td>0.39136</td><td>3</td><td>AAT</td><td>AAT</td></tr>\n",
       "<tr><td>249.052664134</td><td>19.9762881188</td><td>/Spectra/Final/AAT/Odyssey_1_MG.mz</td><td>389</td><td>0.28594</td><td>4</td><td>AAT</td><td>AAT</td></tr>\n",
       "<tr><td>248.854764511</td><td>19.9548594973</td><td>/Spectra/Final/AAT/Odyssey_1_MG.mz</td><td>393</td><td>-2e-05</td><td>4</td><td>AAT</td><td>AAT</td></tr>\n",
       "<tr><td>249.010952806</td><td>19.903465183</td><td>/Spectra/Final/AAT/Odyssey_1_MG.mz</td><td>395</td><td>0.17783</td><td>4</td><td>AAT</td><td>AAT</td></tr>\n",
       "<tr><td>248.663396608</td><td>19.8139118797</td><td>/Spectra/Final/AAT/Odyssey_1_MG.mz</td><td>398</td><td>0.06117</td><td>1</td><td>AAT</td><td>AAT</td></tr>\n",
       "<tr><td>248.444297547</td><td>19.8233083875</td><td>/Spectra/Final/AAT/Odyssey_1_MG.mz</td><td>399</td><td>0.17855</td><td>2</td><td>AAT</td><td>AAT</td></tr>\n",
       "</table>"
      ],
      "text/plain": [
       "<Table masked=True length=91105>\n",
       "      RA           DEC      ... TELNAME SPEC_REPEAT\n",
       "   float64       float64    ...   str6     str15   \n",
       "------------- ------------- ... ------- -----------\n",
       "   136.045125 25.1698611111 ...    WIYN        WIYN\n",
       "    136.23275 25.6625555556 ...    WIYN        WIYN\n",
       "136.503833333 25.4698055556 ...    WIYN        WIYN\n",
       "   136.879625 25.1723055556 ...    WIYN        WIYN\n",
       "136.182541667 25.3763611111 ...    WIYN        WIYN\n",
       "   136.421875 25.5417777778 ...    WIYN        WIYN\n",
       "136.466416667 25.3593055556 ...    WIYN        WIYN\n",
       "136.541083333 25.4299722222 ...    WIYN        WIYN\n",
       "136.252791667       25.2895 ...    WIYN        WIYN\n",
       "    136.34175 25.0140555556 ...    WIYN        WIYN\n",
       "          ...           ... ...     ...         ...\n",
       "249.003275172 19.9837365701 ...     AAT         AAT\n",
       "248.611085561 19.9338319462 ...     AAT         AAT\n",
       "249.014963511 20.0107801781 ...     AAT         AAT\n",
       "248.687861906 19.8934957174 ...     AAT         AAT\n",
       "249.097698617 19.9893515565 ...     AAT         AAT\n",
       "249.052664134 19.9762881188 ...     AAT         AAT\n",
       "248.854764511 19.9548594973 ...     AAT         AAT\n",
       "249.010952806  19.903465183 ...     AAT         AAT\n",
       "248.663396608 19.8139118797 ...     AAT         AAT\n",
       "248.444297547 19.8233083875 ...     AAT         AAT"
      ]
     },
     "execution_count": 3,
     "metadata": {},
     "output_type": "execute_result"
    }
   ],
   "source": [
    "uniq_objs"
   ]
  }
 ],
 "metadata": {
  "kernelspec": {
   "display_name": "Python 2",
   "language": "python",
   "name": "python2"
  },
  "language_info": {
   "codemirror_mode": {
    "name": "ipython",
    "version": 2
   },
   "file_extension": ".py",
   "mimetype": "text/x-python",
   "name": "python",
   "nbconvert_exporter": "python",
   "pygments_lexer": "ipython2",
   "version": "2.7.12"
  }
 },
 "nbformat": 4,
 "nbformat_minor": 0
}
