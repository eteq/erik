{
 "cells": [
  {
   "cell_type": "code",
   "execution_count": 1,
   "metadata": {
    "collapsed": true
   },
   "outputs": [],
   "source": [
    "# This changes the current directory to the base saga directory - make sure to run this first!\n",
    "# This is necessary to be able to import the py files and use the right directories,\n",
    "# while keeping all the notebooks in their own directory.\n",
    "import os\n",
    "import sys\n",
    "import collections\n",
    "\n",
    "if 'saga_base_dir' not in locals():\n",
    "    saga_base_dir = os.path.abspath('..')\n",
    "if saga_base_dir not in sys.path:\n",
    "    os.chdir(saga_base_dir)\n",
    "    \n",
    "import targeting"
   ]
  },
  {
   "cell_type": "code",
   "execution_count": 2,
   "metadata": {
    "collapsed": true
   },
   "outputs": [],
   "source": [
    "from __future__ import print_function, division\n",
    "\n",
    "import numpy as np\n",
    "\n",
    "from astropy import units as u\n",
    "from astropy import table\n",
    "from astropy.coordinates import SkyCoord\n",
    "from astropy.visualization import hist as ahist"
   ]
  },
  {
   "cell_type": "code",
   "execution_count": 3,
   "metadata": {
    "collapsed": true
   },
   "outputs": [],
   "source": [
    "%matplotlib inline\n",
    "from matplotlib import pyplot as plt\n",
    "from matplotlib import style\n",
    "from mpl_toolkits.mplot3d import Axes3D\n",
    "\n",
    "plt.rcParams['image.cmap'] = 'viridis'\n",
    "plt.rcParams['image.origin'] = 'lower'\n",
    "plt.rcParams['axes.prop_cycle'] = style.library['seaborn-deep']['axes.prop_cycle']\n",
    "plt.rcParams['figure.figsize'] = (14, 8)\n",
    "plt.rcParams['axes.titlesize'] =  plt.rcParams['axes.labelsize'] = 16\n",
    "plt.rcParams['xtick.labelsize'] =  plt.rcParams['ytick.labelsize'] = 14"
   ]
  },
  {
   "cell_type": "markdown",
   "metadata": {},
   "source": [
    "# Load the spectroscopic data"
   ]
  },
  {
   "cell_type": "code",
   "execution_count": 4,
   "metadata": {
    "collapsed": false
   },
   "outputs": [
    {
     "data": {
      "text/html": [
       "&lt;Table masked=True length=95475&gt;\n",
       "<table id=\"table4543219024\" class=\"table-striped table-bordered table-condensed\">\n",
       "<thead><tr><th>RA</th><th>DEC</th><th>MASKNAME</th><th>specobjid</th><th>SPEC_Z</th><th>ZQUALITY</th><th>TELNAME</th><th>SPEC_REPEAT</th></tr></thead>\n",
       "<thead><tr><th>float64</th><th>float64</th><th>str80</th><th>float64</th><th>float64</th><th>int64</th><th>str6</th><th>str6</th></tr></thead>\n",
       "<tr><td>136.045125</td><td>25.1698611111</td><td>/Spectra/Final/WIYN/zspec.Beowulf_1.fits.gz</td><td>98.0</td><td>0.0907368659973</td><td>4</td><td>WIYN</td><td>WIYN</td></tr>\n",
       "<tr><td>136.23275</td><td>25.6625555556</td><td>/Spectra/Final/WIYN/zspec.Beowulf_1.fits.gz</td><td>88.0</td><td>0.0832283496857</td><td>4</td><td>WIYN</td><td>WIYN</td></tr>\n",
       "<tr><td>136.503833333</td><td>25.4698055556</td><td>/Spectra/Final/WIYN/zspec.Beowulf_1.fits.gz</td><td>84.0</td><td>0.0095317363739</td><td>4</td><td>WIYN</td><td>WIYN</td></tr>\n",
       "<tr><td>136.879625</td><td>25.1723055556</td><td>/Spectra/Final/WIYN/zspec.Beowulf_1.fits.gz</td><td>83.0</td><td>0.084725856781</td><td>4</td><td>WIYN</td><td>WIYN</td></tr>\n",
       "<tr><td>136.182541667</td><td>25.3763611111</td><td>/Spectra/Final/WIYN/zspec.Beowulf_1.fits.gz</td><td>82.0</td><td>0.183461755514</td><td>3</td><td>WIYN</td><td>WIYN</td></tr>\n",
       "<tr><td>136.421875</td><td>25.5417777778</td><td>/Spectra/Final/WIYN/zspec.Beowulf_1.fits.gz</td><td>81.0</td><td>0.0095317363739</td><td>4</td><td>WIYN</td><td>WIYN</td></tr>\n",
       "<tr><td>136.466416667</td><td>25.3593055556</td><td>/Spectra/Final/WIYN/zspec.Beowulf_1.fits.gz</td><td>80.0</td><td>0.0862255096436</td><td>4</td><td>WIYN</td><td>WIYN</td></tr>\n",
       "<tr><td>136.541083333</td><td>25.4299722222</td><td>/Spectra/Final/WIYN/zspec.Beowulf_1.fits.gz</td><td>78.0</td><td>0.0088347196579</td><td>4</td><td>WIYN</td><td>WIYN</td></tr>\n",
       "<tr><td>136.252791667</td><td>25.2895</td><td>/Spectra/Final/WIYN/zspec.Beowulf_1.fits.gz</td><td>73.0</td><td>0.0533706918359</td><td>4</td><td>WIYN</td><td>WIYN</td></tr>\n",
       "<tr><td>136.34175</td><td>25.0140555556</td><td>/Spectra/Final/WIYN/zspec.Beowulf_1.fits.gz</td><td>71.0</td><td>0.0200465917587</td><td>4</td><td>WIYN</td><td>WIYN</td></tr>\n",
       "<tr><td>...</td><td>...</td><td>...</td><td>...</td><td>...</td><td>...</td><td>...</td><td>...</td></tr>\n",
       "<tr><td>248.496207523</td><td>19.8827241109</td><td>/Spectra/Final/AAT/Odyssey_1_MG.mz</td><td>390.0</td><td>0.67179</td><td>1</td><td>AAT</td><td>AAT</td></tr>\n",
       "<tr><td>248.449740646</td><td>19.8949854077</td><td>/Spectra/Final/AAT/Odyssey_1_MG.mz</td><td>391.0</td><td>-0.00951</td><td>1</td><td>AAT</td><td>AAT</td></tr>\n",
       "<tr><td>248.301344577</td><td>19.8489196009</td><td>/Spectra/Final/AAT/Odyssey_1_MG.mz</td><td>392.0</td><td>0.3248</td><td>4</td><td>AAT</td><td>AAT</td></tr>\n",
       "<tr><td>248.854764511</td><td>19.9548594973</td><td>/Spectra/Final/AAT/Odyssey_1_MG.mz</td><td>393.0</td><td>-2e-05</td><td>4</td><td>AAT</td><td>AAT</td></tr>\n",
       "<tr><td>248.606387307</td><td>19.859290137</td><td>/Spectra/Final/AAT/Odyssey_1_MG.mz</td><td>394.0</td><td>0.17732</td><td>4</td><td>AAT</td><td>AAT</td></tr>\n",
       "<tr><td>249.010952806</td><td>19.903465183</td><td>/Spectra/Final/AAT/Odyssey_1_MG.mz</td><td>395.0</td><td>0.17783</td><td>4</td><td>AAT</td><td>AAT</td></tr>\n",
       "<tr><td>248.61354928</td><td>19.8483466431</td><td>/Spectra/Final/AAT/Odyssey_1_MG.mz</td><td>396.0</td><td>0.17723</td><td>1</td><td>AAT</td><td>AAT</td></tr>\n",
       "<tr><td>248.493686509</td><td>19.8298401064</td><td>/Spectra/Final/AAT/Odyssey_1_MG.mz</td><td>397.0</td><td>0.19361</td><td>4</td><td>AAT</td><td>AAT</td></tr>\n",
       "<tr><td>248.663396608</td><td>19.8139118797</td><td>/Spectra/Final/AAT/Odyssey_1_MG.mz</td><td>398.0</td><td>0.06117</td><td>1</td><td>AAT</td><td>AAT</td></tr>\n",
       "<tr><td>248.444297547</td><td>19.8233083875</td><td>/Spectra/Final/AAT/Odyssey_1_MG.mz</td><td>399.0</td><td>0.17855</td><td>2</td><td>AAT</td><td>AAT</td></tr>\n",
       "</table>"
      ],
      "text/plain": [
       "<Table masked=True length=95475>\n",
       "      RA           DEC      ... TELNAME SPEC_REPEAT\n",
       "   float64       float64    ...   str6      str6   \n",
       "------------- ------------- ... ------- -----------\n",
       "   136.045125 25.1698611111 ...    WIYN        WIYN\n",
       "    136.23275 25.6625555556 ...    WIYN        WIYN\n",
       "136.503833333 25.4698055556 ...    WIYN        WIYN\n",
       "   136.879625 25.1723055556 ...    WIYN        WIYN\n",
       "136.182541667 25.3763611111 ...    WIYN        WIYN\n",
       "   136.421875 25.5417777778 ...    WIYN        WIYN\n",
       "136.466416667 25.3593055556 ...    WIYN        WIYN\n",
       "136.541083333 25.4299722222 ...    WIYN        WIYN\n",
       "136.252791667       25.2895 ...    WIYN        WIYN\n",
       "    136.34175 25.0140555556 ...    WIYN        WIYN\n",
       "          ...           ... ...     ...         ...\n",
       "248.496207523 19.8827241109 ...     AAT         AAT\n",
       "248.449740646 19.8949854077 ...     AAT         AAT\n",
       "248.301344577 19.8489196009 ...     AAT         AAT\n",
       "248.854764511 19.9548594973 ...     AAT         AAT\n",
       "248.606387307  19.859290137 ...     AAT         AAT\n",
       "249.010952806  19.903465183 ...     AAT         AAT\n",
       " 248.61354928 19.8483466431 ...     AAT         AAT\n",
       "248.493686509 19.8298401064 ...     AAT         AAT\n",
       "248.663396608 19.8139118797 ...     AAT         AAT\n",
       "248.444297547 19.8233083875 ...     AAT         AAT"
      ]
     },
     "execution_count": 4,
     "metadata": {},
     "output_type": "execute_result"
    }
   ],
   "source": [
    "spec_data_raw = table.Table.read('saga_spectra_raw.fits.gz')\n",
    "spec_data_raw"
   ]
  },
  {
   "cell_type": "markdown",
   "metadata": {},
   "source": [
    "Hmm, the specobjid's are floats, but they should be integers to avoid possible rounding errors during comparison.  Lets fix that:"
   ]
  },
  {
   "cell_type": "code",
   "execution_count": 5,
   "metadata": {
    "collapsed": false
   },
   "outputs": [
    {
     "name": "stderr",
     "output_type": "stream",
     "text": [
      "/Users/erik/miniconda3/envs/anaconda2/lib/python2.7/site-packages/astropy/table/column.py:1095: MaskedArrayFutureWarning: setting an item on a masked array which has a shared mask will not copy the mask and also change the original mask array in the future.\n",
      "Check the NumPy 1.11 release notes for more information.\n",
      "  ma.MaskedArray.__setitem__(self, index, value)\n"
     ]
    },
    {
     "data": {
      "text/html": [
       "&lt;Table masked=True length=95475&gt;\n",
       "<table id=\"table4543218576\" class=\"table-striped table-bordered table-condensed\">\n",
       "<thead><tr><th>RA</th><th>DEC</th><th>MASKNAME</th><th>specobjid</th><th>SPEC_Z</th><th>ZQUALITY</th><th>TELNAME</th><th>SPEC_REPEAT</th></tr></thead>\n",
       "<thead><tr><th>float64</th><th>float64</th><th>str80</th><th>int64</th><th>float64</th><th>int64</th><th>str6</th><th>str6</th></tr></thead>\n",
       "<tr><td>136.045125</td><td>25.1698611111</td><td>/Spectra/Final/WIYN/zspec.Beowulf_1.fits.gz</td><td>98</td><td>0.0907368659973</td><td>4</td><td>WIYN</td><td>WIYN</td></tr>\n",
       "<tr><td>136.23275</td><td>25.6625555556</td><td>/Spectra/Final/WIYN/zspec.Beowulf_1.fits.gz</td><td>88</td><td>0.0832283496857</td><td>4</td><td>WIYN</td><td>WIYN</td></tr>\n",
       "<tr><td>136.503833333</td><td>25.4698055556</td><td>/Spectra/Final/WIYN/zspec.Beowulf_1.fits.gz</td><td>84</td><td>0.0095317363739</td><td>4</td><td>WIYN</td><td>WIYN</td></tr>\n",
       "<tr><td>136.879625</td><td>25.1723055556</td><td>/Spectra/Final/WIYN/zspec.Beowulf_1.fits.gz</td><td>83</td><td>0.084725856781</td><td>4</td><td>WIYN</td><td>WIYN</td></tr>\n",
       "<tr><td>136.182541667</td><td>25.3763611111</td><td>/Spectra/Final/WIYN/zspec.Beowulf_1.fits.gz</td><td>82</td><td>0.183461755514</td><td>3</td><td>WIYN</td><td>WIYN</td></tr>\n",
       "<tr><td>136.421875</td><td>25.5417777778</td><td>/Spectra/Final/WIYN/zspec.Beowulf_1.fits.gz</td><td>81</td><td>0.0095317363739</td><td>4</td><td>WIYN</td><td>WIYN</td></tr>\n",
       "<tr><td>136.466416667</td><td>25.3593055556</td><td>/Spectra/Final/WIYN/zspec.Beowulf_1.fits.gz</td><td>80</td><td>0.0862255096436</td><td>4</td><td>WIYN</td><td>WIYN</td></tr>\n",
       "<tr><td>136.541083333</td><td>25.4299722222</td><td>/Spectra/Final/WIYN/zspec.Beowulf_1.fits.gz</td><td>78</td><td>0.0088347196579</td><td>4</td><td>WIYN</td><td>WIYN</td></tr>\n",
       "<tr><td>136.252791667</td><td>25.2895</td><td>/Spectra/Final/WIYN/zspec.Beowulf_1.fits.gz</td><td>73</td><td>0.0533706918359</td><td>4</td><td>WIYN</td><td>WIYN</td></tr>\n",
       "<tr><td>136.34175</td><td>25.0140555556</td><td>/Spectra/Final/WIYN/zspec.Beowulf_1.fits.gz</td><td>71</td><td>0.0200465917587</td><td>4</td><td>WIYN</td><td>WIYN</td></tr>\n",
       "<tr><td>...</td><td>...</td><td>...</td><td>...</td><td>...</td><td>...</td><td>...</td><td>...</td></tr>\n",
       "<tr><td>248.496207523</td><td>19.8827241109</td><td>/Spectra/Final/AAT/Odyssey_1_MG.mz</td><td>390</td><td>0.67179</td><td>1</td><td>AAT</td><td>AAT</td></tr>\n",
       "<tr><td>248.449740646</td><td>19.8949854077</td><td>/Spectra/Final/AAT/Odyssey_1_MG.mz</td><td>391</td><td>-0.00951</td><td>1</td><td>AAT</td><td>AAT</td></tr>\n",
       "<tr><td>248.301344577</td><td>19.8489196009</td><td>/Spectra/Final/AAT/Odyssey_1_MG.mz</td><td>392</td><td>0.3248</td><td>4</td><td>AAT</td><td>AAT</td></tr>\n",
       "<tr><td>248.854764511</td><td>19.9548594973</td><td>/Spectra/Final/AAT/Odyssey_1_MG.mz</td><td>393</td><td>-2e-05</td><td>4</td><td>AAT</td><td>AAT</td></tr>\n",
       "<tr><td>248.606387307</td><td>19.859290137</td><td>/Spectra/Final/AAT/Odyssey_1_MG.mz</td><td>394</td><td>0.17732</td><td>4</td><td>AAT</td><td>AAT</td></tr>\n",
       "<tr><td>249.010952806</td><td>19.903465183</td><td>/Spectra/Final/AAT/Odyssey_1_MG.mz</td><td>395</td><td>0.17783</td><td>4</td><td>AAT</td><td>AAT</td></tr>\n",
       "<tr><td>248.61354928</td><td>19.8483466431</td><td>/Spectra/Final/AAT/Odyssey_1_MG.mz</td><td>396</td><td>0.17723</td><td>1</td><td>AAT</td><td>AAT</td></tr>\n",
       "<tr><td>248.493686509</td><td>19.8298401064</td><td>/Spectra/Final/AAT/Odyssey_1_MG.mz</td><td>397</td><td>0.19361</td><td>4</td><td>AAT</td><td>AAT</td></tr>\n",
       "<tr><td>248.663396608</td><td>19.8139118797</td><td>/Spectra/Final/AAT/Odyssey_1_MG.mz</td><td>398</td><td>0.06117</td><td>1</td><td>AAT</td><td>AAT</td></tr>\n",
       "<tr><td>248.444297547</td><td>19.8233083875</td><td>/Spectra/Final/AAT/Odyssey_1_MG.mz</td><td>399</td><td>0.17855</td><td>2</td><td>AAT</td><td>AAT</td></tr>\n",
       "</table>"
      ],
      "text/plain": [
       "<Table masked=True length=95475>\n",
       "      RA           DEC      ... TELNAME SPEC_REPEAT\n",
       "   float64       float64    ...   str6      str6   \n",
       "------------- ------------- ... ------- -----------\n",
       "   136.045125 25.1698611111 ...    WIYN        WIYN\n",
       "    136.23275 25.6625555556 ...    WIYN        WIYN\n",
       "136.503833333 25.4698055556 ...    WIYN        WIYN\n",
       "   136.879625 25.1723055556 ...    WIYN        WIYN\n",
       "136.182541667 25.3763611111 ...    WIYN        WIYN\n",
       "   136.421875 25.5417777778 ...    WIYN        WIYN\n",
       "136.466416667 25.3593055556 ...    WIYN        WIYN\n",
       "136.541083333 25.4299722222 ...    WIYN        WIYN\n",
       "136.252791667       25.2895 ...    WIYN        WIYN\n",
       "    136.34175 25.0140555556 ...    WIYN        WIYN\n",
       "          ...           ... ...     ...         ...\n",
       "248.496207523 19.8827241109 ...     AAT         AAT\n",
       "248.449740646 19.8949854077 ...     AAT         AAT\n",
       "248.301344577 19.8489196009 ...     AAT         AAT\n",
       "248.854764511 19.9548594973 ...     AAT         AAT\n",
       "248.606387307  19.859290137 ...     AAT         AAT\n",
       "249.010952806  19.903465183 ...     AAT         AAT\n",
       " 248.61354928 19.8483466431 ...     AAT         AAT\n",
       "248.493686509 19.8298401064 ...     AAT         AAT\n",
       "248.663396608 19.8139118797 ...     AAT         AAT\n",
       "248.444297547 19.8233083875 ...     AAT         AAT"
      ]
     },
     "execution_count": 5,
     "metadata": {},
     "output_type": "execute_result"
    }
   ],
   "source": [
    "# Just setting the dtype does *not* do the conversion of the values. It instead tells numpy to \n",
    "# re-interpret the same set of bits  as thought they were ints.\n",
    "# So we do the first and third line below to update the values - `astype` *does* do the conversion\n",
    "\n",
    "spec_data = spec_data_raw.copy()\n",
    "spec_data['specobjid'].dtype = int\n",
    "spec_data['specobjid'] = spec_data_raw['specobjid'].astype(int)\n",
    "\n",
    "spec_data"
   ]
  },
  {
   "cell_type": "markdown",
   "metadata": {},
   "source": [
    "# Find matches"
   ]
  },
  {
   "cell_type": "markdown",
   "metadata": {},
   "source": [
    "First we see if we can match on spectroscopic ID's"
   ]
  },
  {
   "cell_type": "code",
   "execution_count": 6,
   "metadata": {
    "collapsed": false
   },
   "outputs": [
    {
     "data": {
      "text/plain": [
       "(428, 95475)"
      ]
     },
     "execution_count": 6,
     "metadata": {},
     "output_type": "execute_result"
    }
   ],
   "source": [
    "sid = spec_data['specobjid']\n",
    "len(np.unique(sid)), len(sid)"
   ]
  },
  {
   "cell_type": "markdown",
   "metadata": {},
   "source": [
    "Hmm... far to few specobjids.  Probably whatever converted to a float above also led to some mis-casting of the ID's.  So we'll fall back on doing matching based on sky coordinates."
   ]
  },
  {
   "cell_type": "code",
   "execution_count": 7,
   "metadata": {
    "collapsed": true
   },
   "outputs": [],
   "source": [
    "scs = SkyCoord(spec_data['RA'], spec_data['DEC'], unit=u.deg)"
   ]
  },
  {
   "cell_type": "markdown",
   "metadata": {},
   "source": [
    "This identifies all pairs if coordinates that are within 5\" of each other:"
   ]
  },
  {
   "cell_type": "code",
   "execution_count": 73,
   "metadata": {
    "collapsed": false
   },
   "outputs": [],
   "source": [
    "idx1, idx2, sep2d, _ = scs.search_around_sky(scs, 5*u.arcsec)"
   ]
  },
  {
   "cell_type": "markdown",
   "metadata": {},
   "source": [
    "Because we matched `scs` to itself, this list also inclues \"self-matches\" where the pairs are an object and itself. But we want these to make sure we get the single-object \"groups\""
   ]
  },
  {
   "cell_type": "markdown",
   "metadata": {},
   "source": [
    "## Are they really groups? "
   ]
  },
  {
   "cell_type": "code",
   "execution_count": 70,
   "metadata": {
    "collapsed": false
   },
   "outputs": [
    {
     "data": {
      "image/png": "[encoded data removed]",
      "text/plain": [
       "<matplotlib.figure.Figure at 0x1123cf490>"
      ]
     },
     "metadata": {},
     "output_type": "display_data"
    }
   ],
   "source": [
    "fig, (ax1, ax2) = plt.subplots(1, 2)\n",
    "ax1.hist(sep2d.to(u.arcsec).value, bins=100, range=(0, 5), histtype='step', log=True)\n",
    "plt.xlim(0, 5)\n",
    "ax2.hist(sep2d.to(u.arcsec).value, bins=100, range=(0, .4), histtype='step', log=True)\n",
    "plt.xlim(0, .4)\n",
    "plt.tight_layout()"
   ]
  },
  {
   "cell_type": "markdown",
   "metadata": {},
   "source": [
    "Lets have a quick look at the things that are between $.1\"$ and $.2\"$ to see if they are matches or shreds"
   ]
  },
  {
   "cell_type": "code",
   "execution_count": 20,
   "metadata": {
    "collapsed": false,
    "scrolled": true
   },
   "outputs": [
    {
     "name": "stdout",
     "output_type": "stream",
     "text": [
      "name ra dec\n",
      "0 248.076666667 19.3809722222\n",
      "1 336.039764404 -3.299919367\n",
      "2 353.780353646 0.0162147056022\n",
      "3 354.406481925 0.0606189347248\n",
      "4 248.043398978 19.4305458189\n",
      "5 336.050289268 -3.37655487826\n",
      "6 335.900403508 -3.74021119083\n",
      "7 248.076666667 19.3809722222\n",
      "8 247.967138295 20.2170449843\n",
      "9 234.510855675 16.398269653\n",
      "10 336.289212668 -3.29616889961\n",
      "11 247.825839103 20.2108253139\n",
      "12 353.867443231 -0.105538825863\n",
      "13 248.497123725 19.917322159\n",
      "14 353.8891983 0.699123025\n",
      "15 354.319335044 0.336727296198\n",
      "16 335.720552057 -3.25720776954\n",
      "17 248.131634478 19.9158410714\n",
      "18 353.997046285 0.091902430339\n",
      "19 233.85302067 17.105213165\n",
      "20 248.010864255 19.340158463\n",
      "21 248.509729327 19.6240336663\n",
      "22 247.95204162 19.474237442\n",
      "23 248.13162804 19.915813446\n",
      "24 353.734649658 0.384463876\n",
      "name ra dec\n",
      "0 248.07663053 19.3809849697\n",
      "1 336.03980414 -3.29989312528\n",
      "2 353.780303955 0.016202778\n",
      "3 354.406433105 0.060636107\n",
      "4 248.043365475 19.43053627\n",
      "5 336.050262451 -3.376574755\n",
      "6 335.900360107 -3.74021101\n",
      "7 248.07661056 19.380975723\n",
      "8 247.96717644 20.217046738\n",
      "9 234.510818481 16.398267746\n",
      "10 336.28918457 -3.29618597\n",
      "11 247.825846903 20.2108570401\n",
      "12 353.867401123 -0.105511107\n",
      "13 248.497083333 19.9173333333\n",
      "14 353.889169695 0.699127018\n",
      "15 354.31930542 0.336699992\n",
      "16 335.72052002 -3.257227659\n",
      "17 248.131666667 19.9158055556\n",
      "18 353.997009277 0.091916658\n",
      "19 233.852981567 17.105213165\n",
      "20 248.010833333 19.3401666667\n",
      "21 248.50971222 19.624008179\n",
      "22 247.952069505 19.4742624987\n",
      "23 248.131634478 19.9158410714\n",
      "24 353.73468891 0.384454680533\n"
     ]
    }
   ],
   "source": [
    "msk = (.1*u.arcsec<sep2d)&(sep2d<.2*u.arcsec)\n",
    "random25 = np.random.permutation(np.sum(msk))[:25]\n",
    "\n",
    "scs1 = scs[idx1[msk][random25]]\n",
    "scs2 = scs[idx2[msk][random25]]\n",
    "\n",
    "print(targeting.sampled_imagelist(scs1, None, n=len(scs1)))\n",
    "print(targeting.sampled_imagelist(scs2, None, n=len(scs2)))"
   ]
  },
  {
   "cell_type": "markdown",
   "metadata": {},
   "source": [
    "Inspection of these reveals them to be the same objects. Most be difference between different DR's or similar.  So we define matches as simply anything within $.4\"$"
   ]
  },
  {
   "cell_type": "code",
   "execution_count": 74,
   "metadata": {
    "collapsed": false
   },
   "outputs": [
    {
     "data": {
      "text/plain": [
       "(123771, 123771, 95475, 91696)"
      ]
     },
     "execution_count": 74,
     "metadata": {},
     "output_type": "execute_result"
    }
   ],
   "source": [
    "grpdct = {}\n",
    "grpi = 0\n",
    "for i1, i2 in zip(idx1, idx2):\n",
    "    if i1 in grpdct:\n",
    "        if i2 in grpdct:\n",
    "            # combine the two groups by assigning grp2 items to grp1\n",
    "            \n",
    "            # this block is by far the slowest part so if the data size grows it should be optimized\n",
    "            grp1 = grpdct[i1]\n",
    "            grp2 = grpdct[i2]\n",
    "            if grp1 != grp2:\n",
    "                to_set_to_1 = [i for i, grp in grpdct.iteritems() if grp==grp2]\n",
    "                for i in to_set_to_1:\n",
    "                    grpdct[i] = grp1\n",
    "        else:\n",
    "            #add i2 to the group i1 is already in\n",
    "            grpdct[i2] = grpdct[i1]\n",
    "    else:\n",
    "        if i2 in grpdct:\n",
    "            #add i1 to the group i2 is already in\n",
    "            grpdct[i2] = grpdct[i1]\n",
    "        else:\n",
    "            # add them both to a new group\n",
    "            grpdct[i1] = grpdct[i2] = grpi\n",
    "            grpi += 1\n",
    "            \n",
    "len(idx1), len(idx2), len(np.unique(grpdct.keys())), len(np.unique(grpdct.values()))"
   ]
  },
  {
   "cell_type": "markdown",
   "metadata": {},
   "source": [
    "# Now convert the lists of pairs into groups "
   ]
  },
  {
   "cell_type": "code",
   "execution_count": 75,
   "metadata": {
    "collapsed": false
   },
   "outputs": [],
   "source": [
    "grpnum_to_group_members = collections.defaultdict(list)\n",
    "for k, v in grpdct.iteritems():\n",
    "    grpnum_to_group_members[v].append(k)\n",
    "    \n",
    "# convert the members into arrays\n",
    "grpnum_to_group_members = {k:np.array(v) for k, v in grpnum_to_group_members.iteritems()}"
   ]
  },
  {
   "cell_type": "code",
   "execution_count": 78,
   "metadata": {
    "collapsed": false
   },
   "outputs": [
    {
     "data": {
      "text/plain": [
       "{1: 88822,\n",
       " 2: 2460,\n",
       " 3: 293,\n",
       " 4: 79,\n",
       " 5: 19,\n",
       " 6: 6,\n",
       " 7: 5,\n",
       " 8: 1,\n",
       " 9: 2,\n",
       " 10: 3,\n",
       " 13: 1,\n",
       " 34: 1,\n",
       " 54: 1,\n",
       " 64: 1,\n",
       " 72: 1,\n",
       " 79: 1}"
      ]
     },
     "execution_count": 78,
     "metadata": {},
     "output_type": "execute_result"
    }
   ],
   "source": [
    "# this counts how many have a certain number of elements in their group\n",
    "counts = np.bincount([len(arr) for arr in grpnum_to_group_members.values()])\n",
    "{i:c  for i, c in enumerate(counts) if c != 0}"
   ]
  },
  {
   "cell_type": "markdown",
   "metadata": {},
   "source": [
    "79 seems like a lot... What's the deal with the big ones that have just one group?"
   ]
  },
  {
   "cell_type": "code",
   "execution_count": 93,
   "metadata": {
    "collapsed": false
   },
   "outputs": [
    {
     "data": {
      "text/plain": [
       "{13: 75463, 34: 1419, 54: 1421, 64: 1420, 72: 1422, 79: 1423}"
      ]
     },
     "execution_count": 93,
     "metadata": {},
     "output_type": "execute_result"
    }
   ],
   "source": [
    "grps_with_1 = {len(arr): idx for idx, arr in grpnum_to_group_members.iteritems() if len(arr)>10}\n",
    "grps_with_1"
   ]
  },
  {
   "cell_type": "code",
   "execution_count": 99,
   "metadata": {
    "collapsed": false
   },
   "outputs": [
    {
     "data": {
      "text/html": [
       "&lt;Table masked=True length=54&gt;\n",
       "<table id=\"table4574730128\" class=\"table-striped table-bordered table-condensed\">\n",
       "<thead><tr><th>RA</th><th>DEC</th><th>MASKNAME</th><th>specobjid</th><th>SPEC_Z</th><th>ZQUALITY</th><th>TELNAME</th><th>SPEC_REPEAT</th></tr></thead>\n",
       "<thead><tr><th>float64</th><th>float64</th><th>str80</th><th>int64</th><th>float64</th><th>int64</th><th>str6</th><th>str6</th></tr></thead>\n",
       "<tr><td>353.919158936</td><td>0.228027776</td><td>AnaK_3_01_</td><td>1</td><td>0.196245</td><td>4</td><td>IMACS</td><td>IMACS</td></tr>\n",
       "<tr><td>353.919158936</td><td>0.228027776</td><td>AnaK_3_02_</td><td>2</td><td>0.196245</td><td>3</td><td>IMACS</td><td>IMACS</td></tr>\n",
       "<tr><td>353.919158936</td><td>0.228027776</td><td>AnaK_3_03_</td><td>3</td><td>0.218765</td><td>4</td><td>IMACS</td><td>IMACS</td></tr>\n",
       "<tr><td>353.919158936</td><td>0.228027776</td><td>AnaK_3_04_</td><td>4</td><td>0.213724</td><td>1</td><td>IMACS</td><td>IMACS</td></tr>\n",
       "<tr><td>353.919158936</td><td>0.228027776</td><td>AnaK_3_05_</td><td>5</td><td>0.08898</td><td>3</td><td>IMACS</td><td>IMACS</td></tr>\n",
       "<tr><td>353.919158936</td><td>0.228027776</td><td>AnaK_3_08_</td><td>8</td><td>0.009299</td><td>3</td><td>IMACS</td><td>IMACS</td></tr>\n",
       "<tr><td>353.919158936</td><td>0.228027776</td><td>AnaK_3_09_</td><td>9</td><td>0.56286</td><td>4</td><td>IMACS</td><td>IMACS</td></tr>\n",
       "<tr><td>353.919158936</td><td>0.228027776</td><td>AnaK_3_10_</td><td>10</td><td>0.75</td><td>2</td><td>IMACS</td><td>IMACS</td></tr>\n",
       "<tr><td>353.919158936</td><td>0.228027776</td><td>AnaK_3_13_</td><td>13</td><td>0.071815</td><td>4</td><td>IMACS</td><td>IMACS</td></tr>\n",
       "<tr><td>353.919158936</td><td>0.228027776</td><td>AnaK_3_15_</td><td>15</td><td>0.369683</td><td>4</td><td>IMACS</td><td>IMACS</td></tr>\n",
       "<tr><td>...</td><td>...</td><td>...</td><td>...</td><td>...</td><td>...</td><td>...</td><td>...</td></tr>\n",
       "<tr><td>353.919158936</td><td>0.228027776</td><td>AnaK_3_69_</td><td>67</td><td>0.279146</td><td>4</td><td>IMACS</td><td>IMACS</td></tr>\n",
       "<tr><td>353.919158936</td><td>0.228027776</td><td>AnaK_3_72_</td><td>70</td><td>0.215402</td><td>4</td><td>IMACS</td><td>IMACS</td></tr>\n",
       "<tr><td>353.919158936</td><td>0.228027776</td><td>AnaK_3_73_</td><td>71</td><td>0.277</td><td>4</td><td>IMACS</td><td>IMACS</td></tr>\n",
       "<tr><td>353.919158936</td><td>0.228027776</td><td>AnaK_3_74_</td><td>72</td><td>0.13115</td><td>4</td><td>IMACS</td><td>IMACS</td></tr>\n",
       "<tr><td>353.919158936</td><td>0.228027776</td><td>AnaK_3_75_</td><td>73</td><td>0.243426</td><td>3</td><td>IMACS</td><td>IMACS</td></tr>\n",
       "<tr><td>353.919158936</td><td>0.228027776</td><td>AnaK_3_77_</td><td>74</td><td>0.226366</td><td>4</td><td>IMACS</td><td>IMACS</td></tr>\n",
       "<tr><td>353.919158936</td><td>0.228027776</td><td>AnaK_3_78_</td><td>75</td><td>0.083727</td><td>4</td><td>IMACS</td><td>IMACS</td></tr>\n",
       "<tr><td>353.919158936</td><td>0.228027776</td><td>AnaK_3_86_</td><td>82</td><td>0.278262</td><td>4</td><td>IMACS</td><td>IMACS</td></tr>\n",
       "<tr><td>353.919158936</td><td>0.228027776</td><td>AnaK_3_90_</td><td>86</td><td>0.214563</td><td>3</td><td>IMACS</td><td>IMACS</td></tr>\n",
       "<tr><td>353.919158936</td><td>0.228027776</td><td>AnaK_3_94_</td><td>90</td><td>0.511889</td><td>4</td><td>IMACS</td><td>IMACS</td></tr>\n",
       "</table>"
      ],
      "text/plain": [
       "<Table masked=True length=54>\n",
       "      RA          DEC      MASKNAME  specobjid ... ZQUALITY TELNAME SPEC_REPEAT\n",
       "   float64      float64     str80      int64   ...  int64     str6      str6   \n",
       "------------- ----------- ---------- --------- ... -------- ------- -----------\n",
       "353.919158936 0.228027776 AnaK_3_01_         1 ...        4   IMACS       IMACS\n",
       "353.919158936 0.228027776 AnaK_3_02_         2 ...        3   IMACS       IMACS\n",
       "353.919158936 0.228027776 AnaK_3_03_         3 ...        4   IMACS       IMACS\n",
       "353.919158936 0.228027776 AnaK_3_04_         4 ...        1   IMACS       IMACS\n",
       "353.919158936 0.228027776 AnaK_3_05_         5 ...        3   IMACS       IMACS\n",
       "353.919158936 0.228027776 AnaK_3_08_         8 ...        3   IMACS       IMACS\n",
       "353.919158936 0.228027776 AnaK_3_09_         9 ...        4   IMACS       IMACS\n",
       "353.919158936 0.228027776 AnaK_3_10_        10 ...        2   IMACS       IMACS\n",
       "353.919158936 0.228027776 AnaK_3_13_        13 ...        4   IMACS       IMACS\n",
       "353.919158936 0.228027776 AnaK_3_15_        15 ...        4   IMACS       IMACS\n",
       "          ...         ...        ...       ... ...      ...     ...         ...\n",
       "353.919158936 0.228027776 AnaK_3_69_        67 ...        4   IMACS       IMACS\n",
       "353.919158936 0.228027776 AnaK_3_72_        70 ...        4   IMACS       IMACS\n",
       "353.919158936 0.228027776 AnaK_3_73_        71 ...        4   IMACS       IMACS\n",
       "353.919158936 0.228027776 AnaK_3_74_        72 ...        4   IMACS       IMACS\n",
       "353.919158936 0.228027776 AnaK_3_75_        73 ...        3   IMACS       IMACS\n",
       "353.919158936 0.228027776 AnaK_3_77_        74 ...        4   IMACS       IMACS\n",
       "353.919158936 0.228027776 AnaK_3_78_        75 ...        4   IMACS       IMACS\n",
       "353.919158936 0.228027776 AnaK_3_86_        82 ...        4   IMACS       IMACS\n",
       "353.919158936 0.228027776 AnaK_3_90_        86 ...        3   IMACS       IMACS\n",
       "353.919158936 0.228027776 AnaK_3_94_        90 ...        4   IMACS       IMACS"
      ]
     },
     "execution_count": 99,
     "metadata": {},
     "output_type": "execute_result"
    }
   ],
   "source": [
    "spec_data[grpnum_to_group_members[grps_with_1.values()[-1]]]"
   ]
  },
  {
   "cell_type": "markdown",
   "metadata": {},
   "source": [
    "The above is just an example but the all seem to be IMACS targets...?  For now we'll just ignore all IMACS entries"
   ]
  },
  {
   "cell_type": "code",
   "execution_count": 152,
   "metadata": {
    "collapsed": false
   },
   "outputs": [],
   "source": [
    "idxs_to_keep = []\n",
    "new_repeats = []\n",
    "for grpnum, members in grpnum_to_group_members.iteritems():\n",
    "    notimacs_members =  members[spec_data['TELNAME'][members]!='IMACS']\n",
    "    if len(notimacs_members)==0:\n",
    "        continue\n",
    "\n",
    "    idxs_to_keep.append(notimacs_members[np.argsort(spec_data['ZQUALITY'][notimacs_members])[0]])\n",
    "    new_repeats.append('+'.join(np.unique(spec_data['SPEC_REPEAT'][notimacs_members])))"
   ]
  },
  {
   "cell_type": "code",
   "execution_count": 153,
   "metadata": {
    "collapsed": false
   },
   "outputs": [
    {
     "data": {
      "text/html": [
       "&lt;Table masked=True length=91105&gt;\n",
       "<table id=\"table4626094352\" class=\"table-striped table-bordered table-condensed\">\n",
       "<thead><tr><th>RA</th><th>DEC</th><th>MASKNAME</th><th>specobjid</th><th>SPEC_Z</th><th>ZQUALITY</th><th>TELNAME</th><th>SPEC_REPEAT</th></tr></thead>\n",
       "<thead><tr><th>float64</th><th>float64</th><th>str80</th><th>int64</th><th>float64</th><th>int64</th><th>str6</th><th>str15</th></tr></thead>\n",
       "<tr><td>136.045125</td><td>25.1698611111</td><td>/Spectra/Final/WIYN/zspec.Beowulf_1.fits.gz</td><td>98</td><td>0.0907368659973</td><td>4</td><td>WIYN</td><td>WIYN</td></tr>\n",
       "<tr><td>136.23275</td><td>25.6625555556</td><td>/Spectra/Final/WIYN/zspec.Beowulf_1.fits.gz</td><td>88</td><td>0.0832283496857</td><td>4</td><td>WIYN</td><td>WIYN</td></tr>\n",
       "<tr><td>136.503833333</td><td>25.4698055556</td><td>/Spectra/Final/WIYN/zspec.Beowulf_1.fits.gz</td><td>84</td><td>0.0095317363739</td><td>4</td><td>WIYN</td><td>WIYN</td></tr>\n",
       "<tr><td>136.879625</td><td>25.1723055556</td><td>/Spectra/Final/WIYN/zspec.Beowulf_1.fits.gz</td><td>83</td><td>0.084725856781</td><td>4</td><td>WIYN</td><td>WIYN</td></tr>\n",
       "<tr><td>136.182541667</td><td>25.3763611111</td><td>/Spectra/Final/WIYN/zspec.Beowulf_1.fits.gz</td><td>82</td><td>0.183461755514</td><td>3</td><td>WIYN</td><td>WIYN</td></tr>\n",
       "<tr><td>136.421875</td><td>25.5417777778</td><td>/Spectra/Final/WIYN/zspec.Beowulf_1.fits.gz</td><td>81</td><td>0.0095317363739</td><td>4</td><td>WIYN</td><td>WIYN</td></tr>\n",
       "<tr><td>136.466416667</td><td>25.3593055556</td><td>/Spectra/Final/WIYN/zspec.Beowulf_1.fits.gz</td><td>80</td><td>0.0862255096436</td><td>4</td><td>WIYN</td><td>WIYN</td></tr>\n",
       "<tr><td>136.541083333</td><td>25.4299722222</td><td>/Spectra/Final/WIYN/zspec.Beowulf_1.fits.gz</td><td>78</td><td>0.0088347196579</td><td>4</td><td>WIYN</td><td>WIYN</td></tr>\n",
       "<tr><td>136.252791667</td><td>25.2895</td><td>/Spectra/Final/WIYN/zspec.Beowulf_1.fits.gz</td><td>73</td><td>0.0533706918359</td><td>4</td><td>WIYN</td><td>WIYN</td></tr>\n",
       "<tr><td>136.34175</td><td>25.0140555556</td><td>/Spectra/Final/WIYN/zspec.Beowulf_1.fits.gz</td><td>71</td><td>0.0200465917587</td><td>4</td><td>WIYN</td><td>WIYN</td></tr>\n",
       "<tr><td>...</td><td>...</td><td>...</td><td>...</td><td>...</td><td>...</td><td>...</td><td>...</td></tr>\n",
       "<tr><td>249.003275172</td><td>19.9837365701</td><td>/Spectra/Final/AAT/Odyssey_1_MG.mz</td><td>383</td><td>0.13199</td><td>3</td><td>AAT</td><td>AAT</td></tr>\n",
       "<tr><td>248.611085561</td><td>19.9338319462</td><td>/Spectra/Final/AAT/Odyssey_1_MG.mz</td><td>384</td><td>0.28428</td><td>3</td><td>AAT</td><td>AAT</td></tr>\n",
       "<tr><td>249.014963511</td><td>20.0107801781</td><td>/Spectra/Final/AAT/Odyssey_1_MG.mz</td><td>385</td><td>0.50081</td><td>3</td><td>AAT</td><td>AAT</td></tr>\n",
       "<tr><td>248.687861906</td><td>19.8934957174</td><td>/Spectra/Final/AAT/Odyssey_1_MG.mz</td><td>386</td><td>-0.00021</td><td>4</td><td>AAT</td><td>AAT</td></tr>\n",
       "<tr><td>249.097698617</td><td>19.9893515565</td><td>/Spectra/Final/AAT/Odyssey_1_MG.mz</td><td>387</td><td>0.39136</td><td>3</td><td>AAT</td><td>AAT</td></tr>\n",
       "<tr><td>249.052664134</td><td>19.9762881188</td><td>/Spectra/Final/AAT/Odyssey_1_MG.mz</td><td>389</td><td>0.28594</td><td>4</td><td>AAT</td><td>AAT</td></tr>\n",
       "<tr><td>248.854764511</td><td>19.9548594973</td><td>/Spectra/Final/AAT/Odyssey_1_MG.mz</td><td>393</td><td>-2e-05</td><td>4</td><td>AAT</td><td>AAT</td></tr>\n",
       "<tr><td>249.010952806</td><td>19.903465183</td><td>/Spectra/Final/AAT/Odyssey_1_MG.mz</td><td>395</td><td>0.17783</td><td>4</td><td>AAT</td><td>AAT</td></tr>\n",
       "<tr><td>248.663396608</td><td>19.8139118797</td><td>/Spectra/Final/AAT/Odyssey_1_MG.mz</td><td>398</td><td>0.06117</td><td>1</td><td>AAT</td><td>AAT</td></tr>\n",
       "<tr><td>248.444297547</td><td>19.8233083875</td><td>/Spectra/Final/AAT/Odyssey_1_MG.mz</td><td>399</td><td>0.17855</td><td>2</td><td>AAT</td><td>AAT</td></tr>\n",
       "</table>"
      ],
      "text/plain": [
       "<Table masked=True length=91105>\n",
       "      RA           DEC      ... TELNAME SPEC_REPEAT\n",
       "   float64       float64    ...   str6     str15   \n",
       "------------- ------------- ... ------- -----------\n",
       "   136.045125 25.1698611111 ...    WIYN        WIYN\n",
       "    136.23275 25.6625555556 ...    WIYN        WIYN\n",
       "136.503833333 25.4698055556 ...    WIYN        WIYN\n",
       "   136.879625 25.1723055556 ...    WIYN        WIYN\n",
       "136.182541667 25.3763611111 ...    WIYN        WIYN\n",
       "   136.421875 25.5417777778 ...    WIYN        WIYN\n",
       "136.466416667 25.3593055556 ...    WIYN        WIYN\n",
       "136.541083333 25.4299722222 ...    WIYN        WIYN\n",
       "136.252791667       25.2895 ...    WIYN        WIYN\n",
       "    136.34175 25.0140555556 ...    WIYN        WIYN\n",
       "          ...           ... ...     ...         ...\n",
       "249.003275172 19.9837365701 ...     AAT         AAT\n",
       "248.611085561 19.9338319462 ...     AAT         AAT\n",
       "249.014963511 20.0107801781 ...     AAT         AAT\n",
       "248.687861906 19.8934957174 ...     AAT         AAT\n",
       "249.097698617 19.9893515565 ...     AAT         AAT\n",
       "249.052664134 19.9762881188 ...     AAT         AAT\n",
       "248.854764511 19.9548594973 ...     AAT         AAT\n",
       "249.010952806  19.903465183 ...     AAT         AAT\n",
       "248.663396608 19.8139118797 ...     AAT         AAT\n",
       "248.444297547 19.8233083875 ...     AAT         AAT"
      ]
     },
     "execution_count": 153,
     "metadata": {},
     "output_type": "execute_result"
    }
   ],
   "source": [
    "unique_objs = spec_data[np.array(idxs_to_keep)]\n",
    "del unique_objs['SPEC_REPEAT']\n",
    "unique_objs['SPEC_REPEAT'] = new_repeats\n",
    "unique_objs"
   ]
  },
  {
   "cell_type": "code",
   "execution_count": 154,
   "metadata": {
    "collapsed": false
   },
   "outputs": [
    {
     "data": {
      "text/html": [
       "&lt;MaskedColumn name=&apos;SPEC_REPEAT&apos; dtype=&apos;str15&apos; length=13&gt;\n",
       "<table>\n",
       "<tr><td>AAT</td></tr>\n",
       "<tr><td>AAT+DEIMOS+WIYN</td></tr>\n",
       "<tr><td>AAT+GAMA</td></tr>\n",
       "<tr><td>AAT+MMT</td></tr>\n",
       "<tr><td>AAT+MMT+WIYN</td></tr>\n",
       "<tr><td>AAT+WIYN</td></tr>\n",
       "<tr><td>DEIMOS</td></tr>\n",
       "<tr><td>DEIMOS+MMT</td></tr>\n",
       "<tr><td>GAMA</td></tr>\n",
       "<tr><td>GAMA+MMT</td></tr>\n",
       "<tr><td>MMT</td></tr>\n",
       "<tr><td>MMT+WIYN</td></tr>\n",
       "<tr><td>WIYN</td></tr>\n",
       "</table>"
      ],
      "text/plain": [
       "<MaskedColumn name='SPEC_REPEAT' dtype='str15' length=13>\n",
       "            AAT\n",
       "AAT+DEIMOS+WIYN\n",
       "       AAT+GAMA\n",
       "        AAT+MMT\n",
       "   AAT+MMT+WIYN\n",
       "       AAT+WIYN\n",
       "         DEIMOS\n",
       "     DEIMOS+MMT\n",
       "           GAMA\n",
       "       GAMA+MMT\n",
       "            MMT\n",
       "       MMT+WIYN\n",
       "           WIYN"
      ]
     },
     "execution_count": 154,
     "metadata": {},
     "output_type": "execute_result"
    }
   ],
   "source": [
    "# double check that you sometimes get a combination of them together\n",
    "np.unique(unique_objs['SPEC_REPEAT'])"
   ]
  },
  {
   "cell_type": "markdown",
   "metadata": {},
   "source": [
    "# Final Function"
   ]
  },
  {
   "cell_type": "markdown",
   "metadata": {},
   "source": [
    "The function below just combines all the steps above into one function"
   ]
  },
  {
   "cell_type": "code",
   "execution_count": 1,
   "metadata": {
    "collapsed": true
   },
   "outputs": [],
   "source": [
    "from __future__ import print_function, division\n",
    "\n",
    "import collections\n",
    "\n",
    "import numpy as np\n",
    "\n",
    "from astropy import units as u\n",
    "from astropy import table\n",
    "from astropy.coordinates import SkyCoord"
   ]
  },
  {
   "cell_type": "code",
   "execution_count": 2,
   "metadata": {
    "collapsed": false,
    "scrolled": false
   },
   "outputs": [
    {
     "name": "stderr",
     "output_type": "stream",
     "text": [
      "/Users/erik/miniconda3/envs/anaconda2/lib/python2.7/site-packages/astropy/table/column.py:1095: MaskedArrayFutureWarning: setting an item on a masked array which has a shared mask will not copy the mask and also change the original mask array in the future.\n",
      "Check the NumPy 1.11 release notes for more information.\n",
      "  ma.MaskedArray.__setitem__(self, index, value)\n"
     ]
    }
   ],
   "source": [
    "def find_uniques(infn='saga_spectra_raw.fits.gz', remove_imacs=True, nearenough_sep=5*u.arcsec):\n",
    "    spec_data_raw = table.Table.read(infn)\n",
    "    \n",
    "    if spec_data_raw['specobjid'].dtype.kind == 'i':\n",
    "        spec_data = spec_data_raw\n",
    "    else:\n",
    "        #if the specobjid is not an int, convert the type of that column while retaining the value\n",
    "        spec_data = spec_data_raw.copy()\n",
    "        spec_data['specobjid'].dtype = int\n",
    "        spec_data['specobjid'] = spec_data_raw['specobjid'].astype(int)\n",
    "\n",
    "    scs = SkyCoord(spec_data['RA'], spec_data['DEC'], unit=u.deg)\n",
    "    idx1, idx2, sep2d, _ = scs.search_around_sky(scs, nearenough_sep)\n",
    "    \n",
    "    # now contruct the groups from the pairs\n",
    "    grpdct = {}\n",
    "    grpi = 0\n",
    "    for i1, i2 in zip(idx1, idx2):\n",
    "        if i1 in grpdct:\n",
    "            if i2 in grpdct:\n",
    "                # combine the two groups by assigning grp2 items to grp1\n",
    "\n",
    "                # this block is by far the slowest part so if the data size grows it should be optimized\n",
    "                grp1 = grpdct[i1]\n",
    "                grp2 = grpdct[i2]\n",
    "                if grp1 != grp2:\n",
    "                    to_set_to_1 = [i for i, grp in grpdct.iteritems() if grp==grp2]\n",
    "                    for i in to_set_to_1:\n",
    "                        grpdct[i] = grp1\n",
    "            else:\n",
    "                #add i2 to the group i1 is already in\n",
    "                grpdct[i2] = grpdct[i1]\n",
    "        else:\n",
    "            if i2 in grpdct:\n",
    "                #add i1 to the group i2 is already in\n",
    "                grpdct[i2] = grpdct[i1]\n",
    "            else:\n",
    "                # add them both to a new group\n",
    "                grpdct[i1] = grpdct[i2] = grpi\n",
    "                grpi += 1\n",
    "                \n",
    "    grpnum_to_group_members = collections.defaultdict(list)\n",
    "    for k, v in grpdct.iteritems():\n",
    "        grpnum_to_group_members[v].append(k)\n",
    "    # convert the members into arrays\n",
    "    grpnum_to_group_members = {k:np.array(v) for k, v in grpnum_to_group_members.iteritems()}\n",
    "    \n",
    "    # identify which is the \"best\" spectrum (meaning the first zq=4 spectrum)\n",
    "    idxs_to_keep = []\n",
    "    new_repeats = []\n",
    "    for grpnum, allmembers in grpnum_to_group_members.iteritems():\n",
    "        if remove_imacs:\n",
    "            members =  allmembers[spec_data['TELNAME'][allmembers]!='IMACS']\n",
    "            if len(members)==0:\n",
    "                continue\n",
    "        else:\n",
    "            members = allmembers\n",
    "            \n",
    "        idxs_to_keep.append(members[np.argsort(spec_data['ZQUALITY'][members])[0]])\n",
    "        new_repeats.append('+'.join(np.unique(spec_data['SPEC_REPEAT'][members])))\n",
    "    \n",
    "    # now build the output table from the input\n",
    "    unique_objs = spec_data[np.array(idxs_to_keep)]\n",
    "    del unique_objs['SPEC_REPEAT']\n",
    "    unique_objs['SPEC_REPEAT'] = new_repeats\n",
    "    \n",
    "    return unique_objs\n",
    "\n",
    "uniq_objs = find_uniques('../saga_spectra_raw.fits.gz')"
   ]
  },
  {
   "cell_type": "code",
   "execution_count": 3,
   "metadata": {
    "collapsed": false
   },
   "outputs": [
    {
     "data": {
      "text/html": [
       "&lt;Table masked=True length=91105&gt;\n",
       "<table id=\"table4494763472\" class=\"table-striped table-bordered table-condensed\">\n",
       "<thead><tr><th>RA</th><th>DEC</th><th>MASKNAME</th><th>specobjid</th><th>SPEC_Z</th><th>ZQUALITY</th><th>TELNAME</th><th>SPEC_REPEAT</th></tr></thead>\n",
       "<thead><tr><th>float64</th><th>float64</th><th>str80</th><th>int64</th><th>float64</th><th>int64</th><th>str6</th><th>str15</th></tr></thead>\n",
       "<tr><td>136.045125</td><td>25.1698611111</td><td>/Spectra/Final/WIYN/zspec.Beowulf_1.fits.gz</td><td>98</td><td>0.0907368659973</td><td>4</td><td>WIYN</td><td>WIYN</td></tr>\n",
       "<tr><td>136.23275</td><td>25.6625555556</td><td>/Spectra/Final/WIYN/zspec.Beowulf_1.fits.gz</td><td>88</td><td>0.0832283496857</td><td>4</td><td>WIYN</td><td>WIYN</td></tr>\n",
       "<tr><td>136.503833333</td><td>25.4698055556</td><td>/Spectra/Final/WIYN/zspec.Beowulf_1.fits.gz</td><td>84</td><td>0.0095317363739</td><td>4</td><td>WIYN</td><td>WIYN</td></tr>\n",
       "<tr><td>136.879625</td><td>25.1723055556</td><td>/Spectra/Final/WIYN/zspec.Beowulf_1.fits.gz</td><td>83</td><td>0.084725856781</td><td>4</td><td>WIYN</td><td>WIYN</td></tr>\n",
       "<tr><td>136.182541667</td><td>25.3763611111</td><td>/Spectra/Final/WIYN/zspec.Beowulf_1.fits.gz</td><td>82</td><td>0.183461755514</td><td>3</td><td>WIYN</td><td>WIYN</td></tr>\n",
       "<tr><td>136.421875</td><td>25.5417777778</td><td>/Spectra/Final/WIYN/zspec.Beowulf_1.fits.gz</td><td>81</td><td>0.0095317363739</td><td>4</td><td>WIYN</td><td>WIYN</td></tr>\n",
       "<tr><td>136.466416667</td><td>25.3593055556</td><td>/Spectra/Final/WIYN/zspec.Beowulf_1.fits.gz</td><td>80</td><td>0.0862255096436</td><td>4</td><td>WIYN</td><td>WIYN</td></tr>\n",
       "<tr><td>136.541083333</td><td>25.4299722222</td><td>/Spectra/Final/WIYN/zspec.Beowulf_1.fits.gz</td><td>78</td><td>0.0088347196579</td><td>4</td><td>WIYN</td><td>WIYN</td></tr>\n",
       "<tr><td>136.252791667</td><td>25.2895</td><td>/Spectra/Final/WIYN/zspec.Beowulf_1.fits.gz</td><td>73</td><td>0.0533706918359</td><td>4</td><td>WIYN</td><td>WIYN</td></tr>\n",
       "<tr><td>136.34175</td><td>25.0140555556</td><td>/Spectra/Final/WIYN/zspec.Beowulf_1.fits.gz</td><td>71</td><td>0.0200465917587</td><td>4</td><td>WIYN</td><td>WIYN</td></tr>\n",
       "<tr><td>...</td><td>...</td><td>...</td><td>...</td><td>...</td><td>...</td><td>...</td><td>...</td></tr>\n",
       "<tr><td>249.003275172</td><td>19.9837365701</td><td>/Spectra/Final/AAT/Odyssey_1_MG.mz</td><td>383</td><td>0.13199</td><td>3</td><td>AAT</td><td>AAT</td></tr>\n",
       "<tr><td>248.611085561</td><td>19.9338319462</td><td>/Spectra/Final/AAT/Odyssey_1_MG.mz</td><td>384</td><td>0.28428</td><td>3</td><td>AAT</td><td>AAT</td></tr>\n",
       "<tr><td>249.014963511</td><td>20.0107801781</td><td>/Spectra/Final/AAT/Odyssey_1_MG.mz</td><td>385</td><td>0.50081</td><td>3</td><td>AAT</td><td>AAT</td></tr>\n",
       "<tr><td>248.687861906</td><td>19.8934957174</td><td>/Spectra/Final/AAT/Odyssey_1_MG.mz</td><td>386</td><td>-0.00021</td><td>4</td><td>AAT</td><td>AAT</td></tr>\n",
       "<tr><td>249.097698617</td><td>19.9893515565</td><td>/Spectra/Final/AAT/Odyssey_1_MG.mz</td><td>387</td><td>0.39136</td><td>3</td><td>AAT</td><td>AAT</td></tr>\n",
       "<tr><td>249.052664134</td><td>19.9762881188</td><td>/Spectra/Final/AAT/Odyssey_1_MG.mz</td><td>389</td><td>0.28594</td><td>4</td><td>AAT</td><td>AAT</td></tr>\n",
       "<tr><td>248.854764511</td><td>19.9548594973</td><td>/Spectra/Final/AAT/Odyssey_1_MG.mz</td><td>393</td><td>-2e-05</td><td>4</td><td>AAT</td><td>AAT</td></tr>\n",
       "<tr><td>249.010952806</td><td>19.903465183</td><td>/Spectra/Final/AAT/Odyssey_1_MG.mz</td><td>395</td><td>0.17783</td><td>4</td><td>AAT</td><td>AAT</td></tr>\n",
       "<tr><td>248.663396608</td><td>19.8139118797</td><td>/Spectra/Final/AAT/Odyssey_1_MG.mz</td><td>398</td><td>0.06117</td><td>1</td><td>AAT</td><td>AAT</td></tr>\n",
       "<tr><td>248.444297547</td><td>19.8233083875</td><td>/Spectra/Final/AAT/Odyssey_1_MG.mz</td><td>399</td><td>0.17855</td><td>2</td><td>AAT</td><td>AAT</td></tr>\n",
       "</table>"
      ],
      "text/plain": [
       "<Table masked=True length=91105>\n",
       "      RA           DEC      ... TELNAME SPEC_REPEAT\n",
       "   float64       float64    ...   str6     str15   \n",
       "------------- ------------- ... ------- -----------\n",
       "   136.045125 25.1698611111 ...    WIYN        WIYN\n",
       "    136.23275 25.6625555556 ...    WIYN        WIYN\n",
       "136.503833333 25.4698055556 ...    WIYN        WIYN\n",
       "   136.879625 25.1723055556 ...    WIYN        WIYN\n",
       "136.182541667 25.3763611111 ...    WIYN        WIYN\n",
       "   136.421875 25.5417777778 ...    WIYN        WIYN\n",
       "136.466416667 25.3593055556 ...    WIYN        WIYN\n",
       "136.541083333 25.4299722222 ...    WIYN        WIYN\n",
       "136.252791667       25.2895 ...    WIYN        WIYN\n",
       "    136.34175 25.0140555556 ...    WIYN        WIYN\n",
       "          ...           ... ...     ...         ...\n",
       "249.003275172 19.9837365701 ...     AAT         AAT\n",
       "248.611085561 19.9338319462 ...     AAT         AAT\n",
       "249.014963511 20.0107801781 ...     AAT         AAT\n",
       "248.687861906 19.8934957174 ...     AAT         AAT\n",
       "249.097698617 19.9893515565 ...     AAT         AAT\n",
       "249.052664134 19.9762881188 ...     AAT         AAT\n",
       "248.854764511 19.9548594973 ...     AAT         AAT\n",
       "249.010952806  19.903465183 ...     AAT         AAT\n",
       "248.663396608 19.8139118797 ...     AAT         AAT\n",
       "248.444297547 19.8233083875 ...     AAT         AAT"
      ]
     },
     "execution_count": 3,
     "metadata": {},
     "output_type": "execute_result"
    }
   ],
   "source": [
    "uniq_objs"
   ]
  }
 ],
 "metadata": {
  "kernelspec": {
   "display_name": "Python 2",
   "language": "python",
   "name": "python2"
  },
  "language_info": {
   "codemirror_mode": {
    "name": "ipython",
    "version": 2
   },
   "file_extension": ".py",
   "mimetype": "text/x-python",
   "name": "python",
   "nbconvert_exporter": "python",
   "pygments_lexer": "ipython2",
   "version": "2.7.12"
  }
 },
 "nbformat": 4,
 "nbformat_minor": 0
}
