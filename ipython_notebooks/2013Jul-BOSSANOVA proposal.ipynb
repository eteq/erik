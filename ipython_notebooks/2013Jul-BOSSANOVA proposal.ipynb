{
 "metadata": {
  "name": ""
 },
 "nbformat": 3,
 "nbformat_minor": 0,
 "worksheets": [
  {
   "cells": [
    {
     "cell_type": "code",
     "collapsed": false,
     "input": [
      "# This changes the current directory to the base saga directory - make sure to run this first!\n",
      "# This is necessary to be able to import the py files and use the right directories,\n",
      "# while keeping all the notebooks in their own directory.\n",
      "import os\n",
      "import sys\n",
      "\n",
      "if 'saga_base_dir' not in locals():\n",
      "    saga_base_dir = os.path.abspath('..')\n",
      "if sagadir not in sys.path:\n",
      "    os.chdir(saga_base_dir)"
     ],
     "language": "python",
     "metadata": {},
     "outputs": []
    },
    {
     "cell_type": "code",
     "collapsed": false,
     "input": [
      "for module in ['hosts', 'targeting', 'bossanova']:\n",
      "    if module in globals():\n",
      "        reload(globals()[module])\n",
      "    else:\n",
      "        globals()[module] = __import__(module)"
     ],
     "language": "python",
     "metadata": {},
     "outputs": [],
     "prompt_number": 18
    },
    {
     "cell_type": "code",
     "collapsed": false,
     "input": [
      "#need to generate the catalogs using a 1.5 deg radius"
     ],
     "language": "python",
     "metadata": {},
     "outputs": [],
     "prompt_number": 2
    },
    {
     "cell_type": "code",
     "collapsed": false,
     "input": [
      "hs = hosts.load_all_hosts(keyonname=True)"
     ],
     "language": "python",
     "metadata": {},
     "outputs": [],
     "prompt_number": 3
    },
    {
     "cell_type": "code",
     "collapsed": false,
     "input": [
      "his = hs.values()[:2]"
     ],
     "language": "python",
     "metadata": {},
     "outputs": [],
     "prompt_number": 4
    },
    {
     "cell_type": "code",
     "collapsed": false,
     "input": [
      "bossanova.generate_count_table(his, 'bossanova/targetingstats.dat',remove_cached=False)"
     ],
     "language": "python",
     "metadata": {},
     "outputs": [
      {
       "output_type": "stream",
       "stream": "stdout",
       "text": [
        "Generating target count for NSA155204 # 1 of 2\n"
       ]
      },
      {
       "output_type": "stream",
       "stream": "stdout",
       "text": [
        "Targeting parameters: {'removegama': False, 'faintlimit': 21, 'outercutrad': -90}\n"
       ]
      },
      {
       "output_type": "stream",
       "stream": "stdout",
       "text": [
        "Targeting parameters: {'removegama': False, 'faintlimit': 20.5, 'outercutrad': -90}\n"
       ]
      },
      {
       "output_type": "stream",
       "stream": "stdout",
       "text": [
        "Targeting parameters: {'removegama': False, 'faintlimit': 20, 'outercutrad': -90}\n"
       ]
      },
      {
       "output_type": "stream",
       "stream": "stdout",
       "text": [
        "Generating target count for NSA132273 # 2 of 2\n"
       ]
      },
      {
       "output_type": "stream",
       "stream": "stdout",
       "text": [
        "Targeting parameters: {'removegama': False, 'faintlimit': 21, 'outercutrad': -90}\n"
       ]
      },
      {
       "output_type": "stream",
       "stream": "stdout",
       "text": [
        "Targeting parameters: {'removegama': False, 'faintlimit': 20.5, 'outercutrad': -90}\n"
       ]
      },
      {
       "output_type": "stream",
       "stream": "stdout",
       "text": [
        "Targeting parameters: {'removegama': False, 'faintlimit': 20, 'outercutrad': -90}\n"
       ]
      },
      {
       "html": [
        "<table><tr><th>name</th><th>distmpc</th><th>rvirarcmin</th><th>...</th><th>ntargpersat_20.5</th><th>ntargpersat_20</th></tr><tr><td>NSA155204</td><td>38.2211765659</td><td>26.9830529539</td><td>...</td><td>2764.2</td><td>1245.4</td></tr><tr><td>NSA132273</td><td>60.1762871439</td><td>17.1383792551</td><td>...</td><td>2647.2</td><td>2091.66666667</td></tr></table>"
       ],
       "metadata": {},
       "output_type": "pyout",
       "prompt_number": 40,
       "text": [
        "<Table rows=2 names=('name','distmpc','rvirarcmin','ntarg_21','ntarg_20.5','ntarg_20','nsat_21','nsat_20.5','nsat_20','ntargpersat_21','ntargpersat_20.5','ntargpersat_20')>\n",
        "array([ ('NSA155204', 38.2211765658703, 26.983052953854, 25282, 13821, 6227, 6, 5, 5, 4213.666666666667, 2764.2, 1245.4),\n",
        "       ('NSA132273', 60.1762871438567, 17.138379255104443, 23351, 13236, 6275, 5, 5, 3, 4670.2, 2647.2, 2091.6666666666665)], \n",
        "      dtype=[('name', '|S9'), ('distmpc', '<f8'), ('rvirarcmin', '<f8'), ('ntarg_21', '<i8'), ('ntarg_20.5', '<i8'), ('ntarg_20', '<i8'), ('nsat_21', '<i8'), ('nsat_20.5', '<i8'), ('nsat_20', '<i8'), ('ntargpersat_21', '<f8'), ('ntargpersat_20.5', '<f8'), ('ntargpersat_20', '<f8')])"
       ]
      }
     ],
     "prompt_number": 40
    },
    {
     "cell_type": "code",
     "collapsed": false,
     "input": [
      "tab = bossanova.generate_count_table(hs.values(), 'bossanova/targetingstats1p5deg.dat',remove_cached=True)"
     ],
     "language": "python",
     "metadata": {},
     "outputs": [
      {
       "output_type": "stream",
       "stream": "stdout",
       "text": [
        "Generating target count for NSA155204 # 1 of 67\n"
       ]
      },
      {
       "output_type": "stream",
       "stream": "stdout",
       "text": [
        "Targeting parameters: {'removegama': False, 'faintlimit': 21, 'outercutrad': -90}\n"
       ]
      },
      {
       "output_type": "stream",
       "stream": "stdout",
       "text": [
        "Targeting parameters: {'removegama': False, 'faintlimit': 20.5, 'outercutrad': -90}\n"
       ]
      },
      {
       "output_type": "stream",
       "stream": "stdout",
       "text": [
        "Targeting parameters: {'removegama': False, 'faintlimit': 20, 'outercutrad': -90}\n"
       ]
      },
      {
       "output_type": "stream",
       "stream": "stdout",
       "text": [
        "Generating target count for NSA132273 # 2 of 67\n"
       ]
      },
      {
       "output_type": "stream",
       "stream": "stdout",
       "text": [
        "Targeting parameters: {'removegama': False, 'faintlimit': 21, 'outercutrad': -90}\n"
       ]
      },
      {
       "output_type": "stream",
       "stream": "stdout",
       "text": [
        "Targeting parameters: {'removegama': False, 'faintlimit': 20.5, 'outercutrad': -90}\n"
       ]
      },
      {
       "output_type": "stream",
       "stream": "stdout",
       "text": [
        "Targeting parameters: {'removegama': False, 'faintlimit': 20, 'outercutrad': -90}\n"
       ]
      },
      {
       "output_type": "stream",
       "stream": "stdout",
       "text": [
        "Generating target count for NSA102480 # 3 of 67\n"
       ]
      },
      {
       "output_type": "stream",
       "stream": "stdout",
       "text": [
        "Targeting parameters: {'removegama': False, 'faintlimit': 21, 'outercutrad': -90}\n"
       ]
      },
      {
       "output_type": "stream",
       "stream": "stdout",
       "text": [
        "Targeting parameters: {'removegama': False, 'faintlimit': 20.5, 'outercutrad': -90}\n"
       ]
      },
      {
       "output_type": "stream",
       "stream": "stdout",
       "text": [
        "Targeting parameters: {'removegama': False, 'faintlimit': 20, 'outercutrad': -90}\n"
       ]
      },
      {
       "output_type": "stream",
       "stream": "stdout",
       "text": [
        "Generating target count for NSA140259 # 4 of 67\n"
       ]
      },
      {
       "output_type": "stream",
       "stream": "stdout",
       "text": [
        "Targeting parameters: {'removegama': False, 'faintlimit': 21, 'outercutrad': -90}\n"
       ]
      },
      {
       "output_type": "stream",
       "stream": "stdout",
       "text": [
        "Targeting parameters: {'removegama': False, 'faintlimit': 20.5, 'outercutrad': -90}\n"
       ]
      },
      {
       "output_type": "stream",
       "stream": "stdout",
       "text": [
        "Targeting parameters: {'removegama': False, 'faintlimit': 20, 'outercutrad': -90}\n"
       ]
      },
      {
       "output_type": "stream",
       "stream": "stdout",
       "text": [
        "Generating target count for NSA141565 # 5 of 67\n"
       ]
      },
      {
       "output_type": "stream",
       "stream": "stdout",
       "text": [
        "Targeting parameters: {'removegama': False, 'faintlimit': 21, 'outercutrad': -90}\n"
       ]
      },
      {
       "output_type": "stream",
       "stream": "stdout",
       "text": [
        "Targeting parameters: {'removegama': False, 'faintlimit': 20.5, 'outercutrad': -90}\n"
       ]
      },
      {
       "output_type": "stream",
       "stream": "stdout",
       "text": [
        "Targeting parameters: {'removegama': False, 'faintlimit': 20, 'outercutrad': -90}\n"
       ]
      },
      {
       "output_type": "stream",
       "stream": "stdout",
       "text": [
        "Generating target count for NSA165440 # 6 of 67\n"
       ]
      },
      {
       "output_type": "stream",
       "stream": "stdout",
       "text": [
        "Targeting parameters: {'removegama': False, 'faintlimit': 21, 'outercutrad': -90}\n"
       ]
      },
      {
       "output_type": "stream",
       "stream": "stdout",
       "text": [
        "Targeting parameters: {'removegama': False, 'faintlimit': 20.5, 'outercutrad': -90}\n"
       ]
      },
      {
       "output_type": "stream",
       "stream": "stdout",
       "text": [
        "Targeting parameters: {'removegama': False, 'faintlimit': 20, 'outercutrad': -90}\n"
       ]
      },
      {
       "output_type": "stream",
       "stream": "stdout",
       "text": [
        "Generating target count for NSA32 # 7 of 67\n"
       ]
      },
      {
       "output_type": "stream",
       "stream": "stdout",
       "text": [
        "Targeting parameters: {'removegama': False, 'faintlimit': 21, 'outercutrad': -90}\n"
       ]
      },
      {
       "output_type": "stream",
       "stream": "stdout",
       "text": [
        "Targeting parameters: {'removegama': False, 'faintlimit': 20.5, 'outercutrad': -90}\n"
       ]
      },
      {
       "output_type": "stream",
       "stream": "stdout",
       "text": [
        "Targeting parameters: {'removegama': False, 'faintlimit': 20, 'outercutrad': -90}\n"
       ]
      },
      {
       "output_type": "stream",
       "stream": "stdout",
       "text": [
        "Generating target count for NSA133810 # 8 of 67\n"
       ]
      },
      {
       "output_type": "stream",
       "stream": "stdout",
       "text": [
        "Targeting parameters: {'removegama': False, 'faintlimit': 21, 'outercutrad': -90}\n"
       ]
      },
      {
       "output_type": "stream",
       "stream": "stdout",
       "text": [
        "Targeting parameters: {'removegama': False, 'faintlimit': 20.5, 'outercutrad': -90}\n"
       ]
      },
      {
       "output_type": "stream",
       "stream": "stdout",
       "text": [
        "Targeting parameters: {'removegama': False, 'faintlimit': 20, 'outercutrad': -90}\n"
       ]
      },
      {
       "output_type": "stream",
       "stream": "stdout",
       "text": [
        "Generating target count for NSA127782 # 9 of 67\n"
       ]
      },
      {
       "output_type": "stream",
       "stream": "stdout",
       "text": [
        "Targeting parameters: {'removegama': False, 'faintlimit': 21, 'outercutrad': -90}\n"
       ]
      },
      {
       "output_type": "stream",
       "stream": "stdout",
       "text": [
        "Targeting parameters: {'removegama': False, 'faintlimit': 20.5, 'outercutrad': -90}\n"
       ]
      },
      {
       "output_type": "stream",
       "stream": "stdout",
       "text": [
        "Targeting parameters: {'removegama': False, 'faintlimit': 20, 'outercutrad': -90}\n"
       ]
      },
      {
       "output_type": "stream",
       "stream": "stdout",
       "text": [
        "Generating target count for NSA166313 # 10 of 67\n"
       ]
      },
      {
       "output_type": "stream",
       "stream": "stdout",
       "text": [
        "Targeting parameters: {'removegama': False, 'faintlimit': 21, 'outercutrad': -90}\n"
       ]
      },
      {
       "output_type": "stream",
       "stream": "stdout",
       "text": [
        "Targeting parameters: {'removegama': False, 'faintlimit': 20.5, 'outercutrad': -90}\n"
       ]
      },
      {
       "output_type": "stream",
       "stream": "stdout",
       "text": [
        "Targeting parameters: {'removegama': False, 'faintlimit': 20, 'outercutrad': -90}\n"
       ]
      },
      {
       "output_type": "stream",
       "stream": "stdout",
       "text": [
        "Generating target count for NSA134821 # 11 of 67\n"
       ]
      },
      {
       "output_type": "stream",
       "stream": "stdout",
       "text": [
        "Targeting parameters: {'removegama': False, 'faintlimit': 21, 'outercutrad': -90}\n"
       ]
      },
      {
       "output_type": "stream",
       "stream": "stdout",
       "text": [
        "Targeting parameters: {'removegama': False, 'faintlimit': 20.5, 'outercutrad': -90}\n"
       ]
      },
      {
       "output_type": "stream",
       "stream": "stdout",
       "text": [
        "Targeting parameters: {'removegama': False, 'faintlimit': 20, 'outercutrad': -90}\n"
       ]
      },
      {
       "output_type": "stream",
       "stream": "stdout",
       "text": [
        "Generating target count for NSA150440 # 12 of 67\n"
       ]
      },
      {
       "output_type": "stream",
       "stream": "stdout",
       "text": [
        "Targeting parameters: {'removegama': False, 'faintlimit': 21, 'outercutrad': -90}\n"
       ]
      },
      {
       "output_type": "stream",
       "stream": "stdout",
       "text": [
        "Targeting parameters: {'removegama': False, 'faintlimit': 20.5, 'outercutrad': -90}\n"
       ]
      },
      {
       "output_type": "stream",
       "stream": "stdout",
       "text": [
        "Targeting parameters: {'removegama': False, 'faintlimit': 20, 'outercutrad': -90}\n"
       ]
      },
      {
       "output_type": "stream",
       "stream": "stdout",
       "text": [
        "Generating target count for NSA158901 # 13 of 67\n"
       ]
      },
      {
       "output_type": "stream",
       "stream": "stdout",
       "text": [
        "Targeting parameters: {'removegama': False, 'faintlimit': 21, 'outercutrad': -90}\n"
       ]
      },
      {
       "output_type": "stream",
       "stream": "stdout",
       "text": [
        "Targeting parameters: {'removegama': False, 'faintlimit': 20.5, 'outercutrad': -90}\n"
       ]
      },
      {
       "output_type": "stream",
       "stream": "stdout",
       "text": [
        "Targeting parameters: {'removegama': False, 'faintlimit': 20, 'outercutrad': -90}\n"
       ]
      },
      {
       "output_type": "stream",
       "stream": "stdout",
       "text": [
        "Generating target count for NSA5916 # 14 of 67\n"
       ]
      },
      {
       "output_type": "stream",
       "stream": "stdout",
       "text": [
        "Targeting parameters: {'removegama': False, 'faintlimit': 21, 'outercutrad': -90}\n"
       ]
      },
      {
       "output_type": "stream",
       "stream": "stdout",
       "text": [
        "Targeting parameters: {'removegama': False, 'faintlimit': 20.5, 'outercutrad': -90}\n"
       ]
      },
      {
       "output_type": "stream",
       "stream": "stdout",
       "text": [
        "Targeting parameters: {'removegama': False, 'faintlimit': 20, 'outercutrad': -90}\n"
       ]
      },
      {
       "output_type": "stream",
       "stream": "stdout",
       "text": [
        "Generating target count for NSA159593 # 15 of 67\n"
       ]
      },
      {
       "output_type": "stream",
       "stream": "stdout",
       "text": [
        "Targeting parameters: {'removegama': False, 'faintlimit': 21, 'outercutrad': -90}\n"
       ]
      },
      {
       "output_type": "stream",
       "stream": "stdout",
       "text": [
        "Targeting parameters: {'removegama': False, 'faintlimit': 20.5, 'outercutrad': -90}\n"
       ]
      },
      {
       "output_type": "stream",
       "stream": "stdout",
       "text": [
        "Targeting parameters: {'removegama': False, 'faintlimit': 20, 'outercutrad': -90}\n"
       ]
      },
      {
       "output_type": "stream",
       "stream": "stdout",
       "text": [
        "Generating target count for NSA131295 # 16 of 67\n"
       ]
      },
      {
       "output_type": "stream",
       "stream": "stdout",
       "text": [
        "Targeting parameters: {'removegama': False, 'faintlimit': 21, 'outercutrad': -90}\n"
       ]
      },
      {
       "output_type": "stream",
       "stream": "stdout",
       "text": [
        "Targeting parameters: {'removegama': False, 'faintlimit': 20.5, 'outercutrad': -90}\n"
       ]
      },
      {
       "output_type": "stream",
       "stream": "stdout",
       "text": [
        "Targeting parameters: {'removegama': False, 'faintlimit': 20, 'outercutrad': -90}\n"
       ]
      },
      {
       "output_type": "stream",
       "stream": "stdout",
       "text": [
        "Generating target count for NSA140895 # 17 of 67\n"
       ]
      },
      {
       "output_type": "stream",
       "stream": "stdout",
       "text": [
        "Targeting parameters: {'removegama': False, 'faintlimit': 21, 'outercutrad': -90}\n"
       ]
      },
      {
       "output_type": "stream",
       "stream": "stdout",
       "text": [
        "Targeting parameters: {'removegama': False, 'faintlimit': 20.5, 'outercutrad': -90}\n"
       ]
      },
      {
       "output_type": "stream",
       "stream": "stdout",
       "text": [
        "Targeting parameters: {'removegama': False, 'faintlimit': 20, 'outercutrad': -90}\n"
       ]
      },
      {
       "output_type": "stream",
       "stream": "stdout",
       "text": [
        "Generating target count for NSA165952 # 18 of 67\n"
       ]
      },
      {
       "output_type": "stream",
       "stream": "stdout",
       "text": [
        "Targeting parameters: {'removegama': False, 'faintlimit': 21, 'outercutrad': -90}\n"
       ]
      },
      {
       "output_type": "stream",
       "stream": "stdout",
       "text": [
        "Targeting parameters: {'removegama': False, 'faintlimit': 20.5, 'outercutrad': -90}\n"
       ]
      },
      {
       "output_type": "stream",
       "stream": "stdout",
       "text": [
        "Targeting parameters: {'removegama': False, 'faintlimit': 20, 'outercutrad': -90}\n"
       ]
      },
      {
       "output_type": "stream",
       "stream": "stdout",
       "text": [
        "Generating target count for NSA149889 # 19 of 67\n"
       ]
      },
      {
       "output_type": "stream",
       "stream": "stdout",
       "text": [
        "Targeting parameters: {'removegama': False, 'faintlimit': 21, 'outercutrad': -90}\n"
       ]
      },
      {
       "output_type": "stream",
       "stream": "stdout",
       "text": [
        "Targeting parameters: {'removegama': False, 'faintlimit': 20.5, 'outercutrad': -90}\n"
       ]
      },
      {
       "output_type": "stream",
       "stream": "stdout",
       "text": [
        "Targeting parameters: {'removegama': False, 'faintlimit': 20, 'outercutrad': -90}\n"
       ]
      },
      {
       "output_type": "stream",
       "stream": "stdout",
       "text": [
        "Generating target count for NSA148472 # 20 of 67\n"
       ]
      },
      {
       "output_type": "stream",
       "stream": "stdout",
       "text": [
        "Targeting parameters: {'removegama': False, 'faintlimit': 21, 'outercutrad': -90}\n"
       ]
      },
      {
       "output_type": "stream",
       "stream": "stdout",
       "text": [
        "Targeting parameters: {'removegama': False, 'faintlimit': 20.5, 'outercutrad': -90}\n"
       ]
      },
      {
       "output_type": "stream",
       "stream": "stdout",
       "text": [
        "Targeting parameters: {'removegama': False, 'faintlimit': 20, 'outercutrad': -90}\n"
       ]
      },
      {
       "output_type": "stream",
       "stream": "stdout",
       "text": [
        "Generating target count for NSA76316 # 21 of 67\n"
       ]
      },
      {
       "output_type": "stream",
       "stream": "stdout",
       "text": [
        "Targeting parameters: {'removegama': False, 'faintlimit': 21, 'outercutrad': -90}\n"
       ]
      },
      {
       "output_type": "stream",
       "stream": "stdout",
       "text": [
        "Targeting parameters: {'removegama': False, 'faintlimit': 20.5, 'outercutrad': -90}\n"
       ]
      },
      {
       "output_type": "stream",
       "stream": "stdout",
       "text": [
        "Targeting parameters: {'removegama': False, 'faintlimit': 20, 'outercutrad': -90}\n"
       ]
      },
      {
       "output_type": "stream",
       "stream": "stdout",
       "text": [
        "Generating target count for NSA133355 # 22 of 67\n"
       ]
      },
      {
       "output_type": "stream",
       "stream": "stdout",
       "text": [
        "Targeting parameters: {'removegama': False, 'faintlimit': 21, 'outercutrad': -90}\n"
       ]
      },
      {
       "output_type": "stream",
       "stream": "stdout",
       "text": [
        "Targeting parameters: {'removegama': False, 'faintlimit': 20.5, 'outercutrad': -90}\n"
       ]
      },
      {
       "output_type": "stream",
       "stream": "stdout",
       "text": [
        "Targeting parameters: {'removegama': False, 'faintlimit': 20, 'outercutrad': -90}\n"
       ]
      },
      {
       "output_type": "stream",
       "stream": "stdout",
       "text": [
        "Generating target count for NSA127226 # 23 of 67\n"
       ]
      },
      {
       "output_type": "stream",
       "stream": "stdout",
       "text": [
        "Targeting parameters: {'removegama': False, 'faintlimit': 21, 'outercutrad': -90}\n"
       ]
      },
      {
       "output_type": "stream",
       "stream": "stdout",
       "text": [
        "Targeting parameters: {'removegama': False, 'faintlimit': 20.5, 'outercutrad': -90}\n"
       ]
      },
      {
       "output_type": "stream",
       "stream": "stdout",
       "text": [
        "Targeting parameters: {'removegama': False, 'faintlimit': 20, 'outercutrad': -90}\n"
       ]
      },
      {
       "output_type": "stream",
       "stream": "stdout",
       "text": [
        "Generating target count for NSA168145 # 24 of 67\n"
       ]
      },
      {
       "output_type": "stream",
       "stream": "stdout",
       "text": [
        "Targeting parameters: {'removegama': False, 'faintlimit': 21, 'outercutrad': -90}\n"
       ]
      },
      {
       "output_type": "stream",
       "stream": "stdout",
       "text": [
        "Targeting parameters: {'removegama': False, 'faintlimit': 20.5, 'outercutrad': -90}\n"
       ]
      },
      {
       "output_type": "stream",
       "stream": "stdout",
       "text": [
        "Targeting parameters: {'removegama': False, 'faintlimit': 20, 'outercutrad': -90}\n"
       ]
      },
      {
       "output_type": "stream",
       "stream": "stdout",
       "text": [
        "Generating target count for NSA142728 # 25 of 67\n"
       ]
      },
      {
       "output_type": "stream",
       "stream": "stdout",
       "text": [
        "Targeting parameters: {'removegama': False, 'faintlimit': 21, 'outercutrad': -90}\n"
       ]
      },
      {
       "output_type": "stream",
       "stream": "stdout",
       "text": [
        "Targeting parameters: {'removegama': False, 'faintlimit': 20.5, 'outercutrad': -90}\n"
       ]
      },
      {
       "output_type": "stream",
       "stream": "stdout",
       "text": [
        "Targeting parameters: {'removegama': False, 'faintlimit': 20, 'outercutrad': -90}\n"
       ]
      },
      {
       "output_type": "stream",
       "stream": "stdout",
       "text": [
        "Generating target count for NSA25728 # 26 of 67\n"
       ]
      },
      {
       "output_type": "stream",
       "stream": "stdout",
       "text": [
        "Targeting parameters: {'removegama': False, 'faintlimit': 21, 'outercutrad': -90}\n"
       ]
      },
      {
       "output_type": "stream",
       "stream": "stdout",
       "text": [
        "Targeting parameters: {'removegama': False, 'faintlimit': 20.5, 'outercutrad': -90}\n"
       ]
      },
      {
       "output_type": "stream",
       "stream": "stdout",
       "text": [
        "Targeting parameters: {'removegama': False, 'faintlimit': 20, 'outercutrad': -90}\n"
       ]
      },
      {
       "output_type": "stream",
       "stream": "stdout",
       "text": [
        "Generating target count for NSA129140 # 27 of 67\n"
       ]
      },
      {
       "output_type": "stream",
       "stream": "stdout",
       "text": [
        "Targeting parameters: {'removegama': False, 'faintlimit': 21, 'outercutrad': -90}\n"
       ]
      },
      {
       "output_type": "stream",
       "stream": "stdout",
       "text": [
        "Targeting parameters: {'removegama': False, 'faintlimit': 20.5, 'outercutrad': -90}\n"
       ]
      },
      {
       "output_type": "stream",
       "stream": "stdout",
       "text": [
        "Targeting parameters: {'removegama': False, 'faintlimit': 20, 'outercutrad': -90}\n"
       ]
      },
      {
       "output_type": "stream",
       "stream": "stdout",
       "text": [
        "Generating target count for NSA129387 # 28 of 67\n"
       ]
      },
      {
       "output_type": "stream",
       "stream": "stdout",
       "text": [
        "Targeting parameters: {'removegama': False, 'faintlimit': 21, 'outercutrad': -90}\n"
       ]
      },
      {
       "output_type": "stream",
       "stream": "stdout",
       "text": [
        "Targeting parameters: {'removegama': False, 'faintlimit': 20.5, 'outercutrad': -90}\n"
       ]
      },
      {
       "output_type": "stream",
       "stream": "stdout",
       "text": [
        "Targeting parameters: {'removegama': False, 'faintlimit': 20, 'outercutrad': -90}\n"
       ]
      },
      {
       "output_type": "stream",
       "stream": "stdout",
       "text": [
        "Generating target count for NSA161509 # 29 of 67\n"
       ]
      },
      {
       "output_type": "stream",
       "stream": "stdout",
       "text": [
        "Targeting parameters: {'removegama': False, 'faintlimit': 21, 'outercutrad': -90}\n"
       ]
      },
      {
       "output_type": "stream",
       "stream": "stdout",
       "text": [
        "Targeting parameters: {'removegama': False, 'faintlimit': 20.5, 'outercutrad': -90}\n"
       ]
      },
      {
       "output_type": "stream",
       "stream": "stdout",
       "text": [
        "Targeting parameters: {'removegama': False, 'faintlimit': 20, 'outercutrad': -90}\n"
       ]
      },
      {
       "output_type": "stream",
       "stream": "stdout",
       "text": [
        "Generating target count for NSA169846 # 30 of 67\n"
       ]
      },
      {
       "output_type": "stream",
       "stream": "stdout",
       "text": [
        "Targeting parameters: {'removegama': False, 'faintlimit': 21, 'outercutrad': -90}\n"
       ]
      },
      {
       "output_type": "stream",
       "stream": "stdout",
       "text": [
        "Targeting parameters: {'removegama': False, 'faintlimit': 20.5, 'outercutrad': -90}\n"
       ]
      },
      {
       "output_type": "stream",
       "stream": "stdout",
       "text": [
        "Targeting parameters: {'removegama': False, 'faintlimit': 20, 'outercutrad': -90}\n"
       ]
      },
      {
       "output_type": "stream",
       "stream": "stdout",
       "text": [
        "Generating target count for NSA155576 # 31 of 67\n"
       ]
      },
      {
       "output_type": "stream",
       "stream": "stdout",
       "text": [
        "Targeting parameters: {'removegama': False, 'faintlimit': 21, 'outercutrad': -90}\n"
       ]
      },
      {
       "output_type": "stream",
       "stream": "stdout",
       "text": [
        "Targeting parameters: {'removegama': False, 'faintlimit': 20.5, 'outercutrad': -90}\n"
       ]
      },
      {
       "output_type": "stream",
       "stream": "stdout",
       "text": [
        "Targeting parameters: {'removegama': False, 'faintlimit': 20, 'outercutrad': -90}\n"
       ]
      },
      {
       "output_type": "stream",
       "stream": "stdout",
       "text": [
        "Generating target count for NSA143975 # 32 of 67\n"
       ]
      },
      {
       "output_type": "stream",
       "stream": "stdout",
       "text": [
        "Targeting parameters: {'removegama': False, 'faintlimit': 21, 'outercutrad': -90}\n"
       ]
      },
      {
       "output_type": "stream",
       "stream": "stdout",
       "text": [
        "Targeting parameters: {'removegama': False, 'faintlimit': 20.5, 'outercutrad': -90}\n"
       ]
      },
      {
       "output_type": "stream",
       "stream": "stdout",
       "text": [
        "Targeting parameters: {'removegama': False, 'faintlimit': 20, 'outercutrad': -90}\n"
       ]
      },
      {
       "output_type": "stream",
       "stream": "stdout",
       "text": [
        "Generating target count for NSA138634 # 33 of 67\n"
       ]
      },
      {
       "output_type": "stream",
       "stream": "stdout",
       "text": [
        "Targeting parameters: {'removegama': False, 'faintlimit': 21, 'outercutrad': -90}\n"
       ]
      },
      {
       "output_type": "stream",
       "stream": "stdout",
       "text": [
        "Targeting parameters: {'removegama': False, 'faintlimit': 20.5, 'outercutrad': -90}\n"
       ]
      },
      {
       "output_type": "stream",
       "stream": "stdout",
       "text": [
        "Targeting parameters: {'removegama': False, 'faintlimit': 20, 'outercutrad': -90}\n"
       ]
      },
      {
       "output_type": "stream",
       "stream": "stdout",
       "text": [
        "Generating target count for NSA169169 # 34 of 67\n"
       ]
      },
      {
       "output_type": "stream",
       "stream": "stdout",
       "text": [
        "Targeting parameters: {'removegama': False, 'faintlimit': 21, 'outercutrad': -90}\n"
       ]
      },
      {
       "output_type": "stream",
       "stream": "stdout",
       "text": [
        "Targeting parameters: {'removegama': False, 'faintlimit': 20.5, 'outercutrad': -90}\n"
       ]
      },
      {
       "output_type": "stream",
       "stream": "stdout",
       "text": [
        "Targeting parameters: {'removegama': False, 'faintlimit': 20, 'outercutrad': -90}\n"
       ]
      },
      {
       "output_type": "stream",
       "stream": "stdout",
       "text": [
        "Generating target count for NSA41075 # 35 of 67\n"
       ]
      },
      {
       "output_type": "stream",
       "stream": "stdout",
       "text": [
        "Targeting parameters: {'removegama': False, 'faintlimit': 21, 'outercutrad': -90}\n"
       ]
      },
      {
       "output_type": "stream",
       "stream": "stdout",
       "text": [
        "Targeting parameters: {'removegama': False, 'faintlimit': 20.5, 'outercutrad': -90}\n"
       ]
      },
      {
       "output_type": "stream",
       "stream": "stdout",
       "text": [
        "Targeting parameters: {'removegama': False, 'faintlimit': 20, 'outercutrad': -90}\n"
       ]
      },
      {
       "output_type": "stream",
       "stream": "stdout",
       "text": [
        "Generating target count for NSA165091 # 36 of 67\n"
       ]
      },
      {
       "output_type": "stream",
       "stream": "stdout",
       "text": [
        "Targeting parameters: {'removegama': False, 'faintlimit': 21, 'outercutrad': -90}\n"
       ]
      },
      {
       "output_type": "stream",
       "stream": "stdout",
       "text": [
        "Targeting parameters: {'removegama': False, 'faintlimit': 20.5, 'outercutrad': -90}\n"
       ]
      },
      {
       "output_type": "stream",
       "stream": "stdout",
       "text": [
        "Targeting parameters: {'removegama': False, 'faintlimit': 20, 'outercutrad': -90}\n"
       ]
      },
      {
       "output_type": "stream",
       "stream": "stdout",
       "text": [
        "Generating target count for NSA146210 # 37 of 67\n"
       ]
      },
      {
       "output_type": "stream",
       "stream": "stdout",
       "text": [
        "Targeting parameters: {'removegama': False, 'faintlimit': 21, 'outercutrad': -90}\n"
       ]
      },
      {
       "output_type": "stream",
       "stream": "stdout",
       "text": [
        "Targeting parameters: {'removegama': False, 'faintlimit': 20.5, 'outercutrad': -90}\n"
       ]
      },
      {
       "output_type": "stream",
       "stream": "stdout",
       "text": [
        "Targeting parameters: {'removegama': False, 'faintlimit': 20, 'outercutrad': -90}\n"
       ]
      },
      {
       "output_type": "stream",
       "stream": "stdout",
       "text": [
        "Generating target count for NSA147100 # 38 of 67\n"
       ]
      },
      {
       "output_type": "stream",
       "stream": "stdout",
       "text": [
        "Targeting parameters: {'removegama': False, 'faintlimit': 21, 'outercutrad': -90}\n"
       ]
      },
      {
       "output_type": "stream",
       "stream": "stdout",
       "text": [
        "Targeting parameters: {'removegama': False, 'faintlimit': 20.5, 'outercutrad': -90}\n"
       ]
      },
      {
       "output_type": "stream",
       "stream": "stdout",
       "text": [
        "Targeting parameters: {'removegama': False, 'faintlimit': 20, 'outercutrad': -90}\n"
       ]
      },
      {
       "output_type": "stream",
       "stream": "stdout",
       "text": [
        "Generating target count for NSA147103 # 39 of 67\n"
       ]
      },
      {
       "output_type": "stream",
       "stream": "stdout",
       "text": [
        "Targeting parameters: {'removegama': False, 'faintlimit': 21, 'outercutrad': -90}\n"
       ]
      },
      {
       "output_type": "stream",
       "stream": "stdout",
       "text": [
        "Targeting parameters: {'removegama': False, 'faintlimit': 20.5, 'outercutrad': -90}\n"
       ]
      },
      {
       "output_type": "stream",
       "stream": "stdout",
       "text": [
        "Targeting parameters: {'removegama': False, 'faintlimit': 20, 'outercutrad': -90}\n"
       ]
      },
      {
       "output_type": "stream",
       "stream": "stdout",
       "text": [
        "Generating target count for NSA23274 # 40 of 67\n"
       ]
      },
      {
       "output_type": "stream",
       "stream": "stdout",
       "text": [
        "Targeting parameters: {'removegama': False, 'faintlimit': 21, 'outercutrad': -90}\n"
       ]
      },
      {
       "output_type": "stream",
       "stream": "stdout",
       "text": [
        "Targeting parameters: {'removegama': False, 'faintlimit': 20.5, 'outercutrad': -90}\n"
       ]
      },
      {
       "output_type": "stream",
       "stream": "stdout",
       "text": [
        "Targeting parameters: {'removegama': False, 'faintlimit': 20, 'outercutrad': -90}\n"
       ]
      },
      {
       "output_type": "stream",
       "stream": "stdout",
       "text": [
        "Generating target count for NSA160608 # 41 of 67\n"
       ]
      },
      {
       "output_type": "stream",
       "stream": "stdout",
       "text": [
        "Targeting parameters: {'removegama': False, 'faintlimit': 21, 'outercutrad': -90}\n"
       ]
      },
      {
       "output_type": "stream",
       "stream": "stdout",
       "text": [
        "Targeting parameters: {'removegama': False, 'faintlimit': 20.5, 'outercutrad': -90}\n"
       ]
      },
      {
       "output_type": "stream",
       "stream": "stdout",
       "text": [
        "Targeting parameters: {'removegama': False, 'faintlimit': 20, 'outercutrad': -90}\n"
       ]
      },
      {
       "output_type": "stream",
       "stream": "stdout",
       "text": [
        "Generating target count for NSA161726 # 42 of 67\n"
       ]
      },
      {
       "output_type": "stream",
       "stream": "stdout",
       "text": [
        "Targeting parameters: {'removegama': False, 'faintlimit': 21, 'outercutrad': -90}\n"
       ]
      },
      {
       "output_type": "stream",
       "stream": "stdout",
       "text": [
        "Targeting parameters: {'removegama': False, 'faintlimit': 20.5, 'outercutrad': -90}\n"
       ]
      },
      {
       "output_type": "stream",
       "stream": "stdout",
       "text": [
        "Targeting parameters: {'removegama': False, 'faintlimit': 20, 'outercutrad': -90}\n"
       ]
      },
      {
       "output_type": "stream",
       "stream": "stdout",
       "text": [
        "Generating target count for NSA151537 # 43 of 67\n"
       ]
      },
      {
       "output_type": "stream",
       "stream": "stdout",
       "text": [
        "Targeting parameters: {'removegama': False, 'faintlimit': 21, 'outercutrad': -90}\n"
       ]
      },
      {
       "output_type": "stream",
       "stream": "stdout",
       "text": [
        "Targeting parameters: {'removegama': False, 'faintlimit': 20.5, 'outercutrad': -90}\n"
       ]
      },
      {
       "output_type": "stream",
       "stream": "stdout",
       "text": [
        "Targeting parameters: {'removegama': False, 'faintlimit': 20, 'outercutrad': -90}\n"
       ]
      },
      {
       "output_type": "stream",
       "stream": "stdout",
       "text": [
        "Generating target count for NSA166440 # 44 of 67\n"
       ]
      },
      {
       "output_type": "stream",
       "stream": "stdout",
       "text": [
        "Targeting parameters: {'removegama': False, 'faintlimit': 21, 'outercutrad': -90}\n"
       ]
      },
      {
       "output_type": "stream",
       "stream": "stdout",
       "text": [
        "Targeting parameters: {'removegama': False, 'faintlimit': 20.5, 'outercutrad': -90}\n"
       ]
      },
      {
       "output_type": "stream",
       "stream": "stdout",
       "text": [
        "Targeting parameters: {'removegama': False, 'faintlimit': 20, 'outercutrad': -90}\n"
       ]
      },
      {
       "output_type": "stream",
       "stream": "stdout",
       "text": [
        "Generating target count for NSA156839 # 45 of 67\n"
       ]
      },
      {
       "output_type": "stream",
       "stream": "stdout",
       "text": [
        "Targeting parameters: {'removegama': False, 'faintlimit': 21, 'outercutrad': -90}\n"
       ]
      },
      {
       "output_type": "stream",
       "stream": "stdout",
       "text": [
        "Targeting parameters: {'removegama': False, 'faintlimit': 20.5, 'outercutrad': -90}\n"
       ]
      },
      {
       "output_type": "stream",
       "stream": "stdout",
       "text": [
        "Targeting parameters: {'removegama': False, 'faintlimit': 20, 'outercutrad': -90}\n"
       ]
      },
      {
       "output_type": "stream",
       "stream": "stdout",
       "text": [
        "Generating target count for NSA64342 # 46 of 67\n"
       ]
      },
      {
       "output_type": "stream",
       "stream": "stdout",
       "text": [
        "Targeting parameters: {'removegama': False, 'faintlimit': 21, 'outercutrad': -90}\n"
       ]
      },
      {
       "output_type": "stream",
       "stream": "stdout",
       "text": [
        "Targeting parameters: {'removegama': False, 'faintlimit': 20.5, 'outercutrad': -90}\n"
       ]
      },
      {
       "output_type": "stream",
       "stream": "stdout",
       "text": [
        "Targeting parameters: {'removegama': False, 'faintlimit': 20, 'outercutrad': -90}\n"
       ]
      },
      {
       "output_type": "stream",
       "stream": "stdout",
       "text": [
        "Generating target count for NSA160084 # 47 of 67\n"
       ]
      },
      {
       "output_type": "stream",
       "stream": "stdout",
       "text": [
        "Targeting parameters: {'removegama': False, 'faintlimit': 21, 'outercutrad': -90}\n"
       ]
      },
      {
       "output_type": "stream",
       "stream": "stdout",
       "text": [
        "Targeting parameters: {'removegama': False, 'faintlimit': 20.5, 'outercutrad': -90}\n"
       ]
      },
      {
       "output_type": "stream",
       "stream": "stdout",
       "text": [
        "Targeting parameters: {'removegama': False, 'faintlimit': 20, 'outercutrad': -90}\n"
       ]
      },
      {
       "output_type": "stream",
       "stream": "stdout",
       "text": [
        "Generating target count for NSA156881 # 48 of 67\n"
       ]
      },
      {
       "output_type": "stream",
       "stream": "stdout",
       "text": [
        "Targeting parameters: {'removegama': False, 'faintlimit': 21, 'outercutrad': -90}\n"
       ]
      },
      {
       "output_type": "stream",
       "stream": "stdout",
       "text": [
        "Targeting parameters: {'removegama': False, 'faintlimit': 20.5, 'outercutrad': -90}\n"
       ]
      },
      {
       "output_type": "stream",
       "stream": "stdout",
       "text": [
        "Targeting parameters: {'removegama': False, 'faintlimit': 20, 'outercutrad': -90}\n"
       ]
      },
      {
       "output_type": "stream",
       "stream": "stdout",
       "text": [
        "Generating target count for NSA144045 # 49 of 67\n"
       ]
      },
      {
       "output_type": "stream",
       "stream": "stdout",
       "text": [
        "Targeting parameters: {'removegama': False, 'faintlimit': 21, 'outercutrad': -90}\n"
       ]
      },
      {
       "output_type": "stream",
       "stream": "stdout",
       "text": [
        "Targeting parameters: {'removegama': False, 'faintlimit': 20.5, 'outercutrad': -90}\n"
       ]
      },
      {
       "output_type": "stream",
       "stream": "stdout",
       "text": [
        "Targeting parameters: {'removegama': False, 'faintlimit': 20, 'outercutrad': -90}\n"
       ]
      },
      {
       "output_type": "stream",
       "stream": "stdout",
       "text": [
        "Generating target count for NSA150238 # 50 of 67\n"
       ]
      },
      {
       "output_type": "stream",
       "stream": "stdout",
       "text": [
        "Targeting parameters: {'removegama': False, 'faintlimit': 21, 'outercutrad': -90}\n"
       ]
      },
      {
       "output_type": "stream",
       "stream": "stdout",
       "text": [
        "Targeting parameters: {'removegama': False, 'faintlimit': 20.5, 'outercutrad': -90}\n"
       ]
      },
      {
       "output_type": "stream",
       "stream": "stdout",
       "text": [
        "Targeting parameters: {'removegama': False, 'faintlimit': 20, 'outercutrad': -90}\n"
       ]
      },
      {
       "output_type": "stream",
       "stream": "stdout",
       "text": [
        "Generating target count for NSA129431 # 51 of 67\n"
       ]
      },
      {
       "output_type": "stream",
       "stream": "stdout",
       "text": [
        "Targeting parameters: {'removegama': False, 'faintlimit': 21, 'outercutrad': -90}\n"
       ]
      },
      {
       "output_type": "stream",
       "stream": "stdout",
       "text": [
        "Targeting parameters: {'removegama': False, 'faintlimit': 20.5, 'outercutrad': -90}\n"
       ]
      },
      {
       "output_type": "stream",
       "stream": "stdout",
       "text": [
        "Targeting parameters: {'removegama': False, 'faintlimit': 20, 'outercutrad': -90}\n"
       ]
      },
      {
       "output_type": "stream",
       "stream": "stdout",
       "text": [
        "Generating target count for NSA159789 # 52 of 67\n"
       ]
      },
      {
       "output_type": "stream",
       "stream": "stdout",
       "text": [
        "Targeting parameters: {'removegama': False, 'faintlimit': 21, 'outercutrad': -90}\n"
       ]
      },
      {
       "output_type": "stream",
       "stream": "stdout",
       "text": [
        "Targeting parameters: {'removegama': False, 'faintlimit': 20.5, 'outercutrad': -90}\n"
       ]
      },
      {
       "output_type": "stream",
       "stream": "stdout",
       "text": [
        "Targeting parameters: {'removegama': False, 'faintlimit': 20, 'outercutrad': -90}\n"
       ]
      },
      {
       "output_type": "stream",
       "stream": "stdout",
       "text": [
        "Generating target count for NSA142509 # 53 of 67\n"
       ]
      },
      {
       "output_type": "stream",
       "stream": "stdout",
       "text": [
        "Targeting parameters: {'removegama': False, 'faintlimit': 21, 'outercutrad': -90}\n"
       ]
      },
      {
       "output_type": "stream",
       "stream": "stdout",
       "text": [
        "Targeting parameters: {'removegama': False, 'faintlimit': 20.5, 'outercutrad': -90}\n"
       ]
      },
      {
       "output_type": "stream",
       "stream": "stdout",
       "text": [
        "Targeting parameters: {'removegama': False, 'faintlimit': 20, 'outercutrad': -90}\n"
       ]
      },
      {
       "output_type": "stream",
       "stream": "stdout",
       "text": [
        "Generating target count for NSA48849 # 54 of 67\n"
       ]
      },
      {
       "output_type": "stream",
       "stream": "stdout",
       "text": [
        "Targeting parameters: {'removegama': False, 'faintlimit': 21, 'outercutrad': -90}\n"
       ]
      },
      {
       "output_type": "stream",
       "stream": "stdout",
       "text": [
        "Targeting parameters: {'removegama': False, 'faintlimit': 20.5, 'outercutrad': -90}\n"
       ]
      },
      {
       "output_type": "stream",
       "stream": "stdout",
       "text": [
        "Targeting parameters: {'removegama': False, 'faintlimit': 20, 'outercutrad': -90}\n"
       ]
      },
      {
       "output_type": "stream",
       "stream": "stdout",
       "text": [
        "Generating target count for NSA126157 # 55 of 67\n"
       ]
      },
      {
       "output_type": "stream",
       "stream": "stdout",
       "text": [
        "Targeting parameters: {'removegama': False, 'faintlimit': 21, 'outercutrad': -90}\n"
       ]
      },
      {
       "output_type": "stream",
       "stream": "stdout",
       "text": [
        "Targeting parameters: {'removegama': False, 'faintlimit': 20.5, 'outercutrad': -90}\n"
       ]
      },
      {
       "output_type": "stream",
       "stream": "stdout",
       "text": [
        "Targeting parameters: {'removegama': False, 'faintlimit': 20, 'outercutrad': -90}\n"
       ]
      },
      {
       "output_type": "stream",
       "stream": "stdout",
       "text": [
        "Generating target count for NSA155005 # 56 of 67\n"
       ]
      },
      {
       "output_type": "stream",
       "stream": "stdout",
       "text": [
        "Targeting parameters: {'removegama': False, 'faintlimit': 21, 'outercutrad': -90}\n"
       ]
      },
      {
       "output_type": "stream",
       "stream": "stdout",
       "text": [
        "Targeting parameters: {'removegama': False, 'faintlimit': 20.5, 'outercutrad': -90}\n"
       ]
      },
      {
       "output_type": "stream",
       "stream": "stdout",
       "text": [
        "Targeting parameters: {'removegama': False, 'faintlimit': 20, 'outercutrad': -90}\n"
       ]
      },
      {
       "output_type": "stream",
       "stream": "stdout",
       "text": [
        "Generating target count for NSA169528 # 57 of 67\n"
       ]
      },
      {
       "output_type": "stream",
       "stream": "stdout",
       "text": [
        "Targeting parameters: {'removegama': False, 'faintlimit': 21, 'outercutrad': -90}\n"
       ]
      },
      {
       "output_type": "stream",
       "stream": "stdout",
       "text": [
        "Targeting parameters: {'removegama': False, 'faintlimit': 20.5, 'outercutrad': -90}\n"
       ]
      },
      {
       "output_type": "stream",
       "stream": "stdout",
       "text": [
        "Targeting parameters: {'removegama': False, 'faintlimit': 20, 'outercutrad': -90}\n"
       ]
      },
      {
       "output_type": "stream",
       "stream": "stdout",
       "text": [
        "Generating target count for NSA151874 # 58 of 67\n"
       ]
      },
      {
       "output_type": "stream",
       "stream": "stdout",
       "text": [
        "Targeting parameters: {'removegama': False, 'faintlimit': 21, 'outercutrad': -90}\n"
       ]
      },
      {
       "output_type": "stream",
       "stream": "stdout",
       "text": [
        "Targeting parameters: {'removegama': False, 'faintlimit': 20.5, 'outercutrad': -90}\n"
       ]
      },
      {
       "output_type": "stream",
       "stream": "stdout",
       "text": [
        "Targeting parameters: {'removegama': False, 'faintlimit': 20, 'outercutrad': -90}\n"
       ]
      },
      {
       "output_type": "stream",
       "stream": "stdout",
       "text": [
        "Generating target count for NSA56408 # 59 of 67\n"
       ]
      },
      {
       "output_type": "stream",
       "stream": "stdout",
       "text": [
        "Targeting parameters: {'removegama': False, 'faintlimit': 21, 'outercutrad': -90}\n"
       ]
      },
      {
       "output_type": "stream",
       "stream": "stdout",
       "text": [
        "Targeting parameters: {'removegama': False, 'faintlimit': 20.5, 'outercutrad': -90}\n"
       ]
      },
      {
       "output_type": "stream",
       "stream": "stdout",
       "text": [
        "Targeting parameters: {'removegama': False, 'faintlimit': 20, 'outercutrad': -90}\n"
       ]
      },
      {
       "output_type": "stream",
       "stream": "stdout",
       "text": [
        "Generating target count for NSA37217 # 60 of 67\n"
       ]
      },
      {
       "output_type": "stream",
       "stream": "stdout",
       "text": [
        "Targeting parameters: {'removegama': False, 'faintlimit': 21, 'outercutrad': -90}\n"
       ]
      },
      {
       "output_type": "stream",
       "stream": "stdout",
       "text": [
        "Targeting parameters: {'removegama': False, 'faintlimit': 20.5, 'outercutrad': -90}\n"
       ]
      },
      {
       "output_type": "stream",
       "stream": "stdout",
       "text": [
        "Targeting parameters: {'removegama': False, 'faintlimit': 20, 'outercutrad': -90}\n"
       ]
      },
      {
       "output_type": "stream",
       "stream": "stdout",
       "text": [
        "Generating target count for NSA53553 # 61 of 67\n"
       ]
      },
      {
       "output_type": "stream",
       "stream": "stdout",
       "text": [
        "Targeting parameters: {'removegama': False, 'faintlimit': 21, 'outercutrad': -90}\n"
       ]
      },
      {
       "output_type": "stream",
       "stream": "stdout",
       "text": [
        "Targeting parameters: {'removegama': False, 'faintlimit': 20.5, 'outercutrad': -90}\n"
       ]
      },
      {
       "output_type": "stream",
       "stream": "stdout",
       "text": [
        "Targeting parameters: {'removegama': False, 'faintlimit': 20, 'outercutrad': -90}\n"
       ]
      },
      {
       "output_type": "stream",
       "stream": "stdout",
       "text": [
        "Generating target count for NSA139467 # 62 of 67\n"
       ]
      },
      {
       "output_type": "stream",
       "stream": "stdout",
       "text": [
        "Targeting parameters: {'removegama': False, 'faintlimit': 21, 'outercutrad': -90}\n"
       ]
      },
      {
       "output_type": "stream",
       "stream": "stdout",
       "text": [
        "Targeting parameters: {'removegama': False, 'faintlimit': 20.5, 'outercutrad': -90}\n"
       ]
      },
      {
       "output_type": "stream",
       "stream": "stdout",
       "text": [
        "Targeting parameters: {'removegama': False, 'faintlimit': 20, 'outercutrad': -90}\n"
       ]
      },
      {
       "output_type": "stream",
       "stream": "stdout",
       "text": [
        "Generating target count for NSA56725 # 63 of 67\n"
       ]
      },
      {
       "output_type": "stream",
       "stream": "stdout",
       "text": [
        "Targeting parameters: {'removegama': False, 'faintlimit': 21, 'outercutrad': -90}\n"
       ]
      },
      {
       "output_type": "stream",
       "stream": "stdout",
       "text": [
        "Targeting parameters: {'removegama': False, 'faintlimit': 20.5, 'outercutrad': -90}\n"
       ]
      },
      {
       "output_type": "stream",
       "stream": "stdout",
       "text": [
        "Targeting parameters: {'removegama': False, 'faintlimit': 20, 'outercutrad': -90}\n"
       ]
      },
      {
       "output_type": "stream",
       "stream": "stdout",
       "text": [
        "Generating target count for NSA133120 # 64 of 67\n"
       ]
      },
      {
       "output_type": "stream",
       "stream": "stdout",
       "text": [
        "Targeting parameters: {'removegama': False, 'faintlimit': 21, 'outercutrad': -90}\n"
       ]
      },
      {
       "output_type": "stream",
       "stream": "stdout",
       "text": [
        "Targeting parameters: {'removegama': False, 'faintlimit': 20.5, 'outercutrad': -90}\n"
       ]
      },
      {
       "output_type": "stream",
       "stream": "stdout",
       "text": [
        "Targeting parameters: {'removegama': False, 'faintlimit': 20, 'outercutrad': -90}\n"
       ]
      },
      {
       "output_type": "stream",
       "stream": "stdout",
       "text": [
        "Generating target count for NSA134212 # 65 of 67\n"
       ]
      },
      {
       "output_type": "stream",
       "stream": "stdout",
       "text": [
        "Targeting parameters: {'removegama': False, 'faintlimit': 21, 'outercutrad': -90}\n"
       ]
      },
      {
       "output_type": "stream",
       "stream": "stdout",
       "text": [
        "Targeting parameters: {'removegama': False, 'faintlimit': 20.5, 'outercutrad': -90}\n"
       ]
      },
      {
       "output_type": "stream",
       "stream": "stdout",
       "text": [
        "Targeting parameters: {'removegama': False, 'faintlimit': 20, 'outercutrad': -90}\n"
       ]
      },
      {
       "output_type": "stream",
       "stream": "stdout",
       "text": [
        "Generating target count for NSA149454 # 66 of 67\n"
       ]
      },
      {
       "output_type": "stream",
       "stream": "stdout",
       "text": [
        "Targeting parameters: {'removegama': False, 'faintlimit': 21, 'outercutrad': -90}\n"
       ]
      },
      {
       "output_type": "stream",
       "stream": "stdout",
       "text": [
        "Targeting parameters: {'removegama': False, 'faintlimit': 20.5, 'outercutrad': -90}\n"
       ]
      },
      {
       "output_type": "stream",
       "stream": "stdout",
       "text": [
        "Targeting parameters: {'removegama': False, 'faintlimit': 20, 'outercutrad': -90}\n"
       ]
      },
      {
       "output_type": "stream",
       "stream": "stdout",
       "text": [
        "Generating target count for NSA145188 # 67 of 67\n"
       ]
      },
      {
       "output_type": "stream",
       "stream": "stdout",
       "text": [
        "Targeting parameters: {'removegama': False, 'faintlimit': 21, 'outercutrad': -90}\n"
       ]
      },
      {
       "output_type": "stream",
       "stream": "stdout",
       "text": [
        "Targeting parameters: {'removegama': False, 'faintlimit': 20.5, 'outercutrad': -90}\n"
       ]
      },
      {
       "output_type": "stream",
       "stream": "stdout",
       "text": [
        "Targeting parameters: {'removegama': False, 'faintlimit': 20, 'outercutrad': -90}\n"
       ]
      }
     ],
     "prompt_number": 41
    },
    {
     "cell_type": "code",
     "collapsed": false,
     "input": [
      "print tab.dtype, len(tab)"
     ],
     "language": "python",
     "metadata": {},
     "outputs": [
      {
       "output_type": "stream",
       "stream": "stdout",
       "text": [
        "[('name', '|S9'), ('distmpc', '<f8'), ('rvirarcmin', '<f8'), ('ntarg_21', '<i8'), ('ntarg_20.5', '<i8'), ('ntarg_20', '<i8'), ('nsat_21', '<i8'), ('nsat_20.5', '<i8'), ('nsat_20', '<i8'), ('ntargpersat_21', '<f8'), ('ntargpersat_20.5', '<f8'), ('ntargpersat_20', '<f8')] 67\n"
       ]
      }
     ],
     "prompt_number": 42
    },
    {
     "cell_type": "code",
     "collapsed": false,
     "input": [
      "figure(figsize=(10,10))\n",
      "scatter(tab['distmpc'], tab['ntarg_21']*1e-3,s=(tab['nsat_21']-np.min(tab['nsat_21']))*10+1,lw=0,alpha=1,c='r',label='$r<21$')\n",
      "scatter(tab['distmpc'], tab['ntarg_20.5']*1e-3,s=(tab['nsat_20.5']-np.min(tab['nsat_20.5']))*10+1,lw=0,alpha=1,c='g',label='$r<20.5$')\n",
      "scatter(tab['distmpc'], tab['ntarg_20']*1e-3,s=(tab['nsat_20']-np.min(tab['nsat_20']))*10+1,lw=0,alpha=1,c='b',label='$r<20$')\n",
      "legend()\n",
      "xlabel(r'$d/{\\rm Mpc}$')\n",
      "ylabel(r'$N / 1000$')\n",
      "ylim(0.000001,40)\n",
      "savefig('bossanova/ntargssize.pdf')"
     ],
     "language": "python",
     "metadata": {},
     "outputs": [
      {
       "metadata": {},
       "output_type": "display_data",
       "png": "[encoded data removed]"
      }
     ],
     "prompt_number": 94
    },
    {
     "cell_type": "code",
     "collapsed": false,
     "input": [
      "figure(figsize=(10,10))\n",
      "scatter(tab['distmpc'], tab['ntarg_21']*1e-3,c=tab['nsat_21'],lw=0,alpha=1,vmin=3,vmax=7,label='$r<21$')\n",
      "scatter(tab['distmpc'], tab['ntarg_20.5']*1e-3,c=tab['nsat_20.5'],lw=0,alpha=1,marker='s',vmin=3,vmax=7,label='$r<20.5$')\n",
      "scatter(tab['distmpc'], tab['ntarg_20']*1e-3,c=tab['nsat_20'],lw=0,alpha=1,marker='^',vmin=3,vmax=7,label='$r<20$')\n",
      "colorbar().set_label(r'$N_{\\rm sats}$')\n",
      "xlabel(r'$d/{\\rm Mpc}$')\n",
      "ylabel(r'$N / 1000$')\n",
      "legend(loc=0)\n",
      "ylim(0.000001,40)\n",
      "savefig('bossanova/ntargscolor.pdf')"
     ],
     "language": "python",
     "metadata": {},
     "outputs": [
      {
       "metadata": {},
       "output_type": "display_data",
       "png": "[encoded data removed]"
      }
     ],
     "prompt_number": 93
    },
    {
     "cell_type": "heading",
     "level": 3,
     "metadata": {},
     "source": [
      "Estimating color based on draco stars"
     ]
    },
    {
     "cell_type": "code",
     "collapsed": false,
     "input": [
      "from astropy.io import ascii\n",
      "dra = ascii.read('Draco_30am_eteq.csv')"
     ],
     "language": "python",
     "metadata": {},
     "outputs": [],
     "prompt_number": 20
    },
    {
     "cell_type": "code",
     "collapsed": false,
     "input": [
      "g = dra['psf_g'] - dra['Ag']\n",
      "r = dra['psf_r'] - dra['Ar']\n",
      "i = dra['psf_i'] - dra['Ai']"
     ],
     "language": "python",
     "metadata": {},
     "outputs": [],
     "prompt_number": 25
    },
    {
     "cell_type": "code",
     "collapsed": false,
     "input": [
      "figure(figsize=(12,12))\n",
      "scatter(g-r,r,s=1,lw=0,alpha=.5)\n",
      "xlim(-1.5,3)\n",
      "ylim(25,16)"
     ],
     "language": "python",
     "metadata": {},
     "outputs": [
      {
       "metadata": {},
       "output_type": "pyout",
       "prompt_number": 33,
       "text": [
        "(25, 16)"
       ]
      },
      {
       "metadata": {},
       "output_type": "display_data",
       "png": "[encoded data removed]"
      }
     ],
     "prompt_number": 33
    },
    {
     "cell_type": "code",
     "collapsed": false,
     "input": [],
     "language": "python",
     "metadata": {},
     "outputs": []
    },
    {
     "cell_type": "heading",
     "level": 2,
     "metadata": {},
     "source": [
      "Generating Catalogs"
     ]
    },
    {
     "cell_type": "code",
     "collapsed": false,
     "input": [
      "hs=hosts.load_all_hosts('hosts2.dat').values()\n",
      "for hi in hs:\n",
      "    hi.environsarcmin = 90."
     ],
     "language": "python",
     "metadata": {},
     "outputs": [],
     "prompt_number": 19
    },
    {
     "cell_type": "code",
     "collapsed": false,
     "input": [
      "q=hi.sdss_environs_query(magcut=('modelMag_r', 21.5))"
     ],
     "language": "python",
     "metadata": {},
     "outputs": [],
     "prompt_number": 24
    },
    {
     "cell_type": "code",
     "collapsed": false,
     "input": [
      "print q"
     ],
     "language": "python",
     "metadata": {},
     "outputs": [
      {
       "output_type": "stream",
       "stream": "stdout",
       "text": [
        "\n",
        "SELECT  p.objId  as objID,\n",
        "p.ra, p.dec, p.type, p.flags, p.specObjID, dbo.fPhotoTypeN(p.type) as phot_sg,\n",
        "p.modelMag_u as u, p.modelMag_g as g, p.modelMag_r as r,p.modelMag_i as i,p.modelMag_z as z,\n",
        "p.modelMagErr_u as u_err, p.modelMagErr_g as g_err, p.modelMagErr_r as r_err,p.modelMagErr_i as i_err,p.modelMagErr_z as z_err,\n",
        "p.psfMag_u as psf_u, p.psfMag_g as psf_g, p.psfMag_r as psf_r, p.psfMag_i as psf_i, p.psfMag_z as psf_z,\n",
        "p.fibermag_r, p.fiber2mag_r,\n",
        "p.petroMag_r + 2.5*log10(2*PI()*p.petroR50_r*p.petroR50_r) as sb_petro_r,\n",
        "p.expMag_r, p.expMag_r + 2.5*log10(2*PI()*p.expRad_r*p.expRad_r + 1e-20) as sb_exp_r,\n",
        "p.deVMag_r, p.deVMag_r + 2.5*log10(2*PI()*p.deVRad_r*p.deVRad_r + 1e-20) as sb_deV_r,\n",
        "p.lnLExp_r, p.lnLDeV_r, p.lnLStar_r,\n",
        "p.extinction_u as Au, p.extinction_g as Ag, p.extinction_r as Ar, p.extinction_i as Ai, p.extinction_z as Az,\n",
        "ISNULL(s.z, -1) as spec_z, ISNULL(s.zErr, -1) as spec_z_err, ISNULL(s.zWarning, -1) as spec_z_warn, s.class as spec_class, s.subclass as spec_subclass\n",
        "\n",
        "\n",
        "\n",
        "FROM dbo.fGetNearbyObjEq(187.842294042, 57.964641518, 90.0) n, PhotoPrimary p\n",
        "LEFT JOIN SpecObj s ON p.specObjID = s.specObjID\n",
        "WHERE n.objID = p.objID and p.modelMag_r < 21.5\n",
        "\n"
       ]
      }
     ],
     "prompt_number": 25
    },
    {
     "cell_type": "code",
     "collapsed": false,
     "input": [
      "import os\n",
      "for hi in hs:\n",
      "    fnbase = 'catalogs/' + hi.name + '_sdss'\n",
      "    if os.path.exists(fnbase + '.dat'):\n",
      "        print 'Data file for', hi.name, 'exists, not making query!'\n",
      "    else:\n",
      "        print 'Making query file', fnbase + '.query'\n",
      "        q = hi.sdss_environs_query(magcut=('modelMag_r', 21.5))\n",
      "        with open(fnbase + '.query', 'w') as f:\n",
      "            f.write(q)\n",
      "        "
     ],
     "language": "python",
     "metadata": {},
     "outputs": [
      {
       "output_type": "stream",
       "stream": "stdout",
       "text": [
        "Making query file catalogs/NSA144113_sdss.query\n",
        "Data file for NSA144045 exists, not making query!\n",
        "Data file for NSA143975 exists, not making query!\n",
        "Making query file catalogs/NSA143856_sdss.query\n",
        "Making query file catalogs/NSA143555_sdss.query\n",
        "Data file for NSA142509 exists, not making query!\n",
        "Making query file catalogs/NSA142335_sdss.query\n",
        "Making query file catalogs/NSA141863_sdss.query\n",
        "Making query file catalogs/NSA144521_sdss.query\n",
        "Making query file catalogs/NSA144151_sdss.query\n",
        "Making query file catalogs/NSA145879_sdss.query\n",
        "Making query file catalogs/NSA145967_sdss.query\n",
        "Data file for"
       ]
      },
      {
       "output_type": "stream",
       "stream": "stdout",
       "text": [
        " NSA146210 exists, not making query!\n",
        "Data file for NSA147100 exists, not making query!\n",
        "Data file for NSA145188 exists, not making query!\n",
        "Making query file catalogs/NSA145314_sdss.query\n",
        "Making query file catalogs/NSA145682_sdss.query\n",
        "Making query file catalogs/NSA145729_sdss.query\n",
        "Making query file catalogs/NSA147606_sdss.query\n",
        "Making query file catalogs/NSA148188_sdss.query\n",
        "Making query file catalogs/NSA154089_sdss.query\n",
        "Making query file catalogs/NSA153017_sdss.query\n",
        "Data file for NSA148472 exists, not making query!\n",
        "Making query file catalogs/NSA148275_sdss.query\n",
        "Making query file catalogs/NSA149781_sdss.query\n",
        "Making query file catalogs/NSA148735_sdss.query\n",
        "Making query file catalogs/NSA150340_sdss.query\n",
        "Making query file catalogs/NSA150307_sdss.query\n",
        "Making query file catalogs/NSA151137_sdss.query\n",
        "Data file for NSA150440 exists, not making query!\n",
        "Data file for NSA158901 exists, not making query!\n",
        "Data file for NSA159593 exists, not making query!\n",
        "Making query file catalogs/NSA157495_sdss.query\n",
        "Making query file catalogs/NSA158541_sdss.query\n",
        "Making query file catalogs/NSA156022_sdss.query\n",
        "Making query file catalogs/NSA157374_sdss.query\n",
        "Making query file catalogs/NSA155274_sdss.query\n",
        "Making query file catalogs/NSA155420_sdss.query\n",
        "Data file for NSA155005 exists, not making query!\n",
        "Data file for NSA155204 exists, not making query!\n",
        "Making query file catalogs/NSA61945_sdss.query\n",
        "Making query file catalogs/NSA63326_sdss.query\n",
        "Making query file catalogs/NSA13927_sdss.query\n",
        "Making query file catalogs/NSA16559_sdss.query\n",
        "Data file for NSA32 exists, not making query!\n",
        "Making query file catalogs/NSA52773_sdss.query\n",
        "Making query file catalogs/NSA53145_sdss.query\n",
        "Making query file catalogs/NSA33446_sdss.query\n",
        "Data file for NSA41075 exists, not making query!\n",
        "Making query file catalogs/NSA160524_sdss.query\n",
        "Making query file catalogs/NSA159804_sdss.query\n",
        "Making query file catalogs/NSA159756_sdss.query\n",
        "Making query file catalogs/NSA159747_sdss.query\n",
        "Making query file catalogs/NSA162547_sdss.query\n",
        "Making query file catalogs/NSA161987_sdss.query\n",
        "Data file for NSA161726 exists, not making query!\n",
        "Data file for NSA161509 exists, not making query!\n",
        "Making query file catalogs/NSA169570_sdss.query\n",
        "Making query file catalogs/NSA163136_sdss.query\n",
        "Making query file catalogs/NSA162580_sdss.query\n",
        "Data file for NSA166440 exists, not making query!\n",
        "Making query file catalogs/NSA169911_sdss.query\n",
        "Data file for NSA169846 exists, not making query!\n",
        "Making query file catalogs/NSA126133_sdss.query\n",
        "Making query file catalogs/NSA128381_sdss.query\n",
        "Making query file catalogs/NSA69028_sdss.query\n",
        "Making query file catalogs/NSA74567_sdss.query\n",
        "Making query file catalogs/NSA82428_sdss.query\n",
        "Making query file catalogs/NSA87606_sdss.query\n",
        "Making query file catalogs/NSA90222_sdss.query\n",
        "Making query file catalogs/NSA94217_sdss.query\n",
        "Making query file catalogs/NSA99614_sdss.query\n",
        "Making query file catalogs/NSA101649_sdss.query\n",
        "Making query file"
       ]
      },
      {
       "output_type": "stream",
       "stream": "stdout",
       "text": [
        " catalogs/NSA163652_sdss.query\n",
        "Making query file catalogs/NSA163956_sdss.query\n",
        "Making query file catalogs/NSA164374_sdss.query\n",
        "Data file for NSA165091 exists, not making query!\n",
        "Making query file catalogs/NSA165153_sdss.query\n",
        "Making query file catalogs/NSA165536_sdss.query\n",
        "Making query file catalogs/NSA165832_sdss.query\n",
        "Data file for NSA165952 exists, not making query!\n",
        "Making query file catalogs/NSA165955_sdss.query\n",
        "Data file for NSA166313 exists, not making query!\n",
        "Making query file catalogs/NSA138217_sdss.query\n",
        "Making query file catalogs/NSA135440_sdss.query\n",
        "Making query file catalogs/NSA133953_sdss.query\n",
        "Data file for NSA133355 exists, not making query!\n",
        "Making query file catalogs/NSA134737_sdss.query\n",
        "Data file for NSA134212 exists, not making query!\n",
        "Data file for NSA129431 exists, not making query!\n",
        "Data file for NSA129387 exists, not making query!\n",
        "Making query file catalogs/NSA132339_sdss.query\n",
        "Making query file catalogs/NSA129533_sdss.query\n",
        "Making query file catalogs/NSA140004_sdss.query\n",
        "Data file for NSA140259 exists, not making query!\n",
        "Data file for NSA139467 exists, not making query!\n",
        "Making query file catalogs/NSA139920_sdss.query\n",
        "Data file for NSA140895 exists, not making query!\n",
        "Making query file catalogs/NSA141465_sdss.query\n",
        "Making query file catalogs/NSA140458_sdss.query\n",
        "Making query file catalogs/NSA140827_sdss.query\n",
        "Making query file catalogs/NSA141475_sdss.query\n",
        "Data file for NSA141565 exists, not making query!\n"
       ]
      }
     ],
     "prompt_number": 31
    },
    {
     "cell_type": "code",
     "collapsed": false,
     "input": [],
     "language": "python",
     "metadata": {},
     "outputs": []
    }
   ],
   "metadata": {}
  }
 ]
}