{
 "metadata": {
  "name": "",
  "signature": "sha256:1eadce8c87bc0e77cbe9491f6843f378b923bbb5879d1f36553f3fddcdf94b8f"
 },
 "nbformat": 3,
 "nbformat_minor": 0,
 "worksheets": [
  {
   "cells": [
    {
     "cell_type": "code",
     "collapsed": false,
     "input": [
      "# This changes the current directory to the base saga directory - make sure to run this first!\n",
      "# This is necessary to be able to import the py files and use the right directories,\n",
      "# while keeping all the notebooks in their own directory.\n",
      "import os\n",
      "import sys\n",
      "\n",
      "if 'saga_base_dir' not in locals():\n",
      "    saga_base_dir = os.path.abspath('..')\n",
      "if saga_base_dir not in sys.path:\n",
      "    os.chdir(saga_base_dir)"
     ],
     "language": "python",
     "metadata": {},
     "outputs": [],
     "prompt_number": 1
    },
    {
     "cell_type": "code",
     "collapsed": false,
     "input": [
      "import targeting\n",
      "from masterlist import masterlist\n",
      "reload(masterlist)"
     ],
     "language": "python",
     "metadata": {},
     "outputs": [
      {
       "metadata": {},
       "output_type": "pyout",
       "prompt_number": 35,
       "text": [
        "<module 'masterlist.masterlist' from 'masterlist/masterlist.py'>"
       ]
      }
     ],
     "prompt_number": 35
    },
    {
     "cell_type": "code",
     "collapsed": false,
     "input": [
      "outfn='newmastercat.csv'\n",
      "outfn=None\n",
      "mainvars = masterlist.main(outfn, catalogdir='masterlist')\n",
      "\n",
      "print mainvars.keys()\n",
      "locals().update(mainvars) # this brings everything in `mainvars` into the notebook's namespace"
     ],
     "language": "python",
     "metadata": {},
     "outputs": [
      {
       "output_type": "stream",
       "stream": "stdout",
       "text": [
        "Loading LEDA catalog...\n",
        "Loading 2MRS catalog..."
       ]
      },
      {
       "output_type": "stream",
       "stream": "stdout",
       "text": [
        "\n",
        "Loading EDD catalog..."
       ]
      },
      {
       "output_type": "stream",
       "stream": "stdout",
       "text": [
        "\n",
        "Loading KK nearby catalog..."
       ]
      },
      {
       "output_type": "stream",
       "stream": "stdout",
       "text": [
        "\n",
        "Loading 6dF..."
       ]
      },
      {
       "output_type": "stream",
       "stream": "stdout",
       "text": [
        "\n",
        "Loading 2MASS XSC..."
       ]
      },
      {
       "output_type": "stream",
       "stream": "stdout",
       "text": [
        "\n",
        "Generating initial catalog from EDD..."
       ]
      },
      {
       "output_type": "stream",
       "stream": "stdout",
       "text": [
        "\n",
        "Adding NSA..."
       ]
      },
      {
       "output_type": "stream",
       "stream": "stdout",
       "text": [
        "\n",
        "Simplifying master catalog..."
       ]
      },
      {
       "output_type": "stream",
       "stream": "stdout",
       "text": [
        "\n",
        "Adding 6df to master catalog..."
       ]
      },
      {
       "output_type": "stream",
       "stream": "stdout",
       "text": [
        "\n",
        "Filtering master catalog..."
       ]
      },
      {
       "output_type": "stream",
       "stream": "stdout",
       "text": [
        "\n",
        "Removing objects in master remove list\n",
        "Using local MasterRemove.csv file\n",
        "Remove list removed"
       ]
      },
      {
       "output_type": "stream",
       "stream": "stdout",
       "text": [
        " 14 objects\n",
        "Supplementing with 2MASS XSC K mags\n",
        "['mastercat0nonsa', 'leda', 'join', 'eddcats', 'edd', 'mastercat', 'nsa', 'quiet', 'outfn', 'mastercat0', 'mastercat1', 'mastercat2', 'twomassxsc', 'sixdf', 'print', 'twomass', 'catalogdir', 'preremcount', 'exists', 'kknearby']"
       ]
      },
      {
       "output_type": "stream",
       "stream": "stdout",
       "text": [
        "\n"
       ]
      }
     ],
     "prompt_number": 36
    },
    {
     "cell_type": "code",
     "collapsed": false,
     "input": [
      "mastercat = masterlist.filter_catalog(mastercat2, vcut=4000*u.km/u.s)\n",
      "print len(mastercat)\n",
      "res=masterlist.x_match_tests(mastercat, basedir='masterlist')"
     ],
     "language": "python",
     "metadata": {},
     "outputs": [
      {
       "output_type": "stream",
       "stream": "stdout",
       "text": [
        "18182\n",
        "RC3 non-matches: 16222 of 23011"
       ]
      },
      {
       "output_type": "stream",
       "stream": "stdout",
       "text": [
        "\n",
        "RC3 with v non-matches: 6948 of 10663\n",
        "ATLAS3D E non-matches: 1 of 260\n",
        "ATLAS3D Spiral non-matches: 1 of 611\n",
        "NSA Hosts non-matches: 10 of 67\n",
        "6dF non-matches: 100587 of 105335\n",
        "ZCAT non-matches: 49200 of 57536\n"
       ]
      }
     ],
     "prompt_number": 74
    },
    {
     "cell_type": "heading",
     "level": 3,
     "metadata": {},
     "source": [
      "Various info"
     ]
    },
    {
     "cell_type": "code",
     "collapsed": false,
     "input": [
      "inedd = ~mastercat0['Dist_edd'].mask\n",
      "inkk = ~mastercat0['Dist_kk'].mask\n",
      "sum(inedd), sum(inkk), sum(inedd&inkk)"
     ],
     "language": "python",
     "metadata": {},
     "outputs": [
      {
       "metadata": {},
       "output_type": "pyout",
       "prompt_number": 67,
       "text": [
        "(3652, 885, 463)"
       ]
      }
     ],
     "prompt_number": 67
    },
    {
     "cell_type": "code",
     "collapsed": false,
     "input": [
      "meths = list(np.unique(kknearby['Meth']))\n",
      "meths = dict(zip(meths, range(len(meths))))\n",
      "plt.scatter(kknearby['Dist'], [meths[m] for m in kknearby['Meth']],lw=0,alpha=.1)\n",
      "plt.yticks(meths.values(), meths.keys());\n",
      "plt.xlim(0,50)"
     ],
     "language": "python",
     "metadata": {},
     "outputs": [
      {
       "metadata": {},
       "output_type": "pyout",
       "prompt_number": 111,
       "text": [
        "(0, 50)"
       ]
      },
      {
       "metadata": {},
       "output_type": "display_data",
       "png": "[encoded data removed]",
       "text": [
        "<matplotlib.figure.Figure at 0x123684890>"
       ]
      }
     ],
     "prompt_number": 111
    },
    {
     "cell_type": "code",
     "collapsed": false,
     "input": [
      "sos = list(np.unique(edd['So']))\n",
      "sos = dict(zip(sos, range(len(sos))))\n",
      "plt.scatter(edd['Dist'], [sos[m] for m in edd['So']],lw=0,alpha=.1)\n",
      "plt.yticks(sos.values(), sos.keys());\n",
      "plt.xlim(0,50)"
     ],
     "language": "python",
     "metadata": {},
     "outputs": [
      {
       "metadata": {},
       "output_type": "pyout",
       "prompt_number": 112,
       "text": [
        "(0, 50)"
       ]
      },
      {
       "metadata": {},
       "output_type": "display_data",
       "png": "[encoded data removed]",
       "text": [
        "<matplotlib.figure.Figure at 0x15f6e0290>"
       ]
      }
     ],
     "prompt_number": 112
    },
    {
     "cell_type": "heading",
     "level": 3,
     "metadata": {},
     "source": [
      "Inspect duplicate PGC#s from close-pairs in NSA"
     ]
    },
    {
     "cell_type": "code",
     "collapsed": false,
     "input": [
      "from sys import stdout\n",
      "\n",
      "ntotswpgc, npgcs, ndups = [], [], []\n",
      "matchtols = [1,3,5,10,15,20,25,30,40,50,60,120,180]*u.arcsec\n",
      "for matchtol in matchtols:\n",
      "    print 'on matchtol',matchtol\n",
      "    stdout.flush()\n",
      "    tempcat = masterlist.add_nsa(mastercat0nonsa, nsa=None, removeduplicatepgcson=None, matchtolerance=matchtol)\n",
      "    ntotswpgc.append(np.sum(tempcat['pgc']>0))\n",
      "    npgcs.append(len(np.unique(tempcat['pgc']))-1)\n",
      "    ndups.append(ntotswpgc[-1]-npgcs[-1])"
     ],
     "language": "python",
     "metadata": {},
     "outputs": [
      {
       "output_type": "stream",
       "stream": "stdout",
       "text": [
        "on matchtol 1 arcsec\n"
       ]
      },
      {
       "output_type": "stream",
       "stream": "stdout",
       "text": [
        "on matchtol 3 arcsec\n"
       ]
      },
      {
       "output_type": "stream",
       "stream": "stdout",
       "text": [
        "on matchtol 5 arcsec\n"
       ]
      },
      {
       "output_type": "stream",
       "stream": "stdout",
       "text": [
        "on matchtol 10 arcsec\n"
       ]
      },
      {
       "output_type": "stream",
       "stream": "stdout",
       "text": [
        "on matchtol 15 arcsec\n"
       ]
      },
      {
       "output_type": "stream",
       "stream": "stdout",
       "text": [
        "on matchtol 20 arcsec\n"
       ]
      },
      {
       "output_type": "stream",
       "stream": "stdout",
       "text": [
        "on matchtol 25 arcsec\n"
       ]
      },
      {
       "output_type": "stream",
       "stream": "stdout",
       "text": [
        "on matchtol 30 arcsec\n"
       ]
      },
      {
       "output_type": "stream",
       "stream": "stdout",
       "text": [
        "on matchtol 40 arcsec\n"
       ]
      },
      {
       "output_type": "stream",
       "stream": "stdout",
       "text": [
        "on matchtol 50 arcsec\n"
       ]
      },
      {
       "output_type": "stream",
       "stream": "stdout",
       "text": [
        "on matchtol 60 arcsec\n"
       ]
      },
      {
       "output_type": "stream",
       "stream": "stdout",
       "text": [
        "on matchtol 120 arcsec\n"
       ]
      },
      {
       "output_type": "stream",
       "stream": "stdout",
       "text": [
        "on matchtol 180 arcsec\n"
       ]
      }
     ],
     "prompt_number": 53
    },
    {
     "cell_type": "code",
     "collapsed": false,
     "input": [
      "plt.semilogy(matchtols.value, [.1 if v==0 else v for v in ndups],'o-b')\n",
      "plt.semilogy(matchtols.value, ntotswpgc,'o-r')\n",
      "plt.xlabel('asec');\n",
      "#plt.xlim(0,60)\n",
      "ndups"
     ],
     "language": "python",
     "metadata": {},
     "outputs": [
      {
       "metadata": {},
       "output_type": "pyout",
       "prompt_number": 71,
       "text": [
        "[0, 13, 106, 212, 251, 336, 467, 619, 963, 1337, 1838, 6037, 10599]"
       ]
      },
      {
       "metadata": {},
       "output_type": "display_data",
       "png": "[encoded data removed]",
       "text": [
        "<matplotlib.figure.Figure at 0x12d579090>"
       ]
      }
     ],
     "prompt_number": 71
    },
    {
     "cell_type": "code",
     "collapsed": false,
     "input": [
      "testcat = masterlist.add_nsa(mastercat0nonsa, removeduplicatepgcson=None, matchtolerance=60*u.arcsec)\n",
      "pgc = testcat['pgc'].copy()\n",
      "pgc[pgc<0]=0\n",
      "print 'NDUPS=',np.sum(pgc>0)-len(np.unique(pgc)-1)\n",
      "np.sum(pgc>0),len(np.unique(pgc)-1)"
     ],
     "language": "python",
     "metadata": {},
     "outputs": [
      {
       "output_type": "stream",
       "stream": "stdout",
       "text": [
        "NDUPS= "
       ]
      },
      {
       "output_type": "stream",
       "stream": "stdout",
       "text": [
        "1837\n"
       ]
      },
      {
       "metadata": {},
       "output_type": "pyout",
       "prompt_number": 30,
       "text": [
        "(108811, 106974)"
       ]
      }
     ],
     "prompt_number": 30
    },
    {
     "cell_type": "code",
     "collapsed": false,
     "input": [
      "#show the duplicates and various bits of possibly useful information\n",
      "ras, decs, pgcs, dds, nsas, magrs = [], [], [], [], [],[]\n",
      "multipgcs = np.where(np.bincount(pgc) > 1)[0]\n",
      "for i,n in enumerate(multipgcs):\n",
      "    if i%50==0:\n",
      "        print 'on',i,'of',len(multipgcs)\n",
      "    if n!=0:\n",
      "        subcat = testcat[pgc==n]\n",
      "        for row in subcat[np.argsort(subcat['pgc_match_dist_asec'])]:\n",
      "            ras.append(row['RA'])\n",
      "            decs.append(row['DEC'])\n",
      "            pgcs.append(n)\n",
      "            dds.append(row['pgc_match_dist_asec'])\n",
      "            magrs.append(row['ABSMAG_r'])\n",
      "            nsas.append(row['NSAID'])\n",
      "res = targeting.sampled_imagelist(ras,decs,len(ras),['PGC#{1}:NSA#{2}:d={0:.2f}:r={3:.1f}'.format(ddi, pgci, nsai, magri) for \n",
      "                                                     ddi,pgci,nsai,magri in zip(dds,pgcs,nsas,magrs)])"
     ],
     "language": "python",
     "metadata": {},
     "outputs": [
      {
       "output_type": "stream",
       "stream": "stdout",
       "text": [
        "on 0 of 1718\n",
        "on"
       ]
      },
      {
       "output_type": "stream",
       "stream": "stdout",
       "text": [
        " 50 of 1718\n",
        "on"
       ]
      },
      {
       "output_type": "stream",
       "stream": "stdout",
       "text": [
        " 100 of 1718\n",
        "on"
       ]
      },
      {
       "output_type": "stream",
       "stream": "stdout",
       "text": [
        " 150 of 1718\n",
        "on"
       ]
      },
      {
       "output_type": "stream",
       "stream": "stdout",
       "text": [
        " 200 of 1718\n",
        "on"
       ]
      },
      {
       "output_type": "stream",
       "stream": "stdout",
       "text": [
        " 250 of 1718\n",
        "on"
       ]
      },
      {
       "output_type": "stream",
       "stream": "stdout",
       "text": [
        " 300 of 1718\n",
        "on"
       ]
      },
      {
       "output_type": "stream",
       "stream": "stdout",
       "text": [
        " 350 of 1718\n",
        "on"
       ]
      },
      {
       "output_type": "stream",
       "stream": "stdout",
       "text": [
        " 400 of 1718\n",
        "on"
       ]
      },
      {
       "output_type": "stream",
       "stream": "stdout",
       "text": [
        " 450 of 1718\n",
        "on"
       ]
      },
      {
       "output_type": "stream",
       "stream": "stdout",
       "text": [
        " 500 of 1718\n",
        "on"
       ]
      },
      {
       "output_type": "stream",
       "stream": "stdout",
       "text": [
        " 550 of 1718\n",
        "on"
       ]
      },
      {
       "output_type": "stream",
       "stream": "stdout",
       "text": [
        " 600 of 1718\n",
        "on"
       ]
      },
      {
       "output_type": "stream",
       "stream": "stdout",
       "text": [
        " 650 of 1718\n",
        "on"
       ]
      },
      {
       "output_type": "stream",
       "stream": "stdout",
       "text": [
        " 700 of 1718\n",
        "on"
       ]
      },
      {
       "output_type": "stream",
       "stream": "stdout",
       "text": [
        " 750 of 1718\n",
        "on"
       ]
      },
      {
       "output_type": "stream",
       "stream": "stdout",
       "text": [
        " 800 of 1718\n",
        "on"
       ]
      },
      {
       "output_type": "stream",
       "stream": "stdout",
       "text": [
        " 850 of 1718\n",
        "on"
       ]
      },
      {
       "output_type": "stream",
       "stream": "stdout",
       "text": [
        " 900 of 1718\n",
        "on"
       ]
      },
      {
       "output_type": "stream",
       "stream": "stdout",
       "text": [
        " 950 of 1718\n",
        "on"
       ]
      },
      {
       "output_type": "stream",
       "stream": "stdout",
       "text": [
        " 1000 of 1718\n",
        "on"
       ]
      },
      {
       "output_type": "stream",
       "stream": "stdout",
       "text": [
        " 1050 of 1718\n",
        "on"
       ]
      },
      {
       "output_type": "stream",
       "stream": "stdout",
       "text": [
        " 1100 of 1718\n",
        "on"
       ]
      },
      {
       "output_type": "stream",
       "stream": "stdout",
       "text": [
        " 1150 of 1718\n",
        "on"
       ]
      },
      {
       "output_type": "stream",
       "stream": "stdout",
       "text": [
        " 1200 of 1718\n",
        "on"
       ]
      },
      {
       "output_type": "stream",
       "stream": "stdout",
       "text": [
        " 1250 of 1718\n",
        "on"
       ]
      },
      {
       "output_type": "stream",
       "stream": "stdout",
       "text": [
        " 1300 of 1718\n",
        "on"
       ]
      },
      {
       "output_type": "stream",
       "stream": "stdout",
       "text": [
        " 1350 of 1718\n",
        "on"
       ]
      },
      {
       "output_type": "stream",
       "stream": "stdout",
       "text": [
        " 1400 of 1718\n",
        "on"
       ]
      },
      {
       "output_type": "stream",
       "stream": "stdout",
       "text": [
        " 1450 of 1718\n",
        "on"
       ]
      },
      {
       "output_type": "stream",
       "stream": "stdout",
       "text": [
        " 1500 of 1718\n",
        "on"
       ]
      },
      {
       "output_type": "stream",
       "stream": "stdout",
       "text": [
        " 1550 of 1718\n",
        "on"
       ]
      },
      {
       "output_type": "stream",
       "stream": "stdout",
       "text": [
        " 1600 of 1718\n",
        "on"
       ]
      },
      {
       "output_type": "stream",
       "stream": "stdout",
       "text": [
        " 1650 of 1718\n",
        "on"
       ]
      },
      {
       "output_type": "stream",
       "stream": "stdout",
       "text": [
        " 1700 of 1718\n"
       ]
      }
     ],
     "prompt_number": 31
    },
    {
     "cell_type": "heading",
     "level": 2,
     "metadata": {},
     "source": [
      "Check SDSS cross-iding"
     ]
    },
    {
     "cell_type": "code",
     "collapsed": false,
     "input": [
      "#note that this may need to be run a few times to get it to actually work\n",
      "reload(masterlist)\n",
      "res = masterlist.cross_id_w_sdss(mastercat, chunk=1000, nretrychunk=2, qryfields=['objid', 'ra', 'dec', 'type','up_ra', 'up_dec'])"
     ],
     "language": "python",
     "metadata": {},
     "outputs": [
      {
       "output_type": "stream",
       "stream": "stdout",
       "text": [
        "On chunk starting with 0 of 18182\n"
       ]
      },
      {
       "output_type": "stream",
       "stream": "stdout",
       "text": [
        "On chunk starting with 1000 of 18182\n"
       ]
      },
      {
       "output_type": "stream",
       "stream": "stdout",
       "text": [
        "On chunk starting with 2000 of 18182\n"
       ]
      },
      {
       "output_type": "stream",
       "stream": "stdout",
       "text": [
        "On chunk starting with 3000 of 18182\n"
       ]
      },
      {
       "output_type": "stream",
       "stream": "stdout",
       "text": [
        "On chunk starting with 4000 of 18182\n"
       ]
      },
      {
       "output_type": "stream",
       "stream": "stdout",
       "text": [
        "On chunk starting with 5000 of 18182\n"
       ]
      },
      {
       "output_type": "stream",
       "stream": "stdout",
       "text": [
        "On chunk starting with 6000 of 18182\n"
       ]
      },
      {
       "output_type": "stream",
       "stream": "stdout",
       "text": [
        "On chunk starting with 7000 of 18182\n"
       ]
      },
      {
       "output_type": "stream",
       "stream": "stdout",
       "text": [
        "On chunk starting with 8000 of 18182\n"
       ]
      },
      {
       "output_type": "stream",
       "stream": "stdout",
       "text": [
        "On chunk starting with 9000 of 18182\n"
       ]
      },
      {
       "output_type": "stream",
       "stream": "stdout",
       "text": [
        "On chunk starting with 10000 of 18182\n"
       ]
      },
      {
       "output_type": "stream",
       "stream": "stdout",
       "text": [
        "On chunk starting with 11000 of 18182\n"
       ]
      },
      {
       "output_type": "stream",
       "stream": "stdout",
       "text": [
        "On chunk starting with 12000 of 18182\n"
       ]
      },
      {
       "output_type": "stream",
       "stream": "stdout",
       "text": [
        "On chunk starting with 13000 of 18182\n"
       ]
      },
      {
       "output_type": "stream",
       "stream": "stdout",
       "text": [
        "On chunk starting with 14000 of 18182\n"
       ]
      },
      {
       "output_type": "stream",
       "stream": "stdout",
       "text": [
        "On chunk starting with 15000 of 18182\n"
       ]
      },
      {
       "output_type": "stream",
       "stream": "stdout",
       "text": [
        "On chunk starting with 16000 of 18182\n"
       ]
      },
      {
       "output_type": "stream",
       "stream": "stdout",
       "text": [
        "On chunk starting with 17000 of 18182\n"
       ]
      },
      {
       "output_type": "stream",
       "stream": "stdout",
       "text": [
        "On chunk starting with 18000 of 18182\n"
       ]
      }
     ],
     "prompt_number": 292
    },
    {
     "cell_type": "code",
     "collapsed": false,
     "input": [
      "matched_mastercat = mastercat[res['mastercat_idx']]"
     ],
     "language": "python",
     "metadata": {},
     "outputs": [],
     "prompt_number": 293
    },
    {
     "cell_type": "code",
     "collapsed": false,
     "input": [
      "msk = res['type']=='STAR'\n",
      "msk = msk & ~matched_mastercat['r'].mask  # only NSA objects\n",
      "print np.sum(msk)\n",
      "targeting.sampled_imagelist(res[msk], None, 100, names=matched_mastercat['NSAID'][msk]);"
     ],
     "language": "python",
     "metadata": {},
     "outputs": [
      {
       "output_type": "stream",
       "stream": "stdout",
       "text": [
        "919\n"
       ]
      }
     ],
     "prompt_number": 343
    },
    {
     "cell_type": "heading",
     "level": 3,
     "metadata": {},
     "source": [
      "Close pairs"
     ]
    },
    {
     "cell_type": "code",
     "collapsed": false,
     "input": [
      "mastercatcoo = coo.ICRS(mastercat['RA'].view(np.ndarray)*u.deg, mastercat['Dec'].view(np.ndarray)*u.deg)\n",
      "idx, d2d, d3d = mastercatcoo.match_to_catalog_sky(mastercatcoo, 2)"
     ],
     "language": "python",
     "metadata": {},
     "outputs": [],
     "prompt_number": 347
    },
    {
     "cell_type": "code",
     "collapsed": false,
     "input": [
      "plt.hist(d2d.arcsec,bins=np.linspace(0,60, 100),histtype='step');"
     ],
     "language": "python",
     "metadata": {},
     "outputs": [
      {
       "metadata": {},
       "output_type": "display_data",
       "png": "[encoded data removed]",
       "text": [
        "<matplotlib.figure.Figure at 0x133b2e4d0>"
       ]
      }
     ],
     "prompt_number": 433
    },
    {
     "cell_type": "code",
     "collapsed": false,
     "input": [
      "msk = (d2d.arcmin>)&(d2d.arcmin<3)&(~mastercat['RA'].mask)&(~mastercat['Dec'].mask)\n",
      "targeting.sampled_imagelist(mastercat[msk]['RA'],mastercat[msk]['Dec'],200);"
     ],
     "language": "python",
     "metadata": {},
     "outputs": [],
     "prompt_number": 369
    },
    {
     "cell_type": "code",
     "collapsed": false,
     "input": [
      "#close pairs *and* type=star\n",
      "matchedd2d = d2d[res['mastercat_idx']]\n",
      "matchedidx = idx[res['mastercat_idx']]\n",
      "msk = (res['type']=='STAR')&(matchedd2d.arcmin>3)\n",
      "print np.sum(msk)\n",
      "targeting.sampled_imagelist(matched_mastercat[msk]['RA'],matched_mastercat[msk]['Dec'],25,names=matched_mastercat['NSAID'][msk]);"
     ],
     "language": "python",
     "metadata": {},
     "outputs": [
      {
       "output_type": "stream",
       "stream": "stdout",
       "text": [
        "816\n"
       ]
      }
     ],
     "prompt_number": 387
    },
    {
     "cell_type": "code",
     "collapsed": false,
     "input": [
      "#close pairs *and* type=star\n",
      "matchedd2d = d2d[res['mastercat_idx']]\n",
      "matchedidx = idx[res['mastercat_idx']]\n",
      "msk = (res['type']=='STAR')&(matchedd2d.arcmin>0.5)&(matchedd2d.arcmin<1)\n",
      "print 'N=',np.sum(msk)\n",
      "\n",
      "print 'name ra dec'\n",
      "i=0\n",
      "for row1, row2 in zip(matched_mastercat[msk], mastercat[matchedidx[msk]]):\n",
      "    print row1['NSAID'], row1['RA'],row1['Dec']\n",
      "    print '+'+str(row2['NSAID']), row2['RA'],row2['Dec']\n",
      "    i += 1\n",
      "    if i>50:\n",
      "        break"
     ],
     "language": "python",
     "metadata": {},
     "outputs": [
      {
       "output_type": "stream",
       "stream": "stdout",
       "text": [
        "N= 30\n",
        "name ra dec\n",
        "52215 171.366547954 57.711714771\n",
        "+159800 171.361842511 57.721178527\n",
        "79907 234.402105694 5.95877826687\n",
        "+-- 234.4008 5.97361\n",
        "86657 190.52115013 32.5527960482\n",
        "+-- 190.53285 32.54239\n",
        "86724 200.488917191 38.7435516098\n",
        "+86723 200.485275096 38.7345606779\n",
        "89392 186.462157544 33.5527884499\n",
        "+89394 186.453617242 33.5468664501\n",
        "111921 168.353478377 22.1547226441\n",
        "+-- 168.36705 22.1527\n",
        "127131 7.90547228512 9.1600849359\n",
        "+-- 7.89465 9.171\n",
        "130622 28.2834464806 20.6665057585\n",
        "+154646 28.2935543184 20.6722318859\n",
        "138778 166.831288605 61.524695929\n",
        "+-- 166.8117 61.5295\n",
        "143311 199.958941946 13.8086897672\n",
        "+-- 199.9707 13.80666\n",
        "145547 221.196531684 55.5831127398\n",
        "+-- 221.18445 55.58888\n",
        "145688 223.561352051 30.2002485271\n",
        "+145686 223.550659365 30.210103833\n",
        "157903 152.586890374 62.9071425873\n",
        "+-- 152.5671 62.91376\n",
        "163088 197.47521714 17.1647349943\n",
        "+163089 197.48335329 17.1678921666\n",
        "163089 197.48335329 17.1678921666\n",
        "+163088 197.47521714 17.1647349943\n",
        "76844 140.439601968 64.2572273039\n",
        "+135851 140.456217794 64.2614681624\n",
        "138762 166.728220956 51.2035632325\n",
        "+32415 166.712289547 51.196153466\n",
        "-- 168.36705 22.1527\n",
        "+111921 168.353478377 22.1547226441\n",
        "142688 194.758059097 34.8604930872\n",
        "+88637 194.751294673 34.8451837202\n",
        "-- 196.6038 67.70693\n",
        "+142981 196.575150664 67.7036686385\n",
        "143136 198.322472786 36.2172554443\n",
        "+90692 198.326922772 36.2029375597\n",
        "164610 212.553733105 -2.57584456675\n",
        "+164611 212.556105344 -2.56509222086\n",
        "-- 334.032 22.9423\n",
        "+168324 334.034716542 22.9341046605\n",
        "-- 170.5686 20.8756\n",
        "+139270 170.567842371 20.8658822165\n",
        "-- 7.89465 9.171\n",
        "+127131 7.90547228512 9.1600849359\n",
        "-- 166.8117 61.5295\n",
        "+138778 166.831288605 61.524695929\n",
        "-- 132.8916 30.87528\n",
        "+135527 132.88727516 30.8653413205\n",
        "-- 303.54945 -11.76026\n",
        "+148569 303.557635158 -11.7651508488\n",
        "-- 199.0644 -20.71021\n",
        "+-- 199.07505 -20.69862\n",
        "-- 184.5012 8.16528\n",
        "+141081 184.49023733 8.16619137622\n"
       ]
      }
     ],
     "prompt_number": 445
    }
   ],
   "metadata": {}
  }
 ]
}