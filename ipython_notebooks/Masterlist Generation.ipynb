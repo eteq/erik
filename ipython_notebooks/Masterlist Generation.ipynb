{
 "metadata": {
  "name": "",
  "signature": "sha256:dcc3c2c4cd2b72a371b03b4f3219efba6c735cd32edd99802855638a3a67c859"
 },
 "nbformat": 3,
 "nbformat_minor": 0,
 "worksheets": [
  {
   "cells": [
    {
     "cell_type": "code",
     "collapsed": false,
     "input": [
      "# This changes the current directory to the base saga directory - make sure to run this first!\n",
      "# This is necessary to be able to import the py files and use the right directories,\n",
      "# while keeping all the notebooks in their own directory.\n",
      "import os\n",
      "import sys\n",
      "\n",
      "if 'saga_base_dir' not in locals():\n",
      "    saga_base_dir = os.path.abspath('..')\n",
      "if saga_base_dir not in sys.path:\n",
      "    os.chdir(saga_base_dir)"
     ],
     "language": "python",
     "metadata": {},
     "outputs": [],
     "prompt_number": 1
    },
    {
     "cell_type": "code",
     "collapsed": false,
     "input": [
      "from masterlist import masterlist"
     ],
     "language": "python",
     "metadata": {},
     "outputs": [],
     "prompt_number": 2
    },
    {
     "cell_type": "code",
     "collapsed": false,
     "input": [
      "mainvars = masterlist.main('newmastercat.csv', catalogdir='masterlist')\n",
      "print mainvars.keys()\n",
      "locals().update(mainvars) # this brings everything in `mainvars` into the notebook's namespace"
     ],
     "language": "python",
     "metadata": {},
     "outputs": [
      {
       "output_type": "stream",
       "stream": "stdout",
       "text": [
        "Loading LEDA catalog...\n",
        "Loading 2MRS catalog..."
       ]
      },
      {
       "output_type": "stream",
       "stream": "stdout",
       "text": [
        "\n",
        "Loading EDD catalog..."
       ]
      },
      {
       "output_type": "stream",
       "stream": "stdout",
       "text": [
        "\n",
        "Loading KK nearby catalog..."
       ]
      },
      {
       "output_type": "stream",
       "stream": "stdout",
       "text": [
        "\n",
        "Loading 6dF..."
       ]
      },
      {
       "output_type": "stream",
       "stream": "stdout",
       "text": [
        "\n",
        "Loading 2MASS XSC..."
       ]
      },
      {
       "output_type": "stream",
       "stream": "stdout",
       "text": [
        "\n",
        "Generating master catalog..."
       ]
      },
      {
       "output_type": "stream",
       "stream": "stdout",
       "text": [
        "\n",
        "Simplifying master catalog..."
       ]
      },
      {
       "output_type": "stream",
       "stream": "stdout",
       "text": [
        "\n",
        "Adding 6df to master catalog..."
       ]
      },
      {
       "output_type": "stream",
       "stream": "stdout",
       "text": [
        "\n",
        "Filtering master catalog..."
       ]
      },
      {
       "output_type": "stream",
       "stream": "stdout",
       "text": [
        "\n",
        "Supplementing with 2MASS XSC K mags\n",
        "Writing master catalog to newmastercat.csv..."
       ]
      },
      {
       "output_type": "stream",
       "stream": "stdout",
       "text": [
        "\n",
        "['leda', 'join', 'eddcats', 'edd', 'mastercat', 'nsa', 'quiet', 'mastercat0', 'mastercat1', 'mastercat2', 'cats', 'twomassxsc', 'sixdf', 'print', 'twomass', 'oldmpo', 'catalogdir', 'outfn', 'kknearby']"
       ]
      },
      {
       "output_type": "stream",
       "stream": "stdout",
       "text": [
        "\n"
       ]
      }
     ],
     "prompt_number": 3
    },
    {
     "cell_type": "code",
     "collapsed": false,
     "input": [
      "mastercat = masterlist.filter_catalog(mastercat2, vcut=4000*u.km/u.s)\n",
      "print len(mastercat)\n",
      "res=masterlist.x_match_tests(mastercat, basedir='masterlist')"
     ],
     "language": "python",
     "metadata": {},
     "outputs": [
      {
       "output_type": "stream",
       "stream": "stdout",
       "text": [
        "18006\n",
        "RC3 non-matches: 16224 of 23011"
       ]
      },
      {
       "output_type": "stream",
       "stream": "stdout",
       "text": [
        "\n",
        "RC3 with v non-matches: 6949 of 10663\n",
        "ATLAS3D E non-matches: 1 of 260\n",
        "ATLAS3D Spiral non-matches: 1 of 611\n",
        "NSA Hosts non-matches: 10 of 67\n",
        "6dF non-matches: 100587 of 105335\n",
        "ZCAT non-matches: 49201 of 57536\n"
       ]
      }
     ],
     "prompt_number": 4
    },
    {
     "cell_type": "heading",
     "level": 3,
     "metadata": {},
     "source": [
      "Various info"
     ]
    },
    {
     "cell_type": "code",
     "collapsed": false,
     "input": [
      "inedd = ~mastercat0['Dist_edd'].mask\n",
      "inkk = ~mastercat0['Dist_kk'].mask\n",
      "sum(inedd), sum(inkk), sum(inedd&inkk)"
     ],
     "language": "python",
     "metadata": {},
     "outputs": [
      {
       "metadata": {},
       "output_type": "pyout",
       "prompt_number": 67,
       "text": [
        "(3652, 885, 463)"
       ]
      }
     ],
     "prompt_number": 67
    },
    {
     "cell_type": "code",
     "collapsed": false,
     "input": [
      "meths = list(np.unique(kknearby['Meth']))\n",
      "meths = dict(zip(meths, range(len(meths))))\n",
      "plt.scatter(kknearby['Dist'], [meths[m] for m in kknearby['Meth']],lw=0,alpha=.1)\n",
      "plt.yticks(meths.values(), meths.keys());\n",
      "plt.xlim(0,50)"
     ],
     "language": "python",
     "metadata": {},
     "outputs": [
      {
       "metadata": {},
       "output_type": "pyout",
       "prompt_number": 111,
       "text": [
        "(0, 50)"
       ]
      },
      {
       "metadata": {},
       "output_type": "display_data",
       "png": "[encoded data removed]",
       "text": [
        "<matplotlib.figure.Figure at 0x123684890>"
       ]
      }
     ],
     "prompt_number": 111
    },
    {
     "cell_type": "code",
     "collapsed": false,
     "input": [
      "sos = list(np.unique(edd['So']))\n",
      "sos = dict(zip(sos, range(len(sos))))\n",
      "plt.scatter(edd['Dist'], [sos[m] for m in edd['So']],lw=0,alpha=.1)\n",
      "plt.yticks(sos.values(), sos.keys());\n",
      "plt.xlim(0,50)"
     ],
     "language": "python",
     "metadata": {},
     "outputs": [
      {
       "metadata": {},
       "output_type": "pyout",
       "prompt_number": 112,
       "text": [
        "(0, 50)"
       ]
      },
      {
       "metadata": {},
       "output_type": "display_data",
       "png": "[encoded data removed]",
       "text": [
        "<matplotlib.figure.Figure at 0x15f6e0290>"
       ]
      }
     ],
     "prompt_number": 112
    },
    {
     "cell_type": "code",
     "collapsed": false,
     "input": [],
     "language": "python",
     "metadata": {},
     "outputs": []
    }
   ],
   "metadata": {}
  }
 ]
}