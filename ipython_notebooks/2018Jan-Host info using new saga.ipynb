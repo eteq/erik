{
 "cells": [
  {
   "cell_type": "markdown",
   "metadata": {},
   "source": [
    "This notebook, unlike previous notebooks, uses the new shared saga code repo.  It also require py3."
   ]
  },
  {
   "cell_type": "markdown",
   "metadata": {},
   "source": [
    "# Imports/Setup "
   ]
  },
  {
   "cell_type": "code",
   "execution_count": 126,
   "metadata": {
    "collapsed": true
   },
   "outputs": [],
   "source": [
    "import os\n",
    "import sys\n",
    "from glob import glob\n",
    "\n",
    "import numpy as np\n",
    "\n",
    "from astropy import units as u\n",
    "from astropy import table\n",
    "from astropy.coordinates import SkyCoord, UnitSphericalRepresentation, CartesianRepresentation, matrix_utilities"
   ]
  },
  {
   "cell_type": "code",
   "execution_count": 2,
   "metadata": {
    "collapsed": true
   },
   "outputs": [],
   "source": [
    "%matplotlib inline\n",
    "from matplotlib import style, pyplot as plt"
   ]
  },
  {
   "cell_type": "markdown",
   "metadata": {},
   "source": [
    "The below two cells build the saga repo and sets the path to look for it"
   ]
  },
  {
   "cell_type": "code",
   "execution_count": 3,
   "metadata": {},
   "outputs": [
    {
     "name": "stdout",
     "output_type": "stream",
     "text": [
      "/Users/erik/projects/saga/saga\n",
      "running build\n",
      "running build_py\n",
      "copying SAGA/hosts/host_catalog.py -> build/lib/SAGA/hosts\n",
      "/Users/erik/projects/saga/erik/ipython_notebooks\n"
     ]
    }
   ],
   "source": [
    "startdir = !pwd\n",
    "startdir = startdir[0]\n",
    "%cd ../../saga\n",
    "sagadir = !pwd\n",
    "sagadir = sagadir[0]\n",
    "!python setup.py build\n",
    "%cd $startdir"
   ]
  },
  {
   "cell_type": "code",
   "execution_count": 4,
   "metadata": {},
   "outputs": [
    {
     "name": "stdout",
     "output_type": "stream",
     "text": [
      "Adding /Users/erik/projects/saga/saga/build/lib to the python path\n"
     ]
    }
   ],
   "source": [
    "sagalibdir = os.path.join(sagadir, 'build/lib')\n",
    "print('Adding', sagalibdir, 'to the python path')\n",
    "sys.path.insert(0, sagalibdir)\n",
    "\n",
    "import SAGA as saga"
   ]
  },
  {
   "cell_type": "markdown",
   "metadata": {},
   "source": [
    "# Lists of hosts"
   ]
  },
  {
   "cell_type": "code",
   "execution_count": 5,
   "metadata": {},
   "outputs": [
    {
     "name": "stdout",
     "output_type": "stream",
     "text": [
      "Downloading https://docs.google.com/spreadsheets/d/1GJYuhqfKeuJr-IyyGF_NDLb_ezL6zBiX2aeZFHHPr_s/export?format=csv&gid=0 [Done]\n",
      "Downloading https://docs.google.com/spreadsheets/d/1b3k2eyFjHFDtmHce1xi6JKuj3ATOWYduTBFftx5oPp8/export?format=csv&gid=1136984451 [Done]\n"
     ]
    },
    {
     "data": {
      "text/html": [
       "&lt;Table masked=True length=71&gt;\n",
       "<table id=\"table4778895960\" class=\"table-striped table-bordered table-condensed\">\n",
       "<thead><tr><th>NSAID</th><th>RA</th><th>Dec</th><th>PGC#</th><th>vhelio</th><th>distance</th><th>r</th><th>i</th><th>z</th><th>I</th><th>K</th><th>K_err</th><th>flag</th><th>K_abs</th><th>r_abs</th><th>b</th><th>dist_to_group</th><th>brightest_K_nearby</th><th>SDSS_FRACGOOD</th><th>RA_sub</th><th>Dec_sub</th><th>othername</th><th>vhelio_sub</th><th>vhelio_err</th><th>distance_sub</th><th>dist_2MASS_NSA</th><th>u</th><th>u_err</th><th>A_u</th><th>M_u</th><th>g</th><th>g_err</th><th>A_g</th><th>M_g</th><th>r_sub</th><th>r_err</th><th>A_r</th><th>M_r</th><th>i_sub</th><th>i_err</th><th>A_i</th><th>M_i</th><th>z_sub</th><th>z_err</th><th>A_z</th><th>M_z</th><th>J</th><th>J_err</th><th>A_J</th><th>M_J</th><th>H</th><th>H_err</th><th>A_H</th><th>M_H</th><th>K_sub</th><th>K_err_sub</th><th>A_K</th><th>M_K</th><th>stellar_mass</th><th>sersic_n</th><th>MK_compiled</th><th>SAGA_name</th><th>coord</th></tr></thead>\n",
       "<thead><tr><th></th><th></th><th></th><th></th><th></th><th></th><th></th><th></th><th></th><th></th><th></th><th></th><th></th><th></th><th></th><th></th><th></th><th></th><th></th><th></th><th></th><th></th><th></th><th></th><th></th><th></th><th></th><th></th><th></th><th></th><th></th><th></th><th></th><th></th><th></th><th></th><th></th><th></th><th></th><th></th><th></th><th></th><th></th><th></th><th></th><th></th><th></th><th></th><th></th><th></th><th></th><th></th><th></th><th></th><th></th><th></th><th></th><th></th><th></th><th></th><th></th><th></th><th>deg,deg</th></tr></thead>\n",
       "<thead><tr><th>int64</th><th>float64</th><th>float64</th><th>int64</th><th>float64</th><th>float64</th><th>float64</th><th>float64</th><th>float64</th><th>float64</th><th>float64</th><th>float64</th><th>int64</th><th>float64</th><th>float64</th><th>float64</th><th>float64</th><th>float64</th><th>float64</th><th>float64</th><th>float64</th><th>str16</th><th>float64</th><th>int64</th><th>float64</th><th>float64</th><th>float64</th><th>float64</th><th>float64</th><th>float64</th><th>float64</th><th>float64</th><th>float64</th><th>float64</th><th>float64</th><th>float64</th><th>float64</th><th>float64</th><th>float64</th><th>float64</th><th>float64</th><th>float64</th><th>float64</th><th>float64</th><th>float64</th><th>float64</th><th>float64</th><th>float64</th><th>float64</th><th>float64</th><th>float64</th><th>float64</th><th>float64</th><th>float64</th><th>float64</th><th>float64</th><th>float64</th><th>float64</th><th>float64</th><th>float64</th><th>float64</th><th>str11</th><th>object</th></tr></thead>\n",
       "<tr><td>145729</td><td>224.594</td><td>-1.09102</td><td>53499</td><td>1922.0</td><td>28.4038</td><td>11.9155</td><td>11.457</td><td>11.0653</td><td>9.49</td><td>7.693</td><td>0.019</td><td>0</td><td>-24.5739</td><td>-20.3514</td><td>48.4266</td><td>3.55266</td><td>12.164</td><td>0.983605</td><td>224.594</td><td>-1.09102</td><td>g1458227-010528</td><td>1922.0</td><td>-1</td><td>28.4038</td><td>0.520533</td><td>14.1855</td><td>0.0109577</td><td>0.245277</td><td>-18.3542</td><td>12.3155</td><td>0.000563506</td><td>0.191118</td><td>-20.1622</td><td>11.2899</td><td>0.000420059</td><td>0.132215</td><td>-21.1207</td><td>10.7733</td><td>0.000416391</td><td>0.0982496</td><td>-21.6016</td><td>10.3333</td><td>0.000670495</td><td>0.0730797</td><td>-22.0151</td><td>8.594</td><td>0.02</td><td>0.0410241</td><td>-23.7147</td><td>7.951</td><td>0.023</td><td>0.02598</td><td>-24.3439</td><td>7.713</td><td>0.031</td><td>0.0174743</td><td>-24.5597</td><td>19800000000.0</td><td>2.82806</td><td>-24.5739</td><td>Othello</td><td>224.594,-1.09102</td></tr>\n",
       "<tr><td>150887</td><td>348.683</td><td>4.53406</td><td>70795</td><td>2689.0</td><td>37.019</td><td>11.9764</td><td>11.6247</td><td>11.3038</td><td>10.57</td><td>8.327</td><td>0.013</td><td>0</td><td>-24.5151</td><td>-20.8657</td><td>-50.6545</td><td>5.73166</td><td>10.189</td><td>0.98742</td><td>348.683</td><td>4.53406</td><td>NGC_7541</td><td>2689.0</td><td>-1</td><td>37.019</td><td>0.844612</td><td>13.5013</td><td>0.00257254</td><td>0.285874</td><td>-19.6741</td><td>12.1673</td><td>0.000503632</td><td>0.222751</td><td>-20.9126</td><td>11.3808</td><td>0.000382114</td><td>0.154098</td><td>-21.6316</td><td>10.9634</td><td>0.000777402</td><td>0.114511</td><td>-22.004</td><td>10.589</td><td>0.0018768</td><td>0.0851754</td><td>-22.3494</td><td>9.439</td><td>0.005</td><td>0.0478142</td><td>-23.451</td><td>8.757</td><td>0.006</td><td>0.0302801</td><td>-24.1194</td><td>8.351</td><td>0.007</td><td>0.0203666</td><td>-24.4949</td><td>25100000000.0</td><td>0.777359</td><td>-24.5151</td><td>Catch22</td><td>348.683,4.53406</td></tr>\n",
       "<tr><td>140594</td><td>180.098</td><td>-1.10008</td><td>37845</td><td>1465.0</td><td>23.2487</td><td>11.1116</td><td>10.7406</td><td>10.4707</td><td>9.35</td><td>7.321</td><td>0.015</td><td>0</td><td>-24.511</td><td>-20.7204</td><td>59.2146</td><td>2.29212</td><td>12.669</td><td>0.985217</td><td>180.098</td><td>-1.10008</td><td>g1200236-010600</td><td>1465.0</td><td>-1</td><td>23.2487</td><td>0.508479</td><td>12.5696</td><td>0.00122745</td><td>0.112339</td><td>-19.3871</td><td>11.1341</td><td>0.00028931</td><td>0.0875336</td><td>-20.795</td><td>10.3932</td><td>0.000242571</td><td>0.0605553</td><td>-21.5041</td><td>9.98552</td><td>0.000254046</td><td>0.0449991</td><td>-21.896</td><td>9.68725</td><td>0.000379465</td><td>0.0334711</td><td>-22.1818</td><td>8.271</td><td>0.009</td><td>0.0187894</td><td>-23.5789</td><td>7.604</td><td>0.012</td><td>0.0118991</td><td>-24.24</td><td>7.33</td><td>0.015</td><td>0.00800337</td><td>-24.5004</td><td>20600000000.0</td><td>1.7545</td><td>-24.511</td><td>Alice</td><td>180.098,-1.10008</td></tr>\n",
       "<tr><td>142722</td><td>194.863</td><td>14.1712</td><td>44600</td><td>1988.0</td><td>30.027</td><td>11.4723</td><td>11.0534</td><td>10.7367</td><td>9.93</td><td>7.907</td><td>0.016</td><td>0</td><td>-24.4806</td><td>-20.9153</td><td>76.9088</td><td>3.38499</td><td>10.768</td><td>0.987676</td><td>194.863</td><td>14.1712</td><td>NGC_4866</td><td>1988.0</td><td>-1</td><td>30.027</td><td>0.860169</td><td>13.5959</td><td>0.0034416</td><td>0.117999</td><td>-18.9324</td><td>11.6346</td><td>0.000660792</td><td>0.0919442</td><td>-20.8639</td><td>10.7622</td><td>0.000601578</td><td>0.0636066</td><td>-21.6974</td><td>10.3064</td><td>0.000701003</td><td>0.0472665</td><td>-22.1363</td><td>9.95885</td><td>0.000769763</td><td>0.0351576</td><td>-22.4698</td><td>8.856</td><td>0.017</td><td>0.0197361</td><td>-23.5504</td><td>8.186</td><td>0.018</td><td>0.0124986</td><td>-24.2145</td><td>7.917</td><td>0.02</td><td>0.00840664</td><td>-24.466</td><td>35000000000.0</td><td>2.18747</td><td>-24.4806</td><td></td><td>194.863,14.1712</td></tr>\n",
       "<tr><td>150578</td><td>346.236</td><td>12.3229</td><td>70419</td><td>2381.0</td><td>33.313</td><td>11.5503</td><td>11.1597</td><td>10.903</td><td>9.89</td><td>8.162</td><td>0.021</td><td>0</td><td>-24.4511</td><td>-21.0628</td><td>-42.8417</td><td>9.44227</td><td>14.017</td><td>0.987084</td><td>346.236</td><td>12.3229</td><td>NGC_7479</td><td>2381.0</td><td>-1</td><td>33.313</td><td>0.271001</td><td>13.4744</td><td>0.00466526</td><td>0.477309</td><td>-19.6406</td><td>11.9191</td><td>0.000694477</td><td>0.371916</td><td>-21.0857</td><td>11.0737</td><td>0.000516905</td><td>0.257289</td><td>-21.8076</td><td>10.5901</td><td>0.000479616</td><td>0.191194</td><td>-22.2242</td><td>10.2512</td><td>0.000863628</td><td>0.142213</td><td>-22.5123</td><td>9.194</td><td>0.011</td><td>0.0798329</td><td>-23.4982</td><td>8.508</td><td>0.011</td><td>0.0505571</td><td>-24.1574</td><td>8.202</td><td>0.019</td><td>0.034005</td><td>-24.4297</td><td>34400000000.0</td><td>2.01064</td><td>-24.4511</td><td></td><td>346.236,12.3229</td></tr>\n",
       "<tr><td>163956</td><td>206.33</td><td>41.7125</td><td>48767</td><td>2549.01</td><td>37.2285</td><td>12.2853</td><td>11.7813</td><td>11.3937</td><td>11.43</td><td>8.434</td><td>0.012</td><td>0</td><td>-24.4204</td><td>-20.5691</td><td>71.714</td><td>9.76207</td><td>9.739</td><td>0.985273</td><td>206.33</td><td>41.7125</td><td>13451914+4142447</td><td>2549.01</td><td>-1</td><td>37.2285</td><td>0.879017</td><td>14.1416</td><td>0.00298302</td><td>0.0288247</td><td>-18.7735</td><td>12.4646</td><td>0.00131613</td><td>0.02246</td><td>-20.4361</td><td>11.5252</td><td>0.000345898</td><td>0.0155377</td><td>-21.3595</td><td>10.9973</td><td>0.00034377</td><td>0.0115462</td><td>-21.8814</td><td>10.5916</td><td>0.000769146</td><td>0.00858824</td><td>-22.2824</td><td>9.511</td><td>0.013</td><td>0.00482111</td><td>-23.3483</td><td>8.764</td><td>0.008</td><td>0.00305314</td><td>-24.0966</td><td>8.436</td><td>0.018</td><td>0.00205356</td><td>-24.4045</td><td>25700000000.0</td><td>1.63483</td><td>-24.4204</td><td></td><td>206.33,41.7125</td></tr>\n",
       "<tr><td>165153</td><td>218.023</td><td>57.9215</td><td>51932</td><td>1898.39</td><td>31.0085</td><td>11.8023</td><td>11.4237</td><td>11.1454</td><td>10.7</td><td>8.277</td><td>0.018</td><td>0</td><td>-24.1804</td><td>-20.6551</td><td>54.5048</td><td>5.29993</td><td>11.681</td><td>0.981689</td><td>218.023</td><td>57.9215</td><td>14320561+5755171</td><td>1898.39</td><td>-1</td><td>31.0085</td><td>0.157348</td><td>13.207</td><td>0.00180094</td><td>0.0459103</td><td>-19.3125</td><td>11.789</td><td>0.000605638</td><td>0.035773</td><td>-20.7176</td><td>11.0443</td><td>0.000314291</td><td>0.0247476</td><td>-21.444</td><td>10.6403</td><td>0.000652388</td><td>0.0183901</td><td>-21.8413</td><td>10.3418</td><td>0.000650921</td><td>0.0136789</td><td>-22.1337</td><td>9.245</td><td>0.012</td><td>0.0076788</td><td>-23.2187</td><td>8.547</td><td>0.015</td><td>0.00486288</td><td>-23.9151</td><td>8.281</td><td>0.017</td><td>0.0032708</td><td>-24.167</td><td>23900000000.0</td><td>1.1047</td><td>-24.1804</td><td></td><td>218.023,57.9215</td></tr>\n",
       "<tr><td>135879</td><td>141.077</td><td>34.5135</td><td>26649</td><td>1687.0</td><td>27.6714</td><td>11.588</td><td>11.2183</td><td>10.9256</td><td>--</td><td>8.032</td><td>0.016</td><td>0</td><td>-24.1782</td><td>-20.6222</td><td>45.4015</td><td>9.01869</td><td>13.189</td><td>0.981817</td><td>141.077</td><td>34.5135</td><td>NGC_2859</td><td>1687.0</td><td>-1</td><td>27.6714</td><td>0.55892</td><td>13.5483</td><td>0.00282837</td><td>0.0868847</td><td>-18.7657</td><td>11.6597</td><td>0.000669518</td><td>0.0676999</td><td>-20.6332</td><td>10.8547</td><td>0.000623525</td><td>0.0468345</td><td>-21.4079</td><td>10.4533</td><td>0.000638717</td><td>0.0348031</td><td>-21.7971</td><td>10.134</td><td>0.000778588</td><td>0.0258871</td><td>-22.1057</td><td>8.913</td><td>0.019</td><td>0.014532</td><td>-23.31</td><td>8.225</td><td>0.02</td><td>0.00920293</td><td>-23.9936</td><td>8.039</td><td>0.024</td><td>0.00618994</td><td>-24.1656</td><td>26100000000.0</td><td>4.30874</td><td>-24.1782</td><td></td><td>141.077,34.5135</td></tr>\n",
       "<tr><td>126115</td><td>0.995575</td><td>20.7524</td><td>279</td><td>2309.0</td><td>32.4741</td><td>12.5605</td><td>12.1093</td><td>11.7516</td><td>10.65</td><td>8.4</td><td>0.015</td><td>0</td><td>-24.1577</td><td>-19.9972</td><td>-40.7605</td><td>14.1617</td><td>--</td><td>0.975929</td><td>0.995575</td><td>20.7524</td><td>NGC_7817</td><td>2309.0</td><td>-1</td><td>32.4741</td><td>0.610269</td><td>14.2853</td><td>0.00949019</td><td>0.246425</td><td>-18.5575</td><td>12.8044</td><td>0.000935407</td><td>0.192013</td><td>-19.9616</td><td>11.9377</td><td>0.000573401</td><td>0.132833</td><td>-20.7677</td><td>11.4279</td><td>0.000569579</td><td>0.0987095</td><td>-21.2398</td><td>11.0222</td><td>0.00146553</td><td>0.0734218</td><td>-21.6198</td><td>9.489</td><td>0.006</td><td>0.0412162</td><td>-23.1108</td><td>8.734</td><td>0.007</td><td>0.0261016</td><td>-23.8533</td><td>8.421</td><td>0.008</td><td>0.0175561</td><td>-24.1403</td><td>12700000000.0</td><td>0.60785</td><td>-24.1577</td><td>Bandamanna</td><td>0.995575,20.7524</td></tr>\n",
       "<tr><td>...</td><td>...</td><td>...</td><td>...</td><td>...</td><td>...</td><td>...</td><td>...</td><td>...</td><td>...</td><td>...</td><td>...</td><td>...</td><td>...</td><td>...</td><td>...</td><td>...</td><td>...</td><td>...</td><td>...</td><td>...</td><td>...</td><td>...</td><td>...</td><td>...</td><td>...</td><td>...</td><td>...</td><td>...</td><td>...</td><td>...</td><td>...</td><td>...</td><td>...</td><td>...</td><td>...</td><td>...</td><td>...</td><td>...</td><td>...</td><td>...</td><td>...</td><td>...</td><td>...</td><td>...</td><td>...</td><td>...</td><td>...</td><td>...</td><td>...</td><td>...</td><td>...</td><td>...</td><td>...</td><td>...</td><td>...</td><td>...</td><td>...</td><td>...</td><td>...</td><td>...</td><td>...</td><td>...</td></tr>\n",
       "<tr><td>85746</td><td>149.588</td><td>32.3699</td><td>28805</td><td>1451.33</td><td>25.1343</td><td>12.5439</td><td>12.2105</td><td>11.9101</td><td>11.27</td><td>8.899</td><td>0.016</td><td>0</td><td>-23.1023</td><td>-19.4575</td><td>52.3205</td><td>7.2153</td><td>--</td><td>0.978734</td><td>149.588</td><td>32.3699</td><td>09582107+3222116</td><td>1451.33</td><td>-1</td><td>25.1343</td><td>0.401621</td><td>13.8392</td><td>0.00354317</td><td>0.0627641</td><td>-18.2411</td><td>12.514</td><td>0.000537367</td><td>0.0489054</td><td>-19.5442</td><td>11.7926</td><td>0.00051166</td><td>0.0338325</td><td>-20.2479</td><td>11.4313</td><td>0.000435475</td><td>0.0251412</td><td>-20.5994</td><td>11.1085</td><td>0.00110246</td><td>0.0187004</td><td>-20.9154</td><td>9.886</td><td>0.011</td><td>0.0104977</td><td>-22.1253</td><td>9.156</td><td>0.015</td><td>0.00664805</td><td>-22.8525</td><td>8.904</td><td>0.015</td><td>0.00447152</td><td>-23.0925</td><td>7680000000.0</td><td>0.932093</td><td>-23.1023</td><td>MobyDick</td><td>149.588,32.3699</td></tr>\n",
       "<tr><td>163975</td><td>206.603</td><td>46.107</td><td>48816</td><td>1504.97</td><td>25.5541</td><td>12.4723</td><td>12.0914</td><td>11.8188</td><td>11.39</td><td>8.939</td><td>0.021</td><td>0</td><td>-23.0983</td><td>-19.565</td><td>68.121</td><td>7.1115</td><td>14.039</td><td>0.987033</td><td>206.603</td><td>46.107</td><td>13462467+4606254</td><td>1504.97</td><td>-1</td><td>25.5541</td><td>2.07344</td><td>13.7674</td><td>0.00958821</td><td>0.0732733</td><td>-18.3564</td><td>12.4241</td><td>0.000535515</td><td>0.0570941</td><td>-19.6796</td><td>11.7282</td><td>0.00093279</td><td>0.0394974</td><td>-20.3535</td><td>11.3178</td><td>0.00051666</td><td>0.0293508</td><td>-20.7533</td><td>11.0213</td><td>0.00131674</td><td>0.0218316</td><td>-21.0415</td><td>10.081</td><td>0.009</td><td>0.0122554</td><td>-21.9677</td><td>9.344</td><td>0.01</td><td>0.0077612</td><td>-22.7012</td><td>9.108</td><td>0.015</td><td>0.00522023</td><td>-22.9247</td><td>8620000000.0</td><td>0.929931</td><td>-23.0983</td><td></td><td>206.603,46.107</td></tr>\n",
       "<tr><td>144953</td><td>215.579</td><td>50.5014</td><td>51340</td><td>2230.0</td><td>34.1543</td><td>12.73</td><td>12.3754</td><td>12.1022</td><td>11.36</td><td>9.589</td><td>0.034</td><td>0</td><td>-23.0782</td><td>-19.9373</td><td>60.9291</td><td>10.6058</td><td>11.408</td><td>0.98866</td><td>215.579</td><td>50.5014</td><td>NGC_5602</td><td>2230.0</td><td>-1</td><td>34.1543</td><td>0.166161</td><td>14.6887</td><td>0.0277383</td><td>0.0845753</td><td>-18.0876</td><td>12.8071</td><td>0.00155138</td><td>0.0659005</td><td>-19.9454</td><td>11.9989</td><td>0.00132423</td><td>0.0455897</td><td>-20.7215</td><td>11.6129</td><td>0.00132934</td><td>0.033878</td><td>-21.0954</td><td>11.3127</td><td>0.00194438</td><td>0.025199</td><td>-21.3843</td><td>10.476</td><td>0.019</td><td>0.0141458</td><td>-22.2028</td><td>9.871</td><td>0.024</td><td>0.00895832</td><td>-22.8044</td><td>9.596</td><td>0.032</td><td>0.00602542</td><td>-23.0615</td><td>13600000000.0</td><td>5.17427</td><td>-23.0782</td><td></td><td>215.579,50.5014</td></tr>\n",
       "<tr><td>161174</td><td>182.792</td><td>20.1757</td><td>38802</td><td>2448.24</td><td>36.3129</td><td>12.9512</td><td>12.6154</td><td>12.3487</td><td>11.95</td><td>9.734</td><td>0.029</td><td>0</td><td>-23.0663</td><td>-19.8491</td><td>78.4598</td><td>6.0357</td><td>12.477</td><td>0.982772</td><td>182.792</td><td>20.1757</td><td>12111016+2010324</td><td>2448.24</td><td>-1</td><td>36.3129</td><td>0.378163</td><td>14.4094</td><td>0.00555798</td><td>0.137124</td><td>-18.5503</td><td>12.9839</td><td>0.000860291</td><td>0.106846</td><td>-19.939</td><td>12.2563</td><td>0.000770509</td><td>0.0739157</td><td>-20.6268</td><td>11.8795</td><td>0.00090899</td><td>0.0549273</td><td>-20.9834</td><td>11.5798</td><td>0.00181046</td><td>0.0408558</td><td>-21.2674</td><td>10.686</td><td>0.019</td><td>0.0229349</td><td>-22.1351</td><td>10.026</td><td>0.026</td><td>0.0145243</td><td>-22.7894</td><td>9.745</td><td>0.027</td><td>0.00976916</td><td>-23.0486</td><td>10100000000.0</td><td>1.73943</td><td>-23.0663</td><td>ScoobyDoo</td><td>182.792,20.1757</td></tr>\n",
       "<tr><td>131531</td><td>33.8651</td><td>6.00248</td><td>8631</td><td>1562.0</td><td>20.6466</td><td>11.7074</td><td>11.3697</td><td>11.2595</td><td>--</td><td>8.511</td><td>0.026</td><td>0</td><td>-23.0632</td><td>-19.8669</td><td>-51.133</td><td>11.5117</td><td>13.697</td><td>0.982844</td><td>33.8651</td><td>6.00248</td><td>NGC_0864</td><td>1562.0</td><td>-1</td><td>20.6466</td><td>0.515768</td><td>12.9733</td><td>0.00491063</td><td>0.205254</td><td>-18.8163</td><td>11.6568</td><td>0.00393986</td><td>0.159932</td><td>-20.0867</td><td>11.0447</td><td>0.00104684</td><td>0.11064</td><td>-20.6433</td><td>10.6568</td><td>0.000867263</td><td>0.0822177</td><td>-21.0026</td><td>10.5038</td><td>0.00139439</td><td>0.0611548</td><td>-21.133</td><td>9.349</td><td>0.028</td><td>0.03433</td><td>-22.2567</td><td>8.683</td><td>0.036</td><td>0.0217407</td><td>-22.9107</td><td>8.528</td><td>0.052</td><td>0.0146229</td><td>-23.049</td><td>10400000000.0</td><td>1.25016</td><td>-23.0632</td><td></td><td>33.8651,6.00248</td></tr>\n",
       "<tr><td>94340</td><td>208.324</td><td>33.4909</td><td>49342</td><td>2368.06</td><td>34.675</td><td>12.6547</td><td>12.3056</td><td>12.0852</td><td>12.18</td><td>9.638</td><td>0.024</td><td>0</td><td>-23.0621</td><td>-20.0454</td><td>75.2326</td><td>8.0305</td><td>11.995</td><td>0.982029</td><td>208.324</td><td>33.4909</td><td>13531779+3329270</td><td>2368.06</td><td>-1</td><td>34.675</td><td>0.876011</td><td>14.1937</td><td>0.00661104</td><td>0.0883412</td><td>-18.6158</td><td>12.6696</td><td>0.000755748</td><td>0.0688349</td><td>-20.1172</td><td>11.9249</td><td>0.000660682</td><td>0.0476197</td><td>-20.8301</td><td>11.5439</td><td>0.000677211</td><td>0.0353865</td><td>-21.1986</td><td>11.2956</td><td>0.00587039</td><td>0.0263211</td><td>-21.4354</td><td>10.62</td><td>0.028</td><td>0.0147756</td><td>-22.092</td><td>9.977</td><td>0.038</td><td>0.00935721</td><td>-22.7317</td><td>9.645</td><td>0.04</td><td>0.00629371</td><td>-23.0448</td><td>14500000000.0</td><td>2.75573</td><td>-23.0621</td><td></td><td>208.324,33.4909</td></tr>\n",
       "<tr><td>130625</td><td>28.3054</td><td>4.19576</td><td>6993</td><td>1733.0</td><td>22.7469</td><td>11.6782</td><td>11.3605</td><td>11.0266</td><td>--</td><td>8.726</td><td>0.025</td><td>0</td><td>-23.0586</td><td>-20.1064</td><td>-55.3039</td><td>12.9078</td><td>--</td><td>0.982666</td><td>28.3054</td><td>4.19576</td><td>NGC_0718</td><td>1733.0</td><td>-1</td><td>22.7469</td><td>0.700336</td><td>13.4521</td><td>0.00441209</td><td>0.161355</td><td>-18.5158</td><td>11.7149</td><td>0.00123799</td><td>0.125727</td><td>-20.2085</td><td>10.9896</td><td>0.00118962</td><td>0.0869772</td><td>-20.8882</td><td>10.6282</td><td>0.0013041</td><td>0.0646334</td><td>-21.2262</td><td>10.2574</td><td>0.00142462</td><td>0.0480753</td><td>-21.5791</td><td>9.643</td><td>0.015</td><td>0.0269877</td><td>-22.1672</td><td>8.989</td><td>0.022</td><td>0.0170909</td><td>-22.8124</td><td>8.739</td><td>0.024</td><td>0.0114954</td><td>-23.0453</td><td>14900000000.0</td><td>5.95742</td><td>-23.0586</td><td></td><td>28.3054,4.19576</td></tr>\n",
       "<tr><td>139281</td><td>170.631</td><td>39.8769</td><td>34908</td><td>1948.0</td><td>31.5629</td><td>12.8371</td><td>12.4395</td><td>12.1462</td><td>--</td><td>9.453</td><td>0.021</td><td>0</td><td>-23.0429</td><td>-19.6588</td><td>67.6067</td><td>7.43472</td><td>11.996</td><td>0.979112</td><td>170.631</td><td>39.8769</td><td>NGC_3648</td><td>1948.0</td><td>-1</td><td>31.5629</td><td>0.363202</td><td>14.8588</td><td>0.0052759</td><td>0.0844756</td><td>-17.7428</td><td>12.9515</td><td>0.00144577</td><td>0.0658228</td><td>-19.6284</td><td>12.1057</td><td>0.00136008</td><td>0.0455359</td><td>-20.4433</td><td>11.6765</td><td>0.00142511</td><td>0.0338381</td><td>-20.8604</td><td>11.3568</td><td>0.00173261</td><td>0.0251693</td><td>-21.1695</td><td>10.385</td><td>0.012</td><td>0.0141291</td><td>-22.1238</td><td>9.705</td><td>0.016</td><td>0.00894776</td><td>-22.7998</td><td>9.46</td><td>0.02</td><td>0.00601831</td><td>-23.029</td><td>10900000000.0</td><td>3.85865</td><td>-23.0429</td><td></td><td>170.631,39.8769</td></tr>\n",
       "<tr><td>135739</td><td>138.102</td><td>35.0275</td><td>25955</td><td>2049.0</td><td>32.3374</td><td>12.7482</td><td>12.3671</td><td>12.086</td><td>--</td><td>9.506</td><td>0.03</td><td>0</td><td>-23.0425</td><td>-19.8004</td><td>43.0202</td><td>10.7244</td><td>10.849</td><td>0.974997</td><td>138.102</td><td>35.0275</td><td>NGC_2778</td><td>2049.0</td><td>-1</td><td>32.3374</td><td>0.48648</td><td>14.7621</td><td>0.00386288</td><td>0.0939397</td><td>-17.9021</td><td>12.8631</td><td>0.000975067</td><td>0.0731972</td><td>-19.7775</td><td>12.0228</td><td>0.000912452</td><td>0.0506375</td><td>-20.5839</td><td>11.6089</td><td>0.000945165</td><td>0.0376291</td><td>-20.9845</td><td>11.2997</td><td>0.00122469</td><td>0.0279891</td><td>-21.2818</td><td>10.399</td><td>0.018</td><td>0.015712</td><td>-22.1635</td><td>9.719</td><td>0.02</td><td>0.00995021</td><td>-22.8391</td><td>9.514</td><td>0.029</td><td>0.00669257</td><td>-23.0273</td><td>12200000000.0</td><td>3.69982</td><td>-23.0425</td><td></td><td>138.102,35.0275</td></tr>\n",
       "<tr><td>137625</td><td>158.231</td><td>28.5118</td><td>31166</td><td>1408.0</td><td>24.4117</td><td>11.9393</td><td>11.5812</td><td>11.3468</td><td>--</td><td>8.917</td><td>0.018</td><td>0</td><td>-23.021</td><td>-19.9987</td><td>59.4484</td><td>5.67327</td><td>10.431</td><td>0.982474</td><td>158.231</td><td>28.5118</td><td>NGC_3277</td><td>1408.0</td><td>-1</td><td>24.4117</td><td>0.265102</td><td>13.6891</td><td>0.0035176</td><td>0.113226</td><td>-18.3777</td><td>11.9955</td><td>0.000982685</td><td>0.0882249</td><td>-20.0414</td><td>11.2209</td><td>0.00104305</td><td>0.0610336</td><td>-20.7831</td><td>10.8267</td><td>0.000995963</td><td>0.0453545</td><td>-21.1609</td><td>10.5626</td><td>0.00195688</td><td>0.0337354</td><td>-21.4125</td><td>9.828</td><td>0.011</td><td>0.0189378</td><td>-22.1278</td><td>9.162</td><td>0.012</td><td>0.011993</td><td>-22.7878</td><td>8.926</td><td>0.017</td><td>0.00806658</td><td>-23.0106</td><td>13300000000.0</td><td>3.60127</td><td>-23.021</td><td>Oz</td><td>158.231,28.5118</td></tr>\n",
       "</table>"
      ],
      "text/plain": [
       "<Table masked=True length=71>\n",
       "NSAID     RA      Dec     PGC# ... MK_compiled SAGA_name       coord      \n",
       "                               ...                            deg,deg     \n",
       "int64  float64  float64  int64 ...   float64     str11         object     \n",
       "------ -------- -------- ----- ... ----------- ---------- ----------------\n",
       "145729  224.594 -1.09102 53499 ...    -24.5739    Othello 224.594,-1.09102\n",
       "150887  348.683  4.53406 70795 ...    -24.5151    Catch22  348.683,4.53406\n",
       "140594  180.098 -1.10008 37845 ...     -24.511      Alice 180.098,-1.10008\n",
       "142722  194.863  14.1712 44600 ...    -24.4806             194.863,14.1712\n",
       "150578  346.236  12.3229 70419 ...    -24.4511             346.236,12.3229\n",
       "163956   206.33  41.7125 48767 ...    -24.4204              206.33,41.7125\n",
       "165153  218.023  57.9215 51932 ...    -24.1804             218.023,57.9215\n",
       "135879  141.077  34.5135 26649 ...    -24.1782             141.077,34.5135\n",
       "126115 0.995575  20.7524   279 ...    -24.1577 Bandamanna 0.995575,20.7524\n",
       "   ...      ...      ...   ... ...         ...        ...              ...\n",
       " 85746  149.588  32.3699 28805 ...    -23.1023   MobyDick  149.588,32.3699\n",
       "163975  206.603   46.107 48816 ...    -23.0983              206.603,46.107\n",
       "144953  215.579  50.5014 51340 ...    -23.0782             215.579,50.5014\n",
       "161174  182.792  20.1757 38802 ...    -23.0663  ScoobyDoo  182.792,20.1757\n",
       "131531  33.8651  6.00248  8631 ...    -23.0632             33.8651,6.00248\n",
       " 94340  208.324  33.4909 49342 ...    -23.0621             208.324,33.4909\n",
       "130625  28.3054  4.19576  6993 ...    -23.0586             28.3054,4.19576\n",
       "139281  170.631  39.8769 34908 ...    -23.0429             170.631,39.8769\n",
       "135739  138.102  35.0275 25955 ...    -23.0425             138.102,35.0275\n",
       "137625  158.231  28.5118 31166 ...     -23.021         Oz  158.231,28.5118"
      ]
     },
     "execution_count": 5,
     "metadata": {},
     "output_type": "execute_result"
    }
   ],
   "source": [
    "db = saga.Database('/Users/erik/Dropbox/SAGA/')\n",
    "hostcat = saga.HostCatalog(db)\n",
    "hosttab = hostcat.load()\n",
    "\n",
    "hosttab"
   ]
  },
  {
   "cell_type": "code",
   "execution_count": 331,
   "metadata": {},
   "outputs": [],
   "source": [
    "np.choose?"
   ]
  },
  {
   "cell_type": "code",
   "execution_count": 9,
   "metadata": {},
   "outputs": [
    {
     "data": {
      "text/plain": [
       "(56, 10)"
      ]
     },
     "execution_count": 9,
     "metadata": {},
     "output_type": "execute_result"
    }
   ],
   "source": [
    "msk1 = 8*u.hourangle < hosttab['coord'].ra\n",
    "msk2 = hosttab['coord'].ra < 18*u.hourangle\n",
    "msk3 = hosttab['coord'].dec > -10*u.deg\n",
    "msk4 = hosttab['SAGA_name'] != ''\n",
    "\n",
    "binomsk = msk1 & msk2 & msk3\n",
    "namedbinomsk = msk1 & msk2 & msk3 & msk4\n",
    "\n",
    "np.sum(binomsk), np.sum(namedbinomsk)"
   ]
  },
  {
   "cell_type": "code",
   "execution_count": 338,
   "metadata": {},
   "outputs": [
    {
     "data": {
      "text/plain": [
       "array(['4.0', '4.0', '-0.8208258075857656', '4.0', '0.24962552458009',\n",
       "       '4.0', '1.2534117889081722', '4.0', '4.0', '4.0', '4.0', '4.0',\n",
       "       '4.0', '4.0', '0.34166297436596316', '4.0', '0.22510980367517794',\n",
       "       '4.0', '4.0', '4.0', '4.0', '0.35435969807575635',\n",
       "       '1.678949347882781', '-0.20174737840161958', '0.4581044484017311',\n",
       "       '4.0', '4.0', '-1.061246764096021', '0.11388601829272206', '4.0',\n",
       "       '4.0', '1.517714989103793', '-2.264612530386412',\n",
       "       '-0.962768349782038', '4.0', '4.0', '-0.9232080464830247', '4.0',\n",
       "       '4.0', '4.0', '4.0', '4.0', '1.4482363023340175',\n",
       "       '-0.8680982209231194', '1.369971442240352', '-1.0045569601583695',\n",
       "       '4.0', '4.0', '4.0', '4.0', '-1.1604546641683213',\n",
       "       '-0.789647801951719', '4.0', '1.1960506638007622', '4.0', '4.0',\n",
       "       '4.0', '4.0', '0.49219619977063367', '4.0', '-0.18761225609487772',\n",
       "       '4.0', '0.6151376761227649', '0.4140838626736991',\n",
       "       '-0.09014045369222295', '4.0', '-0.20562186885762126', '4.0',\n",
       "       '-2.4166969418355797', '0.6823018993789874', '4.0', '4.0', '4.0',\n",
       "       '4.0', '4.0', '0.9982525974297325', '-1.2070382325400462',\n",
       "       '0.5186183356886168', '-0.3367368529523573', '-0.4263907737988611',\n",
       "       '4.0', '4.0', '-0.797734113744723', '4.0', '4.0',\n",
       "       '0.2902688730552312', '4.0', '4.0', '0.8734174410639322', '4.0',\n",
       "       '4.0', '4.0', '0.8311758743476819', '4.0', '4.0', '4.0',\n",
       "       '1.147020522262568', '4.0', '4.0', '4.0'], \n",
       "      dtype='<U32')"
      ]
     },
     "execution_count": 338,
     "metadata": {},
     "output_type": "execute_result"
    }
   ],
   "source": [
    "np.choose(np.random.randn(100)>0, [np.random.randn(100),4]).astype('U')"
   ]
  },
  {
   "cell_type": "markdown",
   "metadata": {},
   "source": [
    "# Overlap with alternate imaging surveys "
   ]
  },
  {
   "cell_type": "markdown",
   "metadata": {},
   "source": [
    "## DECaLS"
   ]
  },
  {
   "cell_type": "code",
   "execution_count": 14,
   "metadata": {
    "collapsed": true
   },
   "outputs": [],
   "source": [
    "decals_path = os.path.join(os.environ['HOME'], 'astrodata', 'decals', 'dr5')\n",
    "\n",
    "bricks_fn = os.path.join(decals_path, 'survey-bricks.fits.gz')\n",
    "bricks_dr_fn = os.path.join(decals_path, 'survey-bricks-dr5.fits.gz')"
   ]
  },
  {
   "cell_type": "code",
   "execution_count": 15,
   "metadata": {},
   "outputs": [],
   "source": [
    "bricks = table.Table.read(bricks_fn)\n",
    "bricks_dr = table.Table.read(bricks_dr_fn)"
   ]
  },
  {
   "cell_type": "code",
   "execution_count": 195,
   "metadata": {
    "collapsed": true
   },
   "outputs": [],
   "source": [
    "bricks_in_dr = bricks[np.in1d(bricks['BRICKNAME'], bricks_dr['brickname'])]"
   ]
  },
  {
   "cell_type": "code",
   "execution_count": 206,
   "metadata": {},
   "outputs": [],
   "source": [
    "def random_sample_cone(angle, n, ra0=0*u.deg, dec0=0*u.deg):\n",
    "    phi = np.random.uniform(0, 2*np.pi, n)\n",
    "    z = np.random.uniform(np.cos(angle), 1, n)\n",
    "    s = np.sqrt(1-z**2)\n",
    "    x = s * np.cos(phi)\n",
    "    y = s * np.sin(phi)\n",
    "    xyz = np.array([x, y, z])\n",
    "    \n",
    "    A = matrix_utilities.rotation_matrix(90*u.deg - dec0, 'y')\n",
    "    B = matrix_utilities.rotation_matrix(180*u.deg - ra0, 'z')\n",
    "    \n",
    "    return CartesianRepresentation(B @ A @ xyz)\n",
    "\n",
    "def host_overlap(hostrow, brickstocheck, environrad=300*u.kpc, precision=1e-2):\n",
    "    host_ra = hostrow['coord'].ra\n",
    "    host_dec = hostrow['coord'].dec\n",
    "    host_distance = hostrow['distance']*u.Mpc\n",
    "    \n",
    "    if environrad.unit.is_equivalent(u.kpc):\n",
    "        environrad = (environrad/host_distance).to(u.rad, u.dimensionless_angles())\n",
    "    elif environrad.unit.is_equivalent(u.deg):\n",
    "        pass\n",
    "    else:\n",
    "        raise u.UnitsError('invalid unit for environrad')\n",
    "        \n",
    "    n = int(np.ceil(1/precision))\n",
    "    testpoints = random_sample_cone(environrad, n, host_ra, host_dec)\n",
    "    testsc = SkyCoord(testpoints)\n",
    "    \n",
    "    msk_ra1 = brickstocheck['RA1'] < testsc.ra[:, np.newaxis].deg\n",
    "    msk_ra2 = testsc.ra[:, np.newaxis].deg < brickstocheck['RA2']\n",
    "    msk_dec1 = brickstocheck['DEC1'] < testsc.dec[:, np.newaxis].deg\n",
    "    msk_dec2 = testsc.dec[:, np.newaxis].deg < brickstocheck['DEC2']\n",
    "    match = msk_ra1 & msk_ra2 & msk_dec1 & msk_dec2\n",
    "    \n",
    "    havepoint = np.any(match, axis=0)\n",
    "    \n",
    "    return match"
   ]
  },
  {
   "cell_type": "code",
   "execution_count": 212,
   "metadata": {
    "scrolled": false
   },
   "outputs": [
    {
     "name": "stdout",
     "output_type": "stream",
     "text": [
      "on 145729 Othello\n",
      "nbricks: 25 frac: 1.0\n",
      "on 140594 Alice\n",
      "nbricks: 34 frac: 1.0\n",
      "on 142722 \n",
      "nbricks: 22 frac: 1.0\n",
      "on 163956 \n",
      "nbricks: 0 frac: 0.0\n",
      "on 165153 \n",
      "nbricks: 0 frac: 0.0\n",
      "on 135879 \n",
      "nbricks: 0 frac: 0.0\n",
      "on 144151 \n",
      "nbricks: 0 frac: 0.0\n",
      "on 163136 \n",
      "nbricks: 15 frac: 1.0\n",
      "on 164995 \n",
      "nbricks: 0 frac: 0.0\n",
      "on 147100 Odyssey\n",
      "nbricks: 17 frac: 1.0\n",
      "on 140458 \n",
      "nbricks: 16 frac: 1.0\n",
      "on 147606 \n",
      "nbricks: 16 frac: 1.0\n",
      "on 144121 \n",
      "nbricks: 0 frac: 0.0\n",
      "on 138201 \n",
      "nbricks: 29 frac: 1.0\n",
      "on 135440 \n",
      "nbricks: 19 frac: 1.0\n",
      "on 143856 \n",
      "nbricks: 0 frac: 0.0\n",
      "on 52773 \n",
      "nbricks: 0 frac: 0.0\n",
      "on 160302 \n",
      "nbricks: 0 frac: 0.0\n",
      "on 139467 \n",
      "nbricks: 13 frac: 1.0\n",
      "on 157374 \n",
      "nbricks: 21 frac: 1.0\n",
      "on 165980 \n",
      "nbricks: 0 frac: 0.0\n",
      "on 138642 \n",
      "nbricks: 27 frac: 1.0\n",
      "on 158541 \n",
      "nbricks: 0 frac: 0.0\n",
      "on 165082 \n",
      "nbricks: 29 frac: 1.0\n",
      "on 145398 \n",
      "nbricks: 28 frac: 1.0\n",
      "on 166313 Gilgamesh\n",
      "nbricks: 26 frac: 1.0\n",
      "on 166141 \n",
      "nbricks: 31 frac: 1.0\n",
      "on 69028 \n",
      "nbricks: 0 frac: 0.0\n",
      "on 141465 \n",
      "nbricks: 19 frac: 1.0\n",
      "on 145879 \n",
      "nbricks: 22 frac: 1.0\n",
      "on 145297 \n",
      "nbricks: 0 frac: 0.0\n",
      "on 13927 Sopranos\n",
      "nbricks: 22 frac: 1.0\n",
      "on 165536 Dune\n",
      "nbricks: 29 frac: 1.0\n",
      "on 140301 \n",
      "nbricks: 22 frac: 1.0\n",
      "on 32 \n",
      "nbricks: 21 frac: 1.0\n",
      "on 33446 StarTrek\n",
      "nbricks: 0 frac: 0.0\n",
      "on 94217 \n",
      "nbricks: 19 frac: 1.0\n",
      "on 165707 \n",
      "nbricks: 0 frac: 0.0\n",
      "on 16235 \n",
      "nbricks: 0 frac: 0.0\n",
      "on 135129 \n",
      "nbricks: 22 frac: 1.0\n",
      "on 135594 \n",
      "nbricks: 0 frac: 0.0\n",
      "on 16559 \n",
      "nbricks: 0 frac: 0.0\n",
      "on 136403 \n",
      "nbricks: 18 frac: 1.0\n",
      "on 165316 \n",
      "nbricks: 0 frac: 0.0\n",
      "on 138375 \n",
      "nbricks: 0 frac: 0.0\n",
      "on 159593 \n",
      "nbricks: 0 frac: 0.0\n",
      "on 101649 \n",
      "nbricks: 14 frac: 1.0\n",
      "on 140065 \n",
      "nbricks: 0 frac: 0.0\n",
      "on 85746 MobyDick\n",
      "nbricks: 28 frac: 1.0\n",
      "on 163975 \n",
      "nbricks: 0 frac: 0.0\n",
      "on 144953 \n",
      "nbricks: 0 frac: 0.0\n",
      "on 161174 ScoobyDoo\n",
      "nbricks: 16 frac: 1.0\n",
      "on 94340 \n",
      "nbricks: 16 frac: 0.89\n",
      "on 139281 \n",
      "nbricks: 0 frac: 0.0\n",
      "on 135739 \n",
      "nbricks: 9 frac: 0.4\n",
      "on 137625 Oz\n",
      "nbricks: 32 frac: 1.0\n"
     ]
    },
    {
     "data": {
      "text/plain": [
       "(0.5178571428571429, 56)"
      ]
     },
     "execution_count": 212,
     "metadata": {},
     "output_type": "execute_result"
    }
   ],
   "source": [
    "nbricks = []\n",
    "frac = []\n",
    "for row in hosttab[binomsk]:\n",
    "    print('on', row['NSAID'], row['SAGA_name'])\n",
    "    brick_match = host_overlap(row, bricks_in_dr)\n",
    "    nbricks.append(np.sum(np.any(brick_match, axis=0)))\n",
    "    frac.append(np.sum(np.any(brick_match, axis=1))/brick_match.shape[0])\n",
    "    print('nbricks:', nbricks[-1], 'frac:', frac[-1])\n",
    "np.sum(np.array(frac)>.9)/len(frac), len(frac)"
   ]
  },
  {
   "cell_type": "code",
   "execution_count": 213,
   "metadata": {},
   "outputs": [
    {
     "name": "stdout",
     "output_type": "stream",
     "text": [
      "on 145729 Othello\n",
      "nbricks: 24 frac: 1.0\n",
      "on 140594 Alice\n",
      "nbricks: 31 frac: 1.0\n",
      "on 147100 Odyssey\n",
      "nbricks: 20 frac: 1.0\n",
      "on 166313 Gilgamesh\n",
      "nbricks: 21 frac: 1.0\n",
      "on 13927 Sopranos\n",
      "nbricks: 22 frac: 1.0\n",
      "on 165536 Dune\n",
      "nbricks: 29 frac: 1.0\n",
      "on 33446 StarTrek\n",
      "nbricks: 0 frac: 0.0\n",
      "on 85746 MobyDick\n",
      "nbricks: 29 frac: 1.0\n",
      "on 161174 ScoobyDoo\n",
      "nbricks: 17 frac: 1.0\n",
      "on 137625 Oz\n",
      "nbricks: 33 frac: 1.0\n"
     ]
    },
    {
     "data": {
      "text/plain": [
       "(0.90000000000000002, 10)"
      ]
     },
     "execution_count": 213,
     "metadata": {},
     "output_type": "execute_result"
    }
   ],
   "source": [
    "nbricks = []\n",
    "frac = []\n",
    "for row in hosttab[namedbinomsk]:\n",
    "    print('on', row['NSAID'], row['SAGA_name'])\n",
    "    brick_match = host_overlap(row, bricks_in_dr)\n",
    "    nbricks.append(np.sum(np.any(brick_match, axis=0)))\n",
    "    frac.append(np.sum(np.any(brick_match, axis=1))/brick_match.shape[0])\n",
    "    print('nbricks:', nbricks[-1], 'frac:', frac[-1])\n",
    "np.sum(np.array(frac)>.9)/len(frac), len(frac)"
   ]
  },
  {
   "cell_type": "markdown",
   "metadata": {},
   "source": [
    "## HSC "
   ]
  },
  {
   "cell_type": "code",
   "execution_count": 44,
   "metadata": {},
   "outputs": [
    {
     "name": "stdout",
     "output_type": "stream",
     "text": [
      "NSIDE = 2048\n",
      "ORDERING = NESTED in fits file\n",
      "INDXSCHM = IMPLICIT\n",
      "Ordering converted to RING\n"
     ]
    }
   ],
   "source": [
    "import healpy\n",
    "\n",
    "hscmap, hschead = healpy.read_map('../S16A_wide2_fdfc_i_limitmag_hp_frac_cut_0.02.fits', h=True)\n",
    "hschead = dict(hschead)  #This is a VERY foolish healpy design choice!!"
   ]
  },
  {
   "cell_type": "code",
   "execution_count": 48,
   "metadata": {
    "collapsed": true
   },
   "outputs": [],
   "source": [
    "def query_disc_astropy(cen, rad, nside=hschead['NSIDE'], **kwargs):\n",
    "    uvec = cen.represent_as(UnitSphericalRepresentation).represent_as(CartesianRepresentation).xyz\n",
    "    return healpy.query_disc(nside, uvec, rad.to(u.radian).value)"
   ]
  },
  {
   "cell_type": "code",
   "execution_count": 214,
   "metadata": {},
   "outputs": [
    {
     "data": {
      "text/plain": [
       "{'Alice': 0.75620229007633588, 'Dune': 1.0, 'Othello': 0.66309778729478941}"
      ]
     },
     "execution_count": 214,
     "metadata": {},
     "output_type": "execute_result"
    }
   ],
   "source": [
    "nametofrac_environs = {}\n",
    "nametofrac_1deg = {}\n",
    "for row in hosttab:\n",
    "    cen = row['coord']\n",
    "    rad = ((300*u.kpc)/(row['distance']*u.Mpc)).to(u.arcmin, u.dimensionless_angles())\n",
    "    name = row['SAGA_name']\n",
    "    if name == '':\n",
    "        name = 'NSA' + str(row['NSAID'])\n",
    "    \n",
    "    host_pix = query_disc_astropy(cen, rad)\n",
    "    nametofrac_environs[name]= np.sum(hscmap[host_pix])/len(host_pix)\n",
    "    \n",
    "useful_nametofrac_environs = {k:v for k,v in nametofrac_environs.items() if v != 0}\n",
    "useful_nametofrac_environs"
   ]
  },
  {
   "cell_type": "code",
   "execution_count": 242,
   "metadata": {},
   "outputs": [
    {
     "name": "stdout",
     "output_type": "stream",
     "text": [
      "Othello -135.406 -1.09102\n",
      "Alice -179.902 -1.10008\n",
      "Dune -138.454 -0.222942\n"
     ]
    }
   ],
   "source": [
    "for row in hosttab[np.in1d(hosttab['SAGA_name'], list(useful_nametofrac_environs.keys()))]:\n",
    "    print(row['SAGA_name'], row['coord'].ra.wrap_at(180*u.deg).deg, row['coord'].dec.deg)"
   ]
  },
  {
   "cell_type": "markdown",
   "metadata": {},
   "source": [
    "Note that *only* Alice has real data - the rest is \"planned\""
   ]
  },
  {
   "cell_type": "markdown",
   "metadata": {},
   "source": [
    "### Sanity Check "
   ]
  },
  {
   "cell_type": "markdown",
   "metadata": {},
   "source": [
    "The following query was run on HSC PDR1:\n",
    "```\n",
    "\n",
    "SELECT\n",
    "        object_id\n",
    "        ,ra\n",
    "        ,DEC\n",
    "        ,gmag_sinc\n",
    "        ,gmag_sinc_err\n",
    "        ,rmag_sinc\n",
    "        ,rmag_sinc_err\n",
    "        ,imag_sinc\n",
    "        ,imag_sinc_err\n",
    "        ,gmag_sinc - rmag_sinc AS g_r\n",
    "        ,rmag_sinc - imag_sinc AS r_i\n",
    "    FROM\n",
    "        pdr1_<WHICH>.forced\n",
    "    WHERE\n",
    "        rmag_sinc < 21\n",
    "        AND rmag_sinc - imag_sinc BETWEEN -0.5 AND 0.5\n",
    "        AND gmag_sinc - rmag_sinc < 2.0\n",
    ";\n",
    "```\n",
    "with `<WHICH>` being udeep, deep, and wide.  Make sure the only thing that has a catalog entry near it is Alice."
   ]
  },
  {
   "cell_type": "code",
   "execution_count": 251,
   "metadata": {},
   "outputs": [
    {
     "data": {
      "text/html": [
       "&lt;Table length=1399581&gt;\n",
       "<table id=\"table4919275360\" class=\"table-striped table-bordered table-condensed\">\n",
       "<thead><tr><th>object_id</th><th>ra</th><th>dec</th><th>gmag_sinc</th><th>gmag_sinc_err</th><th>rmag_sinc</th><th>rmag_sinc_err</th><th>imag_sinc</th><th>imag_sinc_err</th><th>g_r</th><th>r_i</th></tr></thead>\n",
       "<thead><tr><th>int64</th><th>float64</th><th>float64</th><th>float64</th><th>float64</th><th>float64</th><th>float64</th><th>float64</th><th>float64</th><th>float64</th><th>float64</th></tr></thead>\n",
       "<tr><td>37484559004074122</td><td>34.9335872474</td><td>-5.63930407936</td><td>19.572094</td><td>0.00167754071</td><td>18.872776</td><td>0.00155809359</td><td>18.4833183</td><td>0.00126357947</td><td>0.699317932</td><td>0.389457703</td></tr>\n",
       "<tr><td>37484559004074128</td><td>35.007400688</td><td>-5.63847832955</td><td>18.7620068</td><td>0.00102609256</td><td>18.3204193</td><td>0.00102432456</td><td>18.7646523</td><td>0.00163186796</td><td>0.441587448</td><td>-0.444232941</td></tr>\n",
       "<tr><td>37484559004074140</td><td>34.9839707931</td><td>-5.63695020399</td><td>21.7254505</td><td>0.00981343817</td><td>20.9795456</td><td>0.00966036506</td><td>20.5662937</td><td>0.00758231245</td><td>0.745904922</td><td>0.413251877</td></tr>\n",
       "<tr><td>37484559004074234</td><td>34.9812475349</td><td>-5.63046200861</td><td>20.0842876</td><td>0.00241828128</td><td>19.0970211</td><td>0.00187326351</td><td>18.7005138</td><td>0.00151360745</td><td>0.987266541</td><td>0.396507263</td></tr>\n",
       "<tr><td>37484559004074297</td><td>35.0210733283</td><td>-5.62839921841</td><td>21.6440926</td><td>0.00925779901</td><td>20.8594284</td><td>0.00872357469</td><td>20.5057602</td><td>0.00732560875</td><td>0.784664154</td><td>0.353668213</td></tr>\n",
       "<tr><td>37484559004074346</td><td>34.9125261812</td><td>-5.62635741508</td><td>21.6343727</td><td>0.00848574191</td><td>20.6335526</td><td>0.00668525044</td><td>20.1862679</td><td>0.00403645216</td><td>1.00082016</td><td>0.447284698</td></tr>\n",
       "<tr><td>37484559004074404</td><td>35.0348231744</td><td>-5.62387766638</td><td>20.9874725</td><td>0.00531970244</td><td>20.2799358</td><td>0.00525719766</td><td>19.9842377</td><td>0.00464576297</td><td>0.707536697</td><td>0.295698166</td></tr>\n",
       "<tr><td>37484559004074652</td><td>34.8803559155</td><td>-5.60849787947</td><td>21.3354282</td><td>0.00398692116</td><td>20.3638687</td><td>0.00298373797</td><td>19.9845657</td><td>0.0021697036</td><td>0.971559525</td><td>0.379302979</td></tr>\n",
       "<tr><td>37484559004074721</td><td>34.8714731815</td><td>-5.60303105706</td><td>20.0524025</td><td>0.00136276113</td><td>19.4605064</td><td>0.00134896813</td><td>19.2511349</td><td>0.00114266912</td><td>0.591896057</td><td>0.209371567</td></tr>\n",
       "<tr><td>37484559004074762</td><td>34.9283957668</td><td>-5.60403835362</td><td>20.4950047</td><td>0.00358387828</td><td>19.7762604</td><td>0.00326035544</td><td>19.3794079</td><td>0.00209503016</td><td>0.718744278</td><td>0.396852493</td></tr>\n",
       "<tr><td>...</td><td>...</td><td>...</td><td>...</td><td>...</td><td>...</td><td>...</td><td>...</td><td>...</td><td>...</td><td>...</td></tr>\n",
       "<tr><td>74649164419465892</td><td>213.794172698</td><td>53.0705934274</td><td>22.0386772</td><td>0.00660547335</td><td>20.8866978</td><td>0.00502399076</td><td>20.3968563</td><td>0.00309658563</td><td>1.15197945</td><td>0.489841461</td></tr>\n",
       "<tr><td>74649164419465972</td><td>213.922590543</td><td>53.0733937813</td><td>21.1432667</td><td>0.00305663818</td><td>20.8623314</td><td>0.00481794681</td><td>20.985918</td><td>0.00522417575</td><td>0.280935287</td><td>-0.123586655</td></tr>\n",
       "<tr><td>74649164419466132</td><td>213.716213666</td><td>53.0753992046</td><td>18.5143242</td><td>0.000597357692</td><td>17.9696903</td><td>0.000780068047</td><td>18.0809059</td><td>0.000935210206</td><td>0.544633865</td><td>-0.111215591</td></tr>\n",
       "<tr><td>74649164419466176</td><td>213.654414997</td><td>53.0730133524</td><td>21.0946102</td><td>0.00301563088</td><td>20.7643929</td><td>0.00460928306</td><td>20.6931</td><td>0.00422154786</td><td>0.330217361</td><td>0.0712928772</td></tr>\n",
       "<tr><td>74649164419466214</td><td>213.644680867</td><td>53.0738947719</td><td>18.2266712</td><td>0.000388698303</td><td>17.9496689</td><td>0.00047792407</td><td>17.862545</td><td>0.000401251891</td><td>0.277002335</td><td>0.0871238708</td></tr>\n",
       "<tr><td>74649164419466215</td><td>213.64411704</td><td>53.0726521476</td><td>21.4689541</td><td>0.00416345056</td><td>20.7226582</td><td>0.00443139812</td><td>20.3572102</td><td>0.00312949531</td><td>0.746295929</td><td>0.365447998</td></tr>\n",
       "<tr><td>74649164419466226</td><td>213.895793713</td><td>53.0765518471</td><td>21.9701157</td><td>0.0068324944</td><td>20.9012203</td><td>0.00561646605</td><td>20.404953</td><td>0.00342235784</td><td>1.06889534</td><td>0.496267319</td></tr>\n",
       "<tr><td>74649164419466309</td><td>213.906483873</td><td>53.0830498521</td><td>21.772253</td><td>0.00511174789</td><td>20.9024792</td><td>0.0049828887</td><td>20.5502682</td><td>0.00384472031</td><td>0.869773865</td><td>0.352210999</td></tr>\n",
       "<tr><td>74649164419466310</td><td>213.909457157</td><td>53.0811444964</td><td>20.4594574</td><td>0.00209906558</td><td>19.8038216</td><td>0.00219933805</td><td>19.4232445</td><td>0.00145693729</td><td>0.655635834</td><td>0.380577087</td></tr>\n",
       "<tr><td>74649164419466637</td><td>213.676558787</td><td>53.0797883726</td><td>19.0661278</td><td>0.000772784231</td><td>17.9204712</td><td>0.000607955735</td><td>17.6871452</td><td>0.000566331611</td><td>1.14565659</td><td>0.233325958</td></tr>\n",
       "</table>"
      ],
      "text/plain": [
       "<Table length=1399581>\n",
       "    object_id           ra           dec       ...     g_r         r_i     \n",
       "      int64          float64       float64     ...   float64     float64   \n",
       "----------------- ------------- -------------- ... ----------- ------------\n",
       "37484559004074122 34.9335872474 -5.63930407936 ... 0.699317932  0.389457703\n",
       "37484559004074128  35.007400688 -5.63847832955 ... 0.441587448 -0.444232941\n",
       "37484559004074140 34.9839707931 -5.63695020399 ... 0.745904922  0.413251877\n",
       "37484559004074234 34.9812475349 -5.63046200861 ... 0.987266541  0.396507263\n",
       "37484559004074297 35.0210733283 -5.62839921841 ... 0.784664154  0.353668213\n",
       "37484559004074346 34.9125261812 -5.62635741508 ...  1.00082016  0.447284698\n",
       "37484559004074404 35.0348231744 -5.62387766638 ... 0.707536697  0.295698166\n",
       "37484559004074652 34.8803559155 -5.60849787947 ... 0.971559525  0.379302979\n",
       "37484559004074721 34.8714731815 -5.60303105706 ... 0.591896057  0.209371567\n",
       "37484559004074762 34.9283957668 -5.60403835362 ... 0.718744278  0.396852493\n",
       "              ...           ...            ... ...         ...          ...\n",
       "74649164419465892 213.794172698  53.0705934274 ...  1.15197945  0.489841461\n",
       "74649164419465972 213.922590543  53.0733937813 ... 0.280935287 -0.123586655\n",
       "74649164419466132 213.716213666  53.0753992046 ... 0.544633865 -0.111215591\n",
       "74649164419466176 213.654414997  53.0730133524 ... 0.330217361 0.0712928772\n",
       "74649164419466214 213.644680867  53.0738947719 ... 0.277002335 0.0871238708\n",
       "74649164419466215  213.64411704  53.0726521476 ... 0.746295929  0.365447998\n",
       "74649164419466226 213.895793713  53.0765518471 ...  1.06889534  0.496267319\n",
       "74649164419466309 213.906483873  53.0830498521 ... 0.869773865  0.352210999\n",
       "74649164419466310 213.909457157  53.0811444964 ... 0.655635834  0.380577087\n",
       "74649164419466637 213.676558787  53.0797883726 ...  1.14565659  0.233325958"
      ]
     },
     "execution_count": 251,
     "metadata": {},
     "output_type": "execute_result"
    }
   ],
   "source": [
    "udeep = table.Table.read('hsc_alllt21_udeep.csv.gz', format='ascii')\n",
    "deep = table.Table.read('hsc_alllt21_deep.csv.gz', format='ascii')\n",
    "wide = table.Table.read('hsc_alllt21_wide.csv.gz', format='ascii')\n",
    "\n",
    "allhscs = table.vstack([udeep, deep, wide])\n",
    "allhscs"
   ]
  },
  {
   "cell_type": "code",
   "execution_count": 254,
   "metadata": {},
   "outputs": [],
   "source": [
    "hscscs = SkyCoord(allhscs['ra']*u.deg, allhscs['dec']*u.deg)"
   ]
  },
  {
   "cell_type": "code",
   "execution_count": 256,
   "metadata": {},
   "outputs": [],
   "source": [
    "idx, d2d, d3d = hosttab['coord'].match_to_catalog_sky(hscscs)"
   ]
  },
  {
   "cell_type": "code",
   "execution_count": 280,
   "metadata": {},
   "outputs": [
    {
     "name": "stdout",
     "output_type": "stream",
     "text": [
      "44.36050322106104 0.028584927437916633\n",
      "Alice -179.902 -1.10008\n",
      "34.94023848233826 45.7469565501222\n",
      "Sopranos -179.324 1.9768\n",
      "40.614821179053976 48.486946420914485\n",
      "Dune -138.454 -0.222942\n",
      "29.663536279258206 11.066673253525401\n",
      "AnaK -5.869000000000028 0.297265\n"
     ]
    }
   ],
   "source": [
    "environs_arcmin = ((300*u.kpc)/(hosttab['distance']*u.Mpc)).to(u.arcmin, u.dimensionless_angles())\n",
    "\n",
    "for i, row in enumerate(hosttab[d2d < environs_arcmin*2]):\n",
    "    print(environs_arcmin[d2d < environs_arcmin*2][i].value, d2d[d2d < environs_arcmin*2][i].arcmin)\n",
    "    print(row['SAGA_name'], row['coord'].ra.wrap_at(180*u.deg).deg, row['coord'].dec.deg)"
   ]
  },
  {
   "cell_type": "code",
   "execution_count": 304,
   "metadata": {},
   "outputs": [
    {
     "data": {
      "text/html": [
       "&lt;Table masked=True length=1&gt;\n",
       "<table id=\"table4908604384\" class=\"table-striped table-bordered table-condensed\">\n",
       "<thead><tr><th>NSAID</th><th>RA</th><th>Dec</th><th>PGC#</th><th>vhelio</th><th>distance</th><th>r</th><th>i</th><th>z</th><th>I</th><th>K</th><th>K_err</th><th>flag</th><th>K_abs</th><th>r_abs</th><th>b</th><th>dist_to_group</th><th>brightest_K_nearby</th><th>SDSS_FRACGOOD</th><th>RA_sub</th><th>Dec_sub</th><th>othername</th><th>vhelio_sub</th><th>vhelio_err</th><th>distance_sub</th><th>dist_2MASS_NSA</th><th>u</th><th>u_err</th><th>A_u</th><th>M_u</th><th>g</th><th>g_err</th><th>A_g</th><th>M_g</th><th>r_sub</th><th>r_err</th><th>A_r</th><th>M_r</th><th>i_sub</th><th>i_err</th><th>A_i</th><th>M_i</th><th>z_sub</th><th>z_err</th><th>A_z</th><th>M_z</th><th>J</th><th>J_err</th><th>A_J</th><th>M_J</th><th>H</th><th>H_err</th><th>A_H</th><th>M_H</th><th>K_sub</th><th>K_err_sub</th><th>A_K</th><th>M_K</th><th>stellar_mass</th><th>sersic_n</th><th>MK_compiled</th><th>SAGA_name</th><th>coord</th></tr></thead>\n",
       "<thead><tr><th></th><th></th><th></th><th></th><th></th><th></th><th></th><th></th><th></th><th></th><th></th><th></th><th></th><th></th><th></th><th></th><th></th><th></th><th></th><th></th><th></th><th></th><th></th><th></th><th></th><th></th><th></th><th></th><th></th><th></th><th></th><th></th><th></th><th></th><th></th><th></th><th></th><th></th><th></th><th></th><th></th><th></th><th></th><th></th><th></th><th></th><th></th><th></th><th></th><th></th><th></th><th></th><th></th><th></th><th></th><th></th><th></th><th></th><th></th><th></th><th></th><th></th><th>deg,deg</th></tr></thead>\n",
       "<thead><tr><th>int64</th><th>float64</th><th>float64</th><th>int64</th><th>float64</th><th>float64</th><th>float64</th><th>float64</th><th>float64</th><th>float64</th><th>float64</th><th>float64</th><th>int64</th><th>float64</th><th>float64</th><th>float64</th><th>float64</th><th>float64</th><th>float64</th><th>float64</th><th>float64</th><th>str16</th><th>float64</th><th>int64</th><th>float64</th><th>float64</th><th>float64</th><th>float64</th><th>float64</th><th>float64</th><th>float64</th><th>float64</th><th>float64</th><th>float64</th><th>float64</th><th>float64</th><th>float64</th><th>float64</th><th>float64</th><th>float64</th><th>float64</th><th>float64</th><th>float64</th><th>float64</th><th>float64</th><th>float64</th><th>float64</th><th>float64</th><th>float64</th><th>float64</th><th>float64</th><th>float64</th><th>float64</th><th>float64</th><th>float64</th><th>float64</th><th>float64</th><th>float64</th><th>float64</th><th>float64</th><th>float64</th><th>str11</th><th>object</th></tr></thead>\n",
       "<tr><td>61945</td><td>354.131</td><td>0.297265</td><td>71883</td><td>2556.76</td><td>34.7674</td><td>12.0858</td><td>11.7031</td><td>11.4059</td><td>11.65</td><td>9.3</td><td>0.03</td><td>0</td><td>-23.4059</td><td>-20.6201</td><td>-57.1915</td><td>9.4085</td><td>12.75</td><td>0.988686</td><td>354.131</td><td>0.297265</td><td>23363144+0017501</td><td>2556.76</td><td>-1</td><td>34.7674</td><td>0.18565</td><td>13.9881</td><td>0.00362979</td><td>0.146192</td><td>-18.8929</td><td>12.2354</td><td>0.000889212</td><td>0.113912</td><td>-20.607</td><td>11.3966</td><td>0.000934616</td><td>0.0788036</td><td>-21.3986</td><td>10.9721</td><td>0.000835867</td><td>0.0585595</td><td>-21.8018</td><td>10.6397</td><td>0.00123655</td><td>0.0435575</td><td>-22.1167</td><td>10.239</td><td>0.019</td><td>0.0244515</td><td>-22.4891</td><td>9.594</td><td>0.025</td><td>0.0154848</td><td>-23.128</td><td>9.312</td><td>0.027</td><td>0.0104152</td><td>-23.3869</td><td>24700000000.0</td><td>6.0</td><td>-23.4059</td><td>AnaK</td><td>354.131,0.297265</td></tr>\n",
       "</table>"
      ],
      "text/plain": [
       "<Table masked=True length=1>\n",
       "NSAID    RA     Dec     PGC# ... sersic_n MK_compiled SAGA_name      coord      \n",
       "                             ...                                    deg,deg     \n",
       "int64 float64 float64  int64 ... float64    float64     str11        object     \n",
       "----- ------- -------- ----- ... -------- ----------- --------- ----------------\n",
       "61945 354.131 0.297265 71883 ...      6.0    -23.4059      AnaK 354.131,0.297265"
      ]
     },
     "execution_count": 304,
     "metadata": {},
     "output_type": "execute_result"
    }
   ],
   "source": [
    "anakrow = hosttab[hosttab['SAGA_name']=='AnaK']\n",
    "anakrow"
   ]
  },
  {
   "cell_type": "code",
   "execution_count": 292,
   "metadata": {},
   "outputs": [],
   "source": [
    "idxcat, _, d2d, _ = anakrow['coord'].search_around_sky(hscscs, environs_arcmin[hosttab['SAGA_name']=='AnaK'][0])"
   ]
  },
  {
   "cell_type": "code",
   "execution_count": 307,
   "metadata": {},
   "outputs": [
    {
     "data": {
      "text/plain": [
       "<matplotlib.collections.PathCollection at 0x1d2448fd0>"
      ]
     },
     "execution_count": 307,
     "metadata": {},
     "output_type": "execute_result"
    },
    {
     "data": {
      "image/png": "[encoded data removed]",
      "text/plain": [
       "<matplotlib.figure.Figure at 0x1d2444400>"
      ]
     },
     "metadata": {},
     "output_type": "display_data"
    }
   ],
   "source": [
    "plt.scatter(allhscs[idxcat]['ra'],allhscs[idxcat]['dec'])\n",
    "plt.scatter([anakrow['coord'].ra.deg], [anakrow['coord'].dec.deg], c='r')"
   ]
  },
  {
   "cell_type": "code",
   "execution_count": null,
   "metadata": {
    "collapsed": true
   },
   "outputs": [],
   "source": [
    "np.ptp(allhscs[idxcat]['ra'])"
   ]
  },
  {
   "cell_type": "code",
   "execution_count": 329,
   "metadata": {},
   "outputs": [
    {
     "name": "stdout",
     "output_type": "stream",
     "text": [
      "18.976656387330877 arcmin 46.68255134669514 arcmin\n"
     ]
    },
    {
     "data": {
      "text/latex": [
       "$0.32046349 \\; \\mathrm{}$"
      ],
      "text/plain": [
       "<Quantity 0.3204634900042614>"
      ]
     },
     "execution_count": 329,
     "metadata": {},
     "output_type": "execute_result"
    }
   ],
   "source": [
    "ra_range = np.ptp(allhscs[idxcat]['ra'])*u.deg\n",
    "dec_range = np.ptp(allhscs[idxcat]['dec'])*u.deg\n",
    "print(ra_range.to(u.arcmin), dec_range.to(u.arcmin))\n",
    "max_cat_area = ra_range * dec_range\n",
    "environs_area = (np.pi*environs_arcmin[hosttab['SAGA_name']=='AnaK']**2).to(u.deg**2)[0]\n",
    "max_cat_area/environs_area"
   ]
  }
 ],
 "metadata": {
  "anaconda-cloud": {},
  "kernelspec": {
   "display_name": "Python 3",
   "language": "python3",
   "name": "python3"
  },
  "language_info": {
   "codemirror_mode": {
    "name": "ipython",
    "version": 3
   },
   "file_extension": ".py",
   "mimetype": "text/x-python",
   "name": "python",
   "nbconvert_exporter": "python",
   "pygments_lexer": "ipython3",
   "version": "3.6.1"
  }
 },
 "nbformat": 4,
 "nbformat_minor": 1
}
