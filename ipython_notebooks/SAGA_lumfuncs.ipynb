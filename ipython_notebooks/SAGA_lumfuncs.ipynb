{
 "metadata": {
  "kernelspec": {
   "codemirror_mode": {
    "name": "ipython",
    "version": 2
   },
   "display_name": "IPython (Python 2)",
   "language": "python",
   "name": "python2"
  },
  "name": "",
  "signature": "sha256:aa173a2d29a6ff01e39af7741bf716db017538e7db0f2e008fe9186e46df8b86"
 },
 "nbformat": 3,
 "nbformat_minor": 0,
 "worksheets": [
  {
   "cells": [
    {
     "cell_type": "code",
     "collapsed": false,
     "input": [
      "# This changes the current directory to the base saga directory - make sure to run this first!\n",
      "# This is necessary to be able to import the py files and use the right directories,\n",
      "# while keeping all the notebooks in their own directory.\n",
      "import os\n",
      "import sys\n",
      "import numpy as np\n",
      "\n",
      "if 'saga_base_dir' not in locals():\n",
      "    saga_base_dir = os.path.abspath('..')\n",
      "if saga_base_dir not in sys.path:\n",
      "    os.chdir(saga_base_dir)"
     ],
     "language": "python",
     "metadata": {},
     "outputs": []
    },
    {
     "cell_type": "code",
     "collapsed": false,
     "input": [
      "%matplotlib inline\n",
      "from matplotlib import pyplot as plt\n",
      "from matplotlib import rcParams"
     ],
     "language": "python",
     "metadata": {},
     "outputs": [],
     "prompt_number": 1
    },
    {
     "cell_type": "code",
     "collapsed": false,
     "input": [
      "from __future__ import division, print_function\n",
      "\n",
      "import os\n",
      "import numpy as np\n",
      "\n",
      "from astropy import units as u\n",
      "from astropy import constants as cnst\n",
      "from astropy.coordinates import SkyCoord, Distance\n",
      "from astropy.wcs import WCS\n",
      "from astropy.io import fits, ascii\n",
      "from astropy.table import Table"
     ],
     "language": "python",
     "metadata": {},
     "outputs": [],
     "prompt_number": 22
    },
    {
     "cell_type": "code",
     "collapsed": false,
     "input": [
      "sattab = fits.getdata('/Users/erik/Dropbox/SAGA/satellite-learning/galaxies_around_SAGAhosts_allspectra_v2.3.fits.gz')"
     ],
     "language": "python",
     "metadata": {},
     "outputs": [],
     "prompt_number": 3
    },
    {
     "cell_type": "code",
     "collapsed": false,
     "input": [
      "#special import magic w/ cding\n",
      "pwd = os.path.abspath(os.curdir)\n",
      "os.chdir('/Users/erik/astrodata/mcconn12_nearbydwarfs/')\n",
      "import nearbygals\n",
      "ngtab = nearbygals.get_table()\n",
      "os.chdir(pwd)"
     ],
     "language": "python",
     "metadata": {},
     "outputs": [
      {
       "output_type": "stream",
       "stream": "stderr",
       "text": [
        "WARNING: AstropyDeprecationWarning: The units function is deprecated and may be removed in a future version.\n",
        "        Use :attr:`Column.unit` instead. [astropy.utils.misc]\n",
        "WARNING:astropy:AstropyDeprecationWarning: The units function is deprecated and may be removed in a future version.\n",
        "        Use :attr:`Column.unit` instead.\n"
       ]
      }
     ],
     "prompt_number": 18
    },
    {
     "cell_type": "code",
     "collapsed": false,
     "input": [
      "issat = sattab['SATS']==1\n",
      "inody = sattab['HOSTNAME']=='Odyssey'\n",
      "ingilg = sattab['HOSTNAME']=='Gilgamesh'\n",
      "odysats = sattab[issat&inody]\n",
      "gilgsats = sattab[issat&ingilg]\n",
      "len(odysats), len(gilgsats)"
     ],
     "language": "python",
     "metadata": {},
     "outputs": [
      {
       "metadata": {},
       "output_type": "pyout",
       "prompt_number": 21,
       "text": [
        "(8, 2)"
       ]
      }
     ],
     "prompt_number": 21
    },
    {
     "cell_type": "code",
     "collapsed": false,
     "input": [
      "odysats[-2][1]"
     ],
     "language": "python",
     "metadata": {},
     "outputs": [
      {
       "metadata": {},
       "output_type": "pyout",
       "prompt_number": 206,
       "text": [
        "(1237662224092299404, 247.84002994962782, 20.184075813520494, 3, 105553418387472, 0, 14.96636, 13.900308, 13.309114, 13.030106, 12.79305, 0.14956565, 0.0, 0.0, 0.0, 0.20462532, 0.32571051, 0.23965468, 0.17381756, 0.13180059, 0.093448266, 18.629335, 19.469557, 26.837091, 22.448240280151367, 16.462582, 40.518742, 14.738416, 22.816354751586914, 9999.0, 9999.0, 9999.0, 9999.0, 9999.0, 9999.0, 9999.0, 9999.0, 9999.0, 9999.0, 0.0085534714, -1.0, 0, 0.097627997, 0.099662997, 68560, '147100', '      248.087', 19.826429, 2375.0, 34.0, 25.598127615297667, 253.16823706977448, 1, 'Odyssey', 'NSA', '', 4.0, 'NSA')"
       ]
      }
     ],
     "prompt_number": 206
    },
    {
     "cell_type": "code",
     "collapsed": false,
     "input": [
      "Mr_ody_sats = odysats['R'] - odysats['AR'] - Distance(odysats['HOST_DIST']*u.Mpc).distmod.value\n",
      "Mr_gilg_sats = gilgsats['R'] - gilgsats['AR'] - Distance(gilgsats['HOST_DIST']*u.Mpc).distmod.value\n",
      "ng_MV = ngtab['Vmag'] - ngtab['distmod']#-3.1*ngtab['EBmV']\n",
      "\n",
      "#fix LMC/SMC manually\n",
      "#ng_MV[ngtab['name']=='LMC'] =  \n",
      "#ng_MV[ngtab['name']=='LMC'] = \n",
      "\n",
      "#MV -> Mr: assuming \"typcial\" B-V=1 and Jester for Stars with Rc-Ic < 1.15 and U-B < 0\n",
      "BmV = 1\n",
      "ng_Mr = ng_MV - 0.46*(BmV) + 0.11\n",
      "\n",
      "Mr_MW_sats = ng_Mr[(20 < ngtab['distance'])&(ngtab['distance'] < 300)]\n",
      "\n",
      "Anddist = ngtab[ngtab['and_number']==0]['center'][0].separation_3d(SkyCoord(ra=[row.ra for row in ngtab['center']], \n",
      "         dec=[row.dec for row in ngtab['center']], \n",
      "         distance=[row.distance for row in ngtab['center']]))\n",
      "Mr_And_sats = ng_Mr[Anddist < 300*u.kpc][1:]  #First one is actually M31"
     ],
     "language": "python",
     "metadata": {},
     "outputs": [],
     "prompt_number": 199
    },
    {
     "cell_type": "code",
     "collapsed": false,
     "input": [
      "rcParams['xtick.labelsize'] = rcParams['ytick.labelsize'] = 16*2\n",
      "rcParams['axes.labelsize'] = 24*2\n",
      "rcParams['legend.fontsize'] = 24\n",
      "\n",
      "def lumfunc(mag, startat=-20, extend_to=-12, **kwargs):\n",
      "    kwargs.setdefault('where', 'pre')\n",
      "    kwargs.setdefault('lw', 2)\n",
      "    \n",
      "    mags = np.sort(mag)\n",
      "    Mr, n =  np.r_[mags, mags[-1]], np.arange(len(mags)+1)\n",
      "    if extend_to and mags[-1] < extend_to:\n",
      "        Mr = np.r_[Mr, extend_to]\n",
      "        n = np.r_[n, n[-1]]\n",
      "    if startat and mags[0] > startat:\n",
      "        Mr = np.r_[startat, Mr]\n",
      "        n = np.r_[0, n]\n",
      "    return plt.step(Mr, n, **kwargs)\n",
      "\n",
      "plt.figure(figsize=(10,10))\n",
      "lumfunc(Mr_gilg_sats, label='NGC 5962', lw=4) \n",
      "lumfunc(Mr_ody_sats, label='NGC 6181', ls='-', lw=4)\n",
      "lumfunc(Mr_MW_sats, label='MW', ls='--', lw=2)\n",
      "lumfunc(Mr_And_sats, label='M31', ls='--', lw=2)\n",
      "\n",
      "plt.axvline(-12, color='k', ls=':')\n",
      "\n",
      "plt.xlim(-20,-9.5)\n",
      "plt.ylim(-.1,9.1)\n",
      "plt.yticks(np.arange(10))\n",
      "\n",
      "magstr = 'M_r'\n",
      "plt.xlabel('${magstr}$'.format(**locals()))\n",
      "plt.ylabel('$N(<{magstr})$'.format(**locals()))\n",
      "\n",
      "plt.legend(loc=0)\n",
      "\n",
      "\n",
      "plt.tight_layout()\n",
      "\n",
      "plt.savefig('/Users/erik/Desktop/aatprop_lumfunc.pdf')\n",
      "plt.savefig('/Users/erik/Desktop/aatprop_lumfunc.eps')\n",
      "plt.savefig('/Users/erik/Desktop/aatprop_lumfunc.png')"
     ],
     "language": "python",
     "metadata": {},
     "outputs": [
      {
       "metadata": {},
       "output_type": "display_data",
       "png": "[encoded data removed]",
       "text": [
        "<matplotlib.figure.Figure at 0x10a951090>"
       ]
      }
     ],
     "prompt_number": 207
    },
    {
     "cell_type": "code",
     "collapsed": false,
     "input": [],
     "language": "python",
     "metadata": {},
     "outputs": []
    }
   ],
   "metadata": {}
  }
 ]
}