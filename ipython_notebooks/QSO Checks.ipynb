{
 "cells": [
  {
   "cell_type": "code",
   "execution_count": 1,
   "metadata": {
    "collapsed": true
   },
   "outputs": [],
   "source": [
    "# This changes the current directory to the base saga directory - make sure to run this first!\n",
    "# This is necessary to be able to import the py files and use the right directories,\n",
    "# while keeping all the notebooks in their own directory.\n",
    "import os\n",
    "import sys\n",
    "\n",
    "if 'saga_base_dir' not in locals():\n",
    "    saga_base_dir = os.path.abspath('..')\n",
    "\n",
    "if saga_base_dir not in sys.path:\n",
    "    os.chdir(saga_base_dir)"
   ]
  },
  {
   "cell_type": "code",
   "execution_count": 2,
   "metadata": {
    "collapsed": false
   },
   "outputs": [],
   "source": [
    "from __future__ import print_function, division\n",
    "\n",
    "import numpy as np\n",
    "\n",
    "import hosts\n",
    "import targeting\n",
    "\n",
    "from astropy import units as u\n",
    "from astropy.coordinates import *\n",
    "from astropy import table\n",
    "from astropy.visualization import hist as ahist\n",
    "from astropy.io import fits"
   ]
  },
  {
   "cell_type": "code",
   "execution_count": 3,
   "metadata": {
    "collapsed": true
   },
   "outputs": [],
   "source": [
    "%matplotlib inline\n",
    "from matplotlib import pyplot as plt\n",
    "from matplotlib import rcParams\n",
    "\n",
    "rcParams['image.interpolation'] = 'none'\n",
    "rcParams['figure.figsize'] = (16, 10)"
   ]
  },
  {
   "cell_type": "code",
   "execution_count": 4,
   "metadata": {
    "collapsed": false
   },
   "outputs": [],
   "source": [
    "def add_coord_to_tab(tab, raname='RA', decname='Dec', unit=u.deg, coocolname='skycoord'):\n",
    "    coo = SkyCoord(ra=tab[raname], dec=tab[decname], unit=unit, frame='icrs')\n",
    "    tab[coocolname] = coo\n",
    "    return coo"
   ]
  },
  {
   "cell_type": "markdown",
   "metadata": {},
   "source": [
    "# Load the SAGA datasets "
   ]
  },
  {
   "cell_type": "markdown",
   "metadata": {},
   "source": [
    "## First load the flag0/host lists"
   ]
  },
  {
   "cell_type": "code",
   "execution_count": 5,
   "metadata": {
    "collapsed": false
   },
   "outputs": [
    {
     "name": "stdout",
     "output_type": "stream",
     "text": [
      "Downloading https://docs.google.com/spreadsheets/d/1b3k2eyFjHFDtmHce1xi6JKuj3ATOWYduTBFftx5oPp8/export?format=csv&id=1b3k2eyFjHFDtmHce1xi6JKuj3ATOWYduTBFftx5oPp8&gid=448084634 [Done]\n",
      "Downloading https://docs.google.com/spreadsheets/d/1b3k2eyFjHFDtmHce1xi6JKuj3ATOWYduTBFftx5oPp8/export?format=csv&id=1b3k2eyFjHFDtmHce1xi6JKuj3ATOWYduTBFftx5oPp8&gid=271797930 [Done]\n"
     ]
    }
   ],
   "source": [
    "export_url_templ = 'https://docs.google.com/spreadsheets/d/{id}/export?format=csv&id={id}&gid={gid}'\n",
    "base_id = '1b3k2eyFjHFDtmHce1xi6JKuj3ATOWYduTBFftx5oPp8'\n",
    "flag0_gid = '448084634'\n",
    "nsats_gid = '271797930'\n",
    "\n",
    "\n",
    "tab_flag0 = table.Table.read(export_url_templ.format(id=base_id, gid=flag0_gid), format='csv')\n",
    "tab_nsats0 = table.Table.read(export_url_templ.format(id=base_id, gid=nsats_gid), format='csv')"
   ]
  },
  {
   "cell_type": "code",
   "execution_count": 6,
   "metadata": {
    "collapsed": false
   },
   "outputs": [
    {
     "name": "stdout",
     "output_type": "stream",
     "text": [
      "74\n"
     ]
    },
    {
     "data": {
      "text/html": [
       "&lt;Table masked=True length=5&gt;\n",
       "<table id=\"table5198205584-981539\" class=\"table table-striped table-bordered table-condensed\">\n",
       "<thead><tr><th>NSAID</th><th>RA</th><th>Dec</th><th>PGC#</th><th>vhelio</th><th>distance</th><th>r</th><th>i</th><th>z</th><th>I</th><th>K</th><th>K_err</th><th>flag</th><th>K_abs</th><th>r_abs</th><th>b</th><th>dist_to_group</th><th>brightest_K_nearby</th><th>SDSS_FRACGOOD</th><th>u-r</th><th>sersic_n</th><th>stellar_mass</th><th>N_sats_all</th><th>N_sats_removed</th><th>N_sats_rem1and2</th><th>N_SDSS_sats</th><th>N_sats_total</th></tr></thead>\n",
       "<tr><td>145729</td><td>224.594</td><td>-1.09102</td><td>53499</td><td>1922.0</td><td>28.4038</td><td>11.9155</td><td>11.457</td><td>11.0653</td><td>9.49</td><td>7.693</td><td>0.019</td><td>0</td><td>-24.5739</td><td>-20.3514</td><td>48.4266</td><td>3.55266</td><td>12.164</td><td>0.983605</td><td>2.6946</td><td>2.82806</td><td>19800000000.0</td><td>1</td><td>1</td><td>1</td><td>1</td><td>1</td></tr>\n",
       "<tr><td>150887</td><td>348.683</td><td>4.53406</td><td>70795</td><td>2689.0</td><td>37.019</td><td>11.9764</td><td>11.6247</td><td>11.3038</td><td>10.57</td><td>8.327</td><td>0.013</td><td>0</td><td>-24.5151</td><td>-20.8657</td><td>-50.6545</td><td>5.73166</td><td>10.189</td><td>0.98742</td><td>1.90022</td><td>0.777359</td><td>25100000000.0</td><td>0</td><td>0</td><td>0</td><td>0</td><td>0</td></tr>\n",
       "<tr><td>140594</td><td>180.098</td><td>-1.10008</td><td>37845</td><td>1465.0</td><td>23.2487</td><td>11.1116</td><td>10.7406</td><td>10.4707</td><td>9.35</td><td>7.321</td><td>0.015</td><td>0</td><td>-24.511</td><td>-20.7204</td><td>59.2146</td><td>2.29212</td><td>12.669</td><td>0.985217</td><td>2.05631</td><td>1.7545</td><td>20600000000.0</td><td>2</td><td>1</td><td>2</td><td>1</td><td>1</td></tr>\n",
       "<tr><td>142722</td><td>194.863</td><td>14.1712</td><td>44600</td><td>1988.0</td><td>30.027</td><td>11.4723</td><td>11.0534</td><td>10.7367</td><td>9.93</td><td>7.907</td><td>0.016</td><td>0</td><td>-24.4806</td><td>-20.9153</td><td>76.9088</td><td>3.38499</td><td>10.768</td><td>0.987676</td><td>2.70741</td><td>2.18747</td><td>35000000000.0</td><td>5</td><td>2</td><td>2</td><td>2</td><td>2</td></tr>\n",
       "<tr><td>150578</td><td>346.236</td><td>12.3229</td><td>70419</td><td>2381.0</td><td>33.313</td><td>11.5503</td><td>11.1597</td><td>10.903</td><td>9.89</td><td>8.162</td><td>0.021</td><td>0</td><td>-24.4511</td><td>-21.0628</td><td>-42.8417</td><td>9.44227</td><td>14.017</td><td>0.987084</td><td>2.07284</td><td>2.01064</td><td>34400000000.0</td><td>0</td><td>0</td><td>0</td><td>0</td><td>0</td></tr>\n",
       "</table><style>table.dataTable {clear: both; width: auto !important; margin: 0 !important;}\n",
       ".dataTables_info, .dataTables_length, .dataTables_filter, .dataTables_paginate{\n",
       "display: inline-block; margin-right: 1em; }\n",
       ".paginate_button { margin-right: 5px; }\n",
       "</style>\n",
       "<script>\n",
       "require.config({paths: {\n",
       "    datatables: 'https://cdn.datatables.net/1.10.9/js/jquery.dataTables.min'\n",
       "}});\n",
       "require([\"datatables\"], function(){\n",
       "    console.log(\"$('#table5198205584-981539').dataTable()\");\n",
       "    $('#table5198205584-981539').dataTable({\n",
       "        \"iDisplayLength\": 50,\n",
       "        \"aLengthMenu\": [[10, 25, 50, 100, 500, 1000, -1], [10, 25, 50, 100, 500, 1000, 'All']],\n",
       "        \"pagingType\": \"full_numbers\"\n",
       "    });\n",
       "});\n",
       "</script>\n"
      ],
      "text/plain": [
       "<IPython.core.display.HTML object>"
      ]
     },
     "execution_count": 6,
     "metadata": {},
     "output_type": "execute_result"
    }
   ],
   "source": [
    "print(len(tab_flag0))\n",
    "tab_flag0[:5].show_in_notebook()"
   ]
  },
  {
   "cell_type": "code",
   "execution_count": 7,
   "metadata": {
    "collapsed": false
   },
   "outputs": [
    {
     "name": "stdout",
     "output_type": "stream",
     "text": [
      "74\n"
     ]
    },
    {
     "data": {
      "text/html": [
       "&lt;Table length=5&gt;\n",
       "<table id=\"table5198078992-707426\" class=\"table table-striped table-bordered table-condensed\">\n",
       "<thead><tr><th>NSAID</th><th>RA</th><th>Dec</th><th>N_sats_all</th><th>N_sats_removed</th><th>N_sats_rem1and2</th><th>N_SDSS_sats</th><th>N_sats_total</th></tr></thead>\n",
       "<tr><td>145729</td><td>224.594</td><td>-1.09102</td><td>1</td><td>1</td><td>1</td><td>1</td><td>1</td></tr>\n",
       "<tr><td>150887</td><td>348.683</td><td>4.53406</td><td>0</td><td>0</td><td>0</td><td>0</td><td>0</td></tr>\n",
       "<tr><td>140594</td><td>180.098</td><td>-1.10008</td><td>2</td><td>1</td><td>2</td><td>1</td><td>1</td></tr>\n",
       "<tr><td>142722</td><td>194.863</td><td>14.1712</td><td>5</td><td>2</td><td>2</td><td>2</td><td>2</td></tr>\n",
       "<tr><td>150578</td><td>346.236</td><td>12.3229</td><td>0</td><td>0</td><td>0</td><td>0</td><td>0</td></tr>\n",
       "</table><style>table.dataTable {clear: both; width: auto !important; margin: 0 !important;}\n",
       ".dataTables_info, .dataTables_length, .dataTables_filter, .dataTables_paginate{\n",
       "display: inline-block; margin-right: 1em; }\n",
       ".paginate_button { margin-right: 5px; }\n",
       "</style>\n",
       "<script>\n",
       "require.config({paths: {\n",
       "    datatables: 'https://cdn.datatables.net/1.10.9/js/jquery.dataTables.min'\n",
       "}});\n",
       "require([\"datatables\"], function(){\n",
       "    console.log(\"$('#table5198078992-707426').dataTable()\");\n",
       "    $('#table5198078992-707426').dataTable({\n",
       "        \"iDisplayLength\": 50,\n",
       "        \"aLengthMenu\": [[10, 25, 50, 100, 500, 1000, -1], [10, 25, 50, 100, 500, 1000, 'All']],\n",
       "        \"pagingType\": \"full_numbers\"\n",
       "    });\n",
       "});\n",
       "</script>\n"
      ],
      "text/plain": [
       "<IPython.core.display.HTML object>"
      ]
     },
     "execution_count": 7,
     "metadata": {},
     "output_type": "execute_result"
    }
   ],
   "source": [
    "print(len(tab_nsats0))\n",
    "tab_nsats0[:5].show_in_notebook()"
   ]
  },
  {
   "cell_type": "code",
   "execution_count": 8,
   "metadata": {
    "collapsed": false
   },
   "outputs": [],
   "source": [
    "# double-check that the above two are aligned\n",
    "assert np.all(tab_flag0['NSAID']==tab_nsats0['NSAID'])"
   ]
  },
  {
   "cell_type": "markdown",
   "metadata": {},
   "source": [
    "### Combine the two together "
   ]
  },
  {
   "cell_type": "code",
   "execution_count": 9,
   "metadata": {
    "collapsed": false
   },
   "outputs": [
    {
     "name": "stdout",
     "output_type": "stream",
     "text": [
      "74\n"
     ]
    },
    {
     "data": {
      "text/html": [
       "&lt;Table masked=True length=5&gt;\n",
       "<table id=\"table5199174160-600602\" class=\"table table-striped table-bordered table-condensed\">\n",
       "<thead><tr><th>NSAID</th><th>RA</th><th>Dec</th><th>PGC#</th><th>vhelio</th><th>distance</th><th>r</th><th>i</th><th>z</th><th>I</th><th>K</th><th>K_err</th><th>flag</th><th>K_abs</th><th>r_abs</th><th>b</th><th>dist_to_group</th><th>brightest_K_nearby</th><th>SDSS_FRACGOOD</th><th>u-r</th><th>sersic_n</th><th>stellar_mass</th><th>N_sats_all_1</th><th>N_sats_removed_1</th><th>N_sats_rem1and2_1</th><th>N_SDSS_sats_1</th><th>N_sats_total_1</th><th>N_sats_all_2</th><th>N_sats_removed_2</th><th>N_sats_rem1and2_2</th><th>N_SDSS_sats_2</th><th>N_sats_total_2</th><th>skycoord</th></tr></thead>\n",
       "<thead><tr><th></th><th></th><th></th><th></th><th></th><th></th><th></th><th></th><th></th><th></th><th></th><th></th><th></th><th></th><th></th><th></th><th></th><th></th><th></th><th></th><th></th><th></th><th></th><th></th><th></th><th></th><th></th><th></th><th></th><th></th><th></th><th></th><th>deg,deg</th></tr></thead>\n",
       "<tr><td>32</td><td>145.514</td><td>0.336452</td><td>27723</td><td>1912.35</td><td>30.0374</td><td>11.8626</td><td>11.603</td><td>11.4285</td><td>10.53</td><td>8.848</td><td>0.036</td><td>0</td><td>-23.5403</td><td>-20.5257</td><td>37.2791</td><td>8.62942</td><td>13.304</td><td>0.974112</td><td>1.63536</td><td>1.3137</td><td>16800000000.0</td><td>1</td><td>1</td><td>1</td><td>1</td><td>1</td><td>1</td><td>1</td><td>1</td><td>1</td><td>1</td><td>145.514,0.336452</td></tr>\n",
       "<tr><td>13927</td><td>180.676</td><td>1.9768</td><td>38031</td><td>1961.14</td><td>29.5168</td><td>12.0011</td><td>11.5644</td><td>11.2205</td><td>10.98</td><td>8.743</td><td>0.027</td><td>0</td><td>-23.6073</td><td>-20.3492</td><td>62.2704</td><td>3.36159</td><td>11.815</td><td>0.98222</td><td>2.43461</td><td>3.12889</td><td>19800000000.0</td><td>0</td><td>0</td><td>0</td><td>0</td><td>0</td><td>0</td><td>0</td><td>0</td><td>0</td><td>0</td><td>180.676,1.9768</td></tr>\n",
       "<tr><td>16235</td><td>139.416</td><td>52.993</td><td>26246</td><td>2274.04</td><td>36.2141</td><td>12.9972</td><td>12.5874</td><td>12.277</td><td>14.99</td><td>9.406</td><td>0.02</td><td>0</td><td>-23.3884</td><td>-19.7972</td><td>43.0944</td><td>13.055</td><td>12.621</td><td>0.972638</td><td>2.35828</td><td>1.49728</td><td>12000000000.0</td><td>8</td><td>3</td><td>3</td><td>3</td><td>3</td><td>8</td><td>3</td><td>3</td><td>3</td><td>3</td><td>139.416,52.993</td></tr>\n",
       "<tr><td>16559</td><td>154.888</td><td>58.2058</td><td>30176</td><td>2099.41</td><td>34.4951</td><td>12.3762</td><td>11.8854</td><td>11.586</td><td>11.85</td><td>9.469</td><td>0.031</td><td>0</td><td>-23.2198</td><td>-20.3126</td><td>49.2187</td><td>8.48479</td><td>11.148</td><td>0.98321</td><td>1.98864</td><td>1.75007</td><td>19100000000.0</td><td>4</td><td>2</td><td>3</td><td>3</td><td>3</td><td>4</td><td>2</td><td>3</td><td>3</td><td>3</td><td>154.888,58.2058</td></tr>\n",
       "<tr><td>33446</td><td>123.241</td><td>36.2546</td><td>23028</td><td>2469.7</td><td>37.7379</td><td>12.3668</td><td>12.0137</td><td>11.739</td><td>11.77</td><td>9.407</td><td>0.032</td><td>0</td><td>-23.4769</td><td>-20.5171</td><td>31.306</td><td>14.5285</td><td>12.875</td><td>0.972509</td><td>2.04922</td><td>2.13367</td><td>21200000000.0</td><td>2</td><td>2</td><td>2</td><td>2</td><td>2</td><td>2</td><td>2</td><td>2</td><td>2</td><td>2</td><td>123.241,36.2546</td></tr>\n",
       "</table><style>table.dataTable {clear: both; width: auto !important; margin: 0 !important;}\n",
       ".dataTables_info, .dataTables_length, .dataTables_filter, .dataTables_paginate{\n",
       "display: inline-block; margin-right: 1em; }\n",
       ".paginate_button { margin-right: 5px; }\n",
       "</style>\n",
       "<script>\n",
       "require.config({paths: {\n",
       "    datatables: 'https://cdn.datatables.net/1.10.9/js/jquery.dataTables.min'\n",
       "}});\n",
       "require([\"datatables\"], function(){\n",
       "    console.log(\"$('#table5199174160-600602').dataTable()\");\n",
       "    $('#table5199174160-600602').dataTable({\n",
       "        \"iDisplayLength\": 50,\n",
       "        \"aLengthMenu\": [[10, 25, 50, 100, 500, 1000, -1], [10, 25, 50, 100, 500, 1000, 'All']],\n",
       "        \"pagingType\": \"full_numbers\"\n",
       "    });\n",
       "});\n",
       "</script>\n"
      ],
      "text/plain": [
       "<IPython.core.display.HTML object>"
      ]
     },
     "execution_count": 9,
     "metadata": {},
     "output_type": "execute_result"
    }
   ],
   "source": [
    "tab_hosts = table.join(tab_flag0, tab_nsats0[[nm for nm in tab_nsats0.colnames if nm.startswith('N')]], 'NSAID')\n",
    "add_coord_to_tab(tab_hosts)\n",
    "\n",
    "print(len(tab_hosts))\n",
    "tab_hosts[:5].show_in_notebook()"
   ]
  },
  {
   "cell_type": "markdown",
   "metadata": {},
   "source": [
    "## And also load the sats list "
   ]
  },
  {
   "cell_type": "code",
   "execution_count": 10,
   "metadata": {
    "collapsed": false
   },
   "outputs": [
    {
     "name": "stdout",
     "output_type": "stream",
     "text": [
      "48238 137\n"
     ]
    },
    {
     "data": {
      "text/html": [
       "&lt;Table masked=True length=5&gt;\n",
       "<table id=\"table4391004176-520552\" class=\"table table-striped table-bordered table-condensed\">\n",
       "<thead><tr><th>OBJID</th><th>RA</th><th>DEC</th><th>PHOTPTYPE</th><th>PHOT_SG</th><th>FLAGS</th><th>SATURATED</th><th>BAD_COUNTS_ERROR</th><th>BINNED1</th><th>u</th><th>g</th><th>r</th><th>i</th><th>z</th><th>u_err</th><th>g_err</th><th>r_err</th><th>i_err</th><th>z_err</th><th>MODELMAGERR_U</th><th>MODELMAGERR_G</th><th>MODELMAGERR_R</th><th>MODELMAGERR_I</th><th>MODELMAGERR_Z</th><th>EXTINCTION_U</th><th>EXTINCTION_G</th><th>EXTINCTION_R</th><th>EXTINCTION_I</th><th>EXTINCTION_Z</th><th>DERED_U</th><th>DERED_G</th><th>DERED_R</th><th>DERED_I</th><th>DERED_Z</th><th>PETRORAD_U</th><th>PETRORAD_G</th><th>PETRORAD_R</th><th>PETRORAD_I</th><th>PETRORAD_Z</th><th>PETRORADERR_U</th><th>PETRORADERR_G</th><th>PETRORADERR_R</th><th>PETRORADERR_I</th><th>PETRORADERR_Z</th><th>DEVRAD_U</th><th>DEVRADERR_U</th><th>DEVRAD_G</th><th>DEVRADERR_G</th><th>DEVRAD_R</th><th>DEVRADERR_R</th><th>DEVRAD_I</th><th>DEVRADERR_I</th><th>DEVRAD_Z</th><th>DEVRADERR_Z</th><th>DEVAB_U</th><th>DEVAB_G</th><th>DEVAB_R</th><th>DEVAB_I</th><th>DEVAB_Z</th><th>CMODELMAG_U</th><th>CMODELMAGERR_U</th><th>CMODELMAG_G</th><th>CMODELMAGERR_G</th><th>CMODELMAG_R</th><th>CMODELMAGERR_R</th><th>CMODELMAG_I</th><th>CMODELMAGERR_I</th><th>CMODELMAG_Z</th><th>CMODELMAGERR_Z</th><th>PSFMAG_U</th><th>PSFMAGERR_U</th><th>PSFMAG_G</th><th>PSFMAGERR_G</th><th>PSFMAG_R</th><th>PSFMAGERR_R</th><th>PSFMAG_I</th><th>PSFMAGERR_I</th><th>PSFMAG_Z</th><th>PSFMAGERR_Z</th><th>FIBERMAG_U</th><th>FIBERMAGERR_U</th><th>FIBERMAG_G</th><th>FIBERMAGERR_G</th><th>FIBERMAG_R</th><th>FIBERMAGERR_R</th><th>FIBERMAG_I</th><th>FIBERMAGERR_I</th><th>FIBERMAG_Z</th><th>FIBERMAGERR_Z</th><th>FRACDEV_U</th><th>FRACDEV_G</th><th>FRACDEV_R</th><th>FRACDEV_I</th><th>FRACDEV_Z</th><th>Q_U</th><th>U_U</th><th>Q_G</th><th>U_G</th><th>Q_R</th><th>U_R</th><th>Q_I</th><th>U_I</th><th>Q_Z</th><th>U_Z</th><th>EXPAB_U</th><th>EXPRAD_U</th><th>EXPPHI_U</th><th>EXPAB_G</th><th>EXPRAD_G</th><th>EXPPHI_G</th><th>EXPAB_R</th><th>EXPRAD_R</th><th>EXPPHI_R</th><th>EXPAB_I</th><th>EXPRAD_I</th><th>EXPPHI_I</th><th>EXPAB_Z</th><th>EXPRAD_Z</th><th>EXPPHI_Z</th><th>FIBER2MAG_R</th><th>FIBER2MAGERR_R</th><th>EXPMAG_R</th><th>EXPMAGERR_R</th><th>Column1</th><th>PETROR50_R</th><th>PETROR90_R</th><th>PETROMAG_R</th><th>SB_EXP_R</th><th>SB_PETRO_R</th><th>J</th><th>JERR</th><th>H</th><th>HERR</th><th>K</th><th>KERR</th><th>SPEC_Z</th><th>SPEC_Z_ERR</th><th>SPEC_Z_WARN</th><th>PHOTOZ</th><th>PHOTOZ_ERR</th><th>W1</th><th>W1ERR</th><th>W2</th><th>W2ERR</th><th>HOST_RA</th><th>HOST_DEC</th><th>HOST_DIST</th><th>HOST_VHOST</th><th>HOST_MK</th><th>HOST_NSAID</th><th>HOST_FLAG</th><th>HOST_SAGA_NAME</th><th>RHOST_ARCM</th><th>RHOST_KPC</th><th>OBJ_NSAID</th><th>SATS</th><th>PROBABILITY_CLASS1</th><th>RESCALED_PROBABILITY_CLASS1</th><th>REMOVE</th><th>TELNAME</th><th>MASKNAME</th><th>ZQUALITY</th><th>SPEC_CLASS_SGQ</th><th>SPEC_CLASS_AE</th><th>SPECOBJID</th><th>SPEC_REPEAT</th><th>skycoord</th></tr></thead>\n",
       "<thead><tr><th></th><th></th><th></th><th></th><th></th><th></th><th></th><th></th><th></th><th></th><th></th><th></th><th></th><th></th><th></th><th></th><th></th><th></th><th></th><th></th><th></th><th></th><th></th><th></th><th></th><th></th><th></th><th></th><th></th><th></th><th></th><th></th><th></th><th></th><th></th><th></th><th></th><th></th><th></th><th></th><th></th><th></th><th></th><th></th><th></th><th></th><th></th><th></th><th></th><th></th><th></th><th></th><th></th><th></th><th></th><th></th><th></th><th></th><th></th><th></th><th></th><th></th><th></th><th></th><th></th><th></th><th></th><th></th><th></th><th></th><th></th><th></th><th></th><th></th><th></th><th></th><th></th><th></th><th></th><th></th><th></th><th></th><th></th><th></th><th></th><th></th><th></th><th></th><th></th><th></th><th></th><th></th><th></th><th></th><th></th><th></th><th></th><th></th><th></th><th></th><th></th><th></th><th></th><th></th><th></th><th></th><th></th><th></th><th></th><th></th><th></th><th></th><th></th><th></th><th></th><th></th><th></th><th></th><th></th><th></th><th></th><th></th><th></th><th></th><th></th><th></th><th></th><th></th><th></th><th></th><th></th><th></th><th></th><th></th><th></th><th></th><th></th><th></th><th></th><th></th><th></th><th></th><th></th><th></th><th></th><th></th><th></th><th></th><th></th><th></th><th></th><th></th><th></th><th></th><th></th><th></th><th></th><th></th><th></th><th></th><th></th><th></th><th></th><th></th><th></th><th></th><th>deg,deg</th></tr></thead>\n",
       "<tr><td>1237655693015056396</td><td>224.532617519</td><td>-1.31259609568</td><td>3</td><td>GALAXY</td><td>35253360398352</td><td>262144</td><td>0</td><td>268435456</td><td>17.3497</td><td>16.089</td><td>15.4546</td><td>15.1464</td><td>14.9615</td><td>0.0416732</td><td>0.00498512</td><td>0.00534471</td><td>0.00545955</td><td>0.0135447</td><td>0.0416732</td><td>0.00498512</td><td>0.00534471</td><td>0.00545955</td><td>0.0135447</td><td>0.32708</td><td>0.240662</td><td>0.174548</td><td>0.132355</td><td>0.0938412</td><td>17.1418</td><td>15.8741</td><td>15.3876</td><td>15.0828</td><td>14.9173</td><td>12.9075</td><td>13.4682</td><td>13.1628</td><td>13.8231</td><td>13.8238</td><td>0.738636</td><td>0.710056</td><td>0.803463</td><td>0.78797</td><td>0.894669</td><td>21.15</td><td>3.11296</td><td>24.4211</td><td>0.411017</td><td>23.5287</td><td>0.513989</td><td>23.8198</td><td>0.408222</td><td>24.1926</td><td>1.04576</td><td>0.449992</td><td>0.465957</td><td>0.446009</td><td>0.475622</td><td>0.467311</td><td>17.477</td><td>0.0415375</td><td>16.0842</td><td>0.00498177</td><td>15.5622</td><td>0.00534471</td><td>15.1929</td><td>0.00545646</td><td>15.0088</td><td>0.0135404</td><td>21.1691</td><td>0.0788425</td><td>19.6741</td><td>0.0184681</td><td>19.4228</td><td>0.0195905</td><td>19.0933</td><td>0.019701</td><td>18.8251</td><td>0.037165</td><td>20.6698</td><td>0.0618124</td><td>19.3683</td><td>0.0111833</td><td>18.7532</td><td>0.0087296</td><td>18.4167</td><td>0.00977192</td><td>18.174</td><td>0.0217943</td><td>0.0</td><td>0.0</td><td>0.0</td><td>0.0</td><td>0.0</td><td>0.0862015</td><td>-0.015842</td><td>0.139541</td><td>-0.0327954</td><td>0.14517</td><td>-0.0385242</td><td>0.135794</td><td>-0.034536</td><td>0.133919</td><td>-0.0334079</td><td>0.508928</td><td>8.21412</td><td>149.518</td><td>0.479386</td><td>8.81146</td><td>151.674</td><td>0.473689</td><td>8.55776</td><td>152.901</td><td>0.487392</td><td>8.70547</td><td>151.876</td><td>0.495454</td><td>8.42529</td><td>152.167</td><td>19.5874</td><td>0.0125185</td><td>15.5622</td><td>0.00534471</td><td>8.55776</td><td>6.02391</td><td>13.3899</td><td>15.5966</td><td>22.2194214691</td><td>21.4913916271</td><td>15.174</td><td>9999.0</td><td>15.71</td><td>0.248</td><td>14.45</td><td>9999.0</td><td>0.0064927</td><td>2.15047e-05</td><td>0</td><td>0.067474</td><td>0.016437</td><td>-1.0</td><td>-1.0</td><td>-1.0</td><td>-1.0</td><td>224.594</td><td>-1.09102</td><td>28.4038</td><td>1922.0</td><td>-24.5738822299</td><td>145729</td><td>0</td><td></td><td>13.7934861167</td><td>113.96603527</td><td>35536</td><td>1</td><td>0.559135409723</td><td>0.691219228277</td><td>-1</td><td>NSA</td><td>sdss</td><td>4</td><td></td><td></td><td>1.23765569302e+18</td><td>NSA</td><td>224.532617519,-1.31259609568</td></tr>\n",
       "<tr><td>1237648702984683605</td><td>225.005401226</td><td>-1.09130226734</td><td>3</td><td>GALAXY</td><td>1161121054724696</td><td>0</td><td>0</td><td>268435456</td><td>16.0611</td><td>15.3154</td><td>14.9987</td><td>14.8723</td><td>14.7438</td><td>0.00790307</td><td>0.00274512</td><td>0.00320407</td><td>0.00445661</td><td>0.00904204</td><td>0.00790307</td><td>0.00274512</td><td>0.00320407</td><td>0.00445661</td><td>0.00904204</td><td>0.327712</td><td>0.241128</td><td>0.174886</td><td>0.132611</td><td>0.0940226</td><td>15.997</td><td>15.1689</td><td>14.8268</td><td>14.7113</td><td>14.6349</td><td>40.986</td><td>12.9685</td><td>13.7948</td><td>14.3383</td><td>13.7471</td><td>1.52479</td><td>0.171283</td><td>0.158666</td><td>0.162538</td><td>0.28877</td><td>10.7435</td><td>0.29789</td><td>14.1078</td><td>0.139925</td><td>15.0666</td><td>0.189859</td><td>16.1199</td><td>0.217477</td><td>19.1789</td><td>0.55349</td><td>0.763178</td><td>0.837018</td><td>0.889757</td><td>0.903721</td><td>0.889412</td><td>16.1489</td><td>0.00772101</td><td>15.3572</td><td>0.00280809</td><td>14.9363</td><td>0.00327976</td><td>14.7643</td><td>0.00451928</td><td>14.6683</td><td>0.00921106</td><td>18.9691</td><td>0.0220671</td><td>18.7247</td><td>0.0217491</td><td>18.3088</td><td>0.0183036</td><td>18.6214</td><td>0.0184466</td><td>18.4012</td><td>0.0271797</td><td>18.6917</td><td>0.0133083</td><td>18.1511</td><td>0.00473336</td><td>17.9322</td><td>0.00489516</td><td>17.876</td><td>0.00606622</td><td>17.7374</td><td>0.015826</td><td>0.707669</td><td>0.186364</td><td>0.135334</td><td>0.0759754</td><td>0.0475266</td><td>0.049303</td><td>0.0401041</td><td>0.0350942</td><td>0.0156222</td><td>0.021055</td><td>0.00853904</td><td>0.0190857</td><td>0.00764772</td><td>0.0257252</td><td>0.000878967</td><td>0.766903</td><td>4.61793</td><td>19.3252</td><td>0.859923</td><td>6.01446</td><td>14.5641</td><td>0.9152</td><td>6.17972</td><td>15.5966</td><td>0.893827</td><td>6.821</td><td>16.265</td><td>0.896596</td><td>6.48962</td><td>17.5049</td><td>18.7455</td><td>0.00700653</td><td>15.0017</td><td>0.00320407</td><td>6.17972</td><td>6.3164</td><td>15.0252</td><td>14.9831</td><td>20.9519645872</td><td>20.980901535</td><td>16.079</td><td>0.2</td><td>14.286</td><td>9999.0</td><td>14.022</td><td>9999.0</td><td>0.00629765</td><td>5.12096e-06</td><td>0</td><td>0.052463</td><td>0.042043</td><td>-1.0</td><td>-1.0</td><td>-1.0</td><td>-1.0</td><td>224.594</td><td>-1.09102</td><td>28.4038</td><td>1922.0</td><td>-24.5738822299</td><td>145729</td><td>0</td><td></td><td>24.6830181721</td><td>203.937501653</td><td>35574</td><td>1</td><td>0.937006959496</td><td>1.0</td><td>-1</td><td>NSA</td><td>sdss</td><td>4</td><td></td><td></td><td>1.23764870298e+18</td><td>NSA</td><td>225.005401226,-1.09130226734</td></tr>\n",
       "<tr><td>1237678777399443498</td><td>348.696648891</td><td>4.63995487019</td><td>3</td><td>GALAXY</td><td>1319489383829520</td><td>0</td><td>0</td><td>268435456</td><td>16.2589</td><td>15.4118</td><td>15.1461</td><td>15.151</td><td>15.0711</td><td>0.0133954</td><td>0.00337096</td><td>0.00372528</td><td>0.00503585</td><td>0.016996</td><td>0.0133954</td><td>0.00337096</td><td>0.00372528</td><td>0.00503585</td><td>0.016996</td><td>0.351228</td><td>0.258431</td><td>0.187435</td><td>0.142127</td><td>0.10077</td><td>15.9077</td><td>15.1534</td><td>14.9587</td><td>15.0089</td><td>14.9703</td><td>7.85677</td><td>14.8216</td><td>16.9723</td><td>17.4592</td><td>16.198</td><td>0.416085</td><td>0.592362</td><td>0.532695</td><td>0.583627</td><td>1.59642</td><td>6.14038</td><td>0.393122</td><td>12.945</td><td>0.147697</td><td>16.5576</td><td>0.230838</td><td>21.2875</td><td>0.428442</td><td>19.2748</td><td>1.18488</td><td>0.560836</td><td>0.633022</td><td>0.652968</td><td>0.666818</td><td>0.642156</td><td>16.9274</td><td>0.0125958</td><td>15.7663</td><td>0.00344334</td><td>15.3667</td><td>0.00384934</td><td>15.3186</td><td>0.00525219</td><td>15.3894</td><td>0.0176961</td><td>18.5668</td><td>0.029266</td><td>18.1765</td><td>0.0167651</td><td>18.0176</td><td>0.0157614</td><td>18.2427</td><td>0.0372806</td><td>18.2684</td><td>0.0444522</td><td>18.9126</td><td>0.0201894</td><td>18.3965</td><td>0.00815896</td><td>18.2763</td><td>0.0112054</td><td>18.4189</td><td>0.0330912</td><td>18.2789</td><td>0.0329746</td><td>1.0</td><td>0.597977</td><td>0.542913</td><td>0.330933</td><td>0.278819</td><td>0.141098</td><td>0.0580611</td><td>0.153493</td><td>0.0330052</td><td>0.137907</td><td>0.0216559</td><td>0.138105</td><td>0.00822253</td><td>0.117644</td><td>0.00515801</td><td>0.609136</td><td>3.06036</td><td>18.444</td><td>0.642587</td><td>5.92036</td><td>2.27256</td><td>0.66175</td><td>6.76683</td><td>-0.102134</td><td>0.688367</td><td>7.1676</td><td>177.606</td><td>0.712223</td><td>6.22386</td><td>0.764634</td><td>19.0283</td><td>0.0151085</td><td>15.7049</td><td>0.0037812</td><td>nan</td><td>7.17402</td><td>20.2725</td><td>15.5139</td><td>21.8522300022</td><td>21.7881904536</td><td>15.78</td><td>9999.0</td><td>16.041</td><td>0.226</td><td>14.706</td><td>9999.0</td><td>0.009556</td><td>-1.0</td><td>-1</td><td>0.009656</td><td>0.006745</td><td>-1.0</td><td>-1.0</td><td>-1.0</td><td>-1.0</td><td>348.683</td><td>4.53406</td><td>37.019</td><td>2689.0</td><td>-24.5151234146</td><td>150887</td><td>0</td><td>Catch22</td><td>6.4059165842</td><td>68.9813719874</td><td>-1</td><td>1</td><td>0.71936968144</td><td>0.920132632891</td><td>-1</td><td>MMT</td><td>/Spectra/Final/MMT/spHect-2015.0918_1.zlog</td><td>4</td><td></td><td></td><td>130.0</td><td>MMT</td><td>348.696648891,4.63995487019</td></tr>\n",
       "<tr><td>1237678777399509170</td><td>348.874199097</td><td>4.61326147472</td><td>3</td><td>GALAXY</td><td>1231558551928920</td><td>0</td><td>0</td><td>268435456</td><td>22.3159</td><td>20.6245</td><td>20.0919</td><td>19.8157</td><td>19.8534</td><td>0.392078</td><td>0.0384179</td><td>0.0380788</td><td>0.0441104</td><td>0.174327</td><td>0.392078</td><td>0.0384179</td><td>0.0380788</td><td>0.0441104</td><td>0.174327</td><td>0.36957</td><td>0.271926</td><td>0.197224</td><td>0.149549</td><td>0.106032</td><td>21.9463</td><td>20.3526</td><td>19.8947</td><td>19.6662</td><td>19.7474</td><td>1.95797</td><td>1.99565</td><td>2.01321</td><td>2.02483</td><td>1.8149</td><td>1.93142</td><td>0.0813015</td><td>0.0957039</td><td>0.105237</td><td>0.358533</td><td>0.265189</td><td>3.5427</td><td>0.642317</td><td>0.204892</td><td>0.724754</td><td>0.169696</td><td>0.811098</td><td>0.297318</td><td>0.760209</td><td>2.14911</td><td>0.05</td><td>0.321801</td><td>0.349964</td><td>0.468359</td><td>0.908478</td><td>22.444</td><td>0.88795</td><td>20.6447</td><td>0.0383888</td><td>20.0919</td><td>0.0380788</td><td>19.7884</td><td>0.0452603</td><td>19.8116</td><td>0.384388</td><td>22.4742</td><td>0.436096</td><td>20.9267</td><td>0.0832394</td><td>20.4237</td><td>0.0811642</td><td>20.2096</td><td>0.0797042</td><td>20.2421</td><td>0.224996</td><td>21.8964</td><td>0.212424</td><td>20.8685</td><td>0.064047</td><td>20.33</td><td>0.0632852</td><td>20.0446</td><td>0.0613541</td><td>19.8139</td><td>0.142679</td><td>1.0</td><td>0.0</td><td>0.0</td><td>0.0</td><td>0.0</td><td>-0.120885</td><td>-0.0855743</td><td>0.0668041</td><td>0.0570649</td><td>0.0603744</td><td>0.0741286</td><td>0.035677</td><td>0.045153</td><td>0.138897</td><td>0.00216901</td><td>0.0852328</td><td>0.472005</td><td>37.6751</td><td>0.449965</td><td>0.837724</td><td>21.6701</td><td>0.457291</td><td>0.91242</td><td>27.6023</td><td>0.580493</td><td>0.900982</td><td>23.6142</td><td>0.999772</td><td>0.720122</td><td>80.1315</td><td>21.1625</td><td>0.0908233</td><td>20.0919</td><td>0.0380788</td><td>nan</td><td>1.14993</td><td>1.76627</td><td>20.2737</td><td>21.8883004344</td><td>22.5725191946</td><td>9999.0</td><td>9999.0</td><td>9999.0</td><td>9999.0</td><td>9999.0</td><td>9999.0</td><td>0.009029</td><td>-1.0</td><td>-1</td><td>0.052225</td><td>0.046889</td><td>-1.0</td><td>-1.0</td><td>-1.0</td><td>-1.0</td><td>348.683</td><td>4.53406</td><td>37.019</td><td>2689.0</td><td>-24.5151234146</td><td>150887</td><td>0</td><td>Catch22</td><td>12.3834987085</td><td>133.350062655</td><td>-1</td><td>1</td><td>0.00112983692949</td><td>0.000214772468376</td><td>-1</td><td>MMT</td><td>/Spectra/Final/MMT/spHect-2015.0918_1.zlog</td><td>3</td><td></td><td></td><td>170.0</td><td>MMT</td><td>348.874199097,4.61326147472</td></tr>\n",
       "<tr><td>1237678776862572690</td><td>348.776907636</td><td>4.373197012</td><td>3</td><td>GALAXY</td><td>35287719870552</td><td>0</td><td>0</td><td>268435456</td><td>17.4923</td><td>16.41</td><td>15.7936</td><td>15.5333</td><td>15.3104</td><td>0.0165465</td><td>0.00372222</td><td>0.00344489</td><td>0.00377388</td><td>0.00878984</td><td>0.0165465</td><td>0.00372222</td><td>0.00344489</td><td>0.00377388</td><td>0.00878984</td><td>0.344205</td><td>0.253263</td><td>0.183687</td><td>0.139284</td><td>0.0987544</td><td>17.1481</td><td>16.1567</td><td>15.61</td><td>15.394</td><td>15.2116</td><td>7.62093</td><td>8.3958</td><td>8.64694</td><td>8.96763</td><td>8.06784</td><td>0.453697</td><td>0.299889</td><td>0.233456</td><td>0.224426</td><td>0.256739</td><td>8.64291</td><td>0.655824</td><td>9.17482</td><td>0.154656</td><td>9.47676</td><td>0.151941</td><td>10.3585</td><td>0.148844</td><td>12.3224</td><td>0.477552</td><td>0.641116</td><td>0.600725</td><td>0.635376</td><td>0.633174</td><td>0.575303</td><td>17.4534</td><td>0.0168635</td><td>16.3584</td><td>0.00378929</td><td>15.7422</td><td>0.00349726</td><td>15.4608</td><td>0.00384048</td><td>15.3094</td><td>0.00895384</td><td>19.1839</td><td>0.0395789</td><td>18.2793</td><td>0.0184401</td><td>17.7089</td><td>0.0185088</td><td>17.5538</td><td>0.0242889</td><td>17.4182</td><td>0.0234522</td><td>19.6395</td><td>0.0302976</td><td>18.5769</td><td>0.00647879</td><td>18.007</td><td>0.00562229</td><td>17.778</td><td>0.00627079</td><td>17.5437</td><td>0.0156731</td><td>0.209068</td><td>0.150357</td><td>0.107163</td><td>0.10302</td><td>0.0534356</td><td>0.0462194</td><td>0.0952906</td><td>0.120548</td><td>0.0926142</td><td>0.111436</td><td>0.0719139</td><td>0.118829</td><td>0.0712098</td><td>0.134764</td><td>0.0651188</td><td>0.673148</td><td>3.68838</td><td>37.9826</td><td>0.589448</td><td>4.36894</td><td>18.3407</td><td>0.629836</td><td>4.40322</td><td>16.1759</td><td>0.630388</td><td>4.46986</td><td>16.9562</td><td>0.624288</td><td>4.23508</td><td>15.9658</td><td>18.8015</td><td>0.00799872</td><td>15.7936</td><td>0.00344489</td><td>nan</td><td>3.95892</td><td>9.4873</td><td>15.7704</td><td>21.0079422762</td><td>20.7537062149</td><td>15.851</td><td>0.147</td><td>15.35</td><td>0.193</td><td>14.787</td><td>0.126</td><td>0.008904</td><td>-1.0</td><td>-1</td><td>0.089898</td><td>0.056008</td><td>-1.0</td><td>-1.0</td><td>-1.0</td><td>-1.0</td><td>348.683</td><td>4.53406</td><td>37.019</td><td>2689.0</td><td>-24.5151234146</td><td>150887</td><td>0</td><td>Catch22</td><td>11.1674755393</td><td>120.255527082</td><td>-1</td><td>1</td><td>0.000296533660993</td><td>8.08778605097e-05</td><td>-1</td><td>MMT</td><td>/Spectra/Final/MMT/spHect-2015.0918_1.zlog</td><td>4</td><td></td><td></td><td>216.0</td><td>MMT</td><td>348.776907636,4.373197012</td></tr>\n",
       "</table><style>table.dataTable {clear: both; width: auto !important; margin: 0 !important;}\n",
       ".dataTables_info, .dataTables_length, .dataTables_filter, .dataTables_paginate{\n",
       "display: inline-block; margin-right: 1em; }\n",
       ".paginate_button { margin-right: 5px; }\n",
       "</style>\n",
       "<script>\n",
       "require.config({paths: {\n",
       "    datatables: 'https://cdn.datatables.net/1.10.9/js/jquery.dataTables.min'\n",
       "}});\n",
       "require([\"datatables\"], function(){\n",
       "    console.log(\"$('#table4391004176-520552').dataTable()\");\n",
       "    $('#table4391004176-520552').dataTable({\n",
       "        \"iDisplayLength\": 50,\n",
       "        \"aLengthMenu\": [[10, 25, 50, 100, 500, 1000, -1], [10, 25, 50, 100, 500, 1000, 'All']],\n",
       "        \"pagingType\": \"full_numbers\"\n",
       "    });\n",
       "});\n",
       "</script>\n"
      ],
      "text/plain": [
       "<IPython.core.display.HTML object>"
      ]
     },
     "execution_count": 10,
     "metadata": {},
     "output_type": "execute_result"
    }
   ],
   "source": [
    "tab_specs = table.Table.read('SAGADropbox/data/saga_spectra_clean.fits.gz')\n",
    "add_coord_to_tab(tab_specs, raname='RA', decname='DEC')\n",
    "\n",
    "tab_sats = tab_specs[(tab_specs['ZQUALITY']>=3)&(tab_specs['REMOVE']==-1)&(tab_specs['SATS']==1)]\n",
    "\n",
    "print(len(tab_specs), len(tab_sats))\n",
    "tab_sats[:5].show_in_notebook()"
   ]
  },
  {
   "cell_type": "markdown",
   "metadata": {},
   "source": [
    "### Also figure out which are the saga hosts"
   ]
  },
  {
   "cell_type": "code",
   "execution_count": 11,
   "metadata": {
    "collapsed": false
   },
   "outputs": [
    {
     "name": "stdout",
     "output_type": "stream",
     "text": [
      "Using cached version of google hosts list from file \"hosts_dl.pkl2\"\n"
     ]
    }
   ],
   "source": [
    "saga_hosts = hosts.get_saga_hosts_from_google()\n",
    "saga_hosts_nsaids = {host.nsaid: host for host in saga_hosts}"
   ]
  },
  {
   "cell_type": "code",
   "execution_count": 12,
   "metadata": {
    "collapsed": true
   },
   "outputs": [],
   "source": [
    "saga_names = []\n",
    "for nsaid in tab_hosts['NSAID']:\n",
    "    if nsaid in saga_hosts_nsaids:\n",
    "        saga_names.append(saga_hosts_nsaids[nsaid].name)\n",
    "    else:\n",
    "        saga_names.append('')\n",
    "tab_hosts['SAGA_name'] = saga_names"
   ]
  },
  {
   "cell_type": "markdown",
   "metadata": {},
   "source": [
    "# Now collect Jason T's QSO datasets "
   ]
  },
  {
   "cell_type": "code",
   "execution_count": 13,
   "metadata": {
    "collapsed": false,
    "scrolled": false
   },
   "outputs": [
    {
     "name": "stdout",
     "output_type": "stream",
     "text": [
      "105811 2627\n"
     ]
    },
    {
     "data": {
      "text/html": [
       "&lt;Table length=5&gt;\n",
       "<table id=\"table5199171664-413901\" class=\"table table-striped table-bordered table-condensed\">\n",
       "<thead><tr><th>SDSSNAME</th><th>RA</th><th>DEC</th><th>Z</th><th>PSFMAG_U</th><th>PSFMAGERR_U</th><th>PSFMAG_G</th><th>PSFMAGERR_G</th><th>PSFMAG_R</th><th>PSFMAGERR_R</th><th>PSFMAG_I</th><th>PSFMAGERR_I</th><th>PSFMAG_Z</th><th>PSFMAGERR_Z</th><th>A_U</th><th>LOGNHI</th><th>FIRSTMAG</th><th>FIRST_SN</th><th>FIRST_SEP</th><th>LG_RASS_RATE</th><th>RASS_SN</th><th>RASS_SEP</th><th>TWOMASSMAG_J</th><th>TWOMASSMAGERR_J</th><th>TWOMASSMAG_H</th><th>TWOMASSMAGERR_H</th><th>TWOMASSMAG_K</th><th>TWOMASSMAGERR_K</th><th>TWOMASS_SEP</th><th>M_I</th><th>DELTA_G_I</th><th>MORPHOLOGY</th><th>SCIENCEPRIMARY</th><th>MODE</th><th>UNIFORM</th><th>BESTPRIMTARGET</th><th>TS_B_QSO</th><th>TS_B_HIZ</th><th>TS_B_FIRST</th><th>TS_B_ROSAT</th><th>TS_B_SERENDIP</th><th>TS_B_STAR</th><th>TS_B_GAL</th><th>RUN_BEST</th><th>MJD_BEST</th><th>MJD_SPEC</th><th>PLATE</th><th>FIBERID</th><th>RERUN_BEST</th><th>CAMCOL_BEST</th><th>FIELD_BEST</th><th>OBJ_BEST</th><th>TARGPRIMTARGET</th><th>TS_T_QSO</th><th>TS_T_HIZ</th><th>TS_T_FIRST</th><th>TS_T_ROSAT</th><th>TS_T_SERENDIP</th><th>TS_T_STAR</th><th>TS_T_GAL</th><th>T_PSFMAG_U</th><th>T_PSFMAGERR_U</th><th>T_PSFMAG_G</th><th>T_PSFMAGERR_G</th><th>T_PSFMAG_R</th><th>T_PSFMAGERR_R</th><th>T_PSFMAG_I</th><th>T_PSFMAGERR_I</th><th>T_PSFMAG_Z</th><th>T_PSFMAGERR_Z</th><th>BESTOBJID</th><th>SPECOBJID</th><th>OBJECT_NAME</th><th>GALEX_OBJID</th><th>GALEX_RA</th><th>GALEX_DEC</th><th>GALEX_SEP</th><th>GALEX_TYPE</th><th>GALEX_BAND</th><th>NUV_FLUX</th><th>NUV_FLUXERR</th><th>FUV_FLUX</th><th>FUV_FLUXERR</th><th>NUV_MAG</th><th>NUV_MAGERR</th><th>FUV_MAG</th><th>FUV_MAGERR</th><th>GALEX_NOBJ</th><th>skycoord</th></tr></thead>\n",
       "<thead><tr><th></th><th></th><th></th><th></th><th></th><th></th><th></th><th></th><th></th><th></th><th></th><th></th><th></th><th></th><th></th><th></th><th></th><th></th><th></th><th></th><th></th><th></th><th></th><th></th><th></th><th></th><th></th><th></th><th></th><th></th><th></th><th></th><th></th><th></th><th></th><th></th><th></th><th></th><th></th><th></th><th></th><th></th><th></th><th></th><th></th><th></th><th></th><th></th><th></th><th></th><th></th><th></th><th></th><th></th><th></th><th></th><th></th><th></th><th></th><th></th><th></th><th></th><th></th><th></th><th></th><th></th><th></th><th></th><th></th><th></th><th></th><th></th><th></th><th></th><th></th><th></th><th></th><th></th><th></th><th></th><th></th><th></th><th></th><th></th><th></th><th></th><th></th><th></th><th>deg,deg</th></tr></thead>\n",
       "<tr><td>000011.96+000225.3</td><td>0.0498390011489</td><td>0.0403649993241</td><td>0.4789</td><td>18.228</td><td>0.027</td><td>17.934</td><td>0.02</td><td>17.995</td><td>0.019</td><td>17.934</td><td>0.014</td><td>17.873</td><td>0.029</td><td>0.161</td><td>20.502</td><td>0.0</td><td>0.0</td><td>0.0</td><td>-1.66</td><td>2.157</td><td>2.04</td><td>16.651</td><td>0.136</td><td>15.82</td><td>0.149</td><td>14.821</td><td>0.111</td><td>0.209</td><td>-24.068</td><td>-0.146</td><td>0</td><td>1</td><td>1</td><td>0</td><td>134224898</td><td>1</td><td>0</td><td>0</td><td>1</td><td>0</td><td>0</td><td>0</td><td>3325</td><td>52522</td><td>51791</td><td>387</td><td>200</td><td>41</td><td>4</td><td>108</td><td>19</td><td>134224900</td><td>1</td><td>0</td><td>0</td><td>1</td><td>0</td><td>0</td><td>0</td><td>17.835</td><td>0.011</td><td>17.58</td><td>0.004</td><td>17.695</td><td>0.005</td><td>17.646</td><td>0.006</td><td>17.66</td><td>0.024</td><td>588015509269381139</td><td>109153257477111808</td><td>LBQS 2357-0014</td><td>6381013764764861047</td><td>0.0498250763621</td><td>0.0404867856438</td><td>0.441287278442</td><td>1</td><td>3</td><td>198.586</td><td>9.1663</td><td>134.936</td><td>12.7213</td><td>18.1527</td><td>0.0501274</td><td>18.5776</td><td>0.102384</td><td>2</td><td>0.0498390011489,0.0403649993241</td></tr>\n",
       "<tr><td>000110.97-105247.4</td><td>0.295722007751</td><td>-10.8798570633</td><td>0.5282</td><td>17.999</td><td>0.022</td><td>17.674</td><td>0.026</td><td>17.646</td><td>0.016</td><td>17.484</td><td>0.024</td><td>17.512</td><td>0.028</td><td>0.183</td><td>20.439</td><td>0.0</td><td>0.0</td><td>0.0</td><td>-9.0</td><td>0.0</td><td>0.0</td><td>16.467</td><td>0.095</td><td>15.614</td><td>0.112</td><td>14.916</td><td>0.108</td><td>0.155</td><td>-24.764</td><td>0.017</td><td>0</td><td>1</td><td>1</td><td>0</td><td>1048578</td><td>1</td><td>0</td><td>0</td><td>0</td><td>1</td><td>0</td><td>0</td><td>1740</td><td>51814</td><td>52143</td><td>650</td><td>126</td><td>40</td><td>1</td><td>24</td><td>71</td><td>1048580</td><td>1</td><td>0</td><td>0</td><td>0</td><td>1</td><td>0</td><td>0</td><td>17.95</td><td>0.018</td><td>17.65</td><td>0.018</td><td>17.658</td><td>0.018</td><td>17.506</td><td>0.018</td><td>17.501</td><td>0.021</td><td>587727225153388615</td><td>183182687870124032</td><td>SDSS J000110.97-105247.4</td><td>2435007175675876212</td><td>0.295777766876</td><td>-10.8798445586</td><td>0.20219960592</td><td>0</td><td>3</td><td>226.309</td><td>2.69221</td><td>141.979</td><td>3.5783</td><td>18.0108</td><td>0.0129192</td><td>18.5223</td><td>0.0273704</td><td>2</td><td>0.295722007751,-10.8798570633</td></tr>\n",
       "<tr><td>000410.80-104527.1</td><td>1.04502701759</td><td>-10.7575368881</td><td>0.2397</td><td>18.125</td><td>0.025</td><td>17.951</td><td>0.02</td><td>17.681</td><td>0.027</td><td>17.531</td><td>0.013</td><td>17.432</td><td>0.021</td><td>0.192</td><td>20.444</td><td>0.0</td><td>0.0</td><td>0.0</td><td>-1.352</td><td>3.3</td><td>7.26</td><td>16.097</td><td>0.087</td><td>15.181</td><td>0.098</td><td>14.368</td><td>0.072</td><td>0.091</td><td>-22.829</td><td>-0.221</td><td>0</td><td>1</td><td>1</td><td>0</td><td>7170</td><td>1</td><td>0</td><td>0</td><td>1</td><td>0</td><td>0</td><td>0</td><td>1729</td><td>51813</td><td>52143</td><td>650</td><td>18</td><td>40</td><td>2</td><td>90</td><td>17</td><td>7172</td><td>1</td><td>0</td><td>0</td><td>1</td><td>0</td><td>0</td><td>0</td><td>18.096</td><td>0.018</td><td>17.929</td><td>0.018</td><td>17.693</td><td>0.017</td><td>17.522</td><td>0.013</td><td>17.409</td><td>0.018</td><td>587727178449944593</td><td>183182687417139200</td><td>SDSS J000410.80-104527.1</td><td>6380415564941101376</td><td>1.04514692228</td><td>-10.7574263506</td><td>0.581539875822</td><td>1</td><td>3</td><td>101.836</td><td>6.96794</td><td>113.507</td><td>11.1903</td><td>18.8778</td><td>0.0743079</td><td>18.7653</td><td>0.107066</td><td>2</td><td>1.04502701759,-10.7575368881</td></tr>\n",
       "<tr><td>000548.24-084808.4</td><td>1.45100700855</td><td>-8.80234718323</td><td>1.1906</td><td>17.968</td><td>0.034</td><td>17.874</td><td>0.035</td><td>17.623</td><td>0.019</td><td>17.636</td><td>0.022</td><td>17.715</td><td>0.027</td><td>0.172</td><td>20.487</td><td>0.0</td><td>0.0</td><td>0.0</td><td>-9.0</td><td>0.0</td><td>0.0</td><td>17.126</td><td>0.259</td><td>16.657</td><td>0.296</td><td>0.0</td><td>0.0</td><td>0.019</td><td>-26.577</td><td>-0.057</td><td>0</td><td>1</td><td>1</td><td>0</td><td>2</td><td>1</td><td>0</td><td>0</td><td>0</td><td>0</td><td>0</td><td>0</td><td>1740</td><td>51814</td><td>52141</td><td>651</td><td>328</td><td>40</td><td>6</td><td>32</td><td>7</td><td>4</td><td>1</td><td>0</td><td>0</td><td>0</td><td>0</td><td>0</td><td>0</td><td>17.92</td><td>0.014</td><td>17.892</td><td>0.014</td><td>17.663</td><td>0.007</td><td>17.629</td><td>0.018</td><td>17.705</td><td>0.025</td><td>587727227838267399</td><td>183464155104149504</td><td>SDSS J000548.24-084808.4</td><td>6380415545613749966</td><td>1.45083866643</td><td>-8.8023579513</td><td>0.600147137654</td><td>1</td><td>3</td><td>221.995</td><td>7.46231</td><td>98.0474</td><td>8.59181</td><td>18.0317</td><td>0.0365057</td><td>18.9243</td><td>0.0951652</td><td>2</td><td>1.45100700855,-8.80234718323</td></tr>\n",
       "<tr><td>000557.23+002837.7</td><td>1.48849904537</td><td>0.477142989635</td><td>0.2596</td><td>18.587</td><td>0.024</td><td>18.566</td><td>0.024</td><td>18.41</td><td>0.023</td><td>18.369</td><td>0.027</td><td>17.857</td><td>0.049</td><td>0.282</td><td>20.479</td><td>0.0</td><td>0.0</td><td>0.0</td><td>-9.0</td><td>0.0</td><td>0.0</td><td>16.691</td><td>0.149</td><td>15.911</td><td>0.139</td><td>15.121</td><td>0.106</td><td>0.125</td><td>-22.215</td><td>-0.202</td><td>0</td><td>1</td><td>1</td><td>0</td><td>3</td><td>1</td><td>1</td><td>0</td><td>0</td><td>0</td><td>0</td><td>0</td><td>3325</td><td>52522</td><td>51793</td><td>388</td><td>385</td><td>41</td><td>5</td><td>118</td><td>37</td><td>4</td><td>1</td><td>0</td><td>0</td><td>0</td><td>0</td><td>0</td><td>0</td><td>18.517</td><td>0.018</td><td>18.493</td><td>0.008</td><td>18.303</td><td>0.011</td><td>18.173</td><td>0.014</td><td>17.795</td><td>0.023</td><td>588015509806907429</td><td>109434741819703296</td><td>LBQS 0003+0011</td><td>6381013763691121033</td><td>1.48841064477</td><td>0.477408398602</td><td>1.00707414717</td><td>1</td><td>3</td><td>98.6517</td><td>6.81361</td><td>123.574</td><td>11.0682</td><td>18.9123</td><td>0.0750071</td><td>18.6731</td><td>0.0972697</td><td>1</td><td>1.48849904537,0.477142989635</td></tr>\n",
       "</table><style>table.dataTable {clear: both; width: auto !important; margin: 0 !important;}\n",
       ".dataTables_info, .dataTables_length, .dataTables_filter, .dataTables_paginate{\n",
       "display: inline-block; margin-right: 1em; }\n",
       ".paginate_button { margin-right: 5px; }\n",
       "</style>\n",
       "<script>\n",
       "require.config({paths: {\n",
       "    datatables: 'https://cdn.datatables.net/1.10.9/js/jquery.dataTables.min'\n",
       "}});\n",
       "require([\"datatables\"], function(){\n",
       "    console.log(\"$('#table5199171664-413901').dataTable()\");\n",
       "    $('#table5199171664-413901').dataTable({\n",
       "        \"iDisplayLength\": 50,\n",
       "        \"aLengthMenu\": [[10, 25, 50, 100, 500, 1000, -1], [10, 25, 50, 100, 500, 1000, 'All']],\n",
       "        \"pagingType\": \"full_numbers\"\n",
       "    });\n",
       "});\n",
       "</script>\n"
      ],
      "text/plain": [
       "<IPython.core.display.HTML object>"
      ]
     },
     "execution_count": 13,
     "metadata": {},
     "output_type": "execute_result"
    }
   ],
   "source": [
    "tab_qso = table.Table.read('catalogs/dr7qso_galex.fits')\n",
    "add_coord_to_tab(tab_qso, raname='RA', decname='DEC')\n",
    "\n",
    "tab_qso19 = tab_qso[(0<tab_qso['FUV_MAG'])&(tab_qso['FUV_MAG']<19)]\n",
    "\n",
    "print(len(tab_qso), len(tab_qso19))\n",
    "tab_qso19[:5].show_in_notebook()"
   ]
  },
  {
   "cell_type": "code",
   "execution_count": 14,
   "metadata": {
    "collapsed": false,
    "scrolled": false
   },
   "outputs": [
    {
     "name": "stdout",
     "output_type": "stream",
     "text": [
      "1121\n"
     ]
    },
    {
     "data": {
      "text/html": [
       "&lt;Table length=5&gt;\n",
       "<table id=\"table5475238224-754563\" class=\"table table-striped table-bordered table-condensed\">\n",
       "<thead><tr><th>DEC</th><th>FUV</th><th>NAME</th><th>NUV</th><th>OBJ</th><th>OBJ_IDX</th><th>OBJ_IDX2</th><th>OBSV</th><th>OBS_DATE</th><th>RA</th><th>SCI_FILE</th><th>SCND_FILE</th><th>SPEC_QUAL</th><th>THETA [20]</th><th>W1</th><th>W2</th><th>Z</th><th>ZASS_FIL</th><th>Z_QUAL</th><th>Z_SIG</th><th>comment</th><th>dbx_path</th><th>instr</th><th>CAND</th><th>SPEC_FILE</th><th>FINDER</th><th>skycoord</th></tr></thead>\n",
       "<thead><tr><th>deg</th><th></th><th></th><th></th><th></th><th></th><th></th><th></th><th></th><th>deg</th><th></th><th></th><th></th><th></th><th></th><th></th><th></th><th></th><th></th><th></th><th></th><th></th><th></th><th></th><th></th><th></th><th>deg,deg</th></tr></thead>\n",
       "<tr><td>-20.0743611111</td><td>18.2729988098</td><td>UVQSJ000000.15-200427.7</td><td>17.9699993134</td><td>0</td><td>1</td><td>-1</td><td>LCO</td><td>Aug2014</td><td>0.000625</td><td>09aug2014/Science/sci-ccd0918.fits.gz</td><td></td><td>3</td><td>4.39948940277 .. 0.0</td><td>13.5480003357</td><td>12.5389995575</td><td>0.290799587965</td><td>LCO_09aug2014_zassess.fits</td><td>4</td><td>0.000171106687048</td><td></td><td>LCO/August2014</td><td>BCS</td><td>1</td><td>UVQSJ000000.15-200427.7_LCO.fits</td><td>UVQSJ000000.15-200427.7_DSS.pdf</td><td>0.000625,-20.0743611111</td></tr>\n",
       "<tr><td>-39.2966388889</td><td>17.8244285583</td><td>UVQSJ000503.70-391747.9</td><td>17.2321929932</td><td>0</td><td>0</td><td>-1</td><td>LCO</td><td>Aug2014</td><td>1.26541666667</td><td>07aug2014/Science/sci-ccd0645.fits.gz</td><td></td><td>3</td><td>8.0866317749 .. 0.0</td><td>12.2600002289</td><td>11.1239995956</td><td>0.652394294739</td><td>LCO_07aug2014_zassess.fits</td><td>3</td><td>0.000363261176972</td><td></td><td>LCO/August2014</td><td>BCS</td><td>1</td><td>UVQSJ000503.70-391747.9_LCO.fits</td><td>UVQSJ000503.70-391747.9_DSS.pdf</td><td>1.26541666667,-39.2966388889</td></tr>\n",
       "<tr><td>-26.1945833333</td><td>18.1590518951</td><td>UVQSJ000609.57-261140.5</td><td>17.5298900604</td><td>0</td><td>1</td><td>-1</td><td>LCO</td><td>Aug2014</td><td>1.539875</td><td>09aug2014/Science/sci-ccd0920.fits.gz</td><td></td><td>3</td><td>5.21646022797 .. 0.0</td><td>13.3079996109</td><td>12.1239995956</td><td>0.648431241512</td><td>LCO_09aug2014_zassess.fits</td><td>3</td><td>0.000249826902291</td><td></td><td>LCO/August2014</td><td>BCS</td><td>1</td><td>UVQSJ000609.57-261140.5_LCO.fits</td><td>UVQSJ000609.57-261140.5_DSS.pdf</td><td>1.539875,-26.1945833333</td></tr>\n",
       "<tr><td>42.2796111111</td><td>18.0854568481</td><td>UVQSJ000717.69+421646.6</td><td>17.6127948761</td><td>0</td><td>0</td><td>0</td><td>Lick</td><td>Jan2015</td><td>1.82370833333</td><td>Jan_2015/Science/sci-b337.fits.gz</td><td>Jan_2015/Science/sci-r337.fits.gz</td><td>4</td><td>17.7751274109 .. 0.0</td><td>12.4420003891</td><td>11.5080003738</td><td>0.0</td><td>Lick_jan2015_zassess.fits</td><td>4</td><td>0.000228934150073</td><td></td><td>Lick</td><td>Kast</td><td>1</td><td>UVQSJ000717.69+421646.6_Lick.fits</td><td>UVQSJ000717.69+421646.6_DSS.pdf</td><td>1.82370833333,42.2796111111</td></tr>\n",
       "<tr><td>-63.8627222222</td><td>17.9553394318</td><td>UVQSJ000741.00-635145.8</td><td>17.4110488892</td><td>0</td><td>0</td><td>-1</td><td>LCO</td><td>Aug2014</td><td>1.92083333333</td><td>07aug2014/Science/sci-ccd0640.fits.gz</td><td></td><td>3</td><td>4.41201686859 .. 0.0</td><td>12.6529998779</td><td>11.454000473</td><td>0.55930185318</td><td>LCO_07aug2014_zassess.fits</td><td>3</td><td>0.000405291531933</td><td></td><td>LCO/August2014</td><td>BCS</td><td>1</td><td>UVQSJ000741.00-635145.8_LCO.fits</td><td>UVQSJ000741.00-635145.8_DSS.pdf</td><td>1.92083333333,-63.8627222222</td></tr>\n",
       "</table><style>table.dataTable {clear: both; width: auto !important; margin: 0 !important;}\n",
       ".dataTables_info, .dataTables_length, .dataTables_filter, .dataTables_paginate{\n",
       "display: inline-block; margin-right: 1em; }\n",
       ".paginate_button { margin-right: 5px; }\n",
       "</style>\n",
       "<script>\n",
       "require.config({paths: {\n",
       "    datatables: 'https://cdn.datatables.net/1.10.9/js/jquery.dataTables.min'\n",
       "}});\n",
       "require([\"datatables\"], function(){\n",
       "    console.log(\"$('#table5475238224-754563').dataTable()\");\n",
       "    $('#table5475238224-754563').dataTable({\n",
       "        \"iDisplayLength\": 50,\n",
       "        \"aLengthMenu\": [[10, 25, 50, 100, 500, 1000, -1], [10, 25, 50, 100, 500, 1000, 'All']],\n",
       "        \"pagingType\": \"full_numbers\"\n",
       "    });\n",
       "});\n",
       "</script>\n"
      ],
      "text/plain": [
       "<IPython.core.display.HTML object>"
      ]
     },
     "execution_count": 14,
     "metadata": {},
     "output_type": "execute_result"
    }
   ],
   "source": [
    "with fits.open('https://archive.stsci.edu/missions/hlsp/uvqs/hlsp_uvqs_multi_multi_all_multi_v1_redshifts.fits', \n",
    "              cache=True) as f:\n",
    "    uvqs_tab = table.Table.read(f)\n",
    "add_coord_to_tab(uvqs_tab, raname='RA', decname='DEC')\n",
    "\n",
    "# JT recommended this cut\n",
    "uvqs_good_tab = uvqs_tab[uvqs_tab['Z_QUAL']>=3]\n",
    "\n",
    "print(len(uvqs_good_tab))\n",
    "uvqs_good_tab[:5].show_in_notebook()"
   ]
  },
  {
   "cell_type": "markdown",
   "metadata": {},
   "source": [
    "# X-match hosts "
   ]
  },
  {
   "cell_type": "code",
   "execution_count": 15,
   "metadata": {
    "collapsed": false
   },
   "outputs": [],
   "source": [
    "def get_host_matches(hosttab, qsotab, rvir=300*u.kpc):\n",
    "    tabs = []\n",
    "    for row in hosttab:\n",
    "        sc = row['skycoord']\n",
    "        rvirsep = (rvir/(row['distance']*u.Mpc)).decompose()*u.radian\n",
    "        seps = sc.separation(qsotab['skycoord'])\n",
    "        \n",
    "        subtab = qsotab[seps < rvirsep]\n",
    "        subtab['qso_to_host'] = seps[seps < rvirsep]\n",
    "        subtab['qso_to_host_phys'] = seps[seps < rvirsep].to(u.radian).value*(row['distance']*u.Mpc).to(u.kpc)\n",
    "\n",
    "        tabs.append(subtab)\n",
    "    return tabs"
   ]
  },
  {
   "cell_type": "code",
   "execution_count": 16,
   "metadata": {
    "collapsed": false
   },
   "outputs": [],
   "source": [
    "host_matches = get_host_matches(tab_hosts, tab_qso)\n",
    "host_matches19 = get_host_matches(tab_hosts, tab_qso19)"
   ]
  },
  {
   "cell_type": "code",
   "execution_count": 17,
   "metadata": {
    "collapsed": false
   },
   "outputs": [],
   "source": [
    "n19 = [np.sum((0<match['FUV_MAG'])&(match['FUV_MAG']<19)) for match in host_matches]\n",
    "n185 = [np.sum((0<match['FUV_MAG'])&(match['FUV_MAG']<18.5)) for match in host_matches]\n",
    "n18 = [np.sum((0<match['FUV_MAG'])&(match['FUV_MAG']<18)) for match in host_matches]\n",
    "\n",
    "tab_hosts['n_qso_fuv_lt_19'] = n19\n",
    "tab_hosts['n_qso_fuv_lt_18.5'] = n185\n",
    "tab_hosts['n_qso_fuv_lt_18'] = n18"
   ]
  },
  {
   "cell_type": "code",
   "execution_count": 18,
   "metadata": {
    "collapsed": true
   },
   "outputs": [],
   "source": [
    "host_matches_uvqs = get_host_matches(tab_hosts, uvqs_good_tab)"
   ]
  },
  {
   "cell_type": "code",
   "execution_count": 19,
   "metadata": {
    "collapsed": false
   },
   "outputs": [],
   "source": [
    "n19_uvqs = [np.sum((0<match['FUV'])&(match['FUV']<19)) for match in host_matches_uvqs]\n",
    "n185_uvqs = [np.sum((0<match['FUV'])&(match['FUV']<18.5)) for match in host_matches_uvqs]\n",
    "n18_uvqs = [np.sum((0<match['FUV'])&(match['FUV']<18)) for match in host_matches_uvqs]\n",
    "\n",
    "tab_hosts['n_uvqs_fuv_lt_19'] = n19_uvqs\n",
    "tab_hosts['n_uvqs_fuv_lt_18.5'] = n185_uvqs\n",
    "tab_hosts['n_uvqs_fuv_lt_18'] = n18_uvqs"
   ]
  },
  {
   "cell_type": "markdown",
   "metadata": {},
   "source": [
    "## Some summaries of numbers for hosts "
   ]
  },
  {
   "cell_type": "code",
   "execution_count": 20,
   "metadata": {
    "collapsed": false,
    "scrolled": false
   },
   "outputs": [
    {
     "data": {
      "text/html": [
       "&lt;Table masked=True length=74&gt;\n",
       "<table id=\"75\" class=\"table table-striped table-bordered table-condensed\">\n",
       "<thead><tr><th>NSAID</th><th>RA</th><th>Dec</th><th>PGC#</th><th>vhelio</th><th>distance</th><th>r</th><th>i</th><th>z</th><th>I</th><th>K</th><th>K_err</th><th>flag</th><th>K_abs</th><th>r_abs</th><th>b</th><th>dist_to_group</th><th>brightest_K_nearby</th><th>SDSS_FRACGOOD</th><th>u-r</th><th>sersic_n</th><th>stellar_mass</th><th>N_sats_all_1</th><th>N_sats_removed_1</th><th>N_sats_rem1and2_1</th><th>N_SDSS_sats_1</th><th>N_sats_total_1</th><th>N_sats_all_2</th><th>N_sats_removed_2</th><th>N_sats_rem1and2_2</th><th>N_SDSS_sats_2</th><th>N_sats_total_2</th><th>skycoord</th><th>SAGA_name</th><th>n_qso_fuv_lt_19</th><th>n_qso_fuv_lt_18.5</th><th>n_qso_fuv_lt_18</th><th>n_uvqs_fuv_lt_19</th><th>n_uvqs_fuv_lt_18.5</th><th>n_uvqs_fuv_lt_18</th></tr></thead>\n",
       "<thead><tr><th></th><th></th><th></th><th></th><th></th><th></th><th></th><th></th><th></th><th></th><th></th><th></th><th></th><th></th><th></th><th></th><th></th><th></th><th></th><th></th><th></th><th></th><th></th><th></th><th></th><th></th><th></th><th></th><th></th><th></th><th></th><th></th><th>deg,deg</th><th></th><th></th><th></th><th></th><th></th><th></th><th></th></tr></thead>\n",
       "<tr><td>32</td><td>145.514</td><td>0.336452</td><td>27723</td><td>1912.35</td><td>30.0374</td><td>11.8626</td><td>11.603</td><td>11.4285</td><td>10.53</td><td>8.848</td><td>0.036</td><td>0</td><td>-23.5403</td><td>-20.5257</td><td>37.2791</td><td>8.62942</td><td>13.304</td><td>0.974112</td><td>1.63536</td><td>1.3137</td><td>16800000000.0</td><td>1</td><td>1</td><td>1</td><td>1</td><td>1</td><td>1</td><td>1</td><td>1</td><td>1</td><td>1</td><td>145.514,0.336452</td><td></td><td>0</td><td>0</td><td>0</td><td>0</td><td>0</td><td>0</td></tr>\n",
       "<tr><td>13927</td><td>180.676</td><td>1.9768</td><td>38031</td><td>1961.14</td><td>29.5168</td><td>12.0011</td><td>11.5644</td><td>11.2205</td><td>10.98</td><td>8.743</td><td>0.027</td><td>0</td><td>-23.6073</td><td>-20.3492</td><td>62.2704</td><td>3.36159</td><td>11.815</td><td>0.98222</td><td>2.43461</td><td>3.12889</td><td>19800000000.0</td><td>0</td><td>0</td><td>0</td><td>0</td><td>0</td><td>0</td><td>0</td><td>0</td><td>0</td><td>0</td><td>180.676,1.9768</td><td>Sopranos</td><td>1</td><td>1</td><td>1</td><td>0</td><td>0</td><td>0</td></tr>\n",
       "<tr><td>16235</td><td>139.416</td><td>52.993</td><td>26246</td><td>2274.04</td><td>36.2141</td><td>12.9972</td><td>12.5874</td><td>12.277</td><td>14.99</td><td>9.406</td><td>0.02</td><td>0</td><td>-23.3884</td><td>-19.7972</td><td>43.0944</td><td>13.055</td><td>12.621</td><td>0.972638</td><td>2.35828</td><td>1.49728</td><td>12000000000.0</td><td>8</td><td>3</td><td>3</td><td>3</td><td>3</td><td>8</td><td>3</td><td>3</td><td>3</td><td>3</td><td>139.416,52.993</td><td></td><td>0</td><td>0</td><td>0</td><td>0</td><td>0</td><td>0</td></tr>\n",
       "<tr><td>16559</td><td>154.888</td><td>58.2058</td><td>30176</td><td>2099.41</td><td>34.4951</td><td>12.3762</td><td>11.8854</td><td>11.586</td><td>11.85</td><td>9.469</td><td>0.031</td><td>0</td><td>-23.2198</td><td>-20.3126</td><td>49.2187</td><td>8.48479</td><td>11.148</td><td>0.98321</td><td>1.98864</td><td>1.75007</td><td>19100000000.0</td><td>4</td><td>2</td><td>3</td><td>3</td><td>3</td><td>4</td><td>2</td><td>3</td><td>3</td><td>3</td><td>154.888,58.2058</td><td></td><td>0</td><td>0</td><td>0</td><td>0</td><td>0</td><td>0</td></tr>\n",
       "<tr><td>33446</td><td>123.241</td><td>36.2546</td><td>23028</td><td>2469.7</td><td>37.7379</td><td>12.3668</td><td>12.0137</td><td>11.739</td><td>11.77</td><td>9.407</td><td>0.032</td><td>0</td><td>-23.4769</td><td>-20.5171</td><td>31.306</td><td>14.5285</td><td>12.875</td><td>0.972509</td><td>2.04922</td><td>2.13367</td><td>21200000000.0</td><td>2</td><td>2</td><td>2</td><td>2</td><td>2</td><td>2</td><td>2</td><td>2</td><td>2</td><td>2</td><td>123.241,36.2546</td><td>StarTrek</td><td>0</td><td>0</td><td>0</td><td>0</td><td>0</td><td>0</td></tr>\n",
       "<tr><td>52773</td><td>193.841</td><td>58.3442</td><td>44025</td><td>2490.64</td><td>38.4771</td><td>12.406</td><td>12.05</td><td>11.79</td><td>11.39</td><td>9.047</td><td>0.023</td><td>0</td><td>-23.879</td><td>-20.52</td><td>58.7766</td><td>12.3121</td><td>11.077</td><td>0.986942</td><td>2.07612</td><td>1.75581</td><td>20300000000.0</td><td>0</td><td>0</td><td>0</td><td>0</td><td>0</td><td>0</td><td>0</td><td>0</td><td>0</td><td>0</td><td>193.841,58.3442</td><td></td><td>0</td><td>0</td><td>0</td><td>0</td><td>0</td><td>0</td></tr>\n",
       "<tr><td>61945</td><td>354.131</td><td>0.297265</td><td>71883</td><td>2556.76</td><td>34.7674</td><td>12.0858</td><td>11.7031</td><td>11.4059</td><td>11.65</td><td>9.3</td><td>0.03</td><td>0</td><td>-23.4059</td><td>-20.6201</td><td>-57.1915</td><td>9.4085</td><td>12.75</td><td>0.988686</td><td>2.44616</td><td>6.0</td><td>24700000000.0</td><td>9</td><td>2</td><td>7</td><td>2</td><td>2</td><td>9</td><td>2</td><td>7</td><td>2</td><td>2</td><td>354.131,0.297265</td><td>AnaK</td><td>0</td><td>0</td><td>0</td><td>0</td><td>0</td><td>0</td></tr>\n",
       "<tr><td>63326</td><td>248.606</td><td>21.5409</td><td>58523</td><td>2936.5</td><td>41.3763</td><td>12.9283</td><td>12.5722</td><td>12.2773</td><td>--</td><td>9.588</td><td>0.027</td><td>0</td><td>-23.4958</td><td>-20.1555</td><td>39.299</td><td>15.3853</td><td>--</td><td>0.971828</td><td>1.96522</td><td>2.23754</td><td>13900000000.0</td><td>0</td><td>0</td><td>0</td><td>0</td><td>0</td><td>0</td><td>0</td><td>0</td><td>0</td><td>0</td><td>248.606,21.5409</td><td></td><td>0</td><td>0</td><td>0</td><td>0</td><td>0</td><td>0</td></tr>\n",
       "<tr><td>69028</td><td>210.708</td><td>49.1726</td><td>50031</td><td>2012.51</td><td>31.7148</td><td>11.9989</td><td>11.5817</td><td>11.2854</td><td>11.28</td><td>8.789</td><td>0.027</td><td>0</td><td>-23.7173</td><td>-20.5074</td><td>64.0123</td><td>8.35729</td><td>10.968</td><td>0.98862</td><td>2.4304</td><td>1.78293</td><td>23000000000.0</td><td>4</td><td>3</td><td>3</td><td>3</td><td>3</td><td>4</td><td>3</td><td>3</td><td>3</td><td>3</td><td>210.708,49.1726</td><td></td><td>0</td><td>0</td><td>0</td><td>0</td><td>0</td><td>0</td></tr>\n",
       "<tr><td>85746</td><td>149.588</td><td>32.3699</td><td>28805</td><td>1451.33</td><td>25.1343</td><td>12.5439</td><td>12.2105</td><td>11.9101</td><td>11.27</td><td>8.899</td><td>0.016</td><td>0</td><td>-23.1023</td><td>-19.4575</td><td>52.3205</td><td>7.2153</td><td>--</td><td>0.978734</td><td>1.95676</td><td>0.932093</td><td>7680000000.0</td><td>1</td><td>1</td><td>1</td><td>0</td><td>1</td><td>1</td><td>1</td><td>1</td><td>0</td><td>1</td><td>149.588,32.3699</td><td>MobyDick</td><td>3</td><td>2</td><td>2</td><td>0</td><td>0</td><td>0</td></tr>\n",
       "<tr><td>94217</td><td>209.233</td><td>29.1644</td><td>49604</td><td>2373.26</td><td>34.6222</td><td>12.0542</td><td>11.6782</td><td>11.428</td><td>11.83</td><td>9.237</td><td>0.034</td><td>0</td><td>-23.4598</td><td>-20.6425</td><td>75.4319</td><td>7.6542</td><td>13.59</td><td>0.990282</td><td>2.39188</td><td>5.16674</td><td>25900000000.0</td><td>1</td><td>1</td><td>1</td><td>1</td><td>1</td><td>1</td><td>1</td><td>1</td><td>1</td><td>1</td><td>209.233,29.1644</td><td></td><td>1</td><td>0</td><td>0</td><td>0</td><td>0</td><td>0</td></tr>\n",
       "<tr><td>94340</td><td>208.324</td><td>33.4909</td><td>49342</td><td>2368.06</td><td>34.675</td><td>12.6547</td><td>12.3056</td><td>12.0852</td><td>12.18</td><td>9.638</td><td>0.024</td><td>0</td><td>-23.0621</td><td>-20.0454</td><td>75.2326</td><td>8.0305</td><td>11.995</td><td>0.982029</td><td>2.16022</td><td>2.75573</td><td>14500000000.0</td><td>0</td><td>0</td><td>0</td><td>0</td><td>0</td><td>0</td><td>0</td><td>0</td><td>0</td><td>0</td><td>208.324,33.4909</td><td></td><td>0</td><td>0</td><td>0</td><td>0</td><td>0</td><td>0</td></tr>\n",
       "<tr><td>101649</td><td>172.003</td><td>29.5111</td><td>35285</td><td>2443.33</td><td>36.8602</td><td>12.7035</td><td>12.3498</td><td>12.0963</td><td>12.1</td><td>9.676</td><td>0.032</td><td>0</td><td>-23.1568</td><td>-20.1293</td><td>71.5106</td><td>7.74426</td><td>14.388</td><td>0.995499</td><td>2.17456</td><td>2.51261</td><td>15300000000.0</td><td>0</td><td>0</td><td>0</td><td>0</td><td>0</td><td>0</td><td>0</td><td>0</td><td>0</td><td>0</td><td>172.003,29.5111</td><td></td><td>0</td><td>0</td><td>0</td><td>0</td><td>0</td><td>0</td></tr>\n",
       "<tr><td>126115</td><td>0.995575</td><td>20.7524</td><td>279</td><td>2309.0</td><td>32.4741</td><td>12.5605</td><td>12.1093</td><td>11.7516</td><td>10.65</td><td>8.4</td><td>0.015</td><td>0</td><td>-24.1577</td><td>-19.9972</td><td>-40.7605</td><td>14.1617</td><td>--</td><td>0.975929</td><td>2.14972</td><td>0.60785</td><td>12700000000.0</td><td>0</td><td>0</td><td>0</td><td>0</td><td>0</td><td>0</td><td>0</td><td>0</td><td>0</td><td>0</td><td>0.995575,20.7524</td><td>Bandamanna</td><td>0</td><td>0</td><td>0</td><td>0</td><td>0</td><td>0</td></tr>\n",
       "<tr><td>127226</td><td>8.69484</td><td>-8.39644</td><td>2081</td><td>1652.0</td><td>21.7302</td><td>11.1688</td><td>10.8702</td><td>10.6678</td><td>9.52</td><td>7.665</td><td>0.023</td><td>0</td><td>-24.0203</td><td>-20.5165</td><td>-70.8577</td><td>10.4411</td><td>13.824</td><td>0.98665</td><td>1.73747</td><td>0.677666</td><td>17700000000.0</td><td>0</td><td>0</td><td>0</td><td>0</td><td>0</td><td>0</td><td>0</td><td>0</td><td>0</td><td>0</td><td>8.69484,-8.39644</td><td></td><td>0</td><td>0</td><td>0</td><td>0</td><td>0</td><td>0</td></tr>\n",
       "<tr><td>129237</td><td>20.449</td><td>17.5922</td><td>4948</td><td>2518.0</td><td>38.6531</td><td>13.6794</td><td>13.1688</td><td>12.7204</td><td>12.24</td><td>9.38</td><td>0.021</td><td>0</td><td>-23.5559</td><td>-19.2566</td><td>-44.6775</td><td>14.5037</td><td>--</td><td>0.986166</td><td>2.33021</td><td>1.24149</td><td>7440000000.0</td><td>0</td><td>0</td><td>0</td><td>0</td><td>0</td><td>0</td><td>0</td><td>0</td><td>0</td><td>0</td><td>20.449,17.5922</td><td></td><td>0</td><td>0</td><td>0</td><td>0</td><td>0</td><td>0</td></tr>\n",
       "<tr><td>129387</td><td>21.0163</td><td>12.9175</td><td>5139</td><td>2472.0</td><td>37.3378</td><td>12.5313</td><td>12.3555</td><td>12.0556</td><td>10.8</td><td>9.131</td><td>0.064</td><td>0</td><td>-23.7297</td><td>-20.3294</td><td>-49.1789</td><td>15.3058</td><td>--</td><td>0.982853</td><td>1.7447</td><td>1.12763</td><td>9420000000.0</td><td>0</td><td>0</td><td>0</td><td>0</td><td>0</td><td>0</td><td>0</td><td>0</td><td>0</td><td>0</td><td>21.0163,12.9175</td><td></td><td>0</td><td>0</td><td>0</td><td>0</td><td>0</td><td>0</td></tr>\n",
       "<tr><td>130133</td><td>24.7772</td><td>-7.51266</td><td>6110</td><td>1860.0</td><td>24.2761</td><td>11.6523</td><td>11.2384</td><td>10.9761</td><td>10.28</td><td>8.428</td><td>0.026</td><td>0</td><td>-23.4979</td><td>-20.2736</td><td>-67.3608</td><td>12.2066</td><td>12.124</td><td>0.988006</td><td>2.59809</td><td>5.4536</td><td>19400000000.0</td><td>0</td><td>0</td><td>0</td><td>0</td><td>0</td><td>0</td><td>0</td><td>0</td><td>0</td><td>0</td><td>24.7772,-7.51266</td><td></td><td>0</td><td>0</td><td>0</td><td>0</td><td>0</td><td>0</td></tr>\n",
       "<tr><td>130625</td><td>28.3054</td><td>4.19576</td><td>6993</td><td>1733.0</td><td>22.7469</td><td>11.6782</td><td>11.3605</td><td>11.0266</td><td>--</td><td>8.726</td><td>0.025</td><td>0</td><td>-23.0586</td><td>-20.1064</td><td>-55.3039</td><td>12.9078</td><td>--</td><td>0.982666</td><td>2.31343</td><td>5.95742</td><td>14900000000.0</td><td>0</td><td>0</td><td>0</td><td>0</td><td>0</td><td>0</td><td>0</td><td>0</td><td>0</td><td>0</td><td>28.3054,4.19576</td><td></td><td>0</td><td>0</td><td>0</td><td>0</td><td>0</td><td>0</td></tr>\n",
       "<tr><td>131531</td><td>33.8651</td><td>6.00248</td><td>8631</td><td>1562.0</td><td>20.6466</td><td>11.7074</td><td>11.3697</td><td>11.2595</td><td>--</td><td>8.511</td><td>0.026</td><td>0</td><td>-23.0632</td><td>-19.8669</td><td>-51.133</td><td>11.5117</td><td>13.697</td><td>0.982844</td><td>1.76058</td><td>1.25016</td><td>10400000000.0</td><td>0</td><td>0</td><td>0</td><td>0</td><td>0</td><td>0</td><td>0</td><td>0</td><td>0</td><td>0</td><td>33.8651,6.00248</td><td></td><td>0</td><td>0</td><td>0</td><td>0</td><td>0</td><td>0</td></tr>\n",
       "<tr><td>132339</td><td>39.5482</td><td>-1.31876</td><td>9988</td><td>2629.0</td><td>37.155</td><td>12.5487</td><td>12.2488</td><td>11.9976</td><td>11.06</td><td>9.334</td><td>0.035</td><td>0</td><td>-23.5161</td><td>-20.3014</td><td>-53.6539</td><td>16.4536</td><td>14.178</td><td>0.983103</td><td>2.48247</td><td>5.43756</td><td>18200000000.0</td><td>0</td><td>0</td><td>0</td><td>0</td><td>0</td><td>0</td><td>0</td><td>0</td><td>0</td><td>0</td><td>39.5482,-1.31876</td><td>Narnia</td><td>0</td><td>0</td><td>0</td><td>0</td><td>0</td><td>0</td></tr>\n",
       "<tr><td>135129</td><td>126.784</td><td>25.9703</td><td>23701</td><td>2046.0</td><td>31.2649</td><td>12.5711</td><td>12.1801</td><td>11.8539</td><td>--</td><td>9.113</td><td>0.017</td><td>0</td><td>-23.3623</td><td>-19.9042</td><td>31.6108</td><td>11.7724</td><td>10.364</td><td>0.982504</td><td>2.66303</td><td>4.27655</td><td>13600000000.0</td><td>7</td><td>5</td><td>6</td><td>6</td><td>6</td><td>7</td><td>5</td><td>6</td><td>6</td><td>6</td><td>126.784,25.9703</td><td></td><td>0</td><td>0</td><td>0</td><td>0</td><td>0</td><td>0</td></tr>\n",
       "<tr><td>135440</td><td>130.666</td><td>14.2856</td><td>24464</td><td>2060.0</td><td>32.7765</td><td>12.0386</td><td>11.635</td><td>11.3438</td><td>10.61</td><td>8.649</td><td>0.017</td><td>0</td><td>-23.9288</td><td>-20.5392</td><td>30.9871</td><td>11.5907</td><td>11.77</td><td>0.971145</td><td>2.64515</td><td>3.66924</td><td>24500000000.0</td><td>1</td><td>1</td><td>1</td><td>1</td><td>1</td><td>1</td><td>1</td><td>1</td><td>1</td><td>1</td><td>130.666,14.2856</td><td></td><td>1</td><td>1</td><td>0</td><td>0</td><td>0</td><td>0</td></tr>\n",
       "<tr><td>135594</td><td>134.877</td><td>44.9139</td><td>25248</td><td>1815.0</td><td>29.1424</td><td>12.3298</td><td>11.9895</td><td>11.718</td><td>11.02</td><td>9.096</td><td>0.032</td><td>0</td><td>-23.2266</td><td>-19.9928</td><td>41.0028</td><td>10.7578</td><td>12.745</td><td>0.984528</td><td>2.01703</td><td>1.74447</td><td>12900000000.0</td><td>0</td><td>0</td><td>0</td><td>0</td><td>0</td><td>0</td><td>0</td><td>0</td><td>0</td><td>0</td><td>134.877,44.9139</td><td></td><td>0</td><td>0</td><td>0</td><td>0</td><td>0</td><td>0</td></tr>\n",
       "<tr><td>135739</td><td>138.102</td><td>35.0275</td><td>25955</td><td>2049.0</td><td>32.3374</td><td>12.7482</td><td>12.3671</td><td>12.086</td><td>--</td><td>9.506</td><td>0.03</td><td>0</td><td>-23.0425</td><td>-19.8004</td><td>43.0202</td><td>10.7244</td><td>10.849</td><td>0.974997</td><td>2.6258</td><td>3.69982</td><td>12200000000.0</td><td>5</td><td>3</td><td>3</td><td>3</td><td>3</td><td>5</td><td>3</td><td>3</td><td>3</td><td>3</td><td>138.102,35.0275</td><td></td><td>0</td><td>0</td><td>0</td><td>0</td><td>0</td><td>0</td></tr>\n",
       "<tr><td>135879</td><td>141.077</td><td>34.5135</td><td>26649</td><td>1687.0</td><td>27.6714</td><td>11.588</td><td>11.2183</td><td>10.9256</td><td>--</td><td>8.032</td><td>0.016</td><td>0</td><td>-24.1782</td><td>-20.6222</td><td>45.4015</td><td>9.01869</td><td>13.189</td><td>0.981817</td><td>2.58665</td><td>4.30874</td><td>26100000000.0</td><td>5</td><td>4</td><td>4</td><td>4</td><td>4</td><td>5</td><td>4</td><td>4</td><td>4</td><td>4</td><td>141.077,34.5135</td><td></td><td>1</td><td>1</td><td>1</td><td>0</td><td>0</td><td>0</td></tr>\n",
       "<tr><td>136403</td><td>150.358</td><td>15.7701</td><td>29009</td><td>2404.0</td><td>36.8274</td><td>13.2064</td><td>12.8659</td><td>12.5602</td><td>11.72</td><td>9.612</td><td>0.02</td><td>0</td><td>-23.2189</td><td>-19.6244</td><td>49.0587</td><td>9.63038</td><td>--</td><td>0.981984</td><td>1.97415</td><td>1.59806</td><td>8360000000.0</td><td>0</td><td>0</td><td>0</td><td>0</td><td>0</td><td>0</td><td>0</td><td>0</td><td>0</td><td>0</td><td>150.358,15.7701</td><td></td><td>0</td><td>0</td><td>0</td><td>0</td><td>0</td><td>0</td></tr>\n",
       "<tr><td>137625</td><td>158.231</td><td>28.5118</td><td>31166</td><td>1408.0</td><td>24.4117</td><td>11.9393</td><td>11.5812</td><td>11.3468</td><td>--</td><td>8.917</td><td>0.018</td><td>0</td><td>-23.021</td><td>-19.9987</td><td>59.4484</td><td>5.67327</td><td>10.431</td><td>0.982474</td><td>2.34798</td><td>3.60127</td><td>13300000000.0</td><td>3</td><td>3</td><td>3</td><td>3</td><td>3</td><td>3</td><td>3</td><td>3</td><td>3</td><td>3</td><td>158.231,28.5118</td><td></td><td>0</td><td>0</td><td>0</td><td>0</td><td>0</td><td>0</td></tr>\n",
       "<tr><td>138201</td><td>162.818</td><td>27.9751</td><td>32533</td><td>1414.0</td><td>24.2202</td><td>11.2539</td><td>10.856</td><td>10.5627</td><td>9.87</td><td>7.972</td><td>0.014</td><td>0</td><td>-23.9489</td><td>-20.667</td><td>63.4186</td><td>5.00724</td><td>9.909</td><td>0.977563</td><td>2.63738</td><td>3.98633</td><td>27500000000.0</td><td>6</td><td>5</td><td>5</td><td>5</td><td>5</td><td>6</td><td>5</td><td>5</td><td>5</td><td>5</td><td>162.818,27.9751</td><td></td><td>2</td><td>1</td><td>0</td><td>0</td><td>0</td><td>0</td></tr>\n",
       "<tr><td>138375</td><td>164.006</td><td>57.1171</td><td>32854</td><td>1818.0</td><td>31.484</td><td>12.7616</td><td>12.3879</td><td>12.1156</td><td>--</td><td>9.327</td><td>0.019</td><td>0</td><td>-23.1635</td><td>-19.7289</td><td>53.7204</td><td>3.91705</td><td>10.446</td><td>0.983435</td><td>2.59306</td><td>4.31915</td><td>11600000000.0</td><td>4</td><td>2</td><td>3</td><td>3</td><td>3</td><td>4</td><td>2</td><td>3</td><td>3</td><td>3</td><td>164.006,57.1171</td><td></td><td>0</td><td>0</td><td>0</td><td>0</td><td>0</td><td>0</td></tr>\n",
       "<tr><td>138642</td><td>165.797</td><td>27.9722</td><td>33371</td><td>1534.0</td><td>25.5536</td><td>11.0322</td><td>10.8539</td><td>10.6031</td><td>--</td><td>8.264</td><td>0.014</td><td>0</td><td>-23.7733</td><td>-21.0051</td><td>66.0402</td><td>4.84941</td><td>9.642</td><td>0.987864</td><td>1.44288</td><td>3.63707</td><td>18400000000.0</td><td>4</td><td>2</td><td>2</td><td>2</td><td>2</td><td>4</td><td>2</td><td>2</td><td>2</td><td>2</td><td>165.797,27.9722</td><td></td><td>0</td><td>0</td><td>0</td><td>0</td><td>0</td><td>0</td></tr>\n",
       "<tr><td>139281</td><td>170.631</td><td>39.8769</td><td>34908</td><td>1948.0</td><td>31.5629</td><td>12.8371</td><td>12.4395</td><td>12.1462</td><td>--</td><td>9.453</td><td>0.021</td><td>0</td><td>-23.0429</td><td>-19.6588</td><td>67.6067</td><td>7.43472</td><td>11.996</td><td>0.979112</td><td>2.64552</td><td>3.85865</td><td>10900000000.0</td><td>6</td><td>4</td><td>4</td><td>4</td><td>4</td><td>6</td><td>4</td><td>4</td><td>4</td><td>4</td><td>170.631,39.8769</td><td></td><td>0</td><td>0</td><td>0</td><td>0</td><td>0</td><td>0</td></tr>\n",
       "<tr><td>139467</td><td>172.046</td><td>25.6612</td><td>35294</td><td>2739.0</td><td>39.888</td><td>12.6299</td><td>12.2913</td><td>12.0418</td><td>11.24</td><td>9.182</td><td>0.019</td><td>0</td><td>-23.8222</td><td>-20.3743</td><td>71.3198</td><td>8.51075</td><td>14.37</td><td>0.981855</td><td>1.94086</td><td>1.18057</td><td>17000000000.0</td><td>0</td><td>0</td><td>0</td><td>0</td><td>0</td><td>0</td><td>0</td><td>0</td><td>0</td><td>0</td><td>172.046,25.6612</td><td></td><td>0</td><td>0</td><td>0</td><td>0</td><td>0</td><td>0</td></tr>\n",
       "<tr><td>140065</td><td>175.328</td><td>36.5468</td><td>36266</td><td>1465.0</td><td>24.6947</td><td>12.2451</td><td>11.9581</td><td>11.7461</td><td>10.66</td><td>8.857</td><td>0.016</td><td>0</td><td>-23.106</td><td>-19.7179</td><td>72.4223</td><td>4.50689</td><td>10.589</td><td>0.989816</td><td>1.67345</td><td>0.812875</td><td>8390000000.0</td><td>3</td><td>3</td><td>3</td><td>3</td><td>3</td><td>3</td><td>3</td><td>3</td><td>3</td><td>3</td><td>175.328,36.5468</td><td></td><td>0</td><td>0</td><td>0</td><td>0</td><td>0</td><td>0</td></tr>\n",
       "<tr><td>140301</td><td>177.289</td><td>27.022</td><td>36914</td><td>1798.0</td><td>28.2771</td><td>11.7576</td><td>11.4055</td><td>11.1582</td><td>10.41</td><td>8.693</td><td>0.02</td><td>0</td><td>-23.5642</td><td>-20.4996</td><td>76.1447</td><td>4.186</td><td>9.944</td><td>0.987064</td><td>2.34973</td><td>3.00455</td><td>22700000000.0</td><td>3</td><td>2</td><td>3</td><td>2</td><td>2</td><td>3</td><td>2</td><td>3</td><td>2</td><td>2</td><td>177.289,27.022</td><td></td><td>1</td><td>1</td><td>1</td><td>0</td><td>0</td><td>0</td></tr>\n",
       "<tr><td>140458</td><td>178.989</td><td>6.74927</td><td>37483</td><td>2497.0</td><td>35.9663</td><td>12.1129</td><td>11.7237</td><td>11.3439</td><td>10.69</td><td>8.752</td><td>0.022</td><td>0</td><td>-24.0275</td><td>-20.6666</td><td>65.7324</td><td>5.74298</td><td>13.066</td><td>0.993915</td><td>2.59601</td><td>5.74235</td><td>26300000000.0</td><td>2</td><td>1</td><td>1</td><td>1</td><td>1</td><td>2</td><td>1</td><td>1</td><td>1</td><td>1</td><td>178.989,6.74927</td><td></td><td>0</td><td>0</td><td>0</td><td>0</td><td>0</td><td>0</td></tr>\n",
       "<tr><td>140594</td><td>180.098</td><td>-1.10008</td><td>37845</td><td>1465.0</td><td>23.2487</td><td>11.1116</td><td>10.7406</td><td>10.4707</td><td>9.35</td><td>7.321</td><td>0.015</td><td>0</td><td>-24.511</td><td>-20.7204</td><td>59.2146</td><td>2.29212</td><td>12.669</td><td>0.985217</td><td>2.05631</td><td>1.7545</td><td>20600000000.0</td><td>2</td><td>1</td><td>2</td><td>1</td><td>1</td><td>2</td><td>1</td><td>2</td><td>1</td><td>1</td><td>180.098,-1.10008</td><td>Alice</td><td>1</td><td>1</td><td>1</td><td>0</td><td>0</td><td>0</td></tr>\n",
       "<tr><td>141465</td><td>187.211</td><td>-1.93918</td><td>41083</td><td>2407.0</td><td>35.4431</td><td>12.1066</td><td>11.7092</td><td>11.4338</td><td>10.85</td><td>9.038</td><td>0.04</td><td>0</td><td>-23.7097</td><td>-20.641</td><td>60.4272</td><td>5.85102</td><td>11.717</td><td>0.985694</td><td>2.55755</td><td>3.0341</td><td>26000000000.0</td><td>1</td><td>1</td><td>1</td><td>1</td><td>1</td><td>1</td><td>1</td><td>1</td><td>1</td><td>1</td><td>187.211,-1.93918</td><td></td><td>0</td><td>0</td><td>0</td><td>0</td><td>0</td><td>0</td></tr>\n",
       "<tr><td>142722</td><td>194.863</td><td>14.1712</td><td>44600</td><td>1988.0</td><td>30.027</td><td>11.4723</td><td>11.0534</td><td>10.7367</td><td>9.93</td><td>7.907</td><td>0.016</td><td>0</td><td>-24.4806</td><td>-20.9153</td><td>76.9088</td><td>3.38499</td><td>10.768</td><td>0.987676</td><td>2.70741</td><td>2.18747</td><td>35000000000.0</td><td>5</td><td>2</td><td>2</td><td>2</td><td>2</td><td>5</td><td>2</td><td>2</td><td>2</td><td>2</td><td>194.863,14.1712</td><td></td><td>1</td><td>1</td><td>0</td><td>0</td><td>0</td><td>0</td></tr>\n",
       "<tr><td>143856</td><td>206.599</td><td>43.8724</td><td>48815</td><td>2409.0</td><td>35.8043</td><td>12.441</td><td>12.0609</td><td>11.7913</td><td>--</td><td>8.886</td><td>0.02</td><td>0</td><td>-23.8837</td><td>-20.3287</td><td>69.925</td><td>9.59888</td><td>11.898</td><td>0.99475</td><td>2.13263</td><td>1.07367</td><td>18200000000.0</td><td>1</td><td>1</td><td>1</td><td>1</td><td>1</td><td>1</td><td>1</td><td>1</td><td>1</td><td>1</td><td>206.599,43.8724</td><td></td><td>0</td><td>0</td><td>0</td><td>0</td><td>0</td><td>0</td></tr>\n",
       "<tr><td>144121</td><td>209.069</td><td>47.2357</td><td>49563</td><td>1793.0</td><td>29.0615</td><td>11.4299</td><td>11.0436</td><td>10.7756</td><td>10.06</td><td>8.352</td><td>0.016</td><td>0</td><td>-23.9646</td><td>-20.8866</td><td>66.2095</td><td>7.49475</td><td>--</td><td>0.989914</td><td>2.36887</td><td>3.59258</td><td>32800000000.0</td><td>0</td><td>0</td><td>0</td><td>0</td><td>0</td><td>0</td><td>0</td><td>0</td><td>0</td><td>0</td><td>209.069,47.2357</td><td></td><td>1</td><td>0</td><td>0</td><td>0</td><td>0</td><td>0</td></tr>\n",
       "<tr><td>144151</td><td>209.271</td><td>41.8463</td><td>49618</td><td>2270.0</td><td>33.9098</td><td>11.9726</td><td>11.6415</td><td>11.3663</td><td>10.53</td><td>8.534</td><td>0.019</td><td>0</td><td>-24.1176</td><td>-20.679</td><td>70.0814</td><td>8.902</td><td>9.979</td><td>0.991887</td><td>1.79073</td><td>2.50022</td><td>20800000000.0</td><td>0</td><td>0</td><td>0</td><td>0</td><td>0</td><td>0</td><td>0</td><td>0</td><td>0</td><td>0</td><td>209.271,41.8463</td><td></td><td>1</td><td>0</td><td>0</td><td>0</td><td>0</td><td>0</td></tr>\n",
       "<tr><td>144953</td><td>215.579</td><td>50.5014</td><td>51340</td><td>2230.0</td><td>34.1543</td><td>12.73</td><td>12.3754</td><td>12.1022</td><td>11.36</td><td>9.589</td><td>0.034</td><td>0</td><td>-23.0782</td><td>-19.9373</td><td>60.9291</td><td>10.6058</td><td>11.408</td><td>0.98866</td><td>2.58047</td><td>5.17427</td><td>13600000000.0</td><td>3</td><td>3</td><td>3</td><td>3</td><td>3</td><td>3</td><td>3</td><td>3</td><td>3</td><td>3</td><td>215.579,50.5014</td><td></td><td>1</td><td>1</td><td>0</td><td>0</td><td>0</td><td>0</td></tr>\n",
       "<tr><td>145297</td><td>218.718</td><td>54.4759</td><td>52116</td><td>2116.0</td><td>33.1163</td><td>12.9107</td><td>12.5261</td><td>12.227</td><td>--</td><td>8.95</td><td>0.023</td><td>0</td><td>-23.6502</td><td>-19.6895</td><td>56.7679</td><td>8.67574</td><td>--</td><td>0.983341</td><td>2.62181</td><td>3.48251</td><td>11100000000.0</td><td>2</td><td>1</td><td>1</td><td>1</td><td>1</td><td>2</td><td>1</td><td>1</td><td>1</td><td>1</td><td>218.718,54.4759</td><td></td><td>0</td><td>0</td><td>0</td><td>0</td><td>0</td><td>0</td></tr>\n",
       "<tr><td>145398</td><td>219.796</td><td>5.36347</td><td>52365</td><td>1505.0</td><td>23.5261</td><td>11.882</td><td>11.5062</td><td>11.2418</td><td>--</td><td>8.128</td><td>0.027</td><td>0</td><td>-23.7298</td><td>-19.9757</td><td>56.3646</td><td>5.04108</td><td>--</td><td>0.985748</td><td>2.49288</td><td>2.68922</td><td>14300000000.0</td><td>1</td><td>1</td><td>1</td><td>1</td><td>1</td><td>1</td><td>1</td><td>1</td><td>1</td><td>1</td><td>219.796,5.36347</td><td></td><td>0</td><td>0</td><td>0</td><td>0</td><td>0</td><td>0</td></tr>\n",
       "<tr><td>145729</td><td>224.594</td><td>-1.09102</td><td>53499</td><td>1922.0</td><td>28.4038</td><td>11.9155</td><td>11.457</td><td>11.0653</td><td>9.49</td><td>7.693</td><td>0.019</td><td>0</td><td>-24.5739</td><td>-20.3514</td><td>48.4266</td><td>3.55266</td><td>12.164</td><td>0.983605</td><td>2.6946</td><td>2.82806</td><td>19800000000.0</td><td>1</td><td>1</td><td>1</td><td>1</td><td>1</td><td>1</td><td>1</td><td>1</td><td>1</td><td>1</td><td>224.594,-1.09102</td><td></td><td>0</td><td>0</td><td>0</td><td>0</td><td>0</td><td>0</td></tr>\n",
       "<tr><td>145879</td><td>227.456</td><td>0.470085</td><td>54119</td><td>2085.0</td><td>30.1861</td><td>12.0999</td><td>11.7169</td><td>11.4472</td><td>10.78</td><td>8.714</td><td>0.028</td><td>0</td><td>-23.685</td><td>-20.2991</td><td>47.4196</td><td>5.22499</td><td>12.205</td><td>0.983482</td><td>2.60192</td><td>4.11054</td><td>19400000000.0</td><td>0</td><td>0</td><td>0</td><td>0</td><td>0</td><td>0</td><td>0</td><td>0</td><td>0</td><td>0</td><td>227.456,0.470085</td><td></td><td>0</td><td>0</td><td>0</td><td>0</td><td>0</td><td>0</td></tr>\n",
       "<tr><td>147100</td><td>248.087</td><td>19.8264</td><td>58470</td><td>2375.0</td><td>34.3199</td><td>12.1734</td><td>11.8567</td><td>11.603</td><td>10.69</td><td>8.65</td><td>0.016</td><td>0</td><td>-24.0277</td><td>-20.5043</td><td>39.2085</td><td>12.9151</td><td>10.617</td><td>0.979183</td><td>1.89341</td><td>1.16788</td><td>18300000000.0</td><td>10</td><td>8</td><td>8</td><td>3</td><td>8</td><td>10</td><td>8</td><td>8</td><td>3</td><td>8</td><td>248.087,19.8264</td><td>Odyssey</td><td>0</td><td>0</td><td>0</td><td>0</td><td>0</td><td>0</td></tr>\n",
       "<tr><td>147606</td><td>255.21</td><td>23.011</td><td>59426</td><td>2790.0</td><td>39.4152</td><td>12.4328</td><td>12.0454</td><td>11.7373</td><td>--</td><td>8.972</td><td>0.018</td><td>0</td><td>-24.0063</td><td>-20.5455</td><td>33.9451</td><td>15.7409</td><td>10.199</td><td>0.979009</td><td>2.70782</td><td>4.84288</td><td>24400000000.0</td><td>2</td><td>2</td><td>2</td><td>2</td><td>2</td><td>2</td><td>2</td><td>2</td><td>2</td><td>2</td><td>255.21,23.011</td><td></td><td>0</td><td>0</td><td>0</td><td>1</td><td>1</td><td>1</td></tr>\n",
       "<tr><td>149781</td><td>335.913</td><td>-3.43167</td><td>68743</td><td>2828.0</td><td>39.1759</td><td>12.7243</td><td>12.3357</td><td>12.038</td><td>10.73</td><td>9.131</td><td>0.026</td><td>0</td><td>-23.8341</td><td>-20.2408</td><td>-47.5016</td><td>13.5028</td><td>12.388</td><td>0.985183</td><td>2.4174</td><td>3.94163</td><td>17900000000.0</td><td>0</td><td>0</td><td>0</td><td>0</td><td>0</td><td>0</td><td>0</td><td>0</td><td>0</td><td>0</td><td>335.913,-3.43167</td><td>OBrother</td><td>0</td><td>0</td><td>0</td><td>0</td><td>0</td><td>0</td></tr>\n",
       "<tr><td>149977</td><td>339.372</td><td>10.5315</td><td>69349</td><td>2825.0</td><td>38.996</td><td>13.2024</td><td>12.8081</td><td>12.5297</td><td>11.93</td><td>9.604</td><td>0.039</td><td>0</td><td>-23.3511</td><td>-19.7527</td><td>-40.2713</td><td>8.3451</td><td>10.703</td><td>0.978754</td><td>2.0908</td><td>1.24479</td><td>9940000000.0</td><td>0</td><td>0</td><td>0</td><td>0</td><td>0</td><td>0</td><td>0</td><td>0</td><td>0</td><td>0</td><td>339.372,10.5315</td><td></td><td>0</td><td>0</td><td>0</td><td>0</td><td>0</td><td>0</td></tr>\n",
       "<tr><td>150307</td><td>343.924</td><td>-5.49535</td><td>70025</td><td>2859.0</td><td>39.406</td><td>12.7764</td><td>12.3578</td><td>12.0687</td><td>11.18</td><td>9.229</td><td>0.029</td><td>0</td><td>-23.7488</td><td>-20.2014</td><td>-54.9818</td><td>11.1991</td><td>--</td><td>0.97638</td><td>2.16558</td><td>1.04662</td><td>16900000000.0</td><td>0</td><td>0</td><td>0</td><td>0</td><td>0</td><td>0</td><td>0</td><td>0</td><td>0</td><td>0</td><td>343.924,-5.49535</td><td></td><td>0</td><td>0</td><td>0</td><td>0</td><td>0</td><td>0</td></tr>\n",
       "<tr><td>150578</td><td>346.236</td><td>12.3229</td><td>70419</td><td>2381.0</td><td>33.313</td><td>11.5503</td><td>11.1597</td><td>10.903</td><td>9.89</td><td>8.162</td><td>0.021</td><td>0</td><td>-24.4511</td><td>-21.0628</td><td>-42.8417</td><td>9.44227</td><td>14.017</td><td>0.987084</td><td>2.07284</td><td>2.01064</td><td>34400000000.0</td><td>0</td><td>0</td><td>0</td><td>0</td><td>0</td><td>0</td><td>0</td><td>0</td><td>0</td><td>0</td><td>346.236,12.3229</td><td></td><td>0</td><td>0</td><td>0</td><td>0</td><td>0</td><td>0</td></tr>\n",
       "<tr><td>150887</td><td>348.683</td><td>4.53406</td><td>70795</td><td>2689.0</td><td>37.019</td><td>11.9764</td><td>11.6247</td><td>11.3038</td><td>10.57</td><td>8.327</td><td>0.013</td><td>0</td><td>-24.5151</td><td>-20.8657</td><td>-50.6545</td><td>5.73166</td><td>10.189</td><td>0.98742</td><td>1.90022</td><td>0.777359</td><td>25100000000.0</td><td>0</td><td>0</td><td>0</td><td>0</td><td>0</td><td>0</td><td>0</td><td>0</td><td>0</td><td>0</td><td>348.683,4.53406</td><td>Catch22</td><td>0</td><td>0</td><td>0</td><td>0</td><td>0</td><td>0</td></tr>\n",
       "<tr><td>153017</td><td>359.856</td><td>20.7498</td><td>73163</td><td>2403.0</td><td>34.158</td><td>12.4995</td><td>12.2274</td><td>12.0242</td><td>--</td><td>9.348</td><td>0.028</td><td>0</td><td>-23.3195</td><td>-20.168</td><td>-40.494</td><td>12.9275</td><td>--</td><td>0.967716</td><td>1.61143</td><td>1.17911</td><td>12800000000.0</td><td>0</td><td>0</td><td>0</td><td>0</td><td>0</td><td>0</td><td>0</td><td>0</td><td>0</td><td>0</td><td>359.856,20.7498</td><td></td><td>0</td><td>0</td><td>0</td><td>0</td><td>0</td><td>0</td></tr>\n",
       "<tr><td>157374</td><td>145.225</td><td>5.16581</td><td>27635</td><td>1966.0</td><td>30.9924</td><td>11.8861</td><td>11.4733</td><td>11.2051</td><td>--</td><td>8.646</td><td>0.031</td><td>0</td><td>-23.8103</td><td>-20.5702</td><td>39.6683</td><td>8.76111</td><td>9.661</td><td>0.971088</td><td>2.78102</td><td>4.57574</td><td>24800000000.0</td><td>3</td><td>3</td><td>3</td><td>3</td><td>3</td><td>3</td><td>3</td><td>3</td><td>3</td><td>3</td><td>145.225,5.16581</td><td></td><td>0</td><td>0</td><td>0</td><td>0</td><td>0</td><td>0</td></tr>\n",
       "<tr><td>158541</td><td>159.068</td><td>37.3247</td><td>31428</td><td>1567.51</td><td>26.7779</td><td>11.9545</td><td>11.6216</td><td>11.3792</td><td>10.47</td><td>8.376</td><td>0.019</td><td>0</td><td>-23.7629</td><td>-20.1844</td><td>59.8423</td><td>6.87175</td><td>12.913</td><td>0.984752</td><td>1.84995</td><td>0.933043</td><td>13400000000.0</td><td>1</td><td>1</td><td>1</td><td>1</td><td>1</td><td>1</td><td>1</td><td>1</td><td>1</td><td>1</td><td>159.068,37.3247</td><td></td><td>1</td><td>0</td><td>0</td><td>0</td><td>0</td><td>0</td></tr>\n",
       "<tr><td>159593</td><td>169.589</td><td>45.7482</td><td>34561</td><td>2327.26</td><td>36.0711</td><td>12.5187</td><td>12.2149</td><td>12.0391</td><td>11.73</td><td>9.629</td><td>0.032</td><td>0</td><td>-23.1568</td><td>-20.2671</td><td>63.784</td><td>9.79184</td><td>13.649</td><td>0.990237</td><td>1.7438</td><td>1.46392</td><td>15100000000.0</td><td>1</td><td>1</td><td>1</td><td>1</td><td>1</td><td>1</td><td>1</td><td>1</td><td>1</td><td>1</td><td>169.589,45.7482</td><td></td><td>0</td><td>0</td><td>0</td><td>0</td><td>0</td><td>0</td></tr>\n",
       "<tr><td>160302</td><td>174.843</td><td>56.2707</td><td>36138</td><td>2391.17</td><td>37.5788</td><td>12.0622</td><td>11.7158</td><td>11.5534</td><td>11.88</td><td>9.032</td><td>0.033</td><td>0</td><td>-23.8427</td><td>-20.8125</td><td>58.1227</td><td>10.2981</td><td>11.005</td><td>0.97959</td><td>1.82333</td><td>0.861326</td><td>26200000000.0</td><td>0</td><td>0</td><td>0</td><td>0</td><td>0</td><td>0</td><td>0</td><td>0</td><td>0</td><td>0</td><td>174.843,56.2707</td><td></td><td>0</td><td>0</td><td>0</td><td>0</td><td>0</td><td>0</td></tr>\n",
       "<tr><td>161174</td><td>182.792</td><td>20.1757</td><td>38802</td><td>2448.24</td><td>36.3129</td><td>12.9512</td><td>12.6154</td><td>12.3487</td><td>11.95</td><td>9.734</td><td>0.029</td><td>0</td><td>-23.0663</td><td>-19.8491</td><td>78.4598</td><td>6.0357</td><td>12.477</td><td>0.982772</td><td>2.0161</td><td>1.73943</td><td>10100000000.0</td><td>1</td><td>1</td><td>1</td><td>1</td><td>1</td><td>1</td><td>1</td><td>1</td><td>1</td><td>1</td><td>182.792,20.1757</td><td></td><td>0</td><td>0</td><td>0</td><td>0</td><td>0</td><td>0</td></tr>\n",
       "<tr><td>162547</td><td>193.462</td><td>9.71003</td><td>43837</td><td>2854.7</td><td>40.9358</td><td>12.3999</td><td>12.1498</td><td>11.9253</td><td>12.2</td><td>9.865</td><td>0.064</td><td>0</td><td>-23.1955</td><td>-20.6606</td><td>72.5724</td><td>7.7243</td><td>13.645</td><td>0.990945</td><td>1.55254</td><td>4.28292</td><td>18500000000.0</td><td>0</td><td>0</td><td>0</td><td>0</td><td>0</td><td>0</td><td>0</td><td>0</td><td>0</td><td>0</td><td>193.462,9.71003</td><td></td><td>1</td><td>0</td><td>0</td><td>0</td><td>0</td><td>0</td></tr>\n",
       "<tr><td>162580</td><td>193.762</td><td>8.06553</td><td>43998</td><td>2782.87</td><td>40.0239</td><td>12.377</td><td>11.9333</td><td>11.7455</td><td>11.39</td><td>8.944</td><td>0.042</td><td>0</td><td>-24.0676</td><td>-20.6346</td><td>70.918</td><td>7.37151</td><td>10.695</td><td>0.985818</td><td>2.48354</td><td>4.47216</td><td>26700000000.0</td><td>4</td><td>4</td><td>4</td><td>4</td><td>4</td><td>4</td><td>4</td><td>4</td><td>4</td><td>4</td><td>193.762,8.06553</td><td></td><td>1</td><td>0</td><td>0</td><td>0</td><td>0</td><td>0</td></tr>\n",
       "<tr><td>163136</td><td>197.904</td><td>22.9155</td><td>45795</td><td>2606.28</td><td>37.5518</td><td>12.3036</td><td>11.9171</td><td>11.6758</td><td>11.1</td><td>8.757</td><td>0.022</td><td>0</td><td>-24.1162</td><td>-20.5695</td><td>83.7849</td><td>7.11041</td><td>12.396</td><td>0.987719</td><td>2.03335</td><td>1.28002</td><td>21500000000.0</td><td>2</td><td>2</td><td>2</td><td>2</td><td>2</td><td>2</td><td>2</td><td>2</td><td>2</td><td>2</td><td>197.904,22.9155</td><td></td><td>0</td><td>0</td><td>0</td><td>0</td><td>0</td><td>0</td></tr>\n",
       "<tr><td>163956</td><td>206.33</td><td>41.7125</td><td>48767</td><td>2549.01</td><td>37.2285</td><td>12.2853</td><td>11.7813</td><td>11.3937</td><td>11.43</td><td>8.434</td><td>0.012</td><td>0</td><td>-24.4204</td><td>-20.5691</td><td>71.714</td><td>9.76207</td><td>9.739</td><td>0.985273</td><td>2.53786</td><td>1.63483</td><td>25700000000.0</td><td>2</td><td>2</td><td>2</td><td>2</td><td>2</td><td>2</td><td>2</td><td>2</td><td>2</td><td>2</td><td>206.33,41.7125</td><td></td><td>0</td><td>0</td><td>0</td><td>0</td><td>0</td><td>0</td></tr>\n",
       "<tr><td>163975</td><td>206.603</td><td>46.107</td><td>48816</td><td>1504.97</td><td>25.5541</td><td>12.4723</td><td>12.0914</td><td>11.8188</td><td>11.39</td><td>8.939</td><td>0.021</td><td>0</td><td>-23.0983</td><td>-19.565</td><td>68.121</td><td>7.1115</td><td>14.039</td><td>0.987033</td><td>1.94365</td><td>0.929931</td><td>8620000000.0</td><td>0</td><td>0</td><td>0</td><td>0</td><td>0</td><td>0</td><td>0</td><td>0</td><td>0</td><td>0</td><td>206.603,46.107</td><td></td><td>0</td><td>0</td><td>0</td><td>0</td><td>0</td><td>0</td></tr>\n",
       "<tr><td>164995</td><td>216.639</td><td>56.5827</td><td>51564</td><td>1979.0</td><td>31.8474</td><td>11.7551</td><td>11.3967</td><td>11.1446</td><td>--</td><td>8.459</td><td>0.021</td><td>0</td><td>-24.0564</td><td>-20.7602</td><td>56.0102</td><td>6.19377</td><td>9.494</td><td>0.986002</td><td>2.55826</td><td>4.14707</td><td>29200000000.0</td><td>3</td><td>3</td><td>3</td><td>3</td><td>3</td><td>3</td><td>3</td><td>3</td><td>3</td><td>3</td><td>216.639,56.5827</td><td></td><td>0</td><td>0</td><td>0</td><td>0</td><td>0</td><td>0</td></tr>\n",
       "<tr><td>165082</td><td>217.418</td><td>3.23331</td><td>51787</td><td>1622.0</td><td>24.9139</td><td>11.7737</td><td>11.3893</td><td>11.1075</td><td>--</td><td>8.241</td><td>0.022</td><td>0</td><td>-23.7412</td><td>-20.2085</td><td>56.502</td><td>5.16472</td><td>10.063</td><td>0.973196</td><td>2.54994</td><td>2.86153</td><td>17900000000.0</td><td>9</td><td>5</td><td>5</td><td>5</td><td>5</td><td>9</td><td>5</td><td>5</td><td>5</td><td>5</td><td>217.418,3.23331</td><td></td><td>2</td><td>1</td><td>0</td><td>0</td><td>0</td><td>0</td></tr>\n",
       "<tr><td>165153</td><td>218.023</td><td>57.9215</td><td>51932</td><td>1898.39</td><td>31.0085</td><td>11.8023</td><td>11.4237</td><td>11.1454</td><td>10.7</td><td>8.277</td><td>0.018</td><td>0</td><td>-24.1804</td><td>-20.6551</td><td>54.5048</td><td>5.29993</td><td>11.681</td><td>0.981689</td><td>2.08013</td><td>1.1047</td><td>23900000000.0</td><td>1</td><td>1</td><td>1</td><td>1</td><td>1</td><td>1</td><td>1</td><td>1</td><td>1</td><td>1</td><td>218.023,57.9215</td><td></td><td>1</td><td>0</td><td>0</td><td>0</td><td>0</td><td>0</td></tr>\n",
       "<tr><td>165316</td><td>219.378</td><td>51.5619</td><td>52266</td><td>2184.17</td><td>33.578</td><td>12.9135</td><td>12.5183</td><td>12.1984</td><td>11.88</td><td>9.431</td><td>0.025</td><td>0</td><td>-23.1993</td><td>-19.7168</td><td>58.4551</td><td>10.4956</td><td>11.475</td><td>0.977898</td><td>2.69677</td><td>2.72099</td><td>11300000000.0</td><td>4</td><td>4</td><td>4</td><td>4</td><td>4</td><td>4</td><td>4</td><td>4</td><td>4</td><td>4</td><td>219.378,51.5619</td><td></td><td>0</td><td>0</td><td>0</td><td>0</td><td>0</td><td>0</td></tr>\n",
       "<tr><td>165536</td><td>221.546</td><td>-0.222942</td><td>52735</td><td>1659.36</td><td>25.3928</td><td>11.856</td><td>11.4773</td><td>11.2276</td><td>11.13</td><td>8.424</td><td>0.028</td><td>0</td><td>-23.5996</td><td>-20.1676</td><td>51.1661</td><td>3.0291</td><td>11.635</td><td>0.983643</td><td>2.34484</td><td>1.32237</td><td>16600000000.0</td><td>2</td><td>1</td><td>1</td><td>1</td><td>1</td><td>2</td><td>1</td><td>1</td><td>1</td><td>1</td><td>221.546,-0.222942</td><td>Dune</td><td>1</td><td>0</td><td>0</td><td>0</td><td>0</td><td>0</td></tr>\n",
       "<tr><td>165707</td><td>222.824</td><td>58.9781</td><td>53043</td><td>2142.61</td><td>33.4978</td><td>13.0972</td><td>12.573</td><td>12.2162</td><td>12.64</td><td>9.206</td><td>0.017</td><td>0</td><td>-23.4191</td><td>-19.5279</td><td>52.0107</td><td>8.91042</td><td>12.224</td><td>0.957718</td><td>2.57394</td><td>2.91083</td><td>9430000000.0</td><td>1</td><td>1</td><td>1</td><td>1</td><td>1</td><td>1</td><td>1</td><td>1</td><td>1</td><td>1</td><td>222.824,58.9781</td><td></td><td>1</td><td>0</td><td>0</td><td>0</td><td>0</td><td>0</td></tr>\n",
       "<tr><td>165980</td><td>227.921</td><td>59.809</td><td>54234</td><td>2463.39</td><td>36.6889</td><td>12.8051</td><td>12.3567</td><td>12.0086</td><td>11.94</td><td>9.046</td><td>0.019</td><td>0</td><td>-23.7767</td><td>-20.0176</td><td>49.5064</td><td>13.417</td><td>14.401</td><td>0.986461</td><td>2.38217</td><td>0.90011</td><td>15000000000.0</td><td>0</td><td>0</td><td>0</td><td>0</td><td>0</td><td>0</td><td>0</td><td>0</td><td>0</td><td>0</td><td>227.921,59.809</td><td></td><td>0</td><td>0</td><td>0</td><td>0</td><td>0</td><td>0</td></tr>\n",
       "<tr><td>166141</td><td>230.485</td><td>5.07063</td><td>54849</td><td>1480.0</td><td>22.9441</td><td>10.6377</td><td>10.3042</td><td>10.0802</td><td>11.1</td><td>8.082</td><td>0.021</td><td>0</td><td>-23.7214</td><td>-21.1656</td><td>47.9385</td><td>4.68964</td><td>--</td><td>0.981766</td><td>2.23366</td><td>6.0</td><td>38900000000.0</td><td>0</td><td>0</td><td>0</td><td>0</td><td>0</td><td>0</td><td>0</td><td>0</td><td>0</td><td>0</td><td>230.485,5.07063</td><td></td><td>0</td><td>0</td><td>0</td><td>0</td><td>0</td><td>0</td></tr>\n",
       "<tr><td>166313</td><td>234.132</td><td>16.6078</td><td>55588</td><td>1967.37</td><td>28.0204</td><td>11.8195</td><td>11.4775</td><td>11.2024</td><td>10.53</td><td>8.514</td><td>0.017</td><td>0</td><td>-23.7234</td><td>-20.4178</td><td>50.4728</td><td>8.83586</td><td>13.805</td><td>0.978405</td><td>1.929</td><td>2.06853</td><td>16200000000.0</td><td>2</td><td>2</td><td>2</td><td>2</td><td>2</td><td>2</td><td>2</td><td>2</td><td>2</td><td>2</td><td>234.132,16.6078</td><td>Gilgamesh</td><td>0</td><td>0</td><td>0</td><td>0</td><td>0</td><td>0</td></tr>\n",
       "</table><style>table.dataTable {clear: both; width: auto !important; margin: 0 !important;}\n",
       ".dataTables_info, .dataTables_length, .dataTables_filter, .dataTables_paginate{\n",
       "display: inline-block; margin-right: 1em; }\n",
       ".paginate_button { margin-right: 5px; }\n",
       "</style>\n",
       "<script>\n",
       "require.config({paths: {\n",
       "    datatables: 'https://cdn.datatables.net/1.10.9/js/jquery.dataTables.min'\n",
       "}});\n",
       "require([\"datatables\"], function(){\n",
       "    console.log(\"$('#75').dataTable()\");\n",
       "    $('#75').dataTable({\n",
       "        \"iDisplayLength\": 50,\n",
       "        \"aLengthMenu\": [[10, 25, 50, 100, 500, 1000, -1], [10, 25, 50, 100, 500, 1000, 'All']],\n",
       "        \"pagingType\": \"full_numbers\"\n",
       "    });\n",
       "});\n",
       "</script>\n"
      ],
      "text/plain": [
       "<IPython.core.display.HTML object>"
      ]
     },
     "execution_count": 20,
     "metadata": {},
     "output_type": "execute_result"
    }
   ],
   "source": [
    "tab_hosts.show_in_notebook(75)"
   ]
  },
  {
   "cell_type": "code",
   "execution_count": 21,
   "metadata": {
    "collapsed": false
   },
   "outputs": [
    {
     "name": "stdout",
     "output_type": "stream",
     "text": [
      "FUV<19 (JTQSO, UVQS)\n",
      "23 1 \n",
      "\n",
      "FUV<18.5 (JTQSO, UVQS)\n",
      "11 1 \n",
      "\n",
      "FUV<18 (JTQSO, UVQS)\n",
      "6 1\n"
     ]
    }
   ],
   "source": [
    "print('FUV<19 (JTQSO, UVQS)')\n",
    "print(np.sum(tab_hosts['n_qso_fuv_lt_19']), np.sum(tab_hosts['n_uvqs_fuv_lt_19']),'\\n')\n",
    "\n",
    "print('FUV<18.5 (JTQSO, UVQS)')\n",
    "print(np.sum(tab_hosts['n_qso_fuv_lt_18.5']), np.sum(tab_hosts['n_uvqs_fuv_lt_18.5']),'\\n')\n",
    "\n",
    "print('FUV<18 (JTQSO, UVQS)')\n",
    "print(np.sum(tab_hosts['n_qso_fuv_lt_18']), np.sum(tab_hosts['n_uvqs_fuv_lt_18']))"
   ]
  },
  {
   "cell_type": "code",
   "execution_count": 22,
   "metadata": {
    "collapsed": false
   },
   "outputs": [
    {
     "name": "stdout",
     "output_type": "stream",
     "text": [
      "FUV<19 (JTQSO, UVQS)\n",
      "6 0 \n",
      "\n",
      "FUV<18.5 (JTQSO, UVQS)\n",
      "4 0 \n",
      "\n",
      "FUV<18 (JTQSO, UVQS)\n",
      "4 0\n"
     ]
    }
   ],
   "source": [
    "tab_saga_hosts = tab_hosts[tab_hosts['SAGA_name']!='']\n",
    "\n",
    "print('FUV<19 (JTQSO, UVQS)')\n",
    "print(np.sum(tab_saga_hosts['n_qso_fuv_lt_19']), np.sum(tab_saga_hosts['n_uvqs_fuv_lt_19']),'\\n')\n",
    "\n",
    "print('FUV<18.5 (JTQSO, UVQS)')\n",
    "print(np.sum(tab_saga_hosts['n_qso_fuv_lt_18.5']), np.sum(tab_saga_hosts['n_uvqs_fuv_lt_18.5']),'\\n')\n",
    "\n",
    "print('FUV<18 (JTQSO, UVQS)')\n",
    "print(np.sum(tab_saga_hosts['n_qso_fuv_lt_18']), np.sum(tab_saga_hosts['n_uvqs_fuv_lt_18']))"
   ]
  },
  {
   "cell_type": "code",
   "execution_count": 23,
   "metadata": {
    "collapsed": false
   },
   "outputs": [
    {
     "data": {
      "text/html": [
       "&lt;Table masked=True length=4&gt;\n",
       "<table id=\"table5564190608-867920\" class=\"table table-striped table-bordered table-condensed\">\n",
       "<thead><tr><th>NSAID</th><th>RA</th><th>Dec</th><th>PGC#</th><th>vhelio</th><th>distance</th><th>r</th><th>i</th><th>z</th><th>I</th><th>K</th><th>K_err</th><th>flag</th><th>K_abs</th><th>r_abs</th><th>b</th><th>dist_to_group</th><th>brightest_K_nearby</th><th>SDSS_FRACGOOD</th><th>u-r</th><th>sersic_n</th><th>stellar_mass</th><th>N_sats_all_1</th><th>N_sats_removed_1</th><th>N_sats_rem1and2_1</th><th>N_SDSS_sats_1</th><th>N_sats_total_1</th><th>N_sats_all_2</th><th>N_sats_removed_2</th><th>N_sats_rem1and2_2</th><th>N_SDSS_sats_2</th><th>N_sats_total_2</th><th>skycoord</th><th>SAGA_name</th><th>n_qso_fuv_lt_19</th><th>n_qso_fuv_lt_18.5</th><th>n_qso_fuv_lt_18</th><th>n_uvqs_fuv_lt_19</th><th>n_uvqs_fuv_lt_18.5</th><th>n_uvqs_fuv_lt_18</th></tr></thead>\n",
       "<thead><tr><th></th><th></th><th></th><th></th><th></th><th></th><th></th><th></th><th></th><th></th><th></th><th></th><th></th><th></th><th></th><th></th><th></th><th></th><th></th><th></th><th></th><th></th><th></th><th></th><th></th><th></th><th></th><th></th><th></th><th></th><th></th><th></th><th>deg,deg</th><th></th><th></th><th></th><th></th><th></th><th></th><th></th></tr></thead>\n",
       "<tr><td>13927</td><td>180.676</td><td>1.9768</td><td>38031</td><td>1961.14</td><td>29.5168</td><td>12.0011</td><td>11.5644</td><td>11.2205</td><td>10.98</td><td>8.743</td><td>0.027</td><td>0</td><td>-23.6073</td><td>-20.3492</td><td>62.2704</td><td>3.36159</td><td>11.815</td><td>0.98222</td><td>2.43461</td><td>3.12889</td><td>19800000000.0</td><td>0</td><td>0</td><td>0</td><td>0</td><td>0</td><td>0</td><td>0</td><td>0</td><td>0</td><td>0</td><td>180.676,1.9768</td><td>Sopranos</td><td>1</td><td>1</td><td>1</td><td>0</td><td>0</td><td>0</td></tr>\n",
       "<tr><td>85746</td><td>149.588</td><td>32.3699</td><td>28805</td><td>1451.33</td><td>25.1343</td><td>12.5439</td><td>12.2105</td><td>11.9101</td><td>11.27</td><td>8.899</td><td>0.016</td><td>0</td><td>-23.1023</td><td>-19.4575</td><td>52.3205</td><td>7.2153</td><td>--</td><td>0.978734</td><td>1.95676</td><td>0.932093</td><td>7680000000.0</td><td>1</td><td>1</td><td>1</td><td>0</td><td>1</td><td>1</td><td>1</td><td>1</td><td>0</td><td>1</td><td>149.588,32.3699</td><td>MobyDick</td><td>3</td><td>2</td><td>2</td><td>0</td><td>0</td><td>0</td></tr>\n",
       "<tr><td>140594</td><td>180.098</td><td>-1.10008</td><td>37845</td><td>1465.0</td><td>23.2487</td><td>11.1116</td><td>10.7406</td><td>10.4707</td><td>9.35</td><td>7.321</td><td>0.015</td><td>0</td><td>-24.511</td><td>-20.7204</td><td>59.2146</td><td>2.29212</td><td>12.669</td><td>0.985217</td><td>2.05631</td><td>1.7545</td><td>20600000000.0</td><td>2</td><td>1</td><td>2</td><td>1</td><td>1</td><td>2</td><td>1</td><td>2</td><td>1</td><td>1</td><td>180.098,-1.10008</td><td>Alice</td><td>1</td><td>1</td><td>1</td><td>0</td><td>0</td><td>0</td></tr>\n",
       "<tr><td>165536</td><td>221.546</td><td>-0.222942</td><td>52735</td><td>1659.36</td><td>25.3928</td><td>11.856</td><td>11.4773</td><td>11.2276</td><td>11.13</td><td>8.424</td><td>0.028</td><td>0</td><td>-23.5996</td><td>-20.1676</td><td>51.1661</td><td>3.0291</td><td>11.635</td><td>0.983643</td><td>2.34484</td><td>1.32237</td><td>16600000000.0</td><td>2</td><td>1</td><td>1</td><td>1</td><td>1</td><td>2</td><td>1</td><td>1</td><td>1</td><td>1</td><td>221.546,-0.222942</td><td>Dune</td><td>1</td><td>0</td><td>0</td><td>0</td><td>0</td><td>0</td></tr>\n",
       "</table><style>table.dataTable {clear: both; width: auto !important; margin: 0 !important;}\n",
       ".dataTables_info, .dataTables_length, .dataTables_filter, .dataTables_paginate{\n",
       "display: inline-block; margin-right: 1em; }\n",
       ".paginate_button { margin-right: 5px; }\n",
       "</style>\n",
       "<script>\n",
       "require.config({paths: {\n",
       "    datatables: 'https://cdn.datatables.net/1.10.9/js/jquery.dataTables.min'\n",
       "}});\n",
       "require([\"datatables\"], function(){\n",
       "    console.log(\"$('#table5564190608-867920').dataTable()\");\n",
       "    $('#table5564190608-867920').dataTable({\n",
       "        \"iDisplayLength\": 50,\n",
       "        \"aLengthMenu\": [[10, 25, 50, 100, 500, 1000, -1], [10, 25, 50, 100, 500, 1000, 'All']],\n",
       "        \"pagingType\": \"full_numbers\"\n",
       "    });\n",
       "});\n",
       "</script>\n"
      ],
      "text/plain": [
       "<IPython.core.display.HTML object>"
      ]
     },
     "execution_count": 23,
     "metadata": {},
     "output_type": "execute_result"
    }
   ],
   "source": [
    "tab_saga_hosts[tab_saga_hosts['n_qso_fuv_lt_19']>0].show_in_notebook()"
   ]
  },
  {
   "cell_type": "code",
   "execution_count": 24,
   "metadata": {
    "collapsed": false
   },
   "outputs": [
    {
     "data": {
      "text/html": [
       "&lt;Table length=23&gt;\n",
       "<table id=\"table5564190096-224670\" class=\"table table-striped table-bordered table-condensed\">\n",
       "<thead><tr><th>SDSSNAME</th><th>RA</th><th>DEC</th><th>Z</th><th>PSFMAG_U</th><th>PSFMAGERR_U</th><th>PSFMAG_G</th><th>PSFMAGERR_G</th><th>PSFMAG_R</th><th>PSFMAGERR_R</th><th>PSFMAG_I</th><th>PSFMAGERR_I</th><th>PSFMAG_Z</th><th>PSFMAGERR_Z</th><th>A_U</th><th>LOGNHI</th><th>FIRSTMAG</th><th>FIRST_SN</th><th>FIRST_SEP</th><th>LG_RASS_RATE</th><th>RASS_SN</th><th>RASS_SEP</th><th>TWOMASSMAG_J</th><th>TWOMASSMAGERR_J</th><th>TWOMASSMAG_H</th><th>TWOMASSMAGERR_H</th><th>TWOMASSMAG_K</th><th>TWOMASSMAGERR_K</th><th>TWOMASS_SEP</th><th>M_I</th><th>DELTA_G_I</th><th>MORPHOLOGY</th><th>SCIENCEPRIMARY</th><th>MODE</th><th>UNIFORM</th><th>BESTPRIMTARGET</th><th>TS_B_QSO</th><th>TS_B_HIZ</th><th>TS_B_FIRST</th><th>TS_B_ROSAT</th><th>TS_B_SERENDIP</th><th>TS_B_STAR</th><th>TS_B_GAL</th><th>RUN_BEST</th><th>MJD_BEST</th><th>MJD_SPEC</th><th>PLATE</th><th>FIBERID</th><th>RERUN_BEST</th><th>CAMCOL_BEST</th><th>FIELD_BEST</th><th>OBJ_BEST</th><th>TARGPRIMTARGET</th><th>TS_T_QSO</th><th>TS_T_HIZ</th><th>TS_T_FIRST</th><th>TS_T_ROSAT</th><th>TS_T_SERENDIP</th><th>TS_T_STAR</th><th>TS_T_GAL</th><th>T_PSFMAG_U</th><th>T_PSFMAGERR_U</th><th>T_PSFMAG_G</th><th>T_PSFMAGERR_G</th><th>T_PSFMAG_R</th><th>T_PSFMAGERR_R</th><th>T_PSFMAG_I</th><th>T_PSFMAGERR_I</th><th>T_PSFMAG_Z</th><th>T_PSFMAGERR_Z</th><th>BESTOBJID</th><th>SPECOBJID</th><th>OBJECT_NAME</th><th>GALEX_OBJID</th><th>GALEX_RA</th><th>GALEX_DEC</th><th>GALEX_SEP</th><th>GALEX_TYPE</th><th>GALEX_BAND</th><th>NUV_FLUX</th><th>NUV_FLUXERR</th><th>FUV_FLUX</th><th>FUV_FLUXERR</th><th>NUV_MAG</th><th>NUV_MAGERR</th><th>FUV_MAG</th><th>FUV_MAGERR</th><th>GALEX_NOBJ</th><th>qso_to_host</th><th>qso_to_host_phys</th><th>SAGA_name</th><th>SAGA_NSAID</th></tr></thead>\n",
       "<thead><tr><th></th><th></th><th></th><th></th><th></th><th></th><th></th><th></th><th></th><th></th><th></th><th></th><th></th><th></th><th></th><th></th><th></th><th></th><th></th><th></th><th></th><th></th><th></th><th></th><th></th><th></th><th></th><th></th><th></th><th></th><th></th><th></th><th></th><th></th><th></th><th></th><th></th><th></th><th></th><th></th><th></th><th></th><th></th><th></th><th></th><th></th><th></th><th></th><th></th><th></th><th></th><th></th><th></th><th></th><th></th><th></th><th></th><th></th><th></th><th></th><th></th><th></th><th></th><th></th><th></th><th></th><th></th><th></th><th></th><th></th><th></th><th></th><th></th><th></th><th></th><th></th><th></th><th></th><th></th><th></th><th></th><th></th><th></th><th></th><th></th><th></th><th></th><th></th><th>deg</th><th>kpc</th><th></th><th></th></tr></thead>\n",
       "<tr><td>114758.59+271459.3</td><td>176.994140625</td><td>27.2498130798</td><td>0.3627</td><td>16.193</td><td>0.012</td><td>16.1</td><td>0.022</td><td>16.118</td><td>0.016</td><td>16.214</td><td>0.018</td><td>15.739</td><td>0.022</td><td>0.141</td><td>20.27</td><td>0.0</td><td>0.0</td><td>0.0</td><td>-0.776</td><td>5.563</td><td>8.56</td><td>15.241</td><td>0.048</td><td>14.679</td><td>0.066</td><td>13.893</td><td>0.043</td><td>0.226</td><td>-25.109</td><td>-0.318</td><td>0</td><td>1</td><td>1</td><td>1</td><td>7171</td><td>1</td><td>1</td><td>0</td><td>1</td><td>0</td><td>0</td><td>0</td><td>5112</td><td>53387</td><td>53793</td><td>2223</td><td>280</td><td>40</td><td>3</td><td>434</td><td>27</td><td>7171</td><td>1</td><td>1</td><td>0</td><td>1</td><td>0</td><td>0</td><td>0</td><td>16.186</td><td>0.012</td><td>16.103</td><td>0.022</td><td>16.118</td><td>0.016</td><td>16.209</td><td>0.018</td><td>15.714</td><td>0.022</td><td>587741708883722267</td><td>625949913577947136</td><td>SDSS J114758.59+271459.3</td><td>6374821310982262564</td><td>176.994182633</td><td>27.2495993357</td><td>0.78113603809</td><td>1</td><td>3</td><td>801.311</td><td>17.728</td><td>648.231</td><td>28.1976</td><td>16.6381</td><td>0.0240264</td><td>16.8736</td><td>0.0472402</td><td>1</td><td>0.347496949473</td><td>171.499647504</td><td></td><td>140301</td></tr>\n",
       "<tr><td>095820.94+322402.2</td><td>149.587265015</td><td>32.4006233215</td><td>0.5306</td><td>16.38</td><td>0.028</td><td>16.057</td><td>0.015</td><td>16.021</td><td>0.012</td><td>15.865</td><td>0.011</td><td>15.855</td><td>0.014</td><td>0.076</td><td>20.21</td><td>8.698</td><td>999.99</td><td>0.095</td><td>-9.0</td><td>0.0</td><td>0.0</td><td>14.945</td><td>0.039</td><td>14.443</td><td>0.05</td><td>13.76</td><td>0.042</td><td>0.032</td><td>-26.351</td><td>0.049</td><td>0</td><td>1</td><td>1</td><td>1</td><td>2097162</td><td>1</td><td>0</td><td>1</td><td>0</td><td>1</td><td>0</td><td>0</td><td>4518</td><td>53082</td><td>53433</td><td>1949</td><td>472</td><td>40</td><td>4</td><td>146</td><td>81</td><td>2097162</td><td>1</td><td>0</td><td>1</td><td>0</td><td>1</td><td>0</td><td>0</td><td>16.37</td><td>0.028</td><td>16.046</td><td>0.015</td><td>16.01</td><td>0.012</td><td>15.85</td><td>0.011</td><td>15.853</td><td>0.014</td><td>587739158191145041</td><td>548824224576307200</td><td>FBQS J095820.9+322402</td><td>6378410037478426750</td><td>149.587385979</td><td>32.400351098</td><td>1.04670804902</td><td>1</td><td>3</td><td>939.271</td><td>14.7886</td><td>508.15</td><td>16.6669</td><td>16.4656</td><td>0.0170988</td><td>17.1379</td><td>0.03562</td><td>1</td><td>0.0307295902541</td><td>13.4803426516</td><td>MobyDick</td><td>85746</td></tr>\n",
       "<tr><td>095914.84+320357.2</td><td>149.81187439</td><td>32.0659103394</td><td>0.5639</td><td>17.196</td><td>0.012</td><td>16.882</td><td>0.021</td><td>16.992</td><td>0.013</td><td>16.931</td><td>0.016</td><td>17.033</td><td>0.018</td><td>0.076</td><td>20.225</td><td>0.0</td><td>0.0</td><td>0.0</td><td>-9.0</td><td>0.0</td><td>0.0</td><td>16.094</td><td>0.087</td><td>15.274</td><td>0.105</td><td>14.637</td><td>0.08</td><td>0.206</td><td>-25.433</td><td>-0.144</td><td>0</td><td>1</td><td>1</td><td>1</td><td>2</td><td>1</td><td>0</td><td>0</td><td>0</td><td>0</td><td>0</td><td>0</td><td>4518</td><td>53082</td><td>53433</td><td>1949</td><td>191</td><td>40</td><td>3</td><td>147</td><td>47</td><td>2</td><td>1</td><td>0</td><td>0</td><td>0</td><td>0</td><td>0</td><td>0</td><td>17.181</td><td>0.012</td><td>16.872</td><td>0.021</td><td>16.99</td><td>0.013</td><td>16.927</td><td>0.016</td><td>17.031</td><td>0.018</td><td>587739157654339631</td><td>548824223397707776</td><td>SDSS J095914.85+320357.2</td><td>6378410046068361930</td><td>149.811827774</td><td>32.0657063845</td><td>0.747883430811</td><td>1</td><td>3</td><td>575.656</td><td>15.8399</td><td>354.64</td><td>23.0186</td><td>16.9972</td><td>0.0298827</td><td>17.5284</td><td>0.070489</td><td>1</td><td>0.358166544482</td><td>157.119171001</td><td>MobyDick</td><td>85746</td></tr>\n",
       "<tr><td>120233.08+022559.7</td><td>180.637863159</td><td>2.43326592445</td><td>0.273</td><td>17.299</td><td>0.061</td><td>17.322</td><td>0.016</td><td>17.27</td><td>0.023</td><td>17.339</td><td>0.026</td><td>16.899</td><td>0.023</td><td>0.142</td><td>20.272</td><td>0.0</td><td>0.0</td><td>0.0</td><td>-1.398</td><td>3.014</td><td>11.88</td><td>15.954</td><td>0.087</td><td>15.153</td><td>0.084</td><td>13.982</td><td>0.061</td><td>0.106</td><td>-23.308</td><td>-0.313</td><td>0</td><td>1</td><td>1</td><td>0</td><td>7171</td><td>1</td><td>1</td><td>0</td><td>1</td><td>0</td><td>0</td><td>0</td><td>1458</td><td>51668</td><td>52017</td><td>516</td><td>112</td><td>40</td><td>3</td><td>373</td><td>20</td><td>7173</td><td>1</td><td>1</td><td>0</td><td>1</td><td>0</td><td>0</td><td>0</td><td>17.29</td><td>0.011</td><td>17.295</td><td>0.018</td><td>17.261</td><td>0.012</td><td>17.264</td><td>0.017</td><td>16.853</td><td>0.036</td><td>587726015069224980</td><td>145464499766296576</td><td>SDSS J120233.08+022559.7</td><td>6379113808672066821</td><td>180.637932663</td><td>2.43328680621</td><td>0.261046830243</td><td>1</td><td>3</td><td>307.78</td><td>9.42953</td><td>315.524</td><td>18.6649</td><td>17.677</td><td>0.0332721</td><td>17.6553</td><td>0.0642425</td><td>2</td><td>0.458053924796</td><td>235.973508037</td><td>Sopranos</td><td>13927</td></tr>\n",
       "<tr><td>092542.32+344108.6</td><td>141.426376343</td><td>34.6857299805</td><td>1.0667</td><td>16.649</td><td>0.018</td><td>16.516</td><td>0.017</td><td>16.325</td><td>0.011</td><td>16.314</td><td>0.014</td><td>16.24</td><td>0.018</td><td>0.115</td><td>20.188</td><td>0.0</td><td>0.0</td><td>0.0</td><td>-9.0</td><td>0.0</td><td>0.0</td><td>15.323</td><td>0.05</td><td>14.822</td><td>0.062</td><td>14.141</td><td>0.053</td><td>0.165</td><td>-27.612</td><td>-0.006</td><td>0</td><td>1</td><td>1</td><td>1</td><td>2</td><td>1</td><td>0</td><td>0</td><td>0</td><td>0</td><td>0</td><td>0</td><td>3704</td><td>52705</td><td>52991</td><td>1593</td><td>338</td><td>40</td><td>6</td><td>72</td><td>6</td><td>2</td><td>1</td><td>0</td><td>0</td><td>0</td><td>0</td><td>0</td><td>0</td><td>16.652</td><td>0.018</td><td>16.506</td><td>0.017</td><td>16.318</td><td>0.011</td><td>16.312</td><td>0.014</td><td>16.254</td><td>0.018</td><td>587735663156658182</td><td>448617233929732096</td><td>SDSS J092542.32+344108.6</td><td>6378445240104126593</td><td>141.426268426</td><td>34.6856815482</td><td>0.363941529562</td><td>1</td><td>3</td><td>602.578</td><td>8.4387</td><td>279.154</td><td>18.3079</td><td>16.9476</td><td>0.0152087</td><td>17.7883</td><td>0.0712239</td><td>1</td><td>0.335214067901</td><td>161.893993543</td><td></td><td>135879</td></tr>\n",
       "<tr><td>120226.75-012915.2</td><td>180.611495972</td><td>-1.48757696152</td><td>0.1504</td><td>17.588</td><td>0.023</td><td>17.381</td><td>0.034</td><td>17.131</td><td>0.045</td><td>16.837</td><td>0.021</td><td>16.7</td><td>0.03</td><td>0.134</td><td>20.346</td><td>13.761</td><td>71.962</td><td>0.762</td><td>-0.852</td><td>5.182</td><td>7.57</td><td>15.064</td><td>0.062</td><td>13.984</td><td>0.05</td><td>12.77</td><td>0.039</td><td>0.184</td><td>-22.413</td><td>-0.034</td><td>1</td><td>1</td><td>1</td><td>0</td><td>7746</td><td>1</td><td>0</td><td>0</td><td>1</td><td>0</td><td>0</td><td>1</td><td>1231</td><td>51606</td><td>52368</td><td>331</td><td>532</td><td>40</td><td>6</td><td>76</td><td>11</td><td>134217792</td><td>0</td><td>0</td><td>0</td><td>1</td><td>0</td><td>0</td><td>1</td><td>17.62</td><td>0.02</td><td>17.486</td><td>0.013</td><td>17.272</td><td>0.015</td><td>16.917</td><td>0.008</td><td>16.76</td><td>0.026</td><td>587725041702797323</td><td>93393138369953792</td><td>2MASX J12022678-0129155</td><td>6382596987420676162</td><td>180.61206954</td><td>-1.48723051495</td><td>2.41168743792</td><td>1</td><td>3</td><td>355.608</td><td>13.2427</td><td>268.107</td><td>21.9689</td><td>17.5202</td><td>0.0404421</td><td>17.8321</td><td>0.0889877</td><td>2</td><td>0.643192480808</td><td>260.98587288</td><td>Alice</td><td>140594</td></tr>\n",
       "<tr><td>084159.13+140642.1</td><td>130.496398926</td><td>14.1117200851</td><td>1.2514</td><td>17.056</td><td>0.029</td><td>17.042</td><td>0.014</td><td>16.869</td><td>0.017</td><td>16.867</td><td>0.017</td><td>16.902</td><td>0.02</td><td>0.181</td><td>20.587</td><td>0.0</td><td>0.0</td><td>0.0</td><td>-9.0</td><td>0.0</td><td>0.0</td><td>16.352</td><td>0.118</td><td>16.366</td><td>0.238</td><td>15.375</td><td>0.153</td><td>0.564</td><td>-27.469</td><td>-0.172</td><td>0</td><td>1</td><td>1</td><td>1</td><td>2</td><td>1</td><td>0</td><td>0</td><td>0</td><td>0</td><td>0</td><td>0</td><td>5194</td><td>53441</td><td>53815</td><td>2427</td><td>28</td><td>40</td><td>5</td><td>115</td><td>209</td><td>2</td><td>1</td><td>0</td><td>0</td><td>0</td><td>0</td><td>0</td><td>0</td><td>17.079</td><td>0.029</td><td>17.045</td><td>0.014</td><td>16.863</td><td>0.017</td><td>16.859</td><td>0.017</td><td>16.898</td><td>0.02</td><td>587742062123876561</td><td>683370902259236864</td><td></td><td>3051683665276833236</td><td>130.496620738</td><td>14.1116694668</td><td>0.795576058015</td><td>0</td><td>3</td><td>373.912</td><td>3.18771</td><td>227.694</td><td>3.92265</td><td>17.4657</td><td>0.00925848</td><td>18.0095</td><td>0.0187093</td><td>2</td><td>0.239307579086</td><td>136.897777333</td><td></td><td>135440</td></tr>\n",
       "<tr><td>142940.74+032125.8</td><td>217.419769287</td><td>3.35718798637</td><td>0.2531</td><td>18.31</td><td>0.024</td><td>18.312</td><td>0.023</td><td>18.152</td><td>0.017</td><td>18.007</td><td>0.016</td><td>17.846</td><td>0.023</td><td>0.166</td><td>20.386</td><td>0.0</td><td>0.0</td><td>0.0</td><td>-1.251</td><td>3.64</td><td>12.11</td><td>16.727</td><td>0.154</td><td>16.068</td><td>0.159</td><td>14.685</td><td>0.105</td><td>0.314</td><td>-22.47</td><td>-0.147</td><td>0</td><td>1</td><td>1</td><td>0</td><td>7170</td><td>1</td><td>0</td><td>0</td><td>1</td><td>0</td><td>0</td><td>0</td><td>2190</td><td>51987</td><td>52027</td><td>585</td><td>214</td><td>40</td><td>1</td><td>237</td><td>52</td><td>7172</td><td>1</td><td>0</td><td>0</td><td>1</td><td>0</td><td>0</td><td>0</td><td>18.382</td><td>0.02</td><td>18.307</td><td>0.013</td><td>18.172</td><td>0.015</td><td>17.986</td><td>0.01</td><td>17.824</td><td>0.025</td><td>587729157902630964</td><td>164886316536823808</td><td>SDSS J142940.73+032125.8</td><td>2429764704234636987</td><td>217.419986265</td><td>3.3572877569</td><td>0.85852268861</td><td>0</td><td>3</td><td>182.385</td><td>2.25949</td><td>190.949</td><td>4.21499</td><td>18.2451</td><td>0.0134539</td><td>18.2006</td><td>0.0239722</td><td>2</td><td>0.123890578902</td><td>53.8712889489</td><td></td><td>165082</td></tr>\n",
       "<tr><td>105115.75+280527.1</td><td>162.815643311</td><td>28.0908641815</td><td>0.4223</td><td>17.368</td><td>0.026</td><td>17.101</td><td>0.024</td><td>17.245</td><td>0.023</td><td>17.157</td><td>0.032</td><td>16.897</td><td>0.025</td><td>0.104</td><td>20.34</td><td>0.0</td><td>0.0</td><td>0.0</td><td>-1.066</td><td>4.176</td><td>10.07</td><td>16.753</td><td>0.115</td><td>15.761</td><td>0.1</td><td>14.778</td><td>0.08</td><td>0.145</td><td>-24.518</td><td>-0.235</td><td>0</td><td>1</td><td>1</td><td>1</td><td>1055747</td><td>1</td><td>1</td><td>0</td><td>1</td><td>1</td><td>0</td><td>0</td><td>5071</td><td>53354</td><td>53826</td><td>2359</td><td>275</td><td>40</td><td>3</td><td>317</td><td>45</td><td>1055747</td><td>1</td><td>1</td><td>0</td><td>1</td><td>1</td><td>0</td><td>0</td><td>17.357</td><td>0.026</td><td>17.101</td><td>0.024</td><td>17.238</td><td>0.023</td><td>17.152</td><td>0.032</td><td>16.883</td><td>0.025</td><td>587741532782395437</td><td>664230652123545600</td><td></td><td>6387874663635095409</td><td>162.816142657</td><td>28.0908430315</td><td>1.58771374829</td><td>1</td><td>3</td><td>291.021</td><td>11.2513</td><td>190.279</td><td>16.8013</td><td>17.7378</td><td>0.0419862</td><td>18.2044</td><td>0.0958917</td><td>2</td><td>0.115782869784</td><td>48.9439935469</td><td></td><td>138201</td></tr>\n",
       "<tr><td>130036.21+134705.6</td><td>195.150909424</td><td>13.7849092484</td><td>0.1423</td><td>17.421</td><td>0.024</td><td>17.355</td><td>0.018</td><td>17.175</td><td>0.019</td><td>16.712</td><td>0.027</td><td>16.744</td><td>0.022</td><td>0.16</td><td>20.34</td><td>0.0</td><td>0.0</td><td>0.0</td><td>-0.844</td><td>5.481</td><td>19.2</td><td>15.351</td><td>0.057</td><td>14.55</td><td>0.061</td><td>13.526</td><td>0.038</td><td>0.091</td><td>-22.422</td><td>0.065</td><td>1</td><td>1</td><td>1</td><td>1</td><td>7234</td><td>1</td><td>0</td><td>0</td><td>1</td><td>0</td><td>0</td><td>1</td><td>4381</td><td>53032</td><td>53498</td><td>1771</td><td>100</td><td>40</td><td>1</td><td>161</td><td>16</td><td>7234</td><td>1</td><td>0</td><td>0</td><td>1</td><td>0</td><td>0</td><td>1</td><td>17.416</td><td>0.024</td><td>17.352</td><td>0.018</td><td>17.17</td><td>0.019</td><td>16.708</td><td>0.027</td><td>16.751</td><td>0.022</td><td>587738568170995728</td><td>498721956334403584</td><td>2MASX J13003624+1347055</td><td>6378761946697567223</td><td>195.15137165</td><td>13.7850050353</td><td>1.65246551665</td><td>1</td><td>3</td><td>196.988</td><td>9.55889</td><td>171.541</td><td>13.4899</td><td>18.1615</td><td>0.0526985</td><td>18.317</td><td>0.0854025</td><td>1</td><td>0.476734277165</td><td>249.842139545</td><td></td><td>142722</td></tr>\n",
       "<tr><td>142314.18+505537.2</td><td>215.80909729</td><td>50.9270248413</td><td>0.2758</td><td>17.816</td><td>0.025</td><td>17.958</td><td>0.016</td><td>17.672</td><td>0.021</td><td>17.733</td><td>0.021</td><td>17.222</td><td>0.028</td><td>0.065</td><td>20.19</td><td>11.22</td><td>830.915</td><td>0.344</td><td>-0.427</td><td>15.605</td><td>7.4</td><td>16.028</td><td>0.101</td><td>15.135</td><td>0.117</td><td>14.129</td><td>0.093</td><td>0.264</td><td>-22.907</td><td>-0.058</td><td>1</td><td>1</td><td>1</td><td>1</td><td>5698</td><td>1</td><td>0</td><td>0</td><td>1</td><td>0</td><td>0</td><td>1</td><td>3177</td><td>52402</td><td>52725</td><td>1045</td><td>72</td><td>40</td><td>4</td><td>71</td><td>41</td><td>5634</td><td>1</td><td>0</td><td>0</td><td>1</td><td>0</td><td>0</td><td>0</td><td>17.778</td><td>0.016</td><td>17.945</td><td>0.011</td><td>17.617</td><td>0.02</td><td>17.681</td><td>0.015</td><td>17.048</td><td>0.024</td><td>587733398635085865</td><td>294367803115307008</td><td>SBS 1421+511</td><td>6374610218708371829</td><td>215.809220022</td><td>50.9271961968</td><td>0.676829941068</td><td>1</td><td>3</td><td>119.022</td><td>7.34116</td><td>161.003</td><td>12.0118</td><td>18.7085</td><td>0.0669835</td><td>18.3858</td><td>0.0810219</td><td>1</td><td>0.449869982107</td><td>268.169740606</td><td></td><td>144953</td></tr>\n",
       "<tr><td>125515.72+094825.9</td><td>193.815505981</td><td>9.80721187592</td><td>1.4109</td><td>17.732</td><td>0.02</td><td>17.569</td><td>0.019</td><td>17.27</td><td>0.016</td><td>17.197</td><td>0.016</td><td>17.175</td><td>0.022</td><td>0.104</td><td>20.217</td><td>0.0</td><td>0.0</td><td>0.0</td><td>-9.0</td><td>0.0</td><td>0.0</td><td>15.906</td><td>0.096</td><td>15.13</td><td>0.112</td><td>14.944</td><td>0.146</td><td>0.114</td><td>-27.392</td><td>0.081</td><td>0</td><td>1</td><td>1</td><td>1</td><td>2</td><td>1</td><td>0</td><td>0</td><td>0</td><td>0</td><td>0</td><td>0</td><td>3903</td><td>52756</td><td>54266</td><td>1791</td><td>117</td><td>41</td><td>3</td><td>84</td><td>58</td><td>2</td><td>1</td><td>0</td><td>0</td><td>0</td><td>0</td><td>0</td><td>0</td><td>17.714</td><td>0.02</td><td>17.563</td><td>0.019</td><td>17.261</td><td>0.016</td><td>17.185</td><td>0.016</td><td>17.158</td><td>0.022</td><td>588017991222034490</td><td>504354754474803200</td><td></td><td>6378761961729950703</td><td>193.815683516</td><td>9.80745247604</td><td>1.07091732122</td><td>1</td><td>3</td><td>163.396</td><td>5.65151</td><td>140.034</td><td>12.2639</td><td>18.3645</td><td>0.0375624</td><td>18.5373</td><td>0.0951097</td><td>2</td><td>0.361691206033</td><td>258.415523757</td><td></td><td>162547</td></tr>\n",
       "<tr><td>103645.15+370701.2</td><td>159.188140869</td><td>37.1170272827</td><td>0.8105</td><td>17.086</td><td>0.014</td><td>16.912</td><td>0.017</td><td>16.912</td><td>0.018</td><td>17.073</td><td>0.013</td><td>17.011</td><td>0.018</td><td>0.074</td><td>20.212</td><td>0.0</td><td>0.0</td><td>0.0</td><td>-1.49</td><td>2.914</td><td>5.2</td><td>16.114</td><td>0.087</td><td>15.756</td><td>0.128</td><td>15.137</td><td>0.126</td><td>0.075</td><td>-26.172</td><td>-0.129</td><td>0</td><td>1</td><td>1</td><td>1</td><td>9444354</td><td>1</td><td>0</td><td>0</td><td>1</td><td>1</td><td>0</td><td>0</td><td>3900</td><td>52755</td><td>53446</td><td>2096</td><td>448</td><td>41</td><td>4</td><td>239</td><td>36</td><td>9444354</td><td>1</td><td>0</td><td>0</td><td>1</td><td>1</td><td>0</td><td>0</td><td>17.111</td><td>0.014</td><td>16.933</td><td>0.017</td><td>16.926</td><td>0.018</td><td>17.087</td><td>0.013</td><td>17.045</td><td>0.018</td><td>588017978884161572</td><td>590201101886685184</td><td>SDSS J103645.15+370701.3</td><td>6374082376891368263</td><td>159.187921083</td><td>37.1172742775</td><td>1.09028269951</td><td>1</td><td>3</td><td>374.867</td><td>12.1158</td><td>133.117</td><td>11.8234</td><td>17.4629</td><td>0.0350998</td><td>18.5923</td><td>0.0964582</td><td>1</td><td>0.228649407577</td><td>106.862163726</td><td></td><td>158541</td></tr>\n",
       "<tr><td>143125.29+573427.6</td><td>217.855407715</td><td>57.5743408203</td><td>0.709</td><td>18.553</td><td>0.022</td><td>18.297</td><td>0.03</td><td>18.397</td><td>0.016</td><td>18.506</td><td>0.014</td><td>18.464</td><td>0.042</td><td>0.052</td><td>20.134</td><td>0.0</td><td>0.0</td><td>0.0</td><td>-9.0</td><td>0.0</td><td>0.0</td><td>17.041</td><td>0.328</td><td>0.0</td><td>0.0</td><td>15.25</td><td>0.24</td><td>0.076</td><td>-24.405</td><td>-0.192</td><td>0</td><td>1</td><td>1</td><td>1</td><td>1048578</td><td>1</td><td>0</td><td>0</td><td>0</td><td>1</td><td>0</td><td>0</td><td>2304</td><td>52047</td><td>52441</td><td>790</td><td>182</td><td>41</td><td>2</td><td>310</td><td>78</td><td>1048578</td><td>1</td><td>0</td><td>0</td><td>0</td><td>1</td><td>0</td><td>0</td><td>18.545</td><td>0.017</td><td>18.334</td><td>0.012</td><td>18.427</td><td>0.016</td><td>18.507</td><td>0.011</td><td>18.436</td><td>0.038</td><td>588011123047268430</td><td>222590464744751104</td><td>SDSS J143125.29+573427.6</td><td>6374469445786537230</td><td>217.855376194</td><td>57.5737578722</td><td>2.09949524155</td><td>1</td><td>3</td><td>162.431</td><td>12.7257</td><td>123.622</td><td>11.7618</td><td>18.3709</td><td>0.0850829</td><td>18.6727</td><td>0.103326</td><td>1</td><td>0.358493891492</td><td>194.017045039</td><td></td><td>165153</td></tr>\n",
       "<tr><td>095623.21+323621.6</td><td>149.096725464</td><td>32.6060180664</td><td>0.5263</td><td>17.715</td><td>0.045</td><td>17.464</td><td>0.016</td><td>17.57</td><td>0.016</td><td>17.419</td><td>0.021</td><td>17.552</td><td>0.021</td><td>0.066</td><td>20.196</td><td>0.0</td><td>0.0</td><td>0.0</td><td>-9.0</td><td>0.0</td><td>0.0</td><td>16.173</td><td>0.08</td><td>15.369</td><td>0.096</td><td>14.6</td><td>0.077</td><td>0.113</td><td>-24.773</td><td>-0.084</td><td>0</td><td>1</td><td>1</td><td>1</td><td>3</td><td>1</td><td>1</td><td>0</td><td>0</td><td>0</td><td>0</td><td>0</td><td>4518</td><td>53082</td><td>53433</td><td>1949</td><td>437</td><td>40</td><td>5</td><td>144</td><td>66</td><td>3</td><td>1</td><td>1</td><td>0</td><td>0</td><td>0</td><td>0</td><td>0</td><td>17.681</td><td>0.045</td><td>17.458</td><td>0.016</td><td>17.57</td><td>0.016</td><td>17.427</td><td>0.021</td><td>17.587</td><td>0.021</td><td>587739158727884866</td><td>548824224429506560</td><td>TON 1129</td><td>6378410037478427727</td><td>149.096971244</td><td>32.6059683236</td><td>0.766567851766</td><td>1</td><td>3</td><td>220.224</td><td>7.45666</td><td>123.447</td><td>7.46959</td><td>18.0404</td><td>0.0367714</td><td>18.6742</td><td>0.0657124</td><td>1</td><td>0.47694003667</td><td>209.222285927</td><td>MobyDick</td><td>85746</td></tr>\n",
       "<tr><td>135353.31+470715.4</td><td>208.472167969</td><td>47.120967865</td><td>1.1122</td><td>17.104</td><td>0.019</td><td>16.999</td><td>0.025</td><td>16.855</td><td>0.02</td><td>16.926</td><td>0.018</td><td>16.981</td><td>0.02</td><td>0.08</td><td>20.188</td><td>0.0</td><td>0.0</td><td>0.0</td><td>-9.0</td><td>0.0</td><td>0.0</td><td>16.254</td><td>0.094</td><td>15.769</td><td>0.13</td><td>15.143</td><td>0.126</td><td>0.148</td><td>-27.086</td><td>-0.135</td><td>0</td><td>1</td><td>1</td><td>1</td><td>1048578</td><td>1</td><td>0</td><td>0</td><td>0</td><td>1</td><td>0</td><td>0</td><td>3650</td><td>52671</td><td>52723</td><td>1285</td><td>233</td><td>40</td><td>3</td><td>114</td><td>58</td><td>1048578</td><td>1</td><td>0</td><td>0</td><td>0</td><td>1</td><td>0</td><td>0</td><td>17.052</td><td>0.028</td><td>17.016</td><td>0.023</td><td>16.849</td><td>0.03</td><td>16.92</td><td>0.02</td><td>16.875</td><td>0.018</td><td>587735429620564026</td><td>361921789611212800</td><td>SDSS J135353.31+470715.5</td><td>6374575002124028837</td><td>208.472492876</td><td>47.120932178</td><td>0.806205578316</td><td>1</td><td>3</td><td>342.69</td><td>11.3464</td><td>121.431</td><td>10.572</td><td>17.5603</td><td>0.0359574</td><td>18.6921</td><td>0.0945485</td><td>2</td><td>0.421588630077</td><td>213.837704576</td><td></td><td>144121</td></tr>\n",
       "<tr><td>125407.23+081204.5</td><td>193.530136108</td><td>8.20126724243</td><td>1.1058</td><td>17.96</td><td>0.023</td><td>17.779</td><td>0.037</td><td>17.519</td><td>0.025</td><td>17.439</td><td>0.02</td><td>17.347</td><td>0.022</td><td>0.142</td><td>20.281</td><td>0.0</td><td>0.0</td><td>0.0</td><td>-9.0</td><td>0.0</td><td>0.0</td><td>16.356</td><td>0.161</td><td>16.109</td><td>0.238</td><td>15.582</td><td>0.237</td><td>0.654</td><td>-26.585</td><td>0.109</td><td>0</td><td>1</td><td>1</td><td>1</td><td>2</td><td>1</td><td>0</td><td>0</td><td>0</td><td>0</td><td>0</td><td>0</td><td>3842</td><td>52730</td><td>54270</td><td>1792</td><td>405</td><td>41</td><td>5</td><td>83</td><td>67</td><td>2</td><td>1</td><td>0</td><td>0</td><td>0</td><td>0</td><td>0</td><td>0</td><td>17.936</td><td>0.023</td><td>17.78</td><td>0.037</td><td>17.52</td><td>0.025</td><td>17.438</td><td>0.02</td><td>17.341</td><td>0.022</td><td>588017730302705731</td><td>504636247839342592</td><td></td><td>6378761963877434314</td><td>193.530121732</td><td>8.20165625749</td><td>1.40139071591</td><td>1</td><td>3</td><td>207.892</td><td>7.08423</td><td>118.863</td><td>11.5595</td><td>18.103</td><td>0.0370071</td><td>18.7153</td><td>0.105615</td><td>1</td><td>0.266663368602</td><td>186.277385338</td><td></td><td>162580</td></tr>\n",
       "<tr><td>135447.85+420641.4</td><td>208.699386597</td><td>42.1115226746</td><td>0.2319</td><td>18.249</td><td>0.02</td><td>18.219</td><td>0.038</td><td>18.131</td><td>0.016</td><td>17.87</td><td>0.013</td><td>17.83</td><td>0.023</td><td>0.029</td><td>20.072</td><td>0.0</td><td>0.0</td><td>0.0</td><td>-1.168</td><td>5.464</td><td>14.49</td><td>16.45</td><td>0.125</td><td>15.685</td><td>0.104</td><td>15.091</td><td>0.114</td><td>0.155</td><td>-22.346</td><td>-0.191</td><td>1</td><td>1</td><td>1</td><td>1</td><td>7234</td><td>1</td><td>0</td><td>0</td><td>1</td><td>0</td><td>0</td><td>1</td><td>3818</td><td>52724</td><td>52822</td><td>1346</td><td>278</td><td>41</td><td>3</td><td>285</td><td>27</td><td>7234</td><td>1</td><td>0</td><td>0</td><td>1</td><td>0</td><td>0</td><td>1</td><td>18.218</td><td>0.025</td><td>18.236</td><td>0.036</td><td>18.122</td><td>0.017</td><td>17.861</td><td>0.012</td><td>17.783</td><td>0.024</td><td>588017626162987035</td><td>379092188581068800</td><td>2MASX J13544784+4206416</td><td>6374750881034797700</td><td>208.699173857</td><td>42.1118316584</td><td>1.24903726151</td><td>1</td><td>3</td><td>124.879</td><td>7.87488</td><td>112.761</td><td>11.0748</td><td>18.6564</td><td>0.0684834</td><td>18.7725</td><td>0.106661</td><td>2</td><td>0.500907921487</td><td>296.456171474</td><td></td><td>144151</td></tr>\n",
       "<tr><td>135626.83+284737.6</td><td>209.111801147</td><td>28.7937984467</td><td>0.6943</td><td>18.424</td><td>0.022</td><td>18.116</td><td>0.016</td><td>18.078</td><td>0.02</td><td>18.037</td><td>0.017</td><td>18.075</td><td>0.03</td><td>0.069</td><td>20.093</td><td>0.0</td><td>0.0</td><td>0.0</td><td>-9.0</td><td>0.0</td><td>0.0</td><td>17.298</td><td>0.248</td><td>16.088</td><td>0.223</td><td>15.472</td><td>0.171</td><td>0.047</td><td>-24.83</td><td>0.092</td><td>0</td><td>1</td><td>1</td><td>1</td><td>1048578</td><td>1</td><td>0</td><td>0</td><td>0</td><td>1</td><td>0</td><td>0</td><td>4649</td><td>53148</td><td>53854</td><td>2116</td><td>50</td><td>40</td><td>6</td><td>166</td><td>71</td><td>1048578</td><td>1</td><td>0</td><td>0</td><td>0</td><td>1</td><td>0</td><td>0</td><td>18.416</td><td>0.022</td><td>18.091</td><td>0.016</td><td>18.058</td><td>0.02</td><td>18.023</td><td>0.017</td><td>18.072</td><td>0.03</td><td>587739721906913351</td><td>595832352098222080</td><td></td><td>6379289692951544285</td><td>209.111826747</td><td>28.7938969152</td><td>0.363570576631</td><td>1</td><td>3</td><td>157.805</td><td>11.1489</td><td>106.938</td><td>17.2833</td><td>18.4023</td><td>0.0767258</td><td>18.8301</td><td>0.175519</td><td>1</td><td>0.385469316695</td><td>232.928077598</td><td></td><td>94217</td></tr>\n",
       "<tr><td>144646.37-003143.7</td><td>221.693222046</td><td>-0.52883297205</td><td>0.6976</td><td>18.208</td><td>0.016</td><td>17.812</td><td>0.015</td><td>17.889</td><td>0.02</td><td>17.94</td><td>0.019</td><td>17.865</td><td>0.02</td><td>0.218</td><td>20.563</td><td>0.0</td><td>0.0</td><td>0.0</td><td>-9.0</td><td>0.0</td><td>0.0</td><td>16.824</td><td>0.16</td><td>16.117</td><td>0.16</td><td>15.022</td><td>0.147</td><td>0.197</td><td>-24.999</td><td>-0.17</td><td>0</td><td>1</td><td>1</td><td>0</td><td>1048578</td><td>1</td><td>0</td><td>0</td><td>0</td><td>1</td><td>0</td><td>0</td><td>756</td><td>51259</td><td>51662</td><td>308</td><td>181</td><td>44</td><td>2</td><td>707</td><td>133</td><td>1048580</td><td>1</td><td>0</td><td>0</td><td>0</td><td>1</td><td>0</td><td>0</td><td>18.157</td><td>0.011</td><td>17.814</td><td>0.004</td><td>17.895</td><td>0.005</td><td>17.947</td><td>0.006</td><td>17.847</td><td>0.016</td><td>588848899394044037</td><td>86916180186497024</td><td>LBQS 1444-0019</td><td>2934273415616402722</td><td>221.69354922</td><td>-0.528603313859</td><td>1.43899343697</td><td>0</td><td>3</td><td>216.037</td><td>2.56223</td><td>98.1816</td><td>3.13414</td><td>18.0613</td><td>0.0128801</td><td>18.9228</td><td>0.0346672</td><td>2</td><td>0.339474053865</td><td>150.450815544</td><td>Dune</td><td>165536</td></tr>\n",
       "<tr><td>105247.46+282310.2</td><td>163.197784424</td><td>28.3861732483</td><td>0.796</td><td>18.633</td><td>0.021</td><td>18.375</td><td>0.023</td><td>18.438</td><td>0.021</td><td>18.45</td><td>0.023</td><td>18.444</td><td>0.041</td><td>0.089</td><td>20.328</td><td>0.0</td><td>0.0</td><td>0.0</td><td>-9.0</td><td>0.0</td><td>0.0</td><td>17.331</td><td>0.27</td><td>16.821</td><td>0.276</td><td>16.002</td><td>0.252</td><td>0.015</td><td>-24.757</td><td>-0.034</td><td>0</td><td>1</td><td>1</td><td>1</td><td>1048578</td><td>1</td><td>0</td><td>0</td><td>0</td><td>1</td><td>0</td><td>0</td><td>5061</td><td>53352</td><td>53797</td><td>2358</td><td>639</td><td>40</td><td>4</td><td>322</td><td>85</td><td>1048578</td><td>1</td><td>0</td><td>0</td><td>0</td><td>1</td><td>0</td><td>0</td><td>18.62</td><td>0.021</td><td>18.378</td><td>0.023</td><td>18.435</td><td>0.021</td><td>18.45</td><td>0.023</td><td>18.442</td><td>0.041</td><td>587741490369921109</td><td>663949054119510016</td><td></td><td>6387874662561350889</td><td>163.198022269</td><td>28.3861740286</td><td>0.753294832304</td><td>1</td><td>3</td><td>150.141</td><td>6.15543</td><td>95.603</td><td>9.85172</td><td>18.4563</td><td>0.0445234</td><td>18.9517</td><td>0.11191</td><td>1</td><td>0.53014005215</td><td>224.101987968</td><td></td><td>138201</td></tr>\n",
       "<tr><td>145151.53+591400.0</td><td>222.964736938</td><td>59.2333564758</td><td>0.2971</td><td>18.449</td><td>0.017</td><td>18.545</td><td>0.02</td><td>18.382</td><td>0.024</td><td>18.449</td><td>0.034</td><td>17.919</td><td>0.03</td><td>0.043</td><td>20.121</td><td>0.0</td><td>0.0</td><td>0.0</td><td>-9.0</td><td>0.0</td><td>0.0</td><td>16.312</td><td>0.115</td><td>15.983</td><td>0.166</td><td>14.913</td><td>0.106</td><td>0.238</td><td>-22.358</td><td>-0.11</td><td>1</td><td>1</td><td>1</td><td>0</td><td>66</td><td>1</td><td>0</td><td>0</td><td>0</td><td>0</td><td>0</td><td>1</td><td>1345</td><td>51639</td><td>52081</td><td>608</td><td>65</td><td>41</td><td>3</td><td>485</td><td>5</td><td>4</td><td>1</td><td>0</td><td>0</td><td>0</td><td>0</td><td>0</td><td>0</td><td>18.466</td><td>0.018</td><td>18.544</td><td>0.025</td><td>18.377</td><td>0.037</td><td>18.429</td><td>0.05</td><td>17.886</td><td>0.026</td><td>588007004721971205</td><td>171360472304451584</td><td>2MASX J14515156+5914001</td><td>6374469437196600924</td><td>222.964435159</td><td>59.2333505353</td><td>0.556155293226</td><td>1</td><td>3</td><td>121.152</td><td>6.88266</td><td>92.9094</td><td>8.57245</td><td>18.6893</td><td>0.0616957</td><td>18.9827</td><td>0.100202</td><td>2</td><td>0.265287775489</td><td>155.099676124</td><td></td><td>165707</td></tr>\n",
       "<tr><td>143145.99+030143.8</td><td>217.941635132</td><td>3.02884888649</td><td>0.3407</td><td>18.934</td><td>0.032</td><td>19.018</td><td>0.018</td><td>18.82</td><td>0.018</td><td>18.822</td><td>0.017</td><td>18.149</td><td>0.03</td><td>0.154</td><td>20.403</td><td>0.0</td><td>0.0</td><td>0.0</td><td>-9.0</td><td>0.0</td><td>0.0</td><td>17.039</td><td>0.227</td><td>16.182</td><td>0.169</td><td>15.317</td><td>0.192</td><td>1.032</td><td>-22.357</td><td>-0.082</td><td>0</td><td>1</td><td>1</td><td>0</td><td>1048579</td><td>1</td><td>1</td><td>0</td><td>0</td><td>1</td><td>0</td><td>0</td><td>1462</td><td>51669</td><td>51999</td><td>535</td><td>523</td><td>40</td><td>6</td><td>618</td><td>23</td><td>1048581</td><td>1</td><td>1</td><td>0</td><td>0</td><td>1</td><td>0</td><td>0</td><td>18.892</td><td>0.031</td><td>19.002</td><td>0.013</td><td>18.823</td><td>0.016</td><td>18.803</td><td>0.021</td><td>18.118</td><td>0.029</td><td>587726033875763223</td><td>150812448738246656</td><td>SDSS J143145.99+030143.8</td><td>2428251776234823109</td><td>217.941755127</td><td>3.02881021389</td><td>0.453289258038</td><td>0</td><td>3</td><td>108.942</td><td>1.85855</td><td>91.4842</td><td>2.55953</td><td>18.8046</td><td>0.0185272</td><td>18.9995</td><td>0.0303839</td><td>2</td><td>0.561408738779</td><td>244.117128625</td><td></td><td>165082</td></tr>\n",
       "</table><style>table.dataTable {clear: both; width: auto !important; margin: 0 !important;}\n",
       ".dataTables_info, .dataTables_length, .dataTables_filter, .dataTables_paginate{\n",
       "display: inline-block; margin-right: 1em; }\n",
       ".paginate_button { margin-right: 5px; }\n",
       "</style>\n",
       "<script>\n",
       "require.config({paths: {\n",
       "    datatables: 'https://cdn.datatables.net/1.10.9/js/jquery.dataTables.min'\n",
       "}});\n",
       "require([\"datatables\"], function(){\n",
       "    console.log(\"$('#table5564190096-224670').dataTable()\");\n",
       "    $('#table5564190096-224670').dataTable({\n",
       "        \"iDisplayLength\": 50,\n",
       "        \"aLengthMenu\": [[10, 25, 50, 100, 500, 1000, -1], [10, 25, 50, 100, 500, 1000, 'All']],\n",
       "        \"pagingType\": \"full_numbers\"\n",
       "    });\n",
       "});\n",
       "</script>\n"
      ],
      "text/plain": [
       "<IPython.core.display.HTML object>"
      ]
     },
     "execution_count": 24,
     "metadata": {},
     "output_type": "execute_result"
    }
   ],
   "source": [
    "matches_to_stack = []\n",
    "for host, matches in zip(tab_hosts, host_matches19):\n",
    "    if len(matches)>0:\n",
    "        matches = matches.copy()\n",
    "        del matches['skycoord']\n",
    "        matches['SAGA_name'] = str(host['SAGA_name'])\n",
    "        matches['SAGA_NSAID'] = host['NSAID']\n",
    "        matches_to_stack.append(matches)\n",
    "matched_qsos = table.vstack(matches_to_stack)\n",
    "matched_qsos.sort('FUV_MAG')\n",
    "\n",
    "matched_qsos.show_in_notebook()"
   ]
  },
  {
   "cell_type": "code",
   "execution_count": 25,
   "metadata": {
    "collapsed": false
   },
   "outputs": [
    {
     "data": {
      "text/plain": [
       "'name ra dec\\n150kpc_Dune 221.693222046 -0.52883297205\\n296kpc_144151 208.699386597 42.1115226746\\n186kpc_162580 193.530136108 8.20126724243\\n194kpc_165153 217.855407715 57.5743408203\\n54kpc_165082 217.419769287 3.35718798637\\n250kpc_142722 195.150909424 13.7849092484\\n214kpc_144121 208.472167969 47.120967865\\n137kpc_135440 130.496398926 14.1117200851\\n49kpc_138201 162.815643311 28.0908641815\\n155kpc_165707 222.964736938 59.2333564758\\n13kpc_MobyDick 149.587265015 32.4006233215\\n258kpc_162547 193.815505981 9.80721187592\\n224kpc_138201 163.197784424 28.3861732483\\n236kpc_Sopranos 180.637863159 2.43326592445\\n268kpc_144953 215.80909729 50.9270248413\\n162kpc_135879 141.426376343 34.6857299805\\n107kpc_158541 159.188140869 37.1170272827\\n261kpc_Alice 180.611495972 -1.48757696152\\n171kpc_140301 176.994140625 27.2498130798\\n233kpc_94217 209.111801147 28.7937984467\\n244kpc_165082 217.941635132 3.02884888649\\n157kpc_MobyDick 149.81187439 32.0659103394\\n209kpc_MobyDick 149.096725464 32.6060180664'"
      ]
     },
     "execution_count": 25,
     "metadata": {},
     "output_type": "execute_result"
    }
   ],
   "source": [
    "nms = ['{:.0f}kpc_{}'.format(row['qso_to_host_phys'], row['SAGA_name'] if row['SAGA_name']!='' else row['SAGA_NSAID']) for row in matched_qsos]\n",
    "targeting.sampled_imagelist(matched_qsos, None, None, names=nms)"
   ]
  },
  {
   "cell_type": "markdown",
   "metadata": {},
   "source": [
    "# X-match sats "
   ]
  },
  {
   "cell_type": "code",
   "execution_count": 26,
   "metadata": {
    "collapsed": true
   },
   "outputs": [],
   "source": [
    "def get_sat_closest(sattab, qsotab, sorton=None):\n",
    "    idx, d2d, _ = sattab['skycoord'].match_to_catalog_sky(qsotab['skycoord'], nthneighbor=1)\n",
    "    tab = qsotab[idx]\n",
    "    tab['match_d2d'] = d2d\n",
    "    tab['match_d2d_phys'] = (d2d.radian*sattab['HOST_DIST']*u.Mpc).to(u.kpc)\n",
    "    \n",
    "    if sorton is not None:\n",
    "        #trick to make sort work\n",
    "        sorti = np.argsort(tab[sorton])\n",
    "        tab = tab[sorti]\n",
    "        sattab = sattab[sorti]\n",
    "    return table.hstack((sattab, tab))"
   ]
  },
  {
   "cell_type": "code",
   "execution_count": 27,
   "metadata": {
    "collapsed": false
   },
   "outputs": [],
   "source": [
    "sat_matches = get_sat_closest(tab_sats, tab_qso19, sorton='match_d2d_phys')\n",
    "sat_matches_uvqs = get_sat_closest(tab_sats, uvqs_good_tab, sorton='match_d2d_phys')"
   ]
  },
  {
   "cell_type": "code",
   "execution_count": 28,
   "metadata": {
    "collapsed": false,
    "scrolled": false
   },
   "outputs": [
    {
     "data": {
      "text/html": [
       "&lt;Table masked=True length=137&gt;\n",
       "<table id=\"table5351295696-627263\" class=\"table table-striped table-bordered table-condensed\">\n",
       "<thead><tr><th>RA_1</th><th>DEC_1</th><th>RA_2</th><th>DEC_2</th><th>TELNAME</th><th>HOST_SAGA_NAME</th><th>match_d2d_phys</th></tr></thead>\n",
       "<thead><tr><th></th><th></th><th></th><th></th><th></th><th></th><th>kpc</th></tr></thead>\n",
       "<tr><td>162.849821529</td><td>28.1120278164</td><td>162.815643311</td><td>28.0908641815</td><td>NSA</td><td></td><td>15.571269356</td></tr>\n",
       "<tr><td>141.506228227</td><td>34.6534021854</td><td>141.426376343</td><td>34.6857299805</td><td>NSA</td><td></td><td>35.3521428813</td></tr>\n",
       "<tr><td>162.705990064</td><td>28.0587029336</td><td>162.815643311</td><td>28.0908641815</td><td>NSA</td><td></td><td>43.0991415677</td></tr>\n",
       "<tr><td>195.105563951</td><td>13.6705858419</td><td>195.150909424</td><td>13.7849092484</td><td>NSA</td><td></td><td>64.2071453789</td></tr>\n",
       "<tr><td>162.816110258</td><td>27.8489705993</td><td>162.815643311</td><td>28.0908641815</td><td>NSA</td><td></td><td>102.253944422</td></tr>\n",
       "<tr><td>193.556579042</td><td>8.3577808181</td><td>193.530136108</td><td>8.20126724243</td><td>NSA</td><td></td><td>110.849879259</td></tr>\n",
       "<tr><td>217.266218915</td><td>3.14899055549</td><td>217.419769287</td><td>3.35718798637</td><td>NSA</td><td></td><td>112.425049336</td></tr>\n",
       "<tr><td>217.818940474</td><td>3.25673766255</td><td>217.941635132</td><td>3.02884888649</td><td>NSA</td><td></td><td>112.50412402</td></tr>\n",
       "<tr><td>141.141087343</td><td>34.6588051715</td><td>141.426376343</td><td>34.6857299805</td><td>NSA</td><td></td><td>114.05850752</td></tr>\n",
       "<tr><td>162.904734277</td><td>27.822117387</td><td>162.815643311</td><td>28.0908641815</td><td>NSA</td><td></td><td>118.375530237</td></tr>\n",
       "<tr><td>180.419076868</td><td>-1.20276655787</td><td>180.611495972</td><td>-1.48757696152</td><td>MMT</td><td>Alice</td><td>139.457121109</td></tr>\n",
       "<tr><td>130.700889417</td><td>14.2652497454</td><td>130.496398926</td><td>14.1117200851</td><td>SDSS</td><td></td><td>143.443265542</td></tr>\n",
       "<tr><td>149.687168865</td><td>32.7202654623</td><td>149.587265015</td><td>32.4006233215</td><td>MMT</td><td>MobyDick</td><td>145.002872632</td></tr>\n",
       "<tr><td>180.29544216</td><td>-1.2976838319</td><td>180.611495972</td><td>-1.48757696152</td><td>GAMA</td><td>Alice</td><td>149.578888143</td></tr>\n",
       "<tr><td>217.970758535</td><td>3.38004139202</td><td>217.941635132</td><td>3.02884888649</td><td>NSA</td><td></td><td>153.231438022</td></tr>\n",
       "<tr><td>141.021441102</td><td>34.6469717218</td><td>141.426376343</td><td>34.6857299805</td><td>NSA</td><td></td><td>161.934440208</td></tr>\n",
       "<tr><td>222.900268358</td><td>58.9548243013</td><td>222.964736938</td><td>59.2333564758</td><td>NSA</td><td></td><td>163.989674513</td></tr>\n",
       "<tr><td>193.358416186</td><td>8.03555517632</td><td>193.530136108</td><td>8.20126724243</td><td>NSA</td><td></td><td>165.837505368</td></tr>\n",
       "<tr><td>154.228523279</td><td>58.394558724</td><td>153.679718018</td><td>58.2953834534</td><td>NSA</td><td></td><td>183.391874883</td></tr>\n",
       "<tr><td>217.507687769</td><td>3.77289260119</td><td>217.419769287</td><td>3.35718798637</td><td>NSA</td><td></td><td>184.743767433</td></tr>\n",
       "<tr><td>130.611942997</td><td>14.4258881655</td><td>130.496398926</td><td>14.1117200851</td><td>NSA</td><td></td><td>190.797339407</td></tr>\n",
       "<tr><td>141.450424263</td><td>34.2768708872</td><td>141.426376343</td><td>34.6857299805</td><td>NSA</td><td></td><td>197.693320628</td></tr>\n",
       "<tr><td>162.303384997</td><td>27.922597647</td><td>162.815643311</td><td>28.0908641815</td><td>NSA</td><td></td><td>203.987151274</td></tr>\n",
       "<tr><td>193.837484187</td><td>8.21930199209</td><td>193.530136108</td><td>8.20126724243</td><td>NSA</td><td></td><td>212.870237952</td></tr>\n",
       "<tr><td>177.51854285</td><td>26.4791773054</td><td>177.727157593</td><td>26.087688446</td><td>SDSS</td><td></td><td>214.131013716</td></tr>\n",
       "<tr><td>177.520529263</td><td>26.4819998052</td><td>177.727157593</td><td>26.087688446</td><td>SDSS</td><td></td><td>215.013010285</td></tr>\n",
       "<tr><td>163.059035323</td><td>27.6233367484</td><td>162.815643311</td><td>28.0908641815</td><td>NSA</td><td></td><td>217.563078882</td></tr>\n",
       "<tr><td>217.700609655</td><td>3.79639167904</td><td>217.419769287</td><td>3.35718798637</td><td>NSA</td><td></td><td>226.555742702</td></tr>\n",
       "<tr><td>217.232775133</td><td>3.85156150737</td><td>217.419769287</td><td>3.35718798637</td><td>NSA</td><td></td><td>229.775068271</td></tr>\n",
       "<tr><td>221.316115836</td><td>-0.159937082521</td><td>221.693222046</td><td>-0.52883297205</td><td>AAT</td><td>Dune</td><td>233.794839043</td></tr>\n",
       "<tr><td>217.94533575</td><td>58.0087096127</td><td>217.855407715</td><td>57.5743408203</td><td>NSA</td><td></td><td>236.507437411</td></tr>\n",
       "<tr><td>140.813271688</td><td>34.7343539788</td><td>141.426376343</td><td>34.6857299805</td><td>NSA</td><td></td><td>244.53971609</td></tr>\n",
       "<tr><td>154.300660995</td><td>58.5392741055</td><td>153.679718018</td><td>58.2953834534</td><td>NSA</td><td></td><td>244.732183796</td></tr>\n",
       "<tr><td>180.636494306</td><td>1.95802947978</td><td>180.637863159</td><td>2.43326592445</td><td>MMT</td><td>Sopranos</td><td>244.826360908</td></tr>\n",
       "<tr><td>219.746469375</td><td>51.1207294493</td><td>219.358917236</td><td>50.7655258179</td><td>NSA</td><td></td><td>252.611799877</td></tr>\n",
       "<tr><td>354.195229736</td><td>0.62342377148</td><td>354.568450928</td><td>0.841624975204</td><td>MMT</td><td>AnaK</td><td>262.321779301</td></tr>\n",
       "<tr><td>193.79261201</td><td>7.91785110827</td><td>193.530136108</td><td>8.20126724243</td><td>NSA</td><td></td><td>268.613540165</td></tr>\n",
       "<tr><td>209.291391212</td><td>29.2195794233</td><td>209.111801147</td><td>28.7937984467</td><td>NSA</td><td></td><td>274.234009229</td></tr>\n",
       "<tr><td>217.331575408</td><td>2.71056254304</td><td>217.419769287</td><td>3.35718798637</td><td>NSA</td><td></td><td>283.767785641</td></tr>\n",
       "<tr><td>158.844694982</td><td>37.6716108682</td><td>159.188140869</td><td>37.1170272827</td><td>NSA</td><td></td><td>288.863828769</td></tr>\n",
       "<tr><td>177.348303087</td><td>26.7416474578</td><td>176.994140625</td><td>27.2498130798</td><td>NSA</td><td></td><td>295.218096083</td></tr>\n",
       "<tr><td>354.350599991</td><td>0.390802769345</td><td>354.568450928</td><td>0.841624975204</td><td>NSA</td><td>AnaK</td><td>303.823606813</td></tr>\n",
       "<tr><td>247.825892241</td><td>20.2108787761</td><td>248.146194458</td><td>20.6615352631</td><td>AAT</td><td>Odyssey</td><td>324.330533434</td></tr>\n",
       "<tr><td>158.088519499</td><td>28.4198533568</td><td>158.336044312</td><td>27.6734104156</td><td>NSA</td><td>Oz</td><td>331.372820778</td></tr>\n",
       "<tr><td>247.84002995</td><td>20.1840758135</td><td>248.146194458</td><td>20.6615352631</td><td>NSA</td><td>Odyssey</td><td>333.662348496</td></tr>\n",
       "<tr><td>215.459031703</td><td>50.3883751817</td><td>215.80909729</td><td>50.9270248413</td><td>NSA</td><td></td><td>347.275024611</td></tr>\n",
       "<tr><td>187.211257125</td><td>-2.0607897588</td><td>187.712692261</td><td>-1.78413903713</td><td>NSA</td><td></td><td>354.111667213</td></tr>\n",
       "<tr><td>215.404851531</td><td>50.3903440269</td><td>215.80909729</td><td>50.9270248413</td><td>NSA</td><td></td><td>354.517777164</td></tr>\n",
       "<tr><td>170.402482545</td><td>40.1559946711</td><td>170.088058472</td><td>40.7547950745</td><td>NSA</td><td></td><td>355.219354515</td></tr>\n",
       "<tr><td>158.04324634</td><td>28.4830569538</td><td>158.336044312</td><td>27.6734104156</td><td>NSA</td><td>Oz</td><td>362.095607452</td></tr>\n",
       "<tr><td>247.877387573</td><td>20.0936248407</td><td>248.146194458</td><td>20.6615352631</td><td>MMT</td><td>Odyssey</td><td>372.15767724</td></tr>\n",
       "<tr><td>158.712397798</td><td>28.6638533288</td><td>159.038696289</td><td>27.8388805389</td><td>NSA</td><td>Oz</td><td>372.213939478</td></tr>\n",
       "<tr><td>179.69172842</td><td>-1.46194133403</td><td>180.611495972</td><td>-1.48757696152</td><td>GAMA</td><td>Alice</td><td>373.232087572</td></tr>\n",
       "<tr><td>158.351768341</td><td>28.5529137267</td><td>158.336044312</td><td>27.6734104156</td><td>MMT</td><td>Oz</td><td>374.771759776</td></tr>\n",
       "<tr><td>219.969004509</td><td>51.4346141811</td><td>220.211547852</td><td>52.0794525146</td><td>NSA</td><td></td><td>388.012107028</td></tr>\n",
       "<tr><td>165.99933727</td><td>27.9378146379</td><td>165.048095703</td><td>27.6372756958</td><td>NSA</td><td></td><td>398.539868129</td></tr>\n",
       "<tr><td>144.842964764</td><td>4.95243291028</td><td>144.382736206</td><td>5.53485107422</td><td>NSA</td><td></td><td>400.883069394</td></tr>\n",
       "<tr><td>219.422236629</td><td>51.4573597124</td><td>219.358917236</td><td>50.7655258179</td><td>NSA</td><td></td><td>406.115652915</td></tr>\n",
       "<tr><td>166.012283813</td><td>28.0367913571</td><td>165.218093872</td><td>28.6336898804</td><td>NSA</td><td></td><td>409.957730816</td></tr>\n",
       "<tr><td>219.190054522</td><td>51.4603182194</td><td>219.358917236</td><td>50.7655258179</td><td>NSA</td><td></td><td>411.892753409</td></tr>\n",
       "<tr><td>207.096719393</td><td>43.7086510615</td><td>207.22819519</td><td>43.0525283813</td><td>NSA</td><td></td><td>414.338371957</td></tr>\n",
       "<tr><td>170.457771868</td><td>40.001812079</td><td>169.626190186</td><td>40.4316711426</td><td>NSA</td><td></td><td>422.417550513</td></tr>\n",
       "<tr><td>157.778274298</td><td>28.7966447953</td><td>157.089477539</td><td>27.9975166321</td><td>NSA</td><td>Oz</td><td>427.282958135</td></tr>\n",
       "<tr><td>145.234531834</td><td>5.04491110503</td><td>145.881729126</td><td>5.52541399002</td><td>NSA</td><td></td><td>434.823474789</td></tr>\n",
       "<tr><td>206.062030556</td><td>41.6773969113</td><td>205.253265381</td><td>41.3872489929</td><td>NSA</td><td></td><td>436.221825545</td></tr>\n",
       "<tr><td>234.132926177</td><td>16.4404552908</td><td>233.480163574</td><td>15.7694501877</td><td>NSA</td><td>Gilgamesh</td><td>449.166996632</td></tr>\n",
       "<tr><td>248.393225697</td><td>19.9461400824</td><td>248.146194458</td><td>20.6615352631</td><td>MMT</td><td>Odyssey</td><td>450.429247828</td></tr>\n",
       "<tr><td>206.19066673</td><td>41.5567177</td><td>205.253265381</td><td>41.3872489929</td><td>NSA</td><td></td><td>469.469088246</td></tr>\n",
       "<tr><td>182.689815229</td><td>20.5929282759</td><td>183.10887146</td><td>21.2247371674</td><td>MMT</td><td>ScoobyDoo</td><td>471.05734616</td></tr>\n",
       "<tr><td>248.195368592</td><td>19.8670126788</td><td>248.146194458</td><td>20.6615352631</td><td>MMT</td><td>Odyssey</td><td>476.716728852</td></tr>\n",
       "<tr><td>214.803549461</td><td>50.4409042279</td><td>215.80909729</td><td>50.9270248413</td><td>NSA</td><td></td><td>477.705180052</td></tr>\n",
       "<tr><td>216.926514219</td><td>56.5960561907</td><td>218.142608643</td><td>56.0166358948</td><td>NSA</td><td></td><td>494.297372337</td></tr>\n",
       "<tr><td>194.572104136</td><td>14.5571518823</td><td>195.150909424</td><td>13.7849092484</td><td>NSA</td><td></td><td>500.284904091</td></tr>\n",
       "<tr><td>248.152079686</td><td>19.8102591366</td><td>248.146194458</td><td>20.6615352631</td><td>MMT</td><td>Odyssey</td><td>509.921086971</td></tr>\n",
       "<tr><td>175.28656089</td><td>36.833855867</td><td>176.691757202</td><td>37.2532577515</td><td>NSA</td><td></td><td>516.096883025</td></tr>\n",
       "<tr><td>216.92859987</td><td>56.6589781315</td><td>218.142608643</td><td>56.0166358948</td><td>NSA</td><td></td><td>517.075130456</td></tr>\n",
       "<tr><td>248.16342684</td><td>19.792207594</td><td>248.146194458</td><td>20.6615352631</td><td>MMT</td><td>Odyssey</td><td>520.813214432</td></tr>\n",
       "<tr><td>170.778945018</td><td>39.9567281033</td><td>170.088058472</td><td>40.7547950745</td><td>NSA</td><td></td><td>526.679084224</td></tr>\n",
       "<tr><td>171.11620079</td><td>39.814084535</td><td>170.321502686</td><td>39.0600090027</td><td>NSA</td><td></td><td>535.60293989</td></tr>\n",
       "<tr><td>210.869861538</td><td>48.9648384365</td><td>212.148498535</td><td>48.4575653076</td><td>NSA</td><td></td><td>544.920143711</td></tr>\n",
       "<tr><td>169.611132968</td><td>45.6898826245</td><td>168.579406738</td><td>45.1871032715</td><td>NSA</td><td></td><td>554.887824914</td></tr>\n",
       "<tr><td>233.787037531</td><td>16.8704375988</td><td>233.480163574</td><td>15.7694501877</td><td>MMT</td><td>Gilgamesh</td><td>557.366027091</td></tr>\n",
       "<tr><td>174.462550762</td><td>56.1419973787</td><td>174.115982056</td><td>55.3091163635</td><td>NSA</td><td></td><td>561.060872934</td></tr>\n",
       "<tr><td>175.563531091</td><td>36.2980602831</td><td>176.691757202</td><td>37.2532577515</td><td>NSA</td><td></td><td>566.733693814</td></tr>\n",
       "<tr><td>220.114766011</td><td>5.53186166496</td><td>221.06111145</td><td>6.55187702179</td><td>NSA</td><td></td><td>569.851424902</td></tr>\n",
       "<tr><td>179.010357714</td><td>6.6779104295</td><td>178.165313721</td><td>7.03944778442</td><td>NSA</td><td></td><td>573.479685591</td></tr>\n",
       "<tr><td>145.088082817</td><td>4.73510076361</td><td>144.382736206</td><td>5.53485107422</td><td>NSA</td><td></td><td>575.798684437</td></tr>\n",
       "<tr><td>216.362007305</td><td>56.3202828666</td><td>218.142608643</td><td>56.0166358948</td><td>NSA</td><td></td><td>576.286232393</td></tr>\n",
       "<tr><td>248.051339587</td><td>19.6957396993</td><td>248.146194458</td><td>20.6615352631</td><td>MMT</td><td>Odyssey</td><td>580.959828531</td></tr>\n",
       "<tr><td>216.147606853</td><td>56.2493956883</td><td>214.251174927</td><td>56.433013916</td><td>NSA</td><td></td><td>593.06754506</td></tr>\n",
       "<tr><td>248.58079685</td><td>19.7200349023</td><td>248.146194458</td><td>20.6615352631</td><td>MMT</td><td>Odyssey</td><td>614.604235576</td></tr>\n",
       "<tr><td>210.207365611</td><td>49.5161574869</td><td>209.073272705</td><td>50.3608360291</td><td>NSA</td><td></td><td>617.919903778</td></tr>\n",
       "<tr><td>210.100030032</td><td>49.4443703098</td><td>209.073272705</td><td>50.3608360291</td><td>NSA</td><td></td><td>625.560207862</td></tr>\n",
       "<tr><td>198.263623171</td><td>23.084589958</td><td>198.237121582</td><td>24.0459098816</td><td>NSA</td><td></td><td>630.252639273</td></tr>\n",
       "<tr><td>155.66592215</td><td>58.0900769045</td><td>153.679718018</td><td>58.2953834534</td><td>NSA</td><td></td><td>642.243790067</td></tr>\n",
       "<tr><td>182.990666509</td><td>20.0278486922</td><td>183.103744507</td><td>18.9889373779</td><td>NSA</td><td>ScoobyDoo</td><td>661.896910939</td></tr>\n",
       "<tr><td>175.138189045</td><td>36.3014420467</td><td>176.691757202</td><td>37.2532577515</td><td>NSA</td><td></td><td>675.212856473</td></tr>\n",
       "<tr><td>123.243173206</td><td>36.198359966</td><td>122.421058655</td><td>35.4005355835</td><td>NSA</td><td>StarTrek</td><td>684.842818416</td></tr>\n",
       "<tr><td>139.49713703</td><td>52.7427116605</td><td>139.619110107</td><td>51.6589279175</td><td>NSA</td><td></td><td>686.638623268</td></tr>\n",
       "<tr><td>182.848206846</td><td>20.0632227672</td><td>183.103744507</td><td>18.9889373779</td><td>MMT</td><td>ScoobyDoo</td><td>697.75986596</td></tr>\n",
       "<tr><td>218.707391806</td><td>54.5344285066</td><td>220.546798706</td><td>55.1473045349</td><td>NSA</td><td></td><td>707.280993292</td></tr>\n",
       "<tr><td>198.174169838</td><td>22.8298213652</td><td>197.484146118</td><td>21.9508247375</td><td>NSA</td><td></td><td>711.849922176</td></tr>\n",
       "<tr><td>225.005401226</td><td>-1.09130226734</td><td>225.276763916</td><td>0.345923006535</td><td>NSA</td><td></td><td>725.077288065</td></tr>\n",
       "<tr><td>164.087037522</td><td>56.7597565956</td><td>164.272521973</td><td>58.0770721436</td><td>NSA</td><td></td><td>725.941255252</td></tr>\n",
       "<tr><td>179.280050382</td><td>6.67546219322</td><td>178.165313721</td><td>7.03944778442</td><td>NSA</td><td></td><td>731.35384471</td></tr>\n",
       "<tr><td>127.34030493</td><td>25.8856332187</td><td>128.84286499</td><td>26.0942306519</td><td>NSA</td><td></td><td>745.727075284</td></tr>\n",
       "<tr><td>163.46139867</td><td>56.7582082199</td><td>164.272521973</td><td>58.0770721436</td><td>NSA</td><td></td><td>763.413367934</td></tr>\n",
       "<tr><td>127.324917502</td><td>25.75292055</td><td>128.84286499</td><td>26.0942306519</td><td>NSA</td><td></td><td>767.883178088</td></tr>\n",
       "<tr><td>182.428044304</td><td>20.0469187602</td><td>183.103744507</td><td>18.9889373779</td><td>MMT</td><td>ScoobyDoo</td><td>782.638266938</td></tr>\n",
       "<tr><td>255.505162484</td><td>23.1633940992</td><td>256.328369141</td><td>24.067243576</td><td>NSA</td><td></td><td>809.838111532</td></tr>\n",
       "<tr><td>255.579502633</td><td>23.0765136287</td><td>256.328369141</td><td>24.067243576</td><td>NSA</td><td></td><td>829.126429579</td></tr>\n",
       "<tr><td>126.619903167</td><td>26.0745799775</td><td>127.377479553</td><td>27.472984314</td><td>NSA</td><td></td><td>847.635040358</td></tr>\n",
       "<tr><td>126.640716474</td><td>25.4997595504</td><td>125.189041138</td><td>24.5313606262</td><td>NSA</td><td></td><td>891.348237885</td></tr>\n",
       "<tr><td>126.865163194</td><td>25.7243689745</td><td>128.08366394</td><td>24.5168170929</td><td>NSA</td><td></td><td>892.518870825</td></tr>\n",
       "<tr><td>224.532617519</td><td>-1.31259609568</td><td>225.276763916</td><td>0.345923006535</td><td>NSA</td><td></td><td>901.151029726</td></tr>\n",
       "<tr><td>138.03939192</td><td>35.5266940146</td><td>139.975189209</td><td>35.9463539124</td><td>SDSS</td><td></td><td>917.902827798</td></tr>\n",
       "<tr><td>123.649897556</td><td>36.4343553979</td><td>122.421058655</td><td>35.4005355835</td><td>NSA</td><td>StarTrek</td><td>945.136489749</td></tr>\n",
       "<tr><td>139.189595559</td><td>53.4429759655</td><td>140.8618927</td><td>54.6402206421</td><td>NSA</td><td></td><td>978.640838557</td></tr>\n",
       "<tr><td>137.938707966</td><td>35.4052045703</td><td>139.975189209</td><td>35.9463539124</td><td>NSA</td><td></td><td>982.335195113</td></tr>\n",
       "<tr><td>139.44430792</td><td>53.2935206629</td><td>140.8618927</td><td>54.6402206421</td><td>NSA</td><td></td><td>1001.11464778</td></tr>\n",
       "<tr><td>138.184974166</td><td>34.9255496114</td><td>139.975189209</td><td>35.9463539124</td><td>NSA</td><td></td><td>1004.77436394</td></tr>\n",
       "<tr><td>255.1878771</td><td>23.0439876547</td><td>256.328369141</td><td>24.067243576</td><td>NSA</td><td></td><td>1006.34360972</td></tr>\n",
       "<tr><td>39.9254642529</td><td>-1.41874190874</td><td>38.3974227905</td><td>-1.12910103798</td><td>MMT</td><td>Narnia</td><td>1008.30229543</td></tr>\n",
       "<tr><td>255.060781986</td><td>23.1063379321</td><td>256.328369141</td><td>24.067243576</td><td>NSA</td><td></td><td>1037.10185759</td></tr>\n",
       "<tr><td>145.320962664</td><td>0.771102651396</td><td>143.825805664</td><td>2.07098007202</td><td>NSA</td><td></td><td>1038.45545157</td></tr>\n",
       "<tr><td>137.962393912</td><td>34.963238976</td><td>139.975189209</td><td>35.9463539124</td><td>SDSS</td><td></td><td>1078.92962068</td></tr>\n",
       "<tr><td>255.373501644</td><td>22.7311338608</td><td>256.328369141</td><td>24.067243576</td><td>SDSS</td><td></td><td>1099.19629097</td></tr>\n",
       "<tr><td>20.5363426909</td><td>17.5281428748</td><td>20.1921138763</td><td>15.7110061646</td><td>MMT</td><td>HarryPotter</td><td>1245.91436302</td></tr>\n",
       "<tr><td>20.2852690118</td><td>17.6022357532</td><td>20.1921138763</td><td>15.7110061646</td><td>MMT</td><td>HarryPotter</td><td>1277.28824185</td></tr>\n",
       "<tr><td>20.3284666123</td><td>17.7539390491</td><td>20.1921138763</td><td>15.7110061646</td><td>MMT</td><td>HarryPotter</td><td>1381.02334095</td></tr>\n",
       "<tr><td>20.7768903825</td><td>17.8914501798</td><td>20.1921138763</td><td>15.7110061646</td><td>MMT</td><td>HarryPotter</td><td>1518.68002425</td></tr>\n",
       "<tr><td>335.97997618</td><td>-3.27054858631</td><td>336.636108398</td><td>-0.954925000668</td><td>AAT</td><td>OBrother</td><td>1645.54517592</td></tr>\n",
       "<tr><td>335.953849494</td><td>-3.70119481833</td><td>336.636108398</td><td>-0.954925000668</td><td>AAT</td><td>OBrother</td><td>1934.73235369</td></tr>\n",
       "<tr><td>348.776907636</td><td>4.373197012</td><td>350.780212402</td><td>1.18917703629</td><td>MMT</td><td>Catch22</td><td>2429.61747254</td></tr>\n",
       "<tr><td>348.874199097</td><td>4.61326147472</td><td>350.780212402</td><td>1.18917703629</td><td>MMT</td><td>Catch22</td><td>2531.11353223</td></tr>\n",
       "<tr><td>348.696648891</td><td>4.63995487019</td><td>350.780212402</td><td>1.18917703629</td><td>MMT</td><td>Catch22</td><td>2603.44894782</td></tr>\n",
       "<tr><td>348.554591739</td><td>4.91500326962</td><td>350.780212402</td><td>1.18917703629</td><td>MMT</td><td>Catch22</td><td>2802.88046268</td></tr>\n",
       "</table><style>table.dataTable {clear: both; width: auto !important; margin: 0 !important;}\n",
       ".dataTables_info, .dataTables_length, .dataTables_filter, .dataTables_paginate{\n",
       "display: inline-block; margin-right: 1em; }\n",
       ".paginate_button { margin-right: 5px; }\n",
       "</style>\n",
       "<script>\n",
       "require.config({paths: {\n",
       "    datatables: 'https://cdn.datatables.net/1.10.9/js/jquery.dataTables.min'\n",
       "}});\n",
       "require([\"datatables\"], function(){\n",
       "    console.log(\"$('#table5351295696-627263').dataTable()\");\n",
       "    $('#table5351295696-627263').dataTable({\n",
       "        \"iDisplayLength\": 50,\n",
       "        \"aLengthMenu\": [[10, 25, 50, 100, 500, 1000, -1], [10, 25, 50, 100, 500, 1000, 'All']],\n",
       "        \"pagingType\": \"full_numbers\"\n",
       "    });\n",
       "});\n",
       "</script>\n"
      ],
      "text/plain": [
       "<IPython.core.display.HTML object>"
      ]
     },
     "execution_count": 28,
     "metadata": {},
     "output_type": "execute_result"
    }
   ],
   "source": [
    "sat_matches['RA_1', 'DEC_1', 'RA_2', 'DEC_2', 'TELNAME', 'HOST_SAGA_NAME', 'match_d2d_phys'].show_in_notebook()"
   ]
  },
  {
   "cell_type": "code",
   "execution_count": 29,
   "metadata": {
    "collapsed": false,
    "scrolled": true
   },
   "outputs": [
    {
     "data": {
      "text/plain": [
       "'name ra dec\\nSAT_0_16kpc 162.849821529 28.1120278164\\nSAT_1_35kpc 141.506228227 34.6534021854\\nSAT_2_43kpc 162.705990064 28.0587029336\\nSAT_3_64kpc 195.105563951 13.6705858419\\nSAT_4_102kpc 162.816110258 27.8489705993\\nSAT_5_111kpc 193.556579042 8.3577808181\\nSAT_6_112kpc 217.266218915 3.14899055549\\nSAT_7_113kpc 217.818940474 3.25673766255\\nSAT_8_114kpc 141.141087343 34.6588051715\\nSAT_9_118kpc 162.904734277 27.822117387\\nSAT_10_139kpc 180.419076868 -1.20276655787\\nSAT_11_143kpc 130.700889417 14.2652497454\\nSAT_12_145kpc 149.687168865 32.7202654623\\nSAT_13_150kpc 180.29544216 -1.2976838319\\nSAT_14_153kpc 217.970758535 3.38004139202\\nSAT_15_162kpc 141.021441102 34.6469717218\\nSAT_16_164kpc 222.900268358 58.9548243013\\nSAT_17_166kpc 193.358416186 8.03555517632\\nSAT_18_183kpc 154.228523279 58.394558724\\nSAT_19_185kpc 217.507687769 3.77289260119\\nSAT_20_191kpc 130.611942997 14.4258881655\\nSAT_21_198kpc 141.450424263 34.2768708872\\nSAT_22_204kpc 162.303384997 27.922597647\\nSAT_23_213kpc 193.837484187 8.21930199209\\nSAT_24_214kpc 177.51854285 26.4791773054\\nSAT_25_215kpc 177.520529263 26.4819998052\\nSAT_26_218kpc 163.059035323 27.6233367484\\nSAT_27_227kpc 217.700609655 3.79639167904\\nSAT_28_230kpc 217.232775133 3.85156150737\\nSAT_29_234kpc 221.316115836 -0.159937082521\\nSAT_30_237kpc 217.94533575 58.0087096127\\nSAT_31_245kpc 140.813271688 34.7343539788\\nSAT_32_245kpc 154.300660995 58.5392741055\\nSAT_33_245kpc 180.636494306 1.95802947978\\nSAT_34_253kpc 219.746469375 51.1207294493\\nSAT_35_262kpc 354.195229736 0.62342377148\\nSAT_36_269kpc 193.79261201 7.91785110827\\nSAT_37_274kpc 209.291391212 29.2195794233\\nSAT_38_284kpc 217.331575408 2.71056254304\\nSAT_39_289kpc 158.844694982 37.6716108682\\nSAT_40_295kpc 177.348303087 26.7416474578\\nSAT_41_304kpc 354.350599991 0.390802769345\\nSAT_42_324kpc 247.825892241 20.2108787761\\nSAT_43_331kpc 158.088519499 28.4198533568\\nSAT_44_334kpc 247.84002995 20.1840758135\\nSAT_45_347kpc 215.459031703 50.3883751817\\nSAT_46_354kpc 187.211257125 -2.0607897588\\nSAT_47_355kpc 215.404851531 50.3903440269\\nSAT_48_355kpc 170.402482545 40.1559946711\\nSAT_49_362kpc 158.04324634 28.4830569538\\nSAT_50_372kpc 247.877387573 20.0936248407\\nSAT_51_372kpc 158.712397798 28.6638533288\\nSAT_52_373kpc 179.69172842 -1.46194133403\\nSAT_53_375kpc 158.351768341 28.5529137267\\nSAT_54_388kpc 219.969004509 51.4346141811\\nSAT_55_399kpc 165.99933727 27.9378146379\\nSAT_56_401kpc 144.842964764 4.95243291028\\nSAT_57_406kpc 219.422236629 51.4573597124\\nSAT_58_410kpc 166.012283813 28.0367913571\\nSAT_59_412kpc 219.190054522 51.4603182194\\nSAT_60_414kpc 207.096719393 43.7086510615\\nSAT_61_422kpc 170.457771868 40.001812079\\nSAT_62_427kpc 157.778274298 28.7966447953\\nSAT_63_435kpc 145.234531834 5.04491110503\\nSAT_64_436kpc 206.062030556 41.6773969113\\nSAT_65_449kpc 234.132926177 16.4404552908\\nSAT_66_450kpc 248.393225697 19.9461400824\\nSAT_67_469kpc 206.19066673 41.5567177\\nSAT_68_471kpc 182.689815229 20.5929282759\\nSAT_69_477kpc 248.195368592 19.8670126788\\nSAT_70_478kpc 214.803549461 50.4409042279\\nSAT_71_494kpc 216.926514219 56.5960561907\\nSAT_72_500kpc 194.572104136 14.5571518823\\nSAT_73_510kpc 248.152079686 19.8102591366\\nSAT_74_516kpc 175.28656089 36.833855867\\nSAT_75_517kpc 216.92859987 56.6589781315\\nSAT_76_521kpc 248.16342684 19.792207594\\nSAT_77_527kpc 170.778945018 39.9567281033\\nSAT_78_536kpc 171.11620079 39.814084535\\nSAT_79_545kpc 210.869861538 48.9648384365\\nSAT_80_555kpc 169.611132968 45.6898826245\\nSAT_81_557kpc 233.787037531 16.8704375988\\nSAT_82_561kpc 174.462550762 56.1419973787\\nSAT_83_567kpc 175.563531091 36.2980602831\\nSAT_84_570kpc 220.114766011 5.53186166496\\nSAT_85_573kpc 179.010357714 6.6779104295\\nSAT_86_576kpc 145.088082817 4.73510076361\\nSAT_87_576kpc 216.362007305 56.3202828666\\nSAT_88_581kpc 248.051339587 19.6957396993\\nSAT_89_593kpc 216.147606853 56.2493956883\\nSAT_90_615kpc 248.58079685 19.7200349023\\nSAT_91_618kpc 210.207365611 49.5161574869\\nSAT_92_626kpc 210.100030032 49.4443703098\\nSAT_93_630kpc 198.263623171 23.084589958\\nSAT_94_642kpc 155.66592215 58.0900769045\\nSAT_95_662kpc 182.990666509 20.0278486922\\nSAT_96_675kpc 175.138189045 36.3014420467\\nSAT_97_685kpc 123.243173206 36.198359966\\nSAT_98_687kpc 139.49713703 52.7427116605\\nSAT_99_698kpc 182.848206846 20.0632227672\\nSAT_100_707kpc 218.707391806 54.5344285066\\nSAT_101_712kpc 198.174169838 22.8298213652\\nSAT_102_725kpc 225.005401226 -1.09130226734\\nSAT_103_726kpc 164.087037522 56.7597565956\\nSAT_104_731kpc 179.280050382 6.67546219322\\nSAT_105_746kpc 127.34030493 25.8856332187\\nSAT_106_763kpc 163.46139867 56.7582082199\\nSAT_107_768kpc 127.324917502 25.75292055\\nSAT_108_783kpc 182.428044304 20.0469187602\\nSAT_109_810kpc 255.505162484 23.1633940992\\nSAT_110_829kpc 255.579502633 23.0765136287\\nSAT_111_848kpc 126.619903167 26.0745799775\\nSAT_112_891kpc 126.640716474 25.4997595504\\nSAT_113_893kpc 126.865163194 25.7243689745\\nSAT_114_901kpc 224.532617519 -1.31259609568\\nSAT_115_918kpc 138.03939192 35.5266940146\\nSAT_116_945kpc 123.649897556 36.4343553979\\nSAT_117_979kpc 139.189595559 53.4429759655\\nSAT_118_982kpc 137.938707966 35.4052045703\\nSAT_119_1001kpc 139.44430792 53.2935206629\\nSAT_120_1005kpc 138.184974166 34.9255496114\\nSAT_121_1006kpc 255.1878771 23.0439876547\\nSAT_122_1008kpc 39.9254642529 -1.41874190874\\nSAT_123_1037kpc 255.060781986 23.1063379321\\nSAT_124_1038kpc 145.320962664 0.771102651396\\nSAT_125_1079kpc 137.962393912 34.963238976\\nSAT_126_1099kpc 255.373501644 22.7311338608\\nSAT_127_1246kpc 20.5363426909 17.5281428748\\nSAT_128_1277kpc 20.2852690118 17.6022357532\\nSAT_129_1381kpc 20.3284666123 17.7539390491\\nSAT_130_1519kpc 20.7768903825 17.8914501798\\nSAT_131_1646kpc 335.97997618 -3.27054858631\\nSAT_132_1935kpc 335.953849494 -3.70119481833\\nSAT_133_2430kpc 348.776907636 4.373197012\\nSAT_134_2531kpc 348.874199097 4.61326147472\\nSAT_135_2603kpc 348.696648891 4.63995487019\\nSAT_136_2803kpc 348.554591739 4.91500326962'"
      ]
     },
     "execution_count": 29,
     "metadata": {},
     "output_type": "execute_result"
    }
   ],
   "source": [
    "nms = ['SAT_{}_{:.0f}kpc'.format(i, row['match_d2d_phys']) for i, row in enumerate(sat_matches)]\n",
    "targeting.sampled_imagelist(sat_matches['RA_1'], sat_matches['DEC_1'], n=len(sat_matches), names=nms)"
   ]
  },
  {
   "cell_type": "code",
   "execution_count": 30,
   "metadata": {
    "collapsed": false,
    "scrolled": true
   },
   "outputs": [
    {
     "data": {
      "text/plain": [
       "'name ra dec\\nQSO_0_16kpc 162.815643311 28.0908641815\\nQSO_1_35kpc 141.426376343 34.6857299805\\nQSO_2_43kpc 162.815643311 28.0908641815\\nQSO_3_64kpc 195.150909424 13.7849092484\\nQSO_4_102kpc 162.815643311 28.0908641815\\nQSO_5_111kpc 193.530136108 8.20126724243\\nQSO_6_112kpc 217.419769287 3.35718798637\\nQSO_7_113kpc 217.941635132 3.02884888649\\nQSO_8_114kpc 141.426376343 34.6857299805\\nQSO_9_118kpc 162.815643311 28.0908641815\\nQSO_10_139kpc 180.611495972 -1.48757696152\\nQSO_11_143kpc 130.496398926 14.1117200851\\nQSO_12_145kpc 149.587265015 32.4006233215\\nQSO_13_150kpc 180.611495972 -1.48757696152\\nQSO_14_153kpc 217.941635132 3.02884888649\\nQSO_15_162kpc 141.426376343 34.6857299805\\nQSO_16_164kpc 222.964736938 59.2333564758\\nQSO_17_166kpc 193.530136108 8.20126724243\\nQSO_18_183kpc 153.679718018 58.2953834534\\nQSO_19_185kpc 217.419769287 3.35718798637\\nQSO_20_191kpc 130.496398926 14.1117200851\\nQSO_21_198kpc 141.426376343 34.6857299805\\nQSO_22_204kpc 162.815643311 28.0908641815\\nQSO_23_213kpc 193.530136108 8.20126724243\\nQSO_24_214kpc 177.727157593 26.087688446\\nQSO_25_215kpc 177.727157593 26.087688446\\nQSO_26_218kpc 162.815643311 28.0908641815\\nQSO_27_227kpc 217.419769287 3.35718798637\\nQSO_28_230kpc 217.419769287 3.35718798637\\nQSO_29_234kpc 221.693222046 -0.52883297205\\nQSO_30_237kpc 217.855407715 57.5743408203\\nQSO_31_245kpc 141.426376343 34.6857299805\\nQSO_32_245kpc 153.679718018 58.2953834534\\nQSO_33_245kpc 180.637863159 2.43326592445\\nQSO_34_253kpc 219.358917236 50.7655258179\\nQSO_35_262kpc 354.568450928 0.841624975204\\nQSO_36_269kpc 193.530136108 8.20126724243\\nQSO_37_274kpc 209.111801147 28.7937984467\\nQSO_38_284kpc 217.419769287 3.35718798637\\nQSO_39_289kpc 159.188140869 37.1170272827\\nQSO_40_295kpc 176.994140625 27.2498130798\\nQSO_41_304kpc 354.568450928 0.841624975204\\nQSO_42_324kpc 248.146194458 20.6615352631\\nQSO_43_331kpc 158.336044312 27.6734104156\\nQSO_44_334kpc 248.146194458 20.6615352631\\nQSO_45_347kpc 215.80909729 50.9270248413\\nQSO_46_354kpc 187.712692261 -1.78413903713\\nQSO_47_355kpc 215.80909729 50.9270248413\\nQSO_48_355kpc 170.088058472 40.7547950745\\nQSO_49_362kpc 158.336044312 27.6734104156\\nQSO_50_372kpc 248.146194458 20.6615352631\\nQSO_51_372kpc 159.038696289 27.8388805389\\nQSO_52_373kpc 180.611495972 -1.48757696152\\nQSO_53_375kpc 158.336044312 27.6734104156\\nQSO_54_388kpc 220.211547852 52.0794525146\\nQSO_55_399kpc 165.048095703 27.6372756958\\nQSO_56_401kpc 144.382736206 5.53485107422\\nQSO_57_406kpc 219.358917236 50.7655258179\\nQSO_58_410kpc 165.218093872 28.6336898804\\nQSO_59_412kpc 219.358917236 50.7655258179\\nQSO_60_414kpc 207.22819519 43.0525283813\\nQSO_61_422kpc 169.626190186 40.4316711426\\nQSO_62_427kpc 157.089477539 27.9975166321\\nQSO_63_435kpc 145.881729126 5.52541399002\\nQSO_64_436kpc 205.253265381 41.3872489929\\nQSO_65_449kpc 233.480163574 15.7694501877\\nQSO_66_450kpc 248.146194458 20.6615352631\\nQSO_67_469kpc 205.253265381 41.3872489929\\nQSO_68_471kpc 183.10887146 21.2247371674\\nQSO_69_477kpc 248.146194458 20.6615352631\\nQSO_70_478kpc 215.80909729 50.9270248413\\nQSO_71_494kpc 218.142608643 56.0166358948\\nQSO_72_500kpc 195.150909424 13.7849092484\\nQSO_73_510kpc 248.146194458 20.6615352631\\nQSO_74_516kpc 176.691757202 37.2532577515\\nQSO_75_517kpc 218.142608643 56.0166358948\\nQSO_76_521kpc 248.146194458 20.6615352631\\nQSO_77_527kpc 170.088058472 40.7547950745\\nQSO_78_536kpc 170.321502686 39.0600090027\\nQSO_79_545kpc 212.148498535 48.4575653076\\nQSO_80_555kpc 168.579406738 45.1871032715\\nQSO_81_557kpc 233.480163574 15.7694501877\\nQSO_82_561kpc 174.115982056 55.3091163635\\nQSO_83_567kpc 176.691757202 37.2532577515\\nQSO_84_570kpc 221.06111145 6.55187702179\\nQSO_85_573kpc 178.165313721 7.03944778442\\nQSO_86_576kpc 144.382736206 5.53485107422\\nQSO_87_576kpc 218.142608643 56.0166358948\\nQSO_88_581kpc 248.146194458 20.6615352631\\nQSO_89_593kpc 214.251174927 56.433013916\\nQSO_90_615kpc 248.146194458 20.6615352631\\nQSO_91_618kpc 209.073272705 50.3608360291\\nQSO_92_626kpc 209.073272705 50.3608360291\\nQSO_93_630kpc 198.237121582 24.0459098816\\nQSO_94_642kpc 153.679718018 58.2953834534\\nQSO_95_662kpc 183.103744507 18.9889373779\\nQSO_96_675kpc 176.691757202 37.2532577515\\nQSO_97_685kpc 122.421058655 35.4005355835\\nQSO_98_687kpc 139.619110107 51.6589279175\\nQSO_99_698kpc 183.103744507 18.9889373779\\nQSO_100_707kpc 220.546798706 55.1473045349\\nQSO_101_712kpc 197.484146118 21.9508247375\\nQSO_102_725kpc 225.276763916 0.345923006535\\nQSO_103_726kpc 164.272521973 58.0770721436\\nQSO_104_731kpc 178.165313721 7.03944778442\\nQSO_105_746kpc 128.84286499 26.0942306519\\nQSO_106_763kpc 164.272521973 58.0770721436\\nQSO_107_768kpc 128.84286499 26.0942306519\\nQSO_108_783kpc 183.103744507 18.9889373779\\nQSO_109_810kpc 256.328369141 24.067243576\\nQSO_110_829kpc 256.328369141 24.067243576\\nQSO_111_848kpc 127.377479553 27.472984314\\nQSO_112_891kpc 125.189041138 24.5313606262\\nQSO_113_893kpc 128.08366394 24.5168170929\\nQSO_114_901kpc 225.276763916 0.345923006535\\nQSO_115_918kpc 139.975189209 35.9463539124\\nQSO_116_945kpc 122.421058655 35.4005355835\\nQSO_117_979kpc 140.8618927 54.6402206421\\nQSO_118_982kpc 139.975189209 35.9463539124\\nQSO_119_1001kpc 140.8618927 54.6402206421\\nQSO_120_1005kpc 139.975189209 35.9463539124\\nQSO_121_1006kpc 256.328369141 24.067243576\\nQSO_122_1008kpc 38.3974227905 -1.12910103798\\nQSO_123_1037kpc 256.328369141 24.067243576\\nQSO_124_1038kpc 143.825805664 2.07098007202\\nQSO_125_1079kpc 139.975189209 35.9463539124\\nQSO_126_1099kpc 256.328369141 24.067243576\\nQSO_127_1246kpc 20.1921138763 15.7110061646\\nQSO_128_1277kpc 20.1921138763 15.7110061646\\nQSO_129_1381kpc 20.1921138763 15.7110061646\\nQSO_130_1519kpc 20.1921138763 15.7110061646\\nQSO_131_1646kpc 336.636108398 -0.954925000668\\nQSO_132_1935kpc 336.636108398 -0.954925000668\\nQSO_133_2430kpc 350.780212402 1.18917703629\\nQSO_134_2531kpc 350.780212402 1.18917703629\\nQSO_135_2603kpc 350.780212402 1.18917703629\\nQSO_136_2803kpc 350.780212402 1.18917703629'"
      ]
     },
     "execution_count": 30,
     "metadata": {},
     "output_type": "execute_result"
    }
   ],
   "source": [
    "nms = ['QSO_{}_{:.0f}kpc'.format(i, row['match_d2d_phys']) for i, row in enumerate(sat_matches)]\n",
    "targeting.sampled_imagelist(sat_matches['RA_2'], sat_matches['DEC_2'], n=len(sat_matches), names=nms)"
   ]
  }
 ],
 "metadata": {
  "kernelspec": {
   "display_name": "Python 2",
   "language": "python",
   "name": "python2"
  },
  "language_info": {
   "codemirror_mode": {
    "name": "ipython",
    "version": 2
   },
   "file_extension": ".py",
   "mimetype": "text/x-python",
   "name": "python",
   "nbconvert_exporter": "python",
   "pygments_lexer": "ipython2",
   "version": "2.7.11"
  }
 },
 "nbformat": 4,
 "nbformat_minor": 0
}
