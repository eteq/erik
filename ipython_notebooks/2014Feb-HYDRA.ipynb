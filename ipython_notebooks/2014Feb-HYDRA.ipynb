{
 "metadata": {
  "name": "",
  "signature": "sha256:fa3f1a82fbf7c1842d0afe34db79996d669e6595982ee40e086378bd114272be"
 },
 "nbformat": 3,
 "nbformat_minor": 0,
 "worksheets": [
  {
   "cells": [
    {
     "cell_type": "raw",
     "metadata": {},
     "source": [
      "Targets are SW (the one w/CFHTLS imaging, already observed once in Jan) and Beowulf"
     ]
    },
    {
     "cell_type": "code",
     "collapsed": false,
     "input": [
      "# This changes the current directory to the base saga directory - make sure to run this first!\n",
      "# This is necessary to be able to import the py files and use the right directories,\n",
      "# while keeping all the notebooks in their own directory.\n",
      "import os\n",
      "import sys\n",
      "\n",
      "if 'saga_base_dir' not in locals():\n",
      "    saga_base_dir = os.path.abspath('..')\n",
      "if sagadir not in sys.path:\n",
      "    os.chdir(saga_base_dir)"
     ],
     "language": "python",
     "metadata": {},
     "outputs": []
    },
    {
     "cell_type": "code",
     "collapsed": false,
     "input": [
      "import wiyn\n",
      "import mmthecto\n",
      "import magellan\n",
      "import targeting\n",
      "import hosts\n",
      "\n",
      "from astropy import coordinates as coords\n",
      "from astropy import units as u\n",
      "from astropy.io import ascii"
     ],
     "language": "python",
     "metadata": {},
     "outputs": [],
     "prompt_number": 138
    },
    {
     "cell_type": "code",
     "collapsed": false,
     "input": [
      "reload(targeting)\n",
      "reload(hosts)\n",
      "reload(wiyn)\n",
      "reload(mmthecto)\n",
      "reload(magellan);"
     ],
     "language": "python",
     "metadata": {},
     "outputs": [],
     "prompt_number": 159
    },
    {
     "cell_type": "code",
     "collapsed": false,
     "input": [
      "h1 = hosts.beowulf\n",
      "h2 = hosts.starwars"
     ],
     "language": "python",
     "metadata": {},
     "outputs": [],
     "prompt_number": 160
    },
    {
     "cell_type": "heading",
     "level": 2,
     "metadata": {},
     "source": [
      "Beowulf"
     ]
    },
    {
     "cell_type": "code",
     "collapsed": false,
     "input": [
      "print h1.distmod,h1.projected_to_physical(30*u.arcmin)"
     ],
     "language": "python",
     "metadata": {},
     "outputs": [
      {
       "output_type": "stream",
       "stream": "stdout",
       "text": [
        "33.0456834686 354.8003713 kpc\n"
       ]
      }
     ],
     "prompt_number": 48
    },
    {
     "cell_type": "code",
     "collapsed": false,
     "input": [
      "h1.usnob_environs_query(dl=True)"
     ],
     "language": "python",
     "metadata": {},
     "outputs": [
      {
       "output_type": "stream",
       "stream": "stdout",
       "text": [
        "File catalogs/Beowulf_usnob.dat exists - not downloading anything.\n"
       ]
      }
     ],
     "prompt_number": 49
    },
    {
     "cell_type": "code",
     "collapsed": false,
     "input": [
      "h1.sdss_environs_query(dl=True, inclphotzs=True)"
     ],
     "language": "python",
     "metadata": {},
     "outputs": [
      {
       "output_type": "stream",
       "stream": "stdout",
       "text": [
        "File catalogs/Beowulf_sdss.dat exists - not downloading anything.\n"
       ]
      }
     ],
     "prompt_number": 53
    },
    {
     "cell_type": "code",
     "collapsed": false,
     "input": [
      "fullcat = h1.get_sdss_catalog()"
     ],
     "language": "python",
     "metadata": {},
     "outputs": [],
     "prompt_number": 66
    },
    {
     "cell_type": "code",
     "collapsed": false,
     "input": [
      "# select faintlimit to get ~2 good pointings\n",
      "#fibermag/color cuts based on estimates from 2013Aug\n",
      "targetcatdct=dict(faintlimit=21, outercutrad=30*u.arcmin, colorcuts=targeting.bossanova_color_cuts, removegalsathighz=True, \n",
      "                  removeallsdss=False,galvsallcutoff=21)\n",
      "\n",
      "#!rm hydra_targets/Beowulf.cat\n",
      "targetcat=wiyn.construct_master_catalog(h1,targetcat=targetcatdct, fibermaglimit=22.5, orderby=['r','lowphotz']) "
     ],
     "language": "python",
     "metadata": {},
     "outputs": [
      {
       "output_type": "stream",
       "stream": "stdout",
       "text": [
        "rm: hydra_targets/Beowulf.cat: No such file or directory\r\n"
       ]
      },
      {
       "output_type": "stream",
       "stream": "stdout",
       "text": [
        "Removing 61 objects at high z, keeping 10 (total of 25693 objects)\n",
        "Fiber mag cut removes"
       ]
      },
      {
       "output_type": "stream",
       "stream": "stdout",
       "text": [
        " 115 of 1450 objects\n",
        "1335 objects\n",
        "65"
       ]
      },
      {
       "output_type": "stream",
       "stream": "stdout",
       "text": [
        " FOPS\n",
        "Found 197 objects at low photz, 1138 at high, and 0 without photz\n",
        "USNO/SDSS offsets:"
       ]
      },
      {
       "output_type": "stream",
       "stream": "stdout",
       "text": [
        " -0.0214077257681 0.313692650639\n",
        "Constucting catalog in hydra_targets/Beowulf.cat\n"
       ]
      }
     ],
     "prompt_number": 161
    },
    {
     "cell_type": "code",
     "collapsed": false,
     "input": [
      "plot(targetcat['r']);"
     ],
     "language": "python",
     "metadata": {},
     "outputs": [
      {
       "metadata": {},
       "output_type": "display_data",
       "png": "[encoded data removed]",
       "text": [
        "<matplotlib.figure.Figure at 0x113c5cad0>"
       ]
      }
     ],
     "prompt_number": 165
    },
    {
     "cell_type": "code",
     "collapsed": false,
     "input": [
      "plot(targetcat['photz']);"
     ],
     "language": "python",
     "metadata": {},
     "outputs": [
      {
       "metadata": {},
       "output_type": "display_data",
       "png": "[encoded data removed]",
       "text": [
        "<matplotlib.figure.Figure at 0x113c38e90>"
       ]
      }
     ],
     "prompt_number": 166
    },
    {
     "cell_type": "code",
     "collapsed": false,
     "input": [
      "#need to manually remove some galaxies from FOP list by editing the master catalog\n",
      "wiyn.imagelist_from_master('hydra_targets/{0}.cat'.format(h1.name),'fop', copytoclipboard=False, openurl=True);"
     ],
     "language": "python",
     "metadata": {},
     "outputs": [],
     "prompt_number": 177
    },
    {
     "cell_type": "code",
     "collapsed": false,
     "input": [
      "#repeat this as much as necessary to get all configs, running do_whydra on turtle each time\n",
      "wiyn.generate_ast_file('hydra_targets/{h1.name}.cat'.format(**locals()), \n",
      "                       lst=6,texp=2, faintmagcut=20, scpname='turtle')"
     ],
     "language": "python",
     "metadata": {},
     "outputs": [
      {
       "output_type": "stream",
       "stream": "stdout",
       "text": [
        "Using existing catalogs [] for removing from master\n",
        "Writing to hydra_targets/Beowulf_1.ast\n",
        "SCP commands:\n",
        "scp hydra_targets/Beowulf_1.ast turtle:/home/ejt26/hydra_simulator/whydra\n",
        "scp \"turtle:/home/ejt26/hydra_simulator/whydra/Beowulf_1.hydra\" hydra_targets\n"
       ]
      }
     ],
     "prompt_number": 173
    },
    {
     "cell_type": "code",
     "collapsed": false,
     "input": [
      "wiyn.generate_ast_file('hydra_targets/{h1.name}.cat'.format(**locals()), \n",
      "                       lst=8,texp=2, faintmagcut=20, scpname='turtle')"
     ],
     "language": "python",
     "metadata": {},
     "outputs": [
      {
       "output_type": "stream",
       "stream": "stdout",
       "text": [
        "Using existing catalogs ['hydra_targets/Beowulf_1.hydra'] for removing from master\n",
        "Writing to hydra_targets/Beowulf_2.ast\n",
        "SCP commands:\n",
        "scp hydra_targets/Beowulf_2.ast turtle:/home/ejt26/hydra_simulator/whydra\n",
        "scp \"turtle:/home/ejt26/hydra_simulator/whydra/Beowulf_2.hydra\" hydra_targets\n"
       ]
      }
     ],
     "prompt_number": 174
    },
    {
     "cell_type": "code",
     "collapsed": false,
     "input": [
      "wiyn.generate_ast_file('hydra_targets/{h1.name}.cat'.format(**locals()), \n",
      "                       lst=10,texp=2, faintmagcut=20, scpname='turtle')"
     ],
     "language": "python",
     "metadata": {},
     "outputs": [
      {
       "output_type": "stream",
       "stream": "stdout",
       "text": [
        "Using existing catalogs ['hydra_targets/Beowulf_1.hydra', 'hydra_targets/Beowulf_2.hydra', 'hydra_targets/Beowulf_3.hydra'] for removing from master\n",
        "Writing to hydra_targets/Beowulf_4.ast\n",
        "SCP commands:\n",
        "scp hydra_targets/Beowulf_4.ast turtle:/home/ejt26/hydra_simulator/whydra\n",
        "scp \"turtle:/home/ejt26/hydra_simulator/whydra/Beowulf_4.hydra\" hydra_targets\n"
       ]
      }
     ],
     "prompt_number": 176
    },
    {
     "cell_type": "code",
     "collapsed": false,
     "input": [
      "wiyn.generate_ast_file('hydra_targets/{h1.name}.cat'.format(**locals()), \n",
      "                       lst=10,texp=2, faintmagcut=20, scpname='turtle')"
     ],
     "language": "python",
     "metadata": {},
     "outputs": [
      {
       "output_type": "stream",
       "stream": "stdout",
       "text": [
        "Using existing catalogs ['hydra_targets/Beowulf_1.hydra', 'hydra_targets/Beowulf_2.hydra', 'hydra_targets/Beowulf_3.hydra', 'hydra_targets/Beowulf_4.hydra'] for removing from master\n",
        "Writing to hydra_targets/Beowulf_5.ast\n",
        "SCP commands:\n",
        "scp hydra_targets/Beowulf_5.ast turtle:/home/ejt26/hydra_simulator/whydra\n",
        "scp \"turtle:/home/ejt26/hydra_simulator/whydra/Beowulf_5.hydra\" hydra_targets\n"
       ]
      }
     ],
     "prompt_number": 180
    },
    {
     "cell_type": "code",
     "collapsed": false,
     "input": [
      "wiyn.generate_ast_file('hydra_targets/{h1.name}.cat'.format(**locals()), \n",
      "                       lst=10,texp=2, faintmagcut=20, scpname='turtle')"
     ],
     "language": "python",
     "metadata": {},
     "outputs": [
      {
       "output_type": "stream",
       "stream": "stdout",
       "text": [
        "Using existing catalogs ['hydra_targets/Beowulf_1.hydra', 'hydra_targets/Beowulf_2.hydra', 'hydra_targets/Beowulf_3.hydra', 'hydra_targets/Beowulf_4.hydra', 'hydra_targets/Beowulf_5.hydra'] for removing from master\n",
        "Writing to hydra_targets/Beowulf_6.ast\n",
        "SCP commands:\n",
        "scp hydra_targets/Beowulf_6.ast turtle:/home/ejt26/hydra_simulator/whydra\n",
        "scp \"turtle:/home/ejt26/hydra_simulator/whydra/Beowulf_6.hydra\" hydra_targets\n"
       ]
      }
     ],
     "prompt_number": 181
    },
    {
     "cell_type": "code",
     "collapsed": false,
     "input": [
      "wiyn.generate_ast_file('hydra_targets/{h1.name}.cat'.format(**locals()), \n",
      "                       lst=12,texp=2, faintmagcut=20, scpname='turtle')"
     ],
     "language": "python",
     "metadata": {},
     "outputs": [
      {
       "output_type": "stream",
       "stream": "stdout",
       "text": [
        "Using existing catalogs ['hydra_targets/Beowulf_1.hydra', 'hydra_targets/Beowulf_2.hydra', 'hydra_targets/Beowulf_3.hydra', 'hydra_targets/Beowulf_4.hydra', 'hydra_targets/Beowulf_5.hydra', 'hydra_targets/Beowulf_6.hydra'] for removing from master\n",
        "Writing to hydra_targets/Beowulf_7.ast\n",
        "SCP commands:\n",
        "scp hydra_targets/Beowulf_7.ast turtle:/home/ejt26/hydra_simulator/whydra\n",
        "scp \"turtle:/home/ejt26/hydra_simulator/whydra/Beowulf_7.hydra\" hydra_targets\n"
       ]
      }
     ],
     "prompt_number": 185
    },
    {
     "cell_type": "code",
     "collapsed": false,
     "input": [
      "#now switch to 21\n",
      "wiyn.generate_ast_file('hydra_targets/{h1.name}.cat'.format(**locals()), \n",
      "                       lst=12,texp=2, faintmagcut=21, scpname='turtle',finame='Beowulf_%i-to21')"
     ],
     "language": "python",
     "metadata": {},
     "outputs": [
      {
       "output_type": "stream",
       "stream": "stdout",
       "text": [
        "Using existing catalogs ['hydra_targets/Beowulf_1.hydra', 'hydra_targets/Beowulf_2.hydra', 'hydra_targets/Beowulf_3.hydra', 'hydra_targets/Beowulf_4.hydra', 'hydra_targets/Beowulf_5.hydra', 'hydra_targets/Beowulf_6.hydra', 'hydra_targets/Beowulf_7.hydra'] for removing from master\n",
        "Writing to hydra_targets/Beowulf_8-to21.ast\n",
        "SCP commands:\n",
        "scp hydra_targets/Beowulf_8-to21.ast turtle:/home/ejt26/hydra_simulator/whydra\n",
        "scp \"turtle:/home/ejt26/hydra_simulator/whydra/Beowulf_8-to21.hydra\" hydra_targets\n"
       ]
      }
     ],
     "prompt_number": 192
    },
    {
     "cell_type": "code",
     "collapsed": false,
     "input": [
      "wiyn.generate_ast_file('hydra_targets/{h1.name}.cat'.format(**locals()), \n",
      "                       lst=12,texp=2, faintmagcut=21, scpname='turtle',finame='Beowulf_%i-to21')"
     ],
     "language": "python",
     "metadata": {},
     "outputs": [
      {
       "output_type": "stream",
       "stream": "stdout",
       "text": [
        "Using existing catalogs ['hydra_targets/Beowulf_1.hydra', 'hydra_targets/Beowulf_2.hydra', 'hydra_targets/Beowulf_3.hydra', 'hydra_targets/Beowulf_4.hydra', 'hydra_targets/Beowulf_5.hydra', 'hydra_targets/Beowulf_6.hydra', 'hydra_targets/Beowulf_7.hydra', 'hydra_targets/Beowulf_8-to21.hydra'] for removing from master\n",
        "Writing to hydra_targets/Beowulf_9-to21.ast\n",
        "SCP commands:\n",
        "scp hydra_targets/Beowulf_9-to21.ast turtle:/home/ejt26/hydra_simulator/whydra\n",
        "scp \"turtle:/home/ejt26/hydra_simulator/whydra/Beowulf_9-to21.hydra\" hydra_targets\n"
       ]
      }
     ],
     "prompt_number": 193
    },
    {
     "cell_type": "code",
     "collapsed": false,
     "input": [
      "wiyn.generate_ast_file('hydra_targets/{h1.name}.cat'.format(**locals()), \n",
      "                       lst=12,texp=2, faintmagcut=21, scpname='turtle',finame='Beowulf_%i-to21')"
     ],
     "language": "python",
     "metadata": {},
     "outputs": [
      {
       "output_type": "stream",
       "stream": "stdout",
       "text": [
        "Using existing catalogs ['hydra_targets/Beowulf_1.hydra', 'hydra_targets/Beowulf_2.hydra', 'hydra_targets/Beowulf_3.hydra', 'hydra_targets/Beowulf_4.hydra', 'hydra_targets/Beowulf_5.hydra', 'hydra_targets/Beowulf_6.hydra', 'hydra_targets/Beowulf_7.hydra', 'hydra_targets/Beowulf_8-to21.hydra', 'hydra_targets/Beowulf_9-to21.hydra'] for removing from master\n",
        "Writing to hydra_targets/Beowulf_10-to21.ast\n",
        "SCP commands:\n",
        "scp hydra_targets/Beowulf_10-to21.ast turtle:/home/ejt26/hydra_simulator/whydra\n",
        "scp \"turtle:/home/ejt26/hydra_simulator/whydra/Beowulf_10-to21.hydra\" hydra_targets\n"
       ]
      }
     ],
     "prompt_number": 194
    },
    {
     "cell_type": "code",
     "collapsed": false,
     "input": [
      "wiyn.generate_ast_file('hydra_targets/{h1.name}.cat'.format(**locals()), \n",
      "                       lst=12,texp=2, faintmagcut=21, scpname='turtle',finame='Beowulf_%i-to21')"
     ],
     "language": "python",
     "metadata": {},
     "outputs": [
      {
       "output_type": "stream",
       "stream": "stdout",
       "text": [
        "Using existing catalogs ['hydra_targets/Beowulf_1.hydra', 'hydra_targets/Beowulf_10-to21.hydra', 'hydra_targets/Beowulf_2.hydra', 'hydra_targets/Beowulf_3.hydra', 'hydra_targets/Beowulf_4.hydra', 'hydra_targets/Beowulf_5.hydra', 'hydra_targets/Beowulf_6.hydra', 'hydra_targets/Beowulf_7.hydra', 'hydra_targets/Beowulf_8-to21.hydra', 'hydra_targets/Beowulf_9-to21.hydra'] for removing from master\n",
        "Writing to hydra_targets/Beowulf_11-to21.ast\n",
        "SCP commands:\n",
        "scp hydra_targets/Beowulf_11-to21.ast turtle:/home/ejt26/hydra_simulator/whydra\n",
        "scp \"turtle:/home/ejt26/hydra_simulator/whydra/Beowulf_11-to21.hydra\" hydra_targets\n"
       ]
      }
     ],
     "prompt_number": 195
    },
    {
     "cell_type": "code",
     "collapsed": false,
     "input": [
      "wiyn.generate_ast_file('hydra_targets/{h1.name}.cat'.format(**locals()), \n",
      "                       lst=12,texp=2, faintmagcut=21, scpname='turtle',finame='Beowulf_%i-to21')"
     ],
     "language": "python",
     "metadata": {},
     "outputs": [
      {
       "output_type": "stream",
       "stream": "stdout",
       "text": [
        "Using existing catalogs ['hydra_targets/Beowulf_1.hydra', 'hydra_targets/Beowulf_10-to21.hydra', 'hydra_targets/Beowulf_11-to21.hydra', 'hydra_targets/Beowulf_2.hydra', 'hydra_targets/Beowulf_3.hydra', 'hydra_targets/Beowulf_4.hydra', 'hydra_targets/Beowulf_5.hydra', 'hydra_targets/Beowulf_6.hydra', 'hydra_targets/Beowulf_7.hydra', 'hydra_targets/Beowulf_8-to21.hydra', 'hydra_targets/Beowulf_9-to21.hydra'] for removing from master\n",
        "Writing to hydra_targets/Beowulf_12-to21.ast\n",
        "SCP commands:\n",
        "scp hydra_targets/Beowulf_12-to21.ast turtle:/home/ejt26/hydra_simulator/whydra\n",
        "scp \"turtle:/home/ejt26/hydra_simulator/whydra/Beowulf_12-to21.hydra\" hydra_targets\n"
       ]
      }
     ],
     "prompt_number": 196
    },
    {
     "cell_type": "code",
     "collapsed": false,
     "input": [
      "wiyn.imagelist_fibers('hydra_targets/Beowulf_12-to21.hydra','target');"
     ],
     "language": "python",
     "metadata": {},
     "outputs": [],
     "prompt_number": 198
    },
    {
     "cell_type": "heading",
     "level": 2,
     "metadata": {},
     "source": [
      "Star Wars"
     ]
    },
    {
     "cell_type": "code",
     "collapsed": false,
     "input": [],
     "language": "python",
     "metadata": {},
     "outputs": []
    },
    {
     "cell_type": "code",
     "collapsed": false,
     "input": [],
     "language": "python",
     "metadata": {},
     "outputs": []
    },
    {
     "cell_type": "code",
     "collapsed": false,
     "input": [
      "#repeat this to make 3 *more* configs, but with a fainter limit, running do_whydra on turtle each time\n",
      "wiyn.generate_ast_file('hydra_targets/{h.name}.cat'.format(**locals()), \n",
      "                       lst=11,texp=2, faintmagcut=21, scpname='turtle')"
     ],
     "language": "python",
     "metadata": {},
     "outputs": [
      {
       "output_type": "stream",
       "stream": "stdout",
       "text": [
        "Using existing catalogs ['hydra_targets/NGC5485_1.hydra', 'hydra_targets/NGC5485_2.hydra', 'hydra_targets/NGC5485_3.hydra', 'hydra_targets/NGC5485_4.hydra', 'hydra_targets/NGC5485_5.hydra'] for removing from master\n",
        "Writing to hydra_targets/NGC5485_6.ast\n",
        "SCP commands:\n",
        "scp hydra_targets/NGC5485_6.ast turtle:/home/ejt26/hydra_simulator/whydra\n",
        "scp \"turtle:/home/ejt26/hydra_simulator/whydra/NGC5485_6.hydra\" hydra_targets\n"
       ]
      }
     ],
     "prompt_number": 205
    },
    {
     "cell_type": "code",
     "collapsed": false,
     "input": [],
     "language": "python",
     "metadata": {},
     "outputs": []
    },
    {
     "cell_type": "code",
     "collapsed": false,
     "input": [],
     "language": "python",
     "metadata": {},
     "outputs": []
    },
    {
     "cell_type": "code",
     "collapsed": false,
     "input": [],
     "language": "python",
     "metadata": {},
     "outputs": []
    },
    {
     "cell_type": "code",
     "collapsed": false,
     "input": [],
     "language": "python",
     "metadata": {},
     "outputs": []
    },
    {
     "cell_type": "code",
     "collapsed": false,
     "input": [],
     "language": "python",
     "metadata": {},
     "outputs": []
    },
    {
     "cell_type": "code",
     "collapsed": false,
     "input": [],
     "language": "python",
     "metadata": {},
     "outputs": []
    },
    {
     "cell_type": "code",
     "collapsed": false,
     "input": [
      "wiyn.generate_wiyn_cache('hydra_targets/feb2014.cachelist', \n",
      "                         ['hydra_targets/Beowulf*.hydra', 'hydra_targets/NGC5485_*.hydra', 'hydra_targets/StarWars_*.hydra'])"
     ],
     "language": "python",
     "metadata": {},
     "outputs": [],
     "prompt_number": 201
    },
    {
     "cell_type": "code",
     "collapsed": false,
     "input": [],
     "language": "python",
     "metadata": {},
     "outputs": []
    }
   ],
   "metadata": {}
  }
 ]
}