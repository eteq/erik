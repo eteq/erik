{
 "cells": [
  {
   "cell_type": "code",
   "execution_count": 1,
   "metadata": {},
   "outputs": [],
   "source": [
    "import os\n",
    "import sys\n",
    "\n",
    "import requests\n",
    "\n",
    "import numpy as np\n",
    "\n",
    "from astropy import units as u\n",
    "from astropy import table\n",
    "from astropy.coordinates import SkyCoord, EarthLocation, get_sun\n",
    "from astropy.time import Time\n",
    "from astropy.io import fits\n",
    "\n",
    "%matplotlib inline\n",
    "from matplotlib import style, pyplot as plt"
   ]
  },
  {
   "cell_type": "markdown",
   "metadata": {},
   "source": [
    "Most of the initial steps are in 2018Oct-AAT"
   ]
  },
  {
   "cell_type": "markdown",
   "metadata": {},
   "source": [
    "# Initial imports/initialization of SAGA objects "
   ]
  },
  {
   "cell_type": "code",
   "execution_count": 2,
   "metadata": {},
   "outputs": [
    {
     "name": "stdout",
     "output_type": "stream",
     "text": [
      "/Users/erik/projects/saga/saga\n",
      "running build\n",
      "running build_py\n",
      "copying SAGA/observing/__init__.py -> build/lib/SAGA/observing\n",
      "copying SAGA/observing/aat.py -> build/lib/SAGA/observing\n",
      "/Users/erik/projects/saga/erik\n"
     ]
    }
   ],
   "source": [
    "working_dir = os.path.abspath('..')\n",
    "\n",
    "%cd ../../saga\n",
    "sagadir = !pwd\n",
    "sagadir = sagadir[0]\n",
    "!python setup.py build\n",
    "%cd $working_dir"
   ]
  },
  {
   "cell_type": "code",
   "execution_count": 3,
   "metadata": {},
   "outputs": [
    {
     "name": "stdout",
     "output_type": "stream",
     "text": [
      "Adding /Users/erik/projects/saga/saga/build/lib to the python path\n"
     ]
    },
    {
     "data": {
      "text/plain": [
       "'0.10.10'"
      ]
     },
     "execution_count": 3,
     "metadata": {},
     "output_type": "execute_result"
    }
   ],
   "source": [
    "sagalibdir = os.path.join(sagadir, 'build/lib')\n",
    "print('Adding', sagalibdir, 'to the python path')\n",
    "sys.path.insert(0, sagalibdir)\n",
    "\n",
    "import SAGA as saga\n",
    "saga.__version__"
   ]
  },
  {
   "cell_type": "code",
   "execution_count": 4,
   "metadata": {},
   "outputs": [
    {
     "name": "stdout",
     "output_type": "stream",
     "text": [
      "Downloading https://docs.google.com/spreadsheets/d/1b3k2eyFjHFDtmHce1xi6JKuj3ATOWYduTBFftx5oPp8/export?format=csv&gid=1471095077 [Done]\n",
      "Downloading https://docs.google.com/spreadsheets/d/1Z8HISgp6ScJ0YZiFK5_TrGDZXY9t2OL3hkCSFJUiC6w/export?format=csv&gid=478933689 [Done]\n",
      "Downloading https://docs.google.com/spreadsheets/d/1Y3nO7VyU4jDiBPawCs8wJQt2s_PIAKRj-HSrmcWeQZo/export?format=csv&gid=1379081675 [Done]\n",
      "Downloading https://docs.google.com/spreadsheets/d/1Y3nO7VyU4jDiBPawCs8wJQt2s_PIAKRj-HSrmcWeQZo/export?format=csv&gid=124397139 [Done]\n",
      "Downloading https://docs.google.com/spreadsheets/d/1Y3nO7VyU4jDiBPawCs8wJQt2s_PIAKRj-HSrmcWeQZo/export?format=csv&gid=1574060112 [Done]\n"
     ]
    }
   ],
   "source": [
    "saga_database = saga.Database(os.path.join(os.environ['HOME'],'Dropbox/SAGA/'))\n",
    "\n",
    "saga_host_catalog = saga.HostCatalog(saga_database)\n",
    "saga_object_catalog = saga.ObjectCatalog(saga_database)\n",
    "saga_targets = saga.TargetSelection(saga_database, manual_selected_objids='manual_targets_aat2018b')#,\n",
    "                                    #assign_targeting_score_kwargs=dict(ignore_specs=True))"
   ]
  },
  {
   "cell_type": "code",
   "execution_count": 5,
   "metadata": {},
   "outputs": [],
   "source": [
    "hosts_to_load = 'aat_2018b'\n",
    "host_id_label = 'ID_STR'\n",
    "targethosts = saga_host_catalog.load(hosts_to_load)\n",
    "targethosts[host_id_label] = saga_host_catalog.resolve_id(hosts_to_load, 'string')\n",
    "\n",
    "\n",
    "# used below to save generated catalogs\n",
    "acats = {}\n",
    "tcats = {}"
   ]
  },
  {
   "cell_type": "code",
   "execution_count": 6,
   "metadata": {},
   "outputs": [],
   "source": [
    "# helper scripts for AAT\n",
    "\n",
    "from SAGA.observing import (get_gaia_guidestars, get_sdss_guidestars, \n",
    "                            subsample_catalog, write_fld_file, \n",
    "                            make_decals_viewer_cutouts, \n",
    "                            make_des_cutouts_file, show_des_cutouts)"
   ]
  },
  {
   "cell_type": "markdown",
   "metadata": {},
   "source": [
    "# Configuration File-Generation Templates "
   ]
  },
  {
   "cell_type": "markdown",
   "metadata": {},
   "source": [
    "## nsaxxxx"
   ]
  },
  {
   "cell_type": "code",
   "execution_count": null,
   "metadata": {},
   "outputs": [],
   "source": [
    "idnum = xxxx\n",
    "fieldnum = NN\n",
    "\n",
    "saga_object_catalog.build_and_write_to_database('NSA{}'.format(idnum), overwrite=fieldnum>1)"
   ]
  },
  {
   "cell_type": "code",
   "execution_count": null,
   "metadata": {},
   "outputs": [],
   "source": [
    "host = targethosts[targethosts['NSAID'] == idnum]\n",
    "assert len(host) == 1\n",
    "host = host[0]\n",
    "\n",
    "hostname = host[host_id_label]\n",
    "print(hostname)\n",
    "print(SkyCoord(host['RA'], host['Dec'], unit=u.deg).to_string('hmsdms'))\n",
    "\n",
    "tcats[hostname] = tcat = saga_targets.build_target_catalogs(hostname, return_as='list', reload_base=True).pop()\n",
    "acats[hostname] = acat = saga.targets.prepare_aat_catalog(tcat, sky_fiber_needed=100)\n",
    "\n",
    "guidestars = get_sdss_guidestars(hostname)\n",
    "writecat = table.vstack([acat, guidestars])\n",
    "writecat['Notes'] = [n.title() for n in writecat['Notes']]\n",
    "len(writecat)"
   ]
  },
  {
   "cell_type": "code",
   "execution_count": null,
   "metadata": {},
   "outputs": [],
   "source": [
    "make_decals_viewer_cutouts(guidestars[np.random.permutation(len(guidestars))], \n",
    "                           survey='sdss',ncols=6,namecol='TargetName')"
   ]
  },
  {
   "cell_type": "code",
   "execution_count": null,
   "metadata": {},
   "outputs": [],
   "source": [
    "guides_to_rem = [int(i) for i in 'nnnn nnn nnnn'.split()]\n",
    "writecat.remove_rows((writecat['Notes']=='Guide')&(np.in1d(writecat['TargetName'], guides_to_rem)))\n",
    "np.sum((writecat['Notes']=='Guide'))"
   ]
  },
  {
   "cell_type": "code",
   "execution_count": null,
   "metadata": {},
   "outputs": [],
   "source": [
    "make_decals_viewer_cutouts(acat[acat['Notes']=='sky'], survey='sdss', ncols=6, \n",
    "                           zoom=16, namecol='TargetName')"
   ]
  },
  {
   "cell_type": "code",
   "execution_count": null,
   "metadata": {},
   "outputs": [],
   "source": [
    "skys_to_rem = [int(i) for i in 'n n nn nn'.split()]\n",
    "writecat.remove_rows((writecat['Notes']=='Sky')&(np.in1d(writecat['TargetName'], skys_to_rem)))\n",
    "np.sum((writecat['Notes']=='Sky'))"
   ]
  },
  {
   "cell_type": "code",
   "execution_count": null,
   "metadata": {},
   "outputs": [],
   "source": [
    "tt = writecat['TargetName', 'TargetType']\n",
    "tt['TargetName'].name = 'OBJID'\n",
    "tt['idx'] = np.arange(len(tt))\n",
    "joined_cat = table.join(tt, tcat, join_type='left')\n",
    "joined_cat = joined_cat[np.argsort(joined_cat['idx'])]\n",
    "\n",
    "# edit 1:... to limit the number to something reasonable if necessary\n",
    "subsampledcat = subsample_catalog(writecat, {1:np.inf}, maxflux=5, maxguides=100, \n",
    "                                  favor_highpri=joined_cat['TARGETING_SCORE'])\n",
    "\n",
    "fldfn = 'aat_targets_oct2018/{}_{}.fld'.format(hostname, fieldnum)\n",
    "print('Writing', fldfn)\n",
    "write_fld_file(subsampledcat, host, obs_start_date, fldfn, suffix='_{}'.format(fieldnum))\n",
    "np.sum(subsampledcat['Notes'] == 'Targets')"
   ]
  },
  {
   "cell_type": "code",
   "execution_count": null,
   "metadata": {},
   "outputs": [],
   "source": [
    "!scp $fldfn visitor8@aatlxh:~/octDD/"
   ]
  },
  {
   "cell_type": "markdown",
   "metadata": {},
   "source": [
    "## pgcxxxx"
   ]
  },
  {
   "cell_type": "code",
   "execution_count": null,
   "metadata": {},
   "outputs": [],
   "source": [
    "idnum = xxxx\n",
    "fieldnum = NN\n",
    "\n",
    "saga_object_catalog.build_and_write_to_database('pgc{}'.format(idnum), overwrite=fieldnum>1)"
   ]
  },
  {
   "cell_type": "code",
   "execution_count": null,
   "metadata": {},
   "outputs": [],
   "source": [
    "host = targethosts[targethosts['PGC'] == idnum]\n",
    "assert len(host) == 1\n",
    "host = host[0]\n",
    "\n",
    "hostname = host[host_id_label]\n",
    "print(hostname)\n",
    "print(SkyCoord(host['RA'], host['Dec'], unit=u.deg).to_string('hmsdms'))\n",
    "\n",
    "tcats[hostname] = tcat = saga_targets.build_target_catalogs(hostname, return_as='list', reload_base=True).pop()\n",
    "acats[hostname] = acat = saga.targets.prepare_aat_catalog(tcat, sky_fiber_needed=100)\n",
    "\n",
    "guidestars = get_gaia_guidestars(hostname, saga_host_catalog, saga_object_catalog)\n",
    "writecat = table.vstack([acat, guidestars])\n",
    "writecat['Notes'] = [n.title() for n in writecat['Notes']]\n",
    "len(writecat)"
   ]
  },
  {
   "cell_type": "code",
   "execution_count": null,
   "metadata": {},
   "outputs": [],
   "source": [
    "# only need to remove if something really fishy is going on\n",
    "make_decals_viewer_cutouts(guidestars[np.random.permutation(len(guidestars))[:24]], \n",
    "                           survey='unwise-w1w2',ncols=6,namecol='TargetName', zoom=17)"
   ]
  },
  {
   "cell_type": "code",
   "execution_count": null,
   "metadata": {},
   "outputs": [],
   "source": [
    "#The commented part below is only necessary if the decals viewer is broken but the targets are in DES\n",
    "# make_des_cutouts_file(acat[acat['Notes']=='sky'])\n",
    "# show_des_cutouts(acat[acat['Notes']=='sky'], <'JOBNAME'>, ncols=8, namecol='TargetName')\n",
    "\n",
    "make_decals_viewer_cutouts(acat[acat['Notes']=='sky'], survey='des-dr1', namecol='TargetName',\n",
    "                           ncols=8, zoom=15, size=120)"
   ]
  },
  {
   "cell_type": "code",
   "execution_count": null,
   "metadata": {},
   "outputs": [],
   "source": [
    "skys_to_rem = [int(i) for i in <'n n nn'>.split()]\n",
    "writecat.remove_rows((writecat['Notes']=='Sky')&(np.in1d(writecat['TargetName'], skys_to_rem)))\n",
    "np.sum((writecat['Notes']=='Sky'))"
   ]
  },
  {
   "cell_type": "code",
   "execution_count": null,
   "metadata": {},
   "outputs": [],
   "source": [
    "tt = writecat['TargetName', 'TargetType']\n",
    "tt['TargetName'].name = 'OBJID'\n",
    "tt['idx'] = np.arange(len(tt))\n",
    "joined_cat = table.join(tt, tcat, join_type='left')\n",
    "joined_cat = joined_cat[np.argsort(joined_cat['idx'])]\n",
    "\n",
    "# edit 1:... to limit the number to something reasonable if necessary\n",
    "subsampledcat = subsample_catalog(writecat, {1:np.inf}, maxflux=5, maxguides=100, \n",
    "                                  favor_highpri=joined_cat['TARGETING_SCORE'])\n",
    "\n",
    "fldfn = 'aat_targets_oct2018/{}_{}.fld'.format(hostname, fieldnum)\n",
    "print('Writing', fldfn)\n",
    "write_fld_file(subsampledcat, host, obs_start_date, fldfn, suffix='_{}'.format(fieldnum))\n",
    "np.sum(subsampledcat['Notes'] == 'Targets')"
   ]
  },
  {
   "cell_type": "code",
   "execution_count": null,
   "metadata": {},
   "outputs": [],
   "source": [
    "!scp $fldfn visitor8@aatlxh:~/octDD/"
   ]
  },
  {
   "cell_type": "markdown",
   "metadata": {},
   "source": [
    "# Night 3"
   ]
  },
  {
   "cell_type": "code",
   "execution_count": 7,
   "metadata": {},
   "outputs": [],
   "source": [
    "import aat\n",
    "\n",
    "obs_start_date = Time('2018-8-5') "
   ]
  },
  {
   "cell_type": "markdown",
   "metadata": {},
   "source": [
    "## pgc67663"
   ]
  },
  {
   "cell_type": "code",
   "execution_count": 8,
   "metadata": {},
   "outputs": [
    {
     "name": "stdout",
     "output_type": "stream",
     "text": [
      "Downloading https://docs.google.com/spreadsheets/d/1Y3nO7VyU4jDiBPawCs8wJQt2s_PIAKRj-HSrmcWeQZo/export?format=csv&gid=286645731 [Done]\n",
      "Downloading https://docs.google.com/spreadsheets/d/1Y3nO7VyU4jDiBPawCs8wJQt2s_PIAKRj-HSrmcWeQZo/export?format=csv&gid=797095192 [Done]\n",
      "Downloading https://docs.google.com/spreadsheets/d/1Y3nO7VyU4jDiBPawCs8wJQt2s_PIAKRj-HSrmcWeQZo/export?format=csv&gid=1549289503 [Done]\n",
      "[10/05 15:25:41] [WARNING] Not found: SDSS catalog for pgc67663.\n",
      "[10/05 15:25:41] [WARNING] Not found: DECALS catalog for pgc67663.\n",
      "[10/05 15:25:41] Use DES to build base catalog v2 for pgc67663 (1/1)\n"
     ]
    },
    {
     "name": "stderr",
     "output_type": "stream",
     "text": [
      "WARNING:root:No kcorrect module. Stellar mass not calculated!\n"
     ]
    },
    {
     "name": "stdout",
     "output_type": "stream",
     "text": [
      "[10/05 15:26:04] Write base catalog to ./base_catalogs/base_v2_pgc67663.fits.gz\n"
     ]
    }
   ],
   "source": [
    "idnum = 67663\n",
    "fieldnum = 2  # 1 was done in a previous run\n",
    "\n",
    "saga_object_catalog.build_and_write_to_database('pgc{}'.format(idnum), overwrite=fieldnum>2)"
   ]
  },
  {
   "cell_type": "code",
   "execution_count": 23,
   "metadata": {},
   "outputs": [
    {
     "name": "stdout",
     "output_type": "stream",
     "text": [
      "pgc67663\n",
      "21h56m09.6s -49d31m19.2s\n",
      "# of flux stars = 207\n",
      "# of sky fibers = 100\n",
      "# of Priority=1 targets = 785\n",
      "# of Priority=2 targets = 130\n",
      "# of Priority=3 targets = 29\n",
      "# of Priority=4 targets = 50\n",
      "# of Priority=5 targets = 158\n",
      "# of Priority=6 targets = 102\n",
      "# of Priority=7 targets = 109\n",
      "# of Priority=8 targets = 11\n",
      "# of Priority=9 targets = 307\n",
      "Object catalog to Gaia offset: (<Angle -0.12399641 arcsec>, <Angle 0.14305041 arcsec>) from 1117 objects (22.2%)\n",
      "Found 187 Gaia guide stars\n",
      "63 Have a brightish neighbor.  Removing them.\n"
     ]
    },
    {
     "data": {
      "text/plain": [
       "1805"
      ]
     },
     "execution_count": 23,
     "metadata": {},
     "output_type": "execute_result"
    }
   ],
   "source": [
    "host = targethosts[targethosts['PGC'] == idnum]\n",
    "assert len(host) == 1\n",
    "host = host[0]\n",
    "\n",
    "hostname = host[host_id_label]\n",
    "print(hostname)\n",
    "print(SkyCoord(host['RA'], host['Dec'], unit=u.deg).to_string('hmsdms'))\n",
    "\n",
    "tcats[hostname] = tcat = saga_targets.build_target_catalogs(hostname, return_as='list', reload_base=True).pop()\n",
    "acats[hostname] = acat = saga.targets.prepare_aat_catalog(tcat, sky_fiber_needed=100)\n",
    "\n",
    "guidestars = get_gaia_guidestars(hostname, saga_host_catalog, saga_object_catalog)\n",
    "writecat = table.vstack([acat, guidestars])\n",
    "writecat['Notes'] = [n.title() for n in writecat['Notes']]\n",
    "len(writecat)"
   ]
  },
  {
   "cell_type": "code",
   "execution_count": 24,
   "metadata": {},
   "outputs": [
    {
     "data": {
      "text/html": [
       "\n",
       "    <table>\n",
       "    <tr><td>6559435790036322432<br><a href=\"http://legacysurvey.org/viewer?ra=327.79458784567174&dec=-48.98402653073479\"><img src=\"http://legacysurvey.org/viewer/jpeg-cutout/?ra=327.7946&dec=-48.98403&zoom=17&layer=unwise-w1w2&size=120\"></a></td><td>6559427440619902976<br><a href=\"http://legacysurvey.org/viewer?ra=327.6970793222548&dec=-49.15080017712962\"><img src=\"http://legacysurvey.org/viewer/jpeg-cutout/?ra=327.6971&dec=-49.1508&zoom=17&layer=unwise-w1w2&size=120\"></a></td><td>6560708990141953024<br><a href=\"http://legacysurvey.org/viewer?ra=329.23452290230153&dec=-48.99799453989059\"><img src=\"http://legacysurvey.org/viewer/jpeg-cutout/?ra=329.2345&dec=-48.99799&zoom=17&layer=unwise-w1w2&size=120\"></a></td><td>6558354931450820608<br><a href=\"http://legacysurvey.org/viewer?ra=329.7585050628589&dec=-50.11807510394139\"><img src=\"http://legacysurvey.org/viewer/jpeg-cutout/?ra=329.7585&dec=-50.11808&zoom=17&layer=unwise-w1w2&size=120\"></a></td><td>6558997802155435264<br><a href=\"http://legacysurvey.org/viewer?ra=328.80700891562594&dec=-50.24599796824587\"><img src=\"http://legacysurvey.org/viewer/jpeg-cutout/?ra=328.807&dec=-50.246&zoom=17&layer=unwise-w1w2&size=120\"></a></td><td>6559378752870600960<br><a href=\"http://legacysurvey.org/viewer?ra=328.22795938671777&dec=-49.25085952609552\"><img src=\"http://legacysurvey.org/viewer/jpeg-cutout/?ra=328.228&dec=-49.25086&zoom=17&layer=unwise-w1w2&size=120\"></a></td></tr>\n",
       "<tr><td>6559197191716574336<br><a href=\"http://legacysurvey.org/viewer?ra=328.88792194900617&dec=-49.325585825496326\"><img src=\"http://legacysurvey.org/viewer/jpeg-cutout/?ra=328.8879&dec=-49.32559&zoom=17&layer=unwise-w1w2&size=120\"></a></td><td>6559078380037754752<br><a href=\"http://legacysurvey.org/viewer?ra=329.30760810460345&dec=-50.21660038518002\"><img src=\"http://legacysurvey.org/viewer/jpeg-cutout/?ra=329.3076&dec=-50.2166&zoom=17&layer=unwise-w1w2&size=120\"></a></td><td>6560672908119653632<br><a href=\"http://legacysurvey.org/viewer?ra=329.88850088764735&dec=-49.038294758583504\"><img src=\"http://legacysurvey.org/viewer/jpeg-cutout/?ra=329.8885&dec=-49.03829&zoom=17&layer=unwise-w1w2&size=120\"></a></td><td>6559862228749567104<br><a href=\"http://legacysurvey.org/viewer?ra=330.55566068702296&dec=-49.5387340103425\"><img src=\"http://legacysurvey.org/viewer/jpeg-cutout/?ra=330.5557&dec=-49.53873&zoom=17&layer=unwise-w1w2&size=120\"></a></td><td>6559366555163475968<br><a href=\"http://legacysurvey.org/viewer?ra=328.28799885919847&dec=-49.316673115307715\"><img src=\"http://legacysurvey.org/viewer/jpeg-cutout/?ra=328.288&dec=-49.31667&zoom=17&layer=unwise-w1w2&size=120\"></a></td><td>6559138887537143808<br><a href=\"http://legacysurvey.org/viewer?ra=329.49114024459675&dec=-49.485394638395725\"><img src=\"http://legacysurvey.org/viewer/jpeg-cutout/?ra=329.4911&dec=-49.48539&zoom=17&layer=unwise-w1w2&size=120\"></a></td></tr>\n",
       "<tr><td>6560901920072537344<br><a href=\"http://legacysurvey.org/viewer?ra=328.8820712632832&dec=-48.79120524711427\"><img src=\"http://legacysurvey.org/viewer/jpeg-cutout/?ra=328.8821&dec=-48.79121&zoom=17&layer=unwise-w1w2&size=120\"></a></td><td>6559432354062474880<br><a href=\"http://legacysurvey.org/viewer?ra=327.9534767889801&dec=-48.98210742301617\"><img src=\"http://legacysurvey.org/viewer/jpeg-cutout/?ra=327.9535&dec=-48.98211&zoom=17&layer=unwise-w1w2&size=120\"></a></td><td>6559195443666525952<br><a href=\"http://legacysurvey.org/viewer?ra=328.8632482733847&dec=-49.39512714702857\"><img src=\"http://legacysurvey.org/viewer/jpeg-cutout/?ra=328.8632&dec=-49.39513&zoom=17&layer=unwise-w1w2&size=120\"></a></td><td>6560690362866747776<br><a href=\"http://legacysurvey.org/viewer?ra=329.38819795773094&dec=-49.21958351000936\"><img src=\"http://legacysurvey.org/viewer/jpeg-cutout/?ra=329.3882&dec=-49.21958&zoom=17&layer=unwise-w1w2&size=120\"></a></td><td>6559458467463704192<br><a href=\"http://legacysurvey.org/viewer?ra=328.1294305660795&dec=-48.815587657704114\"><img src=\"http://legacysurvey.org/viewer/jpeg-cutout/?ra=328.1294&dec=-48.81559&zoom=17&layer=unwise-w1w2&size=120\"></a></td><td>6560729739126905600<br><a href=\"http://legacysurvey.org/viewer?ra=329.58726162984544&dec=-48.70485185577456\"><img src=\"http://legacysurvey.org/viewer/jpeg-cutout/?ra=329.5873&dec=-48.70485&zoom=17&layer=unwise-w1w2&size=120\"></a></td></tr>\n",
       "<tr><td>6559178813553069440<br><a href=\"http://legacysurvey.org/viewer?ra=329.2157868439643&dec=-49.54512116227099\"><img src=\"http://legacysurvey.org/viewer/jpeg-cutout/?ra=329.2158&dec=-49.54512&zoom=17&layer=unwise-w1w2&size=120\"></a></td><td>6559165275816192640<br><a href=\"http://legacysurvey.org/viewer?ra=328.5226710371307&dec=-49.67687558871385\"><img src=\"http://legacysurvey.org/viewer/jpeg-cutout/?ra=328.5227&dec=-49.67688&zoom=17&layer=unwise-w1w2&size=120\"></a></td><td>6560914289578381696<br><a href=\"http://legacysurvey.org/viewer?ra=328.92107423668034&dec=-48.534211996526786\"><img src=\"http://legacysurvey.org/viewer/jpeg-cutout/?ra=328.9211&dec=-48.53421&zoom=17&layer=unwise-w1w2&size=120\"></a></td><td>6559264712899003392<br><a href=\"http://legacysurvey.org/viewer?ra=327.80059381837026&dec=-49.84246641092261\"><img src=\"http://legacysurvey.org/viewer/jpeg-cutout/?ra=327.8006&dec=-49.84247&zoom=17&layer=unwise-w1w2&size=120\"></a></td><td>6560726857205878656<br><a href=\"http://legacysurvey.org/viewer?ra=329.7358577297751&dec=-48.77443406211567\"><img src=\"http://legacysurvey.org/viewer/jpeg-cutout/?ra=329.7359&dec=-48.77443&zoom=17&layer=unwise-w1w2&size=120\"></a></td><td>6559266430886011648<br><a href=\"http://legacysurvey.org/viewer?ra=327.82178938020724&dec=-49.77559162766787\"><img src=\"http://legacysurvey.org/viewer/jpeg-cutout/?ra=327.8218&dec=-49.77559&zoom=17&layer=unwise-w1w2&size=120\"></a></td></tr>\n",
       "    </table>\n",
       "    "
      ],
      "text/plain": [
       "<IPython.core.display.HTML object>"
      ]
     },
     "execution_count": 24,
     "metadata": {},
     "output_type": "execute_result"
    }
   ],
   "source": [
    "# only need to remove if something really fishy is going on\n",
    "make_decals_viewer_cutouts(guidestars[np.random.permutation(len(guidestars))[:24]], \n",
    "                           survey='unwise-w1w2',ncols=6,namecol='TargetName', zoom=17)"
   ]
  },
  {
   "cell_type": "code",
   "execution_count": 25,
   "metadata": {},
   "outputs": [
    {
     "data": {
      "text/html": [
       "\n",
       "    <table>\n",
       "    <tr><td>0<br><a href=\"http://legacysurvey.org/viewer?ra=328.501243493813&dec=-50.47296433795388\"><img src=\"http://legacysurvey.org/viewer/jpeg-cutout/?ra=328.5012&dec=-50.47296&zoom=15&layer=des-dr1&size=120\"></a></td><td>1<br><a href=\"http://legacysurvey.org/viewer?ra=328.204314856219&dec=-49.34947702738768\"><img src=\"http://legacysurvey.org/viewer/jpeg-cutout/?ra=328.2043&dec=-49.34948&zoom=15&layer=des-dr1&size=120\"></a></td><td>2<br><a href=\"http://legacysurvey.org/viewer?ra=328.9736725953069&dec=-48.48033095594502\"><img src=\"http://legacysurvey.org/viewer/jpeg-cutout/?ra=328.9737&dec=-48.48033&zoom=15&layer=des-dr1&size=120\"></a></td><td>3<br><a href=\"http://legacysurvey.org/viewer?ra=328.10521319366745&dec=-49.86198510097345\"><img src=\"http://legacysurvey.org/viewer/jpeg-cutout/?ra=328.1052&dec=-49.86199&zoom=15&layer=des-dr1&size=120\"></a></td><td>4<br><a href=\"http://legacysurvey.org/viewer?ra=328.21545311119723&dec=-49.6606876308925\"><img src=\"http://legacysurvey.org/viewer/jpeg-cutout/?ra=328.2155&dec=-49.66069&zoom=15&layer=des-dr1&size=120\"></a></td><td>5<br><a href=\"http://legacysurvey.org/viewer?ra=329.75296318489336&dec=-49.81171933898812\"><img src=\"http://legacysurvey.org/viewer/jpeg-cutout/?ra=329.753&dec=-49.81172&zoom=15&layer=des-dr1&size=120\"></a></td><td>6<br><a href=\"http://legacysurvey.org/viewer?ra=328.5133383972335&dec=-50.48171780067626\"><img src=\"http://legacysurvey.org/viewer/jpeg-cutout/?ra=328.5133&dec=-50.48172&zoom=15&layer=des-dr1&size=120\"></a></td><td>7<br><a href=\"http://legacysurvey.org/viewer?ra=328.9548113238651&dec=-50.42648817825416\"><img src=\"http://legacysurvey.org/viewer/jpeg-cutout/?ra=328.9548&dec=-50.42649&zoom=15&layer=des-dr1&size=120\"></a></td></tr>\n",
       "<tr><td>8<br><a href=\"http://legacysurvey.org/viewer?ra=329.1394779593931&dec=-50.454017229861854\"><img src=\"http://legacysurvey.org/viewer/jpeg-cutout/?ra=329.1395&dec=-50.45402&zoom=15&layer=des-dr1&size=120\"></a></td><td>9<br><a href=\"http://legacysurvey.org/viewer?ra=328.47526142234636&dec=-50.39656172782918\"><img src=\"http://legacysurvey.org/viewer/jpeg-cutout/?ra=328.4753&dec=-50.39656&zoom=15&layer=des-dr1&size=120\"></a></td><td>10<br><a href=\"http://legacysurvey.org/viewer?ra=329.0688786935826&dec=-48.512048906319365\"><img src=\"http://legacysurvey.org/viewer/jpeg-cutout/?ra=329.0689&dec=-48.51205&zoom=15&layer=des-dr1&size=120\"></a></td><td>11<br><a href=\"http://legacysurvey.org/viewer?ra=329.4481702486225&dec=-50.18379682123036\"><img src=\"http://legacysurvey.org/viewer/jpeg-cutout/?ra=329.4482&dec=-50.1838&zoom=15&layer=des-dr1&size=120\"></a></td><td>12<br><a href=\"http://legacysurvey.org/viewer?ra=329.6970358190267&dec=-49.75535159453855\"><img src=\"http://legacysurvey.org/viewer/jpeg-cutout/?ra=329.697&dec=-49.75535&zoom=15&layer=des-dr1&size=120\"></a></td><td>13<br><a href=\"http://legacysurvey.org/viewer?ra=328.85273824944255&dec=-50.562737811813875\"><img src=\"http://legacysurvey.org/viewer/jpeg-cutout/?ra=328.8527&dec=-50.56274&zoom=15&layer=des-dr1&size=120\"></a></td><td>14<br><a href=\"http://legacysurvey.org/viewer?ra=329.6304133653811&dec=-48.771637252469475\"><img src=\"http://legacysurvey.org/viewer/jpeg-cutout/?ra=329.6304&dec=-48.77164&zoom=15&layer=des-dr1&size=120\"></a></td><td>15<br><a href=\"http://legacysurvey.org/viewer?ra=329.30570446591645&dec=-50.480126000749244\"><img src=\"http://legacysurvey.org/viewer/jpeg-cutout/?ra=329.3057&dec=-50.48013&zoom=15&layer=des-dr1&size=120\"></a></td></tr>\n",
       "<tr><td>16<br><a href=\"http://legacysurvey.org/viewer?ra=329.95557459847237&dec=-49.652211746657535\"><img src=\"http://legacysurvey.org/viewer/jpeg-cutout/?ra=329.9556&dec=-49.65221&zoom=15&layer=des-dr1&size=120\"></a></td><td>17<br><a href=\"http://legacysurvey.org/viewer?ra=329.8482432138561&dec=-49.72783388370071\"><img src=\"http://legacysurvey.org/viewer/jpeg-cutout/?ra=329.8482&dec=-49.72783&zoom=15&layer=des-dr1&size=120\"></a></td><td>18<br><a href=\"http://legacysurvey.org/viewer?ra=328.33243263123325&dec=-50.36201179659751\"><img src=\"http://legacysurvey.org/viewer/jpeg-cutout/?ra=328.3324&dec=-50.36201&zoom=15&layer=des-dr1&size=120\"></a></td><td>19<br><a href=\"http://legacysurvey.org/viewer?ra=328.5824450810196&dec=-50.148862829044056\"><img src=\"http://legacysurvey.org/viewer/jpeg-cutout/?ra=328.5824&dec=-50.14886&zoom=15&layer=des-dr1&size=120\"></a></td><td>20<br><a href=\"http://legacysurvey.org/viewer?ra=329.36185555207385&dec=-50.436058617945825\"><img src=\"http://legacysurvey.org/viewer/jpeg-cutout/?ra=329.3619&dec=-50.43606&zoom=15&layer=des-dr1&size=120\"></a></td><td>21<br><a href=\"http://legacysurvey.org/viewer?ra=328.96336208219213&dec=-50.44206339003897\"><img src=\"http://legacysurvey.org/viewer/jpeg-cutout/?ra=328.9634&dec=-50.44206&zoom=15&layer=des-dr1&size=120\"></a></td><td>22<br><a href=\"http://legacysurvey.org/viewer?ra=328.2553875335106&dec=-49.73988434772696\"><img src=\"http://legacysurvey.org/viewer/jpeg-cutout/?ra=328.2554&dec=-49.73988&zoom=15&layer=des-dr1&size=120\"></a></td><td>23<br><a href=\"http://legacysurvey.org/viewer?ra=329.02427532030714&dec=-48.47970335428254\"><img src=\"http://legacysurvey.org/viewer/jpeg-cutout/?ra=329.0243&dec=-48.4797&zoom=15&layer=des-dr1&size=120\"></a></td></tr>\n",
       "<tr><td>24<br><a href=\"http://legacysurvey.org/viewer?ra=329.6978974878286&dec=-49.27781521624814\"><img src=\"http://legacysurvey.org/viewer/jpeg-cutout/?ra=329.6979&dec=-49.27782&zoom=15&layer=des-dr1&size=120\"></a></td><td>25<br><a href=\"http://legacysurvey.org/viewer?ra=328.4203911810412&dec=-49.883814409053535\"><img src=\"http://legacysurvey.org/viewer/jpeg-cutout/?ra=328.4204&dec=-49.88381&zoom=15&layer=des-dr1&size=120\"></a></td><td>26<br><a href=\"http://legacysurvey.org/viewer?ra=328.8276391252249&dec=-50.126007948993276\"><img src=\"http://legacysurvey.org/viewer/jpeg-cutout/?ra=328.8276&dec=-50.12601&zoom=15&layer=des-dr1&size=120\"></a></td><td>27<br><a href=\"http://legacysurvey.org/viewer?ra=329.31694030722105&dec=-48.52390535963511\"><img src=\"http://legacysurvey.org/viewer/jpeg-cutout/?ra=329.3169&dec=-48.52391&zoom=15&layer=des-dr1&size=120\"></a></td><td>28<br><a href=\"http://legacysurvey.org/viewer?ra=328.8843989486366&dec=-48.5546953093607\"><img src=\"http://legacysurvey.org/viewer/jpeg-cutout/?ra=328.8844&dec=-48.5547&zoom=15&layer=des-dr1&size=120\"></a></td><td>29<br><a href=\"http://legacysurvey.org/viewer?ra=328.0022813853345&dec=-49.77139025453489\"><img src=\"http://legacysurvey.org/viewer/jpeg-cutout/?ra=328.0023&dec=-49.77139&zoom=15&layer=des-dr1&size=120\"></a></td><td>30<br><a href=\"http://legacysurvey.org/viewer?ra=329.3508750826583&dec=-50.09672387657202\"><img src=\"http://legacysurvey.org/viewer/jpeg-cutout/?ra=329.3509&dec=-50.09672&zoom=15&layer=des-dr1&size=120\"></a></td><td>31<br><a href=\"http://legacysurvey.org/viewer?ra=330.0565127912214&dec=-49.82598977521564\"><img src=\"http://legacysurvey.org/viewer/jpeg-cutout/?ra=330.0565&dec=-49.82599&zoom=15&layer=des-dr1&size=120\"></a></td></tr>\n",
       "<tr><td>32<br><a href=\"http://legacysurvey.org/viewer?ra=328.86305275154996&dec=-48.47687421978609\"><img src=\"http://legacysurvey.org/viewer/jpeg-cutout/?ra=328.8631&dec=-48.47687&zoom=15&layer=des-dr1&size=120\"></a></td><td>33<br><a href=\"http://legacysurvey.org/viewer?ra=328.14818902958734&dec=-49.469422744454974\"><img src=\"http://legacysurvey.org/viewer/jpeg-cutout/?ra=328.1482&dec=-49.46942&zoom=15&layer=des-dr1&size=120\"></a></td><td>34<br><a href=\"http://legacysurvey.org/viewer?ra=328.64684730602346&dec=-50.28188952922801\"><img src=\"http://legacysurvey.org/viewer/jpeg-cutout/?ra=328.6468&dec=-50.28189&zoom=15&layer=des-dr1&size=120\"></a></td><td>35<br><a href=\"http://legacysurvey.org/viewer?ra=328.47588965090284&dec=-48.773560993358814\"><img src=\"http://legacysurvey.org/viewer/jpeg-cutout/?ra=328.4759&dec=-48.77356&zoom=15&layer=des-dr1&size=120\"></a></td><td>36<br><a href=\"http://legacysurvey.org/viewer?ra=328.49274361186605&dec=-49.079296932228935\"><img src=\"http://legacysurvey.org/viewer/jpeg-cutout/?ra=328.4927&dec=-49.0793&zoom=15&layer=des-dr1&size=120\"></a></td><td>37<br><a href=\"http://legacysurvey.org/viewer?ra=328.31537200800136&dec=-50.3444560096651\"><img src=\"http://legacysurvey.org/viewer/jpeg-cutout/?ra=328.3154&dec=-50.34446&zoom=15&layer=des-dr1&size=120\"></a></td><td>38<br><a href=\"http://legacysurvey.org/viewer?ra=329.6706512778182&dec=-49.39890364727295\"><img src=\"http://legacysurvey.org/viewer/jpeg-cutout/?ra=329.6707&dec=-49.3989&zoom=15&layer=des-dr1&size=120\"></a></td><td>39<br><a href=\"http://legacysurvey.org/viewer?ra=329.89139906638115&dec=-49.25045594802147\"><img src=\"http://legacysurvey.org/viewer/jpeg-cutout/?ra=329.8914&dec=-49.25046&zoom=15&layer=des-dr1&size=120\"></a></td></tr>\n",
       "<tr><td>40<br><a href=\"http://legacysurvey.org/viewer?ra=329.55632158191383&dec=-48.57110686892952\"><img src=\"http://legacysurvey.org/viewer/jpeg-cutout/?ra=329.5563&dec=-48.57111&zoom=15&layer=des-dr1&size=120\"></a></td><td>41<br><a href=\"http://legacysurvey.org/viewer?ra=329.9269030447641&dec=-49.327848929882336\"><img src=\"http://legacysurvey.org/viewer/jpeg-cutout/?ra=329.9269&dec=-49.32785&zoom=15&layer=des-dr1&size=120\"></a></td><td>42<br><a href=\"http://legacysurvey.org/viewer?ra=329.37598343532244&dec=-48.885880027391664\"><img src=\"http://legacysurvey.org/viewer/jpeg-cutout/?ra=329.376&dec=-48.88588&zoom=15&layer=des-dr1&size=120\"></a></td><td>43<br><a href=\"http://legacysurvey.org/viewer?ra=330.0679703058213&dec=-49.65483111679998\"><img src=\"http://legacysurvey.org/viewer/jpeg-cutout/?ra=330.068&dec=-49.65483&zoom=15&layer=des-dr1&size=120\"></a></td><td>44<br><a href=\"http://legacysurvey.org/viewer?ra=328.5380039593684&dec=-50.21898124407409\"><img src=\"http://legacysurvey.org/viewer/jpeg-cutout/?ra=328.538&dec=-50.21898&zoom=15&layer=des-dr1&size=120\"></a></td><td>45<br><a href=\"http://legacysurvey.org/viewer?ra=328.5111741508039&dec=-48.67483636444492\"><img src=\"http://legacysurvey.org/viewer/jpeg-cutout/?ra=328.5112&dec=-48.67484&zoom=15&layer=des-dr1&size=120\"></a></td><td>46<br><a href=\"http://legacysurvey.org/viewer?ra=329.9929603325064&dec=-49.99171177180786\"><img src=\"http://legacysurvey.org/viewer/jpeg-cutout/?ra=329.993&dec=-49.99171&zoom=15&layer=des-dr1&size=120\"></a></td><td>47<br><a href=\"http://legacysurvey.org/viewer?ra=328.7287741485824&dec=-50.51725833683371\"><img src=\"http://legacysurvey.org/viewer/jpeg-cutout/?ra=328.7288&dec=-50.51726&zoom=15&layer=des-dr1&size=120\"></a></td></tr>\n",
       "<tr><td>48<br><a href=\"http://legacysurvey.org/viewer?ra=329.51351047282657&dec=-50.25231527786204\"><img src=\"http://legacysurvey.org/viewer/jpeg-cutout/?ra=329.5135&dec=-50.25232&zoom=15&layer=des-dr1&size=120\"></a></td><td>49<br><a href=\"http://legacysurvey.org/viewer?ra=329.8377375883008&dec=-49.70837285734163\"><img src=\"http://legacysurvey.org/viewer/jpeg-cutout/?ra=329.8377&dec=-49.70837&zoom=15&layer=des-dr1&size=120\"></a></td><td>50<br><a href=\"http://legacysurvey.org/viewer?ra=328.80780846261916&dec=-48.63777779131407\"><img src=\"http://legacysurvey.org/viewer/jpeg-cutout/?ra=328.8078&dec=-48.63778&zoom=15&layer=des-dr1&size=120\"></a></td><td>51<br><a href=\"http://legacysurvey.org/viewer?ra=328.72564391993916&dec=-48.48076763880613\"><img src=\"http://legacysurvey.org/viewer/jpeg-cutout/?ra=328.7256&dec=-48.48077&zoom=15&layer=des-dr1&size=120\"></a></td><td>52<br><a href=\"http://legacysurvey.org/viewer?ra=330.05514202742825&dec=-49.90151763833266\"><img src=\"http://legacysurvey.org/viewer/jpeg-cutout/?ra=330.0551&dec=-49.90152&zoom=15&layer=des-dr1&size=120\"></a></td><td>53<br><a href=\"http://legacysurvey.org/viewer?ra=328.43703506103645&dec=-50.427611903030694\"><img src=\"http://legacysurvey.org/viewer/jpeg-cutout/?ra=328.437&dec=-50.42761&zoom=15&layer=des-dr1&size=120\"></a></td><td>54<br><a href=\"http://legacysurvey.org/viewer?ra=328.381905913965&dec=-49.06582002043805\"><img src=\"http://legacysurvey.org/viewer/jpeg-cutout/?ra=328.3819&dec=-49.06582&zoom=15&layer=des-dr1&size=120\"></a></td><td>55<br><a href=\"http://legacysurvey.org/viewer?ra=329.00259923964325&dec=-50.23172046347237\"><img src=\"http://legacysurvey.org/viewer/jpeg-cutout/?ra=329.0026&dec=-50.23172&zoom=15&layer=des-dr1&size=120\"></a></td></tr>\n",
       "<tr><td>56<br><a href=\"http://legacysurvey.org/viewer?ra=328.6777945759203&dec=-50.5297095991782\"><img src=\"http://legacysurvey.org/viewer/jpeg-cutout/?ra=328.6778&dec=-50.52971&zoom=15&layer=des-dr1&size=120\"></a></td><td>57<br><a href=\"http://legacysurvey.org/viewer?ra=329.5003745412786&dec=-50.37863317974707\"><img src=\"http://legacysurvey.org/viewer/jpeg-cutout/?ra=329.5004&dec=-50.37863&zoom=15&layer=des-dr1&size=120\"></a></td><td>58<br><a href=\"http://legacysurvey.org/viewer?ra=328.0022812077552&dec=-49.77807338480105\"><img src=\"http://legacysurvey.org/viewer/jpeg-cutout/?ra=328.0023&dec=-49.77807&zoom=15&layer=des-dr1&size=120\"></a></td><td>59<br><a href=\"http://legacysurvey.org/viewer?ra=329.27077887055464&dec=-50.47024657937272\"><img src=\"http://legacysurvey.org/viewer/jpeg-cutout/?ra=329.2708&dec=-50.47025&zoom=15&layer=des-dr1&size=120\"></a></td><td>60<br><a href=\"http://legacysurvey.org/viewer?ra=329.2141134708597&dec=-50.313916229149406\"><img src=\"http://legacysurvey.org/viewer/jpeg-cutout/?ra=329.2141&dec=-50.31392&zoom=15&layer=des-dr1&size=120\"></a></td><td>61<br><a href=\"http://legacysurvey.org/viewer?ra=329.2277202722213&dec=-48.49208982861314\"><img src=\"http://legacysurvey.org/viewer/jpeg-cutout/?ra=329.2277&dec=-48.49209&zoom=15&layer=des-dr1&size=120\"></a></td><td>62<br><a href=\"http://legacysurvey.org/viewer?ra=329.31585186928027&dec=-50.561285552306934\"><img src=\"http://legacysurvey.org/viewer/jpeg-cutout/?ra=329.3159&dec=-50.56129&zoom=15&layer=des-dr1&size=120\"></a></td><td>63<br><a href=\"http://legacysurvey.org/viewer?ra=328.8908985150549&dec=-48.460292600748986\"><img src=\"http://legacysurvey.org/viewer/jpeg-cutout/?ra=328.8909&dec=-48.46029&zoom=15&layer=des-dr1&size=120\"></a></td></tr>\n",
       "<tr><td>64<br><a href=\"http://legacysurvey.org/viewer?ra=328.50944103791625&dec=-48.57675597400543\"><img src=\"http://legacysurvey.org/viewer/jpeg-cutout/?ra=328.5094&dec=-48.57676&zoom=15&layer=des-dr1&size=120\"></a></td><td>65<br><a href=\"http://legacysurvey.org/viewer?ra=329.32334091599955&dec=-50.126249362499536\"><img src=\"http://legacysurvey.org/viewer/jpeg-cutout/?ra=329.3233&dec=-50.12625&zoom=15&layer=des-dr1&size=120\"></a></td><td>66<br><a href=\"http://legacysurvey.org/viewer?ra=329.0817596858082&dec=-48.49867157635359\"><img src=\"http://legacysurvey.org/viewer/jpeg-cutout/?ra=329.0818&dec=-48.49867&zoom=15&layer=des-dr1&size=120\"></a></td><td>67<br><a href=\"http://legacysurvey.org/viewer?ra=329.6553140883494&dec=-49.98719547639005\"><img src=\"http://legacysurvey.org/viewer/jpeg-cutout/?ra=329.6553&dec=-49.9872&zoom=15&layer=des-dr1&size=120\"></a></td><td>68<br><a href=\"http://legacysurvey.org/viewer?ra=328.3431077951179&dec=-48.86155011099226\"><img src=\"http://legacysurvey.org/viewer/jpeg-cutout/?ra=328.3431&dec=-48.86155&zoom=15&layer=des-dr1&size=120\"></a></td><td>69<br><a href=\"http://legacysurvey.org/viewer?ra=328.33254109136436&dec=-48.99717176651157\"><img src=\"http://legacysurvey.org/viewer/jpeg-cutout/?ra=328.3325&dec=-48.99717&zoom=15&layer=des-dr1&size=120\"></a></td><td>70<br><a href=\"http://legacysurvey.org/viewer?ra=329.61608711210704&dec=-50.0273214903538\"><img src=\"http://legacysurvey.org/viewer/jpeg-cutout/?ra=329.6161&dec=-50.02732&zoom=15&layer=des-dr1&size=120\"></a></td><td>71<br><a href=\"http://legacysurvey.org/viewer?ra=328.35198092782457&dec=-49.57073080202721\"><img src=\"http://legacysurvey.org/viewer/jpeg-cutout/?ra=328.352&dec=-49.57073&zoom=15&layer=des-dr1&size=120\"></a></td></tr>\n",
       "<tr><td>72<br><a href=\"http://legacysurvey.org/viewer?ra=329.30241752451866&dec=-50.41809752924072\"><img src=\"http://legacysurvey.org/viewer/jpeg-cutout/?ra=329.3024&dec=-50.4181&zoom=15&layer=des-dr1&size=120\"></a></td><td>73<br><a href=\"http://legacysurvey.org/viewer?ra=329.2416572728534&dec=-48.44595457332249\"><img src=\"http://legacysurvey.org/viewer/jpeg-cutout/?ra=329.2417&dec=-48.44595&zoom=15&layer=des-dr1&size=120\"></a></td><td>74<br><a href=\"http://legacysurvey.org/viewer?ra=329.64697695908967&dec=-49.92650340247073\"><img src=\"http://legacysurvey.org/viewer/jpeg-cutout/?ra=329.647&dec=-49.9265&zoom=15&layer=des-dr1&size=120\"></a></td><td>75<br><a href=\"http://legacysurvey.org/viewer?ra=328.4183224449342&dec=-49.175605739983794\"><img src=\"http://legacysurvey.org/viewer/jpeg-cutout/?ra=328.4183&dec=-49.17561&zoom=15&layer=des-dr1&size=120\"></a></td><td>76<br><a href=\"http://legacysurvey.org/viewer?ra=328.75026496717345&dec=-48.529048673301304\"><img src=\"http://legacysurvey.org/viewer/jpeg-cutout/?ra=328.7503&dec=-48.52905&zoom=15&layer=des-dr1&size=120\"></a></td><td>77<br><a href=\"http://legacysurvey.org/viewer?ra=329.517425076186&dec=-50.01281235949528\"><img src=\"http://legacysurvey.org/viewer/jpeg-cutout/?ra=329.5174&dec=-50.01281&zoom=15&layer=des-dr1&size=120\"></a></td><td>78<br><a href=\"http://legacysurvey.org/viewer?ra=329.1061581210184&dec=-48.47949194738368\"><img src=\"http://legacysurvey.org/viewer/jpeg-cutout/?ra=329.1062&dec=-48.47949&zoom=15&layer=des-dr1&size=120\"></a></td><td>79<br><a href=\"http://legacysurvey.org/viewer?ra=328.24998215366503&dec=-50.05471071121388\"><img src=\"http://legacysurvey.org/viewer/jpeg-cutout/?ra=328.25&dec=-50.05471&zoom=15&layer=des-dr1&size=120\"></a></td></tr>\n",
       "<tr><td>80<br><a href=\"http://legacysurvey.org/viewer?ra=328.52515483947917&dec=-48.57218765622888\"><img src=\"http://legacysurvey.org/viewer/jpeg-cutout/?ra=328.5252&dec=-48.57219&zoom=15&layer=des-dr1&size=120\"></a></td><td>81<br><a href=\"http://legacysurvey.org/viewer?ra=328.6086588784905&dec=-48.638444668227116\"><img src=\"http://legacysurvey.org/viewer/jpeg-cutout/?ra=328.6087&dec=-48.63844&zoom=15&layer=des-dr1&size=120\"></a></td><td>82<br><a href=\"http://legacysurvey.org/viewer?ra=328.2485689423346&dec=-50.16570965159822\"><img src=\"http://legacysurvey.org/viewer/jpeg-cutout/?ra=328.2486&dec=-50.16571&zoom=15&layer=des-dr1&size=120\"></a></td><td>83<br><a href=\"http://legacysurvey.org/viewer?ra=329.05625050620165&dec=-48.50086206256079\"><img src=\"http://legacysurvey.org/viewer/jpeg-cutout/?ra=329.0563&dec=-48.50086&zoom=15&layer=des-dr1&size=120\"></a></td><td>84<br><a href=\"http://legacysurvey.org/viewer?ra=328.2171628085955&dec=-49.10141977065156\"><img src=\"http://legacysurvey.org/viewer/jpeg-cutout/?ra=328.2172&dec=-49.10142&zoom=15&layer=des-dr1&size=120\"></a></td><td>85<br><a href=\"http://legacysurvey.org/viewer?ra=329.56576862445235&dec=-48.939917075270344\"><img src=\"http://legacysurvey.org/viewer/jpeg-cutout/?ra=329.5658&dec=-48.93992&zoom=15&layer=des-dr1&size=120\"></a></td><td>86<br><a href=\"http://legacysurvey.org/viewer?ra=329.73932827206977&dec=-49.910198908345784\"><img src=\"http://legacysurvey.org/viewer/jpeg-cutout/?ra=329.7393&dec=-49.9102&zoom=15&layer=des-dr1&size=120\"></a></td><td>87<br><a href=\"http://legacysurvey.org/viewer?ra=329.74900390592563&dec=-50.28586666113147\"><img src=\"http://legacysurvey.org/viewer/jpeg-cutout/?ra=329.749&dec=-50.28587&zoom=15&layer=des-dr1&size=120\"></a></td></tr>\n",
       "<tr><td>88<br><a href=\"http://legacysurvey.org/viewer?ra=328.5545329827647&dec=-48.82939020566698\"><img src=\"http://legacysurvey.org/viewer/jpeg-cutout/?ra=328.5545&dec=-48.82939&zoom=15&layer=des-dr1&size=120\"></a></td><td>89<br><a href=\"http://legacysurvey.org/viewer?ra=329.2870250200492&dec=-48.80628500437049\"><img src=\"http://legacysurvey.org/viewer/jpeg-cutout/?ra=329.287&dec=-48.80629&zoom=15&layer=des-dr1&size=120\"></a></td><td>90<br><a href=\"http://legacysurvey.org/viewer?ra=328.6775367564742&dec=-50.481251696717145\"><img src=\"http://legacysurvey.org/viewer/jpeg-cutout/?ra=328.6775&dec=-50.48125&zoom=15&layer=des-dr1&size=120\"></a></td><td>91<br><a href=\"http://legacysurvey.org/viewer?ra=328.32886293853596&dec=-48.8748747371117\"><img src=\"http://legacysurvey.org/viewer/jpeg-cutout/?ra=328.3289&dec=-48.87487&zoom=15&layer=des-dr1&size=120\"></a></td><td>92<br><a href=\"http://legacysurvey.org/viewer?ra=328.20350594542475&dec=-50.03477711531536\"><img src=\"http://legacysurvey.org/viewer/jpeg-cutout/?ra=328.2035&dec=-50.03478&zoom=15&layer=des-dr1&size=120\"></a></td><td>93<br><a href=\"http://legacysurvey.org/viewer?ra=329.88081201535994&dec=-48.92709945029636\"><img src=\"http://legacysurvey.org/viewer/jpeg-cutout/?ra=329.8808&dec=-48.9271&zoom=15&layer=des-dr1&size=120\"></a></td><td>94<br><a href=\"http://legacysurvey.org/viewer?ra=328.6297406529369&dec=-48.726564851323026\"><img src=\"http://legacysurvey.org/viewer/jpeg-cutout/?ra=328.6297&dec=-48.72656&zoom=15&layer=des-dr1&size=120\"></a></td><td>95<br><a href=\"http://legacysurvey.org/viewer?ra=328.58852629608134&dec=-48.906517902546376\"><img src=\"http://legacysurvey.org/viewer/jpeg-cutout/?ra=328.5885&dec=-48.90652&zoom=15&layer=des-dr1&size=120\"></a></td></tr>\n",
       "<tr><td>96<br><a href=\"http://legacysurvey.org/viewer?ra=329.18369283023185&dec=-48.83507742548195\"><img src=\"http://legacysurvey.org/viewer/jpeg-cutout/?ra=329.1837&dec=-48.83508&zoom=15&layer=des-dr1&size=120\"></a></td><td>97<br><a href=\"http://legacysurvey.org/viewer?ra=328.97606331289603&dec=-50.26459691663012\"><img src=\"http://legacysurvey.org/viewer/jpeg-cutout/?ra=328.9761&dec=-50.2646&zoom=15&layer=des-dr1&size=120\"></a></td><td>98<br><a href=\"http://legacysurvey.org/viewer?ra=328.68361758817434&dec=-50.34876679197284\"><img src=\"http://legacysurvey.org/viewer/jpeg-cutout/?ra=328.6836&dec=-50.34877&zoom=15&layer=des-dr1&size=120\"></a></td><td>99<br><a href=\"http://legacysurvey.org/viewer?ra=328.9724332561455&dec=-48.58186587821626\"><img src=\"http://legacysurvey.org/viewer/jpeg-cutout/?ra=328.9724&dec=-48.58187&zoom=15&layer=des-dr1&size=120\"></a></td><td></td><td></td><td></td><td></td></tr>\n",
       "    </table>\n",
       "    "
      ],
      "text/plain": [
       "<IPython.core.display.HTML object>"
      ]
     },
     "execution_count": 25,
     "metadata": {},
     "output_type": "execute_result"
    }
   ],
   "source": [
    "#The commented part below is only necessary if the decals viewer is broken but the targets are in DES\n",
    "# make_des_cutouts_file(acat[acat['Notes']=='sky'])\n",
    "# show_des_cutouts(acat[acat['Notes']=='sky'], <'JOBNAME'>, ncols=8, namecol='TargetName')\n",
    "\n",
    "make_decals_viewer_cutouts(acat[acat['Notes']=='sky'], survey='des-dr1', namecol='TargetName',\n",
    "                           ncols=8, zoom=15, size=120)"
   ]
  },
  {
   "cell_type": "code",
   "execution_count": 26,
   "metadata": {},
   "outputs": [
    {
     "data": {
      "text/plain": [
       "90"
      ]
     },
     "execution_count": 26,
     "metadata": {},
     "output_type": "execute_result"
    }
   ],
   "source": [
    "skys_to_rem = [int(i) for i in '2 23 27 33 47 51 62 73 75 83'.split()]\n",
    "writecat.remove_rows((writecat['Notes']=='Sky')&(np.in1d(writecat['TargetName'], skys_to_rem)))\n",
    "np.sum((writecat['Notes']=='Sky'))"
   ]
  },
  {
   "cell_type": "code",
   "execution_count": 27,
   "metadata": {},
   "outputs": [
    {
     "name": "stdout",
     "output_type": "stream",
     "text": [
      "Nflux: 5 Nguide: 100 NSky 90\n",
      "Targets in each priority: {1: 200, 2: 130, 3: 29, 4: 50, 5: 158, 6: 102, 7: 109, 8: 11}\n",
      "Total: 984\n",
      "Writing aat_targets_oct2018/pgc67663_2.fld\n"
     ]
    },
    {
     "data": {
      "text/plain": [
       "789"
      ]
     },
     "execution_count": 27,
     "metadata": {},
     "output_type": "execute_result"
    }
   ],
   "source": [
    "subsampledcat = subsample_catalog(writecat, {1:200}, maxflux=5, maxguides=100)\n",
    "\n",
    "fldfn = 'aat_targets_oct2018/{}_{}.fld'.format(hostname, fieldnum)\n",
    "print('Writing', fldfn)\n",
    "write_fld_file(subsampledcat, host, obs_start_date, fldfn, suffix='_{}'.format(fieldnum))\n",
    "np.sum(subsampledcat['Notes'] == 'Targets')"
   ]
  },
  {
   "cell_type": "code",
   "execution_count": 40,
   "metadata": {},
   "outputs": [
    {
     "name": "stdout",
     "output_type": "stream",
     "text": [
      "pgc67663_2.fld                                100%   53KB  53.3KB/s   00:00    \n"
     ]
    }
   ],
   "source": [
    "!scp $fldfn visitor8@aatlxh:~/oct05/"
   ]
  },
  {
   "cell_type": "markdown",
   "metadata": {},
   "source": [
    "## pgc1952"
   ]
  },
  {
   "cell_type": "code",
   "execution_count": 29,
   "metadata": {},
   "outputs": [
    {
     "name": "stdout",
     "output_type": "stream",
     "text": [
      "[10/05 15:36:29] Base catalog v2 for pgc1952 already exists (./base_catalogs/base_v2_pgc1952.fits.gz). (1/1)\n"
     ]
    }
   ],
   "source": [
    "idnum = 1952\n",
    "fieldnum = 1\n",
    "\n",
    "saga_object_catalog.build_and_write_to_database('pgc{}'.format(idnum), overwrite=fieldnum>1)"
   ]
  },
  {
   "cell_type": "code",
   "execution_count": 30,
   "metadata": {},
   "outputs": [
    {
     "name": "stdout",
     "output_type": "stream",
     "text": [
      "pgc1952\n",
      "00h32m02.112s -64d15m12.24s\n",
      "# of flux stars = 141\n",
      "# of sky fibers = 100\n",
      "# of Priority=1 targets = 503\n",
      "# of Priority=2 targets = 128\n",
      "# of Priority=3 targets = 10\n",
      "# of Priority=4 targets = 50\n",
      "# of Priority=5 targets = 118\n",
      "# of Priority=6 targets = 63\n",
      "# of Priority=7 targets = 48\n",
      "# of Priority=8 targets = 6\n",
      "# of Priority=9 targets = 241\n",
      "Object catalog to Gaia offset: (<Angle -0.36644631 arcsec>, <Angle 0.07111843 arcsec>) from 921 objects (72.6%)\n",
      "Found 171 Gaia guide stars\n",
      "46 Have a brightish neighbor.  Removing them.\n"
     ]
    },
    {
     "data": {
      "text/plain": [
       "1292"
      ]
     },
     "execution_count": 30,
     "metadata": {},
     "output_type": "execute_result"
    }
   ],
   "source": [
    "host = targethosts[targethosts['PGC'] == idnum]\n",
    "assert len(host) == 1\n",
    "host = host[0]\n",
    "\n",
    "hostname = host[host_id_label]\n",
    "print(hostname)\n",
    "print(SkyCoord(host['RA'], host['Dec'], unit=u.deg).to_string('hmsdms'))\n",
    "\n",
    "tcats[hostname] = tcat = saga_targets.build_target_catalogs(hostname, return_as='list', reload_base=True).pop()\n",
    "acats[hostname] = acat = saga.targets.prepare_aat_catalog(tcat, sky_fiber_needed=100)\n",
    "\n",
    "guidestars = get_gaia_guidestars(hostname, saga_host_catalog, saga_object_catalog)\n",
    "writecat = table.vstack([acat, guidestars])\n",
    "writecat['Notes'] = [n.title() for n in writecat['Notes']]\n",
    "len(writecat)"
   ]
  },
  {
   "cell_type": "code",
   "execution_count": 31,
   "metadata": {},
   "outputs": [
    {
     "data": {
      "text/html": [
       "\n",
       "    <table>\n",
       "    <tr><td>4708465482876995712<br><a href=\"http://legacysurvey.org/viewer?ra=7.851189849367723&dec=-64.23193266846205\"><img src=\"http://legacysurvey.org/viewer/jpeg-cutout/?ra=7.85119&dec=-64.23193&zoom=17&layer=unwise-w1w2&size=120\"></a></td><td>4708510803371773184<br><a href=\"http://legacysurvey.org/viewer?ra=9.674672319012286&dec=-63.605429481764915\"><img src=\"http://legacysurvey.org/viewer/jpeg-cutout/?ra=9.674672&dec=-63.60543&zoom=17&layer=unwise-w1w2&size=120\"></a></td><td>4900507214576396544<br><a href=\"http://legacysurvey.org/viewer?ra=5.922074839786647&dec=-64.4608355407996\"><img src=\"http://legacysurvey.org/viewer/jpeg-cutout/?ra=5.922075&dec=-64.46084&zoom=17&layer=unwise-w1w2&size=120\"></a></td><td>4708372161827678464<br><a href=\"http://legacysurvey.org/viewer?ra=7.6244562818426775&dec=-64.26626409903116\"><img src=\"http://legacysurvey.org/viewer/jpeg-cutout/?ra=7.624456&dec=-64.26626&zoom=17&layer=unwise-w1w2&size=120\"></a></td><td>4900546247239120768<br><a href=\"http://legacysurvey.org/viewer?ra=7.243847789429498&dec=-63.99585883354187\"><img src=\"http://legacysurvey.org/viewer/jpeg-cutout/?ra=7.243848&dec=-63.99586&zoom=17&layer=unwise-w1w2&size=120\"></a></td><td>4900619467841556480<br><a href=\"http://legacysurvey.org/viewer?ra=7.309192077762037&dec=-63.514157050937555\"><img src=\"http://legacysurvey.org/viewer/jpeg-cutout/?ra=7.309192&dec=-63.51416&zoom=17&layer=unwise-w1w2&size=120\"></a></td></tr>\n",
       "<tr><td>4708170401444068608<br><a href=\"http://legacysurvey.org/viewer?ra=8.731782251279867&dec=-65.10444051922603\"><img src=\"http://legacysurvey.org/viewer/jpeg-cutout/?ra=8.731782&dec=-65.10444&zoom=17&layer=unwise-w1w2&size=120\"></a></td><td>4900613454887348864<br><a href=\"http://legacysurvey.org/viewer?ra=7.212939007871102&dec=-63.65450295225366\"><img src=\"http://legacysurvey.org/viewer/jpeg-cutout/?ra=7.212939&dec=-63.6545&zoom=17&layer=unwise-w1w2&size=120\"></a></td><td>4708189608537796736<br><a href=\"http://legacysurvey.org/viewer?ra=8.760696889244555&dec=-64.84028984644921\"><img src=\"http://legacysurvey.org/viewer/jpeg-cutout/?ra=8.760697&dec=-64.84029&zoom=17&layer=unwise-w1w2&size=120\"></a></td><td>4708484479516380160<br><a href=\"http://legacysurvey.org/viewer?ra=9.177615959036736&dec=-63.963927118522356\"><img src=\"http://legacysurvey.org/viewer/jpeg-cutout/?ra=9.177616&dec=-63.96393&zoom=17&layer=unwise-w1w2&size=120\"></a></td><td>4900660218491329408<br><a href=\"http://legacysurvey.org/viewer?ra=9.012105564314817&dec=-63.66084466076712\"><img src=\"http://legacysurvey.org/viewer/jpeg-cutout/?ra=9.012106&dec=-63.66084&zoom=17&layer=unwise-w1w2&size=120\"></a></td><td>4708480257564404480<br><a href=\"http://legacysurvey.org/viewer?ra=9.163099858796695&dec=-64.05163248048012\"><img src=\"http://legacysurvey.org/viewer/jpeg-cutout/?ra=9.1631&dec=-64.05163&zoom=17&layer=unwise-w1w2&size=120\"></a></td></tr>\n",
       "<tr><td>4900772506116151552<br><a href=\"http://legacysurvey.org/viewer?ra=6.267557969260614&dec=-63.83819847375966\"><img src=\"http://legacysurvey.org/viewer/jpeg-cutout/?ra=6.267558&dec=-63.8382&zoom=17&layer=unwise-w1w2&size=120\"></a></td><td>4708226648335664512<br><a href=\"http://legacysurvey.org/viewer?ra=10.1251110578973&dec=-64.38841122844883\"><img src=\"http://legacysurvey.org/viewer/jpeg-cutout/?ra=10.12511&dec=-64.38841&zoom=17&layer=unwise-w1w2&size=120\"></a></td><td>4708367660701955328<br><a href=\"http://legacysurvey.org/viewer?ra=7.544827376933118&dec=-64.36680119228869\"><img src=\"http://legacysurvey.org/viewer/jpeg-cutout/?ra=7.544827&dec=-64.3668&zoom=17&layer=unwise-w1w2&size=120\"></a></td><td>4900612733332849280<br><a href=\"http://legacysurvey.org/viewer?ra=6.983868127044621&dec=-63.722673776399745\"><img src=\"http://legacysurvey.org/viewer/jpeg-cutout/?ra=6.983868&dec=-63.72267&zoom=17&layer=unwise-w1w2&size=120\"></a></td><td>4708216202975276416<br><a href=\"http://legacysurvey.org/viewer?ra=9.405156805323145&dec=-64.6246632819414\"><img src=\"http://legacysurvey.org/viewer/jpeg-cutout/?ra=9.405157&dec=-64.62466&zoom=17&layer=unwise-w1w2&size=120\"></a></td><td>4708478677016445184<br><a href=\"http://legacysurvey.org/viewer?ra=9.130571857844709&dec=-64.11857691587446\"><img src=\"http://legacysurvey.org/viewer/jpeg-cutout/?ra=9.130572&dec=-64.11858&zoom=17&layer=unwise-w1w2&size=120\"></a></td></tr>\n",
       "<tr><td>4708313544114121344<br><a href=\"http://legacysurvey.org/viewer?ra=6.458383582702056&dec=-64.97491002257921\"><img src=\"http://legacysurvey.org/viewer/jpeg-cutout/?ra=6.458384&dec=-64.97491&zoom=17&layer=unwise-w1w2&size=120\"></a></td><td>4708273373284028928<br><a href=\"http://legacysurvey.org/viewer?ra=6.924748846064121&dec=-65.08255116786391\"><img src=\"http://legacysurvey.org/viewer/jpeg-cutout/?ra=6.924749&dec=-65.08255&zoom=17&layer=unwise-w1w2&size=120\"></a></td><td>4900566519484787328<br><a href=\"http://legacysurvey.org/viewer?ra=6.1367540784553505&dec=-64.11014537793429\"><img src=\"http://legacysurvey.org/viewer/jpeg-cutout/?ra=6.136754&dec=-64.11015&zoom=17&layer=unwise-w1w2&size=120\"></a></td><td>4708402776354414720<br><a href=\"http://legacysurvey.org/viewer?ra=8.851381219730866&dec=-64.37123228460398\"><img src=\"http://legacysurvey.org/viewer/jpeg-cutout/?ra=8.851381&dec=-64.37123&zoom=17&layer=unwise-w1w2&size=120\"></a></td><td>4708190914207846400<br><a href=\"http://legacysurvey.org/viewer?ra=9.119262509572541&dec=-64.76825433798864\"><img src=\"http://legacysurvey.org/viewer/jpeg-cutout/?ra=9.119263&dec=-64.76825&zoom=17&layer=unwise-w1w2&size=120\"></a></td><td>4900813084967138304<br><a href=\"http://legacysurvey.org/viewer?ra=7.381940974958498&dec=-63.33187836523476\"><img src=\"http://legacysurvey.org/viewer/jpeg-cutout/?ra=7.381941&dec=-63.33188&zoom=17&layer=unwise-w1w2&size=120\"></a></td></tr>\n",
       "    </table>\n",
       "    "
      ],
      "text/plain": [
       "<IPython.core.display.HTML object>"
      ]
     },
     "execution_count": 31,
     "metadata": {},
     "output_type": "execute_result"
    }
   ],
   "source": [
    "# only need to remove if something really fishy is going on\n",
    "make_decals_viewer_cutouts(guidestars[np.random.permutation(len(guidestars))[:24]], \n",
    "                           survey='unwise-w1w2',ncols=6,namecol='TargetName', zoom=17)"
   ]
  },
  {
   "cell_type": "code",
   "execution_count": 32,
   "metadata": {},
   "outputs": [
    {
     "data": {
      "text/html": [
       "\n",
       "    <table>\n",
       "    <tr><td>0<br><a href=\"http://legacysurvey.org/viewer?ra=7.989029437151122&dec=-64.94803712854879\"><img src=\"http://legacysurvey.org/viewer/jpeg-cutout/?ra=7.989029&dec=-64.94804&zoom=15&layer=des-dr1&size=120\"></a></td><td>1<br><a href=\"http://legacysurvey.org/viewer?ra=7.470981194852402&dec=-65.20269669708075\"><img src=\"http://legacysurvey.org/viewer/jpeg-cutout/?ra=7.470981&dec=-65.2027&zoom=15&layer=des-dr1&size=120\"></a></td><td>2<br><a href=\"http://legacysurvey.org/viewer?ra=8.152452606895395&dec=-65.00852795517221\"><img src=\"http://legacysurvey.org/viewer/jpeg-cutout/?ra=8.152453&dec=-65.00853&zoom=15&layer=des-dr1&size=120\"></a></td><td>3<br><a href=\"http://legacysurvey.org/viewer?ra=7.394637804606587&dec=-63.74254905794438\"><img src=\"http://legacysurvey.org/viewer/jpeg-cutout/?ra=7.394638&dec=-63.74255&zoom=15&layer=des-dr1&size=120\"></a></td><td>4<br><a href=\"http://legacysurvey.org/viewer?ra=7.368804889141954&dec=-64.82197587749809\"><img src=\"http://legacysurvey.org/viewer/jpeg-cutout/?ra=7.368805&dec=-64.82198&zoom=15&layer=des-dr1&size=120\"></a></td><td>5<br><a href=\"http://legacysurvey.org/viewer?ra=7.943470804415694&dec=-63.22755030973191\"><img src=\"http://legacysurvey.org/viewer/jpeg-cutout/?ra=7.943471&dec=-63.22755&zoom=15&layer=des-dr1&size=120\"></a></td><td>6<br><a href=\"http://legacysurvey.org/viewer?ra=7.262719772138817&dec=-63.746274776756046\"><img src=\"http://legacysurvey.org/viewer/jpeg-cutout/?ra=7.26272&dec=-63.74627&zoom=15&layer=des-dr1&size=120\"></a></td><td>7<br><a href=\"http://legacysurvey.org/viewer?ra=8.612017461922589&dec=-64.49852949734462\"><img src=\"http://legacysurvey.org/viewer/jpeg-cutout/?ra=8.612017&dec=-64.49853&zoom=15&layer=des-dr1&size=120\"></a></td></tr>\n",
       "<tr><td>8<br><a href=\"http://legacysurvey.org/viewer?ra=8.030004237553365&dec=-63.45976293612874\"><img src=\"http://legacysurvey.org/viewer/jpeg-cutout/?ra=8.030004&dec=-63.45976&zoom=15&layer=des-dr1&size=120\"></a></td><td>9<br><a href=\"http://legacysurvey.org/viewer?ra=7.705752502884177&dec=-65.02958759085847\"><img src=\"http://legacysurvey.org/viewer/jpeg-cutout/?ra=7.705753&dec=-65.02959&zoom=15&layer=des-dr1&size=120\"></a></td><td>10<br><a href=\"http://legacysurvey.org/viewer?ra=8.77516880556937&dec=-64.5929337413468\"><img src=\"http://legacysurvey.org/viewer/jpeg-cutout/?ra=8.775169&dec=-64.59293&zoom=15&layer=des-dr1&size=120\"></a></td><td>11<br><a href=\"http://legacysurvey.org/viewer?ra=8.152847382147714&dec=-65.06746809969728\"><img src=\"http://legacysurvey.org/viewer/jpeg-cutout/?ra=8.152847&dec=-65.06747&zoom=15&layer=des-dr1&size=120\"></a></td><td>12<br><a href=\"http://legacysurvey.org/viewer?ra=8.6713286034842&dec=-65.02423165427747\"><img src=\"http://legacysurvey.org/viewer/jpeg-cutout/?ra=8.671329&dec=-65.02423&zoom=15&layer=des-dr1&size=120\"></a></td><td>13<br><a href=\"http://legacysurvey.org/viewer?ra=7.420807164115408&dec=-63.85908364323309\"><img src=\"http://legacysurvey.org/viewer/jpeg-cutout/?ra=7.420807&dec=-63.85908&zoom=15&layer=des-dr1&size=120\"></a></td><td>14<br><a href=\"http://legacysurvey.org/viewer?ra=8.245982920239442&dec=-65.00170792225703\"><img src=\"http://legacysurvey.org/viewer/jpeg-cutout/?ra=8.245983&dec=-65.00171&zoom=15&layer=des-dr1&size=120\"></a></td><td>15<br><a href=\"http://legacysurvey.org/viewer?ra=8.112999592346045&dec=-65.09035569695354\"><img src=\"http://legacysurvey.org/viewer/jpeg-cutout/?ra=8.113&dec=-65.09036&zoom=15&layer=des-dr1&size=120\"></a></td></tr>\n",
       "<tr><td>16<br><a href=\"http://legacysurvey.org/viewer?ra=8.10301914165783&dec=-65.13623027002797\"><img src=\"http://legacysurvey.org/viewer/jpeg-cutout/?ra=8.103019&dec=-65.13623&zoom=15&layer=des-dr1&size=120\"></a></td><td>17<br><a href=\"http://legacysurvey.org/viewer?ra=7.453081582503874&dec=-65.11398261396596\"><img src=\"http://legacysurvey.org/viewer/jpeg-cutout/?ra=7.453082&dec=-65.11398&zoom=15&layer=des-dr1&size=120\"></a></td><td>18<br><a href=\"http://legacysurvey.org/viewer?ra=7.823634965859862&dec=-65.2824388704092\"><img src=\"http://legacysurvey.org/viewer/jpeg-cutout/?ra=7.823635&dec=-65.28244&zoom=15&layer=des-dr1&size=120\"></a></td><td>19<br><a href=\"http://legacysurvey.org/viewer?ra=8.572269393152158&dec=-63.5372730279069\"><img src=\"http://legacysurvey.org/viewer/jpeg-cutout/?ra=8.572269&dec=-63.53727&zoom=15&layer=des-dr1&size=120\"></a></td><td>20<br><a href=\"http://legacysurvey.org/viewer?ra=8.266263348499525&dec=-65.18184346613049\"><img src=\"http://legacysurvey.org/viewer/jpeg-cutout/?ra=8.266263&dec=-65.18184&zoom=15&layer=des-dr1&size=120\"></a></td><td>21<br><a href=\"http://legacysurvey.org/viewer?ra=7.679641015077776&dec=-64.74230681293402\"><img src=\"http://legacysurvey.org/viewer/jpeg-cutout/?ra=7.679641&dec=-64.74231&zoom=15&layer=des-dr1&size=120\"></a></td><td>22<br><a href=\"http://legacysurvey.org/viewer?ra=8.574904154188172&dec=-65.01220868290622\"><img src=\"http://legacysurvey.org/viewer/jpeg-cutout/?ra=8.574904&dec=-65.01221&zoom=15&layer=des-dr1&size=120\"></a></td><td>23<br><a href=\"http://legacysurvey.org/viewer?ra=8.610676996238436&dec=-64.73793807196898\"><img src=\"http://legacysurvey.org/viewer/jpeg-cutout/?ra=8.610677&dec=-64.73794&zoom=15&layer=des-dr1&size=120\"></a></td></tr>\n",
       "<tr><td>24<br><a href=\"http://legacysurvey.org/viewer?ra=7.984204817704078&dec=-65.19964926858141\"><img src=\"http://legacysurvey.org/viewer/jpeg-cutout/?ra=7.984205&dec=-65.19965&zoom=15&layer=des-dr1&size=120\"></a></td><td>25<br><a href=\"http://legacysurvey.org/viewer?ra=7.6191530201485&dec=-64.7872197579571\"><img src=\"http://legacysurvey.org/viewer/jpeg-cutout/?ra=7.619153&dec=-64.78722&zoom=15&layer=des-dr1&size=120\"></a></td><td>26<br><a href=\"http://legacysurvey.org/viewer?ra=7.5597526962824295&dec=-64.96926641248487\"><img src=\"http://legacysurvey.org/viewer/jpeg-cutout/?ra=7.559753&dec=-64.96927&zoom=15&layer=des-dr1&size=120\"></a></td><td>27<br><a href=\"http://legacysurvey.org/viewer?ra=8.16697150738302&dec=-65.1728737670706\"><img src=\"http://legacysurvey.org/viewer/jpeg-cutout/?ra=8.166972&dec=-65.17287&zoom=15&layer=des-dr1&size=120\"></a></td><td>28<br><a href=\"http://legacysurvey.org/viewer?ra=8.576663647067624&dec=-64.20527429812007\"><img src=\"http://legacysurvey.org/viewer/jpeg-cutout/?ra=8.576664&dec=-64.20527&zoom=15&layer=des-dr1&size=120\"></a></td><td>29<br><a href=\"http://legacysurvey.org/viewer?ra=8.317741655510064&dec=-65.1308114881608\"><img src=\"http://legacysurvey.org/viewer/jpeg-cutout/?ra=8.317742&dec=-65.13081&zoom=15&layer=des-dr1&size=120\"></a></td><td>30<br><a href=\"http://legacysurvey.org/viewer?ra=7.936665698095854&dec=-65.11929740188063\"><img src=\"http://legacysurvey.org/viewer/jpeg-cutout/?ra=7.936666&dec=-65.1193&zoom=15&layer=des-dr1&size=120\"></a></td><td>31<br><a href=\"http://legacysurvey.org/viewer?ra=7.993311539891478&dec=-63.227351503335875\"><img src=\"http://legacysurvey.org/viewer/jpeg-cutout/?ra=7.993312&dec=-63.22735&zoom=15&layer=des-dr1&size=120\"></a></td></tr>\n",
       "<tr><td>32<br><a href=\"http://legacysurvey.org/viewer?ra=7.6260982362459595&dec=-63.32936726649252\"><img src=\"http://legacysurvey.org/viewer/jpeg-cutout/?ra=7.626098&dec=-63.32937&zoom=15&layer=des-dr1&size=120\"></a></td><td>33<br><a href=\"http://legacysurvey.org/viewer?ra=7.508644371126523&dec=-64.25518512760877\"><img src=\"http://legacysurvey.org/viewer/jpeg-cutout/?ra=7.508644&dec=-64.25519&zoom=15&layer=des-dr1&size=120\"></a></td><td>34<br><a href=\"http://legacysurvey.org/viewer?ra=7.29988187647435&dec=-64.66990193223775\"><img src=\"http://legacysurvey.org/viewer/jpeg-cutout/?ra=7.299882&dec=-64.6699&zoom=15&layer=des-dr1&size=120\"></a></td><td>35<br><a href=\"http://legacysurvey.org/viewer?ra=8.296016786279386&dec=-65.02118412472899\"><img src=\"http://legacysurvey.org/viewer/jpeg-cutout/?ra=8.296017&dec=-65.02118&zoom=15&layer=des-dr1&size=120\"></a></td><td>36<br><a href=\"http://legacysurvey.org/viewer?ra=7.833706925426755&dec=-63.21928168336154\"><img src=\"http://legacysurvey.org/viewer/jpeg-cutout/?ra=7.833707&dec=-63.21928&zoom=15&layer=des-dr1&size=120\"></a></td><td>37<br><a href=\"http://legacysurvey.org/viewer?ra=8.289762947017017&dec=-63.8919560920807\"><img src=\"http://legacysurvey.org/viewer/jpeg-cutout/?ra=8.289763&dec=-63.89196&zoom=15&layer=des-dr1&size=120\"></a></td><td>38<br><a href=\"http://legacysurvey.org/viewer?ra=8.28510308247126&dec=-64.92651476361354\"><img src=\"http://legacysurvey.org/viewer/jpeg-cutout/?ra=8.285103&dec=-64.92651&zoom=15&layer=des-dr1&size=120\"></a></td><td>39<br><a href=\"http://legacysurvey.org/viewer?ra=7.284858859841419&dec=-65.07506958331938\"><img src=\"http://legacysurvey.org/viewer/jpeg-cutout/?ra=7.284859&dec=-65.07507&zoom=15&layer=des-dr1&size=120\"></a></td></tr>\n",
       "<tr><td>40<br><a href=\"http://legacysurvey.org/viewer?ra=7.869538700244537&dec=-63.599649825485436\"><img src=\"http://legacysurvey.org/viewer/jpeg-cutout/?ra=7.869539&dec=-63.59965&zoom=15&layer=des-dr1&size=120\"></a></td><td>41<br><a href=\"http://legacysurvey.org/viewer?ra=8.066033617987125&dec=-65.20896063990001\"><img src=\"http://legacysurvey.org/viewer/jpeg-cutout/?ra=8.066034&dec=-65.20896&zoom=15&layer=des-dr1&size=120\"></a></td><td>42<br><a href=\"http://legacysurvey.org/viewer?ra=7.495552607760154&dec=-63.43120993296104\"><img src=\"http://legacysurvey.org/viewer/jpeg-cutout/?ra=7.495553&dec=-63.43121&zoom=15&layer=des-dr1&size=120\"></a></td><td>43<br><a href=\"http://legacysurvey.org/viewer?ra=7.307050487212107&dec=-65.02768820703162\"><img src=\"http://legacysurvey.org/viewer/jpeg-cutout/?ra=7.30705&dec=-65.02769&zoom=15&layer=des-dr1&size=120\"></a></td><td>44<br><a href=\"http://legacysurvey.org/viewer?ra=7.2886665969168565&dec=-64.08306449620616\"><img src=\"http://legacysurvey.org/viewer/jpeg-cutout/?ra=7.288667&dec=-64.08306&zoom=15&layer=des-dr1&size=120\"></a></td><td>45<br><a href=\"http://legacysurvey.org/viewer?ra=8.356111158840996&dec=-63.489021740285956\"><img src=\"http://legacysurvey.org/viewer/jpeg-cutout/?ra=8.356111&dec=-63.48902&zoom=15&layer=des-dr1&size=120\"></a></td><td>46<br><a href=\"http://legacysurvey.org/viewer?ra=7.6493202626574135&dec=-65.25350483986657\"><img src=\"http://legacysurvey.org/viewer/jpeg-cutout/?ra=7.64932&dec=-65.2535&zoom=15&layer=des-dr1&size=120\"></a></td><td>47<br><a href=\"http://legacysurvey.org/viewer?ra=7.581355123682787&dec=-64.80816397196\"><img src=\"http://legacysurvey.org/viewer/jpeg-cutout/?ra=7.581355&dec=-64.80816&zoom=15&layer=des-dr1&size=120\"></a></td></tr>\n",
       "<tr><td>48<br><a href=\"http://legacysurvey.org/viewer?ra=8.82955097815402&dec=-64.39731572658941\"><img src=\"http://legacysurvey.org/viewer/jpeg-cutout/?ra=8.829551&dec=-64.39732&zoom=15&layer=des-dr1&size=120\"></a></td><td>49<br><a href=\"http://legacysurvey.org/viewer?ra=8.574748353678714&dec=-63.8496363141699\"><img src=\"http://legacysurvey.org/viewer/jpeg-cutout/?ra=8.574748&dec=-63.84964&zoom=15&layer=des-dr1&size=120\"></a></td><td>50<br><a href=\"http://legacysurvey.org/viewer?ra=8.451299600296771&dec=-65.07679216358967\"><img src=\"http://legacysurvey.org/viewer/jpeg-cutout/?ra=8.4513&dec=-65.07679&zoom=15&layer=des-dr1&size=120\"></a></td><td>51<br><a href=\"http://legacysurvey.org/viewer?ra=8.155395016063343&dec=-63.51430514228645\"><img src=\"http://legacysurvey.org/viewer/jpeg-cutout/?ra=8.155395&dec=-63.51431&zoom=15&layer=des-dr1&size=120\"></a></td><td>52<br><a href=\"http://legacysurvey.org/viewer?ra=8.652526178815112&dec=-64.82122781908188\"><img src=\"http://legacysurvey.org/viewer/jpeg-cutout/?ra=8.652526&dec=-64.82123&zoom=15&layer=des-dr1&size=120\"></a></td><td>53<br><a href=\"http://legacysurvey.org/viewer?ra=7.850605555717452&dec=-65.00900816387346\"><img src=\"http://legacysurvey.org/viewer/jpeg-cutout/?ra=7.850606&dec=-65.00901&zoom=15&layer=des-dr1&size=120\"></a></td><td>54<br><a href=\"http://legacysurvey.org/viewer?ra=8.74459915236079&dec=-64.9623857802389\"><img src=\"http://legacysurvey.org/viewer/jpeg-cutout/?ra=8.744599&dec=-64.96239&zoom=15&layer=des-dr1&size=120\"></a></td><td>55<br><a href=\"http://legacysurvey.org/viewer?ra=8.230906885895358&dec=-65.16605324470422\"><img src=\"http://legacysurvey.org/viewer/jpeg-cutout/?ra=8.230907&dec=-65.16605&zoom=15&layer=des-dr1&size=120\"></a></td></tr>\n",
       "<tr><td>56<br><a href=\"http://legacysurvey.org/viewer?ra=8.256991735709084&dec=-63.43702437167097\"><img src=\"http://legacysurvey.org/viewer/jpeg-cutout/?ra=8.256992&dec=-63.43702&zoom=15&layer=des-dr1&size=120\"></a></td><td>57<br><a href=\"http://legacysurvey.org/viewer?ra=8.193831484121015&dec=-63.238196296710754\"><img src=\"http://legacysurvey.org/viewer/jpeg-cutout/?ra=8.193831&dec=-63.2382&zoom=15&layer=des-dr1&size=120\"></a></td><td>58<br><a href=\"http://legacysurvey.org/viewer?ra=8.093184060070653&dec=-65.0552362066065\"><img src=\"http://legacysurvey.org/viewer/jpeg-cutout/?ra=8.093184&dec=-65.05524&zoom=15&layer=des-dr1&size=120\"></a></td><td>59<br><a href=\"http://legacysurvey.org/viewer?ra=8.282889233836132&dec=-65.28608175605835\"><img src=\"http://legacysurvey.org/viewer/jpeg-cutout/?ra=8.282889&dec=-65.28608&zoom=15&layer=des-dr1&size=120\"></a></td><td>60<br><a href=\"http://legacysurvey.org/viewer?ra=8.483896280515836&dec=-64.97415587186495\"><img src=\"http://legacysurvey.org/viewer/jpeg-cutout/?ra=8.483896&dec=-64.97416&zoom=15&layer=des-dr1&size=120\"></a></td><td>61<br><a href=\"http://legacysurvey.org/viewer?ra=7.860763144131141&dec=-63.19934044577061\"><img src=\"http://legacysurvey.org/viewer/jpeg-cutout/?ra=7.860763&dec=-63.19934&zoom=15&layer=des-dr1&size=120\"></a></td><td>62<br><a href=\"http://legacysurvey.org/viewer?ra=8.21798251709664&dec=-65.02640331144362\"><img src=\"http://legacysurvey.org/viewer/jpeg-cutout/?ra=8.217983&dec=-65.0264&zoom=15&layer=des-dr1&size=120\"></a></td><td>63<br><a href=\"http://legacysurvey.org/viewer?ra=7.22683768297141&dec=-63.83757302499312\"><img src=\"http://legacysurvey.org/viewer/jpeg-cutout/?ra=7.226838&dec=-63.83757&zoom=15&layer=des-dr1&size=120\"></a></td></tr>\n",
       "<tr><td>64<br><a href=\"http://legacysurvey.org/viewer?ra=8.049668218885373&dec=-63.25170454214679\"><img src=\"http://legacysurvey.org/viewer/jpeg-cutout/?ra=8.049668&dec=-63.2517&zoom=15&layer=des-dr1&size=120\"></a></td><td>65<br><a href=\"http://legacysurvey.org/viewer?ra=8.449041710081726&dec=-64.98968682189165\"><img src=\"http://legacysurvey.org/viewer/jpeg-cutout/?ra=8.449042&dec=-64.98969&zoom=15&layer=des-dr1&size=120\"></a></td><td>66<br><a href=\"http://legacysurvey.org/viewer?ra=8.191352595316118&dec=-63.84437357839828\"><img src=\"http://legacysurvey.org/viewer/jpeg-cutout/?ra=8.191353&dec=-63.84437&zoom=15&layer=des-dr1&size=120\"></a></td><td>67<br><a href=\"http://legacysurvey.org/viewer?ra=8.169898275101813&dec=-65.16965418654736\"><img src=\"http://legacysurvey.org/viewer/jpeg-cutout/?ra=8.169898&dec=-65.16965&zoom=15&layer=des-dr1&size=120\"></a></td><td>68<br><a href=\"http://legacysurvey.org/viewer?ra=8.313030670113038&dec=-64.95465469998543\"><img src=\"http://legacysurvey.org/viewer/jpeg-cutout/?ra=8.313031&dec=-64.95465&zoom=15&layer=des-dr1&size=120\"></a></td><td>69<br><a href=\"http://legacysurvey.org/viewer?ra=7.357459686717122&dec=-63.77021280173839\"><img src=\"http://legacysurvey.org/viewer/jpeg-cutout/?ra=7.35746&dec=-63.77021&zoom=15&layer=des-dr1&size=120\"></a></td><td>70<br><a href=\"http://legacysurvey.org/viewer?ra=8.260261846219432&dec=-63.402287289149946\"><img src=\"http://legacysurvey.org/viewer/jpeg-cutout/?ra=8.260262&dec=-63.40229&zoom=15&layer=des-dr1&size=120\"></a></td><td>71<br><a href=\"http://legacysurvey.org/viewer?ra=8.256959284657933&dec=-65.10084124597934\"><img src=\"http://legacysurvey.org/viewer/jpeg-cutout/?ra=8.256959&dec=-65.10084&zoom=15&layer=des-dr1&size=120\"></a></td></tr>\n",
       "<tr><td>72<br><a href=\"http://legacysurvey.org/viewer?ra=8.210185369369125&dec=-63.17876088131441\"><img src=\"http://legacysurvey.org/viewer/jpeg-cutout/?ra=8.210185&dec=-63.17876&zoom=15&layer=des-dr1&size=120\"></a></td><td>73<br><a href=\"http://legacysurvey.org/viewer?ra=8.61611672510398&dec=-64.78792128026555\"><img src=\"http://legacysurvey.org/viewer/jpeg-cutout/?ra=8.616117&dec=-64.78792&zoom=15&layer=des-dr1&size=120\"></a></td><td>74<br><a href=\"http://legacysurvey.org/viewer?ra=7.518645917345922&dec=-63.980296890533594\"><img src=\"http://legacysurvey.org/viewer/jpeg-cutout/?ra=7.518646&dec=-63.9803&zoom=15&layer=des-dr1&size=120\"></a></td><td>75<br><a href=\"http://legacysurvey.org/viewer?ra=8.064669050141958&dec=-65.11341765840938\"><img src=\"http://legacysurvey.org/viewer/jpeg-cutout/?ra=8.064669&dec=-65.11342&zoom=15&layer=des-dr1&size=120\"></a></td><td>76<br><a href=\"http://legacysurvey.org/viewer?ra=7.724270538105061&dec=-63.27832232132253\"><img src=\"http://legacysurvey.org/viewer/jpeg-cutout/?ra=7.724271&dec=-63.27832&zoom=15&layer=des-dr1&size=120\"></a></td><td>77<br><a href=\"http://legacysurvey.org/viewer?ra=8.58750349644535&dec=-64.7485573092775\"><img src=\"http://legacysurvey.org/viewer/jpeg-cutout/?ra=8.587503&dec=-64.74856&zoom=15&layer=des-dr1&size=120\"></a></td><td>78<br><a href=\"http://legacysurvey.org/viewer?ra=8.986929943787773&dec=-64.46563964612194\"><img src=\"http://legacysurvey.org/viewer/jpeg-cutout/?ra=8.98693&dec=-64.46564&zoom=15&layer=des-dr1&size=120\"></a></td><td>79<br><a href=\"http://legacysurvey.org/viewer?ra=8.07396080859279&dec=-63.226471080025966\"><img src=\"http://legacysurvey.org/viewer/jpeg-cutout/?ra=8.073961&dec=-63.22647&zoom=15&layer=des-dr1&size=120\"></a></td></tr>\n",
       "<tr><td>80<br><a href=\"http://legacysurvey.org/viewer?ra=8.789733132709738&dec=-64.63517812407503\"><img src=\"http://legacysurvey.org/viewer/jpeg-cutout/?ra=8.789733&dec=-64.63518&zoom=15&layer=des-dr1&size=120\"></a></td><td>81<br><a href=\"http://legacysurvey.org/viewer?ra=7.029885361602532&dec=-64.6701512064761\"><img src=\"http://legacysurvey.org/viewer/jpeg-cutout/?ra=7.029885&dec=-64.67015&zoom=15&layer=des-dr1&size=120\"></a></td><td>82<br><a href=\"http://legacysurvey.org/viewer?ra=8.57627347500712&dec=-63.47357946609104\"><img src=\"http://legacysurvey.org/viewer/jpeg-cutout/?ra=8.576273&dec=-63.47358&zoom=15&layer=des-dr1&size=120\"></a></td><td>83<br><a href=\"http://legacysurvey.org/viewer?ra=7.795193020081838&dec=-63.698155528293924\"><img src=\"http://legacysurvey.org/viewer/jpeg-cutout/?ra=7.795193&dec=-63.69816&zoom=15&layer=des-dr1&size=120\"></a></td><td>84<br><a href=\"http://legacysurvey.org/viewer?ra=8.171916883135491&dec=-63.60045582495927\"><img src=\"http://legacysurvey.org/viewer/jpeg-cutout/?ra=8.171917&dec=-63.60046&zoom=15&layer=des-dr1&size=120\"></a></td><td>85<br><a href=\"http://legacysurvey.org/viewer?ra=7.914481139729416&dec=-64.90932849338348\"><img src=\"http://legacysurvey.org/viewer/jpeg-cutout/?ra=7.914481&dec=-64.90933&zoom=15&layer=des-dr1&size=120\"></a></td><td>86<br><a href=\"http://legacysurvey.org/viewer?ra=7.234088679194514&dec=-63.85742620297249\"><img src=\"http://legacysurvey.org/viewer/jpeg-cutout/?ra=7.234089&dec=-63.85743&zoom=15&layer=des-dr1&size=120\"></a></td><td>87<br><a href=\"http://legacysurvey.org/viewer?ra=8.706698457176667&dec=-65.00531475676323\"><img src=\"http://legacysurvey.org/viewer/jpeg-cutout/?ra=8.706698&dec=-65.00531&zoom=15&layer=des-dr1&size=120\"></a></td></tr>\n",
       "<tr><td>88<br><a href=\"http://legacysurvey.org/viewer?ra=8.060174300405977&dec=-64.90469368029159\"><img src=\"http://legacysurvey.org/viewer/jpeg-cutout/?ra=8.060174&dec=-64.90469&zoom=15&layer=des-dr1&size=120\"></a></td><td>89<br><a href=\"http://legacysurvey.org/viewer?ra=8.49775119692366&dec=-64.51165764340169\"><img src=\"http://legacysurvey.org/viewer/jpeg-cutout/?ra=8.497751&dec=-64.51166&zoom=15&layer=des-dr1&size=120\"></a></td><td>90<br><a href=\"http://legacysurvey.org/viewer?ra=8.421434241387905&dec=-65.09634905773791\"><img src=\"http://legacysurvey.org/viewer/jpeg-cutout/?ra=8.421434&dec=-65.09635&zoom=15&layer=des-dr1&size=120\"></a></td><td>91<br><a href=\"http://legacysurvey.org/viewer?ra=7.875088795764798&dec=-65.03617315113166\"><img src=\"http://legacysurvey.org/viewer/jpeg-cutout/?ra=7.875089&dec=-65.03617&zoom=15&layer=des-dr1&size=120\"></a></td><td>92<br><a href=\"http://legacysurvey.org/viewer?ra=8.833345530908465&dec=-63.67000558520701\"><img src=\"http://legacysurvey.org/viewer/jpeg-cutout/?ra=8.833346&dec=-63.67001&zoom=15&layer=des-dr1&size=120\"></a></td><td>93<br><a href=\"http://legacysurvey.org/viewer?ra=7.677617867187211&dec=-64.93872035475137\"><img src=\"http://legacysurvey.org/viewer/jpeg-cutout/?ra=7.677618&dec=-64.93872&zoom=15&layer=des-dr1&size=120\"></a></td><td>94<br><a href=\"http://legacysurvey.org/viewer?ra=7.6281286406847695&dec=-63.51535134005344\"><img src=\"http://legacysurvey.org/viewer/jpeg-cutout/?ra=7.628129&dec=-63.51535&zoom=15&layer=des-dr1&size=120\"></a></td><td>95<br><a href=\"http://legacysurvey.org/viewer?ra=8.491887811350612&dec=-63.94181036143844\"><img src=\"http://legacysurvey.org/viewer/jpeg-cutout/?ra=8.491888&dec=-63.94181&zoom=15&layer=des-dr1&size=120\"></a></td></tr>\n",
       "<tr><td>96<br><a href=\"http://legacysurvey.org/viewer?ra=7.67719169917078&dec=-65.02267748745372\"><img src=\"http://legacysurvey.org/viewer/jpeg-cutout/?ra=7.677192&dec=-65.02268&zoom=15&layer=des-dr1&size=120\"></a></td><td>97<br><a href=\"http://legacysurvey.org/viewer?ra=7.9332872393544&dec=-65.27428963808194\"><img src=\"http://legacysurvey.org/viewer/jpeg-cutout/?ra=7.933287&dec=-65.27429&zoom=15&layer=des-dr1&size=120\"></a></td><td>98<br><a href=\"http://legacysurvey.org/viewer?ra=8.38059824361184&dec=-65.25924539546477\"><img src=\"http://legacysurvey.org/viewer/jpeg-cutout/?ra=8.380598&dec=-65.25925&zoom=15&layer=des-dr1&size=120\"></a></td><td>99<br><a href=\"http://legacysurvey.org/viewer?ra=8.065815956467837&dec=-64.82103636775733\"><img src=\"http://legacysurvey.org/viewer/jpeg-cutout/?ra=8.065816&dec=-64.82104&zoom=15&layer=des-dr1&size=120\"></a></td><td></td><td></td><td></td><td></td></tr>\n",
       "    </table>\n",
       "    "
      ],
      "text/plain": [
       "<IPython.core.display.HTML object>"
      ]
     },
     "execution_count": 32,
     "metadata": {},
     "output_type": "execute_result"
    }
   ],
   "source": [
    "#The commented part below is only necessary if the decals viewer is broken but the targets are in DES\n",
    "# make_des_cutouts_file(acat[acat['Notes']=='sky'])\n",
    "# show_des_cutouts(acat[acat['Notes']=='sky'], <'JOBNAME'>, ncols=8, namecol='TargetName')\n",
    "\n",
    "make_decals_viewer_cutouts(acat[acat['Notes']=='sky'], survey='des-dr1', namecol='TargetName',\n",
    "                           ncols=8, zoom=15, size=120)"
   ]
  },
  {
   "cell_type": "code",
   "execution_count": 33,
   "metadata": {},
   "outputs": [
    {
     "data": {
      "text/plain": [
       "61"
      ]
     },
     "execution_count": 33,
     "metadata": {},
     "output_type": "execute_result"
    }
   ],
   "source": [
    "skys_to_rem = [int(i) for i in '1 5 9 11 15 16 18 20 22 24 27 29 35 41 43 45 50 55 57 58 59 60 62 65 67 69 71 72 75 76 77 79 84 90 91 93 96 97 98'.split()]\n",
    "writecat.remove_rows((writecat['Notes']=='Sky')&(np.in1d(writecat['TargetName'], skys_to_rem)))\n",
    "np.sum((writecat['Notes']=='Sky'))"
   ]
  },
  {
   "cell_type": "code",
   "execution_count": 50,
   "metadata": {},
   "outputs": [
    {
     "name": "stdout",
     "output_type": "stream",
     "text": [
      "Nflux: 5 Nguide: 100 NSky 61\n",
      "Targets in each priority: {1: 200, 2: 128, 3: 10, 4: 50, 5: 118, 6: 63, 7: 48, 8: 6}\n",
      "Total: 789\n",
      "Writing aat_targets_oct2018/pgc1952_1.fld\n"
     ]
    },
    {
     "data": {
      "text/plain": [
       "623"
      ]
     },
     "execution_count": 50,
     "metadata": {},
     "output_type": "execute_result"
    }
   ],
   "source": [
    "tt = writecat['TargetName', 'TargetType']\n",
    "tt['TargetName'].name = 'OBJID'\n",
    "tt['idx'] = np.arange(len(tt))\n",
    "joined_cat = table.join(tt, tcat, join_type='left')\n",
    "joined_cat = joined_cat[np.argsort(joined_cat['idx'])]\n",
    "\n",
    "subsampledcat = subsample_catalog(writecat, {1:200}, maxflux=5, maxguides=100, \n",
    "                                  favor_highpri=joined_cat['TARGETING_SCORE'])\n",
    "\n",
    "fldfn = 'aat_targets_oct2018/{}_{}.fld'.format(hostname, fieldnum)\n",
    "print('Writing', fldfn)\n",
    "write_fld_file(subsampledcat, host, obs_start_date, fldfn, suffix='_{}'.format(fieldnum))\n",
    "np.sum(subsampledcat['Notes'] == 'Targets')"
   ]
  },
  {
   "cell_type": "code",
   "execution_count": 51,
   "metadata": {},
   "outputs": [
    {
     "name": "stdout",
     "output_type": "stream",
     "text": [
      "pgc1952_1.fld                                 100%   42KB  42.4KB/s   00:00    \n"
     ]
    }
   ],
   "source": [
    "!scp $fldfn visitor8@aatlxh:~/oct05/"
   ]
  },
  {
   "cell_type": "markdown",
   "metadata": {},
   "source": [
    "## pgc9747"
   ]
  },
  {
   "cell_type": "code",
   "execution_count": 52,
   "metadata": {},
   "outputs": [
    {
     "name": "stdout",
     "output_type": "stream",
     "text": [
      "[10/05 20:56:00] Base catalog v2 for pgc9747 already exists (./base_catalogs/base_v2_pgc9747.fits.gz). (1/1)\n"
     ]
    }
   ],
   "source": [
    "idnum = 9747\n",
    "fieldnum = 1\n",
    "\n",
    "saga_object_catalog.build_and_write_to_database('pgc{}'.format(idnum), overwrite=fieldnum>1)"
   ]
  },
  {
   "cell_type": "code",
   "execution_count": 53,
   "metadata": {},
   "outputs": [
    {
     "name": "stdout",
     "output_type": "stream",
     "text": [
      "pgc9747\n",
      "02h33m34.296s -39d02m42s\n",
      "# of flux stars = 61\n",
      "# of sky fibers = 100\n",
      "# of Priority=1 targets = 783\n",
      "# of Priority=2 targets = 44\n",
      "# of Priority=3 targets = 6\n",
      "# of Priority=4 targets = 50\n",
      "# of Priority=5 targets = 182\n",
      "# of Priority=6 targets = 62\n",
      "# of Priority=7 targets = 34\n",
      "# of Priority=8 targets = 9\n",
      "# of Priority=9 targets = 161\n",
      "Object catalog to Gaia offset: (<Angle -0.20728011 arcsec>, <Angle 0.01741113 arcsec>) from 577 objects (63.3%)\n",
      "Found 118 Gaia guide stars\n",
      "16 Have a brightish neighbor.  Removing them.\n"
     ]
    },
    {
     "data": {
      "text/plain": [
       "1433"
      ]
     },
     "execution_count": 53,
     "metadata": {},
     "output_type": "execute_result"
    }
   ],
   "source": [
    "host = targethosts[targethosts['PGC'] == idnum]\n",
    "assert len(host) == 1\n",
    "host = host[0]\n",
    "\n",
    "hostname = host[host_id_label]\n",
    "print(hostname)\n",
    "print(SkyCoord(host['RA'], host['Dec'], unit=u.deg).to_string('hmsdms'))\n",
    "\n",
    "tcats[hostname] = tcat = saga_targets.build_target_catalogs(hostname, return_as='list', reload_base=True).pop()\n",
    "acats[hostname] = acat = saga.targets.prepare_aat_catalog(tcat, sky_fiber_needed=100)\n",
    "\n",
    "guidestars = get_gaia_guidestars(hostname, saga_host_catalog, saga_object_catalog)\n",
    "writecat = table.vstack([acat, guidestars])\n",
    "writecat['Notes'] = [n.title() for n in writecat['Notes']]\n",
    "len(writecat)"
   ]
  },
  {
   "cell_type": "code",
   "execution_count": 54,
   "metadata": {},
   "outputs": [
    {
     "data": {
      "text/html": [
       "\n",
       "    <table>\n",
       "    <tr><td>4952928664814001152<br><a href=\"http://legacysurvey.org/viewer?ra=37.44799676378496&dec=-39.3871170171843\"><img src=\"http://legacysurvey.org/viewer/jpeg-cutout/?ra=37.448&dec=-39.38712&zoom=17&layer=unwise-w1w2&size=120\"></a></td><td>4952840257207241728<br><a href=\"http://legacysurvey.org/viewer?ra=37.87206195776232&dec=-39.94651796686838\"><img src=\"http://legacysurvey.org/viewer/jpeg-cutout/?ra=37.87206&dec=-39.94652&zoom=17&layer=unwise-w1w2&size=120\"></a></td><td>4953143344459198976<br><a href=\"http://legacysurvey.org/viewer?ra=37.27961884024431&dec=-38.934754385857666\"><img src=\"http://legacysurvey.org/viewer/jpeg-cutout/?ra=37.27962&dec=-38.93475&zoom=17&layer=unwise-w1w2&size=120\"></a></td><td>4953110840146633344<br><a href=\"http://legacysurvey.org/viewer?ra=38.57732446910596&dec=-38.178689221133986\"><img src=\"http://legacysurvey.org/viewer/jpeg-cutout/?ra=38.57732&dec=-38.17869&zoom=17&layer=unwise-w1w2&size=120\"></a></td><td>4952883790995702528<br><a href=\"http://legacysurvey.org/viewer?ra=38.39409375806702&dec=-39.43143290280452\"><img src=\"http://legacysurvey.org/viewer/jpeg-cutout/?ra=38.39409&dec=-39.43143&zoom=17&layer=unwise-w1w2&size=120\"></a></td><td>4952981716249928704<br><a href=\"http://legacysurvey.org/viewer?ra=38.7390598616287&dec=-39.16642197343457\"><img src=\"http://legacysurvey.org/viewer/jpeg-cutout/?ra=38.73906&dec=-39.16642&zoom=17&layer=unwise-w1w2&size=120\"></a></td></tr>\n",
       "<tr><td>4952901417541455360<br><a href=\"http://legacysurvey.org/viewer?ra=38.229600093032886&dec=-39.22536501247519\"><img src=\"http://legacysurvey.org/viewer/jpeg-cutout/?ra=38.2296&dec=-39.22537&zoom=17&layer=unwise-w1w2&size=120\"></a></td><td>4952893068125039744<br><a href=\"http://legacysurvey.org/viewer?ra=38.14295479899733&dec=-39.44099308939578\"><img src=\"http://legacysurvey.org/viewer/jpeg-cutout/?ra=38.14295&dec=-39.44099&zoom=17&layer=unwise-w1w2&size=120\"></a></td><td>4953415748464884608<br><a href=\"http://legacysurvey.org/viewer?ra=39.15262668474596&dec=-38.37786930297752\"><img src=\"http://legacysurvey.org/viewer/jpeg-cutout/?ra=39.15263&dec=-38.37787&zoom=17&layer=unwise-w1w2&size=120\"></a></td><td>4952994601151818496<br><a href=\"http://legacysurvey.org/viewer?ra=38.55867029991164&dec=-39.09683627441248\"><img src=\"http://legacysurvey.org/viewer/jpeg-cutout/?ra=38.55867&dec=-39.09684&zoom=17&layer=unwise-w1w2&size=120\"></a></td><td>4952922995457173120<br><a href=\"http://legacysurvey.org/viewer?ra=37.42421515666299&dec=-39.53923879651937\"><img src=\"http://legacysurvey.org/viewer/jpeg-cutout/?ra=37.42422&dec=-39.53924&zoom=17&layer=unwise-w1w2&size=120\"></a></td><td>4953181655567438464<br><a href=\"http://legacysurvey.org/viewer?ra=37.526445487027246&dec=-38.494658120590664\"><img src=\"http://legacysurvey.org/viewer/jpeg-cutout/?ra=37.52645&dec=-38.49466&zoom=17&layer=unwise-w1w2&size=120\"></a></td></tr>\n",
       "<tr><td>4952945054409167488<br><a href=\"http://legacysurvey.org/viewer?ra=37.82817019070413&dec=-39.25037978474094\"><img src=\"http://legacysurvey.org/viewer/jpeg-cutout/?ra=37.82817&dec=-39.25038&zoom=17&layer=unwise-w1w2&size=120\"></a></td><td>4953266111804228992<br><a href=\"http://legacysurvey.org/viewer?ra=38.08240815338245&dec=-38.39502278679263\"><img src=\"http://legacysurvey.org/viewer/jpeg-cutout/?ra=38.08241&dec=-38.39502&zoom=17&layer=unwise-w1w2&size=120\"></a></td><td>4953165712648862080<br><a href=\"http://legacysurvey.org/viewer?ra=37.70069103749732&dec=-38.59353821824833\"><img src=\"http://legacysurvey.org/viewer/jpeg-cutout/?ra=37.70069&dec=-38.59354&zoom=17&layer=unwise-w1w2&size=120\"></a></td><td>4952228825663178112<br><a href=\"http://legacysurvey.org/viewer?ra=39.01780685440557&dec=-39.29342225431132\"><img src=\"http://legacysurvey.org/viewer/jpeg-cutout/?ra=39.01781&dec=-39.29342&zoom=17&layer=unwise-w1w2&size=120\"></a></td><td>4953278446950296704<br><a href=\"http://legacysurvey.org/viewer?ra=37.749280299269365&dec=-38.32886448974326\"><img src=\"http://legacysurvey.org/viewer/jpeg-cutout/?ra=37.74928&dec=-38.32886&zoom=17&layer=unwise-w1w2&size=120\"></a></td><td>4952627467347811200<br><a href=\"http://legacysurvey.org/viewer?ra=39.62880876571456&dec=-38.89646411514301\"><img src=\"http://legacysurvey.org/viewer/jpeg-cutout/?ra=39.62881&dec=-38.89646&zoom=17&layer=unwise-w1w2&size=120\"></a></td></tr>\n",
       "<tr><td>4953144821927944448<br><a href=\"http://legacysurvey.org/viewer?ra=37.39434611798948&dec=-38.843462393842614\"><img src=\"http://legacysurvey.org/viewer/jpeg-cutout/?ra=37.39435&dec=-38.84346&zoom=17&layer=unwise-w1w2&size=120\"></a></td><td>4953256418061845760<br><a href=\"http://legacysurvey.org/viewer?ra=37.96804339743021&dec=-38.60435784926214\"><img src=\"http://legacysurvey.org/viewer/jpeg-cutout/?ra=37.96804&dec=-38.60436&zoom=17&layer=unwise-w1w2&size=120\"></a></td><td>4952989481550797312<br><a href=\"http://legacysurvey.org/viewer?ra=38.76218644862226&dec=-39.01742630946837\"><img src=\"http://legacysurvey.org/viewer/jpeg-cutout/?ra=38.76219&dec=-39.01743&zoom=17&layer=unwise-w1w2&size=120\"></a></td><td>4953082046685901184<br><a href=\"http://legacysurvey.org/viewer?ra=38.67169964978256&dec=-38.519694439298945\"><img src=\"http://legacysurvey.org/viewer/jpeg-cutout/?ra=38.6717&dec=-38.51969&zoom=17&layer=unwise-w1w2&size=120\"></a></td><td>4952961718882264064<br><a href=\"http://legacysurvey.org/viewer?ra=37.701581606418166&dec=-39.085902531723725\"><img src=\"http://legacysurvey.org/viewer/jpeg-cutout/?ra=37.70158&dec=-39.0859&zoom=17&layer=unwise-w1w2&size=120\"></a></td><td>4952877984199919360<br><a href=\"http://legacysurvey.org/viewer?ra=38.48099683953142&dec=-39.59544814210393\"><img src=\"http://legacysurvey.org/viewer/jpeg-cutout/?ra=38.481&dec=-39.59545&zoom=17&layer=unwise-w1w2&size=120\"></a></td></tr>\n",
       "    </table>\n",
       "    "
      ],
      "text/plain": [
       "<IPython.core.display.HTML object>"
      ]
     },
     "execution_count": 54,
     "metadata": {},
     "output_type": "execute_result"
    }
   ],
   "source": [
    "# only need to remove if something really fishy is going on\n",
    "make_decals_viewer_cutouts(guidestars[np.random.permutation(len(guidestars))[:24]], \n",
    "                           survey='unwise-w1w2',ncols=6,namecol='TargetName', zoom=17)"
   ]
  },
  {
   "cell_type": "code",
   "execution_count": 55,
   "metadata": {},
   "outputs": [
    {
     "data": {
      "text/html": [
       "\n",
       "    <table>\n",
       "    <tr><td>0<br><a href=\"http://legacysurvey.org/viewer?ra=38.37093556356927&dec=-39.816680699180836\"><img src=\"http://legacysurvey.org/viewer/jpeg-cutout/?ra=38.37094&dec=-39.81668&zoom=15&layer=des-dr1&size=120\"></a></td><td>1<br><a href=\"http://legacysurvey.org/viewer?ra=37.854392388096656&dec=-39.99550620375099\"><img src=\"http://legacysurvey.org/viewer/jpeg-cutout/?ra=37.85439&dec=-39.99551&zoom=15&layer=des-dr1&size=120\"></a></td><td>2<br><a href=\"http://legacysurvey.org/viewer?ra=38.547814637725295&dec=-39.85932851741068\"><img src=\"http://legacysurvey.org/viewer/jpeg-cutout/?ra=38.54781&dec=-39.85933&zoom=15&layer=des-dr1&size=120\"></a></td><td>3<br><a href=\"http://legacysurvey.org/viewer?ra=37.74046635125152&dec=-39.51336773676491\"><img src=\"http://legacysurvey.org/viewer/jpeg-cutout/?ra=37.74047&dec=-39.51337&zoom=15&layer=des-dr1&size=120\"></a></td><td>4<br><a href=\"http://legacysurvey.org/viewer?ra=38.29537479173981&dec=-39.7458961966029\"><img src=\"http://legacysurvey.org/viewer/jpeg-cutout/?ra=38.29537&dec=-39.7459&zoom=15&layer=des-dr1&size=120\"></a></td><td>5<br><a href=\"http://legacysurvey.org/viewer?ra=37.713869675211356&dec=-39.70412757785319\"><img src=\"http://legacysurvey.org/viewer/jpeg-cutout/?ra=37.71387&dec=-39.70413&zoom=15&layer=des-dr1&size=120\"></a></td><td>6<br><a href=\"http://legacysurvey.org/viewer?ra=38.326836685810164&dec=-38.00763355819324\"><img src=\"http://legacysurvey.org/viewer/jpeg-cutout/?ra=38.32684&dec=-38.00763&zoom=15&layer=des-dr1&size=120\"></a></td><td>7<br><a href=\"http://legacysurvey.org/viewer?ra=37.46590231626718&dec=-39.382147369614515\"><img src=\"http://legacysurvey.org/viewer/jpeg-cutout/?ra=37.4659&dec=-39.38215&zoom=15&layer=des-dr1&size=120\"></a></td></tr>\n",
       "<tr><td>8<br><a href=\"http://legacysurvey.org/viewer?ra=37.61909285401668&dec=-38.51902427410258\"><img src=\"http://legacysurvey.org/viewer/jpeg-cutout/?ra=37.61909&dec=-38.51902&zoom=15&layer=des-dr1&size=120\"></a></td><td>9<br><a href=\"http://legacysurvey.org/viewer?ra=39.077575889163256&dec=-39.3232272329238\"><img src=\"http://legacysurvey.org/viewer/jpeg-cutout/?ra=39.07758&dec=-39.32323&zoom=15&layer=des-dr1&size=120\"></a></td><td>10<br><a href=\"http://legacysurvey.org/viewer?ra=39.143337533571355&dec=-39.243323652232895\"><img src=\"http://legacysurvey.org/viewer/jpeg-cutout/?ra=39.14334&dec=-39.24332&zoom=15&layer=des-dr1&size=120\"></a></td><td>11<br><a href=\"http://legacysurvey.org/viewer?ra=38.072827912430284&dec=-39.86478505385931\"><img src=\"http://legacysurvey.org/viewer/jpeg-cutout/?ra=38.07283&dec=-39.86479&zoom=15&layer=des-dr1&size=120\"></a></td><td>12<br><a href=\"http://legacysurvey.org/viewer?ra=37.821942941755424&dec=-39.95931715046496\"><img src=\"http://legacysurvey.org/viewer/jpeg-cutout/?ra=37.82194&dec=-39.95932&zoom=15&layer=des-dr1&size=120\"></a></td><td>13<br><a href=\"http://legacysurvey.org/viewer?ra=37.86641776868775&dec=-40.004371557293055\"><img src=\"http://legacysurvey.org/viewer/jpeg-cutout/?ra=37.86642&dec=-40.00437&zoom=15&layer=des-dr1&size=120\"></a></td><td>14<br><a href=\"http://legacysurvey.org/viewer?ra=37.50398934564045&dec=-38.76497218129784\"><img src=\"http://legacysurvey.org/viewer/jpeg-cutout/?ra=37.50399&dec=-38.76497&zoom=15&layer=des-dr1&size=120\"></a></td><td>15<br><a href=\"http://legacysurvey.org/viewer?ra=37.74346553907671&dec=-38.609475826445255\"><img src=\"http://legacysurvey.org/viewer/jpeg-cutout/?ra=37.74347&dec=-38.60948&zoom=15&layer=des-dr1&size=120\"></a></td></tr>\n",
       "<tr><td>16<br><a href=\"http://legacysurvey.org/viewer?ra=39.051965304748&dec=-38.34085583166981\"><img src=\"http://legacysurvey.org/viewer/jpeg-cutout/?ra=39.05197&dec=-38.34086&zoom=15&layer=des-dr1&size=120\"></a></td><td>17<br><a href=\"http://legacysurvey.org/viewer?ra=38.421568628058616&dec=-38.0420470240729\"><img src=\"http://legacysurvey.org/viewer/jpeg-cutout/?ra=38.42157&dec=-38.04205&zoom=15&layer=des-dr1&size=120\"></a></td><td>18<br><a href=\"http://legacysurvey.org/viewer?ra=38.206202091987116&dec=-40.08254762277952\"><img src=\"http://legacysurvey.org/viewer/jpeg-cutout/?ra=38.2062&dec=-40.08255&zoom=15&layer=des-dr1&size=120\"></a></td><td>19<br><a href=\"http://legacysurvey.org/viewer?ra=39.29419763458242&dec=-39.17318149769346\"><img src=\"http://legacysurvey.org/viewer/jpeg-cutout/?ra=39.2942&dec=-39.17318&zoom=15&layer=des-dr1&size=120\"></a></td><td>20<br><a href=\"http://legacysurvey.org/viewer?ra=39.15292534878729&dec=-38.85963636856814\"><img src=\"http://legacysurvey.org/viewer/jpeg-cutout/?ra=39.15293&dec=-38.85964&zoom=15&layer=des-dr1&size=120\"></a></td><td>21<br><a href=\"http://legacysurvey.org/viewer?ra=37.6854038756778&dec=-39.88491417288771\"><img src=\"http://legacysurvey.org/viewer/jpeg-cutout/?ra=37.6854&dec=-39.88491&zoom=15&layer=des-dr1&size=120\"></a></td><td>22<br><a href=\"http://legacysurvey.org/viewer?ra=39.16828464734062&dec=-39.68102733362841\"><img src=\"http://legacysurvey.org/viewer/jpeg-cutout/?ra=39.16828&dec=-39.68103&zoom=15&layer=des-dr1&size=120\"></a></td><td>23<br><a href=\"http://legacysurvey.org/viewer?ra=39.23978045322395&dec=-38.667024350976725\"><img src=\"http://legacysurvey.org/viewer/jpeg-cutout/?ra=39.23978&dec=-38.66702&zoom=15&layer=des-dr1&size=120\"></a></td></tr>\n",
       "<tr><td>24<br><a href=\"http://legacysurvey.org/viewer?ra=37.904339323498924&dec=-38.422009513441324\"><img src=\"http://legacysurvey.org/viewer/jpeg-cutout/?ra=37.90434&dec=-38.42201&zoom=15&layer=des-dr1&size=120\"></a></td><td>25<br><a href=\"http://legacysurvey.org/viewer?ra=39.41513492638511&dec=-38.86332289899063\"><img src=\"http://legacysurvey.org/viewer/jpeg-cutout/?ra=39.41513&dec=-38.86332&zoom=15&layer=des-dr1&size=120\"></a></td><td>26<br><a href=\"http://legacysurvey.org/viewer?ra=38.377232051144254&dec=-38.0071219838486\"><img src=\"http://legacysurvey.org/viewer/jpeg-cutout/?ra=38.37723&dec=-38.00712&zoom=15&layer=des-dr1&size=120\"></a></td><td>27<br><a href=\"http://legacysurvey.org/viewer?ra=37.92520179232801&dec=-39.433932521785486\"><img src=\"http://legacysurvey.org/viewer/jpeg-cutout/?ra=37.9252&dec=-39.43393&zoom=15&layer=des-dr1&size=120\"></a></td><td>28<br><a href=\"http://legacysurvey.org/viewer?ra=38.78848106517446&dec=-38.2101266758919\"><img src=\"http://legacysurvey.org/viewer/jpeg-cutout/?ra=38.78848&dec=-38.21013&zoom=15&layer=des-dr1&size=120\"></a></td><td>29<br><a href=\"http://legacysurvey.org/viewer?ra=38.305905772339415&dec=-39.698839386766174\"><img src=\"http://legacysurvey.org/viewer/jpeg-cutout/?ra=38.30591&dec=-39.69884&zoom=15&layer=des-dr1&size=120\"></a></td><td>30<br><a href=\"http://legacysurvey.org/viewer?ra=38.66850808803486&dec=-38.05166965263331\"><img src=\"http://legacysurvey.org/viewer/jpeg-cutout/?ra=38.66851&dec=-38.05167&zoom=15&layer=des-dr1&size=120\"></a></td><td>31<br><a href=\"http://legacysurvey.org/viewer?ra=37.50609874878461&dec=-38.8733425114956\"><img src=\"http://legacysurvey.org/viewer/jpeg-cutout/?ra=37.5061&dec=-38.87334&zoom=15&layer=des-dr1&size=120\"></a></td></tr>\n",
       "<tr><td>32<br><a href=\"http://legacysurvey.org/viewer?ra=38.21645063189902&dec=-38.002872553950816\"><img src=\"http://legacysurvey.org/viewer/jpeg-cutout/?ra=38.21645&dec=-38.00287&zoom=15&layer=des-dr1&size=120\"></a></td><td>33<br><a href=\"http://legacysurvey.org/viewer?ra=38.76375866346914&dec=-38.56790352574259\"><img src=\"http://legacysurvey.org/viewer/jpeg-cutout/?ra=38.76376&dec=-38.5679&zoom=15&layer=des-dr1&size=120\"></a></td><td>34<br><a href=\"http://legacysurvey.org/viewer?ra=37.55437237360313&dec=-38.36763730335719\"><img src=\"http://legacysurvey.org/viewer/jpeg-cutout/?ra=37.55437&dec=-38.36764&zoom=15&layer=des-dr1&size=120\"></a></td><td>35<br><a href=\"http://legacysurvey.org/viewer?ra=37.90005912401084&dec=-38.691714705427\"><img src=\"http://legacysurvey.org/viewer/jpeg-cutout/?ra=37.90006&dec=-38.69171&zoom=15&layer=des-dr1&size=120\"></a></td><td>36<br><a href=\"http://legacysurvey.org/viewer?ra=39.164395308419444&dec=-38.588493281622945\"><img src=\"http://legacysurvey.org/viewer/jpeg-cutout/?ra=39.1644&dec=-38.58849&zoom=15&layer=des-dr1&size=120\"></a></td><td>37<br><a href=\"http://legacysurvey.org/viewer?ra=38.90856650085928&dec=-38.09529374996329\"><img src=\"http://legacysurvey.org/viewer/jpeg-cutout/?ra=38.90857&dec=-38.09529&zoom=15&layer=des-dr1&size=120\"></a></td><td>38<br><a href=\"http://legacysurvey.org/viewer?ra=39.2641877925446&dec=-38.8542638949007\"><img src=\"http://legacysurvey.org/viewer/jpeg-cutout/?ra=39.26419&dec=-38.85426&zoom=15&layer=des-dr1&size=120\"></a></td><td>39<br><a href=\"http://legacysurvey.org/viewer?ra=37.32876775180649&dec=-39.071959045994156\"><img src=\"http://legacysurvey.org/viewer/jpeg-cutout/?ra=37.32877&dec=-39.07196&zoom=15&layer=des-dr1&size=120\"></a></td></tr>\n",
       "<tr><td>40<br><a href=\"http://legacysurvey.org/viewer?ra=39.109911658950125&dec=-38.33253836603766\"><img src=\"http://legacysurvey.org/viewer/jpeg-cutout/?ra=39.10991&dec=-38.33254&zoom=15&layer=des-dr1&size=120\"></a></td><td>41<br><a href=\"http://legacysurvey.org/viewer?ra=38.451541267344474&dec=-40.02407425551217\"><img src=\"http://legacysurvey.org/viewer/jpeg-cutout/?ra=38.45154&dec=-40.02407&zoom=15&layer=des-dr1&size=120\"></a></td><td>42<br><a href=\"http://legacysurvey.org/viewer?ra=38.896317311128854&dec=-39.73508841897174\"><img src=\"http://legacysurvey.org/viewer/jpeg-cutout/?ra=38.89632&dec=-39.73509&zoom=15&layer=des-dr1&size=120\"></a></td><td>43<br><a href=\"http://legacysurvey.org/viewer?ra=37.82309601232953&dec=-39.71373504923984\"><img src=\"http://legacysurvey.org/viewer/jpeg-cutout/?ra=37.8231&dec=-39.71374&zoom=15&layer=des-dr1&size=120\"></a></td><td>44<br><a href=\"http://legacysurvey.org/viewer?ra=37.69552236394268&dec=-39.27335078142758\"><img src=\"http://legacysurvey.org/viewer/jpeg-cutout/?ra=37.69552&dec=-39.27335&zoom=15&layer=des-dr1&size=120\"></a></td><td>45<br><a href=\"http://legacysurvey.org/viewer?ra=37.68527631956381&dec=-39.82576392214367\"><img src=\"http://legacysurvey.org/viewer/jpeg-cutout/?ra=37.68528&dec=-39.82576&zoom=15&layer=des-dr1&size=120\"></a></td><td>46<br><a href=\"http://legacysurvey.org/viewer?ra=39.34329025136069&dec=-39.51344870375206\"><img src=\"http://legacysurvey.org/viewer/jpeg-cutout/?ra=39.34329&dec=-39.51345&zoom=15&layer=des-dr1&size=120\"></a></td><td>47<br><a href=\"http://legacysurvey.org/viewer?ra=38.93377603506214&dec=-38.785754301734215\"><img src=\"http://legacysurvey.org/viewer/jpeg-cutout/?ra=38.93378&dec=-38.78575&zoom=15&layer=des-dr1&size=120\"></a></td></tr>\n",
       "<tr><td>48<br><a href=\"http://legacysurvey.org/viewer?ra=38.08297465182262&dec=-40.03606649307164\"><img src=\"http://legacysurvey.org/viewer/jpeg-cutout/?ra=38.08297&dec=-40.03607&zoom=15&layer=des-dr1&size=120\"></a></td><td>49<br><a href=\"http://legacysurvey.org/viewer?ra=37.59718492770256&dec=-39.53246941316282\"><img src=\"http://legacysurvey.org/viewer/jpeg-cutout/?ra=37.59718&dec=-39.53247&zoom=15&layer=des-dr1&size=120\"></a></td><td>50<br><a href=\"http://legacysurvey.org/viewer?ra=37.790424376940834&dec=-39.94986080676689\"><img src=\"http://legacysurvey.org/viewer/jpeg-cutout/?ra=37.79042&dec=-39.94986&zoom=15&layer=des-dr1&size=120\"></a></td><td>51<br><a href=\"http://legacysurvey.org/viewer?ra=38.49794346276978&dec=-38.28212285780448\"><img src=\"http://legacysurvey.org/viewer/jpeg-cutout/?ra=38.49794&dec=-38.28212&zoom=15&layer=des-dr1&size=120\"></a></td><td>52<br><a href=\"http://legacysurvey.org/viewer?ra=38.7590494329474&dec=-38.23915478546519\"><img src=\"http://legacysurvey.org/viewer/jpeg-cutout/?ra=38.75905&dec=-38.23915&zoom=15&layer=des-dr1&size=120\"></a></td><td>53<br><a href=\"http://legacysurvey.org/viewer?ra=38.928641146965646&dec=-38.57446276405745\"><img src=\"http://legacysurvey.org/viewer/jpeg-cutout/?ra=38.92864&dec=-38.57446&zoom=15&layer=des-dr1&size=120\"></a></td><td>54<br><a href=\"http://legacysurvey.org/viewer?ra=38.03143082872409&dec=-40.050632310622646\"><img src=\"http://legacysurvey.org/viewer/jpeg-cutout/?ra=38.03143&dec=-40.05063&zoom=15&layer=des-dr1&size=120\"></a></td><td>55<br><a href=\"http://legacysurvey.org/viewer?ra=39.0215360568112&dec=-38.596507605525716\"><img src=\"http://legacysurvey.org/viewer/jpeg-cutout/?ra=39.02154&dec=-38.59651&zoom=15&layer=des-dr1&size=120\"></a></td></tr>\n",
       "<tr><td>56<br><a href=\"http://legacysurvey.org/viewer?ra=37.70069738620162&dec=-38.66277806824959\"><img src=\"http://legacysurvey.org/viewer/jpeg-cutout/?ra=37.7007&dec=-38.66278&zoom=15&layer=des-dr1&size=120\"></a></td><td>57<br><a href=\"http://legacysurvey.org/viewer?ra=37.541343954238094&dec=-38.62735210005073\"><img src=\"http://legacysurvey.org/viewer/jpeg-cutout/?ra=37.54134&dec=-38.62735&zoom=15&layer=des-dr1&size=120\"></a></td><td>58<br><a href=\"http://legacysurvey.org/viewer?ra=38.72408583568439&dec=-38.076935298446\"><img src=\"http://legacysurvey.org/viewer/jpeg-cutout/?ra=38.72409&dec=-38.07694&zoom=15&layer=des-dr1&size=120\"></a></td><td>59<br><a href=\"http://legacysurvey.org/viewer?ra=37.40134725269295&dec=-39.17879408465212\"><img src=\"http://legacysurvey.org/viewer/jpeg-cutout/?ra=37.40135&dec=-39.17879&zoom=15&layer=des-dr1&size=120\"></a></td><td>60<br><a href=\"http://legacysurvey.org/viewer?ra=39.137735780521666&dec=-39.762689480773865\"><img src=\"http://legacysurvey.org/viewer/jpeg-cutout/?ra=39.13774&dec=-39.76269&zoom=15&layer=des-dr1&size=120\"></a></td><td>61<br><a href=\"http://legacysurvey.org/viewer?ra=38.92232966179624&dec=-38.4773339160179\"><img src=\"http://legacysurvey.org/viewer/jpeg-cutout/?ra=38.92233&dec=-38.47733&zoom=15&layer=des-dr1&size=120\"></a></td><td>62<br><a href=\"http://legacysurvey.org/viewer?ra=38.65355162822045&dec=-38.18763224927229\"><img src=\"http://legacysurvey.org/viewer/jpeg-cutout/?ra=38.65355&dec=-38.18763&zoom=15&layer=des-dr1&size=120\"></a></td><td>63<br><a href=\"http://legacysurvey.org/viewer?ra=38.561461661125016&dec=-39.81170803120109\"><img src=\"http://legacysurvey.org/viewer/jpeg-cutout/?ra=38.56146&dec=-39.81171&zoom=15&layer=des-dr1&size=120\"></a></td></tr>\n",
       "<tr><td>64<br><a href=\"http://legacysurvey.org/viewer?ra=38.57988082707733&dec=-38.01909093281329\"><img src=\"http://legacysurvey.org/viewer/jpeg-cutout/?ra=38.57988&dec=-38.01909&zoom=15&layer=des-dr1&size=120\"></a></td><td>65<br><a href=\"http://legacysurvey.org/viewer?ra=38.77574828869726&dec=-38.321592454229155\"><img src=\"http://legacysurvey.org/viewer/jpeg-cutout/?ra=38.77575&dec=-38.32159&zoom=15&layer=des-dr1&size=120\"></a></td><td>66<br><a href=\"http://legacysurvey.org/viewer?ra=38.66826314171928&dec=-40.082480620198204\"><img src=\"http://legacysurvey.org/viewer/jpeg-cutout/?ra=38.66826&dec=-40.08248&zoom=15&layer=des-dr1&size=120\"></a></td><td>67<br><a href=\"http://legacysurvey.org/viewer?ra=38.971227000851&dec=-39.70706780127733\"><img src=\"http://legacysurvey.org/viewer/jpeg-cutout/?ra=38.97123&dec=-39.70707&zoom=15&layer=des-dr1&size=120\"></a></td><td>68<br><a href=\"http://legacysurvey.org/viewer?ra=37.92743551436764&dec=-39.45912452910946\"><img src=\"http://legacysurvey.org/viewer/jpeg-cutout/?ra=37.92744&dec=-39.45912&zoom=15&layer=des-dr1&size=120\"></a></td><td>69<br><a href=\"http://legacysurvey.org/viewer?ra=37.82797644752542&dec=-38.10982049400906\"><img src=\"http://legacysurvey.org/viewer/jpeg-cutout/?ra=37.82798&dec=-38.10982&zoom=15&layer=des-dr1&size=120\"></a></td><td>70<br><a href=\"http://legacysurvey.org/viewer?ra=38.24408153650177&dec=-37.98537770414402\"><img src=\"http://legacysurvey.org/viewer/jpeg-cutout/?ra=38.24408&dec=-37.98538&zoom=15&layer=des-dr1&size=120\"></a></td><td>71<br><a href=\"http://legacysurvey.org/viewer?ra=37.862920624793155&dec=-38.10080514827238\"><img src=\"http://legacysurvey.org/viewer/jpeg-cutout/?ra=37.86292&dec=-38.10081&zoom=15&layer=des-dr1&size=120\"></a></td></tr>\n",
       "<tr><td>72<br><a href=\"http://legacysurvey.org/viewer?ra=38.65748283498057&dec=-39.60926496521664\"><img src=\"http://legacysurvey.org/viewer/jpeg-cutout/?ra=38.65748&dec=-39.60926&zoom=15&layer=des-dr1&size=120\"></a></td><td>73<br><a href=\"http://legacysurvey.org/viewer?ra=38.43441009192723&dec=-38.02754323323128\"><img src=\"http://legacysurvey.org/viewer/jpeg-cutout/?ra=38.43441&dec=-38.02754&zoom=15&layer=des-dr1&size=120\"></a></td><td>74<br><a href=\"http://legacysurvey.org/viewer?ra=38.98402654916854&dec=-39.4919150682024\"><img src=\"http://legacysurvey.org/viewer/jpeg-cutout/?ra=38.98403&dec=-39.49192&zoom=15&layer=des-dr1&size=120\"></a></td><td>75<br><a href=\"http://legacysurvey.org/viewer?ra=39.15563991470766&dec=-38.85308065566292\"><img src=\"http://legacysurvey.org/viewer/jpeg-cutout/?ra=39.15564&dec=-38.85308&zoom=15&layer=des-dr1&size=120\"></a></td><td>76<br><a href=\"http://legacysurvey.org/viewer?ra=38.68994787938742&dec=-39.80179008525196\"><img src=\"http://legacysurvey.org/viewer/jpeg-cutout/?ra=38.68995&dec=-39.80179&zoom=15&layer=des-dr1&size=120\"></a></td><td>77<br><a href=\"http://legacysurvey.org/viewer?ra=37.53227265407219&dec=-39.191039177407625\"><img src=\"http://legacysurvey.org/viewer/jpeg-cutout/?ra=37.53227&dec=-39.19104&zoom=15&layer=des-dr1&size=120\"></a></td><td>78<br><a href=\"http://legacysurvey.org/viewer?ra=39.477445784988305&dec=-39.16640227700579\"><img src=\"http://legacysurvey.org/viewer/jpeg-cutout/?ra=39.47745&dec=-39.1664&zoom=15&layer=des-dr1&size=120\"></a></td><td>79<br><a href=\"http://legacysurvey.org/viewer?ra=38.72148507835355&dec=-39.802389300779645\"><img src=\"http://legacysurvey.org/viewer/jpeg-cutout/?ra=38.72149&dec=-39.80239&zoom=15&layer=des-dr1&size=120\"></a></td></tr>\n",
       "<tr><td>80<br><a href=\"http://legacysurvey.org/viewer?ra=38.99425482939378&dec=-39.57784289353538\"><img src=\"http://legacysurvey.org/viewer/jpeg-cutout/?ra=38.99425&dec=-39.57784&zoom=15&layer=des-dr1&size=120\"></a></td><td>81<br><a href=\"http://legacysurvey.org/viewer?ra=39.19356181265245&dec=-38.95349730522693\"><img src=\"http://legacysurvey.org/viewer/jpeg-cutout/?ra=39.19356&dec=-38.9535&zoom=15&layer=des-dr1&size=120\"></a></td><td>82<br><a href=\"http://legacysurvey.org/viewer?ra=38.594475380719224&dec=-37.96933709455064\"><img src=\"http://legacysurvey.org/viewer/jpeg-cutout/?ra=38.59448&dec=-37.96934&zoom=15&layer=des-dr1&size=120\"></a></td><td>83<br><a href=\"http://legacysurvey.org/viewer?ra=38.104572478029574&dec=-38.05690523990369\"><img src=\"http://legacysurvey.org/viewer/jpeg-cutout/?ra=38.10457&dec=-38.05691&zoom=15&layer=des-dr1&size=120\"></a></td><td>84<br><a href=\"http://legacysurvey.org/viewer?ra=39.09051416081355&dec=-38.20072494056121\"><img src=\"http://legacysurvey.org/viewer/jpeg-cutout/?ra=39.09051&dec=-38.20072&zoom=15&layer=des-dr1&size=120\"></a></td><td>85<br><a href=\"http://legacysurvey.org/viewer?ra=38.085706980585435&dec=-38.229373430431124\"><img src=\"http://legacysurvey.org/viewer/jpeg-cutout/?ra=38.08571&dec=-38.22937&zoom=15&layer=des-dr1&size=120\"></a></td><td>86<br><a href=\"http://legacysurvey.org/viewer?ra=37.45560627652163&dec=-39.313596756881196\"><img src=\"http://legacysurvey.org/viewer/jpeg-cutout/?ra=37.45561&dec=-39.3136&zoom=15&layer=des-dr1&size=120\"></a></td><td>87<br><a href=\"http://legacysurvey.org/viewer?ra=37.60627079804841&dec=-39.684794793699595\"><img src=\"http://legacysurvey.org/viewer/jpeg-cutout/?ra=37.60627&dec=-39.68479&zoom=15&layer=des-dr1&size=120\"></a></td></tr>\n",
       "<tr><td>88<br><a href=\"http://legacysurvey.org/viewer?ra=39.18246028087027&dec=-38.676268967502395\"><img src=\"http://legacysurvey.org/viewer/jpeg-cutout/?ra=39.18246&dec=-38.67627&zoom=15&layer=des-dr1&size=120\"></a></td><td>89<br><a href=\"http://legacysurvey.org/viewer?ra=38.40904329649537&dec=-38.02997339863087\"><img src=\"http://legacysurvey.org/viewer/jpeg-cutout/?ra=38.40904&dec=-38.02997&zoom=15&layer=des-dr1&size=120\"></a></td><td>90<br><a href=\"http://legacysurvey.org/viewer?ra=38.57599112171241&dec=-38.31209187408459\"><img src=\"http://legacysurvey.org/viewer/jpeg-cutout/?ra=38.57599&dec=-38.31209&zoom=15&layer=des-dr1&size=120\"></a></td><td>91<br><a href=\"http://legacysurvey.org/viewer?ra=37.846953631347326&dec=-39.609299607835865\"><img src=\"http://legacysurvey.org/viewer/jpeg-cutout/?ra=37.84695&dec=-39.6093&zoom=15&layer=des-dr1&size=120\"></a></td><td>92<br><a href=\"http://legacysurvey.org/viewer?ra=38.89936200185849&dec=-38.48427968031026\"><img src=\"http://legacysurvey.org/viewer/jpeg-cutout/?ra=38.89936&dec=-38.48428&zoom=15&layer=des-dr1&size=120\"></a></td><td>93<br><a href=\"http://legacysurvey.org/viewer?ra=37.92009794373437&dec=-38.37047186975057\"><img src=\"http://legacysurvey.org/viewer/jpeg-cutout/?ra=37.9201&dec=-38.37047&zoom=15&layer=des-dr1&size=120\"></a></td><td>94<br><a href=\"http://legacysurvey.org/viewer?ra=39.324264730053244&dec=-39.15918005462497\"><img src=\"http://legacysurvey.org/viewer/jpeg-cutout/?ra=39.32426&dec=-39.15918&zoom=15&layer=des-dr1&size=120\"></a></td><td>95<br><a href=\"http://legacysurvey.org/viewer?ra=38.8627283603286&dec=-38.24216267961473\"><img src=\"http://legacysurvey.org/viewer/jpeg-cutout/?ra=38.86273&dec=-38.24216&zoom=15&layer=des-dr1&size=120\"></a></td></tr>\n",
       "<tr><td>96<br><a href=\"http://legacysurvey.org/viewer?ra=38.316483476591074&dec=-40.07809006672727\"><img src=\"http://legacysurvey.org/viewer/jpeg-cutout/?ra=38.31648&dec=-40.07809&zoom=15&layer=des-dr1&size=120\"></a></td><td>97<br><a href=\"http://legacysurvey.org/viewer?ra=38.89098872572873&dec=-38.31189010464725\"><img src=\"http://legacysurvey.org/viewer/jpeg-cutout/?ra=38.89099&dec=-38.31189&zoom=15&layer=des-dr1&size=120\"></a></td><td>98<br><a href=\"http://legacysurvey.org/viewer?ra=38.76620370568274&dec=-40.05491633185459\"><img src=\"http://legacysurvey.org/viewer/jpeg-cutout/?ra=38.7662&dec=-40.05492&zoom=15&layer=des-dr1&size=120\"></a></td><td>99<br><a href=\"http://legacysurvey.org/viewer?ra=38.46090465414368&dec=-39.722041016466164\"><img src=\"http://legacysurvey.org/viewer/jpeg-cutout/?ra=38.4609&dec=-39.72204&zoom=15&layer=des-dr1&size=120\"></a></td><td></td><td></td><td></td><td></td></tr>\n",
       "    </table>\n",
       "    "
      ],
      "text/plain": [
       "<IPython.core.display.HTML object>"
      ]
     },
     "execution_count": 55,
     "metadata": {},
     "output_type": "execute_result"
    }
   ],
   "source": [
    "#The commented part below is only necessary if the decals viewer is broken but the targets are in DES\n",
    "# make_des_cutouts_file(acat[acat['Notes']=='sky'])\n",
    "# show_des_cutouts(acat[acat['Notes']=='sky'], <'JOBNAME'>, ncols=8, namecol='TargetName')\n",
    "\n",
    "make_decals_viewer_cutouts(acat[acat['Notes']=='sky'], survey='des-dr1', namecol='TargetName',\n",
    "                           ncols=8, zoom=15, size=120)"
   ]
  },
  {
   "cell_type": "code",
   "execution_count": 56,
   "metadata": {},
   "outputs": [
    {
     "data": {
      "text/plain": [
       "89"
      ]
     },
     "execution_count": 56,
     "metadata": {},
     "output_type": "execute_result"
    }
   ],
   "source": [
    "skys_to_rem = [int(i) for i in '6 12 21 32 37 50 58 59 82 89 99'.split()]\n",
    "writecat.remove_rows((writecat['Notes']=='Sky')&(np.in1d(writecat['TargetName'], skys_to_rem)))\n",
    "np.sum((writecat['Notes']=='Sky'))"
   ]
  },
  {
   "cell_type": "code",
   "execution_count": 57,
   "metadata": {},
   "outputs": [
    {
     "name": "stdout",
     "output_type": "stream",
     "text": [
      "Nflux: 5 Nguide: 100 NSky 89\n",
      "Targets in each priority: {1: 200, 2: 44, 3: 6, 4: 50, 5: 182, 6: 62, 7: 34, 8: 9}\n",
      "Total: 781\n",
      "Writing aat_targets_oct2018/pgc9747_1.fld\n"
     ]
    },
    {
     "data": {
      "text/plain": [
       "587"
      ]
     },
     "execution_count": 57,
     "metadata": {},
     "output_type": "execute_result"
    }
   ],
   "source": [
    "tt = writecat['TargetName', 'TargetType']\n",
    "tt['TargetName'].name = 'OBJID'\n",
    "tt['idx'] = np.arange(len(tt))\n",
    "joined_cat = table.join(tt, tcat, join_type='left')\n",
    "joined_cat = joined_cat[np.argsort(joined_cat['idx'])]\n",
    "\n",
    "subsampledcat = subsample_catalog(writecat, {1:200}, maxflux=5, maxguides=100, \n",
    "                                  favor_highpri=joined_cat['TARGETING_SCORE'])\n",
    "\n",
    "fldfn = 'aat_targets_oct2018/{}_{}.fld'.format(hostname, fieldnum)\n",
    "print('Writing', fldfn)\n",
    "write_fld_file(subsampledcat, host, obs_start_date, fldfn, suffix='_{}'.format(fieldnum))\n",
    "np.sum(subsampledcat['Notes'] == 'Targets')"
   ]
  },
  {
   "cell_type": "code",
   "execution_count": 58,
   "metadata": {},
   "outputs": [
    {
     "name": "stdout",
     "output_type": "stream",
     "text": [
      "pgc9747_1.fld                                 100%   42KB  41.6KB/s   00:00    \n"
     ]
    }
   ],
   "source": [
    "!scp $fldfn visitor8@aatlxh:~/oct05/"
   ]
  },
  {
   "cell_type": "markdown",
   "metadata": {},
   "source": [
    "## pgc10965"
   ]
  },
  {
   "cell_type": "code",
   "execution_count": 59,
   "metadata": {},
   "outputs": [
    {
     "name": "stdout",
     "output_type": "stream",
     "text": [
      "[10/05 22:04:52] Base catalog v2 for pgc10965 already exists (./base_catalogs/base_v2_pgc10965.fits.gz). (1/1)\n"
     ]
    }
   ],
   "source": [
    "idnum = 10965\n",
    "fieldnum = 1\n",
    "\n",
    "saga_object_catalog.build_and_write_to_database('pgc{}'.format(idnum), overwrite=fieldnum>1)"
   ]
  },
  {
   "cell_type": "code",
   "execution_count": 60,
   "metadata": {},
   "outputs": [
    {
     "name": "stdout",
     "output_type": "stream",
     "text": [
      "pgc10965\n",
      "02h54m33.48s -18d38m06s\n"
     ]
    },
    {
     "name": "stderr",
     "output_type": "stream",
     "text": [
      "/Users/erik/miniconda3/envs/saga3/lib/python3.6/site-packages/numpy/core/_methods.py:26: RuntimeWarning: invalid value encountered in reduce\n",
      "  return umr_maximum(a, axis, None, out, keepdims)\n"
     ]
    },
    {
     "name": "stdout",
     "output_type": "stream",
     "text": [
      "# of flux stars = 53\n",
      "# of sky fibers = 100\n",
      "# of Priority=1 targets = 667\n",
      "# of Priority=2 targets = 76\n",
      "# of Priority=3 targets = 22\n",
      "# of Priority=4 targets = 50\n",
      "# of Priority=5 targets = 126\n",
      "# of Priority=6 targets = 92\n",
      "# of Priority=7 targets = 39\n",
      "# of Priority=8 targets = 4\n",
      "# of Priority=9 targets = 153\n"
     ]
    },
    {
     "name": "stderr",
     "output_type": "stream",
     "text": [
      "/Users/erik/miniconda3/envs/saga3/lib/python3.6/site-packages/astropy/table/column.py:965: RuntimeWarning: invalid value encountered in greater\n",
      "  return getattr(self.data, op)(other)\n",
      "/Users/erik/miniconda3/envs/saga3/lib/python3.6/site-packages/astropy/table/column.py:965: RuntimeWarning: invalid value encountered in less\n",
      "  return getattr(self.data, op)(other)\n"
     ]
    },
    {
     "name": "stdout",
     "output_type": "stream",
     "text": [
      "Object catalog to Gaia offset: (<Angle -0.1295607 arcsec>, <Angle 0.0761455 arcsec>) from 592 objects (70.5%)\n",
      "Found 118 Gaia guide stars\n",
      "26 Have a brightish neighbor.  Removing them.\n"
     ]
    },
    {
     "data": {
      "text/plain": [
       "1321"
      ]
     },
     "execution_count": 60,
     "metadata": {},
     "output_type": "execute_result"
    }
   ],
   "source": [
    "host = targethosts[targethosts['PGC'] == idnum]\n",
    "assert len(host) == 1\n",
    "host = host[0]\n",
    "\n",
    "hostname = host[host_id_label]\n",
    "print(hostname)\n",
    "print(SkyCoord(host['RA'], host['Dec'], unit=u.deg).to_string('hmsdms'))\n",
    "\n",
    "tcats[hostname] = tcat = saga_targets.build_target_catalogs(hostname, return_as='list', reload_base=True).pop()\n",
    "acats[hostname] = acat = saga.targets.prepare_aat_catalog(tcat, sky_fiber_needed=100)\n",
    "\n",
    "guidestars = get_gaia_guidestars(hostname, saga_host_catalog, saga_object_catalog)\n",
    "writecat = table.vstack([acat, guidestars])\n",
    "writecat['Notes'] = [n.title() for n in writecat['Notes']]\n",
    "len(writecat)"
   ]
  },
  {
   "cell_type": "code",
   "execution_count": 61,
   "metadata": {},
   "outputs": [
    {
     "data": {
      "text/html": [
       "\n",
       "    <table>\n",
       "    <tr><td>5152194527209060864<br><a href=\"http://legacysurvey.org/viewer?ra=44.58717590731683&dec=-18.966305966698318\"><img src=\"http://legacysurvey.org/viewer/jpeg-cutout/?ra=44.58718&dec=-18.96631&zoom=17&layer=unwise-w1w2&size=120\"></a></td><td>5153246862915935488<br><a href=\"http://legacysurvey.org/viewer?ra=43.748447194922115&dec=-18.03889759262935\"><img src=\"http://legacysurvey.org/viewer/jpeg-cutout/?ra=43.74845&dec=-18.0389&zoom=17&layer=unwise-w1w2&size=120\"></a></td><td>5152511427075901312<br><a href=\"http://legacysurvey.org/viewer?ra=44.1855747042937&dec=-18.005134512353518\"><img src=\"http://legacysurvey.org/viewer/jpeg-cutout/?ra=44.18557&dec=-18.00513&zoom=17&layer=unwise-w1w2&size=120\"></a></td><td>5128137663765554944<br><a href=\"http://legacysurvey.org/viewer?ra=44.13788621018689&dec=-19.447097277921568\"><img src=\"http://legacysurvey.org/viewer/jpeg-cutout/?ra=44.13789&dec=-19.4471&zoom=17&layer=unwise-w1w2&size=120\"></a></td><td>5152510980399700992<br><a href=\"http://legacysurvey.org/viewer?ra=44.16111612512896&dec=-18.03154830719004\"><img src=\"http://legacysurvey.org/viewer/jpeg-cutout/?ra=44.16112&dec=-18.03155&zoom=17&layer=unwise-w1w2&size=120\"></a></td><td>5152524281913703168<br><a href=\"http://legacysurvey.org/viewer?ra=44.13840891406821&dec=-17.95402980365393\"><img src=\"http://legacysurvey.org/viewer/jpeg-cutout/?ra=44.13841&dec=-17.95403&zoom=17&layer=unwise-w1w2&size=120\"></a></td></tr>\n",
       "<tr><td>5129209275285512448<br><a href=\"http://legacysurvey.org/viewer?ra=42.88555829155908&dec=-18.366635202886265\"><img src=\"http://legacysurvey.org/viewer/jpeg-cutout/?ra=42.88556&dec=-18.36664&zoom=17&layer=unwise-w1w2&size=120\"></a></td><td>5129217933939573760<br><a href=\"http://legacysurvey.org/viewer?ra=43.21606534167649&dec=-18.388613680048124\"><img src=\"http://legacysurvey.org/viewer/jpeg-cutout/?ra=43.21607&dec=-18.38861&zoom=17&layer=unwise-w1w2&size=120\"></a></td><td>5128412472953061248<br><a href=\"http://legacysurvey.org/viewer?ra=43.23690132284193&dec=-18.84501953836786\"><img src=\"http://legacysurvey.org/viewer/jpeg-cutout/?ra=43.2369&dec=-18.84502&zoom=17&layer=unwise-w1w2&size=120\"></a></td><td>5128046571803441280<br><a href=\"http://legacysurvey.org/viewer?ra=43.64236384395122&dec=-19.628935802681724\"><img src=\"http://legacysurvey.org/viewer/jpeg-cutout/?ra=43.64236&dec=-19.62894&zoom=17&layer=unwise-w1w2&size=120\"></a></td><td>5128244659990674432<br><a href=\"http://legacysurvey.org/viewer?ra=43.353131796706705&dec=-19.38644524542803\"><img src=\"http://legacysurvey.org/viewer/jpeg-cutout/?ra=43.35313&dec=-19.38645&zoom=17&layer=unwise-w1w2&size=120\"></a></td><td>5128447760404375936<br><a href=\"http://legacysurvey.org/viewer?ra=43.75586923118184&dec=-18.667135145160987\"><img src=\"http://legacysurvey.org/viewer/jpeg-cutout/?ra=43.75587&dec=-18.66714&zoom=17&layer=unwise-w1w2&size=120\"></a></td></tr>\n",
       "<tr><td>5128176799507528960<br><a href=\"http://legacysurvey.org/viewer?ra=44.141730250960705&dec=-19.212589629535103\"><img src=\"http://legacysurvey.org/viewer/jpeg-cutout/?ra=44.14173&dec=-19.21259&zoom=17&layer=unwise-w1w2&size=120\"></a></td><td>5152452951096870784<br><a href=\"http://legacysurvey.org/viewer?ra=44.5469434186095&dec=-18.283468527336645\"><img src=\"http://legacysurvey.org/viewer/jpeg-cutout/?ra=44.54694&dec=-18.28347&zoom=17&layer=unwise-w1w2&size=120\"></a></td><td>5128153125647799936<br><a href=\"http://legacysurvey.org/viewer?ra=43.85243183739154&dec=-19.367428469349154\"><img src=\"http://legacysurvey.org/viewer/jpeg-cutout/?ra=43.85243&dec=-19.36743&zoom=17&layer=unwise-w1w2&size=120\"></a></td><td>5128417695633311616<br><a href=\"http://legacysurvey.org/viewer?ra=43.39754270284943&dec=-18.836500236219482\"><img src=\"http://legacysurvey.org/viewer/jpeg-cutout/?ra=43.39754&dec=-18.8365&zoom=17&layer=unwise-w1w2&size=120\"></a></td><td>5128465421309896192<br><a href=\"http://legacysurvey.org/viewer?ra=43.61516472383097&dec=-18.488481649737047\"><img src=\"http://legacysurvey.org/viewer/jpeg-cutout/?ra=43.61516&dec=-18.48848&zoom=17&layer=unwise-w1w2&size=120\"></a></td><td>5128426487430512896<br><a href=\"http://legacysurvey.org/viewer?ra=43.0396783995786&dec=-18.83086531060853\"><img src=\"http://legacysurvey.org/viewer/jpeg-cutout/?ra=43.03968&dec=-18.83087&zoom=17&layer=unwise-w1w2&size=120\"></a></td></tr>\n",
       "<tr><td>5152215349210774912<br><a href=\"http://legacysurvey.org/viewer?ra=44.681546690807586&dec=-18.777503659578596\"><img src=\"http://legacysurvey.org/viewer/jpeg-cutout/?ra=44.68155&dec=-18.7775&zoom=17&layer=unwise-w1w2&size=120\"></a></td><td>5128237302711063936<br><a href=\"http://legacysurvey.org/viewer?ra=43.49876286691146&dec=-19.552354490391988\"><img src=\"http://legacysurvey.org/viewer/jpeg-cutout/?ra=43.49876&dec=-19.55235&zoom=17&layer=unwise-w1w2&size=120\"></a></td><td>5128174875362191872<br><a href=\"http://legacysurvey.org/viewer?ra=44.47042265333298&dec=-19.024128405548602\"><img src=\"http://legacysurvey.org/viewer/jpeg-cutout/?ra=44.47042&dec=-19.02413&zoom=17&layer=unwise-w1w2&size=120\"></a></td><td>5128402298175011584<br><a href=\"http://legacysurvey.org/viewer?ra=44.00701842217649&dec=-18.592182990962073\"><img src=\"http://legacysurvey.org/viewer/jpeg-cutout/?ra=44.00702&dec=-18.59218&zoom=17&layer=unwise-w1w2&size=120\"></a></td><td>5129243944261510144<br><a href=\"http://legacysurvey.org/viewer?ra=43.1639316840707&dec=-18.098259775107202\"><img src=\"http://legacysurvey.org/viewer/jpeg-cutout/?ra=43.16393&dec=-18.09826&zoom=17&layer=unwise-w1w2&size=120\"></a></td><td>5128144948030070016<br><a href=\"http://legacysurvey.org/viewer?ra=43.76216408785432&dec=-19.46828627708262\"><img src=\"http://legacysurvey.org/viewer/jpeg-cutout/?ra=43.76216&dec=-19.46829&zoom=17&layer=unwise-w1w2&size=120\"></a></td></tr>\n",
       "    </table>\n",
       "    "
      ],
      "text/plain": [
       "<IPython.core.display.HTML object>"
      ]
     },
     "execution_count": 61,
     "metadata": {},
     "output_type": "execute_result"
    }
   ],
   "source": [
    "# only need to remove if something really fishy is going on\n",
    "make_decals_viewer_cutouts(guidestars[np.random.permutation(len(guidestars))[:24]], \n",
    "                           survey='unwise-w1w2',ncols=6,namecol='TargetName', zoom=17)"
   ]
  },
  {
   "cell_type": "code",
   "execution_count": 62,
   "metadata": {},
   "outputs": [
    {
     "data": {
      "text/html": [
       "\n",
       "    <table>\n",
       "    <tr><td>0<br><a href=\"http://legacysurvey.org/viewer?ra=43.61736653383671&dec=-19.412660531795677\"><img src=\"http://legacysurvey.org/viewer/jpeg-cutout/?ra=43.61737&dec=-19.41266&zoom=15&layer=des-dr1&size=120\"></a></td><td>1<br><a href=\"http://legacysurvey.org/viewer?ra=43.51197231163372&dec=-17.795348313757557\"><img src=\"http://legacysurvey.org/viewer/jpeg-cutout/?ra=43.51197&dec=-17.79535&zoom=15&layer=des-dr1&size=120\"></a></td><td>2<br><a href=\"http://legacysurvey.org/viewer?ra=43.10093714625518&dec=-19.585607720068474\"><img src=\"http://legacysurvey.org/viewer/jpeg-cutout/?ra=43.10094&dec=-19.58561&zoom=15&layer=des-dr1&size=120\"></a></td><td>3<br><a href=\"http://legacysurvey.org/viewer?ra=44.37812585779303&dec=-19.152507869270575\"><img src=\"http://legacysurvey.org/viewer/jpeg-cutout/?ra=44.37813&dec=-19.15251&zoom=15&layer=des-dr1&size=120\"></a></td><td>4<br><a href=\"http://legacysurvey.org/viewer?ra=42.958673428462035&dec=-19.295874316476628\"><img src=\"http://legacysurvey.org/viewer/jpeg-cutout/?ra=42.95867&dec=-19.29587&zoom=15&layer=des-dr1&size=120\"></a></td><td>5<br><a href=\"http://legacysurvey.org/viewer?ra=43.57337805093186&dec=-17.59669753147623\"><img src=\"http://legacysurvey.org/viewer/jpeg-cutout/?ra=43.57338&dec=-17.5967&zoom=15&layer=des-dr1&size=120\"></a></td><td>6<br><a href=\"http://legacysurvey.org/viewer?ra=43.31807344093379&dec=-19.45825910857917\"><img src=\"http://legacysurvey.org/viewer/jpeg-cutout/?ra=43.31807&dec=-19.45826&zoom=15&layer=des-dr1&size=120\"></a></td><td>7<br><a href=\"http://legacysurvey.org/viewer?ra=42.58544858920814&dec=-18.72805848072741\"><img src=\"http://legacysurvey.org/viewer/jpeg-cutout/?ra=42.58545&dec=-18.72806&zoom=15&layer=des-dr1&size=120\"></a></td></tr>\n",
       "<tr><td>8<br><a href=\"http://legacysurvey.org/viewer?ra=43.06836593978272&dec=-19.549604427570248\"><img src=\"http://legacysurvey.org/viewer/jpeg-cutout/?ra=43.06837&dec=-19.5496&zoom=15&layer=des-dr1&size=120\"></a></td><td>9<br><a href=\"http://legacysurvey.org/viewer?ra=44.227874413770614&dec=-19.113362566344737\"><img src=\"http://legacysurvey.org/viewer/jpeg-cutout/?ra=44.22787&dec=-19.11336&zoom=15&layer=des-dr1&size=120\"></a></td><td>10<br><a href=\"http://legacysurvey.org/viewer?ra=43.11297766082413&dec=-19.594448716401935\"><img src=\"http://legacysurvey.org/viewer/jpeg-cutout/?ra=43.11298&dec=-19.59445&zoom=15&layer=des-dr1&size=120\"></a></td><td>11<br><a href=\"http://legacysurvey.org/viewer?ra=44.31150358342202&dec=-19.416852845163636\"><img src=\"http://legacysurvey.org/viewer/jpeg-cutout/?ra=44.3115&dec=-19.41685&zoom=15&layer=des-dr1&size=120\"></a></td><td>12<br><a href=\"http://legacysurvey.org/viewer?ra=44.587868479011675&dec=-18.182133202425586\"><img src=\"http://legacysurvey.org/viewer/jpeg-cutout/?ra=44.58787&dec=-18.18213&zoom=15&layer=des-dr1&size=120\"></a></td><td>13<br><a href=\"http://legacysurvey.org/viewer?ra=42.67535696924999&dec=-18.61813151838454\"><img src=\"http://legacysurvey.org/viewer/jpeg-cutout/?ra=42.67536&dec=-18.61813&zoom=15&layer=des-dr1&size=120\"></a></td><td>14<br><a href=\"http://legacysurvey.org/viewer?ra=43.23602038947818&dec=-19.489071377925242\"><img src=\"http://legacysurvey.org/viewer/jpeg-cutout/?ra=43.23602&dec=-19.48907&zoom=15&layer=des-dr1&size=120\"></a></td><td>15<br><a href=\"http://legacysurvey.org/viewer?ra=43.07667336450455&dec=-19.506588028525407\"><img src=\"http://legacysurvey.org/viewer/jpeg-cutout/?ra=43.07667&dec=-19.50659&zoom=15&layer=des-dr1&size=120\"></a></td></tr>\n",
       "<tr><td>16<br><a href=\"http://legacysurvey.org/viewer?ra=43.668213391844226&dec=-17.63052178059615\"><img src=\"http://legacysurvey.org/viewer/jpeg-cutout/?ra=43.66821&dec=-17.63052&zoom=15&layer=des-dr1&size=120\"></a></td><td>17<br><a href=\"http://legacysurvey.org/viewer?ra=44.211941672329125&dec=-18.188135992884085\"><img src=\"http://legacysurvey.org/viewer/jpeg-cutout/?ra=44.21194&dec=-18.18814&zoom=15&layer=des-dr1&size=120\"></a></td><td>18<br><a href=\"http://legacysurvey.org/viewer?ra=43.452678173361214&dec=-19.67324448922672\"><img src=\"http://legacysurvey.org/viewer/jpeg-cutout/?ra=43.45268&dec=-19.67324&zoom=15&layer=des-dr1&size=120\"></a></td><td>19<br><a href=\"http://legacysurvey.org/viewer?ra=42.63121751602393&dec=-18.995475345689815\"><img src=\"http://legacysurvey.org/viewer/jpeg-cutout/?ra=42.63122&dec=-18.99548&zoom=15&layer=des-dr1&size=120\"></a></td><td>20<br><a href=\"http://legacysurvey.org/viewer?ra=42.93613641763269&dec=-17.872668795553803\"><img src=\"http://legacysurvey.org/viewer/jpeg-cutout/?ra=42.93614&dec=-17.87267&zoom=15&layer=des-dr1&size=120\"></a></td><td>21<br><a href=\"http://legacysurvey.org/viewer?ra=44.43011452937523&dec=-18.836347487449494\"><img src=\"http://legacysurvey.org/viewer/jpeg-cutout/?ra=44.43011&dec=-18.83635&zoom=15&layer=des-dr1&size=120\"></a></td><td>22<br><a href=\"http://legacysurvey.org/viewer?ra=43.14921313371952&dec=-18.235766515918755\"><img src=\"http://legacysurvey.org/viewer/jpeg-cutout/?ra=43.14921&dec=-18.23577&zoom=15&layer=des-dr1&size=120\"></a></td><td>23<br><a href=\"http://legacysurvey.org/viewer?ra=42.93198730283186&dec=-19.47493721910809\"><img src=\"http://legacysurvey.org/viewer/jpeg-cutout/?ra=42.93199&dec=-19.47494&zoom=15&layer=des-dr1&size=120\"></a></td></tr>\n",
       "<tr><td>24<br><a href=\"http://legacysurvey.org/viewer?ra=42.96728675814206&dec=-18.437519867204536\"><img src=\"http://legacysurvey.org/viewer/jpeg-cutout/?ra=42.96729&dec=-18.43752&zoom=15&layer=des-dr1&size=120\"></a></td><td>25<br><a href=\"http://legacysurvey.org/viewer?ra=43.623818613301026&dec=-17.5961606257354\"><img src=\"http://legacysurvey.org/viewer/jpeg-cutout/?ra=43.62382&dec=-17.59616&zoom=15&layer=des-dr1&size=120\"></a></td><td>26<br><a href=\"http://legacysurvey.org/viewer?ra=42.66977450274951&dec=-19.043270086220495\"><img src=\"http://legacysurvey.org/viewer/jpeg-cutout/?ra=42.66977&dec=-19.04327&zoom=15&layer=des-dr1&size=120\"></a></td><td>27<br><a href=\"http://legacysurvey.org/viewer?ra=43.25010745425464&dec=-17.694809568896773\"><img src=\"http://legacysurvey.org/viewer/jpeg-cutout/?ra=43.25011&dec=-17.69481&zoom=15&layer=des-dr1&size=120\"></a></td><td>28<br><a href=\"http://legacysurvey.org/viewer?ra=43.91539746958345&dec=-17.640632729702272\"><img src=\"http://legacysurvey.org/viewer/jpeg-cutout/?ra=43.9154&dec=-17.64063&zoom=15&layer=des-dr1&size=120\"></a></td><td>29<br><a href=\"http://legacysurvey.org/viewer?ra=42.88694360231084&dec=-18.10393402694953\"><img src=\"http://legacysurvey.org/viewer/jpeg-cutout/?ra=42.88694&dec=-18.10393&zoom=15&layer=des-dr1&size=120\"></a></td><td>30<br><a href=\"http://legacysurvey.org/viewer?ra=42.60365838275064&dec=-18.883937902254896\"><img src=\"http://legacysurvey.org/viewer/jpeg-cutout/?ra=42.60366&dec=-18.88394&zoom=15&layer=des-dr1&size=120\"></a></td><td>31<br><a href=\"http://legacysurvey.org/viewer?ra=42.9297649794358&dec=-18.05706312932142\"><img src=\"http://legacysurvey.org/viewer/jpeg-cutout/?ra=42.92976&dec=-18.05706&zoom=15&layer=des-dr1&size=120\"></a></td></tr>\n",
       "<tr><td>32<br><a href=\"http://legacysurvey.org/viewer?ra=44.6537815357301&dec=-18.938326033219326\"><img src=\"http://legacysurvey.org/viewer/jpeg-cutout/?ra=44.65378&dec=-18.93833&zoom=15&layer=des-dr1&size=120\"></a></td><td>33<br><a href=\"http://legacysurvey.org/viewer?ra=43.462941093289736&dec=-17.592221139142048\"><img src=\"http://legacysurvey.org/viewer/jpeg-cutout/?ra=43.46294&dec=-17.59222&zoom=15&layer=des-dr1&size=120\"></a></td><td>34<br><a href=\"http://legacysurvey.org/viewer?ra=42.91501204109168&dec=-19.457287863556054\"><img src=\"http://legacysurvey.org/viewer/jpeg-cutout/?ra=42.91501&dec=-19.45729&zoom=15&layer=des-dr1&size=120\"></a></td><td>35<br><a href=\"http://legacysurvey.org/viewer?ra=42.80071175912715&dec=-17.957427946697365\"><img src=\"http://legacysurvey.org/viewer/jpeg-cutout/?ra=42.80071&dec=-17.95743&zoom=15&layer=des-dr1&size=120\"></a></td><td>36<br><a href=\"http://legacysurvey.org/viewer?ra=44.15530805651048&dec=-17.685037141784502\"><img src=\"http://legacysurvey.org/viewer/jpeg-cutout/?ra=44.15531&dec=-17.68504&zoom=15&layer=des-dr1&size=120\"></a></td><td>37<br><a href=\"http://legacysurvey.org/viewer?ra=42.574823905175926&dec=-18.661974912848674\"><img src=\"http://legacysurvey.org/viewer/jpeg-cutout/?ra=42.57482&dec=-18.66197&zoom=15&layer=des-dr1&size=120\"></a></td><td>38<br><a href=\"http://legacysurvey.org/viewer?ra=43.14695300111197&dec=-19.318850758568566\"><img src=\"http://legacysurvey.org/viewer/jpeg-cutout/?ra=43.14695&dec=-19.31885&zoom=15&layer=des-dr1&size=120\"></a></td><td>39<br><a href=\"http://legacysurvey.org/viewer?ra=43.06726122710223&dec=-19.3065959406486\"><img src=\"http://legacysurvey.org/viewer/jpeg-cutout/?ra=43.06726&dec=-19.3066&zoom=15&layer=des-dr1&size=120\"></a></td></tr>\n",
       "<tr><td>40<br><a href=\"http://legacysurvey.org/viewer?ra=42.93139811389786&dec=-19.41629483649726\"><img src=\"http://legacysurvey.org/viewer/jpeg-cutout/?ra=42.9314&dec=-19.41629&zoom=15&layer=des-dr1&size=120\"></a></td><td>41<br><a href=\"http://legacysurvey.org/viewer?ra=44.590449057004335&dec=-19.10372565591518\"><img src=\"http://legacysurvey.org/viewer/jpeg-cutout/?ra=44.59045&dec=-19.10373&zoom=15&layer=des-dr1&size=120\"></a></td><td>42<br><a href=\"http://legacysurvey.org/viewer?ra=42.71686274597223&dec=-18.403260692937625\"><img src=\"http://legacysurvey.org/viewer/jpeg-cutout/?ra=42.71686&dec=-18.40326&zoom=15&layer=des-dr1&size=120\"></a></td><td>43<br><a href=\"http://legacysurvey.org/viewer?ra=43.278801737773634&dec=-18.068028500206868\"><img src=\"http://legacysurvey.org/viewer/jpeg-cutout/?ra=43.2788&dec=-18.06803&zoom=15&layer=des-dr1&size=120\"></a></td><td>44<br><a href=\"http://legacysurvey.org/viewer?ra=43.32929010383584&dec=-19.626982007435185\"><img src=\"http://legacysurvey.org/viewer/jpeg-cutout/?ra=43.32929&dec=-19.62698&zoom=15&layer=des-dr1&size=120\"></a></td><td>45<br><a href=\"http://legacysurvey.org/viewer?ra=44.653738835254906&dec=-19.014184160345682\"><img src=\"http://legacysurvey.org/viewer/jpeg-cutout/?ra=44.65374&dec=-19.01418&zoom=15&layer=des-dr1&size=120\"></a></td><td>46<br><a href=\"http://legacysurvey.org/viewer?ra=43.036916791221834&dec=-19.540026110100317\"><img src=\"http://legacysurvey.org/viewer/jpeg-cutout/?ra=43.03692&dec=-19.54003&zoom=15&layer=des-dr1&size=120\"></a></td><td>47<br><a href=\"http://legacysurvey.org/viewer?ra=43.277869410064284&dec=-19.64108652454701\"><img src=\"http://legacysurvey.org/viewer/jpeg-cutout/?ra=43.27787&dec=-19.64109&zoom=15&layer=des-dr1&size=120\"></a></td></tr>\n",
       "<tr><td>48<br><a href=\"http://legacysurvey.org/viewer?ra=42.777353823780935&dec=-18.091892594234007\"><img src=\"http://legacysurvey.org/viewer/jpeg-cutout/?ra=42.77735&dec=-18.09189&zoom=15&layer=des-dr1&size=120\"></a></td><td>49<br><a href=\"http://legacysurvey.org/viewer?ra=42.6035629815938&dec=-18.890632385018318\"><img src=\"http://legacysurvey.org/viewer/jpeg-cutout/?ra=42.60356&dec=-18.89063&zoom=15&layer=des-dr1&size=120\"></a></td><td>50<br><a href=\"http://legacysurvey.org/viewer?ra=43.971076347411035&dec=-17.665799118854544\"><img src=\"http://legacysurvey.org/viewer/jpeg-cutout/?ra=43.97108&dec=-17.6658&zoom=15&layer=des-dr1&size=120\"></a></td><td>51<br><a href=\"http://legacysurvey.org/viewer?ra=44.456071151595744&dec=-18.447907401213143\"><img src=\"http://legacysurvey.org/viewer/jpeg-cutout/?ra=44.45607&dec=-18.44791&zoom=15&layer=des-dr1&size=120\"></a></td><td>52<br><a href=\"http://legacysurvey.org/viewer?ra=43.081809333880564&dec=-17.742863991165233\"><img src=\"http://legacysurvey.org/viewer/jpeg-cutout/?ra=43.08181&dec=-17.74286&zoom=15&layer=des-dr1&size=120\"></a></td><td>53<br><a href=\"http://legacysurvey.org/viewer?ra=44.38507291247075&dec=-19.35340074309851\"><img src=\"http://legacysurvey.org/viewer/jpeg-cutout/?ra=44.38507&dec=-19.3534&zoom=15&layer=des-dr1&size=120\"></a></td><td>54<br><a href=\"http://legacysurvey.org/viewer?ra=43.826640914957466&dec=-17.608220707052197\"><img src=\"http://legacysurvey.org/viewer/jpeg-cutout/?ra=43.82664&dec=-17.60822&zoom=15&layer=des-dr1&size=120\"></a></td><td>55<br><a href=\"http://legacysurvey.org/viewer?ra=43.91496849857151&dec=-19.672875467543758\"><img src=\"http://legacysurvey.org/viewer/jpeg-cutout/?ra=43.91497&dec=-19.67288&zoom=15&layer=des-dr1&size=120\"></a></td></tr>\n",
       "<tr><td>56<br><a href=\"http://legacysurvey.org/viewer?ra=42.76305218417248&dec=-18.06508882461894\"><img src=\"http://legacysurvey.org/viewer/jpeg-cutout/?ra=42.76305&dec=-18.06509&zoom=15&layer=des-dr1&size=120\"></a></td><td>57<br><a href=\"http://legacysurvey.org/viewer?ra=43.074519310218896&dec=-17.699726139489393\"><img src=\"http://legacysurvey.org/viewer/jpeg-cutout/?ra=43.07452&dec=-17.69973&zoom=15&layer=des-dr1&size=120\"></a></td><td>58<br><a href=\"http://legacysurvey.org/viewer?ra=43.49061882959506&dec=-17.57492540663229\"><img src=\"http://legacysurvey.org/viewer/jpeg-cutout/?ra=43.49062&dec=-17.57493&zoom=15&layer=des-dr1&size=120\"></a></td><td>59<br><a href=\"http://legacysurvey.org/viewer?ra=43.109393374193786&dec=-17.690578534137437\"><img src=\"http://legacysurvey.org/viewer/jpeg-cutout/?ra=43.10939&dec=-17.69058&zoom=15&layer=des-dr1&size=120\"></a></td><td>60<br><a href=\"http://legacysurvey.org/viewer?ra=43.86374676112073&dec=-19.463667808950994\"><img src=\"http://legacysurvey.org/viewer/jpeg-cutout/?ra=43.86375&dec=-19.46367&zoom=15&layer=des-dr1&size=120\"></a></td><td>61<br><a href=\"http://legacysurvey.org/viewer?ra=42.63786132090369&dec=-18.995781054530376\"><img src=\"http://legacysurvey.org/viewer/jpeg-cutout/?ra=42.63786&dec=-18.99578&zoom=15&layer=des-dr1&size=120\"></a></td><td>62<br><a href=\"http://legacysurvey.org/viewer?ra=42.55776246920396&dec=-18.51015909281021\"><img src=\"http://legacysurvey.org/viewer/jpeg-cutout/?ra=42.55776&dec=-18.51016&zoom=15&layer=des-dr1&size=120\"></a></td><td>63<br><a href=\"http://legacysurvey.org/viewer?ra=43.68106345656375&dec=-17.61626439385207\"><img src=\"http://legacysurvey.org/viewer/jpeg-cutout/?ra=43.68106&dec=-17.61626&zoom=15&layer=des-dr1&size=120\"></a></td></tr>\n",
       "<tr><td>64<br><a href=\"http://legacysurvey.org/viewer?ra=44.69526198045781&dec=-18.544243159587737\"><img src=\"http://legacysurvey.org/viewer/jpeg-cutout/?ra=44.69526&dec=-18.54424&zoom=15&layer=des-dr1&size=120\"></a></td><td>65<br><a href=\"http://legacysurvey.org/viewer?ra=44.102986591548095&dec=-19.410160115462517\"><img src=\"http://legacysurvey.org/viewer/jpeg-cutout/?ra=44.10299&dec=-19.41016&zoom=15&layer=des-dr1&size=120\"></a></td><td>66<br><a href=\"http://legacysurvey.org/viewer?ra=43.938405539678996&dec=-19.396522087802893\"><img src=\"http://legacysurvey.org/viewer/jpeg-cutout/?ra=43.93841&dec=-19.39652&zoom=15&layer=des-dr1&size=120\"></a></td><td>67<br><a href=\"http://legacysurvey.org/viewer?ra=44.724177601196246&dec=-18.75641896877138\"><img src=\"http://legacysurvey.org/viewer/jpeg-cutout/?ra=44.72418&dec=-18.75642&zoom=15&layer=des-dr1&size=120\"></a></td><td>68<br><a href=\"http://legacysurvey.org/viewer?ra=44.30697022554719&dec=-17.825771271398747\"><img src=\"http://legacysurvey.org/viewer/jpeg-cutout/?ra=44.30697&dec=-17.82577&zoom=15&layer=des-dr1&size=120\"></a></td><td>69<br><a href=\"http://legacysurvey.org/viewer?ra=43.89892394030653&dec=-19.52090596031983\"><img src=\"http://legacysurvey.org/viewer/jpeg-cutout/?ra=43.89892&dec=-19.52091&zoom=15&layer=des-dr1&size=120\"></a></td><td>70<br><a href=\"http://legacysurvey.org/viewer?ra=43.841092135603645&dec=-17.559255641635772\"><img src=\"http://legacysurvey.org/viewer/jpeg-cutout/?ra=43.84109&dec=-17.55926&zoom=15&layer=des-dr1&size=120\"></a></td><td>71<br><a href=\"http://legacysurvey.org/viewer?ra=43.35086452230066&dec=-17.64584815021796\"><img src=\"http://legacysurvey.org/viewer/jpeg-cutout/?ra=43.35086&dec=-17.64585&zoom=15&layer=des-dr1&size=120\"></a></td></tr>\n",
       "<tr><td>72<br><a href=\"http://legacysurvey.org/viewer?ra=44.452880294286025&dec=-19.362678971019562\"><img src=\"http://legacysurvey.org/viewer/jpeg-cutout/?ra=44.45288&dec=-19.36268&zoom=15&layer=des-dr1&size=120\"></a></td><td>73<br><a href=\"http://legacysurvey.org/viewer?ra=44.337161512174966&dec=-17.79067103158391\"><img src=\"http://legacysurvey.org/viewer/jpeg-cutout/?ra=44.33716&dec=-17.79067&zoom=15&layer=des-dr1&size=120\"></a></td><td>74<br><a href=\"http://legacysurvey.org/viewer?ra=43.46263053430548&dec=-17.765466389979515\"><img src=\"http://legacysurvey.org/viewer/jpeg-cutout/?ra=43.46263&dec=-17.76547&zoom=15&layer=des-dr1&size=120\"></a></td><td>75<br><a href=\"http://legacysurvey.org/viewer?ra=43.70543890174158&dec=-17.595807722937064\"><img src=\"http://legacysurvey.org/viewer/jpeg-cutout/?ra=43.70544&dec=-17.59581&zoom=15&layer=des-dr1&size=120\"></a></td><td>76<br><a href=\"http://legacysurvey.org/viewer?ra=43.12519653647084&dec=-17.68620424180137\"><img src=\"http://legacysurvey.org/viewer/jpeg-cutout/?ra=43.1252&dec=-17.6862&zoom=15&layer=des-dr1&size=120\"></a></td><td>77<br><a href=\"http://legacysurvey.org/viewer?ra=42.657461211492866&dec=-18.255930168343994\"><img src=\"http://legacysurvey.org/viewer/jpeg-cutout/?ra=42.65746&dec=-18.25593&zoom=15&layer=des-dr1&size=120\"></a></td><td>78<br><a href=\"http://legacysurvey.org/viewer?ra=43.12167017751774&dec=-19.452198378708868\"><img src=\"http://legacysurvey.org/viewer/jpeg-cutout/?ra=43.12167&dec=-19.4522&zoom=15&layer=des-dr1&size=120\"></a></td><td>79<br><a href=\"http://legacysurvey.org/viewer?ra=42.65492356371534&dec=-19.05415914318362\"><img src=\"http://legacysurvey.org/viewer/jpeg-cutout/?ra=42.65492&dec=-19.05416&zoom=15&layer=des-dr1&size=120\"></a></td></tr>\n",
       "<tr><td>80<br><a href=\"http://legacysurvey.org/viewer?ra=43.3861282300623&dec=-17.976388467754894\"><img src=\"http://legacysurvey.org/viewer/jpeg-cutout/?ra=43.38613&dec=-17.97639&zoom=15&layer=des-dr1&size=120\"></a></td><td>81<br><a href=\"http://legacysurvey.org/viewer?ra=42.851822273607276&dec=-19.275650560100384\"><img src=\"http://legacysurvey.org/viewer/jpeg-cutout/?ra=42.85182&dec=-19.27565&zoom=15&layer=des-dr1&size=120\"></a></td><td>82<br><a href=\"http://legacysurvey.org/viewer?ra=43.655665608446256&dec=-17.618642154210132\"><img src=\"http://legacysurvey.org/viewer/jpeg-cutout/?ra=43.65567&dec=-17.61864&zoom=15&layer=des-dr1&size=120\"></a></td><td>83<br><a href=\"http://legacysurvey.org/viewer?ra=42.90416047688407&dec=-18.0267216434763\"><img src=\"http://legacysurvey.org/viewer/jpeg-cutout/?ra=42.90416&dec=-18.02672&zoom=15&layer=des-dr1&size=120\"></a></td><td>84<br><a href=\"http://legacysurvey.org/viewer?ra=44.150224406262005&dec=-18.0695639475899\"><img src=\"http://legacysurvey.org/viewer/jpeg-cutout/?ra=44.15022&dec=-18.06956&zoom=15&layer=des-dr1&size=120\"></a></td><td>85<br><a href=\"http://legacysurvey.org/viewer?ra=44.34613409638184&dec=-19.3963238803735\"><img src=\"http://legacysurvey.org/viewer/jpeg-cutout/?ra=44.34613&dec=-19.39632&zoom=15&layer=des-dr1&size=120\"></a></td><td>86<br><a href=\"http://legacysurvey.org/viewer?ra=43.70108735354391&dec=-19.732709512654125\"><img src=\"http://legacysurvey.org/viewer/jpeg-cutout/?ra=43.70109&dec=-19.73271&zoom=15&layer=des-dr1&size=120\"></a></td><td>87<br><a href=\"http://legacysurvey.org/viewer?ra=43.16391203762692&dec=-17.956497809421375\"><img src=\"http://legacysurvey.org/viewer/jpeg-cutout/?ra=43.16391&dec=-17.9565&zoom=15&layer=des-dr1&size=120\"></a></td></tr>\n",
       "<tr><td>88<br><a href=\"http://legacysurvey.org/viewer?ra=44.5143644946043&dec=-19.218273603492296\"><img src=\"http://legacysurvey.org/viewer/jpeg-cutout/?ra=44.51436&dec=-19.21827&zoom=15&layer=des-dr1&size=120\"></a></td><td>89<br><a href=\"http://legacysurvey.org/viewer?ra=43.2786240115133&dec=-19.590028522262983\"><img src=\"http://legacysurvey.org/viewer/jpeg-cutout/?ra=43.27862&dec=-19.59003&zoom=15&layer=des-dr1&size=120\"></a></td><td>90<br><a href=\"http://legacysurvey.org/viewer?ra=43.98472559655129&dec=-17.666372225616\"><img src=\"http://legacysurvey.org/viewer/jpeg-cutout/?ra=43.98473&dec=-17.66637&zoom=15&layer=des-dr1&size=120\"></a></td><td>91<br><a href=\"http://legacysurvey.org/viewer?ra=44.64879617554317&dec=-19.03712580810415\"><img src=\"http://legacysurvey.org/viewer/jpeg-cutout/?ra=44.6488&dec=-19.03713&zoom=15&layer=des-dr1&size=120\"></a></td><td>92<br><a href=\"http://legacysurvey.org/viewer?ra=44.27945468885915&dec=-17.785636671062548\"><img src=\"http://legacysurvey.org/viewer/jpeg-cutout/?ra=44.27945&dec=-17.78564&zoom=15&layer=des-dr1&size=120\"></a></td><td>93<br><a href=\"http://legacysurvey.org/viewer?ra=43.77694478669476&dec=-17.977906316086987\"><img src=\"http://legacysurvey.org/viewer/jpeg-cutout/?ra=43.77694&dec=-17.97791&zoom=15&layer=des-dr1&size=120\"></a></td><td>94<br><a href=\"http://legacysurvey.org/viewer?ra=43.577790132894684&dec=-19.351634539981692\"><img src=\"http://legacysurvey.org/viewer/jpeg-cutout/?ra=43.57779&dec=-19.35163&zoom=15&layer=des-dr1&size=120\"></a></td><td>95<br><a href=\"http://legacysurvey.org/viewer?ra=43.5630110466813&dec=-19.66908627656371\"><img src=\"http://legacysurvey.org/viewer/jpeg-cutout/?ra=43.56301&dec=-19.66909&zoom=15&layer=des-dr1&size=120\"></a></td></tr>\n",
       "<tr><td>96<br><a href=\"http://legacysurvey.org/viewer?ra=44.474637232267426&dec=-17.9874578389293\"><img src=\"http://legacysurvey.org/viewer/jpeg-cutout/?ra=44.47464&dec=-17.98746&zoom=15&layer=des-dr1&size=120\"></a></td><td>97<br><a href=\"http://legacysurvey.org/viewer?ra=44.13961711634988&dec=-17.898908328058226\"><img src=\"http://legacysurvey.org/viewer/jpeg-cutout/?ra=44.13962&dec=-17.89891&zoom=15&layer=des-dr1&size=120\"></a></td><td>98<br><a href=\"http://legacysurvey.org/viewer?ra=44.01292803703075&dec=-19.645251761943094\"><img src=\"http://legacysurvey.org/viewer/jpeg-cutout/?ra=44.01293&dec=-19.64525&zoom=15&layer=des-dr1&size=120\"></a></td><td>99<br><a href=\"http://legacysurvey.org/viewer?ra=42.982013556351234&dec=-17.797607735652186\"><img src=\"http://legacysurvey.org/viewer/jpeg-cutout/?ra=42.98201&dec=-17.79761&zoom=15&layer=des-dr1&size=120\"></a></td><td></td><td></td><td></td><td></td></tr>\n",
       "    </table>\n",
       "    "
      ],
      "text/plain": [
       "<IPython.core.display.HTML object>"
      ]
     },
     "execution_count": 62,
     "metadata": {},
     "output_type": "execute_result"
    }
   ],
   "source": [
    "#The commented part below is only necessary if the decals viewer is broken but the targets are in DES\n",
    "# make_des_cutouts_file(acat[acat['Notes']=='sky'])\n",
    "# show_des_cutouts(acat[acat['Notes']=='sky'], <'JOBNAME'>, ncols=8, namecol='TargetName')\n",
    "\n",
    "make_decals_viewer_cutouts(acat[acat['Notes']=='sky'], survey='des-dr1', namecol='TargetName',\n",
    "                           ncols=8, zoom=15, size=120)"
   ]
  },
  {
   "cell_type": "code",
   "execution_count": 63,
   "metadata": {},
   "outputs": [
    {
     "data": {
      "text/plain": [
       "76"
      ]
     },
     "execution_count": 63,
     "metadata": {},
     "output_type": "execute_result"
    }
   ],
   "source": [
    "skys_to_rem = [int(i) for i in '10 19 20 23 27 28 35 36 37 41 45 50 53 55 58 62 67 71 75 77 81 89 91 96'.split()]\n",
    "writecat.remove_rows((writecat['Notes']=='Sky')&(np.in1d(writecat['TargetName'], skys_to_rem)))\n",
    "np.sum((writecat['Notes']=='Sky'))"
   ]
  },
  {
   "cell_type": "code",
   "execution_count": 65,
   "metadata": {},
   "outputs": [
    {
     "name": "stdout",
     "output_type": "stream",
     "text": [
      "Nflux: 5 Nguide: 92 NSky 76\n",
      "Targets in each priority: {1: 200, 2: 76, 3: 22, 4: 50, 5: 126, 6: 92, 7: 39, 8: 4}\n",
      "Total: 782\n",
      "Writing aat_targets_oct2018/pgc10965_1.fld\n"
     ]
    },
    {
     "data": {
      "text/plain": [
       "609"
      ]
     },
     "execution_count": 65,
     "metadata": {},
     "output_type": "execute_result"
    }
   ],
   "source": [
    "tt = writecat['TargetName', 'TargetType']\n",
    "tt['TargetName'].name = 'OBJID'\n",
    "tt['idx'] = np.arange(len(tt))\n",
    "joined_cat = table.join(tt, tcat, join_type='left')\n",
    "joined_cat = joined_cat[np.argsort(joined_cat['idx'])]\n",
    "\n",
    "# edit 1:... to limit the number to something reasonable if necessary\n",
    "subsampledcat = subsample_catalog(writecat, {1:200}, maxflux=5, maxguides=100, \n",
    "                                  favor_highpri=joined_cat['TARGETING_SCORE'])\n",
    "\n",
    "fldfn = 'aat_targets_oct2018/{}_{}.fld'.format(hostname, fieldnum)\n",
    "print('Writing', fldfn)\n",
    "write_fld_file(subsampledcat, host, obs_start_date, fldfn, suffix='_{}'.format(fieldnum))\n",
    "np.sum(subsampledcat['Notes'] == 'Targets')"
   ]
  },
  {
   "cell_type": "code",
   "execution_count": 66,
   "metadata": {},
   "outputs": [
    {
     "name": "stdout",
     "output_type": "stream",
     "text": [
      "pgc10965_1.fld                                100%   42KB  41.8KB/s   00:00    \n"
     ]
    }
   ],
   "source": [
    "!scp $fldfn visitor8@aatlxh:~/oct05/"
   ]
  },
  {
   "cell_type": "markdown",
   "metadata": {},
   "source": [
    "# Scratch/working space "
   ]
  },
  {
   "cell_type": "markdown",
   "metadata": {},
   "source": [
    "## Check fibers from list file (mostly for guidestar when on sky) "
   ]
  },
  {
   "cell_type": "code",
   "execution_count": null,
   "metadata": {},
   "outputs": [],
   "source": [
    "lt, sc, _ = aat.load_lis_file('aat_targets_oct2018/nsa13927_1_p0.lis')\n",
    "lt['ra'] = sc.ra.deg\n",
    "lt['dec'] = sc.dec.deg"
   ]
  },
  {
   "cell_type": "code",
   "execution_count": null,
   "metadata": {},
   "outputs": [],
   "source": [
    "make_decals_viewer_cutouts(lt[lt['codes']=='F'], 'sdss', namecol='fibnums', ncols=4)"
   ]
  },
  {
   "cell_type": "code",
   "execution_count": null,
   "metadata": {},
   "outputs": [],
   "source": [
    "make_decals_viewer_cutouts(lt[lt['codes']=='F'], 'unwise-w1w2', namecol='mags', ncols=4, zoom=17)"
   ]
  }
 ],
 "metadata": {
  "kernelspec": {
   "display_name": "Python (saga3)",
   "language": "python",
   "name": "saga3"
  },
  "language_info": {
   "codemirror_mode": {
    "name": "ipython",
    "version": 3
   },
   "file_extension": ".py",
   "mimetype": "text/x-python",
   "name": "python",
   "nbconvert_exporter": "python",
   "pygments_lexer": "ipython3",
   "version": "3.6.1"
  }
 },
 "nbformat": 4,
 "nbformat_minor": 2
}
