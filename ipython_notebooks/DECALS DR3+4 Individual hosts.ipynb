{
 "cells": [
  {
   "cell_type": "code",
   "execution_count": 1,
   "metadata": {
    "collapsed": true
   },
   "outputs": [],
   "source": [
    "from __future__ import print_function, division"
   ]
  },
  {
   "cell_type": "code",
   "execution_count": 2,
   "metadata": {
    "collapsed": true
   },
   "outputs": [],
   "source": [
    "# This changes the current directory to the base saga directory - make sure to run this first!\n",
    "# This is necessary to be able to import the py files and use the right directories,\n",
    "# while keeping all the notebooks in their own directory.\n",
    "import os\n",
    "import sys\n",
    "import time\n",
    "import shutil\n",
    "\n",
    "import urllib\n",
    "\n",
    "if 'saga_base_dir' not in locals():\n",
    "    saga_base_dir = os.path.abspath('..')\n",
    "if saga_base_dir not in sys.path:\n",
    "    os.chdir(saga_base_dir)"
   ]
  },
  {
   "cell_type": "code",
   "execution_count": 3,
   "metadata": {
    "collapsed": true
   },
   "outputs": [],
   "source": [
    "import hosts\n",
    "import decals\n",
    "\n",
    "import numpy as np\n",
    "\n",
    "from astropy import units as u\n",
    "from astropy.coordinates import SkyCoord, Angle\n",
    "from astropy import table\n",
    "from astropy.table import Table\n",
    "from astropy.io import fits\n",
    "\n",
    "from astropy.utils import data\n",
    "\n",
    "import tqdm\n",
    "from IPython import display"
   ]
  },
  {
   "cell_type": "code",
   "execution_count": 4,
   "metadata": {
    "collapsed": true
   },
   "outputs": [],
   "source": [
    "%matplotlib inline\n",
    "from matplotlib import style, pyplot as plt\n",
    "\n",
    "plt.style.use('seaborn-deep')\n",
    "plt.rcParams['image.cmap'] = 'viridis'\n",
    "plt.rcParams['image.origin'] = 'lower'\n",
    "plt.rcParams['figure.figsize'] = (14, 8)"
   ]
  },
  {
   "cell_type": "markdown",
   "metadata": {},
   "source": [
    "# Load the bricks and SAGA hosts"
   ]
  },
  {
   "cell_type": "code",
   "execution_count": 5,
   "metadata": {
    "collapsed": true,
    "scrolled": true
   },
   "outputs": [],
   "source": [
    "bricks = Table.read('decals_dr4/survey-bricks.fits.gz')\n",
    "bricksdr3 = Table.read('decals_dr3/survey-bricks-dr3.fits.gz')\n",
    "bricksdr4 = Table.read('decals_dr4/survey-bricks-dr4.fits.gz')"
   ]
  },
  {
   "cell_type": "code",
   "execution_count": 10,
   "metadata": {},
   "outputs": [
    {
     "name": "stdout",
     "output_type": "stream",
     "text": [
      "Using cached version of google hosts list from file \"hosts_dl.pkl2\"\n"
     ]
    }
   ],
   "source": [
    "hostobjs = hosts.get_saga_hosts_from_google()\n",
    "for host in hostobjs:\n",
    "    host.fnsdss = 'catalogs/base_sql_nsa{}.fits.gz'.format(host.nsaid)\n",
    "    \n",
    "hostsbyname = {h.name:h for h in hostobjs}"
   ]
  },
  {
   "cell_type": "code",
   "execution_count": 13,
   "metadata": {},
   "outputs": [],
   "source": [
    "hoststogen = [hostsbyname['Alice']]\n",
    "\n",
    "host_bricks_3 = decals.find_host_bricks(hoststogen, bricksdr3, bricks)\n",
    "host_bricks_4 = decals.find_host_bricks(hoststogen, bricksdr4, bricks)\n",
    "\n",
    "host_bricks_dct = {3:host_bricks_3, 4:host_bricks_4}"
   ]
  },
  {
   "cell_type": "markdown",
   "metadata": {},
   "source": [
    "# Build combined catalogs for every host"
   ]
  },
  {
   "cell_type": "code",
   "execution_count": 14,
   "metadata": {
    "collapsed": true
   },
   "outputs": [],
   "source": [
    "for hostobj in hoststogen:\n",
    "    hbricks = host_bricks_3[host_bricks_3['closest_host_name'] == hostobj.name]\n",
    "    catfn = 'decals_dr3/'"
   ]
  },
  {
   "cell_type": "code",
   "execution_count": 15,
   "metadata": {
    "collapsed": true
   },
   "outputs": [],
   "source": [
    "def load_host_catalog(hostobj, drnum):\n",
    "    host_bricks = host_bricks_dct[drnum]\n",
    "    tabs = []\n",
    "    for brick in host_bricks[host_bricks['closest_host_name'] == hostobj.name]:\n",
    "        catfn = 'decals_dr{}/catalogs/tractor-{}.fits'.format(drnum, brick['brickname'])\n",
    "        cat = Table.read(catfn)\n",
    "        cat['objname'] = ['{}-{}'.format(row['brickname'], row['objid']) for row in cat]\n",
    "        tabs.append(cat)\n",
    "    if tabs:\n",
    "        return table.vstack(tabs)"
   ]
  },
  {
   "cell_type": "code",
   "execution_count": 17,
   "metadata": {
    "scrolled": true
   },
   "outputs": [
    {
     "data": {
      "application/vnd.jupyter.widget-view+json": {
       "model_id": "b150a8de2e1b410d8d74f297b6ef74aa"
      }
     },
     "metadata": {},
     "output_type": "display_data"
    },
    {
     "name": "stdout",
     "output_type": "stream",
     "text": [
      "\n"
     ]
    },
    {
     "name": "stderr",
     "output_type": "stream",
     "text": [
      "WARNING: MergeConflictWarning: Cannot merge meta key 'TR_C_P3' types <type 'str'> and <type 'str'>, choosing TR_C_P3='brightness.z' [astropy.utils.metadata]\n",
      "WARNING: MergeConflictWarning: Cannot merge meta key 'TR_C_P4' types <type 'str'> and <type 'str'>, choosing TR_C_P4='fracDev.FracDev' [astropy.utils.metadata]\n",
      "WARNING: MergeConflictWarning: Cannot merge meta key 'TR_C_P5' types <type 'str'> and <type 'str'>, choosing TR_C_P5='shapeExp.re' [astropy.utils.metadata]\n",
      "WARNING: MergeConflictWarning: Cannot merge meta key 'TR_C_P6' types <type 'str'> and <type 'str'>, choosing TR_C_P6='shapeExp.e1' [astropy.utils.metadata]\n",
      "WARNING: MergeConflictWarning: Cannot merge meta key 'TR_C_P7' types <type 'str'> and <type 'str'>, choosing TR_C_P7='shapeExp.e2' [astropy.utils.metadata]\n",
      "WARNING: MergeConflictWarning: Cannot merge meta key 'TR_C_P8' types <type 'str'> and <type 'str'>, choosing TR_C_P8='shapeDev.re' [astropy.utils.metadata]\n",
      "WARNING: MergeConflictWarning: Cannot merge meta key 'TR_C_P9' types <type 'str'> and <type 'str'>, choosing TR_C_P9='shapeDev.e1' [astropy.utils.metadata]\n",
      "WARNING: MergeConflictWarning: Cannot merge meta key 'TR_C_P10' types <type 'str'> and <type 'str'>, choosing TR_C_P10='shapeDev.e2' [astropy.utils.metadata]\n",
      "WARNING: MergeConflictWarning: Cannot merge meta key 'TR_E_P3' types <type 'str'> and <type 'str'>, choosing TR_E_P3='brightness.z' [astropy.utils.metadata]\n",
      "WARNING: MergeConflictWarning: Cannot merge meta key 'TR_E_P4' types <type 'str'> and <type 'str'>, choosing TR_E_P4='shape.re' [astropy.utils.metadata]\n",
      "WARNING: MergeConflictWarning: Cannot merge meta key 'TR_E_P5' types <type 'str'> and <type 'str'>, choosing TR_E_P5='shape.e1' [astropy.utils.metadata]\n",
      "WARNING: MergeConflictWarning: Cannot merge meta key 'TR_E_P6' types <type 'str'> and <type 'str'>, choosing TR_E_P6='shape.e2' [astropy.utils.metadata]\n",
      "WARNING: MergeConflictWarning: Cannot merge meta key 'TR_G_P3' types <type 'str'> and <type 'str'>, choosing TR_G_P3='brightness.z' [astropy.utils.metadata]\n",
      "WARNING: MergeConflictWarning: Cannot merge meta key 'TR_S_P3' types <type 'str'> and <type 'str'>, choosing TR_S_P3='brightness.z' [astropy.utils.metadata]\n",
      "WARNING: MergeConflictWarning: Cannot merge meta key 'TR_D_P3' types <type 'str'> and <type 'str'>, choosing TR_D_P3='brightness.z' [astropy.utils.metadata]\n",
      "WARNING: MergeConflictWarning: Cannot merge meta key 'TR_D_P4' types <type 'str'> and <type 'str'>, choosing TR_D_P4='shape.re' [astropy.utils.metadata]\n",
      "WARNING: MergeConflictWarning: Cannot merge meta key 'TR_D_P5' types <type 'str'> and <type 'str'>, choosing TR_D_P5='shape.e1' [astropy.utils.metadata]\n",
      "WARNING: MergeConflictWarning: Cannot merge meta key 'TR_D_P6' types <type 'str'> and <type 'str'>, choosing TR_D_P6='shape.e2' [astropy.utils.metadata]\n",
      "WARNING: MergeConflictWarning: Cannot merge meta key 'TR_S_P3' types <type 'str'> and <type 'str'>, choosing TR_S_P3='brightness.r' [astropy.utils.metadata]\n",
      "WARNING: MergeConflictWarning: Cannot merge meta key 'TR_D_P3' types <type 'str'> and <type 'str'>, choosing TR_D_P3='brightness.r' [astropy.utils.metadata]\n",
      "WARNING: MergeConflictWarning: Cannot merge meta key 'TR_D_P4' types <type 'str'> and <type 'str'>, choosing TR_D_P4='brightness.z' [astropy.utils.metadata]\n",
      "WARNING: MergeConflictWarning: Cannot merge meta key 'TR_D_P5' types <type 'str'> and <type 'str'>, choosing TR_D_P5='shape.re' [astropy.utils.metadata]\n",
      "WARNING: MergeConflictWarning: Cannot merge meta key 'TR_D_P6' types <type 'str'> and <type 'str'>, choosing TR_D_P6='shape.e1' [astropy.utils.metadata]\n",
      "WARNING: MergeConflictWarning: Cannot merge meta key 'TR_E_P3' types <type 'str'> and <type 'str'>, choosing TR_E_P3='brightness.r' [astropy.utils.metadata]\n",
      "WARNING: MergeConflictWarning: Cannot merge meta key 'TR_E_P4' types <type 'str'> and <type 'str'>, choosing TR_E_P4='brightness.z' [astropy.utils.metadata]\n",
      "WARNING: MergeConflictWarning: Cannot merge meta key 'TR_E_P5' types <type 'str'> and <type 'str'>, choosing TR_E_P5='shape.re' [astropy.utils.metadata]\n",
      "WARNING: MergeConflictWarning: Cannot merge meta key 'TR_E_P6' types <type 'str'> and <type 'str'>, choosing TR_E_P6='shape.e1' [astropy.utils.metadata]\n",
      "WARNING: MergeConflictWarning: Cannot merge meta key 'TR_C_P3' types <type 'str'> and <type 'str'>, choosing TR_C_P3='brightness.r' [astropy.utils.metadata]\n",
      "WARNING: MergeConflictWarning: Cannot merge meta key 'TR_C_P4' types <type 'str'> and <type 'str'>, choosing TR_C_P4='brightness.z' [astropy.utils.metadata]\n",
      "WARNING: MergeConflictWarning: Cannot merge meta key 'TR_C_P5' types <type 'str'> and <type 'str'>, choosing TR_C_P5='fracDev.FracDev' [astropy.utils.metadata]\n",
      "WARNING: MergeConflictWarning: Cannot merge meta key 'TR_C_P6' types <type 'str'> and <type 'str'>, choosing TR_C_P6='shapeExp.re' [astropy.utils.metadata]\n",
      "WARNING: MergeConflictWarning: Cannot merge meta key 'TR_C_P7' types <type 'str'> and <type 'str'>, choosing TR_C_P7='shapeExp.e1' [astropy.utils.metadata]\n",
      "WARNING: MergeConflictWarning: Cannot merge meta key 'TR_C_P8' types <type 'str'> and <type 'str'>, choosing TR_C_P8='shapeExp.e2' [astropy.utils.metadata]\n",
      "WARNING: MergeConflictWarning: Cannot merge meta key 'TR_C_P9' types <type 'str'> and <type 'str'>, choosing TR_C_P9='shapeDev.re' [astropy.utils.metadata]\n",
      "WARNING: MergeConflictWarning: Cannot merge meta key 'TR_C_P10' types <type 'str'> and <type 'str'>, choosing TR_C_P10='shapeDev.e1' [astropy.utils.metadata]\n",
      "WARNING: MergeConflictWarning: Cannot merge meta key 'TR_G_P3' types <type 'str'> and <type 'str'>, choosing TR_G_P3='brightness.r' [astropy.utils.metadata]\n",
      "WARNING: MergeConflictWarning: Cannot merge meta key 'TR_C_P2' types <type 'str'> and <type 'str'>, choosing TR_C_P2='brightness.z' [astropy.utils.metadata]\n",
      "WARNING: MergeConflictWarning: Cannot merge meta key 'TR_C_P3' types <type 'str'> and <type 'str'>, choosing TR_C_P3='fracDev.FracDev' [astropy.utils.metadata]\n",
      "WARNING: MergeConflictWarning: Cannot merge meta key 'TR_C_P4' types <type 'str'> and <type 'str'>, choosing TR_C_P4='shapeExp.re' [astropy.utils.metadata]\n",
      "WARNING: MergeConflictWarning: Cannot merge meta key 'TR_C_P5' types <type 'str'> and <type 'str'>, choosing TR_C_P5='shapeExp.e1' [astropy.utils.metadata]\n",
      "WARNING: MergeConflictWarning: Cannot merge meta key 'TR_C_P6' types <type 'str'> and <type 'str'>, choosing TR_C_P6='shapeExp.e2' [astropy.utils.metadata]\n",
      "WARNING: MergeConflictWarning: Cannot merge meta key 'TR_C_P7' types <type 'str'> and <type 'str'>, choosing TR_C_P7='shapeDev.re' [astropy.utils.metadata]\n",
      "WARNING: MergeConflictWarning: Cannot merge meta key 'TR_C_P8' types <type 'str'> and <type 'str'>, choosing TR_C_P8='shapeDev.e1' [astropy.utils.metadata]\n",
      "WARNING: MergeConflictWarning: Cannot merge meta key 'TR_C_P9' types <type 'str'> and <type 'str'>, choosing TR_C_P9='shapeDev.e2' [astropy.utils.metadata]\n",
      "WARNING: MergeConflictWarning: Cannot merge meta key 'TR_E_P2' types <type 'str'> and <type 'str'>, choosing TR_E_P2='brightness.z' [astropy.utils.metadata]\n",
      "WARNING: MergeConflictWarning: Cannot merge meta key 'TR_E_P3' types <type 'str'> and <type 'str'>, choosing TR_E_P3='shape.re' [astropy.utils.metadata]\n",
      "WARNING: MergeConflictWarning: Cannot merge meta key 'TR_E_P4' types <type 'str'> and <type 'str'>, choosing TR_E_P4='shape.e1' [astropy.utils.metadata]\n",
      "WARNING: MergeConflictWarning: Cannot merge meta key 'TR_E_P5' types <type 'str'> and <type 'str'>, choosing TR_E_P5='shape.e2' [astropy.utils.metadata]\n",
      "WARNING: MergeConflictWarning: Cannot merge meta key 'TR_G_P2' types <type 'str'> and <type 'str'>, choosing TR_G_P2='brightness.z' [astropy.utils.metadata]\n",
      "WARNING: MergeConflictWarning: Cannot merge meta key 'TR_S_P2' types <type 'str'> and <type 'str'>, choosing TR_S_P2='brightness.z' [astropy.utils.metadata]\n",
      "WARNING: MergeConflictWarning: Cannot merge meta key 'TR_D_P2' types <type 'str'> and <type 'str'>, choosing TR_D_P2='brightness.z' [astropy.utils.metadata]\n",
      "WARNING: MergeConflictWarning: Cannot merge meta key 'TR_D_P3' types <type 'str'> and <type 'str'>, choosing TR_D_P3='shape.re' [astropy.utils.metadata]\n",
      "WARNING: MergeConflictWarning: Cannot merge meta key 'TR_D_P4' types <type 'str'> and <type 'str'>, choosing TR_D_P4='shape.e1' [astropy.utils.metadata]\n",
      "WARNING: MergeConflictWarning: Cannot merge meta key 'TR_D_P5' types <type 'str'> and <type 'str'>, choosing TR_D_P5='shape.e2' [astropy.utils.metadata]\n",
      "WARNING: MergeConflictWarning: Cannot merge meta key 'TR_C_P2' types <type 'str'> and <type 'str'>, choosing TR_C_P2='brightness.g' [astropy.utils.metadata]\n",
      "WARNING: MergeConflictWarning: Cannot merge meta key 'TR_E_P2' types <type 'str'> and <type 'str'>, choosing TR_E_P2='brightness.g' [astropy.utils.metadata]\n",
      "WARNING: MergeConflictWarning: Cannot merge meta key 'TR_G_P2' types <type 'str'> and <type 'str'>, choosing TR_G_P2='brightness.g' [astropy.utils.metadata]\n",
      "WARNING: MergeConflictWarning: Cannot merge meta key 'TR_S_P2' types <type 'str'> and <type 'str'>, choosing TR_S_P2='brightness.g' [astropy.utils.metadata]\n",
      "WARNING: MergeConflictWarning: Cannot merge meta key 'TR_D_P2' types <type 'str'> and <type 'str'>, choosing TR_D_P2='brightness.g' [astropy.utils.metadata]\n"
     ]
    },
    {
     "data": {
      "text/plain": [
       "[('Alice', 237279)]"
      ]
     },
     "execution_count": 17,
     "metadata": {},
     "output_type": "execute_result"
    }
   ],
   "source": [
    "for hostobj in tqdm.tqdm_notebook(hoststogen):\n",
    "    hostobj.cats3 = load_host_catalog(hostobj, 3)\n",
    "    \n",
    "[(hostobj.name, len(hostobj.cats3)) for hostobj in hoststogen if hostobj.cats3 is not None]"
   ]
  },
  {
   "cell_type": "code",
   "execution_count": 18,
   "metadata": {},
   "outputs": [
    {
     "data": {
      "application/vnd.jupyter.widget-view+json": {
       "model_id": "76368c8060294322859ce0e3b16ff913"
      }
     },
     "metadata": {},
     "output_type": "display_data"
    },
    {
     "name": "stdout",
     "output_type": "stream",
     "text": [
      "\n"
     ]
    },
    {
     "data": {
      "text/plain": [
       "[]"
      ]
     },
     "execution_count": 18,
     "metadata": {},
     "output_type": "execute_result"
    }
   ],
   "source": [
    "for hostobj in tqdm.tqdm_notebook(hoststogen):\n",
    "    hostobj.cats4 = load_host_catalog(hostobj, 4)\n",
    "    \n",
    "[(hostobj.name, len(hostobj.cats4)) for hostobj in hoststogen if hostobj.cats4 is not None]"
   ]
  },
  {
   "cell_type": "markdown",
   "metadata": {},
   "source": [
    "## Compute surface brightnesses"
   ]
  },
  {
   "cell_type": "code",
   "execution_count": 19,
   "metadata": {
    "scrolled": true
   },
   "outputs": [
    {
     "data": {
      "application/vnd.jupyter.widget-view+json": {
       "model_id": "3bab0ab9c24449ebbbbe9827d278f386"
      }
     },
     "metadata": {},
     "output_type": "display_data"
    },
    {
     "name": "stderr",
     "output_type": "stream",
     "text": [
      "decals.py:97: RuntimeWarning: divide by zero encountered in log10\n",
      "  mag = np.array(22.5 - 2.5*np.log10(flux))\n",
      "decals.py:97: RuntimeWarning: invalid value encountered in log10\n",
      "  mag = np.array(22.5 - 2.5*np.log10(flux))\n",
      "/Users/erik/miniconda3/envs/saga/lib/python2.7/site-packages/astropy/units/quantity.py:885: RuntimeWarning: divide by zero encountered in power\n",
      "  return super(Quantity, self).__pow__(other)\n",
      "/Users/erik/miniconda3/envs/saga/lib/python2.7/site-packages/astropy/units/quantity.py:841: RuntimeWarning: divide by zero encountered in true_divide\n",
      "  return super(Quantity, self).__truediv__(other)\n",
      "decals.py:132: RuntimeWarning: divide by zero encountered in log10\n",
      "  return np.array(22.5 - 2.5*np.log10(apflux) + A) * u.mag * u.arcsec**-2\n",
      "decals.py:132: RuntimeWarning: invalid value encountered in log10\n",
      "  return np.array(22.5 - 2.5*np.log10(apflux) + A) * u.mag * u.arcsec**-2\n"
     ]
    },
    {
     "data": {
      "application/vnd.jupyter.widget-view+json": {
       "model_id": "776b65065461456a9e31efa5ecc62672"
      }
     },
     "metadata": {},
     "output_type": "display_data"
    },
    {
     "name": "stdout",
     "output_type": "stream",
     "text": [
      "\n"
     ]
    },
    {
     "name": "stderr",
     "output_type": "stream",
     "text": [
      "decals.py:131: RuntimeWarning: divide by zero encountered in log10\n",
      "  A = 2.5*np.log10(np.pi*(rad.to(u.arcsec).value)**2)\n",
      "decals.py:132: RuntimeWarning: invalid value encountered in add\n",
      "  return np.array(22.5 - 2.5*np.log10(apflux) + A) * u.mag * u.arcsec**-2\n"
     ]
    }
   ],
   "source": [
    "for host in tqdm.tqdm_notebook(hoststogen):\n",
    "    for cat in (host.cats3, host.cats4):\n",
    "        if cat is not None:\n",
    "            decals.mags_catalog(cat)\n",
    "            decals.aperture_sbs_catalog(cat, bandname='r')\n",
    "            decals.interpolate_catalog_sb(cat, loopfunc=lambda x: tqdm.tqdm_notebook(x, leave=False))"
   ]
  },
  {
   "cell_type": "markdown",
   "metadata": {},
   "source": [
    "## Overall quality measures "
   ]
  },
  {
   "cell_type": "code",
   "execution_count": 34,
   "metadata": {},
   "outputs": [
    {
     "name": "stderr",
     "output_type": "stream",
     "text": [
      "/Users/erik/miniconda3/envs/saga/lib/python2.7/site-packages/ipykernel/__main__.py:15: RuntimeWarning: divide by zero encountered in power\n",
      "/Users/erik/miniconda3/envs/saga/lib/python2.7/site-packages/ipykernel/__main__.py:16: RuntimeWarning: divide by zero encountered in power\n"
     ]
    },
    {
     "data": {
      "image/png": "[encoded data removed]",
      "text/plain": [
       "<matplotlib.figure.Figure at 0x14524c3d0>"
      ]
     },
     "metadata": {},
     "output_type": "display_data"
    }
   ],
   "source": [
    "for host in hoststogen:\n",
    "    plt.figure()\n",
    "    plt.title(host.name)\n",
    "    for cat in (host.cats3, host.cats4):\n",
    "        if cat is not None:\n",
    "            scs = SkyCoord(cat['ra'], cat['dec'], unit=u.deg)\n",
    "            subcat = cat[host.within_environs(scs)]\n",
    "            \n",
    "            if 'decam_galdepth' in subcat.colnames:\n",
    "                psfdepthr = subcat['decam_depth'][:, 2]\n",
    "                galdepthr = subcat['decam_galdepth'][:, 2]\n",
    "            else:\n",
    "                psfdepthr = subcat['psfdepth_r']\n",
    "                galdepthr = subcat['galdepth_r']\n",
    "            psfdepths =-2.5*(np.log10(5*psfdepthr**-0.5)-9)\n",
    "            galdepths =-2.5*(np.log10(5*galdepthr**-0.5)-9)\n",
    "            \n",
    "            plt.hist(psfdepths[np.isfinite(psfdepths)], bins=100, histtype='step', label='psf')\n",
    "            plt.hist(galdepths[np.isfinite(galdepths)], bins=100, histtype='step', label='gal')\n",
    "        plt.legend()"
   ]
  },
  {
   "cell_type": "code",
   "execution_count": 38,
   "metadata": {},
   "outputs": [],
   "source": [
    "for host in hoststogen:\n",
    "    for cat, dr in zip((host.cats3, host.cats4), (3,4)):\n",
    "        if cat is not None:\n",
    "            fn = 'catalogs/{}_decals_dr{}.fits'.format(host.name, dr)\n",
    "            print('writing', fn)\n",
    "            cat.write(fn, format='fits')"
   ]
  }
 ],
 "metadata": {
  "anaconda-cloud": {},
  "kernelspec": {
   "display_name": "Python [conda env:saga]",
   "language": "python",
   "name": "conda-env-saga-py"
  },
  "language_info": {
   "codemirror_mode": {
    "name": "ipython",
    "version": 2
   },
   "file_extension": ".py",
   "mimetype": "text/x-python",
   "name": "python",
   "nbconvert_exporter": "python",
   "pygments_lexer": "ipython2",
   "version": "2.7.12"
  }
 },
 "nbformat": 4,
 "nbformat_minor": 1
}
