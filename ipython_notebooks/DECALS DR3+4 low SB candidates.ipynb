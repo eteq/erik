{
 "cells": [
  {
   "cell_type": "code",
   "execution_count": 1,
   "metadata": {
    "collapsed": true
   },
   "outputs": [],
   "source": [
    "from __future__ import print_function, division"
   ]
  },
  {
   "cell_type": "code",
   "execution_count": 2,
   "metadata": {
    "collapsed": true
   },
   "outputs": [],
   "source": [
    "# This changes the current directory to the base saga directory - make sure to run this first!\n",
    "# This is necessary to be able to import the py files and use the right directories,\n",
    "# while keeping all the notebooks in their own directory.\n",
    "import os\n",
    "import sys\n",
    "import time\n",
    "import shutil\n",
    "\n",
    "import urllib\n",
    "\n",
    "if 'saga_base_dir' not in locals():\n",
    "    saga_base_dir = os.path.abspath('..')\n",
    "if saga_base_dir not in sys.path:\n",
    "    os.chdir(saga_base_dir)"
   ]
  },
  {
   "cell_type": "code",
   "execution_count": 3,
   "metadata": {
    "collapsed": true
   },
   "outputs": [],
   "source": [
    "import hosts\n",
    "import decals\n",
    "\n",
    "import numpy as np\n",
    "\n",
    "from astropy import units as u\n",
    "from astropy.coordinates import SkyCoord, Angle\n",
    "from astropy import table\n",
    "from astropy.table import Table\n",
    "from astropy.io import fits\n",
    "\n",
    "import tqdm\n",
    "from astropy.utils import data"
   ]
  },
  {
   "cell_type": "code",
   "execution_count": 4,
   "metadata": {
    "collapsed": true
   },
   "outputs": [],
   "source": [
    "%matplotlib inline\n",
    "from matplotlib import style, pyplot as plt\n",
    "\n",
    "plt.style.use('seaborn-deep')\n",
    "plt.rcParams['image.cmap'] = 'viridis'\n",
    "plt.rcParams['image.origin'] = 'lower'\n",
    "plt.rcParams['figure.figsize'] = (14, 8)"
   ]
  },
  {
   "cell_type": "markdown",
   "metadata": {},
   "source": [
    "# Load the bricks and SAGA hosts"
   ]
  },
  {
   "cell_type": "code",
   "execution_count": 25,
   "metadata": {
    "collapsed": true,
    "scrolled": true
   },
   "outputs": [],
   "source": [
    "bricks = Table.read('decals_dr4/survey-bricks.fits.gz')\n",
    "bricksdr3 = Table.read('decals_dr3/survey-bricks-dr3.fits.gz')\n",
    "bricksdr4 = Table.read('decals_dr4/survey-bricks-dr4.fits.gz')"
   ]
  },
  {
   "cell_type": "code",
   "execution_count": 26,
   "metadata": {
    "collapsed": true
   },
   "outputs": [],
   "source": [
    "paper1nsas_comp = [166313,147100,165536,61945,132339,149781,33446,150887]\n",
    "paper1nsas_incomp = [161174,85746,145729,140594,126115,13927,137625,129237]\n",
    "paper1nsas = paper1nsas_comp + paper1nsas_incomp"
   ]
  },
  {
   "cell_type": "code",
   "execution_count": 27,
   "metadata": {},
   "outputs": [
    {
     "name": "stdout",
     "output_type": "stream",
     "text": [
      "Using cached version of google hosts list from file \"hosts_dl.pkl2\"\n"
     ]
    }
   ],
   "source": [
    "hostobjs = hosts.get_saga_hosts_from_google()\n",
    "paperhosts = [h for h in hostobjs if h.nsaid in paper1nsas]\n",
    "assert len(paperhosts) == len(paper1nsas)\n",
    "\n",
    "paperhostscs = SkyCoord([h.coords for h in paperhosts])\n",
    "paperhostsbyname = {h.name:h for h in paperhosts}"
   ]
  },
  {
   "cell_type": "code",
   "execution_count": 28,
   "metadata": {
    "collapsed": true
   },
   "outputs": [],
   "source": [
    "host_bricks_3 = decals.find_host_bricks(paperhosts, bricksdr3, bricks)\n",
    "host_bricks_4 = decals.find_host_bricks(paperhosts, bricksdr4, bricks)\n",
    "\n",
    "host_bricks_dct = {3:host_bricks_3, 4:host_bricks_4}"
   ]
  },
  {
   "cell_type": "markdown",
   "metadata": {},
   "source": [
    "# Build brick catalogs for every host"
   ]
  },
  {
   "cell_type": "code",
   "execution_count": 20,
   "metadata": {},
   "outputs": [
    {
     "name": "stdout",
     "output_type": "stream",
     "text": [
      "<hosts.NSAHost object w/ name 'Odyssey' AKA: ['NGC6181', 'NSA147100']> 31\n",
      "<hosts.NSAHost object w/ name 'Alice' AKA: ['NGC4030', 'NSA140594']> 56\n",
      "<hosts.NSAHost object w/ name 'Gilgamesh' AKA: ['NGC5962', 'NSA166313']> 38\n",
      "<hosts.NSAHost object w/ name 'AnaK' AKA: ['NGC7716', 'NSA61945']> 28\n",
      "<hosts.NSAHost object w/ name 'Dune' AKA: ['NGC5750', 'NSA165536']> 49\n",
      "<hosts.NSAHost object w/ name 'Sopranos' AKA: ['NGC4045', 'NSA13927']> 40\n",
      "<hosts.NSAHost object w/ name 'Narnia' AKA: ['NGC1015', 'NSA132339']> 28\n",
      "<hosts.NSAHost object w/ name 'Bandamanna' AKA: ['NGC7818', 'NSA126115']> 32\n",
      "<hosts.NSAHost object w/ name 'MobyDick' AKA: ['NGC3067', 'NSA85746']> 0\n",
      "<hosts.NSAHost object w/ name 'StarTrek' AKA: ['NGC2543', 'NSA33446']> 0\n",
      "<hosts.NSAHost object w/ name 'OBrother' AKA: ['NGCPGC068743', 'NSA149781']> 7\n",
      "<hosts.NSAHost object w/ name 'Catch22' AKA: ['NGC7541', 'NSA150887']> 4\n",
      "<hosts.NSAHost object w/ name 'HarryPotter' AKA: ['NGCPGC004948', 'NSA129237']> 25\n",
      "<hosts.NSAHost object w/ name 'Oz' AKA: ['NGC3277', 'NSA137625']> 41\n",
      "<hosts.NSAHost object w/ name 'ScoobyDoo' AKA: ['NGC4158', 'NSA161174']> 26\n",
      "<hosts.NSAHost object w/ name 'Othello' AKA: ['NGC5792', 'NSA145729']> 41\n"
     ]
    }
   ],
   "source": [
    "for hostobj in paperhosts:\n",
    "    hbricks = host_bricks_3[host_bricks_3['closest_host_name'] == hostobj.name]\n",
    "    catfn = 'decals_dr3/'"
   ]
  },
  {
   "cell_type": "code",
   "execution_count": 41,
   "metadata": {
    "collapsed": true
   },
   "outputs": [],
   "source": [
    "def load_host_catalog(hostobj, drnum):\n",
    "    host_bricks = host_bricks_dct[drnum]\n",
    "    tabs = []\n",
    "    for brick in host_bricks[host_bricks['closest_host_name'] == hostobj.name]:\n",
    "        catfn = 'decals_dr{}/catalogs/tractor-{}.fits'.format(drnum, brick['brickname'])\n",
    "        tabs.append(Table.read(catfn))\n",
    "    if tabs:\n",
    "        return table.vstack(tabs)"
   ]
  },
  {
   "cell_type": "code",
   "execution_count": 49,
   "metadata": {},
   "outputs": [
    {
     "data": {
      "text/plain": [
       "[('Odyssey', 145041),\n",
       " ('Alice', 237279),\n",
       " ('Gilgamesh', 94874),\n",
       " ('AnaK', 182540),\n",
       " ('Dune', 231112),\n",
       " ('Sopranos', 286959),\n",
       " ('Narnia', 158462),\n",
       " ('Bandamanna', 59030),\n",
       " ('OBrother', 17901),\n",
       " ('Catch22', 3951),\n",
       " ('HarryPotter', 44918),\n",
       " ('Oz', 41667),\n",
       " ('ScoobyDoo', 94704),\n",
       " ('Othello', 138656)]"
      ]
     },
     "execution_count": 49,
     "metadata": {},
     "output_type": "execute_result"
    }
   ],
   "source": [
    "for hostobj in tqdm.tqdm_notebook(paperhosts):\n",
    "    hostobj.cats3 = load_host_catalog(hostobj, 3)\n",
    "    \n",
    "[(hostobj.name, len(hostobj.cats3)) for hostobj in paperhosts if hostobj.cats3 is not None]"
   ]
  },
  {
   "cell_type": "code",
   "execution_count": 47,
   "metadata": {},
   "outputs": [
    {
     "data": {
      "text/plain": [
       "[('MobyDick', 86799), ('StarTrek', 86644)]"
      ]
     },
     "execution_count": 47,
     "metadata": {},
     "output_type": "execute_result"
    }
   ],
   "source": [
    "for hostobj in tqdm.tqdm_notebook(paperhosts):\n",
    "    hostobj.cats4 = cat = load_host_catalog(hostobj, 4)\n",
    "[(hostobj.name, len(hostobj.cats4)) for hostobj in paperhosts if hostobj.cats4 is not None]"
   ]
  },
  {
   "cell_type": "code",
   "execution_count": null,
   "metadata": {},
   "outputs": [
    {
     "data": {
      "application/vnd.jupyter.widget-view+json": {
       "model_id": "d216cab5796942f48bb6743e7a94a77c"
      }
     },
     "metadata": {},
     "output_type": "display_data"
    }
   ],
   "source": [
    "for hostobj in tqdm.tqdm_notebook(paperhosts):\n",
    "    for cat in (hostobj.cats3, hostobj.cats4):\n",
    "        if cat is not None:\n",
    "            cat['objname'] = ['{}-{}'.format(row['brickname'], row['objid']) for row in cat]"
   ]
  },
  {
   "cell_type": "code",
   "execution_count": 52,
   "metadata": {},
   "outputs": [
    {
     "data": {
      "text/html": [
       "&lt;Table length=145041&gt;\n",
       "<table id=\"table5200980496\" class=\"table-striped table-bordered table-condensed\">\n",
       "<thead><tr><th>brickid</th><th>brickname</th><th>objid</th><th>brick_primary</th><th>blob</th><th>ninblob</th><th>tycho2inblob</th><th>type</th><th>ra</th><th>ra_ivar</th><th>dec</th><th>dec_ivar</th><th>bx</th><th>by</th><th>bx0</th><th>by0</th><th>left_blob</th><th>out_of_bounds</th><th>dchisq [5]</th><th>ebv</th><th>cpu_source</th><th>cpu_blob</th><th>blob_width</th><th>blob_height</th><th>blob_npix</th><th>blob_nimages</th><th>blob_totalpix</th><th>decam_flux [6]</th><th>decam_flux_ivar [6]</th><th>decam_apflux [6,8]</th><th>decam_apflux_resid [6,8]</th><th>decam_apflux_ivar [6,8]</th><th>decam_mw_transmission [6]</th><th>decam_nobs [6]</th><th>decam_rchi2 [6]</th><th>decam_fracflux [6]</th><th>decam_fracmasked [6]</th><th>decam_fracin [6]</th><th>decam_anymask [6]</th><th>decam_allmask [6]</th><th>decam_psfsize [6]</th><th>wise_flux [4]</th><th>wise_flux_ivar [4]</th><th>wise_mw_transmission [4]</th><th>wise_nobs [4]</th><th>wise_fracflux [4]</th><th>wise_rchi2 [4]</th><th>wise_lc_flux [2,5]</th><th>wise_lc_flux_ivar [2,5]</th><th>wise_lc_nobs [2,5]</th><th>wise_lc_fracflux [2,5]</th><th>wise_lc_rchi2 [2,5]</th><th>wise_lc_mjd [2,5]</th><th>fracDev</th><th>fracDev_ivar</th><th>shapeExp_r</th><th>shapeExp_r_ivar</th><th>shapeExp_e1</th><th>shapeExp_e1_ivar</th><th>shapeExp_e2</th><th>shapeExp_e2_ivar</th><th>shapeDev_r</th><th>shapeDev_r_ivar</th><th>shapeDev_e1</th><th>shapeDev_e1_ivar</th><th>shapeDev_e2</th><th>shapeDev_e2_ivar</th><th>decam_depth [6]</th><th>decam_galdepth [6]</th></tr></thead>\n",
       "<thead><tr><th></th><th></th><th></th><th></th><th></th><th></th><th></th><th></th><th>deg</th><th>1/deg^2</th><th>deg</th><th>1/deg^2</th><th></th><th></th><th></th><th></th><th></th><th></th><th></th><th>mag</th><th></th><th></th><th></th><th></th><th></th><th></th><th></th><th>nanomaggy</th><th>1/nanomaggy^2</th><th>nanomaggy</th><th>nanomaggy</th><th>1/nanomaggy^2</th><th></th><th></th><th></th><th></th><th></th><th></th><th></th><th></th><th></th><th>nanomaggy</th><th>1/nanomaggy^2</th><th></th><th></th><th></th><th></th><th>nanomaggy</th><th>1/nanomaggy^2</th><th></th><th></th><th></th><th></th><th></th><th></th><th>arcsec</th><th>1/arcsec^2</th><th></th><th></th><th></th><th></th><th>arcsec</th><th>1/arcsec^2</th><th></th><th></th><th></th><th></th><th>1/nanomaggy^2</th><th>1/nanomaggy^2</th></tr></thead>\n",
       "<thead><tr><th>int32</th><th>str8</th><th>int32</th><th>bool</th><th>int32</th><th>int16</th><th>bool</th><th>str4</th><th>float64</th><th>float32</th><th>float64</th><th>float32</th><th>float32</th><th>float32</th><th>float32</th><th>float32</th><th>bool</th><th>bool</th><th>float32</th><th>float32</th><th>float32</th><th>float32</th><th>int16</th><th>int16</th><th>int32</th><th>int16</th><th>int32</th><th>float32</th><th>float32</th><th>float32</th><th>float32</th><th>float32</th><th>float32</th><th>uint8</th><th>float32</th><th>float32</th><th>float32</th><th>float32</th><th>int16</th><th>int16</th><th>float32</th><th>float32</th><th>float32</th><th>float32</th><th>int16</th><th>float32</th><th>float32</th><th>float32</th><th>float32</th><th>int16</th><th>float32</th><th>float32</th><th>float32</th><th>float32</th><th>float32</th><th>float32</th><th>float32</th><th>float32</th><th>float32</th><th>float32</th><th>float32</th><th>float32</th><th>float32</th><th>float32</th><th>float32</th><th>float32</th><th>float32</th><th>float32</th><th>float32</th></tr></thead>\n",
       "<tr><td>441620</td><td>2473p195</td><td>0</td><td>False</td><td>0</td><td>1</td><td>False</td><td>PSF</td><td>247.495475827</td><td>1.48138e+11</td><td>19.3702523218</td><td>1.46109e+11</td><td>142.49</td><td>17.3175</td><td>142.0</td><td>17.0</td><td>False</td><td>False</td><td>10894.8 .. 0.0</td><td>0.0523248</td><td>4.9</td><td>5.04</td><td>34</td><td>35</td><td>910</td><td>12</td><td>10689</td><td>0.0 .. 0.0</td><td>0.0 .. 0.0</td><td>0.0 .. 0.0</td><td>0.0 .. 0.0</td><td>0.0 .. 0.0</td><td>0.824869 .. 0.950015</td><td>0 .. 0</td><td>0.0 .. 0.0</td><td>0.0 .. 0.0</td><td>0.0 .. 0.0</td><td>0.0 .. 0.0</td><td>0 .. 0</td><td>0 .. 0</td><td>0.0 .. 0.0</td><td>-1.14857 .. -365.795</td><td>2.03034 .. 2.42482e-05</td><td>0.991172 .. 0.999562</td><td>74 .. 14</td><td>1.3144 .. 0.842091</td><td>0.75935 .. 0.102832</td><td>0.0828545 .. 0.0</td><td>0.388915 .. 0.0</td><td>14 .. 0</td><td>16.5635 .. 0.0</td><td>0.344379 .. 0.0</td><td>55248.1 .. 0.0</td><td>0.0</td><td>0.0</td><td>0.0</td><td>0.0</td><td>0.0</td><td>0.0</td><td>0.0</td><td>0.0</td><td>0.0</td><td>0.0</td><td>0.0</td><td>0.0</td><td>0.0</td><td>0.0</td><td>0.0 .. 0.0</td><td>0.0 .. 0.0</td></tr>\n",
       "<tr><td>441620</td><td>2473p195</td><td>1</td><td>False</td><td>1</td><td>2</td><td>False</td><td>PSF</td><td>247.470297457</td><td>7.70418e+08</td><td>19.3694017375</td><td>7.80088e+08</td><td>468.864</td><td>5.41228</td><td>469.0</td><td>6.0</td><td>False</td><td>False</td><td>87.7037 .. 0.0</td><td>0.0523094</td><td>1.33</td><td>6.16</td><td>43</td><td>19</td><td>542</td><td>11</td><td>5785</td><td>0.0 .. 0.0</td><td>0.0 .. 0.0</td><td>0.0 .. 0.0</td><td>0.0 .. 0.0</td><td>0.0 .. 0.0</td><td>0.824916 .. 0.95003</td><td>0 .. 0</td><td>0.0 .. 0.0</td><td>0.0 .. 0.0</td><td>0.0 .. 0.0</td><td>0.0 .. 0.0</td><td>0 .. 0</td><td>0 .. 0</td><td>0.0 .. 0.0</td><td>-0.522741 .. 135.125</td><td>2.07265 .. 2.11677e-05</td><td>0.991174 .. 0.999562</td><td>74 .. 14</td><td>1.08924 .. 2.27861</td><td>0.356939 .. 0.168483</td><td>-4.39709 .. 0.0</td><td>0.3881 .. 0.0</td><td>14 .. 0</td><td>0.222421 .. 0.0</td><td>0.773632 .. 0.0</td><td>55248.1 .. 0.0</td><td>0.0</td><td>0.0</td><td>0.0</td><td>0.0</td><td>0.0</td><td>0.0</td><td>0.0</td><td>0.0</td><td>0.0</td><td>0.0</td><td>0.0</td><td>0.0</td><td>0.0</td><td>0.0</td><td>0.0 .. 0.0</td><td>0.0 .. 0.0</td></tr>\n",
       "<tr><td>441620</td><td>2473p195</td><td>2</td><td>False</td><td>1</td><td>2</td><td>False</td><td>PSF</td><td>247.468970182</td><td>1.18565e+09</td><td>19.3696753758</td><td>1.04249e+09</td><td>486.072</td><td>9.16206</td><td>486.0</td><td>9.0</td><td>False</td><td>False</td><td>42.454 .. 0.0</td><td>0.0523086</td><td>0.83</td><td>6.16</td><td>43</td><td>19</td><td>542</td><td>11</td><td>5785</td><td>0.0 .. 0.0</td><td>0.0 .. 0.0</td><td>0.0 .. 0.0</td><td>0.0 .. 0.0</td><td>0.0 .. 0.0</td><td>0.824918 .. 0.95003</td><td>0 .. 0</td><td>0.0 .. 0.0</td><td>0.0 .. 0.0</td><td>0.0 .. 0.0</td><td>0.0 .. 0.0</td><td>0 .. 0</td><td>0 .. 0</td><td>0.0 .. 0.0</td><td>-1.16562 .. -277.789</td><td>2.12133 .. 2.26824e-05</td><td>0.991174 .. 0.999562</td><td>74 .. 14</td><td>0.292451 .. 0.696415</td><td>0.744256 .. 0.165091</td><td>1.01786 .. 0.0</td><td>0.394927 .. 0.0</td><td>14 .. 0</td><td>1.8935 .. 0.0</td><td>0.521322 .. 0.0</td><td>55248.1 .. 0.0</td><td>0.0</td><td>0.0</td><td>0.0</td><td>0.0</td><td>0.0</td><td>0.0</td><td>0.0</td><td>0.0</td><td>0.0</td><td>0.0</td><td>0.0</td><td>0.0</td><td>0.0</td><td>0.0</td><td>0.0 .. 0.0</td><td>0.0 .. 0.0</td></tr>\n",
       "<tr><td>441620</td><td>2473p195</td><td>3</td><td>False</td><td>2</td><td>4</td><td>False</td><td>PSF</td><td>247.46302259</td><td>4.75784e+13</td><td>19.3716610909</td><td>4.95511e+13</td><td>563.184</td><td>36.403</td><td>563.0</td><td>36.0</td><td>False</td><td>False</td><td>3.11851e+06 .. 3.11898e+06</td><td>0.0523033</td><td>9.87</td><td>15.01</td><td>69</td><td>74</td><td>3192</td><td>12</td><td>36650</td><td>0.0 .. 0.0</td><td>0.0 .. 0.0</td><td>0.0 .. 0.0</td><td>0.0 .. 0.0</td><td>0.0 .. 0.0</td><td>0.824934 .. 0.950035</td><td>0 .. 0</td><td>0.0 .. 0.0</td><td>0.0 .. 0.0</td><td>0.0 .. 0.0</td><td>0.0 .. 0.0</td><td>0 .. 0</td><td>0 .. 0</td><td>0.0 .. 0.0</td><td>38.9347 .. 221.097</td><td>2.07125 .. 2.52506e-05</td><td>0.991175 .. 0.999562</td><td>74 .. 14</td><td>0.0120547 .. 0.682399</td><td>0.846584 .. 0.119479</td><td>40.5385 .. 0.0</td><td>0.399262 .. 0.0</td><td>14 .. 0</td><td>0.0106926 .. 0.0</td><td>0.684151 .. 0.0</td><td>55248.1 .. 0.0</td><td>0.0</td><td>0.0</td><td>0.0</td><td>0.0</td><td>0.0</td><td>0.0</td><td>0.0</td><td>0.0</td><td>0.0</td><td>0.0</td><td>0.0</td><td>0.0</td><td>0.0</td><td>0.0</td><td>0.0 .. 0.0</td><td>0.0 .. 0.0</td></tr>\n",
       "<tr><td>441620</td><td>2473p195</td><td>4</td><td>False</td><td>2</td><td>4</td><td>False</td><td>PSF</td><td>247.461800989</td><td>5.23171e+09</td><td>19.3697658556</td><td>4.68259e+09</td><td>579.005</td><td>10.3527</td><td>579.0</td><td>10.0</td><td>False</td><td>False</td><td>378.391 .. 0.0</td><td>0.0523211</td><td>1.38</td><td>15.01</td><td>69</td><td>74</td><td>3192</td><td>12</td><td>36650</td><td>0.0 .. 0.0</td><td>0.0 .. 0.0</td><td>0.0 .. 0.0</td><td>0.0 .. 0.0</td><td>0.0 .. 0.0</td><td>0.82488 .. 0.950019</td><td>0 .. 0</td><td>0.0 .. 0.0</td><td>0.0 .. 0.0</td><td>0.0 .. 0.0</td><td>0.0 .. 0.0</td><td>0 .. 0</td><td>0 .. 0</td><td>0.0 .. 0.0</td><td>-0.652095 .. 48.6347</td><td>2.04184 .. 2.30609e-05</td><td>0.991172 .. 0.999562</td><td>73 .. 14</td><td>7.38966 .. 4.17721</td><td>0.839235 .. 0.114601</td><td>-0.299375 .. 0.0</td><td>0.3992 .. 0.0</td><td>14 .. 0</td><td>17.2687 .. 0.0</td><td>0.313207 .. 0.0</td><td>55248.1 .. 0.0</td><td>0.0</td><td>0.0</td><td>0.0</td><td>0.0</td><td>0.0</td><td>0.0</td><td>0.0</td><td>0.0</td><td>0.0</td><td>0.0</td><td>0.0</td><td>0.0</td><td>0.0</td><td>0.0</td><td>0.0 .. 0.0</td><td>0.0 .. 0.0</td></tr>\n",
       "<tr><td>441620</td><td>2473p195</td><td>5</td><td>False</td><td>2</td><td>4</td><td>False</td><td>PSF</td><td>247.463563504</td><td>9.74493e+08</td><td>19.3735523547</td><td>9.02761e+08</td><td>556.187</td><td>62.3938</td><td>557.0</td><td>62.0</td><td>False</td><td>False</td><td>66.0259 .. 0.0</td><td>0.0522861</td><td>1.45</td><td>15.01</td><td>69</td><td>74</td><td>3192</td><td>12</td><td>36650</td><td>0.0 .. 0.0</td><td>0.0 .. 0.0</td><td>0.0 .. 0.0</td><td>0.0 .. 0.0</td><td>0.0 .. 0.0</td><td>0.824987 .. 0.950051</td><td>0 .. 0</td><td>0.0 .. 0.0</td><td>0.0 .. 0.0</td><td>0.0 .. 0.0</td><td>0.0 .. 0.0</td><td>0 .. 0</td><td>0 .. 0</td><td>0.0 .. 0.0</td><td>1.62303 .. 90.2092</td><td>2.03266 .. 2.50064e-05</td><td>0.991178 .. 0.999562</td><td>73 .. 14</td><td>4.11834 .. 2.61794</td><td>1.1412 .. 0.172576</td><td>1.07014 .. 0.0</td><td>0.385221 .. 0.0</td><td>14 .. 0</td><td>6.52034 .. 0.0</td><td>0.644826 .. 0.0</td><td>55248.1 .. 0.0</td><td>0.0</td><td>0.0</td><td>0.0</td><td>0.0</td><td>0.0</td><td>0.0</td><td>0.0</td><td>0.0</td><td>0.0</td><td>0.0</td><td>0.0</td><td>0.0</td><td>0.0</td><td>0.0</td><td>0.0 .. 0.0</td><td>0.0 .. 0.0</td></tr>\n",
       "<tr><td>441620</td><td>2473p195</td><td>6</td><td>False</td><td>2</td><td>4</td><td>False</td><td>PSF</td><td>247.460778333</td><td>3.71765e+08</td><td>19.3723602566</td><td>3.8843e+08</td><td>592.281</td><td>45.994</td><td>592.0</td><td>46.0</td><td>False</td><td>False</td><td>31.9392 .. 0.0</td><td>0.0523036</td><td>1.44</td><td>15.01</td><td>69</td><td>74</td><td>3192</td><td>12</td><td>36650</td><td>0.0 .. 0.0</td><td>0.0 .. 0.0</td><td>0.0 .. 0.0</td><td>0.0 .. 0.0</td><td>0.0 .. 0.0</td><td>0.824933 .. 0.950035</td><td>0 .. 0</td><td>0.0 .. 0.0</td><td>0.0 .. 0.0</td><td>0.0 .. 0.0</td><td>0.0 .. 0.0</td><td>0 .. 0</td><td>0 .. 0</td><td>0.0 .. 0.0</td><td>-0.557163 .. -23.6299</td><td>2.08764 .. 2.5505e-05</td><td>0.991175 .. 0.999562</td><td>73 .. 14</td><td>9.31677 .. 10.8752</td><td>0.759974 .. 0.178551</td><td>-0.525555 .. 0.0</td><td>0.399542 .. 0.0</td><td>14 .. 0</td><td>10.752 .. 0.0</td><td>0.427247 .. 0.0</td><td>55248.1 .. 0.0</td><td>0.0</td><td>0.0</td><td>0.0</td><td>0.0</td><td>0.0</td><td>0.0</td><td>0.0</td><td>0.0</td><td>0.0</td><td>0.0</td><td>0.0</td><td>0.0</td><td>0.0</td><td>0.0</td><td>0.0 .. 0.0</td><td>0.0 .. 0.0</td></tr>\n",
       "<tr><td>441620</td><td>2473p195</td><td>7</td><td>False</td><td>3</td><td>1</td><td>False</td><td>EXP</td><td>247.459072301</td><td>2.56049e+08</td><td>19.370652496</td><td>8.38497e+08</td><td>614.383</td><td>22.5166</td><td>622.0</td><td>21.0</td><td>False</td><td>False</td><td>34.1924 .. 36.6888</td><td>0.052322</td><td>9.56</td><td>11.0</td><td>34</td><td>34</td><td>678</td><td>12</td><td>7842</td><td>0.0 .. 0.0</td><td>0.0 .. 0.0</td><td>0.0 .. 0.0</td><td>0.0 .. 0.0</td><td>0.0 .. 0.0</td><td>0.824878 .. 0.950018</td><td>0 .. 0</td><td>0.0 .. 0.0</td><td>0.0 .. 0.0</td><td>0.0 .. 0.0</td><td>0.0 .. 0.0</td><td>0 .. 0</td><td>0 .. 0</td><td>0.0 .. 0.0</td><td>7.05112 .. -292.797</td><td>1.79132 .. 2.39621e-05</td><td>0.991172 .. 0.999562</td><td>73 .. 14</td><td>0.153267 .. 0.785521</td><td>1.06342 .. 0.171086</td><td>9.7425 .. 0.0</td><td>0.338703 .. 0.0</td><td>14 .. 0</td><td>0.121834 .. 0.0</td><td>0.690204 .. 0.0</td><td>55248.1 .. 0.0</td><td>0.0</td><td>0.0</td><td>1.48064</td><td>17.8121</td><td>-0.492472</td><td>37.8537</td><td>0.102132</td><td>26.349</td><td>0.0</td><td>0.0</td><td>0.0</td><td>0.0</td><td>0.0</td><td>0.0</td><td>0.0 .. 0.0</td><td>0.0 .. 0.0</td></tr>\n",
       "<tr><td>441620</td><td>2473p195</td><td>8</td><td>False</td><td>4</td><td>1</td><td>False</td><td>SIMP</td><td>247.455925026</td><td>1.32139e+09</td><td>19.3694011714</td><td>1.33435e+09</td><td>655.171</td><td>5.30155</td><td>655.0</td><td>4.0</td><td>False</td><td>False</td><td>141.7 .. 0.0</td><td>0.0523411</td><td>3.63</td><td>3.79</td><td>27</td><td>21</td><td>400</td><td>11</td><td>4307</td><td>0.0 .. 0.0</td><td>0.0 .. 0.0</td><td>0.0 .. 0.0</td><td>0.0 .. 0.0</td><td>0.0 .. 0.0</td><td>0.82482 .. 0.95</td><td>0 .. 0</td><td>0.0 .. 0.0</td><td>0.0 .. 0.0</td><td>0.0 .. 0.0</td><td>0.0 .. 0.0</td><td>0 .. 0</td><td>0 .. 0</td><td>0.0 .. 0.0</td><td>4.81571 .. 381.098</td><td>1.91541 .. 2.11641e-05</td><td>0.991169 .. 0.999561</td><td>73 .. 14</td><td>0.128507 .. 0.546692</td><td>2.14998 .. 0.170766</td><td>5.17524 .. 0.0</td><td>0.371001 .. 0.0</td><td>14 .. 0</td><td>0.161058 .. 0.0</td><td>0.558803 .. 0.0</td><td>55248.1 .. 0.0</td><td>0.0</td><td>0.0</td><td>0.45</td><td>0.45</td><td>0.0</td><td>0.0</td><td>0.0</td><td>0.0</td><td>0.0</td><td>0.0</td><td>0.0</td><td>0.0</td><td>0.0</td><td>0.0</td><td>0.0 .. 0.0</td><td>0.0 .. 0.0</td></tr>\n",
       "<tr><td>...</td><td>...</td><td>...</td><td>...</td><td>...</td><td>...</td><td>...</td><td>...</td><td>...</td><td>...</td><td>...</td><td>...</td><td>...</td><td>...</td><td>...</td><td>...</td><td>...</td><td>...</td><td>...</td><td>...</td><td>...</td><td>...</td><td>...</td><td>...</td><td>...</td><td>...</td><td>...</td><td>...</td><td>...</td><td>...</td><td>...</td><td>...</td><td>...</td><td>...</td><td>...</td><td>...</td><td>...</td><td>...</td><td>...</td><td>...</td><td>...</td><td>...</td><td>...</td><td>...</td><td>...</td><td>...</td><td>...</td><td>...</td><td>...</td><td>...</td><td>...</td><td>...</td><td>...</td><td>...</td><td>...</td><td>...</td><td>...</td><td>...</td><td>...</td><td>...</td><td>...</td><td>...</td><td>...</td><td>...</td><td>...</td><td>...</td><td>...</td><td>...</td><td>...</td></tr>\n",
       "<tr><td>445695</td><td>2487p202</td><td>4307</td><td>False</td><td>2540</td><td>1</td><td>False</td><td>PSF</td><td>248.649800385</td><td>1.23667e+12</td><td>20.3806574714</td><td>1.1061e+12</td><td>2828.5</td><td>3595.05</td><td>2828.0</td><td>3595.0</td><td>False</td><td>False</td><td>100933.0 .. 0.0</td><td>0.0678944</td><td>5.22</td><td>5.36</td><td>44</td><td>26</td><td>881</td><td>13</td><td>10931</td><td>0.0 .. 0.0</td><td>0.0 .. 0.0</td><td>0.0 .. 0.0</td><td>0.0 .. 0.0</td><td>0.0 .. 0.0</td><td>0.778941 .. 0.93563</td><td>0 .. 0</td><td>0.0 .. 0.0</td><td>0.0 .. 0.0</td><td>0.0 .. 0.0</td><td>0.0 .. 0.0</td><td>0 .. 0</td><td>0 .. 0</td><td>0.0 .. 0.0</td><td>15.393 .. 262.832</td><td>1.93844 .. 2.45379e-05</td><td>0.98856 .. 0.999431</td><td>70 .. 14</td><td>0.0794186 .. 0.525948</td><td>1.32756 .. 0.0838684</td><td>14.7524 .. 0.0</td><td>0.455991 .. 0.0</td><td>16 .. 0</td><td>0.0840046 .. 0.0</td><td>0.766929 .. 0.0</td><td>55248.1 .. 0.0</td><td>0.0</td><td>0.0</td><td>0.0</td><td>0.0</td><td>0.0</td><td>0.0</td><td>0.0</td><td>0.0</td><td>0.0</td><td>0.0</td><td>0.0</td><td>0.0</td><td>0.0</td><td>0.0</td><td>0.0 .. 0.0</td><td>0.0 .. 0.0</td></tr>\n",
       "<tr><td>445695</td><td>2487p202</td><td>4308</td><td>False</td><td>2541</td><td>1</td><td>False</td><td>PSF</td><td>248.683436451</td><td>7.19998e+08</td><td>20.3801550679</td><td>7.59436e+08</td><td>2395.26</td><td>3587.98</td><td>2396.0</td><td>3587.0</td><td>False</td><td>False</td><td>55.2976 .. 0.0</td><td>0.0708622</td><td>1.06</td><td>1.2</td><td>22</td><td>24</td><td>345</td><td>13</td><td>4266</td><td>0.0 .. 0.0</td><td>0.0 .. 0.0</td><td>0.0 .. 0.0</td><td>0.0 .. 0.0</td><td>0.0 .. 0.0</td><td>0.770482 .. 0.932913</td><td>0 .. 0</td><td>0.0 .. 0.0</td><td>0.0 .. 0.0</td><td>0.0 .. 0.0</td><td>0.0 .. 0.0</td><td>0 .. 0</td><td>0 .. 0</td><td>0.0 .. 0.0</td><td>0.311478 .. -281.611</td><td>1.85696 .. 2.67671e-05</td><td>0.988063 .. 0.999406</td><td>68 .. 15</td><td>0.722 .. 0.445539</td><td>0.559188 .. 0.129129</td><td>1.60941 .. 0.0</td><td>0.480792 .. 0.0</td><td>17 .. 0</td><td>0.180699 .. 0.0</td><td>0.473369 .. 0.0</td><td>55248.1 .. 0.0</td><td>0.0</td><td>0.0</td><td>0.0</td><td>0.0</td><td>0.0</td><td>0.0</td><td>0.0</td><td>0.0</td><td>0.0</td><td>0.0</td><td>0.0</td><td>0.0</td><td>0.0</td><td>0.0</td><td>0.0 .. 0.0</td><td>0.0 .. 0.0</td></tr>\n",
       "<tr><td>445695</td><td>2487p202</td><td>4309</td><td>False</td><td>2542</td><td>1</td><td>False</td><td>PSF</td><td>248.601396421</td><td>1.95144e+10</td><td>20.3804572215</td><td>2.00572e+10</td><td>3451.97</td><td>3592.69</td><td>3451.0</td><td>3593.0</td><td>False</td><td>False</td><td>1459.21 .. 0.0</td><td>0.0653356</td><td>3.55</td><td>3.66</td><td>62</td><td>22</td><td>877</td><td>10</td><td>8488</td><td>0.0 .. 0.0</td><td>0.0 .. 0.0</td><td>0.0 .. 0.0</td><td>0.0 .. 0.0</td><td>0.0 .. 0.0</td><td>0.78631 .. 0.937979</td><td>0 .. 0</td><td>0.0 .. 0.0</td><td>0.0 .. 0.0</td><td>0.0 .. 0.0</td><td>0.0 .. 0.0</td><td>0 .. 0</td><td>0 .. 0</td><td>0.0 .. 0.0</td><td>3.46347 .. -167.321</td><td>1.90281 .. 2.47193e-05</td><td>0.988989 .. 0.999453</td><td>66 .. 14</td><td>0.199144 .. 0.698473</td><td>1.98601 .. 0.185098</td><td>5.54715 .. 0.0</td><td>0.455916 .. 0.0</td><td>16 .. 0</td><td>0.128549 .. 0.0</td><td>0.878903 .. 0.0</td><td>55248.1 .. 0.0</td><td>0.0</td><td>0.0</td><td>0.0</td><td>0.0</td><td>0.0</td><td>0.0</td><td>0.0</td><td>0.0</td><td>0.0</td><td>0.0</td><td>0.0</td><td>0.0</td><td>0.0</td><td>0.0</td><td>0.0 .. 0.0</td><td>0.0 .. 0.0</td></tr>\n",
       "<tr><td>445695</td><td>2487p202</td><td>4310</td><td>False</td><td>2543</td><td>1</td><td>False</td><td>SIMP</td><td>248.68080536</td><td>3.55144e+08</td><td>20.3803280742</td><td>3.67707e+08</td><td>2429.15</td><td>3590.36</td><td>2428.0</td><td>3598.0</td><td>False</td><td>False</td><td>31.3914 .. 31.8344</td><td>0.0706186</td><td>11.59</td><td>11.75</td><td>23</td><td>21</td><td>365</td><td>13</td><td>4537</td><td>0.0 .. 0.0</td><td>0.0 .. 0.0</td><td>0.0 .. 0.0</td><td>0.0 .. 0.0</td><td>0.0 .. 0.0</td><td>0.771172 .. 0.933136</td><td>0 .. 0</td><td>0.0 .. 0.0</td><td>0.0 .. 0.0</td><td>0.0 .. 0.0</td><td>0.0 .. 0.0</td><td>0 .. 0</td><td>0 .. 0</td><td>0.0 .. 0.0</td><td>-0.535525 .. 181.204</td><td>1.83908 .. 2.63273e-05</td><td>0.988104 .. 0.999408</td><td>68 .. 15</td><td>1.25318 .. 1.88686</td><td>0.965113 .. 0.115138</td><td>-1.03914 .. 0.0</td><td>0.461577 .. 0.0</td><td>17 .. 0</td><td>0.669966 .. 0.0</td><td>0.309899 .. 0.0</td><td>55248.1 .. 0.0</td><td>0.0</td><td>0.0</td><td>0.45</td><td>0.45</td><td>0.0</td><td>0.0</td><td>0.0</td><td>0.0</td><td>0.0</td><td>0.0</td><td>0.0</td><td>0.0</td><td>0.0</td><td>0.0</td><td>0.0 .. 0.0</td><td>0.0 .. 0.0</td></tr>\n",
       "<tr><td>445695</td><td>2487p202</td><td>4311</td><td>False</td><td>2544</td><td>1</td><td>False</td><td>PSF</td><td>248.614805953</td><td>3.64958e+10</td><td>20.381376678</td><td>1.36802e+11</td><td>3279.24</td><td>3605.2</td><td>3278.0</td><td>3598.0</td><td>False</td><td>True</td><td>8695.89 .. 0.0</td><td>0.065903</td><td>1.69</td><td>1.82</td><td>48</td><td>20</td><td>643</td><td>12</td><td>7215</td><td>0.0 .. 0.0</td><td>0.0 .. 0.0</td><td>0.0 .. 0.0</td><td>0.0 .. 0.0</td><td>0.0 .. 0.0</td><td>0.78467 .. 0.937458</td><td>0 .. 0</td><td>0.0 .. 0.0</td><td>0.0 .. 0.0</td><td>0.0 .. 0.0</td><td>0.0 .. 0.0</td><td>0 .. 0</td><td>0 .. 0</td><td>0.0 .. 0.0</td><td>33.3778 .. 92.5834</td><td>1.83606 .. 2.25929e-05</td><td>0.988894 .. 0.999448</td><td>66 .. 14</td><td>0.00356399 .. 0.83202</td><td>2.703 .. 0.120769</td><td>35.9081 .. 0.0</td><td>0.44549 .. 0.0</td><td>16 .. 0</td><td>0.00458645 .. 0.0</td><td>0.62421 .. 0.0</td><td>55248.1 .. 0.0</td><td>0.0</td><td>0.0</td><td>0.0</td><td>0.0</td><td>0.0</td><td>0.0</td><td>0.0</td><td>0.0</td><td>0.0</td><td>0.0</td><td>0.0</td><td>0.0</td><td>0.0</td><td>0.0</td><td>0.0 .. 0.0</td><td>0.0 .. 0.0</td></tr>\n",
       "<tr><td>445695</td><td>2487p202</td><td>4312</td><td>False</td><td>2545</td><td>1</td><td>False</td><td>SIMP</td><td>248.802416869</td><td>1.78436e+09</td><td>20.3802588688</td><td>1.91504e+09</td><td>862.748</td><td>3589.53</td><td>862.0</td><td>3590.0</td><td>False</td><td>False</td><td>196.581 .. 0.0</td><td>0.0837365</td><td>3.64</td><td>3.8</td><td>19</td><td>19</td><td>217</td><td>12</td><td>2530</td><td>0.0 .. 0.0</td><td>0.0 .. 0.0</td><td>0.0 .. 0.0</td><td>0.0 .. 0.0</td><td>0.0 .. 0.0</td><td>0.734834 .. 0.921217</td><td>0 .. 0</td><td>0.0 .. 0.0</td><td>0.0 .. 0.0</td><td>0.0 .. 0.0</td><td>0.0 .. 0.0</td><td>0 .. 0</td><td>0 .. 0</td><td>0.0 .. 0.0</td><td>20.5632 .. 217.669</td><td>1.73932 .. 2.65016e-05</td><td>0.985909 .. 0.999298</td><td>64 .. 15</td><td>1.16084 .. 0.826097</td><td>96.9515 .. 0.108425</td><td>21.9564 .. 0.0</td><td>0.454662 .. 0.0</td><td>17 .. 0</td><td>1.06749 .. 0.0</td><td>40.5091 .. 0.0</td><td>55249.9 .. 0.0</td><td>0.0</td><td>0.0</td><td>0.45</td><td>0.45</td><td>0.0</td><td>0.0</td><td>0.0</td><td>0.0</td><td>0.0</td><td>0.0</td><td>0.0</td><td>0.0</td><td>0.0</td><td>0.0</td><td>0.0 .. 0.0</td><td>0.0 .. 0.0</td></tr>\n",
       "<tr><td>445695</td><td>2487p202</td><td>4313</td><td>False</td><td>2546</td><td>1</td><td>False</td><td>PSF</td><td>248.77722188</td><td>3.65148e+09</td><td>20.3805342298</td><td>3.86725e+09</td><td>1187.27</td><td>3593.19</td><td>1189.0</td><td>3595.0</td><td>False</td><td>False</td><td>199.172 .. 0.0</td><td>0.0805968</td><td>1.48</td><td>1.62</td><td>24</td><td>17</td><td>282</td><td>13</td><td>3503</td><td>0.0 .. 0.0</td><td>0.0 .. 0.0</td><td>0.0 .. 0.0</td><td>0.0 .. 0.0</td><td>0.0 .. 0.0</td><td>0.743372 .. 0.924055</td><td>0 .. 0</td><td>0.0 .. 0.0</td><td>0.0 .. 0.0</td><td>0.0 .. 0.0</td><td>0.0 .. 0.0</td><td>0 .. 0</td><td>0 .. 0</td><td>0.0 .. 0.0</td><td>0.204214 .. -78.4413</td><td>1.83086 .. 2.323e-05</td><td>0.986434 .. 0.999325</td><td>65 .. 14</td><td>12.8709 .. 2.57064</td><td>0.706098 .. 0.087247</td><td>-0.248271 .. 0.0</td><td>0.42273 .. 0.0</td><td>16 .. 0</td><td>11.4876 .. 0.0</td><td>0.600206 .. 0.0</td><td>55248.1 .. 0.0</td><td>0.0</td><td>0.0</td><td>0.0</td><td>0.0</td><td>0.0</td><td>0.0</td><td>0.0</td><td>0.0</td><td>0.0</td><td>0.0</td><td>0.0</td><td>0.0</td><td>0.0</td><td>0.0</td><td>0.0 .. 0.0</td><td>0.0 .. 0.0</td></tr>\n",
       "<tr><td>445695</td><td>2487p202</td><td>4314</td><td>False</td><td>2547</td><td>1</td><td>False</td><td>PSF</td><td>248.747667221</td><td>7.76851e+08</td><td>20.3806718315</td><td>7.24662e+08</td><td>1567.94</td><td>3595.01</td><td>1569.0</td><td>3595.0</td><td>False</td><td>False</td><td>68.0703 .. 0.0</td><td>0.0768836</td><td>1.3</td><td>1.43</td><td>23</td><td>16</td><td>249</td><td>13</td><td>3089</td><td>0.0 .. 0.0</td><td>0.0 .. 0.0</td><td>0.0 .. 0.0</td><td>0.0 .. 0.0</td><td>0.0 .. 0.0</td><td>0.753598 .. 0.927424</td><td>0 .. 0</td><td>0.0 .. 0.0</td><td>0.0 .. 0.0</td><td>0.0 .. 0.0</td><td>0.0 .. 0.0</td><td>0 .. 0</td><td>0 .. 0</td><td>0.0 .. 0.0</td><td>2.41844 .. 377.494</td><td>1.94508 .. 2.51993e-05</td><td>0.987055 .. 0.999356</td><td>69 .. 15</td><td>0.286155 .. 0.552268</td><td>1.62276 .. 0.105398</td><td>2.2689 .. 0.0</td><td>0.471383 .. 0.0</td><td>17 .. 0</td><td>0.323573 .. 0.0</td><td>0.906402 .. 0.0</td><td>55248.1 .. 0.0</td><td>0.0</td><td>0.0</td><td>0.0</td><td>0.0</td><td>0.0</td><td>0.0</td><td>0.0</td><td>0.0</td><td>0.0</td><td>0.0</td><td>0.0</td><td>0.0</td><td>0.0</td><td>0.0</td><td>0.0 .. 0.0</td><td>0.0 .. 0.0</td></tr>\n",
       "<tr><td>445695</td><td>2487p202</td><td>4315</td><td>True</td><td>2548</td><td>1</td><td>False</td><td>SIMP</td><td>248.828761649</td><td>1.68281e+08</td><td>20.3463199433</td><td>1.12396e+08</td><td>523.138</td><td>3123.36</td><td>527.0</td><td>3123.0</td><td>False</td><td>False</td><td>22.9409 .. 17.0712</td><td>0.085039</td><td>4.92</td><td>10.29</td><td>27</td><td>11</td><td>297</td><td>9</td><td>1818</td><td>0.0 .. 0.0</td><td>0.0 .. 0.0</td><td>0.0 .. 0.0</td><td>0.0 .. 0.0</td><td>0.0 .. 0.0</td><td>0.73132 .. 0.920041</td><td>0 .. 0</td><td>0.0 .. 0.0</td><td>0.0 .. 0.0</td><td>0.0 .. 0.0</td><td>0.0 .. 0.0</td><td>0 .. 0</td><td>0 .. 0</td><td>0.0 .. 0.0</td><td>2.13552 .. 640.623</td><td>1.80714 .. 2.87142e-05</td><td>0.985692 .. 0.999287</td><td>65 .. 16</td><td>2.3806 .. 0.730777</td><td>0.835713 .. 0.141173</td><td>-0.322465 .. 0.0</td><td>0.42922 .. 0.0</td><td>16 .. 0</td><td>11.0576 .. 0.0</td><td>0.437084 .. 0.0</td><td>55249.9 .. 0.0</td><td>0.0</td><td>0.0</td><td>0.45</td><td>0.45</td><td>0.0</td><td>0.0</td><td>0.0</td><td>0.0</td><td>0.0</td><td>0.0</td><td>0.0</td><td>0.0</td><td>0.0</td><td>0.0</td><td>0.0 .. 0.0</td><td>0.0 .. 0.0</td></tr>\n",
       "<tr><td>445695</td><td>2487p202</td><td>4316</td><td>True</td><td>2549</td><td>1</td><td>False</td><td>PSF</td><td>248.827536992</td><td>2.73557e+08</td><td>20.3474638864</td><td>2.09468e+08</td><td>538.925</td><td>3139.07</td><td>540.0</td><td>3137.0</td><td>False</td><td>False</td><td>33.9794 .. 0.0</td><td>0.0849866</td><td>0.96</td><td>1.03</td><td>11</td><td>11</td><td>121</td><td>8</td><td>734</td><td>0.0 .. 0.0</td><td>0.0 .. 0.0</td><td>0.0 .. 0.0</td><td>0.0 .. 0.0</td><td>0.0 .. 0.0</td><td>0.731461 .. 0.920089</td><td>0 .. 0</td><td>0.0 .. 0.0</td><td>0.0 .. 0.0</td><td>0.0 .. 0.0</td><td>0.0 .. 0.0</td><td>0 .. 0</td><td>0 .. 0</td><td>0.0 .. 0.0</td><td>1.96462 .. -207.264</td><td>1.91184 .. 2.82596e-05</td><td>0.985701 .. 0.999288</td><td>66 .. 16</td><td>3.32087 .. 2.75586</td><td>0.624993 .. 0.119381</td><td>0.766916 .. 0.0</td><td>0.451122 .. 0.0</td><td>16 .. 0</td><td>7.40833 .. 0.0</td><td>0.511606 .. 0.0</td><td>55249.9 .. 0.0</td><td>0.0</td><td>0.0</td><td>0.0</td><td>0.0</td><td>0.0</td><td>0.0</td><td>0.0</td><td>0.0</td><td>0.0</td><td>0.0</td><td>0.0</td><td>0.0</td><td>0.0</td><td>0.0</td><td>0.0 .. 0.0</td><td>0.0 .. 0.0</td></tr>\n",
       "</table>"
      ],
      "text/plain": [
       "<Table length=145041>\n",
       "brickid brickname objid ... shapeDev_e2_ivar decam_depth [6] decam_galdepth [6]\n",
       "                        ...                   1/nanomaggy^2    1/nanomaggy^2   \n",
       " int32     str8   int32 ...     float32          float32          float32      \n",
       "------- --------- ----- ... ---------------- --------------- ------------------\n",
       " 441620  2473p195     0 ...              0.0      0.0 .. 0.0         0.0 .. 0.0\n",
       " 441620  2473p195     1 ...              0.0      0.0 .. 0.0         0.0 .. 0.0\n",
       " 441620  2473p195     2 ...              0.0      0.0 .. 0.0         0.0 .. 0.0\n",
       " 441620  2473p195     3 ...              0.0      0.0 .. 0.0         0.0 .. 0.0\n",
       " 441620  2473p195     4 ...              0.0      0.0 .. 0.0         0.0 .. 0.0\n",
       " 441620  2473p195     5 ...              0.0      0.0 .. 0.0         0.0 .. 0.0\n",
       " 441620  2473p195     6 ...              0.0      0.0 .. 0.0         0.0 .. 0.0\n",
       " 441620  2473p195     7 ...              0.0      0.0 .. 0.0         0.0 .. 0.0\n",
       " 441620  2473p195     8 ...              0.0      0.0 .. 0.0         0.0 .. 0.0\n",
       "    ...       ...   ... ...              ...             ...                ...\n",
       " 445695  2487p202  4307 ...              0.0      0.0 .. 0.0         0.0 .. 0.0\n",
       " 445695  2487p202  4308 ...              0.0      0.0 .. 0.0         0.0 .. 0.0\n",
       " 445695  2487p202  4309 ...              0.0      0.0 .. 0.0         0.0 .. 0.0\n",
       " 445695  2487p202  4310 ...              0.0      0.0 .. 0.0         0.0 .. 0.0\n",
       " 445695  2487p202  4311 ...              0.0      0.0 .. 0.0         0.0 .. 0.0\n",
       " 445695  2487p202  4312 ...              0.0      0.0 .. 0.0         0.0 .. 0.0\n",
       " 445695  2487p202  4313 ...              0.0      0.0 .. 0.0         0.0 .. 0.0\n",
       " 445695  2487p202  4314 ...              0.0      0.0 .. 0.0         0.0 .. 0.0\n",
       " 445695  2487p202  4315 ...              0.0      0.0 .. 0.0         0.0 .. 0.0\n",
       " 445695  2487p202  4316 ...              0.0      0.0 .. 0.0         0.0 .. 0.0"
      ]
     },
     "execution_count": 52,
     "metadata": {},
     "output_type": "execute_result"
    }
   ],
   "source": [
    "paperhosts[0].cats3"
   ]
  },
  {
   "cell_type": "code",
   "execution_count": null,
   "metadata": {
    "collapsed": true
   },
   "outputs": [],
   "source": []
  }
 ],
 "metadata": {
  "anaconda-cloud": {},
  "kernelspec": {
   "display_name": "Python [conda env:saga]",
   "language": "python",
   "name": "conda-env-saga-py"
  },
  "language_info": {
   "codemirror_mode": {
    "name": "ipython",
    "version": 2
   },
   "file_extension": ".py",
   "mimetype": "text/x-python",
   "name": "python",
   "nbconvert_exporter": "python",
   "pygments_lexer": "ipython2",
   "version": "2.7.12"
  }
 },
 "nbformat": 4,
 "nbformat_minor": 1
}
