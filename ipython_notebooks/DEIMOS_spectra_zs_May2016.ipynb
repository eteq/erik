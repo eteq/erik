{
 "cells": [
  {
   "cell_type": "code",
   "execution_count": 1,
   "metadata": {
    "collapsed": true
   },
   "outputs": [],
   "source": [
    "# This changes the current directory to the base saga directory - make sure to run this first!\n",
    "# This is necessary to be able to import the py files and use the right directories,\n",
    "# while keeping all the notebooks in their own directory.\n",
    "import os\n",
    "import sys\n",
    "\n",
    "if 'saga_base_dir' not in locals():\n",
    "    saga_base_dir = os.path.abspath('..')\n",
    "if saga_base_dir not in sys.path:\n",
    "    os.chdir(saga_base_dir)"
   ]
  },
  {
   "cell_type": "code",
   "execution_count": 2,
   "metadata": {
    "collapsed": true
   },
   "outputs": [],
   "source": [
    "from glob import glob\n",
    "import numpy as np\n",
    "\n",
    "import erikutils\n",
    "\n",
    "from astropy import units as u\n",
    "from astropy import modeling\n",
    "from astropy.table import Table\n",
    "from astropy.io import fits\n",
    "from astropy import visualization"
   ]
  },
  {
   "cell_type": "code",
   "execution_count": 3,
   "metadata": {
    "collapsed": true
   },
   "outputs": [],
   "source": [
    "%matplotlib inline\n",
    "from matplotlib import rcParams, style\n",
    "from matplotlib import pyplot as plt\n",
    "from mpl_toolkits.mplot3d import Axes3D\n",
    "\n",
    "rcParams['image.cmap'] = 'viridis'\n",
    "rcParams['image.origin'] = 'lower'\n",
    "rcParams['axes.prop_cycle'] = style.library['seaborn-deep']['axes.prop_cycle']\n",
    "rcParams['figure.figsize'] = (14, 8)\n",
    "rcParams['axes.titlesize'] =  rcParams['axes.labelsize'] = 16\n",
    "rcParams['xtick.labelsize'] =  rcParams['ytick.labelsize'] = 14"
   ]
  },
  {
   "cell_type": "code",
   "execution_count": 4,
   "metadata": {
    "collapsed": true
   },
   "outputs": [],
   "source": [
    "# valid for erik's computer\n",
    "os.environ['DEEP_DIR'] = '/Volumes/ErikDroboData/data/DEIMOS/'"
   ]
  },
  {
   "cell_type": "code",
   "execution_count": 5,
   "metadata": {
    "collapsed": false
   },
   "outputs": [],
   "source": [
    "dirs = {nm: os.path.join(os.environ['DEEP_DIR'], nm) for nm in ('Gil1', 'DN1', 'MD2')}\n",
    "spec1d_fns = {nm: glob(os.path.join(dirs[nm], 'spec1d*')) for nm in dirs}\n",
    "slit_fns = {nm: glob(os.path.join(dirs[nm], 'slit*')) for nm in dirs}"
   ]
  },
  {
   "cell_type": "code",
   "execution_count": null,
   "metadata": {
    "collapsed": false
   },
   "outputs": [],
   "source": [
    "def show_all_slits(target, scalekwargs=dict(scale='asinh', percent=99)):\n",
    "    plt.figure(figsize=(16, 24))\n",
    "\n",
    "    for i, fn in enumerate(slit_fns[target]):\n",
    "        plt.subplot(12, 2, i+1)\n",
    "        erikutils.deimosutils.show_deimos_slit(fn, scalekwargs=scalekwargs)\n",
    "        plt.title(os.path.split(fn)[-1])\n",
    "    plt.tight_layout()"
   ]
  },
  {
   "cell_type": "code",
   "execution_count": null,
   "metadata": {
    "collapsed": true
   },
   "outputs": [],
   "source": [
    "def find_match(substr, target):\n",
    "    idx = [i for i, fn in enumerate(fns[target]) if substr in fn]\n",
    "    assert len(idx)==1\n",
    "    return spec1d_fns[target][idx[0]]"
   ]
  },
  {
   "cell_type": "markdown",
   "metadata": {},
   "source": [
    "# Gil1 "
   ]
  },
  {
   "cell_type": "code",
   "execution_count": null,
   "metadata": {
    "collapsed": false,
    "scrolled": false
   },
   "outputs": [],
   "source": [
    "show_all_slits('Gil1')"
   ]
  },
  {
   "cell_type": "markdown",
   "metadata": {},
   "source": [
    "Must be the thing in 009"
   ]
  },
  {
   "cell_type": "code",
   "execution_count": null,
   "metadata": {
    "collapsed": false
   },
   "outputs": [],
   "source": [
    "good = []\n",
    "for fn in fns['Gil1']:\n",
    "    if '009' not in fn or 'serendip' in fn:\n",
    "        continue\n",
    "        \n",
    "    plt.figure(figsize=(16,8))\n",
    "    xb, bspec, xr, rspec = erikutils.deimosutils.plot_deimos_spec1d(fn, smoothing=-2)\n",
    "    good.append((fn, xb, bspec, xr, rspec))\n",
    "    plt.title(os.path.split(fn)[-1])"
   ]
  },
  {
   "cell_type": "code",
   "execution_count": null,
   "metadata": {
    "collapsed": false
   },
   "outputs": [],
   "source": [
    "xb, bspec, xr, rspec = good[0][1:]\n",
    "\n",
    "msk = (5900<xb)&(xb<6100)\n",
    "\n",
    "model0 = (modeling.models.Gaussian1D(amplitude=10000,mean=5965, stddev=1.5) + \n",
    "          modeling.models.Gaussian1D(amplitude=30000,mean=6025, stddev=2) + \n",
    "          modeling.models.Const1D(amplitude=1000))\n",
    "\n",
    "model = modeling.fitting.LevMarLSQFitter()(model0, xb[msk], bspec[msk])\n",
    "\n",
    "plt.figure(figsize=(16, 6))\n",
    "plt.plot(xb[msk], bspec[msk])\n",
    "plt.plot(xb[msk], model0(xb[msk]))\n",
    "plt.plot(xb[msk], model(xb[msk]))\n",
    "model"
   ]
  },
  {
   "cell_type": "code",
   "execution_count": null,
   "metadata": {
    "collapsed": false
   },
   "outputs": [],
   "source": [
    "np.array([model.mean_0.value/4959, model.mean_1.value/5007])-1"
   ]
  },
  {
   "cell_type": "markdown",
   "metadata": {},
   "source": [
    "Target is clearly at a redshift of ~.2, so not a satellite"
   ]
  },
  {
   "cell_type": "markdown",
   "metadata": {},
   "source": [
    "# DN1 "
   ]
  },
  {
   "cell_type": "code",
   "execution_count": null,
   "metadata": {
    "collapsed": false
   },
   "outputs": [],
   "source": [
    "show_all_slits('DN1')"
   ]
  },
  {
   "cell_type": "code",
   "execution_count": null,
   "metadata": {
    "collapsed": true
   },
   "outputs": [],
   "source": []
  },
  {
   "cell_type": "code",
   "execution_count": null,
   "metadata": {
    "collapsed": true
   },
   "outputs": [],
   "source": []
  },
  {
   "cell_type": "markdown",
   "metadata": {},
   "source": [
    "# MD2 "
   ]
  },
  {
   "cell_type": "code",
   "execution_count": null,
   "metadata": {
    "collapsed": true
   },
   "outputs": [],
   "source": [
    "show_all_slits('MD2')"
   ]
  },
  {
   "cell_type": "code",
   "execution_count": null,
   "metadata": {
    "collapsed": true
   },
   "outputs": [],
   "source": []
  },
  {
   "cell_type": "code",
   "execution_count": null,
   "metadata": {
    "collapsed": true
   },
   "outputs": [],
   "source": []
  },
  {
   "cell_type": "code",
   "execution_count": null,
   "metadata": {
    "collapsed": true
   },
   "outputs": [],
   "source": []
  },
  {
   "cell_type": "code",
   "execution_count": null,
   "metadata": {
    "collapsed": true
   },
   "outputs": [],
   "source": []
  }
 ],
 "metadata": {
  "kernelspec": {
   "display_name": "Python 3",
   "language": "python",
   "name": "python3"
  },
  "language_info": {
   "codemirror_mode": {
    "name": "ipython",
    "version": 3
   },
   "file_extension": ".py",
   "mimetype": "text/x-python",
   "name": "python",
   "nbconvert_exporter": "python",
   "pygments_lexer": "ipython3",
   "version": "3.5.1"
  }
 },
 "nbformat": 4,
 "nbformat_minor": 0
}
