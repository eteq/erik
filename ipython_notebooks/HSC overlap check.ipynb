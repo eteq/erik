{
 "cells": [
  {
   "cell_type": "code",
   "execution_count": 1,
   "metadata": {},
   "outputs": [],
   "source": [
    "# This changes the current directory to the base saga directory - make sure to run this first!\n",
    "# This is necessary to be able to import the py files and use the right directories,\n",
    "# while keeping all the notebooks in their own directory.\n",
    "import os\n",
    "import sys\n",
    "\n",
    "if 'saga_base_dir' not in locals():\n",
    "    saga_base_dir = os.path.abspath('..')\n",
    "if saga_base_dir not in sys.path:\n",
    "    os.chdir(saga_base_dir)"
   ]
  },
  {
   "cell_type": "code",
   "execution_count": 2,
   "metadata": {},
   "outputs": [],
   "source": [
    "from __future__ import print_function, division\n",
    "\n",
    "import hosts\n",
    "\n",
    "import numpy as np\n",
    "\n",
    "import healpy\n",
    "\n",
    "from astropy import units as u\n",
    "from astropy.coordinates import SkyCoord, UnitSphericalRepresentation, CartesianRepresentation"
   ]
  },
  {
   "cell_type": "code",
   "execution_count": 3,
   "metadata": {
    "collapsed": true
   },
   "outputs": [],
   "source": [
    "%matplotlib inline\n",
    "\n",
    "from matplotlib import pyplot as plt\n",
    "\n",
    "plt.rcParams['image.cmap'] = 'viridis'"
   ]
  },
  {
   "cell_type": "markdown",
   "metadata": {},
   "source": [
    "## Load HSC Map "
   ]
  },
  {
   "cell_type": "code",
   "execution_count": 4,
   "metadata": {},
   "outputs": [
    {
     "name": "stdout",
     "output_type": "stream",
     "text": [
      "NSIDE = 2048\n",
      "ORDERING = NESTED in fits file\n",
      "INDXSCHM = IMPLICIT\n",
      "Ordering converted to RING\n"
     ]
    }
   ],
   "source": [
    "hscmap, hschead = healpy.read_map('S16A_wide2_fdfc_i_limitmag_hp_frac_cut_0.02.fits', h=True)\n",
    "hschead = dict(hschead)  #This is a VERY foolish healpy design choice!!"
   ]
  },
  {
   "cell_type": "code",
   "execution_count": 5,
   "metadata": {},
   "outputs": [
    {
     "data": {
      "image/png": "[encoded data removed]",
      "text/plain": [
       "<matplotlib.figure.Figure at 0x13252acd0>"
      ]
     },
     "metadata": {},
     "output_type": "display_data"
    }
   ],
   "source": [
    "healpy.mollview(hscmap)"
   ]
  },
  {
   "cell_type": "markdown",
   "metadata": {},
   "source": [
    "### Test that the `query_disc` function behaves sensibly"
   ]
  },
  {
   "cell_type": "code",
   "execution_count": 6,
   "metadata": {
    "collapsed": true
   },
   "outputs": [],
   "source": [
    "def query_disc_astropy(cen, rad, nside=hschead['NSIDE'], **kwargs):\n",
    "    uvec = cen.represent_as(UnitSphericalRepresentation).represent_as(CartesianRepresentation).xyz\n",
    "    return healpy.query_disc(nside, uvec, rad.to(u.radian).value)"
   ]
  },
  {
   "cell_type": "code",
   "execution_count": 7,
   "metadata": {},
   "outputs": [
    {
     "data": {
      "image/png": "[encoded data removed]",
      "text/plain": [
       "<matplotlib.figure.Figure at 0x1069e1a50>"
      ]
     },
     "metadata": {},
     "output_type": "display_data"
    }
   ],
   "source": [
    "scs = SkyCoord([0, 0, 45, 270]*u.deg, [0, 12, 0,45]*u.deg)\n",
    "rads = [5, 10, 30, 45]*u.deg\n",
    "\n",
    "\n",
    "pixin = np.zeros_like(hscmap)\n",
    "for i, (sc, rad) in enumerate(zip(scs, rads)):\n",
    "    \n",
    "    pixin[query_disc_astropy(sc, rad)] += i+1\n",
    "    \n",
    "healpy.mollview(pixin)"
   ]
  },
  {
   "cell_type": "markdown",
   "metadata": {},
   "source": [
    "## Load SAGA Hosts "
   ]
  },
  {
   "cell_type": "code",
   "execution_count": 8,
   "metadata": {},
   "outputs": [
    {
     "name": "stdout",
     "output_type": "stream",
     "text": [
      "Using cached version of google hosts list from file \"hosts_dl.pkl2\"\n"
     ]
    }
   ],
   "source": [
    "hostlst = hosts.get_saga_hosts_from_google() #'named' hosts\n",
    "hostdct = {host.name:host for host in hostlst}"
   ]
  },
  {
   "cell_type": "code",
   "execution_count": 10,
   "metadata": {},
   "outputs": [
    {
     "data": {
      "text/plain": [
       "({'Aeneid': 0.0,\n",
       "  'Alice': 0.75419776119402981,\n",
       "  'AnaK': 0.0,\n",
       "  'Bandamanna': 0.0,\n",
       "  'Beowulf': 0.0,\n",
       "  'Catch22': 0.0,\n",
       "  'Dune': 1.0,\n",
       "  'Gilgamesh': 0.0,\n",
       "  'Hamlet': 0.0,\n",
       "  'HarryPotter': 0.0,\n",
       "  'MobyDick': 0.0,\n",
       "  'Narnia': 0.0,\n",
       "  'OBrother': 0.0,\n",
       "  'Odyssey': 0.0,\n",
       "  'Othello': 0.66015352407536632,\n",
       "  'Oz': 0.0,\n",
       "  'ScoobyDoo': 0.0,\n",
       "  'Sopranos': 0.0,\n",
       "  'StarTrek': 0.0,\n",
       "  'Ulysses': 0.0},\n",
       " {'Aeneid': 0.0,\n",
       "  'Alice': 0.69176470588235295,\n",
       "  'AnaK': 0.0,\n",
       "  'Bandamanna': 0.0,\n",
       "  'Beowulf': 0.0,\n",
       "  'Catch22': 0.0,\n",
       "  'Dune': 0.99765380604796661,\n",
       "  'Gilgamesh': 0.0,\n",
       "  'Hamlet': 0.0,\n",
       "  'HarryPotter': 0.0,\n",
       "  'MobyDick': 0.0,\n",
       "  'Narnia': 0.0,\n",
       "  'OBrother': 0.0,\n",
       "  'Odyssey': 0.0,\n",
       "  'Othello': 0.55830941821027913,\n",
       "  'Oz': 0.0,\n",
       "  'ScoobyDoo': 0.0,\n",
       "  'Sopranos': 0.034680573663624509,\n",
       "  'StarTrek': 0.0,\n",
       "  'Ulysses': 0.0})"
      ]
     },
     "execution_count": 10,
     "metadata": {},
     "output_type": "execute_result"
    }
   ],
   "source": [
    "nametofrac_environs = {}\n",
    "nametofrac_1deg = {}\n",
    "for host in hostlst:\n",
    "    cen = host.coords\n",
    "    rad = host.environsarcmin*u.arcmin\n",
    "    \n",
    "    host_pix = query_disc_astropy(cen, rad)\n",
    "    nametofrac_environs[host.name]= np.sum(hscmap[host_pix])/len(host_pix)\n",
    "    \n",
    "    host_pix = query_disc_astropy(cen, 1*u.deg)\n",
    "    nametofrac_1deg[host.name]= np.sum(hscmap[host_pix])/len(host_pix)\n",
    "nametofrac_environs, nametofrac_1deg"
   ]
  },
  {
   "cell_type": "code",
   "execution_count": 11,
   "metadata": {},
   "outputs": [
    {
     "name": "stdout",
     "output_type": "stream",
     "text": [
      "Alice\n",
      "0.754197761194\n",
      "<SkyCoord (ICRS): (ra, dec) in deg\n",
      "    (180.09842901, -1.10007802)>\n",
      "http://legacysurvey.org/viewer-dev?zoom=10&ra=180.09842901&dec=-1.10007802185\n",
      "\n",
      "Dune\n",
      "1.0\n",
      "<SkyCoord (ICRS): (ra, dec) in deg\n",
      "    (221.54636342, -0.22294192)>\n",
      "http://legacysurvey.org/viewer-dev?zoom=10&ra=221.546363418&dec=-0.222941918742\n",
      "\n",
      "Othello\n",
      "0.660153524075\n",
      "<SkyCoord (ICRS): (ra, dec) in deg\n",
      "    (224.59449022, -1.0910162)>\n",
      "http://legacysurvey.org/viewer-dev?zoom=10&ra=224.594490222&dec=-1.09101619717\n",
      "\n"
     ]
    }
   ],
   "source": [
    "for hnm, frac in nametofrac_environs.items():\n",
    "    if frac>0:\n",
    "        print(hnm)\n",
    "        print(frac)\n",
    "        print(hostdct[hnm].coords)\n",
    "        print('http://legacysurvey.org/viewer-dev?zoom=10&ra={0.ra.value}&dec={0.dec.value}'.format(hostdct[hnm].coords))\n",
    "        print('')"
   ]
  },
  {
   "cell_type": "code",
   "execution_count": 71,
   "metadata": {},
   "outputs": [
    {
     "data": {
      "image/png": "[encoded data removed]",
      "text/plain": [
       "<matplotlib.figure.Figure at 0x135393bd0>"
      ]
     },
     "metadata": {},
     "output_type": "display_data"
    }
   ],
   "source": [
    "healpy.cartview(hscmap)\n",
    "\n",
    "ras = np.array([h.coords.ra.wrap_at(180*u.deg).degree for h in hostlst])\n",
    "decs = np.array([h.coords.dec.degree for h in hostlst])\n",
    "overlap = np.array([nametofrac_environs[h.name]>0 for h in hostlst])\n",
    "\n",
    "plt.gcf().axes[0].scatter(ras[overlap], decs[overlap], c='w', lw=0, s=30)\n",
    "plt.gcf().axes[0].scatter(ras[~overlap], decs[~overlap], c='k', lw=0, s=30);"
   ]
  },
  {
   "cell_type": "code",
   "execution_count": 74,
   "metadata": {},
   "outputs": [
    {
     "data": {
      "image/png": "[encoded data removed]",
      "text/plain": [
       "<matplotlib.figure.Figure at 0x155c91190>"
      ]
     },
     "metadata": {},
     "output_type": "display_data"
    }
   ],
   "source": [
    "healpy.cartview(hscmap)\n",
    "\n",
    "ras = np.array([h.coords.ra.wrap_at(180*u.deg).degree for h in hostlst])\n",
    "decs = np.array([h.coords.dec.degree for h in hostlst])\n",
    "overlap = np.array([nametofrac_environs[h.name]>0 for h in hostlst])\n",
    "\n",
    "plt.gcf().axes[0].scatter(ras[overlap], decs[overlap], c='w', lw=0, s=50)\n",
    "plt.gcf().axes[0].scatter(ras[~overlap], decs[~overlap], c='k', lw=0, s=50)\n",
    "\n",
    "plt.xlim(-180,-90)\n",
    "plt.ylim(-20,20);"
   ]
  },
  {
   "cell_type": "code",
   "execution_count": 81,
   "metadata": {},
   "outputs": [
    {
     "name": "stdout",
     "output_type": "stream",
     "text": [
      "12:00:23.623 -01:06:00.2809\n",
      "14:46:11.1272 -00:13:22.5909\n",
      "14:58:22.6777 -01:05:27.6583\n"
     ]
    }
   ],
   "source": [
    "for h in hostlst:\n",
    "    if nametofrac_environs[h.name]>0:\n",
    "        print(h.coords.to_string('hmsdms', sep=':'))"
   ]
  },
  {
   "cell_type": "markdown",
   "metadata": {},
   "source": [
    "Visual inspection with HSCmap reveals...  only Alice *actually* overlaps!  These must be the tracts, not the actual imaging"
   ]
  }
 ],
 "metadata": {
  "anaconda-cloud": {},
  "kernelspec": {
   "display_name": "Python [conda env:saga]",
   "language": "python",
   "name": "conda-env-saga-py"
  },
  "language_info": {
   "codemirror_mode": {
    "name": "ipython",
    "version": 2
   },
   "file_extension": ".py",
   "mimetype": "text/x-python",
   "name": "python",
   "nbconvert_exporter": "python",
   "pygments_lexer": "ipython2",
   "version": "2.7.12"
  }
 },
 "nbformat": 4,
 "nbformat_minor": 1
}
