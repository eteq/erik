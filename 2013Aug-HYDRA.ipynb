{
 "metadata": {
  "name": "2013Aug-HYDRA"
 },
 "nbformat": 3,
 "nbformat_minor": 0,
 "worksheets": [
  {
   "cells": [
    {
     "cell_type": "raw",
     "metadata": {},
     "source": [
      "For this run (Aug 29-Sep 3,2013) we are trying to finish the Odyssey and get a good chunk of the Illiad.  So we will use catalogs already-generated for the previous hectospec and IMACS runs.\n",
      "\n",
      "Rough night plan (via Marla):\n",
      "Odyssey:   16:32:20.   +19:49:36        (NGC 6181)\n",
      "Iliad:          22:51:38     -05:33:26       (NGC 7393)\n",
      "LOTR          02:21:00    -05:31:00        (NCG 895)\n",
      "\n",
      "Hand over @ 12:30am\n",
      "\n",
      "HALF NIGHTS\n",
      "8-9:30pm   odyssey\n",
      "9:30-11pm  iliad 1\n",
      "11-12:30    iliad 2\n",
      "\n",
      "WHOLE NIGHT\n",
      "12:30-2am iliad3\n",
      "2-3:30        LOTR1\n",
      "3:30-5am   LOTR2\n",
      "\n",
      "(1hr exp, r = 19.5?)\n",
      "Odyssey   6 pointings\n",
      "Iliad        14 pointing\n",
      "LOTR        4 pointings (2 extra in case)"
     ]
    },
    {
     "cell_type": "code",
     "collapsed": false,
     "input": [
      "import wiyn\n",
      "import mmthecto\n",
      "import targeting\n",
      "import hosts\n",
      "\n",
      "from astropy import coordinates as coords\n",
      "from astropy import units as u\n",
      "from astropy.io import ascii"
     ],
     "language": "python",
     "metadata": {},
     "outputs": [],
     "prompt_number": 51
    },
    {
     "cell_type": "code",
     "collapsed": false,
     "input": [
      "reload(wiyn)\n",
      "reload(mmthecto)\n",
      "reload(targeting)\n",
      "reload(hosts)"
     ],
     "language": "python",
     "metadata": {},
     "outputs": [
      {
       "output_type": "pyout",
       "prompt_number": 173,
       "text": [
        "<module 'hosts' from 'hosts.py'>"
       ]
      }
     ],
     "prompt_number": 173
    },
    {
     "cell_type": "code",
     "collapsed": false,
     "input": [
      "#collect all the SDSS objids \n",
      "fns = !ls mmthecto/configs_observed/NSA147100_*_cat\n",
      "cats = [ascii.read(fn,names='idx,ra,dec,mag,fiber?,code,name'.split(',')) for fn in fns]\n",
      "#now pick just pull in all the IDs\n",
      "observedids = []\n",
      "for i, cat in enumerate(cats):\n",
      "    for nm in cat['name']:\n",
      "        nm0 = nm.split('_')[0]\n",
      "        if nm0 in ('sky', 'parked'):\n",
      "            pass#observedids.append(-1)\n",
      "        else:\n",
      "            observedids.append(int(nm0))"
     ],
     "language": "python",
     "metadata": {},
     "outputs": [],
     "prompt_number": 180
    },
    {
     "cell_type": "code",
     "collapsed": false,
     "input": [
      "fullcat = hosts.odyssey.get_sdss_catalog()"
     ],
     "language": "python",
     "metadata": {},
     "outputs": [
      {
       "output_type": "stream",
       "stream": "stdout",
       "text": [
        "try catalogs/Odysseus_sdss.dat\n",
        "try catalogs/Odyssey_sdss.dat\n",
        "try catalogs/NGC6181_sdss.dat\n",
        "try catalogs/NSA147100_sdss.dat\n",
        "Could not find file catalogs/Odysseus_sdss.dat but did find catalogs/NSA147100_sdss.dat so using that.\n"
       ]
      }
     ],
     "prompt_number": 99
    },
    {
     "cell_type": "code",
     "collapsed": false,
     "input": [
      "mmtcat = ascii.read('mmthecto/NSA147100.cat')[1:]  # remove the '---' lines and the host itself\n",
      "mmttargs = mmtcat[mmtcat['type'] == 'TARGET']\n",
      "mmtids = [-1 if nm.startswith('NSA') else int(nm.split('_')[0])  for nm in mmttargs['object']]"
     ],
     "language": "python",
     "metadata": {},
     "outputs": [],
     "prompt_number": 181
    },
    {
     "cell_type": "code",
     "collapsed": false,
     "input": [
      "mmtidsobserved = np.array([False if id_ is '' else id_ in observedids for id_ in mmtids])\n",
      "mmtidsobserved"
     ],
     "language": "python",
     "metadata": {},
     "outputs": [
      {
       "output_type": "pyout",
       "prompt_number": 182,
       "text": [
        "array([False, False, False, ..., False, False, False], dtype=bool)"
       ]
      }
     ],
     "prompt_number": 182
    },
    {
     "cell_type": "code",
     "collapsed": false,
     "input": [
      "sum(mmtidsobserved)"
     ],
     "language": "python",
     "metadata": {},
     "outputs": [
      {
       "output_type": "pyout",
       "prompt_number": 183,
       "text": [
        "3027"
       ]
      }
     ],
     "prompt_number": 183
    },
    {
     "cell_type": "code",
     "collapsed": false,
     "input": [
      "len(observedids)"
     ],
     "language": "python",
     "metadata": {},
     "outputs": [
      {
       "output_type": "pyout",
       "prompt_number": 184,
       "text": [
        "2644"
       ]
      }
     ],
     "prompt_number": 184
    },
    {
     "cell_type": "code",
     "collapsed": false,
     "input": [
      "len(np.unique(observedids))"
     ],
     "language": "python",
     "metadata": {},
     "outputs": [
      {
       "output_type": "pyout",
       "prompt_number": 185,
       "text": [
        "2552"
       ]
      }
     ],
     "prompt_number": 185
    },
    {
     "cell_type": "code",
     "collapsed": false,
     "input": [],
     "language": "python",
     "metadata": {},
     "outputs": [],
     "prompt_number": 179
    },
    {
     "cell_type": "code",
     "collapsed": false,
     "input": [],
     "language": "python",
     "metadata": {},
     "outputs": []
    }
   ],
   "metadata": {}
  }
 ]
}