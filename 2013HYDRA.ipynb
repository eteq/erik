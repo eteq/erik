{
 "metadata": {
  "name": "2013HYDRA"
 },
 "nbformat": 3,
 "nbformat_minor": 0,
 "worksheets": [
  {
   "cells": [
    {
     "cell_type": "code",
     "collapsed": false,
     "input": [
      "import wiyn\n",
      "import targeting\n",
      "import hosts\n",
      "\n",
      "for i,h in enumerate(hosts.hosts):\n",
      "    globals()['h' + str(i + 1)] = h"
     ],
     "language": "python",
     "metadata": {},
     "outputs": [
      {
       "output_type": "stream",
       "stream": "stdout",
       "text": [
        "Loading NSA from local file nsa_v0_1_2.fits\n",
        "Using cached NSA for file"
       ]
      },
      {
       "output_type": "stream",
       "stream": "stdout",
       "text": [
        " nsa_v0_1_2.fits\n",
        "Using cached NSA for file nsa_v0_1_2.fits\n",
        "Using cached NSA for file nsa_v0_1_2.fits\n",
        "Using cached NSA for file nsa_v0_1_2.fits\n",
        "Using cached NSA for file nsa_v0_1_2.fits\n"
       ]
      }
     ],
     "prompt_number": 1
    },
    {
     "cell_type": "code",
     "collapsed": false,
     "input": [
      "mpc=[h.distmpc for h in hosts.hosts]\n",
      "nh=[len(targeting.select_targets(h,faintlimit=20.4)) for h in hosts.hosts]\n",
      "print zip(mpc,nh), np.mean(nh)"
     ],
     "language": "python",
     "metadata": {},
     "outputs": [
      {
       "output_type": "stream",
       "stream": "stdout",
       "text": [
        "Host not in GAMA area - not looking at GAMA\n",
        "Host not in GAMA area - not looking at GAMA\n",
        "Host not in GAMA area - not looking at GAMA"
       ]
      },
      {
       "output_type": "stream",
       "stream": "stdout",
       "text": [
        "\n",
        "Host not in GAMA area - not looking at GAMA\n",
        "Host not in GAMA area - not looking at GAMA"
       ]
      },
      {
       "output_type": "stream",
       "stream": "stdout",
       "text": [
        "\n",
        "[(54.221157011803982, 473), (56.720570877077982, 343), (41.388731276555042, 1272), (60.270449694822453, 270), (27.566698604587604, 1713), (22.989810739666076, 2172)]"
       ]
      },
      {
       "output_type": "stream",
       "stream": "stdout",
       "text": [
        " 1040.5\n"
       ]
      }
     ],
     "prompt_number": 23
    },
    {
     "cell_type": "code",
     "collapsed": false,
     "input": [],
     "language": "python",
     "metadata": {},
     "outputs": []
    }
   ],
   "metadata": {}
  }
 ]
}