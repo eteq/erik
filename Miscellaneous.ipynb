{
 "metadata": {
  "name": "Miscellaneous"
 },
 "nbformat": 3,
 "nbformat_minor": 0,
 "worksheets": [
  {
   "cells": [
    {
     "cell_type": "code",
     "collapsed": false,
     "input": [
      "for module in ['hosts', 'targeting', 'mmthecto']:\n",
      "    if module in globals():\n",
      "        reload(globals()[module])\n",
      "    else:\n",
      "        globals()[module] = __import__(module)\n",
      "g = targeting.get_gama() #re-caches the gama catalo"
     ],
     "language": "python",
     "metadata": {},
     "outputs": [
      {
       "output_type": "stream",
       "stream": "stdout",
       "text": [
        "Downloading GAMA from http://www.gama-survey.org/dr1/data/GamaCoreDR1_v1.csv.gz to catalogs/GamaCoreDR1_v1.csv.gz\n",
        "Size: 23164.2207031 kB\n"
       ]
      },
      {
       "output_type": "stream",
       "stream": "stdout",
       "text": [
        "\r",
        "1.0%"
       ]
      },
      {
       "output_type": "stream",
       "stream": "stdout",
       "text": [
        "\r",
        "2.0%"
       ]
      },
      {
       "output_type": "stream",
       "stream": "stdout",
       "text": [
        "\r",
        "3.0%"
       ]
      },
      {
       "output_type": "stream",
       "stream": "stdout",
       "text": [
        "\r",
        "4.0%"
       ]
      },
      {
       "output_type": "stream",
       "stream": "stdout",
       "text": [
        "\r",
        "5.0%"
       ]
      },
      {
       "output_type": "stream",
       "stream": "stdout",
       "text": [
        "\r",
        "6.0%"
       ]
      },
      {
       "output_type": "stream",
       "stream": "stdout",
       "text": [
        "\r",
        "7.0%"
       ]
      },
      {
       "output_type": "stream",
       "stream": "stdout",
       "text": [
        "\r",
        "8.0%"
       ]
      },
      {
       "output_type": "stream",
       "stream": "stdout",
       "text": [
        "\r",
        "9.0%"
       ]
      },
      {
       "output_type": "stream",
       "stream": "stdout",
       "text": [
        "\r",
        "10.0%"
       ]
      },
      {
       "output_type": "stream",
       "stream": "stdout",
       "text": [
        "\r",
        "11.0%"
       ]
      },
      {
       "output_type": "stream",
       "stream": "stdout",
       "text": [
        "\r",
        "12.0%"
       ]
      },
      {
       "output_type": "stream",
       "stream": "stdout",
       "text": [
        "\r",
        "13.0%"
       ]
      },
      {
       "output_type": "stream",
       "stream": "stdout",
       "text": [
        "\r",
        "14.0%"
       ]
      },
      {
       "output_type": "stream",
       "stream": "stdout",
       "text": [
        "\r",
        "15.0%"
       ]
      },
      {
       "output_type": "stream",
       "stream": "stdout",
       "text": [
        "\r",
        "16.0%"
       ]
      },
      {
       "output_type": "stream",
       "stream": "stdout",
       "text": [
        "\r",
        "17.0%"
       ]
      },
      {
       "output_type": "stream",
       "stream": "stdout",
       "text": [
        "\r",
        "18.0%"
       ]
      },
      {
       "output_type": "stream",
       "stream": "stdout",
       "text": [
        "\r",
        "19.0%"
       ]
      },
      {
       "output_type": "stream",
       "stream": "stdout",
       "text": [
        "\r",
        "20.0%"
       ]
      },
      {
       "output_type": "stream",
       "stream": "stdout",
       "text": [
        "\r",
        "21.0%"
       ]
      },
      {
       "output_type": "stream",
       "stream": "stdout",
       "text": [
        "\r",
        "22.0%"
       ]
      },
      {
       "output_type": "stream",
       "stream": "stdout",
       "text": [
        "\r",
        "23.0%"
       ]
      },
      {
       "output_type": "stream",
       "stream": "stdout",
       "text": [
        "\r",
        "24.0%"
       ]
      },
      {
       "output_type": "stream",
       "stream": "stdout",
       "text": [
        "\r",
        "25.0%"
       ]
      },
      {
       "output_type": "stream",
       "stream": "stdout",
       "text": [
        "\r",
        "26.0%"
       ]
      },
      {
       "output_type": "stream",
       "stream": "stdout",
       "text": [
        "\r",
        "27.0%"
       ]
      },
      {
       "output_type": "stream",
       "stream": "stdout",
       "text": [
        "\r",
        "28.0%"
       ]
      },
      {
       "output_type": "stream",
       "stream": "stdout",
       "text": [
        "\r",
        "29.0%"
       ]
      },
      {
       "output_type": "stream",
       "stream": "stdout",
       "text": [
        "\r",
        "30.0%"
       ]
      },
      {
       "output_type": "stream",
       "stream": "stdout",
       "text": [
        "\r",
        "31.0%"
       ]
      },
      {
       "output_type": "stream",
       "stream": "stdout",
       "text": [
        "\r",
        "32.0%"
       ]
      },
      {
       "output_type": "stream",
       "stream": "stdout",
       "text": [
        "\r",
        "33.0%"
       ]
      },
      {
       "output_type": "stream",
       "stream": "stdout",
       "text": [
        "\r",
        "34.0%"
       ]
      },
      {
       "output_type": "stream",
       "stream": "stdout",
       "text": [
        "\r",
        "35.0%"
       ]
      },
      {
       "output_type": "stream",
       "stream": "stdout",
       "text": [
        "\r",
        "36.0%"
       ]
      },
      {
       "output_type": "stream",
       "stream": "stdout",
       "text": [
        "\r",
        "37.0%"
       ]
      },
      {
       "output_type": "stream",
       "stream": "stdout",
       "text": [
        "\r",
        "38.0%"
       ]
      },
      {
       "output_type": "stream",
       "stream": "stdout",
       "text": [
        "\r",
        "39.0%"
       ]
      },
      {
       "output_type": "stream",
       "stream": "stdout",
       "text": [
        "\r",
        "40.0%"
       ]
      },
      {
       "output_type": "stream",
       "stream": "stdout",
       "text": [
        "\r",
        "41.0%"
       ]
      },
      {
       "output_type": "stream",
       "stream": "stdout",
       "text": [
        "\r",
        "42.0%"
       ]
      },
      {
       "output_type": "stream",
       "stream": "stdout",
       "text": [
        "\r",
        "43.0%"
       ]
      },
      {
       "output_type": "stream",
       "stream": "stdout",
       "text": [
        "\r",
        "44.0%"
       ]
      },
      {
       "output_type": "stream",
       "stream": "stdout",
       "text": [
        "\r",
        "45.0%"
       ]
      },
      {
       "output_type": "stream",
       "stream": "stdout",
       "text": [
        "\r",
        "46.0%"
       ]
      },
      {
       "output_type": "stream",
       "stream": "stdout",
       "text": [
        "\r",
        "47.0%"
       ]
      },
      {
       "output_type": "stream",
       "stream": "stdout",
       "text": [
        "\r",
        "48.0%"
       ]
      },
      {
       "output_type": "stream",
       "stream": "stdout",
       "text": [
        "\r",
        "49.0%"
       ]
      },
      {
       "output_type": "stream",
       "stream": "stdout",
       "text": [
        "\r",
        "50.0%"
       ]
      },
      {
       "output_type": "stream",
       "stream": "stdout",
       "text": [
        "\r",
        "51.0%"
       ]
      },
      {
       "output_type": "stream",
       "stream": "stdout",
       "text": [
        "\r",
        "52.0%"
       ]
      },
      {
       "output_type": "stream",
       "stream": "stdout",
       "text": [
        "\r",
        "53.0%"
       ]
      },
      {
       "output_type": "stream",
       "stream": "stdout",
       "text": [
        "\r",
        "54.0%"
       ]
      },
      {
       "output_type": "stream",
       "stream": "stdout",
       "text": [
        "\r",
        "55.0%"
       ]
      },
      {
       "output_type": "stream",
       "stream": "stdout",
       "text": [
        "\r",
        "56.0%"
       ]
      },
      {
       "output_type": "stream",
       "stream": "stdout",
       "text": [
        "\r",
        "57.0%"
       ]
      },
      {
       "output_type": "stream",
       "stream": "stdout",
       "text": [
        "\r",
        "58.0%"
       ]
      },
      {
       "output_type": "stream",
       "stream": "stdout",
       "text": [
        "\r",
        "59.0%"
       ]
      },
      {
       "output_type": "stream",
       "stream": "stdout",
       "text": [
        "\r",
        "60.0%"
       ]
      },
      {
       "output_type": "stream",
       "stream": "stdout",
       "text": [
        "\r",
        "61.0%"
       ]
      },
      {
       "output_type": "stream",
       "stream": "stdout",
       "text": [
        "\r",
        "62.0%"
       ]
      },
      {
       "output_type": "stream",
       "stream": "stdout",
       "text": [
        "\r",
        "63.0%"
       ]
      },
      {
       "output_type": "stream",
       "stream": "stdout",
       "text": [
        "\r",
        "64.0%"
       ]
      },
      {
       "output_type": "stream",
       "stream": "stdout",
       "text": [
        "\r",
        "65.0%"
       ]
      },
      {
       "output_type": "stream",
       "stream": "stdout",
       "text": [
        "\r",
        "66.0%"
       ]
      },
      {
       "output_type": "stream",
       "stream": "stdout",
       "text": [
        "\r",
        "67.0%"
       ]
      },
      {
       "output_type": "stream",
       "stream": "stdout",
       "text": [
        "\r",
        "68.0%"
       ]
      },
      {
       "output_type": "stream",
       "stream": "stdout",
       "text": [
        "\r",
        "69.0%"
       ]
      },
      {
       "output_type": "stream",
       "stream": "stdout",
       "text": [
        "\r",
        "70.0%"
       ]
      },
      {
       "output_type": "stream",
       "stream": "stdout",
       "text": [
        "\r",
        "71.0%"
       ]
      },
      {
       "output_type": "stream",
       "stream": "stdout",
       "text": [
        "\r",
        "72.0%"
       ]
      },
      {
       "output_type": "stream",
       "stream": "stdout",
       "text": [
        "\r",
        "73.0%"
       ]
      },
      {
       "output_type": "stream",
       "stream": "stdout",
       "text": [
        "\r",
        "74.0%"
       ]
      },
      {
       "output_type": "stream",
       "stream": "stdout",
       "text": [
        "\r",
        "75.0%"
       ]
      },
      {
       "output_type": "stream",
       "stream": "stdout",
       "text": [
        "\r",
        "76.0%"
       ]
      },
      {
       "output_type": "stream",
       "stream": "stdout",
       "text": [
        "\r",
        "77.0%"
       ]
      },
      {
       "output_type": "stream",
       "stream": "stdout",
       "text": [
        "\r",
        "78.0%"
       ]
      },
      {
       "output_type": "stream",
       "stream": "stdout",
       "text": [
        "\r",
        "79.0%"
       ]
      },
      {
       "output_type": "stream",
       "stream": "stdout",
       "text": [
        "\r",
        "80.0%"
       ]
      },
      {
       "output_type": "stream",
       "stream": "stdout",
       "text": [
        "\r",
        "81.0%"
       ]
      },
      {
       "output_type": "stream",
       "stream": "stdout",
       "text": [
        "\r",
        "82.0%"
       ]
      },
      {
       "output_type": "stream",
       "stream": "stdout",
       "text": [
        "\r",
        "83.0%"
       ]
      },
      {
       "output_type": "stream",
       "stream": "stdout",
       "text": [
        "\r",
        "84.0%"
       ]
      },
      {
       "output_type": "stream",
       "stream": "stdout",
       "text": [
        "\r",
        "85.0%"
       ]
      },
      {
       "output_type": "stream",
       "stream": "stdout",
       "text": [
        "\r",
        "86.0%"
       ]
      },
      {
       "output_type": "stream",
       "stream": "stdout",
       "text": [
        "\r",
        "87.0%"
       ]
      },
      {
       "output_type": "stream",
       "stream": "stdout",
       "text": [
        "\r",
        "88.0%"
       ]
      },
      {
       "output_type": "stream",
       "stream": "stdout",
       "text": [
        "\r",
        "89.0%"
       ]
      },
      {
       "output_type": "stream",
       "stream": "stdout",
       "text": [
        "\r",
        "90.0%"
       ]
      },
      {
       "output_type": "stream",
       "stream": "stdout",
       "text": [
        "\r",
        "91.0%"
       ]
      },
      {
       "output_type": "stream",
       "stream": "stdout",
       "text": [
        "\r",
        "92.0%"
       ]
      },
      {
       "output_type": "stream",
       "stream": "stdout",
       "text": [
        "\r",
        "93.0%"
       ]
      },
      {
       "output_type": "stream",
       "stream": "stdout",
       "text": [
        "\r",
        "94.0%"
       ]
      },
      {
       "output_type": "stream",
       "stream": "stdout",
       "text": [
        "\r",
        "95.0%"
       ]
      },
      {
       "output_type": "stream",
       "stream": "stdout",
       "text": [
        "\r",
        "96.0%"
       ]
      },
      {
       "output_type": "stream",
       "stream": "stdout",
       "text": [
        "\r",
        "97.0%"
       ]
      },
      {
       "output_type": "stream",
       "stream": "stdout",
       "text": [
        "\r",
        "98.0%"
       ]
      },
      {
       "output_type": "stream",
       "stream": "stdout",
       "text": [
        "\r",
        "99.0%"
       ]
      },
      {
       "output_type": "stream",
       "stream": "stdout",
       "text": [
        "\r",
        "100.0%"
       ]
      },
      {
       "output_type": "stream",
       "stream": "stdout",
       "text": [
        "\n"
       ]
      }
     ],
     "prompt_number": 1
    },
    {
     "cell_type": "code",
     "collapsed": false,
     "input": [
      "hostd=hosts.load_all_hosts()"
     ],
     "language": "python",
     "metadata": {},
     "outputs": [],
     "prompt_number": 2
    },
    {
     "cell_type": "code",
     "collapsed": false,
     "input": [
      "tab = table.Table()\n",
      "tab.add_column(table.Column(name='nsaid', data=[h.nsaid for h in hostd.values()]))\n",
      "tab.add_column(table.Column(name='ra', data=[h.ra for h in hostd.values()]))\n",
      "tab.add_column(table.Column(name='dec', data=[h.dec for h in hostd.values()]))\n",
      "tab.add_column(table.Column(name='distmpcoh', data=[h.distmpc * .704 for h in hostd.values()]))\n",
      "tab.add_column(table.Column(name='arcmin300kpc', data=[h.physical_to_projected(300) for h in hostd.values()]))"
     ],
     "language": "python",
     "metadata": {},
     "outputs": [],
     "prompt_number": 16
    },
    {
     "cell_type": "code",
     "collapsed": false,
     "input": [
      "tab.write('hoststab.dat',format='ascii')\n",
      "tab"
     ],
     "language": "python",
     "metadata": {},
     "outputs": [
      {
       "html": [
        "<table><tr><th>nsaid</th><th>ra</th><th>dec</th><th>distmpcoh</th><th>arcmin300kpc</th></tr><tr><td>131295</td><td>32.2447161027</td><td>-7.05892620455</td><td>38.7518889716</td><td>18.7359155194</td></tr><tr><td>23274</td><td>32.4108133056</td><td>-10.1461685601</td><td>37.6430311761</td><td>19.28782288</td></tr><tr><td>146210</td><td>232.692190849</td><td>-2.82949457688</td><td>26.1705738969</td><td>27.7430720798</td></tr><tr><td>127226</td><td>8.69484030832</td><td>-8.39644492274</td><td>15.1235299598</td><td>48.0081118574</td></tr><tr><td>5916</td><td>10.866033784</td><td>-0.124941003665</td><td>41.1549358862</td><td>17.6419207649</td></tr><tr><td>166313</td><td>234.132011282</td><td>16.6077737961</td><td>19.5236956868</td><td>37.1882521443</td></tr><tr><td>126157</td><td>1.27242867652</td><td>-7.09338081044</td><td>38.3266822075</td><td>18.9437769244</td></tr><tr><td>129387</td><td>21.0162754036</td><td>12.9174623621</td><td>26.0599392912</td><td>27.8608522405</td></tr><tr><td>129431</td><td>21.1388678889</td><td>3.80066383815</td><td>21.2420153394</td><td>34.180001586</td></tr><tr><td>127782</td><td>12.3589675368</td><td>-1.77123276598</td><td>38.6738999001</td><td>18.7736980202</td></tr><tr><td>129140</td><td>19.9983213101</td><td>14.7862268312</td><td>40.196965498</td><td>18.0623613995</td></tr><tr><td>...</td><td>...</td><td>...</td><td>...</td><td>...</td></tr><tr><td>132273</td><td>38.7920354421</td><td>20.8513793149</td><td>42.3641061493</td><td>17.1383792551</td></tr><tr><td>155204</td><td>41.6414475364</td><td>-0.24713745138</td><td>26.9077083024</td><td>26.9830529539</td></tr><tr><td>133120</td><td>45.9956627639</td><td>43.3984296402</td><td>29.1376668187</td><td>24.9179909465</td></tr><tr><td>133355</td><td>50.5273286228</td><td>-15.3999287657</td><td>21.8583046556</td><td>33.2163051724</td></tr><tr><td>155576</td><td>52.5552726224</td><td>-5.54331607279</td><td>38.059802122</td><td>19.0766130539</td></tr><tr><td>133810</td><td>67.076919548</td><td>-5.1787715439</td><td>41.8753417868</td><td>17.3384165241</td></tr><tr><td>134212</td><td>82.0082992538</td><td>-5.3107402958</td><td>27.1217200443</td><td>26.7701354046</td></tr><tr><td>148472</td><td>284.901172418</td><td>19.424307156</td><td>31.6803845326</td><td>22.9180336256</td></tr><tr><td>147103</td><td>248.163056967</td><td>78.1982380787</td><td>16.8912061185</td><td>42.9840304415</td></tr><tr><td>53553</td><td>224.278285736</td><td>49.6690111414</td><td>40.0832657427</td><td>18.1135968973</td></tr><tr><td>165952</td><td>227.304878898</td><td>52.5285192036</td><td>34.2743860173</td><td>21.1835193087</td></tr></table>"
       ],
       "output_type": "pyout",
       "prompt_number": 28,
       "text": [
        "<Table rows=67 names=('nsaid','ra','dec','distmpcoh','arcmin300kpc')>\n",
        "array([ (131295, 32.244716102653754, -7.058926204545068, 38.75188897159183, 18.73591551942235),\n",
        "       (23274, 32.410813305639174, -10.146168560091775, 37.64303117612514, 19.287822879956416),\n",
        "       (146210, 232.69219084902602, -2.8294945768813164, 26.170573896872206, 27.743072079766417),\n",
        "       (127226, 8.69484030832446, -8.396444922742297, 15.123529959822347, 48.008111857392585),\n",
        "       (5916, 10.866033783954487, -0.12494100366458162, 41.15493588615999, 17.641920764938998),\n",
        "       (166313, 234.13201128189172, 16.607773796114294, 19.523695686825615, 37.188252144275715),\n",
        "       (126157, 1.2724286765171855, -7.093380810436377, 38.326682207461566, 18.9437769243806),\n",
        "       (129387, 21.016275403629095, 12.917462362059318, 26.059939291249652, 27.860852240495106),\n",
        "       (129431, 21.13886788890901, 3.8006638381532287, 21.24201533940625, 34.18000158595467),\n",
        "       (127782, 12.35896753681337, -1.7712327659778695, 38.673899900142345, 18.773698020227506),\n",
        "       (129140, 19.998321310087476, 14.786226831189444, 40.1969654979831, 18.062361399549154),\n",
        "       (145188, 217.60629900536506, 35.321012385157296, 30.733607753903556, 23.624044524924393),\n",
        "       (165091, 217.45757481719448, 49.62264836380326, 24.292199574060454, 29.888282276631205),\n",
        "       (144045, 208.5011004550927, -7.930664736441532, 26.723744730632337, 27.168801577330417),\n",
        "       (143975, 208.02460973840638, -6.05826123310963, 29.111891030251776, 24.940053438483204),\n",
        "       (56408, 207.26895623942872, 39.497651243509004, 24.353329320085773, 29.813259141983384),\n",
        "       (142728, 194.86856920944638, 28.085404827589855, 41.8838038983806, 17.334913508604487),\n",
        "       (142509, 193.66923774986822, 28.938659048093044, 25.415754396401532, 28.56701031438109),\n",
        "       (141565, 187.8422940421747, 57.96464151798525, 31.63474394906658, 22.951098297452862),\n",
        "       (150238, 342.90872688629105, -5.557429828420721, 37.67122485681007, 19.27338759887777),\n",
        "       (149889, 337.8867893435933, 30.95592064708484, 38.27486167197647, 18.969425003078968),\n",
        "       (169169, 350.9749765375252, 9.667193816697047, 35.026738575845094, 20.72851048971126),\n",
        "       (150440, 345.0149953837467, 15.980232808317528, 21.270753355555115, 34.1338224299499),\n",
        "       (25728, 353.10177824139845, 15.847886420355731, 40.269247339273335, 18.02994011466619),\n",
        "       (151537, 351.66573267017606, 25.08025222112999, 34.40971526949031, 21.100207086965924),\n",
        "       (165440, 220.63850429012874, 28.72644861650298, 36.397386665077704, 19.947918917112975),\n",
        "       (56725, 219.31123594572733, 38.45426641592767, 34.53491460252187, 21.02371256295969),\n",
        "       (139467, 172.0459280147085, 25.661164506455204, 27.852723355038254, 26.06754494829118),\n",
        "       (159789, 171.26023252401745, -9.795347707910624, 19.406955817629672, 37.411952951952344),\n",
        "       (138634, 165.74859279874067, -16.28933830817251, 40.98420532873048, 17.715412856396334),\n",
        "       (158901, 163.01612895042427, 10.1483165697808, 27.796347745691044, 26.120414258464255),\n",
        "       (159593, 169.58886384072844, 45.748192172576275, 25.170055527240926, 28.84586874287945),\n",
        "       (41075, 167.7369894558307, 53.38783391173568, 29.686210484483308, 24.457554741427153),\n",
        "       (156839, 130.0945996195054, 23.53967095600211, 38.91715765253415, 18.656350098129565),\n",
        "       (64342, 125.68737350105958, 24.29696586058808, 41.66408879822087, 17.426328978561095),\n",
        "       (32, 145.5136903768241, 0.336451585095572, 20.9367365676545, 34.678380541476976),\n",
        "       (156881, 131.49809689324655, 12.619871775393978, 42.430396585155, 17.111603388684816),\n",
        "       (169528, 356.08815425016553, 9.93412285388707, 15.453184518338661, 46.983980365222195),\n",
        "       (166440, 236.74536511082692, 17.884172049123766, 32.46506010114459, 22.364108235985718),\n",
        "       (151874, 353.1278354502146, 14.815838456312695, 40.15270713755144, 18.08227065494082),\n",
        "       (140259, 176.89320631211277, 55.96731280931089, 26.24704730509113, 27.662239853126156),\n",
        "       (160608, 177.3281668505317, 26.121578260330647, 39.04799561933969, 18.593838338533825),\n",
        "       (37217, 172.13854459531348, 58.56192887301035, 32.14952497106364, 22.583603292529716),\n",
        "       (160084, 173.4188582164173, 61.88807459035639, 33.702947262035046, 21.54268919999309),\n",
        "       (140895, 182.9713362784537, 24.125080801849943, 26.33082674280185, 27.574224124514533),\n",
        "       (169846, 183.4469431612262, 13.424830535385006, 22.166304538132636, 32.75476598910538),\n",
        "       (102480, 179.6902928374158, 27.452433881702955, 36.170534079089876, 20.07302729902207),\n",
        "       (48849, 182.04011876737633, 10.378932132114167, 18.002192100020416, 40.33131709493067),\n",
        "       (161509, 184.98365460573697, 5.343339546748546, 24.426369130042026, 29.724111435653636),\n",
        "       (161726, 186.4283727289596, 0.5726510791229632, 22.170483522940174, 32.748591939301676),\n",
        "       (168145, 328.64012211151146, 2.9431473811105757, 38.02437022317711, 19.094389038617827),\n",
        "       (149454, 329.1010522360914, 73.26060769770048, 17.60700978244904, 41.236537433716876),\n",
        "       (76316, 119.25776082766166, 49.56744039518594, 38.17169453631, 19.020693914941024),\n",
        "       (134821, 121.02443222185137, 5.113825298442297, 41.798653755232216, 17.370227334149355),\n",
        "       (147100, 248.08729887487408, 19.826429935613607, 23.94043686186384, 30.327438140711255),\n",
        "       (155005, 35.401993716843634, -5.521270554434643, 22.133114481792923, 32.80388390829687),\n",
        "       (132273, 38.792035442117516, 20.851379314918734, 42.36410614927511, 17.138379255104443),\n",
        "       (155204, 41.641447536432004, -0.24713745138021195, 26.90770830237269, 26.983052953854),\n",
        "       (133120, 45.99566276388127, 43.398429640241126, 29.137666818694747, 24.91799094647975),\n",
        "       (133355, 50.527328622782676, -15.399928765734717, 21.858304655556708, 33.21630517237785),\n",
        "       (155576, 52.55527262244984, -5.543316072788395, 38.05980212196169, 19.076613053929265),\n",
        "       (133810, 67.07691954795325, -5.178771543898251, 41.87534178676251, 17.33841652414396),\n",
        "       (134212, 82.00829925383091, -5.310740295797734, 27.121720044262364, 26.770135404571306),\n",
        "       (148472, 284.90117241823674, 19.424307156011956, 31.68038453260571, 22.918033625586844),\n",
        "       (147103, 248.16305696713204, 78.19823807865994, 16.891206118474873, 42.98403044147656),\n",
        "       (53553, 224.27828573551483, 49.66901114141002, 40.08326574271458, 18.113596897272384),\n",
        "       (165952, 227.30487889844926, 52.528519203567164, 34.274386017290084, 21.18351930866141)], \n",
        "      dtype=[('nsaid', '<i8'), ('ra', '<f8'), ('dec', '<f8'), ('distmpcoh', '<f8'), ('arcmin300kpc', '<f8')])"
       ]
      }
     ],
     "prompt_number": 28
    },
    {
     "cell_type": "code",
     "collapsed": false,
     "input": [
      "hids = np.array([h.nsaid for h in hostd.values()])\n",
      "hds = np.array([h.distmpc for h in hostd.values()])\n",
      "h300kpc = np.array([h.physical_to_projected(300) for h in hostd.values()])\n",
      "hra = np.array([h.ra for h in hostd.values()])\n",
      "hdec = np.array([h.dec for h in hostd.values()])\n",
      "scatter(hra,hdec)"
     ],
     "language": "python",
     "metadata": {},
     "outputs": [
      {
       "output_type": "pyout",
       "prompt_number": 58,
       "text": [
        "<matplotlib.collections.PathCollection at 0x1278e0390>"
       ]
      },
      {
       "output_type": "display_data",
       "png": "[encoded data removed]"
      }
     ],
     "prompt_number": 58
    },
    {
     "cell_type": "code",
     "collapsed": false,
     "input": [
      "from pyspherematch import spherematch\n",
      "degtol = 3\n",
      "losmpc = 8\n",
      "i1,i2, dd = spherematch(hra,hdec,hra,hdec,nnearest=2)\n",
      "dra = hra - hra[i2]\n",
      "ddec = hdec - hdec[i2]\n",
      "inmsk = (dd < degtol) & (np.abs(hds[i1] - hds[i2])<losmpc)\n",
      "scatter(dra[inmsk],ddec[inmsk],c='b')\n",
      "scatter(dra[~inmsk],ddec[~inmsk],c='r')\n",
      "xlim(-30,30)\n",
      "ylim(-30,30)\n",
      "print sum(inmsk),'host pairs w/i',degtol,'deg and',losmpc,'Mpc LOS sep:\\n',zip(hids[i1[inmsk]],hids[i2[inmsk]])\n",
      "print 'Corresponding LOS distances:\\n',zip(hds[i1[inmsk]],hds[i2[inmsk]])\n",
      "print 'Corresponding proj distances:\\n',dd[inmsk]\n",
      "print 'Corresponding arcmin 300 kpc:\\n',zip(h300kpc[i1[inmsk]],h300kpc[i2[inmsk]])"
     ],
     "language": "python",
     "metadata": {},
     "outputs": [
      {
       "output_type": "stream",
       "stream": "stdout",
       "text": [
        "8 host pairs w/i 3 deg and 8 Mpc LOS sep:\n",
        "[(5916, 127782), (127782, 5916), (144045, 143975), (143975, 144045), (25728, 151874), (151874, 25728), (160608, 102480), (102480, 160608)]\n",
        "Corresponding LOS distances:\n",
        "[(58.45871574738635, 54.934516903611289), (54.934516903611289, 58.45871574738635), (37.959864674193661, 41.352117940698548), (41.352117940698548, 37.959864674193661), (57.200635425104174, 57.035095365840114), (57.035095365840114, 57.200635425104174), (55.46590286838024, 51.378599544161759), (51.378599544161759, 55.46590286838024)]\n",
        "Corresponding proj distances:\n",
        "[ 2.22224302  2.22224302  1.93120446  1.93120446  1.03235386  1.03235386\n",
        "  2.4934044   2.4934044 ]\n",
        "Corresponding arcmin 300 kpc:\n",
        "[(17.641920764938998, 18.773698020227506), (18.773698020227506, 17.641920764938998), (27.168801577330417, 24.940053438483204), (24.940053438483204, 27.168801577330417), (18.029940114666189, 18.082270654940821), (18.082270654940821, 18.029940114666189), (18.593838338533825, 20.073027299022069), (20.073027299022069, 18.593838338533825)]\n"
       ]
      },
      {
       "output_type": "display_data",
       "png": "[encoded data removed]"
      }
     ],
     "prompt_number": 77
    },
    {
     "cell_type": "code",
     "collapsed": false,
     "input": [
      "scatter(hra[inmsk]/15,hdec[inmsk])"
     ],
     "language": "python",
     "metadata": {},
     "outputs": [
      {
       "output_type": "pyout",
       "prompt_number": 80,
       "text": [
        "<matplotlib.collections.PathCollection at 0x12793d490>"
       ]
      },
      {
       "output_type": "display_data",
       "png": "[encoded data removed]"
      }
     ],
     "prompt_number": 80
    },
    {
     "cell_type": "heading",
     "level": 1,
     "metadata": {},
     "source": [
      "CFHTLS Objects"
     ]
    },
    {
     "cell_type": "code",
     "collapsed": false,
     "input": [
      "hostd = hosts.load_all_hosts(keyonname=True)\n",
      "hcfhtl1 = hostd['NSA155005']\n",
      "hcfhtl2 = hosts.NSAHost(53145)"
     ],
     "language": "python",
     "metadata": {},
     "outputs": [],
     "prompt_number": 12
    },
    {
     "cell_type": "code",
     "collapsed": false,
     "input": [
      "targs1 = targeting.select_targets(hcfhtl1, outercutrad=300)\n",
      "targs2 = targeting.select_targets(hcfhtl2, outercutrad=300)"
     ],
     "language": "python",
     "metadata": {},
     "outputs": [],
     "prompt_number": 16
    },
    {
     "cell_type": "code",
     "collapsed": false,
     "input": [
      "targs1.write('NSA%i_targets.dat' % hcfhtl1.nsaid,format='ascii')\n",
      "targs2.write('NSA%i_targets.dat' % hcfhtl2.nsaid,format='ascii')"
     ],
     "language": "python",
     "metadata": {},
     "outputs": [],
     "prompt_number": 23
    },
    {
     "cell_type": "code",
     "collapsed": false,
     "input": [],
     "language": "python",
     "metadata": {},
     "outputs": []
    }
   ],
   "metadata": {}
  }
 ]
}